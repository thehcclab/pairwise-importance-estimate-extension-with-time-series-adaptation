{
 "cells": [
  {
   "cell_type": "code",
   "execution_count": 1,
   "id": "4c9e593e",
   "metadata": {},
   "outputs": [],
   "source": [
    "import numpy as np\n",
    "from utilities.Dataset import *\n",
    "import pickle\n",
    "import sys\n",
    "from typing import List\n",
    "import torch\n",
    "import os"
   ]
  },
  {
   "cell_type": "code",
   "execution_count": 2,
   "id": "eb96ce98",
   "metadata": {},
   "outputs": [],
   "source": [
    "participant_data_path = './EEG/number'\n",
    "processed_data_path = './EEG/processed_data'\n",
    "split_data_path = './EEG/split_data'"
   ]
  },
  {
   "cell_type": "code",
   "execution_count": 3,
   "id": "62c74d3a",
   "metadata": {},
   "outputs": [],
   "source": [
    "ps = os.listdir(participant_data_path)\n",
    "participants=[]\n",
    "for p in ps:\n",
    "    p= p[:3]\n",
    "    if p not in participants:\n",
    "        participants.append(p)\n",
    "        \n",
    "participants= sorted(participants)\n",
    "# participants, len(participants)"
   ]
  },
  {
   "cell_type": "code",
   "execution_count": 4,
   "id": "28f3009e",
   "metadata": {
    "scrolled": true
   },
   "outputs": [],
   "source": [
    "load_name=f\"userfold_data_scaled_p_dictionary-number\"\n",
    "data_dir = \"./EEG/split_data/standard_scaled\"\n",
    "try:\n",
    "    raw_user_fold= pickle.load(open(os.path.join(data_dir, f\"{load_name}.pkl\"), \"rb\"))\n",
    "except:\n",
    "    print(f\"pickle file does not exist. Use EEG-Preprocess.ipynb and EEG-Split.ipynb to save data setting.\")\n",
    "    sys.exit()"
   ]
  },
  {
   "cell_type": "code",
   "execution_count": 5,
   "id": "b7f41978",
   "metadata": {},
   "outputs": [],
   "source": [
    "from utilities.userfold_framework import *\n",
    "from Models.AR_EEG_models import *\n",
    "import numpy as np\n",
    "import pandas as pd\n",
    "import matplotlib.pyplot as plt\n",
    "import seaborn as sns\n",
    "from typing import List\n",
    "\n"
   ]
  },
  {
   "cell_type": "code",
   "execution_count": null,
   "id": "082a80ac",
   "metadata": {},
   "outputs": [
    {
     "name": "stderr",
     "output_type": "stream",
     "text": [
      "\r",
      "Iterations:   0%|                                           | 0/300 [00:00<?, ?it/s]"
     ]
    },
    {
     "name": "stdout",
     "output_type": "stream",
     "text": [
      "Epoch  0 , loss 0.722334153511945\n"
     ]
    },
    {
     "name": "stderr",
     "output_type": "stream",
     "text": [
      "\r",
      "Iterations:   0%|                                   | 1/300 [00:02<14:17,  2.87s/it]"
     ]
    },
    {
     "name": "stdout",
     "output_type": "stream",
     "text": [
      "Epoch:  0\n",
      "t_loss:  0.722334153511945 , v_loss:  0.6915584206581116\n",
      "t_acc:  0.47307812013694367 , v_acc:  0.6894409937888198\n",
      "t_recall:  0.49732572981430395 , v_recall:  0.5\n",
      "t_prec:  0.49769847344474216 , v_prec:  0.3447204968944099\n",
      "t_f:  0.46364953761590655 , v_f:  0.4080882352941176\n",
      "////////\n"
     ]
    },
    {
     "name": "stderr",
     "output_type": "stream",
     "text": [
      "\r",
      "Iterations:   1%|▏                                  | 2/300 [00:03<08:17,  1.67s/it]"
     ]
    },
    {
     "name": "stdout",
     "output_type": "stream",
     "text": [
      "Epoch  1 , loss 0.6633204198351094\n",
      "Epoch  2 , loss 0.6036725044250488\n"
     ]
    },
    {
     "name": "stderr",
     "output_type": "stream",
     "text": [
      "\r",
      "Iterations:   1%|▎                                  | 3/300 [00:05<07:28,  1.51s/it]"
     ]
    },
    {
     "name": "stdout",
     "output_type": "stream",
     "text": [
      "Epoch:  2\n",
      "t_loss:  0.6036725044250488 , v_loss:  0.6817949215571085\n",
      "t_acc:  0.6346093993152817 , v_acc:  0.6894409937888198\n",
      "t_recall:  0.5073331411866431 , v_recall:  0.5\n",
      "t_prec:  0.5109124552718004 , v_prec:  0.3447204968944099\n",
      "t_f:  0.4964460784313727 , v_f:  0.4080882352941176\n",
      "////////\n"
     ]
    },
    {
     "name": "stderr",
     "output_type": "stream",
     "text": [
      "\r",
      "Iterations:   1%|▍                                  | 4/300 [00:05<06:22,  1.29s/it]"
     ]
    },
    {
     "name": "stdout",
     "output_type": "stream",
     "text": [
      "Epoch  3 , loss 0.5701308203678505\n",
      "Epoch  4 , loss 0.5348825928042916\n"
     ]
    },
    {
     "name": "stderr",
     "output_type": "stream",
     "text": [
      "\r",
      "Iterations:   2%|▌                                  | 5/300 [00:07<06:17,  1.28s/it]"
     ]
    },
    {
     "name": "stdout",
     "output_type": "stream",
     "text": [
      "Epoch:  4\n",
      "t_loss:  0.5348825928042916 , v_loss:  0.66409832239151\n",
      "t_acc:  0.6847183317771554 , v_acc:  0.6894409937888198\n",
      "t_recall:  0.5010835700855053 , v_recall:  0.5\n",
      "t_prec:  0.507836176435557 , v_prec:  0.3447204968944099\n",
      "t_f:  0.4341820046676778 , v_f:  0.4080882352941176\n",
      "////////\n"
     ]
    },
    {
     "name": "stderr",
     "output_type": "stream",
     "text": [
      "\r",
      "Iterations:   2%|▋                                  | 6/300 [00:08<05:30,  1.13s/it]"
     ]
    },
    {
     "name": "stdout",
     "output_type": "stream",
     "text": [
      "Epoch  5 , loss 0.5136686446619969\n",
      "Epoch  6 , loss 0.49226682209501077\n"
     ]
    },
    {
     "name": "stderr",
     "output_type": "stream",
     "text": [
      "\r",
      "Iterations:   2%|▊                                  | 7/300 [00:09<05:44,  1.18s/it]"
     ]
    },
    {
     "name": "stdout",
     "output_type": "stream",
     "text": [
      "Epoch:  6\n",
      "t_loss:  0.49226682209501077 , v_loss:  0.6694667935371399\n",
      "t_acc:  0.6900093370681606 , v_acc:  0.6894409937888198\n",
      "t_recall:  0.49798589094302853 , v_recall:  0.5\n",
      "t_prec:  0.4567500392958189 , v_prec:  0.3447204968944099\n",
      "t_f:  0.4149809146350381 , v_f:  0.4080882352941176\n",
      "////////\n"
     ]
    },
    {
     "name": "stderr",
     "output_type": "stream",
     "text": [
      "\r",
      "Iterations:   3%|▉                                  | 8/300 [00:10<05:20,  1.10s/it]"
     ]
    },
    {
     "name": "stdout",
     "output_type": "stream",
     "text": [
      "Epoch  7 , loss 0.4852065379713096\n",
      "Epoch  8 , loss 0.47700000510496254\n"
     ]
    },
    {
     "name": "stderr",
     "output_type": "stream",
     "text": [
      "\r",
      "Iterations:   3%|█                                  | 9/300 [00:11<05:46,  1.19s/it]"
     ]
    },
    {
     "name": "stdout",
     "output_type": "stream",
     "text": [
      "Epoch:  8\n",
      "t_loss:  0.47700000510496254 , v_loss:  0.7084154387315115\n",
      "t_acc:  0.6940553999377529 , v_acc:  0.6894409937888198\n",
      "t_recall:  0.5000315669562592 , v_recall:  0.5\n",
      "t_prec:  0.5016586538461538 , v_prec:  0.3447204968944099\n",
      "t_f:  0.41360394423779057 , v_f:  0.4080882352941176\n",
      "////////\n"
     ]
    },
    {
     "name": "stderr",
     "output_type": "stream",
     "text": [
      "\r",
      "Iterations:   3%|█▏                                | 10/300 [00:12<05:11,  1.08s/it]"
     ]
    },
    {
     "name": "stdout",
     "output_type": "stream",
     "text": [
      "Epoch  9 , loss 0.46764331237942564\n",
      "Epoch  10 , loss 0.4681759815590054\n"
     ]
    },
    {
     "name": "stderr",
     "output_type": "stream",
     "text": [
      "\r",
      "Iterations:   4%|█▏                                | 11/300 [00:13<05:28,  1.14s/it]"
     ]
    },
    {
     "name": "stdout",
     "output_type": "stream",
     "text": [
      "Epoch:  10\n",
      "t_loss:  0.4681759815590054 , v_loss:  0.7528941531976064\n",
      "t_acc:  0.6953003423591659 , v_acc:  0.6894409937888198\n",
      "t_recall:  0.49977628635346755 , v_recall:  0.5\n",
      "t_prec:  0.34775840597758406 , v_prec:  0.3447204968944099\n",
      "t_f:  0.41013401872590416 , v_f:  0.4080882352941176\n",
      "////////\n"
     ]
    },
    {
     "name": "stderr",
     "output_type": "stream",
     "text": [
      "\r",
      "Iterations:   4%|█▎                                | 12/300 [00:14<05:00,  1.04s/it]"
     ]
    },
    {
     "name": "stdout",
     "output_type": "stream",
     "text": [
      "Epoch  11 , loss 0.4623733098600425\n",
      "Epoch  12 , loss 0.46165533860524494\n"
     ]
    },
    {
     "name": "stderr",
     "output_type": "stream",
     "text": [
      "\r",
      "Iterations:   4%|█▍                                | 13/300 [00:15<05:31,  1.15s/it]"
     ]
    },
    {
     "name": "stdout",
     "output_type": "stream",
     "text": [
      "Epoch:  12\n",
      "t_loss:  0.46165533860524494 , v_loss:  0.7749274224042892\n",
      "t_acc:  0.6956115779645191 , v_acc:  0.6894409937888198\n",
      "t_recall:  0.5002875337972303 , v_recall:  0.5\n",
      "t_prec:  0.5978667081905948 , v_prec:  0.3447204968944099\n",
      "t_f:  0.4112297361103825 , v_f:  0.4080882352941176\n",
      "////////\n"
     ]
    },
    {
     "name": "stderr",
     "output_type": "stream",
     "text": [
      "\r",
      "Iterations:   5%|█▌                                | 14/300 [00:16<05:04,  1.06s/it]"
     ]
    },
    {
     "name": "stdout",
     "output_type": "stream",
     "text": [
      "Epoch  13 , loss 0.4552765026980755\n",
      "Epoch  14 , loss 0.46002502301160025\n"
     ]
    },
    {
     "name": "stderr",
     "output_type": "stream",
     "text": [
      "\r",
      "Iterations:   5%|█▋                                | 15/300 [00:18<05:23,  1.13s/it]"
     ]
    },
    {
     "name": "stdout",
     "output_type": "stream",
     "text": [
      "Epoch:  14\n",
      "t_loss:  0.46002502301160025 , v_loss:  0.7810237457354864\n",
      "t_acc:  0.6956115779645191 , v_acc:  0.6894409937888198\n",
      "t_recall:  0.5 , v_recall:  0.5\n",
      "t_prec:  0.34780578898225956 , v_prec:  0.3447204968944099\n",
      "t_f:  0.4102422907488987 , v_f:  0.4080882352941176\n",
      "////////\n"
     ]
    },
    {
     "name": "stderr",
     "output_type": "stream",
     "text": [
      "\r",
      "Iterations:   5%|█▊                                | 16/300 [00:19<05:01,  1.06s/it]"
     ]
    },
    {
     "name": "stdout",
     "output_type": "stream",
     "text": [
      "Epoch  15 , loss 0.45679419356233936\n",
      "Epoch  16 , loss 0.46889734443496256\n"
     ]
    },
    {
     "name": "stderr",
     "output_type": "stream",
     "text": [
      "\r",
      "Iterations:   6%|█▉                                | 17/300 [00:20<05:20,  1.13s/it]"
     ]
    },
    {
     "name": "stdout",
     "output_type": "stream",
     "text": [
      "Epoch:  16\n",
      "t_loss:  0.46889734443496256 , v_loss:  0.7850086688995361\n",
      "t_acc:  0.6956115779645191 , v_acc:  0.6894409937888198\n",
      "t_recall:  0.5 , v_recall:  0.5\n",
      "t_prec:  0.34780578898225956 , v_prec:  0.3447204968944099\n",
      "t_f:  0.4102422907488987 , v_f:  0.4080882352941176\n",
      "////////\n"
     ]
    },
    {
     "name": "stderr",
     "output_type": "stream",
     "text": [
      "\r",
      "Iterations:   6%|██                                | 18/300 [00:21<04:54,  1.04s/it]"
     ]
    },
    {
     "name": "stdout",
     "output_type": "stream",
     "text": [
      "Epoch  17 , loss 0.451222581021926\n",
      "Epoch  18 , loss 0.45858873339260325\n"
     ]
    },
    {
     "name": "stderr",
     "output_type": "stream",
     "text": [
      "\r",
      "Iterations:   6%|██▏                               | 19/300 [00:22<05:20,  1.14s/it]"
     ]
    },
    {
     "name": "stdout",
     "output_type": "stream",
     "text": [
      "Epoch:  18\n",
      "t_loss:  0.45858873339260325 , v_loss:  0.7877957026163737\n",
      "t_acc:  0.6956115779645191 , v_acc:  0.6894409937888198\n",
      "t_recall:  0.5002875337972303 , v_recall:  0.5\n",
      "t_prec:  0.5978667081905948 , v_prec:  0.3447204968944099\n",
      "t_f:  0.4112297361103825 , v_f:  0.4080882352941176\n",
      "////////\n"
     ]
    },
    {
     "name": "stderr",
     "output_type": "stream",
     "text": [
      "\r",
      "Iterations:   7%|██▎                               | 20/300 [00:23<04:58,  1.07s/it]"
     ]
    },
    {
     "name": "stdout",
     "output_type": "stream",
     "text": [
      "Epoch  19 , loss 0.45539318901651044\n",
      "Epoch  20 , loss 0.4498653978693719\n"
     ]
    },
    {
     "name": "stderr",
     "output_type": "stream",
     "text": [
      "\r",
      "Iterations:   7%|██▍                               | 21/300 [00:24<05:21,  1.15s/it]"
     ]
    },
    {
     "name": "stdout",
     "output_type": "stream",
     "text": [
      "Epoch:  20\n",
      "t_loss:  0.4498653978693719 , v_loss:  0.784464880824089\n",
      "t_acc:  0.6959228135698724 , v_acc:  0.6894409937888198\n",
      "t_recall:  0.5005112474437627 , v_recall:  0.5\n",
      "t_prec:  0.8479140722291407 , v_prec:  0.3447204968944099\n",
      "t_f:  0.41133905648131597 , v_f:  0.4080882352941176\n",
      "////////\n"
     ]
    },
    {
     "name": "stderr",
     "output_type": "stream",
     "text": [
      "\r",
      "Iterations:   7%|██▍                               | 22/300 [00:25<04:50,  1.05s/it]"
     ]
    },
    {
     "name": "stdout",
     "output_type": "stream",
     "text": [
      "Epoch  21 , loss 0.4556369354911879\n",
      "Epoch  22 , loss 0.46403567522179845\n"
     ]
    },
    {
     "name": "stderr",
     "output_type": "stream",
     "text": [
      "\r",
      "Iterations:   8%|██▌                               | 23/300 [00:26<05:13,  1.13s/it]"
     ]
    },
    {
     "name": "stdout",
     "output_type": "stream",
     "text": [
      "Epoch:  22\n",
      "t_loss:  0.46403567522179845 , v_loss:  0.772951270143191\n",
      "t_acc:  0.6953003423591659 , v_acc:  0.6894409937888198\n",
      "t_recall:  0.49977628635346755 , v_recall:  0.5\n",
      "t_prec:  0.34775840597758406 , v_prec:  0.3447204968944099\n",
      "t_f:  0.41013401872590416 , v_f:  0.4080882352941176\n",
      "////////\n"
     ]
    },
    {
     "name": "stderr",
     "output_type": "stream",
     "text": [
      "\r",
      "Iterations:   8%|██▋                               | 24/300 [00:27<04:47,  1.04s/it]"
     ]
    },
    {
     "name": "stdout",
     "output_type": "stream",
     "text": [
      "Epoch  23 , loss 0.45301534381567266\n",
      "Epoch  24 , loss 0.4522041725177391\n"
     ]
    },
    {
     "name": "stderr",
     "output_type": "stream",
     "text": [
      "\r",
      "Iterations:   8%|██▊                               | 25/300 [00:29<05:10,  1.13s/it]"
     ]
    },
    {
     "name": "stdout",
     "output_type": "stream",
     "text": [
      "Epoch:  24\n",
      "t_loss:  0.4522041725177391 , v_loss:  0.7663302570581436\n",
      "t_acc:  0.6962340491752257 , v_acc:  0.6894409937888198\n",
      "t_recall:  0.5010224948875256 , v_recall:  0.5\n",
      "t_prec:  0.8480224229212083 , v_prec:  0.3447204968944099\n",
      "t_f:  0.4124337652798909 , v_f:  0.4080882352941176\n",
      "////////\n"
     ]
    },
    {
     "name": "stderr",
     "output_type": "stream",
     "text": [
      "\r",
      "Iterations:   9%|██▉                               | 26/300 [00:30<04:53,  1.07s/it]"
     ]
    },
    {
     "name": "stdout",
     "output_type": "stream",
     "text": [
      "Epoch  25 , loss 0.45163972705018285\n",
      "Epoch  26 , loss 0.44818100976008995\n"
     ]
    },
    {
     "name": "stderr",
     "output_type": "stream",
     "text": [
      "\r",
      "Iterations:   9%|███                               | 27/300 [00:31<05:07,  1.13s/it]"
     ]
    },
    {
     "name": "stdout",
     "output_type": "stream",
     "text": [
      "Epoch:  26\n",
      "t_loss:  0.44818100976008995 , v_loss:  0.764399786790212\n",
      "t_acc:  0.6959228135698724 , v_acc:  0.6894409937888198\n",
      "t_recall:  0.5005112474437627 , v_recall:  0.5\n",
      "t_prec:  0.8479140722291407 , v_prec:  0.3447204968944099\n",
      "t_f:  0.41133905648131597 , v_f:  0.4080882352941176\n",
      "////////\n"
     ]
    },
    {
     "name": "stderr",
     "output_type": "stream",
     "text": [
      "\r",
      "Iterations:   9%|███▏                              | 28/300 [00:32<04:41,  1.04s/it]"
     ]
    },
    {
     "name": "stdout",
     "output_type": "stream",
     "text": [
      "Epoch  27 , loss 0.4450859450826458\n",
      "Epoch  28 , loss 0.4460003615594378\n"
     ]
    },
    {
     "name": "stderr",
     "output_type": "stream",
     "text": [
      "\r",
      "Iterations:  10%|███▎                              | 29/300 [00:33<05:01,  1.11s/it]"
     ]
    },
    {
     "name": "stdout",
     "output_type": "stream",
     "text": [
      "Epoch:  28\n",
      "t_loss:  0.4460003615594378 , v_loss:  0.7622771958510081\n",
      "t_acc:  0.6959228135698724 , v_acc:  0.6894409937888198\n",
      "t_recall:  0.5005112474437627 , v_recall:  0.5\n",
      "t_prec:  0.8479140722291407 , v_prec:  0.3447204968944099\n",
      "t_f:  0.41133905648131597 , v_f:  0.4080882352941176\n",
      "////////\n"
     ]
    },
    {
     "name": "stderr",
     "output_type": "stream",
     "text": [
      "\r",
      "Iterations:  10%|███▍                              | 30/300 [00:34<04:44,  1.05s/it]"
     ]
    },
    {
     "name": "stdout",
     "output_type": "stream",
     "text": [
      "Epoch  29 , loss 0.4417562642518212\n",
      "Epoch  30 , loss 0.4421000842954598\n"
     ]
    },
    {
     "name": "stderr",
     "output_type": "stream",
     "text": [
      "\r",
      "Iterations:  10%|███▌                              | 31/300 [00:35<05:13,  1.17s/it]"
     ]
    },
    {
     "name": "stdout",
     "output_type": "stream",
     "text": [
      "Epoch:  30\n",
      "t_loss:  0.4421000842954598 , v_loss:  0.7611463268597921\n",
      "t_acc:  0.6959228135698724 , v_acc:  0.6894409937888198\n",
      "t_recall:  0.5007987812409931 , v_recall:  0.5\n",
      "t_prec:  0.6813084112149532 , v_prec:  0.3447204968944099\n",
      "t_f:  0.41232340081380947 , v_f:  0.4080882352941176\n",
      "////////\n"
     ]
    },
    {
     "name": "stderr",
     "output_type": "stream",
     "text": [
      "\r",
      "Iterations:  11%|███▋                              | 32/300 [00:36<04:44,  1.06s/it]"
     ]
    },
    {
     "name": "stdout",
     "output_type": "stream",
     "text": [
      "Epoch  31 , loss 0.4501963392192242\n",
      "Epoch  32 , loss 0.44632836591963676\n"
     ]
    },
    {
     "name": "stderr",
     "output_type": "stream",
     "text": [
      "\r",
      "Iterations:  11%|███▋                              | 33/300 [00:37<05:03,  1.14s/it]"
     ]
    },
    {
     "name": "stdout",
     "output_type": "stream",
     "text": [
      "Epoch:  32\n",
      "t_loss:  0.44632836591963676 , v_loss:  0.7510631134112676\n",
      "t_acc:  0.6956115779645191 , v_acc:  0.6894409937888198\n",
      "t_recall:  0.5 , v_recall:  0.5\n",
      "t_prec:  0.34780578898225956 , v_prec:  0.3447204968944099\n",
      "t_f:  0.4102422907488987 , v_f:  0.4080882352941176\n",
      "////////\n"
     ]
    },
    {
     "name": "stderr",
     "output_type": "stream",
     "text": [
      "\r",
      "Iterations:  11%|███▊                              | 34/300 [00:38<04:36,  1.04s/it]"
     ]
    },
    {
     "name": "stdout",
     "output_type": "stream",
     "text": [
      "Epoch  33 , loss 0.44452829337587546\n",
      "Epoch  34 , loss 0.4405164292045668\n"
     ]
    },
    {
     "name": "stderr",
     "output_type": "stream",
     "text": [
      "\r",
      "Iterations:  12%|███▉                              | 35/300 [00:40<05:06,  1.16s/it]"
     ]
    },
    {
     "name": "stdout",
     "output_type": "stream",
     "text": [
      "Epoch:  34\n",
      "t_loss:  0.4405164292045668 , v_loss:  0.7380608270565668\n",
      "t_acc:  0.6953003423591659 , v_acc:  0.6894409937888198\n",
      "t_recall:  0.500063820150698 , v_recall:  0.5\n",
      "t_prec:  0.5144859813084112 , v_prec:  0.3447204968944099\n",
      "t_f:  0.4111203780928551 , v_f:  0.4080882352941176\n",
      "////////\n"
     ]
    },
    {
     "name": "stderr",
     "output_type": "stream",
     "text": [
      "\r",
      "Iterations:  12%|████                              | 36/300 [00:40<04:39,  1.06s/it]"
     ]
    },
    {
     "name": "stdout",
     "output_type": "stream",
     "text": [
      "Epoch  35 , loss 0.4335551752763636\n",
      "Epoch  36 , loss 0.43997855396831737\n"
     ]
    },
    {
     "name": "stderr",
     "output_type": "stream",
     "text": [
      "\r",
      "Iterations:  12%|████▏                             | 37/300 [00:42<04:55,  1.13s/it]"
     ]
    },
    {
     "name": "stdout",
     "output_type": "stream",
     "text": [
      "Epoch:  36\n",
      "t_loss:  0.43997855396831737 , v_loss:  0.7353780120611191\n",
      "t_acc:  0.6956115779645191 , v_acc:  0.6894409937888198\n",
      "t_recall:  0.5011501351889214 , v_recall:  0.5\n",
      "t_prec:  0.5980499219968799 , v_prec:  0.3447204968944099\n",
      "t_f:  0.41416708924949286 , v_f:  0.4080882352941176\n",
      "////////\n"
     ]
    },
    {
     "name": "stderr",
     "output_type": "stream",
     "text": [
      "\r",
      "Iterations:  13%|████▎                             | 38/300 [00:43<04:34,  1.05s/it]"
     ]
    },
    {
     "name": "stdout",
     "output_type": "stream",
     "text": [
      "Epoch  37 , loss 0.44331004455977796\n",
      "Epoch  38 , loss 0.4483712303872202\n"
     ]
    },
    {
     "name": "stderr",
     "output_type": "stream",
     "text": [
      "\r",
      "Iterations:  13%|████▍                             | 39/300 [00:44<04:51,  1.12s/it]"
     ]
    },
    {
     "name": "stdout",
     "output_type": "stream",
     "text": [
      "Epoch:  38\n",
      "t_loss:  0.4483712303872202 , v_loss:  0.7290621449549993\n",
      "t_acc:  0.6962340491752257 , v_acc:  0.6894409937888198\n",
      "t_recall:  0.5010224948875256 , v_recall:  0.5\n",
      "t_prec:  0.8480224229212083 , v_prec:  0.3447204968944099\n",
      "t_f:  0.4124337652798909 , v_f:  0.4080882352941176\n",
      "////////\n"
     ]
    },
    {
     "name": "stderr",
     "output_type": "stream",
     "text": [
      "\r",
      "Iterations:  13%|████▌                             | 40/300 [00:45<04:29,  1.04s/it]"
     ]
    },
    {
     "name": "stdout",
     "output_type": "stream",
     "text": [
      "Epoch  39 , loss 0.44265711307525635\n",
      "Epoch  40 , loss 0.4374466947480744\n"
     ]
    },
    {
     "name": "stderr",
     "output_type": "stream",
     "text": [
      "\r",
      "Iterations:  14%|████▋                             | 41/300 [00:46<04:58,  1.15s/it]"
     ]
    },
    {
     "name": "stdout",
     "output_type": "stream",
     "text": [
      "Epoch:  40\n",
      "t_loss:  0.4374466947480744 , v_loss:  0.7211004147926966\n",
      "t_acc:  0.6962340491752257 , v_acc:  0.6894409937888198\n",
      "t_recall:  0.5018850962792166 , v_recall:  0.5\n",
      "t_prec:  0.6607059282371295 , v_prec:  0.3447204968944099\n",
      "t_f:  0.4153651115618661 , v_f:  0.4080882352941176\n",
      "////////\n"
     ]
    },
    {
     "name": "stderr",
     "output_type": "stream",
     "text": [
      "\r",
      "Iterations:  14%|████▊                             | 42/300 [00:47<04:33,  1.06s/it]"
     ]
    },
    {
     "name": "stdout",
     "output_type": "stream",
     "text": [
      "Epoch  41 , loss 0.43901119921721665\n",
      "Epoch  42 , loss 0.43942494252148795\n"
     ]
    },
    {
     "name": "stderr",
     "output_type": "stream",
     "text": [
      "\r",
      "Iterations:  14%|████▊                             | 43/300 [00:48<04:56,  1.15s/it]"
     ]
    },
    {
     "name": "stdout",
     "output_type": "stream",
     "text": [
      "Epoch:  42\n",
      "t_loss:  0.43942494252148795 , v_loss:  0.7103116561969122\n",
      "t_acc:  0.6962340491752257 , v_acc:  0.6894409937888198\n",
      "t_recall:  0.5018850962792166 , v_recall:  0.5\n",
      "t_prec:  0.6607059282371295 , v_prec:  0.3447204968944099\n",
      "t_f:  0.4153651115618661 , v_f:  0.4080882352941176\n",
      "////////\n"
     ]
    },
    {
     "name": "stderr",
     "output_type": "stream",
     "text": [
      "\r",
      "Iterations:  15%|████▉                             | 44/300 [00:49<04:28,  1.05s/it]"
     ]
    },
    {
     "name": "stdout",
     "output_type": "stream",
     "text": [
      "Epoch  43 , loss 0.4339355382264829\n",
      "Epoch  44 , loss 0.4364047891953412\n"
     ]
    },
    {
     "name": "stderr",
     "output_type": "stream",
     "text": [
      "\r",
      "Iterations:  15%|█████                             | 45/300 [00:51<04:54,  1.15s/it]"
     ]
    },
    {
     "name": "stdout",
     "output_type": "stream",
     "text": [
      "Epoch:  44\n",
      "t_loss:  0.4364047891953412 , v_loss:  0.7052712986866633\n",
      "t_acc:  0.6965452847805789 , v_acc:  0.6894409937888198\n",
      "t_recall:  0.5026838775202097 , v_recall:  0.5\n",
      "t_prec:  0.6665578331724491 , v_prec:  0.3447204968944099\n",
      "t_f:  0.4174144390948958 , v_f:  0.4080882352941176\n",
      "////////\n"
     ]
    },
    {
     "name": "stderr",
     "output_type": "stream",
     "text": [
      "\r",
      "Iterations:  15%|█████▏                            | 46/300 [00:51<04:26,  1.05s/it]"
     ]
    },
    {
     "name": "stdout",
     "output_type": "stream",
     "text": [
      "Epoch  45 , loss 0.4344770131157894\n",
      "Epoch  46 , loss 0.4293207309994043\n"
     ]
    },
    {
     "name": "stderr",
     "output_type": "stream",
     "text": [
      "\r",
      "Iterations:  16%|█████▎                            | 47/300 [00:53<04:45,  1.13s/it]"
     ]
    },
    {
     "name": "stdout",
     "output_type": "stream",
     "text": [
      "Epoch:  46\n",
      "t_loss:  0.4293207309994043 , v_loss:  0.7010487665732702\n",
      "t_acc:  0.6981014628073452 , v_acc:  0.6894409937888198\n",
      "t_recall:  0.5043775133473326 , v_recall:  0.5\n",
      "t_prec:  0.7987355604121136 , v_prec:  0.3447204968944099\n",
      "t_f:  0.41992211056398737 , v_f:  0.4080882352941176\n",
      "////////\n"
     ]
    },
    {
     "name": "stderr",
     "output_type": "stream",
     "text": [
      "\r",
      "Iterations:  16%|█████▍                            | 48/300 [00:54<04:34,  1.09s/it]"
     ]
    },
    {
     "name": "stdout",
     "output_type": "stream",
     "text": [
      "Epoch  47 , loss 0.4306549365613975\n",
      "Epoch  48 , loss 0.43131351295639486\n"
     ]
    },
    {
     "name": "stderr",
     "output_type": "stream",
     "text": [
      "\r",
      "Iterations:  16%|█████▌                            | 49/300 [00:55<04:45,  1.14s/it]"
     ]
    },
    {
     "name": "stdout",
     "output_type": "stream",
     "text": [
      "Epoch:  48\n",
      "t_loss:  0.43131351295639486 , v_loss:  0.7050520529349645\n",
      "t_acc:  0.6977902272019919 , v_acc:  0.6894409937888198\n",
      "t_recall:  0.5041537997008002 , v_recall:  0.5\n",
      "t_prec:  0.7577792288910341 , v_prec:  0.3447204968944099\n",
      "t_f:  0.4198045337037372 , v_f:  0.4080882352941176\n",
      "////////\n"
     ]
    },
    {
     "name": "stderr",
     "output_type": "stream",
     "text": [
      "\r",
      "Iterations:  17%|█████▋                            | 50/300 [00:56<04:20,  1.04s/it]"
     ]
    },
    {
     "name": "stdout",
     "output_type": "stream",
     "text": [
      "Epoch  49 , loss 0.4324268675317951\n",
      "Epoch  50 , loss 0.43306874001727386\n"
     ]
    },
    {
     "name": "stderr",
     "output_type": "stream",
     "text": [
      "\r",
      "Iterations:  17%|█████▊                            | 51/300 [00:57<04:40,  1.13s/it]"
     ]
    },
    {
     "name": "stdout",
     "output_type": "stream",
     "text": [
      "Epoch:  50\n",
      "t_loss:  0.43306874001727386 , v_loss:  0.6981778095165888\n",
      "t_acc:  0.6965452847805789 , v_acc:  0.6894409937888198\n",
      "t_recall:  0.502108809925749 , v_recall:  0.5\n",
      "t_prec:  0.7053961322520275 , v_prec:  0.3447204968944099\n",
      "t_f:  0.41547864167250537 , v_f:  0.4080882352941176\n",
      "////////\n"
     ]
    },
    {
     "name": "stderr",
     "output_type": "stream",
     "text": [
      "\r",
      "Iterations:  17%|█████▉                            | 52/300 [00:58<04:26,  1.08s/it]"
     ]
    },
    {
     "name": "stdout",
     "output_type": "stream",
     "text": [
      "Epoch  51 , loss 0.4307541449864705\n",
      "Epoch  52 , loss 0.42801598649398953\n"
     ]
    },
    {
     "name": "stderr",
     "output_type": "stream",
     "text": [
      "\r",
      "Iterations:  18%|██████                            | 53/300 [00:59<04:47,  1.16s/it]"
     ]
    },
    {
     "name": "stdout",
     "output_type": "stream",
     "text": [
      "Epoch:  52\n",
      "t_loss:  0.42801598649398953 , v_loss:  0.6845858345429102\n",
      "t_acc:  0.6987239340180517 , v_acc:  0.6894409937888198\n",
      "t_recall:  0.5068376772210099 , v_recall:  0.5\n",
      "t_prec:  0.7128999173812711 , v_prec:  0.3447204968944099\n",
      "t_f:  0.42679985256173975 , v_f:  0.4080882352941176\n",
      "////////\n"
     ]
    },
    {
     "name": "stderr",
     "output_type": "stream",
     "text": [
      "\r",
      "Iterations:  18%|██████                            | 54/300 [01:00<04:20,  1.06s/it]"
     ]
    },
    {
     "name": "stdout",
     "output_type": "stream",
     "text": [
      "Epoch  53 , loss 0.4305693215014888\n",
      "Epoch  54 , loss 0.43402910115672094\n"
     ]
    },
    {
     "name": "stderr",
     "output_type": "stream",
     "text": [
      "\r",
      "Iterations:  18%|██████▏                           | 55/300 [01:02<04:36,  1.13s/it]"
     ]
    },
    {
     "name": "stdout",
     "output_type": "stream",
     "text": [
      "Epoch:  54\n",
      "t_loss:  0.43402910115672094 , v_loss:  0.6775883138179779\n",
      "t_acc:  0.6993464052287581 , v_acc:  0.6894409937888198\n",
      "t_recall:  0.5072851045140747 , v_recall:  0.5\n",
      "t_prec:  0.7493579705606013 , v_prec:  0.3447204968944099\n",
      "t_f:  0.4270490132807989 , v_f:  0.4080882352941176\n",
      "////////\n"
     ]
    },
    {
     "name": "stderr",
     "output_type": "stream",
     "text": [
      "\r",
      "Iterations:  19%|██████▎                           | 56/300 [01:02<04:13,  1.04s/it]"
     ]
    },
    {
     "name": "stdout",
     "output_type": "stream",
     "text": [
      "Epoch  55 , loss 0.4312536196381438\n",
      "Epoch  56 , loss 0.4319215142259411\n"
     ]
    },
    {
     "name": "stderr",
     "output_type": "stream",
     "text": [
      "\r",
      "Iterations:  19%|██████▍                           | 57/300 [01:04<04:38,  1.15s/it]"
     ]
    },
    {
     "name": "stdout",
     "output_type": "stream",
     "text": [
      "Epoch:  56\n",
      "t_loss:  0.4319215142259411 , v_loss:  0.6802856922149658\n",
      "t_acc:  0.6981014628073452 , v_acc:  0.6894409937888198\n",
      "t_recall:  0.5069653175224057 , v_recall:  0.5\n",
      "t_prec:  0.6707221350078494 , v_prec:  0.3447204968944099\n",
      "t_f:  0.4284092493012405 , v_f:  0.4080882352941176\n",
      "////////\n"
     ]
    },
    {
     "name": "stderr",
     "output_type": "stream",
     "text": [
      "\r",
      "Iterations:  19%|██████▌                           | 58/300 [01:05<04:23,  1.09s/it]"
     ]
    },
    {
     "name": "stdout",
     "output_type": "stream",
     "text": [
      "Epoch  57 , loss 0.4337276243696026\n",
      "Epoch  58 , loss 0.42680273102779015\n"
     ]
    },
    {
     "name": "stderr",
     "output_type": "stream",
     "text": [
      "\r",
      "Iterations:  20%|██████▋                           | 59/300 [01:06<04:59,  1.24s/it]"
     ]
    },
    {
     "name": "stdout",
     "output_type": "stream",
     "text": [
      "Epoch:  58\n",
      "t_loss:  0.42680273102779015 , v_loss:  0.675992876291275\n",
      "t_acc:  0.6965452847805789 , v_acc:  0.6894409937888198\n",
      "t_recall:  0.5032589451146704 , v_recall:  0.5\n",
      "t_prec:  0.6484990619136961 , v_prec:  0.3447204968944099\n",
      "t_f:  0.41933401285531013 , v_f:  0.4080882352941176\n",
      "////////\n"
     ]
    },
    {
     "name": "stderr",
     "output_type": "stream",
     "text": [
      "\r",
      "Iterations:  20%|██████▊                           | 60/300 [01:07<04:34,  1.14s/it]"
     ]
    },
    {
     "name": "stdout",
     "output_type": "stream",
     "text": [
      "Epoch  59 , loss 0.42335932219729705\n",
      "Epoch  60 , loss 0.4303230146567027\n"
     ]
    },
    {
     "name": "stderr",
     "output_type": "stream",
     "text": [
      "\r",
      "Iterations:  20%|██████▉                           | 61/300 [01:08<04:41,  1.18s/it]"
     ]
    },
    {
     "name": "stdout",
     "output_type": "stream",
     "text": [
      "Epoch:  60\n",
      "t_loss:  0.4303230146567027 , v_loss:  0.6684660812218984\n",
      "t_acc:  0.6977902272019919 , v_acc:  0.6894409937888198\n",
      "t_recall:  0.5067416038758732 , v_recall:  0.5\n",
      "t_prec:  0.6595910587419858 , v_prec:  0.3447204968944099\n",
      "t_f:  0.42828270019074816 , v_f:  0.4080882352941176\n",
      "////////\n"
     ]
    },
    {
     "name": "stderr",
     "output_type": "stream",
     "text": [
      "\r",
      "Iterations:  21%|███████                           | 62/300 [01:09<04:14,  1.07s/it]"
     ]
    },
    {
     "name": "stdout",
     "output_type": "stream",
     "text": [
      "Epoch  61 , loss 0.424600772413553\n",
      "Epoch  62 , loss 0.4249448945709303\n"
     ]
    },
    {
     "name": "stderr",
     "output_type": "stream",
     "text": [
      "\r",
      "Iterations:  21%|███████▏                          | 63/300 [01:11<04:29,  1.14s/it]"
     ]
    },
    {
     "name": "stdout",
     "output_type": "stream",
     "text": [
      "Epoch:  62\n",
      "t_loss:  0.4249448945709303 , v_loss:  0.6679095427195231\n",
      "t_acc:  0.702769996887644 , v_acc:  0.6894409937888198\n",
      "t_recall:  0.514346495381617 , v_recall:  0.5\n",
      "t_prec:  0.741126626272568 , v_prec:  0.3447204968944099\n",
      "t_f:  0.44309188848171044 , v_f:  0.4080882352941176\n",
      "////////\n"
     ]
    },
    {
     "name": "stderr",
     "output_type": "stream",
     "text": [
      "\r",
      "Iterations:  21%|███████▎                          | 64/300 [01:11<04:12,  1.07s/it]"
     ]
    },
    {
     "name": "stdout",
     "output_type": "stream",
     "text": [
      "Epoch  63 , loss 0.42543694026329937\n",
      "Epoch  64 , loss 0.42409093824087407\n"
     ]
    },
    {
     "name": "stderr",
     "output_type": "stream",
     "text": [
      "\r",
      "Iterations:  22%|███████▎                          | 65/300 [01:13<04:40,  1.20s/it]"
     ]
    },
    {
     "name": "stdout",
     "output_type": "stream",
     "text": [
      "Epoch:  64\n",
      "t_loss:  0.42409093824087407 , v_loss:  0.6654124309619268\n",
      "t_acc:  0.7009025832555245 , v_acc:  0.6894409937888198\n",
      "t_recall:  0.5095538079356583 , v_recall:  0.5\n",
      "t_prec:  0.78462586888374 , v_prec:  0.3447204968944099\n",
      "t_f:  0.4314085914085914 , v_f:  0.4080882352941176\n",
      "////////\n"
     ]
    },
    {
     "name": "stderr",
     "output_type": "stream",
     "text": [
      "\r",
      "Iterations:  22%|███████▍                          | 66/300 [01:14<04:17,  1.10s/it]"
     ]
    },
    {
     "name": "stdout",
     "output_type": "stream",
     "text": [
      "Epoch  65 , loss 0.421781472715677\n",
      "Epoch  66 , loss 0.42912595821361915\n"
     ]
    },
    {
     "name": "stderr",
     "output_type": "stream",
     "text": [
      "\r",
      "Iterations:  22%|███████▌                          | 67/300 [01:15<04:31,  1.17s/it]"
     ]
    },
    {
     "name": "stdout",
     "output_type": "stream",
     "text": [
      "Epoch:  66\n",
      "t_loss:  0.42912595821361915 , v_loss:  0.6750015566746393\n",
      "t_acc:  0.6996576408341114 , v_acc:  0.6894409937888198\n",
      "t_recall:  0.5109592237273713 , v_recall:  0.5\n",
      "t_prec:  0.6757391240554618 , v_prec:  0.3447204968944099\n",
      "t_f:  0.43815489883582603 , v_f:  0.4080882352941176\n",
      "////////\n"
     ]
    },
    {
     "name": "stderr",
     "output_type": "stream",
     "text": [
      "\r",
      "Iterations:  23%|███████▋                          | 68/300 [01:16<04:05,  1.06s/it]"
     ]
    },
    {
     "name": "stdout",
     "output_type": "stream",
     "text": [
      "Epoch  67 , loss 0.42307814020736545\n",
      "Epoch  68 , loss 0.4278918925453635\n"
     ]
    },
    {
     "name": "stderr",
     "output_type": "stream",
     "text": [
      "\r",
      "Iterations:  23%|███████▊                          | 69/300 [01:17<04:26,  1.16s/it]"
     ]
    },
    {
     "name": "stdout",
     "output_type": "stream",
     "text": [
      "Epoch:  68\n",
      "t_loss:  0.4278918925453635 , v_loss:  0.6694785555203756\n",
      "t_acc:  0.7009025832555245 , v_acc:  0.6894409937888198\n",
      "t_recall:  0.5115665445162707 , v_recall:  0.5\n",
      "t_prec:  0.7151482401797263 , v_prec:  0.3447204968944099\n",
      "t_f:  0.4378003938337614 , v_f:  0.4080882352941176\n",
      "////////\n"
     ]
    },
    {
     "name": "stderr",
     "output_type": "stream",
     "text": [
      "\r",
      "Iterations:  23%|███████▉                          | 70/300 [01:18<04:01,  1.05s/it]"
     ]
    },
    {
     "name": "stdout",
     "output_type": "stream",
     "text": [
      "Epoch  69 , loss 0.42168252900534986\n",
      "Epoch  70 , loss 0.42430346444541334\n"
     ]
    },
    {
     "name": "stderr",
     "output_type": "stream",
     "text": [
      "\r",
      "Iterations:  24%|████████                          | 71/300 [01:19<04:19,  1.13s/it]"
     ]
    },
    {
     "name": "stdout",
     "output_type": "stream",
     "text": [
      "Epoch:  70\n",
      "t_loss:  0.42430346444541334 , v_loss:  0.6658890098333359\n",
      "t_acc:  0.6999688764394647 , v_acc:  0.6894409937888198\n",
      "t_recall:  0.5103203359822127 , v_recall:  0.5\n",
      "t_prec:  0.6972379603399433 , v_prec:  0.3447204968944099\n",
      "t_f:  0.43559348718823393 , v_f:  0.4080882352941176\n",
      "////////\n"
     ]
    },
    {
     "name": "stderr",
     "output_type": "stream",
     "text": [
      "\r",
      "Iterations:  24%|████████▏                         | 72/300 [01:20<04:07,  1.09s/it]"
     ]
    },
    {
     "name": "stdout",
     "output_type": "stream",
     "text": [
      "Epoch  71 , loss 0.4241738500548344\n",
      "Epoch  72 , loss 0.42188486865922514\n"
     ]
    },
    {
     "name": "stderr",
     "output_type": "stream",
     "text": [
      "\r",
      "Iterations:  24%|████████▎                         | 73/300 [01:22<04:20,  1.15s/it]"
     ]
    },
    {
     "name": "stdout",
     "output_type": "stream",
     "text": [
      "Epoch:  72\n",
      "t_loss:  0.42188486865922514 , v_loss:  0.6630663822094599\n",
      "t_acc:  0.702769996887644 , v_acc:  0.6894409937888198\n",
      "t_recall:  0.5146340291788474 , v_recall:  0.5\n",
      "t_prec:  0.7346673024723058 , v_prec:  0.3447204968944099\n",
      "t_f:  0.443977127863434 , v_f:  0.4080882352941176\n",
      "////////\n"
     ]
    },
    {
     "name": "stderr",
     "output_type": "stream",
     "text": [
      "\r",
      "Iterations:  25%|████████▍                         | 74/300 [01:23<03:57,  1.05s/it]"
     ]
    },
    {
     "name": "stdout",
     "output_type": "stream",
     "text": [
      "Epoch  73 , loss 0.4260974999736337\n",
      "Epoch  74 , loss 0.42796668001249727\n"
     ]
    },
    {
     "name": "stderr",
     "output_type": "stream",
     "text": [
      "\r",
      "Iterations:  25%|████████▌                         | 75/300 [01:24<04:13,  1.13s/it]"
     ]
    },
    {
     "name": "stdout",
     "output_type": "stream",
     "text": [
      "Epoch:  74\n",
      "t_loss:  0.42796668001249727 , v_loss:  0.6454406629006068\n",
      "t_acc:  0.7033924680983504 , v_acc:  0.6894409937888198\n",
      "t_recall:  0.5159440578636033 , v_recall:  0.5\n",
      "t_prec:  0.7342105616859989 , v_prec:  0.3447204968944099\n",
      "t_f:  0.44689754833115813 , v_f:  0.4080882352941176\n",
      "////////\n"
     ]
    },
    {
     "name": "stderr",
     "output_type": "stream",
     "text": [
      "\r",
      "Iterations:  25%|████████▌                         | 76/300 [01:25<04:02,  1.08s/it]"
     ]
    },
    {
     "name": "stdout",
     "output_type": "stream",
     "text": [
      "Epoch  75 , loss 0.41891854095692727\n",
      "Epoch  76 , loss 0.4218812748497608\n"
     ]
    },
    {
     "name": "stderr",
     "output_type": "stream",
     "text": [
      "\r",
      "Iterations:  26%|████████▋                         | 77/300 [01:26<04:22,  1.18s/it]"
     ]
    },
    {
     "name": "stdout",
     "output_type": "stream",
     "text": [
      "Epoch:  76\n",
      "t_loss:  0.4218812748497608 , v_loss:  0.6557691146930059\n",
      "t_acc:  0.7033924680983504 , v_acc:  0.6894409937888198\n",
      "t_recall:  0.517381726849755 , v_recall:  0.5\n",
      "t_prec:  0.7112017210326196 , v_prec:  0.3447204968944099\n",
      "t_f:  0.4512254724057003 , v_f:  0.4080882352941176\n",
      "////////\n"
     ]
    },
    {
     "name": "stderr",
     "output_type": "stream",
     "text": [
      "\r",
      "Iterations:  26%|████████▊                         | 78/300 [01:27<03:58,  1.07s/it]"
     ]
    },
    {
     "name": "stdout",
     "output_type": "stream",
     "text": [
      "Epoch  77 , loss 0.42125851792447705\n",
      "Epoch  78 , loss 0.4154890617903541\n"
     ]
    },
    {
     "name": "stderr",
     "output_type": "stream",
     "text": [
      "\r",
      "Iterations:  26%|████████▉                         | 79/300 [01:28<04:12,  1.14s/it]"
     ]
    },
    {
     "name": "stdout",
     "output_type": "stream",
     "text": [
      "Epoch:  78\n",
      "t_loss:  0.4154890617903541 , v_loss:  0.6511553625265757\n",
      "t_acc:  0.7030812324929971 , v_acc:  0.6894409937888198\n",
      "t_recall:  0.5157203442170708 , v_recall:  0.5\n",
      "t_prec:  0.7261848341232228 , v_prec:  0.3447204968944099\n",
      "t_f:  0.4467543859649123 , v_f:  0.4080882352941176\n",
      "////////\n"
     ]
    },
    {
     "name": "stderr",
     "output_type": "stream",
     "text": [
      "\r",
      "Iterations:  27%|█████████                         | 80/300 [01:29<03:50,  1.05s/it]"
     ]
    },
    {
     "name": "stdout",
     "output_type": "stream",
     "text": [
      "Epoch  79 , loss 0.41873740974594564\n",
      "Epoch  80 , loss 0.42543477813402814\n"
     ]
    },
    {
     "name": "stderr",
     "output_type": "stream",
     "text": [
      "\r",
      "Iterations:  27%|█████████▏                        | 81/300 [01:31<04:13,  1.16s/it]"
     ]
    },
    {
     "name": "stdout",
     "output_type": "stream",
     "text": [
      "Epoch:  80\n",
      "t_loss:  0.42543477813402814 , v_loss:  0.646826853354772\n",
      "t_acc:  0.7021475256769374 , v_acc:  0.6894409937888198\n",
      "t_recall:  0.5141866018857825 , v_recall:  0.5\n",
      "t_prec:  0.7175189393939394 , v_prec:  0.3447204968944099\n",
      "t_f:  0.44369615446615673 , v_f:  0.4080882352941176\n",
      "////////\n"
     ]
    },
    {
     "name": "stderr",
     "output_type": "stream",
     "text": [
      "\r",
      "Iterations:  27%|█████████▎                        | 82/300 [01:31<03:50,  1.06s/it]"
     ]
    },
    {
     "name": "stdout",
     "output_type": "stream",
     "text": [
      "Epoch  81 , loss 0.4162401428409651\n",
      "Epoch  82 , loss 0.4158950138325785\n"
     ]
    },
    {
     "name": "stderr",
     "output_type": "stream",
     "text": [
      "\r",
      "Iterations:  28%|█████████▍                        | 83/300 [01:33<04:04,  1.12s/it]"
     ]
    },
    {
     "name": "stdout",
     "output_type": "stream",
     "text": [
      "Epoch:  82\n",
      "t_loss:  0.4158950138325785 , v_loss:  0.6524313439925512\n",
      "t_acc:  0.7009025832555245 , v_acc:  0.6894409937888198\n",
      "t_recall:  0.5135792810968831 , v_recall:  0.5\n",
      "t_prec:  0.6840607210626186 , v_prec:  0.3447204968944099\n",
      "t_f:  0.4440108450272827 , v_f:  0.4080882352941176\n",
      "////////\n"
     ]
    },
    {
     "name": "stderr",
     "output_type": "stream",
     "text": [
      "\r",
      "Iterations:  28%|█████████▌                        | 84/300 [01:34<03:48,  1.06s/it]"
     ]
    },
    {
     "name": "stdout",
     "output_type": "stream",
     "text": [
      "Epoch  83 , loss 0.420298929307975\n",
      "Epoch  84 , loss 0.41754143027698293\n"
     ]
    },
    {
     "name": "stderr",
     "output_type": "stream",
     "text": [
      "\r",
      "Iterations:  28%|█████████▋                        | 85/300 [01:35<04:01,  1.12s/it]"
     ]
    },
    {
     "name": "stdout",
     "output_type": "stream",
     "text": [
      "Epoch:  84\n",
      "t_loss:  0.41754143027698293 , v_loss:  0.6488730907440186\n",
      "t_acc:  0.702769996887644 , v_acc:  0.6894409937888198\n",
      "t_recall:  0.5163592319622294 , v_recall:  0.5\n",
      "t_prec:  0.7058754102135989 , v_prec:  0.3447204968944099\n",
      "t_f:  0.44921341332181164 , v_f:  0.4080882352941176\n",
      "////////\n"
     ]
    },
    {
     "name": "stderr",
     "output_type": "stream",
     "text": [
      "\r",
      "Iterations:  29%|█████████▋                        | 86/300 [01:36<03:43,  1.04s/it]"
     ]
    },
    {
     "name": "stdout",
     "output_type": "stream",
     "text": [
      "Epoch  85 , loss 0.4133659390842213\n",
      "Epoch  86 , loss 0.41113200725293625\n"
     ]
    },
    {
     "name": "stderr",
     "output_type": "stream",
     "text": [
      "\r",
      "Iterations:  29%|█████████▊                        | 87/300 [01:37<04:06,  1.16s/it]"
     ]
    },
    {
     "name": "stdout",
     "output_type": "stream",
     "text": [
      "Epoch:  86\n",
      "t_loss:  0.41113200725293625 , v_loss:  0.6490365366141001\n",
      "t_acc:  0.7093059446000622 , v_acc:  0.6956521739130435\n",
      "t_recall:  0.5256577592950962 , v_recall:  0.51\n",
      "t_prec:  0.7700190657769304 , v_prec:  0.846875\n",
      "t_f:  0.4659112751316649 , v_f:  0.42920193907821425\n",
      "////////\n"
     ]
    },
    {
     "name": "stderr",
     "output_type": "stream",
     "text": [
      "\r",
      "Iterations:  29%|█████████▉                        | 88/300 [01:38<03:46,  1.07s/it]"
     ]
    },
    {
     "name": "stdout",
     "output_type": "stream",
     "text": [
      "Epoch  87 , loss 0.4225439435126735\n",
      "Epoch  88 , loss 0.4156184073756723\n"
     ]
    },
    {
     "name": "stderr",
     "output_type": "stream",
     "text": [
      "\r",
      "Iterations:  30%|██████████                        | 89/300 [01:39<04:02,  1.15s/it]"
     ]
    },
    {
     "name": "stdout",
     "output_type": "stream",
     "text": [
      "Epoch:  88\n",
      "t_loss:  0.4156184073756723 , v_loss:  0.6506576339403788\n",
      "t_acc:  0.7055711173358232 , v_acc:  0.6956521739130435\n",
      "t_recall:  0.5203853913616339 , v_recall:  0.51\n",
      "t_prec:  0.7355375832540438 , v_prec:  0.846875\n",
      "t_f:  0.4565283159751278 , v_f:  0.42920193907821425\n",
      "////////\n"
     ]
    },
    {
     "name": "stderr",
     "output_type": "stream",
     "text": [
      "\r",
      "Iterations:  30%|██████████▏                       | 90/300 [01:40<03:40,  1.05s/it]"
     ]
    },
    {
     "name": "stdout",
     "output_type": "stream",
     "text": [
      "Epoch  89 , loss 0.42001481208146785\n",
      "Epoch  90 , loss 0.4188770441447987\n"
     ]
    },
    {
     "name": "stderr",
     "output_type": "stream",
     "text": [
      "\r",
      "Iterations:  30%|██████████▎                       | 91/300 [01:42<03:59,  1.15s/it]"
     ]
    },
    {
     "name": "stdout",
     "output_type": "stream",
     "text": [
      "Epoch:  90\n",
      "t_loss:  0.4188770441447987 , v_loss:  0.6501973668734232\n",
      "t_acc:  0.7074385309679427 , v_acc:  0.6956521739130435\n",
      "t_recall:  0.5234528760242105 , v_recall:  0.51\n",
      "t_prec:  0.7468151486263974 , v_prec:  0.846875\n",
      "t_f:  0.46248029831238224 , v_f:  0.42920193907821425\n",
      "////////\n"
     ]
    },
    {
     "name": "stderr",
     "output_type": "stream",
     "text": [
      "\r",
      "Iterations:  31%|██████████▍                       | 92/300 [01:42<03:39,  1.05s/it]"
     ]
    },
    {
     "name": "stdout",
     "output_type": "stream",
     "text": [
      "Epoch  91 , loss 0.416789168528482\n",
      "Epoch  92 , loss 0.41312118488199573\n"
     ]
    },
    {
     "name": "stderr",
     "output_type": "stream",
     "text": [
      "\r",
      "Iterations:  31%|██████████▌                       | 93/300 [01:44<03:55,  1.14s/it]"
     ]
    },
    {
     "name": "stdout",
     "output_type": "stream",
     "text": [
      "Epoch:  92\n",
      "t_loss:  0.41312118488199573 , v_loss:  0.6420358618100485\n",
      "t_acc:  0.704014939309057 , v_acc:  0.6956521739130435\n",
      "t_recall:  0.5201294245206627 , v_recall:  0.51\n",
      "t_prec:  0.6972346491424678 , v_prec:  0.846875\n",
      "t_f:  0.4582789422092793 , v_f:  0.42920193907821425\n",
      "////////\n"
     ]
    },
    {
     "name": "stderr",
     "output_type": "stream",
     "text": [
      "\r",
      "Iterations:  31%|██████████▋                       | 94/300 [01:45<03:42,  1.08s/it]"
     ]
    },
    {
     "name": "stdout",
     "output_type": "stream",
     "text": [
      "Epoch  93 , loss 0.4232158544016819\n",
      "Epoch  94 , loss 0.4149535350939807\n"
     ]
    },
    {
     "name": "stderr",
     "output_type": "stream",
     "text": [
      "\r",
      "Iterations:  32%|██████████▊                       | 95/300 [01:46<03:52,  1.14s/it]"
     ]
    },
    {
     "name": "stdout",
     "output_type": "stream",
     "text": [
      "Epoch:  94\n",
      "t_loss:  0.4149535350939807 , v_loss:  0.63686470190684\n",
      "t_acc:  0.7058823529411765 , v_acc:  0.7018633540372671\n",
      "t_recall:  0.522046773994318 , v_recall:  0.52\n",
      "t_prec:  0.7221415532691668 , v_prec:  0.8490566037735849\n",
      "t_f:  0.4608689954726835 , v_f:  0.44957264957264953\n",
      "////////\n"
     ]
    },
    {
     "name": "stderr",
     "output_type": "stream",
     "text": [
      "\r",
      "Iterations:  32%|██████████▉                       | 96/300 [01:47<03:32,  1.04s/it]"
     ]
    },
    {
     "name": "stdout",
     "output_type": "stream",
     "text": [
      "Epoch  95 , loss 0.41405826748586166\n",
      "Epoch  96 , loss 0.42281943150595125\n"
     ]
    },
    {
     "name": "stderr",
     "output_type": "stream",
     "text": [
      "\r",
      "Iterations:  32%|██████████▉                       | 97/300 [01:48<03:44,  1.11s/it]"
     ]
    },
    {
     "name": "stdout",
     "output_type": "stream",
     "text": [
      "Epoch:  96\n",
      "t_loss:  0.42281943150595125 , v_loss:  0.635617752869924\n",
      "t_acc:  0.7009025832555245 , v_acc:  0.6956521739130435\n",
      "t_recall:  0.5167421528664169 , v_recall:  0.51\n",
      "t_prec:  0.6596522991013001 , v_prec:  0.846875\n",
      "t_f:  0.4534210165291085 , v_f:  0.42920193907821425\n",
      "////////\n"
     ]
    },
    {
     "name": "stderr",
     "output_type": "stream",
     "text": [
      "\r",
      "Iterations:  33%|███████████                       | 98/300 [01:49<03:34,  1.06s/it]"
     ]
    },
    {
     "name": "stdout",
     "output_type": "stream",
     "text": [
      "Epoch  97 , loss 0.42611752362812266\n",
      "Epoch  98 , loss 0.4146786653528027\n"
     ]
    },
    {
     "name": "stderr",
     "output_type": "stream",
     "text": [
      "\r",
      "Iterations:  33%|███████████▏                      | 99/300 [01:50<03:53,  1.16s/it]"
     ]
    },
    {
     "name": "stdout",
     "output_type": "stream",
     "text": [
      "Epoch:  98\n",
      "t_loss:  0.4146786653528027 , v_loss:  0.6356382817029953\n",
      "t_acc:  0.704014939309057 , v_acc:  0.6956521739130435\n",
      "t_recall:  0.5198418907234322 , v_recall:  0.51\n",
      "t_prec:  0.6999253235977432 , v_prec:  0.846875\n",
      "t_f:  0.4574459414756846 , v_f:  0.42920193907821425\n",
      "////////\n"
     ]
    },
    {
     "name": "stderr",
     "output_type": "stream",
     "text": [
      "\r",
      "Iterations:  33%|███████████                      | 100/300 [01:51<03:31,  1.06s/it]"
     ]
    },
    {
     "name": "stdout",
     "output_type": "stream",
     "text": [
      "Epoch  99 , loss 0.4177409170889387\n",
      "Epoch  100 , loss 0.409743794039184\n"
     ]
    },
    {
     "name": "stderr",
     "output_type": "stream",
     "text": [
      "\r",
      "Iterations:  34%|███████████                      | 101/300 [01:53<03:46,  1.14s/it]"
     ]
    },
    {
     "name": "stdout",
     "output_type": "stream",
     "text": [
      "Epoch:  100\n",
      "t_loss:  0.409743794039184 , v_loss:  0.633379062016805\n",
      "t_acc:  0.7099284158107687 , v_acc:  0.6956521739130435\n",
      "t_recall:  0.5272553217770823 , v_recall:  0.51\n",
      "t_prec:  0.7634312320916905 , v_prec:  0.846875\n",
      "t_f:  0.4695089285714286 , v_f:  0.42920193907821425\n",
      "////////\n"
     ]
    },
    {
     "name": "stderr",
     "output_type": "stream",
     "text": [
      "\r",
      "Iterations:  34%|███████████▏                     | 102/300 [01:53<03:26,  1.04s/it]"
     ]
    },
    {
     "name": "stdout",
     "output_type": "stream",
     "text": [
      "Epoch  101 , loss 0.417683085974525\n",
      "Epoch  102 , loss 0.4136077177290823\n"
     ]
    },
    {
     "name": "stderr",
     "output_type": "stream",
     "text": [
      "\r",
      "Iterations:  34%|███████████▎                     | 103/300 [01:55<03:48,  1.16s/it]"
     ]
    },
    {
     "name": "stdout",
     "output_type": "stream",
     "text": [
      "Epoch:  102\n",
      "t_loss:  0.4136077177290823 , v_loss:  0.6378566573063532\n",
      "t_acc:  0.7071272953625894 , v_acc:  0.6956521739130435\n",
      "t_recall:  0.5243792975665994 , v_recall:  0.51\n",
      "t_prec:  0.7264244741873804 , v_prec:  0.846875\n",
      "t_f:  0.465613919550268 , v_f:  0.42920193907821425\n",
      "////////\n"
     ]
    },
    {
     "name": "stderr",
     "output_type": "stream",
     "text": [
      "\r",
      "Iterations:  35%|███████████▍                     | 104/300 [01:56<03:27,  1.06s/it]"
     ]
    },
    {
     "name": "stdout",
     "output_type": "stream",
     "text": [
      "Epoch  103 , loss 0.4117419182085523\n",
      "Epoch  104 , loss 0.41220643882657965\n"
     ]
    },
    {
     "name": "stderr",
     "output_type": "stream",
     "text": [
      "\r",
      "Iterations:  35%|███████████▌                     | 105/300 [01:57<03:41,  1.13s/it]"
     ]
    },
    {
     "name": "stdout",
     "output_type": "stream",
     "text": [
      "Epoch:  104\n",
      "t_loss:  0.41220643882657965 , v_loss:  0.6322082976500193\n",
      "t_acc:  0.7083722377840025 , v_acc:  0.6956521739130435\n",
      "t_recall:  0.5258492197471898 , v_recall:  0.51\n",
      "t_prec:  0.7400764818355641 , v_prec:  0.846875\n",
      "t_f:  0.467885486310947 , v_f:  0.42920193907821425\n",
      "////////\n"
     ]
    },
    {
     "name": "stderr",
     "output_type": "stream",
     "text": [
      "\r",
      "Iterations:  35%|███████████▋                     | 106/300 [01:58<03:26,  1.07s/it]"
     ]
    },
    {
     "name": "stdout",
     "output_type": "stream",
     "text": [
      "Epoch  105 , loss 0.40789923773092385\n",
      "Epoch  106 , loss 0.4118691542569329\n"
     ]
    },
    {
     "name": "stderr",
     "output_type": "stream",
     "text": [
      "\r",
      "Iterations:  36%|███████████▊                     | 107/300 [01:59<03:39,  1.14s/it]"
     ]
    },
    {
     "name": "stdout",
     "output_type": "stream",
     "text": [
      "Epoch:  106\n",
      "t_loss:  0.4118691542569329 , v_loss:  0.6340245058139166\n",
      "t_acc:  0.7058823529411765 , v_acc:  0.6956521739130435\n",
      "t_recall:  0.5226218415887787 , v_recall:  0.51\n",
      "t_prec:  0.7157207049995638 , v_prec:  0.846875\n",
      "t_f:  0.4625211869094771 , v_f:  0.42920193907821425\n",
      "////////\n"
     ]
    },
    {
     "name": "stderr",
     "output_type": "stream",
     "text": [
      "\r",
      "Iterations:  36%|███████████▉                     | 108/300 [02:00<03:21,  1.05s/it]"
     ]
    },
    {
     "name": "stdout",
     "output_type": "stream",
     "text": [
      "Epoch  107 , loss 0.410423922772501\n",
      "Epoch  108 , loss 0.4133183880179536\n"
     ]
    },
    {
     "name": "stderr",
     "output_type": "stream",
     "text": [
      "\r",
      "Iterations:  36%|███████████▉                     | 109/300 [02:01<03:39,  1.15s/it]"
     ]
    },
    {
     "name": "stdout",
     "output_type": "stream",
     "text": [
      "Epoch:  108\n",
      "t_loss:  0.4133183880179536 , v_loss:  0.6351805180311203\n",
      "t_acc:  0.7074385309679427 , v_acc:  0.6956521739130435\n",
      "t_recall:  0.5237404098214409 , v_recall:  0.51\n",
      "t_prec:  0.7426470588235294 , v_prec:  0.846875\n",
      "t_f:  0.4633086212656464 , v_f:  0.42920193907821425\n",
      "////////\n"
     ]
    },
    {
     "name": "stderr",
     "output_type": "stream",
     "text": [
      "\r",
      "Iterations:  37%|████████████                     | 110/300 [02:02<03:26,  1.09s/it]"
     ]
    },
    {
     "name": "stdout",
     "output_type": "stream",
     "text": [
      "Epoch  109 , loss 0.40875644835771296\n",
      "Epoch  110 , loss 0.4116594534294278\n"
     ]
    },
    {
     "name": "stderr",
     "output_type": "stream",
     "text": [
      "\r",
      "Iterations:  37%|████████████▏                    | 111/300 [02:04<03:41,  1.17s/it]"
     ]
    },
    {
     "name": "stdout",
     "output_type": "stream",
     "text": [
      "Epoch:  110\n",
      "t_loss:  0.4116594534294278 , v_loss:  0.6322010705868403\n",
      "t_acc:  0.7121070650482415 , v_acc:  0.7018633540372671\n",
      "t_recall:  0.5316966552751129 , v_recall:  0.52\n",
      "t_prec:  0.7605818414322251 , v_prec:  0.8490566037735849\n",
      "t_f:  0.4786715849811669 , v_f:  0.44957264957264953\n",
      "////////\n"
     ]
    },
    {
     "name": "stderr",
     "output_type": "stream",
     "text": [
      "\r",
      "Iterations:  37%|████████████▎                    | 112/300 [02:05<03:21,  1.07s/it]"
     ]
    },
    {
     "name": "stdout",
     "output_type": "stream",
     "text": [
      "Epoch  111 , loss 0.40849608650394514\n",
      "Epoch  112 , loss 0.41377149434650645\n"
     ]
    },
    {
     "name": "stderr",
     "output_type": "stream",
     "text": [
      "\r",
      "Iterations:  38%|████████████▍                    | 113/300 [02:06<03:32,  1.14s/it]"
     ]
    },
    {
     "name": "stdout",
     "output_type": "stream",
     "text": [
      "Epoch:  112\n",
      "t_loss:  0.41377149434650645 , v_loss:  0.6318747103214264\n",
      "t_acc:  0.7071272953625894 , v_acc:  0.7018633540372671\n",
      "t_recall:  0.5255294327555208 , v_recall:  0.52\n",
      "t_prec:  0.7148004157203895 , v_prec:  0.8490566037735849\n",
      "t_f:  0.46885238125772427 , v_f:  0.44957264957264953\n",
      "////////\n"
     ]
    },
    {
     "name": "stderr",
     "output_type": "stream",
     "text": [
      "\r",
      "Iterations:  38%|████████████▌                    | 114/300 [02:07<03:13,  1.04s/it]"
     ]
    },
    {
     "name": "stdout",
     "output_type": "stream",
     "text": [
      "Epoch  113 , loss 0.409634844345205\n",
      "Epoch  114 , loss 0.4117867023337121\n"
     ]
    },
    {
     "name": "stderr",
     "output_type": "stream",
     "text": [
      "\r",
      "Iterations:  38%|████████████▋                    | 115/300 [02:08<03:31,  1.14s/it]"
     ]
    },
    {
     "name": "stdout",
     "output_type": "stream",
     "text": [
      "Epoch:  114\n",
      "t_loss:  0.4117867023337121 , v_loss:  0.6285779972871145\n",
      "t_acc:  0.706504824151883 , v_acc:  0.7080745341614907\n",
      "t_recall:  0.5242194040707648 , v_recall:  0.5354954954954955\n",
      "t_prec:  0.71382267171811 , v_prec:  0.7525641025641026\n",
      "t_f:  0.4661072455437704 , v_f:  0.4847122914538645\n",
      "////////\n"
     ]
    },
    {
     "name": "stderr",
     "output_type": "stream",
     "text": [
      "\r",
      "Iterations:  39%|████████████▊                    | 116/300 [02:09<03:16,  1.07s/it]"
     ]
    },
    {
     "name": "stdout",
     "output_type": "stream",
     "text": [
      "Epoch  115 , loss 0.40914445706442293\n",
      "Epoch  116 , loss 0.4078507183813581\n"
     ]
    },
    {
     "name": "stderr",
     "output_type": "stream",
     "text": [
      "\r",
      "Iterations:  39%|████████████▊                    | 117/300 [02:10<03:28,  1.14s/it]"
     ]
    },
    {
     "name": "stdout",
     "output_type": "stream",
     "text": [
      "Epoch:  116\n",
      "t_loss:  0.4078507183813581 , v_loss:  0.629239042599996\n",
      "t_acc:  0.7130407718643013 , v_acc:  0.7080745341614907\n",
      "t_recall:  0.5352431341870136 , v_recall:  0.53\n",
      "t_prec:  0.7427675988428158 , v_prec:  0.8512658227848101\n",
      "t_f:  0.4869154508043397 , v_f:  0.4692431787893666\n",
      "////////\n"
     ]
    },
    {
     "name": "stderr",
     "output_type": "stream",
     "text": [
      "\r",
      "Iterations:  39%|████████████▉                    | 118/300 [02:11<03:09,  1.04s/it]"
     ]
    },
    {
     "name": "stdout",
     "output_type": "stream",
     "text": [
      "Epoch  117 , loss 0.41373003522555035\n",
      "Epoch  118 , loss 0.41257571998764486\n"
     ]
    },
    {
     "name": "stderr",
     "output_type": "stream",
     "text": [
      "\r",
      "Iterations:  40%|█████████████                    | 119/300 [02:12<03:21,  1.12s/it]"
     ]
    },
    {
     "name": "stdout",
     "output_type": "stream",
     "text": [
      "Epoch:  118\n",
      "t_loss:  0.41257571998764486 , v_loss:  0.6274814705053965\n",
      "t_acc:  0.711484593837535 , v_acc:  0.7018633540372671\n",
      "t_recall:  0.5335494983598907 , v_recall:  0.5254954954954955\n",
      "t_prec:  0.7289311023007523 , v_prec:  0.7253184713375795\n",
      "t_f:  0.4845137847452684 , v_f:  0.4660033167495854\n",
      "////////\n"
     ]
    },
    {
     "name": "stderr",
     "output_type": "stream",
     "text": [
      "\r",
      "Iterations:  40%|█████████████▏                   | 120/300 [02:13<03:08,  1.05s/it]"
     ]
    },
    {
     "name": "stdout",
     "output_type": "stream",
     "text": [
      "Epoch  119 , loss 0.41780417397910474\n",
      "Epoch  120 , loss 0.4060585907861298\n"
     ]
    },
    {
     "name": "stderr",
     "output_type": "stream",
     "text": [
      "\r",
      "Iterations:  40%|█████████████▎                   | 121/300 [02:15<03:27,  1.16s/it]"
     ]
    },
    {
     "name": "stdout",
     "output_type": "stream",
     "text": [
      "Epoch:  120\n",
      "t_loss:  0.4060585907861298 , v_loss:  0.6278341462214788\n",
      "t_acc:  0.710239651416122 , v_acc:  0.6956521739130435\n",
      "t_recall:  0.5315045085848397 , v_recall:  0.5154954954954954\n",
      "t_prec:  0.7233753722193028 , v_prec:  0.6814345991561181\n",
      "t_f:  0.48075526053082573 , v_f:  0.44665778214210566\n",
      "////////\n"
     ]
    },
    {
     "name": "stderr",
     "output_type": "stream",
     "text": [
      "\r",
      "Iterations:  41%|█████████████▍                   | 122/300 [02:15<03:09,  1.06s/it]"
     ]
    },
    {
     "name": "stdout",
     "output_type": "stream",
     "text": [
      "Epoch  121 , loss 0.40759483330390034\n",
      "Epoch  122 , loss 0.41667669602468904\n"
     ]
    },
    {
     "name": "stderr",
     "output_type": "stream",
     "text": [
      "\r",
      "Iterations:  41%|█████████████▌                   | 123/300 [02:17<03:21,  1.14s/it]"
     ]
    },
    {
     "name": "stdout",
     "output_type": "stream",
     "text": [
      "Epoch:  122\n",
      "t_loss:  0.41667669602468904 , v_loss:  0.6290643115838369\n",
      "t_acc:  0.708994708994709 , v_acc:  0.7018633540372671\n",
      "t_recall:  0.5300345864042492 , v_recall:  0.5254954954954955\n",
      "t_prec:  0.7129532317393589 , v_prec:  0.7253184713375795\n",
      "t_f:  0.4785243486534072 , v_f:  0.4660033167495854\n",
      "////////\n"
     ]
    },
    {
     "name": "stderr",
     "output_type": "stream",
     "text": [
      "\r",
      "Iterations:  41%|█████████████▋                   | 124/300 [02:18<03:01,  1.03s/it]"
     ]
    },
    {
     "name": "stdout",
     "output_type": "stream",
     "text": [
      "Epoch  123 , loss 0.40816295205378067\n",
      "Epoch  124 , loss 0.40740182791270463\n"
     ]
    },
    {
     "name": "stderr",
     "output_type": "stream",
     "text": [
      "\r",
      "Iterations:  42%|█████████████▊                   | 125/300 [02:19<03:19,  1.14s/it]"
     ]
    },
    {
     "name": "stdout",
     "output_type": "stream",
     "text": [
      "Epoch:  124\n",
      "t_loss:  0.40740182791270463 , v_loss:  0.6266466428836187\n",
      "t_acc:  0.710239651416122 , v_acc:  0.6956521739130435\n",
      "t_recall:  0.53179204238207 , v_recall:  0.5154954954954954\n",
      "t_prec:  0.721092417725063 , v_prec:  0.6814345991561181\n",
      "t_f:  0.4815238569331057 , v_f:  0.44665778214210566\n",
      "////////\n"
     ]
    },
    {
     "name": "stderr",
     "output_type": "stream",
     "text": [
      "\r",
      "Iterations:  42%|█████████████▊                   | 126/300 [02:20<03:01,  1.04s/it]"
     ]
    },
    {
     "name": "stdout",
     "output_type": "stream",
     "text": [
      "Epoch  125 , loss 0.40806875158758726\n",
      "Epoch  126 , loss 0.41172098003181756\n"
     ]
    },
    {
     "name": "stderr",
     "output_type": "stream",
     "text": [
      "\r",
      "Iterations:  42%|█████████████▉                   | 127/300 [02:21<03:14,  1.13s/it]"
     ]
    },
    {
     "name": "stdout",
     "output_type": "stream",
     "text": [
      "Epoch:  126\n",
      "t_loss:  0.41172098003181756 , v_loss:  0.6201819529136022\n",
      "t_acc:  0.7096171802054155 , v_acc:  0.6956521739130435\n",
      "t_recall:  0.5310570812917748 , v_recall:  0.520990990990991\n",
      "t_prec:  0.7159812542950953 , v_prec:  0.6493589743589743\n",
      "t_f:  0.4804100521144872 , v_f:  0.4627851549199864\n",
      "////////\n"
     ]
    },
    {
     "name": "stderr",
     "output_type": "stream",
     "text": [
      "\r",
      "Iterations:  43%|██████████████                   | 128/300 [02:22<03:04,  1.07s/it]"
     ]
    },
    {
     "name": "stdout",
     "output_type": "stream",
     "text": [
      "Epoch  127 , loss 0.40353333950042725\n",
      "Epoch  128 , loss 0.4082315242757984\n"
     ]
    },
    {
     "name": "stderr",
     "output_type": "stream",
     "text": [
      "\r",
      "Iterations:  43%|██████████████▏                  | 129/300 [02:23<03:15,  1.14s/it]"
     ]
    },
    {
     "name": "stdout",
     "output_type": "stream",
     "text": [
      "Epoch:  128\n",
      "t_loss:  0.4082315242757984 , v_loss:  0.6265499542156855\n",
      "t_acc:  0.712729536258948 , v_acc:  0.6956521739130435\n",
      "t_recall:  0.5361695557294025 , v_recall:  0.5154954954954954\n",
      "t_prec:  0.7296121072716817 , v_prec:  0.6814345991561181\n",
      "t_f:  0.4897449119432869 , v_f:  0.44665778214210566\n",
      "////////\n"
     ]
    },
    {
     "name": "stderr",
     "output_type": "stream",
     "text": [
      "\r",
      "Iterations:  43%|██████████████▎                  | 130/300 [02:24<02:58,  1.05s/it]"
     ]
    },
    {
     "name": "stdout",
     "output_type": "stream",
     "text": [
      "Epoch  129 , loss 0.4053560869366515\n",
      "Epoch  130 , loss 0.4072709328988019\n"
     ]
    },
    {
     "name": "stderr",
     "output_type": "stream",
     "text": [
      "\r",
      "Iterations:  44%|██████████████▍                  | 131/300 [02:25<03:10,  1.13s/it]"
     ]
    },
    {
     "name": "stdout",
     "output_type": "stream",
     "text": [
      "Epoch:  130\n",
      "t_loss:  0.4072709328988019 , v_loss:  0.6143241971731186\n",
      "t_acc:  0.713974478680361 , v_acc:  0.7080745341614907\n",
      "t_recall:  0.5353392075321503 , v_recall:  0.540990990990991\n",
      "t_prec:  0.7607795145336078 , v_prec:  0.711038961038961\n",
      "t_f:  0.4859217005419263 , v_f:  0.4990400529625952\n",
      "////////\n"
     ]
    },
    {
     "name": "stderr",
     "output_type": "stream",
     "text": [
      "\r",
      "Iterations:  44%|██████████████▌                  | 132/300 [02:26<02:57,  1.06s/it]"
     ]
    },
    {
     "name": "stdout",
     "output_type": "stream",
     "text": [
      "Epoch  131 , loss 0.4094914379073124\n",
      "Epoch  132 , loss 0.4017581513115004\n"
     ]
    },
    {
     "name": "stderr",
     "output_type": "stream",
     "text": [
      "\r",
      "Iterations:  44%|██████████████▋                  | 133/300 [02:28<03:13,  1.16s/it]"
     ]
    },
    {
     "name": "stdout",
     "output_type": "stream",
     "text": [
      "Epoch:  132\n",
      "t_loss:  0.4017581513115004 , v_loss:  0.6203554272651672\n",
      "t_acc:  0.7149081854964208 , v_acc:  0.7018633540372671\n",
      "t_recall:  0.539748287835742 , v_recall:  0.530990990990991\n",
      "t_prec:  0.7378987431888502 , v_prec:  0.6849462365591398\n",
      "t_f:  0.49618808288026733 , v_f:  0.48120300751879697\n",
      "////////\n"
     ]
    },
    {
     "name": "stderr",
     "output_type": "stream",
     "text": [
      "\r",
      "Iterations:  45%|██████████████▋                  | 134/300 [02:29<02:56,  1.06s/it]"
     ]
    },
    {
     "name": "stdout",
     "output_type": "stream",
     "text": [
      "Epoch  133 , loss 0.4083431725408517\n",
      "Epoch  134 , loss 0.4044882479835959\n"
     ]
    },
    {
     "name": "stderr",
     "output_type": "stream",
     "text": [
      "\r",
      "Iterations:  45%|██████████████▊                  | 135/300 [02:30<03:06,  1.13s/it]"
     ]
    },
    {
     "name": "stdout",
     "output_type": "stream",
     "text": [
      "Epoch:  134\n",
      "t_loss:  0.4044882479835959 , v_loss:  0.6212587306896845\n",
      "t_acc:  0.7186430127606598 , v_acc:  0.7018633540372671\n",
      "t_recall:  0.5432954529858223 , v_recall:  0.530990990990991\n",
      "t_prec:  0.7724826668816511 , v_prec:  0.6849462365591398\n",
      "t_f:  0.5006134547405198 , v_f:  0.48120300751879697\n",
      "////////\n"
     ]
    },
    {
     "name": "stderr",
     "output_type": "stream",
     "text": [
      "\r",
      "Iterations:  45%|██████████████▉                  | 136/300 [02:31<02:48,  1.03s/it]"
     ]
    },
    {
     "name": "stdout",
     "output_type": "stream",
     "text": [
      "Epoch  135 , loss 0.41281869247847913\n",
      "Epoch  136 , loss 0.40592340862049775\n"
     ]
    },
    {
     "name": "stderr",
     "output_type": "stream",
     "text": [
      "\r",
      "Iterations:  46%|███████████████                  | 137/300 [02:32<03:05,  1.14s/it]"
     ]
    },
    {
     "name": "stdout",
     "output_type": "stream",
     "text": [
      "Epoch:  136\n",
      "t_loss:  0.40592340862049775 , v_loss:  0.6158315986394882\n",
      "t_acc:  0.7158418923124805 , v_acc:  0.7142857142857143\n",
      "t_recall:  0.540131894978109 , v_recall:  0.5509909909909909\n",
      "t_prec:  0.7504182129603197 , v_prec:  0.7312091503267975\n",
      "t_f:  0.4960095249794476 , v_f:  0.5163270637408569\n",
      "////////\n"
     ]
    },
    {
     "name": "stderr",
     "output_type": "stream",
     "text": [
      "\r",
      "Iterations:  46%|███████████████▏                 | 138/300 [02:33<02:49,  1.05s/it]"
     ]
    },
    {
     "name": "stdout",
     "output_type": "stream",
     "text": [
      "Epoch  137 , loss 0.4092342257499695\n",
      "Epoch  138 , loss 0.4031374477872662\n"
     ]
    },
    {
     "name": "stderr",
     "output_type": "stream",
     "text": [
      "\r",
      "Iterations:  46%|███████████████▎                 | 139/300 [02:34<03:01,  1.13s/it]"
     ]
    },
    {
     "name": "stdout",
     "output_type": "stream",
     "text": [
      "Epoch:  138\n",
      "t_loss:  0.4031374477872662 , v_loss:  0.6189562678337097\n",
      "t_acc:  0.7121070650482415 , v_acc:  0.7080745341614907\n",
      "t_recall:  0.534284459450186 , v_recall:  0.540990990990991\n",
      "t_prec:  0.7339462429369712 , v_prec:  0.711038961038961\n",
      "t_f:  0.48562594486448035 , v_f:  0.4990400529625952\n",
      "////////\n"
     ]
    },
    {
     "name": "stderr",
     "output_type": "stream",
     "text": [
      "\r",
      "Iterations:  47%|███████████████▍                 | 140/300 [02:35<02:50,  1.06s/it]"
     ]
    },
    {
     "name": "stdout",
     "output_type": "stream",
     "text": [
      "Epoch  139 , loss 0.4092092186796899\n",
      "Epoch  140 , loss 0.4072229599251467\n"
     ]
    },
    {
     "name": "stderr",
     "output_type": "stream",
     "text": [
      "\r",
      "Iterations:  47%|███████████████▌                 | 141/300 [02:36<03:01,  1.14s/it]"
     ]
    },
    {
     "name": "stdout",
     "output_type": "stream",
     "text": [
      "Epoch:  140\n",
      "t_loss:  0.4072229599251467 , v_loss:  0.611029307047526\n",
      "t_acc:  0.7170868347338936 , v_acc:  0.7142857142857143\n",
      "t_recall:  0.5436145537393119 , v_recall:  0.5509909909909909\n",
      "t_prec:  0.7432473808563949 , v_prec:  0.7312091503267975\n",
      "t_f:  0.5032715076691773 , v_f:  0.5163270637408569\n",
      "////////\n"
     ]
    },
    {
     "name": "stderr",
     "output_type": "stream",
     "text": [
      "\r",
      "Iterations:  47%|███████████████▌                 | 142/300 [02:37<02:45,  1.05s/it]"
     ]
    },
    {
     "name": "stdout",
     "output_type": "stream",
     "text": [
      "Epoch  141 , loss 0.40395697571483313\n",
      "Epoch  142 , loss 0.3982934554417928\n"
     ]
    },
    {
     "name": "stderr",
     "output_type": "stream",
     "text": [
      "\r",
      "Iterations:  48%|███████████████▋                 | 143/300 [02:39<02:57,  1.13s/it]"
     ]
    },
    {
     "name": "stdout",
     "output_type": "stream",
     "text": [
      "Epoch:  142\n",
      "t_loss:  0.3982934554417928 , v_loss:  0.6103783200184504\n",
      "t_acc:  0.7186430127606598 , v_acc:  0.7204968944099379\n",
      "t_recall:  0.543870520580283 , v_recall:  0.5609909909909909\n",
      "t_prec:  0.7669254450914678 , v_prec:  0.7474415204678362\n",
      "t_f:  0.5020661015345244 , v_f:  0.5330927369981311\n",
      "////////\n"
     ]
    },
    {
     "name": "stderr",
     "output_type": "stream",
     "text": [
      "\r",
      "Iterations:  48%|███████████████▊                 | 144/300 [02:40<02:47,  1.07s/it]"
     ]
    },
    {
     "name": "stdout",
     "output_type": "stream",
     "text": [
      "Epoch  143 , loss 0.3979416244170245\n",
      "Epoch  144 , loss 0.40127410549743503\n"
     ]
    },
    {
     "name": "stderr",
     "output_type": "stream",
     "text": [
      "\r",
      "Iterations:  48%|███████████████▉                 | 145/300 [02:41<03:02,  1.17s/it]"
     ]
    },
    {
     "name": "stdout",
     "output_type": "stream",
     "text": [
      "Epoch:  144\n",
      "t_loss:  0.40127410549743503 , v_loss:  0.619235540429751\n",
      "t_acc:  0.7133520074696545 , v_acc:  0.7142857142857143\n",
      "t_recall:  0.5392047871975405 , v_recall:  0.5509909909909909\n",
      "t_prec:  0.7186532014023199 , v_prec:  0.7312091503267975\n",
      "t_f:  0.4967140358232258 , v_f:  0.5163270637408569\n",
      "////////\n"
     ]
    },
    {
     "name": "stderr",
     "output_type": "stream",
     "text": [
      "\r",
      "Iterations:  49%|████████████████                 | 146/300 [02:42<02:44,  1.07s/it]"
     ]
    },
    {
     "name": "stdout",
     "output_type": "stream",
     "text": [
      "Epoch  145 , loss 0.4052986122813879\n",
      "Epoch  146 , loss 0.39669517413073896\n"
     ]
    },
    {
     "name": "stderr",
     "output_type": "stream",
     "text": [
      "\r",
      "Iterations:  49%|████████████████▏                | 147/300 [02:43<02:55,  1.14s/it]"
     ]
    },
    {
     "name": "stdout",
     "output_type": "stream",
     "text": [
      "Epoch:  146\n",
      "t_loss:  0.39669517413073896 , v_loss:  0.6182866791884104\n",
      "t_acc:  0.7217553688141923 , v_acc:  0.7142857142857143\n",
      "t_recall:  0.5498455964096018 , v_recall:  0.5509909909909909\n",
      "t_prec:  0.7679029830928565 , v_prec:  0.7312091503267975\n",
      "t_f:  0.5132115185162589 , v_f:  0.5163270637408569\n",
      "////////\n"
     ]
    },
    {
     "name": "stderr",
     "output_type": "stream",
     "text": [
      "\r",
      "Iterations:  49%|████████████████▎                | 148/300 [02:44<02:39,  1.05s/it]"
     ]
    },
    {
     "name": "stdout",
     "output_type": "stream",
     "text": [
      "Epoch  147 , loss 0.4055706110655093\n",
      "Epoch  148 , loss 0.40522714280614663\n"
     ]
    },
    {
     "name": "stderr",
     "output_type": "stream",
     "text": [
      "\r",
      "Iterations:  50%|████████████████▍                | 149/300 [02:45<02:54,  1.15s/it]"
     ]
    },
    {
     "name": "stdout",
     "output_type": "stream",
     "text": [
      "Epoch:  148\n",
      "t_loss:  0.40522714280614663 , v_loss:  0.6149567315975825\n",
      "t_acc:  0.7164643635231871 , v_acc:  0.7142857142857143\n",
      "t_recall:  0.544029727837938 , v_recall:  0.5509909909909909\n",
      "t_prec:  0.7316114359974009 , v_prec:  0.7312091503267975\n",
      "t_f:  0.5050126247829283 , v_f:  0.5163270637408569\n",
      "////////\n"
     ]
    },
    {
     "name": "stderr",
     "output_type": "stream",
     "text": [
      "\r",
      "Iterations:  50%|████████████████▌                | 150/300 [02:46<02:37,  1.05s/it]"
     ]
    },
    {
     "name": "stdout",
     "output_type": "stream",
     "text": [
      "Epoch  149 , loss 0.3998104742929047\n",
      "Epoch  150 , loss 0.4015287564081304\n"
     ]
    },
    {
     "name": "stderr",
     "output_type": "stream",
     "text": [
      "\r",
      "Iterations:  50%|████████████████▌                | 151/300 [02:47<02:48,  1.13s/it]"
     ]
    },
    {
     "name": "stdout",
     "output_type": "stream",
     "text": [
      "Epoch:  150\n",
      "t_loss:  0.4015287564081304 , v_loss:  0.6098468701044718\n",
      "t_acc:  0.7158418923124805 , v_acc:  0.7142857142857143\n",
      "t_recall:  0.5415695639642607 , v_recall:  0.5564864864864865\n",
      "t_prec:  0.7390717499408004 , v_prec:  0.707615894039735\n",
      "t_f:  0.49964923053306215 , v_f:  0.528880407124682\n",
      "////////\n"
     ]
    },
    {
     "name": "stderr",
     "output_type": "stream",
     "text": [
      "\r",
      "Iterations:  51%|████████████████▋                | 152/300 [02:48<02:40,  1.08s/it]"
     ]
    },
    {
     "name": "stdout",
     "output_type": "stream",
     "text": [
      "Epoch  151 , loss 0.4008566246313207\n",
      "Epoch  152 , loss 0.4027199008885552\n"
     ]
    },
    {
     "name": "stderr",
     "output_type": "stream",
     "text": [
      "\r",
      "Iterations:  51%|████████████████▊                | 153/300 [02:50<02:47,  1.14s/it]"
     ]
    },
    {
     "name": "stdout",
     "output_type": "stream",
     "text": [
      "Epoch:  152\n",
      "t_loss:  0.4027199008885552 , v_loss:  0.6133427520593008\n",
      "t_acc:  0.7220666044195456 , v_acc:  0.7204968944099379\n",
      "t_recall:  0.5512194452450556 , v_recall:  0.5664864864864865\n",
      "t_prec:  0.7620188819666454 , v_prec:  0.7236363636363636\n",
      "t_f:  0.5161661090363098 , v_f:  0.5449406444318825\n",
      "////////\n"
     ]
    },
    {
     "name": "stderr",
     "output_type": "stream",
     "text": [
      "\r",
      "Iterations:  51%|████████████████▉                | 154/300 [02:51<02:33,  1.05s/it]"
     ]
    },
    {
     "name": "stdout",
     "output_type": "stream",
     "text": [
      "Epoch  153 , loss 0.4000877948368297\n",
      "Epoch  154 , loss 0.4018513758977254\n"
     ]
    },
    {
     "name": "stderr",
     "output_type": "stream",
     "text": [
      "\r",
      "Iterations:  52%|█████████████████                | 155/300 [02:52<02:43,  1.13s/it]"
     ]
    },
    {
     "name": "stdout",
     "output_type": "stream",
     "text": [
      "Epoch:  154\n",
      "t_loss:  0.4018513758977254 , v_loss:  0.6050819953282675\n",
      "t_acc:  0.715219421101774 , v_acc:  0.7204968944099379\n",
      "t_recall:  0.5411221366711958 , v_recall:  0.571981981981982\n",
      "t_prec:  0.7328652849740933 , v_prec:  0.7076403326403327\n",
      "t_f:  0.4992743476750937 , v_f:  0.555984555984556\n",
      "////////\n"
     ]
    },
    {
     "name": "stderr",
     "output_type": "stream",
     "text": [
      "\r",
      "Iterations:  52%|█████████████████▏               | 156/300 [02:53<02:34,  1.08s/it]"
     ]
    },
    {
     "name": "stdout",
     "output_type": "stream",
     "text": [
      "Epoch  155 , loss 0.4051819800161848\n",
      "Epoch  156 , loss 0.39548976836251276\n"
     ]
    },
    {
     "name": "stderr",
     "output_type": "stream",
     "text": [
      "\r",
      "Iterations:  52%|█████████████████▎               | 157/300 [02:54<02:48,  1.18s/it]"
     ]
    },
    {
     "name": "stdout",
     "output_type": "stream",
     "text": [
      "Epoch:  156\n",
      "t_loss:  0.39548976836251276 , v_loss:  0.6110420574744543\n",
      "t_acc:  0.7261126672891379 , v_acc:  0.7142857142857143\n",
      "t_recall:  0.5584407296084325 , v_recall:  0.561981981981982\n",
      "t_prec:  0.7678625349135653 , v_prec:  0.6923937360178971\n",
      "t_f:  0.5288485764676241 , v_f:  0.5405707196029776\n",
      "////////\n"
     ]
    },
    {
     "name": "stderr",
     "output_type": "stream",
     "text": [
      "\r",
      "Iterations:  53%|█████████████████▍               | 158/300 [02:55<02:31,  1.07s/it]"
     ]
    },
    {
     "name": "stdout",
     "output_type": "stream",
     "text": [
      "Epoch  157 , loss 0.3981267663778043\n",
      "Epoch  158 , loss 0.39838602496128456\n"
     ]
    },
    {
     "name": "stderr",
     "output_type": "stream",
     "text": [
      "\r",
      "Iterations:  53%|█████████████████▍               | 159/300 [02:56<02:40,  1.14s/it]"
     ]
    },
    {
     "name": "stdout",
     "output_type": "stream",
     "text": [
      "Epoch:  158\n",
      "t_loss:  0.39838602496128456 , v_loss:  0.6091151237487793\n",
      "t_acc:  0.7211328976034859 , v_acc:  0.7204968944099379\n",
      "t_recall:  0.5496857029137673 , v_recall:  0.571981981981982\n",
      "t_prec:  0.7595263243418915 , v_prec:  0.7076403326403327\n",
      "t_f:  0.5135082520386753 , v_f:  0.555984555984556\n",
      "////////\n"
     ]
    },
    {
     "name": "stderr",
     "output_type": "stream",
     "text": [
      "\r",
      "Iterations:  53%|█████████████████▌               | 160/300 [02:57<02:26,  1.04s/it]"
     ]
    },
    {
     "name": "stdout",
     "output_type": "stream",
     "text": [
      "Epoch  159 , loss 0.40336527602345335\n",
      "Epoch  160 , loss 0.4000595837247138\n"
     ]
    },
    {
     "name": "stderr",
     "output_type": "stream",
     "text": [
      "\r",
      "Iterations:  54%|█████████████████▋               | 161/300 [02:59<02:40,  1.15s/it]"
     ]
    },
    {
     "name": "stdout",
     "output_type": "stream",
     "text": [
      "Epoch:  160\n",
      "t_loss:  0.4000595837247138 , v_loss:  0.6068117419878641\n",
      "t_acc:  0.7189542483660131 , v_acc:  0.7204968944099379\n",
      "t_recall:  0.5481197073880403 , v_recall:  0.571981981981982\n",
      "t_prec:  0.7395879364934739 , v_prec:  0.7076403326403327\n",
      "t_f:  0.5121262236407005 , v_f:  0.555984555984556\n",
      "////////\n"
     ]
    },
    {
     "name": "stderr",
     "output_type": "stream",
     "text": [
      "\r",
      "Iterations:  54%|█████████████████▊               | 162/300 [02:59<02:26,  1.06s/it]"
     ]
    },
    {
     "name": "stdout",
     "output_type": "stream",
     "text": [
      "Epoch  161 , loss 0.3993249576465756\n",
      "Epoch  162 , loss 0.3961621867675407\n"
     ]
    },
    {
     "name": "stderr",
     "output_type": "stream",
     "text": [
      "\r",
      "Iterations:  54%|█████████████████▉               | 163/300 [03:01<02:36,  1.14s/it]"
     ]
    },
    {
     "name": "stdout",
     "output_type": "stream",
     "text": [
      "Epoch:  162\n",
      "t_loss:  0.3961621867675407 , v_loss:  0.6110178828239441\n",
      "t_acc:  0.7220666044195456 , v_acc:  0.7204968944099379\n",
      "t_recall:  0.551506979042286 , v_recall:  0.5664864864864865\n",
      "t_prec:  0.7599214594414894 , v_prec:  0.7236363636363636\n",
      "t_f:  0.5168488581270828 , v_f:  0.5449406444318825\n",
      "////////\n"
     ]
    },
    {
     "name": "stderr",
     "output_type": "stream",
     "text": [
      "\r",
      "Iterations:  55%|██████████████████               | 164/300 [03:02<02:26,  1.07s/it]"
     ]
    },
    {
     "name": "stdout",
     "output_type": "stream",
     "text": [
      "Epoch  163 , loss 0.4011663882171406\n",
      "Epoch  164 , loss 0.398468589665843\n"
     ]
    },
    {
     "name": "stderr",
     "output_type": "stream",
     "text": [
      "\r",
      "Iterations:  55%|██████████████████▏              | 165/300 [03:03<02:33,  1.13s/it]"
     ]
    },
    {
     "name": "stdout",
     "output_type": "stream",
     "text": [
      "Epoch:  164\n",
      "t_loss:  0.398468589665843 , v_loss:  0.6080655852953593\n",
      "t_acc:  0.7177093059446 , v_acc:  0.7204968944099379\n",
      "t_recall:  0.5454996500185284 , v_recall:  0.571981981981982\n",
      "t_prec:  0.7393437296946068 , v_prec:  0.7076403326403327\n",
      "t_f:  0.5071860051351438 , v_f:  0.555984555984556\n",
      "////////\n"
     ]
    },
    {
     "name": "stderr",
     "output_type": "stream",
     "text": [
      "\r",
      "Iterations:  55%|██████████████████▎              | 166/300 [03:04<02:20,  1.05s/it]"
     ]
    },
    {
     "name": "stdout",
     "output_type": "stream",
     "text": [
      "Epoch  165 , loss 0.3960536966721217\n",
      "Epoch  166 , loss 0.39732716889942393\n"
     ]
    },
    {
     "name": "stderr",
     "output_type": "stream",
     "text": [
      "\r",
      "Iterations:  56%|██████████████████▎              | 167/300 [03:05<02:32,  1.14s/it]"
     ]
    },
    {
     "name": "stdout",
     "output_type": "stream",
     "text": [
      "Epoch:  166\n",
      "t_loss:  0.39732716889942393 , v_loss:  0.6120856056610743\n",
      "t_acc:  0.7208216619981326 , v_acc:  0.7204968944099379\n",
      "t_recall:  0.5508996582533866 , v_recall:  0.5664864864864865\n",
      "t_prec:  0.7468549063461001 , v_prec:  0.7236363636363636\n",
      "t_f:  0.5167266553480476 , v_f:  0.5449406444318825\n",
      "////////\n"
     ]
    },
    {
     "name": "stderr",
     "output_type": "stream",
     "text": [
      "\r",
      "Iterations:  56%|██████████████████▍              | 168/300 [03:06<02:21,  1.07s/it]"
     ]
    },
    {
     "name": "stdout",
     "output_type": "stream",
     "text": [
      "Epoch  167 , loss 0.3996936223086189\n",
      "Epoch  168 , loss 0.397937159912259\n"
     ]
    },
    {
     "name": "stderr",
     "output_type": "stream",
     "text": [
      "\r",
      "Iterations:  56%|██████████████████▌              | 169/300 [03:07<02:30,  1.15s/it]"
     ]
    },
    {
     "name": "stdout",
     "output_type": "stream",
     "text": [
      "Epoch:  168\n",
      "t_loss:  0.397937159912259 , v_loss:  0.6046116302410761\n",
      "t_acc:  0.7261126672891379 , v_acc:  0.7204968944099379\n",
      "t_recall:  0.5572905944195111 , v_recall:  0.571981981981982\n",
      "t_prec:  0.7760625633790397 , v_prec:  0.7076403326403327\n",
      "t_f:  0.5262173665337311 , v_f:  0.555984555984556\n",
      "////////\n"
     ]
    },
    {
     "name": "stderr",
     "output_type": "stream",
     "text": [
      "\r",
      "Iterations:  57%|██████████████████▋              | 170/300 [03:08<02:16,  1.05s/it]"
     ]
    },
    {
     "name": "stdout",
     "output_type": "stream",
     "text": [
      "Epoch  169 , loss 0.3946467281556597\n",
      "Epoch  170 , loss 0.39720241988406463\n"
     ]
    },
    {
     "name": "stderr",
     "output_type": "stream",
     "text": [
      "\r",
      "Iterations:  57%|██████████████████▊              | 171/300 [03:09<02:24,  1.12s/it]"
     ]
    },
    {
     "name": "stdout",
     "output_type": "stream",
     "text": [
      "Epoch:  170\n",
      "t_loss:  0.39720241988406463 , v_loss:  0.6062396615743637\n",
      "t_acc:  0.7164643635231871 , v_acc:  0.7267080745341615\n",
      "t_recall:  0.5454673968240897 , v_recall:  0.581981981981982\n",
      "t_prec:  0.7234051162163377 , v_prec:  0.7210884353741497\n",
      "t_f:  0.5084952501725782 , v_f:  0.5709786821705426\n",
      "////////\n"
     ]
    },
    {
     "name": "stderr",
     "output_type": "stream",
     "text": [
      "\r",
      "Iterations:  57%|██████████████████▉              | 172/300 [03:10<02:11,  1.03s/it]"
     ]
    },
    {
     "name": "stdout",
     "output_type": "stream",
     "text": [
      "Epoch  171 , loss 0.39703033075613137\n",
      "Epoch  172 , loss 0.3903059304929247\n"
     ]
    },
    {
     "name": "stderr",
     "output_type": "stream",
     "text": [
      "\r",
      "Iterations:  58%|███████████████████              | 173/300 [03:12<02:23,  1.13s/it]"
     ]
    },
    {
     "name": "stdout",
     "output_type": "stream",
     "text": [
      "Epoch:  172\n",
      "t_loss:  0.3903059304929247 , v_loss:  0.6053577214479446\n",
      "t_acc:  0.7248677248677249 , v_acc:  0.7267080745341615\n",
      "t_recall:  0.5549580708472297 , v_recall:  0.581981981981982\n",
      "t_prec:  0.7754734201365798 , v_prec:  0.7210884353741497\n",
      "t_f:  0.5220552205050886 , v_f:  0.5709786821705426\n",
      "////////\n"
     ]
    },
    {
     "name": "stderr",
     "output_type": "stream",
     "text": [
      "\r",
      "Iterations:  58%|███████████████████▏             | 174/300 [03:13<02:12,  1.05s/it]"
     ]
    },
    {
     "name": "stdout",
     "output_type": "stream",
     "text": [
      "Epoch  173 , loss 0.3989334755084094\n",
      "Epoch  174 , loss 0.3989308850437987\n"
     ]
    },
    {
     "name": "stderr",
     "output_type": "stream",
     "text": [
      "\r",
      "Iterations:  58%|███████████████████▎             | 175/300 [03:14<02:20,  1.13s/it]"
     ]
    },
    {
     "name": "stdout",
     "output_type": "stream",
     "text": [
      "Epoch:  174\n",
      "t_loss:  0.3989308850437987 , v_loss:  0.6138219684362411\n",
      "t_acc:  0.7205104263927793 , v_acc:  0.7142857142857143\n",
      "t_recall:  0.5515385459985452 , v_recall:  0.561981981981982\n",
      "t_prec:  0.7391378644239056 , v_prec:  0.6923937360178971\n",
      "t_f:  0.5185438946150118 , v_f:  0.5405707196029776\n",
      "////////\n"
     ]
    },
    {
     "name": "stderr",
     "output_type": "stream",
     "text": [
      "\r",
      "Iterations:  59%|███████████████████▎             | 176/300 [03:15<02:10,  1.05s/it]"
     ]
    },
    {
     "name": "stdout",
     "output_type": "stream",
     "text": [
      "Epoch  175 , loss 0.3985029061635335\n",
      "Epoch  176 , loss 0.3988828226631763\n"
     ]
    },
    {
     "name": "stderr",
     "output_type": "stream",
     "text": [
      "\r",
      "Iterations:  59%|███████████████████▍             | 177/300 [03:16<02:18,  1.12s/it]"
     ]
    },
    {
     "name": "stdout",
     "output_type": "stream",
     "text": [
      "Epoch:  176\n",
      "t_loss:  0.3988828226631763 , v_loss:  0.6025165021419525\n",
      "t_acc:  0.7261126672891379 , v_acc:  0.7267080745341615\n",
      "t_recall:  0.5613160675807359 , v_recall:  0.581981981981982\n",
      "t_prec:  0.7507455398569163 , v_prec:  0.7210884353741497\n",
      "t_f:  0.5352577167758512 , v_f:  0.5709786821705426\n",
      "////////\n"
     ]
    },
    {
     "name": "stderr",
     "output_type": "stream",
     "text": [
      "\r",
      "Iterations:  59%|███████████████████▌             | 178/300 [03:17<02:05,  1.03s/it]"
     ]
    },
    {
     "name": "stdout",
     "output_type": "stream",
     "text": [
      "Epoch  177 , loss 0.3988644124246111\n",
      "Epoch  178 , loss 0.39097708405232895\n"
     ]
    },
    {
     "name": "stderr",
     "output_type": "stream",
     "text": [
      "\r",
      "Iterations:  60%|███████████████████▋             | 179/300 [03:18<02:15,  1.12s/it]"
     ]
    },
    {
     "name": "stdout",
     "output_type": "stream",
     "text": [
      "Epoch:  178\n",
      "t_loss:  0.39097708405232895 , v_loss:  0.6059250434239706\n",
      "t_acc:  0.7230003112356054 , v_acc:  0.7267080745341615\n",
      "t_recall:  0.5559160593458777 , v_recall:  0.581981981981982\n",
      "t_prec:  0.7444284011551168 , v_prec:  0.7210884353741497\n",
      "t_f:  0.5261162469126637 , v_f:  0.5709786821705426\n",
      "////////\n"
     ]
    },
    {
     "name": "stderr",
     "output_type": "stream",
     "text": [
      "\r",
      "Iterations:  60%|███████████████████▊             | 180/300 [03:19<02:07,  1.06s/it]"
     ]
    },
    {
     "name": "stdout",
     "output_type": "stream",
     "text": [
      "Epoch  179 , loss 0.3980602055203681\n",
      "Epoch  180 , loss 0.3953171202949449\n"
     ]
    },
    {
     "name": "stderr",
     "output_type": "stream",
     "text": [
      "\r",
      "Iterations:  60%|███████████████████▉             | 181/300 [03:20<02:14,  1.13s/it]"
     ]
    },
    {
     "name": "stdout",
     "output_type": "stream",
     "text": [
      "Epoch:  180\n",
      "t_loss:  0.3953171202949449 , v_loss:  0.6030133763949076\n",
      "t_acc:  0.7264239028944911 , v_acc:  0.7267080745341615\n",
      "t_recall:  0.560389646038347 , v_recall:  0.581981981981982\n",
      "t_prec:  0.7594970924860718 , v_prec:  0.7210884353741497\n",
      "t_f:  0.5329343307845792 , v_f:  0.5709786821705426\n",
      "////////\n"
     ]
    },
    {
     "name": "stderr",
     "output_type": "stream",
     "text": [
      "\r",
      "Iterations:  61%|████████████████████             | 182/300 [03:21<02:02,  1.04s/it]"
     ]
    },
    {
     "name": "stdout",
     "output_type": "stream",
     "text": [
      "Epoch  181 , loss 0.396724841466137\n",
      "Epoch  182 , loss 0.3938688168338701\n"
     ]
    },
    {
     "name": "stderr",
     "output_type": "stream",
     "text": [
      "\r",
      "Iterations:  61%|████████████████████▏            | 183/300 [03:22<02:10,  1.11s/it]"
     ]
    },
    {
     "name": "stdout",
     "output_type": "stream",
     "text": [
      "Epoch:  182\n",
      "t_loss:  0.3938688168338701 , v_loss:  0.6024271448453268\n",
      "t_acc:  0.7245564892623716 , v_acc:  0.7267080745341615\n",
      "t_recall:  0.5593348979563827 , v_recall:  0.581981981981982\n",
      "t_prec:  0.7439499670836076 , v_prec:  0.7210884353741497\n",
      "t_f:  0.5323004870744267 , v_f:  0.5709786821705426\n",
      "////////\n"
     ]
    },
    {
     "name": "stderr",
     "output_type": "stream",
     "text": [
      "\r",
      "Iterations:  61%|████████████████████▏            | 184/300 [03:23<02:00,  1.04s/it]"
     ]
    },
    {
     "name": "stdout",
     "output_type": "stream",
     "text": [
      "Epoch  183 , loss 0.3954443960797553\n",
      "Epoch  184 , loss 0.40195038213449363\n"
     ]
    },
    {
     "name": "stderr",
     "output_type": "stream",
     "text": [
      "\r",
      "Iterations:  62%|████████████████████▎            | 185/300 [03:25<02:13,  1.16s/it]"
     ]
    },
    {
     "name": "stdout",
     "output_type": "stream",
     "text": [
      "Epoch:  184\n",
      "t_loss:  0.40195038213449363 , v_loss:  0.6021751364072164\n",
      "t_acc:  0.7226890756302521 , v_acc:  0.7329192546583851\n",
      "t_recall:  0.5548297443076543 , v_recall:  0.591981981981982\n",
      "t_prec:  0.7468120991956111 , v_prec:  0.7331050228310503\n",
      "t_f:  0.52394799581548 , v_f:  0.5855731816821312\n",
      "////////\n"
     ]
    },
    {
     "name": "stderr",
     "output_type": "stream",
     "text": [
      "\r",
      "Iterations:  62%|████████████████████▍            | 186/300 [03:26<02:01,  1.07s/it]"
     ]
    },
    {
     "name": "stdout",
     "output_type": "stream",
     "text": [
      "Epoch  185 , loss 0.39592603608673693\n",
      "Epoch  186 , loss 0.39813146287319706\n"
     ]
    },
    {
     "name": "stderr",
     "output_type": "stream",
     "text": [
      "\r",
      "Iterations:  62%|████████████████████▌            | 187/300 [03:27<02:07,  1.13s/it]"
     ]
    },
    {
     "name": "stdout",
     "output_type": "stream",
     "text": [
      "Epoch:  186\n",
      "t_loss:  0.39813146287319706 , v_loss:  0.5978121111790339\n",
      "t_acc:  0.7164643635231871 , v_acc:  0.7267080745341615\n",
      "t_recall:  0.5457549306213201 , v_recall:  0.5874774774774775\n",
      "t_prec:  0.7219038300251608 , v_prec:  0.7092672413793104\n",
      "t_f:  0.5091839275608375 , v_f:  0.5807291666666666\n",
      "////////\n"
     ]
    },
    {
     "name": "stderr",
     "output_type": "stream",
     "text": [
      "\r",
      "Iterations:  63%|████████████████████▋            | 188/300 [03:28<01:56,  1.04s/it]"
     ]
    },
    {
     "name": "stdout",
     "output_type": "stream",
     "text": [
      "Epoch  187 , loss 0.3934591482667362\n",
      "Epoch  188 , loss 0.3947915189406451\n"
     ]
    },
    {
     "name": "stderr",
     "output_type": "stream",
     "text": [
      "\r",
      "Iterations:  63%|████████████████████▊            | 189/300 [03:29<02:05,  1.13s/it]"
     ]
    },
    {
     "name": "stdout",
     "output_type": "stream",
     "text": [
      "Epoch:  188\n",
      "t_loss:  0.3947915189406451 , v_loss:  0.5956273972988129\n",
      "t_acc:  0.7239340180516651 , v_acc:  0.7453416149068323\n",
      "t_recall:  0.556587200285475 , v_recall:  0.6174774774774775\n",
      "t_prec:  0.7517237449427319 , v_prec:  0.7416604892512972\n",
      "t_f:  0.5267383528734236 , v_f:  0.621870882740448\n",
      "////////\n"
     ]
    },
    {
     "name": "stderr",
     "output_type": "stream",
     "text": [
      "\r",
      "Iterations:  63%|████████████████████▉            | 190/300 [03:30<01:54,  1.04s/it]"
     ]
    },
    {
     "name": "stdout",
     "output_type": "stream",
     "text": [
      "Epoch  189 , loss 0.3918349403961032\n",
      "Epoch  190 , loss 0.39244367971139793\n"
     ]
    },
    {
     "name": "stderr",
     "output_type": "stream",
     "text": [
      "\r",
      "Iterations:  64%|█████████████████████            | 191/300 [03:31<02:03,  1.13s/it]"
     ]
    },
    {
     "name": "stdout",
     "output_type": "stream",
     "text": [
      "Epoch:  190\n",
      "t_loss:  0.39244367971139793 , v_loss:  0.6055669983228048\n",
      "t_acc:  0.7276688453159041 , v_acc:  0.7329192546583851\n",
      "t_recall:  0.5638723047995499 , v_recall:  0.591981981981982\n",
      "t_prec:  0.7544023965363926 , v_prec:  0.7331050228310503\n",
      "t_f:  0.5394550502723177 , v_f:  0.5855731816821312\n",
      "////////\n"
     ]
    },
    {
     "name": "stderr",
     "output_type": "stream",
     "text": [
      "\r",
      "Iterations:  64%|█████████████████████            | 192/300 [03:32<01:53,  1.06s/it]"
     ]
    },
    {
     "name": "stdout",
     "output_type": "stream",
     "text": [
      "Epoch  191 , loss 0.3902864242885627\n",
      "Epoch  192 , loss 0.39268671881918815\n"
     ]
    },
    {
     "name": "stderr",
     "output_type": "stream",
     "text": [
      "\r",
      "Iterations:  64%|█████████████████████▏           | 193/300 [03:33<02:00,  1.13s/it]"
     ]
    },
    {
     "name": "stdout",
     "output_type": "stream",
     "text": [
      "Epoch:  192\n",
      "t_loss:  0.39268671881918815 , v_loss:  0.6034467468659083\n",
      "t_acc:  0.7267351384998444 , v_acc:  0.7267080745341615\n",
      "t_recall:  0.5643512990488739 , v_recall:  0.5874774774774775\n",
      "t_prec:  0.7425055858987091 , v_prec:  0.7092672413793104\n",
      "t_f:  0.5412627327010888 , v_f:  0.5807291666666666\n",
      "////////\n"
     ]
    },
    {
     "name": "stderr",
     "output_type": "stream",
     "text": [
      "\r",
      "Iterations:  65%|█████████████████████▎           | 194/300 [03:34<01:50,  1.05s/it]"
     ]
    },
    {
     "name": "stdout",
     "output_type": "stream",
     "text": [
      "Epoch  193 , loss 0.3919561759513967\n",
      "Epoch  194 , loss 0.3876163842631321\n"
     ]
    },
    {
     "name": "stderr",
     "output_type": "stream",
     "text": [
      "\r",
      "Iterations:  65%|█████████████████████▍           | 195/300 [03:36<01:58,  1.13s/it]"
     ]
    },
    {
     "name": "stdout",
     "output_type": "stream",
     "text": [
      "Epoch:  194\n",
      "t_loss:  0.3876163842631321 , v_loss:  0.6016001055637995\n",
      "t_acc:  0.7286025521319639 , v_acc:  0.7329192546583851\n",
      "t_recall:  0.5642559119419168 , v_recall:  0.591981981981982\n",
      "t_prec:  0.7627677208369503 , v_prec:  0.7331050228310503\n",
      "t_f:  0.5394826466233434 , v_f:  0.5855731816821312\n",
      "////////\n"
     ]
    },
    {
     "name": "stderr",
     "output_type": "stream",
     "text": [
      "\r",
      "Iterations:  65%|█████████████████████▌           | 196/300 [03:37<01:49,  1.05s/it]"
     ]
    },
    {
     "name": "stdout",
     "output_type": "stream",
     "text": [
      "Epoch  195 , loss 0.3993228247352675\n",
      "Epoch  196 , loss 0.39159930044529484\n"
     ]
    },
    {
     "name": "stderr",
     "output_type": "stream",
     "text": [
      "\r",
      "Iterations:  66%|█████████████████████▋           | 197/300 [03:38<01:58,  1.15s/it]"
     ]
    },
    {
     "name": "stdout",
     "output_type": "stream",
     "text": [
      "Epoch:  196\n",
      "t_loss:  0.39159930044529484 , v_loss:  0.5916748891274134\n",
      "t_acc:  0.7261126672891379 , v_acc:  0.7639751552795031\n",
      "t_recall:  0.5613160675807359 , v_recall:  0.6474774774774775\n",
      "t_prec:  0.7507455398569163 , v_prec:  0.7676586003924133\n",
      "t_f:  0.5352577167758512 , v_f:  0.6601111111111111\n",
      "////////\n"
     ]
    },
    {
     "name": "stderr",
     "output_type": "stream",
     "text": [
      "\r",
      "Iterations:  66%|█████████████████████▊           | 198/300 [03:39<01:48,  1.06s/it]"
     ]
    },
    {
     "name": "stdout",
     "output_type": "stream",
     "text": [
      "Epoch  197 , loss 0.3966435094674428\n",
      "Epoch  198 , loss 0.3989498217900594\n"
     ]
    },
    {
     "name": "stderr",
     "output_type": "stream",
     "text": [
      "\r",
      "Iterations:  66%|█████████████████████▉           | 199/300 [03:40<01:56,  1.15s/it]"
     ]
    },
    {
     "name": "stdout",
     "output_type": "stream",
     "text": [
      "Epoch:  198\n",
      "t_loss:  0.3989498217900594 , v_loss:  0.599291647473971\n",
      "t_acc:  0.7261126672891379 , v_acc:  0.7515527950310559\n",
      "t_recall:  0.5604534661890449 , v_recall:  0.6274774774774775\n",
      "t_prec:  0.7554387117975682 , v_prec:  0.750886524822695\n",
      "t_f:  0.5333598277248404 , v_f:  0.6349206349206349\n",
      "////////\n"
     ]
    },
    {
     "name": "stderr",
     "output_type": "stream",
     "text": [
      "\r",
      "Iterations:  67%|██████████████████████           | 200/300 [03:41<01:44,  1.05s/it]"
     ]
    },
    {
     "name": "stdout",
     "output_type": "stream",
     "text": [
      "Epoch  199 , loss 0.3948556412668789\n",
      "Epoch  200 , loss 0.3921855390071869\n"
     ]
    },
    {
     "name": "stderr",
     "output_type": "stream",
     "text": [
      "\r",
      "Iterations:  67%|██████████████████████           | 201/300 [03:42<01:52,  1.14s/it]"
     ]
    },
    {
     "name": "stdout",
     "output_type": "stream",
     "text": [
      "Epoch:  200\n",
      "t_loss:  0.3921855390071869 , v_loss:  0.6001496116320292\n",
      "t_acc:  0.7292250233426704 , v_acc:  0.7515527950310559\n",
      "t_recall:  0.5652784068294423 , v_recall:  0.6219819819819821\n",
      "t_prec:  0.7641236140162524 , v_prec:  0.763014763014763\n",
      "t_f:  0.541159727648175 , v_f:  0.6271421954608616\n",
      "////////\n"
     ]
    },
    {
     "name": "stderr",
     "output_type": "stream",
     "text": [
      "\r",
      "Iterations:  67%|██████████████████████▏          | 202/300 [03:43<01:42,  1.04s/it]"
     ]
    },
    {
     "name": "stdout",
     "output_type": "stream",
     "text": [
      "Epoch  201 , loss 0.3881767836271548\n",
      "Epoch  202 , loss 0.38854649575317607\n"
     ]
    },
    {
     "name": "stderr",
     "output_type": "stream",
     "text": [
      "\r",
      "Iterations:  68%|██████████████████████▎          | 203/300 [03:44<01:50,  1.14s/it]"
     ]
    },
    {
     "name": "stdout",
     "output_type": "stream",
     "text": [
      "Epoch:  202\n",
      "t_loss:  0.38854649575317607 , v_loss:  0.6003823230663935\n",
      "t_acc:  0.7239340180516651 , v_acc:  0.7515527950310559\n",
      "t_recall:  0.5560121326910145 , v_recall:  0.6219819819819821\n",
      "t_prec:  0.7551793277086738 , v_prec:  0.763014763014763\n",
      "t_f:  0.5254295175000021 , v_f:  0.6271421954608616\n",
      "////////\n"
     ]
    },
    {
     "name": "stderr",
     "output_type": "stream",
     "text": [
      "\r",
      "Iterations:  68%|██████████████████████▍          | 204/300 [03:45<01:43,  1.08s/it]"
     ]
    },
    {
     "name": "stdout",
     "output_type": "stream",
     "text": [
      "Epoch  203 , loss 0.3891317458713756\n",
      "Epoch  204 , loss 0.3867335144211264\n"
     ]
    },
    {
     "name": "stderr",
     "output_type": "stream",
     "text": [
      "\r",
      "Iterations:  68%|██████████████████████▌          | 205/300 [03:47<01:48,  1.14s/it]"
     ]
    },
    {
     "name": "stdout",
     "output_type": "stream",
     "text": [
      "Epoch:  204\n",
      "t_loss:  0.3867335144211264 , v_loss:  0.5954233159621557\n",
      "t_acc:  0.733582321817616 , v_acc:  0.7639751552795031\n",
      "t_recall:  0.5744486076227338 , v_recall:  0.6474774774774775\n",
      "t_prec:  0.7627074044059008 , v_prec:  0.7676586003924133\n",
      "t_f:  0.5568652876455242 , v_f:  0.6601111111111111\n",
      "////////\n"
     ]
    },
    {
     "name": "stderr",
     "output_type": "stream",
     "text": [
      "\r",
      "Iterations:  69%|██████████████████████▋          | 206/300 [03:47<01:38,  1.04s/it]"
     ]
    },
    {
     "name": "stdout",
     "output_type": "stream",
     "text": [
      "Epoch  205 , loss 0.3877214091081245\n",
      "Epoch  206 , loss 0.39318619522393916\n"
     ]
    },
    {
     "name": "stderr",
     "output_type": "stream",
     "text": [
      "\r",
      "Iterations:  69%|██████████████████████▊          | 207/300 [03:49<01:44,  1.12s/it]"
     ]
    },
    {
     "name": "stdout",
     "output_type": "stream",
     "text": [
      "Epoch:  206\n",
      "t_loss:  0.39318619522393916 , v_loss:  0.6078587621450424\n",
      "t_acc:  0.7304699657640834 , v_acc:  0.7391304347826086\n",
      "t_recall:  0.5681859979961845 , v_recall:  0.5964864864864865\n",
      "t_prec:  0.7620766660805345 , v_prec:  0.7602040816326531\n",
      "t_f:  0.5463255483307137 , v_f:  0.5904796511627907\n",
      "////////\n"
     ]
    },
    {
     "name": "stderr",
     "output_type": "stream",
     "text": [
      "\r",
      "Iterations:  69%|██████████████████████▉          | 208/300 [03:50<01:37,  1.06s/it]"
     ]
    },
    {
     "name": "stdout",
     "output_type": "stream",
     "text": [
      "Epoch  207 , loss 0.3892350097497304\n",
      "Epoch  208 , loss 0.3917127508743137\n"
     ]
    },
    {
     "name": "stderr",
     "output_type": "stream",
     "text": [
      "\r",
      "Iterations:  70%|██████████████████████▉          | 209/300 [03:51<01:47,  1.18s/it]"
     ]
    },
    {
     "name": "stdout",
     "output_type": "stream",
     "text": [
      "Epoch:  208\n",
      "t_loss:  0.3917127508743137 , v_loss:  0.5957584430774053\n",
      "t_acc:  0.7314036725801432 , v_acc:  0.7577639751552795\n",
      "t_recall:  0.5691446727330122 , v_recall:  0.6374774774774775\n",
      "t_prec:  0.7670942738688938 , v_prec:  0.7595238095238095\n",
      "t_f:  0.547595106268248 , v_f:  0.6476628696481679\n",
      "////////\n"
     ]
    },
    {
     "name": "stderr",
     "output_type": "stream",
     "text": [
      "\r",
      "Iterations:  70%|███████████████████████          | 210/300 [03:52<01:36,  1.08s/it]"
     ]
    },
    {
     "name": "stdout",
     "output_type": "stream",
     "text": [
      "Epoch  209 , loss 0.39308591216218236\n",
      "Epoch  210 , loss 0.3867972791194916\n"
     ]
    },
    {
     "name": "stderr",
     "output_type": "stream",
     "text": [
      "\r",
      "Iterations:  70%|███████████████████████▏         | 211/300 [03:53<01:42,  1.15s/it]"
     ]
    },
    {
     "name": "stdout",
     "output_type": "stream",
     "text": [
      "Epoch:  210\n",
      "t_loss:  0.3867972791194916 , v_loss:  0.5998304933309555\n",
      "t_acc:  0.734827264239029 , v_acc:  0.7577639751552795\n",
      "t_recall:  0.5756309960060938 , v_recall:  0.631981981981982\n",
      "t_prec:  0.7693170488534398 , v_prec:  0.7714974054855448\n",
      "t_f:  0.5583582106889382 , v_f:  0.6403162055335968\n",
      "////////\n"
     ]
    },
    {
     "name": "stderr",
     "output_type": "stream",
     "text": [
      "\r",
      "Iterations:  71%|███████████████████████▎         | 212/300 [03:54<01:31,  1.04s/it]"
     ]
    },
    {
     "name": "stdout",
     "output_type": "stream",
     "text": [
      "Epoch  211 , loss 0.39531668494729433\n",
      "Epoch  212 , loss 0.38928423968015935\n"
     ]
    },
    {
     "name": "stderr",
     "output_type": "stream",
     "text": [
      "\r",
      "Iterations:  71%|███████████████████████▍         | 213/300 [03:56<01:41,  1.17s/it]"
     ]
    },
    {
     "name": "stdout",
     "output_type": "stream",
     "text": [
      "Epoch:  212\n",
      "t_loss:  0.38928423968015935 , v_loss:  0.5961612612009048\n",
      "t_acc:  0.734827264239029 , v_acc:  0.7701863354037267\n",
      "t_recall:  0.5747683946144028 , v_recall:  0.651981981981982\n",
      "t_prec:  0.773767526006332 , v_prec:  0.7869047619047619\n",
      "t_f:  0.5566122448979591 , v_f:  0.6657314404354413\n",
      "////////\n"
     ]
    },
    {
     "name": "stderr",
     "output_type": "stream",
     "text": [
      "\r",
      "Iterations:  71%|███████████████████████▌         | 214/300 [03:56<01:31,  1.06s/it]"
     ]
    },
    {
     "name": "stdout",
     "output_type": "stream",
     "text": [
      "Epoch  213 , loss 0.3854078592038622\n",
      "Epoch  214 , loss 0.38712651910735113\n"
     ]
    },
    {
     "name": "stderr",
     "output_type": "stream",
     "text": [
      "\r",
      "Iterations:  72%|███████████████████████▋         | 215/300 [03:58<01:36,  1.14s/it]"
     ]
    },
    {
     "name": "stdout",
     "output_type": "stream",
     "text": [
      "Epoch:  214\n",
      "t_loss:  0.38712651910735113 , v_loss:  0.6071769893169403\n",
      "t_acc:  0.7329598506069094 , v_acc:  0.7639751552795031\n",
      "t_recall:  0.5711258423573654 , v_recall:  0.641981981981982\n",
      "t_prec:  0.7733761209776684 , v_prec:  0.7794326241134752\n",
      "t_f:  0.5505165363368965 , v_f:  0.6531746031746032\n",
      "////////\n"
     ]
    },
    {
     "name": "stderr",
     "output_type": "stream",
     "text": [
      "\r",
      "Iterations:  72%|███████████████████████▊         | 216/300 [03:59<01:30,  1.07s/it]"
     ]
    },
    {
     "name": "stdout",
     "output_type": "stream",
     "text": [
      "Epoch  215 , loss 0.38987969650941734\n",
      "Epoch  216 , loss 0.3893577392194785\n"
     ]
    },
    {
     "name": "stderr",
     "output_type": "stream",
     "text": [
      "\r",
      "Iterations:  72%|███████████████████████▊         | 217/300 [04:00<01:35,  1.15s/it]"
     ]
    },
    {
     "name": "stdout",
     "output_type": "stream",
     "text": [
      "Epoch:  216\n",
      "t_loss:  0.3893577392194785 , v_loss:  0.5950150390466055\n",
      "t_acc:  0.7329598506069094 , v_acc:  0.7701863354037267\n",
      "t_recall:  0.5731385789379778 , v_recall:  0.6574774774774774\n",
      "t_prec:  0.7628456385990642 , v_prec:  0.7753623188405797\n",
      "t_f:  0.5546640862771959 , v_f:  0.6722781537107334\n",
      "////////\n"
     ]
    },
    {
     "name": "stderr",
     "output_type": "stream",
     "text": [
      "\r",
      "Iterations:  73%|███████████████████████▉         | 218/300 [04:01<01:25,  1.05s/it]"
     ]
    },
    {
     "name": "stdout",
     "output_type": "stream",
     "text": [
      "Epoch  217 , loss 0.38775600755915923\n",
      "Epoch  218 , loss 0.3836742172054216\n"
     ]
    },
    {
     "name": "stderr",
     "output_type": "stream",
     "text": [
      "\r",
      "Iterations:  73%|████████████████████████         | 219/300 [04:02<01:32,  1.15s/it]"
     ]
    },
    {
     "name": "stdout",
     "output_type": "stream",
     "text": [
      "Epoch:  218\n",
      "t_loss:  0.3836742172054216 , v_loss:  0.598427340388298\n",
      "t_acc:  0.7329598506069094 , v_acc:  0.7763975155279503\n",
      "t_recall:  0.5734261127352082 , v_recall:  0.661981981981982\n",
      "t_prec:  0.7614656031904287 , v_prec:  0.7939829954218444\n",
      "t_f:  0.5552480572430856 , v_f:  0.6779999999999999\n",
      "////////\n"
     ]
    },
    {
     "name": "stderr",
     "output_type": "stream",
     "text": [
      "\r",
      "Iterations:  73%|████████████████████████▏        | 220/300 [04:03<01:27,  1.09s/it]"
     ]
    },
    {
     "name": "stdout",
     "output_type": "stream",
     "text": [
      "Epoch  219 , loss 0.3916601459769642\n",
      "Epoch  220 , loss 0.38615547558840585\n"
     ]
    },
    {
     "name": "stderr",
     "output_type": "stream",
     "text": [
      "\r",
      "Iterations:  74%|████████████████████████▎        | 221/300 [04:05<01:33,  1.18s/it]"
     ]
    },
    {
     "name": "stdout",
     "output_type": "stream",
     "text": [
      "Epoch:  220\n",
      "t_loss:  0.38615547558840585 , v_loss:  0.5975300470987955\n",
      "t_acc:  0.733582321817616 , v_acc:  0.7763975155279503\n",
      "t_recall:  0.5750236752171943 , v_recall:  0.661981981981982\n",
      "t_prec:  0.7600399600399601 , v_prec:  0.7939829954218444\n",
      "t_f:  0.5580200631747024 , v_f:  0.6779999999999999\n",
      "////////\n"
     ]
    },
    {
     "name": "stderr",
     "output_type": "stream",
     "text": [
      "\r",
      "Iterations:  74%|████████████████████████▍        | 222/300 [04:05<01:24,  1.08s/it]"
     ]
    },
    {
     "name": "stdout",
     "output_type": "stream",
     "text": [
      "Epoch  221 , loss 0.38452758976057466\n",
      "Epoch  222 , loss 0.3892078271099165\n"
     ]
    },
    {
     "name": "stderr",
     "output_type": "stream",
     "text": [
      "\r",
      "Iterations:  74%|████████████████████████▌        | 223/300 [04:07<01:28,  1.15s/it]"
     ]
    },
    {
     "name": "stdout",
     "output_type": "stream",
     "text": [
      "Epoch:  222\n",
      "t_loss:  0.3892078271099165 , v_loss:  0.6003672232230505\n",
      "t_acc:  0.7366946778711485 , v_acc:  0.7763975155279503\n",
      "t_recall:  0.5792735482631312 , v_recall:  0.661981981981982\n",
      "t_prec:  0.7699942036753684 , v_prec:  0.7939829954218444\n",
      "t_f:  0.5643164979624704 , v_f:  0.6779999999999999\n",
      "////////\n"
     ]
    },
    {
     "name": "stderr",
     "output_type": "stream",
     "text": [
      "\r",
      "Iterations:  75%|████████████████████████▋        | 224/300 [04:07<01:19,  1.05s/it]"
     ]
    },
    {
     "name": "stdout",
     "output_type": "stream",
     "text": [
      "Epoch  223 , loss 0.3889564153026132\n",
      "Epoch  224 , loss 0.3873557129911348\n"
     ]
    },
    {
     "name": "stderr",
     "output_type": "stream",
     "text": [
      "\r",
      "Iterations:  75%|████████████████████████▊        | 225/300 [04:09<01:28,  1.17s/it]"
     ]
    },
    {
     "name": "stdout",
     "output_type": "stream",
     "text": [
      "Epoch:  224\n",
      "t_loss:  0.3873557129911348 , v_loss:  0.5961588472127914\n",
      "t_acc:  0.7360722066604419 , v_acc:  0.7763975155279503\n",
      "t_recall:  0.5782510533756056 , v_recall:  0.661981981981982\n",
      "t_prec:  0.7688467051863215 , v_prec:  0.7939829954218444\n",
      "t_f:  0.5627196333078686 , v_f:  0.6779999999999999\n",
      "////////\n"
     ]
    },
    {
     "name": "stderr",
     "output_type": "stream",
     "text": [
      "\r",
      "Iterations:  75%|████████████████████████▊        | 226/300 [04:10<01:19,  1.08s/it]"
     ]
    },
    {
     "name": "stdout",
     "output_type": "stream",
     "text": [
      "Epoch  225 , loss 0.38406529672005596\n",
      "Epoch  226 , loss 0.38380634141903297\n"
     ]
    },
    {
     "name": "stderr",
     "output_type": "stream",
     "text": [
      "\r",
      "Iterations:  76%|████████████████████████▉        | 227/300 [04:11<01:23,  1.15s/it]"
     ]
    },
    {
     "name": "stdout",
     "output_type": "stream",
     "text": [
      "Epoch:  226\n",
      "t_loss:  0.38380634141903297 , v_loss:  0.5883201410373052\n",
      "t_acc:  0.7310924369747899 , v_acc:  0.7701863354037267\n",
      "t_recall:  0.5706461618698617 , v_recall:  0.6574774774774774\n",
      "t_prec:  0.7562570527713243 , v_prec:  0.7753623188405797\n",
      "t_f:  0.5509596670669592 , v_f:  0.6722781537107334\n",
      "////////\n"
     ]
    },
    {
     "name": "stderr",
     "output_type": "stream",
     "text": [
      "\r",
      "Iterations:  76%|█████████████████████████        | 228/300 [04:12<01:16,  1.07s/it]"
     ]
    },
    {
     "name": "stdout",
     "output_type": "stream",
     "text": [
      "Epoch  227 , loss 0.38794879410781113\n",
      "Epoch  228 , loss 0.38739436455801424\n"
     ]
    },
    {
     "name": "stderr",
     "output_type": "stream",
     "text": [
      "\r",
      "Iterations:  76%|█████████████████████████▏       | 229/300 [04:13<01:20,  1.14s/it]"
     ]
    },
    {
     "name": "stdout",
     "output_type": "stream",
     "text": [
      "Epoch:  228\n",
      "t_loss:  0.38739436455801424 , v_loss:  0.5964502890904745\n",
      "t_acc:  0.738562091503268 , v_acc:  0.7763975155279503\n",
      "t_recall:  0.5843537695063203 , v_recall:  0.661981981981982\n",
      "t_prec:  0.7645053838407312 , v_prec:  0.7939829954218444\n",
      "t_f:  0.5729129875012817 , v_f:  0.6779999999999999\n",
      "////////\n"
     ]
    },
    {
     "name": "stderr",
     "output_type": "stream",
     "text": [
      "\r",
      "Iterations:  77%|█████████████████████████▎       | 230/300 [04:14<01:13,  1.05s/it]"
     ]
    },
    {
     "name": "stdout",
     "output_type": "stream",
     "text": [
      "Epoch  229 , loss 0.38747860578929677\n",
      "Epoch  230 , loss 0.3871682601816514\n"
     ]
    },
    {
     "name": "stderr",
     "output_type": "stream",
     "text": [
      "\r",
      "Iterations:  77%|█████████████████████████▍       | 231/300 [04:16<01:20,  1.17s/it]"
     ]
    },
    {
     "name": "stdout",
     "output_type": "stream",
     "text": [
      "Epoch:  230\n",
      "t_loss:  0.3871682601816514 , v_loss:  0.6013370007276535\n",
      "t_acc:  0.7351384998443822 , v_acc:  0.7763975155279503\n",
      "t_recall:  0.5772923786387779 , v_recall:  0.661981981981982\n",
      "t_prec:  0.764394366197183 , v_prec:  0.7939829954218444\n",
      "t_f:  0.5614573484514951 , v_f:  0.6779999999999999\n",
      "////////\n"
     ]
    },
    {
     "name": "stderr",
     "output_type": "stream",
     "text": [
      "\r",
      "Iterations:  77%|█████████████████████████▌       | 232/300 [04:16<01:13,  1.09s/it]"
     ]
    },
    {
     "name": "stdout",
     "output_type": "stream",
     "text": [
      "Epoch  231 , loss 0.3850127397214665\n",
      "Epoch  232 , loss 0.38407482703526813\n"
     ]
    },
    {
     "name": "stderr",
     "output_type": "stream",
     "text": [
      "\r",
      "Iterations:  78%|█████████████████████████▋       | 233/300 [04:18<01:18,  1.17s/it]"
     ]
    },
    {
     "name": "stdout",
     "output_type": "stream",
     "text": [
      "Epoch:  232\n",
      "t_loss:  0.38407482703526813 , v_loss:  0.5984585732221603\n",
      "t_acc:  0.739807033924681 , v_acc:  0.7763975155279503\n",
      "t_recall:  0.582660819917377 , v_recall:  0.661981981981982\n",
      "t_prec:  0.7839973153602887 , v_prec:  0.7939829954218444\n",
      "t_f:  0.5689075630252102 , v_f:  0.6779999999999999\n",
      "////////\n"
     ]
    },
    {
     "name": "stderr",
     "output_type": "stream",
     "text": [
      "\r",
      "Iterations:  78%|█████████████████████████▋       | 234/300 [04:19<01:10,  1.07s/it]"
     ]
    },
    {
     "name": "stdout",
     "output_type": "stream",
     "text": [
      "Epoch  233 , loss 0.3870775506776922\n",
      "Epoch  234 , loss 0.3838513329917309\n"
     ]
    },
    {
     "name": "stderr",
     "output_type": "stream",
     "text": [
      "\r",
      "Iterations:  78%|█████████████████████████▊       | 235/300 [04:20<01:15,  1.16s/it]"
     ]
    },
    {
     "name": "stdout",
     "output_type": "stream",
     "text": [
      "Epoch:  234\n",
      "t_loss:  0.3838513329917309 , v_loss:  0.602511540055275\n",
      "t_acc:  0.7388733271086212 , v_acc:  0.7763975155279503\n",
      "t_recall:  0.5828522803694707 , v_recall:  0.661981981981982\n",
      "t_prec:  0.7738842040312628 , v_prec:  0.7939829954218444\n",
      "t_f:  0.5698687430520907 , v_f:  0.6779999999999999\n",
      "////////\n"
     ]
    },
    {
     "name": "stderr",
     "output_type": "stream",
     "text": [
      "\r",
      "Iterations:  79%|█████████████████████████▉       | 236/300 [04:21<01:07,  1.06s/it]"
     ]
    },
    {
     "name": "stdout",
     "output_type": "stream",
     "text": [
      "Epoch  235 , loss 0.3859208717065699\n",
      "Epoch  236 , loss 0.3853267881215787\n"
     ]
    },
    {
     "name": "stderr",
     "output_type": "stream",
     "text": [
      "\r",
      "Iterations:  79%|██████████████████████████       | 237/300 [04:22<01:12,  1.15s/it]"
     ]
    },
    {
     "name": "stdout",
     "output_type": "stream",
     "text": [
      "Epoch:  236\n",
      "t_loss:  0.3853267881215787 , v_loss:  0.5967971533536911\n",
      "t_acc:  0.7310924369747899 , v_acc:  0.7701863354037267\n",
      "t_recall:  0.5723713646532439 , v_recall:  0.6574774774774774\n",
      "t_prec:  0.7486458916210319 , v_prec:  0.7753623188405797\n",
      "t_f:  0.5544690603514133 , v_f:  0.6722781537107334\n",
      "////////\n"
     ]
    },
    {
     "name": "stderr",
     "output_type": "stream",
     "text": [
      "\r",
      "Iterations:  79%|██████████████████████████▏      | 238/300 [04:23<01:07,  1.09s/it]"
     ]
    },
    {
     "name": "stdout",
     "output_type": "stream",
     "text": [
      "Epoch  237 , loss 0.3854007294365004\n",
      "Epoch  238 , loss 0.38062048367425505\n"
     ]
    },
    {
     "name": "stderr",
     "output_type": "stream",
     "text": [
      "\r",
      "Iterations:  80%|██████████████████████████▎      | 239/300 [04:24<01:10,  1.15s/it]"
     ]
    },
    {
     "name": "stdout",
     "output_type": "stream",
     "text": [
      "Epoch:  238\n",
      "t_loss:  0.38062048367425505 , v_loss:  0.5994374106327692\n",
      "t_acc:  0.741051976346094 , v_acc:  0.7701863354037267\n",
      "t_recall:  0.5864310124758101 , v_recall:  0.6574774774774774\n",
      "t_prec:  0.7775919069029358 , v_prec:  0.7753623188405797\n",
      "t_f:  0.5753645565277062 , v_f:  0.6722781537107334\n",
      "////////\n"
     ]
    },
    {
     "name": "stderr",
     "output_type": "stream",
     "text": [
      "\r",
      "Iterations:  80%|██████████████████████████▍      | 240/300 [04:25<01:03,  1.05s/it]"
     ]
    },
    {
     "name": "stdout",
     "output_type": "stream",
     "text": [
      "Epoch  239 , loss 0.3803008753879398\n",
      "Epoch  240 , loss 0.3825274781853545\n"
     ]
    },
    {
     "name": "stderr",
     "output_type": "stream",
     "text": [
      "\r",
      "Iterations:  80%|██████████████████████████▌      | 241/300 [04:27<01:07,  1.14s/it]"
     ]
    },
    {
     "name": "stdout",
     "output_type": "stream",
     "text": [
      "Epoch:  240\n",
      "t_loss:  0.3825274781853545 , v_loss:  0.6039043565591177\n",
      "t_acc:  0.7404295051353875 , v_acc:  0.7701863354037267\n",
      "t_recall:  0.5862711189799755 , v_recall:  0.6574774774774774\n",
      "t_prec:  0.7726665432798528 , v_prec:  0.7753623188405797\n",
      "t_f:  0.5754255818080414 , v_f:  0.6722781537107334\n",
      "////////\n"
     ]
    },
    {
     "name": "stderr",
     "output_type": "stream",
     "text": [
      "\r",
      "Iterations:  81%|██████████████████████████▌      | 242/300 [04:28<01:02,  1.08s/it]"
     ]
    },
    {
     "name": "stdout",
     "output_type": "stream",
     "text": [
      "Epoch  241 , loss 0.3907507809938169\n",
      "Epoch  242 , loss 0.3812429975060856\n"
     ]
    },
    {
     "name": "stderr",
     "output_type": "stream",
     "text": [
      "\r",
      "Iterations:  81%|██████████████████████████▋      | 243/300 [04:29<01:06,  1.17s/it]"
     ]
    },
    {
     "name": "stdout",
     "output_type": "stream",
     "text": [
      "Epoch:  242\n",
      "t_loss:  0.3812429975060856 , v_loss:  0.5970115065574646\n",
      "t_acc:  0.7382508558979147 , v_acc:  0.7701863354037267\n",
      "t_recall:  0.5826923868736361 , v_recall:  0.6574774774774774\n",
      "t_prec:  0.7688554216867469 , v_prec:  0.7753623188405797\n",
      "t_f:  0.5699479045063963 , v_f:  0.6722781537107334\n",
      "////////\n"
     ]
    },
    {
     "name": "stderr",
     "output_type": "stream",
     "text": [
      "\r",
      "Iterations:  81%|██████████████████████████▊      | 244/300 [04:30<00:59,  1.07s/it]"
     ]
    },
    {
     "name": "stdout",
     "output_type": "stream",
     "text": [
      "Epoch  243 , loss 0.3874132218314152\n",
      "Epoch  244 , loss 0.3825800138361314\n"
     ]
    },
    {
     "name": "stderr",
     "output_type": "stream",
     "text": [
      "\r",
      "Iterations:  82%|██████████████████████████▉      | 245/300 [04:31<01:02,  1.14s/it]"
     ]
    },
    {
     "name": "stdout",
     "output_type": "stream",
     "text": [
      "Epoch:  244\n",
      "t_loss:  0.3825800138361314 , v_loss:  0.6071805457274119\n",
      "t_acc:  0.7363834422657952 , v_acc:  0.782608695652174\n",
      "t_recall:  0.5813501049944415 , v_recall:  0.6664864864864866\n",
      "t_prec:  0.7581397475763674 , v_prec:  0.8142857142857143\n",
      "t_f:  0.5685335829467607 , v_f:  0.6838000112227147\n",
      "////////\n"
     ]
    },
    {
     "name": "stderr",
     "output_type": "stream",
     "text": [
      "\r",
      "Iterations:  82%|███████████████████████████      | 246/300 [04:32<00:57,  1.06s/it]"
     ]
    },
    {
     "name": "stdout",
     "output_type": "stream",
     "text": [
      "Epoch  245 , loss 0.38273098188288074\n",
      "Epoch  246 , loss 0.3772510553107542\n"
     ]
    },
    {
     "name": "stderr",
     "output_type": "stream",
     "text": [
      "\r",
      "Iterations:  82%|███████████████████████████▏     | 247/300 [04:33<01:01,  1.16s/it]"
     ]
    },
    {
     "name": "stdout",
     "output_type": "stream",
     "text": [
      "Epoch:  246\n",
      "t_loss:  0.3772510553107542 , v_loss:  0.6023502151171366\n",
      "t_acc:  0.7407407407407407 , v_acc:  0.7701863354037267\n",
      "t_recall:  0.586494832626508 , v_recall:  0.6574774774774774\n",
      "t_prec:  0.7744649716480703 , v_prec:  0.7753623188405797\n",
      "t_f:  0.5756652592616902 , v_f:  0.6722781537107334\n",
      "////////\n"
     ]
    },
    {
     "name": "stderr",
     "output_type": "stream",
     "text": [
      "\r",
      "Iterations:  83%|███████████████████████████▎     | 248/300 [04:34<00:55,  1.07s/it]"
     ]
    },
    {
     "name": "stdout",
     "output_type": "stream",
     "text": [
      "Epoch  247 , loss 0.3880079376931284\n",
      "Epoch  248 , loss 0.38962368521035884\n"
     ]
    },
    {
     "name": "stderr",
     "output_type": "stream",
     "text": [
      "\r",
      "Iterations:  83%|███████████████████████████▍     | 249/300 [04:36<00:58,  1.15s/it]"
     ]
    },
    {
     "name": "stdout",
     "output_type": "stream",
     "text": [
      "Epoch:  248\n",
      "t_loss:  0.38962368521035884 , v_loss:  0.5905550916989645\n",
      "t_acc:  0.7363834422657952 , v_acc:  0.7701863354037267\n",
      "t_recall:  0.578474767022138 , v_recall:  0.662972972972973\n",
      "t_prec:  0.7708028770708943 , v_prec:  0.766029411764706\n",
      "t_f:  0.5629514261996503 , v_f:  0.6784345479082321\n",
      "////////\n"
     ]
    },
    {
     "name": "stderr",
     "output_type": "stream",
     "text": [
      "\r",
      "Iterations:  83%|███████████████████████████▌     | 250/300 [04:36<00:53,  1.07s/it]"
     ]
    },
    {
     "name": "stdout",
     "output_type": "stream",
     "text": [
      "Epoch  249 , loss 0.37890734216746164\n",
      "Epoch  250 , loss 0.3812730683415544\n"
     ]
    },
    {
     "name": "stderr",
     "output_type": "stream",
     "text": [
      "\r",
      "Iterations:  84%|███████████████████████████▌     | 251/300 [04:38<00:55,  1.14s/it]"
     ]
    },
    {
     "name": "stdout",
     "output_type": "stream",
     "text": [
      "Epoch:  250\n",
      "t_loss:  0.3812730683415544 , v_loss:  0.5982928723096848\n",
      "t_acc:  0.7370059134765017 , v_acc:  0.7701863354037267\n",
      "t_recall:  0.581509998490276 , v_recall:  0.6574774774774774\n",
      "t_prec:  0.7628521942338844 , v_prec:  0.7753623188405797\n",
      "t_f:  0.5684543985707258 , v_f:  0.6722781537107334\n",
      "////////\n"
     ]
    },
    {
     "name": "stderr",
     "output_type": "stream",
     "text": [
      "\r",
      "Iterations:  84%|███████████████████████████▋     | 252/300 [04:39<00:50,  1.04s/it]"
     ]
    },
    {
     "name": "stdout",
     "output_type": "stream",
     "text": [
      "Epoch  251 , loss 0.38452697676770825\n",
      "Epoch  252 , loss 0.38064855278707016\n"
     ]
    },
    {
     "name": "stderr",
     "output_type": "stream",
     "text": [
      "\r",
      "Iterations:  84%|███████████████████████████▊     | 253/300 [04:40<00:53,  1.15s/it]"
     ]
    },
    {
     "name": "stdout",
     "output_type": "stream",
     "text": [
      "Epoch:  252\n",
      "t_loss:  0.38064855278707016 , v_loss:  0.5941675206025442\n",
      "t_acc:  0.7388733271086212 , v_acc:  0.7763975155279503\n",
      "t_recall:  0.5842899493556224 , v_recall:  0.672972972972973\n",
      "t_prec:  0.7674684470459119 , v_prec:  0.7735042735042735\n",
      "t_f:  0.5726088265552919 , v_f:  0.689987163029525\n",
      "////////\n"
     ]
    },
    {
     "name": "stderr",
     "output_type": "stream",
     "text": [
      "\r",
      "Iterations:  85%|███████████████████████████▉     | 254/300 [04:41<00:49,  1.07s/it]"
     ]
    },
    {
     "name": "stdout",
     "output_type": "stream",
     "text": [
      "Epoch  253 , loss 0.3808690777011946\n",
      "Epoch  254 , loss 0.3762475369023342\n"
     ]
    },
    {
     "name": "stderr",
     "output_type": "stream",
     "text": [
      "\r",
      "Iterations:  85%|████████████████████████████     | 255/300 [04:42<00:51,  1.15s/it]"
     ]
    },
    {
     "name": "stdout",
     "output_type": "stream",
     "text": [
      "Epoch:  254\n",
      "t_loss:  0.3762475369023342 , v_loss:  0.5993472735087076\n",
      "t_acc:  0.74354186118892 , v_acc:  0.7701863354037267\n",
      "t_recall:  0.5939713975926765 , v_recall:  0.662972972972973\n",
      "t_prec:  0.7675317148141394 , v_prec:  0.766029411764706\n",
      "t_f:  0.5877911372460121 , v_f:  0.6784345479082321\n",
      "////////\n"
     ]
    },
    {
     "name": "stderr",
     "output_type": "stream",
     "text": [
      "\r",
      "Iterations:  85%|████████████████████████████▏    | 256/300 [04:43<00:45,  1.05s/it]"
     ]
    },
    {
     "name": "stdout",
     "output_type": "stream",
     "text": [
      "Epoch  255 , loss 0.37508045107710597\n",
      "Epoch  256 , loss 0.3766887170426986\n"
     ]
    },
    {
     "name": "stderr",
     "output_type": "stream",
     "text": [
      "\r",
      "Iterations:  86%|████████████████████████████▎    | 257/300 [04:44<00:48,  1.14s/it]"
     ]
    },
    {
     "name": "stdout",
     "output_type": "stream",
     "text": [
      "Epoch:  256\n",
      "t_loss:  0.3766887170426986 , v_loss:  0.5946465830008189\n",
      "t_acc:  0.7419856831621537 , v_acc:  0.782608695652174\n",
      "t_recall:  0.5891148899960198 , v_recall:  0.6774774774774774\n",
      "t_prec:  0.7740487291533598 , v_prec:  0.7897058823529413\n",
      "t_f:  0.5798345667136694 , v_f:  0.6958164642375169\n",
      "////////\n"
     ]
    },
    {
     "name": "stderr",
     "output_type": "stream",
     "text": [
      "\r",
      "Iterations:  86%|████████████████████████████▍    | 258/300 [04:45<00:43,  1.05s/it]"
     ]
    },
    {
     "name": "stdout",
     "output_type": "stream",
     "text": [
      "Epoch  257 , loss 0.3826878707782895\n",
      "Epoch  258 , loss 0.3761887506527059\n"
     ]
    },
    {
     "name": "stderr",
     "output_type": "stream",
     "text": [
      "\r",
      "Iterations:  86%|████████████████████████████▍    | 259/300 [04:47<00:46,  1.15s/it]"
     ]
    },
    {
     "name": "stdout",
     "output_type": "stream",
     "text": [
      "Epoch:  258\n",
      "t_loss:  0.3761887506527059 , v_loss:  0.5929704358180364\n",
      "t_acc:  0.7419856831621537 , v_acc:  0.782608695652174\n",
      "t_recall:  0.5905525589821715 , v_recall:  0.682972972972973\n",
      "t_prec:  0.7681881371640408 , v_prec:  0.7806799336650083\n",
      "t_f:  0.5824573185270253 , v_f:  0.7012987012987013\n",
      "////////\n"
     ]
    },
    {
     "name": "stderr",
     "output_type": "stream",
     "text": [
      "\r",
      "Iterations:  87%|████████████████████████████▌    | 260/300 [04:47<00:43,  1.08s/it]"
     ]
    },
    {
     "name": "stdout",
     "output_type": "stream",
     "text": [
      "Epoch  259 , loss 0.37907134259448333\n",
      "Epoch  260 , loss 0.38165343976488303\n"
     ]
    },
    {
     "name": "stderr",
     "output_type": "stream",
     "text": [
      "\r",
      "Iterations:  87%|████████████████████████████▋    | 261/300 [04:49<00:44,  1.14s/it]"
     ]
    },
    {
     "name": "stdout",
     "output_type": "stream",
     "text": [
      "Epoch:  260\n",
      "t_loss:  0.38165343976488303 , v_loss:  0.5901089558998743\n",
      "t_acc:  0.7379396202925614 , v_acc:  0.782608695652174\n",
      "t_recall:  0.5824686732271037 , v_recall:  0.682972972972973\n",
      "t_prec:  0.7670310282611079 , v_prec:  0.7806799336650083\n",
      "t_f:  0.5697117739794963 , v_f:  0.7012987012987013\n",
      "////////\n"
     ]
    },
    {
     "name": "stderr",
     "output_type": "stream",
     "text": [
      "\r",
      "Iterations:  87%|████████████████████████████▊    | 262/300 [04:50<00:40,  1.05s/it]"
     ]
    },
    {
     "name": "stdout",
     "output_type": "stream",
     "text": [
      "Epoch  261 , loss 0.3779240238900278\n",
      "Epoch  262 , loss 0.38496528536665675\n"
     ]
    },
    {
     "name": "stderr",
     "output_type": "stream",
     "text": [
      "\r",
      "Iterations:  88%|████████████████████████████▉    | 263/300 [04:51<00:41,  1.12s/it]"
     ]
    },
    {
     "name": "stdout",
     "output_type": "stream",
     "text": [
      "Epoch:  262\n",
      "t_loss:  0.38496528536665675 , v_loss:  0.59682364265124\n",
      "t_acc:  0.7419856831621537 , v_acc:  0.782608695652174\n",
      "t_recall:  0.5896899575904805 , v_recall:  0.6774774774774774\n",
      "t_prec:  0.7716423494201272 , v_prec:  0.7897058823529413\n",
      "t_f:  0.5808891941456783 , v_f:  0.6958164642375169\n",
      "////////\n"
     ]
    },
    {
     "name": "stderr",
     "output_type": "stream",
     "text": [
      "\r",
      "Iterations:  88%|█████████████████████████████    | 264/300 [04:52<00:38,  1.06s/it]"
     ]
    },
    {
     "name": "stdout",
     "output_type": "stream",
     "text": [
      "Epoch  263 , loss 0.37424121855520737\n",
      "Epoch  264 , loss 0.3753089676885044\n"
     ]
    },
    {
     "name": "stderr",
     "output_type": "stream",
     "text": [
      "\r",
      "Iterations:  88%|█████████████████████████████▏   | 265/300 [04:53<00:41,  1.17s/it]"
     ]
    },
    {
     "name": "stdout",
     "output_type": "stream",
     "text": [
      "Epoch:  264\n",
      "t_loss:  0.3753089676885044 , v_loss:  0.5975385556618372\n",
      "t_acc:  0.7450980392156863 , v_acc:  0.7888198757763976\n",
      "t_recall:  0.5962401010142601 , v_recall:  0.6874774774774774\n",
      "t_prec:  0.7711406844106463 , v_prec:  0.7964387464387465\n",
      "t_f:  0.5910463534167316 , v_f:  0.7072100984167737\n",
      "////////\n"
     ]
    },
    {
     "name": "stderr",
     "output_type": "stream",
     "text": [
      "\r",
      "Iterations:  89%|█████████████████████████████▎   | 266/300 [04:54<00:36,  1.08s/it]"
     ]
    },
    {
     "name": "stdout",
     "output_type": "stream",
     "text": [
      "Epoch  265 , loss 0.37592337178248986\n",
      "Epoch  266 , loss 0.370539608977589\n"
     ]
    },
    {
     "name": "stderr",
     "output_type": "stream",
     "text": [
      "\r",
      "Iterations:  89%|█████████████████████████████▎   | 267/300 [04:55<00:37,  1.15s/it]"
     ]
    },
    {
     "name": "stdout",
     "output_type": "stream",
     "text": [
      "Epoch:  266\n",
      "t_loss:  0.370539608977589 , v_loss:  0.5996707330147425\n",
      "t_acc:  0.7416744475568005 , v_acc:  0.7888198757763976\n",
      "t_recall:  0.5903288453356391 , v_recall:  0.6874774774774774\n",
      "t_prec:  0.7665453931825852 , v_prec:  0.7964387464387465\n",
      "t_f:  0.5822137178794651 , v_f:  0.7072100984167737\n",
      "////////\n"
     ]
    },
    {
     "name": "stderr",
     "output_type": "stream",
     "text": [
      "\r",
      "Iterations:  89%|█████████████████████████████▍   | 268/300 [04:56<00:33,  1.05s/it]"
     ]
    },
    {
     "name": "stdout",
     "output_type": "stream",
     "text": [
      "Epoch  267 , loss 0.37553804937530966\n",
      "Epoch  268 , loss 0.37771688664660735\n"
     ]
    },
    {
     "name": "stderr",
     "output_type": "stream",
     "text": [
      "\r",
      "Iterations:  90%|█████████████████████████████▌   | 269/300 [04:58<00:35,  1.16s/it]"
     ]
    },
    {
     "name": "stdout",
     "output_type": "stream",
     "text": [
      "Epoch:  268\n",
      "t_loss:  0.37771688664660735 , v_loss:  0.5993397782246271\n",
      "t_acc:  0.741051976346094 , v_acc:  0.782608695652174\n",
      "t_recall:  0.5893063504481135 , v_recall:  0.682972972972973\n",
      "t_prec:  0.7654742153076212 , v_prec:  0.7806799336650083\n",
      "t_f:  0.5806851549755302 , v_f:  0.7012987012987013\n",
      "////////\n"
     ]
    },
    {
     "name": "stderr",
     "output_type": "stream",
     "text": [
      "\r",
      "Iterations:  90%|█████████████████████████████▋   | 270/300 [04:58<00:31,  1.06s/it]"
     ]
    },
    {
     "name": "stdout",
     "output_type": "stream",
     "text": [
      "Epoch  269 , loss 0.37969424502522336\n",
      "Epoch  270 , loss 0.3701731361010495\n"
     ]
    },
    {
     "name": "stderr",
     "output_type": "stream",
     "text": [
      "\r",
      "Iterations:  90%|█████████████████████████████▊   | 271/300 [05:00<00:32,  1.13s/it]"
     ]
    },
    {
     "name": "stdout",
     "output_type": "stream",
     "text": [
      "Epoch:  270\n",
      "t_loss:  0.3701731361010495 , v_loss:  0.6037804832061132\n",
      "t_acc:  0.7426081543728602 , v_acc:  0.7888198757763976\n",
      "t_recall:  0.5895623172890847 , v_recall:  0.6874774774774774\n",
      "t_prec:  0.777562270314414 , v_prec:  0.7964387464387465\n",
      "t_f:  0.580319409795518 , v_f:  0.7072100984167737\n",
      "////////\n"
     ]
    },
    {
     "name": "stderr",
     "output_type": "stream",
     "text": [
      "\r",
      "Iterations:  91%|█████████████████████████████▉   | 272/300 [05:01<00:30,  1.09s/it]"
     ]
    },
    {
     "name": "stdout",
     "output_type": "stream",
     "text": [
      "Epoch  271 , loss 0.37707401490678977\n",
      "Epoch  272 , loss 0.37099093841571434\n"
     ]
    },
    {
     "name": "stderr",
     "output_type": "stream",
     "text": [
      "\r",
      "Iterations:  91%|██████████████████████████████   | 273/300 [05:02<00:31,  1.16s/it]"
     ]
    },
    {
     "name": "stdout",
     "output_type": "stream",
     "text": [
      "Epoch:  272\n",
      "t_loss:  0.37099093841571434 , v_loss:  0.5994454324245453\n",
      "t_acc:  0.7497665732959851 , v_acc:  0.782608695652174\n",
      "t_recall:  0.6021836098873197 , v_recall:  0.682972972972973\n",
      "t_prec:  0.7849284732020074 , v_prec:  0.7806799336650083\n",
      "t_f:  0.5992726492024706 , v_f:  0.7012987012987013\n",
      "////////\n"
     ]
    },
    {
     "name": "stderr",
     "output_type": "stream",
     "text": [
      "\r",
      "Iterations:  91%|██████████████████████████████▏  | 274/300 [05:03<00:27,  1.06s/it]"
     ]
    },
    {
     "name": "stdout",
     "output_type": "stream",
     "text": [
      "Epoch  273 , loss 0.3812510575733933\n",
      "Epoch  274 , loss 0.3778191363694621\n"
     ]
    },
    {
     "name": "stderr",
     "output_type": "stream",
     "text": [
      "\r",
      "Iterations:  92%|██████████████████████████████▎  | 275/300 [05:04<00:28,  1.14s/it]"
     ]
    },
    {
     "name": "stdout",
     "output_type": "stream",
     "text": [
      "Epoch:  274\n",
      "t_loss:  0.3778191363694621 , v_loss:  0.5955525736014048\n",
      "t_acc:  0.7444755680049797 , v_acc:  0.782608695652174\n",
      "t_recall:  0.5957926737211952 , v_recall:  0.682972972972973\n",
      "t_prec:  0.768025012160467 , v_prec:  0.7806799336650083\n",
      "t_f:  0.590549368572825 , v_f:  0.7012987012987013\n",
      "////////\n"
     ]
    },
    {
     "name": "stderr",
     "output_type": "stream",
     "text": [
      "\r",
      "Iterations:  92%|██████████████████████████████▎  | 276/300 [05:05<00:26,  1.09s/it]"
     ]
    },
    {
     "name": "stdout",
     "output_type": "stream",
     "text": [
      "Epoch  275 , loss 0.3783749336121129\n",
      "Epoch  276 , loss 0.3736414173070122\n"
     ]
    },
    {
     "name": "stderr",
     "output_type": "stream",
     "text": [
      "\r",
      "Iterations:  92%|██████████████████████████████▍  | 277/300 [05:07<00:27,  1.19s/it]"
     ]
    },
    {
     "name": "stdout",
     "output_type": "stream",
     "text": [
      "Epoch:  276\n",
      "t_loss:  0.3736414173070122 , v_loss:  0.5955686022837957\n",
      "t_acc:  0.7454092748210396 , v_acc:  0.782608695652174\n",
      "t_recall:  0.5964638146607925 , v_recall:  0.682972972972973\n",
      "t_prec:  0.772715808588627 , v_prec:  0.7806799336650083\n",
      "t_f:  0.5912951121505791 , v_f:  0.7012987012987013\n",
      "////////\n"
     ]
    },
    {
     "name": "stderr",
     "output_type": "stream",
     "text": [
      "\r",
      "Iterations:  93%|██████████████████████████████▌  | 278/300 [05:07<00:23,  1.08s/it]"
     ]
    },
    {
     "name": "stdout",
     "output_type": "stream",
     "text": [
      "Epoch  277 , loss 0.36826344272669626\n",
      "Epoch  278 , loss 0.3739277194528019\n"
     ]
    },
    {
     "name": "stderr",
     "output_type": "stream",
     "text": [
      "\r",
      "Iterations:  93%|██████████████████████████████▋  | 279/300 [05:09<00:24,  1.16s/it]"
     ]
    },
    {
     "name": "stdout",
     "output_type": "stream",
     "text": [
      "Epoch:  278\n",
      "t_loss:  0.3739277194528019 , v_loss:  0.6015524119138718\n",
      "t_acc:  0.7478991596638656 , v_acc:  0.7888198757763976\n",
      "t_recall:  0.6011288618053554 , v_recall:  0.6874774774774774\n",
      "t_prec:  0.7744993704100158 , v_prec:  0.7964387464387465\n",
      "t_f:  0.5982415765235616 , v_f:  0.7072100984167737\n",
      "////////\n"
     ]
    },
    {
     "name": "stderr",
     "output_type": "stream",
     "text": [
      "\r",
      "Iterations:  93%|██████████████████████████████▊  | 280/300 [05:10<00:21,  1.06s/it]"
     ]
    },
    {
     "name": "stdout",
     "output_type": "stream",
     "text": [
      "Epoch  279 , loss 0.37173493849296196\n",
      "Epoch  280 , loss 0.3703987034512501\n"
     ]
    },
    {
     "name": "stderr",
     "output_type": "stream",
     "text": [
      "\r",
      "Iterations:  94%|██████████████████████████████▉  | 281/300 [05:11<00:22,  1.16s/it]"
     ]
    },
    {
     "name": "stdout",
     "output_type": "stream",
     "text": [
      "Epoch:  280\n",
      "t_loss:  0.3703987034512501 , v_loss:  0.605666364232699\n",
      "t_acc:  0.7469654528478058 , v_acc:  0.7888198757763976\n",
      "t_recall:  0.5993075856768367 , v_recall:  0.6874774774774774\n",
      "t_prec:  0.7740998009940198 , v_prec:  0.7964387464387465\n",
      "t_f:  0.595527586346254 , v_f:  0.7072100984167737\n",
      "////////\n"
     ]
    },
    {
     "name": "stderr",
     "output_type": "stream",
     "text": [
      "\r",
      "Iterations:  94%|███████████████████████████████  | 282/300 [05:12<00:19,  1.07s/it]"
     ]
    },
    {
     "name": "stdout",
     "output_type": "stream",
     "text": [
      "Epoch  281 , loss 0.3722701657052134\n",
      "Epoch  282 , loss 0.3686301375136656\n"
     ]
    },
    {
     "name": "stderr",
     "output_type": "stream",
     "text": [
      "\r",
      "Iterations:  94%|███████████████████████████████▏ | 283/300 [05:13<00:19,  1.14s/it]"
     ]
    },
    {
     "name": "stdout",
     "output_type": "stream",
     "text": [
      "Epoch:  282\n",
      "t_loss:  0.3686301375136656 , v_loss:  0.6007593274116516\n",
      "t_acc:  0.7494553376906318 , v_acc:  0.782608695652174\n",
      "t_recall:  0.6028224976324783 , v_recall:  0.682972972972973\n",
      "t_prec:  0.7800235478806907 , v_prec:  0.7806799336650083\n",
      "t_f:  0.6004796163069545 , v_f:  0.7012987012987013\n",
      "////////\n"
     ]
    },
    {
     "name": "stderr",
     "output_type": "stream",
     "text": [
      "\r",
      "Iterations:  95%|███████████████████████████████▏ | 284/300 [05:14<00:16,  1.06s/it]"
     ]
    },
    {
     "name": "stdout",
     "output_type": "stream",
     "text": [
      "Epoch  283 , loss 0.37560007443615034\n",
      "Epoch  284 , loss 0.37243805913364186\n"
     ]
    },
    {
     "name": "stderr",
     "output_type": "stream",
     "text": [
      "\r",
      "Iterations:  95%|███████████████████████████████▎ | 285/300 [05:15<00:16,  1.13s/it]"
     ]
    },
    {
     "name": "stdout",
     "output_type": "stream",
     "text": [
      "Epoch:  284\n",
      "t_loss:  0.37243805913364186 , v_loss:  0.6030178765455881\n",
      "t_acc:  0.7528789293495176 , v_acc:  0.782608695652174\n",
      "t_recall:  0.6055708815415655 , v_recall:  0.682972972972973\n",
      "t_prec:  0.7964024784981041 , v_prec:  0.7806799336650083\n",
      "t_f:  0.6037724771873323 , v_f:  0.7012987012987013\n",
      "////////\n"
     ]
    },
    {
     "name": "stderr",
     "output_type": "stream",
     "text": [
      "\r",
      "Iterations:  95%|███████████████████████████████▍ | 286/300 [05:16<00:14,  1.05s/it]"
     ]
    },
    {
     "name": "stdout",
     "output_type": "stream",
     "text": [
      "Epoch  285 , loss 0.3752813941123439\n",
      "Epoch  286 , loss 0.3772118436355217\n"
     ]
    },
    {
     "name": "stderr",
     "output_type": "stream",
     "text": [
      "\r",
      "Iterations:  96%|███████████████████████████████▌ | 287/300 [05:18<00:14,  1.15s/it]"
     ]
    },
    {
     "name": "stdout",
     "output_type": "stream",
     "text": [
      "Epoch:  286\n",
      "t_loss:  0.3772118436355217 , v_loss:  0.6058016171058019\n",
      "t_acc:  0.7488328664799253 , v_acc:  0.7888198757763976\n",
      "t_recall:  0.6015124689477224 , v_recall:  0.6874774774774774\n",
      "t_prec:  0.7801855200420236 , v_prec:  0.7964387464387465\n",
      "t_f:  0.5985126226093812 , v_f:  0.7072100984167737\n",
      "////////\n"
     ]
    },
    {
     "name": "stderr",
     "output_type": "stream",
     "text": [
      "\r",
      "Iterations:  96%|███████████████████████████████▋ | 288/300 [05:18<00:12,  1.07s/it]"
     ]
    },
    {
     "name": "stdout",
     "output_type": "stream",
     "text": [
      "Epoch  287 , loss 0.37746993291611763\n",
      "Epoch  288 , loss 0.37004905208653094\n"
     ]
    },
    {
     "name": "stderr",
     "output_type": "stream",
     "text": [
      "\r",
      "Iterations:  96%|███████████████████████████████▊ | 289/300 [05:20<00:12,  1.13s/it]"
     ]
    },
    {
     "name": "stdout",
     "output_type": "stream",
     "text": [
      "Epoch:  288\n",
      "t_loss:  0.37004905208653094 , v_loss:  0.5985258022944132\n",
      "t_acc:  0.7525676937441643 , v_acc:  0.782608695652174\n",
      "t_recall:  0.6096601748534882 , v_recall:  0.682972972972973\n",
      "t_prec:  0.7784569184837536 , v_prec:  0.7806799336650083\n",
      "t_f:  0.6106059527401042 , v_f:  0.7012987012987013\n",
      "////////\n"
     ]
    },
    {
     "name": "stderr",
     "output_type": "stream",
     "text": [
      "\r",
      "Iterations:  97%|███████████████████████████████▉ | 290/300 [05:21<00:10,  1.04s/it]"
     ]
    },
    {
     "name": "stdout",
     "output_type": "stream",
     "text": [
      "Epoch  289 , loss 0.36942431389116775\n",
      "Epoch  290 , loss 0.3775392373402913\n"
     ]
    },
    {
     "name": "stderr",
     "output_type": "stream",
     "text": [
      "\r",
      "Iterations:  97%|████████████████████████████████ | 291/300 [05:22<00:10,  1.16s/it]"
     ]
    },
    {
     "name": "stdout",
     "output_type": "stream",
     "text": [
      "Epoch:  290\n",
      "t_loss:  0.3775392373402913 , v_loss:  0.6046839902798334\n",
      "t_acc:  0.748521630874572 , v_acc:  0.782608695652174\n",
      "t_recall:  0.6033014918818024 , v_recall:  0.682972972972973\n",
      "t_prec:  0.77144713621435 , v_prec:  0.7806799336650083\n",
      "t_f:  0.6016392899274632 , v_f:  0.7012987012987013\n",
      "////////\n"
     ]
    },
    {
     "name": "stderr",
     "output_type": "stream",
     "text": [
      "\r",
      "Iterations:  97%|████████████████████████████████ | 292/300 [05:23<00:08,  1.06s/it]"
     ]
    },
    {
     "name": "stdout",
     "output_type": "stream",
     "text": [
      "Epoch  291 , loss 0.36914673885878396\n",
      "Epoch  292 , loss 0.37090665744800194\n"
     ]
    },
    {
     "name": "stderr",
     "output_type": "stream",
     "text": [
      "\r",
      "Iterations:  98%|████████████████████████████████▏| 293/300 [05:24<00:07,  1.14s/it]"
     ]
    },
    {
     "name": "stdout",
     "output_type": "stream",
     "text": [
      "Epoch:  292\n",
      "t_loss:  0.37090665744800194 , v_loss:  0.602693518002828\n",
      "t_acc:  0.7466542172424525 , v_acc:  0.782608695652174\n",
      "t_recall:  0.5999464734219954 , v_recall:  0.682972972972973\n",
      "t_prec:  0.7695074832348892 , v_prec:  0.7806799336650083\n",
      "t_f:  0.5967456343875931 , v_f:  0.7012987012987013\n",
      "////////\n"
     ]
    },
    {
     "name": "stderr",
     "output_type": "stream",
     "text": [
      "\r",
      "Iterations:  98%|████████████████████████████████▎| 294/300 [05:25<00:06,  1.07s/it]"
     ]
    },
    {
     "name": "stdout",
     "output_type": "stream",
     "text": [
      "Epoch  293 , loss 0.37091685568585114\n",
      "Epoch  294 , loss 0.37081557892116845\n"
     ]
    },
    {
     "name": "stderr",
     "output_type": "stream",
     "text": [
      "\r",
      "Iterations:  98%|████████████████████████████████▍| 295/300 [05:26<00:05,  1.14s/it]"
     ]
    },
    {
     "name": "stdout",
     "output_type": "stream",
     "text": [
      "Epoch:  294\n",
      "t_loss:  0.37081557892116845 , v_loss:  0.5978031009435654\n",
      "t_acc:  0.7469654528478058 , v_acc:  0.782608695652174\n",
      "t_recall:  0.6001701870685278 , v_recall:  0.682972972972973\n",
      "t_prec:  0.771000680735194 , v_prec:  0.7806799336650083\n",
      "t_f:  0.5969975171901374 , v_f:  0.7012987012987013\n",
      "////////\n"
     ]
    },
    {
     "name": "stderr",
     "output_type": "stream",
     "text": [
      "\r",
      "Iterations:  99%|████████████████████████████████▌| 296/300 [05:27<00:04,  1.04s/it]"
     ]
    },
    {
     "name": "stdout",
     "output_type": "stream",
     "text": [
      "Epoch  295 , loss 0.3753424643301496\n",
      "Epoch  296 , loss 0.3693561086467668\n"
     ]
    },
    {
     "name": "stderr",
     "output_type": "stream",
     "text": [
      "\r",
      "Iterations:  99%|████████████████████████████████▋| 297/300 [05:29<00:03,  1.12s/it]"
     ]
    },
    {
     "name": "stdout",
     "output_type": "stream",
     "text": [
      "Epoch:  296\n",
      "t_loss:  0.3693561086467668 , v_loss:  0.6027501573165258\n",
      "t_acc:  0.7519452225334579 , v_acc:  0.782608695652174\n",
      "t_recall:  0.6074875447770413 , v_recall:  0.682972972972973\n",
      "t_prec:  0.7815519844693701 , v_prec:  0.7806799336650083\n",
      "t_f:  0.6072975856438767 , v_f:  0.7012987012987013\n",
      "////////\n"
     ]
    },
    {
     "name": "stderr",
     "output_type": "stream",
     "text": [
      "\r",
      "Iterations:  99%|████████████████████████████████▊| 298/300 [05:29<00:02,  1.07s/it]"
     ]
    },
    {
     "name": "stdout",
     "output_type": "stream",
     "text": [
      "Epoch  297 , loss 0.37309396500680964\n",
      "Epoch  298 , loss 0.3708192852197909\n"
     ]
    },
    {
     "name": "stderr",
     "output_type": "stream",
     "text": [
      "\r",
      "Iterations: 100%|████████████████████████████████▉| 299/300 [05:31<00:01,  1.17s/it]"
     ]
    },
    {
     "name": "stdout",
     "output_type": "stream",
     "text": [
      "Epoch:  298\n",
      "t_loss:  0.3708192852197909 , v_loss:  0.6060813417037328\n",
      "t_acc:  0.7538126361655774 , v_acc:  0.782608695652174\n",
      "t_recall:  0.6082547590617752 , v_recall:  0.682972972972973\n",
      "t_prec:  0.7928727025187202 , v_prec:  0.7806799336650083\n",
      "t_f:  0.6079028734285347 , v_f:  0.7012987012987013\n",
      "////////\n"
     ]
    },
    {
     "name": "stderr",
     "output_type": "stream",
     "text": [
      "Iterations: 100%|█████████████████████████████████| 300/300 [05:32<00:00,  1.11s/it]"
     ]
    },
    {
     "name": "stdout",
     "output_type": "stream",
     "text": [
      "Epoch  299 , loss 0.3731548534888847\n"
     ]
    },
    {
     "name": "stderr",
     "output_type": "stream",
     "text": [
      "\n"
     ]
    },
    {
     "name": "stdout",
     "output_type": "stream",
     "text": [
      "105 21\n",
      "\n",
      "c0_acc 0.9459459459459459 , c1_acc 0.42 , b_acc 0.682972972972973\n"
     ]
    },
    {
     "name": "stderr",
     "output_type": "stream",
     "text": [
      "\r",
      "Iterations:   0%|                                           | 0/300 [00:00<?, ?it/s]"
     ]
    },
    {
     "name": "stdout",
     "output_type": "stream",
     "text": [
      "Epoch  0 , loss 0.5955630178545036\n"
     ]
    },
    {
     "name": "stderr",
     "output_type": "stream",
     "text": [
      "\r",
      "Iterations:   0%|                                   | 1/300 [00:01<06:32,  1.31s/it]"
     ]
    },
    {
     "name": "stdout",
     "output_type": "stream",
     "text": [
      "Epoch:  0\n",
      "t_loss:  0.5955630178545036 , v_loss:  0.681066890557607\n",
      "t_acc:  0.6325639426076107 , v_acc:  0.6845238095238095\n",
      "t_recall:  0.5018524520451907 , v_recall:  0.5\n",
      "t_prec:  0.5028368270060017 , v_prec:  0.34226190476190477\n",
      "t_f:  0.48884066939200665 , v_f:  0.40636042402826855\n",
      "////////\n"
     ]
    },
    {
     "name": "stderr",
     "output_type": "stream",
     "text": [
      "\r",
      "Iterations:   1%|▏                                  | 2/300 [00:02<05:11,  1.04s/it]"
     ]
    },
    {
     "name": "stdout",
     "output_type": "stream",
     "text": [
      "Epoch  1 , loss 0.5636232308312958\n",
      "Epoch  2 , loss 0.5275257878443774\n"
     ]
    },
    {
     "name": "stderr",
     "output_type": "stream",
     "text": [
      "\r",
      "Iterations:   1%|▎                                  | 3/300 [00:03<05:58,  1.21s/it]"
     ]
    },
    {
     "name": "stdout",
     "output_type": "stream",
     "text": [
      "Epoch:  2\n",
      "t_loss:  0.5275257878443774 , v_loss:  0.6723490158716837\n",
      "t_acc:  0.6880848409232688 , v_acc:  0.6845238095238095\n",
      "t_recall:  0.5050792446758381 , v_recall:  0.5\n",
      "t_prec:  0.5359192179275861 , v_prec:  0.34226190476190477\n",
      "t_f:  0.44078261130449403 , v_f:  0.40636042402826855\n",
      "////////\n"
     ]
    },
    {
     "name": "stderr",
     "output_type": "stream",
     "text": [
      "\r",
      "Iterations:   1%|▍                                  | 4/300 [00:04<05:25,  1.10s/it]"
     ]
    },
    {
     "name": "stdout",
     "output_type": "stream",
     "text": [
      "Epoch  3 , loss 0.5056827833839491\n",
      "Epoch  4 , loss 0.48815257292167813\n"
     ]
    },
    {
     "name": "stderr",
     "output_type": "stream",
     "text": [
      "\r",
      "Iterations:   2%|▌                                  | 5/300 [00:05<05:52,  1.19s/it]"
     ]
    },
    {
     "name": "stdout",
     "output_type": "stream",
     "text": [
      "Epoch:  4\n",
      "t_loss:  0.48815257292167813 , v_loss:  0.6589205861091614\n",
      "t_acc:  0.6933873986275733 , v_acc:  0.6845238095238095\n",
      "t_recall:  0.49936190509027806 , v_recall:  0.5\n",
      "t_prec:  0.47280564263322883 , v_prec:  0.34226190476190477\n",
      "t_f:  0.4133703981470571 , v_f:  0.40636042402826855\n",
      "////////\n"
     ]
    },
    {
     "name": "stderr",
     "output_type": "stream",
     "text": [
      "\r",
      "Iterations:   2%|▋                                  | 6/300 [00:06<05:16,  1.07s/it]"
     ]
    },
    {
     "name": "stdout",
     "output_type": "stream",
     "text": [
      "Epoch  5 , loss 0.4686458180932438\n",
      "Epoch  6 , loss 0.4653150129551981\n"
     ]
    },
    {
     "name": "stderr",
     "output_type": "stream",
     "text": [
      "\r",
      "Iterations:   2%|▊                                  | 7/300 [00:08<05:38,  1.15s/it]"
     ]
    },
    {
     "name": "stdout",
     "output_type": "stream",
     "text": [
      "Epoch:  6\n",
      "t_loss:  0.4653150129551981 , v_loss:  0.6565582056840261\n",
      "t_acc:  0.6961946350592639 , v_acc:  0.6845238095238095\n",
      "t_recall:  0.5005128205128205 , v_recall:  0.5\n",
      "t_prec:  0.8480499219968799 , v_prec:  0.34226190476190477\n",
      "t_f:  0.4114366578607703 , v_f:  0.40636042402826855\n",
      "////////\n"
     ]
    },
    {
     "name": "stderr",
     "output_type": "stream",
     "text": [
      "\r",
      "Iterations:   3%|▉                                  | 8/300 [00:08<05:05,  1.05s/it]"
     ]
    },
    {
     "name": "stdout",
     "output_type": "stream",
     "text": [
      "Epoch  7 , loss 0.4720540964135937\n",
      "Epoch  8 , loss 0.4680612040501015\n"
     ]
    },
    {
     "name": "stderr",
     "output_type": "stream",
     "text": [
      "\r",
      "Iterations:   3%|█                                  | 9/300 [00:10<05:32,  1.14s/it]"
     ]
    },
    {
     "name": "stdout",
     "output_type": "stream",
     "text": [
      "Epoch:  8\n",
      "t_loss:  0.4680612040501015 , v_loss:  0.6692266464233398\n",
      "t_acc:  0.6952588895820336 , v_acc:  0.6845238095238095\n",
      "t_recall:  0.49955177050649935 , v_recall:  0.5\n",
      "t_prec:  0.34784644194756553 , v_prec:  0.34226190476190477\n",
      "t_f:  0.41011959521619135 , v_f:  0.40636042402826855\n",
      "////////\n"
     ]
    },
    {
     "name": "stderr",
     "output_type": "stream",
     "text": [
      "\r",
      "Iterations:   3%|█▏                                | 10/300 [00:11<05:08,  1.06s/it]"
     ]
    },
    {
     "name": "stdout",
     "output_type": "stream",
     "text": [
      "Epoch  9 , loss 0.45751746612436633\n",
      "Epoch  10 , loss 0.4556378552726671\n"
     ]
    },
    {
     "name": "stderr",
     "output_type": "stream",
     "text": [
      "\r",
      "Iterations:   4%|█▏                                | 11/300 [00:12<05:31,  1.15s/it]"
     ]
    },
    {
     "name": "stdout",
     "output_type": "stream",
     "text": [
      "Epoch:  10\n",
      "t_loss:  0.4556378552726671 , v_loss:  0.6818580428759257\n",
      "t_acc:  0.6958827199001871 , v_acc:  0.6845238095238095\n",
      "t_recall:  0.5 , v_recall:  0.5\n",
      "t_prec:  0.34794135995009356 , v_prec:  0.34226190476190477\n",
      "t_f:  0.41033658267426887 , v_f:  0.40636042402826855\n",
      "////////\n"
     ]
    },
    {
     "name": "stderr",
     "output_type": "stream",
     "text": [
      "\r",
      "Iterations:   4%|█▎                                | 12/300 [00:13<05:02,  1.05s/it]"
     ]
    },
    {
     "name": "stdout",
     "output_type": "stream",
     "text": [
      "Epoch  11 , loss 0.46347856872222004\n",
      "Epoch  12 , loss 0.45431344999986534\n"
     ]
    },
    {
     "name": "stderr",
     "output_type": "stream",
     "text": [
      "\r",
      "Iterations:   4%|█▍                                | 13/300 [00:14<05:22,  1.12s/it]"
     ]
    },
    {
     "name": "stdout",
     "output_type": "stream",
     "text": [
      "Epoch:  12\n",
      "t_loss:  0.45431344999986534 , v_loss:  0.6841184695561727\n",
      "t_acc:  0.6958827199001871 , v_acc:  0.6845238095238095\n",
      "t_recall:  0.5 , v_recall:  0.5\n",
      "t_prec:  0.34794135995009356 , v_prec:  0.34226190476190477\n",
      "t_f:  0.41033658267426887 , v_f:  0.40636042402826855\n",
      "////////\n"
     ]
    },
    {
     "name": "stderr",
     "output_type": "stream",
     "text": [
      "\r",
      "Iterations:   5%|█▌                                | 14/300 [00:15<05:01,  1.06s/it]"
     ]
    },
    {
     "name": "stdout",
     "output_type": "stream",
     "text": [
      "Epoch  13 , loss 0.45253823434605317\n",
      "Epoch  14 , loss 0.46117332343961676\n"
     ]
    },
    {
     "name": "stderr",
     "output_type": "stream",
     "text": [
      "\r",
      "Iterations:   5%|█▋                                | 15/300 [00:16<05:30,  1.16s/it]"
     ]
    },
    {
     "name": "stdout",
     "output_type": "stream",
     "text": [
      "Epoch:  14\n",
      "t_loss:  0.46117332343961676 , v_loss:  0.6930374304453532\n",
      "t_acc:  0.6958827199001871 , v_acc:  0.6845238095238095\n",
      "t_recall:  0.5 , v_recall:  0.5\n",
      "t_prec:  0.34794135995009356 , v_prec:  0.34226190476190477\n",
      "t_f:  0.41033658267426887 , v_f:  0.40636042402826855\n",
      "////////\n"
     ]
    },
    {
     "name": "stderr",
     "output_type": "stream",
     "text": [
      "\r",
      "Iterations:   5%|█▊                                | 16/300 [00:17<05:06,  1.08s/it]"
     ]
    },
    {
     "name": "stdout",
     "output_type": "stream",
     "text": [
      "Epoch  15 , loss 0.45994891606125177\n",
      "Epoch  16 , loss 0.4575446657105988\n"
     ]
    },
    {
     "name": "stderr",
     "output_type": "stream",
     "text": [
      "\r",
      "Iterations:   6%|█▉                                | 17/300 [00:19<05:26,  1.16s/it]"
     ]
    },
    {
     "name": "stdout",
     "output_type": "stream",
     "text": [
      "Epoch:  16\n",
      "t_loss:  0.4575446657105988 , v_loss:  0.6923637588818868\n",
      "t_acc:  0.6958827199001871 , v_acc:  0.6845238095238095\n",
      "t_recall:  0.5 , v_recall:  0.5\n",
      "t_prec:  0.34794135995009356 , v_prec:  0.34226190476190477\n",
      "t_f:  0.41033658267426887 , v_f:  0.40636042402826855\n",
      "////////\n"
     ]
    },
    {
     "name": "stderr",
     "output_type": "stream",
     "text": [
      "\r",
      "Iterations:   6%|██                                | 18/300 [00:19<04:58,  1.06s/it]"
     ]
    },
    {
     "name": "stdout",
     "output_type": "stream",
     "text": [
      "Epoch  17 , loss 0.4474279062420714\n",
      "Epoch  18 , loss 0.4669002767871408\n"
     ]
    },
    {
     "name": "stderr",
     "output_type": "stream",
     "text": [
      "\r",
      "Iterations:   6%|██▏                               | 19/300 [00:21<05:23,  1.15s/it]"
     ]
    },
    {
     "name": "stdout",
     "output_type": "stream",
     "text": [
      "Epoch:  18\n",
      "t_loss:  0.4669002767871408 , v_loss:  0.6943488419055939\n",
      "t_acc:  0.6958827199001871 , v_acc:  0.6845238095238095\n",
      "t_recall:  0.5 , v_recall:  0.5\n",
      "t_prec:  0.34794135995009356 , v_prec:  0.34226190476190477\n",
      "t_f:  0.41033658267426887 , v_f:  0.40636042402826855\n",
      "////////\n"
     ]
    },
    {
     "name": "stderr",
     "output_type": "stream",
     "text": [
      "\r",
      "Iterations:   7%|██▎                               | 20/300 [00:22<04:54,  1.05s/it]"
     ]
    },
    {
     "name": "stdout",
     "output_type": "stream",
     "text": [
      "Epoch  19 , loss 0.4572962154360378\n",
      "Epoch  20 , loss 0.45228472468899744\n"
     ]
    },
    {
     "name": "stderr",
     "output_type": "stream",
     "text": [
      "\r",
      "Iterations:   7%|██▍                               | 21/300 [00:23<05:19,  1.15s/it]"
     ]
    },
    {
     "name": "stdout",
     "output_type": "stream",
     "text": [
      "Epoch:  20\n",
      "t_loss:  0.45228472468899744 , v_loss:  0.6925172209739685\n",
      "t_acc:  0.6958827199001871 , v_acc:  0.6845238095238095\n",
      "t_recall:  0.5 , v_recall:  0.5\n",
      "t_prec:  0.34794135995009356 , v_prec:  0.34226190476190477\n",
      "t_f:  0.41033658267426887 , v_f:  0.40636042402826855\n",
      "////////\n"
     ]
    },
    {
     "name": "stderr",
     "output_type": "stream",
     "text": [
      "\r",
      "Iterations:   7%|██▍                               | 22/300 [00:24<05:06,  1.10s/it]"
     ]
    },
    {
     "name": "stdout",
     "output_type": "stream",
     "text": [
      "Epoch  21 , loss 0.45303430627374086\n",
      "Epoch  22 , loss 0.4499247617581311\n"
     ]
    },
    {
     "name": "stderr",
     "output_type": "stream",
     "text": [
      "\r",
      "Iterations:   8%|██▌                               | 23/300 [00:25<05:24,  1.17s/it]"
     ]
    },
    {
     "name": "stdout",
     "output_type": "stream",
     "text": [
      "Epoch:  22\n",
      "t_loss:  0.4499247617581311 , v_loss:  0.6952306926250458\n",
      "t_acc:  0.6958827199001871 , v_acc:  0.6845238095238095\n",
      "t_recall:  0.5 , v_recall:  0.5\n",
      "t_prec:  0.34794135995009356 , v_prec:  0.34226190476190477\n",
      "t_f:  0.41033658267426887 , v_f:  0.40636042402826855\n",
      "////////\n"
     ]
    },
    {
     "name": "stderr",
     "output_type": "stream",
     "text": [
      "\r",
      "Iterations:   8%|██▋                               | 24/300 [00:26<04:56,  1.07s/it]"
     ]
    },
    {
     "name": "stdout",
     "output_type": "stream",
     "text": [
      "Epoch  23 , loss 0.4541112429955426\n",
      "Epoch  24 , loss 0.4466539691476261\n"
     ]
    },
    {
     "name": "stderr",
     "output_type": "stream",
     "text": [
      "\r",
      "Iterations:   8%|██▊                               | 25/300 [00:28<05:23,  1.18s/it]"
     ]
    },
    {
     "name": "stdout",
     "output_type": "stream",
     "text": [
      "Epoch:  24\n",
      "t_loss:  0.4466539691476261 , v_loss:  0.6968019306659698\n",
      "t_acc:  0.6958827199001871 , v_acc:  0.6845238095238095\n",
      "t_recall:  0.5 , v_recall:  0.5\n",
      "t_prec:  0.34794135995009356 , v_prec:  0.34226190476190477\n",
      "t_f:  0.41033658267426887 , v_f:  0.40636042402826855\n",
      "////////\n"
     ]
    },
    {
     "name": "stderr",
     "output_type": "stream",
     "text": [
      "\r",
      "Iterations:   9%|██▉                               | 26/300 [00:29<05:11,  1.14s/it]"
     ]
    },
    {
     "name": "stdout",
     "output_type": "stream",
     "text": [
      "Epoch  25 , loss 0.44743640399446677\n",
      "Epoch  26 , loss 0.45400505089292337\n"
     ]
    },
    {
     "name": "stderr",
     "output_type": "stream",
     "text": [
      "\r",
      "Iterations:   9%|███                               | 27/300 [00:30<05:46,  1.27s/it]"
     ]
    },
    {
     "name": "stdout",
     "output_type": "stream",
     "text": [
      "Epoch:  26\n",
      "t_loss:  0.45400505089292337 , v_loss:  0.69498610496521\n",
      "t_acc:  0.6958827199001871 , v_acc:  0.6845238095238095\n",
      "t_recall:  0.5 , v_recall:  0.5\n",
      "t_prec:  0.34794135995009356 , v_prec:  0.34226190476190477\n",
      "t_f:  0.41033658267426887 , v_f:  0.40636042402826855\n",
      "////////\n"
     ]
    },
    {
     "name": "stderr",
     "output_type": "stream",
     "text": [
      "\r",
      "Iterations:   9%|███▏                              | 28/300 [00:31<05:24,  1.19s/it]"
     ]
    },
    {
     "name": "stdout",
     "output_type": "stream",
     "text": [
      "Epoch  27 , loss 0.44480059135193917\n",
      "Epoch  28 , loss 0.4579538112761928\n"
     ]
    },
    {
     "name": "stderr",
     "output_type": "stream",
     "text": [
      "\r",
      "Iterations:  10%|███▎                              | 29/300 [00:33<05:40,  1.26s/it]"
     ]
    },
    {
     "name": "stdout",
     "output_type": "stream",
     "text": [
      "Epoch:  28\n",
      "t_loss:  0.4579538112761928 , v_loss:  0.7003297259410223\n",
      "t_acc:  0.6958827199001871 , v_acc:  0.6845238095238095\n",
      "t_recall:  0.5 , v_recall:  0.5\n",
      "t_prec:  0.34794135995009356 , v_prec:  0.34226190476190477\n",
      "t_f:  0.41033658267426887 , v_f:  0.40636042402826855\n",
      "////////\n"
     ]
    },
    {
     "name": "stderr",
     "output_type": "stream",
     "text": [
      "\r",
      "Iterations:  10%|███▍                              | 30/300 [00:33<05:05,  1.13s/it]"
     ]
    },
    {
     "name": "stdout",
     "output_type": "stream",
     "text": [
      "Epoch  29 , loss 0.45360293575361665\n",
      "Epoch  30 , loss 0.4518936212156333\n"
     ]
    },
    {
     "name": "stderr",
     "output_type": "stream",
     "text": [
      "\r",
      "Iterations:  10%|███▌                              | 31/300 [00:35<05:32,  1.24s/it]"
     ]
    },
    {
     "name": "stdout",
     "output_type": "stream",
     "text": [
      "Epoch:  30\n",
      "t_loss:  0.4518936212156333 , v_loss:  0.6996326992909113\n",
      "t_acc:  0.6958827199001871 , v_acc:  0.6845238095238095\n",
      "t_recall:  0.5 , v_recall:  0.5\n",
      "t_prec:  0.34794135995009356 , v_prec:  0.34226190476190477\n",
      "t_f:  0.41033658267426887 , v_f:  0.40636042402826855\n",
      "////////\n"
     ]
    },
    {
     "name": "stderr",
     "output_type": "stream",
     "text": [
      "\r",
      "Iterations:  11%|███▋                              | 32/300 [00:36<05:02,  1.13s/it]"
     ]
    },
    {
     "name": "stdout",
     "output_type": "stream",
     "text": [
      "Epoch  31 , loss 0.44787078803660824\n",
      "Epoch  32 , loss 0.4433439327221291\n"
     ]
    },
    {
     "name": "stderr",
     "output_type": "stream",
     "text": [
      "\r",
      "Iterations:  11%|███▋                              | 33/300 [00:37<05:29,  1.24s/it]"
     ]
    },
    {
     "name": "stdout",
     "output_type": "stream",
     "text": [
      "Epoch:  32\n",
      "t_loss:  0.4433439327221291 , v_loss:  0.6983991066614786\n",
      "t_acc:  0.6958827199001871 , v_acc:  0.6845238095238095\n",
      "t_recall:  0.5 , v_recall:  0.5\n",
      "t_prec:  0.34794135995009356 , v_prec:  0.34226190476190477\n",
      "t_f:  0.41033658267426887 , v_f:  0.40636042402826855\n",
      "////////\n"
     ]
    },
    {
     "name": "stderr",
     "output_type": "stream",
     "text": [
      "\r",
      "Iterations:  11%|███▊                              | 34/300 [00:38<05:13,  1.18s/it]"
     ]
    },
    {
     "name": "stdout",
     "output_type": "stream",
     "text": [
      "Epoch  33 , loss 0.44341271706655916\n",
      "Epoch  34 , loss 0.44633858870057497\n"
     ]
    },
    {
     "name": "stderr",
     "output_type": "stream",
     "text": [
      "\r",
      "Iterations:  12%|███▉                              | 35/300 [00:40<05:27,  1.24s/it]"
     ]
    },
    {
     "name": "stdout",
     "output_type": "stream",
     "text": [
      "Epoch:  34\n",
      "t_loss:  0.44633858870057497 , v_loss:  0.6987823297580084\n",
      "t_acc:  0.6955708047411104 , v_acc:  0.6845238095238095\n",
      "t_recall:  0.4997758852532497 , v_recall:  0.5\n",
      "t_prec:  0.34789391575663026 , v_prec:  0.34226190476190477\n",
      "t_f:  0.41022810890360556 , v_f:  0.40636042402826855\n",
      "////////\n"
     ]
    },
    {
     "name": "stderr",
     "output_type": "stream",
     "text": [
      "\r",
      "Iterations:  12%|████                              | 36/300 [00:41<05:06,  1.16s/it]"
     ]
    },
    {
     "name": "stdout",
     "output_type": "stream",
     "text": [
      "Epoch  35 , loss 0.4439287314227983\n",
      "Epoch  36 , loss 0.4374576508998871\n"
     ]
    },
    {
     "name": "stderr",
     "output_type": "stream",
     "text": [
      "\r",
      "Iterations:  12%|████▏                             | 37/300 [00:42<05:24,  1.23s/it]"
     ]
    },
    {
     "name": "stdout",
     "output_type": "stream",
     "text": [
      "Epoch:  36\n",
      "t_loss:  0.4374576508998871 , v_loss:  0.6954593459765116\n",
      "t_acc:  0.6958827199001871 , v_acc:  0.6845238095238095\n",
      "t_recall:  0.5 , v_recall:  0.5\n",
      "t_prec:  0.34794135995009356 , v_prec:  0.34226190476190477\n",
      "t_f:  0.41033658267426887 , v_f:  0.40636042402826855\n",
      "////////\n"
     ]
    },
    {
     "name": "stderr",
     "output_type": "stream",
     "text": [
      "\r",
      "Iterations:  13%|████▎                             | 38/300 [00:43<05:00,  1.15s/it]"
     ]
    },
    {
     "name": "stdout",
     "output_type": "stream",
     "text": [
      "Epoch  37 , loss 0.44169073186668695\n",
      "Epoch  38 , loss 0.44906143113678576\n"
     ]
    },
    {
     "name": "stderr",
     "output_type": "stream",
     "text": [
      "\r",
      "Iterations:  13%|████▍                             | 39/300 [00:45<05:32,  1.28s/it]"
     ]
    },
    {
     "name": "stdout",
     "output_type": "stream",
     "text": [
      "Epoch:  38\n",
      "t_loss:  0.44906143113678576 , v_loss:  0.6963828255732855\n",
      "t_acc:  0.6958827199001871 , v_acc:  0.6845238095238095\n",
      "t_recall:  0.5002887057660702 , v_recall:  0.5\n",
      "t_prec:  0.5980024968789014 , v_prec:  0.34226190476190477\n",
      "t_f:  0.41132712930991466 , v_f:  0.40636042402826855\n",
      "////////\n"
     ]
    },
    {
     "name": "stderr",
     "output_type": "stream",
     "text": [
      "\r",
      "Iterations:  13%|████▌                             | 40/300 [00:46<05:19,  1.23s/it]"
     ]
    },
    {
     "name": "stdout",
     "output_type": "stream",
     "text": [
      "Epoch  39 , loss 0.43843018365841285\n",
      "Epoch  40 , loss 0.4445710877577464\n"
     ]
    },
    {
     "name": "stderr",
     "output_type": "stream",
     "text": [
      "\r",
      "Iterations:  14%|████▋                             | 41/300 [00:47<05:51,  1.36s/it]"
     ]
    },
    {
     "name": "stdout",
     "output_type": "stream",
     "text": [
      "Epoch:  40\n",
      "t_loss:  0.4445710877577464 , v_loss:  0.6912688215573629\n",
      "t_acc:  0.6965065502183406 , v_acc:  0.6845238095238095\n",
      "t_recall:  0.5010256410256411 , v_recall:  0.5\n",
      "t_prec:  0.8481585518102372 , v_prec:  0.34226190476190477\n",
      "t_f:  0.4125346634036378 , v_f:  0.40636042402826855\n",
      "////////\n"
     ]
    },
    {
     "name": "stderr",
     "output_type": "stream",
     "text": [
      "\r",
      "Iterations:  14%|████▊                             | 42/300 [00:48<05:14,  1.22s/it]"
     ]
    },
    {
     "name": "stdout",
     "output_type": "stream",
     "text": [
      "Epoch  41 , loss 0.43936506498093697\n",
      "Epoch  42 , loss 0.43758392158676596\n"
     ]
    },
    {
     "name": "stderr",
     "output_type": "stream",
     "text": [
      "\r",
      "Iterations:  14%|████▊                             | 43/300 [00:50<05:25,  1.27s/it]"
     ]
    },
    {
     "name": "stdout",
     "output_type": "stream",
     "text": [
      "Epoch:  42\n",
      "t_loss:  0.43758392158676596 , v_loss:  0.6911472777525584\n",
      "t_acc:  0.6961946350592639 , v_acc:  0.6845238095238095\n",
      "t_recall:  0.5005128205128205 , v_recall:  0.5\n",
      "t_prec:  0.8480499219968799 , v_prec:  0.34226190476190477\n",
      "t_f:  0.4114366578607703 , v_f:  0.40636042402826855\n",
      "////////\n"
     ]
    },
    {
     "name": "stderr",
     "output_type": "stream",
     "text": [
      "\r",
      "Iterations:  15%|████▉                             | 44/300 [00:51<04:53,  1.15s/it]"
     ]
    },
    {
     "name": "stdout",
     "output_type": "stream",
     "text": [
      "Epoch  43 , loss 0.4372296900141473\n",
      "Epoch  44 , loss 0.44137390863661674\n"
     ]
    },
    {
     "name": "stderr",
     "output_type": "stream",
     "text": [
      "\r",
      "Iterations:  15%|█████                             | 45/300 [00:52<05:23,  1.27s/it]"
     ]
    },
    {
     "name": "stdout",
     "output_type": "stream",
     "text": [
      "Epoch:  44\n",
      "t_loss:  0.44137390863661674 , v_loss:  0.6856401860713959\n",
      "t_acc:  0.6958827199001871 , v_acc:  0.6845238095238095\n",
      "t_recall:  0.5002887057660702 , v_recall:  0.5\n",
      "t_prec:  0.5980024968789014 , v_prec:  0.34226190476190477\n",
      "t_f:  0.41132712930991466 , v_f:  0.40636042402826855\n",
      "////////\n"
     ]
    },
    {
     "name": "stderr",
     "output_type": "stream",
     "text": [
      "\r",
      "Iterations:  15%|█████▏                            | 46/300 [00:53<04:53,  1.15s/it]"
     ]
    },
    {
     "name": "stdout",
     "output_type": "stream",
     "text": [
      "Epoch  45 , loss 0.4365670330384198\n",
      "Epoch  46 , loss 0.4411877487220016\n"
     ]
    },
    {
     "name": "stderr",
     "output_type": "stream",
     "text": [
      "\r",
      "Iterations:  16%|█████▎                            | 47/300 [00:54<05:11,  1.23s/it]"
     ]
    },
    {
     "name": "stdout",
     "output_type": "stream",
     "text": [
      "Epoch:  46\n",
      "t_loss:  0.4411877487220016 , v_loss:  0.6830850491921107\n",
      "t_acc:  0.6958827199001871 , v_acc:  0.6845238095238095\n",
      "t_recall:  0.5002887057660702 , v_recall:  0.5\n",
      "t_prec:  0.5980024968789014 , v_prec:  0.34226190476190477\n",
      "t_f:  0.41132712930991466 , v_f:  0.40636042402826855\n",
      "////////\n"
     ]
    },
    {
     "name": "stderr",
     "output_type": "stream",
     "text": [
      "\r",
      "Iterations:  16%|█████▍                            | 48/300 [00:55<04:54,  1.17s/it]"
     ]
    },
    {
     "name": "stdout",
     "output_type": "stream",
     "text": [
      "Epoch  47 , loss 0.4367457727591197\n",
      "Epoch  48 , loss 0.44032809488913593\n"
     ]
    },
    {
     "name": "stderr",
     "output_type": "stream",
     "text": [
      "\r",
      "Iterations:  16%|█████▌                            | 49/300 [00:57<05:06,  1.22s/it]"
     ]
    },
    {
     "name": "stdout",
     "output_type": "stream",
     "text": [
      "Epoch:  48\n",
      "t_loss:  0.44032809488913593 , v_loss:  0.6789634476105372\n",
      "t_acc:  0.6955708047411104 , v_acc:  0.6845238095238095\n",
      "t_recall:  0.5000645910193199 , v_recall:  0.5\n",
      "t_prec:  0.514621708814653 , v_prec:  0.34226190476190477\n",
      "t_f:  0.4112175629773305 , v_f:  0.40636042402826855\n",
      "////////\n"
     ]
    },
    {
     "name": "stderr",
     "output_type": "stream",
     "text": [
      "\r",
      "Iterations:  17%|█████▋                            | 50/300 [00:58<04:43,  1.13s/it]"
     ]
    },
    {
     "name": "stdout",
     "output_type": "stream",
     "text": [
      "Epoch  49 , loss 0.4367392501410316\n",
      "Epoch  50 , loss 0.4398297106518465\n"
     ]
    },
    {
     "name": "stderr",
     "output_type": "stream",
     "text": [
      "\r",
      "Iterations:  17%|█████▊                            | 51/300 [00:59<04:59,  1.20s/it]"
     ]
    },
    {
     "name": "stdout",
     "output_type": "stream",
     "text": [
      "Epoch:  50\n",
      "t_loss:  0.4398297106518465 , v_loss:  0.6787154277165731\n",
      "t_acc:  0.6971303805364941 , v_acc:  0.6845238095238095\n",
      "t_recall:  0.5023399878173522 , v_recall:  0.5\n",
      "t_prec:  0.7651041666666667 , v_prec:  0.34226190476190477\n",
      "t_f:  0.4157026215832356 , v_f:  0.40636042402826855\n",
      "////////\n"
     ]
    },
    {
     "name": "stderr",
     "output_type": "stream",
     "text": [
      "\r",
      "Iterations:  17%|█████▉                            | 52/300 [01:00<04:41,  1.14s/it]"
     ]
    },
    {
     "name": "stdout",
     "output_type": "stream",
     "text": [
      "Epoch  51 , loss 0.43674230984613005\n",
      "Epoch  52 , loss 0.42936456145024765\n"
     ]
    },
    {
     "name": "stderr",
     "output_type": "stream",
     "text": [
      "\r",
      "Iterations:  18%|██████                            | 53/300 [01:02<05:15,  1.28s/it]"
     ]
    },
    {
     "name": "stdout",
     "output_type": "stream",
     "text": [
      "Epoch:  52\n",
      "t_loss:  0.42936456145024765 , v_loss:  0.6768945356210073\n",
      "t_acc:  0.6965065502183406 , v_acc:  0.6845238095238095\n",
      "t_recall:  0.5018917583238516 , v_recall:  0.5\n",
      "t_prec:  0.6608427141963727 , v_prec:  0.34226190476190477\n",
      "t_f:  0.41547512351718013 , v_f:  0.40636042402826855\n",
      "////////\n"
     ]
    },
    {
     "name": "stderr",
     "output_type": "stream",
     "text": [
      "\r",
      "Iterations:  18%|██████                            | 54/300 [01:03<04:57,  1.21s/it]"
     ]
    },
    {
     "name": "stdout",
     "output_type": "stream",
     "text": [
      "Epoch  53 , loss 0.42662407311738704\n",
      "Epoch  54 , loss 0.43028732316166746\n"
     ]
    },
    {
     "name": "stderr",
     "output_type": "stream",
     "text": [
      "\r",
      "Iterations:  18%|██████▏                           | 55/300 [01:04<05:16,  1.29s/it]"
     ]
    },
    {
     "name": "stdout",
     "output_type": "stream",
     "text": [
      "Epoch:  54\n",
      "t_loss:  0.43028732316166746 , v_loss:  0.6724042743444443\n",
      "t_acc:  0.6961946350592639 , v_acc:  0.6845238095238095\n",
      "t_recall:  0.501378937811031 , v_recall:  0.5\n",
      "t_prec:  0.633948108783995 , v_prec:  0.34226190476190477\n",
      "t_f:  0.4143863952620465 , v_f:  0.40636042402826855\n",
      "////////\n"
     ]
    },
    {
     "name": "stderr",
     "output_type": "stream",
     "text": [
      "\r",
      "Iterations:  19%|██████▎                           | 56/300 [01:05<04:45,  1.17s/it]"
     ]
    },
    {
     "name": "stdout",
     "output_type": "stream",
     "text": [
      "Epoch  55 , loss 0.42894810029104646\n",
      "Epoch  56 , loss 0.4269748032093048\n"
     ]
    },
    {
     "name": "stderr",
     "output_type": "stream",
     "text": [
      "\r",
      "Iterations:  19%|██████▍                           | 57/300 [01:06<05:02,  1.25s/it]"
     ]
    },
    {
     "name": "stdout",
     "output_type": "stream",
     "text": [
      "Epoch:  56\n",
      "t_loss:  0.4269748032093048 , v_loss:  0.6769395222266515\n",
      "t_acc:  0.698378041172801 , v_acc:  0.6845238095238095\n",
      "t_recall:  0.5046799756347045 , v_recall:  0.5\n",
      "t_prec:  0.7656021707367981 , v_prec:  0.34226190476190477\n",
      "t_f:  0.4210072882962382 , v_f:  0.40636042402826855\n",
      "////////\n"
     ]
    },
    {
     "name": "stderr",
     "output_type": "stream",
     "text": [
      "\r",
      "Iterations:  19%|██████▌                           | 58/300 [01:07<04:33,  1.13s/it]"
     ]
    },
    {
     "name": "stdout",
     "output_type": "stream",
     "text": [
      "Epoch  57 , loss 0.42376382210675406\n",
      "Epoch  58 , loss 0.4276038671241087\n"
     ]
    },
    {
     "name": "stderr",
     "output_type": "stream",
     "text": [
      "\r",
      "Iterations:  20%|██████▋                           | 59/300 [01:09<05:07,  1.28s/it]"
     ]
    },
    {
     "name": "stdout",
     "output_type": "stream",
     "text": [
      "Epoch:  58\n",
      "t_loss:  0.4276038671241087 , v_loss:  0.6782492051521937\n",
      "t_acc:  0.6977542108546475 , v_acc:  0.6845238095238095\n",
      "t_recall:  0.5042317461412038 , v_recall:  0.5\n",
      "t_prec:  0.705983709273183 , v_prec:  0.34226190476190477\n",
      "t_f:  0.4207695306680698 , v_f:  0.40636042402826855\n",
      "////////\n"
     ]
    },
    {
     "name": "stderr",
     "output_type": "stream",
     "text": [
      "\r",
      "Iterations:  20%|██████▊                           | 60/300 [01:10<04:37,  1.16s/it]"
     ]
    },
    {
     "name": "stdout",
     "output_type": "stream",
     "text": [
      "Epoch  59 , loss 0.42378198808314754\n",
      "Epoch  60 , loss 0.42698141523436006\n"
     ]
    },
    {
     "name": "stderr",
     "output_type": "stream",
     "text": [
      "\r",
      "Iterations:  20%|██████▉                           | 61/300 [01:11<04:52,  1.22s/it]"
     ]
    },
    {
     "name": "stdout",
     "output_type": "stream",
     "text": [
      "Epoch:  60\n",
      "t_loss:  0.42698141523436006 , v_loss:  0.6703907897075018\n",
      "t_acc:  0.6949469744229569 , v_acc:  0.6845238095238095\n",
      "t_recall:  0.5007711845900998 , v_recall:  0.5\n",
      "t_prec:  0.5404129224987352 , v_prec:  0.34226190476190477\n",
      "t_f:  0.4149058614883021 , v_f:  0.40636042402826855\n",
      "////////\n"
     ]
    },
    {
     "name": "stderr",
     "output_type": "stream",
     "text": [
      "\r",
      "Iterations:  21%|███████                           | 62/300 [01:12<04:38,  1.17s/it]"
     ]
    },
    {
     "name": "stdout",
     "output_type": "stream",
     "text": [
      "Epoch  61 , loss 0.42515894624532435\n",
      "Epoch  62 , loss 0.42464270895602657\n"
     ]
    },
    {
     "name": "stderr",
     "output_type": "stream",
     "text": [
      "\r",
      "Iterations:  21%|███████▏                          | 63/300 [01:14<04:49,  1.22s/it]"
     ]
    },
    {
     "name": "stdout",
     "output_type": "stream",
     "text": [
      "Epoch:  62\n",
      "t_loss:  0.42464270895602657 , v_loss:  0.6714984426895777\n",
      "t_acc:  0.6980661260137243 , v_acc:  0.6845238095238095\n",
      "t_recall:  0.5050332724200944 , v_recall:  0.5\n",
      "t_prec:  0.7019534060096286 , v_prec:  0.34226190476190477\n",
      "t_f:  0.4227978812046185 , v_f:  0.40636042402826855\n",
      "////////\n"
     ]
    },
    {
     "name": "stderr",
     "output_type": "stream",
     "text": [
      "\r",
      "Iterations:  21%|███████▎                          | 64/300 [01:14<04:24,  1.12s/it]"
     ]
    },
    {
     "name": "stdout",
     "output_type": "stream",
     "text": [
      "Epoch  63 , loss 0.4254348389073914\n",
      "Epoch  64 , loss 0.42772310563162264\n"
     ]
    },
    {
     "name": "stderr",
     "output_type": "stream",
     "text": [
      "\r",
      "Iterations:  22%|███████▎                          | 65/300 [01:16<04:47,  1.22s/it]"
     ]
    },
    {
     "name": "stdout",
     "output_type": "stream",
     "text": [
      "Epoch:  64\n",
      "t_loss:  0.42772310563162264 , v_loss:  0.6721596916516622\n",
      "t_acc:  0.7008733624454149 , v_acc:  0.6845238095238095\n",
      "t_recall:  0.5102260685676194 , v_recall:  0.5\n",
      "t_prec:  0.7334592779177163 , v_prec:  0.34226190476190477\n",
      "t_f:  0.43420423313430995 , v_f:  0.40636042402826855\n",
      "////////\n"
     ]
    },
    {
     "name": "stderr",
     "output_type": "stream",
     "text": [
      "\r",
      "Iterations:  22%|███████▍                          | 66/300 [01:17<04:33,  1.17s/it]"
     ]
    },
    {
     "name": "stdout",
     "output_type": "stream",
     "text": [
      "Epoch  65 , loss 0.4167742451616362\n",
      "Epoch  66 , loss 0.4241836246322183\n"
     ]
    },
    {
     "name": "stderr",
     "output_type": "stream",
     "text": [
      "\r",
      "Iterations:  22%|███████▌                          | 67/300 [01:18<04:56,  1.27s/it]"
     ]
    },
    {
     "name": "stdout",
     "output_type": "stream",
     "text": [
      "Epoch:  66\n",
      "t_loss:  0.4241836246322183 , v_loss:  0.6673097312450409\n",
      "t_acc:  0.6968184653774173 , v_acc:  0.6845238095238095\n",
      "t_recall:  0.5052916364973739 , v_recall:  0.5050861361771944\n",
      "t_prec:  0.624933520019971 , v_prec:  0.5933734939759037\n",
      "t_f:  0.4260693910747542 , v_f:  0.4238757683597541\n",
      "////////\n"
     ]
    },
    {
     "name": "stderr",
     "output_type": "stream",
     "text": [
      "\r",
      "Iterations:  23%|███████▋                          | 68/300 [01:19<04:25,  1.15s/it]"
     ]
    },
    {
     "name": "stdout",
     "output_type": "stream",
     "text": [
      "Epoch  67 , loss 0.4215492547727099\n",
      "Epoch  68 , loss 0.43443991623672784\n"
     ]
    },
    {
     "name": "stderr",
     "output_type": "stream",
     "text": [
      "\r",
      "Iterations:  23%|███████▊                          | 69/300 [01:21<04:39,  1.21s/it]"
     ]
    },
    {
     "name": "stdout",
     "output_type": "stream",
     "text": [
      "Epoch:  68\n",
      "t_loss:  0.43443991623672784 , v_loss:  0.6643348584572474\n",
      "t_acc:  0.6986899563318777 , v_acc:  0.6845238095238095\n",
      "t_recall:  0.5080798538082267 , v_recall:  0.5050861361771944\n",
      "t_prec:  0.6678509010686761 , v_prec:  0.5933734939759037\n",
      "t_f:  0.4314550949913644 , v_f:  0.4238757683597541\n",
      "////////\n"
     ]
    },
    {
     "name": "stderr",
     "output_type": "stream",
     "text": [
      "\r",
      "Iterations:  23%|███████▉                          | 70/300 [01:22<04:13,  1.10s/it]"
     ]
    },
    {
     "name": "stdout",
     "output_type": "stream",
     "text": [
      "Epoch  69 , loss 0.422177502337624\n",
      "Epoch  70 , loss 0.42106721389527413\n"
     ]
    },
    {
     "name": "stderr",
     "output_type": "stream",
     "text": [
      "\r",
      "Iterations:  24%|████████                          | 71/300 [01:23<04:41,  1.23s/it]"
     ]
    },
    {
     "name": "stdout",
     "output_type": "stream",
     "text": [
      "Epoch:  70\n",
      "t_loss:  0.42106721389527413 , v_loss:  0.6709800511598587\n",
      "t_acc:  0.7011852776044916 , v_acc:  0.6845238095238095\n",
      "t_recall:  0.5101614775482995 , v_recall:  0.5050861361771944\n",
      "t_prec:  0.7575175049223493 , v_prec:  0.5933734939759037\n",
      "t_f:  0.43341634660438827 , v_f:  0.4238757683597541\n",
      "////////\n"
     ]
    },
    {
     "name": "stderr",
     "output_type": "stream",
     "text": [
      "\r",
      "Iterations:  24%|████████▏                         | 72/300 [01:24<04:18,  1.13s/it]"
     ]
    },
    {
     "name": "stdout",
     "output_type": "stream",
     "text": [
      "Epoch  71 , loss 0.4374090988262027\n",
      "Epoch  72 , loss 0.4217912063879125\n"
     ]
    },
    {
     "name": "stderr",
     "output_type": "stream",
     "text": [
      "\r",
      "Iterations:  24%|████████▎                         | 73/300 [01:25<04:32,  1.20s/it]"
     ]
    },
    {
     "name": "stdout",
     "output_type": "stream",
     "text": [
      "Epoch:  72\n",
      "t_loss:  0.4217912063879125 , v_loss:  0.6633491714795431\n",
      "t_acc:  0.6977542108546475 , v_acc:  0.6845238095238095\n",
      "t_recall:  0.5076962153340459 , v_recall:  0.5050861361771944\n",
      "t_prec:  0.6390633306751727 , v_prec:  0.5933734939759037\n",
      "t_f:  0.43197882976025503 , v_f:  0.4238757683597541\n",
      "////////\n"
     ]
    },
    {
     "name": "stderr",
     "output_type": "stream",
     "text": [
      "\r",
      "Iterations:  25%|████████▍                         | 74/300 [01:26<04:13,  1.12s/it]"
     ]
    },
    {
     "name": "stdout",
     "output_type": "stream",
     "text": [
      "Epoch  73 , loss 0.41970634518885147\n",
      "Epoch  74 , loss 0.42046815390680353\n"
     ]
    },
    {
     "name": "stderr",
     "output_type": "stream",
     "text": [
      "\r",
      "Iterations:  25%|████████▌                         | 75/300 [01:28<04:28,  1.19s/it]"
     ]
    },
    {
     "name": "stdout",
     "output_type": "stream",
     "text": [
      "Epoch:  74\n",
      "t_loss:  0.42046815390680353 , v_loss:  0.6663277596235275\n",
      "t_acc:  0.6999376169681847 , v_acc:  0.6845238095238095\n",
      "t_recall:  0.510419841625579 , v_recall:  0.5050861361771944\n",
      "t_prec:  0.6835069992632354 , v_prec:  0.5933734939759037\n",
      "t_f:  0.4365339489459535 , v_f:  0.4238757683597541\n",
      "////////\n"
     ]
    },
    {
     "name": "stderr",
     "output_type": "stream",
     "text": [
      "\r",
      "Iterations:  25%|████████▌                         | 76/300 [01:29<04:09,  1.11s/it]"
     ]
    },
    {
     "name": "stdout",
     "output_type": "stream",
     "text": [
      "Epoch  75 , loss 0.42444567119373994\n",
      "Epoch  76 , loss 0.4206498960653941\n"
     ]
    },
    {
     "name": "stderr",
     "output_type": "stream",
     "text": [
      "\r",
      "Iterations:  26%|████████▋                         | 77/300 [01:30<04:36,  1.24s/it]"
     ]
    },
    {
     "name": "stdout",
     "output_type": "stream",
     "text": [
      "Epoch:  76\n",
      "t_loss:  0.4206498960653941 , v_loss:  0.6663189828395844\n",
      "t_acc:  0.6974422956955708 , v_acc:  0.6904761904761905\n",
      "t_recall:  0.5068946890551552 , v_recall:  0.5145200984413454\n",
      "t_prec:  0.6351308735414696 , v_prec:  0.6787878787878787\n",
      "t_f:  0.4300204178137177 , v_f:  0.44285714285714284\n",
      "////////\n"
     ]
    },
    {
     "name": "stderr",
     "output_type": "stream",
     "text": [
      "\r",
      "Iterations:  26%|████████▊                         | 78/300 [01:31<04:13,  1.14s/it]"
     ]
    },
    {
     "name": "stdout",
     "output_type": "stream",
     "text": [
      "Epoch  77 , loss 0.4213677855098949\n",
      "Epoch  78 , loss 0.4213976012725456\n"
     ]
    },
    {
     "name": "stderr",
     "output_type": "stream",
     "text": [
      "\r",
      "Iterations:  26%|████████▉                         | 79/300 [01:32<04:29,  1.22s/it]"
     ]
    },
    {
     "name": "stdout",
     "output_type": "stream",
     "text": [
      "Epoch:  78\n",
      "t_loss:  0.4213976012725456 , v_loss:  0.6703546990950903\n",
      "t_acc:  0.6996257018091079 , v_acc:  0.6964285714285714\n",
      "t_recall:  0.5096183153466883 , v_recall:  0.5239540607054963\n",
      "t_prec:  0.6833333333333333 , v_prec:  0.7225609756097561\n",
      "t_f:  0.43458871502529756 , v_f:  0.46123372948500285\n",
      "////////\n"
     ]
    },
    {
     "name": "stderr",
     "output_type": "stream",
     "text": [
      "\r",
      "Iterations:  27%|█████████                         | 80/300 [01:33<04:02,  1.10s/it]"
     ]
    },
    {
     "name": "stdout",
     "output_type": "stream",
     "text": [
      "Epoch  79 , loss 0.4125606569589353\n",
      "Epoch  80 , loss 0.42351288421481265\n"
     ]
    },
    {
     "name": "stderr",
     "output_type": "stream",
     "text": [
      "\r",
      "Iterations:  27%|█████████▏                        | 81/300 [01:35<04:31,  1.24s/it]"
     ]
    },
    {
     "name": "stdout",
     "output_type": "stream",
     "text": [
      "Epoch:  80\n",
      "t_loss:  0.42351288421481265 , v_loss:  0.6708949307600657\n",
      "t_acc:  0.7024329382407986 , v_acc:  0.7023809523809523\n",
      "t_recall:  0.5142336999620729 , v_recall:  0.5333880229696473\n",
      "t_prec:  0.7176631867552462 , v_prec:  0.7496932515337423\n",
      "t_f:  0.44388854948507595 , v_f:  0.4790374596874225\n",
      "////////\n"
     ]
    },
    {
     "name": "stderr",
     "output_type": "stream",
     "text": [
      "\r",
      "Iterations:  27%|█████████▎                        | 82/300 [01:36<04:07,  1.13s/it]"
     ]
    },
    {
     "name": "stdout",
     "output_type": "stream",
     "text": [
      "Epoch  81 , loss 0.4122037799919353\n",
      "Epoch  82 , loss 0.40993787406706345\n"
     ]
    },
    {
     "name": "stderr",
     "output_type": "stream",
     "text": [
      "\r",
      "Iterations:  28%|█████████▍                        | 83/300 [01:37<04:23,  1.22s/it]"
     ]
    },
    {
     "name": "stdout",
     "output_type": "stream",
     "text": [
      "Epoch:  82\n",
      "t_loss:  0.40993787406706345 , v_loss:  0.6727815220753351\n",
      "t_acc:  0.7005614472863381 , v_acc:  0.6964285714285714\n",
      "t_recall:  0.5126003057155007 , v_recall:  0.5239540607054963\n",
      "t_prec:  0.6771799628942485 , v_prec:  0.7225609756097561\n",
      "t_f:  0.44216314031180404 , v_f:  0.46123372948500285\n",
      "////////\n"
     ]
    },
    {
     "name": "stderr",
     "output_type": "stream",
     "text": [
      "\r",
      "Iterations:  28%|█████████▌                        | 84/300 [01:38<04:13,  1.17s/it]"
     ]
    },
    {
     "name": "stdout",
     "output_type": "stream",
     "text": [
      "Epoch  83 , loss 0.40959174171382307\n",
      "Epoch  84 , loss 0.4146527314887327\n"
     ]
    },
    {
     "name": "stderr",
     "output_type": "stream",
     "text": [
      "\r",
      "Iterations:  28%|█████████▋                        | 85/300 [01:39<04:21,  1.22s/it]"
     ]
    },
    {
     "name": "stdout",
     "output_type": "stream",
     "text": [
      "Epoch:  84\n",
      "t_loss:  0.4146527314887327 , v_loss:  0.6731730947891871\n",
      "t_acc:  0.6996257018091079 , v_acc:  0.6964285714285714\n",
      "t_recall:  0.5116392557091795 , v_recall:  0.5290401968826908\n",
      "t_prec:  0.6604435994930291 , v_prec:  0.6820987654320987\n",
      "t_f:  0.4408620572561768 , v_f:  0.4757388484366395\n",
      "////////\n"
     ]
    },
    {
     "name": "stderr",
     "output_type": "stream",
     "text": [
      "\r",
      "Iterations:  29%|█████████▋                        | 86/300 [01:40<03:58,  1.11s/it]"
     ]
    },
    {
     "name": "stdout",
     "output_type": "stream",
     "text": [
      "Epoch  85 , loss 0.4195999953092313\n",
      "Epoch  86 , loss 0.41944415896546605\n"
     ]
    },
    {
     "name": "stderr",
     "output_type": "stream",
     "text": [
      "\r",
      "Iterations:  29%|█████████▊                        | 87/300 [01:42<04:16,  1.21s/it]"
     ]
    },
    {
     "name": "stdout",
     "output_type": "stream",
     "text": [
      "Epoch:  86\n",
      "t_loss:  0.41944415896546605 , v_loss:  0.6726258744796118\n",
      "t_acc:  0.7014971927635683 , v_acc:  0.6964285714285714\n",
      "t_recall:  0.515293590318243 , v_recall:  0.5290401968826908\n",
      "t_prec:  0.6762396694214876 , v_prec:  0.6820987654320987\n",
      "t_f:  0.44869101621776053 , v_f:  0.4757388484366395\n",
      "////////\n"
     ]
    },
    {
     "name": "stderr",
     "output_type": "stream",
     "text": [
      "\r",
      "Iterations:  29%|█████████▉                        | 88/300 [01:43<04:08,  1.17s/it]"
     ]
    },
    {
     "name": "stdout",
     "output_type": "stream",
     "text": [
      "Epoch  87 , loss 0.4172266809379353\n",
      "Epoch  88 , loss 0.4132052975542405\n"
     ]
    },
    {
     "name": "stderr",
     "output_type": "stream",
     "text": [
      "\r",
      "Iterations:  30%|██████████                        | 89/300 [01:44<04:32,  1.29s/it]"
     ]
    },
    {
     "name": "stdout",
     "output_type": "stream",
     "text": [
      "Epoch:  88\n",
      "t_loss:  0.4132052975542405 , v_loss:  0.6776292473077774\n",
      "t_acc:  0.7024329382407986 , v_acc:  0.6964285714285714\n",
      "t_recall:  0.5165433460906342 , v_recall:  0.5290401968826908\n",
      "t_prec:  0.6875759076337669 , v_prec:  0.6820987654320987\n",
      "t_f:  0.450847611003861 , v_f:  0.4757388484366395\n",
      "////////\n"
     ]
    },
    {
     "name": "stderr",
     "output_type": "stream",
     "text": [
      "\r",
      "Iterations:  30%|██████████▏                       | 90/300 [01:45<04:05,  1.17s/it]"
     ]
    },
    {
     "name": "stdout",
     "output_type": "stream",
     "text": [
      "Epoch  89 , loss 0.4170081516106923\n",
      "Epoch  90 , loss 0.4155842796260235\n"
     ]
    },
    {
     "name": "stderr",
     "output_type": "stream",
     "text": [
      "\r",
      "Iterations:  30%|██████████▎                       | 91/300 [01:47<04:17,  1.23s/it]"
     ]
    },
    {
     "name": "stdout",
     "output_type": "stream",
     "text": [
      "Epoch:  90\n",
      "t_loss:  0.4155842796260235 , v_loss:  0.6811196953058243\n",
      "t_acc:  0.6999376169681847 , v_acc:  0.6964285714285714\n",
      "t_recall:  0.5127294877541404 , v_recall:  0.5290401968826908\n",
      "t_prec:  0.6597732321629497 , v_prec:  0.6820987654320987\n",
      "t_f:  0.4436377280615356 , v_f:  0.4757388484366395\n",
      "////////\n"
     ]
    },
    {
     "name": "stderr",
     "output_type": "stream",
     "text": [
      "\r",
      "Iterations:  31%|██████████▍                       | 92/300 [01:48<03:54,  1.13s/it]"
     ]
    },
    {
     "name": "stdout",
     "output_type": "stream",
     "text": [
      "Epoch  91 , loss 0.4172162659027997\n",
      "Epoch  92 , loss 0.416324714235231\n"
     ]
    },
    {
     "name": "stderr",
     "output_type": "stream",
     "text": [
      "\r",
      "Iterations:  31%|██████████▌                       | 93/300 [01:49<04:23,  1.27s/it]"
     ]
    },
    {
     "name": "stdout",
     "output_type": "stream",
     "text": [
      "Epoch:  92\n",
      "t_loss:  0.416324714235231 , v_loss:  0.6856057147185007\n",
      "t_acc:  0.7018091079226451 , v_acc:  0.6964285714285714\n",
      "t_recall:  0.5160951165971336 , v_recall:  0.5290401968826908\n",
      "t_prec:  0.6768126701311556 , v_prec:  0.6820987654320987\n",
      "t_f:  0.45055225581243585 , v_f:  0.4757388484366395\n",
      "////////\n"
     ]
    },
    {
     "name": "stderr",
     "output_type": "stream",
     "text": [
      "\r",
      "Iterations:  31%|██████████▋                       | 94/300 [01:50<03:59,  1.16s/it]"
     ]
    },
    {
     "name": "stdout",
     "output_type": "stream",
     "text": [
      "Epoch  93 , loss 0.4131458121187547\n",
      "Epoch  94 , loss 0.4132343565716463\n"
     ]
    },
    {
     "name": "stderr",
     "output_type": "stream",
     "text": [
      "\r",
      "Iterations:  32%|██████████▊                       | 95/300 [01:52<04:13,  1.24s/it]"
     ]
    },
    {
     "name": "stdout",
     "output_type": "stream",
     "text": [
      "Epoch:  94\n",
      "t_loss:  0.4132343565716463 , v_loss:  0.6801276703675588\n",
      "t_acc:  0.7033686837180287 , v_acc:  0.6964285714285714\n",
      "t_recall:  0.5172156903308853 , v_recall:  0.5290401968826908\n",
      "t_prec:  0.7051001183017132 , v_prec:  0.6820987654320987\n",
      "t_f:  0.4512908919218495 , v_f:  0.4757388484366395\n",
      "////////\n"
     ]
    },
    {
     "name": "stderr",
     "output_type": "stream",
     "text": [
      "\r",
      "Iterations:  32%|██████████▉                       | 96/300 [01:53<04:08,  1.22s/it]"
     ]
    },
    {
     "name": "stdout",
     "output_type": "stream",
     "text": [
      "Epoch  95 , loss 0.41004909195151984\n",
      "Epoch  96 , loss 0.41023191049987195\n"
     ]
    },
    {
     "name": "stderr",
     "output_type": "stream",
     "text": [
      "\r",
      "Iterations:  32%|██████████▉                       | 97/300 [01:54<04:17,  1.27s/it]"
     ]
    },
    {
     "name": "stdout",
     "output_type": "stream",
     "text": [
      "Epoch:  96\n",
      "t_loss:  0.41023191049987195 , v_loss:  0.6779548227787018\n",
      "t_acc:  0.7024329382407986 , v_acc:  0.7023809523809523\n",
      "t_recall:  0.5159659345584939 , v_recall:  0.5384741591468417\n",
      "t_prec:  0.6934866540756464 , v_prec:  0.7080745341614907\n",
      "t_f:  0.4491289876372439 , v_f:  0.49275362318840576\n",
      "////////\n"
     ]
    },
    {
     "name": "stderr",
     "output_type": "stream",
     "text": [
      "\r",
      "Iterations:  33%|███████████                       | 98/300 [01:55<03:53,  1.15s/it]"
     ]
    },
    {
     "name": "stdout",
     "output_type": "stream",
     "text": [
      "Epoch  97 , loss 0.41981977808709237\n",
      "Epoch  98 , loss 0.41364477487171397\n"
     ]
    },
    {
     "name": "stderr",
     "output_type": "stream",
     "text": [
      "\r",
      "Iterations:  33%|███████████▏                      | 99/300 [01:56<04:04,  1.22s/it]"
     ]
    },
    {
     "name": "stdout",
     "output_type": "stream",
     "text": [
      "Epoch:  98\n",
      "t_loss:  0.41364477487171397 , v_loss:  0.6775221625963846\n",
      "t_acc:  0.7046163443543356 , v_acc:  0.7023809523809523\n",
      "t_recall:  0.5192669723821673 , v_recall:  0.5384741591468417\n",
      "t_prec:  0.715002462447673 , v_prec:  0.7080745341614907\n",
      "t_f:  0.4553013836872912 , v_f:  0.49275362318840576\n",
      "////////\n"
     ]
    },
    {
     "name": "stderr",
     "output_type": "stream",
     "text": [
      "\r",
      "Iterations:  33%|███████████                      | 100/300 [01:57<03:54,  1.17s/it]"
     ]
    },
    {
     "name": "stdout",
     "output_type": "stream",
     "text": [
      "Epoch  99 , loss 0.40947914386496825\n",
      "Epoch  100 , loss 0.4150301253094393\n"
     ]
    },
    {
     "name": "stderr",
     "output_type": "stream",
     "text": [
      "\r",
      "Iterations:  34%|███████████                      | 101/300 [01:59<04:17,  1.30s/it]"
     ]
    },
    {
     "name": "stdout",
     "output_type": "stream",
     "text": [
      "Epoch:  100\n",
      "t_loss:  0.4150301253094393 , v_loss:  0.6786787609259287\n",
      "t_acc:  0.706487835308796 , v_acc:  0.7023809523809523\n",
      "t_recall:  0.5214777781608799 , v_recall:  0.5384741591468417\n",
      "t_prec:  0.7396731100714109 , v_prec:  0.7080745341614907\n",
      "t_f:  0.4587524836850485 , v_f:  0.49275362318840576\n",
      "////////\n"
     ]
    },
    {
     "name": "stderr",
     "output_type": "stream",
     "text": [
      "\r",
      "Iterations:  34%|███████████▏                     | 102/300 [02:00<04:02,  1.22s/it]"
     ]
    },
    {
     "name": "stdout",
     "output_type": "stream",
     "text": [
      "Epoch  101 , loss 0.4080796335257736\n",
      "Epoch  102 , loss 0.4063037435213725\n"
     ]
    },
    {
     "name": "stderr",
     "output_type": "stream",
     "text": [
      "\r",
      "Iterations:  34%|███████████▎                     | 103/300 [02:01<04:14,  1.29s/it]"
     ]
    },
    {
     "name": "stdout",
     "output_type": "stream",
     "text": [
      "Epoch:  102\n",
      "t_loss:  0.4063037435213725 , v_loss:  0.679726113875707\n",
      "t_acc:  0.7058640049906425 , v_acc:  0.7023809523809523\n",
      "t_recall:  0.5221843717316599 , v_recall:  0.5384741591468417\n",
      "t_prec:  0.7138552081117493 , v_prec:  0.7080745341614907\n",
      "t_f:  0.4617812753965308 , v_f:  0.49275362318840576\n",
      "////////\n"
     ]
    },
    {
     "name": "stderr",
     "output_type": "stream",
     "text": [
      "\r",
      "Iterations:  35%|███████████▍                     | 104/300 [02:02<03:48,  1.17s/it]"
     ]
    },
    {
     "name": "stdout",
     "output_type": "stream",
     "text": [
      "Epoch  103 , loss 0.40977920562613246\n",
      "Epoch  104 , loss 0.41961218562780644\n"
     ]
    },
    {
     "name": "stderr",
     "output_type": "stream",
     "text": [
      "\r",
      "Iterations:  35%|███████████▌                     | 105/300 [02:04<04:01,  1.24s/it]"
     ]
    },
    {
     "name": "stdout",
     "output_type": "stream",
     "text": [
      "Epoch:  104\n",
      "t_loss:  0.41961218562780644 , v_loss:  0.6818280468384424\n",
      "t_acc:  0.7002495321272614 , v_acc:  0.7023809523809523\n",
      "t_recall:  0.5164180716937329 , v_recall:  0.5384741591468417\n",
      "t_prec:  0.646374352416552 , v_prec:  0.7080745341614907\n",
      "t_f:  0.4540224599315225 , v_f:  0.49275362318840576\n",
      "////////\n"
     ]
    },
    {
     "name": "stderr",
     "output_type": "stream",
     "text": [
      "\r",
      "Iterations:  35%|███████████▋                     | 106/300 [02:05<03:41,  1.14s/it]"
     ]
    },
    {
     "name": "stdout",
     "output_type": "stream",
     "text": [
      "Epoch  105 , loss 0.4130400968532936\n",
      "Epoch  106 , loss 0.40511998884818134\n"
     ]
    },
    {
     "name": "stderr",
     "output_type": "stream",
     "text": [
      "\r",
      "Iterations:  36%|███████████▊                     | 107/300 [02:06<04:07,  1.28s/it]"
     ]
    },
    {
     "name": "stdout",
     "output_type": "stream",
     "text": [
      "Epoch:  106\n",
      "t_loss:  0.40511998884818134 , v_loss:  0.6815046966075897\n",
      "t_acc:  0.7089831565814099 , v_acc:  0.7023809523809523\n",
      "t_recall:  0.5261577537955844 , v_recall:  0.5384741591468417\n",
      "t_prec:  0.7454998101549826 , v_prec:  0.7080745341614907\n",
      "t_f:  0.4683058565850432 , v_f:  0.49275362318840576\n",
      "////////\n"
     ]
    },
    {
     "name": "stderr",
     "output_type": "stream",
     "text": [
      "\r",
      "Iterations:  36%|███████████▉                     | 108/300 [02:07<03:44,  1.17s/it]"
     ]
    },
    {
     "name": "stdout",
     "output_type": "stream",
     "text": [
      "Epoch  107 , loss 0.4054756632038191\n",
      "Epoch  108 , loss 0.41269810819158365\n"
     ]
    },
    {
     "name": "stderr",
     "output_type": "stream",
     "text": [
      "\r",
      "Iterations:  36%|███████████▉                     | 109/300 [02:09<03:57,  1.24s/it]"
     ]
    },
    {
     "name": "stdout",
     "output_type": "stream",
     "text": [
      "Epoch:  108\n",
      "t_loss:  0.41269810819158365 , v_loss:  0.67950040102005\n",
      "t_acc:  0.7080474111041797 , v_acc:  0.7083333333333334\n",
      "t_recall:  0.5257741153214035 , v_recall:  0.5479081214109927\n",
      "t_prec:  0.7269514599264066 , v_prec:  0.728125\n",
      "t_f:  0.46863120496545974 , v_f:  0.5092697466467959\n",
      "////////\n"
     ]
    },
    {
     "name": "stderr",
     "output_type": "stream",
     "text": [
      "\r",
      "Iterations:  37%|████████████                     | 110/300 [02:10<03:46,  1.19s/it]"
     ]
    },
    {
     "name": "stdout",
     "output_type": "stream",
     "text": [
      "Epoch  109 , loss 0.421192057576834\n",
      "Epoch  110 , loss 0.4081335745605768\n"
     ]
    },
    {
     "name": "stderr",
     "output_type": "stream",
     "text": [
      "\r",
      "Iterations:  37%|████████████▏                    | 111/300 [02:11<03:54,  1.24s/it]"
     ]
    },
    {
     "name": "stdout",
     "output_type": "stream",
     "text": [
      "Epoch:  110\n",
      "t_loss:  0.4081335745605768 , v_loss:  0.681314210096995\n",
      "t_acc:  0.7067997504678727 , v_acc:  0.7083333333333334\n",
      "t_recall:  0.5243002448022619 , v_recall:  0.5479081214109927\n",
      "t_prec:  0.7139734367473172 , v_prec:  0.728125\n",
      "t_f:  0.4663603981490728 , v_f:  0.5092697466467959\n",
      "////////\n"
     ]
    },
    {
     "name": "stderr",
     "output_type": "stream",
     "text": [
      "\r",
      "Iterations:  37%|████████████▎                    | 112/300 [02:12<03:33,  1.14s/it]"
     ]
    },
    {
     "name": "stdout",
     "output_type": "stream",
     "text": [
      "Epoch  111 , loss 0.4142367471666897\n",
      "Epoch  112 , loss 0.40693483983769135\n"
     ]
    },
    {
     "name": "stderr",
     "output_type": "stream",
     "text": [
      "\r",
      "Iterations:  38%|████████████▍                    | 113/300 [02:13<03:48,  1.22s/it]"
     ]
    },
    {
     "name": "stdout",
     "output_type": "stream",
     "text": [
      "Epoch:  112\n",
      "t_loss:  0.40693483983769135 , v_loss:  0.6902051816383997\n",
      "t_acc:  0.7061759201497193 , v_acc:  0.7083333333333334\n",
      "t_recall:  0.5226971922444804 , v_recall:  0.5428219852337982\n",
      "t_prec:  0.7158703855117201 , v_prec:  0.7685185185185186\n",
      "t_f:  0.4627649128199874 , v_f:  0.49629810928226153\n",
      "////////\n"
     ]
    },
    {
     "name": "stderr",
     "output_type": "stream",
     "text": [
      "\r",
      "Iterations:  38%|████████████▌                    | 114/300 [02:14<03:40,  1.19s/it]"
     ]
    },
    {
     "name": "stdout",
     "output_type": "stream",
     "text": [
      "Epoch  113 , loss 0.4105071875394559\n",
      "Epoch  114 , loss 0.4053443418998344\n"
     ]
    },
    {
     "name": "stderr",
     "output_type": "stream",
     "text": [
      "\r",
      "Iterations:  38%|████████████▋                    | 115/300 [02:16<04:02,  1.31s/it]"
     ]
    },
    {
     "name": "stdout",
     "output_type": "stream",
     "text": [
      "Epoch:  114\n",
      "t_loss:  0.4053443418998344 , v_loss:  0.690109317501386\n",
      "t_acc:  0.7055520898315658 , v_acc:  0.7083333333333334\n",
      "t_recall:  0.5216715512188395 , v_recall:  0.5428219852337982\n",
      "t_prec:  0.7117865085248332 , v_prec:  0.7685185185185186\n",
      "t_f:  0.4607959327512865 , v_f:  0.49629810928226153\n",
      "////////\n"
     ]
    },
    {
     "name": "stderr",
     "output_type": "stream",
     "text": [
      "\r",
      "Iterations:  39%|████████████▊                    | 116/300 [02:17<03:40,  1.20s/it]"
     ]
    },
    {
     "name": "stdout",
     "output_type": "stream",
     "text": [
      "Epoch  115 , loss 0.4076791990037058\n",
      "Epoch  116 , loss 0.4160933138108721\n"
     ]
    },
    {
     "name": "stderr",
     "output_type": "stream",
     "text": [
      "\r",
      "Iterations:  39%|████████████▊                    | 117/300 [02:18<03:50,  1.26s/it]"
     ]
    },
    {
     "name": "stdout",
     "output_type": "stream",
     "text": [
      "Epoch:  116\n",
      "t_loss:  0.4160933138108721 , v_loss:  0.6862325568993887\n",
      "t_acc:  0.7092950717404866 , v_acc:  0.7083333333333334\n",
      "t_recall:  0.5315785723315979 , v_recall:  0.5479081214109927\n",
      "t_prec:  0.7034833947027754 , v_prec:  0.728125\n",
      "t_f:  0.4826482386445486 , v_f:  0.5092697466467959\n",
      "////////\n"
     ]
    },
    {
     "name": "stderr",
     "output_type": "stream",
     "text": [
      "\r",
      "Iterations:  39%|████████████▉                    | 118/300 [02:19<03:26,  1.13s/it]"
     ]
    },
    {
     "name": "stdout",
     "output_type": "stream",
     "text": [
      "Epoch  117 , loss 0.41239257127630946\n",
      "Epoch  118 , loss 0.4028834233097002\n"
     ]
    },
    {
     "name": "stderr",
     "output_type": "stream",
     "text": [
      "\r",
      "Iterations:  40%|█████████████                    | 119/300 [02:21<03:48,  1.26s/it]"
     ]
    },
    {
     "name": "stdout",
     "output_type": "stream",
     "text": [
      "Epoch:  118\n",
      "t_loss:  0.4028834233097002 , v_loss:  0.6850843777259191\n",
      "t_acc:  0.7071116656269495 , v_acc:  0.7142857142857143\n",
      "t_recall:  0.5268340056775737 , v_recall:  0.5522559474979492\n",
      "t_prec:  0.6995364546299842 , v_prec:  0.7826086956521738\n",
      "t_f:  0.47293250814517024 , v_f:  0.5130434782608696\n",
      "////////\n"
     ]
    },
    {
     "name": "stderr",
     "output_type": "stream",
     "text": [
      "\r",
      "Iterations:  40%|█████████████▏                   | 120/300 [02:22<03:27,  1.16s/it]"
     ]
    },
    {
     "name": "stdout",
     "output_type": "stream",
     "text": [
      "Epoch  119 , loss 0.4063573409529293\n",
      "Epoch  120 , loss 0.4061828886761385\n"
     ]
    },
    {
     "name": "stderr",
     "output_type": "stream",
     "text": [
      "\r",
      "Iterations:  40%|█████████████▎                   | 121/300 [02:23<03:44,  1.26s/it]"
     ]
    },
    {
     "name": "stdout",
     "output_type": "stream",
     "text": [
      "Epoch:  120\n",
      "t_loss:  0.4061828886761385 , v_loss:  0.6881614327430725\n",
      "t_acc:  0.7055520898315658 , v_acc:  0.7142857142857143\n",
      "t_recall:  0.5231150800491903 , v_recall:  0.5522559474979492\n",
      "t_prec:  0.6986390123456789 , v_prec:  0.7826086956521738\n",
      "t_f:  0.46490483626405954 , v_f:  0.5130434782608696\n",
      "////////\n"
     ]
    },
    {
     "name": "stderr",
     "output_type": "stream",
     "text": [
      "\r",
      "Iterations:  41%|█████████████▍                   | 122/300 [02:24<03:30,  1.18s/it]"
     ]
    },
    {
     "name": "stdout",
     "output_type": "stream",
     "text": [
      "Epoch  121 , loss 0.40477562885658414\n",
      "Epoch  122 , loss 0.4058527829600315\n"
     ]
    },
    {
     "name": "stderr",
     "output_type": "stream",
     "text": [
      "\r",
      "Iterations:  41%|█████████████▌                   | 123/300 [02:26<03:39,  1.24s/it]"
     ]
    },
    {
     "name": "stdout",
     "output_type": "stream",
     "text": [
      "Epoch:  122\n",
      "t_loss:  0.4058527829600315 , v_loss:  0.6886661400397619\n",
      "t_acc:  0.7096069868995634 , v_acc:  0.7142857142857143\n",
      "t_recall:  0.5303591582479973 , v_recall:  0.5522559474979492\n",
      "t_prec:  0.7168137525280383 , v_prec:  0.7826086956521738\n",
      "t_f:  0.4789810057941117 , v_f:  0.5130434782608696\n",
      "////////\n"
     ]
    },
    {
     "name": "stderr",
     "output_type": "stream",
     "text": [
      "\r",
      "Iterations:  41%|█████████████▋                   | 124/300 [02:27<03:25,  1.17s/it]"
     ]
    },
    {
     "name": "stdout",
     "output_type": "stream",
     "text": [
      "Epoch  123 , loss 0.40936988475275976\n",
      "Epoch  124 , loss 0.4064614445555444\n"
     ]
    },
    {
     "name": "stderr",
     "output_type": "stream",
     "text": [
      "\r",
      "Iterations:  42%|█████████████▊                   | 125/300 [02:28<03:35,  1.23s/it]"
     ]
    },
    {
     "name": "stdout",
     "output_type": "stream",
     "text": [
      "Epoch:  124\n",
      "t_loss:  0.4064614445555444 , v_loss:  0.6872470478216807\n",
      "t_acc:  0.7121023081721771 , v_acc:  0.7142857142857143\n",
      "t_recall:  0.5344617223505614 , v_recall:  0.5522559474979492\n",
      "t_prec:  0.7281253804017042 , v_prec:  0.7826086956521738\n",
      "t_f:  0.48651135704433135 , v_f:  0.5130434782608696\n",
      "////////\n"
     ]
    },
    {
     "name": "stderr",
     "output_type": "stream",
     "text": [
      "\r",
      "Iterations:  42%|█████████████▊                   | 126/300 [02:29<03:15,  1.13s/it]"
     ]
    },
    {
     "name": "stdout",
     "output_type": "stream",
     "text": [
      "Epoch  125 , loss 0.4009120201363283\n",
      "Epoch  126 , loss 0.4295061522839116\n"
     ]
    },
    {
     "name": "stderr",
     "output_type": "stream",
     "text": [
      "\r",
      "Iterations:  42%|█████████████▉                   | 127/300 [02:30<03:36,  1.25s/it]"
     ]
    },
    {
     "name": "stdout",
     "output_type": "stream",
     "text": [
      "Epoch:  126\n",
      "t_loss:  0.4295061522839116 , v_loss:  0.6957698911428452\n",
      "t_acc:  0.706487835308796 , v_acc:  0.7142857142857143\n",
      "t_recall:  0.5269631877162133 , v_recall:  0.5522559474979492\n",
      "t_prec:  0.6888312942691566 , v_prec:  0.7826086956521738\n",
      "t_f:  0.4741674401174774 , v_f:  0.5130434782608696\n",
      "////////\n"
     ]
    },
    {
     "name": "stderr",
     "output_type": "stream",
     "text": [
      "\r",
      "Iterations:  43%|██████████████                   | 128/300 [02:31<03:24,  1.19s/it]"
     ]
    },
    {
     "name": "stdout",
     "output_type": "stream",
     "text": [
      "Epoch  127 , loss 0.4100571765619166\n",
      "Epoch  128 , loss 0.4003834105005451\n"
     ]
    },
    {
     "name": "stderr",
     "output_type": "stream",
     "text": [
      "\r",
      "Iterations:  43%|██████████████▏                  | 129/300 [02:33<03:37,  1.27s/it]"
     ]
    },
    {
     "name": "stdout",
     "output_type": "stream",
     "text": [
      "Epoch:  128\n",
      "t_loss:  0.4003834105005451 , v_loss:  0.6905685017506281\n",
      "t_acc:  0.7121023081721771 , v_acc:  0.7142857142857143\n",
      "t_recall:  0.5361939569469825 , v_recall:  0.5522559474979492\n",
      "t_prec:  0.7160632739088434 , v_prec:  0.7826086956521738\n",
      "t_f:  0.49100318267282933 , v_f:  0.5130434782608696\n",
      "////////\n"
     ]
    },
    {
     "name": "stderr",
     "output_type": "stream",
     "text": [
      "\r",
      "Iterations:  43%|██████████████▎                  | 130/300 [02:34<03:14,  1.14s/it]"
     ]
    },
    {
     "name": "stdout",
     "output_type": "stream",
     "text": [
      "Epoch  129 , loss 0.39897122161061155\n",
      "Epoch  130 , loss 0.40093890592163683\n"
     ]
    },
    {
     "name": "stderr",
     "output_type": "stream",
     "text": [
      "\r",
      "Iterations:  44%|██████████████▍                  | 131/300 [02:35<03:27,  1.23s/it]"
     ]
    },
    {
     "name": "stdout",
     "output_type": "stream",
     "text": [
      "Epoch:  130\n",
      "t_loss:  0.40093890592163683 , v_loss:  0.6970399022102356\n",
      "t_acc:  0.7089831565814099 , v_acc:  0.7142857142857143\n",
      "t_recall:  0.5313544575848476 , v_recall:  0.5522559474979492\n",
      "t_prec:  0.7002672069532534 , v_prec:  0.7826086956521738\n",
      "t_f:  0.4824733403174334 , v_f:  0.5130434782608696\n",
      "////////\n"
     ]
    },
    {
     "name": "stderr",
     "output_type": "stream",
     "text": [
      "\r",
      "Iterations:  44%|██████████████▌                  | 132/300 [02:36<03:09,  1.13s/it]"
     ]
    },
    {
     "name": "stdout",
     "output_type": "stream",
     "text": [
      "Epoch  131 , loss 0.4029846258607565\n",
      "Epoch  132 , loss 0.4110540402870552\n"
     ]
    },
    {
     "name": "stderr",
     "output_type": "stream",
     "text": [
      "\r",
      "Iterations:  44%|██████████████▋                  | 133/300 [02:38<03:28,  1.25s/it]"
     ]
    },
    {
     "name": "stdout",
     "output_type": "stream",
     "text": [
      "Epoch:  132\n",
      "t_loss:  0.4110540402870552 , v_loss:  0.6966618100802103\n",
      "t_acc:  0.7043044291952589 , v_acc:  0.7142857142857143\n",
      "t_recall:  0.5230847383603995 , v_recall:  0.5522559474979492\n",
      "t_prec:  0.6771453265835288 , v_prec:  0.7826086956521738\n",
      "t_f:  0.4666826699347025 , v_f:  0.5130434782608696\n",
      "////////\n"
     ]
    },
    {
     "name": "stderr",
     "output_type": "stream",
     "text": [
      "\r",
      "Iterations:  45%|██████████████▋                  | 134/300 [02:39<03:13,  1.16s/it]"
     ]
    },
    {
     "name": "stdout",
     "output_type": "stream",
     "text": [
      "Epoch  133 , loss 0.4074653013079774\n",
      "Epoch  134 , loss 0.3997315840393889\n"
     ]
    },
    {
     "name": "stderr",
     "output_type": "stream",
     "text": [
      "\r",
      "Iterations:  45%|██████████████▊                  | 135/300 [02:40<03:24,  1.24s/it]"
     ]
    },
    {
     "name": "stdout",
     "output_type": "stream",
     "text": [
      "Epoch:  134\n",
      "t_loss:  0.3997315840393889 , v_loss:  0.6953738977511724\n",
      "t_acc:  0.7111665626949469 , v_acc:  0.7142857142857143\n",
      "t_recall:  0.5335006723442403 , v_recall:  0.5522559474979492\n",
      "t_prec:  0.7197618767585564 , v_prec:  0.7826086956521738\n",
      "t_f:  0.48522193283926307 , v_f:  0.5130434782608696\n",
      "////////\n"
     ]
    },
    {
     "name": "stderr",
     "output_type": "stream",
     "text": [
      "\r",
      "Iterations:  45%|██████████████▉                  | 136/300 [02:41<03:12,  1.17s/it]"
     ]
    },
    {
     "name": "stdout",
     "output_type": "stream",
     "text": [
      "Epoch  135 , loss 0.41169287702616525\n",
      "Epoch  136 , loss 0.40674556937872197\n"
     ]
    },
    {
     "name": "stderr",
     "output_type": "stream",
     "text": [
      "\r",
      "Iterations:  46%|███████████████                  | 137/300 [02:42<03:19,  1.23s/it]"
     ]
    },
    {
     "name": "stdout",
     "output_type": "stream",
     "text": [
      "Epoch:  136\n",
      "t_loss:  0.40674556937872197 , v_loss:  0.6878280291954676\n",
      "t_acc:  0.7161572052401747 , v_acc:  0.7142857142857143\n",
      "t_recall:  0.5434380351457895 , v_recall:  0.5522559474979492\n",
      "t_prec:  0.7279086315230894 , v_prec:  0.7826086956521738\n",
      "t_f:  0.5042734171364877 , v_f:  0.5130434782608696\n",
      "////////\n"
     ]
    },
    {
     "name": "stderr",
     "output_type": "stream",
     "text": [
      "\r",
      "Iterations:  46%|███████████████▏                 | 138/300 [02:43<03:01,  1.12s/it]"
     ]
    },
    {
     "name": "stdout",
     "output_type": "stream",
     "text": [
      "Epoch  137 , loss 0.4095851329027438\n",
      "Epoch  138 , loss 0.4076123664192125\n"
     ]
    },
    {
     "name": "stderr",
     "output_type": "stream",
     "text": [
      "\r",
      "Iterations:  46%|███████████████▎                 | 139/300 [02:45<03:20,  1.25s/it]"
     ]
    },
    {
     "name": "stdout",
     "output_type": "stream",
     "text": [
      "Epoch:  138\n",
      "t_loss:  0.4076123664192125 , v_loss:  0.6891504923502604\n",
      "t_acc:  0.7083593262632564 , v_acc:  0.7142857142857143\n",
      "t_recall:  0.5317723453895574 , v_recall:  0.5522559474979492\n",
      "t_prec:  0.6896680425046104 , v_prec:  0.7826086956521738\n",
      "t_f:  0.4843856725884025 , v_f:  0.5130434782608696\n",
      "////////\n"
     ]
    },
    {
     "name": "stderr",
     "output_type": "stream",
     "text": [
      "\r",
      "Iterations:  47%|███████████████▍                 | 140/300 [02:46<03:08,  1.18s/it]"
     ]
    },
    {
     "name": "stdout",
     "output_type": "stream",
     "text": [
      "Epoch  139 , loss 0.405276732117522\n",
      "Epoch  140 , loss 0.4052164420193317\n"
     ]
    },
    {
     "name": "stderr",
     "output_type": "stream",
     "text": [
      "\r",
      "Iterations:  47%|███████████████▌                 | 141/300 [02:47<03:19,  1.25s/it]"
     ]
    },
    {
     "name": "stdout",
     "output_type": "stream",
     "text": [
      "Epoch:  140\n",
      "t_loss:  0.4052164420193317 , v_loss:  0.6821752736965815\n",
      "t_acc:  0.7152214597629445 , v_acc:  0.7142857142857143\n",
      "t_recall:  0.5375689871162753 , v_recall:  0.5522559474979492\n",
      "t_prec:  0.7581141348291894 , v_prec:  0.7826086956521738\n",
      "t_f:  0.49057040844652483 , v_f:  0.5130434782608696\n",
      "////////\n"
     ]
    },
    {
     "name": "stderr",
     "output_type": "stream",
     "text": [
      "\r",
      "Iterations:  47%|███████████████▌                 | 142/300 [02:48<02:59,  1.14s/it]"
     ]
    },
    {
     "name": "stdout",
     "output_type": "stream",
     "text": [
      "Epoch  141 , loss 0.4016849556389977\n",
      "Epoch  142 , loss 0.40008168360766244\n"
     ]
    },
    {
     "name": "stderr",
     "output_type": "stream",
     "text": [
      "\r",
      "Iterations:  48%|███████████████▋                 | 143/300 [02:49<03:12,  1.23s/it]"
     ]
    },
    {
     "name": "stdout",
     "output_type": "stream",
     "text": [
      "Epoch:  142\n",
      "t_loss:  0.40008168360766244 , v_loss:  0.6871180981397629\n",
      "t_acc:  0.7199001871490954 , v_acc:  0.7142857142857143\n",
      "t_recall:  0.5455500005746532 , v_recall:  0.5522559474979492\n",
      "t_prec:  0.7697174107738334 , v_prec:  0.7826086956521738\n",
      "t_f:  0.5051492877488961 , v_f:  0.5130434782608696\n",
      "////////\n"
     ]
    },
    {
     "name": "stderr",
     "output_type": "stream",
     "text": [
      "\r",
      "Iterations:  48%|███████████████▊                 | 144/300 [02:50<02:55,  1.13s/it]"
     ]
    },
    {
     "name": "stdout",
     "output_type": "stream",
     "text": [
      "Epoch  143 , loss 0.4031607520346548\n",
      "Epoch  144 , loss 0.4052500000186995\n"
     ]
    },
    {
     "name": "stderr",
     "output_type": "stream",
     "text": [
      "\r",
      "Iterations:  48%|███████████████▉                 | 145/300 [02:52<03:12,  1.24s/it]"
     ]
    },
    {
     "name": "stdout",
     "output_type": "stream",
     "text": [
      "Epoch:  144\n",
      "t_loss:  0.4052500000186995 , v_loss:  0.6899513453245163\n",
      "t_acc:  0.7121023081721771 , v_acc:  0.7142857142857143\n",
      "t_recall:  0.5364826627130527 , v_recall:  0.5522559474979492\n",
      "t_prec:  0.7142957442212141 , v_prec:  0.7826086956521738\n",
      "t_f:  0.49174174677071814 , v_f:  0.5130434782608696\n",
      "////////\n"
     ]
    },
    {
     "name": "stderr",
     "output_type": "stream",
     "text": [
      "\r",
      "Iterations:  49%|████████████████                 | 146/300 [02:53<03:00,  1.17s/it]"
     ]
    },
    {
     "name": "stdout",
     "output_type": "stream",
     "text": [
      "Epoch  145 , loss 0.39776130926375297\n",
      "Epoch  146 , loss 0.40027820362764244\n"
     ]
    },
    {
     "name": "stderr",
     "output_type": "stream",
     "text": [
      "\r",
      "Iterations:  49%|████████████████▏                | 147/300 [02:54<03:07,  1.23s/it]"
     ]
    },
    {
     "name": "stdout",
     "output_type": "stream",
     "text": [
      "Epoch:  146\n",
      "t_loss:  0.40027820362764244 , v_loss:  0.6860228727261225\n",
      "t_acc:  0.7105427323767936 , v_acc:  0.7142857142857143\n",
      "t_recall:  0.5347846774471606 , v_recall:  0.5522559474979492\n",
      "t_prec:  0.7026990101397056 , v_prec:  0.7826086956521738\n",
      "t_f:  0.4893586638326386 , v_f:  0.5130434782608696\n",
      "////////\n"
     ]
    },
    {
     "name": "stderr",
     "output_type": "stream",
     "text": [
      "\r",
      "Iterations:  49%|████████████████▎                | 148/300 [02:55<02:54,  1.15s/it]"
     ]
    },
    {
     "name": "stdout",
     "output_type": "stream",
     "text": [
      "Epoch  147 , loss 0.40478504639045865\n",
      "Epoch  148 , loss 0.4016251488059175\n"
     ]
    },
    {
     "name": "stderr",
     "output_type": "stream",
     "text": [
      "\r",
      "Iterations:  50%|████████████████▍                | 149/300 [02:57<03:06,  1.23s/it]"
     ]
    },
    {
     "name": "stdout",
     "output_type": "stream",
     "text": [
      "Epoch:  148\n",
      "t_loss:  0.4016251488059175 , v_loss:  0.692204957207044\n",
      "t_acc:  0.7114784778540237 , v_acc:  0.7142857142857143\n",
      "t_recall:  0.536034433219552 , v_recall:  0.5522559474979492\n",
      "t_prec:  0.7083280176904595 , v_prec:  0.7826086956521738\n",
      "t_f:  0.49137775048858984 , v_f:  0.5130434782608696\n",
      "////////\n"
     ]
    },
    {
     "name": "stderr",
     "output_type": "stream",
     "text": [
      "\r",
      "Iterations:  50%|████████████████▌                | 150/300 [02:58<02:49,  1.13s/it]"
     ]
    },
    {
     "name": "stdout",
     "output_type": "stream",
     "text": [
      "Epoch  149 , loss 0.39964520755936117\n",
      "Epoch  150 , loss 0.3983762562274933\n"
     ]
    },
    {
     "name": "stderr",
     "output_type": "stream",
     "text": [
      "\r",
      "Iterations:  50%|████████████████▌                | 151/300 [02:59<03:06,  1.25s/it]"
     ]
    },
    {
     "name": "stdout",
     "output_type": "stream",
     "text": [
      "Epoch:  150\n",
      "t_loss:  0.3983762562274933 , v_loss:  0.6853149384260178\n",
      "t_acc:  0.7149095446038678 , v_acc:  0.7142857142857143\n",
      "t_recall:  0.5425415761587882 , v_recall:  0.5522559474979492\n",
      "t_prec:  0.7170646919047742 , v_prec:  0.7826086956521738\n",
      "t_f:  0.503507641174848 , v_f:  0.5130434782608696\n",
      "////////\n"
     ]
    },
    {
     "name": "stderr",
     "output_type": "stream",
     "text": [
      "\r",
      "Iterations:  51%|████████████████▋                | 152/300 [03:00<02:58,  1.21s/it]"
     ]
    },
    {
     "name": "stdout",
     "output_type": "stream",
     "text": [
      "Epoch  151 , loss 0.3966999831152897\n",
      "Epoch  152 , loss 0.4026496235062094\n"
     ]
    },
    {
     "name": "stderr",
     "output_type": "stream",
     "text": [
      "\r",
      "Iterations:  51%|████████████████▊                | 153/300 [03:02<03:11,  1.31s/it]"
     ]
    },
    {
     "name": "stdout",
     "output_type": "stream",
     "text": [
      "Epoch:  152\n",
      "t_loss:  0.4026496235062094 , v_loss:  0.6878704379002253\n",
      "t_acc:  0.7192763568309419 , v_acc:  0.7142857142857143\n",
      "t_recall:  0.5479888287418543 , v_recall:  0.5522559474979492\n",
      "t_prec:  0.7415431605983825 , v_prec:  0.7826086956521738\n",
      "t_f:  0.5118044050287496 , v_f:  0.5130434782608696\n",
      "////////\n"
     ]
    },
    {
     "name": "stderr",
     "output_type": "stream",
     "text": [
      "\r",
      "Iterations:  51%|████████████████▉                | 154/300 [03:03<02:52,  1.18s/it]"
     ]
    },
    {
     "name": "stdout",
     "output_type": "stream",
     "text": [
      "Epoch  153 , loss 0.3998592200816846\n",
      "Epoch  154 , loss 0.39976853219901815\n"
     ]
    },
    {
     "name": "stderr",
     "output_type": "stream",
     "text": [
      "\r",
      "Iterations:  52%|█████████████████                | 155/300 [03:04<02:59,  1.24s/it]"
     ]
    },
    {
     "name": "stdout",
     "output_type": "stream",
     "text": [
      "Epoch:  154\n",
      "t_loss:  0.39976853219901815 , v_loss:  0.6947291791439056\n",
      "t_acc:  0.7121023081721771 , v_acc:  0.7142857142857143\n",
      "t_recall:  0.5396584261398246 , v_recall:  0.5522559474979492\n",
      "t_prec:  0.6982725333725591 , v_prec:  0.7826086956521738\n",
      "t_f:  0.499682053388993 , v_f:  0.5130434782608696\n",
      "////////\n"
     ]
    },
    {
     "name": "stderr",
     "output_type": "stream",
     "text": [
      "\r",
      "Iterations:  52%|█████████████████▏               | 156/300 [03:05<02:42,  1.13s/it]"
     ]
    },
    {
     "name": "stdout",
     "output_type": "stream",
     "text": [
      "Epoch  155 , loss 0.3983704880172131\n",
      "Epoch  156 , loss 0.4134720967096441\n"
     ]
    },
    {
     "name": "stderr",
     "output_type": "stream",
     "text": [
      "\r",
      "Iterations:  52%|█████████████████▎               | 157/300 [03:06<03:02,  1.28s/it]"
     ]
    },
    {
     "name": "stdout",
     "output_type": "stream",
     "text": [
      "Epoch:  156\n",
      "t_loss:  0.4134720967096441 , v_loss:  0.6891015619039536\n",
      "t_acc:  0.7195882719900187 , v_acc:  0.7142857142857143\n",
      "t_recall:  0.5513887069153766 , v_recall:  0.5522559474979492\n",
      "t_prec:  0.7266794828117649 , v_prec:  0.7826086956521738\n",
      "t_f:  0.5194481194796318 , v_f:  0.5130434782608696\n",
      "////////\n"
     ]
    },
    {
     "name": "stderr",
     "output_type": "stream",
     "text": [
      "\r",
      "Iterations:  53%|█████████████████▍               | 158/300 [03:07<02:44,  1.16s/it]"
     ]
    },
    {
     "name": "stdout",
     "output_type": "stream",
     "text": [
      "Epoch  157 , loss 0.39784759078540055\n",
      "Epoch  158 , loss 0.3977688609385023\n"
     ]
    },
    {
     "name": "stderr",
     "output_type": "stream",
     "text": [
      "\r",
      "Iterations:  53%|█████████████████▍               | 159/300 [03:09<02:53,  1.23s/it]"
     ]
    },
    {
     "name": "stdout",
     "output_type": "stream",
     "text": [
      "Epoch:  158\n",
      "t_loss:  0.3977688609385023 , v_loss:  0.6895571450392405\n",
      "t_acc:  0.7177167810355584 , v_acc:  0.7142857142857143\n",
      "t_recall:  0.5462908434759622 , v_recall:  0.5522559474979492\n",
      "t_prec:  0.7314313426249403 , v_prec:  0.7826086956521738\n",
      "t_f:  0.509439066432328 , v_f:  0.5130434782608696\n",
      "////////\n"
     ]
    },
    {
     "name": "stderr",
     "output_type": "stream",
     "text": [
      "\r",
      "Iterations:  53%|█████████████████▌               | 160/300 [03:10<02:48,  1.20s/it]"
     ]
    },
    {
     "name": "stdout",
     "output_type": "stream",
     "text": [
      "Epoch  159 , loss 0.39859139802409155\n",
      "Epoch  160 , loss 0.3971574435047075\n"
     ]
    },
    {
     "name": "stderr",
     "output_type": "stream",
     "text": [
      "\r",
      "Iterations:  54%|█████████████████▋               | 161/300 [03:11<02:54,  1.25s/it]"
     ]
    },
    {
     "name": "stdout",
     "output_type": "stream",
     "text": [
      "Epoch:  160\n",
      "t_loss:  0.3971574435047075 , v_loss:  0.6917337824900945\n",
      "t_acc:  0.7230193387398628 , v_acc:  0.7142857142857143\n",
      "t_recall:  0.5521217345332092 , v_recall:  0.5522559474979492\n",
      "t_prec:  0.7659466166877389 , v_prec:  0.7826086956521738\n",
      "t_f:  0.5176310561961324 , v_f:  0.5130434782608696\n",
      "////////\n"
     ]
    },
    {
     "name": "stderr",
     "output_type": "stream",
     "text": [
      "\r",
      "Iterations:  54%|█████████████████▊               | 162/300 [03:12<02:38,  1.15s/it]"
     ]
    },
    {
     "name": "stdout",
     "output_type": "stream",
     "text": [
      "Epoch  161 , loss 0.40775930180269127\n",
      "Epoch  162 , loss 0.39698154318566414\n"
     ]
    },
    {
     "name": "stderr",
     "output_type": "stream",
     "text": [
      "\r",
      "Iterations:  54%|█████████████████▉               | 163/300 [03:14<02:47,  1.23s/it]"
     ]
    },
    {
     "name": "stdout",
     "output_type": "stream",
     "text": [
      "Epoch:  162\n",
      "t_loss:  0.39698154318566414 , v_loss:  0.6883430878321329\n",
      "t_acc:  0.7199001871490954 , v_acc:  0.7142857142857143\n",
      "t_recall:  0.5504579985978462 , v_recall:  0.5522559474979492\n",
      "t_prec:  0.734971923041517 , v_prec:  0.7826086956521738\n",
      "t_f:  0.5169768496894143 , v_f:  0.5130434782608696\n",
      "////////\n"
     ]
    },
    {
     "name": "stderr",
     "output_type": "stream",
     "text": [
      "\r",
      "Iterations:  55%|██████████████████               | 164/300 [03:15<02:38,  1.16s/it]"
     ]
    },
    {
     "name": "stdout",
     "output_type": "stream",
     "text": [
      "Epoch  163 , loss 0.3963468255949955\n",
      "Epoch  164 , loss 0.3976958516766043\n"
     ]
    },
    {
     "name": "stderr",
     "output_type": "stream",
     "text": [
      "\r",
      "Iterations:  55%|██████████████████▏              | 165/300 [03:16<02:56,  1.31s/it]"
     ]
    },
    {
     "name": "stdout",
     "output_type": "stream",
     "text": [
      "Epoch:  164\n",
      "t_loss:  0.3976958516766043 , v_loss:  0.6889455616474152\n",
      "t_acc:  0.7189644416718652 , v_acc:  0.7202380952380952\n",
      "t_recall:  0.5471873024629637 , v_recall:  0.5616899097621001\n",
      "t_prec:  0.7424347637133193 , v_prec:  0.79375\n",
      "t_f:  0.5102220544756872 , v_f:  0.5292995529061103\n",
      "////////\n"
     ]
    },
    {
     "name": "stderr",
     "output_type": "stream",
     "text": [
      "\r",
      "Iterations:  55%|██████████████████▎              | 166/300 [03:17<02:42,  1.21s/it]"
     ]
    },
    {
     "name": "stdout",
     "output_type": "stream",
     "text": [
      "Epoch  165 , loss 0.3960155090864967\n",
      "Epoch  166 , loss 0.3982760491324406\n"
     ]
    },
    {
     "name": "stderr",
     "output_type": "stream",
     "text": [
      "\r",
      "Iterations:  56%|██████████████████▎              | 167/300 [03:19<02:49,  1.27s/it]"
     ]
    },
    {
     "name": "stdout",
     "output_type": "stream",
     "text": [
      "Epoch:  166\n",
      "t_loss:  0.3982760491324406 , v_loss:  0.6926787743965784\n",
      "t_acc:  0.7161572052401747 , v_acc:  0.7202380952380952\n",
      "t_recall:  0.5443041524440001 , v_recall:  0.5616899097621001\n",
      "t_prec:  0.7229970034593269 , v_prec:  0.79375\n",
      "t_f:  0.506380009529069 , v_f:  0.5292995529061103\n",
      "////////\n"
     ]
    },
    {
     "name": "stderr",
     "output_type": "stream",
     "text": [
      "\r",
      "Iterations:  56%|██████████████████▍              | 168/300 [03:19<02:31,  1.15s/it]"
     ]
    },
    {
     "name": "stdout",
     "output_type": "stream",
     "text": [
      "Epoch  167 , loss 0.39256561883524355\n",
      "Epoch  168 , loss 0.39176257539029213\n"
     ]
    },
    {
     "name": "stderr",
     "output_type": "stream",
     "text": [
      "\r",
      "Iterations:  56%|██████████████████▌              | 169/300 [03:21<02:45,  1.27s/it]"
     ]
    },
    {
     "name": "stdout",
     "output_type": "stream",
     "text": [
      "Epoch:  168\n",
      "t_loss:  0.39176257539029213 , v_loss:  0.6986823330322901\n",
      "t_acc:  0.7170929507174049 , v_acc:  0.7142857142857143\n",
      "t_recall:  0.5467087312806721 , v_recall:  0.5522559474979492\n",
      "t_prec:  0.7216448516579407 , v_prec:  0.7826086956521738\n",
      "t_f:  0.5111124561292899 , v_f:  0.5130434782608696\n",
      "////////\n"
     ]
    },
    {
     "name": "stderr",
     "output_type": "stream",
     "text": [
      "\r",
      "Iterations:  57%|██████████████████▋              | 170/300 [03:22<02:30,  1.16s/it]"
     ]
    },
    {
     "name": "stdout",
     "output_type": "stream",
     "text": [
      "Epoch  169 , loss 0.3979133309102526\n",
      "Epoch  170 , loss 0.39597173005926845\n"
     ]
    },
    {
     "name": "stderr",
     "output_type": "stream",
     "text": [
      "\r",
      "Iterations:  57%|██████████████████▊              | 171/300 [03:23<02:39,  1.24s/it]"
     ]
    },
    {
     "name": "stdout",
     "output_type": "stream",
     "text": [
      "Epoch:  170\n",
      "t_loss:  0.39597173005926845 , v_loss:  0.6967898458242416\n",
      "t_acc:  0.7220835932626326 , v_acc:  0.7202380952380952\n",
      "t_recall:  0.5500058614626073 , v_recall:  0.5616899097621001\n",
      "t_prec:  0.7680694386940321 , v_prec:  0.79375\n",
      "t_f:  0.5135835957794074 , v_f:  0.5292995529061103\n",
      "////////\n"
     ]
    },
    {
     "name": "stderr",
     "output_type": "stream",
     "text": [
      "\r",
      "Iterations:  57%|██████████████████▉              | 172/300 [03:24<02:31,  1.19s/it]"
     ]
    },
    {
     "name": "stdout",
     "output_type": "stream",
     "text": [
      "Epoch  171 , loss 0.38934645392731126\n",
      "Epoch  172 , loss 0.38711051496804927\n"
     ]
    },
    {
     "name": "stderr",
     "output_type": "stream",
     "text": [
      "\r",
      "Iterations:  58%|███████████████████              | 173/300 [03:26<02:37,  1.24s/it]"
     ]
    },
    {
     "name": "stdout",
     "output_type": "stream",
     "text": [
      "Epoch:  172\n",
      "t_loss:  0.38711051496804927 , v_loss:  0.6966040978829066\n",
      "t_acc:  0.7236431690580162 , v_acc:  0.7202380952380952\n",
      "t_recall:  0.5580553735820433 , v_recall:  0.5616899097621001\n",
      "t_prec:  0.7380798416364236 , v_prec:  0.79375\n",
      "t_f:  0.5305940872209277 , v_f:  0.5292995529061103\n",
      "////////\n"
     ]
    },
    {
     "name": "stderr",
     "output_type": "stream",
     "text": [
      "\r",
      "Iterations:  58%|███████████████████▏             | 174/300 [03:27<02:22,  1.13s/it]"
     ]
    },
    {
     "name": "stdout",
     "output_type": "stream",
     "text": [
      "Epoch  173 , loss 0.4050098178433437\n",
      "Epoch  174 , loss 0.41700020958395567\n"
     ]
    },
    {
     "name": "stderr",
     "output_type": "stream",
     "text": [
      "\r",
      "Iterations:  58%|███████████████████▎             | 175/300 [03:28<02:31,  1.21s/it]"
     ]
    },
    {
     "name": "stdout",
     "output_type": "stream",
     "text": [
      "Epoch:  174\n",
      "t_loss:  0.41700020958395567 , v_loss:  0.6892972141504288\n",
      "t_acc:  0.718028696194635 , v_acc:  0.7261904761904762\n",
      "t_recall:  0.5465149582227126 , v_recall:  0.571123872026251\n",
      "t_prec:  0.7341246977427602 , v_prec:  0.8029350104821802\n",
      "t_f:  0.5096346468288774 , v_f:  0.5450906522251\n",
      "////////\n"
     ]
    },
    {
     "name": "stderr",
     "output_type": "stream",
     "text": [
      "\r",
      "Iterations:  59%|███████████████████▎             | 176/300 [03:29<02:22,  1.15s/it]"
     ]
    },
    {
     "name": "stdout",
     "output_type": "stream",
     "text": [
      "Epoch  175 , loss 0.3928990001771964\n",
      "Epoch  176 , loss 0.390093102759006\n"
     ]
    },
    {
     "name": "stderr",
     "output_type": "stream",
     "text": [
      "\r",
      "Iterations:  59%|███████████████████▍             | 177/300 [03:31<02:38,  1.29s/it]"
     ]
    },
    {
     "name": "stdout",
     "output_type": "stream",
     "text": [
      "Epoch:  176\n",
      "t_loss:  0.390093102759006 , v_loss:  0.6986207018295923\n",
      "t_acc:  0.7161572052401747 , v_acc:  0.7142857142857143\n",
      "t_recall:  0.5457476812743509 , v_recall:  0.5522559474979492\n",
      "t_prec:  0.7157173670348251 , v_prec:  0.7826086956521738\n",
      "t_f:  0.5098383141499816 , v_f:  0.5130434782608696\n",
      "////////\n"
     ]
    },
    {
     "name": "stderr",
     "output_type": "stream",
     "text": [
      "\r",
      "Iterations:  59%|███████████████████▌             | 178/300 [03:32<02:28,  1.22s/it]"
     ]
    },
    {
     "name": "stdout",
     "output_type": "stream",
     "text": [
      "Epoch  177 , loss 0.4022666548981386\n",
      "Epoch  178 , loss 0.39520646193448233\n"
     ]
    },
    {
     "name": "stderr",
     "output_type": "stream",
     "text": [
      "\r",
      "Iterations:  60%|███████████████████▋             | 179/300 [03:33<02:38,  1.31s/it]"
     ]
    },
    {
     "name": "stdout",
     "output_type": "stream",
     "text": [
      "Epoch:  178\n",
      "t_loss:  0.39520646193448233 , v_loss:  0.6918325672547022\n",
      "t_acc:  0.7186525265127885 , v_acc:  0.7202380952380952\n",
      "t_recall:  0.5489841280787044 , v_recall:  0.5616899097621001\n",
      "t_prec:  0.7281084286536976 , v_prec:  0.79375\n",
      "t_f:  0.5148252989085208 , v_f:  0.5292995529061103\n",
      "////////\n"
     ]
    },
    {
     "name": "stderr",
     "output_type": "stream",
     "text": [
      "\r",
      "Iterations:  60%|███████████████████▊             | 180/300 [03:34<02:21,  1.18s/it]"
     ]
    },
    {
     "name": "stdout",
     "output_type": "stream",
     "text": [
      "Epoch  179 , loss 0.3916561027952269\n",
      "Epoch  180 , loss 0.3942645209677079\n"
     ]
    },
    {
     "name": "stderr",
     "output_type": "stream",
     "text": [
      "\r",
      "Iterations:  60%|███████████████████▉             | 181/300 [03:36<02:28,  1.25s/it]"
     ]
    },
    {
     "name": "stdout",
     "output_type": "stream",
     "text": [
      "Epoch:  180\n",
      "t_loss:  0.3942645209677079 , v_loss:  0.6983103603124619\n",
      "t_acc:  0.7161572052401747 , v_acc:  0.7202380952380952\n",
      "t_recall:  0.5454589755082807 , v_recall:  0.5616899097621001\n",
      "t_prec:  0.717091151784989 , v_prec:  0.79375\n",
      "t_f:  0.509151856617548 , v_f:  0.5292995529061103\n",
      "////////\n"
     ]
    },
    {
     "name": "stderr",
     "output_type": "stream",
     "text": [
      "\r",
      "Iterations:  61%|████████████████████             | 182/300 [03:36<02:14,  1.14s/it]"
     ]
    },
    {
     "name": "stdout",
     "output_type": "stream",
     "text": [
      "Epoch  181 , loss 0.39488642063795354\n",
      "Epoch  182 , loss 0.3933505208468905\n"
     ]
    },
    {
     "name": "stderr",
     "output_type": "stream",
     "text": [
      "\r",
      "Iterations:  61%|████████████████████▏            | 183/300 [03:38<02:32,  1.30s/it]"
     ]
    },
    {
     "name": "stdout",
     "output_type": "stream",
     "text": [
      "Epoch:  182\n",
      "t_loss:  0.3933505208468905 , v_loss:  0.6911001950502396\n",
      "t_acc:  0.7155333749220212 , v_acc:  0.7202380952380952\n",
      "t_recall:  0.54472204024871 , v_recall:  0.5616899097621001\n",
      "t_prec:  0.7135718880421873 , v_prec:  0.79375\n",
      "t_f:  0.508073069489235 , v_f:  0.5292995529061103\n",
      "////////\n"
     ]
    },
    {
     "name": "stderr",
     "output_type": "stream",
     "text": [
      "\r",
      "Iterations:  61%|████████████████████▏            | 184/300 [03:39<02:16,  1.18s/it]"
     ]
    },
    {
     "name": "stdout",
     "output_type": "stream",
     "text": [
      "Epoch  183 , loss 0.39480171367233874\n",
      "Epoch  184 , loss 0.3868247802351035\n"
     ]
    },
    {
     "name": "stderr",
     "output_type": "stream",
     "text": [
      "\r",
      "Iterations:  62%|████████████████████▎            | 185/300 [03:40<02:24,  1.26s/it]"
     ]
    },
    {
     "name": "stdout",
     "output_type": "stream",
     "text": [
      "Epoch:  184\n",
      "t_loss:  0.3868247802351035 , v_loss:  0.6942525456349055\n",
      "t_acc:  0.7236431690580162 , v_acc:  0.7261904761904762\n",
      "t_recall:  0.5543021986231309 , v_recall:  0.571123872026251\n",
      "t_prec:  0.7593223166986101 , v_prec:  0.8029350104821802\n",
      "t_f:  0.522097302157305 , v_f:  0.5450906522251\n",
      "////////\n"
     ]
    },
    {
     "name": "stderr",
     "output_type": "stream",
     "text": [
      "\r",
      "Iterations:  62%|████████████████████▍            | 186/300 [03:42<02:18,  1.22s/it]"
     ]
    },
    {
     "name": "stdout",
     "output_type": "stream",
     "text": [
      "Epoch  185 , loss 0.41664135923572615\n",
      "Epoch  186 , loss 0.3897931149192885\n"
     ]
    },
    {
     "name": "stderr",
     "output_type": "stream",
     "text": [
      "\r",
      "Iterations:  62%|████████████████████▌            | 187/300 [03:43<02:23,  1.27s/it]"
     ]
    },
    {
     "name": "stdout",
     "output_type": "stream",
     "text": [
      "Epoch:  186\n",
      "t_loss:  0.3897931149192885 , v_loss:  0.6927012850840887\n",
      "t_acc:  0.7230193387398628 , v_acc:  0.7261904761904762\n",
      "t_recall:  0.5593393786849636 , v_recall:  0.571123872026251\n",
      "t_prec:  0.7263654108201671 , v_prec:  0.8029350104821802\n",
      "t_f:  0.5339530424943425 , v_f:  0.5450906522251\n",
      "////////\n"
     ]
    },
    {
     "name": "stderr",
     "output_type": "stream",
     "text": [
      "\r",
      "Iterations:  63%|████████████████████▋            | 188/300 [03:44<02:09,  1.16s/it]"
     ]
    },
    {
     "name": "stdout",
     "output_type": "stream",
     "text": [
      "Epoch  187 , loss 0.39181510548965603\n",
      "Epoch  188 , loss 0.39764679880703196\n"
     ]
    },
    {
     "name": "stderr",
     "output_type": "stream",
     "text": [
      "\r",
      "Iterations:  63%|████████████████████▊            | 189/300 [03:45<02:16,  1.23s/it]"
     ]
    },
    {
     "name": "stdout",
     "output_type": "stream",
     "text": [
      "Epoch:  188\n",
      "t_loss:  0.39764679880703196 , v_loss:  0.6916076689958572\n",
      "t_acc:  0.7202121023081722 , v_acc:  0.7202380952380952\n",
      "t_recall:  0.5512595248767369 , v_recall:  0.5616899097621001\n",
      "t_prec:  0.734344262295082 , v_prec:  0.79375\n",
      "t_f:  0.5185211787213759 , v_f:  0.5292995529061103\n",
      "////////\n"
     ]
    },
    {
     "name": "stderr",
     "output_type": "stream",
     "text": [
      "\r",
      "Iterations:  63%|████████████████████▉            | 190/300 [03:46<02:08,  1.17s/it]"
     ]
    },
    {
     "name": "stdout",
     "output_type": "stream",
     "text": [
      "Epoch  189 , loss 0.3894003711494745\n",
      "Epoch  190 , loss 0.3912156989761427\n"
     ]
    },
    {
     "name": "stderr",
     "output_type": "stream",
     "text": [
      "\r",
      "Iterations:  64%|█████████████████████            | 191/300 [03:48<02:20,  1.29s/it]"
     ]
    },
    {
     "name": "stdout",
     "output_type": "stream",
     "text": [
      "Epoch:  190\n",
      "t_loss:  0.3912156989761427 , v_loss:  0.6990673194328944\n",
      "t_acc:  0.7170929507174049 , v_acc:  0.7202380952380952\n",
      "t_recall:  0.5501732004735143 , v_recall:  0.5616899097621001\n",
      "t_prec:  0.7068700148606435 , v_prec:  0.79375\n",
      "t_f:  0.5191413792892464 , v_f:  0.5292995529061103\n",
      "////////\n"
     ]
    },
    {
     "name": "stderr",
     "output_type": "stream",
     "text": [
      "\r",
      "Iterations:  64%|█████████████████████            | 192/300 [03:49<02:12,  1.23s/it]"
     ]
    },
    {
     "name": "stdout",
     "output_type": "stream",
     "text": [
      "Epoch  191 , loss 0.3928974451971989\n",
      "Epoch  192 , loss 0.39207608793296067\n"
     ]
    },
    {
     "name": "stderr",
     "output_type": "stream",
     "text": [
      "\r",
      "Iterations:  64%|█████████████████████▏           | 193/300 [03:50<02:21,  1.32s/it]"
     ]
    },
    {
     "name": "stdout",
     "output_type": "stream",
     "text": [
      "Epoch:  192\n",
      "t_loss:  0.39207608793296067 , v_loss:  0.6970807214577993\n",
      "t_acc:  0.7167810355583282 , v_acc:  0.7202380952380952\n",
      "t_recall:  0.5464846165339218 , v_recall:  0.5616899097621001\n",
      "t_prec:  0.7191922914340838 , v_prec:  0.79375\n",
      "t_f:  0.5109155925804212 , v_f:  0.5292995529061103\n",
      "////////\n"
     ]
    },
    {
     "name": "stderr",
     "output_type": "stream",
     "text": [
      "\r",
      "Iterations:  65%|█████████████████████▎           | 194/300 [03:51<02:06,  1.20s/it]"
     ]
    },
    {
     "name": "stdout",
     "output_type": "stream",
     "text": [
      "Epoch  193 , loss 0.39341019473823846\n",
      "Epoch  194 , loss 0.38693909084095673\n"
     ]
    },
    {
     "name": "stderr",
     "output_type": "stream",
     "text": [
      "\r",
      "Iterations:  65%|█████████████████████▍           | 195/300 [03:53<02:13,  1.27s/it]"
     ]
    },
    {
     "name": "stdout",
     "output_type": "stream",
     "text": [
      "Epoch:  194\n",
      "t_loss:  0.38693909084095673 , v_loss:  0.6972858260075251\n",
      "t_acc:  0.7214597629444791 , v_acc:  0.7261904761904762\n",
      "t_recall:  0.5518672780976681 , v_recall:  0.571123872026251\n",
      "t_prec:  0.7461234729493892 , v_prec:  0.8029350104821802\n",
      "t_f:  0.5186586806212303 , v_f:  0.5450906522251\n",
      "////////\n"
     ]
    },
    {
     "name": "stderr",
     "output_type": "stream",
     "text": [
      "\r",
      "Iterations:  65%|█████████████████████▌           | 196/300 [03:54<01:59,  1.15s/it]"
     ]
    },
    {
     "name": "stdout",
     "output_type": "stream",
     "text": [
      "Epoch  195 , loss 0.40058666818282185\n",
      "Epoch  196 , loss 0.3900172985067554\n"
     ]
    },
    {
     "name": "stderr",
     "output_type": "stream",
     "text": [
      "\r",
      "Iterations:  66%|█████████████████████▋           | 197/300 [03:55<02:12,  1.29s/it]"
     ]
    },
    {
     "name": "stdout",
     "output_type": "stream",
     "text": [
      "Epoch:  196\n",
      "t_loss:  0.3900172985067554 , v_loss:  0.6916922231515249\n",
      "t_acc:  0.7167810355583282 , v_acc:  0.7261904761904762\n",
      "t_recall:  0.5487942626624832 , v_recall:  0.571123872026251\n",
      "t_prec:  0.7091345443367953 , v_prec:  0.8029350104821802\n",
      "t_f:  0.5163038312890266 , v_f:  0.5450906522251\n",
      "////////\n"
     ]
    },
    {
     "name": "stderr",
     "output_type": "stream",
     "text": [
      "\r",
      "Iterations:  66%|█████████████████████▊           | 198/300 [03:56<01:58,  1.17s/it]"
     ]
    },
    {
     "name": "stdout",
     "output_type": "stream",
     "text": [
      "Epoch  197 , loss 0.38959498031466616\n",
      "Epoch  198 , loss 0.39537403104352015\n"
     ]
    },
    {
     "name": "stderr",
     "output_type": "stream",
     "text": [
      "\r",
      "Iterations:  66%|█████████████████████▉           | 199/300 [03:58<02:05,  1.24s/it]"
     ]
    },
    {
     "name": "stdout",
     "output_type": "stream",
     "text": [
      "Epoch:  198\n",
      "t_loss:  0.39537403104352015 , v_loss:  0.6860826263825098\n",
      "t_acc:  0.7220835932626326 , v_acc:  0.7321428571428571\n",
      "t_recall:  0.5557799767840108 , v_recall:  0.580557834290402\n",
      "t_prec:  0.7325083165979366 , v_prec:  0.8107594936708861\n",
      "t_f:  0.5269800818187915 , v_f:  0.5604395604395604\n",
      "////////\n"
     ]
    },
    {
     "name": "stderr",
     "output_type": "stream",
     "text": [
      "\r",
      "Iterations:  67%|██████████████████████           | 200/300 [03:59<02:00,  1.20s/it]"
     ]
    },
    {
     "name": "stdout",
     "output_type": "stream",
     "text": [
      "Epoch  199 , loss 0.3934454938360289\n",
      "Epoch  200 , loss 0.38822202472125783\n"
     ]
    },
    {
     "name": "stderr",
     "output_type": "stream",
     "text": [
      "\r",
      "Iterations:  67%|██████████████████████           | 201/300 [04:00<02:04,  1.25s/it]"
     ]
    },
    {
     "name": "stdout",
     "output_type": "stream",
     "text": [
      "Epoch:  200\n",
      "t_loss:  0.38822202472125783 , v_loss:  0.6875767707824707\n",
      "t_acc:  0.7242669993761697 , v_acc:  0.7261904761904762\n",
      "t_recall:  0.5582148973094737 , v_recall:  0.5762100082034455\n",
      "t_prec:  0.7439964546181489 , v_prec:  0.7689635205558772\n",
      "t_f:  0.5303759704489069 , v_f:  0.5560661764705882\n",
      "////////\n"
     ]
    },
    {
     "name": "stderr",
     "output_type": "stream",
     "text": [
      "\r",
      "Iterations:  67%|██████████████████████▏          | 202/300 [04:01<01:52,  1.15s/it]"
     ]
    },
    {
     "name": "stdout",
     "output_type": "stream",
     "text": [
      "Epoch  201 , loss 0.39494455678790225\n",
      "Epoch  202 , loss 0.3862256445721084\n"
     ]
    },
    {
     "name": "stderr",
     "output_type": "stream",
     "text": [
      "\r",
      "Iterations:  68%|██████████████████████▎          | 203/300 [04:02<01:58,  1.22s/it]"
     ]
    },
    {
     "name": "stdout",
     "output_type": "stream",
     "text": [
      "Epoch:  202\n",
      "t_loss:  0.3862256445721084 , v_loss:  0.6988625377416611\n",
      "t_acc:  0.7177167810355584 , v_acc:  0.7261904761904762\n",
      "t_recall:  0.5483117838384535 , v_recall:  0.571123872026251\n",
      "t_prec:  0.7208680117696511 , v_prec:  0.8029350104821802\n",
      "t_f:  0.5142270532250226 , v_f:  0.5450906522251\n",
      "////////\n"
     ]
    },
    {
     "name": "stderr",
     "output_type": "stream",
     "text": [
      "\r",
      "Iterations:  68%|██████████████████████▍          | 204/300 [04:03<01:50,  1.15s/it]"
     ]
    },
    {
     "name": "stdout",
     "output_type": "stream",
     "text": [
      "Epoch  203 , loss 0.39317721245335596\n",
      "Epoch  204 , loss 0.39469339041148915\n"
     ]
    },
    {
     "name": "stderr",
     "output_type": "stream",
     "text": [
      "\r",
      "Iterations:  68%|██████████████████████▌          | 205/300 [04:05<02:01,  1.28s/it]"
     ]
    },
    {
     "name": "stdout",
     "output_type": "stream",
     "text": [
      "Epoch:  204\n",
      "t_loss:  0.39469339041148915 , v_loss:  0.6901016185681025\n",
      "t_acc:  0.7174048658764816 , v_acc:  0.7321428571428571\n",
      "t_recall:  0.5498199036881243 , v_recall:  0.580557834290402\n",
      "t_prec:  0.711142458008039 , v_prec:  0.8107594936708861\n",
      "t_f:  0.5180300906382911 , v_f:  0.5604395604395604\n",
      "////////\n"
     ]
    },
    {
     "name": "stderr",
     "output_type": "stream",
     "text": [
      "\r",
      "Iterations:  69%|██████████████████████▋          | 206/300 [04:06<01:53,  1.21s/it]"
     ]
    },
    {
     "name": "stdout",
     "output_type": "stream",
     "text": [
      "Epoch  205 , loss 0.3917526468342426\n",
      "Epoch  206 , loss 0.383491154979257\n"
     ]
    },
    {
     "name": "stderr",
     "output_type": "stream",
     "text": [
      "\r",
      "Iterations:  69%|██████████████████████▊          | 207/300 [04:07<02:00,  1.29s/it]"
     ]
    },
    {
     "name": "stdout",
     "output_type": "stream",
     "text": [
      "Epoch:  206\n",
      "t_loss:  0.383491154979257 , v_loss:  0.6940426429112753\n",
      "t_acc:  0.7255146600124766 , v_acc:  0.7321428571428571\n",
      "t_recall:  0.5588226505304049 , v_recall:  0.580557834290402\n",
      "t_prec:  0.7550048329397228 , v_prec:  0.8107594936708861\n",
      "t_f:  0.5305753001623937 , v_f:  0.5604395604395604\n",
      "////////\n"
     ]
    },
    {
     "name": "stderr",
     "output_type": "stream",
     "text": [
      "\r",
      "Iterations:  69%|██████████████████████▉          | 208/300 [04:08<01:48,  1.18s/it]"
     ]
    },
    {
     "name": "stdout",
     "output_type": "stream",
     "text": [
      "Epoch  207 , loss 0.39386991718236136\n",
      "Epoch  208 , loss 0.3960442841053009\n"
     ]
    },
    {
     "name": "stderr",
     "output_type": "stream",
     "text": [
      "\r",
      "Iterations:  70%|██████████████████████▉          | 209/300 [04:10<01:53,  1.24s/it]"
     ]
    },
    {
     "name": "stdout",
     "output_type": "stream",
     "text": [
      "Epoch:  208\n",
      "t_loss:  0.3960442841053009 , v_loss:  0.69501065214475\n",
      "t_acc:  0.7214597629444791 , v_acc:  0.7261904761904762\n",
      "t_recall:  0.5556204530565804 , v_recall:  0.571123872026251\n",
      "t_prec:  0.7268733123312331 , v_prec:  0.8029350104821802\n",
      "t_f:  0.5272066586396861 , v_f:  0.5450906522251\n",
      "////////\n"
     ]
    },
    {
     "name": "stderr",
     "output_type": "stream",
     "text": [
      "\r",
      "Iterations:  70%|███████████████████████          | 210/300 [04:11<01:42,  1.13s/it]"
     ]
    },
    {
     "name": "stdout",
     "output_type": "stream",
     "text": [
      "Epoch  209 , loss 0.39117517073949176\n",
      "Epoch  210 , loss 0.4032251209604974\n"
     ]
    },
    {
     "name": "stderr",
     "output_type": "stream",
     "text": [
      "\r",
      "Iterations:  70%|███████████████████████▏         | 211/300 [04:12<01:54,  1.29s/it]"
     ]
    },
    {
     "name": "stdout",
     "output_type": "stream",
     "text": [
      "Epoch:  210\n",
      "t_loss:  0.4032251209604974 , v_loss:  0.6913013110558192\n",
      "t_acc:  0.7258265751715534 , v_acc:  0.7321428571428571\n",
      "t_recall:  0.561933822937857 , v_recall:  0.580557834290402\n",
      "t_prec:  0.7422812419071735 , v_prec:  0.8107594936708861\n",
      "t_f:  0.5371273114488011 , v_f:  0.5604395604395604\n",
      "////////\n"
     ]
    },
    {
     "name": "stderr",
     "output_type": "stream",
     "text": [
      "\r",
      "Iterations:  71%|███████████████████████▎         | 212/300 [04:13<01:43,  1.18s/it]"
     ]
    },
    {
     "name": "stdout",
     "output_type": "stream",
     "text": [
      "Epoch  211 , loss 0.38395343545605154\n",
      "Epoch  212 , loss 0.3908703847258699\n"
     ]
    },
    {
     "name": "stderr",
     "output_type": "stream",
     "text": [
      "\r",
      "Iterations:  71%|███████████████████████▍         | 213/300 [04:15<01:48,  1.25s/it]"
     ]
    },
    {
     "name": "stdout",
     "output_type": "stream",
     "text": [
      "Epoch:  212\n",
      "t_loss:  0.3908703847258699 , v_loss:  0.6853485355774561\n",
      "t_acc:  0.7183406113537117 , v_acc:  0.7321428571428571\n",
      "t_recall:  0.550203542162305 , v_recall:  0.5856439704675964\n",
      "t_prec:  0.7188948220843154 , v_prec:  0.7788461538461539\n",
      "t_f:  0.5179747673431018 , v_f:  0.5708203235878513\n",
      "////////\n"
     ]
    },
    {
     "name": "stderr",
     "output_type": "stream",
     "text": [
      "\r",
      "Iterations:  71%|███████████████████████▌         | 214/300 [04:16<01:45,  1.22s/it]"
     ]
    },
    {
     "name": "stdout",
     "output_type": "stream",
     "text": [
      "Epoch  213 , loss 0.3877321808945899\n",
      "Epoch  214 , loss 0.39799664125723\n"
     ]
    },
    {
     "name": "stderr",
     "output_type": "stream",
     "text": [
      "\r",
      "Iterations:  72%|███████████████████████▋         | 215/300 [04:17<01:48,  1.27s/it]"
     ]
    },
    {
     "name": "stdout",
     "output_type": "stream",
     "text": [
      "Epoch:  214\n",
      "t_loss:  0.39799664125723 , v_loss:  0.6951571802298228\n",
      "t_acc:  0.7255146600124766 , v_acc:  0.7321428571428571\n",
      "t_recall:  0.5640193543196681 , v_recall:  0.580557834290402\n",
      "t_prec:  0.7305552106356735 , v_prec:  0.8107594936708861\n",
      "t_f:  0.5418167266906763 , v_f:  0.5604395604395604\n",
      "////////\n"
     ]
    },
    {
     "name": "stderr",
     "output_type": "stream",
     "text": [
      "\r",
      "Iterations:  72%|███████████████████████▊         | 216/300 [04:18<01:37,  1.16s/it]"
     ]
    },
    {
     "name": "stdout",
     "output_type": "stream",
     "text": [
      "Epoch  215 , loss 0.3792669513061935\n",
      "Epoch  216 , loss 0.3960404524616167\n"
     ]
    },
    {
     "name": "stderr",
     "output_type": "stream",
     "text": [
      "\r",
      "Iterations:  72%|███████████████████████▊         | 217/300 [04:19<01:41,  1.22s/it]"
     ]
    },
    {
     "name": "stdout",
     "output_type": "stream",
     "text": [
      "Epoch:  216\n",
      "t_loss:  0.3960404524616167 , v_loss:  0.6986769338448843\n",
      "t_acc:  0.7220835932626326 , v_acc:  0.7321428571428571\n",
      "t_recall:  0.5575122113804319 , v_recall:  0.580557834290402\n",
      "t_prec:  0.7249841740281415 , v_prec:  0.8107594936708861\n",
      "t_f:  0.5308082303764298 , v_f:  0.5604395604395604\n",
      "////////\n"
     ]
    },
    {
     "name": "stderr",
     "output_type": "stream",
     "text": [
      "\r",
      "Iterations:  73%|███████████████████████▉         | 218/300 [04:20<01:34,  1.15s/it]"
     ]
    },
    {
     "name": "stdout",
     "output_type": "stream",
     "text": [
      "Epoch  217 , loss 0.38346031132866354\n",
      "Epoch  218 , loss 0.3844594987584095\n"
     ]
    },
    {
     "name": "stderr",
     "output_type": "stream",
     "text": [
      "\r",
      "Iterations:  73%|████████████████████████         | 219/300 [04:22<01:45,  1.31s/it]"
     ]
    },
    {
     "name": "stdout",
     "output_type": "stream",
     "text": [
      "Epoch:  218\n",
      "t_loss:  0.3844594987584095 , v_loss:  0.6931327333052953\n",
      "t_acc:  0.7220835932626326 , v_acc:  0.7321428571428571\n",
      "t_recall:  0.5575122113804319 , v_recall:  0.580557834290402\n",
      "t_prec:  0.7249841740281415 , v_prec:  0.8107594936708861\n",
      "t_f:  0.5308082303764298 , v_f:  0.5604395604395604\n",
      "////////\n"
     ]
    },
    {
     "name": "stderr",
     "output_type": "stream",
     "text": [
      "\r",
      "Iterations:  73%|████████████████████████▏        | 220/300 [04:23<01:38,  1.24s/it]"
     ]
    },
    {
     "name": "stdout",
     "output_type": "stream",
     "text": [
      "Epoch  219 , loss 0.3814390332383268\n",
      "Epoch  220 , loss 0.3900003059237611\n"
     ]
    },
    {
     "name": "stderr",
     "output_type": "stream",
     "text": [
      "\r",
      "Iterations:  74%|████████████████████████▎        | 221/300 [04:25<01:43,  1.31s/it]"
     ]
    },
    {
     "name": "stdout",
     "output_type": "stream",
     "text": [
      "Epoch:  220\n",
      "t_loss:  0.3900003059237611 , v_loss:  0.6972970962524414\n",
      "t_acc:  0.7230193387398628 , v_acc:  0.7321428571428571\n",
      "t_recall:  0.5576071440885426 , v_recall:  0.580557834290402\n",
      "t_prec:  0.7337265193524741 , v_prec:  0.8107594936708861\n",
      "t_f:  0.5301726869455006 , v_f:  0.5604395604395604\n",
      "////////\n"
     ]
    },
    {
     "name": "stderr",
     "output_type": "stream",
     "text": [
      "\r",
      "Iterations:  74%|████████████████████████▍        | 222/300 [04:26<01:32,  1.19s/it]"
     ]
    },
    {
     "name": "stdout",
     "output_type": "stream",
     "text": [
      "Epoch  221 , loss 0.392486489870969\n",
      "Epoch  222 , loss 0.38305804717774483\n"
     ]
    },
    {
     "name": "stderr",
     "output_type": "stream",
     "text": [
      "\r",
      "Iterations:  74%|████████████████████████▌        | 223/300 [04:27<01:36,  1.25s/it]"
     ]
    },
    {
     "name": "stdout",
     "output_type": "stream",
     "text": [
      "Epoch:  222\n",
      "t_loss:  0.38305804717774483 , v_loss:  0.6991386363903681\n",
      "t_acc:  0.7270742358078602 , v_acc:  0.7321428571428571\n",
      "t_recall:  0.5642738107552092 , v_recall:  0.580557834290402\n",
      "t_prec:  0.7439794778723998 , v_prec:  0.8107594936708861\n",
      "t_f:  0.54108253970591 , v_f:  0.5604395604395604\n",
      "////////\n"
     ]
    },
    {
     "name": "stderr",
     "output_type": "stream",
     "text": [
      "\r",
      "Iterations:  75%|████████████████████████▋        | 224/300 [04:28<01:26,  1.14s/it]"
     ]
    },
    {
     "name": "stdout",
     "output_type": "stream",
     "text": [
      "Epoch  223 , loss 0.3999748183231728\n",
      "Epoch  224 , loss 0.38286803341379355\n"
     ]
    },
    {
     "name": "stderr",
     "output_type": "stream",
     "text": [
      "\r",
      "Iterations:  75%|████████████████████████▊        | 225/300 [04:29<01:36,  1.28s/it]"
     ]
    },
    {
     "name": "stdout",
     "output_type": "stream",
     "text": [
      "Epoch:  224\n",
      "t_loss:  0.38286803341379355 , v_loss:  0.6911989599466324\n",
      "t_acc:  0.7230193387398628 , v_acc:  0.7321428571428571\n",
      "t_recall:  0.5570297325564022 , v_recall:  0.580557834290402\n",
      "t_prec:  0.7364215212622616 , v_prec:  0.8107594936708861\n",
      "t_f:  0.5288939135591963 , v_f:  0.5604395604395604\n",
      "////////\n"
     ]
    },
    {
     "name": "stderr",
     "output_type": "stream",
     "text": [
      "\r",
      "Iterations:  75%|████████████████████████▊        | 226/300 [04:30<01:26,  1.17s/it]"
     ]
    },
    {
     "name": "stdout",
     "output_type": "stream",
     "text": [
      "Epoch  225 , loss 0.3871474493952358\n",
      "Epoch  226 , loss 0.3866368701644972\n"
     ]
    },
    {
     "name": "stderr",
     "output_type": "stream",
     "text": [
      "\r",
      "Iterations:  76%|████████████████████████▉        | 227/300 [04:32<01:30,  1.25s/it]"
     ]
    },
    {
     "name": "stdout",
     "output_type": "stream",
     "text": [
      "Epoch:  226\n",
      "t_loss:  0.3866368701644972 , v_loss:  0.6926383723815283\n",
      "t_acc:  0.7267623206487835 , v_acc:  0.7321428571428571\n",
      "t_recall:  0.5640496960084589 , v_recall:  0.580557834290402\n",
      "t_prec:  0.7419360440380992 , v_prec:  0.8107594936708861\n",
      "t_f:  0.5408645907786314 , v_f:  0.5604395604395604\n",
      "////////\n"
     ]
    },
    {
     "name": "stderr",
     "output_type": "stream",
     "text": [
      "\r",
      "Iterations:  76%|█████████████████████████        | 228/300 [04:33<01:23,  1.17s/it]"
     ]
    },
    {
     "name": "stdout",
     "output_type": "stream",
     "text": [
      "Epoch  227 , loss 0.3900786293487923\n",
      "Epoch  228 , loss 0.38601375999403936\n"
     ]
    },
    {
     "name": "stderr",
     "output_type": "stream",
     "text": [
      "\r",
      "Iterations:  76%|█████████████████████████▏       | 229/300 [04:34<01:27,  1.23s/it]"
     ]
    },
    {
     "name": "stdout",
     "output_type": "stream",
     "text": [
      "Epoch:  228\n",
      "t_loss:  0.38601375999403936 , v_loss:  0.6968187987804413\n",
      "t_acc:  0.7248908296943232 , v_acc:  0.7321428571428571\n",
      "t_recall:  0.561261478697606 , v_recall:  0.580557834290402\n",
      "t_prec:  0.736040726025723 , v_prec:  0.8107594936708861\n",
      "t_f:  0.5364819277108434 , v_f:  0.5604395604395604\n",
      "////////\n"
     ]
    },
    {
     "name": "stderr",
     "output_type": "stream",
     "text": [
      "\r",
      "Iterations:  77%|█████████████████████████▎       | 230/300 [04:35<01:18,  1.12s/it]"
     ]
    },
    {
     "name": "stdout",
     "output_type": "stream",
     "text": [
      "Epoch  229 , loss 0.3972680761533625\n",
      "Epoch  230 , loss 0.39225296997556497\n"
     ]
    },
    {
     "name": "stderr",
     "output_type": "stream",
     "text": [
      "\r",
      "Iterations:  77%|█████████████████████████▍       | 231/300 [04:37<01:25,  1.23s/it]"
     ]
    },
    {
     "name": "stdout",
     "output_type": "stream",
     "text": [
      "Epoch:  230\n",
      "t_loss:  0.39225296997556497 , v_loss:  0.6927512884140015\n",
      "t_acc:  0.7270742358078602 , v_acc:  0.7321428571428571\n",
      "t_recall:  0.5665834568837707 , v_recall:  0.580557834290402\n",
      "t_prec:  0.7343592233009708 , v_prec:  0.8107594936708861\n",
      "t_f:  0.5459152117149586 , v_f:  0.5604395604395604\n",
      "////////\n"
     ]
    },
    {
     "name": "stderr",
     "output_type": "stream",
     "text": [
      "\r",
      "Iterations:  77%|█████████████████████████▌       | 232/300 [04:37<01:17,  1.14s/it]"
     ]
    },
    {
     "name": "stdout",
     "output_type": "stream",
     "text": [
      "Epoch  231 , loss 0.38241367801731707\n",
      "Epoch  232 , loss 0.3832972189959358\n"
     ]
    },
    {
     "name": "stderr",
     "output_type": "stream",
     "text": [
      "\r",
      "Iterations:  78%|█████████████████████████▋       | 233/300 [04:39<01:23,  1.24s/it]"
     ]
    },
    {
     "name": "stdout",
     "output_type": "stream",
     "text": [
      "Epoch:  232\n",
      "t_loss:  0.3832972189959358 , v_loss:  0.6925841222206751\n",
      "t_acc:  0.7283218964441672 , v_acc:  0.7321428571428571\n",
      "t_recall:  0.5660363870404211 , v_recall:  0.580557834290402\n",
      "t_prec:  0.7482235677947358 , v_prec:  0.8107594936708861\n",
      "t_f:  0.5437894497799758 , v_f:  0.5604395604395604\n",
      "////////\n"
     ]
    },
    {
     "name": "stderr",
     "output_type": "stream",
     "text": [
      "\r",
      "Iterations:  78%|█████████████████████████▋       | 234/300 [04:40<01:18,  1.19s/it]"
     ]
    },
    {
     "name": "stdout",
     "output_type": "stream",
     "text": [
      "Epoch  233 , loss 0.38633955635276496\n",
      "Epoch  234 , loss 0.39029158856354507\n"
     ]
    },
    {
     "name": "stderr",
     "output_type": "stream",
     "text": [
      "\r",
      "Iterations:  78%|█████████████████████████▊       | 235/300 [04:41<01:22,  1.28s/it]"
     ]
    },
    {
     "name": "stdout",
     "output_type": "stream",
     "text": [
      "Epoch:  234\n",
      "t_loss:  0.39029158856354507 , v_loss:  0.6888309568166733\n",
      "t_acc:  0.7323767935121647 , v_acc:  0.7440476190476191\n",
      "t_recall:  0.571548230642807 , v_recall:  0.5994257588187039\n",
      "t_prec:  0.7625516006970627 , v_prec:  0.8237179487179487\n",
      "t_f:  0.5520888153609671 , v_f:  0.5898949758728356\n",
      "////////\n"
     ]
    },
    {
     "name": "stderr",
     "output_type": "stream",
     "text": [
      "\r",
      "Iterations:  79%|█████████████████████████▉       | 236/300 [04:43<01:16,  1.20s/it]"
     ]
    },
    {
     "name": "stdout",
     "output_type": "stream",
     "text": [
      "Epoch  235 , loss 0.38724374771118164\n",
      "Epoch  236 , loss 0.38578161246636333\n"
     ]
    },
    {
     "name": "stderr",
     "output_type": "stream",
     "text": [
      "\r",
      "Iterations:  79%|██████████████████████████       | 237/300 [04:44<01:19,  1.26s/it]"
     ]
    },
    {
     "name": "stdout",
     "output_type": "stream",
     "text": [
      "Epoch:  236\n",
      "t_loss:  0.38578161246636333 , v_loss:  0.6971075236797333\n",
      "t_acc:  0.7267623206487835 , v_acc:  0.7321428571428571\n",
      "t_recall:  0.5628948729441782 , v_recall:  0.580557834290402\n",
      "t_prec:  0.747303460355851 , v_prec:  0.8107594936708861\n",
      "t_f:  0.538396602835047 , v_f:  0.5604395604395604\n",
      "////////\n"
     ]
    },
    {
     "name": "stderr",
     "output_type": "stream",
     "text": [
      "\r",
      "Iterations:  79%|██████████████████████████▏      | 238/300 [04:45<01:11,  1.15s/it]"
     ]
    },
    {
     "name": "stdout",
     "output_type": "stream",
     "text": [
      "Epoch  237 , loss 0.38012873483639137\n",
      "Epoch  238 , loss 0.3806016325366263\n"
     ]
    },
    {
     "name": "stderr",
     "output_type": "stream",
     "text": [
      "\r",
      "Iterations:  80%|██████████████████████████▎      | 239/300 [04:46<01:15,  1.24s/it]"
     ]
    },
    {
     "name": "stdout",
     "output_type": "stream",
     "text": [
      "Epoch:  238\n",
      "t_loss:  0.3806016325366263 , v_loss:  0.6968326518932978\n",
      "t_acc:  0.722707423580786 , v_acc:  0.7321428571428571\n",
      "t_recall:  0.5605587927685641 , v_recall:  0.580557834290402\n",
      "t_prec:  0.7191101131071191 , v_prec:  0.8107594936708861\n",
      "t_f:  0.5368252897752895 , v_f:  0.5604395604395604\n",
      "////////\n"
     ]
    },
    {
     "name": "stderr",
     "output_type": "stream",
     "text": [
      "\r",
      "Iterations:  80%|██████████████████████████▍      | 240/300 [04:47<01:09,  1.15s/it]"
     ]
    },
    {
     "name": "stdout",
     "output_type": "stream",
     "text": [
      "Epoch  239 , loss 0.3863829210692761\n",
      "Epoch  240 , loss 0.3881908316238254\n"
     ]
    },
    {
     "name": "stderr",
     "output_type": "stream",
     "text": [
      "\r",
      "Iterations:  80%|██████████████████████████▌      | 241/300 [04:49<01:15,  1.29s/it]"
     ]
    },
    {
     "name": "stdout",
     "output_type": "stream",
     "text": [
      "Epoch:  240\n",
      "t_loss:  0.3881908316238254 , v_loss:  0.701789786418279\n",
      "t_acc:  0.7264504054897069 , v_acc:  0.7321428571428571\n",
      "t_recall:  0.5632481697295683 , v_recall:  0.580557834290402\n",
      "t_prec:  0.7424795200428633 , v_prec:  0.8107594936708861\n",
      "t_f:  0.5394181457320536 , v_f:  0.5604395604395604\n",
      "////////\n"
     ]
    },
    {
     "name": "stderr",
     "output_type": "stream",
     "text": [
      "\r",
      "Iterations:  81%|██████████████████████████▌      | 242/300 [04:50<01:09,  1.20s/it]"
     ]
    },
    {
     "name": "stdout",
     "output_type": "stream",
     "text": [
      "Epoch  241 , loss 0.39310507213368134\n",
      "Epoch  242 , loss 0.39340823596599056\n"
     ]
    },
    {
     "name": "stderr",
     "output_type": "stream",
     "text": [
      "\r",
      "Iterations:  81%|██████████████████████████▋      | 243/300 [04:51<01:13,  1.30s/it]"
     ]
    },
    {
     "name": "stdout",
     "output_type": "stream",
     "text": [
      "Epoch:  242\n",
      "t_loss:  0.39340823596599056 , v_loss:  0.692685047785441\n",
      "t_acc:  0.7264504054897069 , v_acc:  0.7321428571428571\n",
      "t_recall:  0.5649804043259893 , v_recall:  0.5856439704675964\n",
      "t_prec:  0.735108117099135 , v_prec:  0.7788461538461539\n",
      "t_f:  0.5430773668536883 , v_f:  0.5708203235878513\n",
      "////////\n"
     ]
    },
    {
     "name": "stderr",
     "output_type": "stream",
     "text": [
      "\r",
      "Iterations:  81%|██████████████████████████▊      | 244/300 [04:52<01:06,  1.19s/it]"
     ]
    },
    {
     "name": "stdout",
     "output_type": "stream",
     "text": [
      "Epoch  243 , loss 0.38194942649673014\n",
      "Epoch  244 , loss 0.38547396601415146\n"
     ]
    },
    {
     "name": "stderr",
     "output_type": "stream",
     "text": [
      "\r",
      "Iterations:  82%|██████████████████████████▉      | 245/300 [04:54<01:08,  1.25s/it]"
     ]
    },
    {
     "name": "stdout",
     "output_type": "stream",
     "text": [
      "Epoch:  244\n",
      "t_loss:  0.38547396601415146 , v_loss:  0.6964641163746516\n",
      "t_acc:  0.7255146600124766 , v_acc:  0.7321428571428571\n",
      "t_recall:  0.5643080600857383 , v_recall:  0.5856439704675964\n",
      "t_prec:  0.729465936362488 , v_prec:  0.7788461538461539\n",
      "t_f:  0.542419844649033 , v_f:  0.5708203235878513\n",
      "////////\n"
     ]
    },
    {
     "name": "stderr",
     "output_type": "stream",
     "text": [
      "\r",
      "Iterations:  82%|███████████████████████████      | 246/300 [04:55<01:02,  1.15s/it]"
     ]
    },
    {
     "name": "stdout",
     "output_type": "stream",
     "text": [
      "Epoch  245 , loss 0.37996219975106854\n",
      "Epoch  246 , loss 0.3855990130527347\n"
     ]
    },
    {
     "name": "stderr",
     "output_type": "stream",
     "text": [
      "\r",
      "Iterations:  82%|███████████████████████████▏     | 247/300 [04:56<01:05,  1.24s/it]"
     ]
    },
    {
     "name": "stdout",
     "output_type": "stream",
     "text": [
      "Epoch:  246\n",
      "t_loss:  0.3855990130527347 , v_loss:  0.6941757599512736\n",
      "t_acc:  0.730817217716781 , v_acc:  0.7380952380952381\n",
      "t_recall:  0.5715824799733361 , v_recall:  0.5899917965545529\n",
      "t_prec:  0.747485536270583 , v_prec:  0.8176027793862188\n",
      "t_f:  0.5533128457481803 , v_f:  0.5753676470588236\n",
      "////////\n"
     ]
    },
    {
     "name": "stderr",
     "output_type": "stream",
     "text": [
      "\r",
      "Iterations:  83%|███████████████████████████▎     | 248/300 [04:57<00:59,  1.14s/it]"
     ]
    },
    {
     "name": "stdout",
     "output_type": "stream",
     "text": [
      "Epoch  247 , loss 0.3765418249018052\n",
      "Epoch  248 , loss 0.38596699635187787\n"
     ]
    },
    {
     "name": "stderr",
     "output_type": "stream",
     "text": [
      "\r",
      "Iterations:  83%|███████████████████████████▍     | 249/300 [04:58<01:03,  1.25s/it]"
     ]
    },
    {
     "name": "stdout",
     "output_type": "stream",
     "text": [
      "Epoch:  248\n",
      "t_loss:  0.38596699635187787 , v_loss:  0.697385792930921\n",
      "t_acc:  0.7252027448533999 , v_acc:  0.7440476190476191\n",
      "t_recall:  0.5655274741693388 , v_recall:  0.5994257588187039\n",
      "t_prec:  0.7226138862511869 , v_prec:  0.8237179487179487\n",
      "t_f:  0.5451821027747009 , v_f:  0.5898949758728356\n",
      "////////\n"
     ]
    },
    {
     "name": "stderr",
     "output_type": "stream",
     "text": [
      "\r",
      "Iterations:  83%|███████████████████████████▌     | 250/300 [04:59<00:58,  1.17s/it]"
     ]
    },
    {
     "name": "stdout",
     "output_type": "stream",
     "text": [
      "Epoch  249 , loss 0.3856432882009768\n",
      "Epoch  250 , loss 0.37946800595405056\n"
     ]
    },
    {
     "name": "stderr",
     "output_type": "stream",
     "text": [
      "\r",
      "Iterations:  84%|███████████████████████████▌     | 251/300 [05:01<01:00,  1.23s/it]"
     ]
    },
    {
     "name": "stdout",
     "output_type": "stream",
     "text": [
      "Epoch:  250\n",
      "t_loss:  0.37946800595405056 , v_loss:  0.6971022188663483\n",
      "t_acc:  0.7248908296943232 , v_acc:  0.7380952380952381\n",
      "t_recall:  0.5618388902297463 , v_recall:  0.5950779327317474\n",
      "t_prec:  0.733585128458927 , v_prec:  0.7875930521091812\n",
      "t_f:  0.5377198277017725 , v_f:  0.5851851851851853\n",
      "////////\n"
     ]
    },
    {
     "name": "stderr",
     "output_type": "stream",
     "text": [
      "\r",
      "Iterations:  84%|███████████████████████████▋     | 252/300 [05:02<00:57,  1.19s/it]"
     ]
    },
    {
     "name": "stdout",
     "output_type": "stream",
     "text": [
      "Epoch  251 , loss 0.38297685162693845\n",
      "Epoch  252 , loss 0.37948021409558313\n"
     ]
    },
    {
     "name": "stderr",
     "output_type": "stream",
     "text": [
      "\r",
      "Iterations:  84%|███████████████████████████▊     | 253/300 [05:03<00:58,  1.24s/it]"
     ]
    },
    {
     "name": "stdout",
     "output_type": "stream",
     "text": [
      "Epoch:  252\n",
      "t_loss:  0.37948021409558313 , v_loss:  0.699576199054718\n",
      "t_acc:  0.7345601996257018 , v_acc:  0.7321428571428571\n",
      "t_recall:  0.5757153857646911 , v_recall:  0.5856439704675964\n",
      "t_prec:  0.7641151793503361 , v_prec:  0.7788461538461539\n",
      "t_f:  0.5589481057507008 , v_f:  0.5708203235878513\n",
      "////////\n"
     ]
    },
    {
     "name": "stderr",
     "output_type": "stream",
     "text": [
      "\r",
      "Iterations:  85%|███████████████████████████▉     | 254/300 [05:04<00:52,  1.14s/it]"
     ]
    },
    {
     "name": "stdout",
     "output_type": "stream",
     "text": [
      "Epoch  253 , loss 0.382587585086916\n",
      "Epoch  254 , loss 0.38235905152909894\n"
     ]
    },
    {
     "name": "stderr",
     "output_type": "stream",
     "text": [
      "\r",
      "Iterations:  85%|████████████████████████████     | 255/300 [05:06<00:54,  1.21s/it]"
     ]
    },
    {
     "name": "stdout",
     "output_type": "stream",
     "text": [
      "Epoch:  254\n",
      "t_loss:  0.38235905152909894 , v_loss:  0.705257311463356\n",
      "t_acc:  0.7358078602620087 , v_acc:  0.7380952380952381\n",
      "t_recall:  0.5800763139445345 , v_recall:  0.5950779327317474\n",
      "t_prec:  0.7565362364945272 , v_prec:  0.7875930521091812\n",
      "t_f:  0.5666618313753595 , v_f:  0.5851851851851853\n",
      "////////\n"
     ]
    },
    {
     "name": "stderr",
     "output_type": "stream",
     "text": [
      "\r",
      "Iterations:  85%|████████████████████████████▏    | 256/300 [05:07<00:51,  1.18s/it]"
     ]
    },
    {
     "name": "stdout",
     "output_type": "stream",
     "text": [
      "Epoch  255 , loss 0.380820598672418\n",
      "Epoch  256 , loss 0.3937626533648547\n"
     ]
    },
    {
     "name": "stderr",
     "output_type": "stream",
     "text": [
      "\r",
      "Iterations:  86%|████████████████████████████▎    | 257/300 [05:08<00:56,  1.30s/it]"
     ]
    },
    {
     "name": "stdout",
     "output_type": "stream",
     "text": [
      "Epoch:  256\n",
      "t_loss:  0.3937626533648547 , v_loss:  0.690941279133161\n",
      "t_acc:  0.7292576419213974 , v_acc:  0.7321428571428571\n",
      "t_recall:  0.5721941408360055 , v_recall:  0.5907301066447909\n",
      "t_prec:  0.7322254311753493 , v_prec:  0.7564935064935066\n",
      "t_f:  0.5556337645830206 , v_f:  0.580535981801032\n",
      "////////\n"
     ]
    },
    {
     "name": "stderr",
     "output_type": "stream",
     "text": [
      "\r",
      "Iterations:  86%|████████████████████████████▍    | 258/300 [05:09<00:51,  1.22s/it]"
     ]
    },
    {
     "name": "stdout",
     "output_type": "stream",
     "text": [
      "Epoch  257 , loss 0.37835434809619306\n",
      "Epoch  258 , loss 0.3769393291543512\n"
     ]
    },
    {
     "name": "stderr",
     "output_type": "stream",
     "text": [
      "\r",
      "Iterations:  86%|████████████████████████████▍    | 259/300 [05:11<00:52,  1.29s/it]"
     ]
    },
    {
     "name": "stdout",
     "output_type": "stream",
     "text": [
      "Epoch:  258\n",
      "t_loss:  0.3769393291543512 , v_loss:  0.6907773663600286\n",
      "t_acc:  0.730817217716781 , v_acc:  0.7261904761904762\n",
      "t_recall:  0.5730260088036869 , v_recall:  0.5863822805578343\n",
      "t_prec:  0.7418072215794922 , v_prec:  0.7294117647058823\n",
      "t_f:  0.5562017639468009 , v_f:  0.5759438103599649\n",
      "////////\n"
     ]
    },
    {
     "name": "stderr",
     "output_type": "stream",
     "text": [
      "\r",
      "Iterations:  87%|████████████████████████████▌    | 260/300 [05:12<00:46,  1.17s/it]"
     ]
    },
    {
     "name": "stdout",
     "output_type": "stream",
     "text": [
      "Epoch  259 , loss 0.3794533709685008\n",
      "Epoch  260 , loss 0.38174229947959676\n"
     ]
    },
    {
     "name": "stderr",
     "output_type": "stream",
     "text": [
      "\r",
      "Iterations:  87%|████████████████████████████▋    | 261/300 [05:13<00:48,  1.24s/it]"
     ]
    },
    {
     "name": "stdout",
     "output_type": "stream",
     "text": [
      "Epoch:  260\n",
      "t_loss:  0.38174229947959676 , v_loss:  0.6977893312772115\n",
      "t_acc:  0.7283218964441672 , v_acc:  0.7261904761904762\n",
      "t_recall:  0.5680573274029124 , v_recall:  0.5812961443806399\n",
      "t_prec:  0.739546925566343 , v_prec:  0.7459057071960298\n",
      "t_f:  0.5479910278899759 , v_f:  0.5663299663299664\n",
      "////////\n"
     ]
    },
    {
     "name": "stderr",
     "output_type": "stream",
     "text": [
      "\r",
      "Iterations:  87%|████████████████████████████▊    | 262/300 [05:14<00:43,  1.14s/it]"
     ]
    },
    {
     "name": "stdout",
     "output_type": "stream",
     "text": [
      "Epoch  261 , loss 0.3808545277399175\n",
      "Epoch  262 , loss 0.38500527774586396\n"
     ]
    },
    {
     "name": "stderr",
     "output_type": "stream",
     "text": [
      "\r",
      "Iterations:  88%|████████████████████████████▉    | 263/300 [05:16<00:47,  1.28s/it]"
     ]
    },
    {
     "name": "stdout",
     "output_type": "stream",
     "text": [
      "Epoch:  262\n",
      "t_loss:  0.38500527774586396 , v_loss:  0.693456103404363\n",
      "t_acc:  0.7361197754210854 , v_acc:  0.7261904761904762\n",
      "t_recall:  0.5817439575216357 , v_recall:  0.5863822805578343\n",
      "t_prec:  0.7526977075348218 , v_prec:  0.7294117647058823\n",
      "t_f:  0.5696439451637472 , v_f:  0.5759438103599649\n",
      "////////\n"
     ]
    },
    {
     "name": "stderr",
     "output_type": "stream",
     "text": [
      "\r",
      "Iterations:  88%|█████████████████████████████    | 264/300 [05:16<00:42,  1.18s/it]"
     ]
    },
    {
     "name": "stdout",
     "output_type": "stream",
     "text": [
      "Epoch  263 , loss 0.3811931805867775\n",
      "Epoch  264 , loss 0.3748840298138413\n"
     ]
    },
    {
     "name": "stderr",
     "output_type": "stream",
     "text": [
      "\r",
      "Iterations:  88%|█████████████████████████████▏   | 265/300 [05:18<00:44,  1.26s/it]"
     ]
    },
    {
     "name": "stdout",
     "output_type": "stream",
     "text": [
      "Epoch:  264\n",
      "t_loss:  0.3748840298138413 , v_loss:  0.7032252748807272\n",
      "t_acc:  0.7370555208983156 , v_acc:  0.7380952380952381\n",
      "t_recall:  0.5806840671654656 , v_recall:  0.5950779327317474\n",
      "t_prec:  0.7649355119194261 , v_prec:  0.7875930521091812\n",
      "t_f:  0.5670451296025298 , v_f:  0.5851851851851853\n",
      "////////\n"
     ]
    },
    {
     "name": "stderr",
     "output_type": "stream",
     "text": [
      "\r",
      "Iterations:  89%|█████████████████████████████▎   | 266/300 [05:19<00:41,  1.22s/it]"
     ]
    },
    {
     "name": "stdout",
     "output_type": "stream",
     "text": [
      "Epoch  265 , loss 0.3769041796525319\n",
      "Epoch  266 , loss 0.37321200616219463\n"
     ]
    },
    {
     "name": "stderr",
     "output_type": "stream",
     "text": [
      "\r",
      "Iterations:  89%|█████████████████████████████▎   | 267/300 [05:20<00:41,  1.27s/it]"
     ]
    },
    {
     "name": "stdout",
     "output_type": "stream",
     "text": [
      "Epoch:  266\n",
      "t_loss:  0.37321200616219463 , v_loss:  0.6982124000787735\n",
      "t_acc:  0.74235807860262 , v_acc:  0.7261904761904762\n",
      "t_recall:  0.5891133101173442 , v_recall:  0.5863822805578343\n",
      "t_prec:  0.7754788226583273 , v_prec:  0.7294117647058823\n",
      "t_f:  0.5798178471693323 , v_f:  0.5759438103599649\n",
      "////////\n"
     ]
    },
    {
     "name": "stderr",
     "output_type": "stream",
     "text": [
      "\r",
      "Iterations:  89%|█████████████████████████████▍   | 268/300 [05:21<00:36,  1.15s/it]"
     ]
    },
    {
     "name": "stdout",
     "output_type": "stream",
     "text": [
      "Epoch  267 , loss 0.3764833878068363\n",
      "Epoch  268 , loss 0.38393988562565223\n"
     ]
    },
    {
     "name": "stderr",
     "output_type": "stream",
     "text": [
      "\r",
      "Iterations:  90%|█████████████████████████████▌   | 269/300 [05:23<00:38,  1.23s/it]"
     ]
    },
    {
     "name": "stdout",
     "output_type": "stream",
     "text": [
      "Epoch:  268\n",
      "t_loss:  0.38393988562565223 , v_loss:  0.6957416584094366\n",
      "t_acc:  0.730817217716781 , v_acc:  0.7261904761904762\n",
      "t_recall:  0.5724485972715466 , v_recall:  0.5863822805578343\n",
      "t_prec:  0.7440109005326396 , v_prec:  0.7294117647058823\n",
      "t_f:  0.5550524097686618 , v_f:  0.5759438103599649\n",
      "////////\n"
     ]
    },
    {
     "name": "stderr",
     "output_type": "stream",
     "text": [
      "\r",
      "Iterations:  90%|█████████████████████████████▋   | 270/300 [05:24<00:35,  1.17s/it]"
     ]
    },
    {
     "name": "stdout",
     "output_type": "stream",
     "text": [
      "Epoch  269 , loss 0.3752824021320717\n",
      "Epoch  270 , loss 0.3834259366872264\n"
     ]
    },
    {
     "name": "stderr",
     "output_type": "stream",
     "text": [
      "\r",
      "Iterations:  90%|█████████████████████████████▊   | 271/300 [05:25<00:37,  1.31s/it]"
     ]
    },
    {
     "name": "stdout",
     "output_type": "stream",
     "text": [
      "Epoch:  270\n",
      "t_loss:  0.3834259366872264 , v_loss:  0.6914298484722773\n",
      "t_acc:  0.7339363693075484 , v_acc:  0.7261904761904762\n",
      "t_recall:  0.5801751542943834 , v_recall:  0.5863822805578343\n",
      "t_prec:  0.7413065496286293 , v_prec:  0.7294117647058823\n",
      "t_f:  0.5679932615796459 , v_f:  0.5759438103599649\n",
      "////////\n"
     ]
    },
    {
     "name": "stderr",
     "output_type": "stream",
     "text": [
      "\r",
      "Iterations:  91%|█████████████████████████████▉   | 272/300 [05:26<00:34,  1.22s/it]"
     ]
    },
    {
     "name": "stdout",
     "output_type": "stream",
     "text": [
      "Epoch  271 , loss 0.38533436375505786\n",
      "Epoch  272 , loss 0.38356660452543523\n"
     ]
    },
    {
     "name": "stderr",
     "output_type": "stream",
     "text": [
      "\r",
      "Iterations:  91%|██████████████████████████████   | 273/300 [05:28<00:34,  1.27s/it]"
     ]
    },
    {
     "name": "stdout",
     "output_type": "stream",
     "text": [
      "Epoch:  272\n",
      "t_loss:  0.38356660452543523 , v_loss:  0.6980469872554144\n",
      "t_acc:  0.7311291328758578 , v_acc:  0.7261904761904762\n",
      "t_recall:  0.5746936523807882 , v_recall:  0.5863822805578343\n",
      "t_prec:  0.7383271750083977 , v_prec:  0.7294117647058823\n",
      "t_f:  0.5592692816061158 , v_f:  0.5759438103599649\n",
      "////////\n"
     ]
    },
    {
     "name": "stderr",
     "output_type": "stream",
     "text": [
      "\r",
      "Iterations:  91%|██████████████████████████████▏  | 274/300 [05:29<00:29,  1.15s/it]"
     ]
    },
    {
     "name": "stdout",
     "output_type": "stream",
     "text": [
      "Epoch  273 , loss 0.3774798535833172\n",
      "Epoch  274 , loss 0.3718526553289563\n"
     ]
    },
    {
     "name": "stderr",
     "output_type": "stream",
     "text": [
      "\r",
      "Iterations:  92%|██████████████████████████████▎  | 275/300 [05:30<00:31,  1.25s/it]"
     ]
    },
    {
     "name": "stdout",
     "output_type": "stream",
     "text": [
      "Epoch:  274\n",
      "t_loss:  0.3718526553289563 , v_loss:  0.7019290427366892\n",
      "t_acc:  0.7376793512164691 , v_acc:  0.7321428571428571\n",
      "t_recall:  0.5819984139571768 , v_recall:  0.5907301066447909\n",
      "t_prec:  0.7648408267506088 , v_prec:  0.7564935064935066\n",
      "t_f:  0.5691804197583061 , v_f:  0.580535981801032\n",
      "////////\n"
     ]
    },
    {
     "name": "stderr",
     "output_type": "stream",
     "text": [
      "\r",
      "Iterations:  92%|██████████████████████████████▎  | 276/300 [05:31<00:27,  1.13s/it]"
     ]
    },
    {
     "name": "stdout",
     "output_type": "stream",
     "text": [
      "Epoch  275 , loss 0.3796794315179189\n",
      "Epoch  276 , loss 0.3821789344736174\n"
     ]
    },
    {
     "name": "stderr",
     "output_type": "stream",
     "text": [
      "\r",
      "Iterations:  92%|██████████████████████████████▍  | 277/300 [05:32<00:28,  1.23s/it]"
     ]
    },
    {
     "name": "stdout",
     "output_type": "stream",
     "text": [
      "Epoch:  276\n",
      "t_loss:  0.3821789344736174 , v_loss:  0.6978552540143331\n",
      "t_acc:  0.7351840299438552 , v_acc:  0.7261904761904762\n",
      "t_recall:  0.5804942017492444 , v_recall:  0.5863822805578343\n",
      "t_prec:  0.7498045426011528 , v_prec:  0.7294117647058823\n",
      "t_f:  0.5678443340709268 , v_f:  0.5759438103599649\n",
      "////////\n"
     ]
    },
    {
     "name": "stderr",
     "output_type": "stream",
     "text": [
      "\r",
      "Iterations:  93%|██████████████████████████████▌  | 278/300 [05:33<00:25,  1.17s/it]"
     ]
    },
    {
     "name": "stdout",
     "output_type": "stream",
     "text": [
      "Epoch  277 , loss 0.3781449975920658\n",
      "Epoch  278 , loss 0.3767857683055541\n"
     ]
    },
    {
     "name": "stderr",
     "output_type": "stream",
     "text": [
      "\r",
      "Iterations:  93%|██████████████████████████████▋  | 279/300 [05:35<00:26,  1.24s/it]"
     ]
    },
    {
     "name": "stdout",
     "output_type": "stream",
     "text": [
      "Epoch:  278\n",
      "t_loss:  0.3767857683055541 , v_loss:  0.6997833450635275\n",
      "t_acc:  0.7364316905801622 , v_acc:  0.7261904761904762\n",
      "t_recall:  0.5831228953326667 , v_recall:  0.5863822805578343\n",
      "t_prec:  0.7501784903864248 , v_prec:  0.7294117647058823\n",
      "t_f:  0.5720449074264955 , v_f:  0.5759438103599649\n",
      "////////\n"
     ]
    },
    {
     "name": "stderr",
     "output_type": "stream",
     "text": [
      "\r",
      "Iterations:  93%|██████████████████████████████▊  | 280/300 [05:36<00:23,  1.17s/it]"
     ]
    },
    {
     "name": "stdout",
     "output_type": "stream",
     "text": [
      "Epoch  279 , loss 0.3709442771825136\n",
      "Epoch  280 , loss 0.37997908276670117\n"
     ]
    },
    {
     "name": "stderr",
     "output_type": "stream",
     "text": [
      "\r",
      "Iterations:  94%|██████████████████████████████▉  | 281/300 [05:37<00:23,  1.23s/it]"
     ]
    },
    {
     "name": "stdout",
     "output_type": "stream",
     "text": [
      "Epoch:  280\n",
      "t_loss:  0.37997908276670117 , v_loss:  0.6972186317046484\n",
      "t_acc:  0.7404865876481597 , v_acc:  0.7261904761904762\n",
      "t_recall:  0.5880573274029123 , v_recall:  0.5863822805578343\n",
      "t_prec:  0.7640372461041154 , v_prec:  0.7294117647058823\n",
      "t_f:  0.5788931268786784 , v_f:  0.5759438103599649\n",
      "////////\n"
     ]
    },
    {
     "name": "stderr",
     "output_type": "stream",
     "text": [
      "\r",
      "Iterations:  94%|███████████████████████████████  | 282/300 [05:38<00:20,  1.13s/it]"
     ]
    },
    {
     "name": "stdout",
     "output_type": "stream",
     "text": [
      "Epoch  281 , loss 0.36912936235175414\n",
      "Epoch  282 , loss 0.3762705816942103\n"
     ]
    },
    {
     "name": "stderr",
     "output_type": "stream",
     "text": [
      "\r",
      "Iterations:  94%|███████████████████████████████▏ | 283/300 [05:40<00:21,  1.25s/it]"
     ]
    },
    {
     "name": "stdout",
     "output_type": "stream",
     "text": [
      "Epoch:  282\n",
      "t_loss:  0.3762705816942103 , v_loss:  0.6945354541142782\n",
      "t_acc:  0.7348721147847785 , v_acc:  0.7261904761904762\n",
      "t_recall:  0.5799813812364238 , v_recall:  0.5863822805578343\n",
      "t_prec:  0.7491853878270086 , v_prec:  0.7294117647058823\n",
      "t_f:  0.5670609841732837 , v_f:  0.5759438103599649\n",
      "////////\n"
     ]
    },
    {
     "name": "stderr",
     "output_type": "stream",
     "text": [
      "\r",
      "Iterations:  95%|███████████████████████████████▏ | 284/300 [05:41<00:19,  1.20s/it]"
     ]
    },
    {
     "name": "stdout",
     "output_type": "stream",
     "text": [
      "Epoch  283 , loss 0.3734838804777931\n",
      "Epoch  284 , loss 0.36806853144776586\n"
     ]
    },
    {
     "name": "stderr",
     "output_type": "stream",
     "text": [
      "\r",
      "Iterations:  95%|███████████████████████████████▎ | 285/300 [05:42<00:19,  1.31s/it]"
     ]
    },
    {
     "name": "stdout",
     "output_type": "stream",
     "text": [
      "Epoch:  284\n",
      "t_loss:  0.36806853144776586 , v_loss:  0.6975973347822825\n",
      "t_acc:  0.7445414847161572 , v_acc:  0.7261904761904762\n",
      "t_recall:  0.5958788171338597 , v_recall:  0.5863822805578343\n",
      "t_prec:  0.7666845685642678 , v_prec:  0.7294117647058823\n",
      "t_f:  0.590832528336687 , v_f:  0.5759438103599649\n",
      "////////\n"
     ]
    },
    {
     "name": "stderr",
     "output_type": "stream",
     "text": [
      "\r",
      "Iterations:  95%|███████████████████████████████▍ | 286/300 [05:43<00:16,  1.18s/it]"
     ]
    },
    {
     "name": "stdout",
     "output_type": "stream",
     "text": [
      "Epoch  285 , loss 0.37975389262040454\n",
      "Epoch  286 , loss 0.3756860079718571\n"
     ]
    },
    {
     "name": "stderr",
     "output_type": "stream",
     "text": [
      "\r",
      "Iterations:  96%|███████████████████████████████▌ | 287/300 [05:45<00:16,  1.24s/it]"
     ]
    },
    {
     "name": "stdout",
     "output_type": "stream",
     "text": [
      "Epoch:  286\n",
      "t_loss:  0.3756860079718571 , v_loss:  0.6975592424472173\n",
      "t_acc:  0.7386150966936993 , v_acc:  0.7261904761904762\n",
      "t_recall:  0.5838255812617086 , v_recall:  0.5863822805578343\n",
      "t_prec:  0.76532722179781 , v_prec:  0.7294117647058823\n",
      "t_f:  0.5720864240712178 , v_f:  0.5759438103599649\n",
      "////////\n"
     ]
    },
    {
     "name": "stderr",
     "output_type": "stream",
     "text": [
      "\r",
      "Iterations:  96%|███████████████████████████████▋ | 288/300 [05:45<00:13,  1.12s/it]"
     ]
    },
    {
     "name": "stdout",
     "output_type": "stream",
     "text": [
      "Epoch  287 , loss 0.3759247327552122\n",
      "Epoch  288 , loss 0.37848587772425485\n"
     ]
    },
    {
     "name": "stderr",
     "output_type": "stream",
     "text": [
      "\r",
      "Iterations:  96%|███████████████████████████████▊ | 289/300 [05:47<00:13,  1.24s/it]"
     ]
    },
    {
     "name": "stdout",
     "output_type": "stream",
     "text": [
      "Epoch:  288\n",
      "t_loss:  0.37848587772425485 , v_loss:  0.6976485600074133\n",
      "t_acc:  0.7326887086712415 , v_acc:  0.7261904761904762\n",
      "t_recall:  0.5766803434127503 , v_recall:  0.5863822805578343\n",
      "t_prec:  0.7436842566619916 , v_prec:  0.7294117647058823\n",
      "t_f:  0.5621052732238042 , v_f:  0.5759438103599649\n",
      "////////\n"
     ]
    },
    {
     "name": "stderr",
     "output_type": "stream",
     "text": [
      "\r",
      "Iterations:  97%|███████████████████████████████▉ | 290/300 [05:48<00:11,  1.14s/it]"
     ]
    },
    {
     "name": "stdout",
     "output_type": "stream",
     "text": [
      "Epoch  289 , loss 0.38227220522422417\n",
      "Epoch  290 , loss 0.3669811878718582\n"
     ]
    },
    {
     "name": "stderr",
     "output_type": "stream",
     "text": [
      "\r",
      "Iterations:  97%|████████████████████████████████ | 291/300 [05:49<00:10,  1.22s/it]"
     ]
    },
    {
     "name": "stdout",
     "output_type": "stream",
     "text": [
      "Epoch:  290\n",
      "t_loss:  0.3669811878718582 , v_loss:  0.700032909711202\n",
      "t_acc:  0.7420461634435433 , v_acc:  0.7142857142857143\n",
      "t_recall:  0.5906214299670149 , v_recall:  0.5776866283839213\n",
      "t_prec:  0.7667415426251691 , v_prec:  0.6844565640825867\n",
      "t_f:  0.5827304525048886 , v_f:  0.5669172932330826\n",
      "////////\n"
     ]
    },
    {
     "name": "stderr",
     "output_type": "stream",
     "text": [
      "\r",
      "Iterations:  97%|████████████████████████████████ | 292/300 [05:50<00:09,  1.14s/it]"
     ]
    },
    {
     "name": "stdout",
     "output_type": "stream",
     "text": [
      "Epoch  291 , loss 0.3797403094815273\n",
      "Epoch  292 , loss 0.3751669228076935\n"
     ]
    },
    {
     "name": "stderr",
     "output_type": "stream",
     "text": [
      "\r",
      "Iterations:  98%|████████████████████████████████▏| 293/300 [05:52<00:08,  1.20s/it]"
     ]
    },
    {
     "name": "stdout",
     "output_type": "stream",
     "text": [
      "Epoch:  292\n",
      "t_loss:  0.3751669228076935 , v_loss:  0.7020879487196604\n",
      "t_acc:  0.7426699937616968 , v_acc:  0.7142857142857143\n",
      "t_recall:  0.5907809536944454 , v_recall:  0.5776866283839213\n",
      "t_prec:  0.771189024390244 , v_prec:  0.6844565640825867\n",
      "t_f:  0.5826977044468857 , v_f:  0.5669172932330826\n",
      "////////\n"
     ]
    },
    {
     "name": "stderr",
     "output_type": "stream",
     "text": [
      "\r",
      "Iterations:  98%|████████████████████████████████▎| 294/300 [05:52<00:06,  1.10s/it]"
     ]
    },
    {
     "name": "stdout",
     "output_type": "stream",
     "text": [
      "Epoch  293 , loss 0.3673989775718427\n",
      "Epoch  294 , loss 0.3738111082245322\n"
     ]
    },
    {
     "name": "stderr",
     "output_type": "stream",
     "text": [
      "\r",
      "Iterations:  98%|████████████████████████████████▍| 295/300 [05:54<00:06,  1.23s/it]"
     ]
    },
    {
     "name": "stdout",
     "output_type": "stream",
     "text": [
      "Epoch:  294\n",
      "t_loss:  0.3738111082245322 , v_loss:  0.7026708424091339\n",
      "t_acc:  0.7395508421709295 , v_acc:  0.7202380952380952\n",
      "t_recall:  0.5896946292912227 , v_recall:  0.5820344544708778\n",
      "t_prec:  0.7512025420760975 , v_prec:  0.705592105263158\n",
      "t_f:  0.5823271855931658 , v_f:  0.5714053085816643\n",
      "////////\n"
     ]
    },
    {
     "name": "stderr",
     "output_type": "stream",
     "text": [
      "\r",
      "Iterations:  99%|████████████████████████████████▌| 296/300 [05:55<00:04,  1.19s/it]"
     ]
    },
    {
     "name": "stdout",
     "output_type": "stream",
     "text": [
      "Epoch  295 , loss 0.3779769434648402\n",
      "Epoch  296 , loss 0.373693153554318\n"
     ]
    },
    {
     "name": "stderr",
     "output_type": "stream",
     "text": [
      "\r",
      "Iterations:  99%|████████████████████████████████▋| 297/300 [05:57<00:03,  1.32s/it]"
     ]
    },
    {
     "name": "stdout",
     "output_type": "stream",
     "text": [
      "Epoch:  296\n",
      "t_loss:  0.373693153554318 , v_loss:  0.6976042787233988\n",
      "t_acc:  0.7364316905801622 , v_acc:  0.7142857142857143\n",
      "t_recall:  0.5837003068648071 , v_recall:  0.5776866283839213\n",
      "t_prec:  0.7481883465288228 , v_prec:  0.6844565640825867\n",
      "t_f:  0.5731157819067223 , v_f:  0.5669172932330826\n",
      "////////\n"
     ]
    },
    {
     "name": "stderr",
     "output_type": "stream",
     "text": [
      "\r",
      "Iterations:  99%|████████████████████████████████▊| 298/300 [05:58<00:02,  1.20s/it]"
     ]
    },
    {
     "name": "stdout",
     "output_type": "stream",
     "text": [
      "Epoch  297 , loss 0.37021150279278847\n",
      "Epoch  298 , loss 0.3747846554307377\n"
     ]
    },
    {
     "name": "stderr",
     "output_type": "stream",
     "text": [
      "\r",
      "Iterations: 100%|████████████████████████████████▉| 299/300 [05:59<00:01,  1.27s/it]"
     ]
    },
    {
     "name": "stdout",
     "output_type": "stream",
     "text": [
      "Epoch:  298\n",
      "t_loss:  0.3747846554307377 , v_loss:  0.7004955410957336\n",
      "t_acc:  0.740174672489083 , v_acc:  0.7202380952380952\n",
      "t_recall:  0.5904315645507936 , v_recall:  0.5820344544708778\n",
      "t_prec:  0.7532664338833611 , v_prec:  0.705592105263158\n",
      "t_f:  0.5833275995198888 , v_f:  0.5714053085816643\n",
      "////////\n"
     ]
    },
    {
     "name": "stderr",
     "output_type": "stream",
     "text": [
      "Iterations: 100%|█████████████████████████████████| 300/300 [06:00<00:00,  1.20s/it]"
     ]
    },
    {
     "name": "stdout",
     "output_type": "stream",
     "text": [
      "Epoch  299 , loss 0.37485042915624733\n"
     ]
    },
    {
     "name": "stderr",
     "output_type": "stream",
     "text": [
      "\n"
     ]
    },
    {
     "name": "stdout",
     "output_type": "stream",
     "text": [
      "112 11\n",
      "\n",
      "c0_acc 0.9739130434782609 , c1_acc 0.20754716981132076 , b_acc 0.5907301066447909\n"
     ]
    },
    {
     "name": "stderr",
     "output_type": "stream",
     "text": [
      "\r",
      "Iterations:   0%|                                           | 0/300 [00:00<?, ?it/s]"
     ]
    },
    {
     "name": "stdout",
     "output_type": "stream",
     "text": [
      "Epoch  0 , loss 0.7087825906276702\n"
     ]
    },
    {
     "name": "stderr",
     "output_type": "stream",
     "text": [
      "\r",
      "Iterations:   0%|                                   | 1/300 [00:01<07:31,  1.51s/it]"
     ]
    },
    {
     "name": "stdout",
     "output_type": "stream",
     "text": [
      "Epoch:  0\n",
      "t_loss:  0.7087825906276702 , v_loss:  0.6887725392977396\n",
      "t_acc:  0.482801751094434 , v_acc:  0.6988636363636364\n",
      "t_recall:  0.48028789923526766 , v_recall:  0.5\n",
      "t_prec:  0.48328975647150624 , v_prec:  0.3494318181818182\n",
      "t_f:  0.4626031362607647 , v_f:  0.411371237458194\n",
      "////////\n"
     ]
    },
    {
     "name": "stderr",
     "output_type": "stream",
     "text": [
      "\r",
      "Iterations:   1%|▏                                  | 2/300 [00:02<05:52,  1.18s/it]"
     ]
    },
    {
     "name": "stdout",
     "output_type": "stream",
     "text": [
      "Epoch  1 , loss 0.662025134563446\n",
      "Epoch  2 , loss 0.6134750509262085\n"
     ]
    },
    {
     "name": "stderr",
     "output_type": "stream",
     "text": [
      "\r",
      "Iterations:   1%|▎                                  | 3/300 [00:03<06:31,  1.32s/it]"
     ]
    },
    {
     "name": "stdout",
     "output_type": "stream",
     "text": [
      "Epoch:  2\n",
      "t_loss:  0.6134750509262085 , v_loss:  0.6763695279757181\n",
      "t_acc:  0.6353971232020013 , v_acc:  0.6988636363636364\n",
      "t_recall:  0.5056950067476383 , v_recall:  0.5\n",
      "t_prec:  0.5087424684875215 , v_prec:  0.3494318181818182\n",
      "t_f:  0.4931928593796211 , v_f:  0.411371237458194\n",
      "////////\n"
     ]
    },
    {
     "name": "stderr",
     "output_type": "stream",
     "text": [
      "\r",
      "Iterations:   1%|▍                                  | 4/300 [00:04<05:35,  1.13s/it]"
     ]
    },
    {
     "name": "stdout",
     "output_type": "stream",
     "text": [
      "Epoch  3 , loss 0.5774052584171295\n",
      "Epoch  4 , loss 0.5475965893268585\n"
     ]
    },
    {
     "name": "stderr",
     "output_type": "stream",
     "text": [
      "\r",
      "Iterations:   2%|▌                                  | 5/300 [00:06<06:07,  1.25s/it]"
     ]
    },
    {
     "name": "stdout",
     "output_type": "stream",
     "text": [
      "Epoch:  4\n",
      "t_loss:  0.5475965893268585 , v_loss:  0.6569138964017233\n",
      "t_acc:  0.6885553470919324 , v_acc:  0.6988636363636364\n",
      "t_recall:  0.5065047233468286 , v_recall:  0.5\n",
      "t_prec:  0.5459532400481093 , v_prec:  0.3494318181818182\n",
      "t_f:  0.44273900474261996 , v_f:  0.411371237458194\n",
      "////////\n"
     ]
    },
    {
     "name": "stderr",
     "output_type": "stream",
     "text": [
      "\r",
      "Iterations:   2%|▋                                  | 6/300 [00:07<05:28,  1.12s/it]"
     ]
    },
    {
     "name": "stdout",
     "output_type": "stream",
     "text": [
      "Epoch  5 , loss 0.5250774908065796\n",
      "Epoch  6 , loss 0.4987538677453995\n"
     ]
    },
    {
     "name": "stderr",
     "output_type": "stream",
     "text": [
      "\r",
      "Iterations:   2%|▊                                  | 7/300 [00:08<06:05,  1.25s/it]"
     ]
    },
    {
     "name": "stdout",
     "output_type": "stream",
     "text": [
      "Epoch:  6\n",
      "t_loss:  0.4987538677453995 , v_loss:  0.6449111501375834\n",
      "t_acc:  0.6913696060037523 , v_acc:  0.6988636363636364\n",
      "t_recall:  0.49758884390463337 , v_recall:  0.5\n",
      "t_prec:  0.38276202440775303 , v_prec:  0.3494318181818182\n",
      "t_f:  0.409740547165482 , v_f:  0.411371237458194\n",
      "////////\n"
     ]
    },
    {
     "name": "stderr",
     "output_type": "stream",
     "text": [
      "\r",
      "Iterations:   3%|▉                                  | 8/300 [00:09<05:34,  1.14s/it]"
     ]
    },
    {
     "name": "stdout",
     "output_type": "stream",
     "text": [
      "Epoch  7 , loss 0.4890225219726563\n",
      "Epoch  8 , loss 0.4760547190904617\n"
     ]
    },
    {
     "name": "stderr",
     "output_type": "stream",
     "text": [
      "\r",
      "Iterations:   3%|█                                  | 9/300 [00:10<05:55,  1.22s/it]"
     ]
    },
    {
     "name": "stdout",
     "output_type": "stream",
     "text": [
      "Epoch:  8\n",
      "t_loss:  0.4760547190904617 , v_loss:  0.6666141053040823\n",
      "t_acc:  0.6954346466541589 , v_acc:  0.6988636363636364\n",
      "t_recall:  0.5008007197480882 , v_recall:  0.5\n",
      "t_prec:  0.6810641627543036 , v_prec:  0.3494318181818182\n",
      "t_f:  0.41215942314529846 , v_f:  0.411371237458194\n",
      "////////\n"
     ]
    },
    {
     "name": "stderr",
     "output_type": "stream",
     "text": [
      "\r",
      "Iterations:   3%|█▏                                | 10/300 [00:11<05:21,  1.11s/it]"
     ]
    },
    {
     "name": "stdout",
     "output_type": "stream",
     "text": [
      "Epoch  9 , loss 0.4672302389144897\n",
      "Epoch  10 , loss 0.46424114823341367\n"
     ]
    },
    {
     "name": "stderr",
     "output_type": "stream",
     "text": [
      "\r",
      "Iterations:   4%|█▏                                | 11/300 [00:13<05:43,  1.19s/it]"
     ]
    },
    {
     "name": "stdout",
     "output_type": "stream",
     "text": [
      "Epoch:  10\n",
      "t_loss:  0.46424114823341367 , v_loss:  0.7048555761575699\n",
      "t_acc:  0.6951219512195121 , v_acc:  0.6988636363636364\n",
      "t_recall:  0.5 , v_recall:  0.5\n",
      "t_prec:  0.3475609756097561 , v_prec:  0.3494318181818182\n",
      "t_f:  0.41007194244604317 , v_f:  0.411371237458194\n",
      "////////\n"
     ]
    },
    {
     "name": "stderr",
     "output_type": "stream",
     "text": [
      "\r",
      "Iterations:   4%|█▎                                | 12/300 [00:14<05:20,  1.11s/it]"
     ]
    },
    {
     "name": "stdout",
     "output_type": "stream",
     "text": [
      "Epoch  11 , loss 0.46558951795101167\n",
      "Epoch  12 , loss 0.46464769780635834\n"
     ]
    },
    {
     "name": "stderr",
     "output_type": "stream",
     "text": [
      "\r",
      "Iterations:   4%|█▍                                | 13/300 [00:15<05:57,  1.24s/it]"
     ]
    },
    {
     "name": "stdout",
     "output_type": "stream",
     "text": [
      "Epoch:  12\n",
      "t_loss:  0.46464769780635834 , v_loss:  0.7361520181099573\n",
      "t_acc:  0.6954346466541589 , v_acc:  0.6988636363636364\n",
      "t_recall:  0.5005128205128205 , v_recall:  0.5\n",
      "t_prec:  0.8476696903346888 , v_prec:  0.3494318181818182\n",
      "t_f:  0.41117219163994917 , v_f:  0.411371237458194\n",
      "////////\n"
     ]
    },
    {
     "name": "stderr",
     "output_type": "stream",
     "text": [
      "\r",
      "Iterations:   5%|█▌                                | 14/300 [00:16<05:25,  1.14s/it]"
     ]
    },
    {
     "name": "stdout",
     "output_type": "stream",
     "text": [
      "Epoch  13 , loss 0.4639715623855591\n",
      "Epoch  14 , loss 0.460561443567276\n"
     ]
    },
    {
     "name": "stderr",
     "output_type": "stream",
     "text": [
      "\r",
      "Iterations:   5%|█▋                                | 15/300 [00:17<05:50,  1.23s/it]"
     ]
    },
    {
     "name": "stdout",
     "output_type": "stream",
     "text": [
      "Epoch:  14\n",
      "t_loss:  0.460561443567276 , v_loss:  0.7522374093532562\n",
      "t_acc:  0.6951219512195121 , v_acc:  0.6988636363636364\n",
      "t_recall:  0.5 , v_recall:  0.5\n",
      "t_prec:  0.3475609756097561 , v_prec:  0.3494318181818182\n",
      "t_f:  0.41007194244604317 , v_f:  0.411371237458194\n",
      "////////\n"
     ]
    },
    {
     "name": "stderr",
     "output_type": "stream",
     "text": [
      "\r",
      "Iterations:   5%|█▊                                | 16/300 [00:18<05:16,  1.11s/it]"
     ]
    },
    {
     "name": "stdout",
     "output_type": "stream",
     "text": [
      "Epoch  15 , loss 0.45987641394138334\n",
      "Epoch  16 , loss 0.46046907544136045\n"
     ]
    },
    {
     "name": "stderr",
     "output_type": "stream",
     "text": [
      "\r",
      "Iterations:   6%|█▉                                | 17/300 [00:20<05:48,  1.23s/it]"
     ]
    },
    {
     "name": "stdout",
     "output_type": "stream",
     "text": [
      "Epoch:  16\n",
      "t_loss:  0.46046907544136045 , v_loss:  0.7595992883046468\n",
      "t_acc:  0.6951219512195121 , v_acc:  0.6988636363636364\n",
      "t_recall:  0.5 , v_recall:  0.5\n",
      "t_prec:  0.3475609756097561 , v_prec:  0.3494318181818182\n",
      "t_f:  0.41007194244604317 , v_f:  0.411371237458194\n",
      "////////\n"
     ]
    },
    {
     "name": "stderr",
     "output_type": "stream",
     "text": [
      "\r",
      "Iterations:   6%|██                                | 18/300 [00:21<05:13,  1.11s/it]"
     ]
    },
    {
     "name": "stdout",
     "output_type": "stream",
     "text": [
      "Epoch  17 , loss 0.46200454711914063\n",
      "Epoch  18 , loss 0.45862739443778994\n"
     ]
    },
    {
     "name": "stderr",
     "output_type": "stream",
     "text": [
      "\r",
      "Iterations:   6%|██▏                               | 19/300 [00:22<05:39,  1.21s/it]"
     ]
    },
    {
     "name": "stdout",
     "output_type": "stream",
     "text": [
      "Epoch:  18\n",
      "t_loss:  0.45862739443778994 , v_loss:  0.7567041963338852\n",
      "t_acc:  0.6948092557848655 , v_acc:  0.6988636363636364\n",
      "t_recall:  0.49977507872244714 , v_recall:  0.5\n",
      "t_prec:  0.3475132937128558 , v_prec:  0.3494318181818182\n",
      "t_f:  0.4099630996309963 , v_f:  0.411371237458194\n",
      "////////\n"
     ]
    },
    {
     "name": "stderr",
     "output_type": "stream",
     "text": [
      "\r",
      "Iterations:   7%|██▎                               | 20/300 [00:23<05:19,  1.14s/it]"
     ]
    },
    {
     "name": "stdout",
     "output_type": "stream",
     "text": [
      "Epoch  19 , loss 0.4576194393634796\n",
      "Epoch  20 , loss 0.45373851120471953\n"
     ]
    },
    {
     "name": "stderr",
     "output_type": "stream",
     "text": [
      "\r",
      "Iterations:   7%|██▍                               | 21/300 [00:24<05:36,  1.21s/it]"
     ]
    },
    {
     "name": "stdout",
     "output_type": "stream",
     "text": [
      "Epoch:  20\n",
      "t_loss:  0.45373851120471953 , v_loss:  0.7675427347421646\n",
      "t_acc:  0.6951219512195121 , v_acc:  0.6988636363636364\n",
      "t_recall:  0.5 , v_recall:  0.5\n",
      "t_prec:  0.3475609756097561 , v_prec:  0.3494318181818182\n",
      "t_f:  0.41007194244604317 , v_f:  0.411371237458194\n",
      "////////\n"
     ]
    },
    {
     "name": "stderr",
     "output_type": "stream",
     "text": [
      "\r",
      "Iterations:   7%|██▍                               | 22/300 [00:25<05:06,  1.10s/it]"
     ]
    },
    {
     "name": "stdout",
     "output_type": "stream",
     "text": [
      "Epoch  21 , loss 0.45870310366153716\n",
      "Epoch  22 , loss 0.4527850514650345\n"
     ]
    },
    {
     "name": "stderr",
     "output_type": "stream",
     "text": [
      "\r",
      "Iterations:   8%|██▌                               | 23/300 [00:27<05:30,  1.19s/it]"
     ]
    },
    {
     "name": "stdout",
     "output_type": "stream",
     "text": [
      "Epoch:  22\n",
      "t_loss:  0.4527850514650345 , v_loss:  0.7676561723152796\n",
      "t_acc:  0.6951219512195121 , v_acc:  0.6988636363636364\n",
      "t_recall:  0.5 , v_recall:  0.5\n",
      "t_prec:  0.3475609756097561 , v_prec:  0.3494318181818182\n",
      "t_f:  0.41007194244604317 , v_f:  0.411371237458194\n",
      "////////\n"
     ]
    },
    {
     "name": "stderr",
     "output_type": "stream",
     "text": [
      "\r",
      "Iterations:   8%|██▋                               | 24/300 [00:28<05:13,  1.14s/it]"
     ]
    },
    {
     "name": "stdout",
     "output_type": "stream",
     "text": [
      "Epoch  23 , loss 0.4550654709339142\n",
      "Epoch  24 , loss 0.45578630626201627\n"
     ]
    },
    {
     "name": "stderr",
     "output_type": "stream",
     "text": [
      "\r",
      "Iterations:   8%|██▊                               | 25/300 [00:29<05:37,  1.23s/it]"
     ]
    },
    {
     "name": "stdout",
     "output_type": "stream",
     "text": [
      "Epoch:  24\n",
      "t_loss:  0.45578630626201627 , v_loss:  0.7597204645474752\n",
      "t_acc:  0.6951219512195121 , v_acc:  0.6988636363636364\n",
      "t_recall:  0.5 , v_recall:  0.5\n",
      "t_prec:  0.3475609756097561 , v_prec:  0.3494318181818182\n",
      "t_f:  0.41007194244604317 , v_f:  0.411371237458194\n",
      "////////\n"
     ]
    },
    {
     "name": "stderr",
     "output_type": "stream",
     "text": [
      "\r",
      "Iterations:   9%|██▉                               | 26/300 [00:30<05:05,  1.11s/it]"
     ]
    },
    {
     "name": "stdout",
     "output_type": "stream",
     "text": [
      "Epoch  25 , loss 0.4484850358963013\n",
      "Epoch  26 , loss 0.45877966821193694\n"
     ]
    },
    {
     "name": "stderr",
     "output_type": "stream",
     "text": [
      "\r",
      "Iterations:   9%|███                               | 27/300 [00:31<05:25,  1.19s/it]"
     ]
    },
    {
     "name": "stdout",
     "output_type": "stream",
     "text": [
      "Epoch:  26\n",
      "t_loss:  0.45877966821193694 , v_loss:  0.7581009517113367\n",
      "t_acc:  0.6951219512195121 , v_acc:  0.6988636363636364\n",
      "t_recall:  0.5 , v_recall:  0.5\n",
      "t_prec:  0.3475609756097561 , v_prec:  0.3494318181818182\n",
      "t_f:  0.41007194244604317 , v_f:  0.411371237458194\n",
      "////////\n"
     ]
    },
    {
     "name": "stderr",
     "output_type": "stream",
     "text": [
      "\r",
      "Iterations:   9%|███▏                              | 28/300 [00:32<04:57,  1.09s/it]"
     ]
    },
    {
     "name": "stdout",
     "output_type": "stream",
     "text": [
      "Epoch  27 , loss 0.4573501163721085\n",
      "Epoch  28 , loss 0.4498032867908478\n"
     ]
    },
    {
     "name": "stderr",
     "output_type": "stream",
     "text": [
      "\r",
      "Iterations:  10%|███▎                              | 29/300 [00:34<05:22,  1.19s/it]"
     ]
    },
    {
     "name": "stdout",
     "output_type": "stream",
     "text": [
      "Epoch:  28\n",
      "t_loss:  0.4498032867908478 , v_loss:  0.7553524871667227\n",
      "t_acc:  0.6951219512195121 , v_acc:  0.6988636363636364\n",
      "t_recall:  0.5 , v_recall:  0.5\n",
      "t_prec:  0.3475609756097561 , v_prec:  0.3494318181818182\n",
      "t_f:  0.41007194244604317 , v_f:  0.411371237458194\n",
      "////////\n"
     ]
    },
    {
     "name": "stderr",
     "output_type": "stream",
     "text": [
      "\r",
      "Iterations:  10%|███▍                              | 30/300 [00:35<05:08,  1.14s/it]"
     ]
    },
    {
     "name": "stdout",
     "output_type": "stream",
     "text": [
      "Epoch  29 , loss 0.45329711377620696\n",
      "Epoch  30 , loss 0.4526865327358246\n"
     ]
    },
    {
     "name": "stderr",
     "output_type": "stream",
     "text": [
      "\r",
      "Iterations:  10%|███▌                              | 31/300 [00:36<05:24,  1.20s/it]"
     ]
    },
    {
     "name": "stdout",
     "output_type": "stream",
     "text": [
      "Epoch:  30\n",
      "t_loss:  0.4526865327358246 , v_loss:  0.7538145383199056\n",
      "t_acc:  0.6951219512195121 , v_acc:  0.6988636363636364\n",
      "t_recall:  0.5 , v_recall:  0.5\n",
      "t_prec:  0.3475609756097561 , v_prec:  0.3494318181818182\n",
      "t_f:  0.41007194244604317 , v_f:  0.411371237458194\n",
      "////////\n"
     ]
    },
    {
     "name": "stderr",
     "output_type": "stream",
     "text": [
      "\r",
      "Iterations:  11%|███▋                              | 32/300 [00:37<04:55,  1.10s/it]"
     ]
    },
    {
     "name": "stdout",
     "output_type": "stream",
     "text": [
      "Epoch  31 , loss 0.45063703894615176\n",
      "Epoch  32 , loss 0.45531818866729734\n"
     ]
    },
    {
     "name": "stderr",
     "output_type": "stream",
     "text": [
      "\r",
      "Iterations:  11%|███▋                              | 33/300 [00:38<05:18,  1.19s/it]"
     ]
    },
    {
     "name": "stdout",
     "output_type": "stream",
     "text": [
      "Epoch:  32\n",
      "t_loss:  0.45531818866729734 , v_loss:  0.7548254777987798\n",
      "t_acc:  0.6951219512195121 , v_acc:  0.6988636363636364\n",
      "t_recall:  0.5 , v_recall:  0.5\n",
      "t_prec:  0.3475609756097561 , v_prec:  0.3494318181818182\n",
      "t_f:  0.41007194244604317 , v_f:  0.411371237458194\n",
      "////////\n"
     ]
    },
    {
     "name": "stderr",
     "output_type": "stream",
     "text": [
      "\r",
      "Iterations:  11%|███▊                              | 34/300 [00:39<05:02,  1.14s/it]"
     ]
    },
    {
     "name": "stdout",
     "output_type": "stream",
     "text": [
      "Epoch  33 , loss 0.4526618355512619\n",
      "Epoch  34 , loss 0.4491845393180847\n"
     ]
    },
    {
     "name": "stderr",
     "output_type": "stream",
     "text": [
      "\r",
      "Iterations:  12%|███▉                              | 35/300 [00:41<05:42,  1.29s/it]"
     ]
    },
    {
     "name": "stdout",
     "output_type": "stream",
     "text": [
      "Epoch:  34\n",
      "t_loss:  0.4491845393180847 , v_loss:  0.7498483757177988\n",
      "t_acc:  0.6951219512195121 , v_acc:  0.6988636363636364\n",
      "t_recall:  0.5 , v_recall:  0.5\n",
      "t_prec:  0.3475609756097561 , v_prec:  0.3494318181818182\n",
      "t_f:  0.41007194244604317 , v_f:  0.411371237458194\n",
      "////////\n"
     ]
    },
    {
     "name": "stderr",
     "output_type": "stream",
     "text": [
      "\r",
      "Iterations:  12%|████                              | 36/300 [00:42<05:14,  1.19s/it]"
     ]
    },
    {
     "name": "stdout",
     "output_type": "stream",
     "text": [
      "Epoch  35 , loss 0.4463542580604553\n",
      "Epoch  36 , loss 0.45036847829818727\n"
     ]
    },
    {
     "name": "stderr",
     "output_type": "stream",
     "text": [
      "\r",
      "Iterations:  12%|████▏                             | 37/300 [00:43<05:32,  1.26s/it]"
     ]
    },
    {
     "name": "stdout",
     "output_type": "stream",
     "text": [
      "Epoch:  36\n",
      "t_loss:  0.45036847829818727 , v_loss:  0.753730297088623\n",
      "t_acc:  0.6951219512195121 , v_acc:  0.6988636363636364\n",
      "t_recall:  0.5 , v_recall:  0.5\n",
      "t_prec:  0.3475609756097561 , v_prec:  0.3494318181818182\n",
      "t_f:  0.41007194244604317 , v_f:  0.411371237458194\n",
      "////////\n"
     ]
    },
    {
     "name": "stderr",
     "output_type": "stream",
     "text": [
      "\r",
      "Iterations:  13%|████▎                             | 38/300 [00:44<04:59,  1.14s/it]"
     ]
    },
    {
     "name": "stdout",
     "output_type": "stream",
     "text": [
      "Epoch  37 , loss 0.447173969745636\n",
      "Epoch  38 , loss 0.4474117714166641\n"
     ]
    },
    {
     "name": "stderr",
     "output_type": "stream",
     "text": [
      "\r",
      "Iterations:  13%|████▍                             | 39/300 [00:46<05:24,  1.24s/it]"
     ]
    },
    {
     "name": "stdout",
     "output_type": "stream",
     "text": [
      "Epoch:  38\n",
      "t_loss:  0.4474117714166641 , v_loss:  0.7508795261383057\n",
      "t_acc:  0.6951219512195121 , v_acc:  0.6988636363636364\n",
      "t_recall:  0.5 , v_recall:  0.5\n",
      "t_prec:  0.3475609756097561 , v_prec:  0.3494318181818182\n",
      "t_f:  0.41007194244604317 , v_f:  0.411371237458194\n",
      "////////\n"
     ]
    },
    {
     "name": "stderr",
     "output_type": "stream",
     "text": [
      "\r",
      "Iterations:  13%|████▌                             | 40/300 [00:47<04:54,  1.13s/it]"
     ]
    },
    {
     "name": "stdout",
     "output_type": "stream",
     "text": [
      "Epoch  39 , loss 0.44543022751808165\n",
      "Epoch  40 , loss 0.4430666625499725\n"
     ]
    },
    {
     "name": "stderr",
     "output_type": "stream",
     "text": [
      "\r",
      "Iterations:  14%|████▋                             | 41/300 [00:48<05:16,  1.22s/it]"
     ]
    },
    {
     "name": "stdout",
     "output_type": "stream",
     "text": [
      "Epoch:  40\n",
      "t_loss:  0.4430666625499725 , v_loss:  0.7519787698984146\n",
      "t_acc:  0.6948092557848655 , v_acc:  0.6988636363636364\n",
      "t_recall:  0.49977507872244714 , v_recall:  0.5\n",
      "t_prec:  0.3475132937128558 , v_prec:  0.3494318181818182\n",
      "t_f:  0.4099630996309963 , v_f:  0.411371237458194\n",
      "////////\n"
     ]
    },
    {
     "name": "stderr",
     "output_type": "stream",
     "text": [
      "\r",
      "Iterations:  14%|████▊                             | 42/300 [00:49<04:59,  1.16s/it]"
     ]
    },
    {
     "name": "stdout",
     "output_type": "stream",
     "text": [
      "Epoch  41 , loss 0.44748218774795534\n",
      "Epoch  42 , loss 0.44400377094745636\n"
     ]
    },
    {
     "name": "stderr",
     "output_type": "stream",
     "text": [
      "\r",
      "Iterations:  14%|████▊                             | 43/300 [00:50<05:13,  1.22s/it]"
     ]
    },
    {
     "name": "stdout",
     "output_type": "stream",
     "text": [
      "Epoch:  42\n",
      "t_loss:  0.44400377094745636 , v_loss:  0.7482739935318629\n",
      "t_acc:  0.6951219512195121 , v_acc:  0.6988636363636364\n",
      "t_recall:  0.5 , v_recall:  0.5\n",
      "t_prec:  0.3475609756097561 , v_prec:  0.3494318181818182\n",
      "t_f:  0.41007194244604317 , v_f:  0.411371237458194\n",
      "////////\n"
     ]
    },
    {
     "name": "stderr",
     "output_type": "stream",
     "text": [
      "\r",
      "Iterations:  15%|████▉                             | 44/300 [00:51<04:46,  1.12s/it]"
     ]
    },
    {
     "name": "stdout",
     "output_type": "stream",
     "text": [
      "Epoch  43 , loss 0.4457355904579163\n",
      "Epoch  44 , loss 0.4457844579219818\n"
     ]
    },
    {
     "name": "stderr",
     "output_type": "stream",
     "text": [
      "\r",
      "Iterations:  15%|█████                             | 45/300 [00:53<05:03,  1.19s/it]"
     ]
    },
    {
     "name": "stdout",
     "output_type": "stream",
     "text": [
      "Epoch:  44\n",
      "t_loss:  0.4457844579219818 , v_loss:  0.7486885885397593\n",
      "t_acc:  0.6948092557848655 , v_acc:  0.6988636363636364\n",
      "t_recall:  0.49977507872244714 , v_recall:  0.5\n",
      "t_prec:  0.3475132937128558 , v_prec:  0.3494318181818182\n",
      "t_f:  0.4099630996309963 , v_f:  0.411371237458194\n",
      "////////\n"
     ]
    },
    {
     "name": "stderr",
     "output_type": "stream",
     "text": [
      "\r",
      "Iterations:  15%|█████▏                            | 46/300 [00:54<04:43,  1.12s/it]"
     ]
    },
    {
     "name": "stdout",
     "output_type": "stream",
     "text": [
      "Epoch  45 , loss 0.4398395776748657\n",
      "Epoch  46 , loss 0.43959118366241456\n"
     ]
    },
    {
     "name": "stderr",
     "output_type": "stream",
     "text": [
      "\r",
      "Iterations:  16%|█████▎                            | 47/300 [00:55<05:17,  1.25s/it]"
     ]
    },
    {
     "name": "stdout",
     "output_type": "stream",
     "text": [
      "Epoch:  46\n",
      "t_loss:  0.43959118366241456 , v_loss:  0.7432549347480139\n",
      "t_acc:  0.6954346466541589 , v_acc:  0.6988636363636364\n",
      "t_recall:  0.5005128205128205 , v_recall:  0.5\n",
      "t_prec:  0.8476696903346888 , v_prec:  0.3494318181818182\n",
      "t_f:  0.41117219163994917 , v_f:  0.411371237458194\n",
      "////////\n"
     ]
    },
    {
     "name": "stderr",
     "output_type": "stream",
     "text": [
      "\r",
      "Iterations:  16%|█████▍                            | 48/300 [00:56<05:02,  1.20s/it]"
     ]
    },
    {
     "name": "stdout",
     "output_type": "stream",
     "text": [
      "Epoch  47 , loss 0.43614588260650633\n",
      "Epoch  48 , loss 0.44386903405189515\n"
     ]
    },
    {
     "name": "stderr",
     "output_type": "stream",
     "text": [
      "\r",
      "Iterations:  16%|█████▌                            | 49/300 [00:58<05:27,  1.30s/it]"
     ]
    },
    {
     "name": "stdout",
     "output_type": "stream",
     "text": [
      "Epoch:  48\n",
      "t_loss:  0.44386903405189515 , v_loss:  0.7368398308753967\n",
      "t_acc:  0.6954346466541589 , v_acc:  0.6988636363636364\n",
      "t_recall:  0.5008007197480882 , v_recall:  0.5\n",
      "t_prec:  0.6810641627543036 , v_prec:  0.3494318181818182\n",
      "t_f:  0.41215942314529846 , v_f:  0.411371237458194\n",
      "////////\n"
     ]
    },
    {
     "name": "stderr",
     "output_type": "stream",
     "text": [
      "\r",
      "Iterations:  17%|█████▋                            | 50/300 [00:59<04:55,  1.18s/it]"
     ]
    },
    {
     "name": "stdout",
     "output_type": "stream",
     "text": [
      "Epoch  49 , loss 0.4354386305809021\n",
      "Epoch  50 , loss 0.43717169046401977\n"
     ]
    },
    {
     "name": "stderr",
     "output_type": "stream",
     "text": [
      "\r",
      "Iterations:  17%|█████▊                            | 51/300 [01:00<05:10,  1.25s/it]"
     ]
    },
    {
     "name": "stdout",
     "output_type": "stream",
     "text": [
      "Epoch:  50\n",
      "t_loss:  0.43717169046401977 , v_loss:  0.7356305420398712\n",
      "t_acc:  0.6957473420888055 , v_acc:  0.6988636363636364\n",
      "t_recall:  0.5013135402609087 , v_recall:  0.5\n",
      "t_prec:  0.7228396994364433 , v_prec:  0.3494318181818182\n",
      "t_f:  0.41325449352405685 , v_f:  0.411371237458194\n",
      "////////\n"
     ]
    },
    {
     "name": "stderr",
     "output_type": "stream",
     "text": [
      "\r",
      "Iterations:  17%|█████▉                            | 52/300 [01:01<04:41,  1.14s/it]"
     ]
    },
    {
     "name": "stdout",
     "output_type": "stream",
     "text": [
      "Epoch  51 , loss 0.43433437407016756\n",
      "Epoch  52 , loss 0.43076822340488435\n"
     ]
    },
    {
     "name": "stderr",
     "output_type": "stream",
     "text": [
      "\r",
      "Iterations:  18%|██████                            | 53/300 [01:03<05:13,  1.27s/it]"
     ]
    },
    {
     "name": "stdout",
     "output_type": "stream",
     "text": [
      "Epoch:  52\n",
      "t_loss:  0.43076822340488435 , v_loss:  0.7405155946811041\n",
      "t_acc:  0.6960600375234521 , v_acc:  0.6988636363636364\n",
      "t_recall:  0.5018263607737292 , v_recall:  0.5\n",
      "t_prec:  0.7479486376448481 , v_prec:  0.3494318181818182\n",
      "t_f:  0.41434751153046157 , v_f:  0.411371237458194\n",
      "////////\n"
     ]
    },
    {
     "name": "stderr",
     "output_type": "stream",
     "text": [
      "\r",
      "Iterations:  18%|██████                            | 54/300 [01:03<04:48,  1.17s/it]"
     ]
    },
    {
     "name": "stdout",
     "output_type": "stream",
     "text": [
      "Epoch  53 , loss 0.4309560340642929\n",
      "Epoch  54 , loss 0.43203567385673525\n"
     ]
    },
    {
     "name": "stderr",
     "output_type": "stream",
     "text": [
      "\r",
      "Iterations:  18%|██████▏                           | 55/300 [01:05<05:03,  1.24s/it]"
     ]
    },
    {
     "name": "stdout",
     "output_type": "stream",
     "text": [
      "Epoch:  54\n",
      "t_loss:  0.43203567385673525 , v_loss:  0.7420587589343389\n",
      "t_acc:  0.6938711694809255 , v_acc:  0.6988636363636364\n",
      "t_recall:  0.49910031488978857 , v_recall:  0.5\n",
      "t_prec:  0.3473700688791484 , v_prec:  0.3494318181818182\n",
      "t_f:  0.4096363300719956 , v_f:  0.411371237458194\n",
      "////////\n"
     ]
    },
    {
     "name": "stderr",
     "output_type": "stream",
     "text": [
      "\r",
      "Iterations:  19%|██████▎                           | 56/300 [01:06<04:51,  1.19s/it]"
     ]
    },
    {
     "name": "stdout",
     "output_type": "stream",
     "text": [
      "Epoch  55 , loss 0.431416922211647\n",
      "Epoch  56 , loss 0.43485964596271515\n"
     ]
    },
    {
     "name": "stderr",
     "output_type": "stream",
     "text": [
      "\r",
      "Iterations:  19%|██████▍                           | 57/300 [01:07<05:03,  1.25s/it]"
     ]
    },
    {
     "name": "stdout",
     "output_type": "stream",
     "text": [
      "Epoch:  56\n",
      "t_loss:  0.43485964596271515 , v_loss:  0.7397377441326777\n",
      "t_acc:  0.6948092557848655 , v_acc:  0.6988636363636364\n",
      "t_recall:  0.5003508771929824 , v_recall:  0.5\n",
      "t_prec:  0.5476354525524585 , v_prec:  0.3494318181818182\n",
      "t_f:  0.4119374189853194 , v_f:  0.411371237458194\n",
      "////////\n"
     ]
    },
    {
     "name": "stderr",
     "output_type": "stream",
     "text": [
      "\r",
      "Iterations:  19%|██████▌                           | 58/300 [01:08<04:37,  1.15s/it]"
     ]
    },
    {
     "name": "stdout",
     "output_type": "stream",
     "text": [
      "Epoch  57 , loss 0.43312339305877684\n",
      "Epoch  58 , loss 0.4313897877931595\n"
     ]
    },
    {
     "name": "stderr",
     "output_type": "stream",
     "text": [
      "\r",
      "Iterations:  20%|██████▋                           | 59/300 [01:10<04:53,  1.22s/it]"
     ]
    },
    {
     "name": "stdout",
     "output_type": "stream",
     "text": [
      "Epoch:  58\n",
      "t_loss:  0.4313897877931595 , v_loss:  0.7342499444882075\n",
      "t_acc:  0.6957473420888055 , v_acc:  0.6988636363636364\n",
      "t_recall:  0.5021772379667117 , v_recall:  0.5\n",
      "t_prec:  0.6480238393977416 , v_prec:  0.3494318181818182\n",
      "t_f:  0.4161819268326318 , v_f:  0.411371237458194\n",
      "////////\n"
     ]
    },
    {
     "name": "stderr",
     "output_type": "stream",
     "text": [
      "\r",
      "Iterations:  20%|██████▊                           | 60/300 [01:11<04:34,  1.14s/it]"
     ]
    },
    {
     "name": "stdout",
     "output_type": "stream",
     "text": [
      "Epoch  59 , loss 0.429939421415329\n",
      "Epoch  60 , loss 0.42568713903427124\n"
     ]
    },
    {
     "name": "stderr",
     "output_type": "stream",
     "text": [
      "\r",
      "Iterations:  20%|██████▉                           | 61/300 [01:12<05:05,  1.28s/it]"
     ]
    },
    {
     "name": "stdout",
     "output_type": "stream",
     "text": [
      "Epoch:  60\n",
      "t_loss:  0.42568713903427124 , v_loss:  0.7378324419260025\n",
      "t_acc:  0.6969981238273921 , v_acc:  0.6988636363636364\n",
      "t_recall:  0.5039406207827261 , v_recall:  0.5\n",
      "t_prec:  0.7233992467043315 , v_prec:  0.3494318181818182\n",
      "t_f:  0.4195456070345439 , v_f:  0.411371237458194\n",
      "////////\n"
     ]
    },
    {
     "name": "stderr",
     "output_type": "stream",
     "text": [
      "\r",
      "Iterations:  21%|███████                           | 62/300 [01:13<04:43,  1.19s/it]"
     ]
    },
    {
     "name": "stdout",
     "output_type": "stream",
     "text": [
      "Epoch  61 , loss 0.42658982396125794\n",
      "Epoch  62 , loss 0.4270426881313324\n"
     ]
    },
    {
     "name": "stderr",
     "output_type": "stream",
     "text": [
      "\r",
      "Iterations:  21%|███████▏                          | 63/300 [01:15<04:59,  1.26s/it]"
     ]
    },
    {
     "name": "stdout",
     "output_type": "stream",
     "text": [
      "Epoch:  62\n",
      "t_loss:  0.4270426881313324 , v_loss:  0.7406213879585266\n",
      "t_acc:  0.6960600375234521 , v_acc:  0.6988636363636364\n",
      "t_recall:  0.5035537561853352 , v_recall:  0.5\n",
      "t_prec:  0.6424357860088392 , v_prec:  0.3494318181818182\n",
      "t_f:  0.4201472624817937 , v_f:  0.411371237458194\n",
      "////////\n"
     ]
    },
    {
     "name": "stderr",
     "output_type": "stream",
     "text": [
      "\r",
      "Iterations:  21%|███████▎                          | 64/300 [01:15<04:28,  1.14s/it]"
     ]
    },
    {
     "name": "stdout",
     "output_type": "stream",
     "text": [
      "Epoch  63 , loss 0.42384960293769836\n",
      "Epoch  64 , loss 0.4292837077379227\n"
     ]
    },
    {
     "name": "stderr",
     "output_type": "stream",
     "text": [
      "\r",
      "Iterations:  22%|███████▎                          | 65/300 [01:17<04:50,  1.23s/it]"
     ]
    },
    {
     "name": "stdout",
     "output_type": "stream",
     "text": [
      "Epoch:  64\n",
      "t_loss:  0.4292837077379227 , v_loss:  0.7369322528441747\n",
      "t_acc:  0.6979362101313321 , v_acc:  0.6988636363636364\n",
      "t_recall:  0.5054790823211875 , v_recall:  0.5\n",
      "t_prec:  0.748727615457116 , v_prec:  0.3494318181818182\n",
      "t_f:  0.4227760400901356 , v_f:  0.411371237458194\n",
      "////////\n"
     ]
    },
    {
     "name": "stderr",
     "output_type": "stream",
     "text": [
      "\r",
      "Iterations:  22%|███████▍                          | 66/300 [01:18<04:25,  1.14s/it]"
     ]
    },
    {
     "name": "stdout",
     "output_type": "stream",
     "text": [
      "Epoch  65 , loss 0.4224294501543045\n",
      "Epoch  66 , loss 0.4227721291780472\n"
     ]
    },
    {
     "name": "stderr",
     "output_type": "stream",
     "text": [
      "\r",
      "Iterations:  22%|███████▌                          | 67/300 [01:19<04:49,  1.24s/it]"
     ]
    },
    {
     "name": "stdout",
     "output_type": "stream",
     "text": [
      "Epoch:  66\n",
      "t_loss:  0.4227721291780472 , v_loss:  0.7356836100419363\n",
      "t_acc:  0.6963727329580988 , v_acc:  0.6988636363636364\n",
      "t_recall:  0.5057939721097615 , v_recall:  0.5\n",
      "t_prec:  0.6321338383838384 , v_prec:  0.3494318181818182\n",
      "t_f:  0.4268579196394211 , v_f:  0.411371237458194\n",
      "////////\n"
     ]
    },
    {
     "name": "stderr",
     "output_type": "stream",
     "text": [
      "\r",
      "Iterations:  23%|███████▋                          | 68/300 [01:20<04:32,  1.17s/it]"
     ]
    },
    {
     "name": "stdout",
     "output_type": "stream",
     "text": [
      "Epoch  67 , loss 0.42790477216243744\n",
      "Epoch  68 , loss 0.42428888380527496\n"
     ]
    },
    {
     "name": "stderr",
     "output_type": "stream",
     "text": [
      "\r",
      "Iterations:  23%|███████▊                          | 69/300 [01:22<04:42,  1.22s/it]"
     ]
    },
    {
     "name": "stdout",
     "output_type": "stream",
     "text": [
      "Epoch:  68\n",
      "t_loss:  0.42428888380527496 , v_loss:  0.7359251528978348\n",
      "t_acc:  0.6960600375234521 , v_acc:  0.6988636363636364\n",
      "t_recall:  0.5052811515969411 , v_recall:  0.5\n",
      "t_prec:  0.6245525075896889 , v_prec:  0.3494318181818182\n",
      "t_f:  0.42580272382280965 , v_f:  0.411371237458194\n",
      "////////\n"
     ]
    },
    {
     "name": "stderr",
     "output_type": "stream",
     "text": [
      "\r",
      "Iterations:  23%|███████▉                          | 70/300 [01:23<04:16,  1.12s/it]"
     ]
    },
    {
     "name": "stdout",
     "output_type": "stream",
     "text": [
      "Epoch  69 , loss 0.42478530704975126\n",
      "Epoch  70 , loss 0.426234695315361\n"
     ]
    },
    {
     "name": "stderr",
     "output_type": "stream",
     "text": [
      "\r",
      "Iterations:  24%|████████                          | 71/300 [01:24<04:33,  1.19s/it]"
     ]
    },
    {
     "name": "stdout",
     "output_type": "stream",
     "text": [
      "Epoch:  70\n",
      "t_loss:  0.426234695315361 , v_loss:  0.732888326048851\n",
      "t_acc:  0.6969981238273921 , v_acc:  0.6988636363636364\n",
      "t_recall:  0.5059559154295996 , v_recall:  0.5\n",
      "t_prec:  0.6565258511979823 , v_prec:  0.3494318181818182\n",
      "t_f:  0.426178640636472 , v_f:  0.411371237458194\n",
      "////////\n"
     ]
    },
    {
     "name": "stderr",
     "output_type": "stream",
     "text": [
      "\r",
      "Iterations:  24%|████████▏                         | 72/300 [01:25<04:16,  1.13s/it]"
     ]
    },
    {
     "name": "stdout",
     "output_type": "stream",
     "text": [
      "Epoch  71 , loss 0.4264994966983795\n",
      "Epoch  72 , loss 0.4228354424238205\n"
     ]
    },
    {
     "name": "stderr",
     "output_type": "stream",
     "text": [
      "\r",
      "Iterations:  24%|████████▎                         | 73/300 [01:26<04:48,  1.27s/it]"
     ]
    },
    {
     "name": "stdout",
     "output_type": "stream",
     "text": [
      "Epoch:  72\n",
      "t_loss:  0.4228354424238205 , v_loss:  0.7311068723599116\n",
      "t_acc:  0.699812382739212 , v_acc:  0.6988636363636364\n",
      "t_recall:  0.5105713000449842 , v_recall:  0.5\n",
      "t_prec:  0.7069689715911658 , v_prec:  0.3494318181818182\n",
      "t_f:  0.4356325346608185 , v_f:  0.411371237458194\n",
      "////////\n"
     ]
    },
    {
     "name": "stderr",
     "output_type": "stream",
     "text": [
      "\r",
      "Iterations:  25%|████████▍                         | 74/300 [01:27<04:25,  1.18s/it]"
     ]
    },
    {
     "name": "stdout",
     "output_type": "stream",
     "text": [
      "Epoch  73 , loss 0.4223913127183914\n",
      "Epoch  74 , loss 0.41787086486816405\n"
     ]
    },
    {
     "name": "stderr",
     "output_type": "stream",
     "text": [
      "\r",
      "Iterations:  25%|████████▌                         | 75/300 [01:29<04:38,  1.24s/it]"
     ]
    },
    {
     "name": "stdout",
     "output_type": "stream",
     "text": [
      "Epoch:  74\n",
      "t_loss:  0.41787086486816405 , v_loss:  0.7277997533480326\n",
      "t_acc:  0.7004377736085053 , v_acc:  0.6988636363636364\n",
      "t_recall:  0.5110211426000899 , v_recall:  0.5\n",
      "t_prec:  0.7287088898463305 , v_prec:  0.3494318181818182\n",
      "t_f:  0.4359003252377417 , v_f:  0.411371237458194\n",
      "////////\n"
     ]
    },
    {
     "name": "stderr",
     "output_type": "stream",
     "text": [
      "\r",
      "Iterations:  25%|████████▌                         | 76/300 [01:30<04:09,  1.12s/it]"
     ]
    },
    {
     "name": "stdout",
     "output_type": "stream",
     "text": [
      "Epoch  75 , loss 0.42595363438129424\n",
      "Epoch  76 , loss 0.42537103056907655\n"
     ]
    },
    {
     "name": "stderr",
     "output_type": "stream",
     "text": [
      "\r",
      "Iterations:  26%|████████▋                         | 77/300 [01:31<04:34,  1.23s/it]"
     ]
    },
    {
     "name": "stdout",
     "output_type": "stream",
     "text": [
      "Epoch:  76\n",
      "t_loss:  0.42537103056907655 , v_loss:  0.7285372714201609\n",
      "t_acc:  0.6979362101313321 , v_acc:  0.6988636363636364\n",
      "t_recall:  0.5095096716149348 , v_recall:  0.5\n",
      "t_prec:  0.6519293848818781 , v_prec:  0.3494318181818182\n",
      "t_f:  0.435729936633348 , v_f:  0.411371237458194\n",
      "////////\n"
     ]
    },
    {
     "name": "stderr",
     "output_type": "stream",
     "text": [
      "\r",
      "Iterations:  26%|████████▊                         | 78/300 [01:32<04:07,  1.12s/it]"
     ]
    },
    {
     "name": "stdout",
     "output_type": "stream",
     "text": [
      "Epoch  77 , loss 0.4186831885576248\n",
      "Epoch  78 , loss 0.4223928648233414\n"
     ]
    },
    {
     "name": "stderr",
     "output_type": "stream",
     "text": [
      "\r",
      "Iterations:  26%|████████▉                         | 79/300 [01:33<04:22,  1.19s/it]"
     ]
    },
    {
     "name": "stdout",
     "output_type": "stream",
     "text": [
      "Epoch:  78\n",
      "t_loss:  0.4223928648233414 , v_loss:  0.7266814659039179\n",
      "t_acc:  0.6994996873045654 , v_acc:  0.6931818181818182\n",
      "t_recall:  0.5109221772379667 , v_recall:  0.4959349593495935\n",
      "t_prec:  0.6874050031665611 , v_prec:  0.3485714285714286\n",
      "t_f:  0.4373053152718514 , v_f:  0.40939597315436244\n",
      "////////\n"
     ]
    },
    {
     "name": "stderr",
     "output_type": "stream",
     "text": [
      "\r",
      "Iterations:  27%|█████████                         | 80/300 [01:34<04:11,  1.14s/it]"
     ]
    },
    {
     "name": "stdout",
     "output_type": "stream",
     "text": [
      "Epoch  79 , loss 0.4200762552022934\n",
      "Epoch  80 , loss 0.41970404863357547\n"
     ]
    },
    {
     "name": "stderr",
     "output_type": "stream",
     "text": [
      "\r",
      "Iterations:  27%|█████████▏                        | 81/300 [01:36<04:23,  1.20s/it]"
     ]
    },
    {
     "name": "stdout",
     "output_type": "stream",
     "text": [
      "Epoch:  80\n",
      "t_loss:  0.41970404863357547 , v_loss:  0.7268307755390803\n",
      "t_acc:  0.7001250781738587 , v_acc:  0.6931818181818182\n",
      "t_recall:  0.5122357174988754 , v_recall:  0.4959349593495935\n",
      "t_prec:  0.6910993255317922 , v_prec:  0.3485714285714286\n",
      "t_f:  0.4402645075534347 , v_f:  0.40939597315436244\n",
      "////////\n"
     ]
    },
    {
     "name": "stderr",
     "output_type": "stream",
     "text": [
      "\r",
      "Iterations:  27%|█████████▎                        | 82/300 [01:37<04:00,  1.10s/it]"
     ]
    },
    {
     "name": "stdout",
     "output_type": "stream",
     "text": [
      "Epoch  81 , loss 0.41639561116695406\n",
      "Epoch  82 , loss 0.4222068762779236\n"
     ]
    },
    {
     "name": "stderr",
     "output_type": "stream",
     "text": [
      "\r",
      "Iterations:  28%|█████████▍                        | 83/300 [01:38<04:17,  1.19s/it]"
     ]
    },
    {
     "name": "stdout",
     "output_type": "stream",
     "text": [
      "Epoch:  82\n",
      "t_loss:  0.4222068762779236 , v_loss:  0.7218706756830215\n",
      "t_acc:  0.700750469043152 , v_acc:  0.6931818181818182\n",
      "t_recall:  0.5121097615834458 , v_recall:  0.4959349593495935\n",
      "t_prec:  0.7185792804796802 , v_prec:  0.3485714285714286\n",
      "t_f:  0.4387497182732595 , v_f:  0.40939597315436244\n",
      "////////\n"
     ]
    },
    {
     "name": "stderr",
     "output_type": "stream",
     "text": [
      "\r",
      "Iterations:  28%|█████████▌                        | 84/300 [01:39<04:09,  1.15s/it]"
     ]
    },
    {
     "name": "stdout",
     "output_type": "stream",
     "text": [
      "Epoch  83 , loss 0.422407973408699\n",
      "Epoch  84 , loss 0.42004245698452\n"
     ]
    },
    {
     "name": "stderr",
     "output_type": "stream",
     "text": [
      "\r",
      "Iterations:  28%|█████████▋                        | 85/300 [01:41<04:35,  1.28s/it]"
     ]
    },
    {
     "name": "stdout",
     "output_type": "stream",
     "text": [
      "Epoch:  84\n",
      "t_loss:  0.42004245698452 , v_loss:  0.7219168494145075\n",
      "t_acc:  0.7010631644777986 , v_acc:  0.6931818181818182\n",
      "t_recall:  0.5137741790373369 , v_recall:  0.4959349593495935\n",
      "t_prec:  0.7015874730750792 , v_prec:  0.3485714285714286\n",
      "t_f:  0.44334284738361196 , v_f:  0.40939597315436244\n",
      "////////\n"
     ]
    },
    {
     "name": "stderr",
     "output_type": "stream",
     "text": [
      "\r",
      "Iterations:  29%|█████████▋                        | 86/300 [01:42<04:08,  1.16s/it]"
     ]
    },
    {
     "name": "stdout",
     "output_type": "stream",
     "text": [
      "Epoch  85 , loss 0.41579691231250765\n",
      "Epoch  86 , loss 0.41928532779216765\n"
     ]
    },
    {
     "name": "stderr",
     "output_type": "stream",
     "text": [
      "\r",
      "Iterations:  29%|█████████▊                        | 87/300 [01:43<04:19,  1.22s/it]"
     ]
    },
    {
     "name": "stdout",
     "output_type": "stream",
     "text": [
      "Epoch:  86\n",
      "t_loss:  0.41928532779216765 , v_loss:  0.7180482149124146\n",
      "t_acc:  0.701688555347092 , v_acc:  0.6931818181818182\n",
      "t_recall:  0.514799820062978 , v_recall:  0.4959349593495935\n",
      "t_prec:  0.7078891257995736 , v_prec:  0.3485714285714286\n",
      "t_f:  0.44538594215376026 , v_f:  0.40939597315436244\n",
      "////////\n"
     ]
    },
    {
     "name": "stderr",
     "output_type": "stream",
     "text": [
      "\r",
      "Iterations:  29%|█████████▉                        | 88/300 [01:44<03:55,  1.11s/it]"
     ]
    },
    {
     "name": "stdout",
     "output_type": "stream",
     "text": [
      "Epoch  87 , loss 0.4179450803995132\n",
      "Epoch  88 , loss 0.41887269496917723\n"
     ]
    },
    {
     "name": "stderr",
     "output_type": "stream",
     "text": [
      "\r",
      "Iterations:  30%|██████████                        | 89/300 [01:45<04:19,  1.23s/it]"
     ]
    },
    {
     "name": "stdout",
     "output_type": "stream",
     "text": [
      "Epoch:  88\n",
      "t_loss:  0.41887269496917723 , v_loss:  0.7152379800875982\n",
      "t_acc:  0.699812382739212 , v_acc:  0.6931818181818182\n",
      "t_recall:  0.5122986954565902 , v_recall:  0.4959349593495935\n",
      "t_prec:  0.6799935177620073 , v_prec:  0.3485714285714286\n",
      "t_f:  0.4410137379584387 , v_f:  0.40939597315436244\n",
      "////////\n"
     ]
    },
    {
     "name": "stderr",
     "output_type": "stream",
     "text": [
      "\r",
      "Iterations:  30%|██████████▏                       | 90/300 [01:46<03:58,  1.14s/it]"
     ]
    },
    {
     "name": "stdout",
     "output_type": "stream",
     "text": [
      "Epoch  89 , loss 0.41796474158763885\n",
      "Epoch  90 , loss 0.4197713625431061\n"
     ]
    },
    {
     "name": "stderr",
     "output_type": "stream",
     "text": [
      "\r",
      "Iterations:  30%|██████████▎                       | 91/300 [01:48<04:15,  1.22s/it]"
     ]
    },
    {
     "name": "stdout",
     "output_type": "stream",
     "text": [
      "Epoch:  90\n",
      "t_loss:  0.4197713625431061 , v_loss:  0.7151355495055517\n",
      "t_acc:  0.7020012507817386 , v_acc:  0.6931818181818182\n",
      "t_recall:  0.5150247413405308 , v_recall:  0.4959349593495935\n",
      "t_prec:  0.7153769841269841 , v_prec:  0.3485714285714286\n",
      "t_f:  0.4455289371807446 , v_f:  0.40939597315436244\n",
      "////////\n"
     ]
    },
    {
     "name": "stderr",
     "output_type": "stream",
     "text": [
      "\r",
      "Iterations:  31%|██████████▍                       | 92/300 [01:49<04:03,  1.17s/it]"
     ]
    },
    {
     "name": "stdout",
     "output_type": "stream",
     "text": [
      "Epoch  91 , loss 0.4185421395301819\n",
      "Epoch  92 , loss 0.41570737063884733\n"
     ]
    },
    {
     "name": "stderr",
     "output_type": "stream",
     "text": [
      "\r",
      "Iterations:  31%|██████████▌                       | 93/300 [01:50<04:15,  1.24s/it]"
     ]
    },
    {
     "name": "stdout",
     "output_type": "stream",
     "text": [
      "Epoch:  92\n",
      "t_loss:  0.41570737063884733 , v_loss:  0.7126227815945944\n",
      "t_acc:  0.7045028142589118 , v_acc:  0.6931818181818182\n",
      "t_recall:  0.518263607737292 , v_recall:  0.4959349593495935\n",
      "t_prec:  0.7514930114358322 , v_prec:  0.3485714285714286\n",
      "t_f:  0.45105194563396017 , v_f:  0.40939597315436244\n",
      "////////\n"
     ]
    },
    {
     "name": "stderr",
     "output_type": "stream",
     "text": [
      "\r",
      "Iterations:  31%|██████████▋                       | 94/300 [01:51<03:52,  1.13s/it]"
     ]
    },
    {
     "name": "stdout",
     "output_type": "stream",
     "text": [
      "Epoch  93 , loss 0.4176897233724594\n",
      "Epoch  94 , loss 0.4170019537210464\n"
     ]
    },
    {
     "name": "stderr",
     "output_type": "stream",
     "text": [
      "\r",
      "Iterations:  32%|██████████▊                       | 95/300 [01:52<04:06,  1.20s/it]"
     ]
    },
    {
     "name": "stdout",
     "output_type": "stream",
     "text": [
      "Epoch:  94\n",
      "t_loss:  0.4170019537210464 , v_loss:  0.709884911775589\n",
      "t_acc:  0.7035647279549718 , v_acc:  0.6931818181818182\n",
      "t_recall:  0.5173009446693657 , v_recall:  0.4959349593495935\n",
      "t_prec:  0.7336398811192733 , v_prec:  0.3485714285714286\n",
      "t_f:  0.44974353948185175 , v_f:  0.40939597315436244\n",
      "////////\n"
     ]
    },
    {
     "name": "stderr",
     "output_type": "stream",
     "text": [
      "\r",
      "Iterations:  32%|██████████▉                       | 96/300 [01:53<03:59,  1.18s/it]"
     ]
    },
    {
     "name": "stdout",
     "output_type": "stream",
     "text": [
      "Epoch  95 , loss 0.41270871937274933\n",
      "Epoch  96 , loss 0.413484662771225\n"
     ]
    },
    {
     "name": "stderr",
     "output_type": "stream",
     "text": [
      "\r",
      "Iterations:  32%|██████████▉                       | 97/300 [01:55<04:22,  1.29s/it]"
     ]
    },
    {
     "name": "stdout",
     "output_type": "stream",
     "text": [
      "Epoch:  96\n",
      "t_loss:  0.413484662771225 , v_loss:  0.7079904228448868\n",
      "t_acc:  0.700750469043152 , v_acc:  0.6931818181818182\n",
      "t_recall:  0.517004048582996 , v_recall:  0.4959349593495935\n",
      "t_prec:  0.6637476007677543 , v_prec:  0.3485714285714286\n",
      "t_f:  0.4535239696143295 , v_f:  0.40939597315436244\n",
      "////////\n"
     ]
    },
    {
     "name": "stderr",
     "output_type": "stream",
     "text": [
      "\r",
      "Iterations:  33%|███████████                       | 98/300 [01:56<03:57,  1.18s/it]"
     ]
    },
    {
     "name": "stdout",
     "output_type": "stream",
     "text": [
      "Epoch  97 , loss 0.416619656085968\n",
      "Epoch  98 , loss 0.4184733289480209\n"
     ]
    },
    {
     "name": "stderr",
     "output_type": "stream",
     "text": [
      "\r",
      "Iterations:  33%|███████████▏                      | 99/300 [01:57<04:08,  1.24s/it]"
     ]
    },
    {
     "name": "stdout",
     "output_type": "stream",
     "text": [
      "Epoch:  98\n",
      "t_loss:  0.4184733289480209 , v_loss:  0.7078745017449061\n",
      "t_acc:  0.7013758599124453 , v_acc:  0.7102272727272727\n",
      "t_recall:  0.5165901934322987 , v_recall:  0.5242368461420464\n",
      "t_prec:  0.679273691767709 , v_prec:  0.7296511627906976\n",
      "t_f:  0.45128777383373797 , v_f:  0.4661909009812667\n",
      "////////\n"
     ]
    },
    {
     "name": "stderr",
     "output_type": "stream",
     "text": [
      "\r",
      "Iterations:  33%|███████████                      | 100/300 [01:58<03:45,  1.13s/it]"
     ]
    },
    {
     "name": "stdout",
     "output_type": "stream",
     "text": [
      "Epoch  99 , loss 0.4167017525434494\n",
      "Epoch  100 , loss 0.4174115997552872\n"
     ]
    },
    {
     "name": "stderr",
     "output_type": "stream",
     "text": [
      "\r",
      "Iterations:  34%|███████████                      | 101/300 [02:00<04:09,  1.25s/it]"
     ]
    },
    {
     "name": "stdout",
     "output_type": "stream",
     "text": [
      "Epoch:  100\n",
      "t_loss:  0.4174115997552872 , v_loss:  0.7056254247824351\n",
      "t_acc:  0.7051282051282052 , v_acc:  0.7102272727272727\n",
      "t_recall:  0.5218803418803419 , v_recall:  0.5242368461420464\n",
      "t_prec:  0.7165875045670442 , v_prec:  0.7296511627906976\n",
      "t_f:  0.4606894566056159 , v_f:  0.4661909009812667\n",
      "////////\n"
     ]
    },
    {
     "name": "stderr",
     "output_type": "stream",
     "text": [
      "\r",
      "Iterations:  34%|███████████▏                     | 102/300 [02:01<03:45,  1.14s/it]"
     ]
    },
    {
     "name": "stdout",
     "output_type": "stream",
     "text": [
      "Epoch  101 , loss 0.4143050464987755\n",
      "Epoch  102 , loss 0.40969818234443667\n"
     ]
    },
    {
     "name": "stderr",
     "output_type": "stream",
     "text": [
      "\r",
      "Iterations:  34%|███████████▎                     | 103/300 [02:02<04:02,  1.23s/it]"
     ]
    },
    {
     "name": "stdout",
     "output_type": "stream",
     "text": [
      "Epoch:  102\n",
      "t_loss:  0.40969818234443667 , v_loss:  0.709705169002215\n",
      "t_acc:  0.7032520325203252 , v_acc:  0.7102272727272727\n",
      "t_recall:  0.5196671165092218 , v_recall:  0.5242368461420464\n",
      "t_prec:  0.6946793934965291 , v_prec:  0.7296511627906976\n",
      "t_f:  0.45725800033799524 , v_f:  0.4661909009812667\n",
      "////////\n"
     ]
    },
    {
     "name": "stderr",
     "output_type": "stream",
     "text": [
      "\r",
      "Iterations:  35%|███████████▍                     | 104/300 [02:03<03:50,  1.18s/it]"
     ]
    },
    {
     "name": "stdout",
     "output_type": "stream",
     "text": [
      "Epoch  103 , loss 0.4101834124326706\n",
      "Epoch  104 , loss 0.41360640406608584\n"
     ]
    },
    {
     "name": "stderr",
     "output_type": "stream",
     "text": [
      "\r",
      "Iterations:  35%|███████████▌                     | 105/300 [02:04<04:01,  1.24s/it]"
     ]
    },
    {
     "name": "stdout",
     "output_type": "stream",
     "text": [
      "Epoch:  104\n",
      "t_loss:  0.41360640406608584 , v_loss:  0.7090456684430441\n",
      "t_acc:  0.7110694183864915 , v_acc:  0.7102272727272727\n",
      "t_recall:  0.5310481331533963 , v_recall:  0.5242368461420464\n",
      "t_prec:  0.7543205910697077 , v_prec:  0.7296511627906976\n",
      "t_f:  0.4775692342507991 , v_f:  0.4661909009812667\n",
      "////////\n"
     ]
    },
    {
     "name": "stderr",
     "output_type": "stream",
     "text": [
      "\r",
      "Iterations:  35%|███████████▋                     | 106/300 [02:05<03:44,  1.16s/it]"
     ]
    },
    {
     "name": "stdout",
     "output_type": "stream",
     "text": [
      "Epoch  105 , loss 0.4148539239168167\n",
      "Epoch  106 , loss 0.4107966560125351\n"
     ]
    },
    {
     "name": "stderr",
     "output_type": "stream",
     "text": [
      "\r",
      "Iterations:  36%|███████████▊                     | 107/300 [02:07<03:55,  1.22s/it]"
     ]
    },
    {
     "name": "stdout",
     "output_type": "stream",
     "text": [
      "Epoch:  106\n",
      "t_loss:  0.4107966560125351 , v_loss:  0.7039737751086553\n",
      "t_acc:  0.7113821138211383 , v_acc:  0.7045454545454546\n",
      "t_recall:  0.5338641475483581 , v_recall:  0.5201718054916399\n",
      "t_prec:  0.7324251405988752 , v_prec:  0.6538011695906433\n",
      "t_f:  0.48473046381788937 , v_f:  0.46328876378137457\n",
      "////////\n"
     ]
    },
    {
     "name": "stderr",
     "output_type": "stream",
     "text": [
      "\r",
      "Iterations:  36%|███████████▉                     | 108/300 [02:08<03:36,  1.13s/it]"
     ]
    },
    {
     "name": "stdout",
     "output_type": "stream",
     "text": [
      "Epoch  107 , loss 0.4105238211154938\n",
      "Epoch  108 , loss 0.40702575087547305\n"
     ]
    },
    {
     "name": "stderr",
     "output_type": "stream",
     "text": [
      "\r",
      "Iterations:  36%|███████████▉                     | 109/300 [02:09<03:58,  1.25s/it]"
     ]
    },
    {
     "name": "stdout",
     "output_type": "stream",
     "text": [
      "Epoch:  108\n",
      "t_loss:  0.40702575087547305 , v_loss:  0.7033707996209463\n",
      "t_acc:  0.7076297686053784 , v_acc:  0.6988636363636364\n",
      "t_recall:  0.5288618983355825 , v_recall:  0.5161067648412333\n",
      "t_prec:  0.7059117840684661 , v_prec:  0.6029411764705883\n",
      "t_f:  0.47647927131884193 , v_f:  0.46040377162029267\n",
      "////////\n"
     ]
    },
    {
     "name": "stderr",
     "output_type": "stream",
     "text": [
      "\r",
      "Iterations:  37%|████████████                     | 110/300 [02:10<03:43,  1.18s/it]"
     ]
    },
    {
     "name": "stdout",
     "output_type": "stream",
     "text": [
      "Epoch  109 , loss 0.41060696899890897\n",
      "Epoch  110 , loss 0.4141243553161621\n"
     ]
    },
    {
     "name": "stderr",
     "output_type": "stream",
     "text": [
      "\r",
      "Iterations:  37%|████████████▏                    | 111/300 [02:12<03:55,  1.25s/it]"
     ]
    },
    {
     "name": "stdout",
     "output_type": "stream",
     "text": [
      "Epoch:  110\n",
      "t_loss:  0.4141243553161621 , v_loss:  0.7036567181348801\n",
      "t_acc:  0.708880550343965 , v_acc:  0.6988636363636364\n",
      "t_recall:  0.5291857849752587 , v_recall:  0.5161067648412333\n",
      "t_prec:  0.7261475761475762 , v_prec:  0.6029411764705883\n",
      "t_f:  0.47559134586170176 , v_f:  0.46040377162029267\n",
      "////////\n"
     ]
    },
    {
     "name": "stderr",
     "output_type": "stream",
     "text": [
      "\r",
      "Iterations:  37%|████████████▎                    | 112/300 [02:12<03:33,  1.13s/it]"
     ]
    },
    {
     "name": "stdout",
     "output_type": "stream",
     "text": [
      "Epoch  111 , loss 0.4113075065612793\n",
      "Epoch  112 , loss 0.410454563498497\n"
     ]
    },
    {
     "name": "stderr",
     "output_type": "stream",
     "text": [
      "\r",
      "Iterations:  38%|████████████▍                    | 113/300 [02:14<03:51,  1.24s/it]"
     ]
    },
    {
     "name": "stdout",
     "output_type": "stream",
     "text": [
      "Epoch:  112\n",
      "t_loss:  0.410454563498497 , v_loss:  0.7038907160361608\n",
      "t_acc:  0.7116948092557849 , v_acc:  0.7045454545454546\n",
      "t_recall:  0.5335132703553757 , v_recall:  0.5255407271053842\n",
      "t_prec:  0.741483458944072 , v_prec:  0.6407438715131022\n",
      "t_f:  0.4833736557632574 , v_f:  0.4776255707762556\n",
      "////////\n"
     ]
    },
    {
     "name": "stderr",
     "output_type": "stream",
     "text": [
      "\r",
      "Iterations:  38%|████████████▌                    | 114/300 [02:15<03:30,  1.13s/it]"
     ]
    },
    {
     "name": "stdout",
     "output_type": "stream",
     "text": [
      "Epoch  113 , loss 0.4117294704914093\n",
      "Epoch  114 , loss 0.40868747532367705\n"
     ]
    },
    {
     "name": "stderr",
     "output_type": "stream",
     "text": [
      "\r",
      "Iterations:  38%|████████████▋                    | 115/300 [02:16<03:47,  1.23s/it]"
     ]
    },
    {
     "name": "stdout",
     "output_type": "stream",
     "text": [
      "Epoch:  114\n",
      "t_loss:  0.40868747532367705 , v_loss:  0.7014470597108206\n",
      "t_acc:  0.7032520325203252 , v_acc:  0.7045454545454546\n",
      "t_recall:  0.5234098065677013 , v_recall:  0.5255407271053842\n",
      "t_prec:  0.6703840264345584 , v_prec:  0.6407438715131022\n",
      "t_f:  0.46784813455898794 , v_f:  0.4776255707762556\n",
      "////////\n"
     ]
    },
    {
     "name": "stderr",
     "output_type": "stream",
     "text": [
      "\r",
      "Iterations:  39%|████████████▊                    | 116/300 [02:17<03:36,  1.17s/it]"
     ]
    },
    {
     "name": "stdout",
     "output_type": "stream",
     "text": [
      "Epoch  115 , loss 0.4086066788434982\n",
      "Epoch  116 , loss 0.4094828307628632\n"
     ]
    },
    {
     "name": "stderr",
     "output_type": "stream",
     "text": [
      "\r",
      "Iterations:  39%|████████████▊                    | 117/300 [02:19<03:44,  1.23s/it]"
     ]
    },
    {
     "name": "stdout",
     "output_type": "stream",
     "text": [
      "Epoch:  116\n",
      "t_loss:  0.4094828307628632 , v_loss:  0.7016646713018417\n",
      "t_acc:  0.7076297686053784 , v_acc:  0.7045454545454546\n",
      "t_recall:  0.526846603688709 , v_recall:  0.5255407271053842\n",
      "t_prec:  0.7224516010643178 , v_prec:  0.6407438715131022\n",
      "t_f:  0.4709497701916335 , v_f:  0.4776255707762556\n",
      "////////\n"
     ]
    },
    {
     "name": "stderr",
     "output_type": "stream",
     "text": [
      "\r",
      "Iterations:  39%|████████████▉                    | 118/300 [02:20<03:25,  1.13s/it]"
     ]
    },
    {
     "name": "stdout",
     "output_type": "stream",
     "text": [
      "Epoch  117 , loss 0.4068939006328583\n",
      "Epoch  118 , loss 0.41043339133262635\n"
     ]
    },
    {
     "name": "stderr",
     "output_type": "stream",
     "text": [
      "\r",
      "Iterations:  40%|█████████████                    | 119/300 [02:21<03:38,  1.21s/it]"
     ]
    },
    {
     "name": "stdout",
     "output_type": "stream",
     "text": [
      "Epoch:  118\n",
      "t_loss:  0.41043339133262635 , v_loss:  0.6999295552571615\n",
      "t_acc:  0.7104440275171983 , v_acc:  0.7102272727272727\n",
      "t_recall:  0.5329014844804318 , v_recall:  0.5349746893695352\n",
      "t_prec:  0.7236977900465831 , v_prec:  0.6696428571428572\n",
      "t_f:  0.48343812207778253 , v_f:  0.4943383471353726\n",
      "////////\n"
     ]
    },
    {
     "name": "stderr",
     "output_type": "stream",
     "text": [
      "\r",
      "Iterations:  40%|█████████████▏                   | 120/300 [02:22<03:24,  1.14s/it]"
     ]
    },
    {
     "name": "stdout",
     "output_type": "stream",
     "text": [
      "Epoch  119 , loss 0.41007984399795533\n",
      "Epoch  120 , loss 0.4055143642425537\n"
     ]
    },
    {
     "name": "stderr",
     "output_type": "stream",
     "text": [
      "\r",
      "Iterations:  40%|█████████████▎                   | 121/300 [02:24<03:45,  1.26s/it]"
     ]
    },
    {
     "name": "stdout",
     "output_type": "stream",
     "text": [
      "Epoch:  120\n",
      "t_loss:  0.4055143642425537 , v_loss:  0.6998168379068375\n",
      "t_acc:  0.7135709818636647 , v_acc:  0.7102272727272727\n",
      "t_recall:  0.538029689608637 , v_recall:  0.5349746893695352\n",
      "t_prec:  0.7364466946830941 , v_prec:  0.6696428571428572\n",
      "t_f:  0.4927592645950618 , v_f:  0.4943383471353726\n",
      "////////\n"
     ]
    },
    {
     "name": "stderr",
     "output_type": "stream",
     "text": [
      "\r",
      "Iterations:  41%|█████████████▍                   | 122/300 [02:24<03:28,  1.17s/it]"
     ]
    },
    {
     "name": "stdout",
     "output_type": "stream",
     "text": [
      "Epoch  121 , loss 0.40795256912708283\n",
      "Epoch  122 , loss 0.40815829664468767\n"
     ]
    },
    {
     "name": "stderr",
     "output_type": "stream",
     "text": [
      "\r",
      "Iterations:  41%|█████████████▌                   | 123/300 [02:26<03:40,  1.25s/it]"
     ]
    },
    {
     "name": "stdout",
     "output_type": "stream",
     "text": [
      "Epoch:  122\n",
      "t_loss:  0.40815829664468767 , v_loss:  0.7012347678343455\n",
      "t_acc:  0.7123202001250781 , v_acc:  0.7102272727272727\n",
      "t_recall:  0.5371300044984255 , v_recall:  0.5349746893695352\n",
      "t_prec:  0.7232500270474954 , v_prec:  0.6696428571428572\n",
      "t_f:  0.4920275802628744 , v_f:  0.4943383471353726\n",
      "////////\n"
     ]
    },
    {
     "name": "stderr",
     "output_type": "stream",
     "text": [
      "\r",
      "Iterations:  41%|█████████████▋                   | 124/300 [02:27<03:19,  1.13s/it]"
     ]
    },
    {
     "name": "stdout",
     "output_type": "stream",
     "text": [
      "Epoch  123 , loss 0.4040039169788361\n",
      "Epoch  124 , loss 0.4109332001209259\n"
     ]
    },
    {
     "name": "stderr",
     "output_type": "stream",
     "text": [
      "\r",
      "Iterations:  42%|█████████████▊                   | 125/300 [02:28<03:36,  1.24s/it]"
     ]
    },
    {
     "name": "stdout",
     "output_type": "stream",
     "text": [
      "Epoch:  124\n",
      "t_loss:  0.4109332001209259 , v_loss:  0.697655459245046\n",
      "t_acc:  0.7116948092557849 , v_acc:  0.7045454545454546\n",
      "t_recall:  0.5358164642375168 , v_recall:  0.5309096487191287\n",
      "t_prec:  0.7226861347370233 , v_prec:  0.6340652029274784\n",
      "t_f:  0.4894367270269072 , v_f:  0.49098998887652945\n",
      "////////\n"
     ]
    },
    {
     "name": "stderr",
     "output_type": "stream",
     "text": [
      "\r",
      "Iterations:  42%|█████████████▊                   | 126/300 [02:29<03:16,  1.13s/it]"
     ]
    },
    {
     "name": "stdout",
     "output_type": "stream",
     "text": [
      "Epoch  125 , loss 0.4044076907634735\n",
      "Epoch  126 , loss 0.40844758212566373\n"
     ]
    },
    {
     "name": "stderr",
     "output_type": "stream",
     "text": [
      "\r",
      "Iterations:  42%|█████████████▉                   | 127/300 [02:31<03:32,  1.23s/it]"
     ]
    },
    {
     "name": "stdout",
     "output_type": "stream",
     "text": [
      "Epoch:  126\n",
      "t_loss:  0.40844758212566373 , v_loss:  0.7006730089584986\n",
      "t_acc:  0.7107567229518449 , v_acc:  0.7102272727272727\n",
      "t_recall:  0.534565901934323 , v_recall:  0.5349746893695352\n",
      "t_prec:  0.7167594435700397 , v_prec:  0.6696428571428572\n",
      "t_f:  0.4874008015757727 , v_f:  0.4943383471353726\n",
      "////////\n"
     ]
    },
    {
     "name": "stderr",
     "output_type": "stream",
     "text": [
      "\r",
      "Iterations:  43%|██████████████                   | 128/300 [02:32<03:20,  1.17s/it]"
     ]
    },
    {
     "name": "stdout",
     "output_type": "stream",
     "text": [
      "Epoch  127 , loss 0.4053290855884552\n",
      "Epoch  128 , loss 0.41361446797847745\n"
     ]
    },
    {
     "name": "stderr",
     "output_type": "stream",
     "text": [
      "\r",
      "Iterations:  43%|██████████████▏                  | 129/300 [02:33<03:28,  1.22s/it]"
     ]
    },
    {
     "name": "stdout",
     "output_type": "stream",
     "text": [
      "Epoch:  128\n",
      "t_loss:  0.41361446797847745 , v_loss:  0.6967133382956187\n",
      "t_acc:  0.7135709818636647 , v_acc:  0.7045454545454546\n",
      "t_recall:  0.537165991902834 , v_recall:  0.5309096487191287\n",
      "t_prec:  0.7435605934624792 , v_prec:  0.6340652029274784\n",
      "t_f:  0.4905223672411382 , v_f:  0.49098998887652945\n",
      "////////\n"
     ]
    },
    {
     "name": "stderr",
     "output_type": "stream",
     "text": [
      "\r",
      "Iterations:  43%|██████████████▎                  | 130/300 [02:34<03:11,  1.12s/it]"
     ]
    },
    {
     "name": "stdout",
     "output_type": "stream",
     "text": [
      "Epoch  129 , loss 0.4058447802066803\n",
      "Epoch  130 , loss 0.4047779417037964\n"
     ]
    },
    {
     "name": "stderr",
     "output_type": "stream",
     "text": [
      "\r",
      "Iterations:  44%|██████████████▍                  | 131/300 [02:35<03:22,  1.20s/it]"
     ]
    },
    {
     "name": "stdout",
     "output_type": "stream",
     "text": [
      "Epoch:  130\n",
      "t_loss:  0.4047779417037964 , v_loss:  0.6954284459352493\n",
      "t_acc:  0.7113821138211383 , v_acc:  0.7045454545454546\n",
      "t_recall:  0.53731893837157 , v_recall:  0.5309096487191287\n",
      "t_prec:  0.7089688740079365 , v_prec:  0.6340652029274784\n",
      "t_f:  0.49367790805680123 , v_f:  0.49098998887652945\n",
      "////////\n"
     ]
    },
    {
     "name": "stderr",
     "output_type": "stream",
     "text": [
      "\r",
      "Iterations:  44%|██████████████▌                  | 132/300 [02:36<03:08,  1.12s/it]"
     ]
    },
    {
     "name": "stdout",
     "output_type": "stream",
     "text": [
      "Epoch  131 , loss 0.40610384941101074\n",
      "Epoch  132 , loss 0.40817112624645235\n"
     ]
    },
    {
     "name": "stderr",
     "output_type": "stream",
     "text": [
      "\r",
      "Iterations:  44%|██████████████▋                  | 133/300 [02:38<03:31,  1.26s/it]"
     ]
    },
    {
     "name": "stdout",
     "output_type": "stream",
     "text": [
      "Epoch:  132\n",
      "t_loss:  0.40817112624645235 , v_loss:  0.693517342209816\n",
      "t_acc:  0.7154471544715447 , v_acc:  0.6988636363636364\n",
      "t_recall:  0.5408187134502924 , v_recall:  0.5268446080687222\n",
      "t_prec:  0.7454289732770745 , v_prec:  0.6054216867469879\n",
      "t_f:  0.4975490196078431 , v_f:  0.4876695776349755\n",
      "////////\n"
     ]
    },
    {
     "name": "stderr",
     "output_type": "stream",
     "text": [
      "\r",
      "Iterations:  45%|██████████████▋                  | 134/300 [02:39<03:14,  1.17s/it]"
     ]
    },
    {
     "name": "stdout",
     "output_type": "stream",
     "text": [
      "Epoch  133 , loss 0.4071343874931335\n",
      "Epoch  134 , loss 0.4101483514904976\n"
     ]
    },
    {
     "name": "stderr",
     "output_type": "stream",
     "text": [
      "\r",
      "Iterations:  45%|██████████████▊                  | 135/300 [02:40<03:24,  1.24s/it]"
     ]
    },
    {
     "name": "stdout",
     "output_type": "stream",
     "text": [
      "Epoch:  134\n",
      "t_loss:  0.4101483514904976 , v_loss:  0.6952089766661326\n",
      "t_acc:  0.717948717948718 , v_acc:  0.7045454545454546\n",
      "t_recall:  0.5460728744939272 , v_recall:  0.5309096487191287\n",
      "t_prec:  0.7449668216217542 , v_prec:  0.6340652029274784\n",
      "t_f:  0.5076728455408882 , v_f:  0.49098998887652945\n",
      "////////\n"
     ]
    },
    {
     "name": "stderr",
     "output_type": "stream",
     "text": [
      "\r",
      "Iterations:  45%|██████████████▉                  | 136/300 [02:41<03:04,  1.12s/it]"
     ]
    },
    {
     "name": "stdout",
     "output_type": "stream",
     "text": [
      "Epoch  135 , loss 0.4033879166841507\n",
      "Epoch  136 , loss 0.40598181903362274\n"
     ]
    },
    {
     "name": "stderr",
     "output_type": "stream",
     "text": [
      "\r",
      "Iterations:  46%|███████████████                  | 137/300 [02:42<03:22,  1.24s/it]"
     ]
    },
    {
     "name": "stdout",
     "output_type": "stream",
     "text": [
      "Epoch:  136\n",
      "t_loss:  0.40598181903362274 , v_loss:  0.7011545946200689\n",
      "t_acc:  0.716072545340838 , v_acc:  0.7102272727272727\n",
      "t_recall:  0.5427080521817363 , v_recall:  0.5349746893695352\n",
      "t_prec:  0.7409801496908559 , v_prec:  0.6696428571428572\n",
      "t_f:  0.5015476517440264 , v_f:  0.4943383471353726\n",
      "////////\n"
     ]
    },
    {
     "name": "stderr",
     "output_type": "stream",
     "text": [
      "\r",
      "Iterations:  46%|███████████████▏                 | 138/300 [02:43<03:04,  1.14s/it]"
     ]
    },
    {
     "name": "stdout",
     "output_type": "stream",
     "text": [
      "Epoch  137 , loss 0.406572653055191\n",
      "Epoch  138 , loss 0.4053846222162247\n"
     ]
    },
    {
     "name": "stderr",
     "output_type": "stream",
     "text": [
      "\r",
      "Iterations:  46%|███████████████▎                 | 139/300 [02:45<03:16,  1.22s/it]"
     ]
    },
    {
     "name": "stdout",
     "output_type": "stream",
     "text": [
      "Epoch:  138\n",
      "t_loss:  0.4053846222162247 , v_loss:  0.6993165959914526\n",
      "t_acc:  0.7120075046904315 , v_acc:  0.7045454545454546\n",
      "t_recall:  0.5377687809266757 , v_recall:  0.5309096487191287\n",
      "t_prec:  0.71475906143094 , v_prec:  0.6340652029274784\n",
      "t_f:  0.4940467100456711 , v_f:  0.49098998887652945\n",
      "////////\n"
     ]
    },
    {
     "name": "stderr",
     "output_type": "stream",
     "text": [
      "\r",
      "Iterations:  47%|███████████████▍                 | 140/300 [02:46<03:09,  1.18s/it]"
     ]
    },
    {
     "name": "stdout",
     "output_type": "stream",
     "text": [
      "Epoch  139 , loss 0.40335322022438047\n",
      "Epoch  140 , loss 0.4076960951089859\n"
     ]
    },
    {
     "name": "stderr",
     "output_type": "stream",
     "text": [
      "\r",
      "Iterations:  47%|███████████████▌                 | 141/300 [02:47<03:16,  1.24s/it]"
     ]
    },
    {
     "name": "stdout",
     "output_type": "stream",
     "text": [
      "Epoch:  140\n",
      "t_loss:  0.4076960951089859 , v_loss:  0.6969637175401052\n",
      "t_acc:  0.7110694183864915 , v_acc:  0.6988636363636364\n",
      "t_recall:  0.5353666216824111 , v_recall:  0.5268446080687222\n",
      "t_prec:  0.7162052771862528 , v_prec:  0.6054216867469879\n",
      "t_f:  0.48907554888528476 , v_f:  0.4876695776349755\n",
      "////////\n"
     ]
    },
    {
     "name": "stderr",
     "output_type": "stream",
     "text": [
      "\r",
      "Iterations:  47%|███████████████▌                 | 142/300 [02:48<02:57,  1.13s/it]"
     ]
    },
    {
     "name": "stdout",
     "output_type": "stream",
     "text": [
      "Epoch  141 , loss 0.40348868191242215\n",
      "Epoch  142 , loss 0.40117761731147766\n"
     ]
    },
    {
     "name": "stderr",
     "output_type": "stream",
     "text": [
      "\r",
      "Iterations:  48%|███████████████▋                 | 143/300 [02:50<03:10,  1.21s/it]"
     ]
    },
    {
     "name": "stdout",
     "output_type": "stream",
     "text": [
      "Epoch:  142\n",
      "t_loss:  0.40117761731147766 , v_loss:  0.6985339373350143\n",
      "t_acc:  0.7154471544715447 , v_acc:  0.7045454545454546\n",
      "t_recall:  0.5413945119208277 , v_recall:  0.5309096487191287\n",
      "t_prec:  0.7409761036965812 , v_prec:  0.6340652029274784\n",
      "t_f:  0.4990049579947665 , v_f:  0.49098998887652945\n",
      "////////\n"
     ]
    },
    {
     "name": "stderr",
     "output_type": "stream",
     "text": [
      "\r",
      "Iterations:  48%|███████████████▊                 | 144/300 [02:51<03:00,  1.16s/it]"
     ]
    },
    {
     "name": "stdout",
     "output_type": "stream",
     "text": [
      "Epoch  143 , loss 0.40791264235973357\n",
      "Epoch  144 , loss 0.40237599730491636\n"
     ]
    },
    {
     "name": "stderr",
     "output_type": "stream",
     "text": [
      "\r",
      "Iterations:  48%|███████████████▉                 | 145/300 [02:52<03:19,  1.29s/it]"
     ]
    },
    {
     "name": "stdout",
     "output_type": "stream",
     "text": [
      "Epoch:  144\n",
      "t_loss:  0.40237599730491636 , v_loss:  0.6949405570824941\n",
      "t_acc:  0.7157598499061913 , v_acc:  0.7045454545454546\n",
      "t_recall:  0.5421952316689159 , v_recall:  0.5309096487191287\n",
      "t_prec:  0.7399285369488111 , v_prec:  0.6340652029274784\n",
      "t_f:  0.500638935321949 , v_f:  0.49098998887652945\n",
      "////////\n"
     ]
    },
    {
     "name": "stderr",
     "output_type": "stream",
     "text": [
      "\r",
      "Iterations:  49%|████████████████                 | 146/300 [02:53<03:04,  1.20s/it]"
     ]
    },
    {
     "name": "stdout",
     "output_type": "stream",
     "text": [
      "Epoch  145 , loss 0.4077395099401474\n",
      "Epoch  146 , loss 0.4012697273492813\n"
     ]
    },
    {
     "name": "stderr",
     "output_type": "stream",
     "text": [
      "\r",
      "Iterations:  49%|████████████████▏                | 147/300 [02:55<03:13,  1.26s/it]"
     ]
    },
    {
     "name": "stdout",
     "output_type": "stream",
     "text": [
      "Epoch:  146\n",
      "t_loss:  0.4012697273492813 , v_loss:  0.6934933712085088\n",
      "t_acc:  0.7157598499061913 , v_acc:  0.7045454545454546\n",
      "t_recall:  0.5444984255510571 , v_recall:  0.5309096487191287\n",
      "t_prec:  0.725280295244324 , v_prec:  0.6340652029274784\n",
      "t_f:  0.506313436016925 , v_f:  0.49098998887652945\n",
      "////////\n"
     ]
    },
    {
     "name": "stderr",
     "output_type": "stream",
     "text": [
      "\r",
      "Iterations:  49%|████████████████▎                | 148/300 [02:55<02:52,  1.14s/it]"
     ]
    },
    {
     "name": "stdout",
     "output_type": "stream",
     "text": [
      "Epoch  147 , loss 0.3991628432273865\n",
      "Epoch  148 , loss 0.40585894107818604\n"
     ]
    },
    {
     "name": "stderr",
     "output_type": "stream",
     "text": [
      "\r",
      "Iterations:  50%|████████████████▍                | 149/300 [02:57<03:05,  1.23s/it]"
     ]
    },
    {
     "name": "stdout",
     "output_type": "stream",
     "text": [
      "Epoch:  148\n",
      "t_loss:  0.40585894107818604 , v_loss:  0.693216452995936\n",
      "t_acc:  0.7132582864290181 , v_acc:  0.6988636363636364\n",
      "t_recall:  0.5418353576248314 , v_recall:  0.5268446080687222\n",
      "t_prec:  0.7089516812919401 , v_prec:  0.6054216867469879\n",
      "t_f:  0.5026719440196735 , v_f:  0.4876695776349755\n",
      "////////\n"
     ]
    },
    {
     "name": "stderr",
     "output_type": "stream",
     "text": [
      "\r",
      "Iterations:  50%|████████████████▌                | 150/300 [02:58<02:47,  1.12s/it]"
     ]
    },
    {
     "name": "stdout",
     "output_type": "stream",
     "text": [
      "Epoch  149 , loss 0.39705707669258117\n",
      "Epoch  150 , loss 0.4036351835727692\n"
     ]
    },
    {
     "name": "stderr",
     "output_type": "stream",
     "text": [
      "\r",
      "Iterations:  50%|████████████████▌                | 151/300 [02:59<03:01,  1.22s/it]"
     ]
    },
    {
     "name": "stdout",
     "output_type": "stream",
     "text": [
      "Epoch:  150\n",
      "t_loss:  0.4036351835727692 , v_loss:  0.693229153752327\n",
      "t_acc:  0.7113821138211383 , v_acc:  0.6931818181818182\n",
      "t_recall:  0.5370310391363022 , v_recall:  0.5227795674183157\n",
      "t_prec:  0.7105641488446282 , v_prec:  0.5818181818181818\n",
      "t_f:  0.49294800583295817 , v_f:  0.484375\n",
      "////////\n"
     ]
    },
    {
     "name": "stderr",
     "output_type": "stream",
     "text": [
      "\r",
      "Iterations:  51%|████████████████▋                | 152/300 [03:00<02:50,  1.15s/it]"
     ]
    },
    {
     "name": "stdout",
     "output_type": "stream",
     "text": [
      "Epoch  151 , loss 0.40135472238063813\n",
      "Epoch  152 , loss 0.3994924890995026\n"
     ]
    },
    {
     "name": "stderr",
     "output_type": "stream",
     "text": [
      "\r",
      "Iterations:  51%|████████████████▊                | 153/300 [03:02<02:58,  1.21s/it]"
     ]
    },
    {
     "name": "stdout",
     "output_type": "stream",
     "text": [
      "Epoch:  152\n",
      "t_loss:  0.3994924890995026 , v_loss:  0.6922058363755544\n",
      "t_acc:  0.717948717948718 , v_acc:  0.6988636363636364\n",
      "t_recall:  0.5472244714349978 , v_recall:  0.5268446080687222\n",
      "t_prec:  0.7374633732139004 , v_prec:  0.6054216867469879\n",
      "t_f:  0.5104614695340502 , v_f:  0.4876695776349755\n",
      "////////\n"
     ]
    },
    {
     "name": "stderr",
     "output_type": "stream",
     "text": [
      "\r",
      "Iterations:  51%|████████████████▉                | 154/300 [03:02<02:40,  1.10s/it]"
     ]
    },
    {
     "name": "stdout",
     "output_type": "stream",
     "text": [
      "Epoch  153 , loss 0.4039202958345413\n",
      "Epoch  154 , loss 0.40326779186725614\n"
     ]
    },
    {
     "name": "stderr",
     "output_type": "stream",
     "text": [
      "\r",
      "Iterations:  52%|█████████████████                | 155/300 [03:04<02:51,  1.18s/it]"
     ]
    },
    {
     "name": "stdout",
     "output_type": "stream",
     "text": [
      "Epoch:  154\n",
      "t_loss:  0.40326779186725614 , v_loss:  0.6919998327891032\n",
      "t_acc:  0.7176360225140713 , v_acc:  0.6988636363636364\n",
      "t_recall:  0.5455600539811066 , v_recall:  0.5268446080687222\n",
      "t_prec:  0.7439957302971001 , v_prec:  0.6054216867469879\n",
      "t_f:  0.5067750677506775 , v_f:  0.4876695776349755\n",
      "////////\n"
     ]
    },
    {
     "name": "stderr",
     "output_type": "stream",
     "text": [
      "\r",
      "Iterations:  52%|█████████████████▏               | 156/300 [03:05<02:41,  1.12s/it]"
     ]
    },
    {
     "name": "stdout",
     "output_type": "stream",
     "text": [
      "Epoch  155 , loss 0.40031759917736054\n",
      "Epoch  156 , loss 0.40148119688034056\n"
     ]
    },
    {
     "name": "stderr",
     "output_type": "stream",
     "text": [
      "\r",
      "Iterations:  52%|█████████████████▎               | 157/300 [03:06<02:52,  1.21s/it]"
     ]
    },
    {
     "name": "stdout",
     "output_type": "stream",
     "text": [
      "Epoch:  156\n",
      "t_loss:  0.40148119688034056 , v_loss:  0.6955630779266357\n",
      "t_acc:  0.7148217636022514 , v_acc:  0.6988636363636364\n",
      "t_recall:  0.5423841655420603 , v_recall:  0.5268446080687222\n",
      "t_prec:  0.7253541684553962 , v_prec:  0.6054216867469879\n",
      "t_f:  0.5022146730967738 , v_f:  0.4876695776349755\n",
      "////////\n"
     ]
    },
    {
     "name": "stderr",
     "output_type": "stream",
     "text": [
      "\r",
      "Iterations:  53%|█████████████████▍               | 158/300 [03:07<02:34,  1.09s/it]"
     ]
    },
    {
     "name": "stdout",
     "output_type": "stream",
     "text": [
      "Epoch  157 , loss 0.4007155913114548\n",
      "Epoch  158 , loss 0.40195044577121736\n"
     ]
    },
    {
     "name": "stderr",
     "output_type": "stream",
     "text": [
      "\r",
      "Iterations:  53%|█████████████████▍               | 159/300 [03:08<02:48,  1.20s/it]"
     ]
    },
    {
     "name": "stdout",
     "output_type": "stream",
     "text": [
      "Epoch:  158\n",
      "t_loss:  0.40195044577121736 , v_loss:  0.6922587503989538\n",
      "t_acc:  0.7173233270794246 , v_acc:  0.7045454545454546\n",
      "t_recall:  0.5450472334682861 , v_recall:  0.5362785703328732\n",
      "t_prec:  0.7430116706531235 , v_prec:  0.6303030303030304\n",
      "t_f:  0.5058758379281937 , v_f:  0.5034722222222223\n",
      "////////\n"
     ]
    },
    {
     "name": "stderr",
     "output_type": "stream",
     "text": [
      "\r",
      "Iterations:  53%|█████████████████▌               | 160/300 [03:09<02:32,  1.09s/it]"
     ]
    },
    {
     "name": "stdout",
     "output_type": "stream",
     "text": [
      "Epoch  159 , loss 0.4001533997058868\n",
      "Epoch  160 , loss 0.40173352003097534\n"
     ]
    },
    {
     "name": "stderr",
     "output_type": "stream",
     "text": [
      "\r",
      "Iterations:  54%|█████████████████▋               | 161/300 [03:11<02:43,  1.18s/it]"
     ]
    },
    {
     "name": "stdout",
     "output_type": "stream",
     "text": [
      "Epoch:  160\n",
      "t_loss:  0.40173352003097534 , v_loss:  0.6924040019512177\n",
      "t_acc:  0.7182614133833646 , v_acc:  0.7045454545454546\n",
      "t_recall:  0.5488888888888889 , v_recall:  0.5362785703328732\n",
      "t_prec:  0.731765091863517 , v_prec:  0.6303030303030304\n",
      "t_f:  0.5140879023588186 , v_f:  0.5034722222222223\n",
      "////////\n"
     ]
    },
    {
     "name": "stderr",
     "output_type": "stream",
     "text": [
      "\r",
      "Iterations:  54%|█████████████████▊               | 162/300 [03:12<02:34,  1.12s/it]"
     ]
    },
    {
     "name": "stdout",
     "output_type": "stream",
     "text": [
      "Epoch  161 , loss 0.3975571775436401\n",
      "Epoch  162 , loss 0.39457661151885987\n"
     ]
    },
    {
     "name": "stderr",
     "output_type": "stream",
     "text": [
      "\r",
      "Iterations:  54%|█████████████████▉               | 163/300 [03:13<02:42,  1.19s/it]"
     ]
    },
    {
     "name": "stdout",
     "output_type": "stream",
     "text": [
      "Epoch:  162\n",
      "t_loss:  0.39457661151885987 , v_loss:  0.6969393591086069\n",
      "t_acc:  0.7210756722951845 , v_acc:  0.7102272727272727\n",
      "t_recall:  0.5532163742690058 , v_recall:  0.5457125325970241\n",
      "t_prec:  0.7415868481077085 , v_prec:  0.6514227642276422\n",
      "t_f:  0.5212806233688122 , v_f:  0.5188421334762799\n",
      "////////\n"
     ]
    },
    {
     "name": "stderr",
     "output_type": "stream",
     "text": [
      "\r",
      "Iterations:  55%|██████████████████               | 164/300 [03:14<02:28,  1.10s/it]"
     ]
    },
    {
     "name": "stdout",
     "output_type": "stream",
     "text": [
      "Epoch  163 , loss 0.40714922428131106\n",
      "Epoch  164 , loss 0.3998663085699081\n"
     ]
    },
    {
     "name": "stderr",
     "output_type": "stream",
     "text": [
      "\r",
      "Iterations:  55%|██████████████████▏              | 165/300 [03:15<02:39,  1.18s/it]"
     ]
    },
    {
     "name": "stdout",
     "output_type": "stream",
     "text": [
      "Epoch:  164\n",
      "t_loss:  0.3998663085699081 , v_loss:  0.6931679050127665\n",
      "t_acc:  0.7176360225140713 , v_acc:  0.7102272727272727\n",
      "t_recall:  0.5490148448043185 , v_recall:  0.5457125325970241\n",
      "t_prec:  0.7238658777120315 , v_prec:  0.6514227642276422\n",
      "t_f:  0.5150407702131841 , v_f:  0.5188421334762799\n",
      "////////\n"
     ]
    },
    {
     "name": "stderr",
     "output_type": "stream",
     "text": [
      "\r",
      "Iterations:  55%|██████████████████▎              | 166/300 [03:16<02:30,  1.12s/it]"
     ]
    },
    {
     "name": "stdout",
     "output_type": "stream",
     "text": [
      "Epoch  165 , loss 0.399550022482872\n",
      "Epoch  166 , loss 0.40063599824905394\n"
     ]
    },
    {
     "name": "stderr",
     "output_type": "stream",
     "text": [
      "\r",
      "Iterations:  56%|██████████████████▎              | 167/300 [03:18<02:42,  1.22s/it]"
     ]
    },
    {
     "name": "stdout",
     "output_type": "stream",
     "text": [
      "Epoch:  166\n",
      "t_loss:  0.40063599824905394 , v_loss:  0.6907569716374079\n",
      "t_acc:  0.7191994996873046 , v_acc:  0.7045454545454546\n",
      "t_recall:  0.5484120557804768 , v_recall:  0.5416474919466175\n",
      "t_prec:  0.7467762305356761 , v_prec:  0.6281264747522416\n",
      "t_f:  0.5119422557012502 , v_f:  0.5151515151515151\n",
      "////////\n"
     ]
    },
    {
     "name": "stderr",
     "output_type": "stream",
     "text": [
      "\r",
      "Iterations:  56%|██████████████████▍              | 168/300 [03:18<02:26,  1.11s/it]"
     ]
    },
    {
     "name": "stdout",
     "output_type": "stream",
     "text": [
      "Epoch  167 , loss 0.3970663565397263\n",
      "Epoch  168 , loss 0.3991022565960884\n"
     ]
    },
    {
     "name": "stderr",
     "output_type": "stream",
     "text": [
      "\r",
      "Iterations:  56%|██████████████████▌              | 169/300 [03:20<02:36,  1.20s/it]"
     ]
    },
    {
     "name": "stdout",
     "output_type": "stream",
     "text": [
      "Epoch:  168\n",
      "t_loss:  0.3991022565960884 , v_loss:  0.6910478820403417\n",
      "t_acc:  0.723264540337711 , v_acc:  0.7045454545454546\n",
      "t_recall:  0.5545029239766082 , v_recall:  0.5416474919466175\n",
      "t_prec:  0.761699158174568 , v_prec:  0.6281264747522416\n",
      "t_f:  0.5220480888627848 , v_f:  0.5151515151515151\n",
      "////////\n"
     ]
    },
    {
     "name": "stderr",
     "output_type": "stream",
     "text": [
      "\r",
      "Iterations:  57%|██████████████████▋              | 170/300 [03:21<02:22,  1.10s/it]"
     ]
    },
    {
     "name": "stdout",
     "output_type": "stream",
     "text": [
      "Epoch  169 , loss 0.3967477697134018\n",
      "Epoch  170 , loss 0.3969261646270752\n"
     ]
    },
    {
     "name": "stderr",
     "output_type": "stream",
     "text": [
      "\r",
      "Iterations:  57%|██████████████████▊              | 171/300 [03:22<02:33,  1.19s/it]"
     ]
    },
    {
     "name": "stdout",
     "output_type": "stream",
     "text": [
      "Epoch:  170\n",
      "t_loss:  0.3969261646270752 , v_loss:  0.6938679019610087\n",
      "t_acc:  0.723264540337711 , v_acc:  0.7102272727272727\n",
      "t_recall:  0.5550787224471435 , v_recall:  0.5457125325970241\n",
      "t_prec:  0.7578424681203995 , v_prec:  0.6514227642276422\n",
      "t_f:  0.5233829047804851 , v_f:  0.5188421334762799\n",
      "////////\n"
     ]
    },
    {
     "name": "stderr",
     "output_type": "stream",
     "text": [
      "\r",
      "Iterations:  57%|██████████████████▉              | 172/300 [03:23<02:24,  1.13s/it]"
     ]
    },
    {
     "name": "stdout",
     "output_type": "stream",
     "text": [
      "Epoch  171 , loss 0.4010735094547272\n",
      "Epoch  172 , loss 0.3960278356075287\n"
     ]
    },
    {
     "name": "stderr",
     "output_type": "stream",
     "text": [
      "\r",
      "Iterations:  58%|███████████████████              | 173/300 [03:24<02:31,  1.19s/it]"
     ]
    },
    {
     "name": "stdout",
     "output_type": "stream",
     "text": [
      "Epoch:  172\n",
      "t_loss:  0.3960278356075287 , v_loss:  0.697265217701594\n",
      "t_acc:  0.7223264540337712 , v_acc:  0.7102272727272727\n",
      "t_recall:  0.5532523616734143 , v_recall:  0.5457125325970241\n",
      "t_prec:  0.7573495474886119 , v_prec:  0.6514227642276422\n",
      "t_f:  0.5200914992121577 , v_f:  0.5188421334762799\n",
      "////////\n"
     ]
    },
    {
     "name": "stderr",
     "output_type": "stream",
     "text": [
      "\r",
      "Iterations:  58%|███████████████████▏             | 174/300 [03:25<02:18,  1.10s/it]"
     ]
    },
    {
     "name": "stdout",
     "output_type": "stream",
     "text": [
      "Epoch  173 , loss 0.3974404817819595\n",
      "Epoch  174 , loss 0.3980788296461105\n"
     ]
    },
    {
     "name": "stderr",
     "output_type": "stream",
     "text": [
      "\r",
      "Iterations:  58%|███████████████████▎             | 175/300 [03:27<02:27,  1.18s/it]"
     ]
    },
    {
     "name": "stdout",
     "output_type": "stream",
     "text": [
      "Epoch:  174\n",
      "t_loss:  0.3980788296461105 , v_loss:  0.6929836571216583\n",
      "t_acc:  0.7238899312070044 , v_acc:  0.6988636363636364\n",
      "t_recall:  0.5558164642375168 , v_recall:  0.5375824512962111\n",
      "t_prec:  0.7612960915091406 , v_prec:  0.6080246913580247\n",
      "t_f:  0.5244600055606422 , v_f:  0.5114951557999476\n",
      "////////\n"
     ]
    },
    {
     "name": "stderr",
     "output_type": "stream",
     "text": [
      "\r",
      "Iterations:  59%|███████████████████▎             | 176/300 [03:28<02:17,  1.11s/it]"
     ]
    },
    {
     "name": "stdout",
     "output_type": "stream",
     "text": [
      "Epoch  175 , loss 0.397494797706604\n",
      "Epoch  176 , loss 0.3950157868862152\n"
     ]
    },
    {
     "name": "stderr",
     "output_type": "stream",
     "text": [
      "\r",
      "Iterations:  59%|███████████████████▍             | 177/300 [03:29<02:29,  1.22s/it]"
     ]
    },
    {
     "name": "stdout",
     "output_type": "stream",
     "text": [
      "Epoch:  176\n",
      "t_loss:  0.3950157868862152 , v_loss:  0.6908503870169321\n",
      "t_acc:  0.7254534083802376 , v_acc:  0.6988636363636364\n",
      "t_recall:  0.5618353576248314 , v_recall:  0.5375824512962111\n",
      "t_prec:  0.7454296738372062 , v_prec:  0.6080246913580247\n",
      "t_f:  0.5364635885786735 , v_f:  0.5114951557999476\n",
      "////////\n"
     ]
    },
    {
     "name": "stderr",
     "output_type": "stream",
     "text": [
      "\r",
      "Iterations:  59%|███████████████████▌             | 178/300 [03:30<02:16,  1.12s/it]"
     ]
    },
    {
     "name": "stdout",
     "output_type": "stream",
     "text": [
      "Epoch  177 , loss 0.39878483951091764\n",
      "Epoch  178 , loss 0.3929466342926025\n"
     ]
    },
    {
     "name": "stderr",
     "output_type": "stream",
     "text": [
      "\r",
      "Iterations:  60%|███████████████████▋             | 179/300 [03:31<02:24,  1.20s/it]"
     ]
    },
    {
     "name": "stdout",
     "output_type": "stream",
     "text": [
      "Epoch:  178\n",
      "t_loss:  0.3929466342926025 , v_loss:  0.6950389345486959\n",
      "t_acc:  0.7245153220762977 , v_acc:  0.6988636363636364\n",
      "t_recall:  0.5582816014394961 , v_recall:  0.5375824512962111\n",
      "t_prec:  0.7538727752142387 , v_prec:  0.6080246913580247\n",
      "t_f:  0.5294642053414962 , v_f:  0.5114951557999476\n",
      "////////\n"
     ]
    },
    {
     "name": "stderr",
     "output_type": "stream",
     "text": [
      "\r",
      "Iterations:  60%|███████████████████▊             | 180/300 [03:32<02:11,  1.10s/it]"
     ]
    },
    {
     "name": "stdout",
     "output_type": "stream",
     "text": [
      "Epoch  179 , loss 0.3969741266965866\n",
      "Epoch  180 , loss 0.39610006868839265\n"
     ]
    },
    {
     "name": "stderr",
     "output_type": "stream",
     "text": [
      "\r",
      "Iterations:  60%|███████████████████▉             | 181/300 [03:34<02:26,  1.23s/it]"
     ]
    },
    {
     "name": "stdout",
     "output_type": "stream",
     "text": [
      "Epoch:  180\n",
      "t_loss:  0.39610006868839265 , v_loss:  0.6955831199884415\n",
      "t_acc:  0.7248280175109444 , v_acc:  0.6988636363636364\n",
      "t_recall:  0.559370220422852 , v_recall:  0.5375824512962111\n",
      "t_prec:  0.751377707798969 , v_prec:  0.6080246913580247\n",
      "t_f:  0.5316070068545317 , v_f:  0.5114951557999476\n",
      "////////\n"
     ]
    },
    {
     "name": "stderr",
     "output_type": "stream",
     "text": [
      "\r",
      "Iterations:  61%|████████████████████             | 182/300 [03:35<02:12,  1.12s/it]"
     ]
    },
    {
     "name": "stdout",
     "output_type": "stream",
     "text": [
      "Epoch  181 , loss 0.3988578283786774\n",
      "Epoch  182 , loss 0.39841397643089294\n"
     ]
    },
    {
     "name": "stderr",
     "output_type": "stream",
     "text": [
      "\r",
      "Iterations:  61%|████████████████████▏            | 183/300 [03:36<02:19,  1.19s/it]"
     ]
    },
    {
     "name": "stdout",
     "output_type": "stream",
     "text": [
      "Epoch:  182\n",
      "t_loss:  0.39841397643089294 , v_loss:  0.6919093678394953\n",
      "t_acc:  0.7235772357723578 , v_acc:  0.6988636363636364\n",
      "t_recall:  0.5587584345479083 , v_recall:  0.5375824512962111\n",
      "t_prec:  0.7407343698312934 , v_prec:  0.6080246913580247\n",
      "t_f:  0.5313975036881102 , v_f:  0.5114951557999476\n",
      "////////\n"
     ]
    },
    {
     "name": "stderr",
     "output_type": "stream",
     "text": [
      "\r",
      "Iterations:  61%|████████████████████▏            | 184/300 [03:37<02:11,  1.13s/it]"
     ]
    },
    {
     "name": "stdout",
     "output_type": "stream",
     "text": [
      "Epoch  183 , loss 0.3978372722864151\n",
      "Epoch  184 , loss 0.3960533207654953\n"
     ]
    },
    {
     "name": "stderr",
     "output_type": "stream",
     "text": [
      "\r",
      "Iterations:  62%|████████████████████▎            | 185/300 [03:38<02:17,  1.20s/it]"
     ]
    },
    {
     "name": "stdout",
     "output_type": "stream",
     "text": [
      "Epoch:  184\n",
      "t_loss:  0.3960533207654953 , v_loss:  0.6952644189198812\n",
      "t_acc:  0.7207629768605378 , v_acc:  0.6931818181818182\n",
      "t_recall:  0.5527035537561853 , v_recall:  0.5335174106458046\n",
      "t_prec:  0.7407133464825773 , v_prec:  0.5904761904761905\n",
      "t_f:  0.5204113043193502 , v_f:  0.507870753935377\n",
      "////////\n"
     ]
    },
    {
     "name": "stderr",
     "output_type": "stream",
     "text": [
      "\r",
      "Iterations:  62%|████████████████████▍            | 186/300 [03:39<02:06,  1.11s/it]"
     ]
    },
    {
     "name": "stdout",
     "output_type": "stream",
     "text": [
      "Epoch  185 , loss 0.40006197094917295\n",
      "Epoch  186 , loss 0.3947389280796051\n"
     ]
    },
    {
     "name": "stderr",
     "output_type": "stream",
     "text": [
      "\r",
      "Iterations:  62%|████████████████████▌            | 187/300 [03:41<02:17,  1.22s/it]"
     ]
    },
    {
     "name": "stdout",
     "output_type": "stream",
     "text": [
      "Epoch:  186\n",
      "t_loss:  0.3947389280796051 , v_loss:  0.6995430141687393\n",
      "t_acc:  0.7273295809881176 , v_acc:  0.6988636363636364\n",
      "t_recall:  0.5654880791722897 , v_recall:  0.5375824512962111\n",
      "t_prec:  0.7471380043423983 , v_prec:  0.6080246913580247\n",
      "t_f:  0.5427068404015625 , v_f:  0.5114951557999476\n",
      "////////\n"
     ]
    },
    {
     "name": "stderr",
     "output_type": "stream",
     "text": [
      "\r",
      "Iterations:  63%|████████████████████▋            | 188/300 [03:42<02:08,  1.15s/it]"
     ]
    },
    {
     "name": "stdout",
     "output_type": "stream",
     "text": [
      "Epoch  187 , loss 0.3972893244028091\n",
      "Epoch  188 , loss 0.39233138024806974\n"
     ]
    },
    {
     "name": "stderr",
     "output_type": "stream",
     "text": [
      "\r",
      "Iterations:  63%|████████████████████▊            | 189/300 [03:43<02:16,  1.23s/it]"
     ]
    },
    {
     "name": "stdout",
     "output_type": "stream",
     "text": [
      "Epoch:  188\n",
      "t_loss:  0.39233138024806974 , v_loss:  0.6961353371540705\n",
      "t_acc:  0.7295184490306441 , v_acc:  0.6931818181818182\n",
      "t_recall:  0.5664867296446243 , v_recall:  0.5335174106458046\n",
      "t_prec:  0.7652694941462337 , v_prec:  0.5904761904761905\n",
      "t_f:  0.5430187061555121 , v_f:  0.507870753935377\n",
      "////////\n"
     ]
    },
    {
     "name": "stderr",
     "output_type": "stream",
     "text": [
      "\r",
      "Iterations:  63%|████████████████████▉            | 190/300 [03:44<02:01,  1.11s/it]"
     ]
    },
    {
     "name": "stdout",
     "output_type": "stream",
     "text": [
      "Epoch  189 , loss 0.392283194065094\n",
      "Epoch  190 , loss 0.3948125910758972\n"
     ]
    },
    {
     "name": "stderr",
     "output_type": "stream",
     "text": [
      "\r",
      "Iterations:  64%|█████████████████████            | 191/300 [03:45<02:11,  1.21s/it]"
     ]
    },
    {
     "name": "stdout",
     "output_type": "stream",
     "text": [
      "Epoch:  190\n",
      "t_loss:  0.3948125910758972 , v_loss:  0.6973712841669718\n",
      "t_acc:  0.7267041901188243 , v_acc:  0.6931818181818182\n",
      "t_recall:  0.5627350427350427 , v_recall:  0.5335174106458046\n",
      "t_prec:  0.7542905873574246 , v_prec:  0.5904761904761905\n",
      "t_f:  0.5373263888888888 , v_f:  0.507870753935377\n",
      "////////\n"
     ]
    },
    {
     "name": "stderr",
     "output_type": "stream",
     "text": [
      "\r",
      "Iterations:  64%|█████████████████████            | 192/300 [03:46<01:58,  1.10s/it]"
     ]
    },
    {
     "name": "stdout",
     "output_type": "stream",
     "text": [
      "Epoch  191 , loss 0.38997391402721404\n",
      "Epoch  192 , loss 0.3955163890123367\n"
     ]
    },
    {
     "name": "stderr",
     "output_type": "stream",
     "text": [
      "\r",
      "Iterations:  64%|█████████████████████▏           | 193/300 [03:48<02:05,  1.17s/it]"
     ]
    },
    {
     "name": "stdout",
     "output_type": "stream",
     "text": [
      "Epoch:  192\n",
      "t_loss:  0.3955163890123367 , v_loss:  0.6943037857611974\n",
      "t_acc:  0.7301438398999375 , v_acc:  0.6931818181818182\n",
      "t_recall:  0.5680881691408007 , v_recall:  0.5335174106458046\n",
      "t_prec:  0.7634194405174999 , v_prec:  0.5904761904761905\n",
      "t_f:  0.5459116609779634 , v_f:  0.507870753935377\n",
      "////////\n"
     ]
    },
    {
     "name": "stderr",
     "output_type": "stream",
     "text": [
      "\r",
      "Iterations:  65%|█████████████████████▎           | 194/300 [03:49<01:56,  1.10s/it]"
     ]
    },
    {
     "name": "stdout",
     "output_type": "stream",
     "text": [
      "Epoch  193 , loss 0.39918428897857666\n",
      "Epoch  194 , loss 0.39388208985328677\n"
     ]
    },
    {
     "name": "stderr",
     "output_type": "stream",
     "text": [
      "\r",
      "Iterations:  65%|█████████████████████▍           | 195/300 [03:50<02:03,  1.18s/it]"
     ]
    },
    {
     "name": "stdout",
     "output_type": "stream",
     "text": [
      "Epoch:  194\n",
      "t_loss:  0.39388208985328677 , v_loss:  0.6918122867743174\n",
      "t_acc:  0.7270168855534709 , v_acc:  0.6931818181818182\n",
      "t_recall:  0.5626720647773279 , v_recall:  0.5335174106458046\n",
      "t_prec:  0.7581588669950738 , v_prec:  0.5904761904761905\n",
      "t_f:  0.5369140441311484 , v_f:  0.507870753935377\n",
      "////////\n"
     ]
    },
    {
     "name": "stderr",
     "output_type": "stream",
     "text": [
      "\r",
      "Iterations:  65%|█████████████████████▌           | 196/300 [03:51<01:52,  1.08s/it]"
     ]
    },
    {
     "name": "stdout",
     "output_type": "stream",
     "text": [
      "Epoch  195 , loss 0.398633873462677\n",
      "Epoch  196 , loss 0.39251559376716616\n"
     ]
    },
    {
     "name": "stderr",
     "output_type": "stream",
     "text": [
      "\r",
      "Iterations:  66%|█████████████████████▋           | 197/300 [03:52<02:00,  1.17s/it]"
     ]
    },
    {
     "name": "stdout",
     "output_type": "stream",
     "text": [
      "Epoch:  196\n",
      "t_loss:  0.39251559376716616 , v_loss:  0.6954695185025533\n",
      "t_acc:  0.7254534083802376 , v_acc:  0.6931818181818182\n",
      "t_recall:  0.5624111560953666 , v_recall:  0.5335174106458046\n",
      "t_prec:  0.7426808155649842 , v_prec:  0.5904761904761905\n",
      "t_f:  0.537709096177656 , v_f:  0.507870753935377\n",
      "////////\n"
     ]
    },
    {
     "name": "stderr",
     "output_type": "stream",
     "text": [
      "\r",
      "Iterations:  66%|█████████████████████▊           | 198/300 [03:53<01:51,  1.09s/it]"
     ]
    },
    {
     "name": "stdout",
     "output_type": "stream",
     "text": [
      "Epoch  197 , loss 0.3927294003963471\n",
      "Epoch  198 , loss 0.3947665631771088\n"
     ]
    },
    {
     "name": "stderr",
     "output_type": "stream",
     "text": [
      "\r",
      "Iterations:  66%|█████████████████████▉           | 199/300 [03:54<01:58,  1.17s/it]"
     ]
    },
    {
     "name": "stdout",
     "output_type": "stream",
     "text": [
      "Epoch:  198\n",
      "t_loss:  0.3947665631771088 , v_loss:  0.7018092224995295\n",
      "t_acc:  0.725140712945591 , v_acc:  0.6931818181818182\n",
      "t_recall:  0.5601709401709402 , v_recall:  0.5335174106458046\n",
      "t_prec:  0.7505725572172951 , v_prec:  0.5904761904761905\n",
      "t_f:  0.5330962695929296 , v_f:  0.507870753935377\n",
      "////////\n"
     ]
    },
    {
     "name": "stderr",
     "output_type": "stream",
     "text": [
      "\r",
      "Iterations:  67%|██████████████████████           | 200/300 [03:55<01:47,  1.07s/it]"
     ]
    },
    {
     "name": "stdout",
     "output_type": "stream",
     "text": [
      "Epoch  199 , loss 0.39289712607860566\n",
      "Epoch  200 , loss 0.3912098276615143\n"
     ]
    },
    {
     "name": "stderr",
     "output_type": "stream",
     "text": [
      "\r",
      "Iterations:  67%|██████████████████████           | 201/300 [03:57<01:59,  1.20s/it]"
     ]
    },
    {
     "name": "stdout",
     "output_type": "stream",
     "text": [
      "Epoch:  200\n",
      "t_loss:  0.3912098276615143 , v_loss:  0.7019415895144144\n",
      "t_acc:  0.7292057535959975 , v_acc:  0.6931818181818182\n",
      "t_recall:  0.5665497076023391 , v_recall:  0.5335174106458046\n",
      "t_prec:  0.7614278335100454 , v_prec:  0.5904761904761905\n",
      "t_f:  0.5434143079568003 , v_f:  0.507870753935377\n",
      "////////\n"
     ]
    },
    {
     "name": "stderr",
     "output_type": "stream",
     "text": [
      "\r",
      "Iterations:  67%|██████████████████████▏          | 202/300 [03:58<01:47,  1.10s/it]"
     ]
    },
    {
     "name": "stdout",
     "output_type": "stream",
     "text": [
      "Epoch  201 , loss 0.39781836807727816\n",
      "Epoch  202 , loss 0.39094262838363647\n"
     ]
    },
    {
     "name": "stderr",
     "output_type": "stream",
     "text": [
      "\r",
      "Iterations:  68%|██████████████████████▎          | 203/300 [03:59<01:54,  1.19s/it]"
     ]
    },
    {
     "name": "stdout",
     "output_type": "stream",
     "text": [
      "Epoch:  202\n",
      "t_loss:  0.39094262838363647 , v_loss:  0.7007074952125549\n",
      "t_acc:  0.7292057535959975 , v_acc:  0.6931818181818182\n",
      "t_recall:  0.5682771030139452 , v_recall:  0.5335174106458046\n",
      "t_prec:  0.7527139527139527 , v_prec:  0.5904761904761905\n",
      "t_f:  0.5470595739252456 , v_f:  0.507870753935377\n",
      "////////\n"
     ]
    },
    {
     "name": "stderr",
     "output_type": "stream",
     "text": [
      "\r",
      "Iterations:  68%|██████████████████████▍          | 204/300 [04:00<01:48,  1.13s/it]"
     ]
    },
    {
     "name": "stdout",
     "output_type": "stream",
     "text": [
      "Epoch  203 , loss 0.39714832603931427\n",
      "Epoch  204 , loss 0.3876212990283966\n"
     ]
    },
    {
     "name": "stderr",
     "output_type": "stream",
     "text": [
      "\r",
      "Iterations:  68%|██████████████████████▌          | 205/300 [04:01<01:52,  1.19s/it]"
     ]
    },
    {
     "name": "stdout",
     "output_type": "stream",
     "text": [
      "Epoch:  204\n",
      "t_loss:  0.3876212990283966 , v_loss:  0.7014194677273432\n",
      "t_acc:  0.7298311444652908 , v_acc:  0.6931818181818182\n",
      "t_recall:  0.5693027440395861 , v_recall:  0.5335174106458046\n",
      "t_prec:  0.7540752067415768 , v_prec:  0.5904761904761905\n",
      "t_f:  0.5487040647262047 , v_f:  0.507870753935377\n",
      "////////\n"
     ]
    },
    {
     "name": "stderr",
     "output_type": "stream",
     "text": [
      "\r",
      "Iterations:  69%|██████████████████████▋          | 206/300 [04:02<01:42,  1.09s/it]"
     ]
    },
    {
     "name": "stdout",
     "output_type": "stream",
     "text": [
      "Epoch  205 , loss 0.39428765177726743\n",
      "Epoch  206 , loss 0.39056000888347625\n"
     ]
    },
    {
     "name": "stderr",
     "output_type": "stream",
     "text": [
      "\r",
      "Iterations:  69%|██████████████████████▊          | 207/300 [04:04<01:50,  1.19s/it]"
     ]
    },
    {
     "name": "stdout",
     "output_type": "stream",
     "text": [
      "Epoch:  206\n",
      "t_loss:  0.39056000888347625 , v_loss:  0.6946194916963577\n",
      "t_acc:  0.7307692307692307 , v_acc:  0.6875\n",
      "t_recall:  0.569689608636977 , v_recall:  0.5294523699953981\n",
      "t_prec:  0.7617109530938124 , v_prec:  0.575\n",
      "t_f:  0.5487760811885072 , v_f:  0.5042761304859937\n",
      "////////\n"
     ]
    },
    {
     "name": "stderr",
     "output_type": "stream",
     "text": [
      "\r",
      "Iterations:  69%|██████████████████████▉          | 208/300 [04:05<01:43,  1.13s/it]"
     ]
    },
    {
     "name": "stdout",
     "output_type": "stream",
     "text": [
      "Epoch  207 , loss 0.38927980959415437\n",
      "Epoch  208 , loss 0.3909848546981812\n"
     ]
    },
    {
     "name": "stderr",
     "output_type": "stream",
     "text": [
      "\r",
      "Iterations:  70%|██████████████████████▉          | 209/300 [04:06<01:50,  1.22s/it]"
     ]
    },
    {
     "name": "stdout",
     "output_type": "stream",
     "text": [
      "Epoch:  208\n",
      "t_loss:  0.3909848546981812 , v_loss:  0.697372188170751\n",
      "t_acc:  0.7307692307692307 , v_acc:  0.6818181818181818\n",
      "t_recall:  0.5717049032838507 , v_recall:  0.5253873293449915\n",
      "t_prec:  0.7521529904989357 , v_prec:  0.561228264890862\n",
      "t_f:  0.5529280725582347 , v_f:  0.5007092198581561\n",
      "////////\n"
     ]
    },
    {
     "name": "stderr",
     "output_type": "stream",
     "text": [
      "\r",
      "Iterations:  70%|███████████████████████          | 210/300 [04:07<01:38,  1.10s/it]"
     ]
    },
    {
     "name": "stdout",
     "output_type": "stream",
     "text": [
      "Epoch  209 , loss 0.3914898306131363\n",
      "Epoch  210 , loss 0.3920714688301086\n"
     ]
    },
    {
     "name": "stderr",
     "output_type": "stream",
     "text": [
      "\r",
      "Iterations:  70%|███████████████████████▏         | 211/300 [04:08<01:46,  1.20s/it]"
     ]
    },
    {
     "name": "stdout",
     "output_type": "stream",
     "text": [
      "Epoch:  210\n",
      "t_loss:  0.3920714688301086 , v_loss:  0.6995944827795029\n",
      "t_acc:  0.7326454033771107 , v_acc:  0.6818181818181818\n",
      "t_recall:  0.5736302294197031 , v_recall:  0.5253873293449915\n",
      "t_prec:  0.7612872804432393 , v_prec:  0.561228264890862\n",
      "t_f:  0.5554609343792387 , v_f:  0.5007092198581561\n",
      "////////\n"
     ]
    },
    {
     "name": "stderr",
     "output_type": "stream",
     "text": [
      "\r",
      "Iterations:  71%|███████████████████████▎         | 212/300 [04:09<01:36,  1.10s/it]"
     ]
    },
    {
     "name": "stdout",
     "output_type": "stream",
     "text": [
      "Epoch  211 , loss 0.39046510100364684\n",
      "Epoch  212 , loss 0.3870427072048187\n"
     ]
    },
    {
     "name": "stderr",
     "output_type": "stream",
     "text": [
      "\r",
      "Iterations:  71%|███████████████████████▍         | 213/300 [04:11<01:43,  1.19s/it]"
     ]
    },
    {
     "name": "stdout",
     "output_type": "stream",
     "text": [
      "Epoch:  212\n",
      "t_loss:  0.3870427072048187 , v_loss:  0.7089587648709615\n",
      "t_acc:  0.7295184490306441 , v_acc:  0.6931818181818182\n",
      "t_recall:  0.5679262258209627 , v_recall:  0.5335174106458046\n",
      "t_prec:  0.7576025335946248 , v_prec:  0.5904761904761905\n",
      "t_f:  0.5460751889322732 , v_f:  0.507870753935377\n",
      "////////\n"
     ]
    },
    {
     "name": "stderr",
     "output_type": "stream",
     "text": [
      "\r",
      "Iterations:  71%|███████████████████████▌         | 214/300 [04:11<01:36,  1.12s/it]"
     ]
    },
    {
     "name": "stdout",
     "output_type": "stream",
     "text": [
      "Epoch  213 , loss 0.38985966265201566\n",
      "Epoch  214 , loss 0.38924759447574614\n"
     ]
    },
    {
     "name": "stderr",
     "output_type": "stream",
     "text": [
      "\r",
      "Iterations:  72%|███████████████████████▋         | 215/300 [04:13<01:41,  1.19s/it]"
     ]
    },
    {
     "name": "stdout",
     "output_type": "stream",
     "text": [
      "Epoch:  214\n",
      "t_loss:  0.38924759447574614 , v_loss:  0.6988006134827932\n",
      "t_acc:  0.7320200125078173 , v_acc:  0.6818181818181818\n",
      "t_recall:  0.5749077822762033 , v_recall:  0.5253873293449915\n",
      "t_prec:  0.7499184163536728 , v_prec:  0.561228264890862\n",
      "t_f:  0.558465125623089 , v_f:  0.5007092198581561\n",
      "////////\n"
     ]
    },
    {
     "name": "stderr",
     "output_type": "stream",
     "text": [
      "\r",
      "Iterations:  72%|███████████████████████▊         | 216/300 [04:14<01:32,  1.10s/it]"
     ]
    },
    {
     "name": "stdout",
     "output_type": "stream",
     "text": [
      "Epoch  215 , loss 0.3905036211013794\n",
      "Epoch  216 , loss 0.3878240156173706\n"
     ]
    },
    {
     "name": "stderr",
     "output_type": "stream",
     "text": [
      "\r",
      "Iterations:  72%|███████████████████████▊         | 217/300 [04:15<01:37,  1.18s/it]"
     ]
    },
    {
     "name": "stdout",
     "output_type": "stream",
     "text": [
      "Epoch:  216\n",
      "t_loss:  0.3878240156173706 , v_loss:  0.7072759767373403\n",
      "t_acc:  0.7345215759849906 , v_acc:  0.6931818181818182\n",
      "t_recall:  0.5801619433198381 , v_recall:  0.5335174106458046\n",
      "t_prec:  0.7505060728744939 , v_prec:  0.5904761904761905\n",
      "t_f:  0.5670441612716655 , v_f:  0.507870753935377\n",
      "////////\n"
     ]
    },
    {
     "name": "stderr",
     "output_type": "stream",
     "text": [
      "\r",
      "Iterations:  73%|███████████████████████▉         | 218/300 [04:16<01:32,  1.12s/it]"
     ]
    },
    {
     "name": "stdout",
     "output_type": "stream",
     "text": [
      "Epoch  217 , loss 0.38908443808555604\n",
      "Epoch  218 , loss 0.38972568154335024\n"
     ]
    },
    {
     "name": "stderr",
     "output_type": "stream",
     "text": [
      "\r",
      "Iterations:  73%|████████████████████████         | 219/300 [04:18<01:41,  1.25s/it]"
     ]
    },
    {
     "name": "stdout",
     "output_type": "stream",
     "text": [
      "Epoch:  218\n",
      "t_loss:  0.38972568154335024 , v_loss:  0.7034920950730642\n",
      "t_acc:  0.7338961851156973 , v_acc:  0.6875\n",
      "t_recall:  0.5751057130004499 , v_recall:  0.5294523699953981\n",
      "t_prec:  0.7665232425635585 , v_prec:  0.575\n",
      "t_f:  0.5575406493061195 , v_f:  0.5042761304859937\n",
      "////////\n"
     ]
    },
    {
     "name": "stderr",
     "output_type": "stream",
     "text": [
      "\r",
      "Iterations:  73%|████████████████████████▏        | 220/300 [04:18<01:29,  1.12s/it]"
     ]
    },
    {
     "name": "stdout",
     "output_type": "stream",
     "text": [
      "Epoch  219 , loss 0.39105875968933107\n",
      "Epoch  220 , loss 0.3865976929664612\n"
     ]
    },
    {
     "name": "stderr",
     "output_type": "stream",
     "text": [
      "\r",
      "Iterations:  74%|████████████████████████▎        | 221/300 [04:20<01:34,  1.19s/it]"
     ]
    },
    {
     "name": "stdout",
     "output_type": "stream",
     "text": [
      "Epoch:  220\n",
      "t_loss:  0.3865976929664612 , v_loss:  0.7114040851593018\n",
      "t_acc:  0.7363977485928705 , v_acc:  0.6875\n",
      "t_recall:  0.5786324786324786 , v_recall:  0.5294523699953981\n",
      "t_prec:  0.7740384615384615 , v_prec:  0.575\n",
      "t_f:  0.5628468979706271 , v_f:  0.5042761304859937\n",
      "////////\n"
     ]
    },
    {
     "name": "stderr",
     "output_type": "stream",
     "text": [
      "\r",
      "Iterations:  74%|████████████████████████▍        | 222/300 [04:21<01:24,  1.09s/it]"
     ]
    },
    {
     "name": "stdout",
     "output_type": "stream",
     "text": [
      "Epoch  221 , loss 0.3833102864027023\n",
      "Epoch  222 , loss 0.3824792009592056\n"
     ]
    },
    {
     "name": "stderr",
     "output_type": "stream",
     "text": [
      "\r",
      "Iterations:  74%|████████████████████████▌        | 223/300 [04:22<01:33,  1.21s/it]"
     ]
    },
    {
     "name": "stdout",
     "output_type": "stream",
     "text": [
      "Epoch:  222\n",
      "t_loss:  0.3824792009592056 , v_loss:  0.7047846515973409\n",
      "t_acc:  0.7329580988117573 , v_acc:  0.6818181818181818\n",
      "t_recall:  0.573855150697256 , v_recall:  0.5253873293449915\n",
      "t_prec:  0.7632885679745389 , v_prec:  0.561228264890862\n",
      "t_f:  0.5556891028248175 , v_f:  0.5007092198581561\n",
      "////////\n"
     ]
    },
    {
     "name": "stderr",
     "output_type": "stream",
     "text": [
      "\r",
      "Iterations:  75%|████████████████████████▋        | 224/300 [04:23<01:25,  1.13s/it]"
     ]
    },
    {
     "name": "stdout",
     "output_type": "stream",
     "text": [
      "Epoch  223 , loss 0.3889970588684082\n",
      "Epoch  224 , loss 0.3880356204509735\n"
     ]
    },
    {
     "name": "stderr",
     "output_type": "stream",
     "text": [
      "\r",
      "Iterations:  75%|████████████████████████▊        | 225/300 [04:24<01:29,  1.20s/it]"
     ]
    },
    {
     "name": "stdout",
     "output_type": "stream",
     "text": [
      "Epoch:  224\n",
      "t_loss:  0.3880356204509735 , v_loss:  0.6974927634000778\n",
      "t_acc:  0.7388993120700438 , v_acc:  0.6761363636363636\n",
      "t_recall:  0.5835987404408457 , v_recall:  0.5213222886945851\n",
      "t_prec:  0.7742571200232491 , v_prec:  0.5488748241912799\n",
      "t_f:  0.5709074571406396 , v_f:  0.4971680617512907\n",
      "////////\n"
     ]
    },
    {
     "name": "stderr",
     "output_type": "stream",
     "text": [
      "\r",
      "Iterations:  75%|████████████████████████▊        | 226/300 [04:25<01:20,  1.09s/it]"
     ]
    },
    {
     "name": "stdout",
     "output_type": "stream",
     "text": [
      "Epoch  225 , loss 0.3844788247346878\n",
      "Epoch  226 , loss 0.38691645562648774\n"
     ]
    },
    {
     "name": "stderr",
     "output_type": "stream",
     "text": [
      "\r",
      "Iterations:  76%|████████████████████████▉        | 227/300 [04:27<01:25,  1.17s/it]"
     ]
    },
    {
     "name": "stdout",
     "output_type": "stream",
     "text": [
      "Epoch:  226\n",
      "t_loss:  0.38691645562648774 , v_loss:  0.7080754637718201\n",
      "t_acc:  0.7392120075046904 , v_acc:  0.6761363636363636\n",
      "t_recall:  0.5849752586594692 , v_recall:  0.5213222886945851\n",
      "t_prec:  0.7708887029141007 , v_prec:  0.5488748241912799\n",
      "t_f:  0.573338614479726 , v_f:  0.4971680617512907\n",
      "////////\n"
     ]
    },
    {
     "name": "stderr",
     "output_type": "stream",
     "text": [
      "\r",
      "Iterations:  76%|█████████████████████████        | 228/300 [04:28<01:19,  1.11s/it]"
     ]
    },
    {
     "name": "stdout",
     "output_type": "stream",
     "text": [
      "Epoch  227 , loss 0.384819318652153\n",
      "Epoch  228 , loss 0.3857109451293945\n"
     ]
    },
    {
     "name": "stderr",
     "output_type": "stream",
     "text": [
      "\r",
      "Iterations:  76%|█████████████████████████▏       | 229/300 [04:29<01:29,  1.26s/it]"
     ]
    },
    {
     "name": "stdout",
     "output_type": "stream",
     "text": [
      "Epoch:  228\n",
      "t_loss:  0.3857109451293945 , v_loss:  0.7061901092529297\n",
      "t_acc:  0.7392120075046904 , v_acc:  0.6818181818181818\n",
      "t_recall:  0.5838236617183986 , v_recall:  0.530756250958736\n",
      "t_prec:  0.7761465352012488 , v_prec:  0.5672142138786456\n",
      "t_f:  0.5711454849498327 , v_f:  0.5111111111111112\n",
      "////////\n"
     ]
    },
    {
     "name": "stderr",
     "output_type": "stream",
     "text": [
      "\r",
      "Iterations:  77%|█████████████████████████▎       | 230/300 [04:30<01:19,  1.14s/it]"
     ]
    },
    {
     "name": "stdout",
     "output_type": "stream",
     "text": [
      "Epoch  229 , loss 0.3873851937055588\n",
      "Epoch  230 , loss 0.3844568085670471\n"
     ]
    },
    {
     "name": "stderr",
     "output_type": "stream",
     "text": [
      "\r",
      "Iterations:  77%|█████████████████████████▍       | 231/300 [04:31<01:24,  1.23s/it]"
     ]
    },
    {
     "name": "stdout",
     "output_type": "stream",
     "text": [
      "Epoch:  230\n",
      "t_loss:  0.3844568085670471 , v_loss:  0.6962446222702662\n",
      "t_acc:  0.739524702939337 , v_acc:  0.6761363636363636\n",
      "t_recall:  0.5860638776428251 , v_recall:  0.5266912103083295\n",
      "t_prec:  0.7689496176338282 , v_prec:  0.5557692307692308\n",
      "t_f:  0.5752035174785599 , v_f:  0.5074385034614819\n",
      "////////\n"
     ]
    },
    {
     "name": "stderr",
     "output_type": "stream",
     "text": [
      "\r",
      "Iterations:  77%|█████████████████████████▌       | 232/300 [04:32<01:15,  1.10s/it]"
     ]
    },
    {
     "name": "stdout",
     "output_type": "stream",
     "text": [
      "Epoch  231 , loss 0.38549829870462415\n",
      "Epoch  232 , loss 0.38425508975982664\n"
     ]
    },
    {
     "name": "stderr",
     "output_type": "stream",
     "text": [
      "\r",
      "Iterations:  78%|█████████████████████████▋       | 233/300 [04:34<01:23,  1.25s/it]"
     ]
    },
    {
     "name": "stdout",
     "output_type": "stream",
     "text": [
      "Epoch:  232\n",
      "t_loss:  0.38425508975982664 , v_loss:  0.7053426752487818\n",
      "t_acc:  0.739524702939337 , v_acc:  0.6818181818181818\n",
      "t_recall:  0.5883670715249663 , v_recall:  0.530756250958736\n",
      "t_prec:  0.759876526458616 , v_prec:  0.5672142138786456\n",
      "t_f:  0.579454650937923 , v_f:  0.5111111111111112\n",
      "////////\n"
     ]
    },
    {
     "name": "stderr",
     "output_type": "stream",
     "text": [
      "\r",
      "Iterations:  78%|█████████████████████████▋       | 234/300 [04:35<01:14,  1.13s/it]"
     ]
    },
    {
     "name": "stdout",
     "output_type": "stream",
     "text": [
      "Epoch  233 , loss 0.38740252614021303\n",
      "Epoch  234 , loss 0.3913577502965927\n"
     ]
    },
    {
     "name": "stderr",
     "output_type": "stream",
     "text": [
      "\r",
      "Iterations:  78%|█████████████████████████▊       | 235/300 [04:36<01:18,  1.21s/it]"
     ]
    },
    {
     "name": "stdout",
     "output_type": "stream",
     "text": [
      "Epoch:  234\n",
      "t_loss:  0.3913577502965927 , v_loss:  0.7070406575997671\n",
      "t_acc:  0.7310819262038775 , v_acc:  0.6761363636363636\n",
      "t_recall:  0.5773999100314889 , v_recall:  0.5266912103083295\n",
      "t_prec:  0.7336257859664514 , v_prec:  0.5557692307692308\n",
      "t_f:  0.5639185869736875 , v_f:  0.5074385034614819\n",
      "////////\n"
     ]
    },
    {
     "name": "stderr",
     "output_type": "stream",
     "text": [
      "\r",
      "Iterations:  79%|█████████████████████████▉       | 236/300 [04:37<01:12,  1.14s/it]"
     ]
    },
    {
     "name": "stdout",
     "output_type": "stream",
     "text": [
      "Epoch  235 , loss 0.3841638094186783\n",
      "Epoch  236 , loss 0.3823921465873718\n"
     ]
    },
    {
     "name": "stderr",
     "output_type": "stream",
     "text": [
      "\r",
      "Iterations:  79%|██████████████████████████       | 237/300 [04:38<01:16,  1.21s/it]"
     ]
    },
    {
     "name": "stdout",
     "output_type": "stream",
     "text": [
      "Epoch:  236\n",
      "t_loss:  0.3823921465873718 , v_loss:  0.7072964111963908\n",
      "t_acc:  0.7401500938086304 , v_acc:  0.6761363636363636\n",
      "t_recall:  0.5847863247863248 , v_recall:  0.5266912103083295\n",
      "t_prec:  0.7804933146101716 , v_prec:  0.5557692307692308\n",
      "t_f:  0.572412772246084 , v_f:  0.5074385034614819\n",
      "////////\n"
     ]
    },
    {
     "name": "stderr",
     "output_type": "stream",
     "text": [
      "\r",
      "Iterations:  79%|██████████████████████████▏      | 238/300 [04:39<01:08,  1.11s/it]"
     ]
    },
    {
     "name": "stdout",
     "output_type": "stream",
     "text": [
      "Epoch  237 , loss 0.38351458966732027\n",
      "Epoch  238 , loss 0.386691027879715\n"
     ]
    },
    {
     "name": "stderr",
     "output_type": "stream",
     "text": [
      "\r",
      "Iterations:  80%|██████████████████████████▎      | 239/300 [04:41<01:13,  1.20s/it]"
     ]
    },
    {
     "name": "stdout",
     "output_type": "stream",
     "text": [
      "Epoch:  238\n",
      "t_loss:  0.386691027879715 , v_loss:  0.7132938752571741\n",
      "t_acc:  0.7410881801125704 , v_acc:  0.6818181818181818\n",
      "t_recall:  0.5892037786774629 , v_recall:  0.530756250958736\n",
      "t_prec:  0.7692548724697625 , v_prec:  0.5672142138786456\n",
      "t_f:  0.5801448721095503 , v_f:  0.5111111111111112\n",
      "////////\n"
     ]
    },
    {
     "name": "stderr",
     "output_type": "stream",
     "text": [
      "\r",
      "Iterations:  80%|██████████████████████████▍      | 240/300 [04:42<01:08,  1.14s/it]"
     ]
    },
    {
     "name": "stdout",
     "output_type": "stream",
     "text": [
      "Epoch  239 , loss 0.38309062391519544\n",
      "Epoch  240 , loss 0.3840792351961136\n"
     ]
    },
    {
     "name": "stderr",
     "output_type": "stream",
     "text": [
      "\r",
      "Iterations:  80%|██████████████████████████▌      | 241/300 [04:43<01:13,  1.25s/it]"
     ]
    },
    {
     "name": "stdout",
     "output_type": "stream",
     "text": [
      "Epoch:  240\n",
      "t_loss:  0.3840792351961136 , v_loss:  0.7115096201499304\n",
      "t_acc:  0.742338961851157 , v_acc:  0.6761363636363636\n",
      "t_recall:  0.5918308591992802 , v_recall:  0.5266912103083295\n",
      "t_prec:  0.7690784199476272 , v_prec:  0.5557692307692308\n",
      "t_f:  0.5842572754724363 , v_f:  0.5074385034614819\n",
      "////////\n"
     ]
    },
    {
     "name": "stderr",
     "output_type": "stream",
     "text": [
      "\r",
      "Iterations:  81%|██████████████████████████▌      | 242/300 [04:44<01:05,  1.12s/it]"
     ]
    },
    {
     "name": "stdout",
     "output_type": "stream",
     "text": [
      "Epoch  241 , loss 0.3817901733517647\n",
      "Epoch  242 , loss 0.3877620244026184\n"
     ]
    },
    {
     "name": "stderr",
     "output_type": "stream",
     "text": [
      "\r",
      "Iterations:  81%|██████████████████████████▋      | 243/300 [04:45<01:08,  1.21s/it]"
     ]
    },
    {
     "name": "stdout",
     "output_type": "stream",
     "text": [
      "Epoch:  242\n",
      "t_loss:  0.3877620244026184 , v_loss:  0.7035691191752752\n",
      "t_acc:  0.7367104440275172 , v_acc:  0.6761363636363636\n",
      "t_recall:  0.5846153846153846 , v_recall:  0.5266912103083295\n",
      "t_prec:  0.7516096238563199 , v_prec:  0.5557692307692308\n",
      "t_f:  0.5741144346939279 , v_f:  0.5074385034614819\n",
      "////////\n"
     ]
    },
    {
     "name": "stderr",
     "output_type": "stream",
     "text": [
      "\r",
      "Iterations:  81%|██████████████████████████▊      | 244/300 [04:46<01:01,  1.10s/it]"
     ]
    },
    {
     "name": "stdout",
     "output_type": "stream",
     "text": [
      "Epoch  243 , loss 0.3845024335384369\n",
      "Epoch  244 , loss 0.3869133424758911\n"
     ]
    },
    {
     "name": "stderr",
     "output_type": "stream",
     "text": [
      "\r",
      "Iterations:  82%|██████████████████████████▉      | 245/300 [04:48<01:06,  1.20s/it]"
     ]
    },
    {
     "name": "stdout",
     "output_type": "stream",
     "text": [
      "Epoch:  244\n",
      "t_loss:  0.3869133424758911 , v_loss:  0.7162702679634094\n",
      "t_acc:  0.7382739212007504 , v_acc:  0.6818181818181818\n",
      "t_recall:  0.5845883940620783 , v_recall:  0.530756250958736\n",
      "t_prec:  0.7643387314439946 , v_prec:  0.5672142138786456\n",
      "t_f:  0.5731636784268364 , v_f:  0.5111111111111112\n",
      "////////\n"
     ]
    },
    {
     "name": "stderr",
     "output_type": "stream",
     "text": [
      "\r",
      "Iterations:  82%|███████████████████████████      | 246/300 [04:49<01:02,  1.16s/it]"
     ]
    },
    {
     "name": "stdout",
     "output_type": "stream",
     "text": [
      "Epoch  245 , loss 0.38436340987682344\n",
      "Epoch  246 , loss 0.38706601977348326\n"
     ]
    },
    {
     "name": "stderr",
     "output_type": "stream",
     "text": [
      "\r",
      "Iterations:  82%|███████████████████████████▏     | 247/300 [04:50<01:04,  1.21s/it]"
     ]
    },
    {
     "name": "stdout",
     "output_type": "stream",
     "text": [
      "Epoch:  246\n",
      "t_loss:  0.38706601977348326 , v_loss:  0.712698370218277\n",
      "t_acc:  0.7379612257661038 , v_acc:  0.6818181818181818\n",
      "t_recall:  0.5858029689608637 , v_recall:  0.530756250958736\n",
      "t_prec:  0.7570495587330768 , v_prec:  0.5672142138786456\n",
      "t_f:  0.5756068360909113 , v_f:  0.5111111111111112\n",
      "////////\n"
     ]
    },
    {
     "name": "stderr",
     "output_type": "stream",
     "text": [
      "\r",
      "Iterations:  83%|███████████████████████████▎     | 248/300 [04:51<00:58,  1.13s/it]"
     ]
    },
    {
     "name": "stdout",
     "output_type": "stream",
     "text": [
      "Epoch  247 , loss 0.3802476876974106\n",
      "Epoch  248 , loss 0.3757782518863678\n"
     ]
    },
    {
     "name": "stderr",
     "output_type": "stream",
     "text": [
      "\r",
      "Iterations:  83%|███████████████████████████▍     | 249/300 [04:52<01:01,  1.20s/it]"
     ]
    },
    {
     "name": "stdout",
     "output_type": "stream",
     "text": [
      "Epoch:  248\n",
      "t_loss:  0.3757782518863678 , v_loss:  0.7155555536349615\n",
      "t_acc:  0.7407754846779238 , v_acc:  0.6818181818181818\n",
      "t_recall:  0.590706252811516 , v_recall:  0.530756250958736\n",
      "t_prec:  0.7610349570870156 , v_prec:  0.5672142138786456\n",
      "t_f:  0.5830301905517595 , v_f:  0.5111111111111112\n",
      "////////\n"
     ]
    },
    {
     "name": "stderr",
     "output_type": "stream",
     "text": [
      "\r",
      "Iterations:  83%|███████████████████████████▌     | 250/300 [04:53<00:56,  1.14s/it]"
     ]
    },
    {
     "name": "stdout",
     "output_type": "stream",
     "text": [
      "Epoch  249 , loss 0.3791535270214081\n",
      "Epoch  250 , loss 0.3849489367008209\n"
     ]
    },
    {
     "name": "stderr",
     "output_type": "stream",
     "text": [
      "\r",
      "Iterations:  84%|███████████████████████████▌     | 251/300 [04:55<01:00,  1.24s/it]"
     ]
    },
    {
     "name": "stdout",
     "output_type": "stream",
     "text": [
      "Epoch:  250\n",
      "t_loss:  0.3849489367008209 , v_loss:  0.7126398185888926\n",
      "t_acc:  0.7385866166353972 , v_acc:  0.6761363636363636\n",
      "t_recall:  0.5856770130454341 , v_recall:  0.5266912103083295\n",
      "t_prec:  0.7625823492896644 , v_prec:  0.5557692307692308\n",
      "t_f:  0.5750198539234468 , v_f:  0.5074385034614819\n",
      "////////\n"
     ]
    },
    {
     "name": "stderr",
     "output_type": "stream",
     "text": [
      "\r",
      "Iterations:  84%|███████████████████████████▋     | 252/300 [04:56<00:56,  1.17s/it]"
     ]
    },
    {
     "name": "stdout",
     "output_type": "stream",
     "text": [
      "Epoch  251 , loss 0.3861428314447403\n",
      "Epoch  252 , loss 0.38652862191200255\n"
     ]
    },
    {
     "name": "stderr",
     "output_type": "stream",
     "text": [
      "\r",
      "Iterations:  84%|███████████████████████████▊     | 253/300 [04:57<00:59,  1.26s/it]"
     ]
    },
    {
     "name": "stdout",
     "output_type": "stream",
     "text": [
      "Epoch:  252\n",
      "t_loss:  0.38652862191200255 , v_loss:  0.7085186690092087\n",
      "t_acc:  0.7360850531582239 , v_acc:  0.6761363636363636\n",
      "t_recall:  0.5812865497076023 , v_recall:  0.5266912103083295\n",
      "t_prec:  0.7591296379914134 , v_prec:  0.5557692307692308\n",
      "t_f:  0.5682227705286437 , v_f:  0.5074385034614819\n",
      "////////\n"
     ]
    },
    {
     "name": "stderr",
     "output_type": "stream",
     "text": [
      "\r",
      "Iterations:  85%|███████████████████████████▉     | 254/300 [04:58<00:52,  1.14s/it]"
     ]
    },
    {
     "name": "stdout",
     "output_type": "stream",
     "text": [
      "Epoch  253 , loss 0.38112004578113556\n",
      "Epoch  254 , loss 0.3804078924655914\n"
     ]
    },
    {
     "name": "stderr",
     "output_type": "stream",
     "text": [
      "\r",
      "Iterations:  85%|████████████████████████████     | 255/300 [05:00<00:54,  1.22s/it]"
     ]
    },
    {
     "name": "stdout",
     "output_type": "stream",
     "text": [
      "Epoch:  254\n",
      "t_loss:  0.3804078924655914 , v_loss:  0.7097654591004053\n",
      "t_acc:  0.7398373983739838 , v_acc:  0.6818181818181818\n",
      "t_recall:  0.5883040935672514 , v_recall:  0.530756250958736\n",
      "t_prec:  0.7625782517968931 , v_prec:  0.5672142138786456\n",
      "t_f:  0.5791724580348553 , v_f:  0.5111111111111112\n",
      "////////\n"
     ]
    },
    {
     "name": "stderr",
     "output_type": "stream",
     "text": [
      "\r",
      "Iterations:  85%|████████████████████████████▏    | 256/300 [05:01<00:48,  1.10s/it]"
     ]
    },
    {
     "name": "stdout",
     "output_type": "stream",
     "text": [
      "Epoch  255 , loss 0.38286438047885896\n",
      "Epoch  256 , loss 0.38126039505004883\n"
     ]
    },
    {
     "name": "stderr",
     "output_type": "stream",
     "text": [
      "\r",
      "Iterations:  86%|████████████████████████████▎    | 257/300 [05:02<00:50,  1.18s/it]"
     ]
    },
    {
     "name": "stdout",
     "output_type": "stream",
     "text": [
      "Epoch:  256\n",
      "t_loss:  0.38126039505004883 , v_loss:  0.7100031723578771\n",
      "t_acc:  0.7379612257661038 , v_acc:  0.6761363636363636\n",
      "t_recall:  0.5837876743139901 , v_recall:  0.5266912103083295\n",
      "t_prec:  0.7649687690132584 , v_prec:  0.5557692307692308\n",
      "t_f:  0.5718383036647208 , v_f:  0.5074385034614819\n",
      "////////\n"
     ]
    },
    {
     "name": "stderr",
     "output_type": "stream",
     "text": [
      "\r",
      "Iterations:  86%|████████████████████████████▍    | 258/300 [05:03<00:47,  1.14s/it]"
     ]
    },
    {
     "name": "stdout",
     "output_type": "stream",
     "text": [
      "Epoch  257 , loss 0.37967256128787996\n",
      "Epoch  258 , loss 0.3805029428005218\n"
     ]
    },
    {
     "name": "stderr",
     "output_type": "stream",
     "text": [
      "\r",
      "Iterations:  86%|████████████████████████████▍    | 259/300 [05:04<00:49,  1.20s/it]"
     ]
    },
    {
     "name": "stdout",
     "output_type": "stream",
     "text": [
      "Epoch:  258\n",
      "t_loss:  0.3805029428005218 , v_loss:  0.7181227107842764\n",
      "t_acc:  0.7388993120700438 , v_acc:  0.6818181818181818\n",
      "t_recall:  0.5890688259109311 , v_recall:  0.530756250958736\n",
      "t_prec:  0.7527229407760381 , v_prec:  0.5672142138786456\n",
      "t_f:  0.5810481444844431 , v_f:  0.5111111111111112\n",
      "////////\n"
     ]
    },
    {
     "name": "stderr",
     "output_type": "stream",
     "text": [
      "\r",
      "Iterations:  87%|████████████████████████████▌    | 260/300 [05:05<00:44,  1.11s/it]"
     ]
    },
    {
     "name": "stdout",
     "output_type": "stream",
     "text": [
      "Epoch  259 , loss 0.38546248495578767\n",
      "Epoch  260 , loss 0.3819413465261459\n"
     ]
    },
    {
     "name": "stderr",
     "output_type": "stream",
     "text": [
      "\r",
      "Iterations:  87%|████████████████████████████▋    | 261/300 [05:07<00:46,  1.20s/it]"
     ]
    },
    {
     "name": "stdout",
     "output_type": "stream",
     "text": [
      "Epoch:  260\n",
      "t_loss:  0.3819413465261459 , v_loss:  0.7154789716005325\n",
      "t_acc:  0.7410881801125704 , v_acc:  0.6761363636363636\n",
      "t_recall:  0.5897795771479982 , v_recall:  0.5266912103083295\n",
      "t_prec:  0.7669657029731224 , v_prec:  0.5557692307692308\n",
      "t_f:  0.581195667371226 , v_f:  0.5074385034614819\n",
      "////////\n"
     ]
    },
    {
     "name": "stderr",
     "output_type": "stream",
     "text": [
      "\r",
      "Iterations:  87%|████████████████████████████▊    | 262/300 [05:08<00:44,  1.17s/it]"
     ]
    },
    {
     "name": "stdout",
     "output_type": "stream",
     "text": [
      "Epoch  261 , loss 0.3778035506606102\n",
      "Epoch  262 , loss 0.3746870404481888\n"
     ]
    },
    {
     "name": "stderr",
     "output_type": "stream",
     "text": [
      "\r",
      "Iterations:  88%|████████████████████████████▉    | 263/300 [05:09<00:45,  1.24s/it]"
     ]
    },
    {
     "name": "stdout",
     "output_type": "stream",
     "text": [
      "Epoch:  262\n",
      "t_loss:  0.3746870404481888 , v_loss:  0.7128684719403585\n",
      "t_acc:  0.7457786116322702 , v_acc:  0.6761363636363636\n",
      "t_recall:  0.5957444894287 , v_recall:  0.5266912103083295\n",
      "t_prec:  0.7815725915875169 , v_prec:  0.5557692307692308\n",
      "t_f:  0.5895517781663042 , v_f:  0.5074385034614819\n",
      "////////\n"
     ]
    },
    {
     "name": "stderr",
     "output_type": "stream",
     "text": [
      "\r",
      "Iterations:  88%|█████████████████████████████    | 264/300 [05:10<00:40,  1.14s/it]"
     ]
    },
    {
     "name": "stdout",
     "output_type": "stream",
     "text": [
      "Epoch  263 , loss 0.38015621066093447\n",
      "Epoch  264 , loss 0.37954888224601746\n"
     ]
    },
    {
     "name": "stderr",
     "output_type": "stream",
     "text": [
      "\r",
      "Iterations:  88%|█████████████████████████████▏   | 265/300 [05:11<00:42,  1.20s/it]"
     ]
    },
    {
     "name": "stdout",
     "output_type": "stream",
     "text": [
      "Epoch:  264\n",
      "t_loss:  0.37954888224601746 , v_loss:  0.714168464144071\n",
      "t_acc:  0.7470293933708568 , v_acc:  0.6761363636363636\n",
      "t_recall:  0.5983715699505173 , v_recall:  0.5266912103083295\n",
      "t_prec:  0.7810908084163899 , v_prec:  0.5557692307692308\n",
      "t_f:  0.5935924388063485 , v_f:  0.5074385034614819\n",
      "////////\n"
     ]
    },
    {
     "name": "stderr",
     "output_type": "stream",
     "text": [
      "\r",
      "Iterations:  89%|█████████████████████████████▎   | 266/300 [05:12<00:37,  1.10s/it]"
     ]
    },
    {
     "name": "stdout",
     "output_type": "stream",
     "text": [
      "Epoch  265 , loss 0.3749717029929161\n",
      "Epoch  266 , loss 0.38315561413764954\n"
     ]
    },
    {
     "name": "stderr",
     "output_type": "stream",
     "text": [
      "\r",
      "Iterations:  89%|█████████████████████████████▎   | 267/300 [05:14<00:39,  1.19s/it]"
     ]
    },
    {
     "name": "stdout",
     "output_type": "stream",
     "text": [
      "Epoch:  266\n",
      "t_loss:  0.38315561413764954 , v_loss:  0.7119859457015991\n",
      "t_acc:  0.7476547842401501 , v_acc:  0.6761363636363636\n",
      "t_recall:  0.6031399010346379 , v_recall:  0.5266912103083295\n",
      "t_prec:  0.768419080919081 , v_prec:  0.5557692307692308\n",
      "t_f:  0.6014374767865569 , v_f:  0.5074385034614819\n",
      "////////\n"
     ]
    },
    {
     "name": "stderr",
     "output_type": "stream",
     "text": [
      "\r",
      "Iterations:  89%|█████████████████████████████▍   | 268/300 [05:15<00:36,  1.13s/it]"
     ]
    },
    {
     "name": "stdout",
     "output_type": "stream",
     "text": [
      "Epoch  267 , loss 0.3795033395290375\n",
      "Epoch  268 , loss 0.384670695066452\n"
     ]
    },
    {
     "name": "stderr",
     "output_type": "stream",
     "text": [
      "\r",
      "Iterations:  90%|█████████████████████████████▌   | 269/300 [05:16<00:36,  1.19s/it]"
     ]
    },
    {
     "name": "stdout",
     "output_type": "stream",
     "text": [
      "Epoch:  268\n",
      "t_loss:  0.384670695066452 , v_loss:  0.7196241865555445\n",
      "t_acc:  0.741400875547217 , v_acc:  0.6818181818181818\n",
      "t_recall:  0.590868196131354 , v_recall:  0.530756250958736\n",
      "t_prec:  0.7652911130507871 , v_prec:  0.5672142138786456\n",
      "t_f:  0.5830030542244271 , v_f:  0.5111111111111112\n",
      "////////\n"
     ]
    },
    {
     "name": "stderr",
     "output_type": "stream",
     "text": [
      "\r",
      "Iterations:  90%|█████████████████████████████▋   | 270/300 [05:17<00:32,  1.08s/it]"
     ]
    },
    {
     "name": "stdout",
     "output_type": "stream",
     "text": [
      "Epoch  269 , loss 0.3790281528234482\n",
      "Epoch  270 , loss 0.38125811755657196\n"
     ]
    },
    {
     "name": "stderr",
     "output_type": "stream",
     "text": [
      "\r",
      "Iterations:  90%|█████████████████████████████▊   | 271/300 [05:18<00:34,  1.19s/it]"
     ]
    },
    {
     "name": "stdout",
     "output_type": "stream",
     "text": [
      "Epoch:  270\n",
      "t_loss:  0.38125811755657196 , v_loss:  0.711710716287295\n",
      "t_acc:  0.7420262664165104 , v_acc:  0.6761363636363636\n",
      "t_recall:  0.5930454340980656 , v_recall:  0.5266912103083295\n",
      "t_prec:  0.7621692805291511 , v_prec:  0.5557692307692308\n",
      "t_f:  0.5865745760170162 , v_f:  0.5074385034614819\n",
      "////////\n"
     ]
    },
    {
     "name": "stderr",
     "output_type": "stream",
     "text": [
      "\r",
      "Iterations:  91%|█████████████████████████████▉   | 272/300 [05:19<00:31,  1.13s/it]"
     ]
    },
    {
     "name": "stdout",
     "output_type": "stream",
     "text": [
      "Epoch  271 , loss 0.37508216202259065\n",
      "Epoch  272 , loss 0.3805781805515289\n"
     ]
    },
    {
     "name": "stderr",
     "output_type": "stream",
     "text": [
      "\r",
      "Iterations:  91%|██████████████████████████████   | 273/300 [05:21<00:33,  1.22s/it]"
     ]
    },
    {
     "name": "stdout",
     "output_type": "stream",
     "text": [
      "Epoch:  272\n",
      "t_loss:  0.3805781805515289 , v_loss:  0.7193048944075903\n",
      "t_acc:  0.7426516572858036 , v_acc:  0.6761363636363636\n",
      "t_recall:  0.5937831758884391 , v_recall:  0.5213222886945851\n",
      "t_prec:  0.7642479772032365 , v_prec:  0.5488748241912799\n",
      "t_f:  0.5875768194690961 , v_f:  0.4971680617512907\n",
      "////////\n"
     ]
    },
    {
     "name": "stderr",
     "output_type": "stream",
     "text": [
      "\r",
      "Iterations:  91%|██████████████████████████████▏  | 274/300 [05:21<00:29,  1.12s/it]"
     ]
    },
    {
     "name": "stdout",
     "output_type": "stream",
     "text": [
      "Epoch  273 , loss 0.3856260371208191\n",
      "Epoch  274 , loss 0.37645773887634276\n"
     ]
    },
    {
     "name": "stderr",
     "output_type": "stream",
     "text": [
      "\r",
      "Iterations:  92%|██████████████████████████████▎  | 275/300 [05:23<00:29,  1.19s/it]"
     ]
    },
    {
     "name": "stdout",
     "output_type": "stream",
     "text": [
      "Epoch:  274\n",
      "t_loss:  0.37645773887634276 , v_loss:  0.7188927978277206\n",
      "t_acc:  0.7464040025015635 , v_acc:  0.6818181818181818\n",
      "t_recall:  0.5996491228070175 , v_recall:  0.530756250958736\n",
      "t_prec:  0.7713778094970045 , v_prec:  0.5672142138786456\n",
      "t_f:  0.5960664110080935 , v_f:  0.5111111111111112\n",
      "////////\n"
     ]
    },
    {
     "name": "stderr",
     "output_type": "stream",
     "text": [
      "\r",
      "Iterations:  92%|██████████████████████████████▎  | 276/300 [05:24<00:26,  1.09s/it]"
     ]
    },
    {
     "name": "stdout",
     "output_type": "stream",
     "text": [
      "Epoch  275 , loss 0.3769920814037323\n",
      "Epoch  276 , loss 0.3759001451730728\n"
     ]
    },
    {
     "name": "stderr",
     "output_type": "stream",
     "text": [
      "\r",
      "Iterations:  92%|██████████████████████████████▍  | 277/300 [05:25<00:27,  1.19s/it]"
     ]
    },
    {
     "name": "stdout",
     "output_type": "stream",
     "text": [
      "Epoch:  276\n",
      "t_loss:  0.3759001451730728 , v_loss:  0.7150336702664694\n",
      "t_acc:  0.7501563477173233 , v_acc:  0.6761363636363636\n",
      "t_recall:  0.6049392712550608 , v_recall:  0.5266912103083295\n",
      "t_prec:  0.7801911895141421 , v_prec:  0.5557692307692308\n",
      "t_f:  0.6034868056892896 , v_f:  0.5074385034614819\n",
      "////////\n"
     ]
    },
    {
     "name": "stderr",
     "output_type": "stream",
     "text": [
      "\r",
      "Iterations:  93%|██████████████████████████████▌  | 278/300 [05:26<00:24,  1.12s/it]"
     ]
    },
    {
     "name": "stdout",
     "output_type": "stream",
     "text": [
      "Epoch  277 , loss 0.37854402780532836\n",
      "Epoch  278 , loss 0.37923029959201815\n"
     ]
    },
    {
     "name": "stderr",
     "output_type": "stream",
     "text": [
      "\r",
      "Iterations:  93%|██████████████████████████████▋  | 279/300 [05:27<00:24,  1.18s/it]"
     ]
    },
    {
     "name": "stdout",
     "output_type": "stream",
     "text": [
      "Epoch:  278\n",
      "t_loss:  0.37923029959201815 , v_loss:  0.7145393987496694\n",
      "t_acc:  0.7470293933708568 , v_acc:  0.6761363636363636\n",
      "t_recall:  0.5995231668915879 , v_recall:  0.5266912103083295\n",
      "t_prec:  0.7765812040332756 , v_prec:  0.5557692307692308\n",
      "t_f:  0.5955856756425117 , v_f:  0.5074385034614819\n",
      "////////\n"
     ]
    },
    {
     "name": "stderr",
     "output_type": "stream",
     "text": [
      "\r",
      "Iterations:  93%|██████████████████████████████▊  | 280/300 [05:28<00:21,  1.08s/it]"
     ]
    },
    {
     "name": "stdout",
     "output_type": "stream",
     "text": [
      "Epoch  279 , loss 0.37614750266075136\n",
      "Epoch  280 , loss 0.3738000050187111\n"
     ]
    },
    {
     "name": "stderr",
     "output_type": "stream",
     "text": [
      "\r",
      "Iterations:  94%|██████████████████████████████▉  | 281/300 [05:30<00:22,  1.18s/it]"
     ]
    },
    {
     "name": "stdout",
     "output_type": "stream",
     "text": [
      "Epoch:  280\n",
      "t_loss:  0.3738000050187111 , v_loss:  0.7101561228434244\n",
      "t_acc:  0.7479674796747967 , v_acc:  0.6761363636363636\n",
      "t_recall:  0.6007737291947819 , v_recall:  0.5266912103083295\n",
      "t_prec:  0.7791028870002568 , v_prec:  0.5557692307692308\n",
      "t_f:  0.5973316536661174 , v_f:  0.5074385034614819\n",
      "////////\n"
     ]
    },
    {
     "name": "stderr",
     "output_type": "stream",
     "text": [
      "\r",
      "Iterations:  94%|███████████████████████████████  | 282/300 [05:31<00:20,  1.12s/it]"
     ]
    },
    {
     "name": "stdout",
     "output_type": "stream",
     "text": [
      "Epoch  281 , loss 0.3699560654163361\n",
      "Epoch  282 , loss 0.3784895807504654\n"
     ]
    },
    {
     "name": "stderr",
     "output_type": "stream",
     "text": [
      "\r",
      "Iterations:  94%|███████████████████████████████▏ | 283/300 [05:32<00:20,  1.22s/it]"
     ]
    },
    {
     "name": "stdout",
     "output_type": "stream",
     "text": [
      "Epoch:  282\n",
      "t_loss:  0.3784895807504654 , v_loss:  0.7120545655488968\n",
      "t_acc:  0.7429643527204502 , v_acc:  0.6761363636363636\n",
      "t_recall:  0.5960233918128655 , v_recall:  0.5266912103083295\n",
      "t_prec:  0.758916430815165 , v_prec:  0.5557692307692308\n",
      "t_f:  0.5913321414691022 , v_f:  0.5074385034614819\n",
      "////////\n"
     ]
    },
    {
     "name": "stderr",
     "output_type": "stream",
     "text": [
      "\r",
      "Iterations:  95%|███████████████████████████████▏ | 284/300 [05:33<00:17,  1.10s/it]"
     ]
    },
    {
     "name": "stdout",
     "output_type": "stream",
     "text": [
      "Epoch  283 , loss 0.3772814482450485\n",
      "Epoch  284 , loss 0.3739730054140091\n"
     ]
    },
    {
     "name": "stderr",
     "output_type": "stream",
     "text": [
      "\r",
      "Iterations:  95%|███████████████████████████████▎ | 285/300 [05:34<00:17,  1.18s/it]"
     ]
    },
    {
     "name": "stdout",
     "output_type": "stream",
     "text": [
      "Epoch:  284\n",
      "t_loss:  0.3739730054140091 , v_loss:  0.7119404971599579\n",
      "t_acc:  0.743277048155097 , v_acc:  0.6761363636363636\n",
      "t_recall:  0.5950967161493477 , v_recall:  0.5266912103083295\n",
      "t_prec:  0.76427981618439 , v_prec:  0.5557692307692308\n",
      "t_f:  0.5895869464802251 , v_f:  0.5074385034614819\n",
      "////////\n"
     ]
    },
    {
     "name": "stderr",
     "output_type": "stream",
     "text": [
      "\r",
      "Iterations:  95%|███████████████████████████████▍ | 286/300 [05:35<00:15,  1.08s/it]"
     ]
    },
    {
     "name": "stdout",
     "output_type": "stream",
     "text": [
      "Epoch  285 , loss 0.37224225997924804\n",
      "Epoch  286 , loss 0.37684047788381575\n"
     ]
    },
    {
     "name": "stderr",
     "output_type": "stream",
     "text": [
      "\r",
      "Iterations:  96%|███████████████████████████████▌ | 287/300 [05:37<00:15,  1.19s/it]"
     ]
    },
    {
     "name": "stdout",
     "output_type": "stream",
     "text": [
      "Epoch:  286\n",
      "t_loss:  0.37684047788381575 , v_loss:  0.7126801858345667\n",
      "t_acc:  0.7460913070669168 , v_acc:  0.6761363636363636\n",
      "t_recall:  0.6002878992352676 , v_recall:  0.5266912103083295\n",
      "t_prec:  0.7669035278689491 , v_prec:  0.5557692307692308\n",
      "t_f:  0.5972784406119787 , v_f:  0.5074385034614819\n",
      "////////\n"
     ]
    },
    {
     "name": "stderr",
     "output_type": "stream",
     "text": [
      "\r",
      "Iterations:  96%|███████████████████████████████▋ | 288/300 [05:38<00:13,  1.13s/it]"
     ]
    },
    {
     "name": "stdout",
     "output_type": "stream",
     "text": [
      "Epoch  287 , loss 0.3749445104598999\n",
      "Epoch  288 , loss 0.37394818603992463\n"
     ]
    },
    {
     "name": "stderr",
     "output_type": "stream",
     "text": [
      "\r",
      "Iterations:  96%|███████████████████████████████▊ | 289/300 [05:39<00:12,  1.18s/it]"
     ]
    },
    {
     "name": "stdout",
     "output_type": "stream",
     "text": [
      "Epoch:  288\n",
      "t_loss:  0.37394818603992463 , v_loss:  0.715091327826182\n",
      "t_acc:  0.7501563477173233 , v_acc:  0.6704545454545454\n",
      "t_recall:  0.6072424651372019 , v_recall:  0.522626169657923\n",
      "t_prec:  0.772249395626019 , v_prec:  0.5453149001536098\n",
      "t_f:  0.6072643737945084 , v_f:  0.5037915613455182\n",
      "////////\n"
     ]
    },
    {
     "name": "stderr",
     "output_type": "stream",
     "text": [
      "\r",
      "Iterations:  97%|███████████████████████████████▉ | 290/300 [05:40<00:10,  1.08s/it]"
     ]
    },
    {
     "name": "stdout",
     "output_type": "stream",
     "text": [
      "Epoch  289 , loss 0.3760523945093155\n",
      "Epoch  290 , loss 0.37354963541030883\n"
     ]
    },
    {
     "name": "stderr",
     "output_type": "stream",
     "text": [
      "\r",
      "Iterations:  97%|████████████████████████████████ | 291/300 [05:41<00:10,  1.17s/it]"
     ]
    },
    {
     "name": "stdout",
     "output_type": "stream",
     "text": [
      "Epoch:  290\n",
      "t_loss:  0.37354963541030883 , v_loss:  0.7228349496920904\n",
      "t_acc:  0.7510944340212633 , v_acc:  0.6818181818181818\n",
      "t_recall:  0.6070535312640576 , v_recall:  0.530756250958736\n",
      "t_prec:  0.7794857896543624 , v_prec:  0.5672142138786456\n",
      "t_f:  0.6066347722889779 , v_f:  0.5111111111111112\n",
      "////////\n"
     ]
    },
    {
     "name": "stderr",
     "output_type": "stream",
     "text": [
      "\r",
      "Iterations:  97%|████████████████████████████████ | 292/300 [05:42<00:08,  1.10s/it]"
     ]
    },
    {
     "name": "stdout",
     "output_type": "stream",
     "text": [
      "Epoch  291 , loss 0.37564161777496335\n",
      "Epoch  292 , loss 0.37120258271694184\n"
     ]
    },
    {
     "name": "stderr",
     "output_type": "stream",
     "text": [
      "\r",
      "Iterations:  98%|████████████████████████████████▏| 293/300 [05:43<00:08,  1.19s/it]"
     ]
    },
    {
     "name": "stdout",
     "output_type": "stream",
     "text": [
      "Epoch:  292\n",
      "t_loss:  0.37120258271694184 , v_loss:  0.7192318191130956\n",
      "t_acc:  0.7457786116322702 , v_acc:  0.6704545454545454\n",
      "t_recall:  0.5980476833108412 , v_recall:  0.522626169657923\n",
      "t_prec:  0.7724807414169803 , v_prec:  0.5453149001536098\n",
      "t_f:  0.5935860992550828 , v_f:  0.5037915613455182\n",
      "////////\n"
     ]
    },
    {
     "name": "stderr",
     "output_type": "stream",
     "text": [
      "\r",
      "Iterations:  98%|████████████████████████████████▎| 294/300 [05:44<00:06,  1.10s/it]"
     ]
    },
    {
     "name": "stdout",
     "output_type": "stream",
     "text": [
      "Epoch  293 , loss 0.3747674822807312\n",
      "Epoch  294 , loss 0.3750695043802261\n"
     ]
    },
    {
     "name": "stderr",
     "output_type": "stream",
     "text": [
      "\r",
      "Iterations:  98%|████████████████████████████████▍| 295/300 [05:46<00:05,  1.18s/it]"
     ]
    },
    {
     "name": "stdout",
     "output_type": "stream",
     "text": [
      "Epoch:  294\n",
      "t_loss:  0.3750695043802261 , v_loss:  0.7159048020839691\n",
      "t_acc:  0.7526579111944965 , v_acc:  0.6704545454545454\n",
      "t_recall:  0.6101934322986955 , v_recall:  0.522626169657923\n",
      "t_prec:  0.7797408219486142 , v_prec:  0.5453149001536098\n",
      "t_f:  0.6111966453960652 , v_f:  0.5037915613455182\n",
      "////////\n"
     ]
    },
    {
     "name": "stderr",
     "output_type": "stream",
     "text": [
      "\r",
      "Iterations:  99%|████████████████████████████████▌| 296/300 [05:47<00:04,  1.08s/it]"
     ]
    },
    {
     "name": "stdout",
     "output_type": "stream",
     "text": [
      "Epoch  295 , loss 0.3795192337036133\n",
      "Epoch  296 , loss 0.3751337686181068\n"
     ]
    },
    {
     "name": "stderr",
     "output_type": "stream",
     "text": [
      "\r",
      "Iterations:  99%|████████████████████████████████▋| 297/300 [05:48<00:03,  1.19s/it]"
     ]
    },
    {
     "name": "stdout",
     "output_type": "stream",
     "text": [
      "Epoch:  296\n",
      "t_loss:  0.3751337686181068 , v_loss:  0.717005987962087\n",
      "t_acc:  0.7501563477173233 , v_acc:  0.6761363636363636\n",
      "t_recall:  0.605515069725596 , v_recall:  0.5320601319220739\n",
      "t_prec:  0.7781134168053001 , v_prec:  0.5616883116883117\n",
      "t_f:  0.6044409334579826 , v_f:  0.5171119133574007\n",
      "////////\n"
     ]
    },
    {
     "name": "stderr",
     "output_type": "stream",
     "text": [
      "\r",
      "Iterations:  99%|████████████████████████████████▊| 298/300 [05:49<00:02,  1.11s/it]"
     ]
    },
    {
     "name": "stdout",
     "output_type": "stream",
     "text": [
      "Epoch  297 , loss 0.37157746493816374\n",
      "Epoch  298 , loss 0.3718879446387291\n"
     ]
    },
    {
     "name": "stderr",
     "output_type": "stream",
     "text": [
      "\r",
      "Iterations: 100%|████████████████████████████████▉| 299/300 [05:50<00:01,  1.19s/it]"
     ]
    },
    {
     "name": "stdout",
     "output_type": "stream",
     "text": [
      "Epoch:  298\n",
      "t_loss:  0.3718879446387291 , v_loss:  0.712211862206459\n",
      "t_acc:  0.7507817385866167 , v_acc:  0.6761363636363636\n",
      "t_recall:  0.6048133153396311 , v_recall:  0.5320601319220739\n",
      "t_prec:  0.7854416288046319 , v_prec:  0.5616883116883117\n",
      "t_f:  0.6030393706207775 , v_f:  0.5171119133574007\n",
      "////////\n"
     ]
    },
    {
     "name": "stderr",
     "output_type": "stream",
     "text": [
      "Iterations: 100%|█████████████████████████████████| 300/300 [05:51<00:00,  1.17s/it]"
     ]
    },
    {
     "name": "stdout",
     "output_type": "stream",
     "text": [
      "Epoch  299 , loss 0.37446635097265246\n"
     ]
    },
    {
     "name": "stderr",
     "output_type": "stream",
     "text": [
      "\n"
     ]
    },
    {
     "name": "stdout",
     "output_type": "stream",
     "text": [
      "111 8\n",
      "\n",
      "c0_acc 0.9024390243902439 , c1_acc 0.1509433962264151 , b_acc 0.5266912103083295\n"
     ]
    },
    {
     "name": "stderr",
     "output_type": "stream",
     "text": [
      "\r",
      "Iterations:   0%|                                           | 0/300 [00:00<?, ?it/s]"
     ]
    },
    {
     "name": "stdout",
     "output_type": "stream",
     "text": [
      "Epoch  0 , loss 0.6453145158290863\n"
     ]
    },
    {
     "name": "stderr",
     "output_type": "stream",
     "text": [
      "\r",
      "Iterations:   0%|                                   | 1/300 [00:01<06:56,  1.39s/it]"
     ]
    },
    {
     "name": "stdout",
     "output_type": "stream",
     "text": [
      "Epoch:  0\n",
      "t_loss:  0.6453145158290863 , v_loss:  0.6861961483955383\n",
      "t_acc:  0.5786005647944775 , v_acc:  0.7005347593582888\n",
      "t_recall:  0.49044092374290515 , v_recall:  0.5\n",
      "t_prec:  0.48989800075591355 , v_prec:  0.3502673796791444\n",
      "t_f:  0.4897346457212023 , v_f:  0.41194968553459116\n",
      "////////\n"
     ]
    },
    {
     "name": "stderr",
     "output_type": "stream",
     "text": [
      "\r",
      "Iterations:   1%|▏                                  | 2/300 [00:02<05:21,  1.08s/it]"
     ]
    },
    {
     "name": "stdout",
     "output_type": "stream",
     "text": [
      "Epoch  1 , loss 0.5991150426864624\n",
      "Epoch  2 , loss 0.5603404325246811\n"
     ]
    },
    {
     "name": "stderr",
     "output_type": "stream",
     "text": [
      "\r",
      "Iterations:   1%|▎                                  | 3/300 [00:03<06:16,  1.27s/it]"
     ]
    },
    {
     "name": "stdout",
     "output_type": "stream",
     "text": [
      "Epoch:  2\n",
      "t_loss:  0.5603404325246811 , v_loss:  0.676578938961029\n",
      "t_acc:  0.6673988076561029 , v_acc:  0.7005347593582888\n",
      "t_recall:  0.4991876375999777 , v_recall:  0.5\n",
      "t_prec:  0.49732052578361985 , v_prec:  0.3502673796791444\n",
      "t_f:  0.45309201443302705 , v_f:  0.41194968553459116\n",
      "////////\n"
     ]
    },
    {
     "name": "stderr",
     "output_type": "stream",
     "text": [
      "\r",
      "Iterations:   1%|▍                                  | 4/300 [00:04<05:30,  1.12s/it]"
     ]
    },
    {
     "name": "stdout",
     "output_type": "stream",
     "text": [
      "Epoch  3 , loss 0.5306122720241546\n",
      "Epoch  4 , loss 0.5056240743398667\n"
     ]
    },
    {
     "name": "stderr",
     "output_type": "stream",
     "text": [
      "\r",
      "Iterations:   2%|▌                                  | 5/300 [00:05<05:56,  1.21s/it]"
     ]
    },
    {
     "name": "stdout",
     "output_type": "stream",
     "text": [
      "Epoch:  4\n",
      "t_loss:  0.5056240743398667 , v_loss:  0.6493333180745443\n",
      "t_acc:  0.6884217132099153 , v_acc:  0.7005347593582888\n",
      "t_recall:  0.4969916116266756 , v_recall:  0.5\n",
      "t_prec:  0.4377702196345189 , v_prec:  0.3502673796791444\n",
      "t_f:  0.4134948279648507 , v_f:  0.41194968553459116\n",
      "////////\n"
     ]
    },
    {
     "name": "stderr",
     "output_type": "stream",
     "text": [
      "\r",
      "Iterations:   2%|▋                                  | 6/300 [00:06<05:15,  1.07s/it]"
     ]
    },
    {
     "name": "stdout",
     "output_type": "stream",
     "text": [
      "Epoch  5 , loss 0.4882993358373642\n",
      "Epoch  6 , loss 0.4821214586496353\n"
     ]
    },
    {
     "name": "stderr",
     "output_type": "stream",
     "text": [
      "\r",
      "Iterations:   2%|▊                                  | 7/300 [00:08<05:49,  1.19s/it]"
     ]
    },
    {
     "name": "stdout",
     "output_type": "stream",
     "text": [
      "Epoch:  6\n",
      "t_loss:  0.4821214586496353 , v_loss:  0.6135623753070831\n",
      "t_acc:  0.6956385315343583 , v_acc:  0.7005347593582888\n",
      "t_recall:  0.5027608245315794 , v_recall:  0.5\n",
      "t_prec:  0.6338075728242762 , v_prec:  0.3502673796791444\n",
      "t_f:  0.4180987424537436 , v_f:  0.41194968553459116\n",
      "////////\n"
     ]
    },
    {
     "name": "stderr",
     "output_type": "stream",
     "text": [
      "\r",
      "Iterations:   3%|▉                                  | 8/300 [00:09<05:18,  1.09s/it]"
     ]
    },
    {
     "name": "stdout",
     "output_type": "stream",
     "text": [
      "Epoch  7 , loss 0.47043586313724517\n",
      "Epoch  8 , loss 0.4663114094734192\n"
     ]
    },
    {
     "name": "stderr",
     "output_type": "stream",
     "text": [
      "\r",
      "Iterations:   3%|█                                  | 9/300 [00:10<05:47,  1.19s/it]"
     ]
    },
    {
     "name": "stdout",
     "output_type": "stream",
     "text": [
      "Epoch:  8\n",
      "t_loss:  0.4663114094734192 , v_loss:  0.6079611678918203\n",
      "t_acc:  0.6953247568245999 , v_acc:  0.7005347593582888\n",
      "t_recall:  0.5010917426079201 , v_recall:  0.5\n",
      "t_prec:  0.6477372721558767 , v_prec:  0.3502673796791444\n",
      "t_f:  0.4131132406285838 , v_f:  0.41194968553459116\n",
      "////////\n"
     ]
    },
    {
     "name": "stderr",
     "output_type": "stream",
     "text": [
      "\r",
      "Iterations:   3%|█▏                                | 10/300 [00:11<05:24,  1.12s/it]"
     ]
    },
    {
     "name": "stdout",
     "output_type": "stream",
     "text": [
      "Epoch  9 , loss 0.463240242600441\n",
      "Epoch  10 , loss 0.46485473573207853\n"
     ]
    },
    {
     "name": "stderr",
     "output_type": "stream",
     "text": [
      "\r",
      "Iterations:   4%|█▏                                | 11/300 [00:12<05:44,  1.19s/it]"
     ]
    },
    {
     "name": "stdout",
     "output_type": "stream",
     "text": [
      "Epoch:  10\n",
      "t_loss:  0.46485473573207853 , v_loss:  0.6213754614194235\n",
      "t_acc:  0.6950109821148416 , v_acc:  0.7005347593582888\n",
      "t_recall:  0.5 , v_recall:  0.5\n",
      "t_prec:  0.3475054910574208 , v_prec:  0.3502673796791444\n",
      "t_f:  0.4100333209922251 , v_f:  0.41194968553459116\n",
      "////////\n"
     ]
    },
    {
     "name": "stderr",
     "output_type": "stream",
     "text": [
      "\r",
      "Iterations:   4%|█▎                                | 12/300 [00:13<05:12,  1.09s/it]"
     ]
    },
    {
     "name": "stdout",
     "output_type": "stream",
     "text": [
      "Epoch  11 , loss 0.4601802182197571\n",
      "Epoch  12 , loss 0.4615401291847229\n"
     ]
    },
    {
     "name": "stderr",
     "output_type": "stream",
     "text": [
      "\r",
      "Iterations:   4%|█▍                                | 13/300 [00:15<05:39,  1.18s/it]"
     ]
    },
    {
     "name": "stdout",
     "output_type": "stream",
     "text": [
      "Epoch:  12\n",
      "t_loss:  0.4615401291847229 , v_loss:  0.632120798031489\n",
      "t_acc:  0.6946972074050831 , v_acc:  0.7005347593582888\n",
      "t_recall:  0.4997742663656885 , v_recall:  0.5\n",
      "t_prec:  0.3474576271186441 , v_prec:  0.3502673796791444\n",
      "t_f:  0.40992408813182746 , v_f:  0.41194968553459116\n",
      "////////\n"
     ]
    },
    {
     "name": "stderr",
     "output_type": "stream",
     "text": [
      "\r",
      "Iterations:   5%|█▌                                | 14/300 [00:16<05:16,  1.11s/it]"
     ]
    },
    {
     "name": "stdout",
     "output_type": "stream",
     "text": [
      "Epoch  13 , loss 0.4595569783449173\n",
      "Epoch  14 , loss 0.4582464301586151\n"
     ]
    },
    {
     "name": "stderr",
     "output_type": "stream",
     "text": [
      "\r",
      "Iterations:   5%|█▋                                | 15/300 [00:17<05:56,  1.25s/it]"
     ]
    },
    {
     "name": "stdout",
     "output_type": "stream",
     "text": [
      "Epoch:  14\n",
      "t_loss:  0.4582464301586151 , v_loss:  0.6346819152434667\n",
      "t_acc:  0.6953247568245999 , v_acc:  0.7005347593582888\n",
      "t_recall:  0.5005144032921811 , v_recall:  0.5\n",
      "t_prec:  0.8476145637162587 , v_prec:  0.3502673796791444\n",
      "t_f:  0.41113698825899736 , v_f:  0.41194968553459116\n",
      "////////\n"
     ]
    },
    {
     "name": "stderr",
     "output_type": "stream",
     "text": [
      "\r",
      "Iterations:   5%|█▊                                | 16/300 [00:18<05:25,  1.15s/it]"
     ]
    },
    {
     "name": "stdout",
     "output_type": "stream",
     "text": [
      "Epoch  15 , loss 0.4618348354101181\n",
      "Epoch  16 , loss 0.45677169382572175\n"
     ]
    },
    {
     "name": "stderr",
     "output_type": "stream",
     "text": [
      "\r",
      "Iterations:   6%|█▉                                | 17/300 [00:19<05:48,  1.23s/it]"
     ]
    },
    {
     "name": "stdout",
     "output_type": "stream",
     "text": [
      "Epoch:  16\n",
      "t_loss:  0.45677169382572175 , v_loss:  0.6329613775014877\n",
      "t_acc:  0.6953247568245999 , v_acc:  0.7005347593582888\n",
      "t_recall:  0.5005144032921811 , v_recall:  0.5\n",
      "t_prec:  0.8476145637162587 , v_prec:  0.3502673796791444\n",
      "t_f:  0.41113698825899736 , v_f:  0.41194968553459116\n",
      "////////\n"
     ]
    },
    {
     "name": "stderr",
     "output_type": "stream",
     "text": [
      "\r",
      "Iterations:   6%|██                                | 18/300 [00:20<05:13,  1.11s/it]"
     ]
    },
    {
     "name": "stdout",
     "output_type": "stream",
     "text": [
      "Epoch  17 , loss 0.45531818866729734\n",
      "Epoch  18 , loss 0.45097417652606964\n"
     ]
    },
    {
     "name": "stderr",
     "output_type": "stream",
     "text": [
      "\r",
      "Iterations:   6%|██▏                               | 19/300 [00:22<05:43,  1.22s/it]"
     ]
    },
    {
     "name": "stdout",
     "output_type": "stream",
     "text": [
      "Epoch:  18\n",
      "t_loss:  0.45097417652606964 , v_loss:  0.6332186410824457\n",
      "t_acc:  0.6956385315343583 , v_acc:  0.7005347593582888\n",
      "t_recall:  0.5010288065843621 , v_recall:  0.5\n",
      "t_prec:  0.847723704866562 , v_prec:  0.3502673796791444\n",
      "t_f:  0.41223857327553426 , v_f:  0.41194968553459116\n",
      "////////\n"
     ]
    },
    {
     "name": "stderr",
     "output_type": "stream",
     "text": [
      "\r",
      "Iterations:   7%|██▎                               | 20/300 [00:23<05:12,  1.12s/it]"
     ]
    },
    {
     "name": "stdout",
     "output_type": "stream",
     "text": [
      "Epoch  19 , loss 0.457924969792366\n",
      "Epoch  20 , loss 0.4592060786485672\n"
     ]
    },
    {
     "name": "stderr",
     "output_type": "stream",
     "text": [
      "\r",
      "Iterations:   7%|██▍                               | 21/300 [00:24<05:43,  1.23s/it]"
     ]
    },
    {
     "name": "stdout",
     "output_type": "stream",
     "text": [
      "Epoch:  20\n",
      "t_loss:  0.4592060786485672 , v_loss:  0.6333118180433909\n",
      "t_acc:  0.6950109821148416 , v_acc:  0.7005347593582888\n",
      "t_recall:  0.5 , v_recall:  0.5\n",
      "t_prec:  0.3475054910574208 , v_prec:  0.3502673796791444\n",
      "t_f:  0.4100333209922251 , v_f:  0.41194968553459116\n",
      "////////\n"
     ]
    },
    {
     "name": "stderr",
     "output_type": "stream",
     "text": [
      "\r",
      "Iterations:   7%|██▍                               | 22/300 [00:25<05:16,  1.14s/it]"
     ]
    },
    {
     "name": "stdout",
     "output_type": "stream",
     "text": [
      "Epoch  21 , loss 0.45441421151161193\n",
      "Epoch  22 , loss 0.4583351254463196\n"
     ]
    },
    {
     "name": "stderr",
     "output_type": "stream",
     "text": [
      "\r",
      "Iterations:   8%|██▌                               | 23/300 [00:26<05:31,  1.20s/it]"
     ]
    },
    {
     "name": "stdout",
     "output_type": "stream",
     "text": [
      "Epoch:  22\n",
      "t_loss:  0.4583351254463196 , v_loss:  0.6298152705033621\n",
      "t_acc:  0.6953247568245999 , v_acc:  0.7005347593582888\n",
      "t_recall:  0.5005144032921811 , v_recall:  0.5\n",
      "t_prec:  0.8476145637162587 , v_prec:  0.3502673796791444\n",
      "t_f:  0.41113698825899736 , v_f:  0.41194968553459116\n",
      "////////\n"
     ]
    },
    {
     "name": "stderr",
     "output_type": "stream",
     "text": [
      "\r",
      "Iterations:   8%|██▋                               | 24/300 [00:27<05:03,  1.10s/it]"
     ]
    },
    {
     "name": "stdout",
     "output_type": "stream",
     "text": [
      "Epoch  23 , loss 0.45315659821033477\n",
      "Epoch  24 , loss 0.4567105317115784\n"
     ]
    },
    {
     "name": "stderr",
     "output_type": "stream",
     "text": [
      "\r",
      "Iterations:   8%|██▊                               | 25/300 [00:29<05:20,  1.17s/it]"
     ]
    },
    {
     "name": "stdout",
     "output_type": "stream",
     "text": [
      "Epoch:  24\n",
      "t_loss:  0.4567105317115784 , v_loss:  0.6308774600426356\n",
      "t_acc:  0.6950109821148416 , v_acc:  0.7005347593582888\n",
      "t_recall:  0.5 , v_recall:  0.5\n",
      "t_prec:  0.3475054910574208 , v_prec:  0.3502673796791444\n",
      "t_f:  0.4100333209922251 , v_f:  0.41194968553459116\n",
      "////////\n"
     ]
    },
    {
     "name": "stderr",
     "output_type": "stream",
     "text": [
      "\r",
      "Iterations:   9%|██▉                               | 26/300 [00:29<04:59,  1.09s/it]"
     ]
    },
    {
     "name": "stdout",
     "output_type": "stream",
     "text": [
      "Epoch  25 , loss 0.45087562382221225\n",
      "Epoch  26 , loss 0.4518572098016739\n"
     ]
    },
    {
     "name": "stderr",
     "output_type": "stream",
     "text": [
      "\r",
      "Iterations:   9%|███                               | 27/300 [00:31<05:37,  1.24s/it]"
     ]
    },
    {
     "name": "stdout",
     "output_type": "stream",
     "text": [
      "Epoch:  26\n",
      "t_loss:  0.4518572098016739 , v_loss:  0.6303834219773611\n",
      "t_acc:  0.6946972074050831 , v_acc:  0.7005347593582888\n",
      "t_recall:  0.4997742663656885 , v_recall:  0.5\n",
      "t_prec:  0.3474576271186441 , v_prec:  0.3502673796791444\n",
      "t_f:  0.40992408813182746 , v_f:  0.41194968553459116\n",
      "////////\n"
     ]
    },
    {
     "name": "stderr",
     "output_type": "stream",
     "text": [
      "\r",
      "Iterations:   9%|███▏                              | 28/300 [00:32<05:12,  1.15s/it]"
     ]
    },
    {
     "name": "stdout",
     "output_type": "stream",
     "text": [
      "Epoch  27 , loss 0.45205038726329805\n",
      "Epoch  28 , loss 0.45369251668453214\n"
     ]
    },
    {
     "name": "stderr",
     "output_type": "stream",
     "text": [
      "\r",
      "Iterations:  10%|███▎                              | 29/300 [00:33<05:32,  1.23s/it]"
     ]
    },
    {
     "name": "stdout",
     "output_type": "stream",
     "text": [
      "Epoch:  28\n",
      "t_loss:  0.45369251668453214 , v_loss:  0.6288640201091766\n",
      "t_acc:  0.6950109821148416 , v_acc:  0.7005347593582888\n",
      "t_recall:  0.5 , v_recall:  0.5\n",
      "t_prec:  0.3475054910574208 , v_prec:  0.3502673796791444\n",
      "t_f:  0.4100333209922251 , v_f:  0.41194968553459116\n",
      "////////\n"
     ]
    },
    {
     "name": "stderr",
     "output_type": "stream",
     "text": [
      "\r",
      "Iterations:  10%|███▍                              | 30/300 [00:34<05:02,  1.12s/it]"
     ]
    },
    {
     "name": "stdout",
     "output_type": "stream",
     "text": [
      "Epoch  29 , loss 0.4562953609228134\n",
      "Epoch  30 , loss 0.4480770182609558\n"
     ]
    },
    {
     "name": "stderr",
     "output_type": "stream",
     "text": [
      "\r",
      "Iterations:  10%|███▌                              | 31/300 [00:36<05:32,  1.24s/it]"
     ]
    },
    {
     "name": "stdout",
     "output_type": "stream",
     "text": [
      "Epoch:  30\n",
      "t_loss:  0.4480770182609558 , v_loss:  0.6271563917398453\n",
      "t_acc:  0.6946972074050831 , v_acc:  0.7005347593582888\n",
      "t_recall:  0.4997742663656885 , v_recall:  0.5\n",
      "t_prec:  0.3474576271186441 , v_prec:  0.3502673796791444\n",
      "t_f:  0.40992408813182746 , v_f:  0.41194968553459116\n",
      "////////\n"
     ]
    },
    {
     "name": "stderr",
     "output_type": "stream",
     "text": [
      "\r",
      "Iterations:  11%|███▋                              | 32/300 [00:37<05:05,  1.14s/it]"
     ]
    },
    {
     "name": "stdout",
     "output_type": "stream",
     "text": [
      "Epoch  31 , loss 0.4518031692504883\n",
      "Epoch  32 , loss 0.4507624763250351\n"
     ]
    },
    {
     "name": "stderr",
     "output_type": "stream",
     "text": [
      "\r",
      "Iterations:  11%|███▋                              | 33/300 [00:38<05:38,  1.27s/it]"
     ]
    },
    {
     "name": "stdout",
     "output_type": "stream",
     "text": [
      "Epoch:  32\n",
      "t_loss:  0.4507624763250351 , v_loss:  0.6276035706202189\n",
      "t_acc:  0.6953247568245999 , v_acc:  0.7005347593582888\n",
      "t_recall:  0.5005144032921811 , v_recall:  0.5\n",
      "t_prec:  0.8476145637162587 , v_prec:  0.3502673796791444\n",
      "t_f:  0.41113698825899736 , v_f:  0.41194968553459116\n",
      "////////\n"
     ]
    },
    {
     "name": "stderr",
     "output_type": "stream",
     "text": [
      "\r",
      "Iterations:  11%|███▊                              | 34/300 [00:39<05:13,  1.18s/it]"
     ]
    },
    {
     "name": "stdout",
     "output_type": "stream",
     "text": [
      "Epoch  33 , loss 0.44906789243221285\n",
      "Epoch  34 , loss 0.4486948698759079\n"
     ]
    },
    {
     "name": "stderr",
     "output_type": "stream",
     "text": [
      "\r",
      "Iterations:  12%|███▉                              | 35/300 [00:41<05:31,  1.25s/it]"
     ]
    },
    {
     "name": "stdout",
     "output_type": "stream",
     "text": [
      "Epoch:  34\n",
      "t_loss:  0.4486948698759079 , v_loss:  0.6278910140196482\n",
      "t_acc:  0.6943834326953248 , v_acc:  0.7005347593582888\n",
      "t_recall:  0.49954853273137695 , v_recall:  0.5\n",
      "t_prec:  0.34740973312401885 , v_prec:  0.3502673796791444\n",
      "t_f:  0.4098148148148148 , v_f:  0.41194968553459116\n",
      "////////\n"
     ]
    },
    {
     "name": "stderr",
     "output_type": "stream",
     "text": [
      "\r",
      "Iterations:  12%|████                              | 36/300 [00:42<05:17,  1.20s/it]"
     ]
    },
    {
     "name": "stdout",
     "output_type": "stream",
     "text": [
      "Epoch  35 , loss 0.44628329992294313\n",
      "Epoch  36 , loss 0.4432211971282959\n"
     ]
    },
    {
     "name": "stderr",
     "output_type": "stream",
     "text": [
      "\r",
      "Iterations:  12%|████▏                             | 37/300 [00:43<05:29,  1.25s/it]"
     ]
    },
    {
     "name": "stdout",
     "output_type": "stream",
     "text": [
      "Epoch:  36\n",
      "t_loss:  0.4432211971282959 , v_loss:  0.6272582312424978\n",
      "t_acc:  0.6946972074050831 , v_acc:  0.7005347593582888\n",
      "t_recall:  0.4997742663656885 , v_recall:  0.5\n",
      "t_prec:  0.3474576271186441 , v_prec:  0.3502673796791444\n",
      "t_f:  0.40992408813182746 , v_f:  0.41194968553459116\n",
      "////////\n"
     ]
    },
    {
     "name": "stderr",
     "output_type": "stream",
     "text": [
      "\r",
      "Iterations:  13%|████▎                             | 38/300 [00:44<05:00,  1.15s/it]"
     ]
    },
    {
     "name": "stdout",
     "output_type": "stream",
     "text": [
      "Epoch  37 , loss 0.4463480257987976\n",
      "Epoch  38 , loss 0.447229140996933\n"
     ]
    },
    {
     "name": "stderr",
     "output_type": "stream",
     "text": [
      "\r",
      "Iterations:  13%|████▍                             | 39/300 [00:45<05:17,  1.22s/it]"
     ]
    },
    {
     "name": "stdout",
     "output_type": "stream",
     "text": [
      "Epoch:  38\n",
      "t_loss:  0.447229140996933 , v_loss:  0.6252790987491608\n",
      "t_acc:  0.6946972074050831 , v_acc:  0.7005347593582888\n",
      "t_recall:  0.4997742663656885 , v_recall:  0.5\n",
      "t_prec:  0.3474576271186441 , v_prec:  0.3502673796791444\n",
      "t_f:  0.40992408813182746 , v_f:  0.41194968553459116\n",
      "////////\n"
     ]
    },
    {
     "name": "stderr",
     "output_type": "stream",
     "text": [
      "\r",
      "Iterations:  13%|████▌                             | 40/300 [00:46<05:02,  1.17s/it]"
     ]
    },
    {
     "name": "stdout",
     "output_type": "stream",
     "text": [
      "Epoch  39 , loss 0.44284881472587584\n",
      "Epoch  40 , loss 0.4422120016813278\n"
     ]
    },
    {
     "name": "stderr",
     "output_type": "stream",
     "text": [
      "\r",
      "Iterations:  14%|████▋                             | 41/300 [00:48<05:38,  1.31s/it]"
     ]
    },
    {
     "name": "stdout",
     "output_type": "stream",
     "text": [
      "Epoch:  40\n",
      "t_loss:  0.4422120016813278 , v_loss:  0.6256270458300909\n",
      "t_acc:  0.6956385315343583 , v_acc:  0.7005347593582888\n",
      "t_recall:  0.5010288065843621 , v_recall:  0.5\n",
      "t_prec:  0.847723704866562 , v_prec:  0.3502673796791444\n",
      "t_f:  0.41223857327553426 , v_f:  0.41194968553459116\n",
      "////////\n"
     ]
    },
    {
     "name": "stderr",
     "output_type": "stream",
     "text": [
      "\r",
      "Iterations:  14%|████▊                             | 42/300 [00:49<05:08,  1.20s/it]"
     ]
    },
    {
     "name": "stdout",
     "output_type": "stream",
     "text": [
      "Epoch  41 , loss 0.4394102215766907\n",
      "Epoch  42 , loss 0.4427886813879013\n"
     ]
    },
    {
     "name": "stderr",
     "output_type": "stream",
     "text": [
      "\r",
      "Iterations:  14%|████▊                             | 43/300 [00:50<05:24,  1.26s/it]"
     ]
    },
    {
     "name": "stdout",
     "output_type": "stream",
     "text": [
      "Epoch:  42\n",
      "t_loss:  0.4427886813879013 , v_loss:  0.6264488697052002\n",
      "t_acc:  0.6953247568245999 , v_acc:  0.7005347593582888\n",
      "t_recall:  0.5008030729500507 , v_recall:  0.5\n",
      "t_prec:  0.6810092127303182 , v_prec:  0.3502673796791444\n",
      "t_f:  0.4121272220401689 , v_f:  0.41194968553459116\n",
      "////////\n"
     ]
    },
    {
     "name": "stderr",
     "output_type": "stream",
     "text": [
      "\r",
      "Iterations:  15%|████▉                             | 44/300 [00:51<04:52,  1.14s/it]"
     ]
    },
    {
     "name": "stdout",
     "output_type": "stream",
     "text": [
      "Epoch  43 , loss 0.44010178923606874\n",
      "Epoch  44 , loss 0.4363644337654114\n"
     ]
    },
    {
     "name": "stderr",
     "output_type": "stream",
     "text": [
      "\r",
      "Iterations:  15%|█████                             | 45/300 [00:53<05:19,  1.25s/it]"
     ]
    },
    {
     "name": "stdout",
     "output_type": "stream",
     "text": [
      "Epoch:  44\n",
      "t_loss:  0.4363644337654114 , v_loss:  0.6258266021807989\n",
      "t_acc:  0.6946972074050831 , v_acc:  0.7005347593582888\n",
      "t_recall:  0.500062936023558 , v_recall:  0.5\n",
      "t_prec:  0.5141855108877722 , v_prec:  0.3502673796791444\n",
      "t_f:  0.410916361529438 , v_f:  0.41194968553459116\n",
      "////////\n"
     ]
    },
    {
     "name": "stderr",
     "output_type": "stream",
     "text": [
      "\r",
      "Iterations:  15%|█████▏                            | 46/300 [00:54<04:49,  1.14s/it]"
     ]
    },
    {
     "name": "stdout",
     "output_type": "stream",
     "text": [
      "Epoch  45 , loss 0.4395040172338486\n",
      "Epoch  46 , loss 0.4383561986684799\n"
     ]
    },
    {
     "name": "stderr",
     "output_type": "stream",
     "text": [
      "\r",
      "Iterations:  16%|█████▎                            | 47/300 [00:55<05:13,  1.24s/it]"
     ]
    },
    {
     "name": "stdout",
     "output_type": "stream",
     "text": [
      "Epoch:  46\n",
      "t_loss:  0.4383561986684799 , v_loss:  0.6237351844708124\n",
      "t_acc:  0.6959523062441167 , v_acc:  0.7005347593582888\n",
      "t_recall:  0.5015432098765432 , v_recall:  0.5\n",
      "t_prec:  0.8478329145728642 , v_prec:  0.3502673796791444\n",
      "t_f:  0.41333808255089977 , v_f:  0.41194968553459116\n",
      "////////\n"
     ]
    },
    {
     "name": "stderr",
     "output_type": "stream",
     "text": [
      "\r",
      "Iterations:  16%|█████▍                            | 48/300 [00:56<04:57,  1.18s/it]"
     ]
    },
    {
     "name": "stdout",
     "output_type": "stream",
     "text": [
      "Epoch  47 , loss 0.43479846060276034\n",
      "Epoch  48 , loss 0.43517257273197174\n"
     ]
    },
    {
     "name": "stderr",
     "output_type": "stream",
     "text": [
      "\r",
      "Iterations:  16%|█████▌                            | 49/300 [00:58<05:08,  1.23s/it]"
     ]
    },
    {
     "name": "stdout",
     "output_type": "stream",
     "text": [
      "Epoch:  48\n",
      "t_loss:  0.43517257273197174 , v_loss:  0.6217025270064672\n",
      "t_acc:  0.6953247568245999 , v_acc:  0.7005347593582888\n",
      "t_recall:  0.5019577515815289 , v_recall:  0.5\n",
      "t_prec:  0.6206491870849553 , v_prec:  0.3502673796791444\n",
      "t_f:  0.4160462607416415 , v_f:  0.41194968553459116\n",
      "////////\n"
     ]
    },
    {
     "name": "stderr",
     "output_type": "stream",
     "text": [
      "\r",
      "Iterations:  17%|█████▋                            | 50/300 [00:58<04:43,  1.13s/it]"
     ]
    },
    {
     "name": "stdout",
     "output_type": "stream",
     "text": [
      "Epoch  49 , loss 0.43660029470920564\n",
      "Epoch  50 , loss 0.43419441699981687\n"
     ]
    },
    {
     "name": "stderr",
     "output_type": "stream",
     "text": [
      "\r",
      "Iterations:  17%|█████▊                            | 51/300 [01:00<05:03,  1.22s/it]"
     ]
    },
    {
     "name": "stdout",
     "output_type": "stream",
     "text": [
      "Epoch:  50\n",
      "t_loss:  0.43419441699981687 , v_loss:  0.622751384973526\n",
      "t_acc:  0.6956385315343583 , v_acc:  0.7005347593582888\n",
      "t_recall:  0.5021834852158403 , v_recall:  0.5\n",
      "t_prec:  0.6479697828139754 , v_prec:  0.3502673796791444\n",
      "t_f:  0.416161908416784 , v_f:  0.41194968553459116\n",
      "////////\n"
     ]
    },
    {
     "name": "stderr",
     "output_type": "stream",
     "text": [
      "\r",
      "Iterations:  17%|█████▉                            | 52/300 [01:01<04:42,  1.14s/it]"
     ]
    },
    {
     "name": "stdout",
     "output_type": "stream",
     "text": [
      "Epoch  51 , loss 0.43657265722751615\n",
      "Epoch  52 , loss 0.432937091588974\n"
     ]
    },
    {
     "name": "stderr",
     "output_type": "stream",
     "text": [
      "\r",
      "Iterations:  18%|██████                            | 53/300 [01:02<05:13,  1.27s/it]"
     ]
    },
    {
     "name": "stdout",
     "output_type": "stream",
     "text": [
      "Epoch:  52\n",
      "t_loss:  0.432937091588974 , v_loss:  0.61823038260142\n",
      "t_acc:  0.6946972074050831 , v_acc:  0.7005347593582888\n",
      "t_recall:  0.5009289449971668 , v_recall:  0.5\n",
      "t_prec:  0.5699251800573386 , v_prec:  0.3502673796791444\n",
      "t_f:  0.41386794109402586 , v_f:  0.41194968553459116\n",
      "////////\n"
     ]
    },
    {
     "name": "stderr",
     "output_type": "stream",
     "text": [
      "\r",
      "Iterations:  18%|██████                            | 54/300 [01:03<04:53,  1.19s/it]"
     ]
    },
    {
     "name": "stdout",
     "output_type": "stream",
     "text": [
      "Epoch  53 , loss 0.43080594956874846\n",
      "Epoch  54 , loss 0.4359987026453018\n"
     ]
    },
    {
     "name": "stderr",
     "output_type": "stream",
     "text": [
      "\r",
      "Iterations:  18%|██████▏                           | 55/300 [01:05<05:13,  1.28s/it]"
     ]
    },
    {
     "name": "stdout",
     "output_type": "stream",
     "text": [
      "Epoch:  54\n",
      "t_loss:  0.4359987026453018 , v_loss:  0.6199449300765991\n",
      "t_acc:  0.6950109821148416 , v_acc:  0.7005347593582888\n",
      "t_recall:  0.5014433482893478 , v_recall:  0.5\n",
      "t_prec:  0.5978124016367643 , v_prec:  0.3502673796791444\n",
      "t_f:  0.414958118537231 , v_f:  0.41194968553459116\n",
      "////////\n"
     ]
    },
    {
     "name": "stderr",
     "output_type": "stream",
     "text": [
      "\r",
      "Iterations:  19%|██████▎                           | 56/300 [01:06<04:41,  1.15s/it]"
     ]
    },
    {
     "name": "stdout",
     "output_type": "stream",
     "text": [
      "Epoch  55 , loss 0.43347712874412536\n",
      "Epoch  56 , loss 0.4291197884082794\n"
     ]
    },
    {
     "name": "stderr",
     "output_type": "stream",
     "text": [
      "\r",
      "Iterations:  19%|██████▍                           | 57/300 [01:07<04:57,  1.23s/it]"
     ]
    },
    {
     "name": "stdout",
     "output_type": "stream",
     "text": [
      "Epoch:  56\n",
      "t_loss:  0.4291197884082794 , v_loss:  0.6169881075620651\n",
      "t_acc:  0.6972074050831503 , v_acc:  0.7005347593582888\n",
      "t_recall:  0.5061988499660935 , v_recall:  0.5\n",
      "t_prec:  0.6688298545224541 , v_prec:  0.3502673796791444\n",
      "t_f:  0.42631409198769826 , v_f:  0.41194968553459116\n",
      "////////\n"
     ]
    },
    {
     "name": "stderr",
     "output_type": "stream",
     "text": [
      "\r",
      "Iterations:  19%|██████▌                           | 58/300 [01:08<04:31,  1.12s/it]"
     ]
    },
    {
     "name": "stdout",
     "output_type": "stream",
     "text": [
      "Epoch  57 , loss 0.4283953070640564\n",
      "Epoch  58 , loss 0.43194873332977296\n"
     ]
    },
    {
     "name": "stderr",
     "output_type": "stream",
     "text": [
      "\r",
      "Iterations:  20%|██████▋                           | 59/300 [01:10<04:57,  1.24s/it]"
     ]
    },
    {
     "name": "stdout",
     "output_type": "stream",
     "text": [
      "Epoch:  58\n",
      "t_loss:  0.43194873332977296 , v_loss:  0.6202448556820551\n",
      "t_acc:  0.6978349545026671 , v_acc:  0.7005347593582888\n",
      "t_recall:  0.5069389868925861 , v_recall:  0.5\n",
      "t_prec:  0.68898798228969 , v_prec:  0.3502673796791444\n",
      "t_f:  0.4275030783255476 , v_f:  0.41194968553459116\n",
      "////////\n"
     ]
    },
    {
     "name": "stderr",
     "output_type": "stream",
     "text": [
      "\r",
      "Iterations:  20%|██████▊                           | 60/300 [01:11<04:38,  1.16s/it]"
     ]
    },
    {
     "name": "stdout",
     "output_type": "stream",
     "text": [
      "Epoch  59 , loss 0.4281360721588135\n",
      "Epoch  60 , loss 0.4324565476179123\n"
     ]
    },
    {
     "name": "stderr",
     "output_type": "stream",
     "text": [
      "\r",
      "Iterations:  20%|██████▉                           | 61/300 [01:12<04:54,  1.23s/it]"
     ]
    },
    {
     "name": "stdout",
     "output_type": "stream",
     "text": [
      "Epoch:  60\n",
      "t_loss:  0.4324565476179123 , v_loss:  0.6168803075949351\n",
      "t_acc:  0.6965798556636336 , v_acc:  0.7005347593582888\n",
      "t_recall:  0.5051700433817314 , v_recall:  0.5\n",
      "t_prec:  0.6529571813334799 , v_prec:  0.3502673796791444\n",
      "t_f:  0.4241837557372286 , v_f:  0.41194968553459116\n",
      "////////\n"
     ]
    },
    {
     "name": "stderr",
     "output_type": "stream",
     "text": [
      "\r",
      "Iterations:  21%|███████                           | 62/300 [01:13<04:37,  1.17s/it]"
     ]
    },
    {
     "name": "stdout",
     "output_type": "stream",
     "text": [
      "Epoch  61 , loss 0.42682562947273256\n",
      "Epoch  62 , loss 0.42952763378620146\n"
     ]
    },
    {
     "name": "stderr",
     "output_type": "stream",
     "text": [
      "\r",
      "Iterations:  21%|███████▏                          | 63/300 [01:14<04:53,  1.24s/it]"
     ]
    },
    {
     "name": "stdout",
     "output_type": "stream",
     "text": [
      "Epoch:  62\n",
      "t_loss:  0.42952763378620146 , v_loss:  0.6163774828116099\n",
      "t_acc:  0.6997176027612174 , v_acc:  0.6951871657754011\n",
      "t_recall:  0.5100254066456725 , v_recall:  0.4961832061068702\n",
      "t_prec:  0.7206191994766753 , v_prec:  0.34946236559139787\n",
      "t_f:  0.4338416513631698 , v_f:  0.4100946372239748\n",
      "////////\n"
     ]
    },
    {
     "name": "stderr",
     "output_type": "stream",
     "text": [
      "\r",
      "Iterations:  21%|███████▎                          | 64/300 [01:15<04:27,  1.13s/it]"
     ]
    },
    {
     "name": "stdout",
     "output_type": "stream",
     "text": [
      "Epoch  63 , loss 0.42332763731479645\n",
      "Epoch  64 , loss 0.42770579278469084\n"
     ]
    },
    {
     "name": "stderr",
     "output_type": "stream",
     "text": [
      "\r",
      "Iterations:  22%|███████▎                          | 65/300 [01:17<04:52,  1.24s/it]"
     ]
    },
    {
     "name": "stdout",
     "output_type": "stream",
     "text": [
      "Epoch:  64\n",
      "t_loss:  0.42770579278469084 , v_loss:  0.6147282520929972\n",
      "t_acc:  0.6978349545026671 , v_acc:  0.6951871657754011\n",
      "t_recall:  0.5069389868925861 , v_recall:  0.4961832061068702\n",
      "t_prec:  0.68898798228969 , v_prec:  0.34946236559139787\n",
      "t_f:  0.4275030783255476 , v_f:  0.4100946372239748\n",
      "////////\n"
     ]
    },
    {
     "name": "stderr",
     "output_type": "stream",
     "text": [
      "\r",
      "Iterations:  22%|███████▍                          | 66/300 [01:18<04:42,  1.21s/it]"
     ]
    },
    {
     "name": "stdout",
     "output_type": "stream",
     "text": [
      "Epoch  65 , loss 0.4281415092945099\n",
      "Epoch  66 , loss 0.42794313073158263\n"
     ]
    },
    {
     "name": "stderr",
     "output_type": "stream",
     "text": [
      "\r",
      "Iterations:  22%|███████▌                          | 67/300 [01:19<05:05,  1.31s/it]"
     ]
    },
    {
     "name": "stdout",
     "output_type": "stream",
     "text": [
      "Epoch:  66\n",
      "t_loss:  0.42794313073158263 , v_loss:  0.614951953291893\n",
      "t_acc:  0.6978349545026671 , v_acc:  0.6951871657754011\n",
      "t_recall:  0.5078049958661948 , v_recall:  0.4961832061068702\n",
      "t_prec:  0.6717568175313791 , v_prec:  0.34946236559139787\n",
      "t_f:  0.4302920692400549 , v_f:  0.4100946372239748\n",
      "////////\n"
     ]
    },
    {
     "name": "stderr",
     "output_type": "stream",
     "text": [
      "\r",
      "Iterations:  23%|███████▋                          | 68/300 [01:20<04:36,  1.19s/it]"
     ]
    },
    {
     "name": "stdout",
     "output_type": "stream",
     "text": [
      "Epoch  67 , loss 0.4286117339134216\n",
      "Epoch  68 , loss 0.4255270421504974\n"
     ]
    },
    {
     "name": "stderr",
     "output_type": "stream",
     "text": [
      "\r",
      "Iterations:  23%|███████▊                          | 69/300 [01:22<04:53,  1.27s/it]"
     ]
    },
    {
     "name": "stdout",
     "output_type": "stream",
     "text": [
      "Epoch:  68\n",
      "t_loss:  0.4255270421504974 , v_loss:  0.6142358779907227\n",
      "t_acc:  0.6978349545026671 , v_acc:  0.6951871657754011\n",
      "t_recall:  0.5072276565504557 , v_recall:  0.4961832061068702\n",
      "t_prec:  0.6823839662447257 , v_prec:  0.34946236559139787\n",
      "t_f:  0.42843662266918076 , v_f:  0.4100946372239748\n",
      "////////\n"
     ]
    },
    {
     "name": "stderr",
     "output_type": "stream",
     "text": [
      "\r",
      "Iterations:  23%|███████▉                          | 70/300 [01:23<04:25,  1.16s/it]"
     ]
    },
    {
     "name": "stdout",
     "output_type": "stream",
     "text": [
      "Epoch  69 , loss 0.4248826479911804\n",
      "Epoch  70 , loss 0.42582082748413086\n"
     ]
    },
    {
     "name": "stderr",
     "output_type": "stream",
     "text": [
      "\r",
      "Iterations:  24%|████████                          | 71/300 [01:24<04:53,  1.28s/it]"
     ]
    },
    {
     "name": "stdout",
     "output_type": "stream",
     "text": [
      "Epoch:  70\n",
      "t_loss:  0.42582082748413086 , v_loss:  0.6132779518763224\n",
      "t_acc:  0.6984625039221839 , v_acc:  0.6951871657754011\n",
      "t_recall:  0.5082564631348178 , v_recall:  0.4961832061068702\n",
      "t_prec:  0.6940992771505318 , v_prec:  0.34946236559139787\n",
      "t_f:  0.43055139537551596 , v_f:  0.4100946372239748\n",
      "////////\n"
     ]
    },
    {
     "name": "stderr",
     "output_type": "stream",
     "text": [
      "\r",
      "Iterations:  24%|████████▏                         | 72/300 [01:25<04:25,  1.16s/it]"
     ]
    },
    {
     "name": "stdout",
     "output_type": "stream",
     "text": [
      "Epoch  71 , loss 0.42257181942462924\n",
      "Epoch  72 , loss 0.42659232079982756\n"
     ]
    },
    {
     "name": "stderr",
     "output_type": "stream",
     "text": [
      "\r",
      "Iterations:  24%|████████▎                         | 73/300 [01:27<04:39,  1.23s/it]"
     ]
    },
    {
     "name": "stdout",
     "output_type": "stream",
     "text": [
      "Epoch:  72\n",
      "t_loss:  0.42659232079982756 , v_loss:  0.6112135152022043\n",
      "t_acc:  0.7006589268904926 , v_acc:  0.6951871657754011\n",
      "t_recall:  0.512723295153694 , v_recall:  0.4961832061068702\n",
      "t_prec:  0.7073813309107426 , v_prec:  0.34946236559139787\n",
      "t_f:  0.44059326150313516 , v_f:  0.4100946372239748\n",
      "////////\n"
     ]
    },
    {
     "name": "stderr",
     "output_type": "stream",
     "text": [
      "\r",
      "Iterations:  25%|████████▍                         | 74/300 [01:28<04:32,  1.21s/it]"
     ]
    },
    {
     "name": "stdout",
     "output_type": "stream",
     "text": [
      "Epoch  73 , loss 0.4240598565340042\n",
      "Epoch  74 , loss 0.4272127538919449\n"
     ]
    },
    {
     "name": "stderr",
     "output_type": "stream",
     "text": [
      "\r",
      "Iterations:  25%|████████▌                         | 75/300 [01:29<04:42,  1.25s/it]"
     ]
    },
    {
     "name": "stdout",
     "output_type": "stream",
     "text": [
      "Epoch:  74\n",
      "t_loss:  0.4272127538919449 , v_loss:  0.6119848936796188\n",
      "t_acc:  0.6990900533417007 , v_acc:  0.6951871657754011\n",
      "t_recall:  0.5121719662978755 , v_recall:  0.4961832061068702\n",
      "t_prec:  0.6638530412164866 , v_prec:  0.34946236559139787\n",
      "t_f:  0.4416711286093554 , v_f:  0.4100946372239748\n",
      "////////\n"
     ]
    },
    {
     "name": "stderr",
     "output_type": "stream",
     "text": [
      "\r",
      "Iterations:  25%|████████▌                         | 76/300 [01:30<04:16,  1.15s/it]"
     ]
    },
    {
     "name": "stdout",
     "output_type": "stream",
     "text": [
      "Epoch  75 , loss 0.4220215630531311\n",
      "Epoch  76 , loss 0.42602472126483915\n"
     ]
    },
    {
     "name": "stderr",
     "output_type": "stream",
     "text": [
      "\r",
      "Iterations:  26%|████████▋                         | 77/300 [01:31<04:32,  1.22s/it]"
     ]
    },
    {
     "name": "stdout",
     "output_type": "stream",
     "text": [
      "Epoch:  76\n",
      "t_loss:  0.42602472126483915 , v_loss:  0.6100325733423233\n",
      "t_acc:  0.6978349545026671 , v_acc:  0.6951871657754011\n",
      "t_recall:  0.5095370138134121 , v_recall:  0.4961832061068702\n",
      "t_prec:  0.6518802887744837 , v_prec:  0.34946236559139787\n",
      "t_f:  0.43576691114896265 , v_f:  0.4100946372239748\n",
      "////////\n"
     ]
    },
    {
     "name": "stderr",
     "output_type": "stream",
     "text": [
      "\r",
      "Iterations:  26%|████████▊                         | 78/300 [01:32<04:19,  1.17s/it]"
     ]
    },
    {
     "name": "stdout",
     "output_type": "stream",
     "text": [
      "Epoch  77 , loss 0.4251930856704712\n",
      "Epoch  78 , loss 0.4236735272407532\n"
     ]
    },
    {
     "name": "stderr",
     "output_type": "stream",
     "text": [
      "\r",
      "Iterations:  26%|████████▉                         | 79/300 [01:34<04:48,  1.31s/it]"
     ]
    },
    {
     "name": "stdout",
     "output_type": "stream",
     "text": [
      "Epoch:  78\n",
      "t_loss:  0.4236735272407532 , v_loss:  0.6074250936508179\n",
      "t_acc:  0.6990900533417007 , v_acc:  0.6951871657754011\n",
      "t_recall:  0.5110172876663973 , v_recall:  0.4961832061068702\n",
      "t_prec:  0.675454168885733 , v_prec:  0.34946236559139787\n",
      "t_f:  0.4381105584546782 , v_f:  0.4100946372239748\n",
      "////////\n"
     ]
    },
    {
     "name": "stderr",
     "output_type": "stream",
     "text": [
      "\r",
      "Iterations:  27%|█████████                         | 80/300 [01:35<04:25,  1.21s/it]"
     ]
    },
    {
     "name": "stdout",
     "output_type": "stream",
     "text": [
      "Epoch  79 , loss 0.41968359529972077\n",
      "Epoch  80 , loss 0.4228007471561432\n"
     ]
    },
    {
     "name": "stderr",
     "output_type": "stream",
     "text": [
      "\r",
      "Iterations:  27%|█████████▏                        | 81/300 [01:36<04:39,  1.27s/it]"
     ]
    },
    {
     "name": "stdout",
     "output_type": "stream",
     "text": [
      "Epoch:  80\n",
      "t_loss:  0.4228007471561432 , v_loss:  0.6073120931784312\n",
      "t_acc:  0.7028553498588014 , v_acc:  0.6951871657754011\n",
      "t_recall:  0.5151694395674832 , v_recall:  0.4961832061068702\n",
      "t_prec:  0.7532018978803902 , v_prec:  0.34946236559139787\n",
      "t_f:  0.4442534313760693 , v_f:  0.4100946372239748\n",
      "////////\n"
     ]
    },
    {
     "name": "stderr",
     "output_type": "stream",
     "text": [
      "\r",
      "Iterations:  27%|█████████▎                        | 82/300 [01:37<04:09,  1.15s/it]"
     ]
    },
    {
     "name": "stdout",
     "output_type": "stream",
     "text": [
      "Epoch  81 , loss 0.42124505519866945\n",
      "Epoch  82 , loss 0.42402791798114775\n"
     ]
    },
    {
     "name": "stderr",
     "output_type": "stream",
     "text": [
      "\r",
      "Iterations:  28%|█████████▍                        | 83/300 [01:39<04:34,  1.26s/it]"
     ]
    },
    {
     "name": "stdout",
     "output_type": "stream",
     "text": [
      "Epoch:  82\n",
      "t_loss:  0.42402791798114775 , v_loss:  0.6087047457695007\n",
      "t_acc:  0.7006589268904926 , v_acc:  0.6951871657754011\n",
      "t_recall:  0.5138779737851722 , v_recall:  0.4961832061068702\n",
      "t_prec:  0.69049410264584 , v_prec:  0.34946236559139787\n",
      "t_f:  0.4441425412231359 , v_f:  0.4100946372239748\n",
      "////////\n"
     ]
    },
    {
     "name": "stderr",
     "output_type": "stream",
     "text": [
      "\r",
      "Iterations:  28%|█████████▌                        | 84/300 [01:40<04:07,  1.15s/it]"
     ]
    },
    {
     "name": "stdout",
     "output_type": "stream",
     "text": [
      "Epoch  83 , loss 0.41567101180553434\n",
      "Epoch  84 , loss 0.41702484726905825\n"
     ]
    },
    {
     "name": "stderr",
     "output_type": "stream",
     "text": [
      "\r",
      "Iterations:  28%|█████████▋                        | 85/300 [01:41<04:23,  1.23s/it]"
     ]
    },
    {
     "name": "stdout",
     "output_type": "stream",
     "text": [
      "Epoch:  84\n",
      "t_loss:  0.41702484726905825 , v_loss:  0.6074163764715195\n",
      "t_acc:  0.7016002510197679 , v_acc:  0.6951871657754011\n",
      "t_recall:  0.5154211836617154 , v_recall:  0.4961832061068702\n",
      "t_prec:  0.699886214494708 , v_prec:  0.34946236559139787\n",
      "t_f:  0.44720244039232315 , v_f:  0.4100946372239748\n",
      "////////\n"
     ]
    },
    {
     "name": "stderr",
     "output_type": "stream",
     "text": [
      "\r",
      "Iterations:  29%|█████████▋                        | 86/300 [01:42<04:10,  1.17s/it]"
     ]
    },
    {
     "name": "stdout",
     "output_type": "stream",
     "text": [
      "Epoch  85 , loss 0.4197670316696167\n",
      "Epoch  86 , loss 0.41674582064151766\n"
     ]
    },
    {
     "name": "stderr",
     "output_type": "stream",
     "text": [
      "\r",
      "Iterations:  29%|█████████▊                        | 87/300 [01:43<04:19,  1.22s/it]"
     ]
    },
    {
     "name": "stdout",
     "output_type": "stream",
     "text": [
      "Epoch:  86\n",
      "t_loss:  0.41674582064151766 , v_loss:  0.6075051426887512\n",
      "t_acc:  0.7019140257295262 , v_acc:  0.7005347593582888\n",
      "t_recall:  0.5165129262696355 , v_recall:  0.5051117775354417\n",
      "t_prec:  0.6958982158010161 , v_prec:  0.6013513513513513\n",
      "t_f:  0.4499502209173885 , v_f:  0.428633784373636\n",
      "////////\n"
     ]
    },
    {
     "name": "stderr",
     "output_type": "stream",
     "text": [
      "\r",
      "Iterations:  29%|█████████▉                        | 88/300 [01:44<03:56,  1.11s/it]"
     ]
    },
    {
     "name": "stdout",
     "output_type": "stream",
     "text": [
      "Epoch  87 , loss 0.41786116003990176\n",
      "Epoch  88 , loss 0.4159529465436935\n"
     ]
    },
    {
     "name": "stderr",
     "output_type": "stream",
     "text": [
      "\r",
      "Iterations:  30%|██████████                        | 89/300 [01:46<04:13,  1.20s/it]"
     ]
    },
    {
     "name": "stdout",
     "output_type": "stream",
     "text": [
      "Epoch:  88\n",
      "t_loss:  0.4159529465436935 , v_loss:  0.6108573923508326\n",
      "t_acc:  0.7019140257295262 , v_acc:  0.6951871657754011\n",
      "t_recall:  0.5165129262696355 , v_recall:  0.4961832061068702\n",
      "t_prec:  0.6958982158010161 , v_prec:  0.34946236559139787\n",
      "t_f:  0.4499502209173885 , v_f:  0.4100946372239748\n",
      "////////\n"
     ]
    },
    {
     "name": "stderr",
     "output_type": "stream",
     "text": [
      "\r",
      "Iterations:  30%|██████████▏                       | 90/300 [01:47<04:00,  1.15s/it]"
     ]
    },
    {
     "name": "stdout",
     "output_type": "stream",
     "text": [
      "Epoch  89 , loss 0.4182199788093567\n",
      "Epoch  90 , loss 0.41404983043670657\n"
     ]
    },
    {
     "name": "stderr",
     "output_type": "stream",
     "text": [
      "\r",
      "Iterations:  30%|██████████▎                       | 91/300 [01:48<04:25,  1.27s/it]"
     ]
    },
    {
     "name": "stdout",
     "output_type": "stream",
     "text": [
      "Epoch:  90\n",
      "t_loss:  0.41404983043670657 , v_loss:  0.6084855447212855\n",
      "t_acc:  0.702541575149043 , v_acc:  0.7005347593582888\n",
      "t_recall:  0.5181190721697368 , v_recall:  0.5051117775354417\n",
      "t_prec:  0.6951749119436439 , v_prec:  0.6013513513513513\n",
      "t_f:  0.4536737401106079 , v_f:  0.428633784373636\n",
      "////////\n"
     ]
    },
    {
     "name": "stderr",
     "output_type": "stream",
     "text": [
      "\r",
      "Iterations:  31%|██████████▍                       | 92/300 [01:49<04:05,  1.18s/it]"
     ]
    },
    {
     "name": "stdout",
     "output_type": "stream",
     "text": [
      "Epoch  91 , loss 0.4138562309741974\n",
      "Epoch  92 , loss 0.4185716849565506\n"
     ]
    },
    {
     "name": "stderr",
     "output_type": "stream",
     "text": [
      "\r",
      "Iterations:  31%|██████████▌                       | 93/300 [01:51<04:21,  1.26s/it]"
     ]
    },
    {
     "name": "stdout",
     "output_type": "stream",
     "text": [
      "Epoch:  92\n",
      "t_loss:  0.4185716849565506 , v_loss:  0.6068806896607081\n",
      "t_acc:  0.702541575149043 , v_acc:  0.7058823529411765\n",
      "t_recall:  0.5195624204590846 , v_recall:  0.5191521264994547\n",
      "t_prec:  0.6828318038565389 , v_prec:  0.6543956043956044\n",
      "t_f:  0.4578811603190188 , v_f:  0.46132090294872474\n",
      "////////\n"
     ]
    },
    {
     "name": "stderr",
     "output_type": "stream",
     "text": [
      "\r",
      "Iterations:  31%|██████████▋                       | 94/300 [01:52<03:54,  1.14s/it]"
     ]
    },
    {
     "name": "stdout",
     "output_type": "stream",
     "text": [
      "Epoch  93 , loss 0.41400943279266356\n",
      "Epoch  94 , loss 0.41214559257030486\n"
     ]
    },
    {
     "name": "stderr",
     "output_type": "stream",
     "text": [
      "\r",
      "Iterations:  32%|██████████▊                       | 95/300 [01:53<04:17,  1.25s/it]"
     ]
    },
    {
     "name": "stdout",
     "output_type": "stream",
     "text": [
      "Epoch:  94\n",
      "t_loss:  0.41214559257030486 , v_loss:  0.6098772436380386\n",
      "t_acc:  0.7034828992783182 , v_acc:  0.7058823529411765\n",
      "t_recall:  0.5205282910198887 , v_recall:  0.5191521264994547\n",
      "t_prec:  0.6944246487361541 , v_prec:  0.6543956043956044\n",
      "t_f:  0.459181098997002 , v_f:  0.46132090294872474\n",
      "////////\n"
     ]
    },
    {
     "name": "stderr",
     "output_type": "stream",
     "text": [
      "\r",
      "Iterations:  32%|██████████▉                       | 96/300 [01:54<03:53,  1.14s/it]"
     ]
    },
    {
     "name": "stdout",
     "output_type": "stream",
     "text": [
      "Epoch  95 , loss 0.4183760166168213\n",
      "Epoch  96 , loss 0.4177896785736084\n"
     ]
    },
    {
     "name": "stderr",
     "output_type": "stream",
     "text": [
      "\r",
      "Iterations:  32%|██████████▉                       | 97/300 [01:56<04:15,  1.26s/it]"
     ]
    },
    {
     "name": "stdout",
     "output_type": "stream",
     "text": [
      "Epoch:  96\n",
      "t_loss:  0.4177896785736084 , v_loss:  0.6085053632656733\n",
      "t_acc:  0.7044242234075934 , v_acc:  0.7058823529411765\n",
      "t_recall:  0.5217828312385624 , v_recall:  0.5191521264994547\n",
      "t_prec:  0.703583924431981 , v_prec:  0.6543956043956044\n",
      "t_f:  0.4613122922157339 , v_f:  0.46132090294872474\n",
      "////////\n"
     ]
    },
    {
     "name": "stderr",
     "output_type": "stream",
     "text": [
      "\r",
      "Iterations:  33%|███████████                       | 98/300 [01:57<03:59,  1.19s/it]"
     ]
    },
    {
     "name": "stdout",
     "output_type": "stream",
     "text": [
      "Epoch  97 , loss 0.41366071462631226\n",
      "Epoch  98 , loss 0.4130749225616455\n"
     ]
    },
    {
     "name": "stderr",
     "output_type": "stream",
     "text": [
      "\r",
      "Iterations:  33%|███████████▏                      | 99/300 [01:58<04:09,  1.24s/it]"
     ]
    },
    {
     "name": "stdout",
     "output_type": "stream",
     "text": [
      "Epoch:  98\n",
      "t_loss:  0.4130749225616455 , v_loss:  0.6110100895166397\n",
      "t_acc:  0.7088170693442108 , v_acc:  0.7058823529411765\n",
      "t_recall:  0.5275411290397496 , v_recall:  0.5191521264994547\n",
      "t_prec:  0.7445155091504401 , v_prec:  0.6543956043956044\n",
      "t_f:  0.4709427211906551 , v_f:  0.46132090294872474\n",
      "////////\n"
     ]
    },
    {
     "name": "stderr",
     "output_type": "stream",
     "text": [
      "\r",
      "Iterations:  33%|███████████                      | 100/300 [01:59<03:50,  1.15s/it]"
     ]
    },
    {
     "name": "stdout",
     "output_type": "stream",
     "text": [
      "Epoch  99 , loss 0.4124929314851761\n",
      "Epoch  100 , loss 0.40577162384986876\n"
     ]
    },
    {
     "name": "stderr",
     "output_type": "stream",
     "text": [
      "\r",
      "Iterations:  34%|███████████                      | 101/300 [02:00<04:02,  1.22s/it]"
     ]
    },
    {
     "name": "stdout",
     "output_type": "stream",
     "text": [
      "Epoch:  100\n",
      "t_loss:  0.40577162384986876 , v_loss:  0.6134758243958155\n",
      "t_acc:  0.7088170693442108 , v_acc:  0.7112299465240641\n",
      "t_recall:  0.5286958076712278 , v_recall:  0.5280806979280261\n",
      "t_prec:  0.7316638293723705 , v_prec:  0.6896869244935543\n",
      "t_f:  0.4741530010340791 , v_f:  0.47797766749379644\n",
      "////////\n"
     ]
    },
    {
     "name": "stderr",
     "output_type": "stream",
     "text": [
      "\r",
      "Iterations:  34%|███████████▏                     | 102/300 [02:01<03:44,  1.13s/it]"
     ]
    },
    {
     "name": "stdout",
     "output_type": "stream",
     "text": [
      "Epoch  101 , loss 0.41815937161445615\n",
      "Epoch  102 , loss 0.4123754614591599\n"
     ]
    },
    {
     "name": "stderr",
     "output_type": "stream",
     "text": [
      "\r",
      "Iterations:  34%|███████████▎                     | 103/300 [02:03<04:07,  1.26s/it]"
     ]
    },
    {
     "name": "stdout",
     "output_type": "stream",
     "text": [
      "Epoch:  102\n",
      "t_loss:  0.4123754614591599 , v_loss:  0.6126808623472849\n",
      "t_acc:  0.7110134923125196 , v_acc:  0.7112299465240641\n",
      "t_recall:  0.5325853003743648 , v_recall:  0.5280806979280261\n",
      "t_prec:  0.7388353646081569 , v_prec:  0.6896869244935543\n",
      "t_f:  0.4816439322858583 , v_f:  0.47797766749379644\n",
      "////////\n"
     ]
    },
    {
     "name": "stderr",
     "output_type": "stream",
     "text": [
      "\r",
      "Iterations:  35%|███████████▍                     | 104/300 [02:04<03:56,  1.21s/it]"
     ]
    },
    {
     "name": "stdout",
     "output_type": "stream",
     "text": [
      "Epoch  103 , loss 0.4096222496032715\n",
      "Epoch  104 , loss 0.4122777581214905\n"
     ]
    },
    {
     "name": "stderr",
     "output_type": "stream",
     "text": [
      "\r",
      "Iterations:  35%|███████████▌                     | 105/300 [02:05<04:15,  1.31s/it]"
     ]
    },
    {
     "name": "stdout",
     "output_type": "stream",
     "text": [
      "Epoch:  104\n",
      "t_loss:  0.4122777581214905 , v_loss:  0.610561822851499\n",
      "t_acc:  0.708189519924694 , v_acc:  0.7112299465240641\n",
      "t_recall:  0.529399019034083 , v_recall:  0.5280806979280261\n",
      "t_prec:  0.7133057667421546 , v_prec:  0.6896869244935543\n",
      "t_f:  0.4769701038044698 , v_f:  0.47797766749379644\n",
      "////////\n"
     ]
    },
    {
     "name": "stderr",
     "output_type": "stream",
     "text": [
      "\r",
      "Iterations:  35%|███████████▋                     | 106/300 [02:06<03:48,  1.18s/it]"
     ]
    },
    {
     "name": "stdout",
     "output_type": "stream",
     "text": [
      "Epoch  105 , loss 0.4087070363759995\n",
      "Epoch  106 , loss 0.41360936522483827\n"
     ]
    },
    {
     "name": "stderr",
     "output_type": "stream",
     "text": [
      "\r",
      "Iterations:  36%|███████████▊                     | 107/300 [02:08<03:59,  1.24s/it]"
     ]
    },
    {
     "name": "stdout",
     "output_type": "stream",
     "text": [
      "Epoch:  106\n",
      "t_loss:  0.41360936522483827 , v_loss:  0.6132693936427435\n",
      "t_acc:  0.7075619705051773 , v_acc:  0.7112299465240641\n",
      "t_recall:  0.5309682393705469 , v_recall:  0.5280806979280261\n",
      "t_prec:  0.6935946573751453 , v_prec:  0.6896869244935543\n",
      "t_f:  0.48201996386693546 , v_f:  0.47797766749379644\n",
      "////////\n"
     ]
    },
    {
     "name": "stderr",
     "output_type": "stream",
     "text": [
      "\r",
      "Iterations:  36%|███████████▉                     | 108/300 [02:08<03:37,  1.13s/it]"
     ]
    },
    {
     "name": "stdout",
     "output_type": "stream",
     "text": [
      "Epoch  107 , loss 0.4095274382829666\n",
      "Epoch  108 , loss 0.41095493018627166\n"
     ]
    },
    {
     "name": "stderr",
     "output_type": "stream",
     "text": [
      "\r",
      "Iterations:  36%|███████████▉                     | 109/300 [02:10<04:00,  1.26s/it]"
     ]
    },
    {
     "name": "stdout",
     "output_type": "stream",
     "text": [
      "Epoch:  108\n",
      "t_loss:  0.41095493018627166 , v_loss:  0.6159766813119253\n",
      "t_acc:  0.7091308440539692 , v_acc:  0.7112299465240641\n",
      "t_recall:  0.5315195682263653 , v_recall:  0.5280806979280261\n",
      "t_prec:  0.7136331582990191 , v_prec:  0.6896869244935543\n",
      "t_f:  0.48136787546575266 , v_f:  0.47797766749379644\n",
      "////////\n"
     ]
    },
    {
     "name": "stderr",
     "output_type": "stream",
     "text": [
      "\r",
      "Iterations:  37%|████████████                     | 110/300 [02:11<03:38,  1.15s/it]"
     ]
    },
    {
     "name": "stdout",
     "output_type": "stream",
     "text": [
      "Epoch  109 , loss 0.41148665130138395\n",
      "Epoch  110 , loss 0.41057355999946593\n"
     ]
    },
    {
     "name": "stderr",
     "output_type": "stream",
     "text": [
      "\r",
      "Iterations:  37%|████████████▏                    | 111/300 [02:12<03:50,  1.22s/it]"
     ]
    },
    {
     "name": "stdout",
     "output_type": "stream",
     "text": [
      "Epoch:  110\n",
      "t_loss:  0.41057355999946593 , v_loss:  0.616786907116572\n",
      "t_acc:  0.7110134923125196 , v_acc:  0.7112299465240641\n",
      "t_recall:  0.5346059879794517 , v_recall:  0.5280806979280261\n",
      "t_prec:  0.7220731918140577 , v_prec:  0.6896869244935543\n",
      "t_f:  0.48700385005731656 , v_f:  0.47797766749379644\n",
      "////////\n"
     ]
    },
    {
     "name": "stderr",
     "output_type": "stream",
     "text": [
      "\r",
      "Iterations:  37%|████████████▎                    | 112/300 [02:13<03:39,  1.17s/it]"
     ]
    },
    {
     "name": "stdout",
     "output_type": "stream",
     "text": [
      "Epoch  111 , loss 0.4107155466079712\n",
      "Epoch  112 , loss 0.4110884290933609\n"
     ]
    },
    {
     "name": "stderr",
     "output_type": "stream",
     "text": [
      "\r",
      "Iterations:  38%|████████████▍                    | 113/300 [02:15<03:54,  1.26s/it]"
     ]
    },
    {
     "name": "stdout",
     "output_type": "stream",
     "text": [
      "Epoch:  112\n",
      "t_loss:  0.4110884290933609 , v_loss:  0.6187395453453064\n",
      "t_acc:  0.71289614057107 , v_acc:  0.7165775401069518\n",
      "t_recall:  0.5374037380746686 , v_recall:  0.5370092693565975\n",
      "t_prec:  0.7318316338574743 , v_prec:  0.7154761904761905\n",
      "t_f:  0.49184073021739755 , v_f:  0.4941560761496453\n",
      "////////\n"
     ]
    },
    {
     "name": "stderr",
     "output_type": "stream",
     "text": [
      "\r",
      "Iterations:  38%|████████████▌                    | 114/300 [02:16<03:31,  1.14s/it]"
     ]
    },
    {
     "name": "stdout",
     "output_type": "stream",
     "text": [
      "Epoch  113 , loss 0.40518506526947023\n",
      "Epoch  114 , loss 0.41056550920009616\n"
     ]
    },
    {
     "name": "stderr",
     "output_type": "stream",
     "text": [
      "\r",
      "Iterations:  38%|████████████▋                    | 115/300 [02:17<03:51,  1.25s/it]"
     ]
    },
    {
     "name": "stdout",
     "output_type": "stream",
     "text": [
      "Epoch:  114\n",
      "t_loss:  0.41056550920009616 , v_loss:  0.6186967690785726\n",
      "t_acc:  0.709758393473486 , v_acc:  0.7219251336898396\n",
      "t_recall:  0.532837044468597 , v_recall:  0.545937840785169\n",
      "t_prec:  0.7145208763199418 , v_prec:  0.7353351955307262\n",
      "t_f:  0.4840158192149728 , v_f:  0.5098790322580644\n",
      "////////\n"
     ]
    },
    {
     "name": "stderr",
     "output_type": "stream",
     "text": [
      "\r",
      "Iterations:  39%|████████████▊                    | 116/300 [02:18<03:39,  1.19s/it]"
     ]
    },
    {
     "name": "stdout",
     "output_type": "stream",
     "text": [
      "Epoch  115 , loss 0.4049232029914856\n",
      "Epoch  116 , loss 0.405038800239563\n"
     ]
    },
    {
     "name": "stderr",
     "output_type": "stream",
     "text": [
      "\r",
      "Iterations:  39%|████████████▊                    | 117/300 [02:20<04:01,  1.32s/it]"
     ]
    },
    {
     "name": "stdout",
     "output_type": "stream",
     "text": [
      "Epoch:  116\n",
      "t_loss:  0.405038800239563 , v_loss:  0.6213262379169464\n",
      "t_acc:  0.716033887668654 , v_acc:  0.7219251336898396\n",
      "t_recall:  0.5416817620228705 , v_recall:  0.545937840785169\n",
      "t_prec:  0.7498399175923606 , v_prec:  0.7353351955307262\n",
      "t_f:  0.4988614970553562 , v_f:  0.5098790322580644\n",
      "////////\n"
     ]
    },
    {
     "name": "stderr",
     "output_type": "stream",
     "text": [
      "\r",
      "Iterations:  39%|████████████▉                    | 118/300 [02:21<03:41,  1.22s/it]"
     ]
    },
    {
     "name": "stdout",
     "output_type": "stream",
     "text": [
      "Epoch  117 , loss 0.4085892164707184\n",
      "Epoch  118 , loss 0.4089935106039047\n"
     ]
    },
    {
     "name": "stderr",
     "output_type": "stream",
     "text": [
      "\r",
      "Iterations:  40%|█████████████                    | 119/300 [02:22<03:52,  1.28s/it]"
     ]
    },
    {
     "name": "stdout",
     "output_type": "stream",
     "text": [
      "Epoch:  118\n",
      "t_loss:  0.4089935106039047 , v_loss:  0.6183759272098541\n",
      "t_acc:  0.7125823658613116 , v_acc:  0.7379679144385026\n",
      "t_recall:  0.5394873617033136 , v_recall:  0.5727235550708834\n",
      "t_prec:  0.7139239072997661 , v_prec:  0.7755681818181819\n",
      "t_f:  0.4975179629257331 , v_f:  0.5545237979483689\n",
      "////////\n"
     ]
    },
    {
     "name": "stderr",
     "output_type": "stream",
     "text": [
      "\r",
      "Iterations:  40%|█████████████▏                   | 120/300 [02:23<03:28,  1.16s/it]"
     ]
    },
    {
     "name": "stdout",
     "output_type": "stream",
     "text": [
      "Epoch  119 , loss 0.4063026762008667\n",
      "Epoch  120 , loss 0.40394453167915345\n"
     ]
    },
    {
     "name": "stderr",
     "output_type": "stream",
     "text": [
      "\r",
      "Iterations:  40%|█████████████▎                   | 121/300 [02:25<03:45,  1.26s/it]"
     ]
    },
    {
     "name": "stdout",
     "output_type": "stream",
     "text": [
      "Epoch:  120\n",
      "t_loss:  0.40394453167915345 , v_loss:  0.6208695073922476\n",
      "t_acc:  0.7125823658613116 , v_acc:  0.7272727272727273\n",
      "t_recall:  0.5374666740982267 , v_recall:  0.5548664122137404\n",
      "t_prec:  0.7264369687510527 , v_prec:  0.7512484394506866\n",
      "t_f:  0.49240015245598806 , v_f:  0.5251680358476476\n",
      "////////\n"
     ]
    },
    {
     "name": "stderr",
     "output_type": "stream",
     "text": [
      "\r",
      "Iterations:  41%|█████████████▍                   | 122/300 [02:26<03:24,  1.15s/it]"
     ]
    },
    {
     "name": "stdout",
     "output_type": "stream",
     "text": [
      "Epoch  121 , loss 0.4113914895057678\n",
      "Epoch  122 , loss 0.4037619364261627\n"
     ]
    },
    {
     "name": "stderr",
     "output_type": "stream",
     "text": [
      "\r",
      "Iterations:  41%|█████████████▌                   | 123/300 [02:27<03:42,  1.26s/it]"
     ]
    },
    {
     "name": "stdout",
     "output_type": "stream",
     "text": [
      "Epoch:  122\n",
      "t_loss:  0.4037619364261627 , v_loss:  0.6213577886422476\n",
      "t_acc:  0.7166614370881706 , v_acc:  0.7272727272727273\n",
      "t_recall:  0.543865247238711 , v_recall:  0.5548664122137404\n",
      "t_prec:  0.7430163141372035 , v_prec:  0.7512484394506866\n",
      "t_f:  0.5035795574606816 , v_f:  0.5251680358476476\n",
      "////////\n"
     ]
    },
    {
     "name": "stderr",
     "output_type": "stream",
     "text": [
      "\r",
      "Iterations:  41%|█████████████▋                   | 124/300 [02:28<03:29,  1.19s/it]"
     ]
    },
    {
     "name": "stdout",
     "output_type": "stream",
     "text": [
      "Epoch  123 , loss 0.40732938051223755\n",
      "Epoch  124 , loss 0.4074907350540161\n"
     ]
    },
    {
     "name": "stderr",
     "output_type": "stream",
     "text": [
      "\r",
      "Iterations:  42%|█████████████▊                   | 125/300 [02:29<03:38,  1.25s/it]"
     ]
    },
    {
     "name": "stdout",
     "output_type": "stream",
     "text": [
      "Epoch:  124\n",
      "t_loss:  0.4074907350540161 , v_loss:  0.6222575604915619\n",
      "t_acc:  0.7125823658613116 , v_acc:  0.7272727272727273\n",
      "t_recall:  0.5380440134139658 , v_recall:  0.5548664122137404\n",
      "t_prec:  0.7225518965329856 , v_prec:  0.7512484394506866\n",
      "t_f:  0.49387650088142326 , v_f:  0.5251680358476476\n",
      "////////\n"
     ]
    },
    {
     "name": "stderr",
     "output_type": "stream",
     "text": [
      "\r",
      "Iterations:  42%|█████████████▊                   | 126/300 [02:30<03:25,  1.18s/it]"
     ]
    },
    {
     "name": "stdout",
     "output_type": "stream",
     "text": [
      "Epoch  125 , loss 0.40522809207439425\n",
      "Epoch  126 , loss 0.40686276197433474\n"
     ]
    },
    {
     "name": "stderr",
     "output_type": "stream",
     "text": [
      "\r",
      "Iterations:  42%|█████████████▉                   | 127/300 [02:32<03:33,  1.23s/it]"
     ]
    },
    {
     "name": "stdout",
     "output_type": "stream",
     "text": [
      "Epoch:  126\n",
      "t_loss:  0.40686276197433474 , v_loss:  0.6218910912672678\n",
      "t_acc:  0.7169752117979291 , v_acc:  0.732620320855615\n",
      "t_recall:  0.5423589629258051 , v_recall:  0.5586832061068703\n",
      "t_prec:  0.7603262141686791 , v_prec:  0.8006284916201117\n",
      "t_f:  0.49942710553517045 , v_f:  0.5287298387096775\n",
      "////////\n"
     ]
    },
    {
     "name": "stderr",
     "output_type": "stream",
     "text": [
      "\r",
      "Iterations:  43%|██████████████                   | 128/300 [02:33<03:15,  1.13s/it]"
     ]
    },
    {
     "name": "stdout",
     "output_type": "stream",
     "text": [
      "Epoch  127 , loss 0.4016040885448456\n",
      "Epoch  128 , loss 0.4030776858329773\n"
     ]
    },
    {
     "name": "stderr",
     "output_type": "stream",
     "text": [
      "\r",
      "Iterations:  43%|██████████████▏                  | 129/300 [02:34<03:32,  1.24s/it]"
     ]
    },
    {
     "name": "stdout",
     "output_type": "stream",
     "text": [
      "Epoch:  128\n",
      "t_loss:  0.4030776858329773 , v_loss:  0.6244353900353113\n",
      "t_acc:  0.7163476623784123 , v_acc:  0.732620320855615\n",
      "t_recall:  0.5442168529201387 , v_recall:  0.5586832061068703\n",
      "t_prec:  0.7360710211774042 , v_prec:  0.8006284916201117\n",
      "t_f:  0.504811209196161 , v_f:  0.5287298387096775\n",
      "////////\n"
     ]
    },
    {
     "name": "stderr",
     "output_type": "stream",
     "text": [
      "\r",
      "Iterations:  43%|██████████████▎                  | 130/300 [02:35<03:27,  1.22s/it]"
     ]
    },
    {
     "name": "stdout",
     "output_type": "stream",
     "text": [
      "Epoch  129 , loss 0.4010592967271805\n",
      "Epoch  130 , loss 0.39719892740249635\n"
     ]
    },
    {
     "name": "stderr",
     "output_type": "stream",
     "text": [
      "\r",
      "Iterations:  44%|██████████████▍                  | 131/300 [02:37<03:49,  1.36s/it]"
     ]
    },
    {
     "name": "stdout",
     "output_type": "stream",
     "text": [
      "Epoch:  130\n",
      "t_loss:  0.39719892740249635 , v_loss:  0.6272092461585999\n",
      "t_acc:  0.7179165359272043 , v_acc:  0.7272727272727273\n",
      "t_recall:  0.5470775390389135 , v_recall:  0.5548664122137404\n",
      "t_prec:  0.7392345965747087 , v_prec:  0.7512484394506866\n",
      "t_f:  0.5100019787272286 , v_f:  0.5251680358476476\n",
      "////////\n"
     ]
    },
    {
     "name": "stderr",
     "output_type": "stream",
     "text": [
      "\r",
      "Iterations:  44%|██████████████▌                  | 132/300 [02:38<03:27,  1.23s/it]"
     ]
    },
    {
     "name": "stdout",
     "output_type": "stream",
     "text": [
      "Epoch  131 , loss 0.40065678536891935\n",
      "Epoch  132 , loss 0.4048085397481918\n"
     ]
    },
    {
     "name": "stderr",
     "output_type": "stream",
     "text": [
      "\r",
      "Iterations:  44%|██████████████▋                  | 133/300 [02:39<03:33,  1.28s/it]"
     ]
    },
    {
     "name": "stdout",
     "output_type": "stream",
     "text": [
      "Epoch:  132\n",
      "t_loss:  0.4048085397481918 , v_loss:  0.6262779931227366\n",
      "t_acc:  0.7188578600564794 , v_acc:  0.7272727272727273\n",
      "t_recall:  0.5515074454941523 , v_recall:  0.5548664122137404\n",
      "t_prec:  0.7262922150800939 , v_prec:  0.7512484394506866\n",
      "t_f:  0.5194420883988313 , v_f:  0.5251680358476476\n",
      "////////\n"
     ]
    },
    {
     "name": "stderr",
     "output_type": "stream",
     "text": [
      "\r",
      "Iterations:  45%|██████████████▋                  | 134/300 [02:40<03:11,  1.15s/it]"
     ]
    },
    {
     "name": "stdout",
     "output_type": "stream",
     "text": [
      "Epoch  133 , loss 0.40543466806411743\n",
      "Epoch  134 , loss 0.4021814167499542\n"
     ]
    },
    {
     "name": "stderr",
     "output_type": "stream",
     "text": [
      "\r",
      "Iterations:  45%|██████████████▊                  | 135/300 [02:42<03:28,  1.26s/it]"
     ]
    },
    {
     "name": "stdout",
     "output_type": "stream",
     "text": [
      "Epoch:  134\n",
      "t_loss:  0.4021814167499542 , v_loss:  0.6262402534484863\n",
      "t_acc:  0.7204267336052714 , v_acc:  0.7272727272727273\n",
      "t_recall:  0.550615426060623 , v_recall:  0.5599781897491821\n",
      "t_prec:  0.7503468935794824 , v_prec:  0.7272727272727273\n",
      "t_f:  0.5157365080745627 , v_f:  0.5363410958238125\n",
      "////////\n"
     ]
    },
    {
     "name": "stderr",
     "output_type": "stream",
     "text": [
      "\r",
      "Iterations:  45%|██████████████▉                  | 136/300 [02:43<03:06,  1.14s/it]"
     ]
    },
    {
     "name": "stdout",
     "output_type": "stream",
     "text": [
      "Epoch  135 , loss 0.3976230025291443\n",
      "Epoch  136 , loss 0.4085232388973236\n"
     ]
    },
    {
     "name": "stderr",
     "output_type": "stream",
     "text": [
      "\r",
      "Iterations:  46%|███████████████                  | 137/300 [02:44<03:19,  1.22s/it]"
     ]
    },
    {
     "name": "stdout",
     "output_type": "stream",
     "text": [
      "Epoch:  136\n",
      "t_loss:  0.4085232388973236 , v_loss:  0.6270425120989481\n",
      "t_acc:  0.7166614370881706 , v_acc:  0.7165775401069518\n",
      "t_recall:  0.5484839617646239 , v_recall:  0.5523446019629226\n",
      "t_prec:  0.7168128910047107 , v_prec:  0.669761273209549\n",
      "t_f:  0.5146809362084901 , v_f:  0.5290567830838679\n",
      "////////\n"
     ]
    },
    {
     "name": "stderr",
     "output_type": "stream",
     "text": [
      "\r",
      "Iterations:  46%|███████████████▏                 | 138/300 [02:45<03:13,  1.20s/it]"
     ]
    },
    {
     "name": "stdout",
     "output_type": "stream",
     "text": [
      "Epoch  137 , loss 0.4004589593410492\n",
      "Epoch  138 , loss 0.3981105041503906\n"
     ]
    },
    {
     "name": "stderr",
     "output_type": "stream",
     "text": [
      "\r",
      "Iterations:  46%|███████████████▎                 | 139/300 [02:47<03:21,  1.25s/it]"
     ]
    },
    {
     "name": "stdout",
     "output_type": "stream",
     "text": [
      "Epoch:  138\n",
      "t_loss:  0.3981105041503906 , v_loss:  0.6295045067866644\n",
      "t_acc:  0.7223093818638218 , v_acc:  0.7165775401069518\n",
      "t_recall:  0.5545678547873181 , v_recall:  0.5523446019629226\n",
      "t_prec:  0.7499861690356626 , v_prec:  0.669761273209549\n",
      "t_f:  0.5230307799158145 , v_f:  0.5290567830838679\n",
      "////////\n"
     ]
    },
    {
     "name": "stderr",
     "output_type": "stream",
     "text": [
      "\r",
      "Iterations:  47%|███████████████▍                 | 140/300 [02:47<03:02,  1.14s/it]"
     ]
    },
    {
     "name": "stdout",
     "output_type": "stream",
     "text": [
      "Epoch  139 , loss 0.3981731748580933\n",
      "Epoch  140 , loss 0.3992592787742615\n"
     ]
    },
    {
     "name": "stderr",
     "output_type": "stream",
     "text": [
      "\r",
      "Iterations:  47%|███████████████▌                 | 141/300 [02:49<03:13,  1.22s/it]"
     ]
    },
    {
     "name": "stdout",
     "output_type": "stream",
     "text": [
      "Epoch:  140\n",
      "t_loss:  0.3992592787742615 , v_loss:  0.630447526772817\n",
      "t_acc:  0.721681832444305 , v_acc:  0.7219251336898396\n",
      "t_recall:  0.5523843695714776 , v_recall:  0.5561613958560523\n",
      "t_prec:  0.755690448661271 , v_prec:  0.6961904761904762\n",
      "t_f:  0.5185906364519899 , v_f:  0.5326797385620915\n",
      "////////\n"
     ]
    },
    {
     "name": "stderr",
     "output_type": "stream",
     "text": [
      "\r",
      "Iterations:  47%|███████████████▌                 | 142/300 [02:50<03:02,  1.16s/it]"
     ]
    },
    {
     "name": "stdout",
     "output_type": "stream",
     "text": [
      "Epoch  141 , loss 0.3985173720121384\n",
      "Epoch  142 , loss 0.39488280057907105\n"
     ]
    },
    {
     "name": "stderr",
     "output_type": "stream",
     "text": [
      "\r",
      "Iterations:  48%|███████████████▋                 | 143/300 [02:51<03:21,  1.28s/it]"
     ]
    },
    {
     "name": "stdout",
     "output_type": "stream",
     "text": [
      "Epoch:  142\n",
      "t_loss:  0.39488280057907105 , v_loss:  0.6333699971437454\n",
      "t_acc:  0.7141512394101035 , v_acc:  0.7165775401069518\n",
      "t_recall:  0.5440800657693058 , v_recall:  0.5523446019629226\n",
      "t_prec:  0.7096564323932647 , v_prec:  0.669761273209549\n",
      "t_f:  0.5069540144682627 , v_f:  0.5290567830838679\n",
      "////////\n"
     ]
    },
    {
     "name": "stderr",
     "output_type": "stream",
     "text": [
      "\r",
      "Iterations:  48%|███████████████▊                 | 144/300 [02:52<03:02,  1.17s/it]"
     ]
    },
    {
     "name": "stdout",
     "output_type": "stream",
     "text": [
      "Epoch  143 , loss 0.3989868211746216\n",
      "Epoch  144 , loss 0.4007937288284302\n"
     ]
    },
    {
     "name": "stderr",
     "output_type": "stream",
     "text": [
      "\r",
      "Iterations:  48%|███████████████▉                 | 145/300 [02:54<03:12,  1.24s/it]"
     ]
    },
    {
     "name": "stdout",
     "output_type": "stream",
     "text": [
      "Epoch:  144\n",
      "t_loss:  0.4007937288284302 , v_loss:  0.631660262743632\n",
      "t_acc:  0.7207405083150298 , v_acc:  0.7165775401069518\n",
      "t_recall:  0.553150516957891 , v_recall:  0.5574563794983642\n",
      "t_prec:  0.7391063600386141 , v_prec:  0.6633720930232558\n",
      "t_f:  0.5213358039191862 , v_f:  0.5393018175056942\n",
      "////////\n"
     ]
    },
    {
     "name": "stderr",
     "output_type": "stream",
     "text": [
      "\r",
      "Iterations:  49%|████████████████                 | 146/300 [02:55<02:53,  1.13s/it]"
     ]
    },
    {
     "name": "stdout",
     "output_type": "stream",
     "text": [
      "Epoch  145 , loss 0.3988068476319313\n",
      "Epoch  146 , loss 0.39754016041755674\n"
     ]
    },
    {
     "name": "stderr",
     "output_type": "stream",
     "text": [
      "\r",
      "Iterations:  49%|████████████████▏                | 147/300 [02:56<03:09,  1.24s/it]"
     ]
    },
    {
     "name": "stdout",
     "output_type": "stream",
     "text": [
      "Epoch:  146\n",
      "t_loss:  0.39754016041755674 , v_loss:  0.6351222445567449\n",
      "t_acc:  0.7194854094759963 , v_acc:  0.7112299465240641\n",
      "t_recall:  0.552824921736384 , v_recall:  0.5485278080697928\n",
      "t_prec:  0.726787986105295 , v_prec:  0.6469859620148637\n",
      "t_f:  0.5218351120604816 , v_f:  0.5254699248120301\n",
      "////////\n"
     ]
    },
    {
     "name": "stderr",
     "output_type": "stream",
     "text": [
      "\r",
      "Iterations:  49%|████████████████▎                | 148/300 [02:57<02:52,  1.14s/it]"
     ]
    },
    {
     "name": "stdout",
     "output_type": "stream",
     "text": [
      "Epoch  147 , loss 0.3949099600315094\n",
      "Epoch  148 , loss 0.39861939787864686\n"
     ]
    },
    {
     "name": "stderr",
     "output_type": "stream",
     "text": [
      "\r",
      "Iterations:  50%|████████████████▍                | 149/300 [02:59<03:10,  1.26s/it]"
     ]
    },
    {
     "name": "stdout",
     "output_type": "stream",
     "text": [
      "Epoch:  148\n",
      "t_loss:  0.39861939787864686 , v_loss:  0.6323665281136831\n",
      "t_acc:  0.7182303106369626 , v_acc:  0.7112299465240641\n",
      "t_recall:  0.5501899692519205 , v_recall:  0.5536395856052345\n",
      "t_prec:  0.7257878482684263 , v_prec:  0.6438230994152047\n",
      "t_f:  0.517033204403853 , v_f:  0.5355960264900662\n",
      "////////\n"
     ]
    },
    {
     "name": "stderr",
     "output_type": "stream",
     "text": [
      "\r",
      "Iterations:  50%|████████████████▌                | 150/300 [03:00<02:56,  1.18s/it]"
     ]
    },
    {
     "name": "stdout",
     "output_type": "stream",
     "text": [
      "Epoch  149 , loss 0.3965421706438065\n",
      "Epoch  150 , loss 0.40249249696731565\n"
     ]
    },
    {
     "name": "stderr",
     "output_type": "stream",
     "text": [
      "\r",
      "Iterations:  50%|████████████████▌                | 151/300 [03:01<03:06,  1.25s/it]"
     ]
    },
    {
     "name": "stdout",
     "output_type": "stream",
     "text": [
      "Epoch:  150\n",
      "t_loss:  0.40249249696731565 , v_loss:  0.6345141430695852\n",
      "t_acc:  0.7125823658613116 , v_acc:  0.7165775401069518\n",
      "t_recall:  0.5452607548607047 , v_recall:  0.5574563794983642\n",
      "t_prec:  0.6899929809510812 , v_prec:  0.6633720930232558\n",
      "t_f:  0.5114109856092376 , v_f:  0.5393018175056942\n",
      "////////\n"
     ]
    },
    {
     "name": "stderr",
     "output_type": "stream",
     "text": [
      "\r",
      "Iterations:  51%|████████████████▋                | 152/300 [03:02<02:56,  1.19s/it]"
     ]
    },
    {
     "name": "stdout",
     "output_type": "stream",
     "text": [
      "Epoch  151 , loss 0.39852968364953995\n",
      "Epoch  152 , loss 0.3973833817243576\n"
     ]
    },
    {
     "name": "stderr",
     "output_type": "stream",
     "text": [
      "\r",
      "Iterations:  51%|████████████████▊                | 153/300 [03:03<03:01,  1.24s/it]"
     ]
    },
    {
     "name": "stdout",
     "output_type": "stream",
     "text": [
      "Epoch:  152\n",
      "t_loss:  0.3973833817243576 , v_loss:  0.6328755219777426\n",
      "t_acc:  0.7207405083150298 , v_acc:  0.7219251336898396\n",
      "t_recall:  0.5528618473000213 , v_recall:  0.5612731733914941\n",
      "t_prec:  0.740697620316558 , v_prec:  0.685590421139554\n",
      "t_f:  0.5206699193982312 , v_f:  0.5430451127819549\n",
      "////////\n"
     ]
    },
    {
     "name": "stderr",
     "output_type": "stream",
     "text": [
      "\r",
      "Iterations:  51%|████████████████▉                | 154/300 [03:04<02:44,  1.13s/it]"
     ]
    },
    {
     "name": "stdout",
     "output_type": "stream",
     "text": [
      "Epoch  153 , loss 0.3946730333566666\n",
      "Epoch  154 , loss 0.3985917645692825\n"
     ]
    },
    {
     "name": "stderr",
     "output_type": "stream",
     "text": [
      "\r",
      "Iterations:  52%|█████████████████                | 155/300 [03:06<02:55,  1.21s/it]"
     ]
    },
    {
     "name": "stdout",
     "output_type": "stream",
     "text": [
      "Epoch:  154\n",
      "t_loss:  0.3985917645692825 , v_loss:  0.6337104191382726\n",
      "t_acc:  0.7191716347662378 , v_acc:  0.7165775401069518\n",
      "t_recall:  0.5540425363914203 , v_recall:  0.5574563794983642\n",
      "t_prec:  0.7183916136419093 , v_prec:  0.6633720930232558\n",
      "t_f:  0.5248849634173256 , v_f:  0.5393018175056942\n",
      "////////\n"
     ]
    },
    {
     "name": "stderr",
     "output_type": "stream",
     "text": [
      "\r",
      "Iterations:  52%|█████████████████▏               | 156/300 [03:07<02:50,  1.18s/it]"
     ]
    },
    {
     "name": "stdout",
     "output_type": "stream",
     "text": [
      "Epoch  155 , loss 0.39230249643325804\n",
      "Epoch  156 , loss 0.39634884595870973\n"
     ]
    },
    {
     "name": "stderr",
     "output_type": "stream",
     "text": [
      "\r",
      "Iterations:  52%|█████████████████▎               | 157/300 [03:08<03:05,  1.30s/it]"
     ]
    },
    {
     "name": "stdout",
     "output_type": "stream",
     "text": [
      "Epoch:  156\n",
      "t_loss:  0.39634884595870973 , v_loss:  0.6343953907489777\n",
      "t_acc:  0.7210542830247882 , v_acc:  0.7165775401069518\n",
      "t_recall:  0.5533762505922024 , v_recall:  0.5574563794983642\n",
      "t_prec:  0.7415715456896008 , v_prec:  0.6633720930232558\n",
      "t_f:  0.5215413726515024 , v_f:  0.5393018175056942\n",
      "////////\n"
     ]
    },
    {
     "name": "stderr",
     "output_type": "stream",
     "text": [
      "\r",
      "Iterations:  53%|█████████████████▍               | 158/300 [03:09<02:48,  1.19s/it]"
     ]
    },
    {
     "name": "stdout",
     "output_type": "stream",
     "text": [
      "Epoch  157 , loss 0.39396103024482726\n",
      "Epoch  158 , loss 0.3912210178375244\n"
     ]
    },
    {
     "name": "stderr",
     "output_type": "stream",
     "text": [
      "\r",
      "Iterations:  53%|█████████████████▍               | 159/300 [03:11<02:57,  1.26s/it]"
     ]
    },
    {
     "name": "stdout",
     "output_type": "stream",
     "text": [
      "Epoch:  158\n",
      "t_loss:  0.3912210178375244 , v_loss:  0.6365076800187429\n",
      "t_acc:  0.7257609036711641 , v_acc:  0.7219251336898396\n",
      "t_recall:  0.5622469786063967 , v_recall:  0.5612731733914941\n",
      "t_prec:  0.7476009681114437 , v_prec:  0.685590421139554\n",
      "t_f:  0.5369753101195796 , v_f:  0.5430451127819549\n",
      "////////\n"
     ]
    },
    {
     "name": "stderr",
     "output_type": "stream",
     "text": [
      "\r",
      "Iterations:  53%|█████████████████▌               | 160/300 [03:12<02:39,  1.14s/it]"
     ]
    },
    {
     "name": "stdout",
     "output_type": "stream",
     "text": [
      "Epoch  159 , loss 0.3990421050786972\n",
      "Epoch  160 , loss 0.39326060116291045\n"
     ]
    },
    {
     "name": "stderr",
     "output_type": "stream",
     "text": [
      "\r",
      "Iterations:  54%|█████████████████▋               | 161/300 [03:13<02:55,  1.26s/it]"
     ]
    },
    {
     "name": "stdout",
     "output_type": "stream",
     "text": [
      "Epoch:  160\n",
      "t_loss:  0.39326060116291045 , v_loss:  0.6371375570694605\n",
      "t_acc:  0.7188578600564794 , v_acc:  0.7165775401069518\n",
      "t_recall:  0.5506414365205436 , v_recall:  0.5574563794983642\n",
      "t_prec:  0.7305873495249939 , v_prec:  0.6633720930232558\n",
      "t_f:  0.5174384806526012 , v_f:  0.5393018175056942\n",
      "////////\n"
     ]
    },
    {
     "name": "stderr",
     "output_type": "stream",
     "text": [
      "\r",
      "Iterations:  54%|█████████████████▊               | 162/300 [03:14<02:39,  1.16s/it]"
     ]
    },
    {
     "name": "stdout",
     "output_type": "stream",
     "text": [
      "Epoch  161 , loss 0.39458266139030457\n",
      "Epoch  162 , loss 0.399172243475914\n"
     ]
    },
    {
     "name": "stderr",
     "output_type": "stream",
     "text": [
      "\r",
      "Iterations:  54%|█████████████████▉               | 163/300 [03:15<02:49,  1.24s/it]"
     ]
    },
    {
     "name": "stdout",
     "output_type": "stream",
     "text": [
      "Epoch:  162\n",
      "t_loss:  0.399172243475914 , v_loss:  0.6353788028160731\n",
      "t_acc:  0.721681832444305 , v_acc:  0.7112299465240641\n",
      "t_recall:  0.5575804234131296 , v_recall:  0.5587513631406761\n",
      "t_prec:  0.7278490900335608 , v_prec:  0.6416831032215649\n",
      "t_f:  0.5304058448327215 , v_f:  0.5451351351351352\n",
      "////////\n"
     ]
    },
    {
     "name": "stderr",
     "output_type": "stream",
     "text": [
      "\r",
      "Iterations:  55%|██████████████████               | 164/300 [03:17<02:42,  1.19s/it]"
     ]
    },
    {
     "name": "stdout",
     "output_type": "stream",
     "text": [
      "Epoch  163 , loss 0.3950002783536911\n",
      "Epoch  164 , loss 0.3909288591146469\n"
     ]
    },
    {
     "name": "stderr",
     "output_type": "stream",
     "text": [
      "\r",
      "Iterations:  55%|██████████████████▏              | 165/300 [03:18<02:48,  1.25s/it]"
     ]
    },
    {
     "name": "stdout",
     "output_type": "stream",
     "text": [
      "Epoch:  164\n",
      "t_loss:  0.3909288591146469 , v_loss:  0.64019147058328\n",
      "t_acc:  0.7235644807028554 , v_acc:  0.7219251336898396\n",
      "t_recall:  0.5586461555611292 , v_recall:  0.5612731733914941\n",
      "t_prec:  0.7421531887799133 , v_prec:  0.685590421139554\n",
      "t_f:  0.5310421139747178 , v_f:  0.5430451127819549\n",
      "////////\n"
     ]
    },
    {
     "name": "stderr",
     "output_type": "stream",
     "text": [
      "\r",
      "Iterations:  55%|██████████████████▎              | 166/300 [03:19<02:32,  1.14s/it]"
     ]
    },
    {
     "name": "stdout",
     "output_type": "stream",
     "text": [
      "Epoch  165 , loss 0.39271080493927\n",
      "Epoch  166 , loss 0.39464269399642943\n"
     ]
    },
    {
     "name": "stderr",
     "output_type": "stream",
     "text": [
      "\r",
      "Iterations:  56%|██████████████████▎              | 167/300 [03:20<02:41,  1.21s/it]"
     ]
    },
    {
     "name": "stdout",
     "output_type": "stream",
     "text": [
      "Epoch:  166\n",
      "t_loss:  0.39464269399642943 , v_loss:  0.6383417894442877\n",
      "t_acc:  0.7213680577345466 , v_acc:  0.7219251336898396\n",
      "t_recall:  0.5585093684102964 , v_recall:  0.5612731733914941\n",
      "t_prec:  0.7212203431501677 , v_prec:  0.685590421139554\n",
      "t_f:  0.5327121444884901 , v_f:  0.5430451127819549\n",
      "////////\n"
     ]
    },
    {
     "name": "stderr",
     "output_type": "stream",
     "text": [
      "\r",
      "Iterations:  56%|██████████████████▍              | 168/300 [03:21<02:31,  1.15s/it]"
     ]
    },
    {
     "name": "stdout",
     "output_type": "stream",
     "text": [
      "Epoch  167 , loss 0.3961737620830536\n",
      "Epoch  168 , loss 0.3915281119942665\n"
     ]
    },
    {
     "name": "stderr",
     "output_type": "stream",
     "text": [
      "\r",
      "Iterations:  56%|██████████████████▌              | 169/300 [03:23<02:47,  1.28s/it]"
     ]
    },
    {
     "name": "stdout",
     "output_type": "stream",
     "text": [
      "Epoch:  168\n",
      "t_loss:  0.3915281119942665 , v_loss:  0.6396213968594869\n",
      "t_acc:  0.7270160025101977 , v_acc:  0.7112299465240641\n",
      "t_recall:  0.5634385828015123 , v_recall:  0.5536395856052345\n",
      "t_prec:  0.7550065160324271 , v_prec:  0.6438230994152047\n",
      "t_f:  0.5384696051667888 , v_f:  0.5355960264900662\n",
      "////////\n"
     ]
    },
    {
     "name": "stderr",
     "output_type": "stream",
     "text": [
      "\r",
      "Iterations:  57%|██████████████████▋              | 170/300 [03:24<02:33,  1.18s/it]"
     ]
    },
    {
     "name": "stdout",
     "output_type": "stream",
     "text": [
      "Epoch  169 , loss 0.39384464532136915\n",
      "Epoch  170 , loss 0.39553612142801287\n"
     ]
    },
    {
     "name": "stderr",
     "output_type": "stream",
     "text": [
      "\r",
      "Iterations:  57%|██████████████████▊              | 171/300 [03:25<02:39,  1.24s/it]"
     ]
    },
    {
     "name": "stdout",
     "output_type": "stream",
     "text": [
      "Epoch:  170\n",
      "t_loss:  0.39553612142801287 , v_loss:  0.6424754858016968\n",
      "t_acc:  0.7245058048321306 , v_acc:  0.7165775401069518\n",
      "t_recall:  0.5636534013321071 , v_recall:  0.5574563794983642\n",
      "t_prec:  0.729401573485102 , v_prec:  0.6633720930232558\n",
      "t_f:  0.5410360021677144 , v_f:  0.5393018175056942\n",
      "////////\n"
     ]
    },
    {
     "name": "stderr",
     "output_type": "stream",
     "text": [
      "\r",
      "Iterations:  57%|██████████████████▉              | 172/300 [03:26<02:24,  1.13s/it]"
     ]
    },
    {
     "name": "stdout",
     "output_type": "stream",
     "text": [
      "Epoch  171 , loss 0.3964377307891846\n",
      "Epoch  172 , loss 0.39316252171993255\n"
     ]
    },
    {
     "name": "stderr",
     "output_type": "stream",
     "text": [
      "\r",
      "Iterations:  58%|███████████████████              | 173/300 [03:27<02:39,  1.26s/it]"
     ]
    },
    {
     "name": "stdout",
     "output_type": "stream",
     "text": [
      "Epoch:  172\n",
      "t_loss:  0.39316252171993255 , v_loss:  0.6462869594494501\n",
      "t_acc:  0.7267022278004392 , v_acc:  0.7165775401069518\n",
      "t_recall:  0.5635015188250704 , v_recall:  0.5574563794983642\n",
      "t_prec:  0.7512792095367277 , v_prec:  0.6633720930232558\n",
      "t_f:  0.5388765398526499 , v_f:  0.5393018175056942\n",
      "////////\n"
     ]
    },
    {
     "name": "stderr",
     "output_type": "stream",
     "text": [
      "\r",
      "Iterations:  58%|███████████████████▏             | 174/300 [03:28<02:25,  1.15s/it]"
     ]
    },
    {
     "name": "stdout",
     "output_type": "stream",
     "text": [
      "Epoch  173 , loss 0.39806662380695346\n",
      "Epoch  174 , loss 0.39065648674964903\n"
     ]
    },
    {
     "name": "stderr",
     "output_type": "stream",
     "text": [
      "\r",
      "Iterations:  58%|███████████████████▎             | 175/300 [03:30<02:39,  1.28s/it]"
     ]
    },
    {
     "name": "stdout",
     "output_type": "stream",
     "text": [
      "Epoch:  174\n",
      "t_loss:  0.39065648674964903 , v_loss:  0.6441025882959366\n",
      "t_acc:  0.720112958895513 , v_acc:  0.7165775401069518\n",
      "t_recall:  0.5552970766100939 , v_recall:  0.5574563794983642\n",
      "t_prec:  0.7222797898439512 , v_prec:  0.6633720930232558\n",
      "t_f:  0.5267987216192823 , v_f:  0.5393018175056942\n",
      "////////\n"
     ]
    },
    {
     "name": "stderr",
     "output_type": "stream",
     "text": [
      "\r",
      "Iterations:  59%|███████████████████▎             | 176/300 [03:31<02:26,  1.18s/it]"
     ]
    },
    {
     "name": "stdout",
     "output_type": "stream",
     "text": [
      "Epoch  175 , loss 0.39113017141819\n",
      "Epoch  176 , loss 0.3907115149497986\n"
     ]
    },
    {
     "name": "stderr",
     "output_type": "stream",
     "text": [
      "\r",
      "Iterations:  59%|███████████████████▍             | 177/300 [03:32<02:31,  1.24s/it]"
     ]
    },
    {
     "name": "stdout",
     "output_type": "stream",
     "text": [
      "Epoch:  176\n",
      "t_loss:  0.3907115149497986 , v_loss:  0.6421574403842291\n",
      "t_acc:  0.7285848760589897 , v_acc:  0.7165775401069518\n",
      "t_recall:  0.5680312868675046 , v_recall:  0.5574563794983642\n",
      "t_prec:  0.7486630562110588 , v_prec:  0.6633720930232558\n",
      "t_f:  0.5469324833248284 , v_f:  0.5393018175056942\n",
      "////////\n"
     ]
    },
    {
     "name": "stderr",
     "output_type": "stream",
     "text": [
      "\r",
      "Iterations:  59%|███████████████████▌             | 178/300 [03:33<02:21,  1.16s/it]"
     ]
    },
    {
     "name": "stdout",
     "output_type": "stream",
     "text": [
      "Epoch  177 , loss 0.39610407173633577\n",
      "Epoch  178 , loss 0.3911389356851578\n"
     ]
    },
    {
     "name": "stderr",
     "output_type": "stream",
     "text": [
      "\r",
      "Iterations:  60%|███████████████████▋             | 179/300 [03:35<02:28,  1.23s/it]"
     ]
    },
    {
     "name": "stdout",
     "output_type": "stream",
     "text": [
      "Epoch:  178\n",
      "t_loss:  0.3911389356851578 , v_loss:  0.6418158262968063\n",
      "t_acc:  0.7301537496077816 , v_acc:  0.7165775401069518\n",
      "t_recall:  0.5714693123020186 , v_recall:  0.5625681570338059\n",
      "t_prec:  0.7483280398688255 , v_prec:  0.6588235294117647\n",
      "t_f:  0.5528053882250055 , v_f:  0.5489464342602285\n",
      "////////\n"
     ]
    },
    {
     "name": "stderr",
     "output_type": "stream",
     "text": [
      "\r",
      "Iterations:  60%|███████████████████▊             | 180/300 [03:36<02:14,  1.12s/it]"
     ]
    },
    {
     "name": "stdout",
     "output_type": "stream",
     "text": [
      "Epoch  179 , loss 0.39272978514432905\n",
      "Epoch  180 , loss 0.38899088561534884\n"
     ]
    },
    {
     "name": "stderr",
     "output_type": "stream",
     "text": [
      "\r",
      "Iterations:  60%|███████████████████▉             | 181/300 [03:37<02:24,  1.22s/it]"
     ]
    },
    {
     "name": "stdout",
     "output_type": "stream",
     "text": [
      "Epoch:  180\n",
      "t_loss:  0.38899088561534884 , v_loss:  0.6454029331604639\n",
      "t_acc:  0.7292124254785064 , v_acc:  0.7112299465240641\n",
      "t_recall:  0.5696374327676058 , v_recall:  0.5587513631406761\n",
      "t_prec:  0.7475072306818632 , v_prec:  0.6416831032215649\n",
      "t_f:  0.5497692273063969 , v_f:  0.5451351351351352\n",
      "////////\n"
     ]
    },
    {
     "name": "stderr",
     "output_type": "stream",
     "text": [
      "\r",
      "Iterations:  61%|████████████████████             | 182/300 [03:38<02:18,  1.17s/it]"
     ]
    },
    {
     "name": "stdout",
     "output_type": "stream",
     "text": [
      "Epoch  181 , loss 0.38211715400218965\n",
      "Epoch  182 , loss 0.38999479353427885\n"
     ]
    },
    {
     "name": "stderr",
     "output_type": "stream",
     "text": [
      "\r",
      "Iterations:  61%|████████████████████▏            | 183/300 [03:40<02:29,  1.28s/it]"
     ]
    },
    {
     "name": "stdout",
     "output_type": "stream",
     "text": [
      "Epoch:  182\n",
      "t_loss:  0.38999479353427885 , v_loss:  0.6452728162209193\n",
      "t_acc:  0.7232507059930969 , v_acc:  0.7112299465240641\n",
      "t_recall:  0.5636164757684697 , v_recall:  0.5587513631406761\n",
      "t_prec:  0.7190844090407409 , v_prec:  0.6416831032215649\n",
      "t_f:  0.5419651865814646 , v_f:  0.5451351351351352\n",
      "////////\n"
     ]
    },
    {
     "name": "stderr",
     "output_type": "stream",
     "text": [
      "\r",
      "Iterations:  61%|████████████████████▏            | 184/300 [03:40<02:13,  1.15s/it]"
     ]
    },
    {
     "name": "stdout",
     "output_type": "stream",
     "text": [
      "Epoch  183 , loss 0.39304964900016787\n",
      "Epoch  184 , loss 0.3855134415626526\n"
     ]
    },
    {
     "name": "stderr",
     "output_type": "stream",
     "text": [
      "\r",
      "Iterations:  62%|████████████████████▎            | 185/300 [03:42<02:19,  1.22s/it]"
     ]
    },
    {
     "name": "stdout",
     "output_type": "stream",
     "text": [
      "Epoch:  184\n",
      "t_loss:  0.3855134415626526 , v_loss:  0.6470346798499426\n",
      "t_acc:  0.7263884530906809 , v_acc:  0.7058823529411765\n",
      "t_recall:  0.5670284907430632 , v_recall:  0.5498227917121047\n",
      "t_prec:  0.7328979136003305 , v_prec:  0.6264705882352941\n",
      "t_f:  0.5465654634095403 , v_f:  0.5319255449870296\n",
      "////////\n"
     ]
    },
    {
     "name": "stderr",
     "output_type": "stream",
     "text": [
      "\r",
      "Iterations:  62%|████████████████████▍            | 186/300 [03:43<02:07,  1.12s/it]"
     ]
    },
    {
     "name": "stdout",
     "output_type": "stream",
     "text": [
      "Epoch  185 , loss 0.38471258044242856\n",
      "Epoch  186 , loss 0.38733856320381166\n"
     ]
    },
    {
     "name": "stderr",
     "output_type": "stream",
     "text": [
      "\r",
      "Iterations:  62%|████████████████████▌            | 187/300 [03:44<02:21,  1.25s/it]"
     ]
    },
    {
     "name": "stdout",
     "output_type": "stream",
     "text": [
      "Epoch:  186\n",
      "t_loss:  0.38733856320381166 , v_loss:  0.6462860951821009\n",
      "t_acc:  0.7301537496077816 , v_acc:  0.7112299465240641\n",
      "t_recall:  0.5700259640126708 , v_recall:  0.5587513631406761\n",
      "t_prec:  0.7547463595472963 , v_prec:  0.6416831032215649\n",
      "t_f:  0.5498498853610306 , v_f:  0.5451351351351352\n",
      "////////\n"
     ]
    },
    {
     "name": "stderr",
     "output_type": "stream",
     "text": [
      "\r",
      "Iterations:  63%|████████████████████▋            | 188/300 [03:45<02:08,  1.15s/it]"
     ]
    },
    {
     "name": "stdout",
     "output_type": "stream",
     "text": [
      "Epoch  187 , loss 0.3878732669353485\n",
      "Epoch  188 , loss 0.3874247235059738\n"
     ]
    },
    {
     "name": "stderr",
     "output_type": "stream",
     "text": [
      "\r",
      "Iterations:  63%|████████████████████▊            | 189/300 [03:47<02:15,  1.22s/it]"
     ]
    },
    {
     "name": "stdout",
     "output_type": "stream",
     "text": [
      "Epoch:  188\n",
      "t_loss:  0.3874247235059738 , v_loss:  0.6467434416214625\n",
      "t_acc:  0.7339190461248823 , v_acc:  0.7112299465240641\n",
      "t_recall:  0.5747554552294959 , v_recall:  0.5587513631406761\n",
      "t_prec:  0.7694124539671912 , v_prec:  0.6416831032215649\n",
      "t_f:  0.5567181433237152 , v_f:  0.5451351351351352\n",
      "////////\n"
     ]
    },
    {
     "name": "stderr",
     "output_type": "stream",
     "text": [
      "\r",
      "Iterations:  63%|████████████████████▉            | 190/300 [03:48<02:07,  1.16s/it]"
     ]
    },
    {
     "name": "stdout",
     "output_type": "stream",
     "text": [
      "Epoch  189 , loss 0.3897197902202606\n",
      "Epoch  190 , loss 0.3878630292415619\n"
     ]
    },
    {
     "name": "stderr",
     "output_type": "stream",
     "text": [
      "\r",
      "Iterations:  64%|█████████████████████            | 191/300 [03:49<02:12,  1.22s/it]"
     ]
    },
    {
     "name": "stdout",
     "output_type": "stream",
     "text": [
      "Epoch:  190\n",
      "t_loss:  0.3878630292415619 , v_loss:  0.6457069168488184\n",
      "t_acc:  0.7317226231565735 , v_acc:  0.7112299465240641\n",
      "t_recall:  0.5734639894471848 , v_recall:  0.5587513631406761\n",
      "t_prec:  0.7541227373948027 , v_prec:  0.6416831032215649\n",
      "t_f:  0.5556962712620536 , v_f:  0.5451351351351352\n",
      "////////\n"
     ]
    },
    {
     "name": "stderr",
     "output_type": "stream",
     "text": [
      "\r",
      "Iterations:  64%|█████████████████████            | 192/300 [03:50<02:00,  1.12s/it]"
     ]
    },
    {
     "name": "stdout",
     "output_type": "stream",
     "text": [
      "Epoch  191 , loss 0.3905577650666237\n",
      "Epoch  192 , loss 0.3842279994487762\n"
     ]
    },
    {
     "name": "stderr",
     "output_type": "stream",
     "text": [
      "\r",
      "Iterations:  64%|█████████████████████▏           | 193/300 [03:51<02:12,  1.24s/it]"
     ]
    },
    {
     "name": "stdout",
     "output_type": "stream",
     "text": [
      "Epoch:  192\n",
      "t_loss:  0.3842279994487762 , v_loss:  0.6503864129384359\n",
      "t_acc:  0.7345465955443992 , v_acc:  0.7112299465240641\n",
      "t_recall:  0.5778049494189449 , v_recall:  0.5587513631406761\n",
      "t_prec:  0.7610302367328621 , v_prec:  0.6416831032215649\n",
      "t_f:  0.5623736399864437 , v_f:  0.5451351351351352\n",
      "////////\n"
     ]
    },
    {
     "name": "stderr",
     "output_type": "stream",
     "text": [
      "\r",
      "Iterations:  65%|█████████████████████▎           | 194/300 [03:52<02:07,  1.20s/it]"
     ]
    },
    {
     "name": "stdout",
     "output_type": "stream",
     "text": [
      "Epoch  193 , loss 0.39005680769681933\n",
      "Epoch  194 , loss 0.38511655569076536\n"
     ]
    },
    {
     "name": "stderr",
     "output_type": "stream",
     "text": [
      "\r",
      "Iterations:  65%|█████████████████████▍           | 195/300 [03:54<02:17,  1.31s/it]"
     ]
    },
    {
     "name": "stdout",
     "output_type": "stream",
     "text": [
      "Epoch:  194\n",
      "t_loss:  0.38511655569076536 , v_loss:  0.6537390351295471\n",
      "t_acc:  0.7323501725760904 , v_acc:  0.7112299465240641\n",
      "t_recall:  0.5742041263736775 , v_recall:  0.5587513631406761\n",
      "t_prec:  0.7566829798104762 , v_prec:  0.6416831032215649\n",
      "t_f:  0.5567355782298616 , v_f:  0.5451351351351352\n",
      "////////\n"
     ]
    },
    {
     "name": "stderr",
     "output_type": "stream",
     "text": [
      "\r",
      "Iterations:  65%|█████████████████████▌           | 196/300 [03:55<02:03,  1.18s/it]"
     ]
    },
    {
     "name": "stdout",
     "output_type": "stream",
     "text": [
      "Epoch  195 , loss 0.38970858603715897\n",
      "Epoch  196 , loss 0.38678615033626557\n"
     ]
    },
    {
     "name": "stderr",
     "output_type": "stream",
     "text": [
      "\r",
      "Iterations:  66%|█████████████████████▋           | 197/300 [03:56<02:08,  1.25s/it]"
     ]
    },
    {
     "name": "stdout",
     "output_type": "stream",
     "text": [
      "Epoch:  196\n",
      "t_loss:  0.38678615033626557 , v_loss:  0.6522808074951172\n",
      "t_acc:  0.740822089739567 , v_acc:  0.7112299465240641\n",
      "t_recall:  0.5886703545783054 , v_recall:  0.5587513631406761\n",
      "t_prec:  0.7699150265807035 , v_prec:  0.6416831032215649\n",
      "t_f:  0.5792331751578877 , v_f:  0.5451351351351352\n",
      "////////\n"
     ]
    },
    {
     "name": "stderr",
     "output_type": "stream",
     "text": [
      "\r",
      "Iterations:  66%|█████████████████████▊           | 198/300 [03:57<01:55,  1.13s/it]"
     ]
    },
    {
     "name": "stdout",
     "output_type": "stream",
     "text": [
      "Epoch  197 , loss 0.3816366750001907\n",
      "Epoch  198 , loss 0.38551078975200653\n"
     ]
    },
    {
     "name": "stderr",
     "output_type": "stream",
     "text": [
      "\r",
      "Iterations:  66%|█████████████████████▉           | 199/300 [03:59<02:07,  1.26s/it]"
     ]
    },
    {
     "name": "stdout",
     "output_type": "stream",
     "text": [
      "Epoch:  198\n",
      "t_loss:  0.38551078975200653 , v_loss:  0.6560625483592352\n",
      "t_acc:  0.7398807656102918 , v_acc:  0.7112299465240641\n",
      "t_recall:  0.5894365019647186 , v_recall:  0.5587513631406761\n",
      "t_prec:  0.7594025073352895 , v_prec:  0.6416831032215649\n",
      "t_f:  0.581131584892648 , v_f:  0.5451351351351352\n",
      "////////\n"
     ]
    },
    {
     "name": "stderr",
     "output_type": "stream",
     "text": [
      "\r",
      "Iterations:  67%|██████████████████████           | 200/300 [04:00<01:56,  1.16s/it]"
     ]
    },
    {
     "name": "stdout",
     "output_type": "stream",
     "text": [
      "Epoch  199 , loss 0.38369972854852674\n",
      "Epoch  200 , loss 0.38396827220916746\n"
     ]
    },
    {
     "name": "stderr",
     "output_type": "stream",
     "text": [
      "\r",
      "Iterations:  67%|██████████████████████           | 201/300 [04:01<02:02,  1.24s/it]"
     ]
    },
    {
     "name": "stdout",
     "output_type": "stream",
     "text": [
      "Epoch:  200\n",
      "t_loss:  0.38396827220916746 , v_loss:  0.6540286739667257\n",
      "t_acc:  0.7354879196736743 , v_acc:  0.7112299465240641\n",
      "t_recall:  0.5790594896376186 , v_recall:  0.5587513631406761\n",
      "t_prec:  0.7641057270089529 , v_prec:  0.6416831032215649\n",
      "t_f:  0.5642082315146963 , v_f:  0.5451351351351352\n",
      "////////\n"
     ]
    },
    {
     "name": "stderr",
     "output_type": "stream",
     "text": [
      "\r",
      "Iterations:  67%|██████████████████████▏          | 202/300 [04:02<01:57,  1.20s/it]"
     ]
    },
    {
     "name": "stdout",
     "output_type": "stream",
     "text": [
      "Epoch  201 , loss 0.38677945971488953\n",
      "Epoch  202 , loss 0.3851453456282616\n"
     ]
    },
    {
     "name": "stderr",
     "output_type": "stream",
     "text": [
      "\r",
      "Iterations:  68%|██████████████████████▎          | 203/300 [04:04<02:02,  1.26s/it]"
     ]
    },
    {
     "name": "stdout",
     "output_type": "stream",
     "text": [
      "Epoch:  202\n",
      "t_loss:  0.3851453456282616 , v_loss:  0.6545223941405615\n",
      "t_acc:  0.7279573266394729 , v_acc:  0.7112299465240641\n",
      "t_recall:  0.5701778465197076 , v_recall:  0.5587513631406761\n",
      "t_prec:  0.7344357554034974 , v_prec:  0.6416831032215649\n",
      "t_f:  0.5518013484261468 , v_f:  0.5451351351351352\n",
      "////////\n"
     ]
    },
    {
     "name": "stderr",
     "output_type": "stream",
     "text": [
      "\r",
      "Iterations:  68%|██████████████████████▍          | 204/300 [04:04<01:50,  1.15s/it]"
     ]
    },
    {
     "name": "stdout",
     "output_type": "stream",
     "text": [
      "Epoch  203 , loss 0.38681844830513\n",
      "Epoch  204 , loss 0.3851488965749741\n"
     ]
    },
    {
     "name": "stderr",
     "output_type": "stream",
     "text": [
      "\r",
      "Iterations:  68%|██████████████████████▌          | 205/300 [04:06<01:55,  1.22s/it]"
     ]
    },
    {
     "name": "stdout",
     "output_type": "stream",
     "text": [
      "Epoch:  204\n",
      "t_loss:  0.3851488965749741 , v_loss:  0.6579582790533701\n",
      "t_acc:  0.7358016943834327 , v_acc:  0.7112299465240641\n",
      "t_recall:  0.5818832501927561 , v_recall:  0.5587513631406761\n",
      "t_prec:  0.7551266132370095 , v_prec:  0.6416831032215649\n",
      "t_f:  0.5694492578387731 , v_f:  0.5451351351351352\n",
      "////////\n"
     ]
    },
    {
     "name": "stderr",
     "output_type": "stream",
     "text": [
      "\r",
      "Iterations:  69%|██████████████████████▋          | 206/300 [04:07<01:51,  1.19s/it]"
     ]
    },
    {
     "name": "stdout",
     "output_type": "stream",
     "text": [
      "Epoch  205 , loss 0.3885923331975937\n",
      "Epoch  206 , loss 0.38535829544067385\n"
     ]
    },
    {
     "name": "stderr",
     "output_type": "stream",
     "text": [
      "\r",
      "Iterations:  69%|██████████████████████▊          | 207/300 [04:09<02:01,  1.31s/it]"
     ]
    },
    {
     "name": "stdout",
     "output_type": "stream",
     "text": [
      "Epoch:  206\n",
      "t_loss:  0.38535829544067385 , v_loss:  0.6536602874596914\n",
      "t_acc:  0.737684342641983 , v_acc:  0.7112299465240641\n",
      "t_recall:  0.5835263216564948 , v_recall:  0.5587513631406761\n",
      "t_prec:  0.7644138448192204 , v_prec:  0.6416831032215649\n",
      "t_f:  0.571426457322354 , v_f:  0.5451351351351352\n",
      "////////\n"
     ]
    },
    {
     "name": "stderr",
     "output_type": "stream",
     "text": [
      "\r",
      "Iterations:  69%|██████████████████████▉          | 208/300 [04:09<01:50,  1.20s/it]"
     ]
    },
    {
     "name": "stdout",
     "output_type": "stream",
     "text": [
      "Epoch  207 , loss 0.3821983748674393\n",
      "Epoch  208 , loss 0.3836118286848068\n"
     ]
    },
    {
     "name": "stderr",
     "output_type": "stream",
     "text": [
      "\r",
      "Iterations:  70%|██████████████████████▉          | 209/300 [04:11<01:54,  1.25s/it]"
     ]
    },
    {
     "name": "stdout",
     "output_type": "stream",
     "text": [
      "Epoch:  208\n",
      "t_loss:  0.3836118286848068 , v_loss:  0.6540082295735677\n",
      "t_acc:  0.7367430185127078 , v_acc:  0.7112299465240641\n",
      "t_recall:  0.5840037993850384 , v_recall:  0.5587513631406761\n",
      "t_prec:  0.7547353046398098 , v_prec:  0.6416831032215649\n",
      "t_f:  0.5728805345053338 , v_f:  0.5451351351351352\n",
      "////////\n"
     ]
    },
    {
     "name": "stderr",
     "output_type": "stream",
     "text": [
      "\r",
      "Iterations:  70%|███████████████████████          | 210/300 [04:12<01:41,  1.13s/it]"
     ]
    },
    {
     "name": "stdout",
     "output_type": "stream",
     "text": [
      "Epoch  209 , loss 0.3799598717689514\n",
      "Epoch  210 , loss 0.38380392611026765\n"
     ]
    },
    {
     "name": "stderr",
     "output_type": "stream",
     "text": [
      "\r",
      "Iterations:  70%|███████████████████████▏         | 211/300 [04:13<01:51,  1.26s/it]"
     ]
    },
    {
     "name": "stdout",
     "output_type": "stream",
     "text": [
      "Epoch:  210\n",
      "t_loss:  0.38380392611026765 , v_loss:  0.6577030022939047\n",
      "t_acc:  0.7386256667712582 , v_acc:  0.7112299465240641\n",
      "t_recall:  0.5859355405066466 , v_recall:  0.5587513631406761\n",
      "t_prec:  0.7625955899468047 , v_prec:  0.6416831032215649\n",
      "t_f:  0.5753992111500349 , v_f:  0.5451351351351352\n",
      "////////\n"
     ]
    },
    {
     "name": "stderr",
     "output_type": "stream",
     "text": [
      "\r",
      "Iterations:  71%|███████████████████████▎         | 212/300 [04:14<01:40,  1.14s/it]"
     ]
    },
    {
     "name": "stdout",
     "output_type": "stream",
     "text": [
      "Epoch  211 , loss 0.38424490571022035\n",
      "Epoch  212 , loss 0.38783823132514955\n"
     ]
    },
    {
     "name": "stderr",
     "output_type": "stream",
     "text": [
      "\r",
      "Iterations:  71%|███████████████████████▍         | 213/300 [04:16<01:45,  1.21s/it]"
     ]
    },
    {
     "name": "stdout",
     "output_type": "stream",
     "text": [
      "Epoch:  212\n",
      "t_loss:  0.38783823132514955 , v_loss:  0.6574089676141739\n",
      "t_acc:  0.7354879196736743 , v_acc:  0.7112299465240641\n",
      "t_recall:  0.581368846900575 , v_recall:  0.5587513631406761\n",
      "t_prec:  0.7545257612432114 , v_prec:  0.6416831032215649\n",
      "t_f:  0.5686636499591805 , v_f:  0.5451351351351352\n",
      "////////\n"
     ]
    },
    {
     "name": "stderr",
     "output_type": "stream",
     "text": [
      "\r",
      "Iterations:  71%|███████████████████████▌         | 214/300 [04:17<01:40,  1.17s/it]"
     ]
    },
    {
     "name": "stdout",
     "output_type": "stream",
     "text": [
      "Epoch  213 , loss 0.38380235075950625\n",
      "Epoch  214 , loss 0.3807594406604767\n"
     ]
    },
    {
     "name": "stderr",
     "output_type": "stream",
     "text": [
      "\r",
      "Iterations:  72%|███████████████████████▋         | 215/300 [04:18<01:44,  1.23s/it]"
     ]
    },
    {
     "name": "stdout",
     "output_type": "stream",
     "text": [
      "Epoch:  214\n",
      "t_loss:  0.3807594406604767 , v_loss:  0.6559737424055735\n",
      "t_acc:  0.7411358644493253 , v_acc:  0.7112299465240641\n",
      "t_recall:  0.5883187488968779 , v_recall:  0.5587513631406761\n",
      "t_prec:  0.7740997808914258 , v_prec:  0.6416831032215649\n",
      "t_f:  0.5784100199965718 , v_f:  0.5451351351351352\n",
      "////////\n"
     ]
    },
    {
     "name": "stderr",
     "output_type": "stream",
     "text": [
      "\r",
      "Iterations:  72%|███████████████████████▊         | 216/300 [04:19<01:34,  1.13s/it]"
     ]
    },
    {
     "name": "stdout",
     "output_type": "stream",
     "text": [
      "Epoch  215 , loss 0.38220102310180665\n",
      "Epoch  216 , loss 0.3794803732633591\n"
     ]
    },
    {
     "name": "stderr",
     "output_type": "stream",
     "text": [
      "\r",
      "Iterations:  72%|███████████████████████▊         | 217/300 [04:20<01:39,  1.19s/it]"
     ]
    },
    {
     "name": "stdout",
     "output_type": "stream",
     "text": [
      "Epoch:  216\n",
      "t_loss:  0.3794803732633591 , v_loss:  0.6591266741355261\n",
      "t_acc:  0.7389394414810166 , v_acc:  0.7112299465240641\n",
      "t_recall:  0.5858726044830885 , v_recall:  0.5587513631406761\n",
      "t_prec:  0.7654687580768369 , v_prec:  0.6416831032215649\n",
      "t_f:  0.5751026195219379 , v_f:  0.5451351351351352\n",
      "////////\n"
     ]
    },
    {
     "name": "stderr",
     "output_type": "stream",
     "text": [
      "\r",
      "Iterations:  73%|███████████████████████▉         | 218/300 [04:21<01:34,  1.15s/it]"
     ]
    },
    {
     "name": "stdout",
     "output_type": "stream",
     "text": [
      "Epoch  217 , loss 0.38012209177017214\n",
      "Epoch  218 , loss 0.3766110947728157\n"
     ]
    },
    {
     "name": "stderr",
     "output_type": "stream",
     "text": [
      "\r",
      "Iterations:  73%|████████████████████████         | 219/300 [04:23<01:43,  1.28s/it]"
     ]
    },
    {
     "name": "stdout",
     "output_type": "stream",
     "text": [
      "Epoch:  218\n",
      "t_loss:  0.3766110947728157 , v_loss:  0.6604841103156408\n",
      "t_acc:  0.7436460621273925 , v_acc:  0.7112299465240641\n",
      "t_recall:  0.5958980111287611 , v_recall:  0.5587513631406761\n",
      "t_prec:  0.7648228669642398 , v_prec:  0.6416831032215649\n",
      "t_f:  0.5907465344496025 , v_f:  0.5451351351351352\n",
      "////////\n"
     ]
    },
    {
     "name": "stderr",
     "output_type": "stream",
     "text": [
      "\r",
      "Iterations:  73%|████████████████████████▏        | 220/300 [04:24<01:33,  1.17s/it]"
     ]
    },
    {
     "name": "stdout",
     "output_type": "stream",
     "text": [
      "Epoch  219 , loss 0.3826239067316055\n",
      "Epoch  220 , loss 0.38246908962726595\n"
     ]
    },
    {
     "name": "stderr",
     "output_type": "stream",
     "text": [
      "\r",
      "Iterations:  74%|████████████████████████▎        | 221/300 [04:25<01:37,  1.23s/it]"
     ]
    },
    {
     "name": "stdout",
     "output_type": "stream",
     "text": [
      "Epoch:  220\n",
      "t_loss:  0.38246908962726595 , v_loss:  0.6603757093350092\n",
      "t_acc:  0.7401945403200502 , v_acc:  0.7058823529411765\n",
      "t_recall:  0.5913942535462475 , v_recall:  0.5549345692475464\n",
      "t_prec:  0.754991758156315 , v_prec:  0.6262531328320802\n",
      "t_f:  0.5844724440396512 , v_f:  0.5413600891861761\n",
      "////////\n"
     ]
    },
    {
     "name": "stderr",
     "output_type": "stream",
     "text": [
      "\r",
      "Iterations:  74%|████████████████████████▍        | 222/300 [04:26<01:28,  1.13s/it]"
     ]
    },
    {
     "name": "stdout",
     "output_type": "stream",
     "text": [
      "Epoch  221 , loss 0.3783777052164078\n",
      "Epoch  222 , loss 0.3815663200616837\n"
     ]
    },
    {
     "name": "stderr",
     "output_type": "stream",
     "text": [
      "\r",
      "Iterations:  74%|████████████████████████▌        | 223/300 [04:28<01:38,  1.28s/it]"
     ]
    },
    {
     "name": "stdout",
     "output_type": "stream",
     "text": [
      "Epoch:  222\n",
      "t_loss:  0.3815663200616837 , v_loss:  0.662006139755249\n",
      "t_acc:  0.742390963288359 , v_acc:  0.7112299465240641\n",
      "t_recall:  0.5929743889864281 , v_recall:  0.5587513631406761\n",
      "t_prec:  0.7658291390552583 , v_prec:  0.6416831032215649\n",
      "t_f:  0.5862024084305348 , v_f:  0.5451351351351352\n",
      "////////\n"
     ]
    },
    {
     "name": "stderr",
     "output_type": "stream",
     "text": [
      "\r",
      "Iterations:  75%|████████████████████████▋        | 224/300 [04:29<01:28,  1.16s/it]"
     ]
    },
    {
     "name": "stdout",
     "output_type": "stream",
     "text": [
      "Epoch  223 , loss 0.38293540239334106\n",
      "Epoch  224 , loss 0.3836287614703178\n"
     ]
    },
    {
     "name": "stderr",
     "output_type": "stream",
     "text": [
      "\r",
      "Iterations:  75%|████████████████████████▊        | 225/300 [04:30<01:34,  1.26s/it]"
     ]
    },
    {
     "name": "stdout",
     "output_type": "stream",
     "text": [
      "Epoch:  224\n",
      "t_loss:  0.3836287614703178 , v_loss:  0.6605143894751867\n",
      "t_acc:  0.7436460621273925 , v_acc:  0.7112299465240641\n",
      "t_recall:  0.5921453055764568 , v_recall:  0.5638631406761178\n",
      "t_prec:  0.7794238196246124 , v_prec:  0.6402694610778443\n",
      "t_f:  0.5840803297864812 , v_f:  0.5541328152596257\n",
      "////////\n"
     ]
    },
    {
     "name": "stderr",
     "output_type": "stream",
     "text": [
      "\r",
      "Iterations:  75%|████████████████████████▊        | 226/300 [04:31<01:28,  1.20s/it]"
     ]
    },
    {
     "name": "stdout",
     "output_type": "stream",
     "text": [
      "Epoch  225 , loss 0.37756078481674193\n",
      "Epoch  226 , loss 0.3804706355929375\n"
     ]
    },
    {
     "name": "stderr",
     "output_type": "stream",
     "text": [
      "\r",
      "Iterations:  76%|████████████████████████▉        | 227/300 [04:32<01:31,  1.26s/it]"
     ]
    },
    {
     "name": "stdout",
     "output_type": "stream",
     "text": [
      "Epoch:  226\n",
      "t_loss:  0.3804706355929375 , v_loss:  0.6646586457888285\n",
      "t_acc:  0.7401945403200502 , v_acc:  0.7112299465240641\n",
      "t_recall:  0.591105583888378 , v_recall:  0.5638631406761178\n",
      "t_prec:  0.7559515886996804 , v_prec:  0.6402694610778443\n",
      "t_f:  0.5839609255276883 , v_f:  0.5541328152596257\n",
      "////////\n"
     ]
    },
    {
     "name": "stderr",
     "output_type": "stream",
     "text": [
      "\r",
      "Iterations:  76%|█████████████████████████        | 228/300 [04:33<01:24,  1.18s/it]"
     ]
    },
    {
     "name": "stdout",
     "output_type": "stream",
     "text": [
      "Epoch  227 , loss 0.3772121876478195\n",
      "Epoch  228 , loss 0.3715969190001488\n"
     ]
    },
    {
     "name": "stderr",
     "output_type": "stream",
     "text": [
      "\r",
      "Iterations:  76%|█████████████████████████▏       | 229/300 [04:35<01:28,  1.24s/it]"
     ]
    },
    {
     "name": "stdout",
     "output_type": "stream",
     "text": [
      "Epoch:  228\n",
      "t_loss:  0.3715969190001488 , v_loss:  0.666561171412468\n",
      "t_acc:  0.7492940069030436 , v_acc:  0.7112299465240641\n",
      "t_recall:  0.6019819041514551 , v_recall:  0.5638631406761178\n",
      "t_prec:  0.7855157006652692 , v_prec:  0.6402694610778443\n",
      "t_f:  0.5987793589231509 , v_f:  0.5541328152596257\n",
      "////////\n"
     ]
    },
    {
     "name": "stderr",
     "output_type": "stream",
     "text": [
      "\r",
      "Iterations:  77%|█████████████████████████▎       | 230/300 [04:36<01:19,  1.14s/it]"
     ]
    },
    {
     "name": "stdout",
     "output_type": "stream",
     "text": [
      "Epoch  229 , loss 0.38045868158340457\n",
      "Epoch  230 , loss 0.37407763361930846\n"
     ]
    },
    {
     "name": "stderr",
     "output_type": "stream",
     "text": [
      "\r",
      "Iterations:  77%|█████████████████████████▍       | 231/300 [04:37<01:27,  1.27s/it]"
     ]
    },
    {
     "name": "stdout",
     "output_type": "stream",
     "text": [
      "Epoch:  230\n",
      "t_loss:  0.37407763361930846 , v_loss:  0.665077418088913\n",
      "t_acc:  0.7436460621273925 , v_acc:  0.7058823529411765\n",
      "t_recall:  0.5961866807866306 , v_recall:  0.560046346782988\n",
      "t_prec:  0.7638258622930102 , v_prec:  0.6263625932300632\n",
      "t_f:  0.5912468860149201 , v_f:  0.5502645502645502\n",
      "////////\n"
     ]
    },
    {
     "name": "stderr",
     "output_type": "stream",
     "text": [
      "\r",
      "Iterations:  77%|█████████████████████████▌       | 232/300 [04:38<01:22,  1.21s/it]"
     ]
    },
    {
     "name": "stdout",
     "output_type": "stream",
     "text": [
      "Epoch  231 , loss 0.3748629230260849\n",
      "Epoch  232 , loss 0.38146901994943616\n"
     ]
    },
    {
     "name": "stderr",
     "output_type": "stream",
     "text": [
      "\r",
      "Iterations:  78%|█████████████████████████▋       | 233/300 [04:40<01:27,  1.30s/it]"
     ]
    },
    {
     "name": "stdout",
     "output_type": "stream",
     "text": [
      "Epoch:  232\n",
      "t_loss:  0.38146901994943616 , v_loss:  0.6661638170480728\n",
      "t_acc:  0.7405083150298086 , v_acc:  0.7005347593582888\n",
      "t_recall:  0.5921973264962982 , v_recall:  0.5562295528898582\n",
      "t_prec:  0.7546034067005285 , v_prec:  0.6136363636363636\n",
      "t_f:  0.5857373121050443 , v_f:  0.5464310464310465\n",
      "////////\n"
     ]
    },
    {
     "name": "stderr",
     "output_type": "stream",
     "text": [
      "\r",
      "Iterations:  78%|█████████████████████████▋       | 234/300 [04:41<01:17,  1.17s/it]"
     ]
    },
    {
     "name": "stdout",
     "output_type": "stream",
     "text": [
      "Epoch  233 , loss 0.3835986143350601\n",
      "Epoch  234 , loss 0.38076547771692276\n"
     ]
    },
    {
     "name": "stderr",
     "output_type": "stream",
     "text": [
      "\r",
      "Iterations:  78%|█████████████████████████▊       | 235/300 [04:42<01:20,  1.23s/it]"
     ]
    },
    {
     "name": "stdout",
     "output_type": "stream",
     "text": [
      "Epoch:  234\n",
      "t_loss:  0.38076547771692276 , v_loss:  0.6651511639356613\n",
      "t_acc:  0.7411358644493253 , v_acc:  0.7058823529411765\n",
      "t_recall:  0.5932261330806603 , v_recall:  0.5549345692475464\n",
      "t_prec:  0.7557055170955307 , v_prec:  0.6262531328320802\n",
      "t_f:  0.587244407542606 , v_f:  0.5413600891861761\n",
      "////////\n"
     ]
    },
    {
     "name": "stderr",
     "output_type": "stream",
     "text": [
      "\r",
      "Iterations:  79%|█████████████████████████▉       | 236/300 [04:43<01:12,  1.14s/it]"
     ]
    },
    {
     "name": "stdout",
     "output_type": "stream",
     "text": [
      "Epoch  235 , loss 0.37993714660406114\n",
      "Epoch  236 , loss 0.3812991952896118\n"
     ]
    },
    {
     "name": "stderr",
     "output_type": "stream",
     "text": [
      "\r",
      "Iterations:  79%|██████████████████████████       | 237/300 [04:45<01:20,  1.28s/it]"
     ]
    },
    {
     "name": "stdout",
     "output_type": "stream",
     "text": [
      "Epoch:  236\n",
      "t_loss:  0.3812991952896118 , v_loss:  0.6624471743901571\n",
      "t_acc:  0.7414496391590838 , v_acc:  0.7058823529411765\n",
      "t_recall:  0.5922971880834935 , v_recall:  0.560046346782988\n",
      "t_prec:  0.7611153451946072 , v_prec:  0.6263625932300632\n",
      "t_f:  0.585459950395773 , v_f:  0.5502645502645502\n",
      "////////\n"
     ]
    },
    {
     "name": "stderr",
     "output_type": "stream",
     "text": [
      "\r",
      "Iterations:  79%|██████████████████████████▏      | 238/300 [04:46<01:13,  1.18s/it]"
     ]
    },
    {
     "name": "stdout",
     "output_type": "stream",
     "text": [
      "Epoch  237 , loss 0.3787932854890823\n",
      "Epoch  238 , loss 0.3779532063007355\n"
     ]
    },
    {
     "name": "stderr",
     "output_type": "stream",
     "text": [
      "\r",
      "Iterations:  80%|██████████████████████████▎      | 239/300 [04:47<01:15,  1.24s/it]"
     ]
    },
    {
     "name": "stdout",
     "output_type": "stream",
     "text": [
      "Epoch:  238\n",
      "t_loss:  0.3779532063007355 , v_loss:  0.6645786215861639\n",
      "t_acc:  0.7461562598054596 , v_acc:  0.7058823529411765\n",
      "t_recall:  0.5994358981504705 , v_recall:  0.560046346782988\n",
      "t_prec:  0.7709108418244677 , v_prec:  0.6263625932300632\n",
      "t_f:  0.595743099576298 , v_f:  0.5502645502645502\n",
      "////////\n"
     ]
    },
    {
     "name": "stderr",
     "output_type": "stream",
     "text": [
      "\r",
      "Iterations:  80%|██████████████████████████▍      | 240/300 [04:48<01:09,  1.16s/it]"
     ]
    },
    {
     "name": "stdout",
     "output_type": "stream",
     "text": [
      "Epoch  239 , loss 0.3723567873239517\n",
      "Epoch  240 , loss 0.3748919463157654\n"
     ]
    },
    {
     "name": "stderr",
     "output_type": "stream",
     "text": [
      "\r",
      "Iterations:  80%|██████████████████████████▌      | 241/300 [04:49<01:12,  1.23s/it]"
     ]
    },
    {
     "name": "stdout",
     "output_type": "stream",
     "text": [
      "Epoch:  240\n",
      "t_loss:  0.3748919463157654 , v_loss:  0.6674336592356364\n",
      "t_acc:  0.7502353310323188 , v_acc:  0.7005347593582888\n",
      "t_recall:  0.6049684623173461 , v_recall:  0.5562295528898582\n",
      "t_prec:  0.781285628226766 , v_prec:  0.6136363636363636\n",
      "t_f:  0.6034463569334814 , v_f:  0.5464310464310465\n",
      "////////\n"
     ]
    },
    {
     "name": "stderr",
     "output_type": "stream",
     "text": [
      "\r",
      "Iterations:  81%|██████████████████████████▌      | 242/300 [04:50<01:05,  1.13s/it]"
     ]
    },
    {
     "name": "stdout",
     "output_type": "stream",
     "text": [
      "Epoch  241 , loss 0.3724672520160675\n",
      "Epoch  242 , loss 0.38023719280958174\n"
     ]
    },
    {
     "name": "stderr",
     "output_type": "stream",
     "text": [
      "\r",
      "Iterations:  81%|██████████████████████████▋      | 243/300 [04:52<01:11,  1.26s/it]"
     ]
    },
    {
     "name": "stdout",
     "output_type": "stream",
     "text": [
      "Epoch:  242\n",
      "t_loss:  0.38023719280958174 , v_loss:  0.6665573765834173\n",
      "t_acc:  0.7461562598054596 , v_acc:  0.7005347593582888\n",
      "t_recall:  0.6017452554134269 , v_recall:  0.5562295528898582\n",
      "t_prec:  0.7631929592694942 , v_prec:  0.6136363636363636\n",
      "t_f:  0.5996321305757879 , v_f:  0.5464310464310465\n",
      "////////\n"
     ]
    },
    {
     "name": "stderr",
     "output_type": "stream",
     "text": [
      "\r",
      "Iterations:  81%|██████████████████████████▊      | 244/300 [04:53<01:07,  1.20s/it]"
     ]
    },
    {
     "name": "stdout",
     "output_type": "stream",
     "text": [
      "Epoch  243 , loss 0.3712155142426491\n",
      "Epoch  244 , loss 0.3732825046777725\n"
     ]
    },
    {
     "name": "stderr",
     "output_type": "stream",
     "text": [
      "\r",
      "Iterations:  82%|██████████████████████████▉      | 245/300 [04:54<01:10,  1.29s/it]"
     ]
    },
    {
     "name": "stdout",
     "output_type": "stream",
     "text": [
      "Epoch:  244\n",
      "t_loss:  0.3732825046777725 , v_loss:  0.6759786854187647\n",
      "t_acc:  0.7496077816128021 , v_acc:  0.7005347593582888\n",
      "t_recall:  0.6045169950487231 , v_recall:  0.5562295528898582\n",
      "t_prec:  0.7782520631827299 , v_prec:  0.6136363636363636\n",
      "t_f:  0.6029311475409836 , v_f:  0.5464310464310465\n",
      "////////\n"
     ]
    },
    {
     "name": "stderr",
     "output_type": "stream",
     "text": [
      "\r",
      "Iterations:  82%|███████████████████████████      | 246/300 [04:55<01:02,  1.16s/it]"
     ]
    },
    {
     "name": "stdout",
     "output_type": "stream",
     "text": [
      "Epoch  245 , loss 0.3698703899979591\n",
      "Epoch  246 , loss 0.3709686309099197\n"
     ]
    },
    {
     "name": "stderr",
     "output_type": "stream",
     "text": [
      "\r",
      "Iterations:  82%|███████████████████████████▏     | 247/300 [04:57<01:05,  1.23s/it]"
     ]
    },
    {
     "name": "stdout",
     "output_type": "stream",
     "text": [
      "Epoch:  246\n",
      "t_loss:  0.3709686309099197 , v_loss:  0.6712807317574819\n",
      "t_acc:  0.7461562598054596 , v_acc:  0.7005347593582888\n",
      "t_recall:  0.6000132374662096 , v_recall:  0.5562295528898582\n",
      "t_prec:  0.7688892357642358 , v_prec:  0.6136363636363636\n",
      "t_f:  0.5967254510102578 , v_f:  0.5464310464310465\n",
      "////////\n"
     ]
    },
    {
     "name": "stderr",
     "output_type": "stream",
     "text": [
      "\r",
      "Iterations:  83%|███████████████████████████▎     | 248/300 [04:58<00:58,  1.13s/it]"
     ]
    },
    {
     "name": "stdout",
     "output_type": "stream",
     "text": [
      "Epoch  247 , loss 0.37545517206192014\n",
      "Epoch  248 , loss 0.37338206827640535\n"
     ]
    },
    {
     "name": "stderr",
     "output_type": "stream",
     "text": [
      "\r",
      "Iterations:  83%|███████████████████████████▍     | 249/300 [04:59<01:02,  1.23s/it]"
     ]
    },
    {
     "name": "stdout",
     "output_type": "stream",
     "text": [
      "Epoch:  248\n",
      "t_loss:  0.37338206827640535 , v_loss:  0.6719228178262711\n",
      "t_acc:  0.743959836837151 , v_acc:  0.7005347593582888\n",
      "t_recall:  0.5981444323681595 , v_recall:  0.5562295528898582\n",
      "t_prec:  0.7595987517814143 , v_prec:  0.6136363636363636\n",
      "t_f:  0.5944650215258865 , v_f:  0.5464310464310465\n",
      "////////\n"
     ]
    },
    {
     "name": "stderr",
     "output_type": "stream",
     "text": [
      "\r",
      "Iterations:  83%|███████████████████████████▌     | 250/300 [05:00<00:58,  1.17s/it]"
     ]
    },
    {
     "name": "stdout",
     "output_type": "stream",
     "text": [
      "Epoch  249 , loss 0.3742686665058136\n",
      "Epoch  250 , loss 0.37260770440101626\n"
     ]
    },
    {
     "name": "stderr",
     "output_type": "stream",
     "text": [
      "\r",
      "Iterations:  84%|███████████████████████████▌     | 251/300 [05:01<00:59,  1.22s/it]"
     ]
    },
    {
     "name": "stdout",
     "output_type": "stream",
     "text": [
      "Epoch:  250\n",
      "t_loss:  0.37260770440101626 , v_loss:  0.6745783587296804\n",
      "t_acc:  0.7496077816128021 , v_acc:  0.6951871657754011\n",
      "t_recall:  0.6068263523116796 , v_recall:  0.5524127589967285\n",
      "t_prec:  0.770409926846646 , v_prec:  0.6019353128313891\n",
      "t_f:  0.6067213589314411 , v_f:  0.5426303368375884\n",
      "////////\n"
     ]
    },
    {
     "name": "stderr",
     "output_type": "stream",
     "text": [
      "\r",
      "Iterations:  84%|███████████████████████████▋     | 252/300 [05:02<00:53,  1.12s/it]"
     ]
    },
    {
     "name": "stdout",
     "output_type": "stream",
     "text": [
      "Epoch  251 , loss 0.3748898497223854\n",
      "Epoch  252 , loss 0.3715159732103348\n"
     ]
    },
    {
     "name": "stderr",
     "output_type": "stream",
     "text": [
      "\r",
      "Iterations:  84%|███████████████████████████▊     | 253/300 [05:04<00:56,  1.20s/it]"
     ]
    },
    {
     "name": "stdout",
     "output_type": "stream",
     "text": [
      "Epoch:  252\n",
      "t_loss:  0.3715159732103348 , v_loss:  0.6729417641957601\n",
      "t_acc:  0.7492940069030436 , v_acc:  0.6951871657754011\n",
      "t_recall:  0.6045799310722813 , v_recall:  0.5524127589967285\n",
      "t_prec:  0.7757315212359751 , v_prec:  0.6019353128313891\n",
      "t_f:  0.6031530965012227 , v_f:  0.5426303368375884\n",
      "////////\n"
     ]
    },
    {
     "name": "stderr",
     "output_type": "stream",
     "text": [
      "\r",
      "Iterations:  85%|███████████████████████████▉     | 254/300 [05:05<00:52,  1.14s/it]"
     ]
    },
    {
     "name": "stdout",
     "output_type": "stream",
     "text": [
      "Epoch  253 , loss 0.37432064771652224\n",
      "Epoch  254 , loss 0.368972624540329\n"
     ]
    },
    {
     "name": "stderr",
     "output_type": "stream",
     "text": [
      "\r",
      "Iterations:  85%|████████████████████████████     | 255/300 [05:06<00:57,  1.27s/it]"
     ]
    },
    {
     "name": "stdout",
     "output_type": "stream",
     "text": [
      "Epoch:  254\n",
      "t_loss:  0.368972624540329 , v_loss:  0.6712649812301\n",
      "t_acc:  0.756824599937245 , v_acc:  0.6951871657754011\n",
      "t_recall:  0.6151935921374095 , v_recall:  0.5524127589967285\n",
      "t_prec:  0.7924840378233418 , v_prec:  0.6019353128313891\n",
      "t_f:  0.6178293440158691 , v_f:  0.5426303368375884\n",
      "////////\n"
     ]
    },
    {
     "name": "stderr",
     "output_type": "stream",
     "text": [
      "\r",
      "Iterations:  85%|████████████████████████████▏    | 256/300 [05:07<00:52,  1.19s/it]"
     ]
    },
    {
     "name": "stdout",
     "output_type": "stream",
     "text": [
      "Epoch  255 , loss 0.3750338014960289\n",
      "Epoch  256 , loss 0.37572152316570284\n"
     ]
    },
    {
     "name": "stderr",
     "output_type": "stream",
     "text": [
      "\r",
      "Iterations:  86%|████████████████████████████▎    | 257/300 [05:09<00:53,  1.25s/it]"
     ]
    },
    {
     "name": "stdout",
     "output_type": "stream",
     "text": [
      "Epoch:  256\n",
      "t_loss:  0.37572152316570284 , v_loss:  0.6776920308669409\n",
      "t_acc:  0.7527455287103859 , v_acc:  0.7005347593582888\n",
      "t_recall:  0.6113930459177512 , v_recall:  0.5562295528898582\n",
      "t_prec:  0.7769045144902436 , v_prec:  0.6136363636363636\n",
      "t_f:  0.6130269545301017 , v_f:  0.5464310464310465\n",
      "////////\n"
     ]
    },
    {
     "name": "stderr",
     "output_type": "stream",
     "text": [
      "\r",
      "Iterations:  86%|████████████████████████████▍    | 258/300 [05:09<00:47,  1.14s/it]"
     ]
    },
    {
     "name": "stdout",
     "output_type": "stream",
     "text": [
      "Epoch  257 , loss 0.3705187138915062\n",
      "Epoch  258 , loss 0.373490217924118\n"
     ]
    },
    {
     "name": "stderr",
     "output_type": "stream",
     "text": [
      "\r",
      "Iterations:  86%|████████████████████████████▍    | 259/300 [05:11<00:51,  1.24s/it]"
     ]
    },
    {
     "name": "stdout",
     "output_type": "stream",
     "text": [
      "Epoch:  258\n",
      "t_loss:  0.373490217924118 , v_loss:  0.6757471958796183\n",
      "t_acc:  0.7514904298713524 , v_acc:  0.6898395721925134\n",
      "t_recall:  0.6081807541175487 , v_recall:  0.5485959651035986\n",
      "t_prec:  0.7789647292169714 , v_prec:  0.5911298568507157\n",
      "t_f:  0.6082797921671601 , v_f:  0.538860544217687\n",
      "////////\n"
     ]
    },
    {
     "name": "stderr",
     "output_type": "stream",
     "text": [
      "\r",
      "Iterations:  87%|████████████████████████████▌    | 260/300 [05:12<00:45,  1.14s/it]"
     ]
    },
    {
     "name": "stdout",
     "output_type": "stream",
     "text": [
      "Epoch  259 , loss 0.3759098789095879\n",
      "Epoch  260 , loss 0.37419473528862\n"
     ]
    },
    {
     "name": "stderr",
     "output_type": "stream",
     "text": [
      "\r",
      "Iterations:  87%|████████████████████████████▋    | 261/300 [05:13<00:48,  1.24s/it]"
     ]
    },
    {
     "name": "stdout",
     "output_type": "stream",
     "text": [
      "Epoch:  260\n",
      "t_loss:  0.37419473528862 , v_loss:  0.6755725493033727\n",
      "t_acc:  0.7552557263884531 , v_acc:  0.6898395721925134\n",
      "t_recall:  0.616662950886678 , v_recall:  0.5485959651035986\n",
      "t_prec:  0.7768551953405729 , v_prec:  0.5911298568507157\n",
      "t_f:  0.6205238836118148 , v_f:  0.538860544217687\n",
      "////////\n"
     ]
    },
    {
     "name": "stderr",
     "output_type": "stream",
     "text": [
      "\r",
      "Iterations:  87%|████████████████████████████▊    | 262/300 [05:14<00:45,  1.19s/it]"
     ]
    },
    {
     "name": "stdout",
     "output_type": "stream",
     "text": [
      "Epoch  261 , loss 0.3719026613235474\n",
      "Epoch  262 , loss 0.3727748107910156\n"
     ]
    },
    {
     "name": "stderr",
     "output_type": "stream",
     "text": [
      "\r",
      "Iterations:  88%|████████████████████████████▉    | 263/300 [05:16<00:45,  1.24s/it]"
     ]
    },
    {
     "name": "stdout",
     "output_type": "stream",
     "text": [
      "Epoch:  262\n",
      "t_loss:  0.3727748107910156 , v_loss:  0.6733544866243998\n",
      "t_acc:  0.7483526827737684 , v_acc:  0.6898395721925134\n",
      "t_recall:  0.6050574088008249 , v_recall:  0.5485959651035986\n",
      "t_prec:  0.7675686705940805 , v_prec:  0.5911298568507157\n",
      "t_f:  0.6042795833436547 , v_f:  0.538860544217687\n",
      "////////\n"
     ]
    },
    {
     "name": "stderr",
     "output_type": "stream",
     "text": [
      "\r",
      "Iterations:  88%|█████████████████████████████    | 264/300 [05:17<00:41,  1.14s/it]"
     ]
    },
    {
     "name": "stdout",
     "output_type": "stream",
     "text": [
      "Epoch  263 , loss 0.37162536233663557\n",
      "Epoch  264 , loss 0.3701611796021462\n"
     ]
    },
    {
     "name": "stderr",
     "output_type": "stream",
     "text": [
      "\r",
      "Iterations:  88%|█████████████████████████████▏   | 265/300 [05:18<00:42,  1.22s/it]"
     ]
    },
    {
     "name": "stdout",
     "output_type": "stream",
     "text": [
      "Epoch:  264\n",
      "t_loss:  0.3701611796021462 , v_loss:  0.6804769138495127\n",
      "t_acc:  0.7552557263884531 , v_acc:  0.7005347593582888\n",
      "t_recall:  0.6149309329394607 , v_recall:  0.5562295528898582\n",
      "t_prec:  0.7823310878653449 , v_prec:  0.6136363636363636\n",
      "t_f:  0.6178567783050947 , v_f:  0.5464310464310465\n",
      "////////\n"
     ]
    },
    {
     "name": "stderr",
     "output_type": "stream",
     "text": [
      "\r",
      "Iterations:  89%|█████████████████████████████▎   | 266/300 [05:19<00:38,  1.14s/it]"
     ]
    },
    {
     "name": "stdout",
     "output_type": "stream",
     "text": [
      "Epoch  265 , loss 0.37445200711488724\n",
      "Epoch  266 , loss 0.369117329120636\n"
     ]
    },
    {
     "name": "stderr",
     "output_type": "stream",
     "text": [
      "\r",
      "Iterations:  89%|█████████████████████████████▎   | 267/300 [05:21<00:42,  1.28s/it]"
     ]
    },
    {
     "name": "stdout",
     "output_type": "stream",
     "text": [
      "Epoch:  266\n",
      "t_loss:  0.369117329120636 , v_loss:  0.6749612241983414\n",
      "t_acc:  0.7540006275494195 , v_acc:  0.6951871657754011\n",
      "t_recall:  0.6137393287443451 , v_recall:  0.5524127589967285\n",
      "t_prec:  0.7777704047024341 , v_prec:  0.6019353128313891\n",
      "t_f:  0.6163476586011797 , v_f:  0.5426303368375884\n",
      "////////\n"
     ]
    },
    {
     "name": "stderr",
     "output_type": "stream",
     "text": [
      "\r",
      "Iterations:  89%|█████████████████████████████▍   | 268/300 [05:22<00:37,  1.18s/it]"
     ]
    },
    {
     "name": "stdout",
     "output_type": "stream",
     "text": [
      "Epoch  267 , loss 0.3716848975419998\n",
      "Epoch  268 , loss 0.37102330803871153\n"
     ]
    },
    {
     "name": "stderr",
     "output_type": "stream",
     "text": [
      "\r",
      "Iterations:  90%|█████████████████████████████▌   | 269/300 [05:23<00:39,  1.26s/it]"
     ]
    },
    {
     "name": "stdout",
     "output_type": "stream",
     "text": [
      "Epoch:  268\n",
      "t_loss:  0.37102330803871153 , v_loss:  0.6838850826025009\n",
      "t_acc:  0.7540006275494195 , v_acc:  0.6951871657754011\n",
      "t_recall:  0.6117186411392581 , v_recall:  0.5524127589967285\n",
      "t_prec:  0.7845340336432678 , v_prec:  0.6019353128313891\n",
      "t_f:  0.6131610889543957 , v_f:  0.5426303368375884\n",
      "////////\n"
     ]
    },
    {
     "name": "stderr",
     "output_type": "stream",
     "text": [
      "\r",
      "Iterations:  90%|█████████████████████████████▋   | 270/300 [05:24<00:34,  1.14s/it]"
     ]
    },
    {
     "name": "stdout",
     "output_type": "stream",
     "text": [
      "Epoch  269 , loss 0.36986075282096864\n",
      "Epoch  270 , loss 0.37357493221759797\n"
     ]
    },
    {
     "name": "stderr",
     "output_type": "stream",
     "text": [
      "\r",
      "Iterations:  90%|█████████████████████████████▊   | 271/300 [05:25<00:35,  1.23s/it]"
     ]
    },
    {
     "name": "stdout",
     "output_type": "stream",
     "text": [
      "Epoch:  270\n",
      "t_loss:  0.37357493221759797 , v_loss:  0.6826643447081248\n",
      "t_acc:  0.7524317540006276 , v_acc:  0.6898395721925134\n",
      "t_recall:  0.612321990914918 , v_recall:  0.5485959651035986\n",
      "t_prec:  0.7719289959991094 , v_prec:  0.5911298568507157\n",
      "t_f:  0.6145782129211652 , v_f:  0.538860544217687\n",
      "////////\n"
     ]
    },
    {
     "name": "stderr",
     "output_type": "stream",
     "text": [
      "\r",
      "Iterations:  91%|█████████████████████████████▉   | 272/300 [05:26<00:31,  1.12s/it]"
     ]
    },
    {
     "name": "stdout",
     "output_type": "stream",
     "text": [
      "Epoch  271 , loss 0.3684383875131607\n",
      "Epoch  272 , loss 0.36720425069332124\n"
     ]
    },
    {
     "name": "stderr",
     "output_type": "stream",
     "text": [
      "\r",
      "Iterations:  91%|██████████████████████████████   | 273/300 [05:28<00:33,  1.23s/it]"
     ]
    },
    {
     "name": "stdout",
     "output_type": "stream",
     "text": [
      "Epoch:  272\n",
      "t_loss:  0.36720425069332124 , v_loss:  0.6804128438234329\n",
      "t_acc:  0.7540006275494195 , v_acc:  0.6898395721925134\n",
      "t_recall:  0.6108526321656494 , v_recall:  0.5485959651035986\n",
      "t_prec:  0.7876552093201524 , v_prec:  0.5911298568507157\n",
      "t_f:  0.6117719154098679 , v_f:  0.538860544217687\n",
      "////////\n"
     ]
    },
    {
     "name": "stderr",
     "output_type": "stream",
     "text": [
      "\r",
      "Iterations:  91%|██████████████████████████████▏  | 274/300 [05:29<00:30,  1.17s/it]"
     ]
    },
    {
     "name": "stdout",
     "output_type": "stream",
     "text": [
      "Epoch  273 , loss 0.36954699277877806\n",
      "Epoch  274 , loss 0.3740209490060806\n"
     ]
    },
    {
     "name": "stderr",
     "output_type": "stream",
     "text": [
      "\r",
      "Iterations:  92%|██████████████████████████████▎  | 275/300 [05:30<00:30,  1.22s/it]"
     ]
    },
    {
     "name": "stdout",
     "output_type": "stream",
     "text": [
      "Epoch:  274\n",
      "t_loss:  0.3740209490060806 , v_loss:  0.6801233688990275\n",
      "t_acc:  0.7518042045811107 , v_acc:  0.6898395721925134\n",
      "t_recall:  0.6121591933041645 , v_recall:  0.5485959651035986\n",
      "t_prec:  0.76843786198172 , v_prec:  0.5911298568507157\n",
      "t_f:  0.6145012550912818 , v_f:  0.538860544217687\n",
      "////////\n"
     ]
    },
    {
     "name": "stderr",
     "output_type": "stream",
     "text": [
      "\r",
      "Iterations:  92%|██████████████████████████████▎  | 276/300 [05:31<00:27,  1.13s/it]"
     ]
    },
    {
     "name": "stdout",
     "output_type": "stream",
     "text": [
      "Epoch  275 , loss 0.3684317868947983\n",
      "Epoch  276 , loss 0.3669933593273163\n"
     ]
    },
    {
     "name": "stderr",
     "output_type": "stream",
     "text": [
      "\r",
      "Iterations:  92%|██████████████████████████████▍  | 277/300 [05:32<00:27,  1.20s/it]"
     ]
    },
    {
     "name": "stdout",
     "output_type": "stream",
     "text": [
      "Epoch:  276\n",
      "t_loss:  0.3669933593273163 , v_loss:  0.6807464957237244\n",
      "t_acc:  0.756824599937245 , v_acc:  0.6898395721925134\n",
      "t_recall:  0.6143275831638009 , v_recall:  0.5485959651035986\n",
      "t_prec:  0.7957407184909288 , v_prec:  0.5911298568507157\n",
      "t_f:  0.61645846872217 , v_f:  0.538860544217687\n",
      "////////\n"
     ]
    },
    {
     "name": "stderr",
     "output_type": "stream",
     "text": [
      "\r",
      "Iterations:  93%|██████████████████████████████▌  | 278/300 [05:33<00:25,  1.14s/it]"
     ]
    },
    {
     "name": "stdout",
     "output_type": "stream",
     "text": [
      "Epoch  277 , loss 0.37155124723911287\n",
      "Epoch  278 , loss 0.366937398314476\n"
     ]
    },
    {
     "name": "stderr",
     "output_type": "stream",
     "text": [
      "\r",
      "Iterations:  93%|██████████████████████████████▋  | 279/300 [05:35<00:26,  1.27s/it]"
     ]
    },
    {
     "name": "stdout",
     "output_type": "stream",
     "text": [
      "Epoch:  278\n",
      "t_loss:  0.366937398314476 , v_loss:  0.6800504376490911\n",
      "t_acc:  0.7596485723250705 , v_acc:  0.7005347593582888\n",
      "t_recall:  0.6235759273193434 , v_recall:  0.5562295528898582\n",
      "t_prec:  0.7837173367798735 , v_prec:  0.6136363636363636\n",
      "t_f:  0.6299017616203267 , v_f:  0.5464310464310465\n",
      "////////\n"
     ]
    },
    {
     "name": "stderr",
     "output_type": "stream",
     "text": [
      "\r",
      "Iterations:  93%|██████████████████████████████▊  | 280/300 [05:36<00:23,  1.16s/it]"
     ]
    },
    {
     "name": "stdout",
     "output_type": "stream",
     "text": [
      "Epoch  279 , loss 0.36993037045001986\n",
      "Epoch  280 , loss 0.36597696244716643\n"
     ]
    },
    {
     "name": "stderr",
     "output_type": "stream",
     "text": [
      "\r",
      "Iterations:  94%|██████████████████████████████▉  | 281/300 [05:37<00:23,  1.23s/it]"
     ]
    },
    {
     "name": "stdout",
     "output_type": "stream",
     "text": [
      "Epoch:  280\n",
      "t_loss:  0.36597696244716643 , v_loss:  0.6834160933891932\n",
      "t_acc:  0.7565108252274867 , v_acc:  0.6898395721925134\n",
      "t_recall:  0.6204525820026197 , v_recall:  0.5485959651035986\n",
      "t_prec:  0.7735973666997236 , v_prec:  0.5911298568507157\n",
      "t_f:  0.6259253881245386 , v_f:  0.538860544217687\n",
      "////////\n"
     ]
    },
    {
     "name": "stderr",
     "output_type": "stream",
     "text": [
      "\r",
      "Iterations:  94%|███████████████████████████████  | 282/300 [05:38<00:20,  1.12s/it]"
     ]
    },
    {
     "name": "stdout",
     "output_type": "stream",
     "text": [
      "Epoch  281 , loss 0.3669404789805412\n",
      "Epoch  282 , loss 0.36780558586120604\n"
     ]
    },
    {
     "name": "stderr",
     "output_type": "stream",
     "text": [
      "\r",
      "Iterations:  94%|███████████████████████████████▏ | 283/300 [05:40<00:21,  1.26s/it]"
     ]
    },
    {
     "name": "stdout",
     "output_type": "stream",
     "text": [
      "Epoch:  282\n",
      "t_loss:  0.36780558586120604 , v_loss:  0.6891968150933584\n",
      "t_acc:  0.756824599937245 , v_acc:  0.6951871657754011\n",
      "t_recall:  0.6177916190582355 , v_recall:  0.5524127589967285\n",
      "t_prec:  0.7835339811903814 , v_prec:  0.6019353128313891\n",
      "t_f:  0.6218587873730068 , v_f:  0.5426303368375884\n",
      "////////\n"
     ]
    },
    {
     "name": "stderr",
     "output_type": "stream",
     "text": [
      "\r",
      "Iterations:  95%|███████████████████████████████▏ | 284/300 [05:41<00:18,  1.14s/it]"
     ]
    },
    {
     "name": "stdout",
     "output_type": "stream",
     "text": [
      "Epoch  283 , loss 0.36840316593647005\n",
      "Epoch  284 , loss 0.36926058888435365\n"
     ]
    },
    {
     "name": "stderr",
     "output_type": "stream",
     "text": [
      "\r",
      "Iterations:  95%|███████████████████████████████▎ | 285/300 [05:42<00:18,  1.22s/it]"
     ]
    },
    {
     "name": "stdout",
     "output_type": "stream",
     "text": [
      "Epoch:  284\n",
      "t_loss:  0.36926058888435365 , v_loss:  0.6797539790471395\n",
      "t_acc:  0.7577659240665202 , v_acc:  0.6951871657754011\n",
      "t_recall:  0.6207781772241265 , v_recall:  0.5524127589967285\n",
      "t_prec:  0.7803251790619354 , v_prec:  0.6019353128313891\n",
      "t_f:  0.6261463150166051 , v_f:  0.5426303368375884\n",
      "////////\n"
     ]
    },
    {
     "name": "stderr",
     "output_type": "stream",
     "text": [
      "\r",
      "Iterations:  95%|███████████████████████████████▍ | 286/300 [05:43<00:16,  1.19s/it]"
     ]
    },
    {
     "name": "stdout",
     "output_type": "stream",
     "text": [
      "Epoch  285 , loss 0.3670064526796341\n",
      "Epoch  286 , loss 0.3698012813925743\n"
     ]
    },
    {
     "name": "stderr",
     "output_type": "stream",
     "text": [
      "\r",
      "Iterations:  96%|███████████████████████████████▌ | 287/300 [05:44<00:16,  1.24s/it]"
     ]
    },
    {
     "name": "stdout",
     "output_type": "stream",
     "text": [
      "Epoch:  286\n",
      "t_loss:  0.3698012813925743 , v_loss:  0.6801782151063284\n",
      "t_acc:  0.7561970505177282 , v_acc:  0.6898395721925134\n",
      "t_recall:  0.6161854731581343 , v_recall:  0.5485959651035986\n",
      "t_prec:  0.7845758296265117 , v_prec:  0.5911298568507157\n",
      "t_f:  0.6195500324249881 , v_f:  0.538860544217687\n",
      "////////\n"
     ]
    },
    {
     "name": "stderr",
     "output_type": "stream",
     "text": [
      "\r",
      "Iterations:  96%|███████████████████████████████▋ | 288/300 [05:45<00:13,  1.13s/it]"
     ]
    },
    {
     "name": "stdout",
     "output_type": "stream",
     "text": [
      "Epoch  287 , loss 0.3636486977338791\n",
      "Epoch  288 , loss 0.3693084919452667\n"
     ]
    },
    {
     "name": "stderr",
     "output_type": "stream",
     "text": [
      "\r",
      "Iterations:  96%|███████████████████████████████▊ | 289/300 [05:47<00:13,  1.19s/it]"
     ]
    },
    {
     "name": "stdout",
     "output_type": "stream",
     "text": [
      "Epoch:  288\n",
      "t_loss:  0.3693084919452667 , v_loss:  0.6821525047222773\n",
      "t_acc:  0.7565108252274867 , v_acc:  0.6898395721925134\n",
      "t_recall:  0.619586573029011 , v_recall:  0.5485959651035986\n",
      "t_prec:  0.7760494957574147 , v_prec:  0.5911298568507157\n",
      "t_f:  0.6246404421665872 , v_f:  0.538860544217687\n",
      "////////\n"
     ]
    },
    {
     "name": "stderr",
     "output_type": "stream",
     "text": [
      "\r",
      "Iterations:  97%|███████████████████████████████▉ | 290/300 [05:48<00:11,  1.17s/it]"
     ]
    },
    {
     "name": "stdout",
     "output_type": "stream",
     "text": [
      "Epoch  289 , loss 0.36623567998409273\n",
      "Epoch  290 , loss 0.36628007620573044\n"
     ]
    },
    {
     "name": "stderr",
     "output_type": "stream",
     "text": [
      "\r",
      "Iterations:  97%|████████████████████████████████ | 291/300 [05:49<00:11,  1.32s/it]"
     ]
    },
    {
     "name": "stdout",
     "output_type": "stream",
     "text": [
      "Epoch:  290\n",
      "t_loss:  0.36628007620573044 , v_loss:  0.6868425011634827\n",
      "t_acc:  0.7571383746470034 , v_acc:  0.6898395721925134\n",
      "t_recall:  0.6217700582448513 , v_recall:  0.5485959651035986\n",
      "t_prec:  0.7736806007917021 , v_prec:  0.5911298568507157\n",
      "t_f:  0.627736809889278 , v_f:  0.538860544217687\n",
      "////////\n"
     ]
    },
    {
     "name": "stderr",
     "output_type": "stream",
     "text": [
      "\r",
      "Iterations:  97%|████████████████████████████████ | 292/300 [05:50<00:09,  1.21s/it]"
     ]
    },
    {
     "name": "stdout",
     "output_type": "stream",
     "text": [
      "Epoch  291 , loss 0.36995089769363404\n",
      "Epoch  292 , loss 0.3623674887418747\n"
     ]
    },
    {
     "name": "stderr",
     "output_type": "stream",
     "text": [
      "\r",
      "Iterations:  98%|████████████████████████████████▏| 293/300 [05:52<00:08,  1.28s/it]"
     ]
    },
    {
     "name": "stdout",
     "output_type": "stream",
     "text": [
      "Epoch:  292\n",
      "t_loss:  0.3623674887418747 , v_loss:  0.6893863131602606\n",
      "t_acc:  0.7580796987762787 , v_acc:  0.6898395721925134\n",
      "t_recall:  0.6218699198320468 , v_recall:  0.5485959651035986\n",
      "t_prec:  0.77904766867812 , v_prec:  0.5911298568507157\n",
      "t_f:  0.6276989314956289 , v_f:  0.538860544217687\n",
      "////////\n"
     ]
    },
    {
     "name": "stderr",
     "output_type": "stream",
     "text": [
      "\r",
      "Iterations:  98%|████████████████████████████████▎| 294/300 [05:53<00:06,  1.16s/it]"
     ]
    },
    {
     "name": "stdout",
     "output_type": "stream",
     "text": [
      "Epoch  293 , loss 0.3633546894788742\n",
      "Epoch  294 , loss 0.36537877678871156\n"
     ]
    },
    {
     "name": "stderr",
     "output_type": "stream",
     "text": [
      "\r",
      "Iterations:  98%|████████████████████████████████▍| 295/300 [05:54<00:06,  1.26s/it]"
     ]
    },
    {
     "name": "stdout",
     "output_type": "stream",
     "text": [
      "Epoch:  294\n",
      "t_loss:  0.36537877678871156 , v_loss:  0.6949074318011602\n",
      "t_acc:  0.758393473486037 , v_acc:  0.6898395721925134\n",
      "t_recall:  0.6197862962034018 , v_recall:  0.5485959651035986\n",
      "t_prec:  0.7875111482720178 , v_prec:  0.5911298568507157\n",
      "t_f:  0.6245172563636474 , v_f:  0.538860544217687\n",
      "////////\n"
     ]
    },
    {
     "name": "stderr",
     "output_type": "stream",
     "text": [
      "\r",
      "Iterations:  99%|████████████████████████████████▌| 296/300 [05:55<00:04,  1.15s/it]"
     ]
    },
    {
     "name": "stdout",
     "output_type": "stream",
     "text": [
      "Epoch  295 , loss 0.36465031385421753\n",
      "Epoch  296 , loss 0.3712297493219376\n"
     ]
    },
    {
     "name": "stderr",
     "output_type": "stream",
     "text": [
      "\r",
      "Iterations:  99%|████████████████████████████████▋| 297/300 [05:57<00:03,  1.26s/it]"
     ]
    },
    {
     "name": "stdout",
     "output_type": "stream",
     "text": [
      "Epoch:  296\n",
      "t_loss:  0.3712297493219376 , v_loss:  0.684310590227445\n",
      "t_acc:  0.7593347976153122 , v_acc:  0.6898395721925134\n",
      "t_recall:  0.6221955150535536 , v_recall:  0.5485959651035986\n",
      "t_prec:  0.7859657646964193 , v_prec:  0.5911298568507157\n",
      "t_f:  0.6279256706474982 , v_f:  0.538860544217687\n",
      "////////\n"
     ]
    },
    {
     "name": "stderr",
     "output_type": "stream",
     "text": [
      "\r",
      "Iterations:  99%|████████████████████████████████▊| 298/300 [05:58<00:02,  1.19s/it]"
     ]
    },
    {
     "name": "stdout",
     "output_type": "stream",
     "text": [
      "Epoch  297 , loss 0.3635384076833725\n",
      "Epoch  298 , loss 0.3647180280089378\n"
     ]
    },
    {
     "name": "stderr",
     "output_type": "stream",
     "text": [
      "\r",
      "Iterations: 100%|████████████████████████████████▉| 299/300 [05:59<00:01,  1.24s/it]"
     ]
    },
    {
     "name": "stdout",
     "output_type": "stream",
     "text": [
      "Epoch:  298\n",
      "t_loss:  0.3647180280089378 , v_loss:  0.6841994921366373\n",
      "t_acc:  0.7634138688421713 , v_acc:  0.6898395721925134\n",
      "t_recall:  0.630614775799125 , v_recall:  0.5485959651035986\n",
      "t_prec:  0.7860783368227015 , v_prec:  0.5911298568507157\n",
      "t_f:  0.6393956728645243 , v_f:  0.538860544217687\n",
      "////////\n"
     ]
    },
    {
     "name": "stderr",
     "output_type": "stream",
     "text": [
      "Iterations: 100%|█████████████████████████████████| 300/300 [06:00<00:00,  1.20s/it]"
     ]
    },
    {
     "name": "stdout",
     "output_type": "stream",
     "text": [
      "Epoch  299 , loss 0.36741790890693665\n"
     ]
    },
    {
     "name": "stderr",
     "output_type": "stream",
     "text": [
      "\n"
     ]
    },
    {
     "name": "stdout",
     "output_type": "stream",
     "text": [
      "118 11\n",
      "\n",
      "c0_acc 0.9007633587786259 , c1_acc 0.19642857142857142 , b_acc 0.5485959651035986\n"
     ]
    },
    {
     "name": "stderr",
     "output_type": "stream",
     "text": [
      "\r",
      "Iterations:   0%|                                           | 0/300 [00:00<?, ?it/s]"
     ]
    },
    {
     "name": "stdout",
     "output_type": "stream",
     "text": [
      "Epoch  0 , loss 0.6429592838474348\n"
     ]
    },
    {
     "name": "stderr",
     "output_type": "stream",
     "text": [
      "\r",
      "Iterations:   0%|                                   | 1/300 [00:01<07:39,  1.54s/it]"
     ]
    },
    {
     "name": "stdout",
     "output_type": "stream",
     "text": [
      "Epoch:  0\n",
      "t_loss:  0.6429592838474348 , v_loss:  0.6929304798444113\n",
      "t_acc:  0.597568578553616 , v_acc:  0.5662650602409639\n",
      "t_recall:  0.5004701696597594 , v_recall:  0.4550845979417408\n",
      "t_prec:  0.5005308316984132 , v_prec:  0.4497560975609756\n",
      "t_f:  0.4986431437083742 , v_f:  0.45123966942148763\n",
      "////////\n"
     ]
    },
    {
     "name": "stderr",
     "output_type": "stream",
     "text": [
      "\r",
      "Iterations:   1%|▏                                  | 2/300 [00:02<05:43,  1.15s/it]"
     ]
    },
    {
     "name": "stdout",
     "output_type": "stream",
     "text": [
      "Epoch  1 , loss 0.6025934581663094\n",
      "Epoch  2 , loss 0.5650420527832181\n"
     ]
    },
    {
     "name": "stderr",
     "output_type": "stream",
     "text": [
      "\r",
      "Iterations:   1%|▎                                  | 3/300 [00:03<06:11,  1.25s/it]"
     ]
    },
    {
     "name": "stdout",
     "output_type": "stream",
     "text": [
      "Epoch:  2\n",
      "t_loss:  0.5650420527832181 , v_loss:  0.6852418780326843\n",
      "t_acc:  0.678927680798005 , v_acc:  0.7048192771084337\n",
      "t_recall:  0.5000162680535297 , v_recall:  0.5\n",
      "t_prec:  0.500088070317326 , v_prec:  0.35240963855421686\n",
      "t_f:  0.4389761038837557 , v_f:  0.4134275618374559\n",
      "////////\n"
     ]
    },
    {
     "name": "stderr",
     "output_type": "stream",
     "text": [
      "\r",
      "Iterations:   1%|▍                                  | 4/300 [00:04<05:42,  1.16s/it]"
     ]
    },
    {
     "name": "stdout",
     "output_type": "stream",
     "text": [
      "Epoch  3 , loss 0.5345297759654475\n",
      "Epoch  4 , loss 0.507318856085048\n"
     ]
    },
    {
     "name": "stderr",
     "output_type": "stream",
     "text": [
      "\r",
      "Iterations:   2%|▌                                  | 5/300 [00:06<06:03,  1.23s/it]"
     ]
    },
    {
     "name": "stdout",
     "output_type": "stream",
     "text": [
      "Epoch:  4\n",
      "t_loss:  0.507318856085048 , v_loss:  0.6615044474601746\n",
      "t_acc:  0.6932668329177057 , v_acc:  0.7048192771084337\n",
      "t_recall:  0.500310467782151 , v_recall:  0.5\n",
      "t_prec:  0.5141455266729303 , v_prec:  0.35240963855421686\n",
      "t_f:  0.41428875725767367 , v_f:  0.4134275618374559\n",
      "////////\n"
     ]
    },
    {
     "name": "stderr",
     "output_type": "stream",
     "text": [
      "\r",
      "Iterations:   2%|▋                                  | 6/300 [00:07<05:27,  1.11s/it]"
     ]
    },
    {
     "name": "stdout",
     "output_type": "stream",
     "text": [
      "Epoch  5 , loss 0.48813532906420093\n",
      "Epoch  6 , loss 0.47704292220227856\n"
     ]
    },
    {
     "name": "stderr",
     "output_type": "stream",
     "text": [
      "\r",
      "Iterations:   2%|▊                                  | 7/300 [00:08<05:51,  1.20s/it]"
     ]
    },
    {
     "name": "stdout",
     "output_type": "stream",
     "text": [
      "Epoch:  6\n",
      "t_loss:  0.47704292220227856 , v_loss:  0.6560682455698649\n",
      "t_acc:  0.6938902743142145 , v_acc:  0.7048192771084337\n",
      "t_recall:  0.4993270524899058 , v_recall:  0.5\n",
      "t_prec:  0.3472698907956318 , v_prec:  0.35240963855421686\n",
      "t_f:  0.40964298859035697 , v_f:  0.4134275618374559\n",
      "////////\n"
     ]
    },
    {
     "name": "stderr",
     "output_type": "stream",
     "text": [
      "\r",
      "Iterations:   3%|▉                                  | 8/300 [00:09<05:37,  1.16s/it]"
     ]
    },
    {
     "name": "stdout",
     "output_type": "stream",
     "text": [
      "Epoch  7 , loss 0.47115059927398084\n",
      "Epoch  8 , loss 0.46395546022583456\n"
     ]
    },
    {
     "name": "stderr",
     "output_type": "stream",
     "text": [
      "\r",
      "Iterations:   3%|█                                  | 9/300 [00:11<06:11,  1.28s/it]"
     ]
    },
    {
     "name": "stdout",
     "output_type": "stream",
     "text": [
      "Epoch:  8\n",
      "t_loss:  0.46395546022583456 , v_loss:  0.6795513729254404\n",
      "t_acc:  0.6945137157107232 , v_acc:  0.7048192771084337\n",
      "t_recall:  0.4997756841633019 , v_recall:  0.5\n",
      "t_prec:  0.34736513875896474 , v_prec:  0.35240963855421686\n",
      "t_f:  0.4098601913171449 , v_f:  0.4134275618374559\n",
      "////////\n"
     ]
    },
    {
     "name": "stderr",
     "output_type": "stream",
     "text": [
      "\r",
      "Iterations:   3%|█▏                                | 10/300 [00:11<05:34,  1.15s/it]"
     ]
    },
    {
     "name": "stdout",
     "output_type": "stream",
     "text": [
      "Epoch  9 , loss 0.45679087031121346\n",
      "Epoch  10 , loss 0.4602595491736543\n"
     ]
    },
    {
     "name": "stderr",
     "output_type": "stream",
     "text": [
      "\r",
      "Iterations:   4%|█▏                                | 11/300 [00:13<05:52,  1.22s/it]"
     ]
    },
    {
     "name": "stdout",
     "output_type": "stream",
     "text": [
      "Epoch:  10\n",
      "t_loss:  0.4602595491736543 , v_loss:  0.6897863348325094\n",
      "t_acc:  0.6942019950124688 , v_acc:  0.7048192771084337\n",
      "t_recall:  0.49955136832660385 , v_recall:  0.5\n",
      "t_prec:  0.3473175296319401 , v_prec:  0.35240963855421686\n",
      "t_f:  0.40975160993560256 , v_f:  0.4134275618374559\n",
      "////////\n"
     ]
    },
    {
     "name": "stderr",
     "output_type": "stream",
     "text": [
      "\r",
      "Iterations:   4%|█▎                                | 12/300 [00:14<05:19,  1.11s/it]"
     ]
    },
    {
     "name": "stdout",
     "output_type": "stream",
     "text": [
      "Epoch  11 , loss 0.460378123849046\n",
      "Epoch  12 , loss 0.4513116175053166\n"
     ]
    },
    {
     "name": "stderr",
     "output_type": "stream",
     "text": [
      "\r",
      "Iterations:   4%|█▍                                | 13/300 [00:15<06:02,  1.26s/it]"
     ]
    },
    {
     "name": "stdout",
     "output_type": "stream",
     "text": [
      "Epoch:  12\n",
      "t_loss:  0.4513116175053166 , v_loss:  0.6927988231182098\n",
      "t_acc:  0.6948254364089775 , v_acc:  0.7048192771084337\n",
      "t_recall:  0.5 , v_recall:  0.5\n",
      "t_prec:  0.34741271820448877 , v_prec:  0.35240963855421686\n",
      "t_f:  0.4099687327570351 , v_f:  0.4134275618374559\n",
      "////////\n"
     ]
    },
    {
     "name": "stderr",
     "output_type": "stream",
     "text": [
      "\r",
      "Iterations:   5%|█▌                                | 14/300 [00:16<05:28,  1.15s/it]"
     ]
    },
    {
     "name": "stdout",
     "output_type": "stream",
     "text": [
      "Epoch  13 , loss 0.45208415798112456\n",
      "Epoch  14 , loss 0.4535407926522049\n"
     ]
    },
    {
     "name": "stderr",
     "output_type": "stream",
     "text": [
      "\r",
      "Iterations:   5%|█▋                                | 15/300 [00:18<05:46,  1.22s/it]"
     ]
    },
    {
     "name": "stdout",
     "output_type": "stream",
     "text": [
      "Epoch:  14\n",
      "t_loss:  0.4535407926522049 , v_loss:  0.6948709090550741\n",
      "t_acc:  0.6948254364089775 , v_acc:  0.7048192771084337\n",
      "t_recall:  0.5 , v_recall:  0.5\n",
      "t_prec:  0.34741271820448877 , v_prec:  0.35240963855421686\n",
      "t_f:  0.4099687327570351 , v_f:  0.4134275618374559\n",
      "////////\n"
     ]
    },
    {
     "name": "stderr",
     "output_type": "stream",
     "text": [
      "\r",
      "Iterations:   5%|█▊                                | 16/300 [00:18<05:22,  1.14s/it]"
     ]
    },
    {
     "name": "stdout",
     "output_type": "stream",
     "text": [
      "Epoch  15 , loss 0.45564377191019995\n",
      "Epoch  16 , loss 0.4552234791073145\n"
     ]
    },
    {
     "name": "stderr",
     "output_type": "stream",
     "text": [
      "\r",
      "Iterations:   6%|█▉                                | 17/300 [00:20<05:40,  1.20s/it]"
     ]
    },
    {
     "name": "stdout",
     "output_type": "stream",
     "text": [
      "Epoch:  16\n",
      "t_loss:  0.4552234791073145 , v_loss:  0.6879701217015585\n",
      "t_acc:  0.6948254364089775 , v_acc:  0.7048192771084337\n",
      "t_recall:  0.5 , v_recall:  0.5\n",
      "t_prec:  0.34741271820448877 , v_prec:  0.35240963855421686\n",
      "t_f:  0.4099687327570351 , v_f:  0.4134275618374559\n",
      "////////\n"
     ]
    },
    {
     "name": "stderr",
     "output_type": "stream",
     "text": [
      "\r",
      "Iterations:   6%|██                                | 18/300 [00:21<05:14,  1.12s/it]"
     ]
    },
    {
     "name": "stdout",
     "output_type": "stream",
     "text": [
      "Epoch  17 , loss 0.44857171353171854\n",
      "Epoch  18 , loss 0.45504481301588173\n"
     ]
    },
    {
     "name": "stderr",
     "output_type": "stream",
     "text": [
      "\r",
      "Iterations:   6%|██▏                               | 19/300 [00:22<05:47,  1.24s/it]"
     ]
    },
    {
     "name": "stdout",
     "output_type": "stream",
     "text": [
      "Epoch:  18\n",
      "t_loss:  0.45504481301588173 , v_loss:  0.6904685298601786\n",
      "t_acc:  0.6948254364089775 , v_acc:  0.7048192771084337\n",
      "t_recall:  0.5 , v_recall:  0.5\n",
      "t_prec:  0.34741271820448877 , v_prec:  0.35240963855421686\n",
      "t_f:  0.4099687327570351 , v_f:  0.4134275618374559\n",
      "////////\n"
     ]
    },
    {
     "name": "stderr",
     "output_type": "stream",
     "text": [
      "\r",
      "Iterations:   7%|██▎                               | 20/300 [00:23<05:20,  1.14s/it]"
     ]
    },
    {
     "name": "stdout",
     "output_type": "stream",
     "text": [
      "Epoch  19 , loss 0.4486474228255889\n",
      "Epoch  20 , loss 0.44958115325254555\n"
     ]
    },
    {
     "name": "stderr",
     "output_type": "stream",
     "text": [
      "\r",
      "Iterations:   7%|██▍                               | 21/300 [00:25<05:46,  1.24s/it]"
     ]
    },
    {
     "name": "stdout",
     "output_type": "stream",
     "text": [
      "Epoch:  20\n",
      "t_loss:  0.44958115325254555 , v_loss:  0.6969226996103922\n",
      "t_acc:  0.6948254364089775 , v_acc:  0.7048192771084337\n",
      "t_recall:  0.5 , v_recall:  0.5\n",
      "t_prec:  0.34741271820448877 , v_prec:  0.35240963855421686\n",
      "t_f:  0.4099687327570351 , v_f:  0.4134275618374559\n",
      "////////\n"
     ]
    },
    {
     "name": "stderr",
     "output_type": "stream",
     "text": [
      "\r",
      "Iterations:   7%|██▍                               | 22/300 [00:26<05:13,  1.13s/it]"
     ]
    },
    {
     "name": "stdout",
     "output_type": "stream",
     "text": [
      "Epoch  21 , loss 0.4446709670272528\n",
      "Epoch  22 , loss 0.45294921070921657\n"
     ]
    },
    {
     "name": "stderr",
     "output_type": "stream",
     "text": [
      "\r",
      "Iterations:   8%|██▌                               | 23/300 [00:27<05:38,  1.22s/it]"
     ]
    },
    {
     "name": "stdout",
     "output_type": "stream",
     "text": [
      "Epoch:  22\n",
      "t_loss:  0.45294921070921657 , v_loss:  0.6950230598449707\n",
      "t_acc:  0.6951371571072319 , v_acc:  0.7048192771084337\n",
      "t_recall:  0.5005107252298263 , v_recall:  0.5\n",
      "t_prec:  0.8475210477081385 , v_prec:  0.35240963855421686\n",
      "t_f:  0.4110645582736406 , v_f:  0.4134275618374559\n",
      "////////\n"
     ]
    },
    {
     "name": "stderr",
     "output_type": "stream",
     "text": [
      "\r",
      "Iterations:   8%|██▋                               | 24/300 [00:28<05:07,  1.11s/it]"
     ]
    },
    {
     "name": "stdout",
     "output_type": "stream",
     "text": [
      "Epoch  23 , loss 0.4454976080679426\n",
      "Epoch  24 , loss 0.4412538549479316\n"
     ]
    },
    {
     "name": "stderr",
     "output_type": "stream",
     "text": [
      "\r",
      "Iterations:   8%|██▊                               | 25/300 [00:29<05:41,  1.24s/it]"
     ]
    },
    {
     "name": "stdout",
     "output_type": "stream",
     "text": [
      "Epoch:  24\n",
      "t_loss:  0.4412538549479316 , v_loss:  0.6956360737482706\n",
      "t_acc:  0.6948254364089775 , v_acc:  0.7048192771084337\n",
      "t_recall:  0.5 , v_recall:  0.5\n",
      "t_prec:  0.34741271820448877 , v_prec:  0.35240963855421686\n",
      "t_f:  0.4099687327570351 , v_f:  0.4134275618374559\n",
      "////////\n"
     ]
    },
    {
     "name": "stderr",
     "output_type": "stream",
     "text": [
      "\r",
      "Iterations:   9%|██▉                               | 26/300 [00:30<05:10,  1.13s/it]"
     ]
    },
    {
     "name": "stdout",
     "output_type": "stream",
     "text": [
      "Epoch  25 , loss 0.4363700800082263\n",
      "Epoch  26 , loss 0.44156283315490275\n"
     ]
    },
    {
     "name": "stderr",
     "output_type": "stream",
     "text": [
      "\r",
      "Iterations:   9%|███                               | 27/300 [00:32<05:29,  1.21s/it]"
     ]
    },
    {
     "name": "stdout",
     "output_type": "stream",
     "text": [
      "Epoch:  26\n",
      "t_loss:  0.44156283315490275 , v_loss:  0.7051699012517929\n",
      "t_acc:  0.6951371571072319 , v_acc:  0.7048192771084337\n",
      "t_recall:  0.5005107252298263 , v_recall:  0.5\n",
      "t_prec:  0.8475210477081385 , v_prec:  0.35240963855421686\n",
      "t_f:  0.4110645582736406 , v_f:  0.4134275618374559\n",
      "////////\n"
     ]
    },
    {
     "name": "stderr",
     "output_type": "stream",
     "text": [
      "\r",
      "Iterations:   9%|███▏                              | 28/300 [00:33<05:09,  1.14s/it]"
     ]
    },
    {
     "name": "stdout",
     "output_type": "stream",
     "text": [
      "Epoch  27 , loss 0.44063634206266966\n",
      "Epoch  28 , loss 0.44514623634955464\n"
     ]
    },
    {
     "name": "stderr",
     "output_type": "stream",
     "text": [
      "\r",
      "Iterations:  10%|███▎                              | 29/300 [00:34<05:23,  1.19s/it]"
     ]
    },
    {
     "name": "stdout",
     "output_type": "stream",
     "text": [
      "Epoch:  28\n",
      "t_loss:  0.44514623634955464 , v_loss:  0.7054634839296341\n",
      "t_acc:  0.6951371571072319 , v_acc:  0.7048192771084337\n",
      "t_recall:  0.5007971346229546 , v_recall:  0.5\n",
      "t_prec:  0.6809152366094644 , v_prec:  0.35240963855421686\n",
      "t_f:  0.4120477014677893 , v_f:  0.4134275618374559\n",
      "////////\n"
     ]
    },
    {
     "name": "stderr",
     "output_type": "stream",
     "text": [
      "\r",
      "Iterations:  10%|███▍                              | 30/300 [00:35<04:54,  1.09s/it]"
     ]
    },
    {
     "name": "stdout",
     "output_type": "stream",
     "text": [
      "Epoch  29 , loss 0.43938545795047984\n",
      "Epoch  30 , loss 0.4407376652839137\n"
     ]
    },
    {
     "name": "stderr",
     "output_type": "stream",
     "text": [
      "\r",
      "Iterations:  10%|███▌                              | 31/300 [00:36<05:26,  1.21s/it]"
     ]
    },
    {
     "name": "stdout",
     "output_type": "stream",
     "text": [
      "Epoch:  30\n",
      "t_loss:  0.4407376652839137 , v_loss:  0.700440893570582\n",
      "t_acc:  0.6945137157107232 , v_acc:  0.7048192771084337\n",
      "t_recall:  0.4997756841633019 , v_recall:  0.5\n",
      "t_prec:  0.34736513875896474 , v_prec:  0.35240963855421686\n",
      "t_f:  0.4098601913171449 , v_f:  0.4134275618374559\n",
      "////////\n"
     ]
    },
    {
     "name": "stderr",
     "output_type": "stream",
     "text": [
      "\r",
      "Iterations:  11%|███▋                              | 32/300 [00:37<05:12,  1.17s/it]"
     ]
    },
    {
     "name": "stdout",
     "output_type": "stream",
     "text": [
      "Epoch  31 , loss 0.4376191914665933\n",
      "Epoch  32 , loss 0.4410510983537225\n"
     ]
    },
    {
     "name": "stderr",
     "output_type": "stream",
     "text": [
      "\r",
      "Iterations:  11%|███▋                              | 33/300 [00:39<05:33,  1.25s/it]"
     ]
    },
    {
     "name": "stdout",
     "output_type": "stream",
     "text": [
      "Epoch:  32\n",
      "t_loss:  0.4410510983537225 , v_loss:  0.7135791679223379\n",
      "t_acc:  0.6948254364089775 , v_acc:  0.7048192771084337\n",
      "t_recall:  0.5008592281793849 , v_recall:  0.5\n",
      "t_prec:  0.5975952529668958 , v_prec:  0.35240963855421686\n",
      "t_f:  0.41291495429041963 , v_f:  0.4134275618374559\n",
      "////////\n"
     ]
    },
    {
     "name": "stderr",
     "output_type": "stream",
     "text": [
      "\r",
      "Iterations:  11%|███▊                              | 34/300 [00:40<05:04,  1.14s/it]"
     ]
    },
    {
     "name": "stdout",
     "output_type": "stream",
     "text": [
      "Epoch  33 , loss 0.4393918333100338\n",
      "Epoch  34 , loss 0.4351937420227948\n"
     ]
    },
    {
     "name": "stderr",
     "output_type": "stream",
     "text": [
      "\r",
      "Iterations:  12%|███▉                              | 35/300 [00:41<05:17,  1.20s/it]"
     ]
    },
    {
     "name": "stdout",
     "output_type": "stream",
     "text": [
      "Epoch:  34\n",
      "t_loss:  0.4351937420227948 , v_loss:  0.7149142026901245\n",
      "t_acc:  0.6945137157107232 , v_acc:  0.7048192771084337\n",
      "t_recall:  0.5000620935564302 , v_recall:  0.5\n",
      "t_prec:  0.5140925637025481 , v_prec:  0.35240963855421686\n",
      "t_f:  0.4108453450290732 , v_f:  0.4134275618374559\n",
      "////////\n"
     ]
    },
    {
     "name": "stderr",
     "output_type": "stream",
     "text": [
      "\r",
      "Iterations:  12%|████                              | 36/300 [00:42<04:51,  1.10s/it]"
     ]
    },
    {
     "name": "stdout",
     "output_type": "stream",
     "text": [
      "Epoch  35 , loss 0.42832717825384703\n",
      "Epoch  36 , loss 0.4445059322843365\n"
     ]
    },
    {
     "name": "stderr",
     "output_type": "stream",
     "text": [
      "\r",
      "Iterations:  12%|████▏                             | 37/300 [00:43<05:14,  1.20s/it]"
     ]
    },
    {
     "name": "stdout",
     "output_type": "stream",
     "text": [
      "Epoch:  36\n",
      "t_loss:  0.4445059322843365 , v_loss:  0.7195813904205958\n",
      "t_acc:  0.6948254364089775 , v_acc:  0.7048192771084337\n",
      "t_recall:  0.5005728187862566 , v_recall:  0.5\n",
      "t_prec:  0.5975343320848938 , v_prec:  0.35240963855421686\n",
      "t_f:  0.41193703599887577 , v_f:  0.4134275618374559\n",
      "////////\n"
     ]
    },
    {
     "name": "stderr",
     "output_type": "stream",
     "text": [
      "\r",
      "Iterations:  13%|████▎                             | 38/300 [00:44<04:54,  1.12s/it]"
     ]
    },
    {
     "name": "stdout",
     "output_type": "stream",
     "text": [
      "Epoch  37 , loss 0.43036938940777497\n",
      "Epoch  38 , loss 0.43878278136253357\n"
     ]
    },
    {
     "name": "stderr",
     "output_type": "stream",
     "text": [
      "\r",
      "Iterations:  13%|████▍                             | 39/300 [00:46<05:08,  1.18s/it]"
     ]
    },
    {
     "name": "stdout",
     "output_type": "stream",
     "text": [
      "Epoch:  38\n",
      "t_loss:  0.43878278136253357 , v_loss:  0.7247956544160843\n",
      "t_acc:  0.6951371571072319 , v_acc:  0.7048192771084337\n",
      "t_recall:  0.5013699534092112 , v_recall:  0.5\n",
      "t_prec:  0.6334181282634891 , v_prec:  0.35240963855421686\n",
      "t_f:  0.4140015465130613 , v_f:  0.4134275618374559\n",
      "////////\n"
     ]
    },
    {
     "name": "stderr",
     "output_type": "stream",
     "text": [
      "\r",
      "Iterations:  13%|████▌                             | 40/300 [00:46<04:40,  1.08s/it]"
     ]
    },
    {
     "name": "stdout",
     "output_type": "stream",
     "text": [
      "Epoch  39 , loss 0.4346518317858378\n",
      "Epoch  40 , loss 0.42926497085421694\n"
     ]
    },
    {
     "name": "stderr",
     "output_type": "stream",
     "text": [
      "\r",
      "Iterations:  14%|████▋                             | 41/300 [00:48<04:59,  1.16s/it]"
     ]
    },
    {
     "name": "stdout",
     "output_type": "stream",
     "text": [
      "Epoch:  40\n",
      "t_loss:  0.42926497085421694 , v_loss:  0.7320361236731211\n",
      "t_acc:  0.6973192019950125 , v_acc:  0.7048192771084337\n",
      "t_recall:  0.5052314394111239 , v_recall:  0.5\n",
      "t_prec:  0.7235275689223057 , v_prec:  0.35240963855421686\n",
      "t_f:  0.422501179574315 , v_f:  0.4134275618374559\n",
      "////////\n"
     ]
    },
    {
     "name": "stderr",
     "output_type": "stream",
     "text": [
      "\r",
      "Iterations:  14%|████▊                             | 42/300 [00:49<04:46,  1.11s/it]"
     ]
    },
    {
     "name": "stdout",
     "output_type": "stream",
     "text": [
      "Epoch  41 , loss 0.4309963513823116\n",
      "Epoch  42 , loss 0.42942840503711327\n"
     ]
    },
    {
     "name": "stderr",
     "output_type": "stream",
     "text": [
      "\r",
      "Iterations:  14%|████▊                             | 43/300 [00:50<05:10,  1.21s/it]"
     ]
    },
    {
     "name": "stdout",
     "output_type": "stream",
     "text": [
      "Epoch:  42\n",
      "t_loss:  0.42942840503711327 , v_loss:  0.7377757032712301\n",
      "t_acc:  0.6951371571072319 , v_acc:  0.7048192771084337\n",
      "t_recall:  0.5025155909817243 , v_recall:  0.5\n",
      "t_prec:  0.6146153043115148 , v_prec:  0.35240963855421686\n",
      "t_f:  0.4178601672743952 , v_f:  0.4134275618374559\n",
      "////////\n"
     ]
    },
    {
     "name": "stderr",
     "output_type": "stream",
     "text": [
      "\r",
      "Iterations:  15%|████▉                             | 44/300 [00:51<04:42,  1.10s/it]"
     ]
    },
    {
     "name": "stdout",
     "output_type": "stream",
     "text": [
      "Epoch  43 , loss 0.4342185638698877\n",
      "Epoch  44 , loss 0.4382821584449095\n"
     ]
    },
    {
     "name": "stderr",
     "output_type": "stream",
     "text": [
      "\r",
      "Iterations:  15%|█████                             | 45/300 [00:52<04:58,  1.17s/it]"
     ]
    },
    {
     "name": "stdout",
     "output_type": "stream",
     "text": [
      "Epoch:  44\n",
      "t_loss:  0.4382821584449095 , v_loss:  0.7338098287582397\n",
      "t_acc:  0.6966957605985037 , v_acc:  0.7048192771084337\n",
      "t_recall:  0.503923579558343 , v_recall:  0.5\n",
      "t_prec:  0.7232478097622028 , v_prec:  0.35240963855421686\n",
      "t_f:  0.4194043162657466 , v_f:  0.4134275618374559\n",
      "////////\n"
     ]
    },
    {
     "name": "stderr",
     "output_type": "stream",
     "text": [
      "\r",
      "Iterations:  15%|█████▏                            | 46/300 [00:53<04:34,  1.08s/it]"
     ]
    },
    {
     "name": "stdout",
     "output_type": "stream",
     "text": [
      "Epoch  45 , loss 0.42578539398371007\n",
      "Epoch  46 , loss 0.43432459352063196\n"
     ]
    },
    {
     "name": "stderr",
     "output_type": "stream",
     "text": [
      "\r",
      "Iterations:  16%|█████▎                            | 47/300 [00:55<05:05,  1.21s/it]"
     ]
    },
    {
     "name": "stdout",
     "output_type": "stream",
     "text": [
      "Epoch:  46\n",
      "t_loss:  0.43432459352063196 , v_loss:  0.7297132511933645\n",
      "t_acc:  0.6951371571072319 , v_acc:  0.6987951807228916\n",
      "t_recall:  0.5025155909817243 , v_recall:  0.49572649572649574\n",
      "t_prec:  0.6146153043115148 , v_prec:  0.3515151515151515\n",
      "t_f:  0.4178601672743952 , v_f:  0.41134751773049644\n",
      "////////\n"
     ]
    },
    {
     "name": "stderr",
     "output_type": "stream",
     "text": [
      "\r",
      "Iterations:  16%|█████▍                            | 48/300 [00:56<04:38,  1.10s/it]"
     ]
    },
    {
     "name": "stdout",
     "output_type": "stream",
     "text": [
      "Epoch  47 , loss 0.4285169366528006\n",
      "Epoch  48 , loss 0.43160899246440215\n"
     ]
    },
    {
     "name": "stderr",
     "output_type": "stream",
     "text": [
      "\r",
      "Iterations:  16%|█████▌                            | 49/300 [00:57<05:01,  1.20s/it]"
     ]
    },
    {
     "name": "stdout",
     "output_type": "stream",
     "text": [
      "Epoch:  48\n",
      "t_loss:  0.43160899246440215 , v_loss:  0.7328430563211441\n",
      "t_acc:  0.6982543640897756 , v_acc:  0.7048192771084337\n",
      "t_recall:  0.5064772057074747 , v_recall:  0.5\n",
      "t_prec:  0.760558187549542 , v_prec:  0.35240963855421686\n",
      "t_f:  0.4247573319106685 , v_f:  0.4134275618374559\n",
      "////////\n"
     ]
    },
    {
     "name": "stderr",
     "output_type": "stream",
     "text": [
      "\r",
      "Iterations:  17%|█████▋                            | 50/300 [00:58<04:37,  1.11s/it]"
     ]
    },
    {
     "name": "stdout",
     "output_type": "stream",
     "text": [
      "Epoch  49 , loss 0.42810683069275873\n",
      "Epoch  50 , loss 0.4239357359269086\n"
     ]
    },
    {
     "name": "stderr",
     "output_type": "stream",
     "text": [
      "\r",
      "Iterations:  17%|█████▊                            | 51/300 [00:59<04:55,  1.19s/it]"
     ]
    },
    {
     "name": "stdout",
     "output_type": "stream",
     "text": [
      "Epoch:  50\n",
      "t_loss:  0.4239357359269086 , v_loss:  0.7448788285255432\n",
      "t_acc:  0.6951371571072319 , v_acc:  0.6987951807228916\n",
      "t_recall:  0.5033748191611092 , v_recall:  0.49572649572649574\n",
      "t_prec:  0.6100378023816995 , v_prec:  0.3515151515151515\n",
      "t_f:  0.42071196454948306 , v_f:  0.41134751773049644\n",
      "////////\n"
     ]
    },
    {
     "name": "stderr",
     "output_type": "stream",
     "text": [
      "\r",
      "Iterations:  17%|█████▉                            | 52/300 [01:00<04:31,  1.09s/it]"
     ]
    },
    {
     "name": "stdout",
     "output_type": "stream",
     "text": [
      "Epoch  51 , loss 0.4245190909680198\n",
      "Epoch  52 , loss 0.4242195492865993\n"
     ]
    },
    {
     "name": "stderr",
     "output_type": "stream",
     "text": [
      "\r",
      "Iterations:  18%|██████                            | 53/300 [01:02<04:51,  1.18s/it]"
     ]
    },
    {
     "name": "stdout",
     "output_type": "stream",
     "text": [
      "Epoch:  52\n",
      "t_loss:  0.4242195492865993 , v_loss:  0.7534591654936472\n",
      "t_acc:  0.6963840399002493 , v_acc:  0.6987951807228916\n",
      "t_recall:  0.5054177200804146 , v_recall:  0.49572649572649574\n",
      "t_prec:  0.6485705309456488 , v_prec:  0.3515151515151515\n",
      "t_f:  0.4249550210098262 , v_f:  0.41134751773049644\n",
      "////////\n"
     ]
    },
    {
     "name": "stderr",
     "output_type": "stream",
     "text": [
      "\r",
      "Iterations:  18%|██████                            | 54/300 [01:03<04:34,  1.12s/it]"
     ]
    },
    {
     "name": "stdout",
     "output_type": "stream",
     "text": [
      "Epoch  53 , loss 0.4284496652145012\n",
      "Epoch  54 , loss 0.42483122676026586\n"
     ]
    },
    {
     "name": "stderr",
     "output_type": "stream",
     "text": [
      "\r",
      "Iterations:  18%|██████▏                           | 55/300 [01:04<04:54,  1.20s/it]"
     ]
    },
    {
     "name": "stdout",
     "output_type": "stream",
     "text": [
      "Epoch:  54\n",
      "t_loss:  0.42483122676026586 , v_loss:  0.7565553188323975\n",
      "t_acc:  0.6966957605985037 , v_acc:  0.7048192771084337\n",
      "t_recall:  0.505928445310241 , v_recall:  0.5\n",
      "t_prec:  0.6563723831165692 , v_prec:  0.35240963855421686\n",
      "t_f:  0.4260109542842065 , v_f:  0.4134275618374559\n",
      "////////\n"
     ]
    },
    {
     "name": "stderr",
     "output_type": "stream",
     "text": [
      "\r",
      "Iterations:  19%|██████▎                           | 56/300 [01:05<04:40,  1.15s/it]"
     ]
    },
    {
     "name": "stdout",
     "output_type": "stream",
     "text": [
      "Epoch  55 , loss 0.4237241967051637\n",
      "Epoch  56 , loss 0.4370771354320003\n"
     ]
    },
    {
     "name": "stderr",
     "output_type": "stream",
     "text": [
      "\r",
      "Iterations:  19%|██████▍                           | 57/300 [01:06<04:54,  1.21s/it]"
     ]
    },
    {
     "name": "stdout",
     "output_type": "stream",
     "text": [
      "Epoch:  56\n",
      "t_loss:  0.4370771354320003 , v_loss:  0.7479632993539175\n",
      "t_acc:  0.6979426433915212 , v_acc:  0.6987951807228916\n",
      "t_recall:  0.5068257086570332 , v_recall:  0.49572649572649574\n",
      "t_prec:  0.7125064201335387 , v_prec:  0.3515151515151515\n",
      "t_f:  0.4265103317734897 , v_f:  0.41134751773049644\n",
      "////////\n"
     ]
    },
    {
     "name": "stderr",
     "output_type": "stream",
     "text": [
      "\r",
      "Iterations:  19%|██████▌                           | 58/300 [01:07<04:29,  1.11s/it]"
     ]
    },
    {
     "name": "stdout",
     "output_type": "stream",
     "text": [
      "Epoch  57 , loss 0.41852253324845257\n",
      "Epoch  58 , loss 0.41918134455587347\n"
     ]
    },
    {
     "name": "stderr",
     "output_type": "stream",
     "text": [
      "\r",
      "Iterations:  20%|██████▋                           | 59/300 [01:09<04:47,  1.19s/it]"
     ]
    },
    {
     "name": "stdout",
     "output_type": "stream",
     "text": [
      "Epoch:  58\n",
      "t_loss:  0.41918134455587347 , v_loss:  0.7480072925488154\n",
      "t_acc:  0.6951371571072319 , v_acc:  0.6987951807228916\n",
      "t_recall:  0.504234047340494 , v_recall:  0.49572649572649574\n",
      "t_prec:  0.6075773982092749 , v_prec:  0.3515151515151515\n",
      "t_f:  0.42352833093858294 , v_f:  0.41134751773049644\n",
      "////////\n"
     ]
    },
    {
     "name": "stderr",
     "output_type": "stream",
     "text": [
      "\r",
      "Iterations:  20%|██████▊                           | 60/300 [01:10<04:31,  1.13s/it]"
     ]
    },
    {
     "name": "stdout",
     "output_type": "stream",
     "text": [
      "Epoch  59 , loss 0.424715879501081\n",
      "Epoch  60 , loss 0.4301253726669386\n"
     ]
    },
    {
     "name": "stderr",
     "output_type": "stream",
     "text": [
      "\r",
      "Iterations:  20%|██████▉                           | 61/300 [01:11<04:56,  1.24s/it]"
     ]
    },
    {
     "name": "stdout",
     "output_type": "stream",
     "text": [
      "Epoch:  60\n",
      "t_loss:  0.4301253726669386 , v_loss:  0.7534348219633102\n",
      "t_acc:  0.7001246882793017 , v_acc:  0.6987951807228916\n",
      "t_recall:  0.5118328322314591 , v_recall:  0.49572649572649574\n",
      "t_prec:  0.7089270254306543 , v_prec:  0.3515151515151515\n",
      "t_f:  0.4383978348962834 , v_f:  0.41134751773049644\n",
      "////////\n"
     ]
    },
    {
     "name": "stderr",
     "output_type": "stream",
     "text": [
      "\r",
      "Iterations:  21%|███████                           | 62/300 [01:12<04:34,  1.15s/it]"
     ]
    },
    {
     "name": "stdout",
     "output_type": "stream",
     "text": [
      "Epoch  61 , loss 0.42256948877783385\n",
      "Epoch  62 , loss 0.41973568762049956\n"
     ]
    },
    {
     "name": "stderr",
     "output_type": "stream",
     "text": [
      "\r",
      "Iterations:  21%|███████▏                          | 63/300 [01:13<04:46,  1.21s/it]"
     ]
    },
    {
     "name": "stdout",
     "output_type": "stream",
     "text": [
      "Epoch:  62\n",
      "t_loss:  0.41973568762049956 , v_loss:  0.7625742455323538\n",
      "t_acc:  0.7004364089775561 , v_acc:  0.6987951807228916\n",
      "t_recall:  0.5103386917093875 , v_recall:  0.49572649572649574\n",
      "t_prec:  0.7726998017695692 , v_prec:  0.3515151515151515\n",
      "t_f:  0.43308995587576815 , v_f:  0.41134751773049644\n",
      "////////\n"
     ]
    },
    {
     "name": "stderr",
     "output_type": "stream",
     "text": [
      "\r",
      "Iterations:  21%|███████▎                          | 64/300 [01:14<04:23,  1.11s/it]"
     ]
    },
    {
     "name": "stdout",
     "output_type": "stream",
     "text": [
      "Epoch  63 , loss 0.4224540404244965\n",
      "Epoch  64 , loss 0.422382663862378\n"
     ]
    },
    {
     "name": "stderr",
     "output_type": "stream",
     "text": [
      "\r",
      "Iterations:  22%|███████▎                          | 65/300 [01:16<04:43,  1.21s/it]"
     ]
    },
    {
     "name": "stdout",
     "output_type": "stream",
     "text": [
      "Epoch:  64\n",
      "t_loss:  0.422382663862378 , v_loss:  0.7584805637598038\n",
      "t_acc:  0.7004364089775561 , v_acc:  0.6987951807228916\n",
      "t_recall:  0.5123435574612855 , v_recall:  0.49572649572649574\n",
      "t_prec:  0.7125631313131313 , v_prec:  0.3515151515151515\n",
      "t_f:  0.43942833068129483 , v_f:  0.41134751773049644\n",
      "////////\n"
     ]
    },
    {
     "name": "stderr",
     "output_type": "stream",
     "text": [
      "\r",
      "Iterations:  22%|███████▍                          | 66/300 [01:17<04:22,  1.12s/it]"
     ]
    },
    {
     "name": "stdout",
     "output_type": "stream",
     "text": [
      "Epoch  65 , loss 0.43351062314183103\n",
      "Epoch  66 , loss 0.42323211186072407\n"
     ]
    },
    {
     "name": "stderr",
     "output_type": "stream",
     "text": [
      "\r",
      "Iterations:  22%|███████▌                          | 67/300 [01:18<04:36,  1.19s/it]"
     ]
    },
    {
     "name": "stdout",
     "output_type": "stream",
     "text": [
      "Epoch:  66\n",
      "t_loss:  0.42323211186072407 , v_loss:  0.749573344985644\n",
      "t_acc:  0.7016832917705735 , v_acc:  0.6987951807228916\n",
      "t_recall:  0.5149592771668474 , v_recall:  0.5016570730856444\n",
      "t_prec:  0.7152162447257384 , v_prec:  0.5194274028629857\n",
      "t_f:  0.4452878605359867 , v_f:  0.4299450549450549\n",
      "////////\n"
     ]
    },
    {
     "name": "stderr",
     "output_type": "stream",
     "text": [
      "\r",
      "Iterations:  23%|███████▋                          | 68/300 [01:19<04:26,  1.15s/it]"
     ]
    },
    {
     "name": "stdout",
     "output_type": "stream",
     "text": [
      "Epoch  67 , loss 0.42428826467663633\n",
      "Epoch  68 , loss 0.42157239481514575\n"
     ]
    },
    {
     "name": "stderr",
     "output_type": "stream",
     "text": [
      "\r",
      "Iterations:  23%|███████▊                          | 69/300 [01:20<04:37,  1.20s/it]"
     ]
    },
    {
     "name": "stdout",
     "output_type": "stream",
     "text": [
      "Epoch:  68\n",
      "t_loss:  0.42157239481514575 , v_loss:  0.7511607110500336\n",
      "t_acc:  0.7026184538653366 , v_acc:  0.6987951807228916\n",
      "t_recall:  0.51591863407007 , v_recall:  0.5016570730856444\n",
      "t_prec:  0.7338170657009968 , v_prec:  0.5194274028629857\n",
      "t_f:  0.44659050222959995 , v_f:  0.4299450549450549\n",
      "////////\n"
     ]
    },
    {
     "name": "stderr",
     "output_type": "stream",
     "text": [
      "\r",
      "Iterations:  23%|███████▉                          | 70/300 [01:21<04:16,  1.11s/it]"
     ]
    },
    {
     "name": "stdout",
     "output_type": "stream",
     "text": [
      "Epoch  69 , loss 0.4137815780499402\n",
      "Epoch  70 , loss 0.41866550901356864\n"
     ]
    },
    {
     "name": "stderr",
     "output_type": "stream",
     "text": [
      "\r",
      "Iterations:  24%|████████                          | 71/300 [01:23<04:30,  1.18s/it]"
     ]
    },
    {
     "name": "stdout",
     "output_type": "stream",
     "text": [
      "Epoch:  70\n",
      "t_loss:  0.41866550901356864 , v_loss:  0.7556379536787668\n",
      "t_acc:  0.7032418952618454 , v_acc:  0.6987951807228916\n",
      "t_recall:  0.5169400845297226 , v_recall:  0.5016570730856444\n",
      "t_prec:  0.7388155642123896 , v_prec:  0.5194274028629857\n",
      "t_f:  0.4486205113539527 , v_f:  0.4299450549450549\n",
      "////////\n"
     ]
    },
    {
     "name": "stderr",
     "output_type": "stream",
     "text": [
      "\r",
      "Iterations:  24%|████████▏                         | 72/300 [01:24<04:19,  1.14s/it]"
     ]
    },
    {
     "name": "stdout",
     "output_type": "stream",
     "text": [
      "Epoch  71 , loss 0.4189782861401053\n",
      "Epoch  72 , loss 0.4201776519709942\n"
     ]
    },
    {
     "name": "stderr",
     "output_type": "stream",
     "text": [
      "\r",
      "Iterations:  24%|████████▎                         | 73/300 [01:25<04:40,  1.24s/it]"
     ]
    },
    {
     "name": "stdout",
     "output_type": "stream",
     "text": [
      "Epoch:  72\n",
      "t_loss:  0.4201776519709942 , v_loss:  0.7631769478321075\n",
      "t_acc:  0.7004364089775561 , v_acc:  0.6987951807228916\n",
      "t_recall:  0.5114843292819007 , v_recall:  0.5016570730856444\n",
      "t_prec:  0.7322269172319211 , v_prec:  0.5194274028629857\n",
      "t_f:  0.4367342628377821 , v_f:  0.4299450549450549\n",
      "////////\n"
     ]
    },
    {
     "name": "stderr",
     "output_type": "stream",
     "text": [
      "\r",
      "Iterations:  25%|████████▍                         | 74/300 [01:26<04:20,  1.15s/it]"
     ]
    },
    {
     "name": "stdout",
     "output_type": "stream",
     "text": [
      "Epoch  73 , loss 0.4221247376180163\n",
      "Epoch  74 , loss 0.4194335966717963\n"
     ]
    },
    {
     "name": "stderr",
     "output_type": "stream",
     "text": [
      "\r",
      "Iterations:  25%|████████▌                         | 75/300 [01:27<04:32,  1.21s/it]"
     ]
    },
    {
     "name": "stdout",
     "output_type": "stream",
     "text": [
      "Epoch:  74\n",
      "t_loss:  0.4194335966717963 , v_loss:  0.7682309548060099\n",
      "t_acc:  0.6966957605985037 , v_acc:  0.6987951807228916\n",
      "t_recall:  0.5076469016690106 , v_recall:  0.49572649572649574\n",
      "t_prec:  0.6385273119707786 , v_prec:  0.3515151515151515\n",
      "t_f:  0.4315229722245442 , v_f:  0.41134751773049644\n",
      "////////\n"
     ]
    },
    {
     "name": "stderr",
     "output_type": "stream",
     "text": [
      "\r",
      "Iterations:  25%|████████▌                         | 76/300 [01:28<04:08,  1.11s/it]"
     ]
    },
    {
     "name": "stdout",
     "output_type": "stream",
     "text": [
      "Epoch  75 , loss 0.4206290455425487\n",
      "Epoch  76 , loss 0.42547230101099204\n"
     ]
    },
    {
     "name": "stderr",
     "output_type": "stream",
     "text": [
      "\r",
      "Iterations:  26%|████████▋                         | 77/300 [01:30<04:30,  1.21s/it]"
     ]
    },
    {
     "name": "stdout",
     "output_type": "stream",
     "text": [
      "Epoch:  76\n",
      "t_loss:  0.42547230101099204 , v_loss:  0.7609206487735113\n",
      "t_acc:  0.6991895261845387 , v_acc:  0.6927710843373494\n",
      "t_recall:  0.5097278377557235 , v_recall:  0.49145299145299143\n",
      "t_prec:  0.7088712216624685 , v_prec:  0.35060975609756095\n",
      "t_f:  0.4334805575304399 , v_f:  0.40925266903914587\n",
      "////////\n"
     ]
    },
    {
     "name": "stderr",
     "output_type": "stream",
     "text": [
      "\r",
      "Iterations:  26%|████████▊                         | 78/300 [01:31<04:06,  1.11s/it]"
     ]
    },
    {
     "name": "stdout",
     "output_type": "stream",
     "text": [
      "Epoch  77 , loss 0.4157925978595135\n",
      "Epoch  78 , loss 0.4214412634279214\n"
     ]
    },
    {
     "name": "stderr",
     "output_type": "stream",
     "text": [
      "\r",
      "Iterations:  26%|████████▉                         | 79/300 [01:32<04:23,  1.19s/it]"
     ]
    },
    {
     "name": "stdout",
     "output_type": "stream",
     "text": [
      "Epoch:  78\n",
      "t_loss:  0.4214412634279214 , v_loss:  0.7624752422173818\n",
      "t_acc:  0.7026184538653366 , v_acc:  0.6987951807228916\n",
      "t_recall:  0.5164914528563265 , v_recall:  0.49572649572649574\n",
      "t_prec:  0.7235151266715112 , v_prec:  0.3515151515151515\n",
      "t_f:  0.4483302629254558 , v_f:  0.41134751773049644\n",
      "////////\n"
     ]
    },
    {
     "name": "stderr",
     "output_type": "stream",
     "text": [
      "\r",
      "Iterations:  27%|█████████                         | 80/300 [01:33<04:15,  1.16s/it]"
     ]
    },
    {
     "name": "stdout",
     "output_type": "stream",
     "text": [
      "Epoch  79 , loss 0.42535587502460853\n",
      "Epoch  80 , loss 0.4172816177209218\n"
     ]
    },
    {
     "name": "stderr",
     "output_type": "stream",
     "text": [
      "\r",
      "Iterations:  27%|█████████▏                        | 81/300 [01:34<04:24,  1.21s/it]"
     ]
    },
    {
     "name": "stdout",
     "output_type": "stream",
     "text": [
      "Epoch:  80\n",
      "t_loss:  0.4172816177209218 , v_loss:  0.7700447787841161\n",
      "t_acc:  0.7019950124688279 , v_acc:  0.6987951807228916\n",
      "t_recall:  0.5143243648241607 , v_recall:  0.49572649572649574\n",
      "t_prec:  0.7407333246051122 , v_prec:  0.3515151515151515\n",
      "t_f:  0.4427884126222765 , v_f:  0.41134751773049644\n",
      "////////\n"
     ]
    },
    {
     "name": "stderr",
     "output_type": "stream",
     "text": [
      "\r",
      "Iterations:  27%|█████████▎                        | 82/300 [01:35<04:01,  1.11s/it]"
     ]
    },
    {
     "name": "stdout",
     "output_type": "stream",
     "text": [
      "Epoch  81 , loss 0.41152630746364594\n",
      "Epoch  82 , loss 0.42291223885966284\n"
     ]
    },
    {
     "name": "stderr",
     "output_type": "stream",
     "text": [
      "\r",
      "Iterations:  28%|█████████▍                        | 83/300 [01:37<04:18,  1.19s/it]"
     ]
    },
    {
     "name": "stdout",
     "output_type": "stream",
     "text": [
      "Epoch:  82\n",
      "t_loss:  0.42291223885966284 , v_loss:  0.7739741653203964\n",
      "t_acc:  0.7004364089775561 , v_acc:  0.6927710843373494\n",
      "t_recall:  0.512916376247542 , v_recall:  0.49145299145299143\n",
      "t_prec:  0.7024623606482014 , v_prec:  0.35060975609756095\n",
      "t_f:  0.44120605273952207 , v_f:  0.40925266903914587\n",
      "////////\n"
     ]
    },
    {
     "name": "stderr",
     "output_type": "stream",
     "text": [
      "\r",
      "Iterations:  28%|█████████▌                        | 84/300 [01:38<04:10,  1.16s/it]"
     ]
    },
    {
     "name": "stdout",
     "output_type": "stream",
     "text": [
      "Epoch  83 , loss 0.4270731199021433\n",
      "Epoch  84 , loss 0.4213758607705434\n"
     ]
    },
    {
     "name": "stderr",
     "output_type": "stream",
     "text": [
      "\r",
      "Iterations:  28%|█████████▋                        | 85/300 [01:39<04:28,  1.25s/it]"
     ]
    },
    {
     "name": "stdout",
     "output_type": "stream",
     "text": [
      "Epoch:  84\n",
      "t_loss:  0.4213758607705434 , v_loss:  0.7666270136833191\n",
      "t_acc:  0.7032418952618454 , v_acc:  0.6987951807228916\n",
      "t_recall:  0.5163672657434661 , v_recall:  0.5016570730856444\n",
      "t_prec:  0.7509326588681632 , v_prec:  0.5194274028629857\n",
      "t_f:  0.4468773182492582 , v_f:  0.4299450549450549\n",
      "////////\n"
     ]
    },
    {
     "name": "stderr",
     "output_type": "stream",
     "text": [
      "\r",
      "Iterations:  29%|█████████▋                        | 86/300 [01:40<04:05,  1.15s/it]"
     ]
    },
    {
     "name": "stdout",
     "output_type": "stream",
     "text": [
      "Epoch  85 , loss 0.4198891701651554\n",
      "Epoch  86 , loss 0.42240657584339963\n"
     ]
    },
    {
     "name": "stderr",
     "output_type": "stream",
     "text": [
      "\r",
      "Iterations:  29%|█████████▊                        | 87/300 [01:41<04:19,  1.22s/it]"
     ]
    },
    {
     "name": "stdout",
     "output_type": "stream",
     "text": [
      "Epoch:  86\n",
      "t_loss:  0.42240657584339963 , v_loss:  0.7651158819595972\n",
      "t_acc:  0.702930174563591 , v_acc:  0.6987951807228916\n",
      "t_recall:  0.5164293592998963 , v_recall:  0.5016570730856444\n",
      "t_prec:  0.7363660337552742 , v_prec:  0.5194274028629857\n",
      "t_f:  0.44760640657345385 , v_f:  0.4299450549450549\n",
      "////////\n"
     ]
    },
    {
     "name": "stderr",
     "output_type": "stream",
     "text": [
      "\r",
      "Iterations:  29%|█████████▉                        | 88/300 [01:42<03:58,  1.12s/it]"
     ]
    },
    {
     "name": "stdout",
     "output_type": "stream",
     "text": [
      "Epoch  87 , loss 0.4224243865293615\n",
      "Epoch  88 , loss 0.41277186718641545\n"
     ]
    },
    {
     "name": "stderr",
     "output_type": "stream",
     "text": [
      "\r",
      "Iterations:  30%|██████████                        | 89/300 [01:44<04:20,  1.23s/it]"
     ]
    },
    {
     "name": "stdout",
     "output_type": "stream",
     "text": [
      "Epoch:  88\n",
      "t_loss:  0.41277186718641545 , v_loss:  0.7660508304834366\n",
      "t_acc:  0.6988778054862843 , v_acc:  0.6987951807228916\n",
      "t_recall:  0.5120812064571799 , v_recall:  0.5016570730856444\n",
      "t_prec:  0.6637413280167943 , v_prec:  0.5194274028629857\n",
      "t_f:  0.44139102094967536 , v_f:  0.4299450549450549\n",
      "////////\n"
     ]
    },
    {
     "name": "stderr",
     "output_type": "stream",
     "text": [
      "\r",
      "Iterations:  30%|██████████▏                       | 90/300 [01:45<03:58,  1.13s/it]"
     ]
    },
    {
     "name": "stdout",
     "output_type": "stream",
     "text": [
      "Epoch  89 , loss 0.41982677111438677\n",
      "Epoch  90 , loss 0.41329538296250734\n"
     ]
    },
    {
     "name": "stderr",
     "output_type": "stream",
     "text": [
      "\r",
      "Iterations:  30%|██████████▎                       | 91/300 [01:46<04:13,  1.21s/it]"
     ]
    },
    {
     "name": "stdout",
     "output_type": "stream",
     "text": [
      "Epoch:  90\n",
      "t_loss:  0.41329538296250734 , v_loss:  0.7547016541163126\n",
      "t_acc:  0.7023067331670823 , v_acc:  0.7048192771084337\n",
      "t_recall:  0.5156943182333719 , v_recall:  0.5177917320774463\n",
      "t_prec:  0.7257911392405063 , v_prec:  0.60625\n",
      "t_f:  0.4464471335547203 , v_f:  0.46609780111585164\n",
      "////////\n"
     ]
    },
    {
     "name": "stderr",
     "output_type": "stream",
     "text": [
      "\r",
      "Iterations:  31%|██████████▍                       | 92/300 [01:47<04:04,  1.18s/it]"
     ]
    },
    {
     "name": "stdout",
     "output_type": "stream",
     "text": [
      "Epoch  91 , loss 0.41636638314116237\n",
      "Epoch  92 , loss 0.41239133068159517\n"
     ]
    },
    {
     "name": "stderr",
     "output_type": "stream",
     "text": [
      "\r",
      "Iterations:  31%|██████████▌                       | 93/300 [01:49<04:13,  1.22s/it]"
     ]
    },
    {
     "name": "stdout",
     "output_type": "stream",
     "text": [
      "Epoch:  92\n",
      "t_loss:  0.41239133068159517 , v_loss:  0.7616343994935354\n",
      "t_acc:  0.702930174563591 , v_acc:  0.6987951807228916\n",
      "t_recall:  0.5167157686930246 , v_recall:  0.5016570730856444\n",
      "t_prec:  0.7310132995566814 , v_prec:  0.5194274028629857\n",
      "t_f:  0.44847537254048775 , v_f:  0.4299450549450549\n",
      "////////\n"
     ]
    },
    {
     "name": "stderr",
     "output_type": "stream",
     "text": [
      "\r",
      "Iterations:  31%|██████████▋                       | 94/300 [01:49<03:52,  1.13s/it]"
     ]
    },
    {
     "name": "stdout",
     "output_type": "stream",
     "text": [
      "Epoch  93 , loss 0.4126591623998156\n",
      "Epoch  94 , loss 0.42155003781412165\n"
     ]
    },
    {
     "name": "stderr",
     "output_type": "stream",
     "text": [
      "\r",
      "Iterations:  32%|██████████▊                       | 95/300 [01:51<04:05,  1.20s/it]"
     ]
    },
    {
     "name": "stdout",
     "output_type": "stream",
     "text": [
      "Epoch:  94\n",
      "t_loss:  0.42155003781412165 , v_loss:  0.7641460647185644\n",
      "t_acc:  0.7010598503740648 , v_acc:  0.6987951807228916\n",
      "t_recall:  0.5147970548865796 , v_recall:  0.5016570730856444\n",
      "t_prec:  0.6967558740372428 , v_prec:  0.5194274028629857\n",
      "t_f:  0.44587391603107746 , v_f:  0.4299450549450549\n",
      "////////\n"
     ]
    },
    {
     "name": "stderr",
     "output_type": "stream",
     "text": [
      "\r",
      "Iterations:  32%|██████████▉                       | 96/300 [01:52<03:57,  1.16s/it]"
     ]
    },
    {
     "name": "stdout",
     "output_type": "stream",
     "text": [
      "Epoch  95 , loss 0.418145758264205\n",
      "Epoch  96 , loss 0.4058915630859487\n"
     ]
    },
    {
     "name": "stderr",
     "output_type": "stream",
     "text": [
      "\r",
      "Iterations:  32%|██████████▉                       | 97/300 [01:53<04:14,  1.26s/it]"
     ]
    },
    {
     "name": "stdout",
     "output_type": "stream",
     "text": [
      "Epoch:  96\n",
      "t_loss:  0.4058915630859487 , v_loss:  0.7607756753762563\n",
      "t_acc:  0.7051122194513716 , v_acc:  0.6987951807228916\n",
      "t_recall:  0.5205772546949373 , v_recall:  0.5016570730856444\n",
      "t_prec:  0.7416882410881044 , v_prec:  0.5194274028629857\n",
      "t_f:  0.4563650811734957 , v_f:  0.4299450549450549\n",
      "////////\n"
     ]
    },
    {
     "name": "stderr",
     "output_type": "stream",
     "text": [
      "\r",
      "Iterations:  33%|███████████                       | 98/300 [01:54<03:53,  1.15s/it]"
     ]
    },
    {
     "name": "stdout",
     "output_type": "stream",
     "text": [
      "Epoch  97 , loss 0.41285039279975144\n",
      "Epoch  98 , loss 0.4089972946573706\n"
     ]
    },
    {
     "name": "stderr",
     "output_type": "stream",
     "text": [
      "\r",
      "Iterations:  33%|███████████▏                      | 99/300 [01:56<04:05,  1.22s/it]"
     ]
    },
    {
     "name": "stdout",
     "output_type": "stream",
     "text": [
      "Epoch:  98\n",
      "t_loss:  0.4089972946573706 , v_loss:  0.7664705564578375\n",
      "t_acc:  0.705423940149626 , v_acc:  0.6927710843373494\n",
      "t_recall:  0.5216607987110202 , v_recall:  0.49738356881214024\n",
      "t_prec:  0.7349117366412214 , v_prec:  0.47685185185185186\n",
      "t_f:  0.45904016727934976 , v_f:  0.4274700750659363\n",
      "////////\n"
     ]
    },
    {
     "name": "stderr",
     "output_type": "stream",
     "text": [
      "\r",
      "Iterations:  33%|███████████                      | 100/300 [01:57<03:44,  1.12s/it]"
     ]
    },
    {
     "name": "stdout",
     "output_type": "stream",
     "text": [
      "Epoch  99 , loss 0.4141096677265915\n",
      "Epoch  100 , loss 0.41715457275802015\n"
     ]
    },
    {
     "name": "stderr",
     "output_type": "stream",
     "text": [
      "\r",
      "Iterations:  34%|███████████                      | 101/300 [01:58<04:04,  1.23s/it]"
     ]
    },
    {
     "name": "stdout",
     "output_type": "stream",
     "text": [
      "Epoch:  100\n",
      "t_loss:  0.41715457275802015 , v_loss:  0.7668844759464264\n",
      "t_acc:  0.7026184538653366 , v_acc:  0.6987951807228916\n",
      "t_recall:  0.5184963186082244 , v_recall:  0.5016570730856444\n",
      "t_prec:  0.6975696908881763 , v_prec:  0.5194274028629857\n",
      "t_f:  0.45430970292962225 , v_f:  0.4299450549450549\n",
      "////////\n"
     ]
    },
    {
     "name": "stderr",
     "output_type": "stream",
     "text": [
      "\r",
      "Iterations:  34%|███████████▏                     | 102/300 [01:59<03:42,  1.12s/it]"
     ]
    },
    {
     "name": "stdout",
     "output_type": "stream",
     "text": [
      "Epoch  101 , loss 0.4144778719135359\n",
      "Epoch  102 , loss 0.41377582269556384\n"
     ]
    },
    {
     "name": "stderr",
     "output_type": "stream",
     "text": [
      "\r",
      "Iterations:  34%|███████████▎                     | 103/300 [02:00<03:58,  1.21s/it]"
     ]
    },
    {
     "name": "stdout",
     "output_type": "stream",
     "text": [
      "Epoch:  102\n",
      "t_loss:  0.41377582269556384 , v_loss:  0.7596807926893234\n",
      "t_acc:  0.706359102244389 , v_acc:  0.7048192771084337\n",
      "t_recall:  0.5223337462211145 , v_recall:  0.5177917320774463\n",
      "t_prec:  0.7538795730516182 , v_prec:  0.60625\n",
      "t_f:  0.4595037774725275 , v_f:  0.46609780111585164\n",
      "////////\n"
     ]
    },
    {
     "name": "stderr",
     "output_type": "stream",
     "text": [
      "\r",
      "Iterations:  35%|███████████▍                     | 104/300 [02:01<03:47,  1.16s/it]"
     ]
    },
    {
     "name": "stdout",
     "output_type": "stream",
     "text": [
      "Epoch  103 , loss 0.4122760409817976\n",
      "Epoch  104 , loss 0.4098345009135265\n"
     ]
    },
    {
     "name": "stderr",
     "output_type": "stream",
     "text": [
      "\r",
      "Iterations:  35%|███████████▌                     | 105/300 [02:03<03:58,  1.22s/it]"
     ]
    },
    {
     "name": "stdout",
     "output_type": "stream",
     "text": [
      "Epoch:  104\n",
      "t_loss:  0.4098345009135265 , v_loss:  0.7642339517672857\n",
      "t_acc:  0.7035536159600998 , v_acc:  0.7048192771084337\n",
      "t_recall:  0.5191692661183187 , v_recall:  0.5177917320774463\n",
      "t_prec:  0.7144607591821668 , v_prec:  0.60625\n",
      "t_f:  0.45476254942698213 , v_f:  0.46609780111585164\n",
      "////////\n"
     ]
    },
    {
     "name": "stderr",
     "output_type": "stream",
     "text": [
      "\r",
      "Iterations:  35%|███████████▋                     | 106/300 [02:04<03:36,  1.12s/it]"
     ]
    },
    {
     "name": "stdout",
     "output_type": "stream",
     "text": [
      "Epoch  105 , loss 0.4107188652543461\n",
      "Epoch  106 , loss 0.4146219357555988\n"
     ]
    },
    {
     "name": "stderr",
     "output_type": "stream",
     "text": [
      "\r",
      "Iterations:  36%|███████████▊                     | 107/300 [02:05<03:50,  1.20s/it]"
     ]
    },
    {
     "name": "stdout",
     "output_type": "stream",
     "text": [
      "Epoch:  106\n",
      "t_loss:  0.4146219357555988 , v_loss:  0.7663471549749374\n",
      "t_acc:  0.7041770573566085 , v_acc:  0.7048192771084337\n",
      "t_recall:  0.5207635353642279 , v_recall:  0.5177917320774463\n",
      "t_prec:  0.7122049456725366 , v_prec:  0.60625\n",
      "t_f:  0.4584226580729907 , v_f:  0.46609780111585164\n",
      "////////\n"
     ]
    },
    {
     "name": "stderr",
     "output_type": "stream",
     "text": [
      "\r",
      "Iterations:  36%|███████████▉                     | 108/300 [02:06<03:37,  1.13s/it]"
     ]
    },
    {
     "name": "stdout",
     "output_type": "stream",
     "text": [
      "Epoch  107 , loss 0.4068619828013813\n",
      "Epoch  108 , loss 0.40999100079723433\n"
     ]
    },
    {
     "name": "stderr",
     "output_type": "stream",
     "text": [
      "\r",
      "Iterations:  36%|███████████▉                     | 109/300 [02:08<04:00,  1.26s/it]"
     ]
    },
    {
     "name": "stdout",
     "output_type": "stream",
     "text": [
      "Epoch:  108\n",
      "t_loss:  0.40999100079723433 , v_loss:  0.768412763873736\n",
      "t_acc:  0.7035536159600998 , v_acc:  0.7048192771084337\n",
      "t_recall:  0.519455675511447 , v_recall:  0.5177917320774463\n",
      "t_prec:  0.7109971374045801 , v_prec:  0.60625\n",
      "t_f:  0.45560550167477426 , v_f:  0.46609780111585164\n",
      "////////\n"
     ]
    },
    {
     "name": "stderr",
     "output_type": "stream",
     "text": [
      "\r",
      "Iterations:  37%|████████████                     | 110/300 [02:08<03:38,  1.15s/it]"
     ]
    },
    {
     "name": "stdout",
     "output_type": "stream",
     "text": [
      "Epoch  109 , loss 0.41028577498361174\n",
      "Epoch  110 , loss 0.40873735792496624\n"
     ]
    },
    {
     "name": "stderr",
     "output_type": "stream",
     "text": [
      "\r",
      "Iterations:  37%|████████████▏                    | 111/300 [02:10<03:56,  1.25s/it]"
     ]
    },
    {
     "name": "stdout",
     "output_type": "stream",
     "text": [
      "Epoch:  110\n",
      "t_loss:  0.40873735792496624 , v_loss:  0.7591510911782583\n",
      "t_acc:  0.7016832917705735 , v_acc:  0.7168674698795181\n",
      "t_recall:  0.5161049147393606 , v_recall:  0.5381998953427525\n",
      "t_prec:  0.6991026105873821 , v_prec:  0.673259493670886\n",
      "t_f:  0.44875716759720874 , v_f:  0.5022647527910686\n",
      "////////\n"
     ]
    },
    {
     "name": "stderr",
     "output_type": "stream",
     "text": [
      "\r",
      "Iterations:  37%|████████████▎                    | 112/300 [02:11<03:32,  1.13s/it]"
     ]
    },
    {
     "name": "stdout",
     "output_type": "stream",
     "text": [
      "Epoch  111 , loss 0.4162262958638808\n",
      "Epoch  112 , loss 0.40875891435380074\n"
     ]
    },
    {
     "name": "stderr",
     "output_type": "stream",
     "text": [
      "\r",
      "Iterations:  38%|████████████▍                    | 113/300 [02:12<03:50,  1.23s/it]"
     ]
    },
    {
     "name": "stdout",
     "output_type": "stream",
     "text": [
      "Epoch:  112\n",
      "t_loss:  0.40875891435380074 , v_loss:  0.7641861240069071\n",
      "t_acc:  0.7048004987531172 , v_acc:  0.7108433734939759\n",
      "t_recall:  0.5203529388582393 , v_recall:  0.5279958137100994\n",
      "t_prec:  0.7351440067767896 , v_prec:  0.6442048517520216\n",
      "t_f:  0.45621308310107056 , v_f:  0.484472049689441\n",
      "////////\n"
     ]
    },
    {
     "name": "stderr",
     "output_type": "stream",
     "text": [
      "\r",
      "Iterations:  38%|████████████▌                    | 114/300 [02:13<03:29,  1.13s/it]"
     ]
    },
    {
     "name": "stdout",
     "output_type": "stream",
     "text": [
      "Epoch  113 , loss 0.4091182120290457\n",
      "Epoch  114 , loss 0.4015483949698654\n"
     ]
    },
    {
     "name": "stderr",
     "output_type": "stream",
     "text": [
      "\r",
      "Iterations:  38%|████████████▋                    | 115/300 [02:15<03:49,  1.24s/it]"
     ]
    },
    {
     "name": "stdout",
     "output_type": "stream",
     "text": [
      "Epoch:  114\n",
      "t_loss:  0.4015483949698654 , v_loss:  0.7704272866249084\n",
      "t_acc:  0.7091645885286783 , v_acc:  0.7048192771084337\n",
      "t_recall:  0.5260710451101668 , v_recall:  0.5177917320774463\n",
      "t_prec:  0.7827409351145038 , v_prec:  0.60625\n",
      "t_f:  0.46590949848850083 , v_f:  0.46609780111585164\n",
      "////////\n"
     ]
    },
    {
     "name": "stderr",
     "output_type": "stream",
     "text": [
      "\r",
      "Iterations:  39%|████████████▊                    | 116/300 [02:15<03:27,  1.13s/it]"
     ]
    },
    {
     "name": "stdout",
     "output_type": "stream",
     "text": [
      "Epoch  115 , loss 0.4144969693585938\n",
      "Epoch  116 , loss 0.4148903407302557\n"
     ]
    },
    {
     "name": "stderr",
     "output_type": "stream",
     "text": [
      "\r",
      "Iterations:  39%|████████████▊                    | 117/300 [02:17<03:41,  1.21s/it]"
     ]
    },
    {
     "name": "stdout",
     "output_type": "stream",
     "text": [
      "Epoch:  116\n",
      "t_loss:  0.4148903407302557 , v_loss:  0.7643045037984848\n",
      "t_acc:  0.7051122194513716 , v_acc:  0.7168674698795181\n",
      "t_recall:  0.5225821204468353 , v_recall:  0.5381998953427525\n",
      "t_prec:  0.7153262983111577 , v_prec:  0.673259493670886\n",
      "t_f:  0.46219976579534594 , v_f:  0.5022647527910686\n",
      "////////\n"
     ]
    },
    {
     "name": "stderr",
     "output_type": "stream",
     "text": [
      "\r",
      "Iterations:  39%|████████████▉                    | 118/300 [02:18<03:24,  1.12s/it]"
     ]
    },
    {
     "name": "stdout",
     "output_type": "stream",
     "text": [
      "Epoch  117 , loss 0.4209435623066098\n",
      "Epoch  118 , loss 0.41146522409775677\n"
     ]
    },
    {
     "name": "stderr",
     "output_type": "stream",
     "text": [
      "\r",
      "Iterations:  40%|█████████████                    | 119/300 [02:19<03:36,  1.19s/it]"
     ]
    },
    {
     "name": "stdout",
     "output_type": "stream",
     "text": [
      "Epoch:  118\n",
      "t_loss:  0.41146522409775677 , v_loss:  0.7637762775023779\n",
      "t_acc:  0.7041770573566085 , v_acc:  0.7048192771084337\n",
      "t_recall:  0.5224819917229977 , v_recall:  0.5177917320774463\n",
      "t_prec:  0.6960517902813299 , v_prec:  0.60625\n",
      "t_f:  0.4633600931278217 , v_f:  0.46609780111585164\n",
      "////////\n"
     ]
    },
    {
     "name": "stderr",
     "output_type": "stream",
     "text": [
      "\r",
      "Iterations:  40%|█████████████▏                   | 120/300 [02:20<03:18,  1.10s/it]"
     ]
    },
    {
     "name": "stdout",
     "output_type": "stream",
     "text": [
      "Epoch  119 , loss 0.40337224217022166\n",
      "Epoch  120 , loss 0.4123379985491435\n"
     ]
    },
    {
     "name": "stderr",
     "output_type": "stream",
     "text": [
      "\r",
      "Iterations:  40%|█████████████▎                   | 121/300 [02:21<03:33,  1.19s/it]"
     ]
    },
    {
     "name": "stdout",
     "output_type": "stream",
     "text": [
      "Epoch:  120\n",
      "t_loss:  0.4123379985491435 , v_loss:  0.7671626259883245\n",
      "t_acc:  0.7094763092269327 , v_acc:  0.7108433734939759\n",
      "t_recall:  0.5280138173056346 , v_recall:  0.5279958137100994\n",
      "t_prec:  0.7601617193318438 , v_prec:  0.6442048517520216\n",
      "t_f:  0.4709668926106617 , v_f:  0.484472049689441\n",
      "////////\n"
     ]
    },
    {
     "name": "stderr",
     "output_type": "stream",
     "text": [
      "\r",
      "Iterations:  41%|█████████████▍                   | 122/300 [02:22<03:19,  1.12s/it]"
     ]
    },
    {
     "name": "stdout",
     "output_type": "stream",
     "text": [
      "Epoch  121 , loss 0.40473612032684625\n",
      "Epoch  122 , loss 0.40576497246237364\n"
     ]
    },
    {
     "name": "stderr",
     "output_type": "stream",
     "text": [
      "\r",
      "Iterations:  41%|█████████████▌                   | 123/300 [02:24<03:37,  1.23s/it]"
     ]
    },
    {
     "name": "stdout",
     "output_type": "stream",
     "text": [
      "Epoch:  122\n",
      "t_loss:  0.40576497246237364 , v_loss:  0.7637205421924591\n",
      "t_acc:  0.7079177057356608 , v_acc:  0.7349397590361446\n",
      "t_recall:  0.5274650569084007 , v_recall:  0.5688121402407117\n",
      "t_prec:  0.728393085787452 , v_prec:  0.7313782991202347\n",
      "t_f:  0.4717452114050042 , v_f:  0.5524509803921569\n",
      "////////\n"
     ]
    },
    {
     "name": "stderr",
     "output_type": "stream",
     "text": [
      "\r",
      "Iterations:  41%|█████████████▋                   | 124/300 [02:25<03:16,  1.12s/it]"
     ]
    },
    {
     "name": "stdout",
     "output_type": "stream",
     "text": [
      "Epoch  123 , loss 0.4108439064493366\n",
      "Epoch  124 , loss 0.41564406308473323\n"
     ]
    },
    {
     "name": "stderr",
     "output_type": "stream",
     "text": [
      "\r",
      "Iterations:  42%|█████████████▊                   | 125/300 [02:26<03:29,  1.20s/it]"
     ]
    },
    {
     "name": "stdout",
     "output_type": "stream",
     "text": [
      "Epoch:  124\n",
      "t_loss:  0.41564406308473323 , v_loss:  0.7635668516159058\n",
      "t_acc:  0.7091645885286783 , v_acc:  0.7228915662650602\n",
      "t_recall:  0.5286487296483213 , v_recall:  0.5484039769754055\n",
      "t_prec:  0.7438907354524601 , v_prec:  0.6963906581740976\n",
      "t_f:  0.47320560646501764 , v_f:  0.5195066700226529\n",
      "////////\n"
     ]
    },
    {
     "name": "stderr",
     "output_type": "stream",
     "text": [
      "\r",
      "Iterations:  42%|█████████████▊                   | 126/300 [02:27<03:10,  1.09s/it]"
     ]
    },
    {
     "name": "stdout",
     "output_type": "stream",
     "text": [
      "Epoch  125 , loss 0.41070785300404417\n",
      "Epoch  126 , loss 0.4054849533473744\n"
     ]
    },
    {
     "name": "stderr",
     "output_type": "stream",
     "text": [
      "\r",
      "Iterations:  42%|█████████████▉                   | 127/300 [02:28<03:30,  1.22s/it]"
     ]
    },
    {
     "name": "stdout",
     "output_type": "stream",
     "text": [
      "Epoch:  126\n",
      "t_loss:  0.4054849533473744 , v_loss:  0.7617407391468684\n",
      "t_acc:  0.7082294264339152 , v_acc:  0.7289156626506024\n",
      "t_recall:  0.5274029633519706 , v_recall:  0.5586080586080586\n",
      "t_prec:  0.7360898901246412 , v_prec:  0.7153846153846153\n",
      "t_f:  0.4711119252610368 , v_f:  0.5362264853790277\n",
      "////////\n"
     ]
    },
    {
     "name": "stderr",
     "output_type": "stream",
     "text": [
      "\r",
      "Iterations:  43%|██████████████                   | 128/300 [02:29<03:11,  1.12s/it]"
     ]
    },
    {
     "name": "stdout",
     "output_type": "stream",
     "text": [
      "Epoch  127 , loss 0.40365473779977534\n",
      "Epoch  128 , loss 0.40402136129491467\n"
     ]
    },
    {
     "name": "stderr",
     "output_type": "stream",
     "text": [
      "\r",
      "Iterations:  43%|██████████████▏                  | 129/300 [02:31<03:22,  1.19s/it]"
     ]
    },
    {
     "name": "stdout",
     "output_type": "stream",
     "text": [
      "Epoch:  128\n",
      "t_loss:  0.40402136129491467 , v_loss:  0.7609741588433584\n",
      "t_acc:  0.7076059850374065 , v_acc:  0.7349397590361446\n",
      "t_recall:  0.5272407410717027 , v_recall:  0.5688121402407117\n",
      "t_prec:  0.7239343768246973 , v_prec:  0.7313782991202347\n",
      "t_f:  0.4715797340885847 , v_f:  0.5524509803921569\n",
      "////////\n"
     ]
    },
    {
     "name": "stderr",
     "output_type": "stream",
     "text": [
      "\r",
      "Iterations:  43%|██████████████▎                  | 130/300 [02:32<03:10,  1.12s/it]"
     ]
    },
    {
     "name": "stdout",
     "output_type": "stream",
     "text": [
      "Epoch  129 , loss 0.401521254696098\n",
      "Epoch  130 , loss 0.4115424267217225\n"
     ]
    },
    {
     "name": "stderr",
     "output_type": "stream",
     "text": [
      "\r",
      "Iterations:  44%|██████████████▍                  | 131/300 [02:33<03:21,  1.19s/it]"
     ]
    },
    {
     "name": "stdout",
     "output_type": "stream",
     "text": [
      "Epoch:  130\n",
      "t_loss:  0.4115424267217225 , v_loss:  0.7580287555853525\n",
      "t_acc:  0.7076059850374065 , v_acc:  0.7228915662650602\n",
      "t_recall:  0.5283863786442159 , v_recall:  0.5484039769754055\n",
      "t_prec:  0.7138266107457844 , v_prec:  0.6963906581740976\n",
      "t_f:  0.4747380239520958 , v_f:  0.5195066700226529\n",
      "////////\n"
     ]
    },
    {
     "name": "stderr",
     "output_type": "stream",
     "text": [
      "\r",
      "Iterations:  44%|██████████████▌                  | 132/300 [02:34<03:03,  1.09s/it]"
     ]
    },
    {
     "name": "stdout",
     "output_type": "stream",
     "text": [
      "Epoch  131 , loss 0.4024725959581487\n",
      "Epoch  132 , loss 0.402015130017318\n"
     ]
    },
    {
     "name": "stderr",
     "output_type": "stream",
     "text": [
      "\r",
      "Iterations:  44%|██████████████▋                  | 133/300 [02:35<03:17,  1.19s/it]"
     ]
    },
    {
     "name": "stdout",
     "output_type": "stream",
     "text": [
      "Epoch:  132\n",
      "t_loss:  0.402015130017318 , v_loss:  0.7570303231477737\n",
      "t_acc:  0.7116583541147132 , v_acc:  0.7228915662650602\n",
      "t_recall:  0.5321617127006756 , v_recall:  0.5484039769754055\n",
      "t_prec:  0.7613969876197428 , v_prec:  0.6963906581740976\n",
      "t_f:  0.4792952569964106 , v_f:  0.5195066700226529\n",
      "////////\n"
     ]
    },
    {
     "name": "stderr",
     "output_type": "stream",
     "text": [
      "\r",
      "Iterations:  45%|██████████████▋                  | 134/300 [02:36<03:05,  1.12s/it]"
     ]
    },
    {
     "name": "stdout",
     "output_type": "stream",
     "text": [
      "Epoch  133 , loss 0.4158533811569214\n",
      "Epoch  134 , loss 0.4017536944034053\n"
     ]
    },
    {
     "name": "stderr",
     "output_type": "stream",
     "text": [
      "\r",
      "Iterations:  45%|██████████████▊                  | 135/300 [02:38<03:28,  1.26s/it]"
     ]
    },
    {
     "name": "stdout",
     "output_type": "stream",
     "text": [
      "Epoch:  134\n",
      "t_loss:  0.4017536944034053 , v_loss:  0.7643188337484995\n",
      "t_acc:  0.7066708229426434 , v_acc:  0.7349397590361446\n",
      "t_recall:  0.5265677935616085 , v_recall:  0.5688121402407117\n",
      "t_prec:  0.7111596736596737 , v_prec:  0.7313782991202347\n",
      "t_f:  0.4710836823111398 , v_f:  0.5524509803921569\n",
      "////////\n"
     ]
    },
    {
     "name": "stderr",
     "output_type": "stream",
     "text": [
      "\r",
      "Iterations:  45%|██████████████▉                  | 136/300 [02:39<03:07,  1.14s/it]"
     ]
    },
    {
     "name": "stdout",
     "output_type": "stream",
     "text": [
      "Epoch  135 , loss 0.4013765863343781\n",
      "Epoch  136 , loss 0.4023047180152407\n"
     ]
    },
    {
     "name": "stderr",
     "output_type": "stream",
     "text": [
      "\r",
      "Iterations:  46%|███████████████                  | 137/300 [02:40<03:17,  1.21s/it]"
     ]
    },
    {
     "name": "stdout",
     "output_type": "stream",
     "text": [
      "Epoch:  136\n",
      "t_loss:  0.4023047180152407 , v_loss:  0.7551920066277186\n",
      "t_acc:  0.7072942643391521 , v_acc:  0.7349397590361446\n",
      "t_recall:  0.5270164252350047 , v_recall:  0.5688121402407117\n",
      "t_prec:  0.7195782369679543 , v_prec:  0.7313782991202347\n",
      "t_f:  0.4714143203455454 , v_f:  0.5524509803921569\n",
      "////////\n"
     ]
    },
    {
     "name": "stderr",
     "output_type": "stream",
     "text": [
      "\r",
      "Iterations:  46%|███████████████▏                 | 138/300 [02:41<02:56,  1.09s/it]"
     ]
    },
    {
     "name": "stdout",
     "output_type": "stream",
     "text": [
      "Epoch  137 , loss 0.4065585802583134\n",
      "Epoch  138 , loss 0.3981209011638866\n"
     ]
    },
    {
     "name": "stderr",
     "output_type": "stream",
     "text": [
      "\r",
      "Iterations:  46%|███████████████▎                 | 139/300 [02:42<03:17,  1.23s/it]"
     ]
    },
    {
     "name": "stdout",
     "output_type": "stream",
     "text": [
      "Epoch:  138\n",
      "t_loss:  0.3981209011638866 , v_loss:  0.7599502056837082\n",
      "t_acc:  0.7182044887780549 , v_acc:  0.7289156626506024\n",
      "t_recall:  0.5454646270651836 , v_recall:  0.5586080586080586\n",
      "t_prec:  0.7574440480051898 , v_prec:  0.7153846153846153\n",
      "t_f:  0.5054893486991444 , v_f:  0.5362264853790277\n",
      "////////\n"
     ]
    },
    {
     "name": "stderr",
     "output_type": "stream",
     "text": [
      "\r",
      "Iterations:  47%|███████████████▍                 | 140/300 [02:43<03:00,  1.13s/it]"
     ]
    },
    {
     "name": "stdout",
     "output_type": "stream",
     "text": [
      "Epoch  139 , loss 0.4134776013738969\n",
      "Epoch  140 , loss 0.40285493521129384\n"
     ]
    },
    {
     "name": "stderr",
     "output_type": "stream",
     "text": [
      "\r",
      "Iterations:  47%|███████████████▌                 | 141/300 [02:45<03:09,  1.19s/it]"
     ]
    },
    {
     "name": "stdout",
     "output_type": "stream",
     "text": [
      "Epoch:  140\n",
      "t_loss:  0.40285493521129384 , v_loss:  0.7673816134532293\n",
      "t_acc:  0.7135286783042394 , v_acc:  0.7289156626506024\n",
      "t_recall:  0.5360852922590186 , v_recall:  0.5586080586080586\n",
      "t_prec:  0.758366690727738 , v_prec:  0.7153846153846153\n",
      "t_f:  0.48728709729199626 , v_f:  0.5362264853790277\n",
      "////////\n"
     ]
    },
    {
     "name": "stderr",
     "output_type": "stream",
     "text": [
      "\r",
      "Iterations:  47%|███████████████▌                 | 142/300 [02:46<02:58,  1.13s/it]"
     ]
    },
    {
     "name": "stdout",
     "output_type": "stream",
     "text": [
      "Epoch  141 , loss 0.4057635437039768\n",
      "Epoch  142 , loss 0.4095539304555631\n"
     ]
    },
    {
     "name": "stderr",
     "output_type": "stream",
     "text": [
      "\r",
      "Iterations:  48%|███████████████▋                 | 143/300 [02:47<03:07,  1.19s/it]"
     ]
    },
    {
     "name": "stdout",
     "output_type": "stream",
     "text": [
      "Epoch:  142\n",
      "t_loss:  0.4095539304555631 , v_loss:  0.765725721915563\n",
      "t_acc:  0.7116583541147132 , v_acc:  0.7349397590361446\n",
      "t_recall:  0.5344529878457018 , v_recall:  0.5688121402407117\n",
      "t_prec:  0.7373110867012613 , v_prec:  0.7313782991202347\n",
      "t_f:  0.4854637527992669 , v_f:  0.5524509803921569\n",
      "////////\n"
     ]
    },
    {
     "name": "stderr",
     "output_type": "stream",
     "text": [
      "\r",
      "Iterations:  48%|███████████████▊                 | 144/300 [02:48<02:52,  1.11s/it]"
     ]
    },
    {
     "name": "stdout",
     "output_type": "stream",
     "text": [
      "Epoch  143 , loss 0.40099834986761507\n",
      "Epoch  144 , loss 0.4028704704022875\n"
     ]
    },
    {
     "name": "stderr",
     "output_type": "stream",
     "text": [
      "\r",
      "Iterations:  48%|███████████████▉                 | 145/300 [02:49<03:04,  1.19s/it]"
     ]
    },
    {
     "name": "stdout",
     "output_type": "stream",
     "text": [
      "Epoch:  144\n",
      "t_loss:  0.4028704704022875 , v_loss:  0.7591649542252222\n",
      "t_acc:  0.7160224438902744 , v_acc:  0.7349397590361446\n",
      "t_recall:  0.5416031410632708 , v_recall:  0.5688121402407117\n",
      "t_prec:  0.7531170540215015 , v_prec:  0.7313782991202347\n",
      "t_f:  0.4984140551051704 , v_f:  0.5524509803921569\n",
      "////////\n"
     ]
    },
    {
     "name": "stderr",
     "output_type": "stream",
     "text": [
      "\r",
      "Iterations:  49%|████████████████                 | 146/300 [02:50<02:56,  1.14s/it]"
     ]
    },
    {
     "name": "stdout",
     "output_type": "stream",
     "text": [
      "Epoch  145 , loss 0.40512044523276536\n",
      "Epoch  146 , loss 0.40911030301860735\n"
     ]
    },
    {
     "name": "stderr",
     "output_type": "stream",
     "text": [
      "\r",
      "Iterations:  49%|████████████████▏                | 147/300 [02:52<03:06,  1.22s/it]"
     ]
    },
    {
     "name": "stdout",
     "output_type": "stream",
     "text": [
      "Epoch:  146\n",
      "t_loss:  0.40911030301860735 , v_loss:  0.7621383766333262\n",
      "t_acc:  0.7138403990024937 , v_acc:  0.7289156626506024\n",
      "t_recall:  0.5406057489926409 , v_recall:  0.5586080586080586\n",
      "t_prec:  0.7264565395732544 , v_prec:  0.7153846153846153\n",
      "t_f:  0.4985502804425782 , v_f:  0.5362264853790277\n",
      "////////\n"
     ]
    },
    {
     "name": "stderr",
     "output_type": "stream",
     "text": [
      "\r",
      "Iterations:  49%|████████████████▎                | 148/300 [02:53<02:49,  1.12s/it]"
     ]
    },
    {
     "name": "stdout",
     "output_type": "stream",
     "text": [
      "Epoch  147 , loss 0.40818192327723785\n",
      "Epoch  148 , loss 0.4010512133439382\n"
     ]
    },
    {
     "name": "stderr",
     "output_type": "stream",
     "text": [
      "\r",
      "Iterations:  50%|████████████████▍                | 149/300 [02:54<03:00,  1.20s/it]"
     ]
    },
    {
     "name": "stdout",
     "output_type": "stream",
     "text": [
      "Epoch:  148\n",
      "t_loss:  0.4010512133439382 , v_loss:  0.7559698522090912\n",
      "t_acc:  0.71571072319202 , v_acc:  0.7349397590361446\n",
      "t_recall:  0.5410924158334445 , v_recall:  0.5747427175998605\n",
      "t_prec:  0.7521022224096487 , v_prec:  0.7154348919054802\n",
      "t_f:  0.4974989127948078 , v_f:  0.5636798088410991\n",
      "////////\n"
     ]
    },
    {
     "name": "stderr",
     "output_type": "stream",
     "text": [
      "\r",
      "Iterations:  50%|████████████████▌                | 150/300 [02:55<02:45,  1.10s/it]"
     ]
    },
    {
     "name": "stdout",
     "output_type": "stream",
     "text": [
      "Epoch  149 , loss 0.4172211441339231\n",
      "Epoch  150 , loss 0.3993943450497646\n"
     ]
    },
    {
     "name": "stderr",
     "output_type": "stream",
     "text": [
      "\r",
      "Iterations:  50%|████████████████▌                | 151/300 [02:56<02:59,  1.21s/it]"
     ]
    },
    {
     "name": "stdout",
     "output_type": "stream",
     "text": [
      "Epoch:  150\n",
      "t_loss:  0.3993943450497646 , v_loss:  0.7549964189529419\n",
      "t_acc:  0.7150872817955112 , v_acc:  0.7349397590361446\n",
      "t_recall:  0.5415030123394332 , v_recall:  0.5747427175998605\n",
      "t_prec:  0.7386778405871579 , v_prec:  0.7154348919054802\n",
      "t_f:  0.4993002082640315 , v_f:  0.5636798088410991\n",
      "////////\n"
     ]
    },
    {
     "name": "stderr",
     "output_type": "stream",
     "text": [
      "\r",
      "Iterations:  51%|████████████████▋                | 152/300 [02:57<02:49,  1.14s/it]"
     ]
    },
    {
     "name": "stdout",
     "output_type": "stream",
     "text": [
      "Epoch  151 , loss 0.39894533946233635\n",
      "Epoch  152 , loss 0.39931715411298413\n"
     ]
    },
    {
     "name": "stderr",
     "output_type": "stream",
     "text": [
      "\r",
      "Iterations:  51%|████████████████▊                | 153/300 [02:59<02:58,  1.21s/it]"
     ]
    },
    {
     "name": "stdout",
     "output_type": "stream",
     "text": [
      "Epoch:  152\n",
      "t_loss:  0.39931715411298413 , v_loss:  0.759543220202128\n",
      "t_acc:  0.7094763092269327 , v_acc:  0.7289156626506024\n",
      "t_recall:  0.5325963675956871 , v_recall:  0.5586080586080586\n",
      "t_prec:  0.7143761282914465 , v_prec:  0.7153846153846153\n",
      "t_f:  0.4834727505796095 , v_f:  0.5362264853790277\n",
      "////////\n"
     ]
    },
    {
     "name": "stderr",
     "output_type": "stream",
     "text": [
      "\r",
      "Iterations:  51%|████████████████▉                | 154/300 [03:00<02:45,  1.13s/it]"
     ]
    },
    {
     "name": "stdout",
     "output_type": "stream",
     "text": [
      "Epoch  153 , loss 0.40559255258709775\n",
      "Epoch  154 , loss 0.40398304310499455\n"
     ]
    },
    {
     "name": "stderr",
     "output_type": "stream",
     "text": [
      "\r",
      "Iterations:  52%|█████████████████                | 155/300 [03:01<02:54,  1.20s/it]"
     ]
    },
    {
     "name": "stdout",
     "output_type": "stream",
     "text": [
      "Epoch:  154\n",
      "t_loss:  0.40398304310499455 , v_loss:  0.7606467852989832\n",
      "t_acc:  0.7135286783042394 , v_acc:  0.7289156626506024\n",
      "t_recall:  0.5372309298315318 , v_recall:  0.5645386359672074\n",
      "t_prec:  0.7470864810286729 , v_prec:  0.7002164502164502\n",
      "t_f:  0.4903037359950969 , v_f:  0.5481217107253039\n",
      "////////\n"
     ]
    },
    {
     "name": "stderr",
     "output_type": "stream",
     "text": [
      "\r",
      "Iterations:  52%|█████████████████▏               | 156/300 [03:02<02:40,  1.12s/it]"
     ]
    },
    {
     "name": "stdout",
     "output_type": "stream",
     "text": [
      "Epoch  155 , loss 0.39762640992800397\n",
      "Epoch  156 , loss 0.40965381673738066\n"
     ]
    },
    {
     "name": "stderr",
     "output_type": "stream",
     "text": [
      "\r",
      "Iterations:  52%|█████████████████▎               | 157/300 [03:03<02:54,  1.22s/it]"
     ]
    },
    {
     "name": "stdout",
     "output_type": "stream",
     "text": [
      "Epoch:  156\n",
      "t_loss:  0.40965381673738066 , v_loss:  0.7574222733577093\n",
      "t_acc:  0.7104114713216958 , v_acc:  0.7228915662650602\n",
      "t_recall:  0.5321236775332682 , v_recall:  0.5543345543345544\n",
      "t_prec:  0.7346427806341045 , v_prec:  0.6826979472140762\n",
      "t_f:  0.4809382442970788 , v_f:  0.5321078431372548\n",
      "////////\n"
     ]
    },
    {
     "name": "stderr",
     "output_type": "stream",
     "text": [
      "\r",
      "Iterations:  53%|█████████████████▍               | 158/300 [03:04<02:44,  1.16s/it]"
     ]
    },
    {
     "name": "stdout",
     "output_type": "stream",
     "text": [
      "Epoch  157 , loss 0.39726754964566696\n",
      "Epoch  158 , loss 0.3971863108522752\n"
     ]
    },
    {
     "name": "stderr",
     "output_type": "stream",
     "text": [
      "\r",
      "Iterations:  53%|█████████████████▍               | 159/300 [03:06<03:01,  1.28s/it]"
     ]
    },
    {
     "name": "stdout",
     "output_type": "stream",
     "text": [
      "Epoch:  158\n",
      "t_loss:  0.3971863108522752 , v_loss:  0.751974418759346\n",
      "t_acc:  0.713216957605985 , v_acc:  0.7228915662650602\n",
      "t_recall:  0.5387250703536033 , v_recall:  0.5543345543345544\n",
      "t_prec:  0.7298900136292782 , v_prec:  0.6826979472140762\n",
      "t_f:  0.49455778258668537 , v_f:  0.5321078431372548\n",
      "////////\n"
     ]
    },
    {
     "name": "stderr",
     "output_type": "stream",
     "text": [
      "\r",
      "Iterations:  53%|█████████████████▌               | 160/300 [03:07<02:41,  1.15s/it]"
     ]
    },
    {
     "name": "stdout",
     "output_type": "stream",
     "text": [
      "Epoch  159 , loss 0.405487049444049\n",
      "Epoch  160 , loss 0.4000861533716613\n"
     ]
    },
    {
     "name": "stderr",
     "output_type": "stream",
     "text": [
      "\r",
      "Iterations:  54%|█████████████████▋               | 161/300 [03:08<02:50,  1.22s/it]"
     ]
    },
    {
     "name": "stdout",
     "output_type": "stream",
     "text": [
      "Epoch:  160\n",
      "t_loss:  0.4000861533716613 , v_loss:  0.7644372483094534\n",
      "t_acc:  0.7150872817955112 , v_acc:  0.7168674698795181\n",
      "t_recall:  0.5432214686982029 , v_recall:  0.5441304727019013\n",
      "t_prec:  0.7273505200612262 , v_prec:  0.6621794871794872\n",
      "t_f:  0.5035727177238087 , v_f:  0.5156143291736512\n",
      "////////\n"
     ]
    },
    {
     "name": "stderr",
     "output_type": "stream",
     "text": [
      "\r",
      "Iterations:  54%|█████████████████▊               | 162/300 [03:09<02:32,  1.10s/it]"
     ]
    },
    {
     "name": "stdout",
     "output_type": "stream",
     "text": [
      "Epoch  161 , loss 0.40001973626660364\n",
      "Epoch  162 , loss 0.40303550339212607\n"
     ]
    },
    {
     "name": "stderr",
     "output_type": "stream",
     "text": [
      "\r",
      "Iterations:  54%|█████████████████▉               | 163/300 [03:11<02:52,  1.26s/it]"
     ]
    },
    {
     "name": "stdout",
     "output_type": "stream",
     "text": [
      "Epoch:  162\n",
      "t_loss:  0.40303550339212607 , v_loss:  0.7637248287598292\n",
      "t_acc:  0.7129052369077307 , v_acc:  0.7228915662650602\n",
      "t_recall:  0.5370687075512639 , v_recall:  0.5484039769754055\n",
      "t_prec:  0.7373701508304478 , v_prec:  0.6963906581740976\n",
      "t_f:  0.49068858111983193 , v_f:  0.5195066700226529\n",
      "////////\n"
     ]
    },
    {
     "name": "stderr",
     "output_type": "stream",
     "text": [
      "\r",
      "Iterations:  55%|██████████████████               | 164/300 [03:12<02:34,  1.14s/it]"
     ]
    },
    {
     "name": "stdout",
     "output_type": "stream",
     "text": [
      "Epoch  163 , loss 0.39503074802604377\n",
      "Epoch  164 , loss 0.3979811230126549\n"
     ]
    },
    {
     "name": "stderr",
     "output_type": "stream",
     "text": [
      "\r",
      "Iterations:  55%|██████████████████▏              | 165/300 [03:13<02:42,  1.21s/it]"
     ]
    },
    {
     "name": "stdout",
     "output_type": "stream",
     "text": [
      "Epoch:  164\n",
      "t_loss:  0.3979811230126549 , v_loss:  0.760264610250791\n",
      "t_acc:  0.7072942643391521 , v_acc:  0.7228915662650602\n",
      "t_recall:  0.5321717943113138 , v_recall:  0.5543345543345544\n",
      "t_prec:  0.6864714256876641 , v_prec:  0.6826979472140762\n",
      "t_f:  0.48523458106587447 , v_f:  0.5321078431372548\n",
      "////////\n"
     ]
    },
    {
     "name": "stderr",
     "output_type": "stream",
     "text": [
      "\r",
      "Iterations:  55%|██████████████████▎              | 166/300 [03:14<02:33,  1.14s/it]"
     ]
    },
    {
     "name": "stdout",
     "output_type": "stream",
     "text": [
      "Epoch  165 , loss 0.39076124803692686\n",
      "Epoch  166 , loss 0.4000592789813584\n"
     ]
    },
    {
     "name": "stderr",
     "output_type": "stream",
     "text": [
      "\r",
      "Iterations:  56%|██████████████████▎              | 167/300 [03:15<02:39,  1.20s/it]"
     ]
    },
    {
     "name": "stdout",
     "output_type": "stream",
     "text": [
      "Epoch:  166\n",
      "t_loss:  0.4000592789813584 , v_loss:  0.7694007108608881\n",
      "t_acc:  0.7144638403990025 , v_acc:  0.7168674698795181\n",
      "t_recall:  0.5407679712729088 , v_recall:  0.5441304727019013\n",
      "t_prec:  0.7344507253824564 , v_prec:  0.6621794871794872\n",
      "t_f:  0.4982045850873663 , v_f:  0.5156143291736512\n",
      "////////\n"
     ]
    },
    {
     "name": "stderr",
     "output_type": "stream",
     "text": [
      "\r",
      "Iterations:  56%|██████████████████▍              | 168/300 [03:16<02:24,  1.10s/it]"
     ]
    },
    {
     "name": "stdout",
     "output_type": "stream",
     "text": [
      "Epoch  167 , loss 0.39374087955437453\n",
      "Epoch  168 , loss 0.3935321575286342\n"
     ]
    },
    {
     "name": "stderr",
     "output_type": "stream",
     "text": [
      "\r",
      "Iterations:  56%|██████████████████▌              | 169/300 [03:17<02:35,  1.19s/it]"
     ]
    },
    {
     "name": "stdout",
     "output_type": "stream",
     "text": [
      "Epoch:  168\n",
      "t_loss:  0.3935321575286342 , v_loss:  0.7624349594116211\n",
      "t_acc:  0.7160224438902744 , v_acc:  0.7289156626506024\n",
      "t_recall:  0.5441808256014253 , v_recall:  0.5586080586080586\n",
      "t_prec:  0.7340550015051612 , v_prec:  0.7153846153846153\n",
      "t_f:  0.504850955713586 , v_f:  0.5362264853790277\n",
      "////////\n"
     ]
    },
    {
     "name": "stderr",
     "output_type": "stream",
     "text": [
      "\r",
      "Iterations:  57%|██████████████████▋              | 170/300 [03:19<02:27,  1.14s/it]"
     ]
    },
    {
     "name": "stdout",
     "output_type": "stream",
     "text": [
      "Epoch  169 , loss 0.39783673660427915\n"
     ]
    }
   ],
   "source": [
    "from torcheeg.models import EEGNet\n",
    "import Models.model_func as Model_Func\n",
    "from torch import nn\n",
    "from Models.multi_models import *\n",
    "\n",
    "DEVICE= torch.device(\"cuda\") if torch.cuda.is_available() else torch.device(\"cpu\")\n",
    "\n",
    "learning_rate = 0.00005\n",
    "batch_size = 64\n",
    "n_epochs = 300\n",
    "transpose_channels=True\n",
    "participants_dictionary=[]\n",
    "# participants_online_dictionary=[]\n",
    "participants_grads_dictionary={}\n",
    "b_acc_list=[]\n",
    "c0_acc_list=[]\n",
    "c1_acc_list=[]\n",
    "\n",
    "# EPOCH=[\n",
    "    \n",
    "# ]\n",
    "for r in range(5):\n",
    "    for i in range(len(participants)):\n",
    "\n",
    "        train_dataloader, val_dataloader, classes, input_dim, class_ratio= user_fold_load(i,\n",
    "                                                                                          raw_user_fold,\n",
    "                                                                                          participants,\n",
    "                                                                                          batch_size=batch_size,\n",
    "                                                                                          transpose_channels=transpose_channels)\n",
    "\n",
    "        eegnet= EEGNet(\n",
    "            chunk_size=input_dim[1],\n",
    "            num_electrodes=input_dim[0],\n",
    "            num_classes=classes,\n",
    "            kernel_1= 32,\n",
    "            kernel_2=32,\n",
    "            F1=8,\n",
    "            F2=16,\n",
    "            dropout=0.5\n",
    "        ).to(DEVICE)\n",
    "\n",
    "        classifier= LSTM_EEGNet_Wrapper(DEVICE, eegnet, input_dim).to(DEVICE)\n",
    "    #     optimizer= torch.optim.RMSprop(classifier.parameters(), lr=learning_rate)\n",
    "        optimizer = torch.optim.Adam(classifier.parameters(), lr = learning_rate)\n",
    "\n",
    "\n",
    "        criterion= torch.nn.CrossEntropyLoss(weight=torch.tensor(class_ratio, dtype=torch.float).to(DEVICE))\n",
    "    #     criterion = nn.NLLLoss(weight=torch.tensor(class_ratio, dtype=torch.float).to(DEVICE))\n",
    "\n",
    "        scheduler= torch.optim.lr_scheduler.ReduceLROnPlateau(optimizer, patience=2)\n",
    "\n",
    "        saved_dir= f\"./EEG/saved_models/Userfold/run{r}\"\n",
    "        model= EEGNet_IE_EEG_Wrapper(\n",
    "            DEVICE, classifier, input_dim[0]\n",
    "        ).to(DEVICE)\n",
    "\n",
    "        train_func= eeg_grad_train\n",
    "        model.training_procedure(iteration=n_epochs,\n",
    "                                 train_dataloader=train_dataloader,\n",
    "                                 val_dataloader=val_dataloader,\n",
    "                                 print_cycle=2,\n",
    "                                 path=f\"./dictionary/intermdiate_dicts\",\n",
    "                                 loss_func=criterion,\n",
    "                                 optimiser=optimizer, #scheduler=scheduler,\n",
    "                                 train_func=train_func\n",
    "                                )\n",
    "        if model.epoch == n_epochs+1:\n",
    "            EPOCH= n_epochs\n",
    "        else:\n",
    "            EPOCH= model.epoch\n",
    "\n",
    "        torch.save(model.state_dict(), \n",
    "               os.path.join(\n",
    "                   saved_dir, f\"Userfold-{participants[i]}-LSTM_EEGNet-Grad_EEG-e{EPOCH}.pt\"\n",
    "               )\n",
    "        )\n",
    "        pickle.dump(model.return_IE_grad(),\n",
    "                    open(\n",
    "                        os.path.join(\n",
    "                            saved_dir, f\"Userfold-{participants[i]}-LSTM_EEGNet-Grad_EEG-grad_all-e{EPOCH}.pkl\"\n",
    "                        ), \"wb\")\n",
    "        )\n",
    "    # OR\n",
    "    #     model.load_state_dict(\n",
    "    #     torch.load(\n",
    "    #         open(\n",
    "    #             os.path.join(\n",
    "    #                 saved_dir, f\"Userfold-{participants[i]}-EEGNet-IE_Multivariate-e{n_epochs}.pt\"\n",
    "    #             ), \"rb\"\n",
    "    #         )\n",
    "    #               )\n",
    "    #     )\n",
    "    #     model.IE_grad= pickle.load(\n",
    "    #             open(\n",
    "    #                 os.path.join(\n",
    "    #                     saved_dir, f\"Userfold-{participants[i]}-EEGNet-IE_Multivariate-grad_all-e{n_epochs}.pkl\"\n",
    "    #                 ),\"rb\"\n",
    "    #             )\n",
    "    #         )\n",
    "\n",
    "\n",
    "        prediction, dictionary= model.prediction_procedure(val_dataloader, dict_flag=True)\n",
    "\n",
    "        ys= np.concatenate([y.detach().cpu().numpy() for x, y in val_dataloader])\n",
    "\n",
    "        c0_acc, c1_acc, b_acc= calculate_accuracy(ys, prediction)\n",
    "        print(\"c0_acc\", c0_acc, \", c1_acc\", c1_acc, \", b_acc\", b_acc)\n",
    "        b_acc_list.append(b_acc)\n",
    "        c0_acc_list.append(c0_acc)\n",
    "        c1_acc_list.append(c1_acc)\n",
    "    #     participants_grads_dictionary[participants[i]]= model.return_IE_grad()\n",
    "        participants_dictionary.append(dictionary)\n",
    "    \n",
    "   \n",
    "\n",
    "tmp=[]\n",
    "for i, dictionary in enumerate(participants_dictionary):\n",
    "    print(f\"User {participants[i]} f1: {dictionary['weighted avg']['f1-score']} acc: {dictionary['accuracy']}\")\n",
    "    print(f\" c0: {c0_acc_list[i]} c1: {c1_acc_list[i]} bacc: {b_acc_list[i]}\")\n",
    "    tmp.append(dictionary['weighted avg']['f1-score'])\n",
    "\n",
    "print(f\"average {np.mean(tmp)}\")\n",
    "print()\n",
    "print(np.array(b_acc_list).mean())\n",
    "print(np.array(c1_acc_list).mean())\n",
    "print(np.array(c0_acc_list).mean())\n"
   ]
  },
  {
   "cell_type": "code",
   "execution_count": null,
   "id": "eb9de653",
   "metadata": {},
   "outputs": [],
   "source": [
    "userfold_results_summary(participants_dictionary, participants)\n",
    "userfold_classwise_results_summary(participants_dictionary, participants)\n"
   ]
  },
  {
   "cell_type": "code",
   "execution_count": null,
   "id": "f1f87606",
   "metadata": {},
   "outputs": [],
   "source": [
    "participant_grad={\"AUC\":[],\"ROC\":[],\"STD\":[]}\n",
    "for i in range(len(participants)):\n",
    "    g= pickle.load(\n",
    "            open(\n",
    "                os.path.join(\n",
    "                    saved_dir, f\"Userfold-{participants[i]}-LSTM_EEGNet-Grad_EEG-grad_all-e{n_epochs}.pkl\"\n",
    "                ),\"rb\"\n",
    "            )\n",
    "    )\n",
    "    \n",
    "    participant_grad[\"AUC\"].append(\n",
    "        pd.DataFrame(\n",
    "            Grad_AUC_with_grad(\n",
    "                g, n_epochs, np.zeros(len(channel_names)), x_shape=0\n",
    "            ).values()\n",
    "        ).to_numpy().reshape(-1)\n",
    "    )\n",
    "    \n",
    "    participant_grad[\"ROC\"].append(\n",
    "        pd.DataFrame(\n",
    "            Grad_ROC_with_grad(\n",
    "                g, n_epochs, np.zeros(len(channel_names)), x_shape=0\n",
    "            ).values()\n",
    "        ).to_numpy().reshape(-1)\n",
    "    )\n",
    "    \n",
    "    participant_grad[\"STD\"].append(\n",
    "        pd.DataFrame(\n",
    "            Grad_STD_with_grad(\n",
    "                g, n_epochs, np.zeros(len(channel_names)), x_shape=0\n",
    "            ).values()\n",
    "        ).to_numpy().reshape(-1)\n",
    "    )"
   ]
  },
  {
   "cell_type": "code",
   "execution_count": null,
   "id": "4c473d1c",
   "metadata": {},
   "outputs": [],
   "source": [
    "# channel_names=[i for i in range(input_dim[0])]\n",
    "channel_names=[\"AFz\",\"F3\",\"F1\",\"Fz\",\"F2\",\"F4\",\"FC5\",\"FC3\",\"FC1\",\"FCz\",\"FC2\",\n",
    "               \"FC4\",\"FC6\",\"C5\",\"C3\",\"C1\",\"Cz\",\"C2\",\"C4\",\"C6\",\"CP5\",\"CP3\",\n",
    "               \"CP1\",\"CPz\",\"CP2\",\"CP4\",\"CP6\",\"P3\",\"P1\",\"Pz\",\"P2\",\"P4\"]"
   ]
  },
  {
   "cell_type": "code",
   "execution_count": null,
   "id": "aae3953f",
   "metadata": {},
   "outputs": [],
   "source": [
    "from sklearn.preprocessing import MinMaxScaler, RobustScaler, StandardScaler\n",
    "import matplotlib\n",
    "import mne\n",
    "info= mne.create_info(channel_names, sfreq=500, ch_types=32*[\"eeg\"])\n",
    "info.set_montage(\"standard_1020\")\n",
    "\n",
    "fig, ax= plt.subplots(2,3)\n",
    "methods=[\"AUC\", \"ROC\", \"STD\"]\n",
    "for idx, i in enumerate(methods):\n",
    "    scaler= MinMaxScaler()\n",
    "    scaled_avg_grad= scaler.fit_transform(np.array(participant_grad[i]).mean(0).reshape(-1,1))\n",
    "#     scaled_avg_grad= avg_grad[i].sum(1)\n",
    "\n",
    "    minmax_im, _= mne.viz.plot_topomap(\n",
    "        scaled_avg_grad.reshape(-1),\n",
    "        info,\n",
    "        ch_type= \"eeg\",\n",
    "        sensors=True,\n",
    "        names=channel_names,\n",
    "        cmap=\"Blues\",\n",
    "        axes=ax[0][idx],\n",
    "        show=False,\n",
    "        extrapolate=\"local\"\n",
    "        #,vlim=(0,1)\n",
    "    #     sphere=0.09\n",
    "    )\n",
    "    ax[0][idx].set_title(f\"MinMax: {i}\")\n",
    "    \n",
    "for idx, i in enumerate(methods):\n",
    "    scaler= RobustScaler()\n",
    "    scaled_avg_grad= scaler.fit_transform(np.array(participant_grad[i]).mean(0).reshape(-1,1))\n",
    "#     scaled_avg_grad= avg_grad[i].sum(1)\n",
    "\n",
    "    robust_im, _= mne.viz.plot_topomap(\n",
    "        scaled_avg_grad.reshape(-1),\n",
    "        info,\n",
    "        ch_type= \"eeg\",\n",
    "        sensors=True,\n",
    "        names=channel_names,\n",
    "        cmap=\"Blues\",\n",
    "        axes=ax[1][idx],\n",
    "        show=False,\n",
    "        extrapolate=\"local\",\n",
    "#         vlim=(0,None)\n",
    "    #     sphere=0.09\n",
    "    )\n",
    "    ax[1][idx].set_title(f\"Robust: {i}\")\n",
    "    \n",
    "fig.set_figheight(25)\n",
    "fig.set_figwidth(25)\n",
    "# fig.add_axes(ax)\n",
    "cbar_ax= fig.add_axes([.92,0.66, 0.02,0.18])\n",
    "clb= fig.colorbar(minmax_im, cax=cbar_ax)\n",
    "clb.set_label(\"Importance Estimate\", rotation=270,labelpad=20, fontsize=18)\n",
    "\n",
    "cbar_ax= fig.add_axes([.92,0.22, 0.02,0.18])\n",
    "clb= fig.colorbar(robust_im, cax=cbar_ax)\n",
    "clb.set_label(\"Importance Estimate\", rotation=270,labelpad=20, fontsize=18)\n",
    "\n",
    "for tt in plt.findobj(fig, matplotlib.text.Text):\n",
    "    if tt.get_text() in channel_names:\n",
    "        tt.set_fontsize(14)\n",
    "# plt.tight_layout()"
   ]
  },
  {
   "cell_type": "code",
   "execution_count": null,
   "id": "7c7b834b",
   "metadata": {},
   "outputs": [],
   "source": []
  }
 ],
 "metadata": {
  "kernelspec": {
   "display_name": "Python [conda env:pytorch]",
   "language": "python",
   "name": "conda-env-pytorch-py"
  },
  "language_info": {
   "codemirror_mode": {
    "name": "ipython",
    "version": 3
   },
   "file_extension": ".py",
   "mimetype": "text/x-python",
   "name": "python",
   "nbconvert_exporter": "python",
   "pygments_lexer": "ipython3",
   "version": "3.7.10"
  }
 },
 "nbformat": 4,
 "nbformat_minor": 5
}
