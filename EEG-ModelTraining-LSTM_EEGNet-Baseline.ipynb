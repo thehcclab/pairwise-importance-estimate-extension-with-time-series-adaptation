{
 "cells": [
  {
   "cell_type": "code",
   "execution_count": 1,
   "id": "4c9e593e",
   "metadata": {},
   "outputs": [],
   "source": [
    "import numpy as np\n",
    "import pickle\n",
    "import sys\n",
    "from typing import List\n",
    "import torch\n",
    "import os"
   ]
  },
  {
   "cell_type": "code",
   "execution_count": 2,
   "id": "eb96ce98",
   "metadata": {},
   "outputs": [],
   "source": [
    "participant_data_path = './EEG/number'\n",
    "processed_data_path = './EEG/processed_data'\n",
    "split_data_path = './EEG/split_data'"
   ]
  },
  {
   "cell_type": "code",
   "execution_count": 3,
   "id": "62c74d3a",
   "metadata": {},
   "outputs": [],
   "source": [
    "ps = os.listdir(participant_data_path)\n",
    "participants=[]\n",
    "for p in ps:\n",
    "    p= p[:3]\n",
    "    if p not in participants:\n",
    "        participants.append(p)\n",
    "        \n",
    "participants= sorted(participants)\n",
    "# participants, len(participants)"
   ]
  },
  {
   "cell_type": "code",
   "execution_count": 4,
   "id": "28f3009e",
   "metadata": {
    "scrolled": true
   },
   "outputs": [],
   "source": [
    "load_name=f\"userfold_data_scaled_p_dictionary-number\"\n",
    "data_dir = \"./EEG/split_data/standard_scaled\"\n",
    "try:\n",
    "    raw_user_fold= pickle.load(open(os.path.join(data_dir, f\"{load_name}.pkl\"), \"rb\"))\n",
    "except:\n",
    "    print(f\"pickle file does not exist. Use EEG-Preprocess.ipynb and EEG-Split.ipynb to save data setting.\")\n",
    "    sys.exit()"
   ]
  },
  {
   "cell_type": "code",
   "execution_count": 5,
   "id": "bfda351f",
   "metadata": {},
   "outputs": [
    {
     "data": {
      "text/plain": [
       "array([0, 1])"
      ]
     },
     "execution_count": 5,
     "metadata": {},
     "output_type": "execute_result"
    }
   ],
   "source": [
    "np.array([1,2])-1"
   ]
  },
  {
   "cell_type": "code",
   "execution_count": 15,
   "id": "082a80ac",
   "metadata": {
    "scrolled": true
   },
   "outputs": [
    {
     "name": "stdout",
     "output_type": "stream",
     "text": [
      "108 16\n",
      "\n",
      "c0_acc 0.972972972972973 , c1_acc 0.32 , b_acc 0.6464864864864865\n",
      "111 11\n",
      "\n",
      "c0_acc 0.9652173913043478 , c1_acc 0.20754716981132076 , b_acc 0.5863822805578343\n",
      "110 13\n",
      "\n",
      "c0_acc 0.8943089430894309 , c1_acc 0.24528301886792453 , b_acc 0.5697959809786777\n",
      "125 11\n",
      "\n",
      "c0_acc 0.9541984732824428 , c1_acc 0.19642857142857142 , b_acc 0.5753135223555071\n",
      "111 7\n",
      "\n",
      "c0_acc 0.9487179487179487 , c1_acc 0.14285714285714285 , b_acc 0.5457875457875457\n",
      "116 6\n",
      "\n",
      "c0_acc 0.928 , c1_acc 0.12 , b_acc 0.524\n",
      "109 19\n",
      "\n",
      "c0_acc 0.872 , c1_acc 0.3392857142857143 , b_acc 0.6056428571428571\n",
      "121 8\n",
      "\n",
      "c0_acc 0.9603174603174603 , c1_acc 0.13559322033898305 , b_acc 0.5479553403282217\n",
      "126 18\n",
      "\n",
      "c0_acc 0.9473684210526315 , c1_acc 0.32727272727272727 , b_acc 0.6373205741626794\n",
      "125 18\n",
      "\n",
      "c0_acc 0.9689922480620154 , c1_acc 0.3050847457627119 , b_acc 0.6370384969123637\n",
      "112 9\n",
      "\n",
      "c0_acc 0.9411764705882353 , c1_acc 0.1875 , b_acc 0.5643382352941176\n",
      "116 27\n",
      "\n",
      "c0_acc 0.9508196721311475 , c1_acc 0.5 , b_acc 0.7254098360655737\n",
      "118 16\n",
      "\n",
      "c0_acc 0.959349593495935 , c1_acc 0.2857142857142857 , b_acc 0.6225319396051103\n",
      "117 9\n",
      "\n",
      "c0_acc 0.936 , c1_acc 0.16071428571428573 , b_acc 0.5483571428571429\n",
      "117 8\n",
      "\n",
      "c0_acc 0.9212598425196851 , c1_acc 0.14285714285714285 , b_acc 0.532058492688414\n"
     ]
    },
    {
     "name": "stderr",
     "output_type": "stream",
     "text": [
      "\r",
      "Iterations:   0%|                                       | 0/300 [00:00<?, ?it/s]"
     ]
    },
    {
     "name": "stdout",
     "output_type": "stream",
     "text": [
      "Epoch  0 , loss 0.7070586991310119\n"
     ]
    },
    {
     "name": "stderr",
     "output_type": "stream",
     "text": [
      "\r",
      "Iterations:   0%|                               | 1/300 [00:00<04:19,  1.15it/s]"
     ]
    },
    {
     "name": "stdout",
     "output_type": "stream",
     "text": [
      "Epoch:  0\n",
      "t_loss:  0.7070586991310119 , v_loss:  0.695189893245697\n",
      "t_acc:  0.5017235976183014 , v_acc:  0.3005464480874317\n",
      "t_recall:  0.5051338807866498 , v_recall:  0.5\n",
      "t_prec:  0.5043531678583412 , v_prec:  0.15027322404371585\n",
      "t_f:  0.48339829431601583 , v_f:  0.2310924369747899\n",
      "////////\n"
     ]
    },
    {
     "name": "stderr",
     "output_type": "stream",
     "text": [
      "\r",
      "Iterations:   1%|▏                              | 2/300 [00:01<03:28,  1.43it/s]"
     ]
    },
    {
     "name": "stdout",
     "output_type": "stream",
     "text": [
      "Epoch  1 , loss 0.6557138526439666\n",
      "Epoch  2 , loss 0.6173418939113617\n"
     ]
    },
    {
     "name": "stderr",
     "output_type": "stream",
     "text": [
      "\r",
      "Iterations:   1%|▎                              | 3/300 [00:02<03:50,  1.29it/s]"
     ]
    },
    {
     "name": "stdout",
     "output_type": "stream",
     "text": [
      "Epoch:  2\n",
      "t_loss:  0.6173418939113617 , v_loss:  0.6893916527430216\n",
      "t_acc:  0.6261360075211533 , v_acc:  0.6994535519125683\n",
      "t_recall:  0.49828785689727234 , v_recall:  0.5\n",
      "t_prec:  0.4974634935279613 , v_prec:  0.34972677595628415\n",
      "t_f:  0.48604002335652113 , v_f:  0.4115755627009647\n",
      "////////\n"
     ]
    },
    {
     "name": "stderr",
     "output_type": "stream",
     "text": [
      "\r",
      "Iterations:   1%|▍                              | 4/300 [00:02<03:29,  1.42it/s]"
     ]
    },
    {
     "name": "stdout",
     "output_type": "stream",
     "text": [
      "Epoch  3 , loss 0.5829337525367737\n",
      "Epoch  4 , loss 0.5484722453355789\n"
     ]
    },
    {
     "name": "stderr",
     "output_type": "stream",
     "text": [
      "\r",
      "Iterations:   2%|▌                              | 5/300 [00:03<03:42,  1.33it/s]"
     ]
    },
    {
     "name": "stdout",
     "output_type": "stream",
     "text": [
      "Epoch:  4\n",
      "t_loss:  0.5484722453355789 , v_loss:  0.6751477320988973\n",
      "t_acc:  0.6844249451582576 , v_acc:  0.6994535519125683\n",
      "t_recall:  0.5056039671676288 , v_recall:  0.5\n",
      "t_prec:  0.5313161915119501 , v_prec:  0.34972677595628415\n",
      "t_f:  0.44655053541868717 , v_f:  0.4115755627009647\n",
      "////////\n"
     ]
    },
    {
     "name": "stderr",
     "output_type": "stream",
     "text": [
      "\r",
      "Iterations:   2%|▌                              | 6/300 [00:04<03:24,  1.44it/s]"
     ]
    },
    {
     "name": "stdout",
     "output_type": "stream",
     "text": [
      "Epoch  5 , loss 0.5239278018474579\n",
      "Epoch  6 , loss 0.5039093029499054\n"
     ]
    },
    {
     "name": "stderr",
     "output_type": "stream",
     "text": [
      "\r",
      "Iterations:   2%|▋                              | 7/300 [00:05<03:42,  1.32it/s]"
     ]
    },
    {
     "name": "stdout",
     "output_type": "stream",
     "text": [
      "Epoch:  6\n",
      "t_loss:  0.5039093029499054 , v_loss:  0.6487089395523071\n",
      "t_acc:  0.6913193356314635 , v_acc:  0.6994535519125683\n",
      "t_recall:  0.4993139843400302 , v_recall:  0.5\n",
      "t_prec:  0.4820087495442945 , v_prec:  0.34972677595628415\n",
      "t_f:  0.41551527377275105 , v_f:  0.4115755627009647\n",
      "////////\n"
     ]
    },
    {
     "name": "stderr",
     "output_type": "stream",
     "text": [
      "\r",
      "Iterations:   3%|▊                              | 8/300 [00:05<03:26,  1.41it/s]"
     ]
    },
    {
     "name": "stdout",
     "output_type": "stream",
     "text": [
      "Epoch  7 , loss 0.48930763959884643\n",
      "Epoch  8 , loss 0.47897865414619445\n"
     ]
    },
    {
     "name": "stderr",
     "output_type": "stream",
     "text": [
      "\r",
      "Iterations:   3%|▉                              | 9/300 [00:06<03:42,  1.31it/s]"
     ]
    },
    {
     "name": "stdout",
     "output_type": "stream",
     "text": [
      "Epoch:  8\n",
      "t_loss:  0.47897865414619445 , v_loss:  0.6356687943140665\n",
      "t_acc:  0.694139768097775 , v_acc:  0.6994535519125683\n",
      "t_recall:  0.49932371505861134 , v_recall:  0.5\n",
      "t_prec:  0.347396486825596 , v_prec:  0.34972677595628415\n",
      "t_f:  0.4097299297077322 , v_f:  0.4115755627009647\n",
      "////////\n"
     ]
    },
    {
     "name": "stderr",
     "output_type": "stream",
     "text": [
      "\r",
      "Iterations:   3%|█                             | 10/300 [00:07<03:27,  1.40it/s]"
     ]
    },
    {
     "name": "stdout",
     "output_type": "stream",
     "text": [
      "Epoch  9 , loss 0.47108304500579834\n",
      "Epoch  10 , loss 0.46762000501155854\n"
     ]
    },
    {
     "name": "stderr",
     "output_type": "stream",
     "text": [
      "\r",
      "Iterations:   4%|█                             | 11/300 [00:08<03:43,  1.29it/s]"
     ]
    },
    {
     "name": "stdout",
     "output_type": "stream",
     "text": [
      "Epoch:  10\n",
      "t_loss:  0.46762000501155854 , v_loss:  0.6489722430706024\n",
      "t_acc:  0.6947665308680664 , v_acc:  0.6994535519125683\n",
      "t_recall:  0.49977457168620376 , v_recall:  0.5\n",
      "t_prec:  0.3474921630094044 , v_prec:  0.34972677595628415\n",
      "t_f:  0.409948224852071 , v_f:  0.4115755627009647\n",
      "////////\n"
     ]
    },
    {
     "name": "stderr",
     "output_type": "stream",
     "text": [
      "\r",
      "Iterations:   4%|█▏                            | 12/300 [00:08<03:29,  1.37it/s]"
     ]
    },
    {
     "name": "stdout",
     "output_type": "stream",
     "text": [
      "Epoch  11 , loss 0.46547461867332457\n",
      "Epoch  12 , loss 0.46115347623825076\n"
     ]
    },
    {
     "name": "stderr",
     "output_type": "stream",
     "text": [
      "\r",
      "Iterations:   4%|█▎                            | 13/300 [00:09<03:42,  1.29it/s]"
     ]
    },
    {
     "name": "stdout",
     "output_type": "stream",
     "text": [
      "Epoch:  12\n",
      "t_loss:  0.46115347623825076 , v_loss:  0.6494015753269196\n",
      "t_acc:  0.6947665308680664 , v_acc:  0.6994535519125683\n",
      "t_recall:  0.49977457168620376 , v_recall:  0.5\n",
      "t_prec:  0.3474921630094044 , v_prec:  0.34972677595628415\n",
      "t_f:  0.409948224852071 , v_f:  0.4115755627009647\n",
      "////////\n"
     ]
    },
    {
     "name": "stderr",
     "output_type": "stream",
     "text": [
      "\r",
      "Iterations:   5%|█▍                            | 14/300 [00:10<03:28,  1.37it/s]"
     ]
    },
    {
     "name": "stdout",
     "output_type": "stream",
     "text": [
      "Epoch  13 , loss 0.4578155326843262\n",
      "Epoch  14 , loss 0.4559949648380279\n"
     ]
    },
    {
     "name": "stderr",
     "output_type": "stream",
     "text": [
      "\r",
      "Iterations:   5%|█▌                            | 15/300 [00:11<03:41,  1.28it/s]"
     ]
    },
    {
     "name": "stdout",
     "output_type": "stream",
     "text": [
      "Epoch:  14\n",
      "t_loss:  0.4559949648380279 , v_loss:  0.663990318775177\n",
      "t_acc:  0.6950799122532122 , v_acc:  0.6994535519125683\n",
      "t_recall:  0.5 , v_recall:  0.5\n",
      "t_prec:  0.3475399561266061 , v_prec:  0.34972677595628415\n",
      "t_f:  0.41005731188759476 , v_f:  0.4115755627009647\n",
      "////////\n"
     ]
    },
    {
     "name": "stderr",
     "output_type": "stream",
     "text": [
      "\r",
      "Iterations:   5%|█▌                            | 16/300 [00:11<03:28,  1.36it/s]"
     ]
    },
    {
     "name": "stdout",
     "output_type": "stream",
     "text": [
      "Epoch  15 , loss 0.4572102838754654\n",
      "Epoch  16 , loss 0.45802118360996247\n"
     ]
    },
    {
     "name": "stderr",
     "output_type": "stream",
     "text": [
      "\r",
      "Iterations:   6%|█▋                            | 17/300 [00:12<03:43,  1.26it/s]"
     ]
    },
    {
     "name": "stdout",
     "output_type": "stream",
     "text": [
      "Epoch:  16\n",
      "t_loss:  0.45802118360996247 , v_loss:  0.6677834093570709\n",
      "t_acc:  0.6947665308680664 , v_acc:  0.6994535519125683\n",
      "t_recall:  0.49977457168620376 , v_recall:  0.5\n",
      "t_prec:  0.3474921630094044 , v_prec:  0.34972677595628415\n",
      "t_f:  0.409948224852071 , v_f:  0.4115755627009647\n",
      "////////\n"
     ]
    },
    {
     "name": "stderr",
     "output_type": "stream",
     "text": [
      "\r",
      "Iterations:   6%|█▊                            | 18/300 [00:13<03:28,  1.36it/s]"
     ]
    },
    {
     "name": "stdout",
     "output_type": "stream",
     "text": [
      "Epoch  17 , loss 0.45253814935684206\n",
      "Epoch  18 , loss 0.4505714780092239\n"
     ]
    },
    {
     "name": "stderr",
     "output_type": "stream",
     "text": [
      "\r",
      "Iterations:   6%|█▉                            | 19/300 [00:14<03:41,  1.27it/s]"
     ]
    },
    {
     "name": "stdout",
     "output_type": "stream",
     "text": [
      "Epoch:  18\n",
      "t_loss:  0.4505714780092239 , v_loss:  0.6667461742957433\n",
      "t_acc:  0.6950799122532122 , v_acc:  0.6994535519125683\n",
      "t_recall:  0.5 , v_recall:  0.5\n",
      "t_prec:  0.3475399561266061 , v_prec:  0.34972677595628415\n",
      "t_f:  0.41005731188759476 , v_f:  0.4115755627009647\n",
      "////////\n"
     ]
    },
    {
     "name": "stderr",
     "output_type": "stream",
     "text": [
      "\r",
      "Iterations:   7%|██                            | 20/300 [00:14<03:25,  1.36it/s]"
     ]
    },
    {
     "name": "stdout",
     "output_type": "stream",
     "text": [
      "Epoch  19 , loss 0.4510133928060532\n",
      "Epoch  20 , loss 0.45086587965488434\n"
     ]
    },
    {
     "name": "stderr",
     "output_type": "stream",
     "text": [
      "\r",
      "Iterations:   7%|██                            | 21/300 [00:15<03:39,  1.27it/s]"
     ]
    },
    {
     "name": "stdout",
     "output_type": "stream",
     "text": [
      "Epoch:  20\n",
      "t_loss:  0.45086587965488434 , v_loss:  0.6667388329903284\n",
      "t_acc:  0.6950799122532122 , v_acc:  0.6994535519125683\n",
      "t_recall:  0.5 , v_recall:  0.5\n",
      "t_prec:  0.3475399561266061 , v_prec:  0.34972677595628415\n",
      "t_f:  0.41005731188759476 , v_f:  0.4115755627009647\n",
      "////////\n"
     ]
    },
    {
     "name": "stderr",
     "output_type": "stream",
     "text": [
      "\r",
      "Iterations:   7%|██▏                           | 22/300 [00:16<03:22,  1.37it/s]"
     ]
    },
    {
     "name": "stdout",
     "output_type": "stream",
     "text": [
      "Epoch  21 , loss 0.45465503334999086\n",
      "Epoch  22 , loss 0.44634912848472597\n"
     ]
    },
    {
     "name": "stderr",
     "output_type": "stream",
     "text": [
      "\r",
      "Iterations:   8%|██▎                           | 23/300 [00:17<03:32,  1.30it/s]"
     ]
    },
    {
     "name": "stdout",
     "output_type": "stream",
     "text": [
      "Epoch:  22\n",
      "t_loss:  0.44634912848472597 , v_loss:  0.6679792404174805\n",
      "t_acc:  0.6953932936383579 , v_acc:  0.6994535519125683\n",
      "t_recall:  0.5005138746145941 , v_recall:  0.5\n",
      "t_prec:  0.8476489028213166 , v_prec:  0.34972677595628415\n",
      "t_f:  0.4111598301398491 , v_f:  0.4115755627009647\n",
      "////////\n"
     ]
    },
    {
     "name": "stderr",
     "output_type": "stream",
     "text": [
      "\r",
      "Iterations:   8%|██▍                           | 24/300 [00:17<03:18,  1.39it/s]"
     ]
    },
    {
     "name": "stdout",
     "output_type": "stream",
     "text": [
      "Epoch  23 , loss 0.4515475237369537\n",
      "Epoch  24 , loss 0.44629876911640165\n"
     ]
    },
    {
     "name": "stderr",
     "output_type": "stream",
     "text": [
      "\r",
      "Iterations:   8%|██▌                           | 25/300 [00:18<03:31,  1.30it/s]"
     ]
    },
    {
     "name": "stdout",
     "output_type": "stream",
     "text": [
      "Epoch:  24\n",
      "t_loss:  0.44629876911640165 , v_loss:  0.6674129168192545\n",
      "t_acc:  0.6950799122532122 , v_acc:  0.6994535519125683\n",
      "t_recall:  0.5 , v_recall:  0.5\n",
      "t_prec:  0.3475399561266061 , v_prec:  0.34972677595628415\n",
      "t_f:  0.41005731188759476 , v_f:  0.4115755627009647\n",
      "////////\n"
     ]
    },
    {
     "name": "stderr",
     "output_type": "stream",
     "text": [
      "\r",
      "Iterations:   9%|██▌                           | 26/300 [00:19<03:18,  1.38it/s]"
     ]
    },
    {
     "name": "stdout",
     "output_type": "stream",
     "text": [
      "Epoch  25 , loss 0.45183875143527985\n",
      "Epoch  26 , loss 0.4513707882165909\n"
     ]
    },
    {
     "name": "stderr",
     "output_type": "stream",
     "text": [
      "\r",
      "Iterations:   9%|██▋                           | 27/300 [00:20<03:30,  1.29it/s]"
     ]
    },
    {
     "name": "stdout",
     "output_type": "stream",
     "text": [
      "Epoch:  26\n",
      "t_loss:  0.4513707882165909 , v_loss:  0.6650376816590627\n",
      "t_acc:  0.6950799122532122 , v_acc:  0.6994535519125683\n",
      "t_recall:  0.5 , v_recall:  0.5\n",
      "t_prec:  0.3475399561266061 , v_prec:  0.34972677595628415\n",
      "t_f:  0.41005731188759476 , v_f:  0.4115755627009647\n",
      "////////\n"
     ]
    },
    {
     "name": "stderr",
     "output_type": "stream",
     "text": [
      "\r",
      "Iterations:   9%|██▊                           | 28/300 [00:20<03:18,  1.37it/s]"
     ]
    },
    {
     "name": "stdout",
     "output_type": "stream",
     "text": [
      "Epoch  27 , loss 0.4422852027416229\n",
      "Epoch  28 , loss 0.4443913012742996\n"
     ]
    },
    {
     "name": "stderr",
     "output_type": "stream",
     "text": [
      "\r",
      "Iterations:  10%|██▉                           | 29/300 [00:21<03:31,  1.28it/s]"
     ]
    },
    {
     "name": "stdout",
     "output_type": "stream",
     "text": [
      "Epoch:  28\n",
      "t_loss:  0.4443913012742996 , v_loss:  0.6637396017710367\n",
      "t_acc:  0.6950799122532122 , v_acc:  0.6994535519125683\n",
      "t_recall:  0.5002884463007978 , v_recall:  0.5\n",
      "t_prec:  0.5976011288805267 , v_prec:  0.34972677595628415\n",
      "t_f:  0.4110496839329833 , v_f:  0.4115755627009647\n",
      "////////\n"
     ]
    },
    {
     "name": "stderr",
     "output_type": "stream",
     "text": [
      "\r",
      "Iterations:  10%|███                           | 30/300 [00:22<03:17,  1.36it/s]"
     ]
    },
    {
     "name": "stdout",
     "output_type": "stream",
     "text": [
      "Epoch  29 , loss 0.4427728670835495\n",
      "Epoch  30 , loss 0.4441452211141586\n"
     ]
    },
    {
     "name": "stderr",
     "output_type": "stream",
     "text": [
      "\r",
      "Iterations:  10%|███                           | 31/300 [00:23<03:30,  1.28it/s]"
     ]
    },
    {
     "name": "stdout",
     "output_type": "stream",
     "text": [
      "Epoch:  30\n",
      "t_loss:  0.4441452211141586 , v_loss:  0.6654442151387533\n",
      "t_acc:  0.6950799122532122 , v_acc:  0.6994535519125683\n",
      "t_recall:  0.5 , v_recall:  0.5\n",
      "t_prec:  0.3475399561266061 , v_prec:  0.34972677595628415\n",
      "t_f:  0.41005731188759476 , v_f:  0.4115755627009647\n",
      "////////\n"
     ]
    },
    {
     "name": "stderr",
     "output_type": "stream",
     "text": [
      "\r",
      "Iterations:  11%|███▏                          | 32/300 [00:23<03:16,  1.36it/s]"
     ]
    },
    {
     "name": "stdout",
     "output_type": "stream",
     "text": [
      "Epoch  31 , loss 0.44554919183254243\n",
      "Epoch  32 , loss 0.4387661552429199\n"
     ]
    },
    {
     "name": "stderr",
     "output_type": "stream",
     "text": [
      "\r",
      "Iterations:  11%|███▎                          | 33/300 [00:24<03:30,  1.27it/s]"
     ]
    },
    {
     "name": "stdout",
     "output_type": "stream",
     "text": [
      "Epoch:  32\n",
      "t_loss:  0.4387661552429199 , v_loss:  0.6623288889726003\n",
      "t_acc:  0.6947665308680664 , v_acc:  0.6994535519125683\n",
      "t_recall:  0.49977457168620376 , v_recall:  0.5\n",
      "t_prec:  0.3474921630094044 , v_prec:  0.34972677595628415\n",
      "t_f:  0.409948224852071 , v_f:  0.4115755627009647\n",
      "////////\n"
     ]
    },
    {
     "name": "stderr",
     "output_type": "stream",
     "text": [
      "\r",
      "Iterations:  11%|███▍                          | 34/300 [00:25<03:15,  1.36it/s]"
     ]
    },
    {
     "name": "stdout",
     "output_type": "stream",
     "text": [
      "Epoch  33 , loss 0.44022558569908143\n",
      "Epoch  34 , loss 0.44072060465812685\n"
     ]
    },
    {
     "name": "stderr",
     "output_type": "stream",
     "text": [
      "\r",
      "Iterations:  12%|███▌                          | 35/300 [00:26<03:27,  1.28it/s]"
     ]
    },
    {
     "name": "stdout",
     "output_type": "stream",
     "text": [
      "Epoch:  34\n",
      "t_loss:  0.44072060465812685 , v_loss:  0.6665799468755722\n",
      "t_acc:  0.6950799122532122 , v_acc:  0.6994535519125683\n",
      "t_recall:  0.5 , v_recall:  0.5\n",
      "t_prec:  0.3475399561266061 , v_prec:  0.34972677595628415\n",
      "t_f:  0.41005731188759476 , v_f:  0.4115755627009647\n",
      "////////\n"
     ]
    },
    {
     "name": "stderr",
     "output_type": "stream",
     "text": [
      "\r",
      "Iterations:  12%|███▌                          | 36/300 [00:27<03:14,  1.36it/s]"
     ]
    },
    {
     "name": "stdout",
     "output_type": "stream",
     "text": [
      "Epoch  35 , loss 0.43814477682113645\n",
      "Epoch  36 , loss 0.4373101955652237\n"
     ]
    },
    {
     "name": "stderr",
     "output_type": "stream",
     "text": [
      "\r",
      "Iterations:  12%|███▋                          | 37/300 [00:27<03:26,  1.27it/s]"
     ]
    },
    {
     "name": "stdout",
     "output_type": "stream",
     "text": [
      "Epoch:  36\n",
      "t_loss:  0.4373101955652237 , v_loss:  0.6587718377510706\n",
      "t_acc:  0.6947665308680664 , v_acc:  0.6994535519125683\n",
      "t_recall:  0.5006399105885972 , v_recall:  0.5\n",
      "t_prec:  0.5619615936826992 , v_prec:  0.34972677595628415\n",
      "t_f:  0.4129094288585482 , v_f:  0.4115755627009647\n",
      "////////\n"
     ]
    },
    {
     "name": "stderr",
     "output_type": "stream",
     "text": [
      "\r",
      "Iterations:  13%|███▊                          | 38/300 [00:28<03:11,  1.37it/s]"
     ]
    },
    {
     "name": "stdout",
     "output_type": "stream",
     "text": [
      "Epoch  37 , loss 0.43612243473529816\n",
      "Epoch  38 , loss 0.4305018186569214\n"
     ]
    },
    {
     "name": "stderr",
     "output_type": "stream",
     "text": [
      "\r",
      "Iterations:  13%|███▉                          | 39/300 [00:29<03:25,  1.27it/s]"
     ]
    },
    {
     "name": "stdout",
     "output_type": "stream",
     "text": [
      "Epoch:  38\n",
      "t_loss:  0.4305018186569214 , v_loss:  0.6569283058245977\n",
      "t_acc:  0.6957066750235036 , v_acc:  0.6994535519125683\n",
      "t_recall:  0.5013161955299859 , v_recall:  0.5\n",
      "t_prec:  0.7228192657671791 , v_prec:  0.34972677595628415\n",
      "t_f:  0.41324638754252524 , v_f:  0.4115755627009647\n",
      "////////\n"
     ]
    },
    {
     "name": "stderr",
     "output_type": "stream",
     "text": [
      "\r",
      "Iterations:  13%|████                          | 40/300 [00:30<03:10,  1.36it/s]"
     ]
    },
    {
     "name": "stdout",
     "output_type": "stream",
     "text": [
      "Epoch  39 , loss 0.435081490278244\n",
      "Epoch  40 , loss 0.4306423020362854\n"
     ]
    },
    {
     "name": "stderr",
     "output_type": "stream",
     "text": [
      "\r",
      "Iterations:  14%|████                          | 41/300 [00:30<03:22,  1.28it/s]"
     ]
    },
    {
     "name": "stdout",
     "output_type": "stream",
     "text": [
      "Epoch:  40\n",
      "t_loss:  0.4306423020362854 , v_loss:  0.6548640678326288\n",
      "t_acc:  0.6960200564086493 , v_acc:  0.6994535519125683\n",
      "t_recall:  0.5026954090469734 , v_recall:  0.5\n",
      "t_prec:  0.6662950257289879 , v_prec:  0.34972677595628415\n",
      "t_f:  0.41726572925232774 , v_f:  0.4115755627009647\n",
      "////////\n"
     ]
    },
    {
     "name": "stderr",
     "output_type": "stream",
     "text": [
      "\r",
      "Iterations:  14%|████▏                         | 42/300 [00:31<03:07,  1.38it/s]"
     ]
    },
    {
     "name": "stdout",
     "output_type": "stream",
     "text": [
      "Epoch  41 , loss 0.431084805727005\n",
      "Epoch  42 , loss 0.4317653423547745\n"
     ]
    },
    {
     "name": "stderr",
     "output_type": "stream",
     "text": [
      "\r",
      "Iterations:  14%|████▎                         | 43/300 [00:32<03:17,  1.30it/s]"
     ]
    },
    {
     "name": "stdout",
     "output_type": "stream",
     "text": [
      "Epoch:  42\n",
      "t_loss:  0.4317653423547745 , v_loss:  0.6568803191184998\n",
      "t_acc:  0.6957066750235036 , v_acc:  0.6994535519125683\n",
      "t_recall:  0.502758427033975 , v_recall:  0.5\n",
      "t_prec:  0.6338414497054723 , v_prec:  0.34972677595628415\n",
      "t_f:  0.41811463764809065 , v_f:  0.4115755627009647\n",
      "////////\n"
     ]
    },
    {
     "name": "stderr",
     "output_type": "stream",
     "text": [
      "\r",
      "Iterations:  15%|████▍                         | 44/300 [00:33<03:05,  1.38it/s]"
     ]
    },
    {
     "name": "stdout",
     "output_type": "stream",
     "text": [
      "Epoch  43 , loss 0.42999045968055727\n",
      "Epoch  44 , loss 0.43622220158576963\n"
     ]
    },
    {
     "name": "stderr",
     "output_type": "stream",
     "text": [
      "\r",
      "Iterations:  15%|████▌                         | 45/300 [00:33<03:19,  1.28it/s]"
     ]
    },
    {
     "name": "stdout",
     "output_type": "stream",
     "text": [
      "Epoch:  44\n",
      "t_loss:  0.43622220158576963 , v_loss:  0.6565708070993423\n",
      "t_acc:  0.6953932936383579 , v_acc:  0.6994535519125683\n",
      "t_recall:  0.5031098913217744 , v_recall:  0.5\n",
      "t_prec:  0.6113609212185571 , v_prec:  0.34972677595628415\n",
      "t_f:  0.4199136692800287 , v_f:  0.4115755627009647\n",
      "////////\n"
     ]
    },
    {
     "name": "stderr",
     "output_type": "stream",
     "text": [
      "\r",
      "Iterations:  15%|████▌                         | 46/300 [00:34<03:07,  1.36it/s]"
     ]
    },
    {
     "name": "stdout",
     "output_type": "stream",
     "text": [
      "Epoch  45 , loss 0.4290644365549088\n",
      "Epoch  46 , loss 0.43246122360229494\n"
     ]
    },
    {
     "name": "stderr",
     "output_type": "stream",
     "text": [
      "\r",
      "Iterations:  16%|████▋                         | 47/300 [00:35<03:19,  1.27it/s]"
     ]
    },
    {
     "name": "stdout",
     "output_type": "stream",
     "text": [
      "Epoch:  46\n",
      "t_loss:  0.43246122360229494 , v_loss:  0.6542717814445496\n",
      "t_acc:  0.6953932936383579 , v_acc:  0.6994535519125683\n",
      "t_recall:  0.502244552419381 , v_recall:  0.5\n",
      "t_prec:  0.6172483903761437 , v_prec:  0.34972677595628415\n",
      "t_f:  0.41703267539474065 , v_f:  0.4115755627009647\n",
      "////////\n"
     ]
    },
    {
     "name": "stderr",
     "output_type": "stream",
     "text": [
      "\r",
      "Iterations:  16%|████▊                         | 48/300 [00:36<03:05,  1.36it/s]"
     ]
    },
    {
     "name": "stdout",
     "output_type": "stream",
     "text": [
      "Epoch  47 , loss 0.42943493008613587\n",
      "Epoch  48 , loss 0.4200960826873779\n"
     ]
    },
    {
     "name": "stderr",
     "output_type": "stream",
     "text": [
      "\r",
      "Iterations:  16%|████▉                         | 49/300 [00:36<03:17,  1.27it/s]"
     ]
    },
    {
     "name": "stdout",
     "output_type": "stream",
     "text": [
      "Epoch:  48\n",
      "t_loss:  0.4200960826873779 , v_loss:  0.6545393516620001\n",
      "t_acc:  0.6979003447195237 , v_acc:  0.6994535519125683\n",
      "t_recall:  0.5060671030353354 , v_recall:  0.5\n",
      "t_prec:  0.7172545961372536 , v_prec:  0.34972677595628415\n",
      "t_f:  0.4246880423723741 , v_f:  0.4115755627009647\n",
      "////////\n"
     ]
    },
    {
     "name": "stderr",
     "output_type": "stream",
     "text": [
      "\r",
      "Iterations:  17%|█████                         | 50/300 [00:37<03:02,  1.37it/s]"
     ]
    },
    {
     "name": "stdout",
     "output_type": "stream",
     "text": [
      "Epoch  49 , loss 0.4276139026880264\n",
      "Epoch  50 , loss 0.42628322303295135\n"
     ]
    },
    {
     "name": "stderr",
     "output_type": "stream",
     "text": [
      "\r",
      "Iterations:  17%|█████                         | 51/300 [00:38<03:14,  1.28it/s]"
     ]
    },
    {
     "name": "stdout",
     "output_type": "stream",
     "text": [
      "Epoch:  50\n",
      "t_loss:  0.42628322303295135 , v_loss:  0.6554146409034729\n",
      "t_acc:  0.697586963334378 , v_acc:  0.6994535519125683\n",
      "t_recall:  0.5067070136239328 , v_recall:  0.5\n",
      "t_prec:  0.6758962206829505 , v_prec:  0.34972677595628415\n",
      "t_f:  0.427382983949954 , v_f:  0.4115755627009647\n",
      "////////\n"
     ]
    },
    {
     "name": "stderr",
     "output_type": "stream",
     "text": [
      "\r",
      "Iterations:  17%|█████▏                        | 52/300 [00:39<02:58,  1.39it/s]"
     ]
    },
    {
     "name": "stdout",
     "output_type": "stream",
     "text": [
      "Epoch  51 , loss 0.42457829892635346\n",
      "Epoch  52 , loss 0.4219490748643875\n"
     ]
    },
    {
     "name": "stderr",
     "output_type": "stream",
     "text": [
      "\r",
      "Iterations:  18%|█████▎                        | 53/300 [00:39<03:11,  1.29it/s]"
     ]
    },
    {
     "name": "stdout",
     "output_type": "stream",
     "text": [
      "Epoch:  52\n",
      "t_loss:  0.4219490748643875 , v_loss:  0.6571252942085266\n",
      "t_acc:  0.6988404888749609 , v_acc:  0.6994535519125683\n",
      "t_recall:  0.5096278509847024 , v_recall:  0.5\n",
      "t_prec:  0.6829371368198627 , v_prec:  0.34972677595628415\n",
      "t_f:  0.43435730205555545 , v_f:  0.4115755627009647\n",
      "////////\n"
     ]
    },
    {
     "name": "stderr",
     "output_type": "stream",
     "text": [
      "\r",
      "Iterations:  18%|█████▍                        | 54/300 [00:40<02:58,  1.38it/s]"
     ]
    },
    {
     "name": "stdout",
     "output_type": "stream",
     "text": [
      "Epoch  53 , loss 0.4238195240497589\n",
      "Epoch  54 , loss 0.4196965581178665\n"
     ]
    },
    {
     "name": "stderr",
     "output_type": "stream",
     "text": [
      "\r",
      "Iterations:  18%|█████▌                        | 55/300 [00:41<03:08,  1.30it/s]"
     ]
    },
    {
     "name": "stdout",
     "output_type": "stream",
     "text": [
      "Epoch:  54\n",
      "t_loss:  0.4196965581178665 , v_loss:  0.6577540040016174\n",
      "t_acc:  0.699780633030398 , v_acc:  0.6994535519125683\n",
      "t_recall:  0.5105925822268889 , v_recall:  0.5\n",
      "t_prec:  0.706952743074416 , v_prec:  0.34972677595628415\n",
      "t_f:  0.43566872537378676 , v_f:  0.4115755627009647\n",
      "////////\n"
     ]
    },
    {
     "name": "stderr",
     "output_type": "stream",
     "text": [
      "\r",
      "Iterations:  19%|█████▌                        | 56/300 [00:42<02:55,  1.39it/s]"
     ]
    },
    {
     "name": "stdout",
     "output_type": "stream",
     "text": [
      "Epoch  55 , loss 0.4269611549377441\n",
      "Epoch  56 , loss 0.42465207159519197\n"
     ]
    },
    {
     "name": "stderr",
     "output_type": "stream",
     "text": [
      "\r",
      "Iterations:  19%|█████▋                        | 57/300 [00:42<03:08,  1.29it/s]"
     ]
    },
    {
     "name": "stdout",
     "output_type": "stream",
     "text": [
      "Epoch:  56\n",
      "t_loss:  0.42465207159519197 , v_loss:  0.663281112909317\n",
      "t_acc:  0.7004073958006894 , v_acc:  0.6994535519125683\n",
      "t_recall:  0.511331885155279 , v_recall:  0.5\n",
      "t_prec:  0.721396885750498 , v_prec:  0.34972677595628415\n",
      "t_f:  0.43684686999722355 , v_f:  0.4115755627009647\n",
      "////////\n"
     ]
    },
    {
     "name": "stderr",
     "output_type": "stream",
     "text": [
      "\r",
      "Iterations:  19%|█████▊                        | 58/300 [00:43<02:54,  1.39it/s]"
     ]
    },
    {
     "name": "stdout",
     "output_type": "stream",
     "text": [
      "Epoch  57 , loss 0.42917081356048586\n",
      "Epoch  58 , loss 0.4276749658584595\n"
     ]
    },
    {
     "name": "stderr",
     "output_type": "stream",
     "text": [
      "\r",
      "Iterations:  20%|█████▉                        | 59/300 [00:44<03:07,  1.28it/s]"
     ]
    },
    {
     "name": "stdout",
     "output_type": "stream",
     "text": [
      "Epoch:  58\n",
      "t_loss:  0.4276749658584595 , v_loss:  0.65822634100914\n",
      "t_acc:  0.6969602005640865 , v_acc:  0.6994535519125683\n",
      "t_recall:  0.5094290663051164 , v_recall:  0.5\n",
      "t_prec:  0.6295702005730659 , v_prec:  0.34972677595628415\n",
      "t_f:  0.4371484226295848 , v_f:  0.4115755627009647\n",
      "////////\n"
     ]
    },
    {
     "name": "stderr",
     "output_type": "stream",
     "text": [
      "\r",
      "Iterations:  20%|██████                        | 60/300 [00:45<02:54,  1.37it/s]"
     ]
    },
    {
     "name": "stdout",
     "output_type": "stream",
     "text": [
      "Epoch  59 , loss 0.42121518790721896\n",
      "Epoch  60 , loss 0.4198503765463829\n"
     ]
    },
    {
     "name": "stderr",
     "output_type": "stream",
     "text": [
      "\r",
      "Iterations:  20%|██████                        | 61/300 [00:45<03:04,  1.29it/s]"
     ]
    },
    {
     "name": "stdout",
     "output_type": "stream",
     "text": [
      "Epoch:  60\n",
      "t_loss:  0.4198503765463829 , v_loss:  0.6598442296187083\n",
      "t_acc:  0.7035412096521466 , v_acc:  0.6994535519125683\n",
      "t_recall:  0.515605292398826 , v_recall:  0.5\n",
      "t_prec:  0.7739652479500195 , v_prec:  0.34972677595628415\n",
      "t_f:  0.44452675896688526 , v_f:  0.4115755627009647\n",
      "////////\n"
     ]
    },
    {
     "name": "stderr",
     "output_type": "stream",
     "text": [
      "\r",
      "Iterations:  21%|██████▏                       | 62/300 [00:46<02:52,  1.38it/s]"
     ]
    },
    {
     "name": "stdout",
     "output_type": "stream",
     "text": [
      "Epoch  61 , loss 0.4242242920398712\n",
      "Epoch  62 , loss 0.4205767357349396\n"
     ]
    },
    {
     "name": "stderr",
     "output_type": "stream",
     "text": [
      "\r",
      "Iterations:  21%|██████▎                       | 63/300 [00:47<03:03,  1.29it/s]"
     ]
    },
    {
     "name": "stdout",
     "output_type": "stream",
     "text": [
      "Epoch:  62\n",
      "t_loss:  0.4205767357349396 , v_loss:  0.6634826809167862\n",
      "t_acc:  0.7038545910372924 , v_acc:  0.6994535519125683\n",
      "t_recall:  0.5172729522166114 , v_recall:  0.5\n",
      "t_prec:  0.747090094389649 , v_prec:  0.34972677595628415\n",
      "t_f:  0.449081871630291 , v_f:  0.4115755627009647\n",
      "////////\n"
     ]
    },
    {
     "name": "stderr",
     "output_type": "stream",
     "text": [
      "\r",
      "Iterations:  21%|██████▍                       | 64/300 [00:48<02:50,  1.38it/s]"
     ]
    },
    {
     "name": "stdout",
     "output_type": "stream",
     "text": [
      "Epoch  63 , loss 0.4213957405090332\n",
      "Epoch  64 , loss 0.42137998282909395\n"
     ]
    },
    {
     "name": "stderr",
     "output_type": "stream",
     "text": [
      "\r",
      "Iterations:  22%|██████▌                       | 65/300 [00:48<03:00,  1.30it/s]"
     ]
    },
    {
     "name": "stdout",
     "output_type": "stream",
     "text": [
      "Epoch:  64\n",
      "t_loss:  0.42137998282909395 , v_loss:  0.6541672994693121\n",
      "t_acc:  0.7016609213412723 , v_acc:  0.6994535519125683\n",
      "t_recall:  0.5136758299144532 , v_recall:  0.5\n",
      "t_prec:  0.7285249709639954 , v_prec:  0.34972677595628415\n",
      "t_f:  0.4418983706499469 , v_f:  0.4115755627009647\n",
      "////////\n"
     ]
    },
    {
     "name": "stderr",
     "output_type": "stream",
     "text": [
      "\r",
      "Iterations:  22%|██████▌                       | 66/300 [00:49<02:48,  1.39it/s]"
     ]
    },
    {
     "name": "stdout",
     "output_type": "stream",
     "text": [
      "Epoch  65 , loss 0.4169395339488983\n",
      "Epoch  66 , loss 0.41721179366111755\n"
     ]
    },
    {
     "name": "stderr",
     "output_type": "stream",
     "text": [
      "\r",
      "Iterations:  22%|██████▋                       | 67/300 [00:50<02:58,  1.30it/s]"
     ]
    },
    {
     "name": "stdout",
     "output_type": "stream",
     "text": [
      "Epoch:  66\n",
      "t_loss:  0.41721179366111755 , v_loss:  0.65458877881368\n",
      "t_acc:  0.701974302726418 , v_acc:  0.6939890710382514\n",
      "t_recall:  0.5153434897322384 , v_recall:  0.49609375\n",
      "t_prec:  0.7108436803565743 , v_prec:  0.3489010989010989\n",
      "t_f:  0.4464613753058275 , v_f:  0.40967741935483865\n",
      "////////\n"
     ]
    },
    {
     "name": "stderr",
     "output_type": "stream",
     "text": [
      "\r",
      "Iterations:  23%|██████▊                       | 68/300 [00:51<02:46,  1.39it/s]"
     ]
    },
    {
     "name": "stdout",
     "output_type": "stream",
     "text": [
      "Epoch  67 , loss 0.42196701109409335\n",
      "Epoch  68 , loss 0.4177946180105209\n"
     ]
    },
    {
     "name": "stderr",
     "output_type": "stream",
     "text": [
      "\r",
      "Iterations:  23%|██████▉                       | 69/300 [00:51<02:57,  1.31it/s]"
     ]
    },
    {
     "name": "stdout",
     "output_type": "stream",
     "text": [
      "Epoch:  68\n",
      "t_loss:  0.4177946180105209 , v_loss:  0.6644805520772934\n",
      "t_acc:  0.7041679724224381 , v_acc:  0.6994535519125683\n",
      "t_recall:  0.5192290583351945 , v_recall:  0.5\n",
      "t_prec:  0.7245735653830335 , v_prec:  0.34972677595628415\n",
      "t_f:  0.4544113598493082 , v_f:  0.4115755627009647\n",
      "////////\n"
     ]
    },
    {
     "name": "stderr",
     "output_type": "stream",
     "text": [
      "\r",
      "Iterations:  23%|███████                       | 70/300 [00:52<02:45,  1.39it/s]"
     ]
    },
    {
     "name": "stdout",
     "output_type": "stream",
     "text": [
      "Epoch  69 , loss 0.4159058177471161\n",
      "Epoch  70 , loss 0.4204971522092819\n"
     ]
    },
    {
     "name": "stderr",
     "output_type": "stream",
     "text": [
      "\r",
      "Iterations:  24%|███████                       | 71/300 [00:53<02:55,  1.31it/s]"
     ]
    },
    {
     "name": "stdout",
     "output_type": "stream",
     "text": [
      "Epoch:  70\n",
      "t_loss:  0.4204971522092819 , v_loss:  0.6617936939001083\n",
      "t_acc:  0.7016609213412723 , v_acc:  0.6939890710382514\n",
      "t_recall:  0.5136758299144532 , v_recall:  0.49609375\n",
      "t_prec:  0.7285249709639954 , v_prec:  0.3489010989010989\n",
      "t_f:  0.4418983706499469 , v_f:  0.40967741935483865\n",
      "////////\n"
     ]
    },
    {
     "name": "stderr",
     "output_type": "stream",
     "text": [
      "\r",
      "Iterations:  24%|███████▏                      | 72/300 [00:53<02:43,  1.40it/s]"
     ]
    },
    {
     "name": "stdout",
     "output_type": "stream",
     "text": [
      "Epoch  71 , loss 0.4243996673822403\n",
      "Epoch  72 , loss 0.41991109371185303\n"
     ]
    },
    {
     "name": "stderr",
     "output_type": "stream",
     "text": [
      "\r",
      "Iterations:  24%|███████▎                      | 73/300 [00:54<02:53,  1.31it/s]"
     ]
    },
    {
     "name": "stdout",
     "output_type": "stream",
     "text": [
      "Epoch:  72\n",
      "t_loss:  0.41991109371185303 , v_loss:  0.6619665076335272\n",
      "t_acc:  0.7022876841115637 , v_acc:  0.6939890710382514\n",
      "t_recall:  0.5170111495500237 , v_recall:  0.49609375\n",
      "t_prec:  0.6986709093664091 , v_prec:  0.3489010989010989\n",
      "t_f:  0.4509436354415707 , v_f:  0.40967741935483865\n",
      "////////\n"
     ]
    },
    {
     "name": "stderr",
     "output_type": "stream",
     "text": [
      "\r",
      "Iterations:  25%|███████▍                      | 74/300 [00:55<02:41,  1.40it/s]"
     ]
    },
    {
     "name": "stdout",
     "output_type": "stream",
     "text": [
      "Epoch  73 , loss 0.4177344286441803\n",
      "Epoch  74 , loss 0.4156427878141403\n"
     ]
    },
    {
     "name": "stderr",
     "output_type": "stream",
     "text": [
      "\r",
      "Iterations:  25%|███████▌                      | 75/300 [00:56<02:50,  1.32it/s]"
     ]
    },
    {
     "name": "stdout",
     "output_type": "stream",
     "text": [
      "Epoch:  74\n",
      "t_loss:  0.4156427878141403 , v_loss:  0.6532126218080521\n",
      "t_acc:  0.7010341585709808 , v_acc:  0.6939890710382514\n",
      "t_recall:  0.5158209899940411 , v_recall:  0.49609375\n",
      "t_prec:  0.6788273189126905 , v_prec:  0.3489010989010989\n",
      "t_f:  0.4494924981446091 , v_f:  0.40967741935483865\n",
      "////////\n"
     ]
    },
    {
     "name": "stderr",
     "output_type": "stream",
     "text": [
      "\r",
      "Iterations:  25%|███████▌                      | 76/300 [00:56<02:38,  1.41it/s]"
     ]
    },
    {
     "name": "stdout",
     "output_type": "stream",
     "text": [
      "Epoch  75 , loss 0.4210305625200272\n",
      "Epoch  76 , loss 0.4200906705856323\n"
     ]
    },
    {
     "name": "stderr",
     "output_type": "stream",
     "text": [
      "\r",
      "Iterations:  26%|███████▋                      | 77/300 [00:57<02:48,  1.32it/s]"
     ]
    },
    {
     "name": "stdout",
     "output_type": "stream",
     "text": [
      "Epoch:  76\n",
      "t_loss:  0.4200906705856323 , v_loss:  0.6571435829003652\n",
      "t_acc:  0.7032278282670009 , v_acc:  0.6939890710382514\n",
      "t_recall:  0.5173989881906146 , v_recall:  0.49609375\n",
      "t_prec:  0.7216614127675651 , v_prec:  0.3489010989010989\n",
      "t_f:  0.4505263578979142 , v_f:  0.40967741935483865\n",
      "////////\n"
     ]
    },
    {
     "name": "stderr",
     "output_type": "stream",
     "text": [
      "\r",
      "Iterations:  26%|███████▊                      | 78/300 [00:58<02:36,  1.42it/s]"
     ]
    },
    {
     "name": "stdout",
     "output_type": "stream",
     "text": [
      "Epoch  77 , loss 0.41374956667423246\n",
      "Epoch  78 , loss 0.41177917659282687\n"
     ]
    },
    {
     "name": "stderr",
     "output_type": "stream",
     "text": [
      "\r",
      "Iterations:  26%|███████▉                      | 79/300 [00:59<02:47,  1.32it/s]"
     ]
    },
    {
     "name": "stdout",
     "output_type": "stream",
     "text": [
      "Epoch:  78\n",
      "t_loss:  0.41177917659282687 , v_loss:  0.6538338462511698\n",
      "t_acc:  0.7038545910372924 , v_acc:  0.6939890710382514\n",
      "t_recall:  0.5187151837206004 , v_recall:  0.49609375\n",
      "t_prec:  0.7222696104868089 , v_prec:  0.3489010989010989\n",
      "t_f:  0.453405828401954 , v_f:  0.40967741935483865\n",
      "////////\n"
     ]
    },
    {
     "name": "stderr",
     "output_type": "stream",
     "text": [
      "\r",
      "Iterations:  27%|████████                      | 80/300 [00:59<02:36,  1.41it/s]"
     ]
    },
    {
     "name": "stdout",
     "output_type": "stream",
     "text": [
      "Epoch  79 , loss 0.4179661852121353\n",
      "Epoch  80 , loss 0.4142237013578415\n"
     ]
    },
    {
     "name": "stderr",
     "output_type": "stream",
     "text": [
      "\r",
      "Iterations:  27%|████████                      | 81/300 [01:00<02:46,  1.32it/s]"
     ]
    },
    {
     "name": "stdout",
     "output_type": "stream",
     "text": [
      "Epoch:  80\n",
      "t_loss:  0.4142237013578415 , v_loss:  0.6563646197319031\n",
      "t_acc:  0.705421497963021 , v_acc:  0.6939890710382514\n",
      "t_recall:  0.5215730030943685 , v_recall:  0.49609375\n",
      "t_prec:  0.7291303705891038 , v_prec:  0.3489010989010989\n",
      "t_f:  0.4592570639068684 , v_f:  0.40967741935483865\n",
      "////////\n"
     ]
    },
    {
     "name": "stderr",
     "output_type": "stream",
     "text": [
      "\r",
      "Iterations:  27%|████████▏                     | 82/300 [01:01<02:34,  1.41it/s]"
     ]
    },
    {
     "name": "stdout",
     "output_type": "stream",
     "text": [
      "Epoch  81 , loss 0.4155581676959991\n",
      "Epoch  82 , loss 0.41492311835289003\n"
     ]
    },
    {
     "name": "stderr",
     "output_type": "stream",
     "text": [
      "\r",
      "Iterations:  28%|████████▎                     | 83/300 [01:02<02:44,  1.32it/s]"
     ]
    },
    {
     "name": "stdout",
     "output_type": "stream",
     "text": [
      "Epoch:  82\n",
      "t_loss:  0.41492311835289003 , v_loss:  0.6586514314015707\n",
      "t_acc:  0.7026010654967095 , v_acc:  0.6939890710382514\n",
      "t_recall:  0.5183903630670113 , v_recall:  0.49609375\n",
      "t_prec:  0.6924290909090909 , v_prec:  0.3489010989010989\n",
      "t_f:  0.45450308995407807 , v_f:  0.40967741935483865\n",
      "////////\n"
     ]
    },
    {
     "name": "stderr",
     "output_type": "stream",
     "text": [
      "\r",
      "Iterations:  28%|████████▍                     | 84/300 [01:02<02:32,  1.42it/s]"
     ]
    },
    {
     "name": "stdout",
     "output_type": "stream",
     "text": [
      "Epoch  83 , loss 0.4124546653032303\n",
      "Epoch  84 , loss 0.4143582183122635\n"
     ]
    },
    {
     "name": "stderr",
     "output_type": "stream",
     "text": [
      "\r",
      "Iterations:  28%|████████▌                     | 85/300 [01:03<02:42,  1.32it/s]"
     ]
    },
    {
     "name": "stdout",
     "output_type": "stream",
     "text": [
      "Epoch:  84\n",
      "t_loss:  0.4143582183122635 , v_loss:  0.6514418919881185\n",
      "t_acc:  0.705421497963021 , v_acc:  0.6994535519125683\n",
      "t_recall:  0.5227267882975598 , v_recall:  0.505184659090909\n",
      "t_prec:  0.7154832303812595 , v_prec:  0.600828729281768\n",
      "t_f:  0.46258825654094554 , v_f:  0.4285470958950775\n",
      "////////\n"
     ]
    },
    {
     "name": "stderr",
     "output_type": "stream",
     "text": [
      "\r",
      "Iterations:  29%|████████▌                     | 86/300 [01:04<02:31,  1.41it/s]"
     ]
    },
    {
     "name": "stdout",
     "output_type": "stream",
     "text": [
      "Epoch  85 , loss 0.4138980919122696\n",
      "Epoch  86 , loss 0.41222415208816526\n"
     ]
    },
    {
     "name": "stderr",
     "output_type": "stream",
     "text": [
      "\r",
      "Iterations:  29%|████████▋                     | 87/300 [01:05<02:40,  1.32it/s]"
     ]
    },
    {
     "name": "stdout",
     "output_type": "stream",
     "text": [
      "Epoch:  86\n",
      "t_loss:  0.41222415208816526 , v_loss:  0.657641718784968\n",
      "t_acc:  0.7082419304293325 , v_acc:  0.6994535519125683\n",
      "t_recall:  0.5270632135281084 , v_recall:  0.505184659090909\n",
      "t_prec:  0.7346733365477338 , v_prec:  0.600828729281768\n",
      "t_f:  0.4705775009146499 , v_f:  0.4285470958950775\n",
      "////////\n"
     ]
    },
    {
     "name": "stderr",
     "output_type": "stream",
     "text": [
      "\r",
      "Iterations:  29%|████████▊                     | 88/300 [01:05<02:29,  1.42it/s]"
     ]
    },
    {
     "name": "stdout",
     "output_type": "stream",
     "text": [
      "Epoch  87 , loss 0.41391698360443113\n",
      "Epoch  88 , loss 0.41406019270420075\n"
     ]
    },
    {
     "name": "stderr",
     "output_type": "stream",
     "text": [
      "\r",
      "Iterations:  30%|████████▉                     | 89/300 [01:06<02:37,  1.34it/s]"
     ]
    },
    {
     "name": "stdout",
     "output_type": "stream",
     "text": [
      "Epoch:  88\n",
      "t_loss:  0.41406019270420075 , v_loss:  0.6561312029759089\n",
      "t_acc:  0.7063616421184582 , v_acc:  0.6994535519125683\n",
      "t_recall:  0.5248453047429376 , v_recall:  0.505184659090909\n",
      "t_prec:  0.7154411764705882 , v_prec:  0.600828729281768\n",
      "t_f:  0.46716554066275723 , v_f:  0.4285470958950775\n",
      "////////\n"
     ]
    },
    {
     "name": "stderr",
     "output_type": "stream",
     "text": [
      "\r",
      "Iterations:  30%|█████████                     | 90/300 [01:07<02:27,  1.42it/s]"
     ]
    },
    {
     "name": "stdout",
     "output_type": "stream",
     "text": [
      "Epoch  89 , loss 0.4083872503042221\n",
      "Epoch  90 , loss 0.41309289395809173\n"
     ]
    },
    {
     "name": "stderr",
     "output_type": "stream",
     "text": [
      "\r",
      "Iterations:  30%|█████████                     | 91/300 [01:08<02:39,  1.31it/s]"
     ]
    },
    {
     "name": "stdout",
     "output_type": "stream",
     "text": [
      "Epoch:  90\n",
      "t_loss:  0.41309289395809173 , v_loss:  0.658637156089147\n",
      "t_acc:  0.705421497963021 , v_acc:  0.6994535519125683\n",
      "t_recall:  0.5230152345983576 , v_recall:  0.505184659090909\n",
      "t_prec:  0.7125353016688061 , v_prec:  0.600828729281768\n",
      "t_f:  0.4634127318054709 , v_f:  0.4285470958950775\n",
      "////////\n"
     ]
    },
    {
     "name": "stderr",
     "output_type": "stream",
     "text": [
      "\r",
      "Iterations:  31%|█████████▏                    | 92/300 [01:08<02:28,  1.40it/s]"
     ]
    },
    {
     "name": "stdout",
     "output_type": "stream",
     "text": [
      "Epoch  91 , loss 0.40948717832565307\n",
      "Epoch  92 , loss 0.41154062569141386\n"
     ]
    },
    {
     "name": "stderr",
     "output_type": "stream",
     "text": [
      "\r",
      "Iterations:  31%|█████████▎                    | 93/300 [01:09<02:37,  1.31it/s]"
     ]
    },
    {
     "name": "stdout",
     "output_type": "stream",
     "text": [
      "Epoch:  92\n",
      "t_loss:  0.41154062569141386 , v_loss:  0.6582766423622767\n",
      "t_acc:  0.7098088373550611 , v_acc:  0.6994535519125683\n",
      "t_recall:  0.5316517107066633 , v_recall:  0.505184659090909\n",
      "t_prec:  0.7231499993466358 , v_prec:  0.600828729281768\n",
      "t_f:  0.4809030412907215 , v_f:  0.4285470958950775\n",
      "////////\n"
     ]
    },
    {
     "name": "stderr",
     "output_type": "stream",
     "text": [
      "\r",
      "Iterations:  31%|█████████▍                    | 94/300 [01:10<02:26,  1.41it/s]"
     ]
    },
    {
     "name": "stdout",
     "output_type": "stream",
     "text": [
      "Epoch  93 , loss 0.410146672129631\n",
      "Epoch  94 , loss 0.4073269701004028\n"
     ]
    },
    {
     "name": "stderr",
     "output_type": "stream",
     "text": [
      "\r",
      "Iterations:  32%|█████████▌                    | 95/300 [01:11<02:37,  1.30it/s]"
     ]
    },
    {
     "name": "stdout",
     "output_type": "stream",
     "text": [
      "Epoch:  94\n",
      "t_loss:  0.4073269701004028 , v_loss:  0.6512805471817652\n",
      "t_acc:  0.7129426512065183 , v_acc:  0.6994535519125683\n",
      "t_recall:  0.5370789031534016 , v_recall:  0.505184659090909\n",
      "t_prec:  0.7340601965601965 , v_prec:  0.600828729281768\n",
      "t_f:  0.4910430587884588 , v_f:  0.4285470958950775\n",
      "////////\n"
     ]
    },
    {
     "name": "stderr",
     "output_type": "stream",
     "text": [
      "\r",
      "Iterations:  32%|█████████▌                    | 96/300 [01:11<02:25,  1.41it/s]"
     ]
    },
    {
     "name": "stdout",
     "output_type": "stream",
     "text": [
      "Epoch  95 , loss 0.4084354680776596\n",
      "Epoch  96 , loss 0.4163430202007294\n"
     ]
    },
    {
     "name": "stderr",
     "output_type": "stream",
     "text": [
      "\r",
      "Iterations:  32%|█████████▋                    | 97/300 [01:12<02:36,  1.30it/s]"
     ]
    },
    {
     "name": "stdout",
     "output_type": "stream",
     "text": [
      "Epoch:  96\n",
      "t_loss:  0.4163430202007294 , v_loss:  0.652757133046786\n",
      "t_acc:  0.7076151676590411 , v_acc:  0.6994535519125683\n",
      "t_recall:  0.5306506051116855 , v_recall:  0.505184659090909\n",
      "t_prec:  0.6951771856835147 , v_prec:  0.600828729281768\n",
      "t_f:  0.48121659917017745 , v_f:  0.4285470958950775\n",
      "////////\n"
     ]
    },
    {
     "name": "stderr",
     "output_type": "stream",
     "text": [
      "\r",
      "Iterations:  33%|█████████▊                    | 98/300 [01:13<02:25,  1.39it/s]"
     ]
    },
    {
     "name": "stdout",
     "output_type": "stream",
     "text": [
      "Epoch  97 , loss 0.40925586700439454\n",
      "Epoch  98 , loss 0.4062156784534454\n"
     ]
    },
    {
     "name": "stderr",
     "output_type": "stream",
     "text": [
      "\r",
      "Iterations:  33%|█████████▉                    | 99/300 [01:13<02:34,  1.30it/s]"
     ]
    },
    {
     "name": "stdout",
     "output_type": "stream",
     "text": [
      "Epoch:  98\n",
      "t_loss:  0.4062156784534454 , v_loss:  0.6541366477807363\n",
      "t_acc:  0.7120025070510811 , v_acc:  0.6994535519125683\n",
      "t_recall:  0.5338066015048325 , v_recall:  0.505184659090909\n",
      "t_prec:  0.7455523021001615 , v_prec:  0.600828729281768\n",
      "t_f:  0.4836730493378315 , v_f:  0.4285470958950775\n",
      "////////\n"
     ]
    },
    {
     "name": "stderr",
     "output_type": "stream",
     "text": [
      "\r",
      "Iterations:  33%|█████████▋                   | 100/300 [01:14<02:22,  1.40it/s]"
     ]
    },
    {
     "name": "stdout",
     "output_type": "stream",
     "text": [
      "Epoch  99 , loss 0.4053904861211777\n",
      "Epoch  100 , loss 0.40263121426105497\n"
     ]
    },
    {
     "name": "stderr",
     "output_type": "stream",
     "text": [
      "\r",
      "Iterations:  34%|█████████▊                   | 101/300 [01:15<02:33,  1.29it/s]"
     ]
    },
    {
     "name": "stdout",
     "output_type": "stream",
     "text": [
      "Epoch:  100\n",
      "t_loss:  0.40263121426105497 , v_loss:  0.6542013138532639\n",
      "t_acc:  0.713256032591664 , v_acc:  0.6994535519125683\n",
      "t_recall:  0.5381696703695913 , v_recall:  0.505184659090909\n",
      "t_prec:  0.7309349593495935 , v_prec:  0.600828729281768\n",
      "t_f:  0.4934548931251266 , v_f:  0.4285470958950775\n",
      "////////\n"
     ]
    },
    {
     "name": "stderr",
     "output_type": "stream",
     "text": [
      "\r",
      "Iterations:  34%|█████████▊                   | 102/300 [01:16<02:23,  1.38it/s]"
     ]
    },
    {
     "name": "stdout",
     "output_type": "stream",
     "text": [
      "Epoch  101 , loss 0.4049271383881569\n",
      "Epoch  102 , loss 0.40470031201839446\n"
     ]
    },
    {
     "name": "stderr",
     "output_type": "stream",
     "text": [
      "\r",
      "Iterations:  34%|█████████▉                   | 103/300 [01:17<02:35,  1.27it/s]"
     ]
    },
    {
     "name": "stdout",
     "output_type": "stream",
     "text": [
      "Epoch:  102\n",
      "t_loss:  0.40470031201839446 , v_loss:  0.6490814089775085\n",
      "t_acc:  0.7101222187402069 , v_acc:  0.6994535519125683\n",
      "t_recall:  0.5330309242236508 , v_recall:  0.5103693181818182\n",
      "t_prec:  0.7179887465215131 , v_prec:  0.6019553072625698\n",
      "t_f:  0.48414758848271133 , v_f:  0.4443217578534754\n",
      "////////\n"
     ]
    },
    {
     "name": "stderr",
     "output_type": "stream",
     "text": [
      "\r",
      "Iterations:  35%|██████████                   | 104/300 [01:17<02:23,  1.36it/s]"
     ]
    },
    {
     "name": "stdout",
     "output_type": "stream",
     "text": [
      "Epoch  103 , loss 0.4043180727958679\n",
      "Epoch  104 , loss 0.4076853930950165\n"
     ]
    },
    {
     "name": "stderr",
     "output_type": "stream",
     "text": [
      "\r",
      "Iterations:  35%|██████████▏                  | 105/300 [01:18<02:32,  1.28it/s]"
     ]
    },
    {
     "name": "stdout",
     "output_type": "stream",
     "text": [
      "Epoch:  104\n",
      "t_loss:  0.4076853930950165 , v_loss:  0.6515597800413767\n",
      "t_acc:  0.7101222187402069 , v_acc:  0.6994535519125683\n",
      "t_recall:  0.5347616020284378 , v_recall:  0.505184659090909\n",
      "t_prec:  0.7068852829730788 , v_prec:  0.600828729281768\n",
      "t_f:  0.4886644061712806 , v_f:  0.4285470958950775\n",
      "////////\n"
     ]
    },
    {
     "name": "stderr",
     "output_type": "stream",
     "text": [
      "\r",
      "Iterations:  35%|██████████▏                  | 106/300 [01:19<02:20,  1.38it/s]"
     ]
    },
    {
     "name": "stdout",
     "output_type": "stream",
     "text": [
      "Epoch  105 , loss 0.4035500305891037\n",
      "Epoch  106 , loss 0.4049330246448517\n"
     ]
    },
    {
     "name": "stderr",
     "output_type": "stream",
     "text": [
      "\r",
      "Iterations:  36%|██████████▎                  | 107/300 [01:20<02:29,  1.29it/s]"
     ]
    },
    {
     "name": "stdout",
     "output_type": "stream",
     "text": [
      "Epoch:  106\n",
      "t_loss:  0.4049330246448517 , v_loss:  0.6554999550183614\n",
      "t_acc:  0.7113757442807898 , v_acc:  0.6994535519125683\n",
      "t_recall:  0.5345095300804313 , v_recall:  0.5103693181818182\n",
      "t_prec:  0.727746857894254 , v_prec:  0.6019553072625698\n",
      "t_f:  0.4863783016135969 , v_f:  0.4443217578534754\n",
      "////////\n"
     ]
    },
    {
     "name": "stderr",
     "output_type": "stream",
     "text": [
      "\r",
      "Iterations:  36%|██████████▍                  | 108/300 [01:20<02:18,  1.38it/s]"
     ]
    },
    {
     "name": "stdout",
     "output_type": "stream",
     "text": [
      "Epoch  107 , loss 0.40176796793937686\n",
      "Epoch  108 , loss 0.4036391937732697\n"
     ]
    },
    {
     "name": "stderr",
     "output_type": "stream",
     "text": [
      "\r",
      "Iterations:  36%|██████████▌                  | 109/300 [01:21<02:27,  1.29it/s]"
     ]
    },
    {
     "name": "stdout",
     "output_type": "stream",
     "text": [
      "Epoch:  108\n",
      "t_loss:  0.4036391937732697 , v_loss:  0.6516899615526199\n",
      "t_acc:  0.7160764650579755 , v_acc:  0.7049180327868853\n",
      "t_recall:  0.5419292029985441 , v_recall:  0.5142755681818182\n",
      "t_prec:  0.7475271358543417 , v_prec:  0.6861111111111111\n",
      "t_f:  0.49953156484347416 , v_f:  0.446820420958352\n",
      "////////\n"
     ]
    },
    {
     "name": "stderr",
     "output_type": "stream",
     "text": [
      "\r",
      "Iterations:  37%|██████████▋                  | 110/300 [01:22<02:17,  1.38it/s]"
     ]
    },
    {
     "name": "stdout",
     "output_type": "stream",
     "text": [
      "Epoch  109 , loss 0.40340998709201814\n",
      "Epoch  110 , loss 0.40082677006721495\n"
     ]
    },
    {
     "name": "stderr",
     "output_type": "stream",
     "text": [
      "\r",
      "Iterations:  37%|██████████▋                  | 111/300 [01:23<02:26,  1.29it/s]"
     ]
    },
    {
     "name": "stdout",
     "output_type": "stream",
     "text": [
      "Epoch:  110\n",
      "t_loss:  0.40082677006721495 , v_loss:  0.6451671570539474\n",
      "t_acc:  0.7157630836728298 , v_acc:  0.7049180327868853\n",
      "t_recall:  0.5408384357823544 , v_recall:  0.5194602272727272\n",
      "t_prec:  0.7512529292030857 , v_prec:  0.6539325842696628\n",
      "t_f:  0.49714985149413665 , v_f:  0.4617647058823529\n",
      "////////\n"
     ]
    },
    {
     "name": "stderr",
     "output_type": "stream",
     "text": [
      "\r",
      "Iterations:  37%|██████████▊                  | 112/300 [01:23<02:16,  1.38it/s]"
     ]
    },
    {
     "name": "stdout",
     "output_type": "stream",
     "text": [
      "Epoch  111 , loss 0.40660120606422423\n",
      "Epoch  112 , loss 0.39944169282913206\n"
     ]
    },
    {
     "name": "stderr",
     "output_type": "stream",
     "text": [
      "\r",
      "Iterations:  38%|██████████▉                  | 113/300 [01:24<02:22,  1.31it/s]"
     ]
    },
    {
     "name": "stdout",
     "output_type": "stream",
     "text": [
      "Epoch:  112\n",
      "t_loss:  0.39944169282913206 , v_loss:  0.6458198179801306\n",
      "t_acc:  0.7160764650579755 , v_acc:  0.7049180327868853\n",
      "t_recall:  0.5419292029985441 , v_recall:  0.5194602272727272\n",
      "t_prec:  0.7475271358543417 , v_prec:  0.6539325842696628\n",
      "t_f:  0.49953156484347416 , v_f:  0.4617647058823529\n",
      "////////\n"
     ]
    },
    {
     "name": "stderr",
     "output_type": "stream",
     "text": [
      "\r",
      "Iterations:  38%|███████████                  | 114/300 [01:25<02:14,  1.38it/s]"
     ]
    },
    {
     "name": "stdout",
     "output_type": "stream",
     "text": [
      "Epoch  113 , loss 0.39908660054206846\n",
      "Epoch  114 , loss 0.4028808879852295\n"
     ]
    },
    {
     "name": "stderr",
     "output_type": "stream",
     "text": [
      "\r",
      "Iterations:  38%|███████████                  | 115/300 [01:25<02:20,  1.31it/s]"
     ]
    },
    {
     "name": "stdout",
     "output_type": "stream",
     "text": [
      "Epoch:  114\n",
      "t_loss:  0.4028808879852295 , v_loss:  0.6497907390197118\n",
      "t_acc:  0.7113757442807898 , v_acc:  0.7049180327868853\n",
      "t_recall:  0.5382593319908031 , v_recall:  0.5194602272727272\n",
      "t_prec:  0.7044835408679803 , v_prec:  0.6539325842696628\n",
      "t_f:  0.49599242679535627 , v_f:  0.4617647058823529\n",
      "////////\n"
     ]
    },
    {
     "name": "stderr",
     "output_type": "stream",
     "text": [
      "\r",
      "Iterations:  39%|███████████▏                 | 116/300 [01:26<02:12,  1.39it/s]"
     ]
    },
    {
     "name": "stdout",
     "output_type": "stream",
     "text": [
      "Epoch  115 , loss 0.40124808847904203\n",
      "Epoch  116 , loss 0.39942634642124175\n"
     ]
    },
    {
     "name": "stderr",
     "output_type": "stream",
     "text": [
      "\r",
      "Iterations:  39%|███████████▎                 | 117/300 [01:27<02:18,  1.32it/s]"
     ]
    },
    {
     "name": "stdout",
     "output_type": "stream",
     "text": [
      "Epoch:  116\n",
      "t_loss:  0.39942634642124175 , v_loss:  0.6455326328674952\n",
      "t_acc:  0.7138827953619555 , v_acc:  0.7049180327868853\n",
      "t_recall:  0.539774312200375 , v_recall:  0.5194602272727272\n",
      "t_prec:  0.7292558050093746 , v_prec:  0.6539325842696628\n",
      "t_f:  0.49676116052728625 , v_f:  0.4617647058823529\n",
      "////////\n"
     ]
    },
    {
     "name": "stderr",
     "output_type": "stream",
     "text": [
      "\r",
      "Iterations:  39%|███████████▍                 | 118/300 [01:28<02:09,  1.40it/s]"
     ]
    },
    {
     "name": "stdout",
     "output_type": "stream",
     "text": [
      "Epoch  117 , loss 0.40326453626155856\n",
      "Epoch  118 , loss 0.40035810351371764\n"
     ]
    },
    {
     "name": "stderr",
     "output_type": "stream",
     "text": [
      "\r",
      "Iterations:  40%|███████████▌                 | 119/300 [01:28<02:16,  1.33it/s]"
     ]
    },
    {
     "name": "stdout",
     "output_type": "stream",
     "text": [
      "Epoch:  118\n",
      "t_loss:  0.40035810351371764 , v_loss:  0.6555877526601156\n",
      "t_acc:  0.7116891256659355 , v_acc:  0.7103825136612022\n",
      "t_recall:  0.5379078677030036 , v_recall:  0.5233664772727272\n",
      "t_prec:  0.7102380193663782 , v_prec:  0.7297486033519553\n",
      "t_f:  0.49472995766066574 , v_f:  0.46452823938607624\n",
      "////////\n"
     ]
    },
    {
     "name": "stderr",
     "output_type": "stream",
     "text": [
      "\r",
      "Iterations:  40%|███████████▌                 | 120/300 [01:29<02:08,  1.40it/s]"
     ]
    },
    {
     "name": "stdout",
     "output_type": "stream",
     "text": [
      "Epoch  119 , loss 0.4030661624670029\n",
      "Epoch  120 , loss 0.40500391244888306\n"
     ]
    },
    {
     "name": "stderr",
     "output_type": "stream",
     "text": [
      "\r",
      "Iterations:  40%|███████████▋                 | 121/300 [01:30<02:15,  1.32it/s]"
     ]
    },
    {
     "name": "stdout",
     "output_type": "stream",
     "text": [
      "Epoch:  120\n",
      "t_loss:  0.40500391244888306 , v_loss:  0.6539531648159027\n",
      "t_acc:  0.7145095581322469 , v_acc:  0.7103825136612022\n",
      "t_recall:  0.5405136151287652 , v_recall:  0.5233664772727272\n",
      "t_prec:  0.7335170851828705 , v_prec:  0.7297486033519553\n",
      "t_f:  0.49786354571780705 , v_f:  0.46452823938607624\n",
      "////////\n"
     ]
    },
    {
     "name": "stderr",
     "output_type": "stream",
     "text": [
      "\r",
      "Iterations:  41%|███████████▊                 | 122/300 [01:30<02:05,  1.42it/s]"
     ]
    },
    {
     "name": "stdout",
     "output_type": "stream",
     "text": [
      "Epoch  121 , loss 0.4014247304201126\n",
      "Epoch  122 , loss 0.40154358744621277\n"
     ]
    },
    {
     "name": "stderr",
     "output_type": "stream",
     "text": [
      "\r",
      "Iterations:  41%|███████████▉                 | 123/300 [01:31<02:13,  1.33it/s]"
     ]
    },
    {
     "name": "stdout",
     "output_type": "stream",
     "text": [
      "Epoch:  122\n",
      "t_loss:  0.40154358744621277 , v_loss:  0.6500583042701086\n",
      "t_acc:  0.7151363209025384 , v_acc:  0.7049180327868853\n",
      "t_recall:  0.5415413643579533 , v_recall:  0.5194602272727272\n",
      "t_prec:  0.735732616721184 , v_prec:  0.6539325842696628\n",
      "t_f:  0.49969013280392294 , v_f:  0.4617647058823529\n",
      "////////\n"
     ]
    },
    {
     "name": "stderr",
     "output_type": "stream",
     "text": [
      "\r",
      "Iterations:  41%|███████████▉                 | 124/300 [01:32<02:03,  1.43it/s]"
     ]
    },
    {
     "name": "stdout",
     "output_type": "stream",
     "text": [
      "Epoch  123 , loss 0.39951978623867035\n",
      "Epoch  124 , loss 0.3984823715686798\n"
     ]
    },
    {
     "name": "stderr",
     "output_type": "stream",
     "text": [
      "\r",
      "Iterations:  42%|████████████                 | 125/300 [01:33<02:12,  1.32it/s]"
     ]
    },
    {
     "name": "stdout",
     "output_type": "stream",
     "text": [
      "Epoch:  124\n",
      "t_loss:  0.3984823715686798 , v_loss:  0.6476327429215113\n",
      "t_acc:  0.7160764650579755 , v_acc:  0.7049180327868853\n",
      "t_recall:  0.543659880803331 , v_recall:  0.5194602272727272\n",
      "t_prec:  0.7350521379035075 , v_prec:  0.6539325842696628\n",
      "t_f:  0.5038459479051683 , v_f:  0.4617647058823529\n",
      "////////\n"
     ]
    },
    {
     "name": "stderr",
     "output_type": "stream",
     "text": [
      "\r",
      "Iterations:  42%|████████████▏                | 126/300 [01:33<02:03,  1.41it/s]"
     ]
    },
    {
     "name": "stdout",
     "output_type": "stream",
     "text": [
      "Epoch  125 , loss 0.3974254286289215\n",
      "Epoch  126 , loss 0.3984537625312805\n"
     ]
    },
    {
     "name": "stderr",
     "output_type": "stream",
     "text": [
      "\r",
      "Iterations:  42%|████████████▎                | 127/300 [01:34<02:09,  1.33it/s]"
     ]
    },
    {
     "name": "stdout",
     "output_type": "stream",
     "text": [
      "Epoch:  126\n",
      "t_loss:  0.3984537625312805 , v_loss:  0.6596466352542242\n",
      "t_acc:  0.7226574741460358 , v_acc:  0.7103825136612022\n",
      "t_recall:  0.5532974625066146 , v_recall:  0.5233664772727272\n",
      "t_prec:  0.7621476497830288 , v_prec:  0.7297486033519553\n",
      "t_f:  0.5198040130895994 , v_f:  0.46452823938607624\n",
      "////////\n"
     ]
    },
    {
     "name": "stderr",
     "output_type": "stream",
     "text": [
      "\r",
      "Iterations:  43%|████████████▎                | 128/300 [01:35<02:00,  1.43it/s]"
     ]
    },
    {
     "name": "stdout",
     "output_type": "stream",
     "text": [
      "Epoch  127 , loss 0.39664957880973817\n",
      "Epoch  128 , loss 0.4006221616268158\n"
     ]
    },
    {
     "name": "stderr",
     "output_type": "stream",
     "text": [
      "\r",
      "Iterations:  43%|████████████▍                | 129/300 [01:36<02:07,  1.35it/s]"
     ]
    },
    {
     "name": "stdout",
     "output_type": "stream",
     "text": [
      "Epoch:  128\n",
      "t_loss:  0.4006221616268158 , v_loss:  0.6592242022355398\n",
      "t_acc:  0.7148229395173926 , v_acc:  0.7103825136612022\n",
      "t_recall:  0.5444888453529332 , v_recall:  0.5233664772727272\n",
      "t_prec:  0.7145672986671673 , v_prec:  0.7297486033519553\n",
      "t_f:  0.5072809768148993 , v_f:  0.46452823938607624\n",
      "////////\n"
     ]
    },
    {
     "name": "stderr",
     "output_type": "stream",
     "text": [
      "\r",
      "Iterations:  43%|████████████▌                | 130/300 [01:36<01:58,  1.44it/s]"
     ]
    },
    {
     "name": "stdout",
     "output_type": "stream",
     "text": [
      "Epoch  129 , loss 0.40083439111709596\n",
      "Epoch  130 , loss 0.39830358266830446\n"
     ]
    },
    {
     "name": "stderr",
     "output_type": "stream",
     "text": [
      "\r",
      "Iterations:  44%|████████████▋                | 131/300 [01:37<02:05,  1.34it/s]"
     ]
    },
    {
     "name": "stdout",
     "output_type": "stream",
     "text": [
      "Epoch:  130\n",
      "t_loss:  0.39830358266830446 , v_loss:  0.6579023351271948\n",
      "t_acc:  0.7123158884362268 , v_acc:  0.7049180327868853\n",
      "t_recall:  0.5421085262409678 , v_recall:  0.5194602272727272\n",
      "t_prec:  0.6979674973858487 , v_prec:  0.6539325842696628\n",
      "t_f:  0.5043414610375108 , v_f:  0.4617647058823529\n",
      "////////\n"
     ]
    },
    {
     "name": "stderr",
     "output_type": "stream",
     "text": [
      "\r",
      "Iterations:  44%|████████████▊                | 132/300 [01:38<01:57,  1.43it/s]"
     ]
    },
    {
     "name": "stdout",
     "output_type": "stream",
     "text": [
      "Epoch  131 , loss 0.39716834008693697\n",
      "Epoch  132 , loss 0.39592053413391115\n"
     ]
    },
    {
     "name": "stderr",
     "output_type": "stream",
     "text": [
      "\r",
      "Iterations:  44%|████████████▊                | 133/300 [01:39<02:06,  1.32it/s]"
     ]
    },
    {
     "name": "stdout",
     "output_type": "stream",
     "text": [
      "Epoch:  132\n",
      "t_loss:  0.39592053413391115 , v_loss:  0.6674140244722366\n",
      "t_acc:  0.7192102789094328 , v_acc:  0.7049180327868853\n",
      "t_recall:  0.5490870732500692 , v_recall:  0.5142755681818182\n",
      "t_prec:  0.7430471431455683 , v_prec:  0.6861111111111111\n",
      "t_f:  0.5134922482361317 , v_f:  0.446820420958352\n",
      "////////\n"
     ]
    },
    {
     "name": "stderr",
     "output_type": "stream",
     "text": [
      "\r",
      "Iterations:  45%|████████████▉                | 134/300 [01:39<01:56,  1.43it/s]"
     ]
    },
    {
     "name": "stdout",
     "output_type": "stream",
     "text": [
      "Epoch  133 , loss 0.3950167989730835\n",
      "Epoch  134 , loss 0.3969746941328049\n"
     ]
    },
    {
     "name": "stderr",
     "output_type": "stream",
     "text": [
      "\r",
      "Iterations:  45%|█████████████                | 135/300 [01:40<02:04,  1.33it/s]"
     ]
    },
    {
     "name": "stdout",
     "output_type": "stream",
     "text": [
      "Epoch:  134\n",
      "t_loss:  0.3969746941328049 , v_loss:  0.662722036242485\n",
      "t_acc:  0.7242243810717643 , v_acc:  0.7049180327868853\n",
      "t_recall:  0.558751298587563 , v_recall:  0.5194602272727272\n",
      "t_prec:  0.7482622504004166 , v_prec:  0.6539325842696628\n",
      "t_f:  0.5307415676261013 , v_f:  0.4617647058823529\n",
      "////////\n"
     ]
    },
    {
     "name": "stderr",
     "output_type": "stream",
     "text": [
      "\r",
      "Iterations:  45%|█████████████▏               | 136/300 [01:41<01:55,  1.42it/s]"
     ]
    },
    {
     "name": "stdout",
     "output_type": "stream",
     "text": [
      "Epoch  135 , loss 0.4001884800195694\n",
      "Epoch  136 , loss 0.3960471314191818\n"
     ]
    },
    {
     "name": "stderr",
     "output_type": "stream",
     "text": [
      "\r",
      "Iterations:  46%|█████████████▏               | 137/300 [01:41<02:02,  1.33it/s]"
     ]
    },
    {
     "name": "stdout",
     "output_type": "stream",
     "text": [
      "Epoch:  136\n",
      "t_loss:  0.3960471314191818 , v_loss:  0.6532778938611349\n",
      "t_acc:  0.72453776245691 , v_acc:  0.7103825136612022\n",
      "t_recall:  0.5563807101941788 , v_recall:  0.5285511363636364\n",
      "t_prec:  0.7667455880740984 , v_prec:  0.6892655367231638\n",
      "t_f:  0.5250665568096213 , v_f:  0.478688524590164\n",
      "////////\n"
     ]
    },
    {
     "name": "stderr",
     "output_type": "stream",
     "text": [
      "\r",
      "Iterations:  46%|█████████████▎               | 138/300 [01:42<01:56,  1.39it/s]"
     ]
    },
    {
     "name": "stdout",
     "output_type": "stream",
     "text": [
      "Epoch  137 , loss 0.3950237572193146\n",
      "Epoch  138 , loss 0.39482548356056213\n"
     ]
    },
    {
     "name": "stderr",
     "output_type": "stream",
     "text": [
      "\r",
      "Iterations:  46%|█████████████▍               | 139/300 [01:43<02:04,  1.30it/s]"
     ]
    },
    {
     "name": "stdout",
     "output_type": "stream",
     "text": [
      "Epoch:  138\n",
      "t_loss:  0.39482548356056213 , v_loss:  0.6673378249009451\n",
      "t_acc:  0.716703227828267 , v_acc:  0.7049180327868853\n",
      "t_recall:  0.5478605393412952 , v_recall:  0.5194602272727272\n",
      "t_prec:  0.7194919036083132 , v_prec:  0.6539325842696628\n",
      "t_f:  0.5132610884783495 , v_f:  0.4617647058823529\n",
      "////////\n"
     ]
    },
    {
     "name": "stderr",
     "output_type": "stream",
     "text": [
      "\r",
      "Iterations:  47%|█████████████▌               | 140/300 [01:44<01:57,  1.36it/s]"
     ]
    },
    {
     "name": "stdout",
     "output_type": "stream",
     "text": [
      "Epoch  139 , loss 0.39413757383823395\n",
      "Epoch  140 , loss 0.398413656949997\n"
     ]
    },
    {
     "name": "stderr",
     "output_type": "stream",
     "text": [
      "\r",
      "Iterations:  47%|█████████████▋               | 141/300 [01:45<02:03,  1.28it/s]"
     ]
    },
    {
     "name": "stdout",
     "output_type": "stream",
     "text": [
      "Epoch:  140\n",
      "t_loss:  0.398413656949997 , v_loss:  0.6639937410751978\n",
      "t_acc:  0.7192102789094328 , v_acc:  0.7049180327868853\n",
      "t_recall:  0.5513946436564519 , v_recall:  0.5194602272727272\n",
      "t_prec:  0.7300731401735783 , v_prec:  0.6539325842696628\n",
      "t_f:  0.518906949352179 , v_f:  0.4617647058823529\n",
      "////////\n"
     ]
    },
    {
     "name": "stderr",
     "output_type": "stream",
     "text": [
      "\r",
      "Iterations:  47%|█████████████▋               | 142/300 [01:45<01:55,  1.37it/s]"
     ]
    },
    {
     "name": "stdout",
     "output_type": "stream",
     "text": [
      "Epoch  141 , loss 0.39264093041419984\n",
      "Epoch  142 , loss 0.38707595944404605\n"
     ]
    },
    {
     "name": "stderr",
     "output_type": "stream",
     "text": [
      "\r",
      "Iterations:  48%|█████████████▊               | 143/300 [01:46<02:01,  1.29it/s]"
     ]
    },
    {
     "name": "stdout",
     "output_type": "stream",
     "text": [
      "Epoch:  142\n",
      "t_loss:  0.38707595944404605 , v_loss:  0.6543155560890833\n",
      "t_acc:  0.7251645252272015 , v_acc:  0.7103825136612022\n",
      "t_recall:  0.558850690927356 , v_recall:  0.5285511363636364\n",
      "t_prec:  0.7588282405878972 , v_prec:  0.6892655367231638\n",
      "t_f:  0.5300848229615581 , v_f:  0.478688524590164\n",
      "////////\n"
     ]
    },
    {
     "name": "stderr",
     "output_type": "stream",
     "text": [
      "\r",
      "Iterations:  48%|█████████████▉               | 144/300 [01:47<01:53,  1.37it/s]"
     ]
    },
    {
     "name": "stdout",
     "output_type": "stream",
     "text": [
      "Epoch  143 , loss 0.3940836054086685\n",
      "Epoch  144 , loss 0.3950673705339432\n"
     ]
    },
    {
     "name": "stderr",
     "output_type": "stream",
     "text": [
      "\r",
      "Iterations:  48%|██████████████               | 145/300 [01:48<02:00,  1.29it/s]"
     ]
    },
    {
     "name": "stdout",
     "output_type": "stream",
     "text": [
      "Epoch:  144\n",
      "t_loss:  0.3950673705339432 , v_loss:  0.6646474351485571\n",
      "t_acc:  0.7261046693826386 , v_acc:  0.7049180327868853\n",
      "t_recall:  0.563853670380712 , v_recall:  0.5194602272727272\n",
      "t_prec:  0.742877764030329 , v_prec:  0.6539325842696628\n",
      "t_f:  0.5402077934067964 , v_f:  0.4617647058823529\n",
      "////////\n"
     ]
    },
    {
     "name": "stderr",
     "output_type": "stream",
     "text": [
      "\r",
      "Iterations:  49%|██████████████               | 146/300 [01:48<01:51,  1.38it/s]"
     ]
    },
    {
     "name": "stdout",
     "output_type": "stream",
     "text": [
      "Epoch  145 , loss 0.3945883679389954\n",
      "Epoch  146 , loss 0.3949201762676239\n"
     ]
    },
    {
     "name": "stderr",
     "output_type": "stream",
     "text": [
      "\r",
      "Iterations:  49%|██████████████▏              | 147/300 [01:49<01:57,  1.31it/s]"
     ]
    },
    {
     "name": "stdout",
     "output_type": "stream",
     "text": [
      "Epoch:  146\n",
      "t_loss:  0.3949201762676239 , v_loss:  0.6619079808394114\n",
      "t_acc:  0.7220307113757443 , v_acc:  0.7103825136612022\n",
      "t_recall:  0.5557310688870004 , v_recall:  0.5285511363636364\n",
      "t_prec:  0.7395180722891566 , v_prec:  0.6892655367231638\n",
      "t_f:  0.5260343780419129 , v_f:  0.478688524590164\n",
      "////////\n"
     ]
    },
    {
     "name": "stderr",
     "output_type": "stream",
     "text": [
      "\r",
      "Iterations:  49%|██████████████▎              | 148/300 [01:50<01:49,  1.39it/s]"
     ]
    },
    {
     "name": "stdout",
     "output_type": "stream",
     "text": [
      "Epoch  147 , loss 0.3932663381099701\n",
      "Epoch  148 , loss 0.3938805603981018\n"
     ]
    },
    {
     "name": "stderr",
     "output_type": "stream",
     "text": [
      "\r",
      "Iterations:  50%|██████████████▍              | 149/300 [01:50<01:56,  1.30it/s]"
     ]
    },
    {
     "name": "stdout",
     "output_type": "stream",
     "text": [
      "Epoch:  148\n",
      "t_loss:  0.3938805603981018 , v_loss:  0.686071569720904\n",
      "t_acc:  0.7204638044500157 , v_acc:  0.7103825136612022\n",
      "t_recall:  0.5546039273180193 , v_recall:  0.5233664772727272\n",
      "t_prec:  0.7281892645521088 , v_prec:  0.7297486033519553\n",
      "t_f:  0.5249928574670842 , v_f:  0.46452823938607624\n",
      "////////\n"
     ]
    },
    {
     "name": "stderr",
     "output_type": "stream",
     "text": [
      "\r",
      "Iterations:  50%|██████████████▌              | 150/300 [01:51<01:46,  1.41it/s]"
     ]
    },
    {
     "name": "stdout",
     "output_type": "stream",
     "text": [
      "Epoch  149 , loss 0.3917919421195984\n",
      "Epoch  150 , loss 0.394317255616188\n"
     ]
    },
    {
     "name": "stderr",
     "output_type": "stream",
     "text": [
      "\r",
      "Iterations:  50%|██████████████▌              | 151/300 [01:52<01:53,  1.32it/s]"
     ]
    },
    {
     "name": "stdout",
     "output_type": "stream",
     "text": [
      "Epoch:  150\n",
      "t_loss:  0.394317255616188 , v_loss:  0.675634354352951\n",
      "t_acc:  0.7248511438420557 , v_acc:  0.7049180327868853\n",
      "t_recall:  0.5597790478167511 , v_recall:  0.5194602272727272\n",
      "t_prec:  0.7498160412067697 , v_prec:  0.6539325842696628\n",
      "t_f:  0.5324481265202915 , v_f:  0.4617647058823529\n",
      "////////\n"
     ]
    },
    {
     "name": "stderr",
     "output_type": "stream",
     "text": [
      "\r",
      "Iterations:  51%|██████████████▋              | 152/300 [01:53<01:44,  1.41it/s]"
     ]
    },
    {
     "name": "stdout",
     "output_type": "stream",
     "text": [
      "Epoch  151 , loss 0.38945421725511553\n",
      "Epoch  152 , loss 0.3962902867794037\n"
     ]
    },
    {
     "name": "stderr",
     "output_type": "stream",
     "text": [
      "\r",
      "Iterations:  51%|██████████████▊              | 153/300 [01:53<01:51,  1.32it/s]"
     ]
    },
    {
     "name": "stdout",
     "output_type": "stream",
     "text": [
      "Epoch:  152\n",
      "t_loss:  0.3962902867794037 , v_loss:  0.6879808157682419\n",
      "t_acc:  0.7267314321529301 , v_acc:  0.7158469945355191\n",
      "t_recall:  0.5643045270083045 , v_recall:  0.5272727272727272\n",
      "t_prec:  0.7470440482209104 , v_prec:  0.8555555555555556\n",
      "t_f:  0.5406450164423725 , v_f:  0.46730855351545003\n",
      "////////\n"
     ]
    },
    {
     "name": "stderr",
     "output_type": "stream",
     "text": [
      "\r",
      "Iterations:  51%|██████████████▉              | 154/300 [01:54<01:42,  1.43it/s]"
     ]
    },
    {
     "name": "stdout",
     "output_type": "stream",
     "text": [
      "Epoch  153 , loss 0.3918271416425705\n",
      "Epoch  154 , loss 0.3923347067832947\n"
     ]
    },
    {
     "name": "stderr",
     "output_type": "stream",
     "text": [
      "\r",
      "Iterations:  52%|██████████████▉              | 155/300 [01:55<01:48,  1.34it/s]"
     ]
    },
    {
     "name": "stdout",
     "output_type": "stream",
     "text": [
      "Epoch:  154\n",
      "t_loss:  0.3923347067832947 , v_loss:  0.6690880507230759\n",
      "t_acc:  0.727984957693513 , v_acc:  0.7103825136612022\n",
      "t_recall:  0.5643409013610958 , v_recall:  0.5285511363636364\n",
      "t_prec:  0.760282523365537 , v_prec:  0.6892655367231638\n",
      "t_f:  0.5396576253157824 , v_f:  0.478688524590164\n",
      "////////\n"
     ]
    },
    {
     "name": "stderr",
     "output_type": "stream",
     "text": [
      "\r",
      "Iterations:  52%|███████████████              | 156/300 [01:55<01:39,  1.44it/s]"
     ]
    },
    {
     "name": "stdout",
     "output_type": "stream",
     "text": [
      "Epoch  155 , loss 0.395427011847496\n",
      "Epoch  156 , loss 0.39505748450756073\n"
     ]
    },
    {
     "name": "stderr",
     "output_type": "stream",
     "text": [
      "\r",
      "Iterations:  52%|███████████████▏             | 157/300 [01:56<01:46,  1.34it/s]"
     ]
    },
    {
     "name": "stdout",
     "output_type": "stream",
     "text": [
      "Epoch:  156\n",
      "t_loss:  0.39505748450756073 , v_loss:  0.6733008772134781\n",
      "t_acc:  0.7264180507677844 , v_acc:  0.7103825136612022\n",
      "t_recall:  0.5606177430849344 , v_recall:  0.5285511363636364\n",
      "t_prec:  0.7635226054936466 , v_prec:  0.6892655367231638\n",
      "t_f:  0.5328728705061486 , v_f:  0.478688524590164\n",
      "////////\n"
     ]
    },
    {
     "name": "stderr",
     "output_type": "stream",
     "text": [
      "\r",
      "Iterations:  53%|███████████████▎             | 158/300 [01:57<01:39,  1.42it/s]"
     ]
    },
    {
     "name": "stdout",
     "output_type": "stream",
     "text": [
      "Epoch  157 , loss 0.39523704946041105\n",
      "Epoch  158 , loss 0.3913215166330338\n"
     ]
    },
    {
     "name": "stderr",
     "output_type": "stream",
     "text": [
      "\r",
      "Iterations:  53%|███████████████▎             | 159/300 [01:58<01:46,  1.33it/s]"
     ]
    },
    {
     "name": "stdout",
     "output_type": "stream",
     "text": [
      "Epoch:  158\n",
      "t_loss:  0.3913215166330338 , v_loss:  0.6672043402989706\n",
      "t_acc:  0.72234409276089 , v_acc:  0.7103825136612022\n",
      "t_recall:  0.5573987287047858 , v_recall:  0.5285511363636364\n",
      "t_prec:  0.7346968548692687 , v_prec:  0.6892655367231638\n",
      "t_f:  0.5294725987545918 , v_f:  0.478688524590164\n",
      "////////\n"
     ]
    },
    {
     "name": "stderr",
     "output_type": "stream",
     "text": [
      "\r",
      "Iterations:  53%|███████████████▍             | 160/300 [01:58<01:38,  1.42it/s]"
     ]
    },
    {
     "name": "stdout",
     "output_type": "stream",
     "text": [
      "Epoch  159 , loss 0.39069314777851105\n",
      "Epoch  160 , loss 0.38877568900585174\n"
     ]
    },
    {
     "name": "stderr",
     "output_type": "stream",
     "text": [
      "\r",
      "Iterations:  54%|███████████████▌             | 161/300 [01:59<01:44,  1.33it/s]"
     ]
    },
    {
     "name": "stdout",
     "output_type": "stream",
     "text": [
      "Epoch:  160\n",
      "t_loss:  0.38877568900585174 , v_loss:  0.6652746846278509\n",
      "t_acc:  0.7207771858351614 , v_acc:  0.7103825136612022\n",
      "t_recall:  0.557425372338996 , v_recall:  0.5285511363636364\n",
      "t_prec:  0.7195154136643498 , v_prec:  0.6892655367231638\n",
      "t_f:  0.5309505886335595 , v_f:  0.478688524590164\n",
      "////////\n"
     ]
    },
    {
     "name": "stderr",
     "output_type": "stream",
     "text": [
      "\r",
      "Iterations:  54%|███████████████▋             | 162/300 [02:00<01:37,  1.42it/s]"
     ]
    },
    {
     "name": "stdout",
     "output_type": "stream",
     "text": [
      "Epoch  161 , loss 0.39037867963314055\n",
      "Epoch  162 , loss 0.40042377591133116\n"
     ]
    },
    {
     "name": "stderr",
     "output_type": "stream",
     "text": [
      "\r",
      "Iterations:  54%|███████████████▊             | 163/300 [02:01<01:43,  1.32it/s]"
     ]
    },
    {
     "name": "stdout",
     "output_type": "stream",
     "text": [
      "Epoch:  162\n",
      "t_loss:  0.40042377591133116 , v_loss:  0.668894166747729\n",
      "t_acc:  0.7198370416797242 , v_acc:  0.7103825136612022\n",
      "t_recall:  0.5547299632920226 , v_recall:  0.5285511363636364\n",
      "t_prec:  0.7214027570021632 , v_prec:  0.6892655367231638\n",
      "t_f:  0.5258685680095732 , v_f:  0.478688524590164\n",
      "////////\n"
     ]
    },
    {
     "name": "stderr",
     "output_type": "stream",
     "text": [
      "\r",
      "Iterations:  55%|███████████████▊             | 164/300 [02:01<01:36,  1.41it/s]"
     ]
    },
    {
     "name": "stdout",
     "output_type": "stream",
     "text": [
      "Epoch  163 , loss 0.3929024052619934\n",
      "Epoch  164 , loss 0.3907443231344223\n"
     ]
    },
    {
     "name": "stderr",
     "output_type": "stream",
     "text": [
      "\r",
      "Iterations:  55%|███████████████▉             | 165/300 [02:02<01:43,  1.30it/s]"
     ]
    },
    {
     "name": "stdout",
     "output_type": "stream",
     "text": [
      "Epoch:  164\n",
      "t_loss:  0.3907443231344223 , v_loss:  0.6713486115137736\n",
      "t_acc:  0.7276715763083673 , v_acc:  0.7103825136612022\n",
      "t_recall:  0.5626732415433104 , v_recall:  0.5285511363636364\n",
      "t_prec:  0.7663232676464565 , v_prec:  0.6892655367231638\n",
      "t_f:  0.5362896637965906 , v_f:  0.478688524590164\n",
      "////////\n"
     ]
    },
    {
     "name": "stderr",
     "output_type": "stream",
     "text": [
      "\r",
      "Iterations:  55%|████████████████             | 166/300 [02:03<01:36,  1.39it/s]"
     ]
    },
    {
     "name": "stdout",
     "output_type": "stream",
     "text": [
      "Epoch  165 , loss 0.38916572809219363\n",
      "Epoch  166 , loss 0.38937689244747165\n"
     ]
    },
    {
     "name": "stderr",
     "output_type": "stream",
     "text": [
      "\r",
      "Iterations:  56%|████████████████▏            | 167/300 [02:04<01:43,  1.28it/s]"
     ]
    },
    {
     "name": "stdout",
     "output_type": "stream",
     "text": [
      "Epoch:  166\n",
      "t_loss:  0.38937689244747165 , v_loss:  0.6729735682408015\n",
      "t_acc:  0.7242243810717643 , v_acc:  0.7103825136612022\n",
      "t_recall:  0.5613473152947435 , v_recall:  0.5285511363636364\n",
      "t_prec:  0.7356830820937502 , v_prec:  0.6892655367231638\n",
      "t_f:  0.536430750538174 , v_f:  0.478688524590164\n",
      "////////\n"
     ]
    },
    {
     "name": "stderr",
     "output_type": "stream",
     "text": [
      "\r",
      "Iterations:  56%|████████████████▏            | 168/300 [02:04<01:34,  1.39it/s]"
     ]
    },
    {
     "name": "stdout",
     "output_type": "stream",
     "text": [
      "Epoch  167 , loss 0.38834936916828156\n",
      "Epoch  168 , loss 0.3865559035539627\n"
     ]
    },
    {
     "name": "stderr",
     "output_type": "stream",
     "text": [
      "\r",
      "Iterations:  56%|████████████████▎            | 169/300 [02:05<01:40,  1.30it/s]"
     ]
    },
    {
     "name": "stdout",
     "output_type": "stream",
     "text": [
      "Epoch:  168\n",
      "t_loss:  0.3865559035539627 , v_loss:  0.6768381893634796\n",
      "t_acc:  0.7292384832340959 , v_acc:  0.7103825136612022\n",
      "t_recall:  0.5678386313234611 , v_recall:  0.5233664772727272\n",
      "t_prec:  0.7555034904013962 , v_prec:  0.7297486033519553\n",
      "t_f:  0.5460756382545748 , v_f:  0.46452823938607624\n",
      "////////\n"
     ]
    },
    {
     "name": "stderr",
     "output_type": "stream",
     "text": [
      "\r",
      "Iterations:  57%|████████████████▍            | 170/300 [02:06<01:33,  1.39it/s]"
     ]
    },
    {
     "name": "stdout",
     "output_type": "stream",
     "text": [
      "Epoch  169 , loss 0.38510063618421553\n",
      "Epoch  170 , loss 0.394270287156105\n"
     ]
    },
    {
     "name": "stderr",
     "output_type": "stream",
     "text": [
      "\r",
      "Iterations:  57%|████████████████▌            | 171/300 [02:07<01:39,  1.29it/s]"
     ]
    },
    {
     "name": "stdout",
     "output_type": "stream",
     "text": [
      "Epoch:  170\n",
      "t_loss:  0.394270287156105 , v_loss:  0.6808714419603348\n",
      "t_acc:  0.7276715763083673 , v_acc:  0.6994535519125683\n",
      "t_recall:  0.5649808119496931 , v_recall:  0.5103693181818182\n",
      "t_prec:  0.7534593195587109 , v_prec:  0.6019553072625698\n",
      "t_f:  0.5413019151162263 , v_f:  0.4443217578534754\n",
      "////////\n"
     ]
    },
    {
     "name": "stderr",
     "output_type": "stream",
     "text": [
      "\r",
      "Iterations:  57%|████████████████▋            | 172/300 [02:07<01:30,  1.41it/s]"
     ]
    },
    {
     "name": "stdout",
     "output_type": "stream",
     "text": [
      "Epoch  171 , loss 0.3920303493738174\n",
      "Epoch  172 , loss 0.39733563423156737\n"
     ]
    },
    {
     "name": "stderr",
     "output_type": "stream",
     "text": [
      "\r",
      "Iterations:  58%|████████████████▋            | 173/300 [02:08<01:37,  1.31it/s]"
     ]
    },
    {
     "name": "stdout",
     "output_type": "stream",
     "text": [
      "Epoch:  172\n",
      "t_loss:  0.39733563423156737 , v_loss:  0.6686488886674246\n",
      "t_acc:  0.7257912879974929 , v_acc:  0.7049180327868853\n",
      "t_recall:  0.5624744568637245 , v_recall:  0.5246448863636364\n",
      "t_prec:  0.7461973055193394 , v_prec:  0.640827922077922\n",
      "t_f:  0.5375121020806882 , v_f:  0.4757003395585739\n",
      "////////\n"
     ]
    },
    {
     "name": "stderr",
     "output_type": "stream",
     "text": [
      "\r",
      "Iterations:  58%|████████████████▊            | 174/300 [02:09<01:29,  1.40it/s]"
     ]
    },
    {
     "name": "stdout",
     "output_type": "stream",
     "text": [
      "Epoch  173 , loss 0.38906581163406373\n",
      "Epoch  174 , loss 0.392790806889534\n"
     ]
    },
    {
     "name": "stderr",
     "output_type": "stream",
     "text": [
      "\r",
      "Iterations:  58%|████████████████▉            | 175/300 [02:10<01:36,  1.30it/s]"
     ]
    },
    {
     "name": "stdout",
     "output_type": "stream",
     "text": [
      "Epoch:  174\n",
      "t_loss:  0.392790806889534 , v_loss:  0.6763086964686712\n",
      "t_acc:  0.7333124412409903 , v_acc:  0.7158469945355191\n",
      "t_recall:  0.573942108711588 , v_recall:  0.5324573863636364\n",
      "t_prec:  0.7667594450016717 , v_prec:  0.7567415730337079\n",
      "t_f:  0.5555693577104484 , v_f:  0.48169934640522877\n",
      "////////\n"
     ]
    },
    {
     "name": "stderr",
     "output_type": "stream",
     "text": [
      "\r",
      "Iterations:  59%|█████████████████            | 176/300 [02:10<01:29,  1.39it/s]"
     ]
    },
    {
     "name": "stdout",
     "output_type": "stream",
     "text": [
      "Epoch  175 , loss 0.3889352065324783\n",
      "Epoch  176 , loss 0.3885284134745598\n"
     ]
    },
    {
     "name": "stderr",
     "output_type": "stream",
     "text": [
      "\r",
      "Iterations:  59%|█████████████████            | 177/300 [02:11<01:34,  1.30it/s]"
     ]
    },
    {
     "name": "stdout",
     "output_type": "stream",
     "text": [
      "Epoch:  176\n",
      "t_loss:  0.3885284134745598 , v_loss:  0.6703851322333018\n",
      "t_acc:  0.7292384832340959 , v_acc:  0.7103825136612022\n",
      "t_recall:  0.5669732924210676 , v_recall:  0.5285511363636364\n",
      "t_prec:  0.7599054143964323 , v_prec:  0.6892655367231638\n",
      "t_f:  0.5442477525014084 , v_f:  0.478688524590164\n",
      "////////\n"
     ]
    },
    {
     "name": "stderr",
     "output_type": "stream",
     "text": [
      "\r",
      "Iterations:  59%|█████████████████▏           | 178/300 [02:12<01:27,  1.39it/s]"
     ]
    },
    {
     "name": "stdout",
     "output_type": "stream",
     "text": [
      "Epoch  177 , loss 0.3838301116228104\n",
      "Epoch  178 , loss 0.383860410451889\n"
     ]
    },
    {
     "name": "stderr",
     "output_type": "stream",
     "text": [
      "\r",
      "Iterations:  60%|█████████████████▎           | 179/300 [02:13<01:33,  1.30it/s]"
     ]
    },
    {
     "name": "stdout",
     "output_type": "stream",
     "text": [
      "Epoch:  178\n",
      "t_loss:  0.383860410451889 , v_loss:  0.673636183142662\n",
      "t_acc:  0.7333124412409903 , v_acc:  0.7103825136612022\n",
      "t_recall:  0.5733652161099924 , v_recall:  0.5285511363636364\n",
      "t_prec:  0.7697190896391946 , v_prec:  0.6892655367231638\n",
      "t_f:  0.5543908209997478 , v_f:  0.478688524590164\n",
      "////////\n"
     ]
    },
    {
     "name": "stderr",
     "output_type": "stream",
     "text": [
      "\r",
      "Iterations:  60%|█████████████████▍           | 180/300 [02:13<01:27,  1.38it/s]"
     ]
    },
    {
     "name": "stdout",
     "output_type": "stream",
     "text": [
      "Epoch  179 , loss 0.3890340441465378\n",
      "Epoch  180 , loss 0.38841439723968507\n"
     ]
    },
    {
     "name": "stderr",
     "output_type": "stream",
     "text": [
      "\r",
      "Iterations:  60%|█████████████████▍           | 181/300 [02:14<01:31,  1.31it/s]"
     ]
    },
    {
     "name": "stdout",
     "output_type": "stream",
     "text": [
      "Epoch:  180\n",
      "t_loss:  0.38841439723968507 , v_loss:  0.6747101495663325\n",
      "t_acc:  0.7348793481667188 , v_acc:  0.7103825136612022\n",
      "t_recall:  0.5791074984917386 , v_recall:  0.5285511363636364\n",
      "t_prec:  0.7579427193501989 , v_prec:  0.6892655367231638\n",
      "t_f:  0.5647553162811635 , v_f:  0.478688524590164\n",
      "////////\n"
     ]
    },
    {
     "name": "stderr",
     "output_type": "stream",
     "text": [
      "\r",
      "Iterations:  61%|█████████████████▌           | 182/300 [02:15<01:25,  1.37it/s]"
     ]
    },
    {
     "name": "stdout",
     "output_type": "stream",
     "text": [
      "Epoch  181 , loss 0.3894038599729538\n",
      "Epoch  182 , loss 0.3845008075237274\n"
     ]
    },
    {
     "name": "stderr",
     "output_type": "stream",
     "text": [
      "\r",
      "Iterations:  61%|█████████████████▋           | 183/300 [02:16<01:30,  1.30it/s]"
     ]
    },
    {
     "name": "stdout",
     "output_type": "stream",
     "text": [
      "Epoch:  182\n",
      "t_loss:  0.3845008075237274 , v_loss:  0.6837144841750463\n",
      "t_acc:  0.7295518646192416 , v_acc:  0.7103825136612022\n",
      "t_recall:  0.5695062911412465 , v_recall:  0.5233664772727272\n",
      "t_prec:  0.7507564359745904 , v_prec:  0.7297486033519553\n",
      "t_f:  0.5493024156335099 , v_f:  0.46452823938607624\n",
      "////////\n"
     ]
    },
    {
     "name": "stderr",
     "output_type": "stream",
     "text": [
      "\r",
      "Iterations:  61%|█████████████████▊           | 184/300 [02:16<01:23,  1.38it/s]"
     ]
    },
    {
     "name": "stdout",
     "output_type": "stream",
     "text": [
      "Epoch  183 , loss 0.3853391659259796\n",
      "Epoch  184 , loss 0.3913398897647858\n"
     ]
    },
    {
     "name": "stderr",
     "output_type": "stream",
     "text": [
      "\r",
      "Iterations:  62%|█████████████████▉           | 185/300 [02:17<01:27,  1.32it/s]"
     ]
    },
    {
     "name": "stdout",
     "output_type": "stream",
     "text": [
      "Epoch:  184\n",
      "t_loss:  0.3913398897647858 , v_loss:  0.6841647177934647\n",
      "t_acc:  0.7311187715449702 , v_acc:  0.7158469945355191\n",
      "t_recall:  0.5712103253118233 , v_recall:  0.5324573863636364\n",
      "t_prec:  0.7581087254454089 , v_prec:  0.7567415730337079\n",
      "t_f:  0.5516173936968156 , v_f:  0.48169934640522877\n",
      "////////\n"
     ]
    },
    {
     "name": "stderr",
     "output_type": "stream",
     "text": [
      "\r",
      "Iterations:  62%|█████████████████▉           | 186/300 [02:18<01:22,  1.39it/s]"
     ]
    },
    {
     "name": "stdout",
     "output_type": "stream",
     "text": [
      "Epoch  185 , loss 0.38367092579603196\n",
      "Epoch  186 , loss 0.38696216106414794\n"
     ]
    },
    {
     "name": "stderr",
     "output_type": "stream",
     "text": [
      "\r",
      "Iterations:  62%|██████████████████           | 187/300 [02:19<01:25,  1.31it/s]"
     ]
    },
    {
     "name": "stdout",
     "output_type": "stream",
     "text": [
      "Epoch:  186\n",
      "t_loss:  0.38696216106414794 , v_loss:  0.6840056230624517\n",
      "t_acc:  0.7333124412409903 , v_acc:  0.7103825136612022\n",
      "t_recall:  0.5742305550123858 , v_recall:  0.5233664772727272\n",
      "t_prec:  0.7653259973036448 , v_prec:  0.7297486033519553\n",
      "t_f:  0.556155420894132 , v_f:  0.46452823938607624\n",
      "////////\n"
     ]
    },
    {
     "name": "stderr",
     "output_type": "stream",
     "text": [
      "\r",
      "Iterations:  63%|██████████████████▏          | 188/300 [02:19<01:21,  1.38it/s]"
     ]
    },
    {
     "name": "stdout",
     "output_type": "stream",
     "text": [
      "Epoch  187 , loss 0.38684684872627256\n",
      "Epoch  188 , loss 0.3863797217607498\n"
     ]
    },
    {
     "name": "stderr",
     "output_type": "stream",
     "text": [
      "\r",
      "Iterations:  63%|██████████████████▎          | 189/300 [02:20<01:24,  1.31it/s]"
     ]
    },
    {
     "name": "stdout",
     "output_type": "stream",
     "text": [
      "Epoch:  188\n",
      "t_loss:  0.3863797217607498 , v_loss:  0.673661674062411\n",
      "t_acc:  0.7364462550924475 , v_acc:  0.7158469945355191\n",
      "t_recall:  0.579657747459124 , v_recall:  0.5376420454545454\n",
      "t_prec:  0.7698421543358898 , v_prec:  0.7150974025974026\n",
      "t_f:  0.5648023624556371 , v_f:  0.49511884550084895\n",
      "////////\n"
     ]
    },
    {
     "name": "stderr",
     "output_type": "stream",
     "text": [
      "\r",
      "Iterations:  63%|██████████████████▎          | 190/300 [02:21<01:19,  1.38it/s]"
     ]
    },
    {
     "name": "stdout",
     "output_type": "stream",
     "text": [
      "Epoch  189 , loss 0.38634382843971254\n",
      "Epoch  190 , loss 0.3846760630607605\n"
     ]
    },
    {
     "name": "stderr",
     "output_type": "stream",
     "text": [
      "\r",
      "Iterations:  64%|██████████████████▍          | 191/300 [02:21<01:22,  1.32it/s]"
     ]
    },
    {
     "name": "stdout",
     "output_type": "stream",
     "text": [
      "Epoch:  190\n",
      "t_loss:  0.3846760630607605 , v_loss:  0.6852520157893499\n",
      "t_acc:  0.7282983390786587 , v_acc:  0.7049180327868853\n",
      "t_recall:  0.566297007479679 , v_recall:  0.5142755681818182\n",
      "t_prec:  0.7534283092793731 , v_prec:  0.6861111111111111\n",
      "t_f:  0.5435849162124535 , v_f:  0.446820420958352\n",
      "////////\n"
     ]
    },
    {
     "name": "stderr",
     "output_type": "stream",
     "text": [
      "\r",
      "Iterations:  64%|██████████████████▌          | 192/300 [02:22<01:17,  1.39it/s]"
     ]
    },
    {
     "name": "stdout",
     "output_type": "stream",
     "text": [
      "Epoch  191 , loss 0.3869983834028244\n",
      "Epoch  192 , loss 0.37901450753211974\n"
     ]
    },
    {
     "name": "stderr",
     "output_type": "stream",
     "text": [
      "\r",
      "Iterations:  64%|██████████████████▋          | 193/300 [02:23<01:22,  1.30it/s]"
     ]
    },
    {
     "name": "stdout",
     "output_type": "stream",
     "text": [
      "Epoch:  192\n",
      "t_loss:  0.37901450753211974 , v_loss:  0.6787344117959341\n",
      "t_acc:  0.7351927295518647 , v_acc:  0.7103825136612022\n",
      "t_recall:  0.5758715711959609 , v_recall:  0.5285511363636364\n",
      "t_prec:  0.7763004248971506 , v_prec:  0.6892655367231638\n",
      "t_f:  0.5581187794786729 , v_f:  0.478688524590164\n",
      "////////\n"
     ]
    },
    {
     "name": "stderr",
     "output_type": "stream",
     "text": [
      "\r",
      "Iterations:  65%|██████████████████▊          | 194/300 [02:24<01:16,  1.38it/s]"
     ]
    },
    {
     "name": "stdout",
     "output_type": "stream",
     "text": [
      "Epoch  193 , loss 0.3840087050199509\n",
      "Epoch  194 , loss 0.3869318187236786\n"
     ]
    },
    {
     "name": "stderr",
     "output_type": "stream",
     "text": [
      "\r",
      "Iterations:  65%|██████████████████▊          | 195/300 [02:24<01:20,  1.30it/s]"
     ]
    },
    {
     "name": "stdout",
     "output_type": "stream",
     "text": [
      "Epoch:  194\n",
      "t_loss:  0.3869318187236786 , v_loss:  0.6864823798338572\n",
      "t_acc:  0.7295518646192416 , v_acc:  0.7158469945355191\n",
      "t_recall:  0.5718138615476291 , v_recall:  0.5324573863636364\n",
      "t_prec:  0.7411803610333022 , v_prec:  0.7567415730337079\n",
      "t_f:  0.5539973669024922 , v_f:  0.48169934640522877\n",
      "////////\n"
     ]
    },
    {
     "name": "stderr",
     "output_type": "stream",
     "text": [
      "\r",
      "Iterations:  65%|██████████████████▉          | 196/300 [02:25<01:15,  1.38it/s]"
     ]
    },
    {
     "name": "stdout",
     "output_type": "stream",
     "text": [
      "Epoch  195 , loss 0.38238965094089505\n",
      "Epoch  196 , loss 0.3850072979927063\n"
     ]
    },
    {
     "name": "stderr",
     "output_type": "stream",
     "text": [
      "\r",
      "Iterations:  66%|███████████████████          | 197/300 [02:26<01:18,  1.31it/s]"
     ]
    },
    {
     "name": "stdout",
     "output_type": "stream",
     "text": [
      "Epoch:  196\n",
      "t_loss:  0.3850072979927063 , v_loss:  0.683788334329923\n",
      "t_acc:  0.7317455343152617 , v_acc:  0.7213114754098361\n",
      "t_recall:  0.5731034134434048 , v_recall:  0.5415482954545454\n",
      "t_prec:  0.7554129269145589 , v_prec:  0.7754237288135594\n",
      "t_f:  0.5550120879192488 , v_f:  0.4983606557377049\n",
      "////////\n"
     ]
    },
    {
     "name": "stderr",
     "output_type": "stream",
     "text": [
      "\r",
      "Iterations:  66%|███████████████████▏         | 198/300 [02:27<01:13,  1.39it/s]"
     ]
    },
    {
     "name": "stdout",
     "output_type": "stream",
     "text": [
      "Epoch  197 , loss 0.3863035202026367\n",
      "Epoch  198 , loss 0.38015123426914216\n"
     ]
    },
    {
     "name": "stderr",
     "output_type": "stream",
     "text": [
      "\r",
      "Iterations:  66%|███████████████████▏         | 199/300 [02:27<01:16,  1.32it/s]"
     ]
    },
    {
     "name": "stdout",
     "output_type": "stream",
     "text": [
      "Epoch:  198\n",
      "t_loss:  0.38015123426914216 , v_loss:  0.6848448167244593\n",
      "t_acc:  0.735819492322156 , v_acc:  0.7158469945355191\n",
      "t_recall:  0.5780531056283403 , v_recall:  0.5376420454545454\n",
      "t_prec:  0.7714863392557827 , v_prec:  0.7150974025974026\n",
      "t_f:  0.5620569612988839 , v_f:  0.49511884550084895\n",
      "////////\n"
     ]
    },
    {
     "name": "stderr",
     "output_type": "stream",
     "text": [
      "\r",
      "Iterations:  67%|███████████████████▎         | 200/300 [02:28<01:11,  1.40it/s]"
     ]
    },
    {
     "name": "stdout",
     "output_type": "stream",
     "text": [
      "Epoch  199 , loss 0.38488427877426146\n",
      "Epoch  200 , loss 0.3839708250761032\n"
     ]
    },
    {
     "name": "stderr",
     "output_type": "stream",
     "text": [
      "\r",
      "Iterations:  67%|███████████████████▍         | 201/300 [02:29<01:15,  1.31it/s]"
     ]
    },
    {
     "name": "stdout",
     "output_type": "stream",
     "text": [
      "Epoch:  200\n",
      "t_loss:  0.3839708250761032 , v_loss:  0.691150446732839\n",
      "t_acc:  0.7329990598558446 , v_acc:  0.7213114754098361\n",
      "t_recall:  0.5766011434057701 , v_recall:  0.5415482954545454\n",
      "t_prec:  0.7518609930374636 , v_prec:  0.7754237288135594\n",
      "t_f:  0.561103512938633 , v_f:  0.4983606557377049\n",
      "////////\n"
     ]
    },
    {
     "name": "stderr",
     "output_type": "stream",
     "text": [
      "\r",
      "Iterations:  67%|███████████████████▌         | 202/300 [02:30<01:09,  1.41it/s]"
     ]
    },
    {
     "name": "stdout",
     "output_type": "stream",
     "text": [
      "Epoch  201 , loss 0.38480851888656614\n",
      "Epoch  202 , loss 0.3866063576936722\n"
     ]
    },
    {
     "name": "stderr",
     "output_type": "stream",
     "text": [
      "\r",
      "Iterations:  68%|███████████████████▌         | 203/300 [02:30<01:14,  1.30it/s]"
     ]
    },
    {
     "name": "stdout",
     "output_type": "stream",
     "text": [
      "Epoch:  202\n",
      "t_loss:  0.3866063576936722 , v_loss:  0.6833156148592631\n",
      "t_acc:  0.7342525853964275 , v_acc:  0.7158469945355191\n",
      "t_recall:  0.578945088164944 , v_recall:  0.5376420454545454\n",
      "t_prec:  0.7532185045806655 , v_prec:  0.7150974025974026\n",
      "t_f:  0.5648449761996656 , v_f:  0.49511884550084895\n",
      "////////\n"
     ]
    },
    {
     "name": "stderr",
     "output_type": "stream",
     "text": [
      "\r",
      "Iterations:  68%|███████████████████▋         | 204/300 [02:31<01:09,  1.39it/s]"
     ]
    },
    {
     "name": "stdout",
     "output_type": "stream",
     "text": [
      "Epoch  203 , loss 0.3822086149454117\n",
      "Epoch  204 , loss 0.385660674571991\n"
     ]
    },
    {
     "name": "stderr",
     "output_type": "stream",
     "text": [
      "\r",
      "Iterations:  68%|███████████████████▊         | 205/300 [02:32<01:12,  1.32it/s]"
     ]
    },
    {
     "name": "stdout",
     "output_type": "stream",
     "text": [
      "Epoch:  204\n",
      "t_loss:  0.385660674571991 , v_loss:  0.6814162085453669\n",
      "t_acc:  0.7373863992478846 , v_acc:  0.7213114754098361\n",
      "t_recall:  0.5811993713029061 , v_recall:  0.5415482954545454\n",
      "t_prec:  0.771535333876701 , v_prec:  0.7754237288135594\n",
      "t_f:  0.5671980810814311 , v_f:  0.4983606557377049\n",
      "////////\n"
     ]
    },
    {
     "name": "stderr",
     "output_type": "stream",
     "text": [
      "\r",
      "Iterations:  69%|███████████████████▉         | 206/300 [02:32<01:07,  1.39it/s]"
     ]
    },
    {
     "name": "stdout",
     "output_type": "stream",
     "text": [
      "Epoch  205 , loss 0.38145177602767943\n",
      "Epoch  206 , loss 0.3868986976146698\n"
     ]
    },
    {
     "name": "stderr",
     "output_type": "stream",
     "text": [
      "\r",
      "Iterations:  69%|████████████████████         | 207/300 [02:33<01:11,  1.31it/s]"
     ]
    },
    {
     "name": "stdout",
     "output_type": "stream",
     "text": [
      "Epoch:  206\n",
      "t_loss:  0.3868986976146698 , v_loss:  0.684781605998675\n",
      "t_acc:  0.7292384832340959 , v_acc:  0.7213114754098361\n",
      "t_recall:  0.5724537721362264 , v_recall:  0.5415482954545454\n",
      "t_prec:  0.736247174646151 , v_prec:  0.7754237288135594\n",
      "t_f:  0.5554947910956562 , v_f:  0.4983606557377049\n",
      "////////\n"
     ]
    },
    {
     "name": "stderr",
     "output_type": "stream",
     "text": [
      "\r",
      "Iterations:  69%|████████████████████         | 208/300 [02:34<01:05,  1.40it/s]"
     ]
    },
    {
     "name": "stdout",
     "output_type": "stream",
     "text": [
      "Epoch  207 , loss 0.3797682648897171\n",
      "Epoch  208 , loss 0.38374336183071134\n"
     ]
    },
    {
     "name": "stderr",
     "output_type": "stream",
     "text": [
      "\r",
      "Iterations:  70%|████████████████████▏        | 209/300 [02:35<01:09,  1.32it/s]"
     ]
    },
    {
     "name": "stdout",
     "output_type": "stream",
     "text": [
      "Epoch:  208\n",
      "t_loss:  0.38374336183071134 , v_loss:  0.6853662182887396\n",
      "t_acc:  0.7351927295518647 , v_acc:  0.7158469945355191\n",
      "t_recall:  0.5796213731063327 , v_recall:  0.5324573863636364\n",
      "t_prec:  0.7585463912561992 , v_prec:  0.7567415730337079\n",
      "t_f:  0.5655491992598017 , v_f:  0.48169934640522877\n",
      "////////\n"
     ]
    },
    {
     "name": "stderr",
     "output_type": "stream",
     "text": [
      "\r",
      "Iterations:  70%|████████████████████▎        | 210/300 [02:35<01:03,  1.41it/s]"
     ]
    },
    {
     "name": "stdout",
     "output_type": "stream",
     "text": [
      "Epoch  209 , loss 0.38353409826755525\n",
      "Epoch  210 , loss 0.38602006316185\n"
     ]
    },
    {
     "name": "stderr",
     "output_type": "stream",
     "text": [
      "\r",
      "Iterations:  70%|████████████████████▍        | 211/300 [02:36<01:06,  1.33it/s]"
     ]
    },
    {
     "name": "stdout",
     "output_type": "stream",
     "text": [
      "Epoch:  210\n",
      "t_loss:  0.38602006316185 , v_loss:  0.686013455192248\n",
      "t_acc:  0.731432152930116 , v_acc:  0.7213114754098361\n",
      "t_recall:  0.5725895388288107 , v_recall:  0.5415482954545454\n",
      "t_prec:  0.7547632986941178 , v_prec:  0.7754237288135594\n",
      "t_f:  0.5542000708471022 , v_f:  0.4983606557377049\n",
      "////////\n"
     ]
    },
    {
     "name": "stderr",
     "output_type": "stream",
     "text": [
      "\r",
      "Iterations:  71%|████████████████████▍        | 212/300 [02:37<01:01,  1.43it/s]"
     ]
    },
    {
     "name": "stdout",
     "output_type": "stream",
     "text": [
      "Epoch  211 , loss 0.3841141799092293\n",
      "Epoch  212 , loss 0.3809068554639816\n"
     ]
    },
    {
     "name": "stderr",
     "output_type": "stream",
     "text": [
      "\r",
      "Iterations:  71%|████████████████████▌        | 213/300 [02:38<01:04,  1.34it/s]"
     ]
    },
    {
     "name": "stdout",
     "output_type": "stream",
     "text": [
      "Epoch:  212\n",
      "t_loss:  0.3809068554639816 , v_loss:  0.6941671073436737\n",
      "t_acc:  0.7376997806330304 , v_acc:  0.7158469945355191\n",
      "t_recall:  0.5828670311206915 , v_recall:  0.5324573863636364\n",
      "t_prec:  0.7668842991239984 , v_prec:  0.7567415730337079\n",
      "t_f:  0.5702143901833431 , v_f:  0.48169934640522877\n",
      "////////\n"
     ]
    },
    {
     "name": "stderr",
     "output_type": "stream",
     "text": [
      "\r",
      "Iterations:  71%|████████████████████▋        | 214/300 [02:38<01:00,  1.43it/s]"
     ]
    },
    {
     "name": "stdout",
     "output_type": "stream",
     "text": [
      "Epoch  213 , loss 0.382835339307785\n",
      "Epoch  214 , loss 0.38189328610897066\n"
     ]
    },
    {
     "name": "stderr",
     "output_type": "stream",
     "text": [
      "\r",
      "Iterations:  72%|████████████████████▊        | 215/300 [02:39<01:03,  1.33it/s]"
     ]
    },
    {
     "name": "stdout",
     "output_type": "stream",
     "text": [
      "Epoch:  214\n",
      "t_loss:  0.38189328610897066 , v_loss:  0.6838252544403076\n",
      "t_acc:  0.735819492322156 , v_acc:  0.7158469945355191\n",
      "t_recall:  0.5803606760347229 , v_recall:  0.5376420454545454\n",
      "t_prec:  0.7609470545043093 , v_prec:  0.7150974025974026\n",
      "t_f:  0.5665774851787134 , v_f:  0.49511884550084895\n",
      "////////\n"
     ]
    },
    {
     "name": "stderr",
     "output_type": "stream",
     "text": [
      "\r",
      "Iterations:  72%|████████████████████▉        | 216/300 [02:40<00:59,  1.41it/s]"
     ]
    },
    {
     "name": "stdout",
     "output_type": "stream",
     "text": [
      "Epoch  215 , loss 0.3787878793478012\n",
      "Epoch  216 , loss 0.3835853236913681\n"
     ]
    },
    {
     "name": "stderr",
     "output_type": "stream",
     "text": [
      "\r",
      "Iterations:  72%|████████████████████▉        | 217/300 [02:41<01:02,  1.33it/s]"
     ]
    },
    {
     "name": "stdout",
     "output_type": "stream",
     "text": [
      "Epoch:  216\n",
      "t_loss:  0.3835853236913681 , v_loss:  0.6733185996611913\n",
      "t_acc:  0.7398934503290504 , v_acc:  0.7158469945355191\n",
      "t_recall:  0.5899255090324237 , v_recall:  0.5376420454545454\n",
      "t_prec:  0.7573736336895488 , v_prec:  0.7150974025974026\n",
      "t_f:  0.5820503837802353 , v_f:  0.49511884550084895\n",
      "////////\n"
     ]
    },
    {
     "name": "stderr",
     "output_type": "stream",
     "text": [
      "\r",
      "Iterations:  73%|█████████████████████        | 218/300 [02:41<00:57,  1.42it/s]"
     ]
    },
    {
     "name": "stdout",
     "output_type": "stream",
     "text": [
      "Epoch  217 , loss 0.37557611107826233\n",
      "Epoch  218 , loss 0.38175834000110626\n"
     ]
    },
    {
     "name": "stderr",
     "output_type": "stream",
     "text": [
      "\r",
      "Iterations:  73%|█████████████████████▏       | 219/300 [02:42<01:00,  1.35it/s]"
     ]
    },
    {
     "name": "stdout",
     "output_type": "stream",
     "text": [
      "Epoch:  218\n",
      "t_loss:  0.38175834000110626 , v_loss:  0.6873483310143153\n",
      "t_acc:  0.7317455343152617 , v_acc:  0.7158469945355191\n",
      "t_recall:  0.5725265208418091 , v_recall:  0.5376420454545454\n",
      "t_prec:  0.7580444932439117 , v_prec:  0.7150974025974026\n",
      "t_f:  0.5538415904202634 , v_f:  0.49511884550084895\n",
      "////////\n"
     ]
    },
    {
     "name": "stderr",
     "output_type": "stream",
     "text": [
      "\r",
      "Iterations:  73%|█████████████████████▎       | 220/300 [02:43<00:55,  1.44it/s]"
     ]
    },
    {
     "name": "stdout",
     "output_type": "stream",
     "text": [
      "Epoch  219 , loss 0.38356854498386384\n",
      "Epoch  220 , loss 0.38204779863357546\n"
     ]
    },
    {
     "name": "stderr",
     "output_type": "stream",
     "text": [
      "\r",
      "Iterations:  74%|█████████████████████▎       | 221/300 [02:44<00:59,  1.34it/s]"
     ]
    },
    {
     "name": "stdout",
     "output_type": "stream",
     "text": [
      "Epoch:  220\n",
      "t_loss:  0.38204779863357546 , v_loss:  0.6908465971549352\n",
      "t_acc:  0.7317455343152617 , v_acc:  0.7213114754098361\n",
      "t_recall:  0.5780070005569677 , v_recall:  0.5415482954545454\n",
      "t_prec:  0.7367930234193685 , v_prec:  0.7754237288135594\n",
      "t_f:  0.564629120528815 , v_f:  0.4983606557377049\n",
      "////////\n"
     ]
    },
    {
     "name": "stderr",
     "output_type": "stream",
     "text": [
      "\r",
      "Iterations:  74%|█████████████████████▍       | 222/300 [02:44<00:54,  1.43it/s]"
     ]
    },
    {
     "name": "stdout",
     "output_type": "stream",
     "text": [
      "Epoch  221 , loss 0.38079888582229615\n",
      "Epoch  222 , loss 0.38358260452747345\n"
     ]
    },
    {
     "name": "stderr",
     "output_type": "stream",
     "text": [
      "\r",
      "Iterations:  74%|█████████████████████▌       | 223/300 [02:45<00:58,  1.33it/s]"
     ]
    },
    {
     "name": "stdout",
     "output_type": "stream",
     "text": [
      "Epoch:  222\n",
      "t_loss:  0.38358260452747345 , v_loss:  0.6851173490285873\n",
      "t_acc:  0.7383265434033218 , v_acc:  0.7158469945355191\n",
      "t_recall:  0.5850485655530708 , v_recall:  0.5376420454545454\n",
      "t_prec:  0.763191516820098 , v_prec:  0.7150974025974026\n",
      "t_f:  0.5739657638911208 , v_f:  0.49511884550084895\n",
      "////////\n"
     ]
    },
    {
     "name": "stderr",
     "output_type": "stream",
     "text": [
      "\r",
      "Iterations:  75%|█████████████████████▋       | 224/300 [02:46<00:54,  1.40it/s]"
     ]
    },
    {
     "name": "stdout",
     "output_type": "stream",
     "text": [
      "Epoch  223 , loss 0.3793763294816017\n",
      "Epoch  224 , loss 0.38053271174430847\n"
     ]
    },
    {
     "name": "stderr",
     "output_type": "stream",
     "text": [
      "\r",
      "Iterations:  75%|█████████████████████▊       | 225/300 [02:46<00:57,  1.31it/s]"
     ]
    },
    {
     "name": "stdout",
     "output_type": "stream",
     "text": [
      "Epoch:  224\n",
      "t_loss:  0.38053271174430847 , v_loss:  0.6955621093511581\n",
      "t_acc:  0.7414603572547791 , v_acc:  0.7213114754098361\n",
      "t_recall:  0.5893219727966178 , v_recall:  0.5415482954545454\n",
      "t_prec:  0.7721775104484356 , v_prec:  0.7754237288135594\n",
      "t_f:  0.5801313780532908 , v_f:  0.4983606557377049\n",
      "////////\n"
     ]
    },
    {
     "name": "stderr",
     "output_type": "stream",
     "text": [
      "\r",
      "Iterations:  75%|█████████████████████▊       | 226/300 [02:47<00:53,  1.39it/s]"
     ]
    },
    {
     "name": "stdout",
     "output_type": "stream",
     "text": [
      "Epoch  225 , loss 0.37572355687618253\n",
      "Epoch  226 , loss 0.3796002769470215\n"
     ]
    },
    {
     "name": "stderr",
     "output_type": "stream",
     "text": [
      "\r",
      "Iterations:  76%|█████████████████████▉       | 227/300 [02:48<00:55,  1.31it/s]"
     ]
    },
    {
     "name": "stdout",
     "output_type": "stream",
     "text": [
      "Epoch:  226\n",
      "t_loss:  0.3796002769470215 , v_loss:  0.6848647544781367\n",
      "t_acc:  0.7380131620181761 , v_acc:  0.7158469945355191\n",
      "t_recall:  0.5813617816297008 , v_recall:  0.5376420454545454\n",
      "t_prec:  0.7768155834492065 , v_prec:  0.7150974025974026\n",
      "t_f:  0.5671083087652066 , v_f:  0.49511884550084895\n",
      "////////\n"
     ]
    },
    {
     "name": "stderr",
     "output_type": "stream",
     "text": [
      "\r",
      "Iterations:  76%|██████████████████████       | 228/300 [02:49<00:51,  1.39it/s]"
     ]
    },
    {
     "name": "stdout",
     "output_type": "stream",
     "text": [
      "Epoch  227 , loss 0.38172087728977205\n",
      "Epoch  228 , loss 0.3797353935241699\n"
     ]
    },
    {
     "name": "stderr",
     "output_type": "stream",
     "text": [
      "\r",
      "Iterations:  76%|██████████████████████▏      | 229/300 [02:49<00:54,  1.29it/s]"
     ]
    },
    {
     "name": "stdout",
     "output_type": "stream",
     "text": [
      "Epoch:  228\n",
      "t_loss:  0.3797353935241699 , v_loss:  0.6850697845220566\n",
      "t_acc:  0.7405202130993419 , v_acc:  0.7158469945355191\n",
      "t_recall:  0.5874919026520379 , v_recall:  0.5376420454545454\n",
      "t_prec:  0.7718128292977859 , v_prec:  0.7150974025974026\n",
      "t_f:  0.5772693062869108 , v_f:  0.49511884550084895\n",
      "////////\n"
     ]
    },
    {
     "name": "stderr",
     "output_type": "stream",
     "text": [
      "\r",
      "Iterations:  77%|██████████████████████▏      | 230/300 [02:50<00:51,  1.36it/s]"
     ]
    },
    {
     "name": "stdout",
     "output_type": "stream",
     "text": [
      "Epoch  229 , loss 0.3821209186315537\n",
      "Epoch  230 , loss 0.37769967257976533\n"
     ]
    },
    {
     "name": "stderr",
     "output_type": "stream",
     "text": [
      "\r",
      "Iterations:  77%|██████████████████████▎      | 231/300 [02:51<00:53,  1.28it/s]"
     ]
    },
    {
     "name": "stdout",
     "output_type": "stream",
     "text": [
      "Epoch:  230\n",
      "t_loss:  0.37769967257976533 , v_loss:  0.6900699138641357\n",
      "t_acc:  0.7355061109370103 , v_acc:  0.7213114754098361\n",
      "t_recall:  0.5795583551193311 , v_recall:  0.5415482954545454\n",
      "t_prec:  0.7615841674665205 , v_prec:  0.7754237288135594\n",
      "t_f:  0.5652246067138571 , v_f:  0.4983606557377049\n",
      "////////\n"
     ]
    },
    {
     "name": "stderr",
     "output_type": "stream",
     "text": [
      "\r",
      "Iterations:  77%|██████████████████████▍      | 232/300 [02:52<00:49,  1.36it/s]"
     ]
    },
    {
     "name": "stdout",
     "output_type": "stream",
     "text": [
      "Epoch  231 , loss 0.37739029437303545\n",
      "Epoch  232 , loss 0.37845562905073166\n"
     ]
    },
    {
     "name": "stderr",
     "output_type": "stream",
     "text": [
      "\r",
      "Iterations:  78%|██████████████████████▌      | 233/300 [02:53<00:52,  1.27it/s]"
     ]
    },
    {
     "name": "stdout",
     "output_type": "stream",
     "text": [
      "Epoch:  232\n",
      "t_loss:  0.37845562905073166 , v_loss:  0.7043298532565435\n",
      "t_acc:  0.7351927295518647 , v_acc:  0.7158469945355191\n",
      "t_recall:  0.5799098194071305 , v_recall:  0.5324573863636364\n",
      "t_prec:  0.7573602053455506 , v_prec:  0.7567415730337079\n",
      "t_f:  0.566106522944952 , v_f:  0.48169934640522877\n",
      "////////\n"
     ]
    },
    {
     "name": "stderr",
     "output_type": "stream",
     "text": [
      "\r",
      "Iterations:  78%|██████████████████████▌      | 234/300 [02:53<00:48,  1.36it/s]"
     ]
    },
    {
     "name": "stdout",
     "output_type": "stream",
     "text": [
      "Epoch  233 , loss 0.38134064972400666\n",
      "Epoch  234 , loss 0.38229634940624235\n"
     ]
    },
    {
     "name": "stderr",
     "output_type": "stream",
     "text": [
      "\r",
      "Iterations:  78%|██████████████████████▋      | 235/300 [02:54<00:50,  1.29it/s]"
     ]
    },
    {
     "name": "stdout",
     "output_type": "stream",
     "text": [
      "Epoch:  234\n",
      "t_loss:  0.38229634940624235 , v_loss:  0.6983092377583185\n",
      "t_acc:  0.7308053901598245 , v_acc:  0.7213114754098361\n",
      "t_recall:  0.574446252607601 , v_recall:  0.5415482954545454\n",
      "t_prec:  0.741741748519428 , v_prec:  0.7754237288135594\n",
      "t_f:  0.5583511978274197 , v_f:  0.4983606557377049\n",
      "////////\n"
     ]
    },
    {
     "name": "stderr",
     "output_type": "stream",
     "text": [
      "\r",
      "Iterations:  79%|██████████████████████▊      | 236/300 [02:55<00:46,  1.38it/s]"
     ]
    },
    {
     "name": "stdout",
     "output_type": "stream",
     "text": [
      "Epoch  235 , loss 0.3806620854139328\n",
      "Epoch  236 , loss 0.374910908639431\n"
     ]
    },
    {
     "name": "stderr",
     "output_type": "stream",
     "text": [
      "\r",
      "Iterations:  79%|██████████████████████▉      | 237/300 [02:56<00:49,  1.28it/s]"
     ]
    },
    {
     "name": "stdout",
     "output_type": "stream",
     "text": [
      "Epoch:  236\n",
      "t_loss:  0.374910908639431 , v_loss:  0.6987586915493011\n",
      "t_acc:  0.735819492322156 , v_acc:  0.7158469945355191\n",
      "t_recall:  0.581802907538712 , v_recall:  0.5324573863636364\n",
      "t_prec:  0.7551384661631533 , v_prec:  0.7567415730337079\n",
      "t_f:  0.5693378000312188 , v_f:  0.48169934640522877\n",
      "////////\n"
     ]
    },
    {
     "name": "stderr",
     "output_type": "stream",
     "text": [
      "\r",
      "Iterations:  79%|███████████████████████      | 238/300 [02:56<00:45,  1.37it/s]"
     ]
    },
    {
     "name": "stdout",
     "output_type": "stream",
     "text": [
      "Epoch  237 , loss 0.37858756601810456\n",
      "Epoch  238 , loss 0.38191005200147626\n"
     ]
    },
    {
     "name": "stderr",
     "output_type": "stream",
     "text": [
      "\r",
      "Iterations:  80%|███████████████████████      | 239/300 [02:57<00:47,  1.29it/s]"
     ]
    },
    {
     "name": "stdout",
     "output_type": "stream",
     "text": [
      "Epoch:  238\n",
      "t_loss:  0.38191005200147626 , v_loss:  0.696289007862409\n",
      "t_acc:  0.7351927295518647 , v_acc:  0.7213114754098361\n",
      "t_recall:  0.5816404972119175 , v_recall:  0.5415482954545454\n",
      "t_prec:  0.7506915058607256 , v_prec:  0.7754237288135594\n",
      "t_f:  0.5694091149571525 , v_f:  0.4983606557377049\n",
      "////////\n"
     ]
    },
    {
     "name": "stderr",
     "output_type": "stream",
     "text": [
      "\r",
      "Iterations:  80%|███████████████████████▏     | 240/300 [02:58<00:43,  1.38it/s]"
     ]
    },
    {
     "name": "stdout",
     "output_type": "stream",
     "text": [
      "Epoch  239 , loss 0.37789943516254426\n",
      "Epoch  240 , loss 0.38205486416816714\n"
     ]
    },
    {
     "name": "stderr",
     "output_type": "stream",
     "text": [
      "\r",
      "Iterations:  80%|███████████████████████▎     | 241/300 [02:59<00:45,  1.29it/s]"
     ]
    },
    {
     "name": "stdout",
     "output_type": "stream",
     "text": [
      "Epoch:  240\n",
      "t_loss:  0.38205486416816714 , v_loss:  0.6998585363229116\n",
      "t_acc:  0.7355061109370103 , v_acc:  0.7158469945355191\n",
      "t_recall:  0.5798468014201289 , v_recall:  0.5324573863636364\n",
      "t_prec:  0.7603533354284264 , v_prec:  0.7567415730337079\n",
      "t_f:  0.5657842635239976 , v_f:  0.48169934640522877\n",
      "////////\n"
     ]
    },
    {
     "name": "stderr",
     "output_type": "stream",
     "text": [
      "\r",
      "Iterations:  81%|███████████████████████▍     | 242/300 [02:59<00:41,  1.39it/s]"
     ]
    },
    {
     "name": "stdout",
     "output_type": "stream",
     "text": [
      "Epoch  241 , loss 0.37581986367702486\n",
      "Epoch  242 , loss 0.3786799225211144\n"
     ]
    },
    {
     "name": "stderr",
     "output_type": "stream",
     "text": [
      "\r",
      "Iterations:  81%|███████████████████████▍     | 243/300 [03:00<00:43,  1.31it/s]"
     ]
    },
    {
     "name": "stdout",
     "output_type": "stream",
     "text": [
      "Epoch:  242\n",
      "t_loss:  0.3786799225211144 , v_loss:  0.696764255563418\n",
      "t_acc:  0.7395800689439047 , v_acc:  0.7213114754098361\n",
      "t_recall:  0.5879694029138405 , v_recall:  0.5415482954545454\n",
      "t_prec:  0.7620508785733018 , v_prec:  0.7754237288135594\n",
      "t_f:  0.5786703745032531 , v_f:  0.4983606557377049\n",
      "////////\n"
     ]
    },
    {
     "name": "stderr",
     "output_type": "stream",
     "text": [
      "\r",
      "Iterations:  81%|███████████████████████▌     | 244/300 [03:01<00:40,  1.39it/s]"
     ]
    },
    {
     "name": "stdout",
     "output_type": "stream",
     "text": [
      "Epoch  243 , loss 0.3785979604721069\n",
      "Epoch  244 , loss 0.3754910662770271\n"
     ]
    },
    {
     "name": "stderr",
     "output_type": "stream",
     "text": [
      "\r",
      "Iterations:  82%|███████████████████████▋     | 245/300 [03:02<00:42,  1.29it/s]"
     ]
    },
    {
     "name": "stdout",
     "output_type": "stream",
     "text": [
      "Epoch:  244\n",
      "t_loss:  0.3754910662770271 , v_loss:  0.6913334280252457\n",
      "t_acc:  0.7455343152616735 , v_acc:  0.7213114754098361\n",
      "t_recall:  0.5977330205911272 , v_recall:  0.5467329545454546\n",
      "t_prec:  0.7720166625827003 , v_prec:  0.735\n",
      "t_f:  0.5931247911521367 , v_f:  0.5110796793965111\n",
      "////////\n"
     ]
    },
    {
     "name": "stderr",
     "output_type": "stream",
     "text": [
      "\r",
      "Iterations:  82%|███████████████████████▊     | 246/300 [03:02<00:39,  1.36it/s]"
     ]
    },
    {
     "name": "stdout",
     "output_type": "stream",
     "text": [
      "Epoch  245 , loss 0.37506015717983243\n",
      "Epoch  246 , loss 0.381312812268734\n"
     ]
    },
    {
     "name": "stderr",
     "output_type": "stream",
     "text": [
      "\r",
      "Iterations:  82%|███████████████████████▉     | 247/300 [03:03<00:41,  1.27it/s]"
     ]
    },
    {
     "name": "stdout",
     "output_type": "stream",
     "text": [
      "Epoch:  246\n",
      "t_loss:  0.381312812268734 , v_loss:  0.6933994938929876\n",
      "t_acc:  0.7430272641805077 , v_acc:  0.7158469945355191\n",
      "t_recall:  0.5910260069671945 , v_recall:  0.5376420454545454\n",
      "t_prec:  0.7784361499472736 , v_prec:  0.7150974025974026\n",
      "t_f:  0.5824124965688058 , v_f:  0.49511884550084895\n",
      "////////\n"
     ]
    },
    {
     "name": "stderr",
     "output_type": "stream",
     "text": [
      "\r",
      "Iterations:  83%|███████████████████████▉     | 248/300 [03:04<00:38,  1.35it/s]"
     ]
    },
    {
     "name": "stdout",
     "output_type": "stream",
     "text": [
      "Epoch  247 , loss 0.37932619482278823\n",
      "Epoch  248 , loss 0.3743930321931839\n"
     ]
    },
    {
     "name": "stderr",
     "output_type": "stream",
     "text": [
      "\r",
      "Iterations:  83%|████████████████████████     | 249/300 [03:05<00:40,  1.27it/s]"
     ]
    },
    {
     "name": "stdout",
     "output_type": "stream",
     "text": [
      "Epoch:  248\n",
      "t_loss:  0.3743930321931839 , v_loss:  0.687704473733902\n",
      "t_acc:  0.7370730178627389 , v_acc:  0.7213114754098361\n",
      "t_recall:  0.5841468522978861 , v_recall:  0.5467329545454546\n",
      "t_prec:  0.7564081384841297 , v_prec:  0.735\n",
      "t_f:  0.573006334771771 , v_f:  0.5110796793965111\n",
      "////////\n"
     ]
    },
    {
     "name": "stderr",
     "output_type": "stream",
     "text": [
      "\r",
      "Iterations:  83%|████████████████████████▏    | 250/300 [03:05<00:36,  1.36it/s]"
     ]
    },
    {
     "name": "stdout",
     "output_type": "stream",
     "text": [
      "Epoch  249 , loss 0.37509255766868593\n",
      "Epoch  250 , loss 0.3757916909456253\n"
     ]
    },
    {
     "name": "stderr",
     "output_type": "stream",
     "text": [
      "\r",
      "Iterations:  84%|████████████████████████▎    | 251/300 [03:06<00:38,  1.27it/s]"
     ]
    },
    {
     "name": "stdout",
     "output_type": "stream",
     "text": [
      "Epoch:  250\n",
      "t_loss:  0.3757916909456253 , v_loss:  0.6910407145818075\n",
      "t_acc:  0.7442807897210906 , v_acc:  0.7213114754098361\n",
      "t_recall:  0.5936583980271664 , v_recall:  0.5415482954545454\n",
      "t_prec:  0.7779625891128322 , v_prec:  0.7754237288135594\n",
      "t_f:  0.5865346383724697 , v_f:  0.4983606557377049\n",
      "////////\n"
     ]
    },
    {
     "name": "stderr",
     "output_type": "stream",
     "text": [
      "\r",
      "Iterations:  84%|████████████████████████▎    | 252/300 [03:07<00:35,  1.36it/s]"
     ]
    },
    {
     "name": "stdout",
     "output_type": "stream",
     "text": [
      "Epoch  251 , loss 0.3729642224311829\n",
      "Epoch  252 , loss 0.38086421251297\n"
     ]
    },
    {
     "name": "stderr",
     "output_type": "stream",
     "text": [
      "\r",
      "Iterations:  84%|████████████████████████▍    | 253/300 [03:08<00:37,  1.26it/s]"
     ]
    },
    {
     "name": "stdout",
     "output_type": "stream",
     "text": [
      "Epoch:  252\n",
      "t_loss:  0.38086421251297 , v_loss:  0.6815127034982046\n",
      "t_acc:  0.7420871200250705 , v_acc:  0.7213114754098361\n",
      "t_recall:  0.5920803998305928 , v_recall:  0.5467329545454546\n",
      "t_prec:  0.7663814112102177 , v_prec:  0.735\n",
      "t_f:  0.5848037646329712 , v_f:  0.5110796793965111\n",
      "////////\n"
     ]
    },
    {
     "name": "stderr",
     "output_type": "stream",
     "text": [
      "\r",
      "Iterations:  85%|████████████████████████▌    | 254/300 [03:08<00:34,  1.34it/s]"
     ]
    },
    {
     "name": "stdout",
     "output_type": "stream",
     "text": [
      "Epoch  253 , loss 0.37628421127796174\n",
      "Epoch  254 , loss 0.3737334725260735\n"
     ]
    },
    {
     "name": "stderr",
     "output_type": "stream",
     "text": [
      "\r",
      "Iterations:  85%|████████████████████████▋    | 255/300 [03:09<00:35,  1.27it/s]"
     ]
    },
    {
     "name": "stdout",
     "output_type": "stream",
     "text": [
      "Epoch:  254\n",
      "t_loss:  0.3737334725260735 , v_loss:  0.7019563615322113\n",
      "t_acc:  0.7424005014102162 , v_acc:  0.7213114754098361\n",
      "t_recall:  0.592305828144389 , v_recall:  0.5415482954545454\n",
      "t_prec:  0.767997777520671 , v_prec:  0.7754237288135594\n",
      "t_f:  0.5850505026216308 , v_f:  0.4983606557377049\n",
      "////////\n"
     ]
    },
    {
     "name": "stderr",
     "output_type": "stream",
     "text": [
      "\r",
      "Iterations:  85%|████████████████████████▋    | 256/300 [03:10<00:32,  1.36it/s]"
     ]
    },
    {
     "name": "stdout",
     "output_type": "stream",
     "text": [
      "Epoch  255 , loss 0.3723617336153984\n",
      "Epoch  256 , loss 0.37426549673080445\n"
     ]
    },
    {
     "name": "stderr",
     "output_type": "stream",
     "text": [
      "\r",
      "Iterations:  86%|████████████████████████▊    | 257/300 [03:11<00:34,  1.26it/s]"
     ]
    },
    {
     "name": "stdout",
     "output_type": "stream",
     "text": [
      "Epoch:  256\n",
      "t_loss:  0.37426549673080445 , v_loss:  0.695805624127388\n",
      "t_acc:  0.7405202130993419 , v_acc:  0.726775956284153\n",
      "t_recall:  0.592107043464803 , v_recall:  0.5506392045454546\n",
      "t_prec:  0.7546118395097783 , v_prec:  0.7893668831168831\n",
      "t_f:  0.585615613354914 , v_f:  0.514537351443124\n",
      "////////\n"
     ]
    },
    {
     "name": "stderr",
     "output_type": "stream",
     "text": [
      "\r",
      "Iterations:  86%|████████████████████████▉    | 258/300 [03:11<00:31,  1.34it/s]"
     ]
    },
    {
     "name": "stdout",
     "output_type": "stream",
     "text": [
      "Epoch  257 , loss 0.3710448998212814\n",
      "Epoch  258 , loss 0.3741013467311859\n"
     ]
    },
    {
     "name": "stderr",
     "output_type": "stream",
     "text": [
      "\r",
      "Iterations:  86%|█████████████████████████    | 259/300 [03:12<00:32,  1.26it/s]"
     ]
    },
    {
     "name": "stdout",
     "output_type": "stream",
     "text": [
      "Epoch:  258\n",
      "t_loss:  0.3741013467311859 , v_loss:  0.6921111196279526\n",
      "t_acc:  0.7461610780319649 , v_acc:  0.7213114754098361\n",
      "t_recall:  0.5981838772187197 , v_recall:  0.5467329545454546\n",
      "t_prec:  0.7751615450144405 , v_prec:  0.735\n",
      "t_f:  0.5936281926956181 , v_f:  0.5110796793965111\n",
      "////////\n"
     ]
    },
    {
     "name": "stderr",
     "output_type": "stream",
     "text": [
      "\r",
      "Iterations:  87%|█████████████████████████▏   | 260/300 [03:13<00:29,  1.34it/s]"
     ]
    },
    {
     "name": "stdout",
     "output_type": "stream",
     "text": [
      "Epoch  259 , loss 0.37542003244161604\n",
      "Epoch  260 , loss 0.3754347690939903\n"
     ]
    },
    {
     "name": "stderr",
     "output_type": "stream",
     "text": [
      "\r",
      "Iterations:  87%|█████████████████████████▏   | 261/300 [03:14<00:30,  1.26it/s]"
     ]
    },
    {
     "name": "stdout",
     "output_type": "stream",
     "text": [
      "Epoch:  260\n",
      "t_loss:  0.3754347690939903 , v_loss:  0.6960619439681371\n",
      "t_acc:  0.7480413663428392 , v_acc:  0.7213114754098361\n",
      "t_recall:  0.6012671249062839 , v_recall:  0.5467329545454546\n",
      "t_prec:  0.778041978682422 , v_prec:  0.735\n",
      "t_f:  0.5981183856839415 , v_f:  0.5110796793965111\n",
      "////////\n"
     ]
    },
    {
     "name": "stderr",
     "output_type": "stream",
     "text": [
      "\r",
      "Iterations:  87%|█████████████████████████▎   | 262/300 [03:14<00:28,  1.34it/s]"
     ]
    },
    {
     "name": "stdout",
     "output_type": "stream",
     "text": [
      "Epoch  261 , loss 0.3749792033433914\n",
      "Epoch  262 , loss 0.3735798788070679\n"
     ]
    },
    {
     "name": "stderr",
     "output_type": "stream",
     "text": [
      "\r",
      "Iterations:  88%|█████████████████████████▍   | 263/300 [03:15<00:29,  1.27it/s]"
     ]
    },
    {
     "name": "stdout",
     "output_type": "stream",
     "text": [
      "Epoch:  262\n",
      "t_loss:  0.3735798788070679 , v_loss:  0.6939646353324255\n",
      "t_acc:  0.7436540269507991 , v_acc:  0.7158469945355191\n",
      "t_recall:  0.5949382192043609 , v_recall:  0.5376420454545454\n",
      "t_prec:  0.7679213578648674 , v_prec:  0.7150974025974026\n",
      "t_f:  0.5891092070184453 , v_f:  0.49511884550084895\n",
      "////////\n"
     ]
    },
    {
     "name": "stderr",
     "output_type": "stream",
     "text": [
      "\r",
      "Iterations:  88%|█████████████████████████▌   | 264/300 [03:16<00:26,  1.37it/s]"
     ]
    },
    {
     "name": "stdout",
     "output_type": "stream",
     "text": [
      "Epoch  263 , loss 0.3708340185880661\n",
      "Epoch  264 , loss 0.3820631527900696\n"
     ]
    },
    {
     "name": "stderr",
     "output_type": "stream",
     "text": [
      "\r",
      "Iterations:  88%|█████████████████████████▌   | 265/300 [03:17<00:26,  1.30it/s]"
     ]
    },
    {
     "name": "stdout",
     "output_type": "stream",
     "text": [
      "Epoch:  264\n",
      "t_loss:  0.3820631527900696 , v_loss:  0.7100827495257059\n",
      "t_acc:  0.7439674083359449 , v_acc:  0.7103825136612022\n",
      "t_recall:  0.5957405401197526 , v_recall:  0.5285511363636364\n",
      "t_prec:  0.7673890424573717 , v_prec:  0.6892655367231638\n",
      "t_f:  0.5903680885681446 , v_f:  0.478688524590164\n",
      "////////\n"
     ]
    },
    {
     "name": "stderr",
     "output_type": "stream",
     "text": [
      "\r",
      "Iterations:  89%|█████████████████████████▋   | 266/300 [03:17<00:24,  1.39it/s]"
     ]
    },
    {
     "name": "stdout",
     "output_type": "stream",
     "text": [
      "Epoch  265 , loss 0.37275591373443606\n",
      "Epoch  266 , loss 0.37435874104499817\n"
     ]
    },
    {
     "name": "stderr",
     "output_type": "stream",
     "text": [
      "\r",
      "Iterations:  89%|█████████████████████████▊   | 267/300 [03:18<00:25,  1.32it/s]"
     ]
    },
    {
     "name": "stdout",
     "output_type": "stream",
     "text": [
      "Epoch:  266\n",
      "t_loss:  0.37435874104499817 , v_loss:  0.7064115206400553\n",
      "t_acc:  0.7467878408022564 , v_acc:  0.7158469945355191\n",
      "t_recall:  0.5997885190495034 , v_recall:  0.5324573863636364\n",
      "t_prec:  0.7739822752150715 , v_prec:  0.7567415730337079\n",
      "t_f:  0.5961189746674436 , v_f:  0.48169934640522877\n",
      "////////\n"
     ]
    },
    {
     "name": "stderr",
     "output_type": "stream",
     "text": [
      "\r",
      "Iterations:  89%|█████████████████████████▉   | 268/300 [03:19<00:23,  1.38it/s]"
     ]
    },
    {
     "name": "stdout",
     "output_type": "stream",
     "text": [
      "Epoch  267 , loss 0.3733498978614807\n",
      "Epoch  268 , loss 0.367424698472023\n"
     ]
    },
    {
     "name": "stderr",
     "output_type": "stream",
     "text": [
      "\r",
      "Iterations:  90%|██████████████████████████   | 269/300 [03:20<00:23,  1.31it/s]"
     ]
    },
    {
     "name": "stdout",
     "output_type": "stream",
     "text": [
      "Epoch:  268\n",
      "t_loss:  0.367424698472023 , v_loss:  0.6912066787481308\n",
      "t_acc:  0.7458476966468192 , v_acc:  0.7213114754098361\n",
      "t_recall:  0.5988237878073169 , v_recall:  0.5467329545454546\n",
      "t_prec:  0.7704210886682643 , v_prec:  0.735\n",
      "t_f:  0.5948667275016017 , v_f:  0.5110796793965111\n",
      "////////\n"
     ]
    },
    {
     "name": "stderr",
     "output_type": "stream",
     "text": [
      "\r",
      "Iterations:  90%|██████████████████████████   | 270/300 [03:20<00:21,  1.40it/s]"
     ]
    },
    {
     "name": "stdout",
     "output_type": "stream",
     "text": [
      "Epoch  269 , loss 0.3695307046175003\n",
      "Epoch  270 , loss 0.3745629352331161\n"
     ]
    },
    {
     "name": "stderr",
     "output_type": "stream",
     "text": [
      "\r",
      "Iterations:  90%|██████████████████████████▏  | 271/300 [03:21<00:22,  1.31it/s]"
     ]
    },
    {
     "name": "stdout",
     "output_type": "stream",
     "text": [
      "Epoch:  270\n",
      "t_loss:  0.3745629352331161 , v_loss:  0.6882654279470444\n",
      "t_acc:  0.7420871200250705 , v_acc:  0.7213114754098361\n",
      "t_recall:  0.5935226313345819 , v_recall:  0.5467329545454546\n",
      "t_prec:  0.7611947541696431 , v_prec:  0.735\n",
      "t_f:  0.5873597758770907 , v_f:  0.5110796793965111\n",
      "////////\n"
     ]
    },
    {
     "name": "stderr",
     "output_type": "stream",
     "text": [
      "\r",
      "Iterations:  91%|██████████████████████████▎  | 272/300 [03:22<00:20,  1.39it/s]"
     ]
    },
    {
     "name": "stdout",
     "output_type": "stream",
     "text": [
      "Epoch  271 , loss 0.3710876441001892\n",
      "Epoch  272 , loss 0.37193707913160323\n"
     ]
    },
    {
     "name": "stderr",
     "output_type": "stream",
     "text": [
      "\r",
      "Iterations:  91%|██████████████████████████▍  | 273/300 [03:23<00:20,  1.29it/s]"
     ]
    },
    {
     "name": "stdout",
     "output_type": "stream",
     "text": [
      "Epoch:  272\n",
      "t_loss:  0.37193707913160323 , v_loss:  0.7012041012446085\n",
      "t_acc:  0.7442807897210906 , v_acc:  0.726775956284153\n",
      "t_recall:  0.595965968433549 , v_recall:  0.5506392045454546\n",
      "t_prec:  0.7689458278792412 , v_prec:  0.7893668831168831\n",
      "t_f:  0.59061803116003 , v_f:  0.514537351443124\n",
      "////////\n"
     ]
    },
    {
     "name": "stderr",
     "output_type": "stream",
     "text": [
      "\r",
      "Iterations:  91%|██████████████████████████▍  | 274/300 [03:23<00:18,  1.38it/s]"
     ]
    },
    {
     "name": "stdout",
     "output_type": "stream",
     "text": [
      "Epoch  273 , loss 0.374192385673523\n",
      "Epoch  274 , loss 0.39322931349277496\n"
     ]
    },
    {
     "name": "stderr",
     "output_type": "stream",
     "text": [
      "\r",
      "Iterations:  92%|██████████████████████████▌  | 275/300 [03:24<00:19,  1.30it/s]"
     ]
    },
    {
     "name": "stdout",
     "output_type": "stream",
     "text": [
      "Epoch:  274\n",
      "t_loss:  0.39322931349277496 , v_loss:  0.7783857186635336\n",
      "t_acc:  0.7339392040112818 , v_acc:  0.6994535519125683\n",
      "t_recall:  0.5758351968431695 , v_recall:  0.5\n",
      "t_prec:  0.7637719513138554 , v_prec:  0.34972677595628415\n",
      "t_f:  0.5589399289949614 , v_f:  0.4115755627009647\n",
      "////////\n"
     ]
    },
    {
     "name": "stderr",
     "output_type": "stream",
     "text": [
      "\r",
      "Iterations:  92%|██████████████████████████▋  | 276/300 [03:25<00:17,  1.39it/s]"
     ]
    },
    {
     "name": "stdout",
     "output_type": "stream",
     "text": [
      "Epoch  275 , loss 0.3911915683746338\n",
      "Epoch  276 , loss 0.38523615181446075\n"
     ]
    },
    {
     "name": "stderr",
     "output_type": "stream",
     "text": [
      "\r",
      "Iterations:  92%|██████████████████████████▊  | 277/300 [03:26<00:17,  1.30it/s]"
     ]
    },
    {
     "name": "stdout",
     "output_type": "stream",
     "text": [
      "Epoch:  276\n",
      "t_loss:  0.38523615181446075 , v_loss:  0.7356612980365753\n",
      "t_acc:  0.7408335944844876 , v_acc:  0.7158469945355191\n",
      "t_recall:  0.5891595624698232 , v_recall:  0.5324573863636364\n",
      "t_prec:  0.7675915212469475 , v_prec:  0.7567415730337079\n",
      "t_f:  0.5801719906996796 , v_f:  0.48169934640522877\n",
      "////////\n"
     ]
    },
    {
     "name": "stderr",
     "output_type": "stream",
     "text": [
      "\r",
      "Iterations:  93%|██████████████████████████▊  | 278/300 [03:26<00:15,  1.38it/s]"
     ]
    },
    {
     "name": "stdout",
     "output_type": "stream",
     "text": [
      "Epoch  277 , loss 0.3803794574737549\n",
      "Epoch  278 , loss 0.3776869696378708\n"
     ]
    },
    {
     "name": "stderr",
     "output_type": "stream",
     "text": [
      "\r",
      "Iterations:  93%|██████████████████████████▉  | 279/300 [03:27<00:16,  1.29it/s]"
     ]
    },
    {
     "name": "stdout",
     "output_type": "stream",
     "text": [
      "Epoch:  278\n",
      "t_loss:  0.3776869696378708 , v_loss:  0.7083698709805807\n",
      "t_acc:  0.7483547477279849 , v_acc:  0.7213114754098361\n",
      "t_recall:  0.6009156606184844 , v_recall:  0.5467329545454546\n",
      "t_prec:  0.7818423817954054 , v_prec:  0.735\n",
      "t_f:  0.5973874848472708 , v_f:  0.5110796793965111\n",
      "////////\n"
     ]
    },
    {
     "name": "stderr",
     "output_type": "stream",
     "text": [
      "\r",
      "Iterations:  93%|███████████████████████████  | 280/300 [03:28<00:14,  1.38it/s]"
     ]
    },
    {
     "name": "stdout",
     "output_type": "stream",
     "text": [
      "Epoch  279 , loss 0.3743956685066223\n",
      "Epoch  280 , loss 0.372258720099926\n"
     ]
    },
    {
     "name": "stderr",
     "output_type": "stream",
     "text": [
      "\r",
      "Iterations:  94%|███████████████████████████▏ | 281/300 [03:29<00:14,  1.30it/s]"
     ]
    },
    {
     "name": "stdout",
     "output_type": "stream",
     "text": [
      "Epoch:  280\n",
      "t_loss:  0.372258720099926 , v_loss:  0.7009938557942709\n",
      "t_acc:  0.7436540269507991 , v_acc:  0.7213114754098361\n",
      "t_recall:  0.5932075413995739 , v_recall:  0.5467329545454546\n",
      "t_prec:  0.7745891792868278 , v_prec:  0.735\n",
      "t_f:  0.586039216432586 , v_f:  0.5110796793965111\n",
      "////////\n"
     ]
    },
    {
     "name": "stderr",
     "output_type": "stream",
     "text": [
      "\r",
      "Iterations:  94%|███████████████████████████▎ | 282/300 [03:29<00:12,  1.40it/s]"
     ]
    },
    {
     "name": "stdout",
     "output_type": "stream",
     "text": [
      "Epoch  281 , loss 0.37433273434638975\n",
      "Epoch  282 , loss 0.37331064373254774\n"
     ]
    },
    {
     "name": "stderr",
     "output_type": "stream",
     "text": [
      "\r",
      "Iterations:  94%|███████████████████████████▎ | 283/300 [03:30<00:13,  1.30it/s]"
     ]
    },
    {
     "name": "stdout",
     "output_type": "stream",
     "text": [
      "Epoch:  282\n",
      "t_loss:  0.37331064373254774 , v_loss:  0.686446393529574\n",
      "t_acc:  0.7420871200250705 , v_acc:  0.726775956284153\n",
      "t_recall:  0.591791953529795 , v_recall:  0.5558238636363636\n",
      "t_prec:  0.7674723342892789 , v_prec:  0.7509578544061303\n",
      "t_f:  0.5842871785130574 , v_f:  0.5265935430463576\n",
      "////////\n"
     ]
    },
    {
     "name": "stderr",
     "output_type": "stream",
     "text": [
      "\r",
      "Iterations:  95%|███████████████████████████▍ | 284/300 [03:31<00:11,  1.39it/s]"
     ]
    },
    {
     "name": "stdout",
     "output_type": "stream",
     "text": [
      "Epoch  283 , loss 0.37209170430898664\n",
      "Epoch  284 , loss 0.36977376729249956\n"
     ]
    },
    {
     "name": "stderr",
     "output_type": "stream",
     "text": [
      "\r",
      "Iterations:  95%|███████████████████████████▌ | 285/300 [03:32<00:11,  1.30it/s]"
     ]
    },
    {
     "name": "stdout",
     "output_type": "stream",
     "text": [
      "Epoch:  284\n",
      "t_loss:  0.36977376729249956 , v_loss:  0.6911557962497076\n",
      "t_acc:  0.7486681291131306 , v_acc:  0.726775956284153\n",
      "t_recall:  0.6014295352330785 , v_recall:  0.5558238636363636\n",
      "t_prec:  0.7823050335959969 , v_prec:  0.7509578544061303\n",
      "t_f:  0.5981355695862237 , v_f:  0.5265935430463576\n",
      "////////\n"
     ]
    },
    {
     "name": "stderr",
     "output_type": "stream",
     "text": [
      "\r",
      "Iterations:  95%|███████████████████████████▋ | 286/300 [03:32<00:09,  1.41it/s]"
     ]
    },
    {
     "name": "stdout",
     "output_type": "stream",
     "text": [
      "Epoch  285 , loss 0.37588546514511106\n",
      "Epoch  286 , loss 0.3736881279945374\n"
     ]
    },
    {
     "name": "stderr",
     "output_type": "stream",
     "text": [
      "\r",
      "Iterations:  96%|███████████████████████████▋ | 287/300 [03:33<00:09,  1.30it/s]"
     ]
    },
    {
     "name": "stdout",
     "output_type": "stream",
     "text": [
      "Epoch:  286\n",
      "t_loss:  0.3736881279945374 , v_loss:  0.6871535579363505\n",
      "t_acc:  0.7458476966468192 , v_acc:  0.7213114754098361\n",
      "t_recall:  0.5982468952057213 , v_recall:  0.5467329545454546\n",
      "t_prec:  0.7725120493541546 , v_prec:  0.735\n",
      "t_f:  0.5938749033493576 , v_f:  0.5110796793965111\n",
      "////////\n"
     ]
    },
    {
     "name": "stderr",
     "output_type": "stream",
     "text": [
      "\r",
      "Iterations:  96%|███████████████████████████▊ | 288/300 [03:34<00:08,  1.39it/s]"
     ]
    },
    {
     "name": "stdout",
     "output_type": "stream",
     "text": [
      "Epoch  287 , loss 0.3790961101651192\n",
      "Epoch  288 , loss 0.37115006685256957\n"
     ]
    },
    {
     "name": "stderr",
     "output_type": "stream",
     "text": [
      "\r",
      "Iterations:  96%|███████████████████████████▉ | 289/300 [03:35<00:08,  1.32it/s]"
     ]
    },
    {
     "name": "stdout",
     "output_type": "stream",
     "text": [
      "Epoch:  288\n",
      "t_loss:  0.37115006685256957 , v_loss:  0.6885056992371877\n",
      "t_acc:  0.753995612660608 , v_acc:  0.726775956284153\n",
      "t_recall:  0.6110307425835706 , v_recall:  0.5558238636363636\n",
      "t_prec:  0.7866012649749301 , v_prec:  0.7509578544061303\n",
      "t_f:  0.6120939094685764 , v_f:  0.5265935430463576\n",
      "////////\n"
     ]
    },
    {
     "name": "stderr",
     "output_type": "stream",
     "text": [
      "\r",
      "Iterations:  97%|████████████████████████████ | 290/300 [03:35<00:07,  1.41it/s]"
     ]
    },
    {
     "name": "stdout",
     "output_type": "stream",
     "text": [
      "Epoch  289 , loss 0.36971350193023683\n",
      "Epoch  290 , loss 0.3678229933977127\n"
     ]
    },
    {
     "name": "stderr",
     "output_type": "stream",
     "text": [
      "\r",
      "Iterations:  97%|████████████████████████████▏| 291/300 [03:36<00:06,  1.31it/s]"
     ]
    },
    {
     "name": "stdout",
     "output_type": "stream",
     "text": [
      "Epoch:  290\n",
      "t_loss:  0.3678229933977127 , v_loss:  0.6949954181909561\n",
      "t_acc:  0.7580695706675024 , v_acc:  0.73224043715847\n",
      "t_recall:  0.6168457736708997 , v_recall:  0.5597301136363636\n",
      "t_prec:  0.7951663311171457 , v_prec:  0.8003571428571429\n",
      "t_f:  0.6201045191711008 , v_f:  0.5302530253025303\n",
      "////////\n"
     ]
    },
    {
     "name": "stderr",
     "output_type": "stream",
     "text": [
      "\r",
      "Iterations:  97%|████████████████████████████▏| 292/300 [03:37<00:05,  1.42it/s]"
     ]
    },
    {
     "name": "stdout",
     "output_type": "stream",
     "text": [
      "Epoch  291 , loss 0.36874778926372526\n",
      "Epoch  292 , loss 0.3723762682080269\n"
     ]
    },
    {
     "name": "stderr",
     "output_type": "stream",
     "text": [
      "\r",
      "Iterations:  98%|████████████████████████████▎| 293/300 [03:38<00:05,  1.32it/s]"
     ]
    },
    {
     "name": "stdout",
     "output_type": "stream",
     "text": [
      "Epoch:  292\n",
      "t_loss:  0.3723762682080269 , v_loss:  0.7000033607085546\n",
      "t_acc:  0.7486681291131306 , v_acc:  0.726775956284153\n",
      "t_recall:  0.604025551940259 , v_recall:  0.5506392045454546\n",
      "t_prec:  0.7727932206026022 , v_prec:  0.7893668831168831\n",
      "t_f:  0.6025038457619578 , v_f:  0.514537351443124\n",
      "////////\n"
     ]
    },
    {
     "name": "stderr",
     "output_type": "stream",
     "text": [
      "\r",
      "Iterations:  98%|████████████████████████████▍| 294/300 [03:38<00:04,  1.42it/s]"
     ]
    },
    {
     "name": "stdout",
     "output_type": "stream",
     "text": [
      "Epoch  293 , loss 0.3706578376889229\n",
      "Epoch  294 , loss 0.37192609906196594\n"
     ]
    },
    {
     "name": "stderr",
     "output_type": "stream",
     "text": [
      "\r",
      "Iterations:  98%|████████████████████████████▌| 295/300 [03:39<00:03,  1.32it/s]"
     ]
    },
    {
     "name": "stdout",
     "output_type": "stream",
     "text": [
      "Epoch:  294\n",
      "t_loss:  0.37192609906196594 , v_loss:  0.6915321548779806\n",
      "t_acc:  0.7424005014102162 , v_acc:  0.726775956284153\n",
      "t_recall:  0.5966325226563565 , v_recall:  0.5506392045454546\n",
      "t_prec:  0.7534059813065942 , v_prec:  0.7893668831168831\n",
      "t_f:  0.5925912234617573 , v_f:  0.514537351443124\n",
      "////////\n"
     ]
    },
    {
     "name": "stderr",
     "output_type": "stream",
     "text": [
      "\r",
      "Iterations:  99%|████████████████████████████▌| 296/300 [03:40<00:02,  1.42it/s]"
     ]
    },
    {
     "name": "stdout",
     "output_type": "stream",
     "text": [
      "Epoch  295 , loss 0.3703655689954758\n",
      "Epoch  296 , loss 0.37375316143035886\n"
     ]
    },
    {
     "name": "stderr",
     "output_type": "stream",
     "text": [
      "\r",
      "Iterations:  99%|████████████████████████████▋| 297/300 [03:40<00:02,  1.32it/s]"
     ]
    },
    {
     "name": "stdout",
     "output_type": "stream",
     "text": [
      "Epoch:  296\n",
      "t_loss:  0.37375316143035886 , v_loss:  0.7094232216477394\n",
      "t_acc:  0.7436540269507991 , v_acc:  0.726775956284153\n",
      "t_recall:  0.594649772903563 , v_recall:  0.5506392045454546\n",
      "t_prec:  0.7689863416329992 , v_prec:  0.7893668831168831\n",
      "t_f:  0.5886020047913252 , v_f:  0.514537351443124\n",
      "////////\n"
     ]
    },
    {
     "name": "stderr",
     "output_type": "stream",
     "text": [
      "\r",
      "Iterations:  99%|████████████████████████████▊| 298/300 [03:41<00:01,  1.42it/s]"
     ]
    },
    {
     "name": "stdout",
     "output_type": "stream",
     "text": [
      "Epoch  297 , loss 0.37108894050121305\n",
      "Epoch  298 , loss 0.37176943868398665\n"
     ]
    },
    {
     "name": "stderr",
     "output_type": "stream",
     "text": [
      "\r",
      "Iterations: 100%|████████████████████████████▉| 299/300 [03:42<00:00,  1.32it/s]"
     ]
    },
    {
     "name": "stdout",
     "output_type": "stream",
     "text": [
      "Epoch:  298\n",
      "t_loss:  0.37176943868398665 , v_loss:  0.7010612885157267\n",
      "t_acc:  0.7511751801942964 , v_acc:  0.726775956284153\n",
      "t_recall:  0.6064058710522243 , v_recall:  0.5506392045454546\n",
      "t_prec:  0.7826470124857221 , v_prec:  0.7893668831168831\n",
      "t_f:  0.605519434012792 , v_f:  0.514537351443124\n",
      "////////\n"
     ]
    },
    {
     "name": "stderr",
     "output_type": "stream",
     "text": [
      "Iterations: 100%|█████████████████████████████| 300/300 [03:43<00:00,  1.35it/s]"
     ]
    },
    {
     "name": "stdout",
     "output_type": "stream",
     "text": [
      "Epoch  299 , loss 0.36991902351379397\n"
     ]
    },
    {
     "name": "stderr",
     "output_type": "stream",
     "text": [
      "\n"
     ]
    },
    {
     "name": "stdout",
     "output_type": "stream",
     "text": [
      "126 7\n",
      "\n",
      "c0_acc 0.984375 , c1_acc 0.12727272727272726 , b_acc 0.5558238636363636\n",
      "108 12\n",
      "\n",
      "c0_acc 0.9310344827586207 , c1_acc 0.24 , b_acc 0.5855172413793104\n",
      "117 9\n",
      "\n",
      "c0_acc 0.9285714285714286 , c1_acc 0.15517241379310345 , b_acc 0.541871921182266\n",
      "118 20\n",
      "\n",
      "c0_acc 0.944 , c1_acc 0.36363636363636365 , b_acc 0.6538181818181819\n",
      "User S01 f1: 0.7326410199756136 acc: 0.7701863354037267\n",
      " c0: 0.972972972972973 c1: 0.32 bacc: 0.6464864864864865\n",
      "User S02 f1: 0.6690967431748819 acc: 0.7261904761904762\n",
      " c0: 0.9652173913043478 c1: 0.20754716981132076 bacc: 0.5863822805578343\n",
      "User S03 f1: 0.6622949834975151 acc: 0.6988636363636364\n",
      " c0: 0.8943089430894309 c1: 0.24528301886792453 bacc: 0.5697959809786777\n",
      "User S04 f1: 0.6720892996777037 acc: 0.7272727272727273\n",
      " c0: 0.9541984732824428 c1: 0.19642857142857142 bacc: 0.5753135223555071\n",
      "User S05 f1: 0.6461717839098329 acc: 0.7108433734939759\n",
      " c0: 0.9487179487179487 c1: 0.14285714285714285 bacc: 0.5457875457875457\n",
      "User S06 f1: 0.6342008868324658 acc: 0.6971428571428572\n",
      " c0: 0.928 c1: 0.12 bacc: 0.524\n",
      "User S07 f1: 0.6847409995561919 acc: 0.7071823204419889\n",
      " c0: 0.872 c1: 0.3392857142857143 bacc: 0.6056428571428571\n",
      "User S08 f1: 0.6239635608763126 acc: 0.6972972972972973\n",
      " c0: 0.9603174603174603 c1: 0.13559322033898305 bacc: 0.5479553403282217\n",
      "User S09 f1: 0.7339347326049452 acc: 0.7659574468085106\n",
      " c0: 0.9473684210526315 c1: 0.32727272727272727 bacc: 0.6373205741626794\n",
      "User S10 f1: 0.7209800857474857 acc: 0.7606382978723404\n",
      " c0: 0.9689922480620154 c1: 0.3050847457627119 bacc: 0.6370384969123637\n",
      "User S11 f1: 0.6720115324905743 acc: 0.7245508982035929\n",
      " c0: 0.9411764705882353 c1: 0.1875 bacc: 0.5643382352941176\n",
      "User S12 f1: 0.7972999349381914 acc: 0.8125\n",
      " c0: 0.9508196721311475 c1: 0.5 bacc: 0.7254098360655737\n",
      "User S13 f1: 0.7071241250051962 acc: 0.7486033519553073\n",
      " c0: 0.959349593495935 c1: 0.2857142857142857 bacc: 0.6225319396051103\n",
      "User S14 f1: 0.6354657007869727 acc: 0.6961325966850829\n",
      " c0: 0.936 c1: 0.16071428571428573 bacc: 0.5483571428571429\n",
      "User S15 f1: 0.6223064519718462 acc: 0.6830601092896175\n",
      " c0: 0.9212598425196851 c1: 0.14285714285714285 bacc: 0.532058492688414\n",
      "User S16 f1: 0.649394519234249 acc: 0.726775956284153\n",
      " c0: 0.984375 c1: 0.12727272727272726 bacc: 0.5558238636363636\n",
      "User S17 f1: 0.6793761742717872 acc: 0.7228915662650602\n",
      " c0: 0.9310344827586207 c1: 0.24 bacc: 0.5855172413793104\n",
      "User S19 f1: 0.6234208958966804 acc: 0.6847826086956522\n",
      " c0: 0.9285714285714286 c1: 0.15517241379310345 bacc: 0.541871921182266\n",
      "User S20 f1: 0.7385798678130667 acc: 0.7666666666666667\n",
      " c0: 0.944 c1: 0.36363636363636365 bacc: 0.6538181818181819\n",
      "average 0.679215436750606\n",
      "\n",
      "0.5897605231178239\n",
      "0.23695892261121076\n",
      "0.9425621236244367\n"
     ]
    }
   ],
   "source": [
    "from utilities.userfold_framework import *\n",
    "# from utilities.EEG_func import *\n",
    "import Models.model_func as Model_Func\n",
    "from Models.AR_EEG_models import *\n",
    "import numpy as np\n",
    "import pandas as pd\n",
    "import matplotlib.pyplot as plt\n",
    "import seaborn as sns\n",
    "from typing import List\n",
    "from torcheeg.models import EEGNet\n",
    "from torch import nn\n",
    "\n",
    "\n",
    "DEVICE= torch.device(\"cuda\") if torch.cuda.is_available() else torch.device(\"cpu\")\n",
    "\n",
    "learning_rate = 0.00005\n",
    "batch_size = 64\n",
    "n_epochs = 300\n",
    "transpose_channels=True\n",
    "participants_dictionary=[]\n",
    "# participants_online_dictionary=[]\n",
    "participants_grads_dictionary={}\n",
    "b_acc_list=[]\n",
    "c0_acc_list=[]\n",
    "c1_acc_list=[]\n",
    "\n",
    "# EPOCH=[\n",
    "    \n",
    "# ]\n",
    "for r in [0]:\n",
    "    participants_dictionary=[]\n",
    "    for i in range(len(participants)):\n",
    "\n",
    "        train_dataloader, val_dataloader, classes, input_dim, class_ratio= user_fold_load(i,\n",
    "                                                                                          raw_user_fold,\n",
    "                                                                                          participants,\n",
    "                                                                                          batch_size=batch_size,\n",
    "                                                                                          transpose_channels=transpose_channels)\n",
    "\n",
    "        classifier= EEGNet(\n",
    "            chunk_size=input_dim[1],\n",
    "            num_electrodes=input_dim[0],\n",
    "            num_classes=classes,\n",
    "            kernel_1= 32,\n",
    "            kernel_2=32,\n",
    "            F1=8,\n",
    "            F2=16,\n",
    "            dropout=0.5\n",
    "        ).to(DEVICE)\n",
    "\n",
    "\n",
    "    #     optimizer= torch.optim.RMSprop(classifier.parameters(), lr=learning_rate)\n",
    "        criterion= torch.nn.CrossEntropyLoss(weight=torch.tensor(class_ratio, dtype=torch.float).to(DEVICE))\n",
    "    #     criterion = nn.NLLLoss(weight=torch.tensor(class_ratio, dtype=torch.float).to(DEVICE))\n",
    "\n",
    "\n",
    "        saved_dir= f\"./EEG/saved_models/Userfold/run{r}\"\n",
    "        model= LSTM_EEGNet_Wrapper(DEVICE, classifier, input_dim).to(DEVICE)\n",
    "        optimizer = torch.optim.Adam(model.parameters(), lr = learning_rate)\n",
    "        scheduler= torch.optim.lr_scheduler.ReduceLROnPlateau(optimizer, patience=2)\n",
    "\n",
    "#         if i in np.array([16])-1:\n",
    "        \n",
    "#         train_func= eeg_train\n",
    "#         model.training_procedure(iteration=n_epochs,\n",
    "#                                         train_dataloader=train_dataloader,\n",
    "#                                          val_dataloader=val_dataloader,\n",
    "#                                          print_cycle=2,\n",
    "#                                          path=f\"./dictionary/intermdiate_dicts\",\n",
    "#                                          loss_func=criterion,\n",
    "#                                          optimiser=optimizer, #scheduler=scheduler,\n",
    "#                                          train_func=train_func\n",
    "#                                         )\n",
    "#         if model.epoch == n_epochs+1:\n",
    "#             EPOCH= n_epochs\n",
    "#         else:\n",
    "#             EPOCH= model.epoch\n",
    "\n",
    "#         torch.save(model.state_dict(), \n",
    "#                os.path.join(\n",
    "#                    saved_dir, f\"Userfold-{participants[i]}-LSTM_EEGNet-Baseline-e{EPOCH}.pt\"\n",
    "#                )\n",
    "#         )\n",
    "#         else:\n",
    "    # OR\n",
    "        model.load_state_dict(\n",
    "        torch.load(\n",
    "            open(\n",
    "                os.path.join(\n",
    "                    saved_dir, f\"Userfold-{participants[i]}-LSTM_EEGNet-Baseline-e{n_epochs}.pt\"\n",
    "                ), \"rb\"\n",
    "            )\n",
    "                  )\n",
    "        )\n",
    "\n",
    "\n",
    "        prediction, dictionary= model.prediction_procedure(val_dataloader, dict_flag=True)\n",
    "\n",
    "        ys= np.concatenate([y.detach().cpu().numpy() for x, y in val_dataloader])\n",
    "\n",
    "        c0_acc, c1_acc, b_acc= calculate_accuracy(ys, prediction)\n",
    "        print(\"c0_acc\", c0_acc, \", c1_acc\", c1_acc, \", b_acc\", b_acc)\n",
    "        b_acc_list.append(b_acc)\n",
    "        c0_acc_list.append(c0_acc)\n",
    "        c1_acc_list.append(c1_acc)\n",
    "        participants_dictionary.append(dictionary)\n",
    "        \n",
    "#     pickle.dump(participants_dictionary, open(f\"{saved_dir}/participant_dictionary-LSTM_EEGNet.pkl\",\"wb\"))\n",
    "    \n",
    "\n",
    "tmp=[]\n",
    "for i, dictionary in enumerate(participants_dictionary):\n",
    "    print(f\"User {participants[i]} f1: {dictionary['weighted avg']['f1-score']} acc: {dictionary['accuracy']}\")\n",
    "    print(f\" c0: {c0_acc_list[i]} c1: {c1_acc_list[i]} bacc: {b_acc_list[i]}\")\n",
    "    tmp.append(dictionary['weighted avg']['f1-score'])\n",
    "\n",
    "print(f\"average {np.mean(tmp)}\")\n",
    "print()\n",
    "print(np.array(b_acc_list).mean())\n",
    "print(np.array(c1_acc_list).mean())\n",
    "print(np.array(c0_acc_list).mean())\n"
   ]
  },
  {
   "cell_type": "code",
   "execution_count": 17,
   "id": "eb9de653",
   "metadata": {},
   "outputs": [
    {
     "name": "stdout",
     "output_type": "stream",
     "text": [
      "     accuracy  f1-score\n",
      "S01  0.770186  0.732641\n",
      "S02  0.726190  0.669097\n",
      "S03  0.698864  0.662295\n",
      "S04  0.727273  0.672089\n",
      "S05  0.710843  0.646172\n",
      "S06  0.697143  0.634201\n",
      "S07  0.707182  0.684741\n",
      "S08  0.697297  0.623964\n",
      "S09  0.765957  0.733935\n",
      "S10  0.760638  0.720980\n",
      "S11  0.724551  0.672012\n",
      "S12  0.812500  0.797300\n",
      "S13  0.748603  0.707124\n",
      "S14  0.696133  0.635466\n",
      "S15  0.683060  0.622306\n",
      "S16  0.726776  0.649395\n",
      "S17  0.722892  0.679376\n",
      "S19  0.684783  0.623421\n",
      "S20  0.766667  0.738580\n"
     ]
    },
    {
     "data": {
      "image/png": "[encoded data removed]",
      "text/plain": [
       "<Figure size 432x288 with 2 Axes>"
      ]
     },
     "metadata": {
      "needs_background": "light"
     },
     "output_type": "display_data"
    },
    {
     "name": "stdout",
     "output_type": "stream",
     "text": [
      "     class0 f1-score  class1 f1-score\n",
      "S01         0.853755         0.463768\n",
      "S02         0.828358         0.323529\n",
      "S03         0.805861         0.329114\n",
      "S04         0.830565         0.301370\n",
      "S05         0.822222         0.225806\n",
      "S06         0.814035         0.184615\n",
      "S07         0.804428         0.417582\n",
      "S08         0.812081         0.222222\n",
      "S09         0.851351         0.450000\n",
      "S10         0.847458         0.444444\n",
      "S11         0.829630         0.281250\n",
      "S12         0.875472         0.620690\n",
      "S13         0.839858         0.415584\n",
      "S14         0.809689         0.246575\n",
      "S15         0.801370         0.216216\n",
      "S16         0.834437         0.218750\n",
      "S17         0.824427         0.342857\n",
      "S19         0.801370         0.236842\n",
      "S20         0.848921         0.487805\n"
     ]
    },
    {
     "data": {
      "image/png": "[encoded data removed]",
      "text/plain": [
       "<Figure size 432x288 with 2 Axes>"
      ]
     },
     "metadata": {
      "needs_background": "light"
     },
     "output_type": "display_data"
    }
   ],
   "source": [
    "userfold_results_summary(participants_dictionary, participants)\n",
    "userfold_classwise_results_summary(participants_dictionary, participants)\n"
   ]
  },
  {
   "cell_type": "code",
   "execution_count": 18,
   "id": "4d077c30",
   "metadata": {},
   "outputs": [],
   "source": [
    "# pickle.dump(participants_dictionary, open(f\"{saved_dir}/participant_dictionary-LSTM_EEGNet.pkl\",\"wb\"))"
   ]
  }
 ],
 "metadata": {
  "kernelspec": {
   "display_name": "Python [conda env:pytorch]",
   "language": "python",
   "name": "conda-env-pytorch-py"
  },
  "language_info": {
   "codemirror_mode": {
    "name": "ipython",
    "version": 3
   },
   "file_extension": ".py",
   "mimetype": "text/x-python",
   "name": "python",
   "nbconvert_exporter": "python",
   "pygments_lexer": "ipython3",
   "version": "3.7.10"
  }
 },
 "nbformat": 4,
 "nbformat_minor": 5
}
