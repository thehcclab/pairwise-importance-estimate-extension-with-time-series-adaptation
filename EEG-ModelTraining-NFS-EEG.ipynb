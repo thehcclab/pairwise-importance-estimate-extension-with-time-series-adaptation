{
 "cells": [
  {
   "cell_type": "code",
   "execution_count": 1,
   "id": "4c9e593e",
   "metadata": {},
   "outputs": [],
   "source": [
    "import numpy as np\n",
    "import pickle\n",
    "import sys\n",
    "from typing import List\n",
    "import torch\n",
    "import os"
   ]
  },
  {
   "cell_type": "code",
   "execution_count": 2,
   "id": "eb96ce98",
   "metadata": {},
   "outputs": [],
   "source": [
    "participant_data_path = './EEG/number'\n",
    "processed_data_path = './EEG/processed_data'\n",
    "split_data_path = './EEG/split_data'"
   ]
  },
  {
   "cell_type": "code",
   "execution_count": 3,
   "id": "62c74d3a",
   "metadata": {},
   "outputs": [],
   "source": [
    "ps = os.listdir(participant_data_path)\n",
    "participants=[]\n",
    "for p in ps:\n",
    "    p= p[:3]\n",
    "    if p not in participants:\n",
    "        participants.append(p)\n",
    "        \n",
    "participants= sorted(participants)\n",
    "# participants, len(participants)"
   ]
  },
  {
   "cell_type": "code",
   "execution_count": 4,
   "id": "28f3009e",
   "metadata": {
    "scrolled": true
   },
   "outputs": [],
   "source": [
    "load_name=f\"userfold_data_scaled_p_dictionary-number\"\n",
    "data_dir = \"./EEG/split_data/standard_scaled\"\n",
    "try:\n",
    "    raw_user_fold= pickle.load(open(os.path.join(data_dir, f\"{load_name}.pkl\"), \"rb\"))\n",
    "except:\n",
    "    print(f\"pickle file does not exist. Use EEG-Preprocess.ipynb and EEG-Split.ipynb to save data setting.\")\n",
    "    sys.exit()"
   ]
  },
  {
   "cell_type": "code",
   "execution_count": null,
   "id": "082a80ac",
   "metadata": {
    "scrolled": true
   },
   "outputs": [
    {
     "name": "stderr",
     "output_type": "stream",
     "text": [
      "\r",
      "Iterations:   0%|                                           | 0/300 [00:00<?, ?it/s]"
     ]
    },
    {
     "name": "stdout",
     "output_type": "stream",
     "text": [
      "Epoch  0 , loss 0.7130073577749962\n"
     ]
    },
    {
     "name": "stderr",
     "output_type": "stream",
     "text": [
      "\r",
      "Iterations:   0%|                                   | 1/300 [00:02<14:02,  2.82s/it]"
     ]
    },
    {
     "name": "stdout",
     "output_type": "stream",
     "text": [
      "Epoch:  0\n",
      "t_loss:  0.7130073577749962 , v_loss:  0.690017580986023\n",
      "t_acc:  0.49206349206349204 , v_acc:  0.6894409937888198\n",
      "t_recall:  0.5075218566860186 , v_recall:  0.5\n",
      "t_prec:  0.5064048575867265 , v_prec:  0.3447204968944099\n",
      "t_f:  0.47888225374687654 , v_f:  0.4080882352941176\n",
      "////////\n"
     ]
    },
    {
     "name": "stderr",
     "output_type": "stream",
     "text": [
      "\r",
      "Iterations:   1%|▏                                  | 2/300 [00:03<08:13,  1.66s/it]"
     ]
    },
    {
     "name": "stdout",
     "output_type": "stream",
     "text": [
      "Epoch  1 , loss 0.6860140526995939\n",
      "Epoch  2 , loss 0.6558388097613466\n"
     ]
    },
    {
     "name": "stderr",
     "output_type": "stream",
     "text": [
      "\r",
      "Iterations:   1%|▎                                  | 3/300 [00:04<07:22,  1.49s/it]"
     ]
    },
    {
     "name": "stdout",
     "output_type": "stream",
     "text": [
      "Epoch:  2\n",
      "t_loss:  0.6558388097613466 , v_loss:  0.6833405296007792\n",
      "t_acc:  0.5876128229069405 , v_acc:  0.6894409937888198\n",
      "t_recall:  0.5215705246977121 , v_recall:  0.5\n",
      "t_prec:  0.5208948589681774 , v_prec:  0.3447204968944099\n",
      "t_f:  0.5210231808252885 , v_f:  0.4080882352941176\n",
      "////////\n"
     ]
    },
    {
     "name": "stderr",
     "output_type": "stream",
     "text": [
      "\r",
      "Iterations:   1%|▍                                  | 4/300 [00:05<06:12,  1.26s/it]"
     ]
    },
    {
     "name": "stdout",
     "output_type": "stream",
     "text": [
      "Epoch  3 , loss 0.6323761414079105\n",
      "Epoch  4 , loss 0.6106908040888169\n"
     ]
    },
    {
     "name": "stderr",
     "output_type": "stream",
     "text": [
      "\r",
      "Iterations:   2%|▌                                  | 5/300 [00:07<06:19,  1.29s/it]"
     ]
    },
    {
     "name": "stdout",
     "output_type": "stream",
     "text": [
      "Epoch:  4\n",
      "t_loss:  0.6106908040888169 , v_loss:  0.6738792856534322\n",
      "t_acc:  0.6308745720510427 , v_acc:  0.6894409937888198\n",
      "t_recall:  0.5029233746448717 , v_recall:  0.5\n",
      "t_prec:  0.5043502769472085 , v_prec:  0.3447204968944099\n",
      "t_f:  0.4912990196078431 , v_f:  0.4080882352941176\n",
      "////////\n"
     ]
    },
    {
     "name": "stderr",
     "output_type": "stream",
     "text": [
      "\r",
      "Iterations:   2%|▋                                  | 6/300 [00:08<05:37,  1.15s/it]"
     ]
    },
    {
     "name": "stdout",
     "output_type": "stream",
     "text": [
      "Epoch  5 , loss 0.5952964600394753\n",
      "Epoch  6 , loss 0.576408230790905\n"
     ]
    },
    {
     "name": "stderr",
     "output_type": "stream",
     "text": [
      "\r",
      "Iterations:   2%|▊                                  | 7/300 [00:09<05:54,  1.21s/it]"
     ]
    },
    {
     "name": "stdout",
     "output_type": "stream",
     "text": [
      "Epoch:  6\n",
      "t_loss:  0.576408230790905 , v_loss:  0.6607173482577006\n",
      "t_acc:  0.6676003734827264 , v_acc:  0.6894409937888198\n",
      "t_recall:  0.5077565501434238 , v_recall:  0.5\n",
      "t_prec:  0.5203820224178805 , v_prec:  0.3447204968944099\n",
      "t_f:  0.47345391292392414 , v_f:  0.4080882352941176\n",
      "////////\n"
     ]
    },
    {
     "name": "stderr",
     "output_type": "stream",
     "text": [
      "\r",
      "Iterations:   3%|▉                                  | 8/300 [00:10<05:17,  1.09s/it]"
     ]
    },
    {
     "name": "stdout",
     "output_type": "stream",
     "text": [
      "Epoch  7 , loss 0.5618111748321384\n",
      "Epoch  8 , loss 0.543721569519417\n"
     ]
    },
    {
     "name": "stderr",
     "output_type": "stream",
     "text": [
      "\r",
      "Iterations:   3%|█                                  | 9/300 [00:11<05:36,  1.16s/it]"
     ]
    },
    {
     "name": "stdout",
     "output_type": "stream",
     "text": [
      "Epoch:  8\n",
      "t_loss:  0.543721569519417 , v_loss:  0.6484856605529785\n",
      "t_acc:  0.6872082166199813 , v_acc:  0.6894409937888198\n",
      "t_recall:  0.5074738200134502 , v_recall:  0.5\n",
      "t_prec:  0.543665070082217 , v_prec:  0.3447204968944099\n",
      "t_f:  0.448435383259659 , v_f:  0.4080882352941176\n",
      "////////\n"
     ]
    },
    {
     "name": "stderr",
     "output_type": "stream",
     "text": [
      "\r",
      "Iterations:   3%|█▏                                | 10/300 [00:12<05:05,  1.05s/it]"
     ]
    },
    {
     "name": "stdout",
     "output_type": "stream",
     "text": [
      "Epoch  9 , loss 0.533149938957364\n",
      "Epoch  10 , loss 0.5183001522924385\n"
     ]
    },
    {
     "name": "stderr",
     "output_type": "stream",
     "text": [
      "\r",
      "Iterations:   4%|█▏                                | 11/300 [00:13<05:29,  1.14s/it]"
     ]
    },
    {
     "name": "stdout",
     "output_type": "stream",
     "text": [
      "Epoch:  10\n",
      "t_loss:  0.5183001522924385 , v_loss:  0.6401023666063944\n",
      "t_acc:  0.6893868658574541 , v_acc:  0.6894409937888198\n",
      "t_recall:  0.5030016057973401 , v_recall:  0.5\n",
      "t_prec:  0.5290114613180515 , v_prec:  0.3447204968944099\n",
      "t_f:  0.4319419642857143 , v_f:  0.4080882352941176\n",
      "////////\n"
     ]
    },
    {
     "name": "stderr",
     "output_type": "stream",
     "text": [
      "\r",
      "Iterations:   4%|█▎                                | 12/300 [00:14<05:00,  1.04s/it]"
     ]
    },
    {
     "name": "stdout",
     "output_type": "stream",
     "text": [
      "Epoch  11 , loss 0.5062741777476143\n",
      "Epoch  12 , loss 0.497609874197081\n"
     ]
    },
    {
     "name": "stderr",
     "output_type": "stream",
     "text": [
      "\r",
      "Iterations:   4%|█▍                                | 13/300 [00:15<05:30,  1.15s/it]"
     ]
    },
    {
     "name": "stdout",
     "output_type": "stream",
     "text": [
      "Epoch:  12\n",
      "t_loss:  0.497609874197081 , v_loss:  0.6378644605477651\n",
      "t_acc:  0.6928104575163399 , v_acc:  0.6894409937888198\n",
      "t_recall:  0.5017245165452026 , v_recall:  0.5\n",
      "t_prec:  0.5338892385147892 , v_prec:  0.3447204968944099\n",
      "t_f:  0.4216637618223395 , v_f:  0.4080882352941176\n",
      "////////\n"
     ]
    },
    {
     "name": "stderr",
     "output_type": "stream",
     "text": [
      "\r",
      "Iterations:   5%|█▌                                | 14/300 [00:16<05:01,  1.05s/it]"
     ]
    },
    {
     "name": "stdout",
     "output_type": "stream",
     "text": [
      "Epoch  13 , loss 0.4879138574880712\n",
      "Epoch  14 , loss 0.48381414892626745\n"
     ]
    },
    {
     "name": "stderr",
     "output_type": "stream",
     "text": [
      "\r",
      "Iterations:   5%|█▋                                | 15/300 [00:18<05:25,  1.14s/it]"
     ]
    },
    {
     "name": "stdout",
     "output_type": "stream",
     "text": [
      "Epoch:  14\n",
      "t_loss:  0.48381414892626745 , v_loss:  0.6371939778327942\n",
      "t_acc:  0.6918767507002801 , v_acc:  0.6894409937888198\n",
      "t_recall:  0.49817803763330176 , v_recall:  0.5\n",
      "t_prec:  0.4307511737089202 , v_prec:  0.3447204968944099\n",
      "t_f:  0.4118518271982959 , v_f:  0.4080882352941176\n",
      "////////\n"
     ]
    },
    {
     "name": "stderr",
     "output_type": "stream",
     "text": [
      "\r",
      "Iterations:   5%|█▊                                | 16/300 [00:18<05:00,  1.06s/it]"
     ]
    },
    {
     "name": "stdout",
     "output_type": "stream",
     "text": [
      "Epoch  15 , loss 0.4804048304464303\n",
      "Epoch  16 , loss 0.4729665400935154\n"
     ]
    },
    {
     "name": "stderr",
     "output_type": "stream",
     "text": [
      "\r",
      "Iterations:   6%|█▉                                | 17/300 [00:20<05:22,  1.14s/it]"
     ]
    },
    {
     "name": "stdout",
     "output_type": "stream",
     "text": [
      "Epoch:  16\n",
      "t_loss:  0.4729665400935154 , v_loss:  0.639159103234609\n",
      "t_acc:  0.6953003423591659 , v_acc:  0.6894409937888198\n",
      "t_recall:  0.5015014891368497 , v_recall:  0.5\n",
      "t_prec:  0.5788942307692309 , v_prec:  0.3447204968944099\n",
      "t_f:  0.4159900929896205 , v_f:  0.4080882352941176\n",
      "////////\n"
     ]
    },
    {
     "name": "stderr",
     "output_type": "stream",
     "text": [
      "\r",
      "Iterations:   6%|██                                | 18/300 [00:21<04:58,  1.06s/it]"
     ]
    },
    {
     "name": "stdout",
     "output_type": "stream",
     "text": [
      "Epoch  17 , loss 0.4653759096183029\n",
      "Epoch  18 , loss 0.4598088439773111\n"
     ]
    },
    {
     "name": "stderr",
     "output_type": "stream",
     "text": [
      "\r",
      "Iterations:   6%|██▏                               | 19/300 [00:22<05:19,  1.14s/it]"
     ]
    },
    {
     "name": "stdout",
     "output_type": "stream",
     "text": [
      "Epoch:  18\n",
      "t_loss:  0.4598088439773111 , v_loss:  0.640370766321818\n",
      "t_acc:  0.6946778711484594 , v_acc:  0.6894409937888198\n",
      "t_recall:  0.49990392665486333 , v_recall:  0.5\n",
      "t_prec:  0.49064254522769807 , v_prec:  0.3447204968944099\n",
      "t_f:  0.4118815871597207 , v_f:  0.4080882352941176\n",
      "////////\n"
     ]
    },
    {
     "name": "stderr",
     "output_type": "stream",
     "text": [
      "\r",
      "Iterations:   7%|██▎                               | 20/300 [00:23<04:56,  1.06s/it]"
     ]
    },
    {
     "name": "stdout",
     "output_type": "stream",
     "text": [
      "Epoch  19 , loss 0.46010204214675754\n",
      "Epoch  20 , loss 0.453952060026281\n"
     ]
    },
    {
     "name": "stderr",
     "output_type": "stream",
     "text": [
      "\r",
      "Iterations:   7%|██▍                               | 21/300 [00:24<05:15,  1.13s/it]"
     ]
    },
    {
     "name": "stdout",
     "output_type": "stream",
     "text": [
      "Epoch:  20\n",
      "t_loss:  0.453952060026281 , v_loss:  0.6420620381832123\n",
      "t_acc:  0.6959228135698724 , v_acc:  0.6894409937888198\n",
      "t_recall:  0.5007987812409931 , v_recall:  0.5\n",
      "t_prec:  0.6813084112149532 , v_prec:  0.3447204968944099\n",
      "t_f:  0.41232340081380947 , v_f:  0.4080882352941176\n",
      "////////\n"
     ]
    },
    {
     "name": "stderr",
     "output_type": "stream",
     "text": [
      "\r",
      "Iterations:   7%|██▍                               | 22/300 [00:25<04:50,  1.04s/it]"
     ]
    },
    {
     "name": "stdout",
     "output_type": "stream",
     "text": [
      "Epoch  21 , loss 0.4557366867860158\n",
      "Epoch  22 , loss 0.4526037030360278\n"
     ]
    },
    {
     "name": "stderr",
     "output_type": "stream",
     "text": [
      "\r",
      "Iterations:   8%|██▌                               | 23/300 [00:26<05:13,  1.13s/it]"
     ]
    },
    {
     "name": "stdout",
     "output_type": "stream",
     "text": [
      "Epoch:  22\n",
      "t_loss:  0.4526037030360278 , v_loss:  0.6437539060910543\n",
      "t_acc:  0.6956115779645191 , v_acc:  0.6894409937888198\n",
      "t_recall:  0.500862601391691 , v_recall:  0.5\n",
      "t_prec:  0.5979887745556596 , v_prec:  0.3447204968944099\n",
      "t_f:  0.4131921101460188 , v_f:  0.4080882352941176\n",
      "////////\n"
     ]
    },
    {
     "name": "stderr",
     "output_type": "stream",
     "text": [
      "\r",
      "Iterations:   8%|██▋                               | 24/300 [00:27<04:49,  1.05s/it]"
     ]
    },
    {
     "name": "stdout",
     "output_type": "stream",
     "text": [
      "Epoch  23 , loss 0.45259251956846197\n",
      "Epoch  24 , loss 0.44745343514517244\n"
     ]
    },
    {
     "name": "stderr",
     "output_type": "stream",
     "text": [
      "\r",
      "Iterations:   8%|██▊                               | 25/300 [00:29<05:14,  1.14s/it]"
     ]
    },
    {
     "name": "stdout",
     "output_type": "stream",
     "text": [
      "Epoch:  24\n",
      "t_loss:  0.44745343514517244 , v_loss:  0.6419581373532613\n",
      "t_acc:  0.6959228135698724 , v_acc:  0.6894409937888198\n",
      "t_recall:  0.5010863150382235 , v_recall:  0.5\n",
      "t_prec:  0.6480361596009975 , v_prec:  0.3447204968944099\n",
      "t_f:  0.41330358142435736 , v_f:  0.4080882352941176\n",
      "////////\n"
     ]
    },
    {
     "name": "stderr",
     "output_type": "stream",
     "text": [
      "\r",
      "Iterations:   9%|██▉                               | 26/300 [00:29<04:47,  1.05s/it]"
     ]
    },
    {
     "name": "stdout",
     "output_type": "stream",
     "text": [
      "Epoch  25 , loss 0.45143277913916346\n",
      "Epoch  26 , loss 0.4480920609305887\n"
     ]
    },
    {
     "name": "stderr",
     "output_type": "stream",
     "text": [
      "\r",
      "Iterations:   9%|███                               | 27/300 [00:31<05:09,  1.14s/it]"
     ]
    },
    {
     "name": "stdout",
     "output_type": "stream",
     "text": [
      "Epoch:  26\n",
      "t_loss:  0.4480920609305887 , v_loss:  0.6405424376328787\n",
      "t_acc:  0.6956115779645191 , v_acc:  0.6894409937888198\n",
      "t_recall:  0.5005750675944607 , v_recall:  0.5\n",
      "t_prec:  0.5979277033343721 , v_prec:  0.3447204968944099\n",
      "t_f:  0.4122130008035903 , v_f:  0.4080882352941176\n",
      "////////\n"
     ]
    },
    {
     "name": "stderr",
     "output_type": "stream",
     "text": [
      "\r",
      "Iterations:   9%|███▏                              | 28/300 [00:32<04:45,  1.05s/it]"
     ]
    },
    {
     "name": "stdout",
     "output_type": "stream",
     "text": [
      "Epoch  27 , loss 0.44184261268260433\n",
      "Epoch  28 , loss 0.4474932352701823\n"
     ]
    },
    {
     "name": "stderr",
     "output_type": "stream",
     "text": [
      "\r",
      "Iterations:  10%|███▎                              | 29/300 [00:33<05:14,  1.16s/it]"
     ]
    },
    {
     "name": "stdout",
     "output_type": "stream",
     "text": [
      "Epoch:  28\n",
      "t_loss:  0.4474932352701823 , v_loss:  0.6372310519218445\n",
      "t_acc:  0.6956115779645191 , v_acc:  0.6894409937888198\n",
      "t_recall:  0.5002875337972303 , v_recall:  0.5\n",
      "t_prec:  0.5978667081905948 , v_prec:  0.3447204968944099\n",
      "t_f:  0.4112297361103825 , v_f:  0.4080882352941176\n",
      "////////\n"
     ]
    },
    {
     "name": "stderr",
     "output_type": "stream",
     "text": [
      "\r",
      "Iterations:  10%|███▍                              | 30/300 [00:34<04:49,  1.07s/it]"
     ]
    },
    {
     "name": "stdout",
     "output_type": "stream",
     "text": [
      "Epoch  29 , loss 0.4491757709606021\n",
      "Epoch  30 , loss 0.4403996853267445\n"
     ]
    },
    {
     "name": "stderr",
     "output_type": "stream",
     "text": [
      "\r",
      "Iterations:  10%|███▌                              | 31/300 [00:35<05:12,  1.16s/it]"
     ]
    },
    {
     "name": "stdout",
     "output_type": "stream",
     "text": [
      "Epoch:  30\n",
      "t_loss:  0.4403996853267445 , v_loss:  0.6335136592388153\n",
      "t_acc:  0.6965452847805789 , v_acc:  0.6894409937888198\n",
      "t_recall:  0.5018212761285187 , v_recall:  0.5\n",
      "t_prec:  0.7481920199501246 , v_prec:  0.3447204968944099\n",
      "t_f:  0.4145045976343382 , v_f:  0.4080882352941176\n",
      "////////\n"
     ]
    },
    {
     "name": "stderr",
     "output_type": "stream",
     "text": [
      "\r",
      "Iterations:  11%|███▋                              | 32/300 [00:36<04:45,  1.06s/it]"
     ]
    },
    {
     "name": "stdout",
     "output_type": "stream",
     "text": [
      "Epoch  31 , loss 0.4420453859310524\n",
      "Epoch  32 , loss 0.43723122921644475\n"
     ]
    },
    {
     "name": "stderr",
     "output_type": "stream",
     "text": [
      "\r",
      "Iterations:  11%|███▋                              | 33/300 [00:38<05:14,  1.18s/it]"
     ]
    },
    {
     "name": "stdout",
     "output_type": "stream",
     "text": [
      "Epoch:  32\n",
      "t_loss:  0.43723122921644475 , v_loss:  0.6305377235015234\n",
      "t_acc:  0.6949891067538126 , v_acc:  0.6894409937888198\n",
      "t_recall:  0.4998401065041655 , v_recall:  0.5\n",
      "t_prec:  0.47277189155500154 , v_prec:  0.3447204968944099\n",
      "t_f:  0.41101098240032563 , v_f:  0.4080882352941176\n",
      "////////\n"
     ]
    },
    {
     "name": "stderr",
     "output_type": "stream",
     "text": [
      "\r",
      "Iterations:  11%|███▊                              | 34/300 [00:38<04:44,  1.07s/it]"
     ]
    },
    {
     "name": "stdout",
     "output_type": "stream",
     "text": [
      "Epoch  33 , loss 0.4383362876433952\n",
      "Epoch  34 , loss 0.43899986089444626\n"
     ]
    },
    {
     "name": "stderr",
     "output_type": "stream",
     "text": [
      "\r",
      "Iterations:  12%|███▉                              | 35/300 [00:40<05:05,  1.15s/it]"
     ]
    },
    {
     "name": "stdout",
     "output_type": "stream",
     "text": [
      "Epoch:  34\n",
      "t_loss:  0.43899986089444626 , v_loss:  0.6250953574975332\n",
      "t_acc:  0.6949891067538126 , v_acc:  0.6894409937888198\n",
      "t_recall:  0.4998401065041655 , v_recall:  0.5\n",
      "t_prec:  0.47277189155500154 , v_prec:  0.3447204968944099\n",
      "t_f:  0.41101098240032563 , v_f:  0.4080882352941176\n",
      "////////\n"
     ]
    },
    {
     "name": "stderr",
     "output_type": "stream",
     "text": [
      "\r",
      "Iterations:  12%|████                              | 36/300 [00:41<04:40,  1.06s/it]"
     ]
    },
    {
     "name": "stdout",
     "output_type": "stream",
     "text": [
      "Epoch  35 , loss 0.43256140982403474\n",
      "Epoch  36 , loss 0.4388108545658635\n"
     ]
    },
    {
     "name": "stderr",
     "output_type": "stream",
     "text": [
      "\r",
      "Iterations:  12%|████▏                             | 37/300 [00:42<05:09,  1.18s/it]"
     ]
    },
    {
     "name": "stdout",
     "output_type": "stream",
     "text": [
      "Epoch:  36\n",
      "t_loss:  0.4388108545658635 , v_loss:  0.6201566010713577\n",
      "t_acc:  0.6959228135698724 , v_acc:  0.6894409937888198\n",
      "t_recall:  0.5013738488354538 , v_recall:  0.5\n",
      "t_prec:  0.6338116032439176 , v_prec:  0.3447204968944099\n",
      "t_f:  0.4142796235015772 , v_f:  0.4080882352941176\n",
      "////////\n"
     ]
    },
    {
     "name": "stderr",
     "output_type": "stream",
     "text": [
      "\r",
      "Iterations:  13%|████▎                             | 38/300 [00:43<04:45,  1.09s/it]"
     ]
    },
    {
     "name": "stdout",
     "output_type": "stream",
     "text": [
      "Epoch  37 , loss 0.43823947626001697\n",
      "Epoch  38 , loss 0.43561458295466854\n"
     ]
    },
    {
     "name": "stderr",
     "output_type": "stream",
     "text": [
      "\r",
      "Iterations:  13%|████▍                             | 39/300 [00:44<05:07,  1.18s/it]"
     ]
    },
    {
     "name": "stdout",
     "output_type": "stream",
     "text": [
      "Epoch:  38\n",
      "t_loss:  0.43561458295466854 , v_loss:  0.6151978671550751\n",
      "t_acc:  0.6968565203859322 , v_acc:  0.6894409937888198\n",
      "t_recall:  0.5026200573695119 , v_recall:  0.5\n",
      "t_prec:  0.7233619344773792 , v_prec:  0.3447204968944099\n",
      "t_f:  0.4165631338742394 , v_f:  0.4080882352941176\n",
      "////////\n"
     ]
    },
    {
     "name": "stderr",
     "output_type": "stream",
     "text": [
      "\r",
      "Iterations:  13%|████▌                             | 40/300 [00:45<04:45,  1.10s/it]"
     ]
    },
    {
     "name": "stdout",
     "output_type": "stream",
     "text": [
      "Epoch  39 , loss 0.4282562767758089\n",
      "Epoch  40 , loss 0.43187180336783915\n"
     ]
    },
    {
     "name": "stderr",
     "output_type": "stream",
     "text": [
      "\r",
      "Iterations:  14%|████▋                             | 41/300 [00:47<05:27,  1.26s/it]"
     ]
    },
    {
     "name": "stdout",
     "output_type": "stream",
     "text": [
      "Epoch:  40\n",
      "t_loss:  0.43187180336783915 , v_loss:  0.6094346245129904\n",
      "t_acc:  0.6968565203859322 , v_acc:  0.6894409937888198\n",
      "t_recall:  0.5023325235722814 , v_recall:  0.5\n",
      "t_prec:  0.7649672591206735 , v_prec:  0.3447204968944099\n",
      "t_f:  0.4155921424153602 , v_f:  0.4080882352941176\n",
      "////////\n"
     ]
    },
    {
     "name": "stderr",
     "output_type": "stream",
     "text": [
      "\r",
      "Iterations:  14%|████▊                             | 42/300 [00:48<04:51,  1.13s/it]"
     ]
    },
    {
     "name": "stdout",
     "output_type": "stream",
     "text": [
      "Epoch  41 , loss 0.4347319269881529\n",
      "Epoch  42 , loss 0.43207896164819304\n"
     ]
    },
    {
     "name": "stderr",
     "output_type": "stream",
     "text": [
      "\r",
      "Iterations:  14%|████▊                             | 43/300 [00:49<05:30,  1.28s/it]"
     ]
    },
    {
     "name": "stdout",
     "output_type": "stream",
     "text": [
      "Epoch:  42\n",
      "t_loss:  0.43207896164819304 , v_loss:  0.6057316859563192\n",
      "t_acc:  0.6971677559912854 , v_acc:  0.6894409937888198\n",
      "t_recall:  0.5039939062049656 , v_recall:  0.5\n",
      "t_prec:  0.6819887429643527 , v_prec:  0.3447204968944099\n",
      "t_f:  0.42052512257253005 , v_f:  0.4080882352941176\n",
      "////////\n"
     ]
    },
    {
     "name": "stderr",
     "output_type": "stream",
     "text": [
      "\r",
      "Iterations:  15%|████▉                             | 44/300 [00:50<04:59,  1.17s/it]"
     ]
    },
    {
     "name": "stdout",
     "output_type": "stream",
     "text": [
      "Epoch  43 , loss 0.43256939684643464\n",
      "Epoch  44 , loss 0.42856134737239165\n"
     ]
    },
    {
     "name": "stderr",
     "output_type": "stream",
     "text": [
      "\r",
      "Iterations:  15%|█████                             | 45/300 [00:52<05:24,  1.27s/it]"
     ]
    },
    {
     "name": "stdout",
     "output_type": "stream",
     "text": [
      "Epoch:  44\n",
      "t_loss:  0.42856134737239165 , v_loss:  0.6006626139084498\n",
      "t_acc:  0.6974789915966386 , v_acc:  0.6894409937888198\n",
      "t_recall:  0.5030674846625767 , v_recall:  0.5\n",
      "t_prec:  0.8484565014031805 , v_prec:  0.3447204968944099\n",
      "t_f:  0.41679215855003093 , v_f:  0.4080882352941176\n",
      "////////\n"
     ]
    },
    {
     "name": "stderr",
     "output_type": "stream",
     "text": [
      "\r",
      "Iterations:  15%|█████▏                            | 46/300 [00:53<04:59,  1.18s/it]"
     ]
    },
    {
     "name": "stdout",
     "output_type": "stream",
     "text": [
      "Epoch  45 , loss 0.4284893817761365\n",
      "Epoch  46 , loss 0.4281209397549723\n"
     ]
    },
    {
     "name": "stderr",
     "output_type": "stream",
     "text": [
      "\r",
      "Iterations:  16%|█████▎                            | 47/300 [00:54<05:21,  1.27s/it]"
     ]
    },
    {
     "name": "stdout",
     "output_type": "stream",
     "text": [
      "Epoch:  46\n",
      "t_loss:  0.4281209397549723 , v_loss:  0.597821851571401\n",
      "t_acc:  0.6949891067538126 , v_acc:  0.6894409937888198\n",
      "t_recall:  0.5007027078958565 , v_recall:  0.5\n",
      "t_prec:  0.5479550421479863 , v_prec:  0.3447204968944099\n",
      "t_f:  0.4139419261368121 , v_f:  0.4080882352941176\n",
      "////////\n"
     ]
    },
    {
     "name": "stderr",
     "output_type": "stream",
     "text": [
      "\r",
      "Iterations:  16%|█████▍                            | 48/300 [00:55<04:49,  1.15s/it]"
     ]
    },
    {
     "name": "stdout",
     "output_type": "stream",
     "text": [
      "Epoch  47 , loss 0.42299850957066404\n",
      "Epoch  48 , loss 0.42300892168400334\n"
     ]
    },
    {
     "name": "stderr",
     "output_type": "stream",
     "text": [
      "\r",
      "Iterations:  16%|█████▌                            | 49/300 [00:56<05:12,  1.25s/it]"
     ]
    },
    {
     "name": "stdout",
     "output_type": "stream",
     "text": [
      "Epoch:  48\n",
      "t_loss:  0.42300892168400334 , v_loss:  0.5914699037869772\n",
      "t_acc:  0.6993464052287581 , v_acc:  0.6894409937888198\n",
      "t_recall:  0.5069975707168444 , v_recall:  0.5\n",
      "t_prec:  0.765962441314554 , v_prec:  0.3447204968944099\n",
      "t_f:  0.4261099647207615 , v_f:  0.4080882352941176\n",
      "////////\n"
     ]
    },
    {
     "name": "stderr",
     "output_type": "stream",
     "text": [
      "\r",
      "Iterations:  17%|█████▋                            | 50/300 [00:57<04:41,  1.13s/it]"
     ]
    },
    {
     "name": "stdout",
     "output_type": "stream",
     "text": [
      "Epoch  49 , loss 0.4294651653252396\n",
      "Epoch  50 , loss 0.42346741931111204\n"
     ]
    },
    {
     "name": "stderr",
     "output_type": "stream",
     "text": [
      "\r",
      "Iterations:  17%|█████▊                            | 51/300 [00:59<05:06,  1.23s/it]"
     ]
    },
    {
     "name": "stdout",
     "output_type": "stream",
     "text": [
      "Epoch:  50\n",
      "t_loss:  0.42346741931111204 , v_loss:  0.58623306453228\n",
      "t_acc:  0.6962340491752257 , v_acc:  0.6956521739130435\n",
      "t_recall:  0.5036102990625986 , v_recall:  0.51\n",
      "t_prec:  0.6235750078296274 , v_prec:  0.846875\n",
      "t_f:  0.42111784364602456 , v_f:  0.42920193907821425\n",
      "////////\n"
     ]
    },
    {
     "name": "stderr",
     "output_type": "stream",
     "text": [
      "\r",
      "Iterations:  17%|█████▉                            | 52/300 [01:00<04:39,  1.13s/it]"
     ]
    },
    {
     "name": "stdout",
     "output_type": "stream",
     "text": [
      "Epoch  51 , loss 0.4289396574684218\n",
      "Epoch  52 , loss 0.4244978772658928\n"
     ]
    },
    {
     "name": "stderr",
     "output_type": "stream",
     "text": [
      "\r",
      "Iterations:  18%|██████                            | 53/300 [01:01<05:02,  1.22s/it]"
     ]
    },
    {
     "name": "stdout",
     "output_type": "stream",
     "text": [
      "Epoch:  52\n",
      "t_loss:  0.4244978772658928 , v_loss:  0.5817861805359522\n",
      "t_acc:  0.6965452847805789 , v_acc:  0.6956521739130435\n",
      "t_recall:  0.5032589451146704 , v_recall:  0.51\n",
      "t_prec:  0.6484990619136961 , v_prec:  0.846875\n",
      "t_f:  0.41933401285531013 , v_f:  0.42920193907821425\n",
      "////////\n"
     ]
    },
    {
     "name": "stderr",
     "output_type": "stream",
     "text": [
      "\r",
      "Iterations:  18%|██████                            | 54/300 [01:02<04:45,  1.16s/it]"
     ]
    },
    {
     "name": "stdout",
     "output_type": "stream",
     "text": [
      "Epoch  53 , loss 0.42218825571677265\n",
      "Epoch  54 , loss 0.4232643083030102\n"
     ]
    },
    {
     "name": "stderr",
     "output_type": "stream",
     "text": [
      "\r",
      "Iterations:  18%|██████▏                           | 55/300 [01:04<05:20,  1.31s/it]"
     ]
    },
    {
     "name": "stdout",
     "output_type": "stream",
     "text": [
      "Epoch:  54\n",
      "t_loss:  0.4232643083030102 , v_loss:  0.5765896290540695\n",
      "t_acc:  0.6996576408341114 , v_acc:  0.7080745341614907\n",
      "t_recall:  0.5086589533495286 , v_recall:  0.53\n",
      "t_prec:  0.7200251098556183 , v_prec:  0.8512658227848101\n",
      "t_f:  0.4308947790103165 , v_f:  0.4692431787893666\n",
      "////////\n"
     ]
    },
    {
     "name": "stderr",
     "output_type": "stream",
     "text": [
      "\r",
      "Iterations:  19%|██████▎                           | 56/300 [01:05<05:02,  1.24s/it]"
     ]
    },
    {
     "name": "stdout",
     "output_type": "stream",
     "text": [
      "Epoch  55 , loss 0.4183625315918642\n",
      "Epoch  56 , loss 0.4218315692508922\n"
     ]
    },
    {
     "name": "stderr",
     "output_type": "stream",
     "text": [
      "\r",
      "Iterations:  19%|██████▍                           | 57/300 [01:06<05:26,  1.35s/it]"
     ]
    },
    {
     "name": "stdout",
     "output_type": "stream",
     "text": [
      "Epoch:  56\n",
      "t_loss:  0.4218315692508922 , v_loss:  0.5701574981212616\n",
      "t_acc:  0.6999688764394647 , v_acc:  0.7142857142857143\n",
      "t_recall:  0.508882666996061 , v_recall:  0.54\n",
      "t_prec:  0.7343172986411142 , v_prec:  0.8535031847133758\n",
      "t_f:  0.43102323277895427 , v_f:  0.488253178551686\n",
      "////////\n"
     ]
    },
    {
     "name": "stderr",
     "output_type": "stream",
     "text": [
      "\r",
      "Iterations:  19%|██████▌                           | 58/300 [01:07<05:03,  1.25s/it]"
     ]
    },
    {
     "name": "stdout",
     "output_type": "stream",
     "text": [
      "Epoch  57 , loss 0.4175854842452442\n",
      "Epoch  58 , loss 0.4270212264621959\n"
     ]
    },
    {
     "name": "stderr",
     "output_type": "stream",
     "text": [
      "\r",
      "Iterations:  20%|██████▋                           | 59/300 [01:09<05:18,  1.32s/it]"
     ]
    },
    {
     "name": "stdout",
     "output_type": "stream",
     "text": [
      "Epoch:  58\n",
      "t_loss:  0.4270212264621959 , v_loss:  0.5631921390692393\n",
      "t_acc:  0.6984126984126984 , v_acc:  0.7391304347826086\n",
      "t_recall:  0.5069014973717078 , v_recall:  0.58\n",
      "t_prec:  0.6892785445420326 , v_prec:  0.8627450980392157\n",
      "t_f:  0.42760745975240416 , v_f:  0.5583855799373041\n",
      "////////\n"
     ]
    },
    {
     "name": "stderr",
     "output_type": "stream",
     "text": [
      "\r",
      "Iterations:  20%|██████▊                           | 60/300 [01:10<04:44,  1.18s/it]"
     ]
    },
    {
     "name": "stdout",
     "output_type": "stream",
     "text": [
      "Epoch  59 , loss 0.4246267419235379\n",
      "Epoch  60 , loss 0.416140827478147\n"
     ]
    },
    {
     "name": "stderr",
     "output_type": "stream",
     "text": [
      "\r",
      "Iterations:  20%|██████▉                           | 61/300 [01:11<04:55,  1.24s/it]"
     ]
    },
    {
     "name": "stdout",
     "output_type": "stream",
     "text": [
      "Epoch:  60\n",
      "t_loss:  0.416140827478147 , v_loss:  0.55670598646005\n",
      "t_acc:  0.6981014628073452 , v_acc:  0.7515527950310559\n",
      "t_recall:  0.5066777837251754 , v_recall:  0.6\n",
      "t_prec:  0.6761543288841689 , v_prec:  0.8675496688741722\n",
      "t_f:  0.42748188360537925 , v_f:  0.5903307888040712\n",
      "////////\n"
     ]
    },
    {
     "name": "stderr",
     "output_type": "stream",
     "text": [
      "\r",
      "Iterations:  21%|███████                           | 62/300 [01:12<04:28,  1.13s/it]"
     ]
    },
    {
     "name": "stdout",
     "output_type": "stream",
     "text": [
      "Epoch  61 , loss 0.41620148221651715\n",
      "Epoch  62 , loss 0.4155596629077313\n"
     ]
    },
    {
     "name": "stderr",
     "output_type": "stream",
     "text": [
      "\r",
      "Iterations:  21%|███████▏                          | 63/300 [01:13<04:46,  1.21s/it]"
     ]
    },
    {
     "name": "stdout",
     "output_type": "stream",
     "text": [
      "Epoch:  62\n",
      "t_loss:  0.4155596629077313 , v_loss:  0.5502004027366638\n",
      "t_acc:  0.7012138188608776 , v_acc:  0.7577639751552795\n",
      "t_recall:  0.5129403933517245 , v_recall:  0.61\n",
      "t_prec:  0.7028565076450846 , v_prec:  0.87\n",
      "t_f:  0.4415095870131714 , v_f:  0.6056152251742981\n",
      "////////\n"
     ]
    },
    {
     "name": "stderr",
     "output_type": "stream",
     "text": [
      "\r",
      "Iterations:  21%|███████▎                          | 64/300 [01:14<04:25,  1.12s/it]"
     ]
    },
    {
     "name": "stdout",
     "output_type": "stream",
     "text": [
      "Epoch  63 , loss 0.4159275381004109\n",
      "Epoch  64 , loss 0.4234354899210088\n"
     ]
    },
    {
     "name": "stderr",
     "output_type": "stream",
     "text": [
      "\r",
      "Iterations:  22%|███████▎                          | 65/300 [01:16<04:43,  1.21s/it]"
     ]
    },
    {
     "name": "stdout",
     "output_type": "stream",
     "text": [
      "Epoch:  64\n",
      "t_loss:  0.4234354899210088 , v_loss:  0.5453961988290151\n",
      "t_acc:  0.7021475256769374 , v_acc:  0.7639751552795031\n",
      "t_recall:  0.5150492032774735 , v_recall:  0.62\n",
      "t_prec:  0.7039848197343453 , v_prec:  0.8724832214765101\n",
      "t_f:  0.4463250558700412 , v_f:  0.6204714640198511\n",
      "////////\n"
     ]
    },
    {
     "name": "stderr",
     "output_type": "stream",
     "text": [
      "\r",
      "Iterations:  22%|███████▍                          | 66/300 [01:17<04:31,  1.16s/it]"
     ]
    },
    {
     "name": "stdout",
     "output_type": "stream",
     "text": [
      "Epoch  65 , loss 0.41605876999742847\n",
      "Epoch  66 , loss 0.42122652951408834\n"
     ]
    },
    {
     "name": "stderr",
     "output_type": "stream",
     "text": [
      "\r",
      "Iterations:  22%|███████▌                          | 67/300 [01:18<04:45,  1.23s/it]"
     ]
    },
    {
     "name": "stdout",
     "output_type": "stream",
     "text": [
      "Epoch:  66\n",
      "t_loss:  0.42122652951408834 , v_loss:  0.5398519684871038\n",
      "t_acc:  0.7005913476501712 , v_acc:  0.7639751552795031\n",
      "t_recall:  0.51278049985589 , v_recall:  0.62\n",
      "t_prec:  0.6838862559241705 , v_prec:  0.8724832214765101\n",
      "t_f:  0.4421150097465887 , v_f:  0.6204714640198511\n",
      "////////\n"
     ]
    },
    {
     "name": "stderr",
     "output_type": "stream",
     "text": [
      "\r",
      "Iterations:  23%|███████▋                          | 68/300 [01:19<04:39,  1.20s/it]"
     ]
    },
    {
     "name": "stdout",
     "output_type": "stream",
     "text": [
      "Epoch  67 , loss 0.413351355230107\n",
      "Epoch  68 , loss 0.4156130242581461\n"
     ]
    },
    {
     "name": "stderr",
     "output_type": "stream",
     "text": [
      "\r",
      "Iterations:  23%|███████▊                          | 69/300 [01:21<04:48,  1.25s/it]"
     ]
    },
    {
     "name": "stdout",
     "output_type": "stream",
     "text": [
      "Epoch:  68\n",
      "t_loss:  0.4156130242581461 , v_loss:  0.5331998417774836\n",
      "t_acc:  0.706504824151883 , v_acc:  0.7639751552795031\n",
      "t_recall:  0.5216315998956917 , v_recall:  0.62\n",
      "t_prec:  0.7459172422401598 , v_prec:  0.8724832214765101\n",
      "t_f:  0.45867274315434814 , v_f:  0.6204714640198511\n",
      "////////\n"
     ]
    },
    {
     "name": "stderr",
     "output_type": "stream",
     "text": [
      "\r",
      "Iterations:  23%|███████▉                          | 70/300 [01:22<04:38,  1.21s/it]"
     ]
    },
    {
     "name": "stdout",
     "output_type": "stream",
     "text": [
      "Epoch  69 , loss 0.41617118552619337\n",
      "Epoch  70 , loss 0.40925093141256597\n"
     ]
    },
    {
     "name": "stderr",
     "output_type": "stream",
     "text": [
      "\r",
      "Iterations:  24%|████████                          | 71/300 [01:23<04:46,  1.25s/it]"
     ]
    },
    {
     "name": "stdout",
     "output_type": "stream",
     "text": [
      "Epoch:  70\n",
      "t_loss:  0.40925093141256597 , v_loss:  0.5278881440560023\n",
      "t_acc:  0.7043261749144102 , v_acc:  0.7763975155279503\n",
      "t_recall:  0.5174778001948916 , v_recall:  0.64\n",
      "t_prec:  0.7415649699652229 , v_prec:  0.8775510204081632\n",
      "t_f:  0.4499421892818063 , v_f:  0.6489825581395349\n",
      "////////\n"
     ]
    },
    {
     "name": "stderr",
     "output_type": "stream",
     "text": [
      "\r",
      "Iterations:  24%|████████▏                         | 72/300 [01:24<04:34,  1.20s/it]"
     ]
    },
    {
     "name": "stdout",
     "output_type": "stream",
     "text": [
      "Epoch  71 , loss 0.4144730620524463\n",
      "Epoch  72 , loss 0.40988997384613635\n"
     ]
    },
    {
     "name": "stderr",
     "output_type": "stream",
     "text": [
      "\r",
      "Iterations:  24%|████████▎                         | 73/300 [01:26<04:46,  1.26s/it]"
     ]
    },
    {
     "name": "stdout",
     "output_type": "stream",
     "text": [
      "Epoch:  72\n",
      "t_loss:  0.40988997384613635 , v_loss:  0.5269323289394379\n",
      "t_acc:  0.7083722377840025 , v_acc:  0.782608695652174\n",
      "t_recall:  0.527574422530572 , v_recall:  0.65\n",
      "t_prec:  0.7216228737838375 , v_prec:  0.8801369863013699\n",
      "t_f:  0.472703484477092 , v_f:  0.662675845555223\n",
      "////////\n"
     ]
    },
    {
     "name": "stderr",
     "output_type": "stream",
     "text": [
      "\r",
      "Iterations:  25%|████████▍                         | 74/300 [01:27<04:23,  1.17s/it]"
     ]
    },
    {
     "name": "stdout",
     "output_type": "stream",
     "text": [
      "Epoch  73 , loss 0.4078282988538929\n",
      "Epoch  74 , loss 0.4065397656431385\n"
     ]
    },
    {
     "name": "stderr",
     "output_type": "stream",
     "text": [
      "\r",
      "Iterations:  25%|████████▌                         | 75/300 [01:28<04:45,  1.27s/it]"
     ]
    },
    {
     "name": "stdout",
     "output_type": "stream",
     "text": [
      "Epoch:  74\n",
      "t_loss:  0.4065397656431385 , v_loss:  0.5225411454836527\n",
      "t_acc:  0.7049486461251168 , v_acc:  0.782608695652174\n",
      "t_recall:  0.5202254978657992 , v_recall:  0.65\n",
      "t_prec:  0.7193627937440457 , v_prec:  0.8801369863013699\n",
      "t_f:  0.45706693323218295 , v_f:  0.662675845555223\n",
      "////////\n"
     ]
    },
    {
     "name": "stderr",
     "output_type": "stream",
     "text": [
      "\r",
      "Iterations:  25%|████████▌                         | 76/300 [01:29<04:16,  1.14s/it]"
     ]
    },
    {
     "name": "stdout",
     "output_type": "stream",
     "text": [
      "Epoch  75 , loss 0.4118298479154998\n",
      "Epoch  76 , loss 0.40559491310633866\n"
     ]
    },
    {
     "name": "stderr",
     "output_type": "stream",
     "text": [
      "\r",
      "Iterations:  26%|████████▋                         | 77/300 [01:30<04:38,  1.25s/it]"
     ]
    },
    {
     "name": "stdout",
     "output_type": "stream",
     "text": [
      "Epoch:  76\n",
      "t_loss:  0.40559491310633866 , v_loss:  0.5206281592448553\n",
      "t_acc:  0.7055711173358232 , v_acc:  0.7950310559006211\n",
      "t_recall:  0.5226856617394765 , v_recall:  0.67\n",
      "t_prec:  0.7079886918443703 , v_prec:  0.8854166666666667\n",
      "t_f:  0.46318425287632414 , v_f:  0.689025460930641\n",
      "////////\n"
     ]
    },
    {
     "name": "stderr",
     "output_type": "stream",
     "text": [
      "\r",
      "Iterations:  26%|████████▊                         | 78/300 [01:31<04:09,  1.12s/it]"
     ]
    },
    {
     "name": "stdout",
     "output_type": "stream",
     "text": [
      "Epoch  77 , loss 0.4085756084498237\n",
      "Epoch  78 , loss 0.40669066531985415\n"
     ]
    },
    {
     "name": "stderr",
     "output_type": "stream",
     "text": [
      "\r",
      "Iterations:  26%|████████▉                         | 79/300 [01:33<04:33,  1.24s/it]"
     ]
    },
    {
     "name": "stdout",
     "output_type": "stream",
     "text": [
      "Epoch:  78\n",
      "t_loss:  0.40669066531985415 , v_loss:  0.518468459447225\n",
      "t_acc:  0.706504824151883 , v_acc:  0.7950310559006211\n",
      "t_recall:  0.5247944716652255 , v_recall:  0.67\n",
      "t_prec:  0.7086165749259017 , v_prec:  0.8854166666666667\n",
      "t_f:  0.4677234808990797 , v_f:  0.689025460930641\n",
      "////////\n"
     ]
    },
    {
     "name": "stderr",
     "output_type": "stream",
     "text": [
      "\r",
      "Iterations:  27%|█████████                         | 80/300 [01:34<04:08,  1.13s/it]"
     ]
    },
    {
     "name": "stdout",
     "output_type": "stream",
     "text": [
      "Epoch  79 , loss 0.40541088172033724\n",
      "Epoch  80 , loss 0.409899467346715\n"
     ]
    },
    {
     "name": "stderr",
     "output_type": "stream",
     "text": [
      "\r",
      "Iterations:  27%|█████████▏                        | 81/300 [01:35<04:43,  1.29s/it]"
     ]
    },
    {
     "name": "stdout",
     "output_type": "stream",
     "text": [
      "Epoch:  80\n",
      "t_loss:  0.409899467346715 , v_loss:  0.5184633533159891\n",
      "t_acc:  0.7074385309679427 , v_acc:  0.7950310559006211\n",
      "t_recall:  0.5254656126048228 , v_recall:  0.67\n",
      "t_prec:  0.7220854612192786 , v_prec:  0.8854166666666667\n",
      "t_f:  0.46820970872692336 , v_f:  0.689025460930641\n",
      "////////\n"
     ]
    },
    {
     "name": "stderr",
     "output_type": "stream",
     "text": [
      "\r",
      "Iterations:  27%|█████████▎                        | 82/300 [01:36<04:20,  1.19s/it]"
     ]
    },
    {
     "name": "stdout",
     "output_type": "stream",
     "text": [
      "Epoch  81 , loss 0.40377583866025885\n",
      "Epoch  82 , loss 0.4074440943259819\n"
     ]
    },
    {
     "name": "stderr",
     "output_type": "stream",
     "text": [
      "\r",
      "Iterations:  28%|█████████▍                        | 83/300 [01:38<04:43,  1.31s/it]"
     ]
    },
    {
     "name": "stdout",
     "output_type": "stream",
     "text": [
      "Epoch:  82\n",
      "t_loss:  0.4074440943259819 , v_loss:  0.516126478711764\n",
      "t_acc:  0.7086834733893558 , v_acc:  0.7950310559006211\n",
      "t_recall:  0.5286607375687954 , v_recall:  0.67\n",
      "t_prec:  0.718183622863352 , v_prec:  0.8854166666666667\n",
      "t_f:  0.4752381816532075 , v_f:  0.689025460930641\n",
      "////////\n"
     ]
    },
    {
     "name": "stderr",
     "output_type": "stream",
     "text": [
      "\r",
      "Iterations:  28%|█████████▌                        | 84/300 [01:39<04:13,  1.18s/it]"
     ]
    },
    {
     "name": "stdout",
     "output_type": "stream",
     "text": [
      "Epoch  83 , loss 0.4016040703829597\n",
      "Epoch  84 , loss 0.40209054713155706\n"
     ]
    },
    {
     "name": "stderr",
     "output_type": "stream",
     "text": [
      "\r",
      "Iterations:  28%|█████████▋                        | 85/300 [01:40<04:24,  1.23s/it]"
     ]
    },
    {
     "name": "stdout",
     "output_type": "stream",
     "text": [
      "Epoch:  84\n",
      "t_loss:  0.40209054713155706 , v_loss:  0.5162199636300405\n",
      "t_acc:  0.7145969498910676 , v_acc:  0.7888198757763976\n",
      "t_recall:  0.5363617024196758 , v_recall:  0.66\n",
      "t_prec:  0.7629610391329089 , v_prec:  0.8827586206896552\n",
      "t_f:  0.48780345338623954 , v_f:  0.6760179924242424\n",
      "////////\n"
     ]
    },
    {
     "name": "stderr",
     "output_type": "stream",
     "text": [
      "\r",
      "Iterations:  29%|█████████▋                        | 86/300 [01:41<03:57,  1.11s/it]"
     ]
    },
    {
     "name": "stdout",
     "output_type": "stream",
     "text": [
      "Epoch  85 , loss 0.39934048290346186\n",
      "Epoch  86 , loss 0.3935394801345526\n"
     ]
    },
    {
     "name": "stderr",
     "output_type": "stream",
     "text": [
      "\r",
      "Iterations:  29%|█████████▊                        | 87/300 [01:42<04:15,  1.20s/it]"
     ]
    },
    {
     "name": "stdout",
     "output_type": "stream",
     "text": [
      "Epoch:  86\n",
      "t_loss:  0.3935394801345526 , v_loss:  0.5141639014085134\n",
      "t_acc:  0.7161531279178338 , v_acc:  0.7950310559006211\n",
      "t_recall:  0.5406431424218717 , v_recall:  0.6754954954954955\n",
      "t_prec:  0.7514648188719621 , v_prec:  0.8610081541882876\n",
      "t_f:  0.4969282685818118 , v_f:  0.6956521739130435\n",
      "////////\n"
     ]
    },
    {
     "name": "stderr",
     "output_type": "stream",
     "text": [
      "\r",
      "Iterations:  29%|█████████▉                        | 88/300 [01:43<03:52,  1.10s/it]"
     ]
    },
    {
     "name": "stdout",
     "output_type": "stream",
     "text": [
      "Epoch  87 , loss 0.3948977104589051\n",
      "Epoch  88 , loss 0.39684539682724895\n"
     ]
    },
    {
     "name": "stderr",
     "output_type": "stream",
     "text": [
      "\r",
      "Iterations:  30%|██████████                        | 89/300 [01:45<04:11,  1.19s/it]"
     ]
    },
    {
     "name": "stdout",
     "output_type": "stream",
     "text": [
      "Epoch:  88\n",
      "t_loss:  0.39684539682724895 , v_loss:  0.5104527870814005\n",
      "t_acc:  0.7124183006535948 , v_acc:  0.7950310559006211\n",
      "t_recall:  0.5347957068939487 , v_recall:  0.6754954954954955\n",
      "t_prec:  0.7352274414231634 , v_prec:  0.8610081541882876\n",
      "t_f:  0.48656084319346515 , v_f:  0.6956521739130435\n",
      "////////\n"
     ]
    },
    {
     "name": "stderr",
     "output_type": "stream",
     "text": [
      "\r",
      "Iterations:  30%|██████████▏                       | 90/300 [01:46<03:56,  1.13s/it]"
     ]
    },
    {
     "name": "stdout",
     "output_type": "stream",
     "text": [
      "Epoch  89 , loss 0.4020187439871769\n",
      "Epoch  90 , loss 0.3930182281662436\n"
     ]
    },
    {
     "name": "stderr",
     "output_type": "stream",
     "text": [
      "\r",
      "Iterations:  30%|██████████▎                       | 91/300 [01:47<04:16,  1.23s/it]"
     ]
    },
    {
     "name": "stdout",
     "output_type": "stream",
     "text": [
      "Epoch:  90\n",
      "t_loss:  0.3930182281662436 , v_loss:  0.5068360517422358\n",
      "t_acc:  0.7136632430750078 , v_acc:  0.8074534161490683\n",
      "t_recall:  0.5356905614800784 , v_recall:  0.6954954954954955\n",
      "t_prec:  0.7506055252168327 , v_prec:  0.8690476190476191\n",
      "t_f:  0.48727039602133093 , v_f:  0.7199371527972616\n",
      "////////\n"
     ]
    },
    {
     "name": "stderr",
     "output_type": "stream",
     "text": [
      "\r",
      "Iterations:  31%|██████████▍                       | 92/300 [01:48<04:10,  1.20s/it]"
     ]
    },
    {
     "name": "stdout",
     "output_type": "stream",
     "text": [
      "Epoch  91 , loss 0.3935587961299747\n",
      "Epoch  92 , loss 0.39521489657607733\n"
     ]
    },
    {
     "name": "stderr",
     "output_type": "stream",
     "text": [
      "\r",
      "Iterations:  31%|██████████▌                       | 93/300 [01:50<04:37,  1.34s/it]"
     ]
    },
    {
     "name": "stdout",
     "output_type": "stream",
     "text": [
      "Epoch:  92\n",
      "t_loss:  0.39521489657607733 , v_loss:  0.5101368874311447\n",
      "t_acc:  0.7155306567071273 , v_acc:  0.7950310559006211\n",
      "t_recall:  0.54278351930388 , v_recall:  0.680990990990991\n",
      "t_prec:  0.7266618353506905 , v_prec:  0.8416666666666667\n",
      "t_f:  0.5030295297070586 , v_f:  0.7018685820099881\n",
      "////////\n"
     ]
    },
    {
     "name": "stderr",
     "output_type": "stream",
     "text": [
      "\r",
      "Iterations:  31%|██████████▋                       | 94/300 [01:51<04:25,  1.29s/it]"
     ]
    },
    {
     "name": "stdout",
     "output_type": "stream",
     "text": [
      "Epoch  93 , loss 0.39252811611867416\n",
      "Epoch  94 , loss 0.39322391853613015\n"
     ]
    },
    {
     "name": "stderr",
     "output_type": "stream",
     "text": [
      "\r",
      "Iterations:  32%|██████████▊                       | 95/300 [01:53<04:37,  1.35s/it]"
     ]
    },
    {
     "name": "stdout",
     "output_type": "stream",
     "text": [
      "Epoch:  94\n",
      "t_loss:  0.39322391853613015 , v_loss:  0.5083869993686676\n",
      "t_acc:  0.7121070650482415 , v_acc:  0.7950310559006211\n",
      "t_recall:  0.5354345946391074 , v_recall:  0.680990990990991\n",
      "t_prec:  0.7249464164357782 , v_prec:  0.8416666666666667\n",
      "t_f:  0.4886392671154284 , v_f:  0.7018685820099881\n",
      "////////\n"
     ]
    },
    {
     "name": "stderr",
     "output_type": "stream",
     "text": [
      "\r",
      "Iterations:  32%|██████████▉                       | 96/300 [01:54<04:12,  1.24s/it]"
     ]
    },
    {
     "name": "stdout",
     "output_type": "stream",
     "text": [
      "Epoch  95 , loss 0.3932512046075335\n",
      "Epoch  96 , loss 0.39024318667019114\n"
     ]
    },
    {
     "name": "stderr",
     "output_type": "stream",
     "text": [
      "\r",
      "Iterations:  32%|██████████▉                       | 97/300 [01:55<04:22,  1.29s/it]"
     ]
    },
    {
     "name": "stdout",
     "output_type": "stream",
     "text": [
      "Epoch:  96\n",
      "t_loss:  0.39024318667019114 , v_loss:  0.5058042456706365\n",
      "t_acc:  0.7170868347338936 , v_acc:  0.7950310559006211\n",
      "t_recall:  0.5427519523476209 , v_recall:  0.680990990990991\n",
      "t_prec:  0.7497741438850459 , v_prec:  0.8416666666666667\n",
      "t_f:  0.5011221526199304 , v_f:  0.7018685820099881\n",
      "////////\n"
     ]
    },
    {
     "name": "stderr",
     "output_type": "stream",
     "text": [
      "\r",
      "Iterations:  33%|███████████                       | 98/300 [01:56<04:02,  1.20s/it]"
     ]
    },
    {
     "name": "stdout",
     "output_type": "stream",
     "text": [
      "Epoch  97 , loss 0.3908313945227978\n",
      "Epoch  98 , loss 0.39627646231183816\n"
     ]
    },
    {
     "name": "stderr",
     "output_type": "stream",
     "text": [
      "\r",
      "Iterations:  33%|███████████▏                      | 99/300 [01:57<04:12,  1.26s/it]"
     ]
    },
    {
     "name": "stdout",
     "output_type": "stream",
     "text": [
      "Epoch:  98\n",
      "t_loss:  0.39627646231183816 , v_loss:  0.5063623736302058\n",
      "t_acc:  0.721444133208839 , v_acc:  0.8074534161490683\n",
      "t_recall:  0.5513470855464515 , v_recall:  0.7009909909909909\n",
      "t_prec:  0.7522951040776873 , v_prec:  0.8514492753623188\n",
      "t_f:  0.5171276058226757 , v_f:  0.7254222368927765\n",
      "////////\n"
     ]
    },
    {
     "name": "stderr",
     "output_type": "stream",
     "text": [
      "\r",
      "Iterations:  33%|███████████                      | 100/300 [01:58<03:57,  1.19s/it]"
     ]
    },
    {
     "name": "stdout",
     "output_type": "stream",
     "text": [
      "Epoch  99 , loss 0.38712550787364736\n",
      "Epoch  100 , loss 0.3880134902748407\n"
     ]
    },
    {
     "name": "stderr",
     "output_type": "stream",
     "text": [
      "\r",
      "Iterations:  34%|███████████                      | 101/300 [02:00<04:06,  1.24s/it]"
     ]
    },
    {
     "name": "stdout",
     "output_type": "stream",
     "text": [
      "Epoch:  100\n",
      "t_loss:  0.3880134902748407 , v_loss:  0.5025716125965118\n",
      "t_acc:  0.7192654839713664 , v_acc:  0.8012422360248447\n",
      "t_recall:  0.5471932858456513 , v_recall:  0.690990990990991\n",
      "t_prec:  0.7500242373711178 , v_prec:  0.8466317854807064\n",
      "t_f:  0.5095543061222831 , v_f:  0.7137777777777778\n",
      "////////\n"
     ]
    },
    {
     "name": "stderr",
     "output_type": "stream",
     "text": [
      "\r",
      "Iterations:  34%|███████████▏                     | 102/300 [02:01<03:54,  1.18s/it]"
     ]
    },
    {
     "name": "stdout",
     "output_type": "stream",
     "text": [
      "Epoch  101 , loss 0.3966980699230643\n",
      "Epoch  102 , loss 0.39060134864320945\n"
     ]
    },
    {
     "name": "stderr",
     "output_type": "stream",
     "text": [
      "\r",
      "Iterations:  34%|███████████▎                     | 103/300 [02:02<04:04,  1.24s/it]"
     ]
    },
    {
     "name": "stdout",
     "output_type": "stream",
     "text": [
      "Epoch:  102\n",
      "t_loss:  0.39060134864320945 , v_loss:  0.4978562941153844\n",
      "t_acc:  0.7208216619981326 , v_acc:  0.8012422360248447\n",
      "t_recall:  0.552049793442308 , v_recall:  0.690990990990991\n",
      "t_prec:  0.7400303803877719 , v_prec:  0.8466317854807064\n",
      "t_f:  0.5194137238328229 , v_f:  0.7137777777777778\n",
      "////////\n"
     ]
    },
    {
     "name": "stderr",
     "output_type": "stream",
     "text": [
      "\r",
      "Iterations:  35%|███████████▍                     | 104/300 [02:03<03:52,  1.19s/it]"
     ]
    },
    {
     "name": "stdout",
     "output_type": "stream",
     "text": [
      "Epoch  103 , loss 0.3898232894785264\n",
      "Epoch  104 , loss 0.39277979439380123\n"
     ]
    },
    {
     "name": "stderr",
     "output_type": "stream",
     "text": [
      "\r",
      "Iterations:  35%|███████████▌                     | 105/300 [02:05<04:05,  1.26s/it]"
     ]
    },
    {
     "name": "stdout",
     "output_type": "stream",
     "text": [
      "Epoch:  104\n",
      "t_loss:  0.39277979439380123 , v_loss:  0.49580705165863037\n",
      "t_acc:  0.7149081854964208 , v_acc:  0.7888198757763976\n",
      "t_recall:  0.5434862271997365 , v_recall:  0.6764864864864866\n",
      "t_prec:  0.7150843108504399 , v_prec:  0.8203073904512754\n",
      "t_f:  0.5054504319210202 , v_f:  0.695888888888889\n",
      "////////\n"
     ]
    },
    {
     "name": "stderr",
     "output_type": "stream",
     "text": [
      "\r",
      "Iterations:  35%|███████████▋                     | 106/300 [02:06<03:45,  1.16s/it]"
     ]
    },
    {
     "name": "stdout",
     "output_type": "stream",
     "text": [
      "Epoch  105 , loss 0.3891171152685203\n",
      "Epoch  106 , loss 0.38115528810258004\n"
     ]
    },
    {
     "name": "stderr",
     "output_type": "stream",
     "text": [
      "\r",
      "Iterations:  36%|███████████▊                     | 107/300 [02:07<04:06,  1.28s/it]"
     ]
    },
    {
     "name": "stdout",
     "output_type": "stream",
     "text": [
      "Epoch:  106\n",
      "t_loss:  0.38115528810258004 , v_loss:  0.49689624706904095\n",
      "t_acc:  0.7273576097105509 , v_acc:  0.7950310559006211\n",
      "t_recall:  0.5593355841945623 , v_recall:  0.680990990990991\n",
      "t_prec:  0.7787562973916333 , v_prec:  0.8416666666666667\n",
      "t_f:  0.5296854530385263 , v_f:  0.7018685820099881\n",
      "////////\n"
     ]
    },
    {
     "name": "stderr",
     "output_type": "stream",
     "text": [
      "\r",
      "Iterations:  36%|███████████▉                     | 108/300 [02:08<03:42,  1.16s/it]"
     ]
    },
    {
     "name": "stdout",
     "output_type": "stream",
     "text": [
      "Epoch  107 , loss 0.3817870038397172\n",
      "Epoch  108 , loss 0.3785477628310521\n"
     ]
    },
    {
     "name": "stderr",
     "output_type": "stream",
     "text": [
      "\r",
      "Iterations:  36%|███████████▉                     | 109/300 [02:10<04:07,  1.30s/it]"
     ]
    },
    {
     "name": "stdout",
     "output_type": "stream",
     "text": [
      "Epoch:  108\n",
      "t_loss:  0.3785477628310521 , v_loss:  0.49723468720912933\n",
      "t_acc:  0.7261126672891379 , v_acc:  0.7888198757763976\n",
      "t_recall:  0.5581531958112022 , v_recall:  0.6764864864864866\n",
      "t_prec:  0.7698297126214746 , v_prec:  0.8203073904512754\n",
      "t_f:  0.5281944624289648 , v_f:  0.695888888888889\n",
      "////////\n"
     ]
    },
    {
     "name": "stderr",
     "output_type": "stream",
     "text": [
      "\r",
      "Iterations:  37%|████████████                     | 110/300 [02:11<03:43,  1.18s/it]"
     ]
    },
    {
     "name": "stdout",
     "output_type": "stream",
     "text": [
      "Epoch  109 , loss 0.37836210517322316\n",
      "Epoch  110 , loss 0.38127479483099547\n"
     ]
    },
    {
     "name": "stderr",
     "output_type": "stream",
     "text": [
      "\r",
      "Iterations:  37%|████████████▏                    | 111/300 [02:12<04:03,  1.29s/it]"
     ]
    },
    {
     "name": "stdout",
     "output_type": "stream",
     "text": [
      "Epoch:  110\n",
      "t_loss:  0.38127479483099547 , v_loss:  0.4976906230052312\n",
      "t_acc:  0.7301587301587301 , v_acc:  0.782608695652174\n",
      "t_recall:  0.565374480174579 , v_recall:  0.6664864864864866\n",
      "t_prec:  0.7747067372573446 , v_prec:  0.8142857142857143\n",
      "t_f:  0.5405664564336786 , v_f:  0.6838000112227147\n",
      "////////\n"
     ]
    },
    {
     "name": "stderr",
     "output_type": "stream",
     "text": [
      "\r",
      "Iterations:  37%|████████████▎                    | 112/300 [02:13<03:40,  1.17s/it]"
     ]
    },
    {
     "name": "stdout",
     "output_type": "stream",
     "text": [
      "Epoch  111 , loss 0.38111838230899736\n",
      "Epoch  112 , loss 0.3803938767489265\n"
     ]
    },
    {
     "name": "stderr",
     "output_type": "stream",
     "text": [
      "\r",
      "Iterations:  38%|████████████▍                    | 113/300 [02:14<03:55,  1.26s/it]"
     ]
    },
    {
     "name": "stdout",
     "output_type": "stream",
     "text": [
      "Epoch:  112\n",
      "t_loss:  0.3803938767489265 , v_loss:  0.4912714809179306\n",
      "t_acc:  0.7323373793962029 , v_acc:  0.7888198757763976\n",
      "t_recall:  0.5695282798753791 , v_recall:  0.670990990990991\n",
      "t_prec:  0.7754993274623759 , v_prec:  0.8365248226950355\n",
      "t_f:  0.5476544390167241 , v_f:  0.6896825396825397\n",
      "////////\n"
     ]
    },
    {
     "name": "stderr",
     "output_type": "stream",
     "text": [
      "\r",
      "Iterations:  38%|████████████▌                    | 114/300 [02:15<03:33,  1.15s/it]"
     ]
    },
    {
     "name": "stdout",
     "output_type": "stream",
     "text": [
      "Epoch  113 , loss 0.3736875352321887\n",
      "Epoch  114 , loss 0.3766758383489123\n"
     ]
    },
    {
     "name": "stderr",
     "output_type": "stream",
     "text": [
      "\r",
      "Iterations:  38%|████████████▋                    | 115/300 [02:17<03:48,  1.24s/it]"
     ]
    },
    {
     "name": "stdout",
     "output_type": "stream",
     "text": [
      "Epoch:  114\n",
      "t_loss:  0.3766758383489123 , v_loss:  0.49042142430941266\n",
      "t_acc:  0.7382508558979147 , v_acc:  0.7763975155279503\n",
      "t_recall:  0.5778043123207203 , v_recall:  0.661981981981982\n",
      "t_prec:  0.7946403512115343 , v_prec:  0.7939829954218444\n",
      "t_f:  0.560302260231297 , v_f:  0.6779999999999999\n",
      "////////\n"
     ]
    },
    {
     "name": "stderr",
     "output_type": "stream",
     "text": [
      "\r",
      "Iterations:  39%|████████████▊                    | 116/300 [02:18<03:35,  1.17s/it]"
     ]
    },
    {
     "name": "stdout",
     "output_type": "stream",
     "text": [
      "Epoch  115 , loss 0.38107744969573676\n",
      "Epoch  116 , loss 0.3699293165814643\n"
     ]
    },
    {
     "name": "stderr",
     "output_type": "stream",
     "text": [
      "\r",
      "Iterations:  39%|████████████▊                    | 117/300 [02:19<03:56,  1.29s/it]"
     ]
    },
    {
     "name": "stdout",
     "output_type": "stream",
     "text": [
      "Epoch:  116\n",
      "t_loss:  0.3699293165814643 , v_loss:  0.4899924198786418\n",
      "t_acc:  0.7366946778711485 , v_acc:  0.7763975155279503\n",
      "t_recall:  0.5781234130742098 , v_recall:  0.661981981981982\n",
      "t_prec:  0.7756747201513621 , v_prec:  0.7939829954218444\n",
      "t_f:  0.5620420950328427 , v_f:  0.6779999999999999\n",
      "////////\n"
     ]
    },
    {
     "name": "stderr",
     "output_type": "stream",
     "text": [
      "\r",
      "Iterations:  39%|████████████▉                    | 118/300 [02:20<03:43,  1.23s/it]"
     ]
    },
    {
     "name": "stdout",
     "output_type": "stream",
     "text": [
      "Epoch  117 , loss 0.38111281745574055\n",
      "Epoch  118 , loss 0.37727828411494985\n"
     ]
    },
    {
     "name": "stderr",
     "output_type": "stream",
     "text": [
      "\r",
      "Iterations:  40%|█████████████                    | 119/300 [02:22<03:59,  1.32s/it]"
     ]
    },
    {
     "name": "stdout",
     "output_type": "stream",
     "text": [
      "Epoch:  118\n",
      "t_loss:  0.37727828411494985 , v_loss:  0.4869561642408371\n",
      "t_acc:  0.7326486150015562 , v_acc:  0.7701863354037267\n",
      "t_recall:  0.5723397976969846 , v_recall:  0.662972972972973\n",
      "t_prec:  0.7636315285785263 , v_prec:  0.766029411764706\n",
      "t_f:  0.5532641003108898 , v_f:  0.6784345479082321\n",
      "////////\n"
     ]
    },
    {
     "name": "stderr",
     "output_type": "stream",
     "text": [
      "\r",
      "Iterations:  40%|█████████████▏                   | 120/300 [02:23<03:43,  1.24s/it]"
     ]
    },
    {
     "name": "stdout",
     "output_type": "stream",
     "text": [
      "Epoch  119 , loss 0.37119633368417326\n",
      "Epoch  120 , loss 0.3690946242388557\n"
     ]
    },
    {
     "name": "stderr",
     "output_type": "stream",
     "text": [
      "\r",
      "Iterations:  40%|█████████████▎                   | 121/300 [02:25<03:59,  1.34s/it]"
     ]
    },
    {
     "name": "stdout",
     "output_type": "stream",
     "text": [
      "Epoch:  120\n",
      "t_loss:  0.3690946242388557 , v_loss:  0.48889480034510296\n",
      "t_acc:  0.7413632119514473 , v_acc:  0.7763975155279503\n",
      "t_recall:  0.5872297937168032 , v_recall:  0.6674774774774774\n",
      "t_prec:  0.7767971465154564 , v_prec:  0.7826946472019465\n",
      "t_f:  0.5766840701638231 , v_f:  0.6841761115954664\n",
      "////////\n"
     ]
    },
    {
     "name": "stderr",
     "output_type": "stream",
     "text": [
      "\r",
      "Iterations:  41%|█████████████▍                   | 122/300 [02:26<03:42,  1.25s/it]"
     ]
    },
    {
     "name": "stdout",
     "output_type": "stream",
     "text": [
      "Epoch  121 , loss 0.3681834638118744\n",
      "Epoch  122 , loss 0.36056246243271173\n"
     ]
    },
    {
     "name": "stderr",
     "output_type": "stream",
     "text": [
      "\r",
      "Iterations:  41%|█████████████▌                   | 123/300 [02:27<03:57,  1.34s/it]"
     ]
    },
    {
     "name": "stdout",
     "output_type": "stream",
     "text": [
      "Epoch:  122\n",
      "t_loss:  0.36056246243271173 , v_loss:  0.4920886705319087\n",
      "t_acc:  0.7407407407407407 , v_acc:  0.7639751552795031\n",
      "t_recall:  0.5850571636403563 , v_recall:  0.652972972972973\n",
      "t_prec:  0.7811728712464006 , v_prec:  0.7582116788321167\n",
      "t_f:  0.5729447711113128 , v_f:  0.6666303400174368\n",
      "////////\n"
     ]
    },
    {
     "name": "stderr",
     "output_type": "stream",
     "text": [
      "\r",
      "Iterations:  41%|█████████████▋                   | 124/300 [02:28<03:45,  1.28s/it]"
     ]
    },
    {
     "name": "stdout",
     "output_type": "stream",
     "text": [
      "Epoch  123 , loss 0.35883132821204616\n",
      "Epoch  124 , loss 0.3640451083580653\n"
     ]
    },
    {
     "name": "stderr",
     "output_type": "stream",
     "text": [
      "\r",
      "Iterations:  42%|█████████████▊                   | 125/300 [02:30<04:04,  1.40s/it]"
     ]
    },
    {
     "name": "stdout",
     "output_type": "stream",
     "text": [
      "Epoch:  124\n",
      "t_loss:  0.3640451083580653 , v_loss:  0.4943571388721466\n",
      "t_acc:  0.7394957983193278 , v_acc:  0.7639751552795031\n",
      "t_recall:  0.5841623090542265 , v_recall:  0.652972972972973\n",
      "t_prec:  0.7736345381526104 , v_prec:  0.7582116788321167\n",
      "t_f:  0.5719933365896002 , v_f:  0.6666303400174368\n",
      "////////\n"
     ]
    },
    {
     "name": "stderr",
     "output_type": "stream",
     "text": [
      "\r",
      "Iterations:  42%|█████████████▊                   | 126/300 [02:31<03:46,  1.30s/it]"
     ]
    },
    {
     "name": "stdout",
     "output_type": "stream",
     "text": [
      "Epoch  125 , loss 0.3638218314039941\n",
      "Epoch  126 , loss 0.3625666411483989\n"
     ]
    },
    {
     "name": "stderr",
     "output_type": "stream",
     "text": [
      "\r",
      "Iterations:  42%|█████████████▉                   | 127/300 [02:33<03:52,  1.35s/it]"
     ]
    },
    {
     "name": "stdout",
     "output_type": "stream",
     "text": [
      "Epoch:  126\n",
      "t_loss:  0.3625666411483989 , v_loss:  0.500934878985087\n",
      "t_acc:  0.744786803610333 , v_acc:  0.7639751552795031\n",
      "t_recall:  0.5902657114231208 , v_recall:  0.652972972972973\n",
      "t_prec:  0.7946899046503848 , v_prec:  0.7582116788321167\n",
      "t_f:  0.5804179099153275 , v_f:  0.6666303400174368\n",
      "////////\n"
     ]
    },
    {
     "name": "stderr",
     "output_type": "stream",
     "text": [
      "\r",
      "Iterations:  43%|██████████████                   | 128/300 [02:33<03:30,  1.22s/it]"
     ]
    },
    {
     "name": "stdout",
     "output_type": "stream",
     "text": [
      "Epoch  127 , loss 0.36471854851526375\n",
      "Epoch  128 , loss 0.3569406452132206\n"
     ]
    },
    {
     "name": "stderr",
     "output_type": "stream",
     "text": [
      "\r",
      "Iterations:  43%|██████████████▏                  | 129/300 [02:35<03:38,  1.28s/it]"
     ]
    },
    {
     "name": "stdout",
     "output_type": "stream",
     "text": [
      "Epoch:  128\n",
      "t_loss:  0.3569406452132206 , v_loss:  0.4986231525739034\n",
      "t_acc:  0.7500778089013383 , v_acc:  0.7701863354037267\n",
      "t_recall:  0.5995319855615487 , v_recall:  0.662972972972973\n",
      "t_prec:  0.7991913746630728 , v_prec:  0.766029411764706\n",
      "t_f:  0.5945418934827366 , v_f:  0.6784345479082321\n",
      "////////\n"
     ]
    },
    {
     "name": "stderr",
     "output_type": "stream",
     "text": [
      "\r",
      "Iterations:  43%|██████████████▎                  | 130/300 [02:36<03:23,  1.19s/it]"
     ]
    },
    {
     "name": "stdout",
     "output_type": "stream",
     "text": [
      "Epoch  129 , loss 0.35737093348129123\n",
      "Epoch  130 , loss 0.35568196019705606\n"
     ]
    },
    {
     "name": "stderr",
     "output_type": "stream",
     "text": [
      "\r",
      "Iterations:  44%|██████████████▍                  | 131/300 [02:37<03:30,  1.25s/it]"
     ]
    },
    {
     "name": "stdout",
     "output_type": "stream",
     "text": [
      "Epoch:  130\n",
      "t_loss:  0.35568196019705606 , v_loss:  0.5036059468984604\n",
      "t_acc:  0.7507002801120448 , v_acc:  0.7701863354037267\n",
      "t_recall:  0.601129548043535 , v_recall:  0.662972972972973\n",
      "t_prec:  0.7973279064700012 , v_prec:  0.766029411764706\n",
      "t_f:  0.5970616145353934 , v_f:  0.6784345479082321\n",
      "////////\n"
     ]
    },
    {
     "name": "stderr",
     "output_type": "stream",
     "text": [
      "\r",
      "Iterations:  44%|██████████████▌                  | 132/300 [02:38<03:21,  1.20s/it]"
     ]
    },
    {
     "name": "stdout",
     "output_type": "stream",
     "text": [
      "Epoch  131 , loss 0.35343241370191764\n",
      "Epoch  132 , loss 0.3508375731169009\n"
     ]
    },
    {
     "name": "stderr",
     "output_type": "stream",
     "text": [
      "\r",
      "Iterations:  44%|██████████████▋                  | 133/300 [02:40<03:29,  1.26s/it]"
     ]
    },
    {
     "name": "stdout",
     "output_type": "stream",
     "text": [
      "Epoch:  132\n",
      "t_loss:  0.3508375731169009 , v_loss:  0.507797489563624\n",
      "t_acc:  0.7491441020852786 , v_acc:  0.7639751552795031\n",
      "t_recall:  0.6005860474053334 , v_recall:  0.6584684684684685\n",
      "t_prec:  0.7863632811482456 , v_prec:  0.7505698005698005\n",
      "t_f:  0.5967956997819001 , v_f:  0.6727642276422765\n",
      "////////\n"
     ]
    },
    {
     "name": "stderr",
     "output_type": "stream",
     "text": [
      "\r",
      "Iterations:  45%|██████████████▋                  | 134/300 [02:41<03:20,  1.20s/it]"
     ]
    },
    {
     "name": "stdout",
     "output_type": "stream",
     "text": [
      "Epoch  133 , loss 0.3501579574510163\n",
      "Epoch  134 , loss 0.3456718664543301\n"
     ]
    },
    {
     "name": "stderr",
     "output_type": "stream",
     "text": [
      "\r",
      "Iterations:  45%|██████████████▊                  | 135/300 [02:42<03:33,  1.29s/it]"
     ]
    },
    {
     "name": "stdout",
     "output_type": "stream",
     "text": [
      "Epoch:  134\n",
      "t_loss:  0.3456718664543301 , v_loss:  0.5106516430775324\n",
      "t_acc:  0.7587924058512294 , v_acc:  0.7639751552795031\n",
      "t_recall:  0.619310056134283 , v_recall:  0.6584684684684685\n",
      "t_prec:  0.7889586071032063 , v_prec:  0.7505698005698005\n",
      "t_f:  0.62394623166963 , v_f:  0.6727642276422765\n",
      "////////\n"
     ]
    },
    {
     "name": "stderr",
     "output_type": "stream",
     "text": [
      "\r",
      "Iterations:  45%|██████████████▉                  | 136/300 [02:43<03:15,  1.19s/it]"
     ]
    },
    {
     "name": "stdout",
     "output_type": "stream",
     "text": [
      "Epoch  135 , loss 0.3494189200448055\n",
      "Epoch  136 , loss 0.34003478873009774\n"
     ]
    },
    {
     "name": "stderr",
     "output_type": "stream",
     "text": [
      "\r",
      "Iterations:  46%|███████████████                  | 137/300 [02:45<03:33,  1.31s/it]"
     ]
    },
    {
     "name": "stdout",
     "output_type": "stream",
     "text": [
      "Epoch:  136\n",
      "t_loss:  0.34003478873009774 , v_loss:  0.5178405344486237\n",
      "t_acc:  0.7662620603797075 , v_acc:  0.7701863354037267\n",
      "t_recall:  0.6272669878261347 , v_recall:  0.6684684684684685\n",
      "t_prec:  0.8136446659300516 , v_prec:  0.7584300718629077\n",
      "t_f:  0.6343147175503894 , v_f:  0.6842300556586272\n",
      "////////\n"
     ]
    },
    {
     "name": "stderr",
     "output_type": "stream",
     "text": [
      "\r",
      "Iterations:  46%|███████████████▏                 | 138/300 [02:46<03:11,  1.18s/it]"
     ]
    },
    {
     "name": "stdout",
     "output_type": "stream",
     "text": [
      "Epoch  137 , loss 0.33960579072727876\n",
      "Epoch  138 , loss 0.3443781067343319\n"
     ]
    },
    {
     "name": "stderr",
     "output_type": "stream",
     "text": [
      "\r",
      "Iterations:  46%|███████████████▎                 | 139/300 [02:47<03:31,  1.31s/it]"
     ]
    },
    {
     "name": "stdout",
     "output_type": "stream",
     "text": [
      "Epoch:  138\n",
      "t_loss:  0.3443781067343319 , v_loss:  0.524956559141477\n",
      "t_acc:  0.7653283535636477 , v_acc:  0.7763975155279503\n",
      "t_recall:  0.6265958468865374 , v_recall:  0.6784684684684684\n",
      "t_prec:  0.8092708496322953 , v_prec:  0.7659774436090225\n",
      "t_f:  0.6334966202927668 , v_f:  0.6954602774274905\n",
      "////////\n"
     ]
    },
    {
     "name": "stderr",
     "output_type": "stream",
     "text": [
      "\r",
      "Iterations:  47%|███████████████▍                 | 140/300 [02:48<03:09,  1.19s/it]"
     ]
    },
    {
     "name": "stdout",
     "output_type": "stream",
     "text": [
      "Epoch  139 , loss 0.3464517637210734\n",
      "Epoch  140 , loss 0.3357532334093954\n"
     ]
    },
    {
     "name": "stderr",
     "output_type": "stream",
     "text": [
      "\r",
      "Iterations:  47%|███████████████▌                 | 141/300 [02:50<03:24,  1.29s/it]"
     ]
    },
    {
     "name": "stdout",
     "output_type": "stream",
     "text": [
      "Epoch:  140\n",
      "t_loss:  0.3357532334093954 , v_loss:  0.5276788075764974\n",
      "t_acc:  0.7684407096171803 , v_acc:  0.782608695652174\n",
      "t_recall:  0.6305581861352438 , v_recall:  0.6884684684684684\n",
      "t_prec:  0.8171113308812907 , v_prec:  0.7732497387669801\n",
      "t_f:  0.6387784114949143 , v_f:  0.706464551752878\n",
      "////////\n"
     ]
    },
    {
     "name": "stderr",
     "output_type": "stream",
     "text": [
      "\r",
      "Iterations:  47%|███████████████▌                 | 142/300 [02:51<03:04,  1.17s/it]"
     ]
    },
    {
     "name": "stdout",
     "output_type": "stream",
     "text": [
      "Epoch  141 , loss 0.3414858702351065\n",
      "Epoch  142 , loss 0.33215352191644554\n"
     ]
    },
    {
     "name": "stderr",
     "output_type": "stream",
     "text": [
      "\r",
      "Iterations:  48%|███████████████▋                 | 143/300 [02:52<03:14,  1.24s/it]"
     ]
    },
    {
     "name": "stdout",
     "output_type": "stream",
     "text": [
      "Epoch:  142\n",
      "t_loss:  0.33215352191644554 , v_loss:  0.5303409745295843\n",
      "t_acc:  0.7734204793028322 , v_acc:  0.7763975155279503\n",
      "t_recall:  0.6442012873828249 , v_recall:  0.683963963963964\n",
      "t_prec:  0.8039426789426789 , v_prec:  0.759796437659033\n",
      "t_f:  0.657165872653871 , v_f:  0.7006198347107437\n",
      "////////\n"
     ]
    },
    {
     "name": "stderr",
     "output_type": "stream",
     "text": [
      "\r",
      "Iterations:  48%|███████████████▊                 | 144/300 [02:53<02:57,  1.14s/it]"
     ]
    },
    {
     "name": "stdout",
     "output_type": "stream",
     "text": [
      "Epoch  143 , loss 0.33534585465403166\n",
      "Epoch  144 , loss 0.33409781257311505\n"
     ]
    },
    {
     "name": "stderr",
     "output_type": "stream",
     "text": [
      "\r",
      "Iterations:  48%|███████████████▉                 | 145/300 [02:54<03:10,  1.23s/it]"
     ]
    },
    {
     "name": "stdout",
     "output_type": "stream",
     "text": [
      "Epoch:  144\n",
      "t_loss:  0.33409781257311505 , v_loss:  0.5328039129575094\n",
      "t_acc:  0.76937441643324 , v_acc:  0.7763975155279503\n",
      "t_recall:  0.6372675368166784 , v_recall:  0.6894594594594595\n",
      "t_prec:  0.8001827848121528 , v_prec:  0.7547238372093024\n",
      "t_f:  0.6481374881343372 , v_f:  0.7054878048780489\n",
      "////////\n"
     ]
    },
    {
     "name": "stderr",
     "output_type": "stream",
     "text": [
      "\r",
      "Iterations:  49%|████████████████                 | 146/300 [02:55<02:55,  1.14s/it]"
     ]
    },
    {
     "name": "stdout",
     "output_type": "stream",
     "text": [
      "Epoch  145 , loss 0.32701528335318847\n",
      "Epoch  146 , loss 0.33413081192502786\n"
     ]
    },
    {
     "name": "stderr",
     "output_type": "stream",
     "text": [
      "\r",
      "Iterations:  49%|████████████████▏                | 147/300 [02:57<03:13,  1.26s/it]"
     ]
    },
    {
     "name": "stdout",
     "output_type": "stream",
     "text": [
      "Epoch:  146\n",
      "t_loss:  0.33413081192502786 , v_loss:  0.5357660303513209\n",
      "t_acc:  0.7762215997510116 , v_acc:  0.7639751552795031\n",
      "t_recall:  0.6447770412154651 , v_recall:  0.6749549549549549\n",
      "t_prec:  0.8198289976350737 , v_prec:  0.7352228682170543\n",
      "t_f:  0.6578203297780018 , v_f:  0.6891260162601626\n",
      "////////\n"
     ]
    },
    {
     "name": "stderr",
     "output_type": "stream",
     "text": [
      "\r",
      "Iterations:  49%|████████████████▎                | 148/300 [02:58<03:01,  1.19s/it]"
     ]
    },
    {
     "name": "stdout",
     "output_type": "stream",
     "text": [
      "Epoch  147 , loss 0.33362697269402297\n",
      "Epoch  148 , loss 0.33105021919689925\n"
     ]
    },
    {
     "name": "stderr",
     "output_type": "stream",
     "text": [
      "\r",
      "Iterations:  50%|████████████████▍                | 149/300 [03:00<03:21,  1.33s/it]"
     ]
    },
    {
     "name": "stdout",
     "output_type": "stream",
     "text": [
      "Epoch:  148\n",
      "t_loss:  0.33105021919689925 , v_loss:  0.5447845508654913\n",
      "t_acc:  0.774354186118892 , v_acc:  0.7701863354037267\n",
      "t_recall:  0.6437222931335007 , v_recall:  0.6794594594594595\n",
      "t_prec:  0.8111714772479646 , v_prec:  0.7471464019851117\n",
      "t_f:  0.6565002001785756 , v_f:  0.6948414527944264\n",
      "////////\n"
     ]
    },
    {
     "name": "stderr",
     "output_type": "stream",
     "text": [
      "\r",
      "Iterations:  50%|████████████████▌                | 150/300 [03:01<03:10,  1.27s/it]"
     ]
    },
    {
     "name": "stdout",
     "output_type": "stream",
     "text": [
      "Epoch  149 , loss 0.3173569098991506\n",
      "Epoch  150 , loss 0.3186088163478702\n"
     ]
    },
    {
     "name": "stderr",
     "output_type": "stream",
     "text": [
      "\r",
      "Iterations:  50%|████████████████▌                | 151/300 [03:02<03:28,  1.40s/it]"
     ]
    },
    {
     "name": "stdout",
     "output_type": "stream",
     "text": [
      "Epoch:  150\n",
      "t_loss:  0.3186088163478702 , v_loss:  0.5463705360889435\n",
      "t_acc:  0.7777777777777778 , v_acc:  0.7701863354037267\n",
      "t_recall:  0.6496335488121217 , v_recall:  0.684954954954955\n",
      "t_prec:  0.8138895126880754 , v_prec:  0.7430160984848485\n",
      "t_f:  0.6641270661157025 , v_f:  0.699702575994354\n",
      "////////\n"
     ]
    },
    {
     "name": "stderr",
     "output_type": "stream",
     "text": [
      "\r",
      "Iterations:  51%|████████████████▋                | 152/300 [03:03<03:10,  1.29s/it]"
     ]
    },
    {
     "name": "stdout",
     "output_type": "stream",
     "text": [
      "Epoch  151 , loss 0.32335491975148517\n",
      "Epoch  152 , loss 0.32413333479095907\n"
     ]
    },
    {
     "name": "stderr",
     "output_type": "stream",
     "text": [
      "\r",
      "Iterations:  51%|████████████████▊                | 153/300 [03:05<03:20,  1.37s/it]"
     ]
    },
    {
     "name": "stdout",
     "output_type": "stream",
     "text": [
      "Epoch:  152\n",
      "t_loss:  0.32413333479095907 , v_loss:  0.5598060091336569\n",
      "t_acc:  0.7818238406473701 , v_acc:  0.7577639751552795\n",
      "t_recall:  0.6559922317838075 , v_recall:  0.6814414414414414\n",
      "t_prec:  0.8189126726102067 , v_prec:  0.719485614646905\n",
      "t_f:  0.6722098962263533 , v_f:  0.6928833455612619\n",
      "////////\n"
     ]
    },
    {
     "name": "stderr",
     "output_type": "stream",
     "text": [
      "\r",
      "Iterations:  51%|████████████████▉                | 154/300 [03:06<03:02,  1.25s/it]"
     ]
    },
    {
     "name": "stdout",
     "output_type": "stream",
     "text": [
      "Epoch  153 , loss 0.3151428708258797\n",
      "Epoch  154 , loss 0.31256964013857\n"
     ]
    },
    {
     "name": "stderr",
     "output_type": "stream",
     "text": [
      "\r",
      "Iterations:  52%|█████████████████                | 155/300 [03:07<03:06,  1.29s/it]"
     ]
    },
    {
     "name": "stdout",
     "output_type": "stream",
     "text": [
      "Epoch:  154\n",
      "t_loss:  0.31256964013857 , v_loss:  0.569111168384552\n",
      "t_acc:  0.7883597883597884 , v_acc:  0.7453416149068323\n",
      "t_recall:  0.6673034956972866 , v_recall:  0.6669369369369369\n",
      "t_prec:  0.823619363162841 , v_prec:  0.7019398430688752\n",
      "t_f:  0.6862430853538748 , v_f:  0.6771337735387625\n",
      "////////\n"
     ]
    },
    {
     "name": "stderr",
     "output_type": "stream",
     "text": [
      "\r",
      "Iterations:  52%|█████████████████▏               | 156/300 [03:08<02:55,  1.22s/it]"
     ]
    },
    {
     "name": "stdout",
     "output_type": "stream",
     "text": [
      "Epoch  155 , loss 0.3076232286060558\n",
      "Epoch  156 , loss 0.31115207192944544\n"
     ]
    },
    {
     "name": "stderr",
     "output_type": "stream",
     "text": [
      "\r",
      "Iterations:  52%|█████████████████▎               | 157/300 [03:10<03:01,  1.27s/it]"
     ]
    },
    {
     "name": "stdout",
     "output_type": "stream",
     "text": [
      "Epoch:  156\n",
      "t_loss:  0.31115207192944544 , v_loss:  0.5859511295954386\n",
      "t_acc:  0.7896047307812014 , v_acc:  0.7391304347826086\n",
      "t_recall:  0.6710736882557198 , v_recall:  0.6624324324324324\n",
      "t_prec:  0.8200674478520256 , v_prec:  0.6928754813863929\n",
      "t_f:  0.6906828370749714 , v_f:  0.6716200466200466\n",
      "////////\n"
     ]
    },
    {
     "name": "stderr",
     "output_type": "stream",
     "text": [
      "\r",
      "Iterations:  53%|█████████████████▍               | 158/300 [03:11<02:50,  1.20s/it]"
     ]
    },
    {
     "name": "stdout",
     "output_type": "stream",
     "text": [
      "Epoch  157 , loss 0.31989821820866826\n",
      "Epoch  158 , loss 0.31786080143030954\n"
     ]
    },
    {
     "name": "stderr",
     "output_type": "stream",
     "text": [
      "\r",
      "Iterations:  53%|█████████████████▍               | 159/300 [03:12<02:55,  1.25s/it]"
     ]
    },
    {
     "name": "stdout",
     "output_type": "stream",
     "text": [
      "Epoch:  158\n",
      "t_loss:  0.31786080143030954 , v_loss:  0.5853527734676996\n",
      "t_acc:  0.7871148459383753 , v_acc:  0.7391304347826086\n",
      "t_recall:  0.6681338438945389 , v_recall:  0.6624324324324324\n",
      "t_prec:  0.8145671953505491 , v_prec:  0.6928754813863929\n",
      "t_f:  0.6870222789338468 , v_f:  0.6716200466200466\n",
      "////////\n"
     ]
    },
    {
     "name": "stderr",
     "output_type": "stream",
     "text": [
      "\r",
      "Iterations:  53%|█████████████████▌               | 160/300 [03:13<02:44,  1.18s/it]"
     ]
    },
    {
     "name": "stdout",
     "output_type": "stream",
     "text": [
      "Epoch  159 , loss 0.3132762520336637\n",
      "Epoch  160 , loss 0.313980073613279\n"
     ]
    },
    {
     "name": "stderr",
     "output_type": "stream",
     "text": [
      "\r",
      "Iterations:  54%|█████████████████▋               | 161/300 [03:15<02:51,  1.24s/it]"
     ]
    },
    {
     "name": "stdout",
     "output_type": "stream",
     "text": [
      "Epoch:  160\n",
      "t_loss:  0.313980073613279 , v_loss:  0.5989105254411697\n",
      "t_acc:  0.7924058512293807 , v_acc:  0.7329192546583851\n",
      "t_recall:  0.6748123138578938 , v_recall:  0.657927927927928\n",
      "t_prec:  0.8250804810486698 , v_prec:  0.6842160571668768\n",
      "t_f:  0.6952736850741521 , v_f:  0.6661522881805468\n",
      "////////\n"
     ]
    },
    {
     "name": "stderr",
     "output_type": "stream",
     "text": [
      "\r",
      "Iterations:  54%|█████████████████▊               | 162/300 [03:16<02:45,  1.20s/it]"
     ]
    },
    {
     "name": "stdout",
     "output_type": "stream",
     "text": [
      "Epoch  161 , loss 0.31517276518485127\n",
      "Epoch  162 , loss 0.30110130561333076\n"
     ]
    },
    {
     "name": "stderr",
     "output_type": "stream",
     "text": [
      "\r",
      "Iterations:  54%|█████████████████▉               | 163/300 [03:17<02:50,  1.25s/it]"
     ]
    },
    {
     "name": "stdout",
     "output_type": "stream",
     "text": [
      "Epoch:  162\n",
      "t_loss:  0.30110130561333076 , v_loss:  0.6008574863274893\n",
      "t_acc:  0.7995642701525054 , v_acc:  0.7329192546583851\n",
      "t_recall:  0.6851333360782861 , v_recall:  0.657927927927928\n",
      "t_prec:  0.8355233374734472 , v_prec:  0.6842160571668768\n",
      "t_f:  0.7077344907347247 , v_f:  0.6661522881805468\n",
      "////////\n"
     ]
    },
    {
     "name": "stderr",
     "output_type": "stream",
     "text": [
      "\r",
      "Iterations:  55%|██████████████████               | 164/300 [03:18<02:39,  1.17s/it]"
     ]
    },
    {
     "name": "stdout",
     "output_type": "stream",
     "text": [
      "Epoch  163 , loss 0.29955164591471356\n",
      "Epoch  164 , loss 0.3004489102784325\n"
     ]
    },
    {
     "name": "stderr",
     "output_type": "stream",
     "text": [
      "\r",
      "Iterations:  55%|██████████████████▏              | 165/300 [03:19<02:48,  1.25s/it]"
     ]
    },
    {
     "name": "stdout",
     "output_type": "stream",
     "text": [
      "Epoch:  164\n",
      "t_loss:  0.3004489102784325 , v_loss:  0.6023961106936137\n",
      "t_acc:  0.8017429193899782 , v_acc:  0.7267080745341615\n",
      "t_recall:  0.693312608940311 , v_recall:  0.6534234234234234\n",
      "t_prec:  0.826035477847564 , v_prec:  0.6759297520661156\n",
      "t_f:  0.7164761090081697 , v_f:  0.6607279693486591\n",
      "////////\n"
     ]
    },
    {
     "name": "stderr",
     "output_type": "stream",
     "text": [
      "\r",
      "Iterations:  55%|██████████████████▎              | 166/300 [03:20<02:34,  1.16s/it]"
     ]
    },
    {
     "name": "stdout",
     "output_type": "stream",
     "text": [
      "Epoch  165 , loss 0.2941380940815982\n",
      "Epoch  166 , loss 0.3018038281623055\n"
     ]
    },
    {
     "name": "stderr",
     "output_type": "stream",
     "text": [
      "\r",
      "Iterations:  56%|██████████████████▎              | 167/300 [03:22<02:46,  1.25s/it]"
     ]
    },
    {
     "name": "stdout",
     "output_type": "stream",
     "text": [
      "Epoch:  166\n",
      "t_loss:  0.3018038281623055 , v_loss:  0.6020839611689249\n",
      "t_acc:  0.8023653906006847 , v_acc:  0.7329192546583851\n",
      "t_recall:  0.6903096306666118 , v_recall:  0.6634234234234234\n",
      "t_prec:  0.8364476116991075 , v_prec:  0.6843495934959349\n",
      "t_f:  0.7137056799166482 , v_f:  0.6706626706626706\n",
      "////////\n"
     ]
    },
    {
     "name": "stderr",
     "output_type": "stream",
     "text": [
      "\r",
      "Iterations:  56%|██████████████████▍              | 168/300 [03:23<02:31,  1.15s/it]"
     ]
    },
    {
     "name": "stdout",
     "output_type": "stream",
     "text": [
      "Epoch  167 , loss 0.29184333483378094\n",
      "Epoch  168 , loss 0.30370962181512046\n"
     ]
    },
    {
     "name": "stderr",
     "output_type": "stream",
     "text": [
      "\r",
      "Iterations:  56%|██████████████████▌              | 169/300 [03:24<02:45,  1.26s/it]"
     ]
    },
    {
     "name": "stdout",
     "output_type": "stream",
     "text": [
      "Epoch:  168\n",
      "t_loss:  0.30370962181512046 , v_loss:  0.614609827597936\n",
      "t_acc:  0.8061002178649237 , v_acc:  0.7267080745341615\n",
      "t_recall:  0.6964445999917652 , v_recall:  0.6534234234234234\n",
      "t_prec:  0.8396877269426289 , v_prec:  0.6759297520661156\n",
      "t_f:  0.7207915870028887 , v_f:  0.6607279693486591\n",
      "////////\n"
     ]
    },
    {
     "name": "stderr",
     "output_type": "stream",
     "text": [
      "\r",
      "Iterations:  57%|██████████████████▋              | 170/300 [03:25<02:29,  1.15s/it]"
     ]
    },
    {
     "name": "stdout",
     "output_type": "stream",
     "text": [
      "Epoch  169 , loss 0.2955556283978855\n",
      "Epoch  170 , loss 0.29080910893047557\n"
     ]
    },
    {
     "name": "stderr",
     "output_type": "stream",
     "text": [
      "\r",
      "Iterations:  57%|██████████████████▊              | 171/300 [03:27<02:48,  1.31s/it]"
     ]
    },
    {
     "name": "stdout",
     "output_type": "stream",
     "text": [
      "Epoch:  170\n",
      "t_loss:  0.29080910893047557 , v_loss:  0.63373664021492\n",
      "t_acc:  0.80765639589169 , v_acc:  0.7204968944099379\n",
      "t_recall:  0.7013011075884218 , v_recall:  0.648918918918919\n",
      "t_prec:  0.835414379802415 , v_prec:  0.6679878048780488\n",
      "t_f:  0.725867775988549 , v_f:  0.6553446553446554\n",
      "////////\n"
     ]
    },
    {
     "name": "stderr",
     "output_type": "stream",
     "text": [
      "\r",
      "Iterations:  57%|██████████████████▉              | 172/300 [03:28<02:33,  1.20s/it]"
     ]
    },
    {
     "name": "stdout",
     "output_type": "stream",
     "text": [
      "Epoch  171 , loss 0.2885654685544033\n",
      "Epoch  172 , loss 0.28315453844911914\n"
     ]
    },
    {
     "name": "stderr",
     "output_type": "stream",
     "text": [
      "\r",
      "Iterations:  58%|███████████████████              | 173/300 [03:29<02:44,  1.30s/it]"
     ]
    },
    {
     "name": "stdout",
     "output_type": "stream",
     "text": [
      "Epoch:  172\n",
      "t_loss:  0.28315453844911914 , v_loss:  0.637869785229365\n",
      "t_acc:  0.8141923436041083 , v_acc:  0.7391304347826086\n",
      "t_recall:  0.7117497701102098 , v_recall:  0.6789189189189189\n",
      "t_prec:  0.8417660671379605 , v_prec:  0.6928904428904429\n",
      "t_f:  0.7375859357867308 , v_f:  0.6844904815229564\n",
      "////////\n"
     ]
    },
    {
     "name": "stderr",
     "output_type": "stream",
     "text": [
      "\r",
      "Iterations:  58%|███████████████████▏             | 174/300 [03:30<02:29,  1.18s/it]"
     ]
    },
    {
     "name": "stdout",
     "output_type": "stream",
     "text": [
      "Epoch  173 , loss 0.28695769082097444\n",
      "Epoch  174 , loss 0.2846140502130284\n"
     ]
    },
    {
     "name": "stderr",
     "output_type": "stream",
     "text": [
      "\r",
      "Iterations:  58%|███████████████████▎             | 175/300 [03:32<02:34,  1.23s/it]"
     ]
    },
    {
     "name": "stdout",
     "output_type": "stream",
     "text": [
      "Epoch:  174\n",
      "t_loss:  0.2846140502130284 , v_loss:  0.646880308787028\n",
      "t_acc:  0.8219732337379396 , v_acc:  0.7018633540372671\n",
      "t_recall:  0.7251060237987401 , v_recall:  0.6299099099099099\n",
      "t_prec:  0.84707656170645 , v_prec:  0.6442577030812324\n",
      "t_f:  0.7519628801865708 , v_f:  0.6347826086956521\n",
      "////////\n"
     ]
    },
    {
     "name": "stderr",
     "output_type": "stream",
     "text": [
      "\r",
      "Iterations:  59%|███████████████████▎             | 176/300 [03:32<02:17,  1.11s/it]"
     ]
    },
    {
     "name": "stdout",
     "output_type": "stream",
     "text": [
      "Epoch  175 , loss 0.2763356367746989\n",
      "Epoch  176 , loss 0.2703499327979836\n"
     ]
    },
    {
     "name": "stderr",
     "output_type": "stream",
     "text": [
      "\r",
      "Iterations:  59%|███████████████████▍             | 177/300 [03:34<02:27,  1.20s/it]"
     ]
    },
    {
     "name": "stdout",
     "output_type": "stream",
     "text": [
      "Epoch:  176\n",
      "t_loss:  0.2703499327979836 , v_loss:  0.6519428888956705\n",
      "t_acc:  0.8225957049486461 , v_acc:  0.7080745341614907\n",
      "t_recall:  0.7255534510918049 , v_recall:  0.6344144144144144\n",
      "t_prec:  0.8488288916781405 , v_prec:  0.6516260162601626\n",
      "t_f:  0.7526020278039545 , v_f:  0.6400266400266401\n",
      "////////\n"
     ]
    },
    {
     "name": "stderr",
     "output_type": "stream",
     "text": [
      "\r",
      "Iterations:  59%|███████████████████▌             | 178/300 [03:35<02:14,  1.10s/it]"
     ]
    },
    {
     "name": "stdout",
     "output_type": "stream",
     "text": [
      "Epoch  177 , loss 0.276998874019174\n",
      "Epoch  178 , loss 0.27430180913093044\n"
     ]
    },
    {
     "name": "stderr",
     "output_type": "stream",
     "text": [
      "\r",
      "Iterations:  60%|███████████████████▋             | 179/300 [03:36<02:27,  1.22s/it]"
     ]
    },
    {
     "name": "stdout",
     "output_type": "stream",
     "text": [
      "Epoch:  178\n",
      "t_loss:  0.27430180913093044 , v_loss:  0.6581139862537384\n",
      "t_acc:  0.8235294117647058 , v_acc:  0.7018633540372671\n",
      "t_recall:  0.7244993892480203 , v_recall:  0.6299099099099099\n",
      "t_prec:  0.8554064467720511 , v_prec:  0.6442577030812324\n",
      "t_f:  0.7521802243527003 , v_f:  0.6347826086956521\n",
      "////////\n"
     ]
    },
    {
     "name": "stderr",
     "output_type": "stream",
     "text": [
      "\r",
      "Iterations:  60%|███████████████████▊             | 180/300 [03:37<02:18,  1.15s/it]"
     ]
    },
    {
     "name": "stdout",
     "output_type": "stream",
     "text": [
      "Epoch  179 , loss 0.27216921775948766\n",
      "Epoch  180 , loss 0.27485675876047094\n"
     ]
    },
    {
     "name": "stderr",
     "output_type": "stream",
     "text": [
      "\r",
      "Iterations:  60%|███████████████████▉             | 181/300 [03:39<02:30,  1.26s/it]"
     ]
    },
    {
     "name": "stdout",
     "output_type": "stream",
     "text": [
      "Epoch:  180\n",
      "t_loss:  0.27485675876047094 , v_loss:  0.681855688492457\n",
      "t_acc:  0.8278867102396514 , v_acc:  0.7142857142857143\n",
      "t_recall:  0.7353947928246936 , v_recall:  0.6499099099099099\n",
      "t_prec:  0.8507951528605187 , v_prec:  0.6616161616161615\n",
      "t_f:  0.7626997108385656 , v_f:  0.654441955953714\n",
      "////////\n"
     ]
    },
    {
     "name": "stderr",
     "output_type": "stream",
     "text": [
      "\r",
      "Iterations:  61%|████████████████████             | 182/300 [03:40<02:24,  1.22s/it]"
     ]
    },
    {
     "name": "stdout",
     "output_type": "stream",
     "text": [
      "Epoch  181 , loss 0.27274182380414475\n",
      "Epoch  182 , loss 0.2686900499404645\n"
     ]
    },
    {
     "name": "stderr",
     "output_type": "stream",
     "text": [
      "\r",
      "Iterations:  61%|████████████████████▏            | 183/300 [03:41<02:34,  1.32s/it]"
     ]
    },
    {
     "name": "stdout",
     "output_type": "stream",
     "text": [
      "Epoch:  182\n",
      "t_loss:  0.2686900499404645 , v_loss:  0.6884690324465433\n",
      "t_acc:  0.830999066293184 , v_acc:  0.7267080745341615\n",
      "t_recall:  0.7399321996678607 , v_recall:  0.6644144144144144\n",
      "t_prec:  0.8545044180311911 , v_prec:  0.6772533022533023\n",
      "t_f:  0.7676169152008907 , v_f:  0.6694662187383352\n",
      "////////\n"
     ]
    },
    {
     "name": "stderr",
     "output_type": "stream",
     "text": [
      "\r",
      "Iterations:  61%|████████████████████▏            | 184/300 [03:43<02:30,  1.30s/it]"
     ]
    },
    {
     "name": "stdout",
     "output_type": "stream",
     "text": [
      "Epoch  183 , loss 0.2632981582599528\n",
      "Epoch  184 , loss 0.2697071526564804\n"
     ]
    },
    {
     "name": "stderr",
     "output_type": "stream",
     "text": [
      "\r",
      "Iterations:  62%|████████████████████▎            | 185/300 [03:44<02:38,  1.38s/it]"
     ]
    },
    {
     "name": "stdout",
     "output_type": "stream",
     "text": [
      "Epoch:  184\n",
      "t_loss:  0.2697071526564804 , v_loss:  0.7027203043301901\n",
      "t_acc:  0.8285091814503579 , v_acc:  0.7142857142857143\n",
      "t_recall:  0.7344045511316067 , v_recall:  0.6554054054054055\n",
      "t_prec:  0.8554939824573332 , v_prec:  0.6630434782608696\n",
      "t_f:  0.7622701526382669 , v_f:  0.6586467551622419\n",
      "////////\n"
     ]
    },
    {
     "name": "stderr",
     "output_type": "stream",
     "text": [
      "\r",
      "Iterations:  62%|████████████████████▍            | 186/300 [03:45<02:29,  1.31s/it]"
     ]
    },
    {
     "name": "stdout",
     "output_type": "stream",
     "text": [
      "Epoch  185 , loss 0.26092319453463836\n",
      "Epoch  186 , loss 0.25225410829572115\n"
     ]
    },
    {
     "name": "stderr",
     "output_type": "stream",
     "text": [
      "\r",
      "Iterations:  62%|████████████████████▌            | 187/300 [03:47<02:34,  1.37s/it]"
     ]
    },
    {
     "name": "stdout",
     "output_type": "stream",
     "text": [
      "Epoch:  186\n",
      "t_loss:  0.25225410829572115 , v_loss:  0.7179246445496877\n",
      "t_acc:  0.8394024276377218 , v_acc:  0.7080745341614907\n",
      "t_recall:  0.7540234144466862 , v_recall:  0.6399099099099099\n",
      "t_prec:  0.8606886220932272 , v_prec:  0.6530350808040993\n",
      "t_f:  0.7819737806950082 , v_f:  0.6446917406207446\n",
      "////////\n"
     ]
    },
    {
     "name": "stderr",
     "output_type": "stream",
     "text": [
      "\r",
      "Iterations:  63%|████████████████████▋            | 188/300 [03:48<02:22,  1.27s/it]"
     ]
    },
    {
     "name": "stdout",
     "output_type": "stream",
     "text": [
      "Epoch  187 , loss 0.2589265926211488\n",
      "Epoch  188 , loss 0.2695736189683278\n"
     ]
    },
    {
     "name": "stderr",
     "output_type": "stream",
     "text": [
      "\r",
      "Iterations:  63%|████████████████████▊            | 189/300 [03:49<02:25,  1.31s/it]"
     ]
    },
    {
     "name": "stdout",
     "output_type": "stream",
     "text": [
      "Epoch:  188\n",
      "t_loss:  0.2695736189683278 , v_loss:  0.7183188398679098\n",
      "t_acc:  0.8390911920323685 , v_acc:  0.7018633540372671\n",
      "t_recall:  0.7520744980167717 , v_recall:  0.6409009009009009\n",
      "t_prec:  0.8632475195306062 , v_prec:  0.6478260869565218\n",
      "t_f:  0.7805005676045345 , v_f:  0.6438053097345132\n",
      "////////\n"
     ]
    },
    {
     "name": "stderr",
     "output_type": "stream",
     "text": [
      "\r",
      "Iterations:  63%|████████████████████▉            | 190/300 [03:50<02:12,  1.21s/it]"
     ]
    },
    {
     "name": "stdout",
     "output_type": "stream",
     "text": [
      "Epoch  189 , loss 0.2470029855475706\n",
      "Epoch  190 , loss 0.24883119294456407\n"
     ]
    },
    {
     "name": "stderr",
     "output_type": "stream",
     "text": [
      "\r",
      "Iterations:  64%|█████████████████████            | 191/300 [03:52<02:17,  1.26s/it]"
     ]
    },
    {
     "name": "stdout",
     "output_type": "stream",
     "text": [
      "Epoch:  190\n",
      "t_loss:  0.24883119294456407 , v_loss:  0.743369330962499\n",
      "t_acc:  0.8440709617180205 , v_acc:  0.6894409937888198\n",
      "t_recall:  0.7611170585086673 , v_recall:  0.6209009009009009\n",
      "t_prec:  0.8654597528929049 , v_prec:  0.6303418803418803\n",
      "t_f:  0.7893135435992579 , v_f:  0.6243934303844718\n",
      "////////\n"
     ]
    },
    {
     "name": "stderr",
     "output_type": "stream",
     "text": [
      "\r",
      "Iterations:  64%|█████████████████████            | 192/300 [03:53<02:05,  1.16s/it]"
     ]
    },
    {
     "name": "stdout",
     "output_type": "stream",
     "text": [
      "Epoch  191 , loss 0.25703217615099516\n",
      "Epoch  192 , loss 0.2501416551131828\n"
     ]
    },
    {
     "name": "stderr",
     "output_type": "stream",
     "text": [
      "\r",
      "Iterations:  64%|█████████████████████▏           | 193/300 [03:54<02:10,  1.22s/it]"
     ]
    },
    {
     "name": "stdout",
     "output_type": "stream",
     "text": [
      "Epoch:  192\n",
      "t_loss:  0.2501416551131828 , v_loss:  0.745446095863978\n",
      "t_acc:  0.8403361344537815 , v_acc:  0.6832298136645962\n",
      "t_recall:  0.7538319539945925 , v_recall:  0.6273873873873874\n",
      "t_prec:  0.8647887666571115 , v_prec:  0.6288265306122449\n",
      "t_f:  0.7823896398462982 , v_f:  0.6280744666394891\n",
      "////////\n"
     ]
    },
    {
     "name": "stderr",
     "output_type": "stream",
     "text": [
      "\r",
      "Iterations:  65%|█████████████████████▎           | 194/300 [03:55<02:02,  1.15s/it]"
     ]
    },
    {
     "name": "stdout",
     "output_type": "stream",
     "text": [
      "Epoch  193 , loss 0.2434065959909383\n",
      "Epoch  194 , loss 0.25284525985811274\n"
     ]
    },
    {
     "name": "stderr",
     "output_type": "stream",
     "text": [
      "\r",
      "Iterations:  65%|█████████████████████▍           | 195/300 [03:56<02:07,  1.21s/it]"
     ]
    },
    {
     "name": "stdout",
     "output_type": "stream",
     "text": [
      "Epoch:  194\n",
      "t_loss:  0.25284525985811274 , v_loss:  0.7690006097157797\n",
      "t_acc:  0.8490507314036726 , v_acc:  0.6832298136645962\n",
      "t_recall:  0.7690094838116412 , v_recall:  0.6273873873873874\n",
      "t_prec:  0.8698583866621546 , v_prec:  0.6288265306122449\n",
      "t_f:  0.797253913710304 , v_f:  0.6280744666394891\n",
      "////////\n"
     ]
    },
    {
     "name": "stderr",
     "output_type": "stream",
     "text": [
      "\r",
      "Iterations:  65%|█████████████████████▌           | 196/300 [03:57<02:03,  1.19s/it]"
     ]
    },
    {
     "name": "stdout",
     "output_type": "stream",
     "text": [
      "Epoch  195 , loss 0.24789387601263382\n",
      "Epoch  196 , loss 0.25641297592836265\n"
     ]
    },
    {
     "name": "stderr",
     "output_type": "stream",
     "text": [
      "\r",
      "Iterations:  66%|█████████████████████▋           | 197/300 [03:59<02:10,  1.26s/it]"
     ]
    },
    {
     "name": "stdout",
     "output_type": "stream",
     "text": [
      "Epoch:  196\n",
      "t_loss:  0.25641297592836265 , v_loss:  0.7663870056470236\n",
      "t_acc:  0.8465608465608465 , v_acc:  0.6956521739130435\n",
      "t_recall:  0.7646319704643088 , v_recall:  0.6418918918918919\n",
      "t_prec:  0.8684775629183622 , v_prec:  0.6434948979591837\n",
      "t_f:  0.7930323373376036 , v_f:  0.6426597816732346\n",
      "////////\n"
     ]
    },
    {
     "name": "stderr",
     "output_type": "stream",
     "text": [
      "\r",
      "Iterations:  66%|█████████████████████▊           | 198/300 [04:00<02:03,  1.21s/it]"
     ]
    },
    {
     "name": "stdout",
     "output_type": "stream",
     "text": [
      "Epoch  197 , loss 0.23779066462142795\n",
      "Epoch  198 , loss 0.23835345313829534\n"
     ]
    },
    {
     "name": "stderr",
     "output_type": "stream",
     "text": [
      "\r",
      "Iterations:  66%|█████████████████████▉           | 199/300 [04:02<02:14,  1.33s/it]"
     ]
    },
    {
     "name": "stdout",
     "output_type": "stream",
     "text": [
      "Epoch:  198\n",
      "t_loss:  0.23835345313829534 , v_loss:  0.7764404316743215\n",
      "t_acc:  0.8527855586679116 , v_acc:  0.6956521739130435\n",
      "t_recall:  0.7731317165561824 , v_recall:  0.6473873873873874\n",
      "t_prec:  0.8764698871762275 , v_prec:  0.6458110516934046\n",
      "t_f:  0.8021029513276462 , v_f:  0.64656601406747\n",
      "////////\n"
     ]
    },
    {
     "name": "stderr",
     "output_type": "stream",
     "text": [
      "\r",
      "Iterations:  67%|██████████████████████           | 200/300 [04:02<01:59,  1.20s/it]"
     ]
    },
    {
     "name": "stdout",
     "output_type": "stream",
     "text": [
      "Epoch  199 , loss 0.24233243161556767\n",
      "Epoch  200 , loss 0.23621266408293856\n"
     ]
    },
    {
     "name": "stderr",
     "output_type": "stream",
     "text": [
      "\r",
      "Iterations:  67%|██████████████████████           | 201/300 [04:04<02:12,  1.33s/it]"
     ]
    },
    {
     "name": "stdout",
     "output_type": "stream",
     "text": [
      "Epoch:  200\n",
      "t_loss:  0.23621266408293856 , v_loss:  0.7883338828881582\n",
      "t_acc:  0.8583877995642701 , v_acc:  0.6956521739130435\n",
      "t_recall:  0.7820466367466821 , v_recall:  0.6473873873873874\n",
      "t_prec:  0.8811474497681607 , v_prec:  0.6458110516934046\n",
      "t_f:  0.8109087912993327 , v_f:  0.64656601406747\n",
      "////////\n"
     ]
    },
    {
     "name": "stderr",
     "output_type": "stream",
     "text": [
      "\r",
      "Iterations:  67%|██████████████████████▏          | 202/300 [04:05<01:57,  1.20s/it]"
     ]
    },
    {
     "name": "stdout",
     "output_type": "stream",
     "text": [
      "Epoch  201 , loss 0.23085004587968191\n",
      "Epoch  202 , loss 0.2237536693904914\n"
     ]
    },
    {
     "name": "stderr",
     "output_type": "stream",
     "text": [
      "\r",
      "Iterations:  68%|██████████████████████▎          | 203/300 [04:06<02:05,  1.29s/it]"
     ]
    },
    {
     "name": "stdout",
     "output_type": "stream",
     "text": [
      "Epoch:  202\n",
      "t_loss:  0.2237536693904914 , v_loss:  0.7976042330265045\n",
      "t_acc:  0.8615001556178027 , v_acc:  0.6894409937888198\n",
      "t_recall:  0.7903219829538436 , v_recall:  0.6483783783783784\n",
      "t_prec:  0.8778940767895042 , v_prec:  0.6425233644859814\n",
      "t_f:  0.8174731290895199 , v_f:  0.6449364855328159\n",
      "////////\n"
     ]
    },
    {
     "name": "stderr",
     "output_type": "stream",
     "text": [
      "\r",
      "Iterations:  68%|██████████████████████▍          | 204/300 [04:07<01:52,  1.17s/it]"
     ]
    },
    {
     "name": "stdout",
     "output_type": "stream",
     "text": [
      "Epoch  203 , loss 0.24016258032882914\n",
      "Epoch  204 , loss 0.23080150461664387\n"
     ]
    },
    {
     "name": "stderr",
     "output_type": "stream",
     "text": [
      "\r",
      "Iterations:  68%|██████████████████████▌          | 205/300 [04:09<01:56,  1.23s/it]"
     ]
    },
    {
     "name": "stdout",
     "output_type": "stream",
     "text": [
      "Epoch:  204\n",
      "t_loss:  0.23080150461664387 , v_loss:  0.8333264291286469\n",
      "t_acc:  0.8549642079053844 , v_acc:  0.7204968944099379\n",
      "t_recall:  0.7792982528375949 , v_recall:  0.6818918918918919\n",
      "t_prec:  0.8733739387408369 , v_prec:  0.6763626834381551\n",
      "t_f:  0.8070585585260526 , v_f:  0.6788136720308552\n",
      "////////\n"
     ]
    },
    {
     "name": "stderr",
     "output_type": "stream",
     "text": [
      "\r",
      "Iterations:  69%|██████████████████████▋          | 206/300 [04:10<01:45,  1.12s/it]"
     ]
    },
    {
     "name": "stdout",
     "output_type": "stream",
     "text": [
      "Epoch  205 , loss 0.22329702038390964\n",
      "Epoch  206 , loss 0.22856797234100454\n"
     ]
    },
    {
     "name": "stderr",
     "output_type": "stream",
     "text": [
      "\r",
      "Iterations:  69%|██████████████████████▊          | 207/300 [04:11<01:52,  1.21s/it]"
     ]
    },
    {
     "name": "stdout",
     "output_type": "stream",
     "text": [
      "Epoch:  206\n",
      "t_loss:  0.22856797234100454 , v_loss:  0.8520772755146027\n",
      "t_acc:  0.864301276065982 , v_acc:  0.7018633540372671\n",
      "t_recall:  0.7917603381781748 , v_recall:  0.6573873873873874\n",
      "t_prec:  0.8854718465990827 , v_prec:  0.6541107974594214\n",
      "t_f:  0.8202191761694684 , v_f:  0.6556149732620321\n",
      "////////\n"
     ]
    },
    {
     "name": "stderr",
     "output_type": "stream",
     "text": [
      "\r",
      "Iterations:  69%|██████████████████████▉          | 208/300 [04:12<01:41,  1.10s/it]"
     ]
    },
    {
     "name": "stdout",
     "output_type": "stream",
     "text": [
      "Epoch  207 , loss 0.22220042946876264\n",
      "Epoch  208 , loss 0.21699106576395968\n"
     ]
    },
    {
     "name": "stderr",
     "output_type": "stream",
     "text": [
      "\r",
      "Iterations:  70%|██████████████████████▉          | 209/300 [04:13<01:48,  1.20s/it]"
     ]
    },
    {
     "name": "stdout",
     "output_type": "stream",
     "text": [
      "Epoch:  208\n",
      "t_loss:  0.21699106576395968 , v_loss:  0.8515442411104838\n",
      "t_acc:  0.8667911609088079 , v_acc:  0.6894409937888198\n",
      "t_recall:  0.799875790889502 , v_recall:  0.6373873873873874\n",
      "t_prec:  0.8805517173312278 , v_prec:  0.6373873873873874\n",
      "t_f:  0.8260462795799904 , v_f:  0.6373873873873874\n",
      "////////\n"
     ]
    },
    {
     "name": "stderr",
     "output_type": "stream",
     "text": [
      "\r",
      "Iterations:  70%|███████████████████████          | 210/300 [04:14<01:40,  1.11s/it]"
     ]
    },
    {
     "name": "stdout",
     "output_type": "stream",
     "text": [
      "Epoch  209 , loss 0.2189935308461096\n",
      "Epoch  210 , loss 0.20771963426879808\n"
     ]
    },
    {
     "name": "stderr",
     "output_type": "stream",
     "text": [
      "\r",
      "Iterations:  70%|███████████████████████▏         | 211/300 [04:16<01:46,  1.20s/it]"
     ]
    },
    {
     "name": "stdout",
     "output_type": "stream",
     "text": [
      "Epoch:  210\n",
      "t_loss:  0.20771963426879808 , v_loss:  0.8783344129721323\n",
      "t_acc:  0.8758169934640523 , v_acc:  0.6832298136645962\n",
      "t_recall:  0.8106764935973978 , v_recall:  0.6328828828828829\n",
      "t_prec:  0.8938346869323757 , v_prec:  0.6314616755793226\n",
      "t_f:  0.8378966151787208 , v_f:  0.6321401370906321\n",
      "////////\n"
     ]
    },
    {
     "name": "stderr",
     "output_type": "stream",
     "text": [
      "\r",
      "Iterations:  71%|███████████████████████▎         | 212/300 [04:17<01:39,  1.13s/it]"
     ]
    },
    {
     "name": "stdout",
     "output_type": "stream",
     "text": [
      "Epoch  211 , loss 0.2176535360369028\n",
      "Epoch  212 , loss 0.21228250247590683\n"
     ]
    },
    {
     "name": "stderr",
     "output_type": "stream",
     "text": [
      "\r",
      "Iterations:  71%|███████████████████████▍         | 213/300 [04:18<01:46,  1.22s/it]"
     ]
    },
    {
     "name": "stdout",
     "output_type": "stream",
     "text": [
      "Epoch:  212\n",
      "t_loss:  0.21228250247590683 , v_loss:  0.8808691203594208\n",
      "t_acc:  0.8727046374105197 , v_acc:  0.6708074534161491\n",
      "t_recall:  0.8052764853625396 , v_recall:  0.6183783783783784\n",
      "t_prec:  0.8920726161265758 , v_prec:  0.6171122994652407\n",
      "t_f:  0.8330434722951163 , v_f:  0.6177142601137942\n",
      "////////\n"
     ]
    },
    {
     "name": "stderr",
     "output_type": "stream",
     "text": [
      "\r",
      "Iterations:  71%|███████████████████████▌         | 214/300 [04:19<01:40,  1.17s/it]"
     ]
    },
    {
     "name": "stdout",
     "output_type": "stream",
     "text": [
      "Epoch  213 , loss 0.21830306991058238\n",
      "Epoch  214 , loss 0.2144456996637232\n"
     ]
    },
    {
     "name": "stderr",
     "output_type": "stream",
     "text": [
      "\r",
      "Iterations:  72%|███████████████████████▋         | 215/300 [04:21<01:47,  1.26s/it]"
     ]
    },
    {
     "name": "stdout",
     "output_type": "stream",
     "text": [
      "Epoch:  214\n",
      "t_loss:  0.2144456996637232 , v_loss:  0.8851790130138397\n",
      "t_acc:  0.875505757858699 , v_acc:  0.6832298136645962\n",
      "t_recall:  0.8124655165314778 , v_recall:  0.6273873873873874\n",
      "t_prec:  0.889875570260162 , v_prec:  0.6288265306122449\n",
      "t_f:  0.8384381448897579 , v_f:  0.6280744666394891\n",
      "////////\n"
     ]
    },
    {
     "name": "stderr",
     "output_type": "stream",
     "text": [
      "\r",
      "Iterations:  72%|███████████████████████▊         | 216/300 [04:22<01:40,  1.20s/it]"
     ]
    },
    {
     "name": "stdout",
     "output_type": "stream",
     "text": [
      "Epoch  215 , loss 0.19541079244192908\n",
      "Epoch  216 , loss 0.20890493354960984\n"
     ]
    },
    {
     "name": "stderr",
     "output_type": "stream",
     "text": [
      "\r",
      "Iterations:  72%|███████████████████████▊         | 217/300 [04:23<01:47,  1.29s/it]"
     ]
    },
    {
     "name": "stdout",
     "output_type": "stream",
     "text": [
      "Epoch:  216\n",
      "t_loss:  0.20890493354960984 , v_loss:  0.9058322906494141\n",
      "t_acc:  0.8758169934640523 , v_acc:  0.7018633540372671\n",
      "t_recall:  0.8132642977724709 , v_recall:  0.6573873873873874\n",
      "t_prec:  0.8896591106968359 , v_prec:  0.6541107974594214\n",
      "t_f:  0.8390287231169278 , v_f:  0.6556149732620321\n",
      "////////\n"
     ]
    },
    {
     "name": "stderr",
     "output_type": "stream",
     "text": [
      "\r",
      "Iterations:  73%|███████████████████████▉         | 218/300 [04:24<01:41,  1.23s/it]"
     ]
    },
    {
     "name": "stdout",
     "output_type": "stream",
     "text": [
      "Epoch  217 , loss 0.19736530441863864\n",
      "Epoch  218 , loss 0.20093747330646888\n"
     ]
    },
    {
     "name": "stderr",
     "output_type": "stream",
     "text": [
      "\r",
      "Iterations:  73%|████████████████████████         | 219/300 [04:26<01:48,  1.34s/it]"
     ]
    },
    {
     "name": "stdout",
     "output_type": "stream",
     "text": [
      "Epoch:  218\n",
      "t_loss:  0.20093747330646888 , v_loss:  0.9122399588425955\n",
      "t_acc:  0.8823529411764706 , v_acc:  0.6832298136645962\n",
      "t_recall:  0.8225628251053375 , v_recall:  0.6328828828828829\n",
      "t_prec:  0.8967450327212978 , v_prec:  0.6314616755793226\n",
      "t_f:  0.848142926305218 , v_f:  0.6321401370906321\n",
      "////////\n"
     ]
    },
    {
     "name": "stderr",
     "output_type": "stream",
     "text": [
      "\r",
      "Iterations:  73%|████████████████████████▏        | 220/300 [04:27<01:43,  1.29s/it]"
     ]
    },
    {
     "name": "stdout",
     "output_type": "stream",
     "text": [
      "Epoch  219 , loss 0.19285228841152846\n",
      "Epoch  220 , loss 0.19365677368991516\n"
     ]
    },
    {
     "name": "stderr",
     "output_type": "stream",
     "text": [
      "\r",
      "Iterations:  74%|████████████████████████▎        | 221/300 [04:29<01:48,  1.37s/it]"
     ]
    },
    {
     "name": "stdout",
     "output_type": "stream",
     "text": [
      "Epoch:  220\n",
      "t_loss:  0.19365677368991516 , v_loss:  0.9136237402757009\n",
      "t_acc:  0.8904450669156552 , v_acc:  0.6956521739130435\n",
      "t_recall:  0.8347051234542484 , v_recall:  0.6473873873873874\n",
      "t_prec:  0.9044091471908373 , v_prec:  0.6458110516934046\n",
      "t_f:  0.8595465654618794 , v_f:  0.64656601406747\n",
      "////////\n"
     ]
    },
    {
     "name": "stderr",
     "output_type": "stream",
     "text": [
      "\r",
      "Iterations:  74%|████████████████████████▍        | 222/300 [04:30<01:40,  1.28s/it]"
     ]
    },
    {
     "name": "stdout",
     "output_type": "stream",
     "text": [
      "Epoch  221 , loss 0.1958112222891228\n",
      "Epoch  222 , loss 0.19149342033208586\n"
     ]
    },
    {
     "name": "stderr",
     "output_type": "stream",
     "text": [
      "\r",
      "Iterations:  74%|████████████████████████▌        | 223/300 [04:31<01:43,  1.34s/it]"
     ]
    },
    {
     "name": "stdout",
     "output_type": "stream",
     "text": [
      "Epoch:  222\n",
      "t_loss:  0.19149342033208586 , v_loss:  0.9519925812880198\n",
      "t_acc:  0.8885776532835357 , v_acc:  0.6645962732919255\n",
      "t_recall:  0.8322127063861324 , v_recall:  0.6028828828828828\n",
      "t_prec:  0.9021797645276097 , v_prec:  0.6052728613569321\n",
      "t_f:  0.8570453854000752 , v_f:  0.6039540816326531\n",
      "////////\n"
     ]
    },
    {
     "name": "stderr",
     "output_type": "stream",
     "text": [
      "\r",
      "Iterations:  75%|████████████████████████▋        | 224/300 [04:32<01:33,  1.23s/it]"
     ]
    },
    {
     "name": "stdout",
     "output_type": "stream",
     "text": [
      "Epoch  223 , loss 0.19555595750902213\n",
      "Epoch  224 , loss 0.1941941085399366\n"
     ]
    },
    {
     "name": "stderr",
     "output_type": "stream",
     "text": [
      "\r",
      "Iterations:  75%|████████████████████████▊        | 225/300 [04:33<01:36,  1.29s/it]"
     ]
    },
    {
     "name": "stdout",
     "output_type": "stream",
     "text": [
      "Epoch:  224\n",
      "t_loss:  0.1941941085399366 , v_loss:  0.9476693272590637\n",
      "t_acc:  0.8904450669156552 , v_acc:  0.6708074534161491\n",
      "t_recall:  0.8352801910487092 , v_recall:  0.6183783783783784\n",
      "t_prec:  0.9035398537078518 , v_prec:  0.6171122994652407\n",
      "t_f:  0.8597562608812106 , v_f:  0.6177142601137942\n",
      "////////\n"
     ]
    },
    {
     "name": "stderr",
     "output_type": "stream",
     "text": [
      "\r",
      "Iterations:  75%|████████████████████████▊        | 226/300 [04:34<01:28,  1.20s/it]"
     ]
    },
    {
     "name": "stdout",
     "output_type": "stream",
     "text": [
      "Epoch  225 , loss 0.18800825698702944\n",
      "Epoch  226 , loss 0.19150061072672114\n"
     ]
    },
    {
     "name": "stderr",
     "output_type": "stream",
     "text": [
      "\r",
      "Iterations:  76%|████████████████████████▉        | 227/300 [04:36<01:31,  1.26s/it]"
     ]
    },
    {
     "name": "stdout",
     "output_type": "stream",
     "text": [
      "Epoch:  226\n",
      "t_loss:  0.19150061072672114 , v_loss:  0.9717934926350912\n",
      "t_acc:  0.892623716153128 , v_acc:  0.6770186335403726\n",
      "t_recall:  0.8397215245467398 , v_recall:  0.6283783783783784\n",
      "t_prec:  0.9038666746434904 , v_prec:  0.6257057163020466\n",
      "t_f:  0.8632052076760626 , v_f:  0.6269162210338681\n",
      "////////\n"
     ]
    },
    {
     "name": "stderr",
     "output_type": "stream",
     "text": [
      "\r",
      "Iterations:  76%|█████████████████████████        | 228/300 [04:37<01:26,  1.20s/it]"
     ]
    },
    {
     "name": "stdout",
     "output_type": "stream",
     "text": [
      "Epoch  227 , loss 0.1753473444020047\n",
      "Epoch  228 , loss 0.1961051371752047\n"
     ]
    },
    {
     "name": "stderr",
     "output_type": "stream",
     "text": [
      "\r",
      "Iterations:  76%|█████████████████████████▏       | 229/300 [04:38<01:28,  1.25s/it]"
     ]
    },
    {
     "name": "stdout",
     "output_type": "stream",
     "text": [
      "Epoch:  228\n",
      "t_loss:  0.1961051371752047 , v_loss:  0.9826308290163676\n",
      "t_acc:  0.8870214752567693 , v_acc:  0.6770186335403726\n",
      "t_recall:  0.831669205747931 , v_recall:  0.6283783783783784\n",
      "t_prec:  0.8980456589415426 , v_prec:  0.6257057163020466\n",
      "t_f:  0.8555350312861953 , v_f:  0.6269162210338681\n",
      "////////\n"
     ]
    },
    {
     "name": "stderr",
     "output_type": "stream",
     "text": [
      "\r",
      "Iterations:  77%|█████████████████████████▎       | 230/300 [04:39<01:24,  1.21s/it]"
     ]
    },
    {
     "name": "stdout",
     "output_type": "stream",
     "text": [
      "Epoch  229 , loss 0.17354230348970376\n",
      "Epoch  230 , loss 0.1704571404877831\n"
     ]
    },
    {
     "name": "stderr",
     "output_type": "stream",
     "text": [
      "\r",
      "Iterations:  77%|█████████████████████████▍       | 231/300 [04:41<01:27,  1.27s/it]"
     ]
    },
    {
     "name": "stdout",
     "output_type": "stream",
     "text": [
      "Epoch:  230\n",
      "t_loss:  0.1704571404877831 , v_loss:  0.9879551529884338\n",
      "t_acc:  0.902583255524432 , v_acc:  0.6832298136645962\n",
      "t_recall:  0.8534936385720756 , v_recall:  0.6383783783783784\n",
      "t_prec:  0.914840979154788 , v_prec:  0.6341719077568134\n",
      "t_f:  0.8765261437583496 , v_f:  0.6359888283016358\n",
      "////////\n"
     ]
    },
    {
     "name": "stderr",
     "output_type": "stream",
     "text": [
      "\r",
      "Iterations:  77%|█████████████████████████▌       | 232/300 [04:42<01:20,  1.18s/it]"
     ]
    },
    {
     "name": "stdout",
     "output_type": "stream",
     "text": [
      "Epoch  231 , loss 0.17442762471881568\n",
      "Epoch  232 , loss 0.18046425808878505\n"
     ]
    },
    {
     "name": "stderr",
     "output_type": "stream",
     "text": [
      "\r",
      "Iterations:  78%|█████████████████████████▋       | 233/300 [04:43<01:27,  1.31s/it]"
     ]
    },
    {
     "name": "stdout",
     "output_type": "stream",
     "text": [
      "Epoch:  232\n",
      "t_loss:  0.18046425808878505 , v_loss:  1.0111700495084126\n",
      "t_acc:  0.898848428260193 , v_acc:  0.6645962732919255\n",
      "t_recall:  0.8467836016524615 , v_recall:  0.6083783783783784\n",
      "t_prec:  0.9130372001024406 , v_prec:  0.6083783783783784\n",
      "t_f:  0.8710404264134796 , v_f:  0.6083783783783784\n",
      "////////\n"
     ]
    },
    {
     "name": "stderr",
     "output_type": "stream",
     "text": [
      "\r",
      "Iterations:  78%|█████████████████████████▋       | 234/300 [04:44<01:18,  1.18s/it]"
     ]
    },
    {
     "name": "stdout",
     "output_type": "stream",
     "text": [
      "Epoch  233 , loss 0.17422531778905906\n",
      "Epoch  234 , loss 0.18176155741892608\n"
     ]
    },
    {
     "name": "stderr",
     "output_type": "stream",
     "text": [
      "\r",
      "Iterations:  78%|█████████████████████████▊       | 235/300 [04:46<01:26,  1.34s/it]"
     ]
    },
    {
     "name": "stdout",
     "output_type": "stream",
     "text": [
      "Epoch:  234\n",
      "t_loss:  0.18176155741892608 , v_loss:  1.0370008945465088\n",
      "t_acc:  0.8938686585745409 , v_acc:  0.6770186335403726\n",
      "t_recall:  0.84119144672733 , v_recall:  0.6283783783783784\n",
      "t_prec:  0.9056141429084223 , v_prec:  0.6257057163020466\n",
      "t_f:  0.8647912342537314 , v_f:  0.6269162210338681\n",
      "////////\n"
     ]
    },
    {
     "name": "stderr",
     "output_type": "stream",
     "text": [
      "\r",
      "Iterations:  79%|█████████████████████████▉       | 236/300 [04:47<01:16,  1.20s/it]"
     ]
    },
    {
     "name": "stdout",
     "output_type": "stream",
     "text": [
      "Epoch  235 , loss 0.17292473728165908\n",
      "Epoch  236 , loss 0.16836589194980323\n"
     ]
    },
    {
     "name": "stderr",
     "output_type": "stream",
     "text": [
      "\r",
      "Iterations:  79%|██████████████████████████       | 237/300 [04:48<01:22,  1.31s/it]"
     ]
    },
    {
     "name": "stdout",
     "output_type": "stream",
     "text": [
      "Epoch:  236\n",
      "t_loss:  0.16836589194980323 , v_loss:  1.075866202513377\n",
      "t_acc:  0.906318082788671 , v_acc:  0.6708074534161491\n",
      "t_recall:  0.8581909389110773 , v_recall:  0.6238738738738738\n",
      "t_prec:  0.9195907012538238 , v_prec:  0.6201083158630328\n",
      "t_f:  0.8813459174575708 , v_f:  0.6217138803918961\n",
      "////////\n"
     ]
    },
    {
     "name": "stderr",
     "output_type": "stream",
     "text": [
      "\r",
      "Iterations:  79%|██████████████████████████▏      | 238/300 [04:49<01:13,  1.19s/it]"
     ]
    },
    {
     "name": "stdout",
     "output_type": "stream",
     "text": [
      "Epoch  237 , loss 0.17340879522117914\n",
      "Epoch  238 , loss 0.1618788373820922\n"
     ]
    },
    {
     "name": "stderr",
     "output_type": "stream",
     "text": [
      "\r",
      "Iterations:  80%|██████████████████████████▎      | 239/300 [04:51<01:16,  1.26s/it]"
     ]
    },
    {
     "name": "stdout",
     "output_type": "stream",
     "text": [
      "Epoch:  238\n",
      "t_loss:  0.1618788373820922 , v_loss:  1.0855609774589539\n",
      "t_acc:  0.91005291005291 , v_acc:  0.6583850931677019\n",
      "t_recall:  0.8651885096279217 , v_recall:  0.6038738738738739\n",
      "t_prec:  0.9209935625282819 , v_prec:  0.6027629233511587\n",
      "t_f:  0.8868087299548859 , v_f:  0.6032883831369562\n",
      "////////\n"
     ]
    },
    {
     "name": "stderr",
     "output_type": "stream",
     "text": [
      "\r",
      "Iterations:  80%|██████████████████████████▍      | 240/300 [04:52<01:10,  1.17s/it]"
     ]
    },
    {
     "name": "stdout",
     "output_type": "stream",
     "text": [
      "Epoch  239 , loss 0.16184653663167767\n",
      "Epoch  240 , loss 0.15464340537494303\n"
     ]
    },
    {
     "name": "stderr",
     "output_type": "stream",
     "text": [
      "\r",
      "Iterations:  80%|██████████████████████████▌      | 241/300 [04:53<01:14,  1.26s/it]"
     ]
    },
    {
     "name": "stdout",
     "output_type": "stream",
     "text": [
      "Epoch:  240\n",
      "t_loss:  0.15464340537494303 , v_loss:  1.1000746488571167\n",
      "t_acc:  0.9081854964207905 , v_acc:  0.6708074534161491\n",
      "t_recall:  0.8624085587625754 , v_recall:  0.6183783783783784\n",
      "t_prec:  0.9192561327370399 , v_prec:  0.6171122994652407\n",
      "t_f:  0.8842942226520304 , v_f:  0.6177142601137942\n",
      "////////\n"
     ]
    },
    {
     "name": "stderr",
     "output_type": "stream",
     "text": [
      "\r",
      "Iterations:  81%|██████████████████████████▌      | 242/300 [04:54<01:08,  1.18s/it]"
     ]
    },
    {
     "name": "stdout",
     "output_type": "stream",
     "text": [
      "Epoch  241 , loss 0.16071001776293212\n",
      "Epoch  242 , loss 0.1550065727502692\n"
     ]
    },
    {
     "name": "stderr",
     "output_type": "stream",
     "text": [
      "\r",
      "Iterations:  81%|██████████████████████████▋      | 243/300 [04:56<01:11,  1.25s/it]"
     ]
    },
    {
     "name": "stdout",
     "output_type": "stream",
     "text": [
      "Epoch:  242\n",
      "t_loss:  0.1550065727502692 , v_loss:  1.093389054139455\n",
      "t_acc:  0.9147214441332089 , v_acc:  0.6708074534161491\n",
      "t_recall:  0.8691192819203689 , v_recall:  0.6183783783783784\n",
      "t_prec:  0.9296779141104294 , v_prec:  0.6171122994652407\n",
      "t_f:  0.8922614327253503 , v_f:  0.6177142601137942\n",
      "////////\n"
     ]
    },
    {
     "name": "stderr",
     "output_type": "stream",
     "text": [
      "\r",
      "Iterations:  81%|██████████████████████████▊      | 244/300 [04:57<01:06,  1.19s/it]"
     ]
    },
    {
     "name": "stdout",
     "output_type": "stream",
     "text": [
      "Epoch  243 , loss 0.16918207719629885\n",
      "Epoch  244 , loss 0.16208078829096814\n"
     ]
    },
    {
     "name": "stderr",
     "output_type": "stream",
     "text": [
      "\r",
      "Iterations:  82%|██████████████████████████▉      | 245/300 [04:58<01:09,  1.27s/it]"
     ]
    },
    {
     "name": "stdout",
     "output_type": "stream",
     "text": [
      "Epoch:  244\n",
      "t_loss:  0.16208078829096814 , v_loss:  1.1218692660331726\n",
      "t_acc:  0.9125427948957361 , v_acc:  0.6708074534161491\n",
      "t_recall:  0.8704286243669452 , v_recall:  0.6183783783783784\n",
      "t_prec:  0.9212088580926073 , v_prec:  0.6171122994652407\n",
      "t_f:  0.8905602084131083 , v_f:  0.6177142601137942\n",
      "////////\n"
     ]
    },
    {
     "name": "stderr",
     "output_type": "stream",
     "text": [
      "\r",
      "Iterations:  82%|███████████████████████████      | 246/300 [04:59<01:06,  1.23s/it]"
     ]
    },
    {
     "name": "stdout",
     "output_type": "stream",
     "text": [
      "Epoch  245 , loss 0.16790889429987646\n",
      "Epoch  246 , loss 0.15909957505908667\n"
     ]
    },
    {
     "name": "stderr",
     "output_type": "stream",
     "text": [
      "\r",
      "Iterations:  82%|███████████████████████████▏     | 247/300 [05:01<01:09,  1.31s/it]"
     ]
    },
    {
     "name": "stdout",
     "output_type": "stream",
     "text": [
      "Epoch:  246\n",
      "t_loss:  0.15909957505908667 , v_loss:  1.1508714159329732\n",
      "t_acc:  0.9088079676314971 , v_acc:  0.6708074534161491\n",
      "t_recall:  0.8640061212445616 , v_recall:  0.6183783783783784\n",
      "t_prec:  0.9189001006637914 , v_prec:  0.6171122994652407\n",
      "t_f:  0.885323427113283 , v_f:  0.6177142601137942\n",
      "////////\n"
     ]
    },
    {
     "name": "stderr",
     "output_type": "stream",
     "text": [
      "\r",
      "Iterations:  83%|███████████████████████████▎     | 248/300 [05:02<01:06,  1.27s/it]"
     ]
    },
    {
     "name": "stdout",
     "output_type": "stream",
     "text": [
      "Epoch  247 , loss 0.14765180486674404\n",
      "Epoch  248 , loss 0.1503296915953066\n"
     ]
    },
    {
     "name": "stderr",
     "output_type": "stream",
     "text": [
      "\r",
      "Iterations:  83%|███████████████████████████▍     | 249/300 [05:03<01:08,  1.35s/it]"
     ]
    },
    {
     "name": "stdout",
     "output_type": "stream",
     "text": [
      "Epoch:  248\n",
      "t_loss:  0.1503296915953066 , v_loss:  1.1588560342788696\n",
      "t_acc:  0.9150326797385621 , v_acc:  0.6645962732919255\n",
      "t_recall:  0.8742310701198173 , v_recall:  0.6138738738738738\n",
      "t_prec:  0.9233956621387445 , v_prec:  0.6115031757233592\n",
      "t_f:  0.8938977113015305 , v_f:  0.6125668449197861\n",
      "////////\n"
     ]
    },
    {
     "name": "stderr",
     "output_type": "stream",
     "text": [
      "\r",
      "Iterations:  83%|███████████████████████████▌     | 250/300 [05:05<01:03,  1.28s/it]"
     ]
    },
    {
     "name": "stdout",
     "output_type": "stream",
     "text": [
      "Epoch  249 , loss 0.1416424745145966\n",
      "Epoch  250 , loss 0.14161953739091462\n"
     ]
    },
    {
     "name": "stderr",
     "output_type": "stream",
     "text": [
      "\r",
      "Iterations:  84%|███████████████████████████▌     | 251/300 [05:06<01:05,  1.35s/it]"
     ]
    },
    {
     "name": "stdout",
     "output_type": "stream",
     "text": [
      "Epoch:  250\n",
      "t_loss:  0.14161953739091462 , v_loss:  1.2054218252499898\n",
      "t_acc:  0.9184562713974479 , v_acc:  0.6708074534161491\n",
      "t_recall:  0.8815799947845898 , v_recall:  0.6238738738738738\n",
      "t_prec:  0.9237001507719442 , v_prec:  0.6201083158630328\n",
      "t_f:  0.8989725468433766 , v_f:  0.6217138803918961\n",
      "////////\n"
     ]
    },
    {
     "name": "stderr",
     "output_type": "stream",
     "text": [
      "\r",
      "Iterations:  84%|███████████████████████████▋     | 252/300 [05:07<00:59,  1.23s/it]"
     ]
    },
    {
     "name": "stdout",
     "output_type": "stream",
     "text": [
      "Epoch  251 , loss 0.14305846247018553\n",
      "Epoch  252 , loss 0.1588184848866042\n"
     ]
    },
    {
     "name": "stderr",
     "output_type": "stream",
     "text": [
      "\r",
      "Iterations:  84%|███████████████████████████▊     | 253/300 [05:08<01:00,  1.28s/it]"
     ]
    },
    {
     "name": "stdout",
     "output_type": "stream",
     "text": [
      "Epoch:  252\n",
      "t_loss:  0.1588184848866042 , v_loss:  1.2136553923288982\n",
      "t_acc:  0.9128540305010894 , v_acc:  0.6770186335403726\n",
      "t_recall:  0.8718024732023991 , v_recall:  0.6338738738738738\n",
      "t_prec:  0.9202977624375395 , v_prec:  0.6285912080304603\n",
      "t_f:  0.8912148664793202 , v_f:  0.6307339449541285\n",
      "////////\n"
     ]
    },
    {
     "name": "stderr",
     "output_type": "stream",
     "text": [
      "\r",
      "Iterations:  85%|███████████████████████████▉     | 254/300 [05:09<00:52,  1.15s/it]"
     ]
    },
    {
     "name": "stdout",
     "output_type": "stream",
     "text": [
      "Epoch  253 , loss 0.1533913130269331\n",
      "Epoch  254 , loss 0.1453041443783863\n"
     ]
    },
    {
     "name": "stderr",
     "output_type": "stream",
     "text": [
      "\r",
      "Iterations:  85%|████████████████████████████     | 255/300 [05:11<00:54,  1.22s/it]"
     ]
    },
    {
     "name": "stdout",
     "output_type": "stream",
     "text": [
      "Epoch:  254\n",
      "t_loss:  0.1453041443783863 , v_loss:  1.2129451632499695\n",
      "t_acc:  0.9215686274509803 , v_acc:  0.6894409937888198\n",
      "t_recall:  0.8855423340332963 , v_recall:  0.6483783783783784\n",
      "t_prec:  0.9274211299908403 , v_prec:  0.6425233644859814\n",
      "t_f:  0.9028942846369576 , v_f:  0.6449364855328159\n",
      "////////\n"
     ]
    },
    {
     "name": "stderr",
     "output_type": "stream",
     "text": [
      "\r",
      "Iterations:  85%|████████████████████████████▏    | 256/300 [05:12<00:49,  1.12s/it]"
     ]
    },
    {
     "name": "stdout",
     "output_type": "stream",
     "text": [
      "Epoch  255 , loss 0.13855408212425663\n",
      "Epoch  256 , loss 0.13631681798427714\n"
     ]
    },
    {
     "name": "stderr",
     "output_type": "stream",
     "text": [
      "\r",
      "Iterations:  86%|████████████████████████████▎    | 257/300 [05:13<00:51,  1.21s/it]"
     ]
    },
    {
     "name": "stdout",
     "output_type": "stream",
     "text": [
      "Epoch:  256\n",
      "t_loss:  0.13631681798427714 , v_loss:  1.2613424857457478\n",
      "t_acc:  0.9225023342670402 , v_acc:  0.6708074534161491\n",
      "t_recall:  0.8847758059867419 , v_recall:  0.6293693693693694\n",
      "t_prec:  0.931044741697417 , v_prec:  0.623156089193825\n",
      "t_f:  0.9036249207201054 , v_f:  0.6254992319508449\n",
      "////////\n"
     ]
    },
    {
     "name": "stderr",
     "output_type": "stream",
     "text": [
      "\r",
      "Iterations:  86%|████████████████████████████▍    | 258/300 [05:14<00:47,  1.14s/it]"
     ]
    },
    {
     "name": "stdout",
     "output_type": "stream",
     "text": [
      "Epoch  257 , loss 0.133572275585988\n",
      "Epoch  258 , loss 0.13922154918020846\n"
     ]
    },
    {
     "name": "stderr",
     "output_type": "stream",
     "text": [
      "\r",
      "Iterations:  86%|████████████████████████████▍    | 259/300 [05:15<00:49,  1.22s/it]"
     ]
    },
    {
     "name": "stdout",
     "output_type": "stream",
     "text": [
      "Epoch:  258\n",
      "t_loss:  0.13922154918020846 , v_loss:  1.2577697237332661\n",
      "t_acc:  0.9197012138188608 , v_acc:  0.6645962732919255\n",
      "t_recall:  0.8787369100067252 , v_recall:  0.6303603603603604\n",
      "t_prec:  0.9310202188176516 , v_prec:  0.621108135252762\n",
      "t_f:  0.8994828109706352 , v_f:  0.6238317757009346\n",
      "////////\n"
     ]
    },
    {
     "name": "stderr",
     "output_type": "stream",
     "text": [
      "\r",
      "Iterations:  87%|████████████████████████████▌    | 260/300 [05:16<00:46,  1.16s/it]"
     ]
    },
    {
     "name": "stdout",
     "output_type": "stream",
     "text": [
      "Epoch  259 , loss 0.13975241641495742\n",
      "Epoch  260 , loss 0.13161760210698725\n"
     ]
    },
    {
     "name": "stderr",
     "output_type": "stream",
     "text": [
      "\r",
      "Iterations:  87%|████████████████████████████▋    | 261/300 [05:18<00:48,  1.25s/it]"
     ]
    },
    {
     "name": "stdout",
     "output_type": "stream",
     "text": [
      "Epoch:  260\n",
      "t_loss:  0.13161760210698725 , v_loss:  1.2823853691418965\n",
      "t_acc:  0.9315281668222845 , v_acc:  0.6832298136645962\n",
      "t_recall:  0.8975892452752501 , v_recall:  0.6493693693693694\n",
      "t_prec:  0.9400806672135631 , v_prec:  0.6398448043184886\n",
      "t_f:  0.915282392026578 , v_f:  0.6430775918278635\n",
      "////////\n"
     ]
    },
    {
     "name": "stderr",
     "output_type": "stream",
     "text": [
      "\r",
      "Iterations:  87%|████████████████████████████▊    | 262/300 [05:19<00:43,  1.15s/it]"
     ]
    },
    {
     "name": "stdout",
     "output_type": "stream",
     "text": [
      "Epoch  261 , loss 0.13515637734649227\n",
      "Epoch  262 , loss 0.13775003117089177\n"
     ]
    },
    {
     "name": "stderr",
     "output_type": "stream",
     "text": [
      "\r",
      "Iterations:  88%|████████████████████████████▉    | 263/300 [05:20<00:45,  1.23s/it]"
     ]
    },
    {
     "name": "stdout",
     "output_type": "stream",
     "text": [
      "Epoch:  262\n",
      "t_loss:  0.13775003117089177 , v_loss:  1.285107970237732\n",
      "t_acc:  0.9287270463741052 , v_acc:  0.6770186335403726\n",
      "t_recall:  0.8981636266315313 , v_recall:  0.6393693693693694\n",
      "t_prec:  0.9316860854426141 , v_prec:  0.631547619047619\n",
      "t_f:  0.9126048569605139 , v_f:  0.6343466107617051\n",
      "////////\n"
     ]
    },
    {
     "name": "stderr",
     "output_type": "stream",
     "text": [
      "\r",
      "Iterations:  88%|█████████████████████████████    | 264/300 [05:21<00:40,  1.13s/it]"
     ]
    },
    {
     "name": "stdout",
     "output_type": "stream",
     "text": [
      "Epoch  263 , loss 0.13350500078762279\n",
      "Epoch  264 , loss 0.1214988226545792\n"
     ]
    },
    {
     "name": "stderr",
     "output_type": "stream",
     "text": [
      "\r",
      "Iterations:  88%|█████████████████████████████▏   | 265/300 [05:22<00:43,  1.23s/it]"
     ]
    },
    {
     "name": "stdout",
     "output_type": "stream",
     "text": [
      "Epoch:  264\n",
      "t_loss:  0.1214988226545792 , v_loss:  1.277253230412801\n",
      "t_acc:  0.9318394024276377 , v_acc:  0.6583850931677019\n",
      "t_recall:  0.9006882968940859 , v_recall:  0.6093693693693694\n",
      "t_prec:  0.9370437255052639 , v_prec:  0.6060447239692524\n",
      "t_f:  0.9162008259074114 , v_f:  0.6074389324821563\n",
      "////////\n"
     ]
    },
    {
     "name": "stderr",
     "output_type": "stream",
     "text": [
      "\r",
      "Iterations:  89%|█████████████████████████████▎   | 266/300 [05:23<00:38,  1.13s/it]"
     ]
    },
    {
     "name": "stdout",
     "output_type": "stream",
     "text": [
      "Epoch  265 , loss 0.12824764913495848\n",
      "Epoch  266 , loss 0.12627728882373548\n"
     ]
    },
    {
     "name": "stderr",
     "output_type": "stream",
     "text": [
      "\r",
      "Iterations:  89%|█████████████████████████████▎   | 267/300 [05:25<00:42,  1.28s/it]"
     ]
    },
    {
     "name": "stdout",
     "output_type": "stream",
     "text": [
      "Epoch:  266\n",
      "t_loss:  0.12627728882373548 , v_loss:  1.301383912563324\n",
      "t_acc:  0.9312169312169312 , v_acc:  0.6956521739130435\n",
      "t_recall:  0.9022536061816335 , v_recall:  0.6583783783783784\n",
      "t_prec:  0.933548482532482 , v_prec:  0.6507718696397942\n",
      "t_f:  0.9158779455241302 , v_f:  0.6537634408602151\n",
      "////////\n"
     ]
    },
    {
     "name": "stderr",
     "output_type": "stream",
     "text": [
      "\r",
      "Iterations:  89%|█████████████████████████████▍   | 268/300 [05:26<00:36,  1.15s/it]"
     ]
    },
    {
     "name": "stdout",
     "output_type": "stream",
     "text": [
      "Epoch  267 , loss 0.12010971018496681\n",
      "Epoch  268 , loss 0.12019349042983617\n"
     ]
    },
    {
     "name": "stderr",
     "output_type": "stream",
     "text": [
      "\r",
      "Iterations:  90%|█████████████████████████████▌   | 269/300 [05:28<00:40,  1.31s/it]"
     ]
    },
    {
     "name": "stdout",
     "output_type": "stream",
     "text": [
      "Epoch:  268\n",
      "t_loss:  0.12019349042983617 , v_loss:  1.325090487798055\n",
      "t_acc:  0.933395580454404 , v_acc:  0.6832298136645962\n",
      "t_recall:  0.9006567299378267 , v_recall:  0.6493693693693694\n",
      "t_prec:  0.9413959374744845 , v_prec:  0.6398448043184886\n",
      "t_f:  0.917758936952609 , v_f:  0.6430775918278635\n",
      "////////\n"
     ]
    },
    {
     "name": "stderr",
     "output_type": "stream",
     "text": [
      "\r",
      "Iterations:  90%|█████████████████████████████▋   | 270/300 [05:28<00:35,  1.18s/it]"
     ]
    },
    {
     "name": "stdout",
     "output_type": "stream",
     "text": [
      "Epoch  269 , loss 0.12923026201771756\n",
      "Epoch  270 , loss 0.11735246695724189\n"
     ]
    },
    {
     "name": "stderr",
     "output_type": "stream",
     "text": [
      "\r",
      "Iterations:  90%|█████████████████████████████▊   | 271/300 [05:30<00:37,  1.29s/it]"
     ]
    },
    {
     "name": "stdout",
     "output_type": "stream",
     "text": [
      "Epoch:  270\n",
      "t_loss:  0.11735246695724189 , v_loss:  1.369899034500122\n",
      "t_acc:  0.9399315281668222 , v_acc:  0.6708074534161491\n",
      "t_recall:  0.9122555276485362 , v_recall:  0.6238738738738738\n",
      "t_prec:  0.944981956197113 , v_prec:  0.6201083158630328\n",
      "t_f:  0.9264881139727104 , v_f:  0.6217138803918961\n",
      "////////\n"
     ]
    },
    {
     "name": "stderr",
     "output_type": "stream",
     "text": [
      "\r",
      "Iterations:  91%|█████████████████████████████▉   | 272/300 [05:31<00:32,  1.17s/it]"
     ]
    },
    {
     "name": "stdout",
     "output_type": "stream",
     "text": [
      "Epoch  271 , loss 0.12378926071174004\n",
      "Epoch  272 , loss 0.12427023104300686\n"
     ]
    },
    {
     "name": "stderr",
     "output_type": "stream",
     "text": [
      "\r",
      "Iterations:  91%|██████████████████████████████   | 273/300 [05:32<00:33,  1.24s/it]"
     ]
    },
    {
     "name": "stdout",
     "output_type": "stream",
     "text": [
      "Epoch:  272\n",
      "t_loss:  0.12427023104300686 , v_loss:  1.3754493196805317\n",
      "t_acc:  0.933395580454404 , v_acc:  0.6645962732919255\n",
      "t_recall:  0.9032445341128998 , v_recall:  0.6248648648648649\n",
      "t_prec:  0.9381767095584945 , v_prec:  0.6178571428571429\n",
      "t_f:  0.9182489406326242 , v_f:  0.6202830188679245\n",
      "////////\n"
     ]
    },
    {
     "name": "stderr",
     "output_type": "stream",
     "text": [
      "\r",
      "Iterations:  91%|██████████████████████████████▏  | 274/300 [05:33<00:29,  1.13s/it]"
     ]
    },
    {
     "name": "stdout",
     "output_type": "stream",
     "text": [
      "Epoch  273 , loss 0.10850976524399776\n",
      "Epoch  274 , loss 0.11540719282393362\n"
     ]
    },
    {
     "name": "stderr",
     "output_type": "stream",
     "text": [
      "\r",
      "Iterations:  92%|██████████████████████████████▎  | 275/300 [05:35<00:30,  1.21s/it]"
     ]
    },
    {
     "name": "stdout",
     "output_type": "stream",
     "text": [
      "Epoch:  274\n",
      "t_loss:  0.11540719282393362 , v_loss:  1.4018768668174744\n",
      "t_acc:  0.9368191721132898 , v_acc:  0.6583850931677019\n",
      "t_recall:  0.9074305870081387 , v_recall:  0.6148648648648649\n",
      "t_prec:  0.9423937449082997 , v_prec:  0.6093481989708405\n",
      "t_f:  0.9224765836111128 , v_f:  0.6113671274961597\n",
      "////////\n"
     ]
    },
    {
     "name": "stderr",
     "output_type": "stream",
     "text": [
      "\r",
      "Iterations:  92%|██████████████████████████████▎  | 276/300 [05:35<00:26,  1.12s/it]"
     ]
    },
    {
     "name": "stdout",
     "output_type": "stream",
     "text": [
      "Epoch  275 , loss 0.11888190782537647\n",
      "Epoch  276 , loss 0.11002290657922334\n"
     ]
    },
    {
     "name": "stderr",
     "output_type": "stream",
     "text": [
      "\r",
      "Iterations:  92%|██████████████████████████████▍  | 277/300 [05:37<00:27,  1.21s/it]"
     ]
    },
    {
     "name": "stdout",
     "output_type": "stream",
     "text": [
      "Epoch:  276\n",
      "t_loss:  0.11002290657922334 , v_loss:  1.4422888159751892\n",
      "t_acc:  0.9399315281668222 , v_acc:  0.6583850931677019\n",
      "t_recall:  0.913693196634688 , v_recall:  0.6148648648648649\n",
      "t_prec:  0.9432918178600527 , v_prec:  0.6093481989708405\n",
      "t_f:  0.9267259475594163 , v_f:  0.6113671274961597\n",
      "////////\n"
     ]
    },
    {
     "name": "stderr",
     "output_type": "stream",
     "text": [
      "\r",
      "Iterations:  93%|██████████████████████████████▌  | 278/300 [05:38<00:25,  1.14s/it]"
     ]
    },
    {
     "name": "stdout",
     "output_type": "stream",
     "text": [
      "Epoch  277 , loss 0.11630728848132432\n",
      "Epoch  278 , loss 0.11609654705606255\n"
     ]
    },
    {
     "name": "stderr",
     "output_type": "stream",
     "text": [
      "\r",
      "Iterations:  93%|██████████████████████████████▋  | 279/300 [05:39<00:26,  1.25s/it]"
     ]
    },
    {
     "name": "stdout",
     "output_type": "stream",
     "text": [
      "Epoch:  278\n",
      "t_loss:  0.11609654705606255 , v_loss:  1.4534072875976562\n",
      "t_acc:  0.938375350140056 , v_acc:  0.6708074534161491\n",
      "t_recall:  0.9085491552408009 , v_recall:  0.6238738738738738\n",
      "t_prec:  0.945280525748933 , v_prec:  0.6201083158630328\n",
      "t_f:  0.9242613933996857 , v_f:  0.6217138803918961\n",
      "////////\n"
     ]
    },
    {
     "name": "stderr",
     "output_type": "stream",
     "text": [
      "\r",
      "Iterations:  93%|██████████████████████████████▊  | 280/300 [05:40<00:23,  1.18s/it]"
     ]
    },
    {
     "name": "stdout",
     "output_type": "stream",
     "text": [
      "Epoch  279 , loss 0.1068813477953275\n",
      "Epoch  280 , loss 0.10592400640541431\n"
     ]
    },
    {
     "name": "stderr",
     "output_type": "stream",
     "text": [
      "\r",
      "Iterations:  94%|██████████████████████████████▉  | 281/300 [05:42<00:24,  1.30s/it]"
     ]
    },
    {
     "name": "stdout",
     "output_type": "stream",
     "text": [
      "Epoch:  280\n",
      "t_loss:  0.10592400640541431 , v_loss:  1.4503671725591023\n",
      "t_acc:  0.9417989417989417 , v_acc:  0.6583850931677019\n",
      "t_recall:  0.9156105461083432 , v_recall:  0.6093693693693694\n",
      "t_prec:  0.9459904483989678 , v_prec:  0.6060447239692524\n",
      "t_f:  0.9289580631807859 , v_f:  0.6074389324821563\n",
      "////////\n"
     ]
    },
    {
     "name": "stderr",
     "output_type": "stream",
     "text": [
      "\r",
      "Iterations:  94%|███████████████████████████████  | 282/300 [05:43<00:22,  1.24s/it]"
     ]
    },
    {
     "name": "stdout",
     "output_type": "stream",
     "text": [
      "Epoch  281 , loss 0.10168964284307816\n",
      "Epoch  282 , loss 0.11477368083946846\n"
     ]
    },
    {
     "name": "stderr",
     "output_type": "stream",
     "text": [
      "\r",
      "Iterations:  94%|███████████████████████████████▏ | 283/300 [05:45<00:22,  1.33s/it]"
     ]
    },
    {
     "name": "stdout",
     "output_type": "stream",
     "text": [
      "Epoch:  282\n",
      "t_loss:  0.11477368083946846 , v_loss:  1.492464284102122\n",
      "t_acc:  0.9461562402738873 , v_acc:  0.639751552795031\n",
      "t_recall:  0.9198926723487189 , v_recall:  0.5903603603603603\n",
      "t_prec:  0.9525598481299771 , v_prec:  0.5867947386638975\n",
      "t_f:  0.9341487989849526 , v_f:  0.5881263232180665\n",
      "////////\n"
     ]
    },
    {
     "name": "stderr",
     "output_type": "stream",
     "text": [
      "\r",
      "Iterations:  95%|███████████████████████████████▏ | 284/300 [05:46<00:19,  1.23s/it]"
     ]
    },
    {
     "name": "stdout",
     "output_type": "stream",
     "text": [
      "Epoch  283 , loss 0.11092955830926989\n",
      "Epoch  284 , loss 0.10820356624967911\n"
     ]
    },
    {
     "name": "stderr",
     "output_type": "stream",
     "text": [
      "\r",
      "Iterations:  95%|███████████████████████████████▎ | 285/300 [05:47<00:19,  1.29s/it]"
     ]
    },
    {
     "name": "stdout",
     "output_type": "stream",
     "text": [
      "Epoch:  284\n",
      "t_loss:  0.10820356624967911 , v_loss:  1.4858008821805317\n",
      "t_acc:  0.9427326486150016 , v_acc:  0.6583850931677019\n",
      "t_recall:  0.9177193560340924 , v_recall:  0.6093693693693694\n",
      "t_prec:  0.9460033938839749 , v_prec:  0.6060447239692524\n",
      "t_f:  0.9302550773386337 , v_f:  0.6074389324821563\n",
      "////////\n"
     ]
    },
    {
     "name": "stderr",
     "output_type": "stream",
     "text": [
      "\r",
      "Iterations:  95%|███████████████████████████████▍ | 286/300 [05:48<00:16,  1.16s/it]"
     ]
    },
    {
     "name": "stdout",
     "output_type": "stream",
     "text": [
      "Epoch  285 , loss 0.10464055149578581\n",
      "Epoch  286 , loss 0.09976420142486983\n"
     ]
    },
    {
     "name": "stderr",
     "output_type": "stream",
     "text": [
      "\r",
      "Iterations:  96%|███████████████████████████████▌ | 287/300 [05:49<00:15,  1.21s/it]"
     ]
    },
    {
     "name": "stdout",
     "output_type": "stream",
     "text": [
      "Epoch:  286\n",
      "t_loss:  0.09976420142486983 , v_loss:  1.4703240593274434\n",
      "t_acc:  0.9495798319327731 , v_acc:  0.6583850931677019\n",
      "t_recall:  0.9232161238522667 , v_recall:  0.6148648648648649\n",
      "t_prec:  0.9578259320297537 , v_prec:  0.6093481989708405\n",
      "t_f:  0.9382352941176471 , v_f:  0.6113671274961597\n",
      "////////\n"
     ]
    },
    {
     "name": "stderr",
     "output_type": "stream",
     "text": [
      "\r",
      "Iterations:  96%|███████████████████████████████▋ | 288/300 [05:50<00:13,  1.14s/it]"
     ]
    },
    {
     "name": "stdout",
     "output_type": "stream",
     "text": [
      "Epoch  287 , loss 0.10429365757633657\n",
      "Epoch  288 , loss 0.09601925638522588\n"
     ]
    },
    {
     "name": "stderr",
     "output_type": "stream",
     "text": [
      "\r",
      "Iterations:  96%|███████████████████████████████▊ | 289/300 [05:52<00:13,  1.23s/it]"
     ]
    },
    {
     "name": "stdout",
     "output_type": "stream",
     "text": [
      "Epoch:  288\n",
      "t_loss:  0.09601925638522588 , v_loss:  1.5048828919728596\n",
      "t_acc:  0.9498910675381264 , v_acc:  0.6521739130434783\n",
      "t_recall:  0.9266027092683329 , v_recall:  0.6158558558558558\n",
      "t_prec:  0.954517139422866 , v_prec:  0.6076330766655507\n",
      "t_f:  0.9390317766248699 , v_f:  0.6098996192454136\n",
      "////////\n"
     ]
    },
    {
     "name": "stderr",
     "output_type": "stream",
     "text": [
      "\r",
      "Iterations:  97%|███████████████████████████████▉ | 290/300 [05:53<00:11,  1.20s/it]"
     ]
    },
    {
     "name": "stdout",
     "output_type": "stream",
     "text": [
      "Epoch  289 , loss 0.09970780352459234\n",
      "Epoch  290 , loss 0.09988091886043549\n"
     ]
    },
    {
     "name": "stderr",
     "output_type": "stream",
     "text": [
      "\r",
      "Iterations:  97%|████████████████████████████████ | 291/300 [05:54<00:11,  1.27s/it]"
     ]
    },
    {
     "name": "stdout",
     "output_type": "stream",
     "text": [
      "Epoch:  290\n",
      "t_loss:  0.09988091886043549 , v_loss:  1.5279963215192158\n",
      "t_acc:  0.9480236539060068 , v_acc:  0.6645962732919255\n",
      "t_recall:  0.9243978259974472 , v_recall:  0.6193693693693694\n",
      "t_prec:  0.9521679812593768 , v_prec:  0.6146590515749394\n",
      "t_f:  0.936759668921449 , v_f:  0.6165314043754411\n",
      "////////\n"
     ]
    },
    {
     "name": "stderr",
     "output_type": "stream",
     "text": [
      "\r",
      "Iterations:  97%|████████████████████████████████ | 292/300 [05:55<00:09,  1.21s/it]"
     ]
    },
    {
     "name": "stdout",
     "output_type": "stream",
     "text": [
      "Epoch  291 , loss 0.09601742021885573\n",
      "Epoch  292 , loss 0.10079236869134155\n"
     ]
    },
    {
     "name": "stderr",
     "output_type": "stream",
     "text": [
      "\r",
      "Iterations:  98%|████████████████████████████████▏| 293/300 [05:57<00:09,  1.30s/it]"
     ]
    },
    {
     "name": "stdout",
     "output_type": "stream",
     "text": [
      "Epoch:  292\n",
      "t_loss:  0.10079236869134155 , v_loss:  1.5315446853637695\n",
      "t_acc:  0.9505135387488328 , v_acc:  0.6521739130434783\n",
      "t_recall:  0.9307880759253921 , v_recall:  0.6048648648648649\n",
      "t_prec:  0.9514195107218364 , v_prec:  0.6007268951194185\n",
      "t_f:  0.940243498034014 , v_f:  0.6023288637967538\n",
      "////////\n"
     ]
    },
    {
     "name": "stderr",
     "output_type": "stream",
     "text": [
      "\r",
      "Iterations:  98%|████████████████████████████████▎| 294/300 [05:58<00:07,  1.19s/it]"
     ]
    },
    {
     "name": "stdout",
     "output_type": "stream",
     "text": [
      "Epoch  293 , loss 0.09167765420587624\n",
      "Epoch  294 , loss 0.08966514581412661\n"
     ]
    },
    {
     "name": "stderr",
     "output_type": "stream",
     "text": [
      "\r",
      "Iterations:  98%|████████████████████████████████▍| 295/300 [05:59<00:06,  1.29s/it]"
     ]
    },
    {
     "name": "stdout",
     "output_type": "stream",
     "text": [
      "Epoch:  294\n",
      "t_loss:  0.08966514581412661 , v_loss:  1.5966046055157979\n",
      "t_acc:  0.9570494864612512 , v_acc:  0.6583850931677019\n",
      "t_recall:  0.9383614004748768 , v_recall:  0.6148648648648649\n",
      "t_prec:  0.9596658130736926 , v_prec:  0.6093481989708405\n",
      "t_f:  0.9481196937218599 , v_f:  0.6113671274961597\n",
      "////////\n"
     ]
    },
    {
     "name": "stderr",
     "output_type": "stream",
     "text": [
      "\r",
      "Iterations:  99%|████████████████████████████████▌| 296/300 [06:00<00:04,  1.17s/it]"
     ]
    },
    {
     "name": "stdout",
     "output_type": "stream",
     "text": [
      "Epoch  295 , loss 0.09695143011562965\n",
      "Epoch  296 , loss 0.08566916350494413\n"
     ]
    },
    {
     "name": "stderr",
     "output_type": "stream",
     "text": [
      "\r",
      "Iterations:  99%|████████████████████████████████▋| 297/300 [06:02<00:03,  1.32s/it]"
     ]
    },
    {
     "name": "stdout",
     "output_type": "stream",
     "text": [
      "Epoch:  296\n",
      "t_loss:  0.08566916350494413 , v_loss:  1.5746590097745259\n",
      "t_acc:  0.9623404917522564 , v_acc:  0.6521739130434783\n",
      "t_recall:  0.9438897352493103 , v_recall:  0.6158558558558558\n",
      "t_prec:  0.9670468920581559 , v_prec:  0.6076330766655507\n",
      "t_f:  0.9544395517468689 , v_f:  0.6098996192454136\n",
      "////////\n"
     ]
    },
    {
     "name": "stderr",
     "output_type": "stream",
     "text": [
      "\r",
      "Iterations:  99%|████████████████████████████████▊| 298/300 [06:03<00:02,  1.18s/it]"
     ]
    },
    {
     "name": "stdout",
     "output_type": "stream",
     "text": [
      "Epoch  297 , loss 0.0883897317244726\n",
      "Epoch  298 , loss 0.10096014933843239\n"
     ]
    },
    {
     "name": "stderr",
     "output_type": "stream",
     "text": [
      "\r",
      "Iterations: 100%|████████████████████████████████▉| 299/300 [06:04<00:01,  1.29s/it]"
     ]
    },
    {
     "name": "stdout",
     "output_type": "stream",
     "text": [
      "Epoch:  298\n",
      "t_loss:  0.10096014933843239 , v_loss:  1.586048185825348\n",
      "t_acc:  0.9498910675381264 , v_acc:  0.6583850931677019\n",
      "t_recall:  0.930053114835097 , v_recall:  0.6148648648648649\n",
      "t_prec:  0.9506493506493506 , v_prec:  0.6093481989708405\n",
      "t_f:  0.9394918439212343 , v_f:  0.6113671274961597\n",
      "////////\n"
     ]
    },
    {
     "name": "stderr",
     "output_type": "stream",
     "text": [
      "Iterations: 100%|█████████████████████████████████| 300/300 [06:05<00:00,  1.22s/it]"
     ]
    },
    {
     "name": "stdout",
     "output_type": "stream",
     "text": [
      "Epoch  299 , loss 0.0819345496448816\n"
     ]
    },
    {
     "name": "stderr",
     "output_type": "stream",
     "text": [
      "\n"
     ]
    },
    {
     "name": "stdout",
     "output_type": "stream",
     "text": [
      "80 23\n",
      "\n",
      "c0_acc 0.7207207207207207 , c1_acc 0.46 , b_acc 0.5903603603603603\n"
     ]
    },
    {
     "name": "stderr",
     "output_type": "stream",
     "text": [
      "\r",
      "Iterations:   0%|                                           | 0/300 [00:00<?, ?it/s]"
     ]
    },
    {
     "name": "stdout",
     "output_type": "stream",
     "text": [
      "Epoch  0 , loss 0.6192549630707386\n"
     ]
    },
    {
     "name": "stderr",
     "output_type": "stream",
     "text": [
      "\r",
      "Iterations:   0%|                                   | 1/300 [00:01<06:43,  1.35s/it]"
     ]
    },
    {
     "name": "stdout",
     "output_type": "stream",
     "text": [
      "Epoch:  0\n",
      "t_loss:  0.6192549630707386 , v_loss:  0.6914958953857422\n",
      "t_acc:  0.611353711790393 , v_acc:  0.5714285714285714\n",
      "t_recall:  0.5131735797446242 , v_recall:  0.4987694831829368\n",
      "t_prec:  0.5151040291291049 , v_prec:  0.4987430869783811\n",
      "t_f:  0.5117566793925785 , v_f:  0.4986737400530504\n",
      "////////\n"
     ]
    },
    {
     "name": "stderr",
     "output_type": "stream",
     "text": [
      "\r",
      "Iterations:   1%|▏                                  | 2/300 [00:02<05:50,  1.18s/it]"
     ]
    },
    {
     "name": "stdout",
     "output_type": "stream",
     "text": [
      "Epoch  1 , loss 0.6004402567358578\n",
      "Epoch  2 , loss 0.5789835394597521\n"
     ]
    },
    {
     "name": "stderr",
     "output_type": "stream",
     "text": [
      "\r",
      "Iterations:   1%|▎                                  | 3/300 [00:03<06:16,  1.27s/it]"
     ]
    },
    {
     "name": "stdout",
     "output_type": "stream",
     "text": [
      "Epoch:  2\n",
      "t_loss:  0.5789835394597521 , v_loss:  0.6864502429962158\n",
      "t_acc:  0.6547099189020587 , v_acc:  0.6190476190476191\n",
      "t_recall:  0.5166097760001839 , v_recall:  0.5030352748154225\n",
      "t_prec:  0.5290245563974525 , v_prec:  0.5043560160113021\n",
      "t_f:  0.5010902363713425 , v_f:  0.49206349206349215\n",
      "////////\n"
     ]
    },
    {
     "name": "stderr",
     "output_type": "stream",
     "text": [
      "\r",
      "Iterations:   1%|▍                                  | 4/300 [00:04<06:06,  1.24s/it]"
     ]
    },
    {
     "name": "stdout",
     "output_type": "stream",
     "text": [
      "Epoch  3 , loss 0.563926080862681\n",
      "Epoch  4 , loss 0.5515325887530458\n"
     ]
    },
    {
     "name": "stderr",
     "output_type": "stream",
     "text": [
      "\r",
      "Iterations:   2%|▌                                  | 5/300 [00:06<06:36,  1.34s/it]"
     ]
    },
    {
     "name": "stdout",
     "output_type": "stream",
     "text": [
      "Epoch:  4\n",
      "t_loss:  0.5515325887530458 , v_loss:  0.6775520443916321\n",
      "t_acc:  0.6759201497192764 , v_acc:  0.6369047619047619\n",
      "t_recall:  0.5145272328149961 , v_recall:  0.4906480721903199\n",
      "t_prec:  0.5406855777352038 , v_prec:  0.4788888888888889\n",
      "t_f:  0.48028496506742413 , v_f:  0.45532819558862614\n",
      "////////\n"
     ]
    },
    {
     "name": "stderr",
     "output_type": "stream",
     "text": [
      "\r",
      "Iterations:   2%|▋                                  | 6/300 [00:07<05:56,  1.21s/it]"
     ]
    },
    {
     "name": "stdout",
     "output_type": "stream",
     "text": [
      "Epoch  5 , loss 0.53422444766643\n",
      "Epoch  6 , loss 0.5255427798804115\n"
     ]
    },
    {
     "name": "stderr",
     "output_type": "stream",
     "text": [
      "\r",
      "Iterations:   2%|▊                                  | 7/300 [00:09<06:33,  1.34s/it]"
     ]
    },
    {
     "name": "stdout",
     "output_type": "stream",
     "text": [
      "Epoch:  6\n",
      "t_loss:  0.5255427798804115 , v_loss:  0.6666160623232523\n",
      "t_acc:  0.6840299438552714 , v_acc:  0.6845238095238095\n",
      "t_recall:  0.5082285740555574 , v_recall:  0.5203445447087777\n",
      "t_prec:  0.5380823305135232 , v_prec:  0.596875\n",
      "t_f:  0.4554993396771938 , v_f:  0.469210134128167\n",
      "////////\n"
     ]
    },
    {
     "name": "stderr",
     "output_type": "stream",
     "text": [
      "\r",
      "Iterations:   3%|▉                                  | 8/300 [00:09<05:50,  1.20s/it]"
     ]
    },
    {
     "name": "stdout",
     "output_type": "stream",
     "text": [
      "Epoch  7 , loss 0.5182545675950891\n",
      "Epoch  8 , loss 0.5009313734138713\n"
     ]
    },
    {
     "name": "stderr",
     "output_type": "stream",
     "text": [
      "\r",
      "Iterations:   3%|█                                  | 9/300 [00:11<06:19,  1.30s/it]"
     ]
    },
    {
     "name": "stdout",
     "output_type": "stream",
     "text": [
      "Epoch:  8\n",
      "t_loss:  0.5009313734138713 , v_loss:  0.6584240794181824\n",
      "t_acc:  0.6883967560823456 , v_acc:  0.7023809523809523\n",
      "t_recall:  0.5047259478904481 , v_recall:  0.5283018867924528\n",
      "t_prec:  0.535141935130996 , v_prec:  0.8484848484848485\n",
      "t_f:  0.439254074160836 , v_f:  0.4642857142857143\n",
      "////////\n"
     ]
    },
    {
     "name": "stderr",
     "output_type": "stream",
     "text": [
      "\r",
      "Iterations:   3%|█▏                                | 10/300 [00:12<05:42,  1.18s/it]"
     ]
    },
    {
     "name": "stdout",
     "output_type": "stream",
     "text": [
      "Epoch  9 , loss 0.5054573153748232\n",
      "Epoch  10 , loss 0.48817922496328164\n"
     ]
    },
    {
     "name": "stderr",
     "output_type": "stream",
     "text": [
      "\r",
      "Iterations:   4%|█▏                                | 11/300 [00:13<06:10,  1.28s/it]"
     ]
    },
    {
     "name": "stdout",
     "output_type": "stream",
     "text": [
      "Epoch:  10\n",
      "t_loss:  0.48817922496328164 , v_loss:  0.6543998916943868\n",
      "t_acc:  0.6918278228321897 , v_acc:  0.6845238095238095\n",
      "t_recall:  0.5034380351457894 , v_recall:  0.5\n",
      "t_prec:  0.5416645774487028 , v_prec:  0.34226190476190477\n",
      "t_f:  0.4294962681190744 , v_f:  0.40636042402826855\n",
      "////////\n"
     ]
    },
    {
     "name": "stderr",
     "output_type": "stream",
     "text": [
      "\r",
      "Iterations:   4%|█▎                                | 12/300 [00:14<05:32,  1.16s/it]"
     ]
    },
    {
     "name": "stdout",
     "output_type": "stream",
     "text": [
      "Epoch  11 , loss 0.484236676903332\n",
      "Epoch  12 , loss 0.48899080239090265\n"
     ]
    },
    {
     "name": "stderr",
     "output_type": "stream",
     "text": [
      "\r",
      "Iterations:   4%|█▍                                | 13/300 [00:16<06:06,  1.28s/it]"
     ]
    },
    {
     "name": "stdout",
     "output_type": "stream",
     "text": [
      "Epoch:  12\n",
      "t_loss:  0.48899080239090265 , v_loss:  0.6532026628653208\n",
      "t_acc:  0.6930754834684966 , v_acc:  0.6845238095238095\n",
      "t_recall:  0.5002926134078084 , v_recall:  0.5\n",
      "t_prec:  0.5080037723986168 , v_prec:  0.34226190476190477\n",
      "t_f:  0.41709090909090907 , v_f:  0.40636042402826855\n",
      "////////\n"
     ]
    },
    {
     "name": "stderr",
     "output_type": "stream",
     "text": [
      "\r",
      "Iterations:   5%|█▌                                | 14/300 [00:17<05:30,  1.15s/it]"
     ]
    },
    {
     "name": "stdout",
     "output_type": "stream",
     "text": [
      "Epoch  13 , loss 0.47420202341734197\n",
      "Epoch  14 , loss 0.46757325121000703\n"
     ]
    },
    {
     "name": "stderr",
     "output_type": "stream",
     "text": [
      "\r",
      "Iterations:   5%|█▋                                | 15/300 [00:18<05:58,  1.26s/it]"
     ]
    },
    {
     "name": "stdout",
     "output_type": "stream",
     "text": [
      "Epoch:  14\n",
      "t_loss:  0.46757325121000703 , v_loss:  0.6532791753609976\n",
      "t_acc:  0.6971303805364941 , v_acc:  0.6845238095238095\n",
      "t_recall:  0.5046496339459137 , v_recall:  0.5\n",
      "t_prec:  0.6443867062585655 , v_prec:  0.34226190476190477\n",
      "t_f:  0.42338076093469695 , v_f:  0.40636042402826855\n",
      "////////\n"
     ]
    },
    {
     "name": "stderr",
     "output_type": "stream",
     "text": [
      "\r",
      "Iterations:   5%|█▊                                | 16/300 [00:19<05:21,  1.13s/it]"
     ]
    },
    {
     "name": "stdout",
     "output_type": "stream",
     "text": [
      "Epoch  15 , loss 0.47321583476721074\n",
      "Epoch  16 , loss 0.4575406169774486\n"
     ]
    },
    {
     "name": "stderr",
     "output_type": "stream",
     "text": [
      "\r",
      "Iterations:   6%|█▉                                | 17/300 [00:21<05:53,  1.25s/it]"
     ]
    },
    {
     "name": "stdout",
     "output_type": "stream",
     "text": [
      "Epoch:  16\n",
      "t_loss:  0.4575406169774486 , v_loss:  0.6543547213077545\n",
      "t_acc:  0.6940112289457268 , v_acc:  0.6845238095238095\n",
      "t_recall:  0.5003875461159191 , v_recall:  0.5\n",
      "t_prec:  0.5146905060644081 , v_prec:  0.34226190476190477\n",
      "t_f:  0.41552744093318295 , v_f:  0.40636042402826855\n",
      "////////\n"
     ]
    },
    {
     "name": "stderr",
     "output_type": "stream",
     "text": [
      "\r",
      "Iterations:   6%|██                                | 18/300 [00:21<05:21,  1.14s/it]"
     ]
    },
    {
     "name": "stdout",
     "output_type": "stream",
     "text": [
      "Epoch  17 , loss 0.4565484342621822\n",
      "Epoch  18 , loss 0.4563973581089693\n"
     ]
    },
    {
     "name": "stderr",
     "output_type": "stream",
     "text": [
      "\r",
      "Iterations:   6%|██▏                               | 19/300 [00:23<05:50,  1.25s/it]"
     ]
    },
    {
     "name": "stdout",
     "output_type": "stream",
     "text": [
      "Epoch:  18\n",
      "t_loss:  0.4563973581089693 , v_loss:  0.6555391152699789\n",
      "t_acc:  0.6952588895820336 , v_acc:  0.6845238095238095\n",
      "t_recall:  0.5012840051029204 , v_recall:  0.5\n",
      "t_prec:  0.5625 , v_prec:  0.34226190476190477\n",
      "t_f:  0.41598744216997335 , v_f:  0.40636042402826855\n",
      "////////\n"
     ]
    },
    {
     "name": "stderr",
     "output_type": "stream",
     "text": [
      "\r",
      "Iterations:   7%|██▎                               | 20/300 [00:24<05:20,  1.14s/it]"
     ]
    },
    {
     "name": "stdout",
     "output_type": "stream",
     "text": [
      "Epoch  19 , loss 0.44937269185103623\n",
      "Epoch  20 , loss 0.4483869268613703\n"
     ]
    },
    {
     "name": "stderr",
     "output_type": "stream",
     "text": [
      "\r",
      "Iterations:   7%|██▍                               | 21/300 [00:25<05:41,  1.22s/it]"
     ]
    },
    {
     "name": "stdout",
     "output_type": "stream",
     "text": [
      "Epoch:  20\n",
      "t_loss:  0.4483869268613703 , v_loss:  0.6566081444422404\n",
      "t_acc:  0.6943231441048034 , v_acc:  0.6845238095238095\n",
      "t_recall:  0.4997455435644588 , v_recall:  0.5\n",
      "t_prec:  0.4842509603072983 , v_prec:  0.34226190476190477\n",
      "t_f:  0.4127366619589102 , v_f:  0.40636042402826855\n",
      "////////\n"
     ]
    },
    {
     "name": "stderr",
     "output_type": "stream",
     "text": [
      "\r",
      "Iterations:   7%|██▍                               | 22/300 [00:26<05:21,  1.16s/it]"
     ]
    },
    {
     "name": "stdout",
     "output_type": "stream",
     "text": [
      "Epoch  21 , loss 0.44255688260583315\n",
      "Epoch  22 , loss 0.4463794050263424\n"
     ]
    },
    {
     "name": "stderr",
     "output_type": "stream",
     "text": [
      "\r",
      "Iterations:   8%|██▌                               | 23/300 [00:28<05:45,  1.25s/it]"
     ]
    },
    {
     "name": "stdout",
     "output_type": "stream",
     "text": [
      "Epoch:  22\n",
      "t_loss:  0.4463794050263424 , v_loss:  0.6590815583864847\n",
      "t_acc:  0.6965065502183406 , v_acc:  0.6845238095238095\n",
      "t_recall:  0.5018917583238516 , v_recall:  0.5\n",
      "t_prec:  0.6608427141963727 , v_prec:  0.34226190476190477\n",
      "t_f:  0.41547512351718013 , v_f:  0.40636042402826855\n",
      "////////\n"
     ]
    },
    {
     "name": "stderr",
     "output_type": "stream",
     "text": [
      "\r",
      "Iterations:   8%|██▋                               | 24/300 [00:29<05:21,  1.16s/it]"
     ]
    },
    {
     "name": "stdout",
     "output_type": "stream",
     "text": [
      "Epoch  23 , loss 0.4425138106533125\n",
      "Epoch  24 , loss 0.44662996542220024\n"
     ]
    },
    {
     "name": "stderr",
     "output_type": "stream",
     "text": [
      "\r",
      "Iterations:   8%|██▊                               | 25/300 [00:30<05:51,  1.28s/it]"
     ]
    },
    {
     "name": "stdout",
     "output_type": "stream",
     "text": [
      "Epoch:  24\n",
      "t_loss:  0.44662996542220024 , v_loss:  0.660031795501709\n",
      "t_acc:  0.6943231441048034 , v_acc:  0.6845238095238095\n",
      "t_recall:  0.4997455435644588 , v_recall:  0.5\n",
      "t_prec:  0.4842509603072983 , v_prec:  0.34226190476190477\n",
      "t_f:  0.4127366619589102 , v_f:  0.40636042402826855\n",
      "////////\n"
     ]
    },
    {
     "name": "stderr",
     "output_type": "stream",
     "text": [
      "\r",
      "Iterations:   9%|██▉                               | 26/300 [00:31<05:16,  1.15s/it]"
     ]
    },
    {
     "name": "stdout",
     "output_type": "stream",
     "text": [
      "Epoch  25 , loss 0.4421654758500118\n",
      "Epoch  26 , loss 0.43815360232895495\n"
     ]
    },
    {
     "name": "stderr",
     "output_type": "stream",
     "text": [
      "\r",
      "Iterations:   9%|███                               | 27/300 [00:33<05:50,  1.28s/it]"
     ]
    },
    {
     "name": "stdout",
     "output_type": "stream",
     "text": [
      "Epoch:  26\n",
      "t_loss:  0.43815360232895495 , v_loss:  0.6620176136493683\n",
      "t_acc:  0.6974422956955708 , v_acc:  0.6845238095238095\n",
      "t_recall:  0.5028528083301728 , v_recall:  0.5\n",
      "t_prec:  0.777117849327915 , v_prec:  0.34226190476190477\n",
      "t_f:  0.4167913792650771 , v_f:  0.40636042402826855\n",
      "////////\n"
     ]
    },
    {
     "name": "stderr",
     "output_type": "stream",
     "text": [
      "\r",
      "Iterations:   9%|███▏                              | 28/300 [00:34<05:16,  1.16s/it]"
     ]
    },
    {
     "name": "stdout",
     "output_type": "stream",
     "text": [
      "Epoch  27 , loss 0.4434614987934337\n",
      "Epoch  28 , loss 0.443573977432999\n"
     ]
    },
    {
     "name": "stderr",
     "output_type": "stream",
     "text": [
      "\r",
      "Iterations:  10%|███▎                              | 29/300 [00:35<05:51,  1.30s/it]"
     ]
    },
    {
     "name": "stdout",
     "output_type": "stream",
     "text": [
      "Epoch:  28\n",
      "t_loss:  0.443573977432999 , v_loss:  0.6623603701591492\n",
      "t_acc:  0.6958827199001871 , v_acc:  0.6845238095238095\n",
      "t_recall:  0.5005774115321404 , v_recall:  0.5\n",
      "t_prec:  0.5980637101811368 , v_prec:  0.34226190476190477\n",
      "t_f:  0.41231346966585436 , v_f:  0.40636042402826855\n",
      "////////\n"
     ]
    },
    {
     "name": "stderr",
     "output_type": "stream",
     "text": [
      "\r",
      "Iterations:  10%|███▍                              | 30/300 [00:36<05:14,  1.17s/it]"
     ]
    },
    {
     "name": "stdout",
     "output_type": "stream",
     "text": [
      "Epoch  29 , loss 0.43804312804166007\n",
      "Epoch  30 , loss 0.43747178362865075\n"
     ]
    },
    {
     "name": "stderr",
     "output_type": "stream",
     "text": [
      "\r",
      "Iterations:  10%|███▌                              | 31/300 [00:38<05:43,  1.28s/it]"
     ]
    },
    {
     "name": "stdout",
     "output_type": "stream",
     "text": [
      "Epoch:  30\n",
      "t_loss:  0.43747178362865075 , v_loss:  0.6627270579338074\n",
      "t_acc:  0.6949469744229569 , v_acc:  0.6845238095238095\n",
      "t_recall:  0.5004824788240297 , v_recall:  0.5\n",
      "t_prec:  0.5298620002845356 , v_prec:  0.34226190476190477\n",
      "t_f:  0.41393515856715724 , v_f:  0.40636042402826855\n",
      "////////\n"
     ]
    },
    {
     "name": "stderr",
     "output_type": "stream",
     "text": [
      "\r",
      "Iterations:  11%|███▋                              | 32/300 [00:38<05:07,  1.15s/it]"
     ]
    },
    {
     "name": "stdout",
     "output_type": "stream",
     "text": [
      "Epoch  31 , loss 0.4367921001770917\n",
      "Epoch  32 , loss 0.4339272970078038\n"
     ]
    },
    {
     "name": "stderr",
     "output_type": "stream",
     "text": [
      "\r",
      "Iterations:  11%|███▋                              | 33/300 [00:40<05:28,  1.23s/it]"
     ]
    },
    {
     "name": "stdout",
     "output_type": "stream",
     "text": [
      "Epoch:  32\n",
      "t_loss:  0.4339272970078038 , v_loss:  0.6632525821526846\n",
      "t_acc:  0.6968184653774173 , v_acc:  0.6845238095238095\n",
      "t_recall:  0.5026932846027422 , v_recall:  0.5\n",
      "t_prec:  0.666695120216247 , v_prec:  0.34226190476190477\n",
      "t_f:  0.41753064839189874 , v_f:  0.40636042402826855\n",
      "////////\n"
     ]
    },
    {
     "name": "stderr",
     "output_type": "stream",
     "text": [
      "\r",
      "Iterations:  11%|███▊                              | 34/300 [00:41<04:57,  1.12s/it]"
     ]
    },
    {
     "name": "stdout",
     "output_type": "stream",
     "text": [
      "Epoch  33 , loss 0.43340739607810974\n",
      "Epoch  34 , loss 0.4370150922560224\n"
     ]
    },
    {
     "name": "stderr",
     "output_type": "stream",
     "text": [
      "\r",
      "Iterations:  12%|███▉                              | 35/300 [00:42<05:22,  1.22s/it]"
     ]
    },
    {
     "name": "stdout",
     "output_type": "stream",
     "text": [
      "Epoch:  34\n",
      "t_loss:  0.4370150922560224 , v_loss:  0.665041426817576\n",
      "t_acc:  0.6965065502183406 , v_acc:  0.6845238095238095\n",
      "t_recall:  0.5021804640899217 , v_recall:  0.5\n",
      "t_prec:  0.6484042553191489 , v_prec:  0.34226190476190477\n",
      "t_f:  0.41644699981947747 , v_f:  0.40636042402826855\n",
      "////////\n"
     ]
    },
    {
     "name": "stderr",
     "output_type": "stream",
     "text": [
      "\r",
      "Iterations:  12%|████                              | 36/300 [00:43<05:03,  1.15s/it]"
     ]
    },
    {
     "name": "stdout",
     "output_type": "stream",
     "text": [
      "Epoch  35 , loss 0.43558503891907485\n",
      "Epoch  36 , loss 0.43513577942754705\n"
     ]
    },
    {
     "name": "stderr",
     "output_type": "stream",
     "text": [
      "\r",
      "Iterations:  12%|████▏                             | 37/300 [00:45<05:37,  1.28s/it]"
     ]
    },
    {
     "name": "stdout",
     "output_type": "stream",
     "text": [
      "Epoch:  36\n",
      "t_loss:  0.43513577942754705 , v_loss:  0.6650692224502563\n",
      "t_acc:  0.6952588895820336 , v_acc:  0.6845238095238095\n",
      "t_recall:  0.5007065935707801 , v_recall:  0.5\n",
      "t_prec:  0.5480913642052565 , v_prec:  0.34226190476190477\n",
      "t_f:  0.4140480152349738 , v_f:  0.40636042402826855\n",
      "////////\n"
     ]
    },
    {
     "name": "stderr",
     "output_type": "stream",
     "text": [
      "\r",
      "Iterations:  13%|████▎                             | 38/300 [00:46<05:13,  1.20s/it]"
     ]
    },
    {
     "name": "stdout",
     "output_type": "stream",
     "text": [
      "Epoch  37 , loss 0.43175270627526674\n",
      "Epoch  38 , loss 0.44576481159995585\n"
     ]
    },
    {
     "name": "stderr",
     "output_type": "stream",
     "text": [
      "\r",
      "Iterations:  13%|████▍                             | 39/300 [00:47<05:40,  1.31s/it]"
     ]
    },
    {
     "name": "stdout",
     "output_type": "stream",
     "text": [
      "Epoch:  38\n",
      "t_loss:  0.44576481159995585 , v_loss:  0.6650702158610026\n",
      "t_acc:  0.6961946350592639 , v_acc:  0.6845238095238095\n",
      "t_recall:  0.5016676435771013 , v_recall:  0.5\n",
      "t_prec:  0.6260730545997985 , v_prec:  0.34226190476190477\n",
      "t_f:  0.4153613302897951 , v_f:  0.40636042402826855\n",
      "////////\n"
     ]
    },
    {
     "name": "stderr",
     "output_type": "stream",
     "text": [
      "\r",
      "Iterations:  13%|████▌                             | 40/300 [00:48<05:21,  1.24s/it]"
     ]
    },
    {
     "name": "stdout",
     "output_type": "stream",
     "text": [
      "Epoch  39 , loss 0.4240820253012227\n",
      "Epoch  40 , loss 0.4352073803836224\n"
     ]
    },
    {
     "name": "stderr",
     "output_type": "stream",
     "text": [
      "\r",
      "Iterations:  14%|████▋                             | 41/300 [00:50<05:52,  1.36s/it]"
     ]
    },
    {
     "name": "stdout",
     "output_type": "stream",
     "text": [
      "Epoch:  40\n",
      "t_loss:  0.4352073803836224 , v_loss:  0.6671548883120219\n",
      "t_acc:  0.6968184653774173 , v_acc:  0.6845238095238095\n",
      "t_recall:  0.5029819903688124 , v_recall:  0.5\n",
      "t_prec:  0.656267315521935 , v_prec:  0.34226190476190477\n",
      "t_f:  0.41849539608039843 , v_f:  0.40636042402826855\n",
      "////////\n"
     ]
    },
    {
     "name": "stderr",
     "output_type": "stream",
     "text": [
      "\r",
      "Iterations:  14%|████▊                             | 42/300 [00:51<05:26,  1.27s/it]"
     ]
    },
    {
     "name": "stdout",
     "output_type": "stream",
     "text": [
      "Epoch  41 , loss 0.42174048751008275\n",
      "Epoch  42 , loss 0.4306769172350566\n"
     ]
    },
    {
     "name": "stderr",
     "output_type": "stream",
     "text": [
      "\r",
      "Iterations:  14%|████▊                             | 43/300 [00:53<05:42,  1.33s/it]"
     ]
    },
    {
     "name": "stdout",
     "output_type": "stream",
     "text": [
      "Epoch:  42\n",
      "t_loss:  0.4306769172350566 , v_loss:  0.6680823663870493\n",
      "t_acc:  0.6968184653774173 , v_acc:  0.6845238095238095\n",
      "t_recall:  0.5026932846027422 , v_recall:  0.5\n",
      "t_prec:  0.666695120216247 , v_prec:  0.34226190476190477\n",
      "t_f:  0.41753064839189874 , v_f:  0.40636042402826855\n",
      "////////\n"
     ]
    },
    {
     "name": "stderr",
     "output_type": "stream",
     "text": [
      "\r",
      "Iterations:  15%|████▉                             | 44/300 [00:53<05:06,  1.20s/it]"
     ]
    },
    {
     "name": "stdout",
     "output_type": "stream",
     "text": [
      "Epoch  43 , loss 0.4231066779763091\n",
      "Epoch  44 , loss 0.42067428722101097\n"
     ]
    },
    {
     "name": "stderr",
     "output_type": "stream",
     "text": [
      "\r",
      "Iterations:  15%|█████                             | 45/300 [00:55<05:20,  1.26s/it]"
     ]
    },
    {
     "name": "stdout",
     "output_type": "stream",
     "text": [
      "Epoch:  44\n",
      "t_loss:  0.42067428722101097 , v_loss:  0.6667624811331431\n",
      "t_acc:  0.7002495321272614 , v_acc:  0.6845238095238095\n",
      "t_recall:  0.5086230160098381 , v_recall:  0.5\n",
      "t_prec:  0.7456133459040435 , v_prec:  0.34226190476190477\n",
      "t_f:  0.4302512377516996 , v_f:  0.40636042402826855\n",
      "////////\n"
     ]
    },
    {
     "name": "stderr",
     "output_type": "stream",
     "text": [
      "\r",
      "Iterations:  15%|█████▏                            | 46/300 [00:56<04:50,  1.14s/it]"
     ]
    },
    {
     "name": "stdout",
     "output_type": "stream",
     "text": [
      "Epoch  45 , loss 0.42335687723814275\n",
      "Epoch  46 , loss 0.42386501560024187\n"
     ]
    },
    {
     "name": "stderr",
     "output_type": "stream",
     "text": [
      "\r",
      "Iterations:  16%|█████▎                            | 47/300 [00:57<05:07,  1.21s/it]"
     ]
    },
    {
     "name": "stdout",
     "output_type": "stream",
     "text": [
      "Epoch:  46\n",
      "t_loss:  0.42386501560024187 , v_loss:  0.6656247774759928\n",
      "t_acc:  0.7002495321272614 , v_acc:  0.6845238095238095\n",
      "t_recall:  0.5080456044776976 , v_recall:  0.5\n",
      "t_prec:  0.7746547394852479 , v_prec:  0.34226190476190477\n",
      "t_f:  0.42838319342698356 , v_f:  0.40636042402826855\n",
      "////////\n"
     ]
    },
    {
     "name": "stderr",
     "output_type": "stream",
     "text": [
      "\r",
      "Iterations:  16%|█████▍                            | 48/300 [00:58<04:41,  1.12s/it]"
     ]
    },
    {
     "name": "stdout",
     "output_type": "stream",
     "text": [
      "Epoch  47 , loss 0.42687806019596025\n",
      "Epoch  48 , loss 0.43026940086308646\n"
     ]
    },
    {
     "name": "stderr",
     "output_type": "stream",
     "text": [
      "\r",
      "Iterations:  16%|█████▌                            | 49/300 [00:59<05:00,  1.20s/it]"
     ]
    },
    {
     "name": "stdout",
     "output_type": "stream",
     "text": [
      "Epoch:  48\n",
      "t_loss:  0.43026940086308646 , v_loss:  0.6647551357746124\n",
      "t_acc:  0.6974422956955708 , v_acc:  0.6845238095238095\n",
      "t_recall:  0.5060285717569447 , v_recall:  0.5\n",
      "t_prec:  0.6423322805075271 , v_prec:  0.34226190476190477\n",
      "t_f:  0.42725031825361276 , v_f:  0.40636042402826855\n",
      "////////\n"
     ]
    },
    {
     "name": "stderr",
     "output_type": "stream",
     "text": [
      "\r",
      "Iterations:  17%|█████▋                            | 50/300 [01:00<04:43,  1.13s/it]"
     ]
    },
    {
     "name": "stdout",
     "output_type": "stream",
     "text": [
      "Epoch  49 , loss 0.42052871514769163\n",
      "Epoch  50 , loss 0.41537625883139817\n"
     ]
    },
    {
     "name": "stderr",
     "output_type": "stream",
     "text": [
      "\r",
      "Iterations:  17%|█████▊                            | 51/300 [01:02<05:00,  1.21s/it]"
     ]
    },
    {
     "name": "stdout",
     "output_type": "stream",
     "text": [
      "Epoch:  50\n",
      "t_loss:  0.41537625883139817 , v_loss:  0.6623741686344147\n",
      "t_acc:  0.6993137866500312 , v_acc:  0.6845238095238095\n",
      "t_recall:  0.5082393775356572 , v_recall:  0.5\n",
      "t_prec:  0.6945285619701953 , v_prec:  0.34226190476190477\n",
      "t_f:  0.4307930997901883 , v_f:  0.40636042402826855\n",
      "////////\n"
     ]
    },
    {
     "name": "stderr",
     "output_type": "stream",
     "text": [
      "\r",
      "Iterations:  17%|█████▉                            | 52/300 [01:03<04:53,  1.18s/it]"
     ]
    },
    {
     "name": "stdout",
     "output_type": "stream",
     "text": [
      "Epoch  51 , loss 0.4164047621044458\n",
      "Epoch  52 , loss 0.41918600861932714\n"
     ]
    },
    {
     "name": "stderr",
     "output_type": "stream",
     "text": [
      "\r",
      "Iterations:  18%|██████                            | 53/300 [01:04<05:07,  1.25s/it]"
     ]
    },
    {
     "name": "stdout",
     "output_type": "stream",
     "text": [
      "Epoch:  52\n",
      "t_loss:  0.41918600861932714 , v_loss:  0.6617927849292755\n",
      "t_acc:  0.6990018714909545 , v_acc:  0.6845238095238095\n",
      "t_recall:  0.5077265570228368 , v_recall:  0.5\n",
      "t_prec:  0.6888766519823788 , v_prec:  0.34226190476190477\n",
      "t_f:  0.42973999060315815 , v_f:  0.40636042402826855\n",
      "////////\n"
     ]
    },
    {
     "name": "stderr",
     "output_type": "stream",
     "text": [
      "\r",
      "Iterations:  18%|██████                            | 54/300 [01:05<04:58,  1.22s/it]"
     ]
    },
    {
     "name": "stdout",
     "output_type": "stream",
     "text": [
      "Epoch  53 , loss 0.41544092519610537\n",
      "Epoch  54 , loss 0.4189916083625719\n"
     ]
    },
    {
     "name": "stderr",
     "output_type": "stream",
     "text": [
      "\r",
      "Iterations:  18%|██████▏                           | 55/300 [01:07<05:12,  1.27s/it]"
     ]
    },
    {
     "name": "stdout",
     "output_type": "stream",
     "text": [
      "Epoch:  54\n",
      "t_loss:  0.4189916083625719 , v_loss:  0.6629635095596313\n",
      "t_acc:  0.6986899563318777 , v_acc:  0.6845238095238095\n",
      "t_recall:  0.5077911480421565 , v_recall:  0.5\n",
      "t_prec:  0.6721869443738888 , v_prec:  0.34226190476190477\n",
      "t_f:  0.4305355436746888 , v_f:  0.40636042402826855\n",
      "////////\n"
     ]
    },
    {
     "name": "stderr",
     "output_type": "stream",
     "text": [
      "\r",
      "Iterations:  19%|██████▎                           | 56/300 [01:08<04:51,  1.19s/it]"
     ]
    },
    {
     "name": "stdout",
     "output_type": "stream",
     "text": [
      "Epoch  55 , loss 0.4173737121563332\n",
      "Epoch  56 , loss 0.4204401958222483\n"
     ]
    },
    {
     "name": "stderr",
     "output_type": "stream",
     "text": [
      "\r",
      "Iterations:  19%|██████▍                           | 57/300 [01:09<05:15,  1.30s/it]"
     ]
    },
    {
     "name": "stdout",
     "output_type": "stream",
     "text": [
      "Epoch:  56\n",
      "t_loss:  0.4204401958222483 , v_loss:  0.663889209429423\n",
      "t_acc:  0.6990018714909545 , v_acc:  0.6845238095238095\n",
      "t_recall:  0.5106136146835385 , v_recall:  0.5\n",
      "t_prec:  0.6523049926113573 , v_prec:  0.34226190476190477\n",
      "t_f:  0.4388137596824348 , v_f:  0.40636042402826855\n",
      "////////\n"
     ]
    },
    {
     "name": "stderr",
     "output_type": "stream",
     "text": [
      "\r",
      "Iterations:  19%|██████▌                           | 58/300 [01:10<04:45,  1.18s/it]"
     ]
    },
    {
     "name": "stdout",
     "output_type": "stream",
     "text": [
      "Epoch  57 , loss 0.41551892722354217\n",
      "Epoch  58 , loss 0.4179217511532353\n"
     ]
    },
    {
     "name": "stderr",
     "output_type": "stream",
     "text": [
      "\r",
      "Iterations:  20%|██████▋                           | 59/300 [01:12<05:14,  1.31s/it]"
     ]
    },
    {
     "name": "stdout",
     "output_type": "stream",
     "text": [
      "Epoch:  58\n",
      "t_loss:  0.4179217511532353 , v_loss:  0.6644499599933624\n",
      "t_acc:  0.7011852776044916 , v_acc:  0.6845238095238095\n",
      "t_recall:  0.5121824179107909 , v_recall:  0.5\n",
      "t_prec:  0.7042114591762031 , v_prec:  0.34226190476190477\n",
      "t_f:  0.4397738482282005 , v_f:  0.40636042402826855\n",
      "////////\n"
     ]
    },
    {
     "name": "stderr",
     "output_type": "stream",
     "text": [
      "\r",
      "Iterations:  20%|██████▊                           | 60/300 [01:13<04:44,  1.18s/it]"
     ]
    },
    {
     "name": "stdout",
     "output_type": "stream",
     "text": [
      "Epoch  59 , loss 0.41306619609103484\n",
      "Epoch  60 , loss 0.4163478776520374\n"
     ]
    },
    {
     "name": "stderr",
     "output_type": "stream",
     "text": [
      "\r",
      "Iterations:  20%|██████▉                           | 61/300 [01:14<05:05,  1.28s/it]"
     ]
    },
    {
     "name": "stdout",
     "output_type": "stream",
     "text": [
      "Epoch:  60\n",
      "t_loss:  0.4163478776520374 , v_loss:  0.6662896970907847\n",
      "t_acc:  0.6980661260137243 , v_acc:  0.6845238095238095\n",
      "t_recall:  0.5084977416129366 , v_recall:  0.5\n",
      "t_prec:  0.6424459600046237 , v_prec:  0.34226190476190477\n",
      "t_f:  0.43392597608026945 , v_f:  0.40636042402826855\n",
      "////////\n"
     ]
    },
    {
     "name": "stderr",
     "output_type": "stream",
     "text": [
      "\r",
      "Iterations:  21%|███████                           | 62/300 [01:15<04:35,  1.16s/it]"
     ]
    },
    {
     "name": "stdout",
     "output_type": "stream",
     "text": [
      "Epoch  61 , loss 0.4198521404874091\n",
      "Epoch  62 , loss 0.41208267971581103\n"
     ]
    },
    {
     "name": "stderr",
     "output_type": "stream",
     "text": [
      "\r",
      "Iterations:  21%|███████▏                          | 63/300 [01:16<04:48,  1.22s/it]"
     ]
    },
    {
     "name": "stdout",
     "output_type": "stream",
     "text": [
      "Epoch:  62\n",
      "t_loss:  0.41208267971581103 , v_loss:  0.6693412760893503\n",
      "t_acc:  0.7005614472863381 , v_acc:  0.6845238095238095\n",
      "t_recall:  0.513177717247641 , v_recall:  0.5\n",
      "t_prec:  0.6715317547229652 , v_prec:  0.34226190476190477\n",
      "t_f:  0.4439208838986824 , v_f:  0.40636042402826855\n",
      "////////\n"
     ]
    },
    {
     "name": "stderr",
     "output_type": "stream",
     "text": [
      "\r",
      "Iterations:  21%|███████▎                          | 64/300 [01:17<04:26,  1.13s/it]"
     ]
    },
    {
     "name": "stdout",
     "output_type": "stream",
     "text": [
      "Epoch  63 , loss 0.41028522276410867\n",
      "Epoch  64 , loss 0.41209981137630985\n"
     ]
    },
    {
     "name": "stderr",
     "output_type": "stream",
     "text": [
      "\r",
      "Iterations:  22%|███████▎                          | 65/300 [01:19<04:41,  1.20s/it]"
     ]
    },
    {
     "name": "stdout",
     "output_type": "stream",
     "text": [
      "Epoch:  64\n",
      "t_loss:  0.41209981137630985 , v_loss:  0.6670463383197784\n",
      "t_acc:  0.7049282595134123 , v_acc:  0.6845238095238095\n",
      "t_recall:  0.5192023813628475 , v_recall:  0.5\n",
      "t_prec:  0.7249627032471064 , v_prec:  0.34226190476190477\n",
      "t_f:  0.4546022803699865 , v_f:  0.40636042402826855\n",
      "////////\n"
     ]
    },
    {
     "name": "stderr",
     "output_type": "stream",
     "text": [
      "\r",
      "Iterations:  22%|███████▍                          | 66/300 [01:20<04:21,  1.12s/it]"
     ]
    },
    {
     "name": "stdout",
     "output_type": "stream",
     "text": [
      "Epoch  65 , loss 0.41068829216209113\n",
      "Epoch  66 , loss 0.40116531767097174\n"
     ]
    },
    {
     "name": "stderr",
     "output_type": "stream",
     "text": [
      "\r",
      "Iterations:  22%|███████▌                          | 67/300 [01:21<04:48,  1.24s/it]"
     ]
    },
    {
     "name": "stdout",
     "output_type": "stream",
     "text": [
      "Epoch:  66\n",
      "t_loss:  0.40116531767097174 , v_loss:  0.6697823603947958\n",
      "t_acc:  0.7067997504678727 , v_acc:  0.6845238095238095\n",
      "t_recall:  0.5205470698433495 , v_recall:  0.5\n",
      "t_prec:  0.7674571686743383 , v_prec:  0.34226190476190477\n",
      "t_f:  0.4555058654841265 , v_f:  0.40636042402826855\n",
      "////////\n"
     ]
    },
    {
     "name": "stderr",
     "output_type": "stream",
     "text": [
      "\r",
      "Iterations:  23%|███████▋                          | 68/300 [01:22<04:36,  1.19s/it]"
     ]
    },
    {
     "name": "stdout",
     "output_type": "stream",
     "text": [
      "Epoch  67 , loss 0.40858008873228935\n",
      "Epoch  68 , loss 0.4038742365790348\n"
     ]
    },
    {
     "name": "stderr",
     "output_type": "stream",
     "text": [
      "\r",
      "Iterations:  23%|███████▊                          | 69/300 [01:24<05:04,  1.32s/it]"
     ]
    },
    {
     "name": "stdout",
     "output_type": "stream",
     "text": [
      "Epoch:  68\n",
      "t_loss:  0.4038742365790348 , v_loss:  0.6686644852161407\n",
      "t_acc:  0.7046163443543356 , v_acc:  0.6785714285714286\n",
      "t_recall:  0.5195556781482376 , v_recall:  0.500738310090238\n",
      "t_prec:  0.7115392266072565 , v_prec:  0.509090909090909\n",
      "t_f:  0.45614752549329185 , v_f:  0.4214285714285715\n",
      "////////\n"
     ]
    },
    {
     "name": "stderr",
     "output_type": "stream",
     "text": [
      "\r",
      "Iterations:  23%|███████▉                          | 70/300 [01:25<04:44,  1.24s/it]"
     ]
    },
    {
     "name": "stdout",
     "output_type": "stream",
     "text": [
      "Epoch  69 , loss 0.40356967145321415\n",
      "Epoch  70 , loss 0.3994764907687318\n"
     ]
    },
    {
     "name": "stderr",
     "output_type": "stream",
     "text": [
      "\r",
      "Iterations:  24%|████████                          | 71/300 [01:27<05:08,  1.35s/it]"
     ]
    },
    {
     "name": "stdout",
     "output_type": "stream",
     "text": [
      "Epoch:  70\n",
      "t_loss:  0.3994764907687318 , v_loss:  0.6731346050898234\n",
      "t_acc:  0.7043044291952589 , v_acc:  0.6785714285714286\n",
      "t_recall:  0.5210637979979083 , v_recall:  0.500738310090238\n",
      "t_prec:  0.6901711264127371 , v_prec:  0.509090909090909\n",
      "t_f:  0.4609968219737812 , v_f:  0.4214285714285715\n",
      "////////\n"
     ]
    },
    {
     "name": "stderr",
     "output_type": "stream",
     "text": [
      "\r",
      "Iterations:  24%|████████▏                         | 72/300 [01:28<04:54,  1.29s/it]"
     ]
    },
    {
     "name": "stdout",
     "output_type": "stream",
     "text": [
      "Epoch  71 , loss 0.3980242411295573\n",
      "Epoch  72 , loss 0.3990913933398677\n"
     ]
    },
    {
     "name": "stderr",
     "output_type": "stream",
     "text": [
      "\r",
      "Iterations:  24%|████████▎                         | 73/300 [01:29<05:19,  1.41s/it]"
     ]
    },
    {
     "name": "stdout",
     "output_type": "stream",
     "text": [
      "Epoch:  72\n",
      "t_loss:  0.3990913933398677 , v_loss:  0.6779091954231262\n",
      "t_acc:  0.7052401746724891 , v_acc:  0.6904761904761905\n",
      "t_recall:  0.52289096530244 , v_recall:  0.5145200984413454\n",
      "t_prec:  0.6943763467724307 , v_prec:  0.6787878787878787\n",
      "t_f:  0.46474483833268404 , v_f:  0.44285714285714284\n",
      "////////\n"
     ]
    },
    {
     "name": "stderr",
     "output_type": "stream",
     "text": [
      "\r",
      "Iterations:  25%|████████▍                         | 74/300 [01:31<04:57,  1.31s/it]"
     ]
    },
    {
     "name": "stdout",
     "output_type": "stream",
     "text": [
      "Epoch  73 , loss 0.3990052932617711\n",
      "Epoch  74 , loss 0.39793676254796045\n"
     ]
    }
   ],
   "source": [
    "from utilities.userfold_framework import *\n",
    "from utilities.EEG_func import *\n",
    "import Models.model_func as Model_Func\n",
    "import numpy as np\n",
    "import pandas as pd\n",
    "import matplotlib.pyplot as plt\n",
    "import seaborn as sns\n",
    "from typing import List\n",
    "from torcheeg.models import EEGNet\n",
    "# import Models.model_func as Model_Func\n",
    "from torch import nn\n",
    "from Models.multi_models import *\n",
    "\n",
    "DEVICE= torch.device(\"cuda\") if torch.cuda.is_available() else torch.device(\"cpu\")\n",
    "\n",
    "learning_rate = 0.00005\n",
    "batch_size = 64\n",
    "n_epochs = 300\n",
    "transpose_channels=True\n",
    "participants_dictionary=[]\n",
    "# participants_online_dictionary=[]\n",
    "participants_grads_dictionary={}\n",
    "b_acc_list=[]\n",
    "c0_acc_list=[]\n",
    "c1_acc_list=[]\n",
    "\n",
    "class LSTM_output(torch.nn.Module):\n",
    "    def forward(self, x):\n",
    "        return x[0].unsqueeze(0)\n",
    "\n",
    "\n",
    "for i in range(len(participants)):\n",
    "\n",
    "    train_dataloader, val_dataloader, classes, input_dim, class_ratio= user_fold_load(i,\n",
    "                                                                                      raw_user_fold,\n",
    "                                                                                      participants,\n",
    "                                                                                      batch_size=batch_size,\n",
    "                                                                                      transpose_channels=transpose_channels)\n",
    "\n",
    "    classifier= EEGNet(\n",
    "        chunk_size=input_dim[1],\n",
    "        num_electrodes=input_dim[0],\n",
    "        num_classes=classes,\n",
    "        kernel_1= 32,\n",
    "        kernel_2=32,\n",
    "        F1=8,\n",
    "        F2=16,\n",
    "        dropout=0.5\n",
    "    ).to(DEVICE)\n",
    "    \n",
    "#     resnet = ResNetPlus(input_dim[0], classes, bn_1st=False)\n",
    "#     softmax_activation = nn.LogSoftmax(dim=1)\n",
    "#     classifier = nn.Sequential(resnet, softmax_activation).to(DEVICE)\n",
    "\n",
    "    \n",
    "#     classifier = DataGliderBasic_Model(DEVICE, input_dim, classes)\n",
    "#     classifier.to(DEVICE)\n",
    "    \n",
    "#     optimizer= torch.optim.RMSprop(classifier.parameters(), lr=learning_rate)\n",
    "    \n",
    "    \n",
    "    criterion= torch.nn.CrossEntropyLoss(weight=torch.tensor(class_ratio, dtype=torch.float).to(DEVICE))\n",
    "#     criterion = nn.NLLLoss(weight=torch.tensor(class_ratio, dtype=torch.float).to(DEVICE))\n",
    "        \n",
    "    saved_dir= \"./EEG/saved_models/Userfold/run1\"\n",
    "    nonlinear_func= torch.nn.Sequential(\n",
    "#                     LSTM_input(),\n",
    "                    torch.nn.LSTM(input_dim[1],input_dim[1]),\n",
    "                    LSTM_output(),\n",
    "                    torch.nn.Sigmoid(),\n",
    "#                     EEGNet_input()\n",
    "                        ).to(DEVICE)\n",
    "    model = EEGNet_NeuralFS_EEG_Wrapper(DEVICE, classifier, input_dim[0],\n",
    "                                nonlinear_func=nonlinear_func\n",
    "                                 ).to(DEVICE)\n",
    "    optimizer = torch.optim.Adam(model.parameters(), lr = learning_rate)\n",
    "    scheduler= torch.optim.lr_scheduler.ReduceLROnPlateau(optimizer, patience=2)\n",
    "\n",
    "    \n",
    "    train_func= eeg_train\n",
    "    model.training_procedure(iteration=n_epochs,\n",
    "                                    train_dataloader=train_dataloader,\n",
    "                                     val_dataloader=val_dataloader,\n",
    "                                     print_cycle=2,\n",
    "                                     path=f\"./dictionary/intermdiate_dicts\",\n",
    "                                     loss_func=criterion,\n",
    "                                     optimiser=optimizer, #scheduler=scheduler,\n",
    "                                     train_func=train_func\n",
    "                                    )\n",
    "    if model.epoch == n_epochs+1:\n",
    "        EPOCH= n_epochs\n",
    "    else:\n",
    "        EPOCH= model.epoch\n",
    "    \n",
    "    torch.save(model.state_dict(), \n",
    "           os.path.join(\n",
    "               saved_dir, f\"Userfold-{participants[i]}-EEGNet-NFS_EEG-e{EPOCH}.pt\"\n",
    "           )\n",
    "    )\n",
    "\n",
    "    pickle.dump( model.return_pairwise_weights(), \n",
    "                open(f\"{saved_dir}/Userfold-{participants[i]}-EEGNet-NFS_EEG-w-e{EPOCH}.pkl\", \"wb\") \n",
    "               )    \n",
    "\n",
    "# OR\n",
    "#     model.load_state_dict(\n",
    "#     torch.load(\n",
    "#         open(\n",
    "#             os.path.join(\n",
    "#                 saved_dir, f\"Userfold-{participants[i]}-EEGNet-NFS_EEG-e{n_epochs}.pt\"\n",
    "#             ), \"rb\"\n",
    "#         )\n",
    "#               )\n",
    "#     )\n",
    "    \n",
    "    prediction, dictionary= model.prediction_procedure(val_dataloader, dict_flag=True)\n",
    "    \n",
    "    ys= np.concatenate([y.detach().cpu().numpy() for x, y in val_dataloader])\n",
    "    \n",
    "    c0_acc, c1_acc, b_acc= calculate_accuracy(ys, prediction)\n",
    "    print(\"c0_acc\", c0_acc, \", c1_acc\", c1_acc, \", b_acc\", b_acc)\n",
    "    b_acc_list.append(b_acc)\n",
    "    c0_acc_list.append(c0_acc)\n",
    "    c1_acc_list.append(c1_acc)\n",
    "    participants_dictionary.append(dictionary)\n",
    "    \n",
    "\n",
    "tmp=[]\n",
    "for i, dictionary in enumerate(participants_dictionary):\n",
    "    print(f\"User {participants[i]} f1: {dictionary['weighted avg']['f1-score']} acc: {dictionary['accuracy']}\")\n",
    "    print(f\" c0: {c0_acc_list[i]} c1: {c1_acc_list[i]} bacc: {b_acc_list[i]}\")\n",
    "    tmp.append(dictionary['weighted avg']['f1-score'])\n",
    "\n",
    "print(f\"average {np.mean(tmp)}\")\n",
    "print()\n",
    "print(np.array(b_acc_list).mean())\n",
    "print(np.array(c1_acc_list).mean())\n",
    "print(np.array(c0_acc_list).mean())\n"
   ]
  },
  {
   "cell_type": "code",
   "execution_count": null,
   "id": "eb9de653",
   "metadata": {},
   "outputs": [],
   "source": [
    "userfold_results_summary(participants_dictionary, participants)\n",
    "userfold_classwise_results_summary(participants_dictionary, participants)\n"
   ]
  },
  {
   "cell_type": "code",
   "execution_count": 8,
   "id": "d03fa9e1",
   "metadata": {},
   "outputs": [
    {
     "data": {
      "text/plain": [
       "(32,)"
      ]
     },
     "execution_count": 8,
     "metadata": {},
     "output_type": "execute_result"
    }
   ],
   "source": [
    "model.return_pairwise_weights().shape"
   ]
  }
 ],
 "metadata": {
  "kernelspec": {
   "display_name": "Python [conda env:pytorch]",
   "language": "python",
   "name": "conda-env-pytorch-py"
  },
  "language_info": {
   "codemirror_mode": {
    "name": "ipython",
    "version": 3
   },
   "file_extension": ".py",
   "mimetype": "text/x-python",
   "name": "python",
   "nbconvert_exporter": "python",
   "pygments_lexer": "ipython3",
   "version": "3.7.10"
  }
 },
 "nbformat": 4,
 "nbformat_minor": 5
}
