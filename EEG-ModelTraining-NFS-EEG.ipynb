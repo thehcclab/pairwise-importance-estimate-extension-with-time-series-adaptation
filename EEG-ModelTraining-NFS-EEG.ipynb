{
 "cells": [
  {
   "cell_type": "code",
   "execution_count": 1,
   "id": "4c9e593e",
   "metadata": {},
   "outputs": [],
   "source": [
    "import numpy as np\n",
    "import pickle\n",
    "import sys\n",
    "from typing import List\n",
    "import torch\n",
    "import os"
   ]
  },
  {
   "cell_type": "code",
   "execution_count": 2,
   "id": "eb96ce98",
   "metadata": {},
   "outputs": [],
   "source": [
    "participant_data_path = './EEG/number'\n",
    "processed_data_path = './EEG/processed_data'\n",
    "split_data_path = './EEG/split_data'"
   ]
  },
  {
   "cell_type": "code",
   "execution_count": 3,
   "id": "62c74d3a",
   "metadata": {},
   "outputs": [],
   "source": [
    "ps = os.listdir(participant_data_path)\n",
    "participants=[]\n",
    "for p in ps:\n",
    "    p= p[:3]\n",
    "    if p not in participants:\n",
    "        participants.append(p)\n",
    "        \n",
    "participants= sorted(participants)\n",
    "# participants, len(participants)"
   ]
  },
  {
   "cell_type": "code",
   "execution_count": 4,
   "id": "28f3009e",
   "metadata": {
    "scrolled": true
   },
   "outputs": [],
   "source": [
    "load_name=f\"userfold_data_scaled_p_dictionary-number\"\n",
    "data_dir = \"./EEG/split_data/standard_scaled\"\n",
    "try:\n",
    "    raw_user_fold= pickle.load(open(os.path.join(data_dir, f\"{load_name}.pkl\"), \"rb\"))\n",
    "except:\n",
    "    print(f\"pickle file does not exist. Use EEG-Preprocess.ipynb and EEG-Split.ipynb to save data setting.\")\n",
    "    sys.exit()"
   ]
  },
  {
   "cell_type": "code",
   "execution_count": 6,
   "id": "082a80ac",
   "metadata": {
    "scrolled": true
   },
   "outputs": [
    {
     "name": "stderr",
     "output_type": "stream",
     "text": [
      "\r",
      "Iterations:   0%|                                           | 0/300 [00:00<?, ?it/s]"
     ]
    },
    {
     "name": "stdout",
     "output_type": "stream",
     "text": [
      "Epoch  0 , loss 0.6677641763406641\n"
     ]
    },
    {
     "name": "stderr",
     "output_type": "stream",
     "text": [
      "\r",
      "Iterations:   0%|                                   | 1/300 [00:02<12:39,  2.54s/it]"
     ]
    },
    {
     "name": "stdout",
     "output_type": "stream",
     "text": [
      "Epoch:  0\n",
      "t_loss:  0.6677641763406641 , v_loss:  0.6962723334630331\n",
      "t_acc:  0.5415499533146592 , v_acc:  0.30434782608695654\n",
      "t_recall:  0.47494681654108506 , v_recall:  0.479009009009009\n",
      "t_prec:  0.4763457506407925 , v_prec:  0.3506410256410256\n",
      "t_f:  0.4749926036922413 , v_f:  0.24539671911617006\n",
      "////////\n"
     ]
    },
    {
     "name": "stderr",
     "output_type": "stream",
     "text": [
      "\r",
      "Iterations:   1%|▏                                  | 2/300 [00:03<07:28,  1.50s/it]"
     ]
    },
    {
     "name": "stdout",
     "output_type": "stream",
     "text": [
      "Epoch  1 , loss 0.6381852171000313\n",
      "Epoch  2 , loss 0.6120595441145056\n"
     ]
    },
    {
     "name": "stderr",
     "output_type": "stream",
     "text": [
      "\r",
      "Iterations:   1%|▎                                  | 3/300 [00:04<06:32,  1.32s/it]"
     ]
    },
    {
     "name": "stdout",
     "output_type": "stream",
     "text": [
      "Epoch:  2\n",
      "t_loss:  0.6120595441145056 , v_loss:  0.6994553009668986\n",
      "t_acc:  0.6187363834422658 , v_acc:  0.30434782608695654\n",
      "t_recall:  0.5039746915359383 , v_recall:  0.4515315315315315\n",
      "t_prec:  0.5051619465671986 , v_prec:  0.37716894977168947\n",
      "t_f:  0.4979426865654888 , v_f:  0.2698412698412698\n",
      "////////\n"
     ]
    },
    {
     "name": "stderr",
     "output_type": "stream",
     "text": [
      "\r",
      "Iterations:   1%|▍                                  | 4/300 [00:05<05:22,  1.09s/it]"
     ]
    },
    {
     "name": "stdout",
     "output_type": "stream",
     "text": [
      "Epoch  3 , loss 0.5908576723407296\n",
      "Epoch  4 , loss 0.5737458525919447\n"
     ]
    },
    {
     "name": "stderr",
     "output_type": "stream",
     "text": [
      "\r",
      "Iterations:   2%|▌                                  | 5/300 [00:06<05:20,  1.09s/it]"
     ]
    },
    {
     "name": "stdout",
     "output_type": "stream",
     "text": [
      "Epoch:  4\n",
      "t_loss:  0.5737458525919447 , v_loss:  0.6947305003801981\n",
      "t_acc:  0.6619981325863679 , v_acc:  0.4720496894409938\n",
      "t_recall:  0.5054549072892219 , v_recall:  0.4302702702702703\n",
      "t_prec:  0.5130986305402917 , v_prec:  0.43855192124483966\n",
      "t_f:  0.47395587722715443 , v_f:  0.42943506358140504\n",
      "////////\n"
     ]
    },
    {
     "name": "stderr",
     "output_type": "stream",
     "text": [
      "\r",
      "Iterations:   2%|▋                                  | 6/300 [00:06<04:46,  1.03it/s]"
     ]
    },
    {
     "name": "stdout",
     "output_type": "stream",
     "text": [
      "Epoch  5 , loss 0.5654517716052485\n",
      "Epoch  6 , loss 0.5372224385831871\n"
     ]
    },
    {
     "name": "stderr",
     "output_type": "stream",
     "text": [
      "\r",
      "Iterations:   2%|▊                                  | 7/300 [00:08<04:57,  1.01s/it]"
     ]
    },
    {
     "name": "stdout",
     "output_type": "stream",
     "text": [
      "Epoch:  6\n",
      "t_loss:  0.5372224385831871 , v_loss:  0.6775240302085876\n",
      "t_acc:  0.6788048552754435 , v_acc:  0.639751552795031\n",
      "t_recall:  0.5040213557321476 , v_recall:  0.46396396396396394\n",
      "t_prec:  0.5173783417226503 , v_prec:  0.3366013071895425\n",
      "t_f:  0.4512607801134874 , v_f:  0.39015151515151514\n",
      "////////\n"
     ]
    },
    {
     "name": "stderr",
     "output_type": "stream",
     "text": [
      "\r",
      "Iterations:   3%|▉                                  | 8/300 [00:08<04:30,  1.08it/s]"
     ]
    },
    {
     "name": "stdout",
     "output_type": "stream",
     "text": [
      "Epoch  7 , loss 0.5274638966018078\n",
      "Epoch  8 , loss 0.5166685838325351\n"
     ]
    },
    {
     "name": "stderr",
     "output_type": "stream",
     "text": [
      "\r",
      "Iterations:   3%|█                                  | 9/300 [00:09<04:49,  1.01it/s]"
     ]
    },
    {
     "name": "stdout",
     "output_type": "stream",
     "text": [
      "Epoch:  8\n",
      "t_loss:  0.5166685838325351 , v_loss:  0.6610934138298035\n",
      "t_acc:  0.6859632741985683 , v_acc:  0.6894409937888198\n",
      "t_recall:  0.501978424671635 , v_recall:  0.5\n",
      "t_prec:  0.5149038461538461 , v_prec:  0.3447204968944099\n",
      "t_f:  0.434733893557423 , v_f:  0.4080882352941176\n",
      "////////\n"
     ]
    },
    {
     "name": "stderr",
     "output_type": "stream",
     "text": [
      "\r",
      "Iterations:   3%|█▏                                | 10/300 [00:10<04:24,  1.10it/s]"
     ]
    },
    {
     "name": "stdout",
     "output_type": "stream",
     "text": [
      "Epoch  9 , loss 0.5019342525332582\n",
      "Epoch  10 , loss 0.4948845873860752\n"
     ]
    },
    {
     "name": "stderr",
     "output_type": "stream",
     "text": [
      "\r",
      "Iterations:   4%|█▏                                | 11/300 [00:11<04:41,  1.03it/s]"
     ]
    },
    {
     "name": "stdout",
     "output_type": "stream",
     "text": [
      "Epoch:  10\n",
      "t_loss:  0.4948845873860752 , v_loss:  0.6583021481831869\n",
      "t_acc:  0.6940553999377529 , v_acc:  0.6894409937888198\n",
      "t_recall:  0.5066448442925571 , v_recall:  0.5\n",
      "t_prec:  0.5780526208312285 , v_prec:  0.3447204968944099\n",
      "t_f:  0.4348323390999881 , v_f:  0.4080882352941176\n",
      "////////\n"
     ]
    },
    {
     "name": "stderr",
     "output_type": "stream",
     "text": [
      "\r",
      "Iterations:   4%|█▎                                | 12/300 [00:12<04:22,  1.10it/s]"
     ]
    },
    {
     "name": "stdout",
     "output_type": "stream",
     "text": [
      "Epoch  11 , loss 0.48759763731675987\n",
      "Epoch  12 , loss 0.48577042362269235\n"
     ]
    },
    {
     "name": "stderr",
     "output_type": "stream",
     "text": [
      "\r",
      "Iterations:   4%|█▍                                | 13/300 [00:13<04:41,  1.02it/s]"
     ]
    },
    {
     "name": "stdout",
     "output_type": "stream",
     "text": [
      "Epoch:  12\n",
      "t_loss:  0.48577042362269235 , v_loss:  0.6611925065517426\n",
      "t_acc:  0.6943666355431062 , v_acc:  0.6894409937888198\n",
      "t_recall:  0.503993219966786 , v_recall:  0.5\n",
      "t_prec:  0.5723456278491504 , v_prec:  0.3447204968944099\n",
      "t_f:  0.4259744276420161 , v_f:  0.4080882352941176\n",
      "////////\n"
     ]
    },
    {
     "name": "stderr",
     "output_type": "stream",
     "text": [
      "\r",
      "Iterations:   5%|█▌                                | 14/300 [00:14<04:18,  1.11it/s]"
     ]
    },
    {
     "name": "stdout",
     "output_type": "stream",
     "text": [
      "Epoch  13 , loss 0.4742351583406037\n",
      "Epoch  14 , loss 0.4678896817506528\n"
     ]
    },
    {
     "name": "stderr",
     "output_type": "stream",
     "text": [
      "\r",
      "Iterations:   5%|█▋                                | 15/300 [00:15<04:38,  1.02it/s]"
     ]
    },
    {
     "name": "stdout",
     "output_type": "stream",
     "text": [
      "Epoch:  14\n",
      "t_loss:  0.4678896817506528 , v_loss:  0.6650136609872183\n",
      "t_acc:  0.6959228135698724 , v_acc:  0.6894409937888198\n",
      "t_recall:  0.5030990516188358 , v_recall:  0.5\n",
      "t_prec:  0.6116237682496787 , v_prec:  0.3447204968944099\n",
      "t_f:  0.42005035182911044 , v_f:  0.4080882352941176\n",
      "////////\n"
     ]
    },
    {
     "name": "stderr",
     "output_type": "stream",
     "text": [
      "\r",
      "Iterations:   5%|█▊                                | 16/300 [00:16<04:19,  1.10it/s]"
     ]
    },
    {
     "name": "stdout",
     "output_type": "stream",
     "text": [
      "Epoch  15 , loss 0.4647120143852982\n",
      "Epoch  16 , loss 0.46256978020948525\n"
     ]
    },
    {
     "name": "stderr",
     "output_type": "stream",
     "text": [
      "\r",
      "Iterations:   6%|█▉                                | 17/300 [00:17<04:35,  1.03it/s]"
     ]
    },
    {
     "name": "stdout",
     "output_type": "stream",
     "text": [
      "Epoch:  16\n",
      "t_loss:  0.46256978020948525 , v_loss:  0.6673079133033752\n",
      "t_acc:  0.6937441643323996 , v_acc:  0.6894409937888198\n",
      "t_recall:  0.49980785330972677 , v_recall:  0.5\n",
      "t_prec:  0.49062206939668646 , v_prec:  0.3447204968944099\n",
      "t_f:  0.4134912201550572 , v_f:  0.4080882352941176\n",
      "////////\n"
     ]
    },
    {
     "name": "stderr",
     "output_type": "stream",
     "text": [
      "\r",
      "Iterations:   6%|██                                | 18/300 [00:18<04:14,  1.11it/s]"
     ]
    },
    {
     "name": "stdout",
     "output_type": "stream",
     "text": [
      "Epoch  17 , loss 0.46332278263335136\n",
      "Epoch  18 , loss 0.46135236644277383\n"
     ]
    },
    {
     "name": "stderr",
     "output_type": "stream",
     "text": [
      "\r",
      "Iterations:   6%|██▏                               | 19/300 [00:19<04:36,  1.02it/s]"
     ]
    },
    {
     "name": "stdout",
     "output_type": "stream",
     "text": [
      "Epoch:  18\n",
      "t_loss:  0.46135236644277383 , v_loss:  0.6700718800226847\n",
      "t_acc:  0.6946778711484594 , v_acc:  0.6894409937888198\n",
      "t_recall:  0.5007665280465544 , v_recall:  0.5\n",
      "t_prec:  0.5402764423076923 , v_prec:  0.3447204968944099\n",
      "t_f:  0.41479701861370544 , v_f:  0.4080882352941176\n",
      "////////\n"
     ]
    },
    {
     "name": "stderr",
     "output_type": "stream",
     "text": [
      "\r",
      "Iterations:   7%|██▎                               | 20/300 [00:20<04:13,  1.11it/s]"
     ]
    },
    {
     "name": "stdout",
     "output_type": "stream",
     "text": [
      "Epoch  19 , loss 0.45567729075749713\n",
      "Epoch  20 , loss 0.4501631353415695\n"
     ]
    },
    {
     "name": "stderr",
     "output_type": "stream",
     "text": [
      "\r",
      "Iterations:   7%|██▍                               | 21/300 [00:21<04:28,  1.04it/s]"
     ]
    },
    {
     "name": "stdout",
     "output_type": "stream",
     "text": [
      "Epoch:  20\n",
      "t_loss:  0.4501631353415695 , v_loss:  0.6692537268002828\n",
      "t_acc:  0.6959228135698724 , v_acc:  0.6894409937888198\n",
      "t_recall:  0.5010863150382235 , v_recall:  0.5\n",
      "t_prec:  0.6480361596009975 , v_prec:  0.3447204968944099\n",
      "t_f:  0.41330358142435736 , v_f:  0.4080882352941176\n",
      "////////\n"
     ]
    },
    {
     "name": "stderr",
     "output_type": "stream",
     "text": [
      "\r",
      "Iterations:   7%|██▍                               | 22/300 [00:21<04:09,  1.12it/s]"
     ]
    },
    {
     "name": "stdout",
     "output_type": "stream",
     "text": [
      "Epoch  21 , loss 0.45470986705200345\n",
      "Epoch  22 , loss 0.44904670236157435\n"
     ]
    },
    {
     "name": "stderr",
     "output_type": "stream",
     "text": [
      "\r",
      "Iterations:   8%|██▌                               | 23/300 [00:23<04:26,  1.04it/s]"
     ]
    },
    {
     "name": "stdout",
     "output_type": "stream",
     "text": [
      "Epoch:  22\n",
      "t_loss:  0.44904670236157435 , v_loss:  0.6681094964345297\n",
      "t_acc:  0.6956115779645191 , v_acc:  0.6894409937888198\n",
      "t_recall:  0.5011501351889214 , v_recall:  0.5\n",
      "t_prec:  0.5980499219968799 , v_prec:  0.3447204968944099\n",
      "t_f:  0.41416708924949286 , v_f:  0.4080882352941176\n",
      "////////\n"
     ]
    },
    {
     "name": "stderr",
     "output_type": "stream",
     "text": [
      "\r",
      "Iterations:   8%|██▋                               | 24/300 [00:23<04:06,  1.12it/s]"
     ]
    },
    {
     "name": "stdout",
     "output_type": "stream",
     "text": [
      "Epoch  23 , loss 0.4497411765304266\n",
      "Epoch  24 , loss 0.44655542455467523\n"
     ]
    },
    {
     "name": "stderr",
     "output_type": "stream",
     "text": [
      "\r",
      "Iterations:   8%|██▊                               | 25/300 [00:24<04:24,  1.04it/s]"
     ]
    },
    {
     "name": "stdout",
     "output_type": "stream",
     "text": [
      "Epoch:  24\n",
      "t_loss:  0.44655542455467523 , v_loss:  0.6660118599732717\n",
      "t_acc:  0.6953003423591659 , v_acc:  0.6894409937888198\n",
      "t_recall:  0.5003513539479283 , v_recall:  0.5\n",
      "t_prec:  0.5478802992518703 , v_prec:  0.3447204968944099\n",
      "t_f:  0.41210256521437655 , v_f:  0.4080882352941176\n",
      "////////\n"
     ]
    },
    {
     "name": "stderr",
     "output_type": "stream",
     "text": [
      "\r",
      "Iterations:   9%|██▉                               | 26/300 [00:25<04:05,  1.12it/s]"
     ]
    },
    {
     "name": "stdout",
     "output_type": "stream",
     "text": [
      "Epoch  25 , loss 0.44463231458383445\n",
      "Epoch  26 , loss 0.4400441249211629\n"
     ]
    },
    {
     "name": "stderr",
     "output_type": "stream",
     "text": [
      "\r",
      "Iterations:   9%|███                               | 27/300 [00:26<04:21,  1.04it/s]"
     ]
    },
    {
     "name": "stdout",
     "output_type": "stream",
     "text": [
      "Epoch:  26\n",
      "t_loss:  0.4400441249211629 , v_loss:  0.6640873352686564\n",
      "t_acc:  0.6956115779645191 , v_acc:  0.6894409937888198\n",
      "t_recall:  0.500862601391691 , v_recall:  0.5\n",
      "t_prec:  0.5979887745556596 , v_prec:  0.3447204968944099\n",
      "t_f:  0.4131921101460188 , v_f:  0.4080882352941176\n",
      "////////\n"
     ]
    },
    {
     "name": "stderr",
     "output_type": "stream",
     "text": [
      "\r",
      "Iterations:   9%|███▏                              | 28/300 [00:27<04:00,  1.13it/s]"
     ]
    },
    {
     "name": "stdout",
     "output_type": "stream",
     "text": [
      "Epoch  27 , loss 0.4404673646478092\n",
      "Epoch  28 , loss 0.4425533110020207\n"
     ]
    },
    {
     "name": "stderr",
     "output_type": "stream",
     "text": [
      "\r",
      "Iterations:  10%|███▎                              | 29/300 [00:28<04:21,  1.04it/s]"
     ]
    },
    {
     "name": "stdout",
     "output_type": "stream",
     "text": [
      "Epoch:  28\n",
      "t_loss:  0.4425533110020207 , v_loss:  0.6600836912790934\n",
      "t_acc:  0.6962340491752257 , v_acc:  0.6894409937888198\n",
      "t_recall:  0.502172630076447 , v_recall:  0.5\n",
      "t_prec:  0.6482672494536372 , v_prec:  0.3447204968944099\n",
      "t_f:  0.4163339999076822 , v_f:  0.4080882352941176\n",
      "////////\n"
     ]
    },
    {
     "name": "stderr",
     "output_type": "stream",
     "text": [
      "\r",
      "Iterations:  10%|███▍                              | 30/300 [00:29<04:01,  1.12it/s]"
     ]
    },
    {
     "name": "stdout",
     "output_type": "stream",
     "text": [
      "Epoch  29 , loss 0.4425475842812482\n",
      "Epoch  30 , loss 0.4442799891911301\n"
     ]
    },
    {
     "name": "stderr",
     "output_type": "stream",
     "text": [
      "\r",
      "Iterations:  10%|███▌                              | 31/300 [00:30<04:17,  1.04it/s]"
     ]
    },
    {
     "name": "stdout",
     "output_type": "stream",
     "text": [
      "Epoch:  30\n",
      "t_loss:  0.4442799891911301 , v_loss:  0.6575915217399597\n",
      "t_acc:  0.6959228135698724 , v_acc:  0.6894409937888198\n",
      "t_recall:  0.5025239840243751 , v_recall:  0.5\n",
      "t_prec:  0.6150093808630395 , v_prec:  0.3447204968944099\n",
      "t_f:  0.4181429031380904 , v_f:  0.4080882352941176\n",
      "////////\n"
     ]
    },
    {
     "name": "stderr",
     "output_type": "stream",
     "text": [
      "\r",
      "Iterations:  11%|███▋                              | 32/300 [00:31<03:57,  1.13it/s]"
     ]
    },
    {
     "name": "stdout",
     "output_type": "stream",
     "text": [
      "Epoch  31 , loss 0.4372389006848429\n",
      "Epoch  32 , loss 0.43741655992526635\n"
     ]
    },
    {
     "name": "stderr",
     "output_type": "stream",
     "text": [
      "\r",
      "Iterations:  11%|███▋                              | 33/300 [00:32<04:16,  1.04it/s]"
     ]
    },
    {
     "name": "stdout",
     "output_type": "stream",
     "text": [
      "Epoch:  32\n",
      "t_loss:  0.43741655992526635 , v_loss:  0.6552285254001617\n",
      "t_acc:  0.6946778711484594 , v_acc:  0.6894409937888198\n",
      "t_recall:  0.5004789942493241 , v_recall:  0.5\n",
      "t_prec:  0.5297257395945716 , v_prec:  0.3447204968944099\n",
      "t_f:  0.41382929718163364 , v_f:  0.4080882352941176\n",
      "////////\n"
     ]
    },
    {
     "name": "stderr",
     "output_type": "stream",
     "text": [
      "\r",
      "Iterations:  11%|███▊                              | 34/300 [00:33<03:55,  1.13it/s]"
     ]
    },
    {
     "name": "stdout",
     "output_type": "stream",
     "text": [
      "Epoch  33 , loss 0.4341474169609593\n",
      "Epoch  34 , loss 0.4317607377089706\n"
     ]
    },
    {
     "name": "stderr",
     "output_type": "stream",
     "text": [
      "\r",
      "Iterations:  12%|███▉                              | 35/300 [00:34<04:11,  1.05it/s]"
     ]
    },
    {
     "name": "stdout",
     "output_type": "stream",
     "text": [
      "Epoch:  34\n",
      "t_loss:  0.4317607377089706 , v_loss:  0.6486666053533554\n",
      "t_acc:  0.6968565203859322 , v_acc:  0.6894409937888198\n",
      "t_recall:  0.5031951249639725 , v_recall:  0.5\n",
      "t_prec:  0.6818181818181819 , v_prec:  0.3447204968944099\n",
      "t_f:  0.418492875777644 , v_f:  0.4080882352941176\n",
      "////////\n"
     ]
    },
    {
     "name": "stderr",
     "output_type": "stream",
     "text": [
      "\r",
      "Iterations:  12%|████                              | 36/300 [00:34<03:52,  1.14it/s]"
     ]
    },
    {
     "name": "stdout",
     "output_type": "stream",
     "text": [
      "Epoch  35 , loss 0.43558472920866576\n",
      "Epoch  36 , loss 0.43034326328950767\n"
     ]
    },
    {
     "name": "stderr",
     "output_type": "stream",
     "text": [
      "\r",
      "Iterations:  12%|████▏                             | 37/300 [00:35<04:11,  1.04it/s]"
     ]
    },
    {
     "name": "stdout",
     "output_type": "stream",
     "text": [
      "Epoch:  36\n",
      "t_loss:  0.43034326328950767 , v_loss:  0.643631766239802\n",
      "t_acc:  0.6984126984126984 , v_acc:  0.6894409937888198\n",
      "t_recall:  0.5051762945883257 , v_recall:  0.5\n",
      "t_prec:  0.7719831730769231 , v_prec:  0.3447204968944099\n",
      "t_f:  0.42195546486919533 , v_f:  0.4080882352941176\n",
      "////////\n"
     ]
    },
    {
     "name": "stderr",
     "output_type": "stream",
     "text": [
      "\r",
      "Iterations:  13%|████▎                             | 38/300 [00:36<03:53,  1.12it/s]"
     ]
    },
    {
     "name": "stdout",
     "output_type": "stream",
     "text": [
      "Epoch  37 , loss 0.43549444511824964\n",
      "Epoch  38 , loss 0.4327651618742475\n"
     ]
    },
    {
     "name": "stderr",
     "output_type": "stream",
     "text": [
      "\r",
      "Iterations:  13%|████▍                             | 39/300 [00:37<04:09,  1.05it/s]"
     ]
    },
    {
     "name": "stdout",
     "output_type": "stream",
     "text": [
      "Epoch:  38\n",
      "t_loss:  0.4327651618742475 , v_loss:  0.6361813843250275\n",
      "t_acc:  0.6981014628073452 , v_acc:  0.6956521739130435\n",
      "t_recall:  0.5049525809417933 , v_recall:  0.51\n",
      "t_prec:  0.7417161613004064 , v_prec:  0.846875\n",
      "t_f:  0.4218358572666722 , v_f:  0.42920193907821425\n",
      "////////\n"
     ]
    },
    {
     "name": "stderr",
     "output_type": "stream",
     "text": [
      "\r",
      "Iterations:  13%|████▌                             | 40/300 [00:38<03:49,  1.13it/s]"
     ]
    },
    {
     "name": "stdout",
     "output_type": "stream",
     "text": [
      "Epoch  39 , loss 0.43256403885635675\n",
      "Epoch  40 , loss 0.42814165645954655\n"
     ]
    },
    {
     "name": "stderr",
     "output_type": "stream",
     "text": [
      "\r",
      "Iterations:  14%|████▋                             | 41/300 [00:39<04:06,  1.05it/s]"
     ]
    },
    {
     "name": "stdout",
     "output_type": "stream",
     "text": [
      "Epoch:  40\n",
      "t_loss:  0.42814165645954655 , v_loss:  0.6317422986030579\n",
      "t_acc:  0.6965452847805789 , v_acc:  0.6956521739130435\n",
      "t_recall:  0.5044090803035918 , v_recall:  0.51\n",
      "t_prec:  0.6313547771568762 , v_prec:  0.846875\n",
      "t_f:  0.42312526183493926 , v_f:  0.42920193907821425\n",
      "////////\n"
     ]
    },
    {
     "name": "stderr",
     "output_type": "stream",
     "text": [
      "\r",
      "Iterations:  14%|████▊                             | 42/300 [00:40<03:49,  1.13it/s]"
     ]
    },
    {
     "name": "stdout",
     "output_type": "stream",
     "text": [
      "Epoch  41 , loss 0.4379764263536416\n",
      "Epoch  42 , loss 0.4280812079999961\n"
     ]
    },
    {
     "name": "stderr",
     "output_type": "stream",
     "text": [
      "\r",
      "Iterations:  14%|████▊                             | 43/300 [00:41<04:02,  1.06it/s]"
     ]
    },
    {
     "name": "stdout",
     "output_type": "stream",
     "text": [
      "Epoch:  42\n",
      "t_loss:  0.4280812079999961 , v_loss:  0.6267494807640711\n",
      "t_acc:  0.6974789915966386 , v_acc:  0.6956521739130435\n",
      "t_recall:  0.5056552888376498 , v_recall:  0.51\n",
      "t_prec:  0.6615122295390404 , v_prec:  0.846875\n",
      "t_f:  0.42536828996873505 , v_f:  0.42920193907821425\n",
      "////////\n"
     ]
    },
    {
     "name": "stderr",
     "output_type": "stream",
     "text": [
      "\r",
      "Iterations:  15%|████▉                             | 44/300 [00:42<03:47,  1.12it/s]"
     ]
    },
    {
     "name": "stdout",
     "output_type": "stream",
     "text": [
      "Epoch  43 , loss 0.4321838611481236\n",
      "Epoch  44 , loss 0.4233136101096284\n"
     ]
    },
    {
     "name": "stderr",
     "output_type": "stream",
     "text": [
      "\r",
      "Iterations:  15%|█████                             | 45/300 [00:43<04:02,  1.05it/s]"
     ]
    },
    {
     "name": "stdout",
     "output_type": "stream",
     "text": [
      "Epoch:  44\n",
      "t_loss:  0.4233136101096284 , v_loss:  0.6212934901316961\n",
      "t_acc:  0.6962340491752257 , v_acc:  0.6956521739130435\n",
      "t_recall:  0.5050479680487504 , v_recall:  0.51\n",
      "t_prec:  0.6155513666352498 , v_prec:  0.846875\n",
      "t_f:  0.4258028792912514 , v_f:  0.42920193907821425\n",
      "////////\n"
     ]
    },
    {
     "name": "stderr",
     "output_type": "stream",
     "text": [
      "\r",
      "Iterations:  15%|█████▏                            | 46/300 [00:44<03:45,  1.13it/s]"
     ]
    },
    {
     "name": "stdout",
     "output_type": "stream",
     "text": [
      "Epoch  45 , loss 0.42752474371124716\n",
      "Epoch  46 , loss 0.4310328586428773\n"
     ]
    },
    {
     "name": "stderr",
     "output_type": "stream",
     "text": [
      "\r",
      "Iterations:  16%|█████▎                            | 47/300 [00:45<04:02,  1.04it/s]"
     ]
    },
    {
     "name": "stdout",
     "output_type": "stream",
     "text": [
      "Epoch:  46\n",
      "t_loss:  0.4310328586428773 , v_loss:  0.6176081001758575\n",
      "t_acc:  0.6959228135698724 , v_acc:  0.7018633540372671\n",
      "t_recall:  0.5048242544022179 , v_recall:  0.52\n",
      "t_prec:  0.6069017254313578 , v_prec:  0.8490566037735849\n",
      "t_f:  0.425678218536403 , v_f:  0.44957264957264953\n",
      "////////\n"
     ]
    },
    {
     "name": "stderr",
     "output_type": "stream",
     "text": [
      "\r",
      "Iterations:  16%|█████▍                            | 48/300 [00:45<03:44,  1.12it/s]"
     ]
    },
    {
     "name": "stdout",
     "output_type": "stream",
     "text": [
      "Epoch  47 , loss 0.4219689030273288\n",
      "Epoch  48 , loss 0.41606733202934265\n"
     ]
    },
    {
     "name": "stderr",
     "output_type": "stream",
     "text": [
      "\r",
      "Iterations:  16%|█████▌                            | 49/300 [00:47<04:00,  1.04it/s]"
     ]
    },
    {
     "name": "stdout",
     "output_type": "stream",
     "text": [
      "Epoch:  48\n",
      "t_loss:  0.41606733202934265 , v_loss:  0.6121417582035065\n",
      "t_acc:  0.6996576408341114 , v_acc:  0.7018633540372671\n",
      "t_recall:  0.5086589533495286 , v_recall:  0.52\n",
      "t_prec:  0.7200251098556183 , v_prec:  0.8490566037735849\n",
      "t_f:  0.4308947790103165 , v_f:  0.44957264957264953\n",
      "////////\n"
     ]
    },
    {
     "name": "stderr",
     "output_type": "stream",
     "text": [
      "\r",
      "Iterations:  17%|█████▋                            | 50/300 [00:47<03:42,  1.12it/s]"
     ]
    },
    {
     "name": "stdout",
     "output_type": "stream",
     "text": [
      "Epoch  49 , loss 0.4240531161719677\n",
      "Epoch  50 , loss 0.423551527892842\n"
     ]
    },
    {
     "name": "stderr",
     "output_type": "stream",
     "text": [
      "\r",
      "Iterations:  17%|█████▊                            | 51/300 [00:48<03:57,  1.05it/s]"
     ]
    },
    {
     "name": "stdout",
     "output_type": "stream",
     "text": [
      "Epoch:  50\n",
      "t_loss:  0.423551527892842 , v_loss:  0.6084106316169103\n",
      "t_acc:  0.7002801120448179 , v_acc:  0.7018633540372671\n",
      "t_recall:  0.5096814482370541 , v_recall:  0.52\n",
      "t_prec:  0.7291847166868827 , v_prec:  0.8490566037735849\n",
      "t_f:  0.43299303839720954 , v_f:  0.44957264957264953\n",
      "////////\n"
     ]
    },
    {
     "name": "stderr",
     "output_type": "stream",
     "text": [
      "\r",
      "Iterations:  17%|█████▉                            | 52/300 [00:49<03:40,  1.12it/s]"
     ]
    },
    {
     "name": "stdout",
     "output_type": "stream",
     "text": [
      "Epoch  51 , loss 0.42057012167631413\n",
      "Epoch  52 , loss 0.42244650219001023\n"
     ]
    },
    {
     "name": "stderr",
     "output_type": "stream",
     "text": [
      "\r",
      "Iterations:  18%|██████                            | 53/300 [00:50<03:55,  1.05it/s]"
     ]
    },
    {
     "name": "stdout",
     "output_type": "stream",
     "text": [
      "Epoch:  52\n",
      "t_loss:  0.42244650219001023 , v_loss:  0.6032333870728811\n",
      "t_acc:  0.6993464052287581 , v_acc:  0.7018633540372671\n",
      "t_recall:  0.5113105776752995 , v_recall:  0.52\n",
      "t_prec:  0.6627369668246446 , v_prec:  0.8490566037735849\n",
      "t_f:  0.43979532163742685 , v_f:  0.44957264957264953\n",
      "////////\n"
     ]
    },
    {
     "name": "stderr",
     "output_type": "stream",
     "text": [
      "\r",
      "Iterations:  18%|██████                            | 54/300 [00:51<03:37,  1.13it/s]"
     ]
    },
    {
     "name": "stdout",
     "output_type": "stream",
     "text": [
      "Epoch  53 , loss 0.42186517955041397\n",
      "Epoch  54 , loss 0.42465561043982414\n"
     ]
    },
    {
     "name": "stderr",
     "output_type": "stream",
     "text": [
      "\r",
      "Iterations:  18%|██████▏                           | 55/300 [00:52<03:52,  1.05it/s]"
     ]
    },
    {
     "name": "stdout",
     "output_type": "stream",
     "text": [
      "Epoch:  54\n",
      "t_loss:  0.42465561043982414 , v_loss:  0.6021254708369573\n",
      "t_acc:  0.7012138188608776 , v_acc:  0.7080745341614907\n",
      "t_recall:  0.5132279271489549 , v_recall:  0.53\n",
      "t_prec:  0.6984733872407023 , v_prec:  0.8512658227848101\n",
      "t_f:  0.4423940207330618 , v_f:  0.4692431787893666\n",
      "////////\n"
     ]
    },
    {
     "name": "stderr",
     "output_type": "stream",
     "text": [
      "\r",
      "Iterations:  19%|██████▎                           | 56/300 [00:53<03:34,  1.14it/s]"
     ]
    },
    {
     "name": "stdout",
     "output_type": "stream",
     "text": [
      "Epoch  55 , loss 0.4181841793013554\n",
      "Epoch  56 , loss 0.41925789737233926\n"
     ]
    },
    {
     "name": "stderr",
     "output_type": "stream",
     "text": [
      "\r",
      "Iterations:  19%|██████▍                           | 57/300 [00:54<03:49,  1.06it/s]"
     ]
    },
    {
     "name": "stdout",
     "output_type": "stream",
     "text": [
      "Epoch:  56\n",
      "t_loss:  0.41925789737233926 , v_loss:  0.6008543620506922\n",
      "t_acc:  0.7005913476501712 , v_acc:  0.6956521739130435\n",
      "t_recall:  0.5104802294780473 , v_recall:  0.520990990990991\n",
      "t_prec:  0.7250471549827098 , v_prec:  0.6493589743589743\n",
      "t_f:  0.43495144566155286 , v_f:  0.4627851549199864\n",
      "////////\n"
     ]
    },
    {
     "name": "stderr",
     "output_type": "stream",
     "text": [
      "\r",
      "Iterations:  19%|██████▌                           | 58/300 [00:55<03:33,  1.13it/s]"
     ]
    },
    {
     "name": "stdout",
     "output_type": "stream",
     "text": [
      "Epoch  57 , loss 0.418086975812912\n",
      "Epoch  58 , loss 0.4176439736403671\n"
     ]
    },
    {
     "name": "stderr",
     "output_type": "stream",
     "text": [
      "\r",
      "Iterations:  20%|██████▋                           | 59/300 [00:56<03:47,  1.06it/s]"
     ]
    },
    {
     "name": "stdout",
     "output_type": "stream",
     "text": [
      "Epoch:  58\n",
      "t_loss:  0.4176439736403671 , v_loss:  0.5970217088858286\n",
      "t_acc:  0.7015250544662309 , v_acc:  0.6956521739130435\n",
      "t_recall:  0.5120139718093356 , v_recall:  0.520990990990991\n",
      "t_prec:  0.7360918816865953 , v_prec:  0.6493589743589743\n",
      "t_f:  0.43807046361461355 , v_f:  0.4627851549199864\n",
      "////////\n"
     ]
    },
    {
     "name": "stderr",
     "output_type": "stream",
     "text": [
      "\r",
      "Iterations:  20%|██████▊                           | 60/300 [00:56<03:30,  1.14it/s]"
     ]
    },
    {
     "name": "stdout",
     "output_type": "stream",
     "text": [
      "Epoch  59 , loss 0.4123850084987341\n",
      "Epoch  60 , loss 0.4117951755430184\n"
     ]
    },
    {
     "name": "stderr",
     "output_type": "stream",
     "text": [
      "\r",
      "Iterations:  20%|██████▉                           | 61/300 [00:58<03:48,  1.05it/s]"
     ]
    },
    {
     "name": "stdout",
     "output_type": "stream",
     "text": [
      "Epoch:  60\n",
      "t_loss:  0.4117951755430184 , v_loss:  0.5944670587778091\n",
      "t_acc:  0.7021475256769374 , v_acc:  0.6956521739130435\n",
      "t_recall:  0.5147616694802433 , v_recall:  0.520990990990991\n",
      "t_prec:  0.7081226295828066 , v_prec:  0.6493589743589743\n",
      "t_f:  0.4454523205909422 , v_f:  0.4627851549199864\n",
      "////////\n"
     ]
    },
    {
     "name": "stderr",
     "output_type": "stream",
     "text": [
      "\r",
      "Iterations:  21%|███████                           | 62/300 [00:58<03:31,  1.13it/s]"
     ]
    },
    {
     "name": "stdout",
     "output_type": "stream",
     "text": [
      "Epoch  61 , loss 0.41752947311775357\n",
      "Epoch  62 , loss 0.4217357068669562\n"
     ]
    },
    {
     "name": "stderr",
     "output_type": "stream",
     "text": [
      "\r",
      "Iterations:  21%|███████▏                          | 63/300 [00:59<03:42,  1.06it/s]"
     ]
    },
    {
     "name": "stdout",
     "output_type": "stream",
     "text": [
      "Epoch:  62\n",
      "t_loss:  0.4217357068669562 , v_loss:  0.592116912206014\n",
      "t_acc:  0.6968565203859322 , v_acc:  0.6956521739130435\n",
      "t_recall:  0.5072205981251973 , v_recall:  0.520990990990991\n",
      "t_prec:  0.6243539237314844 , v_prec:  0.6493589743589743\n",
      "t_f:  0.43155922681670755 , v_f:  0.4627851549199864\n",
      "////////\n"
     ]
    },
    {
     "name": "stderr",
     "output_type": "stream",
     "text": [
      "\r",
      "Iterations:  21%|███████▎                          | 64/300 [01:00<03:27,  1.14it/s]"
     ]
    },
    {
     "name": "stdout",
     "output_type": "stream",
     "text": [
      "Epoch  63 , loss 0.42036929317549165\n",
      "Epoch  64 , loss 0.41805079345609625\n"
     ]
    },
    {
     "name": "stderr",
     "output_type": "stream",
     "text": [
      "\r",
      "Iterations:  22%|███████▎                          | 65/300 [01:01<03:43,  1.05it/s]"
     ]
    },
    {
     "name": "stdout",
     "output_type": "stream",
     "text": [
      "Epoch:  64\n",
      "t_loss:  0.41805079345609625 , v_loss:  0.5846351683139801\n",
      "t_acc:  0.7005913476501712 , v_acc:  0.6956521739130435\n",
      "t_recall:  0.511055297072508 , v_recall:  0.5264864864864865\n",
      "t_prec:  0.7112842304060434 , v_prec:  0.6363636363636364\n",
      "t_f:  0.43676445505713796 , v_f:  0.477722608407812\n",
      "////////\n"
     ]
    },
    {
     "name": "stderr",
     "output_type": "stream",
     "text": [
      "\r",
      "Iterations:  22%|███████▍                          | 66/300 [01:02<03:25,  1.14it/s]"
     ]
    },
    {
     "name": "stdout",
     "output_type": "stream",
     "text": [
      "Epoch  65 , loss 0.4130488768512127\n",
      "Epoch  66 , loss 0.41199326807377384\n"
     ]
    },
    {
     "name": "stderr",
     "output_type": "stream",
     "text": [
      "\r",
      "Iterations:  22%|███████▌                          | 67/300 [01:03<03:38,  1.07it/s]"
     ]
    },
    {
     "name": "stdout",
     "output_type": "stream",
     "text": [
      "Epoch:  66\n",
      "t_loss:  0.41199326807377384 , v_loss:  0.5838031421105067\n",
      "t_acc:  0.702769996887644 , v_acc:  0.6956521739130435\n",
      "t_recall:  0.5169342995566901 , v_recall:  0.5264864864864865\n",
      "t_prec:  0.6989160925593543 , v_prec:  0.6363636363636364\n",
      "t_f:  0.45093070583976463 , v_f:  0.477722608407812\n",
      "////////\n"
     ]
    },
    {
     "name": "stderr",
     "output_type": "stream",
     "text": [
      "\r",
      "Iterations:  23%|███████▋                          | 68/300 [01:04<03:22,  1.15it/s]"
     ]
    },
    {
     "name": "stdout",
     "output_type": "stream",
     "text": [
      "Epoch  67 , loss 0.4103080507586984\n",
      "Epoch  68 , loss 0.40788548804965674\n"
     ]
    },
    {
     "name": "stderr",
     "output_type": "stream",
     "text": [
      "\r",
      "Iterations:  23%|███████▊                          | 69/300 [01:05<03:36,  1.07it/s]"
     ]
    },
    {
     "name": "stdout",
     "output_type": "stream",
     "text": [
      "Epoch:  68\n",
      "t_loss:  0.40788548804965674 , v_loss:  0.5845165600379308\n",
      "t_acc:  0.7043261749144102 , v_acc:  0.7018633540372671\n",
      "t_recall:  0.5189154691810434 , v_recall:  0.5364864864864866\n",
      "t_prec:  0.7185537583254044 , v_prec:  0.6654411764705883\n",
      "t_f:  0.45423033845282385 , v_f:  0.4952978056426333\n",
      "////////\n"
     ]
    },
    {
     "name": "stderr",
     "output_type": "stream",
     "text": [
      "\r",
      "Iterations:  23%|███████▉                          | 70/300 [01:05<03:20,  1.15it/s]"
     ]
    },
    {
     "name": "stdout",
     "output_type": "stream",
     "text": [
      "Epoch  69 , loss 0.41331707291743336\n",
      "Epoch  70 , loss 0.4061441941588533\n"
     ]
    },
    {
     "name": "stderr",
     "output_type": "stream",
     "text": [
      "\r",
      "Iterations:  24%|████████                          | 71/300 [01:07<03:36,  1.06it/s]"
     ]
    },
    {
     "name": "stdout",
     "output_type": "stream",
     "text": [
      "Epoch:  70\n",
      "t_loss:  0.4061441941588533 , v_loss:  0.5831644733746847\n",
      "t_acc:  0.7068160597572363 , v_acc:  0.7080745341614907\n",
      "t_recall:  0.5221428473394546 , v_recall:  0.5464864864864865\n",
      "t_prec:  0.7477477708049671 , v_prec:  0.6885964912280702\n",
      "t_f:  0.45966644291467906 , v_f:  0.5123413030869368\n",
      "////////\n"
     ]
    },
    {
     "name": "stderr",
     "output_type": "stream",
     "text": [
      "\r",
      "Iterations:  24%|████████▏                         | 72/300 [01:07<03:19,  1.14it/s]"
     ]
    },
    {
     "name": "stdout",
     "output_type": "stream",
     "text": [
      "Epoch  71 , loss 0.40519240031055376\n",
      "Epoch  72 , loss 0.40041086983446983\n"
     ]
    },
    {
     "name": "stderr",
     "output_type": "stream",
     "text": [
      "\r",
      "Iterations:  24%|████████▎                         | 73/300 [01:08<03:31,  1.07it/s]"
     ]
    },
    {
     "name": "stdout",
     "output_type": "stream",
     "text": [
      "Epoch:  72\n",
      "t_loss:  0.40041086983446983 , v_loss:  0.5792983969052633\n",
      "t_acc:  0.706504824151883 , v_acc:  0.7142857142857143\n",
      "t_recall:  0.5245069378679952 , v_recall:  0.5564864864864865\n",
      "t_prec:  0.7111536824180502 , v_prec:  0.707615894039735\n",
      "t_f:  0.4669169634388306 , v_f:  0.528880407124682\n",
      "////////\n"
     ]
    },
    {
     "name": "stderr",
     "output_type": "stream",
     "text": [
      "\r",
      "Iterations:  25%|████████▍                         | 74/300 [01:09<03:17,  1.15it/s]"
     ]
    },
    {
     "name": "stdout",
     "output_type": "stream",
     "text": [
      "Epoch  73 , loss 0.4059552982741711\n",
      "Epoch  74 , loss 0.400690209924006\n"
     ]
    },
    {
     "name": "stderr",
     "output_type": "stream",
     "text": [
      "\r",
      "Iterations:  25%|████████▌                         | 75/300 [01:10<03:34,  1.05it/s]"
     ]
    },
    {
     "name": "stdout",
     "output_type": "stream",
     "text": [
      "Epoch:  74\n",
      "t_loss:  0.400690209924006 , v_loss:  0.5773574014504751\n",
      "t_acc:  0.710239651416122 , v_acc:  0.7204968944099379\n",
      "t_recall:  0.5283416368153059 , v_recall:  0.5664864864864865\n",
      "t_prec:  0.7565514842300557 , v_prec:  0.7236363636363636\n",
      "t_f:  0.4720986233776089 , v_f:  0.5449406444318825\n",
      "////////\n"
     ]
    },
    {
     "name": "stderr",
     "output_type": "stream",
     "text": [
      "\r",
      "Iterations:  25%|████████▌                         | 76/300 [01:11<03:17,  1.13it/s]"
     ]
    },
    {
     "name": "stdout",
     "output_type": "stream",
     "text": [
      "Epoch  75 , loss 0.4027170831081914\n",
      "Epoch  76 , loss 0.40476301137138815\n"
     ]
    },
    {
     "name": "stderr",
     "output_type": "stream",
     "text": [
      "\r",
      "Iterations:  26%|████████▋                         | 77/300 [01:12<03:31,  1.05it/s]"
     ]
    },
    {
     "name": "stdout",
     "output_type": "stream",
     "text": [
      "Epoch:  76\n",
      "t_loss:  0.40476301137138815 , v_loss:  0.5770019888877869\n",
      "t_acc:  0.707749766573296 , v_acc:  0.7329192546583851\n",
      "t_recall:  0.5248267248596643 , v_recall:  0.5809909909909909\n",
      "t_prec:  0.7367463572114126 , v_prec:  0.7724242424242425\n",
      "t_f:  0.4659337508021153 , v_f:  0.5651655046793542\n",
      "////////\n"
     ]
    },
    {
     "name": "stderr",
     "output_type": "stream",
     "text": [
      "\r",
      "Iterations:  26%|████████▊                         | 78/300 [01:13<03:15,  1.14it/s]"
     ]
    },
    {
     "name": "stdout",
     "output_type": "stream",
     "text": [
      "Epoch  77 , loss 0.40924932208715703\n",
      "Epoch  78 , loss 0.39911679660572724\n"
     ]
    },
    {
     "name": "stderr",
     "output_type": "stream",
     "text": [
      "\r",
      "Iterations:  26%|████████▉                         | 79/300 [01:14<03:31,  1.04it/s]"
     ]
    },
    {
     "name": "stdout",
     "output_type": "stream",
     "text": [
      "Epoch:  78\n",
      "t_loss:  0.39911679660572724 , v_loss:  0.579445501168569\n",
      "t_acc:  0.7124183006535948 , v_acc:  0.7391304347826086\n",
      "t_recall:  0.5301951661382632 , v_recall:  0.590990990990991\n",
      "t_prec:  0.7918457497612226 , v_prec:  0.7824384787472036\n",
      "t_f:  0.47406249999999994 , v_f:  0.5805210918114144\n",
      "////////\n"
     ]
    },
    {
     "name": "stderr",
     "output_type": "stream",
     "text": [
      "\r",
      "Iterations:  27%|█████████                         | 80/300 [01:15<03:14,  1.13it/s]"
     ]
    },
    {
     "name": "stdout",
     "output_type": "stream",
     "text": [
      "Epoch  79 , loss 0.40257521470387775\n",
      "Epoch  80 , loss 0.39656678192755757\n"
     ]
    },
    {
     "name": "stderr",
     "output_type": "stream",
     "text": [
      "\r",
      "Iterations:  27%|█████████▏                        | 81/300 [01:16<03:27,  1.06it/s]"
     ]
    },
    {
     "name": "stdout",
     "output_type": "stream",
     "text": [
      "Epoch:  80\n",
      "t_loss:  0.39656678192755757 , v_loss:  0.5808593531449636\n",
      "t_acc:  0.711484593837535 , v_acc:  0.7267080745341615\n",
      "t_recall:  0.5326868969681997 , v_recall:  0.5709909909909909\n",
      "t_prec:  0.7363855326019348 , v_prec:  0.7609271523178809\n",
      "t_f:  0.48221788581138925 , v_f:  0.5493638676844783\n",
      "////////\n"
     ]
    },
    {
     "name": "stderr",
     "output_type": "stream",
     "text": [
      "\r",
      "Iterations:  27%|█████████▎                        | 82/300 [01:16<03:12,  1.13it/s]"
     ]
    },
    {
     "name": "stdout",
     "output_type": "stream",
     "text": [
      "Epoch  81 , loss 0.3978237124050365\n",
      "Epoch  82 , loss 0.3966958955222485\n"
     ]
    },
    {
     "name": "stderr",
     "output_type": "stream",
     "text": [
      "\r",
      "Iterations:  28%|█████████▍                        | 83/300 [01:18<03:24,  1.06it/s]"
     ]
    },
    {
     "name": "stdout",
     "output_type": "stream",
     "text": [
      "Epoch:  82\n",
      "t_loss:  0.3966958955222485 , v_loss:  0.5784663806358973\n",
      "t_acc:  0.710239651416122 , v_acc:  0.7204968944099379\n",
      "t_recall:  0.5306419071931486 , v_recall:  0.5664864864864865\n",
      "t_prec:  0.7308312655086848 , v_prec:  0.7236363636363636\n",
      "t_f:  0.4784313725490196 , v_f:  0.5449406444318825\n",
      "////////\n"
     ]
    },
    {
     "name": "stderr",
     "output_type": "stream",
     "text": [
      "\r",
      "Iterations:  28%|█████████▌                        | 84/300 [01:18<03:09,  1.14it/s]"
     ]
    },
    {
     "name": "stdout",
     "output_type": "stream",
     "text": [
      "Epoch  83 , loss 0.39381034584606395\n",
      "Epoch  84 , loss 0.39697625999357183\n"
     ]
    },
    {
     "name": "stderr",
     "output_type": "stream",
     "text": [
      "\r",
      "Iterations:  28%|█████████▋                        | 85/300 [01:19<03:21,  1.07it/s]"
     ]
    },
    {
     "name": "stdout",
     "output_type": "stream",
     "text": [
      "Epoch:  84\n",
      "t_loss:  0.39697625999357183 , v_loss:  0.5799417446057001\n",
      "t_acc:  0.710239651416122 , v_acc:  0.7267080745341615\n",
      "t_recall:  0.5300668395986878 , v_recall:  0.5709909909909909\n",
      "t_prec:  0.7363758649958998 , v_prec:  0.7609271523178809\n",
      "t_f:  0.47686686359850117 , v_f:  0.5493638676844783\n",
      "////////\n"
     ]
    },
    {
     "name": "stderr",
     "output_type": "stream",
     "text": [
      "\r",
      "Iterations:  29%|█████████▋                        | 86/300 [01:20<03:07,  1.14it/s]"
     ]
    },
    {
     "name": "stdout",
     "output_type": "stream",
     "text": [
      "Epoch  85 , loss 0.3892019274188023\n",
      "Epoch  86 , loss 0.3898975960179871\n"
     ]
    },
    {
     "name": "stderr",
     "output_type": "stream",
     "text": [
      "\r",
      "Iterations:  29%|█████████▊                        | 87/300 [01:21<03:20,  1.06it/s]"
     ]
    },
    {
     "name": "stdout",
     "output_type": "stream",
     "text": [
      "Epoch:  86\n",
      "t_loss:  0.3898975960179871 , v_loss:  0.5767022023598353\n",
      "t_acc:  0.7164643635231871 , v_acc:  0.7453416149068323\n",
      "t_recall:  0.5425920588517863 , v_recall:  0.5954954954954955\n",
      "t_prec:  0.7411891191709845 , v_prec:  0.8212121212121212\n",
      "t_f:  0.5014633122754212 , v_f:  0.5853903649268262\n",
      "////////\n"
     ]
    },
    {
     "name": "stderr",
     "output_type": "stream",
     "text": [
      "\r",
      "Iterations:  29%|█████████▉                        | 88/300 [01:22<03:05,  1.14it/s]"
     ]
    },
    {
     "name": "stdout",
     "output_type": "stream",
     "text": [
      "Epoch  87 , loss 0.38825160031225164\n",
      "Epoch  88 , loss 0.38783756716578616\n"
     ]
    },
    {
     "name": "stderr",
     "output_type": "stream",
     "text": [
      "\r",
      "Iterations:  30%|██████████                        | 89/300 [01:23<03:18,  1.06it/s]"
     ]
    },
    {
     "name": "stdout",
     "output_type": "stream",
     "text": [
      "Epoch:  88\n",
      "t_loss:  0.38783756716578616 , v_loss:  0.5780643969774246\n",
      "t_acc:  0.715219421101774 , v_acc:  0.7391304347826086\n",
      "t_recall:  0.5399720014822744 , v_recall:  0.5854954954954955\n",
      "t_prec:  0.7412045319022064 , v_prec:  0.8142384105960265\n",
      "t_f:  0.49637298509878897 , v_f:  0.5698473282442748\n",
      "////////\n"
     ]
    },
    {
     "name": "stderr",
     "output_type": "stream",
     "text": [
      "\r",
      "Iterations:  30%|██████████▏                       | 90/300 [01:24<03:05,  1.13it/s]"
     ]
    },
    {
     "name": "stdout",
     "output_type": "stream",
     "text": [
      "Epoch  89 , loss 0.38301923286681083\n",
      "Epoch  90 , loss 0.38268841540112214\n"
     ]
    },
    {
     "name": "stderr",
     "output_type": "stream",
     "text": [
      "\r",
      "Iterations:  30%|██████████▎                       | 91/300 [01:25<03:17,  1.06it/s]"
     ]
    },
    {
     "name": "stdout",
     "output_type": "stream",
     "text": [
      "Epoch:  90\n",
      "t_loss:  0.38268841540112214 , v_loss:  0.575820525487264\n",
      "t_acc:  0.7161531279178338 , v_acc:  0.7329192546583851\n",
      "t_recall:  0.5435184803941753 , v_recall:  0.5809909909909909\n",
      "t_prec:  0.7305555690207617 , v_prec:  0.7724242424242425\n",
      "t_f:  0.5041169924429293 , v_f:  0.5651655046793542\n",
      "////////\n"
     ]
    },
    {
     "name": "stderr",
     "output_type": "stream",
     "text": [
      "\r",
      "Iterations:  31%|██████████▍                       | 92/300 [01:26<03:03,  1.14it/s]"
     ]
    },
    {
     "name": "stdout",
     "output_type": "stream",
     "text": [
      "Epoch  91 , loss 0.38754913853664025\n",
      "Epoch  92 , loss 0.37964743434214127\n"
     ]
    },
    {
     "name": "stderr",
     "output_type": "stream",
     "text": [
      "\r",
      "Iterations:  31%|██████████▌                       | 93/300 [01:27<03:16,  1.06it/s]"
     ]
    },
    {
     "name": "stdout",
     "output_type": "stream",
     "text": [
      "Epoch:  92\n",
      "t_loss:  0.37964743434214127 , v_loss:  0.574099933107694\n",
      "t_acc:  0.7267351384998444 , v_acc:  0.7515527950310559\n",
      "t_recall:  0.5571629541181153 , v_recall:  0.610990990990991\n",
      "t_prec:  0.7865252406657464 , v_prec:  0.7993197278911565\n",
      "t_f:  0.525299189596683 , v_f:  0.6099806201550388\n",
      "////////\n"
     ]
    },
    {
     "name": "stderr",
     "output_type": "stream",
     "text": [
      "\r",
      "Iterations:  31%|██████████▋                       | 94/300 [01:27<03:00,  1.14it/s]"
     ]
    },
    {
     "name": "stdout",
     "output_type": "stream",
     "text": [
      "Epoch  93 , loss 0.3831855882616604\n",
      "Epoch  94 , loss 0.3764314242437774\n"
     ]
    },
    {
     "name": "stderr",
     "output_type": "stream",
     "text": [
      "\r",
      "Iterations:  32%|██████████▊                       | 95/300 [01:28<03:12,  1.06it/s]"
     ]
    },
    {
     "name": "stdout",
     "output_type": "stream",
     "text": [
      "Epoch:  94\n",
      "t_loss:  0.3764314242437774 , v_loss:  0.572469562292099\n",
      "t_acc:  0.7201991907874261 , v_acc:  0.7577639751552795\n",
      "t_recall:  0.54901456197417 , v_recall:  0.620990990990991\n",
      "t_prec:  0.7507395514947834 , v_prec:  0.8066210045662101\n",
      "t_f:  0.5129152654240119 , v_f:  0.624124513618677\n",
      "////////\n"
     ]
    },
    {
     "name": "stderr",
     "output_type": "stream",
     "text": [
      "\r",
      "Iterations:  32%|██████████▉                       | 96/300 [01:29<03:00,  1.13it/s]"
     ]
    },
    {
     "name": "stdout",
     "output_type": "stream",
     "text": [
      "Epoch  95 , loss 0.380723551792257\n",
      "Epoch  96 , loss 0.3749665471852994\n"
     ]
    },
    {
     "name": "stderr",
     "output_type": "stream",
     "text": [
      "\r",
      "Iterations:  32%|██████████▉                       | 97/300 [01:30<03:12,  1.05it/s]"
     ]
    },
    {
     "name": "stdout",
     "output_type": "stream",
     "text": [
      "Epoch:  96\n",
      "t_loss:  0.3749665471852994 , v_loss:  0.5728928595781326\n",
      "t_acc:  0.7360722066604419 , v_acc:  0.7329192546583851\n",
      "t_recall:  0.5745131140116111 , v_recall:  0.5974774774774775\n",
      "t_prec:  0.7892835448703603 , v_prec:  0.7209967320261439\n",
      "t_f:  0.5551611045151583 , v_f:  0.5947907521217443\n",
      "////////\n"
     ]
    },
    {
     "name": "stderr",
     "output_type": "stream",
     "text": [
      "\r",
      "Iterations:  33%|███████████                       | 98/300 [01:31<02:58,  1.13it/s]"
     ]
    },
    {
     "name": "stdout",
     "output_type": "stream",
     "text": [
      "Epoch  97 , loss 0.3740990664444718\n",
      "Epoch  98 , loss 0.3709808780866511\n"
     ]
    },
    {
     "name": "stderr",
     "output_type": "stream",
     "text": [
      "\r",
      "Iterations:  33%|███████████▏                      | 99/300 [01:32<03:11,  1.05it/s]"
     ]
    },
    {
     "name": "stdout",
     "output_type": "stream",
     "text": [
      "Epoch:  98\n",
      "t_loss:  0.3709808780866511 , v_loss:  0.5744711657365164\n",
      "t_acc:  0.7304699657640834 , v_acc:  0.7329192546583851\n",
      "t_recall:  0.5653106600238811 , v_recall:  0.5974774774774775\n",
      "t_prec:  0.779064039408867 , v_prec:  0.7209967320261439\n",
      "t_f:  0.5401564731080438 , v_f:  0.5947907521217443\n",
      "////////\n"
     ]
    },
    {
     "name": "stderr",
     "output_type": "stream",
     "text": [
      "\r",
      "Iterations:  33%|███████████                      | 100/300 [01:33<02:57,  1.13it/s]"
     ]
    },
    {
     "name": "stdout",
     "output_type": "stream",
     "text": [
      "Epoch  99 , loss 0.36787261623962253\n",
      "Epoch  100 , loss 0.3707506238829856\n"
     ]
    },
    {
     "name": "stderr",
     "output_type": "stream",
     "text": [
      "\r",
      "Iterations:  34%|███████████                      | 101/300 [01:34<03:08,  1.05it/s]"
     ]
    },
    {
     "name": "stdout",
     "output_type": "stream",
     "text": [
      "Epoch:  100\n",
      "t_loss:  0.3707506238829856 , v_loss:  0.57874829073747\n",
      "t_acc:  0.7310924369747899 , v_acc:  0.7391304347826086\n",
      "t_recall:  0.5671957563030977 , v_recall:  0.601981981981982\n",
      "t_prec:  0.7747899018169845 , v_prec:  0.7439655172413793\n",
      "t_f:  0.5437075764708357 , v_f:  0.5997869318181819\n",
      "////////\n"
     ]
    },
    {
     "name": "stderr",
     "output_type": "stream",
     "text": [
      "\r",
      "Iterations:  34%|███████████▏                     | 102/300 [01:35<02:54,  1.13it/s]"
     ]
    },
    {
     "name": "stdout",
     "output_type": "stream",
     "text": [
      "Epoch  101 , loss 0.37798423188574176\n",
      "Epoch  102 , loss 0.368781446241865\n"
     ]
    },
    {
     "name": "stderr",
     "output_type": "stream",
     "text": [
      "\r",
      "Iterations:  34%|███████████▎                     | 103/300 [01:36<03:07,  1.05it/s]"
     ]
    },
    {
     "name": "stdout",
     "output_type": "stream",
     "text": [
      "Epoch:  102\n",
      "t_loss:  0.368781446241865 , v_loss:  0.5714150816202164\n",
      "t_acc:  0.733582321817616 , v_acc:  0.7453416149068323\n",
      "t_recall:  0.5727234048393516 , v_recall:  0.6174774774774775\n",
      "t_prec:  0.7714099363822936 , v_prec:  0.7416604892512972\n",
      "t_f:  0.5533505432558454 , v_f:  0.621870882740448\n",
      "////////\n"
     ]
    },
    {
     "name": "stderr",
     "output_type": "stream",
     "text": [
      "\r",
      "Iterations:  35%|███████████▍                     | 104/300 [01:37<02:52,  1.14it/s]"
     ]
    },
    {
     "name": "stdout",
     "output_type": "stream",
     "text": [
      "Epoch  103 , loss 0.3715524638400358\n",
      "Epoch  104 , loss 0.3653076556967754\n"
     ]
    },
    {
     "name": "stderr",
     "output_type": "stream",
     "text": [
      "\r",
      "Iterations:  35%|███████████▌                     | 105/300 [01:38<03:04,  1.06it/s]"
     ]
    },
    {
     "name": "stdout",
     "output_type": "stream",
     "text": [
      "Epoch:  104\n",
      "t_loss:  0.3653076556967754 , v_loss:  0.5764852513869604\n",
      "t_acc:  0.737317149081855 , v_acc:  0.7329192546583851\n",
      "t_recall:  0.5785708403672747 , v_recall:  0.5974774774774775\n",
      "t_prec:  0.7797856430707877 , v_prec:  0.7209967320261439\n",
      "t_f:  0.562505081950075 , v_f:  0.5947907521217443\n",
      "////////\n"
     ]
    },
    {
     "name": "stderr",
     "output_type": "stream",
     "text": [
      "\r",
      "Iterations:  35%|███████████▋                     | 106/300 [01:38<02:48,  1.15it/s]"
     ]
    },
    {
     "name": "stdout",
     "output_type": "stream",
     "text": [
      "Epoch  105 , loss 0.36690842404085044\n",
      "Epoch  106 , loss 0.3676280171847811\n"
     ]
    },
    {
     "name": "stderr",
     "output_type": "stream",
     "text": [
      "\r",
      "Iterations:  36%|███████████▊                     | 107/300 [01:39<03:01,  1.06it/s]"
     ]
    },
    {
     "name": "stdout",
     "output_type": "stream",
     "text": [
      "Epoch:  106\n",
      "t_loss:  0.3676280171847811 , v_loss:  0.5796050826708475\n",
      "t_acc:  0.7304699657640834 , v_acc:  0.7329192546583851\n",
      "t_recall:  0.57278653875187 , v_recall:  0.5974774774774775\n",
      "t_prec:  0.7416228776235458 , v_prec:  0.7209967320261439\n",
      "t_f:  0.5557410144170404 , v_f:  0.5947907521217443\n",
      "////////\n"
     ]
    },
    {
     "name": "stderr",
     "output_type": "stream",
     "text": [
      "\r",
      "Iterations:  36%|███████████▉                     | 108/300 [01:40<02:48,  1.14it/s]"
     ]
    },
    {
     "name": "stdout",
     "output_type": "stream",
     "text": [
      "Epoch  107 , loss 0.3599119352943757\n",
      "Epoch  108 , loss 0.36071183138033924\n"
     ]
    },
    {
     "name": "stderr",
     "output_type": "stream",
     "text": [
      "\r",
      "Iterations:  36%|███████████▉                     | 109/300 [01:41<03:02,  1.04it/s]"
     ]
    },
    {
     "name": "stdout",
     "output_type": "stream",
     "text": [
      "Epoch:  108\n",
      "t_loss:  0.36071183138033924 , v_loss:  0.5822327335675558\n",
      "t_acc:  0.74354186118892 , v_acc:  0.7453416149068323\n",
      "t_recall:  0.590233458228682 , v_recall:  0.6174774774774775\n",
      "t_prec:  0.7829421333953056 , v_prec:  0.7416604892512972\n",
      "t_f:  0.5810479782155431 , v_f:  0.621870882740448\n",
      "////////\n"
     ]
    },
    {
     "name": "stderr",
     "output_type": "stream",
     "text": [
      "\r",
      "Iterations:  37%|████████████                     | 110/300 [01:42<02:48,  1.13it/s]"
     ]
    },
    {
     "name": "stdout",
     "output_type": "stream",
     "text": [
      "Epoch  109 , loss 0.35971297966498955\n",
      "Epoch  110 , loss 0.35969342203701243\n"
     ]
    },
    {
     "name": "stderr",
     "output_type": "stream",
     "text": [
      "\r",
      "Iterations:  37%|████████████▏                    | 111/300 [01:43<02:58,  1.06it/s]"
     ]
    },
    {
     "name": "stdout",
     "output_type": "stream",
     "text": [
      "Epoch:  110\n",
      "t_loss:  0.35969342203701243 , v_loss:  0.5867025156815847\n",
      "t_acc:  0.7491441020852786 , v_acc:  0.7329192546583851\n",
      "t_recall:  0.5991483784191818 , v_recall:  0.6029729729729729\n",
      "t_prec:  0.7925703678704016 , v_prec:  0.7118235730170497\n",
      "t_f:  0.5942942850733118 , v_f:  0.6034255599472991\n",
      "////////\n"
     ]
    },
    {
     "name": "stderr",
     "output_type": "stream",
     "text": [
      "\r",
      "Iterations:  37%|████████████▎                    | 112/300 [01:44<02:44,  1.14it/s]"
     ]
    },
    {
     "name": "stdout",
     "output_type": "stream",
     "text": [
      "Epoch  111 , loss 0.3552391061595842\n",
      "Epoch  112 , loss 0.36231113298266543\n"
     ]
    },
    {
     "name": "stderr",
     "output_type": "stream",
     "text": [
      "\r",
      "Iterations:  38%|████████████▍                    | 113/300 [01:45<02:58,  1.05it/s]"
     ]
    },
    {
     "name": "stdout",
     "output_type": "stream",
     "text": [
      "Epoch:  112\n",
      "t_loss:  0.36231113298266543 , v_loss:  0.5851827363173167\n",
      "t_acc:  0.7463429816370993 , v_acc:  0.7391304347826086\n",
      "t_recall:  0.5968474218031594 , v_recall:  0.6129729729729729\n",
      "t_prec:  0.7786550338821523 , v_prec:  0.7223404255319148\n",
      "t_f:  0.591539233662747 , v_f:  0.6166666666666667\n",
      "////////\n"
     ]
    },
    {
     "name": "stderr",
     "output_type": "stream",
     "text": [
      "\r",
      "Iterations:  38%|████████████▌                    | 114/300 [01:46<02:45,  1.13it/s]"
     ]
    },
    {
     "name": "stdout",
     "output_type": "stream",
     "text": [
      "Epoch  113 , loss 0.3593069680181204\n",
      "Epoch  114 , loss 0.3572033053519679\n"
     ]
    },
    {
     "name": "stderr",
     "output_type": "stream",
     "text": [
      "\r",
      "Iterations:  38%|████████████▋                    | 115/300 [01:47<02:55,  1.05it/s]"
     ]
    },
    {
     "name": "stdout",
     "output_type": "stream",
     "text": [
      "Epoch:  114\n",
      "t_loss:  0.3572033053519679 , v_loss:  0.5877901415030161\n",
      "t_acc:  0.7469654528478058 , v_acc:  0.7267080745341615\n",
      "t_recall:  0.598732518082376 , v_recall:  0.5984684684684685\n",
      "t_prec:  0.7762506080233481 , v_prec:  0.6937943262411348\n",
      "t_f:  0.5945391433004956 , v_f:  0.5984126984126984\n",
      "////////\n"
     ]
    },
    {
     "name": "stderr",
     "output_type": "stream",
     "text": [
      "\r",
      "Iterations:  39%|████████████▊                    | 116/300 [01:47<02:41,  1.14it/s]"
     ]
    },
    {
     "name": "stdout",
     "output_type": "stream",
     "text": [
      "Epoch  115 , loss 0.35234564046065014\n",
      "Epoch  116 , loss 0.3506612257630217\n"
     ]
    },
    {
     "name": "stderr",
     "output_type": "stream",
     "text": [
      "\r",
      "Iterations:  39%|████████████▊                    | 117/300 [01:49<02:52,  1.06it/s]"
     ]
    },
    {
     "name": "stdout",
     "output_type": "stream",
     "text": [
      "Epoch:  116\n",
      "t_loss:  0.3506612257630217 , v_loss:  0.5854083697001139\n",
      "t_acc:  0.7519452225334579 , v_acc:  0.7329192546583851\n",
      "t_recall:  0.6043246730075075 , v_recall:  0.6084684684684685\n",
      "t_prec:  0.7939176387188245 , v_prec:  0.7047619047619047\n",
      "t_f:  0.6020316772565752 , v_f:  0.611525728073621\n",
      "////////\n"
     ]
    },
    {
     "name": "stderr",
     "output_type": "stream",
     "text": [
      "\r",
      "Iterations:  39%|████████████▉                    | 118/300 [01:49<02:40,  1.14it/s]"
     ]
    },
    {
     "name": "stdout",
     "output_type": "stream",
     "text": [
      "Epoch  117 , loss 0.3527841711161183\n",
      "Epoch  118 , loss 0.34716498121327044\n"
     ]
    },
    {
     "name": "stderr",
     "output_type": "stream",
     "text": [
      "\r",
      "Iterations:  40%|█████████████                    | 119/300 [01:50<02:50,  1.06it/s]"
     ]
    },
    {
     "name": "stdout",
     "output_type": "stream",
     "text": [
      "Epoch:  118\n",
      "t_loss:  0.34716498121327044 , v_loss:  0.5898394137620926\n",
      "t_acc:  0.7541238717709305 , v_acc:  0.7391304347826086\n",
      "t_recall:  0.6107787430861503 , v_recall:  0.6129729729729729\n",
      "t_prec:  0.7856577441693111 , v_prec:  0.7223404255319148\n",
      "t_f:  0.6119057346219097 , v_f:  0.6166666666666667\n",
      "////////\n"
     ]
    },
    {
     "name": "stderr",
     "output_type": "stream",
     "text": [
      "\r",
      "Iterations:  40%|█████████████▏                   | 120/300 [01:51<02:39,  1.13it/s]"
     ]
    },
    {
     "name": "stdout",
     "output_type": "stream",
     "text": [
      "Epoch  119 , loss 0.340664237445476\n",
      "Epoch  120 , loss 0.34059295408865986\n"
     ]
    },
    {
     "name": "stderr",
     "output_type": "stream",
     "text": [
      "\r",
      "Iterations:  40%|█████████████▎                   | 121/300 [01:52<02:50,  1.05it/s]"
     ]
    },
    {
     "name": "stdout",
     "output_type": "stream",
     "text": [
      "Epoch:  120\n",
      "t_loss:  0.34059295408865986 , v_loss:  0.5938267807165781\n",
      "t_acc:  0.7587924058512294 , v_acc:  0.7453416149068323\n",
      "t_recall:  0.6172973195536706 , v_recall:  0.6229729729729729\n",
      "t_prec:  0.7960468886394813 , v_prec:  0.7321428571428572\n",
      "t_f:  0.6208503203261503 , v_f:  0.6295942988608945\n",
      "////////\n"
     ]
    },
    {
     "name": "stderr",
     "output_type": "stream",
     "text": [
      "\r",
      "Iterations:  41%|█████████████▍                   | 122/300 [01:53<02:37,  1.13it/s]"
     ]
    },
    {
     "name": "stdout",
     "output_type": "stream",
     "text": [
      "Epoch  121 , loss 0.3456477666018056\n",
      "Epoch  122 , loss 0.34420488453378867\n"
     ]
    },
    {
     "name": "stderr",
     "output_type": "stream",
     "text": [
      "\r",
      "Iterations:  41%|█████████████▌                   | 123/300 [01:54<02:47,  1.05it/s]"
     ]
    },
    {
     "name": "stdout",
     "output_type": "stream",
     "text": [
      "Epoch:  122\n",
      "t_loss:  0.34420488453378867 , v_loss:  0.5979962597290674\n",
      "t_acc:  0.7578586990351697 , v_acc:  0.7453416149068323\n",
      "t_recall:  0.6174887800057645 , v_recall:  0.6174774774774775\n",
      "t_prec:  0.7886996904024768 , v_prec:  0.7416604892512972\n",
      "t_f:  0.6213890009705667 , v_f:  0.621870882740448\n",
      "////////\n"
     ]
    },
    {
     "name": "stderr",
     "output_type": "stream",
     "text": [
      "\r",
      "Iterations:  41%|█████████████▋                   | 124/300 [01:55<02:36,  1.13it/s]"
     ]
    },
    {
     "name": "stdout",
     "output_type": "stream",
     "text": [
      "Epoch  123 , loss 0.3413529571364908\n",
      "Epoch  124 , loss 0.33993981778621674\n"
     ]
    },
    {
     "name": "stderr",
     "output_type": "stream",
     "text": [
      "\r",
      "Iterations:  42%|█████████████▊                   | 125/300 [01:56<02:46,  1.05it/s]"
     ]
    },
    {
     "name": "stdout",
     "output_type": "stream",
     "text": [
      "Epoch:  124\n",
      "t_loss:  0.33993981778621674 , v_loss:  0.5978313187758127\n",
      "t_acc:  0.7690631808278867 , v_acc:  0.7515527950310559\n",
      "t_recall:  0.633018350008921 , v_recall:  0.6274774774774775\n",
      "t_prec:  0.8123373888980795 , v_prec:  0.750886524822695\n",
      "t_f:  0.6422392628830397 , v_f:  0.6349206349206349\n",
      "////////\n"
     ]
    },
    {
     "name": "stderr",
     "output_type": "stream",
     "text": [
      "\r",
      "Iterations:  42%|█████████████▊                   | 126/300 [01:57<02:32,  1.14it/s]"
     ]
    },
    {
     "name": "stdout",
     "output_type": "stream",
     "text": [
      "Epoch  125 , loss 0.3383113402946323\n",
      "Epoch  126 , loss 0.3363375663757324\n"
     ]
    },
    {
     "name": "stderr",
     "output_type": "stream",
     "text": [
      "\r",
      "Iterations:  42%|█████████████▉                   | 127/300 [01:58<02:41,  1.07it/s]"
     ]
    },
    {
     "name": "stdout",
     "output_type": "stream",
     "text": [
      "Epoch:  126\n",
      "t_loss:  0.3363375663757324 , v_loss:  0.6050480206807455\n",
      "t_acc:  0.7703081232492998 , v_acc:  0.7453416149068323\n",
      "t_recall:  0.6376511439590453 , v_recall:  0.6174774774774775\n",
      "t_prec:  0.8048647531349551 , v_prec:  0.7416604892512972\n",
      "t_f:  0.648581220151855 , v_f:  0.621870882740448\n",
      "////////\n"
     ]
    },
    {
     "name": "stderr",
     "output_type": "stream",
     "text": [
      "\r",
      "Iterations:  43%|██████████████                   | 128/300 [01:58<02:29,  1.15it/s]"
     ]
    },
    {
     "name": "stdout",
     "output_type": "stream",
     "text": [
      "Epoch  127 , loss 0.3416031853241079\n",
      "Epoch  128 , loss 0.3302937187984878\n"
     ]
    },
    {
     "name": "stderr",
     "output_type": "stream",
     "text": [
      "\r",
      "Iterations:  43%|██████████████▏                  | 129/300 [02:00<02:40,  1.07it/s]"
     ]
    },
    {
     "name": "stdout",
     "output_type": "stream",
     "text": [
      "Epoch:  128\n",
      "t_loss:  0.3302937187984878 , v_loss:  0.6095661620299021\n",
      "t_acc:  0.7749766573295985 , v_acc:  0.7515527950310559\n",
      "t_recall:  0.6456073894127173 , v_recall:  0.6274774774774775\n",
      "t_prec:  0.8091313672088984 , v_prec:  0.750886524822695\n",
      "t_f:  0.6589589095958845 , v_f:  0.6349206349206349\n",
      "////////\n"
     ]
    },
    {
     "name": "stderr",
     "output_type": "stream",
     "text": [
      "\r",
      "Iterations:  43%|██████████████▎                  | 130/300 [02:00<02:29,  1.13it/s]"
     ]
    },
    {
     "name": "stdout",
     "output_type": "stream",
     "text": [
      "Epoch  129 , loss 0.3307308355967204\n",
      "Epoch  130 , loss 0.3319074163834254\n"
     ]
    },
    {
     "name": "stderr",
     "output_type": "stream",
     "text": [
      "\r",
      "Iterations:  44%|██████████████▍                  | 131/300 [02:01<02:39,  1.06it/s]"
     ]
    },
    {
     "name": "stdout",
     "output_type": "stream",
     "text": [
      "Epoch:  130\n",
      "t_loss:  0.3319074163834254 , v_loss:  0.6174663255612055\n",
      "t_acc:  0.7765328353563647 , v_acc:  0.7639751552795031\n",
      "t_recall:  0.6455758224564582 , v_recall:  0.6474774774774775\n",
      "t_prec:  0.8191550821447915 , v_prec:  0.7676586003924133\n",
      "t_f:  0.6588687782805429 , v_f:  0.6601111111111111\n",
      "////////\n"
     ]
    },
    {
     "name": "stderr",
     "output_type": "stream",
     "text": [
      "\r",
      "Iterations:  44%|██████████████▌                  | 132/300 [02:02<02:27,  1.14it/s]"
     ]
    },
    {
     "name": "stdout",
     "output_type": "stream",
     "text": [
      "Epoch  131 , loss 0.3296302422588947\n",
      "Epoch  132 , loss 0.32252511761936487\n"
     ]
    },
    {
     "name": "stderr",
     "output_type": "stream",
     "text": [
      "\r",
      "Iterations:  44%|██████████████▋                  | 133/300 [02:03<02:37,  1.06it/s]"
     ]
    },
    {
     "name": "stdout",
     "output_type": "stream",
     "text": [
      "Epoch:  132\n",
      "t_loss:  0.32252511761936487 , v_loss:  0.6156142254670461\n",
      "t_acc:  0.7790227201991908 , v_acc:  0.7577639751552795\n",
      "t_recall:  0.6534037413705549 , v_recall:  0.642972972972973\n",
      "t_prec:  0.8100623981683714 , v_prec:  0.75\n",
      "t_f:  0.6688955783655743 , v_f:  0.654563459316719\n",
      "////////\n"
     ]
    },
    {
     "name": "stderr",
     "output_type": "stream",
     "text": [
      "\r",
      "Iterations:  45%|██████████████▋                  | 134/300 [02:04<02:26,  1.13it/s]"
     ]
    },
    {
     "name": "stdout",
     "output_type": "stream",
     "text": [
      "Epoch  133 , loss 0.3208945364344354\n",
      "Epoch  134 , loss 0.32839280659077213\n"
     ]
    },
    {
     "name": "stderr",
     "output_type": "stream",
     "text": [
      "\r",
      "Iterations:  45%|██████████████▊                  | 135/300 [02:05<02:34,  1.07it/s]"
     ]
    },
    {
     "name": "stdout",
     "output_type": "stream",
     "text": [
      "Epoch:  134\n",
      "t_loss:  0.32839280659077213 , v_loss:  0.60408849020799\n",
      "t_acc:  0.7799564270152506 , v_acc:  0.7763975155279503\n",
      "t_recall:  0.6552250174990736 , v_recall:  0.661981981981982\n",
      "t_prec:  0.8102379894336642 , v_prec:  0.7939829954218444\n",
      "t_f:  0.6711777848707309 , v_f:  0.6779999999999999\n",
      "////////\n"
     ]
    },
    {
     "name": "stderr",
     "output_type": "stream",
     "text": [
      "\r",
      "Iterations:  45%|██████████████▉                  | 136/300 [02:06<02:22,  1.15it/s]"
     ]
    },
    {
     "name": "stdout",
     "output_type": "stream",
     "text": [
      "Epoch  135 , loss 0.3255690315774843\n",
      "Epoch  136 , loss 0.3312479754288991\n"
     ]
    },
    {
     "name": "stderr",
     "output_type": "stream",
     "text": [
      "\r",
      "Iterations:  46%|███████████████                  | 137/300 [02:07<02:34,  1.06it/s]"
     ]
    },
    {
     "name": "stdout",
     "output_type": "stream",
     "text": [
      "Epoch:  136\n",
      "t_loss:  0.3312479754288991 , v_loss:  0.6126438130935034\n",
      "t_acc:  0.7833800186741363 , v_acc:  0.7453416149068323\n",
      "t_recall:  0.6582609352053911 , v_recall:  0.6339639639639639\n",
      "t_prec:  0.8213364110948038 , v_prec:  0.7186764705882354\n",
      "t_f:  0.6750746547978421 , v_f:  0.6436707152496627\n",
      "////////\n"
     ]
    },
    {
     "name": "stderr",
     "output_type": "stream",
     "text": [
      "\r",
      "Iterations:  46%|███████████████▏                 | 138/300 [02:08<02:22,  1.14it/s]"
     ]
    },
    {
     "name": "stdout",
     "output_type": "stream",
     "text": [
      "Epoch  137 , loss 0.32138635159707535\n",
      "Epoch  138 , loss 0.3238853274607191\n"
     ]
    },
    {
     "name": "stderr",
     "output_type": "stream",
     "text": [
      "\r",
      "Iterations:  46%|███████████████▎                 | 139/300 [02:09<02:31,  1.06it/s]"
     ]
    },
    {
     "name": "stdout",
     "output_type": "stream",
     "text": [
      "Epoch:  138\n",
      "t_loss:  0.3238853274607191 , v_loss:  0.611828625202179\n",
      "t_acc:  0.7790227201991908 , v_acc:  0.7515527950310559\n",
      "t_recall:  0.6571416807345494 , v_recall:  0.6439639639639639\n",
      "t_prec:  0.8001336898395722 , v_prec:  0.7276353276353276\n",
      "t_f:  0.6734307359307359 , v_f:  0.6555412922550278\n",
      "////////\n"
     ]
    },
    {
     "name": "stderr",
     "output_type": "stream",
     "text": [
      "\r",
      "Iterations:  47%|███████████████▍                 | 140/300 [02:09<02:20,  1.14it/s]"
     ]
    },
    {
     "name": "stdout",
     "output_type": "stream",
     "text": [
      "Epoch  139 , loss 0.3207768537834579\n",
      "Epoch  140 , loss 0.31602226226937535\n"
     ]
    },
    {
     "name": "stderr",
     "output_type": "stream",
     "text": [
      "\r",
      "Iterations:  47%|███████████████▌                 | 141/300 [02:10<02:30,  1.06it/s]"
     ]
    },
    {
     "name": "stdout",
     "output_type": "stream",
     "text": [
      "Epoch:  140\n",
      "t_loss:  0.31602226226937535 , v_loss:  0.6207863986492157\n",
      "t_acc:  0.7886710239651417 , v_acc:  0.7701863354037267\n",
      "t_recall:  0.6701150135188921 , v_recall:  0.6684684684684685\n",
      "t_prec:  0.817627869471404 , v_prec:  0.7584300718629077\n",
      "t_f:  0.6894707902469186 , v_f:  0.6842300556586272\n",
      "////////\n"
     ]
    },
    {
     "name": "stderr",
     "output_type": "stream",
     "text": [
      "\r",
      "Iterations:  47%|███████████████▌                 | 142/300 [02:11<02:18,  1.14it/s]"
     ]
    },
    {
     "name": "stdout",
     "output_type": "stream",
     "text": [
      "Epoch  141 , loss 0.3178879101486767\n",
      "Epoch  142 , loss 0.31256771555133894\n"
     ]
    },
    {
     "name": "stderr",
     "output_type": "stream",
     "text": [
      "\r",
      "Iterations:  48%|███████████████▋                 | 143/300 [02:12<02:29,  1.05it/s]"
     ]
    },
    {
     "name": "stdout",
     "output_type": "stream",
     "text": [
      "Epoch:  142\n",
      "t_loss:  0.31256771555133894 , v_loss:  0.616980105638504\n",
      "t_acc:  0.7899159663865546 , v_acc:  0.7701863354037267\n",
      "t_recall:  0.6727350708884039 , v_recall:  0.662972972972973\n",
      "t_prec:  0.8173861108822802 , v_prec:  0.766029411764706\n",
      "t_f:  0.6925687911483513 , v_f:  0.6784345479082321\n",
      "////////\n"
     ]
    },
    {
     "name": "stderr",
     "output_type": "stream",
     "text": [
      "\r",
      "Iterations:  48%|███████████████▊                 | 144/300 [02:13<02:17,  1.14it/s]"
     ]
    },
    {
     "name": "stdout",
     "output_type": "stream",
     "text": [
      "Epoch  143 , loss 0.30873096398278776\n",
      "Epoch  144 , loss 0.3182015553408978\n"
     ]
    },
    {
     "name": "stderr",
     "output_type": "stream",
     "text": [
      "\r",
      "Iterations:  48%|███████████████▉                 | 145/300 [02:14<02:25,  1.06it/s]"
     ]
    },
    {
     "name": "stdout",
     "output_type": "stream",
     "text": [
      "Epoch:  144\n",
      "t_loss:  0.3182015553408978 , v_loss:  0.6357503135999044\n",
      "t_acc:  0.7948957360722066 , v_acc:  0.7515527950310559\n",
      "t_recall:  0.6774646244218443 , v_recall:  0.632972972972973\n",
      "t_prec:  0.8313505927293912 , v_prec:  0.7413342053629823\n",
      "t_f:  0.698617453273519 , v_f:  0.6422222222222222\n",
      "////////\n"
     ]
    },
    {
     "name": "stderr",
     "output_type": "stream",
     "text": [
      "\r",
      "Iterations:  49%|████████████████                 | 146/300 [02:15<02:15,  1.14it/s]"
     ]
    },
    {
     "name": "stdout",
     "output_type": "stream",
     "text": [
      "Epoch  145 , loss 0.30885636981795817\n",
      "Epoch  146 , loss 0.31601442455076706\n"
     ]
    },
    {
     "name": "stderr",
     "output_type": "stream",
     "text": [
      "\r",
      "Iterations:  49%|████████████████▏                | 147/300 [02:16<02:25,  1.05it/s]"
     ]
    },
    {
     "name": "stdout",
     "output_type": "stream",
     "text": [
      "Epoch:  146\n",
      "t_loss:  0.31601442455076706 , v_loss:  0.6325867076714834\n",
      "t_acc:  0.7899159663865546 , v_acc:  0.7701863354037267\n",
      "t_recall:  0.6715849356994825 , v_recall:  0.662972972972973\n",
      "t_prec:  0.8203724141230013 , v_prec:  0.766029411764706\n",
      "t_f:  0.6913001228522386 , v_f:  0.6784345479082321\n",
      "////////\n"
     ]
    },
    {
     "name": "stderr",
     "output_type": "stream",
     "text": [
      "\r",
      "Iterations:  49%|████████████████▎                | 148/300 [02:17<02:14,  1.13it/s]"
     ]
    },
    {
     "name": "stdout",
     "output_type": "stream",
     "text": [
      "Epoch  147 , loss 0.31183237976887646\n",
      "Epoch  148 , loss 0.30407947564826293\n"
     ]
    },
    {
     "name": "stderr",
     "output_type": "stream",
     "text": [
      "\r",
      "Iterations:  50%|████████████████▍                | 149/300 [02:18<02:22,  1.06it/s]"
     ]
    },
    {
     "name": "stdout",
     "output_type": "stream",
     "text": [
      "Epoch:  148\n",
      "t_loss:  0.30407947564826293 , v_loss:  0.6348122457663218\n",
      "t_acc:  0.8020541549953315 , v_acc:  0.7763975155279503\n",
      "t_recall:  0.6929612549923827 , v_recall:  0.6674774774774774\n",
      "t_prec:  0.8283207229928542 , v_prec:  0.7826946472019465\n",
      "t_f:  0.7162275658651202 , v_f:  0.6841761115954664\n",
      "////////\n"
     ]
    },
    {
     "name": "stderr",
     "output_type": "stream",
     "text": [
      "\r",
      "Iterations:  50%|████████████████▌                | 150/300 [02:19<02:12,  1.14it/s]"
     ]
    },
    {
     "name": "stdout",
     "output_type": "stream",
     "text": [
      "Epoch  149 , loss 0.30611615350433424\n",
      "Epoch  150 , loss 0.3117651682274014\n"
     ]
    },
    {
     "name": "stderr",
     "output_type": "stream",
     "text": [
      "\r",
      "Iterations:  50%|████████████████▌                | 151/300 [02:20<02:20,  1.06it/s]"
     ]
    },
    {
     "name": "stdout",
     "output_type": "stream",
     "text": [
      "Epoch:  150\n",
      "t_loss:  0.3117651682274014 , v_loss:  0.634186640381813\n",
      "t_acc:  0.7948957360722066 , v_acc:  0.7577639751552795\n",
      "t_recall:  0.6814900975830691 , v_recall:  0.6484684684684685\n",
      "t_prec:  0.8208555955101982 , v_prec:  0.7423529411764705\n",
      "t_f:  0.7028851071890885 , v_f:  0.6610526315789473\n",
      "////////\n"
     ]
    },
    {
     "name": "stderr",
     "output_type": "stream",
     "text": [
      "\r",
      "Iterations:  51%|████████████████▋                | 152/300 [02:20<02:09,  1.15it/s]"
     ]
    },
    {
     "name": "stdout",
     "output_type": "stream",
     "text": [
      "Epoch  151 , loss 0.2987151598813487\n",
      "Epoch  152 , loss 0.29608450976072576\n"
     ]
    },
    {
     "name": "stderr",
     "output_type": "stream",
     "text": [
      "\r",
      "Iterations:  51%|████████████████▊                | 153/300 [02:21<02:17,  1.07it/s]"
     ]
    },
    {
     "name": "stdout",
     "output_type": "stream",
     "text": [
      "Epoch:  152\n",
      "t_loss:  0.29608450976072576 , v_loss:  0.6389608184496561\n",
      "t_acc:  0.8032990974167444 , v_acc:  0.7515527950310559\n",
      "t_recall:  0.6950062447674339 , v_recall:  0.6494594594594595\n",
      "t_prec:  0.8294684761839981 , v_prec:  0.7227443609022557\n",
      "t_f:  0.718564142366116 , v_f:  0.6616225304749895\n",
      "////////\n"
     ]
    },
    {
     "name": "stderr",
     "output_type": "stream",
     "text": [
      "\r",
      "Iterations:  51%|████████████████▉                | 154/300 [02:22<02:08,  1.14it/s]"
     ]
    },
    {
     "name": "stdout",
     "output_type": "stream",
     "text": [
      "Epoch  153 , loss 0.30041954943946764\n",
      "Epoch  154 , loss 0.29551892216299097\n"
     ]
    },
    {
     "name": "stderr",
     "output_type": "stream",
     "text": [
      "\r",
      "Iterations:  52%|█████████████████                | 155/300 [02:23<02:16,  1.06it/s]"
     ]
    },
    {
     "name": "stdout",
     "output_type": "stream",
     "text": [
      "Epoch:  154\n",
      "t_loss:  0.29551892216299097 , v_loss:  0.6457787354787191\n",
      "t_acc:  0.8054777466542172 , v_acc:  0.7453416149068323\n",
      "t_recall:  0.699160044468234 , v_recall:  0.6449549549549549\n",
      "t_prec:  0.8301481127568084 , v_prec:  0.7101619644723093\n",
      "t_f:  0.7231648231666843 , v_f:  0.6561441891962285\n",
      "////////\n"
     ]
    },
    {
     "name": "stderr",
     "output_type": "stream",
     "text": [
      "\r",
      "Iterations:  52%|█████████████████▏               | 156/300 [02:24<02:06,  1.14it/s]"
     ]
    },
    {
     "name": "stdout",
     "output_type": "stream",
     "text": [
      "Epoch  155 , loss 0.296087354129436\n",
      "Epoch  156 , loss 0.2915007729156345\n"
     ]
    },
    {
     "name": "stderr",
     "output_type": "stream",
     "text": [
      "\r",
      "Iterations:  52%|█████████████████▎               | 157/300 [02:25<02:14,  1.06it/s]"
     ]
    },
    {
     "name": "stdout",
     "output_type": "stream",
     "text": [
      "Epoch:  156\n",
      "t_loss:  0.2915007729156345 , v_loss:  0.6625389009714127\n",
      "t_acc:  0.8008092125739185 , v_acc:  0.7329192546583851\n",
      "t_recall:  0.6952292721757868 , v_recall:  0.624954954954955\n",
      "t_prec:  0.8177058128956078 , v_prec:  0.6916804864566058\n",
      "t_f:  0.7180144283933931 , v_f:  0.6330241187384045\n",
      "////////\n"
     ]
    },
    {
     "name": "stderr",
     "output_type": "stream",
     "text": [
      "\r",
      "Iterations:  53%|█████████████████▍               | 158/300 [02:26<02:05,  1.13it/s]"
     ]
    },
    {
     "name": "stdout",
     "output_type": "stream",
     "text": [
      "Epoch  157 , loss 0.2899277335872837\n",
      "Epoch  158 , loss 0.2951915042073119\n"
     ]
    },
    {
     "name": "stderr",
     "output_type": "stream",
     "text": [
      "\r",
      "Iterations:  53%|█████████████████▍               | 159/300 [02:27<02:13,  1.05it/s]"
     ]
    },
    {
     "name": "stdout",
     "output_type": "stream",
     "text": [
      "Epoch:  158\n",
      "t_loss:  0.2951915042073119 , v_loss:  0.6607945710420609\n",
      "t_acc:  0.8132586367880486 , v_acc:  0.7329192546583851\n",
      "t_recall:  0.7119412305623036 , v_recall:  0.624954954954955\n",
      "t_prec:  0.8371326793485381 , v_prec:  0.6916804864566058\n",
      "t_f:  0.737387002032465 , v_f:  0.6330241187384045\n",
      "////////\n"
     ]
    },
    {
     "name": "stderr",
     "output_type": "stream",
     "text": [
      "\r",
      "Iterations:  53%|█████████████████▌               | 160/300 [02:28<02:03,  1.14it/s]"
     ]
    },
    {
     "name": "stdout",
     "output_type": "stream",
     "text": [
      "Epoch  159 , loss 0.291617709924193\n",
      "Epoch  160 , loss 0.2881039234937406\n"
     ]
    },
    {
     "name": "stderr",
     "output_type": "stream",
     "text": [
      "\r",
      "Iterations:  54%|█████████████████▋               | 161/300 [02:29<02:10,  1.06it/s]"
     ]
    },
    {
     "name": "stdout",
     "output_type": "stream",
     "text": [
      "Epoch:  160\n",
      "t_loss:  0.2881039234937406 , v_loss:  0.659429927666982\n",
      "t_acc:  0.8151260504201681 , v_acc:  0.7329192546583851\n",
      "t_recall:  0.7150087152248803 , v_recall:  0.624954954954955\n",
      "t_prec:  0.838771169030755 , v_prec:  0.6916804864566058\n",
      "t_f:  0.7407437695000276 , v_f:  0.6330241187384045\n",
      "////////\n"
     ]
    },
    {
     "name": "stderr",
     "output_type": "stream",
     "text": [
      "\r",
      "Iterations:  54%|█████████████████▊               | 162/300 [02:29<02:00,  1.15it/s]"
     ]
    },
    {
     "name": "stdout",
     "output_type": "stream",
     "text": [
      "Epoch  161 , loss 0.2938280760073194\n",
      "Epoch  162 , loss 0.293364560195044\n"
     ]
    },
    {
     "name": "stderr",
     "output_type": "stream",
     "text": [
      "\r",
      "Iterations:  54%|█████████████████▉               | 163/300 [02:30<02:08,  1.07it/s]"
     ]
    },
    {
     "name": "stdout",
     "output_type": "stream",
     "text": [
      "Epoch:  162\n",
      "t_loss:  0.293364560195044 , v_loss:  0.6682554930448532\n",
      "t_acc:  0.810146280734516 , v_acc:  0.7391304347826086\n",
      "t_recall:  0.7074038237191365 , v_recall:  0.6294594594594595\n",
      "t_prec:  0.8331193852403003 , v_prec:  0.7047008547008546\n",
      "t_f:  0.7322529261975279 , v_f:  0.6383183568677793\n",
      "////////\n"
     ]
    },
    {
     "name": "stderr",
     "output_type": "stream",
     "text": [
      "\r",
      "Iterations:  55%|██████████████████               | 164/300 [02:31<01:59,  1.14it/s]"
     ]
    },
    {
     "name": "stdout",
     "output_type": "stream",
     "text": [
      "Epoch  163 , loss 0.2786574600373997\n",
      "Epoch  164 , loss 0.280281635183914\n"
     ]
    },
    {
     "name": "stderr",
     "output_type": "stream",
     "text": [
      "\r",
      "Iterations:  55%|██████████████████▏              | 165/300 [02:32<02:06,  1.06it/s]"
     ]
    },
    {
     "name": "stdout",
     "output_type": "stream",
     "text": [
      "Epoch:  164\n",
      "t_loss:  0.280281635183914 , v_loss:  0.667425294717153\n",
      "t_acc:  0.811391223155929 , v_acc:  0.7515527950310559\n",
      "t_recall:  0.7108864824803393 , v_recall:  0.6549549549549549\n",
      "t_prec:  0.8312336704865871 , v_prec:  0.7188295165394402\n",
      "t_f:  0.735753231905725 , v_f:  0.6673553719008265\n",
      "////////\n"
     ]
    },
    {
     "name": "stderr",
     "output_type": "stream",
     "text": [
      "\r",
      "Iterations:  55%|██████████████████▎              | 166/300 [02:33<01:57,  1.14it/s]"
     ]
    },
    {
     "name": "stdout",
     "output_type": "stream",
     "text": [
      "Epoch  165 , loss 0.27313025850875705\n",
      "Epoch  166 , loss 0.2829741581397898\n"
     ]
    },
    {
     "name": "stderr",
     "output_type": "stream",
     "text": [
      "\r",
      "Iterations:  56%|██████████████████▎              | 167/300 [02:34<02:07,  1.05it/s]"
     ]
    },
    {
     "name": "stdout",
     "output_type": "stream",
     "text": [
      "Epoch:  166\n",
      "t_loss:  0.2829741581397898 , v_loss:  0.6709981362024943\n",
      "t_acc:  0.8257080610021786 , v_acc:  0.7391304347826086\n",
      "t_recall:  0.7326786621100452 , v_recall:  0.6404504504504505\n",
      "t_prec:  0.847247465264739 , v_prec:  0.6983460559796437\n",
      "t_f:  0.759587736419823 , v_f:  0.6507231404958678\n",
      "////////\n"
     ]
    },
    {
     "name": "stderr",
     "output_type": "stream",
     "text": [
      "\r",
      "Iterations:  56%|██████████████████▍              | 168/300 [02:35<01:57,  1.12it/s]"
     ]
    },
    {
     "name": "stdout",
     "output_type": "stream",
     "text": [
      "Epoch  167 , loss 0.28528078718512667\n",
      "Epoch  168 , loss 0.27090050338530075\n"
     ]
    },
    {
     "name": "stderr",
     "output_type": "stream",
     "text": [
      "\r",
      "Iterations:  56%|██████████████████▌              | 169/300 [02:36<02:04,  1.05it/s]"
     ]
    },
    {
     "name": "stdout",
     "output_type": "stream",
     "text": [
      "Epoch:  168\n",
      "t_loss:  0.27090050338530075 , v_loss:  0.6658862332503\n",
      "t_acc:  0.8288204170557112 , v_acc:  0.7204968944099379\n",
      "t_recall:  0.7363534675615213 , v_recall:  0.6104504504504504\n",
      "t_prec:  0.8527317106475949 , v_prec:  0.6694306246545052\n",
      "t_f:  0.7638808125551833 , v_f:  0.6159554730983302\n",
      "////////\n"
     ]
    },
    {
     "name": "stderr",
     "output_type": "stream",
     "text": [
      "\r",
      "Iterations:  57%|██████████████████▋              | 170/300 [02:37<01:55,  1.13it/s]"
     ]
    },
    {
     "name": "stdout",
     "output_type": "stream",
     "text": [
      "Epoch  169 , loss 0.29121800409812554\n",
      "Epoch  170 , loss 0.28270502943618625\n"
     ]
    },
    {
     "name": "stderr",
     "output_type": "stream",
     "text": [
      "\r",
      "Iterations:  57%|██████████████████▊              | 171/300 [02:38<02:03,  1.05it/s]"
     ]
    },
    {
     "name": "stdout",
     "output_type": "stream",
     "text": [
      "Epoch:  170\n",
      "t_loss:  0.28270502943618625 , v_loss:  0.674618681271871\n",
      "t_acc:  0.8151260504201681 , v_acc:  0.7204968944099379\n",
      "t_recall:  0.7152962490221106 , v_recall:  0.615945945945946\n",
      "t_prec:  0.8381599710272396 , v_prec:  0.6681034482758621\n",
      "t_f:  0.7409858411749186 , v_f:  0.6225972808251289\n",
      "////////\n"
     ]
    },
    {
     "name": "stderr",
     "output_type": "stream",
     "text": [
      "\r",
      "Iterations:  57%|██████████████████▉              | 172/300 [02:39<01:53,  1.13it/s]"
     ]
    },
    {
     "name": "stdout",
     "output_type": "stream",
     "text": [
      "Epoch  171 , loss 0.2742497076590856\n",
      "Epoch  172 , loss 0.2783219910719815\n"
     ]
    },
    {
     "name": "stderr",
     "output_type": "stream",
     "text": [
      "\r",
      "Iterations:  58%|███████████████████              | 173/300 [02:40<01:59,  1.06it/s]"
     ]
    },
    {
     "name": "stdout",
     "output_type": "stream",
     "text": [
      "Epoch:  172\n",
      "t_loss:  0.2783219910719815 , v_loss:  0.6839350263277689\n",
      "t_acc:  0.8294428882664177 , v_acc:  0.7267080745341615\n",
      "t_recall:  0.7379510300435075 , v_recall:  0.6204504504504504\n",
      "t_prec:  0.8520769759803749 , v_prec:  0.6795112781954886\n",
      "t_f:  0.7653721958848281 , v_f:  0.6277847835224885\n",
      "////////\n"
     ]
    },
    {
     "name": "stderr",
     "output_type": "stream",
     "text": [
      "\r",
      "Iterations:  58%|███████████████████▏             | 174/300 [02:40<01:50,  1.14it/s]"
     ]
    },
    {
     "name": "stdout",
     "output_type": "stream",
     "text": [
      "Epoch  173 , loss 0.27503036809902565\n",
      "Epoch  174 , loss 0.2690776627437741\n"
     ]
    },
    {
     "name": "stderr",
     "output_type": "stream",
     "text": [
      "\r",
      "Iterations:  58%|███████████████████▎             | 175/300 [02:42<01:58,  1.06it/s]"
     ]
    },
    {
     "name": "stdout",
     "output_type": "stream",
     "text": [
      "Epoch:  174\n",
      "t_loss:  0.2690776627437741 , v_loss:  0.6757228424151739\n",
      "t_acc:  0.8275754746342981 , v_acc:  0.7267080745341615\n",
      "t_recall:  0.7380464171504646 , v_recall:  0.6204504504504504\n",
      "t_prec:  0.8444400166285816 , v_prec:  0.6795112781954886\n",
      "t_f:  0.7644814628595624 , v_f:  0.6277847835224885\n",
      "////////\n"
     ]
    },
    {
     "name": "stderr",
     "output_type": "stream",
     "text": [
      "\r",
      "Iterations:  59%|███████████████████▎             | 176/300 [02:42<01:48,  1.14it/s]"
     ]
    },
    {
     "name": "stdout",
     "output_type": "stream",
     "text": [
      "Epoch  175 , loss 0.26704563346563603\n",
      "Epoch  176 , loss 0.27000259564203377\n"
     ]
    },
    {
     "name": "stderr",
     "output_type": "stream",
     "text": [
      "\r",
      "Iterations:  59%|███████████████████▍             | 177/300 [02:43<01:56,  1.05it/s]"
     ]
    },
    {
     "name": "stdout",
     "output_type": "stream",
     "text": [
      "Epoch:  176\n",
      "t_loss:  0.27000259564203377 , v_loss:  0.675134927034378\n",
      "t_acc:  0.8378462496109554 , v_acc:  0.7267080745341615\n",
      "t_recall:  0.7506045758361812 , v_recall:  0.614954954954955\n",
      "t_prec:  0.8611293140389623 , v_prec:  0.6817663817663817\n",
      "t_f:  0.778802312808438 , v_f:  0.6210954214805307\n",
      "////////\n"
     ]
    },
    {
     "name": "stderr",
     "output_type": "stream",
     "text": [
      "\r",
      "Iterations:  59%|███████████████████▌             | 178/300 [02:44<01:47,  1.13it/s]"
     ]
    },
    {
     "name": "stdout",
     "output_type": "stream",
     "text": [
      "Epoch  177 , loss 0.26951149748820885\n",
      "Epoch  178 , loss 0.2726076969913408\n"
     ]
    },
    {
     "name": "stderr",
     "output_type": "stream",
     "text": [
      "\r",
      "Iterations:  60%|███████████████████▋             | 179/300 [02:45<01:54,  1.06it/s]"
     ]
    },
    {
     "name": "stdout",
     "output_type": "stream",
     "text": [
      "Epoch:  178\n",
      "t_loss:  0.2726076969913408 , v_loss:  0.6850330382585526\n",
      "t_acc:  0.8366013071895425 , v_acc:  0.7080745341614907\n",
      "t_recall:  0.7502847888445121 , v_recall:  0.6014414414414414\n",
      "t_prec:  0.8568013878653092 , v_prec:  0.6470741901776385\n",
      "t_f:  0.7778817304900474 , v_f:  0.605823826639579\n",
      "////////\n"
     ]
    },
    {
     "name": "stderr",
     "output_type": "stream",
     "text": [
      "\r",
      "Iterations:  60%|███████████████████▊             | 180/300 [02:46<01:45,  1.13it/s]"
     ]
    },
    {
     "name": "stdout",
     "output_type": "stream",
     "text": [
      "Epoch  179 , loss 0.26737090886807907\n",
      "Epoch  180 , loss 0.2549314566102682\n"
     ]
    },
    {
     "name": "stderr",
     "output_type": "stream",
     "text": [
      "\r",
      "Iterations:  60%|███████████████████▉             | 181/300 [02:47<01:54,  1.04it/s]"
     ]
    },
    {
     "name": "stdout",
     "output_type": "stream",
     "text": [
      "Epoch:  180\n",
      "t_loss:  0.2549314566102682 , v_loss:  0.6824681262175242\n",
      "t_acc:  0.8406473700591348 , v_acc:  0.7267080745341615\n",
      "t_recall:  0.7577936070051193 , v_recall:  0.614954954954955\n",
      "t_prec:  0.8584967000080161 , v_prec:  0.6817663817663817\n",
      "t_f:  0.7851476096689427 , v_f:  0.6210954214805307\n",
      "////////\n"
     ]
    },
    {
     "name": "stderr",
     "output_type": "stream",
     "text": [
      "\r",
      "Iterations:  61%|████████████████████             | 182/300 [02:48<01:44,  1.12it/s]"
     ]
    },
    {
     "name": "stdout",
     "output_type": "stream",
     "text": [
      "Epoch  181 , loss 0.2674840086815404\n",
      "Epoch  182 , loss 0.26474333130845834\n"
     ]
    },
    {
     "name": "stderr",
     "output_type": "stream",
     "text": [
      "\r",
      "Iterations:  61%|████████████████████▏            | 183/300 [02:49<01:51,  1.05it/s]"
     ]
    },
    {
     "name": "stdout",
     "output_type": "stream",
     "text": [
      "Epoch:  182\n",
      "t_loss:  0.26474333130845834 , v_loss:  0.6929255624612173\n",
      "t_acc:  0.830999066293184 , v_acc:  0.7515527950310559\n",
      "t_recall:  0.7433826052346248 , v_recall:  0.6439639639639639\n",
      "t_prec:  0.8478915662650602 , v_prec:  0.7276353276353276\n",
      "t_f:  0.7700660533632733 , v_f:  0.6555412922550278\n",
      "////////\n"
     ]
    },
    {
     "name": "stderr",
     "output_type": "stream",
     "text": [
      "\r",
      "Iterations:  61%|████████████████████▏            | 184/300 [02:50<01:41,  1.14it/s]"
     ]
    },
    {
     "name": "stdout",
     "output_type": "stream",
     "text": [
      "Epoch  183 , loss 0.2543920740193012\n",
      "Epoch  184 , loss 0.2609331341935139\n"
     ]
    },
    {
     "name": "stderr",
     "output_type": "stream",
     "text": [
      "\r",
      "Iterations:  62%|████████████████████▎            | 185/300 [02:51<01:49,  1.05it/s]"
     ]
    },
    {
     "name": "stdout",
     "output_type": "stream",
     "text": [
      "Epoch:  184\n",
      "t_loss:  0.2609331341935139 , v_loss:  0.6964001506567001\n",
      "t_acc:  0.8291316526610645 , v_acc:  0.7267080745341615\n",
      "t_recall:  0.7417527895581999 , v_recall:  0.614954954954955\n",
      "t_prec:  0.8437214611872146 , v_prec:  0.6817663817663817\n",
      "t_f:  0.7679295617382698 , v_f:  0.6210954214805307\n",
      "////////\n"
     ]
    },
    {
     "name": "stderr",
     "output_type": "stream",
     "text": [
      "\r",
      "Iterations:  62%|████████████████████▍            | 186/300 [02:51<01:40,  1.14it/s]"
     ]
    },
    {
     "name": "stdout",
     "output_type": "stream",
     "text": [
      "Epoch  185 , loss 0.25162850174249385\n",
      "Epoch  186 , loss 0.25473956471564724\n"
     ]
    },
    {
     "name": "stderr",
     "output_type": "stream",
     "text": [
      "\r",
      "Iterations:  62%|████████████████████▌            | 187/300 [02:52<01:46,  1.06it/s]"
     ]
    },
    {
     "name": "stdout",
     "output_type": "stream",
     "text": [
      "Epoch:  186\n",
      "t_loss:  0.25473956471564724 , v_loss:  0.6902147183815638\n",
      "t_acc:  0.8462496109554933 , v_acc:  0.7267080745341615\n",
      "t_recall:  0.764120723020546 , v_recall:  0.6204504504504504\n",
      "t_prec:  0.8682376578645234 , v_prec:  0.6795112781954886\n",
      "t_f:  0.7925239054323684 , v_f:  0.6277847835224885\n",
      "////////\n"
     ]
    },
    {
     "name": "stderr",
     "output_type": "stream",
     "text": [
      "\r",
      "Iterations:  63%|████████████████████▋            | 188/300 [02:53<01:38,  1.13it/s]"
     ]
    },
    {
     "name": "stdout",
     "output_type": "stream",
     "text": [
      "Epoch  187 , loss 0.25114450150845097\n",
      "Epoch  188 , loss 0.25542597794065286\n"
     ]
    },
    {
     "name": "stderr",
     "output_type": "stream",
     "text": [
      "\r",
      "Iterations:  63%|████████████████████▊            | 189/300 [02:54<01:45,  1.05it/s]"
     ]
    },
    {
     "name": "stdout",
     "output_type": "stream",
     "text": [
      "Epoch:  188\n",
      "t_loss:  0.25542597794065286 , v_loss:  0.6978011429309845\n",
      "t_acc:  0.8462496109554933 , v_acc:  0.7329192546583851\n",
      "t_recall:  0.7681461961817708 , v_recall:  0.6304504504504505\n",
      "t_prec:  0.8610504010151658 , v_prec:  0.6891327063740857\n",
      "t_f:  0.7949569301840091 , v_f:  0.6393707350106788\n",
      "////////\n"
     ]
    },
    {
     "name": "stderr",
     "output_type": "stream",
     "text": [
      "\r",
      "Iterations:  63%|████████████████████▉            | 190/300 [02:55<01:36,  1.14it/s]"
     ]
    },
    {
     "name": "stdout",
     "output_type": "stream",
     "text": [
      "Epoch  189 , loss 0.24943744551901723\n",
      "Epoch  190 , loss 0.2545587759391934\n"
     ]
    },
    {
     "name": "stderr",
     "output_type": "stream",
     "text": [
      "\r",
      "Iterations:  64%|█████████████████████            | 191/300 [02:56<01:42,  1.06it/s]"
     ]
    },
    {
     "name": "stdout",
     "output_type": "stream",
     "text": [
      "Epoch:  190\n",
      "t_loss:  0.2545587759391934 , v_loss:  0.7223482926686605\n",
      "t_acc:  0.8428260192966075 , v_acc:  0.7267080745341615\n",
      "t_recall:  0.7607972715169982 , v_recall:  0.6204504504504504\n",
      "t_prec:  0.8612904350250976 , v_prec:  0.6795112781954886\n",
      "t_f:  0.7883556302125528 , v_f:  0.6277847835224885\n",
      "////////\n"
     ]
    },
    {
     "name": "stderr",
     "output_type": "stream",
     "text": [
      "\r",
      "Iterations:  64%|█████████████████████            | 192/300 [02:57<01:36,  1.12it/s]"
     ]
    },
    {
     "name": "stdout",
     "output_type": "stream",
     "text": [
      "Epoch  191 , loss 0.24713260373648474\n",
      "Epoch  192 , loss 0.2501810289481107\n"
     ]
    },
    {
     "name": "stderr",
     "output_type": "stream",
     "text": [
      "\r",
      "Iterations:  64%|█████████████████████▏           | 193/300 [02:58<01:40,  1.06it/s]"
     ]
    },
    {
     "name": "stdout",
     "output_type": "stream",
     "text": [
      "Epoch:  192\n",
      "t_loss:  0.2501810289481107 , v_loss:  0.7204208523035049\n",
      "t_acc:  0.8502956738250856 , v_acc:  0.7329192546583851\n",
      "t_recall:  0.7727796763700745 , v_recall:  0.635945945945946\n",
      "t_prec:  0.867732767903729 , v_prec:  0.6872208436724565\n",
      "t_f:  0.8002698474547686 , v_f:  0.6453562829773065\n",
      "////////\n"
     ]
    },
    {
     "name": "stderr",
     "output_type": "stream",
     "text": [
      "\r",
      "Iterations:  65%|█████████████████████▎           | 194/300 [02:59<01:32,  1.15it/s]"
     ]
    },
    {
     "name": "stdout",
     "output_type": "stream",
     "text": [
      "Epoch  193 , loss 0.2531042917101991\n",
      "Epoch  194 , loss 0.24822312535024157\n"
     ]
    },
    {
     "name": "stderr",
     "output_type": "stream",
     "text": [
      "\r",
      "Iterations:  65%|█████████████████████▍           | 195/300 [03:00<01:39,  1.05it/s]"
     ]
    },
    {
     "name": "stdout",
     "output_type": "stream",
     "text": [
      "Epoch:  194\n",
      "t_loss:  0.24822312535024157 , v_loss:  0.7059027900298437\n",
      "t_acc:  0.8434484905073141 , v_acc:  0.7453416149068323\n",
      "t_recall:  0.762969901593445 , v_recall:  0.6504504504504505\n",
      "t_prec:  0.8597560975609757 , v_prec:  0.707196029776675\n",
      "t_f:  0.7900837112086048 , v_f:  0.6618513395830131\n",
      "////////\n"
     ]
    },
    {
     "name": "stderr",
     "output_type": "stream",
     "text": [
      "\r",
      "Iterations:  65%|█████████████████████▌           | 196/300 [03:01<01:32,  1.13it/s]"
     ]
    },
    {
     "name": "stdout",
     "output_type": "stream",
     "text": [
      "Epoch  195 , loss 0.2403424326695648\n",
      "Epoch  196 , loss 0.24192550398555457\n"
     ]
    },
    {
     "name": "stderr",
     "output_type": "stream",
     "text": [
      "\r",
      "Iterations:  66%|█████████████████████▋           | 197/300 [03:02<01:37,  1.06it/s]"
     ]
    },
    {
     "name": "stdout",
     "output_type": "stream",
     "text": [
      "Epoch:  196\n",
      "t_loss:  0.24192550398555457 , v_loss:  0.7372197409470876\n",
      "t_acc:  0.8540305010893247 , v_acc:  0.7329192546583851\n",
      "t_recall:  0.7783395781007671 , v_recall:  0.6414414414414414\n",
      "t_prec:  0.8716504889953147 , v_prec:  0.685842803030303\n",
      "t_f:  0.8058965121972175 , v_f:  0.6510056964258708\n",
      "////////\n"
     ]
    },
    {
     "name": "stderr",
     "output_type": "stream",
     "text": [
      "\r",
      "Iterations:  66%|█████████████████████▊           | 198/300 [03:02<01:30,  1.13it/s]"
     ]
    },
    {
     "name": "stdout",
     "output_type": "stream",
     "text": [
      "Epoch  197 , loss 0.2382289881215376\n",
      "Epoch  198 , loss 0.24515875648049748\n"
     ]
    },
    {
     "name": "stderr",
     "output_type": "stream",
     "text": [
      "\r",
      "Iterations:  66%|█████████████████████▉           | 199/300 [03:03<01:35,  1.06it/s]"
     ]
    },
    {
     "name": "stdout",
     "output_type": "stream",
     "text": [
      "Epoch:  198\n",
      "t_loss:  0.24515875648049748 , v_loss:  0.7434853216012319\n",
      "t_acc:  0.8499844382197324 , v_acc:  0.7329192546583851\n",
      "t_recall:  0.7737060979124635 , v_recall:  0.6414414414414414\n",
      "t_prec:  0.8650306411579942 , v_prec:  0.685842803030303\n",
      "t_f:  0.8005984110356079 , v_f:  0.6510056964258708\n",
      "////////\n"
     ]
    },
    {
     "name": "stderr",
     "output_type": "stream",
     "text": [
      "\r",
      "Iterations:  67%|██████████████████████           | 200/300 [03:04<01:28,  1.14it/s]"
     ]
    },
    {
     "name": "stdout",
     "output_type": "stream",
     "text": [
      "Epoch  199 , loss 0.24467363515320947\n",
      "Epoch  200 , loss 0.23869084815184274\n"
     ]
    },
    {
     "name": "stderr",
     "output_type": "stream",
     "text": [
      "\r",
      "Iterations:  67%|██████████████████████           | 201/300 [03:05<01:34,  1.05it/s]"
     ]
    },
    {
     "name": "stdout",
     "output_type": "stream",
     "text": [
      "Epoch:  200\n",
      "t_loss:  0.23869084815184274 , v_loss:  0.7473178605238596\n",
      "t_acc:  0.8552754435107376 , v_acc:  0.7577639751552795\n",
      "t_recall:  0.7832599058481218 , v_recall:  0.6649549549549549\n",
      "t_prec:  0.8678706851580965 , v_prec:  0.7271712158808933\n",
      "t_f:  0.8094231422473079 , v_f:  0.6783463961887198\n",
      "////////\n"
     ]
    },
    {
     "name": "stderr",
     "output_type": "stream",
     "text": [
      "\r",
      "Iterations:  67%|██████████████████████▏          | 202/300 [03:06<01:27,  1.12it/s]"
     ]
    },
    {
     "name": "stdout",
     "output_type": "stream",
     "text": [
      "Epoch  201 , loss 0.23518472997581258\n",
      "Epoch  202 , loss 0.23745911320050558\n"
     ]
    },
    {
     "name": "stderr",
     "output_type": "stream",
     "text": [
      "\r",
      "Iterations:  68%|██████████████████████▎          | 203/300 [03:07<01:33,  1.04it/s]"
     ]
    },
    {
     "name": "stdout",
     "output_type": "stream",
     "text": [
      "Epoch:  202\n",
      "t_loss:  0.23745911320050558 , v_loss:  0.777227113644282\n",
      "t_acc:  0.8602552131963896 , v_acc:  0.7267080745341615\n",
      "t_recall:  0.7900021959621746 , v_recall:  0.6314414414414414\n",
      "t_prec:  0.8741076592580352 , v_prec:  0.6767199612403101\n",
      "t_f:  0.8164226390662099 , v_f:  0.6400406504065042\n",
      "////////\n"
     ]
    },
    {
     "name": "stderr",
     "output_type": "stream",
     "text": [
      "\r",
      "Iterations:  68%|██████████████████████▍          | 204/300 [03:08<01:25,  1.13it/s]"
     ]
    },
    {
     "name": "stdout",
     "output_type": "stream",
     "text": [
      "Epoch  203 , loss 0.24463361414039836\n",
      "Epoch  204 , loss 0.24269483895862803\n"
     ]
    },
    {
     "name": "stderr",
     "output_type": "stream",
     "text": [
      "\r",
      "Iterations:  68%|██████████████████████▌          | 205/300 [03:09<01:31,  1.04it/s]"
     ]
    },
    {
     "name": "stdout",
     "output_type": "stream",
     "text": [
      "Epoch:  204\n",
      "t_loss:  0.24269483895862803 , v_loss:  0.7760744790236155\n",
      "t_acc:  0.8509181450357921 , v_acc:  0.7329192546583851\n",
      "t_recall:  0.7746647726492911 , v_recall:  0.6414414414414414\n",
      "t_prec:  0.8667437371337117 , v_prec:  0.685842803030303\n",
      "t_f:  0.8017578450798875 , v_f:  0.6510056964258708\n",
      "////////\n"
     ]
    },
    {
     "name": "stderr",
     "output_type": "stream",
     "text": [
      "\r",
      "Iterations:  69%|██████████████████████▋          | 206/300 [03:10<01:23,  1.13it/s]"
     ]
    },
    {
     "name": "stdout",
     "output_type": "stream",
     "text": [
      "Epoch  205 , loss 0.2362248202164968\n",
      "Epoch  206 , loss 0.23929439601944943\n"
     ]
    },
    {
     "name": "stderr",
     "output_type": "stream",
     "text": [
      "\r",
      "Iterations:  69%|██████████████████████▊          | 207/300 [03:11<01:28,  1.05it/s]"
     ]
    },
    {
     "name": "stdout",
     "output_type": "stream",
     "text": [
      "Epoch:  206\n",
      "t_loss:  0.23929439601944943 , v_loss:  0.7764412860075632\n",
      "t_acc:  0.8605664488017429 , v_acc:  0.7329192546583851\n",
      "t_recall:  0.7916635785948587 , v_recall:  0.6414414414414414\n",
      "t_prec:  0.8725426375252295 , v_prec:  0.685842803030303\n",
      "t_f:  0.8174859585466474 , v_f:  0.6510056964258708\n",
      "////////\n"
     ]
    },
    {
     "name": "stderr",
     "output_type": "stream",
     "text": [
      "\r",
      "Iterations:  69%|██████████████████████▉          | 208/300 [03:12<01:22,  1.12it/s]"
     ]
    },
    {
     "name": "stdout",
     "output_type": "stream",
     "text": [
      "Epoch  207 , loss 0.23352575915701249\n",
      "Epoch  208 , loss 0.2311580777168274\n"
     ]
    },
    {
     "name": "stderr",
     "output_type": "stream",
     "text": [
      "\r",
      "Iterations:  70%|██████████████████████▉          | 209/300 [03:13<01:27,  1.04it/s]"
     ]
    },
    {
     "name": "stdout",
     "output_type": "stream",
     "text": [
      "Epoch:  208\n",
      "t_loss:  0.2311580777168274 , v_loss:  0.7846566538016001\n",
      "t_acc:  0.8611889200124494 , v_acc:  0.7391304347826086\n",
      "t_recall:  0.7883730665239291 , v_recall:  0.6514414414414414\n",
      "t_prec:  0.8801129723412544 , v_prec:  0.694650301065308\n",
      "t_f:  0.8162457453072713 , v_f:  0.6617647058823529\n",
      "////////\n"
     ]
    },
    {
     "name": "stderr",
     "output_type": "stream",
     "text": [
      "\r",
      "Iterations:  70%|███████████████████████          | 210/300 [03:13<01:20,  1.12it/s]"
     ]
    },
    {
     "name": "stdout",
     "output_type": "stream",
     "text": [
      "Epoch  209 , loss 0.2252730356127608\n",
      "Epoch  210 , loss 0.2263074742228377\n"
     ]
    },
    {
     "name": "stderr",
     "output_type": "stream",
     "text": [
      "\r",
      "Iterations:  70%|███████████████████████▏         | 211/300 [03:15<01:25,  1.04it/s]"
     ]
    },
    {
     "name": "stdout",
     "output_type": "stream",
     "text": [
      "Epoch:  210\n",
      "t_loss:  0.2263074742228377 , v_loss:  0.7927605708440145\n",
      "t_acc:  0.8624338624338624 , v_acc:  0.7391304347826086\n",
      "t_recall:  0.7898429887045195 , v_recall:  0.645945945945946\n",
      "t_prec:  0.8820505197547823 , v_prec:  0.6962209302325582\n",
      "t_f:  0.8178937655287308 , v_f:  0.6564024390243902\n",
      "////////\n"
     ]
    },
    {
     "name": "stderr",
     "output_type": "stream",
     "text": [
      "\r",
      "Iterations:  71%|███████████████████████▎         | 212/300 [03:15<01:18,  1.12it/s]"
     ]
    },
    {
     "name": "stdout",
     "output_type": "stream",
     "text": [
      "Epoch  211 , loss 0.22281775185290506\n",
      "Epoch  212 , loss 0.22323059831179826\n"
     ]
    },
    {
     "name": "stderr",
     "output_type": "stream",
     "text": [
      "\r",
      "Iterations:  71%|███████████████████████▍         | 213/300 [03:16<01:23,  1.04it/s]"
     ]
    },
    {
     "name": "stdout",
     "output_type": "stream",
     "text": [
      "Epoch:  212\n",
      "t_loss:  0.22323059831179826 , v_loss:  0.799926241238912\n",
      "t_acc:  0.8602552131963896 , v_acc:  0.7391304347826086\n",
      "t_recall:  0.7871268579898711 , v_recall:  0.6514414414414414\n",
      "t_prec:  0.8789094762008258 , v_prec:  0.694650301065308\n",
      "t_f:  0.814934288989899 , v_f:  0.6617647058823529\n",
      "////////\n"
     ]
    },
    {
     "name": "stderr",
     "output_type": "stream",
     "text": [
      "\r",
      "Iterations:  71%|███████████████████████▌         | 214/300 [03:17<01:16,  1.12it/s]"
     ]
    },
    {
     "name": "stdout",
     "output_type": "stream",
     "text": [
      "Epoch  213 , loss 0.22445938341757832\n",
      "Epoch  214 , loss 0.22622176902551278\n"
     ]
    },
    {
     "name": "stderr",
     "output_type": "stream",
     "text": [
      "\r",
      "Iterations:  72%|███████████████████████▋         | 215/300 [03:18<01:22,  1.03it/s]"
     ]
    },
    {
     "name": "stdout",
     "output_type": "stream",
     "text": [
      "Epoch:  214\n",
      "t_loss:  0.22622176902551278 , v_loss:  0.7920473217964172\n",
      "t_acc:  0.8702147525676938 , v_acc:  0.7453416149068323\n",
      "t_recall:  0.8037743099875104 , v_recall:  0.6614414414414415\n",
      "t_prec:  0.8859144500768924 , v_prec:  0.7031746031746031\n",
      "t_f:  0.830450329672638 , v_f:  0.6723256391164061\n",
      "////////\n"
     ]
    },
    {
     "name": "stderr",
     "output_type": "stream",
     "text": [
      "\r",
      "Iterations:  72%|███████████████████████▊         | 216/300 [03:19<01:15,  1.11it/s]"
     ]
    },
    {
     "name": "stdout",
     "output_type": "stream",
     "text": [
      "Epoch  215 , loss 0.22260193526744843\n",
      "Epoch  216 , loss 0.2217459067994473\n"
     ]
    },
    {
     "name": "stderr",
     "output_type": "stream",
     "text": [
      "\r",
      "Iterations:  72%|███████████████████████▊         | 217/300 [03:20<01:20,  1.03it/s]"
     ]
    },
    {
     "name": "stdout",
     "output_type": "stream",
     "text": [
      "Epoch:  216\n",
      "t_loss:  0.2217459067994473 , v_loss:  0.8025801281134287\n",
      "t_acc:  0.869281045751634 , v_acc:  0.7391304347826086\n",
      "t_recall:  0.8054034394257559 , v_recall:  0.6514414414414414\n",
      "t_prec:  0.8802742285541764 , v_prec:  0.694650301065308\n",
      "t_f:  0.8304911443286019 , v_f:  0.6617647058823529\n",
      "////////\n"
     ]
    },
    {
     "name": "stderr",
     "output_type": "stream",
     "text": [
      "\r",
      "Iterations:  73%|███████████████████████▉         | 218/300 [03:21<01:13,  1.12it/s]"
     ]
    },
    {
     "name": "stdout",
     "output_type": "stream",
     "text": [
      "Epoch  217 , loss 0.21689522529349609\n",
      "Epoch  218 , loss 0.22368919805568807\n"
     ]
    },
    {
     "name": "stderr",
     "output_type": "stream",
     "text": [
      "\r",
      "Iterations:  73%|████████████████████████         | 219/300 [03:22<01:17,  1.04it/s]"
     ]
    },
    {
     "name": "stdout",
     "output_type": "stream",
     "text": [
      "Epoch:  218\n",
      "t_loss:  0.22368919805568807 , v_loss:  0.8008349339167277\n",
      "t_acc:  0.8667911609088079 , v_acc:  0.7391304347826086\n",
      "t_recall:  0.7993007232950412 , v_recall:  0.6514414414414414\n",
      "t_prec:  0.8814670101433693 , v_prec:  0.694650301065308\n",
      "t_f:  0.8257717580687829 , v_f:  0.6617647058823529\n",
      "////////\n"
     ]
    },
    {
     "name": "stderr",
     "output_type": "stream",
     "text": [
      "\r",
      "Iterations:  73%|████████████████████████▏        | 220/300 [03:23<01:10,  1.13it/s]"
     ]
    },
    {
     "name": "stdout",
     "output_type": "stream",
     "text": [
      "Epoch  219 , loss 0.21797743352020488\n",
      "Epoch  220 , loss 0.20802941874546163\n"
     ]
    },
    {
     "name": "stderr",
     "output_type": "stream",
     "text": [
      "\r",
      "Iterations:  74%|████████████████████████▎        | 221/300 [03:24<01:14,  1.06it/s]"
     ]
    },
    {
     "name": "stdout",
     "output_type": "stream",
     "text": [
      "Epoch:  220\n",
      "t_loss:  0.20802941874546163 , v_loss:  0.8133420248826345\n",
      "t_acc:  0.8748832866479925 , v_acc:  0.7391304347826086\n",
      "t_recall:  0.8105804202522612 , v_recall:  0.645945945945946\n",
      "t_prec:  0.8907874740962468 , v_prec:  0.6962209302325582\n",
      "t_f:  0.8371248499399759 , v_f:  0.6564024390243902\n",
      "////////\n"
     ]
    },
    {
     "name": "stderr",
     "output_type": "stream",
     "text": [
      "\r",
      "Iterations:  74%|████████████████████████▍        | 222/300 [03:25<01:09,  1.12it/s]"
     ]
    },
    {
     "name": "stdout",
     "output_type": "stream",
     "text": [
      "Epoch  221 , loss 0.22095299599801793\n",
      "Epoch  222 , loss 0.20895369248647316\n"
     ]
    },
    {
     "name": "stderr",
     "output_type": "stream",
     "text": [
      "\r",
      "Iterations:  74%|████████████████████████▌        | 223/300 [03:26<01:14,  1.04it/s]"
     ]
    },
    {
     "name": "stdout",
     "output_type": "stream",
     "text": [
      "Epoch:  222\n",
      "t_loss:  0.20895369248647316 , v_loss:  0.8026355604330698\n",
      "t_acc:  0.8751945222533458 , v_acc:  0.7391304347826086\n",
      "t_recall:  0.811091667696024 , v_recall:  0.6569369369369369\n",
      "t_prec:  0.891017494749965 , v_prec:  0.6935555555555556\n",
      "t_f:  0.8375933554621289 , v_f:  0.6668309026409145\n",
      "////////\n"
     ]
    },
    {
     "name": "stderr",
     "output_type": "stream",
     "text": [
      "\r",
      "Iterations:  75%|████████████████████████▋        | 224/300 [03:26<01:07,  1.12it/s]"
     ]
    },
    {
     "name": "stdout",
     "output_type": "stream",
     "text": [
      "Epoch  223 , loss 0.21270028180351444\n",
      "Epoch  224 , loss 0.22117439116917403\n"
     ]
    },
    {
     "name": "stderr",
     "output_type": "stream",
     "text": [
      "\r",
      "Iterations:  75%|████████████████████████▊        | 225/300 [03:28<01:11,  1.05it/s]"
     ]
    },
    {
     "name": "stdout",
     "output_type": "stream",
     "text": [
      "Epoch:  224\n",
      "t_loss:  0.22117439116917403 , v_loss:  0.8089963893095652\n",
      "t_acc:  0.8695922813569872 , v_acc:  0.7453416149068323\n",
      "t_recall:  0.8053396192750579 , v_recall:  0.6614414414414415\n",
      "t_prec:  0.8813809635373512 , v_prec:  0.7031746031746031\n",
      "t_f:  0.8306984269789526 , v_f:  0.6723256391164061\n",
      "////////\n"
     ]
    },
    {
     "name": "stderr",
     "output_type": "stream",
     "text": [
      "\r",
      "Iterations:  75%|████████████████████████▊        | 226/300 [03:28<01:06,  1.12it/s]"
     ]
    },
    {
     "name": "stdout",
     "output_type": "stream",
     "text": [
      "Epoch  225 , loss 0.21002699829199734\n",
      "Epoch  226 , loss 0.21161283377338858\n"
     ]
    },
    {
     "name": "stderr",
     "output_type": "stream",
     "text": [
      "\r",
      "Iterations:  76%|████████████████████████▉        | 227/300 [03:29<01:09,  1.05it/s]"
     ]
    },
    {
     "name": "stdout",
     "output_type": "stream",
     "text": [
      "Epoch:  226\n",
      "t_loss:  0.21161283377338858 , v_loss:  0.8206351399421692\n",
      "t_acc:  0.8748832866479925 , v_acc:  0.7391304347826086\n",
      "t_recall:  0.8117305554411826 , v_recall:  0.6514414414414414\n",
      "t_prec:  0.8889585302700259 , v_prec:  0.694650301065308\n",
      "t_f:  0.8376303356142066 , v_f:  0.6617647058823529\n",
      "////////\n"
     ]
    },
    {
     "name": "stderr",
     "output_type": "stream",
     "text": [
      "\r",
      "Iterations:  76%|█████████████████████████        | 228/300 [03:30<01:04,  1.12it/s]"
     ]
    },
    {
     "name": "stdout",
     "output_type": "stream",
     "text": [
      "Epoch  227 , loss 0.20668961765135035\n",
      "Epoch  228 , loss 0.21828885069664786\n"
     ]
    },
    {
     "name": "stderr",
     "output_type": "stream",
     "text": [
      "\r",
      "Iterations:  76%|█████████████████████████▏       | 229/300 [03:31<01:08,  1.04it/s]"
     ]
    },
    {
     "name": "stdout",
     "output_type": "stream",
     "text": [
      "Epoch:  228\n",
      "t_loss:  0.21828885069664786 , v_loss:  0.8421612779299418\n",
      "t_acc:  0.8751945222533458 , v_acc:  0.7329192546583851\n",
      "t_recall:  0.8168423436406308 , v_recall:  0.6469369369369369\n",
      "t_prec:  0.8824551201765372 , v_prec:  0.6849206349206349\n",
      "t_f:  0.8400546569583156 , v_f:  0.6563415239513528\n",
      "////////\n"
     ]
    },
    {
     "name": "stderr",
     "output_type": "stream",
     "text": [
      "\r",
      "Iterations:  77%|█████████████████████████▎       | 230/300 [03:32<01:02,  1.12it/s]"
     ]
    },
    {
     "name": "stdout",
     "output_type": "stream",
     "text": [
      "Epoch  229 , loss 0.20393174302344227\n",
      "Epoch  230 , loss 0.2089011393049184\n"
     ]
    },
    {
     "name": "stderr",
     "output_type": "stream",
     "text": [
      "\r",
      "Iterations:  77%|█████████████████████████▍       | 231/300 [03:33<01:06,  1.04it/s]"
     ]
    },
    {
     "name": "stdout",
     "output_type": "stream",
     "text": [
      "Epoch:  230\n",
      "t_loss:  0.2089011393049184 , v_loss:  0.8334560493628184\n",
      "t_acc:  0.8811079987550576 , v_acc:  0.7267080745341615\n",
      "t_recall:  0.8236807070998202 , v_recall:  0.6424324324324324\n",
      "t_prec:  0.8910888407367281 , v_prec:  0.6756666666666666\n",
      "t_f:  0.8475761022910168 , v_f:  0.6509657075285771\n",
      "////////\n"
     ]
    },
    {
     "name": "stderr",
     "output_type": "stream",
     "text": [
      "\r",
      "Iterations:  77%|█████████████████████████▌       | 232/300 [03:34<01:00,  1.12it/s]"
     ]
    },
    {
     "name": "stdout",
     "output_type": "stream",
     "text": [
      "Epoch  231 , loss 0.206198773401625\n",
      "Epoch  232 , loss 0.2075121575126461\n"
     ]
    },
    {
     "name": "stderr",
     "output_type": "stream",
     "text": [
      "Exception ignored in: <function _releaseLock at 0x7ff3c5599d40>\n",
      "Traceback (most recent call last):\n",
      "  File \"/home/jchan/anaconda3/envs/pytorch/lib/python3.7/logging/__init__.py\", line 221, in _releaseLock\n",
      "    def _releaseLock():\n",
      "KeyboardInterrupt\n",
      "Iterations:  77%|█████████████████████████▌       | 232/300 [03:40<01:04,  1.05it/s]\n"
     ]
    },
    {
     "ename": "RuntimeError",
     "evalue": "DataLoader worker (pid(s) 2604451) exited unexpectedly",
     "output_type": "error",
     "traceback": [
      "\u001b[0;31m---------------------------------------------------------------------------\u001b[0m",
      "\u001b[0;31mEmpty\u001b[0m                                     Traceback (most recent call last)",
      "\u001b[0;32m~/anaconda3/envs/pytorch/lib/python3.7/site-packages/torch/utils/data/dataloader.py\u001b[0m in \u001b[0;36m_try_get_data\u001b[0;34m(self, timeout)\u001b[0m\n\u001b[1;32m   1133\u001b[0m         \u001b[0;32mtry\u001b[0m\u001b[0;34m:\u001b[0m\u001b[0;34m\u001b[0m\u001b[0;34m\u001b[0m\u001b[0m\n\u001b[0;32m-> 1134\u001b[0;31m             \u001b[0mdata\u001b[0m \u001b[0;34m=\u001b[0m \u001b[0mself\u001b[0m\u001b[0;34m.\u001b[0m\u001b[0m_data_queue\u001b[0m\u001b[0;34m.\u001b[0m\u001b[0mget\u001b[0m\u001b[0;34m(\u001b[0m\u001b[0mtimeout\u001b[0m\u001b[0;34m=\u001b[0m\u001b[0mtimeout\u001b[0m\u001b[0;34m)\u001b[0m\u001b[0;34m\u001b[0m\u001b[0;34m\u001b[0m\u001b[0m\n\u001b[0m\u001b[1;32m   1135\u001b[0m             \u001b[0;32mreturn\u001b[0m \u001b[0;34m(\u001b[0m\u001b[0;32mTrue\u001b[0m\u001b[0;34m,\u001b[0m \u001b[0mdata\u001b[0m\u001b[0;34m)\u001b[0m\u001b[0;34m\u001b[0m\u001b[0;34m\u001b[0m\u001b[0m\n",
      "\u001b[0;32m~/anaconda3/envs/pytorch/lib/python3.7/queue.py\u001b[0m in \u001b[0;36mget\u001b[0;34m(self, block, timeout)\u001b[0m\n\u001b[1;32m    177\u001b[0m                     \u001b[0;32mif\u001b[0m \u001b[0mremaining\u001b[0m \u001b[0;34m<=\u001b[0m \u001b[0;36m0.0\u001b[0m\u001b[0;34m:\u001b[0m\u001b[0;34m\u001b[0m\u001b[0;34m\u001b[0m\u001b[0m\n\u001b[0;32m--> 178\u001b[0;31m                         \u001b[0;32mraise\u001b[0m \u001b[0mEmpty\u001b[0m\u001b[0;34m\u001b[0m\u001b[0;34m\u001b[0m\u001b[0m\n\u001b[0m\u001b[1;32m    179\u001b[0m                     \u001b[0mself\u001b[0m\u001b[0;34m.\u001b[0m\u001b[0mnot_empty\u001b[0m\u001b[0;34m.\u001b[0m\u001b[0mwait\u001b[0m\u001b[0;34m(\u001b[0m\u001b[0mremaining\u001b[0m\u001b[0;34m)\u001b[0m\u001b[0;34m\u001b[0m\u001b[0;34m\u001b[0m\u001b[0m\n",
      "\u001b[0;31mEmpty\u001b[0m: ",
      "\nThe above exception was the direct cause of the following exception:\n",
      "\u001b[0;31mRuntimeError\u001b[0m                              Traceback (most recent call last)",
      "\u001b[0;32m/tmp/ipykernel_2581906/578086949.py\u001b[0m in \u001b[0;36m<module>\u001b[0;34m\u001b[0m\n\u001b[1;32m     86\u001b[0m                                      \u001b[0mloss_func\u001b[0m\u001b[0;34m=\u001b[0m\u001b[0mcriterion\u001b[0m\u001b[0;34m,\u001b[0m\u001b[0;34m\u001b[0m\u001b[0;34m\u001b[0m\u001b[0m\n\u001b[1;32m     87\u001b[0m                                      \u001b[0moptimiser\u001b[0m\u001b[0;34m=\u001b[0m\u001b[0moptimizer\u001b[0m\u001b[0;34m,\u001b[0m \u001b[0;31m#scheduler=scheduler,\u001b[0m\u001b[0;34m\u001b[0m\u001b[0;34m\u001b[0m\u001b[0m\n\u001b[0;32m---> 88\u001b[0;31m                                      \u001b[0mtrain_func\u001b[0m\u001b[0;34m=\u001b[0m\u001b[0mtrain_func\u001b[0m\u001b[0;34m\u001b[0m\u001b[0;34m\u001b[0m\u001b[0m\n\u001b[0m\u001b[1;32m     89\u001b[0m                                     )\n\u001b[1;32m     90\u001b[0m     \u001b[0;32mif\u001b[0m \u001b[0mmodel\u001b[0m\u001b[0;34m.\u001b[0m\u001b[0mepoch\u001b[0m \u001b[0;34m==\u001b[0m \u001b[0mn_epochs\u001b[0m\u001b[0;34m+\u001b[0m\u001b[0;36m1\u001b[0m\u001b[0;34m:\u001b[0m\u001b[0;34m\u001b[0m\u001b[0;34m\u001b[0m\u001b[0m\n",
      "\u001b[0;32m~/github/pairwise-importance-estimate-extension-with-time-series-adaptation/utilities/EEG_func.py\u001b[0m in \u001b[0;36mtraining_procedure\u001b[0;34m(self, iteration, train_dataloader, val_dataloader, path, loss_func, optimiser, train_func, print_cycle)\u001b[0m\n\u001b[1;32m    233\u001b[0m \u001b[0;34m\u001b[0m\u001b[0m\n\u001b[1;32m    234\u001b[0m             \u001b[0;32mif\u001b[0m \u001b[0mi\u001b[0m \u001b[0;34m%\u001b[0m \u001b[0mprint_cycle\u001b[0m\u001b[0;34m==\u001b[0m\u001b[0;36m0\u001b[0m\u001b[0;34m:\u001b[0m\u001b[0;34m\u001b[0m\u001b[0;34m\u001b[0m\u001b[0m\n\u001b[0;32m--> 235\u001b[0;31m                 \u001b[0mv_loss\u001b[0m\u001b[0;34m,\u001b[0m \u001b[0mv_dict\u001b[0m\u001b[0;34m=\u001b[0m \u001b[0meeg_validation\u001b[0m\u001b[0;34m(\u001b[0m\u001b[0mself\u001b[0m\u001b[0;34m,\u001b[0m \u001b[0mval_dataloader\u001b[0m\u001b[0;34m,\u001b[0m \u001b[0mloss_func\u001b[0m\u001b[0;34m,\u001b[0m \u001b[0mdevice\u001b[0m\u001b[0;34m)\u001b[0m\u001b[0;34m\u001b[0m\u001b[0;34m\u001b[0m\u001b[0m\n\u001b[0m\u001b[1;32m    236\u001b[0m                 \u001b[0;31m# pickle.dump(v_dict, open(path+\"/v_dict-\"+str(self.epoch)+\".pkl\",\"wb\"))\u001b[0m\u001b[0;34m\u001b[0m\u001b[0;34m\u001b[0m\u001b[0;34m\u001b[0m\u001b[0m\n\u001b[1;32m    237\u001b[0m \u001b[0;34m\u001b[0m\u001b[0m\n",
      "\u001b[0;32m~/github/pairwise-importance-estimate-extension-with-time-series-adaptation/utilities/EEG_func.py\u001b[0m in \u001b[0;36meeg_validation\u001b[0;34m(model, loader, loss_func, device)\u001b[0m\n\u001b[1;32m    153\u001b[0m \u001b[0;34m\u001b[0m\u001b[0m\n\u001b[1;32m    154\u001b[0m \u001b[0;32mdef\u001b[0m \u001b[0meeg_validation\u001b[0m\u001b[0;34m(\u001b[0m\u001b[0mmodel\u001b[0m\u001b[0;34m,\u001b[0m \u001b[0mloader\u001b[0m\u001b[0;34m,\u001b[0m \u001b[0mloss_func\u001b[0m\u001b[0;34m,\u001b[0m \u001b[0mdevice\u001b[0m\u001b[0;34m)\u001b[0m\u001b[0;34m:\u001b[0m\u001b[0;34m\u001b[0m\u001b[0;34m\u001b[0m\u001b[0m\n\u001b[0;32m--> 155\u001b[0;31m     \u001b[0mloss\u001b[0m\u001b[0;34m,\u001b[0m \u001b[0mo\u001b[0m\u001b[0;34m,\u001b[0m \u001b[0my_real\u001b[0m\u001b[0;34m=\u001b[0m \u001b[0meeg_val\u001b[0m\u001b[0;34m(\u001b[0m\u001b[0mmodel\u001b[0m\u001b[0;34m,\u001b[0m \u001b[0mloader\u001b[0m\u001b[0;34m,\u001b[0m \u001b[0mloss_func\u001b[0m\u001b[0;34m,\u001b[0m \u001b[0mdevice\u001b[0m\u001b[0;34m)\u001b[0m\u001b[0;34m\u001b[0m\u001b[0;34m\u001b[0m\u001b[0m\n\u001b[0m\u001b[1;32m    156\u001b[0m     \u001b[0mdictionary\u001b[0m\u001b[0;34m=\u001b[0m \u001b[0mclassification_report\u001b[0m\u001b[0;34m(\u001b[0m\u001b[0my_real\u001b[0m\u001b[0;34m,\u001b[0m \u001b[0mo\u001b[0m\u001b[0;34m,\u001b[0m \u001b[0moutput_dict\u001b[0m\u001b[0;34m=\u001b[0m\u001b[0;32mTrue\u001b[0m\u001b[0;34m,\u001b[0m \u001b[0mzero_division\u001b[0m\u001b[0;34m=\u001b[0m\u001b[0;36m0\u001b[0m\u001b[0;34m)\u001b[0m\u001b[0;34m\u001b[0m\u001b[0;34m\u001b[0m\u001b[0m\n\u001b[1;32m    157\u001b[0m \u001b[0;34m\u001b[0m\u001b[0m\n",
      "\u001b[0;32m~/github/pairwise-importance-estimate-extension-with-time-series-adaptation/utilities/EEG_func.py\u001b[0m in \u001b[0;36meeg_val\u001b[0;34m(model, val_loader, loss_func, device)\u001b[0m\n\u001b[1;32m    135\u001b[0m     \u001b[0mlosses\u001b[0m\u001b[0;34m=\u001b[0m \u001b[0;34m[\u001b[0m\u001b[0;34m]\u001b[0m\u001b[0;34m\u001b[0m\u001b[0;34m\u001b[0m\u001b[0m\n\u001b[1;32m    136\u001b[0m     \u001b[0;32mwith\u001b[0m \u001b[0mtorch\u001b[0m\u001b[0;34m.\u001b[0m\u001b[0mno_grad\u001b[0m\u001b[0;34m(\u001b[0m\u001b[0;34m)\u001b[0m\u001b[0;34m:\u001b[0m\u001b[0;34m\u001b[0m\u001b[0;34m\u001b[0m\u001b[0m\n\u001b[0;32m--> 137\u001b[0;31m         \u001b[0;32mfor\u001b[0m \u001b[0mx\u001b[0m\u001b[0;34m,\u001b[0m \u001b[0my\u001b[0m \u001b[0;32min\u001b[0m \u001b[0mval_loader\u001b[0m\u001b[0;34m:\u001b[0m\u001b[0;34m\u001b[0m\u001b[0;34m\u001b[0m\u001b[0m\n\u001b[0m\u001b[1;32m    138\u001b[0m             \u001b[0mx\u001b[0m \u001b[0;34m=\u001b[0m \u001b[0mx\u001b[0m\u001b[0;34m.\u001b[0m\u001b[0mto\u001b[0m\u001b[0;34m(\u001b[0m\u001b[0mdevice\u001b[0m\u001b[0;34m,\u001b[0m \u001b[0mdtype\u001b[0m\u001b[0;34m=\u001b[0m\u001b[0mtorch\u001b[0m\u001b[0;34m.\u001b[0m\u001b[0mfloat\u001b[0m\u001b[0;34m)\u001b[0m\u001b[0;34m\u001b[0m\u001b[0;34m\u001b[0m\u001b[0m\n\u001b[1;32m    139\u001b[0m             \u001b[0mx\u001b[0m \u001b[0;34m=\u001b[0m \u001b[0mx\u001b[0m\u001b[0;34m.\u001b[0m\u001b[0munsqueeze\u001b[0m\u001b[0;34m(\u001b[0m\u001b[0;36m1\u001b[0m\u001b[0;34m)\u001b[0m\u001b[0;34m\u001b[0m\u001b[0;34m\u001b[0m\u001b[0m\n",
      "\u001b[0;32m~/anaconda3/envs/pytorch/lib/python3.7/site-packages/torch/utils/data/dataloader.py\u001b[0m in \u001b[0;36m__next__\u001b[0;34m(self)\u001b[0m\n\u001b[1;32m    650\u001b[0m                 \u001b[0;31m# TODO(https://github.com/pytorch/pytorch/issues/76750)\u001b[0m\u001b[0;34m\u001b[0m\u001b[0;34m\u001b[0m\u001b[0;34m\u001b[0m\u001b[0m\n\u001b[1;32m    651\u001b[0m                 \u001b[0mself\u001b[0m\u001b[0;34m.\u001b[0m\u001b[0m_reset\u001b[0m\u001b[0;34m(\u001b[0m\u001b[0;34m)\u001b[0m  \u001b[0;31m# type: ignore[call-arg]\u001b[0m\u001b[0;34m\u001b[0m\u001b[0;34m\u001b[0m\u001b[0m\n\u001b[0;32m--> 652\u001b[0;31m             \u001b[0mdata\u001b[0m \u001b[0;34m=\u001b[0m \u001b[0mself\u001b[0m\u001b[0;34m.\u001b[0m\u001b[0m_next_data\u001b[0m\u001b[0;34m(\u001b[0m\u001b[0;34m)\u001b[0m\u001b[0;34m\u001b[0m\u001b[0;34m\u001b[0m\u001b[0m\n\u001b[0m\u001b[1;32m    653\u001b[0m             \u001b[0mself\u001b[0m\u001b[0;34m.\u001b[0m\u001b[0m_num_yielded\u001b[0m \u001b[0;34m+=\u001b[0m \u001b[0;36m1\u001b[0m\u001b[0;34m\u001b[0m\u001b[0;34m\u001b[0m\u001b[0m\n\u001b[1;32m    654\u001b[0m             \u001b[0;32mif\u001b[0m \u001b[0mself\u001b[0m\u001b[0;34m.\u001b[0m\u001b[0m_dataset_kind\u001b[0m \u001b[0;34m==\u001b[0m \u001b[0m_DatasetKind\u001b[0m\u001b[0;34m.\u001b[0m\u001b[0mIterable\u001b[0m \u001b[0;32mand\u001b[0m\u001b[0;31m \u001b[0m\u001b[0;31m\\\u001b[0m\u001b[0;34m\u001b[0m\u001b[0;34m\u001b[0m\u001b[0m\n",
      "\u001b[0;32m~/anaconda3/envs/pytorch/lib/python3.7/site-packages/torch/utils/data/dataloader.py\u001b[0m in \u001b[0;36m_next_data\u001b[0;34m(self)\u001b[0m\n\u001b[1;32m   1328\u001b[0m \u001b[0;34m\u001b[0m\u001b[0m\n\u001b[1;32m   1329\u001b[0m             \u001b[0;32massert\u001b[0m \u001b[0;32mnot\u001b[0m \u001b[0mself\u001b[0m\u001b[0;34m.\u001b[0m\u001b[0m_shutdown\u001b[0m \u001b[0;32mand\u001b[0m \u001b[0mself\u001b[0m\u001b[0;34m.\u001b[0m\u001b[0m_tasks_outstanding\u001b[0m \u001b[0;34m>\u001b[0m \u001b[0;36m0\u001b[0m\u001b[0;34m\u001b[0m\u001b[0;34m\u001b[0m\u001b[0m\n\u001b[0;32m-> 1330\u001b[0;31m             \u001b[0midx\u001b[0m\u001b[0;34m,\u001b[0m \u001b[0mdata\u001b[0m \u001b[0;34m=\u001b[0m \u001b[0mself\u001b[0m\u001b[0;34m.\u001b[0m\u001b[0m_get_data\u001b[0m\u001b[0;34m(\u001b[0m\u001b[0;34m)\u001b[0m\u001b[0;34m\u001b[0m\u001b[0;34m\u001b[0m\u001b[0m\n\u001b[0m\u001b[1;32m   1331\u001b[0m             \u001b[0mself\u001b[0m\u001b[0;34m.\u001b[0m\u001b[0m_tasks_outstanding\u001b[0m \u001b[0;34m-=\u001b[0m \u001b[0;36m1\u001b[0m\u001b[0;34m\u001b[0m\u001b[0;34m\u001b[0m\u001b[0m\n\u001b[1;32m   1332\u001b[0m             \u001b[0;32mif\u001b[0m \u001b[0mself\u001b[0m\u001b[0;34m.\u001b[0m\u001b[0m_dataset_kind\u001b[0m \u001b[0;34m==\u001b[0m \u001b[0m_DatasetKind\u001b[0m\u001b[0;34m.\u001b[0m\u001b[0mIterable\u001b[0m\u001b[0;34m:\u001b[0m\u001b[0;34m\u001b[0m\u001b[0;34m\u001b[0m\u001b[0m\n",
      "\u001b[0;32m~/anaconda3/envs/pytorch/lib/python3.7/site-packages/torch/utils/data/dataloader.py\u001b[0m in \u001b[0;36m_get_data\u001b[0;34m(self)\u001b[0m\n\u001b[1;32m   1284\u001b[0m         \u001b[0;32melif\u001b[0m \u001b[0mself\u001b[0m\u001b[0;34m.\u001b[0m\u001b[0m_pin_memory\u001b[0m\u001b[0;34m:\u001b[0m\u001b[0;34m\u001b[0m\u001b[0;34m\u001b[0m\u001b[0m\n\u001b[1;32m   1285\u001b[0m             \u001b[0;32mwhile\u001b[0m \u001b[0mself\u001b[0m\u001b[0;34m.\u001b[0m\u001b[0m_pin_memory_thread\u001b[0m\u001b[0;34m.\u001b[0m\u001b[0mis_alive\u001b[0m\u001b[0;34m(\u001b[0m\u001b[0;34m)\u001b[0m\u001b[0;34m:\u001b[0m\u001b[0;34m\u001b[0m\u001b[0;34m\u001b[0m\u001b[0m\n\u001b[0;32m-> 1286\u001b[0;31m                 \u001b[0msuccess\u001b[0m\u001b[0;34m,\u001b[0m \u001b[0mdata\u001b[0m \u001b[0;34m=\u001b[0m \u001b[0mself\u001b[0m\u001b[0;34m.\u001b[0m\u001b[0m_try_get_data\u001b[0m\u001b[0;34m(\u001b[0m\u001b[0;34m)\u001b[0m\u001b[0;34m\u001b[0m\u001b[0;34m\u001b[0m\u001b[0m\n\u001b[0m\u001b[1;32m   1287\u001b[0m                 \u001b[0;32mif\u001b[0m \u001b[0msuccess\u001b[0m\u001b[0;34m:\u001b[0m\u001b[0;34m\u001b[0m\u001b[0;34m\u001b[0m\u001b[0m\n\u001b[1;32m   1288\u001b[0m                     \u001b[0;32mreturn\u001b[0m \u001b[0mdata\u001b[0m\u001b[0;34m\u001b[0m\u001b[0;34m\u001b[0m\u001b[0m\n",
      "\u001b[0;32m~/anaconda3/envs/pytorch/lib/python3.7/site-packages/torch/utils/data/dataloader.py\u001b[0m in \u001b[0;36m_try_get_data\u001b[0;34m(self, timeout)\u001b[0m\n\u001b[1;32m   1145\u001b[0m             \u001b[0;32mif\u001b[0m \u001b[0mlen\u001b[0m\u001b[0;34m(\u001b[0m\u001b[0mfailed_workers\u001b[0m\u001b[0;34m)\u001b[0m \u001b[0;34m>\u001b[0m \u001b[0;36m0\u001b[0m\u001b[0;34m:\u001b[0m\u001b[0;34m\u001b[0m\u001b[0;34m\u001b[0m\u001b[0m\n\u001b[1;32m   1146\u001b[0m                 \u001b[0mpids_str\u001b[0m \u001b[0;34m=\u001b[0m \u001b[0;34m', '\u001b[0m\u001b[0;34m.\u001b[0m\u001b[0mjoin\u001b[0m\u001b[0;34m(\u001b[0m\u001b[0mstr\u001b[0m\u001b[0;34m(\u001b[0m\u001b[0mw\u001b[0m\u001b[0;34m.\u001b[0m\u001b[0mpid\u001b[0m\u001b[0;34m)\u001b[0m \u001b[0;32mfor\u001b[0m \u001b[0mw\u001b[0m \u001b[0;32min\u001b[0m \u001b[0mfailed_workers\u001b[0m\u001b[0;34m)\u001b[0m\u001b[0;34m\u001b[0m\u001b[0;34m\u001b[0m\u001b[0m\n\u001b[0;32m-> 1147\u001b[0;31m                 \u001b[0;32mraise\u001b[0m \u001b[0mRuntimeError\u001b[0m\u001b[0;34m(\u001b[0m\u001b[0;34m'DataLoader worker (pid(s) {}) exited unexpectedly'\u001b[0m\u001b[0;34m.\u001b[0m\u001b[0mformat\u001b[0m\u001b[0;34m(\u001b[0m\u001b[0mpids_str\u001b[0m\u001b[0;34m)\u001b[0m\u001b[0;34m)\u001b[0m \u001b[0;32mfrom\u001b[0m \u001b[0me\u001b[0m\u001b[0;34m\u001b[0m\u001b[0;34m\u001b[0m\u001b[0m\n\u001b[0m\u001b[1;32m   1148\u001b[0m             \u001b[0;32mif\u001b[0m \u001b[0misinstance\u001b[0m\u001b[0;34m(\u001b[0m\u001b[0me\u001b[0m\u001b[0;34m,\u001b[0m \u001b[0mqueue\u001b[0m\u001b[0;34m.\u001b[0m\u001b[0mEmpty\u001b[0m\u001b[0;34m)\u001b[0m\u001b[0;34m:\u001b[0m\u001b[0;34m\u001b[0m\u001b[0;34m\u001b[0m\u001b[0m\n\u001b[1;32m   1149\u001b[0m                 \u001b[0;32mreturn\u001b[0m \u001b[0;34m(\u001b[0m\u001b[0;32mFalse\u001b[0m\u001b[0;34m,\u001b[0m \u001b[0;32mNone\u001b[0m\u001b[0;34m)\u001b[0m\u001b[0;34m\u001b[0m\u001b[0;34m\u001b[0m\u001b[0m\n",
      "\u001b[0;31mRuntimeError\u001b[0m: DataLoader worker (pid(s) 2604451) exited unexpectedly"
     ]
    }
   ],
   "source": [
    "from utilities.userfold_framework import *\n",
    "from utilities.EEG_func import *\n",
    "import Models.model_func as Model_Func\n",
    "import numpy as np\n",
    "import pandas as pd\n",
    "import matplotlib.pyplot as plt\n",
    "import seaborn as sns\n",
    "from typing import List\n",
    "from torcheeg.models import EEGNet\n",
    "# import Models.model_func as Model_Func\n",
    "from torch import nn\n",
    "from Models.multi_models import *\n",
    "\n",
    "DEVICE= torch.device(\"cuda\") if torch.cuda.is_available() else torch.device(\"cpu\")\n",
    "\n",
    "learning_rate = 0.00005\n",
    "batch_size = 64\n",
    "n_epochs = 300\n",
    "transpose_channels=True\n",
    "participants_dictionary=[]\n",
    "# participants_online_dictionary=[]\n",
    "participants_grads_dictionary={}\n",
    "b_acc_list=[]\n",
    "c0_acc_list=[]\n",
    "c1_acc_list=[]\n",
    "\n",
    "class LSTM_output(torch.nn.Module):\n",
    "    def forward(self, x):\n",
    "        return x[0].unsqueeze(0)\n",
    "\n",
    "\n",
    "for i in range(len(participants)):\n",
    "\n",
    "    train_dataloader, val_dataloader, classes, input_dim, class_ratio= user_fold_load(i,\n",
    "                                                                                      raw_user_fold,\n",
    "                                                                                      participants,\n",
    "                                                                                      batch_size=batch_size,\n",
    "                                                                                      transpose_channels=transpose_channels)\n",
    "\n",
    "    classifier= EEGNet(\n",
    "        chunk_size=input_dim[1],\n",
    "        num_electrodes=input_dim[0],\n",
    "        num_classes=classes,\n",
    "        kernel_1= 32,\n",
    "        kernel_2=32,\n",
    "        F1=8,\n",
    "        F2=16,\n",
    "        dropout=0.5\n",
    "    ).to(DEVICE)\n",
    "    \n",
    "#     resnet = ResNetPlus(input_dim[0], classes, bn_1st=False)\n",
    "#     softmax_activation = nn.LogSoftmax(dim=1)\n",
    "#     classifier = nn.Sequential(resnet, softmax_activation).to(DEVICE)\n",
    "\n",
    "    \n",
    "#     classifier = DataGliderBasic_Model(DEVICE, input_dim, classes)\n",
    "#     classifier.to(DEVICE)\n",
    "    \n",
    "#     optimizer= torch.optim.RMSprop(classifier.parameters(), lr=learning_rate)\n",
    "    \n",
    "    \n",
    "    criterion= torch.nn.CrossEntropyLoss(weight=torch.tensor(class_ratio, dtype=torch.float).to(DEVICE))\n",
    "#     criterion = nn.NLLLoss(weight=torch.tensor(class_ratio, dtype=torch.float).to(DEVICE))\n",
    "        \n",
    "    saved_dir= \"./EEG/saved_models/Userfold/run0\"\n",
    "    nonlinear_func= torch.nn.Sequential(\n",
    "#                     LSTM_input(),\n",
    "                    torch.nn.LSTM(input_dim[1],input_dim[1]),\n",
    "                    LSTM_output(),\n",
    "                    torch.nn.Sigmoid(),\n",
    "#                     EEGNet_input()\n",
    "                        ).to(DEVICE)\n",
    "    model = EEGNet_NeuralFS_EEG_Wrapper(DEVICE, classifier, input_dim[0],\n",
    "                                nonlinear_func=nonlinear_func\n",
    "                                 ).to(DEVICE)\n",
    "    optimizer = torch.optim.Adam(model.parameters(), lr = learning_rate)\n",
    "    scheduler= torch.optim.lr_scheduler.ReduceLROnPlateau(optimizer, patience=2)\n",
    "\n",
    "    \n",
    "    train_func= eeg_train\n",
    "    model.training_procedure(iteration=n_epochs,\n",
    "                                    train_dataloader=train_dataloader,\n",
    "                                     val_dataloader=val_dataloader,\n",
    "                                     print_cycle=2,\n",
    "                                     path=f\"./dictionary/intermdiate_dicts\",\n",
    "                                     loss_func=criterion,\n",
    "                                     optimiser=optimizer, #scheduler=scheduler,\n",
    "                                     train_func=train_func\n",
    "                                    )\n",
    "    if model.epoch == n_epochs+1:\n",
    "        EPOCH= n_epochs\n",
    "    else:\n",
    "        EPOCH= model.epoch\n",
    "    \n",
    "#     torch.save(model.state_dict(), \n",
    "#            os.path.join(\n",
    "#                saved_dir, f\"Userfold-{participants[i]}-EEGNet-NFS_EEG-e{EPOCH}.pt\"\n",
    "#            )\n",
    "#     )\n",
    "\n",
    "#     pickle.dump( model.return_pairwise_weights(), \n",
    "#                 open(f\"{saved_dir}/Userfold-{participants[i]}-EEGNet-NFS_EEG-w-e{EPOCH}.pkl\", \"wb\") \n",
    "#                )    \n",
    "\n",
    "# OR\n",
    "#     model.load_state_dict(\n",
    "#     torch.load(\n",
    "#         open(\n",
    "#             os.path.join(\n",
    "#                 saved_dir, f\"Userfold-{participants[i]}-EEGNet-NFS_EEG-e{n_epochs}.pt\"\n",
    "#             ), \"rb\"\n",
    "#         )\n",
    "#               )\n",
    "#     )\n",
    "#     pickle.load( \n",
    "#                 open(f\"{saved_dir}/Userfold-{participants[i]}-EEGNet-NFS_EEG-w-e{EPOCH}.pkl\", \"rb\") \n",
    "#                )  \n",
    "    \n",
    "    prediction, dictionary= model.prediction_procedure(val_dataloader, dict_flag=True)\n",
    "    \n",
    "    ys= np.concatenate([y.detach().cpu().numpy() for x, y in val_dataloader])\n",
    "    \n",
    "    c0_acc, c1_acc, b_acc= calculate_accuracy(ys, prediction)\n",
    "    print(\"c0_acc\", c0_acc, \", c1_acc\", c1_acc, \", b_acc\", b_acc)\n",
    "    b_acc_list.append(b_acc)\n",
    "    c0_acc_list.append(c0_acc)\n",
    "    c1_acc_list.append(c1_acc)\n",
    "    participants_dictionary.append(dictionary)\n",
    "    \n",
    "\n",
    "tmp=[]\n",
    "for i, dictionary in enumerate(participants_dictionary):\n",
    "    print(f\"User {participants[i]} f1: {dictionary['weighted avg']['f1-score']} acc: {dictionary['accuracy']}\")\n",
    "    print(f\" c0: {c0_acc_list[i]} c1: {c1_acc_list[i]} bacc: {b_acc_list[i]}\")\n",
    "    tmp.append(dictionary['weighted avg']['f1-score'])\n",
    "\n",
    "print(f\"average {np.mean(tmp)}\")\n",
    "print()\n",
    "print(np.array(b_acc_list).mean())\n",
    "print(np.array(c1_acc_list).mean())\n",
    "print(np.array(c0_acc_list).mean())\n"
   ]
  },
  {
   "cell_type": "code",
   "execution_count": 6,
   "id": "eb9de653",
   "metadata": {},
   "outputs": [
    {
     "name": "stdout",
     "output_type": "stream",
     "text": [
      "     accuracy  f1-score\n",
      "S01  0.701863  0.696271\n",
      "S02  0.613095  0.593052\n",
      "S03  0.607955  0.608986\n",
      "S04  0.663102  0.646175\n",
      "S05  0.686747  0.650519\n",
      "S06  0.640000  0.628453\n",
      "S07  0.674033  0.667607\n",
      "S08  0.681081  0.661658\n",
      "S09  0.718085  0.712120\n",
      "S10  0.696809  0.680664\n",
      "S11  0.736527  0.718478\n",
      "S12  0.761364  0.747955\n",
      "S13  0.698324  0.679725\n",
      "S14  0.701657  0.690589\n",
      "S15  0.677596  0.661656\n",
      "S16  0.655738  0.643704\n",
      "S17  0.620482  0.598519\n",
      "S19  0.646739  0.624525\n",
      "S20  0.733333  0.720960\n"
     ]
    },
    {
     "data": {
      "image/png": "[encoded data removed]",
      "text/plain": [
       "<Figure size 432x288 with 2 Axes>"
      ]
     },
     "metadata": {
      "needs_background": "light"
     },
     "output_type": "display_data"
    },
    {
     "name": "stdout",
     "output_type": "stream",
     "text": [
      "     class0 f1-score  class1 f1-score\n",
      "S01         0.789474         0.489362\n",
      "S02         0.734694         0.285714\n",
      "S03         0.718367         0.355140\n",
      "S04         0.772563         0.350515\n",
      "S05         0.798450         0.297297\n",
      "S06         0.756757         0.307692\n",
      "S07         0.770428         0.438095\n",
      "S08         0.782288         0.404040\n",
      "S09         0.805861         0.485437\n",
      "S10         0.792727         0.435644\n",
      "S11         0.826772         0.450000\n",
      "S12         0.838462         0.543478\n",
      "S13         0.795455         0.425532\n",
      "S14         0.793893         0.460000\n",
      "S15         0.780669         0.391753\n",
      "S16         0.764045         0.363636\n",
      "S17         0.744939         0.258824\n",
      "S19         0.760148         0.329897\n",
      "S20         0.818182         0.500000\n"
     ]
    },
    {
     "data": {
      "image/png": "[encoded data removed]",
      "text/plain": [
       "<Figure size 432x288 with 2 Axes>"
      ]
     },
     "metadata": {
      "needs_background": "light"
     },
     "output_type": "display_data"
    }
   ],
   "source": [
    "userfold_results_summary(participants_dictionary, participants)\n",
    "userfold_classwise_results_summary(participants_dictionary, participants)\n"
   ]
  },
  {
   "cell_type": "code",
   "execution_count": 8,
   "id": "5b43fc64",
   "metadata": {},
   "outputs": [
    {
     "data": {
      "text/plain": [
       "(32,)"
      ]
     },
     "execution_count": 8,
     "metadata": {},
     "output_type": "execute_result"
    }
   ],
   "source": [
    "model.return_pairwise_weights().shape"
   ]
  }
 ],
 "metadata": {
  "kernelspec": {
   "display_name": "Python [conda env:pytorch]",
   "language": "python",
   "name": "conda-env-pytorch-py"
  },
  "language_info": {
   "codemirror_mode": {
    "name": "ipython",
    "version": 3
   },
   "file_extension": ".py",
   "mimetype": "text/x-python",
   "name": "python",
   "nbconvert_exporter": "python",
   "pygments_lexer": "ipython3",
   "version": "3.7.10"
  }
 },
 "nbformat": 4,
 "nbformat_minor": 5
}
