{
 "cells": [
  {
   "cell_type": "code",
   "execution_count": 1,
   "id": "4c9e593e",
   "metadata": {},
   "outputs": [],
   "source": [
    "import numpy as np\n",
    "import pickle\n",
    "import sys\n",
    "from typing import List\n",
    "import torch\n",
    "import os"
   ]
  },
  {
   "cell_type": "code",
   "execution_count": 2,
   "id": "eb96ce98",
   "metadata": {},
   "outputs": [],
   "source": [
    "participant_data_path = './EEG/number'\n",
    "processed_data_path = './EEG/processed_data'\n",
    "split_data_path = './EEG/split_data'"
   ]
  },
  {
   "cell_type": "code",
   "execution_count": 3,
   "id": "62c74d3a",
   "metadata": {},
   "outputs": [],
   "source": [
    "ps = os.listdir(participant_data_path)\n",
    "participants=[]\n",
    "for p in ps:\n",
    "    p= p[:3]\n",
    "    if p not in participants:\n",
    "        participants.append(p)\n",
    "        \n",
    "participants= sorted(participants)\n",
    "# participants, len(participants)"
   ]
  },
  {
   "cell_type": "code",
   "execution_count": 4,
   "id": "28f3009e",
   "metadata": {
    "scrolled": true
   },
   "outputs": [],
   "source": [
    "load_name=f\"userfold_data_scaled_p_dictionary-number\"\n",
    "data_dir = \"./EEG/split_data/standard_scaled\"\n",
    "try:\n",
    "    raw_user_fold= pickle.load(open(os.path.join(data_dir, f\"{load_name}.pkl\"), \"rb\"))\n",
    "except:\n",
    "    print(f\"pickle file does not exist. Use EEG-Preprocess.ipynb and EEG-Split.ipynb to save data setting.\")\n",
    "    sys.exit()"
   ]
  },
  {
   "cell_type": "code",
   "execution_count": null,
   "id": "082a80ac",
   "metadata": {
    "scrolled": true
   },
   "outputs": [
    {
     "name": "stderr",
     "output_type": "stream",
     "text": [
      "\r",
      "Iterations:   0%|                                           | 0/300 [00:00<?, ?it/s]"
     ]
    },
    {
     "name": "stdout",
     "output_type": "stream",
     "text": [
      "Epoch  0 , loss 0.7118428244310266\n"
     ]
    },
    {
     "name": "stderr",
     "output_type": "stream",
     "text": [
      "\r",
      "Iterations:   0%|                                   | 1/300 [00:03<15:02,  3.02s/it]"
     ]
    },
    {
     "name": "stdout",
     "output_type": "stream",
     "text": [
      "Epoch:  0\n",
      "t_loss:  0.7118428244310266 , v_loss:  0.6910333832105001\n",
      "t_acc:  0.514161220043573 , v_acc:  0.6335403726708074\n",
      "t_recall:  0.5170797820507542 , v_recall:  0.5254054054054054\n",
      "t_prec:  0.514465661514331 , v_prec:  0.5333806818181819\n",
      "t_f:  0.4949910350840503 , v_f:  0.5211473509099158\n",
      "////////\n"
     ]
    },
    {
     "name": "stderr",
     "output_type": "stream",
     "text": [
      "\r",
      "Iterations:   1%|▏                                  | 2/300 [00:04<09:16,  1.87s/it]"
     ]
    },
    {
     "name": "stdout",
     "output_type": "stream",
     "text": [
      "Epoch  1 , loss 0.6804287760865455\n",
      "Epoch  2 , loss 0.6513389454168432\n"
     ]
    },
    {
     "name": "stderr",
     "output_type": "stream",
     "text": [
      "\r",
      "Iterations:   1%|▎                                  | 3/300 [00:05<08:07,  1.64s/it]"
     ]
    },
    {
     "name": "stdout",
     "output_type": "stream",
     "text": [
      "Epoch:  2\n",
      "t_loss:  0.6513389454168432 , v_loss:  0.6851115226745605\n",
      "t_acc:  0.583255524431995 , v_acc:  0.6832298136645962\n",
      "t_recall:  0.5362656290745391 , v_recall:  0.5449549549549549\n",
      "t_prec:  0.533103167477502 , v_prec:  0.5924759080800593\n",
      "t_f:  0.5323570624436331 , v_f:  0.5296442687747035\n",
      "////////\n"
     ]
    },
    {
     "name": "stderr",
     "output_type": "stream",
     "text": [
      "\r",
      "Iterations:   1%|▍                                  | 4/300 [00:06<07:08,  1.45s/it]"
     ]
    },
    {
     "name": "stdout",
     "output_type": "stream",
     "text": [
      "Epoch  3 , loss 0.6277079091352575\n",
      "Epoch  4 , loss 0.6047330159767002\n"
     ]
    },
    {
     "name": "stderr",
     "output_type": "stream",
     "text": [
      "\r",
      "Iterations:   2%|▌                                  | 5/300 [00:08<07:02,  1.43s/it]"
     ]
    },
    {
     "name": "stdout",
     "output_type": "stream",
     "text": [
      "Epoch:  4\n",
      "t_loss:  0.6047330159767002 , v_loss:  0.6739920576413473\n",
      "t_acc:  0.6277622159975101 , v_acc:  0.6708074534161491\n",
      "t_recall:  0.5346152262527278 , v_recall:  0.5414414414414415\n",
      "t_prec:  0.5392611964694345 , v_prec:  0.572463768115942\n",
      "t_f:  0.5346861377506539 , v_f:  0.5305605985586181\n",
      "////////\n"
     ]
    },
    {
     "name": "stderr",
     "output_type": "stream",
     "text": [
      "\r",
      "Iterations:   2%|▋                                  | 6/300 [00:08<06:16,  1.28s/it]"
     ]
    },
    {
     "name": "stdout",
     "output_type": "stream",
     "text": [
      "Epoch  5 , loss 0.5879357141606948\n",
      "Epoch  6 , loss 0.5662384196823719\n"
     ]
    },
    {
     "name": "stderr",
     "output_type": "stream",
     "text": [
      "\r",
      "Iterations:   2%|▊                                  | 7/300 [00:10<06:18,  1.29s/it]"
     ]
    },
    {
     "name": "stdout",
     "output_type": "stream",
     "text": [
      "Epoch:  6\n",
      "t_loss:  0.5662384196823719 , v_loss:  0.6567917068799337\n",
      "t_acc:  0.6623093681917211 , v_acc:  0.6956521739130435\n",
      "t_recall:  0.5361572034421707 , v_recall:  0.5484684684684684\n",
      "t_prec:  0.5560044642857143 , v_prec:  0.6228310502283105\n",
      "t_f:  0.5288581885588969 , v_f:  0.5277461837773122\n",
      "////////\n"
     ]
    },
    {
     "name": "stderr",
     "output_type": "stream",
     "text": [
      "\r",
      "Iterations:   3%|▉                                  | 8/300 [00:11<05:44,  1.18s/it]"
     ]
    },
    {
     "name": "stdout",
     "output_type": "stream",
     "text": [
      "Epoch  7 , loss 0.5588197719817068\n",
      "Epoch  8 , loss 0.5416837422286763\n"
     ]
    },
    {
     "name": "stderr",
     "output_type": "stream",
     "text": [
      "\r",
      "Iterations:   3%|█                                  | 9/300 [00:12<05:55,  1.22s/it]"
     ]
    },
    {
     "name": "stdout",
     "output_type": "stream",
     "text": [
      "Epoch:  8\n",
      "t_loss:  0.5416837422286763 , v_loss:  0.6413488984107971\n",
      "t_acc:  0.6685340802987861 , v_acc:  0.7018633540372671\n",
      "t_recall:  0.515040968419319 , v_recall:  0.530990990990991\n",
      "t_prec:  0.5348375898834614 , v_prec:  0.6849462365591398\n",
      "t_f:  0.48797042603478574 , v_f:  0.48120300751879697\n",
      "////////\n"
     ]
    },
    {
     "name": "stderr",
     "output_type": "stream",
     "text": [
      "\r",
      "Iterations:   3%|█▏                                | 10/300 [00:13<05:29,  1.13s/it]"
     ]
    },
    {
     "name": "stdout",
     "output_type": "stream",
     "text": [
      "Epoch  9 , loss 0.5256922052187079\n",
      "Epoch  10 , loss 0.5083453976640514\n"
     ]
    },
    {
     "name": "stderr",
     "output_type": "stream",
     "text": [
      "\r",
      "Iterations:   4%|█▏                                | 11/300 [00:14<05:43,  1.19s/it]"
     ]
    },
    {
     "name": "stdout",
     "output_type": "stream",
     "text": [
      "Epoch:  10\n",
      "t_loss:  0.5083453976640514 , v_loss:  0.6337877213954926\n",
      "t_acc:  0.6909430438842203 , v_acc:  0.6956521739130435\n",
      "t_recall:  0.523097404647205 , v_recall:  0.51\n",
      "t_prec:  0.5841750224246648 , v_prec:  0.846875\n",
      "t_f:  0.4835753802196899 , v_f:  0.42920193907821425\n",
      "////////\n"
     ]
    },
    {
     "name": "stderr",
     "output_type": "stream",
     "text": [
      "\r",
      "Iterations:   4%|█▎                                | 12/300 [00:15<05:17,  1.10s/it]"
     ]
    },
    {
     "name": "stdout",
     "output_type": "stream",
     "text": [
      "Epoch  11 , loss 0.5046732250381919\n",
      "Epoch  12 , loss 0.497474576328315\n"
     ]
    },
    {
     "name": "stderr",
     "output_type": "stream",
     "text": [
      "\r",
      "Iterations:   4%|█▍                                | 13/300 [00:17<05:32,  1.16s/it]"
     ]
    },
    {
     "name": "stdout",
     "output_type": "stream",
     "text": [
      "Epoch:  12\n",
      "t_loss:  0.497474576328315 , v_loss:  0.6336614191532135\n",
      "t_acc:  0.6915655150949268 , v_acc:  0.6894409937888198\n",
      "t_recall:  0.5175066221984327 , v_recall:  0.5\n",
      "t_prec:  0.5807327158800819 , v_prec:  0.3447204968944099\n",
      "t_f:  0.4690512824061622 , v_f:  0.4080882352941176\n",
      "////////\n"
     ]
    },
    {
     "name": "stderr",
     "output_type": "stream",
     "text": [
      "\r",
      "Iterations:   5%|█▌                                | 14/300 [00:17<05:05,  1.07s/it]"
     ]
    },
    {
     "name": "stdout",
     "output_type": "stream",
     "text": [
      "Epoch  13 , loss 0.48590727822453367\n",
      "Epoch  14 , loss 0.4881422601494135\n"
     ]
    },
    {
     "name": "stderr",
     "output_type": "stream",
     "text": [
      "\r",
      "Iterations:   5%|█▋                                | 15/300 [00:19<05:18,  1.12s/it]"
     ]
    },
    {
     "name": "stdout",
     "output_type": "stream",
     "text": [
      "Epoch:  14\n",
      "t_loss:  0.4881422601494135 , v_loss:  0.6360783874988556\n",
      "t_acc:  0.690631808278867 , v_acc:  0.6894409937888198\n",
      "t_recall:  0.5044715279779306 , v_recall:  0.5\n",
      "t_prec:  0.5432187201528176 , v_prec:  0.3447204968944099\n",
      "t_f:  0.43421875 , v_f:  0.4080882352941176\n",
      "////////\n"
     ]
    },
    {
     "name": "stderr",
     "output_type": "stream",
     "text": [
      "\r",
      "Iterations:   5%|█▊                                | 16/300 [00:20<04:59,  1.05s/it]"
     ]
    },
    {
     "name": "stdout",
     "output_type": "stream",
     "text": [
      "Epoch  15 , loss 0.4749632401793611\n",
      "Epoch  16 , loss 0.4695417442742516\n"
     ]
    },
    {
     "name": "stderr",
     "output_type": "stream",
     "text": [
      "\r",
      "Iterations:   6%|█▉                                | 17/300 [00:21<05:38,  1.19s/it]"
     ]
    },
    {
     "name": "stdout",
     "output_type": "stream",
     "text": [
      "Epoch:  16\n",
      "t_loss:  0.4695417442742516 , v_loss:  0.6377504666646322\n",
      "t_acc:  0.6924992219109866 , v_acc:  0.6894409937888198\n",
      "t_recall:  0.5046636746682038 , v_recall:  0.5\n",
      "t_prec:  0.5557079621837259 , v_prec:  0.3447204968944099\n",
      "t_f:  0.431514817229103 , v_f:  0.4080882352941176\n",
      "////////\n"
     ]
    },
    {
     "name": "stderr",
     "output_type": "stream",
     "text": [
      "\r",
      "Iterations:   6%|██                                | 18/300 [00:22<05:23,  1.15s/it]"
     ]
    },
    {
     "name": "stdout",
     "output_type": "stream",
     "text": [
      "Epoch  17 , loss 0.4676039084499958\n",
      "Epoch  18 , loss 0.4605921693876678\n"
     ]
    },
    {
     "name": "stderr",
     "output_type": "stream",
     "text": [
      "\r",
      "Iterations:   6%|██▏                               | 19/300 [00:24<05:51,  1.25s/it]"
     ]
    },
    {
     "name": "stdout",
     "output_type": "stream",
     "text": [
      "Epoch:  18\n",
      "t_loss:  0.4605921693876678 , v_loss:  0.636818657318751\n",
      "t_acc:  0.6928104575163399 , v_acc:  0.6894409937888198\n",
      "t_recall:  0.5025871179368936 , v_recall:  0.5\n",
      "t_prec:  0.5434826069572172 , v_prec:  0.3447204968944099\n",
      "t_f:  0.4244310931219353 , v_f:  0.4080882352941176\n",
      "////////\n"
     ]
    },
    {
     "name": "stderr",
     "output_type": "stream",
     "text": [
      "\r",
      "Iterations:   7%|██▎                               | 20/300 [00:25<05:25,  1.16s/it]"
     ]
    },
    {
     "name": "stdout",
     "output_type": "stream",
     "text": [
      "Epoch  19 , loss 0.458435083136839\n",
      "Epoch  20 , loss 0.44825483741713507\n"
     ]
    },
    {
     "name": "stderr",
     "output_type": "stream",
     "text": [
      "\r",
      "Iterations:   7%|██▍                               | 21/300 [00:26<05:41,  1.22s/it]"
     ]
    },
    {
     "name": "stdout",
     "output_type": "stream",
     "text": [
      "Epoch:  20\n",
      "t_loss:  0.44825483741713507 , v_loss:  0.6404473781585693\n",
      "t_acc:  0.6959228135698724 , v_acc:  0.6894409937888198\n",
      "t_recall:  0.5045367206049876 , v_recall:  0.5\n",
      "t_prec:  0.6073958152833132 , v_prec:  0.3447204968944099\n",
      "t_f:  0.4247499465359022 , v_f:  0.4080882352941176\n",
      "////////\n"
     ]
    },
    {
     "name": "stderr",
     "output_type": "stream",
     "text": [
      "\r",
      "Iterations:   7%|██▍                               | 22/300 [00:27<05:04,  1.10s/it]"
     ]
    },
    {
     "name": "stdout",
     "output_type": "stream",
     "text": [
      "Epoch  21 , loss 0.4481938241743574\n",
      "Epoch  22 , loss 0.44893835455763575\n"
     ]
    },
    {
     "name": "stderr",
     "output_type": "stream",
     "text": [
      "\r",
      "Iterations:   8%|██▌                               | 23/300 [00:28<05:24,  1.17s/it]"
     ]
    },
    {
     "name": "stdout",
     "output_type": "stream",
     "text": [
      "Epoch:  22\n",
      "t_loss:  0.44893835455763575 , v_loss:  0.6411695381005605\n",
      "t_acc:  0.6962340491752257 , v_acc:  0.6894409937888198\n",
      "t_recall:  0.503897832859829 , v_recall:  0.5\n",
      "t_prec:  0.6213640637018888 , v_prec:  0.3447204968944099\n",
      "t_f:  0.4220626612605971 , v_f:  0.4080882352941176\n",
      "////////\n"
     ]
    },
    {
     "name": "stderr",
     "output_type": "stream",
     "text": [
      "\r",
      "Iterations:   8%|██▋                               | 24/300 [00:29<04:53,  1.06s/it]"
     ]
    },
    {
     "name": "stdout",
     "output_type": "stream",
     "text": [
      "Epoch  23 , loss 0.4483153720696767\n",
      "Epoch  24 , loss 0.4457995932476193\n"
     ]
    },
    {
     "name": "stderr",
     "output_type": "stream",
     "text": [
      "\r",
      "Iterations:   8%|██▊                               | 25/300 [00:30<05:12,  1.14s/it]"
     ]
    },
    {
     "name": "stdout",
     "output_type": "stream",
     "text": [
      "Epoch:  24\n",
      "t_loss:  0.4457995932476193 , v_loss:  0.6430181562900543\n",
      "t_acc:  0.6956115779645191 , v_acc:  0.6894409937888198\n",
      "t_recall:  0.5034504055667641 , v_recall:  0.5\n",
      "t_prec:  0.5985418626528692 , v_prec:  0.3447204968944099\n",
      "t_f:  0.4218211806475545 , v_f:  0.4080882352941176\n",
      "////////\n"
     ]
    },
    {
     "name": "stderr",
     "output_type": "stream",
     "text": [
      "\r",
      "Iterations:   9%|██▉                               | 26/300 [00:31<04:49,  1.06s/it]"
     ]
    },
    {
     "name": "stdout",
     "output_type": "stream",
     "text": [
      "Epoch  25 , loss 0.4492107080478294\n",
      "Epoch  26 , loss 0.4418660226990195\n"
     ]
    },
    {
     "name": "stderr",
     "output_type": "stream",
     "text": [
      "\r",
      "Iterations:   9%|███                               | 27/300 [00:32<05:14,  1.15s/it]"
     ]
    },
    {
     "name": "stdout",
     "output_type": "stream",
     "text": [
      "Epoch:  26\n",
      "t_loss:  0.4418660226990195 , v_loss:  0.6423520197470983\n",
      "t_acc:  0.6946778711484594 , v_acc:  0.6894409937888198\n",
      "t_recall:  0.5022041970327061 , v_recall:  0.5\n",
      "t_prec:  0.5656671664167916 , v_prec:  0.3447204968944099\n",
      "t_f:  0.41957526344623114 , v_f:  0.4080882352941176\n",
      "////////\n"
     ]
    },
    {
     "name": "stderr",
     "output_type": "stream",
     "text": [
      "\r",
      "Iterations:   9%|███▏                              | 28/300 [00:33<04:45,  1.05s/it]"
     ]
    },
    {
     "name": "stdout",
     "output_type": "stream",
     "text": [
      "Epoch  27 , loss 0.44315049373636056\n",
      "Epoch  28 , loss 0.43982163655991646\n"
     ]
    },
    {
     "name": "stderr",
     "output_type": "stream",
     "text": [
      "\r",
      "Iterations:  10%|███▎                              | 29/300 [00:35<05:17,  1.17s/it]"
     ]
    },
    {
     "name": "stdout",
     "output_type": "stream",
     "text": [
      "Epoch:  28\n",
      "t_loss:  0.43982163655991646 , v_loss:  0.6423394878705343\n",
      "t_acc:  0.6959228135698724 , v_acc:  0.6894409937888198\n",
      "t_recall:  0.5028115178216055 , v_recall:  0.5\n",
      "t_prec:  0.6131101376720901 , v_prec:  0.3447204968944099\n",
      "t_f:  0.4190986232950797 , v_f:  0.4080882352941176\n",
      "////////\n"
     ]
    },
    {
     "name": "stderr",
     "output_type": "stream",
     "text": [
      "\r",
      "Iterations:  10%|███▍                              | 30/300 [00:35<04:48,  1.07s/it]"
     ]
    },
    {
     "name": "stdout",
     "output_type": "stream",
     "text": [
      "Epoch  29 , loss 0.44101862521732554\n",
      "Epoch  30 , loss 0.43941253248383016\n"
     ]
    },
    {
     "name": "stderr",
     "output_type": "stream",
     "text": [
      "\r",
      "Iterations:  10%|███▌                              | 31/300 [00:37<05:28,  1.22s/it]"
     ]
    },
    {
     "name": "stdout",
     "output_type": "stream",
     "text": [
      "Epoch:  30\n",
      "t_loss:  0.43941253248383016 , v_loss:  0.6422971338033676\n",
      "t_acc:  0.6962340491752257 , v_acc:  0.6894409937888198\n",
      "t_recall:  0.503035231468138 , v_recall:  0.5\n",
      "t_prec:  0.6297016734438536 , v_prec:  0.3447204968944099\n",
      "t_f:  0.4192163289012425 , v_f:  0.4080882352941176\n",
      "////////\n"
     ]
    },
    {
     "name": "stderr",
     "output_type": "stream",
     "text": [
      "\r",
      "Iterations:  11%|███▋                              | 32/300 [00:38<05:00,  1.12s/it]"
     ]
    },
    {
     "name": "stdout",
     "output_type": "stream",
     "text": [
      "Epoch  31 , loss 0.4427613084222756\n",
      "Epoch  32 , loss 0.4341634231455186\n"
     ]
    },
    {
     "name": "stderr",
     "output_type": "stream",
     "text": [
      "\r",
      "Iterations:  11%|███▋                              | 33/300 [00:40<05:38,  1.27s/it]"
     ]
    },
    {
     "name": "stdout",
     "output_type": "stream",
     "text": [
      "Epoch:  32\n",
      "t_loss:  0.4341634231455186 , v_loss:  0.6369383633136749\n",
      "t_acc:  0.6974789915966386 , v_acc:  0.6956521739130435\n",
      "t_recall:  0.5062303564321105 , v_recall:  0.51\n",
      "t_prec:  0.6527080062794348 , v_prec:  0.846875\n",
      "t_f:  0.42723071167093385 , v_f:  0.42920193907821425\n",
      "////////\n"
     ]
    },
    {
     "name": "stderr",
     "output_type": "stream",
     "text": [
      "\r",
      "Iterations:  11%|███▊                              | 34/300 [00:40<05:00,  1.13s/it]"
     ]
    },
    {
     "name": "stdout",
     "output_type": "stream",
     "text": [
      "Epoch  33 , loss 0.4317901350703894\n",
      "Epoch  34 , loss 0.43626514719981774\n"
     ]
    },
    {
     "name": "stderr",
     "output_type": "stream",
     "text": [
      "\r",
      "Iterations:  12%|███▉                              | 35/300 [00:42<05:28,  1.24s/it]"
     ]
    },
    {
     "name": "stdout",
     "output_type": "stream",
     "text": [
      "Epoch:  34\n",
      "t_loss:  0.43626514719981774 , v_loss:  0.6315184334913889\n",
      "t_acc:  0.699035169623405 , v_acc:  0.6956521739130435\n",
      "t_recall:  0.507636458462003 , v_recall:  0.51\n",
      "t_prec:  0.709435382685069 , v_prec:  0.846875\n",
      "t_f:  0.4287888685042053 , v_f:  0.42920193907821425\n",
      "////////\n"
     ]
    },
    {
     "name": "stderr",
     "output_type": "stream",
     "text": [
      "\r",
      "Iterations:  12%|████                              | 36/300 [00:43<04:56,  1.12s/it]"
     ]
    },
    {
     "name": "stdout",
     "output_type": "stream",
     "text": [
      "Epoch  35 , loss 0.4452573142799677\n",
      "Epoch  36 , loss 0.437399217895433\n"
     ]
    },
    {
     "name": "stderr",
     "output_type": "stream",
     "text": [
      "\r",
      "Iterations:  12%|████▏                             | 37/300 [00:44<05:12,  1.19s/it]"
     ]
    },
    {
     "name": "stdout",
     "output_type": "stream",
     "text": [
      "Epoch:  36\n",
      "t_loss:  0.437399217895433 , v_loss:  0.6289488325516382\n",
      "t_acc:  0.6981014628073452 , v_acc:  0.6956521739130435\n",
      "t_recall:  0.5075403851168664 , v_recall:  0.51\n",
      "t_prec:  0.6619184218799119 , v_prec:  0.846875\n",
      "t_f:  0.43025249718472586 , v_f:  0.42920193907821425\n",
      "////////\n"
     ]
    },
    {
     "name": "stderr",
     "output_type": "stream",
     "text": [
      "\r",
      "Iterations:  13%|████▎                             | 38/300 [00:45<04:56,  1.13s/it]"
     ]
    },
    {
     "name": "stdout",
     "output_type": "stream",
     "text": [
      "Epoch  37 , loss 0.436564377709931\n",
      "Epoch  38 , loss 0.4313363754281811\n"
     ]
    },
    {
     "name": "stderr",
     "output_type": "stream",
     "text": [
      "\r",
      "Iterations:  13%|████▍                             | 39/300 [00:46<05:06,  1.18s/it]"
     ]
    },
    {
     "name": "stdout",
     "output_type": "stream",
     "text": [
      "Epoch:  38\n",
      "t_loss:  0.4313363754281811 , v_loss:  0.6250410775343577\n",
      "t_acc:  0.699035169623405 , v_acc:  0.6956521739130435\n",
      "t_recall:  0.5087865936509244 , v_recall:  0.51\n",
      "t_prec:  0.6830188679245283 , v_prec:  0.846875\n",
      "t_f:  0.432471621032904 , v_f:  0.42920193907821425\n",
      "////////\n"
     ]
    },
    {
     "name": "stderr",
     "output_type": "stream",
     "text": [
      "\r",
      "Iterations:  13%|████▌                             | 40/300 [00:47<04:53,  1.13s/it]"
     ]
    },
    {
     "name": "stdout",
     "output_type": "stream",
     "text": [
      "Epoch  39 , loss 0.4391072842420316\n",
      "Epoch  40 , loss 0.43420063923386965\n"
     ]
    },
    {
     "name": "stderr",
     "output_type": "stream",
     "text": [
      "\r",
      "Iterations:  14%|████▋                             | 41/300 [00:49<05:08,  1.19s/it]"
     ]
    },
    {
     "name": "stdout",
     "output_type": "stream",
     "text": [
      "Epoch:  40\n",
      "t_loss:  0.43420063923386965 , v_loss:  0.618273119131724\n",
      "t_acc:  0.6977902272019919 , v_acc:  0.7018633540372671\n",
      "t_recall:  0.5058790024841822 , v_recall:  0.52\n",
      "t_prec:  0.6751465176502658 , v_prec:  0.8490566037735849\n",
      "t_f:  0.4254919274274113 , v_f:  0.44957264957264953\n",
      "////////\n"
     ]
    },
    {
     "name": "stderr",
     "output_type": "stream",
     "text": [
      "\r",
      "Iterations:  14%|████▊                             | 42/300 [00:50<04:53,  1.14s/it]"
     ]
    },
    {
     "name": "stdout",
     "output_type": "stream",
     "text": [
      "Epoch  41 , loss 0.43452897901628534\n",
      "Epoch  42 , loss 0.4316694520267786\n"
     ]
    },
    {
     "name": "stderr",
     "output_type": "stream",
     "text": [
      "\r",
      "Iterations:  14%|████▊                             | 43/300 [00:51<05:05,  1.19s/it]"
     ]
    },
    {
     "name": "stdout",
     "output_type": "stream",
     "text": [
      "Epoch:  42\n",
      "t_loss:  0.4316694520267786 , v_loss:  0.6153389066457748\n",
      "t_acc:  0.7012138188608776 , v_acc:  0.7080745341614907\n",
      "t_recall:  0.5115027243655728 , v_recall:  0.53\n",
      "t_prec:  0.732620320855615 , v_prec:  0.8512658227848101\n",
      "t_f:  0.437032667465844 , v_f:  0.4692431787893666\n",
      "////////\n"
     ]
    },
    {
     "name": "stderr",
     "output_type": "stream",
     "text": [
      "\r",
      "Iterations:  15%|████▉                             | 44/300 [00:52<05:00,  1.17s/it]"
     ]
    },
    {
     "name": "stdout",
     "output_type": "stream",
     "text": [
      "Epoch  43 , loss 0.4325383019213583\n",
      "Epoch  44 , loss 0.4326014226558162\n"
     ]
    },
    {
     "name": "stderr",
     "output_type": "stream",
     "text": [
      "\r",
      "Iterations:  15%|█████                             | 45/300 [00:53<05:05,  1.20s/it]"
     ]
    },
    {
     "name": "stdout",
     "output_type": "stream",
     "text": [
      "Epoch:  44\n",
      "t_loss:  0.4326014226558162 , v_loss:  0.6092567841211954\n",
      "t_acc:  0.6946778711484594 , v_acc:  0.7080745341614907\n",
      "t_recall:  0.5019166632354758 , v_recall:  0.53\n",
      "t_prec:  0.5625 , v_prec:  0.8512658227848101\n",
      "t_f:  0.4186275828066873 , v_f:  0.4692431787893666\n",
      "////////\n"
     ]
    },
    {
     "name": "stderr",
     "output_type": "stream",
     "text": [
      "\r",
      "Iterations:  15%|█████▏                            | 46/300 [00:54<04:45,  1.12s/it]"
     ]
    },
    {
     "name": "stdout",
     "output_type": "stream",
     "text": [
      "Epoch  45 , loss 0.42880916186407503\n",
      "Epoch  46 , loss 0.4309459235153946\n"
     ]
    },
    {
     "name": "stderr",
     "output_type": "stream",
     "text": [
      "\r",
      "Iterations:  16%|█████▎                            | 47/300 [00:56<04:52,  1.16s/it]"
     ]
    },
    {
     "name": "stdout",
     "output_type": "stream",
     "text": [
      "Epoch:  46\n",
      "t_loss:  0.4309459235153946 , v_loss:  0.6111913124720255\n",
      "t_acc:  0.7024587612822907 , v_acc:  0.7080745341614907\n",
      "t_recall:  0.514410315532315 , v_recall:  0.53\n",
      "t_prec:  0.7258993373303881 , v_prec:  0.8512658227848101\n",
      "t_f:  0.4438366304006165 , v_f:  0.4692431787893666\n",
      "////////\n"
     ]
    },
    {
     "name": "stderr",
     "output_type": "stream",
     "text": [
      "\r",
      "Iterations:  16%|█████▍                            | 48/300 [00:56<04:31,  1.08s/it]"
     ]
    },
    {
     "name": "stdout",
     "output_type": "stream",
     "text": [
      "Epoch  47 , loss 0.4259979958627738\n",
      "Epoch  48 , loss 0.4256882620792763\n"
     ]
    },
    {
     "name": "stderr",
     "output_type": "stream",
     "text": [
      "\r",
      "Iterations:  16%|█████▌                            | 49/300 [00:58<04:50,  1.16s/it]"
     ]
    },
    {
     "name": "stdout",
     "output_type": "stream",
     "text": [
      "Epoch:  48\n",
      "t_loss:  0.4256882620792763 , v_loss:  0.6090556780497233\n",
      "t_acc:  0.6999688764394647 , v_acc:  0.7018633540372671\n",
      "t_recall:  0.5106078697794431 , v_recall:  0.5254954954954955\n",
      "t_prec:  0.692184003315375 , v_prec:  0.7253184713375795\n",
      "t_f:  0.43649628131049234 , v_f:  0.4660033167495854\n",
      "////////\n"
     ]
    },
    {
     "name": "stderr",
     "output_type": "stream",
     "text": [
      "\r",
      "Iterations:  17%|█████▋                            | 50/300 [00:59<04:26,  1.07s/it]"
     ]
    },
    {
     "name": "stdout",
     "output_type": "stream",
     "text": [
      "Epoch  49 , loss 0.43309564391771954\n",
      "Epoch  50 , loss 0.4253995389330621\n"
     ]
    },
    {
     "name": "stderr",
     "output_type": "stream",
     "text": [
      "\r",
      "Iterations:  17%|█████▊                            | 51/300 [01:00<04:45,  1.14s/it]"
     ]
    },
    {
     "name": "stdout",
     "output_type": "stream",
     "text": [
      "Epoch:  50\n",
      "t_loss:  0.4253995389330621 , v_loss:  0.6065576920906702\n",
      "t_acc:  0.6977902272019919 , v_acc:  0.7018633540372671\n",
      "t_recall:  0.5087543404564856 , v_recall:  0.52\n",
      "t_prec:  0.6403822170053555 , v_prec:  0.8490566037735849\n",
      "t_f:  0.4346615614192612 , v_f:  0.44957264957264953\n",
      "////////\n"
     ]
    },
    {
     "name": "stderr",
     "output_type": "stream",
     "text": [
      "\r",
      "Iterations:  17%|█████▉                            | 52/300 [01:01<04:20,  1.05s/it]"
     ]
    },
    {
     "name": "stdout",
     "output_type": "stream",
     "text": [
      "Epoch  51 , loss 0.4261339026338914\n",
      "Epoch  52 , loss 0.42517980874753464\n"
     ]
    },
    {
     "name": "stderr",
     "output_type": "stream",
     "text": [
      "\r",
      "Iterations:  18%|██████                            | 53/300 [01:02<04:42,  1.14s/it]"
     ]
    },
    {
     "name": "stdout",
     "output_type": "stream",
     "text": [
      "Epoch:  52\n",
      "t_loss:  0.42517980874753464 , v_loss:  0.6007117728392283\n",
      "t_acc:  0.699035169623405 , v_acc:  0.7080745341614907\n",
      "t_recall:  0.5087865936509244 , v_recall:  0.53\n",
      "t_prec:  0.6830188679245283 , v_prec:  0.8512658227848101\n",
      "t_f:  0.432471621032904 , v_f:  0.4692431787893666\n",
      "////////\n"
     ]
    },
    {
     "name": "stderr",
     "output_type": "stream",
     "text": [
      "\r",
      "Iterations:  18%|██████                            | 54/300 [01:03<04:21,  1.06s/it]"
     ]
    },
    {
     "name": "stdout",
     "output_type": "stream",
     "text": [
      "Epoch  53 , loss 0.4295254501641965\n",
      "Epoch  54 , loss 0.4219873904013166\n"
     ]
    },
    {
     "name": "stderr",
     "output_type": "stream",
     "text": [
      "\r",
      "Iterations:  18%|██████▏                           | 55/300 [01:04<04:44,  1.16s/it]"
     ]
    },
    {
     "name": "stdout",
     "output_type": "stream",
     "text": [
      "Epoch:  54\n",
      "t_loss:  0.4219873904013166 , v_loss:  0.6017470260461172\n",
      "t_acc:  0.6987239340180517 , v_acc:  0.7018633540372671\n",
      "t_recall:  0.5105756165850043 , v_recall:  0.5254954954954955\n",
      "t_prec:  0.6521623222748816 , v_prec:  0.7253184713375795\n",
      "t_f:  0.43863547758284605 , v_f:  0.4660033167495854\n",
      "////////\n"
     ]
    },
    {
     "name": "stderr",
     "output_type": "stream",
     "text": [
      "\r",
      "Iterations:  19%|██████▎                           | 56/300 [01:06<04:38,  1.14s/it]"
     ]
    },
    {
     "name": "stdout",
     "output_type": "stream",
     "text": [
      "Epoch  55 , loss 0.4230980610146242\n",
      "Epoch  56 , loss 0.4194231565092124\n"
     ]
    },
    {
     "name": "stderr",
     "output_type": "stream",
     "text": [
      "\r",
      "Iterations:  19%|██████▍                           | 57/300 [01:07<05:03,  1.25s/it]"
     ]
    },
    {
     "name": "stdout",
     "output_type": "stream",
     "text": [
      "Epoch:  56\n",
      "t_loss:  0.4194231565092124 , v_loss:  0.6009524315595627\n",
      "t_acc:  0.7018362900715842 , v_acc:  0.7018633540372671\n",
      "t_recall:  0.5148254896309411 , v_recall:  0.5254954954954955\n",
      "t_prec:  0.6971503662424257 , v_prec:  0.7253184713375795\n",
      "t_f:  0.44618199745226594 , v_f:  0.4660033167495854\n",
      "////////\n"
     ]
    },
    {
     "name": "stderr",
     "output_type": "stream",
     "text": [
      "\r",
      "Iterations:  19%|██████▌                           | 58/300 [01:08<04:48,  1.19s/it]"
     ]
    },
    {
     "name": "stdout",
     "output_type": "stream",
     "text": [
      "Epoch  57 , loss 0.42192429713174406\n",
      "Epoch  58 , loss 0.42132726194811804\n"
     ]
    },
    {
     "name": "stderr",
     "output_type": "stream",
     "text": [
      "\r",
      "Iterations:  20%|██████▋                           | 59/300 [01:10<05:02,  1.26s/it]"
     ]
    },
    {
     "name": "stdout",
     "output_type": "stream",
     "text": [
      "Epoch:  58\n",
      "t_loss:  0.42132726194811804 , v_loss:  0.5983888258536657\n",
      "t_acc:  0.6996576408341114 , v_acc:  0.7018633540372671\n",
      "t_recall:  0.5126844265107533 , v_recall:  0.5254954954954955\n",
      "t_prec:  0.6596292244803961 , v_prec:  0.7253184713375795\n",
      "t_f:  0.4434460145084276 , v_f:  0.4660033167495854\n",
      "////////\n"
     ]
    },
    {
     "name": "stderr",
     "output_type": "stream",
     "text": [
      "\r",
      "Iterations:  20%|██████▊                           | 60/300 [01:10<04:29,  1.12s/it]"
     ]
    },
    {
     "name": "stdout",
     "output_type": "stream",
     "text": [
      "Epoch  59 , loss 0.42422903869666306\n",
      "Epoch  60 , loss 0.42297037384089303\n"
     ]
    },
    {
     "name": "stderr",
     "output_type": "stream",
     "text": [
      "\r",
      "Iterations:  20%|██████▉                           | 61/300 [01:12<04:38,  1.17s/it]"
     ]
    },
    {
     "name": "stdout",
     "output_type": "stream",
     "text": [
      "Epoch:  60\n",
      "t_loss:  0.42297037384089303 , v_loss:  0.5962085425853729\n",
      "t_acc:  0.6996576408341114 , v_acc:  0.7080745341614907\n",
      "t_recall:  0.5118218251190624 , v_recall:  0.5354954954954955\n",
      "t_prec:  0.666674191800614 , v_prec:  0.7525641025641026\n",
      "t_f:  0.4408166033127055 , v_f:  0.4847122914538645\n",
      "////////\n"
     ]
    },
    {
     "name": "stderr",
     "output_type": "stream",
     "text": [
      "\r",
      "Iterations:  21%|███████                           | 62/300 [01:12<04:15,  1.07s/it]"
     ]
    },
    {
     "name": "stdout",
     "output_type": "stream",
     "text": [
      "Epoch  61 , loss 0.4230639864416683\n",
      "Epoch  62 , loss 0.42297905186812085\n"
     ]
    },
    {
     "name": "stderr",
     "output_type": "stream",
     "text": [
      "\r",
      "Iterations:  21%|███████▏                          | 63/300 [01:14<04:42,  1.19s/it]"
     ]
    },
    {
     "name": "stdout",
     "output_type": "stream",
     "text": [
      "Epoch:  62\n",
      "t_loss:  0.42297905186812085 , v_loss:  0.5931161592404047\n",
      "t_acc:  0.7018362900715842 , v_acc:  0.7080745341614907\n",
      "t_recall:  0.5151130234281714 , v_recall:  0.5354954954954955\n",
      "t_prec:  0.6936530547641659 , v_prec:  0.7525641025641026\n",
      "t_f:  0.4470503401712498 , v_f:  0.4847122914538645\n",
      "////////\n"
     ]
    },
    {
     "name": "stderr",
     "output_type": "stream",
     "text": [
      "\r",
      "Iterations:  21%|███████▎                          | 64/300 [01:15<04:15,  1.08s/it]"
     ]
    },
    {
     "name": "stdout",
     "output_type": "stream",
     "text": [
      "Epoch  63 , loss 0.41500458530351225\n",
      "Epoch  64 , loss 0.4231116006187364\n"
     ]
    },
    {
     "name": "stderr",
     "output_type": "stream",
     "text": [
      "\r",
      "Iterations:  22%|███████▎                          | 65/300 [01:16<04:43,  1.21s/it]"
     ]
    },
    {
     "name": "stdout",
     "output_type": "stream",
     "text": [
      "Epoch:  64\n",
      "t_loss:  0.4231116006187364 , v_loss:  0.5903100917736689\n",
      "t_acc:  0.7024587612822907 , v_acc:  0.7080745341614907\n",
      "t_recall:  0.516135518315697 , v_recall:  0.5354954954954955\n",
      "t_prec:  0.6994971491922711 , v_prec:  0.7525641025641026\n",
      "t_f:  0.44906774991534126 , v_f:  0.4847122914538645\n",
      "////////\n"
     ]
    },
    {
     "name": "stderr",
     "output_type": "stream",
     "text": [
      "\r",
      "Iterations:  22%|███████▍                          | 66/300 [01:17<04:13,  1.08s/it]"
     ]
    },
    {
     "name": "stdout",
     "output_type": "stream",
     "text": [
      "Epoch  65 , loss 0.4234623722001618\n",
      "Epoch  66 , loss 0.4176747623611899\n"
     ]
    },
    {
     "name": "stderr",
     "output_type": "stream",
     "text": [
      "\r",
      "Iterations:  22%|███████▌                          | 67/300 [01:19<04:40,  1.20s/it]"
     ]
    },
    {
     "name": "stdout",
     "output_type": "stream",
     "text": [
      "Epoch:  66\n",
      "t_loss:  0.4176747623611899 , v_loss:  0.5877338300148646\n",
      "t_acc:  0.7015250544662309 , v_acc:  0.7204968944099379\n",
      "t_recall:  0.5163269787677908 , v_recall:  0.5554954954954955\n",
      "t_prec:  0.6744111035089434 , v_prec:  0.7857142857142857\n",
      "t_f:  0.4511917333589338 , v_f:  0.5203574975173784\n",
      "////////\n"
     ]
    },
    {
     "name": "stderr",
     "output_type": "stream",
     "text": [
      "\r",
      "Iterations:  23%|███████▋                          | 68/300 [01:19<04:12,  1.09s/it]"
     ]
    },
    {
     "name": "stdout",
     "output_type": "stream",
     "text": [
      "Epoch  67 , loss 0.4203512323837654\n",
      "Epoch  68 , loss 0.4177044413837732\n"
     ]
    },
    {
     "name": "stderr",
     "output_type": "stream",
     "text": [
      "\r",
      "Iterations:  23%|███████▊                          | 69/300 [01:21<04:37,  1.20s/it]"
     ]
    },
    {
     "name": "stdout",
     "output_type": "stream",
     "text": [
      "Epoch:  68\n",
      "t_loss:  0.4177044413837732 , v_loss:  0.5855979273716608\n",
      "t_acc:  0.7009025832555245 , v_acc:  0.7204968944099379\n",
      "t_recall:  0.5158795514747259 , v_recall:  0.5554954954954955\n",
      "t_prec:  0.6646725052423832 , v_prec:  0.7857142857142857\n",
      "t_f:  0.45089571760998515 , v_f:  0.5203574975173784\n",
      "////////\n"
     ]
    },
    {
     "name": "stderr",
     "output_type": "stream",
     "text": [
      "\r",
      "Iterations:  23%|███████▉                          | 70/300 [01:22<04:13,  1.10s/it]"
     ]
    },
    {
     "name": "stdout",
     "output_type": "stream",
     "text": [
      "Epoch  69 , loss 0.4125458124805899\n",
      "Epoch  70 , loss 0.4199577271938324\n"
     ]
    },
    {
     "name": "stderr",
     "output_type": "stream",
     "text": [
      "\r",
      "Iterations:  24%|████████                          | 71/300 [01:23<04:29,  1.18s/it]"
     ]
    },
    {
     "name": "stdout",
     "output_type": "stream",
     "text": [
      "Epoch:  70\n",
      "t_loss:  0.4199577271938324 , v_loss:  0.5843401004870733\n",
      "t_acc:  0.7043261749144102 , v_acc:  0.7204968944099379\n",
      "t_recall:  0.5189154691810434 , v_recall:  0.5554954954954955\n",
      "t_prec:  0.7185537583254044 , v_prec:  0.7857142857142857\n",
      "t_f:  0.45423033845282385 , v_f:  0.5203574975173784\n",
      "////////\n"
     ]
    },
    {
     "name": "stderr",
     "output_type": "stream",
     "text": [
      "\r",
      "Iterations:  24%|████████▏                         | 72/300 [01:24<04:14,  1.12s/it]"
     ]
    },
    {
     "name": "stdout",
     "output_type": "stream",
     "text": [
      "Epoch  71 , loss 0.41586604831265467\n",
      "Epoch  72 , loss 0.415866892711789\n"
     ]
    },
    {
     "name": "stderr",
     "output_type": "stream",
     "text": [
      "\r",
      "Iterations:  24%|████████▎                         | 73/300 [01:25<04:25,  1.17s/it]"
     ]
    },
    {
     "name": "stdout",
     "output_type": "stream",
     "text": [
      "Epoch:  72\n",
      "t_loss:  0.415866892711789 , v_loss:  0.5811476856470108\n",
      "t_acc:  0.7043261749144102 , v_acc:  0.7204968944099379\n",
      "t_recall:  0.5223658747478075 , v_recall:  0.5554954954954955\n",
      "t_prec:  0.6860019175455416 , v_prec:  0.7857142857142857\n",
      "t_f:  0.4641773783794031 , v_f:  0.5203574975173784\n",
      "////////\n"
     ]
    },
    {
     "name": "stderr",
     "output_type": "stream",
     "text": [
      "\r",
      "Iterations:  25%|████████▍                         | 74/300 [01:26<04:18,  1.14s/it]"
     ]
    },
    {
     "name": "stdout",
     "output_type": "stream",
     "text": [
      "Epoch  73 , loss 0.4115707342531167\n",
      "Epoch  74 , loss 0.41626443699294446\n"
     ]
    },
    {
     "name": "stderr",
     "output_type": "stream",
     "text": [
      "\r",
      "Iterations:  25%|████████▌                         | 75/300 [01:28<04:27,  1.19s/it]"
     ]
    },
    {
     "name": "stdout",
     "output_type": "stream",
     "text": [
      "Epoch:  74\n",
      "t_loss:  0.41626443699294446 , v_loss:  0.5826885104179382\n",
      "t_acc:  0.7015250544662309 , v_acc:  0.7204968944099379\n",
      "t_recall:  0.5174771139567121 , v_recall:  0.5554954954954955\n",
      "t_prec:  0.666660849838583 , v_prec:  0.7857142857142857\n",
      "t_f:  0.45455853782665456 , v_f:  0.5203574975173784\n",
      "////////\n"
     ]
    },
    {
     "name": "stderr",
     "output_type": "stream",
     "text": [
      "\r",
      "Iterations:  25%|████████▌                         | 76/300 [01:29<04:13,  1.13s/it]"
     ]
    },
    {
     "name": "stdout",
     "output_type": "stream",
     "text": [
      "Epoch  75 , loss 0.4182223221834968\n",
      "Epoch  76 , loss 0.41532449804100335\n"
     ]
    },
    {
     "name": "stderr",
     "output_type": "stream",
     "text": [
      "\r",
      "Iterations:  26%|████████▋                         | 77/300 [01:30<04:23,  1.18s/it]"
     ]
    },
    {
     "name": "stdout",
     "output_type": "stream",
     "text": [
      "Epoch:  76\n",
      "t_loss:  0.41532449804100335 , v_loss:  0.5806990265846252\n",
      "t_acc:  0.702769996887644 , v_acc:  0.7204968944099379\n",
      "t_recall:  0.5183719685428418 , v_recall:  0.5554954954954955\n",
      "t_prec:  0.6851145038167938 , v_prec:  0.7857142857142857\n",
      "t_f:  0.4551639054776854 , v_f:  0.5203574975173784\n",
      "////////\n"
     ]
    },
    {
     "name": "stderr",
     "output_type": "stream",
     "text": [
      "\r",
      "Iterations:  26%|████████▊                         | 78/300 [01:31<04:06,  1.11s/it]"
     ]
    },
    {
     "name": "stdout",
     "output_type": "stream",
     "text": [
      "Epoch  77 , loss 0.41756943861643475\n",
      "Epoch  78 , loss 0.4090074458542992\n"
     ]
    },
    {
     "name": "stderr",
     "output_type": "stream",
     "text": [
      "\r",
      "Iterations:  26%|████████▉                         | 79/300 [01:32<04:18,  1.17s/it]"
     ]
    },
    {
     "name": "stdout",
     "output_type": "stream",
     "text": [
      "Epoch:  78\n",
      "t_loss:  0.4090074458542992 , v_loss:  0.5791963636875153\n",
      "t_acc:  0.7071272953625894 , v_acc:  0.7204968944099379\n",
      "t_recall:  0.5240917637693691 , v_recall:  0.5554954954954955\n",
      "t_prec:  0.7297378064741297 , v_prec:  0.7857142857142857\n",
      "t_f:  0.4647962295045692 , v_f:  0.5203574975173784\n",
      "////////\n"
     ]
    },
    {
     "name": "stderr",
     "output_type": "stream",
     "text": [
      "\r",
      "Iterations:  27%|█████████                         | 80/300 [01:33<03:57,  1.08s/it]"
     ]
    },
    {
     "name": "stdout",
     "output_type": "stream",
     "text": [
      "Epoch  79 , loss 0.4167381554257636\n",
      "Epoch  80 , loss 0.41075755042188306\n"
     ]
    },
    {
     "name": "stderr",
     "output_type": "stream",
     "text": [
      "\r",
      "Iterations:  27%|█████████▏                        | 81/300 [01:34<04:06,  1.13s/it]"
     ]
    },
    {
     "name": "stdout",
     "output_type": "stream",
     "text": [
      "Epoch:  80\n",
      "t_loss:  0.41075755042188306 , v_loss:  0.5757639209429423\n",
      "t_acc:  0.7074385309679427 , v_acc:  0.7204968944099379\n",
      "t_recall:  0.5248905450103623 , v_recall:  0.5554954954954955\n",
      "t_prec:  0.7282036978004462 , v_prec:  0.7857142857142857\n",
      "t_f:  0.4665890039151634 , v_f:  0.5203574975173784\n",
      "////////\n"
     ]
    },
    {
     "name": "stderr",
     "output_type": "stream",
     "text": [
      "\r",
      "Iterations:  27%|█████████▎                        | 82/300 [01:35<03:52,  1.07s/it]"
     ]
    },
    {
     "name": "stdout",
     "output_type": "stream",
     "text": [
      "Epoch  81 , loss 0.40949520468711853\n",
      "Epoch  82 , loss 0.40776006906640294\n"
     ]
    },
    {
     "name": "stderr",
     "output_type": "stream",
     "text": [
      "\r",
      "Iterations:  28%|█████████▍                        | 83/300 [01:37<04:18,  1.19s/it]"
     ]
    },
    {
     "name": "stdout",
     "output_type": "stream",
     "text": [
      "Epoch:  82\n",
      "t_loss:  0.40776006906640294 , v_loss:  0.5768051991860071\n",
      "t_acc:  0.7068160597572363 , v_acc:  0.7204968944099379\n",
      "t_recall:  0.5253057191089884 , v_recall:  0.5554954954954955\n",
      "t_prec:  0.7104506232023011 , v_prec:  0.7857142857142857\n",
      "t_f:  0.46868956887726076 , v_f:  0.5203574975173784\n",
      "////////\n"
     ]
    },
    {
     "name": "stderr",
     "output_type": "stream",
     "text": [
      "\r",
      "Iterations:  28%|█████████▌                        | 84/300 [01:38<04:11,  1.17s/it]"
     ]
    },
    {
     "name": "stdout",
     "output_type": "stream",
     "text": [
      "Epoch  83 , loss 0.41186269416528587\n",
      "Epoch  84 , loss 0.4072583048951392\n"
     ]
    },
    {
     "name": "stderr",
     "output_type": "stream",
     "text": [
      "\r",
      "Iterations:  28%|█████████▋                        | 85/300 [01:39<04:31,  1.26s/it]"
     ]
    },
    {
     "name": "stdout",
     "output_type": "stream",
     "text": [
      "Epoch:  84\n",
      "t_loss:  0.4072583048951392 , v_loss:  0.5766372134288152\n",
      "t_acc:  0.7058823529411765 , v_acc:  0.7204968944099379\n",
      "t_recall:  0.5249221119666213 , v_recall:  0.5554954954954955\n",
      "t_prec:  0.6959296637845459 , v_prec:  0.7857142857142857\n",
      "t_f:  0.4690001998932154 , v_f:  0.5203574975173784\n",
      "////////\n"
     ]
    },
    {
     "name": "stderr",
     "output_type": "stream",
     "text": [
      "\r",
      "Iterations:  29%|█████████▋                        | 86/300 [01:40<04:17,  1.20s/it]"
     ]
    },
    {
     "name": "stdout",
     "output_type": "stream",
     "text": [
      "Epoch  85 , loss 0.4037166418982487\n",
      "Epoch  86 , loss 0.4063216962066351\n"
     ]
    },
    {
     "name": "stderr",
     "output_type": "stream",
     "text": [
      "\r",
      "Iterations:  29%|█████████▊                        | 87/300 [01:42<04:37,  1.30s/it]"
     ]
    },
    {
     "name": "stdout",
     "output_type": "stream",
     "text": [
      "Epoch:  86\n",
      "t_loss:  0.4063216962066351 , v_loss:  0.5714685519536337\n",
      "t_acc:  0.7046374105197635 , v_acc:  0.7204968944099379\n",
      "t_recall:  0.5220145207998792 , v_recall:  0.5554954954954955\n",
      "t_prec:  0.6943567083760794 , v_prec:  0.7857142857142857\n",
      "t_f:  0.46271026089187506 , v_f:  0.5203574975173784\n",
      "////////\n"
     ]
    },
    {
     "name": "stderr",
     "output_type": "stream",
     "text": [
      "\r",
      "Iterations:  29%|█████████▉                        | 88/300 [01:43<04:19,  1.22s/it]"
     ]
    },
    {
     "name": "stdout",
     "output_type": "stream",
     "text": [
      "Epoch  87 , loss 0.41280922468970804\n",
      "Epoch  88 , loss 0.4080636437032737\n"
     ]
    },
    {
     "name": "stderr",
     "output_type": "stream",
     "text": [
      "\r",
      "Iterations:  30%|██████████                        | 89/300 [01:44<04:36,  1.31s/it]"
     ]
    },
    {
     "name": "stdout",
     "output_type": "stream",
     "text": [
      "Epoch:  88\n",
      "t_loss:  0.4080636437032737 , v_loss:  0.5742888450622559\n",
      "t_acc:  0.706504824151883 , v_acc:  0.7204968944099379\n",
      "t_recall:  0.5245069378679952 , v_recall:  0.5554954954954955\n",
      "t_prec:  0.7111536824180502 , v_prec:  0.7857142857142857\n",
      "t_f:  0.4669169634388306 , v_f:  0.5203574975173784\n",
      "////////\n"
     ]
    },
    {
     "name": "stderr",
     "output_type": "stream",
     "text": [
      "\r",
      "Iterations:  30%|██████████▏                       | 90/300 [01:46<04:19,  1.24s/it]"
     ]
    },
    {
     "name": "stdout",
     "output_type": "stream",
     "text": [
      "Epoch  89 , loss 0.4032387438358045\n",
      "Epoch  90 , loss 0.41070499782468756\n"
     ]
    },
    {
     "name": "stderr",
     "output_type": "stream",
     "text": [
      "\r",
      "Iterations:  30%|██████████▎                       | 91/300 [01:47<04:37,  1.33s/it]"
     ]
    },
    {
     "name": "stdout",
     "output_type": "stream",
     "text": [
      "Epoch:  90\n",
      "t_loss:  0.41070499782468756 , v_loss:  0.5726668934027354\n",
      "t_acc:  0.7071272953625894 , v_acc:  0.7267080745341615\n",
      "t_recall:  0.5269671017416725 , v_recall:  0.5654954954954955\n",
      "t_prec:  0.7031482630272954 , v_prec:  0.7969771241830066\n",
      "t_f:  0.4728291316526611 , v_f:  0.5373563218390804\n",
      "////////\n"
     ]
    },
    {
     "name": "stderr",
     "output_type": "stream",
     "text": [
      "\r",
      "Iterations:  31%|██████████▍                       | 92/300 [01:48<04:12,  1.21s/it]"
     ]
    },
    {
     "name": "stdout",
     "output_type": "stream",
     "text": [
      "Epoch  91 , loss 0.4060249538982616\n",
      "Epoch  92 , loss 0.4035197163329405\n"
     ]
    },
    {
     "name": "stderr",
     "output_type": "stream",
     "text": [
      "\r",
      "Iterations:  31%|██████████▌                       | 93/300 [01:49<04:15,  1.23s/it]"
     ]
    },
    {
     "name": "stdout",
     "output_type": "stream",
     "text": [
      "Epoch:  92\n",
      "t_loss:  0.4035197163329405 , v_loss:  0.5689079960187277\n",
      "t_acc:  0.7071272953625894 , v_acc:  0.7204968944099379\n",
      "t_recall:  0.5258169665527511 , v_recall:  0.5554954954954955\n",
      "t_prec:  0.7122442455242967 , v_prec:  0.7857142857142857\n",
      "t_f:  0.4696540123970574 , v_f:  0.5203574975173784\n",
      "////////\n"
     ]
    },
    {
     "name": "stderr",
     "output_type": "stream",
     "text": [
      "\r",
      "Iterations:  31%|██████████▋                       | 94/300 [01:50<03:47,  1.10s/it]"
     ]
    },
    {
     "name": "stdout",
     "output_type": "stream",
     "text": [
      "Epoch  93 , loss 0.4115137481221966\n",
      "Epoch  94 , loss 0.40576866678163115\n"
     ]
    },
    {
     "name": "stderr",
     "output_type": "stream",
     "text": [
      "\r",
      "Iterations:  32%|██████████▊                       | 95/300 [01:52<04:04,  1.19s/it]"
     ]
    },
    {
     "name": "stdout",
     "output_type": "stream",
     "text": [
      "Epoch:  94\n",
      "t_loss:  0.40576866678163115 , v_loss:  0.5655986766020457\n",
      "t_acc:  0.7055711173358232 , v_acc:  0.7329192546583851\n",
      "t_recall:  0.5267111349007013 , v_recall:  0.5754954954954955\n",
      "t_prec:  0.6805737684637653 , v_prec:  0.8062865497076024\n",
      "t_f:  0.47433610136473825 , v_f:  0.5538441709093253\n",
      "////////\n"
     ]
    },
    {
     "name": "stderr",
     "output_type": "stream",
     "text": [
      "\r",
      "Iterations:  32%|██████████▉                       | 96/300 [01:52<03:37,  1.07s/it]"
     ]
    },
    {
     "name": "stdout",
     "output_type": "stream",
     "text": [
      "Epoch  95 , loss 0.40249408693874583\n",
      "Epoch  96 , loss 0.4117494184596866\n"
     ]
    },
    {
     "name": "stderr",
     "output_type": "stream",
     "text": [
      "\r",
      "Iterations:  32%|██████████▉                       | 97/300 [01:54<04:01,  1.19s/it]"
     ]
    },
    {
     "name": "stdout",
     "output_type": "stream",
     "text": [
      "Epoch:  96\n",
      "t_loss:  0.4117494184596866 , v_loss:  0.5657633145650228\n",
      "t_acc:  0.7130407718643013 , v_acc:  0.7329192546583851\n",
      "t_recall:  0.5369683369703957 , v_recall:  0.5754954954954955\n",
      "t_prec:  0.7287282824680288 , v_prec:  0.8062865497076024\n",
      "t_f:  0.4914121311759107 , v_f:  0.5538441709093253\n",
      "////////\n"
     ]
    },
    {
     "name": "stderr",
     "output_type": "stream",
     "text": [
      "\r",
      "Iterations:  33%|███████████                       | 98/300 [01:55<03:38,  1.08s/it]"
     ]
    },
    {
     "name": "stdout",
     "output_type": "stream",
     "text": [
      "Epoch  97 , loss 0.4062691576340619\n",
      "Epoch  98 , loss 0.40440670649210614\n"
     ]
    },
    {
     "name": "stderr",
     "output_type": "stream",
     "text": [
      "\r",
      "Iterations:  33%|███████████▏                      | 99/300 [01:56<04:00,  1.20s/it]"
     ]
    },
    {
     "name": "stdout",
     "output_type": "stream",
     "text": [
      "Epoch:  98\n",
      "t_loss:  0.40440670649210614 , v_loss:  0.5642739584048589\n",
      "t_acc:  0.7083722377840025 , v_acc:  0.7391304347826086\n",
      "t_recall:  0.5313123618945663 , v_recall:  0.5854954954954955\n",
      "t_prec:  0.6953853839566086 , v_prec:  0.8142384105960265\n",
      "t_f:  0.4827611444750738 , v_f:  0.5698473282442748\n",
      "////////\n"
     ]
    },
    {
     "name": "stderr",
     "output_type": "stream",
     "text": [
      "\r",
      "Iterations:  33%|███████████                      | 100/300 [01:57<03:38,  1.09s/it]"
     ]
    },
    {
     "name": "stdout",
     "output_type": "stream",
     "text": [
      "Epoch  99 , loss 0.3987913701464148\n",
      "Epoch  100 , loss 0.40375546731200873\n"
     ]
    },
    {
     "name": "stderr",
     "output_type": "stream",
     "text": [
      "\r",
      "Iterations:  34%|███████████                      | 101/300 [01:58<04:00,  1.21s/it]"
     ]
    },
    {
     "name": "stdout",
     "output_type": "stream",
     "text": [
      "Epoch:  100\n",
      "t_loss:  0.40375546731200873 , v_loss:  0.5661231378714243\n",
      "t_acc:  0.7136632430750078 , v_acc:  0.7329192546583851\n",
      "t_recall:  0.5371282304662303 , v_recall:  0.5754954954954955\n",
      "t_prec:  0.7377640406644597 , v_prec:  0.8062865497076024\n",
      "t_f:  0.4910312851255152 , v_f:  0.5538441709093253\n",
      "////////\n"
     ]
    },
    {
     "name": "stderr",
     "output_type": "stream",
     "text": [
      "\r",
      "Iterations:  34%|███████████▏                     | 102/300 [01:59<03:42,  1.12s/it]"
     ]
    },
    {
     "name": "stdout",
     "output_type": "stream",
     "text": [
      "Epoch  101 , loss 0.40579599667997923\n",
      "Epoch  102 , loss 0.40152422587076825\n"
     ]
    },
    {
     "name": "stderr",
     "output_type": "stream",
     "text": [
      "\r",
      "Iterations:  34%|███████████▎                     | 103/300 [02:01<03:52,  1.18s/it]"
     ]
    },
    {
     "name": "stdout",
     "output_type": "stream",
     "text": [
      "Epoch:  102\n",
      "t_loss:  0.40152422587076825 , v_loss:  0.5669002781311671\n",
      "t_acc:  0.7111733582321818 , v_acc:  0.7329192546583851\n",
      "t_recall:  0.532175649524437 , v_recall:  0.5754954954954955\n",
      "t_prec:  0.7350366939364774 , v_prec:  0.8062865497076024\n",
      "t_f:  0.48127364280882834 , v_f:  0.5538441709093253\n",
      "////////\n"
     ]
    },
    {
     "name": "stderr",
     "output_type": "stream",
     "text": [
      "\r",
      "Iterations:  35%|███████████▍                     | 104/300 [02:02<03:44,  1.15s/it]"
     ]
    },
    {
     "name": "stdout",
     "output_type": "stream",
     "text": [
      "Epoch  103 , loss 0.40921081573355433\n",
      "Epoch  104 , loss 0.4020463163946189\n"
     ]
    },
    {
     "name": "stderr",
     "output_type": "stream",
     "text": [
      "\r",
      "Iterations:  35%|███████████▌                     | 105/300 [02:03<03:50,  1.18s/it]"
     ]
    },
    {
     "name": "stdout",
     "output_type": "stream",
     "text": [
      "Epoch:  104\n",
      "t_loss:  0.4020463163946189 , v_loss:  0.5671237955490748\n",
      "t_acc:  0.713974478680361 , v_acc:  0.7329192546583851\n",
      "t_recall:  0.5402272820850661 , v_recall:  0.5754954954954955\n",
      "t_prec:  0.7210207221065967 , v_prec:  0.8062865497076024\n",
      "t_f:  0.4985257635994296 , v_f:  0.5538441709093253\n",
      "////////\n"
     ]
    },
    {
     "name": "stderr",
     "output_type": "stream",
     "text": [
      "\r",
      "Iterations:  35%|███████████▋                     | 106/300 [02:04<03:44,  1.16s/it]"
     ]
    },
    {
     "name": "stdout",
     "output_type": "stream",
     "text": [
      "Epoch  105 , loss 0.4047010909108555\n",
      "Epoch  106 , loss 0.39856354453984427\n"
     ]
    },
    {
     "name": "stderr",
     "output_type": "stream",
     "text": [
      "\r",
      "Iterations:  36%|███████████▊                     | 107/300 [02:05<03:48,  1.18s/it]"
     ]
    },
    {
     "name": "stdout",
     "output_type": "stream",
     "text": [
      "Epoch:  106\n",
      "t_loss:  0.39856354453984427 , v_loss:  0.5657686789830526\n",
      "t_acc:  0.711484593837535 , v_acc:  0.7329192546583851\n",
      "t_recall:  0.5332619645626604 , v_recall:  0.5754954954954955\n",
      "t_prec:  0.7313147445849983 , v_prec:  0.8062865497076024\n",
      "t_f:  0.4837514665703426 , v_f:  0.5538441709093253\n",
      "////////\n"
     ]
    },
    {
     "name": "stderr",
     "output_type": "stream",
     "text": [
      "\r",
      "Iterations:  36%|███████████▉                     | 108/300 [02:06<03:31,  1.10s/it]"
     ]
    },
    {
     "name": "stdout",
     "output_type": "stream",
     "text": [
      "Epoch  107 , loss 0.40295926379222496\n",
      "Epoch  108 , loss 0.40342602016879064\n"
     ]
    },
    {
     "name": "stderr",
     "output_type": "stream",
     "text": [
      "\r",
      "Iterations:  36%|███████████▉                     | 109/300 [02:07<03:40,  1.15s/it]"
     ]
    },
    {
     "name": "stdout",
     "output_type": "stream",
     "text": [
      "Epoch:  108\n",
      "t_loss:  0.40342602016879064 , v_loss:  0.5610849807659785\n",
      "t_acc:  0.7192654839713664 , v_acc:  0.7515527950310559\n",
      "t_recall:  0.5457556168594996 , v_recall:  0.6054954954954955\n",
      "t_prec:  0.7611086164224772 , v_prec:  0.8274608501118568\n",
      "t_f:  0.506033357831741 , v_f:  0.6004962779156328\n",
      "////////\n"
     ]
    },
    {
     "name": "stderr",
     "output_type": "stream",
     "text": [
      "\r",
      "Iterations:  37%|████████████                     | 110/300 [02:08<03:23,  1.07s/it]"
     ]
    },
    {
     "name": "stdout",
     "output_type": "stream",
     "text": [
      "Epoch  109 , loss 0.3986137743089713\n",
      "Epoch  110 , loss 0.40185899915648443\n"
     ]
    },
    {
     "name": "stderr",
     "output_type": "stream",
     "text": [
      "\r",
      "Iterations:  37%|████████████▏                    | 111/300 [02:10<03:33,  1.13s/it]"
     ]
    },
    {
     "name": "stdout",
     "output_type": "stream",
     "text": [
      "Epoch:  110\n",
      "t_loss:  0.40185899915648443 , v_loss:  0.558954914410909\n",
      "t_acc:  0.7155306567071273 , v_acc:  0.7391304347826086\n",
      "t_recall:  0.5404832489260373 , v_recall:  0.5854954954954955\n",
      "t_prec:  0.7422975822129734 , v_prec:  0.8142384105960265\n",
      "t_f:  0.49728810890017944 , v_f:  0.5698473282442748\n",
      "////////\n"
     ]
    },
    {
     "name": "stderr",
     "output_type": "stream",
     "text": [
      "\r",
      "Iterations:  37%|████████████▎                    | 112/300 [02:11<03:17,  1.05s/it]"
     ]
    },
    {
     "name": "stdout",
     "output_type": "stream",
     "text": [
      "Epoch  111 , loss 0.4052703193589753\n",
      "Epoch  112 , loss 0.4008605398383795\n"
     ]
    },
    {
     "name": "stderr",
     "output_type": "stream",
     "text": [
      "\r",
      "Iterations:  38%|████████████▍                    | 113/300 [02:12<03:34,  1.15s/it]"
     ]
    },
    {
     "name": "stdout",
     "output_type": "stream",
     "text": [
      "Epoch:  112\n",
      "t_loss:  0.4008605398383795 , v_loss:  0.5551776041587194\n",
      "t_acc:  0.7117958294428882 , v_acc:  0.7515527950310559\n",
      "t_recall:  0.5372236175731874 , v_recall:  0.6054954954954955\n",
      "t_prec:  0.7091836734693877 , v_prec:  0.8274608501118568\n",
      "t_f:  0.4936185726189892 , v_f:  0.6004962779156328\n",
      "////////\n"
     ]
    },
    {
     "name": "stderr",
     "output_type": "stream",
     "text": [
      "\r",
      "Iterations:  38%|████████████▌                    | 114/300 [02:13<03:20,  1.08s/it]"
     ]
    },
    {
     "name": "stdout",
     "output_type": "stream",
     "text": [
      "Epoch  113 , loss 0.3995712083928725\n",
      "Epoch  114 , loss 0.396696337297851\n"
     ]
    },
    {
     "name": "stderr",
     "output_type": "stream",
     "text": [
      "\r",
      "Iterations:  38%|████████████▋                    | 115/300 [02:14<03:38,  1.18s/it]"
     ]
    },
    {
     "name": "stdout",
     "output_type": "stream",
     "text": [
      "Epoch:  114\n",
      "t_loss:  0.396696337297851 , v_loss:  0.5581883192062378\n",
      "t_acc:  0.7170868347338936 , v_acc:  0.7515527950310559\n",
      "t_recall:  0.5444771551310028 , v_recall:  0.6054954954954955\n",
      "t_prec:  0.7373291182501709 , v_prec:  0.8274608501118568\n",
      "t_f:  0.5053963910031642 , v_f:  0.6004962779156328\n",
      "////////\n"
     ]
    },
    {
     "name": "stderr",
     "output_type": "stream",
     "text": [
      "\r",
      "Iterations:  39%|████████████▊                    | 116/300 [02:15<03:27,  1.13s/it]"
     ]
    },
    {
     "name": "stdout",
     "output_type": "stream",
     "text": [
      "Epoch  115 , loss 0.39785241613201067\n",
      "Epoch  116 , loss 0.39652707880618526\n"
     ]
    },
    {
     "name": "stderr",
     "output_type": "stream",
     "text": [
      "\r",
      "Iterations:  39%|████████████▊                    | 117/300 [02:17<03:53,  1.27s/it]"
     ]
    },
    {
     "name": "stdout",
     "output_type": "stream",
     "text": [
      "Epoch:  116\n",
      "t_loss:  0.39652707880618526 , v_loss:  0.5578673034906387\n",
      "t_acc:  0.7186430127606598 , v_acc:  0.7515527950310559\n",
      "t_recall:  0.5470333923498167 , v_recall:  0.6054954954954955\n",
      "t_prec:  0.7422693531283139 , v_prec:  0.8274608501118568\n",
      "t_f:  0.5098596683069072 , v_f:  0.6004962779156328\n",
      "////////\n"
     ]
    },
    {
     "name": "stderr",
     "output_type": "stream",
     "text": [
      "\r",
      "Iterations:  39%|████████████▉                    | 118/300 [02:18<03:40,  1.21s/it]"
     ]
    },
    {
     "name": "stdout",
     "output_type": "stream",
     "text": [
      "Epoch  117 , loss 0.3932082314117282\n",
      "Epoch  118 , loss 0.3943695215617909\n"
     ]
    },
    {
     "name": "stderr",
     "output_type": "stream",
     "text": [
      "\r",
      "Iterations:  40%|█████████████                    | 119/300 [02:19<03:59,  1.32s/it]"
     ]
    },
    {
     "name": "stdout",
     "output_type": "stream",
     "text": [
      "Epoch:  118\n",
      "t_loss:  0.3943695215617909 , v_loss:  0.5550366640090942\n",
      "t_acc:  0.7130407718643013 , v_acc:  0.7515527950310559\n",
      "t_recall:  0.5389810735510081 , v_recall:  0.6054954954954955\n",
      "t_prec:  0.7157769448946516 , v_prec:  0.8274608501118568\n",
      "t_f:  0.4965285048063196 , v_f:  0.6004962779156328\n",
      "////////\n"
     ]
    },
    {
     "name": "stderr",
     "output_type": "stream",
     "text": [
      "\r",
      "Iterations:  40%|█████████████▏                   | 120/300 [02:20<03:39,  1.22s/it]"
     ]
    },
    {
     "name": "stdout",
     "output_type": "stream",
     "text": [
      "Epoch  119 , loss 0.39807094954976846\n",
      "Epoch  120 , loss 0.3964149537039738\n"
     ]
    },
    {
     "name": "stderr",
     "output_type": "stream",
     "text": [
      "\r",
      "Iterations:  40%|█████████████▎                   | 121/300 [02:22<03:52,  1.30s/it]"
     ]
    },
    {
     "name": "stdout",
     "output_type": "stream",
     "text": [
      "Epoch:  120\n",
      "t_loss:  0.3964149537039738 , v_loss:  0.5563808679580688\n",
      "t_acc:  0.7161531279178338 , v_acc:  0.7453416149068323\n",
      "t_recall:  0.5432309465969449 , v_recall:  0.5954954954954955\n",
      "t_prec:  0.7323515092502435 , v_prec:  0.8212121212121212\n",
      "t_f:  0.5034104081508145 , v_f:  0.5853903649268262\n",
      "////////\n"
     ]
    },
    {
     "name": "stderr",
     "output_type": "stream",
     "text": [
      "\r",
      "Iterations:  41%|█████████████▍                   | 122/300 [02:23<03:31,  1.19s/it]"
     ]
    },
    {
     "name": "stdout",
     "output_type": "stream",
     "text": [
      "Epoch  121 , loss 0.39412733152800916\n",
      "Epoch  122 , loss 0.39535671706293146\n"
     ]
    },
    {
     "name": "stderr",
     "output_type": "stream",
     "text": [
      "\r",
      "Iterations:  41%|█████████████▌                   | 123/300 [02:24<03:34,  1.21s/it]"
     ]
    },
    {
     "name": "stdout",
     "output_type": "stream",
     "text": [
      "Epoch:  122\n",
      "t_loss:  0.39535671706293146 , v_loss:  0.5566003570954005\n",
      "t_acc:  0.7145969498910676 , v_acc:  0.7453416149068323\n",
      "t_recall:  0.5423999121615131 , v_recall:  0.5954954954954955\n",
      "t_prec:  0.7169015600791975 , v_prec:  0.8212121212121212\n",
      "t_f:  0.5031627345871177 , v_f:  0.5853903649268262\n",
      "////////\n"
     ]
    },
    {
     "name": "stderr",
     "output_type": "stream",
     "text": [
      "\r",
      "Iterations:  41%|█████████████▋                   | 124/300 [02:25<03:11,  1.09s/it]"
     ]
    },
    {
     "name": "stdout",
     "output_type": "stream",
     "text": [
      "Epoch  123 , loss 0.3912241996503344\n",
      "Epoch  124 , loss 0.4014462974725985\n"
     ]
    },
    {
     "name": "stderr",
     "output_type": "stream",
     "text": [
      "\r",
      "Iterations:  42%|█████████████▊                   | 125/300 [02:26<03:25,  1.17s/it]"
     ]
    },
    {
     "name": "stdout",
     "output_type": "stream",
     "text": [
      "Epoch:  124\n",
      "t_loss:  0.4014462974725985 , v_loss:  0.5547821720441183\n",
      "t_acc:  0.7177093059446 , v_acc:  0.7577639751552795\n",
      "t_recall:  0.5466497852074498 , v_recall:  0.6154954954954954\n",
      "t_prec:  0.7322691966014441 , v_prec:  0.8331600831600832\n",
      "t_f:  0.5099650994929295 , v_f:  0.6151866151866152\n",
      "////////\n"
     ]
    },
    {
     "name": "stderr",
     "output_type": "stream",
     "text": [
      "\r",
      "Iterations:  42%|█████████████▊                   | 126/300 [02:27<03:09,  1.09s/it]"
     ]
    },
    {
     "name": "stdout",
     "output_type": "stream",
     "text": [
      "Epoch  125 , loss 0.3938719530900319\n",
      "Epoch  126 , loss 0.3955346486147712\n"
     ]
    },
    {
     "name": "stderr",
     "output_type": "stream",
     "text": [
      "\r",
      "Iterations:  42%|█████████████▉                   | 127/300 [02:29<03:29,  1.21s/it]"
     ]
    },
    {
     "name": "stdout",
     "output_type": "stream",
     "text": [
      "Epoch:  126\n",
      "t_loss:  0.3955346486147712 , v_loss:  0.5503676682710648\n",
      "t_acc:  0.7208216619981326 , v_acc:  0.7577639751552795\n",
      "t_recall:  0.5506121244561563 , v_recall:  0.620990990990991\n",
      "t_prec:  0.7486838555950186 , v_prec:  0.8066210045662101\n",
      "t_f:  0.5160485613664135 , v_f:  0.624124513618677\n",
      "////////\n"
     ]
    },
    {
     "name": "stderr",
     "output_type": "stream",
     "text": [
      "\r",
      "Iterations:  43%|██████████████                   | 128/300 [02:30<03:08,  1.10s/it]"
     ]
    },
    {
     "name": "stdout",
     "output_type": "stream",
     "text": [
      "Epoch  127 , loss 0.39102141938957513\n",
      "Epoch  128 , loss 0.38722925092659743\n"
     ]
    },
    {
     "name": "stderr",
     "output_type": "stream",
     "text": [
      "\r",
      "Iterations:  43%|██████████████▏                  | 129/300 [02:31<03:27,  1.21s/it]"
     ]
    },
    {
     "name": "stdout",
     "output_type": "stream",
     "text": [
      "Epoch:  128\n",
      "t_loss:  0.38722925092659743 , v_loss:  0.5499498347441355\n",
      "t_acc:  0.7270463741051977 , v_acc:  0.7577639751552795\n",
      "t_recall:  0.5588243367507995 , v_recall:  0.620990990990991\n",
      "t_prec:  0.7780937879843066 , v_prec:  0.8066210045662101\n",
      "t_f:  0.5288204814697827 , v_f:  0.624124513618677\n",
      "////////\n"
     ]
    },
    {
     "name": "stderr",
     "output_type": "stream",
     "text": [
      "\r",
      "Iterations:  43%|██████████████▎                  | 130/300 [02:32<03:04,  1.09s/it]"
     ]
    },
    {
     "name": "stdout",
     "output_type": "stream",
     "text": [
      "Epoch  129 , loss 0.3870784102701673\n",
      "Epoch  130 , loss 0.3885001931704727\n"
     ]
    },
    {
     "name": "stderr",
     "output_type": "stream",
     "text": [
      "\r",
      "Iterations:  44%|██████████████▍                  | 131/300 [02:33<03:25,  1.22s/it]"
     ]
    },
    {
     "name": "stdout",
     "output_type": "stream",
     "text": [
      "Epoch:  130\n",
      "t_loss:  0.3885001931704727 , v_loss:  0.5450492103894552\n",
      "t_acc:  0.7223778400248988 , v_acc:  0.7639751552795031\n",
      "t_recall:  0.5548935644583523 , v_recall:  0.630990990990991\n",
      "t_prec:  0.7427619359772752 , v_prec:  0.8133620689655172\n",
      "t_f:  0.5243981121930821 , v_f:  0.637902462121212\n",
      "////////\n"
     ]
    },
    {
     "name": "stderr",
     "output_type": "stream",
     "text": [
      "\r",
      "Iterations:  44%|██████████████▌                  | 132/300 [02:34<03:04,  1.10s/it]"
     ]
    },
    {
     "name": "stdout",
     "output_type": "stream",
     "text": [
      "Epoch  131 , loss 0.39168480447694365\n",
      "Epoch  132 , loss 0.3924861001033409\n"
     ]
    },
    {
     "name": "stderr",
     "output_type": "stream",
     "text": [
      "\r",
      "Iterations:  44%|██████████████▋                  | 133/300 [02:36<03:19,  1.19s/it]"
     ]
    },
    {
     "name": "stdout",
     "output_type": "stream",
     "text": [
      "Epoch:  132\n",
      "t_loss:  0.3924861001033409 , v_loss:  0.5461472868919373\n",
      "t_acc:  0.7239340180516651 , v_acc:  0.7639751552795031\n",
      "t_recall:  0.5568747340827054 , v_recall:  0.630990990990991\n",
      "t_prec:  0.7500623554259278 , v_prec:  0.8133620689655172\n",
      "t_f:  0.5273891265359189 , v_f:  0.637902462121212\n",
      "////////\n"
     ]
    },
    {
     "name": "stderr",
     "output_type": "stream",
     "text": [
      "\r",
      "Iterations:  45%|██████████████▋                  | 134/300 [02:36<03:02,  1.10s/it]"
     ]
    },
    {
     "name": "stdout",
     "output_type": "stream",
     "text": [
      "Epoch  133 , loss 0.3890356263693641\n",
      "Epoch  134 , loss 0.3846627333584954\n"
     ]
    },
    {
     "name": "stderr",
     "output_type": "stream",
     "text": [
      "\r",
      "Iterations:  45%|██████████████▊                  | 135/300 [02:38<03:15,  1.18s/it]"
     ]
    },
    {
     "name": "stdout",
     "output_type": "stream",
     "text": [
      "Epoch:  134\n",
      "t_loss:  0.3846627333584954 , v_loss:  0.546731432278951\n",
      "t_acc:  0.7223778400248988 , v_acc:  0.7639751552795031\n",
      "t_recall:  0.5548935644583523 , v_recall:  0.630990990990991\n",
      "t_prec:  0.7427619359772752 , v_prec:  0.8133620689655172\n",
      "t_f:  0.5243981121930821 , v_f:  0.637902462121212\n",
      "////////\n"
     ]
    },
    {
     "name": "stderr",
     "output_type": "stream",
     "text": [
      "\r",
      "Iterations:  45%|██████████████▉                  | 136/300 [02:39<03:03,  1.12s/it]"
     ]
    },
    {
     "name": "stdout",
     "output_type": "stream",
     "text": [
      "Epoch  135 , loss 0.3878248894915861\n",
      "Epoch  136 , loss 0.3845137649891423\n"
     ]
    },
    {
     "name": "stderr",
     "output_type": "stream",
     "text": [
      "\r",
      "Iterations:  46%|███████████████                  | 137/300 [02:40<03:13,  1.19s/it]"
     ]
    },
    {
     "name": "stdout",
     "output_type": "stream",
     "text": [
      "Epoch:  136\n",
      "t_loss:  0.3845137649891423 , v_loss:  0.5487003823121389\n",
      "t_acc:  0.7301587301587301 , v_acc:  0.7763975155279503\n",
      "t_recall:  0.567099682957961 , v_recall:  0.650990990990991\n",
      "t_prec:  0.7645106313910079 , v_prec:  0.8255633255633255\n",
      "t_f:  0.544278804743921 , v_f:  0.6644279759147753\n",
      "////////\n"
     ]
    },
    {
     "name": "stderr",
     "output_type": "stream",
     "text": [
      "\r",
      "Iterations:  46%|███████████████▏                 | 138/300 [02:41<03:03,  1.13s/it]"
     ]
    },
    {
     "name": "stdout",
     "output_type": "stream",
     "text": [
      "Epoch  137 , loss 0.39439666329645645\n",
      "Epoch  138 , loss 0.38591638733358946\n"
     ]
    },
    {
     "name": "stderr",
     "output_type": "stream",
     "text": [
      "\r",
      "Iterations:  46%|███████████████▎                 | 139/300 [02:42<03:08,  1.17s/it]"
     ]
    },
    {
     "name": "stdout",
     "output_type": "stream",
     "text": [
      "Epoch:  138\n",
      "t_loss:  0.38591638733358946 , v_loss:  0.5472224454085032\n",
      "t_acc:  0.7223778400248988 , v_acc:  0.7701863354037267\n",
      "t_recall:  0.5546060306611219 , v_recall:  0.640990990990991\n",
      "t_prec:  0.744348796265968 , v_prec:  0.8196486928104575\n",
      "t_f:  0.5237424523210028 , v_f:  0.6513315774070823\n",
      "////////\n"
     ]
    },
    {
     "name": "stderr",
     "output_type": "stream",
     "text": [
      "\r",
      "Iterations:  47%|███████████████▍                 | 140/300 [02:44<03:07,  1.17s/it]"
     ]
    },
    {
     "name": "stdout",
     "output_type": "stream",
     "text": [
      "Epoch  139 , loss 0.38579707139847325\n",
      "Epoch  140 , loss 0.3863023843835382\n"
     ]
    },
    {
     "name": "stderr",
     "output_type": "stream",
     "text": [
      "\r",
      "Iterations:  47%|███████████████▌                 | 141/300 [02:45<03:10,  1.19s/it]"
     ]
    },
    {
     "name": "stdout",
     "output_type": "stream",
     "text": [
      "Epoch:  140\n",
      "t_loss:  0.3863023843835382 , v_loss:  0.5434687932332357\n",
      "t_acc:  0.7233115468409586 , v_acc:  0.7763975155279503\n",
      "t_recall:  0.557577441978562 , v_recall:  0.650990990990991\n",
      "t_prec:  0.73930350623669 , v_prec:  0.8255633255633255\n",
      "t_f:  0.529548671874035 , v_f:  0.6644279759147753\n",
      "////////\n"
     ]
    },
    {
     "name": "stderr",
     "output_type": "stream",
     "text": [
      "\r",
      "Iterations:  47%|███████████████▌                 | 142/300 [02:46<02:54,  1.10s/it]"
     ]
    },
    {
     "name": "stdout",
     "output_type": "stream",
     "text": [
      "Epoch  141 , loss 0.3839803805538252\n",
      "Epoch  142 , loss 0.3805680239901823\n"
     ]
    },
    {
     "name": "stderr",
     "output_type": "stream",
     "text": [
      "\r",
      "Iterations:  48%|███████████████▋                 | 143/300 [02:47<02:59,  1.14s/it]"
     ]
    },
    {
     "name": "stdout",
     "output_type": "stream",
     "text": [
      "Epoch:  142\n",
      "t_loss:  0.3805680239901823 , v_loss:  0.5453463047742844\n",
      "t_acc:  0.7273576097105509 , v_acc:  0.7763975155279503\n",
      "t_recall:  0.5636485911530174 , v_recall:  0.650990990990991\n",
      "t_prec:  0.752201609014542 , v_prec:  0.8255633255633255\n",
      "t_f:  0.5392387076495934 , v_f:  0.6644279759147753\n",
      "////////\n"
     ]
    },
    {
     "name": "stderr",
     "output_type": "stream",
     "text": [
      "\r",
      "Iterations:  48%|███████████████▊                 | 144/300 [02:48<02:47,  1.08s/it]"
     ]
    },
    {
     "name": "stdout",
     "output_type": "stream",
     "text": [
      "Epoch  143 , loss 0.3826119876375385\n",
      "Epoch  144 , loss 0.3808276895798889\n"
     ]
    },
    {
     "name": "stderr",
     "output_type": "stream",
     "text": [
      "\r",
      "Iterations:  48%|███████████████▉                 | 145/300 [02:49<02:59,  1.16s/it]"
     ]
    },
    {
     "name": "stdout",
     "output_type": "stream",
     "text": [
      "Epoch:  144\n",
      "t_loss:  0.3808276895798889 , v_loss:  0.5424599150816599\n",
      "t_acc:  0.7292250233426704 , v_acc:  0.782608695652174\n",
      "t_recall:  0.5641282716405209 , v_recall:  0.660990990990991\n",
      "t_prec:  0.770966151823858 , v_prec:  0.83117123795404\n",
      "t_f:  0.5386625569552399 , v_f:  0.6772068511198946\n",
      "////////\n"
     ]
    },
    {
     "name": "stderr",
     "output_type": "stream",
     "text": [
      "\r",
      "Iterations:  49%|████████████████                 | 146/300 [02:50<02:43,  1.06s/it]"
     ]
    },
    {
     "name": "stdout",
     "output_type": "stream",
     "text": [
      "Epoch  145 , loss 0.38425441349253936\n",
      "Epoch  146 , loss 0.3784133347810483\n"
     ]
    },
    {
     "name": "stderr",
     "output_type": "stream",
     "text": [
      "\r",
      "Iterations:  49%|████████████████▏                | 147/300 [02:51<02:52,  1.13s/it]"
     ]
    },
    {
     "name": "stdout",
     "output_type": "stream",
     "text": [
      "Epoch:  146\n",
      "t_loss:  0.3784133347810483 , v_loss:  0.5409653037786484\n",
      "t_acc:  0.7342047930283224 , v_acc:  0.7763975155279503\n",
      "t_recall:  0.5723082307407255 , v_recall:  0.650990990990991\n",
      "t_prec:  0.7807234886025769 , v_prec:  0.8255633255633255\n",
      "t_f:  0.5520136594999353 , v_f:  0.6644279759147753\n",
      "////////\n"
     ]
    },
    {
     "name": "stderr",
     "output_type": "stream",
     "text": [
      "\r",
      "Iterations:  49%|████████████████▎                | 148/300 [02:52<02:39,  1.05s/it]"
     ]
    },
    {
     "name": "stdout",
     "output_type": "stream",
     "text": [
      "Epoch  147 , loss 0.38650873244977463\n",
      "Epoch  148 , loss 0.3843795177983303\n"
     ]
    },
    {
     "name": "stderr",
     "output_type": "stream",
     "text": [
      "\r",
      "Iterations:  50%|████████████████▍                | 149/300 [02:54<02:54,  1.16s/it]"
     ]
    },
    {
     "name": "stdout",
     "output_type": "stream",
     "text": [
      "Epoch:  148\n",
      "t_loss:  0.3843795177983303 , v_loss:  0.5377101649840673\n",
      "t_acc:  0.7254901960784313 , v_acc:  0.7763975155279503\n",
      "t_recall:  0.5634564444627441 , v_recall:  0.650990990990991\n",
      "t_prec:  0.7345636630522279 , v_prec:  0.8255633255633255\n",
      "t_f:  0.5403931462468747 , v_f:  0.6644279759147753\n",
      "////////\n"
     ]
    },
    {
     "name": "stderr",
     "output_type": "stream",
     "text": [
      "\r",
      "Iterations:  50%|████████████████▌                | 150/300 [02:55<02:43,  1.09s/it]"
     ]
    },
    {
     "name": "stdout",
     "output_type": "stream",
     "text": [
      "Epoch  149 , loss 0.3863409985514248\n",
      "Epoch  150 , loss 0.37862619319382834\n"
     ]
    },
    {
     "name": "stderr",
     "output_type": "stream",
     "text": [
      "\r",
      "Iterations:  50%|████████████████▌                | 151/300 [02:56<02:59,  1.21s/it]"
     ]
    },
    {
     "name": "stdout",
     "output_type": "stream",
     "text": [
      "Epoch:  150\n",
      "t_loss:  0.37862619319382834 , v_loss:  0.5404054323832194\n",
      "t_acc:  0.7264239028944911 , v_acc:  0.7763975155279503\n",
      "t_recall:  0.5638400516051111 , v_recall:  0.650990990990991\n",
      "t_prec:  0.7417585178152536 , v_prec:  0.8255633255633255\n",
      "t_f:  0.5404348237138051 , v_f:  0.6644279759147753\n",
      "////////\n"
     ]
    },
    {
     "name": "stderr",
     "output_type": "stream",
     "text": [
      "\r",
      "Iterations:  51%|████████████████▋                | 152/300 [02:57<02:53,  1.18s/it]"
     ]
    },
    {
     "name": "stdout",
     "output_type": "stream",
     "text": [
      "Epoch  151 , loss 0.38070593277613324\n",
      "Epoch  152 , loss 0.38837680337475794\n"
     ]
    },
    {
     "name": "stderr",
     "output_type": "stream",
     "text": [
      "\r",
      "Iterations:  51%|████████████████▊                | 153/300 [02:59<03:08,  1.28s/it]"
     ]
    },
    {
     "name": "stdout",
     "output_type": "stream",
     "text": [
      "Epoch:  152\n",
      "t_loss:  0.38837680337475794 , v_loss:  0.537500649690628\n",
      "t_acc:  0.7292250233426704 , v_acc:  0.782608695652174\n",
      "t_recall:  0.5687288123962064 , v_recall:  0.660990990990991\n",
      "t_prec:  0.7469978067218878 , v_prec:  0.83117123795404\n",
      "t_f:  0.5484356119593944 , v_f:  0.6772068511198946\n",
      "////////\n"
     ]
    },
    {
     "name": "stderr",
     "output_type": "stream",
     "text": [
      "\r",
      "Iterations:  51%|████████████████▉                | 154/300 [03:00<03:01,  1.25s/it]"
     ]
    },
    {
     "name": "stdout",
     "output_type": "stream",
     "text": [
      "Epoch  153 , loss 0.38766033684506135\n",
      "Epoch  154 , loss 0.3802107210252799\n"
     ]
    },
    {
     "name": "stderr",
     "output_type": "stream",
     "text": [
      "\r",
      "Iterations:  52%|█████████████████                | 155/300 [03:01<03:11,  1.32s/it]"
     ]
    },
    {
     "name": "stdout",
     "output_type": "stream",
     "text": [
      "Epoch:  154\n",
      "t_loss:  0.3802107210252799 , v_loss:  0.5404919584592184\n",
      "t_acc:  0.7332710862122627 , v_acc:  0.7763975155279503\n",
      "t_recall:  0.5736498263817406 , v_recall:  0.650990990990991\n",
      "t_prec:  0.763466605567648 , v_prec:  0.8255633255633255\n",
      "t_f:  0.5554750340835068 , v_f:  0.6644279759147753\n",
      "////////\n"
     ]
    },
    {
     "name": "stderr",
     "output_type": "stream",
     "text": [
      "\r",
      "Iterations:  52%|█████████████████▏               | 156/300 [03:02<03:00,  1.25s/it]"
     ]
    },
    {
     "name": "stdout",
     "output_type": "stream",
     "text": [
      "Epoch  155 , loss 0.37736352810672685\n",
      "Epoch  156 , loss 0.37970298587107193\n"
     ]
    },
    {
     "name": "stderr",
     "output_type": "stream",
     "text": [
      "\r",
      "Iterations:  52%|█████████████████▎               | 157/300 [03:04<03:06,  1.31s/it]"
     ]
    },
    {
     "name": "stdout",
     "output_type": "stream",
     "text": [
      "Epoch:  156\n",
      "t_loss:  0.37970298587107193 , v_loss:  0.5404186844825745\n",
      "t_acc:  0.737317149081855 , v_acc:  0.7763975155279503\n",
      "t_recall:  0.5805835769478871 , v_recall:  0.650990990990991\n",
      "t_prec:  0.7697799084100412 , v_prec:  0.8255633255633255\n",
      "t_f:  0.5664688541153751 , v_f:  0.6644279759147753\n",
      "////////\n"
     ]
    },
    {
     "name": "stderr",
     "output_type": "stream",
     "text": [
      "\r",
      "Iterations:  53%|█████████████████▍               | 158/300 [03:05<02:51,  1.21s/it]"
     ]
    },
    {
     "name": "stdout",
     "output_type": "stream",
     "text": [
      "Epoch  157 , loss 0.3803652542478898\n",
      "Epoch  158 , loss 0.38624467569239\n"
     ]
    },
    {
     "name": "stderr",
     "output_type": "stream",
     "text": [
      "\r",
      "Iterations:  53%|█████████████████▍               | 159/300 [03:06<02:55,  1.24s/it]"
     ]
    },
    {
     "name": "stdout",
     "output_type": "stream",
     "text": [
      "Epoch:  158\n",
      "t_loss:  0.38624467569239 , v_loss:  0.5408128847678503\n",
      "t_acc:  0.7342047930283224 , v_acc:  0.7763975155279503\n",
      "t_recall:  0.5774838390908716 , v_recall:  0.650990990990991\n",
      "t_prec:  0.7550692618395728 , v_prec:  0.8255633255633255\n",
      "t_f:  0.5624598163030998 , v_f:  0.6644279759147753\n",
      "////////\n"
     ]
    },
    {
     "name": "stderr",
     "output_type": "stream",
     "text": [
      "\r",
      "Iterations:  53%|█████████████████▌               | 160/300 [03:07<02:35,  1.11s/it]"
     ]
    },
    {
     "name": "stdout",
     "output_type": "stream",
     "text": [
      "Epoch  159 , loss 0.3808945671600454\n",
      "Epoch  160 , loss 0.3765881932249256\n"
     ]
    },
    {
     "name": "stderr",
     "output_type": "stream",
     "text": [
      "\r",
      "Iterations:  54%|█████████████████▋               | 161/300 [03:08<02:44,  1.18s/it]"
     ]
    },
    {
     "name": "stdout",
     "output_type": "stream",
     "text": [
      "Epoch:  160\n",
      "t_loss:  0.3765881932249256 , v_loss:  0.5405708352724711\n",
      "t_acc:  0.7370059134765017 , v_acc:  0.7763975155279503\n",
      "t_recall:  0.578059592923512 , v_recall:  0.6564864864864866\n",
      "t_prec:  0.7792416084316646 , v_prec:  0.8079787234042553\n",
      "t_f:  0.5616994210041578 , v_f:  0.6714285714285715\n",
      "////////\n"
     ]
    },
    {
     "name": "stderr",
     "output_type": "stream",
     "text": [
      "\r",
      "Iterations:  54%|█████████████████▊               | 162/300 [03:09<02:29,  1.08s/it]"
     ]
    },
    {
     "name": "stdout",
     "output_type": "stream",
     "text": [
      "Epoch  161 , loss 0.3803924310441111\n",
      "Epoch  162 , loss 0.3716827806304483\n"
     ]
    },
    {
     "name": "stderr",
     "output_type": "stream",
     "text": [
      "\r",
      "Iterations:  54%|█████████████████▉               | 163/300 [03:11<02:43,  1.19s/it]"
     ]
    },
    {
     "name": "stdout",
     "output_type": "stream",
     "text": [
      "Epoch:  162\n",
      "t_loss:  0.3716827806304483 , v_loss:  0.5416476478179296\n",
      "t_acc:  0.7450980392156863 , v_acc:  0.7763975155279503\n",
      "t_recall:  0.5902018912724228 , v_recall:  0.6564864864864866\n",
      "t_prec:  0.7981797614150555 , v_prec:  0.8079787234042553\n",
      "t_f:  0.5801221699161647 , v_f:  0.6714285714285715\n",
      "////////\n"
     ]
    },
    {
     "name": "stderr",
     "output_type": "stream",
     "text": [
      "\r",
      "Iterations:  55%|██████████████████               | 164/300 [03:11<02:26,  1.08s/it]"
     ]
    },
    {
     "name": "stdout",
     "output_type": "stream",
     "text": [
      "Epoch  163 , loss 0.3741976063625485\n",
      "Epoch  164 , loss 0.37562862915151257\n"
     ]
    },
    {
     "name": "stderr",
     "output_type": "stream",
     "text": [
      "\r",
      "Iterations:  55%|██████████████████▏              | 165/300 [03:13<02:38,  1.18s/it]"
     ]
    },
    {
     "name": "stdout",
     "output_type": "stream",
     "text": [
      "Epoch:  164\n",
      "t_loss:  0.37562862915151257 , v_loss:  0.5407960116863251\n",
      "t_acc:  0.7354497354497355 , v_acc:  0.782608695652174\n",
      "t_recall:  0.5783786936770015 , v_recall:  0.6664864864864866\n",
      "t_prec:  0.7623983397405462 , v_prec:  0.8142857142857143\n",
      "t_f:  0.5633868791446313 , v_f:  0.6838000112227147\n",
      "////////\n"
     ]
    },
    {
     "name": "stderr",
     "output_type": "stream",
     "text": [
      "\r",
      "Iterations:  55%|██████████████████▎              | 166/300 [03:14<02:22,  1.06s/it]"
     ]
    },
    {
     "name": "stdout",
     "output_type": "stream",
     "text": [
      "Epoch  165 , loss 0.37572865217339757\n",
      "Epoch  166 , loss 0.37089859679633497\n"
     ]
    },
    {
     "name": "stderr",
     "output_type": "stream",
     "text": [
      "\r",
      "Iterations:  56%|██████████████████▎              | 167/300 [03:15<02:40,  1.20s/it]"
     ]
    },
    {
     "name": "stdout",
     "output_type": "stream",
     "text": [
      "Epoch:  166\n",
      "t_loss:  0.37089859679633497 , v_loss:  0.5402558495601019\n",
      "t_acc:  0.7394957983193278 , v_acc:  0.7888198757763976\n",
      "t_recall:  0.5835872414597658 , v_recall:  0.670990990990991\n",
      "t_prec:  0.7763137597696421 , v_prec:  0.8365248226950355\n",
      "t_f:  0.5708940857384981 , v_f:  0.6896825396825397\n",
      "////////\n"
     ]
    },
    {
     "name": "stderr",
     "output_type": "stream",
     "text": [
      "\r",
      "Iterations:  56%|██████████████████▍              | 168/300 [03:16<02:22,  1.08s/it]"
     ]
    },
    {
     "name": "stdout",
     "output_type": "stream",
     "text": [
      "Epoch  167 , loss 0.37581324869511173\n",
      "Epoch  168 , loss 0.36809031227055716\n"
     ]
    },
    {
     "name": "stderr",
     "output_type": "stream",
     "text": [
      "\r",
      "Iterations:  56%|██████████████████▌              | 169/300 [03:17<02:36,  1.19s/it]"
     ]
    },
    {
     "name": "stdout",
     "output_type": "stream",
     "text": [
      "Epoch:  168\n",
      "t_loss:  0.36809031227055716 , v_loss:  0.5404398143291473\n",
      "t_acc:  0.7351384998443822 , v_acc:  0.7763975155279503\n",
      "t_recall:  0.5784425138276993 , v_recall:  0.6564864864864866\n",
      "t_prec:  0.7593068696009873 , v_prec:  0.8079787234042553\n",
      "t_f:  0.5637166869336462 , v_f:  0.6714285714285715\n",
      "////////\n"
     ]
    },
    {
     "name": "stderr",
     "output_type": "stream",
     "text": [
      "\r",
      "Iterations:  57%|██████████████████▋              | 170/300 [03:18<02:30,  1.16s/it]"
     ]
    },
    {
     "name": "stdout",
     "output_type": "stream",
     "text": [
      "Epoch  169 , loss 0.37023697150688545\n",
      "Epoch  170 , loss 0.3665323476581013\n"
     ]
    },
    {
     "name": "stderr",
     "output_type": "stream",
     "text": [
      "\r",
      "Iterations:  57%|██████████████████▊              | 171/300 [03:20<02:32,  1.18s/it]"
     ]
    },
    {
     "name": "stdout",
     "output_type": "stream",
     "text": [
      "Epoch:  170\n",
      "t_loss:  0.3665323476581013 , v_loss:  0.5357757012049357\n",
      "t_acc:  0.7444755680049797 , v_acc:  0.782608695652174\n",
      "t_recall:  0.5917672005599703 , v_recall:  0.6664864864864866\n",
      "t_prec:  0.7843954164965292 , v_prec:  0.8142857142857143\n",
      "t_f:  0.5833642508369048 , v_f:  0.6838000112227147\n",
      "////////\n"
     ]
    },
    {
     "name": "stderr",
     "output_type": "stream",
     "text": [
      "\r",
      "Iterations:  57%|██████████████████▉              | 172/300 [03:21<02:27,  1.15s/it]"
     ]
    },
    {
     "name": "stdout",
     "output_type": "stream",
     "text": [
      "Epoch  171 , loss 0.3715530002818388\n",
      "Epoch  172 , loss 0.3662444119359933\n"
     ]
    },
    {
     "name": "stderr",
     "output_type": "stream",
     "text": [
      "\r",
      "Iterations:  58%|███████████████████              | 173/300 [03:22<02:29,  1.18s/it]"
     ]
    },
    {
     "name": "stdout",
     "output_type": "stream",
     "text": [
      "Epoch:  172\n",
      "t_loss:  0.3662444119359933 , v_loss:  0.5354361683130264\n",
      "t_acc:  0.7388733271086212 , v_acc:  0.7888198757763976\n",
      "t_recall:  0.5874528211251562 , v_recall:  0.6764864864864866\n",
      "t_prec:  0.7552571840615319 , v_prec:  0.8203073904512754\n",
      "t_f:  0.5784694243746525 , v_f:  0.695888888888889\n",
      "////////\n"
     ]
    },
    {
     "name": "stderr",
     "output_type": "stream",
     "text": [
      "\r",
      "Iterations:  58%|███████████████████▏             | 174/300 [03:23<02:20,  1.11s/it]"
     ]
    },
    {
     "name": "stdout",
     "output_type": "stream",
     "text": [
      "Epoch  173 , loss 0.37174296437525284\n",
      "Epoch  174 , loss 0.36673156712569444\n"
     ]
    },
    {
     "name": "stderr",
     "output_type": "stream",
     "text": [
      "\r",
      "Iterations:  58%|███████████████████▎             | 175/300 [03:24<02:25,  1.16s/it]"
     ]
    },
    {
     "name": "stdout",
     "output_type": "stream",
     "text": [
      "Epoch:  174\n",
      "t_loss:  0.36673156712569444 , v_loss:  0.5405079374710718\n",
      "t_acc:  0.7429193899782135 , v_acc:  0.7763975155279503\n",
      "t_recall:  0.5915112337189992 , v_recall:  0.6564864864864866\n",
      "t_prec:  0.7720285045966382 , v_prec:  0.8079787234042553\n",
      "t_f:  0.5837090601079181 , v_f:  0.6714285714285715\n",
      "////////\n"
     ]
    },
    {
     "name": "stderr",
     "output_type": "stream",
     "text": [
      "\r",
      "Iterations:  59%|███████████████████▎             | 176/300 [03:25<02:12,  1.06s/it]"
     ]
    },
    {
     "name": "stdout",
     "output_type": "stream",
     "text": [
      "Epoch  175 , loss 0.369759218657718\n",
      "Epoch  176 , loss 0.3665211939928578\n"
     ]
    },
    {
     "name": "stderr",
     "output_type": "stream",
     "text": [
      "\r",
      "Iterations:  59%|███████████████████▍             | 177/300 [03:26<02:21,  1.15s/it]"
     ]
    },
    {
     "name": "stdout",
     "output_type": "stream",
     "text": [
      "Epoch:  176\n",
      "t_loss:  0.3665211939928578 , v_loss:  0.536983589331309\n",
      "t_acc:  0.7444755680049797 , v_acc:  0.7763975155279503\n",
      "t_recall:  0.5978054103018076 , v_recall:  0.6564864864864866\n",
      "t_prec:  0.7611649844976582 , v_prec:  0.8079787234042553\n",
      "t_f:  0.594013051000295 , v_f:  0.6714285714285715\n",
      "////////\n"
     ]
    },
    {
     "name": "stderr",
     "output_type": "stream",
     "text": [
      "\r",
      "Iterations:  59%|███████████████████▌             | 178/300 [03:27<02:08,  1.06s/it]"
     ]
    },
    {
     "name": "stdout",
     "output_type": "stream",
     "text": [
      "Epoch  177 , loss 0.3623645130325766\n",
      "Epoch  178 , loss 0.3693270811847612\n"
     ]
    },
    {
     "name": "stderr",
     "output_type": "stream",
     "text": [
      "\r",
      "Iterations:  60%|███████████████████▋             | 179/300 [03:29<02:18,  1.14s/it]"
     ]
    },
    {
     "name": "stdout",
     "output_type": "stream",
     "text": [
      "Epoch:  178\n",
      "t_loss:  0.3693270811847612 , v_loss:  0.5363241781791052\n",
      "t_acc:  0.742296918767507 , v_acc:  0.782608695652174\n",
      "t_recall:  0.5896261374397826 , v_recall:  0.6664864864864866\n",
      "t_prec:  0.7745648335015136 , v_prec:  0.8142857142857143\n",
      "t_f:  0.580605434609884 , v_f:  0.6838000112227147\n",
      "////////\n"
     ]
    },
    {
     "name": "stderr",
     "output_type": "stream",
     "text": [
      "\r",
      "Iterations:  60%|███████████████████▊             | 180/300 [03:29<02:06,  1.05s/it]"
     ]
    },
    {
     "name": "stdout",
     "output_type": "stream",
     "text": [
      "Epoch  179 , loss 0.36755150322820623\n",
      "Epoch  180 , loss 0.3626404059868233\n"
     ]
    },
    {
     "name": "stderr",
     "output_type": "stream",
     "text": [
      "\r",
      "Iterations:  60%|███████████████████▉             | 181/300 [03:31<02:15,  1.14s/it]"
     ]
    },
    {
     "name": "stdout",
     "output_type": "stream",
     "text": [
      "Epoch:  180\n",
      "t_loss:  0.3626404059868233 , v_loss:  0.5396289130051931\n",
      "t_acc:  0.7494553376906318 , v_acc:  0.782608695652174\n",
      "t_recall:  0.6013848286463266 , v_recall:  0.6664864864864866\n",
      "t_prec:  0.7856351098794869 , v_prec:  0.8142857142857143\n",
      "t_f:  0.5980370140420865 , v_f:  0.6838000112227147\n",
      "////////\n"
     ]
    },
    {
     "name": "stderr",
     "output_type": "stream",
     "text": [
      "\r",
      "Iterations:  61%|████████████████████             | 182/300 [03:32<02:05,  1.06s/it]"
     ]
    },
    {
     "name": "stdout",
     "output_type": "stream",
     "text": [
      "Epoch  181 , loss 0.36399632400157406\n",
      "Epoch  182 , loss 0.36508479334560096\n"
     ]
    },
    {
     "name": "stderr",
     "output_type": "stream",
     "text": [
      "\r",
      "Iterations:  61%|████████████████████▏            | 183/300 [03:33<02:16,  1.16s/it]"
     ]
    },
    {
     "name": "stdout",
     "output_type": "stream",
     "text": [
      "Epoch:  182\n",
      "t_loss:  0.36508479334560096 , v_loss:  0.539625441034635\n",
      "t_acc:  0.7407407407407407 , v_acc:  0.782608695652174\n",
      "t_recall:  0.5890826368015811 , v_recall:  0.6664864864864866\n",
      "t_prec:  0.7638346909906834 , v_prec:  0.8142857142857143\n",
      "t_f:  0.5804426373136455 , v_f:  0.6838000112227147\n",
      "////////\n"
     ]
    },
    {
     "name": "stderr",
     "output_type": "stream",
     "text": [
      "\r",
      "Iterations:  61%|████████████████████▏            | 184/300 [03:34<02:07,  1.10s/it]"
     ]
    },
    {
     "name": "stdout",
     "output_type": "stream",
     "text": [
      "Epoch  183 , loss 0.35940038339764463\n",
      "Epoch  184 , loss 0.3594608020548727\n"
     ]
    },
    {
     "name": "stderr",
     "output_type": "stream",
     "text": [
      "\r",
      "Iterations:  62%|████████████████████▎            | 185/300 [03:35<02:14,  1.17s/it]"
     ]
    },
    {
     "name": "stdout",
     "output_type": "stream",
     "text": [
      "Epoch:  184\n",
      "t_loss:  0.3594608020548727 , v_loss:  0.535651241739591\n",
      "t_acc:  0.7519452225334579 , v_acc:  0.782608695652174\n",
      "t_recall:  0.6043246730075075 , v_recall:  0.6664864864864866\n",
      "t_prec:  0.7939176387188245 , v_prec:  0.8142857142857143\n",
      "t_f:  0.6020316772565752 , v_f:  0.6838000112227147\n",
      "////////\n"
     ]
    },
    {
     "name": "stderr",
     "output_type": "stream",
     "text": [
      "\r",
      "Iterations:  62%|████████████████████▍            | 186/300 [03:36<02:09,  1.14s/it]"
     ]
    },
    {
     "name": "stdout",
     "output_type": "stream",
     "text": [
      "Epoch  185 , loss 0.36898156533054277\n",
      "Epoch  186 , loss 0.3583611390169929\n"
     ]
    },
    {
     "name": "stderr",
     "output_type": "stream",
     "text": [
      "\r",
      "Iterations:  62%|████████████████████▌            | 187/300 [03:38<02:18,  1.23s/it]"
     ]
    },
    {
     "name": "stdout",
     "output_type": "stream",
     "text": [
      "Epoch:  186\n",
      "t_loss:  0.3583611390169929 , v_loss:  0.5343322704235712\n",
      "t_acc:  0.7547463429816371 , v_acc:  0.7763975155279503\n",
      "t_recall:  0.6086383662041421 , v_recall:  0.661981981981982\n",
      "t_prec:  0.7988447162759089 , v_prec:  0.7939829954218444\n",
      "t_f:  0.6082037169088154 , v_f:  0.6779999999999999\n",
      "////////\n"
     ]
    },
    {
     "name": "stderr",
     "output_type": "stream",
     "text": [
      "\r",
      "Iterations:  63%|████████████████████▋            | 188/300 [03:39<02:11,  1.18s/it]"
     ]
    },
    {
     "name": "stdout",
     "output_type": "stream",
     "text": [
      "Epoch  187 , loss 0.35470900290152607\n",
      "Epoch  188 , loss 0.36338087332014946\n"
     ]
    },
    {
     "name": "stderr",
     "output_type": "stream",
     "text": [
      "\r",
      "Iterations:  63%|████████████████████▊            | 189/300 [03:40<02:19,  1.26s/it]"
     ]
    },
    {
     "name": "stdout",
     "output_type": "stream",
     "text": [
      "Epoch:  188\n",
      "t_loss:  0.36338087332014946 , v_loss:  0.5368240674336752\n",
      "t_acc:  0.7497665732959851 , v_acc:  0.782608695652174\n",
      "t_recall:  0.601608542292859 , v_recall:  0.6664864864864866\n",
      "t_prec:  0.7872606258455537 , v_prec:  0.8142857142857143\n",
      "t_f:  0.598290061331376 , v_f:  0.6838000112227147\n",
      "////////\n"
     ]
    },
    {
     "name": "stderr",
     "output_type": "stream",
     "text": [
      "\r",
      "Iterations:  63%|████████████████████▉            | 190/300 [03:41<02:12,  1.21s/it]"
     ]
    },
    {
     "name": "stdout",
     "output_type": "stream",
     "text": [
      "Epoch  189 , loss 0.3625400276745067\n",
      "Epoch  190 , loss 0.35197954055141\n"
     ]
    },
    {
     "name": "stderr",
     "output_type": "stream",
     "text": [
      "\r",
      "Iterations:  64%|█████████████████████            | 191/300 [03:43<02:21,  1.29s/it]"
     ]
    },
    {
     "name": "stdout",
     "output_type": "stream",
     "text": [
      "Epoch:  190\n",
      "t_loss:  0.35197954055141 , v_loss:  0.5341850171486536\n",
      "t_acc:  0.7584811702458761 , v_acc:  0.782608695652174\n",
      "t_recall:  0.6156359369209865 , v_recall:  0.671981981981982\n",
      "t_prec:  0.8000480769230769 , v_prec:  0.8007246376811594\n",
      "t_f:  0.6183291083434366 , v_f:  0.6899928481047477\n",
      "////////\n"
     ]
    },
    {
     "name": "stderr",
     "output_type": "stream",
     "text": [
      "\r",
      "Iterations:  64%|█████████████████████            | 192/300 [03:44<02:13,  1.24s/it]"
     ]
    },
    {
     "name": "stdout",
     "output_type": "stream",
     "text": [
      "Epoch  191 , loss 0.35461315220477535\n",
      "Epoch  192 , loss 0.350135200456077\n"
     ]
    },
    {
     "name": "stderr",
     "output_type": "stream",
     "text": [
      "\r",
      "Iterations:  64%|█████████████████████▏           | 193/300 [03:46<02:20,  1.32s/it]"
     ]
    },
    {
     "name": "stdout",
     "output_type": "stream",
     "text": [
      "Epoch:  192\n",
      "t_loss:  0.350135200456077 , v_loss:  0.5397434035936991\n",
      "t_acc:  0.7550575785869903 , v_acc:  0.7763975155279503\n",
      "t_recall:  0.611737417822978 , v_recall:  0.6674774774774774\n",
      "t_prec:  0.7890279230707331 , v_prec:  0.7826946472019465\n",
      "t_f:  0.6131493640358158 , v_f:  0.6841761115954664\n",
      "////////\n"
     ]
    },
    {
     "name": "stderr",
     "output_type": "stream",
     "text": [
      "\r",
      "Iterations:  65%|█████████████████████▎           | 194/300 [03:47<02:10,  1.23s/it]"
     ]
    },
    {
     "name": "stdout",
     "output_type": "stream",
     "text": [
      "Epoch  193 , loss 0.3578382245465821\n",
      "Epoch  194 , loss 0.3576068623977549\n"
     ]
    },
    {
     "name": "stderr",
     "output_type": "stream",
     "text": [
      "\r",
      "Iterations:  65%|█████████████████████▍           | 195/300 [03:48<02:14,  1.28s/it]"
     ]
    },
    {
     "name": "stdout",
     "output_type": "stream",
     "text": [
      "Epoch:  194\n",
      "t_loss:  0.3576068623977549 , v_loss:  0.5389248679081599\n",
      "t_acc:  0.7559912854030502 , v_acc:  0.782608695652174\n",
      "t_recall:  0.6144212953431878 , v_recall:  0.671981981981982\n",
      "t_prec:  0.7861946446961895 , v_prec:  0.8007246376811594\n",
      "t_f:  0.6171246593781805 , v_f:  0.6899928481047477\n",
      "////////\n"
     ]
    },
    {
     "name": "stderr",
     "output_type": "stream",
     "text": [
      "\r",
      "Iterations:  65%|█████████████████████▌           | 196/300 [03:49<01:59,  1.15s/it]"
     ]
    },
    {
     "name": "stdout",
     "output_type": "stream",
     "text": [
      "Epoch  195 , loss 0.3612896262430677\n",
      "Epoch  196 , loss 0.3551005554549834\n"
     ]
    },
    {
     "name": "stderr",
     "output_type": "stream",
     "text": [
      "\r",
      "Iterations:  66%|█████████████████████▋           | 197/300 [03:50<02:02,  1.19s/it]"
     ]
    },
    {
     "name": "stdout",
     "output_type": "stream",
     "text": [
      "Epoch:  196\n",
      "t_loss:  0.3551005554549834 , v_loss:  0.5371027489503225\n",
      "t_acc:  0.7538126361655774 , v_acc:  0.782608695652174\n",
      "t_recall:  0.612280232223 , v_recall:  0.671981981981982\n",
      "t_prec:  0.7783454118607738 , v_prec:  0.8007246376811594\n",
      "t_f:  0.6143860823017733 , v_f:  0.6899928481047477\n",
      "////////\n"
     ]
    },
    {
     "name": "stderr",
     "output_type": "stream",
     "text": [
      "\r",
      "Iterations:  66%|█████████████████████▊           | 198/300 [03:51<01:50,  1.08s/it]"
     ]
    },
    {
     "name": "stdout",
     "output_type": "stream",
     "text": [
      "Epoch  197 , loss 0.3524642329589993\n",
      "Epoch  198 , loss 0.3581515912916146\n"
     ]
    },
    {
     "name": "stderr",
     "output_type": "stream",
     "text": [
      "\r",
      "Iterations:  66%|█████████████████████▉           | 199/300 [03:52<02:00,  1.19s/it]"
     ]
    },
    {
     "name": "stdout",
     "output_type": "stream",
     "text": [
      "Epoch:  198\n",
      "t_loss:  0.3581515912916146 , v_loss:  0.5340395818154017\n",
      "t_acc:  0.7531901649548708 , v_acc:  0.7888198757763976\n",
      "t_recall:  0.6126954063216261 , v_recall:  0.681981981981982\n",
      "t_prec:  0.7729384990061184 , v_prec:  0.8071776155717763\n",
      "t_f:  0.6152120796309891 , v_f:  0.7017218831734962\n",
      "////////\n"
     ]
    },
    {
     "name": "stderr",
     "output_type": "stream",
     "text": [
      "\r",
      "Iterations:  67%|██████████████████████           | 200/300 [03:53<01:47,  1.07s/it]"
     ]
    },
    {
     "name": "stdout",
     "output_type": "stream",
     "text": [
      "Epoch  199 , loss 0.35032351899380776\n",
      "Epoch  200 , loss 0.35629333292736726\n"
     ]
    },
    {
     "name": "stderr",
     "output_type": "stream",
     "text": [
      "\r",
      "Iterations:  67%|██████████████████████           | 201/300 [03:55<01:58,  1.20s/it]"
     ]
    },
    {
     "name": "stdout",
     "output_type": "stream",
     "text": [
      "Epoch:  200\n",
      "t_loss:  0.35629333292736726 , v_loss:  0.5332444657882055\n",
      "t_acc:  0.7581699346405228 , v_acc:  0.782608695652174\n",
      "t_recall:  0.6180000274495272 , v_recall:  0.671981981981982\n",
      "t_prec:  0.7891109262875193 , v_prec:  0.8007246376811594\n",
      "t_f:  0.6220964141936685 , v_f:  0.6899928481047477\n",
      "////////\n"
     ]
    },
    {
     "name": "stderr",
     "output_type": "stream",
     "text": [
      "\r",
      "Iterations:  67%|██████████████████████▏          | 202/300 [03:56<01:45,  1.08s/it]"
     ]
    },
    {
     "name": "stdout",
     "output_type": "stream",
     "text": [
      "Epoch  201 , loss 0.3565218805098066\n",
      "Epoch  202 , loss 0.35407879072077136\n"
     ]
    },
    {
     "name": "stderr",
     "output_type": "stream",
     "text": [
      "\r",
      "Iterations:  68%|██████████████████████▎          | 203/300 [03:57<01:58,  1.22s/it]"
     ]
    },
    {
     "name": "stdout",
     "output_type": "stream",
     "text": [
      "Epoch:  202\n",
      "t_loss:  0.35407879072077136 , v_loss:  0.539805456995964\n",
      "t_acc:  0.7566137566137566 , v_acc:  0.7888198757763976\n",
      "t_recall:  0.6154437902307133 , v_recall:  0.6764864864864866\n",
      "t_prec:  0.7870369527778852 , v_prec:  0.8203073904512754\n",
      "t_f:  0.6185499052662262 , v_f:  0.695888888888889\n",
      "////////\n"
     ]
    },
    {
     "name": "stderr",
     "output_type": "stream",
     "text": [
      "\r",
      "Iterations:  68%|██████████████████████▍          | 204/300 [03:58<01:45,  1.10s/it]"
     ]
    },
    {
     "name": "stdout",
     "output_type": "stream",
     "text": [
      "Epoch  203 , loss 0.348349904312807\n",
      "Epoch  204 , loss 0.35880762864561644\n"
     ]
    },
    {
     "name": "stderr",
     "output_type": "stream",
     "text": [
      "\r",
      "Iterations:  68%|██████████████████████▌          | 205/300 [03:59<01:52,  1.19s/it]"
     ]
    },
    {
     "name": "stdout",
     "output_type": "stream",
     "text": [
      "Epoch:  204\n",
      "t_loss:  0.35880762864561644 , v_loss:  0.5369960566361746\n",
      "t_acc:  0.7581699346405228 , v_acc:  0.782608695652174\n",
      "t_recall:  0.6200127640301396 , v_recall:  0.671981981981982\n",
      "t_prec:  0.7825794004731066 , v_prec:  0.8007246376811594\n",
      "t_f:  0.625148480331677 , v_f:  0.6899928481047477\n",
      "////////\n"
     ]
    },
    {
     "name": "stderr",
     "output_type": "stream",
     "text": [
      "\r",
      "Iterations:  69%|██████████████████████▋          | 206/300 [04:00<01:46,  1.13s/it]"
     ]
    },
    {
     "name": "stdout",
     "output_type": "stream",
     "text": [
      "Epoch  205 , loss 0.3465939900454353\n",
      "Epoch  206 , loss 0.34652024799702213\n"
     ]
    },
    {
     "name": "stderr",
     "output_type": "stream",
     "text": [
      "\r",
      "Iterations:  69%|██████████████████████▊          | 207/300 [04:02<01:48,  1.17s/it]"
     ]
    },
    {
     "name": "stdout",
     "output_type": "stream",
     "text": [
      "Epoch:  206\n",
      "t_loss:  0.34652024799702213 , v_loss:  0.5407249381144842\n",
      "t_acc:  0.7569249922191099 , v_acc:  0.7763975155279503\n",
      "t_recall:  0.6130796997021726 , v_recall:  0.6674774774774774\n",
      "t_prec:  0.7980897019983357 , v_prec:  0.7826946472019465\n",
      "t_f:  0.6147201048968496 , v_f:  0.6841761115954664\n",
      "////////\n"
     ]
    },
    {
     "name": "stderr",
     "output_type": "stream",
     "text": [
      "\r",
      "Iterations:  69%|██████████████████████▉          | 208/300 [04:03<01:47,  1.17s/it]"
     ]
    },
    {
     "name": "stdout",
     "output_type": "stream",
     "text": [
      "Epoch  207 , loss 0.3502907513403425\n",
      "Epoch  208 , loss 0.3510318448146184\n"
     ]
    },
    {
     "name": "stderr",
     "output_type": "stream",
     "text": [
      "\r",
      "Iterations:  70%|██████████████████████▉          | 209/300 [04:04<01:49,  1.20s/it]"
     ]
    },
    {
     "name": "stdout",
     "output_type": "stream",
     "text": [
      "Epoch:  208\n",
      "t_loss:  0.3510318448146184 , v_loss:  0.5396984616915385\n",
      "t_acc:  0.7600373482726424 , v_acc:  0.782608695652174\n",
      "t_recall:  0.6239428500844073 , v_recall:  0.671981981981982\n",
      "t_prec:  0.7824887387387387 , v_prec:  0.8007246376811594\n",
      "t_f:  0.630583087835616 , v_f:  0.6899928481047477\n",
      "////////\n"
     ]
    },
    {
     "name": "stderr",
     "output_type": "stream",
     "text": [
      "\r",
      "Iterations:  70%|███████████████████████          | 210/300 [04:05<01:40,  1.12s/it]"
     ]
    },
    {
     "name": "stdout",
     "output_type": "stream",
     "text": [
      "Epoch  209 , loss 0.3538508771681318\n",
      "Epoch  210 , loss 0.3494001127341214\n"
     ]
    },
    {
     "name": "stderr",
     "output_type": "stream",
     "text": [
      "\r",
      "Iterations:  70%|███████████████████████▏         | 211/300 [04:06<01:43,  1.17s/it]"
     ]
    },
    {
     "name": "stdout",
     "output_type": "stream",
     "text": [
      "Epoch:  210\n",
      "t_loss:  0.3494001127341214 , v_loss:  0.5405820508797964\n",
      "t_acc:  0.7612822906940554 , v_acc:  0.7763975155279503\n",
      "t_recall:  0.6219623666982337 , v_recall:  0.6674774774774774\n",
      "t_prec:  0.797089384578352 , v_prec:  0.7826946472019465\n",
      "t_f:  0.6273947885156292 , v_f:  0.6841761115954664\n",
      "////////\n"
     ]
    },
    {
     "name": "stderr",
     "output_type": "stream",
     "text": [
      "\r",
      "Iterations:  71%|███████████████████████▎         | 212/300 [04:07<01:33,  1.06s/it]"
     ]
    },
    {
     "name": "stdout",
     "output_type": "stream",
     "text": [
      "Epoch  211 , loss 0.35316451449020236\n",
      "Epoch  212 , loss 0.3496077157118741\n"
     ]
    },
    {
     "name": "stderr",
     "output_type": "stream",
     "text": [
      "\r",
      "Iterations:  71%|███████████████████████▍         | 213/300 [04:08<01:40,  1.15s/it]"
     ]
    },
    {
     "name": "stdout",
     "output_type": "stream",
     "text": [
      "Epoch:  212\n",
      "t_loss:  0.3496077157118741 , v_loss:  0.544183204571406\n",
      "t_acc:  0.7615935262994087 , v_acc:  0.7763975155279503\n",
      "t_recall:  0.6256364859115302 , v_recall:  0.672972972972973\n",
      "t_prec:  0.7871116538350555 , v_prec:  0.7735042735042735\n",
      "t_f:  0.6327704134312948 , v_f:  0.689987163029525\n",
      "////////\n"
     ]
    },
    {
     "name": "stderr",
     "output_type": "stream",
     "text": [
      "\r",
      "Iterations:  71%|███████████████████████▌         | 214/300 [04:09<01:33,  1.08s/it]"
     ]
    },
    {
     "name": "stdout",
     "output_type": "stream",
     "text": [
      "Epoch  213 , loss 0.35629647210532545\n",
      "Epoch  214 , loss 0.34594304362932843\n"
     ]
    },
    {
     "name": "stderr",
     "output_type": "stream",
     "text": [
      "\r",
      "Iterations:  72%|███████████████████████▋         | 215/300 [04:11<01:38,  1.16s/it]"
     ]
    },
    {
     "name": "stdout",
     "output_type": "stream",
     "text": [
      "Epoch:  214\n",
      "t_loss:  0.34594304362932843 , v_loss:  0.5400996655225754\n",
      "t_acc:  0.7690631808278867 , v_acc:  0.7763975155279503\n",
      "t_recall:  0.6347435527923031 , v_recall:  0.6674774774774774\n",
      "t_prec:  0.8062924169029083 , v_prec:  0.7826946472019465\n",
      "t_f:  0.6446796574682603 , v_f:  0.6841761115954664\n",
      "////////\n"
     ]
    },
    {
     "name": "stderr",
     "output_type": "stream",
     "text": [
      "\r",
      "Iterations:  72%|███████████████████████▊         | 216/300 [04:12<01:34,  1.13s/it]"
     ]
    },
    {
     "name": "stdout",
     "output_type": "stream",
     "text": [
      "Epoch  215 , loss 0.3482625513684516\n",
      "Epoch  216 , loss 0.33875037846611994\n"
     ]
    },
    {
     "name": "stderr",
     "output_type": "stream",
     "text": [
      "\r",
      "Iterations:  72%|███████████████████████▊         | 217/300 [04:13<01:38,  1.18s/it]"
     ]
    },
    {
     "name": "stdout",
     "output_type": "stream",
     "text": [
      "Epoch:  216\n",
      "t_loss:  0.33875037846611994 , v_loss:  0.5399334132671356\n",
      "t_acc:  0.7706193588546529 , v_acc:  0.7763975155279503\n",
      "t_recall:  0.6358621210249653 , v_recall:  0.6674774774774774\n",
      "t_prec:  0.8129850680201847 , v_prec:  0.7826946472019465\n",
      "t_f:  0.6460699020541412 , v_f:  0.6841761115954664\n",
      "////////\n"
     ]
    },
    {
     "name": "stderr",
     "output_type": "stream",
     "text": [
      "\r",
      "Iterations:  73%|███████████████████████▉         | 218/300 [04:14<01:33,  1.14s/it]"
     ]
    },
    {
     "name": "stdout",
     "output_type": "stream",
     "text": [
      "Epoch  217 , loss 0.3440387523641773\n",
      "Epoch  218 , loss 0.34797990964908226\n"
     ]
    },
    {
     "name": "stderr",
     "output_type": "stream",
     "text": [
      "\r",
      "Iterations:  73%|████████████████████████         | 219/300 [04:15<01:38,  1.21s/it]"
     ]
    },
    {
     "name": "stdout",
     "output_type": "stream",
     "text": [
      "Epoch:  218\n",
      "t_loss:  0.34797990964908226 , v_loss:  0.5403430660565695\n",
      "t_acc:  0.7619047619047619 , v_acc:  0.7763975155279503\n",
      "t_recall:  0.6218347263968378 , v_recall:  0.6674774774774774\n",
      "t_prec:  0.8020312340512401 , v_prec:  0.7826946472019465\n",
      "t_f:  0.6270611289012091 , v_f:  0.6841761115954664\n",
      "////////\n"
     ]
    },
    {
     "name": "stderr",
     "output_type": "stream",
     "text": [
      "\r",
      "Iterations:  73%|████████████████████████▏        | 220/300 [04:17<01:34,  1.18s/it]"
     ]
    },
    {
     "name": "stdout",
     "output_type": "stream",
     "text": [
      "Epoch  219 , loss 0.3423480593106326\n",
      "Epoch  220 , loss 0.3550282117782855\n"
     ]
    },
    {
     "name": "stderr",
     "output_type": "stream",
     "text": [
      "\r",
      "Iterations:  74%|████████████████████████▎        | 221/300 [04:18<01:39,  1.27s/it]"
     ]
    },
    {
     "name": "stdout",
     "output_type": "stream",
     "text": [
      "Epoch:  220\n",
      "t_loss:  0.3550282117782855 , v_loss:  0.5451789200305939\n",
      "t_acc:  0.7600373482726424 , v_acc:  0.782608695652174\n",
      "t_recall:  0.6222176473010252 , v_recall:  0.6774774774774774\n",
      "t_prec:  0.7877709698685385 , v_prec:  0.7897058823529413\n",
      "t_f:  0.6280430866611622 , v_f:  0.6958164642375169\n",
      "////////\n"
     ]
    },
    {
     "name": "stderr",
     "output_type": "stream",
     "text": [
      "\r",
      "Iterations:  74%|████████████████████████▍        | 222/300 [04:19<01:36,  1.23s/it]"
     ]
    },
    {
     "name": "stdout",
     "output_type": "stream",
     "text": [
      "Epoch  221 , loss 0.3392084410377577\n",
      "Epoch  222 , loss 0.337709873622539\n"
     ]
    },
    {
     "name": "stderr",
     "output_type": "stream",
     "text": [
      "\r",
      "Iterations:  74%|████████████████████████▌        | 223/300 [04:21<01:39,  1.29s/it]"
     ]
    },
    {
     "name": "stdout",
     "output_type": "stream",
     "text": [
      "Epoch:  222\n",
      "t_loss:  0.337709873622539 , v_loss:  0.5509742349386215\n",
      "t_acc:  0.7687519452225334 , v_acc:  0.782608695652174\n",
      "t_recall:  0.6365325757263831 , v_recall:  0.6774774774774774\n",
      "t_prec:  0.7985755390501192 , v_prec:  0.7897058823529413\n",
      "t_f:  0.6471877917460358 , v_f:  0.6958164642375169\n",
      "////////\n"
     ]
    },
    {
     "name": "stderr",
     "output_type": "stream",
     "text": [
      "\r",
      "Iterations:  75%|████████████████████████▋        | 224/300 [04:22<01:32,  1.22s/it]"
     ]
    },
    {
     "name": "stdout",
     "output_type": "stream",
     "text": [
      "Epoch  223 , loss 0.34072117273714025\n",
      "Epoch  224 , loss 0.34557952366623224\n"
     ]
    },
    {
     "name": "stderr",
     "output_type": "stream",
     "text": [
      "\r",
      "Iterations:  75%|████████████████████████▊        | 225/300 [04:23<01:35,  1.27s/it]"
     ]
    },
    {
     "name": "stdout",
     "output_type": "stream",
     "text": [
      "Epoch:  224\n",
      "t_loss:  0.34557952366623224 , v_loss:  0.5460488498210907\n",
      "t_acc:  0.7671957671957672 , v_acc:  0.782608695652174\n",
      "t_recall:  0.6328262033186478 , v_recall:  0.6774774774774774\n",
      "t_prec:  0.8003454118873827 , v_prec:  0.7897058823529413\n",
      "t_f:  0.6422117177953566 , v_f:  0.6958164642375169\n",
      "////////\n"
     ]
    },
    {
     "name": "stderr",
     "output_type": "stream",
     "text": [
      "\r",
      "Iterations:  75%|████████████████████████▊        | 226/300 [04:24<01:26,  1.16s/it]"
     ]
    },
    {
     "name": "stdout",
     "output_type": "stream",
     "text": [
      "Epoch  225 , loss 0.34528589044131486\n",
      "Epoch  226 , loss 0.3412526363835615\n"
     ]
    },
    {
     "name": "stderr",
     "output_type": "stream",
     "text": [
      "\r",
      "Iterations:  76%|████████████████████████▉        | 227/300 [04:25<01:27,  1.20s/it]"
     ]
    },
    {
     "name": "stdout",
     "output_type": "stream",
     "text": [
      "Epoch:  226\n",
      "t_loss:  0.3412526363835615 , v_loss:  0.5488653182983398\n",
      "t_acc:  0.765639589169001 , v_acc:  0.782608695652174\n",
      "t_recall:  0.6302699660998339 , v_recall:  0.6774774774774774\n",
      "t_prec:  0.7984961349851458 , v_prec:  0.7897058823529413\n",
      "t_f:  0.638797590917974 , v_f:  0.6958164642375169\n",
      "////////\n"
     ]
    },
    {
     "name": "stderr",
     "output_type": "stream",
     "text": [
      "\r",
      "Iterations:  76%|█████████████████████████        | 228/300 [04:26<01:20,  1.12s/it]"
     ]
    },
    {
     "name": "stdout",
     "output_type": "stream",
     "text": [
      "Epoch  227 , loss 0.34250544332990457\n",
      "Epoch  228 , loss 0.33083587329761655\n"
     ]
    },
    {
     "name": "stderr",
     "output_type": "stream",
     "text": [
      "\r",
      "Iterations:  76%|█████████████████████████▏       | 229/300 [04:27<01:22,  1.17s/it]"
     ]
    },
    {
     "name": "stdout",
     "output_type": "stream",
     "text": [
      "Epoch:  228\n",
      "t_loss:  0.33083587329761655 , v_loss:  0.5441224426031113\n",
      "t_acc:  0.7812013694366635 , v_acc:  0.7888198757763976\n",
      "t_recall:  0.6558323382879729 , v_recall:  0.6874774774774774\n",
      "t_prec:  0.8156863072200721 , v_prec:  0.7964387464387465\n",
      "t_f:  0.671983500562659 , v_f:  0.7072100984167737\n",
      "////////\n"
     ]
    },
    {
     "name": "stderr",
     "output_type": "stream",
     "text": [
      "\r",
      "Iterations:  77%|█████████████████████████▎       | 230/300 [04:28<01:15,  1.08s/it]"
     ]
    },
    {
     "name": "stdout",
     "output_type": "stream",
     "text": [
      "Epoch  229 , loss 0.3363061649542229\n",
      "Epoch  230 , loss 0.3397260372545205\n"
     ]
    },
    {
     "name": "stderr",
     "output_type": "stream",
     "text": [
      "\r",
      "Iterations:  77%|█████████████████████████▍       | 231/300 [04:30<01:19,  1.15s/it]"
     ]
    },
    {
     "name": "stdout",
     "output_type": "stream",
     "text": [
      "Epoch:  230\n",
      "t_loss:  0.3397260372545205 , v_loss:  0.5445447365442911\n",
      "t_acc:  0.7724867724867724 , v_acc:  0.7888198757763976\n",
      "t_recall:  0.6423800112543061 , v_recall:  0.6874774774774774\n",
      "t_prec:  0.8037504904419932 , v_prec:  0.7964387464387465\n",
      "t_f:  0.6548052004168728 , v_f:  0.7072100984167737\n",
      "////////\n"
     ]
    },
    {
     "name": "stderr",
     "output_type": "stream",
     "text": [
      "\r",
      "Iterations:  77%|█████████████████████████▌       | 232/300 [04:30<01:11,  1.04s/it]"
     ]
    },
    {
     "name": "stdout",
     "output_type": "stream",
     "text": [
      "Epoch  231 , loss 0.33868888897054333\n",
      "Epoch  232 , loss 0.3304400037901074\n"
     ]
    },
    {
     "name": "stderr",
     "output_type": "stream",
     "text": [
      "\r",
      "Iterations:  78%|█████████████████████████▋       | 233/300 [04:32<01:17,  1.16s/it]"
     ]
    },
    {
     "name": "stdout",
     "output_type": "stream",
     "text": [
      "Epoch:  232\n",
      "t_loss:  0.3304400037901074 , v_loss:  0.5439783483743668\n",
      "t_acc:  0.7780890133831311 , v_acc:  0.7888198757763976\n",
      "t_recall:  0.6518699990392666 , v_recall:  0.6874774774774774\n",
      "t_prec:  0.8090646372823033 , v_prec:  0.7964387464387465\n",
      "t_f:  0.666958682052088 , v_f:  0.7072100984167737\n",
      "////////\n"
     ]
    },
    {
     "name": "stderr",
     "output_type": "stream",
     "text": [
      "\r",
      "Iterations:  78%|█████████████████████████▋       | 234/300 [04:33<01:09,  1.06s/it]"
     ]
    },
    {
     "name": "stdout",
     "output_type": "stream",
     "text": [
      "Epoch  233 , loss 0.32595745517927055\n",
      "Epoch  234 , loss 0.3317781908839357\n"
     ]
    },
    {
     "name": "stderr",
     "output_type": "stream",
     "text": [
      "\r",
      "Iterations:  78%|█████████████████████████▊       | 235/300 [04:34<01:15,  1.16s/it]"
     ]
    },
    {
     "name": "stdout",
     "output_type": "stream",
     "text": [
      "Epoch:  234\n",
      "t_loss:  0.3317781908839357 , v_loss:  0.5470670958360037\n",
      "t_acc:  0.7799564270152506 , v_acc:  0.7888198757763976\n",
      "t_recall:  0.656375152687995 , v_recall:  0.6874774774774774\n",
      "t_prec:  0.8070761200600121 , v_prec:  0.7964387464387465\n",
      "t_f:  0.6725761552452957 , v_f:  0.7072100984167737\n",
      "////////\n"
     ]
    },
    {
     "name": "stderr",
     "output_type": "stream",
     "text": [
      "\r",
      "Iterations:  79%|█████████████████████████▉       | 236/300 [04:35<01:07,  1.06s/it]"
     ]
    },
    {
     "name": "stdout",
     "output_type": "stream",
     "text": [
      "Epoch  235 , loss 0.33420463140104334\n",
      "Epoch  236 , loss 0.32711715850175593\n"
     ]
    },
    {
     "name": "stderr",
     "output_type": "stream",
     "text": [
      "\r",
      "Iterations:  79%|██████████████████████████       | 237/300 [04:36<01:12,  1.16s/it]"
     ]
    },
    {
     "name": "stdout",
     "output_type": "stream",
     "text": [
      "Epoch:  236\n",
      "t_loss:  0.32711715850175593 , v_loss:  0.5485561241706213\n",
      "t_acc:  0.7774665421724245 , v_acc:  0.7888198757763976\n",
      "t_recall:  0.6499849027600499 , v_recall:  0.6874774774774774\n",
      "t_prec:  0.8109323755526934 , v_prec:  0.7964387464387465\n",
      "t_f:  0.6645732808886952 , v_f:  0.7072100984167737\n",
      "////////\n"
     ]
    },
    {
     "name": "stderr",
     "output_type": "stream",
     "text": [
      "\r",
      "Iterations:  79%|██████████████████████████▏      | 238/300 [04:37<01:06,  1.07s/it]"
     ]
    },
    {
     "name": "stdout",
     "output_type": "stream",
     "text": [
      "Epoch  237 , loss 0.3302415486644296\n",
      "Epoch  238 , loss 0.3398747219174516\n"
     ]
    },
    {
     "name": "stderr",
     "output_type": "stream",
     "text": [
      "\r",
      "Iterations:  80%|██████████████████████████▎      | 239/300 [04:39<01:11,  1.17s/it]"
     ]
    },
    {
     "name": "stdout",
     "output_type": "stream",
     "text": [
      "Epoch:  238\n",
      "t_loss:  0.3398747219174516 , v_loss:  0.5492461820443472\n",
      "t_acc:  0.7771553065670713 , v_acc:  0.7888198757763976\n",
      "t_recall:  0.6514863918968996 , v_recall:  0.6874774774774774\n",
      "t_prec:  0.8048076285790031 , v_prec:  0.7964387464387465\n",
      "t_f:  0.66645614547884 , v_f:  0.7072100984167737\n",
      "////////\n"
     ]
    },
    {
     "name": "stderr",
     "output_type": "stream",
     "text": [
      "\r",
      "Iterations:  80%|██████████████████████████▍      | 240/300 [04:39<01:05,  1.09s/it]"
     ]
    },
    {
     "name": "stdout",
     "output_type": "stream",
     "text": [
      "Epoch  239 , loss 0.32983483169593064\n",
      "Epoch  240 , loss 0.32601774849143683\n"
     ]
    },
    {
     "name": "stderr",
     "output_type": "stream",
     "text": [
      "\r",
      "Iterations:  80%|██████████████████████████▌      | 241/300 [04:41<01:08,  1.16s/it]"
     ]
    },
    {
     "name": "stdout",
     "output_type": "stream",
     "text": [
      "Epoch:  240\n",
      "t_loss:  0.32601774849143683 , v_loss:  0.5528442213932673\n",
      "t_acc:  0.7796451914098973 , v_acc:  0.7888198757763976\n",
      "t_recall:  0.6564389728386929 , v_recall:  0.6874774774774774\n",
      "t_prec:  0.8052107785820756 , v_prec:  0.7964387464387465\n",
      "t_f:  0.6726335482385448 , v_f:  0.7072100984167737\n",
      "////////\n"
     ]
    },
    {
     "name": "stderr",
     "output_type": "stream",
     "text": [
      "\r",
      "Iterations:  81%|██████████████████████████▌      | 242/300 [04:42<01:04,  1.11s/it]"
     ]
    },
    {
     "name": "stdout",
     "output_type": "stream",
     "text": [
      "Epoch  241 , loss 0.3303215480318256\n",
      "Epoch  242 , loss 0.3308637925222808\n"
     ]
    },
    {
     "name": "stderr",
     "output_type": "stream",
     "text": [
      "\r",
      "Iterations:  81%|██████████████████████████▋      | 243/300 [04:43<01:06,  1.17s/it]"
     ]
    },
    {
     "name": "stdout",
     "output_type": "stream",
     "text": [
      "Epoch:  242\n",
      "t_loss:  0.3308637925222808 , v_loss:  0.555070087313652\n",
      "t_acc:  0.7774665421724245 , v_acc:  0.7888198757763976\n",
      "t_recall:  0.6496973689628196 , v_recall:  0.6874774774774774\n",
      "t_prec:  0.8117989091283317 , v_prec:  0.7964387464387465\n",
      "t_f:  0.6642075255506428 , v_f:  0.7072100984167737\n",
      "////////\n"
     ]
    },
    {
     "name": "stderr",
     "output_type": "stream",
     "text": [
      "\r",
      "Iterations:  81%|██████████████████████████▊      | 244/300 [04:44<01:05,  1.16s/it]"
     ]
    },
    {
     "name": "stdout",
     "output_type": "stream",
     "text": [
      "Epoch  243 , loss 0.3267393053746691\n",
      "Epoch  244 , loss 0.3296281461622201\n"
     ]
    },
    {
     "name": "stderr",
     "output_type": "stream",
     "text": [
      "\r",
      "Iterations:  82%|██████████████████████████▉      | 245/300 [04:45<01:06,  1.20s/it]"
     ]
    },
    {
     "name": "stdout",
     "output_type": "stream",
     "text": [
      "Epoch:  244\n",
      "t_loss:  0.3296281461622201 , v_loss:  0.5539743800957998\n",
      "t_acc:  0.7802676626206038 , v_acc:  0.7950310559006211\n",
      "t_recall:  0.6583240691179094 , v_recall:  0.6974774774774775\n",
      "t_prec:  0.8036650983378991 , v_prec:  0.8029297954671089\n",
      "t_f:  0.6749302964921251 , v_f:  0.7183673469387755\n",
      "////////\n"
     ]
    },
    {
     "name": "stderr",
     "output_type": "stream",
     "text": [
      "\r",
      "Iterations:  82%|███████████████████████████      | 246/300 [04:47<01:02,  1.15s/it]"
     ]
    },
    {
     "name": "stdout",
     "output_type": "stream",
     "text": [
      "Epoch  245 , loss 0.320873229527006\n",
      "Epoch  246 , loss 0.3223876579135072\n"
     ]
    },
    {
     "name": "stderr",
     "output_type": "stream",
     "text": [
      "\r",
      "Iterations:  82%|███████████████████████████▏     | 247/300 [04:48<01:02,  1.19s/it]"
     ]
    },
    {
     "name": "stdout",
     "output_type": "stream",
     "text": [
      "Epoch:  246\n",
      "t_loss:  0.3223876579135072 , v_loss:  0.5594189564387003\n",
      "t_acc:  0.776844070961718 , v_acc:  0.8012422360248447\n",
      "t_recall:  0.6501125430614457 , v_recall:  0.7074774774774775\n",
      "t_prec:  0.8068921557990669 , v_prec:  0.8092105263157894\n",
      "t_f:  0.6647282390788807 , v_f:  0.7292980243799916\n",
      "////////\n"
     ]
    },
    {
     "name": "stderr",
     "output_type": "stream",
     "text": [
      "\r",
      "Iterations:  83%|███████████████████████████▎     | 248/300 [04:49<00:57,  1.11s/it]"
     ]
    },
    {
     "name": "stdout",
     "output_type": "stream",
     "text": [
      "Epoch  247 , loss 0.32706694860084384\n",
      "Epoch  248 , loss 0.3215690559031917\n"
     ]
    },
    {
     "name": "stderr",
     "output_type": "stream",
     "text": [
      "\r",
      "Iterations:  83%|███████████████████████████▍     | 249/300 [04:50<00:59,  1.17s/it]"
     ]
    },
    {
     "name": "stdout",
     "output_type": "stream",
     "text": [
      "Epoch:  248\n",
      "t_loss:  0.3215690559031917 , v_loss:  0.5587054391702017\n",
      "t_acc:  0.7843137254901961 , v_acc:  0.7888198757763976\n",
      "t_recall:  0.6643952182923649 , v_recall:  0.6874774774774774\n",
      "t_prec:  0.8094637305476373 , v_prec:  0.7964387464387465\n",
      "t_f:  0.6824106624918753 , v_f:  0.7072100984167737\n",
      "////////\n"
     ]
    },
    {
     "name": "stderr",
     "output_type": "stream",
     "text": [
      "\r",
      "Iterations:  83%|███████████████████████████▌     | 250/300 [04:51<00:53,  1.07s/it]"
     ]
    },
    {
     "name": "stdout",
     "output_type": "stream",
     "text": [
      "Epoch  249 , loss 0.3353528187555425\n",
      "Epoch  250 , loss 0.31815870106220245\n"
     ]
    },
    {
     "name": "stderr",
     "output_type": "stream",
     "text": [
      "\r",
      "Iterations:  84%|███████████████████████████▌     | 251/300 [04:52<00:56,  1.15s/it]"
     ]
    },
    {
     "name": "stdout",
     "output_type": "stream",
     "text": [
      "Epoch:  250\n",
      "t_loss:  0.31815870106220245 , v_loss:  0.5611435423294703\n",
      "t_acc:  0.7902272019919079 , v_acc:  0.782608695652174\n",
      "t_recall:  0.6695083789681723 , v_recall:  0.6774774774774774\n",
      "t_prec:  0.8278843243759857 , v_prec:  0.7897058823529413\n",
      "t_f:  0.6890115287183994 , v_f:  0.6958164642375169\n",
      "////////\n"
     ]
    },
    {
     "name": "stderr",
     "output_type": "stream",
     "text": [
      "\r",
      "Iterations:  84%|███████████████████████████▋     | 252/300 [04:53<00:50,  1.05s/it]"
     ]
    },
    {
     "name": "stdout",
     "output_type": "stream",
     "text": [
      "Epoch  251 , loss 0.3267751362393884\n",
      "Epoch  252 , loss 0.3213118139435263\n"
     ]
    },
    {
     "name": "stderr",
     "output_type": "stream",
     "text": [
      "\r",
      "Iterations:  84%|███████████████████████████▊     | 253/300 [04:54<00:53,  1.13s/it]"
     ]
    },
    {
     "name": "stdout",
     "output_type": "stream",
     "text": [
      "Epoch:  252\n",
      "t_loss:  0.3213118139435263 , v_loss:  0.5610967228809992\n",
      "t_acc:  0.7827575474634298 , v_acc:  0.7950310559006211\n",
      "t_recall:  0.6598262444929386 , v_recall:  0.6974774774774775\n",
      "t_prec:  0.8131716526285215 , v_prec:  0.8029297954671089\n",
      "t_f:  0.6769155369311994 , v_f:  0.7183673469387755\n",
      "////////\n"
     ]
    },
    {
     "name": "stderr",
     "output_type": "stream",
     "text": [
      "\r",
      "Iterations:  85%|███████████████████████████▉     | 254/300 [04:55<00:49,  1.07s/it]"
     ]
    },
    {
     "name": "stdout",
     "output_type": "stream",
     "text": [
      "Epoch  253 , loss 0.32985515571108054\n",
      "Epoch  254 , loss 0.3215024532640682\n"
     ]
    },
    {
     "name": "stderr",
     "output_type": "stream",
     "text": [
      "\r",
      "Iterations:  85%|████████████████████████████     | 255/300 [04:57<00:52,  1.17s/it]"
     ]
    },
    {
     "name": "stdout",
     "output_type": "stream",
     "text": [
      "Epoch:  254\n",
      "t_loss:  0.3215024532640682 , v_loss:  0.5605505953232447\n",
      "t_acc:  0.7777777777777778 , v_acc:  0.7888198757763976\n",
      "t_recall:  0.6496335488121217 , v_recall:  0.6874774774774774\n",
      "t_prec:  0.8138895126880754 , v_prec:  0.7964387464387465\n",
      "t_f:  0.6641270661157025 , v_f:  0.7072100984167737\n",
      "////////\n"
     ]
    },
    {
     "name": "stderr",
     "output_type": "stream",
     "text": [
      "\r",
      "Iterations:  85%|████████████████████████████▏    | 256/300 [04:58<00:49,  1.12s/it]"
     ]
    },
    {
     "name": "stdout",
     "output_type": "stream",
     "text": [
      "Epoch  255 , loss 0.31636207156321583\n",
      "Epoch  256 , loss 0.31642670023675057\n"
     ]
    },
    {
     "name": "stderr",
     "output_type": "stream",
     "text": [
      "\r",
      "Iterations:  86%|████████████████████████████▎    | 257/300 [04:59<00:52,  1.23s/it]"
     ]
    },
    {
     "name": "stdout",
     "output_type": "stream",
     "text": [
      "Epoch:  256\n",
      "t_loss:  0.31642670023675057 , v_loss:  0.5591656714677811\n",
      "t_acc:  0.7889822595704948 , v_acc:  0.7950310559006211\n",
      "t_recall:  0.670626260962655 , v_recall:  0.6974774774774775\n",
      "t_prec:  0.817937701396348 , v_prec:  0.8029297954671089\n",
      "t_f:  0.6900882952461922 , v_f:  0.7183673469387755\n",
      "////////\n"
     ]
    },
    {
     "name": "stderr",
     "output_type": "stream",
     "text": [
      "\r",
      "Iterations:  86%|████████████████████████████▍    | 258/300 [05:00<00:49,  1.17s/it]"
     ]
    },
    {
     "name": "stdout",
     "output_type": "stream",
     "text": [
      "Epoch  257 , loss 0.3217060010807187\n",
      "Epoch  258 , loss 0.32402418553829193\n"
     ]
    },
    {
     "name": "stderr",
     "output_type": "stream",
     "text": [
      "\r",
      "Iterations:  86%|████████████████████████████▍    | 259/300 [05:02<00:51,  1.25s/it]"
     ]
    },
    {
     "name": "stdout",
     "output_type": "stream",
     "text": [
      "Epoch:  258\n",
      "t_loss:  0.32402418553829193 , v_loss:  0.5686159481604894\n",
      "t_acc:  0.7861811391223156 , v_acc:  0.782608695652174\n",
      "t_recall:  0.6648748987798685 , v_recall:  0.682972972972973\n",
      "t_prec:  0.81824351174024 , v_prec:  0.7806799336650083\n",
      "t_f:  0.6831799826184183 , v_f:  0.7012987012987013\n",
      "////////\n"
     ]
    },
    {
     "name": "stderr",
     "output_type": "stream",
     "text": [
      "\r",
      "Iterations:  87%|████████████████████████████▌    | 260/300 [05:03<00:46,  1.15s/it]"
     ]
    },
    {
     "name": "stdout",
     "output_type": "stream",
     "text": [
      "Epoch  259 , loss 0.3152293726509693\n",
      "Epoch  260 , loss 0.31737346479705736\n"
     ]
    },
    {
     "name": "stderr",
     "output_type": "stream",
     "text": [
      "\r",
      "Iterations:  87%|████████████████████████████▋    | 261/300 [05:04<00:46,  1.20s/it]"
     ]
    },
    {
     "name": "stdout",
     "output_type": "stream",
     "text": [
      "Epoch:  260\n",
      "t_loss:  0.31737346479705736 , v_loss:  0.5652415653069814\n",
      "t_acc:  0.7955182072829131 , v_acc:  0.7888198757763976\n",
      "t_recall:  0.6793497207010609 , v_recall:  0.692972972972973\n",
      "t_prec:  0.8295399715203653 , v_prec:  0.7875939849624061\n",
      "t_f:  0.7007669567177286 , v_f:  0.7123791509037412\n",
      "////////\n"
     ]
    },
    {
     "name": "stderr",
     "output_type": "stream",
     "text": [
      "\r",
      "Iterations:  87%|████████████████████████████▊    | 262/300 [05:05<00:41,  1.09s/it]"
     ]
    },
    {
     "name": "stdout",
     "output_type": "stream",
     "text": [
      "Epoch  261 , loss 0.3142138643592012\n",
      "Epoch  262 , loss 0.32342557842824976\n"
     ]
    },
    {
     "name": "stderr",
     "output_type": "stream",
     "text": [
      "\r",
      "Iterations:  88%|████████████████████████████▉    | 263/300 [05:06<00:43,  1.17s/it]"
     ]
    },
    {
     "name": "stdout",
     "output_type": "stream",
     "text": [
      "Epoch:  262\n",
      "t_loss:  0.32342557842824976 , v_loss:  0.566711405913035\n",
      "t_acc:  0.7899159663865546 , v_acc:  0.7888198757763976\n",
      "t_recall:  0.6704348005105611 , v_recall:  0.6874774774774774\n",
      "t_prec:  0.8234928648462777 , v_prec:  0.7964387464387465\n",
      "t_f:  0.6900152692966218 , v_f:  0.7072100984167737\n",
      "////////\n"
     ]
    },
    {
     "name": "stderr",
     "output_type": "stream",
     "text": [
      "\r",
      "Iterations:  88%|█████████████████████████████    | 264/300 [05:07<00:38,  1.06s/it]"
     ]
    },
    {
     "name": "stdout",
     "output_type": "stream",
     "text": [
      "Epoch  263 , loss 0.31506091619239135\n",
      "Epoch  264 , loss 0.31891753568368797\n"
     ]
    },
    {
     "name": "stderr",
     "output_type": "stream",
     "text": [
      "\r",
      "Iterations:  88%|█████████████████████████████▏   | 265/300 [05:08<00:39,  1.12s/it]"
     ]
    },
    {
     "name": "stdout",
     "output_type": "stream",
     "text": [
      "Epoch:  264\n",
      "t_loss:  0.31891753568368797 , v_loss:  0.5697555194298426\n",
      "t_acc:  0.7930283224400871 , v_acc:  0.7888198757763976\n",
      "t_recall:  0.6781350791232621 , v_recall:  0.6874774774774774\n",
      "t_prec:  0.819738443371824 , v_prec:  0.7964387464387465\n",
      "t_f:  0.6989688144966442 , v_f:  0.7072100984167737\n",
      "////////\n"
     ]
    },
    {
     "name": "stderr",
     "output_type": "stream",
     "text": [
      "\r",
      "Iterations:  89%|█████████████████████████████▎   | 266/300 [05:09<00:35,  1.03s/it]"
     ]
    },
    {
     "name": "stdout",
     "output_type": "stream",
     "text": [
      "Epoch  265 , loss 0.31752413189878653\n",
      "Epoch  266 , loss 0.3142840336350834\n"
     ]
    },
    {
     "name": "stderr",
     "output_type": "stream",
     "text": [
      "\r",
      "Iterations:  89%|█████████████████████████████▎   | 267/300 [05:11<00:39,  1.19s/it]"
     ]
    },
    {
     "name": "stdout",
     "output_type": "stream",
     "text": [
      "Epoch:  266\n",
      "t_loss:  0.3142840336350834 , v_loss:  0.570723424355189\n",
      "t_acc:  0.7892934951758481 , v_acc:  0.782608695652174\n",
      "t_recall:  0.6740128463787212 , v_recall:  0.6774774774774774\n",
      "t_prec:  0.8111471861471862 , v_prec:  0.7897058823529413\n",
      "t_f:  0.6938463740615148 , v_f:  0.6958164642375169\n",
      "////////\n"
     ]
    },
    {
     "name": "stderr",
     "output_type": "stream",
     "text": [
      "\r",
      "Iterations:  89%|█████████████████████████████▍   | 268/300 [05:11<00:34,  1.08s/it]"
     ]
    },
    {
     "name": "stdout",
     "output_type": "stream",
     "text": [
      "Epoch  267 , loss 0.31887545480447654\n",
      "Epoch  268 , loss 0.31289374857556584\n"
     ]
    },
    {
     "name": "stderr",
     "output_type": "stream",
     "text": [
      "\r",
      "Iterations:  90%|█████████████████████████████▌   | 269/300 [05:13<00:37,  1.19s/it]"
     ]
    },
    {
     "name": "stdout",
     "output_type": "stream",
     "text": [
      "Epoch:  268\n",
      "t_loss:  0.31289374857556584 , v_loss:  0.5755962580442429\n",
      "t_acc:  0.7896047307812014 , v_acc:  0.7950310559006211\n",
      "t_recall:  0.6719362896474108 , v_recall:  0.702972972972973\n",
      "t_prec:  0.8178114662048344 , v_prec:  0.7942789968652038\n",
      "t_f:  0.691638764458417 , v_f:  0.7232380059384279\n",
      "////////\n"
     ]
    },
    {
     "name": "stderr",
     "output_type": "stream",
     "text": [
      "\r",
      "Iterations:  90%|█████████████████████████████▋   | 270/300 [05:14<00:34,  1.13s/it]"
     ]
    },
    {
     "name": "stdout",
     "output_type": "stream",
     "text": [
      "Epoch  269 , loss 0.31128015120824176\n",
      "Epoch  270 , loss 0.3209064193800384\n"
     ]
    },
    {
     "name": "stderr",
     "output_type": "stream",
     "text": [
      "\r",
      "Iterations:  90%|█████████████████████████████▊   | 271/300 [05:15<00:34,  1.19s/it]"
     ]
    },
    {
     "name": "stdout",
     "output_type": "stream",
     "text": [
      "Epoch:  270\n",
      "t_loss:  0.3209064193800384 , v_loss:  0.5731663356224695\n",
      "t_acc:  0.7917833800186741 , v_acc:  0.7950310559006211\n",
      "t_recall:  0.67522748795652 , v_recall:  0.6974774774774775\n",
      "t_prec:  0.82069493006993 , v_prec:  0.8029297954671089\n",
      "t_f:  0.6956133855528097 , v_f:  0.7183673469387755\n",
      "////////\n"
     ]
    },
    {
     "name": "stderr",
     "output_type": "stream",
     "text": [
      "\r",
      "Iterations:  91%|█████████████████████████████▉   | 272/300 [05:16<00:32,  1.15s/it]"
     ]
    },
    {
     "name": "stdout",
     "output_type": "stream",
     "text": [
      "Epoch  271 , loss 0.3146035393663481\n",
      "Epoch  272 , loss 0.31121162924112056\n"
     ]
    },
    {
     "name": "stderr",
     "output_type": "stream",
     "text": [
      "\r",
      "Iterations:  91%|██████████████████████████████   | 273/300 [05:17<00:31,  1.18s/it]"
     ]
    },
    {
     "name": "stdout",
     "output_type": "stream",
     "text": [
      "Epoch:  272\n",
      "t_loss:  0.31121162924112056 , v_loss:  0.5763838638861974\n",
      "t_acc:  0.7914721444133209 , v_acc:  0.7950310559006211\n",
      "t_recall:  0.6752913081072178 , v_recall:  0.6974774774774775\n",
      "t_prec:  0.8189275440489032 , v_prec:  0.8029297954671089\n",
      "t_f:  0.6956250636261835 , v_f:  0.7183673469387755\n",
      "////////\n"
     ]
    },
    {
     "name": "stderr",
     "output_type": "stream",
     "text": [
      "\r",
      "Iterations:  91%|██████████████████████████████▏  | 274/300 [05:18<00:29,  1.15s/it]"
     ]
    },
    {
     "name": "stdout",
     "output_type": "stream",
     "text": [
      "Epoch  273 , loss 0.3023383634931901\n",
      "Epoch  274 , loss 0.31276361615050075\n"
     ]
    },
    {
     "name": "stderr",
     "output_type": "stream",
     "text": [
      "\r",
      "Iterations:  92%|██████████████████████████████▎  | 275/300 [05:20<00:29,  1.19s/it]"
     ]
    },
    {
     "name": "stdout",
     "output_type": "stream",
     "text": [
      "Epoch:  274\n",
      "t_loss:  0.31276361615050075 , v_loss:  0.5791521966457367\n",
      "t_acc:  0.7986305633364457 , v_acc:  0.8012422360248447\n",
      "t_recall:  0.6861873979220707 , v_recall:  0.7074774774774775\n",
      "t_prec:  0.8279308577672203 , v_prec:  0.8092105263157894\n",
      "t_f:  0.7085876881052453 , v_f:  0.7292980243799916\n",
      "////////\n"
     ]
    },
    {
     "name": "stderr",
     "output_type": "stream",
     "text": [
      "\r",
      "Iterations:  92%|██████████████████████████████▎  | 276/300 [05:21<00:26,  1.12s/it]"
     ]
    },
    {
     "name": "stdout",
     "output_type": "stream",
     "text": [
      "Epoch  275 , loss 0.30283566812674206\n",
      "Epoch  276 , loss 0.305790252253121\n"
     ]
    },
    {
     "name": "stderr",
     "output_type": "stream",
     "text": [
      "\r",
      "Iterations:  92%|██████████████████████████████▍  | 277/300 [05:22<00:26,  1.17s/it]"
     ]
    },
    {
     "name": "stdout",
     "output_type": "stream",
     "text": [
      "Epoch:  276\n",
      "t_loss:  0.305790252253121 , v_loss:  0.5785576750834783\n",
      "t_acc:  0.800186741363212 , v_acc:  0.7950310559006211\n",
      "t_recall:  0.689893770329806 , v_recall:  0.6974774774774775\n",
      "t_prec:  0.8265837216218896 , v_prec:  0.8029297954671089\n",
      "t_f:  0.7127030685920577 , v_f:  0.7183673469387755\n",
      "////////\n"
     ]
    },
    {
     "name": "stderr",
     "output_type": "stream",
     "text": [
      "\r",
      "Iterations:  93%|██████████████████████████████▌  | 278/300 [05:23<00:23,  1.07s/it]"
     ]
    },
    {
     "name": "stdout",
     "output_type": "stream",
     "text": [
      "Epoch  277 , loss 0.30110445151142046\n",
      "Epoch  278 , loss 0.310583475465868\n"
     ]
    },
    {
     "name": "stderr",
     "output_type": "stream",
     "text": [
      "\r",
      "Iterations:  93%|██████████████████████████████▋  | 279/300 [05:24<00:23,  1.14s/it]"
     ]
    },
    {
     "name": "stdout",
     "output_type": "stream",
     "text": [
      "Epoch:  278\n",
      "t_loss:  0.310583475465868 , v_loss:  0.578216607371966\n",
      "t_acc:  0.7973856209150327 , v_acc:  0.7950310559006211\n",
      "t_recall:  0.6884554151054748 , v_recall:  0.702972972972973\n",
      "t_prec:  0.8167363807619854 , v_prec:  0.7942789968652038\n",
      "t_f:  0.7105272809025587 , v_f:  0.7232380059384279\n",
      "////////\n"
     ]
    },
    {
     "name": "stderr",
     "output_type": "stream",
     "text": [
      "\r",
      "Iterations:  93%|██████████████████████████████▊  | 280/300 [05:25<00:20,  1.04s/it]"
     ]
    },
    {
     "name": "stdout",
     "output_type": "stream",
     "text": [
      "Epoch  279 , loss 0.3085033341365702\n",
      "Epoch  280 , loss 0.30538898034423007\n"
     ]
    },
    {
     "name": "stderr",
     "output_type": "stream",
     "text": [
      "\r",
      "Iterations:  94%|██████████████████████████████▉  | 281/300 [05:26<00:21,  1.14s/it]"
     ]
    },
    {
     "name": "stdout",
     "output_type": "stream",
     "text": [
      "Epoch:  280\n",
      "t_loss:  0.30538898034423007 , v_loss:  0.5854150404532751\n",
      "t_acc:  0.7983193277310925 , v_acc:  0.7888198757763976\n",
      "t_recall:  0.6862512180727687 , v_recall:  0.692972972972973\n",
      "t_prec:  0.8262200594244101 , v_prec:  0.7875939849624061\n",
      "t_f:  0.7085746919213693 , v_f:  0.7123791509037412\n",
      "////////\n"
     ]
    },
    {
     "name": "stderr",
     "output_type": "stream",
     "text": [
      "\r",
      "Iterations:  94%|███████████████████████████████  | 282/300 [05:27<00:18,  1.04s/it]"
     ]
    },
    {
     "name": "stdout",
     "output_type": "stream",
     "text": [
      "Epoch  281 , loss 0.30505263279466066\n",
      "Epoch  282 , loss 0.3055046209517647\n"
     ]
    },
    {
     "name": "stderr",
     "output_type": "stream",
     "text": [
      "\r",
      "Iterations:  94%|███████████████████████████████▏ | 283/300 [05:29<00:20,  1.21s/it]"
     ]
    },
    {
     "name": "stdout",
     "output_type": "stream",
     "text": [
      "Epoch:  282\n",
      "t_loss:  0.3055046209517647 , v_loss:  0.5872466762860616\n",
      "t_acc:  0.8017429193899782 , v_acc:  0.7888198757763976\n",
      "t_recall:  0.6898622033735469 , v_recall:  0.692972972972973\n",
      "t_prec:  0.8344032727495415 , v_prec:  0.7875939849624061\n",
      "t_f:  0.7130917423849171 , v_f:  0.7123791509037412\n",
      "////////\n"
     ]
    },
    {
     "name": "stderr",
     "output_type": "stream",
     "text": [
      "\r",
      "Iterations:  95%|███████████████████████████████▏ | 284/300 [05:30<00:17,  1.11s/it]"
     ]
    },
    {
     "name": "stdout",
     "output_type": "stream",
     "text": [
      "Epoch  283 , loss 0.3048132855226012\n",
      "Epoch  284 , loss 0.30198196774604275\n"
     ]
    },
    {
     "name": "stderr",
     "output_type": "stream",
     "text": [
      "\r",
      "Iterations:  95%|███████████████████████████████▎ | 285/300 [05:31<00:17,  1.20s/it]"
     ]
    },
    {
     "name": "stdout",
     "output_type": "stream",
     "text": [
      "Epoch:  284\n",
      "t_loss:  0.30198196774604275 , v_loss:  0.5791362871726354\n",
      "t_acc:  0.8067226890756303 , v_acc:  0.7950310559006211\n",
      "t_recall:  0.7000548990543638 , v_recall:  0.702972972972973\n",
      "t_prec:  0.833911633142077 , v_prec:  0.7942789968652038\n",
      "t_f:  0.7244034496375813 , v_f:  0.7232380059384279\n",
      "////////\n"
     ]
    },
    {
     "name": "stderr",
     "output_type": "stream",
     "text": [
      "\r",
      "Iterations:  95%|███████████████████████████████▍ | 286/300 [05:32<00:16,  1.18s/it]"
     ]
    },
    {
     "name": "stdout",
     "output_type": "stream",
     "text": [
      "Epoch  285 , loss 0.2986726459919238\n",
      "Epoch  286 , loss 0.29939662066160466\n"
     ]
    },
    {
     "name": "stderr",
     "output_type": "stream",
     "text": [
      "\r",
      "Iterations:  96%|███████████████████████████████▌ | 287/300 [05:33<00:15,  1.22s/it]"
     ]
    },
    {
     "name": "stdout",
     "output_type": "stream",
     "text": [
      "Epoch:  286\n",
      "t_loss:  0.29939662066160466 , v_loss:  0.5838490078846613\n",
      "t_acc:  0.8057889822595705 , v_acc:  0.7888198757763976\n",
      "t_recall:  0.6962208863452327 , v_recall:  0.6984684684684684\n",
      "t_prec:  0.8386862553104124 , v_prec:  0.7802798982188295\n",
      "t_f:  0.7204818685847425 , v_f:  0.7172520661157025\n",
      "////////\n"
     ]
    },
    {
     "name": "stderr",
     "output_type": "stream",
     "text": [
      "\r",
      "Iterations:  96%|███████████████████████████████▋ | 288/300 [05:34<00:14,  1.17s/it]"
     ]
    },
    {
     "name": "stdout",
     "output_type": "stream",
     "text": [
      "Epoch  287 , loss 0.3004290403104296\n",
      "Epoch  288 , loss 0.3026038230049844\n"
     ]
    },
    {
     "name": "stderr",
     "output_type": "stream",
     "text": [
      "\r",
      "Iterations:  96%|███████████████████████████████▊ | 289/300 [05:36<00:13,  1.23s/it]"
     ]
    },
    {
     "name": "stdout",
     "output_type": "stream",
     "text": [
      "Epoch:  288\n",
      "t_loss:  0.3026038230049844 , v_loss:  0.5942935148874918\n",
      "t_acc:  0.7964519140989729 , v_acc:  0.7701863354037267\n",
      "t_recall:  0.6843338685991134 , v_recall:  0.6794594594594595\n",
      "t_prec:  0.8216725238825917 , v_prec:  0.7471464019851117\n",
      "t_f:  0.7061694704035905 , v_f:  0.6948414527944264\n",
      "////////\n"
     ]
    },
    {
     "name": "stderr",
     "output_type": "stream",
     "text": [
      "\r",
      "Iterations:  97%|███████████████████████████████▉ | 290/300 [05:37<00:11,  1.15s/it]"
     ]
    },
    {
     "name": "stdout",
     "output_type": "stream",
     "text": [
      "Epoch  289 , loss 0.3015519056250067\n",
      "Epoch  290 , loss 0.30401216914840773\n"
     ]
    },
    {
     "name": "stderr",
     "output_type": "stream",
     "text": [
      "\r",
      "Iterations:  97%|████████████████████████████████ | 291/300 [05:38<00:10,  1.20s/it]"
     ]
    },
    {
     "name": "stdout",
     "output_type": "stream",
     "text": [
      "Epoch:  290\n",
      "t_loss:  0.30401216914840773 , v_loss:  0.5996394008398056\n",
      "t_acc:  0.8070339246809834 , v_acc:  0.7888198757763976\n",
      "t_recall:  0.7022913492815086 , v_recall:  0.6984684684684684\n",
      "t_prec:  0.8302935165514831 , v_prec:  0.7802798982188295\n",
      "t_f:  0.7265652023521273 , v_f:  0.7172520661157025\n",
      "////////\n"
     ]
    },
    {
     "name": "stderr",
     "output_type": "stream",
     "text": [
      "\r",
      "Iterations:  97%|████████████████████████████████ | 292/300 [05:39<00:09,  1.15s/it]"
     ]
    },
    {
     "name": "stdout",
     "output_type": "stream",
     "text": [
      "Epoch  291 , loss 0.293664115024548\n",
      "Epoch  292 , loss 0.3011879190510395\n"
     ]
    },
    {
     "name": "stderr",
     "output_type": "stream",
     "text": [
      "\r",
      "Iterations:  98%|████████████████████████████████▏| 293/300 [05:40<00:08,  1.19s/it]"
     ]
    },
    {
     "name": "stdout",
     "output_type": "stream",
     "text": [
      "Epoch:  292\n",
      "t_loss:  0.3011879190510395 , v_loss:  0.6039589941501617\n",
      "t_acc:  0.8073451602863367 , v_acc:  0.7763975155279503\n",
      "t_recall:  0.703377664319732 , v_recall:  0.683963963963964\n",
      "t_prec:  0.8293316600634737 , v_prec:  0.759796437659033\n",
      "t_f:  0.7276568678130424 , v_f:  0.7006198347107437\n",
      "////////\n"
     ]
    },
    {
     "name": "stderr",
     "output_type": "stream",
     "text": [
      "\r",
      "Iterations:  98%|████████████████████████████████▎| 294/300 [05:41<00:06,  1.12s/it]"
     ]
    },
    {
     "name": "stdout",
     "output_type": "stream",
     "text": [
      "Epoch  293 , loss 0.2911307984123043\n",
      "Epoch  294 , loss 0.295149765178269\n"
     ]
    },
    {
     "name": "stderr",
     "output_type": "stream",
     "text": [
      "\r",
      "Iterations:  98%|████████████████████████████████▍| 295/300 [05:43<00:05,  1.17s/it]"
     ]
    },
    {
     "name": "stdout",
     "output_type": "stream",
     "text": [
      "Epoch:  294\n",
      "t_loss:  0.295149765178269 , v_loss:  0.605920284986496\n",
      "t_acc:  0.8089013383131031 , v_acc:  0.7763975155279503\n",
      "t_recall:  0.7039211649579336 , v_recall:  0.6894594594594595\n",
      "t_prec:  0.8351910061663408 , v_prec:  0.7547238372093024\n",
      "t_f:  0.7286914689961712 , v_f:  0.7054878048780489\n",
      "////////\n"
     ]
    },
    {
     "name": "stderr",
     "output_type": "stream",
     "text": [
      "\r",
      "Iterations:  99%|████████████████████████████████▌| 296/300 [05:44<00:04,  1.12s/it]"
     ]
    },
    {
     "name": "stdout",
     "output_type": "stream",
     "text": [
      "Epoch  295 , loss 0.30012568159430636\n",
      "Epoch  296 , loss 0.29227074016543\n"
     ]
    },
    {
     "name": "stderr",
     "output_type": "stream",
     "text": [
      "\r",
      "Iterations:  99%|████████████████████████████████▋| 297/300 [05:45<00:03,  1.18s/it]"
     ]
    },
    {
     "name": "stdout",
     "output_type": "stream",
     "text": [
      "Epoch:  296\n",
      "t_loss:  0.29227074016543 , v_loss:  0.6143599500258764\n",
      "t_acc:  0.8098350451291628 , v_acc:  0.7763975155279503\n",
      "t_recall:  0.7071801100726041 , v_recall:  0.6784684684684684\n",
      "t_prec:  0.8322210647553792 , v_prec:  0.7659774436090225\n",
      "t_f:  0.7319408838206087 , v_f:  0.6954602774274905\n",
      "////////\n"
     ]
    },
    {
     "name": "stderr",
     "output_type": "stream",
     "text": [
      "\r",
      "Iterations:  99%|████████████████████████████████▊| 298/300 [05:46<00:02,  1.08s/it]"
     ]
    },
    {
     "name": "stdout",
     "output_type": "stream",
     "text": [
      "Epoch  297 , loss 0.28616420574047985\n",
      "Epoch  298 , loss 0.2995232428405799\n"
     ]
    },
    {
     "name": "stderr",
     "output_type": "stream",
     "text": [
      "\r",
      "Iterations: 100%|████████████████████████████████▉| 299/300 [05:47<00:01,  1.13s/it]"
     ]
    },
    {
     "name": "stdout",
     "output_type": "stream",
     "text": [
      "Epoch:  298\n",
      "t_loss:  0.2995232428405799 , v_loss:  0.6126454174518585\n",
      "t_acc:  0.8061002178649237 , v_acc:  0.782608695652174\n",
      "t_recall:  0.6987448703696079 , v_recall:  0.693963963963964\n",
      "t_prec:  0.8340298335319672 , v_prec:  0.7671215880893301\n",
      "t_f:  0.7229777204336314 , v_f:  0.7113365094001332\n",
      "////////\n"
     ]
    },
    {
     "name": "stderr",
     "output_type": "stream",
     "text": [
      "Iterations: 100%|█████████████████████████████████| 300/300 [05:48<00:00,  1.16s/it]"
     ]
    },
    {
     "name": "stdout",
     "output_type": "stream",
     "text": [
      "Epoch  299 , loss 0.28394682325568854\n"
     ]
    },
    {
     "name": "stderr",
     "output_type": "stream",
     "text": [
      "\n"
     ]
    },
    {
     "name": "stdout",
     "output_type": "stream",
     "text": [
      "103 21\n",
      "\n",
      "c0_acc 0.9279279279279279 , c1_acc 0.42 , b_acc 0.673963963963964\n"
     ]
    },
    {
     "name": "stderr",
     "output_type": "stream",
     "text": [
      "\r",
      "Iterations:   0%|                                           | 0/300 [00:00<?, ?it/s]"
     ]
    },
    {
     "name": "stdout",
     "output_type": "stream",
     "text": [
      "Epoch  0 , loss 0.6285777010169684\n"
     ]
    },
    {
     "name": "stderr",
     "output_type": "stream",
     "text": [
      "\r",
      "Iterations:   0%|                                   | 1/300 [00:01<07:33,  1.52s/it]"
     ]
    },
    {
     "name": "stdout",
     "output_type": "stream",
     "text": [
      "Epoch:  0\n",
      "t_loss:  0.6285777010169684 , v_loss:  0.693840483824412\n",
      "t_acc:  0.5970056144728634 , v_acc:  0.47619047619047616\n",
      "t_recall:  0.47688078244779275 , v_recall:  0.46989335520918785\n",
      "t_prec:  0.46969586494188287 , v_prec:  0.47399007795889436\n",
      "t_f:  0.467296113847838 , v_f:  0.4564705882352942\n",
      "////////\n"
     ]
    },
    {
     "name": "stderr",
     "output_type": "stream",
     "text": [
      "\r",
      "Iterations:   1%|▏                                  | 2/300 [00:02<05:44,  1.16s/it]"
     ]
    },
    {
     "name": "stdout",
     "output_type": "stream",
     "text": [
      "Epoch  1 , loss 0.6040106941671932\n",
      "Epoch  2 , loss 0.5761784262516919\n"
     ]
    },
    {
     "name": "stderr",
     "output_type": "stream",
     "text": [
      "\r",
      "Iterations:   1%|▎                                  | 3/300 [00:03<06:19,  1.28s/it]"
     ]
    },
    {
     "name": "stdout",
     "output_type": "stream",
     "text": [
      "Epoch:  2\n",
      "t_loss:  0.5761784262516919 , v_loss:  0.6941839456558228\n",
      "t_acc:  0.6497192763568309 , v_acc:  0.48214285714285715\n",
      "t_recall:  0.4919484191290556 , v_recall:  0.45389663658736673\n",
      "t_prec:  0.48114032442863175 , v_prec:  0.4596032202415181\n",
      "t_f:  0.4573027009468425 , v_f:  0.4493463436687639\n",
      "////////\n"
     ]
    },
    {
     "name": "stderr",
     "output_type": "stream",
     "text": [
      "\r",
      "Iterations:   1%|▍                                  | 4/300 [00:04<05:42,  1.16s/it]"
     ]
    },
    {
     "name": "stdout",
     "output_type": "stream",
     "text": [
      "Epoch  3 , loss 0.5596673389275869\n",
      "Epoch  4 , loss 0.5504051540412155\n"
     ]
    },
    {
     "name": "stderr",
     "output_type": "stream",
     "text": [
      "\r",
      "Iterations:   2%|▌                                  | 5/300 [00:06<05:56,  1.21s/it]"
     ]
    },
    {
     "name": "stdout",
     "output_type": "stream",
     "text": [
      "Epoch:  4\n",
      "t_loss:  0.5504051540412155 , v_loss:  0.6896026134490967\n",
      "t_acc:  0.6771678103555833 , v_acc:  0.6011904761904762\n",
      "t_recall:  0.4969465227735062 , v_recall:  0.4849056603773585\n",
      "t_prec:  0.4836310403974685 , v_prec:  0.4788602941176471\n",
      "t_f:  0.4349708435821399 , v_f:  0.47241621748300916\n",
      "////////\n"
     ]
    },
    {
     "name": "stderr",
     "output_type": "stream",
     "text": [
      "\r",
      "Iterations:   2%|▋                                  | 6/300 [00:07<05:38,  1.15s/it]"
     ]
    },
    {
     "name": "stdout",
     "output_type": "stream",
     "text": [
      "Epoch  5 , loss 0.5291168455984078\n",
      "Epoch  6 , loss 0.5191415174334657\n"
     ]
    },
    {
     "name": "stderr",
     "output_type": "stream",
     "text": [
      "\r",
      "Iterations:   2%|▊                                  | 7/300 [00:08<05:52,  1.20s/it]"
     ]
    },
    {
     "name": "stdout",
     "output_type": "stream",
     "text": [
      "Epoch:  6\n",
      "t_loss:  0.5191415174334657 , v_loss:  0.6760944326718649\n",
      "t_acc:  0.6862133499688085 , v_acc:  0.6726190476190477\n",
      "t_recall:  0.4959395005114413 , v_recall:  0.4963904840032814\n",
      "t_prec:  0.44510736148659147 , v_prec:  0.46646341463414637\n",
      "t_f:  0.4163563176208045 , v_f:  0.4189775514053952\n",
      "////////\n"
     ]
    },
    {
     "name": "stderr",
     "output_type": "stream",
     "text": [
      "\r",
      "Iterations:   3%|▉                                  | 8/300 [00:09<05:36,  1.15s/it]"
     ]
    },
    {
     "name": "stdout",
     "output_type": "stream",
     "text": [
      "Epoch  7 , loss 0.5039478324207605\n",
      "Epoch  8 , loss 0.5004779094574499\n"
     ]
    },
    {
     "name": "stderr",
     "output_type": "stream",
     "text": [
      "\r",
      "Iterations:   3%|█                                  | 9/300 [00:10<05:51,  1.21s/it]"
     ]
    },
    {
     "name": "stdout",
     "output_type": "stream",
     "text": [
      "Epoch:  8\n",
      "t_loss:  0.5004779094574499 , v_loss:  0.6637568275133768\n",
      "t_acc:  0.6955708047411104 , v_acc:  0.6845238095238095\n",
      "t_recall:  0.5023742371478812 , v_recall:  0.5\n",
      "t_prec:  0.5852889204498538 , v_prec:  0.34226190476190477\n",
      "t_f:  0.4189841893739699 , v_f:  0.40636042402826855\n",
      "////////\n"
     ]
    },
    {
     "name": "stderr",
     "output_type": "stream",
     "text": [
      "\r",
      "Iterations:   3%|█▏                                | 10/300 [00:11<05:26,  1.13s/it]"
     ]
    },
    {
     "name": "stdout",
     "output_type": "stream",
     "text": [
      "Epoch  9 , loss 0.4903423605011959\n",
      "Epoch  10 , loss 0.4879378623822156\n"
     ]
    },
    {
     "name": "stderr",
     "output_type": "stream",
     "text": [
      "\r",
      "Iterations:   4%|█▏                                | 11/300 [00:13<05:41,  1.18s/it]"
     ]
    },
    {
     "name": "stdout",
     "output_type": "stream",
     "text": [
      "Epoch:  10\n",
      "t_loss:  0.4879378623822156 , v_loss:  0.661965012550354\n",
      "t_acc:  0.6943231441048034 , v_acc:  0.6845238095238095\n",
      "t_recall:  0.500034249330529 , v_recall:  0.5\n",
      "t_prec:  0.5017947914910019 , v_prec:  0.34226190476190477\n",
      "t_f:  0.41370934995760333 , v_f:  0.40636042402826855\n",
      "////////\n"
     ]
    },
    {
     "name": "stderr",
     "output_type": "stream",
     "text": [
      "\r",
      "Iterations:   4%|█▎                                | 12/300 [00:13<05:14,  1.09s/it]"
     ]
    },
    {
     "name": "stdout",
     "output_type": "stream",
     "text": [
      "Epoch  11 , loss 0.4838151797360065\n",
      "Epoch  12 , loss 0.47612250377150145\n"
     ]
    },
    {
     "name": "stderr",
     "output_type": "stream",
     "text": [
      "\r",
      "Iterations:   4%|█▍                                | 13/300 [00:15<05:29,  1.15s/it]"
     ]
    },
    {
     "name": "stdout",
     "output_type": "stream",
     "text": [
      "Epoch:  12\n",
      "t_loss:  0.47612250377150145 , v_loss:  0.6656440893809\n",
      "t_acc:  0.6955708047411104 , v_acc:  0.6845238095238095\n",
      "t_recall:  0.5006420025514602 , v_recall:  0.5\n",
      "t_prec:  0.562363238512035 , v_prec:  0.34226190476190477\n",
      "t_f:  0.41318390326053117 , v_f:  0.40636042402826855\n",
      "////////\n"
     ]
    },
    {
     "name": "stderr",
     "output_type": "stream",
     "text": [
      "\r",
      "Iterations:   5%|█▌                                | 14/300 [00:16<05:01,  1.05s/it]"
     ]
    },
    {
     "name": "stdout",
     "output_type": "stream",
     "text": [
      "Epoch  13 , loss 0.4701952005133909\n",
      "Epoch  14 , loss 0.4731188381419462\n"
     ]
    },
    {
     "name": "stderr",
     "output_type": "stream",
     "text": [
      "\r",
      "Iterations:   5%|█▋                                | 15/300 [00:17<05:17,  1.11s/it]"
     ]
    },
    {
     "name": "stdout",
     "output_type": "stream",
     "text": [
      "Epoch:  14\n",
      "t_loss:  0.4731188381419462 , v_loss:  0.6702121694882711\n",
      "t_acc:  0.6955708047411104 , v_acc:  0.6845238095238095\n",
      "t_recall:  0.5000645910193199 , v_recall:  0.5\n",
      "t_prec:  0.514621708814653 , v_prec:  0.34226190476190477\n",
      "t_f:  0.4112175629773305 , v_f:  0.40636042402826855\n",
      "////////\n"
     ]
    },
    {
     "name": "stderr",
     "output_type": "stream",
     "text": [
      "\r",
      "Iterations:   5%|█▊                                | 16/300 [00:18<05:01,  1.06s/it]"
     ]
    },
    {
     "name": "stdout",
     "output_type": "stream",
     "text": [
      "Epoch  15 , loss 0.46402181947932525\n",
      "Epoch  16 , loss 0.46099577873360875\n"
     ]
    },
    {
     "name": "stderr",
     "output_type": "stream",
     "text": [
      "\r",
      "Iterations:   6%|█▉                                | 17/300 [00:19<05:39,  1.20s/it]"
     ]
    },
    {
     "name": "stdout",
     "output_type": "stream",
     "text": [
      "Epoch:  16\n",
      "t_loss:  0.46099577873360875 , v_loss:  0.6743017832438151\n",
      "t_acc:  0.6955708047411104 , v_acc:  0.6845238095238095\n",
      "t_recall:  0.4997758852532497 , v_recall:  0.5\n",
      "t_prec:  0.34789391575663026 , v_prec:  0.34226190476190477\n",
      "t_f:  0.41022810890360556 , v_f:  0.40636042402826855\n",
      "////////\n"
     ]
    },
    {
     "name": "stderr",
     "output_type": "stream",
     "text": [
      "\r",
      "Iterations:   6%|██                                | 18/300 [00:20<05:19,  1.13s/it]"
     ]
    },
    {
     "name": "stdout",
     "output_type": "stream",
     "text": [
      "Epoch  17 , loss 0.4557874868897831\n",
      "Epoch  18 , loss 0.46083902669887916\n"
     ]
    },
    {
     "name": "stderr",
     "output_type": "stream",
     "text": [
      "\r",
      "Iterations:   6%|██▏                               | 19/300 [00:22<05:48,  1.24s/it]"
     ]
    },
    {
     "name": "stdout",
     "output_type": "stream",
     "text": [
      "Epoch:  18\n",
      "t_loss:  0.46083902669887916 , v_loss:  0.6770405073960623\n",
      "t_acc:  0.6958827199001871 , v_acc:  0.6845238095238095\n",
      "t_recall:  0.5002887057660702 , v_recall:  0.5\n",
      "t_prec:  0.5980024968789014 , v_prec:  0.34226190476190477\n",
      "t_f:  0.41132712930991466 , v_f:  0.40636042402826855\n",
      "////////\n"
     ]
    },
    {
     "name": "stderr",
     "output_type": "stream",
     "text": [
      "\r",
      "Iterations:   7%|██▎                               | 20/300 [00:23<05:29,  1.18s/it]"
     ]
    },
    {
     "name": "stdout",
     "output_type": "stream",
     "text": [
      "Epoch  19 , loss 0.45420114666807887\n",
      "Epoch  20 , loss 0.4570985845490998\n"
     ]
    },
    {
     "name": "stderr",
     "output_type": "stream",
     "text": [
      "\r",
      "Iterations:   7%|██▍                               | 21/300 [00:24<05:58,  1.29s/it]"
     ]
    },
    {
     "name": "stdout",
     "output_type": "stream",
     "text": [
      "Epoch:  20\n",
      "t_loss:  0.4570985845490998 , v_loss:  0.6785557468732198\n",
      "t_acc:  0.6958827199001871 , v_acc:  0.6845238095238095\n",
      "t_recall:  0.5 , v_recall:  0.5\n",
      "t_prec:  0.34794135995009356 , v_prec:  0.34226190476190477\n",
      "t_f:  0.41033658267426887 , v_f:  0.40636042402826855\n",
      "////////\n"
     ]
    },
    {
     "name": "stderr",
     "output_type": "stream",
     "text": [
      "\r",
      "Iterations:   7%|██▍                               | 22/300 [00:25<05:27,  1.18s/it]"
     ]
    },
    {
     "name": "stdout",
     "output_type": "stream",
     "text": [
      "Epoch  21 , loss 0.45320382597399694\n",
      "Epoch  22 , loss 0.4602746221364713\n"
     ]
    },
    {
     "name": "stderr",
     "output_type": "stream",
     "text": [
      "\r",
      "Iterations:   8%|██▌                               | 23/300 [00:27<05:44,  1.24s/it]"
     ]
    },
    {
     "name": "stdout",
     "output_type": "stream",
     "text": [
      "Epoch:  22\n",
      "t_loss:  0.4602746221364713 , v_loss:  0.6787987848122915\n",
      "t_acc:  0.6958827199001871 , v_acc:  0.6845238095238095\n",
      "t_recall:  0.5002887057660702 , v_recall:  0.5\n",
      "t_prec:  0.5980024968789014 , v_prec:  0.34226190476190477\n",
      "t_f:  0.41132712930991466 , v_f:  0.40636042402826855\n",
      "////////\n"
     ]
    },
    {
     "name": "stderr",
     "output_type": "stream",
     "text": [
      "\r",
      "Iterations:   8%|██▋                               | 24/300 [00:27<05:06,  1.11s/it]"
     ]
    },
    {
     "name": "stdout",
     "output_type": "stream",
     "text": [
      "Epoch  23 , loss 0.45249297572117225\n",
      "Epoch  24 , loss 0.4581299605322819\n"
     ]
    },
    {
     "name": "stderr",
     "output_type": "stream",
     "text": [
      "\r",
      "Iterations:   8%|██▊                               | 25/300 [00:29<05:23,  1.18s/it]"
     ]
    },
    {
     "name": "stdout",
     "output_type": "stream",
     "text": [
      "Epoch:  24\n",
      "t_loss:  0.4581299605322819 , v_loss:  0.6780686477820078\n",
      "t_acc:  0.6958827199001871 , v_acc:  0.6845238095238095\n",
      "t_recall:  0.5 , v_recall:  0.5\n",
      "t_prec:  0.34794135995009356 , v_prec:  0.34226190476190477\n",
      "t_f:  0.41033658267426887 , v_f:  0.40636042402826855\n",
      "////////\n"
     ]
    },
    {
     "name": "stderr",
     "output_type": "stream",
     "text": [
      "\r",
      "Iterations:   9%|██▉                               | 26/300 [00:30<04:51,  1.06s/it]"
     ]
    },
    {
     "name": "stdout",
     "output_type": "stream",
     "text": [
      "Epoch  25 , loss 0.45110535329463436\n",
      "Epoch  26 , loss 0.4461772026968937\n"
     ]
    },
    {
     "name": "stderr",
     "output_type": "stream",
     "text": [
      "\r",
      "Iterations:   9%|███                               | 27/300 [00:31<05:14,  1.15s/it]"
     ]
    },
    {
     "name": "stdout",
     "output_type": "stream",
     "text": [
      "Epoch:  26\n",
      "t_loss:  0.4461772026968937 , v_loss:  0.6789099474747976\n",
      "t_acc:  0.6955708047411104 , v_acc:  0.6845238095238095\n",
      "t_recall:  0.4997758852532497 , v_recall:  0.5\n",
      "t_prec:  0.34789391575663026 , v_prec:  0.34226190476190477\n",
      "t_f:  0.41022810890360556 , v_f:  0.40636042402826855\n",
      "////////\n"
     ]
    },
    {
     "name": "stderr",
     "output_type": "stream",
     "text": [
      "\r",
      "Iterations:   9%|███▏                              | 28/300 [00:32<04:51,  1.07s/it]"
     ]
    },
    {
     "name": "stdout",
     "output_type": "stream",
     "text": [
      "Epoch  27 , loss 0.4544398428178301\n",
      "Epoch  28 , loss 0.4544091622034709\n"
     ]
    },
    {
     "name": "stderr",
     "output_type": "stream",
     "text": [
      "\r",
      "Iterations:  10%|███▎                              | 29/300 [00:33<05:12,  1.15s/it]"
     ]
    },
    {
     "name": "stdout",
     "output_type": "stream",
     "text": [
      "Epoch:  28\n",
      "t_loss:  0.4544091622034709 , v_loss:  0.6801687379678091\n",
      "t_acc:  0.6955708047411104 , v_acc:  0.6845238095238095\n",
      "t_recall:  0.4997758852532497 , v_recall:  0.5\n",
      "t_prec:  0.34789391575663026 , v_prec:  0.34226190476190477\n",
      "t_f:  0.41022810890360556 , v_f:  0.40636042402826855\n",
      "////////\n"
     ]
    },
    {
     "name": "stderr",
     "output_type": "stream",
     "text": [
      "\r",
      "Iterations:  10%|███▍                              | 30/300 [00:34<04:43,  1.05s/it]"
     ]
    },
    {
     "name": "stdout",
     "output_type": "stream",
     "text": [
      "Epoch  29 , loss 0.4411522179257636\n",
      "Epoch  30 , loss 0.4478233772165635\n"
     ]
    },
    {
     "name": "stderr",
     "output_type": "stream",
     "text": [
      "\r",
      "Iterations:  10%|███▌                              | 31/300 [00:35<05:12,  1.16s/it]"
     ]
    },
    {
     "name": "stdout",
     "output_type": "stream",
     "text": [
      "Epoch:  30\n",
      "t_loss:  0.4478233772165635 , v_loss:  0.6803131103515625\n",
      "t_acc:  0.6955708047411104 , v_acc:  0.6845238095238095\n",
      "t_recall:  0.4997758852532497 , v_recall:  0.5\n",
      "t_prec:  0.34789391575663026 , v_prec:  0.34226190476190477\n",
      "t_f:  0.41022810890360556 , v_f:  0.40636042402826855\n",
      "////////\n"
     ]
    },
    {
     "name": "stderr",
     "output_type": "stream",
     "text": [
      "\r",
      "Iterations:  11%|███▋                              | 32/300 [00:36<04:43,  1.06s/it]"
     ]
    },
    {
     "name": "stdout",
     "output_type": "stream",
     "text": [
      "Epoch  31 , loss 0.44630880858383926\n",
      "Epoch  32 , loss 0.4465617975767921\n"
     ]
    },
    {
     "name": "stderr",
     "output_type": "stream",
     "text": [
      "\r",
      "Iterations:  11%|███▋                              | 33/300 [00:38<05:21,  1.20s/it]"
     ]
    },
    {
     "name": "stdout",
     "output_type": "stream",
     "text": [
      "Epoch:  32\n",
      "t_loss:  0.4465617975767921 , v_loss:  0.6806013087431589\n",
      "t_acc:  0.6958827199001871 , v_acc:  0.6845238095238095\n",
      "t_recall:  0.5 , v_recall:  0.5\n",
      "t_prec:  0.34794135995009356 , v_prec:  0.34226190476190477\n",
      "t_f:  0.41033658267426887 , v_f:  0.40636042402826855\n",
      "////////\n"
     ]
    },
    {
     "name": "stderr",
     "output_type": "stream",
     "text": [
      "\r",
      "Iterations:  11%|███▊                              | 34/300 [00:39<04:54,  1.11s/it]"
     ]
    },
    {
     "name": "stdout",
     "output_type": "stream",
     "text": [
      "Epoch  33 , loss 0.44581373065125707\n",
      "Epoch  34 , loss 0.43585877631809194\n"
     ]
    },
    {
     "name": "stderr",
     "output_type": "stream",
     "text": [
      "\r",
      "Iterations:  12%|███▉                              | 35/300 [00:40<05:27,  1.24s/it]"
     ]
    },
    {
     "name": "stdout",
     "output_type": "stream",
     "text": [
      "Epoch:  34\n",
      "t_loss:  0.43585877631809194 , v_loss:  0.6819197634855906\n",
      "t_acc:  0.6955708047411104 , v_acc:  0.6845238095238095\n",
      "t_recall:  0.4997758852532497 , v_recall:  0.5\n",
      "t_prec:  0.34789391575663026 , v_prec:  0.34226190476190477\n",
      "t_f:  0.41022810890360556 , v_f:  0.40636042402826855\n",
      "////////\n"
     ]
    },
    {
     "name": "stderr",
     "output_type": "stream",
     "text": [
      "\r",
      "Iterations:  12%|████                              | 36/300 [00:41<04:55,  1.12s/it]"
     ]
    },
    {
     "name": "stdout",
     "output_type": "stream",
     "text": [
      "Epoch  35 , loss 0.43591037158872564\n",
      "Epoch  36 , loss 0.43642475499826316\n"
     ]
    },
    {
     "name": "stderr",
     "output_type": "stream",
     "text": [
      "\r",
      "Iterations:  12%|████▏                             | 37/300 [00:42<05:13,  1.19s/it]"
     ]
    },
    {
     "name": "stdout",
     "output_type": "stream",
     "text": [
      "Epoch:  36\n",
      "t_loss:  0.43642475499826316 , v_loss:  0.6814253032207489\n",
      "t_acc:  0.6955708047411104 , v_acc:  0.6845238095238095\n",
      "t_recall:  0.4997758852532497 , v_recall:  0.5\n",
      "t_prec:  0.34789391575663026 , v_prec:  0.34226190476190477\n",
      "t_f:  0.41022810890360556 , v_f:  0.40636042402826855\n",
      "////////\n"
     ]
    },
    {
     "name": "stderr",
     "output_type": "stream",
     "text": [
      "\r",
      "Iterations:  13%|████▎                             | 38/300 [00:43<04:58,  1.14s/it]"
     ]
    },
    {
     "name": "stdout",
     "output_type": "stream",
     "text": [
      "Epoch  37 , loss 0.44006578127543133\n",
      "Epoch  38 , loss 0.43768347127764834\n"
     ]
    },
    {
     "name": "stderr",
     "output_type": "stream",
     "text": [
      "\r",
      "Iterations:  13%|████▍                             | 39/300 [00:45<05:06,  1.18s/it]"
     ]
    },
    {
     "name": "stdout",
     "output_type": "stream",
     "text": [
      "Epoch:  38\n",
      "t_loss:  0.43768347127764834 , v_loss:  0.6767875254154205\n",
      "t_acc:  0.6955708047411104 , v_acc:  0.6845238095238095\n",
      "t_recall:  0.4997758852532497 , v_recall:  0.5\n",
      "t_prec:  0.34789391575663026 , v_prec:  0.34226190476190477\n",
      "t_f:  0.41022810890360556 , v_f:  0.40636042402826855\n",
      "////////\n"
     ]
    },
    {
     "name": "stderr",
     "output_type": "stream",
     "text": [
      "\r",
      "Iterations:  13%|████▌                             | 40/300 [00:46<04:53,  1.13s/it]"
     ]
    },
    {
     "name": "stdout",
     "output_type": "stream",
     "text": [
      "Epoch  39 , loss 0.43677762326072245\n",
      "Epoch  40 , loss 0.4327961825856976\n"
     ]
    },
    {
     "name": "stderr",
     "output_type": "stream",
     "text": [
      "\r",
      "Iterations:  14%|████▋                             | 41/300 [00:47<05:06,  1.18s/it]"
     ]
    },
    {
     "name": "stdout",
     "output_type": "stream",
     "text": [
      "Epoch:  40\n",
      "t_loss:  0.4327961825856976 , v_loss:  0.676533987124761\n",
      "t_acc:  0.6958827199001871 , v_acc:  0.6845238095238095\n",
      "t_recall:  0.5002887057660702 , v_recall:  0.5\n",
      "t_prec:  0.5980024968789014 , v_prec:  0.34226190476190477\n",
      "t_f:  0.41132712930991466 , v_f:  0.40636042402826855\n",
      "////////\n"
     ]
    },
    {
     "name": "stderr",
     "output_type": "stream",
     "text": [
      "\r",
      "Iterations:  14%|████▊                             | 42/300 [00:48<04:45,  1.11s/it]"
     ]
    },
    {
     "name": "stdout",
     "output_type": "stream",
     "text": [
      "Epoch  41 , loss 0.43463856390878264\n",
      "Epoch  42 , loss 0.43047962761392783\n"
     ]
    },
    {
     "name": "stderr",
     "output_type": "stream",
     "text": [
      "\r",
      "Iterations:  14%|████▊                             | 43/300 [00:49<04:59,  1.16s/it]"
     ]
    },
    {
     "name": "stdout",
     "output_type": "stream",
     "text": [
      "Epoch:  42\n",
      "t_loss:  0.43047962761392783 , v_loss:  0.6752482752005259\n",
      "t_acc:  0.6955708047411104 , v_acc:  0.6845238095238095\n",
      "t_recall:  0.5000645910193199 , v_recall:  0.5\n",
      "t_prec:  0.514621708814653 , v_prec:  0.34226190476190477\n",
      "t_f:  0.4112175629773305 , v_f:  0.40636042402826855\n",
      "////////\n"
     ]
    },
    {
     "name": "stderr",
     "output_type": "stream",
     "text": [
      "\r",
      "Iterations:  15%|████▉                             | 44/300 [00:50<04:32,  1.07s/it]"
     ]
    },
    {
     "name": "stdout",
     "output_type": "stream",
     "text": [
      "Epoch  43 , loss 0.4311358431975047\n",
      "Epoch  44 , loss 0.4341299066356584\n"
     ]
    },
    {
     "name": "stderr",
     "output_type": "stream",
     "text": [
      "\r",
      "Iterations:  15%|█████                             | 45/300 [00:51<04:46,  1.12s/it]"
     ]
    },
    {
     "name": "stdout",
     "output_type": "stream",
     "text": [
      "Epoch:  44\n",
      "t_loss:  0.4341299066356584 , v_loss:  0.675376276175181\n",
      "t_acc:  0.6955708047411104 , v_acc:  0.6845238095238095\n",
      "t_recall:  0.50035329678539 , v_recall:  0.5\n",
      "t_prec:  0.5480162449234613 , v_prec:  0.34226190476190477\n",
      "t_f:  0.4122028192720387 , v_f:  0.40636042402826855\n",
      "////////\n"
     ]
    },
    {
     "name": "stderr",
     "output_type": "stream",
     "text": [
      "\r",
      "Iterations:  15%|█████▏                            | 46/300 [00:52<04:26,  1.05s/it]"
     ]
    },
    {
     "name": "stdout",
     "output_type": "stream",
     "text": [
      "Epoch  45 , loss 0.4298050368533415\n",
      "Epoch  46 , loss 0.42041678785109055\n"
     ]
    },
    {
     "name": "stderr",
     "output_type": "stream",
     "text": [
      "\r",
      "Iterations:  16%|█████▎                            | 47/300 [00:54<04:45,  1.13s/it]"
     ]
    },
    {
     "name": "stdout",
     "output_type": "stream",
     "text": [
      "Epoch:  46\n",
      "t_loss:  0.42041678785109055 , v_loss:  0.6732897758483887\n",
      "t_acc:  0.6971303805364941 , v_acc:  0.6845238095238095\n",
      "t_recall:  0.502051282051282 , v_recall:  0.5\n",
      "t_prec:  0.8483760149906309 , v_prec:  0.34226190476190477\n",
      "t_f:  0.4147244913287636 , v_f:  0.40636042402826855\n",
      "////////\n"
     ]
    },
    {
     "name": "stderr",
     "output_type": "stream",
     "text": [
      "\r",
      "Iterations:  16%|█████▍                            | 48/300 [00:54<04:28,  1.06s/it]"
     ]
    },
    {
     "name": "stdout",
     "output_type": "stream",
     "text": [
      "Epoch  47 , loss 0.4238889135566412\n",
      "Epoch  48 , loss 0.42715107576519834\n"
     ]
    },
    {
     "name": "stderr",
     "output_type": "stream",
     "text": [
      "\r",
      "Iterations:  16%|█████▌                            | 49/300 [00:56<04:52,  1.17s/it]"
     ]
    },
    {
     "name": "stdout",
     "output_type": "stream",
     "text": [
      "Epoch:  48\n",
      "t_loss:  0.42715107576519834 , v_loss:  0.6736392080783844\n",
      "t_acc:  0.6961946350592639 , v_acc:  0.6845238095238095\n",
      "t_recall:  0.501378937811031 , v_recall:  0.5\n",
      "t_prec:  0.633948108783995 , v_prec:  0.34226190476190477\n",
      "t_f:  0.4143863952620465 , v_f:  0.40636042402826855\n",
      "////////\n"
     ]
    },
    {
     "name": "stderr",
     "output_type": "stream",
     "text": [
      "\r",
      "Iterations:  17%|█████▋                            | 50/300 [00:57<04:43,  1.14s/it]"
     ]
    },
    {
     "name": "stdout",
     "output_type": "stream",
     "text": [
      "Epoch  49 , loss 0.42219331656016557\n",
      "Epoch  50 , loss 0.4320138762978947\n"
     ]
    },
    {
     "name": "stderr",
     "output_type": "stream",
     "text": [
      "\r",
      "Iterations:  17%|█████▊                            | 51/300 [00:58<05:14,  1.26s/it]"
     ]
    },
    {
     "name": "stdout",
     "output_type": "stream",
     "text": [
      "Epoch:  50\n",
      "t_loss:  0.4320138762978947 , v_loss:  0.6720338960488638\n",
      "t_acc:  0.6968184653774173 , v_acc:  0.6845238095238095\n",
      "t_recall:  0.5026932846027422 , v_recall:  0.5\n",
      "t_prec:  0.666695120216247 , v_prec:  0.34226190476190477\n",
      "t_f:  0.41753064839189874 , v_f:  0.40636042402826855\n",
      "////////\n"
     ]
    },
    {
     "name": "stderr",
     "output_type": "stream",
     "text": [
      "\r",
      "Iterations:  17%|█████▉                            | 52/300 [00:59<04:55,  1.19s/it]"
     ]
    },
    {
     "name": "stdout",
     "output_type": "stream",
     "text": [
      "Epoch  51 , loss 0.42521515313316793\n",
      "Epoch  52 , loss 0.42485198057165335\n"
     ]
    },
    {
     "name": "stderr",
     "output_type": "stream",
     "text": [
      "\r",
      "Iterations:  18%|██████                            | 53/300 [01:01<05:19,  1.29s/it]"
     ]
    },
    {
     "name": "stdout",
     "output_type": "stream",
     "text": [
      "Epoch:  52\n",
      "t_loss:  0.42485198057165335 , v_loss:  0.6700821121533712\n",
      "t_acc:  0.6971303805364941 , v_acc:  0.6845238095238095\n",
      "t_recall:  0.503494810881633 , v_recall:  0.5\n",
      "t_prec:  0.6701127819548872 , v_prec:  0.34226190476190477\n",
      "t_f:  0.41957400854354565 , v_f:  0.40636042402826855\n",
      "////////\n"
     ]
    },
    {
     "name": "stderr",
     "output_type": "stream",
     "text": [
      "\r",
      "Iterations:  18%|██████                            | 54/300 [01:02<05:05,  1.24s/it]"
     ]
    },
    {
     "name": "stdout",
     "output_type": "stream",
     "text": [
      "Epoch  53 , loss 0.42333214890723136\n",
      "Epoch  54 , loss 0.4217142427668852\n"
     ]
    },
    {
     "name": "stderr",
     "output_type": "stream",
     "text": [
      "\r",
      "Iterations:  18%|██████▏                           | 55/300 [01:04<05:28,  1.34s/it]"
     ]
    },
    {
     "name": "stdout",
     "output_type": "stream",
     "text": [
      "Epoch:  54\n",
      "t_loss:  0.4217142427668852 , v_loss:  0.6717144747575124\n",
      "t_acc:  0.6974422956955708 , v_acc:  0.6845238095238095\n",
      "t_recall:  0.5042963371605236 , v_recall:  0.5\n",
      "t_prec:  0.6723848523416893 , v_prec:  0.34226190476190477\n",
      "t_f:  0.4216053148434711 , v_f:  0.40636042402826855\n",
      "////////\n"
     ]
    },
    {
     "name": "stderr",
     "output_type": "stream",
     "text": [
      "\r",
      "Iterations:  19%|██████▎                           | 56/300 [01:05<05:01,  1.23s/it]"
     ]
    },
    {
     "name": "stdout",
     "output_type": "stream",
     "text": [
      "Epoch  55 , loss 0.42194654427322686\n",
      "Epoch  56 , loss 0.42014097875239803\n"
     ]
    },
    {
     "name": "stderr",
     "output_type": "stream",
     "text": [
      "\r",
      "Iterations:  19%|██████▍                           | 57/300 [01:06<05:10,  1.28s/it]"
     ]
    },
    {
     "name": "stdout",
     "output_type": "stream",
     "text": [
      "Epoch:  56\n",
      "t_loss:  0.42014097875239803 , v_loss:  0.6703072736660639\n",
      "t_acc:  0.6974422956955708 , v_acc:  0.6845238095238095\n",
      "t_recall:  0.5037189256283833 , v_recall:  0.5\n",
      "t_prec:  0.6948854465296683 , v_prec:  0.34226190476190477\n",
      "t_f:  0.4196919076110972 , v_f:  0.40636042402826855\n",
      "////////\n"
     ]
    },
    {
     "name": "stderr",
     "output_type": "stream",
     "text": [
      "\r",
      "Iterations:  19%|██████▌                           | 58/300 [01:07<04:35,  1.14s/it]"
     ]
    },
    {
     "name": "stdout",
     "output_type": "stream",
     "text": [
      "Epoch  57 , loss 0.4360366475348379\n",
      "Epoch  58 , loss 0.4157743740315531\n"
     ]
    },
    {
     "name": "stderr",
     "output_type": "stream",
     "text": [
      "\r",
      "Iterations:  20%|██████▋                           | 59/300 [01:08<04:50,  1.20s/it]"
     ]
    },
    {
     "name": "stdout",
     "output_type": "stream",
     "text": [
      "Epoch:  58\n",
      "t_loss:  0.4157743740315531 , v_loss:  0.6682483851909637\n",
      "t_acc:  0.6965065502183406 , v_acc:  0.6845238095238095\n",
      "t_recall:  0.504201404452413 , v_recall:  0.5\n",
      "t_prec:  0.6196705426356589 , v_prec:  0.34226190476190477\n",
      "t_f:  0.42313678910760005 , v_f:  0.40636042402826855\n",
      "////////\n"
     ]
    },
    {
     "name": "stderr",
     "output_type": "stream",
     "text": [
      "\r",
      "Iterations:  20%|██████▊                           | 60/300 [01:09<04:20,  1.08s/it]"
     ]
    },
    {
     "name": "stdout",
     "output_type": "stream",
     "text": [
      "Epoch  59 , loss 0.4259517660327986\n",
      "Epoch  60 , loss 0.41728633291581096\n"
     ]
    },
    {
     "name": "stderr",
     "output_type": "stream",
     "text": [
      "\r",
      "Iterations:  20%|██████▉                           | 61/300 [01:10<04:44,  1.19s/it]"
     ]
    },
    {
     "name": "stdout",
     "output_type": "stream",
     "text": [
      "Epoch:  60\n",
      "t_loss:  0.41728633291581096 , v_loss:  0.6697166562080383\n",
      "t_acc:  0.6974422956955708 , v_acc:  0.6845238095238095\n",
      "t_recall:  0.5040076313944535 , v_recall:  0.5\n",
      "t_prec:  0.6821268150005223 , v_prec:  0.34226190476190477\n",
      "t_f:  0.4206506227900548 , v_f:  0.40636042402826855\n",
      "////////\n"
     ]
    },
    {
     "name": "stderr",
     "output_type": "stream",
     "text": [
      "\r",
      "Iterations:  21%|███████                           | 62/300 [01:11<04:18,  1.09s/it]"
     ]
    },
    {
     "name": "stdout",
     "output_type": "stream",
     "text": [
      "Epoch  61 , loss 0.41578009374001446\n",
      "Epoch  62 , loss 0.4137128679191365\n"
     ]
    },
    {
     "name": "stderr",
     "output_type": "stream",
     "text": [
      "\r",
      "Iterations:  21%|███████▏                          | 63/300 [01:13<04:45,  1.21s/it]"
     ]
    },
    {
     "name": "stdout",
     "output_type": "stream",
     "text": [
      "Epoch:  62\n",
      "t_loss:  0.4137128679191365 , v_loss:  0.6696892231702805\n",
      "t_acc:  0.6977542108546475 , v_acc:  0.6845238095238095\n",
      "t_recall:  0.5050978634394143 , v_recall:  0.5\n",
      "t_prec:  0.6740269930947898 , v_prec:  0.34226190476190477\n",
      "t_f:  0.4236246768270001 , v_f:  0.40636042402826855\n",
      "////////\n"
     ]
    },
    {
     "name": "stderr",
     "output_type": "stream",
     "text": [
      "\r",
      "Iterations:  21%|███████▎                          | 64/300 [01:14<04:20,  1.10s/it]"
     ]
    },
    {
     "name": "stdout",
     "output_type": "stream",
     "text": [
      "Epoch  63 , loss 0.4215417194600199\n",
      "Epoch  64 , loss 0.41575294557739706\n"
     ]
    },
    {
     "name": "stderr",
     "output_type": "stream",
     "text": [
      "\r",
      "Iterations:  22%|███████▎                          | 65/300 [01:15<04:47,  1.23s/it]"
     ]
    },
    {
     "name": "stdout",
     "output_type": "stream",
     "text": [
      "Epoch:  64\n",
      "t_loss:  0.41575294557739706 , v_loss:  0.6693232953548431\n",
      "t_acc:  0.6986899563318777 , v_acc:  0.6845238095238095\n",
      "t_recall:  0.5072137365100162 , v_recall:  0.5\n",
      "t_prec:  0.6828143021914648 , v_prec:  0.34226190476190477\n",
      "t_f:  0.42868495910212845 , v_f:  0.40636042402826855\n",
      "////////\n"
     ]
    },
    {
     "name": "stderr",
     "output_type": "stream",
     "text": [
      "\r",
      "Iterations:  22%|███████▍                          | 66/300 [01:16<04:22,  1.12s/it]"
     ]
    },
    {
     "name": "stdout",
     "output_type": "stream",
     "text": [
      "Epoch  65 , loss 0.41762377701553643\n",
      "Epoch  66 , loss 0.4194067021210988\n"
     ]
    },
    {
     "name": "stderr",
     "output_type": "stream",
     "text": [
      "\r",
      "Iterations:  22%|███████▌                          | 67/300 [01:18<04:49,  1.24s/it]"
     ]
    },
    {
     "name": "stdout",
     "output_type": "stream",
     "text": [
      "Epoch:  66\n",
      "t_loss:  0.4194067021210988 , v_loss:  0.668197512626648\n",
      "t_acc:  0.6986899563318777 , v_acc:  0.6845238095238095\n",
      "t_recall:  0.5060589134457355 , v_recall:  0.5\n",
      "t_prec:  0.7176523045926708 , v_prec:  0.34226190476190477\n",
      "t_f:  0.4249372202205481 , v_f:  0.40636042402826855\n",
      "////////\n"
     ]
    },
    {
     "name": "stderr",
     "output_type": "stream",
     "text": [
      "\r",
      "Iterations:  23%|███████▋                          | 68/300 [01:18<04:19,  1.12s/it]"
     ]
    },
    {
     "name": "stdout",
     "output_type": "stream",
     "text": [
      "Epoch  67 , loss 0.4079811092393071\n",
      "Epoch  68 , loss 0.415478254942333\n"
     ]
    },
    {
     "name": "stderr",
     "output_type": "stream",
     "text": [
      "\r",
      "Iterations:  23%|███████▊                          | 69/300 [01:20<04:35,  1.19s/it]"
     ]
    },
    {
     "name": "stdout",
     "output_type": "stream",
     "text": [
      "Epoch:  68\n",
      "t_loss:  0.415478254942333 , v_loss:  0.6652550250291824\n",
      "t_acc:  0.7018091079226451 , v_acc:  0.6845238095238095\n",
      "t_recall:  0.5114758243400108 , v_recall:  0.5\n",
      "t_prec:  0.7536195072390144 , v_prec:  0.34226190476190477\n",
      "t_f:  0.43643062086232143 , v_f:  0.40636042402826855\n",
      "////////\n"
     ]
    },
    {
     "name": "stderr",
     "output_type": "stream",
     "text": [
      "\r",
      "Iterations:  23%|███████▉                          | 70/300 [01:21<04:21,  1.14s/it]"
     ]
    },
    {
     "name": "stdout",
     "output_type": "stream",
     "text": [
      "Epoch  69 , loss 0.41388371528363693\n",
      "Epoch  70 , loss 0.4219456881869073\n"
     ]
    },
    {
     "name": "stderr",
     "output_type": "stream",
     "text": [
      "\r",
      "Iterations:  24%|████████                          | 71/300 [01:22<04:29,  1.18s/it]"
     ]
    },
    {
     "name": "stdout",
     "output_type": "stream",
     "text": [
      "Epoch:  70\n",
      "t_loss:  0.4219456881869073 , v_loss:  0.6648969054222107\n",
      "t_acc:  0.6986899563318777 , v_acc:  0.6845238095238095\n",
      "t_recall:  0.5095233826385777 , v_recall:  0.5\n",
      "t_prec:  0.6523097736179223 , v_prec:  0.34226190476190477\n",
      "t_f:  0.4359963373405509 , v_f:  0.40636042402826855\n",
      "////////\n"
     ]
    },
    {
     "name": "stderr",
     "output_type": "stream",
     "text": [
      "\r",
      "Iterations:  24%|████████▏                         | 72/300 [01:23<04:27,  1.17s/it]"
     ]
    },
    {
     "name": "stdout",
     "output_type": "stream",
     "text": [
      "Epoch  71 , loss 0.41129733300676535\n",
      "Epoch  72 , loss 0.4131573789259967\n"
     ]
    },
    {
     "name": "stderr",
     "output_type": "stream",
     "text": [
      "\r",
      "Iterations:  24%|████████▎                         | 73/300 [01:25<04:36,  1.22s/it]"
     ]
    },
    {
     "name": "stdout",
     "output_type": "stream",
     "text": [
      "Epoch:  72\n",
      "t_loss:  0.4131573789259967 , v_loss:  0.6630757997433344\n",
      "t_acc:  0.7018091079226451 , v_acc:  0.6845238095238095\n",
      "t_recall:  0.5120532358721511 , v_recall:  0.5\n",
      "t_prec:  0.7362346263008515 , v_prec:  0.34226190476190477\n",
      "t_f:  0.43824692724733416 , v_f:  0.40636042402826855\n",
      "////////\n"
     ]
    },
    {
     "name": "stderr",
     "output_type": "stream",
     "text": [
      "\r",
      "Iterations:  25%|████████▍                         | 74/300 [01:26<04:21,  1.16s/it]"
     ]
    },
    {
     "name": "stdout",
     "output_type": "stream",
     "text": [
      "Epoch  73 , loss 0.40845417421238095\n",
      "Epoch  74 , loss 0.4100114025321661\n"
     ]
    },
    {
     "name": "stderr",
     "output_type": "stream",
     "text": [
      "\r",
      "Iterations:  25%|████████▌                         | 75/300 [01:27<04:30,  1.20s/it]"
     ]
    },
    {
     "name": "stdout",
     "output_type": "stream",
     "text": [
      "Epoch:  74\n",
      "t_loss:  0.4100114025321661 , v_loss:  0.665280282497406\n",
      "t_acc:  0.7008733624454149 , v_acc:  0.6845238095238095\n",
      "t_recall:  0.5128244204622511 , v_recall:  0.5\n",
      "t_prec:  0.6840299767785518 , v_prec:  0.34226190476190477\n",
      "t_f:  0.4423030005548757 , v_f:  0.40636042402826855\n",
      "////////\n"
     ]
    },
    {
     "name": "stderr",
     "output_type": "stream",
     "text": [
      "\r",
      "Iterations:  25%|████████▌                         | 76/300 [01:28<04:05,  1.09s/it]"
     ]
    },
    {
     "name": "stdout",
     "output_type": "stream",
     "text": [
      "Epoch  75 , loss 0.42013874883745234\n",
      "Epoch  76 , loss 0.4151705445027819\n"
     ]
    },
    {
     "name": "stderr",
     "output_type": "stream",
     "text": [
      "\r",
      "Iterations:  26%|████████▋                         | 77/300 [01:29<04:16,  1.15s/it]"
     ]
    },
    {
     "name": "stdout",
     "output_type": "stream",
     "text": [
      "Epoch:  76\n",
      "t_loss:  0.4151705445027819 , v_loss:  0.6647889713446299\n",
      "t_acc:  0.6990018714909545 , v_acc:  0.6904761904761905\n",
      "t_recall:  0.5106136146835385 , v_recall:  0.5094339622641509\n",
      "t_prec:  0.6523049926113573 , v_prec:  0.844311377245509\n",
      "t_f:  0.4388137596824348 , v_f:  0.4263199369582348\n",
      "////////\n"
     ]
    },
    {
     "name": "stderr",
     "output_type": "stream",
     "text": [
      "\r",
      "Iterations:  26%|████████▊                         | 78/300 [01:30<03:57,  1.07s/it]"
     ]
    },
    {
     "name": "stdout",
     "output_type": "stream",
     "text": [
      "Epoch  77 , loss 0.4124668509352441\n",
      "Epoch  78 , loss 0.4083057846508774\n"
     ]
    },
    {
     "name": "stderr",
     "output_type": "stream",
     "text": [
      "\r",
      "Iterations:  26%|████████▉                         | 79/300 [01:31<04:20,  1.18s/it]"
     ]
    },
    {
     "name": "stdout",
     "output_type": "stream",
     "text": [
      "Epoch:  78\n",
      "t_loss:  0.4083057846508774 , v_loss:  0.6641061852375666\n",
      "t_acc:  0.7002495321272614 , v_acc:  0.6904761904761905\n",
      "t_recall:  0.5129536025008907 , v_recall:  0.5094339622641509\n",
      "t_prec:  0.6655445102462869 , v_prec:  0.844311377245509\n",
      "t_f:  0.4437792951102046 , v_f:  0.4263199369582348\n",
      "////////\n"
     ]
    },
    {
     "name": "stderr",
     "output_type": "stream",
     "text": [
      "\r",
      "Iterations:  27%|█████████                         | 80/300 [01:32<04:10,  1.14s/it]"
     ]
    },
    {
     "name": "stdout",
     "output_type": "stream",
     "text": [
      "Epoch  79 , loss 0.4133868164875928\n",
      "Epoch  80 , loss 0.40700327941015657\n"
     ]
    },
    {
     "name": "stderr",
     "output_type": "stream",
     "text": [
      "\r",
      "Iterations:  27%|█████████▏                        | 81/300 [01:34<04:27,  1.22s/it]"
     ]
    },
    {
     "name": "stdout",
     "output_type": "stream",
     "text": [
      "Epoch:  80\n",
      "t_loss:  0.40700327941015657 , v_loss:  0.6649626046419144\n",
      "t_acc:  0.6977542108546475 , v_acc:  0.6904761904761905\n",
      "t_recall:  0.5079849211001161 , v_recall:  0.5094339622641509\n",
      "t_prec:  0.6371525584333544 , v_prec:  0.844311377245509\n",
      "t_f:  0.432888002913496 , v_f:  0.4263199369582348\n",
      "////////\n"
     ]
    },
    {
     "name": "stderr",
     "output_type": "stream",
     "text": [
      "\r",
      "Iterations:  27%|█████████▎                        | 82/300 [01:35<04:22,  1.20s/it]"
     ]
    },
    {
     "name": "stdout",
     "output_type": "stream",
     "text": [
      "Epoch  81 , loss 0.4027040942626841\n",
      "Epoch  82 , loss 0.40313253274150923\n"
     ]
    },
    {
     "name": "stderr",
     "output_type": "stream",
     "text": [
      "\r",
      "Iterations:  28%|█████████▍                        | 83/300 [01:36<04:40,  1.29s/it]"
     ]
    },
    {
     "name": "stdout",
     "output_type": "stream",
     "text": [
      "Epoch:  82\n",
      "t_loss:  0.40313253274150923 , v_loss:  0.6648865789175034\n",
      "t_acc:  0.7018091079226451 , v_acc:  0.6964285714285714\n",
      "t_recall:  0.5146515877667828 , v_recall:  0.5188679245283019\n",
      "t_prec:  0.6907168375132399 , v_prec:  0.8463855421686747\n",
      "t_f:  0.4462378802157712 , v_f:  0.44561630540278224\n",
      "////////\n"
     ]
    },
    {
     "name": "stderr",
     "output_type": "stream",
     "text": [
      "\r",
      "Iterations:  28%|█████████▌                        | 84/300 [01:38<04:30,  1.25s/it]"
     ]
    },
    {
     "name": "stdout",
     "output_type": "stream",
     "text": [
      "Epoch  83 , loss 0.4110650040355383\n",
      "Epoch  84 , loss 0.40441230991307425\n"
     ]
    },
    {
     "name": "stderr",
     "output_type": "stream",
     "text": [
      "\r",
      "Iterations:  28%|█████████▋                        | 85/300 [01:39<04:43,  1.32s/it]"
     ]
    },
    {
     "name": "stdout",
     "output_type": "stream",
     "text": [
      "Epoch:  84\n",
      "t_loss:  0.40441230991307425 , v_loss:  0.6616170505682627\n",
      "t_acc:  0.7021210230817218 , v_acc:  0.7023809523809523\n",
      "t_recall:  0.5148757025135331 , v_recall:  0.5283018867924528\n",
      "t_prec:  0.6972952538900541 , v_prec:  0.8484848484848485\n",
      "t_f:  0.44638131634358846 , v_f:  0.4642857142857143\n",
      "////////\n"
     ]
    },
    {
     "name": "stderr",
     "output_type": "stream",
     "text": [
      "\r",
      "Iterations:  29%|█████████▋                        | 86/300 [01:40<04:23,  1.23s/it]"
     ]
    },
    {
     "name": "stdout",
     "output_type": "stream",
     "text": [
      "Epoch  85 , loss 0.4023524385456945\n"
     ]
    }
   ],
   "source": [
    "from utilities.userfold_framework import *\n",
    "from utilities.EEG_func import *\n",
    "import Models.model_func as Model_Func\n",
    "import numpy as np\n",
    "import pandas as pd\n",
    "import matplotlib.pyplot as plt\n",
    "import seaborn as sns\n",
    "from typing import List\n",
    "from torcheeg.models import EEGNet\n",
    "# import Models.model_func as Model_Func\n",
    "from torch import nn\n",
    "from Models.multi_models import *\n",
    "\n",
    "DEVICE= torch.device(\"cuda\") if torch.cuda.is_available() else torch.device(\"cpu\")\n",
    "\n",
    "learning_rate = 0.00005\n",
    "batch_size = 64\n",
    "n_epochs = 300\n",
    "transpose_channels=True\n",
    "participants_dictionary=[]\n",
    "# participants_online_dictionary=[]\n",
    "participants_grads_dictionary={}\n",
    "b_acc_list=[]\n",
    "c0_acc_list=[]\n",
    "c1_acc_list=[]\n",
    "\n",
    "class LSTM_output(torch.nn.Module):\n",
    "    def forward(self, x):\n",
    "        return x[0].unsqueeze(0)\n",
    "\n",
    "\n",
    "for i in range(len(participants)):\n",
    "\n",
    "    train_dataloader, val_dataloader, classes, input_dim, class_ratio= user_fold_load(i,\n",
    "                                                                                      raw_user_fold,\n",
    "                                                                                      participants,\n",
    "                                                                                      batch_size=batch_size,\n",
    "                                                                                      transpose_channels=transpose_channels)\n",
    "\n",
    "    classifier= EEGNet(\n",
    "        chunk_size=input_dim[1],\n",
    "        num_electrodes=input_dim[0],\n",
    "        num_classes=classes,\n",
    "        kernel_1= 32,\n",
    "        kernel_2=32,\n",
    "        F1=8,\n",
    "        F2=16,\n",
    "        dropout=0.5\n",
    "    ).to(DEVICE)\n",
    "    \n",
    "#     resnet = ResNetPlus(input_dim[0], classes, bn_1st=False)\n",
    "#     softmax_activation = nn.LogSoftmax(dim=1)\n",
    "#     classifier = nn.Sequential(resnet, softmax_activation).to(DEVICE)\n",
    "\n",
    "    \n",
    "#     classifier = DataGliderBasic_Model(DEVICE, input_dim, classes)\n",
    "#     classifier.to(DEVICE)\n",
    "    \n",
    "#     optimizer= torch.optim.RMSprop(classifier.parameters(), lr=learning_rate)\n",
    "    \n",
    "    \n",
    "    criterion= torch.nn.CrossEntropyLoss(weight=torch.tensor(class_ratio, dtype=torch.float).to(DEVICE))\n",
    "#     criterion = nn.NLLLoss(weight=torch.tensor(class_ratio, dtype=torch.float).to(DEVICE))\n",
    "        \n",
    "    saved_dir= \"./EEG/saved_models/Userfold/run0\"\n",
    "    nonlinear_func= torch.nn.Sequential(\n",
    "#                     LSTM_input(),\n",
    "                    torch.nn.LSTM(input_dim[1],input_dim[1]),\n",
    "                    LSTM_output(),\n",
    "                    torch.nn.Sigmoid(),\n",
    "#                     EEGNet_input()\n",
    "                        ).to(DEVICE)\n",
    "    model = EEGNet_NeuralFS_TS_Wrapper(DEVICE, classifier, input_dim[1],\n",
    "                                nonlinear_func=nonlinear_func\n",
    "                                 ).to(DEVICE)\n",
    "    optimizer = torch.optim.Adam(model.parameters(), lr = learning_rate)\n",
    "    scheduler= torch.optim.lr_scheduler.ReduceLROnPlateau(optimizer, patience=2)\n",
    "\n",
    "    \n",
    "    train_func= eeg_train\n",
    "    model.training_procedure(iteration=n_epochs,\n",
    "                                    train_dataloader=train_dataloader,\n",
    "                                     val_dataloader=val_dataloader,\n",
    "                                     print_cycle=2,\n",
    "                                     path=f\"./dictionary/intermdiate_dicts\",\n",
    "                                     loss_func=criterion,\n",
    "                                     optimiser=optimizer, #scheduler=scheduler,\n",
    "                                     train_func=train_func\n",
    "                                    )\n",
    "    if model.epoch == n_epochs+1:\n",
    "        EPOCH= n_epochs\n",
    "    else:\n",
    "        EPOCH= model.epoch\n",
    "    \n",
    "    torch.save(model.state_dict(), \n",
    "           os.path.join(\n",
    "               saved_dir, f\"Userfold-{participants[i]}-EEGNet-NFS_TS-e{EPOCH}.pt\"\n",
    "           )\n",
    "    )\n",
    "\n",
    "    pickle.dump( model.return_pairwise_weights(), \n",
    "                open(f\"{saved_dir}/Userfold-{participants[i]}-EEGNet-NFS_TS-w-e{EPOCH}.pkl\", \"wb\") \n",
    "               )    \n",
    "\n",
    "# OR\n",
    "#     model.load_state_dict(\n",
    "#     torch.load(\n",
    "#         open(\n",
    "#             os.path.join(\n",
    "#                 saved_dir, f\"Userfold-{participants[i]}-EEGNet-NFS_TS-e{n_epochs}.pt\"\n",
    "#             ), \"rb\"\n",
    "#         )\n",
    "#               )\n",
    "#     )\n",
    "\n",
    "    \n",
    "    prediction, dictionary= model.prediction_procedure(val_dataloader, dict_flag=True)\n",
    "    \n",
    "    ys= np.concatenate([y.detach().cpu().numpy() for x, y in val_dataloader])\n",
    "    \n",
    "    c0_acc, c1_acc, b_acc= calculate_accuracy(ys, prediction)\n",
    "    print(\"c0_acc\", c0_acc, \", c1_acc\", c1_acc, \", b_acc\", b_acc)\n",
    "    b_acc_list.append(b_acc)\n",
    "    c0_acc_list.append(c0_acc)\n",
    "    c1_acc_list.append(c1_acc)\n",
    "    participants_dictionary.append(dictionary)\n",
    "    \n",
    "\n",
    "tmp=[]\n",
    "for i, dictionary in enumerate(participants_dictionary):\n",
    "    print(f\"User {participants[i]} f1: {dictionary['weighted avg']['f1-score']} acc: {dictionary['accuracy']}\")\n",
    "    print(f\" c0: {c0_acc_list[i]} c1: {c1_acc_list[i]} bacc: {b_acc_list[i]}\")\n",
    "    tmp.append(dictionary['weighted avg']['f1-score'])\n",
    "\n",
    "print(f\"average {np.mean(tmp)}\")\n",
    "print()\n",
    "print(np.array(b_acc_list).mean())\n",
    "print(np.array(c1_acc_list).mean())\n",
    "print(np.array(c0_acc_list).mean())\n"
   ]
  },
  {
   "cell_type": "code",
   "execution_count": null,
   "id": "eb9de653",
   "metadata": {},
   "outputs": [],
   "source": [
    "userfold_results_summary(participants_dictionary, participants)\n",
    "userfold_classwise_results_summary(participants_dictionary, participants)\n"
   ]
  }
 ],
 "metadata": {
  "kernelspec": {
   "display_name": "Python [conda env:pytorch]",
   "language": "python",
   "name": "conda-env-pytorch-py"
  },
  "language_info": {
   "codemirror_mode": {
    "name": "ipython",
    "version": 3
   },
   "file_extension": ".py",
   "mimetype": "text/x-python",
   "name": "python",
   "nbconvert_exporter": "python",
   "pygments_lexer": "ipython3",
   "version": "3.7.10"
  }
 },
 "nbformat": 4,
 "nbformat_minor": 5
}
