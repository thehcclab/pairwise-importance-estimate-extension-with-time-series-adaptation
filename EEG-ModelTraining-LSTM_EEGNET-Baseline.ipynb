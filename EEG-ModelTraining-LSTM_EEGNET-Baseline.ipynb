{
 "cells": [
  {
   "cell_type": "code",
   "execution_count": 1,
   "id": "4c9e593e",
   "metadata": {},
   "outputs": [],
   "source": [
    "import numpy as np\n",
    "import pickle\n",
    "import sys\n",
    "from typing import List\n",
    "import torch\n",
    "import os"
   ]
  },
  {
   "cell_type": "code",
   "execution_count": 2,
   "id": "eb96ce98",
   "metadata": {},
   "outputs": [],
   "source": [
    "participant_data_path = './EEG/number'\n",
    "processed_data_path = './EEG/processed_data'\n",
    "split_data_path = './EEG/split_data'"
   ]
  },
  {
   "cell_type": "code",
   "execution_count": 3,
   "id": "62c74d3a",
   "metadata": {},
   "outputs": [],
   "source": [
    "ps = os.listdir(participant_data_path)\n",
    "participants=[]\n",
    "for p in ps:\n",
    "    p= p[:3]\n",
    "    if p not in participants:\n",
    "        participants.append(p)\n",
    "        \n",
    "participants= sorted(participants)\n",
    "# participants, len(participants)"
   ]
  },
  {
   "cell_type": "code",
   "execution_count": 4,
   "id": "28f3009e",
   "metadata": {
    "scrolled": true
   },
   "outputs": [],
   "source": [
    "load_name=f\"userfold_data_scaled_p_dictionary-number\"\n",
    "data_dir = \"./EEG/split_data/standard_scaled\"\n",
    "try:\n",
    "    raw_user_fold= pickle.load(open(os.path.join(data_dir, f\"{load_name}.pkl\"), \"rb\"))\n",
    "except:\n",
    "    print(f\"pickle file does not exist. Use EEG-Preprocess.ipynb and EEG-Split.ipynb to save data setting.\")\n",
    "    sys.exit()"
   ]
  },
  {
   "cell_type": "code",
   "execution_count": null,
   "id": "082a80ac",
   "metadata": {
    "scrolled": true
   },
   "outputs": [
    {
     "name": "stderr",
     "output_type": "stream",
     "text": [
      "\r",
      "Iterations:   0%|                                           | 0/300 [00:00<?, ?it/s]"
     ]
    },
    {
     "name": "stdout",
     "output_type": "stream",
     "text": [
      "Epoch  0 , loss 0.7660967754382714\n"
     ]
    },
    {
     "name": "stderr",
     "output_type": "stream",
     "text": [
      "\r",
      "Iterations:   0%|                                   | 1/300 [00:01<07:43,  1.55s/it]"
     ]
    },
    {
     "name": "stdout",
     "output_type": "stream",
     "text": [
      "Epoch:  0\n",
      "t_loss:  0.7660967754382714 , v_loss:  0.6968508164087931\n",
      "t_acc:  0.44506691565515094 , v_acc:  0.3105590062111801\n",
      "t_recall:  0.5116955572940256 , v_recall:  0.5\n",
      "t_prec:  0.5111281311948098 , v_prec:  0.15527950310559005\n",
      "t_f:  0.4445710665723109 , v_f:  0.23696682464454977\n",
      "////////\n"
     ]
    },
    {
     "name": "stderr",
     "output_type": "stream",
     "text": [
      "\r",
      "Iterations:   1%|▏                                  | 2/300 [00:02<06:10,  1.24s/it]"
     ]
    },
    {
     "name": "stdout",
     "output_type": "stream",
     "text": [
      "Epoch  1 , loss 0.6933280428250631\n",
      "Epoch  2 , loss 0.6284113479595558\n"
     ]
    },
    {
     "name": "stderr",
     "output_type": "stream",
     "text": [
      "\r",
      "Iterations:   1%|▎                                  | 3/300 [00:04<06:50,  1.38s/it]"
     ]
    },
    {
     "name": "stdout",
     "output_type": "stream",
     "text": [
      "Epoch:  2\n",
      "t_loss:  0.6284113479595558 , v_loss:  0.6838650703430176\n",
      "t_acc:  0.6075319016495487 , v_acc:  0.6894409937888198\n",
      "t_recall:  0.511447825311209 , v_recall:  0.5\n",
      "t_prec:  0.5129302460172692 , v_prec:  0.3447204968944099\n",
      "t_f:  0.5102480494684654 , v_f:  0.4080882352941176\n",
      "////////\n"
     ]
    },
    {
     "name": "stderr",
     "output_type": "stream",
     "text": [
      "\r",
      "Iterations:   1%|▍                                  | 4/300 [00:05<06:04,  1.23s/it]"
     ]
    },
    {
     "name": "stdout",
     "output_type": "stream",
     "text": [
      "Epoch  3 , loss 0.576243170336181\n",
      "Epoch  4 , loss 0.5319773911261091\n"
     ]
    },
    {
     "name": "stderr",
     "output_type": "stream",
     "text": [
      "\r",
      "Iterations:   2%|▌                                  | 5/300 [00:06<06:35,  1.34s/it]"
     ]
    },
    {
     "name": "stdout",
     "output_type": "stream",
     "text": [
      "Epoch:  4\n",
      "t_loss:  0.5319773911261091 , v_loss:  0.6645429333051046\n",
      "t_acc:  0.6862745098039216 , v_acc:  0.6894409937888198\n",
      "t_recall:  0.5082403480600046 , v_recall:  0.5\n",
      "t_prec:  0.5436563528573437 , v_prec:  0.3447204968944099\n",
      "t_f:  0.45191878112113243 , v_f:  0.4080882352941176\n",
      "////////\n"
     ]
    },
    {
     "name": "stderr",
     "output_type": "stream",
     "text": [
      "\r",
      "Iterations:   2%|▋                                  | 6/300 [00:07<05:52,  1.20s/it]"
     ]
    },
    {
     "name": "stdout",
     "output_type": "stream",
     "text": [
      "Epoch  5 , loss 0.514882001806708\n",
      "Epoch  6 , loss 0.4923064223691529\n"
     ]
    },
    {
     "name": "stderr",
     "output_type": "stream",
     "text": [
      "\r",
      "Iterations:   2%|▊                                  | 7/300 [00:09<06:30,  1.33s/it]"
     ]
    },
    {
     "name": "stdout",
     "output_type": "stream",
     "text": [
      "Epoch:  6\n",
      "t_loss:  0.4923064223691529 , v_loss:  0.6682543655236562\n",
      "t_acc:  0.6918767507002801 , v_acc:  0.6894409937888198\n",
      "t_recall:  0.4984655714305321 , v_recall:  0.5\n",
      "t_prec:  0.4474788600062637 , v_prec:  0.3447204968944099\n",
      "t_f:  0.41281420615734044 , v_f:  0.4080882352941176\n",
      "////////\n"
     ]
    },
    {
     "name": "stderr",
     "output_type": "stream",
     "text": [
      "\r",
      "Iterations:   3%|▉                                  | 8/300 [00:10<05:51,  1.20s/it]"
     ]
    },
    {
     "name": "stdout",
     "output_type": "stream",
     "text": [
      "Epoch  7 , loss 0.48173680200296287\n",
      "Epoch  8 , loss 0.47063882210675406\n"
     ]
    },
    {
     "name": "stderr",
     "output_type": "stream",
     "text": [
      "\r",
      "Iterations:   3%|█                                  | 9/300 [00:11<06:29,  1.34s/it]"
     ]
    },
    {
     "name": "stdout",
     "output_type": "stream",
     "text": [
      "Epoch:  8\n",
      "t_loss:  0.47063882210675406 , v_loss:  0.70901686946551\n",
      "t_acc:  0.6943666355431062 , v_acc:  0.6894409937888198\n",
      "t_recall:  0.4993926792111006 , v_recall:  0.5\n",
      "t_prec:  0.43101028999064545 , v_prec:  0.3447204968944099\n",
      "t_f:  0.4107920778766774 , v_f:  0.4080882352941176\n",
      "////////\n"
     ]
    },
    {
     "name": "stderr",
     "output_type": "stream",
     "text": [
      "\r",
      "Iterations:   3%|█▏                                | 10/300 [00:12<05:50,  1.21s/it]"
     ]
    },
    {
     "name": "stdout",
     "output_type": "stream",
     "text": [
      "Epoch  9 , loss 0.4701874536626479\n",
      "Epoch  10 , loss 0.4662185995017781\n"
     ]
    },
    {
     "name": "stderr",
     "output_type": "stream",
     "text": [
      "\r",
      "Iterations:   4%|█▏                                | 11/300 [00:14<06:21,  1.32s/it]"
     ]
    },
    {
     "name": "stdout",
     "output_type": "stream",
     "text": [
      "Epoch:  10\n",
      "t_loss:  0.4662185995017781 , v_loss:  0.7488110015789667\n",
      "t_acc:  0.6946778711484594 , v_acc:  0.6894409937888198\n",
      "t_recall:  0.4993288590604027 , v_recall:  0.5\n",
      "t_prec:  0.34766355140186916 , v_prec:  0.3447204968944099\n",
      "t_f:  0.40991735537190077 , v_f:  0.4080882352941176\n",
      "////////\n"
     ]
    },
    {
     "name": "stderr",
     "output_type": "stream",
     "text": [
      "\r",
      "Iterations:   4%|█▎                                | 12/300 [00:15<05:45,  1.20s/it]"
     ]
    },
    {
     "name": "stdout",
     "output_type": "stream",
     "text": [
      "Epoch  11 , loss 0.4611447710616916\n",
      "Epoch  12 , loss 0.46725500564949185\n"
     ]
    },
    {
     "name": "stderr",
     "output_type": "stream",
     "text": [
      "\r",
      "Iterations:   4%|█▍                                | 13/300 [00:16<06:17,  1.32s/it]"
     ]
    },
    {
     "name": "stdout",
     "output_type": "stream",
     "text": [
      "Epoch:  12\n",
      "t_loss:  0.46725500564949185 , v_loss:  0.7650459259748459\n",
      "t_acc:  0.6962340491752257 , v_acc:  0.6894409937888198\n",
      "t_recall:  0.5010224948875256 , v_recall:  0.5\n",
      "t_prec:  0.8480224229212083 , v_prec:  0.3447204968944099\n",
      "t_f:  0.4124337652798909 , v_f:  0.4080882352941176\n",
      "////////\n"
     ]
    },
    {
     "name": "stderr",
     "output_type": "stream",
     "text": [
      "\r",
      "Iterations:   5%|█▌                                | 14/300 [00:17<05:43,  1.20s/it]"
     ]
    },
    {
     "name": "stdout",
     "output_type": "stream",
     "text": [
      "Epoch  13 , loss 0.462649149053237\n",
      "Epoch  14 , loss 0.45474186247470333\n"
     ]
    },
    {
     "name": "stderr",
     "output_type": "stream",
     "text": [
      "\r",
      "Iterations:   5%|█▋                                | 15/300 [00:19<06:16,  1.32s/it]"
     ]
    },
    {
     "name": "stdout",
     "output_type": "stream",
     "text": [
      "Epoch:  14\n",
      "t_loss:  0.45474186247470333 , v_loss:  0.7787890533606211\n",
      "t_acc:  0.6953003423591659 , v_acc:  0.6894409937888198\n",
      "t_recall:  0.49977628635346755 , v_recall:  0.5\n",
      "t_prec:  0.34775840597758406 , v_prec:  0.3447204968944099\n",
      "t_f:  0.41013401872590416 , v_f:  0.4080882352941176\n",
      "////////\n"
     ]
    },
    {
     "name": "stderr",
     "output_type": "stream",
     "text": [
      "\r",
      "Iterations:   5%|█▊                                | 16/300 [00:20<05:48,  1.23s/it]"
     ]
    },
    {
     "name": "stdout",
     "output_type": "stream",
     "text": [
      "Epoch  15 , loss 0.460444123137231\n",
      "Epoch  16 , loss 0.45298443646991954\n"
     ]
    },
    {
     "name": "stderr",
     "output_type": "stream",
     "text": [
      "\r",
      "Iterations:   6%|█▉                                | 17/300 [00:21<06:22,  1.35s/it]"
     ]
    },
    {
     "name": "stdout",
     "output_type": "stream",
     "text": [
      "Epoch:  16\n",
      "t_loss:  0.45298443646991954 , v_loss:  0.781069760521253\n",
      "t_acc:  0.6956115779645191 , v_acc:  0.6894409937888198\n",
      "t_recall:  0.5 , v_recall:  0.5\n",
      "t_prec:  0.34780578898225956 , v_prec:  0.3447204968944099\n",
      "t_f:  0.4102422907488987 , v_f:  0.4080882352941176\n",
      "////////\n"
     ]
    },
    {
     "name": "stderr",
     "output_type": "stream",
     "text": [
      "\r",
      "Iterations:   6%|██                                | 18/300 [00:22<05:49,  1.24s/it]"
     ]
    },
    {
     "name": "stdout",
     "output_type": "stream",
     "text": [
      "Epoch  17 , loss 0.4566505767551123\n",
      "Epoch  18 , loss 0.46296073058072257\n"
     ]
    },
    {
     "name": "stderr",
     "output_type": "stream",
     "text": [
      "\r",
      "Iterations:   6%|██▏                               | 19/300 [00:24<06:16,  1.34s/it]"
     ]
    },
    {
     "name": "stdout",
     "output_type": "stream",
     "text": [
      "Epoch:  18\n",
      "t_loss:  0.46296073058072257 , v_loss:  0.7762934962908427\n",
      "t_acc:  0.6956115779645191 , v_acc:  0.6894409937888198\n",
      "t_recall:  0.5 , v_recall:  0.5\n",
      "t_prec:  0.34780578898225956 , v_prec:  0.3447204968944099\n",
      "t_f:  0.4102422907488987 , v_f:  0.4080882352941176\n",
      "////////\n"
     ]
    },
    {
     "name": "stderr",
     "output_type": "stream",
     "text": [
      "\r",
      "Iterations:   7%|██▎                               | 20/300 [00:25<05:42,  1.22s/it]"
     ]
    },
    {
     "name": "stdout",
     "output_type": "stream",
     "text": [
      "Epoch  19 , loss 0.45710714891845106\n",
      "Epoch  20 , loss 0.46058009243478965\n"
     ]
    },
    {
     "name": "stderr",
     "output_type": "stream",
     "text": [
      "\r",
      "Iterations:   7%|██▍                               | 21/300 [00:26<06:06,  1.31s/it]"
     ]
    },
    {
     "name": "stdout",
     "output_type": "stream",
     "text": [
      "Epoch:  20\n",
      "t_loss:  0.46058009243478965 , v_loss:  0.7810488243897756\n",
      "t_acc:  0.6956115779645191 , v_acc:  0.6894409937888198\n",
      "t_recall:  0.5 , v_recall:  0.5\n",
      "t_prec:  0.34780578898225956 , v_prec:  0.3447204968944099\n",
      "t_f:  0.4102422907488987 , v_f:  0.4080882352941176\n",
      "////////\n"
     ]
    },
    {
     "name": "stderr",
     "output_type": "stream",
     "text": [
      "\r",
      "Iterations:   7%|██▍                               | 22/300 [00:27<05:33,  1.20s/it]"
     ]
    },
    {
     "name": "stdout",
     "output_type": "stream",
     "text": [
      "Epoch  21 , loss 0.45999979855967504\n",
      "Epoch  22 , loss 0.45268788992189896\n"
     ]
    },
    {
     "name": "stderr",
     "output_type": "stream",
     "text": [
      "\r",
      "Iterations:   8%|██▌                               | 23/300 [00:29<06:00,  1.30s/it]"
     ]
    },
    {
     "name": "stdout",
     "output_type": "stream",
     "text": [
      "Epoch:  22\n",
      "t_loss:  0.45268788992189896 , v_loss:  0.7809431006511053\n",
      "t_acc:  0.6956115779645191 , v_acc:  0.6894409937888198\n",
      "t_recall:  0.5 , v_recall:  0.5\n",
      "t_prec:  0.34780578898225956 , v_prec:  0.3447204968944099\n",
      "t_f:  0.4102422907488987 , v_f:  0.4080882352941176\n",
      "////////\n"
     ]
    },
    {
     "name": "stderr",
     "output_type": "stream",
     "text": [
      "\r",
      "Iterations:   8%|██▋                               | 24/300 [00:30<05:30,  1.20s/it]"
     ]
    },
    {
     "name": "stdout",
     "output_type": "stream",
     "text": [
      "Epoch  23 , loss 0.45840916738790627\n",
      "Epoch  24 , loss 0.45129051278619203\n"
     ]
    },
    {
     "name": "stderr",
     "output_type": "stream",
     "text": [
      "\r",
      "Iterations:   8%|██▊                               | 25/300 [00:31<05:58,  1.30s/it]"
     ]
    },
    {
     "name": "stdout",
     "output_type": "stream",
     "text": [
      "Epoch:  24\n",
      "t_loss:  0.45129051278619203 , v_loss:  0.7843491733074188\n",
      "t_acc:  0.6956115779645191 , v_acc:  0.6894409937888198\n",
      "t_recall:  0.5 , v_recall:  0.5\n",
      "t_prec:  0.34780578898225956 , v_prec:  0.3447204968944099\n",
      "t_f:  0.4102422907488987 , v_f:  0.4080882352941176\n",
      "////////\n"
     ]
    },
    {
     "name": "stderr",
     "output_type": "stream",
     "text": [
      "\r",
      "Iterations:   9%|██▉                               | 26/300 [00:32<05:33,  1.22s/it]"
     ]
    },
    {
     "name": "stdout",
     "output_type": "stream",
     "text": [
      "Epoch  25 , loss 0.4559291618711808\n",
      "Epoch  26 , loss 0.4560847235660927\n"
     ]
    },
    {
     "name": "stderr",
     "output_type": "stream",
     "text": [
      "\r",
      "Iterations:   9%|███                               | 27/300 [00:34<05:58,  1.31s/it]"
     ]
    },
    {
     "name": "stdout",
     "output_type": "stream",
     "text": [
      "Epoch:  26\n",
      "t_loss:  0.4560847235660927 , v_loss:  0.7832524130741755\n",
      "t_acc:  0.6953003423591659 , v_acc:  0.6894409937888198\n",
      "t_recall:  0.49977628635346755 , v_recall:  0.5\n",
      "t_prec:  0.34775840597758406 , v_prec:  0.3447204968944099\n",
      "t_f:  0.41013401872590416 , v_f:  0.4080882352941176\n",
      "////////\n"
     ]
    },
    {
     "name": "stderr",
     "output_type": "stream",
     "text": [
      "\r",
      "Iterations:   9%|███▏                              | 28/300 [00:35<05:27,  1.20s/it]"
     ]
    },
    {
     "name": "stdout",
     "output_type": "stream",
     "text": [
      "Epoch  27 , loss 0.46427005412531835\n",
      "Epoch  28 , loss 0.4519095829888886\n"
     ]
    },
    {
     "name": "stderr",
     "output_type": "stream",
     "text": [
      "\r",
      "Iterations:  10%|███▎                              | 29/300 [00:37<05:54,  1.31s/it]"
     ]
    },
    {
     "name": "stdout",
     "output_type": "stream",
     "text": [
      "Epoch:  28\n",
      "t_loss:  0.4519095829888886 , v_loss:  0.7698913117249807\n",
      "t_acc:  0.6956115779645191 , v_acc:  0.6894409937888198\n",
      "t_recall:  0.5 , v_recall:  0.5\n",
      "t_prec:  0.34780578898225956 , v_prec:  0.3447204968944099\n",
      "t_f:  0.4102422907488987 , v_f:  0.4080882352941176\n",
      "////////\n"
     ]
    },
    {
     "name": "stderr",
     "output_type": "stream",
     "text": [
      "\r",
      "Iterations:  10%|███▍                              | 30/300 [00:37<05:22,  1.19s/it]"
     ]
    },
    {
     "name": "stdout",
     "output_type": "stream",
     "text": [
      "Epoch  29 , loss 0.44792749075328603\n",
      "Epoch  30 , loss 0.4530504088775784\n"
     ]
    },
    {
     "name": "stderr",
     "output_type": "stream",
     "text": [
      "\r",
      "Iterations:  10%|███▌                              | 31/300 [00:39<05:54,  1.32s/it]"
     ]
    },
    {
     "name": "stdout",
     "output_type": "stream",
     "text": [
      "Epoch:  30\n",
      "t_loss:  0.4530504088775784 , v_loss:  0.7758242934942245\n",
      "t_acc:  0.6956115779645191 , v_acc:  0.6894409937888198\n",
      "t_recall:  0.5 , v_recall:  0.5\n",
      "t_prec:  0.34780578898225956 , v_prec:  0.3447204968944099\n",
      "t_f:  0.4102422907488987 , v_f:  0.4080882352941176\n",
      "////////\n"
     ]
    },
    {
     "name": "stderr",
     "output_type": "stream",
     "text": [
      "\r",
      "Iterations:  11%|███▋                              | 32/300 [00:40<05:23,  1.21s/it]"
     ]
    },
    {
     "name": "stdout",
     "output_type": "stream",
     "text": [
      "Epoch  31 , loss 0.4531466125273237\n",
      "Epoch  32 , loss 0.44758211572964984\n"
     ]
    },
    {
     "name": "stderr",
     "output_type": "stream",
     "text": [
      "\r",
      "Iterations:  11%|███▋                              | 33/300 [00:42<05:53,  1.33s/it]"
     ]
    },
    {
     "name": "stdout",
     "output_type": "stream",
     "text": [
      "Epoch:  32\n",
      "t_loss:  0.44758211572964984 , v_loss:  0.7719965775807699\n",
      "t_acc:  0.6956115779645191 , v_acc:  0.6894409937888198\n",
      "t_recall:  0.5 , v_recall:  0.5\n",
      "t_prec:  0.34780578898225956 , v_prec:  0.3447204968944099\n",
      "t_f:  0.4102422907488987 , v_f:  0.4080882352941176\n",
      "////////\n"
     ]
    },
    {
     "name": "stderr",
     "output_type": "stream",
     "text": [
      "\r",
      "Iterations:  11%|███▊                              | 34/300 [00:42<05:19,  1.20s/it]"
     ]
    },
    {
     "name": "stdout",
     "output_type": "stream",
     "text": [
      "Epoch  33 , loss 0.45209308465321857\n",
      "Epoch  34 , loss 0.45499735310965894\n"
     ]
    },
    {
     "name": "stderr",
     "output_type": "stream",
     "text": [
      "\r",
      "Iterations:  12%|███▉                              | 35/300 [00:44<05:45,  1.30s/it]"
     ]
    },
    {
     "name": "stdout",
     "output_type": "stream",
     "text": [
      "Epoch:  34\n",
      "t_loss:  0.45499735310965894 , v_loss:  0.7703229834636053\n",
      "t_acc:  0.6956115779645191 , v_acc:  0.6894409937888198\n",
      "t_recall:  0.5 , v_recall:  0.5\n",
      "t_prec:  0.34780578898225956 , v_prec:  0.3447204968944099\n",
      "t_f:  0.4102422907488987 , v_f:  0.4080882352941176\n",
      "////////\n"
     ]
    },
    {
     "name": "stderr",
     "output_type": "stream",
     "text": [
      "\r",
      "Iterations:  12%|████                              | 36/300 [00:45<05:15,  1.20s/it]"
     ]
    },
    {
     "name": "stdout",
     "output_type": "stream",
     "text": [
      "Epoch  35 , loss 0.4473245085454455\n",
      "Epoch  36 , loss 0.4442458065117107\n"
     ]
    },
    {
     "name": "stderr",
     "output_type": "stream",
     "text": [
      "\r",
      "Iterations:  12%|████▏                             | 37/300 [00:47<05:41,  1.30s/it]"
     ]
    },
    {
     "name": "stdout",
     "output_type": "stream",
     "text": [
      "Epoch:  36\n",
      "t_loss:  0.4442458065117107 , v_loss:  0.7712674289941788\n",
      "t_acc:  0.6956115779645191 , v_acc:  0.6894409937888198\n",
      "t_recall:  0.5 , v_recall:  0.5\n",
      "t_prec:  0.34780578898225956 , v_prec:  0.3447204968944099\n",
      "t_f:  0.4102422907488987 , v_f:  0.4080882352941176\n",
      "////////\n"
     ]
    },
    {
     "name": "stderr",
     "output_type": "stream",
     "text": [
      "\r",
      "Iterations:  13%|████▎                             | 38/300 [00:47<05:10,  1.19s/it]"
     ]
    },
    {
     "name": "stdout",
     "output_type": "stream",
     "text": [
      "Epoch  37 , loss 0.44260647250156776\n",
      "Epoch  38 , loss 0.44583893932548224\n"
     ]
    },
    {
     "name": "stderr",
     "output_type": "stream",
     "text": [
      "\r",
      "Iterations:  13%|████▍                             | 39/300 [00:49<05:35,  1.29s/it]"
     ]
    },
    {
     "name": "stdout",
     "output_type": "stream",
     "text": [
      "Epoch:  38\n",
      "t_loss:  0.44583893932548224 , v_loss:  0.7674903323252996\n",
      "t_acc:  0.6956115779645191 , v_acc:  0.6894409937888198\n",
      "t_recall:  0.5 , v_recall:  0.5\n",
      "t_prec:  0.34780578898225956 , v_prec:  0.3447204968944099\n",
      "t_f:  0.4102422907488987 , v_f:  0.4080882352941176\n",
      "////////\n"
     ]
    },
    {
     "name": "stderr",
     "output_type": "stream",
     "text": [
      "\r",
      "Iterations:  13%|████▌                             | 40/300 [00:50<05:10,  1.19s/it]"
     ]
    },
    {
     "name": "stdout",
     "output_type": "stream",
     "text": [
      "Epoch  39 , loss 0.4443392525700962\n",
      "Epoch  40 , loss 0.4488468865553538\n"
     ]
    },
    {
     "name": "stderr",
     "output_type": "stream",
     "text": [
      "\r",
      "Iterations:  14%|████▋                             | 41/300 [00:52<05:41,  1.32s/it]"
     ]
    },
    {
     "name": "stdout",
     "output_type": "stream",
     "text": [
      "Epoch:  40\n",
      "t_loss:  0.4488468865553538 , v_loss:  0.7627832442522049\n",
      "t_acc:  0.6959228135698724 , v_acc:  0.6894409937888198\n",
      "t_recall:  0.5005112474437627 , v_recall:  0.5\n",
      "t_prec:  0.8479140722291407 , v_prec:  0.3447204968944099\n",
      "t_f:  0.41133905648131597 , v_f:  0.4080882352941176\n",
      "////////\n"
     ]
    },
    {
     "name": "stderr",
     "output_type": "stream",
     "text": [
      "\r",
      "Iterations:  14%|████▊                             | 42/300 [00:53<05:16,  1.23s/it]"
     ]
    },
    {
     "name": "stdout",
     "output_type": "stream",
     "text": [
      "Epoch  41 , loss 0.4476867569427864\n",
      "Epoch  42 , loss 0.4477761931279126\n"
     ]
    },
    {
     "name": "stderr",
     "output_type": "stream",
     "text": [
      "\r",
      "Iterations:  14%|████▊                             | 43/300 [00:54<05:44,  1.34s/it]"
     ]
    },
    {
     "name": "stdout",
     "output_type": "stream",
     "text": [
      "Epoch:  42\n",
      "t_loss:  0.4477761931279126 , v_loss:  0.7518631219863892\n",
      "t_acc:  0.6956115779645191 , v_acc:  0.6894409937888198\n",
      "t_recall:  0.5 , v_recall:  0.5\n",
      "t_prec:  0.34780578898225956 , v_prec:  0.3447204968944099\n",
      "t_f:  0.4102422907488987 , v_f:  0.4080882352941176\n",
      "////////\n"
     ]
    },
    {
     "name": "stderr",
     "output_type": "stream",
     "text": [
      "\r",
      "Iterations:  15%|████▉                             | 44/300 [00:55<05:12,  1.22s/it]"
     ]
    },
    {
     "name": "stdout",
     "output_type": "stream",
     "text": [
      "Epoch  43 , loss 0.44773169417007297\n",
      "Epoch  44 , loss 0.44176353952463937\n"
     ]
    },
    {
     "name": "stderr",
     "output_type": "stream",
     "text": [
      "\r",
      "Iterations:  15%|█████                             | 45/300 [00:57<05:35,  1.32s/it]"
     ]
    },
    {
     "name": "stdout",
     "output_type": "stream",
     "text": [
      "Epoch:  44\n",
      "t_loss:  0.44176353952463937 , v_loss:  0.7447793732086817\n",
      "t_acc:  0.6953003423591659 , v_acc:  0.6894409937888198\n",
      "t_recall:  0.49977628635346755 , v_recall:  0.5\n",
      "t_prec:  0.34775840597758406 , v_prec:  0.3447204968944099\n",
      "t_f:  0.41013401872590416 , v_f:  0.4080882352941176\n",
      "////////\n"
     ]
    },
    {
     "name": "stderr",
     "output_type": "stream",
     "text": [
      "\r",
      "Iterations:  15%|█████▏                            | 46/300 [00:58<05:04,  1.20s/it]"
     ]
    },
    {
     "name": "stdout",
     "output_type": "stream",
     "text": [
      "Epoch  45 , loss 0.4428034684821671\n",
      "Epoch  46 , loss 0.4432336968534133\n"
     ]
    },
    {
     "name": "stderr",
     "output_type": "stream",
     "text": [
      "\r",
      "Iterations:  16%|█████▎                            | 47/300 [00:59<05:29,  1.30s/it]"
     ]
    },
    {
     "name": "stdout",
     "output_type": "stream",
     "text": [
      "Epoch:  46\n",
      "t_loss:  0.4432336968534133 , v_loss:  0.7416685024897257\n",
      "t_acc:  0.6956115779645191 , v_acc:  0.6894409937888198\n",
      "t_recall:  0.5 , v_recall:  0.5\n",
      "t_prec:  0.34780578898225956 , v_prec:  0.3447204968944099\n",
      "t_f:  0.4102422907488987 , v_f:  0.4080882352941176\n",
      "////////\n"
     ]
    },
    {
     "name": "stderr",
     "output_type": "stream",
     "text": [
      "\r",
      "Iterations:  16%|█████▍                            | 48/300 [01:00<05:02,  1.20s/it]"
     ]
    },
    {
     "name": "stdout",
     "output_type": "stream",
     "text": [
      "Epoch  47 , loss 0.44045774492562983\n",
      "Epoch  48 , loss 0.4411880642760034\n"
     ]
    },
    {
     "name": "stderr",
     "output_type": "stream",
     "text": [
      "\r",
      "Iterations:  16%|█████▌                            | 49/300 [01:02<05:27,  1.30s/it]"
     ]
    },
    {
     "name": "stdout",
     "output_type": "stream",
     "text": [
      "Epoch:  48\n",
      "t_loss:  0.4411880642760034 , v_loss:  0.7410154044628143\n",
      "t_acc:  0.6959228135698724 , v_acc:  0.6894409937888198\n",
      "t_recall:  0.5005112474437627 , v_recall:  0.5\n",
      "t_prec:  0.8479140722291407 , v_prec:  0.3447204968944099\n",
      "t_f:  0.41133905648131597 , v_f:  0.4080882352941176\n",
      "////////\n"
     ]
    },
    {
     "name": "stderr",
     "output_type": "stream",
     "text": [
      "\r",
      "Iterations:  17%|█████▋                            | 50/300 [01:03<05:04,  1.22s/it]"
     ]
    },
    {
     "name": "stdout",
     "output_type": "stream",
     "text": [
      "Epoch  49 , loss 0.4377656456302194\n",
      "Epoch  50 , loss 0.4359936591456918\n"
     ]
    },
    {
     "name": "stderr",
     "output_type": "stream",
     "text": [
      "\r",
      "Iterations:  17%|█████▊                            | 51/300 [01:04<05:27,  1.31s/it]"
     ]
    },
    {
     "name": "stdout",
     "output_type": "stream",
     "text": [
      "Epoch:  50\n",
      "t_loss:  0.4359936591456918 , v_loss:  0.736955518523852\n",
      "t_acc:  0.6956115779645191 , v_acc:  0.6894409937888198\n",
      "t_recall:  0.5 , v_recall:  0.5\n",
      "t_prec:  0.34780578898225956 , v_prec:  0.3447204968944099\n",
      "t_f:  0.4102422907488987 , v_f:  0.4080882352941176\n",
      "////////\n"
     ]
    },
    {
     "name": "stderr",
     "output_type": "stream",
     "text": [
      "\r",
      "Iterations:  17%|█████▉                            | 52/300 [01:05<05:00,  1.21s/it]"
     ]
    },
    {
     "name": "stdout",
     "output_type": "stream",
     "text": [
      "Epoch  51 , loss 0.44280512367977815\n",
      "Epoch  52 , loss 0.43440063794453937\n"
     ]
    },
    {
     "name": "stderr",
     "output_type": "stream",
     "text": [
      "\r",
      "Iterations:  18%|██████                            | 53/300 [01:07<05:25,  1.32s/it]"
     ]
    },
    {
     "name": "stdout",
     "output_type": "stream",
     "text": [
      "Epoch:  52\n",
      "t_loss:  0.43440063794453937 , v_loss:  0.731809546550115\n",
      "t_acc:  0.6962340491752257 , v_acc:  0.6894409937888198\n",
      "t_recall:  0.5010224948875256 , v_recall:  0.5\n",
      "t_prec:  0.8480224229212083 , v_prec:  0.3447204968944099\n",
      "t_f:  0.4124337652798909 , v_f:  0.4080882352941176\n",
      "////////\n"
     ]
    },
    {
     "name": "stderr",
     "output_type": "stream",
     "text": [
      "\r",
      "Iterations:  18%|██████                            | 54/300 [01:08<04:55,  1.20s/it]"
     ]
    },
    {
     "name": "stdout",
     "output_type": "stream",
     "text": [
      "Epoch  53 , loss 0.43854381816059934\n",
      "Epoch  54 , loss 0.44307160143758734\n"
     ]
    },
    {
     "name": "stderr",
     "output_type": "stream",
     "text": [
      "\r",
      "Iterations:  18%|██████▏                           | 55/300 [01:09<05:25,  1.33s/it]"
     ]
    },
    {
     "name": "stdout",
     "output_type": "stream",
     "text": [
      "Epoch:  54\n",
      "t_loss:  0.44307160143758734 , v_loss:  0.7196230540672938\n",
      "t_acc:  0.6956115779645191 , v_acc:  0.6894409937888198\n",
      "t_recall:  0.5002875337972303 , v_recall:  0.5\n",
      "t_prec:  0.5978667081905948 , v_prec:  0.3447204968944099\n",
      "t_f:  0.4112297361103825 , v_f:  0.4080882352941176\n",
      "////////\n"
     ]
    },
    {
     "name": "stderr",
     "output_type": "stream",
     "text": [
      "\r",
      "Iterations:  19%|██████▎                           | 56/300 [01:10<04:56,  1.21s/it]"
     ]
    },
    {
     "name": "stdout",
     "output_type": "stream",
     "text": [
      "Epoch  55 , loss 0.44386162652688865\n",
      "Epoch  56 , loss 0.4352913452129738\n"
     ]
    },
    {
     "name": "stderr",
     "output_type": "stream",
     "text": [
      "\r",
      "Iterations:  19%|██████▍                           | 57/300 [01:12<05:22,  1.33s/it]"
     ]
    },
    {
     "name": "stdout",
     "output_type": "stream",
     "text": [
      "Epoch:  56\n",
      "t_loss:  0.4352913452129738 , v_loss:  0.7119516233603159\n",
      "t_acc:  0.6949891067538126 , v_acc:  0.6894409937888198\n",
      "t_recall:  0.49955257270693515 , v_recall:  0.5\n",
      "t_prec:  0.3477109934599813 , v_prec:  0.3447204968944099\n",
      "t_f:  0.41002570694087404 , v_f:  0.4080882352941176\n",
      "////////\n"
     ]
    },
    {
     "name": "stderr",
     "output_type": "stream",
     "text": [
      "\r",
      "Iterations:  19%|██████▌                           | 58/300 [01:13<04:52,  1.21s/it]"
     ]
    },
    {
     "name": "stdout",
     "output_type": "stream",
     "text": [
      "Epoch  57 , loss 0.43363646227939456\n",
      "Epoch  58 , loss 0.44162928999639023\n"
     ]
    },
    {
     "name": "stderr",
     "output_type": "stream",
     "text": [
      "\r",
      "Iterations:  20%|██████▋                           | 59/300 [01:14<05:17,  1.32s/it]"
     ]
    },
    {
     "name": "stdout",
     "output_type": "stream",
     "text": [
      "Epoch:  58\n",
      "t_loss:  0.44162928999639023 , v_loss:  0.7083225399255753\n",
      "t_acc:  0.6959228135698724 , v_acc:  0.6894409937888198\n",
      "t_recall:  0.5007987812409931 , v_recall:  0.5\n",
      "t_prec:  0.6813084112149532 , v_prec:  0.3447204968944099\n",
      "t_f:  0.41232340081380947 , v_f:  0.4080882352941176\n",
      "////////\n"
     ]
    },
    {
     "name": "stderr",
     "output_type": "stream",
     "text": [
      "\r",
      "Iterations:  20%|██████▊                           | 60/300 [01:15<04:49,  1.21s/it]"
     ]
    },
    {
     "name": "stdout",
     "output_type": "stream",
     "text": [
      "Epoch  59 , loss 0.4382068199269912\n",
      "Epoch  60 , loss 0.43087728409206166\n"
     ]
    },
    {
     "name": "stderr",
     "output_type": "stream",
     "text": [
      "\r",
      "Iterations:  20%|██████▉                           | 61/300 [01:17<05:13,  1.31s/it]"
     ]
    },
    {
     "name": "stdout",
     "output_type": "stream",
     "text": [
      "Epoch:  60\n",
      "t_loss:  0.43087728409206166 , v_loss:  0.6988032708565394\n",
      "t_acc:  0.6949891067538126 , v_acc:  0.6894409937888198\n",
      "t_recall:  0.4998401065041655 , v_recall:  0.5\n",
      "t_prec:  0.47277189155500154 , v_prec:  0.3447204968944099\n",
      "t_f:  0.41101098240032563 , v_f:  0.4080882352941176\n",
      "////////\n"
     ]
    },
    {
     "name": "stderr",
     "output_type": "stream",
     "text": [
      "\r",
      "Iterations:  21%|███████                           | 62/300 [01:18<04:53,  1.23s/it]"
     ]
    },
    {
     "name": "stdout",
     "output_type": "stream",
     "text": [
      "Epoch  61 , loss 0.4325597257006402\n",
      "Epoch  62 , loss 0.43111853681358636\n"
     ]
    },
    {
     "name": "stderr",
     "output_type": "stream",
     "text": [
      "\r",
      "Iterations:  21%|███████▏                          | 63/300 [01:19<05:15,  1.33s/it]"
     ]
    },
    {
     "name": "stdout",
     "output_type": "stream",
     "text": [
      "Epoch:  62\n",
      "t_loss:  0.43111853681358636 , v_loss:  0.6938980470101038\n",
      "t_acc:  0.6959228135698724 , v_acc:  0.6894409937888198\n",
      "t_recall:  0.5016613826326841 , v_recall:  0.5\n",
      "t_prec:  0.6259363295880149 , v_prec:  0.3447204968944099\n",
      "t_f:  0.41525155202966746 , v_f:  0.4080882352941176\n",
      "////////\n"
     ]
    },
    {
     "name": "stderr",
     "output_type": "stream",
     "text": [
      "\r",
      "Iterations:  21%|███████▎                          | 64/300 [01:20<04:46,  1.22s/it]"
     ]
    },
    {
     "name": "stdout",
     "output_type": "stream",
     "text": [
      "Epoch  63 , loss 0.43670161097657445\n",
      "Epoch  64 , loss 0.4441380939062904\n"
     ]
    },
    {
     "name": "stderr",
     "output_type": "stream",
     "text": [
      "\r",
      "Iterations:  22%|███████▎                          | 65/300 [01:22<05:08,  1.31s/it]"
     ]
    },
    {
     "name": "stdout",
     "output_type": "stream",
     "text": [
      "Epoch:  64\n",
      "t_loss:  0.4441380939062904 , v_loss:  0.6942558785279592\n",
      "t_acc:  0.6977902272019919 , v_acc:  0.6894409937888198\n",
      "t_recall:  0.5041537997008002 , v_recall:  0.5\n",
      "t_prec:  0.7577792288910341 , v_prec:  0.3447204968944099\n",
      "t_f:  0.4198045337037372 , v_f:  0.4080882352941176\n",
      "////////\n"
     ]
    },
    {
     "name": "stderr",
     "output_type": "stream",
     "text": [
      "\r",
      "Iterations:  22%|███████▍                          | 66/300 [01:23<04:38,  1.19s/it]"
     ]
    },
    {
     "name": "stdout",
     "output_type": "stream",
     "text": [
      "Epoch  65 , loss 0.4309494723291958\n",
      "Epoch  66 , loss 0.42551063118027704\n"
     ]
    },
    {
     "name": "stderr",
     "output_type": "stream",
     "text": [
      "\r",
      "Iterations:  22%|███████▌                          | 67/300 [01:24<05:09,  1.33s/it]"
     ]
    },
    {
     "name": "stdout",
     "output_type": "stream",
     "text": [
      "Epoch:  66\n",
      "t_loss:  0.42551063118027704 , v_loss:  0.6777989168961843\n",
      "t_acc:  0.6971677559912854 , v_acc:  0.6894409937888198\n",
      "t_recall:  0.5045689737994263 , v_recall:  0.5\n",
      "t_prec:  0.6645684342352437 , v_prec:  0.3447204968944099\n",
      "t_f:  0.422424761852328 , v_f:  0.4080882352941176\n",
      "////////\n"
     ]
    },
    {
     "name": "stderr",
     "output_type": "stream",
     "text": [
      "\r",
      "Iterations:  23%|███████▋                          | 68/300 [01:25<04:39,  1.21s/it]"
     ]
    },
    {
     "name": "stdout",
     "output_type": "stream",
     "text": [
      "Epoch  67 , loss 0.43039638096211\n",
      "Epoch  68 , loss 0.43004264843230156\n"
     ]
    },
    {
     "name": "stderr",
     "output_type": "stream",
     "text": [
      "\r",
      "Iterations:  23%|███████▊                          | 69/300 [01:27<05:06,  1.33s/it]"
     ]
    },
    {
     "name": "stdout",
     "output_type": "stream",
     "text": [
      "Epoch:  68\n",
      "t_loss:  0.43004264843230156 , v_loss:  0.6754595438639323\n",
      "t_acc:  0.6968565203859322 , v_acc:  0.6894409937888198\n",
      "t_recall:  0.5031951249639725 , v_recall:  0.5\n",
      "t_prec:  0.6818181818181819 , v_prec:  0.3447204968944099\n",
      "t_f:  0.418492875777644 , v_f:  0.4080882352941176\n",
      "////////\n"
     ]
    },
    {
     "name": "stderr",
     "output_type": "stream",
     "text": [
      "\r",
      "Iterations:  23%|███████▉                          | 70/300 [01:28<04:37,  1.20s/it]"
     ]
    },
    {
     "name": "stdout",
     "output_type": "stream",
     "text": [
      "Epoch  69 , loss 0.42388413817274806\n",
      "Epoch  70 , loss 0.43266211713061614\n"
     ]
    },
    {
     "name": "stderr",
     "output_type": "stream",
     "text": [
      "\r",
      "Iterations:  24%|████████                          | 71/300 [01:30<05:01,  1.32s/it]"
     ]
    },
    {
     "name": "stdout",
     "output_type": "stream",
     "text": [
      "Epoch:  70\n",
      "t_loss:  0.43266211713061614 , v_loss:  0.6697343587875366\n",
      "t_acc:  0.6962340491752257 , v_acc:  0.6894409937888198\n",
      "t_recall:  0.503035231468138 , v_recall:  0.5\n",
      "t_prec:  0.6297016734438536 , v_prec:  0.3447204968944099\n",
      "t_f:  0.4192163289012425 , v_f:  0.4080882352941176\n",
      "////////\n"
     ]
    },
    {
     "name": "stderr",
     "output_type": "stream",
     "text": [
      "\r",
      "Iterations:  24%|████████▏                         | 72/300 [01:30<04:33,  1.20s/it]"
     ]
    },
    {
     "name": "stdout",
     "output_type": "stream",
     "text": [
      "Epoch  71 , loss 0.42703572090934305\n",
      "Epoch  72 , loss 0.42799947191687193\n"
     ]
    },
    {
     "name": "stderr",
     "output_type": "stream",
     "text": [
      "\r",
      "Iterations:  24%|████████▎                         | 73/300 [01:32<04:56,  1.31s/it]"
     ]
    },
    {
     "name": "stdout",
     "output_type": "stream",
     "text": [
      "Epoch:  72\n",
      "t_loss:  0.42799947191687193 , v_loss:  0.6596995542446772\n",
      "t_acc:  0.6965452847805789 , v_acc:  0.6894409937888198\n",
      "t_recall:  0.50297141131744 , v_recall:  0.5\n",
      "t_prec:  0.6561298076923077 , v_prec:  0.3447204968944099\n",
      "t_f:  0.4183762417414505 , v_f:  0.4080882352941176\n",
      "////////\n"
     ]
    },
    {
     "name": "stderr",
     "output_type": "stream",
     "text": [
      "\r",
      "Iterations:  25%|████████▍                         | 74/300 [01:33<04:30,  1.20s/it]"
     ]
    },
    {
     "name": "stdout",
     "output_type": "stream",
     "text": [
      "Epoch  73 , loss 0.4227639261414023\n",
      "Epoch  74 , loss 0.4316629147997089\n"
     ]
    },
    {
     "name": "stderr",
     "output_type": "stream",
     "text": [
      "\r",
      "Iterations:  25%|████████▌                         | 75/300 [01:35<04:57,  1.32s/it]"
     ]
    },
    {
     "name": "stdout",
     "output_type": "stream",
     "text": [
      "Epoch:  74\n",
      "t_loss:  0.4316629147997089 , v_loss:  0.6571307281653086\n",
      "t_acc:  0.6984126984126984 , v_acc:  0.6894409937888198\n",
      "t_recall:  0.5066139635744774 , v_recall:  0.5\n",
      "t_prec:  0.6970423878969606 , v_prec:  0.3447204968944099\n",
      "t_f:  0.4266752602236473 , v_f:  0.4080882352941176\n",
      "////////\n"
     ]
    },
    {
     "name": "stderr",
     "output_type": "stream",
     "text": [
      "\r",
      "Iterations:  25%|████████▌                         | 76/300 [01:36<04:36,  1.24s/it]"
     ]
    },
    {
     "name": "stdout",
     "output_type": "stream",
     "text": [
      "Epoch  75 , loss 0.42622237170443816\n",
      "Epoch  76 , loss 0.42966080763760733\n"
     ]
    },
    {
     "name": "stderr",
     "output_type": "stream",
     "text": [
      "\r",
      "Iterations:  26%|████████▋                         | 77/300 [01:37<04:59,  1.35s/it]"
     ]
    },
    {
     "name": "stdout",
     "output_type": "stream",
     "text": [
      "Epoch:  76\n",
      "t_loss:  0.42966080763760733 , v_loss:  0.6577410797278086\n",
      "t_acc:  0.6977902272019919 , v_acc:  0.6894409937888198\n",
      "t_recall:  0.5058790024841822 , v_recall:  0.5\n",
      "t_prec:  0.6751465176502658 , v_prec:  0.3447204968944099\n",
      "t_f:  0.4254919274274113 , v_f:  0.4080882352941176\n",
      "////////\n"
     ]
    },
    {
     "name": "stderr",
     "output_type": "stream",
     "text": [
      "\r",
      "Iterations:  26%|████████▊                         | 78/300 [01:38<04:33,  1.23s/it]"
     ]
    },
    {
     "name": "stdout",
     "output_type": "stream",
     "text": [
      "Epoch  77 , loss 0.4252589236871869\n",
      "Epoch  78 , loss 0.41739049349345414\n"
     ]
    },
    {
     "name": "stderr",
     "output_type": "stream",
     "text": [
      "\r",
      "Iterations:  26%|████████▉                         | 79/300 [01:40<04:52,  1.33s/it]"
     ]
    },
    {
     "name": "stdout",
     "output_type": "stream",
     "text": [
      "Epoch:  78\n",
      "t_loss:  0.41739049349345414 , v_loss:  0.6475955794254938\n",
      "t_acc:  0.6974789915966386 , v_acc:  0.6894409937888198\n",
      "t_recall:  0.5047926874459587 , v_recall:  0.5\n",
      "t_prec:  0.6821596244131456 , v_prec:  0.3447204968944099\n",
      "t_f:  0.4225454303401451 , v_f:  0.4080882352941176\n",
      "////////\n"
     ]
    },
    {
     "name": "stderr",
     "output_type": "stream",
     "text": [
      "\r",
      "Iterations:  27%|█████████                         | 80/300 [01:41<04:24,  1.20s/it]"
     ]
    },
    {
     "name": "stdout",
     "output_type": "stream",
     "text": [
      "Epoch  79 , loss 0.424811218883477\n",
      "Epoch  80 , loss 0.42411551171658085\n"
     ]
    },
    {
     "name": "stderr",
     "output_type": "stream",
     "text": [
      "\r",
      "Iterations:  27%|█████████▏                        | 81/300 [01:42<04:43,  1.29s/it]"
     ]
    },
    {
     "name": "stdout",
     "output_type": "stream",
     "text": [
      "Epoch:  80\n",
      "t_loss:  0.42411551171658085 , v_loss:  0.6382198433081309\n",
      "t_acc:  0.6996576408341114 , v_acc:  0.6894409937888198\n",
      "t_recall:  0.50980908853845 , v_recall:  0.5\n",
      "t_prec:  0.6927627438640654 , v_prec:  0.3447204968944099\n",
      "t_f:  0.4345547418019834 , v_f:  0.4080882352941176\n",
      "////////\n"
     ]
    },
    {
     "name": "stderr",
     "output_type": "stream",
     "text": [
      "\r",
      "Iterations:  27%|█████████▎                        | 82/300 [01:43<04:18,  1.19s/it]"
     ]
    },
    {
     "name": "stdout",
     "output_type": "stream",
     "text": [
      "Epoch  81 , loss 0.42802465078877466\n",
      "Epoch  82 , loss 0.42288589302231283\n"
     ]
    },
    {
     "name": "stderr",
     "output_type": "stream",
     "text": [
      "\r",
      "Iterations:  28%|█████████▍                        | 83/300 [01:45<04:41,  1.30s/it]"
     ]
    },
    {
     "name": "stdout",
     "output_type": "stream",
     "text": [
      "Epoch:  82\n",
      "t_loss:  0.42288589302231283 , v_loss:  0.6428091277678808\n",
      "t_acc:  0.6996576408341114 , v_acc:  0.6894409937888198\n",
      "t_recall:  0.5103841561329105 , v_recall:  0.5\n",
      "t_prec:  0.6833648393194707 , v_prec:  0.3447204968944099\n",
      "t_f:  0.4363622085118706 , v_f:  0.4080882352941176\n",
      "////////\n"
     ]
    },
    {
     "name": "stderr",
     "output_type": "stream",
     "text": [
      "\r",
      "Iterations:  28%|█████████▌                        | 84/300 [01:46<04:22,  1.22s/it]"
     ]
    },
    {
     "name": "stdout",
     "output_type": "stream",
     "text": [
      "Epoch  83 , loss 0.4302837813601774\n",
      "Epoch  84 , loss 0.4198604395576552\n"
     ]
    },
    {
     "name": "stderr",
     "output_type": "stream",
     "text": [
      "\r",
      "Iterations:  28%|█████████▋                        | 85/300 [01:47<04:41,  1.31s/it]"
     ]
    },
    {
     "name": "stdout",
     "output_type": "stream",
     "text": [
      "Epoch:  84\n",
      "t_loss:  0.4198604395576552 , v_loss:  0.6330534865458807\n",
      "t_acc:  0.6965452847805789 , v_acc:  0.6894409937888198\n",
      "t_recall:  0.5064218168842042 , v_recall:  0.5\n",
      "t_prec:  0.6194516304717816 , v_prec:  0.3447204968944099\n",
      "t_f:  0.4296101810488214 , v_f:  0.4080882352941176\n",
      "////////\n"
     ]
    },
    {
     "name": "stderr",
     "output_type": "stream",
     "text": [
      "\r",
      "Iterations:  29%|█████████▋                        | 86/300 [01:48<04:21,  1.22s/it]"
     ]
    },
    {
     "name": "stdout",
     "output_type": "stream",
     "text": [
      "Epoch  85 , loss 0.42381777599746107\n",
      "Epoch  86 , loss 0.42255040185124265\n"
     ]
    },
    {
     "name": "stderr",
     "output_type": "stream",
     "text": [
      "\r",
      "Iterations:  29%|█████████▊                        | 87/300 [01:50<04:41,  1.32s/it]"
     ]
    },
    {
     "name": "stdout",
     "output_type": "stream",
     "text": [
      "Epoch:  86\n",
      "t_loss:  0.42255040185124265 , v_loss:  0.6284631143013636\n",
      "t_acc:  0.699035169623405 , v_acc:  0.6894409937888198\n",
      "t_recall:  0.508499059853694 , v_recall:  0.5\n",
      "t_prec:  0.688332556112001 , v_prec:  0.3447204968944099\n",
      "t_f:  0.431556640045754 , v_f:  0.4080882352941176\n",
      "////////\n"
     ]
    },
    {
     "name": "stderr",
     "output_type": "stream",
     "text": [
      "\r",
      "Iterations:  29%|█████████▉                        | 88/300 [01:51<04:17,  1.22s/it]"
     ]
    },
    {
     "name": "stdout",
     "output_type": "stream",
     "text": [
      "Epoch  87 , loss 0.42172252489071266\n",
      "Epoch  88 , loss 0.4267706368483749\n"
     ]
    },
    {
     "name": "stderr",
     "output_type": "stream",
     "text": [
      "\r",
      "Iterations:  30%|██████████                        | 89/300 [01:52<04:36,  1.31s/it]"
     ]
    },
    {
     "name": "stdout",
     "output_type": "stream",
     "text": [
      "Epoch:  88\n",
      "t_loss:  0.4267706368483749 , v_loss:  0.62895039220651\n",
      "t_acc:  0.6981014628073452 , v_acc:  0.6894409937888198\n",
      "t_recall:  0.508978054103018 , v_recall:  0.5\n",
      "t_prec:  0.6473509933774835 , v_prec:  0.3447204968944099\n",
      "t_f:  0.4347946725860155 , v_f:  0.4080882352941176\n",
      "////////\n"
     ]
    },
    {
     "name": "stderr",
     "output_type": "stream",
     "text": [
      "\r",
      "Iterations:  30%|██████████▏                       | 90/300 [01:53<04:10,  1.19s/it]"
     ]
    },
    {
     "name": "stdout",
     "output_type": "stream",
     "text": [
      "Epoch  89 , loss 0.42035336646379207\n",
      "Epoch  90 , loss 0.4175581920380686\n"
     ]
    },
    {
     "name": "stderr",
     "output_type": "stream",
     "text": [
      "\r",
      "Iterations:  30%|██████████▎                       | 91/300 [01:55<04:36,  1.32s/it]"
     ]
    },
    {
     "name": "stdout",
     "output_type": "stream",
     "text": [
      "Epoch:  90\n",
      "t_loss:  0.4175581920380686 , v_loss:  0.632554809252421\n",
      "t_acc:  0.6977902272019919 , v_acc:  0.6894409937888198\n",
      "t_recall:  0.5090418742537159 , v_recall:  0.5\n",
      "t_prec:  0.6386363636363637 , v_prec:  0.3447204968944099\n",
      "t_f:  0.43555795818875465 , v_f:  0.4080882352941176\n",
      "////////\n"
     ]
    },
    {
     "name": "stderr",
     "output_type": "stream",
     "text": [
      "\r",
      "Iterations:  31%|██████████▍                       | 92/300 [01:56<04:10,  1.21s/it]"
     ]
    },
    {
     "name": "stdout",
     "output_type": "stream",
     "text": [
      "Epoch  91 , loss 0.42320503674301446\n",
      "Epoch  92 , loss 0.4175339481409858\n"
     ]
    },
    {
     "name": "stderr",
     "output_type": "stream",
     "text": [
      "\r",
      "Iterations:  31%|██████████▌                       | 93/300 [01:57<04:34,  1.32s/it]"
     ]
    },
    {
     "name": "stdout",
     "output_type": "stream",
     "text": [
      "Epoch:  92\n",
      "t_loss:  0.4175339481409858 , v_loss:  0.6228297253449758\n",
      "t_acc:  0.7049486461251168 , v_acc:  0.6894409937888198\n",
      "t_recall:  0.5164875585018048 , v_recall:  0.5\n",
      "t_prec:  0.798707003729797 , v_prec:  0.3447204968944099\n",
      "t_f:  0.4458490401269158 , v_f:  0.4080882352941176\n",
      "////////\n"
     ]
    },
    {
     "name": "stderr",
     "output_type": "stream",
     "text": [
      "\r",
      "Iterations:  31%|██████████▋                       | 94/300 [01:58<04:08,  1.20s/it]"
     ]
    },
    {
     "name": "stdout",
     "output_type": "stream",
     "text": [
      "Epoch  93 , loss 0.4227105367417429\n",
      "Epoch  94 , loss 0.42307882916693595\n"
     ]
    },
    {
     "name": "stderr",
     "output_type": "stream",
     "text": [
      "\r",
      "Iterations:  32%|██████████▊                       | 95/300 [02:00<04:28,  1.31s/it]"
     ]
    },
    {
     "name": "stdout",
     "output_type": "stream",
     "text": [
      "Epoch:  94\n",
      "t_loss:  0.42307882916693595 , v_loss:  0.6220274170239767\n",
      "t_acc:  0.7005913476501712 , v_acc:  0.6894409937888198\n",
      "t_recall:  0.5147932364365024 , v_recall:  0.5\n",
      "t_prec:  0.6655158116726897 , v_prec:  0.3447204968944099\n",
      "t_f:  0.44819439287040475 , v_f:  0.4080882352941176\n",
      "////////\n"
     ]
    },
    {
     "name": "stderr",
     "output_type": "stream",
     "text": [
      "\r",
      "Iterations:  32%|██████████▉                       | 96/300 [02:01<04:02,  1.19s/it]"
     ]
    },
    {
     "name": "stdout",
     "output_type": "stream",
     "text": [
      "Epoch  95 , loss 0.43027697065297293\n",
      "Epoch  96 , loss 0.4171489284319036\n"
     ]
    },
    {
     "name": "stderr",
     "output_type": "stream",
     "text": [
      "\r",
      "Iterations:  32%|██████████▉                       | 97/300 [02:02<04:21,  1.29s/it]"
     ]
    },
    {
     "name": "stdout",
     "output_type": "stream",
     "text": [
      "Epoch:  96\n",
      "t_loss:  0.4171489284319036 , v_loss:  0.6187692483266195\n",
      "t_acc:  0.7030812324929971 , v_acc:  0.6894409937888198\n",
      "t_recall:  0.5151452766226102 , v_recall:  0.5\n",
      "t_prec:  0.7374207521730399 , v_prec:  0.3447204968944099\n",
      "t_f:  0.4450001520943391 , v_f:  0.4080882352941176\n",
      "////////\n"
     ]
    },
    {
     "name": "stderr",
     "output_type": "stream",
     "text": [
      "\r",
      "Iterations:  33%|███████████                       | 98/300 [02:03<03:58,  1.18s/it]"
     ]
    },
    {
     "name": "stdout",
     "output_type": "stream",
     "text": [
      "Epoch  97 , loss 0.4190688448793748\n",
      "Epoch  98 , loss 0.41863035980392904\n"
     ]
    },
    {
     "name": "stderr",
     "output_type": "stream",
     "text": [
      "\r",
      "Iterations:  33%|███████████▏                      | 99/300 [02:05<04:19,  1.29s/it]"
     ]
    },
    {
     "name": "stdout",
     "output_type": "stream",
     "text": [
      "Epoch:  98\n",
      "t_loss:  0.41863035980392904 , v_loss:  0.6115244776010513\n",
      "t_acc:  0.7012138188608776 , v_acc:  0.6894409937888198\n",
      "t_recall:  0.5138029947434155 , v_recall:  0.5\n",
      "t_prec:  0.6907745810938982 , v_prec:  0.3447204968944099\n",
      "t_f:  0.44415210706372005 , v_f:  0.4080882352941176\n",
      "////////\n"
     ]
    },
    {
     "name": "stderr",
     "output_type": "stream",
     "text": [
      "\r",
      "Iterations:  33%|███████████                      | 100/300 [02:06<03:59,  1.20s/it]"
     ]
    },
    {
     "name": "stdout",
     "output_type": "stream",
     "text": [
      "Epoch  99 , loss 0.42087264271343455\n",
      "Epoch  100 , loss 0.42799655304235573\n"
     ]
    },
    {
     "name": "stderr",
     "output_type": "stream",
     "text": [
      "\r",
      "Iterations:  34%|███████████                      | 101/300 [02:07<04:22,  1.32s/it]"
     ]
    },
    {
     "name": "stdout",
     "output_type": "stream",
     "text": [
      "Epoch:  100\n",
      "t_loss:  0.42799655304235573 , v_loss:  0.6143464793761572\n",
      "t_acc:  0.7005913476501712 , v_acc:  0.6894409937888198\n",
      "t_recall:  0.5133555674503507 , v_recall:  0.5\n",
      "t_prec:  0.6776032414279805 , v_prec:  0.3447204968944099\n",
      "t_f:  0.44386960495728583 , v_f:  0.4080882352941176\n",
      "////////\n"
     ]
    },
    {
     "name": "stderr",
     "output_type": "stream",
     "text": [
      "\r",
      "Iterations:  34%|███████████▏                     | 102/300 [02:08<04:03,  1.23s/it]"
     ]
    },
    {
     "name": "stdout",
     "output_type": "stream",
     "text": [
      "Epoch  101 , loss 0.41703858913159836\n",
      "Epoch  102 , loss 0.4287927735085581\n"
     ]
    },
    {
     "name": "stderr",
     "output_type": "stream",
     "text": [
      "\r",
      "Iterations:  34%|███████████▎                     | 103/300 [02:10<04:23,  1.34s/it]"
     ]
    },
    {
     "name": "stdout",
     "output_type": "stream",
     "text": [
      "Epoch:  102\n",
      "t_loss:  0.4287927735085581 , v_loss:  0.6195982396602631\n",
      "t_acc:  0.702769996887644 , v_acc:  0.6894409937888198\n",
      "t_recall:  0.5152090967733081 , v_recall:  0.5\n",
      "t_prec:  0.7234143358288194 , v_prec:  0.3447204968944099\n",
      "t_f:  0.4457367876770788 , v_f:  0.4080882352941176\n",
      "////////\n"
     ]
    },
    {
     "name": "stderr",
     "output_type": "stream",
     "text": [
      "\r",
      "Iterations:  35%|███████████▍                     | 104/300 [02:11<04:00,  1.22s/it]"
     ]
    },
    {
     "name": "stdout",
     "output_type": "stream",
     "text": [
      "Epoch  103 , loss 0.42029182525242076\n",
      "Epoch  104 , loss 0.41473931775373574\n"
     ]
    },
    {
     "name": "stderr",
     "output_type": "stream",
     "text": [
      "\r",
      "Iterations:  35%|███████████▌                     | 105/300 [02:12<04:19,  1.33s/it]"
     ]
    },
    {
     "name": "stdout",
     "output_type": "stream",
     "text": [
      "Epoch:  104\n",
      "t_loss:  0.41473931775373574 , v_loss:  0.602477545539538\n",
      "t_acc:  0.7033924680983504 , v_acc:  0.6894409937888198\n",
      "t_recall:  0.516519125458064 , v_recall:  0.5054954954954954\n",
      "t_prec:  0.7239089184060721 , v_prec:  0.5959119496855345\n",
      "t_f:  0.44863926671279963 , v_f:  0.4266381766381766\n",
      "////////\n"
     ]
    },
    {
     "name": "stderr",
     "output_type": "stream",
     "text": [
      "\r",
      "Iterations:  35%|███████████▋                     | 106/300 [02:13<03:54,  1.21s/it]"
     ]
    },
    {
     "name": "stdout",
     "output_type": "stream",
     "text": [
      "Epoch  105 , loss 0.4259405971742144\n",
      "Epoch  106 , loss 0.41443104779019074\n"
     ]
    },
    {
     "name": "stderr",
     "output_type": "stream",
     "text": [
      "\r",
      "Iterations:  36%|███████████▊                     | 107/300 [02:15<04:12,  1.31s/it]"
     ]
    },
    {
     "name": "stdout",
     "output_type": "stream",
     "text": [
      "Epoch:  106\n",
      "t_loss:  0.41443104779019074 , v_loss:  0.6094413747390112\n",
      "t_acc:  0.7030812324929971 , v_acc:  0.6894409937888198\n",
      "t_recall:  0.5148577428253798 , v_recall:  0.5\n",
      "t_prec:  0.7438505203405865 , v_prec:  0.3447204968944099\n",
      "t_f:  0.44411764705882356 , v_f:  0.4080882352941176\n",
      "////////\n"
     ]
    },
    {
     "name": "stderr",
     "output_type": "stream",
     "text": [
      "\r",
      "Iterations:  36%|███████████▉                     | 108/300 [02:16<03:50,  1.20s/it]"
     ]
    },
    {
     "name": "stdout",
     "output_type": "stream",
     "text": [
      "Epoch  107 , loss 0.41419490996529074\n",
      "Epoch  108 , loss 0.4149194336404987\n"
     ]
    },
    {
     "name": "stderr",
     "output_type": "stream",
     "text": [
      "\r",
      "Iterations:  36%|███████████▉                     | 109/300 [02:17<04:08,  1.30s/it]"
     ]
    },
    {
     "name": "stdout",
     "output_type": "stream",
     "text": [
      "Epoch:  108\n",
      "t_loss:  0.4149194336404987 , v_loss:  0.613859678308169\n",
      "t_acc:  0.7052598817304699 , v_acc:  0.6894409937888198\n",
      "t_recall:  0.5195866101206407 , v_recall:  0.5\n",
      "t_prec:  0.7379927956774064 , v_prec:  0.3447204968944099\n",
      "t_f:  0.45468050615760575 , v_f:  0.4080882352941176\n",
      "////////\n"
     ]
    },
    {
     "name": "stderr",
     "output_type": "stream",
     "text": [
      "\r",
      "Iterations:  37%|████████████                     | 110/300 [02:18<03:52,  1.22s/it]"
     ]
    },
    {
     "name": "stdout",
     "output_type": "stream",
     "text": [
      "Epoch  109 , loss 0.41799960066290465\n",
      "Epoch  110 , loss 0.4177564844196918\n"
     ]
    },
    {
     "name": "stderr",
     "output_type": "stream",
     "text": [
      "\r",
      "Iterations:  37%|████████████▏                    | 111/300 [02:20<04:08,  1.32s/it]"
     ]
    },
    {
     "name": "stdout",
     "output_type": "stream",
     "text": [
      "Epoch:  110\n",
      "t_loss:  0.4177564844196918 , v_loss:  0.6085820694764456\n",
      "t_acc:  0.7024587612822907 , v_acc:  0.6832298136645962\n",
      "t_recall:  0.5141227817350846 , v_recall:  0.4954954954954955\n",
      "t_prec:  0.7317880794701986 , v_prec:  0.34375\n",
      "t_f:  0.44295227524972247 , v_f:  0.40590405904059035\n",
      "////////\n"
     ]
    },
    {
     "name": "stderr",
     "output_type": "stream",
     "text": [
      "\r",
      "Iterations:  37%|████████████▎                    | 112/300 [02:21<03:48,  1.21s/it]"
     ]
    },
    {
     "name": "stdout",
     "output_type": "stream",
     "text": [
      "Epoch  111 , loss 0.42617664676086575\n",
      "Epoch  112 , loss 0.41921768001481596\n"
     ]
    },
    {
     "name": "stderr",
     "output_type": "stream",
     "text": [
      "\r",
      "Iterations:  38%|████████████▍                    | 113/300 [02:22<04:06,  1.32s/it]"
     ]
    },
    {
     "name": "stdout",
     "output_type": "stream",
     "text": [
      "Epoch:  112\n",
      "t_loss:  0.41921768001481596 , v_loss:  0.5930295487244924\n",
      "t_acc:  0.704014939309057 , v_acc:  0.7018633540372671\n",
      "t_recall:  0.5178291541428199 , v_recall:  0.5254954954954955\n",
      "t_prec:  0.7243738845068801 , v_prec:  0.7253184713375795\n",
      "t_f:  0.45152037284716534 , v_f:  0.4660033167495854\n",
      "////////\n"
     ]
    },
    {
     "name": "stderr",
     "output_type": "stream",
     "text": [
      "\r",
      "Iterations:  38%|████████████▌                    | 114/300 [02:23<03:44,  1.21s/it]"
     ]
    },
    {
     "name": "stdout",
     "output_type": "stream",
     "text": [
      "Epoch  113 , loss 0.41161296239086226\n",
      "Epoch  114 , loss 0.4279206646423714\n"
     ]
    },
    {
     "name": "stderr",
     "output_type": "stream",
     "text": [
      "\r",
      "Iterations:  38%|████████████▋                    | 115/300 [02:25<04:05,  1.33s/it]"
     ]
    },
    {
     "name": "stdout",
     "output_type": "stream",
     "text": [
      "Epoch:  114\n",
      "t_loss:  0.4279206646423714 , v_loss:  0.604128340880076\n",
      "t_acc:  0.7015250544662309 , v_acc:  0.6956521739130435\n",
      "t_recall:  0.5151768435788694 , v_recall:  0.5154954954954954\n",
      "t_prec:  0.6844106463878327 , v_prec:  0.6814345991561181\n",
      "t_f:  0.44777043865379496 , v_f:  0.44665778214210566\n",
      "////////\n"
     ]
    },
    {
     "name": "stderr",
     "output_type": "stream",
     "text": [
      "\r",
      "Iterations:  39%|████████████▊                    | 116/300 [02:26<03:42,  1.21s/it]"
     ]
    },
    {
     "name": "stdout",
     "output_type": "stream",
     "text": [
      "Epoch  115 , loss 0.4172763397880629\n",
      "Epoch  116 , loss 0.4170233858566658\n"
     ]
    },
    {
     "name": "stderr",
     "output_type": "stream",
     "text": [
      "\r",
      "Iterations:  39%|████████████▊                    | 117/300 [02:28<04:04,  1.34s/it]"
     ]
    },
    {
     "name": "stdout",
     "output_type": "stream",
     "text": [
      "Epoch:  116\n",
      "t_loss:  0.4170233858566658 , v_loss:  0.5999463498592377\n",
      "t_acc:  0.7015250544662309 , v_acc:  0.6956521739130435\n",
      "t_recall:  0.5163269787677908 , v_recall:  0.5154954954954954\n",
      "t_prec:  0.6744111035089434 , v_prec:  0.6814345991561181\n",
      "t_f:  0.4511917333589338 , v_f:  0.44665778214210566\n",
      "////////\n"
     ]
    },
    {
     "name": "stderr",
     "output_type": "stream",
     "text": [
      "\r",
      "Iterations:  39%|████████████▉                    | 118/300 [02:29<03:41,  1.21s/it]"
     ]
    },
    {
     "name": "stdout",
     "output_type": "stream",
     "text": [
      "Epoch  117 , loss 0.4126862953690922\n",
      "Epoch  118 , loss 0.41409285162009446\n"
     ]
    },
    {
     "name": "stderr",
     "output_type": "stream",
     "text": [
      "\r",
      "Iterations:  40%|█████████████                    | 119/300 [02:30<03:57,  1.31s/it]"
     ]
    },
    {
     "name": "stdout",
     "output_type": "stream",
     "text": [
      "Epoch:  118\n",
      "t_loss:  0.41409285162009446 , v_loss:  0.5986506442228953\n",
      "t_acc:  0.707749766573296 , v_acc:  0.6956521739130435\n",
      "t_recall:  0.525401792454125 , v_recall:  0.5154954954954954\n",
      "t_prec:  0.7299397031539889 , v_prec:  0.6814345991561181\n",
      "t_f:  0.46756241391146597 , v_f:  0.44665778214210566\n",
      "////////\n"
     ]
    },
    {
     "name": "stderr",
     "output_type": "stream",
     "text": [
      "\r",
      "Iterations:  40%|█████████████▏                   | 120/300 [02:31<03:34,  1.19s/it]"
     ]
    },
    {
     "name": "stdout",
     "output_type": "stream",
     "text": [
      "Epoch  119 , loss 0.41095559386646047\n",
      "Epoch  120 , loss 0.4144179154844845\n"
     ]
    },
    {
     "name": "stderr",
     "output_type": "stream",
     "text": [
      "\r",
      "Iterations:  40%|█████████████▎                   | 121/300 [02:33<03:52,  1.30s/it]"
     ]
    },
    {
     "name": "stdout",
     "output_type": "stream",
     "text": [
      "Epoch:  120\n",
      "t_loss:  0.4144179154844845 , v_loss:  0.597035139799118\n",
      "t_acc:  0.7055711173358232 , v_acc:  0.7018633540372671\n",
      "t_recall:  0.5206729251588641 , v_recall:  0.5254954954954955\n",
      "t_prec:  0.7313013789785117 , v_prec:  0.7253184713375795\n",
      "t_f:  0.45737203290582423 , v_f:  0.4660033167495854\n",
      "////////\n"
     ]
    },
    {
     "name": "stderr",
     "output_type": "stream",
     "text": [
      "\r",
      "Iterations:  41%|█████████████▍                   | 122/300 [02:33<03:31,  1.19s/it]"
     ]
    },
    {
     "name": "stdout",
     "output_type": "stream",
     "text": [
      "Epoch  121 , loss 0.41484954135090696\n",
      "Epoch  122 , loss 0.41913984862028386\n"
     ]
    },
    {
     "name": "stderr",
     "output_type": "stream",
     "text": [
      "\r",
      "Iterations:  41%|█████████████▌                   | 123/300 [02:35<03:49,  1.30s/it]"
     ]
    },
    {
     "name": "stdout",
     "output_type": "stream",
     "text": [
      "Epoch:  122\n",
      "t_loss:  0.41913984862028386 , v_loss:  0.5962252120176951\n",
      "t_acc:  0.7033924680983504 , v_acc:  0.6956521739130435\n",
      "t_recall:  0.5202570648220585 , v_recall:  0.5154954954954954\n",
      "t_prec:  0.683369086270872 , v_prec:  0.6814345991561181\n",
      "t_f:  0.4596240473457157 , v_f:  0.44665778214210566\n",
      "////////\n"
     ]
    },
    {
     "name": "stderr",
     "output_type": "stream",
     "text": [
      "\r",
      "Iterations:  41%|█████████████▋                   | 124/300 [02:36<03:34,  1.22s/it]"
     ]
    },
    {
     "name": "stdout",
     "output_type": "stream",
     "text": [
      "Epoch  123 , loss 0.409738970153472\n",
      "Epoch  124 , loss 0.4134662741539525\n"
     ]
    },
    {
     "name": "stderr",
     "output_type": "stream",
     "text": [
      "\r",
      "Iterations:  42%|█████████████▊                   | 125/300 [02:38<03:54,  1.34s/it]"
     ]
    },
    {
     "name": "stdout",
     "output_type": "stream",
     "text": [
      "Epoch:  124\n",
      "t_loss:  0.4134662741539525 , v_loss:  0.5907245328028997\n",
      "t_acc:  0.706504824151883 , v_acc:  0.7018633540372671\n",
      "t_recall:  0.5230692688818436 , v_recall:  0.5254954954954955\n",
      "t_prec:  0.7260402004644032 , v_prec:  0.7253184713375795\n",
      "t_f:  0.46283600683843357 , v_f:  0.4660033167495854\n",
      "////////\n"
     ]
    },
    {
     "name": "stderr",
     "output_type": "stream",
     "text": [
      "\r",
      "Iterations:  42%|█████████████▊                   | 126/300 [02:39<03:34,  1.23s/it]"
     ]
    },
    {
     "name": "stdout",
     "output_type": "stream",
     "text": [
      "Epoch  125 , loss 0.4127948073779835\n",
      "Epoch  126 , loss 0.4126475529343474\n"
     ]
    },
    {
     "name": "stderr",
     "output_type": "stream",
     "text": [
      "\r",
      "Iterations:  42%|█████████████▉                   | 127/300 [02:40<03:51,  1.34s/it]"
     ]
    },
    {
     "name": "stdout",
     "output_type": "stream",
     "text": [
      "Epoch:  126\n",
      "t_loss:  0.4126475529343474 , v_loss:  0.5912374953428904\n",
      "t_acc:  0.7105508870214753 , v_acc:  0.6956521739130435\n",
      "t_recall:  0.530865620839681 , v_recall:  0.5154954954954954\n",
      "t_prec:  0.734968585876879 , v_prec:  0.6814345991561181\n",
      "t_f:  0.4786020394631229 , v_f:  0.44665778214210566\n",
      "////////\n"
     ]
    },
    {
     "name": "stderr",
     "output_type": "stream",
     "text": [
      "\r",
      "Iterations:  43%|██████████████                   | 128/300 [02:41<03:28,  1.21s/it]"
     ]
    },
    {
     "name": "stdout",
     "output_type": "stream",
     "text": [
      "Epoch  127 , loss 0.41982972212866243\n",
      "Epoch  128 , loss 0.41676945721401887\n"
     ]
    },
    {
     "name": "stderr",
     "output_type": "stream",
     "text": [
      "\r",
      "Iterations:  43%|██████████████▏                  | 129/300 [02:43<03:44,  1.31s/it]"
     ]
    },
    {
     "name": "stdout",
     "output_type": "stream",
     "text": [
      "Epoch:  128\n",
      "t_loss:  0.41676945721401887 , v_loss:  0.5868737995624542\n",
      "t_acc:  0.7080610021786492 , v_acc:  0.7018633540372671\n",
      "t_recall:  0.5267756412895788 , v_recall:  0.5254954954954955\n",
      "t_prec:  0.7226749760306808 , v_prec:  0.7253184713375795\n",
      "t_f:  0.47094566412618966 , v_f:  0.4660033167495854\n",
      "////////\n"
     ]
    },
    {
     "name": "stderr",
     "output_type": "stream",
     "text": [
      "\r",
      "Iterations:  43%|██████████████▎                  | 130/300 [02:44<03:23,  1.20s/it]"
     ]
    },
    {
     "name": "stdout",
     "output_type": "stream",
     "text": [
      "Epoch  129 , loss 0.4131150327476801\n",
      "Epoch  130 , loss 0.40908460991055356\n"
     ]
    },
    {
     "name": "stderr",
     "output_type": "stream",
     "text": [
      "\r",
      "Iterations:  44%|██████████████▍                  | 131/300 [02:45<03:40,  1.31s/it]"
     ]
    },
    {
     "name": "stdout",
     "output_type": "stream",
     "text": [
      "Epoch:  130\n",
      "t_loss:  0.40908460991055356 , v_loss:  0.5857219497362772\n",
      "t_acc:  0.7071272953625894 , v_acc:  0.7080745341614907\n",
      "t_recall:  0.5252418989582904 , v_recall:  0.5354954954954955\n",
      "t_prec:  0.7174861643252448 , v_prec:  0.7525641025641026\n",
      "t_f:  0.46804757433291594 , v_f:  0.4847122914538645\n",
      "////////\n"
     ]
    },
    {
     "name": "stderr",
     "output_type": "stream",
     "text": [
      "\r",
      "Iterations:  44%|██████████████▌                  | 132/300 [02:46<03:19,  1.19s/it]"
     ]
    },
    {
     "name": "stdout",
     "output_type": "stream",
     "text": [
      "Epoch  131 , loss 0.41341160500750823\n",
      "Epoch  132 , loss 0.409744461961821\n"
     ]
    },
    {
     "name": "stderr",
     "output_type": "stream",
     "text": [
      "\r",
      "Iterations:  44%|██████████████▋                  | 133/300 [02:48<03:36,  1.30s/it]"
     ]
    },
    {
     "name": "stdout",
     "output_type": "stream",
     "text": [
      "Epoch:  132\n",
      "t_loss:  0.409744461961821 , v_loss:  0.584775115052859\n",
      "t_acc:  0.710239651416122 , v_acc:  0.7142857142857143\n",
      "t_recall:  0.5274790354236149 , v_recall:  0.5454954954954955\n",
      "t_prec:  0.7692485274473064 , v_prec:  0.771505376344086\n",
      "t_f:  0.4696716037821651 , v_f:  0.5028195488721805\n",
      "////////\n"
     ]
    },
    {
     "name": "stderr",
     "output_type": "stream",
     "text": [
      "\r",
      "Iterations:  45%|██████████████▋                  | 134/300 [02:49<03:20,  1.21s/it]"
     ]
    },
    {
     "name": "stdout",
     "output_type": "stream",
     "text": [
      "Epoch  133 , loss 0.41252003113428753\n",
      "Epoch  134 , loss 0.41087642019870235\n"
     ]
    },
    {
     "name": "stderr",
     "output_type": "stream",
     "text": [
      "\r",
      "Iterations:  45%|██████████████▊                  | 135/300 [02:50<03:35,  1.31s/it]"
     ]
    },
    {
     "name": "stdout",
     "output_type": "stream",
     "text": [
      "Epoch:  134\n",
      "t_loss:  0.41087642019870235 , v_loss:  0.5828622231880823\n",
      "t_acc:  0.7105508870214753 , v_acc:  0.7204968944099379\n",
      "t_recall:  0.5282778166646079 , v_recall:  0.5554954954954955\n",
      "t_prec:  0.7660965361666222 , v_prec:  0.7857142857142857\n",
      "t_f:  0.4714570647859501 , v_f:  0.5203574975173784\n",
      "////////\n"
     ]
    },
    {
     "name": "stderr",
     "output_type": "stream",
     "text": [
      "\r",
      "Iterations:  45%|██████████████▉                  | 136/300 [02:51<03:18,  1.21s/it]"
     ]
    },
    {
     "name": "stdout",
     "output_type": "stream",
     "text": [
      "Epoch  135 , loss 0.41416618461702387\n",
      "Epoch  136 , loss 0.4106778572587406\n"
     ]
    },
    {
     "name": "stderr",
     "output_type": "stream",
     "text": [
      "\r",
      "Iterations:  46%|███████████████                  | 137/300 [02:53<03:34,  1.32s/it]"
     ]
    },
    {
     "name": "stdout",
     "output_type": "stream",
     "text": [
      "Epoch:  136\n",
      "t_loss:  0.4106778572587406 , v_loss:  0.5840103725592295\n",
      "t_acc:  0.7068160597572363 , v_acc:  0.7080745341614907\n",
      "t_recall:  0.5247306515145277 , v_recall:  0.5354954954954955\n",
      "t_prec:  0.7156758697733802 , v_prec:  0.7525641025641026\n",
      "t_f:  0.4670782400220871 , v_f:  0.4847122914538645\n",
      "////////\n"
     ]
    },
    {
     "name": "stderr",
     "output_type": "stream",
     "text": [
      "\r",
      "Iterations:  46%|███████████████▏                 | 138/300 [02:54<03:15,  1.21s/it]"
     ]
    },
    {
     "name": "stdout",
     "output_type": "stream",
     "text": [
      "Epoch  137 , loss 0.4105984574439479\n",
      "Epoch  138 , loss 0.4012983084893694\n"
     ]
    },
    {
     "name": "stderr",
     "output_type": "stream",
     "text": [
      "\r",
      "Iterations:  46%|███████████████▎                 | 139/300 [02:55<03:30,  1.31s/it]"
     ]
    },
    {
     "name": "stdout",
     "output_type": "stream",
     "text": [
      "Epoch:  138\n",
      "t_loss:  0.4012983084893694 , v_loss:  0.5854864766200384\n",
      "t_acc:  0.7096171802054155 , v_acc:  0.7080745341614907\n",
      "t_recall:  0.5290443447111624 , v_recall:  0.5354954954954955\n",
      "t_prec:  0.7334370242901582 , v_prec:  0.7525641025641026\n",
      "t_f:  0.47495448347612257 , v_f:  0.4847122914538645\n",
      "////////\n"
     ]
    },
    {
     "name": "stderr",
     "output_type": "stream",
     "text": [
      "\r",
      "Iterations:  47%|███████████████▍                 | 140/300 [02:56<03:10,  1.19s/it]"
     ]
    },
    {
     "name": "stdout",
     "output_type": "stream",
     "text": [
      "Epoch  139 , loss 0.41021012441784727\n",
      "Epoch  140 , loss 0.405487363244973\n"
     ]
    },
    {
     "name": "stderr",
     "output_type": "stream",
     "text": [
      "\r",
      "Iterations:  47%|███████████████▌                 | 141/300 [02:58<03:30,  1.32s/it]"
     ]
    },
    {
     "name": "stdout",
     "output_type": "stream",
     "text": [
      "Epoch:  140\n",
      "t_loss:  0.405487363244973 , v_loss:  0.5807307213544846\n",
      "t_acc:  0.7068160597572363 , v_acc:  0.7204968944099379\n",
      "t_recall:  0.524155583920067 , v_recall:  0.5554954954954955\n",
      "t_prec:  0.7214653624817542 , v_prec:  0.7857142857142857\n",
      "t_f:  0.4654540869022169 , v_f:  0.5203574975173784\n",
      "////////\n"
     ]
    },
    {
     "name": "stderr",
     "output_type": "stream",
     "text": [
      "\r",
      "Iterations:  47%|███████████████▌                 | 142/300 [02:59<03:10,  1.20s/it]"
     ]
    },
    {
     "name": "stdout",
     "output_type": "stream",
     "text": [
      "Epoch  141 , loss 0.4100073792186438\n",
      "Epoch  142 , loss 0.4118751129683326\n"
     ]
    },
    {
     "name": "stderr",
     "output_type": "stream",
     "text": [
      "\r",
      "Iterations:  48%|███████████████▋                 | 143/300 [03:00<03:26,  1.32s/it]"
     ]
    },
    {
     "name": "stdout",
     "output_type": "stream",
     "text": [
      "Epoch:  142\n",
      "t_loss:  0.4118751129683326 , v_loss:  0.5761168648799261\n",
      "t_acc:  0.707749766573296 , v_acc:  0.7267080745341615\n",
      "t_recall:  0.526264393845816 , v_recall:  0.5654954954954955\n",
      "t_prec:  0.7209842565148774 , v_prec:  0.7969771241830066\n",
      "t_f:  0.4699812816163689 , v_f:  0.5373563218390804\n",
      "////////\n"
     ]
    },
    {
     "name": "stderr",
     "output_type": "stream",
     "text": [
      "\r",
      "Iterations:  48%|███████████████▊                 | 144/300 [03:01<03:07,  1.20s/it]"
     ]
    },
    {
     "name": "stdout",
     "output_type": "stream",
     "text": [
      "Epoch  143 , loss 0.4057999025372898\n",
      "Epoch  144 , loss 0.4103160973857431\n"
     ]
    },
    {
     "name": "stderr",
     "output_type": "stream",
     "text": [
      "\r",
      "Iterations:  48%|███████████████▉                 | 145/300 [03:03<03:20,  1.30s/it]"
     ]
    },
    {
     "name": "stdout",
     "output_type": "stream",
     "text": [
      "Epoch:  144\n",
      "t_loss:  0.4103160973857431 , v_loss:  0.5761932681004206\n",
      "t_acc:  0.707749766573296 , v_acc:  0.7329192546583851\n",
      "t_recall:  0.5268394614402767 , v_recall:  0.5754954954954955\n",
      "t_prec:  0.715715798530677 , v_prec:  0.8062865497076024\n",
      "t_f:  0.47157798497757675 , v_f:  0.5538441709093253\n",
      "////////\n"
     ]
    },
    {
     "name": "stderr",
     "output_type": "stream",
     "text": [
      "\r",
      "Iterations:  49%|████████████████                 | 146/300 [03:04<03:02,  1.19s/it]"
     ]
    },
    {
     "name": "stdout",
     "output_type": "stream",
     "text": [
      "Epoch  145 , loss 0.40731172585019876\n",
      "Epoch  146 , loss 0.40705008015913124\n"
     ]
    },
    {
     "name": "stderr",
     "output_type": "stream",
     "text": [
      "\r",
      "Iterations:  49%|████████████████▏                | 147/300 [03:05<03:17,  1.29s/it]"
     ]
    },
    {
     "name": "stdout",
     "output_type": "stream",
     "text": [
      "Epoch:  146\n",
      "t_loss:  0.40705008015913124 , v_loss:  0.5825464377800623\n",
      "t_acc:  0.707749766573296 , v_acc:  0.7204968944099379\n",
      "t_recall:  0.5282771304264284 , v_recall:  0.5554954954954955\n",
      "t_prec:  0.7044949247647658 , v_prec:  0.7857142857142857\n",
      "t_f:  0.4755152047215691 , v_f:  0.5203574975173784\n",
      "////////\n"
     ]
    },
    {
     "name": "stderr",
     "output_type": "stream",
     "text": [
      "\r",
      "Iterations:  49%|████████████████▎                | 148/300 [03:06<03:00,  1.19s/it]"
     ]
    },
    {
     "name": "stdout",
     "output_type": "stream",
     "text": [
      "Epoch  147 , loss 0.409964652038088\n",
      "Epoch  148 , loss 0.41123149967661093\n"
     ]
    },
    {
     "name": "stderr",
     "output_type": "stream",
     "text": [
      "\r",
      "Iterations:  50%|████████████████▍                | 149/300 [03:08<03:16,  1.30s/it]"
     ]
    },
    {
     "name": "stdout",
     "output_type": "stream",
     "text": [
      "Epoch:  148\n",
      "t_loss:  0.41123149967661093 , v_loss:  0.5785410404205322\n",
      "t_acc:  0.710239651416122 , v_acc:  0.7329192546583851\n",
      "t_recall:  0.5306419071931486 , v_recall:  0.5754954954954955\n",
      "t_prec:  0.7308312655086848 , v_prec:  0.8062865497076024\n",
      "t_f:  0.4784313725490196 , v_f:  0.5538441709093253\n",
      "////////\n"
     ]
    },
    {
     "name": "stderr",
     "output_type": "stream",
     "text": [
      "\r",
      "Iterations:  50%|████████████████▌                | 150/300 [03:09<03:02,  1.22s/it]"
     ]
    },
    {
     "name": "stdout",
     "output_type": "stream",
     "text": [
      "Epoch  149 , loss 0.41110415844356313\n",
      "Epoch  150 , loss 0.4105519669897416\n"
     ]
    },
    {
     "name": "stderr",
     "output_type": "stream",
     "text": [
      "\r",
      "Iterations:  50%|████████████████▌                | 151/300 [03:10<03:19,  1.34s/it]"
     ]
    },
    {
     "name": "stdout",
     "output_type": "stream",
     "text": [
      "Epoch:  150\n",
      "t_loss:  0.4105519669897416 , v_loss:  0.5755634109179179\n",
      "t_acc:  0.710239651416122 , v_acc:  0.7329192546583851\n",
      "t_recall:  0.5306419071931486 , v_recall:  0.5754954954954955\n",
      "t_prec:  0.7308312655086848 , v_prec:  0.8062865497076024\n",
      "t_f:  0.4784313725490196 , v_f:  0.5538441709093253\n",
      "////////\n"
     ]
    },
    {
     "name": "stderr",
     "output_type": "stream",
     "text": [
      "\r",
      "Iterations:  51%|████████████████▋                | 152/300 [03:11<03:02,  1.24s/it]"
     ]
    },
    {
     "name": "stdout",
     "output_type": "stream",
     "text": [
      "Epoch  151 , loss 0.4058120893497093\n",
      "Epoch  152 , loss 0.41003040706410127\n"
     ]
    },
    {
     "name": "stderr",
     "output_type": "stream",
     "text": [
      "\r",
      "Iterations:  51%|████████████████▊                | 153/300 [03:13<03:16,  1.34s/it]"
     ]
    },
    {
     "name": "stdout",
     "output_type": "stream",
     "text": [
      "Epoch:  152\n",
      "t_loss:  0.41003040706410127 , v_loss:  0.5718506773312887\n",
      "t_acc:  0.7117958294428882 , v_acc:  0.7391304347826086\n",
      "t_recall:  0.5329106106147322 , v_recall:  0.5854954954954955\n",
      "t_prec:  0.740405437921078 , v_prec:  0.8142384105960265\n",
      "t_f:  0.4823915875441541 , v_f:  0.5698473282442748\n",
      "////////\n"
     ]
    },
    {
     "name": "stderr",
     "output_type": "stream",
     "text": [
      "\r",
      "Iterations:  51%|████████████████▉                | 154/300 [03:14<02:58,  1.23s/it]"
     ]
    },
    {
     "name": "stdout",
     "output_type": "stream",
     "text": [
      "Epoch  153 , loss 0.4092585835971084\n",
      "Epoch  154 , loss 0.4012079852468827\n"
     ]
    },
    {
     "name": "stderr",
     "output_type": "stream",
     "text": [
      "\r",
      "Iterations:  52%|█████████████████                | 155/300 [03:15<03:11,  1.32s/it]"
     ]
    },
    {
     "name": "stdout",
     "output_type": "stream",
     "text": [
      "Epoch:  154\n",
      "t_loss:  0.4012079852468827 , v_loss:  0.5682284335295359\n",
      "t_acc:  0.713974478680361 , v_acc:  0.7329192546583851\n",
      "t_recall:  0.5362018089238413 , v_recall:  0.5809909909909909\n",
      "t_prec:  0.751759398304869 , v_prec:  0.7724242424242425\n",
      "t_f:  0.4882066858448164 , v_f:  0.5651655046793542\n",
      "////////\n"
     ]
    },
    {
     "name": "stderr",
     "output_type": "stream",
     "text": [
      "\r",
      "Iterations:  52%|█████████████████▏               | 156/300 [03:16<02:53,  1.20s/it]"
     ]
    },
    {
     "name": "stdout",
     "output_type": "stream",
     "text": [
      "Epoch  155 , loss 0.4122178463959226\n",
      "Epoch  156 , loss 0.40546957710210013\n"
     ]
    },
    {
     "name": "stderr",
     "output_type": "stream",
     "text": [
      "\r",
      "Iterations:  52%|█████████████████▎               | 157/300 [03:18<03:06,  1.31s/it]"
     ]
    },
    {
     "name": "stdout",
     "output_type": "stream",
     "text": [
      "Epoch:  156\n",
      "t_loss:  0.40546957710210013 , v_loss:  0.57527756690979\n",
      "t_acc:  0.7136632430750078 , v_acc:  0.7391304347826086\n",
      "t_recall:  0.5362656290745392 , v_recall:  0.5854954954954955\n",
      "t_prec:  0.7451644728703268 , v_prec:  0.8142384105960265\n",
      "t_f:  0.488783523525961 , v_f:  0.5698473282442748\n",
      "////////\n"
     ]
    },
    {
     "name": "stderr",
     "output_type": "stream",
     "text": [
      "\r",
      "Iterations:  53%|█████████████████▍               | 158/300 [03:19<02:48,  1.19s/it]"
     ]
    },
    {
     "name": "stdout",
     "output_type": "stream",
     "text": [
      "Epoch  157 , loss 0.4037292453588224\n",
      "Epoch  158 , loss 0.40192771776049746\n"
     ]
    },
    {
     "name": "stderr",
     "output_type": "stream",
     "text": [
      "\r",
      "Iterations:  53%|█████████████████▍               | 159/300 [03:20<03:02,  1.29s/it]"
     ]
    },
    {
     "name": "stdout",
     "output_type": "stream",
     "text": [
      "Epoch:  158\n",
      "t_loss:  0.40192771776049746 , v_loss:  0.5758581509192785\n",
      "t_acc:  0.7093059446000622 , v_acc:  0.7391304347826086\n",
      "t_recall:  0.5291081648618603 , v_recall:  0.5854954954954955\n",
      "t_prec:  0.7263688760806917 , v_prec:  0.8142384105960265\n",
      "t_f:  0.47557469456572343 , v_f:  0.5698473282442748\n",
      "////////\n"
     ]
    },
    {
     "name": "stderr",
     "output_type": "stream",
     "text": [
      "\r",
      "Iterations:  53%|█████████████████▌               | 160/300 [03:21<02:47,  1.20s/it]"
     ]
    },
    {
     "name": "stdout",
     "output_type": "stream",
     "text": [
      "Epoch  159 , loss 0.4066235799999798\n",
      "Epoch  160 , loss 0.4029998697486578\n"
     ]
    },
    {
     "name": "stderr",
     "output_type": "stream",
     "text": [
      "\r",
      "Iterations:  54%|█████████████████▋               | 161/300 [03:23<03:01,  1.31s/it]"
     ]
    },
    {
     "name": "stdout",
     "output_type": "stream",
     "text": [
      "Epoch:  160\n",
      "t_loss:  0.4029998697486578 , v_loss:  0.576381728053093\n",
      "t_acc:  0.7155306567071273 , v_acc:  0.7391304347826086\n",
      "t_recall:  0.5401957151288069 , v_recall:  0.5854954954954955\n",
      "t_prec:  0.7445664881475955 , v_prec:  0.8142384105960265\n",
      "t_f:  0.49655798318866734 , v_f:  0.5698473282442748\n",
      "////////\n"
     ]
    },
    {
     "name": "stderr",
     "output_type": "stream",
     "text": [
      "\r",
      "Iterations:  54%|█████████████████▊               | 162/300 [03:24<02:48,  1.22s/it]"
     ]
    },
    {
     "name": "stdout",
     "output_type": "stream",
     "text": [
      "Epoch  161 , loss 0.4069850994091408\n",
      "Epoch  162 , loss 0.4041869055991079\n"
     ]
    },
    {
     "name": "stderr",
     "output_type": "stream",
     "text": [
      "\r",
      "Iterations:  54%|█████████████████▉               | 163/300 [03:25<03:00,  1.31s/it]"
     ]
    },
    {
     "name": "stdout",
     "output_type": "stream",
     "text": [
      "Epoch:  162\n",
      "t_loss:  0.4041869055991079 , v_loss:  0.5732877999544144\n",
      "t_acc:  0.715219421101774 , v_acc:  0.7391304347826086\n",
      "t_recall:  0.5376717311044317 , v_recall:  0.5854954954954955\n",
      "t_prec:  0.7619817251648044 , v_prec:  0.8142384105960265\n",
      "t_f:  0.49043429548205336 , v_f:  0.5698473282442748\n",
      "////////\n"
     ]
    },
    {
     "name": "stderr",
     "output_type": "stream",
     "text": [
      "\r",
      "Iterations:  55%|██████████████████               | 164/300 [03:26<02:44,  1.21s/it]"
     ]
    },
    {
     "name": "stdout",
     "output_type": "stream",
     "text": [
      "Epoch  163 , loss 0.4040460008032182\n",
      "Epoch  164 , loss 0.4044106170242908\n"
     ]
    },
    {
     "name": "stderr",
     "output_type": "stream",
     "text": [
      "\r",
      "Iterations:  55%|██████████████████▏              | 165/300 [03:28<02:56,  1.31s/it]"
     ]
    },
    {
     "name": "stdout",
     "output_type": "stream",
     "text": [
      "Epoch:  164\n",
      "t_loss:  0.4044106170242908 , v_loss:  0.5637263307968775\n",
      "t_acc:  0.712729536258948 , v_acc:  0.7329192546583851\n",
      "t_recall:  0.5350194205404811 , v_recall:  0.5809909909909909\n",
      "t_prec:  0.7389613835731901 , v_prec:  0.7724242424242425\n",
      "t_f:  0.4867381049836923 , v_f:  0.5651655046793542\n",
      "////////\n"
     ]
    },
    {
     "name": "stderr",
     "output_type": "stream",
     "text": [
      "\r",
      "Iterations:  55%|██████████████████▎              | 166/300 [03:29<02:40,  1.20s/it]"
     ]
    },
    {
     "name": "stdout",
     "output_type": "stream",
     "text": [
      "Epoch  165 , loss 0.4023149095329584\n",
      "Epoch  166 , loss 0.4059097416260663\n"
     ]
    },
    {
     "name": "stderr",
     "output_type": "stream",
     "text": [
      "\r",
      "Iterations:  56%|██████████████████▎              | 167/300 [03:30<02:54,  1.31s/it]"
     ]
    },
    {
     "name": "stdout",
     "output_type": "stream",
     "text": [
      "Epoch:  166\n",
      "t_loss:  0.4059097416260663 , v_loss:  0.5659184356530508\n",
      "t_acc:  0.7133520074696545 , v_acc:  0.7391304347826086\n",
      "t_recall:  0.5360419154280067 , v_recall:  0.590990990990991\n",
      "t_prec:  0.7414092664092664 , v_prec:  0.7824384787472036\n",
      "t_f:  0.48860470867466843 , v_f:  0.5805210918114144\n",
      "////////\n"
     ]
    },
    {
     "name": "stderr",
     "output_type": "stream",
     "text": [
      "\r",
      "Iterations:  56%|██████████████████▍              | 168/300 [03:31<02:38,  1.20s/it]"
     ]
    },
    {
     "name": "stdout",
     "output_type": "stream",
     "text": [
      "Epoch  167 , loss 0.4047437590711257\n",
      "Epoch  168 , loss 0.4035176947420719\n"
     ]
    },
    {
     "name": "stderr",
     "output_type": "stream",
     "text": [
      "\r",
      "Iterations:  56%|██████████████████▌              | 169/300 [03:33<02:56,  1.35s/it]"
     ]
    },
    {
     "name": "stdout",
     "output_type": "stream",
     "text": [
      "Epoch:  168\n",
      "t_loss:  0.4035176947420719 , v_loss:  0.5602870484193166\n",
      "t_acc:  0.7170868347338936 , v_acc:  0.7515527950310559\n",
      "t_recall:  0.5441896213337725 , v_recall:  0.610990990990991\n",
      "t_prec:  0.7392394152701478 , v_prec:  0.7993197278911565\n",
      "t_f:  0.5046907913826942 , v_f:  0.6099806201550388\n",
      "////////\n"
     ]
    },
    {
     "name": "stderr",
     "output_type": "stream",
     "text": [
      "\r",
      "Iterations:  57%|██████████████████▋              | 170/300 [03:34<02:38,  1.22s/it]"
     ]
    },
    {
     "name": "stdout",
     "output_type": "stream",
     "text": [
      "Epoch  169 , loss 0.39889496857044743\n",
      "Epoch  170 , loss 0.4064684685538797\n"
     ]
    },
    {
     "name": "stderr",
     "output_type": "stream",
     "text": [
      "\r",
      "Iterations:  57%|██████████████████▊              | 171/300 [03:36<02:50,  1.32s/it]"
     ]
    },
    {
     "name": "stdout",
     "output_type": "stream",
     "text": [
      "Epoch:  170\n",
      "t_loss:  0.4064684685538797 , v_loss:  0.5592206517855326\n",
      "t_acc:  0.7145969498910676 , v_acc:  0.7453416149068323\n",
      "t_recall:  0.5380869052030579 , v_recall:  0.600990990990991\n",
      "t_prec:  0.7460616073961979 , v_prec:  0.7913201663201663\n",
      "t_f:  0.49231936697433776 , v_f:  0.5954525954525954\n",
      "////////\n"
     ]
    },
    {
     "name": "stderr",
     "output_type": "stream",
     "text": [
      "\r",
      "Iterations:  57%|██████████████████▉              | 172/300 [03:37<02:34,  1.21s/it]"
     ]
    },
    {
     "name": "stdout",
     "output_type": "stream",
     "text": [
      "Epoch  171 , loss 0.40649595506051006\n",
      "Epoch  172 , loss 0.403106362211938\n"
     ]
    },
    {
     "name": "stderr",
     "output_type": "stream",
     "text": [
      "\r",
      "Iterations:  58%|███████████████████              | 173/300 [03:38<02:45,  1.30s/it]"
     ]
    },
    {
     "name": "stdout",
     "output_type": "stream",
     "text": [
      "Epoch:  172\n",
      "t_loss:  0.403106362211938 , v_loss:  0.5601178109645844\n",
      "t_acc:  0.7164643635231871 , v_acc:  0.7515527950310559\n",
      "t_recall:  0.5443172616351684 , v_recall:  0.610990990990991\n",
      "t_prec:  0.729870055907283 , v_prec:  0.7993197278911565\n",
      "t_f:  0.5057144280463679 , v_f:  0.6099806201550388\n",
      "////////\n"
     ]
    },
    {
     "name": "stderr",
     "output_type": "stream",
     "text": [
      "\r",
      "Iterations:  58%|███████████████████▏             | 174/300 [03:39<02:30,  1.19s/it]"
     ]
    },
    {
     "name": "stdout",
     "output_type": "stream",
     "text": [
      "Epoch  173 , loss 0.4065607482311772\n",
      "Epoch  174 , loss 0.40244076444822197\n"
     ]
    },
    {
     "name": "stderr",
     "output_type": "stream",
     "text": [
      "\r",
      "Iterations:  58%|███████████████████▎             | 175/300 [03:41<02:42,  1.30s/it]"
     ]
    },
    {
     "name": "stdout",
     "output_type": "stream",
     "text": [
      "Epoch:  174\n",
      "t_loss:  0.40244076444822197 , v_loss:  0.5683629314104716\n",
      "t_acc:  0.7155306567071273 , v_acc:  0.7453416149068323\n",
      "t_recall:  0.5407707827232676 , v_recall:  0.600990990990991\n",
      "t_prec:  0.7401066925315228 , v_prec:  0.7913201663201663\n",
      "t_f:  0.49801543346625315 , v_f:  0.5954525954525954\n",
      "////////\n"
     ]
    },
    {
     "name": "stderr",
     "output_type": "stream",
     "text": [
      "\r",
      "Iterations:  59%|███████████████████▎             | 176/300 [03:42<02:28,  1.20s/it]"
     ]
    },
    {
     "name": "stdout",
     "output_type": "stream",
     "text": [
      "Epoch  175 , loss 0.3980025912032408\n",
      "Epoch  176 , loss 0.4058248657806247\n"
     ]
    },
    {
     "name": "stderr",
     "output_type": "stream",
     "text": [
      "\r",
      "Iterations:  59%|███████████████████▍             | 177/300 [03:43<02:42,  1.32s/it]"
     ]
    },
    {
     "name": "stdout",
     "output_type": "stream",
     "text": [
      "Epoch:  176\n",
      "t_loss:  0.4058248657806247 , v_loss:  0.5647311757008234\n",
      "t_acc:  0.7108621226268285 , v_acc:  0.7515527950310559\n",
      "t_recall:  0.5348272738502079 , v_recall:  0.610990990990991\n",
      "t_prec:  0.7101595110316041 , v_prec:  0.7993197278911565\n",
      "t_f:  0.48866721656478135 , v_f:  0.6099806201550388\n",
      "////////\n"
     ]
    },
    {
     "name": "stderr",
     "output_type": "stream",
     "text": [
      "\r",
      "Iterations:  59%|███████████████████▌             | 178/300 [03:44<02:29,  1.23s/it]"
     ]
    },
    {
     "name": "stdout",
     "output_type": "stream",
     "text": [
      "Epoch  177 , loss 0.40824834271973254\n",
      "Epoch  178 , loss 0.4027244921992807\n"
     ]
    },
    {
     "name": "stderr",
     "output_type": "stream",
     "text": [
      "\r",
      "Iterations:  60%|███████████████████▋             | 179/300 [03:46<02:42,  1.34s/it]"
     ]
    },
    {
     "name": "stdout",
     "output_type": "stream",
     "text": [
      "Epoch:  178\n",
      "t_loss:  0.4027244921992807 , v_loss:  0.5635103483994802\n",
      "t_acc:  0.7164643635231871 , v_acc:  0.7515527950310559\n",
      "t_recall:  0.5428795926490166 , v_recall:  0.610990990990991\n",
      "t_prec:  0.7391483509473824 , v_prec:  0.7993197278911565\n",
      "t_f:  0.502178595694852 , v_f:  0.6099806201550388\n",
      "////////\n"
     ]
    },
    {
     "name": "stderr",
     "output_type": "stream",
     "text": [
      "\r",
      "Iterations:  60%|███████████████████▊             | 180/300 [03:47<02:27,  1.23s/it]"
     ]
    },
    {
     "name": "stdout",
     "output_type": "stream",
     "text": [
      "Epoch  179 , loss 0.3990708279843424\n",
      "Epoch  180 , loss 0.40628378882127647\n"
     ]
    },
    {
     "name": "stderr",
     "output_type": "stream",
     "text": [
      "\r",
      "Iterations:  60%|███████████████████▉             | 181/300 [03:48<02:39,  1.34s/it]"
     ]
    },
    {
     "name": "stdout",
     "output_type": "stream",
     "text": [
      "Epoch:  180\n",
      "t_loss:  0.40628378882127647 , v_loss:  0.5623756299416224\n",
      "t_acc:  0.712729536258948 , v_acc:  0.7515527950310559\n",
      "t_recall:  0.5373196909183239 , v_recall:  0.610990990990991\n",
      "t_prec:  0.7215578539107951 , v_prec:  0.7993197278911565\n",
      "t_f:  0.49270558764730155 , v_f:  0.6099806201550388\n",
      "////////\n"
     ]
    },
    {
     "name": "stderr",
     "output_type": "stream",
     "text": [
      "\r",
      "Iterations:  61%|████████████████████             | 182/300 [03:49<02:23,  1.22s/it]"
     ]
    },
    {
     "name": "stdout",
     "output_type": "stream",
     "text": [
      "Epoch  181 , loss 0.40172967490027933\n",
      "Epoch  182 , loss 0.3973968516962201\n"
     ]
    },
    {
     "name": "stderr",
     "output_type": "stream",
     "text": [
      "\r",
      "Iterations:  61%|████████████████████▏            | 183/300 [03:51<02:33,  1.31s/it]"
     ]
    },
    {
     "name": "stdout",
     "output_type": "stream",
     "text": [
      "Epoch:  182\n",
      "t_loss:  0.3973968516962201 , v_loss:  0.5613972395658493\n",
      "t_acc:  0.7124183006535948 , v_acc:  0.7515527950310559\n",
      "t_recall:  0.5356583082856398 , v_recall:  0.610990990990991\n",
      "t_prec:  0.7283508628013946 , v_prec:  0.7993197278911565\n",
      "t_f:  0.4888183776695391 , v_f:  0.6099806201550388\n",
      "////////\n"
     ]
    },
    {
     "name": "stderr",
     "output_type": "stream",
     "text": [
      "\r",
      "Iterations:  61%|████████████████████▏            | 184/300 [03:52<02:20,  1.21s/it]"
     ]
    },
    {
     "name": "stdout",
     "output_type": "stream",
     "text": [
      "Epoch  183 , loss 0.40025628255862816\n",
      "Epoch  184 , loss 0.40565526310135336\n"
     ]
    },
    {
     "name": "stderr",
     "output_type": "stream",
     "text": [
      "\r",
      "Iterations:  62%|████████████████████▎            | 185/300 [03:53<02:30,  1.31s/it]"
     ]
    },
    {
     "name": "stdout",
     "output_type": "stream",
     "text": [
      "Epoch:  184\n",
      "t_loss:  0.40565526310135336 , v_loss:  0.5556794206301371\n",
      "t_acc:  0.7158418923124805 , v_acc:  0.7763975155279503\n",
      "t_recall:  0.5412820301670304 , v_recall:  0.650990990990991\n",
      "t_prec:  0.741186265809928 , v_prec:  0.8255633255633255\n",
      "t_f:  0.4989268705632524 , v_f:  0.6644279759147753\n",
      "////////\n"
     ]
    },
    {
     "name": "stderr",
     "output_type": "stream",
     "text": [
      "\r",
      "Iterations:  62%|████████████████████▍            | 186/300 [03:54<02:19,  1.22s/it]"
     ]
    },
    {
     "name": "stdout",
     "output_type": "stream",
     "text": [
      "Epoch  185 , loss 0.4042479489363876\n",
      "Epoch  186 , loss 0.40581125050198796\n"
     ]
    },
    {
     "name": "stderr",
     "output_type": "stream",
     "text": [
      "\r",
      "Iterations:  62%|████████████████████▌            | 187/300 [03:56<02:30,  1.33s/it]"
     ]
    },
    {
     "name": "stdout",
     "output_type": "stream",
     "text": [
      "Epoch:  186\n",
      "t_loss:  0.40581125050198796 , v_loss:  0.5528937131166458\n",
      "t_acc:  0.7167755991285403 , v_acc:  0.7639751552795031\n",
      "t_recall:  0.5442534414844704 , v_recall:  0.630990990990991\n",
      "t_prec:  0.734449302690833 , v_prec:  0.8133620689655172\n",
      "t_f:  0.5052044551788002 , v_f:  0.637902462121212\n",
      "////////\n"
     ]
    },
    {
     "name": "stderr",
     "output_type": "stream",
     "text": [
      "\r",
      "Iterations:  63%|████████████████████▋            | 188/300 [03:57<02:16,  1.22s/it]"
     ]
    },
    {
     "name": "stdout",
     "output_type": "stream",
     "text": [
      "Epoch  187 , loss 0.396716855320276\n",
      "Epoch  188 , loss 0.39556915269178505\n"
     ]
    },
    {
     "name": "stderr",
     "output_type": "stream",
     "text": [
      "\r",
      "Iterations:  63%|████████████████████▊            | 189/300 [03:58<02:26,  1.32s/it]"
     ]
    },
    {
     "name": "stdout",
     "output_type": "stream",
     "text": [
      "Epoch:  188\n",
      "t_loss:  0.39556915269178505 , v_loss:  0.5529942164818445\n",
      "t_acc:  0.7195767195767195 , v_acc:  0.7763975155279503\n",
      "t_recall:  0.5491422022755658 , v_recall:  0.650990990990991\n",
      "t_prec:  0.7414613586296812 , v_prec:  0.8255633255633255\n",
      "t_f:  0.5138904724538891 , v_f:  0.6644279759147753\n",
      "////////\n"
     ]
    },
    {
     "name": "stderr",
     "output_type": "stream",
     "text": [
      "\r",
      "Iterations:  63%|████████████████████▉            | 190/300 [03:59<02:12,  1.20s/it]"
     ]
    },
    {
     "name": "stdout",
     "output_type": "stream",
     "text": [
      "Epoch  189 , loss 0.3982563249620737\n",
      "Epoch  190 , loss 0.4031881152414808\n"
     ]
    },
    {
     "name": "stderr",
     "output_type": "stream",
     "text": [
      "\r",
      "Iterations:  64%|█████████████████████            | 191/300 [04:01<02:24,  1.33s/it]"
     ]
    },
    {
     "name": "stdout",
     "output_type": "stream",
     "text": [
      "Epoch:  190\n",
      "t_loss:  0.4031881152414808 , v_loss:  0.5515843828519186\n",
      "t_acc:  0.7192654839713664 , v_acc:  0.7763975155279503\n",
      "t_recall:  0.547768353440112 , v_recall:  0.650990990990991\n",
      "t_prec:  0.7460551431601272 , v_prec:  0.8255633255633255\n",
      "t_f:  0.510944049571715 , v_f:  0.6644279759147753\n",
      "////////\n"
     ]
    },
    {
     "name": "stderr",
     "output_type": "stream",
     "text": [
      "\r",
      "Iterations:  64%|█████████████████████            | 192/300 [04:02<02:10,  1.21s/it]"
     ]
    },
    {
     "name": "stdout",
     "output_type": "stream",
     "text": [
      "Epoch  191 , loss 0.4003877096316394\n",
      "Epoch  192 , loss 0.3944830613977769\n"
     ]
    },
    {
     "name": "stderr",
     "output_type": "stream",
     "text": [
      "\r",
      "Iterations:  64%|█████████████████████▏           | 193/300 [04:03<02:22,  1.33s/it]"
     ]
    },
    {
     "name": "stdout",
     "output_type": "stream",
     "text": [
      "Epoch:  192\n",
      "t_loss:  0.3944830613977769 , v_loss:  0.5526321977376938\n",
      "t_acc:  0.7226890756302521 , v_acc:  0.7763975155279503\n",
      "t_recall:  0.5513793387408902 , v_recall:  0.650990990990991\n",
      "t_prec:  0.7702729044834308 , v_prec:  0.8255633255633255\n",
      "t_f:  0.5158795265440056 , v_f:  0.6644279759147753\n",
      "////////\n"
     ]
    },
    {
     "name": "stderr",
     "output_type": "stream",
     "text": [
      "\r",
      "Iterations:  65%|█████████████████████▎           | 194/300 [04:04<02:07,  1.20s/it]"
     ]
    },
    {
     "name": "stdout",
     "output_type": "stream",
     "text": [
      "Epoch  193 , loss 0.4003089958546208\n",
      "Epoch  194 , loss 0.3945818984625386\n"
     ]
    },
    {
     "name": "stderr",
     "output_type": "stream",
     "text": [
      "\r",
      "Iterations:  65%|█████████████████████▍           | 195/300 [04:06<02:18,  1.31s/it]"
     ]
    },
    {
     "name": "stdout",
     "output_type": "stream",
     "text": [
      "Epoch:  194\n",
      "t_loss:  0.3945818984625386 , v_loss:  0.551932712395986\n",
      "t_acc:  0.7189542483660131 , v_acc:  0.7763975155279503\n",
      "t_recall:  0.5486947749825009 , v_recall:  0.650990990990991\n",
      "t_prec:  0.7361615879228404 , v_prec:  0.8255633255633255\n",
      "t_f:  0.5134940577249576 , v_f:  0.6644279759147753\n",
      "////////\n"
     ]
    },
    {
     "name": "stderr",
     "output_type": "stream",
     "text": [
      "\r",
      "Iterations:  65%|█████████████████████▌           | 196/300 [04:07<02:04,  1.20s/it]"
     ]
    },
    {
     "name": "stdout",
     "output_type": "stream",
     "text": [
      "Epoch  195 , loss 0.39646708906865585\n",
      "Epoch  196 , loss 0.39642225322770136\n"
     ]
    },
    {
     "name": "stderr",
     "output_type": "stream",
     "text": [
      "\r",
      "Iterations:  66%|█████████████████████▋           | 197/300 [04:08<02:14,  1.30s/it]"
     ]
    },
    {
     "name": "stdout",
     "output_type": "stream",
     "text": [
      "Epoch:  196\n",
      "t_loss:  0.39642225322770136 , v_loss:  0.5534226844708124\n",
      "t_acc:  0.7186430127606598 , v_acc:  0.7763975155279503\n",
      "t_recall:  0.5487585951331988 , v_recall:  0.650990990990991\n",
      "t_prec:  0.7319686581782566 , v_prec:  0.8255633255633255\n",
      "t_f:  0.5139755668538107 , v_f:  0.6644279759147753\n",
      "////////\n"
     ]
    },
    {
     "name": "stderr",
     "output_type": "stream",
     "text": [
      "\r",
      "Iterations:  66%|█████████████████████▊           | 198/300 [04:09<02:01,  1.19s/it]"
     ]
    },
    {
     "name": "stdout",
     "output_type": "stream",
     "text": [
      "Epoch  197 , loss 0.40735283026508257\n",
      "Epoch  198 , loss 0.3995743551675011\n"
     ]
    },
    {
     "name": "stderr",
     "output_type": "stream",
     "text": [
      "\r",
      "Iterations:  66%|█████████████████████▉           | 199/300 [04:11<02:11,  1.30s/it]"
     ]
    },
    {
     "name": "stdout",
     "output_type": "stream",
     "text": [
      "Epoch:  198\n",
      "t_loss:  0.3995743551675011 , v_loss:  0.5464330514272054\n",
      "t_acc:  0.7270463741051977 , v_acc:  0.7763975155279503\n",
      "t_recall:  0.5576742015618781 , v_recall:  0.650990990990991\n",
      "t_prec:  0.7871597457916676 , v_prec:  0.8255633255633255\n",
      "t_f:  0.5261735306012119 , v_f:  0.6644279759147753\n",
      "////////\n"
     ]
    },
    {
     "name": "stderr",
     "output_type": "stream",
     "text": [
      "\r",
      "Iterations:  67%|██████████████████████           | 200/300 [04:12<01:59,  1.20s/it]"
     ]
    },
    {
     "name": "stdout",
     "output_type": "stream",
     "text": [
      "Epoch  199 , loss 0.39708949830017837\n",
      "Epoch  200 , loss 0.39845749706614253\n"
     ]
    },
    {
     "name": "stderr",
     "output_type": "stream",
     "text": [
      "\r",
      "Iterations:  67%|██████████████████████           | 201/300 [04:14<02:11,  1.33s/it]"
     ]
    },
    {
     "name": "stdout",
     "output_type": "stream",
     "text": [
      "Epoch:  200\n",
      "t_loss:  0.39845749706614253 , v_loss:  0.5442918340365092\n",
      "t_acc:  0.7261126672891379 , v_acc:  0.782608695652174\n",
      "t_recall:  0.5584407296084325 , v_recall:  0.660990990990991\n",
      "t_prec:  0.7678625349135653 , v_prec:  0.83117123795404\n",
      "t_f:  0.5288485764676241 , v_f:  0.6772068511198946\n",
      "////////\n"
     ]
    },
    {
     "name": "stderr",
     "output_type": "stream",
     "text": [
      "\r",
      "Iterations:  67%|██████████████████████▏          | 202/300 [04:14<02:00,  1.23s/it]"
     ]
    },
    {
     "name": "stdout",
     "output_type": "stream",
     "text": [
      "Epoch  201 , loss 0.39729193466551166\n",
      "Epoch  202 , loss 0.3932979323116003\n"
     ]
    },
    {
     "name": "stderr",
     "output_type": "stream",
     "text": [
      "\r",
      "Iterations:  68%|██████████████████████▎          | 203/300 [04:16<02:09,  1.34s/it]"
     ]
    },
    {
     "name": "stdout",
     "output_type": "stream",
     "text": [
      "Epoch:  202\n",
      "t_loss:  0.3932979323116003 , v_loss:  0.5559508005777994\n",
      "t_acc:  0.7248677248677249 , v_acc:  0.782608695652174\n",
      "t_recall:  0.5566832736306118 , v_recall:  0.660990990990991\n",
      "t_prec:  0.7630093019109038 , v_prec:  0.83117123795404\n",
      "t_f:  0.526049891803642 , v_f:  0.6772068511198946\n",
      "////////\n"
     ]
    },
    {
     "name": "stderr",
     "output_type": "stream",
     "text": [
      "\r",
      "Iterations:  68%|██████████████████████▍          | 204/300 [04:17<01:57,  1.22s/it]"
     ]
    },
    {
     "name": "stdout",
     "output_type": "stream",
     "text": [
      "Epoch  203 , loss 0.4038241479326697\n",
      "Epoch  204 , loss 0.3984530156149584\n"
     ]
    },
    {
     "name": "stderr",
     "output_type": "stream",
     "text": [
      "\r",
      "Iterations:  68%|██████████████████████▌          | 205/300 [04:19<02:05,  1.32s/it]"
     ]
    },
    {
     "name": "stdout",
     "output_type": "stream",
     "text": [
      "Epoch:  204\n",
      "t_loss:  0.3984530156149584 , v_loss:  0.5589054425557455\n",
      "t_acc:  0.7217553688141923 , v_acc:  0.7701863354037267\n",
      "t_recall:  0.5527209343819053 , v_recall:  0.640990990990991\n",
      "t_prec:  0.7476809264258326 , v_prec:  0.8196486928104575\n",
      "t_f:  0.5200214554982221 , v_f:  0.6513315774070823\n",
      "////////\n"
     ]
    },
    {
     "name": "stderr",
     "output_type": "stream",
     "text": [
      "\r",
      "Iterations:  69%|██████████████████████▋          | 206/300 [04:20<01:52,  1.20s/it]"
     ]
    },
    {
     "name": "stdout",
     "output_type": "stream",
     "text": [
      "Epoch  205 , loss 0.39708970282592027\n",
      "Epoch  206 , loss 0.3943602103813022\n"
     ]
    },
    {
     "name": "stderr",
     "output_type": "stream",
     "text": [
      "\r",
      "Iterations:  69%|██████████████████████▊          | 207/300 [04:21<02:01,  1.31s/it]"
     ]
    },
    {
     "name": "stdout",
     "output_type": "stream",
     "text": [
      "Epoch:  206\n",
      "t_loss:  0.3943602103813022 , v_loss:  0.5505883246660233\n",
      "t_acc:  0.7270463741051977 , v_acc:  0.7888198757763976\n",
      "t_recall:  0.5599744719397208 , v_recall:  0.670990990990991\n",
      "t_prec:  0.7699707157949365 , v_prec:  0.8365248226950355\n",
      "t_f:  0.5314280497532838 , v_f:  0.6896825396825397\n",
      "////////\n"
     ]
    },
    {
     "name": "stderr",
     "output_type": "stream",
     "text": [
      "\r",
      "Iterations:  69%|██████████████████████▉          | 208/300 [04:22<01:51,  1.21s/it]"
     ]
    },
    {
     "name": "stdout",
     "output_type": "stream",
     "text": [
      "Epoch  207 , loss 0.39317630435906203\n",
      "Epoch  208 , loss 0.3921724408864975\n"
     ]
    },
    {
     "name": "stderr",
     "output_type": "stream",
     "text": [
      "\r",
      "Iterations:  70%|██████████████████████▉          | 209/300 [04:24<01:59,  1.31s/it]"
     ]
    },
    {
     "name": "stdout",
     "output_type": "stream",
     "text": [
      "Epoch:  208\n",
      "t_loss:  0.3921724408864975 , v_loss:  0.550925150513649\n",
      "t_acc:  0.7267351384998444 , v_acc:  0.7888198757763976\n",
      "t_recall:  0.5606133596848795 , v_recall:  0.670990990990991\n",
      "t_prec:  0.7619414316273957 , v_prec:  0.8365248226950355\n",
      "t_f:  0.5331462838562423 , v_f:  0.6896825396825397\n",
      "////////\n"
     ]
    },
    {
     "name": "stderr",
     "output_type": "stream",
     "text": [
      "\r",
      "Iterations:  70%|███████████████████████          | 210/300 [04:25<01:50,  1.23s/it]"
     ]
    },
    {
     "name": "stdout",
     "output_type": "stream",
     "text": [
      "Epoch  209 , loss 0.40055299973955344\n",
      "Epoch  210 , loss 0.3938239625855988\n"
     ]
    },
    {
     "name": "stderr",
     "output_type": "stream",
     "text": [
      "\r",
      "Iterations:  70%|███████████████████████▏         | 211/300 [04:26<01:56,  1.31s/it]"
     ]
    },
    {
     "name": "stdout",
     "output_type": "stream",
     "text": [
      "Epoch:  210\n",
      "t_loss:  0.3938239625855988 , v_loss:  0.5471565276384354\n",
      "t_acc:  0.7242452536570184 , v_acc:  0.7888198757763976\n",
      "t_recall:  0.5556607787430862 , v_recall:  0.670990990990991\n",
      "t_prec:  0.761492202410633 , v_prec:  0.8365248226950355\n",
      "t_f:  0.524316565516135 , v_f:  0.6896825396825397\n",
      "////////\n"
     ]
    },
    {
     "name": "stderr",
     "output_type": "stream",
     "text": [
      "\r",
      "Iterations:  71%|███████████████████████▎         | 212/300 [04:27<01:46,  1.21s/it]"
     ]
    },
    {
     "name": "stdout",
     "output_type": "stream",
     "text": [
      "Epoch  211 , loss 0.39287980222234536\n",
      "Epoch  212 , loss 0.39312746711805757\n"
     ]
    },
    {
     "name": "stderr",
     "output_type": "stream",
     "text": [
      "\r",
      "Iterations:  71%|███████████████████████▍         | 213/300 [04:29<01:53,  1.31s/it]"
     ]
    },
    {
     "name": "stdout",
     "output_type": "stream",
     "text": [
      "Epoch:  212\n",
      "t_loss:  0.39312746711805757 , v_loss:  0.5410776237646738\n",
      "t_acc:  0.7223778400248988 , v_acc:  0.7888198757763976\n",
      "t_recall:  0.5548935644583523 , v_recall:  0.670990990990991\n",
      "t_prec:  0.7427619359772752 , v_prec:  0.8365248226950355\n",
      "t_f:  0.5243981121930821 , v_f:  0.6896825396825397\n",
      "////////\n"
     ]
    },
    {
     "name": "stderr",
     "output_type": "stream",
     "text": [
      "\r",
      "Iterations:  71%|███████████████████████▌         | 214/300 [04:30<01:43,  1.20s/it]"
     ]
    },
    {
     "name": "stdout",
     "output_type": "stream",
     "text": [
      "Epoch  213 , loss 0.3949553434755288\n",
      "Epoch  214 , loss 0.3990461165998496\n"
     ]
    },
    {
     "name": "stderr",
     "output_type": "stream",
     "text": [
      "\r",
      "Iterations:  72%|███████████████████████▋         | 215/300 [04:31<01:51,  1.32s/it]"
     ]
    },
    {
     "name": "stdout",
     "output_type": "stream",
     "text": [
      "Epoch:  214\n",
      "t_loss:  0.3990461165998496 , v_loss:  0.5412439207235972\n",
      "t_acc:  0.7298474945533769 , v_acc:  0.7888198757763976\n",
      "t_recall:  0.564575698933586 , v_recall:  0.670990990990991\n",
      "t_prec:  0.775923645320197 , v_prec:  0.8365248226950355\n",
      "t_f:  0.5390944788196097 , v_f:  0.6896825396825397\n",
      "////////\n"
     ]
    },
    {
     "name": "stderr",
     "output_type": "stream",
     "text": [
      "\r",
      "Iterations:  72%|███████████████████████▊         | 216/300 [04:32<01:41,  1.20s/it]"
     ]
    },
    {
     "name": "stdout",
     "output_type": "stream",
     "text": [
      "Epoch  215 , loss 0.39661196078739913\n",
      "Epoch  216 , loss 0.39462784517045113\n"
     ]
    },
    {
     "name": "stderr",
     "output_type": "stream",
     "text": [
      "\r",
      "Iterations:  72%|███████████████████████▊         | 217/300 [04:34<01:50,  1.33s/it]"
     ]
    },
    {
     "name": "stdout",
     "output_type": "stream",
     "text": [
      "Epoch:  216\n",
      "t_loss:  0.39462784517045113 , v_loss:  0.5475835849841436\n",
      "t_acc:  0.7264239028944911 , v_acc:  0.7888198757763976\n",
      "t_recall:  0.5606771798355773 , v_recall:  0.670990990990991\n",
      "t_prec:  0.7578163270066636 , v_prec:  0.8365248226950355\n",
      "t_f:  0.5335720996800501 , v_f:  0.6896825396825397\n",
      "////////\n"
     ]
    },
    {
     "name": "stderr",
     "output_type": "stream",
     "text": [
      "\r",
      "Iterations:  73%|███████████████████████▉         | 218/300 [04:35<01:39,  1.21s/it]"
     ]
    },
    {
     "name": "stdout",
     "output_type": "stream",
     "text": [
      "Epoch  217 , loss 0.40143271930077495\n",
      "Epoch  218 , loss 0.39203551323974833\n"
     ]
    },
    {
     "name": "stderr",
     "output_type": "stream",
     "text": [
      "\r",
      "Iterations:  73%|████████████████████████         | 219/300 [04:36<01:47,  1.33s/it]"
     ]
    },
    {
     "name": "stdout",
     "output_type": "stream",
     "text": [
      "Epoch:  218\n",
      "t_loss:  0.39203551323974833 , v_loss:  0.5420036514600118\n",
      "t_acc:  0.7298474945533769 , v_acc:  0.7888198757763976\n",
      "t_recall:  0.5654383003252769 , v_recall:  0.670990990990991\n",
      "t_prec:  0.7705007318650645 , v_prec:  0.8365248226950355\n",
      "t_f:  0.5409734072810011 , v_f:  0.6896825396825397\n",
      "////////\n"
     ]
    },
    {
     "name": "stderr",
     "output_type": "stream",
     "text": [
      "\r",
      "Iterations:  73%|████████████████████████▏        | 220/300 [04:37<01:36,  1.20s/it]"
     ]
    },
    {
     "name": "stdout",
     "output_type": "stream",
     "text": [
      "Epoch  219 , loss 0.3955964387631884\n",
      "Epoch  220 , loss 0.393107863910058\n"
     ]
    },
    {
     "name": "stderr",
     "output_type": "stream",
     "text": [
      "\r",
      "Iterations:  74%|████████████████████████▎        | 221/300 [04:39<01:42,  1.30s/it]"
     ]
    },
    {
     "name": "stdout",
     "output_type": "stream",
     "text": [
      "Epoch:  220\n",
      "t_loss:  0.393107863910058 , v_loss:  0.5395109156767527\n",
      "t_acc:  0.7314036725801432 , v_acc:  0.8012422360248447\n",
      "t_recall:  0.5679945375440908 , v_recall:  0.690990990990991\n",
      "t_prec:  0.7736666016063753 , v_prec:  0.8466317854807064\n",
      "t_f:  0.5451586250066228 , v_f:  0.7137777777777778\n",
      "////////\n"
     ]
    },
    {
     "name": "stderr",
     "output_type": "stream",
     "text": [
      "\r",
      "Iterations:  74%|████████████████████████▍        | 222/300 [04:40<01:33,  1.19s/it]"
     ]
    },
    {
     "name": "stdout",
     "output_type": "stream",
     "text": [
      "Epoch  221 , loss 0.39469362532391267\n",
      "Epoch  222 , loss 0.39286131835451316\n"
     ]
    },
    {
     "name": "stderr",
     "output_type": "stream",
     "text": [
      "\r",
      "Iterations:  74%|████████████████████████▌        | 223/300 [04:41<01:40,  1.30s/it]"
     ]
    },
    {
     "name": "stdout",
     "output_type": "stream",
     "text": [
      "Epoch:  222\n",
      "t_loss:  0.39286131835451316 , v_loss:  0.539949968457222\n",
      "t_acc:  0.7267351384998444 , v_acc:  0.8012422360248447\n",
      "t_recall:  0.5632011638599526 , v_recall:  0.690990990990991\n",
      "t_prec:  0.7478702255013134 , v_prec:  0.8466317854807064\n",
      "t_f:  0.5388064415717582 , v_f:  0.7137777777777778\n",
      "////////\n"
     ]
    },
    {
     "name": "stderr",
     "output_type": "stream",
     "text": [
      "\r",
      "Iterations:  75%|████████████████████████▋        | 224/300 [04:42<01:32,  1.21s/it]"
     ]
    },
    {
     "name": "stdout",
     "output_type": "stream",
     "text": [
      "Epoch  223 , loss 0.3900950752636966\n",
      "Epoch  224 , loss 0.38854338929933663\n"
     ]
    },
    {
     "name": "stderr",
     "output_type": "stream",
     "text": [
      "\r",
      "Iterations:  75%|████████████████████████▊        | 225/300 [04:44<01:40,  1.34s/it]"
     ]
    },
    {
     "name": "stdout",
     "output_type": "stream",
     "text": [
      "Epoch:  224\n",
      "t_loss:  0.38854338929933663 , v_loss:  0.5430155644814173\n",
      "t_acc:  0.7270463741051977 , v_acc:  0.7950310559006211\n",
      "t_recall:  0.5631373437092546 , v_recall:  0.680990990990991\n",
      "t_prec:  0.7514750579454511 , v_prec:  0.8416666666666667\n",
      "t_f:  0.5384023761015114 , v_f:  0.7018685820099881\n",
      "////////\n"
     ]
    },
    {
     "name": "stderr",
     "output_type": "stream",
     "text": [
      "\r",
      "Iterations:  75%|████████████████████████▊        | 226/300 [04:45<01:30,  1.22s/it]"
     ]
    },
    {
     "name": "stdout",
     "output_type": "stream",
     "text": [
      "Epoch  225 , loss 0.39189106751890745\n",
      "Epoch  226 , loss 0.3885593361714307\n"
     ]
    },
    {
     "name": "stderr",
     "output_type": "stream",
     "text": [
      "\r",
      "Iterations:  76%|████████████████████████▉        | 227/300 [04:46<01:37,  1.33s/it]"
     ]
    },
    {
     "name": "stdout",
     "output_type": "stream",
     "text": [
      "Epoch:  226\n",
      "t_loss:  0.3885593361714307 , v_loss:  0.5446841518084208\n",
      "t_acc:  0.7342047930283224 , v_acc:  0.7888198757763976\n",
      "t_recall:  0.570295494160113 , v_recall:  0.670990990990991\n",
      "t_prec:  0.7937642911221063 , v_prec:  0.8365248226950355\n",
      "t_f:  0.5477631275340344 , v_f:  0.6896825396825397\n",
      "////////\n"
     ]
    },
    {
     "name": "stderr",
     "output_type": "stream",
     "text": [
      "\r",
      "Iterations:  76%|█████████████████████████        | 228/300 [04:47<01:27,  1.22s/it]"
     ]
    },
    {
     "name": "stdout",
     "output_type": "stream",
     "text": [
      "Epoch  227 , loss 0.39681509721512886\n",
      "Epoch  228 , loss 0.3904334493711883\n"
     ]
    },
    {
     "name": "stderr",
     "output_type": "stream",
     "text": [
      "\r",
      "Iterations:  76%|█████████████████████████▏       | 229/300 [04:49<01:32,  1.31s/it]"
     ]
    },
    {
     "name": "stdout",
     "output_type": "stream",
     "text": [
      "Epoch:  228\n",
      "t_loss:  0.3904334493711883 , v_loss:  0.5467088421185812\n",
      "t_acc:  0.7307812013694367 , v_acc:  0.7888198757763976\n",
      "t_recall:  0.5712850496150204 , v_recall:  0.670990990990991\n",
      "t_prec:  0.7504122190401805 , v_prec:  0.8365248226950355\n",
      "t_f:  0.5524986776608001 , v_f:  0.6896825396825397\n",
      "////////\n"
     ]
    },
    {
     "name": "stderr",
     "output_type": "stream",
     "text": [
      "\r",
      "Iterations:  77%|█████████████████████████▎       | 230/300 [04:50<01:23,  1.19s/it]"
     ]
    },
    {
     "name": "stdout",
     "output_type": "stream",
     "text": [
      "Epoch  229 , loss 0.3955937863564959\n",
      "Epoch  230 , loss 0.3959348441339007\n"
     ]
    },
    {
     "name": "stderr",
     "output_type": "stream",
     "text": [
      "\r",
      "Iterations:  77%|█████████████████████████▍       | 231/300 [04:51<01:29,  1.29s/it]"
     ]
    },
    {
     "name": "stdout",
     "output_type": "stream",
     "text": [
      "Epoch:  230\n",
      "t_loss:  0.3959348441339007 , v_loss:  0.5463742564121882\n",
      "t_acc:  0.7286025521319639 , v_acc:  0.7950310559006211\n",
      "t_recall:  0.5668437161169899 , v_recall:  0.680990990990991\n",
      "t_prec:  0.7494664376474767 , v_prec:  0.8416666666666667\n",
      "t_f:  0.5450019552793192 , v_f:  0.7018685820099881\n",
      "////////\n"
     ]
    },
    {
     "name": "stderr",
     "output_type": "stream",
     "text": [
      "\r",
      "Iterations:  77%|█████████████████████████▌       | 232/300 [04:52<01:20,  1.18s/it]"
     ]
    },
    {
     "name": "stdout",
     "output_type": "stream",
     "text": [
      "Epoch  231 , loss 0.3934335971579832\n",
      "Epoch  232 , loss 0.38727639878497405\n"
     ]
    },
    {
     "name": "stderr",
     "output_type": "stream",
     "text": [
      "\r",
      "Iterations:  78%|█████████████████████████▋       | 233/300 [04:54<01:27,  1.30s/it]"
     ]
    },
    {
     "name": "stdout",
     "output_type": "stream",
     "text": [
      "Epoch:  232\n",
      "t_loss:  0.38727639878497405 , v_loss:  0.5501992652813593\n",
      "t_acc:  0.7320261437908496 , v_acc:  0.7950310559006211\n",
      "t_recall:  0.5710297690122288 , v_recall:  0.680990990990991\n",
      "t_prec:  0.763817097415507 , v_prec:  0.8416666666666667\n",
      "t_f:  0.5510391577483673 , v_f:  0.7018685820099881\n",
      "////////\n"
     ]
    },
    {
     "name": "stderr",
     "output_type": "stream",
     "text": [
      "\r",
      "Iterations:  78%|█████████████████████████▋       | 234/300 [04:55<01:20,  1.22s/it]"
     ]
    },
    {
     "name": "stdout",
     "output_type": "stream",
     "text": [
      "Epoch  233 , loss 0.3929180853507098\n",
      "Epoch  234 , loss 0.3932662273154539\n"
     ]
    },
    {
     "name": "stderr",
     "output_type": "stream",
     "text": [
      "\r",
      "Iterations:  78%|█████████████████████████▊       | 235/300 [04:56<01:25,  1.31s/it]"
     ]
    },
    {
     "name": "stdout",
     "output_type": "stream",
     "text": [
      "Epoch:  234\n",
      "t_loss:  0.3932662273154539 , v_loss:  0.5466315050919851\n",
      "t_acc:  0.7298474945533769 , v_acc:  0.7950310559006211\n",
      "t_recall:  0.5665884355141982 , v_recall:  0.680990990990991\n",
      "t_prec:  0.763850468238459 , v_prec:  0.8416666666666667\n",
      "t_f:  0.5434465733331587 , v_f:  0.7018685820099881\n",
      "////////\n"
     ]
    },
    {
     "name": "stderr",
     "output_type": "stream",
     "text": [
      "\r",
      "Iterations:  79%|█████████████████████████▉       | 236/300 [04:57<01:18,  1.22s/it]"
     ]
    },
    {
     "name": "stdout",
     "output_type": "stream",
     "text": [
      "Epoch  235 , loss 0.3948616665952346\n",
      "Epoch  236 , loss 0.3912948948495528\n"
     ]
    },
    {
     "name": "stderr",
     "output_type": "stream",
     "text": [
      "\r",
      "Iterations:  79%|██████████████████████████       | 237/300 [04:59<01:22,  1.31s/it]"
     ]
    },
    {
     "name": "stdout",
     "output_type": "stream",
     "text": [
      "Epoch:  236\n",
      "t_loss:  0.3912948948495528 , v_loss:  0.5455699364344279\n",
      "t_acc:  0.7251789604730782 , v_acc:  0.8012422360248447\n",
      "t_recall:  0.5603573928439083 , v_recall:  0.690990990990991\n",
      "t_prec:  0.745511489247672 , v_prec:  0.8466317854807064\n",
      "t_f:  0.5339887204429037 , v_f:  0.7137777777777778\n",
      "////////\n"
     ]
    },
    {
     "name": "stderr",
     "output_type": "stream",
     "text": [
      "\r",
      "Iterations:  79%|██████████████████████████▏      | 238/300 [05:00<01:14,  1.20s/it]"
     ]
    },
    {
     "name": "stdout",
     "output_type": "stream",
     "text": [
      "Epoch  237 , loss 0.3900793522012\n",
      "Epoch  238 , loss 0.38744085442786125\n"
     ]
    },
    {
     "name": "stderr",
     "output_type": "stream",
     "text": [
      "\r",
      "Iterations:  80%|██████████████████████████▎      | 239/300 [05:01<01:19,  1.30s/it]"
     ]
    },
    {
     "name": "stdout",
     "output_type": "stream",
     "text": [
      "Epoch:  238\n",
      "t_loss:  0.38744085442786125 , v_loss:  0.5445782591899236\n",
      "t_acc:  0.7292250233426704 , v_acc:  0.8012422360248447\n",
      "t_recall:  0.5652784068294423 , v_recall:  0.690990990990991\n",
      "t_prec:  0.7641236140162524 , v_prec:  0.8466317854807064\n",
      "t_f:  0.541159727648175 , v_f:  0.7137777777777778\n",
      "////////\n"
     ]
    },
    {
     "name": "stderr",
     "output_type": "stream",
     "text": [
      "\r",
      "Iterations:  80%|██████████████████████████▍      | 240/300 [05:02<01:11,  1.19s/it]"
     ]
    },
    {
     "name": "stdout",
     "output_type": "stream",
     "text": [
      "Epoch  239 , loss 0.3929297941572526\n",
      "Epoch  240 , loss 0.3867180551968369\n"
     ]
    },
    {
     "name": "stderr",
     "output_type": "stream",
     "text": [
      "\r",
      "Iterations:  80%|██████████████████████████▌      | 241/300 [05:04<01:17,  1.31s/it]"
     ]
    },
    {
     "name": "stdout",
     "output_type": "stream",
     "text": [
      "Epoch:  240\n",
      "t_loss:  0.3867180551968369 , v_loss:  0.540987029671669\n",
      "t_acc:  0.7342047930283224 , v_acc:  0.7950310559006211\n",
      "t_recall:  0.5746085011185682 , v_recall:  0.6864864864864866\n",
      "t_prec:  0.7681282492247896 , v_prec:  0.8260869565217391\n",
      "t_f:  0.5567402443831297 , v_f:  0.7077075424987622\n",
      "////////\n"
     ]
    },
    {
     "name": "stderr",
     "output_type": "stream",
     "text": [
      "\r",
      "Iterations:  81%|██████████████████████████▌      | 242/300 [05:05<01:09,  1.20s/it]"
     ]
    },
    {
     "name": "stdout",
     "output_type": "stream",
     "text": [
      "Epoch  241 , loss 0.38798998676094354\n",
      "Epoch  242 , loss 0.38334240516026813\n"
     ]
    },
    {
     "name": "stderr",
     "output_type": "stream",
     "text": [
      "\r",
      "Iterations:  81%|██████████████████████████▋      | 243/300 [05:06<01:15,  1.32s/it]"
     ]
    },
    {
     "name": "stdout",
     "output_type": "stream",
     "text": [
      "Epoch:  242\n",
      "t_loss:  0.38334240516026813 , v_loss:  0.5445199112097422\n",
      "t_acc:  0.7366946778711485 , v_acc:  0.8012422360248447\n",
      "t_recall:  0.5761106764935974 , v_recall:  0.690990990990991\n",
      "t_prec:  0.7868203823237339 , v_prec:  0.8466317854807064\n",
      "t_f:  0.557982086406744 , v_f:  0.7137777777777778\n",
      "////////\n"
     ]
    },
    {
     "name": "stderr",
     "output_type": "stream",
     "text": [
      "\r",
      "Iterations:  81%|██████████████████████████▊      | 244/300 [05:07<01:07,  1.20s/it]"
     ]
    },
    {
     "name": "stdout",
     "output_type": "stream",
     "text": [
      "Epoch  243 , loss 0.3816607527288736\n",
      "Epoch  244 , loss 0.3886632270672742\n"
     ]
    },
    {
     "name": "stderr",
     "output_type": "stream",
     "text": [
      "\r",
      "Iterations:  82%|██████████████████████████▉      | 245/300 [05:09<01:12,  1.32s/it]"
     ]
    },
    {
     "name": "stdout",
     "output_type": "stream",
     "text": [
      "Epoch:  244\n",
      "t_loss:  0.3886632270672742 , v_loss:  0.5411624709765116\n",
      "t_acc:  0.7310924369747899 , v_acc:  0.7950310559006211\n",
      "t_recall:  0.5686334252892493 , v_recall:  0.6864864864864866\n",
      "t_prec:  0.766456728156271 , v_prec:  0.8260869565217391\n",
      "t_f:  0.5467679178078971 , v_f:  0.7077075424987622\n",
      "////////\n"
     ]
    },
    {
     "name": "stderr",
     "output_type": "stream",
     "text": [
      "\r",
      "Iterations:  82%|███████████████████████████      | 246/300 [05:10<01:05,  1.21s/it]"
     ]
    },
    {
     "name": "stdout",
     "output_type": "stream",
     "text": [
      "Epoch  245 , loss 0.39841478770854427\n",
      "Epoch  246 , loss 0.39007195362857744\n"
     ]
    },
    {
     "name": "stderr",
     "output_type": "stream",
     "text": [
      "\r",
      "Iterations:  82%|███████████████████████████▏     | 247/300 [05:11<01:09,  1.31s/it]"
     ]
    },
    {
     "name": "stdout",
     "output_type": "stream",
     "text": [
      "Epoch:  246\n",
      "t_loss:  0.39007195362857744 , v_loss:  0.5344842175642649\n",
      "t_acc:  0.7295362589480237 , v_acc:  0.7950310559006211\n",
      "t_recall:  0.5692400598399693 , v_recall:  0.6864864864864866\n",
      "t_prec:  0.7476916027036316 , v_prec:  0.8260869565217391\n",
      "t_f:  0.5492506471628558 , v_f:  0.7077075424987622\n",
      "////////\n"
     ]
    },
    {
     "name": "stderr",
     "output_type": "stream",
     "text": [
      "\r",
      "Iterations:  83%|███████████████████████████▎     | 248/300 [05:12<01:03,  1.22s/it]"
     ]
    },
    {
     "name": "stdout",
     "output_type": "stream",
     "text": [
      "Epoch  247 , loss 0.3954693084838344\n",
      "Epoch  248 , loss 0.39299607043172796\n"
     ]
    },
    {
     "name": "stderr",
     "output_type": "stream",
     "text": [
      "\r",
      "Iterations:  83%|███████████████████████████▍     | 249/300 [05:14<01:06,  1.31s/it]"
     ]
    },
    {
     "name": "stdout",
     "output_type": "stream",
     "text": [
      "Epoch:  248\n",
      "t_loss:  0.39299607043172796 , v_loss:  0.54206349949042\n",
      "t_acc:  0.734827264239029 , v_acc:  0.7950310559006211\n",
      "t_recall:  0.5741933270199421 , v_recall:  0.6864864864864866\n",
      "t_prec:  0.7768958110659978 , v_prec:  0.8260869565217391\n",
      "t_f:  0.5554376902499769 , v_f:  0.7077075424987622\n",
      "////////\n"
     ]
    },
    {
     "name": "stderr",
     "output_type": "stream",
     "text": [
      "\r",
      "Iterations:  83%|███████████████████████████▌     | 250/300 [05:15<01:00,  1.21s/it]"
     ]
    },
    {
     "name": "stdout",
     "output_type": "stream",
     "text": [
      "Epoch  249 , loss 0.3895476559797923\n",
      "Epoch  250 , loss 0.3914700360859142\n"
     ]
    },
    {
     "name": "stderr",
     "output_type": "stream",
     "text": [
      "\r",
      "Iterations:  84%|███████████████████████████▌     | 251/300 [05:17<01:04,  1.33s/it]"
     ]
    },
    {
     "name": "stdout",
     "output_type": "stream",
     "text": [
      "Epoch:  250\n",
      "t_loss:  0.3914700360859142 , v_loss:  0.541604220867157\n",
      "t_acc:  0.7326486150015562 , v_acc:  0.8012422360248447\n",
      "t_recall:  0.5746400680748275 , v_recall:  0.690990990990991\n",
      "t_prec:  0.7531152551313278 , v_prec:  0.8466317854807064\n",
      "t_f:  0.5579079441208182 , v_f:  0.7137777777777778\n",
      "////////\n"
     ]
    },
    {
     "name": "stderr",
     "output_type": "stream",
     "text": [
      "\r",
      "Iterations:  84%|███████████████████████████▋     | 252/300 [05:18<00:58,  1.21s/it]"
     ]
    },
    {
     "name": "stdout",
     "output_type": "stream",
     "text": [
      "Epoch  251 , loss 0.3854083781148873\n",
      "Epoch  252 , loss 0.3805362360150206\n"
     ]
    },
    {
     "name": "stderr",
     "output_type": "stream",
     "text": [
      "\r",
      "Iterations:  84%|███████████████████████████▊     | 253/300 [05:19<01:02,  1.34s/it]"
     ]
    },
    {
     "name": "stdout",
     "output_type": "stream",
     "text": [
      "Epoch:  252\n",
      "t_loss:  0.3805362360150206 , v_loss:  0.5469885518153509\n",
      "t_acc:  0.734827264239029 , v_acc:  0.7950310559006211\n",
      "t_recall:  0.5753434622088635 , v_recall:  0.6864864864864866\n",
      "t_prec:  0.7707695545376524 , v_prec:  0.8260869565217391\n",
      "t_f:  0.5577783234360966 , v_f:  0.7077075424987622\n",
      "////////\n"
     ]
    },
    {
     "name": "stderr",
     "output_type": "stream",
     "text": [
      "\r",
      "Iterations:  85%|███████████████████████████▉     | 254/300 [05:20<00:55,  1.22s/it]"
     ]
    },
    {
     "name": "stdout",
     "output_type": "stream",
     "text": [
      "Epoch  253 , loss 0.3846993084047355\n",
      "Epoch  254 , loss 0.38844619019358767\n"
     ]
    },
    {
     "name": "stderr",
     "output_type": "stream",
     "text": [
      "\r",
      "Iterations:  85%|████████████████████████████     | 255/300 [05:22<00:59,  1.33s/it]"
     ]
    },
    {
     "name": "stdout",
     "output_type": "stream",
     "text": [
      "Epoch:  254\n",
      "t_loss:  0.38844619019358767 , v_loss:  0.5391011933485667\n",
      "t_acc:  0.734827264239029 , v_acc:  0.7950310559006211\n",
      "t_recall:  0.5764935973977848 , v_recall:  0.6864864864864866\n",
      "t_prec:  0.7651348651348652 , v_prec:  0.8260869565217391\n",
      "t_f:  0.5600853899822973 , v_f:  0.7077075424987622\n",
      "////////\n"
     ]
    },
    {
     "name": "stderr",
     "output_type": "stream",
     "text": [
      "\r",
      "Iterations:  85%|████████████████████████████▏    | 256/300 [05:23<00:53,  1.21s/it]"
     ]
    },
    {
     "name": "stdout",
     "output_type": "stream",
     "text": [
      "Epoch  255 , loss 0.3970077318303725\n",
      "Epoch  256 , loss 0.3897087503882015\n"
     ]
    },
    {
     "name": "stderr",
     "output_type": "stream",
     "text": [
      "\r",
      "Iterations:  86%|████████████████████████████▎    | 257/300 [05:24<00:56,  1.31s/it]"
     ]
    },
    {
     "name": "stdout",
     "output_type": "stream",
     "text": [
      "Epoch:  256\n",
      "t_loss:  0.3897087503882015 , v_loss:  0.5508600473403931\n",
      "t_acc:  0.7379396202925614 , v_acc:  0.7950310559006211\n",
      "t_recall:  0.580168402849261 , v_recall:  0.680990990990991\n",
      "t_prec:  0.7778721278721279 , v_prec:  0.8416666666666667\n",
      "t_f:  0.5652487070012843 , v_f:  0.7018685820099881\n",
      "////////\n"
     ]
    },
    {
     "name": "stderr",
     "output_type": "stream",
     "text": [
      "\r",
      "Iterations:  86%|████████████████████████████▍    | 258/300 [05:25<00:50,  1.20s/it]"
     ]
    },
    {
     "name": "stdout",
     "output_type": "stream",
     "text": [
      "Epoch  257 , loss 0.39171427196147396\n",
      "Epoch  258 , loss 0.38587890594613317\n"
     ]
    },
    {
     "name": "stderr",
     "output_type": "stream",
     "text": [
      "\r",
      "Iterations:  86%|████████████████████████████▍    | 259/300 [05:27<00:53,  1.32s/it]"
     ]
    },
    {
     "name": "stdout",
     "output_type": "stream",
     "text": [
      "Epoch:  258\n",
      "t_loss:  0.38587890594613317 , v_loss:  0.5451756964127222\n",
      "t_acc:  0.7391845627139745 , v_acc:  0.7950310559006211\n",
      "t_recall:  0.5825009264215424 , v_recall:  0.6864864864864866\n",
      "t_prec:  0.7785702369035703 , v_prec:  0.8260869565217391\n",
      "t_f:  0.568994629108847 , v_f:  0.7077075424987622\n",
      "////////\n"
     ]
    },
    {
     "name": "stderr",
     "output_type": "stream",
     "text": [
      "\r",
      "Iterations:  87%|████████████████████████████▌    | 260/300 [05:28<00:48,  1.22s/it]"
     ]
    },
    {
     "name": "stdout",
     "output_type": "stream",
     "text": [
      "Epoch  259 , loss 0.3829960045861263\n",
      "Epoch  260 , loss 0.38841089781592875\n"
     ]
    },
    {
     "name": "stderr",
     "output_type": "stream",
     "text": [
      "\r",
      "Iterations:  87%|████████████████████████████▋    | 261/300 [05:29<00:52,  1.34s/it]"
     ]
    },
    {
     "name": "stdout",
     "output_type": "stream",
     "text": [
      "Epoch:  260\n",
      "t_loss:  0.38841089781592875 , v_loss:  0.5431681275367737\n",
      "t_acc:  0.738562091503268 , v_acc:  0.7950310559006211\n",
      "t_recall:  0.5817659653312471 , v_recall:  0.6864864864864866\n",
      "t_prec:  0.7760885885885886 , v_prec:  0.8260869565217391\n",
      "t_f:  0.5679659766723526 , v_f:  0.7077075424987622\n",
      "////////\n"
     ]
    },
    {
     "name": "stderr",
     "output_type": "stream",
     "text": [
      "\r",
      "Iterations:  87%|████████████████████████████▊    | 262/300 [05:30<00:46,  1.23s/it]"
     ]
    },
    {
     "name": "stdout",
     "output_type": "stream",
     "text": [
      "Epoch  261 , loss 0.3866947673115076\n",
      "Epoch  262 , loss 0.3794800352816488\n"
     ]
    },
    {
     "name": "stderr",
     "output_type": "stream",
     "text": [
      "\r",
      "Iterations:  88%|████████████████████████████▉    | 263/300 [05:32<00:49,  1.33s/it]"
     ]
    },
    {
     "name": "stdout",
     "output_type": "stream",
     "text": [
      "Epoch:  262\n",
      "t_loss:  0.3794800352816488 , v_loss:  0.5371799021959305\n",
      "t_acc:  0.7438530967942732 , v_acc:  0.7950310559006211\n",
      "t_recall:  0.5927574422530572 , v_recall:  0.6864864864864866\n",
      "t_prec:  0.7747183064240768 , v_prec:  0.8260869565217391\n",
      "t_f:  0.5854793403470953 , v_f:  0.7077075424987622\n",
      "////////\n"
     ]
    },
    {
     "name": "stderr",
     "output_type": "stream",
     "text": [
      "\r",
      "Iterations:  88%|█████████████████████████████    | 264/300 [05:33<00:43,  1.21s/it]"
     ]
    },
    {
     "name": "stdout",
     "output_type": "stream",
     "text": [
      "Epoch  263 , loss 0.3833150916239795\n",
      "Epoch  264 , loss 0.3805862443119872\n"
     ]
    },
    {
     "name": "stderr",
     "output_type": "stream",
     "text": [
      "\r",
      "Iterations:  88%|█████████████████████████████▏   | 265/300 [05:34<00:45,  1.31s/it]"
     ]
    },
    {
     "name": "stdout",
     "output_type": "stream",
     "text": [
      "Epoch:  264\n",
      "t_loss:  0.3805862443119872 , v_loss:  0.5366700142621994\n",
      "t_acc:  0.7429193899782135 , v_acc:  0.7950310559006211\n",
      "t_recall:  0.5894984971383868 , v_recall:  0.6864864864864866\n",
      "t_prec:  0.7806375397009837 , v_prec:  0.8260869565217391\n",
      "t_f:  0.5800311043762605 , v_f:  0.7077075424987622\n",
      "////////\n"
     ]
    },
    {
     "name": "stderr",
     "output_type": "stream",
     "text": [
      "\r",
      "Iterations:  89%|█████████████████████████████▎   | 266/300 [05:35<00:40,  1.20s/it]"
     ]
    },
    {
     "name": "stdout",
     "output_type": "stream",
     "text": [
      "Epoch  265 , loss 0.38457856604865953\n",
      "Epoch  266 , loss 0.38711709543770434\n"
     ]
    },
    {
     "name": "stderr",
     "output_type": "stream",
     "text": [
      "\r",
      "Iterations:  89%|█████████████████████████████▎   | 267/300 [05:37<00:43,  1.31s/it]"
     ]
    },
    {
     "name": "stdout",
     "output_type": "stream",
     "text": [
      "Epoch:  266\n",
      "t_loss:  0.38711709543770434 , v_loss:  0.5476356198390325\n",
      "t_acc:  0.7376283846872083 , v_acc:  0.7950310559006211\n",
      "t_recall:  0.5802322229999588 , v_recall:  0.6864864864864866\n",
      "t_prec:  0.7744507042253521 , v_prec:  0.8260869565217391\n",
      "t_f:  0.5655799585718101 , v_f:  0.7077075424987622\n",
      "////////\n"
     ]
    },
    {
     "name": "stderr",
     "output_type": "stream",
     "text": [
      "\r",
      "Iterations:  89%|█████████████████████████████▍   | 268/300 [05:38<00:38,  1.21s/it]"
     ]
    },
    {
     "name": "stdout",
     "output_type": "stream",
     "text": [
      "Epoch  267 , loss 0.3815404024778628\n",
      "Epoch  268 , loss 0.3826940106410606\n"
     ]
    },
    {
     "name": "stderr",
     "output_type": "stream",
     "text": [
      "\r",
      "Iterations:  90%|█████████████████████████████▌   | 269/300 [05:39<00:41,  1.32s/it]"
     ]
    },
    {
     "name": "stdout",
     "output_type": "stream",
     "text": [
      "Epoch:  268\n",
      "t_loss:  0.3826940106410606 , v_loss:  0.5402512749036154\n",
      "t_acc:  0.738562091503268 , v_acc:  0.7950310559006211\n",
      "t_recall:  0.5806158301423258 , v_recall:  0.6864864864864866\n",
      "t_prec:  0.7819219569947524 , v_prec:  0.8260869565217391\n",
      "t_f:  0.5657157936742916 , v_f:  0.7077075424987622\n",
      "////////\n"
     ]
    },
    {
     "name": "stderr",
     "output_type": "stream",
     "text": [
      "\r",
      "Iterations:  90%|█████████████████████████████▋   | 270/300 [05:40<00:36,  1.22s/it]"
     ]
    },
    {
     "name": "stdout",
     "output_type": "stream",
     "text": [
      "Epoch  269 , loss 0.3818460872360304\n",
      "Epoch  270 , loss 0.3804035481869006\n"
     ]
    },
    {
     "name": "stderr",
     "output_type": "stream",
     "text": [
      "\r",
      "Iterations:  90%|█████████████████████████████▊   | 271/300 [05:42<00:38,  1.31s/it]"
     ]
    },
    {
     "name": "stdout",
     "output_type": "stream",
     "text": [
      "Epoch:  270\n",
      "t_loss:  0.3804035481869006 , v_loss:  0.5396278649568558\n",
      "t_acc:  0.7366946778711485 , v_acc:  0.7950310559006211\n",
      "t_recall:  0.5824364200326649 , v_recall:  0.6864864864864866\n",
      "t_prec:  0.7564747812323862 , v_prec:  0.8260869565217391\n",
      "t_f:  0.570406209975459 , v_f:  0.7077075424987622\n",
      "////////\n"
     ]
    },
    {
     "name": "stderr",
     "output_type": "stream",
     "text": [
      "\r",
      "Iterations:  91%|█████████████████████████████▉   | 272/300 [05:43<00:33,  1.20s/it]"
     ]
    },
    {
     "name": "stdout",
     "output_type": "stream",
     "text": [
      "Epoch  271 , loss 0.3847266675210467\n",
      "Epoch  272 , loss 0.37717246775533636\n"
     ]
    },
    {
     "name": "stderr",
     "output_type": "stream",
     "text": [
      "\r",
      "Iterations:  91%|██████████████████████████████   | 273/300 [05:44<00:35,  1.33s/it]"
     ]
    },
    {
     "name": "stdout",
     "output_type": "stream",
     "text": [
      "Epoch:  272\n",
      "t_loss:  0.37717246775533636 , v_loss:  0.5403863688309988\n",
      "t_acc:  0.746031746031746 , v_acc:  0.7950310559006211\n",
      "t_recall:  0.5937483701843236 , v_recall:  0.6864864864864866\n",
      "t_prec:  0.7894117647058824 , v_prec:  0.8260869565217391\n",
      "t_f:  0.586162743711486 , v_f:  0.7077075424987622\n",
      "////////\n"
     ]
    },
    {
     "name": "stderr",
     "output_type": "stream",
     "text": [
      "\r",
      "Iterations:  91%|██████████████████████████████▏  | 274/300 [05:45<00:31,  1.22s/it]"
     ]
    },
    {
     "name": "stdout",
     "output_type": "stream",
     "text": [
      "Epoch  273 , loss 0.38276485046919656\n",
      "Epoch  274 , loss 0.38059564080892827\n"
     ]
    },
    {
     "name": "stderr",
     "output_type": "stream",
     "text": [
      "\r",
      "Iterations:  92%|██████████████████████████████▎  | 275/300 [05:47<00:33,  1.34s/it]"
     ]
    },
    {
     "name": "stdout",
     "output_type": "stream",
     "text": [
      "Epoch:  274\n",
      "t_loss:  0.38059564080892827 , v_loss:  0.5372234086195627\n",
      "t_acc:  0.7463429816370993 , v_acc:  0.7950310559006211\n",
      "t_recall:  0.594834685222547 , v_recall:  0.6864864864864866\n",
      "t_prec:  0.7872240927796483 , v_prec:  0.8260869565217391\n",
      "t_f:  0.5879670605895391 , v_f:  0.7077075424987622\n",
      "////////\n"
     ]
    },
    {
     "name": "stderr",
     "output_type": "stream",
     "text": [
      "\r",
      "Iterations:  92%|██████████████████████████████▎  | 276/300 [05:48<00:29,  1.21s/it]"
     ]
    },
    {
     "name": "stdout",
     "output_type": "stream",
     "text": [
      "Epoch  275 , loss 0.37712591068417417\n",
      "Epoch  276 , loss 0.38247405109452265\n"
     ]
    },
    {
     "name": "stderr",
     "output_type": "stream",
     "text": [
      "\r",
      "Iterations:  92%|██████████████████████████████▍  | 277/300 [05:50<00:30,  1.33s/it]"
     ]
    },
    {
     "name": "stdout",
     "output_type": "stream",
     "text": [
      "Epoch:  276\n",
      "t_loss:  0.38247405109452265 , v_loss:  0.5492424517869949\n",
      "t_acc:  0.7416744475568005 , v_acc:  0.7950310559006211\n",
      "t_recall:  0.5900413115384088 , v_recall:  0.6864864864864866\n",
      "t_prec:  0.7676589784039601 , v_prec:  0.8260869565217391\n",
      "t_f:  0.5816931233529928 , v_f:  0.7077075424987622\n",
      "////////\n"
     ]
    },
    {
     "name": "stderr",
     "output_type": "stream",
     "text": [
      "\r",
      "Iterations:  93%|██████████████████████████████▌  | 278/300 [05:51<00:26,  1.21s/it]"
     ]
    },
    {
     "name": "stdout",
     "output_type": "stream",
     "text": [
      "Epoch  277 , loss 0.3775450137316012\n",
      "Epoch  278 , loss 0.3841179284979315\n"
     ]
    },
    {
     "name": "stderr",
     "output_type": "stream",
     "text": [
      "\r",
      "Iterations:  93%|██████████████████████████████▋  | 279/300 [05:52<00:27,  1.31s/it]"
     ]
    },
    {
     "name": "stdout",
     "output_type": "stream",
     "text": [
      "Epoch:  278\n",
      "t_loss:  0.3841179284979315 , v_loss:  0.5480689406394958\n",
      "t_acc:  0.741051976346094 , v_acc:  0.7950310559006211\n",
      "t_recall:  0.5867185462730404 , v_recall:  0.6864864864864866\n",
      "t_prec:  0.7762786223381772 , v_prec:  0.8260869565217391\n",
      "t_f:  0.5759051068766039 , v_f:  0.7077075424987622\n",
      "////////\n"
     ]
    },
    {
     "name": "stderr",
     "output_type": "stream",
     "text": [
      "\r",
      "Iterations:  93%|██████████████████████████████▊  | 280/300 [05:53<00:24,  1.22s/it]"
     ]
    },
    {
     "name": "stdout",
     "output_type": "stream",
     "text": [
      "Epoch  279 , loss 0.3787027503929886\n",
      "Epoch  280 , loss 0.389250235230315\n"
     ]
    },
    {
     "name": "stderr",
     "output_type": "stream",
     "text": [
      "\r",
      "Iterations:  94%|██████████████████████████████▉  | 281/300 [05:55<00:25,  1.33s/it]"
     ]
    },
    {
     "name": "stdout",
     "output_type": "stream",
     "text": [
      "Epoch:  280\n",
      "t_loss:  0.389250235230315 , v_loss:  0.5444057732820511\n",
      "t_acc:  0.7413632119514473 , v_acc:  0.7950310559006211\n",
      "t_recall:  0.5912552668780281 , v_recall:  0.6864864864864866\n",
      "t_prec:  0.7607138282493733 , v_prec:  0.8260869565217391\n",
      "t_f:  0.5840334779451526 , v_f:  0.7077075424987622\n",
      "////////\n"
     ]
    },
    {
     "name": "stderr",
     "output_type": "stream",
     "text": [
      "\r",
      "Iterations:  94%|███████████████████████████████  | 282/300 [05:56<00:22,  1.23s/it]"
     ]
    },
    {
     "name": "stdout",
     "output_type": "stream",
     "text": [
      "Epoch  281 , loss 0.38163426985927656\n",
      "Epoch  282 , loss 0.38247229421839996\n"
     ]
    },
    {
     "name": "stderr",
     "output_type": "stream",
     "text": [
      "\r",
      "Iterations:  94%|███████████████████████████████▏ | 283/300 [05:57<00:22,  1.34s/it]"
     ]
    },
    {
     "name": "stdout",
     "output_type": "stream",
     "text": [
      "Epoch:  282\n",
      "t_loss:  0.38247229421839996 , v_loss:  0.5417068153619766\n",
      "t_acc:  0.744786803610333 , v_acc:  0.7950310559006211\n",
      "t_recall:  0.5928535155981938 , v_recall:  0.6864864864864866\n",
      "t_prec:  0.7822907944844238 , v_prec:  0.8260869565217391\n",
      "t_f:  0.5851791438630081 , v_f:  0.7077075424987622\n",
      "////////\n"
     ]
    },
    {
     "name": "stderr",
     "output_type": "stream",
     "text": [
      "\r",
      "Iterations:  95%|███████████████████████████████▏ | 284/300 [05:58<00:19,  1.23s/it]"
     ]
    },
    {
     "name": "stdout",
     "output_type": "stream",
     "text": [
      "Epoch  283 , loss 0.38228267489695084\n",
      "Epoch  284 , loss 0.37631335445478853\n"
     ]
    },
    {
     "name": "stderr",
     "output_type": "stream",
     "text": [
      "\r",
      "Iterations:  95%|███████████████████████████████▎ | 285/300 [06:00<00:19,  1.33s/it]"
     ]
    },
    {
     "name": "stdout",
     "output_type": "stream",
     "text": [
      "Epoch:  284\n",
      "t_loss:  0.37631335445478853 , v_loss:  0.5437408238649368\n",
      "t_acc:  0.7450980392156863 , v_acc:  0.7950310559006211\n",
      "t_recall:  0.5939398306364173 , v_recall:  0.6864864864864866\n",
      "t_prec:  0.7802838376089609 , v_prec:  0.8260869565217391\n",
      "t_f:  0.5869794270332629 , v_f:  0.7077075424987622\n",
      "////////\n"
     ]
    },
    {
     "name": "stderr",
     "output_type": "stream",
     "text": [
      "\r",
      "Iterations:  95%|███████████████████████████████▍ | 286/300 [06:01<00:17,  1.22s/it]"
     ]
    },
    {
     "name": "stdout",
     "output_type": "stream",
     "text": [
      "Epoch  285 , loss 0.37405987522181344\n",
      "Epoch  286 , loss 0.3792856087287267\n"
     ]
    },
    {
     "name": "stderr",
     "output_type": "stream",
     "text": [
      "\r",
      "Iterations:  96%|███████████████████████████████▌ | 287/300 [06:02<00:17,  1.32s/it]"
     ]
    },
    {
     "name": "stdout",
     "output_type": "stream",
     "text": [
      "Epoch:  286\n",
      "t_loss:  0.3792856087287267 , v_loss:  0.5501397003730139\n",
      "t_acc:  0.739807033924681 , v_acc:  0.7950310559006211\n",
      "t_recall:  0.5863987592813714 , v_recall:  0.6864864864864866\n",
      "t_prec:  0.7667226890756302 , v_prec:  0.8260869565217391\n",
      "t_f:  0.5760196737044146 , v_f:  0.7077075424987622\n",
      "////////\n"
     ]
    },
    {
     "name": "stderr",
     "output_type": "stream",
     "text": [
      "\r",
      "Iterations:  96%|███████████████████████████████▋ | 288/300 [06:03<00:14,  1.20s/it]"
     ]
    },
    {
     "name": "stdout",
     "output_type": "stream",
     "text": [
      "Epoch  287 , loss 0.37870132689382513\n",
      "Epoch  288 , loss 0.37643561965110256\n"
     ]
    },
    {
     "name": "stderr",
     "output_type": "stream",
     "text": [
      "\r",
      "Iterations:  96%|███████████████████████████████▊ | 289/300 [06:05<00:14,  1.31s/it]"
     ]
    },
    {
     "name": "stdout",
     "output_type": "stream",
     "text": [
      "Epoch:  288\n",
      "t_loss:  0.37643561965110256 , v_loss:  0.5448159277439117\n",
      "t_acc:  0.7407407407407407 , v_acc:  0.7950310559006211\n",
      "t_recall:  0.5887951030043508 , v_recall:  0.6864864864864866\n",
      "t_prec:  0.7649337566646011 , v_prec:  0.8260869565217391\n",
      "t_f:  0.5799192462987888 , v_f:  0.7077075424987622\n",
      "////////\n"
     ]
    },
    {
     "name": "stderr",
     "output_type": "stream",
     "text": [
      "\r",
      "Iterations:  97%|███████████████████████████████▉ | 290/300 [06:06<00:12,  1.22s/it]"
     ]
    },
    {
     "name": "stdout",
     "output_type": "stream",
     "text": [
      "Epoch  289 , loss 0.37672773821681155\n",
      "Epoch  290 , loss 0.3810211823267095\n"
     ]
    },
    {
     "name": "stderr",
     "output_type": "stream",
     "text": [
      "\r",
      "Iterations:  97%|████████████████████████████████ | 291/300 [06:07<00:11,  1.32s/it]"
     ]
    },
    {
     "name": "stdout",
     "output_type": "stream",
     "text": [
      "Epoch:  290\n",
      "t_loss:  0.3810211823267095 , v_loss:  0.5412309666474661\n",
      "t_acc:  0.748521630874572 , v_acc:  0.7950310559006211\n",
      "t_recall:  0.6004261539094989 , v_recall:  0.6864864864864866\n",
      "t_prec:  0.7819580597429021 , v_prec:  0.8260869565217391\n",
      "t_f:  0.5967860976918947 , v_f:  0.7077075424987622\n",
      "////////\n"
     ]
    },
    {
     "name": "stderr",
     "output_type": "stream",
     "text": [
      "\r",
      "Iterations:  97%|████████████████████████████████ | 292/300 [06:08<00:09,  1.22s/it]"
     ]
    },
    {
     "name": "stdout",
     "output_type": "stream",
     "text": [
      "Epoch  291 , loss 0.38296008256136205\n",
      "Epoch  292 , loss 0.37932272255420685\n"
     ]
    },
    {
     "name": "stderr",
     "output_type": "stream",
     "text": [
      "\r",
      "Iterations:  98%|████████████████████████████████▏| 293/300 [06:10<00:09,  1.32s/it]"
     ]
    },
    {
     "name": "stdout",
     "output_type": "stream",
     "text": [
      "Epoch:  292\n",
      "t_loss:  0.37932272255420685 , v_loss:  0.5453380246957144\n",
      "t_acc:  0.74354186118892 , v_acc:  0.7950310559006211\n",
      "t_recall:  0.5928212624037551 , v_recall:  0.6864864864864866\n",
      "t_prec:  0.7719098277608916 , v_prec:  0.8260869565217391\n",
      "t_f:  0.5857488875119699 , v_f:  0.7077075424987622\n",
      "////////\n"
     ]
    },
    {
     "name": "stderr",
     "output_type": "stream",
     "text": [
      "\r",
      "Iterations:  98%|████████████████████████████████▎| 294/300 [06:11<00:07,  1.21s/it]"
     ]
    },
    {
     "name": "stdout",
     "output_type": "stream",
     "text": [
      "Epoch  293 , loss 0.3774825650102952\n",
      "Epoch  294 , loss 0.38109905170459374\n"
     ]
    },
    {
     "name": "stderr",
     "output_type": "stream",
     "text": [
      "\r",
      "Iterations:  98%|████████████████████████████████▍| 295/300 [06:12<00:06,  1.32s/it]"
     ]
    },
    {
     "name": "stdout",
     "output_type": "stream",
     "text": [
      "Epoch:  294\n",
      "t_loss:  0.38109905170459374 , v_loss:  0.5496824284394582\n",
      "t_acc:  0.7429193899782135 , v_acc:  0.7950310559006211\n",
      "t_recall:  0.5926613689079205 , v_recall:  0.6864864864864866\n",
      "t_prec:  0.7675616122759554 , v_prec:  0.8260869565217391\n",
      "t_f:  0.5857705908354207 , v_f:  0.7077075424987622\n",
      "////////\n"
     ]
    },
    {
     "name": "stderr",
     "output_type": "stream",
     "text": [
      "\r",
      "Iterations:  99%|████████████████████████████████▌| 296/300 [06:13<00:04,  1.20s/it]"
     ]
    },
    {
     "name": "stdout",
     "output_type": "stream",
     "text": [
      "Epoch  295 , loss 0.38088462866988837\n",
      "Epoch  296 , loss 0.38021159405801813\n"
     ]
    },
    {
     "name": "stderr",
     "output_type": "stream",
     "text": [
      "\r",
      "Iterations:  99%|████████████████████████████████▋| 297/300 [06:15<00:04,  1.35s/it]"
     ]
    },
    {
     "name": "stdout",
     "output_type": "stream",
     "text": [
      "Epoch:  296\n",
      "t_loss:  0.38021159405801813 , v_loss:  0.5493012418349584\n",
      "t_acc:  0.7494553376906318 , v_acc:  0.7950310559006211\n",
      "t_recall:  0.6010972948490962 , v_recall:  0.6864864864864866\n",
      "t_prec:  0.7868131483038969 , v_prec:  0.8260869565217391\n",
      "t_f:  0.5975434021821177 , v_f:  0.7077075424987622\n",
      "////////\n"
     ]
    },
    {
     "name": "stderr",
     "output_type": "stream",
     "text": [
      "\r",
      "Iterations:  99%|████████████████████████████████▊| 298/300 [06:16<00:02,  1.22s/it]"
     ]
    },
    {
     "name": "stdout",
     "output_type": "stream",
     "text": [
      "Epoch  297 , loss 0.38295970886361363\n",
      "Epoch  298 , loss 0.3822888790392408\n"
     ]
    },
    {
     "name": "stderr",
     "output_type": "stream",
     "text": [
      "\r",
      "Iterations: 100%|████████████████████████████████▉| 299/300 [06:18<00:01,  1.32s/it]"
     ]
    },
    {
     "name": "stdout",
     "output_type": "stream",
     "text": [
      "Epoch:  298\n",
      "t_loss:  0.3822888790392408 , v_loss:  0.5501731087764105\n",
      "t_acc:  0.748521630874572 , v_acc:  0.7950310559006211\n",
      "t_recall:  0.5995635525178078 , v_recall:  0.6864864864864866\n",
      "t_prec:  0.785456262542793 , v_prec:  0.8260869565217391\n",
      "t_f:  0.5952971547224872 , v_f:  0.7077075424987622\n",
      "////////\n"
     ]
    },
    {
     "name": "stderr",
     "output_type": "stream",
     "text": [
      "Iterations: 100%|█████████████████████████████████| 300/300 [06:18<00:00,  1.26s/it]"
     ]
    },
    {
     "name": "stdout",
     "output_type": "stream",
     "text": [
      "Epoch  299 , loss 0.37472539468138827\n"
     ]
    },
    {
     "name": "stderr",
     "output_type": "stream",
     "text": [
      "\n"
     ]
    },
    {
     "name": "stdout",
     "output_type": "stream",
     "text": [
      "108 20\n",
      "\n",
      "c0_acc 0.972972972972973 , c1_acc 0.4 , b_acc 0.6864864864864866\n"
     ]
    },
    {
     "name": "stderr",
     "output_type": "stream",
     "text": [
      "\r",
      "Iterations:   0%|                                           | 0/300 [00:00<?, ?it/s]"
     ]
    },
    {
     "name": "stdout",
     "output_type": "stream",
     "text": [
      "Epoch  0 , loss 0.6361977715118259\n"
     ]
    },
    {
     "name": "stderr",
     "output_type": "stream",
     "text": [
      "\r",
      "Iterations:   0%|                                   | 1/300 [00:01<07:48,  1.57s/it]"
     ]
    },
    {
     "name": "stdout",
     "output_type": "stream",
     "text": [
      "Epoch:  0\n",
      "t_loss:  0.6361977715118259 , v_loss:  0.6922120650609335\n",
      "t_acc:  0.5985651902682471 , v_acc:  0.6845238095238095\n",
      "t_recall:  0.500231700168948 , v_recall:  0.5\n",
      "t_prec:  0.5002622836160168 , v_prec:  0.34226190476190477\n",
      "t_f:  0.4983405972099273 , v_f:  0.40636042402826855\n",
      "////////\n"
     ]
    },
    {
     "name": "stderr",
     "output_type": "stream",
     "text": [
      "\r",
      "Iterations:   1%|▏                                  | 2/300 [00:02<06:09,  1.24s/it]"
     ]
    },
    {
     "name": "stdout",
     "output_type": "stream",
     "text": [
      "Epoch  1 , loss 0.5855833817930782\n",
      "Epoch  2 , loss 0.5529159249043932\n"
     ]
    },
    {
     "name": "stderr",
     "output_type": "stream",
     "text": [
      "\r",
      "Iterations:   1%|▎                                  | 3/300 [00:04<06:50,  1.38s/it]"
     ]
    },
    {
     "name": "stdout",
     "output_type": "stream",
     "text": [
      "Epoch:  2\n",
      "t_loss:  0.5529159249043932 , v_loss:  0.6838922103246053\n",
      "t_acc:  0.6834061135371179 , v_acc:  0.6845238095238095\n",
      "t_recall:  0.5057594041995656 , v_recall:  0.5\n",
      "t_prec:  0.5287941749715 , v_prec:  0.34226190476190477\n",
      "t_f:  0.4498128756119479 , v_f:  0.40636042402826855\n",
      "////////\n"
     ]
    },
    {
     "name": "stderr",
     "output_type": "stream",
     "text": [
      "\r",
      "Iterations:   1%|▍                                  | 4/300 [00:05<05:56,  1.20s/it]"
     ]
    },
    {
     "name": "stdout",
     "output_type": "stream",
     "text": [
      "Epoch  3 , loss 0.5205421038702422\n",
      "Epoch  4 , loss 0.49830765408628125\n"
     ]
    },
    {
     "name": "stderr",
     "output_type": "stream",
     "text": [
      "\r",
      "Iterations:   2%|▌                                  | 5/300 [00:06<06:36,  1.34s/it]"
     ]
    },
    {
     "name": "stdout",
     "output_type": "stream",
     "text": [
      "Epoch:  4\n",
      "t_loss:  0.49830765408628125 , v_loss:  0.664405345916748\n",
      "t_acc:  0.6949469744229569 , v_acc:  0.6845238095238095\n",
      "t_recall:  0.50105989035617 , v_recall:  0.5\n",
      "t_prec:  0.5481667188968975 , v_prec:  0.34226190476190477\n",
      "t_f:  0.41587248359657064 , v_f:  0.40636042402826855\n",
      "////////\n"
     ]
    },
    {
     "name": "stderr",
     "output_type": "stream",
     "text": [
      "\r",
      "Iterations:   2%|▋                                  | 6/300 [00:07<05:53,  1.20s/it]"
     ]
    },
    {
     "name": "stdout",
     "output_type": "stream",
     "text": [
      "Epoch  5 , loss 0.4865059893505246\n",
      "Epoch  6 , loss 0.47101208041695986\n"
     ]
    },
    {
     "name": "stderr",
     "output_type": "stream",
     "text": [
      "\r",
      "Iterations:   2%|▊                                  | 7/300 [00:09<06:36,  1.35s/it]"
     ]
    },
    {
     "name": "stdout",
     "output_type": "stream",
     "text": [
      "Epoch:  6\n",
      "t_loss:  0.47101208041695986 , v_loss:  0.6536670625209808\n",
      "t_acc:  0.6968184653774173 , v_acc:  0.6845238095238095\n",
      "t_recall:  0.5015384615384615 , v_recall:  0.5\n",
      "t_prec:  0.8482672494536372 , v_prec:  0.34226190476190477\n",
      "t_f:  0.4136306057520136 , v_f:  0.40636042402826855\n",
      "////////\n"
     ]
    },
    {
     "name": "stderr",
     "output_type": "stream",
     "text": [
      "\r",
      "Iterations:   3%|▉                                  | 8/300 [00:10<05:54,  1.21s/it]"
     ]
    },
    {
     "name": "stdout",
     "output_type": "stream",
     "text": [
      "Epoch  7 , loss 0.4653025380536622\n",
      "Epoch  8 , loss 0.45952239924786137\n"
     ]
    },
    {
     "name": "stderr",
     "output_type": "stream",
     "text": [
      "\r",
      "Iterations:   3%|█                                  | 9/300 [00:11<06:24,  1.32s/it]"
     ]
    },
    {
     "name": "stdout",
     "output_type": "stream",
     "text": [
      "Epoch:  8\n",
      "t_loss:  0.45952239924786137 , v_loss:  0.6689936220645905\n",
      "t_acc:  0.6958827199001871 , v_acc:  0.6845238095238095\n",
      "t_recall:  0.5 , v_recall:  0.5\n",
      "t_prec:  0.34794135995009356 , v_prec:  0.34226190476190477\n",
      "t_f:  0.41033658267426887 , v_f:  0.40636042402826855\n",
      "////////\n"
     ]
    },
    {
     "name": "stderr",
     "output_type": "stream",
     "text": [
      "\r",
      "Iterations:   3%|█▏                                | 10/300 [00:12<05:47,  1.20s/it]"
     ]
    },
    {
     "name": "stdout",
     "output_type": "stream",
     "text": [
      "Epoch  9 , loss 0.4582833449045817\n",
      "Epoch  10 , loss 0.4521554755229576\n"
     ]
    },
    {
     "name": "stderr",
     "output_type": "stream",
     "text": [
      "\r",
      "Iterations:   4%|█▏                                | 11/300 [00:14<06:17,  1.31s/it]"
     ]
    },
    {
     "name": "stdout",
     "output_type": "stream",
     "text": [
      "Epoch:  10\n",
      "t_loss:  0.4521554755229576 , v_loss:  0.68521315852801\n",
      "t_acc:  0.6958827199001871 , v_acc:  0.6845238095238095\n",
      "t_recall:  0.5 , v_recall:  0.5\n",
      "t_prec:  0.34794135995009356 , v_prec:  0.34226190476190477\n",
      "t_f:  0.41033658267426887 , v_f:  0.40636042402826855\n",
      "////////\n"
     ]
    },
    {
     "name": "stderr",
     "output_type": "stream",
     "text": [
      "\r",
      "Iterations:   4%|█▎                                | 12/300 [00:15<05:42,  1.19s/it]"
     ]
    },
    {
     "name": "stdout",
     "output_type": "stream",
     "text": [
      "Epoch  11 , loss 0.45717096094991644\n",
      "Epoch  12 , loss 0.4477562378434574\n"
     ]
    },
    {
     "name": "stderr",
     "output_type": "stream",
     "text": [
      "\r",
      "Iterations:   4%|█▍                                | 13/300 [00:16<06:12,  1.30s/it]"
     ]
    },
    {
     "name": "stdout",
     "output_type": "stream",
     "text": [
      "Epoch:  12\n",
      "t_loss:  0.4477562378434574 , v_loss:  0.6924809018770853\n",
      "t_acc:  0.6958827199001871 , v_acc:  0.6845238095238095\n",
      "t_recall:  0.5 , v_recall:  0.5\n",
      "t_prec:  0.34794135995009356 , v_prec:  0.34226190476190477\n",
      "t_f:  0.41033658267426887 , v_f:  0.40636042402826855\n",
      "////////\n"
     ]
    },
    {
     "name": "stderr",
     "output_type": "stream",
     "text": [
      "\r",
      "Iterations:   5%|█▌                                | 14/300 [00:17<05:42,  1.20s/it]"
     ]
    },
    {
     "name": "stdout",
     "output_type": "stream",
     "text": [
      "Epoch  13 , loss 0.4441182119589226\n",
      "Epoch  14 , loss 0.4510527177184236\n"
     ]
    },
    {
     "name": "stderr",
     "output_type": "stream",
     "text": [
      "\r",
      "Iterations:   5%|█▋                                | 15/300 [00:19<06:17,  1.32s/it]"
     ]
    },
    {
     "name": "stdout",
     "output_type": "stream",
     "text": [
      "Epoch:  14\n",
      "t_loss:  0.4510527177184236 , v_loss:  0.7034317056337992\n",
      "t_acc:  0.6958827199001871 , v_acc:  0.6845238095238095\n",
      "t_recall:  0.5 , v_recall:  0.5\n",
      "t_prec:  0.34794135995009356 , v_prec:  0.34226190476190477\n",
      "t_f:  0.41033658267426887 , v_f:  0.40636042402826855\n",
      "////////\n"
     ]
    },
    {
     "name": "stderr",
     "output_type": "stream",
     "text": [
      "\r",
      "Iterations:   5%|█▊                                | 16/300 [00:20<05:48,  1.23s/it]"
     ]
    },
    {
     "name": "stdout",
     "output_type": "stream",
     "text": [
      "Epoch  15 , loss 0.4513245067175697\n",
      "Epoch  16 , loss 0.4505595483031927\n"
     ]
    },
    {
     "name": "stderr",
     "output_type": "stream",
     "text": [
      "\r",
      "Iterations:   6%|█▉                                | 17/300 [00:21<06:18,  1.34s/it]"
     ]
    },
    {
     "name": "stdout",
     "output_type": "stream",
     "text": [
      "Epoch:  16\n",
      "t_loss:  0.4505595483031927 , v_loss:  0.7035692383845648\n",
      "t_acc:  0.6958827199001871 , v_acc:  0.6845238095238095\n",
      "t_recall:  0.5 , v_recall:  0.5\n",
      "t_prec:  0.34794135995009356 , v_prec:  0.34226190476190477\n",
      "t_f:  0.41033658267426887 , v_f:  0.40636042402826855\n",
      "////////\n"
     ]
    },
    {
     "name": "stderr",
     "output_type": "stream",
     "text": [
      "\r",
      "Iterations:   6%|██                                | 18/300 [00:22<05:44,  1.22s/it]"
     ]
    },
    {
     "name": "stdout",
     "output_type": "stream",
     "text": [
      "Epoch  17 , loss 0.45652373105871913\n",
      "Epoch  18 , loss 0.4496712661256977\n"
     ]
    },
    {
     "name": "stderr",
     "output_type": "stream",
     "text": [
      "\r",
      "Iterations:   6%|██▏                               | 19/300 [00:24<06:12,  1.33s/it]"
     ]
    },
    {
     "name": "stdout",
     "output_type": "stream",
     "text": [
      "Epoch:  18\n",
      "t_loss:  0.4496712661256977 , v_loss:  0.6982273062070211\n",
      "t_acc:  0.6958827199001871 , v_acc:  0.6845238095238095\n",
      "t_recall:  0.5 , v_recall:  0.5\n",
      "t_prec:  0.34794135995009356 , v_prec:  0.34226190476190477\n",
      "t_f:  0.41033658267426887 , v_f:  0.40636042402826855\n",
      "////////\n"
     ]
    },
    {
     "name": "stderr",
     "output_type": "stream",
     "text": [
      "\r",
      "Iterations:   7%|██▎                               | 20/300 [00:25<05:38,  1.21s/it]"
     ]
    },
    {
     "name": "stdout",
     "output_type": "stream",
     "text": [
      "Epoch  19 , loss 0.44906314389378416\n",
      "Epoch  20 , loss 0.4524991424644695\n"
     ]
    },
    {
     "name": "stderr",
     "output_type": "stream",
     "text": [
      "\r",
      "Iterations:   7%|██▍                               | 21/300 [00:26<06:05,  1.31s/it]"
     ]
    },
    {
     "name": "stdout",
     "output_type": "stream",
     "text": [
      "Epoch:  20\n",
      "t_loss:  0.4524991424644695 , v_loss:  0.694974958896637\n",
      "t_acc:  0.6958827199001871 , v_acc:  0.6845238095238095\n",
      "t_recall:  0.5 , v_recall:  0.5\n",
      "t_prec:  0.34794135995009356 , v_prec:  0.34226190476190477\n",
      "t_f:  0.41033658267426887 , v_f:  0.40636042402826855\n",
      "////////\n"
     ]
    },
    {
     "name": "stderr",
     "output_type": "stream",
     "text": [
      "\r",
      "Iterations:   7%|██▍                               | 22/300 [00:27<05:32,  1.20s/it]"
     ]
    },
    {
     "name": "stdout",
     "output_type": "stream",
     "text": [
      "Epoch  21 , loss 0.4524889015683941\n",
      "Epoch  22 , loss 0.44610338351305795\n"
     ]
    },
    {
     "name": "stderr",
     "output_type": "stream",
     "text": [
      "\r",
      "Iterations:   8%|██▌                               | 23/300 [00:29<06:01,  1.30s/it]"
     ]
    },
    {
     "name": "stdout",
     "output_type": "stream",
     "text": [
      "Epoch:  22\n",
      "t_loss:  0.44610338351305795 , v_loss:  0.6892591317494711\n",
      "t_acc:  0.6958827199001871 , v_acc:  0.6845238095238095\n",
      "t_recall:  0.5 , v_recall:  0.5\n",
      "t_prec:  0.34794135995009356 , v_prec:  0.34226190476190477\n",
      "t_f:  0.41033658267426887 , v_f:  0.40636042402826855\n",
      "////////\n"
     ]
    },
    {
     "name": "stderr",
     "output_type": "stream",
     "text": [
      "\r",
      "Iterations:   8%|██▋                               | 24/300 [00:30<05:35,  1.22s/it]"
     ]
    },
    {
     "name": "stdout",
     "output_type": "stream",
     "text": [
      "Epoch  23 , loss 0.44444246911535074\n",
      "Epoch  24 , loss 0.4427833469475017\n"
     ]
    },
    {
     "name": "stderr",
     "output_type": "stream",
     "text": [
      "\r",
      "Iterations:   8%|██▊                               | 25/300 [00:31<06:03,  1.32s/it]"
     ]
    },
    {
     "name": "stdout",
     "output_type": "stream",
     "text": [
      "Epoch:  24\n",
      "t_loss:  0.4427833469475017 , v_loss:  0.6926581561565399\n",
      "t_acc:  0.6961946350592639 , v_acc:  0.6845238095238095\n",
      "t_recall:  0.5005128205128205 , v_recall:  0.5\n",
      "t_prec:  0.8480499219968799 , v_prec:  0.34226190476190477\n",
      "t_f:  0.4114366578607703 , v_f:  0.40636042402826855\n",
      "////////\n"
     ]
    },
    {
     "name": "stderr",
     "output_type": "stream",
     "text": [
      "\r",
      "Iterations:   9%|██▉                               | 26/300 [00:32<05:34,  1.22s/it]"
     ]
    },
    {
     "name": "stdout",
     "output_type": "stream",
     "text": [
      "Epoch  25 , loss 0.4398513652530371\n",
      "Epoch  26 , loss 0.4389502856076932\n"
     ]
    },
    {
     "name": "stderr",
     "output_type": "stream",
     "text": [
      "\r",
      "Iterations:   9%|███                               | 27/300 [00:34<05:59,  1.32s/it]"
     ]
    },
    {
     "name": "stdout",
     "output_type": "stream",
     "text": [
      "Epoch:  26\n",
      "t_loss:  0.4389502856076932 , v_loss:  0.69220499197642\n",
      "t_acc:  0.6961946350592639 , v_acc:  0.6845238095238095\n",
      "t_recall:  0.5005128205128205 , v_recall:  0.5\n",
      "t_prec:  0.8480499219968799 , v_prec:  0.34226190476190477\n",
      "t_f:  0.4114366578607703 , v_f:  0.40636042402826855\n",
      "////////\n"
     ]
    },
    {
     "name": "stderr",
     "output_type": "stream",
     "text": [
      "\r",
      "Iterations:   9%|███▏                              | 28/300 [00:35<05:26,  1.20s/it]"
     ]
    },
    {
     "name": "stdout",
     "output_type": "stream",
     "text": [
      "Epoch  27 , loss 0.4414687635851841\n",
      "Epoch  28 , loss 0.4351252410926071\n"
     ]
    },
    {
     "name": "stderr",
     "output_type": "stream",
     "text": [
      "\r",
      "Iterations:  10%|███▎                              | 29/300 [00:36<05:56,  1.32s/it]"
     ]
    },
    {
     "name": "stdout",
     "output_type": "stream",
     "text": [
      "Epoch:  28\n",
      "t_loss:  0.4351252410926071 , v_loss:  0.6883375644683838\n",
      "t_acc:  0.6961946350592639 , v_acc:  0.6845238095238095\n",
      "t_recall:  0.5005128205128205 , v_recall:  0.5\n",
      "t_prec:  0.8480499219968799 , v_prec:  0.34226190476190477\n",
      "t_f:  0.4114366578607703 , v_f:  0.40636042402826855\n",
      "////////\n"
     ]
    },
    {
     "name": "stderr",
     "output_type": "stream",
     "text": [
      "\r",
      "Iterations:  10%|███▍                              | 30/300 [00:37<05:25,  1.21s/it]"
     ]
    },
    {
     "name": "stdout",
     "output_type": "stream",
     "text": [
      "Epoch  29 , loss 0.44313064626618925\n",
      "Epoch  30 , loss 0.44652337537092324\n"
     ]
    },
    {
     "name": "stderr",
     "output_type": "stream",
     "text": [
      "\r",
      "Iterations:  10%|███▌                              | 31/300 [00:39<05:59,  1.34s/it]"
     ]
    },
    {
     "name": "stdout",
     "output_type": "stream",
     "text": [
      "Epoch:  30\n",
      "t_loss:  0.44652337537092324 , v_loss:  0.6900231937567393\n",
      "t_acc:  0.6955708047411104 , v_acc:  0.6845238095238095\n",
      "t_recall:  0.4997758852532497 , v_recall:  0.5\n",
      "t_prec:  0.34789391575663026 , v_prec:  0.34226190476190477\n",
      "t_f:  0.41022810890360556 , v_f:  0.40636042402826855\n",
      "////////\n"
     ]
    },
    {
     "name": "stderr",
     "output_type": "stream",
     "text": [
      "\r",
      "Iterations:  11%|███▋                              | 32/300 [00:40<05:24,  1.21s/it]"
     ]
    },
    {
     "name": "stdout",
     "output_type": "stream",
     "text": [
      "Epoch  31 , loss 0.43469539401577967\n",
      "Epoch  32 , loss 0.43666625198195963\n"
     ]
    },
    {
     "name": "stderr",
     "output_type": "stream",
     "text": [
      "\r",
      "Iterations:  11%|███▋                              | 33/300 [00:42<05:54,  1.33s/it]"
     ]
    },
    {
     "name": "stdout",
     "output_type": "stream",
     "text": [
      "Epoch:  32\n",
      "t_loss:  0.43666625198195963 , v_loss:  0.6843822002410889\n",
      "t_acc:  0.6965065502183406 , v_acc:  0.6845238095238095\n",
      "t_recall:  0.5010256410256411 , v_recall:  0.5\n",
      "t_prec:  0.8481585518102372 , v_prec:  0.34226190476190477\n",
      "t_f:  0.4125346634036378 , v_f:  0.40636042402826855\n",
      "////////\n"
     ]
    },
    {
     "name": "stderr",
     "output_type": "stream",
     "text": [
      "\r",
      "Iterations:  11%|███▊                              | 34/300 [00:42<05:21,  1.21s/it]"
     ]
    },
    {
     "name": "stdout",
     "output_type": "stream",
     "text": [
      "Epoch  33 , loss 0.43938299546054765\n",
      "Epoch  34 , loss 0.4304732195302552\n"
     ]
    },
    {
     "name": "stderr",
     "output_type": "stream",
     "text": [
      "\r",
      "Iterations:  12%|███▉                              | 35/300 [00:44<05:45,  1.31s/it]"
     ]
    },
    {
     "name": "stdout",
     "output_type": "stream",
     "text": [
      "Epoch:  34\n",
      "t_loss:  0.4304732195302552 , v_loss:  0.6859500159819921\n",
      "t_acc:  0.6958827199001871 , v_acc:  0.6845238095238095\n",
      "t_recall:  0.5005774115321404 , v_recall:  0.5\n",
      "t_prec:  0.5980637101811368 , v_prec:  0.34226190476190477\n",
      "t_f:  0.41231346966585436 , v_f:  0.40636042402826855\n",
      "////////\n"
     ]
    },
    {
     "name": "stderr",
     "output_type": "stream",
     "text": [
      "\r",
      "Iterations:  12%|████                              | 36/300 [00:45<05:14,  1.19s/it]"
     ]
    },
    {
     "name": "stdout",
     "output_type": "stream",
     "text": [
      "Epoch  35 , loss 0.42745694722615035\n",
      "Epoch  36 , loss 0.43510078332003427\n"
     ]
    },
    {
     "name": "stderr",
     "output_type": "stream",
     "text": [
      "\r",
      "Iterations:  12%|████▏                             | 37/300 [00:47<05:43,  1.31s/it]"
     ]
    },
    {
     "name": "stdout",
     "output_type": "stream",
     "text": [
      "Epoch:  36\n",
      "t_loss:  0.43510078332003427 , v_loss:  0.6798861175775528\n",
      "t_acc:  0.6952588895820336 , v_acc:  0.6845238095238095\n",
      "t_recall:  0.5001291820386397 , v_recall:  0.5\n",
      "t_prec:  0.5146354166666667 , v_prec:  0.34226190476190477\n",
      "t_f:  0.41209213314811655 , v_f:  0.40636042402826855\n",
      "////////\n"
     ]
    },
    {
     "name": "stderr",
     "output_type": "stream",
     "text": [
      "\r",
      "Iterations:  13%|████▎                             | 38/300 [00:48<05:19,  1.22s/it]"
     ]
    },
    {
     "name": "stdout",
     "output_type": "stream",
     "text": [
      "Epoch  37 , loss 0.42612800177405863\n",
      "Epoch  38 , loss 0.43038421401790544\n"
     ]
    },
    {
     "name": "stderr",
     "output_type": "stream",
     "text": [
      "\r",
      "Iterations:  13%|████▍                             | 39/300 [00:49<05:50,  1.34s/it]"
     ]
    },
    {
     "name": "stdout",
     "output_type": "stream",
     "text": [
      "Epoch:  38\n",
      "t_loss:  0.43038421401790544 , v_loss:  0.6858826875686646\n",
      "t_acc:  0.6965065502183406 , v_acc:  0.6845238095238095\n",
      "t_recall:  0.5013143467917112 , v_recall:  0.5\n",
      "t_prec:  0.7232198625858839 , v_prec:  0.34226190476190477\n",
      "t_f:  0.4135189804973089 , v_f:  0.40636042402826855\n",
      "////////\n"
     ]
    },
    {
     "name": "stderr",
     "output_type": "stream",
     "text": [
      "\r",
      "Iterations:  13%|████▌                             | 40/300 [00:50<05:20,  1.23s/it]"
     ]
    },
    {
     "name": "stdout",
     "output_type": "stream",
     "text": [
      "Epoch  39 , loss 0.4218544346444747\n",
      "Epoch  40 , loss 0.4242355478744881\n"
     ]
    },
    {
     "name": "stderr",
     "output_type": "stream",
     "text": [
      "\r",
      "Iterations:  14%|████▋                             | 41/300 [00:52<05:46,  1.34s/it]"
     ]
    },
    {
     "name": "stdout",
     "output_type": "stream",
     "text": [
      "Epoch:  40\n",
      "t_loss:  0.4242355478744881 , v_loss:  0.6874598662058512\n",
      "t_acc:  0.6980661260137243 , v_acc:  0.6845238095238095\n",
      "t_recall:  0.5038784493558138 , v_recall:  0.5\n",
      "t_prec:  0.793208911131964 , v_prec:  0.34226190476190477\n",
      "t_f:  0.4189628005344165 , v_f:  0.40636042402826855\n",
      "////////\n"
     ]
    },
    {
     "name": "stderr",
     "output_type": "stream",
     "text": [
      "\r",
      "Iterations:  14%|████▊                             | 42/300 [00:53<05:15,  1.22s/it]"
     ]
    },
    {
     "name": "stdout",
     "output_type": "stream",
     "text": [
      "Epoch  41 , loss 0.4259216884771983\n",
      "Epoch  42 , loss 0.4286787322923249\n"
     ]
    },
    {
     "name": "stderr",
     "output_type": "stream",
     "text": [
      "\r",
      "Iterations:  14%|████▊                             | 43/300 [00:54<05:37,  1.31s/it]"
     ]
    },
    {
     "name": "stdout",
     "output_type": "stream",
     "text": [
      "Epoch:  42\n",
      "t_loss:  0.4286787322923249 , v_loss:  0.6768044978380203\n",
      "t_acc:  0.6971303805364941 , v_acc:  0.6845238095238095\n",
      "t_recall:  0.5032061051155627 , v_recall:  0.5\n",
      "t_prec:  0.6819557503652682 , v_prec:  0.34226190476190477\n",
      "t_f:  0.41861228224989383 , v_f:  0.40636042402826855\n",
      "////////\n"
     ]
    },
    {
     "name": "stderr",
     "output_type": "stream",
     "text": [
      "\r",
      "Iterations:  15%|████▉                             | 44/300 [00:55<05:05,  1.19s/it]"
     ]
    },
    {
     "name": "stdout",
     "output_type": "stream",
     "text": [
      "Epoch  43 , loss 0.43037476843478634\n",
      "Epoch  44 , loss 0.43301308739419075\n"
     ]
    },
    {
     "name": "stderr",
     "output_type": "stream",
     "text": [
      "\r",
      "Iterations:  15%|█████                             | 45/300 [00:57<05:34,  1.31s/it]"
     ]
    },
    {
     "name": "stdout",
     "output_type": "stream",
     "text": [
      "Epoch:  44\n",
      "t_loss:  0.43301308739419075 , v_loss:  0.6764989246924719\n",
      "t_acc:  0.6974422956955708 , v_acc:  0.6845238095238095\n",
      "t_recall:  0.5037189256283833 , v_recall:  0.5\n",
      "t_prec:  0.6948854465296683 , v_prec:  0.34226190476190477\n",
      "t_f:  0.4196919076110972 , v_f:  0.40636042402826855\n",
      "////////\n"
     ]
    },
    {
     "name": "stderr",
     "output_type": "stream",
     "text": [
      "\r",
      "Iterations:  15%|█████▏                            | 46/300 [00:58<05:09,  1.22s/it]"
     ]
    },
    {
     "name": "stdout",
     "output_type": "stream",
     "text": [
      "Epoch  45 , loss 0.4277973998995388\n",
      "Epoch  46 , loss 0.4261673081154917\n"
     ]
    },
    {
     "name": "stderr",
     "output_type": "stream",
     "text": [
      "\r",
      "Iterations:  16%|█████▎                            | 47/300 [00:59<05:33,  1.32s/it]"
     ]
    },
    {
     "name": "stdout",
     "output_type": "stream",
     "text": [
      "Epoch:  46\n",
      "t_loss:  0.4261673081154917 , v_loss:  0.678166851401329\n",
      "t_acc:  0.6974422956955708 , v_acc:  0.6845238095238095\n",
      "t_recall:  0.5045850429265938 , v_recall:  0.5\n",
      "t_prec:  0.6647069509355441 , v_prec:  0.34226190476190477\n",
      "t_f:  0.4225560078819169 , v_f:  0.40636042402826855\n",
      "////////\n"
     ]
    },
    {
     "name": "stderr",
     "output_type": "stream",
     "text": [
      "\r",
      "Iterations:  16%|█████▍                            | 48/300 [01:00<05:09,  1.23s/it]"
     ]
    },
    {
     "name": "stdout",
     "output_type": "stream",
     "text": [
      "Epoch  47 , loss 0.4239161446982739\n",
      "Epoch  48 , loss 0.42577381402838466\n"
     ]
    },
    {
     "name": "stderr",
     "output_type": "stream",
     "text": [
      "\r",
      "Iterations:  16%|█████▌                            | 49/300 [01:02<05:31,  1.32s/it]"
     ]
    },
    {
     "name": "stdout",
     "output_type": "stream",
     "text": [
      "Epoch:  48\n",
      "t_loss:  0.42577381402838466 , v_loss:  0.6831727971633276\n",
      "t_acc:  0.698378041172801 , v_acc:  0.6845238095238095\n",
      "t_recall:  0.5052573871668448 , v_recall:  0.5\n",
      "t_prec:  0.7240595611285267 , v_prec:  0.34226190476190477\n",
      "t_f:  0.4229187945149586 , v_f:  0.40636042402826855\n",
      "////////\n"
     ]
    },
    {
     "name": "stderr",
     "output_type": "stream",
     "text": [
      "\r",
      "Iterations:  17%|█████▋                            | 50/300 [01:03<05:00,  1.20s/it]"
     ]
    },
    {
     "name": "stdout",
     "output_type": "stream",
     "text": [
      "Epoch  49 , loss 0.4187830324266471\n",
      "Epoch  50 , loss 0.4302278085082185\n"
     ]
    },
    {
     "name": "stderr",
     "output_type": "stream",
     "text": [
      "\r",
      "Iterations:  17%|█████▊                            | 51/300 [01:04<05:27,  1.32s/it]"
     ]
    },
    {
     "name": "stdout",
     "output_type": "stream",
     "text": [
      "Epoch:  50\n",
      "t_loss:  0.4302278085082185 , v_loss:  0.6879442284504572\n",
      "t_acc:  0.6968184653774173 , v_acc:  0.6845238095238095\n",
      "t_recall:  0.5038481076670229 , v_recall:  0.5\n",
      "t_prec:  0.6382342741069806 , v_prec:  0.34226190476190477\n",
      "t_f:  0.4213654017126012 , v_f:  0.40636042402826855\n",
      "////////\n"
     ]
    },
    {
     "name": "stderr",
     "output_type": "stream",
     "text": [
      "\r",
      "Iterations:  17%|█████▉                            | 52/300 [01:05<04:57,  1.20s/it]"
     ]
    },
    {
     "name": "stdout",
     "output_type": "stream",
     "text": [
      "Epoch  51 , loss 0.4189422329266866\n",
      "Epoch  52 , loss 0.41821945882311057\n"
     ]
    },
    {
     "name": "stderr",
     "output_type": "stream",
     "text": [
      "\r",
      "Iterations:  18%|██████                            | 53/300 [01:07<05:28,  1.33s/it]"
     ]
    },
    {
     "name": "stdout",
     "output_type": "stream",
     "text": [
      "Epoch:  52\n",
      "t_loss:  0.41821945882311057 , v_loss:  0.6839076628287634\n",
      "t_acc:  0.6986899563318777 , v_acc:  0.6904761904761905\n",
      "t_recall:  0.5057702076796653 , v_recall:  0.5094339622641509\n",
      "t_prec:  0.7315219596775682 , v_prec:  0.844311377245509\n",
      "t_f:  0.423990447565766 , v_f:  0.4263199369582348\n",
      "////////\n"
     ]
    },
    {
     "name": "stderr",
     "output_type": "stream",
     "text": [
      "\r",
      "Iterations:  18%|██████                            | 54/300 [01:08<04:58,  1.21s/it]"
     ]
    },
    {
     "name": "stdout",
     "output_type": "stream",
     "text": [
      "Epoch  53 , loss 0.4273272361241135\n",
      "Epoch  54 , loss 0.4180477355040756\n"
     ]
    },
    {
     "name": "stderr",
     "output_type": "stream",
     "text": [
      "\r",
      "Iterations:  18%|██████▏                           | 55/300 [01:09<05:24,  1.33s/it]"
     ]
    },
    {
     "name": "stdout",
     "output_type": "stream",
     "text": [
      "Epoch:  54\n",
      "t_loss:  0.4180477355040756 , v_loss:  0.6848371575276057\n",
      "t_acc:  0.6999376169681847 , v_acc:  0.6964285714285714\n",
      "t_recall:  0.5083989012630877 , v_recall:  0.5188679245283019\n",
      "t_prec:  0.729732788431311 , v_prec:  0.8463855421686747\n",
      "t_f:  0.43012342941611237 , v_f:  0.44561630540278224\n",
      "////////\n"
     ]
    },
    {
     "name": "stderr",
     "output_type": "stream",
     "text": [
      "\r",
      "Iterations:  19%|██████▎                           | 56/300 [01:10<04:54,  1.21s/it]"
     ]
    },
    {
     "name": "stdout",
     "output_type": "stream",
     "text": [
      "Epoch  55 , loss 0.4268316609017989\n",
      "Epoch  56 , loss 0.41751142050705703\n"
     ]
    },
    {
     "name": "stderr",
     "output_type": "stream",
     "text": [
      "\r",
      "Iterations:  19%|██████▍                           | 57/300 [01:12<05:17,  1.31s/it]"
     ]
    },
    {
     "name": "stdout",
     "output_type": "stream",
     "text": [
      "Epoch:  56\n",
      "t_loss:  0.41751142050705703 , v_loss:  0.6869982481002808\n",
      "t_acc:  0.6993137866500312 , v_acc:  0.6964285714285714\n",
      "t_recall:  0.5079506717695871 , v_recall:  0.5188679245283019\n",
      "t_prec:  0.701490102874186 , v_prec:  0.8463855421686747\n",
      "t_f:  0.4298678059776935 , v_f:  0.44561630540278224\n",
      "////////\n"
     ]
    },
    {
     "name": "stderr",
     "output_type": "stream",
     "text": [
      "\r",
      "Iterations:  19%|██████▌                           | 58/300 [01:13<04:47,  1.19s/it]"
     ]
    },
    {
     "name": "stdout",
     "output_type": "stream",
     "text": [
      "Epoch  57 , loss 0.41885505996498407\n",
      "Epoch  58 , loss 0.4215812601295172\n"
     ]
    },
    {
     "name": "stderr",
     "output_type": "stream",
     "text": [
      "\r",
      "Iterations:  20%|██████▋                           | 59/300 [01:14<05:11,  1.29s/it]"
     ]
    },
    {
     "name": "stdout",
     "output_type": "stream",
     "text": [
      "Epoch:  58\n",
      "t_loss:  0.4215812601295172 , v_loss:  0.6844228555758795\n",
      "t_acc:  0.7008733624454149 , v_acc:  0.6964285714285714\n",
      "t_recall:  0.5105147743336896 , v_recall:  0.5239540607054963\n",
      "t_prec:  0.7251890359168243 , v_prec:  0.7225609756097561\n",
      "t_f:  0.43511901426370636 , v_f:  0.46123372948500285\n",
      "////////\n"
     ]
    },
    {
     "name": "stderr",
     "output_type": "stream",
     "text": [
      "\r",
      "Iterations:  20%|██████▊                           | 60/300 [01:15<04:46,  1.20s/it]"
     ]
    },
    {
     "name": "stdout",
     "output_type": "stream",
     "text": [
      "Epoch  59 , loss 0.41700588488111306\n",
      "Epoch  60 , loss 0.422192210075902\n"
     ]
    },
    {
     "name": "stderr",
     "output_type": "stream",
     "text": [
      "\r",
      "Iterations:  20%|██████▉                           | 61/300 [01:17<05:16,  1.32s/it]"
     ]
    },
    {
     "name": "stdout",
     "output_type": "stream",
     "text": [
      "Epoch:  60\n",
      "t_loss:  0.422192210075902 , v_loss:  0.6878072172403336\n",
      "t_acc:  0.6996257018091079 , v_acc:  0.6964285714285714\n",
      "t_recall:  0.5101957268788286 , v_recall:  0.5239540607054963\n",
      "t_prec:  0.6751263423878711 , v_prec:  0.7225609756097561\n",
      "t_f:  0.4363995323072205 , v_f:  0.46123372948500285\n",
      "////////\n"
     ]
    },
    {
     "name": "stderr",
     "output_type": "stream",
     "text": [
      "\r",
      "Iterations:  21%|███████                           | 62/300 [01:18<04:53,  1.23s/it]"
     ]
    },
    {
     "name": "stdout",
     "output_type": "stream",
     "text": [
      "Epoch  61 , loss 0.41987823446591693\n",
      "Epoch  62 , loss 0.4139433444715014\n"
     ]
    },
    {
     "name": "stderr",
     "output_type": "stream",
     "text": [
      "\r",
      "Iterations:  21%|███████▏                          | 63/300 [01:20<05:17,  1.34s/it]"
     ]
    },
    {
     "name": "stdout",
     "output_type": "stream",
     "text": [
      "Epoch:  62\n",
      "t_loss:  0.4139433444715014 , v_loss:  0.6860262701908747\n",
      "t_acc:  0.7014971927635683 , v_acc:  0.7023809523809523\n",
      "t_recall:  0.512117826891471 , v_recall:  0.5333880229696473\n",
      "t_prec:  0.7189576687931951 , v_prec:  0.7496932515337423\n",
      "t_f:  0.4390131476579609 , v_f:  0.4790374596874225\n",
      "////////\n"
     ]
    },
    {
     "name": "stderr",
     "output_type": "stream",
     "text": [
      "\r",
      "Iterations:  21%|███████▎                          | 64/300 [01:20<04:47,  1.22s/it]"
     ]
    },
    {
     "name": "stdout",
     "output_type": "stream",
     "text": [
      "Epoch  63 , loss 0.415608300297868\n",
      "Epoch  64 , loss 0.41821913158192353\n"
     ]
    },
    {
     "name": "stderr",
     "output_type": "stream",
     "text": [
      "\r",
      "Iterations:  22%|███████▎                          | 65/300 [01:22<05:10,  1.32s/it]"
     ]
    },
    {
     "name": "stdout",
     "output_type": "stream",
     "text": [
      "Epoch:  64\n",
      "t_loss:  0.41821913158192353 , v_loss:  0.6907314856847128\n",
      "t_acc:  0.7024329382407986 , v_acc:  0.7023809523809523\n",
      "t_recall:  0.5148111114942132 , v_recall:  0.5333880229696473\n",
      "t_prec:  0.7082673424136838 , v_prec:  0.7496932515337423\n",
      "t_f:  0.4456496206848552 , v_f:  0.4790374596874225\n",
      "////////\n"
     ]
    },
    {
     "name": "stderr",
     "output_type": "stream",
     "text": [
      "\r",
      "Iterations:  22%|███████▍                          | 66/300 [01:23<04:41,  1.20s/it]"
     ]
    },
    {
     "name": "stdout",
     "output_type": "stream",
     "text": [
      "Epoch  65 , loss 0.41650235360743953\n",
      "Epoch  66 , loss 0.41119558320325966\n"
     ]
    },
    {
     "name": "stderr",
     "output_type": "stream",
     "text": [
      "\r",
      "Iterations:  22%|███████▌                          | 67/300 [01:24<05:03,  1.30s/it]"
     ]
    },
    {
     "name": "stdout",
     "output_type": "stream",
     "text": [
      "Epoch:  66\n",
      "t_loss:  0.41119558320325966 , v_loss:  0.6932274798552195\n",
      "t_acc:  0.7018091079226451 , v_acc:  0.7083333333333334\n",
      "t_recall:  0.5137854704685721 , v_recall:  0.5428219852337982\n",
      "t_prec:  0.7019660140227516 , v_prec:  0.7685185185185186\n",
      "t_f:  0.44360688235443624 , v_f:  0.49629810928226153\n",
      "////////\n"
     ]
    },
    {
     "name": "stderr",
     "output_type": "stream",
     "text": [
      "\r",
      "Iterations:  23%|███████▋                          | 68/300 [01:25<04:36,  1.19s/it]"
     ]
    },
    {
     "name": "stdout",
     "output_type": "stream",
     "text": [
      "Epoch  67 , loss 0.40879498129966213\n",
      "Epoch  68 , loss 0.4100581854581833\n"
     ]
    },
    {
     "name": "stderr",
     "output_type": "stream",
     "text": [
      "\r",
      "Iterations:  23%|███████▊                          | 69/300 [01:27<05:01,  1.30s/it]"
     ]
    },
    {
     "name": "stdout",
     "output_type": "stream",
     "text": [
      "Epoch:  68\n",
      "t_loss:  0.4100581854581833 , v_loss:  0.7004170517126719\n",
      "t_acc:  0.7030567685589519 , v_acc:  0.7142857142857143\n",
      "t_recall:  0.5155480467537841 , v_recall:  0.5471698113207547\n",
      "t_prec:  0.7186298022534956 , v_prec:  0.852760736196319\n",
      "t_f:  0.44681178080920564 , v_f:  0.4998759612999256\n",
      "////////\n"
     ]
    },
    {
     "name": "stderr",
     "output_type": "stream",
     "text": [
      "\r",
      "Iterations:  23%|███████▉                          | 70/300 [01:28<04:38,  1.21s/it]"
     ]
    },
    {
     "name": "stdout",
     "output_type": "stream",
     "text": [
      "Epoch  69 , loss 0.4105324385797276\n",
      "Epoch  70 , loss 0.410027824196161\n"
     ]
    },
    {
     "name": "stderr",
     "output_type": "stream",
     "text": [
      "\r",
      "Iterations:  24%|████████                          | 71/300 [01:30<05:00,  1.31s/it]"
     ]
    },
    {
     "name": "stdout",
     "output_type": "stream",
     "text": [
      "Epoch:  70\n",
      "t_loss:  0.410027824196161 , v_loss:  0.7012138068675995\n",
      "t_acc:  0.7021210230817218 , v_acc:  0.7142857142857143\n",
      "t_recall:  0.5137208794492524 , v_recall:  0.5471698113207547\n",
      "t_prec:  0.7145218791328849 , v_prec:  0.852760736196319\n",
      "t_f:  0.442862635695929 , v_f:  0.4998759612999256\n",
      "////////\n"
     ]
    },
    {
     "name": "stderr",
     "output_type": "stream",
     "text": [
      "\r",
      "Iterations:  24%|████████▏                         | 72/300 [01:31<04:37,  1.22s/it]"
     ]
    },
    {
     "name": "stdout",
     "output_type": "stream",
     "text": [
      "Epoch  71 , loss 0.4160388322437511\n",
      "Epoch  72 , loss 0.41631584483034473\n"
     ]
    },
    {
     "name": "stderr",
     "output_type": "stream",
     "text": [
      "\r",
      "Iterations:  24%|████████▎                         | 73/300 [01:32<04:58,  1.32s/it]"
     ]
    },
    {
     "name": "stdout",
     "output_type": "stream",
     "text": [
      "Epoch:  72\n",
      "t_loss:  0.41631584483034473 , v_loss:  0.7003863155841827\n",
      "t_acc:  0.7039925140361821 , v_acc:  0.7142857142857143\n",
      "t_recall:  0.5170865082922457 , v_recall:  0.5471698113207547\n",
      "t_prec:  0.7266169942929613 , v_prec:  0.852760736196319\n",
      "t_f:  0.44985954891106333 , v_f:  0.4998759612999256\n",
      "////////\n"
     ]
    },
    {
     "name": "stderr",
     "output_type": "stream",
     "text": [
      "\r",
      "Iterations:  25%|████████▍                         | 74/300 [01:33<04:32,  1.21s/it]"
     ]
    },
    {
     "name": "stdout",
     "output_type": "stream",
     "text": [
      "Epoch  73 , loss 0.41312135084002627\n",
      "Epoch  74 , loss 0.41752802010844736\n"
     ]
    },
    {
     "name": "stderr",
     "output_type": "stream",
     "text": [
      "\r",
      "Iterations:  25%|████████▌                         | 75/300 [01:35<04:57,  1.32s/it]"
     ]
    },
    {
     "name": "stdout",
     "output_type": "stream",
     "text": [
      "Epoch:  74\n",
      "t_loss:  0.41752802010844736 , v_loss:  0.7038734356562296\n",
      "t_acc:  0.7049282595134123 , v_acc:  0.7142857142857143\n",
      "t_recall:  0.5186249698307072 , v_recall:  0.5471698113207547\n",
      "t_prec:  0.7337699431637864 , v_prec:  0.852760736196319\n",
      "t_f:  0.4528911546218427 , v_f:  0.4998759612999256\n",
      "////////\n"
     ]
    },
    {
     "name": "stderr",
     "output_type": "stream",
     "text": [
      "\r",
      "Iterations:  25%|████████▌                         | 76/300 [01:36<04:30,  1.21s/it]"
     ]
    },
    {
     "name": "stdout",
     "output_type": "stream",
     "text": [
      "Epoch  75 , loss 0.41087013424611557\n",
      "Epoch  76 , loss 0.4069976467712253\n"
     ]
    },
    {
     "name": "stderr",
     "output_type": "stream",
     "text": [
      "\r",
      "Iterations:  26%|████████▋                         | 77/300 [01:37<04:57,  1.33s/it]"
     ]
    },
    {
     "name": "stdout",
     "output_type": "stream",
     "text": [
      "Epoch:  76\n",
      "t_loss:  0.4069976467712253 , v_loss:  0.7032347371180853\n",
      "t_acc:  0.7071116656269495 , v_acc:  0.7083333333333334\n",
      "t_recall:  0.5230808307186613 , v_recall:  0.5428219852337982\n",
      "t_prec:  0.7352847448730926 , v_prec:  0.7685185185185186\n",
      "t_f:  0.46240973223114057 , v_f:  0.49629810928226153\n",
      "////////\n"
     ]
    },
    {
     "name": "stderr",
     "output_type": "stream",
     "text": [
      "\r",
      "Iterations:  26%|████████▊                         | 78/300 [01:38<04:29,  1.21s/it]"
     ]
    },
    {
     "name": "stdout",
     "output_type": "stream",
     "text": [
      "Epoch  77 , loss 0.41024459927689794\n",
      "Epoch  78 , loss 0.41350316183239805\n"
     ]
    },
    {
     "name": "stderr",
     "output_type": "stream",
     "text": [
      "\r",
      "Iterations:  26%|████████▉                         | 79/300 [01:40<04:52,  1.32s/it]"
     ]
    },
    {
     "name": "stdout",
     "output_type": "stream",
     "text": [
      "Epoch:  78\n",
      "t_loss:  0.41350316183239805 , v_loss:  0.7037406613429388\n",
      "t_acc:  0.7077354959451029 , v_acc:  0.7083333333333334\n",
      "t_recall:  0.5238177659782322 , v_recall:  0.5428219852337982\n",
      "t_prec:  0.7427970232069883 , v_prec:  0.7685185185185186\n",
      "t_f:  0.4635547594255363 , v_f:  0.49629810928226153\n",
      "////////\n"
     ]
    },
    {
     "name": "stderr",
     "output_type": "stream",
     "text": [
      "\r",
      "Iterations:  27%|█████████                         | 80/300 [01:41<04:25,  1.21s/it]"
     ]
    },
    {
     "name": "stdout",
     "output_type": "stream",
     "text": [
      "Epoch  79 , loss 0.412111841580447\n",
      "Epoch  80 , loss 0.4107867555291045\n"
     ]
    },
    {
     "name": "stderr",
     "output_type": "stream",
     "text": [
      "\r",
      "Iterations:  27%|█████████▏                        | 81/300 [01:42<04:45,  1.31s/it]"
     ]
    },
    {
     "name": "stdout",
     "output_type": "stream",
     "text": [
      "Epoch:  80\n",
      "t_loss:  0.4107867555291045 , v_loss:  0.7085529019435247\n",
      "t_acc:  0.7049282595134123 , v_acc:  0.7083333333333334\n",
      "t_recall:  0.5192023813628475 , v_recall:  0.5428219852337982\n",
      "t_prec:  0.7249627032471064 , v_prec:  0.7685185185185186\n",
      "t_f:  0.4546022803699865 , v_f:  0.49629810928226153\n",
      "////////\n"
     ]
    },
    {
     "name": "stderr",
     "output_type": "stream",
     "text": [
      "\r",
      "Iterations:  27%|█████████▎                        | 82/300 [01:43<04:20,  1.19s/it]"
     ]
    },
    {
     "name": "stdout",
     "output_type": "stream",
     "text": [
      "Epoch  81 , loss 0.40393315226423976\n",
      "Epoch  82 , loss 0.4068160840109283\n"
     ]
    },
    {
     "name": "stderr",
     "output_type": "stream",
     "text": [
      "\r",
      "Iterations:  28%|█████████▍                        | 83/300 [01:45<04:41,  1.30s/it]"
     ]
    },
    {
     "name": "stdout",
     "output_type": "stream",
     "text": [
      "Epoch:  82\n",
      "t_loss:  0.4068160840109283 , v_loss:  0.7034989496072134\n",
      "t_acc:  0.7096069868995634 , v_acc:  0.7142857142857143\n",
      "t_recall:  0.526605983289085 , v_recall:  0.5522559474979492\n",
      "t_prec:  0.7564791179181735 , v_prec:  0.7826086956521738\n",
      "t_f:  0.4686302941613682 , v_f:  0.5130434782608696\n",
      "////////\n"
     ]
    },
    {
     "name": "stderr",
     "output_type": "stream",
     "text": [
      "\r",
      "Iterations:  28%|█████████▌                        | 84/300 [01:46<04:19,  1.20s/it]"
     ]
    },
    {
     "name": "stdout",
     "output_type": "stream",
     "text": [
      "Epoch  83 , loss 0.40663596812416525\n",
      "Epoch  84 , loss 0.4178761997643639\n"
     ]
    },
    {
     "name": "stderr",
     "output_type": "stream",
     "text": [
      "\r",
      "Iterations:  28%|█████████▋                        | 85/300 [01:47<04:44,  1.32s/it]"
     ]
    },
    {
     "name": "stdout",
     "output_type": "stream",
     "text": [
      "Epoch:  84\n",
      "t_loss:  0.4178761997643639 , v_loss:  0.7102856735388438\n",
      "t_acc:  0.7061759201497193 , v_acc:  0.7083333333333334\n",
      "t_recall:  0.5221197807123401 , v_recall:  0.5428219852337982\n",
      "t_prec:  0.7222907513409378 , v_prec:  0.7685185185185186\n",
      "t_f:  0.46110839885571375 , v_f:  0.49629810928226153\n",
      "////////\n"
     ]
    },
    {
     "name": "stderr",
     "output_type": "stream",
     "text": [
      "\r",
      "Iterations:  29%|█████████▋                        | 86/300 [01:48<04:23,  1.23s/it]"
     ]
    },
    {
     "name": "stdout",
     "output_type": "stream",
     "text": [
      "Epoch  85 , loss 0.406624166988859\n",
      "Epoch  86 , loss 0.41085810345761914\n"
     ]
    },
    {
     "name": "stderr",
     "output_type": "stream",
     "text": [
      "\r",
      "Iterations:  29%|█████████▊                        | 87/300 [01:50<04:46,  1.35s/it]"
     ]
    },
    {
     "name": "stdout",
     "output_type": "stream",
     "text": [
      "Epoch:  86\n",
      "t_loss:  0.41085810345761914 , v_loss:  0.7062332034111023\n",
      "t_acc:  0.7033686837180287 , v_acc:  0.7142857142857143\n",
      "t_recall:  0.5189479249273063 , v_recall:  0.5522559474979492\n",
      "t_prec:  0.6877551020408164 , v_prec:  0.7826086956521738\n",
      "t_f:  0.4563790950010832 , v_f:  0.5130434782608696\n",
      "////////\n"
     ]
    },
    {
     "name": "stderr",
     "output_type": "stream",
     "text": [
      "\r",
      "Iterations:  29%|█████████▉                        | 88/300 [01:51<04:20,  1.23s/it]"
     ]
    },
    {
     "name": "stdout",
     "output_type": "stream",
     "text": [
      "Epoch  87 , loss 0.40369291399039475\n",
      "Epoch  88 , loss 0.42072086065423253\n"
     ]
    },
    {
     "name": "stderr",
     "output_type": "stream",
     "text": [
      "\r",
      "Iterations:  30%|██████████                        | 89/300 [01:52<04:41,  1.33s/it]"
     ]
    },
    {
     "name": "stdout",
     "output_type": "stream",
     "text": [
      "Epoch:  88\n",
      "t_loss:  0.42072086065423253 , v_loss:  0.7124843746423721\n",
      "t_acc:  0.7061759201497193 , v_acc:  0.7142857142857143\n",
      "t_recall:  0.5238520153087611 , v_recall:  0.5522559474979492\n",
      "t_prec:  0.7049718518518518 , v_prec:  0.7826086956521738\n",
      "t_f:  0.4660385124584153 , v_f:  0.5130434782608696\n",
      "////////\n"
     ]
    },
    {
     "name": "stderr",
     "output_type": "stream",
     "text": [
      "\r",
      "Iterations:  30%|██████████▏                       | 90/300 [01:53<04:12,  1.20s/it]"
     ]
    },
    {
     "name": "stdout",
     "output_type": "stream",
     "text": [
      "Epoch  89 , loss 0.4064020082062366\n",
      "Epoch  90 , loss 0.41181109582676606\n"
     ]
    },
    {
     "name": "stderr",
     "output_type": "stream",
     "text": [
      "\r",
      "Iterations:  30%|██████████▎                       | 91/300 [01:55<04:32,  1.30s/it]"
     ]
    },
    {
     "name": "stdout",
     "output_type": "stream",
     "text": [
      "Epoch:  90\n",
      "t_loss:  0.41181109582676606 , v_loss:  0.708198681473732\n",
      "t_acc:  0.7058640049906425 , v_acc:  0.7142857142857143\n",
      "t_recall:  0.5236279005620108 , v_recall:  0.5522559474979492\n",
      "t_prec:  0.7006339589644296 , v_prec:  0.7826086956521738\n",
      "t_f:  0.46587765348965193 , v_f:  0.5130434782608696\n",
      "////////\n"
     ]
    },
    {
     "name": "stderr",
     "output_type": "stream",
     "text": [
      "\r",
      "Iterations:  31%|██████████▍                       | 92/300 [01:56<04:08,  1.20s/it]"
     ]
    },
    {
     "name": "stdout",
     "output_type": "stream",
     "text": [
      "Epoch  91 , loss 0.40651358547163946\n",
      "Epoch  92 , loss 0.4041409632738899\n"
     ]
    },
    {
     "name": "stderr",
     "output_type": "stream",
     "text": [
      "\r",
      "Iterations:  31%|██████████▌                       | 93/300 [01:57<04:28,  1.30s/it]"
     ]
    },
    {
     "name": "stdout",
     "output_type": "stream",
     "text": [
      "Epoch:  92\n",
      "t_loss:  0.4041409632738899 , v_loss:  0.7129971931378046\n",
      "t_acc:  0.7111665626949469 , v_acc:  0.7142857142857143\n",
      "t_recall:  0.531479731981749 , v_recall:  0.5522559474979492\n",
      "t_prec:  0.7365228714824064 , v_prec:  0.7826086956521738\n",
      "t_f:  0.4798401791921775 , v_f:  0.5130434782608696\n",
      "////////\n"
     ]
    },
    {
     "name": "stderr",
     "output_type": "stream",
     "text": [
      "\r",
      "Iterations:  31%|██████████▋                       | 94/300 [01:58<04:08,  1.21s/it]"
     ]
    },
    {
     "name": "stdout",
     "output_type": "stream",
     "text": [
      "Epoch  93 , loss 0.41099647856226157\n",
      "Epoch  94 , loss 0.4179931890730764\n"
     ]
    },
    {
     "name": "stderr",
     "output_type": "stream",
     "text": [
      "\r",
      "Iterations:  32%|██████████▊                       | 95/300 [02:00<04:28,  1.31s/it]"
     ]
    },
    {
     "name": "stdout",
     "output_type": "stream",
     "text": [
      "Epoch:  94\n",
      "t_loss:  0.4179931890730764 , v_loss:  0.7133487810691198\n",
      "t_acc:  0.7133499688084841 , v_acc:  0.7142857142857143\n",
      "t_recall:  0.5347807698054224 , v_recall:  0.5522559474979492\n",
      "t_prec:  0.7483912483912484 , v_prec:  0.7826086956521738\n",
      "t_f:  0.4856966104455303 , v_f:  0.5130434782608696\n",
      "////////\n"
     ]
    },
    {
     "name": "stderr",
     "output_type": "stream",
     "text": [
      "\r",
      "Iterations:  32%|██████████▉                       | 96/300 [02:01<04:09,  1.22s/it]"
     ]
    },
    {
     "name": "stdout",
     "output_type": "stream",
     "text": [
      "Epoch  95 , loss 0.40920542910987256\n",
      "Epoch  96 , loss 0.40528911469029444\n"
     ]
    },
    {
     "name": "stderr",
     "output_type": "stream",
     "text": [
      "\r",
      "Iterations:  32%|██████████▉                       | 97/300 [02:02<04:27,  1.32s/it]"
     ]
    },
    {
     "name": "stdout",
     "output_type": "stream",
     "text": [
      "Epoch:  96\n",
      "t_loss:  0.40528911469029444 , v_loss:  0.7140991489092509\n",
      "t_acc:  0.7092950717404866 , v_acc:  0.7142857142857143\n",
      "t_recall:  0.5292689262030364 , v_recall:  0.5522559474979492\n",
      "t_prec:  0.7199119889191701 , v_prec:  0.7826086956521738\n",
      "t_f:  0.47646981318262355 , v_f:  0.5130434782608696\n",
      "////////\n"
     ]
    },
    {
     "name": "stderr",
     "output_type": "stream",
     "text": [
      "\r",
      "Iterations:  33%|███████████                       | 98/300 [02:03<04:02,  1.20s/it]"
     ]
    },
    {
     "name": "stdout",
     "output_type": "stream",
     "text": [
      "Epoch  97 , loss 0.41182052680090364\n",
      "Epoch  98 , loss 0.40480421863350213\n"
     ]
    },
    {
     "name": "stderr",
     "output_type": "stream",
     "text": [
      "\r",
      "Iterations:  33%|███████████▏                      | 99/300 [02:05<04:24,  1.31s/it]"
     ]
    },
    {
     "name": "stdout",
     "output_type": "stream",
     "text": [
      "Epoch:  98\n",
      "t_loss:  0.40480421863350213 , v_loss:  0.7086433867613474\n",
      "t_acc:  0.7114784778540237 , v_acc:  0.7023809523809523\n",
      "t_recall:  0.5337247870909906 , v_recall:  0.5435602953240362\n",
      "t_prec:  0.723247108947048 , v_prec:  0.6855345911949685\n",
      "t_f:  0.48539870559697346 , v_f:  0.5055333176359783\n",
      "////////\n"
     ]
    },
    {
     "name": "stderr",
     "output_type": "stream",
     "text": [
      "\r",
      "Iterations:  33%|███████████                      | 100/300 [02:06<04:00,  1.20s/it]"
     ]
    },
    {
     "name": "stdout",
     "output_type": "stream",
     "text": [
      "Epoch  99 , loss 0.4046083490053813\n",
      "Epoch  100 , loss 0.40387963781169817\n"
     ]
    },
    {
     "name": "stderr",
     "output_type": "stream",
     "text": [
      "\r",
      "Iterations:  34%|███████████                      | 101/300 [02:08<04:25,  1.34s/it]"
     ]
    },
    {
     "name": "stdout",
     "output_type": "stream",
     "text": [
      "Epoch:  100\n",
      "t_loss:  0.40387963781169817 , v_loss:  0.7114939739306768\n",
      "t_acc:  0.7117903930131004 , v_acc:  0.7023809523809523\n",
      "t_recall:  0.5330827845395304 , v_recall:  0.5435602953240362\n",
      "t_prec:  0.7339536335352235 , v_prec:  0.6855345911949685\n",
      "t_f:  0.4832831328453525 , v_f:  0.5055333176359783\n",
      "////////\n"
     ]
    },
    {
     "name": "stderr",
     "output_type": "stream",
     "text": [
      "\r",
      "Iterations:  34%|███████████▏                     | 102/300 [02:08<03:59,  1.21s/it]"
     ]
    },
    {
     "name": "stdout",
     "output_type": "stream",
     "text": [
      "Epoch  101 , loss 0.4070775374477985\n",
      "Epoch  102 , loss 0.4063853586421293\n"
     ]
    },
    {
     "name": "stderr",
     "output_type": "stream",
     "text": [
      "\r",
      "Iterations:  34%|███████████▎                     | 103/300 [02:10<04:20,  1.32s/it]"
     ]
    },
    {
     "name": "stdout",
     "output_type": "stream",
     "text": [
      "Epoch:  102\n",
      "t_loss:  0.4063853586421293 , v_loss:  0.7096877843141556\n",
      "t_acc:  0.7124142233312539 , v_acc:  0.6964285714285714\n",
      "t_recall:  0.5323761909687503 , v_recall:  0.5392124692370796\n",
      "t_prec:  0.7538651757487933 , v_prec:  0.65126582278481\n",
      "t_f:  0.4805288745423769 , v_f:  0.5018315018315018\n",
      "////////\n"
     ]
    },
    {
     "name": "stderr",
     "output_type": "stream",
     "text": [
      "\r",
      "Iterations:  35%|███████████▍                     | 104/300 [02:11<03:54,  1.20s/it]"
     ]
    },
    {
     "name": "stdout",
     "output_type": "stream",
     "text": [
      "Epoch  103 , loss 0.4043099348451577\n",
      "Epoch  104 , loss 0.39979824949713316\n"
     ]
    },
    {
     "name": "stderr",
     "output_type": "stream",
     "text": [
      "\r",
      "Iterations:  35%|███████████▌                     | 105/300 [02:12<04:13,  1.30s/it]"
     ]
    },
    {
     "name": "stdout",
     "output_type": "stream",
     "text": [
      "Epoch:  104\n",
      "t_loss:  0.39979824949713316 , v_loss:  0.716037854552269\n",
      "t_acc:  0.7083593262632564 , v_acc:  0.7023809523809523\n",
      "t_recall:  0.5268643473663644 , v_recall:  0.5435602953240362\n",
      "t_prec:  0.7228272474909246 , v_prec:  0.6855345911949685\n",
      "t_f:  0.4712115928039434 , v_f:  0.5055333176359783\n",
      "////////\n"
     ]
    },
    {
     "name": "stderr",
     "output_type": "stream",
     "text": [
      "\r",
      "Iterations:  35%|███████████▋                     | 106/300 [02:13<03:51,  1.19s/it]"
     ]
    },
    {
     "name": "stdout",
     "output_type": "stream",
     "text": [
      "Epoch  105 , loss 0.4073830422233133\n",
      "Epoch  106 , loss 0.4014643524207321\n"
     ]
    },
    {
     "name": "stderr",
     "output_type": "stream",
     "text": [
      "\r",
      "Iterations:  36%|███████████▊                     | 107/300 [02:15<04:12,  1.31s/it]"
     ]
    },
    {
     "name": "stdout",
     "output_type": "stream",
     "text": [
      "Epoch:  106\n",
      "t_loss:  0.4014643524207321 , v_loss:  0.7163066466649374\n",
      "t_acc:  0.7111665626949469 , v_acc:  0.7083333333333334\n",
      "t_recall:  0.5311910262156788 , v_recall:  0.5479081214109927\n",
      "t_prec:  0.7393505371033462 , v_prec:  0.728125\n",
      "t_f:  0.4790592324467664 , v_f:  0.5092697466467959\n",
      "////////\n"
     ]
    },
    {
     "name": "stderr",
     "output_type": "stream",
     "text": [
      "\r",
      "Iterations:  36%|███████████▉                     | 108/300 [02:16<03:52,  1.21s/it]"
     ]
    },
    {
     "name": "stdout",
     "output_type": "stream",
     "text": [
      "Epoch  107 , loss 0.41299912333488464\n",
      "Epoch  108 , loss 0.4077015320460002\n"
     ]
    },
    {
     "name": "stderr",
     "output_type": "stream",
     "text": [
      "\r",
      "Iterations:  36%|███████████▉                     | 109/300 [02:18<04:15,  1.34s/it]"
     ]
    },
    {
     "name": "stdout",
     "output_type": "stream",
     "text": [
      "Epoch:  108\n",
      "t_loss:  0.4077015320460002 , v_loss:  0.711829831202825\n",
      "t_acc:  0.7096069868995634 , v_acc:  0.6964285714285714\n",
      "t_recall:  0.5318026870783482 , v_recall:  0.5392124692370796\n",
      "t_prec:  0.7067582430719939 , v_prec:  0.65126582278481\n",
      "t_f:  0.4828232149147498 , v_f:  0.5018315018315018\n",
      "////////\n"
     ]
    },
    {
     "name": "stderr",
     "output_type": "stream",
     "text": [
      "\r",
      "Iterations:  37%|████████████                     | 110/300 [02:19<03:55,  1.24s/it]"
     ]
    },
    {
     "name": "stdout",
     "output_type": "stream",
     "text": [
      "Epoch  109 , loss 0.40677740819313946\n",
      "Epoch  110 , loss 0.4084438477076736\n"
     ]
    },
    {
     "name": "stderr",
     "output_type": "stream",
     "text": [
      "\r",
      "Iterations:  37%|████████████▏                    | 111/300 [02:20<04:14,  1.35s/it]"
     ]
    },
    {
     "name": "stdout",
     "output_type": "stream",
     "text": [
      "Epoch:  110\n",
      "t_loss:  0.4084438477076736 , v_loss:  0.7160837799310684\n",
      "t_acc:  0.7096069868995634 , v_acc:  0.6964285714285714\n",
      "t_recall:  0.529781746715857 , v_recall:  0.5392124692370796\n",
      "t_prec:  0.7214557238965159 , v_prec:  0.65126582278481\n",
      "t_f:  0.4774229660097481 , v_f:  0.5018315018315018\n",
      "////////\n"
     ]
    },
    {
     "name": "stderr",
     "output_type": "stream",
     "text": [
      "\r",
      "Iterations:  37%|████████████▎                    | 112/300 [02:21<03:50,  1.23s/it]"
     ]
    },
    {
     "name": "stdout",
     "output_type": "stream",
     "text": [
      "Epoch  111 , loss 0.4062552831920923\n",
      "Epoch  112 , loss 0.3978961782128203\n"
     ]
    },
    {
     "name": "stderr",
     "output_type": "stream",
     "text": [
      "\r",
      "Iterations:  38%|████████████▍                    | 113/300 [02:23<04:06,  1.32s/it]"
     ]
    },
    {
     "name": "stdout",
     "output_type": "stream",
     "text": [
      "Epoch:  112\n",
      "t_loss:  0.3978961782128203 , v_loss:  0.7063661168018976\n",
      "t_acc:  0.7127261384903306 , v_acc:  0.6964285714285714\n",
      "t_recall:  0.5349099518440621 , v_recall:  0.5392124692370796\n",
      "t_prec:  0.7353847393741011 , v_prec:  0.65126582278481\n",
      "t_f:  0.48686679386414383 , v_f:  0.5018315018315018\n",
      "////////\n"
     ]
    },
    {
     "name": "stderr",
     "output_type": "stream",
     "text": [
      "\r",
      "Iterations:  38%|████████████▌                    | 114/300 [02:24<03:43,  1.20s/it]"
     ]
    },
    {
     "name": "stdout",
     "output_type": "stream",
     "text": [
      "Epoch  113 , loss 0.40246302064727335\n",
      "Epoch  114 , loss 0.4010908323175767\n"
     ]
    },
    {
     "name": "stderr",
     "output_type": "stream",
     "text": [
      "\r",
      "Iterations:  38%|████████████▋                    | 115/300 [02:25<04:00,  1.30s/it]"
     ]
    },
    {
     "name": "stdout",
     "output_type": "stream",
     "text": [
      "Epoch:  114\n",
      "t_loss:  0.4010908323175767 , v_loss:  0.709360659122467\n",
      "t_acc:  0.7152214597629445 , v_acc:  0.6904761904761905\n",
      "t_recall:  0.538723810180556 , v_recall:  0.534864643150123\n",
      "t_prec:  0.7473367394879022 , v_prec:  0.6230457440648522\n",
      "t_f:  0.493567159388871 , v_f:  0.4981617647058823\n",
      "////////\n"
     ]
    },
    {
     "name": "stderr",
     "output_type": "stream",
     "text": [
      "\r",
      "Iterations:  39%|████████████▊                    | 116/300 [02:26<03:41,  1.20s/it]"
     ]
    },
    {
     "name": "stdout",
     "output_type": "stream",
     "text": [
      "Epoch  115 , loss 0.4119753077918408\n",
      "Epoch  116 , loss 0.4068087397837171\n"
     ]
    },
    {
     "name": "stderr",
     "output_type": "stream",
     "text": [
      "\r",
      "Iterations:  39%|████████████▊                    | 117/300 [02:28<03:58,  1.31s/it]"
     ]
    },
    {
     "name": "stdout",
     "output_type": "stream",
     "text": [
      "Epoch:  116\n",
      "t_loss:  0.4068087397837171 , v_loss:  0.7173824558655421\n",
      "t_acc:  0.7127261384903306 , v_acc:  0.6964285714285714\n",
      "t_recall:  0.5375083037386937 , v_recall:  0.5392124692370796\n",
      "t_prec:  0.7168489932172397 , v_prec:  0.65126582278481\n",
      "t_f:  0.49357719805404465 , v_f:  0.5018315018315018\n",
      "////////\n"
     ]
    },
    {
     "name": "stderr",
     "output_type": "stream",
     "text": [
      "\r",
      "Iterations:  39%|████████████▉                    | 118/300 [02:29<03:41,  1.22s/it]"
     ]
    },
    {
     "name": "stdout",
     "output_type": "stream",
     "text": [
      "Epoch  117 , loss 0.40898676362692143\n",
      "Epoch  118 , loss 0.4010193517395094\n"
     ]
    },
    {
     "name": "stderr",
     "output_type": "stream",
     "text": [
      "\r",
      "Iterations:  40%|█████████████                    | 119/300 [02:30<03:59,  1.32s/it]"
     ]
    },
    {
     "name": "stdout",
     "output_type": "stream",
     "text": [
      "Epoch:  118\n",
      "t_loss:  0.4010193517395094 , v_loss:  0.7155636896689733\n",
      "t_acc:  0.715845290081098 , v_acc:  0.6964285714285714\n",
      "t_recall:  0.5400381569722672 , v_recall:  0.5392124692370796\n",
      "t_prec:  0.7470779147091532 , v_prec:  0.65126582278481\n",
      "t_f:  0.49615430861481447 , v_f:  0.5018315018315018\n",
      "////////\n"
     ]
    },
    {
     "name": "stderr",
     "output_type": "stream",
     "text": [
      "\r",
      "Iterations:  40%|█████████████▏                   | 120/300 [02:31<03:38,  1.21s/it]"
     ]
    },
    {
     "name": "stdout",
     "output_type": "stream",
     "text": [
      "Epoch  119 , loss 0.4001305418856004\n",
      "Epoch  120 , loss 0.4015398802710514\n"
     ]
    },
    {
     "name": "stderr",
     "output_type": "stream",
     "text": [
      "\r",
      "Iterations:  40%|█████████████▎                   | 121/300 [02:33<03:57,  1.33s/it]"
     ]
    },
    {
     "name": "stdout",
     "output_type": "stream",
     "text": [
      "Epoch:  120\n",
      "t_loss:  0.4015398802710514 , v_loss:  0.7243229101101557\n",
      "t_acc:  0.7174048658764816 , v_acc:  0.6964285714285714\n",
      "t_recall:  0.54289096530244 , v_recall:  0.5392124692370796\n",
      "t_prec:  0.7499363756914958 , v_prec:  0.65126582278481\n",
      "t_f:  0.5014643851641923 , v_f:  0.5018315018315018\n",
      "////////\n"
     ]
    },
    {
     "name": "stderr",
     "output_type": "stream",
     "text": [
      "\r",
      "Iterations:  41%|█████████████▍                   | 122/300 [02:34<03:34,  1.21s/it]"
     ]
    },
    {
     "name": "stdout",
     "output_type": "stream",
     "text": [
      "Epoch  121 , loss 0.4023257558252297\n",
      "Epoch  122 , loss 0.39747480843581406\n"
     ]
    },
    {
     "name": "stderr",
     "output_type": "stream",
     "text": [
      "\r",
      "Iterations:  41%|█████████████▌                   | 123/300 [02:35<03:54,  1.33s/it]"
     ]
    },
    {
     "name": "stdout",
     "output_type": "stream",
     "text": [
      "Epoch:  122\n",
      "t_loss:  0.39747480843581406 , v_loss:  0.7233753005663554\n",
      "t_acc:  0.7174048658764816 , v_acc:  0.6964285714285714\n",
      "t_recall:  0.5431796710685102 , v_recall:  0.5392124692370796\n",
      "t_prec:  0.7476879504442142 , v_prec:  0.65126582278481\n",
      "t_f:  0.5021851753590372 , v_f:  0.5018315018315018\n",
      "////////\n"
     ]
    },
    {
     "name": "stderr",
     "output_type": "stream",
     "text": [
      "\r",
      "Iterations:  41%|█████████████▋                   | 124/300 [02:36<03:32,  1.21s/it]"
     ]
    },
    {
     "name": "stdout",
     "output_type": "stream",
     "text": [
      "Epoch  123 , loss 0.39827828430661966\n",
      "Epoch  124 , loss 0.3953341049890892\n"
     ]
    },
    {
     "name": "stderr",
     "output_type": "stream",
     "text": [
      "\r",
      "Iterations:  42%|█████████████▊                   | 125/300 [02:38<03:52,  1.33s/it]"
     ]
    },
    {
     "name": "stdout",
     "output_type": "stream",
     "text": [
      "Epoch:  124\n",
      "t_loss:  0.3953341049890892 , v_loss:  0.7201906690994898\n",
      "t_acc:  0.718028696194635 , v_acc:  0.6964285714285714\n",
      "t_recall:  0.5430504890298705 , v_recall:  0.5392124692370796\n",
      "t_prec:  0.7591066176368864 , v_prec:  0.65126582278481\n",
      "t_f:  0.5011181800655485 , v_f:  0.5018315018315018\n",
      "////////\n"
     ]
    },
    {
     "name": "stderr",
     "output_type": "stream",
     "text": [
      "\r",
      "Iterations:  42%|█████████████▊                   | 126/300 [02:39<03:29,  1.20s/it]"
     ]
    },
    {
     "name": "stdout",
     "output_type": "stream",
     "text": [
      "Epoch  125 , loss 0.39733729964377834\n",
      "Epoch  126 , loss 0.39916495189947243\n"
     ]
    },
    {
     "name": "stderr",
     "output_type": "stream",
     "text": [
      "\r",
      "Iterations:  42%|█████████████▉                   | 127/300 [02:40<03:48,  1.32s/it]"
     ]
    },
    {
     "name": "stdout",
     "output_type": "stream",
     "text": [
      "Epoch:  126\n",
      "t_loss:  0.39916495189947243 , v_loss:  0.723911335070928\n",
      "t_acc:  0.7152214597629445 , v_acc:  0.6964285714285714\n",
      "t_recall:  0.540167339010907 , v_recall:  0.5392124692370796\n",
      "t_prec:  0.7359391877295312 , v_prec:  0.65126582278481\n",
      "t_f:  0.49724833672986535 , v_f:  0.5018315018315018\n",
      "////////\n"
     ]
    },
    {
     "name": "stderr",
     "output_type": "stream",
     "text": [
      "\r",
      "Iterations:  43%|██████████████                   | 128/300 [02:41<03:26,  1.20s/it]"
     ]
    },
    {
     "name": "stdout",
     "output_type": "stream",
     "text": [
      "Epoch  127 , loss 0.4126473349683425\n",
      "Epoch  128 , loss 0.3989018762812895\n"
     ]
    },
    {
     "name": "stderr",
     "output_type": "stream",
     "text": [
      "\r",
      "Iterations:  43%|██████████████▏                  | 129/300 [02:43<03:43,  1.30s/it]"
     ]
    },
    {
     "name": "stdout",
     "output_type": "stream",
     "text": [
      "Epoch:  128\n",
      "t_loss:  0.3989018762812895 , v_loss:  0.7193488279978434\n",
      "t_acc:  0.7149095446038678 , v_acc:  0.6964285714285714\n",
      "t_recall:  0.5405206357962969 , v_recall:  0.5392124692370796\n",
      "t_prec:  0.7288646543330088 , v_prec:  0.65126582278481\n",
      "t_f:  0.49851382803943045 , v_f:  0.5018315018315018\n",
      "////////\n"
     ]
    },
    {
     "name": "stderr",
     "output_type": "stream",
     "text": [
      "\r",
      "Iterations:  43%|██████████████▎                  | 130/300 [02:44<03:26,  1.21s/it]"
     ]
    },
    {
     "name": "stdout",
     "output_type": "stream",
     "text": [
      "Epoch  129 , loss 0.3983910276609309\n",
      "Epoch  130 , loss 0.4219918093260597\n"
     ]
    },
    {
     "name": "stderr",
     "output_type": "stream",
     "text": [
      "\r",
      "Iterations:  44%|██████████████▍                  | 131/300 [02:45<03:41,  1.31s/it]"
     ]
    },
    {
     "name": "stdout",
     "output_type": "stream",
     "text": [
      "Epoch:  130\n",
      "t_loss:  0.4219918093260597 , v_loss:  0.7234970380862554\n",
      "t_acc:  0.7161572052401747 , v_acc:  0.6964285714285714\n",
      "t_recall:  0.5414170947832982 , v_recall:  0.5392124692370796\n",
      "t_prec:  0.7413477637729884 , v_prec:  0.65126582278481\n",
      "t_f:  0.4992633449220916 , v_f:  0.5018315018315018\n",
      "////////\n"
     ]
    },
    {
     "name": "stderr",
     "output_type": "stream",
     "text": [
      "\r",
      "Iterations:  44%|██████████████▌                  | 132/300 [02:46<03:21,  1.20s/it]"
     ]
    },
    {
     "name": "stdout",
     "output_type": "stream",
     "text": [
      "Epoch  131 , loss 0.39305947604132635\n",
      "Epoch  132 , loss 0.3977692658994712\n"
     ]
    },
    {
     "name": "stderr",
     "output_type": "stream",
     "text": [
      "\r",
      "Iterations:  44%|██████████████▋                  | 133/300 [02:48<03:39,  1.31s/it]"
     ]
    },
    {
     "name": "stdout",
     "output_type": "stream",
     "text": [
      "Epoch:  132\n",
      "t_loss:  0.3977692658994712 , v_loss:  0.725774402419726\n",
      "t_acc:  0.7255146600124766 , v_acc:  0.6964285714285714\n",
      "t_recall:  0.5570904159339839 , v_recall:  0.5392124692370796\n",
      "t_prec:  0.765857647786705 , v_prec:  0.65126582278481\n",
      "t_f:  0.526658828203435 , v_f:  0.5018315018315018\n",
      "////////\n"
     ]
    },
    {
     "name": "stderr",
     "output_type": "stream",
     "text": [
      "\r",
      "Iterations:  45%|██████████████▋                  | 134/300 [02:49<03:18,  1.20s/it]"
     ]
    },
    {
     "name": "stdout",
     "output_type": "stream",
     "text": [
      "Epoch  133 , loss 0.4020604166914435\n",
      "Epoch  134 , loss 0.3902008884093341\n"
     ]
    },
    {
     "name": "stderr",
     "output_type": "stream",
     "text": [
      "\r",
      "Iterations:  45%|██████████████▊                  | 135/300 [02:50<03:38,  1.32s/it]"
     ]
    },
    {
     "name": "stdout",
     "output_type": "stream",
     "text": [
      "Epoch:  134\n",
      "t_loss:  0.3902008884093341 , v_loss:  0.7220815271139145\n",
      "t_acc:  0.7186525265127885 , v_acc:  0.6964285714285714\n",
      "t_recall:  0.5463857761840729 , v_recall:  0.5392124692370796\n",
      "t_prec:  0.7433747000012061 , v_prec:  0.65126582278481\n",
      "t_f:  0.5086314530297933 , v_f:  0.5018315018315018\n",
      "////////\n"
     ]
    },
    {
     "name": "stderr",
     "output_type": "stream",
     "text": [
      "\r",
      "Iterations:  45%|██████████████▉                  | 136/300 [02:51<03:17,  1.20s/it]"
     ]
    },
    {
     "name": "stdout",
     "output_type": "stream",
     "text": [
      "Epoch  135 , loss 0.4039897211626464\n",
      "Epoch  136 , loss 0.39784833029204725\n"
     ]
    },
    {
     "name": "stderr",
     "output_type": "stream",
     "text": [
      "\r",
      "Iterations:  46%|███████████████                  | 137/300 [02:53<03:35,  1.32s/it]"
     ]
    },
    {
     "name": "stdout",
     "output_type": "stream",
     "text": [
      "Epoch:  136\n",
      "t_loss:  0.39784833029204725 , v_loss:  0.7216370205084482\n",
      "t_acc:  0.7255146600124766 , v_acc:  0.6964285714285714\n",
      "t_recall:  0.557379121700054 , v_recall:  0.5392124692370796\n",
      "t_prec:  0.7639272158255886 , v_prec:  0.65126582278481\n",
      "t_f:  0.5273176893976202 , v_f:  0.5018315018315018\n",
      "////////\n"
     ]
    },
    {
     "name": "stderr",
     "output_type": "stream",
     "text": [
      "\r",
      "Iterations:  46%|███████████████▏                 | 138/300 [02:54<03:14,  1.20s/it]"
     ]
    },
    {
     "name": "stdout",
     "output_type": "stream",
     "text": [
      "Epoch  137 , loss 0.39845326776598017\n",
      "Epoch  138 , loss 0.4053825236418668\n"
     ]
    },
    {
     "name": "stderr",
     "output_type": "stream",
     "text": [
      "\r",
      "Iterations:  46%|███████████████▎                 | 139/300 [02:55<03:30,  1.31s/it]"
     ]
    },
    {
     "name": "stdout",
     "output_type": "stream",
     "text": [
      "Epoch:  138\n",
      "t_loss:  0.4053825236418668 , v_loss:  0.7195495963096619\n",
      "t_acc:  0.7161572052401747 , v_acc:  0.6964285714285714\n",
      "t_recall:  0.5443041524440001 , v_recall:  0.5392124692370796\n",
      "t_prec:  0.7229970034593269 , v_prec:  0.65126582278481\n",
      "t_f:  0.506380009529069 , v_f:  0.5018315018315018\n",
      "////////\n"
     ]
    },
    {
     "name": "stderr",
     "output_type": "stream",
     "text": [
      "\r",
      "Iterations:  47%|███████████████▍                 | 140/300 [02:56<03:11,  1.19s/it]"
     ]
    },
    {
     "name": "stdout",
     "output_type": "stream",
     "text": [
      "Epoch  139 , loss 0.3949397875397813\n",
      "Epoch  140 , loss 0.3954324777804169\n"
     ]
    },
    {
     "name": "stderr",
     "output_type": "stream",
     "text": [
      "\r",
      "Iterations:  47%|███████████████▌                 | 141/300 [02:58<03:27,  1.30s/it]"
     ]
    },
    {
     "name": "stdout",
     "output_type": "stream",
     "text": [
      "Epoch:  140\n",
      "t_loss:  0.3954324777804169 , v_loss:  0.7223035991191864\n",
      "t_acc:  0.7214597629444791 , v_acc:  0.6964285714285714\n",
      "t_recall:  0.5518672780976681 , v_recall:  0.5392124692370796\n",
      "t_prec:  0.7461234729493892 , v_prec:  0.65126582278481\n",
      "t_f:  0.5186586806212303 , v_f:  0.5018315018315018\n",
      "////////\n"
     ]
    },
    {
     "name": "stderr",
     "output_type": "stream",
     "text": [
      "\r",
      "Iterations:  47%|███████████████▌                 | 142/300 [02:59<03:11,  1.21s/it]"
     ]
    },
    {
     "name": "stdout",
     "output_type": "stream",
     "text": [
      "Epoch  141 , loss 0.39260631069248797\n",
      "Epoch  142 , loss 0.3941662104106417\n"
     ]
    },
    {
     "name": "stderr",
     "output_type": "stream",
     "text": [
      "\r",
      "Iterations:  48%|███████████████▋                 | 143/300 [03:01<03:28,  1.33s/it]"
     ]
    },
    {
     "name": "stdout",
     "output_type": "stream",
     "text": [
      "Epoch:  142\n",
      "t_loss:  0.3941662104106417 , v_loss:  0.7172516385714213\n",
      "t_acc:  0.7177167810355584 , v_acc:  0.7083333333333334\n",
      "t_recall:  0.5465795492420324 , v_recall:  0.5580803937653814\n",
      "t_prec:  0.7297903512591626 , v_prec:  0.6891025641025641\n",
      "t_f:  0.5101308200910133 , v_f:  0.5326710190178825\n",
      "////////\n"
     ]
    },
    {
     "name": "stderr",
     "output_type": "stream",
     "text": [
      "\r",
      "Iterations:  48%|███████████████▊                 | 144/300 [03:02<03:11,  1.23s/it]"
     ]
    },
    {
     "name": "stdout",
     "output_type": "stream",
     "text": [
      "Epoch  143 , loss 0.39333153735188875\n",
      "Epoch  144 , loss 0.39185575030597986\n"
     ]
    },
    {
     "name": "stderr",
     "output_type": "stream",
     "text": [
      "\r",
      "Iterations:  48%|███████████████▉                 | 145/300 [03:03<03:27,  1.34s/it]"
     ]
    },
    {
     "name": "stdout",
     "output_type": "stream",
     "text": [
      "Epoch:  144\n",
      "t_loss:  0.39185575030597986 , v_loss:  0.7184308966000875\n",
      "t_acc:  0.7233312538989395 , v_acc:  0.7023809523809523\n",
      "t_recall:  0.5529232608120999 , v_recall:  0.5486464315012305\n",
      "t_prec:  0.7645901518773214 , v_prec:  0.671685002895194\n",
      "t_f:  0.5191960794756628 , v_f:  0.5174632352941176\n",
      "////////\n"
     ]
    },
    {
     "name": "stderr",
     "output_type": "stream",
     "text": [
      "\r",
      "Iterations:  49%|████████████████                 | 146/300 [03:04<03:09,  1.23s/it]"
     ]
    },
    {
     "name": "stdout",
     "output_type": "stream",
     "text": [
      "Epoch  145 , loss 0.39855719313902016\n",
      "Epoch  146 , loss 0.39948462095915105\n"
     ]
    },
    {
     "name": "stderr",
     "output_type": "stream",
     "text": [
      "\r",
      "Iterations:  49%|████████████████▏                | 147/300 [03:06<03:23,  1.33s/it]"
     ]
    },
    {
     "name": "stdout",
     "output_type": "stream",
     "text": [
      "Epoch:  146\n",
      "t_loss:  0.39948462095915105 , v_loss:  0.7159401476383209\n",
      "t_acc:  0.718028696194635 , v_acc:  0.7083333333333334\n",
      "t_recall:  0.548824604351274 , v_recall:  0.5580803937653814\n",
      "t_prec:  0.7218634907968154 , v_prec:  0.6891025641025641\n",
      "t_f:  0.5151006531748581 , v_f:  0.5326710190178825\n",
      "////////\n"
     ]
    },
    {
     "name": "stderr",
     "output_type": "stream",
     "text": [
      "\r",
      "Iterations:  49%|████████████████▎                | 148/300 [03:07<03:04,  1.21s/it]"
     ]
    },
    {
     "name": "stdout",
     "output_type": "stream",
     "text": [
      "Epoch  147 , loss 0.40147708677778055\n",
      "Epoch  148 , loss 0.39621119902414437\n"
     ]
    },
    {
     "name": "stderr",
     "output_type": "stream",
     "text": [
      "\r",
      "Iterations:  50%|████████████████▍                | 149/300 [03:08<03:19,  1.32s/it]"
     ]
    },
    {
     "name": "stdout",
     "output_type": "stream",
     "text": [
      "Epoch:  148\n",
      "t_loss:  0.39621119902414437 , v_loss:  0.7213748097419739\n",
      "t_acc:  0.7199001871490954 , v_acc:  0.6964285714285714\n",
      "t_recall:  0.5501692928317761 , v_recall:  0.5392124692370796\n",
      "t_prec:  0.7365669134303768 , v_prec:  0.65126582278481\n",
      "t_f:  0.5163019847326192 , v_f:  0.5018315018315018\n",
      "////////\n"
     ]
    },
    {
     "name": "stderr",
     "output_type": "stream",
     "text": [
      "\r",
      "Iterations:  50%|████████████████▌                | 150/300 [03:09<03:04,  1.23s/it]"
     ]
    },
    {
     "name": "stdout",
     "output_type": "stream",
     "text": [
      "Epoch  149 , loss 0.3934539369508332\n",
      "Epoch  150 , loss 0.4002855314927943\n"
     ]
    },
    {
     "name": "stderr",
     "output_type": "stream",
     "text": [
      "\r",
      "Iterations:  50%|████████████████▌                | 151/300 [03:11<03:17,  1.33s/it]"
     ]
    },
    {
     "name": "stdout",
     "output_type": "stream",
     "text": [
      "Epoch:  150\n",
      "t_loss:  0.4002855314927943 , v_loss:  0.7262323796749115\n",
      "t_acc:  0.7223955084217093 , v_acc:  0.7023809523809523\n",
      "t_recall:  0.5545605627004103 , v_recall:  0.5486464315012305\n",
      "t_prec:  0.7420860998072392 , v_prec:  0.671685002895194\n",
      "t_f:  0.5239304477356939 , v_f:  0.5174632352941176\n",
      "////////\n"
     ]
    },
    {
     "name": "stderr",
     "output_type": "stream",
     "text": [
      "\r",
      "Iterations:  51%|████████████████▋                | 152/300 [03:12<03:03,  1.24s/it]"
     ]
    },
    {
     "name": "stdout",
     "output_type": "stream",
     "text": [
      "Epoch  151 , loss 0.3891940449967104\n",
      "Epoch  152 , loss 0.3931760881461349\n"
     ]
    },
    {
     "name": "stderr",
     "output_type": "stream",
     "text": [
      "\r",
      "Iterations:  51%|████████████████▊                | 153/300 [03:13<03:14,  1.32s/it]"
     ]
    },
    {
     "name": "stdout",
     "output_type": "stream",
     "text": [
      "Epoch:  152\n",
      "t_loss:  0.3931760881461349 , v_loss:  0.7419529308875402\n",
      "t_acc:  0.7233312538989395 , v_acc:  0.6845238095238095\n",
      "t_recall:  0.5537893781103104 , v_recall:  0.5203445447087777\n",
      "t_prec:  0.758524384423665 , v_prec:  0.596875\n",
      "t_f:  0.5212224097224923 , v_f:  0.469210134128167\n",
      "////////\n"
     ]
    },
    {
     "name": "stderr",
     "output_type": "stream",
     "text": [
      "\r",
      "Iterations:  51%|████████████████▉                | 154/300 [03:14<02:57,  1.22s/it]"
     ]
    },
    {
     "name": "stdout",
     "output_type": "stream",
     "text": [
      "Epoch  153 , loss 0.40029405992405087\n",
      "Epoch  154 , loss 0.3926342661474265\n"
     ]
    },
    {
     "name": "stderr",
     "output_type": "stream",
     "text": [
      "\r",
      "Iterations:  52%|█████████████████                | 155/300 [03:16<03:10,  1.32s/it]"
     ]
    },
    {
     "name": "stdout",
     "output_type": "stream",
     "text": [
      "Epoch:  154\n",
      "t_loss:  0.3926342661474265 , v_loss:  0.7265641589959463\n",
      "t_acc:  0.723955084217093 , v_acc:  0.7083333333333334\n",
      "t_recall:  0.5562585479663023 , v_recall:  0.5580803937653814\n",
      "t_prec:  0.751097751149048 , v_prec:  0.6891025641025641\n",
      "t_f:  0.5262776958273749 , v_f:  0.5326710190178825\n",
      "////////\n"
     ]
    },
    {
     "name": "stderr",
     "output_type": "stream",
     "text": [
      "\r",
      "Iterations:  52%|█████████████████▏               | 156/300 [03:17<02:52,  1.20s/it]"
     ]
    },
    {
     "name": "stdout",
     "output_type": "stream",
     "text": [
      "Epoch  155 , loss 0.3973493131936765\n",
      "Epoch  156 , loss 0.39052106849118773\n"
     ]
    },
    {
     "name": "stderr",
     "output_type": "stream",
     "text": [
      "\r",
      "Iterations:  52%|█████████████████▎               | 157/300 [03:18<03:07,  1.31s/it]"
     ]
    },
    {
     "name": "stdout",
     "output_type": "stream",
     "text": [
      "Epoch:  156\n",
      "t_loss:  0.39052106849118773 , v_loss:  0.7271919896205267\n",
      "t_acc:  0.7183406113537117 , v_acc:  0.7083333333333334\n",
      "t_recall:  0.5487600133319541 , v_recall:  0.5580803937653814\n",
      "t_prec:  0.7256642440128678 , v_prec:  0.6891025641025641\n",
      "t_f:  0.5146257687349516 , v_f:  0.5326710190178825\n",
      "////////\n"
     ]
    },
    {
     "name": "stderr",
     "output_type": "stream",
     "text": [
      "\r",
      "Iterations:  53%|█████████████████▍               | 158/300 [03:19<02:51,  1.21s/it]"
     ]
    },
    {
     "name": "stdout",
     "output_type": "stream",
     "text": [
      "Epoch  157 , loss 0.392528736708211\n",
      "Epoch  158 , loss 0.3946620068129371\n"
     ]
    },
    {
     "name": "stderr",
     "output_type": "stream",
     "text": [
      "\r",
      "Iterations:  53%|█████████████████▍               | 159/300 [03:21<03:07,  1.33s/it]"
     ]
    },
    {
     "name": "stdout",
     "output_type": "stream",
     "text": [
      "Epoch:  158\n",
      "t_loss:  0.3946620068129371 , v_loss:  0.7267407228549322\n",
      "t_acc:  0.7217716781035558 , v_acc:  0.7023809523809523\n",
      "t_recall:  0.5518026870783482 , v_recall:  0.5486464315012305\n",
      "t_prec:  0.750587649247342 , v_prec:  0.671685002895194\n",
      "t_f:  0.5181855247684225 , v_f:  0.5174632352941176\n",
      "////////\n"
     ]
    },
    {
     "name": "stderr",
     "output_type": "stream",
     "text": [
      "\r",
      "Iterations:  53%|█████████████████▌               | 160/300 [03:22<02:49,  1.21s/it]"
     ]
    },
    {
     "name": "stdout",
     "output_type": "stream",
     "text": [
      "Epoch  159 , loss 0.3975788118208156\n",
      "Epoch  160 , loss 0.3897964562855515\n"
     ]
    },
    {
     "name": "stderr",
     "output_type": "stream",
     "text": [
      "\r",
      "Iterations:  54%|█████████████████▋               | 161/300 [03:23<03:02,  1.31s/it]"
     ]
    },
    {
     "name": "stdout",
     "output_type": "stream",
     "text": [
      "Epoch:  160\n",
      "t_loss:  0.3897964562855515 , v_loss:  0.7252999842166901\n",
      "t_acc:  0.7233312538989395 , v_acc:  0.7083333333333334\n",
      "t_recall:  0.5555216127067315 , v_recall:  0.5580803937653814\n",
      "t_prec:  0.7478086014445173 , v_prec:  0.6891025641025641\n",
      "t_f:  0.5252071369478888 , v_f:  0.5326710190178825\n",
      "////////\n"
     ]
    },
    {
     "name": "stderr",
     "output_type": "stream",
     "text": [
      "\r",
      "Iterations:  54%|█████████████████▊               | 162/300 [03:24<02:44,  1.19s/it]"
     ]
    },
    {
     "name": "stdout",
     "output_type": "stream",
     "text": [
      "Epoch  161 , loss 0.3887583473149468\n",
      "Epoch  162 , loss 0.39401013477175845\n"
     ]
    },
    {
     "name": "stderr",
     "output_type": "stream",
     "text": [
      "\r",
      "Iterations:  54%|█████████████████▉               | 163/300 [03:26<02:58,  1.30s/it]"
     ]
    },
    {
     "name": "stdout",
     "output_type": "stream",
     "text": [
      "Epoch:  162\n",
      "t_loss:  0.39401013477175845 , v_loss:  0.7309385488430659\n",
      "t_acc:  0.7230193387398628 , v_acc:  0.7083333333333334\n",
      "t_recall:  0.556741026790332 , v_recall:  0.5580803937653814\n",
      "t_prec:  0.7378190121101766 , v_prec:  0.6891025641025641\n",
      "t_f:  0.5282509748400785 , v_f:  0.5326710190178825\n",
      "////////\n"
     ]
    },
    {
     "name": "stderr",
     "output_type": "stream",
     "text": [
      "\r",
      "Iterations:  55%|██████████████████               | 164/300 [03:27<02:42,  1.20s/it]"
     ]
    },
    {
     "name": "stdout",
     "output_type": "stream",
     "text": [
      "Epoch  163 , loss 0.39257869942515505\n",
      "Epoch  164 , loss 0.3929193843813503\n"
     ]
    },
    {
     "name": "stderr",
     "output_type": "stream",
     "text": [
      "\r",
      "Iterations:  55%|██████████████████▏              | 165/300 [03:28<02:57,  1.31s/it]"
     ]
    },
    {
     "name": "stdout",
     "output_type": "stream",
     "text": [
      "Epoch:  164\n",
      "t_loss:  0.3929193843813503 , v_loss:  0.7307527363300323\n",
      "t_acc:  0.7233312538989395 , v_acc:  0.6964285714285714\n",
      "t_recall:  0.5575425530692227 , v_recall:  0.5392124692370796\n",
      "t_prec:  0.737254723561702 , v_prec:  0.65126582278481\n",
      "t_f:  0.5297446564824273 , v_f:  0.5018315018315018\n",
      "////////\n"
     ]
    },
    {
     "name": "stderr",
     "output_type": "stream",
     "text": [
      "\r",
      "Iterations:  55%|██████████████████▎              | 166/300 [03:29<02:44,  1.23s/it]"
     ]
    },
    {
     "name": "stdout",
     "output_type": "stream",
     "text": [
      "Epoch  165 , loss 0.3945414628468308\n",
      "Epoch  166 , loss 0.39105158080072966\n"
     ]
    },
    {
     "name": "stderr",
     "output_type": "stream",
     "text": [
      "\r",
      "Iterations:  56%|██████████████████▎              | 167/300 [03:31<03:00,  1.36s/it]"
     ]
    },
    {
     "name": "stdout",
     "output_type": "stream",
     "text": [
      "Epoch:  166\n",
      "t_loss:  0.39105158080072966 , v_loss:  0.7313736031452814\n",
      "t_acc:  0.7233312538989395 , v_acc:  0.7023809523809523\n",
      "t_recall:  0.5535006723442403 , v_recall:  0.5486464315012305\n",
      "t_prec:  0.7604888530754768 , v_prec:  0.671685002895194\n",
      "t_f:  0.5205495134130281 , v_f:  0.5174632352941176\n",
      "////////\n"
     ]
    },
    {
     "name": "stderr",
     "output_type": "stream",
     "text": [
      "\r",
      "Iterations:  56%|██████████████████▍              | 168/300 [03:32<02:43,  1.24s/it]"
     ]
    },
    {
     "name": "stdout",
     "output_type": "stream",
     "text": [
      "Epoch  167 , loss 0.3989766684232974\n",
      "Epoch  168 , loss 0.387444653931786\n"
     ]
    },
    {
     "name": "stderr",
     "output_type": "stream",
     "text": [
      "\r",
      "Iterations:  56%|██████████████████▌              | 169/300 [03:34<02:54,  1.33s/it]"
     ]
    },
    {
     "name": "stdout",
     "output_type": "stream",
     "text": [
      "Epoch:  168\n",
      "t_loss:  0.387444653931786 , v_loss:  0.7236921638250351\n",
      "t_acc:  0.7292576419213974 , v_acc:  0.7083333333333334\n",
      "t_recall:  0.5638216736199704 , v_recall:  0.5580803937653814\n",
      "t_prec:  0.7704835626874076 , v_prec:  0.6891025641025641\n",
      "t_f:  0.5382451640993782 , v_f:  0.5326710190178825\n",
      "////////\n"
     ]
    },
    {
     "name": "stderr",
     "output_type": "stream",
     "text": [
      "\r",
      "Iterations:  57%|██████████████████▋              | 170/300 [03:34<02:37,  1.21s/it]"
     ]
    },
    {
     "name": "stdout",
     "output_type": "stream",
     "text": [
      "Epoch  169 , loss 0.39073244847503363\n",
      "Epoch  170 , loss 0.3836069814130372\n"
     ]
    },
    {
     "name": "stderr",
     "output_type": "stream",
     "text": [
      "\r",
      "Iterations:  57%|██████████████████▊              | 171/300 [03:36<02:49,  1.32s/it]"
     ]
    },
    {
     "name": "stdout",
     "output_type": "stream",
     "text": [
      "Epoch:  170\n",
      "t_loss:  0.3836069814130372 , v_loss:  0.7284116993347803\n",
      "t_acc:  0.7267623206487835 , v_acc:  0.7023809523809523\n",
      "t_recall:  0.5640496960084589 , v_recall:  0.5486464315012305\n",
      "t_prec:  0.7419360440380992 , v_prec:  0.671685002895194\n",
      "t_f:  0.5408645907786314 , v_f:  0.5174632352941176\n",
      "////////\n"
     ]
    },
    {
     "name": "stderr",
     "output_type": "stream",
     "text": [
      "\r",
      "Iterations:  57%|██████████████████▉              | 172/300 [03:37<02:34,  1.21s/it]"
     ]
    },
    {
     "name": "stdout",
     "output_type": "stream",
     "text": [
      "Epoch  171 , loss 0.3947443827694538\n",
      "Epoch  172 , loss 0.3960692339083728\n"
     ]
    },
    {
     "name": "stderr",
     "output_type": "stream",
     "text": [
      "\r",
      "Iterations:  58%|███████████████████              | 173/300 [03:39<02:46,  1.31s/it]"
     ]
    },
    {
     "name": "stdout",
     "output_type": "stream",
     "text": [
      "Epoch:  172\n",
      "t_loss:  0.3960692339083728 , v_loss:  0.7215996434291204\n",
      "t_acc:  0.7233312538989395 , v_acc:  0.7083333333333334\n",
      "t_recall:  0.5572538473031525 , v_recall:  0.5580803937653814\n",
      "t_prec:  0.7386518679768821 , v_prec:  0.6891025641025641\n",
      "t_f:  0.5291036280283592 , v_f:  0.5326710190178825\n",
      "////////\n"
     ]
    },
    {
     "name": "stderr",
     "output_type": "stream",
     "text": [
      "\r",
      "Iterations:  58%|███████████████████▏             | 174/300 [03:40<02:34,  1.22s/it]"
     ]
    },
    {
     "name": "stdout",
     "output_type": "stream",
     "text": [
      "Epoch  173 , loss 0.39062511979364883\n",
      "Epoch  174 , loss 0.39192946751912433\n"
     ]
    },
    {
     "name": "stderr",
     "output_type": "stream",
     "text": [
      "\r",
      "Iterations:  58%|███████████████████▎             | 175/300 [03:41<02:45,  1.32s/it]"
     ]
    },
    {
     "name": "stdout",
     "output_type": "stream",
     "text": [
      "Epoch:  174\n",
      "t_loss:  0.39192946751912433 , v_loss:  0.7217739919821421\n",
      "t_acc:  0.7283218964441672 , v_acc:  0.7083333333333334\n",
      "t_recall:  0.5677686216368422 , v_recall:  0.5580803937653814\n",
      "t_prec:  0.7407088085067471 , v_prec:  0.6891025641025641\n",
      "t_f:  0.5473973075220591 , v_f:  0.5326710190178825\n",
      "////////\n"
     ]
    },
    {
     "name": "stderr",
     "output_type": "stream",
     "text": [
      "\r",
      "Iterations:  59%|███████████████████▎             | 176/300 [03:42<02:31,  1.22s/it]"
     ]
    },
    {
     "name": "stdout",
     "output_type": "stream",
     "text": [
      "Epoch  175 , loss 0.39001816277410467\n",
      "Epoch  176 , loss 0.3832453641236997\n"
     ]
    },
    {
     "name": "stderr",
     "output_type": "stream",
     "text": [
      "\r",
      "Iterations:  59%|███████████████████▍             | 177/300 [03:44<02:43,  1.33s/it]"
     ]
    },
    {
     "name": "stdout",
     "output_type": "stream",
     "text": [
      "Epoch:  176\n",
      "t_loss:  0.3832453641236997 , v_loss:  0.7286577671766281\n",
      "t_acc:  0.7267623206487835 , v_acc:  0.7023809523809523\n",
      "t_recall:  0.5611626383477571 , v_recall:  0.5486464315012305\n",
      "t_prec:  0.7563513396340935 , v_prec:  0.671685002895194\n",
      "t_f:  0.534625961666564 , v_f:  0.5174632352941176\n",
      "////////\n"
     ]
    },
    {
     "name": "stderr",
     "output_type": "stream",
     "text": [
      "\r",
      "Iterations:  59%|███████████████████▌             | 178/300 [03:45<02:27,  1.21s/it]"
     ]
    },
    {
     "name": "stdout",
     "output_type": "stream",
     "text": [
      "Epoch  177 , loss 0.388434722143061\n",
      "Epoch  178 , loss 0.3973453804558399\n"
     ]
    },
    {
     "name": "stderr",
     "output_type": "stream",
     "text": [
      "\r",
      "Iterations:  60%|███████████████████▋             | 179/300 [03:46<02:41,  1.33s/it]"
     ]
    },
    {
     "name": "stdout",
     "output_type": "stream",
     "text": [
      "Epoch:  178\n",
      "t_loss:  0.3973453804558399 , v_loss:  0.7251064330339432\n",
      "t_acc:  0.7233312538989395 , v_acc:  0.7023809523809523\n",
      "t_recall:  0.5569651415370823 , v_recall:  0.5486464315012305\n",
      "t_prec:  0.7400837014647756 , v_prec:  0.671685002895194\n",
      "t_f:  0.5284602240364534 , v_f:  0.5174632352941176\n",
      "////////\n"
     ]
    },
    {
     "name": "stderr",
     "output_type": "stream",
     "text": [
      "\r",
      "Iterations:  60%|███████████████████▊             | 180/300 [03:47<02:25,  1.21s/it]"
     ]
    },
    {
     "name": "stdout",
     "output_type": "stream",
     "text": [
      "Epoch  179 , loss 0.3904944003797045\n",
      "Epoch  180 , loss 0.38706884533166885\n"
     ]
    },
    {
     "name": "stderr",
     "output_type": "stream",
     "text": [
      "\r",
      "Iterations:  60%|███████████████████▉             | 181/300 [03:49<02:40,  1.34s/it]"
     ]
    },
    {
     "name": "stdout",
     "output_type": "stream",
     "text": [
      "Epoch:  180\n",
      "t_loss:  0.38706884533166885 , v_loss:  0.7298013418912888\n",
      "t_acc:  0.7208359326263256 , v_acc:  0.7023809523809523\n",
      "t_recall:  0.5519964601363078 , v_recall:  0.5486464315012305\n",
      "t_prec:  0.7377133249264396 , v_prec:  0.671685002895194\n",
      "t_f:  0.5195947100954642 , v_f:  0.5174632352941176\n",
      "////////\n"
     ]
    },
    {
     "name": "stderr",
     "output_type": "stream",
     "text": [
      "\r",
      "Iterations:  61%|████████████████████             | 182/300 [03:50<02:24,  1.22s/it]"
     ]
    },
    {
     "name": "stdout",
     "output_type": "stream",
     "text": [
      "Epoch  181 , loss 0.39238321488978817\n",
      "Epoch  182 , loss 0.39364302918022753\n"
     ]
    },
    {
     "name": "stderr",
     "output_type": "stream",
     "text": [
      "\r",
      "Iterations:  61%|████████████████████▏            | 183/300 [03:51<02:33,  1.31s/it]"
     ]
    },
    {
     "name": "stdout",
     "output_type": "stream",
     "text": [
      "Epoch:  182\n",
      "t_loss:  0.39364302918022753 , v_loss:  0.7266597797473272\n",
      "t_acc:  0.723955084217093 , v_acc:  0.7083333333333334\n",
      "t_recall:  0.5579907825627234 , v_recall:  0.5580803937653814\n",
      "t_prec:  0.741723643666355 , v_prec:  0.6891025641025641\n",
      "t_f:  0.530165401133143 , v_f:  0.5326710190178825\n",
      "////////\n"
     ]
    },
    {
     "name": "stderr",
     "output_type": "stream",
     "text": [
      "\r",
      "Iterations:  61%|████████████████████▏            | 184/300 [03:52<02:18,  1.20s/it]"
     ]
    },
    {
     "name": "stdout",
     "output_type": "stream",
     "text": [
      "Epoch  183 , loss 0.3845902693037893\n",
      "Epoch  184 , loss 0.3833496992786725\n"
     ]
    },
    {
     "name": "stderr",
     "output_type": "stream",
     "text": [
      "\r",
      "Iterations:  62%|████████████████████▎            | 185/300 [03:54<02:29,  1.30s/it]"
     ]
    },
    {
     "name": "stdout",
     "output_type": "stream",
     "text": [
      "Epoch:  184\n",
      "t_loss:  0.3833496992786725 , v_loss:  0.7320687274138132\n",
      "t_acc:  0.7248908296943232 , v_acc:  0.6964285714285714\n",
      "t_recall:  0.5569308922065533 , v_recall:  0.5392124692370796\n",
      "t_prec:  0.7586992080519248 , v_prec:  0.65126582278481\n",
      "t_f:  0.526901300995824 , v_f:  0.5018315018315018\n",
      "////////\n"
     ]
    },
    {
     "name": "stderr",
     "output_type": "stream",
     "text": [
      "\r",
      "Iterations:  62%|████████████████████▍            | 186/300 [03:55<02:15,  1.19s/it]"
     ]
    },
    {
     "name": "stdout",
     "output_type": "stream",
     "text": [
      "Epoch  185 , loss 0.38418785029766606\n",
      "Epoch  186 , loss 0.39336441544925466\n"
     ]
    },
    {
     "name": "stderr",
     "output_type": "stream",
     "text": [
      "\r",
      "Iterations:  62%|████████████████████▌            | 187/300 [03:56<02:27,  1.30s/it]"
     ]
    },
    {
     "name": "stdout",
     "output_type": "stream",
     "text": [
      "Epoch:  186\n",
      "t_loss:  0.39336441544925466 , v_loss:  0.7260961383581161\n",
      "t_acc:  0.7223955084217093 , v_acc:  0.7083333333333334\n",
      "t_recall:  0.5583137376593226 , v_recall:  0.5580803937653814\n",
      "t_prec:  0.7246830678430546 , v_prec:  0.6891025641025641\n",
      "t_f:  0.5322776821572002 , v_f:  0.5326710190178825\n",
      "////////\n"
     ]
    },
    {
     "name": "stderr",
     "output_type": "stream",
     "text": [
      "\r",
      "Iterations:  63%|████████████████████▋            | 188/300 [03:57<02:16,  1.22s/it]"
     ]
    },
    {
     "name": "stdout",
     "output_type": "stream",
     "text": [
      "Epoch  187 , loss 0.39231670779340405\n",
      "Epoch  188 , loss 0.3968217711822659\n"
     ]
    },
    {
     "name": "stderr",
     "output_type": "stream",
     "text": [
      "\r",
      "Iterations:  63%|████████████████████▊            | 189/300 [03:59<02:28,  1.34s/it]"
     ]
    },
    {
     "name": "stdout",
     "output_type": "stream",
     "text": [
      "Epoch:  188\n",
      "t_loss:  0.3968217711822659 , v_loss:  0.7225976288318634\n",
      "t_acc:  0.7286338116032439 , v_acc:  0.7083333333333334\n",
      "t_recall:  0.5648169729568205 , v_recall:  0.5631665299425759\n",
      "t_prec:  0.7575069631523674 , v_prec:  0.6785714285714286\n",
      "t_f:  0.5409398650677032 , v_f:  0.5432502912944571\n",
      "////////\n"
     ]
    },
    {
     "name": "stderr",
     "output_type": "stream",
     "text": [
      "\r",
      "Iterations:  63%|████████████████████▉            | 190/300 [04:00<02:16,  1.24s/it]"
     ]
    },
    {
     "name": "stdout",
     "output_type": "stream",
     "text": [
      "Epoch  189 , loss 0.39792091647783917\n",
      "Epoch  190 , loss 0.38442472032472197\n"
     ]
    },
    {
     "name": "stderr",
     "output_type": "stream",
     "text": [
      "\r",
      "Iterations:  64%|█████████████████████            | 191/300 [04:01<02:25,  1.34s/it]"
     ]
    },
    {
     "name": "stdout",
     "output_type": "stream",
     "text": [
      "Epoch:  190\n",
      "t_loss:  0.38442472032472197 , v_loss:  0.7203361988067627\n",
      "t_acc:  0.7305053025577043 , v_acc:  0.7023809523809523\n",
      "t_recall:  0.5710696594605156 , v_recall:  0.5588187038556194\n",
      "t_prec:  0.7468058169812556 , v_prec:  0.6562091503267974\n",
      "t_f:  0.5525031534977978 , v_f:  0.5390693590869183\n",
      "////////\n"
     ]
    },
    {
     "name": "stderr",
     "output_type": "stream",
     "text": [
      "\r",
      "Iterations:  64%|█████████████████████            | 192/300 [04:02<02:11,  1.22s/it]"
     ]
    },
    {
     "name": "stdout",
     "output_type": "stream",
     "text": [
      "Epoch  191 , loss 0.3875763422133876\n",
      "Epoch  192 , loss 0.3871906393883275\n"
     ]
    },
    {
     "name": "stderr",
     "output_type": "stream",
     "text": [
      "\r",
      "Iterations:  64%|█████████████████████▏           | 193/300 [04:04<02:19,  1.31s/it]"
     ]
    },
    {
     "name": "stdout",
     "output_type": "stream",
     "text": [
      "Epoch:  192\n",
      "t_loss:  0.3871906393883275 , v_loss:  0.7254476845264435\n",
      "t_acc:  0.7242669993761697 , v_acc:  0.7083333333333334\n",
      "t_recall:  0.5596584261398246 , v_recall:  0.5580803937653814\n",
      "t_prec:  0.7370129217843934 , v_prec:  0.6891025641025641\n",
      "t_f:  0.5335526904825857 , v_f:  0.5326710190178825\n",
      "////////\n"
     ]
    },
    {
     "name": "stderr",
     "output_type": "stream",
     "text": [
      "\r",
      "Iterations:  65%|█████████████████████▎           | 194/300 [04:05<02:06,  1.19s/it]"
     ]
    },
    {
     "name": "stdout",
     "output_type": "stream",
     "text": [
      "Epoch  193 , loss 0.3904530844267677\n",
      "Epoch  194 , loss 0.38549092265905116\n"
     ]
    },
    {
     "name": "stderr",
     "output_type": "stream",
     "text": [
      "\r",
      "Iterations:  65%|█████████████████████▍           | 195/300 [04:06<02:17,  1.31s/it]"
     ]
    },
    {
     "name": "stdout",
     "output_type": "stream",
     "text": [
      "Epoch:  194\n",
      "t_loss:  0.38549092265905116 , v_loss:  0.7192241847515106\n",
      "t_acc:  0.7289457267623206 , v_acc:  0.6964285714285714\n",
      "t_recall:  0.5647523819375007 , v_recall:  0.5493847415914684\n",
      "t_prec:  0.7613268668457691 , v_prec:  0.6396103896103895\n",
      "t_f:  0.5405367117733331 , v_f:  0.5246074460411696\n",
      "////////\n"
     ]
    },
    {
     "name": "stderr",
     "output_type": "stream",
     "text": [
      "\r",
      "Iterations:  65%|█████████████████████▌           | 196/300 [04:07<02:07,  1.22s/it]"
     ]
    },
    {
     "name": "stdout",
     "output_type": "stream",
     "text": [
      "Epoch  195 , loss 0.39074376692958906\n",
      "Epoch  196 , loss 0.3940101400309918\n"
     ]
    },
    {
     "name": "stderr",
     "output_type": "stream",
     "text": [
      "\r",
      "Iterations:  66%|█████████████████████▋           | 197/300 [04:09<02:15,  1.32s/it]"
     ]
    },
    {
     "name": "stdout",
     "output_type": "stream",
     "text": [
      "Epoch:  196\n",
      "t_loss:  0.3940101400309918 , v_loss:  0.7252803345521291\n",
      "t_acc:  0.7311291328758578 , v_acc:  0.6964285714285714\n",
      "t_recall:  0.5697856543575952 , v_recall:  0.5493847415914684\n",
      "t_prec:  0.7585383508332695 , v_prec:  0.6396103896103895\n",
      "t_f:  0.5494034051073349 , v_f:  0.5246074460411696\n",
      "////////\n"
     ]
    },
    {
     "name": "stderr",
     "output_type": "stream",
     "text": [
      "\r",
      "Iterations:  66%|█████████████████████▊           | 198/300 [04:10<02:04,  1.22s/it]"
     ]
    },
    {
     "name": "stdout",
     "output_type": "stream",
     "text": [
      "Epoch  197 , loss 0.38459766787641186\n",
      "Epoch  198 , loss 0.3879985330151577\n"
     ]
    },
    {
     "name": "stderr",
     "output_type": "stream",
     "text": [
      "\r",
      "Iterations:  66%|█████████████████████▉           | 199/300 [04:12<02:12,  1.31s/it]"
     ]
    },
    {
     "name": "stdout",
     "output_type": "stream",
     "text": [
      "Epoch:  198\n",
      "t_loss:  0.3879985330151577 , v_loss:  0.7248175938924154\n",
      "t_acc:  0.7264504054897069 , v_acc:  0.7083333333333334\n",
      "t_recall:  0.5626707581974278 , v_recall:  0.5631665299425759\n",
      "t_prec:  0.7451640865536788 , v_prec:  0.6785714285714286\n",
      "t_f:  0.5381804916275296 , v_f:  0.5432502912944571\n",
      "////////\n"
     ]
    },
    {
     "name": "stderr",
     "output_type": "stream",
     "text": [
      "\r",
      "Iterations:  67%|██████████████████████           | 200/300 [04:12<02:00,  1.20s/it]"
     ]
    },
    {
     "name": "stdout",
     "output_type": "stream",
     "text": [
      "Epoch  199 , loss 0.3811991695387691\n",
      "Epoch  200 , loss 0.38716599111463507\n"
     ]
    },
    {
     "name": "stderr",
     "output_type": "stream",
     "text": [
      "\r",
      "Iterations:  67%|██████████████████████           | 201/300 [04:14<02:09,  1.31s/it]"
     ]
    },
    {
     "name": "stdout",
     "output_type": "stream",
     "text": [
      "Epoch:  200\n",
      "t_loss:  0.38716599111463507 , v_loss:  0.7316133876641592\n",
      "t_acc:  0.7305053025577043 , v_acc:  0.7023809523809523\n",
      "t_recall:  0.5684713075658839 , v_recall:  0.5486464315012305\n",
      "t_prec:  0.7586378751964435 , v_prec:  0.671685002895194\n",
      "t_f:  0.5471541169323486 , v_f:  0.5174632352941176\n",
      "////////\n"
     ]
    },
    {
     "name": "stderr",
     "output_type": "stream",
     "text": [
      "\r",
      "Iterations:  67%|██████████████████████▏          | 202/300 [04:15<01:57,  1.20s/it]"
     ]
    },
    {
     "name": "stdout",
     "output_type": "stream",
     "text": [
      "Epoch  201 , loss 0.3927810700500713\n",
      "Epoch  202 , loss 0.3922949281393313\n"
     ]
    },
    {
     "name": "stderr",
     "output_type": "stream",
     "text": [
      "\r",
      "Iterations:  68%|██████████████████████▎          | 203/300 [04:17<02:09,  1.33s/it]"
     ]
    },
    {
     "name": "stdout",
     "output_type": "stream",
     "text": [
      "Epoch:  202\n",
      "t_loss:  0.3922949281393313 , v_loss:  0.7348632017771403\n",
      "t_acc:  0.7267623206487835 , v_acc:  0.7023809523809523\n",
      "t_recall:  0.5623174614120379 , v_recall:  0.5486464315012305\n",
      "t_prec:  0.7501776377592357 , v_prec:  0.671685002895194\n",
      "t_f:  0.5371489709828977 , v_f:  0.5174632352941176\n",
      "////////\n"
     ]
    },
    {
     "name": "stderr",
     "output_type": "stream",
     "text": [
      "\r",
      "Iterations:  68%|██████████████████████▍          | 204/300 [04:18<01:56,  1.21s/it]"
     ]
    },
    {
     "name": "stdout",
     "output_type": "stream",
     "text": [
      "Epoch  203 , loss 0.3902585483064838\n",
      "Epoch  204 , loss 0.3824831413872102\n"
     ]
    },
    {
     "name": "stderr",
     "output_type": "stream",
     "text": [
      "\r",
      "Iterations:  68%|██████████████████████▌          | 205/300 [04:19<02:05,  1.32s/it]"
     ]
    },
    {
     "name": "stdout",
     "output_type": "stream",
     "text": [
      "Epoch:  204\n",
      "t_loss:  0.3824831413872102 , v_loss:  0.7268295884132385\n",
      "t_acc:  0.7314410480349345 , v_acc:  0.7083333333333334\n",
      "t_recall:  0.569143651806135 , v_recall:  0.5631665299425759\n",
      "t_prec:  0.7650814968345953 , v_prec:  0.6785714285714286\n",
      "t_f:  0.5478210073834643 , v_f:  0.5432502912944571\n",
      "////////\n"
     ]
    },
    {
     "name": "stderr",
     "output_type": "stream",
     "text": [
      "\r",
      "Iterations:  69%|██████████████████████▋          | 206/300 [04:20<01:53,  1.20s/it]"
     ]
    },
    {
     "name": "stdout",
     "output_type": "stream",
     "text": [
      "Epoch  205 , loss 0.3892782616849039\n",
      "Epoch  206 , loss 0.3844521238523371\n"
     ]
    },
    {
     "name": "stderr",
     "output_type": "stream",
     "text": [
      "\r",
      "Iterations:  69%|██████████████████████▊          | 207/300 [04:22<02:02,  1.31s/it]"
     ]
    },
    {
     "name": "stdout",
     "output_type": "stream",
     "text": [
      "Epoch:  206\n",
      "t_loss:  0.3844521238523371 , v_loss:  0.732132171591123\n",
      "t_acc:  0.7311291328758578 , v_acc:  0.7023809523809523\n",
      "t_recall:  0.5680534197611741 , v_recall:  0.5588187038556194\n",
      "t_prec:  0.7675869336905221 , v_prec:  0.6562091503267974\n",
      "t_f:  0.5457738260774093 , v_f:  0.5390693590869183\n",
      "////////\n"
     ]
    },
    {
     "name": "stderr",
     "output_type": "stream",
     "text": [
      "\r",
      "Iterations:  69%|██████████████████████▉          | 208/300 [04:23<01:50,  1.20s/it]"
     ]
    },
    {
     "name": "stdout",
     "output_type": "stream",
     "text": [
      "Epoch  207 , loss 0.39248046863312813\n",
      "Epoch  208 , loss 0.38761069611007093\n"
     ]
    },
    {
     "name": "stderr",
     "output_type": "stream",
     "text": [
      "\r",
      "Iterations:  70%|██████████████████████▉          | 209/300 [04:24<01:58,  1.30s/it]"
     ]
    },
    {
     "name": "stdout",
     "output_type": "stream",
     "text": [
      "Epoch:  208\n",
      "t_loss:  0.38761069611007093 , v_loss:  0.7332814733187357\n",
      "t_acc:  0.7348721147847785 , v_acc:  0.7023809523809523\n",
      "t_recall:  0.575362088979301 , v_recall:  0.5486464315012305\n",
      "t_prec:  0.7689092516678724 , v_prec:  0.671685002895194\n",
      "t_f:  0.5580191681269069 , v_f:  0.5174632352941176\n",
      "////////\n"
     ]
    },
    {
     "name": "stderr",
     "output_type": "stream",
     "text": [
      "\r",
      "Iterations:  70%|███████████████████████          | 210/300 [04:25<01:49,  1.21s/it]"
     ]
    },
    {
     "name": "stdout",
     "output_type": "stream",
     "text": [
      "Epoch  209 , loss 0.38620508243055907\n",
      "Epoch  210 , loss 0.39159728382147996\n"
     ]
    },
    {
     "name": "stderr",
     "output_type": "stream",
     "text": [
      "\r",
      "Iterations:  70%|███████████████████████▏         | 211/300 [04:27<01:59,  1.34s/it]"
     ]
    },
    {
     "name": "stdout",
     "output_type": "stream",
     "text": [
      "Epoch:  210\n",
      "t_loss:  0.39159728382147996 , v_loss:  0.7347094863653183\n",
      "t_acc:  0.7326887086712415 , v_acc:  0.7023809523809523\n",
      "t_recall:  0.5735045799859785 , v_recall:  0.5486464315012305\n",
      "t_prec:  0.7564033073330938 , v_prec:  0.671685002895194\n",
      "t_f:  0.5558384566725624 , v_f:  0.5174632352941176\n",
      "////////\n"
     ]
    },
    {
     "name": "stderr",
     "output_type": "stream",
     "text": [
      "\r",
      "Iterations:  71%|███████████████████████▎         | 212/300 [04:28<01:48,  1.24s/it]"
     ]
    },
    {
     "name": "stdout",
     "output_type": "stream",
     "text": [
      "Epoch  211 , loss 0.39426402776849034\n",
      "Epoch  212 , loss 0.3815099024305157\n"
     ]
    },
    {
     "name": "stderr",
     "output_type": "stream",
     "text": [
      "\r",
      "Iterations:  71%|███████████████████████▍         | 213/300 [04:29<01:56,  1.34s/it]"
     ]
    },
    {
     "name": "stdout",
     "output_type": "stream",
     "text": [
      "Epoch:  212\n",
      "t_loss:  0.3815099024305157 , v_loss:  0.7355045974254608\n",
      "t_acc:  0.7317529631940112 , v_acc:  0.6904761904761905\n",
      "t_recall:  0.571966118447517 , v_recall:  0.5297785069729286\n",
      "t_prec:  0.7544558317959054 , v_prec:  0.6268343815513626\n",
      "t_f:  0.5534066759964754 , v_f:  0.4857546503414175\n",
      "////////\n"
     ]
    },
    {
     "name": "stderr",
     "output_type": "stream",
     "text": [
      "\r",
      "Iterations:  71%|███████████████████████▌         | 214/300 [04:30<01:45,  1.22s/it]"
     ]
    },
    {
     "name": "stdout",
     "output_type": "stream",
     "text": [
      "Epoch  213 , loss 0.38721702583864626\n",
      "Epoch  214 , loss 0.38658364555414987\n"
     ]
    },
    {
     "name": "stderr",
     "output_type": "stream",
     "text": [
      "\r",
      "Iterations:  72%|███████████████████████▋         | 215/300 [04:32<01:51,  1.32s/it]"
     ]
    },
    {
     "name": "stdout",
     "output_type": "stream",
     "text": [
      "Epoch:  214\n",
      "t_loss:  0.38658364555414987 , v_loss:  0.7251360267400742\n",
      "t_acc:  0.7348721147847785 , v_acc:  0.6964285714285714\n",
      "t_recall:  0.5768056178096519 , v_recall:  0.5493847415914684\n",
      "t_prec:  0.762066104164804 , v_prec:  0.6396103896103895\n",
      "t_f:  0.5609006089480821 , v_f:  0.5246074460411696\n",
      "////////\n"
     ]
    },
    {
     "name": "stderr",
     "output_type": "stream",
     "text": [
      "\r",
      "Iterations:  72%|███████████████████████▊         | 216/300 [04:33<01:40,  1.20s/it]"
     ]
    },
    {
     "name": "stdout",
     "output_type": "stream",
     "text": [
      "Epoch  215 , loss 0.3781778911749522\n",
      "Epoch  216 , loss 0.3832715548136655\n"
     ]
    },
    {
     "name": "stderr",
     "output_type": "stream",
     "text": [
      "\r",
      "Iterations:  72%|███████████████████████▊         | 217/300 [04:34<01:48,  1.31s/it]"
     ]
    },
    {
     "name": "stdout",
     "output_type": "stream",
     "text": [
      "Epoch:  216\n",
      "t_loss:  0.3832715548136655 , v_loss:  0.7317700485388438\n",
      "t_acc:  0.7311291328758578 , v_acc:  0.6964285714285714\n",
      "t_recall:  0.5720953004861566 , v_recall:  0.544298605414274\n",
      "t_prec:  0.7481600455735864 , v_prec:  0.6442307692307693\n",
      "t_f:  0.5541213377915197 , v_f:  0.5135963667328982\n",
      "////////\n"
     ]
    },
    {
     "name": "stderr",
     "output_type": "stream",
     "text": [
      "\r",
      "Iterations:  73%|███████████████████████▉         | 218/300 [04:35<01:37,  1.19s/it]"
     ]
    },
    {
     "name": "stdout",
     "output_type": "stream",
     "text": [
      "Epoch  217 , loss 0.3827926218509674\n",
      "Epoch  218 , loss 0.3843865508542341\n"
     ]
    },
    {
     "name": "stderr",
     "output_type": "stream",
     "text": [
      "\r",
      "Iterations:  73%|████████████████████████         | 219/300 [04:37<01:44,  1.30s/it]"
     ]
    },
    {
     "name": "stdout",
     "output_type": "stream",
     "text": [
      "Epoch:  218\n",
      "t_loss:  0.3843865508542341 , v_loss:  0.7248010089000066\n",
      "t_acc:  0.7289457267623206 , v_acc:  0.7023809523809523\n",
      "t_recall:  0.5687942626624832 , v_recall:  0.5588187038556194\n",
      "t_prec:  0.7421407766990291 , v_prec:  0.6562091503267974\n",
      "t_f:  0.5490289359774846 , v_f:  0.5390693590869183\n",
      "////////\n"
     ]
    },
    {
     "name": "stderr",
     "output_type": "stream",
     "text": [
      "\r",
      "Iterations:  73%|████████████████████████▏        | 220/300 [04:38<01:37,  1.21s/it]"
     ]
    },
    {
     "name": "stdout",
     "output_type": "stream",
     "text": [
      "Epoch  219 , loss 0.3870451558454364\n",
      "Epoch  220 , loss 0.38096921817929136\n"
     ]
    },
    {
     "name": "stderr",
     "output_type": "stream",
     "text": [
      "\r",
      "Iterations:  74%|████████████████████████▎        | 221/300 [04:39<01:43,  1.31s/it]"
     ]
    },
    {
     "name": "stdout",
     "output_type": "stream",
     "text": [
      "Epoch:  220\n",
      "t_loss:  0.38096921817929136 , v_loss:  0.7345605144898096\n",
      "t_acc:  0.7345601996257018 , v_acc:  0.7023809523809523\n",
      "t_recall:  0.5734057396361296 , v_recall:  0.5537325676784249\n",
      "t_prec:  0.7759241594779915 , v_prec:  0.6625310173697271\n",
      "t_f:  0.554265007764362 , v_f:  0.5286195286195287\n",
      "////////\n"
     ]
    },
    {
     "name": "stderr",
     "output_type": "stream",
     "text": [
      "\r",
      "Iterations:  74%|████████████████████████▍        | 222/300 [04:40<01:33,  1.20s/it]"
     ]
    },
    {
     "name": "stdout",
     "output_type": "stream",
     "text": [
      "Epoch  221 , loss 0.3898865300066331\n",
      "Epoch  222 , loss 0.3833475495670356\n"
     ]
    },
    {
     "name": "stderr",
     "output_type": "stream",
     "text": [
      "\r",
      "Iterations:  74%|████████████████████████▌        | 223/300 [04:42<01:40,  1.31s/it]"
     ]
    },
    {
     "name": "stdout",
     "output_type": "stream",
     "text": [
      "Epoch:  222\n",
      "t_loss:  0.3833475495670356 , v_loss:  0.7419908493757248\n",
      "t_acc:  0.7386150966936993 , v_acc:  0.6785714285714286\n",
      "t_recall:  0.5826707581974279 , v_recall:  0.5210828547990156\n",
      "t_prec:  0.7703323316431377 , v_prec:  0.5744064852345107\n",
      "t_f:  0.5698898496599306 , v_f:  0.478860294117647\n",
      "////////\n"
     ]
    },
    {
     "name": "stderr",
     "output_type": "stream",
     "text": [
      "\r",
      "Iterations:  75%|████████████████████████▋        | 224/300 [04:43<01:31,  1.20s/it]"
     ]
    },
    {
     "name": "stdout",
     "output_type": "stream",
     "text": [
      "Epoch  223 , loss 0.379316602267471\n",
      "Epoch  224 , loss 0.3831479093607734\n"
     ]
    },
    {
     "name": "stderr",
     "output_type": "stream",
     "text": [
      "\r",
      "Iterations:  75%|████████████████████████▊        | 225/300 [04:44<01:39,  1.32s/it]"
     ]
    },
    {
     "name": "stdout",
     "output_type": "stream",
     "text": [
      "Epoch:  224\n",
      "t_loss:  0.3831479093607734 , v_loss:  0.7298779884974161\n",
      "t_acc:  0.7326887086712415 , v_acc:  0.7023809523809523\n",
      "t_recall:  0.5735045799859785 , v_recall:  0.5537325676784249\n",
      "t_prec:  0.7564033073330938 , v_prec:  0.6625310173697271\n",
      "t_f:  0.5558384566725624 , v_f:  0.5286195286195287\n",
      "////////\n"
     ]
    },
    {
     "name": "stderr",
     "output_type": "stream",
     "text": [
      "\r",
      "Iterations:  75%|████████████████████████▊        | 226/300 [04:45<01:29,  1.21s/it]"
     ]
    },
    {
     "name": "stdout",
     "output_type": "stream",
     "text": [
      "Epoch  225 , loss 0.37840040612454506\n",
      "Epoch  226 , loss 0.38350042934511225\n"
     ]
    },
    {
     "name": "stderr",
     "output_type": "stream",
     "text": [
      "\r",
      "Iterations:  76%|████████████████████████▉        | 227/300 [04:47<01:36,  1.33s/it]"
     ]
    },
    {
     "name": "stdout",
     "output_type": "stream",
     "text": [
      "Epoch:  226\n",
      "t_loss:  0.38350042934511225 , v_loss:  0.7357552498579025\n",
      "t_acc:  0.7373674360573924 , v_acc:  0.6964285714285714\n",
      "t_recall:  0.5832178280407774 , v_recall:  0.544298605414274\n",
      "t_prec:  0.757253930559523 , v_prec:  0.6442307692307693\n",
      "t_f:  0.5716787255648641 , v_f:  0.5135963667328982\n",
      "////////\n"
     ]
    },
    {
     "name": "stderr",
     "output_type": "stream",
     "text": [
      "\r",
      "Iterations:  76%|█████████████████████████        | 228/300 [04:48<01:27,  1.21s/it]"
     ]
    },
    {
     "name": "stdout",
     "output_type": "stream",
     "text": [
      "Epoch  227 , loss 0.3888554929518232\n",
      "Epoch  228 , loss 0.37442337517060487\n"
     ]
    },
    {
     "name": "stderr",
     "output_type": "stream",
     "text": [
      "\r",
      "Iterations:  76%|█████████████████████████▏       | 229/300 [04:49<01:32,  1.31s/it]"
     ]
    },
    {
     "name": "stdout",
     "output_type": "stream",
     "text": [
      "Epoch:  228\n",
      "t_loss:  0.37442337517060487 , v_loss:  0.7403175334135691\n",
      "t_acc:  0.7358078602620087 , v_acc:  0.7083333333333334\n",
      "t_recall:  0.5786327851141836 , v_recall:  0.5580803937653814\n",
      "t_prec:  0.7625855102366653 , v_prec:  0.6891025641025641\n",
      "t_f:  0.5638667599703 , v_f:  0.5326710190178825\n",
      "////////\n"
     ]
    },
    {
     "name": "stderr",
     "output_type": "stream",
     "text": [
      "\r",
      "Iterations:  77%|█████████████████████████▎       | 230/300 [04:50<01:23,  1.20s/it]"
     ]
    },
    {
     "name": "stdout",
     "output_type": "stream",
     "text": [
      "Epoch  229 , loss 0.38656846039435444\n",
      "Epoch  230 , loss 0.38089249005504683\n"
     ]
    },
    {
     "name": "stderr",
     "output_type": "stream",
     "text": [
      "\r",
      "Iterations:  77%|█████████████████████████▍       | 231/300 [04:52<01:29,  1.30s/it]"
     ]
    },
    {
     "name": "stdout",
     "output_type": "stream",
     "text": [
      "Epoch:  230\n",
      "t_loss:  0.38089249005504683 , v_loss:  0.7401690681775411\n",
      "t_acc:  0.7333125389893949 , v_acc:  0.7083333333333334\n",
      "t_recall:  0.5771285729062511 , v_recall:  0.5580803937653814\n",
      "t_prec:  0.7470927149977025 , v_prec:  0.6891025641025641\n",
      "t_f:  0.5625689088853983 , v_f:  0.5326710190178825\n",
      "////////\n"
     ]
    },
    {
     "name": "stderr",
     "output_type": "stream",
     "text": [
      "\r",
      "Iterations:  77%|█████████████████████████▌       | 232/300 [04:53<01:21,  1.20s/it]"
     ]
    },
    {
     "name": "stdout",
     "output_type": "stream",
     "text": [
      "Epoch  231 , loss 0.3951182435540592\n",
      "Epoch  232 , loss 0.37927279314574075\n"
     ]
    },
    {
     "name": "stderr",
     "output_type": "stream",
     "text": [
      "\r",
      "Iterations:  78%|█████████████████████████▋       | 233/300 [04:54<01:28,  1.33s/it]"
     ]
    },
    {
     "name": "stdout",
     "output_type": "stream",
     "text": [
      "Epoch:  232\n",
      "t_loss:  0.37927279314574075 , v_loss:  0.7386223673820496\n",
      "t_acc:  0.7383031815346226 , v_acc:  0.6964285714285714\n",
      "t_recall:  0.5810031146203266 , v_recall:  0.544298605414274\n",
      "t_prec:  0.7751886651007047 , v_prec:  0.6442307692307693\n",
      "t_f:  0.5668646813030351 , v_f:  0.5135963667328982\n",
      "////////\n"
     ]
    },
    {
     "name": "stderr",
     "output_type": "stream",
     "text": [
      "\r",
      "Iterations:  78%|█████████████████████████▋       | 234/300 [04:55<01:21,  1.23s/it]"
     ]
    },
    {
     "name": "stdout",
     "output_type": "stream",
     "text": [
      "Epoch  233 , loss 0.3866030211542167\n",
      "Epoch  234 , loss 0.3825481493099063\n"
     ]
    },
    {
     "name": "stderr",
     "output_type": "stream",
     "text": [
      "\r",
      "Iterations:  78%|█████████████████████████▊       | 235/300 [04:57<01:27,  1.34s/it]"
     ]
    },
    {
     "name": "stdout",
     "output_type": "stream",
     "text": [
      "Epoch:  234\n",
      "t_loss:  0.3825481493099063 , v_loss:  0.7275819033384323\n",
      "t_acc:  0.734248284466625 , v_acc:  0.7083333333333334\n",
      "t_recall:  0.577512211380432 , v_recall:  0.5631665299425759\n",
      "t_prec:  0.7534639489243231 , v_prec:  0.6785714285714286\n",
      "t_f:  0.5627042385563973 , v_f:  0.5432502912944571\n",
      "////////\n"
     ]
    },
    {
     "name": "stderr",
     "output_type": "stream",
     "text": [
      "\r",
      "Iterations:  79%|█████████████████████████▉       | 236/300 [04:58<01:18,  1.23s/it]"
     ]
    },
    {
     "name": "stdout",
     "output_type": "stream",
     "text": [
      "Epoch  235 , loss 0.37601188146600534\n",
      "Epoch  236 , loss 0.386971336369421\n"
     ]
    },
    {
     "name": "stderr",
     "output_type": "stream",
     "text": [
      "\r",
      "Iterations:  79%|██████████████████████████       | 237/300 [05:00<01:23,  1.32s/it]"
     ]
    },
    {
     "name": "stdout",
     "output_type": "stream",
     "text": [
      "Epoch:  236\n",
      "t_loss:  0.386971336369421 , v_loss:  0.734594797094663\n",
      "t_acc:  0.7376793512164691 , v_acc:  0.6964285714285714\n",
      "t_recall:  0.580554885126826 , v_recall:  0.544298605414274\n",
      "t_prec:  0.7713133283785458 , v_prec:  0.6442307692307693\n",
      "t_f:  0.5663952220341189 , v_f:  0.5135963667328982\n",
      "////////\n"
     ]
    },
    {
     "name": "stderr",
     "output_type": "stream",
     "text": [
      "\r",
      "Iterations:  79%|██████████████████████████▏      | 238/300 [05:00<01:14,  1.20s/it]"
     ]
    },
    {
     "name": "stdout",
     "output_type": "stream",
     "text": [
      "Epoch  237 , loss 0.3746820635655347\n",
      "Epoch  238 , loss 0.38141922974118997\n"
     ]
    },
    {
     "name": "stderr",
     "output_type": "stream",
     "text": [
      "\r",
      "Iterations:  80%|██████████████████████████▎      | 239/300 [05:02<01:19,  1.30s/it]"
     ]
    },
    {
     "name": "stdout",
     "output_type": "stream",
     "text": [
      "Epoch:  238\n",
      "t_loss:  0.38141922974118997 , v_loss:  0.7240582505861918\n",
      "t_acc:  0.7404865876481597 , v_acc:  0.7083333333333334\n",
      "t_recall:  0.5845928582100702 , v_recall:  0.5682526661197703\n",
      "t_prec:  0.7789338851118337 , v_prec:  0.6710526315789473\n",
      "t_f:  0.5724193118164844 , v_f:  0.5531672366064159\n",
      "////////\n"
     ]
    },
    {
     "name": "stderr",
     "output_type": "stream",
     "text": [
      "\r",
      "Iterations:  80%|██████████████████████████▍      | 240/300 [05:03<01:11,  1.18s/it]"
     ]
    },
    {
     "name": "stdout",
     "output_type": "stream",
     "text": [
      "Epoch  239 , loss 0.3823952166473164\n",
      "Epoch  240 , loss 0.3800152537285113\n"
     ]
    },
    {
     "name": "stderr",
     "output_type": "stream",
     "text": [
      "\r",
      "Iterations:  80%|██████████████████████████▌      | 241/300 [05:04<01:16,  1.29s/it]"
     ]
    },
    {
     "name": "stdout",
     "output_type": "stream",
     "text": [
      "Epoch:  240\n",
      "t_loss:  0.3800152537285113 , v_loss:  0.7299014379580816\n",
      "t_acc:  0.7317529631940112 , v_acc:  0.7142857142857143\n",
      "t_recall:  0.5745644703421485 , v_recall:  0.5726004922067268\n",
      "t_prec:  0.7438248730850003 , v_prec:  0.6928104575163399\n",
      "t_f:  0.5585981750686639 , v_f:  0.5575065847234416\n",
      "////////\n"
     ]
    },
    {
     "name": "stderr",
     "output_type": "stream",
     "text": [
      "\r",
      "Iterations:  81%|██████████████████████████▌      | 242/300 [05:05<01:09,  1.21s/it]"
     ]
    },
    {
     "name": "stdout",
     "output_type": "stream",
     "text": [
      "Epoch  241 , loss 0.3794853576258117\n",
      "Epoch  242 , loss 0.3821655763130562\n"
     ]
    },
    {
     "name": "stderr",
     "output_type": "stream",
     "text": [
      "\r",
      "Iterations:  81%|██████████████████████████▋      | 243/300 [05:07<01:14,  1.31s/it]"
     ]
    },
    {
     "name": "stdout",
     "output_type": "stream",
     "text": [
      "Epoch:  242\n",
      "t_loss:  0.3821655763130562 , v_loss:  0.7375737577676773\n",
      "t_acc:  0.7286338116032439 , v_acc:  0.6964285714285714\n",
      "t_recall:  0.5682814421496627 , v_recall:  0.544298605414274\n",
      "t_prec:  0.7414276541965686 , v_prec:  0.6442307692307693\n",
      "t_f:  0.5482137303685274 , v_f:  0.5135963667328982\n",
      "////////\n"
     ]
    },
    {
     "name": "stderr",
     "output_type": "stream",
     "text": [
      "\r",
      "Iterations:  81%|██████████████████████████▊      | 244/300 [05:08<01:07,  1.21s/it]"
     ]
    },
    {
     "name": "stdout",
     "output_type": "stream",
     "text": [
      "Epoch  243 , loss 0.3751990602296941\n",
      "Epoch  244 , loss 0.37885642314658446\n"
     ]
    },
    {
     "name": "stderr",
     "output_type": "stream",
     "text": [
      "\r",
      "Iterations:  82%|██████████████████████████▉      | 245/300 [05:10<01:12,  1.31s/it]"
     ]
    },
    {
     "name": "stdout",
     "output_type": "stream",
     "text": [
      "Epoch:  244\n",
      "t_loss:  0.37885642314658446 , v_loss:  0.733936071395874\n",
      "t_acc:  0.734248284466625 , v_acc:  0.6964285714285714\n",
      "t_recall:  0.5754912710179407 , v_recall:  0.544298605414274\n",
      "t_prec:  0.7621608849679025 , v_prec:  0.6442307692307693\n",
      "t_f:  0.558718387476995 , v_f:  0.5135963667328982\n",
      "////////\n"
     ]
    },
    {
     "name": "stderr",
     "output_type": "stream",
     "text": [
      "\r",
      "Iterations:  82%|███████████████████████████      | 246/300 [05:10<01:04,  1.20s/it]"
     ]
    },
    {
     "name": "stdout",
     "output_type": "stream",
     "text": [
      "Epoch  245 , loss 0.37956302452321145\n",
      "Epoch  246 , loss 0.38178813165309383\n"
     ]
    },
    {
     "name": "stderr",
     "output_type": "stream",
     "text": [
      "\r",
      "Iterations:  82%|███████████████████████████▏     | 247/300 [05:12<01:10,  1.33s/it]"
     ]
    },
    {
     "name": "stdout",
     "output_type": "stream",
     "text": [
      "Epoch:  246\n",
      "t_loss:  0.38178813165309383 , v_loss:  0.7281380693117777\n",
      "t_acc:  0.7426699937616968 , v_acc:  0.7023809523809523\n",
      "t_recall:  0.5890487190980244 , v_recall:  0.5537325676784249\n",
      "t_prec:  0.7785269351554681 , v_prec:  0.6625310173697271\n",
      "t_f:  0.5795277490701346 , v_f:  0.5286195286195287\n",
      "////////\n"
     ]
    },
    {
     "name": "stderr",
     "output_type": "stream",
     "text": [
      "\r",
      "Iterations:  83%|███████████████████████████▎     | 248/300 [05:13<01:03,  1.22s/it]"
     ]
    },
    {
     "name": "stdout",
     "output_type": "stream",
     "text": [
      "Epoch  247 , loss 0.38573038724123265\n",
      "Epoch  248 , loss 0.373654786862579\n"
     ]
    },
    {
     "name": "stderr",
     "output_type": "stream",
     "text": [
      "\r",
      "Iterations:  83%|███████████████████████████▍     | 249/300 [05:15<01:08,  1.35s/it]"
     ]
    },
    {
     "name": "stdout",
     "output_type": "stream",
     "text": [
      "Epoch:  248\n",
      "t_loss:  0.373654786862579 , v_loss:  0.730022981762886\n",
      "t_acc:  0.7358078602620087 , v_acc:  0.6964285714285714\n",
      "t_recall:  0.5803650197106046 , v_recall:  0.5493847415914684\n",
      "t_prec:  0.7553938756428238 , v_prec:  0.6396103896103895\n",
      "t_f:  0.5672148966400958 , v_f:  0.5246074460411696\n",
      "////////\n"
     ]
    },
    {
     "name": "stderr",
     "output_type": "stream",
     "text": [
      "\r",
      "Iterations:  83%|███████████████████████████▌     | 250/300 [05:16<01:01,  1.22s/it]"
     ]
    },
    {
     "name": "stdout",
     "output_type": "stream",
     "text": [
      "Epoch  249 , loss 0.3768049127915326\n",
      "Epoch  250 , loss 0.37306350002101824\n"
     ]
    },
    {
     "name": "stderr",
     "output_type": "stream",
     "text": [
      "\r",
      "Iterations:  84%|███████████████████████████▌     | 251/300 [05:17<01:05,  1.33s/it]"
     ]
    },
    {
     "name": "stdout",
     "output_type": "stream",
     "text": [
      "Epoch:  250\n",
      "t_loss:  0.37306350002101824 , v_loss:  0.7283921241760254\n",
      "t_acc:  0.7407985028072365 , v_acc:  0.7023809523809523\n",
      "t_recall:  0.5853943844889609 , v_recall:  0.5537325676784249\n",
      "t_prec:  0.7780851777330651 , v_prec:  0.6625310173697271\n",
      "t_f:  0.5737566329892853 , v_f:  0.5286195286195287\n",
      "////////\n"
     ]
    },
    {
     "name": "stderr",
     "output_type": "stream",
     "text": [
      "\r",
      "Iterations:  84%|███████████████████████████▋     | 252/300 [05:18<00:58,  1.21s/it]"
     ]
    },
    {
     "name": "stdout",
     "output_type": "stream",
     "text": [
      "Epoch  251 , loss 0.3798588187086816\n",
      "Epoch  252 , loss 0.3786149661914975\n"
     ]
    },
    {
     "name": "stderr",
     "output_type": "stream",
     "text": [
      "\r",
      "Iterations:  84%|███████████████████████████▊     | 253/300 [05:20<01:01,  1.30s/it]"
     ]
    },
    {
     "name": "stdout",
     "output_type": "stream",
     "text": [
      "Epoch:  252\n",
      "t_loss:  0.3786149661914975 , v_loss:  0.7298120707273483\n",
      "t_acc:  0.7383031815346226 , v_acc:  0.6964285714285714\n",
      "t_recall:  0.5824466434506775 , v_recall:  0.5493847415914684\n",
      "t_prec:  0.7684859154929577 , v_prec:  0.6396103896103895\n",
      "t_f:  0.569653207073418 , v_f:  0.5246074460411696\n",
      "////////\n"
     ]
    },
    {
     "name": "stderr",
     "output_type": "stream",
     "text": [
      "\r",
      "Iterations:  85%|███████████████████████████▉     | 254/300 [05:21<00:55,  1.21s/it]"
     ]
    },
    {
     "name": "stdout",
     "output_type": "stream",
     "text": [
      "Epoch  253 , loss 0.3760063619005914\n",
      "Epoch  254 , loss 0.38915607859106627\n"
     ]
    },
    {
     "name": "stderr",
     "output_type": "stream",
     "text": [
      "\r",
      "Iterations:  85%|████████████████████████████     | 255/300 [05:22<00:59,  1.33s/it]"
     ]
    },
    {
     "name": "stdout",
     "output_type": "stream",
     "text": [
      "Epoch:  254\n",
      "t_loss:  0.38915607859106627 , v_loss:  0.7284220606088638\n",
      "t_acc:  0.7389270118527761 , v_acc:  0.7142857142857143\n",
      "t_recall:  0.5831835787102484 , v_recall:  0.5776866283839213\n",
      "t_prec:  0.7708857310529846 , v_prec:  0.6844565640825867\n",
      "t_f:  0.5706790635523848 , v_f:  0.5669172932330826\n",
      "////////\n"
     ]
    },
    {
     "name": "stderr",
     "output_type": "stream",
     "text": [
      "\r",
      "Iterations:  85%|████████████████████████████▏    | 256/300 [05:23<00:54,  1.24s/it]"
     ]
    },
    {
     "name": "stdout",
     "output_type": "stream",
     "text": [
      "Epoch  255 , loss 0.37797732388272004\n",
      "Epoch  256 , loss 0.37927333747639375\n"
     ]
    },
    {
     "name": "stderr",
     "output_type": "stream",
     "text": [
      "\r",
      "Iterations:  86%|████████████████████████████▎    | 257/300 [05:25<00:58,  1.36s/it]"
     ]
    },
    {
     "name": "stdout",
     "output_type": "stream",
     "text": [
      "Epoch:  256\n",
      "t_loss:  0.37927333747639375 , v_loss:  0.731302465001742\n",
      "t_acc:  0.7411104179663132 , v_acc:  0.7023809523809523\n",
      "t_recall:  0.589949085726764 , v_recall:  0.5537325676784249\n",
      "t_prec:  0.7618888274669426 , v_prec:  0.6625310173697271\n",
      "t_f:  0.5819981049181646 , v_f:  0.5286195286195287\n",
      "////////\n"
     ]
    },
    {
     "name": "stderr",
     "output_type": "stream",
     "text": [
      "\r",
      "Iterations:  86%|████████████████████████████▍    | 258/300 [05:26<00:52,  1.24s/it]"
     ]
    },
    {
     "name": "stdout",
     "output_type": "stream",
     "text": [
      "Epoch  257 , loss 0.38098127175779906\n",
      "Epoch  258 , loss 0.37738767792196837\n"
     ]
    },
    {
     "name": "stderr",
     "output_type": "stream",
     "text": [
      "\r",
      "Iterations:  86%|████████████████████████████▍    | 259/300 [05:28<00:55,  1.34s/it]"
     ]
    },
    {
     "name": "stdout",
     "output_type": "stream",
     "text": [
      "Epoch:  258\n",
      "t_loss:  0.37738767792196837 , v_loss:  0.7302836825450262\n",
      "t_acc:  0.7404865876481597 , v_acc:  0.6964285714285714\n",
      "t_recall:  0.5869025043386317 , v_recall:  0.5493847415914684\n",
      "t_prec:  0.7686444881212757 , v_prec:  0.6396103896103895\n",
      "t_f:  0.5767656765676568 , v_f:  0.5246074460411696\n",
      "////////\n"
     ]
    },
    {
     "name": "stderr",
     "output_type": "stream",
     "text": [
      "\r",
      "Iterations:  87%|████████████████████████████▌    | 260/300 [05:28<00:49,  1.23s/it]"
     ]
    },
    {
     "name": "stdout",
     "output_type": "stream",
     "text": [
      "Epoch  259 , loss 0.3765918606636571\n",
      "Epoch  260 , loss 0.37738261152716246\n"
     ]
    },
    {
     "name": "stderr",
     "output_type": "stream",
     "text": [
      "\r",
      "Iterations:  87%|████████████████████████████▋    | 261/300 [05:30<00:51,  1.32s/it]"
     ]
    },
    {
     "name": "stdout",
     "output_type": "stream",
     "text": [
      "Epoch:  260\n",
      "t_loss:  0.37738261152716246 , v_loss:  0.7301433881123861\n",
      "t_acc:  0.7414223331253899 , v_acc:  0.6964285714285714\n",
      "t_recall:  0.588152260111023 , v_recall:  0.5493847415914684\n",
      "t_prec:  0.7714543364515618 , v_prec:  0.6396103896103895\n",
      "t_f:  0.5785583726466517 , v_f:  0.5246074460411696\n",
      "////////\n"
     ]
    },
    {
     "name": "stderr",
     "output_type": "stream",
     "text": [
      "\r",
      "Iterations:  87%|████████████████████████████▊    | 262/300 [05:31<00:45,  1.21s/it]"
     ]
    },
    {
     "name": "stdout",
     "output_type": "stream",
     "text": [
      "Epoch  261 , loss 0.37947653204787013\n",
      "Epoch  262 , loss 0.3751765238303764\n"
     ]
    },
    {
     "name": "stderr",
     "output_type": "stream",
     "text": [
      "\r",
      "Iterations:  88%|████████████████████████████▉    | 263/300 [05:33<00:48,  1.31s/it]"
     ]
    },
    {
     "name": "stdout",
     "output_type": "stream",
     "text": [
      "Epoch:  262\n",
      "t_loss:  0.3751765238303764 , v_loss:  0.7302246590455373\n",
      "t_acc:  0.7426699937616968 , v_acc:  0.7202380952380952\n",
      "t_recall:  0.5916470709926559 , v_recall:  0.5871205906480722\n",
      "t_prec:  0.7678007221846085 , v_prec:  0.6966666666666667\n",
      "t_f:  0.5842577682000694 , v_f:  0.5803348392240234\n",
      "////////\n"
     ]
    },
    {
     "name": "stderr",
     "output_type": "stream",
     "text": [
      "\r",
      "Iterations:  88%|█████████████████████████████    | 264/300 [05:33<00:43,  1.21s/it]"
     ]
    },
    {
     "name": "stdout",
     "output_type": "stream",
     "text": [
      "Epoch  263 , loss 0.37911298520424785\n",
      "Epoch  264 , loss 0.38289300629905626\n"
     ]
    },
    {
     "name": "stderr",
     "output_type": "stream",
     "text": [
      "\r",
      "Iterations:  88%|█████████████████████████████▏   | 265/300 [05:35<00:46,  1.32s/it]"
     ]
    },
    {
     "name": "stdout",
     "output_type": "stream",
     "text": [
      "Epoch:  264\n",
      "t_loss:  0.38289300629905626 , v_loss:  0.7344529231389364\n",
      "t_acc:  0.7373674360573924 , v_acc:  0.7083333333333334\n",
      "t_recall:  0.5823517107425669 , v_recall:  0.5682526661197703\n",
      "t_prec:  0.7606620830150241 , v_prec:  0.6710526315789473\n",
      "t_f:  0.5700438771694097 , v_f:  0.5531672366064159\n",
      "////////\n"
     ]
    },
    {
     "name": "stderr",
     "output_type": "stream",
     "text": [
      "\r",
      "Iterations:  89%|█████████████████████████████▎   | 266/300 [05:36<00:41,  1.23s/it]"
     ]
    },
    {
     "name": "stdout",
     "output_type": "stream",
     "text": [
      "Epoch  265 , loss 0.377753564247898\n",
      "Epoch  266 , loss 0.3741903772541121\n"
     ]
    },
    {
     "name": "stderr",
     "output_type": "stream",
     "text": [
      "\r",
      "Iterations:  89%|█████████████████████████████▎   | 267/300 [05:38<00:43,  1.32s/it]"
     ]
    },
    {
     "name": "stdout",
     "output_type": "stream",
     "text": [
      "Epoch:  266\n",
      "t_loss:  0.3741903772541121 , v_loss:  0.7365139226118723\n",
      "t_acc:  0.7432938240798502 , v_acc:  0.6964285714285714\n",
      "t_recall:  0.5886308312933145 , v_recall:  0.5493847415914684\n",
      "t_prec:  0.7862623982894814 , v_prec:  0.6396103896103895\n",
      "t_f:  0.5784012906790557 , v_f:  0.5246074460411696\n",
      "////////\n"
     ]
    },
    {
     "name": "stderr",
     "output_type": "stream",
     "text": [
      "\r",
      "Iterations:  89%|█████████████████████████████▍   | 268/300 [05:39<00:38,  1.21s/it]"
     ]
    },
    {
     "name": "stdout",
     "output_type": "stream",
     "text": [
      "Epoch  267 , loss 0.375291400680355\n",
      "Epoch  268 , loss 0.3713011133904551\n"
     ]
    },
    {
     "name": "stderr",
     "output_type": "stream",
     "text": [
      "\r",
      "Iterations:  90%|█████████████████████████████▌   | 269/300 [05:40<00:41,  1.33s/it]"
     ]
    },
    {
     "name": "stdout",
     "output_type": "stream",
     "text": [
      "Epoch:  268\n",
      "t_loss:  0.3713011133904551 , v_loss:  0.7503614475329717\n",
      "t_acc:  0.7442295695570805 , v_acc:  0.6904761904761905\n",
      "t_recall:  0.5919015274281971 , v_recall:  0.534864643150123\n",
      "t_prec:  0.7797597139518448 , v_prec:  0.6230457440648522\n",
      "t_f:  0.5839220959442486 , v_f:  0.4981617647058823\n",
      "////////\n"
     ]
    },
    {
     "name": "stderr",
     "output_type": "stream",
     "text": [
      "\r",
      "Iterations:  90%|█████████████████████████████▋   | 270/300 [05:41<00:36,  1.21s/it]"
     ]
    },
    {
     "name": "stdout",
     "output_type": "stream",
     "text": [
      "Epoch  269 , loss 0.37262975556008954\n",
      "Epoch  270 , loss 0.3804563786469254\n"
     ]
    },
    {
     "name": "stderr",
     "output_type": "stream",
     "text": [
      "\r",
      "Iterations:  90%|█████████████████████████████▊   | 271/300 [05:43<00:39,  1.35s/it]"
     ]
    },
    {
     "name": "stdout",
     "output_type": "stream",
     "text": [
      "Epoch:  270\n",
      "t_loss:  0.3804563786469254 , v_loss:  0.7396045178174973\n",
      "t_acc:  0.7404865876481597 , v_acc:  0.7083333333333334\n",
      "t_recall:  0.5845928582100702 , v_recall:  0.5631665299425759\n",
      "t_prec:  0.7789338851118337 , v_prec:  0.6785714285714286\n",
      "t_f:  0.5724193118164844 , v_f:  0.5432502912944571\n",
      "////////\n"
     ]
    },
    {
     "name": "stderr",
     "output_type": "stream",
     "text": [
      "\r",
      "Iterations:  91%|█████████████████████████████▉   | 272/300 [05:44<00:34,  1.23s/it]"
     ]
    },
    {
     "name": "stdout",
     "output_type": "stream",
     "text": [
      "Epoch  271 , loss 0.3771779791397207\n",
      "Epoch  272 , loss 0.38798880430997584\n"
     ]
    },
    {
     "name": "stderr",
     "output_type": "stream",
     "text": [
      "\r",
      "Iterations:  91%|██████████████████████████████   | 273/300 [05:45<00:35,  1.33s/it]"
     ]
    },
    {
     "name": "stdout",
     "output_type": "stream",
     "text": [
      "Epoch:  272\n",
      "t_loss:  0.38798880430997584 , v_loss:  0.7389915337165197\n",
      "t_acc:  0.7364316905801622 , v_acc:  0.7083333333333334\n",
      "t_recall:  0.5805245434380352 , v_recall:  0.5631665299425759\n",
      "t_prec:  0.7600804775197482 , v_prec:  0.6785714285714286\n",
      "t_f:  0.5671313373314728 , v_f:  0.5432502912944571\n",
      "////////\n"
     ]
    },
    {
     "name": "stderr",
     "output_type": "stream",
     "text": [
      "\r",
      "Iterations:  91%|██████████████████████████████▏  | 274/300 [05:46<00:31,  1.21s/it]"
     ]
    },
    {
     "name": "stdout",
     "output_type": "stream",
     "text": [
      "Epoch  273 , loss 0.3752834463820738\n",
      "Epoch  274 , loss 0.3844449306819953\n"
     ]
    },
    {
     "name": "stderr",
     "output_type": "stream",
     "text": [
      "\r",
      "Iterations:  92%|██████████████████████████████▎  | 275/300 [05:48<00:32,  1.32s/it]"
     ]
    },
    {
     "name": "stdout",
     "output_type": "stream",
     "text": [
      "Epoch:  274\n",
      "t_loss:  0.3844449306819953 , v_loss:  0.7355189969142278\n",
      "t_acc:  0.7439176543980037 , v_acc:  0.7083333333333334\n",
      "t_recall:  0.5916774126814468 , v_recall:  0.5682526661197703\n",
      "t_prec:  0.778018034596982 , v_prec:  0.6710526315789473\n",
      "t_f:  0.5836768651989026 , v_f:  0.5531672366064159\n",
      "////////\n"
     ]
    },
    {
     "name": "stderr",
     "output_type": "stream",
     "text": [
      "\r",
      "Iterations:  92%|██████████████████████████████▎  | 276/300 [05:49<00:28,  1.20s/it]"
     ]
    },
    {
     "name": "stdout",
     "output_type": "stream",
     "text": [
      "Epoch  275 , loss 0.3767230551616818\n",
      "Epoch  276 , loss 0.37878209878416624\n"
     ]
    },
    {
     "name": "stderr",
     "output_type": "stream",
     "text": [
      "\r",
      "Iterations:  92%|██████████████████████████████▍  | 277/300 [05:50<00:30,  1.31s/it]"
     ]
    },
    {
     "name": "stdout",
     "output_type": "stream",
     "text": [
      "Epoch:  276\n",
      "t_loss:  0.37878209878416624 , v_loss:  0.7332926044861475\n",
      "t_acc:  0.748284466625078 , v_acc:  0.7083333333333334\n",
      "t_recall:  0.5988568998609339 , v_recall:  0.5682526661197703\n",
      "t_prec:  0.7847404661016949 , v_prec:  0.6710526315789473\n",
      "t_f:  0.5943369911714224 , v_f:  0.5531672366064159\n",
      "////////\n"
     ]
    },
    {
     "name": "stderr",
     "output_type": "stream",
     "text": [
      "\r",
      "Iterations:  93%|██████████████████████████████▌  | 278/300 [05:51<00:26,  1.20s/it]"
     ]
    },
    {
     "name": "stdout",
     "output_type": "stream",
     "text": [
      "Epoch  277 , loss 0.3791702278688842\n",
      "Epoch  278 , loss 0.37299708057852354\n"
     ]
    },
    {
     "name": "stderr",
     "output_type": "stream",
     "text": [
      "\r",
      "Iterations:  93%|██████████████████████████████▋  | 279/300 [05:53<00:27,  1.32s/it]"
     ]
    },
    {
     "name": "stdout",
     "output_type": "stream",
     "text": [
      "Epoch:  278\n",
      "t_loss:  0.37299708057852354 , v_loss:  0.7316464831431707\n",
      "t_acc:  0.7492202121023082 , v_acc:  0.7083333333333334\n",
      "t_recall:  0.6015501844636761 , v_recall:  0.5682526661197703\n",
      "t_prec:  0.7814971843208918 , v_prec:  0.6710526315789473\n",
      "t_f:  0.5985722161485344 , v_f:  0.5531672366064159\n",
      "////////\n"
     ]
    },
    {
     "name": "stderr",
     "output_type": "stream",
     "text": [
      "\r",
      "Iterations:  93%|██████████████████████████████▊  | 280/300 [05:54<00:24,  1.22s/it]"
     ]
    },
    {
     "name": "stdout",
     "output_type": "stream",
     "text": [
      "Epoch  279 , loss 0.37151148214059715\n",
      "Epoch  280 , loss 0.36950500309467316\n"
     ]
    },
    {
     "name": "stderr",
     "output_type": "stream",
     "text": [
      "\r",
      "Iterations:  94%|██████████████████████████████▉  | 281/300 [05:55<00:25,  1.34s/it]"
     ]
    },
    {
     "name": "stdout",
     "output_type": "stream",
     "text": [
      "Epoch:  280\n",
      "t_loss:  0.36950500309467316 , v_loss:  0.7366630534331003\n",
      "t_acc:  0.7479725514660013 , v_acc:  0.7083333333333334\n",
      "t_recall:  0.6038294889034468 , v_recall:  0.5682526661197703\n",
      "t_prec:  0.7646164246657037 , v_prec:  0.6710526315789473\n",
      "t_f:  0.6028499099744397 , v_f:  0.5531672366064159\n",
      "////////\n"
     ]
    },
    {
     "name": "stderr",
     "output_type": "stream",
     "text": [
      "\r",
      "Iterations:  94%|███████████████████████████████  | 282/300 [05:56<00:22,  1.23s/it]"
     ]
    },
    {
     "name": "stdout",
     "output_type": "stream",
     "text": [
      "Epoch  281 , loss 0.3763853796556884\n",
      "Epoch  282 , loss 0.37022895789613913\n"
     ]
    },
    {
     "name": "stderr",
     "output_type": "stream",
     "text": [
      "\r",
      "Iterations:  94%|███████████████████████████████▏ | 283/300 [05:58<00:23,  1.35s/it]"
     ]
    },
    {
     "name": "stdout",
     "output_type": "stream",
     "text": [
      "Epoch:  282\n",
      "t_loss:  0.37022895789613913 , v_loss:  0.7410687804222107\n",
      "t_acc:  0.7489082969432315 , v_acc:  0.7083333333333334\n",
      "t_recall:  0.603347010079417 , v_recall:  0.5682526661197703\n",
      "t_prec:  0.7726312444819591 , v_prec:  0.6710526315789473\n",
      "t_f:  0.601713623880855 , v_f:  0.5531672366064159\n",
      "////////\n"
     ]
    },
    {
     "name": "stderr",
     "output_type": "stream",
     "text": [
      "\r",
      "Iterations:  95%|███████████████████████████████▏ | 284/300 [05:59<00:19,  1.23s/it]"
     ]
    },
    {
     "name": "stdout",
     "output_type": "stream",
     "text": [
      "Epoch  283 , loss 0.37193506342523236\n",
      "Epoch  284 , loss 0.3843743076511458\n"
     ]
    },
    {
     "name": "stderr",
     "output_type": "stream",
     "text": [
      "\r",
      "Iterations:  95%|███████████████████████████████▎ | 285/300 [06:01<00:19,  1.33s/it]"
     ]
    },
    {
     "name": "stdout",
     "output_type": "stream",
     "text": [
      "Epoch:  284\n",
      "t_loss:  0.3843743076511458 , v_loss:  0.7476783494154612\n",
      "t_acc:  0.7429819089207735 , v_acc:  0.7023809523809523\n",
      "t_recall:  0.5933147145697572 , v_recall:  0.5537325676784249\n",
      "t_prec:  0.7640757436788115 , v_prec:  0.6625310173697271\n",
      "t_f:  0.5870685213807316 , v_f:  0.5286195286195287\n",
      "////////\n"
     ]
    },
    {
     "name": "stderr",
     "output_type": "stream",
     "text": [
      "\r",
      "Iterations:  95%|███████████████████████████████▍ | 286/300 [06:02<00:16,  1.21s/it]"
     ]
    },
    {
     "name": "stdout",
     "output_type": "stream",
     "text": [
      "Epoch  285 , loss 0.37122321946948184\n",
      "Epoch  286 , loss 0.37378038787374307\n"
     ]
    },
    {
     "name": "stderr",
     "output_type": "stream",
     "text": [
      "\r",
      "Iterations:  96%|███████████████████████████████▌ | 287/300 [06:03<00:17,  1.32s/it]"
     ]
    },
    {
     "name": "stdout",
     "output_type": "stream",
     "text": [
      "Epoch:  286\n",
      "t_loss:  0.37378038787374307 , v_loss:  0.7363313883543015\n",
      "t_acc:  0.7420461634435433 , v_acc:  0.7142857142857143\n",
      "t_recall:  0.590910135733085 , v_recall:  0.5776866283839213\n",
      "t_prec:  0.7656473331828781 , v_prec:  0.6844565640825867\n",
      "t_f:  0.5832499082441907 , v_f:  0.5669172932330826\n",
      "////////\n"
     ]
    },
    {
     "name": "stderr",
     "output_type": "stream",
     "text": [
      "\r",
      "Iterations:  96%|███████████████████████████████▋ | 288/300 [06:04<00:14,  1.22s/it]"
     ]
    },
    {
     "name": "stdout",
     "output_type": "stream",
     "text": [
      "Epoch  287 , loss 0.3702402084189303\n",
      "Epoch  288 , loss 0.37304194651398004\n"
     ]
    },
    {
     "name": "stderr",
     "output_type": "stream",
     "text": [
      "\r",
      "Iterations:  96%|███████████████████████████████▊ | 289/300 [06:06<00:14,  1.32s/it]"
     ]
    },
    {
     "name": "stdout",
     "output_type": "stream",
     "text": [
      "Epoch:  288\n",
      "t_loss:  0.37304194651398004 , v_loss:  0.7358024766047796\n",
      "t_acc:  0.7470368059887711 , v_acc:  0.7023809523809523\n",
      "t_recall:  0.5979604408739326 , v_recall:  0.5537325676784249\n",
      "t_prec:  0.7781946837954985 , v_prec:  0.6625310173697271\n",
      "t_f:  0.5933327024936674 , v_f:  0.5286195286195287\n",
      "////////\n"
     ]
    },
    {
     "name": "stderr",
     "output_type": "stream",
     "text": [
      "\r",
      "Iterations:  97%|███████████████████████████████▉ | 290/300 [06:07<00:12,  1.23s/it]"
     ]
    },
    {
     "name": "stdout",
     "output_type": "stream",
     "text": [
      "Epoch  289 , loss 0.3721449097581938\n",
      "Epoch  290 , loss 0.3801327134464301\n"
     ]
    },
    {
     "name": "stderr",
     "output_type": "stream",
     "text": [
      "\r",
      "Iterations:  97%|████████████████████████████████ | 291/300 [06:08<00:11,  1.33s/it]"
     ]
    },
    {
     "name": "stdout",
     "output_type": "stream",
     "text": [
      "Epoch:  290\n",
      "t_loss:  0.3801327134464301 , v_loss:  0.7422341207663218\n",
      "t_acc:  0.7383031815346226 , v_acc:  0.7142857142857143\n",
      "t_recall:  0.5870659357078003 , v_recall:  0.562428219852338\n",
      "t_prec:  0.7507786016949153 , v_prec:  0.7203242617255357\n",
      "t_f:  0.5782512213046137 , v_f:  0.5367647058823529\n",
      "////////\n"
     ]
    },
    {
     "name": "stderr",
     "output_type": "stream",
     "text": [
      "\r",
      "Iterations:  97%|████████████████████████████████ | 292/300 [06:09<00:09,  1.23s/it]"
     ]
    },
    {
     "name": "stdout",
     "output_type": "stream",
     "text": [
      "Epoch  291 , loss 0.3698701066713707\n",
      "Epoch  292 , loss 0.3748712618561352\n"
     ]
    },
    {
     "name": "stderr",
     "output_type": "stream",
     "text": [
      "\r",
      "Iterations:  98%|████████████████████████████████▏| 293/300 [06:11<00:09,  1.33s/it]"
     ]
    },
    {
     "name": "stdout",
     "output_type": "stream",
     "text": [
      "Epoch:  292\n",
      "t_loss:  0.3748712618561352 , v_loss:  0.7343628307183584\n",
      "t_acc:  0.7414223331253899 , v_acc:  0.7202380952380952\n",
      "t_recall:  0.5895957889413739 , v_recall:  0.5922067268252666\n",
      "t_prec:  0.7656696438308359 , v_prec:  0.6898648648648649\n",
      "t_f:  0.5811987966871867 , v_f:  0.5887285796135215\n",
      "////////\n"
     ]
    },
    {
     "name": "stderr",
     "output_type": "stream",
     "text": [
      "\r",
      "Iterations:  98%|████████████████████████████████▎| 294/300 [06:12<00:07,  1.22s/it]"
     ]
    },
    {
     "name": "stdout",
     "output_type": "stream",
     "text": [
      "Epoch  293 , loss 0.3723684926243389\n",
      "Epoch  294 , loss 0.37128249249037576\n"
     ]
    },
    {
     "name": "stderr",
     "output_type": "stream",
     "text": [
      "\r",
      "Iterations:  98%|████████████████████████████████▍| 295/300 [06:13<00:06,  1.34s/it]"
     ]
    },
    {
     "name": "stdout",
     "output_type": "stream",
     "text": [
      "Epoch:  294\n",
      "t_loss:  0.37128249249037576 , v_loss:  0.7589425047238668\n",
      "t_acc:  0.74235807860262 , v_acc:  0.6904761904761905\n",
      "t_recall:  0.5908455447137653 , v_recall:  0.534864643150123\n",
      "t_prec:  0.7683843252618183 , v_prec:  0.6230457440648522\n",
      "t_f:  0.5829749144582017 , v_f:  0.4981617647058823\n",
      "////////\n"
     ]
    },
    {
     "name": "stderr",
     "output_type": "stream",
     "text": [
      "\r",
      "Iterations:  99%|████████████████████████████████▌| 296/300 [06:14<00:04,  1.23s/it]"
     ]
    },
    {
     "name": "stdout",
     "output_type": "stream",
     "text": [
      "Epoch  295 , loss 0.3709571694626528\n",
      "Epoch  296 , loss 0.3785314779071247\n"
     ]
    },
    {
     "name": "stderr",
     "output_type": "stream",
     "text": [
      "\r",
      "Iterations:  99%|████████████████████████████████▋| 297/300 [06:16<00:04,  1.35s/it]"
     ]
    },
    {
     "name": "stdout",
     "output_type": "stream",
     "text": [
      "Epoch:  296\n",
      "t_loss:  0.3785314779071247 , v_loss:  0.7563932339350382\n",
      "t_acc:  0.7414223331253899 , v_acc:  0.7083333333333334\n",
      "t_recall:  0.5916167293038651 , v_recall:  0.5529942575881871\n",
      "t_prec:  0.7583686836209758 , v_prec:  0.7044303797468354\n",
      "t_f:  0.5848184988615904 , v_f:  0.5213675213675214\n",
      "////////\n"
     ]
    },
    {
     "name": "stderr",
     "output_type": "stream",
     "text": [
      "\r",
      "Iterations:  99%|████████████████████████████████▊| 298/300 [06:17<00:02,  1.23s/it]"
     ]
    },
    {
     "name": "stdout",
     "output_type": "stream",
     "text": [
      "Epoch  297 , loss 0.38452127634310257\n",
      "Epoch  298 , loss 0.3940245731204164\n"
     ]
    },
    {
     "name": "stderr",
     "output_type": "stream",
     "text": [
      "\r",
      "Iterations: 100%|████████████████████████████████▉| 299/300 [06:18<00:01,  1.32s/it]"
     ]
    },
    {
     "name": "stdout",
     "output_type": "stream",
     "text": [
      "Epoch:  298\n",
      "t_loss:  0.3940245731204164 , v_loss:  0.7536980460087458\n",
      "t_acc:  0.7386150966936993 , v_acc:  0.6904761904761905\n",
      "t_recall:  0.5844029927938489 , v_recall:  0.534864643150123\n",
      "t_prec:  0.7629611062970416 , v_prec:  0.6230457440648522\n",
      "t_f:  0.5731730643967197 , v_f:  0.4981617647058823\n",
      "////////\n"
     ]
    },
    {
     "name": "stderr",
     "output_type": "stream",
     "text": [
      "Iterations: 100%|█████████████████████████████████| 300/300 [06:19<00:00,  1.27s/it]"
     ]
    },
    {
     "name": "stdout",
     "output_type": "stream",
     "text": [
      "Epoch  299 , loss 0.3765766965407951\n"
     ]
    },
    {
     "name": "stderr",
     "output_type": "stream",
     "text": [
      "\n"
     ]
    },
    {
     "name": "stdout",
     "output_type": "stream",
     "text": [
      "108 11\n",
      "\n",
      "c0_acc 0.9391304347826087 , c1_acc 0.20754716981132076 , b_acc 0.5733388022969648\n"
     ]
    },
    {
     "name": "stderr",
     "output_type": "stream",
     "text": [
      "\r",
      "Iterations:   0%|                                           | 0/300 [00:00<?, ?it/s]"
     ]
    },
    {
     "name": "stdout",
     "output_type": "stream",
     "text": [
      "Epoch  0 , loss 0.6973568260669708\n"
     ]
    },
    {
     "name": "stderr",
     "output_type": "stream",
     "text": [
      "\r",
      "Iterations:   0%|                                   | 1/300 [00:01<07:41,  1.54s/it]"
     ]
    },
    {
     "name": "stdout",
     "output_type": "stream",
     "text": [
      "Epoch:  0\n",
      "t_loss:  0.6973568260669708 , v_loss:  0.693077564239502\n",
      "t_acc:  0.5143839899937461 , v_acc:  0.625\n",
      "t_recall:  0.5053081421502474 , v_recall:  0.4954747660684154\n",
      "t_prec:  0.5045113401091662 , v_prec:  0.4934371523915462\n",
      "t_f:  0.4895783520529273 , v_f:  0.4840085287846482\n",
      "////////\n"
     ]
    },
    {
     "name": "stderr",
     "output_type": "stream",
     "text": [
      "\r",
      "Iterations:   1%|▏                                  | 2/300 [00:02<06:05,  1.23s/it]"
     ]
    },
    {
     "name": "stdout",
     "output_type": "stream",
     "text": [
      "Epoch  1 , loss 0.6601315081119538\n",
      "Epoch  2 , loss 0.6166845762729645\n"
     ]
    },
    {
     "name": "stderr",
     "output_type": "stream",
     "text": [
      "\r",
      "Iterations:   1%|▎                                  | 3/300 [00:04<06:44,  1.36s/it]"
     ]
    },
    {
     "name": "stdout",
     "output_type": "stream",
     "text": [
      "Epoch:  2\n",
      "t_loss:  0.6166845762729645 , v_loss:  0.6877673467000326\n",
      "t_acc:  0.626641651031895 , v_acc:  0.6988636363636364\n",
      "t_recall:  0.5083220872694557 , v_recall:  0.5\n",
      "t_prec:  0.5112988528571456 , v_prec:  0.3494318181818182\n",
      "t_f:  0.5011473157618872 , v_f:  0.411371237458194\n",
      "////////\n"
     ]
    },
    {
     "name": "stderr",
     "output_type": "stream",
     "text": [
      "\r",
      "Iterations:   1%|▍                                  | 4/300 [00:05<05:57,  1.21s/it]"
     ]
    },
    {
     "name": "stdout",
     "output_type": "stream",
     "text": [
      "Epoch  3 , loss 0.5835258948802948\n",
      "Epoch  4 , loss 0.5533597332239151\n"
     ]
    },
    {
     "name": "stderr",
     "output_type": "stream",
     "text": [
      "\r",
      "Iterations:   2%|▌                                  | 5/300 [00:06<06:34,  1.34s/it]"
     ]
    },
    {
     "name": "stdout",
     "output_type": "stream",
     "text": [
      "Epoch:  4\n",
      "t_loss:  0.5533597332239151 , v_loss:  0.6686736742655436\n",
      "t_acc:  0.6776110068792995 , v_acc:  0.6988636363636364\n",
      "t_recall:  0.5012235717498875 , v_recall:  0.5\n",
      "t_prec:  0.5057279607423022 , v_prec:  0.3494318181818182\n",
      "t_f:  0.44475454782901713 , v_f:  0.411371237458194\n",
      "////////\n"
     ]
    },
    {
     "name": "stderr",
     "output_type": "stream",
     "text": [
      "\r",
      "Iterations:   2%|▋                                  | 6/300 [00:07<05:51,  1.20s/it]"
     ]
    },
    {
     "name": "stdout",
     "output_type": "stream",
     "text": [
      "Epoch  5 , loss 0.5237584108114243\n",
      "Epoch  6 , loss 0.5058537065982819\n"
     ]
    },
    {
     "name": "stderr",
     "output_type": "stream",
     "text": [
      "\r",
      "Iterations:   2%|▊                                  | 7/300 [00:09<06:30,  1.33s/it]"
     ]
    },
    {
     "name": "stdout",
     "output_type": "stream",
     "text": [
      "Epoch:  6\n",
      "t_loss:  0.5058537065982819 , v_loss:  0.64522784948349\n",
      "t_acc:  0.6938711694809255 , v_acc:  0.6988636363636364\n",
      "t_recall:  0.5011156095366621 , v_recall:  0.5\n",
      "t_prec:  0.5422431865828092 , v_prec:  0.3494318181818182\n",
      "t_f:  0.4164515293897929 , v_f:  0.411371237458194\n",
      "////////\n"
     ]
    },
    {
     "name": "stderr",
     "output_type": "stream",
     "text": [
      "\r",
      "Iterations:   3%|▉                                  | 8/300 [00:10<05:50,  1.20s/it]"
     ]
    },
    {
     "name": "stdout",
     "output_type": "stream",
     "text": [
      "Epoch  7 , loss 0.4865138477087021\n",
      "Epoch  8 , loss 0.483708410859108\n"
     ]
    },
    {
     "name": "stderr",
     "output_type": "stream",
     "text": [
      "\r",
      "Iterations:   3%|█                                  | 9/300 [00:11<06:26,  1.33s/it]"
     ]
    },
    {
     "name": "stdout",
     "output_type": "stream",
     "text": [
      "Epoch:  8\n",
      "t_loss:  0.483708410859108 , v_loss:  0.6501656870047251\n",
      "t_acc:  0.6948092557848655 , v_acc:  0.6988636363636364\n",
      "t_recall:  0.50063877642825 , v_recall:  0.5\n",
      "t_prec:  0.5619823611048932 , v_prec:  0.3494318181818182\n",
      "t_f:  0.41291830714215316 , v_f:  0.411371237458194\n",
      "////////\n"
     ]
    },
    {
     "name": "stderr",
     "output_type": "stream",
     "text": [
      "\r",
      "Iterations:   3%|█▏                                | 10/300 [00:12<05:49,  1.21s/it]"
     ]
    },
    {
     "name": "stdout",
     "output_type": "stream",
     "text": [
      "Epoch  9 , loss 0.4693819212913513\n",
      "Epoch  10 , loss 0.4648759710788727\n"
     ]
    },
    {
     "name": "stderr",
     "output_type": "stream",
     "text": [
      "\r",
      "Iterations:   4%|█▏                                | 11/300 [00:14<06:21,  1.32s/it]"
     ]
    },
    {
     "name": "stdout",
     "output_type": "stream",
     "text": [
      "Epoch:  10\n",
      "t_loss:  0.4648759710788727 , v_loss:  0.6727829277515411\n",
      "t_acc:  0.6951219512195121 , v_acc:  0.6988636363636364\n",
      "t_recall:  0.5002878992352676 , v_recall:  0.5\n",
      "t_prec:  0.597622027534418 , v_prec:  0.3494318181818182\n",
      "t_f:  0.41106229399079736 , v_f:  0.411371237458194\n",
      "////////\n"
     ]
    },
    {
     "name": "stderr",
     "output_type": "stream",
     "text": [
      "\r",
      "Iterations:   4%|█▎                                | 12/300 [00:15<05:45,  1.20s/it]"
     ]
    },
    {
     "name": "stdout",
     "output_type": "stream",
     "text": [
      "Epoch  11 , loss 0.4595713829994202\n",
      "Epoch  12 , loss 0.4562206482887268\n"
     ]
    },
    {
     "name": "stderr",
     "output_type": "stream",
     "text": [
      "\r",
      "Iterations:   4%|█▍                                | 13/300 [00:16<06:14,  1.30s/it]"
     ]
    },
    {
     "name": "stdout",
     "output_type": "stream",
     "text": [
      "Epoch:  12\n",
      "t_loss:  0.4562206482887268 , v_loss:  0.6906406531731287\n",
      "t_acc:  0.6951219512195121 , v_acc:  0.6988636363636364\n",
      "t_recall:  0.5 , v_recall:  0.5\n",
      "t_prec:  0.3475609756097561 , v_prec:  0.3494318181818182\n",
      "t_f:  0.41007194244604317 , v_f:  0.411371237458194\n",
      "////////\n"
     ]
    },
    {
     "name": "stderr",
     "output_type": "stream",
     "text": [
      "\r",
      "Iterations:   5%|█▌                                | 14/300 [00:17<05:48,  1.22s/it]"
     ]
    },
    {
     "name": "stdout",
     "output_type": "stream",
     "text": [
      "Epoch  13 , loss 0.45431879997253416\n",
      "Epoch  14 , loss 0.45610449492931365\n"
     ]
    },
    {
     "name": "stderr",
     "output_type": "stream",
     "text": [
      "\r",
      "Iterations:   5%|█▋                                | 15/300 [00:19<06:12,  1.31s/it]"
     ]
    },
    {
     "name": "stdout",
     "output_type": "stream",
     "text": [
      "Epoch:  14\n",
      "t_loss:  0.45610449492931365 , v_loss:  0.6933253904183706\n",
      "t_acc:  0.6954346466541589 , v_acc:  0.6988636363636364\n",
      "t_recall:  0.5005128205128205 , v_recall:  0.5\n",
      "t_prec:  0.8476696903346888 , v_prec:  0.3494318181818182\n",
      "t_f:  0.41117219163994917 , v_f:  0.411371237458194\n",
      "////////\n"
     ]
    },
    {
     "name": "stderr",
     "output_type": "stream",
     "text": [
      "\r",
      "Iterations:   5%|█▊                                | 16/300 [00:20<05:44,  1.21s/it]"
     ]
    },
    {
     "name": "stdout",
     "output_type": "stream",
     "text": [
      "Epoch  15 , loss 0.4555618822574615\n",
      "Epoch  16 , loss 0.45086628437042237\n"
     ]
    },
    {
     "name": "stderr",
     "output_type": "stream",
     "text": [
      "\r",
      "Iterations:   6%|█▉                                | 17/300 [00:21<06:09,  1.31s/it]"
     ]
    },
    {
     "name": "stdout",
     "output_type": "stream",
     "text": [
      "Epoch:  16\n",
      "t_loss:  0.45086628437042237 , v_loss:  0.693675642212232\n",
      "t_acc:  0.6951219512195121 , v_acc:  0.6988636363636364\n",
      "t_recall:  0.5002878992352676 , v_recall:  0.5\n",
      "t_prec:  0.597622027534418 , v_prec:  0.3494318181818182\n",
      "t_f:  0.41106229399079736 , v_f:  0.411371237458194\n",
      "////////\n"
     ]
    },
    {
     "name": "stderr",
     "output_type": "stream",
     "text": [
      "\r",
      "Iterations:   6%|██                                | 18/300 [00:22<05:37,  1.20s/it]"
     ]
    },
    {
     "name": "stdout",
     "output_type": "stream",
     "text": [
      "Epoch  17 , loss 0.4542082267999649\n",
      "Epoch  18 , loss 0.44823600113391876\n"
     ]
    },
    {
     "name": "stderr",
     "output_type": "stream",
     "text": [
      "\r",
      "Iterations:   6%|██▏                               | 19/300 [00:24<06:06,  1.30s/it]"
     ]
    },
    {
     "name": "stdout",
     "output_type": "stream",
     "text": [
      "Epoch:  18\n",
      "t_loss:  0.44823600113391876 , v_loss:  0.6971628963947296\n",
      "t_acc:  0.6951219512195121 , v_acc:  0.6988636363636364\n",
      "t_recall:  0.5 , v_recall:  0.5\n",
      "t_prec:  0.3475609756097561 , v_prec:  0.3494318181818182\n",
      "t_f:  0.41007194244604317 , v_f:  0.411371237458194\n",
      "////////\n"
     ]
    },
    {
     "name": "stderr",
     "output_type": "stream",
     "text": [
      "\r",
      "Iterations:   7%|██▎                               | 20/300 [00:25<05:32,  1.19s/it]"
     ]
    },
    {
     "name": "stdout",
     "output_type": "stream",
     "text": [
      "Epoch  19 , loss 0.44411196768283845\n",
      "Epoch  20 , loss 0.4503985273838043\n"
     ]
    },
    {
     "name": "stderr",
     "output_type": "stream",
     "text": [
      "\r",
      "Iterations:   7%|██▍                               | 21/300 [00:26<06:10,  1.33s/it]"
     ]
    },
    {
     "name": "stdout",
     "output_type": "stream",
     "text": [
      "Epoch:  20\n",
      "t_loss:  0.4503985273838043 , v_loss:  0.6950026502211889\n",
      "t_acc:  0.6951219512195121 , v_acc:  0.6988636363636364\n",
      "t_recall:  0.5 , v_recall:  0.5\n",
      "t_prec:  0.3475609756097561 , v_prec:  0.3494318181818182\n",
      "t_f:  0.41007194244604317 , v_f:  0.411371237458194\n",
      "////////\n"
     ]
    },
    {
     "name": "stderr",
     "output_type": "stream",
     "text": [
      "\r",
      "Iterations:   7%|██▍                               | 22/300 [00:27<05:36,  1.21s/it]"
     ]
    },
    {
     "name": "stdout",
     "output_type": "stream",
     "text": [
      "Epoch  21 , loss 0.449681932926178\n",
      "Epoch  22 , loss 0.4426049768924713\n"
     ]
    },
    {
     "name": "stderr",
     "output_type": "stream",
     "text": [
      "\r",
      "Iterations:   8%|██▌                               | 23/300 [00:29<06:06,  1.32s/it]"
     ]
    },
    {
     "name": "stdout",
     "output_type": "stream",
     "text": [
      "Epoch:  22\n",
      "t_loss:  0.4426049768924713 , v_loss:  0.6958309362332026\n",
      "t_acc:  0.6948092557848655 , v_acc:  0.6988636363636364\n",
      "t_recall:  0.49977507872244714 , v_recall:  0.5\n",
      "t_prec:  0.3475132937128558 , v_prec:  0.3494318181818182\n",
      "t_f:  0.4099630996309963 , v_f:  0.411371237458194\n",
      "////////\n"
     ]
    },
    {
     "name": "stderr",
     "output_type": "stream",
     "text": [
      "\r",
      "Iterations:   8%|██▋                               | 24/300 [00:30<05:30,  1.20s/it]"
     ]
    },
    {
     "name": "stdout",
     "output_type": "stream",
     "text": [
      "Epoch  23 , loss 0.44256417095661166\n",
      "Epoch  24 , loss 0.4455771738290787\n"
     ]
    },
    {
     "name": "stderr",
     "output_type": "stream",
     "text": [
      "\r",
      "Iterations:   8%|██▊                               | 25/300 [00:31<05:58,  1.30s/it]"
     ]
    },
    {
     "name": "stdout",
     "output_type": "stream",
     "text": [
      "Epoch:  24\n",
      "t_loss:  0.4455771738290787 , v_loss:  0.6911107748746872\n",
      "t_acc:  0.6951219512195121 , v_acc:  0.6988636363636364\n",
      "t_recall:  0.5 , v_recall:  0.5\n",
      "t_prec:  0.3475609756097561 , v_prec:  0.3494318181818182\n",
      "t_f:  0.41007194244604317 , v_f:  0.411371237458194\n",
      "////////\n"
     ]
    },
    {
     "name": "stderr",
     "output_type": "stream",
     "text": [
      "\r",
      "Iterations:   9%|██▉                               | 26/300 [00:32<05:25,  1.19s/it]"
     ]
    },
    {
     "name": "stdout",
     "output_type": "stream",
     "text": [
      "Epoch  25 , loss 0.44566526472568513\n",
      "Epoch  26 , loss 0.4442161303758621\n"
     ]
    },
    {
     "name": "stderr",
     "output_type": "stream",
     "text": [
      "\r",
      "Iterations:   9%|███                               | 27/300 [00:34<05:51,  1.29s/it]"
     ]
    },
    {
     "name": "stdout",
     "output_type": "stream",
     "text": [
      "Epoch:  26\n",
      "t_loss:  0.4442161303758621 , v_loss:  0.6934848775466284\n",
      "t_acc:  0.6951219512195121 , v_acc:  0.6988636363636364\n",
      "t_recall:  0.5002878992352676 , v_recall:  0.5\n",
      "t_prec:  0.597622027534418 , v_prec:  0.3494318181818182\n",
      "t_f:  0.41106229399079736 , v_f:  0.411371237458194\n",
      "////////\n"
     ]
    },
    {
     "name": "stderr",
     "output_type": "stream",
     "text": [
      "\r",
      "Iterations:   9%|███▏                              | 28/300 [00:35<05:20,  1.18s/it]"
     ]
    },
    {
     "name": "stdout",
     "output_type": "stream",
     "text": [
      "Epoch  27 , loss 0.43762877106666564\n",
      "Epoch  28 , loss 0.44230000138282777\n"
     ]
    },
    {
     "name": "stderr",
     "output_type": "stream",
     "text": [
      "\r",
      "Iterations:  10%|███▎                              | 29/300 [00:36<05:49,  1.29s/it]"
     ]
    },
    {
     "name": "stdout",
     "output_type": "stream",
     "text": [
      "Epoch:  28\n",
      "t_loss:  0.44230000138282777 , v_loss:  0.697306344906489\n",
      "t_acc:  0.6951219512195121 , v_acc:  0.6988636363636364\n",
      "t_recall:  0.5005757984705353 , v_recall:  0.5\n",
      "t_prec:  0.597683155917345 , v_prec:  0.3494318181818182\n",
      "t_f:  0.41204843904003646 , v_f:  0.411371237458194\n",
      "////////\n"
     ]
    },
    {
     "name": "stderr",
     "output_type": "stream",
     "text": [
      "\r",
      "Iterations:  10%|███▍                              | 30/300 [00:37<05:23,  1.20s/it]"
     ]
    },
    {
     "name": "stdout",
     "output_type": "stream",
     "text": [
      "Epoch  29 , loss 0.4403245186805725\n",
      "Epoch  30 , loss 0.4383514279127121\n"
     ]
    },
    {
     "name": "stderr",
     "output_type": "stream",
     "text": [
      "\r",
      "Iterations:  10%|███▌                              | 31/300 [00:39<05:56,  1.32s/it]"
     ]
    },
    {
     "name": "stdout",
     "output_type": "stream",
     "text": [
      "Epoch:  30\n",
      "t_loss:  0.4383514279127121 , v_loss:  0.6979323675235113\n",
      "t_acc:  0.6951219512195121 , v_acc:  0.6988636363636364\n",
      "t_recall:  0.5005757984705353 , v_recall:  0.5\n",
      "t_prec:  0.597683155917345 , v_prec:  0.3494318181818182\n",
      "t_f:  0.41204843904003646 , v_f:  0.411371237458194\n",
      "////////\n"
     ]
    },
    {
     "name": "stderr",
     "output_type": "stream",
     "text": [
      "\r",
      "Iterations:  11%|███▋                              | 32/300 [00:40<05:26,  1.22s/it]"
     ]
    },
    {
     "name": "stdout",
     "output_type": "stream",
     "text": [
      "Epoch  31 , loss 0.4323341006040573\n",
      "Epoch  32 , loss 0.4364746057987213\n"
     ]
    },
    {
     "name": "stderr",
     "output_type": "stream",
     "text": [
      "\r",
      "Iterations:  11%|███▋                              | 33/300 [00:41<05:54,  1.33s/it]"
     ]
    },
    {
     "name": "stdout",
     "output_type": "stream",
     "text": [
      "Epoch:  32\n",
      "t_loss:  0.4364746057987213 , v_loss:  0.6979197164376577\n",
      "t_acc:  0.6963727329580988 , v_acc:  0.6988636363636364\n",
      "t_recall:  0.5023391812865498 , v_recall:  0.5\n",
      "t_prec:  0.7647243107769424 , v_prec:  0.3494318181818182\n",
      "t_f:  0.4154384835418661 , v_f:  0.411371237458194\n",
      "////////\n"
     ]
    },
    {
     "name": "stderr",
     "output_type": "stream",
     "text": [
      "\r",
      "Iterations:  11%|███▊                              | 34/300 [00:42<05:22,  1.21s/it]"
     ]
    },
    {
     "name": "stdout",
     "output_type": "stream",
     "text": [
      "Epoch  33 , loss 0.44044718623161316\n",
      "Epoch  34 , loss 0.43254454016685484\n"
     ]
    },
    {
     "name": "stderr",
     "output_type": "stream",
     "text": [
      "\r",
      "Iterations:  12%|███▉                              | 35/300 [00:44<05:52,  1.33s/it]"
     ]
    },
    {
     "name": "stdout",
     "output_type": "stream",
     "text": [
      "Epoch:  34\n",
      "t_loss:  0.43254454016685484 , v_loss:  0.6985834439595541\n",
      "t_acc:  0.6960600375234521 , v_acc:  0.6988636363636364\n",
      "t_recall:  0.5018263607737292 , v_recall:  0.5\n",
      "t_prec:  0.7479486376448481 , v_prec:  0.3494318181818182\n",
      "t_f:  0.41434751153046157 , v_f:  0.411371237458194\n",
      "////////\n"
     ]
    },
    {
     "name": "stderr",
     "output_type": "stream",
     "text": [
      "\r",
      "Iterations:  12%|████                              | 36/300 [00:45<05:20,  1.21s/it]"
     ]
    },
    {
     "name": "stdout",
     "output_type": "stream",
     "text": [
      "Epoch  35 , loss 0.42970413744449615\n",
      "Epoch  36 , loss 0.4320181792974472\n"
     ]
    },
    {
     "name": "stderr",
     "output_type": "stream",
     "text": [
      "\r",
      "Iterations:  12%|████▏                             | 37/300 [00:46<05:47,  1.32s/it]"
     ]
    },
    {
     "name": "stdout",
     "output_type": "stream",
     "text": [
      "Epoch:  36\n",
      "t_loss:  0.4320181792974472 , v_loss:  0.7069103668133417\n",
      "t_acc:  0.6954346466541589 , v_acc:  0.6988636363636364\n",
      "t_recall:  0.5013765182186235 , v_recall:  0.5\n",
      "t_prec:  0.6335676232260374 , v_prec:  0.3494318181818182\n",
      "t_f:  0.4141213433980094 , v_f:  0.411371237458194\n",
      "////////\n"
     ]
    },
    {
     "name": "stderr",
     "output_type": "stream",
     "text": [
      "\r",
      "Iterations:  13%|████▎                             | 38/300 [00:47<05:17,  1.21s/it]"
     ]
    },
    {
     "name": "stdout",
     "output_type": "stream",
     "text": [
      "Epoch  37 , loss 0.4362718665599823\n",
      "Epoch  38 , loss 0.4262148380279541\n"
     ]
    },
    {
     "name": "stderr",
     "output_type": "stream",
     "text": [
      "\r",
      "Iterations:  13%|████▍                             | 39/300 [00:49<05:45,  1.32s/it]"
     ]
    },
    {
     "name": "stdout",
     "output_type": "stream",
     "text": [
      "Epoch:  38\n",
      "t_loss:  0.4262148380279541 , v_loss:  0.7073373248179754\n",
      "t_acc:  0.6976235146966854 , v_acc:  0.6988636363636364\n",
      "t_recall:  0.5052541610436347 , v_recall:  0.5\n",
      "t_prec:  0.7236800754242615 , v_prec:  0.3494318181818182\n",
      "t_f:  0.42265477176176713 , v_f:  0.411371237458194\n",
      "////////\n"
     ]
    },
    {
     "name": "stderr",
     "output_type": "stream",
     "text": [
      "\r",
      "Iterations:  13%|████▌                             | 40/300 [00:50<05:21,  1.24s/it]"
     ]
    },
    {
     "name": "stdout",
     "output_type": "stream",
     "text": [
      "Epoch  39 , loss 0.430402934551239\n",
      "Epoch  40 , loss 0.429934019446373\n"
     ]
    },
    {
     "name": "stderr",
     "output_type": "stream",
     "text": [
      "\r",
      "Iterations:  14%|████▋                             | 41/300 [00:51<05:43,  1.32s/it]"
     ]
    },
    {
     "name": "stdout",
     "output_type": "stream",
     "text": [
      "Epoch:  40\n",
      "t_loss:  0.429934019446373 , v_loss:  0.707658643523852\n",
      "t_acc:  0.6957473420888055 , v_acc:  0.6988636363636364\n",
      "t_recall:  0.5036167341430499 , v_recall:  0.5\n",
      "t_prec:  0.6233322844556325 , v_prec:  0.3494318181818182\n",
      "t_f:  0.420979364513737 , v_f:  0.411371237458194\n",
      "////////\n"
     ]
    },
    {
     "name": "stderr",
     "output_type": "stream",
     "text": [
      "\r",
      "Iterations:  14%|████▊                             | 42/300 [00:52<05:17,  1.23s/it]"
     ]
    },
    {
     "name": "stdout",
     "output_type": "stream",
     "text": [
      "Epoch  41 , loss 0.43434286236763\n",
      "Epoch  42 , loss 0.4255073469877243\n"
     ]
    },
    {
     "name": "stderr",
     "output_type": "stream",
     "text": [
      "\r",
      "Iterations:  14%|████▊                             | 43/300 [00:54<05:43,  1.33s/it]"
     ]
    },
    {
     "name": "stdout",
     "output_type": "stream",
     "text": [
      "Epoch:  42\n",
      "t_loss:  0.4255073469877243 , v_loss:  0.7032197813193003\n",
      "t_acc:  0.6973108192620388 , v_acc:  0.6988636363636364\n",
      "t_recall:  0.5047413405308142 , v_recall:  0.5\n",
      "t_prec:  0.7152371976123154 , v_prec:  0.3494318181818182\n",
      "t_f:  0.4215809594277963 , v_f:  0.411371237458194\n",
      "////////\n"
     ]
    },
    {
     "name": "stderr",
     "output_type": "stream",
     "text": [
      "\r",
      "Iterations:  15%|████▉                             | 44/300 [00:55<05:09,  1.21s/it]"
     ]
    },
    {
     "name": "stdout",
     "output_type": "stream",
     "text": [
      "Epoch  43 , loss 0.42999568283557893\n",
      "Epoch  44 , loss 0.42625958323478697\n"
     ]
    },
    {
     "name": "stderr",
     "output_type": "stream",
     "text": [
      "\r",
      "Iterations:  15%|█████                             | 45/300 [00:57<05:38,  1.33s/it]"
     ]
    },
    {
     "name": "stdout",
     "output_type": "stream",
     "text": [
      "Epoch:  44\n",
      "t_loss:  0.42625958323478697 , v_loss:  0.7043972810109457\n",
      "t_acc:  0.6985616010006254 , v_acc:  0.6988636363636364\n",
      "t_recall:  0.5079442195231669 , v_recall:  0.5\n",
      "t_prec:  0.7011107607134097 , v_prec:  0.3494318181818182\n",
      "t_f:  0.42960352931511836 , v_f:  0.411371237458194\n",
      "////////\n"
     ]
    },
    {
     "name": "stderr",
     "output_type": "stream",
     "text": [
      "\r",
      "Iterations:  15%|█████▏                            | 46/300 [00:58<05:06,  1.21s/it]"
     ]
    },
    {
     "name": "stdout",
     "output_type": "stream",
     "text": [
      "Epoch  45 , loss 0.4268093019723892\n",
      "Epoch  46 , loss 0.42705870449543\n"
     ]
    },
    {
     "name": "stderr",
     "output_type": "stream",
     "text": [
      "\r",
      "Iterations:  16%|█████▎                            | 47/300 [00:59<05:38,  1.34s/it]"
     ]
    },
    {
     "name": "stdout",
     "output_type": "stream",
     "text": [
      "Epoch:  46\n",
      "t_loss:  0.42705870449543 , v_loss:  0.7080086767673492\n",
      "t_acc:  0.6973108192620388 , v_acc:  0.6988636363636364\n",
      "t_recall:  0.5056050382366172 , v_recall:  0.5\n",
      "t_prec:  0.6820900220333648 , v_prec:  0.3494318181818182\n",
      "t_f:  0.42442659526996873 , v_f:  0.411371237458194\n",
      "////////\n"
     ]
    },
    {
     "name": "stderr",
     "output_type": "stream",
     "text": [
      "\r",
      "Iterations:  16%|█████▍                            | 48/300 [01:00<05:07,  1.22s/it]"
     ]
    },
    {
     "name": "stdout",
     "output_type": "stream",
     "text": [
      "Epoch  47 , loss 0.42359251379966734\n",
      "Epoch  48 , loss 0.4235028827190399\n"
     ]
    },
    {
     "name": "stderr",
     "output_type": "stream",
     "text": [
      "\r",
      "Iterations:  16%|█████▌                            | 49/300 [01:02<05:37,  1.34s/it]"
     ]
    },
    {
     "name": "stdout",
     "output_type": "stream",
     "text": [
      "Epoch:  48\n",
      "t_loss:  0.4235028827190399 , v_loss:  0.7076261987288793\n",
      "t_acc:  0.6976235146966854 , v_acc:  0.6931818181818182\n",
      "t_recall:  0.50582995951417 , v_recall:  0.4959349593495935\n",
      "t_prec:  0.6988042794210194 , v_prec:  0.3485714285714286\n",
      "t_f:  0.424549892584567 , v_f:  0.40939597315436244\n",
      "////////\n"
     ]
    },
    {
     "name": "stderr",
     "output_type": "stream",
     "text": [
      "\r",
      "Iterations:  17%|█████▋                            | 50/300 [01:03<05:05,  1.22s/it]"
     ]
    },
    {
     "name": "stdout",
     "output_type": "stream",
     "text": [
      "Epoch  49 , loss 0.42686993181705474\n",
      "Epoch  50 , loss 0.42105249702930453\n"
     ]
    },
    {
     "name": "stderr",
     "output_type": "stream",
     "text": [
      "\r",
      "Iterations:  17%|█████▊                            | 51/300 [01:04<05:31,  1.33s/it]"
     ]
    },
    {
     "name": "stdout",
     "output_type": "stream",
     "text": [
      "Epoch:  50\n",
      "t_loss:  0.42105249702930453 , v_loss:  0.7076864043871561\n",
      "t_acc:  0.6994996873045654 , v_acc:  0.6931818181818182\n",
      "t_recall:  0.5089068825910931 , v_recall:  0.4959349593495935\n",
      "t_prec:  0.734079445145019 , v_prec:  0.3485714285714286\n",
      "t_f:  0.43091607187992725 , v_f:  0.40939597315436244\n",
      "////////\n"
     ]
    },
    {
     "name": "stderr",
     "output_type": "stream",
     "text": [
      "\r",
      "Iterations:  17%|█████▉                            | 52/300 [01:05<05:01,  1.21s/it]"
     ]
    },
    {
     "name": "stdout",
     "output_type": "stream",
     "text": [
      "Epoch  51 , loss 0.42542353689670565\n",
      "Epoch  52 , loss 0.42518985450267793\n"
     ]
    },
    {
     "name": "stderr",
     "output_type": "stream",
     "text": [
      "\r",
      "Iterations:  18%|██████                            | 53/300 [01:07<05:24,  1.31s/it]"
     ]
    },
    {
     "name": "stdout",
     "output_type": "stream",
     "text": [
      "Epoch:  52\n",
      "t_loss:  0.42518985450267793 , v_loss:  0.7122604697942734\n",
      "t_acc:  0.6982489055659787 , v_acc:  0.6931818181818182\n",
      "t_recall:  0.5088708951866846 , v_recall:  0.4959349593495935\n",
      "t_prec:  0.6689068100358423 , v_prec:  0.3485714285714286\n",
      "t_f:  0.4331490099159937 , v_f:  0.40939597315436244\n",
      "////////\n"
     ]
    },
    {
     "name": "stderr",
     "output_type": "stream",
     "text": [
      "\r",
      "Iterations:  18%|██████                            | 54/300 [01:08<04:58,  1.21s/it]"
     ]
    },
    {
     "name": "stdout",
     "output_type": "stream",
     "text": [
      "Epoch  53 , loss 0.4210435348749161\n",
      "Epoch  54 , loss 0.4229752165079117\n"
     ]
    },
    {
     "name": "stderr",
     "output_type": "stream",
     "text": [
      "\r",
      "Iterations:  18%|██████▏                           | 55/300 [01:09<05:27,  1.34s/it]"
     ]
    },
    {
     "name": "stdout",
     "output_type": "stream",
     "text": [
      "Epoch:  54\n",
      "t_loss:  0.4229752165079117 , v_loss:  0.7032906115055084\n",
      "t_acc:  0.6982489055659787 , v_acc:  0.6931818181818182\n",
      "t_recall:  0.5088708951866846 , v_recall:  0.4959349593495935\n",
      "t_prec:  0.6689068100358423 , v_prec:  0.3485714285714286\n",
      "t_f:  0.4331490099159937 , v_f:  0.40939597315436244\n",
      "////////\n"
     ]
    },
    {
     "name": "stderr",
     "output_type": "stream",
     "text": [
      "\r",
      "Iterations:  19%|██████▎                           | 56/300 [01:10<05:03,  1.24s/it]"
     ]
    },
    {
     "name": "stdout",
     "output_type": "stream",
     "text": [
      "Epoch  55 , loss 0.42804411351680755\n",
      "Epoch  56 , loss 0.4266929417848587\n"
     ]
    },
    {
     "name": "stderr",
     "output_type": "stream",
     "text": [
      "\r",
      "Iterations:  19%|██████▍                           | 57/300 [01:12<05:30,  1.36s/it]"
     ]
    },
    {
     "name": "stdout",
     "output_type": "stream",
     "text": [
      "Epoch:  56\n",
      "t_loss:  0.4266929417848587 , v_loss:  0.7036139965057373\n",
      "t_acc:  0.7004377736085053 , v_acc:  0.6931818181818182\n",
      "t_recall:  0.5121727395411606 , v_recall:  0.4959349593495935\n",
      "t_prec:  0.7038327526132404 , v_prec:  0.3485714285714286\n",
      "t_f:  0.43950984983754354 , v_f:  0.40939597315436244\n",
      "////////\n"
     ]
    },
    {
     "name": "stderr",
     "output_type": "stream",
     "text": [
      "\r",
      "Iterations:  19%|██████▌                           | 58/300 [01:13<05:01,  1.24s/it]"
     ]
    },
    {
     "name": "stdout",
     "output_type": "stream",
     "text": [
      "Epoch  57 , loss 0.42120255768299103\n",
      "Epoch  58 , loss 0.42557632327079775\n"
     ]
    },
    {
     "name": "stderr",
     "output_type": "stream",
     "text": [
      "\r",
      "Iterations:  20%|██████▋                           | 59/300 [01:15<05:22,  1.34s/it]"
     ]
    },
    {
     "name": "stdout",
     "output_type": "stream",
     "text": [
      "Epoch:  58\n",
      "t_loss:  0.42557632327079775 , v_loss:  0.7022609710693359\n",
      "t_acc:  0.7029393370856786 , v_acc:  0.6988636363636364\n",
      "t_recall:  0.515987404408457 , v_recall:  0.5053689216137445\n",
      "t_prec:  0.733978406044687 , v_prec:  0.6005747126436782\n",
      "t_f:  0.44683651152137166 , v_f:  0.4289562289562289\n",
      "////////\n"
     ]
    },
    {
     "name": "stderr",
     "output_type": "stream",
     "text": [
      "\r",
      "Iterations:  20%|██████▊                           | 60/300 [01:15<04:53,  1.22s/it]"
     ]
    },
    {
     "name": "stdout",
     "output_type": "stream",
     "text": [
      "Epoch  59 , loss 0.42497064650058747\n",
      "Epoch  60 , loss 0.42008715331554414\n"
     ]
    },
    {
     "name": "stderr",
     "output_type": "stream",
     "text": [
      "\r",
      "Iterations:  20%|██████▉                           | 61/300 [01:17<05:16,  1.32s/it]"
     ]
    },
    {
     "name": "stdout",
     "output_type": "stream",
     "text": [
      "Epoch:  60\n",
      "t_loss:  0.42008715331554414 , v_loss:  0.7069823940594991\n",
      "t_acc:  0.699812382739212 , v_acc:  0.6988636363636364\n",
      "t_recall:  0.5125865946918579 , v_recall:  0.5053689216137445\n",
      "t_prec:  0.6768005392058379 , v_prec:  0.6005747126436782\n",
      "t_f:  0.44189780342516755 , v_f:  0.4289562289562289\n",
      "////////\n"
     ]
    },
    {
     "name": "stderr",
     "output_type": "stream",
     "text": [
      "\r",
      "Iterations:  21%|███████                           | 62/300 [01:18<04:48,  1.21s/it]"
     ]
    },
    {
     "name": "stdout",
     "output_type": "stream",
     "text": [
      "Epoch  61 , loss 0.42440401315689086\n",
      "Epoch  62 , loss 0.4252343052625656\n"
     ]
    },
    {
     "name": "stderr",
     "output_type": "stream",
     "text": [
      "\r",
      "Iterations:  21%|███████▏                          | 63/300 [01:20<05:11,  1.31s/it]"
     ]
    },
    {
     "name": "stdout",
     "output_type": "stream",
     "text": [
      "Epoch:  62\n",
      "t_loss:  0.4252343052625656 , v_loss:  0.6995674222707748\n",
      "t_acc:  0.6979362101313321 , v_acc:  0.6988636363636364\n",
      "t_recall:  0.5100854700854701 , v_recall:  0.5053689216137445\n",
      "t_prec:  0.6476025847923996 , v_prec:  0.6005747126436782\n",
      "t_f:  0.437520073820679 , v_f:  0.4289562289562289\n",
      "////////\n"
     ]
    },
    {
     "name": "stderr",
     "output_type": "stream",
     "text": [
      "\r",
      "Iterations:  21%|███████▎                          | 64/300 [01:21<04:46,  1.21s/it]"
     ]
    },
    {
     "name": "stdout",
     "output_type": "stream",
     "text": [
      "Epoch  63 , loss 0.4212782508134842\n",
      "Epoch  64 , loss 0.4214617252349854\n"
     ]
    },
    {
     "name": "stderr",
     "output_type": "stream",
     "text": [
      "\r",
      "Iterations:  22%|███████▎                          | 65/300 [01:22<05:12,  1.33s/it]"
     ]
    },
    {
     "name": "stdout",
     "output_type": "stream",
     "text": [
      "Epoch:  64\n",
      "t_loss:  0.4214617252349854 , v_loss:  0.7002730766932169\n",
      "t_acc:  0.7023139462163852 , v_acc:  0.6988636363636364\n",
      "t_recall:  0.5155375618533513 , v_recall:  0.5053689216137445\n",
      "t_prec:  0.7182519879974855 , v_prec:  0.6005747126436782\n",
      "t_f:  0.4465486550632911 , v_f:  0.4289562289562289\n",
      "////////\n"
     ]
    },
    {
     "name": "stderr",
     "output_type": "stream",
     "text": [
      "\r",
      "Iterations:  22%|███████▍                          | 66/300 [01:23<04:51,  1.24s/it]"
     ]
    },
    {
     "name": "stdout",
     "output_type": "stream",
     "text": [
      "Epoch  65 , loss 0.41988564550876617\n",
      "Epoch  66 , loss 0.42060504138469695\n"
     ]
    },
    {
     "name": "stderr",
     "output_type": "stream",
     "text": [
      "\r",
      "Iterations:  22%|███████▌                          | 67/300 [01:25<05:12,  1.34s/it]"
     ]
    },
    {
     "name": "stdout",
     "output_type": "stream",
     "text": [
      "Epoch:  66\n",
      "t_loss:  0.42060504138469695 , v_loss:  0.6972607125838598\n",
      "t_acc:  0.6985616010006254 , v_acc:  0.7045454545454546\n",
      "t_recall:  0.5093837156995051 , v_recall:  0.5148028838778954\n",
      "t_prec:  0.6738972442863617 , v_prec:  0.6859344894026975\n",
      "t_f:  0.43419089793209564 , v_f:  0.4478764478764478\n",
      "////////\n"
     ]
    },
    {
     "name": "stderr",
     "output_type": "stream",
     "text": [
      "\r",
      "Iterations:  23%|███████▋                          | 68/300 [01:26<04:48,  1.24s/it]"
     ]
    },
    {
     "name": "stdout",
     "output_type": "stream",
     "text": [
      "Epoch  67 , loss 0.41837417185306547\n",
      "Epoch  68 , loss 0.4188864380121231\n"
     ]
    },
    {
     "name": "stderr",
     "output_type": "stream",
     "text": [
      "\r",
      "Iterations:  23%|███████▊                          | 69/300 [01:27<05:10,  1.34s/it]"
     ]
    },
    {
     "name": "stdout",
     "output_type": "stream",
     "text": [
      "Epoch:  68\n",
      "t_loss:  0.4188864380121231 , v_loss:  0.6939380615949631\n",
      "t_acc:  0.699812382739212 , v_acc:  0.7045454545454546\n",
      "t_recall:  0.5131623931623932 , v_recall:  0.5148028838778954\n",
      "t_prec:  0.6711521732609413 , v_prec:  0.6859344894026975\n",
      "t_f:  0.44365515201772143 , v_f:  0.4478764478764478\n",
      "////////\n"
     ]
    },
    {
     "name": "stderr",
     "output_type": "stream",
     "text": [
      "\r",
      "Iterations:  23%|███████▉                          | 70/300 [01:28<04:40,  1.22s/it]"
     ]
    },
    {
     "name": "stdout",
     "output_type": "stream",
     "text": [
      "Epoch  69 , loss 0.4181806766986847\n",
      "Epoch  70 , loss 0.4197217065095902\n"
     ]
    },
    {
     "name": "stderr",
     "output_type": "stream",
     "text": [
      "\r",
      "Iterations:  24%|████████                          | 71/300 [01:30<05:07,  1.34s/it]"
     ]
    },
    {
     "name": "stdout",
     "output_type": "stream",
     "text": [
      "Epoch:  70\n",
      "t_loss:  0.4197217065095902 , v_loss:  0.6947228709856669\n",
      "t_acc:  0.7023139462163852 , v_acc:  0.6988636363636364\n",
      "t_recall:  0.5152496626180837 , v_recall:  0.5161067648412333\n",
      "t_prec:  0.723181428388151 , v_prec:  0.6029411764705883\n",
      "t_f:  0.445671956808785 , v_f:  0.46040377162029267\n",
      "////////\n"
     ]
    },
    {
     "name": "stderr",
     "output_type": "stream",
     "text": [
      "\r",
      "Iterations:  24%|████████▏                         | 72/300 [01:31<04:38,  1.22s/it]"
     ]
    },
    {
     "name": "stdout",
     "output_type": "stream",
     "text": [
      "Epoch  71 , loss 0.4199433010816574\n",
      "Epoch  72 , loss 0.41665768265724185\n"
     ]
    },
    {
     "name": "stderr",
     "output_type": "stream",
     "text": [
      "\r",
      "Iterations:  24%|████████▎                         | 73/300 [01:32<05:02,  1.33s/it]"
     ]
    },
    {
     "name": "stdout",
     "output_type": "stream",
     "text": [
      "Epoch:  72\n",
      "t_loss:  0.41665768265724185 , v_loss:  0.6947380552689234\n",
      "t_acc:  0.7023139462163852 , v_acc:  0.6988636363636364\n",
      "t_recall:  0.517552856500225 , v_recall:  0.5161067648412333\n",
      "t_prec:  0.6926255031518189 , v_prec:  0.6029411764705883\n",
      "t_f:  0.45258669980818483 , v_f:  0.46040377162029267\n",
      "////////\n"
     ]
    },
    {
     "name": "stderr",
     "output_type": "stream",
     "text": [
      "\r",
      "Iterations:  25%|████████▍                         | 74/300 [01:33<04:32,  1.21s/it]"
     ]
    },
    {
     "name": "stdout",
     "output_type": "stream",
     "text": [
      "Epoch  73 , loss 0.4137646913528442\n",
      "Epoch  74 , loss 0.41699942231178283\n"
     ]
    },
    {
     "name": "stderr",
     "output_type": "stream",
     "text": [
      "\r",
      "Iterations:  25%|████████▌                         | 75/300 [01:35<04:56,  1.32s/it]"
     ]
    },
    {
     "name": "stdout",
     "output_type": "stream",
     "text": [
      "Epoch:  74\n",
      "t_loss:  0.41699942231178283 , v_loss:  0.6886542538801829\n",
      "t_acc:  0.7038774233896186 , v_acc:  0.6931818181818182\n",
      "t_recall:  0.5192532613585246 , v_recall:  0.5120417241908268\n",
      "t_prec:  0.7146251645819619 , v_prec:  0.5663567202028741\n",
      "t_f:  0.4550383703691174 , v_f:  0.4575342465753425\n",
      "////////\n"
     ]
    },
    {
     "name": "stderr",
     "output_type": "stream",
     "text": [
      "\r",
      "Iterations:  25%|████████▌                         | 76/300 [01:36<04:28,  1.20s/it]"
     ]
    },
    {
     "name": "stdout",
     "output_type": "stream",
     "text": [
      "Epoch  75 , loss 0.41704738557338716\n",
      "Epoch  76 , loss 0.414137904047966\n"
     ]
    },
    {
     "name": "stderr",
     "output_type": "stream",
     "text": [
      "\r",
      "Iterations:  26%|████████▋                         | 77/300 [01:37<04:52,  1.31s/it]"
     ]
    },
    {
     "name": "stdout",
     "output_type": "stream",
     "text": [
      "Epoch:  76\n",
      "t_loss:  0.414137904047966 , v_loss:  0.6897279421488444\n",
      "t_acc:  0.7032520325203252 , v_acc:  0.6931818181818182\n",
      "t_recall:  0.5185155195681511 , v_recall:  0.5120417241908268\n",
      "t_prec:  0.7064012096774194 , v_prec:  0.5663567202028741\n",
      "t_f:  0.45388744823684524 , v_f:  0.4575342465753425\n",
      "////////\n"
     ]
    },
    {
     "name": "stderr",
     "output_type": "stream",
     "text": [
      "\r",
      "Iterations:  26%|████████▊                         | 78/300 [01:38<04:27,  1.21s/it]"
     ]
    },
    {
     "name": "stdout",
     "output_type": "stream",
     "text": [
      "Epoch  77 , loss 0.41563873589038847\n",
      "Epoch  78 , loss 0.4169618755578995\n"
     ]
    },
    {
     "name": "stderr",
     "output_type": "stream",
     "text": [
      "\r",
      "Iterations:  26%|████████▉                         | 79/300 [01:40<04:51,  1.32s/it]"
     ]
    },
    {
     "name": "stdout",
     "output_type": "stream",
     "text": [
      "Epoch:  78\n",
      "t_loss:  0.4169618755578995 , v_loss:  0.6861965159575144\n",
      "t_acc:  0.7020012507817386 , v_acc:  0.6931818181818182\n",
      "t_recall:  0.5164642375168691 , v_recall:  0.5120417241908268\n",
      "t_prec:  0.6959422358884253 , v_prec:  0.5663567202028741\n",
      "t_f:  0.44987264392157444 , v_f:  0.4575342465753425\n",
      "////////\n"
     ]
    },
    {
     "name": "stderr",
     "output_type": "stream",
     "text": [
      "\r",
      "Iterations:  27%|█████████                         | 80/300 [01:41<04:29,  1.22s/it]"
     ]
    },
    {
     "name": "stdout",
     "output_type": "stream",
     "text": [
      "Epoch  79 , loss 0.4084445428848267\n",
      "Epoch  80 , loss 0.40966563403606415\n"
     ]
    },
    {
     "name": "stderr",
     "output_type": "stream",
     "text": [
      "\r",
      "Iterations:  27%|█████████▏                        | 81/300 [01:43<04:55,  1.35s/it]"
     ]
    },
    {
     "name": "stdout",
     "output_type": "stream",
     "text": [
      "Epoch:  80\n",
      "t_loss:  0.40966563403606415 , v_loss:  0.6815166026353836\n",
      "t_acc:  0.7066916823014384 , v_acc:  0.6931818181818182\n",
      "t_recall:  0.5227170490328384 , v_recall:  0.5120417241908268\n",
      "t_prec:  0.7492974861395914 , v_prec:  0.5663567202028741\n",
      "t_f:  0.46063689539924096 , v_f:  0.4575342465753425\n",
      "////////\n"
     ]
    },
    {
     "name": "stderr",
     "output_type": "stream",
     "text": [
      "\r",
      "Iterations:  27%|█████████▎                        | 82/300 [01:44<04:30,  1.24s/it]"
     ]
    },
    {
     "name": "stdout",
     "output_type": "stream",
     "text": [
      "Epoch  81 , loss 0.41368225634098055\n",
      "Epoch  82 , loss 0.41316288709640503\n"
     ]
    },
    {
     "name": "stderr",
     "output_type": "stream",
     "text": [
      "\r",
      "Iterations:  28%|█████████▍                        | 83/300 [01:45<04:52,  1.35s/it]"
     ]
    },
    {
     "name": "stdout",
     "output_type": "stream",
     "text": [
      "Epoch:  82\n",
      "t_loss:  0.41316288709640503 , v_loss:  0.6758388429880142\n",
      "t_acc:  0.7091932457786116 , v_acc:  0.6988636363636364\n",
      "t_recall:  0.527395411605938 , v_recall:  0.5214756864549778\n",
      "t_prec:  0.7535062439961575 , v_prec:  0.6041666666666667\n",
      "t_f:  0.47016193682860347 , v_f:  0.4745084783955834\n",
      "////////\n"
     ]
    },
    {
     "name": "stderr",
     "output_type": "stream",
     "text": [
      "\r",
      "Iterations:  28%|█████████▌                        | 84/300 [01:46<04:24,  1.22s/it]"
     ]
    },
    {
     "name": "stdout",
     "output_type": "stream",
     "text": [
      "Epoch  83 , loss 0.4155073803663254\n",
      "Epoch  84 , loss 0.412820611000061\n"
     ]
    },
    {
     "name": "stderr",
     "output_type": "stream",
     "text": [
      "\r",
      "Iterations:  28%|█████████▋                        | 85/300 [01:48<04:42,  1.32s/it]"
     ]
    },
    {
     "name": "stdout",
     "output_type": "stream",
     "text": [
      "Epoch:  84\n",
      "t_loss:  0.412820611000061 , v_loss:  0.6759156733751297\n",
      "t_acc:  0.7038774233896186 , v_acc:  0.6988636363636364\n",
      "t_recall:  0.5218443544759335 , v_recall:  0.5214756864549778\n",
      "t_prec:  0.6898091725465042 , v_prec:  0.6041666666666667\n",
      "t_f:  0.4625310239753104 , v_f:  0.4745084783955834\n",
      "////////\n"
     ]
    },
    {
     "name": "stderr",
     "output_type": "stream",
     "text": [
      "\r",
      "Iterations:  29%|█████████▋                        | 86/300 [01:49<04:18,  1.21s/it]"
     ]
    },
    {
     "name": "stdout",
     "output_type": "stream",
     "text": [
      "Epoch  85 , loss 0.41049232006073\n",
      "Epoch  86 , loss 0.41209374845027924\n"
     ]
    },
    {
     "name": "stderr",
     "output_type": "stream",
     "text": [
      "\r",
      "Iterations:  29%|█████████▊                        | 87/300 [01:50<04:39,  1.31s/it]"
     ]
    },
    {
     "name": "stdout",
     "output_type": "stream",
     "text": [
      "Epoch:  86\n",
      "t_loss:  0.41209374845027924 , v_loss:  0.6739668200413386\n",
      "t_acc:  0.707004377736085 , v_acc:  0.6988636363636364\n",
      "t_recall:  0.5246693657219973 , v_recall:  0.5214756864549778\n",
      "t_prec:  0.7312913105166626 , v_prec:  0.6041666666666667\n",
      "t_f:  0.4657649496710913 , v_f:  0.4745084783955834\n",
      "////////\n"
     ]
    },
    {
     "name": "stderr",
     "output_type": "stream",
     "text": [
      "\r",
      "Iterations:  29%|█████████▉                        | 88/300 [01:51<04:18,  1.22s/it]"
     ]
    },
    {
     "name": "stdout",
     "output_type": "stream",
     "text": [
      "Epoch  87 , loss 0.4063614296913147\n",
      "Epoch  88 , loss 0.4063256841897964\n"
     ]
    },
    {
     "name": "stderr",
     "output_type": "stream",
     "text": [
      "\r",
      "Iterations:  30%|██████████                        | 89/300 [01:53<04:37,  1.32s/it]"
     ]
    },
    {
     "name": "stdout",
     "output_type": "stream",
     "text": [
      "Epoch:  88\n",
      "t_loss:  0.4063256841897964 , v_loss:  0.6721481035153071\n",
      "t_acc:  0.7138836772983115 , v_acc:  0.6931818181818182\n",
      "t_recall:  0.5376788124156545 , v_recall:  0.5174106458045713\n",
      "t_prec:  0.7447141316073356 , v_prec:  0.5755156353958749\n",
      "t_f:  0.49145278423852434 , v_f:  0.471412680756396\n",
      "////////\n"
     ]
    },
    {
     "name": "stderr",
     "output_type": "stream",
     "text": [
      "\r",
      "Iterations:  30%|██████████▏                       | 90/300 [01:54<04:16,  1.22s/it]"
     ]
    },
    {
     "name": "stdout",
     "output_type": "stream",
     "text": [
      "Epoch  89 , loss 0.40688918709754945\n",
      "Epoch  90 , loss 0.41145455539226533\n"
     ]
    },
    {
     "name": "stderr",
     "output_type": "stream",
     "text": [
      "\r",
      "Iterations:  30%|██████████▎                       | 91/300 [01:55<04:36,  1.32s/it]"
     ]
    },
    {
     "name": "stdout",
     "output_type": "stream",
     "text": [
      "Epoch:  90\n",
      "t_loss:  0.41145455539226533 , v_loss:  0.6688969135284424\n",
      "t_acc:  0.7138836772983115 , v_acc:  0.6988636363636364\n",
      "t_recall:  0.5362393162393162 , v_recall:  0.5268446080687222\n",
      "t_prec:  0.7585450954575379 , v_prec:  0.6054216867469879\n",
      "t_f:  0.48767757567565817 , v_f:  0.4876695776349755\n",
      "////////\n"
     ]
    },
    {
     "name": "stderr",
     "output_type": "stream",
     "text": [
      "\r",
      "Iterations:  31%|██████████▍                       | 92/300 [01:56<04:12,  1.21s/it]"
     ]
    },
    {
     "name": "stdout",
     "output_type": "stream",
     "text": [
      "Epoch  91 , loss 0.4085639601945877\n",
      "Epoch  92 , loss 0.4085890418291092\n"
     ]
    },
    {
     "name": "stderr",
     "output_type": "stream",
     "text": [
      "\r",
      "Iterations:  31%|██████████▌                       | 93/300 [01:58<04:34,  1.33s/it]"
     ]
    },
    {
     "name": "stdout",
     "output_type": "stream",
     "text": [
      "Epoch:  92\n",
      "t_loss:  0.4085890418291092 , v_loss:  0.6707720259825388\n",
      "t_acc:  0.7104440275171983 , v_acc:  0.7045454545454546\n",
      "t_recall:  0.5311740890688259 , v_recall:  0.5309096487191287\n",
      "t_prec:  0.7389765046668813 , v_prec:  0.6340652029274784\n",
      "t_f:  0.47879924953095687 , v_f:  0.49098998887652945\n",
      "////////\n"
     ]
    },
    {
     "name": "stderr",
     "output_type": "stream",
     "text": [
      "\r",
      "Iterations:  31%|██████████▋                       | 94/300 [01:59<04:09,  1.21s/it]"
     ]
    },
    {
     "name": "stdout",
     "output_type": "stream",
     "text": [
      "Epoch  93 , loss 0.41170090198516845\n",
      "Epoch  94 , loss 0.40546995401382446\n"
     ]
    },
    {
     "name": "stderr",
     "output_type": "stream",
     "text": [
      "\r",
      "Iterations:  32%|██████████▊                       | 95/300 [02:00<04:35,  1.35s/it]"
     ]
    },
    {
     "name": "stdout",
     "output_type": "stream",
     "text": [
      "Epoch:  94\n",
      "t_loss:  0.40546995401382446 , v_loss:  0.6697547237078348\n",
      "t_acc:  0.7120075046904315 , v_acc:  0.7045454545454546\n",
      "t_recall:  0.5348897885739992 , v_recall:  0.5309096487191287\n",
      "t_prec:  0.7350113122171946 , v_prec:  0.6340652029274784\n",
      "t_f:  0.48660695065384735 , v_f:  0.49098998887652945\n",
      "////////\n"
     ]
    },
    {
     "name": "stderr",
     "output_type": "stream",
     "text": [
      "\r",
      "Iterations:  32%|██████████▉                       | 96/300 [02:01<04:09,  1.22s/it]"
     ]
    },
    {
     "name": "stdout",
     "output_type": "stream",
     "text": [
      "Epoch  95 , loss 0.40897794723510744\n",
      "Epoch  96 , loss 0.40766622245311734\n"
     ]
    },
    {
     "name": "stderr",
     "output_type": "stream",
     "text": [
      "\r",
      "Iterations:  32%|██████████▉                       | 97/300 [02:03<04:30,  1.33s/it]"
     ]
    },
    {
     "name": "stdout",
     "output_type": "stream",
     "text": [
      "Epoch:  96\n",
      "t_loss:  0.40766622245311734 , v_loss:  0.6618237495422363\n",
      "t_acc:  0.7151344590368981 , v_acc:  0.6931818181818182\n",
      "t_recall:  0.5411695906432749 , v_recall:  0.5227795674183157\n",
      "t_prec:  0.7377795305804856 , v_prec:  0.5818181818181818\n",
      "t_f:  0.4988170486063743 , v_f:  0.484375\n",
      "////////\n"
     ]
    },
    {
     "name": "stderr",
     "output_type": "stream",
     "text": [
      "\r",
      "Iterations:  33%|███████████                       | 98/300 [02:04<04:03,  1.21s/it]"
     ]
    },
    {
     "name": "stdout",
     "output_type": "stream",
     "text": [
      "Epoch  97 , loss 0.4118124622106552\n",
      "Epoch  98 , loss 0.40541124165058134\n"
     ]
    },
    {
     "name": "stderr",
     "output_type": "stream",
     "text": [
      "\r",
      "Iterations:  33%|███████████▏                      | 99/300 [02:05<04:25,  1.32s/it]"
     ]
    },
    {
     "name": "stdout",
     "output_type": "stream",
     "text": [
      "Epoch:  98\n",
      "t_loss:  0.40541124165058134 , v_loss:  0.6632611900568008\n",
      "t_acc:  0.7135709818636647 , v_acc:  0.6931818181818182\n",
      "t_recall:  0.537165991902834 , v_recall:  0.5174106458045713\n",
      "t_prec:  0.7435605934624792 , v_prec:  0.5755156353958749\n",
      "t_f:  0.4905223672411382 , v_f:  0.471412680756396\n",
      "////////\n"
     ]
    },
    {
     "name": "stderr",
     "output_type": "stream",
     "text": [
      "\r",
      "Iterations:  33%|███████████                      | 100/300 [02:06<03:59,  1.20s/it]"
     ]
    },
    {
     "name": "stdout",
     "output_type": "stream",
     "text": [
      "Epoch  99 , loss 0.40689688086509707\n",
      "Epoch  100 , loss 0.41024135529994965\n"
     ]
    },
    {
     "name": "stderr",
     "output_type": "stream",
     "text": [
      "\r",
      "Iterations:  34%|███████████                      | 101/300 [02:08<04:20,  1.31s/it]"
     ]
    },
    {
     "name": "stdout",
     "output_type": "stream",
     "text": [
      "Epoch:  100\n",
      "t_loss:  0.41024135529994965 , v_loss:  0.6672268658876419\n",
      "t_acc:  0.7095059412132583 , v_acc:  0.6931818181818182\n",
      "t_recall:  0.5304993252361674 , v_recall:  0.5174106458045713\n",
      "t_prec:  0.7265607863566572 , v_prec:  0.5755156353958749\n",
      "t_f:  0.47828446186300866 , v_f:  0.471412680756396\n",
      "////////\n"
     ]
    },
    {
     "name": "stderr",
     "output_type": "stream",
     "text": [
      "\r",
      "Iterations:  34%|███████████▏                     | 102/300 [02:09<03:58,  1.20s/it]"
     ]
    },
    {
     "name": "stdout",
     "output_type": "stream",
     "text": [
      "Epoch  101 , loss 0.4060026526451111\n",
      "Epoch  102 , loss 0.40023083448410035\n"
     ]
    },
    {
     "name": "stderr",
     "output_type": "stream",
     "text": [
      "\r",
      "Iterations:  34%|███████████▎                     | 103/300 [02:11<04:22,  1.33s/it]"
     ]
    },
    {
     "name": "stdout",
     "output_type": "stream",
     "text": [
      "Epoch:  102\n",
      "t_loss:  0.40023083448410035 , v_loss:  0.6655429104963938\n",
      "t_acc:  0.7173233270794246 , v_acc:  0.6931818181818182\n",
      "t_recall:  0.5450472334682861 , v_recall:  0.5174106458045713\n",
      "t_prec:  0.7430116706531235 , v_prec:  0.5755156353958749\n",
      "t_f:  0.5058758379281937 , v_f:  0.471412680756396\n",
      "////////\n"
     ]
    },
    {
     "name": "stderr",
     "output_type": "stream",
     "text": [
      "\r",
      "Iterations:  35%|███████████▍                     | 104/300 [02:12<04:04,  1.25s/it]"
     ]
    },
    {
     "name": "stdout",
     "output_type": "stream",
     "text": [
      "Epoch  103 , loss 0.4061509269475937\n",
      "Epoch  104 , loss 0.40204044997692107\n"
     ]
    },
    {
     "name": "stderr",
     "output_type": "stream",
     "text": [
      "\r",
      "Iterations:  35%|███████████▌                     | 105/300 [02:13<04:30,  1.39s/it]"
     ]
    },
    {
     "name": "stdout",
     "output_type": "stream",
     "text": [
      "Epoch:  104\n",
      "t_loss:  0.40204044997692107 , v_loss:  0.6657424022754034\n",
      "t_acc:  0.7157598499061913 , v_acc:  0.6875\n",
      "t_recall:  0.5410436347278452 , v_recall:  0.5133456051541647\n",
      "t_prec:  0.7488280113674506 , v_prec:  0.5524096385542169\n",
      "t_f:  0.4977358233028178 , v_f:  0.468336354149503\n",
      "////////\n"
     ]
    },
    {
     "name": "stderr",
     "output_type": "stream",
     "text": [
      "\r",
      "Iterations:  35%|███████████▋                     | 106/300 [02:14<04:05,  1.27s/it]"
     ]
    },
    {
     "name": "stdout",
     "output_type": "stream",
     "text": [
      "Epoch  105 , loss 0.4030883952975273\n",
      "Epoch  106 , loss 0.4009307345747948\n"
     ]
    },
    {
     "name": "stderr",
     "output_type": "stream",
     "text": [
      "\r",
      "Iterations:  36%|███████████▊                     | 107/300 [02:16<04:25,  1.37s/it]"
     ]
    },
    {
     "name": "stdout",
     "output_type": "stream",
     "text": [
      "Epoch:  106\n",
      "t_loss:  0.4009307345747948 , v_loss:  0.6614875743786494\n",
      "t_acc:  0.7207629768605378 , v_acc:  0.6875\n",
      "t_recall:  0.5506882591093117 , v_recall:  0.5240834483816537\n",
      "t_prec:  0.753168553204041 , v_prec:  0.5692239858906526\n",
      "t_f:  0.5156881635873157 , v_f:  0.49306101073579467\n",
      "////////\n"
     ]
    },
    {
     "name": "stderr",
     "output_type": "stream",
     "text": [
      "\r",
      "Iterations:  36%|███████████▉                     | 108/300 [02:17<04:00,  1.25s/it]"
     ]
    },
    {
     "name": "stdout",
     "output_type": "stream",
     "text": [
      "Epoch  107 , loss 0.4092531830072403\n",
      "Epoch  108 , loss 0.4055187898874283\n"
     ]
    },
    {
     "name": "stderr",
     "output_type": "stream",
     "text": [
      "\r",
      "Iterations:  36%|███████████▉                     | 109/300 [02:18<04:17,  1.35s/it]"
     ]
    },
    {
     "name": "stdout",
     "output_type": "stream",
     "text": [
      "Epoch:  108\n",
      "t_loss:  0.4055187898874283 , v_loss:  0.6602274775505066\n",
      "t_acc:  0.7173233270794246 , v_acc:  0.6931818181818182\n",
      "t_recall:  0.5464867296446244 , v_recall:  0.5281484890320601\n",
      "t_prec:  0.7337537148783051 , v_prec:  0.5865974516281265\n",
      "t_f:  0.509376018246986 , v_f:  0.49650349650349646\n",
      "////////\n"
     ]
    },
    {
     "name": "stderr",
     "output_type": "stream",
     "text": [
      "\r",
      "Iterations:  37%|████████████                     | 110/300 [02:19<03:56,  1.24s/it]"
     ]
    },
    {
     "name": "stdout",
     "output_type": "stream",
     "text": [
      "Epoch  109 , loss 0.404127339720726\n",
      "Epoch  110 , loss 0.40547478139400484\n"
     ]
    },
    {
     "name": "stderr",
     "output_type": "stream",
     "text": [
      "\r",
      "Iterations:  37%|████████████▏                    | 111/300 [02:21<04:14,  1.35s/it]"
     ]
    },
    {
     "name": "stdout",
     "output_type": "stream",
     "text": [
      "Epoch:  110\n",
      "t_loss:  0.40547478139400484 , v_loss:  0.6630294869343439\n",
      "t_acc:  0.7188868042526579 , v_acc:  0.6875\n",
      "t_recall:  0.5493387314439946 , v_recall:  0.5187145267679092\n",
      "t_prec:  0.7369029685423129 , v_prec:  0.5619918699186992\n",
      "t_f:  0.5144872676696537 , v_f:  0.4811042615920665\n",
      "////////\n"
     ]
    },
    {
     "name": "stderr",
     "output_type": "stream",
     "text": [
      "\r",
      "Iterations:  37%|████████████▎                    | 112/300 [02:22<03:54,  1.25s/it]"
     ]
    },
    {
     "name": "stdout",
     "output_type": "stream",
     "text": [
      "Epoch  111 , loss 0.3995885795354843\n",
      "Epoch  112 , loss 0.4057945841550827\n"
     ]
    },
    {
     "name": "stderr",
     "output_type": "stream",
     "text": [
      "\r",
      "Iterations:  38%|████████████▍                    | 113/300 [02:24<04:14,  1.36s/it]"
     ]
    },
    {
     "name": "stdout",
     "output_type": "stream",
     "text": [
      "Epoch:  112\n",
      "t_loss:  0.4057945841550827 , v_loss:  0.6624443779389063\n",
      "t_acc:  0.717010631644778 , v_acc:  0.6875\n",
      "t_recall:  0.5474134053081422 , v_recall:  0.5187145267679092\n",
      "t_prec:  0.7247703412073491 , v_prec:  0.5619918699186992\n",
      "t_f:  0.5119306899386581 , v_f:  0.4811042615920665\n",
      "////////\n"
     ]
    },
    {
     "name": "stderr",
     "output_type": "stream",
     "text": [
      "\r",
      "Iterations:  38%|████████████▌                    | 114/300 [02:25<03:58,  1.28s/it]"
     ]
    },
    {
     "name": "stdout",
     "output_type": "stream",
     "text": [
      "Epoch  113 , loss 0.40340507626533506\n",
      "Epoch  114 , loss 0.40663318276405336\n"
     ]
    },
    {
     "name": "stderr",
     "output_type": "stream",
     "text": [
      "\r",
      "Iterations:  38%|████████████▋                    | 115/300 [02:26<04:14,  1.37s/it]"
     ]
    },
    {
     "name": "stdout",
     "output_type": "stream",
     "text": [
      "Epoch:  114\n",
      "t_loss:  0.40663318276405336 , v_loss:  0.6606767872969309\n",
      "t_acc:  0.7185741088180112 , v_acc:  0.6875\n",
      "t_recall:  0.5462348178137651 , v_recall:  0.5187145267679092\n",
      "t_prec:  0.7531200982063697 , v_prec:  0.5619918699186992\n",
      "t_f:  0.5073572907423839 , v_f:  0.4811042615920665\n",
      "////////\n"
     ]
    },
    {
     "name": "stderr",
     "output_type": "stream",
     "text": [
      "\r",
      "Iterations:  39%|████████████▊                    | 116/300 [02:27<03:53,  1.27s/it]"
     ]
    },
    {
     "name": "stdout",
     "output_type": "stream",
     "text": [
      "Epoch  115 , loss 0.3977491861581802\n",
      "Epoch  116 , loss 0.4012916308641434\n"
     ]
    },
    {
     "name": "stderr",
     "output_type": "stream",
     "text": [
      "\r",
      "Iterations:  39%|████████████▊                    | 117/300 [02:29<04:12,  1.38s/it]"
     ]
    },
    {
     "name": "stdout",
     "output_type": "stream",
     "text": [
      "Epoch:  116\n",
      "t_loss:  0.4012916308641434 , v_loss:  0.6596607565879822\n",
      "t_acc:  0.7210756722951845 , v_acc:  0.6875\n",
      "t_recall:  0.5520647773279352 , v_recall:  0.5187145267679092\n",
      "t_prec:  0.7483958873081944 , v_prec:  0.5619918699186992\n",
      "t_f:  0.518604971406045 , v_f:  0.4811042615920665\n",
      "////////\n"
     ]
    },
    {
     "name": "stderr",
     "output_type": "stream",
     "text": [
      "\r",
      "Iterations:  39%|████████████▉                    | 118/300 [02:30<03:47,  1.25s/it]"
     ]
    },
    {
     "name": "stdout",
     "output_type": "stream",
     "text": [
      "Epoch  117 , loss 0.39870126664638517\n",
      "Epoch  118 , loss 0.40031944930553437\n"
     ]
    },
    {
     "name": "stderr",
     "output_type": "stream",
     "text": [
      "\r",
      "Iterations:  40%|█████████████                    | 119/300 [02:32<04:11,  1.39s/it]"
     ]
    },
    {
     "name": "stdout",
     "output_type": "stream",
     "text": [
      "Epoch:  118\n",
      "t_loss:  0.40031944930553437 , v_loss:  0.663274089495341\n",
      "t_acc:  0.7157598499061913 , v_acc:  0.6931818181818182\n",
      "t_recall:  0.5419073324336482 , v_recall:  0.5227795674183157\n",
      "t_prec:  0.7420404400008527 , v_prec:  0.5818181818181818\n",
      "t_f:  0.49991734048649206 , v_f:  0.484375\n",
      "////////\n"
     ]
    },
    {
     "name": "stderr",
     "output_type": "stream",
     "text": [
      "\r",
      "Iterations:  40%|█████████████▏                   | 120/300 [02:33<03:46,  1.26s/it]"
     ]
    },
    {
     "name": "stdout",
     "output_type": "stream",
     "text": [
      "Epoch  119 , loss 0.40000224351882935\n",
      "Epoch  120 , loss 0.39971302449703217\n"
     ]
    },
    {
     "name": "stderr",
     "output_type": "stream",
     "text": [
      "\r",
      "Iterations:  40%|█████████████▎                   | 121/300 [02:34<04:08,  1.39s/it]"
     ]
    },
    {
     "name": "stdout",
     "output_type": "stream",
     "text": [
      "Epoch:  120\n",
      "t_loss:  0.39971302449703217 , v_loss:  0.658396303653717\n",
      "t_acc:  0.7182614133833646 , v_acc:  0.6875\n",
      "t_recall:  0.5477372919478183 , v_recall:  0.5240834483816537\n",
      "t_prec:  0.7384295959000073 , v_prec:  0.5692239858906526\n",
      "t_f:  0.511349423731435 , v_f:  0.49306101073579467\n",
      "////////\n"
     ]
    },
    {
     "name": "stderr",
     "output_type": "stream",
     "text": [
      "\r",
      "Iterations:  41%|█████████████▍                   | 122/300 [02:35<03:44,  1.26s/it]"
     ]
    },
    {
     "name": "stdout",
     "output_type": "stream",
     "text": [
      "Epoch  121 , loss 0.40045318245887757\n",
      "Epoch  122 , loss 0.39704019665718077\n"
     ]
    },
    {
     "name": "stderr",
     "output_type": "stream",
     "text": [
      "\r",
      "Iterations:  41%|█████████████▌                   | 123/300 [02:37<04:04,  1.38s/it]"
     ]
    },
    {
     "name": "stdout",
     "output_type": "stream",
     "text": [
      "Epoch:  122\n",
      "t_loss:  0.39704019665718077 , v_loss:  0.6566718816757202\n",
      "t_acc:  0.7195121951219512 , v_acc:  0.6875\n",
      "t_recall:  0.5500764732343679 , v_recall:  0.5240834483816537\n",
      "t_prec:  0.7404452813469207 , v_prec:  0.5692239858906526\n",
      "t_f:  0.5155673849829581 , v_f:  0.49306101073579467\n",
      "////////\n"
     ]
    },
    {
     "name": "stderr",
     "output_type": "stream",
     "text": [
      "\r",
      "Iterations:  41%|█████████████▋                   | 124/300 [02:38<03:41,  1.26s/it]"
     ]
    },
    {
     "name": "stdout",
     "output_type": "stream",
     "text": [
      "Epoch  123 , loss 0.39991793155670163\n",
      "Epoch  124 , loss 0.4023031979799271\n"
     ]
    },
    {
     "name": "stderr",
     "output_type": "stream",
     "text": [
      "\r",
      "Iterations:  42%|█████████████▊                   | 125/300 [02:40<04:01,  1.38s/it]"
     ]
    },
    {
     "name": "stdout",
     "output_type": "stream",
     "text": [
      "Epoch:  124\n",
      "t_loss:  0.4023031979799271 , v_loss:  0.6617705126603445\n",
      "t_acc:  0.7166979362101313 , v_acc:  0.6875\n",
      "t_recall:  0.5460368870895187 , v_recall:  0.5187145267679092\n",
      "t_prec:  0.7284035113822348 , v_prec:  0.5619918699186992\n",
      "t_f:  0.5089841994412965 , v_f:  0.4811042615920665\n",
      "////////\n"
     ]
    },
    {
     "name": "stderr",
     "output_type": "stream",
     "text": [
      "\r",
      "Iterations:  42%|█████████████▊                   | 126/300 [02:41<03:41,  1.27s/it]"
     ]
    },
    {
     "name": "stdout",
     "output_type": "stream",
     "text": [
      "Epoch  125 , loss 0.3999926596879959\n",
      "Epoch  126 , loss 0.39719783306121825\n"
     ]
    },
    {
     "name": "stderr",
     "output_type": "stream",
     "text": [
      "\r",
      "Iterations:  42%|█████████████▉                   | 127/300 [02:42<04:01,  1.39s/it]"
     ]
    },
    {
     "name": "stdout",
     "output_type": "stream",
     "text": [
      "Epoch:  126\n",
      "t_loss:  0.39719783306121825 , v_loss:  0.6663284202416738\n",
      "t_acc:  0.7198248905565978 , v_acc:  0.6931818181818182\n",
      "t_recall:  0.5497255960413855 , v_recall:  0.5227795674183157\n",
      "t_prec:  0.7467043594703169 , v_prec:  0.5818181818181818\n",
      "t_f:  0.5144037998889643 , v_f:  0.484375\n",
      "////////\n"
     ]
    },
    {
     "name": "stderr",
     "output_type": "stream",
     "text": [
      "\r",
      "Iterations:  43%|██████████████                   | 128/300 [02:43<03:41,  1.29s/it]"
     ]
    },
    {
     "name": "stdout",
     "output_type": "stream",
     "text": [
      "Epoch  127 , loss 0.39987461268901825\n",
      "Epoch  128 , loss 0.39829513043165204\n"
     ]
    },
    {
     "name": "stderr",
     "output_type": "stream",
     "text": [
      "\r",
      "Iterations:  43%|██████████████▏                  | 129/300 [02:45<04:05,  1.44s/it]"
     ]
    },
    {
     "name": "stdout",
     "output_type": "stream",
     "text": [
      "Epoch:  128\n",
      "t_loss:  0.39829513043165204 , v_loss:  0.6654689311981201\n",
      "t_acc:  0.7198248905565978 , v_acc:  0.6875\n",
      "t_recall:  0.5534682860998651 , v_recall:  0.5187145267679092\n",
      "t_prec:  0.7263885009015415 , v_prec:  0.5619918699186992\n",
      "t_f:  0.5230907706155231 , v_f:  0.4811042615920665\n",
      "////////\n"
     ]
    },
    {
     "name": "stderr",
     "output_type": "stream",
     "text": [
      "\r",
      "Iterations:  43%|██████████████▎                  | 130/300 [02:46<03:42,  1.31s/it]"
     ]
    },
    {
     "name": "stdout",
     "output_type": "stream",
     "text": [
      "Epoch  129 , loss 0.3994341421127319\n",
      "Epoch  130 , loss 0.39631839156150817\n"
     ]
    },
    {
     "name": "stderr",
     "output_type": "stream",
     "text": [
      "\r",
      "Iterations:  44%|██████████████▍                  | 131/300 [02:48<03:56,  1.40s/it]"
     ]
    },
    {
     "name": "stdout",
     "output_type": "stream",
     "text": [
      "Epoch:  130\n",
      "t_loss:  0.39631839156150817 , v_loss:  0.6589432855447134\n",
      "t_acc:  0.7226391494684178 , v_acc:  0.6818181818181818\n",
      "t_recall:  0.5549167791273054 , v_recall:  0.5200184077312472\n",
      "t_prec:  0.7508218277449047 , v_prec:  0.5540372670807454\n",
      "t_f:  0.5236336247830501 , v_f:  0.4896437448218724\n",
      "////////\n"
     ]
    },
    {
     "name": "stderr",
     "output_type": "stream",
     "text": [
      "\r",
      "Iterations:  44%|██████████████▌                  | 132/300 [02:49<03:33,  1.27s/it]"
     ]
    },
    {
     "name": "stdout",
     "output_type": "stream",
     "text": [
      "Epoch  131 , loss 0.39171127557754515\n",
      "Epoch  132 , loss 0.39690883696079254\n"
     ]
    },
    {
     "name": "stderr",
     "output_type": "stream",
     "text": [
      "\r",
      "Iterations:  44%|██████████████▋                  | 133/300 [02:50<03:49,  1.37s/it]"
     ]
    },
    {
     "name": "stdout",
     "output_type": "stream",
     "text": [
      "Epoch:  132\n",
      "t_loss:  0.39690883696079254 , v_loss:  0.6600332111120224\n",
      "t_acc:  0.7223264540337712 , v_acc:  0.6818181818181818\n",
      "t_recall:  0.5552676563202879 , v_recall:  0.5146494861175027\n",
      "t_prec:  0.7449878005632398 , v_prec:  0.5450684285040114\n",
      "t_f:  0.5247442831896321 , v_f:  0.47785547785547783\n",
      "////////\n"
     ]
    },
    {
     "name": "stderr",
     "output_type": "stream",
     "text": [
      "\r",
      "Iterations:  45%|██████████████▋                  | 134/300 [02:51<03:28,  1.25s/it]"
     ]
    },
    {
     "name": "stdout",
     "output_type": "stream",
     "text": [
      "Epoch  133 , loss 0.39543725311756134\n",
      "Epoch  134 , loss 0.3953448539972305\n"
     ]
    },
    {
     "name": "stderr",
     "output_type": "stream",
     "text": [
      "\r",
      "Iterations:  45%|██████████████▊                  | 135/300 [02:53<03:45,  1.36s/it]"
     ]
    },
    {
     "name": "stdout",
     "output_type": "stream",
     "text": [
      "Epoch:  134\n",
      "t_loss:  0.3953448539972305 , v_loss:  0.6611360112826029\n",
      "t_acc:  0.7182614133833646 , v_acc:  0.6761363636363636\n",
      "t_recall:  0.5509041835357625 , v_recall:  0.5105844454670962\n",
      "t_prec:  0.7217369808833223 , v_prec:  0.5304232804232805\n",
      "t_f:  0.5187823484820524 , v_f:  0.47462686567164186\n",
      "////////\n"
     ]
    },
    {
     "name": "stderr",
     "output_type": "stream",
     "text": [
      "\r",
      "Iterations:  45%|██████████████▉                  | 136/300 [02:54<03:23,  1.24s/it]"
     ]
    },
    {
     "name": "stdout",
     "output_type": "stream",
     "text": [
      "Epoch  135 , loss 0.3956082379817963\n",
      "Epoch  136 , loss 0.39406637728214267\n"
     ]
    },
    {
     "name": "stderr",
     "output_type": "stream",
     "text": [
      "\r",
      "Iterations:  46%|███████████████                  | 137/300 [02:55<03:40,  1.35s/it]"
     ]
    },
    {
     "name": "stdout",
     "output_type": "stream",
     "text": [
      "Epoch:  136\n",
      "t_loss:  0.39406637728214267 , v_loss:  0.6639295419057211\n",
      "t_acc:  0.7217010631644778 , v_acc:  0.6818181818181818\n",
      "t_recall:  0.5568331084120558 , v_recall:  0.5146494861175027\n",
      "t_prec:  0.7303676524217483 , v_prec:  0.5450684285040114\n",
      "t_f:  0.5288563914314772 , v_f:  0.47785547785547783\n",
      "////////\n"
     ]
    },
    {
     "name": "stderr",
     "output_type": "stream",
     "text": [
      "\r",
      "Iterations:  46%|███████████████▏                 | 138/300 [02:57<03:24,  1.26s/it]"
     ]
    },
    {
     "name": "stdout",
     "output_type": "stream",
     "text": [
      "Epoch  137 , loss 0.39500867545604706\n",
      "Epoch  138 , loss 0.39556857585906985\n"
     ]
    },
    {
     "name": "stderr",
     "output_type": "stream",
     "text": [
      "\r",
      "Iterations:  46%|███████████████▎                 | 139/300 [02:58<03:39,  1.36s/it]"
     ]
    },
    {
     "name": "stdout",
     "output_type": "stream",
     "text": [
      "Epoch:  138\n",
      "t_loss:  0.39556857585906985 , v_loss:  0.6573538978894552\n",
      "t_acc:  0.7285803627267042 , v_acc:  0.6761363636363636\n",
      "t_recall:  0.5640845704003599 , v_recall:  0.5159533670808406\n",
      "t_prec:  0.7683422298726665 , v_prec:  0.540625\n",
      "t_f:  0.5386247818499127 , v_f:  0.48624980795821177\n",
      "////////\n"
     ]
    },
    {
     "name": "stderr",
     "output_type": "stream",
     "text": [
      "\r",
      "Iterations:  47%|███████████████▍                 | 140/300 [02:59<03:26,  1.29s/it]"
     ]
    },
    {
     "name": "stdout",
     "output_type": "stream",
     "text": [
      "Epoch  139 , loss 0.39137116968631747\n",
      "Epoch  140 , loss 0.392743821144104\n"
     ]
    },
    {
     "name": "stderr",
     "output_type": "stream",
     "text": [
      "\r",
      "Iterations:  47%|███████████████▌                 | 141/300 [03:01<03:42,  1.40s/it]"
     ]
    },
    {
     "name": "stdout",
     "output_type": "stream",
     "text": [
      "Epoch:  140\n",
      "t_loss:  0.392743821144104 , v_loss:  0.6611858407656351\n",
      "t_acc:  0.7226391494684178 , v_acc:  0.6988636363636364\n",
      "t_recall:  0.5583715699505173 , v_recall:  0.5429513729099555\n",
      "t_prec:  0.732891539650983 , v_prec:  0.609375\n",
      "t_f:  0.5313960605317217 , v_f:  0.5223024530137758\n",
      "////////\n"
     ]
    },
    {
     "name": "stderr",
     "output_type": "stream",
     "text": [
      "\r",
      "Iterations:  47%|███████████████▌                 | 142/300 [03:02<03:21,  1.27s/it]"
     ]
    },
    {
     "name": "stdout",
     "output_type": "stream",
     "text": [
      "Epoch  141 , loss 0.3949937689304352\n",
      "Epoch  142 , loss 0.3984245479106903\n"
     ]
    }
   ],
   "source": [
    "from utilities.userfold_framework import *\n",
    "# from utilities.EEG_func import *\n",
    "import Models.model_func as Model_Func\n",
    "from Models.AR_EEG_models import *\n",
    "import numpy as np\n",
    "import pandas as pd\n",
    "import matplotlib.pyplot as plt\n",
    "import seaborn as sns\n",
    "from typing import List\n",
    "from torcheeg.models import EEGNet\n",
    "from torch import nn\n",
    "\n",
    "\n",
    "DEVICE= torch.device(\"cuda\") if torch.cuda.is_available() else torch.device(\"cpu\")\n",
    "\n",
    "learning_rate = 0.00005\n",
    "batch_size = 64\n",
    "n_epochs = 300\n",
    "transpose_channels=True\n",
    "participants_dictionary=[]\n",
    "# participants_online_dictionary=[]\n",
    "participants_grads_dictionary={}\n",
    "b_acc_list=[]\n",
    "c0_acc_list=[]\n",
    "c1_acc_list=[]\n",
    "\n",
    "# EPOCH=[\n",
    "    \n",
    "# ]\n",
    "\n",
    "for i in range(len(participants)):\n",
    "\n",
    "    train_dataloader, val_dataloader, classes, input_dim, class_ratio= user_fold_load(i,\n",
    "                                                                                      raw_user_fold,\n",
    "                                                                                      participants,\n",
    "                                                                                      batch_size=batch_size,\n",
    "                                                                                      transpose_channels=transpose_channels)\n",
    "\n",
    "    classifier= EEGNet(\n",
    "        chunk_size=input_dim[1],\n",
    "        num_electrodes=input_dim[0],\n",
    "        num_classes=classes,\n",
    "        kernel_1= 32,\n",
    "        kernel_2=32,\n",
    "        F1=8,\n",
    "        F2=16,\n",
    "        dropout=0.5\n",
    "    ).to(DEVICE)\n",
    "    \n",
    "#     resnet = ResNetPlus(input_dim[0], classes, bn_1st=False)\n",
    "#     softmax_activation = nn.LogSoftmax(dim=1)\n",
    "#     classifier = nn.Sequential(resnet, softmax_activation).to(DEVICE)\n",
    "\n",
    "    \n",
    "#     classifier = DataGliderBasic_Model(DEVICE, input_dim, classes)\n",
    "#     classifier.to(DEVICE)\n",
    "    \n",
    "#     optimizer= torch.optim.RMSprop(classifier.parameters(), lr=learning_rate)\n",
    "\n",
    "    \n",
    "    criterion= torch.nn.CrossEntropyLoss(weight=torch.tensor(class_ratio, dtype=torch.float).to(DEVICE))\n",
    "#     criterion = nn.NLLLoss(weight=torch.tensor(class_ratio, dtype=torch.float).to(DEVICE))\n",
    "    \n",
    "    \n",
    "    saved_dir= \"./EEG/saved_models/Userfold/run2\"\n",
    "#     model= Multivariate_IEGradient(DEVICE, input_dim, resnet_classifier).to(DEVICE)\n",
    "    model= LSTM_EEGNet_Wrapper(DEVICE, classifier, input_dim).to(DEVICE)\n",
    "    optimizer = torch.optim.Adam(model.parameters(), lr = learning_rate)\n",
    "    scheduler= torch.optim.lr_scheduler.ReduceLROnPlateau(optimizer, patience=2)\n",
    "\n",
    "    train_func= eeg_train\n",
    "    model.training_procedure(iteration=n_epochs,\n",
    "                                    train_dataloader=train_dataloader,\n",
    "                                     val_dataloader=val_dataloader,\n",
    "                                     print_cycle=2,\n",
    "                                     path=f\"./dictionary/intermdiate_dicts\",\n",
    "                                     loss_func=criterion,\n",
    "                                     optimiser=optimizer, #scheduler=scheduler,\n",
    "                                     train_func=train_func\n",
    "                                    )\n",
    "    if model.epoch == n_epochs+1:\n",
    "        EPOCH= n_epochs\n",
    "    else:\n",
    "        EPOCH= model.epoch\n",
    "    \n",
    "    torch.save(model.state_dict(), \n",
    "           os.path.join(\n",
    "               saved_dir, f\"Userfold-{participants[i]}-LSTM_EEGNet-Baseline-e{EPOCH}.pt\"\n",
    "           )\n",
    "    )\n",
    "\n",
    "# OR\n",
    "#     model.load_state_dict(\n",
    "#     torch.load(\n",
    "#         open(\n",
    "#             os.path.join(\n",
    "#                 saved_dir, f\"Userfold-{participants[i]}-LSTM_EEGNet-Baseline-e{n_epochs}.pt\"\n",
    "#             ), \"rb\"\n",
    "#         )\n",
    "#               )\n",
    "#     )\n",
    "\n",
    "    \n",
    "    prediction, dictionary= model.prediction_procedure(val_dataloader, dict_flag=True)\n",
    "    \n",
    "    ys= np.concatenate([y.detach().cpu().numpy() for x, y in val_dataloader])\n",
    "    \n",
    "    c0_acc, c1_acc, b_acc= calculate_accuracy(ys, prediction)\n",
    "    print(\"c0_acc\", c0_acc, \", c1_acc\", c1_acc, \", b_acc\", b_acc)\n",
    "    b_acc_list.append(b_acc)\n",
    "    c0_acc_list.append(c0_acc)\n",
    "    c1_acc_list.append(c1_acc)\n",
    "    participants_dictionary.append(dictionary)\n",
    "    \n",
    "\n",
    "tmp=[]\n",
    "for i, dictionary in enumerate(participants_dictionary):\n",
    "    print(f\"User {participants[i]} f1: {dictionary['weighted avg']['f1-score']} acc: {dictionary['accuracy']}\")\n",
    "    print(f\" c0: {c0_acc_list[i]} c1: {c1_acc_list[i]} bacc: {b_acc_list[i]}\")\n",
    "    tmp.append(dictionary['weighted avg']['f1-score'])\n",
    "\n",
    "print(f\"average {np.mean(tmp)}\")\n",
    "print()\n",
    "print(np.array(b_acc_list).mean())\n",
    "print(np.array(c1_acc_list).mean())\n",
    "print(np.array(c0_acc_list).mean())\n"
   ]
  },
  {
   "cell_type": "code",
   "execution_count": null,
   "id": "eb9de653",
   "metadata": {},
   "outputs": [],
   "source": [
    "userfold_results_summary(participants_dictionary, participants)\n",
    "userfold_classwise_results_summary(participants_dictionary, participants)\n"
   ]
  }
 ],
 "metadata": {
  "kernelspec": {
   "display_name": "Python [conda env:pytorch]",
   "language": "python",
   "name": "conda-env-pytorch-py"
  },
  "language_info": {
   "codemirror_mode": {
    "name": "ipython",
    "version": 3
   },
   "file_extension": ".py",
   "mimetype": "text/x-python",
   "name": "python",
   "nbconvert_exporter": "python",
   "pygments_lexer": "ipython3",
   "version": "3.7.10"
  }
 },
 "nbformat": 4,
 "nbformat_minor": 5
}
