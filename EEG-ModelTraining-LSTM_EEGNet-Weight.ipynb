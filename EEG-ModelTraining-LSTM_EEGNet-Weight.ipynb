{
 "cells": [
  {
   "cell_type": "code",
   "execution_count": 1,
   "id": "4c9e593e",
   "metadata": {},
   "outputs": [],
   "source": [
    "import numpy as np\n",
    "import pickle\n",
    "import sys\n",
    "from typing import List\n",
    "import torch\n",
    "import os"
   ]
  },
  {
   "cell_type": "code",
   "execution_count": 2,
   "id": "eb96ce98",
   "metadata": {},
   "outputs": [],
   "source": [
    "participant_data_path = './EEG/number'\n",
    "processed_data_path = './EEG/processed_data'\n",
    "split_data_path = './EEG/split_data'"
   ]
  },
  {
   "cell_type": "code",
   "execution_count": 3,
   "id": "62c74d3a",
   "metadata": {},
   "outputs": [],
   "source": [
    "ps = os.listdir(participant_data_path)\n",
    "participants=[]\n",
    "for p in ps:\n",
    "    p= p[:3]\n",
    "    if p not in participants:\n",
    "        participants.append(p)\n",
    "        \n",
    "participants= sorted(participants)\n",
    "# participants, len(participants)"
   ]
  },
  {
   "cell_type": "code",
   "execution_count": 4,
   "id": "28f3009e",
   "metadata": {
    "scrolled": true
   },
   "outputs": [],
   "source": [
    "load_name=f\"userfold_data_scaled_p_dictionary-number\"\n",
    "data_dir = \"./EEG/split_data/standard_scaled\"\n",
    "try:\n",
    "    raw_user_fold= pickle.load(open(os.path.join(data_dir, f\"{load_name}.pkl\"), \"rb\"))\n",
    "except:\n",
    "    print(f\"pickle file does not exist. Use EEG-Preprocess.ipynb and EEG-Split.ipynb to save data setting.\")\n",
    "    sys.exit()"
   ]
  },
  {
   "cell_type": "code",
   "execution_count": null,
   "id": "082a80ac",
   "metadata": {
    "scrolled": true
   },
   "outputs": [
    {
     "name": "stderr",
     "output_type": "stream",
     "text": [
      "\r",
      "Iterations:   0%|                                           | 0/300 [00:00<?, ?it/s]"
     ]
    },
    {
     "name": "stdout",
     "output_type": "stream",
     "text": [
      "Epoch  0 , loss 0.702271068797392\n"
     ]
    },
    {
     "name": "stderr",
     "output_type": "stream",
     "text": [
      "\r",
      "Iterations:   0%|                                   | 1/300 [00:03<15:34,  3.13s/it]"
     ]
    },
    {
     "name": "stdout",
     "output_type": "stream",
     "text": [
      "Epoch:  0\n",
      "t_loss:  0.702271068797392 , v_loss:  0.6905363202095032\n",
      "t_acc:  0.5144724556489262 , v_acc:  0.6894409937888198\n",
      "t_recall:  0.5095400831720673 , v_recall:  0.5\n",
      "t_prec:  0.5080885587214701 , v_prec:  0.3447204968944099\n",
      "t_f:  0.49163496155222397 , v_f:  0.4080882352941176\n",
      "////////\n"
     ]
    },
    {
     "name": "stderr",
     "output_type": "stream",
     "text": [
      "\r",
      "Iterations:   1%|▏                                  | 2/300 [00:04<09:01,  1.82s/it]"
     ]
    },
    {
     "name": "stdout",
     "output_type": "stream",
     "text": [
      "Epoch  1 , loss 0.6380071102404127\n",
      "Epoch  2 , loss 0.5902049576534945\n"
     ]
    },
    {
     "name": "stderr",
     "output_type": "stream",
     "text": [
      "\r",
      "Iterations:   1%|▎                                  | 3/300 [00:05<08:06,  1.64s/it]"
     ]
    },
    {
     "name": "stdout",
     "output_type": "stream",
     "text": [
      "Epoch:  2\n",
      "t_loss:  0.5902049576534945 , v_loss:  0.681051770846049\n",
      "t_acc:  0.6458138811079988 , v_acc:  0.6894409937888198\n",
      "t_recall:  0.4961220680473779 , v_recall:  0.5\n",
      "t_prec:  0.4921618542649536 , v_prec:  0.3447204968944099\n",
      "t_f:  0.46930023687327277 , v_f:  0.4080882352941176\n",
      "////////\n"
     ]
    },
    {
     "name": "stderr",
     "output_type": "stream",
     "text": [
      "\r",
      "Iterations:   1%|▍                                  | 4/300 [00:06<06:47,  1.38s/it]"
     ]
    },
    {
     "name": "stdout",
     "output_type": "stream",
     "text": [
      "Epoch  3 , loss 0.5531618384753957\n",
      "Epoch  4 , loss 0.5222154329804813\n"
     ]
    },
    {
     "name": "stderr",
     "output_type": "stream",
     "text": [
      "\r",
      "Iterations:   2%|▌                                  | 5/300 [00:08<07:08,  1.45s/it]"
     ]
    },
    {
     "name": "stdout",
     "output_type": "stream",
     "text": [
      "Epoch:  4\n",
      "t_loss:  0.5222154329804813 , v_loss:  0.6663374304771423\n",
      "t_acc:  0.6865857454092749 , v_acc:  0.6894409937888198\n",
      "t_recall:  0.5018507843702392 , v_recall:  0.5\n",
      "t_prec:  0.5148752399232246 , v_prec:  0.3447204968944099\n",
      "t_f:  0.4333110019940572 , v_f:  0.4080882352941176\n",
      "////////\n"
     ]
    },
    {
     "name": "stderr",
     "output_type": "stream",
     "text": [
      "\r",
      "Iterations:   2%|▋                                  | 6/300 [00:09<06:28,  1.32s/it]"
     ]
    },
    {
     "name": "stdout",
     "output_type": "stream",
     "text": [
      "Epoch  5 , loss 0.5121478403315824\n",
      "Epoch  6 , loss 0.48847340602500766\n"
     ]
    },
    {
     "name": "stderr",
     "output_type": "stream",
     "text": [
      "\r",
      "Iterations:   2%|▊                                  | 7/300 [00:10<07:04,  1.45s/it]"
     ]
    },
    {
     "name": "stdout",
     "output_type": "stream",
     "text": [
      "Epoch:  6\n",
      "t_loss:  0.48847340602500766 , v_loss:  0.6726422607898712\n",
      "t_acc:  0.6937441643323996 , v_acc:  0.6894409937888198\n",
      "t_recall:  0.49980785330972677 , v_recall:  0.5\n",
      "t_prec:  0.49062206939668646 , v_prec:  0.3447204968944099\n",
      "t_f:  0.4134912201550572 , v_f:  0.4080882352941176\n",
      "////////\n"
     ]
    },
    {
     "name": "stderr",
     "output_type": "stream",
     "text": [
      "\r",
      "Iterations:   3%|▉                                  | 8/300 [00:11<06:26,  1.32s/it]"
     ]
    },
    {
     "name": "stdout",
     "output_type": "stream",
     "text": [
      "Epoch  7 , loss 0.4791434185177672\n",
      "Epoch  8 , loss 0.47023488435090754\n"
     ]
    },
    {
     "name": "stderr",
     "output_type": "stream",
     "text": [
      "\r",
      "Iterations:   3%|█                                  | 9/300 [00:13<06:45,  1.39s/it]"
     ]
    },
    {
     "name": "stdout",
     "output_type": "stream",
     "text": [
      "Epoch:  8\n",
      "t_loss:  0.47023488435090754 , v_loss:  0.7111787100632986\n",
      "t_acc:  0.6949891067538126 , v_acc:  0.6894409937888198\n",
      "t_recall:  0.49955257270693515 , v_recall:  0.5\n",
      "t_prec:  0.3477109934599813 , v_prec:  0.3447204968944099\n",
      "t_f:  0.41002570694087404 , v_f:  0.4080882352941176\n",
      "////////\n"
     ]
    },
    {
     "name": "stderr",
     "output_type": "stream",
     "text": [
      "\r",
      "Iterations:   3%|█▏                                | 10/300 [00:14<06:03,  1.25s/it]"
     ]
    },
    {
     "name": "stdout",
     "output_type": "stream",
     "text": [
      "Epoch  9 , loss 0.4636850544050628\n",
      "Epoch  10 , loss 0.4650317021444732\n"
     ]
    },
    {
     "name": "stderr",
     "output_type": "stream",
     "text": [
      "\r",
      "Iterations:   4%|█▏                                | 11/300 [00:15<06:21,  1.32s/it]"
     ]
    },
    {
     "name": "stdout",
     "output_type": "stream",
     "text": [
      "Epoch:  10\n",
      "t_loss:  0.4650317021444732 , v_loss:  0.7426718374093374\n",
      "t_acc:  0.6956115779645191 , v_acc:  0.6894409937888198\n",
      "t_recall:  0.5 , v_recall:  0.5\n",
      "t_prec:  0.34780578898225956 , v_prec:  0.3447204968944099\n",
      "t_f:  0.4102422907488987 , v_f:  0.4080882352941176\n",
      "////////\n"
     ]
    },
    {
     "name": "stderr",
     "output_type": "stream",
     "text": [
      "\r",
      "Iterations:   4%|█▎                                | 12/300 [00:16<05:52,  1.22s/it]"
     ]
    },
    {
     "name": "stdout",
     "output_type": "stream",
     "text": [
      "Epoch  11 , loss 0.46123133278360556\n",
      "Epoch  12 , loss 0.4587198671172647\n"
     ]
    },
    {
     "name": "stderr",
     "output_type": "stream",
     "text": [
      "\r",
      "Iterations:   4%|█▍                                | 13/300 [00:18<06:04,  1.27s/it]"
     ]
    },
    {
     "name": "stdout",
     "output_type": "stream",
     "text": [
      "Epoch:  12\n",
      "t_loss:  0.4587198671172647 , v_loss:  0.7624421119689941\n",
      "t_acc:  0.6956115779645191 , v_acc:  0.6894409937888198\n",
      "t_recall:  0.5 , v_recall:  0.5\n",
      "t_prec:  0.34780578898225956 , v_prec:  0.3447204968944099\n",
      "t_f:  0.4102422907488987 , v_f:  0.4080882352941176\n",
      "////////\n"
     ]
    },
    {
     "name": "stderr",
     "output_type": "stream",
     "text": [
      "\r",
      "Iterations:   5%|█▌                                | 14/300 [00:19<05:31,  1.16s/it]"
     ]
    },
    {
     "name": "stdout",
     "output_type": "stream",
     "text": [
      "Epoch  13 , loss 0.45823639748143213\n",
      "Epoch  14 , loss 0.45621709846982766\n"
     ]
    },
    {
     "name": "stderr",
     "output_type": "stream",
     "text": [
      "\r",
      "Iterations:   5%|█▋                                | 15/300 [00:20<05:50,  1.23s/it]"
     ]
    },
    {
     "name": "stdout",
     "output_type": "stream",
     "text": [
      "Epoch:  14\n",
      "t_loss:  0.45621709846982766 , v_loss:  0.7632278154293696\n",
      "t_acc:  0.6959228135698724 , v_acc:  0.6894409937888198\n",
      "t_recall:  0.5005112474437627 , v_recall:  0.5\n",
      "t_prec:  0.8479140722291407 , v_prec:  0.3447204968944099\n",
      "t_f:  0.41133905648131597 , v_f:  0.4080882352941176\n",
      "////////\n"
     ]
    },
    {
     "name": "stderr",
     "output_type": "stream",
     "text": [
      "\r",
      "Iterations:   5%|█▊                                | 16/300 [00:21<05:23,  1.14s/it]"
     ]
    },
    {
     "name": "stdout",
     "output_type": "stream",
     "text": [
      "Epoch  15 , loss 0.4643665628105986\n",
      "Epoch  16 , loss 0.4528966791489545\n"
     ]
    },
    {
     "name": "stderr",
     "output_type": "stream",
     "text": [
      "\r",
      "Iterations:   6%|█▉                                | 17/300 [00:22<05:55,  1.25s/it]"
     ]
    },
    {
     "name": "stdout",
     "output_type": "stream",
     "text": [
      "Epoch:  16\n",
      "t_loss:  0.4528966791489545 , v_loss:  0.7552669197320938\n",
      "t_acc:  0.6959228135698724 , v_acc:  0.6894409937888198\n",
      "t_recall:  0.5005112474437627 , v_recall:  0.5\n",
      "t_prec:  0.8479140722291407 , v_prec:  0.3447204968944099\n",
      "t_f:  0.41133905648131597 , v_f:  0.4080882352941176\n",
      "////////\n"
     ]
    },
    {
     "name": "stderr",
     "output_type": "stream",
     "text": [
      "\r",
      "Iterations:   6%|██                                | 18/300 [00:23<05:29,  1.17s/it]"
     ]
    },
    {
     "name": "stdout",
     "output_type": "stream",
     "text": [
      "Epoch  17 , loss 0.4554663879029891\n",
      "Epoch  18 , loss 0.45350578310442907\n"
     ]
    },
    {
     "name": "stderr",
     "output_type": "stream",
     "text": [
      "\r",
      "Iterations:   6%|██▏                               | 19/300 [00:25<05:53,  1.26s/it]"
     ]
    },
    {
     "name": "stdout",
     "output_type": "stream",
     "text": [
      "Epoch:  18\n",
      "t_loss:  0.45350578310442907 , v_loss:  0.7531601041555405\n",
      "t_acc:  0.6956115779645191 , v_acc:  0.6894409937888198\n",
      "t_recall:  0.5 , v_recall:  0.5\n",
      "t_prec:  0.34780578898225956 , v_prec:  0.3447204968944099\n",
      "t_f:  0.4102422907488987 , v_f:  0.4080882352941176\n",
      "////////\n"
     ]
    },
    {
     "name": "stderr",
     "output_type": "stream",
     "text": [
      "\r",
      "Iterations:   7%|██▎                               | 20/300 [00:26<05:22,  1.15s/it]"
     ]
    },
    {
     "name": "stdout",
     "output_type": "stream",
     "text": [
      "Epoch  19 , loss 0.45265351615700067\n",
      "Epoch  20 , loss 0.45861049551589816\n"
     ]
    },
    {
     "name": "stderr",
     "output_type": "stream",
     "text": [
      "\r",
      "Iterations:   7%|██▍                               | 21/300 [00:27<05:59,  1.29s/it]"
     ]
    },
    {
     "name": "stdout",
     "output_type": "stream",
     "text": [
      "Epoch:  20\n",
      "t_loss:  0.45861049551589816 , v_loss:  0.7518110076586405\n",
      "t_acc:  0.6953003423591659 , v_acc:  0.6894409937888198\n",
      "t_recall:  0.49977628635346755 , v_recall:  0.5\n",
      "t_prec:  0.34775840597758406 , v_prec:  0.3447204968944099\n",
      "t_f:  0.41013401872590416 , v_f:  0.4080882352941176\n",
      "////////\n"
     ]
    },
    {
     "name": "stderr",
     "output_type": "stream",
     "text": [
      "\r",
      "Iterations:   7%|██▍                               | 22/300 [00:28<05:23,  1.16s/it]"
     ]
    },
    {
     "name": "stdout",
     "output_type": "stream",
     "text": [
      "Epoch  21 , loss 0.45738786751148747\n",
      "Epoch  22 , loss 0.45638252064293505\n"
     ]
    },
    {
     "name": "stderr",
     "output_type": "stream",
     "text": [
      "\r",
      "Iterations:   8%|██▌                               | 23/300 [00:30<05:52,  1.27s/it]"
     ]
    },
    {
     "name": "stdout",
     "output_type": "stream",
     "text": [
      "Epoch:  22\n",
      "t_loss:  0.45638252064293505 , v_loss:  0.7631881584723791\n",
      "t_acc:  0.6956115779645191 , v_acc:  0.6894409937888198\n",
      "t_recall:  0.5 , v_recall:  0.5\n",
      "t_prec:  0.34780578898225956 , v_prec:  0.3447204968944099\n",
      "t_f:  0.4102422907488987 , v_f:  0.4080882352941176\n",
      "////////\n"
     ]
    },
    {
     "name": "stderr",
     "output_type": "stream",
     "text": [
      "\r",
      "Iterations:   8%|██▋                               | 24/300 [00:31<05:23,  1.17s/it]"
     ]
    },
    {
     "name": "stdout",
     "output_type": "stream",
     "text": [
      "Epoch  23 , loss 0.4519616651768778\n",
      "Epoch  24 , loss 0.45217807795487197\n"
     ]
    },
    {
     "name": "stderr",
     "output_type": "stream",
     "text": [
      "\r",
      "Iterations:   8%|██▊                               | 25/300 [00:32<05:48,  1.27s/it]"
     ]
    },
    {
     "name": "stdout",
     "output_type": "stream",
     "text": [
      "Epoch:  24\n",
      "t_loss:  0.45217807795487197 , v_loss:  0.7541826268037161\n",
      "t_acc:  0.6956115779645191 , v_acc:  0.6894409937888198\n",
      "t_recall:  0.5 , v_recall:  0.5\n",
      "t_prec:  0.34780578898225956 , v_prec:  0.3447204968944099\n",
      "t_f:  0.4102422907488987 , v_f:  0.4080882352941176\n",
      "////////\n"
     ]
    },
    {
     "name": "stderr",
     "output_type": "stream",
     "text": [
      "\r",
      "Iterations:   9%|██▉                               | 26/300 [00:33<05:21,  1.17s/it]"
     ]
    },
    {
     "name": "stdout",
     "output_type": "stream",
     "text": [
      "Epoch  25 , loss 0.4533377067715514\n",
      "Epoch  26 , loss 0.4508659226052901\n"
     ]
    },
    {
     "name": "stderr",
     "output_type": "stream",
     "text": [
      "\r",
      "Iterations:   9%|███                               | 27/300 [00:35<05:37,  1.24s/it]"
     ]
    },
    {
     "name": "stdout",
     "output_type": "stream",
     "text": [
      "Epoch:  26\n",
      "t_loss:  0.4508659226052901 , v_loss:  0.7617554167906443\n",
      "t_acc:  0.6956115779645191 , v_acc:  0.6894409937888198\n",
      "t_recall:  0.5 , v_recall:  0.5\n",
      "t_prec:  0.34780578898225956 , v_prec:  0.3447204968944099\n",
      "t_f:  0.4102422907488987 , v_f:  0.4080882352941176\n",
      "////////\n"
     ]
    },
    {
     "name": "stderr",
     "output_type": "stream",
     "text": [
      "\r",
      "Iterations:   9%|███▏                              | 28/300 [00:35<05:09,  1.14s/it]"
     ]
    },
    {
     "name": "stdout",
     "output_type": "stream",
     "text": [
      "Epoch  27 , loss 0.4527644006644978\n",
      "Epoch  28 , loss 0.4535534019563712\n"
     ]
    },
    {
     "name": "stderr",
     "output_type": "stream",
     "text": [
      "\r",
      "Iterations:  10%|███▎                              | 29/300 [00:37<05:30,  1.22s/it]"
     ]
    },
    {
     "name": "stdout",
     "output_type": "stream",
     "text": [
      "Epoch:  28\n",
      "t_loss:  0.4535534019563712 , v_loss:  0.7625786413749059\n",
      "t_acc:  0.6956115779645191 , v_acc:  0.6894409937888198\n",
      "t_recall:  0.5 , v_recall:  0.5\n",
      "t_prec:  0.34780578898225956 , v_prec:  0.3447204968944099\n",
      "t_f:  0.4102422907488987 , v_f:  0.4080882352941176\n",
      "////////\n"
     ]
    },
    {
     "name": "stderr",
     "output_type": "stream",
     "text": [
      "\r",
      "Iterations:  10%|███▍                              | 30/300 [00:38<05:00,  1.11s/it]"
     ]
    },
    {
     "name": "stdout",
     "output_type": "stream",
     "text": [
      "Epoch  29 , loss 0.45023618843041213\n",
      "Epoch  30 , loss 0.4518866737683614\n"
     ]
    },
    {
     "name": "stderr",
     "output_type": "stream",
     "text": [
      "\r",
      "Iterations:  10%|███▌                              | 31/300 [00:39<05:26,  1.22s/it]"
     ]
    },
    {
     "name": "stdout",
     "output_type": "stream",
     "text": [
      "Epoch:  30\n",
      "t_loss:  0.4518866737683614 , v_loss:  0.7592108448346456\n",
      "t_acc:  0.6956115779645191 , v_acc:  0.6894409937888198\n",
      "t_recall:  0.5 , v_recall:  0.5\n",
      "t_prec:  0.34780578898225956 , v_prec:  0.3447204968944099\n",
      "t_f:  0.4102422907488987 , v_f:  0.4080882352941176\n",
      "////////\n"
     ]
    },
    {
     "name": "stderr",
     "output_type": "stream",
     "text": [
      "\r",
      "Iterations:  11%|███▋                              | 32/300 [00:40<05:01,  1.12s/it]"
     ]
    },
    {
     "name": "stdout",
     "output_type": "stream",
     "text": [
      "Epoch  31 , loss 0.44609178602695465\n",
      "Epoch  32 , loss 0.4436236248881209\n"
     ]
    },
    {
     "name": "stderr",
     "output_type": "stream",
     "text": [
      "\r",
      "Iterations:  11%|███▋                              | 33/300 [00:42<05:32,  1.24s/it]"
     ]
    },
    {
     "name": "stdout",
     "output_type": "stream",
     "text": [
      "Epoch:  32\n",
      "t_loss:  0.4436236248881209 , v_loss:  0.7658669451872507\n",
      "t_acc:  0.6956115779645191 , v_acc:  0.6894409937888198\n",
      "t_recall:  0.5 , v_recall:  0.5\n",
      "t_prec:  0.34780578898225956 , v_prec:  0.3447204968944099\n",
      "t_f:  0.4102422907488987 , v_f:  0.4080882352941176\n",
      "////////\n"
     ]
    },
    {
     "name": "stderr",
     "output_type": "stream",
     "text": [
      "\r",
      "Iterations:  11%|███▊                              | 34/300 [00:43<05:17,  1.19s/it]"
     ]
    },
    {
     "name": "stdout",
     "output_type": "stream",
     "text": [
      "Epoch  33 , loss 0.4471146359163172\n",
      "Epoch  34 , loss 0.452275812625885\n"
     ]
    },
    {
     "name": "stderr",
     "output_type": "stream",
     "text": [
      "\r",
      "Iterations:  12%|███▉                              | 35/300 [00:44<05:58,  1.35s/it]"
     ]
    },
    {
     "name": "stdout",
     "output_type": "stream",
     "text": [
      "Epoch:  34\n",
      "t_loss:  0.452275812625885 , v_loss:  0.7593593200047811\n",
      "t_acc:  0.6956115779645191 , v_acc:  0.6894409937888198\n",
      "t_recall:  0.5 , v_recall:  0.5\n",
      "t_prec:  0.34780578898225956 , v_prec:  0.3447204968944099\n",
      "t_f:  0.4102422907488987 , v_f:  0.4080882352941176\n",
      "////////\n"
     ]
    },
    {
     "name": "stderr",
     "output_type": "stream",
     "text": [
      "\r",
      "Iterations:  12%|████                              | 36/300 [00:45<05:34,  1.27s/it]"
     ]
    },
    {
     "name": "stdout",
     "output_type": "stream",
     "text": [
      "Epoch  35 , loss 0.4490049025591682\n",
      "Epoch  36 , loss 0.4439644281770669\n"
     ]
    },
    {
     "name": "stderr",
     "output_type": "stream",
     "text": [
      "\r",
      "Iterations:  12%|████▏                             | 37/300 [00:47<05:54,  1.35s/it]"
     ]
    },
    {
     "name": "stdout",
     "output_type": "stream",
     "text": [
      "Epoch:  36\n",
      "t_loss:  0.4439644281770669 , v_loss:  0.7628392974535624\n",
      "t_acc:  0.6956115779645191 , v_acc:  0.6894409937888198\n",
      "t_recall:  0.5 , v_recall:  0.5\n",
      "t_prec:  0.34780578898225956 , v_prec:  0.3447204968944099\n",
      "t_f:  0.4102422907488987 , v_f:  0.4080882352941176\n",
      "////////\n"
     ]
    },
    {
     "name": "stderr",
     "output_type": "stream",
     "text": [
      "\r",
      "Iterations:  13%|████▎                             | 38/300 [00:48<05:22,  1.23s/it]"
     ]
    },
    {
     "name": "stdout",
     "output_type": "stream",
     "text": [
      "Epoch  37 , loss 0.4435585135338353\n",
      "Epoch  38 , loss 0.4527122314069785\n"
     ]
    },
    {
     "name": "stderr",
     "output_type": "stream",
     "text": [
      "\r",
      "Iterations:  13%|████▍                             | 39/300 [00:49<05:38,  1.30s/it]"
     ]
    },
    {
     "name": "stdout",
     "output_type": "stream",
     "text": [
      "Epoch:  38\n",
      "t_loss:  0.4527122314069785 , v_loss:  0.7523780862490336\n",
      "t_acc:  0.6956115779645191 , v_acc:  0.6894409937888198\n",
      "t_recall:  0.5 , v_recall:  0.5\n",
      "t_prec:  0.34780578898225956 , v_prec:  0.3447204968944099\n",
      "t_f:  0.4102422907488987 , v_f:  0.4080882352941176\n",
      "////////\n"
     ]
    },
    {
     "name": "stderr",
     "output_type": "stream",
     "text": [
      "\r",
      "Iterations:  13%|████▌                             | 40/300 [00:50<05:12,  1.20s/it]"
     ]
    },
    {
     "name": "stdout",
     "output_type": "stream",
     "text": [
      "Epoch  39 , loss 0.44250457456298903\n",
      "Epoch  40 , loss 0.4484483535383262\n"
     ]
    },
    {
     "name": "stderr",
     "output_type": "stream",
     "text": [
      "\r",
      "Iterations:  14%|████▋                             | 41/300 [00:52<05:26,  1.26s/it]"
     ]
    },
    {
     "name": "stdout",
     "output_type": "stream",
     "text": [
      "Epoch:  40\n",
      "t_loss:  0.4484483535383262 , v_loss:  0.7529363284508387\n",
      "t_acc:  0.6956115779645191 , v_acc:  0.6894409937888198\n",
      "t_recall:  0.5 , v_recall:  0.5\n",
      "t_prec:  0.34780578898225956 , v_prec:  0.3447204968944099\n",
      "t_f:  0.4102422907488987 , v_f:  0.4080882352941176\n",
      "////////\n"
     ]
    },
    {
     "name": "stderr",
     "output_type": "stream",
     "text": [
      "\r",
      "Iterations:  14%|████▊                             | 42/300 [00:53<04:59,  1.16s/it]"
     ]
    },
    {
     "name": "stdout",
     "output_type": "stream",
     "text": [
      "Epoch  41 , loss 0.44742443631677065\n",
      "Epoch  42 , loss 0.44374727560024635\n"
     ]
    },
    {
     "name": "stderr",
     "output_type": "stream",
     "text": [
      "\r",
      "Iterations:  14%|████▊                             | 43/300 [00:54<05:23,  1.26s/it]"
     ]
    },
    {
     "name": "stdout",
     "output_type": "stream",
     "text": [
      "Epoch:  42\n",
      "t_loss:  0.44374727560024635 , v_loss:  0.7463892449935278\n",
      "t_acc:  0.6959228135698724 , v_acc:  0.6894409937888198\n",
      "t_recall:  0.5005112474437627 , v_recall:  0.5\n",
      "t_prec:  0.8479140722291407 , v_prec:  0.3447204968944099\n",
      "t_f:  0.41133905648131597 , v_f:  0.4080882352941176\n",
      "////////\n"
     ]
    },
    {
     "name": "stderr",
     "output_type": "stream",
     "text": [
      "\r",
      "Iterations:  15%|████▉                             | 44/300 [00:55<04:58,  1.17s/it]"
     ]
    },
    {
     "name": "stdout",
     "output_type": "stream",
     "text": [
      "Epoch  43 , loss 0.44180672308977914\n",
      "Epoch  44 , loss 0.43953043105555517\n"
     ]
    },
    {
     "name": "stderr",
     "output_type": "stream",
     "text": [
      "\r",
      "Iterations:  15%|█████                             | 45/300 [00:57<05:23,  1.27s/it]"
     ]
    },
    {
     "name": "stdout",
     "output_type": "stream",
     "text": [
      "Epoch:  44\n",
      "t_loss:  0.43953043105555517 , v_loss:  0.7585064520438513\n",
      "t_acc:  0.6956115779645191 , v_acc:  0.6894409937888198\n",
      "t_recall:  0.5 , v_recall:  0.5\n",
      "t_prec:  0.34780578898225956 , v_prec:  0.3447204968944099\n",
      "t_f:  0.4102422907488987 , v_f:  0.4080882352941176\n",
      "////////\n"
     ]
    },
    {
     "name": "stderr",
     "output_type": "stream",
     "text": [
      "\r",
      "Iterations:  15%|█████▏                            | 46/300 [00:58<05:04,  1.20s/it]"
     ]
    },
    {
     "name": "stdout",
     "output_type": "stream",
     "text": [
      "Epoch  45 , loss 0.44764720400174457\n",
      "Epoch  46 , loss 0.44160303356600744\n"
     ]
    },
    {
     "name": "stderr",
     "output_type": "stream",
     "text": [
      "\r",
      "Iterations:  16%|█████▎                            | 47/300 [00:59<05:40,  1.35s/it]"
     ]
    },
    {
     "name": "stdout",
     "output_type": "stream",
     "text": [
      "Epoch:  46\n",
      "t_loss:  0.44160303356600744 , v_loss:  0.749930148323377\n",
      "t_acc:  0.6956115779645191 , v_acc:  0.6894409937888198\n",
      "t_recall:  0.5 , v_recall:  0.5\n",
      "t_prec:  0.34780578898225956 , v_prec:  0.3447204968944099\n",
      "t_f:  0.4102422907488987 , v_f:  0.4080882352941176\n",
      "////////\n"
     ]
    },
    {
     "name": "stderr",
     "output_type": "stream",
     "text": [
      "\r",
      "Iterations:  16%|█████▍                            | 48/300 [01:00<05:13,  1.24s/it]"
     ]
    },
    {
     "name": "stdout",
     "output_type": "stream",
     "text": [
      "Epoch  47 , loss 0.4362323582172394\n",
      "Epoch  48 , loss 0.433553488815532\n"
     ]
    },
    {
     "name": "stderr",
     "output_type": "stream",
     "text": [
      "\r",
      "Iterations:  16%|█████▌                            | 49/300 [01:02<05:46,  1.38s/it]"
     ]
    },
    {
     "name": "stdout",
     "output_type": "stream",
     "text": [
      "Epoch:  48\n",
      "t_loss:  0.433553488815532 , v_loss:  0.7449832856655121\n",
      "t_acc:  0.6956115779645191 , v_acc:  0.6894409937888198\n",
      "t_recall:  0.5002875337972303 , v_recall:  0.5\n",
      "t_prec:  0.5978667081905948 , v_prec:  0.3447204968944099\n",
      "t_f:  0.4112297361103825 , v_f:  0.4080882352941176\n",
      "////////\n"
     ]
    },
    {
     "name": "stderr",
     "output_type": "stream",
     "text": [
      "\r",
      "Iterations:  17%|█████▋                            | 50/300 [01:03<05:08,  1.24s/it]"
     ]
    },
    {
     "name": "stdout",
     "output_type": "stream",
     "text": [
      "Epoch  49 , loss 0.4413977633504307\n",
      "Epoch  50 , loss 0.4336160047381532\n"
     ]
    },
    {
     "name": "stderr",
     "output_type": "stream",
     "text": [
      "\r",
      "Iterations:  17%|█████▊                            | 51/300 [01:05<05:29,  1.33s/it]"
     ]
    },
    {
     "name": "stdout",
     "output_type": "stream",
     "text": [
      "Epoch:  50\n",
      "t_loss:  0.4336160047381532 , v_loss:  0.7366677224636078\n",
      "t_acc:  0.6962340491752257 , v_acc:  0.6894409937888198\n",
      "t_recall:  0.5010224948875256 , v_recall:  0.5\n",
      "t_prec:  0.8480224229212083 , v_prec:  0.3447204968944099\n",
      "t_f:  0.4124337652798909 , v_f:  0.4080882352941176\n",
      "////////\n"
     ]
    },
    {
     "name": "stderr",
     "output_type": "stream",
     "text": [
      "\r",
      "Iterations:  17%|█████▉                            | 52/300 [01:05<04:54,  1.19s/it]"
     ]
    },
    {
     "name": "stdout",
     "output_type": "stream",
     "text": [
      "Epoch  51 , loss 0.4380005259139865\n",
      "Epoch  52 , loss 0.433241336369047\n"
     ]
    },
    {
     "name": "stderr",
     "output_type": "stream",
     "text": [
      "\r",
      "Iterations:  18%|██████                            | 53/300 [01:07<05:16,  1.28s/it]"
     ]
    },
    {
     "name": "stdout",
     "output_type": "stream",
     "text": [
      "Epoch:  52\n",
      "t_loss:  0.433241336369047 , v_loss:  0.7336733837922415\n",
      "t_acc:  0.6959228135698724 , v_acc:  0.6894409937888198\n",
      "t_recall:  0.5005112474437627 , v_recall:  0.5\n",
      "t_prec:  0.8479140722291407 , v_prec:  0.3447204968944099\n",
      "t_f:  0.41133905648131597 , v_f:  0.4080882352941176\n",
      "////////\n"
     ]
    },
    {
     "name": "stderr",
     "output_type": "stream",
     "text": [
      "\r",
      "Iterations:  18%|██████                            | 54/300 [01:08<04:49,  1.18s/it]"
     ]
    },
    {
     "name": "stdout",
     "output_type": "stream",
     "text": [
      "Epoch  53 , loss 0.433468269366844\n",
      "Epoch  54 , loss 0.43157568340208013\n"
     ]
    },
    {
     "name": "stderr",
     "output_type": "stream",
     "text": [
      "\r",
      "Iterations:  18%|██████▏                           | 55/300 [01:09<05:12,  1.28s/it]"
     ]
    },
    {
     "name": "stdout",
     "output_type": "stream",
     "text": [
      "Epoch:  54\n",
      "t_loss:  0.43157568340208013 , v_loss:  0.7263268182675043\n",
      "t_acc:  0.6965452847805789 , v_acc:  0.6894409937888198\n",
      "t_recall:  0.5018212761285187 , v_recall:  0.5\n",
      "t_prec:  0.7481920199501246 , v_prec:  0.3447204968944099\n",
      "t_f:  0.4145045976343382 , v_f:  0.4080882352941176\n",
      "////////\n"
     ]
    },
    {
     "name": "stderr",
     "output_type": "stream",
     "text": [
      "\r",
      "Iterations:  19%|██████▎                           | 56/300 [01:10<04:57,  1.22s/it]"
     ]
    },
    {
     "name": "stdout",
     "output_type": "stream",
     "text": [
      "Epoch  55 , loss 0.43287208267286714\n",
      "Epoch  56 , loss 0.43451978821380466\n"
     ]
    },
    {
     "name": "stderr",
     "output_type": "stream",
     "text": [
      "\r",
      "Iterations:  19%|██████▍                           | 57/300 [01:12<05:15,  1.30s/it]"
     ]
    },
    {
     "name": "stdout",
     "output_type": "stream",
     "text": [
      "Epoch:  56\n",
      "t_loss:  0.43451978821380466 , v_loss:  0.7181391417980194\n",
      "t_acc:  0.6962340491752257 , v_acc:  0.6894409937888198\n",
      "t_recall:  0.5015975624819863 , v_recall:  0.5\n",
      "t_prec:  0.6814780168381664 , v_prec:  0.3447204968944099\n",
      "t_f:  0.4143921262806895 , v_f:  0.4080882352941176\n",
      "////////\n"
     ]
    },
    {
     "name": "stderr",
     "output_type": "stream",
     "text": [
      "\r",
      "Iterations:  19%|██████▌                           | 58/300 [01:13<04:55,  1.22s/it]"
     ]
    },
    {
     "name": "stdout",
     "output_type": "stream",
     "text": [
      "Epoch  57 , loss 0.43703604854789435\n",
      "Epoch  58 , loss 0.42707983769622504\n"
     ]
    },
    {
     "name": "stderr",
     "output_type": "stream",
     "text": [
      "\r",
      "Iterations:  20%|██████▋                           | 59/300 [01:14<05:15,  1.31s/it]"
     ]
    },
    {
     "name": "stdout",
     "output_type": "stream",
     "text": [
      "Epoch:  58\n",
      "t_loss:  0.42707983769622504 , v_loss:  0.7041624287764231\n",
      "t_acc:  0.6956115779645191 , v_acc:  0.6894409937888198\n",
      "t_recall:  0.5005750675944607 , v_recall:  0.5\n",
      "t_prec:  0.5979277033343721 , v_prec:  0.3447204968944099\n",
      "t_f:  0.4122130008035903 , v_f:  0.4080882352941176\n",
      "////////\n"
     ]
    },
    {
     "name": "stderr",
     "output_type": "stream",
     "text": [
      "\r",
      "Iterations:  20%|██████▊                           | 60/300 [01:15<04:50,  1.21s/it]"
     ]
    },
    {
     "name": "stdout",
     "output_type": "stream",
     "text": [
      "Epoch  59 , loss 0.4287062620415407\n",
      "Epoch  60 , loss 0.43315735985251036\n"
     ]
    },
    {
     "name": "stderr",
     "output_type": "stream",
     "text": [
      "\r",
      "Iterations:  20%|██████▉                           | 61/300 [01:17<05:20,  1.34s/it]"
     ]
    },
    {
     "name": "stdout",
     "output_type": "stream",
     "text": [
      "Epoch:  60\n",
      "t_loss:  0.43315735985251036 , v_loss:  0.6977471510569254\n",
      "t_acc:  0.6971677559912854 , v_acc:  0.6894409937888198\n",
      "t_recall:  0.5031313048132746 , v_recall:  0.5\n",
      "t_prec:  0.7373595505617978 , v_prec:  0.3447204968944099\n",
      "t_f:  0.41764560913497084 , v_f:  0.4080882352941176\n",
      "////////\n"
     ]
    },
    {
     "name": "stderr",
     "output_type": "stream",
     "text": [
      "\r",
      "Iterations:  21%|███████                           | 62/300 [01:18<04:51,  1.22s/it]"
     ]
    },
    {
     "name": "stdout",
     "output_type": "stream",
     "text": [
      "Epoch  61 , loss 0.4263230316779193\n",
      "Epoch  62 , loss 0.42772622318828807\n"
     ]
    },
    {
     "name": "stderr",
     "output_type": "stream",
     "text": [
      "\r",
      "Iterations:  21%|███████▏                          | 63/300 [01:20<05:10,  1.31s/it]"
     ]
    },
    {
     "name": "stdout",
     "output_type": "stream",
     "text": [
      "Epoch:  62\n",
      "t_loss:  0.42772622318828807 , v_loss:  0.6816605379184087\n",
      "t_acc:  0.6962340491752257 , v_acc:  0.6894409937888198\n",
      "t_recall:  0.5018850962792166 , v_recall:  0.5\n",
      "t_prec:  0.6607059282371295 , v_prec:  0.3447204968944099\n",
      "t_f:  0.4153651115618661 , v_f:  0.4080882352941176\n",
      "////////\n"
     ]
    },
    {
     "name": "stderr",
     "output_type": "stream",
     "text": [
      "\r",
      "Iterations:  21%|███████▎                          | 64/300 [01:21<04:46,  1.21s/it]"
     ]
    },
    {
     "name": "stdout",
     "output_type": "stream",
     "text": [
      "Epoch  63 , loss 0.4257304510649513\n",
      "Epoch  64 , loss 0.42973767834551196\n"
     ]
    },
    {
     "name": "stderr",
     "output_type": "stream",
     "text": [
      "\r",
      "Iterations:  22%|███████▎                          | 65/300 [01:22<05:10,  1.32s/it]"
     ]
    },
    {
     "name": "stdout",
     "output_type": "stream",
     "text": [
      "Epoch:  64\n",
      "t_loss:  0.42973767834551196 , v_loss:  0.681354358792305\n",
      "t_acc:  0.6968565203859322 , v_acc:  0.6894409937888198\n",
      "t_recall:  0.5029075911667422 , v_recall:  0.5\n",
      "t_prec:  0.6984233531064628 , v_prec:  0.3447204968944099\n",
      "t_f:  0.41753003679311723 , v_f:  0.4080882352941176\n",
      "////////\n"
     ]
    },
    {
     "name": "stderr",
     "output_type": "stream",
     "text": [
      "\r",
      "Iterations:  22%|███████▍                          | 66/300 [01:23<04:46,  1.22s/it]"
     ]
    },
    {
     "name": "stdout",
     "output_type": "stream",
     "text": [
      "Epoch  65 , loss 0.4230189282520145\n",
      "Epoch  66 , loss 0.42629193266232807\n"
     ]
    },
    {
     "name": "stderr",
     "output_type": "stream",
     "text": [
      "\r",
      "Iterations:  22%|███████▌                          | 67/300 [01:25<05:06,  1.31s/it]"
     ]
    },
    {
     "name": "stdout",
     "output_type": "stream",
     "text": [
      "Epoch:  66\n",
      "t_loss:  0.42629193266232807 , v_loss:  0.6848761588335037\n",
      "t_acc:  0.6977902272019919 , v_acc:  0.6894409937888198\n",
      "t_recall:  0.5047288672952608 , v_recall:  0.5\n",
      "t_prec:  0.7154784240150094 , v_prec:  0.3447204968944099\n",
      "t_f:  0.4217162322897499 , v_f:  0.4080882352941176\n",
      "////////\n"
     ]
    },
    {
     "name": "stderr",
     "output_type": "stream",
     "text": [
      "\r",
      "Iterations:  23%|███████▋                          | 68/300 [01:26<04:46,  1.23s/it]"
     ]
    },
    {
     "name": "stdout",
     "output_type": "stream",
     "text": [
      "Epoch  67 , loss 0.42273151407054826\n",
      "Epoch  68 , loss 0.4276375221271141\n"
     ]
    },
    {
     "name": "stderr",
     "output_type": "stream",
     "text": [
      "\r",
      "Iterations:  23%|███████▊                          | 69/300 [01:27<05:00,  1.30s/it]"
     ]
    },
    {
     "name": "stdout",
     "output_type": "stream",
     "text": [
      "Epoch:  68\n",
      "t_loss:  0.4276375221271141 , v_loss:  0.6778427908817927\n",
      "t_acc:  0.6956115779645191 , v_acc:  0.6894409937888198\n",
      "t_recall:  0.5020127365806124 , v_recall:  0.5\n",
      "t_prec:  0.5982338230697093 , v_prec:  0.3447204968944099\n",
      "t_f:  0.4170674932028922 , v_f:  0.4080882352941176\n",
      "////////\n"
     ]
    },
    {
     "name": "stderr",
     "output_type": "stream",
     "text": [
      "\r",
      "Iterations:  23%|███████▉                          | 70/300 [01:28<04:36,  1.20s/it]"
     ]
    },
    {
     "name": "stdout",
     "output_type": "stream",
     "text": [
      "Epoch  69 , loss 0.42204458222669716\n",
      "Epoch  70 , loss 0.4214218019270429\n"
     ]
    },
    {
     "name": "stderr",
     "output_type": "stream",
     "text": [
      "\r",
      "Iterations:  24%|████████                          | 71/300 [01:30<04:52,  1.28s/it]"
     ]
    },
    {
     "name": "stdout",
     "output_type": "stream",
     "text": [
      "Epoch:  70\n",
      "t_loss:  0.4214218019270429 , v_loss:  0.6734423985083898\n",
      "t_acc:  0.6968565203859322 , v_acc:  0.6894409937888198\n",
      "t_recall:  0.5040577263556635 , v_recall:  0.5\n",
      "t_prec:  0.6542253521126761 , v_prec:  0.3447204968944099\n",
      "t_f:  0.421357252213273 , v_f:  0.4080882352941176\n",
      "////////\n"
     ]
    },
    {
     "name": "stderr",
     "output_type": "stream",
     "text": [
      "\r",
      "Iterations:  24%|████████▏                         | 72/300 [01:31<04:30,  1.19s/it]"
     ]
    },
    {
     "name": "stdout",
     "output_type": "stream",
     "text": [
      "Epoch  71 , loss 0.42007595534418146\n",
      "Epoch  72 , loss 0.4216296649446674\n"
     ]
    },
    {
     "name": "stderr",
     "output_type": "stream",
     "text": [
      "\r",
      "Iterations:  24%|████████▎                         | 73/300 [01:32<04:47,  1.27s/it]"
     ]
    },
    {
     "name": "stdout",
     "output_type": "stream",
     "text": [
      "Epoch:  72\n",
      "t_loss:  0.4216296649446674 , v_loss:  0.6574972669283549\n",
      "t_acc:  0.6984126984126984 , v_acc:  0.6894409937888198\n",
      "t_recall:  0.5080516325606291 , v_recall:  0.5\n",
      "t_prec:  0.6677101200686106 , v_prec:  0.3447204968944099\n",
      "t_f:  0.4312978291425894 , v_f:  0.4080882352941176\n",
      "////////\n"
     ]
    },
    {
     "name": "stderr",
     "output_type": "stream",
     "text": [
      "\r",
      "Iterations:  25%|████████▍                         | 74/300 [01:33<04:32,  1.21s/it]"
     ]
    },
    {
     "name": "stdout",
     "output_type": "stream",
     "text": [
      "Epoch  73 , loss 0.42593804761475207\n",
      "Epoch  74 , loss 0.4229366148219389\n"
     ]
    },
    {
     "name": "stderr",
     "output_type": "stream",
     "text": [
      "\r",
      "Iterations:  25%|████████▌                         | 75/300 [01:35<04:49,  1.29s/it]"
     ]
    },
    {
     "name": "stdout",
     "output_type": "stream",
     "text": [
      "Epoch:  74\n",
      "t_loss:  0.4229366148219389 , v_loss:  0.658606618642807\n",
      "t_acc:  0.6971677559912854 , v_acc:  0.6894409937888198\n",
      "t_recall:  0.5054315751911174 , v_recall:  0.5\n",
      "t_prec:  0.6489648682559599 , v_prec:  0.3447204968944099\n",
      "t_f:  0.4252446422488022 , v_f:  0.4080882352941176\n",
      "////////\n"
     ]
    },
    {
     "name": "stderr",
     "output_type": "stream",
     "text": [
      "\r",
      "Iterations:  25%|████████▌                         | 76/300 [01:36<04:25,  1.19s/it]"
     ]
    },
    {
     "name": "stdout",
     "output_type": "stream",
     "text": [
      "Epoch  75 , loss 0.4287551758336086\n",
      "Epoch  76 , loss 0.4256573173345304\n"
     ]
    },
    {
     "name": "stderr",
     "output_type": "stream",
     "text": [
      "\r",
      "Iterations:  26%|████████▋                         | 77/300 [01:37<04:54,  1.32s/it]"
     ]
    },
    {
     "name": "stdout",
     "output_type": "stream",
     "text": [
      "Epoch:  76\n",
      "t_loss:  0.4256573173345304 , v_loss:  0.6568588266770045\n",
      "t_acc:  0.6959228135698724 , v_acc:  0.6894409937888198\n",
      "t_recall:  0.5059743895911393 , v_recall:  0.5\n",
      "t_prec:  0.6054965828122727 , v_prec:  0.3447204968944099\n",
      "t_f:  0.4293532411565777 , v_f:  0.4080882352941176\n",
      "////////\n"
     ]
    },
    {
     "name": "stderr",
     "output_type": "stream",
     "text": [
      "\r",
      "Iterations:  26%|████████▊                         | 78/300 [01:38<04:31,  1.22s/it]"
     ]
    },
    {
     "name": "stdout",
     "output_type": "stream",
     "text": [
      "Epoch  77 , loss 0.42488208997483345\n",
      "Epoch  78 , loss 0.42304382604711194\n"
     ]
    },
    {
     "name": "stderr",
     "output_type": "stream",
     "text": [
      "\r",
      "Iterations:  26%|████████▉                         | 79/300 [01:40<04:53,  1.33s/it]"
     ]
    },
    {
     "name": "stdout",
     "output_type": "stream",
     "text": [
      "Epoch:  78\n",
      "t_loss:  0.42304382604711194 , v_loss:  0.6416526685158411\n",
      "t_acc:  0.699035169623405 , v_acc:  0.6894409937888198\n",
      "t_recall:  0.508499059853694 , v_recall:  0.5\n",
      "t_prec:  0.688332556112001 , v_prec:  0.3447204968944099\n",
      "t_f:  0.431556640045754 , v_f:  0.4080882352941176\n",
      "////////\n"
     ]
    },
    {
     "name": "stderr",
     "output_type": "stream",
     "text": [
      "\r",
      "Iterations:  27%|█████████                         | 80/300 [01:41<04:32,  1.24s/it]"
     ]
    },
    {
     "name": "stdout",
     "output_type": "stream",
     "text": [
      "Epoch  79 , loss 0.41582388503878726\n",
      "Epoch  80 , loss 0.4192221351698333\n"
     ]
    },
    {
     "name": "stderr",
     "output_type": "stream",
     "text": [
      "\r",
      "Iterations:  27%|█████████▏                        | 81/300 [01:42<04:54,  1.35s/it]"
     ]
    },
    {
     "name": "stdout",
     "output_type": "stream",
     "text": [
      "Epoch:  80\n",
      "t_loss:  0.4192221351698333 , v_loss:  0.64552341401577\n",
      "t_acc:  0.6971677559912854 , v_acc:  0.6894409937888198\n",
      "t_recall:  0.505144041393887 , v_recall:  0.5\n",
      "t_prec:  0.653250647403571 , v_prec:  0.3447204968944099\n",
      "t_f:  0.42430859463117526 , v_f:  0.4080882352941176\n",
      "////////\n"
     ]
    },
    {
     "name": "stderr",
     "output_type": "stream",
     "text": [
      "\r",
      "Iterations:  27%|█████████▎                        | 82/300 [01:43<04:28,  1.23s/it]"
     ]
    },
    {
     "name": "stdout",
     "output_type": "stream",
     "text": [
      "Epoch  81 , loss 0.41837552014519186\n",
      "Epoch  82 , loss 0.41845029826257746\n"
     ]
    },
    {
     "name": "stderr",
     "output_type": "stream",
     "text": [
      "\r",
      "Iterations:  28%|█████████▍                        | 83/300 [01:45<04:41,  1.30s/it]"
     ]
    },
    {
     "name": "stdout",
     "output_type": "stream",
     "text": [
      "Epoch:  82\n",
      "t_loss:  0.41845029826257746 , v_loss:  0.6462760120630264\n",
      "t_acc:  0.6977902272019919 , v_acc:  0.6894409937888198\n",
      "t_recall:  0.5070291376731035 , v_recall:  0.5\n",
      "t_prec:  0.6557602238397437 , v_prec:  0.3447204968944099\n",
      "t_f:  0.4292052714420136 , v_f:  0.4080882352941176\n",
      "////////\n"
     ]
    },
    {
     "name": "stderr",
     "output_type": "stream",
     "text": [
      "\r",
      "Iterations:  28%|█████████▌                        | 84/300 [01:46<04:14,  1.18s/it]"
     ]
    },
    {
     "name": "stdout",
     "output_type": "stream",
     "text": [
      "Epoch  83 , loss 0.41956958291577356\n",
      "Epoch  84 , loss 0.4170139794256173\n"
     ]
    },
    {
     "name": "stderr",
     "output_type": "stream",
     "text": [
      "\r",
      "Iterations:  28%|█████████▋                        | 85/300 [01:47<04:33,  1.27s/it]"
     ]
    },
    {
     "name": "stdout",
     "output_type": "stream",
     "text": [
      "Epoch:  84\n",
      "t_loss:  0.4170139794256173 , v_loss:  0.6405203441778818\n",
      "t_acc:  0.7012138188608776 , v_acc:  0.6894409937888198\n",
      "t_recall:  0.5123653257572638 , v_recall:  0.5\n",
      "t_prec:  0.7129569807752916 , v_prec:  0.3447204968944099\n",
      "t_f:  0.4397298334127713 , v_f:  0.4080882352941176\n",
      "////////\n"
     ]
    },
    {
     "name": "stderr",
     "output_type": "stream",
     "text": [
      "\r",
      "Iterations:  29%|█████████▋                        | 86/300 [01:48<04:07,  1.16s/it]"
     ]
    },
    {
     "name": "stdout",
     "output_type": "stream",
     "text": [
      "Epoch  85 , loss 0.4205688395920922\n",
      "Epoch  86 , loss 0.4191054006417592\n"
     ]
    },
    {
     "name": "stderr",
     "output_type": "stream",
     "text": [
      "\r",
      "Iterations:  29%|█████████▊                        | 87/300 [01:50<04:28,  1.26s/it]"
     ]
    },
    {
     "name": "stdout",
     "output_type": "stream",
     "text": [
      "Epoch:  86\n",
      "t_loss:  0.4191054006417592 , v_loss:  0.6353548914194107\n",
      "t_acc:  0.7015250544662309 , v_acc:  0.6894409937888198\n",
      "t_recall:  0.5134516407954873 , v_recall:  0.5\n",
      "t_prec:  0.70625 , v_prec:  0.3447204968944099\n",
      "t_f:  0.44253355499795644 , v_f:  0.4080882352941176\n",
      "////////\n"
     ]
    },
    {
     "name": "stderr",
     "output_type": "stream",
     "text": [
      "\r",
      "Iterations:  29%|█████████▉                        | 88/300 [01:51<04:10,  1.18s/it]"
     ]
    },
    {
     "name": "stdout",
     "output_type": "stream",
     "text": [
      "Epoch  87 , loss 0.41623947258089106\n",
      "Epoch  88 , loss 0.41232848108983505\n"
     ]
    },
    {
     "name": "stderr",
     "output_type": "stream",
     "text": [
      "\r",
      "Iterations:  30%|██████████                        | 89/300 [01:52<04:35,  1.30s/it]"
     ]
    },
    {
     "name": "stdout",
     "output_type": "stream",
     "text": [
      "Epoch:  88\n",
      "t_loss:  0.41232848108983505 , v_loss:  0.6299999157587687\n",
      "t_acc:  0.702769996887644 , v_acc:  0.6894409937888198\n",
      "t_recall:  0.5154966305705384 , v_recall:  0.5054954954954954\n",
      "t_prec:  0.7184847390283547 , v_prec:  0.5959119496855345\n",
      "t_f:  0.44661124991050133 , v_f:  0.4266381766381766\n",
      "////////\n"
     ]
    },
    {
     "name": "stderr",
     "output_type": "stream",
     "text": [
      "\r",
      "Iterations:  30%|██████████▏                       | 90/300 [01:53<04:23,  1.25s/it]"
     ]
    },
    {
     "name": "stdout",
     "output_type": "stream",
     "text": [
      "Epoch  89 , loss 0.4177212715148926\n",
      "Epoch  90 , loss 0.41436955449627894\n"
     ]
    },
    {
     "name": "stderr",
     "output_type": "stream",
     "text": [
      "\r",
      "Iterations:  30%|██████████▎                       | 91/300 [01:55<04:46,  1.37s/it]"
     ]
    },
    {
     "name": "stdout",
     "output_type": "stream",
     "text": [
      "Epoch:  90\n",
      "t_loss:  0.41436955449627894 , v_loss:  0.6328843633333842\n",
      "t_acc:  0.7015250544662309 , v_acc:  0.6894409937888198\n",
      "t_recall:  0.512301505606566 , v_recall:  0.5054954954954954\n",
      "t_prec:  0.7288191844237184 , v_prec:  0.5959119496855345\n",
      "t_f:  0.4389704242316099 , v_f:  0.4266381766381766\n",
      "////////\n"
     ]
    },
    {
     "name": "stderr",
     "output_type": "stream",
     "text": [
      "\r",
      "Iterations:  31%|██████████▍                       | 92/300 [01:56<04:24,  1.27s/it]"
     ]
    },
    {
     "name": "stdout",
     "output_type": "stream",
     "text": [
      "Epoch  91 , loss 0.4116169240544824\n",
      "Epoch  92 , loss 0.41695626752049314\n"
     ]
    },
    {
     "name": "stderr",
     "output_type": "stream",
     "text": [
      "\r",
      "Iterations:  31%|██████████▌                       | 93/300 [01:58<04:42,  1.37s/it]"
     ]
    },
    {
     "name": "stdout",
     "output_type": "stream",
     "text": [
      "Epoch:  92\n",
      "t_loss:  0.41695626752049314 , v_loss:  0.6295674840609232\n",
      "t_acc:  0.704014939309057 , v_acc:  0.6956521739130435\n",
      "t_recall:  0.5186917555345109 , v_recall:  0.5154954954954954\n",
      "t_prec:  0.7124958392277607 , v_prec:  0.6814345991561181\n",
      "t_f:  0.45408035921504253 , v_f:  0.44665778214210566\n",
      "////////\n"
     ]
    },
    {
     "name": "stderr",
     "output_type": "stream",
     "text": [
      "\r",
      "Iterations:  31%|██████████▋                       | 94/300 [01:59<04:18,  1.25s/it]"
     ]
    },
    {
     "name": "stdout",
     "output_type": "stream",
     "text": [
      "Epoch  93 , loss 0.41933855355954636\n",
      "Epoch  94 , loss 0.4097184018761504\n"
     ]
    },
    {
     "name": "stderr",
     "output_type": "stream",
     "text": [
      "\r",
      "Iterations:  32%|██████████▊                       | 95/300 [02:00<04:34,  1.34s/it]"
     ]
    },
    {
     "name": "stdout",
     "output_type": "stream",
     "text": [
      "Epoch:  94\n",
      "t_loss:  0.4097184018761504 , v_loss:  0.6306670953830084\n",
      "t_acc:  0.7030812324929971 , v_acc:  0.6956521739130435\n",
      "t_recall:  0.5171580132032225 , v_recall:  0.5154954954954954\n",
      "t_prec:  0.7049538226132576 , v_prec:  0.6814345991561181\n",
      "t_f:  0.45107807250664395 , v_f:  0.44665778214210566\n",
      "////////\n"
     ]
    },
    {
     "name": "stderr",
     "output_type": "stream",
     "text": [
      "\r",
      "Iterations:  32%|██████████▉                       | 96/300 [02:01<04:08,  1.22s/it]"
     ]
    },
    {
     "name": "stdout",
     "output_type": "stream",
     "text": [
      "Epoch  95 , loss 0.4068904098342447\n",
      "Epoch  96 , loss 0.41335173623234617\n"
     ]
    },
    {
     "name": "stderr",
     "output_type": "stream",
     "text": [
      "\r",
      "Iterations:  32%|██████████▉                       | 97/300 [02:03<04:25,  1.31s/it]"
     ]
    },
    {
     "name": "stdout",
     "output_type": "stream",
     "text": [
      "Epoch:  96\n",
      "t_loss:  0.41335173623234617 , v_loss:  0.6285739789406458\n",
      "t_acc:  0.7005913476501712 , v_acc:  0.6956521739130435\n",
      "t_recall:  0.5139306350448113 , v_recall:  0.5154954954954954\n",
      "t_prec:  0.6722363002850809 , v_prec:  0.6814345991561181\n",
      "t_f:  0.44561001612819906 , v_f:  0.44665778214210566\n",
      "////////\n"
     ]
    },
    {
     "name": "stderr",
     "output_type": "stream",
     "text": [
      "\r",
      "Iterations:  33%|███████████                       | 98/300 [02:03<03:58,  1.18s/it]"
     ]
    },
    {
     "name": "stdout",
     "output_type": "stream",
     "text": [
      "Epoch  97 , loss 0.40862592704155865\n",
      "Epoch  98 , loss 0.41445253935514714\n"
     ]
    },
    {
     "name": "stderr",
     "output_type": "stream",
     "text": [
      "\r",
      "Iterations:  33%|███████████▏                      | 99/300 [02:05<04:24,  1.31s/it]"
     ]
    },
    {
     "name": "stdout",
     "output_type": "stream",
     "text": [
      "Epoch:  98\n",
      "t_loss:  0.41445253935514714 , v_loss:  0.6275318215290705\n",
      "t_acc:  0.7037037037037037 , v_acc:  0.6956521739130435\n",
      "t_recall:  0.5187555756852088 , v_recall:  0.5154954954954954\n",
      "t_prec:  0.7034202326135282 , v_prec:  0.6814345991561181\n",
      "t_f:  0.45477607641037776 , v_f:  0.44665778214210566\n",
      "////////\n"
     ]
    },
    {
     "name": "stderr",
     "output_type": "stream",
     "text": [
      "\r",
      "Iterations:  33%|███████████                      | 100/300 [02:06<03:57,  1.19s/it]"
     ]
    },
    {
     "name": "stdout",
     "output_type": "stream",
     "text": [
      "Epoch  99 , loss 0.41558439182300194\n",
      "Epoch  100 , loss 0.4105226905906902\n"
     ]
    },
    {
     "name": "stderr",
     "output_type": "stream",
     "text": [
      "\r",
      "Iterations:  34%|███████████                      | 101/300 [02:07<04:18,  1.30s/it]"
     ]
    },
    {
     "name": "stdout",
     "output_type": "stream",
     "text": [
      "Epoch:  100\n",
      "t_loss:  0.4105226905906902 , v_loss:  0.6158453971147537\n",
      "t_acc:  0.7043261749144102 , v_acc:  0.6956521739130435\n",
      "t_recall:  0.518627935383813 , v_recall:  0.5154954954954954\n",
      "t_prec:  0.7225121591343789 , v_prec:  0.6814345991561181\n",
      "t_f:  0.45337963195106057 , v_f:  0.44665778214210566\n",
      "////////\n"
     ]
    },
    {
     "name": "stderr",
     "output_type": "stream",
     "text": [
      "\r",
      "Iterations:  34%|███████████▏                     | 102/300 [02:08<03:59,  1.21s/it]"
     ]
    },
    {
     "name": "stdout",
     "output_type": "stream",
     "text": [
      "Epoch  101 , loss 0.4061177746922362\n",
      "Epoch  102 , loss 0.4091325378885456\n"
     ]
    },
    {
     "name": "stderr",
     "output_type": "stream",
     "text": [
      "\r",
      "Iterations:  34%|███████████▎                     | 103/300 [02:10<04:13,  1.29s/it]"
     ]
    },
    {
     "name": "stdout",
     "output_type": "stream",
     "text": [
      "Epoch:  102\n",
      "t_loss:  0.4091325378885456 , v_loss:  0.6209544787804285\n",
      "t_acc:  0.7058823529411765 , v_acc:  0.6956521739130435\n",
      "t_recall:  0.5231969091832394 , v_recall:  0.5154954954954954\n",
      "t_prec:  0.7099808673469388 , v_prec:  0.6814345991561181\n",
      "t_f:  0.4641602568118587 , v_f:  0.44665778214210566\n",
      "////////\n"
     ]
    },
    {
     "name": "stderr",
     "output_type": "stream",
     "text": [
      "\r",
      "Iterations:  35%|███████████▍                     | 104/300 [02:11<04:01,  1.23s/it]"
     ]
    },
    {
     "name": "stdout",
     "output_type": "stream",
     "text": [
      "Epoch  103 , loss 0.41763915092337367\n",
      "Epoch  104 , loss 0.4097464622235766\n"
     ]
    },
    {
     "name": "stderr",
     "output_type": "stream",
     "text": [
      "\r",
      "Iterations:  35%|███████████▌                     | 105/300 [02:12<04:12,  1.29s/it]"
     ]
    },
    {
     "name": "stdout",
     "output_type": "stream",
     "text": [
      "Epoch:  104\n",
      "t_loss:  0.4097464622235766 , v_loss:  0.6086125820875168\n",
      "t_acc:  0.7033924680983504 , v_acc:  0.6956521739130435\n",
      "t_recall:  0.5191069296331371 , v_recall:  0.5154954954954954\n",
      "t_prec:  0.6925199137072685 , v_prec:  0.6814345991561181\n",
      "t_f:  0.45630492347668505 , v_f:  0.44665778214210566\n",
      "////////\n"
     ]
    },
    {
     "name": "stderr",
     "output_type": "stream",
     "text": [
      "\r",
      "Iterations:  35%|███████████▋                     | 106/300 [02:13<03:49,  1.19s/it]"
     ]
    },
    {
     "name": "stdout",
     "output_type": "stream",
     "text": [
      "Epoch  105 , loss 0.41029593757554594\n",
      "Epoch  106 , loss 0.4034541570672802\n"
     ]
    },
    {
     "name": "stderr",
     "output_type": "stream",
     "text": [
      "\r",
      "Iterations:  36%|███████████▊                     | 107/300 [02:15<04:03,  1.26s/it]"
     ]
    },
    {
     "name": "stdout",
     "output_type": "stream",
     "text": [
      "Epoch:  106\n",
      "t_loss:  0.4034541570672802 , v_loss:  0.6137847105662028\n",
      "t_acc:  0.7030812324929971 , v_acc:  0.6956521739130435\n",
      "t_recall:  0.5197458173782956 , v_recall:  0.5154954954954954\n",
      "t_prec:  0.6810353505696023 , v_prec:  0.6814345991561181\n",
      "t_f:  0.45864458482453824 , v_f:  0.44665778214210566\n",
      "////////\n"
     ]
    },
    {
     "name": "stderr",
     "output_type": "stream",
     "text": [
      "\r",
      "Iterations:  36%|███████████▉                     | 108/300 [02:16<03:51,  1.21s/it]"
     ]
    },
    {
     "name": "stdout",
     "output_type": "stream",
     "text": [
      "Epoch  107 , loss 0.4086427180206074\n",
      "Epoch  108 , loss 0.4004037228285098\n"
     ]
    },
    {
     "name": "stderr",
     "output_type": "stream",
     "text": [
      "\r",
      "Iterations:  36%|███████████▉                     | 109/300 [02:17<04:05,  1.29s/it]"
     ]
    },
    {
     "name": "stdout",
     "output_type": "stream",
     "text": [
      "Epoch:  108\n",
      "t_loss:  0.4004037228285098 , v_loss:  0.6101130247116089\n",
      "t_acc:  0.7080610021786492 , v_acc:  0.6956521739130435\n",
      "t_recall:  0.5247629047089664 , v_recall:  0.5154954954954954\n",
      "t_prec:  0.7460229080496341 , v_prec:  0.6814345991561181\n",
      "t_f:  0.4652737758297162 , v_f:  0.44665778214210566\n",
      "////////\n"
     ]
    },
    {
     "name": "stderr",
     "output_type": "stream",
     "text": [
      "\r",
      "Iterations:  37%|████████████                     | 110/300 [02:18<03:48,  1.20s/it]"
     ]
    },
    {
     "name": "stdout",
     "output_type": "stream",
     "text": [
      "Epoch  109 , loss 0.40588528735964907\n",
      "Epoch  110 , loss 0.4007459122176264\n"
     ]
    },
    {
     "name": "stderr",
     "output_type": "stream",
     "text": [
      "\r",
      "Iterations:  37%|████████████▏                    | 111/300 [02:20<04:04,  1.30s/it]"
     ]
    },
    {
     "name": "stdout",
     "output_type": "stream",
     "text": [
      "Epoch:  110\n",
      "t_loss:  0.4007459122176264 , v_loss:  0.6094010372956594\n",
      "t_acc:  0.7049486461251168 , v_acc:  0.6956521739130435\n",
      "t_recall:  0.5222382344464116 , v_recall:  0.5154954954954954\n",
      "t_prec:  0.6987854251012146 , v_prec:  0.6814345991561181\n",
      "t_f:  0.4628682072117826 , v_f:  0.44665778214210566\n",
      "////////\n"
     ]
    },
    {
     "name": "stderr",
     "output_type": "stream",
     "text": [
      "\r",
      "Iterations:  37%|████████████▎                    | 112/300 [02:21<03:46,  1.20s/it]"
     ]
    },
    {
     "name": "stdout",
     "output_type": "stream",
     "text": [
      "Epoch  111 , loss 0.40232013633438185\n",
      "Epoch  112 , loss 0.40492356816927594\n"
     ]
    },
    {
     "name": "stderr",
     "output_type": "stream",
     "text": [
      "\r",
      "Iterations:  38%|████████████▍                    | 113/300 [02:23<04:16,  1.37s/it]"
     ]
    },
    {
     "name": "stdout",
     "output_type": "stream",
     "text": [
      "Epoch:  112\n",
      "t_loss:  0.40492356816927594 , v_loss:  0.6014747768640518\n",
      "t_acc:  0.7055711173358232 , v_acc:  0.6956521739130435\n",
      "t_recall:  0.5232607293339372 , v_recall:  0.520990990990991\n",
      "t_prec:  0.7028566868815831 , v_prec:  0.6493589743589743\n",
      "t_f:  0.46481530261241444 , v_f:  0.4627851549199864\n",
      "////////\n"
     ]
    },
    {
     "name": "stderr",
     "output_type": "stream",
     "text": [
      "\r",
      "Iterations:  38%|████████████▌                    | 114/300 [02:24<03:51,  1.25s/it]"
     ]
    },
    {
     "name": "stdout",
     "output_type": "stream",
     "text": [
      "Epoch  113 , loss 0.41066323366819646\n",
      "Epoch  114 , loss 0.4045936038681105\n"
     ]
    },
    {
     "name": "stderr",
     "output_type": "stream",
     "text": [
      "\r",
      "Iterations:  38%|████████████▋                    | 115/300 [02:25<04:13,  1.37s/it]"
     ]
    },
    {
     "name": "stdout",
     "output_type": "stream",
     "text": [
      "Epoch:  114\n",
      "t_loss:  0.4045936038681105 , v_loss:  0.6061496436595917\n",
      "t_acc:  0.7058823529411765 , v_acc:  0.6956521739130435\n",
      "t_recall:  0.5237719767777 , v_recall:  0.520990990990991\n",
      "t_prec:  0.7048212005108556 , v_prec:  0.6493589743589743\n",
      "t_f:  0.46578635254474543 , v_f:  0.4627851549199864\n",
      "////////\n"
     ]
    },
    {
     "name": "stderr",
     "output_type": "stream",
     "text": [
      "\r",
      "Iterations:  39%|████████████▊                    | 116/300 [02:26<03:49,  1.25s/it]"
     ]
    },
    {
     "name": "stdout",
     "output_type": "stream",
     "text": [
      "Epoch  115 , loss 0.40633369134921654\n",
      "Epoch  116 , loss 0.400709609190623\n"
     ]
    },
    {
     "name": "stderr",
     "output_type": "stream",
     "text": [
      "\r",
      "Iterations:  39%|████████████▊                    | 117/300 [02:28<03:58,  1.31s/it]"
     ]
    },
    {
     "name": "stdout",
     "output_type": "stream",
     "text": [
      "Epoch:  116\n",
      "t_loss:  0.400709609190623 , v_loss:  0.6077213188012441\n",
      "t_acc:  0.710239651416122 , v_acc:  0.6894409937888198\n",
      "t_recall:  0.5289167044097666 , v_recall:  0.510990990990991\n",
      "t_prec:  0.7491485738612176 , v_prec:  0.5971337579617835\n",
      "t_f:  0.47370062880334185 , v_f:  0.4437534549474848\n",
      "////////\n"
     ]
    },
    {
     "name": "stderr",
     "output_type": "stream",
     "text": [
      "\r",
      "Iterations:  39%|████████████▉                    | 118/300 [02:29<03:34,  1.18s/it]"
     ]
    },
    {
     "name": "stdout",
     "output_type": "stream",
     "text": [
      "Epoch  117 , loss 0.4061613626339856\n",
      "Epoch  118 , loss 0.40266451122714025\n"
     ]
    },
    {
     "name": "stderr",
     "output_type": "stream",
     "text": [
      "\r",
      "Iterations:  40%|█████████████                    | 119/300 [02:30<03:57,  1.31s/it]"
     ]
    },
    {
     "name": "stdout",
     "output_type": "stream",
     "text": [
      "Epoch:  118\n",
      "t_loss:  0.40266451122714025 , v_loss:  0.5962747583786646\n",
      "t_acc:  0.710239651416122 , v_acc:  0.6956521739130435\n",
      "t_recall:  0.53179204238207 , v_recall:  0.5264864864864865\n",
      "t_prec:  0.721092417725063 , v_prec:  0.6363636363636364\n",
      "t_f:  0.4815238569331057 , v_f:  0.477722608407812\n",
      "////////\n"
     ]
    },
    {
     "name": "stderr",
     "output_type": "stream",
     "text": [
      "\r",
      "Iterations:  40%|█████████████▏                   | 120/300 [02:31<03:35,  1.20s/it]"
     ]
    },
    {
     "name": "stdout",
     "output_type": "stream",
     "text": [
      "Epoch  119 , loss 0.4043530652336046\n",
      "Epoch  120 , loss 0.40285039824597974\n"
     ]
    },
    {
     "name": "stderr",
     "output_type": "stream",
     "text": [
      "\r",
      "Iterations:  40%|█████████████▎                   | 121/300 [02:33<03:59,  1.34s/it]"
     ]
    },
    {
     "name": "stdout",
     "output_type": "stream",
     "text": [
      "Epoch:  120\n",
      "t_loss:  0.40285039824597974 , v_loss:  0.593300481637319\n",
      "t_acc:  0.7099284158107687 , v_acc:  0.6956521739130435\n",
      "t_recall:  0.5298431259521554 , v_recall:  0.5264864864864865\n",
      "t_prec:  0.7320845341018252 , v_prec:  0.6363636363636364\n",
      "t_f:  0.47669766095851634 , v_f:  0.477722608407812\n",
      "////////\n"
     ]
    },
    {
     "name": "stderr",
     "output_type": "stream",
     "text": [
      "\r",
      "Iterations:  41%|█████████████▍                   | 122/300 [02:34<03:39,  1.23s/it]"
     ]
    },
    {
     "name": "stdout",
     "output_type": "stream",
     "text": [
      "Epoch  121 , loss 0.4071640284622417\n",
      "Epoch  122 , loss 0.402595929071015\n"
     ]
    },
    {
     "name": "stderr",
     "output_type": "stream",
     "text": [
      "\r",
      "Iterations:  41%|█████████████▌                   | 123/300 [02:35<03:57,  1.34s/it]"
     ]
    },
    {
     "name": "stdout",
     "output_type": "stream",
     "text": [
      "Epoch:  122\n",
      "t_loss:  0.402595929071015 , v_loss:  0.5920170793930689\n",
      "t_acc:  0.707749766573296 , v_acc:  0.6956521739130435\n",
      "t_recall:  0.5285646642236588 , v_recall:  0.5264864864864865\n",
      "t_prec:  0.7025310912594149 , v_prec:  0.6363636363636364\n",
      "t_f:  0.4762934367759886 , v_f:  0.477722608407812\n",
      "////////\n"
     ]
    },
    {
     "name": "stderr",
     "output_type": "stream",
     "text": [
      "\r",
      "Iterations:  41%|█████████████▋                   | 124/300 [02:36<03:43,  1.27s/it]"
     ]
    },
    {
     "name": "stdout",
     "output_type": "stream",
     "text": [
      "Epoch  123 , loss 0.40459903782489254\n",
      "Epoch  124 , loss 0.40788593771410925\n"
     ]
    },
    {
     "name": "stderr",
     "output_type": "stream",
     "text": [
      "\r",
      "Iterations:  42%|█████████████▊                   | 125/300 [02:38<03:57,  1.36s/it]"
     ]
    },
    {
     "name": "stdout",
     "output_type": "stream",
     "text": [
      "Epoch:  124\n",
      "t_loss:  0.40788593771410925 , v_loss:  0.5943046808242798\n",
      "t_acc:  0.7096171802054155 , v_acc:  0.6956521739130435\n",
      "t_recall:  0.5307695474945444 , v_recall:  0.5264864864864865\n",
      "t_prec:  0.7181643019793309 , v_prec:  0.6363636363636364\n",
      "t_f:  0.47963980459211647 , v_f:  0.477722608407812\n",
      "////////\n"
     ]
    },
    {
     "name": "stderr",
     "output_type": "stream",
     "text": [
      "\r",
      "Iterations:  42%|█████████████▊                   | 126/300 [02:39<03:32,  1.22s/it]"
     ]
    },
    {
     "name": "stdout",
     "output_type": "stream",
     "text": [
      "Epoch  125 , loss 0.3996702645923577\n",
      "Epoch  126 , loss 0.39849597215652466\n"
     ]
    },
    {
     "name": "stderr",
     "output_type": "stream",
     "text": [
      "\r",
      "Iterations:  42%|█████████████▉                   | 127/300 [02:40<03:48,  1.32s/it]"
     ]
    },
    {
     "name": "stdout",
     "output_type": "stream",
     "text": [
      "Epoch:  126\n",
      "t_loss:  0.39849597215652466 , v_loss:  0.5851236979166666\n",
      "t_acc:  0.7099284158107687 , v_acc:  0.7204968944099379\n",
      "t_recall:  0.5332935315189196 , v_recall:  0.5664864864864865\n",
      "t_prec:  0.7059917460640954 , v_prec:  0.7236363636363636\n",
      "t_f:  0.4858959937700096 , v_f:  0.5449406444318825\n",
      "////////\n"
     ]
    },
    {
     "name": "stderr",
     "output_type": "stream",
     "text": [
      "\r",
      "Iterations:  43%|██████████████                   | 128/300 [02:42<03:31,  1.23s/it]"
     ]
    },
    {
     "name": "stdout",
     "output_type": "stream",
     "text": [
      "Epoch  127 , loss 0.40010124678705256\n",
      "Epoch  128 , loss 0.4002750843178992\n"
     ]
    },
    {
     "name": "stderr",
     "output_type": "stream",
     "text": [
      "\r",
      "Iterations:  43%|██████████████▏                  | 129/300 [02:43<03:42,  1.30s/it]"
     ]
    },
    {
     "name": "stdout",
     "output_type": "stream",
     "text": [
      "Epoch:  128\n",
      "t_loss:  0.4002750843178992 , v_loss:  0.5906350711981455\n",
      "t_acc:  0.7121070650482415 , v_acc:  0.7080745341614907\n",
      "t_recall:  0.535147060841877 , v_recall:  0.5464864864864865\n",
      "t_prec:  0.7270686536460796 , v_prec:  0.6885964912280702\n",
      "t_f:  0.4878903101976689 , v_f:  0.5123413030869368\n",
      "////////\n"
     ]
    },
    {
     "name": "stderr",
     "output_type": "stream",
     "text": [
      "\r",
      "Iterations:  43%|██████████████▎                  | 130/300 [02:44<03:29,  1.23s/it]"
     ]
    },
    {
     "name": "stdout",
     "output_type": "stream",
     "text": [
      "Epoch  129 , loss 0.40128524046318204\n",
      "Epoch  130 , loss 0.39896926108528585\n"
     ]
    },
    {
     "name": "stderr",
     "output_type": "stream",
     "text": [
      "\r",
      "Iterations:  44%|██████████████▍                  | 131/300 [02:45<03:37,  1.29s/it]"
     ]
    },
    {
     "name": "stdout",
     "output_type": "stream",
     "text": [
      "Epoch:  130\n",
      "t_loss:  0.39896926108528585 , v_loss:  0.5837239424387614\n",
      "t_acc:  0.715219421101774 , v_acc:  0.7204968944099379\n",
      "t_recall:  0.5402595352795048 , v_recall:  0.5664864864864865\n",
      "t_prec:  0.739010989010989 , v_prec:  0.7236363636363636\n",
      "t_f:  0.49710250563085695 , v_f:  0.5449406444318825\n",
      "////////\n"
     ]
    },
    {
     "name": "stderr",
     "output_type": "stream",
     "text": [
      "\r",
      "Iterations:  44%|██████████████▌                  | 132/300 [02:46<03:18,  1.18s/it]"
     ]
    },
    {
     "name": "stdout",
     "output_type": "stream",
     "text": [
      "Epoch  131 , loss 0.39462729295094806\n",
      "Epoch  132 , loss 0.4001964856596554\n"
     ]
    },
    {
     "name": "stderr",
     "output_type": "stream",
     "text": [
      "\r",
      "Iterations:  44%|██████████████▋                  | 133/300 [02:48<03:31,  1.26s/it]"
     ]
    },
    {
     "name": "stdout",
     "output_type": "stream",
     "text": [
      "Epoch:  132\n",
      "t_loss:  0.4001964856596554 , v_loss:  0.5909414291381836\n",
      "t_acc:  0.7071272953625894 , v_acc:  0.7080745341614907\n",
      "t_recall:  0.5289798383222849 , v_recall:  0.5464864864864865\n",
      "t_prec:  0.6906018499016073 , v_prec:  0.6885964912280702\n",
      "t_f:  0.4782673294236309 , v_f:  0.5123413030869368\n",
      "////////\n"
     ]
    },
    {
     "name": "stderr",
     "output_type": "stream",
     "text": [
      "\r",
      "Iterations:  45%|██████████████▋                  | 134/300 [02:49<03:16,  1.18s/it]"
     ]
    },
    {
     "name": "stdout",
     "output_type": "stream",
     "text": [
      "Epoch  133 , loss 0.4033878059948192\n",
      "Epoch  134 , loss 0.40111858295459374\n"
     ]
    },
    {
     "name": "stderr",
     "output_type": "stream",
     "text": [
      "\r",
      "Iterations:  45%|██████████████▊                  | 135/300 [02:50<03:34,  1.30s/it]"
     ]
    },
    {
     "name": "stdout",
     "output_type": "stream",
     "text": [
      "Epoch:  134\n",
      "t_loss:  0.40111858295459374 , v_loss:  0.5795604437589645\n",
      "t_acc:  0.7117958294428882 , v_acc:  0.7204968944099379\n",
      "t_recall:  0.5369360837759569 , v_recall:  0.5664864864864865\n",
      "t_prec:  0.7107791434747648 , v_prec:  0.7236363636363636\n",
      "t_f:  0.49289012123302894 , v_f:  0.5449406444318825\n",
      "////////\n"
     ]
    },
    {
     "name": "stderr",
     "output_type": "stream",
     "text": [
      "\r",
      "Iterations:  45%|██████████████▉                  | 136/300 [02:52<03:23,  1.24s/it]"
     ]
    },
    {
     "name": "stdout",
     "output_type": "stream",
     "text": [
      "Epoch  135 , loss 0.4013860786662382\n",
      "Epoch  136 , loss 0.39853065913798763\n"
     ]
    },
    {
     "name": "stderr",
     "output_type": "stream",
     "text": [
      "\r",
      "Iterations:  46%|███████████████                  | 137/300 [02:53<03:40,  1.35s/it]"
     ]
    },
    {
     "name": "stdout",
     "output_type": "stream",
     "text": [
      "Epoch:  136\n",
      "t_loss:  0.39853065913798763 , v_loss:  0.5809901108344396\n",
      "t_acc:  0.7145969498910676 , v_acc:  0.7204968944099379\n",
      "t_recall:  0.5386619727975186 , v_recall:  0.5664864864864865\n",
      "t_prec:  0.7412460747930345 , v_prec:  0.7236363636363636\n",
      "t_f:  0.4938014615620519 , v_f:  0.5449406444318825\n",
      "////////\n"
     ]
    },
    {
     "name": "stderr",
     "output_type": "stream",
     "text": [
      "\r",
      "Iterations:  46%|███████████████▏                 | 138/300 [02:54<03:28,  1.29s/it]"
     ]
    },
    {
     "name": "stdout",
     "output_type": "stream",
     "text": [
      "Epoch  137 , loss 0.3951188191479328\n",
      "Epoch  138 , loss 0.39986058251530515\n"
     ]
    },
    {
     "name": "stderr",
     "output_type": "stream",
     "text": [
      "\r",
      "Iterations:  46%|███████████████▎                 | 139/300 [02:56<03:43,  1.39s/it]"
     ]
    },
    {
     "name": "stdout",
     "output_type": "stream",
     "text": [
      "Epoch:  138\n",
      "t_loss:  0.39986058251530515 , v_loss:  0.5824538667996725\n",
      "t_acc:  0.7145969498910676 , v_acc:  0.7204968944099379\n",
      "t_recall:  0.5412497769725917 , v_recall:  0.5664864864864865\n",
      "t_prec:  0.7233233104309187 , v_prec:  0.7236363636363636\n",
      "t_f:  0.5003316344311668 , v_f:  0.5449406444318825\n",
      "////////\n"
     ]
    },
    {
     "name": "stderr",
     "output_type": "stream",
     "text": [
      "\r",
      "Iterations:  47%|███████████████▍                 | 140/300 [02:57<03:20,  1.25s/it]"
     ]
    },
    {
     "name": "stdout",
     "output_type": "stream",
     "text": [
      "Epoch  139 , loss 0.40394942550098195\n",
      "Epoch  140 , loss 0.3978389413917766\n"
     ]
    },
    {
     "name": "stderr",
     "output_type": "stream",
     "text": [
      "\r",
      "Iterations:  47%|███████████████▌                 | 141/300 [02:58<03:34,  1.35s/it]"
     ]
    },
    {
     "name": "stdout",
     "output_type": "stream",
     "text": [
      "Epoch:  140\n",
      "t_loss:  0.3978389413917766 , v_loss:  0.5796999633312225\n",
      "t_acc:  0.7117958294428882 , v_acc:  0.7204968944099379\n",
      "t_recall:  0.5352108809925749 , v_recall:  0.5664864864864865\n",
      "t_prec:  0.7216019026120606 , v_prec:  0.7236363636363636\n",
      "t_f:  0.4884602423558862 , v_f:  0.5449406444318825\n",
      "////////\n"
     ]
    },
    {
     "name": "stderr",
     "output_type": "stream",
     "text": [
      "\r",
      "Iterations:  47%|███████████████▌                 | 142/300 [02:59<03:12,  1.22s/it]"
     ]
    },
    {
     "name": "stdout",
     "output_type": "stream",
     "text": [
      "Epoch  141 , loss 0.3992112705520555\n",
      "Epoch  142 , loss 0.397830839250602\n"
     ]
    },
    {
     "name": "stderr",
     "output_type": "stream",
     "text": [
      "\r",
      "Iterations:  48%|███████████████▋                 | 143/300 [03:01<03:31,  1.34s/it]"
     ]
    },
    {
     "name": "stdout",
     "output_type": "stream",
     "text": [
      "Epoch:  142\n",
      "t_loss:  0.397830839250602 , v_loss:  0.5789503504832586\n",
      "t_acc:  0.7170868347338936 , v_acc:  0.7204968944099379\n",
      "t_recall:  0.5430394861448512 , v_recall:  0.5664864864864865\n",
      "t_prec:  0.7475254558370826 , v_prec:  0.7236363636363636\n",
      "t_f:  0.5018413478144068 , v_f:  0.5449406444318825\n",
      "////////\n"
     ]
    },
    {
     "name": "stderr",
     "output_type": "stream",
     "text": [
      "\r",
      "Iterations:  48%|███████████████▊                 | 144/300 [03:02<03:09,  1.21s/it]"
     ]
    },
    {
     "name": "stdout",
     "output_type": "stream",
     "text": [
      "Epoch  143 , loss 0.39820325140859564\n",
      "Epoch  144 , loss 0.4007709008805892\n"
     ]
    },
    {
     "name": "stderr",
     "output_type": "stream",
     "text": [
      "\r",
      "Iterations:  48%|███████████████▉                 | 145/300 [03:03<03:20,  1.29s/it]"
     ]
    },
    {
     "name": "stdout",
     "output_type": "stream",
     "text": [
      "Epoch:  144\n",
      "t_loss:  0.4007709008805892 , v_loss:  0.5765725920597712\n",
      "t_acc:  0.7164643635231871 , v_acc:  0.7267080745341615\n",
      "t_recall:  0.5428795926490166 , v_recall:  0.581981981981982\n",
      "t_prec:  0.7391483509473824 , v_prec:  0.7210884353741497\n",
      "t_f:  0.502178595694852 , v_f:  0.5709786821705426\n",
      "////////\n"
     ]
    },
    {
     "name": "stderr",
     "output_type": "stream",
     "text": [
      "\r",
      "Iterations:  49%|████████████████                 | 146/300 [03:04<03:00,  1.17s/it]"
     ]
    },
    {
     "name": "stdout",
     "output_type": "stream",
     "text": [
      "Epoch  145 , loss 0.39662763651679545\n",
      "Epoch  146 , loss 0.39521899527194454\n"
     ]
    },
    {
     "name": "stderr",
     "output_type": "stream",
     "text": [
      "\r",
      "Iterations:  49%|████████████████▏                | 147/300 [03:06<03:19,  1.31s/it]"
     ]
    },
    {
     "name": "stdout",
     "output_type": "stream",
     "text": [
      "Epoch:  146\n",
      "t_loss:  0.39521899527194454 , v_loss:  0.5780821343262991\n",
      "t_acc:  0.7186430127606598 , v_acc:  0.7204968944099379\n",
      "t_recall:  0.5467458585525864 , v_recall:  0.571981981981982\n",
      "t_prec:  0.744170458238544 , v_prec:  0.7076403326403327\n",
      "t_f:  0.5091645757175921 , v_f:  0.555984555984556\n",
      "////////\n"
     ]
    },
    {
     "name": "stderr",
     "output_type": "stream",
     "text": [
      "\r",
      "Iterations:  49%|████████████████▎                | 148/300 [03:07<02:59,  1.18s/it]"
     ]
    },
    {
     "name": "stdout",
     "output_type": "stream",
     "text": [
      "Epoch  147 , loss 0.39151446258320527\n",
      "Epoch  148 , loss 0.3963073620609209\n"
     ]
    },
    {
     "name": "stderr",
     "output_type": "stream",
     "text": [
      "\r",
      "Iterations:  50%|████████████████▍                | 149/300 [03:08<03:19,  1.32s/it]"
     ]
    },
    {
     "name": "stdout",
     "output_type": "stream",
     "text": [
      "Epoch:  148\n",
      "t_loss:  0.3963073620609209 , v_loss:  0.5747623840967814\n",
      "t_acc:  0.7124183006535948 , v_acc:  0.7329192546583851\n",
      "t_recall:  0.5396837814468646 , v_recall:  0.591981981981982\n",
      "t_prec:  0.7044114528101802 , v_prec:  0.7331050228310503\n",
      "t_f:  0.4990158556588299 , v_f:  0.5855731816821312\n",
      "////////\n"
     ]
    },
    {
     "name": "stderr",
     "output_type": "stream",
     "text": [
      "\r",
      "Iterations:  50%|████████████████▌                | 150/300 [03:09<02:59,  1.19s/it]"
     ]
    },
    {
     "name": "stdout",
     "output_type": "stream",
     "text": [
      "Epoch  149 , loss 0.39717994659554723\n",
      "Epoch  150 , loss 0.3975621584583731\n"
     ]
    },
    {
     "name": "stderr",
     "output_type": "stream",
     "text": [
      "\r",
      "Iterations:  50%|████████████████▌                | 151/300 [03:11<03:09,  1.27s/it]"
     ]
    },
    {
     "name": "stdout",
     "output_type": "stream",
     "text": [
      "Epoch:  150\n",
      "t_loss:  0.3975621584583731 , v_loss:  0.5777010470628738\n",
      "t_acc:  0.7121070650482415 , v_acc:  0.7391304347826086\n",
      "t_recall:  0.5377348650169501 , v_recall:  0.5964864864864865\n",
      "t_prec:  0.7104551415842948 , v_prec:  0.7602040816326531\n",
      "t_f:  0.4945282118745753 , v_f:  0.5904796511627907\n",
      "////////\n"
     ]
    },
    {
     "name": "stderr",
     "output_type": "stream",
     "text": [
      "\r",
      "Iterations:  51%|████████████████▋                | 152/300 [03:12<02:56,  1.19s/it]"
     ]
    },
    {
     "name": "stdout",
     "output_type": "stream",
     "text": [
      "Epoch  151 , loss 0.3936590973068686\n",
      "Epoch  152 , loss 0.39647335456866845\n"
     ]
    },
    {
     "name": "stderr",
     "output_type": "stream",
     "text": [
      "\r",
      "Iterations:  51%|████████████████▊                | 153/300 [03:13<03:07,  1.27s/it]"
     ]
    },
    {
     "name": "stdout",
     "output_type": "stream",
     "text": [
      "Epoch:  152\n",
      "t_loss:  0.39647335456866845 , v_loss:  0.5719617654879888\n",
      "t_acc:  0.7130407718643013 , v_acc:  0.7329192546583851\n",
      "t_recall:  0.5404187425371598 , v_recall:  0.591981981981982\n",
      "t_prec:  0.7081972428419936 , v_prec:  0.7331050228310503\n",
      "t_f:  0.5001002369236377 , v_f:  0.5855731816821312\n",
      "////////\n"
     ]
    },
    {
     "name": "stderr",
     "output_type": "stream",
     "text": [
      "\r",
      "Iterations:  51%|████████████████▉                | 154/300 [03:14<02:53,  1.19s/it]"
     ]
    },
    {
     "name": "stdout",
     "output_type": "stream",
     "text": [
      "Epoch  153 , loss 0.39379050977089824\n",
      "Epoch  154 , loss 0.40245938417958277\n"
     ]
    },
    {
     "name": "stderr",
     "output_type": "stream",
     "text": [
      "\r",
      "Iterations:  52%|█████████████████                | 155/300 [03:16<03:03,  1.26s/it]"
     ]
    },
    {
     "name": "stdout",
     "output_type": "stream",
     "text": [
      "Epoch:  154\n",
      "t_loss:  0.40245938417958277 , v_loss:  0.5769385347763697\n",
      "t_acc:  0.7186430127606598 , v_acc:  0.7329192546583851\n",
      "t_recall:  0.5493336627276595 , v_recall:  0.591981981981982\n",
      "t_prec:  0.7289072483580492 , v_prec:  0.7331050228310503\n",
      "t_f:  0.5153270386770274 , v_f:  0.5855731816821312\n",
      "////////\n"
     ]
    },
    {
     "name": "stderr",
     "output_type": "stream",
     "text": [
      "\r",
      "Iterations:  52%|█████████████████▏               | 156/300 [03:17<02:49,  1.17s/it]"
     ]
    },
    {
     "name": "stdout",
     "output_type": "stream",
     "text": [
      "Epoch  155 , loss 0.39380039771397907\n",
      "Epoch  156 , loss 0.3965056445084366\n"
     ]
    },
    {
     "name": "stderr",
     "output_type": "stream",
     "text": [
      "\r",
      "Iterations:  52%|█████████████████▎               | 157/300 [03:18<03:01,  1.27s/it]"
     ]
    },
    {
     "name": "stdout",
     "output_type": "stream",
     "text": [
      "Epoch:  156\n",
      "t_loss:  0.3965056445084366 , v_loss:  0.579919770359993\n",
      "t_acc:  0.713974478680361 , v_acc:  0.7329192546583851\n",
      "t_recall:  0.5436776876518302 , v_recall:  0.5864864864864865\n",
      "t_prec:  0.7039215686274509 , v_prec:  0.7494802494802495\n",
      "t_f:  0.5069423884701798 , v_f:  0.5757185757185757\n",
      "////////\n"
     ]
    },
    {
     "name": "stderr",
     "output_type": "stream",
     "text": [
      "\r",
      "Iterations:  53%|█████████████████▍               | 158/300 [03:19<02:53,  1.22s/it]"
     ]
    },
    {
     "name": "stdout",
     "output_type": "stream",
     "text": [
      "Epoch  157 , loss 0.38768476627620996\n",
      "Epoch  158 , loss 0.39503377150086794\n"
     ]
    },
    {
     "name": "stderr",
     "output_type": "stream",
     "text": [
      "\r",
      "Iterations:  53%|█████████████████▍               | 159/300 [03:21<03:06,  1.32s/it]"
     ]
    },
    {
     "name": "stdout",
     "output_type": "stream",
     "text": [
      "Epoch:  158\n",
      "t_loss:  0.39503377150086794 , v_loss:  0.5762973874807358\n",
      "t_acc:  0.7177093059446 , v_acc:  0.7391304347826086\n",
      "t_recall:  0.5463622514102194 , v_recall:  0.601981981981982\n",
      "t_prec:  0.7339594414893618 , v_prec:  0.7439655172413793\n",
      "t_f:  0.5092742601581907 , v_f:  0.5997869318181819\n",
      "////////\n"
     ]
    },
    {
     "name": "stderr",
     "output_type": "stream",
     "text": [
      "\r",
      "Iterations:  53%|█████████████████▌               | 160/300 [03:22<02:55,  1.25s/it]"
     ]
    },
    {
     "name": "stdout",
     "output_type": "stream",
     "text": [
      "Epoch  159 , loss 0.3919774556861204\n",
      "Epoch  160 , loss 0.3931025716603971\n"
     ]
    },
    {
     "name": "stderr",
     "output_type": "stream",
     "text": [
      "\r",
      "Iterations:  54%|█████████████████▋               | 161/300 [03:23<03:10,  1.37s/it]"
     ]
    },
    {
     "name": "stdout",
     "output_type": "stream",
     "text": [
      "Epoch:  160\n",
      "t_loss:  0.3931025716603971 , v_loss:  0.5729625622431437\n",
      "t_acc:  0.7198879551820728 , v_acc:  0.7453416149068323\n",
      "t_recall:  0.5487908483276376 , v_recall:  0.6064864864864865\n",
      "t_prec:  0.7478929384965831 , v_prec:  0.7698630136986302\n",
      "t_f:  0.512717833681364 , v_f:  0.604848847650404\n",
      "////////\n"
     ]
    },
    {
     "name": "stderr",
     "output_type": "stream",
     "text": [
      "\r",
      "Iterations:  54%|█████████████████▊               | 162/300 [03:24<02:53,  1.25s/it]"
     ]
    },
    {
     "name": "stdout",
     "output_type": "stream",
     "text": [
      "Epoch  161 , loss 0.39366980831997067\n",
      "Epoch  162 , loss 0.3914077766970092\n"
     ]
    },
    {
     "name": "stderr",
     "output_type": "stream",
     "text": [
      "\r",
      "Iterations:  54%|█████████████████▉               | 163/300 [03:26<03:02,  1.34s/it]"
     ]
    },
    {
     "name": "stdout",
     "output_type": "stream",
     "text": [
      "Epoch:  162\n",
      "t_loss:  0.3914077766970092 , v_loss:  0.5769918362299601\n",
      "t_acc:  0.7173980703392469 , v_acc:  0.7391304347826086\n",
      "t_recall:  0.5472886729526084 , v_recall:  0.601981981981982\n",
      "t_prec:  0.7249755142017629 , v_prec:  0.7439655172413793\n",
      "t_f:  0.5118250162646683 , v_f:  0.5997869318181819\n",
      "////////\n"
     ]
    },
    {
     "name": "stderr",
     "output_type": "stream",
     "text": [
      "\r",
      "Iterations:  55%|██████████████████               | 164/300 [03:27<02:45,  1.22s/it]"
     ]
    },
    {
     "name": "stdout",
     "output_type": "stream",
     "text": [
      "Epoch  163 , loss 0.38962406855003506\n",
      "Epoch  164 , loss 0.3911425576490514\n"
     ]
    },
    {
     "name": "stderr",
     "output_type": "stream",
     "text": [
      "\r",
      "Iterations:  55%|██████████████████▏              | 165/300 [03:28<02:54,  1.29s/it]"
     ]
    },
    {
     "name": "stdout",
     "output_type": "stream",
     "text": [
      "Epoch:  164\n",
      "t_loss:  0.3911425576490514 , v_loss:  0.5744298497835795\n",
      "t_acc:  0.7201991907874261 , v_acc:  0.7453416149068323\n",
      "t_recall:  0.549877163365861 , v_recall:  0.6064864864864865\n",
      "t_prec:  0.7450726071123499 , v_prec:  0.7698630136986302\n",
      "t_f:  0.5149695169101512 , v_f:  0.604848847650404\n",
      "////////\n"
     ]
    },
    {
     "name": "stderr",
     "output_type": "stream",
     "text": [
      "\r",
      "Iterations:  55%|██████████████████▎              | 166/300 [03:29<02:37,  1.18s/it]"
     ]
    },
    {
     "name": "stdout",
     "output_type": "stream",
     "text": [
      "Epoch  165 , loss 0.39418354455162496\n",
      "Epoch  166 , loss 0.388154250441813\n"
     ]
    },
    {
     "name": "stderr",
     "output_type": "stream",
     "text": [
      "\r",
      "Iterations:  56%|██████████████████▎              | 167/300 [03:31<02:50,  1.28s/it]"
     ]
    },
    {
     "name": "stdout",
     "output_type": "stream",
     "text": [
      "Epoch:  166\n",
      "t_loss:  0.388154250441813 , v_loss:  0.5734178821245829\n",
      "t_acc:  0.7201991907874261 , v_acc:  0.7453416149068323\n",
      "t_recall:  0.5487270281769396 , v_recall:  0.6064864864864865\n",
      "t_prec:  0.7527431587140376 , v_prec:  0.7698630136986302\n",
      "t_f:  0.5122253247131556 , v_f:  0.604848847650404\n",
      "////////\n"
     ]
    },
    {
     "name": "stderr",
     "output_type": "stream",
     "text": [
      "\r",
      "Iterations:  56%|██████████████████▍              | 168/300 [03:32<02:33,  1.16s/it]"
     ]
    },
    {
     "name": "stdout",
     "output_type": "stream",
     "text": [
      "Epoch  167 , loss 0.38812539653450834\n",
      "Epoch  168 , loss 0.39107518686967735\n"
     ]
    },
    {
     "name": "stderr",
     "output_type": "stream",
     "text": [
      "\r",
      "Iterations:  56%|██████████████████▌              | 169/300 [03:33<02:49,  1.29s/it]"
     ]
    },
    {
     "name": "stdout",
     "output_type": "stream",
     "text": [
      "Epoch:  168\n",
      "t_loss:  0.39107518686967735 , v_loss:  0.5769195407629013\n",
      "t_acc:  0.7220666044195456 , v_acc:  0.7453416149068323\n",
      "t_recall:  0.554094783217359 , v_recall:  0.6064864864864865\n",
      "t_prec:  0.7435037253957075 , v_prec:  0.7698630136986302\n",
      "t_f:  0.5228794166815081 , v_f:  0.604848847650404\n",
      "////////\n"
     ]
    },
    {
     "name": "stderr",
     "output_type": "stream",
     "text": [
      "\r",
      "Iterations:  57%|██████████████████▋              | 170/300 [03:34<02:35,  1.19s/it]"
     ]
    },
    {
     "name": "stdout",
     "output_type": "stream",
     "text": [
      "Epoch  169 , loss 0.39305872543185366\n",
      "Epoch  170 , loss 0.38932034256411535\n"
     ]
    },
    {
     "name": "stderr",
     "output_type": "stream",
     "text": [
      "\r",
      "Iterations:  57%|██████████████████▊              | 171/300 [03:36<02:47,  1.30s/it]"
     ]
    },
    {
     "name": "stdout",
     "output_type": "stream",
     "text": [
      "Epoch:  170\n",
      "t_loss:  0.38932034256411535 , v_loss:  0.576261301835378\n",
      "t_acc:  0.7205104263927793 , v_acc:  0.7453416149068323\n",
      "t_recall:  0.5535512825791575 , v_recall:  0.6064864864864865\n",
      "t_prec:  0.7288177339901478 , v_prec:  0.7698630136986302\n",
      "t_f:  0.5231645644930986 , v_f:  0.604848847650404\n",
      "////////\n"
     ]
    },
    {
     "name": "stderr",
     "output_type": "stream",
     "text": [
      "\r",
      "Iterations:  57%|██████████████████▉              | 172/300 [03:37<02:47,  1.31s/it]"
     ]
    },
    {
     "name": "stdout",
     "output_type": "stream",
     "text": [
      "Epoch  171 , loss 0.3936302583007252\n",
      "Epoch  172 , loss 0.38704535774156157\n"
     ]
    },
    {
     "name": "stderr",
     "output_type": "stream",
     "text": [
      "\r",
      "Iterations:  58%|███████████████████              | 173/300 [03:39<02:51,  1.35s/it]"
     ]
    },
    {
     "name": "stdout",
     "output_type": "stream",
     "text": [
      "Epoch:  172\n",
      "t_loss:  0.38704535774156157 , v_loss:  0.5720859517653784\n",
      "t_acc:  0.7226890756302521 , v_acc:  0.7453416149068323\n",
      "t_recall:  0.5559798794965757 , v_recall:  0.6119819819819821\n",
      "t_prec:  0.7405481224026011 , v_prec:  0.7538807189542484\n",
      "t_f:  0.5265580076553584 , v_f:  0.6136376938835235\n",
      "////////\n"
     ]
    },
    {
     "name": "stderr",
     "output_type": "stream",
     "text": [
      "\r",
      "Iterations:  58%|███████████████████▏             | 174/300 [03:40<02:41,  1.28s/it]"
     ]
    },
    {
     "name": "stdout",
     "output_type": "stream",
     "text": [
      "Epoch  173 , loss 0.3870942446531034\n",
      "Epoch  174 , loss 0.3900955658332974\n"
     ]
    },
    {
     "name": "stderr",
     "output_type": "stream",
     "text": [
      "\r",
      "Iterations:  58%|███████████████████▎             | 175/300 [03:41<02:46,  1.34s/it]"
     ]
    },
    {
     "name": "stdout",
     "output_type": "stream",
     "text": [
      "Epoch:  174\n",
      "t_loss:  0.3900955658332974 , v_loss:  0.568872943520546\n",
      "t_acc:  0.7220666044195456 , v_acc:  0.7453416149068323\n",
      "t_recall:  0.5555324522035108 , v_recall:  0.6119819819819821\n",
      "t_prec:  0.735956464944133 , v_prec:  0.7538807189542484\n",
      "t_f:  0.5261432138956597 , v_f:  0.6136376938835235\n",
      "////////\n"
     ]
    },
    {
     "name": "stderr",
     "output_type": "stream",
     "text": [
      "\r",
      "Iterations:  59%|███████████████████▎             | 176/300 [03:42<02:33,  1.24s/it]"
     ]
    },
    {
     "name": "stdout",
     "output_type": "stream",
     "text": [
      "Epoch  175 , loss 0.38662193394174765\n",
      "Epoch  176 , loss 0.38569744077383306\n"
     ]
    },
    {
     "name": "stderr",
     "output_type": "stream",
     "text": [
      "\r",
      "Iterations:  59%|███████████████████▍             | 177/300 [03:44<02:40,  1.30s/it]"
     ]
    },
    {
     "name": "stdout",
     "output_type": "stream",
     "text": [
      "Epoch:  176\n",
      "t_loss:  0.38569744077383306 , v_loss:  0.581480344136556\n",
      "t_acc:  0.7170868347338936 , v_acc:  0.7453416149068323\n",
      "t_recall:  0.5493652296839187 , v_recall:  0.6064864864864865\n",
      "t_prec:  0.7121246672773953 , v_prec:  0.7698630136986302\n",
      "t_f:  0.5169935229615272 , v_f:  0.604848847650404\n",
      "////////\n"
     ]
    },
    {
     "name": "stderr",
     "output_type": "stream",
     "text": [
      "\r",
      "Iterations:  59%|███████████████████▌             | 178/300 [03:45<02:24,  1.19s/it]"
     ]
    },
    {
     "name": "stdout",
     "output_type": "stream",
     "text": [
      "Epoch  177 , loss 0.38827096802346844\n",
      "Epoch  178 , loss 0.3882012425684461\n"
     ]
    },
    {
     "name": "stderr",
     "output_type": "stream",
     "text": [
      "\r",
      "Iterations:  60%|███████████████████▋             | 179/300 [03:46<02:36,  1.30s/it]"
     ]
    },
    {
     "name": "stdout",
     "output_type": "stream",
     "text": [
      "Epoch:  178\n",
      "t_loss:  0.3882012425684461 , v_loss:  0.568680023153623\n",
      "t_acc:  0.7208216619981326 , v_acc:  0.7577639751552795\n",
      "t_recall:  0.5534874624284597 , v_recall:  0.6264864864864865\n",
      "t_prec:  0.7324713672154617 , v_prec:  0.7867647058823529\n",
      "t_f:  0.5227166025030516 , v_f:  0.6324846356453029\n",
      "////////\n"
     ]
    },
    {
     "name": "stderr",
     "output_type": "stream",
     "text": [
      "\r",
      "Iterations:  60%|███████████████████▊             | 180/300 [03:47<02:23,  1.20s/it]"
     ]
    },
    {
     "name": "stdout",
     "output_type": "stream",
     "text": [
      "Epoch  179 , loss 0.38668952853071925\n",
      "Epoch  180 , loss 0.38761674247536004\n"
     ]
    },
    {
     "name": "stderr",
     "output_type": "stream",
     "text": [
      "\r",
      "Iterations:  60%|███████████████████▉             | 181/300 [03:49<02:40,  1.35s/it]"
     ]
    },
    {
     "name": "stdout",
     "output_type": "stream",
     "text": [
      "Epoch:  180\n",
      "t_loss:  0.38761674247536004 , v_loss:  0.5671819696823756\n",
      "t_acc:  0.7217553688141923 , v_acc:  0.7515527950310559\n",
      "t_recall:  0.5567464075431301 , v_recall:  0.6219819819819821\n",
      "t_prec:  0.7272007912957468 , v_prec:  0.763014763014763\n",
      "t_f:  0.5291377010870207 , v_f:  0.6271421954608616\n",
      "////////\n"
     ]
    },
    {
     "name": "stderr",
     "output_type": "stream",
     "text": [
      "\r",
      "Iterations:  61%|████████████████████             | 182/300 [03:50<02:25,  1.23s/it]"
     ]
    },
    {
     "name": "stdout",
     "output_type": "stream",
     "text": [
      "Epoch  181 , loss 0.38304852854971794\n",
      "Epoch  182 , loss 0.38485975417436336\n"
     ]
    },
    {
     "name": "stderr",
     "output_type": "stream",
     "text": [
      "\r",
      "Iterations:  61%|████████████████████▏            | 183/300 [03:51<02:39,  1.37s/it]"
     ]
    },
    {
     "name": "stdout",
     "output_type": "stream",
     "text": [
      "Epoch:  182\n",
      "t_loss:  0.38485975417436336 , v_loss:  0.569384848078092\n",
      "t_acc:  0.7236227824463118 , v_acc:  0.7515527950310559\n",
      "t_recall:  0.558376223219555 , v_recall:  0.6219819819819821\n",
      "t_prec:  0.7387233588768821 , v_prec:  0.763014763014763\n",
      "t_f:  0.531032786928359 , v_f:  0.6271421954608616\n",
      "////////\n"
     ]
    },
    {
     "name": "stderr",
     "output_type": "stream",
     "text": [
      "\r",
      "Iterations:  61%|████████████████████▏            | 184/300 [03:52<02:24,  1.24s/it]"
     ]
    },
    {
     "name": "stdout",
     "output_type": "stream",
     "text": [
      "Epoch  183 , loss 0.3826450816556519\n",
      "Epoch  184 , loss 0.38003051134885524\n"
     ]
    },
    {
     "name": "stderr",
     "output_type": "stream",
     "text": [
      "\r",
      "Iterations:  62%|████████████████████▎            | 185/300 [03:54<02:30,  1.31s/it]"
     ]
    },
    {
     "name": "stdout",
     "output_type": "stream",
     "text": [
      "Epoch:  184\n",
      "t_loss:  0.38003051134885524 , v_loss:  0.5708353916803995\n",
      "t_acc:  0.7236227824463118 , v_acc:  0.7577639751552795\n",
      "t_recall:  0.5598138922057068 , v_recall:  0.631981981981982\n",
      "t_prec:  0.732216503085137 , v_prec:  0.7714974054855448\n",
      "t_f:  0.5341781377470054 , v_f:  0.6403162055335968\n",
      "////////\n"
     ]
    },
    {
     "name": "stderr",
     "output_type": "stream",
     "text": [
      "\r",
      "Iterations:  62%|████████████████████▍            | 186/300 [03:55<02:16,  1.20s/it]"
     ]
    },
    {
     "name": "stdout",
     "output_type": "stream",
     "text": [
      "Epoch  185 , loss 0.38257943648918\n",
      "Epoch  186 , loss 0.3882186646554984\n"
     ]
    },
    {
     "name": "stderr",
     "output_type": "stream",
     "text": [
      "\r",
      "Iterations:  62%|████████████████████▌            | 187/300 [03:56<02:26,  1.29s/it]"
     ]
    },
    {
     "name": "stdout",
     "output_type": "stream",
     "text": [
      "Epoch:  186\n",
      "t_loss:  0.3882186646554984 , v_loss:  0.5693977226813635\n",
      "t_acc:  0.7279800809212574 , v_acc:  0.7577639751552795\n",
      "t_recall:  0.565533687432234 , v_recall:  0.6264864864864865\n",
      "t_prec:  0.7493958598116197 , v_prec:  0.7867647058823529\n",
      "t_f:  0.5427447151633258 , v_f:  0.6324846356453029\n",
      "////////\n"
     ]
    },
    {
     "name": "stderr",
     "output_type": "stream",
     "text": [
      "\r",
      "Iterations:  63%|████████████████████▋            | 188/300 [03:57<02:12,  1.19s/it]"
     ]
    },
    {
     "name": "stdout",
     "output_type": "stream",
     "text": [
      "Epoch  187 , loss 0.386417968600404\n",
      "Epoch  188 , loss 0.38344235805904164\n"
     ]
    },
    {
     "name": "stderr",
     "output_type": "stream",
     "text": [
      "\r",
      "Iterations:  63%|████████████████████▊            | 189/300 [03:59<02:26,  1.32s/it]"
     ]
    },
    {
     "name": "stdout",
     "output_type": "stream",
     "text": [
      "Epoch:  188\n",
      "t_loss:  0.38344235805904164 , v_loss:  0.56768066684405\n",
      "t_acc:  0.7282913165266106 , v_acc:  0.7639751552795031\n",
      "t_recall:  0.5666200024704575 , v_recall:  0.6364864864864865\n",
      "t_prec:  0.7474384462456034 , v_prec:  0.7942890442890442\n",
      "t_f:  0.5447818637797035 , v_f:  0.6457850856878184\n",
      "////////\n"
     ]
    },
    {
     "name": "stderr",
     "output_type": "stream",
     "text": [
      "\r",
      "Iterations:  63%|████████████████████▉            | 190/300 [04:00<02:16,  1.24s/it]"
     ]
    },
    {
     "name": "stdout",
     "output_type": "stream",
     "text": [
      "Epoch  189 , loss 0.3901671790609173\n",
      "Epoch  190 , loss 0.3893216848373413\n"
     ]
    },
    {
     "name": "stderr",
     "output_type": "stream",
     "text": [
      "\r",
      "Iterations:  64%|█████████████████████            | 191/300 [04:02<02:31,  1.39s/it]"
     ]
    },
    {
     "name": "stdout",
     "output_type": "stream",
     "text": [
      "Epoch:  190\n",
      "t_loss:  0.3893216848373413 , v_loss:  0.5677464008331299\n",
      "t_acc:  0.7261126672891379 , v_acc:  0.7577639751552795\n",
      "t_recall:  0.563903871755809 , v_recall:  0.6264864864864865\n",
      "t_prec:  0.7384946882800681 , v_prec:  0.7867647058823529\n",
      "t_f:  0.540827661291056 , v_f:  0.6324846356453029\n",
      "////////\n"
     ]
    },
    {
     "name": "stderr",
     "output_type": "stream",
     "text": [
      "\r",
      "Iterations:  64%|█████████████████████            | 192/300 [04:03<02:18,  1.28s/it]"
     ]
    },
    {
     "name": "stdout",
     "output_type": "stream",
     "text": [
      "Epoch  191 , loss 0.383592077330047\n",
      "Epoch  192 , loss 0.3852652714532964\n"
     ]
    },
    {
     "name": "stderr",
     "output_type": "stream",
     "text": [
      "\r",
      "Iterations:  64%|█████████████████████▏           | 193/300 [04:04<02:24,  1.35s/it]"
     ]
    },
    {
     "name": "stdout",
     "output_type": "stream",
     "text": [
      "Epoch:  192\n",
      "t_loss:  0.3852652714532964 , v_loss:  0.5636185059944788\n",
      "t_acc:  0.7286025521319639 , v_acc:  0.7701863354037267\n",
      "t_recall:  0.5682813851031416 , v_recall:  0.651981981981982\n",
      "t_prec:  0.7431455633100698 , v_prec:  0.7869047619047619\n",
      "t_f:  0.5479910325360964 , v_f:  0.6657314404354413\n",
      "////////\n"
     ]
    },
    {
     "name": "stderr",
     "output_type": "stream",
     "text": [
      "\r",
      "Iterations:  65%|█████████████████████▎           | 194/300 [04:05<02:13,  1.26s/it]"
     ]
    },
    {
     "name": "stdout",
     "output_type": "stream",
     "text": [
      "Epoch  193 , loss 0.3830387528036155\n",
      "Epoch  194 , loss 0.38311315605453417\n"
     ]
    },
    {
     "name": "stderr",
     "output_type": "stream",
     "text": [
      "\r",
      "Iterations:  65%|█████████████████████▍           | 195/300 [04:07<02:18,  1.32s/it]"
     ]
    },
    {
     "name": "stdout",
     "output_type": "stream",
     "text": [
      "Epoch:  194\n",
      "t_loss:  0.38311315605453417 , v_loss:  0.5640189349651337\n",
      "t_acc:  0.7267351384998444 , v_acc:  0.7701863354037267\n",
      "t_recall:  0.5632011638599526 , v_recall:  0.651981981981982\n",
      "t_prec:  0.7478702255013134 , v_prec:  0.7869047619047619\n",
      "t_f:  0.5388064415717582 , v_f:  0.6657314404354413\n",
      "////////\n"
     ]
    },
    {
     "name": "stderr",
     "output_type": "stream",
     "text": [
      "\r",
      "Iterations:  65%|█████████████████████▌           | 196/300 [04:08<02:05,  1.21s/it]"
     ]
    },
    {
     "name": "stdout",
     "output_type": "stream",
     "text": [
      "Epoch  195 , loss 0.38467776483180477\n",
      "Epoch  196 , loss 0.38313669316908894\n"
     ]
    },
    {
     "name": "stderr",
     "output_type": "stream",
     "text": [
      "\r",
      "Iterations:  66%|█████████████████████▋           | 197/300 [04:09<02:12,  1.29s/it]"
     ]
    },
    {
     "name": "stdout",
     "output_type": "stream",
     "text": [
      "Epoch:  196\n",
      "t_loss:  0.38313669316908894 , v_loss:  0.5662111788988113\n",
      "t_acc:  0.7279800809212574 , v_acc:  0.7639751552795031\n",
      "t_recall:  0.5658212212294643 , v_recall:  0.6364864864864865\n",
      "t_prec:  0.7480449354518371 , v_prec:  0.7942890442890442\n",
      "t_f:  0.5433526519142957 , v_f:  0.6457850856878184\n",
      "////////\n"
     ]
    },
    {
     "name": "stderr",
     "output_type": "stream",
     "text": [
      "\r",
      "Iterations:  66%|█████████████████████▊           | 198/300 [04:10<01:59,  1.17s/it]"
     ]
    },
    {
     "name": "stdout",
     "output_type": "stream",
     "text": [
      "Epoch  197 , loss 0.37953325404840355\n",
      "Epoch  198 , loss 0.38113800509303225\n"
     ]
    },
    {
     "name": "stderr",
     "output_type": "stream",
     "text": [
      "\r",
      "Iterations:  66%|█████████████████████▉           | 199/300 [04:12<02:07,  1.27s/it]"
     ]
    },
    {
     "name": "stdout",
     "output_type": "stream",
     "text": [
      "Epoch:  198\n",
      "t_loss:  0.38113800509303225 , v_loss:  0.569666917125384\n",
      "t_acc:  0.7273576097105509 , v_acc:  0.7639751552795031\n",
      "t_recall:  0.5679615981114725 , v_recall:  0.6364864864864865\n",
      "t_prec:  0.7334952814470648 , v_prec:  0.7942890442890442\n",
      "t_f:  0.5482811306340718 , v_f:  0.6457850856878184\n",
      "////////\n"
     ]
    },
    {
     "name": "stderr",
     "output_type": "stream",
     "text": [
      "\r",
      "Iterations:  67%|██████████████████████           | 200/300 [04:13<01:59,  1.20s/it]"
     ]
    },
    {
     "name": "stdout",
     "output_type": "stream",
     "text": [
      "Epoch  199 , loss 0.3829379876454671\n",
      "Epoch  200 , loss 0.3786909118586895\n"
     ]
    },
    {
     "name": "stderr",
     "output_type": "stream",
     "text": [
      "\r",
      "Iterations:  67%|██████████████████████           | 201/300 [04:14<02:09,  1.31s/it]"
     ]
    },
    {
     "name": "stdout",
     "output_type": "stream",
     "text": [
      "Epoch:  200\n",
      "t_loss:  0.3786909118586895 , v_loss:  0.5645081202189127\n",
      "t_acc:  0.7301587301587301 , v_acc:  0.7701863354037267\n",
      "t_recall:  0.5708376223219556 , v_recall:  0.6464864864864865\n",
      "t_prec:  0.7466233220140291 , v_prec:  0.8013343217197924\n",
      "t_f:  0.5520487986784361 , v_f:  0.6587615283267457\n",
      "////////\n"
     ]
    },
    {
     "name": "stderr",
     "output_type": "stream",
     "text": [
      "\r",
      "Iterations:  67%|██████████████████████▏          | 202/300 [04:15<02:03,  1.26s/it]"
     ]
    },
    {
     "name": "stdout",
     "output_type": "stream",
     "text": [
      "Epoch  201 , loss 0.3809371462055281\n",
      "Epoch  202 , loss 0.381339232711231\n"
     ]
    },
    {
     "name": "stderr",
     "output_type": "stream",
     "text": [
      "\r",
      "Iterations:  68%|██████████████████████▎          | 203/300 [04:17<02:09,  1.33s/it]"
     ]
    },
    {
     "name": "stdout",
     "output_type": "stream",
     "text": [
      "Epoch:  202\n",
      "t_loss:  0.381339232711231 , v_loss:  0.5653154651323954\n",
      "t_acc:  0.7289137877373172 , v_acc:  0.7701863354037267\n",
      "t_recall:  0.5710929029247471 , v_recall:  0.6464864864864865\n",
      "t_prec:  0.7350113122171946 , v_prec:  0.8013343217197924\n",
      "t_f:  0.553463260069572 , v_f:  0.6587615283267457\n",
      "////////\n"
     ]
    },
    {
     "name": "stderr",
     "output_type": "stream",
     "text": [
      "\r",
      "Iterations:  68%|██████████████████████▍          | 204/300 [04:18<02:00,  1.26s/it]"
     ]
    },
    {
     "name": "stdout",
     "output_type": "stream",
     "text": [
      "Epoch  203 , loss 0.3743797628318562\n",
      "Epoch  204 , loss 0.3799147529929292\n"
     ]
    },
    {
     "name": "stderr",
     "output_type": "stream",
     "text": [
      "\r",
      "Iterations:  68%|██████████████████████▌          | 205/300 [04:19<02:10,  1.37s/it]"
     ]
    },
    {
     "name": "stdout",
     "output_type": "stream",
     "text": [
      "Epoch:  204\n",
      "t_loss:  0.3799147529929292 , v_loss:  0.5668799132108688\n",
      "t_acc:  0.7338935574229691 , v_acc:  0.7639751552795031\n",
      "t_recall:  0.5766850578498786 , v_recall:  0.6364864864864865\n",
      "t_prec:  0.7556414198259533 , v_prec:  0.7942890442890442\n",
      "t_f:  0.5611015490533563 , v_f:  0.6457850856878184\n",
      "////////\n"
     ]
    },
    {
     "name": "stderr",
     "output_type": "stream",
     "text": [
      "\r",
      "Iterations:  69%|██████████████████████▋          | 206/300 [04:20<01:55,  1.23s/it]"
     ]
    },
    {
     "name": "stdout",
     "output_type": "stream",
     "text": [
      "Epoch  205 , loss 0.3724668443787332\n",
      "Epoch  206 , loss 0.3847605007536271\n"
     ]
    },
    {
     "name": "stderr",
     "output_type": "stream",
     "text": [
      "\r",
      "Iterations:  69%|██████████████████████▊          | 207/300 [04:22<02:02,  1.32s/it]"
     ]
    },
    {
     "name": "stdout",
     "output_type": "stream",
     "text": [
      "Epoch:  206\n",
      "t_loss:  0.3847605007536271 , v_loss:  0.5625550796588262\n",
      "t_acc:  0.7314036725801432 , v_acc:  0.7763975155279503\n",
      "t_recall:  0.5734576796914673 , v_recall:  0.6564864864864866\n",
      "t_prec:  0.746974460571084 , v_prec:  0.8079787234042553\n",
      "t_f:  0.5564231260533239 , v_f:  0.6714285714285715\n",
      "////////\n"
     ]
    },
    {
     "name": "stderr",
     "output_type": "stream",
     "text": [
      "\r",
      "Iterations:  69%|██████████████████████▉          | 208/300 [04:23<01:48,  1.18s/it]"
     ]
    },
    {
     "name": "stdout",
     "output_type": "stream",
     "text": [
      "Epoch  207 , loss 0.3794083799801621\n",
      "Epoch  208 , loss 0.3787688612937927\n"
     ]
    },
    {
     "name": "stderr",
     "output_type": "stream",
     "text": [
      "\r",
      "Iterations:  70%|██████████████████████▉          | 209/300 [04:25<02:03,  1.36s/it]"
     ]
    },
    {
     "name": "stdout",
     "output_type": "stream",
     "text": [
      "Epoch:  208\n",
      "t_loss:  0.3787688612937927 , v_loss:  0.5613694687684377\n",
      "t_acc:  0.7342047930283224 , v_acc:  0.782608695652174\n",
      "t_recall:  0.576908771496411 , v_recall:  0.6664864864864866\n",
      "t_prec:  0.7574772939608828 , v_prec:  0.8142857142857143\n",
      "t_f:  0.5613322291641354 , v_f:  0.6838000112227147\n",
      "////////\n"
     ]
    },
    {
     "name": "stderr",
     "output_type": "stream",
     "text": [
      "\r",
      "Iterations:  70%|███████████████████████          | 210/300 [04:25<01:50,  1.22s/it]"
     ]
    },
    {
     "name": "stdout",
     "output_type": "stream",
     "text": [
      "Epoch  209 , loss 0.3807564570623286\n",
      "Epoch  210 , loss 0.3780812933748844\n"
     ]
    },
    {
     "name": "stderr",
     "output_type": "stream",
     "text": [
      "\r",
      "Iterations:  70%|███████████████████████▏         | 211/300 [04:27<02:02,  1.38s/it]"
     ]
    },
    {
     "name": "stdout",
     "output_type": "stream",
     "text": [
      "Epoch:  210\n",
      "t_loss:  0.3780812933748844 , v_loss:  0.5671771069367727\n",
      "t_acc:  0.7286025521319639 , v_acc:  0.7701863354037267\n",
      "t_recall:  0.5688564526976023 , v_recall:  0.6464864864864865\n",
      "t_prec:  0.7407981889159094 , v_prec:  0.8013343217197924\n",
      "t_f:  0.5491716334333123 , v_f:  0.6587615283267457\n",
      "////////\n"
     ]
    },
    {
     "name": "stderr",
     "output_type": "stream",
     "text": [
      "\r",
      "Iterations:  71%|███████████████████████▎         | 212/300 [04:28<01:49,  1.24s/it]"
     ]
    },
    {
     "name": "stdout",
     "output_type": "stream",
     "text": [
      "Epoch  211 , loss 0.37753958035917845\n",
      "Epoch  212 , loss 0.3756830327066721\n"
     ]
    },
    {
     "name": "stderr",
     "output_type": "stream",
     "text": [
      "\r",
      "Iterations:  71%|███████████████████████▍         | 213/300 [04:30<01:54,  1.32s/it]"
     ]
    },
    {
     "name": "stdout",
     "output_type": "stream",
     "text": [
      "Epoch:  212\n",
      "t_loss:  0.3756830327066721 , v_loss:  0.5594520022471746\n",
      "t_acc:  0.7323373793962029 , v_acc:  0.7763975155279503\n",
      "t_recall:  0.5741288206310646 , v_recall:  0.6564864864864866\n",
      "t_prec:  0.7524720078032241 , v_prec:  0.8079787234042553\n",
      "t_f:  0.5571066054937643 , v_f:  0.6714285714285715\n",
      "////////\n"
     ]
    },
    {
     "name": "stderr",
     "output_type": "stream",
     "text": [
      "\r",
      "Iterations:  71%|███████████████████████▌         | 214/300 [04:31<01:43,  1.20s/it]"
     ]
    },
    {
     "name": "stdout",
     "output_type": "stream",
     "text": [
      "Epoch  213 , loss 0.37762334153932686\n",
      "Epoch  214 , loss 0.37831971107744705\n"
     ]
    },
    {
     "name": "stderr",
     "output_type": "stream",
     "text": [
      "\r",
      "Iterations:  72%|███████████████████████▋         | 215/300 [04:32<01:48,  1.28s/it]"
     ]
    },
    {
     "name": "stdout",
     "output_type": "stream",
     "text": [
      "Epoch:  214\n",
      "t_loss:  0.37831971107744705 , v_loss:  0.5640683223803838\n",
      "t_acc:  0.7323373793962029 , v_acc:  0.7763975155279503\n",
      "t_recall:  0.5764290910089074 , v_recall:  0.6564864864864866\n",
      "t_prec:  0.7434972088210001 , v_prec:  0.8079787234042553\n",
      "t_f:  0.5616326825887974 , v_f:  0.6714285714285715\n",
      "////////\n"
     ]
    },
    {
     "name": "stderr",
     "output_type": "stream",
     "text": [
      "\r",
      "Iterations:  72%|███████████████████████▊         | 216/300 [04:33<01:41,  1.21s/it]"
     ]
    },
    {
     "name": "stdout",
     "output_type": "stream",
     "text": [
      "Epoch  215 , loss 0.37698707218263666\n",
      "Epoch  216 , loss 0.37823637268122506\n"
     ]
    },
    {
     "name": "stderr",
     "output_type": "stream",
     "text": [
      "\r",
      "Iterations:  72%|███████████████████████▊         | 217/300 [04:35<01:47,  1.29s/it]"
     ]
    },
    {
     "name": "stdout",
     "output_type": "stream",
     "text": [
      "Epoch:  216\n",
      "t_loss:  0.37823637268122506 , v_loss:  0.5628595054149628\n",
      "t_acc:  0.7357609710550888 , v_acc:  0.7701863354037267\n",
      "t_recall:  0.5806151439041463 , v_recall:  0.6464864864864865\n",
      "t_prec:  0.7558075727089812 , v_prec:  0.8013343217197924\n",
      "t_f:  0.5675147720446279 , v_f:  0.6587615283267457\n",
      "////////\n"
     ]
    },
    {
     "name": "stderr",
     "output_type": "stream",
     "text": [
      "\r",
      "Iterations:  73%|███████████████████████▉         | 218/300 [04:36<01:38,  1.20s/it]"
     ]
    },
    {
     "name": "stdout",
     "output_type": "stream",
     "text": [
      "Epoch  217 , loss 0.38048363024113224\n",
      "Epoch  218 , loss 0.3759193917115529\n"
     ]
    },
    {
     "name": "stderr",
     "output_type": "stream",
     "text": [
      "\r",
      "Iterations:  73%|████████████████████████         | 219/300 [04:37<01:43,  1.27s/it]"
     ]
    },
    {
     "name": "stdout",
     "output_type": "stream",
     "text": [
      "Epoch:  218\n",
      "t_loss:  0.3759193917115529 , v_loss:  0.5649631967147192\n",
      "t_acc:  0.7301587301587301 , v_acc:  0.7639751552795031\n",
      "t_recall:  0.5725628251053375 , v_recall:  0.6364864864864865\n",
      "t_prec:  0.7398704236939531 , v_prec:  0.7942890442890442\n",
      "t_f:  0.5555139454423869 , v_f:  0.6457850856878184\n",
      "////////\n"
     ]
    },
    {
     "name": "stderr",
     "output_type": "stream",
     "text": [
      "\r",
      "Iterations:  73%|████████████████████████▏        | 220/300 [04:38<01:32,  1.16s/it]"
     ]
    },
    {
     "name": "stdout",
     "output_type": "stream",
     "text": [
      "Epoch  219 , loss 0.3793786095053542\n",
      "Epoch  220 , loss 0.37597811689563826\n"
     ]
    },
    {
     "name": "stderr",
     "output_type": "stream",
     "text": [
      "\r",
      "Iterations:  74%|████████████████████████▎        | 221/300 [04:39<01:40,  1.27s/it]"
     ]
    },
    {
     "name": "stdout",
     "output_type": "stream",
     "text": [
      "Epoch:  220\n",
      "t_loss:  0.37597811689563826 , v_loss:  0.5611469795306524\n",
      "t_acc:  0.7370059134765017 , v_acc:  0.7763975155279503\n",
      "t_recall:  0.5835227350708884 , v_recall:  0.6564864864864866\n",
      "t_prec:  0.7548914348581226 , v_prec:  0.8079787234042553\n",
      "t_f:  0.5722636578228998 , v_f:  0.6714285714285715\n",
      "////////\n"
     ]
    },
    {
     "name": "stderr",
     "output_type": "stream",
     "text": [
      "\r",
      "Iterations:  74%|████████████████████████▍        | 222/300 [04:40<01:34,  1.21s/it]"
     ]
    },
    {
     "name": "stdout",
     "output_type": "stream",
     "text": [
      "Epoch  221 , loss 0.3728066525038551\n",
      "Epoch  222 , loss 0.3783968874052459\n"
     ]
    },
    {
     "name": "stderr",
     "output_type": "stream",
     "text": [
      "\r",
      "Iterations:  74%|████████████████████████▌        | 223/300 [04:42<01:45,  1.37s/it]"
     ]
    },
    {
     "name": "stdout",
     "output_type": "stream",
     "text": [
      "Epoch:  222\n",
      "t_loss:  0.3783968874052459 , v_loss:  0.5641979922850927\n",
      "t_acc:  0.7295362589480237 , v_acc:  0.7763975155279503\n",
      "t_recall:  0.5726904654067333 , v_recall:  0.6564864864864866\n",
      "t_prec:  0.7344110990791093 , v_prec:  0.8079787234042553\n",
      "t_f:  0.5561974820804269 , v_f:  0.6714285714285715\n",
      "////////\n"
     ]
    },
    {
     "name": "stderr",
     "output_type": "stream",
     "text": [
      "\r",
      "Iterations:  75%|████████████████████████▋        | 224/300 [04:43<01:41,  1.33s/it]"
     ]
    },
    {
     "name": "stdout",
     "output_type": "stream",
     "text": [
      "Epoch  223 , loss 0.3647248832618489\n",
      "Epoch  224 , loss 0.376772368071126\n"
     ]
    },
    {
     "name": "stderr",
     "output_type": "stream",
     "text": [
      "\r",
      "Iterations:  75%|████████████████████████▊        | 225/300 [04:45<01:47,  1.43s/it]"
     ]
    },
    {
     "name": "stdout",
     "output_type": "stream",
     "text": [
      "Epoch:  224\n",
      "t_loss:  0.376772368071126 , v_loss:  0.5624619523684183\n",
      "t_acc:  0.7363834422657952 , v_acc:  0.7701863354037267\n",
      "t_recall:  0.5801999698055201 , v_recall:  0.6464864864864865\n",
      "t_prec:  0.7629144982527708 , v_prec:  0.8013343217197924\n",
      "t_f:  0.5663245540996538 , v_f:  0.6587615283267457\n",
      "////////\n"
     ]
    },
    {
     "name": "stderr",
     "output_type": "stream",
     "text": [
      "\r",
      "Iterations:  75%|████████████████████████▊        | 226/300 [04:46<01:36,  1.30s/it]"
     ]
    },
    {
     "name": "stdout",
     "output_type": "stream",
     "text": [
      "Epoch  225 , loss 0.3741430692812976\n",
      "Epoch  226 , loss 0.3697093243108076\n"
     ]
    },
    {
     "name": "stderr",
     "output_type": "stream",
     "text": [
      "\r",
      "Iterations:  76%|████████████████████████▉        | 227/300 [04:48<01:39,  1.36s/it]"
     ]
    },
    {
     "name": "stdout",
     "output_type": "stream",
     "text": [
      "Epoch:  226\n",
      "t_loss:  0.3697093243108076 , v_loss:  0.5585340708494186\n",
      "t_acc:  0.7454092748210396 , v_acc:  0.7763975155279503\n",
      "t_recall:  0.5950261456746407 , v_recall:  0.6564864864864866\n",
      "t_prec:  0.7783687943262412 , v_prec:  0.8079787234042553\n",
      "t_f:  0.5887652791077564 , v_f:  0.6714285714285715\n",
      "////////\n"
     ]
    },
    {
     "name": "stderr",
     "output_type": "stream",
     "text": [
      "\r",
      "Iterations:  76%|█████████████████████████        | 228/300 [04:49<01:28,  1.23s/it]"
     ]
    },
    {
     "name": "stdout",
     "output_type": "stream",
     "text": [
      "Epoch  227 , loss 0.37898970877423005\n",
      "Epoch  228 , loss 0.3665267635209888\n"
     ]
    },
    {
     "name": "stderr",
     "output_type": "stream",
     "text": [
      "\r",
      "Iterations:  76%|█████████████████████████▏       | 229/300 [04:50<01:32,  1.30s/it]"
     ]
    },
    {
     "name": "stdout",
     "output_type": "stream",
     "text": [
      "Epoch:  228\n",
      "t_loss:  0.3665267635209888 , v_loss:  0.5575011173884074\n",
      "t_acc:  0.7457205104263928 , v_acc:  0.782608695652174\n",
      "t_recall:  0.597550129699016 , v_recall:  0.6664864864864866\n",
      "t_prec:  0.7710817181171193 , v_prec:  0.8142857142857143\n",
      "t_f:  0.5930417675333646 , v_f:  0.6838000112227147\n",
      "////////\n"
     ]
    },
    {
     "name": "stderr",
     "output_type": "stream",
     "text": [
      "\r",
      "Iterations:  77%|█████████████████████████▎       | 230/300 [04:51<01:23,  1.19s/it]"
     ]
    },
    {
     "name": "stdout",
     "output_type": "stream",
     "text": [
      "Epoch  229 , loss 0.3711565569335339\n",
      "Epoch  230 , loss 0.37393828437608834\n"
     ]
    },
    {
     "name": "stderr",
     "output_type": "stream",
     "text": [
      "\r",
      "Iterations:  77%|█████████████████████████▍       | 231/300 [04:52<01:29,  1.30s/it]"
     ]
    },
    {
     "name": "stdout",
     "output_type": "stream",
     "text": [
      "Epoch:  230\n",
      "t_loss:  0.37393828437608834 , v_loss:  0.5681374470392863\n",
      "t_acc:  0.7307812013694367 , v_acc:  0.7639751552795031\n",
      "t_recall:  0.5770357255596272 , v_recall:  0.6364864864864865\n",
      "t_prec:  0.7298478573632068 , v_prec:  0.7942890442890442\n",
      "t_f:  0.5637816903342763 , v_f:  0.6457850856878184\n",
      "////////\n"
     ]
    },
    {
     "name": "stderr",
     "output_type": "stream",
     "text": [
      "\r",
      "Iterations:  77%|█████████████████████████▌       | 232/300 [04:53<01:20,  1.18s/it]"
     ]
    },
    {
     "name": "stdout",
     "output_type": "stream",
     "text": [
      "Epoch  231 , loss 0.372544546045509\n",
      "Epoch  232 , loss 0.37177993970758777\n"
     ]
    },
    {
     "name": "stderr",
     "output_type": "stream",
     "text": [
      "\r",
      "Iterations:  78%|█████████████████████████▋       | 233/300 [04:55<01:26,  1.29s/it]"
     ]
    },
    {
     "name": "stdout",
     "output_type": "stream",
     "text": [
      "Epoch:  232\n",
      "t_loss:  0.37177993970758777 , v_loss:  0.563692311445872\n",
      "t_acc:  0.7404295051353875 , v_acc:  0.7763975155279503\n",
      "t_recall:  0.5905841259384307 , v_recall:  0.6564864864864866\n",
      "t_prec:  0.7560931602949964 , v_prec:  0.8079787234042553\n",
      "t_f:  0.5833008845153826 , v_f:  0.6714285714285715\n",
      "////////\n"
     ]
    },
    {
     "name": "stderr",
     "output_type": "stream",
     "text": [
      "\r",
      "Iterations:  78%|█████████████████████████▋       | 234/300 [04:56<01:19,  1.21s/it]"
     ]
    },
    {
     "name": "stdout",
     "output_type": "stream",
     "text": [
      "Epoch  233 , loss 0.36952759325504303\n",
      "Epoch  234 , loss 0.3761487126934762\n"
     ]
    },
    {
     "name": "stderr",
     "output_type": "stream",
     "text": [
      "\r",
      "Iterations:  78%|█████████████████████████▊       | 235/300 [04:57<01:25,  1.31s/it]"
     ]
    },
    {
     "name": "stdout",
     "output_type": "stream",
     "text": [
      "Epoch:  234\n",
      "t_loss:  0.3761487126934762 , v_loss:  0.5499852349360784\n",
      "t_acc:  0.737317149081855 , v_acc:  0.7763975155279503\n",
      "t_recall:  0.5846090501091119 , v_recall:  0.661981981981982\n",
      "t_prec:  0.75338479370638 , v_prec:  0.7939829954218444\n",
      "t_f:  0.5741061130334486 , v_f:  0.6779999999999999\n",
      "////////\n"
     ]
    },
    {
     "name": "stderr",
     "output_type": "stream",
     "text": [
      "\r",
      "Iterations:  79%|█████████████████████████▉       | 236/300 [04:59<01:22,  1.29s/it]"
     ]
    },
    {
     "name": "stdout",
     "output_type": "stream",
     "text": [
      "Epoch  235 , loss 0.37414349527919993\n",
      "Epoch  236 , loss 0.37110340361501654\n"
     ]
    },
    {
     "name": "stderr",
     "output_type": "stream",
     "text": [
      "\r",
      "Iterations:  79%|██████████████████████████       | 237/300 [05:00<01:24,  1.35s/it]"
     ]
    },
    {
     "name": "stdout",
     "output_type": "stream",
     "text": [
      "Epoch:  236\n",
      "t_loss:  0.37110340361501654 , v_loss:  0.5526435474554697\n",
      "t_acc:  0.7407407407407407 , v_acc:  0.782608695652174\n",
      "t_recall:  0.5902327719905025 , v_recall:  0.671981981981982\n",
      "t_prec:  0.7596229787861397 , v_prec:  0.8007246376811594\n",
      "t_f:  0.5825180142835193 , v_f:  0.6899928481047477\n",
      "////////\n"
     ]
    },
    {
     "name": "stderr",
     "output_type": "stream",
     "text": [
      "\r",
      "Iterations:  79%|██████████████████████████▏      | 238/300 [05:01<01:16,  1.23s/it]"
     ]
    },
    {
     "name": "stdout",
     "output_type": "stream",
     "text": [
      "Epoch  237 , loss 0.3737328242437512\n",
      "Epoch  238 , loss 0.37337345556885587\n"
     ]
    },
    {
     "name": "stderr",
     "output_type": "stream",
     "text": [
      "\r",
      "Iterations:  80%|██████████████████████████▎      | 239/300 [05:03<01:20,  1.33s/it]"
     ]
    },
    {
     "name": "stdout",
     "output_type": "stream",
     "text": [
      "Epoch:  238\n",
      "t_loss:  0.37337345556885587 , v_loss:  0.5562848200400671\n",
      "t_acc:  0.7407407407407407 , v_acc:  0.7763975155279503\n",
      "t_recall:  0.5905203057877328 , v_recall:  0.661981981981982\n",
      "t_prec:  0.7586140643012681 , v_prec:  0.7939829954218444\n",
      "t_f:  0.58303235514839 , v_f:  0.6779999999999999\n",
      "////////\n"
     ]
    },
    {
     "name": "stderr",
     "output_type": "stream",
     "text": [
      "\r",
      "Iterations:  80%|██████████████████████████▍      | 240/300 [05:04<01:12,  1.20s/it]"
     ]
    },
    {
     "name": "stdout",
     "output_type": "stream",
     "text": [
      "Epoch  239 , loss 0.3671436450060676\n",
      "Epoch  240 , loss 0.36870188105340096\n"
     ]
    },
    {
     "name": "stderr",
     "output_type": "stream",
     "text": [
      "\r",
      "Iterations:  80%|██████████████████████████▌      | 241/300 [05:05<01:19,  1.34s/it]"
     ]
    },
    {
     "name": "stdout",
     "output_type": "stream",
     "text": [
      "Epoch:  240\n",
      "t_loss:  0.36870188105340096 , v_loss:  0.5694351543982824\n",
      "t_acc:  0.7391845627139745 , v_acc:  0.7701863354037267\n",
      "t_recall:  0.5891142037578403 , v_recall:  0.6464864864864865\n",
      "t_prec:  0.7519374982215887 , v_prec:  0.8013343217197924\n",
      "t_f:  0.5813023276065834 , v_f:  0.6587615283267457\n",
      "////////\n"
     ]
    },
    {
     "name": "stderr",
     "output_type": "stream",
     "text": [
      "\r",
      "Iterations:  81%|██████████████████████████▌      | 242/300 [05:06<01:09,  1.20s/it]"
     ]
    },
    {
     "name": "stdout",
     "output_type": "stream",
     "text": [
      "Epoch  241 , loss 0.36659303775020674\n",
      "Epoch  242 , loss 0.3645193585578133\n"
     ]
    },
    {
     "name": "stderr",
     "output_type": "stream",
     "text": [
      "\r",
      "Iterations:  81%|██████████████████████████▋      | 243/300 [05:08<01:14,  1.31s/it]"
     ]
    },
    {
     "name": "stdout",
     "output_type": "stream",
     "text": [
      "Epoch:  242\n",
      "t_loss:  0.3645193585578133 , v_loss:  0.5591379503409067\n",
      "t_acc:  0.7482103952692188 , v_acc:  0.782608695652174\n",
      "t_recall:  0.6007775078574271 , v_recall:  0.6664864864864866\n",
      "t_prec:  0.7781569470260223 , v_prec:  0.8142857142857143\n",
      "t_f:  0.5975176105216722 , v_f:  0.6838000112227147\n",
      "////////\n"
     ]
    },
    {
     "name": "stderr",
     "output_type": "stream",
     "text": [
      "\r",
      "Iterations:  81%|██████████████████████████▊      | 244/300 [05:09<01:06,  1.19s/it]"
     ]
    },
    {
     "name": "stdout",
     "output_type": "stream",
     "text": [
      "Epoch  243 , loss 0.37000501564904753\n",
      "Epoch  244 , loss 0.3650512826793334\n"
     ]
    },
    {
     "name": "stderr",
     "output_type": "stream",
     "text": [
      "\r",
      "Iterations:  82%|██████████████████████████▉      | 245/300 [05:10<01:14,  1.36s/it]"
     ]
    },
    {
     "name": "stdout",
     "output_type": "stream",
     "text": [
      "Epoch:  244\n",
      "t_loss:  0.3650512826793334 , v_loss:  0.562672421336174\n",
      "t_acc:  0.7413632119514473 , v_acc:  0.782608695652174\n",
      "t_recall:  0.5932680034586404 , v_recall:  0.6664864864864866\n",
      "t_prec:  0.7540031397174254 , v_prec:  0.8142857142857143\n",
      "t_f:  0.587575852361589 , v_f:  0.6838000112227147\n",
      "////////\n"
     ]
    },
    {
     "name": "stderr",
     "output_type": "stream",
     "text": [
      "\r",
      "Iterations:  82%|███████████████████████████      | 246/300 [05:11<01:07,  1.25s/it]"
     ]
    },
    {
     "name": "stdout",
     "output_type": "stream",
     "text": [
      "Epoch  245 , loss 0.3666808324701646\n",
      "Epoch  246 , loss 0.3643806763723785\n"
     ]
    },
    {
     "name": "stderr",
     "output_type": "stream",
     "text": [
      "\r",
      "Iterations:  82%|███████████████████████████▏     | 247/300 [05:13<01:11,  1.35s/it]"
     ]
    },
    {
     "name": "stdout",
     "output_type": "stream",
     "text": [
      "Epoch:  246\n",
      "t_loss:  0.3643806763723785 , v_loss:  0.5660631358623505\n",
      "t_acc:  0.7494553376906318 , v_acc:  0.7701863354037267\n",
      "t_recall:  0.6016723624435569 , v_recall:  0.6464864864864865\n",
      "t_prec:  0.7844762038862292 , v_prec:  0.8013343217197924\n",
      "t_f:  0.5985289180281659 , v_f:  0.6587615283267457\n",
      "////////\n"
     ]
    },
    {
     "name": "stderr",
     "output_type": "stream",
     "text": [
      "\r",
      "Iterations:  83%|███████████████████████████▎     | 248/300 [05:14<01:06,  1.28s/it]"
     ]
    },
    {
     "name": "stdout",
     "output_type": "stream",
     "text": [
      "Epoch  247 , loss 0.36426189483380783\n",
      "Epoch  248 , loss 0.3672907013519138\n"
     ]
    },
    {
     "name": "stderr",
     "output_type": "stream",
     "text": [
      "\r",
      "Iterations:  83%|███████████████████████████▍     | 249/300 [05:16<01:09,  1.37s/it]"
     ]
    },
    {
     "name": "stdout",
     "output_type": "stream",
     "text": [
      "Epoch:  248\n",
      "t_loss:  0.3672907013519138 , v_loss:  0.5545690258344015\n",
      "t_acc:  0.7450980392156863 , v_acc:  0.782608695652174\n",
      "t_recall:  0.5985403713921028 , v_recall:  0.671981981981982\n",
      "t_prec:  0.7631275150075862 , v_prec:  0.8007246376811594\n",
      "t_f:  0.5950020569661896 , v_f:  0.6899928481047477\n",
      "////////\n"
     ]
    },
    {
     "name": "stderr",
     "output_type": "stream",
     "text": [
      "\r",
      "Iterations:  83%|███████████████████████████▌     | 250/300 [05:17<01:02,  1.25s/it]"
     ]
    },
    {
     "name": "stdout",
     "output_type": "stream",
     "text": [
      "Epoch  249 , loss 0.3677588777214873\n",
      "Epoch  250 , loss 0.36526939623496113\n"
     ]
    },
    {
     "name": "stderr",
     "output_type": "stream",
     "text": [
      "\r",
      "Iterations:  84%|███████████████████████████▌     | 251/300 [05:18<01:04,  1.32s/it]"
     ]
    },
    {
     "name": "stdout",
     "output_type": "stream",
     "text": [
      "Epoch:  250\n",
      "t_loss:  0.36526939623496113 , v_loss:  0.5669592618942261\n",
      "t_acc:  0.7513227513227513 , v_acc:  0.7763975155279503\n",
      "t_recall:  0.607615185078437 , v_recall:  0.6564864864864866\n",
      "t_prec:  0.7766411228010754 , v_prec:  0.8079787234042553\n",
      "t_f:  0.6077176653092884 , v_f:  0.6714285714285715\n",
      "////////\n"
     ]
    },
    {
     "name": "stderr",
     "output_type": "stream",
     "text": [
      "\r",
      "Iterations:  84%|███████████████████████████▋     | 252/300 [05:19<00:58,  1.23s/it]"
     ]
    },
    {
     "name": "stdout",
     "output_type": "stream",
     "text": [
      "Epoch  251 , loss 0.3706169259898803\n",
      "Epoch  252 , loss 0.36217499538963915\n"
     ]
    },
    {
     "name": "stderr",
     "output_type": "stream",
     "text": [
      "\r",
      "Iterations:  84%|███████████████████████████▊     | 253/300 [05:21<01:01,  1.31s/it]"
     ]
    },
    {
     "name": "stdout",
     "output_type": "stream",
     "text": [
      "Epoch:  252\n",
      "t_loss:  0.36217499538963915 , v_loss:  0.557930146654447\n",
      "t_acc:  0.7478991596638656 , v_acc:  0.7763975155279503\n",
      "t_recall:  0.6019914631970464 , v_recall:  0.661981981981982\n",
      "t_prec:  0.7714626662120696 , v_prec:  0.7939829954218444\n",
      "t_f:  0.5996935402895156 , v_f:  0.6779999999999999\n",
      "////////\n"
     ]
    },
    {
     "name": "stderr",
     "output_type": "stream",
     "text": [
      "\r",
      "Iterations:  85%|███████████████████████████▉     | 254/300 [05:22<00:54,  1.18s/it]"
     ]
    },
    {
     "name": "stdout",
     "output_type": "stream",
     "text": [
      "Epoch  253 , loss 0.36394327849734065\n",
      "Epoch  254 , loss 0.36624860149972577\n"
     ]
    },
    {
     "name": "stderr",
     "output_type": "stream",
     "text": [
      "\r",
      "Iterations:  85%|████████████████████████████     | 255/300 [05:23<00:59,  1.32s/it]"
     ]
    },
    {
     "name": "stdout",
     "output_type": "stream",
     "text": [
      "Epoch:  254\n",
      "t_loss:  0.36624860149972577 , v_loss:  0.5495299796263377\n",
      "t_acc:  0.7488328664799253 , v_acc:  0.782608695652174\n",
      "t_recall:  0.6032376717311044 , v_recall:  0.671981981981982\n",
      "t_prec:  0.7738951221762076 , v_prec:  0.8007246376811594\n",
      "t_f:  0.6014158096541364 , v_f:  0.6899928481047477\n",
      "////////\n"
     ]
    },
    {
     "name": "stderr",
     "output_type": "stream",
     "text": [
      "\r",
      "Iterations:  85%|████████████████████████████▏    | 256/300 [05:24<00:52,  1.20s/it]"
     ]
    },
    {
     "name": "stdout",
     "output_type": "stream",
     "text": [
      "Epoch  255 , loss 0.35999529560407\n",
      "Epoch  256 , loss 0.3677904927263073\n"
     ]
    },
    {
     "name": "stderr",
     "output_type": "stream",
     "text": [
      "\r",
      "Iterations:  86%|████████████████████████████▎    | 257/300 [05:26<00:59,  1.39s/it]"
     ]
    },
    {
     "name": "stdout",
     "output_type": "stream",
     "text": [
      "Epoch:  256\n",
      "t_loss:  0.3677904927263073 , v_loss:  0.5589790046215057\n",
      "t_acc:  0.7478991596638656 , v_acc:  0.7701863354037267\n",
      "t_recall:  0.6031415983859678 , v_recall:  0.651981981981982\n",
      "t_prec:  0.7676282051282051 , v_prec:  0.7869047619047619\n",
      "t_f:  0.6016064146368345 , v_f:  0.6657314404354413\n",
      "////////\n"
     ]
    },
    {
     "name": "stderr",
     "output_type": "stream",
     "text": [
      "\r",
      "Iterations:  86%|████████████████████████████▍    | 258/300 [05:27<00:52,  1.25s/it]"
     ]
    },
    {
     "name": "stdout",
     "output_type": "stream",
     "text": [
      "Epoch  257 , loss 0.35822827383583666\n",
      "Epoch  258 , loss 0.3704797146367092\n"
     ]
    },
    {
     "name": "stderr",
     "output_type": "stream",
     "text": [
      "\r",
      "Iterations:  86%|████████████████████████████▍    | 259/300 [05:29<00:56,  1.38s/it]"
     ]
    },
    {
     "name": "stdout",
     "output_type": "stream",
     "text": [
      "Epoch:  258\n",
      "t_loss:  0.3704797146367092 , v_loss:  0.5554078767697016\n",
      "t_acc:  0.7491441020852786 , v_acc:  0.7763975155279503\n",
      "t_recall:  0.605186588161019 , v_recall:  0.6674774774774774\n",
      "t_prec:  0.7695642794501789 , v_prec:  0.7826946472019465\n",
      "t_f:  0.6045157999547962 , v_f:  0.6841761115954664\n",
      "////////\n"
     ]
    },
    {
     "name": "stderr",
     "output_type": "stream",
     "text": [
      "\r",
      "Iterations:  87%|████████████████████████████▌    | 260/300 [05:30<00:50,  1.26s/it]"
     ]
    },
    {
     "name": "stdout",
     "output_type": "stream",
     "text": [
      "Epoch  259 , loss 0.3588803714396907\n",
      "Epoch  260 , loss 0.3724680519571491\n"
     ]
    },
    {
     "name": "stderr",
     "output_type": "stream",
     "text": [
      "\r",
      "Iterations:  87%|████████████████████████████▋    | 261/300 [05:31<00:51,  1.31s/it]"
     ]
    },
    {
     "name": "stdout",
     "output_type": "stream",
     "text": [
      "Epoch:  260\n",
      "t_loss:  0.3724680519571491 , v_loss:  0.5544840147097906\n",
      "t_acc:  0.7466542172424525 , v_acc:  0.7888198757763976\n",
      "t_recall:  0.601384142408147 , v_recall:  0.6764864864864866\n",
      "t_prec:  0.7647266467731106 , v_prec:  0.8203073904512754\n",
      "t_f:  0.599160920357628 , v_f:  0.695888888888889\n",
      "////////\n"
     ]
    },
    {
     "name": "stderr",
     "output_type": "stream",
     "text": [
      "\r",
      "Iterations:  87%|████████████████████████████▊    | 262/300 [05:32<00:45,  1.20s/it]"
     ]
    },
    {
     "name": "stdout",
     "output_type": "stream",
     "text": [
      "Epoch  261 , loss 0.3585287317925808\n",
      "Epoch  262 , loss 0.3625924376880421\n"
     ]
    },
    {
     "name": "stderr",
     "output_type": "stream",
     "text": [
      "\r",
      "Iterations:  88%|████████████████████████████▉    | 263/300 [05:33<00:47,  1.29s/it]"
     ]
    },
    {
     "name": "stdout",
     "output_type": "stream",
     "text": [
      "Epoch:  262\n",
      "t_loss:  0.3625924376880421 , v_loss:  0.562314530213674\n",
      "t_acc:  0.7497665732959851 , v_acc:  0.7577639751552795\n",
      "t_recall:  0.6079342858319265 , v_recall:  0.6374774774774775\n",
      "t_prec:  0.7652218782249742 , v_prec:  0.7595238095238095\n",
      "t_f:  0.6087361912343646 , v_f:  0.6476628696481679\n",
      "////////\n"
     ]
    },
    {
     "name": "stderr",
     "output_type": "stream",
     "text": [
      "\r",
      "Iterations:  88%|█████████████████████████████    | 264/300 [05:34<00:42,  1.18s/it]"
     ]
    },
    {
     "name": "stdout",
     "output_type": "stream",
     "text": [
      "Epoch  263 , loss 0.3679421655103272\n",
      "Epoch  264 , loss 0.3613869781587638\n"
     ]
    },
    {
     "name": "stderr",
     "output_type": "stream",
     "text": [
      "\r",
      "Iterations:  88%|█████████████████████████████▏   | 265/300 [05:36<00:44,  1.27s/it]"
     ]
    },
    {
     "name": "stdout",
     "output_type": "stream",
     "text": [
      "Epoch:  264\n",
      "t_loss:  0.3613869781587638 , v_loss:  0.5501557737588882\n",
      "t_acc:  0.7500778089013383 , v_acc:  0.7888198757763976\n",
      "t_recall:  0.605570195303386 , v_recall:  0.681981981981982\n",
      "t_prec:  0.7747903572678926 , v_prec:  0.8071776155717763\n",
      "t_f:  0.6048136946833693 , v_f:  0.7017218831734962\n",
      "////////\n"
     ]
    },
    {
     "name": "stderr",
     "output_type": "stream",
     "text": [
      "\r",
      "Iterations:  89%|█████████████████████████████▎   | 266/300 [05:37<00:39,  1.17s/it]"
     ]
    },
    {
     "name": "stdout",
     "output_type": "stream",
     "text": [
      "Epoch  265 , loss 0.355864491240651\n",
      "Epoch  266 , loss 0.36559760862705754\n"
     ]
    },
    {
     "name": "stderr",
     "output_type": "stream",
     "text": [
      "\r",
      "Iterations:  89%|█████████████████████████████▎   | 267/300 [05:38<00:42,  1.29s/it]"
     ]
    },
    {
     "name": "stdout",
     "output_type": "stream",
     "text": [
      "Epoch:  266\n",
      "t_loss:  0.36559760862705754 , v_loss:  0.5562766840060552\n",
      "t_acc:  0.7503890445066915 , v_acc:  0.7701863354037267\n",
      "t_recall:  0.6089567807194521 , v_recall:  0.6574774774774774\n",
      "t_prec:  0.7661790017211704 , v_prec:  0.7753623188405797\n",
      "t_f:  0.6101648401522533 , v_f:  0.6722781537107334\n",
      "////////\n"
     ]
    },
    {
     "name": "stderr",
     "output_type": "stream",
     "text": [
      "\r",
      "Iterations:  89%|█████████████████████████████▍   | 268/300 [05:39<00:39,  1.23s/it]"
     ]
    },
    {
     "name": "stdout",
     "output_type": "stream",
     "text": [
      "Epoch  267 , loss 0.3664146214723587\n",
      "Epoch  268 , loss 0.366464945323327\n"
     ]
    },
    {
     "name": "stderr",
     "output_type": "stream",
     "text": [
      "\r",
      "Iterations:  90%|█████████████████████████████▌   | 269/300 [05:41<00:43,  1.39s/it]"
     ]
    },
    {
     "name": "stdout",
     "output_type": "stream",
     "text": [
      "Epoch:  268\n",
      "t_loss:  0.366464945323327 , v_loss:  0.5546335230271021\n",
      "t_acc:  0.7475879240585123 , v_acc:  0.782608695652174\n",
      "t_recall:  0.6052181551172782 , v_recall:  0.6664864864864866\n",
      "t_prec:  0.7593061537420795 , v_prec:  0.8142857142857143\n",
      "t_f:  0.6050988494452274 , v_f:  0.6838000112227147\n",
      "////////\n"
     ]
    },
    {
     "name": "stderr",
     "output_type": "stream",
     "text": [
      "\r",
      "Iterations:  90%|█████████████████████████████▋   | 270/300 [05:42<00:39,  1.32s/it]"
     ]
    },
    {
     "name": "stdout",
     "output_type": "stream",
     "text": [
      "Epoch  269 , loss 0.3619237439889534\n",
      "Epoch  270 , loss 0.3604448367567623\n"
     ]
    },
    {
     "name": "stderr",
     "output_type": "stream",
     "text": [
      "\r",
      "Iterations:  90%|█████████████████████████████▊   | 271/300 [05:44<00:41,  1.42s/it]"
     ]
    },
    {
     "name": "stdout",
     "output_type": "stream",
     "text": [
      "Epoch:  270\n",
      "t_loss:  0.3604448367567623 , v_loss:  0.5492172886927923\n",
      "t_acc:  0.7553688141923436 , v_acc:  0.7888198757763976\n",
      "t_recall:  0.6154115370362746 , v_recall:  0.681981981981982\n",
      "t_prec:  0.7787168880757298 , v_prec:  0.8071776155717763\n",
      "t_f:  0.6188301456205172 , v_f:  0.7017218831734962\n",
      "////////\n"
     ]
    },
    {
     "name": "stderr",
     "output_type": "stream",
     "text": [
      "\r",
      "Iterations:  91%|█████████████████████████████▉   | 272/300 [05:45<00:36,  1.31s/it]"
     ]
    },
    {
     "name": "stdout",
     "output_type": "stream",
     "text": [
      "Epoch  271 , loss 0.3595244785149892\n",
      "Epoch  272 , loss 0.3598146713247486\n"
     ]
    },
    {
     "name": "stderr",
     "output_type": "stream",
     "text": [
      "\r",
      "Iterations:  91%|██████████████████████████████   | 273/300 [05:46<00:36,  1.36s/it]"
     ]
    },
    {
     "name": "stdout",
     "output_type": "stream",
     "text": [
      "Epoch:  272\n",
      "t_loss:  0.3598146713247486 , v_loss:  0.5596991032361984\n",
      "t_acc:  0.7525676937441643 , v_acc:  0.7763975155279503\n",
      "t_recall:  0.6113853776368702 , v_recall:  0.661981981981982\n",
      "t_prec:  0.7729044255286714 , v_prec:  0.7939829954218444\n",
      "t_f:  0.6133418909703559 , v_f:  0.6779999999999999\n",
      "////////\n"
     ]
    },
    {
     "name": "stderr",
     "output_type": "stream",
     "text": [
      "\r",
      "Iterations:  91%|██████████████████████████████▏  | 274/300 [05:47<00:32,  1.23s/it]"
     ]
    },
    {
     "name": "stdout",
     "output_type": "stream",
     "text": [
      "Epoch  273 , loss 0.367513488612923\n",
      "Epoch  274 , loss 0.35635644431207697\n"
     ]
    },
    {
     "name": "stderr",
     "output_type": "stream",
     "text": [
      "\r",
      "Iterations:  92%|██████████████████████████████▎  | 275/300 [05:49<00:32,  1.32s/it]"
     ]
    },
    {
     "name": "stdout",
     "output_type": "stream",
     "text": [
      "Epoch:  274\n",
      "t_loss:  0.35635644431207697 , v_loss:  0.5513524959484736\n",
      "t_acc:  0.7525676937441643 , v_acc:  0.7888198757763976\n",
      "t_recall:  0.6122479790285612 , v_recall:  0.681981981981982\n",
      "t_prec:  0.7703040652197863 , v_prec:  0.8071776155717763\n",
      "t_f:  0.6146892161070161 , v_f:  0.7017218831734962\n",
      "////////\n"
     ]
    },
    {
     "name": "stderr",
     "output_type": "stream",
     "text": [
      "\r",
      "Iterations:  92%|██████████████████████████████▎  | 276/300 [05:50<00:28,  1.20s/it]"
     ]
    },
    {
     "name": "stdout",
     "output_type": "stream",
     "text": [
      "Epoch  275 , loss 0.36108652721433077\n",
      "Epoch  276 , loss 0.35622846846487005\n"
     ]
    },
    {
     "name": "stderr",
     "output_type": "stream",
     "text": [
      "\r",
      "Iterations:  92%|██████████████████████████████▍  | 277/300 [05:51<00:30,  1.31s/it]"
     ]
    },
    {
     "name": "stdout",
     "output_type": "stream",
     "text": [
      "Epoch:  276\n",
      "t_loss:  0.35622846846487005 , v_loss:  0.5529129058122635\n",
      "t_acc:  0.7519452225334579 , v_acc:  0.7950310559006211\n",
      "t_recall:  0.6126631531271873 , v_recall:  0.6864864864864866\n",
      "t_prec:  0.7652741691550006 , v_prec:  0.8260869565217391\n",
      "t_f:  0.6154997925667266 , v_f:  0.7077075424987622\n",
      "////////\n"
     ]
    },
    {
     "name": "stderr",
     "output_type": "stream",
     "text": [
      "\r",
      "Iterations:  93%|██████████████████████████████▌  | 278/300 [05:52<00:26,  1.19s/it]"
     ]
    },
    {
     "name": "stdout",
     "output_type": "stream",
     "text": [
      "Epoch  277 , loss 0.3566506703694661\n",
      "Epoch  278 , loss 0.3521957859104755\n"
     ]
    },
    {
     "name": "stderr",
     "output_type": "stream",
     "text": [
      "\r",
      "Iterations:  93%|██████████████████████████████▋  | 279/300 [05:54<00:27,  1.29s/it]"
     ]
    },
    {
     "name": "stdout",
     "output_type": "stream",
     "text": [
      "Epoch:  278\n",
      "t_loss:  0.3521957859104755 , v_loss:  0.5521137068669001\n",
      "t_acc:  0.7575474634298164 , v_acc:  0.782608695652174\n",
      "t_recall:  0.617265066359232 , v_recall:  0.6774774774774774\n",
      "t_prec:  0.7873102039809806 , v_prec:  0.7897058823529413\n",
      "t_f:  0.6211236893910782 , v_f:  0.6958164642375169\n",
      "////////\n"
     ]
    },
    {
     "name": "stderr",
     "output_type": "stream",
     "text": [
      "\r",
      "Iterations:  93%|██████████████████████████████▊  | 280/300 [05:55<00:23,  1.20s/it]"
     ]
    },
    {
     "name": "stdout",
     "output_type": "stream",
     "text": [
      "Epoch  279 , loss 0.35749823673098696\n",
      "Epoch  280 , loss 0.36077146611961664\n"
     ]
    },
    {
     "name": "stderr",
     "output_type": "stream",
     "text": [
      "\r",
      "Iterations:  94%|██████████████████████████████▉  | 281/300 [05:56<00:24,  1.30s/it]"
     ]
    },
    {
     "name": "stdout",
     "output_type": "stream",
     "text": [
      "Epoch:  280\n",
      "t_loss:  0.36077146611961664 , v_loss:  0.5479602615038554\n",
      "t_acc:  0.7578586990351697 , v_acc:  0.7763975155279503\n",
      "t_recall:  0.6183513813974555 , v_recall:  0.672972972972973\n",
      "t_prec:  0.7858165619282476 , v_prec:  0.7735042735042735\n",
      "t_f:  0.6227097370136927 , v_f:  0.689987163029525\n",
      "////////\n"
     ]
    },
    {
     "name": "stderr",
     "output_type": "stream",
     "text": [
      "\r",
      "Iterations:  94%|███████████████████████████████  | 282/300 [05:58<00:22,  1.27s/it]"
     ]
    },
    {
     "name": "stdout",
     "output_type": "stream",
     "text": [
      "Epoch  281 , loss 0.36150312160744386\n",
      "Epoch  282 , loss 0.35699844272697673\n"
     ]
    },
    {
     "name": "stderr",
     "output_type": "stream",
     "text": [
      "\r",
      "Iterations:  94%|███████████████████████████████▏ | 283/300 [05:59<00:22,  1.32s/it]"
     ]
    },
    {
     "name": "stdout",
     "output_type": "stream",
     "text": [
      "Epoch:  282\n",
      "t_loss:  0.35699844272697673 , v_loss:  0.550355131427447\n",
      "t_acc:  0.7597261126672892 , v_acc:  0.7950310559006211\n",
      "t_recall:  0.6254443392212569 , v_recall:  0.691981981981982\n",
      "t_prec:  0.7764163059410352 , v_prec:  0.8133823529411764\n",
      "t_f:  0.6328026092486685 , v_f:  0.7131983805668016\n",
      "////////\n"
     ]
    },
    {
     "name": "stderr",
     "output_type": "stream",
     "text": [
      "\r",
      "Iterations:  95%|███████████████████████████████▏ | 284/300 [06:00<00:19,  1.22s/it]"
     ]
    },
    {
     "name": "stdout",
     "output_type": "stream",
     "text": [
      "Epoch  283 , loss 0.3581381536581937\n",
      "Epoch  284 , loss 0.35927702281989304\n"
     ]
    },
    {
     "name": "stderr",
     "output_type": "stream",
     "text": [
      "\r",
      "Iterations:  95%|███████████████████████████████▎ | 285/300 [06:01<00:19,  1.29s/it]"
     ]
    },
    {
     "name": "stdout",
     "output_type": "stream",
     "text": [
      "Epoch:  284\n",
      "t_loss:  0.35927702281989304 , v_loss:  0.5596702744563421\n",
      "t_acc:  0.7606598194833489 , v_acc:  0.7701863354037267\n",
      "t_recall:  0.6261154801608542 , v_recall:  0.6574774774774774\n",
      "t_prec:  0.7800327099480907 , v_prec:  0.7753623188405797\n",
      "t_f:  0.6336143114207992 , v_f:  0.6722781537107334\n",
      "////////\n"
     ]
    },
    {
     "name": "stderr",
     "output_type": "stream",
     "text": [
      "\r",
      "Iterations:  95%|███████████████████████████████▍ | 286/300 [06:02<00:16,  1.21s/it]"
     ]
    },
    {
     "name": "stdout",
     "output_type": "stream",
     "text": [
      "Epoch  285 , loss 0.3536948424343969\n",
      "Epoch  286 , loss 0.35940861088388104\n"
     ]
    },
    {
     "name": "stderr",
     "output_type": "stream",
     "text": [
      "\r",
      "Iterations:  96%|███████████████████████████████▌ | 287/300 [06:04<00:16,  1.31s/it]"
     ]
    },
    {
     "name": "stdout",
     "output_type": "stream",
     "text": [
      "Epoch:  286\n",
      "t_loss:  0.35940861088388104 , v_loss:  0.5625160733858744\n",
      "t_acc:  0.7559912854030502 , v_acc:  0.782608695652174\n",
      "t_recall:  0.6161464981265697 , v_recall:  0.6664864864864866\n",
      "t_prec:  0.7804918065388593 , v_prec:  0.8142857142857143\n",
      "t_f:  0.6198000434688111 , v_f:  0.6838000112227147\n",
      "////////\n"
     ]
    },
    {
     "name": "stderr",
     "output_type": "stream",
     "text": [
      "\r",
      "Iterations:  96%|███████████████████████████████▋ | 288/300 [06:05<00:14,  1.21s/it]"
     ]
    },
    {
     "name": "stdout",
     "output_type": "stream",
     "text": [
      "Epoch  287 , loss 0.35870308180650073\n",
      "Epoch  288 , loss 0.346403709229301\n"
     ]
    },
    {
     "name": "stderr",
     "output_type": "stream",
     "text": [
      "\r",
      "Iterations:  96%|███████████████████████████████▊ | 289/300 [06:07<00:14,  1.35s/it]"
     ]
    },
    {
     "name": "stdout",
     "output_type": "stream",
     "text": [
      "Epoch:  288\n",
      "t_loss:  0.346403709229301 , v_loss:  0.5605597794055939\n",
      "t_acc:  0.7594148770619359 , v_acc:  0.782608695652174\n",
      "t_recall:  0.6226328213996514 , v_recall:  0.6664864864864866\n",
      "t_prec:  0.7825087791778558 , v_prec:  0.8142857142857143\n",
      "t_f:  0.6287815933349405 , v_f:  0.6838000112227147\n",
      "////////\n"
     ]
    },
    {
     "name": "stderr",
     "output_type": "stream",
     "text": [
      "\r",
      "Iterations:  97%|███████████████████████████████▉ | 290/300 [06:08<00:12,  1.24s/it]"
     ]
    },
    {
     "name": "stdout",
     "output_type": "stream",
     "text": [
      "Epoch  289 , loss 0.3565679224682789\n",
      "Epoch  290 , loss 0.35578400276455224\n"
     ]
    },
    {
     "name": "stderr",
     "output_type": "stream",
     "text": [
      "\r",
      "Iterations:  97%|████████████████████████████████ | 291/300 [06:09<00:12,  1.36s/it]"
     ]
    },
    {
     "name": "stdout",
     "output_type": "stream",
     "text": [
      "Epoch:  290\n",
      "t_loss:  0.35578400276455224 , v_loss:  0.5600019544363022\n",
      "t_acc:  0.7556800497976969 , v_acc:  0.782608695652174\n",
      "t_recall:  0.6182230548578801 , v_recall:  0.6664864864864866\n",
      "t_prec:  0.7723500162304129 , v_prec:  0.8142857142857143\n",
      "t_f:  0.6230188237618737 , v_f:  0.6838000112227147\n",
      "////////\n"
     ]
    },
    {
     "name": "stderr",
     "output_type": "stream",
     "text": [
      "\r",
      "Iterations:  97%|████████████████████████████████ | 292/300 [06:10<00:09,  1.24s/it]"
     ]
    },
    {
     "name": "stdout",
     "output_type": "stream",
     "text": [
      "Epoch  291 , loss 0.35336445681020323\n",
      "Epoch  292 , loss 0.3494587774370231\n"
     ]
    },
    {
     "name": "stderr",
     "output_type": "stream",
     "text": [
      "\r",
      "Iterations:  98%|████████████████████████████████▏| 293/300 [06:12<00:09,  1.33s/it]"
     ]
    },
    {
     "name": "stdout",
     "output_type": "stream",
     "text": [
      "Epoch:  292\n",
      "t_loss:  0.3494587774370231 , v_loss:  0.5613076339165369\n",
      "t_acc:  0.764394646747588 , v_acc:  0.782608695652174\n",
      "t_recall:  0.6276499087303221 , v_recall:  0.6664864864864866\n",
      "t_prec:  0.7989073028592242 , v_prec:  0.8142857142857143\n",
      "t_f:  0.6352162876586491 , v_f:  0.6838000112227147\n",
      "////////\n"
     ]
    },
    {
     "name": "stderr",
     "output_type": "stream",
     "text": [
      "\r",
      "Iterations:  98%|████████████████████████████████▎| 294/300 [06:13<00:07,  1.20s/it]"
     ]
    },
    {
     "name": "stdout",
     "output_type": "stream",
     "text": [
      "Epoch  293 , loss 0.35175756467323677\n",
      "Epoch  294 , loss 0.3541435762947681\n"
     ]
    },
    {
     "name": "stderr",
     "output_type": "stream",
     "text": [
      "\r",
      "Iterations:  98%|████████████████████████████████▍| 295/300 [06:14<00:06,  1.27s/it]"
     ]
    },
    {
     "name": "stdout",
     "output_type": "stream",
     "text": [
      "Epoch:  294\n",
      "t_loss:  0.3541435762947681 , v_loss:  0.5548096199830373\n",
      "t_acc:  0.7687519452225334 , v_acc:  0.7888198757763976\n",
      "t_recall:  0.6394079136986865 , v_recall:  0.6874774774774774\n",
      "t_prec:  0.7903673973448595 , v_prec:  0.7964387464387465\n",
      "t_f:  0.6510576104673114 , v_f:  0.7072100984167737\n",
      "////////\n"
     ]
    },
    {
     "name": "stderr",
     "output_type": "stream",
     "text": [
      "\r",
      "Iterations:  99%|████████████████████████████████▌| 296/300 [06:15<00:04,  1.17s/it]"
     ]
    },
    {
     "name": "stdout",
     "output_type": "stream",
     "text": [
      "Epoch  295 , loss 0.3517848329216826\n",
      "Epoch  296 , loss 0.34825078500252143\n"
     ]
    },
    {
     "name": "stderr",
     "output_type": "stream",
     "text": [
      "\r",
      "Iterations:  99%|████████████████████████████████▋| 297/300 [06:17<00:03,  1.31s/it]"
     ]
    },
    {
     "name": "stdout",
     "output_type": "stream",
     "text": [
      "Epoch:  296\n",
      "t_loss:  0.34825078500252143 , v_loss:  0.5518820633490881\n",
      "t_acc:  0.7690631808278867 , v_acc:  0.7950310559006211\n",
      "t_recall:  0.6370438231701459 , v_recall:  0.6864864864864866\n",
      "t_prec:  0.7989416695773663 , v_prec:  0.8260869565217391\n",
      "t_f:  0.6478588934001994 , v_f:  0.7077075424987622\n",
      "////////\n"
     ]
    },
    {
     "name": "stderr",
     "output_type": "stream",
     "text": [
      "\r",
      "Iterations:  99%|████████████████████████████████▊| 298/300 [06:18<00:02,  1.19s/it]"
     ]
    },
    {
     "name": "stdout",
     "output_type": "stream",
     "text": [
      "Epoch  297 , loss 0.34702557938940387\n",
      "Epoch  298 , loss 0.35518109798431396\n"
     ]
    },
    {
     "name": "stderr",
     "output_type": "stream",
     "text": [
      "\r",
      "Iterations: 100%|████████████████████████████████▉| 299/300 [06:19<00:01,  1.31s/it]"
     ]
    },
    {
     "name": "stdout",
     "output_type": "stream",
     "text": [
      "Epoch:  298\n",
      "t_loss:  0.35518109798431396 , v_loss:  0.5551407684882482\n",
      "t_acc:  0.7631497043261749 , v_acc:  0.7888198757763976\n",
      "t_recall:  0.6296303921164959 , v_recall:  0.6874774774774774\n",
      "t_prec:  0.7849164707562177 , v_prec:  0.7964387464387465\n",
      "t_f:  0.638236971662974 , v_f:  0.7072100984167737\n",
      "////////\n"
     ]
    },
    {
     "name": "stderr",
     "output_type": "stream",
     "text": [
      "Iterations: 100%|█████████████████████████████████| 300/300 [06:20<00:00,  1.27s/it]"
     ]
    },
    {
     "name": "stdout",
     "output_type": "stream",
     "text": [
      "Epoch  299 , loss 0.34809812231391085\n"
     ]
    },
    {
     "name": "stderr",
     "output_type": "stream",
     "text": [
      "\n"
     ]
    },
    {
     "name": "stdout",
     "output_type": "stream",
     "text": [
      "106 21\n",
      "\n",
      "c0_acc 0.954954954954955 , c1_acc 0.42 , b_acc 0.6874774774774774\n"
     ]
    },
    {
     "name": "stderr",
     "output_type": "stream",
     "text": [
      "\r",
      "Iterations:   0%|                                           | 0/300 [00:00<?, ?it/s]"
     ]
    },
    {
     "name": "stdout",
     "output_type": "stream",
     "text": [
      "Epoch  0 , loss 0.6395025896091088\n"
     ]
    },
    {
     "name": "stderr",
     "output_type": "stream",
     "text": [
      "\r",
      "Iterations:   0%|                                   | 1/300 [00:01<07:19,  1.47s/it]"
     ]
    },
    {
     "name": "stdout",
     "output_type": "stream",
     "text": [
      "Epoch:  0\n",
      "t_loss:  0.6395025896091088 , v_loss:  0.685048778851827\n",
      "t_acc:  0.5888958203368684 , v_acc:  0.6845238095238095\n",
      "t_recall:  0.49155190842326657 , v_recall:  0.5\n",
      "t_prec:  0.49058490746808225 , v_prec:  0.34226190476190477\n",
      "t_f:  0.4896137716450216 , v_f:  0.40636042402826855\n",
      "////////\n"
     ]
    },
    {
     "name": "stderr",
     "output_type": "stream",
     "text": [
      "\r",
      "Iterations:   1%|▏                                  | 2/300 [00:02<06:02,  1.22s/it]"
     ]
    },
    {
     "name": "stdout",
     "output_type": "stream",
     "text": [
      "Epoch  1 , loss 0.5803801849776623\n",
      "Epoch  2 , loss 0.5510047276814779\n"
     ]
    },
    {
     "name": "stderr",
     "output_type": "stream",
     "text": [
      "\r",
      "Iterations:   1%|▎                                  | 3/300 [00:03<06:36,  1.34s/it]"
     ]
    },
    {
     "name": "stdout",
     "output_type": "stream",
     "text": [
      "Epoch:  2\n",
      "t_loss:  0.5510047276814779 , v_loss:  0.6762209932009379\n",
      "t_acc:  0.6637554585152838 , v_acc:  0.6845238095238095\n",
      "t_recall:  0.4927949982185751 , v_recall:  0.5\n",
      "t_prec:  0.47541603334227434 , v_prec:  0.34226190476190477\n",
      "t_f:  0.4431186546423912 , v_f:  0.40636042402826855\n",
      "////////\n"
     ]
    },
    {
     "name": "stderr",
     "output_type": "stream",
     "text": [
      "\r",
      "Iterations:   1%|▍                                  | 4/300 [00:04<05:48,  1.18s/it]"
     ]
    },
    {
     "name": "stdout",
     "output_type": "stream",
     "text": [
      "Epoch  3 , loss 0.5160978483218773\n",
      "Epoch  4 , loss 0.503325013553395\n"
     ]
    },
    {
     "name": "stderr",
     "output_type": "stream",
     "text": [
      "\r",
      "Iterations:   2%|▌                                  | 5/300 [00:06<06:42,  1.37s/it]"
     ]
    },
    {
     "name": "stdout",
     "output_type": "stream",
     "text": [
      "Epoch:  4\n",
      "t_loss:  0.503325013553395 , v_loss:  0.6591992775599161\n",
      "t_acc:  0.6927635683094199 , v_acc:  0.6845238095238095\n",
      "t_recall:  0.5006459101931984 , v_recall:  0.5\n",
      "t_prec:  0.5147460117548278 , v_prec:  0.34226190476190477\n",
      "t_f:  0.41886461901699196 , v_f:  0.40636042402826855\n",
      "////////\n"
     ]
    },
    {
     "name": "stderr",
     "output_type": "stream",
     "text": [
      "\r",
      "Iterations:   2%|▋                                  | 6/300 [00:07<05:57,  1.22s/it]"
     ]
    },
    {
     "name": "stdout",
     "output_type": "stream",
     "text": [
      "Epoch  5 , loss 0.47690292082580865\n",
      "Epoch  6 , loss 0.47184647239890753\n"
     ]
    },
    {
     "name": "stderr",
     "output_type": "stream",
     "text": [
      "\r",
      "Iterations:   2%|▊                                  | 7/300 [00:09<06:24,  1.31s/it]"
     ]
    },
    {
     "name": "stdout",
     "output_type": "stream",
     "text": [
      "Epoch:  6\n",
      "t_loss:  0.47184647239890753 , v_loss:  0.6626232862472534\n",
      "t_acc:  0.6955708047411104 , v_acc:  0.6845238095238095\n",
      "t_recall:  0.5012194140836006 , v_recall:  0.5\n",
      "t_prec:  0.5754730402617726 , v_prec:  0.34226190476190477\n",
      "t_f:  0.4151336551754044 , v_f:  0.40636042402826855\n",
      "////////\n"
     ]
    },
    {
     "name": "stderr",
     "output_type": "stream",
     "text": [
      "\r",
      "Iterations:   3%|▉                                  | 8/300 [00:10<05:58,  1.23s/it]"
     ]
    },
    {
     "name": "stdout",
     "output_type": "stream",
     "text": [
      "Epoch  7 , loss 0.46929700117485196\n",
      "Epoch  8 , loss 0.4587554826455958\n"
     ]
    },
    {
     "name": "stderr",
     "output_type": "stream",
     "text": [
      "\r",
      "Iterations:   3%|█                                  | 9/300 [00:11<06:30,  1.34s/it]"
     ]
    },
    {
     "name": "stdout",
     "output_type": "stream",
     "text": [
      "Epoch:  8\n",
      "t_loss:  0.4587554826455958 , v_loss:  0.6960305968920389\n",
      "t_acc:  0.6946350592638803 , v_acc:  0.6845238095238095\n",
      "t_recall:  0.49910354101299864 , v_recall:  0.5\n",
      "t_prec:  0.34775140537164273 , v_prec:  0.34226190476190477\n",
      "t_f:  0.409902448002945 , v_f:  0.40636042402826855\n",
      "////////\n"
     ]
    },
    {
     "name": "stderr",
     "output_type": "stream",
     "text": [
      "\r",
      "Iterations:   3%|█▏                                | 10/300 [00:12<05:53,  1.22s/it]"
     ]
    },
    {
     "name": "stdout",
     "output_type": "stream",
     "text": [
      "Epoch  9 , loss 0.463160888821471\n",
      "Epoch  10 , loss 0.46230775059438217\n"
     ]
    },
    {
     "name": "stderr",
     "output_type": "stream",
     "text": [
      "\r",
      "Iterations:   4%|█▏                                | 11/300 [00:14<06:27,  1.34s/it]"
     ]
    },
    {
     "name": "stdout",
     "output_type": "stream",
     "text": [
      "Epoch:  10\n",
      "t_loss:  0.46230775059438217 , v_loss:  0.7191006044546763\n",
      "t_acc:  0.6958827199001871 , v_acc:  0.6845238095238095\n",
      "t_recall:  0.5002887057660702 , v_recall:  0.5\n",
      "t_prec:  0.5980024968789014 , v_prec:  0.34226190476190477\n",
      "t_f:  0.41132712930991466 , v_f:  0.40636042402826855\n",
      "////////\n"
     ]
    },
    {
     "name": "stderr",
     "output_type": "stream",
     "text": [
      "\r",
      "Iterations:   4%|█▎                                | 12/300 [00:15<05:53,  1.23s/it]"
     ]
    },
    {
     "name": "stdout",
     "output_type": "stream",
     "text": [
      "Epoch  11 , loss 0.4610705591884314\n",
      "Epoch  12 , loss 0.4630746823899886\n"
     ]
    },
    {
     "name": "stderr",
     "output_type": "stream",
     "text": [
      "\r",
      "Iterations:   4%|█▍                                | 13/300 [00:16<06:25,  1.34s/it]"
     ]
    },
    {
     "name": "stdout",
     "output_type": "stream",
     "text": [
      "Epoch:  12\n",
      "t_loss:  0.4630746823899886 , v_loss:  0.7267391035954157\n",
      "t_acc:  0.6955708047411104 , v_acc:  0.6845238095238095\n",
      "t_recall:  0.4997758852532497 , v_recall:  0.5\n",
      "t_prec:  0.34789391575663026 , v_prec:  0.34226190476190477\n",
      "t_f:  0.41022810890360556 , v_f:  0.40636042402826855\n",
      "////////\n"
     ]
    },
    {
     "name": "stderr",
     "output_type": "stream",
     "text": [
      "\r",
      "Iterations:   5%|█▌                                | 14/300 [00:17<05:46,  1.21s/it]"
     ]
    },
    {
     "name": "stdout",
     "output_type": "stream",
     "text": [
      "Epoch  13 , loss 0.45653557309917375\n",
      "Epoch  14 , loss 0.45814886689186096\n"
     ]
    },
    {
     "name": "stderr",
     "output_type": "stream",
     "text": [
      "\r",
      "Iterations:   5%|█▋                                | 15/300 [00:19<06:27,  1.36s/it]"
     ]
    },
    {
     "name": "stdout",
     "output_type": "stream",
     "text": [
      "Epoch:  14\n",
      "t_loss:  0.45814886689186096 , v_loss:  0.7310167849063873\n",
      "t_acc:  0.6958827199001871 , v_acc:  0.6845238095238095\n",
      "t_recall:  0.5 , v_recall:  0.5\n",
      "t_prec:  0.34794135995009356 , v_prec:  0.34226190476190477\n",
      "t_f:  0.41033658267426887 , v_f:  0.40636042402826855\n",
      "////////\n"
     ]
    },
    {
     "name": "stderr",
     "output_type": "stream",
     "text": [
      "\r",
      "Iterations:   5%|█▊                                | 16/300 [00:20<06:02,  1.28s/it]"
     ]
    },
    {
     "name": "stdout",
     "output_type": "stream",
     "text": [
      "Epoch  15 , loss 0.4517360063744526\n",
      "Epoch  16 , loss 0.45713924192914773\n"
     ]
    },
    {
     "name": "stderr",
     "output_type": "stream",
     "text": [
      "\r",
      "Iterations:   6%|█▉                                | 17/300 [00:22<06:40,  1.41s/it]"
     ]
    },
    {
     "name": "stdout",
     "output_type": "stream",
     "text": [
      "Epoch:  16\n",
      "t_loss:  0.45713924192914773 , v_loss:  0.7339675774176916\n",
      "t_acc:  0.6958827199001871 , v_acc:  0.6845238095238095\n",
      "t_recall:  0.5 , v_recall:  0.5\n",
      "t_prec:  0.34794135995009356 , v_prec:  0.34226190476190477\n",
      "t_f:  0.41033658267426887 , v_f:  0.40636042402826855\n",
      "////////\n"
     ]
    },
    {
     "name": "stderr",
     "output_type": "stream",
     "text": [
      "\r",
      "Iterations:   6%|██                                | 18/300 [00:23<06:19,  1.34s/it]"
     ]
    },
    {
     "name": "stdout",
     "output_type": "stream",
     "text": [
      "Epoch  17 , loss 0.4583436911012612\n",
      "Epoch  18 , loss 0.4497648997634065\n"
     ]
    },
    {
     "name": "stderr",
     "output_type": "stream",
     "text": [
      "\r",
      "Iterations:   6%|██▏                               | 19/300 [00:25<06:38,  1.42s/it]"
     ]
    },
    {
     "name": "stdout",
     "output_type": "stream",
     "text": [
      "Epoch:  18\n",
      "t_loss:  0.4497648997634065 , v_loss:  0.7322260836760203\n",
      "t_acc:  0.6961946350592639 , v_acc:  0.6845238095238095\n",
      "t_recall:  0.5005128205128205 , v_recall:  0.5\n",
      "t_prec:  0.8480499219968799 , v_prec:  0.34226190476190477\n",
      "t_f:  0.4114366578607703 , v_f:  0.40636042402826855\n",
      "////////\n"
     ]
    },
    {
     "name": "stderr",
     "output_type": "stream",
     "text": [
      "\r",
      "Iterations:   7%|██▎                               | 20/300 [00:26<06:03,  1.30s/it]"
     ]
    },
    {
     "name": "stdout",
     "output_type": "stream",
     "text": [
      "Epoch  19 , loss 0.4541066283104466\n",
      "Epoch  20 , loss 0.4545447803011127\n"
     ]
    },
    {
     "name": "stderr",
     "output_type": "stream",
     "text": [
      "\r",
      "Iterations:   7%|██▍                               | 21/300 [00:27<06:25,  1.38s/it]"
     ]
    },
    {
     "name": "stdout",
     "output_type": "stream",
     "text": [
      "Epoch:  20\n",
      "t_loss:  0.4545447803011127 , v_loss:  0.731684019168218\n",
      "t_acc:  0.6955708047411104 , v_acc:  0.6845238095238095\n",
      "t_recall:  0.4997758852532497 , v_recall:  0.5\n",
      "t_prec:  0.34789391575663026 , v_prec:  0.34226190476190477\n",
      "t_f:  0.41022810890360556 , v_f:  0.40636042402826855\n",
      "////////\n"
     ]
    },
    {
     "name": "stderr",
     "output_type": "stream",
     "text": [
      "\r",
      "Iterations:   7%|██▍                               | 22/300 [00:28<05:50,  1.26s/it]"
     ]
    },
    {
     "name": "stdout",
     "output_type": "stream",
     "text": [
      "Epoch  21 , loss 0.4526790707719092\n",
      "Epoch  22 , loss 0.45385849768040226\n"
     ]
    },
    {
     "name": "stderr",
     "output_type": "stream",
     "text": [
      "\r",
      "Iterations:   8%|██▌                               | 23/300 [00:30<06:20,  1.37s/it]"
     ]
    },
    {
     "name": "stdout",
     "output_type": "stream",
     "text": [
      "Epoch:  22\n",
      "t_loss:  0.45385849768040226 , v_loss:  0.7315462579329809\n",
      "t_acc:  0.6958827199001871 , v_acc:  0.6845238095238095\n",
      "t_recall:  0.5 , v_recall:  0.5\n",
      "t_prec:  0.34794135995009356 , v_prec:  0.34226190476190477\n",
      "t_f:  0.41033658267426887 , v_f:  0.40636042402826855\n",
      "////////\n"
     ]
    },
    {
     "name": "stderr",
     "output_type": "stream",
     "text": [
      "\r",
      "Iterations:   8%|██▋                               | 24/300 [00:31<05:41,  1.24s/it]"
     ]
    },
    {
     "name": "stdout",
     "output_type": "stream",
     "text": [
      "Epoch  23 , loss 0.4505024552345276\n",
      "Epoch  24 , loss 0.45532165380085216\n"
     ]
    },
    {
     "name": "stderr",
     "output_type": "stream",
     "text": [
      "\r",
      "Iterations:   8%|██▊                               | 25/300 [00:32<06:03,  1.32s/it]"
     ]
    },
    {
     "name": "stdout",
     "output_type": "stream",
     "text": [
      "Epoch:  24\n",
      "t_loss:  0.45532165380085216 , v_loss:  0.7295711636543274\n",
      "t_acc:  0.6955708047411104 , v_acc:  0.6845238095238095\n",
      "t_recall:  0.4997758852532497 , v_recall:  0.5\n",
      "t_prec:  0.34789391575663026 , v_prec:  0.34226190476190477\n",
      "t_f:  0.41022810890360556 , v_f:  0.40636042402826855\n",
      "////////\n"
     ]
    },
    {
     "name": "stderr",
     "output_type": "stream",
     "text": [
      "\r",
      "Iterations:   9%|██▉                               | 26/300 [00:33<05:30,  1.20s/it]"
     ]
    },
    {
     "name": "stdout",
     "output_type": "stream",
     "text": [
      "Epoch  25 , loss 0.4568883689010845\n",
      "Epoch  26 , loss 0.4531529054922216\n"
     ]
    },
    {
     "name": "stderr",
     "output_type": "stream",
     "text": [
      "\r",
      "Iterations:   9%|███                               | 27/300 [00:35<06:06,  1.34s/it]"
     ]
    },
    {
     "name": "stdout",
     "output_type": "stream",
     "text": [
      "Epoch:  26\n",
      "t_loss:  0.4531529054922216 , v_loss:  0.721666951974233\n",
      "t_acc:  0.6955708047411104 , v_acc:  0.6845238095238095\n",
      "t_recall:  0.4997758852532497 , v_recall:  0.5\n",
      "t_prec:  0.34789391575663026 , v_prec:  0.34226190476190477\n",
      "t_f:  0.41022810890360556 , v_f:  0.40636042402826855\n",
      "////////\n"
     ]
    },
    {
     "name": "stderr",
     "output_type": "stream",
     "text": [
      "\r",
      "Iterations:   9%|███▏                              | 28/300 [00:36<05:38,  1.24s/it]"
     ]
    },
    {
     "name": "stdout",
     "output_type": "stream",
     "text": [
      "Epoch  27 , loss 0.4464023706375384\n",
      "Epoch  28 , loss 0.44279874948894277\n"
     ]
    },
    {
     "name": "stderr",
     "output_type": "stream",
     "text": [
      "\r",
      "Iterations:  10%|███▎                              | 29/300 [00:37<05:52,  1.30s/it]"
     ]
    },
    {
     "name": "stdout",
     "output_type": "stream",
     "text": [
      "Epoch:  28\n",
      "t_loss:  0.44279874948894277 , v_loss:  0.7210061897834142\n",
      "t_acc:  0.6955708047411104 , v_acc:  0.6845238095238095\n",
      "t_recall:  0.4997758852532497 , v_recall:  0.5\n",
      "t_prec:  0.34789391575663026 , v_prec:  0.34226190476190477\n",
      "t_f:  0.41022810890360556 , v_f:  0.40636042402826855\n",
      "////////\n"
     ]
    },
    {
     "name": "stderr",
     "output_type": "stream",
     "text": [
      "\r",
      "Iterations:  10%|███▍                              | 30/300 [00:38<05:31,  1.23s/it]"
     ]
    },
    {
     "name": "stdout",
     "output_type": "stream",
     "text": [
      "Epoch  29 , loss 0.4477960519930896\n",
      "Epoch  30 , loss 0.4403342552044812\n"
     ]
    },
    {
     "name": "stderr",
     "output_type": "stream",
     "text": [
      "\r",
      "Iterations:  10%|███▌                              | 31/300 [00:40<05:48,  1.30s/it]"
     ]
    },
    {
     "name": "stdout",
     "output_type": "stream",
     "text": [
      "Epoch:  30\n",
      "t_loss:  0.4403342552044812 , v_loss:  0.7177722255388895\n",
      "t_acc:  0.6958827199001871 , v_acc:  0.6845238095238095\n",
      "t_recall:  0.5002887057660702 , v_recall:  0.5\n",
      "t_prec:  0.5980024968789014 , v_prec:  0.34226190476190477\n",
      "t_f:  0.41132712930991466 , v_f:  0.40636042402826855\n",
      "////////\n"
     ]
    },
    {
     "name": "stderr",
     "output_type": "stream",
     "text": [
      "\r",
      "Iterations:  11%|███▋                              | 32/300 [00:41<05:25,  1.21s/it]"
     ]
    },
    {
     "name": "stdout",
     "output_type": "stream",
     "text": [
      "Epoch  31 , loss 0.4504064496825723\n",
      "Epoch  32 , loss 0.4482982246314778\n"
     ]
    },
    {
     "name": "stderr",
     "output_type": "stream",
     "text": [
      "\r",
      "Iterations:  11%|███▋                              | 33/300 [00:42<05:46,  1.30s/it]"
     ]
    },
    {
     "name": "stdout",
     "output_type": "stream",
     "text": [
      "Epoch:  32\n",
      "t_loss:  0.4482982246314778 , v_loss:  0.7185576558113098\n",
      "t_acc:  0.6955708047411104 , v_acc:  0.6845238095238095\n",
      "t_recall:  0.4997758852532497 , v_recall:  0.5\n",
      "t_prec:  0.34789391575663026 , v_prec:  0.34226190476190477\n",
      "t_f:  0.41022810890360556 , v_f:  0.40636042402826855\n",
      "////////\n"
     ]
    },
    {
     "name": "stderr",
     "output_type": "stream",
     "text": [
      "\r",
      "Iterations:  11%|███▊                              | 34/300 [00:43<05:20,  1.21s/it]"
     ]
    },
    {
     "name": "stdout",
     "output_type": "stream",
     "text": [
      "Epoch  33 , loss 0.43837042006791804\n",
      "Epoch  34 , loss 0.44460491806853053\n"
     ]
    },
    {
     "name": "stderr",
     "output_type": "stream",
     "text": [
      "\r",
      "Iterations:  12%|███▉                              | 35/300 [00:45<05:38,  1.28s/it]"
     ]
    },
    {
     "name": "stdout",
     "output_type": "stream",
     "text": [
      "Epoch:  34\n",
      "t_loss:  0.44460491806853053 , v_loss:  0.7175890356302261\n",
      "t_acc:  0.6955708047411104 , v_acc:  0.6845238095238095\n",
      "t_recall:  0.4997758852532497 , v_recall:  0.5\n",
      "t_prec:  0.34789391575663026 , v_prec:  0.34226190476190477\n",
      "t_f:  0.41022810890360556 , v_f:  0.40636042402826855\n",
      "////////\n"
     ]
    },
    {
     "name": "stderr",
     "output_type": "stream",
     "text": [
      "\r",
      "Iterations:  12%|████                              | 36/300 [00:46<05:17,  1.20s/it]"
     ]
    },
    {
     "name": "stdout",
     "output_type": "stream",
     "text": [
      "Epoch  35 , loss 0.453685976710974\n",
      "Epoch  36 , loss 0.4444807335442188\n"
     ]
    },
    {
     "name": "stderr",
     "output_type": "stream",
     "text": [
      "\r",
      "Iterations:  12%|████▏                             | 37/300 [00:47<05:40,  1.30s/it]"
     ]
    },
    {
     "name": "stdout",
     "output_type": "stream",
     "text": [
      "Epoch:  36\n",
      "t_loss:  0.4444807335442188 , v_loss:  0.7042638460795084\n",
      "t_acc:  0.6961946350592639 , v_acc:  0.6845238095238095\n",
      "t_recall:  0.5008015262788907 , v_recall:  0.5\n",
      "t_prec:  0.6814444791341451 , v_prec:  0.34226190476190477\n",
      "t_f:  0.4124240843646721 , v_f:  0.40636042402826855\n",
      "////////\n"
     ]
    },
    {
     "name": "stderr",
     "output_type": "stream",
     "text": [
      "\r",
      "Iterations:  13%|████▎                             | 38/300 [00:48<05:27,  1.25s/it]"
     ]
    },
    {
     "name": "stdout",
     "output_type": "stream",
     "text": [
      "Epoch  37 , loss 0.43921031612975925\n",
      "Epoch  38 , loss 0.4424525440907946\n"
     ]
    },
    {
     "name": "stderr",
     "output_type": "stream",
     "text": [
      "\r",
      "Iterations:  13%|████▍                             | 39/300 [00:50<05:57,  1.37s/it]"
     ]
    },
    {
     "name": "stdout",
     "output_type": "stream",
     "text": [
      "Epoch:  38\n",
      "t_loss:  0.4424525440907946 , v_loss:  0.7068725426991781\n",
      "t_acc:  0.6961946350592639 , v_acc:  0.6845238095238095\n",
      "t_recall:  0.501378937811031 , v_recall:  0.5\n",
      "t_prec:  0.633948108783995 , v_prec:  0.34226190476190477\n",
      "t_f:  0.4143863952620465 , v_f:  0.40636042402826855\n",
      "////////\n"
     ]
    },
    {
     "name": "stderr",
     "output_type": "stream",
     "text": [
      "\r",
      "Iterations:  13%|████▌                             | 40/300 [00:51<05:28,  1.26s/it]"
     ]
    },
    {
     "name": "stdout",
     "output_type": "stream",
     "text": [
      "Epoch  39 , loss 0.4378075260742038\n",
      "Epoch  40 , loss 0.4346079166029014\n"
     ]
    },
    {
     "name": "stderr",
     "output_type": "stream",
     "text": [
      "\r",
      "Iterations:  14%|████▋                             | 41/300 [00:53<05:57,  1.38s/it]"
     ]
    },
    {
     "name": "stdout",
     "output_type": "stream",
     "text": [
      "Epoch:  40\n",
      "t_loss:  0.4346079166029014 , v_loss:  0.7131429115931193\n",
      "t_acc:  0.6958827199001871 , v_acc:  0.6845238095238095\n",
      "t_recall:  0.5011548230642807 , v_recall:  0.5\n",
      "t_prec:  0.5981863664790494 , v_prec:  0.34226190476190477\n",
      "t_f:  0.4142736335346872 , v_f:  0.40636042402826855\n",
      "////////\n"
     ]
    },
    {
     "name": "stderr",
     "output_type": "stream",
     "text": [
      "\r",
      "Iterations:  14%|████▊                             | 42/300 [00:54<05:21,  1.25s/it]"
     ]
    },
    {
     "name": "stdout",
     "output_type": "stream",
     "text": [
      "Epoch  41 , loss 0.43950315959313335\n",
      "Epoch  42 , loss 0.43948980815270366\n"
     ]
    },
    {
     "name": "stderr",
     "output_type": "stream",
     "text": [
      "\r",
      "Iterations:  14%|████▊                             | 43/300 [00:55<05:45,  1.34s/it]"
     ]
    },
    {
     "name": "stdout",
     "output_type": "stream",
     "text": [
      "Epoch:  42\n",
      "t_loss:  0.43948980815270366 , v_loss:  0.7152692824602127\n",
      "t_acc:  0.6965065502183406 , v_acc:  0.6845238095238095\n",
      "t_recall:  0.5016030525577814 , v_recall:  0.5\n",
      "t_prec:  0.6816145833333334 , v_prec:  0.34226190476190477\n",
      "t_f:  0.41449912543819595 , v_f:  0.40636042402826855\n",
      "////////\n"
     ]
    },
    {
     "name": "stderr",
     "output_type": "stream",
     "text": [
      "\r",
      "Iterations:  15%|████▉                             | 44/300 [00:56<05:11,  1.22s/it]"
     ]
    },
    {
     "name": "stdout",
     "output_type": "stream",
     "text": [
      "Epoch  43 , loss 0.4292762723623538\n",
      "Epoch  44 , loss 0.45149430983206806\n"
     ]
    },
    {
     "name": "stderr",
     "output_type": "stream",
     "text": [
      "\r",
      "Iterations:  15%|█████                             | 45/300 [00:58<05:31,  1.30s/it]"
     ]
    },
    {
     "name": "stdout",
     "output_type": "stream",
     "text": [
      "Epoch:  44\n",
      "t_loss:  0.45149430983206806 , v_loss:  0.7135868569215139\n",
      "t_acc:  0.6952588895820336 , v_acc:  0.6845238095238095\n",
      "t_recall:  0.5004178878047099 , v_recall:  0.5\n",
      "t_prec:  0.535530018761726 , v_prec:  0.34226190476190477\n",
      "t_f:  0.41307214355219424 , v_f:  0.40636042402826855\n",
      "////////\n"
     ]
    },
    {
     "name": "stderr",
     "output_type": "stream",
     "text": [
      "\r",
      "Iterations:  15%|█████▏                            | 46/300 [00:59<04:58,  1.18s/it]"
     ]
    },
    {
     "name": "stdout",
     "output_type": "stream",
     "text": [
      "Epoch  45 , loss 0.4290519280760896\n",
      "Epoch  46 , loss 0.427899126328674\n"
     ]
    },
    {
     "name": "stderr",
     "output_type": "stream",
     "text": [
      "\r",
      "Iterations:  16%|█████▎                            | 47/300 [01:00<05:28,  1.30s/it]"
     ]
    },
    {
     "name": "stdout",
     "output_type": "stream",
     "text": [
      "Epoch:  46\n",
      "t_loss:  0.427899126328674 , v_loss:  0.711299791932106\n",
      "t_acc:  0.6961946350592639 , v_acc:  0.6845238095238095\n",
      "t_recall:  0.5022450551092416 , v_recall:  0.5\n",
      "t_prec:  0.6176491845142017 , v_prec:  0.34226190476190477\n",
      "t_f:  0.4172988845496996 , v_f:  0.40636042402826855\n",
      "////////\n"
     ]
    },
    {
     "name": "stderr",
     "output_type": "stream",
     "text": [
      "\r",
      "Iterations:  16%|█████▍                            | 48/300 [01:01<04:55,  1.17s/it]"
     ]
    },
    {
     "name": "stdout",
     "output_type": "stream",
     "text": [
      "Epoch  47 , loss 0.4266507923603058\n",
      "Epoch  48 , loss 0.43543056530110974\n"
     ]
    },
    {
     "name": "stderr",
     "output_type": "stream",
     "text": [
      "\r",
      "Iterations:  16%|█████▌                            | 49/300 [01:03<05:22,  1.29s/it]"
     ]
    },
    {
     "name": "stdout",
     "output_type": "stream",
     "text": [
      "Epoch:  48\n",
      "t_loss:  0.43543056530110974 , v_loss:  0.7136146724224091\n",
      "t_acc:  0.6977542108546475 , v_acc:  0.6845238095238095\n",
      "t_recall:  0.5042317461412038 , v_recall:  0.5\n",
      "t_prec:  0.705983709273183 , v_prec:  0.34226190476190477\n",
      "t_f:  0.4207695306680698 , v_f:  0.40636042402826855\n",
      "////////\n"
     ]
    },
    {
     "name": "stderr",
     "output_type": "stream",
     "text": [
      "\r",
      "Iterations:  17%|█████▋                            | 50/300 [01:04<05:10,  1.24s/it]"
     ]
    },
    {
     "name": "stdout",
     "output_type": "stream",
     "text": [
      "Epoch  49 , loss 0.42847026563158225\n",
      "Epoch  50 , loss 0.43639230728149414\n"
     ]
    },
    {
     "name": "stderr",
     "output_type": "stream",
     "text": [
      "\r",
      "Iterations:  17%|█████▊                            | 51/300 [01:05<05:30,  1.33s/it]"
     ]
    },
    {
     "name": "stdout",
     "output_type": "stream",
     "text": [
      "Epoch:  50\n",
      "t_loss:  0.43639230728149414 , v_loss:  0.7034545789162318\n",
      "t_acc:  0.6965065502183406 , v_acc:  0.6845238095238095\n",
      "t_recall:  0.5050675217506235 , v_recall:  0.5\n",
      "t_prec:  0.6156905961376994 , v_prec:  0.34226190476190477\n",
      "t_f:  0.42594444091729255 , v_f:  0.40636042402826855\n",
      "////////\n"
     ]
    },
    {
     "name": "stderr",
     "output_type": "stream",
     "text": [
      "\r",
      "Iterations:  17%|█████▉                            | 52/300 [01:06<05:21,  1.30s/it]"
     ]
    },
    {
     "name": "stdout",
     "output_type": "stream",
     "text": [
      "Epoch  51 , loss 0.42861729918741714\n",
      "Epoch  52 , loss 0.42830245459780975\n"
     ]
    },
    {
     "name": "stderr",
     "output_type": "stream",
     "text": [
      "\r",
      "Iterations:  18%|██████                            | 53/300 [01:08<05:39,  1.37s/it]"
     ]
    },
    {
     "name": "stdout",
     "output_type": "stream",
     "text": [
      "Epoch:  52\n",
      "t_loss:  0.42830245459780975 , v_loss:  0.7069739600022634\n",
      "t_acc:  0.7005614472863381 , v_acc:  0.6845238095238095\n",
      "t_recall:  0.5108680711190796 , v_recall:  0.5\n",
      "t_prec:  0.7016195747656777 , v_prec:  0.34226190476190477\n",
      "t_f:  0.43680281071585425 , v_f:  0.40636042402826855\n",
      "////////\n"
     ]
    },
    {
     "name": "stderr",
     "output_type": "stream",
     "text": [
      "\r",
      "Iterations:  18%|██████                            | 54/300 [01:09<05:13,  1.28s/it]"
     ]
    },
    {
     "name": "stdout",
     "output_type": "stream",
     "text": [
      "Epoch  53 , loss 0.4259328433111602\n",
      "Epoch  54 , loss 0.4304541162416047\n"
     ]
    },
    {
     "name": "stderr",
     "output_type": "stream",
     "text": [
      "\r",
      "Iterations:  18%|██████▏                           | 55/300 [01:11<05:32,  1.36s/it]"
     ]
    },
    {
     "name": "stdout",
     "output_type": "stream",
     "text": [
      "Epoch:  54\n",
      "t_loss:  0.4304541162416047 , v_loss:  0.7027362883090973\n",
      "t_acc:  0.6971303805364941 , v_acc:  0.6845238095238095\n",
      "t_recall:  0.505227045478054 , v_recall:  0.5\n",
      "t_prec:  0.6375181422351233 , v_prec:  0.34226190476190477\n",
      "t_f:  0.42526037998224286 , v_f:  0.40636042402826855\n",
      "////////\n"
     ]
    },
    {
     "name": "stderr",
     "output_type": "stream",
     "text": [
      "\r",
      "Iterations:  19%|██████▎                           | 56/300 [01:12<05:06,  1.26s/it]"
     ]
    },
    {
     "name": "stdout",
     "output_type": "stream",
     "text": [
      "Epoch  55 , loss 0.42609071848439234\n",
      "Epoch  56 , loss 0.4326082783586839\n"
     ]
    },
    {
     "name": "stderr",
     "output_type": "stream",
     "text": [
      "\r",
      "Iterations:  19%|██████▍                           | 57/300 [01:13<05:20,  1.32s/it]"
     ]
    },
    {
     "name": "stdout",
     "output_type": "stream",
     "text": [
      "Epoch:  56\n",
      "t_loss:  0.4326082783586839 , v_loss:  0.7051439732313156\n",
      "t_acc:  0.6990018714909545 , v_acc:  0.6845238095238095\n",
      "t_recall:  0.5088813800871175 , v_recall:  0.5\n",
      "t_prec:  0.6692867157378198 , v_prec:  0.34226190476190477\n",
      "t_f:  0.433414444443834 , v_f:  0.40636042402826855\n",
      "////////\n"
     ]
    },
    {
     "name": "stderr",
     "output_type": "stream",
     "text": [
      "\r",
      "Iterations:  19%|██████▌                           | 58/300 [01:14<04:49,  1.19s/it]"
     ]
    },
    {
     "name": "stdout",
     "output_type": "stream",
     "text": [
      "Epoch  57 , loss 0.4256323184452805\n",
      "Epoch  58 , loss 0.420811909086564\n"
     ]
    },
    {
     "name": "stderr",
     "output_type": "stream",
     "text": [
      "\r",
      "Iterations:  20%|██████▋                           | 59/300 [01:16<05:23,  1.34s/it]"
     ]
    },
    {
     "name": "stdout",
     "output_type": "stream",
     "text": [
      "Epoch:  58\n",
      "t_loss:  0.420811909086564 , v_loss:  0.706256091594696\n",
      "t_acc:  0.7030567685589519 , v_acc:  0.6845238095238095\n",
      "t_recall:  0.5164141640519946 , v_recall:  0.5\n",
      "t_prec:  0.7060211765384726 , v_prec:  0.34226190476190477\n",
      "t_f:  0.44942111966172754 , v_f:  0.40636042402826855\n",
      "////////\n"
     ]
    },
    {
     "name": "stderr",
     "output_type": "stream",
     "text": [
      "\r",
      "Iterations:  20%|██████▊                           | 60/300 [01:17<05:02,  1.26s/it]"
     ]
    },
    {
     "name": "stdout",
     "output_type": "stream",
     "text": [
      "Epoch  59 , loss 0.4266214703812319\n",
      "Epoch  60 , loss 0.4287857635348451\n"
     ]
    },
    {
     "name": "stderr",
     "output_type": "stream",
     "text": [
      "\r",
      "Iterations:  20%|██████▉                           | 61/300 [01:18<05:20,  1.34s/it]"
     ]
    },
    {
     "name": "stdout",
     "output_type": "stream",
     "text": [
      "Epoch:  60\n",
      "t_loss:  0.4287857635348451 , v_loss:  0.7195203453302383\n",
      "t_acc:  0.7014971927635683 , v_acc:  0.6845238095238095\n",
      "t_recall:  0.513850061487892 , v_recall:  0.5\n",
      "t_prec:  0.6909188846641319 , v_prec:  0.34226190476190477\n",
      "t_f:  0.44434578275613834 , v_f:  0.40636042402826855\n",
      "////////\n"
     ]
    },
    {
     "name": "stderr",
     "output_type": "stream",
     "text": [
      "\r",
      "Iterations:  21%|███████                           | 62/300 [01:19<05:08,  1.30s/it]"
     ]
    },
    {
     "name": "stdout",
     "output_type": "stream",
     "text": [
      "Epoch  61 , loss 0.4333447404936248\n",
      "Epoch  62 , loss 0.4233994606663199\n"
     ]
    },
    {
     "name": "stderr",
     "output_type": "stream",
     "text": [
      "\r",
      "Iterations:  21%|███████▏                          | 63/300 [01:21<05:21,  1.36s/it]"
     ]
    },
    {
     "name": "stdout",
     "output_type": "stream",
     "text": [
      "Epoch:  62\n",
      "t_loss:  0.4233994606663199 , v_loss:  0.7052064488331476\n",
      "t_acc:  0.7030567685589519 , v_acc:  0.6845238095238095\n",
      "t_recall:  0.5161254582859245 , v_recall:  0.5\n",
      "t_prec:  0.7099019203035144 , v_prec:  0.34226190476190477\n",
      "t_f:  0.44855487653285997 , v_f:  0.40636042402826855\n",
      "////////\n"
     ]
    },
    {
     "name": "stderr",
     "output_type": "stream",
     "text": [
      "\r",
      "Iterations:  21%|███████▎                          | 64/300 [01:22<04:54,  1.25s/it]"
     ]
    },
    {
     "name": "stdout",
     "output_type": "stream",
     "text": [
      "Epoch  63 , loss 0.4389320635328106\n",
      "Epoch  64 , loss 0.421073094886892\n"
     ]
    },
    {
     "name": "stderr",
     "output_type": "stream",
     "text": [
      "\r",
      "Iterations:  22%|███████▎                          | 65/300 [01:23<05:07,  1.31s/it]"
     ]
    },
    {
     "name": "stdout",
     "output_type": "stream",
     "text": [
      "Epoch:  64\n",
      "t_loss:  0.421073094886892 , v_loss:  0.7106827199459076\n",
      "t_acc:  0.7005614472863381 , v_acc:  0.6845238095238095\n",
      "t_recall:  0.51144548265122 , v_recall:  0.5\n",
      "t_prec:  0.6918583593418872 , v_prec:  0.34226190476190477\n",
      "t_f:  0.43860427379861433 , v_f:  0.40636042402826855\n",
      "////////\n"
     ]
    },
    {
     "name": "stderr",
     "output_type": "stream",
     "text": [
      "\r",
      "Iterations:  22%|███████▍                          | 66/300 [01:24<04:51,  1.25s/it]"
     ]
    },
    {
     "name": "stdout",
     "output_type": "stream",
     "text": [
      "Epoch  65 , loss 0.4216107363794364\n",
      "Epoch  66 , loss 0.424087514479955\n"
     ]
    },
    {
     "name": "stderr",
     "output_type": "stream",
     "text": [
      "\r",
      "Iterations:  22%|███████▌                          | 67/300 [01:26<05:05,  1.31s/it]"
     ]
    },
    {
     "name": "stdout",
     "output_type": "stream",
     "text": [
      "Epoch:  66\n",
      "t_loss:  0.424087514479955 , v_loss:  0.7178662270307541\n",
      "t_acc:  0.6965065502183406 , v_acc:  0.6845238095238095\n",
      "t_recall:  0.5079545794113253 , v_recall:  0.5\n",
      "t_prec:  0.6096514575411913 , v_prec:  0.34226190476190477\n",
      "t_f:  0.4350558480895743 , v_f:  0.40636042402826855\n",
      "////////\n"
     ]
    },
    {
     "name": "stderr",
     "output_type": "stream",
     "text": [
      "\r",
      "Iterations:  23%|███████▋                          | 68/300 [01:27<04:40,  1.21s/it]"
     ]
    },
    {
     "name": "stdout",
     "output_type": "stream",
     "text": [
      "Epoch  67 , loss 0.420078879477931\n",
      "Epoch  68 , loss 0.4289229196660659\n"
     ]
    },
    {
     "name": "stderr",
     "output_type": "stream",
     "text": [
      "\r",
      "Iterations:  23%|███████▊                          | 69/300 [01:28<05:02,  1.31s/it]"
     ]
    },
    {
     "name": "stdout",
     "output_type": "stream",
     "text": [
      "Epoch:  68\n",
      "t_loss:  0.4289229196660659 , v_loss:  0.7195629179477692\n",
      "t_acc:  0.7039925140361821 , v_acc:  0.6845238095238095\n",
      "t_recall:  0.5165090967601053 , v_recall:  0.5\n",
      "t_prec:  0.7369049503905425 , v_prec:  0.34226190476190477\n",
      "t_f:  0.4481184020089437 , v_f:  0.40636042402826855\n",
      "////////\n"
     ]
    },
    {
     "name": "stderr",
     "output_type": "stream",
     "text": [
      "\r",
      "Iterations:  23%|███████▉                          | 70/300 [01:29<04:34,  1.19s/it]"
     ]
    },
    {
     "name": "stdout",
     "output_type": "stream",
     "text": [
      "Epoch  69 , loss 0.4316006337895113\n",
      "Epoch  70 , loss 0.42630188430056853\n"
     ]
    },
    {
     "name": "stderr",
     "output_type": "stream",
     "text": [
      "\r",
      "Iterations:  24%|████████                          | 71/300 [01:31<04:58,  1.30s/it]"
     ]
    },
    {
     "name": "stdout",
     "output_type": "stream",
     "text": [
      "Epoch:  70\n",
      "t_loss:  0.42630188430056853 , v_loss:  0.7119552890459696\n",
      "t_acc:  0.7030567685589519 , v_acc:  0.6904761904761905\n",
      "t_recall:  0.5178576928823455 , v_recall:  0.5094339622641509\n",
      "t_prec:  0.6902603286557442 , v_prec:  0.844311377245509\n",
      "t_f:  0.4537000973709835 , v_f:  0.4263199369582348\n",
      "////////\n"
     ]
    },
    {
     "name": "stderr",
     "output_type": "stream",
     "text": [
      "\r",
      "Iterations:  24%|████████▏                         | 72/300 [01:32<04:48,  1.27s/it]"
     ]
    },
    {
     "name": "stdout",
     "output_type": "stream",
     "text": [
      "Epoch  71 , loss 0.43131902697039587\n",
      "Epoch  72 , loss 0.4108549930593547\n"
     ]
    },
    {
     "name": "stderr",
     "output_type": "stream",
     "text": [
      "\r",
      "Iterations:  24%|████████▎                         | 73/300 [01:34<05:05,  1.34s/it]"
     ]
    },
    {
     "name": "stdout",
     "output_type": "stream",
     "text": [
      "Epoch:  72\n",
      "t_loss:  0.4108549930593547 , v_loss:  0.7075106451908747\n",
      "t_acc:  0.7033686837180287 , v_acc:  0.6904761904761905\n",
      "t_recall:  0.5169269845648151 , v_recall:  0.5094339622641509\n",
      "t_prec:  0.7087301587301588 , v_prec:  0.844311377245509\n",
      "t_f:  0.4504308095571388 , v_f:  0.4263199369582348\n",
      "////////\n"
     ]
    },
    {
     "name": "stderr",
     "output_type": "stream",
     "text": [
      "\r",
      "Iterations:  25%|████████▍                         | 74/300 [01:35<04:37,  1.23s/it]"
     ]
    },
    {
     "name": "stdout",
     "output_type": "stream",
     "text": [
      "Epoch  73 , loss 0.42185879922380637\n",
      "Epoch  74 , loss 0.41372138086487265\n"
     ]
    },
    {
     "name": "stderr",
     "output_type": "stream",
     "text": [
      "\r",
      "Iterations:  25%|████████▌                         | 75/300 [01:36<05:01,  1.34s/it]"
     ]
    },
    {
     "name": "stdout",
     "output_type": "stream",
     "text": [
      "Epoch:  74\n",
      "t_loss:  0.41372138086487265 , v_loss:  0.7094740470250448\n",
      "t_acc:  0.7027448533998752 , v_acc:  0.6904761904761905\n",
      "t_recall:  0.5179222839016654 , v_recall:  0.5094339622641509\n",
      "t_prec:  0.6826987965358227 , v_prec:  0.844311377245509\n",
      "t_f:  0.4543945418703694 , v_f:  0.4263199369582348\n",
      "////////\n"
     ]
    },
    {
     "name": "stderr",
     "output_type": "stream",
     "text": [
      "\r",
      "Iterations:  25%|████████▌                         | 76/300 [01:37<04:31,  1.21s/it]"
     ]
    },
    {
     "name": "stdout",
     "output_type": "stream",
     "text": [
      "Epoch  75 , loss 0.4167809673384124\n",
      "Epoch  76 , loss 0.41705789869906856\n"
     ]
    },
    {
     "name": "stderr",
     "output_type": "stream",
     "text": [
      "\r",
      "Iterations:  26%|████████▋                         | 77/300 [01:39<04:54,  1.32s/it]"
     ]
    },
    {
     "name": "stdout",
     "output_type": "stream",
     "text": [
      "Epoch:  76\n",
      "t_loss:  0.41705789869906856 , v_loss:  0.7189436455567678\n",
      "t_acc:  0.7030567685589519 , v_acc:  0.6904761904761905\n",
      "t_recall:  0.5178576928823455 , v_recall:  0.5094339622641509\n",
      "t_prec:  0.6902603286557442 , v_prec:  0.844311377245509\n",
      "t_f:  0.4537000973709835 , v_f:  0.4263199369582348\n",
      "////////\n"
     ]
    },
    {
     "name": "stderr",
     "output_type": "stream",
     "text": [
      "\r",
      "Iterations:  26%|████████▊                         | 78/300 [01:40<04:23,  1.19s/it]"
     ]
    },
    {
     "name": "stdout",
     "output_type": "stream",
     "text": [
      "Epoch  77 , loss 0.41943245059719275\n",
      "Epoch  78 , loss 0.4144691766477099\n"
     ]
    },
    {
     "name": "stderr",
     "output_type": "stream",
     "text": [
      "\r",
      "Iterations:  26%|████████▉                         | 79/300 [01:41<04:52,  1.33s/it]"
     ]
    },
    {
     "name": "stdout",
     "output_type": "stream",
     "text": [
      "Epoch:  78\n",
      "t_loss:  0.4144691766477099 , v_loss:  0.7168048471212387\n",
      "t_acc:  0.7021210230817218 , v_acc:  0.6904761904761905\n",
      "t_recall:  0.5166079371099541 , v_recall:  0.5094339622641509\n",
      "t_prec:  0.6796526893698281 , v_prec:  0.844311377245509\n",
      "t_f:  0.45155320680685723 , v_f:  0.4263199369582348\n",
      "////////\n"
     ]
    },
    {
     "name": "stderr",
     "output_type": "stream",
     "text": [
      "\r",
      "Iterations:  27%|█████████                         | 80/300 [01:42<04:26,  1.21s/it]"
     ]
    },
    {
     "name": "stdout",
     "output_type": "stream",
     "text": [
      "Epoch  79 , loss 0.4188108952606426\n",
      "Epoch  80 , loss 0.41370619687379573\n"
     ]
    },
    {
     "name": "stderr",
     "output_type": "stream",
     "text": [
      "\r",
      "Iterations:  27%|█████████▏                        | 81/300 [01:44<04:55,  1.35s/it]"
     ]
    },
    {
     "name": "stdout",
     "output_type": "stream",
     "text": [
      "Epoch:  80\n",
      "t_loss:  0.41370619687379573 , v_loss:  0.7109176168839136\n",
      "t_acc:  0.7080474111041797 , v_acc:  0.6904761904761905\n",
      "t_recall:  0.5246192922571228 , v_recall:  0.5094339622641509\n",
      "t_prec:  0.7405934811420356 , v_prec:  0.844311377245509\n",
      "t_f:  0.46536545874491964 , v_f:  0.4263199369582348\n",
      "////////\n"
     ]
    },
    {
     "name": "stderr",
     "output_type": "stream",
     "text": [
      "\r",
      "Iterations:  27%|█████████▎                        | 82/300 [01:45<04:32,  1.25s/it]"
     ]
    },
    {
     "name": "stdout",
     "output_type": "stream",
     "text": [
      "Epoch  81 , loss 0.4171592207515941\n",
      "Epoch  82 , loss 0.4199208605523203\n"
     ]
    },
    {
     "name": "stderr",
     "output_type": "stream",
     "text": [
      "\r",
      "Iterations:  28%|█████████▍                        | 83/300 [01:46<04:51,  1.34s/it]"
     ]
    },
    {
     "name": "stdout",
     "output_type": "stream",
     "text": [
      "Epoch:  82\n",
      "t_loss:  0.4199208605523203 , v_loss:  0.7118052840232849\n",
      "t_acc:  0.7046163443543356 , v_acc:  0.6904761904761905\n",
      "t_recall:  0.5204217954464481 , v_recall:  0.5094339622641509\n",
      "t_prec:  0.7023596938775509 , v_prec:  0.844311377245509\n",
      "t_f:  0.4586656182608052 , v_f:  0.4263199369582348\n",
      "////////\n"
     ]
    },
    {
     "name": "stderr",
     "output_type": "stream",
     "text": [
      "\r",
      "Iterations:  28%|█████████▌                        | 84/300 [01:47<04:21,  1.21s/it]"
     ]
    },
    {
     "name": "stdout",
     "output_type": "stream",
     "text": [
      "Epoch  83 , loss 0.4190923694302054\n",
      "Epoch  84 , loss 0.42843658550112856\n"
     ]
    },
    {
     "name": "stderr",
     "output_type": "stream",
     "text": [
      "\r",
      "Iterations:  28%|█████████▋                        | 85/300 [01:49<04:43,  1.32s/it]"
     ]
    },
    {
     "name": "stdout",
     "output_type": "stream",
     "text": [
      "Epoch:  84\n",
      "t_loss:  0.42843658550112856 , v_loss:  0.712451696395874\n",
      "t_acc:  0.7030567685589519 , v_acc:  0.6904761904761905\n",
      "t_recall:  0.520456044776977 , v_recall:  0.5094339622641509\n",
      "t_prec:  0.6716626351708467 , v_prec:  0.844311377245509\n",
      "t_f:  0.4611890267368955 , v_f:  0.4263199369582348\n",
      "////////\n"
     ]
    },
    {
     "name": "stderr",
     "output_type": "stream",
     "text": [
      "\r",
      "Iterations:  29%|█████████▋                        | 86/300 [01:50<04:22,  1.23s/it]"
     ]
    },
    {
     "name": "stdout",
     "output_type": "stream",
     "text": [
      "Epoch  85 , loss 0.41446472090833325\n",
      "Epoch  86 , loss 0.42575687871259804\n"
     ]
    },
    {
     "name": "stderr",
     "output_type": "stream",
     "text": [
      "\r",
      "Iterations:  29%|█████████▊                        | 87/300 [01:52<04:54,  1.38s/it]"
     ]
    },
    {
     "name": "stdout",
     "output_type": "stream",
     "text": [
      "Epoch:  86\n",
      "t_loss:  0.42575687871259804 , v_loss:  0.711672306060791\n",
      "t_acc:  0.7036805988771054 , v_acc:  0.7023809523809523\n",
      "t_recall:  0.5188833339079866 , v_recall:  0.5283018867924528\n",
      "t_prec:  0.6953065193307119 , v_prec:  0.8484848484848485\n",
      "t_f:  0.45569149715666407 , v_f:  0.4642857142857143\n",
      "////////\n"
     ]
    },
    {
     "name": "stderr",
     "output_type": "stream",
     "text": [
      "\r",
      "Iterations:  29%|█████████▉                        | 88/300 [01:53<04:31,  1.28s/it]"
     ]
    },
    {
     "name": "stdout",
     "output_type": "stream",
     "text": [
      "Epoch  87 , loss 0.4191304024528055\n",
      "Epoch  88 , loss 0.41795410770995944\n"
     ]
    },
    {
     "name": "stderr",
     "output_type": "stream",
     "text": [
      "\r",
      "Iterations:  30%|██████████                        | 89/300 [01:54<05:02,  1.44s/it]"
     ]
    },
    {
     "name": "stdout",
     "output_type": "stream",
     "text": [
      "Epoch:  88\n",
      "t_loss:  0.41795410770995944 , v_loss:  0.7147574226061503\n",
      "t_acc:  0.7083593262632564 , v_acc:  0.6904761904761905\n",
      "t_recall:  0.5259982300681538 , v_recall:  0.5094339622641509\n",
      "t_prec:  0.7317856908649747 , v_prec:  0.844311377245509\n",
      "t_f:  0.4687939646576208 , v_f:  0.4263199369582348\n",
      "////////\n"
     ]
    },
    {
     "name": "stderr",
     "output_type": "stream",
     "text": [
      "\r",
      "Iterations:  30%|██████████▏                       | 90/300 [01:55<04:32,  1.30s/it]"
     ]
    },
    {
     "name": "stdout",
     "output_type": "stream",
     "text": [
      "Epoch  89 , loss 0.41131387563312755\n",
      "Epoch  90 , loss 0.40849186713789026\n"
     ]
    },
    {
     "name": "stderr",
     "output_type": "stream",
     "text": [
      "\r",
      "Iterations:  30%|██████████▎                       | 91/300 [01:57<04:57,  1.42s/it]"
     ]
    },
    {
     "name": "stdout",
     "output_type": "stream",
     "text": [
      "Epoch:  90\n",
      "t_loss:  0.40849186713789026 , v_loss:  0.7198299715916315\n",
      "t_acc:  0.7077354959451029 , v_acc:  0.7023809523809523\n",
      "t_recall:  0.5264161178728637 , v_recall:  0.5283018867924528\n",
      "t_prec:  0.7141510137149671 , v_prec:  0.8484848484848485\n",
      "t_f:  0.4708817099906982 , v_f:  0.4642857142857143\n",
      "////////\n"
     ]
    },
    {
     "name": "stderr",
     "output_type": "stream",
     "text": [
      "\r",
      "Iterations:  31%|██████████▍                       | 92/300 [01:58<04:37,  1.33s/it]"
     ]
    },
    {
     "name": "stdout",
     "output_type": "stream",
     "text": [
      "Epoch  91 , loss 0.41405054926872253\n",
      "Epoch  92 , loss 0.408556259730283\n"
     ]
    },
    {
     "name": "stderr",
     "output_type": "stream",
     "text": [
      "\r",
      "Iterations:  31%|██████████▌                       | 93/300 [02:00<04:42,  1.36s/it]"
     ]
    },
    {
     "name": "stdout",
     "output_type": "stream",
     "text": [
      "Epoch:  92\n",
      "t_loss:  0.408556259730283 , v_loss:  0.7232628812392553\n",
      "t_acc:  0.7117903930131004 , v_acc:  0.7023809523809523\n",
      "t_recall:  0.5339489018377409 , v_recall:  0.5283018867924528\n",
      "t_prec:  0.726797807158981 , v_prec:  0.8484848484848485\n",
      "t_f:  0.4855755605568059 , v_f:  0.4642857142857143\n",
      "////////\n"
     ]
    },
    {
     "name": "stderr",
     "output_type": "stream",
     "text": [
      "\r",
      "Iterations:  31%|██████████▋                       | 94/300 [02:01<04:16,  1.24s/it]"
     ]
    },
    {
     "name": "stdout",
     "output_type": "stream",
     "text": [
      "Epoch  93 , loss 0.4066367371409547\n",
      "Epoch  94 , loss 0.41527216633160907\n"
     ]
    },
    {
     "name": "stderr",
     "output_type": "stream",
     "text": [
      "\r",
      "Iterations:  32%|██████████▊                       | 95/300 [02:02<04:30,  1.32s/it]"
     ]
    },
    {
     "name": "stdout",
     "output_type": "stream",
     "text": [
      "Epoch:  94\n",
      "t_loss:  0.41527216633160907 , v_loss:  0.7207803875207901\n",
      "t_acc:  0.7030567685589519 , v_acc:  0.6964285714285714\n",
      "t_recall:  0.5210334563091175 , v_recall:  0.5239540607054963\n",
      "t_prec:  0.6686087863410392 , v_prec:  0.7225609756097561\n",
      "t_f:  0.46281711459598357 , v_f:  0.46123372948500285\n",
      "////////\n"
     ]
    },
    {
     "name": "stderr",
     "output_type": "stream",
     "text": [
      "\r",
      "Iterations:  32%|██████████▉                       | 96/300 [02:03<04:03,  1.20s/it]"
     ]
    },
    {
     "name": "stdout",
     "output_type": "stream",
     "text": [
      "Epoch  95 , loss 0.4066339246198243\n",
      "Epoch  96 , loss 0.4048467234653585\n"
     ]
    },
    {
     "name": "stderr",
     "output_type": "stream",
     "text": [
      "\r",
      "Iterations:  32%|██████████▉                       | 97/300 [02:05<04:19,  1.28s/it]"
     ]
    },
    {
     "name": "stdout",
     "output_type": "stream",
     "text": [
      "Epoch:  96\n",
      "t_loss:  0.4048467234653585 , v_loss:  0.7192823241154352\n",
      "t_acc:  0.7099189020586401 , v_acc:  0.6964285714285714\n",
      "t_recall:  0.5314493902929582 , v_recall:  0.5239540607054963\n",
      "t_prec:  0.7140412191146057 , v_prec:  0.7225609756097561\n",
      "t_f:  0.481469037149577 , v_f:  0.46123372948500285\n",
      "////////\n"
     ]
    },
    {
     "name": "stderr",
     "output_type": "stream",
     "text": [
      "\r",
      "Iterations:  33%|███████████                       | 98/300 [02:06<03:59,  1.18s/it]"
     ]
    },
    {
     "name": "stdout",
     "output_type": "stream",
     "text": [
      "Epoch  97 , loss 0.40730272204268214\n",
      "Epoch  98 , loss 0.41214268114052566\n"
     ]
    },
    {
     "name": "stderr",
     "output_type": "stream",
     "text": [
      "\r",
      "Iterations:  33%|███████████▏                      | 99/300 [02:07<04:20,  1.30s/it]"
     ]
    },
    {
     "name": "stdout",
     "output_type": "stream",
     "text": [
      "Epoch:  98\n",
      "t_loss:  0.41214268114052566 , v_loss:  0.7234122703472773\n",
      "t_acc:  0.7099189020586401 , v_acc:  0.6964285714285714\n",
      "t_recall:  0.5300058614626073 , v_recall:  0.5239540607054963\n",
      "t_prec:  0.7254489497735821 , v_prec:  0.7225609756097561\n",
      "t_f:  0.47759326851914147 , v_f:  0.46123372948500285\n",
      "////////\n"
     ]
    },
    {
     "name": "stderr",
     "output_type": "stream",
     "text": [
      "\r",
      "Iterations:  33%|███████████                      | 100/300 [02:08<04:04,  1.22s/it]"
     ]
    },
    {
     "name": "stdout",
     "output_type": "stream",
     "text": [
      "Epoch  99 , loss 0.407207177550185\n",
      "Epoch  100 , loss 0.41012022600454445\n"
     ]
    },
    {
     "name": "stderr",
     "output_type": "stream",
     "text": [
      "\r",
      "Iterations:  34%|███████████                      | 101/300 [02:10<04:23,  1.32s/it]"
     ]
    },
    {
     "name": "stdout",
     "output_type": "stream",
     "text": [
      "Epoch:  100\n",
      "t_loss:  0.41012022600454445 , v_loss:  0.7253850201765696\n",
      "t_acc:  0.7124142233312539 , v_acc:  0.6964285714285714\n",
      "t_recall:  0.5341084255651714 , v_recall:  0.5239540607054963\n",
      "t_prec:  0.7365826437716235 , v_prec:  0.7225609756097561\n",
      "t_f:  0.485167035441387 , v_f:  0.46123372948500285\n",
      "////////\n"
     ]
    },
    {
     "name": "stderr",
     "output_type": "stream",
     "text": [
      "\r",
      "Iterations:  34%|███████████▏                     | 102/300 [02:11<04:07,  1.25s/it]"
     ]
    },
    {
     "name": "stdout",
     "output_type": "stream",
     "text": [
      "Epoch  101 , loss 0.411715814295937\n",
      "Epoch  102 , loss 0.4087194999059041\n"
     ]
    },
    {
     "name": "stderr",
     "output_type": "stream",
     "text": [
      "\r",
      "Iterations:  34%|███████████▎                     | 103/300 [02:12<04:18,  1.31s/it]"
     ]
    },
    {
     "name": "stdout",
     "output_type": "stream",
     "text": [
      "Epoch:  102\n",
      "t_loss:  0.4087194999059041 , v_loss:  0.7153258373339971\n",
      "t_acc:  0.7102308172177167 , v_acc:  0.6964285714285714\n",
      "t_recall:  0.5345605627004103 , v_recall:  0.5239540607054963\n",
      "t_prec:  0.6998070421636793 , v_prec:  0.7225609756097561\n",
      "t_f:  0.48917830292313513 , v_f:  0.46123372948500285\n",
      "////////\n"
     ]
    },
    {
     "name": "stderr",
     "output_type": "stream",
     "text": [
      "\r",
      "Iterations:  35%|███████████▍                     | 104/300 [02:13<03:57,  1.21s/it]"
     ]
    },
    {
     "name": "stdout",
     "output_type": "stream",
     "text": [
      "Epoch  103 , loss 0.4107000459642971\n",
      "Epoch  104 , loss 0.4031044759002386\n"
     ]
    },
    {
     "name": "stderr",
     "output_type": "stream",
     "text": [
      "\r",
      "Iterations:  35%|███████████▌                     | 105/300 [02:15<04:08,  1.27s/it]"
     ]
    },
    {
     "name": "stdout",
     "output_type": "stream",
     "text": [
      "Epoch:  104\n",
      "t_loss:  0.4031044759002386 , v_loss:  0.718647355834643\n",
      "t_acc:  0.7142857142857143 , v_acc:  0.6964285714285714\n",
      "t_recall:  0.5383401717063752 , v_recall:  0.5239540607054963\n",
      "t_prec:  0.7346180355309242 , v_prec:  0.7225609756097561\n",
      "t_f:  0.4937586407813853 , v_f:  0.46123372948500285\n",
      "////////\n"
     ]
    },
    {
     "name": "stderr",
     "output_type": "stream",
     "text": [
      "\r",
      "Iterations:  35%|███████████▋                     | 106/300 [02:16<03:52,  1.20s/it]"
     ]
    },
    {
     "name": "stdout",
     "output_type": "stream",
     "text": [
      "Epoch  105 , loss 0.4079115858264998\n",
      "Epoch  106 , loss 0.41065128001512263\n"
     ]
    },
    {
     "name": "stderr",
     "output_type": "stream",
     "text": [
      "\r",
      "Iterations:  36%|███████████▊                     | 107/300 [02:17<04:10,  1.30s/it]"
     ]
    },
    {
     "name": "stdout",
     "output_type": "stream",
     "text": [
      "Epoch:  106\n",
      "t_loss:  0.41065128001512263 , v_loss:  0.7239408095677694\n",
      "t_acc:  0.7152214597629445 , v_acc:  0.6964285714285714\n",
      "t_recall:  0.538723810180556 , v_recall:  0.5239540607054963\n",
      "t_prec:  0.7473367394879022 , v_prec:  0.7225609756097561\n",
      "t_f:  0.493567159388871 , v_f:  0.46123372948500285\n",
      "////////\n"
     ]
    },
    {
     "name": "stderr",
     "output_type": "stream",
     "text": [
      "\r",
      "Iterations:  36%|███████████▉                     | 108/300 [02:18<03:46,  1.18s/it]"
     ]
    },
    {
     "name": "stdout",
     "output_type": "stream",
     "text": [
      "Epoch  107 , loss 0.408656541038962\n",
      "Epoch  108 , loss 0.4095875118293014\n"
     ]
    },
    {
     "name": "stderr",
     "output_type": "stream",
     "text": [
      "\r",
      "Iterations:  36%|███████████▉                     | 109/300 [02:20<04:23,  1.38s/it]"
     ]
    },
    {
     "name": "stdout",
     "output_type": "stream",
     "text": [
      "Epoch:  108\n",
      "t_loss:  0.4095875118293014 , v_loss:  0.721274733543396\n",
      "t_acc:  0.7117903930131004 , v_acc:  0.6964285714285714\n",
      "t_recall:  0.5353924306680918 , v_recall:  0.5239540607054963\n",
      "t_prec:  0.716579691390151 , v_prec:  0.7225609756097561\n",
      "t_f:  0.4893373188668121 , v_f:  0.46123372948500285\n",
      "////////\n"
     ]
    },
    {
     "name": "stderr",
     "output_type": "stream",
     "text": [
      "\r",
      "Iterations:  37%|████████████                     | 110/300 [02:21<03:54,  1.23s/it]"
     ]
    },
    {
     "name": "stdout",
     "output_type": "stream",
     "text": [
      "Epoch  109 , loss 0.40258247156937915\n",
      "Epoch  110 , loss 0.41051333090838266\n"
     ]
    },
    {
     "name": "stderr",
     "output_type": "stream",
     "text": [
      "\r",
      "Iterations:  37%|████████████▏                    | 111/300 [02:22<04:15,  1.35s/it]"
     ]
    },
    {
     "name": "stdout",
     "output_type": "stream",
     "text": [
      "Epoch:  110\n",
      "t_loss:  0.41051333090838266 , v_loss:  0.730187843243281\n",
      "t_acc:  0.7149095446038678 , v_acc:  0.6964285714285714\n",
      "t_recall:  0.5402319300302267 , v_recall:  0.5239540607054963\n",
      "t_prec:  0.7307790690621794 , v_prec:  0.7225609756097561\n",
      "t_f:  0.49778945946816777 , v_f:  0.46123372948500285\n",
      "////////\n"
     ]
    },
    {
     "name": "stderr",
     "output_type": "stream",
     "text": [
      "\r",
      "Iterations:  37%|████████████▎                    | 112/300 [02:23<03:50,  1.22s/it]"
     ]
    },
    {
     "name": "stdout",
     "output_type": "stream",
     "text": [
      "Epoch  111 , loss 0.4065307057371326\n",
      "Epoch  112 , loss 0.4098995287044376\n"
     ]
    },
    {
     "name": "stderr",
     "output_type": "stream",
     "text": [
      "\r",
      "Iterations:  38%|████████████▍                    | 113/300 [02:25<04:08,  1.33s/it]"
     ]
    },
    {
     "name": "stdout",
     "output_type": "stream",
     "text": [
      "Epoch:  112\n",
      "t_loss:  0.4098995287044376 , v_loss:  0.7286591033140818\n",
      "t_acc:  0.7136618839675608 , v_acc:  0.6964285714285714\n",
      "t_recall:  0.5376032364468044 , v_recall:  0.5239540607054963\n",
      "t_prec:  0.730108449495731 , v_prec:  0.7225609756097561\n",
      "t_f:  0.49265331030274195 , v_f:  0.46123372948500285\n",
      "////////\n"
     ]
    },
    {
     "name": "stderr",
     "output_type": "stream",
     "text": [
      "\r",
      "Iterations:  38%|████████████▌                    | 114/300 [02:26<03:46,  1.22s/it]"
     ]
    },
    {
     "name": "stdout",
     "output_type": "stream",
     "text": [
      "Epoch  113 , loss 0.40694983274328944\n",
      "Epoch  114 , loss 0.40178540845712024\n"
     ]
    },
    {
     "name": "stderr",
     "output_type": "stream",
     "text": [
      "\r",
      "Iterations:  38%|████████████▋                    | 115/300 [02:27<03:57,  1.29s/it]"
     ]
    },
    {
     "name": "stdout",
     "output_type": "stream",
     "text": [
      "Epoch:  114\n",
      "t_loss:  0.40178540845712024 , v_loss:  0.7332485765218735\n",
      "t_acc:  0.7121023081721771 , v_acc:  0.6964285714285714\n",
      "t_recall:  0.5359052511809124 , v_recall:  0.5239540607054963\n",
      "t_prec:  0.7178942082356881 , v_prec:  0.7225609756097561\n",
      "t_f:  0.49026176654044107 , v_f:  0.46123372948500285\n",
      "////////\n"
     ]
    },
    {
     "name": "stderr",
     "output_type": "stream",
     "text": [
      "\r",
      "Iterations:  39%|████████████▊                    | 116/300 [02:28<03:36,  1.18s/it]"
     ]
    },
    {
     "name": "stdout",
     "output_type": "stream",
     "text": [
      "Epoch  115 , loss 0.40627674846088185\n",
      "Epoch  116 , loss 0.396381593802396\n"
     ]
    },
    {
     "name": "stderr",
     "output_type": "stream",
     "text": [
      "\r",
      "Iterations:  39%|████████████▊                    | 117/300 [02:30<03:51,  1.27s/it]"
     ]
    },
    {
     "name": "stdout",
     "output_type": "stream",
     "text": [
      "Epoch:  116\n",
      "t_loss:  0.396381593802396 , v_loss:  0.7365089406569799\n",
      "t_acc:  0.7114784778540237 , v_acc:  0.6964285714285714\n",
      "t_recall:  0.5348796101552713 , v_recall:  0.5239540607054963\n",
      "t_prec:  0.7152442068949865 , v_prec:  0.7225609756097561\n",
      "t_f:  0.4884113451906733 , v_f:  0.46123372948500285\n",
      "////////\n"
     ]
    },
    {
     "name": "stderr",
     "output_type": "stream",
     "text": [
      "\r",
      "Iterations:  39%|████████████▉                    | 118/300 [02:31<03:33,  1.17s/it]"
     ]
    },
    {
     "name": "stdout",
     "output_type": "stream",
     "text": [
      "Epoch  117 , loss 0.4023016095161438\n",
      "Epoch  118 , loss 0.4017240241462109\n"
     ]
    },
    {
     "name": "stderr",
     "output_type": "stream",
     "text": [
      "\r",
      "Iterations:  40%|█████████████                    | 119/300 [02:32<03:54,  1.30s/it]"
     ]
    },
    {
     "name": "stdout",
     "output_type": "stream",
     "text": [
      "Epoch:  118\n",
      "t_loss:  0.4017240241462109 , v_loss:  0.7435917605956396\n",
      "t_acc:  0.7177167810355584 , v_acc:  0.6964285714285714\n",
      "t_recall:  0.5445586088795412 , v_recall:  0.5239540607054963\n",
      "t_prec:  0.7423852155646694 , v_prec:  0.7225609756097561\n",
      "t_f:  0.5052329928797191 , v_f:  0.46123372948500285\n",
      "////////\n"
     ]
    },
    {
     "name": "stderr",
     "output_type": "stream",
     "text": [
      "\r",
      "Iterations:  40%|█████████████▏                   | 120/300 [02:33<03:41,  1.23s/it]"
     ]
    },
    {
     "name": "stdout",
     "output_type": "stream",
     "text": [
      "Epoch  119 , loss 0.40643201739180324\n",
      "Epoch  120 , loss 0.40421569931740853\n"
     ]
    },
    {
     "name": "stderr",
     "output_type": "stream",
     "text": [
      "\r",
      "Iterations:  40%|█████████████▎                   | 121/300 [02:35<04:08,  1.39s/it]"
     ]
    },
    {
     "name": "stdout",
     "output_type": "stream",
     "text": [
      "Epoch:  120\n",
      "t_loss:  0.40421569931740853 , v_loss:  0.7400926252206167\n",
      "t_acc:  0.7167810355583282 , v_acc:  0.6964285714285714\n",
      "t_recall:  0.5407105012125183 , v_recall:  0.5239540607054963\n",
      "t_prec:  0.7577668136634211 , v_prec:  0.7225609756097561\n",
      "t_f:  0.49670990982767055 , v_f:  0.46123372948500285\n",
      "////////\n"
     ]
    },
    {
     "name": "stderr",
     "output_type": "stream",
     "text": [
      "\r",
      "Iterations:  41%|█████████████▍                   | 122/300 [02:36<03:52,  1.30s/it]"
     ]
    },
    {
     "name": "stdout",
     "output_type": "stream",
     "text": [
      "Epoch  121 , loss 0.40394316467584346\n",
      "Epoch  122 , loss 0.4048862778672985\n"
     ]
    },
    {
     "name": "stderr",
     "output_type": "stream",
     "text": [
      "\r",
      "Iterations:  41%|█████████████▌                   | 123/300 [02:38<04:06,  1.39s/it]"
     ]
    },
    {
     "name": "stdout",
     "output_type": "stream",
     "text": [
      "Epoch:  122\n",
      "t_loss:  0.4048862778672985 , v_loss:  0.7256205081939697\n",
      "t_acc:  0.7161572052401747 , v_acc:  0.6964285714285714\n",
      "t_recall:  0.5428606236136492 , v_recall:  0.5239540607054963\n",
      "t_prec:  0.7314441755104575 , v_prec:  0.7225609756097561\n",
      "t_f:  0.5028556160448883 , v_f:  0.46123372948500285\n",
      "////////\n"
     ]
    },
    {
     "name": "stderr",
     "output_type": "stream",
     "text": [
      "\r",
      "Iterations:  41%|█████████████▋                   | 124/300 [02:39<03:41,  1.26s/it]"
     ]
    },
    {
     "name": "stdout",
     "output_type": "stream",
     "text": [
      "Epoch  123 , loss 0.40812257984105277\n",
      "Epoch  124 , loss 0.40268276018254895\n"
     ]
    },
    {
     "name": "stderr",
     "output_type": "stream",
     "text": [
      "\r",
      "Iterations:  42%|█████████████▊                   | 125/300 [02:40<03:52,  1.33s/it]"
     ]
    },
    {
     "name": "stdout",
     "output_type": "stream",
     "text": [
      "Epoch:  124\n",
      "t_loss:  0.40268276018254895 , v_loss:  0.7359375556310018\n",
      "t_acc:  0.718028696194635 , v_acc:  0.6964285714285714\n",
      "t_recall:  0.5459375466905723 , v_recall:  0.5239540607054963\n",
      "t_prec:  0.7376591438282043 , v_prec:  0.7225609756097561\n",
      "t_f:  0.5082421609881905 , v_f:  0.46123372948500285\n",
      "////////\n"
     ]
    },
    {
     "name": "stderr",
     "output_type": "stream",
     "text": [
      "\r",
      "Iterations:  42%|█████████████▊                   | 126/300 [02:41<03:27,  1.20s/it]"
     ]
    },
    {
     "name": "stdout",
     "output_type": "stream",
     "text": [
      "Epoch  125 , loss 0.40312378955822364\n",
      "Epoch  126 , loss 0.4056934205924763\n"
     ]
    },
    {
     "name": "stderr",
     "output_type": "stream",
     "text": [
      "\r",
      "Iterations:  42%|█████████████▉                   | 127/300 [02:43<03:40,  1.28s/it]"
     ]
    },
    {
     "name": "stdout",
     "output_type": "stream",
     "text": [
      "Epoch:  126\n",
      "t_loss:  0.4056934205924763 , v_loss:  0.7318863222996393\n",
      "t_acc:  0.7205240174672489 , v_acc:  0.6964285714285714\n",
      "t_recall:  0.5488852877288557 , v_recall:  0.5239540607054963\n",
      "t_prec:  0.7529093620452227 , v_prec:  0.7225609756097561\n",
      "t_f:  0.5125940002714809 , v_f:  0.46123372948500285\n",
      "////////\n"
     ]
    },
    {
     "name": "stderr",
     "output_type": "stream",
     "text": [
      "\r",
      "Iterations:  43%|██████████████                   | 128/300 [02:44<03:21,  1.17s/it]"
     ]
    },
    {
     "name": "stdout",
     "output_type": "stream",
     "text": [
      "Epoch  127 , loss 0.3996727454896067\n",
      "Epoch  128 , loss 0.40571678327579125\n"
     ]
    },
    {
     "name": "stderr",
     "output_type": "stream",
     "text": [
      "\r",
      "Iterations:  43%|██████████████▏                  | 129/300 [02:45<03:39,  1.28s/it]"
     ]
    },
    {
     "name": "stdout",
     "output_type": "stream",
     "text": [
      "Epoch:  128\n",
      "t_loss:  0.40571678327579125 , v_loss:  0.7358398934205373\n",
      "t_acc:  0.7192763568309419 , v_acc:  0.6964285714285714\n",
      "t_recall:  0.5453904768472226 , v_recall:  0.5239540607054963\n",
      "t_prec:  0.7603696114807401 , v_prec:  0.7225609756097561\n",
      "t_f:  0.5054819622771891 , v_f:  0.46123372948500285\n",
      "////////\n"
     ]
    },
    {
     "name": "stderr",
     "output_type": "stream",
     "text": [
      "\r",
      "Iterations:  43%|██████████████▎                  | 130/300 [02:46<03:21,  1.18s/it]"
     ]
    },
    {
     "name": "stdout",
     "output_type": "stream",
     "text": [
      "Epoch  129 , loss 0.40271389659713297\n",
      "Epoch  130 , loss 0.4014473265292598\n"
     ]
    },
    {
     "name": "stderr",
     "output_type": "stream",
     "text": [
      "\r",
      "Iterations:  44%|██████████████▍                  | 131/300 [02:48<03:36,  1.28s/it]"
     ]
    },
    {
     "name": "stdout",
     "output_type": "stream",
     "text": [
      "Epoch:  130\n",
      "t_loss:  0.4014473265292598 , v_loss:  0.7405861169099808\n",
      "t_acc:  0.7117903930131004 , v_acc:  0.6964285714285714\n",
      "t_recall:  0.5368359594984426 , v_recall:  0.5239540607054963\n",
      "t_prec:  0.708053229470951 , v_prec:  0.7225609756097561\n",
      "t_f:  0.49302710843373493 , v_f:  0.46123372948500285\n",
      "////////\n"
     ]
    },
    {
     "name": "stderr",
     "output_type": "stream",
     "text": [
      "\r",
      "Iterations:  44%|██████████████▌                  | 132/300 [02:49<03:28,  1.24s/it]"
     ]
    },
    {
     "name": "stdout",
     "output_type": "stream",
     "text": [
      "Epoch  131 , loss 0.40042218098453447\n",
      "Epoch  132 , loss 0.4072374315822826\n"
     ]
    },
    {
     "name": "stderr",
     "output_type": "stream",
     "text": [
      "\r",
      "Iterations:  44%|██████████████▋                  | 133/300 [02:50<03:36,  1.30s/it]"
     ]
    },
    {
     "name": "stdout",
     "output_type": "stream",
     "text": [
      "Epoch:  132\n",
      "t_loss:  0.4072374315822826 , v_loss:  0.7432720065116882\n",
      "t_acc:  0.7183406113537117 , v_acc:  0.6964285714285714\n",
      "t_recall:  0.5452955441391121 , v_recall:  0.5239540607054963\n",
      "t_prec:  0.7463939181754526 , v_prec:  0.7225609756097561\n",
      "t_f:  0.5063264006302612 , v_f:  0.46123372948500285\n",
      "////////\n"
     ]
    },
    {
     "name": "stderr",
     "output_type": "stream",
     "text": [
      "\r",
      "Iterations:  45%|██████████████▋                  | 134/300 [02:51<03:23,  1.23s/it]"
     ]
    },
    {
     "name": "stdout",
     "output_type": "stream",
     "text": [
      "Epoch  133 , loss 0.4056192689082202\n",
      "Epoch  134 , loss 0.3987173160501555\n"
     ]
    },
    {
     "name": "stderr",
     "output_type": "stream",
     "text": [
      "\r",
      "Iterations:  45%|██████████████▊                  | 135/300 [02:53<03:36,  1.31s/it]"
     ]
    },
    {
     "name": "stdout",
     "output_type": "stream",
     "text": [
      "Epoch:  134\n",
      "t_loss:  0.3987173160501555 , v_loss:  0.7403968870639801\n",
      "t_acc:  0.7170929507174049 , v_acc:  0.6964285714285714\n",
      "t_recall:  0.5455539082163914 , v_recall:  0.5239540607054963\n",
      "t_prec:  0.7277470304857868 , v_prec:  0.7225609756097561\n",
      "t_f:  0.5083549538719574 , v_f:  0.46123372948500285\n",
      "////////\n"
     ]
    },
    {
     "name": "stderr",
     "output_type": "stream",
     "text": [
      "\r",
      "Iterations:  45%|██████████████▉                  | 136/300 [02:54<03:18,  1.21s/it]"
     ]
    },
    {
     "name": "stdout",
     "output_type": "stream",
     "text": [
      "Epoch  135 , loss 0.4024660300974752\n",
      "Epoch  136 , loss 0.40161990651897356\n"
     ]
    },
    {
     "name": "stderr",
     "output_type": "stream",
     "text": [
      "\r",
      "Iterations:  46%|███████████████                  | 137/300 [02:55<03:28,  1.28s/it]"
     ]
    },
    {
     "name": "stdout",
     "output_type": "stream",
     "text": [
      "Epoch:  136\n",
      "t_loss:  0.40161990651897356 , v_loss:  0.7446304758389791\n",
      "t_acc:  0.7149095446038678 , v_acc:  0.6964285714285714\n",
      "t_recall:  0.5434076934569987 , v_recall:  0.5239540607054963\n",
      "t_prec:  0.7127353017382194 , v_prec:  0.7225609756097561\n",
      "t_f:  0.5056075207860922 , v_f:  0.46123372948500285\n",
      "////////\n"
     ]
    },
    {
     "name": "stderr",
     "output_type": "stream",
     "text": [
      "\r",
      "Iterations:  46%|███████████████▏                 | 138/300 [02:56<03:13,  1.19s/it]"
     ]
    },
    {
     "name": "stdout",
     "output_type": "stream",
     "text": [
      "Epoch  137 , loss 0.4031496480399487\n",
      "Epoch  138 , loss 0.40381096800168353\n"
     ]
    },
    {
     "name": "stderr",
     "output_type": "stream",
     "text": [
      "\r",
      "Iterations:  46%|███████████████▎                 | 139/300 [02:58<03:28,  1.29s/it]"
     ]
    },
    {
     "name": "stdout",
     "output_type": "stream",
     "text": [
      "Epoch:  138\n",
      "t_loss:  0.40381096800168353 , v_loss:  0.7355909993251165\n",
      "t_acc:  0.7161572052401747 , v_acc:  0.6964285714285714\n",
      "t_recall:  0.542571917847579 , v_recall:  0.5239540607054963\n",
      "t_prec:  0.7332975590338924 , v_prec:  0.7225609756097561\n",
      "t_f:  0.5021426504155608 , v_f:  0.46123372948500285\n",
      "////////\n"
     ]
    },
    {
     "name": "stderr",
     "output_type": "stream",
     "text": [
      "\r",
      "Iterations:  47%|███████████████▍                 | 140/300 [02:59<03:13,  1.21s/it]"
     ]
    },
    {
     "name": "stdout",
     "output_type": "stream",
     "text": [
      "Epoch  139 , loss 0.4032064927559273\n",
      "Epoch  140 , loss 0.3977544354457481\n"
     ]
    },
    {
     "name": "stderr",
     "output_type": "stream",
     "text": [
      "\r",
      "Iterations:  47%|███████████████▌                 | 141/300 [03:00<03:40,  1.38s/it]"
     ]
    },
    {
     "name": "stdout",
     "output_type": "stream",
     "text": [
      "Epoch:  140\n",
      "t_loss:  0.3977544354457481 , v_loss:  0.7392224123080572\n",
      "t_acc:  0.7186525265127885 , v_acc:  0.6964285714285714\n",
      "t_recall:  0.5478293050144238 , v_recall:  0.5239540607054963\n",
      "t_prec:  0.7344050287825705 , v_prec:  0.7225609756097561\n",
      "t_f:  0.5120984504913076 , v_f:  0.46123372948500285\n",
      "////////\n"
     ]
    },
    {
     "name": "stderr",
     "output_type": "stream",
     "text": [
      "\r",
      "Iterations:  47%|███████████████▌                 | 142/300 [03:01<03:21,  1.28s/it]"
     ]
    },
    {
     "name": "stdout",
     "output_type": "stream",
     "text": [
      "Epoch  141 , loss 0.3950664155623492\n",
      "Epoch  142 , loss 0.41415999625243394\n"
     ]
    },
    {
     "name": "stderr",
     "output_type": "stream",
     "text": [
      "\r",
      "Iterations:  48%|███████████████▋                 | 143/300 [03:03<03:34,  1.37s/it]"
     ]
    },
    {
     "name": "stdout",
     "output_type": "stream",
     "text": [
      "Epoch:  142\n",
      "t_loss:  0.41415999625243394 , v_loss:  0.738369440038999\n",
      "t_acc:  0.7174048658764816 , v_acc:  0.6964285714285714\n",
      "t_recall:  0.5469328460274224 , v_recall:  0.5239540607054963\n",
      "t_prec:  0.7241296792705926 , v_prec:  0.7225609756097561\n",
      "t_f:  0.5113094308741742 , v_f:  0.46123372948500285\n",
      "////////\n"
     ]
    },
    {
     "name": "stderr",
     "output_type": "stream",
     "text": [
      "\r",
      "Iterations:  48%|███████████████▊                 | 144/300 [03:04<03:11,  1.23s/it]"
     ]
    },
    {
     "name": "stdout",
     "output_type": "stream",
     "text": [
      "Epoch  143 , loss 0.4039612722163107\n",
      "Epoch  144 , loss 0.3936677189434276\n"
     ]
    },
    {
     "name": "stderr",
     "output_type": "stream",
     "text": [
      "\r",
      "Iterations:  48%|███████████████▉                 | 145/300 [03:05<03:25,  1.33s/it]"
     ]
    },
    {
     "name": "stdout",
     "output_type": "stream",
     "text": [
      "Epoch:  144\n",
      "t_loss:  0.3936677189434276 , v_loss:  0.7387918631235758\n",
      "t_acc:  0.723955084217093 , v_acc:  0.6964285714285714\n",
      "t_recall:  0.5548150191359514 , v_recall:  0.5239540607054963\n",
      "t_prec:  0.7601112565445026 , v_prec:  0.7225609756097561\n",
      "t_f:  0.522970808902339 , v_f:  0.46123372948500285\n",
      "////////\n"
     ]
    },
    {
     "name": "stderr",
     "output_type": "stream",
     "text": [
      "\r",
      "Iterations:  49%|████████████████                 | 146/300 [03:06<03:05,  1.20s/it]"
     ]
    },
    {
     "name": "stdout",
     "output_type": "stream",
     "text": [
      "Epoch  145 , loss 0.39617522499140573\n",
      "Epoch  146 , loss 0.40111079169254676\n"
     ]
    },
    {
     "name": "stderr",
     "output_type": "stream",
     "text": [
      "\r",
      "Iterations:  49%|████████████████▏                | 147/300 [03:08<03:25,  1.34s/it]"
     ]
    },
    {
     "name": "stdout",
     "output_type": "stream",
     "text": [
      "Epoch:  146\n",
      "t_loss:  0.40111079169254676 , v_loss:  0.7450203051169714\n",
      "t_acc:  0.7186525265127885 , v_acc:  0.6964285714285714\n",
      "t_recall:  0.5455196588858624 , v_recall:  0.5239540607054963\n",
      "t_prec:  0.7494514187532908 , v_prec:  0.7225609756097561\n",
      "t_f:  0.5065194183239955 , v_f:  0.46123372948500285\n",
      "////////\n"
     ]
    },
    {
     "name": "stderr",
     "output_type": "stream",
     "text": [
      "\r",
      "Iterations:  49%|████████████████▎                | 148/300 [03:09<03:04,  1.22s/it]"
     ]
    },
    {
     "name": "stdout",
     "output_type": "stream",
     "text": [
      "Epoch  147 , loss 0.4023968361172022\n",
      "Epoch  148 , loss 0.4044056669169781\n"
     ]
    },
    {
     "name": "stderr",
     "output_type": "stream",
     "text": [
      "\r",
      "Iterations:  50%|████████████████▍                | 149/300 [03:11<03:20,  1.33s/it]"
     ]
    },
    {
     "name": "stdout",
     "output_type": "stream",
     "text": [
      "Epoch:  148\n",
      "t_loss:  0.4044056669169781 , v_loss:  0.7424330612023672\n",
      "t_acc:  0.7189644416718652 , v_acc:  0.7023809523809523\n",
      "t_recall:  0.5486308312933145 , v_recall:  0.5333880229696473\n",
      "t_prec:  0.7337311968606932 , v_prec:  0.7496932515337423\n",
      "t_f:  0.5136656044644482 , v_f:  0.4790374596874225\n",
      "////////\n"
     ]
    },
    {
     "name": "stderr",
     "output_type": "stream",
     "text": [
      "\r",
      "Iterations:  50%|████████████████▌                | 150/300 [03:12<03:04,  1.23s/it]"
     ]
    },
    {
     "name": "stdout",
     "output_type": "stream",
     "text": [
      "Epoch  149 , loss 0.40696714117246513\n",
      "Epoch  150 , loss 0.3950808544953664\n"
     ]
    },
    {
     "name": "stderr",
     "output_type": "stream",
     "text": [
      "\r",
      "Iterations:  50%|████████████████▌                | 151/300 [03:13<03:17,  1.32s/it]"
     ]
    },
    {
     "name": "stdout",
     "output_type": "stream",
     "text": [
      "Epoch:  150\n",
      "t_loss:  0.3950808544953664 , v_loss:  0.7348357687393824\n",
      "t_acc:  0.7202121023081722 , v_acc:  0.7023809523809523\n",
      "t_recall:  0.5521256421749474 , v_recall:  0.5333880229696473\n",
      "t_prec:  0.7299301601206989 , v_prec:  0.7496932515337423\n",
      "t_f:  0.5205172004151609 , v_f:  0.4790374596874225\n",
      "////////\n"
     ]
    },
    {
     "name": "stderr",
     "output_type": "stream",
     "text": [
      "\r",
      "Iterations:  51%|████████████████▋                | 152/300 [03:14<03:13,  1.31s/it]"
     ]
    },
    {
     "name": "stdout",
     "output_type": "stream",
     "text": [
      "Epoch  151 , loss 0.40090081855362536\n",
      "Epoch  152 , loss 0.3960772548236099\n"
     ]
    },
    {
     "name": "stderr",
     "output_type": "stream",
     "text": [
      "\r",
      "Iterations:  51%|████████████████▊                | 153/300 [03:16<03:26,  1.40s/it]"
     ]
    },
    {
     "name": "stdout",
     "output_type": "stream",
     "text": [
      "Epoch:  152\n",
      "t_loss:  0.3960772548236099 , v_loss:  0.7396332075198492\n",
      "t_acc:  0.7174048658764816 , v_acc:  0.7023809523809523\n",
      "t_recall:  0.5477989633256329 , v_recall:  0.5333880229696473\n",
      "t_prec:  0.719861282921517 , v_prec:  0.7496932515337423\n",
      "t_f:  0.5133520756752772 , v_f:  0.4790374596874225\n",
      "////////\n"
     ]
    },
    {
     "name": "stderr",
     "output_type": "stream",
     "text": [
      "\r",
      "Iterations:  51%|████████████████▉                | 154/300 [03:17<03:13,  1.33s/it]"
     ]
    },
    {
     "name": "stdout",
     "output_type": "stream",
     "text": [
      "Epoch  153 , loss 0.4045356926964779\n",
      "Epoch  154 , loss 0.39302830018249213\n"
     ]
    },
    {
     "name": "stderr",
     "output_type": "stream",
     "text": [
      "\r",
      "Iterations:  52%|█████████████████                | 155/300 [03:19<03:19,  1.38s/it]"
     ]
    },
    {
     "name": "stdout",
     "output_type": "stream",
     "text": [
      "Epoch:  154\n",
      "t_loss:  0.39302830018249213 , v_loss:  0.7404391318559647\n",
      "t_acc:  0.7233312538989395 , v_acc:  0.7023809523809523\n",
      "t_recall:  0.554655495408521 , v_recall:  0.5333880229696473\n",
      "t_prec:  0.7529488859764089 , v_prec:  0.7496932515337423\n",
      "t_f:  0.5232259765978982 , v_f:  0.4790374596874225\n",
      "////////\n"
     ]
    },
    {
     "name": "stderr",
     "output_type": "stream",
     "text": [
      "\r",
      "Iterations:  52%|█████████████████▏               | 156/300 [03:20<03:00,  1.25s/it]"
     ]
    },
    {
     "name": "stdout",
     "output_type": "stream",
     "text": [
      "Epoch  155 , loss 0.3974730647077747\n",
      "Epoch  156 , loss 0.3920530270712048\n"
     ]
    },
    {
     "name": "stderr",
     "output_type": "stream",
     "text": [
      "\r",
      "Iterations:  52%|█████████████████▎               | 157/300 [03:21<03:05,  1.30s/it]"
     ]
    },
    {
     "name": "stdout",
     "output_type": "stream",
     "text": [
      "Epoch:  156\n",
      "t_loss:  0.3920530270712048 , v_loss:  0.7358447810014089\n",
      "t_acc:  0.7223955084217093 , v_acc:  0.7023809523809523\n",
      "t_recall:  0.5568702088289716 , v_recall:  0.5333880229696473\n",
      "t_prec:  0.7307365896148903 , v_prec:  0.7496932515337423\n",
      "t_f:  0.5291145173215039 , v_f:  0.4790374596874225\n",
      "////////\n"
     ]
    },
    {
     "name": "stderr",
     "output_type": "stream",
     "text": [
      "\r",
      "Iterations:  53%|█████████████████▍               | 158/300 [03:22<02:52,  1.21s/it]"
     ]
    },
    {
     "name": "stdout",
     "output_type": "stream",
     "text": [
      "Epoch  157 , loss 0.3928600841877507\n",
      "Epoch  158 , loss 0.4016726922755148\n"
     ]
    },
    {
     "name": "stderr",
     "output_type": "stream",
     "text": [
      "\r",
      "Iterations:  53%|█████████████████▍               | 159/300 [03:23<03:02,  1.29s/it]"
     ]
    },
    {
     "name": "stdout",
     "output_type": "stream",
     "text": [
      "Epoch:  158\n",
      "t_loss:  0.4016726922755148 , v_loss:  0.740517795085907\n",
      "t_acc:  0.7205240174672489 , v_acc:  0.7023809523809523\n",
      "t_recall:  0.5514836396234872 , v_recall:  0.5333880229696473\n",
      "t_prec:  0.7368097186538523 , v_prec:  0.7496932515337423\n",
      "t_f:  0.518723465568486 , v_f:  0.4790374596874225\n",
      "////////\n"
     ]
    },
    {
     "name": "stderr",
     "output_type": "stream",
     "text": [
      "\r",
      "Iterations:  53%|█████████████████▌               | 160/300 [03:24<02:45,  1.18s/it]"
     ]
    },
    {
     "name": "stdout",
     "output_type": "stream",
     "text": [
      "Epoch  159 , loss 0.39225563377726314\n",
      "Epoch  160 , loss 0.39157334145377665\n"
     ]
    },
    {
     "name": "stderr",
     "output_type": "stream",
     "text": [
      "\r",
      "Iterations:  54%|█████████████████▋               | 161/300 [03:26<02:57,  1.28s/it]"
     ]
    },
    {
     "name": "stdout",
     "output_type": "stream",
     "text": [
      "Epoch:  160\n",
      "t_loss:  0.39157334145377665 , v_loss:  0.7360411733388901\n",
      "t_acc:  0.7267623206487835 , v_acc:  0.6964285714285714\n",
      "t_recall:  0.5597191095174062 , v_recall:  0.5290401968826908\n",
      "t_prec:  0.7649746555293782 , v_prec:  0.6820987654320987\n",
      "t_f:  0.5314191822656943 , v_f:  0.4757388484366395\n",
      "////////\n"
     ]
    },
    {
     "name": "stderr",
     "output_type": "stream",
     "text": [
      "\r",
      "Iterations:  54%|█████████████████▊               | 162/300 [03:27<02:43,  1.18s/it]"
     ]
    },
    {
     "name": "stdout",
     "output_type": "stream",
     "text": [
      "Epoch  161 , loss 0.39429696284088434\n",
      "Epoch  162 , loss 0.3897797757504033\n"
     ]
    },
    {
     "name": "stderr",
     "output_type": "stream",
     "text": [
      "\r",
      "Iterations:  54%|█████████████████▉               | 163/300 [03:28<02:59,  1.31s/it]"
     ]
    },
    {
     "name": "stdout",
     "output_type": "stream",
     "text": [
      "Epoch:  162\n",
      "t_loss:  0.3897797757504033 , v_loss:  0.7451778749624888\n",
      "t_acc:  0.7267623206487835 , v_acc:  0.7023809523809523\n",
      "t_recall:  0.5591416979852659 , v_recall:  0.5333880229696473\n",
      "t_prec:  0.7687453127578636 , v_prec:  0.7496932515337423\n",
      "t_f:  0.530119659492451 , v_f:  0.4790374596874225\n",
      "////////\n"
     ]
    },
    {
     "name": "stderr",
     "output_type": "stream",
     "text": [
      "\r",
      "Iterations:  55%|██████████████████               | 164/300 [03:30<02:51,  1.26s/it]"
     ]
    },
    {
     "name": "stdout",
     "output_type": "stream",
     "text": [
      "Epoch  163 , loss 0.39180078927208395\n",
      "Epoch  164 , loss 0.3997926741254096\n"
     ]
    },
    {
     "name": "stderr",
     "output_type": "stream",
     "text": [
      "\r",
      "Iterations:  55%|██████████████████▏              | 165/300 [03:31<02:59,  1.33s/it]"
     ]
    },
    {
     "name": "stdout",
     "output_type": "stream",
     "text": [
      "Epoch:  164\n",
      "t_loss:  0.3997926741254096 , v_loss:  0.7527797420819601\n",
      "t_acc:  0.7267623206487835 , v_acc:  0.7023809523809523\n",
      "t_recall:  0.5608739325816869 , v_recall:  0.5333880229696473\n",
      "t_prec:  0.7579906985443826 , v_prec:  0.7496932515337423\n",
      "t_f:  0.533989359160202 , v_f:  0.4790374596874225\n",
      "////////\n"
     ]
    },
    {
     "name": "stderr",
     "output_type": "stream",
     "text": [
      "\r",
      "Iterations:  55%|██████████████████▎              | 166/300 [03:32<02:43,  1.22s/it]"
     ]
    },
    {
     "name": "stdout",
     "output_type": "stream",
     "text": [
      "Epoch  165 , loss 0.3983980791241515\n",
      "Epoch  166 , loss 0.3895842295651342\n"
     ]
    },
    {
     "name": "stderr",
     "output_type": "stream",
     "text": [
      "\r",
      "Iterations:  56%|██████████████████▎              | 167/300 [03:34<02:52,  1.30s/it]"
     ]
    },
    {
     "name": "stdout",
     "output_type": "stream",
     "text": [
      "Epoch:  166\n",
      "t_loss:  0.3895842295651342 , v_loss:  0.750541533033053\n",
      "t_acc:  0.722707423580786 , v_acc:  0.7023809523809523\n",
      "t_recall:  0.5570943235757221 , v_recall:  0.5333880229696473\n",
      "t_prec:  0.7328851635163516 , v_prec:  0.7496932515337423\n",
      "t_f:  0.5293244339649282 , v_f:  0.4790374596874225\n",
      "////////\n"
     ]
    },
    {
     "name": "stderr",
     "output_type": "stream",
     "text": [
      "\r",
      "Iterations:  56%|██████████████████▍              | 168/300 [03:35<02:39,  1.21s/it]"
     ]
    },
    {
     "name": "stdout",
     "output_type": "stream",
     "text": [
      "Epoch  167 , loss 0.39625945979473637\n",
      "Epoch  168 , loss 0.3988381413852467\n"
     ]
    },
    {
     "name": "stderr",
     "output_type": "stream",
     "text": [
      "\r",
      "Iterations:  56%|██████████████████▌              | 169/300 [03:36<02:48,  1.28s/it]"
     ]
    },
    {
     "name": "stdout",
     "output_type": "stream",
     "text": [
      "Epoch:  168\n",
      "t_loss:  0.3988381413852467 , v_loss:  0.7497239857912064\n",
      "t_acc:  0.7199001871490954 , v_acc:  0.7023809523809523\n",
      "t_recall:  0.553345056258548 , v_recall:  0.5333880229696473\n",
      "t_prec:  0.721146387807337 , v_prec:  0.7496932515337423\n",
      "t_f:  0.5235886648380161 , v_f:  0.4790374596874225\n",
      "////////\n"
     ]
    },
    {
     "name": "stderr",
     "output_type": "stream",
     "text": [
      "\r",
      "Iterations:  57%|██████████████████▋              | 170/300 [03:37<02:36,  1.21s/it]"
     ]
    },
    {
     "name": "stdout",
     "output_type": "stream",
     "text": [
      "Epoch  169 , loss 0.3923962759036644\n",
      "Epoch  170 , loss 0.38874686523979785\n"
     ]
    },
    {
     "name": "stderr",
     "output_type": "stream",
     "text": [
      "\r",
      "Iterations:  57%|██████████████████▊              | 171/300 [03:39<02:48,  1.30s/it]"
     ]
    },
    {
     "name": "stdout",
     "output_type": "stream",
     "text": [
      "Epoch:  170\n",
      "t_loss:  0.38874686523979785 , v_loss:  0.7442806363105774\n",
      "t_acc:  0.7289457267623206 , v_acc:  0.7023809523809523\n",
      "t_recall:  0.5670620280660621 , v_recall:  0.5333880229696473\n",
      "t_prec:  0.7496457469092701 , v_prec:  0.7496932515337423\n",
      "t_f:  0.5454423976765143 , v_f:  0.4790374596874225\n",
      "////////\n"
     ]
    },
    {
     "name": "stderr",
     "output_type": "stream",
     "text": [
      "\r",
      "Iterations:  57%|██████████████████▉              | 172/300 [03:40<02:34,  1.20s/it]"
     ]
    },
    {
     "name": "stdout",
     "output_type": "stream",
     "text": [
      "Epoch  171 , loss 0.3905405375887366\n",
      "Epoch  172 , loss 0.3943630649762995\n"
     ]
    },
    {
     "name": "stderr",
     "output_type": "stream",
     "text": [
      "\r",
      "Iterations:  58%|███████████████████              | 173/300 [03:41<02:53,  1.36s/it]"
     ]
    },
    {
     "name": "stdout",
     "output_type": "stream",
     "text": [
      "Epoch:  172\n",
      "t_loss:  0.3943630649762995 , v_loss:  0.7514409124851227\n",
      "t_acc:  0.723955084217093 , v_acc:  0.7023809523809523\n",
      "t_recall:  0.5582794883287936 , v_recall:  0.5333880229696473\n",
      "t_prec:  0.7402931944318079 , v_prec:  0.7496932515337423\n",
      "t_f:  0.5308049842017454 , v_f:  0.4790374596874225\n",
      "////////\n"
     ]
    },
    {
     "name": "stderr",
     "output_type": "stream",
     "text": [
      "\r",
      "Iterations:  58%|███████████████████▏             | 174/300 [03:42<02:35,  1.24s/it]"
     ]
    },
    {
     "name": "stdout",
     "output_type": "stream",
     "text": [
      "Epoch  173 , loss 0.3944756260105208\n",
      "Epoch  174 , loss 0.39219605484429526\n"
     ]
    },
    {
     "name": "stderr",
     "output_type": "stream",
     "text": [
      "\r",
      "Iterations:  58%|███████████████████▎             | 175/300 [03:44<02:48,  1.35s/it]"
     ]
    },
    {
     "name": "stdout",
     "output_type": "stream",
     "text": [
      "Epoch:  174\n",
      "t_loss:  0.39219605484429526 , v_loss:  0.7415667672952017\n",
      "t_acc:  0.7233312538989395 , v_acc:  0.7023809523809523\n",
      "t_recall:  0.5575425530692227 , v_recall:  0.5333880229696473\n",
      "t_prec:  0.737254723561702 , v_prec:  0.7496932515337423\n",
      "t_f:  0.5297446564824273 , v_f:  0.4790374596874225\n",
      "////////\n"
     ]
    },
    {
     "name": "stderr",
     "output_type": "stream",
     "text": [
      "\r",
      "Iterations:  59%|███████████████████▎             | 176/300 [03:45<02:32,  1.23s/it]"
     ]
    },
    {
     "name": "stdout",
     "output_type": "stream",
     "text": [
      "Epoch  175 , loss 0.3853554174888368\n",
      "Epoch  176 , loss 0.3952976073704514\n"
     ]
    },
    {
     "name": "stderr",
     "output_type": "stream",
     "text": [
      "\r",
      "Iterations:  59%|███████████████████▍             | 177/300 [03:46<02:45,  1.35s/it]"
     ]
    },
    {
     "name": "stdout",
     "output_type": "stream",
     "text": [
      "Epoch:  176\n",
      "t_loss:  0.3952976073704514 , v_loss:  0.7482973337173462\n",
      "t_acc:  0.7298814722395508 , v_acc:  0.7023809523809523\n",
      "t_recall:  0.5662908434759623 , v_recall:  0.5333880229696473\n",
      "t_prec:  0.7633624035432172 , v_prec:  0.7496932515337423\n",
      "t_f:  0.5430504863777367 , v_f:  0.4790374596874225\n",
      "////////\n"
     ]
    },
    {
     "name": "stderr",
     "output_type": "stream",
     "text": [
      "\r",
      "Iterations:  59%|███████████████████▌             | 178/300 [03:47<02:29,  1.23s/it]"
     ]
    },
    {
     "name": "stdout",
     "output_type": "stream",
     "text": [
      "Epoch  177 , loss 0.39595773173313514\n",
      "Epoch  178 , loss 0.3928451701706531\n"
     ]
    },
    {
     "name": "stderr",
     "output_type": "stream",
     "text": [
      "\r",
      "Iterations:  60%|███████████████████▋             | 179/300 [03:49<02:37,  1.30s/it]"
     ]
    },
    {
     "name": "stdout",
     "output_type": "stream",
     "text": [
      "Epoch:  178\n",
      "t_loss:  0.3928451701706531 , v_loss:  0.7482200016578039\n",
      "t_acc:  0.7242669993761697 , v_acc:  0.7023809523809523\n",
      "t_recall:  0.5596584261398246 , v_recall:  0.5333880229696473\n",
      "t_prec:  0.7370129217843934 , v_prec:  0.7496932515337423\n",
      "t_f:  0.5335526904825857 , v_f:  0.4790374596874225\n",
      "////////\n"
     ]
    },
    {
     "name": "stderr",
     "output_type": "stream",
     "text": [
      "\r",
      "Iterations:  60%|███████████████████▊             | 180/300 [03:50<02:23,  1.19s/it]"
     ]
    },
    {
     "name": "stdout",
     "output_type": "stream",
     "text": [
      "Epoch  179 , loss 0.39186838649067224\n",
      "Epoch  180 , loss 0.39429215181107613\n"
     ]
    },
    {
     "name": "stderr",
     "output_type": "stream",
     "text": [
      "\r",
      "Iterations:  60%|███████████████████▉             | 181/300 [03:51<02:32,  1.28s/it]"
     ]
    },
    {
     "name": "stdout",
     "output_type": "stream",
     "text": [
      "Epoch:  180\n",
      "t_loss:  0.39429215181107613 , v_loss:  0.7410214294989904\n",
      "t_acc:  0.7242669993761697 , v_acc:  0.7023809523809523\n",
      "t_recall:  0.5585036030755439 , v_recall:  0.5384741591468417\n",
      "t_prec:  0.7425315746442314 , v_prec:  0.7080745341614907\n",
      "t_f:  0.5310160130476684 , v_f:  0.49275362318840576\n",
      "////////\n"
     ]
    },
    {
     "name": "stderr",
     "output_type": "stream",
     "text": [
      "\r",
      "Iterations:  61%|████████████████████             | 182/300 [03:52<02:17,  1.17s/it]"
     ]
    },
    {
     "name": "stdout",
     "output_type": "stream",
     "text": [
      "Epoch  181 , loss 0.3900090064488205\n",
      "Epoch  182 , loss 0.39345721608283474\n"
     ]
    },
    {
     "name": "stderr",
     "output_type": "stream",
     "text": [
      "\r",
      "Iterations:  61%|████████████████████▏            | 183/300 [03:54<02:31,  1.29s/it]"
     ]
    },
    {
     "name": "stdout",
     "output_type": "stream",
     "text": [
      "Epoch:  182\n",
      "t_loss:  0.39345721608283474 , v_loss:  0.7431247482697169\n",
      "t_acc:  0.7248908296943232 , v_acc:  0.7083333333333334\n",
      "t_recall:  0.5615501844636762 , v_recall:  0.5428219852337982\n",
      "t_prec:  0.7347991013884285 , v_prec:  0.7685185185185186\n",
      "t_f:  0.5371020084234347 , v_f:  0.49629810928226153\n",
      "////////\n"
     ]
    },
    {
     "name": "stderr",
     "output_type": "stream",
     "text": [
      "\r",
      "Iterations:  61%|████████████████████▏            | 184/300 [03:55<02:18,  1.19s/it]"
     ]
    },
    {
     "name": "stdout",
     "output_type": "stream",
     "text": [
      "Epoch  183 , loss 0.3869050799631605\n",
      "Epoch  184 , loss 0.39823731371000703\n"
     ]
    },
    {
     "name": "stderr",
     "output_type": "stream",
     "text": [
      "\r",
      "Iterations:  62%|████████████████████▎            | 185/300 [03:56<02:32,  1.33s/it]"
     ]
    },
    {
     "name": "stdout",
     "output_type": "stream",
     "text": [
      "Epoch:  184\n",
      "t_loss:  0.39823731371000703 , v_loss:  0.7485620180765787\n",
      "t_acc:  0.7192763568309419 , v_acc:  0.7023809523809523\n",
      "t_recall:  0.5537629440632579 , v_recall:  0.5333880229696473\n",
      "t_prec:  0.7135911602209944 , v_prec:  0.7496932515337423\n",
      "t_f:  0.5251102052424516 , v_f:  0.4790374596874225\n",
      "////////\n"
     ]
    },
    {
     "name": "stderr",
     "output_type": "stream",
     "text": [
      "\r",
      "Iterations:  62%|████████████████████▍            | 186/300 [03:57<02:21,  1.25s/it]"
     ]
    },
    {
     "name": "stdout",
     "output_type": "stream",
     "text": [
      "Epoch  185 , loss 0.38661666418991836\n",
      "Epoch  186 , loss 0.3871840577499539\n"
     ]
    },
    {
     "name": "stderr",
     "output_type": "stream",
     "text": [
      "\r",
      "Iterations:  62%|████████████████████▌            | 187/300 [03:59<02:33,  1.36s/it]"
     ]
    },
    {
     "name": "stdout",
     "output_type": "stream",
     "text": [
      "Epoch:  186\n",
      "t_loss:  0.3871840577499539 , v_loss:  0.7572912673155466\n",
      "t_acc:  0.7276980661260137 , v_acc:  0.6964285714285714\n",
      "t_recall:  0.5647220402487099 , v_recall:  0.5290401968826908\n",
      "t_prec:  0.7481300142407964 , v_prec:  0.6820987654320987\n",
      "t_f:  0.5415188611449062 , v_f:  0.4757388484366395\n",
      "////////\n"
     ]
    },
    {
     "name": "stderr",
     "output_type": "stream",
     "text": [
      "\r",
      "Iterations:  63%|████████████████████▋            | 188/300 [04:00<02:20,  1.25s/it]"
     ]
    },
    {
     "name": "stdout",
     "output_type": "stream",
     "text": [
      "Epoch  187 , loss 0.38903948314049663\n",
      "Epoch  188 , loss 0.39439724239648555\n"
     ]
    },
    {
     "name": "stderr",
     "output_type": "stream",
     "text": [
      "\r",
      "Iterations:  63%|████████████████████▊            | 189/300 [04:02<02:34,  1.39s/it]"
     ]
    },
    {
     "name": "stdout",
     "output_type": "stream",
     "text": [
      "Epoch:  188\n",
      "t_loss:  0.39439724239648555 , v_loss:  0.7515083054701487\n",
      "t_acc:  0.7252027448533999 , v_acc:  0.7083333333333334\n",
      "t_recall:  0.5629291222747071 , v_recall:  0.5428219852337982\n",
      "t_prec:  0.7320242050308495 , v_prec:  0.7685185185185186\n",
      "t_f:  0.5397769442829976 , v_f:  0.49629810928226153\n",
      "////////\n"
     ]
    },
    {
     "name": "stderr",
     "output_type": "stream",
     "text": [
      "\r",
      "Iterations:  63%|████████████████████▉            | 190/300 [04:03<02:20,  1.28s/it]"
     ]
    },
    {
     "name": "stdout",
     "output_type": "stream",
     "text": [
      "Epoch  189 , loss 0.3889759410830105\n",
      "Epoch  190 , loss 0.3870215734430388\n"
     ]
    },
    {
     "name": "stderr",
     "output_type": "stream",
     "text": [
      "\r",
      "Iterations:  64%|█████████████████████            | 191/300 [04:04<02:31,  1.39s/it]"
     ]
    },
    {
     "name": "stdout",
     "output_type": "stream",
     "text": [
      "Epoch:  190\n",
      "t_loss:  0.3870215734430388 , v_loss:  0.7457816501458486\n",
      "t_acc:  0.730817217716781 , v_acc:  0.7023809523809523\n",
      "t_recall:  0.5695615396108449 , v_recall:  0.5384741591468417\n",
      "t_prec:  0.7564784053156146 , v_prec:  0.7080745341614907\n",
      "t_f:  0.5491799125042303 , v_f:  0.49275362318840576\n",
      "////////\n"
     ]
    },
    {
     "name": "stderr",
     "output_type": "stream",
     "text": [
      "\r",
      "Iterations:  64%|█████████████████████            | 192/300 [04:05<02:18,  1.29s/it]"
     ]
    },
    {
     "name": "stdout",
     "output_type": "stream",
     "text": [
      "Epoch  191 , loss 0.3840070057149027\n",
      "Epoch  192 , loss 0.3866679303201975\n"
     ]
    },
    {
     "name": "stderr",
     "output_type": "stream",
     "text": [
      "\r",
      "Iterations:  64%|█████████████████████▏           | 193/300 [04:07<02:22,  1.34s/it]"
     ]
    },
    {
     "name": "stdout",
     "output_type": "stream",
     "text": [
      "Epoch:  192\n",
      "t_loss:  0.3866679303201975 , v_loss:  0.7372273504734039\n",
      "t_acc:  0.7317529631940112 , v_acc:  0.6904761904761905\n",
      "t_recall:  0.5722548242135871 , v_recall:  0.5246923707957343\n",
      "t_prec:  0.7531769849208996 , v_prec:  0.6335403726708074\n",
      "t_f:  0.553991840643431 , v_f:  0.47246376811594204\n",
      "////////\n"
     ]
    },
    {
     "name": "stderr",
     "output_type": "stream",
     "text": [
      "\r",
      "Iterations:  65%|█████████████████████▎           | 194/300 [04:08<02:07,  1.20s/it]"
     ]
    },
    {
     "name": "stdout",
     "output_type": "stream",
     "text": [
      "Epoch  193 , loss 0.4012904681411444\n",
      "Epoch  194 , loss 0.38689155029315575\n"
     ]
    },
    {
     "name": "stderr",
     "output_type": "stream",
     "text": [
      "\r",
      "Iterations:  65%|█████████████████████▍           | 195/300 [04:10<02:22,  1.35s/it]"
     ]
    },
    {
     "name": "stdout",
     "output_type": "stream",
     "text": [
      "Epoch:  194\n",
      "t_loss:  0.38689155029315575 , v_loss:  0.7355438619852066\n",
      "t_acc:  0.7326887086712415 , v_acc:  0.6964285714285714\n",
      "t_recall:  0.57610293188061 , v_recall:  0.5341263330598852\n",
      "t_prec:  0.7457994298271664 , v_prec:  0.6625\n",
      "t_f:  0.560984090050973 , v_f:  0.4892399403874814\n",
      "////////\n"
     ]
    },
    {
     "name": "stderr",
     "output_type": "stream",
     "text": [
      "\r",
      "Iterations:  65%|█████████████████████▌           | 196/300 [04:10<02:07,  1.23s/it]"
     ]
    },
    {
     "name": "stdout",
     "output_type": "stream",
     "text": [
      "Epoch  195 , loss 0.39101946353912354\n",
      "Epoch  196 , loss 0.38258348054745617\n"
     ]
    },
    {
     "name": "stderr",
     "output_type": "stream",
     "text": [
      "\r",
      "Iterations:  66%|█████████████████████▋           | 197/300 [04:12<02:17,  1.34s/it]"
     ]
    },
    {
     "name": "stdout",
     "output_type": "stream",
     "text": [
      "Epoch:  196\n",
      "t_loss:  0.38258348054745617 , v_loss:  0.7449647734562556\n",
      "t_acc:  0.7379912663755459 , v_acc:  0.7023809523809523\n",
      "t_recall:  0.5822225287039272 , v_recall:  0.5384741591468417\n",
      "t_prec:  0.7666554847366656 , v_prec:  0.7080745341614907\n",
      "t_f:  0.5694167306216423 , v_f:  0.49275362318840576\n",
      "////////\n"
     ]
    },
    {
     "name": "stderr",
     "output_type": "stream",
     "text": [
      "\r",
      "Iterations:  66%|█████████████████████▊           | 198/300 [04:13<02:02,  1.20s/it]"
     ]
    },
    {
     "name": "stdout",
     "output_type": "stream",
     "text": [
      "Epoch  197 , loss 0.38525569322062475\n",
      "Epoch  198 , loss 0.3814430999405244\n"
     ]
    },
    {
     "name": "stderr",
     "output_type": "stream",
     "text": [
      "\r",
      "Iterations:  66%|█████████████████████▉           | 199/300 [04:14<02:12,  1.31s/it]"
     ]
    },
    {
     "name": "stdout",
     "output_type": "stream",
     "text": [
      "Epoch:  198\n",
      "t_loss:  0.3814430999405244 , v_loss:  0.7613899856805801\n",
      "t_acc:  0.7283218964441672 , v_acc:  0.6964285714285714\n",
      "t_recall:  0.5683460331689825 , v_recall:  0.5290401968826908\n",
      "t_prec:  0.7384089392928619 , v_prec:  0.6820987654320987\n",
      "t_f:  0.5485826088235727 , v_f:  0.4757388484366395\n",
      "////////\n"
     ]
    },
    {
     "name": "stderr",
     "output_type": "stream",
     "text": [
      "\r",
      "Iterations:  67%|██████████████████████           | 200/300 [04:15<02:00,  1.20s/it]"
     ]
    },
    {
     "name": "stdout",
     "output_type": "stream",
     "text": [
      "Epoch  199 , loss 0.39867730643235\n",
      "Epoch  200 , loss 0.3842727468878615\n"
     ]
    },
    {
     "name": "stderr",
     "output_type": "stream",
     "text": [
      "\r",
      "Iterations:  67%|██████████████████████           | 201/300 [04:17<02:08,  1.30s/it]"
     ]
    },
    {
     "name": "stdout",
     "output_type": "stream",
     "text": [
      "Epoch:  200\n",
      "t_loss:  0.3842727468878615 , v_loss:  0.7377948611974716\n",
      "t_acc:  0.7314410480349345 , v_acc:  0.6904761904761905\n",
      "t_recall:  0.5714532979346965 , v_recall:  0.5297785069729286\n",
      "t_prec:  0.7537964886154329 , v_prec:  0.6268343815513626\n",
      "t_f:  0.5525936644965475 , v_f:  0.4857546503414175\n",
      "////////\n"
     ]
    },
    {
     "name": "stderr",
     "output_type": "stream",
     "text": [
      "\r",
      "Iterations:  67%|██████████████████████▏          | 202/300 [04:18<02:06,  1.29s/it]"
     ]
    },
    {
     "name": "stdout",
     "output_type": "stream",
     "text": [
      "Epoch  201 , loss 0.3871326434846018\n",
      "Epoch  202 , loss 0.38491770479024623\n"
     ]
    },
    {
     "name": "stderr",
     "output_type": "stream",
     "text": [
      "\r",
      "Iterations:  68%|██████████████████████▎          | 203/300 [04:20<02:09,  1.34s/it]"
     ]
    },
    {
     "name": "stdout",
     "output_type": "stream",
     "text": [
      "Epoch:  202\n",
      "t_loss:  0.38491770479024623 , v_loss:  0.7525692830483118\n",
      "t_acc:  0.7386150966936993 , v_acc:  0.6845238095238095\n",
      "t_recall:  0.5835368754956384 , v_recall:  0.5152584085315833\n",
      "t_prec:  0.7665435001679544 , v_prec:  0.595679012345679\n",
      "t_f:  0.5715402064801914 , v_f:  0.4551795875910175\n",
      "////////\n"
     ]
    },
    {
     "name": "stderr",
     "output_type": "stream",
     "text": [
      "\r",
      "Iterations:  68%|██████████████████████▍          | 204/300 [04:21<02:01,  1.27s/it]"
     ]
    },
    {
     "name": "stdout",
     "output_type": "stream",
     "text": [
      "Epoch  203 , loss 0.38422228425156835\n",
      "Epoch  204 , loss 0.39088447771820367\n"
     ]
    },
    {
     "name": "stderr",
     "output_type": "stream",
     "text": [
      "\r",
      "Iterations:  68%|██████████████████████▌          | 205/300 [04:22<02:05,  1.33s/it]"
     ]
    },
    {
     "name": "stdout",
     "output_type": "stream",
     "text": [
      "Epoch:  204\n",
      "t_loss:  0.39088447771820367 , v_loss:  0.7606879770755768\n",
      "t_acc:  0.7336244541484717 , v_acc:  0.6904761904761905\n",
      "t_recall:  0.5773526876530014 , v_recall:  0.5196062346185398\n",
      "t_prec:  0.7488188242809801 , v_prec:  0.6466257668711657\n",
      "t_f:  0.5628009619284557 , v_f:  0.45819895807491934\n",
      "////////\n"
     ]
    },
    {
     "name": "stderr",
     "output_type": "stream",
     "text": [
      "\r",
      "Iterations:  69%|██████████████████████▋          | 206/300 [04:23<01:58,  1.26s/it]"
     ]
    },
    {
     "name": "stdout",
     "output_type": "stream",
     "text": [
      "Epoch  205 , loss 0.38366851941043256\n",
      "Epoch  206 , loss 0.3800895798440073\n"
     ]
    },
    {
     "name": "stderr",
     "output_type": "stream",
     "text": [
      "\r",
      "Iterations:  69%|██████████████████████▊          | 207/300 [04:25<02:04,  1.34s/it]"
     ]
    },
    {
     "name": "stdout",
     "output_type": "stream",
     "text": [
      "Epoch:  206\n",
      "t_loss:  0.3800895798440073 , v_loss:  0.7475512723128\n",
      "t_acc:  0.735495945102932 , v_acc:  0.6964285714285714\n",
      "t_recall:  0.5769651415370823 , v_recall:  0.5341263330598852\n",
      "t_prec:  0.7672792409634515 , v_prec:  0.6625\n",
      "t_f:  0.5607901321367273 , v_f:  0.4892399403874814\n",
      "////////\n"
     ]
    },
    {
     "name": "stderr",
     "output_type": "stream",
     "text": [
      "\r",
      "Iterations:  69%|██████████████████████▉          | 208/300 [04:26<01:52,  1.22s/it]"
     ]
    },
    {
     "name": "stdout",
     "output_type": "stream",
     "text": [
      "Epoch  207 , loss 0.38266899188359577\n",
      "Epoch  208 , loss 0.389313527766396\n"
     ]
    },
    {
     "name": "stderr",
     "output_type": "stream",
     "text": [
      "\r",
      "Iterations:  70%|██████████████████████▉          | 209/300 [04:27<02:00,  1.33s/it]"
     ]
    },
    {
     "name": "stdout",
     "output_type": "stream",
     "text": [
      "Epoch:  208\n",
      "t_loss:  0.389313527766396 , v_loss:  0.7504409352938334\n",
      "t_acc:  0.734248284466625 , v_acc:  0.6904761904761905\n",
      "t_recall:  0.5772235056143618 , v_recall:  0.5246923707957343\n",
      "t_prec:  0.7546344088466466 , v_prec:  0.6335403726708074\n",
      "t_f:  0.5621409298889961 , v_f:  0.47246376811594204\n",
      "////////\n"
     ]
    },
    {
     "name": "stderr",
     "output_type": "stream",
     "text": [
      "\r",
      "Iterations:  70%|███████████████████████          | 210/300 [04:28<01:46,  1.19s/it]"
     ]
    },
    {
     "name": "stdout",
     "output_type": "stream",
     "text": [
      "Epoch  209 , loss 0.38390493626688044\n",
      "Epoch  210 , loss 0.3831844101933872\n"
     ]
    },
    {
     "name": "stderr",
     "output_type": "stream",
     "text": [
      "\r",
      "Iterations:  70%|███████████████████████▏         | 211/300 [04:30<01:59,  1.34s/it]"
     ]
    },
    {
     "name": "stdout",
     "output_type": "stream",
     "text": [
      "Epoch:  210\n",
      "t_loss:  0.3831844101933872 , v_loss:  0.7530691375335058\n",
      "t_acc:  0.7358078602620087 , v_acc:  0.6904761904761905\n",
      "t_recall:  0.5789214908802538 , v_recall:  0.5246923707957343\n",
      "t_prec:  0.7613286244900445 , v_prec:  0.6335403726708074\n",
      "t_f:  0.564429772958216 , v_f:  0.47246376811594204\n",
      "////////\n"
     ]
    },
    {
     "name": "stderr",
     "output_type": "stream",
     "text": [
      "\r",
      "Iterations:  71%|███████████████████████▎         | 212/300 [04:31<01:48,  1.23s/it]"
     ]
    },
    {
     "name": "stdout",
     "output_type": "stream",
     "text": [
      "Epoch  211 , loss 0.3850986460844676\n",
      "Epoch  212 , loss 0.3777436250272919\n"
     ]
    },
    {
     "name": "stderr",
     "output_type": "stream",
     "text": [
      "\r",
      "Iterations:  71%|███████████████████████▍         | 213/300 [04:33<01:59,  1.37s/it]"
     ]
    },
    {
     "name": "stdout",
     "output_type": "stream",
     "text": [
      "Epoch:  212\n",
      "t_loss:  0.3777436250272919 , v_loss:  0.7565133273601532\n",
      "t_acc:  0.7373674360573924 , v_acc:  0.6904761904761905\n",
      "t_recall:  0.5811968876782861 , v_recall:  0.5246923707957343\n",
      "t_prec:  0.7655127937234764 , v_prec:  0.6335403726708074\n",
      "t_f:  0.5678368179160639 , v_f:  0.47246376811594204\n",
      "////////\n"
     ]
    },
    {
     "name": "stderr",
     "output_type": "stream",
     "text": [
      "\r",
      "Iterations:  71%|███████████████████████▌         | 214/300 [04:34<01:48,  1.27s/it]"
     ]
    },
    {
     "name": "stdout",
     "output_type": "stream",
     "text": [
      "Epoch  213 , loss 0.38353609103782504\n",
      "Epoch  214 , loss 0.3802475593253678\n"
     ]
    },
    {
     "name": "stderr",
     "output_type": "stream",
     "text": [
      "\r",
      "Iterations:  72%|███████████████████████▋         | 215/300 [04:35<01:56,  1.37s/it]"
     ]
    },
    {
     "name": "stdout",
     "output_type": "stream",
     "text": [
      "Epoch:  214\n",
      "t_loss:  0.3802475593253678 , v_loss:  0.7482482840617498\n",
      "t_acc:  0.7367436057392389 , v_acc:  0.6845238095238095\n",
      "t_recall:  0.5810373639508557 , v_recall:  0.5152584085315833\n",
      "t_prec:  0.7606712479278592 , v_prec:  0.595679012345679\n",
      "t_f:  0.5679203886037666 , v_f:  0.4551795875910175\n",
      "////////\n"
     ]
    },
    {
     "name": "stderr",
     "output_type": "stream",
     "text": [
      "\r",
      "Iterations:  72%|███████████████████████▊         | 216/300 [04:36<01:46,  1.27s/it]"
     ]
    },
    {
     "name": "stdout",
     "output_type": "stream",
     "text": [
      "Epoch  215 , loss 0.38324954988909704\n",
      "Epoch  216 , loss 0.38330573778526456\n"
     ]
    },
    {
     "name": "stderr",
     "output_type": "stream",
     "text": [
      "\r",
      "Iterations:  72%|███████████████████████▊         | 217/300 [04:38<01:50,  1.33s/it]"
     ]
    },
    {
     "name": "stdout",
     "output_type": "stream",
     "text": [
      "Epoch:  216\n",
      "t_loss:  0.38330573778526456 , v_loss:  0.7452192902565002\n",
      "t_acc:  0.7370555208983156 , v_acc:  0.6964285714285714\n",
      "t_recall:  0.584437242124378 , v_recall:  0.5341263330598852\n",
      "t_prec:  0.7503735086915745 , v_prec:  0.6625\n",
      "t_f:  0.5741261587542803 , v_f:  0.4892399403874814\n",
      "////////\n"
     ]
    },
    {
     "name": "stderr",
     "output_type": "stream",
     "text": [
      "\r",
      "Iterations:  73%|███████████████████████▉         | 218/300 [04:39<01:39,  1.22s/it]"
     ]
    },
    {
     "name": "stdout",
     "output_type": "stream",
     "text": [
      "Epoch  217 , loss 0.37657491687466116\n",
      "Epoch  218 , loss 0.38651582657122147\n"
     ]
    },
    {
     "name": "stderr",
     "output_type": "stream",
     "text": [
      "\r",
      "Iterations:  73%|████████████████████████         | 219/300 [04:40<01:46,  1.31s/it]"
     ]
    },
    {
     "name": "stdout",
     "output_type": "stream",
     "text": [
      "Epoch:  218\n",
      "t_loss:  0.38651582657122147 , v_loss:  0.7612450122833252\n",
      "t_acc:  0.7301933873986276 , v_acc:  0.6845238095238095\n",
      "t_recall:  0.5734438966083968 , v_recall:  0.5152584085315833\n",
      "t_prec:  0.7352883131266716 , v_prec:  0.595679012345679\n",
      "t_f:  0.5574527557729468 , v_f:  0.4551795875910175\n",
      "////////\n"
     ]
    },
    {
     "name": "stderr",
     "output_type": "stream",
     "text": [
      "\r",
      "Iterations:  73%|████████████████████████▏        | 220/300 [04:41<01:36,  1.21s/it]"
     ]
    },
    {
     "name": "stdout",
     "output_type": "stream",
     "text": [
      "Epoch  219 , loss 0.3851172941572526\n",
      "Epoch  220 , loss 0.38079456722035127\n"
     ]
    },
    {
     "name": "stderr",
     "output_type": "stream",
     "text": [
      "\r",
      "Iterations:  74%|████████████████████████▎        | 221/300 [04:43<01:45,  1.34s/it]"
     ]
    },
    {
     "name": "stdout",
     "output_type": "stream",
     "text": [
      "Epoch:  220\n",
      "t_loss:  0.38079456722035127 , v_loss:  0.7523686985174814\n",
      "t_acc:  0.7339363693075484 , v_acc:  0.6964285714285714\n",
      "t_recall:  0.5767106851015412 , v_recall:  0.5341263330598852\n",
      "t_prec:  0.7540080983985873 , v_prec:  0.6625\n",
      "t_f:  0.5613442695789354 , v_f:  0.4892399403874814\n",
      "////////\n"
     ]
    },
    {
     "name": "stderr",
     "output_type": "stream",
     "text": [
      "\r",
      "Iterations:  74%|████████████████████████▍        | 222/300 [04:44<01:36,  1.24s/it]"
     ]
    },
    {
     "name": "stdout",
     "output_type": "stream",
     "text": [
      "Epoch  221 , loss 0.386063619279394\n",
      "Epoch  222 , loss 0.3834828944767223\n"
     ]
    },
    {
     "name": "stderr",
     "output_type": "stream",
     "text": [
      "\r",
      "Iterations:  74%|████████████████████████▌        | 223/300 [04:46<01:48,  1.41s/it]"
     ]
    },
    {
     "name": "stdout",
     "output_type": "stream",
     "text": [
      "Epoch:  222\n",
      "t_loss:  0.3834828944767223 , v_loss:  0.7594636877377828\n",
      "t_acc:  0.734248284466625 , v_acc:  0.6845238095238095\n",
      "t_recall:  0.5789557402107828 , v_recall:  0.5152584085315833\n",
      "t_prec:  0.7479345583787709 , v_prec:  0.595679012345679\n",
      "t_f:  0.5654908857679524 , v_f:  0.4551795875910175\n",
      "////////\n"
     ]
    },
    {
     "name": "stderr",
     "output_type": "stream",
     "text": [
      "\r",
      "Iterations:  75%|████████████████████████▋        | 224/300 [04:47<01:37,  1.28s/it]"
     ]
    },
    {
     "name": "stdout",
     "output_type": "stream",
     "text": [
      "Epoch  223 , loss 0.38397007420951246\n",
      "Epoch  224 , loss 0.38965480584724277\n"
     ]
    },
    {
     "name": "stderr",
     "output_type": "stream",
     "text": [
      "\r",
      "Iterations:  75%|████████████████████████▊        | 225/300 [04:48<01:44,  1.39s/it]"
     ]
    },
    {
     "name": "stdout",
     "output_type": "stream",
     "text": [
      "Epoch:  224\n",
      "t_loss:  0.38965480584724277 , v_loss:  0.7443647086620331\n",
      "t_acc:  0.7404865876481597 , v_acc:  0.6964285714285714\n",
      "t_recall:  0.5877686216368422 , v_recall:  0.5341263330598852\n",
      "t_prec:  0.7651584910744171 , v_prec:  0.6625\n",
      "t_f:  0.5783640717184728 , v_f:  0.4892399403874814\n",
      "////////\n"
     ]
    },
    {
     "name": "stderr",
     "output_type": "stream",
     "text": [
      "\r",
      "Iterations:  75%|████████████████████████▊        | 226/300 [04:49<01:33,  1.27s/it]"
     ]
    },
    {
     "name": "stdout",
     "output_type": "stream",
     "text": [
      "Epoch  225 , loss 0.3804486350101583\n",
      "Epoch  226 , loss 0.3797292011041267\n"
     ]
    },
    {
     "name": "stderr",
     "output_type": "stream",
     "text": [
      "\r",
      "Iterations:  76%|████████████████████████▉        | 227/300 [04:51<01:37,  1.33s/it]"
     ]
    },
    {
     "name": "stdout",
     "output_type": "stream",
     "text": [
      "Epoch:  226\n",
      "t_loss:  0.3797292011041267 , v_loss:  0.7548241764307022\n",
      "t_acc:  0.7351840299438552 , v_acc:  0.6845238095238095\n",
      "t_recall:  0.5813603190474549 , v_recall:  0.5152584085315833\n",
      "t_prec:  0.7467307413479662 , v_prec:  0.595679012345679\n",
      "t_f:  0.5694782686405216 , v_f:  0.4551795875910175\n",
      "////////\n"
     ]
    },
    {
     "name": "stderr",
     "output_type": "stream",
     "text": [
      "\r",
      "Iterations:  76%|█████████████████████████        | 228/300 [04:52<01:28,  1.23s/it]"
     ]
    },
    {
     "name": "stdout",
     "output_type": "stream",
     "text": [
      "Epoch  227 , loss 0.37997619427886664\n",
      "Epoch  228 , loss 0.3912259197118236\n"
     ]
    },
    {
     "name": "stderr",
     "output_type": "stream",
     "text": [
      "\r",
      "Iterations:  76%|█████████████████████████▏       | 229/300 [04:53<01:32,  1.30s/it]"
     ]
    },
    {
     "name": "stdout",
     "output_type": "stream",
     "text": [
      "Epoch:  228\n",
      "t_loss:  0.3912259197118236 , v_loss:  0.7598357200622559\n",
      "t_acc:  0.7379912663755459 , v_acc:  0.6904761904761905\n",
      "t_recall:  0.583666057534278 , v_recall:  0.5246923707957343\n",
      "t_prec:  0.7606651532187028 , v_prec:  0.6335403726708074\n",
      "t_f:  0.5721543843594803 , v_f:  0.47246376811594204\n",
      "////////\n"
     ]
    },
    {
     "name": "stderr",
     "output_type": "stream",
     "text": [
      "\r",
      "Iterations:  77%|█████████████████████████▎       | 230/300 [04:54<01:25,  1.22s/it]"
     ]
    },
    {
     "name": "stdout",
     "output_type": "stream",
     "text": [
      "Epoch  229 , loss 0.376994689597803\n",
      "Epoch  230 , loss 0.39212285595781665\n"
     ]
    },
    {
     "name": "stderr",
     "output_type": "stream",
     "text": [
      "\r",
      "Iterations:  77%|█████████████████████████▍       | 231/300 [04:56<01:28,  1.29s/it]"
     ]
    },
    {
     "name": "stdout",
     "output_type": "stream",
     "text": [
      "Epoch:  230\n",
      "t_loss:  0.39212285595781665 , v_loss:  0.7787857453028361\n",
      "t_acc:  0.735495945102932 , v_acc:  0.6904761904761905\n",
      "t_recall:  0.581295728028135 , v_recall:  0.5196062346185398\n",
      "t_prec:  0.7493770386384117 , v_prec:  0.6466257668711657\n",
      "t_f:  0.5691715163543449 , v_f:  0.45819895807491934\n",
      "////////\n"
     ]
    },
    {
     "name": "stderr",
     "output_type": "stream",
     "text": [
      "\r",
      "Iterations:  77%|█████████████████████████▌       | 232/300 [04:57<01:19,  1.17s/it]"
     ]
    },
    {
     "name": "stdout",
     "output_type": "stream",
     "text": [
      "Epoch  231 , loss 0.38088548592492644\n",
      "Epoch  232 , loss 0.3848949185773438\n"
     ]
    },
    {
     "name": "stderr",
     "output_type": "stream",
     "text": [
      "\r",
      "Iterations:  78%|█████████████████████████▋       | 233/300 [04:58<01:25,  1.28s/it]"
     ]
    },
    {
     "name": "stdout",
     "output_type": "stream",
     "text": [
      "Epoch:  232\n",
      "t_loss:  0.3848949185773438 , v_loss:  0.7498427530129751\n",
      "t_acc:  0.7432938240798502 , v_acc:  0.6964285714285714\n",
      "t_recall:  0.5915178889540162 , v_recall:  0.5392124692370796\n",
      "t_prec:  0.773390463634366 , v_prec:  0.65126582278481\n",
      "t_f:  0.5837093463754993 , v_f:  0.5018315018315018\n",
      "////////\n"
     ]
    },
    {
     "name": "stderr",
     "output_type": "stream",
     "text": [
      "\r",
      "Iterations:  78%|█████████████████████████▋       | 234/300 [04:59<01:19,  1.21s/it]"
     ]
    },
    {
     "name": "stdout",
     "output_type": "stream",
     "text": [
      "Epoch  233 , loss 0.37771254251984987\n",
      "Epoch  234 , loss 0.3803089544469235\n"
     ]
    },
    {
     "name": "stderr",
     "output_type": "stream",
     "text": [
      "\r",
      "Iterations:  78%|█████████████████████████▊       | 235/300 [05:01<01:26,  1.34s/it]"
     ]
    },
    {
     "name": "stdout",
     "output_type": "stream",
     "text": [
      "Epoch:  234\n",
      "t_loss:  0.3803089544469235 , v_loss:  0.7631999403238297\n",
      "t_acc:  0.7376793512164691 , v_acc:  0.6904761904761905\n",
      "t_recall:  0.5817097081911067 , v_recall:  0.5246923707957343\n",
      "t_prec:  0.7660860999329309 , v_prec:  0.6335403726708074\n",
      "t_f:  0.5686273505944512 , v_f:  0.47246376811594204\n",
      "////////\n"
     ]
    },
    {
     "name": "stderr",
     "output_type": "stream",
     "text": [
      "\r",
      "Iterations:  79%|█████████████████████████▉       | 236/300 [05:02<01:21,  1.27s/it]"
     ]
    },
    {
     "name": "stdout",
     "output_type": "stream",
     "text": [
      "Epoch  235 , loss 0.37502609134889114\n",
      "Epoch  236 , loss 0.3759099975520489\n"
     ]
    },
    {
     "name": "stderr",
     "output_type": "stream",
     "text": [
      "\r",
      "Iterations:  79%|██████████████████████████       | 237/300 [05:03<01:23,  1.33s/it]"
     ]
    },
    {
     "name": "stdout",
     "output_type": "stream",
     "text": [
      "Epoch:  236\n",
      "t_loss:  0.3759099975520489 , v_loss:  0.7559915582338969\n",
      "t_acc:  0.7442295695570805 , v_acc:  0.6964285714285714\n",
      "t_recall:  0.5942111735567585 , v_recall:  0.5341263330598852\n",
      "t_prec:  0.7703950293774979 , v_prec:  0.6625\n",
      "t_f:  0.588057213057213 , v_f:  0.4892399403874814\n",
      "////////\n"
     ]
    },
    {
     "name": "stderr",
     "output_type": "stream",
     "text": [
      "\r",
      "Iterations:  79%|██████████████████████████▏      | 238/300 [05:04<01:15,  1.22s/it]"
     ]
    },
    {
     "name": "stdout",
     "output_type": "stream",
     "text": [
      "Epoch  237 , loss 0.3778141999945921\n",
      "Epoch  238 , loss 0.3897315815967672\n"
     ]
    },
    {
     "name": "stderr",
     "output_type": "stream",
     "text": [
      "\r",
      "Iterations:  80%|██████████████████████████▎      | 239/300 [05:06<01:20,  1.31s/it]"
     ]
    },
    {
     "name": "stdout",
     "output_type": "stream",
     "text": [
      "Epoch:  238\n",
      "t_loss:  0.3897315815967672 , v_loss:  0.7519970685243607\n",
      "t_acc:  0.7429819089207735 , v_acc:  0.7023809523809523\n",
      "t_recall:  0.5904276569090554 , v_recall:  0.5435602953240362\n",
      "t_prec:  0.7752730682303219 , v_prec:  0.6855345911949685\n",
      "t_f:  0.5818924476317815 , v_f:  0.5055333176359783\n",
      "////////\n"
     ]
    },
    {
     "name": "stderr",
     "output_type": "stream",
     "text": [
      "\r",
      "Iterations:  80%|██████████████████████████▍      | 240/300 [05:07<01:13,  1.23s/it]"
     ]
    },
    {
     "name": "stdout",
     "output_type": "stream",
     "text": [
      "Epoch  239 , loss 0.37914180171255973\n",
      "Epoch  240 , loss 0.3773009219005996\n"
     ]
    },
    {
     "name": "stderr",
     "output_type": "stream",
     "text": [
      "\r",
      "Iterations:  80%|██████████████████████████▌      | 241/300 [05:09<01:19,  1.34s/it]"
     ]
    },
    {
     "name": "stdout",
     "output_type": "stream",
     "text": [
      "Epoch:  240\n",
      "t_loss:  0.3773009219005996 , v_loss:  0.7623497595389684\n",
      "t_acc:  0.7426699937616968 , v_acc:  0.7023809523809523\n",
      "t_recall:  0.5922244825247963 , v_recall:  0.5384741591468417\n",
      "t_prec:  0.7656369173728814 , v_prec:  0.7080745341614907\n",
      "t_f:  0.5852887456213425 , v_f:  0.49275362318840576\n",
      "////////\n"
     ]
    },
    {
     "name": "stderr",
     "output_type": "stream",
     "text": [
      "\r",
      "Iterations:  81%|██████████████████████████▌      | 242/300 [05:09<01:10,  1.22s/it]"
     ]
    },
    {
     "name": "stdout",
     "output_type": "stream",
     "text": [
      "Epoch  241 , loss 0.37678489059794185\n",
      "Epoch  242 , loss 0.3779177671554042\n"
     ]
    },
    {
     "name": "stderr",
     "output_type": "stream",
     "text": [
      "\r",
      "Iterations:  81%|██████████████████████████▋      | 243/300 [05:11<01:16,  1.34s/it]"
     ]
    },
    {
     "name": "stdout",
     "output_type": "stream",
     "text": [
      "Epoch:  242\n",
      "t_loss:  0.3779177671554042 , v_loss:  0.7672137518723806\n",
      "t_acc:  0.7392389270118528 , v_acc:  0.7023809523809523\n",
      "t_recall:  0.5857173395855602 , v_recall:  0.5384741591468417\n",
      "t_prec:  0.7629404622394456 , v_prec:  0.7080745341614907\n",
      "t_f:  0.5752681458398966 , v_f:  0.49275362318840576\n",
      "////////\n"
     ]
    },
    {
     "name": "stderr",
     "output_type": "stream",
     "text": [
      "\r",
      "Iterations:  81%|██████████████████████████▊      | 244/300 [05:12<01:07,  1.21s/it]"
     ]
    },
    {
     "name": "stdout",
     "output_type": "stream",
     "text": [
      "Epoch  243 , loss 0.3746872503383487\n",
      "Epoch  244 , loss 0.3758364313957738\n"
     ]
    },
    {
     "name": "stderr",
     "output_type": "stream",
     "text": [
      "\r",
      "Iterations:  82%|██████████████████████████▉      | 245/300 [05:14<01:12,  1.33s/it]"
     ]
    },
    {
     "name": "stdout",
     "output_type": "stream",
     "text": [
      "Epoch:  244\n",
      "t_loss:  0.3758364313957738 , v_loss:  0.7628612071275711\n",
      "t_acc:  0.740174672489083 , v_acc:  0.6904761904761905\n",
      "t_recall:  0.5869670953579514 , v_recall:  0.5297785069729286\n",
      "t_prec:  0.7657521353113059 , v_prec:  0.6268343815513626\n",
      "t_f:  0.5770592562502425 , v_f:  0.4857546503414175\n",
      "////////\n"
     ]
    },
    {
     "name": "stderr",
     "output_type": "stream",
     "text": [
      "\r",
      "Iterations:  82%|███████████████████████████      | 246/300 [05:15<01:05,  1.21s/it]"
     ]
    },
    {
     "name": "stdout",
     "output_type": "stream",
     "text": [
      "Epoch  245 , loss 0.3794490335618748\n",
      "Epoch  246 , loss 0.39228099643015396\n"
     ]
    },
    {
     "name": "stderr",
     "output_type": "stream",
     "text": [
      "\r",
      "Iterations:  82%|███████████████████████████▏     | 247/300 [05:16<01:09,  1.31s/it]"
     ]
    },
    {
     "name": "stdout",
     "output_type": "stream",
     "text": [
      "Epoch:  246\n",
      "t_loss:  0.39228099643015396 , v_loss:  0.7604710211356481\n",
      "t_acc:  0.7367436057392389 , v_acc:  0.6904761904761905\n",
      "t_recall:  0.5845018331436977 , v_recall:  0.5297785069729286\n",
      "t_prec:  0.7478215732669997 , v_prec:  0.6268343815513626\n",
      "t_f:  0.5744182637531464 , v_f:  0.4857546503414175\n",
      "////////\n"
     ]
    },
    {
     "name": "stderr",
     "output_type": "stream",
     "text": [
      "\r",
      "Iterations:  83%|███████████████████████████▎     | 248/300 [05:17<01:02,  1.20s/it]"
     ]
    },
    {
     "name": "stdout",
     "output_type": "stream",
     "text": [
      "Epoch  247 , loss 0.37401174680859434\n",
      "Epoch  248 , loss 0.38575952777675554\n"
     ]
    },
    {
     "name": "stderr",
     "output_type": "stream",
     "text": [
      "\r",
      "Iterations:  83%|███████████████████████████▍     | 249/300 [05:19<01:05,  1.29s/it]"
     ]
    },
    {
     "name": "stdout",
     "output_type": "stream",
     "text": [
      "Epoch:  248\n",
      "t_loss:  0.38575952777675554 , v_loss:  0.7595892449220022\n",
      "t_acc:  0.7432938240798502 , v_acc:  0.6964285714285714\n",
      "t_recall:  0.5920953004861567 , v_recall:  0.5341263330598852\n",
      "t_prec:  0.7710798376184033 , v_prec:  0.6625\n",
      "t_f:  0.5847486848990608 , v_f:  0.4892399403874814\n",
      "////////\n"
     ]
    },
    {
     "name": "stderr",
     "output_type": "stream",
     "text": [
      "\r",
      "Iterations:  83%|███████████████████████████▌     | 250/300 [05:20<01:03,  1.26s/it]"
     ]
    },
    {
     "name": "stdout",
     "output_type": "stream",
     "text": [
      "Epoch  249 , loss 0.37237449311742593\n",
      "Epoch  250 , loss 0.3769324906900817\n"
     ]
    },
    {
     "name": "stderr",
     "output_type": "stream",
     "text": [
      "\r",
      "Iterations:  84%|███████████████████████████▌     | 251/300 [05:21<01:05,  1.33s/it]"
     ]
    },
    {
     "name": "stdout",
     "output_type": "stream",
     "text": [
      "Epoch:  250\n",
      "t_loss:  0.3769324906900817 , v_loss:  0.7688286602497101\n",
      "t_acc:  0.7414223331253899 , v_acc:  0.6904761904761905\n",
      "t_recall:  0.5910393177717247 , v_recall:  0.5246923707957343\n",
      "t_prec:  0.7603670337530108 , v_prec:  0.6335403726708074\n",
      "t_f:  0.5837933058939284 , v_f:  0.47246376811594204\n",
      "////////\n"
     ]
    },
    {
     "name": "stderr",
     "output_type": "stream",
     "text": [
      "\r",
      "Iterations:  84%|███████████████████████████▋     | 252/300 [05:22<00:59,  1.25s/it]"
     ]
    },
    {
     "name": "stdout",
     "output_type": "stream",
     "text": [
      "Epoch  251 , loss 0.3825659573662515\n",
      "Epoch  252 , loss 0.3725537421072231\n"
     ]
    },
    {
     "name": "stderr",
     "output_type": "stream",
     "text": [
      "\r",
      "Iterations:  84%|███████████████████████████▊     | 253/300 [05:24<01:02,  1.32s/it]"
     ]
    },
    {
     "name": "stdout",
     "output_type": "stream",
     "text": [
      "Epoch:  252\n",
      "t_loss:  0.3725537421072231 , v_loss:  0.7788296987613043\n",
      "t_acc:  0.7404865876481597 , v_acc:  0.6845238095238095\n",
      "t_recall:  0.5912330908296842 , v_recall:  0.5203445447087777\n",
      "t_prec:  0.7528981933522192 , v_prec:  0.596875\n",
      "t_f:  0.5845921440741051 , v_f:  0.469210134128167\n",
      "////////\n"
     ]
    },
    {
     "name": "stderr",
     "output_type": "stream",
     "text": [
      "\r",
      "Iterations:  85%|███████████████████████████▉     | 254/300 [05:25<00:57,  1.24s/it]"
     ]
    },
    {
     "name": "stdout",
     "output_type": "stream",
     "text": [
      "Epoch  253 , loss 0.37149199434355196\n",
      "Epoch  254 , loss 0.3844723169710122\n"
     ]
    },
    {
     "name": "stderr",
     "output_type": "stream",
     "text": [
      "\r",
      "Iterations:  85%|████████████████████████████     | 255/300 [05:26<00:59,  1.32s/it]"
     ]
    },
    {
     "name": "stdout",
     "output_type": "stream",
     "text": [
      "Epoch:  254\n",
      "t_loss:  0.3844723169710122 , v_loss:  0.7784051845471064\n",
      "t_acc:  0.7479725514660013 , v_acc:  0.6964285714285714\n",
      "t_recall:  0.5994989024123941 , v_recall:  0.5341263330598852\n",
      "t_prec:  0.7796253015145819 , v_prec:  0.6625\n",
      "t_f:  0.5955844838708267 , v_f:  0.4892399403874814\n",
      "////////\n"
     ]
    },
    {
     "name": "stderr",
     "output_type": "stream",
     "text": [
      "\r",
      "Iterations:  85%|████████████████████████████▏    | 256/300 [05:27<00:54,  1.25s/it]"
     ]
    },
    {
     "name": "stdout",
     "output_type": "stream",
     "text": [
      "Epoch  255 , loss 0.38623687771021153\n",
      "Epoch  256 , loss 0.3826209143096325\n"
     ]
    },
    {
     "name": "stderr",
     "output_type": "stream",
     "text": [
      "\r",
      "Iterations:  86%|████████████████████████████▎    | 257/300 [05:29<00:56,  1.32s/it]"
     ]
    },
    {
     "name": "stdout",
     "output_type": "stream",
     "text": [
      "Epoch:  256\n",
      "t_loss:  0.3826209143096325 , v_loss:  0.7730764696995417\n",
      "t_acc:  0.7411104179663132 , v_acc:  0.6964285714285714\n",
      "t_recall:  0.5890829684285533 , v_recall:  0.5341263330598852\n",
      "t_prec:  0.765128825391005 , v_prec:  0.6625\n",
      "t_f:  0.580431334336143 , v_f:  0.4892399403874814\n",
      "////////\n"
     ]
    },
    {
     "name": "stderr",
     "output_type": "stream",
     "text": [
      "\r",
      "Iterations:  86%|████████████████████████████▍    | 258/300 [05:30<00:50,  1.21s/it]"
     ]
    },
    {
     "name": "stdout",
     "output_type": "stream",
     "text": [
      "Epoch  257 , loss 0.37285957003341\n",
      "Epoch  258 , loss 0.37712806141843985\n"
     ]
    },
    {
     "name": "stderr",
     "output_type": "stream",
     "text": [
      "\r",
      "Iterations:  86%|████████████████████████████▍    | 259/300 [05:31<00:54,  1.33s/it]"
     ]
    },
    {
     "name": "stdout",
     "output_type": "stream",
     "text": [
      "Epoch:  258\n",
      "t_loss:  0.37712806141843985 , v_loss:  0.7463374882936478\n",
      "t_acc:  0.7386150966936993 , v_acc:  0.7023809523809523\n",
      "t_recall:  0.5887335792849016 , v_recall:  0.5486464315012305\n",
      "t_prec:  0.7476573877451516 , v_prec:  0.671685002895194\n",
      "t_f:  0.5810836264750643 , v_f:  0.5174632352941176\n",
      "////////\n"
     ]
    },
    {
     "name": "stderr",
     "output_type": "stream",
     "text": [
      "\r",
      "Iterations:  87%|████████████████████████████▌    | 260/300 [05:32<00:50,  1.25s/it]"
     ]
    },
    {
     "name": "stdout",
     "output_type": "stream",
     "text": [
      "Epoch  259 , loss 0.37218425700477525\n",
      "Epoch  260 , loss 0.3707990734016194\n"
     ]
    },
    {
     "name": "stderr",
     "output_type": "stream",
     "text": [
      "\r",
      "Iterations:  87%|████████████████████████████▋    | 261/300 [05:34<00:54,  1.39s/it]"
     ]
    },
    {
     "name": "stdout",
     "output_type": "stream",
     "text": [
      "Epoch:  260\n",
      "t_loss:  0.3707990734016194 , v_loss:  0.7502226233482361\n",
      "t_acc:  0.7457891453524641 , v_acc:  0.6964285714285714\n",
      "t_recall:  0.5985075107172821 , v_recall:  0.5392124692370796\n",
      "t_prec:  0.766722099959172 , v_prec:  0.65126582278481\n",
      "t_f:  0.5948120107552244 , v_f:  0.5018315018315018\n",
      "////////\n"
     ]
    },
    {
     "name": "stderr",
     "output_type": "stream",
     "text": [
      "\r",
      "Iterations:  87%|████████████████████████████▊    | 262/300 [05:35<00:47,  1.24s/it]"
     ]
    },
    {
     "name": "stdout",
     "output_type": "stream",
     "text": [
      "Epoch  261 , loss 0.373801553366231\n",
      "Epoch  262 , loss 0.3683880249074861\n"
     ]
    },
    {
     "name": "stderr",
     "output_type": "stream",
     "text": [
      "\r",
      "Iterations:  88%|████████████████████████████▉    | 263/300 [05:37<00:48,  1.30s/it]"
     ]
    },
    {
     "name": "stdout",
     "output_type": "stream",
     "text": [
      "Epoch:  262\n",
      "t_loss:  0.3683880249074861 , v_loss:  0.772026260693868\n",
      "t_acc:  0.7495321272613849 , v_acc:  0.7023809523809523\n",
      "t_recall:  0.6040839453389879 , v_recall:  0.5435602953240362\n",
      "t_prec:  0.7745752927593601 , v_prec:  0.6855345911949685\n",
      "t_f:  0.6027031552500951 , v_f:  0.5055333176359783\n",
      "////////\n"
     ]
    },
    {
     "name": "stderr",
     "output_type": "stream",
     "text": [
      "\r",
      "Iterations:  88%|█████████████████████████████    | 264/300 [05:37<00:42,  1.18s/it]"
     ]
    },
    {
     "name": "stdout",
     "output_type": "stream",
     "text": [
      "Epoch  263 , loss 0.37431223135368497\n",
      "Epoch  264 , loss 0.3691582107076458\n"
     ]
    },
    {
     "name": "stderr",
     "output_type": "stream",
     "text": [
      "\r",
      "Iterations:  88%|█████████████████████████████▏   | 265/300 [05:39<00:46,  1.32s/it]"
     ]
    },
    {
     "name": "stdout",
     "output_type": "stream",
     "text": [
      "Epoch:  264\n",
      "t_loss:  0.3691582107076458 , v_loss:  0.7805174241463343\n",
      "t_acc:  0.7479725514660013 , v_acc:  0.6964285714285714\n",
      "t_recall:  0.6000763139445345 , v_recall:  0.5341263330598852\n",
      "t_prec:  0.77741161418251 , v_prec:  0.6625\n",
      "t_f:  0.5965750629950445 , v_f:  0.4892399403874814\n",
      "////////\n"
     ]
    },
    {
     "name": "stderr",
     "output_type": "stream",
     "text": [
      "\r",
      "Iterations:  89%|█████████████████████████████▎   | 266/300 [05:40<00:40,  1.20s/it]"
     ]
    },
    {
     "name": "stdout",
     "output_type": "stream",
     "text": [
      "Epoch  265 , loss 0.37146173768183766\n",
      "Epoch  266 , loss 0.3733574666228949\n"
     ]
    },
    {
     "name": "stderr",
     "output_type": "stream",
     "text": [
      "\r",
      "Iterations:  89%|█████████████████████████████▎   | 267/300 [05:42<00:42,  1.29s/it]"
     ]
    },
    {
     "name": "stdout",
     "output_type": "stream",
     "text": [
      "Epoch:  266\n",
      "t_loss:  0.3733574666228949 , v_loss:  0.7790680179993311\n",
      "t_acc:  0.7451653150343107 , v_acc:  0.6964285714285714\n",
      "t_recall:  0.6003689273523428 , v_recall:  0.5392124692370796\n",
      "t_prec:  0.7565848854373314 , v_prec:  0.65126582278481\n",
      "t_f:  0.5981873728181091 , v_f:  0.5018315018315018\n",
      "////////\n"
     ]
    },
    {
     "name": "stderr",
     "output_type": "stream",
     "text": [
      "\r",
      "Iterations:  89%|█████████████████████████████▍   | 268/300 [05:42<00:37,  1.18s/it]"
     ]
    },
    {
     "name": "stdout",
     "output_type": "stream",
     "text": [
      "Epoch  267 , loss 0.3732537174341725\n",
      "Epoch  268 , loss 0.3667065729113186\n"
     ]
    },
    {
     "name": "stderr",
     "output_type": "stream",
     "text": [
      "\r",
      "Iterations:  90%|█████████████████████████████▌   | 269/300 [05:44<00:39,  1.28s/it]"
     ]
    },
    {
     "name": "stdout",
     "output_type": "stream",
     "text": [
      "Epoch:  268\n",
      "t_loss:  0.3667065729113186 , v_loss:  0.7637895892063776\n",
      "t_acc:  0.7467248908296943 , v_acc:  0.6964285714285714\n",
      "t_recall:  0.5997572664896734 , v_recall:  0.5392124692370796\n",
      "t_prec:  0.7692155950497813 , v_prec:  0.65126582278481\n",
      "t_f:  0.5965483146067414 , v_f:  0.5018315018315018\n",
      "////////\n"
     ]
    },
    {
     "name": "stderr",
     "output_type": "stream",
     "text": [
      "\r",
      "Iterations:  90%|█████████████████████████████▋   | 270/300 [05:45<00:36,  1.22s/it]"
     ]
    },
    {
     "name": "stdout",
     "output_type": "stream",
     "text": [
      "Epoch  269 , loss 0.36953607113922343\n",
      "Epoch  270 , loss 0.37613116350828435\n"
     ]
    },
    {
     "name": "stderr",
     "output_type": "stream",
     "text": [
      "\r",
      "Iterations:  90%|█████████████████████████████▊   | 271/300 [05:47<00:38,  1.34s/it]"
     ]
    },
    {
     "name": "stdout",
     "output_type": "stream",
     "text": [
      "Epoch:  270\n",
      "t_loss:  0.37613116350828435 , v_loss:  0.7702920486529669\n",
      "t_acc:  0.7489082969432315 , v_acc:  0.7023809523809523\n",
      "t_recall:  0.603058304313347 , v_recall:  0.5435602953240362\n",
      "t_prec:  0.7736244019138756 , v_prec:  0.6855345911949685\n",
      "t_f:  0.6012336150839728 , v_f:  0.5055333176359783\n",
      "////////\n"
     ]
    },
    {
     "name": "stderr",
     "output_type": "stream",
     "text": [
      "\r",
      "Iterations:  91%|█████████████████████████████▉   | 272/300 [05:48<00:36,  1.31s/it]"
     ]
    },
    {
     "name": "stdout",
     "output_type": "stream",
     "text": [
      "Epoch  271 , loss 0.3682295040172689\n",
      "Epoch  272 , loss 0.36803890998456995\n"
     ]
    },
    {
     "name": "stderr",
     "output_type": "stream",
     "text": [
      "\r",
      "Iterations:  91%|██████████████████████████████   | 273/300 [05:49<00:37,  1.37s/it]"
     ]
    },
    {
     "name": "stdout",
     "output_type": "stream",
     "text": [
      "Epoch:  272\n",
      "t_loss:  0.36803890998456995 , v_loss:  0.7687835743029913\n",
      "t_acc:  0.7476606363069245 , v_acc:  0.6964285714285714\n",
      "t_recall:  0.6010070222620648 , v_recall:  0.5392124692370796\n",
      "t_prec:  0.7716933768610575 , v_prec:  0.65126582278481\n",
      "t_f:  0.5982823893955946 , v_f:  0.5018315018315018\n",
      "////////\n"
     ]
    },
    {
     "name": "stderr",
     "output_type": "stream",
     "text": [
      "\r",
      "Iterations:  91%|██████████████████████████████▏  | 274/300 [05:50<00:33,  1.28s/it]"
     ]
    },
    {
     "name": "stdout",
     "output_type": "stream",
     "text": [
      "Epoch  273 , loss 0.3708694387300342\n",
      "Epoch  274 , loss 0.36903370244830264\n"
     ]
    },
    {
     "name": "stderr",
     "output_type": "stream",
     "text": [
      "\r",
      "Iterations:  92%|██████████████████████████████▎  | 275/300 [05:52<00:33,  1.32s/it]"
     ]
    },
    {
     "name": "stdout",
     "output_type": "stream",
     "text": [
      "Epoch:  274\n",
      "t_loss:  0.36903370244830264 , v_loss:  0.7823226153850555\n",
      "t_acc:  0.7520274485339987 , v_acc:  0.6964285714285714\n",
      "t_recall:  0.6099187440379731 , v_recall:  0.5392124692370796\n",
      "t_prec:  0.7726292120482368 , v_prec:  0.65126582278481\n",
      "t_f:  0.6113136390289132 , v_f:  0.5018315018315018\n",
      "////////\n"
     ]
    },
    {
     "name": "stderr",
     "output_type": "stream",
     "text": [
      "\r",
      "Iterations:  92%|██████████████████████████████▎  | 276/300 [05:53<00:28,  1.19s/it]"
     ]
    },
    {
     "name": "stdout",
     "output_type": "stream",
     "text": [
      "Epoch  275 , loss 0.38166070393487517\n",
      "Epoch  276 , loss 0.37403860454465826\n"
     ]
    },
    {
     "name": "stderr",
     "output_type": "stream",
     "text": [
      "\r",
      "Iterations:  92%|██████████████████████████████▍  | 277/300 [05:54<00:29,  1.27s/it]"
     ]
    },
    {
     "name": "stdout",
     "output_type": "stream",
     "text": [
      "Epoch:  276\n",
      "t_loss:  0.37403860454465826 , v_loss:  0.7716389000415802\n",
      "t_acc:  0.743605739238927 , v_acc:  0.7023809523809523\n",
      "t_recall:  0.595783884425749 , v_recall:  0.5435602953240362\n",
      "t_prec:  0.7602087649820346 , v_prec:  0.6855345911949685\n",
      "t_f:  0.5910836113924806 , v_f:  0.5055333176359783\n",
      "////////\n"
     ]
    },
    {
     "name": "stderr",
     "output_type": "stream",
     "text": [
      "\r",
      "Iterations:  93%|██████████████████████████████▌  | 278/300 [05:55<00:26,  1.19s/it]"
     ]
    },
    {
     "name": "stdout",
     "output_type": "stream",
     "text": [
      "Epoch  277 , loss 0.36295441728012234\n",
      "Epoch  278 , loss 0.369047617503241\n"
     ]
    },
    {
     "name": "stderr",
     "output_type": "stream",
     "text": [
      "\r",
      "Iterations:  93%|██████████████████████████████▋  | 279/300 [05:57<00:27,  1.29s/it]"
     ]
    },
    {
     "name": "stdout",
     "output_type": "stream",
     "text": [
      "Epoch:  278\n",
      "t_loss:  0.369047617503241 , v_loss:  0.7866576363643011\n",
      "t_acc:  0.7467248908296943 , v_acc:  0.7023809523809523\n",
      "t_recall:  0.600623383787884 , v_recall:  0.5435602953240362\n",
      "t_prec:  0.7662998448763574 , v_prec:  0.6855345911949685\n",
      "t_f:  0.598008380564601 , v_f:  0.5055333176359783\n",
      "////////\n"
     ]
    },
    {
     "name": "stderr",
     "output_type": "stream",
     "text": [
      "\r",
      "Iterations:  93%|██████████████████████████████▊  | 280/300 [05:58<00:25,  1.25s/it]"
     ]
    },
    {
     "name": "stdout",
     "output_type": "stream",
     "text": [
      "Epoch  279 , loss 0.3720100448996413\n",
      "Epoch  280 , loss 0.3669057392022189\n"
     ]
    },
    {
     "name": "stderr",
     "output_type": "stream",
     "text": [
      "\r",
      "Iterations:  94%|██████████████████████████████▉  | 281/300 [05:59<00:25,  1.34s/it]"
     ]
    },
    {
     "name": "stdout",
     "output_type": "stream",
     "text": [
      "Epoch:  280\n",
      "t_loss:  0.3669057392022189 , v_loss:  0.7844351728757223\n",
      "t_acc:  0.7476606363069245 , v_acc:  0.7023809523809523\n",
      "t_recall:  0.599563493431714 , v_recall:  0.5435602953240362\n",
      "t_prec:  0.7769334049409238 , v_prec:  0.6855345911949685\n",
      "t_f:  0.595828468161636 , v_f:  0.5055333176359783\n",
      "////////\n"
     ]
    },
    {
     "name": "stderr",
     "output_type": "stream",
     "text": [
      "\r",
      "Iterations:  94%|███████████████████████████████  | 282/300 [06:01<00:22,  1.26s/it]"
     ]
    },
    {
     "name": "stdout",
     "output_type": "stream",
     "text": [
      "Epoch  281 , loss 0.37028704086939496\n",
      "Epoch  282 , loss 0.36820145506484836\n"
     ]
    },
    {
     "name": "stderr",
     "output_type": "stream",
     "text": [
      "\r",
      "Iterations:  94%|███████████████████████████████▏ | 283/300 [06:02<00:23,  1.37s/it]"
     ]
    },
    {
     "name": "stdout",
     "output_type": "stream",
     "text": [
      "Epoch:  282\n",
      "t_loss:  0.36820145506484836 , v_loss:  0.7756408204634985\n",
      "t_acc:  0.751715533374922 , v_acc:  0.7142857142857143\n",
      "t_recall:  0.6091172177590825 , v_recall:  0.5675143560295324\n",
      "t_prec:  0.7730745645673631 , v_prec:  0.7042183622828784\n",
      "t_f:  0.6101360686802493 , v_f:  0.5474747474747476\n",
      "////////\n"
     ]
    },
    {
     "name": "stderr",
     "output_type": "stream",
     "text": [
      "\r",
      "Iterations:  95%|███████████████████████████████▏ | 284/300 [06:03<00:19,  1.24s/it]"
     ]
    },
    {
     "name": "stdout",
     "output_type": "stream",
     "text": [
      "Epoch  283 , loss 0.36953647639237197\n",
      "Epoch  284 , loss 0.375053827084747\n"
     ]
    },
    {
     "name": "stderr",
     "output_type": "stream",
     "text": [
      "\r",
      "Iterations:  95%|███████████████████████████████▎ | 285/300 [06:05<00:20,  1.36s/it]"
     ]
    },
    {
     "name": "stdout",
     "output_type": "stream",
     "text": [
      "Epoch:  284\n",
      "t_loss:  0.375053827084747 , v_loss:  0.7703173210223516\n",
      "t_acc:  0.7432938240798502 , v_acc:  0.7261904761904762\n",
      "t_recall:  0.5949823581468584 , v_recall:  0.5914684167350287\n",
      "t_prec:  0.7606317489151276 , v_prec:  0.7171795870666147\n",
      "t_f:  0.5898378884222782 , v_f:  0.5849624060150376\n",
      "////////\n"
     ]
    },
    {
     "name": "stderr",
     "output_type": "stream",
     "text": [
      "\r",
      "Iterations:  95%|███████████████████████████████▍ | 286/300 [06:06<00:17,  1.22s/it]"
     ]
    },
    {
     "name": "stdout",
     "output_type": "stream",
     "text": [
      "Epoch  285 , loss 0.37234387561386706\n",
      "Epoch  286 , loss 0.37760934233665466\n"
     ]
    },
    {
     "name": "stderr",
     "output_type": "stream",
     "text": [
      "\r",
      "Iterations:  96%|███████████████████████████████▌ | 287/300 [06:07<00:17,  1.34s/it]"
     ]
    },
    {
     "name": "stdout",
     "output_type": "stream",
     "text": [
      "Epoch:  286\n",
      "t_loss:  0.37760934233665466 , v_loss:  0.7701974213123322\n",
      "t_acc:  0.7485963817841547 , v_acc:  0.7261904761904762\n",
      "t_recall:  0.6031228953326667 , v_recall:  0.5863822805578343\n",
      "t_prec:  0.7711714935403265 , v_prec:  0.7294117647058823\n",
      "t_f:  0.6014585427034923 , v_f:  0.5759438103599649\n",
      "////////\n"
     ]
    },
    {
     "name": "stderr",
     "output_type": "stream",
     "text": [
      "\r",
      "Iterations:  96%|███████████████████████████████▋ | 288/300 [06:08<00:14,  1.20s/it]"
     ]
    },
    {
     "name": "stdout",
     "output_type": "stream",
     "text": [
      "Epoch  287 , loss 0.3662331568844178\n",
      "Epoch  288 , loss 0.3667927185694377\n"
     ]
    },
    {
     "name": "stderr",
     "output_type": "stream",
     "text": [
      "\r",
      "Iterations:  96%|███████████████████████████████▊ | 289/300 [06:10<00:14,  1.33s/it]"
     ]
    },
    {
     "name": "stdout",
     "output_type": "stream",
     "text": [
      "Epoch:  288\n",
      "t_loss:  0.3667927185694377 , v_loss:  0.7749231457710266\n",
      "t_acc:  0.7526512788521522 , v_acc:  0.7142857142857143\n",
      "t_recall:  0.612387913893965 , v_recall:  0.562428219852338\n",
      "t_prec:  0.7692128956664993 , v_prec:  0.7203242617255357\n",
      "t_f:  0.6150011501394629 , v_f:  0.5367647058823529\n",
      "////////\n"
     ]
    },
    {
     "name": "stderr",
     "output_type": "stream",
     "text": [
      "\r",
      "Iterations:  97%|███████████████████████████████▉ | 290/300 [06:11<00:12,  1.21s/it]"
     ]
    },
    {
     "name": "stdout",
     "output_type": "stream",
     "text": [
      "Epoch  289 , loss 0.36623747909770293\n",
      "Epoch  290 , loss 0.3694405187578762\n"
     ]
    },
    {
     "name": "stderr",
     "output_type": "stream",
     "text": [
      "\r",
      "Iterations:  97%|████████████████████████████████ | 291/300 [06:12<00:11,  1.32s/it]"
     ]
    },
    {
     "name": "stdout",
     "output_type": "stream",
     "text": [
      "Epoch:  290\n",
      "t_loss:  0.3694405187578762 , v_loss:  0.776062399148941\n",
      "t_acc:  0.7551466001247661 , v_acc:  0.7142857142857143\n",
      "t_recall:  0.614758243400108 , v_recall:  0.5675143560295324\n",
      "t_prec:  0.7780531545179112 , v_prec:  0.7042183622828784\n",
      "t_f:  0.6179970386426025 , v_f:  0.5474747474747476\n",
      "////////\n"
     ]
    },
    {
     "name": "stderr",
     "output_type": "stream",
     "text": [
      "\r",
      "Iterations:  97%|████████████████████████████████ | 292/300 [06:13<00:09,  1.19s/it]"
     ]
    },
    {
     "name": "stdout",
     "output_type": "stream",
     "text": [
      "Epoch  291 , loss 0.3648403256255038\n",
      "Epoch  292 , loss 0.3710140165160684\n"
     ]
    },
    {
     "name": "stderr",
     "output_type": "stream",
     "text": [
      "\r",
      "Iterations:  98%|████████████████████████████████▏| 293/300 [06:15<00:08,  1.28s/it]"
     ]
    },
    {
     "name": "stdout",
     "output_type": "stream",
     "text": [
      "Epoch:  292\n",
      "t_loss:  0.3710140165160684 , v_loss:  0.774765744805336\n",
      "t_acc:  0.7507797878976918 , v_acc:  0.7261904761904762\n",
      "t_recall:  0.6072900504545506 , v_recall:  0.5863822805578343\n",
      "t_prec:  0.7725994243851386 , v_prec:  0.7294117647058823\n",
      "t_f:  0.6075067873629025 , v_f:  0.5759438103599649\n",
      "////////\n"
     ]
    },
    {
     "name": "stderr",
     "output_type": "stream",
     "text": [
      "\r",
      "Iterations:  98%|████████████████████████████████▎| 294/300 [06:16<00:07,  1.19s/it]"
     ]
    },
    {
     "name": "stdout",
     "output_type": "stream",
     "text": [
      "Epoch  293 , loss 0.36750686343978434\n",
      "Epoch  294 , loss 0.3650505256419088\n"
     ]
    },
    {
     "name": "stderr",
     "output_type": "stream",
     "text": [
      "\r",
      "Iterations:  98%|████████████████████████████████▍| 295/300 [06:17<00:06,  1.30s/it]"
     ]
    },
    {
     "name": "stdout",
     "output_type": "stream",
     "text": [
      "Epoch:  294\n",
      "t_loss:  0.3650505256419088 , v_loss:  0.7788622031609217\n",
      "t_acc:  0.7514036182158453 , v_acc:  0.7202380952380952\n",
      "t_recall:  0.6094705145444724 , v_recall:  0.5769483182936833\n",
      "t_prec:  0.7699170717109798 , v_prec:  0.7175324675324675\n",
      "t_f:  0.610793548376287 , v_f:  0.5618931365477445\n",
      "////////\n"
     ]
    },
    {
     "name": "stderr",
     "output_type": "stream",
     "text": [
      "\r",
      "Iterations:  99%|████████████████████████████████▌| 296/300 [06:18<00:04,  1.23s/it]"
     ]
    },
    {
     "name": "stdout",
     "output_type": "stream",
     "text": [
      "Epoch  295 , loss 0.3694121235725926\n",
      "Epoch  296 , loss 0.35966895710603863\n"
     ]
    },
    {
     "name": "stderr",
     "output_type": "stream",
     "text": [
      "\r",
      "Iterations:  99%|████████████████████████████████▋| 297/300 [06:20<00:03,  1.32s/it]"
     ]
    },
    {
     "name": "stdout",
     "output_type": "stream",
     "text": [
      "Epoch:  296\n",
      "t_loss:  0.35966895710603863 , v_loss:  0.7799811214208603\n",
      "t_acc:  0.7538989394884591 , v_acc:  0.7202380952380952\n",
      "t_recall:  0.6121295498166857 , v_recall:  0.5769483182936833\n",
      "t_prec:  0.7781126283910751 , v_prec:  0.7175324675324675\n",
      "t_f:  0.6142471209985062 , v_f:  0.5618931365477445\n",
      "////////\n"
     ]
    },
    {
     "name": "stderr",
     "output_type": "stream",
     "text": [
      "\r",
      "Iterations:  99%|████████████████████████████████▊| 298/300 [06:21<00:02,  1.25s/it]"
     ]
    },
    {
     "name": "stdout",
     "output_type": "stream",
     "text": [
      "Epoch  297 , loss 0.3658287533942391\n",
      "Epoch  298 , loss 0.3643614173519845\n"
     ]
    },
    {
     "name": "stderr",
     "output_type": "stream",
     "text": [
      "\r",
      "Iterations: 100%|████████████████████████████████▉| 299/300 [06:23<00:01,  1.37s/it]"
     ]
    },
    {
     "name": "stdout",
     "output_type": "stream",
     "text": [
      "Epoch:  298\n",
      "t_loss:  0.3643614173519845 , v_loss:  0.7840226838986079\n",
      "t_acc:  0.7579538365564567 , v_acc:  0.7202380952380952\n",
      "t_recall:  0.618218804951212 , v_recall:  0.5769483182936833\n",
      "t_prec:  0.7856155140529464 , v_prec:  0.7175324675324675\n",
      "t_f:  0.6225967212557699 , v_f:  0.5618931365477445\n",
      "////////\n"
     ]
    },
    {
     "name": "stderr",
     "output_type": "stream",
     "text": [
      "Iterations: 100%|█████████████████████████████████| 300/300 [06:24<00:00,  1.28s/it]"
     ]
    },
    {
     "name": "stdout",
     "output_type": "stream",
     "text": [
      "Epoch  299 , loss 0.3695525997409634\n"
     ]
    },
    {
     "name": "stderr",
     "output_type": "stream",
     "text": [
      "\n"
     ]
    },
    {
     "name": "stdout",
     "output_type": "stream",
     "text": [
      "112 11\n",
      "\n",
      "c0_acc 0.9739130434782609 , c1_acc 0.20754716981132076 , b_acc 0.5907301066447909\n"
     ]
    },
    {
     "name": "stderr",
     "output_type": "stream",
     "text": [
      "\r",
      "Iterations:   0%|                                           | 0/300 [00:00<?, ?it/s]"
     ]
    },
    {
     "name": "stdout",
     "output_type": "stream",
     "text": [
      "Epoch  0 , loss 0.689399721622467\n"
     ]
    },
    {
     "name": "stderr",
     "output_type": "stream",
     "text": [
      "\r",
      "Iterations:   0%|                                   | 1/300 [00:01<07:55,  1.59s/it]"
     ]
    },
    {
     "name": "stdout",
     "output_type": "stream",
     "text": [
      "Epoch:  0\n",
      "t_loss:  0.689399721622467 , v_loss:  0.6924347877502441\n",
      "t_acc:  0.5287679799874921 , v_acc:  0.6988636363636364\n",
      "t_recall:  0.5009716599190284 , v_recall:  0.5107378432274889\n",
      "t_prec:  0.5008409334121293 , v_prec:  0.6017441860465116\n",
      "t_f:  0.4926745824427252 , v_f:  0.44525721082366937\n",
      "////////\n"
     ]
    },
    {
     "name": "stderr",
     "output_type": "stream",
     "text": [
      "\r",
      "Iterations:   1%|▏                                  | 2/300 [00:02<05:46,  1.16s/it]"
     ]
    },
    {
     "name": "stdout",
     "output_type": "stream",
     "text": [
      "Epoch  1 , loss 0.6314471685886383\n",
      "Epoch  2 , loss 0.5872168266773223\n"
     ]
    },
    {
     "name": "stderr",
     "output_type": "stream",
     "text": [
      "\r",
      "Iterations:   1%|▎                                  | 3/300 [00:04<06:54,  1.40s/it]"
     ]
    },
    {
     "name": "stdout",
     "output_type": "stream",
     "text": [
      "Epoch:  2\n",
      "t_loss:  0.5872168266773223 , v_loss:  0.6869484782218933\n",
      "t_acc:  0.6519699812382739 , v_acc:  0.6988636363636364\n",
      "t_recall:  0.5017813765182186 , v_recall:  0.5\n",
      "t_prec:  0.5037249930536261 , v_prec:  0.3494318181818182\n",
      "t_f:  0.4749221649108133 , v_f:  0.411371237458194\n",
      "////////\n"
     ]
    },
    {
     "name": "stderr",
     "output_type": "stream",
     "text": [
      "\r",
      "Iterations:   1%|▍                                  | 4/300 [00:05<05:53,  1.19s/it]"
     ]
    },
    {
     "name": "stdout",
     "output_type": "stream",
     "text": [
      "Epoch  3 , loss 0.5516988444328308\n",
      "Epoch  4 , loss 0.5234693747758865\n"
     ]
    },
    {
     "name": "stderr",
     "output_type": "stream",
     "text": [
      "\r",
      "Iterations:   2%|▌                                  | 5/300 [00:06<06:39,  1.35s/it]"
     ]
    },
    {
     "name": "stdout",
     "output_type": "stream",
     "text": [
      "Epoch:  4\n",
      "t_loss:  0.5234693747758865 , v_loss:  0.6657050649325053\n",
      "t_acc:  0.6873045653533458 , v_acc:  0.6988636363636364\n",
      "t_recall:  0.4989833558254611 , v_recall:  0.5\n",
      "t_prec:  0.48769248814490856 , v_prec:  0.3494318181818182\n",
      "t_f:  0.42228985658047624 , v_f:  0.411371237458194\n",
      "////////\n"
     ]
    },
    {
     "name": "stderr",
     "output_type": "stream",
     "text": [
      "\r",
      "Iterations:   2%|▋                                  | 6/300 [00:07<06:03,  1.24s/it]"
     ]
    },
    {
     "name": "stdout",
     "output_type": "stream",
     "text": [
      "Epoch  5 , loss 0.4988668793439865\n",
      "Epoch  6 , loss 0.4838520038127899\n"
     ]
    },
    {
     "name": "stderr",
     "output_type": "stream",
     "text": [
      "\r",
      "Iterations:   2%|▊                                  | 7/300 [00:09<06:20,  1.30s/it]"
     ]
    },
    {
     "name": "stdout",
     "output_type": "stream",
     "text": [
      "Epoch:  6\n",
      "t_loss:  0.4838520038127899 , v_loss:  0.64051686724027\n",
      "t_acc:  0.6932457786116323 , v_acc:  0.6988636363636364\n",
      "t_recall:  0.5006657669815564 , v_recall:  0.5\n",
      "t_prec:  0.5227029578351163 , v_prec:  0.3494318181818182\n",
      "t_f:  0.416218660419297 , v_f:  0.411371237458194\n",
      "////////\n"
     ]
    },
    {
     "name": "stderr",
     "output_type": "stream",
     "text": [
      "\r",
      "Iterations:   3%|▉                                  | 8/300 [00:10<05:49,  1.20s/it]"
     ]
    },
    {
     "name": "stdout",
     "output_type": "stream",
     "text": [
      "Epoch  7 , loss 0.47388297379016875\n",
      "Epoch  8 , loss 0.46719098448753354\n"
     ]
    },
    {
     "name": "stderr",
     "output_type": "stream",
     "text": [
      "\r",
      "Iterations:   3%|█                                  | 9/300 [00:11<06:09,  1.27s/it]"
     ]
    },
    {
     "name": "stdout",
     "output_type": "stream",
     "text": [
      "Epoch:  8\n",
      "t_loss:  0.46719098448753354 , v_loss:  0.6411752204100291\n",
      "t_acc:  0.6951219512195121 , v_acc:  0.6988636363636364\n",
      "t_recall:  0.5005757984705353 , v_recall:  0.5\n",
      "t_prec:  0.597683155917345 , v_prec:  0.3494318181818182\n",
      "t_f:  0.41204843904003646 , v_f:  0.411371237458194\n",
      "////////\n"
     ]
    },
    {
     "name": "stderr",
     "output_type": "stream",
     "text": [
      "\r",
      "Iterations:   3%|█▏                                | 10/300 [00:12<05:37,  1.16s/it]"
     ]
    },
    {
     "name": "stdout",
     "output_type": "stream",
     "text": [
      "Epoch  9 , loss 0.4604364764690399\n",
      "Epoch  10 , loss 0.4612627971172333\n"
     ]
    },
    {
     "name": "stderr",
     "output_type": "stream",
     "text": [
      "\r",
      "Iterations:   4%|█▏                                | 11/300 [00:13<06:00,  1.25s/it]"
     ]
    },
    {
     "name": "stdout",
     "output_type": "stream",
     "text": [
      "Epoch:  10\n",
      "t_loss:  0.4612627971172333 , v_loss:  0.6564041376113892\n",
      "t_acc:  0.6948092557848655 , v_acc:  0.6988636363636364\n",
      "t_recall:  0.49977507872244714 , v_recall:  0.5\n",
      "t_prec:  0.3475132937128558 , v_prec:  0.3494318181818182\n",
      "t_f:  0.4099630996309963 , v_f:  0.411371237458194\n",
      "////////\n"
     ]
    },
    {
     "name": "stderr",
     "output_type": "stream",
     "text": [
      "\r",
      "Iterations:   4%|█▎                                | 12/300 [00:14<05:27,  1.14s/it]"
     ]
    },
    {
     "name": "stdout",
     "output_type": "stream",
     "text": [
      "Epoch  11 , loss 0.4569111490249634\n",
      "Epoch  12 , loss 0.45418257772922516\n"
     ]
    },
    {
     "name": "stderr",
     "output_type": "stream",
     "text": [
      "\r",
      "Iterations:   4%|█▍                                | 13/300 [00:16<06:06,  1.28s/it]"
     ]
    },
    {
     "name": "stdout",
     "output_type": "stream",
     "text": [
      "Epoch:  12\n",
      "t_loss:  0.45418257772922516 , v_loss:  0.664621522029241\n",
      "t_acc:  0.6948092557848655 , v_acc:  0.6988636363636364\n",
      "t_recall:  0.49977507872244714 , v_recall:  0.5\n",
      "t_prec:  0.3475132937128558 , v_prec:  0.3494318181818182\n",
      "t_f:  0.4099630996309963 , v_f:  0.411371237458194\n",
      "////////\n"
     ]
    },
    {
     "name": "stderr",
     "output_type": "stream",
     "text": [
      "\r",
      "Iterations:   5%|█▌                                | 14/300 [00:17<05:53,  1.24s/it]"
     ]
    },
    {
     "name": "stdout",
     "output_type": "stream",
     "text": [
      "Epoch  13 , loss 0.4507990348339081\n",
      "Epoch  14 , loss 0.45485782086849214\n"
     ]
    },
    {
     "name": "stderr",
     "output_type": "stream",
     "text": [
      "\r",
      "Iterations:   5%|█▋                                | 15/300 [00:19<06:43,  1.42s/it]"
     ]
    },
    {
     "name": "stdout",
     "output_type": "stream",
     "text": [
      "Epoch:  14\n",
      "t_loss:  0.45485782086849214 , v_loss:  0.6681700845559438\n",
      "t_acc:  0.6954346466541589 , v_acc:  0.6988636363636364\n",
      "t_recall:  0.5005128205128205 , v_recall:  0.5\n",
      "t_prec:  0.8476696903346888 , v_prec:  0.3494318181818182\n",
      "t_f:  0.41117219163994917 , v_f:  0.411371237458194\n",
      "////////\n"
     ]
    },
    {
     "name": "stderr",
     "output_type": "stream",
     "text": [
      "\r",
      "Iterations:   5%|█▊                                | 16/300 [00:20<06:15,  1.32s/it]"
     ]
    },
    {
     "name": "stdout",
     "output_type": "stream",
     "text": [
      "Epoch  15 , loss 0.45509770035743713\n",
      "Epoch  16 , loss 0.45318765997886656\n"
     ]
    },
    {
     "name": "stderr",
     "output_type": "stream",
     "text": [
      "\r",
      "Iterations:   6%|█▉                                | 17/300 [00:22<06:36,  1.40s/it]"
     ]
    },
    {
     "name": "stdout",
     "output_type": "stream",
     "text": [
      "Epoch:  16\n",
      "t_loss:  0.45318765997886656 , v_loss:  0.6644483904043833\n",
      "t_acc:  0.6951219512195121 , v_acc:  0.6988636363636364\n",
      "t_recall:  0.5 , v_recall:  0.5\n",
      "t_prec:  0.3475609756097561 , v_prec:  0.3494318181818182\n",
      "t_f:  0.41007194244604317 , v_f:  0.411371237458194\n",
      "////////\n"
     ]
    },
    {
     "name": "stderr",
     "output_type": "stream",
     "text": [
      "\r",
      "Iterations:   6%|██                                | 18/300 [00:22<06:01,  1.28s/it]"
     ]
    },
    {
     "name": "stdout",
     "output_type": "stream",
     "text": [
      "Epoch  17 , loss 0.4511011862754822\n",
      "Epoch  18 , loss 0.44907395005226136\n"
     ]
    },
    {
     "name": "stderr",
     "output_type": "stream",
     "text": [
      "\r",
      "Iterations:   6%|██▏                               | 19/300 [00:24<06:13,  1.33s/it]"
     ]
    },
    {
     "name": "stdout",
     "output_type": "stream",
     "text": [
      "Epoch:  18\n",
      "t_loss:  0.44907395005226136 , v_loss:  0.6688510775566101\n",
      "t_acc:  0.6954346466541589 , v_acc:  0.6988636363636364\n",
      "t_recall:  0.5005128205128205 , v_recall:  0.5\n",
      "t_prec:  0.8476696903346888 , v_prec:  0.3494318181818182\n",
      "t_f:  0.41117219163994917 , v_f:  0.411371237458194\n",
      "////////\n"
     ]
    },
    {
     "name": "stderr",
     "output_type": "stream",
     "text": [
      "\r",
      "Iterations:   7%|██▎                               | 20/300 [00:25<05:34,  1.19s/it]"
     ]
    },
    {
     "name": "stdout",
     "output_type": "stream",
     "text": [
      "Epoch  19 , loss 0.45064017474651336\n",
      "Epoch  20 , loss 0.44966771960258484\n"
     ]
    },
    {
     "name": "stderr",
     "output_type": "stream",
     "text": [
      "\r",
      "Iterations:   7%|██▍                               | 21/300 [00:26<06:01,  1.30s/it]"
     ]
    },
    {
     "name": "stdout",
     "output_type": "stream",
     "text": [
      "Epoch:  20\n",
      "t_loss:  0.44966771960258484 , v_loss:  0.6693638761838278\n",
      "t_acc:  0.6948092557848655 , v_acc:  0.6988636363636364\n",
      "t_recall:  0.5000629779577148 , v_recall:  0.5\n",
      "t_prec:  0.5142410015649452 , v_prec:  0.3494318181818182\n",
      "t_f:  0.410952358305761 , v_f:  0.411371237458194\n",
      "////////\n"
     ]
    },
    {
     "name": "stderr",
     "output_type": "stream",
     "text": [
      "\r",
      "Iterations:   7%|██▍                               | 22/300 [00:27<05:24,  1.17s/it]"
     ]
    },
    {
     "name": "stdout",
     "output_type": "stream",
     "text": [
      "Epoch  21 , loss 0.44194584369659423\n",
      "Epoch  22 , loss 0.4448523128032684\n"
     ]
    },
    {
     "name": "stderr",
     "output_type": "stream",
     "text": [
      "\r",
      "Iterations:   8%|██▌                               | 23/300 [00:29<05:58,  1.29s/it]"
     ]
    },
    {
     "name": "stdout",
     "output_type": "stream",
     "text": [
      "Epoch:  22\n",
      "t_loss:  0.4448523128032684 , v_loss:  0.6656709512074789\n",
      "t_acc:  0.6954346466541589 , v_acc:  0.6988636363636364\n",
      "t_recall:  0.5005128205128205 , v_recall:  0.5\n",
      "t_prec:  0.8476696903346888 , v_prec:  0.3494318181818182\n",
      "t_f:  0.41117219163994917 , v_f:  0.411371237458194\n",
      "////////\n"
     ]
    },
    {
     "name": "stderr",
     "output_type": "stream",
     "text": [
      "\r",
      "Iterations:   8%|██▋                               | 24/300 [00:30<05:25,  1.18s/it]"
     ]
    },
    {
     "name": "stdout",
     "output_type": "stream",
     "text": [
      "Epoch  23 , loss 0.44416914343833924\n",
      "Epoch  24 , loss 0.44484292328357694\n"
     ]
    },
    {
     "name": "stderr",
     "output_type": "stream",
     "text": [
      "\r",
      "Iterations:   8%|██▊                               | 25/300 [00:31<05:51,  1.28s/it]"
     ]
    },
    {
     "name": "stdout",
     "output_type": "stream",
     "text": [
      "Epoch:  24\n",
      "t_loss:  0.44484292328357694 , v_loss:  0.669639895359675\n",
      "t_acc:  0.6948092557848655 , v_acc:  0.6988636363636364\n",
      "t_recall:  0.49977507872244714 , v_recall:  0.5\n",
      "t_prec:  0.3475132937128558 , v_prec:  0.3494318181818182\n",
      "t_f:  0.4099630996309963 , v_f:  0.411371237458194\n",
      "////////\n"
     ]
    },
    {
     "name": "stderr",
     "output_type": "stream",
     "text": [
      "\r",
      "Iterations:   9%|██▉                               | 26/300 [00:32<05:32,  1.21s/it]"
     ]
    },
    {
     "name": "stdout",
     "output_type": "stream",
     "text": [
      "Epoch  25 , loss 0.4446141040325165\n",
      "Epoch  26 , loss 0.44913317799568175\n"
     ]
    },
    {
     "name": "stderr",
     "output_type": "stream",
     "text": [
      "\r",
      "Iterations:   9%|███                               | 27/300 [00:34<05:48,  1.28s/it]"
     ]
    },
    {
     "name": "stdout",
     "output_type": "stream",
     "text": [
      "Epoch:  26\n",
      "t_loss:  0.44913317799568175 , v_loss:  0.6678777237733206\n",
      "t_acc:  0.6948092557848655 , v_acc:  0.6988636363636364\n",
      "t_recall:  0.49977507872244714 , v_recall:  0.5\n",
      "t_prec:  0.3475132937128558 , v_prec:  0.3494318181818182\n",
      "t_f:  0.4099630996309963 , v_f:  0.411371237458194\n",
      "////////\n"
     ]
    },
    {
     "name": "stderr",
     "output_type": "stream",
     "text": [
      "\r",
      "Iterations:   9%|███▏                              | 28/300 [00:35<05:32,  1.22s/it]"
     ]
    },
    {
     "name": "stdout",
     "output_type": "stream",
     "text": [
      "Epoch  27 , loss 0.44552490472793577\n",
      "Epoch  28 , loss 0.43619485676288605\n"
     ]
    },
    {
     "name": "stderr",
     "output_type": "stream",
     "text": [
      "\r",
      "Iterations:  10%|███▎                              | 29/300 [00:36<05:49,  1.29s/it]"
     ]
    },
    {
     "name": "stdout",
     "output_type": "stream",
     "text": [
      "Epoch:  28\n",
      "t_loss:  0.43619485676288605 , v_loss:  0.6690544486045837\n",
      "t_acc:  0.6963727329580988 , v_acc:  0.6988636363636364\n",
      "t_recall:  0.5023391812865498 , v_recall:  0.5\n",
      "t_prec:  0.7647243107769424 , v_prec:  0.3494318181818182\n",
      "t_f:  0.4154384835418661 , v_f:  0.411371237458194\n",
      "////////\n"
     ]
    },
    {
     "name": "stderr",
     "output_type": "stream",
     "text": [
      "\r",
      "Iterations:  10%|███▍                              | 30/300 [00:37<05:27,  1.21s/it]"
     ]
    },
    {
     "name": "stdout",
     "output_type": "stream",
     "text": [
      "Epoch  29 , loss 0.4432595121860504\n",
      "Epoch  30 , loss 0.4445096218585968\n"
     ]
    },
    {
     "name": "stderr",
     "output_type": "stream",
     "text": [
      "\r",
      "Iterations:  10%|███▌                              | 31/300 [00:39<05:47,  1.29s/it]"
     ]
    },
    {
     "name": "stdout",
     "output_type": "stream",
     "text": [
      "Epoch:  30\n",
      "t_loss:  0.4445096218585968 , v_loss:  0.6748184760411581\n",
      "t_acc:  0.6938711694809255 , v_acc:  0.6988636363636364\n",
      "t_recall:  0.49938821412505624 , v_recall:  0.5\n",
      "t_prec:  0.4307644110275689 , v_prec:  0.3494318181818182\n",
      "t_f:  0.4106223227471544 , v_f:  0.411371237458194\n",
      "////////\n"
     ]
    },
    {
     "name": "stderr",
     "output_type": "stream",
     "text": [
      "\r",
      "Iterations:  11%|███▋                              | 32/300 [00:40<05:22,  1.20s/it]"
     ]
    },
    {
     "name": "stdout",
     "output_type": "stream",
     "text": [
      "Epoch  31 , loss 0.4343507325649261\n",
      "Epoch  32 , loss 0.43897983491420745\n"
     ]
    },
    {
     "name": "stderr",
     "output_type": "stream",
     "text": [
      "\r",
      "Iterations:  11%|███▋                              | 33/300 [00:41<05:48,  1.30s/it]"
     ]
    },
    {
     "name": "stdout",
     "output_type": "stream",
     "text": [
      "Epoch:  32\n",
      "t_loss:  0.43897983491420745 , v_loss:  0.6801239848136902\n",
      "t_acc:  0.6948092557848655 , v_acc:  0.6988636363636364\n",
      "t_recall:  0.5009266756635178 , v_recall:  0.5\n",
      "t_prec:  0.5699801400648061 , v_prec:  0.3494318181818182\n",
      "t_f:  0.4138950480413895 , v_f:  0.411371237458194\n",
      "////////\n"
     ]
    },
    {
     "name": "stderr",
     "output_type": "stream",
     "text": [
      "\r",
      "Iterations:  11%|███▊                              | 34/300 [00:42<05:20,  1.20s/it]"
     ]
    },
    {
     "name": "stdout",
     "output_type": "stream",
     "text": [
      "Epoch  33 , loss 0.4327870810031891\n",
      "Epoch  34 , loss 0.4333353888988495\n"
     ]
    },
    {
     "name": "stderr",
     "output_type": "stream",
     "text": [
      "\r",
      "Iterations:  12%|███▉                              | 35/300 [00:44<06:05,  1.38s/it]"
     ]
    },
    {
     "name": "stdout",
     "output_type": "stream",
     "text": [
      "Epoch:  34\n",
      "t_loss:  0.4333353888988495 , v_loss:  0.6872316201527914\n",
      "t_acc:  0.6976235146966854 , v_acc:  0.6988636363636364\n",
      "t_recall:  0.5046783625730994 , v_recall:  0.5\n",
      "t_prec:  0.7652228499686127 , v_prec:  0.3494318181818182\n",
      "t_f:  0.4207436553172383 , v_f:  0.411371237458194\n",
      "////////\n"
     ]
    },
    {
     "name": "stderr",
     "output_type": "stream",
     "text": [
      "\r",
      "Iterations:  12%|████                              | 36/300 [00:45<05:28,  1.24s/it]"
     ]
    },
    {
     "name": "stdout",
     "output_type": "stream",
     "text": [
      "Epoch  35 , loss 0.42679230093955994\n",
      "Epoch  36 , loss 0.4302978491783142\n"
     ]
    },
    {
     "name": "stderr",
     "output_type": "stream",
     "text": [
      "\r",
      "Iterations:  12%|████▏                             | 37/300 [00:47<06:01,  1.37s/it]"
     ]
    },
    {
     "name": "stdout",
     "output_type": "stream",
     "text": [
      "Epoch:  36\n",
      "t_loss:  0.4302978491783142 , v_loss:  0.6906822721163431\n",
      "t_acc:  0.6960600375234521 , v_acc:  0.6931818181818182\n",
      "t_recall:  0.5032658569500674 , v_recall:  0.4959349593495935\n",
      "t_prec:  0.6482563619227144 , v_prec:  0.3485714285714286\n",
      "t_f:  0.4191907981031177 , v_f:  0.40939597315436244\n",
      "////////\n"
     ]
    },
    {
     "name": "stderr",
     "output_type": "stream",
     "text": [
      "\r",
      "Iterations:  13%|████▎                             | 38/300 [00:48<05:27,  1.25s/it]"
     ]
    },
    {
     "name": "stdout",
     "output_type": "stream",
     "text": [
      "Epoch  37 , loss 0.43082088947296143\n",
      "Epoch  38 , loss 0.4289940673112869\n"
     ]
    },
    {
     "name": "stderr",
     "output_type": "stream",
     "text": [
      "\r",
      "Iterations:  13%|████▍                             | 39/300 [00:49<05:41,  1.31s/it]"
     ]
    },
    {
     "name": "stdout",
     "output_type": "stream",
     "text": [
      "Epoch:  38\n",
      "t_loss:  0.4289940673112869 , v_loss:  0.6909235219160715\n",
      "t_acc:  0.6951219512195121 , v_acc:  0.6988636363636364\n",
      "t_recall:  0.5034547908232119 , v_recall:  0.5053689216137445\n",
      "t_prec:  0.5982986767485823 , v_prec:  0.6005747126436782\n",
      "t_f:  0.4216840520342466 , v_f:  0.4289562289562289\n",
      "////////\n"
     ]
    },
    {
     "name": "stderr",
     "output_type": "stream",
     "text": [
      "\r",
      "Iterations:  13%|████▌                             | 40/300 [00:50<05:05,  1.18s/it]"
     ]
    },
    {
     "name": "stdout",
     "output_type": "stream",
     "text": [
      "Epoch  39 , loss 0.42722994327545166\n",
      "Epoch  40 , loss 0.4253956538438797\n"
     ]
    },
    {
     "name": "stderr",
     "output_type": "stream",
     "text": [
      "\r",
      "Iterations:  14%|████▋                             | 41/300 [00:52<05:41,  1.32s/it]"
     ]
    },
    {
     "name": "stdout",
     "output_type": "stream",
     "text": [
      "Epoch:  40\n",
      "t_loss:  0.4253956538438797 , v_loss:  0.6956110099951426\n",
      "t_acc:  0.698874296435272 , v_acc:  0.7045454545454546\n",
      "t_recall:  0.5075933423301844 , v_recall:  0.5148028838778954\n",
      "t_prec:  0.7355449965651477 , v_prec:  0.6859344894026975\n",
      "t_f:  0.4278679713896273 , v_f:  0.4478764478764478\n",
      "////////\n"
     ]
    },
    {
     "name": "stderr",
     "output_type": "stream",
     "text": [
      "\r",
      "Iterations:  14%|████▊                             | 42/300 [00:52<05:07,  1.19s/it]"
     ]
    },
    {
     "name": "stdout",
     "output_type": "stream",
     "text": [
      "Epoch  41 , loss 0.42775398552417754\n",
      "Epoch  42 , loss 0.43156672358512876\n"
     ]
    },
    {
     "name": "stderr",
     "output_type": "stream",
     "text": [
      "\r",
      "Iterations:  14%|████▊                             | 43/300 [00:54<05:34,  1.30s/it]"
     ]
    },
    {
     "name": "stdout",
     "output_type": "stream",
     "text": [
      "Epoch:  42\n",
      "t_loss:  0.43156672358512876 , v_loss:  0.7035638789335886\n",
      "t_acc:  0.6976235146966854 , v_acc:  0.7102272727272727\n",
      "t_recall:  0.506693657219973 , v_recall:  0.5242368461420464\n",
      "t_prec:  0.6759142496847415 , v_prec:  0.7296511627906976\n",
      "t_f:  0.42736299844733583 , v_f:  0.4661909009812667\n",
      "////////\n"
     ]
    },
    {
     "name": "stderr",
     "output_type": "stream",
     "text": [
      "\r",
      "Iterations:  15%|████▉                             | 44/300 [00:55<05:01,  1.18s/it]"
     ]
    },
    {
     "name": "stdout",
     "output_type": "stream",
     "text": [
      "Epoch  43 , loss 0.4284734690189362\n",
      "Epoch  44 , loss 0.4291009783744812\n"
     ]
    },
    {
     "name": "stderr",
     "output_type": "stream",
     "text": [
      "\r",
      "Iterations:  15%|█████                             | 45/300 [00:56<05:27,  1.28s/it]"
     ]
    },
    {
     "name": "stdout",
     "output_type": "stream",
     "text": [
      "Epoch:  44\n",
      "t_loss:  0.4291009783744812 , v_loss:  0.7039147317409515\n",
      "t_acc:  0.6973108192620388 , v_acc:  0.7102272727272727\n",
      "t_recall:  0.5081961313540261 , v_recall:  0.5296057677557908\n",
      "t_prec:  0.6441911997467553 , v_prec:  0.6892156862745098\n",
      "t_f:  0.4327530514821485 , v_f:  0.480765893445942\n",
      "////////\n"
     ]
    },
    {
     "name": "stderr",
     "output_type": "stream",
     "text": [
      "\r",
      "Iterations:  15%|█████▏                            | 46/300 [00:58<05:09,  1.22s/it]"
     ]
    },
    {
     "name": "stdout",
     "output_type": "stream",
     "text": [
      "Epoch  45 , loss 0.4201482951641083\n",
      "Epoch  46 , loss 0.42794582664966585\n"
     ]
    },
    {
     "name": "stderr",
     "output_type": "stream",
     "text": [
      "\r",
      "Iterations:  16%|█████▎                            | 47/300 [00:59<05:36,  1.33s/it]"
     ]
    },
    {
     "name": "stdout",
     "output_type": "stream",
     "text": [
      "Epoch:  46\n",
      "t_loss:  0.42794582664966585 , v_loss:  0.7046084602673849\n",
      "t_acc:  0.6991869918699187 , v_acc:  0.7102272727272727\n",
      "t_recall:  0.5115609536662169 , v_recall:  0.5296057677557908\n",
      "t_prec:  0.6691965401054714 , v_prec:  0.6892156862745098\n",
      "t_f:  0.43984918324585215 , v_f:  0.480765893445942\n",
      "////////\n"
     ]
    },
    {
     "name": "stderr",
     "output_type": "stream",
     "text": [
      "\r",
      "Iterations:  16%|█████▍                            | 48/300 [01:00<05:26,  1.30s/it]"
     ]
    },
    {
     "name": "stdout",
     "output_type": "stream",
     "text": [
      "Epoch  47 , loss 0.4250772076845169\n",
      "Epoch  48 , loss 0.4275739580392838\n"
     ]
    },
    {
     "name": "stderr",
     "output_type": "stream",
     "text": [
      "\r",
      "Iterations:  16%|█████▌                            | 49/300 [01:02<05:46,  1.38s/it]"
     ]
    },
    {
     "name": "stdout",
     "output_type": "stream",
     "text": [
      "Epoch:  48\n",
      "t_loss:  0.4275739580392838 , v_loss:  0.704938679933548\n",
      "t_acc:  0.701688555347092 , v_acc:  0.7045454545454546\n",
      "t_recall:  0.514799820062978 , v_recall:  0.5255407271053842\n",
      "t_prec:  0.7078891257995736 , v_prec:  0.6407438715131022\n",
      "t_f:  0.44538594215376026 , v_f:  0.4776255707762556\n",
      "////////\n"
     ]
    },
    {
     "name": "stderr",
     "output_type": "stream",
     "text": [
      "\r",
      "Iterations:  17%|█████▋                            | 50/300 [01:03<05:19,  1.28s/it]"
     ]
    },
    {
     "name": "stdout",
     "output_type": "stream",
     "text": [
      "Epoch  49 , loss 0.4254039007425308\n",
      "Epoch  50 , loss 0.42277559876441956\n"
     ]
    },
    {
     "name": "stderr",
     "output_type": "stream",
     "text": [
      "\r",
      "Iterations:  17%|█████▊                            | 51/300 [01:04<05:31,  1.33s/it]"
     ]
    },
    {
     "name": "stdout",
     "output_type": "stream",
     "text": [
      "Epoch:  50\n",
      "t_loss:  0.42277559876441956 , v_loss:  0.7029967506726583\n",
      "t_acc:  0.7004377736085053 , v_acc:  0.7045454545454546\n",
      "t_recall:  0.5121727395411606 , v_recall:  0.5255407271053842\n",
      "t_prec:  0.7038327526132404 , v_prec:  0.6407438715131022\n",
      "t_f:  0.43950984983754354 , v_f:  0.4776255707762556\n",
      "////////\n"
     ]
    },
    {
     "name": "stderr",
     "output_type": "stream",
     "text": [
      "\r",
      "Iterations:  17%|█████▉                            | 52/300 [01:05<04:58,  1.20s/it]"
     ]
    },
    {
     "name": "stdout",
     "output_type": "stream",
     "text": [
      "Epoch  51 , loss 0.4249826020002365\n",
      "Epoch  52 , loss 0.4194307392835617\n"
     ]
    },
    {
     "name": "stderr",
     "output_type": "stream",
     "text": [
      "\r",
      "Iterations:  18%|██████                            | 53/300 [01:07<05:21,  1.30s/it]"
     ]
    },
    {
     "name": "stdout",
     "output_type": "stream",
     "text": [
      "Epoch:  52\n",
      "t_loss:  0.4194307392835617 , v_loss:  0.7044656773408254\n",
      "t_acc:  0.701688555347092 , v_acc:  0.7045454545454546\n",
      "t_recall:  0.5145119208277102 , v_recall:  0.5255407271053842\n",
      "t_prec:  0.712384450731615 , v_prec:  0.6407438715131022\n",
      "t_f:  0.4445074020961985 , v_f:  0.4776255707762556\n",
      "////////\n"
     ]
    },
    {
     "name": "stderr",
     "output_type": "stream",
     "text": [
      "\r",
      "Iterations:  18%|██████                            | 54/300 [01:08<04:56,  1.21s/it]"
     ]
    },
    {
     "name": "stdout",
     "output_type": "stream",
     "text": [
      "Epoch  53 , loss 0.41943555772304536\n",
      "Epoch  54 , loss 0.4271977305412292\n"
     ]
    },
    {
     "name": "stderr",
     "output_type": "stream",
     "text": [
      "\r",
      "Iterations:  18%|██████▏                           | 55/300 [01:09<05:23,  1.32s/it]"
     ]
    },
    {
     "name": "stdout",
     "output_type": "stream",
     "text": [
      "Epoch:  54\n",
      "t_loss:  0.4271977305412292 , v_loss:  0.7075076202551523\n",
      "t_acc:  0.7001250781738587 , v_acc:  0.7045454545454546\n",
      "t_recall:  0.5139631129104814 , v_recall:  0.5255407271053842\n",
      "t_prec:  0.672001454942257 , v_prec:  0.6407438715131022\n",
      "t_f:  0.44554197329206524 , v_f:  0.4776255707762556\n",
      "////////\n"
     ]
    },
    {
     "name": "stderr",
     "output_type": "stream",
     "text": [
      "\r",
      "Iterations:  19%|██████▎                           | 56/300 [01:10<05:00,  1.23s/it]"
     ]
    },
    {
     "name": "stdout",
     "output_type": "stream",
     "text": [
      "Epoch  55 , loss 0.4251178026199341\n",
      "Epoch  56 , loss 0.4207675975561142\n"
     ]
    },
    {
     "name": "stderr",
     "output_type": "stream",
     "text": [
      "\r",
      "Iterations:  19%|██████▍                           | 57/300 [01:12<05:22,  1.33s/it]"
     ]
    },
    {
     "name": "stdout",
     "output_type": "stream",
     "text": [
      "Epoch:  56\n",
      "t_loss:  0.4207675975561142 , v_loss:  0.700927346944809\n",
      "t_acc:  0.7010631644777986 , v_acc:  0.7045454545454546\n",
      "t_recall:  0.5131983805668016 , v_recall:  0.5255407271053842\n",
      "t_prec:  0.7108613127925405 , v_prec:  0.6407438715131022\n",
      "t_f:  0.44157124163714356 , v_f:  0.4776255707762556\n",
      "////////\n"
     ]
    },
    {
     "name": "stderr",
     "output_type": "stream",
     "text": [
      "\r",
      "Iterations:  19%|██████▌                           | 58/300 [01:13<05:01,  1.24s/it]"
     ]
    },
    {
     "name": "stdout",
     "output_type": "stream",
     "text": [
      "Epoch  57 , loss 0.42844223499298095\n",
      "Epoch  58 , loss 0.4218830472230911\n"
     ]
    },
    {
     "name": "stderr",
     "output_type": "stream",
     "text": [
      "\r",
      "Iterations:  20%|██████▋                           | 59/300 [01:15<05:17,  1.32s/it]"
     ]
    },
    {
     "name": "stdout",
     "output_type": "stream",
     "text": [
      "Epoch:  58\n",
      "t_loss:  0.4218830472230911 , v_loss:  0.7002247869968414\n",
      "t_acc:  0.706066291432145 , v_acc:  0.7045454545454546\n",
      "t_recall:  0.5231309041835358 , v_recall:  0.5255407271053842\n",
      "t_prec:  0.725813789034173 , v_prec:  0.6407438715131022\n",
      "t_f:  0.46281874877146584 , v_f:  0.4776255707762556\n",
      "////////\n"
     ]
    },
    {
     "name": "stderr",
     "output_type": "stream",
     "text": [
      "\r",
      "Iterations:  20%|██████▊                           | 60/300 [01:16<04:57,  1.24s/it]"
     ]
    },
    {
     "name": "stdout",
     "output_type": "stream",
     "text": [
      "Epoch  59 , loss 0.41719571709632874\n",
      "Epoch  60 , loss 0.42253452479839326\n"
     ]
    },
    {
     "name": "stderr",
     "output_type": "stream",
     "text": [
      "\r",
      "Iterations:  20%|██████▉                           | 61/300 [01:17<05:11,  1.30s/it]"
     ]
    },
    {
     "name": "stdout",
     "output_type": "stream",
     "text": [
      "Epoch:  60\n",
      "t_loss:  0.42253452479839326 , v_loss:  0.700636476278305\n",
      "t_acc:  0.700750469043152 , v_acc:  0.7045454545454546\n",
      "t_recall:  0.5138371569950517 , v_recall:  0.5255407271053842\n",
      "t_prec:  0.6905400254129606 , v_prec:  0.6407438715131022\n",
      "t_f:  0.44408117668962943 , v_f:  0.4776255707762556\n",
      "////////\n"
     ]
    },
    {
     "name": "stderr",
     "output_type": "stream",
     "text": [
      "\r",
      "Iterations:  21%|███████                           | 62/300 [01:18<04:48,  1.21s/it]"
     ]
    },
    {
     "name": "stdout",
     "output_type": "stream",
     "text": [
      "Epoch  61 , loss 0.4235744309425354\n",
      "Epoch  62 , loss 0.4226110106706619\n"
     ]
    },
    {
     "name": "stderr",
     "output_type": "stream",
     "text": [
      "\r",
      "Iterations:  21%|███████▏                          | 63/300 [01:19<05:04,  1.29s/it]"
     ]
    },
    {
     "name": "stdout",
     "output_type": "stream",
     "text": [
      "Epoch:  62\n",
      "t_loss:  0.4226110106706619 , v_loss:  0.6983430782953898\n",
      "t_acc:  0.702626641651032 , v_acc:  0.7045454545454546\n",
      "t_recall:  0.5166261808367072 , v_recall:  0.5255407271053842\n",
      "t_prec:  0.71225614927905 , v_prec:  0.6407438715131022\n",
      "t_f:  0.44930389308162777 , v_f:  0.4776255707762556\n",
      "////////\n"
     ]
    },
    {
     "name": "stderr",
     "output_type": "stream",
     "text": [
      "\r",
      "Iterations:  21%|███████▎                          | 64/300 [01:20<04:43,  1.20s/it]"
     ]
    },
    {
     "name": "stdout",
     "output_type": "stream",
     "text": [
      "Epoch  63 , loss 0.4202250403165817\n",
      "Epoch  64 , loss 0.41860542953014374\n"
     ]
    },
    {
     "name": "stderr",
     "output_type": "stream",
     "text": [
      "\r",
      "Iterations:  22%|███████▎                          | 65/300 [01:22<05:09,  1.32s/it]"
     ]
    },
    {
     "name": "stdout",
     "output_type": "stream",
     "text": [
      "Epoch:  64\n",
      "t_loss:  0.41860542953014374 , v_loss:  0.6924355824788412\n",
      "t_acc:  0.7013758599124453 , v_acc:  0.7045454545454546\n",
      "t_recall:  0.516302294197031 , v_recall:  0.5309096487191287\n",
      "t_prec:  0.681729344963792 , v_prec:  0.6340652029274784\n",
      "t_f:  0.45043468184002866 , v_f:  0.49098998887652945\n",
      "////////\n"
     ]
    },
    {
     "name": "stderr",
     "output_type": "stream",
     "text": [
      "\r",
      "Iterations:  22%|███████▍                          | 66/300 [01:23<04:38,  1.19s/it]"
     ]
    },
    {
     "name": "stdout",
     "output_type": "stream",
     "text": [
      "Epoch  65 , loss 0.42174316763877867\n",
      "Epoch  66 , loss 0.41991602957248686\n"
     ]
    },
    {
     "name": "stderr",
     "output_type": "stream",
     "text": [
      "\r",
      "Iterations:  22%|███████▌                          | 67/300 [01:25<05:11,  1.34s/it]"
     ]
    },
    {
     "name": "stdout",
     "output_type": "stream",
     "text": [
      "Epoch:  66\n",
      "t_loss:  0.41991602957248686 , v_loss:  0.6956100364526113\n",
      "t_acc:  0.7038774233896186 , v_acc:  0.7045454545454546\n",
      "t_recall:  0.5192532613585246 , v_recall:  0.5255407271053842\n",
      "t_prec:  0.7146251645819619 , v_prec:  0.6407438715131022\n",
      "t_f:  0.4550383703691174 , v_f:  0.4776255707762556\n",
      "////////\n"
     ]
    },
    {
     "name": "stderr",
     "output_type": "stream",
     "text": [
      "\r",
      "Iterations:  23%|███████▋                          | 68/300 [01:26<04:37,  1.19s/it]"
     ]
    },
    {
     "name": "stdout",
     "output_type": "stream",
     "text": [
      "Epoch  67 , loss 0.4181531578302383\n",
      "Epoch  68 , loss 0.41398163497447965\n"
     ]
    },
    {
     "name": "stderr",
     "output_type": "stream",
     "text": [
      "\r",
      "Iterations:  23%|███████▊                          | 69/300 [01:27<05:08,  1.34s/it]"
     ]
    },
    {
     "name": "stdout",
     "output_type": "stream",
     "text": [
      "Epoch:  68\n",
      "t_loss:  0.41398163497447965 , v_loss:  0.6965049803256989\n",
      "t_acc:  0.7051282051282052 , v_acc:  0.7045454545454546\n",
      "t_recall:  0.5215924426450742 , v_recall:  0.5309096487191287\n",
      "t_prec:  0.719883480548769 , v_prec:  0.6340652029274784\n",
      "t_f:  0.45985718888826593 , v_f:  0.49098998887652945\n",
      "////////\n"
     ]
    },
    {
     "name": "stderr",
     "output_type": "stream",
     "text": [
      "\r",
      "Iterations:  23%|███████▉                          | 70/300 [01:28<04:39,  1.21s/it]"
     ]
    },
    {
     "name": "stdout",
     "output_type": "stream",
     "text": [
      "Epoch  69 , loss 0.4170025837421417\n",
      "Epoch  70 , loss 0.4164261418581009\n"
     ]
    },
    {
     "name": "stderr",
     "output_type": "stream",
     "text": [
      "\r",
      "Iterations:  24%|████████                          | 71/300 [01:30<05:03,  1.33s/it]"
     ]
    },
    {
     "name": "stdout",
     "output_type": "stream",
     "text": [
      "Epoch:  70\n",
      "t_loss:  0.4164261418581009 , v_loss:  0.696033368508021\n",
      "t_acc:  0.707004377736085 , v_acc:  0.6988636363636364\n",
      "t_recall:  0.5235177687809267 , v_recall:  0.5268446080687222\n",
      "t_prec:  0.7465894577963543 , v_prec:  0.6054216867469879\n",
      "t_f:  0.46246364059552747 , v_f:  0.4876695776349755\n",
      "////////\n"
     ]
    },
    {
     "name": "stderr",
     "output_type": "stream",
     "text": [
      "\r",
      "Iterations:  24%|████████▏                         | 72/300 [01:31<04:41,  1.23s/it]"
     ]
    },
    {
     "name": "stdout",
     "output_type": "stream",
     "text": [
      "Epoch  71 , loss 0.4145091980695724\n",
      "Epoch  72 , loss 0.41976955711841585\n"
     ]
    },
    {
     "name": "stderr",
     "output_type": "stream",
     "text": [
      "\r",
      "Iterations:  24%|████████▎                         | 73/300 [01:32<04:55,  1.30s/it]"
     ]
    },
    {
     "name": "stdout",
     "output_type": "stream",
     "text": [
      "Epoch:  72\n",
      "t_loss:  0.41976955711841585 , v_loss:  0.6935102045536041\n",
      "t_acc:  0.7051282051282052 , v_acc:  0.7045454545454546\n",
      "t_recall:  0.5218803418803419 , v_recall:  0.5309096487191287\n",
      "t_prec:  0.7165875045670442 , v_prec:  0.6340652029274784\n",
      "t_f:  0.4606894566056159 , v_f:  0.49098998887652945\n",
      "////////\n"
     ]
    },
    {
     "name": "stderr",
     "output_type": "stream",
     "text": [
      "\r",
      "Iterations:  25%|████████▍                         | 74/300 [01:33<04:27,  1.19s/it]"
     ]
    },
    {
     "name": "stdout",
     "output_type": "stream",
     "text": [
      "Epoch  73 , loss 0.4209679764509201\n",
      "Epoch  74 , loss 0.4205853629112244\n"
     ]
    },
    {
     "name": "stderr",
     "output_type": "stream",
     "text": [
      "\r",
      "Iterations:  25%|████████▌                         | 75/300 [01:35<04:46,  1.27s/it]"
     ]
    },
    {
     "name": "stdout",
     "output_type": "stream",
     "text": [
      "Epoch:  74\n",
      "t_loss:  0.4205853629112244 , v_loss:  0.6910444895426432\n",
      "t_acc:  0.706066291432145 , v_acc:  0.6988636363636364\n",
      "t_recall:  0.5239946018893388 , v_recall:  0.5268446080687222\n",
      "t_prec:  0.7164079112172672 , v_prec:  0.6054216867469879\n",
      "t_f:  0.465282837367091 , v_f:  0.4876695776349755\n",
      "////////\n"
     ]
    },
    {
     "name": "stderr",
     "output_type": "stream",
     "text": [
      "\r",
      "Iterations:  25%|████████▌                         | 76/300 [01:35<04:21,  1.17s/it]"
     ]
    },
    {
     "name": "stdout",
     "output_type": "stream",
     "text": [
      "Epoch  75 , loss 0.4181414598226547\n",
      "Epoch  76 , loss 0.4185278934240341\n"
     ]
    },
    {
     "name": "stderr",
     "output_type": "stream",
     "text": [
      "\r",
      "Iterations:  26%|████████▋                         | 77/300 [01:37<04:42,  1.27s/it]"
     ]
    },
    {
     "name": "stdout",
     "output_type": "stream",
     "text": [
      "Epoch:  76\n",
      "t_loss:  0.4185278934240341 , v_loss:  0.6906648178895315\n",
      "t_acc:  0.7001250781738587 , v_acc:  0.6988636363636364\n",
      "t_recall:  0.5148268106162843 , v_recall:  0.5268446080687222\n",
      "t_prec:  0.6652814351547071 , v_prec:  0.6054216867469879\n",
      "t_f:  0.44813283757548433 , v_f:  0.4876695776349755\n",
      "////////\n"
     ]
    },
    {
     "name": "stderr",
     "output_type": "stream",
     "text": [
      "\r",
      "Iterations:  26%|████████▊                         | 78/300 [01:38<04:20,  1.17s/it]"
     ]
    },
    {
     "name": "stdout",
     "output_type": "stream",
     "text": [
      "Epoch  77 , loss 0.41793441236019135\n",
      "Epoch  78 , loss 0.41034673929214477\n"
     ]
    },
    {
     "name": "stderr",
     "output_type": "stream",
     "text": [
      "\r",
      "Iterations:  26%|████████▉                         | 79/300 [01:40<04:52,  1.32s/it]"
     ]
    },
    {
     "name": "stdout",
     "output_type": "stream",
     "text": [
      "Epoch:  78\n",
      "t_loss:  0.41034673929214477 , v_loss:  0.6892117857933044\n",
      "t_acc:  0.7085678549093183 , v_acc:  0.6931818181818182\n",
      "t_recall:  0.5269455690508322 , v_recall:  0.5227795674183157\n",
      "t_prec:  0.7430227574412132 , v_prec:  0.5818181818181818\n",
      "t_f:  0.46983362172992416 , v_f:  0.484375\n",
      "////////\n"
     ]
    },
    {
     "name": "stderr",
     "output_type": "stream",
     "text": [
      "\r",
      "Iterations:  27%|█████████                         | 80/300 [01:41<04:43,  1.29s/it]"
     ]
    },
    {
     "name": "stdout",
     "output_type": "stream",
     "text": [
      "Epoch  79 , loss 0.41555180311203005\n",
      "Epoch  80 , loss 0.4130725437402725\n"
     ]
    },
    {
     "name": "stderr",
     "output_type": "stream",
     "text": [
      "\r",
      "Iterations:  27%|█████████▏                        | 81/300 [01:43<05:12,  1.42s/it]"
     ]
    },
    {
     "name": "stdout",
     "output_type": "stream",
     "text": [
      "Epoch:  80\n",
      "t_loss:  0.4130725437402725 , v_loss:  0.6878336767355601\n",
      "t_acc:  0.7073170731707317 , v_acc:  0.6931818181818182\n",
      "t_recall:  0.5243184885290149 , v_recall:  0.5281484890320601\n",
      "t_prec:  0.7441327275001042 , v_prec:  0.5865974516281265\n",
      "t_f:  0.46428019174269364 , v_f:  0.49650349650349646\n",
      "////////\n"
     ]
    },
    {
     "name": "stderr",
     "output_type": "stream",
     "text": [
      "\r",
      "Iterations:  27%|█████████▎                        | 82/300 [01:44<04:50,  1.33s/it]"
     ]
    },
    {
     "name": "stdout",
     "output_type": "stream",
     "text": [
      "Epoch  81 , loss 0.42020486056804657\n",
      "Epoch  82 , loss 0.4103611087799072\n"
     ]
    },
    {
     "name": "stderr",
     "output_type": "stream",
     "text": [
      "\r",
      "Iterations:  28%|█████████▍                        | 83/300 [01:45<05:02,  1.39s/it]"
     ]
    },
    {
     "name": "stdout",
     "output_type": "stream",
     "text": [
      "Epoch:  82\n",
      "t_loss:  0.4103611087799072 , v_loss:  0.6854180991649628\n",
      "t_acc:  0.7066916823014384 , v_acc:  0.6931818181818182\n",
      "t_recall:  0.5235807467386415 , v_recall:  0.5281484890320601\n",
      "t_prec:  0.736726555226701 , v_prec:  0.5865974516281265\n",
      "t_f:  0.46313549129769943 , v_f:  0.49650349650349646\n",
      "////////\n"
     ]
    },
    {
     "name": "stderr",
     "output_type": "stream",
     "text": [
      "\r",
      "Iterations:  28%|█████████▌                        | 84/300 [01:46<04:34,  1.27s/it]"
     ]
    },
    {
     "name": "stdout",
     "output_type": "stream",
     "text": [
      "Epoch  83 , loss 0.4103050917387009\n",
      "Epoch  84 , loss 0.4168470174074173\n"
     ]
    },
    {
     "name": "stderr",
     "output_type": "stream",
     "text": [
      "\r",
      "Iterations:  28%|█████████▋                        | 85/300 [01:48<04:44,  1.32s/it]"
     ]
    },
    {
     "name": "stdout",
     "output_type": "stream",
     "text": [
      "Epoch:  84\n",
      "t_loss:  0.4168470174074173 , v_loss:  0.6851333479086558\n",
      "t_acc:  0.7066916823014384 , v_acc:  0.6931818181818182\n",
      "t_recall:  0.5250202429149797 , v_recall:  0.5281484890320601\n",
      "t_prec:  0.7200863632858633 , v_prec:  0.5865974516281265\n",
      "t_f:  0.46723362960237047 , v_f:  0.49650349650349646\n",
      "////////\n"
     ]
    },
    {
     "name": "stderr",
     "output_type": "stream",
     "text": [
      "\r",
      "Iterations:  29%|█████████▋                        | 86/300 [01:49<04:18,  1.21s/it]"
     ]
    },
    {
     "name": "stdout",
     "output_type": "stream",
     "text": [
      "Epoch  85 , loss 0.41091574609279635\n",
      "Epoch  86 , loss 0.41856417179107663\n"
     ]
    },
    {
     "name": "stderr",
     "output_type": "stream",
     "text": [
      "\r",
      "Iterations:  29%|█████████▊                        | 87/300 [01:50<04:33,  1.28s/it]"
     ]
    },
    {
     "name": "stdout",
     "output_type": "stream",
     "text": [
      "Epoch:  86\n",
      "t_loss:  0.41856417179107663 , v_loss:  0.6866769095261892\n",
      "t_acc:  0.702626641651032 , v_acc:  0.6931818181818182\n",
      "t_recall:  0.5189293747188484 , v_recall:  0.5281484890320601\n",
      "t_prec:  0.6873766898063574 , v_prec:  0.5865974516281265\n",
      "t_f:  0.4561141815821217 , v_f:  0.49650349650349646\n",
      "////////\n"
     ]
    },
    {
     "name": "stderr",
     "output_type": "stream",
     "text": [
      "\r",
      "Iterations:  29%|█████████▉                        | 88/300 [01:51<04:10,  1.18s/it]"
     ]
    },
    {
     "name": "stdout",
     "output_type": "stream",
     "text": [
      "Epoch  87 , loss 0.4078404003381729\n",
      "Epoch  88 , loss 0.408973348736763\n"
     ]
    },
    {
     "name": "stderr",
     "output_type": "stream",
     "text": [
      "\r",
      "Iterations:  30%|██████████                        | 89/300 [01:53<04:33,  1.30s/it]"
     ]
    },
    {
     "name": "stdout",
     "output_type": "stream",
     "text": [
      "Epoch:  88\n",
      "t_loss:  0.408973348736763 , v_loss:  0.6894605159759521\n",
      "t_acc:  0.707942464040025 , v_acc:  0.6931818181818182\n",
      "t_recall:  0.5256320287899235 , v_recall:  0.5281484890320601\n",
      "t_prec:  0.7435309589041096 , v_prec:  0.5865974516281265\n",
      "t_f:  0.4670669494767252 , v_f:  0.49650349650349646\n",
      "////////\n"
     ]
    },
    {
     "name": "stderr",
     "output_type": "stream",
     "text": [
      "\r",
      "Iterations:  30%|██████████▏                       | 90/300 [01:54<04:14,  1.21s/it]"
     ]
    },
    {
     "name": "stdout",
     "output_type": "stream",
     "text": [
      "Epoch  89 , loss 0.4117115920782089\n",
      "Epoch  90 , loss 0.41728917598724363\n"
     ]
    },
    {
     "name": "stderr",
     "output_type": "stream",
     "text": [
      "\r",
      "Iterations:  30%|██████████▎                       | 91/300 [01:55<04:39,  1.34s/it]"
     ]
    },
    {
     "name": "stdout",
     "output_type": "stream",
     "text": [
      "Epoch:  90\n",
      "t_loss:  0.41728917598724363 , v_loss:  0.6822417378425598\n",
      "t_acc:  0.7082551594746717 , v_acc:  0.6931818181818182\n",
      "t_recall:  0.528735942420153 , v_recall:  0.5281484890320601\n",
      "t_prec:  0.7179617290517653 , v_prec:  0.5865974516281265\n",
      "t_f:  0.47525300107649554 , v_f:  0.49650349650349646\n",
      "////////\n"
     ]
    },
    {
     "name": "stderr",
     "output_type": "stream",
     "text": [
      "\r",
      "Iterations:  31%|██████████▍                       | 92/300 [01:56<04:28,  1.29s/it]"
     ]
    },
    {
     "name": "stdout",
     "output_type": "stream",
     "text": [
      "Epoch  91 , loss 0.41217353105545046\n",
      "Epoch  92 , loss 0.4094845426082611\n"
     ]
    },
    {
     "name": "stderr",
     "output_type": "stream",
     "text": [
      "\r",
      "Iterations:  31%|██████████▌                       | 93/300 [01:58<04:36,  1.34s/it]"
     ]
    },
    {
     "name": "stdout",
     "output_type": "stream",
     "text": [
      "Epoch:  92\n",
      "t_loss:  0.4094845426082611 , v_loss:  0.6845033566157023\n",
      "t_acc:  0.7073170731707317 , v_acc:  0.6931818181818182\n",
      "t_recall:  0.5269095816464238 , v_recall:  0.5281484890320601\n",
      "t_prec:  0.7154923020649753 , v_prec:  0.5865974516281265\n",
      "t_f:  0.4715830012773827 , v_f:  0.49650349650349646\n",
      "////////\n"
     ]
    },
    {
     "name": "stderr",
     "output_type": "stream",
     "text": [
      "\r",
      "Iterations:  31%|██████████▋                       | 94/300 [01:59<04:15,  1.24s/it]"
     ]
    },
    {
     "name": "stdout",
     "output_type": "stream",
     "text": [
      "Epoch  93 , loss 0.41060754120349885\n",
      "Epoch  94 , loss 0.40993607342243193\n"
     ]
    },
    {
     "name": "stderr",
     "output_type": "stream",
     "text": [
      "\r",
      "Iterations:  32%|██████████▊                       | 95/300 [02:00<04:29,  1.32s/it]"
     ]
    },
    {
     "name": "stdout",
     "output_type": "stream",
     "text": [
      "Epoch:  94\n",
      "t_loss:  0.40993607342243193 , v_loss:  0.6831467151641846\n",
      "t_acc:  0.7098186366479049 , v_acc:  0.6931818181818182\n",
      "t_recall:  0.5321637426900585 , v_recall:  0.5281484890320601\n",
      "t_prec:  0.7186818702260145 , v_prec:  0.5865974516281265\n",
      "t_f:  0.4823224376762227 , v_f:  0.49650349650349646\n",
      "////////\n"
     ]
    },
    {
     "name": "stderr",
     "output_type": "stream",
     "text": [
      "\r",
      "Iterations:  32%|██████████▉                       | 96/300 [02:01<04:07,  1.21s/it]"
     ]
    },
    {
     "name": "stdout",
     "output_type": "stream",
     "text": [
      "Epoch  95 , loss 0.41480533480644227\n",
      "Epoch  96 , loss 0.4090442907810211\n"
     ]
    },
    {
     "name": "stderr",
     "output_type": "stream",
     "text": [
      "\r",
      "Iterations:  32%|██████████▉                       | 97/300 [02:03<04:28,  1.32s/it]"
     ]
    },
    {
     "name": "stdout",
     "output_type": "stream",
     "text": [
      "Epoch:  96\n",
      "t_loss:  0.4090442907810211 , v_loss:  0.6781670848528544\n",
      "t_acc:  0.7123202001250781 , v_acc:  0.6931818181818182\n",
      "t_recall:  0.5339631129104814 , v_recall:  0.5281484890320601\n",
      "t_prec:  0.749715894635073 , v_prec:  0.5865974516281265\n",
      "t_f:  0.48372470090299396 , v_f:  0.49650349650349646\n",
      "////////\n"
     ]
    },
    {
     "name": "stderr",
     "output_type": "stream",
     "text": [
      "\r",
      "Iterations:  33%|███████████                       | 98/300 [02:04<04:03,  1.21s/it]"
     ]
    },
    {
     "name": "stdout",
     "output_type": "stream",
     "text": [
      "Epoch  97 , loss 0.4081024569272995\n",
      "Epoch  98 , loss 0.40663391947746275\n"
     ]
    },
    {
     "name": "stderr",
     "output_type": "stream",
     "text": [
      "\r",
      "Iterations:  33%|███████████▏                      | 99/300 [02:05<04:26,  1.33s/it]"
     ]
    },
    {
     "name": "stdout",
     "output_type": "stream",
     "text": [
      "Epoch:  98\n",
      "t_loss:  0.40663391947746275 , v_loss:  0.6807730495929718\n",
      "t_acc:  0.7116948092557849 , v_acc:  0.6931818181818182\n",
      "t_recall:  0.5332253711201079 , v_recall:  0.5281484890320601\n",
      "t_prec:  0.7442916023542582 , v_prec:  0.5865974516281265\n",
      "t_f:  0.4826023632962613 , v_f:  0.49650349650349646\n",
      "////////\n"
     ]
    },
    {
     "name": "stderr",
     "output_type": "stream",
     "text": [
      "\r",
      "Iterations:  33%|███████████                      | 100/300 [02:06<04:01,  1.21s/it]"
     ]
    },
    {
     "name": "stdout",
     "output_type": "stream",
     "text": [
      "Epoch  99 , loss 0.4111580914258957\n",
      "Epoch  100 , loss 0.41429150581359864\n"
     ]
    },
    {
     "name": "stderr",
     "output_type": "stream",
     "text": [
      "\r",
      "Iterations:  34%|███████████                      | 101/300 [02:08<04:28,  1.35s/it]"
     ]
    },
    {
     "name": "stdout",
     "output_type": "stream",
     "text": [
      "Epoch:  100\n",
      "t_loss:  0.41429150581359864 , v_loss:  0.6716653207937876\n",
      "t_acc:  0.7141963727329581 , v_acc:  0.6988636363636364\n",
      "t_recall:  0.5373279352226721 , v_recall:  0.5375824512962111\n",
      "t_prec:  0.7537933089699955 , v_prec:  0.6080246913580247\n",
      "t_f:  0.4901322284871417 , v_f:  0.5114951557999476\n",
      "////////\n"
     ]
    },
    {
     "name": "stderr",
     "output_type": "stream",
     "text": [
      "\r",
      "Iterations:  34%|███████████▏                     | 102/300 [02:09<04:06,  1.24s/it]"
     ]
    },
    {
     "name": "stdout",
     "output_type": "stream",
     "text": [
      "Epoch  101 , loss 0.40716428697109225\n",
      "Epoch  102 , loss 0.4085921025276184\n"
     ]
    },
    {
     "name": "stderr",
     "output_type": "stream",
     "text": [
      "\r",
      "Iterations:  34%|███████████▎                     | 103/300 [02:11<04:27,  1.36s/it]"
     ]
    },
    {
     "name": "stdout",
     "output_type": "stream",
     "text": [
      "Epoch:  102\n",
      "t_loss:  0.4085921025276184 , v_loss:  0.6727561255296072\n",
      "t_acc:  0.7126328955597249 , v_acc:  0.6988636363636364\n",
      "t_recall:  0.5364912280701755 , v_recall:  0.5375824512962111\n",
      "t_prec:  0.7328426754592557 , v_prec:  0.6080246913580247\n",
      "t_f:  0.48997914943942966 , v_f:  0.5114951557999476\n",
      "////////\n"
     ]
    },
    {
     "name": "stderr",
     "output_type": "stream",
     "text": [
      "\r",
      "Iterations:  35%|███████████▍                     | 104/300 [02:12<04:07,  1.26s/it]"
     ]
    },
    {
     "name": "stdout",
     "output_type": "stream",
     "text": [
      "Epoch  103 , loss 0.4066702681779861\n",
      "Epoch  104 , loss 0.40790483593940735\n"
     ]
    },
    {
     "name": "stderr",
     "output_type": "stream",
     "text": [
      "\r",
      "Iterations:  35%|███████████▌                     | 105/300 [02:13<04:19,  1.33s/it]"
     ]
    },
    {
     "name": "stdout",
     "output_type": "stream",
     "text": [
      "Epoch:  104\n",
      "t_loss:  0.40790483593940735 , v_loss:  0.6704542934894562\n",
      "t_acc:  0.7132582864290181 , v_acc:  0.6988636363636364\n",
      "t_recall:  0.5363652721547458 , v_recall:  0.5375824512962111\n",
      "t_prec:  0.7449499030381384 , v_prec:  0.6080246913580247\n",
      "t_f:  0.4888366707378697 , v_f:  0.5114951557999476\n",
      "////////\n"
     ]
    },
    {
     "name": "stderr",
     "output_type": "stream",
     "text": [
      "\r",
      "Iterations:  35%|███████████▋                     | 106/300 [02:14<03:55,  1.21s/it]"
     ]
    },
    {
     "name": "stdout",
     "output_type": "stream",
     "text": [
      "Epoch  105 , loss 0.4080675655603409\n",
      "Epoch  106 , loss 0.4114061480760574\n"
     ]
    },
    {
     "name": "stderr",
     "output_type": "stream",
     "text": [
      "\r",
      "Iterations:  36%|███████████▊                     | 107/300 [02:16<04:12,  1.31s/it]"
     ]
    },
    {
     "name": "stdout",
     "output_type": "stream",
     "text": [
      "Epoch:  106\n",
      "t_loss:  0.4114061480760574 , v_loss:  0.6708062589168549\n",
      "t_acc:  0.7085678549093183 , v_acc:  0.6988636363636364\n",
      "t_recall:  0.5318398560503823 , v_recall:  0.5375824512962111\n",
      "t_prec:  0.7013981911941096 , v_prec:  0.6080246913580247\n",
      "t_f:  0.48314344872074994 , v_f:  0.5114951557999476\n",
      "////////\n"
     ]
    },
    {
     "name": "stderr",
     "output_type": "stream",
     "text": [
      "\r",
      "Iterations:  36%|███████████▉                     | 108/300 [02:17<03:49,  1.20s/it]"
     ]
    },
    {
     "name": "stdout",
     "output_type": "stream",
     "text": [
      "Epoch  107 , loss 0.41136166989803313\n",
      "Epoch  108 , loss 0.40486206591129303\n"
     ]
    },
    {
     "name": "stderr",
     "output_type": "stream",
     "text": [
      "\r",
      "Iterations:  36%|███████████▉                     | 109/300 [02:18<04:11,  1.32s/it]"
     ]
    },
    {
     "name": "stdout",
     "output_type": "stream",
     "text": [
      "Epoch:  108\n",
      "t_loss:  0.40486206591129303 , v_loss:  0.6725222965081533\n",
      "t_acc:  0.7166979362101313 , v_acc:  0.6931818181818182\n",
      "t_recall:  0.5437336932073774 , v_recall:  0.5281484890320601\n",
      "t_prec:  0.7430394059746113 , v_prec:  0.5865974516281265\n",
      "t_f:  0.5033606514103217 , v_f:  0.49650349650349646\n",
      "////////\n"
     ]
    },
    {
     "name": "stderr",
     "output_type": "stream",
     "text": [
      "\r",
      "Iterations:  37%|████████████                     | 110/300 [02:19<03:50,  1.21s/it]"
     ]
    },
    {
     "name": "stdout",
     "output_type": "stream",
     "text": [
      "Epoch  109 , loss 0.4087174552679062\n",
      "Epoch  110 , loss 0.40498569548130037\n"
     ]
    },
    {
     "name": "stderr",
     "output_type": "stream",
     "text": [
      "\r",
      "Iterations:  37%|████████████▏                    | 111/300 [02:21<04:20,  1.38s/it]"
     ]
    },
    {
     "name": "stdout",
     "output_type": "stream",
     "text": [
      "Epoch:  110\n",
      "t_loss:  0.40498569548130037 , v_loss:  0.6717403084039688\n",
      "t_acc:  0.7154471544715447 , v_acc:  0.6931818181818182\n",
      "t_recall:  0.5402429149797571 , v_recall:  0.5281484890320601\n",
      "t_prec:  0.7502072546291648 , v_prec:  0.5865974516281265\n",
      "t_f:  0.49608180216321646 , v_f:  0.49650349650349646\n",
      "////////\n"
     ]
    },
    {
     "name": "stderr",
     "output_type": "stream",
     "text": [
      "\r",
      "Iterations:  37%|████████████▎                    | 112/300 [02:22<03:54,  1.25s/it]"
     ]
    },
    {
     "name": "stdout",
     "output_type": "stream",
     "text": [
      "Epoch  111 , loss 0.4092338991165161\n",
      "Epoch  112 , loss 0.40252004444599154\n"
     ]
    },
    {
     "name": "stderr",
     "output_type": "stream",
     "text": [
      "\r",
      "Iterations:  38%|████████████▍                    | 113/300 [02:23<04:11,  1.35s/it]"
     ]
    },
    {
     "name": "stdout",
     "output_type": "stream",
     "text": [
      "Epoch:  112\n",
      "t_loss:  0.40252004444599154 , v_loss:  0.6723852455615997\n",
      "t_acc:  0.7185741088180112 , v_acc:  0.6988636363636364\n",
      "t_recall:  0.5450832208726946 , v_recall:  0.5375824512962111\n",
      "t_prec:  0.7624497404093823 , v_prec:  0.6080246913580247\n",
      "t_f:  0.5045103980168021 , v_f:  0.5114951557999476\n",
      "////////\n"
     ]
    },
    {
     "name": "stderr",
     "output_type": "stream",
     "text": [
      "\r",
      "Iterations:  38%|████████████▌                    | 114/300 [02:24<03:50,  1.24s/it]"
     ]
    },
    {
     "name": "stdout",
     "output_type": "stream",
     "text": [
      "Epoch  113 , loss 0.4021263754367828\n",
      "Epoch  114 , loss 0.4030184018611908\n"
     ]
    },
    {
     "name": "stderr",
     "output_type": "stream",
     "text": [
      "\r",
      "Iterations:  38%|████████████▋                    | 115/300 [02:26<04:02,  1.31s/it]"
     ]
    },
    {
     "name": "stdout",
     "output_type": "stream",
     "text": [
      "Epoch:  114\n",
      "t_loss:  0.4030184018611908 , v_loss:  0.6707424769798914\n",
      "t_acc:  0.716072545340838 , v_acc:  0.6875\n",
      "t_recall:  0.5427080521817363 , v_recall:  0.5294523699953981\n",
      "t_prec:  0.7409801496908559 , v_prec:  0.575\n",
      "t_f:  0.5015476517440264 , v_f:  0.5042761304859937\n",
      "////////\n"
     ]
    },
    {
     "name": "stderr",
     "output_type": "stream",
     "text": [
      "\r",
      "Iterations:  39%|████████████▊                    | 116/300 [02:27<03:43,  1.21s/it]"
     ]
    },
    {
     "name": "stdout",
     "output_type": "stream",
     "text": [
      "Epoch  115 , loss 0.4050988084077835\n",
      "Epoch  116 , loss 0.4070585602521896\n"
     ]
    },
    {
     "name": "stderr",
     "output_type": "stream",
     "text": [
      "\r",
      "Iterations:  39%|████████████▊                    | 117/300 [02:28<03:55,  1.29s/it]"
     ]
    },
    {
     "name": "stdout",
     "output_type": "stream",
     "text": [
      "Epoch:  116\n",
      "t_loss:  0.4070585602521896 , v_loss:  0.6712622344493866\n",
      "t_acc:  0.7120075046904315 , v_acc:  0.6875\n",
      "t_recall:  0.5363292847503374 , v_recall:  0.5294523699953981\n",
      "t_prec:  0.723965799713291 , v_prec:  0.575\n",
      "t_f:  0.49036279854924186 , v_f:  0.5042761304859937\n",
      "////////\n"
     ]
    },
    {
     "name": "stderr",
     "output_type": "stream",
     "text": [
      "\r",
      "Iterations:  39%|████████████▉                    | 118/300 [02:29<03:39,  1.21s/it]"
     ]
    },
    {
     "name": "stdout",
     "output_type": "stream",
     "text": [
      "Epoch  117 , loss 0.40154326021671294\n",
      "Epoch  118 , loss 0.4058963650465012\n"
     ]
    },
    {
     "name": "stderr",
     "output_type": "stream",
     "text": [
      "\r",
      "Iterations:  40%|█████████████                    | 119/300 [02:31<03:54,  1.30s/it]"
     ]
    },
    {
     "name": "stdout",
     "output_type": "stream",
     "text": [
      "Epoch:  118\n",
      "t_loss:  0.4058963650465012 , v_loss:  0.6687772373358408\n",
      "t_acc:  0.7138836772983115 , v_acc:  0.6875\n",
      "t_recall:  0.5399820062977958 , v_recall:  0.5294523699953981\n",
      "t_prec:  0.7273437991898756 , v_prec:  0.575\n",
      "t_f:  0.4973428226838101 , v_f:  0.5042761304859937\n",
      "////////\n"
     ]
    },
    {
     "name": "stderr",
     "output_type": "stream",
     "text": [
      "\r",
      "Iterations:  40%|█████████████▏                   | 120/300 [02:32<03:33,  1.18s/it]"
     ]
    },
    {
     "name": "stdout",
     "output_type": "stream",
     "text": [
      "Epoch  119 , loss 0.4045459568500519\n",
      "Epoch  120 , loss 0.4100233715772629\n"
     ]
    },
    {
     "name": "stderr",
     "output_type": "stream",
     "text": [
      "\r",
      "Iterations:  40%|█████████████▎                   | 121/300 [02:33<03:50,  1.29s/it]"
     ]
    },
    {
     "name": "stdout",
     "output_type": "stream",
     "text": [
      "Epoch:  120\n",
      "t_loss:  0.4100233715772629 , v_loss:  0.6666100323200226\n",
      "t_acc:  0.7091932457786116 , v_acc:  0.6875\n",
      "t_recall:  0.533153396311291 , v_recall:  0.5294523699953981\n",
      "t_prec:  0.7026752598400767 , v_prec:  0.575\n",
      "t_f:  0.48575785764428014 , v_f:  0.5042761304859937\n",
      "////////\n"
     ]
    },
    {
     "name": "stderr",
     "output_type": "stream",
     "text": [
      "\r",
      "Iterations:  41%|█████████████▍                   | 122/300 [02:34<03:38,  1.23s/it]"
     ]
    },
    {
     "name": "stdout",
     "output_type": "stream",
     "text": [
      "Epoch  121 , loss 0.4014391255378723\n",
      "Epoch  122 , loss 0.40721857368946074\n"
     ]
    },
    {
     "name": "stderr",
     "output_type": "stream",
     "text": [
      "\r",
      "Iterations:  41%|█████████████▌                   | 123/300 [02:36<03:53,  1.32s/it]"
     ]
    },
    {
     "name": "stdout",
     "output_type": "stream",
     "text": [
      "Epoch:  122\n",
      "t_loss:  0.40721857368946074 , v_loss:  0.6664316902558008\n",
      "t_acc:  0.7132582864290181 , v_acc:  0.6875\n",
      "t_recall:  0.5383805668016194 , v_recall:  0.5294523699953981\n",
      "t_prec:  0.7288878494386969 , v_prec:  0.575\n",
      "t_f:  0.4940518572666579 , v_f:  0.5042761304859937\n",
      "////////\n"
     ]
    },
    {
     "name": "stderr",
     "output_type": "stream",
     "text": [
      "\r",
      "Iterations:  41%|█████████████▋                   | 124/300 [02:37<03:43,  1.27s/it]"
     ]
    },
    {
     "name": "stdout",
     "output_type": "stream",
     "text": [
      "Epoch  123 , loss 0.40106123268604277\n",
      "Epoch  124 , loss 0.4057985943555832\n"
     ]
    },
    {
     "name": "stderr",
     "output_type": "stream",
     "text": [
      "\r",
      "Iterations:  42%|█████████████▊                   | 125/300 [02:39<04:01,  1.38s/it]"
     ]
    },
    {
     "name": "stdout",
     "output_type": "stream",
     "text": [
      "Epoch:  124\n",
      "t_loss:  0.4057985943555832 , v_loss:  0.6663337498903275\n",
      "t_acc:  0.716072545340838 , v_acc:  0.6875\n",
      "t_recall:  0.545587044534413 , v_recall:  0.5294523699953981\n",
      "t_prec:  0.7231982109174695 , v_prec:  0.575\n",
      "t_f:  0.5085928192353515 , v_f:  0.5042761304859937\n",
      "////////\n"
     ]
    },
    {
     "name": "stderr",
     "output_type": "stream",
     "text": [
      "\r",
      "Iterations:  42%|█████████████▊                   | 126/300 [02:40<03:37,  1.25s/it]"
     ]
    },
    {
     "name": "stdout",
     "output_type": "stream",
     "text": [
      "Epoch  125 , loss 0.40217307209968567\n",
      "Epoch  126 , loss 0.3988114815950394\n"
     ]
    },
    {
     "name": "stderr",
     "output_type": "stream",
     "text": [
      "\r",
      "Iterations:  42%|█████████████▉                   | 127/300 [02:41<03:56,  1.37s/it]"
     ]
    },
    {
     "name": "stdout",
     "output_type": "stream",
     "text": [
      "Epoch:  126\n",
      "t_loss:  0.3988114815950394 , v_loss:  0.6707979142665863\n",
      "t_acc:  0.717948717948718 , v_acc:  0.6875\n",
      "t_recall:  0.5454970760233918 , v_recall:  0.5294523699953981\n",
      "t_prec:  0.7490812096963635 , v_prec:  0.575\n",
      "t_f:  0.5062625291662559 , v_f:  0.5042761304859937\n",
      "////////\n"
     ]
    },
    {
     "name": "stderr",
     "output_type": "stream",
     "text": [
      "\r",
      "Iterations:  43%|██████████████                   | 128/300 [02:42<03:30,  1.23s/it]"
     ]
    },
    {
     "name": "stdout",
     "output_type": "stream",
     "text": [
      "Epoch  127 , loss 0.40486222088336943\n",
      "Epoch  128 , loss 0.3998713082075119\n"
     ]
    },
    {
     "name": "stderr",
     "output_type": "stream",
     "text": [
      "\r",
      "Iterations:  43%|██████████████▏                  | 129/300 [02:44<03:48,  1.33s/it]"
     ]
    },
    {
     "name": "stdout",
     "output_type": "stream",
     "text": [
      "Epoch:  128\n",
      "t_loss:  0.3998713082075119 , v_loss:  0.6755301207304001\n",
      "t_acc:  0.7173233270794246 , v_acc:  0.6875\n",
      "t_recall:  0.5438956365272155 , v_recall:  0.5294523699953981\n",
      "t_prec:  0.7515447154471544 , v_prec:  0.575\n",
      "t_f:  0.503027227513424 , v_f:  0.5042761304859937\n",
      "////////\n"
     ]
    },
    {
     "name": "stderr",
     "output_type": "stream",
     "text": [
      "\r",
      "Iterations:  43%|██████████████▎                  | 130/300 [02:45<03:24,  1.20s/it]"
     ]
    },
    {
     "name": "stdout",
     "output_type": "stream",
     "text": [
      "Epoch  129 , loss 0.40546034157276156\n",
      "Epoch  130 , loss 0.4018114912509918\n"
     ]
    },
    {
     "name": "stderr",
     "output_type": "stream",
     "text": [
      "\r",
      "Iterations:  44%|██████████████▍                  | 131/300 [02:46<03:43,  1.32s/it]"
     ]
    },
    {
     "name": "stdout",
     "output_type": "stream",
     "text": [
      "Epoch:  130\n",
      "t_loss:  0.4018114912509918 , v_loss:  0.6779409398635229\n",
      "t_acc:  0.7182614133833646 , v_acc:  0.6875\n",
      "t_recall:  0.5474493927125506 , v_recall:  0.5294523699953981\n",
      "t_prec:  0.7402200317667944 , v_prec:  0.575\n",
      "t_f:  0.5106583122676012 , v_f:  0.5042761304859937\n",
      "////////\n"
     ]
    },
    {
     "name": "stderr",
     "output_type": "stream",
     "text": [
      "\r",
      "Iterations:  44%|██████████████▌                  | 132/300 [02:47<03:21,  1.20s/it]"
     ]
    },
    {
     "name": "stdout",
     "output_type": "stream",
     "text": [
      "Epoch  131 , loss 0.4015994989871979\n",
      "Epoch  132 , loss 0.39902233123779296\n"
     ]
    },
    {
     "name": "stderr",
     "output_type": "stream",
     "text": [
      "\r",
      "Iterations:  44%|██████████████▋                  | 133/300 [02:49<03:45,  1.35s/it]"
     ]
    },
    {
     "name": "stdout",
     "output_type": "stream",
     "text": [
      "Epoch:  132\n",
      "t_loss:  0.39902233123779296 , v_loss:  0.672012080748876\n",
      "t_acc:  0.7141963727329581 , v_acc:  0.6818181818181818\n",
      "t_recall:  0.5402069275753486 , v_recall:  0.530756250958736\n",
      "t_prec:  0.7304065040650407 , v_prec:  0.5672142138786456\n",
      "t_f:  0.49752974109211234 , v_f:  0.5111111111111112\n",
      "////////\n"
     ]
    },
    {
     "name": "stderr",
     "output_type": "stream",
     "text": [
      "\r",
      "Iterations:  45%|██████████████▋                  | 134/300 [02:50<03:26,  1.25s/it]"
     ]
    },
    {
     "name": "stdout",
     "output_type": "stream",
     "text": [
      "Epoch  133 , loss 0.3985529160499573\n",
      "Epoch  134 , loss 0.3993461698293686\n"
     ]
    },
    {
     "name": "stderr",
     "output_type": "stream",
     "text": [
      "\r",
      "Iterations:  45%|██████████████▊                  | 135/300 [02:51<03:39,  1.33s/it]"
     ]
    },
    {
     "name": "stdout",
     "output_type": "stream",
     "text": [
      "Epoch:  134\n",
      "t_loss:  0.3993461698293686 , v_loss:  0.6707795013984045\n",
      "t_acc:  0.7223264540337712 , v_acc:  0.6818181818181818\n",
      "t_recall:  0.5546918578497526 , v_recall:  0.530756250958736\n",
      "t_prec:  0.7482851140569332 , v_prec:  0.5672142138786456\n",
      "t_f:  0.5234273470308355 , v_f:  0.5111111111111112\n",
      "////////\n"
     ]
    },
    {
     "name": "stderr",
     "output_type": "stream",
     "text": [
      "\r",
      "Iterations:  45%|██████████████▉                  | 136/300 [02:53<03:23,  1.24s/it]"
     ]
    },
    {
     "name": "stdout",
     "output_type": "stream",
     "text": [
      "Epoch  135 , loss 0.4023634558916092\n",
      "Epoch  136 , loss 0.3997073322534561\n"
     ]
    },
    {
     "name": "stderr",
     "output_type": "stream",
     "text": [
      "\r",
      "Iterations:  46%|███████████████                  | 137/300 [02:54<03:32,  1.31s/it]"
     ]
    },
    {
     "name": "stdout",
     "output_type": "stream",
     "text": [
      "Epoch:  136\n",
      "t_loss:  0.3997073322534561 , v_loss:  0.6744676778713862\n",
      "t_acc:  0.7185741088180112 , v_acc:  0.6931818181818182\n",
      "t_recall:  0.5482501124606387 , v_recall:  0.5388863322595491\n",
      "t_prec:  0.7393840202350841 , v_prec:  0.5937846836847946\n",
      "t_f:  0.5122359597098972 , v_f:  0.5185410334346505\n",
      "////////\n"
     ]
    },
    {
     "name": "stderr",
     "output_type": "stream",
     "text": [
      "\r",
      "Iterations:  46%|███████████████▏                 | 138/300 [02:55<03:23,  1.26s/it]"
     ]
    },
    {
     "name": "stdout",
     "output_type": "stream",
     "text": [
      "Epoch  137 , loss 0.399064701795578\n",
      "Epoch  138 , loss 0.3980464416742325\n"
     ]
    },
    {
     "name": "stderr",
     "output_type": "stream",
     "text": [
      "\r",
      "Iterations:  46%|███████████████▎                 | 139/300 [02:57<03:35,  1.34s/it]"
     ]
    },
    {
     "name": "stdout",
     "output_type": "stream",
     "text": [
      "Epoch:  138\n",
      "t_loss:  0.3980464416742325 , v_loss:  0.670308510462443\n",
      "t_acc:  0.717948717948718 , v_acc:  0.6818181818181818\n",
      "t_recall:  0.5460728744939272 , v_recall:  0.5253873293449915\n",
      "t_prec:  0.7449668216217542 , v_prec:  0.561228264890862\n",
      "t_f:  0.5076728455408882 , v_f:  0.5007092198581561\n",
      "////////\n"
     ]
    },
    {
     "name": "stderr",
     "output_type": "stream",
     "text": [
      "\r",
      "Iterations:  47%|███████████████▍                 | 140/300 [02:58<03:15,  1.22s/it]"
     ]
    },
    {
     "name": "stdout",
     "output_type": "stream",
     "text": [
      "Epoch  139 , loss 0.39526035130023957\n",
      "Epoch  140 , loss 0.40208901405334474\n"
     ]
    },
    {
     "name": "stderr",
     "output_type": "stream",
     "text": [
      "\r",
      "Iterations:  47%|███████████████▌                 | 141/300 [02:59<03:28,  1.31s/it]"
     ]
    },
    {
     "name": "stdout",
     "output_type": "stream",
     "text": [
      "Epoch:  140\n",
      "t_loss:  0.40208901405334474 , v_loss:  0.672149658203125\n",
      "t_acc:  0.7185741088180112 , v_acc:  0.6988636363636364\n",
      "t_recall:  0.5476743139901035 , v_recall:  0.5429513729099555\n",
      "t_prec:  0.7430156561249857 , v_prec:  0.609375\n",
      "t_f:  0.5108552674065983 , v_f:  0.5223024530137758\n",
      "////////\n"
     ]
    },
    {
     "name": "stderr",
     "output_type": "stream",
     "text": [
      "\r",
      "Iterations:  47%|███████████████▌                 | 142/300 [03:00<03:10,  1.21s/it]"
     ]
    },
    {
     "name": "stdout",
     "output_type": "stream",
     "text": [
      "Epoch  141 , loss 0.4011075043678284\n",
      "Epoch  142 , loss 0.40387673676013947\n"
     ]
    },
    {
     "name": "stderr",
     "output_type": "stream",
     "text": [
      "\r",
      "Iterations:  48%|███████████████▋                 | 143/300 [03:02<03:26,  1.31s/it]"
     ]
    },
    {
     "name": "stdout",
     "output_type": "stream",
     "text": [
      "Epoch:  142\n",
      "t_loss:  0.40387673676013947 , v_loss:  0.6690694938103358\n",
      "t_acc:  0.7176360225140713 , v_acc:  0.6875\n",
      "t_recall:  0.5498785425101215 , v_recall:  0.5348212916091425\n",
      "t_prec:  0.7198067632850241 , v_prec:  0.579817158931083\n",
      "t_f:  0.5170495509394374 , v_f:  0.5148112876547541\n",
      "////////\n"
     ]
    },
    {
     "name": "stderr",
     "output_type": "stream",
     "text": [
      "\r",
      "Iterations:  48%|███████████████▊                 | 144/300 [03:03<03:10,  1.22s/it]"
     ]
    },
    {
     "name": "stdout",
     "output_type": "stream",
     "text": [
      "Epoch  143 , loss 0.4048895126581192\n",
      "Epoch  144 , loss 0.3983123403787613\n"
     ]
    },
    {
     "name": "stderr",
     "output_type": "stream",
     "text": [
      "\r",
      "Iterations:  48%|███████████████▉                 | 145/300 [03:04<03:24,  1.32s/it]"
     ]
    },
    {
     "name": "stdout",
     "output_type": "stream",
     "text": [
      "Epoch:  144\n",
      "t_loss:  0.3983123403787613 , v_loss:  0.6662090768416723\n",
      "t_acc:  0.7176360225140713 , v_acc:  0.6875\n",
      "t_recall:  0.5472874493927126 , v_recall:  0.5348212916091425\n",
      "t_prec:  0.7330550098231827 , v_prec:  0.579817158931083\n",
      "t_f:  0.5109547680485043 , v_f:  0.5148112876547541\n",
      "////////\n"
     ]
    },
    {
     "name": "stderr",
     "output_type": "stream",
     "text": [
      "\r",
      "Iterations:  49%|████████████████                 | 146/300 [03:05<03:12,  1.25s/it]"
     ]
    },
    {
     "name": "stdout",
     "output_type": "stream",
     "text": [
      "Epoch  145 , loss 0.3976933425664902\n",
      "Epoch  146 , loss 0.3975203961133957\n"
     ]
    },
    {
     "name": "stderr",
     "output_type": "stream",
     "text": [
      "\r",
      "Iterations:  49%|████████████████▏                | 147/300 [03:07<03:25,  1.35s/it]"
     ]
    },
    {
     "name": "stdout",
     "output_type": "stream",
     "text": [
      "Epoch:  146\n",
      "t_loss:  0.3975203961133957 , v_loss:  0.6674047956864039\n",
      "t_acc:  0.7217010631644778 , v_acc:  0.6875\n",
      "t_recall:  0.5542420152946469 , v_recall:  0.5348212916091425\n",
      "t_prec:  0.7433055809073243 , v_prec:  0.579817158931083\n",
      "t_f:  0.5230151691573204 , v_f:  0.5148112876547541\n",
      "////////\n"
     ]
    },
    {
     "name": "stderr",
     "output_type": "stream",
     "text": [
      "\r",
      "Iterations:  49%|████████████████▎                | 148/300 [03:08<03:05,  1.22s/it]"
     ]
    },
    {
     "name": "stdout",
     "output_type": "stream",
     "text": [
      "Epoch  147 , loss 0.39904103755950926\n",
      "Epoch  148 , loss 0.40755216479301454\n"
     ]
    },
    {
     "name": "stderr",
     "output_type": "stream",
     "text": [
      "\r",
      "Iterations:  50%|████████████████▍                | 149/300 [03:09<03:18,  1.31s/it]"
     ]
    },
    {
     "name": "stdout",
     "output_type": "stream",
     "text": [
      "Epoch:  148\n",
      "t_loss:  0.40755216479301454 , v_loss:  0.6666285941998163\n",
      "t_acc:  0.7176360225140713 , v_acc:  0.6875\n",
      "t_recall:  0.5469995501574448 , v_recall:  0.5348212916091425\n",
      "t_prec:  0.7347448565739989 , v_prec:  0.579817158931083\n",
      "t_f:  0.5102647387674648 , v_f:  0.5148112876547541\n",
      "////////\n"
     ]
    },
    {
     "name": "stderr",
     "output_type": "stream",
     "text": [
      "\r",
      "Iterations:  50%|████████████████▌                | 150/300 [03:10<03:02,  1.22s/it]"
     ]
    },
    {
     "name": "stdout",
     "output_type": "stream",
     "text": [
      "Epoch  149 , loss 0.39843005299568174\n",
      "Epoch  150 , loss 0.399859277009964\n"
     ]
    },
    {
     "name": "stderr",
     "output_type": "stream",
     "text": [
      "\r",
      "Iterations:  50%|████████████████▌                | 151/300 [03:12<03:11,  1.28s/it]"
     ]
    },
    {
     "name": "stdout",
     "output_type": "stream",
     "text": [
      "Epoch:  150\n",
      "t_loss:  0.399859277009964 , v_loss:  0.6680189172426859\n",
      "t_acc:  0.7229518449030644 , v_acc:  0.6875\n",
      "t_recall:  0.5574448942869996 , v_recall:  0.5348212916091425\n",
      "t_prec:  0.7405398199827284 , v_prec:  0.579817158931083\n",
      "t_f:  0.5290570929942657 , v_f:  0.5148112876547541\n",
      "////////\n"
     ]
    },
    {
     "name": "stderr",
     "output_type": "stream",
     "text": [
      "\r",
      "Iterations:  51%|████████████████▋                | 152/300 [03:13<02:53,  1.17s/it]"
     ]
    },
    {
     "name": "stdout",
     "output_type": "stream",
     "text": [
      "Epoch  151 , loss 0.39661387145519256\n",
      "Epoch  152 , loss 0.4007375180721283\n"
     ]
    },
    {
     "name": "stderr",
     "output_type": "stream",
     "text": [
      "\r",
      "Iterations:  51%|████████████████▊                | 153/300 [03:14<03:10,  1.29s/it]"
     ]
    },
    {
     "name": "stdout",
     "output_type": "stream",
     "text": [
      "Epoch:  152\n",
      "t_loss:  0.4007375180721283 , v_loss:  0.6688260287046432\n",
      "t_acc:  0.7223264540337712 , v_acc:  0.6931818181818182\n",
      "t_recall:  0.5546918578497526 , v_recall:  0.5388863322595491\n",
      "t_prec:  0.7482851140569332 , v_prec:  0.5937846836847946\n",
      "t_f:  0.5234273470308355 , v_f:  0.5185410334346505\n",
      "////////\n"
     ]
    },
    {
     "name": "stderr",
     "output_type": "stream",
     "text": [
      "\r",
      "Iterations:  51%|████████████████▉                | 154/300 [03:15<02:55,  1.20s/it]"
     ]
    },
    {
     "name": "stdout",
     "output_type": "stream",
     "text": [
      "Epoch  153 , loss 0.3983799248933792\n",
      "Epoch  154 , loss 0.3936941593885422\n"
     ]
    },
    {
     "name": "stderr",
     "output_type": "stream",
     "text": [
      "\r",
      "Iterations:  52%|█████████████████                | 155/300 [03:17<03:08,  1.30s/it]"
     ]
    },
    {
     "name": "stdout",
     "output_type": "stream",
     "text": [
      "Epoch:  154\n",
      "t_loss:  0.3936941593885422 , v_loss:  0.6688544352849325\n",
      "t_acc:  0.7217010631644778 , v_acc:  0.6931818181818182\n",
      "t_recall:  0.5528025191183086 , v_recall:  0.5388863322595491\n",
      "t_prec:  0.751915580199031 , v_prec:  0.5937846836847946\n",
      "t_f:  0.5196843324567041 , v_f:  0.5185410334346505\n",
      "////////\n"
     ]
    },
    {
     "name": "stderr",
     "output_type": "stream",
     "text": [
      "\r",
      "Iterations:  52%|█████████████████▏               | 156/300 [03:18<02:57,  1.23s/it]"
     ]
    },
    {
     "name": "stdout",
     "output_type": "stream",
     "text": [
      "Epoch  155 , loss 0.3957173788547516\n",
      "Epoch  156 , loss 0.3975267207622528\n"
     ]
    },
    {
     "name": "stderr",
     "output_type": "stream",
     "text": [
      "\r",
      "Iterations:  52%|█████████████████▎               | 157/300 [03:19<03:06,  1.30s/it]"
     ]
    },
    {
     "name": "stdout",
     "output_type": "stream",
     "text": [
      "Epoch:  156\n",
      "t_loss:  0.3975267207622528 , v_loss:  0.6660877466201782\n",
      "t_acc:  0.7195121951219512 , v_acc:  0.6818181818181818\n",
      "t_recall:  0.5532433648223122 , v_recall:  0.530756250958736\n",
      "t_prec:  0.7241840857875514 , v_prec:  0.5672142138786456\n",
      "t_f:  0.5228846408128541 , v_f:  0.5111111111111112\n",
      "////////\n"
     ]
    },
    {
     "name": "stderr",
     "output_type": "stream",
     "text": [
      "\r",
      "Iterations:  53%|█████████████████▍               | 158/300 [03:20<02:56,  1.24s/it]"
     ]
    },
    {
     "name": "stdout",
     "output_type": "stream",
     "text": [
      "Epoch  157 , loss 0.39632867693901064\n",
      "Epoch  158 , loss 0.39946382462978364\n"
     ]
    },
    {
     "name": "stderr",
     "output_type": "stream",
     "text": [
      "\r",
      "Iterations:  53%|█████████████████▍               | 159/300 [03:22<03:06,  1.32s/it]"
     ]
    },
    {
     "name": "stdout",
     "output_type": "stream",
     "text": [
      "Epoch:  158\n",
      "t_loss:  0.39946382462978364 , v_loss:  0.6670406858126322\n",
      "t_acc:  0.7248280175109444 , v_acc:  0.6875\n",
      "t_recall:  0.5590823211875844 , v_recall:  0.5348212916091425\n",
      "t_prec:  0.7529875912971153 , v_prec:  0.579817158931083\n",
      "t_f:  0.5309653157264217 , v_f:  0.5148112876547541\n",
      "////////\n"
     ]
    },
    {
     "name": "stderr",
     "output_type": "stream",
     "text": [
      "\r",
      "Iterations:  53%|█████████████████▌               | 160/300 [03:23<02:50,  1.22s/it]"
     ]
    },
    {
     "name": "stdout",
     "output_type": "stream",
     "text": [
      "Epoch  159 , loss 0.3963182771205902\n",
      "Epoch  160 , loss 0.3997205281257629\n"
     ]
    },
    {
     "name": "stderr",
     "output_type": "stream",
     "text": [
      "\r",
      "Iterations:  54%|█████████████████▋               | 161/300 [03:25<03:06,  1.34s/it]"
     ]
    },
    {
     "name": "stdout",
     "output_type": "stream",
     "text": [
      "Epoch:  160\n",
      "t_loss:  0.3997205281257629 , v_loss:  0.6640466650327047\n",
      "t_acc:  0.7210756722951845 , v_acc:  0.6875\n",
      "t_recall:  0.5540800719748088 , v_recall:  0.540190213222887\n",
      "t_prec:  0.7369381752761747 , v_prec:  0.583974358974359\n",
      "t_f:  0.523261231859595 , v_f:  0.5247213629891491\n",
      "////////\n"
     ]
    },
    {
     "name": "stderr",
     "output_type": "stream",
     "text": [
      "\r",
      "Iterations:  54%|█████████████████▊               | 162/300 [03:25<02:48,  1.22s/it]"
     ]
    },
    {
     "name": "stdout",
     "output_type": "stream",
     "text": [
      "Epoch  161 , loss 0.39529889315366745\n",
      "Epoch  162 , loss 0.3944216477870941\n"
     ]
    },
    {
     "name": "stderr",
     "output_type": "stream",
     "text": [
      "\r",
      "Iterations:  54%|█████████████████▉               | 163/300 [03:27<02:58,  1.30s/it]"
     ]
    },
    {
     "name": "stdout",
     "output_type": "stream",
     "text": [
      "Epoch:  162\n",
      "t_loss:  0.3944216477870941 , v_loss:  0.6674008866151174\n",
      "t_acc:  0.7201375859912446 , v_acc:  0.6931818181818182\n",
      "t_recall:  0.5525416104363473 , v_recall:  0.5388863322595491\n",
      "t_prec:  0.7342824226464779 , v_prec:  0.5937846836847946\n",
      "t_f:  0.5206669976981312 , v_f:  0.5185410334346505\n",
      "////////\n"
     ]
    },
    {
     "name": "stderr",
     "output_type": "stream",
     "text": [
      "\r",
      "Iterations:  55%|██████████████████               | 164/300 [03:28<02:39,  1.17s/it]"
     ]
    },
    {
     "name": "stdout",
     "output_type": "stream",
     "text": [
      "Epoch  163 , loss 0.3913261467218399\n",
      "Epoch  164 , loss 0.39661973893642427\n"
     ]
    },
    {
     "name": "stderr",
     "output_type": "stream",
     "text": [
      "\r",
      "Iterations:  55%|██████████████████▏              | 165/300 [03:29<02:56,  1.31s/it]"
     ]
    },
    {
     "name": "stdout",
     "output_type": "stream",
     "text": [
      "Epoch:  164\n",
      "t_loss:  0.39661973893642427 , v_loss:  0.664588620265325\n",
      "t_acc:  0.726078799249531 , v_acc:  0.6931818181818182\n",
      "t_recall:  0.5611336032388664 , v_recall:  0.5442552538732934\n",
      "t_prec:  0.7559856032549163 , v_prec:  0.596714716728126\n",
      "t_f:  0.5343724756918474 , v_f:  0.5285714285714286\n",
      "////////\n"
     ]
    },
    {
     "name": "stderr",
     "output_type": "stream",
     "text": [
      "\r",
      "Iterations:  55%|██████████████████▎              | 166/300 [03:30<02:41,  1.21s/it]"
     ]
    },
    {
     "name": "stdout",
     "output_type": "stream",
     "text": [
      "Epoch  165 , loss 0.39393411099910736\n",
      "Epoch  166 , loss 0.3952086588740349\n"
     ]
    },
    {
     "name": "stderr",
     "output_type": "stream",
     "text": [
      "\r",
      "Iterations:  56%|██████████████████▎              | 167/300 [03:32<02:53,  1.30s/it]"
     ]
    },
    {
     "name": "stdout",
     "output_type": "stream",
     "text": [
      "Epoch:  166\n",
      "t_loss:  0.3952086588740349 , v_loss:  0.6688914249340693\n",
      "t_acc:  0.726078799249531 , v_acc:  0.6931818181818182\n",
      "t_recall:  0.56314889788574 , v_recall:  0.5442552538732934\n",
      "t_prec:  0.7455494658282578 , v_prec:  0.596714716728126\n",
      "t_f:  0.5387621506282764 , v_f:  0.5285714285714286\n",
      "////////\n"
     ]
    },
    {
     "name": "stderr",
     "output_type": "stream",
     "text": [
      "\r",
      "Iterations:  56%|██████████████████▍              | 168/300 [03:33<02:43,  1.24s/it]"
     ]
    },
    {
     "name": "stdout",
     "output_type": "stream",
     "text": [
      "Epoch  167 , loss 0.3939480632543564\n",
      "Epoch  168 , loss 0.39441179364919665\n"
     ]
    },
    {
     "name": "stderr",
     "output_type": "stream",
     "text": [
      "\r",
      "Iterations:  56%|██████████████████▌              | 169/300 [03:35<02:54,  1.33s/it]"
     ]
    },
    {
     "name": "stdout",
     "output_type": "stream",
     "text": [
      "Epoch:  168\n",
      "t_loss:  0.39441179364919665 , v_loss:  0.6641104370355606\n",
      "t_acc:  0.7276422764227642 , v_acc:  0.6931818181818182\n",
      "t_recall:  0.563697705802969 , v_recall:  0.5442552538732934\n",
      "t_prec:  0.7595737320257505 , v_prec:  0.596714716728126\n",
      "t_f:  0.5386019037617226 , v_f:  0.5285714285714286\n",
      "////////\n"
     ]
    },
    {
     "name": "stderr",
     "output_type": "stream",
     "text": [
      "\r",
      "Iterations:  57%|██████████████████▋              | 170/300 [03:35<02:37,  1.21s/it]"
     ]
    },
    {
     "name": "stdout",
     "output_type": "stream",
     "text": [
      "Epoch  169 , loss 0.39777331352233886\n",
      "Epoch  170 , loss 0.3948711568117142\n"
     ]
    },
    {
     "name": "stderr",
     "output_type": "stream",
     "text": [
      "\r",
      "Iterations:  57%|██████████████████▊              | 171/300 [03:37<02:49,  1.31s/it]"
     ]
    },
    {
     "name": "stdout",
     "output_type": "stream",
     "text": [
      "Epoch:  170\n",
      "t_loss:  0.3948711568117142 , v_loss:  0.6638731012741724\n",
      "t_acc:  0.7226391494684178 , v_acc:  0.6875\n",
      "t_recall:  0.557795771479982 , v_recall:  0.540190213222887\n",
      "t_prec:  0.7355228325612178 , v_prec:  0.583974358974359\n",
      "t_f:  0.5301261637619378 , v_f:  0.5247213629891491\n",
      "////////\n"
     ]
    },
    {
     "name": "stderr",
     "output_type": "stream",
     "text": [
      "\r",
      "Iterations:  57%|██████████████████▉              | 172/300 [03:38<02:35,  1.22s/it]"
     ]
    },
    {
     "name": "stdout",
     "output_type": "stream",
     "text": [
      "Epoch  171 , loss 0.3900971248745918\n",
      "Epoch  172 , loss 0.3900155007839203\n"
     ]
    },
    {
     "name": "stderr",
     "output_type": "stream",
     "text": [
      "\r",
      "Iterations:  58%|███████████████████              | 173/300 [03:40<02:48,  1.33s/it]"
     ]
    },
    {
     "name": "stdout",
     "output_type": "stream",
     "text": [
      "Epoch:  172\n",
      "t_loss:  0.3900155007839203 , v_loss:  0.6666685491800308\n",
      "t_acc:  0.7257661038148843 , v_acc:  0.6931818181818182\n",
      "t_recall:  0.5626360773729195 , v_recall:  0.5442552538732934\n",
      "t_prec:  0.7447978275295 , v_prec:  0.596714716728126\n",
      "t_f:  0.5379254567330781 , v_f:  0.5285714285714286\n",
      "////////\n"
     ]
    },
    {
     "name": "stderr",
     "output_type": "stream",
     "text": [
      "\r",
      "Iterations:  58%|███████████████████▏             | 174/300 [03:41<02:32,  1.21s/it]"
     ]
    },
    {
     "name": "stdout",
     "output_type": "stream",
     "text": [
      "Epoch  173 , loss 0.39626164495944977\n",
      "Epoch  174 , loss 0.3916154193878174\n"
     ]
    },
    {
     "name": "stderr",
     "output_type": "stream",
     "text": [
      "\r",
      "Iterations:  58%|███████████████████▎             | 175/300 [03:42<02:47,  1.34s/it]"
     ]
    },
    {
     "name": "stdout",
     "output_type": "stream",
     "text": [
      "Epoch:  174\n",
      "t_loss:  0.3916154193878174 , v_loss:  0.6710648785034815\n",
      "t_acc:  0.7213883677298312 , v_acc:  0.6931818181818182\n",
      "t_recall:  0.5571839856050382 , v_recall:  0.5388863322595491\n",
      "t_prec:  0.7257957559681698 , v_prec:  0.5937846836847946\n",
      "t_f:  0.5299171511846115 , v_f:  0.5185410334346505\n",
      "////////\n"
     ]
    },
    {
     "name": "stderr",
     "output_type": "stream",
     "text": [
      "\r",
      "Iterations:  59%|███████████████████▎             | 176/300 [03:43<02:29,  1.21s/it]"
     ]
    },
    {
     "name": "stdout",
     "output_type": "stream",
     "text": [
      "Epoch  175 , loss 0.39258329331874847\n",
      "Epoch  176 , loss 0.39366949260234835\n"
     ]
    },
    {
     "name": "stderr",
     "output_type": "stream",
     "text": [
      "\r",
      "Iterations:  59%|███████████████████▍             | 177/300 [03:45<02:43,  1.33s/it]"
     ]
    },
    {
     "name": "stdout",
     "output_type": "stream",
     "text": [
      "Epoch:  176\n",
      "t_loss:  0.39366949260234835 , v_loss:  0.6718088090419769\n",
      "t_acc:  0.7276422764227642 , v_acc:  0.6988636363636364\n",
      "t_recall:  0.5654251012145749 , v_recall:  0.5483202945237\n",
      "t_prec:  0.7505902311444121 , v_prec:  0.610759493670886\n",
      "t_f:  0.5423155420023631 , v_f:  0.5324545135582176\n",
      "////////\n"
     ]
    },
    {
     "name": "stderr",
     "output_type": "stream",
     "text": [
      "\r",
      "Iterations:  59%|███████████████████▌             | 178/300 [03:46<02:26,  1.20s/it]"
     ]
    },
    {
     "name": "stdout",
     "output_type": "stream",
     "text": [
      "Epoch  177 , loss 0.38546728789806367\n",
      "Epoch  178 , loss 0.3953151565790176\n"
     ]
    },
    {
     "name": "stderr",
     "output_type": "stream",
     "text": [
      "\r",
      "Iterations:  60%|███████████████████▋             | 179/300 [03:47<02:38,  1.31s/it]"
     ]
    },
    {
     "name": "stdout",
     "output_type": "stream",
     "text": [
      "Epoch:  178\n",
      "t_loss:  0.3953151565790176 , v_loss:  0.6732016901175181\n",
      "t_acc:  0.725140712945591 , v_acc:  0.6988636363636364\n",
      "t_recall:  0.5604588394062078 , v_recall:  0.5483202945237\n",
      "t_prec:  0.7490421455938697 , v_prec:  0.610759493670886\n",
      "t_f:  0.5337313227849707 , v_f:  0.5324545135582176\n",
      "////////\n"
     ]
    },
    {
     "name": "stderr",
     "output_type": "stream",
     "text": [
      "\r",
      "Iterations:  60%|███████████████████▊             | 180/300 [03:48<02:26,  1.22s/it]"
     ]
    },
    {
     "name": "stdout",
     "output_type": "stream",
     "text": [
      "Epoch  179 , loss 0.3922368031740189\n",
      "Epoch  180 , loss 0.39202909290790555\n"
     ]
    },
    {
     "name": "stderr",
     "output_type": "stream",
     "text": [
      "\r",
      "Iterations:  60%|███████████████████▉             | 181/300 [03:50<02:34,  1.29s/it]"
     ]
    },
    {
     "name": "stdout",
     "output_type": "stream",
     "text": [
      "Epoch:  180\n",
      "t_loss:  0.39202909290790555 , v_loss:  0.6674170047044754\n",
      "t_acc:  0.7267041901188243 , v_acc:  0.6875\n",
      "t_recall:  0.5633108412055781 , v_recall:  0.540190213222887\n",
      "t_prec:  0.7512859908034948 , v_prec:  0.583974358974359\n",
      "t_f:  0.5385753717742149 , v_f:  0.5247213629891491\n",
      "////////\n"
     ]
    },
    {
     "name": "stderr",
     "output_type": "stream",
     "text": [
      "\r",
      "Iterations:  61%|████████████████████             | 182/300 [03:51<02:26,  1.24s/it]"
     ]
    },
    {
     "name": "stdout",
     "output_type": "stream",
     "text": [
      "Epoch  181 , loss 0.39148622155189516\n",
      "Epoch  182 , loss 0.3928742599487305\n"
     ]
    },
    {
     "name": "stderr",
     "output_type": "stream",
     "text": [
      "\r",
      "Iterations:  61%|████████████████████▏            | 183/300 [03:52<02:32,  1.31s/it]"
     ]
    },
    {
     "name": "stdout",
     "output_type": "stream",
     "text": [
      "Epoch:  182\n",
      "t_loss:  0.3928742599487305 , v_loss:  0.6660994042952856\n",
      "t_acc:  0.7320200125078173 , v_acc:  0.6875\n",
      "t_recall:  0.5737561853351327 , v_recall:  0.540190213222887\n",
      "t_prec:  0.7547666857907822 , v_prec:  0.583974358974359\n",
      "t_f:  0.5561667261804993 , v_f:  0.5247213629891491\n",
      "////////\n"
     ]
    },
    {
     "name": "stderr",
     "output_type": "stream",
     "text": [
      "\r",
      "Iterations:  61%|████████████████████▏            | 184/300 [03:53<02:21,  1.22s/it]"
     ]
    },
    {
     "name": "stdout",
     "output_type": "stream",
     "text": [
      "Epoch  183 , loss 0.3876029324531555\n",
      "Epoch  184 , loss 0.39187329411506655\n"
     ]
    },
    {
     "name": "stderr",
     "output_type": "stream",
     "text": [
      "\r",
      "Iterations:  62%|████████████████████▎            | 185/300 [03:55<02:28,  1.29s/it]"
     ]
    },
    {
     "name": "stdout",
     "output_type": "stream",
     "text": [
      "Epoch:  184\n",
      "t_loss:  0.39187329411506655 , v_loss:  0.6688255568345388\n",
      "t_acc:  0.7313946216385241 , v_acc:  0.6931818181818182\n",
      "t_recall:  0.5710031488978857 , v_recall:  0.5442552538732934\n",
      "t_prec:  0.7615501230472201 , v_prec:  0.596714716728126\n",
      "t_f:  0.5510185136002027 , v_f:  0.5285714285714286\n",
      "////////\n"
     ]
    },
    {
     "name": "stderr",
     "output_type": "stream",
     "text": [
      "\r",
      "Iterations:  62%|████████████████████▍            | 186/300 [03:56<02:18,  1.22s/it]"
     ]
    },
    {
     "name": "stdout",
     "output_type": "stream",
     "text": [
      "Epoch  185 , loss 0.39051146745681764\n",
      "Epoch  186 , loss 0.3906043463945389\n"
     ]
    },
    {
     "name": "stderr",
     "output_type": "stream",
     "text": [
      "\r",
      "Iterations:  62%|████████████████████▌            | 187/300 [03:57<02:25,  1.29s/it]"
     ]
    },
    {
     "name": "stdout",
     "output_type": "stream",
     "text": [
      "Epoch:  186\n",
      "t_loss:  0.3906043463945389 , v_loss:  0.6681424230337143\n",
      "t_acc:  0.7338961851156973 , v_acc:  0.6875\n",
      "t_recall:  0.5739541160593792 , v_recall:  0.540190213222887\n",
      "t_prec:  0.7724204271981945 , v_prec:  0.583974358974359\n",
      "t_f:  0.5551999476993859 , v_f:  0.5247213629891491\n",
      "////////\n"
     ]
    },
    {
     "name": "stderr",
     "output_type": "stream",
     "text": [
      "\r",
      "Iterations:  63%|████████████████████▋            | 188/300 [03:58<02:13,  1.19s/it]"
     ]
    },
    {
     "name": "stdout",
     "output_type": "stream",
     "text": [
      "Epoch  187 , loss 0.3898143082857132\n",
      "Epoch  188 , loss 0.38644927501678467\n"
     ]
    },
    {
     "name": "stderr",
     "output_type": "stream",
     "text": [
      "\r",
      "Iterations:  63%|████████████████████▊            | 189/300 [04:00<02:21,  1.28s/it]"
     ]
    },
    {
     "name": "stdout",
     "output_type": "stream",
     "text": [
      "Epoch:  188\n",
      "t_loss:  0.38644927501678467 , v_loss:  0.6645805339018503\n",
      "t_acc:  0.7298311444652908 , v_acc:  0.6875\n",
      "t_recall:  0.5704543409806568 , v_recall:  0.540190213222887\n",
      "t_prec:  0.7488807216839292 , v_prec:  0.583974358974359\n",
      "t_f:  0.5510762191951752 , v_f:  0.5247213629891491\n",
      "////////\n"
     ]
    },
    {
     "name": "stderr",
     "output_type": "stream",
     "text": [
      "\r",
      "Iterations:  63%|████████████████████▉            | 190/300 [04:01<02:10,  1.18s/it]"
     ]
    },
    {
     "name": "stdout",
     "output_type": "stream",
     "text": [
      "Epoch  189 , loss 0.3877215492725372\n",
      "Epoch  190 , loss 0.3921040186285973\n"
     ]
    },
    {
     "name": "stderr",
     "output_type": "stream",
     "text": [
      "\r",
      "Iterations:  64%|█████████████████████            | 191/300 [04:02<02:20,  1.29s/it]"
     ]
    },
    {
     "name": "stdout",
     "output_type": "stream",
     "text": [
      "Epoch:  190\n",
      "t_loss:  0.3921040186285973 , v_loss:  0.6686766445636749\n",
      "t_acc:  0.7329580988117573 , v_acc:  0.6931818181818182\n",
      "t_recall:  0.5735672514619883 , v_recall:  0.5442552538732934\n",
      "t_prec:  0.7646950433020085 , v_prec:  0.596714716728126\n",
      "t_f:  0.5551039956212371 , v_f:  0.5285714285714286\n",
      "////////\n"
     ]
    },
    {
     "name": "stderr",
     "output_type": "stream",
     "text": [
      "\r",
      "Iterations:  64%|█████████████████████            | 192/300 [04:03<02:08,  1.19s/it]"
     ]
    },
    {
     "name": "stdout",
     "output_type": "stream",
     "text": [
      "Epoch  191 , loss 0.38653978824615476\n",
      "Epoch  192 , loss 0.3864166456460953\n"
     ]
    },
    {
     "name": "stderr",
     "output_type": "stream",
     "text": [
      "\r",
      "Iterations:  64%|█████████████████████▏           | 193/300 [04:05<02:18,  1.30s/it]"
     ]
    },
    {
     "name": "stdout",
     "output_type": "stream",
     "text": [
      "Epoch:  192\n",
      "t_loss:  0.3864166456460953 , v_loss:  0.6727691839138666\n",
      "t_acc:  0.7301438398999375 , v_acc:  0.6931818181818182\n",
      "t_recall:  0.569527665317139 , v_recall:  0.5442552538732934\n",
      "t_prec:  0.7561149709717332 , v_prec:  0.596714716728126\n",
      "t_f:  0.5489277965506111 , v_f:  0.5285714285714286\n",
      "////////\n"
     ]
    },
    {
     "name": "stderr",
     "output_type": "stream",
     "text": [
      "\r",
      "Iterations:  65%|█████████████████████▎           | 194/300 [04:06<02:04,  1.18s/it]"
     ]
    },
    {
     "name": "stdout",
     "output_type": "stream",
     "text": [
      "Epoch  193 , loss 0.3906565910577774\n",
      "Epoch  194 , loss 0.3905267208814621\n"
     ]
    },
    {
     "name": "stderr",
     "output_type": "stream",
     "text": [
      "\r",
      "Iterations:  65%|█████████████████████▍           | 195/300 [04:07<02:19,  1.33s/it]"
     ]
    },
    {
     "name": "stdout",
     "output_type": "stream",
     "text": [
      "Epoch:  194\n",
      "t_loss:  0.3905267208814621 , v_loss:  0.6714745511611303\n",
      "t_acc:  0.7348342714196373 , v_acc:  0.6931818181818182\n",
      "t_recall:  0.5792352676563203 , v_recall:  0.5442552538732934\n",
      "t_prec:  0.7567350599843032 , v_prec:  0.596714716728126\n",
      "t_f:  0.5650654349499615 , v_f:  0.5285714285714286\n",
      "////////\n"
     ]
    },
    {
     "name": "stderr",
     "output_type": "stream",
     "text": [
      "\r",
      "Iterations:  65%|█████████████████████▌           | 196/300 [04:08<02:06,  1.21s/it]"
     ]
    },
    {
     "name": "stdout",
     "output_type": "stream",
     "text": [
      "Epoch  195 , loss 0.38648680329322815\n",
      "Epoch  196 , loss 0.38615056216716764\n"
     ]
    },
    {
     "name": "stderr",
     "output_type": "stream",
     "text": [
      "\r",
      "Iterations:  66%|█████████████████████▋           | 197/300 [04:10<02:17,  1.33s/it]"
     ]
    },
    {
     "name": "stdout",
     "output_type": "stream",
     "text": [
      "Epoch:  196\n",
      "t_loss:  0.38615056216716764 , v_loss:  0.6690066903829575\n",
      "t_acc:  0.7345215759849906 , v_acc:  0.6875\n",
      "t_recall:  0.5772829509671615 , v_recall:  0.540190213222887\n",
      "t_prec:  0.7623102027010098 , v_prec:  0.583974358974359\n",
      "t_f:  0.56145242147507 , v_f:  0.5247213629891491\n",
      "////////\n"
     ]
    },
    {
     "name": "stderr",
     "output_type": "stream",
     "text": [
      "\r",
      "Iterations:  66%|█████████████████████▊           | 198/300 [04:11<02:04,  1.22s/it]"
     ]
    },
    {
     "name": "stdout",
     "output_type": "stream",
     "text": [
      "Epoch  197 , loss 0.3889920711517334\n",
      "Epoch  198 , loss 0.38439723551273347\n"
     ]
    },
    {
     "name": "stderr",
     "output_type": "stream",
     "text": [
      "\r",
      "Iterations:  66%|█████████████████████▉           | 199/300 [04:12<02:12,  1.31s/it]"
     ]
    },
    {
     "name": "stdout",
     "output_type": "stream",
     "text": [
      "Epoch:  198\n",
      "t_loss:  0.38439723551273347 , v_loss:  0.6698723336060842\n",
      "t_acc:  0.7295184490306441 , v_acc:  0.6875\n",
      "t_recall:  0.5687899235267656 , v_recall:  0.540190213222887\n",
      "t_prec:  0.7533973949339896 , v_prec:  0.583974358974359\n",
      "t_f:  0.5478824380258153 , v_f:  0.5247213629891491\n",
      "////////\n"
     ]
    },
    {
     "name": "stderr",
     "output_type": "stream",
     "text": [
      "\r",
      "Iterations:  67%|██████████████████████           | 200/300 [04:13<02:01,  1.21s/it]"
     ]
    },
    {
     "name": "stdout",
     "output_type": "stream",
     "text": [
      "Epoch  199 , loss 0.3862438032031059\n",
      "Epoch  200 , loss 0.39402793884277343\n"
     ]
    },
    {
     "name": "stderr",
     "output_type": "stream",
     "text": [
      "\r",
      "Iterations:  67%|██████████████████████           | 201/300 [04:15<02:07,  1.29s/it]"
     ]
    },
    {
     "name": "stdout",
     "output_type": "stream",
     "text": [
      "Epoch:  200\n",
      "t_loss:  0.39402793884277343 , v_loss:  0.6678308645884196\n",
      "t_acc:  0.7323327079424641 , v_acc:  0.6875\n",
      "t_recall:  0.5745569050832209 , v_recall:  0.540190213222887\n",
      "t_prec:  0.7541604737301532 , v_prec:  0.583974358974359\n",
      "t_f:  0.5575493801300253 , v_f:  0.5247213629891491\n",
      "////////\n"
     ]
    },
    {
     "name": "stderr",
     "output_type": "stream",
     "text": [
      "\r",
      "Iterations:  67%|██████████████████████▏          | 202/300 [04:16<01:55,  1.17s/it]"
     ]
    },
    {
     "name": "stdout",
     "output_type": "stream",
     "text": [
      "Epoch  201 , loss 0.3855563670396805\n",
      "Epoch  202 , loss 0.38688206791877744\n"
     ]
    },
    {
     "name": "stderr",
     "output_type": "stream",
     "text": [
      "\r",
      "Iterations:  68%|██████████████████████▎          | 203/300 [04:17<02:03,  1.27s/it]"
     ]
    },
    {
     "name": "stdout",
     "output_type": "stream",
     "text": [
      "Epoch:  202\n",
      "t_loss:  0.38688206791877744 , v_loss:  0.6709213356177012\n",
      "t_acc:  0.7345215759849906 , v_acc:  0.6875\n",
      "t_recall:  0.5790103463787675 , v_recall:  0.540190213222887\n",
      "t_prec:  0.7549592658321324 , v_prec:  0.583974358974359\n",
      "t_f:  0.5648313604559563 , v_f:  0.5247213629891491\n",
      "////////\n"
     ]
    },
    {
     "name": "stderr",
     "output_type": "stream",
     "text": [
      "\r",
      "Iterations:  68%|██████████████████████▍          | 204/300 [04:18<01:52,  1.18s/it]"
     ]
    },
    {
     "name": "stdout",
     "output_type": "stream",
     "text": [
      "Epoch  203 , loss 0.3849652248620987\n",
      "Epoch  204 , loss 0.3845834809541702\n"
     ]
    },
    {
     "name": "stderr",
     "output_type": "stream",
     "text": [
      "\r",
      "Iterations:  68%|██████████████████████▌          | 205/300 [04:20<02:07,  1.34s/it]"
     ]
    },
    {
     "name": "stdout",
     "output_type": "stream",
     "text": [
      "Epoch:  204\n",
      "t_loss:  0.3845834809541702 , v_loss:  0.6733510742584864\n",
      "t_acc:  0.734208880550344 , v_acc:  0.6931818181818182\n",
      "t_recall:  0.5750427350427351 , v_recall:  0.5442552538732934\n",
      "t_prec:  0.7700038346804516 , v_prec:  0.596714716728126\n",
      "t_f:  0.557187817655798 , v_f:  0.5285714285714286\n",
      "////////\n"
     ]
    },
    {
     "name": "stderr",
     "output_type": "stream",
     "text": [
      "\r",
      "Iterations:  69%|██████████████████████▋          | 206/300 [04:21<01:55,  1.23s/it]"
     ]
    },
    {
     "name": "stdout",
     "output_type": "stream",
     "text": [
      "Epoch  205 , loss 0.38480763137340546\n",
      "Epoch  206 , loss 0.38780642807483673\n"
     ]
    },
    {
     "name": "stderr",
     "output_type": "stream",
     "text": [
      "\r",
      "Iterations:  69%|██████████████████████▊          | 207/300 [04:22<02:07,  1.38s/it]"
     ]
    },
    {
     "name": "stdout",
     "output_type": "stream",
     "text": [
      "Epoch:  206\n",
      "t_loss:  0.38780642807483673 , v_loss:  0.6725757122039795\n",
      "t_acc:  0.7398373983739838 , v_acc:  0.6931818181818182\n",
      "t_recall:  0.5842735042735042 , v_recall:  0.5442552538732934\n",
      "t_prec:  0.7799758124221146 , v_prec:  0.596714716728126\n",
      "t_f:  0.571622047183244 , v_f:  0.5285714285714286\n",
      "////////\n"
     ]
    },
    {
     "name": "stderr",
     "output_type": "stream",
     "text": [
      "\r",
      "Iterations:  69%|██████████████████████▉          | 208/300 [04:23<01:55,  1.26s/it]"
     ]
    },
    {
     "name": "stdout",
     "output_type": "stream",
     "text": [
      "Epoch  207 , loss 0.3838881987333298\n",
      "Epoch  208 , loss 0.3843211829662323\n"
     ]
    },
    {
     "name": "stderr",
     "output_type": "stream",
     "text": [
      "\r",
      "Iterations:  70%|██████████████████████▉          | 209/300 [04:25<02:03,  1.36s/it]"
     ]
    },
    {
     "name": "stdout",
     "output_type": "stream",
     "text": [
      "Epoch:  208\n",
      "t_loss:  0.3843211829662323 , v_loss:  0.6745443691809972\n",
      "t_acc:  0.7345215759849906 , v_acc:  0.6931818181818182\n",
      "t_recall:  0.5784345479082321 , v_recall:  0.5442552538732934\n",
      "t_prec:  0.7573152789886661 , v_prec:  0.596714716728126\n",
      "t_f:  0.5637130911525785 , v_f:  0.5285714285714286\n",
      "////////\n"
     ]
    },
    {
     "name": "stderr",
     "output_type": "stream",
     "text": [
      "\r",
      "Iterations:  70%|███████████████████████          | 210/300 [04:26<01:51,  1.24s/it]"
     ]
    },
    {
     "name": "stdout",
     "output_type": "stream",
     "text": [
      "Epoch  209 , loss 0.38223210036754607\n",
      "Epoch  210 , loss 0.3886521327495575\n"
     ]
    },
    {
     "name": "stderr",
     "output_type": "stream",
     "text": [
      "\r",
      "Iterations:  70%|███████████████████████▏         | 211/300 [04:28<01:57,  1.32s/it]"
     ]
    },
    {
     "name": "stdout",
     "output_type": "stream",
     "text": [
      "Epoch:  210\n",
      "t_loss:  0.3886521327495575 , v_loss:  0.6723130096991857\n",
      "t_acc:  0.7301438398999375 , v_acc:  0.6818181818181818\n",
      "t_recall:  0.5724066576698156 , v_recall:  0.5361251725724805\n",
      "t_prec:  0.7436470675907296 , v_prec:  0.5723502304147465\n",
      "t_f:  0.5547983555823334 , v_f:  0.52090219716119\n",
      "////////\n"
     ]
    },
    {
     "name": "stderr",
     "output_type": "stream",
     "text": [
      "\r",
      "Iterations:  71%|███████████████████████▎         | 212/300 [04:29<01:47,  1.22s/it]"
     ]
    },
    {
     "name": "stdout",
     "output_type": "stream",
     "text": [
      "Epoch  211 , loss 0.38490191489458087\n",
      "Epoch  212 , loss 0.3859715938568115\n"
     ]
    },
    {
     "name": "stderr",
     "output_type": "stream",
     "text": [
      "\r",
      "Iterations:  71%|███████████████████████▍         | 213/300 [04:30<01:52,  1.29s/it]"
     ]
    },
    {
     "name": "stdout",
     "output_type": "stream",
     "text": [
      "Epoch:  212\n",
      "t_loss:  0.3859715938568115 , v_loss:  0.6735295802354813\n",
      "t_acc:  0.7360850531582239 , v_acc:  0.6931818181818182\n",
      "t_recall:  0.58157444894287 , v_recall:  0.5442552538732934\n",
      "t_prec:  0.75796970134685 , v_prec:  0.596714716728126\n",
      "t_f:  0.568772706793585 , v_f:  0.5285714285714286\n",
      "////////\n"
     ]
    },
    {
     "name": "stderr",
     "output_type": "stream",
     "text": [
      "\r",
      "Iterations:  71%|███████████████████████▌         | 214/300 [04:31<01:45,  1.22s/it]"
     ]
    },
    {
     "name": "stdout",
     "output_type": "stream",
     "text": [
      "Epoch  213 , loss 0.3816323459148407\n",
      "Epoch  214 , loss 0.3797104293107986\n"
     ]
    },
    {
     "name": "stderr",
     "output_type": "stream",
     "text": [
      "\r",
      "Iterations:  72%|███████████████████████▋         | 215/300 [04:32<01:49,  1.29s/it]"
     ]
    },
    {
     "name": "stdout",
     "output_type": "stream",
     "text": [
      "Epoch:  214\n",
      "t_loss:  0.3797104293107986 , v_loss:  0.6777382592360178\n",
      "t_acc:  0.7454659161976235 , v_acc:  0.6875\n",
      "t_recall:  0.5958074673864148 , v_recall:  0.540190213222887\n",
      "t_prec:  0.778700416730977 , v_prec:  0.583974358974359\n",
      "t_f:  0.5898129052752594 , v_f:  0.5247213629891491\n",
      "////////\n"
     ]
    },
    {
     "name": "stderr",
     "output_type": "stream",
     "text": [
      "\r",
      "Iterations:  72%|███████████████████████▊         | 216/300 [04:33<01:38,  1.17s/it]"
     ]
    },
    {
     "name": "stdout",
     "output_type": "stream",
     "text": [
      "Epoch  215 , loss 0.37688649356365206\n",
      "Epoch  216 , loss 0.3822079825401306\n"
     ]
    },
    {
     "name": "stderr",
     "output_type": "stream",
     "text": [
      "\r",
      "Iterations:  72%|███████████████████████▊         | 217/300 [04:35<01:44,  1.26s/it]"
     ]
    },
    {
     "name": "stdout",
     "output_type": "stream",
     "text": [
      "Epoch:  216\n",
      "t_loss:  0.3822079825401306 , v_loss:  0.676250159740448\n",
      "t_acc:  0.7382739212007504 , v_acc:  0.6875\n",
      "t_recall:  0.5851641925326136 , v_recall:  0.540190213222887\n",
      "t_prec:  0.7620187940040881 , v_prec:  0.583974358974359\n",
      "t_f:  0.5742428915382094 , v_f:  0.5247213629891491\n",
      "////////\n"
     ]
    },
    {
     "name": "stderr",
     "output_type": "stream",
     "text": [
      "\r",
      "Iterations:  73%|███████████████████████▉         | 218/300 [04:36<01:39,  1.21s/it]"
     ]
    },
    {
     "name": "stdout",
     "output_type": "stream",
     "text": [
      "Epoch  217 , loss 0.38768228054046633\n",
      "Epoch  218 , loss 0.38216772526502607\n"
     ]
    },
    {
     "name": "stderr",
     "output_type": "stream",
     "text": [
      "\r",
      "Iterations:  73%|████████████████████████         | 219/300 [04:38<01:48,  1.34s/it]"
     ]
    },
    {
     "name": "stdout",
     "output_type": "stream",
     "text": [
      "Epoch:  218\n",
      "t_loss:  0.38216772526502607 , v_loss:  0.6768855651219686\n",
      "t_acc:  0.7429643527204502 , v_acc:  0.6818181818181818\n",
      "t_recall:  0.5917049032838506 , v_recall:  0.5361251725724805\n",
      "t_prec:  0.7747306440354672 , v_prec:  0.5723502304147465\n",
      "t_f:  0.5837098081941875 , v_f:  0.52090219716119\n",
      "////////\n"
     ]
    },
    {
     "name": "stderr",
     "output_type": "stream",
     "text": [
      "\r",
      "Iterations:  73%|████████████████████████▏        | 220/300 [04:39<01:41,  1.27s/it]"
     ]
    },
    {
     "name": "stdout",
     "output_type": "stream",
     "text": [
      "Epoch  219 , loss 0.3752408689260483\n",
      "Epoch  220 , loss 0.38439703464508057\n"
     ]
    },
    {
     "name": "stderr",
     "output_type": "stream",
     "text": [
      "\r",
      "Iterations:  74%|████████████████████████▎        | 221/300 [04:40<01:51,  1.41s/it]"
     ]
    },
    {
     "name": "stdout",
     "output_type": "stream",
     "text": [
      "Epoch:  220\n",
      "t_loss:  0.38439703464508057 , v_loss:  0.6805507689714432\n",
      "t_acc:  0.7373358348968105 , v_acc:  0.6875\n",
      "t_recall:  0.5833378317588844 , v_recall:  0.540190213222887\n",
      "t_prec:  0.7614602407196983 , v_prec:  0.583974358974359\n",
      "t_f:  0.5713618283660205 , v_f:  0.5247213629891491\n",
      "////////\n"
     ]
    },
    {
     "name": "stderr",
     "output_type": "stream",
     "text": [
      "\r",
      "Iterations:  74%|████████████████████████▍        | 222/300 [04:41<01:42,  1.31s/it]"
     ]
    },
    {
     "name": "stdout",
     "output_type": "stream",
     "text": [
      "Epoch  221 , loss 0.3853165474534035\n",
      "Epoch  222 , loss 0.37681751370429994\n"
     ]
    },
    {
     "name": "stderr",
     "output_type": "stream",
     "text": [
      "\r",
      "Iterations:  74%|████████████████████████▌        | 223/300 [04:43<01:47,  1.39s/it]"
     ]
    },
    {
     "name": "stdout",
     "output_type": "stream",
     "text": [
      "Epoch:  222\n",
      "t_loss:  0.37681751370429994 , v_loss:  0.6786487301190695\n",
      "t_acc:  0.7473420888055035 , v_acc:  0.6818181818181818\n",
      "t_recall:  0.5983085919928025 , v_recall:  0.5361251725724805\n",
      "t_prec:  0.7839259659011413 , v_prec:  0.5723502304147465\n",
      "t_f:  0.5933410762679057 , v_f:  0.52090219716119\n",
      "////////\n"
     ]
    },
    {
     "name": "stderr",
     "output_type": "stream",
     "text": [
      "\r",
      "Iterations:  75%|████████████████████████▋        | 224/300 [04:44<01:35,  1.26s/it]"
     ]
    },
    {
     "name": "stdout",
     "output_type": "stream",
     "text": [
      "Epoch  223 , loss 0.3848282182216644\n",
      "Epoch  224 , loss 0.3786870068311691\n"
     ]
    },
    {
     "name": "stderr",
     "output_type": "stream",
     "text": [
      "\r",
      "Iterations:  75%|████████████████████████▊        | 225/300 [04:46<01:39,  1.33s/it]"
     ]
    },
    {
     "name": "stdout",
     "output_type": "stream",
     "text": [
      "Epoch:  224\n",
      "t_loss:  0.3786870068311691 , v_loss:  0.6834044953187307\n",
      "t_acc:  0.7370231394621638 , v_acc:  0.6875\n",
      "t_recall:  0.5828250112460639 , v_recall:  0.540190213222887\n",
      "t_prec:  0.7608834027018858 , v_prec:  0.583974358974359\n",
      "t_f:  0.5705787671741398 , v_f:  0.5247213629891491\n",
      "////////\n"
     ]
    },
    {
     "name": "stderr",
     "output_type": "stream",
     "text": [
      "\r",
      "Iterations:  75%|████████████████████████▊        | 226/300 [04:46<01:28,  1.20s/it]"
     ]
    },
    {
     "name": "stdout",
     "output_type": "stream",
     "text": [
      "Epoch  225 , loss 0.37952383428812025\n",
      "Epoch  226 , loss 0.3774213021993637\n"
     ]
    },
    {
     "name": "stderr",
     "output_type": "stream",
     "text": [
      "\r",
      "Iterations:  76%|████████████████████████▉        | 227/300 [04:48<01:32,  1.27s/it]"
     ]
    },
    {
     "name": "stdout",
     "output_type": "stream",
     "text": [
      "Epoch:  226\n",
      "t_loss:  0.3774213021993637 , v_loss:  0.6841429670651754\n",
      "t_acc:  0.7448405253283302 , v_acc:  0.6875\n",
      "t_recall:  0.5936302294197031 , v_recall:  0.540190213222887\n",
      "t_prec:  0.7826157799085041 , v_prec:  0.583974358974359\n",
      "t_f:  0.5862297290354987 , v_f:  0.5247213629891491\n",
      "////////\n"
     ]
    },
    {
     "name": "stderr",
     "output_type": "stream",
     "text": [
      "\r",
      "Iterations:  76%|█████████████████████████        | 228/300 [04:49<01:24,  1.17s/it]"
     ]
    },
    {
     "name": "stdout",
     "output_type": "stream",
     "text": [
      "Epoch  227 , loss 0.383194762468338\n",
      "Epoch  228 , loss 0.37897657841444016\n"
     ]
    },
    {
     "name": "stderr",
     "output_type": "stream",
     "text": [
      "\r",
      "Iterations:  76%|█████████████████████████▏       | 229/300 [04:50<01:29,  1.27s/it]"
     ]
    },
    {
     "name": "stdout",
     "output_type": "stream",
     "text": [
      "Epoch:  228\n",
      "t_loss:  0.37897657841444016 , v_loss:  0.6828231513500214\n",
      "t_acc:  0.7473420888055035 , v_acc:  0.6818181818181818\n",
      "t_recall:  0.5991722896986055 , v_recall:  0.5361251725724805\n",
      "t_prec:  0.7804077191911365 , v_prec:  0.5723502304147465\n",
      "t_f:  0.5948445849326409 , v_f:  0.52090219716119\n",
      "////////\n"
     ]
    },
    {
     "name": "stderr",
     "output_type": "stream",
     "text": [
      "\r",
      "Iterations:  77%|█████████████████████████▎       | 230/300 [04:51<01:21,  1.17s/it]"
     ]
    },
    {
     "name": "stdout",
     "output_type": "stream",
     "text": [
      "Epoch  229 , loss 0.38362119674682615\n",
      "Epoch  230 , loss 0.38189634382724763\n"
     ]
    },
    {
     "name": "stderr",
     "output_type": "stream",
     "text": [
      "\r",
      "Iterations:  77%|█████████████████████████▍       | 231/300 [04:53<01:29,  1.29s/it]"
     ]
    },
    {
     "name": "stdout",
     "output_type": "stream",
     "text": [
      "Epoch:  230\n",
      "t_loss:  0.38189634382724763 , v_loss:  0.6827228715022405\n",
      "t_acc:  0.7401500938086304 , v_acc:  0.6818181818181818\n",
      "t_recall:  0.5893927125506073 , v_recall:  0.5361251725724805\n",
      "t_prec:  0.7609834157695665 , v_prec:  0.5723502304147465\n",
      "t_f:  0.5809861403391764 , v_f:  0.52090219716119\n",
      "////////\n"
     ]
    },
    {
     "name": "stderr",
     "output_type": "stream",
     "text": [
      "\r",
      "Iterations:  77%|█████████████████████████▌       | 232/300 [04:54<01:22,  1.21s/it]"
     ]
    },
    {
     "name": "stdout",
     "output_type": "stream",
     "text": [
      "Epoch  231 , loss 0.38073904752731325\n",
      "Epoch  232 , loss 0.3805431514978409\n"
     ]
    },
    {
     "name": "stderr",
     "output_type": "stream",
     "text": [
      "\r",
      "Iterations:  78%|█████████████████████████▋       | 233/300 [04:55<01:29,  1.34s/it]"
     ]
    },
    {
     "name": "stdout",
     "output_type": "stream",
     "text": [
      "Epoch:  232\n",
      "t_loss:  0.3805431514978409 , v_loss:  0.6800574560960134\n",
      "t_acc:  0.7451532207629769 , v_acc:  0.6818181818181818\n",
      "t_recall:  0.5970220422852002 , v_recall:  0.5361251725724805\n",
      "t_prec:  0.7714878849848175 , v_prec:  0.5723502304147465\n",
      "t_f:  0.5920869210424627 , v_f:  0.52090219716119\n",
      "////////\n"
     ]
    },
    {
     "name": "stderr",
     "output_type": "stream",
     "text": [
      "\r",
      "Iterations:  78%|█████████████████████████▋       | 234/300 [04:56<01:21,  1.24s/it]"
     ]
    },
    {
     "name": "stdout",
     "output_type": "stream",
     "text": [
      "Epoch  233 , loss 0.3765742117166519\n",
      "Epoch  234 , loss 0.3790232369303703\n"
     ]
    },
    {
     "name": "stderr",
     "output_type": "stream",
     "text": [
      "\r",
      "Iterations:  78%|█████████████████████████▊       | 235/300 [04:58<01:25,  1.31s/it]"
     ]
    },
    {
     "name": "stdout",
     "output_type": "stream",
     "text": [
      "Epoch:  234\n",
      "t_loss:  0.3790232369303703 , v_loss:  0.6855120211839676\n",
      "t_acc:  0.7454659161976235 , v_acc:  0.6818181818181818\n",
      "t_recall:  0.5963832658569501 , v_recall:  0.5361251725724805\n",
      "t_prec:  0.7763869723233978 , v_prec:  0.5723502304147465\n",
      "t_f:  0.590827984950758 , v_f:  0.52090219716119\n",
      "////////\n"
     ]
    },
    {
     "name": "stderr",
     "output_type": "stream",
     "text": [
      "\r",
      "Iterations:  79%|█████████████████████████▉       | 236/300 [04:59<01:17,  1.21s/it]"
     ]
    },
    {
     "name": "stdout",
     "output_type": "stream",
     "text": [
      "Epoch  235 , loss 0.37794058322906493\n",
      "Epoch  236 , loss 0.3784884649515152\n"
     ]
    },
    {
     "name": "stderr",
     "output_type": "stream",
     "text": [
      "\r",
      "Iterations:  79%|██████████████████████████       | 237/300 [05:01<01:23,  1.33s/it]"
     ]
    },
    {
     "name": "stdout",
     "output_type": "stream",
     "text": [
      "Epoch:  236\n",
      "t_loss:  0.3784884649515152 , v_loss:  0.6826187372207642\n",
      "t_acc:  0.7482801751094434 , v_acc:  0.6818181818181818\n",
      "t_recall:  0.6012865497076023 , v_recall:  0.5361251725724805\n",
      "t_prec:  0.7795718506443889 , v_prec:  0.5723502304147465\n",
      "t_f:  0.5980768062844146 , v_f:  0.52090219716119\n",
      "////////\n"
     ]
    },
    {
     "name": "stderr",
     "output_type": "stream",
     "text": [
      "\r",
      "Iterations:  79%|██████████████████████████▏      | 238/300 [05:01<01:15,  1.22s/it]"
     ]
    },
    {
     "name": "stdout",
     "output_type": "stream",
     "text": [
      "Epoch  237 , loss 0.3756019407510757\n",
      "Epoch  238 , loss 0.3788483941555023\n"
     ]
    },
    {
     "name": "stderr",
     "output_type": "stream",
     "text": [
      "\r",
      "Iterations:  80%|██████████████████████████▎      | 239/300 [05:03<01:19,  1.30s/it]"
     ]
    },
    {
     "name": "stdout",
     "output_type": "stream",
     "text": [
      "Epoch:  238\n",
      "t_loss:  0.3788483941555023 , v_loss:  0.6801892469326655\n",
      "t_acc:  0.743277048155097 , v_acc:  0.6818181818181818\n",
      "t_recall:  0.5922177237966711 , v_recall:  0.5361251725724805\n",
      "t_prec:  0.7752371273712737 , v_prec:  0.5723502304147465\n",
      "t_f:  0.5844764923025794 , v_f:  0.52090219716119\n",
      "////////\n"
     ]
    },
    {
     "name": "stderr",
     "output_type": "stream",
     "text": [
      "\r",
      "Iterations:  80%|██████████████████████████▍      | 240/300 [05:04<01:10,  1.18s/it]"
     ]
    },
    {
     "name": "stdout",
     "output_type": "stream",
     "text": [
      "Epoch  239 , loss 0.3753519034385681\n",
      "Epoch  240 , loss 0.37918406367301943\n"
     ]
    },
    {
     "name": "stderr",
     "output_type": "stream",
     "text": [
      "\r",
      "Iterations:  80%|██████████████████████████▌      | 241/300 [05:05<01:16,  1.30s/it]"
     ]
    },
    {
     "name": "stdout",
     "output_type": "stream",
     "text": [
      "Epoch:  240\n",
      "t_loss:  0.37918406367301943 , v_loss:  0.6858791460593542\n",
      "t_acc:  0.7470293933708568 , v_acc:  0.6875\n",
      "t_recall:  0.6015384615384616 , v_recall:  0.540190213222887\n",
      "t_prec:  0.7693589053167531 , v_prec:  0.583974358974359\n",
      "t_f:  0.599008052598011 , v_f:  0.5247213629891491\n",
      "////////\n"
     ]
    },
    {
     "name": "stderr",
     "output_type": "stream",
     "text": [
      "\r",
      "Iterations:  81%|██████████████████████████▌      | 242/300 [05:06<01:10,  1.21s/it]"
     ]
    },
    {
     "name": "stdout",
     "output_type": "stream",
     "text": [
      "Epoch  241 , loss 0.3699494069814682\n",
      "Epoch  242 , loss 0.3751540631055832\n"
     ]
    },
    {
     "name": "stderr",
     "output_type": "stream",
     "text": [
      "\r",
      "Iterations:  81%|██████████████████████████▋      | 243/300 [05:08<01:14,  1.31s/it]"
     ]
    },
    {
     "name": "stdout",
     "output_type": "stream",
     "text": [
      "Epoch:  242\n",
      "t_loss:  0.3751540631055832 , v_loss:  0.6841730425755183\n",
      "t_acc:  0.7514071294559099 , v_acc:  0.6818181818181818\n",
      "t_recall:  0.6067026540710752 , v_recall:  0.5361251725724805\n",
      "t_prec:  0.7830583569959855 , v_prec:  0.5723502304147465\n",
      "t_f:  0.6059473446420504 , v_f:  0.52090219716119\n",
      "////////\n"
     ]
    },
    {
     "name": "stderr",
     "output_type": "stream",
     "text": [
      "\r",
      "Iterations:  81%|██████████████████████████▊      | 244/300 [05:09<01:08,  1.23s/it]"
     ]
    },
    {
     "name": "stdout",
     "output_type": "stream",
     "text": [
      "Epoch  243 , loss 0.3766727954149246\n",
      "Epoch  244 , loss 0.37344859093427657\n"
     ]
    },
    {
     "name": "stderr",
     "output_type": "stream",
     "text": [
      "\r",
      "Iterations:  82%|██████████████████████████▉      | 245/300 [05:11<01:12,  1.32s/it]"
     ]
    },
    {
     "name": "stdout",
     "output_type": "stream",
     "text": [
      "Epoch:  244\n",
      "t_loss:  0.37344859093427657 , v_loss:  0.684221088886261\n",
      "t_acc:  0.7464040025015635 , v_acc:  0.6818181818181818\n",
      "t_recall:  0.5993612235717499 , v_recall:  0.5361251725724805\n",
      "t_prec:  0.7724119611414693 , v_prec:  0.5723502304147465\n",
      "t_f:  0.5955746106148531 , v_f:  0.52090219716119\n",
      "////////\n"
     ]
    },
    {
     "name": "stderr",
     "output_type": "stream",
     "text": [
      "\r",
      "Iterations:  82%|███████████████████████████      | 246/300 [05:11<01:04,  1.20s/it]"
     ]
    },
    {
     "name": "stdout",
     "output_type": "stream",
     "text": [
      "Epoch  245 , loss 0.3768102300167084\n",
      "Epoch  246 , loss 0.3727397245168686\n"
     ]
    },
    {
     "name": "stderr",
     "output_type": "stream",
     "text": [
      "\r",
      "Iterations:  82%|███████████████████████████▏     | 247/300 [05:13<01:08,  1.29s/it]"
     ]
    },
    {
     "name": "stdout",
     "output_type": "stream",
     "text": [
      "Epoch:  246\n",
      "t_loss:  0.3727397245168686 , v_loss:  0.6843743373950323\n",
      "t_acc:  0.7510944340212633 , v_acc:  0.6875\n",
      "t_recall:  0.6047503373819163 , v_recall:  0.540190213222887\n",
      "t_prec:  0.7881561262138264 , v_prec:  0.583974358974359\n",
      "t_f:  0.602812755886641 , v_f:  0.5247213629891491\n",
      "////////\n"
     ]
    },
    {
     "name": "stderr",
     "output_type": "stream",
     "text": [
      "\r",
      "Iterations:  83%|███████████████████████████▎     | 248/300 [05:14<01:01,  1.18s/it]"
     ]
    },
    {
     "name": "stdout",
     "output_type": "stream",
     "text": [
      "Epoch  247 , loss 0.3759953048825264\n",
      "Epoch  248 , loss 0.37154663383960723\n"
     ]
    },
    {
     "name": "stderr",
     "output_type": "stream",
     "text": [
      "\r",
      "Iterations:  83%|███████████████████████████▍     | 249/300 [05:15<01:05,  1.29s/it]"
     ]
    },
    {
     "name": "stdout",
     "output_type": "stream",
     "text": [
      "Epoch:  248\n",
      "t_loss:  0.37154663383960723 , v_loss:  0.6819893419742584\n",
      "t_acc:  0.7507817385866167 , v_acc:  0.6818181818181818\n",
      "t_recall:  0.6059649122807018 , v_recall:  0.5361251725724805\n",
      "t_prec:  0.7811012924703808 , v_prec:  0.5723502304147465\n",
      "t_f:  0.6049560172071876 , v_f:  0.52090219716119\n",
      "////////\n"
     ]
    },
    {
     "name": "stderr",
     "output_type": "stream",
     "text": [
      "\r",
      "Iterations:  83%|███████████████████████████▌     | 250/300 [05:16<01:00,  1.21s/it]"
     ]
    },
    {
     "name": "stdout",
     "output_type": "stream",
     "text": [
      "Epoch  249 , loss 0.3717357137799263\n",
      "Epoch  250 , loss 0.3749767005443573\n"
     ]
    },
    {
     "name": "stderr",
     "output_type": "stream",
     "text": [
      "\r",
      "Iterations:  84%|███████████████████████████▌     | 251/300 [05:18<01:05,  1.33s/it]"
     ]
    },
    {
     "name": "stdout",
     "output_type": "stream",
     "text": [
      "Epoch:  250\n",
      "t_loss:  0.3749767005443573 , v_loss:  0.6835891952117285\n",
      "t_acc:  0.7467166979362101 , v_acc:  0.6818181818181818\n",
      "t_recall:  0.6021772379667116 , v_recall:  0.5361251725724805\n",
      "t_prec:  0.7650782745251999 , v_prec:  0.5723502304147465\n",
      "t_f:  0.6001949651093946 , v_f:  0.52090219716119\n",
      "////////\n"
     ]
    },
    {
     "name": "stderr",
     "output_type": "stream",
     "text": [
      "\r",
      "Iterations:  84%|███████████████████████████▋     | 252/300 [05:19<00:58,  1.21s/it]"
     ]
    },
    {
     "name": "stdout",
     "output_type": "stream",
     "text": [
      "Epoch  251 , loss 0.3712373149394989\n",
      "Epoch  252 , loss 0.37803628623485563\n"
     ]
    },
    {
     "name": "stderr",
     "output_type": "stream",
     "text": [
      "\r",
      "Iterations:  84%|███████████████████████████▊     | 253/300 [05:21<01:03,  1.35s/it]"
     ]
    },
    {
     "name": "stdout",
     "output_type": "stream",
     "text": [
      "Epoch:  252\n",
      "t_loss:  0.37803628623485563 , v_loss:  0.6818702220916748\n",
      "t_acc:  0.7504690431519699 , v_acc:  0.6818181818181818\n",
      "t_recall:  0.6045883940620783 , v_recall:  0.5361251725724805\n",
      "t_prec:  0.7838827838827839 , v_prec:  0.5723502304147465\n",
      "t_f:  0.602782634032634 , v_f:  0.52090219716119\n",
      "////////\n"
     ]
    },
    {
     "name": "stderr",
     "output_type": "stream",
     "text": [
      "\r",
      "Iterations:  85%|███████████████████████████▉     | 254/300 [05:22<00:57,  1.24s/it]"
     ]
    },
    {
     "name": "stdout",
     "output_type": "stream",
     "text": [
      "Epoch  253 , loss 0.3744316190481186\n",
      "Epoch  254 , loss 0.3732809787988663\n"
     ]
    },
    {
     "name": "stderr",
     "output_type": "stream",
     "text": [
      "\r",
      "Iterations:  85%|████████████████████████████     | 255/300 [05:23<01:00,  1.35s/it]"
     ]
    },
    {
     "name": "stdout",
     "output_type": "stream",
     "text": [
      "Epoch:  254\n",
      "t_loss:  0.3732809787988663 , v_loss:  0.6874472945928574\n",
      "t_acc:  0.7514071294559099 , v_acc:  0.6818181818181818\n",
      "t_recall:  0.6055510571300045 , v_recall:  0.5361251725724805\n",
      "t_prec:  0.7874507458485787 , v_prec:  0.5723502304147465\n",
      "t_f:  0.6040355077083038 , v_f:  0.52090219716119\n",
      "////////\n"
     ]
    },
    {
     "name": "stderr",
     "output_type": "stream",
     "text": [
      "\r",
      "Iterations:  85%|████████████████████████████▏    | 256/300 [05:24<00:53,  1.22s/it]"
     ]
    },
    {
     "name": "stdout",
     "output_type": "stream",
     "text": [
      "Epoch  255 , loss 0.37315142780542376\n",
      "Epoch  256 , loss 0.37729083985090256\n"
     ]
    },
    {
     "name": "stderr",
     "output_type": "stream",
     "text": [
      "\r",
      "Iterations:  86%|████████████████████████████▎    | 257/300 [05:26<00:55,  1.29s/it]"
     ]
    },
    {
     "name": "stdout",
     "output_type": "stream",
     "text": [
      "Epoch:  256\n",
      "t_loss:  0.37729083985090256 , v_loss:  0.6825868984063467\n",
      "t_acc:  0.7451532207629769 , v_acc:  0.6818181818181818\n",
      "t_recall:  0.5964462438146649 , v_recall:  0.5361251725724805\n",
      "t_prec:  0.7736555479918312 , v_prec:  0.5723502304147465\n",
      "t_f:  0.5910829194668517 , v_f:  0.52090219716119\n",
      "////////\n"
     ]
    },
    {
     "name": "stderr",
     "output_type": "stream",
     "text": [
      "\r",
      "Iterations:  86%|████████████████████████████▍    | 258/300 [05:27<00:51,  1.22s/it]"
     ]
    },
    {
     "name": "stdout",
     "output_type": "stream",
     "text": [
      "Epoch  257 , loss 0.3730891713500023\n",
      "Epoch  258 , loss 0.37000020921230314\n"
     ]
    },
    {
     "name": "stderr",
     "output_type": "stream",
     "text": [
      "\r",
      "Iterations:  86%|████████████████████████████▍    | 259/300 [05:28<00:53,  1.30s/it]"
     ]
    },
    {
     "name": "stdout",
     "output_type": "stream",
     "text": [
      "Epoch:  258\n",
      "t_loss:  0.37000020921230314 , v_loss:  0.685537209113439\n",
      "t_acc:  0.7507817385866167 , v_acc:  0.6818181818181818\n",
      "t_recall:  0.6051012145748988 , v_recall:  0.5361251725724805\n",
      "t_prec:  0.7843307837478906 , v_prec:  0.5723502304147465\n",
      "t_f:  0.603521013819021 , v_f:  0.52090219716119\n",
      "////////\n"
     ]
    },
    {
     "name": "stderr",
     "output_type": "stream",
     "text": [
      "\r",
      "Iterations:  87%|████████████████████████████▌    | 260/300 [05:29<00:49,  1.23s/it]"
     ]
    },
    {
     "name": "stdout",
     "output_type": "stream",
     "text": [
      "Epoch  259 , loss 0.3718655070662498\n",
      "Epoch  260 , loss 0.37144491732120516\n"
     ]
    },
    {
     "name": "stderr",
     "output_type": "stream",
     "text": [
      "\r",
      "Iterations:  87%|████████████████████████████▋    | 261/300 [05:31<00:50,  1.30s/it]"
     ]
    },
    {
     "name": "stdout",
     "output_type": "stream",
     "text": [
      "Epoch:  260\n",
      "t_loss:  0.37144491732120516 , v_loss:  0.6777800470590591\n",
      "t_acc:  0.7545340838023765 , v_acc:  0.6818181818181818\n",
      "t_recall:  0.6138461538461538 , v_recall:  0.5361251725724805\n",
      "t_prec:  0.7804725293711127 , v_prec:  0.5723502304147465\n",
      "t_f:  0.6164145240618931 , v_f:  0.52090219716119\n",
      "////////\n"
     ]
    },
    {
     "name": "stderr",
     "output_type": "stream",
     "text": [
      "\r",
      "Iterations:  87%|████████████████████████████▊    | 262/300 [05:32<00:47,  1.24s/it]"
     ]
    },
    {
     "name": "stdout",
     "output_type": "stream",
     "text": [
      "Epoch  261 , loss 0.3738964864611626\n",
      "Epoch  262 , loss 0.36944414019584654\n"
     ]
    },
    {
     "name": "stderr",
     "output_type": "stream",
     "text": [
      "\r",
      "Iterations:  88%|████████████████████████████▉    | 263/300 [05:33<00:48,  1.31s/it]"
     ]
    },
    {
     "name": "stdout",
     "output_type": "stream",
     "text": [
      "Epoch:  262\n",
      "t_loss:  0.36944414019584654 , v_loss:  0.6834920545419058\n",
      "t_acc:  0.7542213883677298 , v_acc:  0.6875\n",
      "t_recall:  0.613621232568601 , v_recall:  0.540190213222887\n",
      "t_prec:  0.7790970856731625 , v_prec:  0.583974358974359\n",
      "t_f:  0.616150923573104 , v_f:  0.5247213629891491\n",
      "////////\n"
     ]
    },
    {
     "name": "stderr",
     "output_type": "stream",
     "text": [
      "\r",
      "Iterations:  88%|█████████████████████████████    | 264/300 [05:34<00:43,  1.21s/it]"
     ]
    },
    {
     "name": "stdout",
     "output_type": "stream",
     "text": [
      "Epoch  263 , loss 0.3730336946249008\n",
      "Epoch  264 , loss 0.3688918796181679\n"
     ]
    },
    {
     "name": "stderr",
     "output_type": "stream",
     "text": [
      "\r",
      "Iterations:  88%|█████████████████████████████▏   | 265/300 [05:36<00:44,  1.28s/it]"
     ]
    },
    {
     "name": "stdout",
     "output_type": "stream",
     "text": [
      "Epoch:  264\n",
      "t_loss:  0.3688918796181679 , v_loss:  0.6854403813680013\n",
      "t_acc:  0.7545340838023765 , v_acc:  0.6818181818181818\n",
      "t_recall:  0.6138461538461538 , v_recall:  0.5361251725724805\n",
      "t_prec:  0.7804725293711127 , v_prec:  0.5723502304147465\n",
      "t_f:  0.6164145240618931 , v_f:  0.52090219716119\n",
      "////////\n"
     ]
    },
    {
     "name": "stderr",
     "output_type": "stream",
     "text": [
      "\r",
      "Iterations:  89%|█████████████████████████████▎   | 266/300 [05:37<00:41,  1.21s/it]"
     ]
    },
    {
     "name": "stdout",
     "output_type": "stream",
     "text": [
      "Epoch  265 , loss 0.3700405353307724\n",
      "Epoch  266 , loss 0.37414839744567874\n"
     ]
    },
    {
     "name": "stderr",
     "output_type": "stream",
     "text": [
      "\r",
      "Iterations:  89%|█████████████████████████████▎   | 267/300 [05:38<00:43,  1.32s/it]"
     ]
    },
    {
     "name": "stdout",
     "output_type": "stream",
     "text": [
      "Epoch:  266\n",
      "t_loss:  0.37414839744567874 , v_loss:  0.6832399268945059\n",
      "t_acc:  0.7517198248905566 , v_acc:  0.6818181818181818\n",
      "t_recall:  0.6077912730544309 , v_recall:  0.5361251725724805\n",
      "t_prec:  0.7814118199721756 , v_prec:  0.5723502304147465\n",
      "t_f:  0.6076231271324729 , v_f:  0.52090219716119\n",
      "////////\n"
     ]
    },
    {
     "name": "stderr",
     "output_type": "stream",
     "text": [
      "\r",
      "Iterations:  89%|█████████████████████████████▍   | 268/300 [05:39<00:38,  1.22s/it]"
     ]
    },
    {
     "name": "stdout",
     "output_type": "stream",
     "text": [
      "Epoch  267 , loss 0.3730161541700363\n",
      "Epoch  268 , loss 0.36583973228931427\n"
     ]
    },
    {
     "name": "stderr",
     "output_type": "stream",
     "text": [
      "\r",
      "Iterations:  90%|█████████████████████████████▌   | 269/300 [05:41<00:42,  1.37s/it]"
     ]
    },
    {
     "name": "stdout",
     "output_type": "stream",
     "text": [
      "Epoch:  268\n",
      "t_loss:  0.36583973228931427 , v_loss:  0.6875854333241781\n",
      "t_acc:  0.7526579111944965 , v_acc:  0.6818181818181818\n",
      "t_recall:  0.6073144399460189 , v_recall:  0.5361251725724805\n",
      "t_prec:  0.7903182321986679 , v_prec:  0.5723502304147465\n",
      "t_f:  0.6065057991604086 , v_f:  0.52090219716119\n",
      "////////\n"
     ]
    },
    {
     "name": "stderr",
     "output_type": "stream",
     "text": [
      "\r",
      "Iterations:  90%|█████████████████████████████▋   | 270/300 [05:42<00:37,  1.25s/it]"
     ]
    },
    {
     "name": "stdout",
     "output_type": "stream",
     "text": [
      "Epoch  269 , loss 0.370636430978775\n",
      "Epoch  270 , loss 0.3726754850149155\n"
     ]
    },
    {
     "name": "stderr",
     "output_type": "stream",
     "text": [
      "\r",
      "Iterations:  90%|█████████████████████████████▊   | 271/300 [05:44<00:39,  1.38s/it]"
     ]
    },
    {
     "name": "stdout",
     "output_type": "stream",
     "text": [
      "Epoch:  270\n",
      "t_loss:  0.3726754850149155 , v_loss:  0.6841026246547699\n",
      "t_acc:  0.7523452157598499 , v_acc:  0.6818181818181818\n",
      "t_recall:  0.6114080071974809 , v_recall:  0.5361251725724805\n",
      "t_prec:  0.7736605599723471 , v_prec:  0.5723502304147465\n",
      "t_f:  0.6132207779515246 , v_f:  0.52090219716119\n",
      "////////\n"
     ]
    },
    {
     "name": "stderr",
     "output_type": "stream",
     "text": [
      "\r",
      "Iterations:  91%|█████████████████████████████▉   | 272/300 [05:45<00:34,  1.25s/it]"
     ]
    },
    {
     "name": "stdout",
     "output_type": "stream",
     "text": [
      "Epoch  271 , loss 0.37187244117259977\n",
      "Epoch  272 , loss 0.3731317180395126\n"
     ]
    },
    {
     "name": "stderr",
     "output_type": "stream",
     "text": [
      "\r",
      "Iterations:  91%|██████████████████████████████   | 273/300 [05:46<00:35,  1.31s/it]"
     ]
    },
    {
     "name": "stdout",
     "output_type": "stream",
     "text": [
      "Epoch:  272\n",
      "t_loss:  0.3731317180395126 , v_loss:  0.6847403645515442\n",
      "t_acc:  0.7598499061913696 , v_acc:  0.6818181818181818\n",
      "t_recall:  0.6222762033288349 , v_recall:  0.5361251725724805\n",
      "t_prec:  0.7885716587852147 , v_prec:  0.5723502304147465\n",
      "t_f:  0.6279811474967842 , v_f:  0.52090219716119\n",
      "////////\n"
     ]
    },
    {
     "name": "stderr",
     "output_type": "stream",
     "text": [
      "\r",
      "Iterations:  91%|██████████████████████████████▏  | 274/300 [05:47<00:30,  1.17s/it]"
     ]
    },
    {
     "name": "stdout",
     "output_type": "stream",
     "text": [
      "Epoch  273 , loss 0.36956066370010376\n",
      "Epoch  274 , loss 0.37062232494354247\n"
     ]
    },
    {
     "name": "stderr",
     "output_type": "stream",
     "text": [
      "\r",
      "Iterations:  92%|██████████████████████████████▎  | 275/300 [05:49<00:32,  1.29s/it]"
     ]
    },
    {
     "name": "stdout",
     "output_type": "stream",
     "text": [
      "Epoch:  274\n",
      "t_loss:  0.37062232494354247 , v_loss:  0.6875420759121577\n",
      "t_acc:  0.7545340838023765 , v_acc:  0.6818181818181818\n",
      "t_recall:  0.6129824561403509 , v_recall:  0.5361251725724805\n",
      "t_prec:  0.7833614903957418 , v_prec:  0.5723502304147465\n",
      "t_f:  0.6150579483894928 , v_f:  0.52090219716119\n",
      "////////\n"
     ]
    },
    {
     "name": "stderr",
     "output_type": "stream",
     "text": [
      "\r",
      "Iterations:  92%|██████████████████████████████▎  | 276/300 [05:49<00:27,  1.16s/it]"
     ]
    },
    {
     "name": "stdout",
     "output_type": "stream",
     "text": [
      "Epoch  275 , loss 0.36909720838069915\n",
      "Epoch  276 , loss 0.36863409250974655\n"
     ]
    },
    {
     "name": "stderr",
     "output_type": "stream",
     "text": [
      "\r",
      "Iterations:  92%|██████████████████████████████▍  | 277/300 [05:51<00:29,  1.29s/it]"
     ]
    },
    {
     "name": "stdout",
     "output_type": "stream",
     "text": [
      "Epoch:  276\n",
      "t_loss:  0.36863409250974655 , v_loss:  0.6914301564296087\n",
      "t_acc:  0.7579737335834896 , v_acc:  0.6818181818181818\n",
      "t_recall:  0.6168960863697706 , v_recall:  0.5361251725724805\n",
      "t_prec:  0.7940626534214952 , v_prec:  0.5723502304147465\n",
      "t_f:  0.620227784896823 , v_f:  0.52090219716119\n",
      "////////\n"
     ]
    },
    {
     "name": "stderr",
     "output_type": "stream",
     "text": [
      "\r",
      "Iterations:  93%|██████████████████████████████▌  | 278/300 [05:52<00:26,  1.19s/it]"
     ]
    },
    {
     "name": "stdout",
     "output_type": "stream",
     "text": [
      "Epoch  277 , loss 0.3653497838973999\n",
      "Epoch  278 , loss 0.37121778577566145\n"
     ]
    },
    {
     "name": "stderr",
     "output_type": "stream",
     "text": [
      "\r",
      "Iterations:  93%|██████████████████████████████▋  | 279/300 [05:53<00:26,  1.28s/it]"
     ]
    },
    {
     "name": "stdout",
     "output_type": "stream",
     "text": [
      "Epoch:  278\n",
      "t_loss:  0.37121778577566145 , v_loss:  0.6925720771153768\n",
      "t_acc:  0.7529706066291432 , v_acc:  0.6818181818181818\n",
      "t_recall:  0.6109941520467836 , v_recall:  0.5361251725724805\n",
      "t_prec:  0.7792158050689592 , v_prec:  0.5723502304147465\n",
      "t_f:  0.6123771964709175 , v_f:  0.52090219716119\n",
      "////////\n"
     ]
    },
    {
     "name": "stderr",
     "output_type": "stream",
     "text": [
      "\r",
      "Iterations:  93%|██████████████████████████████▊  | 280/300 [05:54<00:24,  1.21s/it]"
     ]
    },
    {
     "name": "stdout",
     "output_type": "stream",
     "text": [
      "Epoch  279 , loss 0.3719353774189949\n",
      "Epoch  280 , loss 0.36813438177108765\n"
     ]
    },
    {
     "name": "stderr",
     "output_type": "stream",
     "text": [
      "\r",
      "Iterations:  94%|██████████████████████████████▉  | 281/300 [05:56<00:25,  1.33s/it]"
     ]
    },
    {
     "name": "stdout",
     "output_type": "stream",
     "text": [
      "Epoch:  280\n",
      "t_loss:  0.36813438177108765 , v_loss:  0.6891554196675619\n",
      "t_acc:  0.7554721701063164 , v_acc:  0.6818181818181818\n",
      "t_recall:  0.6130814215024741 , v_recall:  0.5361251725724805\n",
      "t_prec:  0.7897325687373883 , v_prec:  0.5723502304147465\n",
      "t_f:  0.6149349149598589 , v_f:  0.52090219716119\n",
      "////////\n"
     ]
    },
    {
     "name": "stderr",
     "output_type": "stream",
     "text": [
      "\r",
      "Iterations:  94%|███████████████████████████████  | 282/300 [05:57<00:23,  1.28s/it]"
     ]
    },
    {
     "name": "stdout",
     "output_type": "stream",
     "text": [
      "Epoch  281 , loss 0.3660876926779747\n",
      "Epoch  282 , loss 0.3648431873321533\n"
     ]
    },
    {
     "name": "stderr",
     "output_type": "stream",
     "text": [
      "\r",
      "Iterations:  94%|███████████████████████████████▏ | 283/300 [05:59<00:23,  1.36s/it]"
     ]
    },
    {
     "name": "stdout",
     "output_type": "stream",
     "text": [
      "Epoch:  282\n",
      "t_loss:  0.3648431873321533 , v_loss:  0.6924558530251185\n",
      "t_acc:  0.7582864290181364 , v_acc:  0.6818181818181818\n",
      "t_recall:  0.6174089068825911 , v_recall:  0.5361251725724805\n",
      "t_prec:  0.7944630872483222 , v_prec:  0.5723502304147465\n",
      "t_f:  0.6209424128727108 , v_f:  0.52090219716119\n",
      "////////\n"
     ]
    },
    {
     "name": "stderr",
     "output_type": "stream",
     "text": [
      "\r",
      "Iterations:  95%|███████████████████████████████▏ | 284/300 [06:00<00:20,  1.28s/it]"
     ]
    },
    {
     "name": "stdout",
     "output_type": "stream",
     "text": [
      "Epoch  283 , loss 0.36720035135746004\n",
      "Epoch  284 , loss 0.3649515226483345\n"
     ]
    },
    {
     "name": "stderr",
     "output_type": "stream",
     "text": [
      "\r",
      "Iterations:  95%|███████████████████████████████▎ | 285/300 [06:01<00:19,  1.33s/it]"
     ]
    },
    {
     "name": "stdout",
     "output_type": "stream",
     "text": [
      "Epoch:  284\n",
      "t_loss:  0.3649515226483345 , v_loss:  0.6957950194676717\n",
      "t_acc:  0.7589118198874296 , v_acc:  0.6818181818181818\n",
      "t_recall:  0.6184345479082322 , v_recall:  0.5361251725724805\n",
      "t_prec:  0.7952587991718426 , v_prec:  0.5723502304147465\n",
      "t_f:  0.6223687928598504 , v_f:  0.52090219716119\n",
      "////////\n"
     ]
    },
    {
     "name": "stderr",
     "output_type": "stream",
     "text": [
      "\r",
      "Iterations:  95%|███████████████████████████████▍ | 286/300 [06:02<00:16,  1.20s/it]"
     ]
    },
    {
     "name": "stdout",
     "output_type": "stream",
     "text": [
      "Epoch  285 , loss 0.37070417910814285\n",
      "Epoch  286 , loss 0.36389220058918\n"
     ]
    },
    {
     "name": "stderr",
     "output_type": "stream",
     "text": [
      "\r",
      "Iterations:  96%|███████████████████████████████▌ | 287/300 [06:04<00:16,  1.28s/it]"
     ]
    },
    {
     "name": "stdout",
     "output_type": "stream",
     "text": [
      "Epoch:  286\n",
      "t_loss:  0.36389220058918 , v_loss:  0.6941264569759369\n",
      "t_acc:  0.7623514696685428 , v_acc:  0.6818181818181818\n",
      "t_recall:  0.6266666666666667 , v_recall:  0.5361251725724805\n",
      "t_prec:  0.7908573038909801 , v_prec:  0.5723502304147465\n",
      "t_f:  0.6339620913835728 , v_f:  0.52090219716119\n",
      "////////\n"
     ]
    },
    {
     "name": "stderr",
     "output_type": "stream",
     "text": [
      "\r",
      "Iterations:  96%|███████████████████████████████▋ | 288/300 [06:05<00:14,  1.21s/it]"
     ]
    },
    {
     "name": "stdout",
     "output_type": "stream",
     "text": [
      "Epoch  287 , loss 0.3674549987912178\n",
      "Epoch  288 , loss 0.36722705990076066\n"
     ]
    },
    {
     "name": "stderr",
     "output_type": "stream",
     "text": [
      "\r",
      "Iterations:  96%|███████████████████████████████▊ | 289/300 [06:06<00:14,  1.34s/it]"
     ]
    },
    {
     "name": "stdout",
     "output_type": "stream",
     "text": [
      "Epoch:  288\n",
      "t_loss:  0.36722705990076066 , v_loss:  0.6981136500835419\n",
      "t_acc:  0.7607879924953096 , v_acc:  0.6818181818181818\n",
      "t_recall:  0.6235267656320288 , v_recall:  0.5361251725724805\n",
      "t_prec:  0.7907129517025713 , v_prec:  0.5723502304147465\n",
      "t_f:  0.6296479076326165 , v_f:  0.52090219716119\n",
      "////////\n"
     ]
    },
    {
     "name": "stderr",
     "output_type": "stream",
     "text": [
      "\r",
      "Iterations:  97%|███████████████████████████████▉ | 290/300 [06:07<00:12,  1.23s/it]"
     ]
    },
    {
     "name": "stdout",
     "output_type": "stream",
     "text": [
      "Epoch  289 , loss 0.3631786197423935\n",
      "Epoch  290 , loss 0.3732718563079834\n"
     ]
    },
    {
     "name": "stderr",
     "output_type": "stream",
     "text": [
      "\r",
      "Iterations:  97%|████████████████████████████████ | 291/300 [06:09<00:11,  1.30s/it]"
     ]
    },
    {
     "name": "stdout",
     "output_type": "stream",
     "text": [
      "Epoch:  290\n",
      "t_loss:  0.3732718563079834 , v_loss:  0.695476179321607\n",
      "t_acc:  0.7598499061913696 , v_acc:  0.6818181818181818\n",
      "t_recall:  0.6228520017993702 , v_recall:  0.5361251725724805\n",
      "t_prec:  0.7867384573966887 , v_prec:  0.5723502304147465\n",
      "t_f:  0.6288365901973099 , v_f:  0.52090219716119\n",
      "////////\n"
     ]
    },
    {
     "name": "stderr",
     "output_type": "stream",
     "text": [
      "\r",
      "Iterations:  97%|████████████████████████████████ | 292/300 [06:10<00:09,  1.19s/it]"
     ]
    },
    {
     "name": "stdout",
     "output_type": "stream",
     "text": [
      "Epoch  291 , loss 0.37571783512830736\n",
      "Epoch  292 , loss 0.370794375538826\n"
     ]
    },
    {
     "name": "stderr",
     "output_type": "stream",
     "text": [
      "\r",
      "Iterations:  98%|████████████████████████████████▏| 293/300 [06:11<00:08,  1.27s/it]"
     ]
    },
    {
     "name": "stdout",
     "output_type": "stream",
     "text": [
      "Epoch:  292\n",
      "t_loss:  0.370794375538826 , v_loss:  0.6924494902292887\n",
      "t_acc:  0.7573483427141964 , v_acc:  0.6761363636363636\n",
      "t_recall:  0.6190373369320737 , v_recall:  0.5320601319220739\n",
      "t_prec:  0.78250410335528 , v_prec:  0.5616883116883117\n",
      "t_f:  0.6236715936993507 , v_f:  0.5171119133574007\n",
      "////////\n"
     ]
    },
    {
     "name": "stderr",
     "output_type": "stream",
     "text": [
      "\r",
      "Iterations:  98%|████████████████████████████████▎| 294/300 [06:12<00:06,  1.16s/it]"
     ]
    },
    {
     "name": "stdout",
     "output_type": "stream",
     "text": [
      "Epoch  293 , loss 0.3681418937444687\n",
      "Epoch  294 , loss 0.37069138526916506\n"
     ]
    },
    {
     "name": "stderr",
     "output_type": "stream",
     "text": [
      "\r",
      "Iterations:  98%|████████████████████████████████▍| 295/300 [06:14<00:06,  1.25s/it]"
     ]
    },
    {
     "name": "stdout",
     "output_type": "stream",
     "text": [
      "Epoch:  294\n",
      "t_loss:  0.37069138526916506 , v_loss:  0.690750390291214\n",
      "t_acc:  0.7614133833646028 , v_acc:  0.6818181818181818\n",
      "t_recall:  0.6231129104813316 , v_recall:  0.5361251725724805\n",
      "t_prec:  0.7963444213444213 , v_prec:  0.5723502304147465\n",
      "t_f:  0.6289020563829725 , v_f:  0.52090219716119\n",
      "////////\n"
     ]
    },
    {
     "name": "stderr",
     "output_type": "stream",
     "text": [
      "\r",
      "Iterations:  99%|████████████████████████████████▌| 296/300 [06:14<00:04,  1.14s/it]"
     ]
    },
    {
     "name": "stdout",
     "output_type": "stream",
     "text": [
      "Epoch  295 , loss 0.3647182661294937\n",
      "Epoch  296 , loss 0.3623829638957977\n"
     ]
    },
    {
     "name": "stderr",
     "output_type": "stream",
     "text": [
      "\r",
      "Iterations:  99%|████████████████████████████████▋| 297/300 [06:16<00:03,  1.25s/it]"
     ]
    },
    {
     "name": "stdout",
     "output_type": "stream",
     "text": [
      "Epoch:  296\n",
      "t_loss:  0.3623829638957977 , v_loss:  0.6990118523438772\n",
      "t_acc:  0.7614133833646028 , v_acc:  0.6818181818181818\n",
      "t_recall:  0.6257040035987405 , v_recall:  0.5361251725724805\n",
      "t_prec:  0.7878724483326993 , v_prec:  0.5723502304147465\n",
      "t_f:  0.6327266733947895 , v_f:  0.52090219716119\n",
      "////////\n"
     ]
    },
    {
     "name": "stderr",
     "output_type": "stream",
     "text": [
      "\r",
      "Iterations:  99%|████████████████████████████████▊| 298/300 [06:17<00:02,  1.21s/it]"
     ]
    },
    {
     "name": "stdout",
     "output_type": "stream",
     "text": [
      "Epoch  297 , loss 0.3694834819436073\n",
      "Epoch  298 , loss 0.3630329367518425\n"
     ]
    },
    {
     "name": "stderr",
     "output_type": "stream",
     "text": [
      "\r",
      "Iterations: 100%|████████████████████████████████▉| 299/300 [06:19<00:01,  1.32s/it]"
     ]
    },
    {
     "name": "stdout",
     "output_type": "stream",
     "text": [
      "Epoch:  298\n",
      "t_loss:  0.3630329367518425 , v_loss:  0.7004141906897227\n",
      "t_acc:  0.759537210756723 , v_acc:  0.6818181818181818\n",
      "t_recall:  0.6203238866396761 , v_recall:  0.5361251725724805\n",
      "t_prec:  0.7929863389205949 , v_prec:  0.5723502304147465\n",
      "t_f:  0.6251112998989784 , v_f:  0.52090219716119\n",
      "////////\n"
     ]
    },
    {
     "name": "stderr",
     "output_type": "stream",
     "text": [
      "Iterations: 100%|█████████████████████████████████| 300/300 [06:20<00:00,  1.27s/it]"
     ]
    },
    {
     "name": "stdout",
     "output_type": "stream",
     "text": [
      "Epoch  299 , loss 0.36450284987688064\n"
     ]
    },
    {
     "name": "stderr",
     "output_type": "stream",
     "text": [
      "\n"
     ]
    },
    {
     "name": "stdout",
     "output_type": "stream",
     "text": [
      "111 9\n",
      "\n",
      "c0_acc 0.9024390243902439 , c1_acc 0.16981132075471697 , b_acc 0.5361251725724805\n"
     ]
    },
    {
     "name": "stderr",
     "output_type": "stream",
     "text": [
      "\r",
      "Iterations:   0%|                                           | 0/300 [00:00<?, ?it/s]"
     ]
    },
    {
     "name": "stdout",
     "output_type": "stream",
     "text": [
      "Epoch  0 , loss 0.7286534237861634\n"
     ]
    },
    {
     "name": "stderr",
     "output_type": "stream",
     "text": [
      "\r",
      "Iterations:   0%|                                   | 1/300 [00:01<07:44,  1.55s/it]"
     ]
    },
    {
     "name": "stdout",
     "output_type": "stream",
     "text": [
      "Epoch:  0\n",
      "t_loss:  0.7286534237861634 , v_loss:  0.6961955825487772\n",
      "t_acc:  0.4628176968936304 , v_acc:  0.2994652406417112\n",
      "t_recall:  0.5078909232784327 , v_recall:  0.5\n",
      "t_prec:  0.5070472721842437 , v_prec:  0.1497326203208556\n",
      "t_f:  0.45913439996827854 , v_f:  0.23045267489711935\n",
      "////////\n"
     ]
    },
    {
     "name": "stderr",
     "output_type": "stream",
     "text": [
      "\r",
      "Iterations:   1%|▏                                  | 2/300 [00:02<06:16,  1.26s/it]"
     ]
    },
    {
     "name": "stdout",
     "output_type": "stream",
     "text": [
      "Epoch  1 , loss 0.6868488776683808\n",
      "Epoch  2 , loss 0.6463304722309112\n"
     ]
    },
    {
     "name": "stderr",
     "output_type": "stream",
     "text": [
      "\r",
      "Iterations:   1%|▎                                  | 3/300 [00:04<07:09,  1.45s/it]"
     ]
    },
    {
     "name": "stdout",
     "output_type": "stream",
     "text": [
      "Epoch:  2\n",
      "t_loss:  0.6463304722309112 , v_loss:  0.6854941447575887\n",
      "t_acc:  0.5836209601506118 , v_acc:  0.7005347593582888\n",
      "t_recall:  0.49722802812845457 , v_recall:  0.5\n",
      "t_prec:  0.497082712529867 , v_prec:  0.3502673796791444\n",
      "t_f:  0.4967690953574093 , v_f:  0.41194968553459116\n",
      "////////\n"
     ]
    },
    {
     "name": "stderr",
     "output_type": "stream",
     "text": [
      "\r",
      "Iterations:   1%|▍                                  | 4/300 [00:05<06:06,  1.24s/it]"
     ]
    },
    {
     "name": "stdout",
     "output_type": "stream",
     "text": [
      "Epoch  3 , loss 0.6042979168891907\n",
      "Epoch  4 , loss 0.5656684279441834\n"
     ]
    },
    {
     "name": "stderr",
     "output_type": "stream",
     "text": [
      "\r",
      "Iterations:   2%|▌                                  | 5/300 [00:06<06:31,  1.33s/it]"
     ]
    },
    {
     "name": "stdout",
     "output_type": "stream",
     "text": [
      "Epoch:  4\n",
      "t_loss:  0.5656684279441834 , v_loss:  0.660359263420105\n",
      "t_acc:  0.6749294006903044 , v_acc:  0.7005347593582888\n",
      "t_recall:  0.5031618965341061 , v_recall:  0.5\n",
      "t_prec:  0.512195755536685 , v_prec:  0.3502673796791444\n",
      "t_f:  0.45336721341004693 , v_f:  0.41194968553459116\n",
      "////////\n"
     ]
    },
    {
     "name": "stderr",
     "output_type": "stream",
     "text": [
      "\r",
      "Iterations:   2%|▋                                  | 6/300 [00:07<05:48,  1.19s/it]"
     ]
    },
    {
     "name": "stdout",
     "output_type": "stream",
     "text": [
      "Epoch  5 , loss 0.538919837474823\n",
      "Epoch  6 , loss 0.5149743276834488\n"
     ]
    },
    {
     "name": "stderr",
     "output_type": "stream",
     "text": [
      "\r",
      "Iterations:   2%|▊                                  | 7/300 [00:09<06:30,  1.33s/it]"
     ]
    },
    {
     "name": "stdout",
     "output_type": "stream",
     "text": [
      "Epoch:  6\n",
      "t_loss:  0.5149743276834488 , v_loss:  0.6253240207831064\n",
      "t_acc:  0.6874803890806401 , v_acc:  0.7005347593582888\n",
      "t_recall:  0.4971804196973497 , v_recall:  0.5\n",
      "t_prec:  0.4540426981603452 , v_prec:  0.3502673796791444\n",
      "t_f:  0.41596529188377634 , v_f:  0.41194968553459116\n",
      "////////\n"
     ]
    },
    {
     "name": "stderr",
     "output_type": "stream",
     "text": [
      "\r",
      "Iterations:   3%|▉                                  | 8/300 [00:10<05:48,  1.19s/it]"
     ]
    },
    {
     "name": "stdout",
     "output_type": "stream",
     "text": [
      "Epoch  7 , loss 0.49459634244441986\n",
      "Epoch  8 , loss 0.4794463807344437\n"
     ]
    },
    {
     "name": "stderr",
     "output_type": "stream",
     "text": [
      "\r",
      "Iterations:   3%|█                                  | 9/300 [00:11<06:20,  1.31s/it]"
     ]
    },
    {
     "name": "stdout",
     "output_type": "stream",
     "text": [
      "Epoch:  8\n",
      "t_loss:  0.4794463807344437 , v_loss:  0.6054568787415823\n",
      "t_acc:  0.6946972074050831 , v_acc:  0.7005347593582888\n",
      "t_recall:  0.5006402753392971 , v_recall:  0.5\n",
      "t_prec:  0.5619272237196765 , v_prec:  0.3502673796791444\n",
      "t_f:  0.4128882624076884 , v_f:  0.41194968553459116\n",
      "////////\n"
     ]
    },
    {
     "name": "stderr",
     "output_type": "stream",
     "text": [
      "\r",
      "Iterations:   3%|█▏                                | 10/300 [00:12<05:39,  1.17s/it]"
     ]
    },
    {
     "name": "stdout",
     "output_type": "stream",
     "text": [
      "Epoch  9 , loss 0.47155958771705625\n",
      "Epoch  10 , loss 0.47054719865322114\n"
     ]
    },
    {
     "name": "stderr",
     "output_type": "stream",
     "text": [
      "\r",
      "Iterations:   4%|█▏                                | 11/300 [00:13<06:02,  1.25s/it]"
     ]
    },
    {
     "name": "stdout",
     "output_type": "stream",
     "text": [
      "Epoch:  10\n",
      "t_loss:  0.47054719865322114 , v_loss:  0.6124457518259684\n",
      "t_acc:  0.6946972074050831 , v_acc:  0.7005347593582888\n",
      "t_recall:  0.4997742663656885 , v_recall:  0.5\n",
      "t_prec:  0.3474576271186441 , v_prec:  0.3502673796791444\n",
      "t_f:  0.40992408813182746 , v_f:  0.41194968553459116\n",
      "////////\n"
     ]
    },
    {
     "name": "stderr",
     "output_type": "stream",
     "text": [
      "\r",
      "Iterations:   4%|█▎                                | 12/300 [00:15<05:45,  1.20s/it]"
     ]
    },
    {
     "name": "stdout",
     "output_type": "stream",
     "text": [
      "Epoch  11 , loss 0.46599219501018524\n",
      "Epoch  12 , loss 0.45604235768318174\n"
     ]
    },
    {
     "name": "stderr",
     "output_type": "stream",
     "text": [
      "\r",
      "Iterations:   4%|█▍                                | 13/300 [00:16<06:08,  1.28s/it]"
     ]
    },
    {
     "name": "stdout",
     "output_type": "stream",
     "text": [
      "Epoch:  12\n",
      "t_loss:  0.45604235768318174 , v_loss:  0.6243634124596914\n",
      "t_acc:  0.6946972074050831 , v_acc:  0.7005347593582888\n",
      "t_recall:  0.4997742663656885 , v_recall:  0.5\n",
      "t_prec:  0.3474576271186441 , v_prec:  0.3502673796791444\n",
      "t_f:  0.40992408813182746 , v_f:  0.41194968553459116\n",
      "////////\n"
     ]
    },
    {
     "name": "stderr",
     "output_type": "stream",
     "text": [
      "\r",
      "Iterations:   5%|█▌                                | 14/300 [00:17<05:47,  1.22s/it]"
     ]
    },
    {
     "name": "stdout",
     "output_type": "stream",
     "text": [
      "Epoch  13 , loss 0.4611519861221314\n",
      "Epoch  14 , loss 0.4610917794704437\n"
     ]
    },
    {
     "name": "stderr",
     "output_type": "stream",
     "text": [
      "\r",
      "Iterations:   5%|█▋                                | 15/300 [00:19<06:06,  1.29s/it]"
     ]
    },
    {
     "name": "stdout",
     "output_type": "stream",
     "text": [
      "Epoch:  14\n",
      "t_loss:  0.4610917794704437 , v_loss:  0.6285587648550669\n",
      "t_acc:  0.6950109821148416 , v_acc:  0.7005347593582888\n",
      "t_recall:  0.5 , v_recall:  0.5\n",
      "t_prec:  0.3475054910574208 , v_prec:  0.3502673796791444\n",
      "t_f:  0.4100333209922251 , v_f:  0.41194968553459116\n",
      "////////\n"
     ]
    },
    {
     "name": "stderr",
     "output_type": "stream",
     "text": [
      "\r",
      "Iterations:   5%|█▊                                | 16/300 [00:19<05:36,  1.18s/it]"
     ]
    },
    {
     "name": "stdout",
     "output_type": "stream",
     "text": [
      "Epoch  15 , loss 0.4543436700105667\n",
      "Epoch  16 , loss 0.45537908673286437\n"
     ]
    },
    {
     "name": "stderr",
     "output_type": "stream",
     "text": [
      "\r",
      "Iterations:   6%|█▉                                | 17/300 [00:21<06:01,  1.28s/it]"
     ]
    },
    {
     "name": "stdout",
     "output_type": "stream",
     "text": [
      "Epoch:  16\n",
      "t_loss:  0.45537908673286437 , v_loss:  0.6323996235926946\n",
      "t_acc:  0.6950109821148416 , v_acc:  0.7005347593582888\n",
      "t_recall:  0.5 , v_recall:  0.5\n",
      "t_prec:  0.3475054910574208 , v_prec:  0.3502673796791444\n",
      "t_f:  0.4100333209922251 , v_f:  0.41194968553459116\n",
      "////////\n"
     ]
    },
    {
     "name": "stderr",
     "output_type": "stream",
     "text": [
      "\r",
      "Iterations:   6%|██                                | 18/300 [00:22<05:48,  1.24s/it]"
     ]
    },
    {
     "name": "stdout",
     "output_type": "stream",
     "text": [
      "Epoch  17 , loss 0.4593505531549454\n",
      "Epoch  18 , loss 0.4585011279582977\n"
     ]
    },
    {
     "name": "stderr",
     "output_type": "stream",
     "text": [
      "\r",
      "Iterations:   6%|██▏                               | 19/300 [00:24<06:10,  1.32s/it]"
     ]
    },
    {
     "name": "stdout",
     "output_type": "stream",
     "text": [
      "Epoch:  18\n",
      "t_loss:  0.4585011279582977 , v_loss:  0.636546274026235\n",
      "t_acc:  0.6950109821148416 , v_acc:  0.7005347593582888\n",
      "t_recall:  0.5 , v_recall:  0.5\n",
      "t_prec:  0.3475054910574208 , v_prec:  0.3502673796791444\n",
      "t_f:  0.4100333209922251 , v_f:  0.41194968553459116\n",
      "////////\n"
     ]
    },
    {
     "name": "stderr",
     "output_type": "stream",
     "text": [
      "\r",
      "Iterations:   7%|██▎                               | 20/300 [00:25<05:52,  1.26s/it]"
     ]
    },
    {
     "name": "stdout",
     "output_type": "stream",
     "text": [
      "Epoch  19 , loss 0.4536382102966309\n",
      "Epoch  20 , loss 0.45636234045028684\n"
     ]
    },
    {
     "name": "stderr",
     "output_type": "stream",
     "text": [
      "\r",
      "Iterations:   7%|██▍                               | 21/300 [00:26<06:22,  1.37s/it]"
     ]
    },
    {
     "name": "stdout",
     "output_type": "stream",
     "text": [
      "Epoch:  20\n",
      "t_loss:  0.45636234045028684 , v_loss:  0.6401120076576868\n",
      "t_acc:  0.6950109821148416 , v_acc:  0.7005347593582888\n",
      "t_recall:  0.5 , v_recall:  0.5\n",
      "t_prec:  0.3475054910574208 , v_prec:  0.3502673796791444\n",
      "t_f:  0.4100333209922251 , v_f:  0.41194968553459116\n",
      "////////\n"
     ]
    },
    {
     "name": "stderr",
     "output_type": "stream",
     "text": [
      "\r",
      "Iterations:   7%|██▍                               | 22/300 [00:27<05:45,  1.24s/it]"
     ]
    },
    {
     "name": "stdout",
     "output_type": "stream",
     "text": [
      "Epoch  21 , loss 0.4540814107656479\n",
      "Epoch  22 , loss 0.45819340109825135\n"
     ]
    },
    {
     "name": "stderr",
     "output_type": "stream",
     "text": [
      "\r",
      "Iterations:   8%|██▌                               | 23/300 [00:29<06:10,  1.34s/it]"
     ]
    },
    {
     "name": "stdout",
     "output_type": "stream",
     "text": [
      "Epoch:  22\n",
      "t_loss:  0.45819340109825135 , v_loss:  0.6344365179538727\n",
      "t_acc:  0.6950109821148416 , v_acc:  0.7005347593582888\n",
      "t_recall:  0.5 , v_recall:  0.5\n",
      "t_prec:  0.3475054910574208 , v_prec:  0.3502673796791444\n",
      "t_f:  0.4100333209922251 , v_f:  0.41194968553459116\n",
      "////////\n"
     ]
    },
    {
     "name": "stderr",
     "output_type": "stream",
     "text": [
      "\r",
      "Iterations:   8%|██▋                               | 24/300 [00:30<05:36,  1.22s/it]"
     ]
    },
    {
     "name": "stdout",
     "output_type": "stream",
     "text": [
      "Epoch  23 , loss 0.4559478384256363\n",
      "Epoch  24 , loss 0.44913142144680024\n"
     ]
    },
    {
     "name": "stderr",
     "output_type": "stream",
     "text": [
      "\r",
      "Iterations:   8%|██▊                               | 25/300 [00:31<06:08,  1.34s/it]"
     ]
    },
    {
     "name": "stdout",
     "output_type": "stream",
     "text": [
      "Epoch:  24\n",
      "t_loss:  0.44913142144680024 , v_loss:  0.6349722643693289\n",
      "t_acc:  0.6950109821148416 , v_acc:  0.7005347593582888\n",
      "t_recall:  0.5 , v_recall:  0.5\n",
      "t_prec:  0.3475054910574208 , v_prec:  0.3502673796791444\n",
      "t_f:  0.4100333209922251 , v_f:  0.41194968553459116\n",
      "////////\n"
     ]
    },
    {
     "name": "stderr",
     "output_type": "stream",
     "text": [
      "\r",
      "Iterations:   9%|██▉                               | 26/300 [00:32<05:29,  1.20s/it]"
     ]
    },
    {
     "name": "stdout",
     "output_type": "stream",
     "text": [
      "Epoch  25 , loss 0.45236699223518373\n",
      "Epoch  26 , loss 0.4531537741422653\n"
     ]
    },
    {
     "name": "stderr",
     "output_type": "stream",
     "text": [
      "\r",
      "Iterations:   9%|███                               | 27/300 [00:34<05:55,  1.30s/it]"
     ]
    },
    {
     "name": "stdout",
     "output_type": "stream",
     "text": [
      "Epoch:  26\n",
      "t_loss:  0.4531537741422653 , v_loss:  0.6340452829996744\n",
      "t_acc:  0.6950109821148416 , v_acc:  0.7005347593582888\n",
      "t_recall:  0.5 , v_recall:  0.5\n",
      "t_prec:  0.3475054910574208 , v_prec:  0.3502673796791444\n",
      "t_f:  0.4100333209922251 , v_f:  0.41194968553459116\n",
      "////////\n"
     ]
    },
    {
     "name": "stderr",
     "output_type": "stream",
     "text": [
      "\r",
      "Iterations:   9%|███▏                              | 28/300 [00:35<05:20,  1.18s/it]"
     ]
    },
    {
     "name": "stdout",
     "output_type": "stream",
     "text": [
      "Epoch  27 , loss 0.4545841908454895\n",
      "Epoch  28 , loss 0.45011471688747406\n"
     ]
    },
    {
     "name": "stderr",
     "output_type": "stream",
     "text": [
      "\r",
      "Iterations:  10%|███▎                              | 29/300 [00:36<06:01,  1.33s/it]"
     ]
    },
    {
     "name": "stdout",
     "output_type": "stream",
     "text": [
      "Epoch:  28\n",
      "t_loss:  0.45011471688747406 , v_loss:  0.6331594437360764\n",
      "t_acc:  0.6953247568245999 , v_acc:  0.7005347593582888\n",
      "t_recall:  0.5005144032921811 , v_recall:  0.5\n",
      "t_prec:  0.8476145637162587 , v_prec:  0.3502673796791444\n",
      "t_f:  0.41113698825899736 , v_f:  0.41194968553459116\n",
      "////////\n"
     ]
    },
    {
     "name": "stderr",
     "output_type": "stream",
     "text": [
      "\r",
      "Iterations:  10%|███▍                              | 30/300 [00:37<05:26,  1.21s/it]"
     ]
    },
    {
     "name": "stdout",
     "output_type": "stream",
     "text": [
      "Epoch  29 , loss 0.44497693359851836\n",
      "Epoch  30 , loss 0.4478670734167099\n"
     ]
    },
    {
     "name": "stderr",
     "output_type": "stream",
     "text": [
      "\r",
      "Iterations:  10%|███▌                              | 31/300 [00:39<05:48,  1.29s/it]"
     ]
    },
    {
     "name": "stdout",
     "output_type": "stream",
     "text": [
      "Epoch:  30\n",
      "t_loss:  0.4478670734167099 , v_loss:  0.635543962319692\n",
      "t_acc:  0.6950109821148416 , v_acc:  0.7005347593582888\n",
      "t_recall:  0.5 , v_recall:  0.5\n",
      "t_prec:  0.3475054910574208 , v_prec:  0.3502673796791444\n",
      "t_f:  0.4100333209922251 , v_f:  0.41194968553459116\n",
      "////////\n"
     ]
    },
    {
     "name": "stderr",
     "output_type": "stream",
     "text": [
      "\r",
      "Iterations:  11%|███▋                              | 32/300 [00:40<05:18,  1.19s/it]"
     ]
    },
    {
     "name": "stdout",
     "output_type": "stream",
     "text": [
      "Epoch  31 , loss 0.4459580546617508\n",
      "Epoch  32 , loss 0.44745191037654874\n"
     ]
    },
    {
     "name": "stderr",
     "output_type": "stream",
     "text": [
      "\r",
      "Iterations:  11%|███▋                              | 33/300 [00:41<05:36,  1.26s/it]"
     ]
    },
    {
     "name": "stdout",
     "output_type": "stream",
     "text": [
      "Epoch:  32\n",
      "t_loss:  0.44745191037654874 , v_loss:  0.630132203300794\n",
      "t_acc:  0.6953247568245999 , v_acc:  0.7005347593582888\n",
      "t_recall:  0.5005144032921811 , v_recall:  0.5\n",
      "t_prec:  0.8476145637162587 , v_prec:  0.3502673796791444\n",
      "t_f:  0.41113698825899736 , v_f:  0.41194968553459116\n",
      "////////\n"
     ]
    },
    {
     "name": "stderr",
     "output_type": "stream",
     "text": [
      "\r",
      "Iterations:  11%|███▊                              | 34/300 [00:42<05:13,  1.18s/it]"
     ]
    },
    {
     "name": "stdout",
     "output_type": "stream",
     "text": [
      "Epoch  33 , loss 0.4493151384592056\n",
      "Epoch  34 , loss 0.44685120522975924\n"
     ]
    },
    {
     "name": "stderr",
     "output_type": "stream",
     "text": [
      "\r",
      "Iterations:  12%|███▉                              | 35/300 [00:44<05:37,  1.27s/it]"
     ]
    },
    {
     "name": "stdout",
     "output_type": "stream",
     "text": [
      "Epoch:  34\n",
      "t_loss:  0.44685120522975924 , v_loss:  0.624138151605924\n",
      "t_acc:  0.6950109821148416 , v_acc:  0.7005347593582888\n",
      "t_recall:  0.5002886696578696 , v_recall:  0.5\n",
      "t_prec:  0.5975667189952905 , v_prec:  0.3502673796791444\n",
      "t_f:  0.41102669404517456 , v_f:  0.41194968553459116\n",
      "////////\n"
     ]
    },
    {
     "name": "stderr",
     "output_type": "stream",
     "text": [
      "\r",
      "Iterations:  12%|████                              | 36/300 [00:45<05:07,  1.16s/it]"
     ]
    },
    {
     "name": "stdout",
     "output_type": "stream",
     "text": [
      "Epoch  35 , loss 0.4431970876455307\n",
      "Epoch  36 , loss 0.44497608006000516\n"
     ]
    },
    {
     "name": "stderr",
     "output_type": "stream",
     "text": [
      "\r",
      "Iterations:  12%|████▏                             | 37/300 [00:46<05:35,  1.28s/it]"
     ]
    },
    {
     "name": "stdout",
     "output_type": "stream",
     "text": [
      "Epoch:  36\n",
      "t_loss:  0.44497608006000516 , v_loss:  0.622043619553248\n",
      "t_acc:  0.6950109821148416 , v_acc:  0.7005347593582888\n",
      "t_recall:  0.5002886696578696 , v_recall:  0.5\n",
      "t_prec:  0.5975667189952905 , v_prec:  0.3502673796791444\n",
      "t_f:  0.41102669404517456 , v_f:  0.41194968553459116\n",
      "////////\n"
     ]
    },
    {
     "name": "stderr",
     "output_type": "stream",
     "text": [
      "\r",
      "Iterations:  13%|████▎                             | 38/300 [00:47<05:07,  1.17s/it]"
     ]
    },
    {
     "name": "stdout",
     "output_type": "stream",
     "text": [
      "Epoch  37 , loss 0.4437436246871948\n",
      "Epoch  38 , loss 0.4421934163570404\n"
     ]
    },
    {
     "name": "stderr",
     "output_type": "stream",
     "text": [
      "\r",
      "Iterations:  13%|████▍                             | 39/300 [00:49<05:37,  1.29s/it]"
     ]
    },
    {
     "name": "stdout",
     "output_type": "stream",
     "text": [
      "Epoch:  38\n",
      "t_loss:  0.4421934163570404 , v_loss:  0.6213539987802505\n",
      "t_acc:  0.6956385315343583 , v_acc:  0.7005347593582888\n",
      "t_recall:  0.5010288065843621 , v_recall:  0.5\n",
      "t_prec:  0.847723704866562 , v_prec:  0.3502673796791444\n",
      "t_f:  0.41223857327553426 , v_f:  0.41194968553459116\n",
      "////////\n"
     ]
    },
    {
     "name": "stderr",
     "output_type": "stream",
     "text": [
      "\r",
      "Iterations:  13%|████▌                             | 40/300 [00:50<05:31,  1.27s/it]"
     ]
    },
    {
     "name": "stdout",
     "output_type": "stream",
     "text": [
      "Epoch  39 , loss 0.43885125875473024\n",
      "Epoch  40 , loss 0.4407548177242279\n"
     ]
    },
    {
     "name": "stderr",
     "output_type": "stream",
     "text": [
      "\r",
      "Iterations:  14%|████▋                             | 41/300 [00:52<06:05,  1.41s/it]"
     ]
    },
    {
     "name": "stdout",
     "output_type": "stream",
     "text": [
      "Epoch:  40\n",
      "t_loss:  0.4407548177242279 , v_loss:  0.6187966714302698\n",
      "t_acc:  0.6950109821148416 , v_acc:  0.7005347593582888\n",
      "t_recall:  0.5005773393157391 , v_recall:  0.5\n",
      "t_prec:  0.5976280238768457 , v_prec:  0.3502673796791444\n",
      "t_f:  0.4120158346442823 , v_f:  0.41194968553459116\n",
      "////////\n"
     ]
    },
    {
     "name": "stderr",
     "output_type": "stream",
     "text": [
      "\r",
      "Iterations:  14%|████▊                             | 42/300 [00:53<05:43,  1.33s/it]"
     ]
    },
    {
     "name": "stdout",
     "output_type": "stream",
     "text": [
      "Epoch  41 , loss 0.4359355241060257\n",
      "Epoch  42 , loss 0.43422524750232694\n"
     ]
    },
    {
     "name": "stderr",
     "output_type": "stream",
     "text": [
      "\r",
      "Iterations:  14%|████▊                             | 43/300 [00:54<05:58,  1.40s/it]"
     ]
    },
    {
     "name": "stdout",
     "output_type": "stream",
     "text": [
      "Epoch:  42\n",
      "t_loss:  0.43422524750232694 , v_loss:  0.6164493709802628\n",
      "t_acc:  0.6953247568245999 , v_acc:  0.7005347593582888\n",
      "t_recall:  0.5019577515815289 , v_recall:  0.5\n",
      "t_prec:  0.6206491870849553 , v_prec:  0.3502673796791444\n",
      "t_f:  0.4160462607416415 , v_f:  0.41194968553459116\n",
      "////////\n"
     ]
    },
    {
     "name": "stderr",
     "output_type": "stream",
     "text": [
      "\r",
      "Iterations:  15%|████▉                             | 44/300 [00:55<05:21,  1.25s/it]"
     ]
    },
    {
     "name": "stdout",
     "output_type": "stream",
     "text": [
      "Epoch  43 , loss 0.4318997323513031\n",
      "Epoch  44 , loss 0.43575625121593475\n"
     ]
    },
    {
     "name": "stderr",
     "output_type": "stream",
     "text": [
      "\r",
      "Iterations:  15%|█████                             | 45/300 [00:57<05:38,  1.33s/it]"
     ]
    },
    {
     "name": "stdout",
     "output_type": "stream",
     "text": [
      "Epoch:  44\n",
      "t_loss:  0.43575625121593475 , v_loss:  0.6190029333035151\n",
      "t_acc:  0.6959523062441167 , v_acc:  0.7005347593582888\n",
      "t_recall:  0.5026978885080214 , v_recall:  0.5\n",
      "t_prec:  0.6662611632699793 , v_prec:  0.3502673796791444\n",
      "t_f:  0.4172490490820295 , v_f:  0.41194968553459116\n",
      "////////\n"
     ]
    },
    {
     "name": "stderr",
     "output_type": "stream",
     "text": [
      "\r",
      "Iterations:  15%|█████▏                            | 46/300 [00:58<05:11,  1.23s/it]"
     ]
    },
    {
     "name": "stdout",
     "output_type": "stream",
     "text": [
      "Epoch  45 , loss 0.4280188888311386\n",
      "Epoch  46 , loss 0.4291332620382309\n"
     ]
    },
    {
     "name": "stderr",
     "output_type": "stream",
     "text": [
      "\r",
      "Iterations:  16%|█████▎                            | 47/300 [00:59<05:27,  1.29s/it]"
     ]
    },
    {
     "name": "stdout",
     "output_type": "stream",
     "text": [
      "Epoch:  46\n",
      "t_loss:  0.4291332620382309 , v_loss:  0.6138005057970682\n",
      "t_acc:  0.6978349545026671 , v_acc:  0.7005347593582888\n",
      "t_recall:  0.5060729779189774 , v_recall:  0.5\n",
      "t_prec:  0.717221557682084 , v_prec:  0.3502673796791444\n",
      "t_f:  0.4246788812483445 , v_f:  0.41194968553459116\n",
      "////////\n"
     ]
    },
    {
     "name": "stderr",
     "output_type": "stream",
     "text": [
      "\r",
      "Iterations:  16%|█████▍                            | 48/300 [01:00<04:55,  1.17s/it]"
     ]
    },
    {
     "name": "stdout",
     "output_type": "stream",
     "text": [
      "Epoch  47 , loss 0.43195551037788393\n",
      "Epoch  48 , loss 0.4283298969268799\n"
     ]
    },
    {
     "name": "stderr",
     "output_type": "stream",
     "text": [
      "\r",
      "Iterations:  16%|█████▌                            | 49/300 [01:02<05:27,  1.30s/it]"
     ]
    },
    {
     "name": "stdout",
     "output_type": "stream",
     "text": [
      "Epoch:  48\n",
      "t_loss:  0.4283298969268799 , v_loss:  0.6122716764609019\n",
      "t_acc:  0.6990900533417007 , v_acc:  0.7005347593582888\n",
      "t_recall:  0.5087079304034408 , v_recall:  0.5\n",
      "t_prec:  0.7197374589779653 , v_prec:  0.3502673796791444\n",
      "t_f:  0.4308107176944386 , v_f:  0.41194968553459116\n",
      "////////\n"
     ]
    },
    {
     "name": "stderr",
     "output_type": "stream",
     "text": [
      "\r",
      "Iterations:  17%|█████▋                            | 50/300 [01:03<05:05,  1.22s/it]"
     ]
    },
    {
     "name": "stdout",
     "output_type": "stream",
     "text": [
      "Epoch  49 , loss 0.4315664637088776\n",
      "Epoch  50 , loss 0.42961323738098145\n"
     ]
    },
    {
     "name": "stderr",
     "output_type": "stream",
     "text": [
      "\r",
      "Iterations:  17%|█████▊                            | 51/300 [01:04<05:29,  1.32s/it]"
     ]
    },
    {
     "name": "stdout",
     "output_type": "stream",
     "text": [
      "Epoch:  50\n",
      "t_loss:  0.42961323738098145 , v_loss:  0.6079563647508621\n",
      "t_acc:  0.6959523062441167 , v_acc:  0.6951871657754011\n",
      "t_recall:  0.5050072457709779 , v_recall:  0.4961832061068702\n",
      "t_prec:  0.6263537271448665 , v_prec:  0.34946236559139787\n",
      "t_f:  0.4248754801312941 , v_f:  0.4100946372239748\n",
      "////////\n"
     ]
    },
    {
     "name": "stderr",
     "output_type": "stream",
     "text": [
      "\r",
      "Iterations:  17%|█████▉                            | 52/300 [01:05<05:08,  1.24s/it]"
     ]
    },
    {
     "name": "stdout",
     "output_type": "stream",
     "text": [
      "Epoch  51 , loss 0.4267482304573059\n",
      "Epoch  52 , loss 0.4290295523405075\n"
     ]
    },
    {
     "name": "stderr",
     "output_type": "stream",
     "text": [
      "\r",
      "Iterations:  18%|██████                            | 53/300 [01:07<05:24,  1.31s/it]"
     ]
    },
    {
     "name": "stdout",
     "output_type": "stream",
     "text": [
      "Epoch:  52\n",
      "t_loss:  0.4290295523405075 , v_loss:  0.6099358449379603\n",
      "t_acc:  0.6984625039221839 , v_acc:  0.6951871657754011\n",
      "t_recall:  0.5088338024505569 , v_recall:  0.4961832061068702\n",
      "t_prec:  0.6827309236947792 , v_prec:  0.34946236559139787\n",
      "t_f:  0.4323952967514819 , v_f:  0.4100946372239748\n",
      "////////\n"
     ]
    },
    {
     "name": "stderr",
     "output_type": "stream",
     "text": [
      "\r",
      "Iterations:  18%|██████                            | 54/300 [01:08<05:09,  1.26s/it]"
     ]
    },
    {
     "name": "stdout",
     "output_type": "stream",
     "text": [
      "Epoch  53 , loss 0.42501929342746736\n",
      "Epoch  54 , loss 0.43154810070991517\n"
     ]
    },
    {
     "name": "stderr",
     "output_type": "stream",
     "text": [
      "\r",
      "Iterations:  18%|██████▏                           | 55/300 [01:09<05:22,  1.32s/it]"
     ]
    },
    {
     "name": "stdout",
     "output_type": "stream",
     "text": [
      "Epoch:  54\n",
      "t_loss:  0.43154810070991517 , v_loss:  0.6112521986166636\n",
      "t_acc:  0.6994038280514591 , v_acc:  0.6951871657754011\n",
      "t_recall:  0.5118203606164479 , v_recall:  0.4961832061068702\n",
      "t_prec:  0.6761347120136207 , v_prec:  0.34946236559139787\n",
      "t_f:  0.4400371358856491 , v_f:  0.4100946372239748\n",
      "////////\n"
     ]
    },
    {
     "name": "stderr",
     "output_type": "stream",
     "text": [
      "\r",
      "Iterations:  19%|██████▎                           | 56/300 [01:10<05:03,  1.24s/it]"
     ]
    },
    {
     "name": "stdout",
     "output_type": "stream",
     "text": [
      "Epoch  55 , loss 0.4254183214902878\n",
      "Epoch  56 , loss 0.4236164367198944\n"
     ]
    },
    {
     "name": "stderr",
     "output_type": "stream",
     "text": [
      "\r",
      "Iterations:  19%|██████▍                           | 57/300 [01:12<05:28,  1.35s/it]"
     ]
    },
    {
     "name": "stdout",
     "output_type": "stream",
     "text": [
      "Epoch:  56\n",
      "t_loss:  0.4236164367198944 , v_loss:  0.6056420753399531\n",
      "t_acc:  0.7006589268904926 , v_acc:  0.6951871657754011\n",
      "t_recall:  0.5121459558379549 , v_recall:  0.4961832061068702\n",
      "t_prec:  0.7185321990272602 , v_prec:  0.34946236559139787\n",
      "t_f:  0.43879659778058344 , v_f:  0.4100946372239748\n",
      "////////\n"
     ]
    },
    {
     "name": "stderr",
     "output_type": "stream",
     "text": [
      "\r",
      "Iterations:  19%|██████▌                           | 58/300 [01:13<04:58,  1.23s/it]"
     ]
    },
    {
     "name": "stdout",
     "output_type": "stream",
     "text": [
      "Epoch  57 , loss 0.42847731173038484\n",
      "Epoch  58 , loss 0.42633011341094973\n"
     ]
    },
    {
     "name": "stderr",
     "output_type": "stream",
     "text": [
      "\r",
      "Iterations:  20%|██████▋                           | 59/300 [01:15<05:16,  1.31s/it]"
     ]
    },
    {
     "name": "stdout",
     "output_type": "stream",
     "text": [
      "Epoch:  58\n",
      "t_loss:  0.42633011341094973 , v_loss:  0.6107931037743887\n",
      "t_acc:  0.6997176027612174 , v_acc:  0.6951871657754011\n",
      "t_recall:  0.5120460942507594 , v_recall:  0.4961832061068702\n",
      "t_prec:  0.6834288139189475 , v_prec:  0.34946236559139787\n",
      "t_f:  0.4401761431435615 , v_f:  0.4100946372239748\n",
      "////////\n"
     ]
    },
    {
     "name": "stderr",
     "output_type": "stream",
     "text": [
      "\r",
      "Iterations:  20%|██████▊                           | 60/300 [01:15<04:45,  1.19s/it]"
     ]
    },
    {
     "name": "stdout",
     "output_type": "stream",
     "text": [
      "Epoch  59 , loss 0.4264325177669525\n",
      "Epoch  60 , loss 0.42373580634593966\n"
     ]
    },
    {
     "name": "stderr",
     "output_type": "stream",
     "text": [
      "\r",
      "Iterations:  20%|██████▉                           | 61/300 [01:17<05:11,  1.30s/it]"
     ]
    },
    {
     "name": "stdout",
     "output_type": "stream",
     "text": [
      "Epoch:  60\n",
      "t_loss:  0.42373580634593966 , v_loss:  0.6065583427747091\n",
      "t_acc:  0.6997176027612174 , v_acc:  0.6951871657754011\n",
      "t_recall:  0.5129121032243681 , v_recall:  0.4961832061068702\n",
      "t_prec:  0.6738164015606243 , v_prec:  0.34946236559139787\n",
      "t_f:  0.4428355266727353 , v_f:  0.4100946372239748\n",
      "////////\n"
     ]
    },
    {
     "name": "stderr",
     "output_type": "stream",
     "text": [
      "\r",
      "Iterations:  21%|███████                           | 62/300 [01:18<04:44,  1.19s/it]"
     ]
    },
    {
     "name": "stdout",
     "output_type": "stream",
     "text": [
      "Epoch  61 , loss 0.42611630499362946\n",
      "Epoch  62 , loss 0.42007887482643125\n"
     ]
    },
    {
     "name": "stderr",
     "output_type": "stream",
     "text": [
      "\r",
      "Iterations:  21%|███████▏                          | 63/300 [01:20<05:16,  1.33s/it]"
     ]
    },
    {
     "name": "stdout",
     "output_type": "stream",
     "text": [
      "Epoch:  62\n",
      "t_loss:  0.42007887482643125 , v_loss:  0.6045280396938324\n",
      "t_acc:  0.7019140257295262 , v_acc:  0.7005347593582888\n",
      "t_recall:  0.5159355869538965 , v_recall:  0.5051117775354417\n",
      "t_prec:  0.702793441382653 , v_prec:  0.6013513513513513\n",
      "t_f:  0.4482187872240228 , v_f:  0.428633784373636\n",
      "////////\n"
     ]
    },
    {
     "name": "stderr",
     "output_type": "stream",
     "text": [
      "\r",
      "Iterations:  21%|███████▎                          | 64/300 [01:21<04:54,  1.25s/it]"
     ]
    },
    {
     "name": "stdout",
     "output_type": "stream",
     "text": [
      "Epoch  63 , loss 0.42620679140090945\n",
      "Epoch  64 , loss 0.41606514394283295\n"
     ]
    },
    {
     "name": "stderr",
     "output_type": "stream",
     "text": [
      "\r",
      "Iterations:  22%|███████▎                          | 65/300 [01:22<05:20,  1.36s/it]"
     ]
    },
    {
     "name": "stdout",
     "output_type": "stream",
     "text": [
      "Epoch:  64\n",
      "t_loss:  0.41606514394283295 , v_loss:  0.6030196249485016\n",
      "t_acc:  0.7047379981173517 , v_acc:  0.7005347593582888\n",
      "t_recall:  0.5202765469256565 , v_recall:  0.5051117775354417\n",
      "t_prec:  0.7289365763611382 , v_prec:  0.6013513513513513\n",
      "t_f:  0.45643837612667026 , v_f:  0.428633784373636\n",
      "////////\n"
     ]
    },
    {
     "name": "stderr",
     "output_type": "stream",
     "text": [
      "\r",
      "Iterations:  22%|███████▍                          | 66/300 [01:23<05:02,  1.29s/it]"
     ]
    },
    {
     "name": "stdout",
     "output_type": "stream",
     "text": [
      "Epoch  65 , loss 0.4213568156957626\n",
      "Epoch  66 , loss 0.4178117787837982\n"
     ]
    },
    {
     "name": "stderr",
     "output_type": "stream",
     "text": [
      "\r",
      "Iterations:  22%|███████▌                          | 67/300 [01:25<05:22,  1.39s/it]"
     ]
    },
    {
     "name": "stdout",
     "output_type": "stream",
     "text": [
      "Epoch:  66\n",
      "t_loss:  0.4178117787837982 , v_loss:  0.6043124049901962\n",
      "t_acc:  0.7037966739880765 , v_acc:  0.7058823529411765\n",
      "t_recall:  0.5187333370491133 , v_recall:  0.5140403489640131\n",
      "t_prec:  0.72223967115196 , v_prec:  0.6865942028985508\n",
      "t_f:  0.4534242195221208 , v_f:  0.4465967177831585\n",
      "////////\n"
     ]
    },
    {
     "name": "stderr",
     "output_type": "stream",
     "text": [
      "\r",
      "Iterations:  23%|███████▋                          | 68/300 [01:26<05:00,  1.29s/it]"
     ]
    },
    {
     "name": "stdout",
     "output_type": "stream",
     "text": [
      "Epoch  67 , loss 0.41960314989089964\n",
      "Epoch  68 , loss 0.4222855073213577\n"
     ]
    },
    {
     "name": "stderr",
     "output_type": "stream",
     "text": [
      "\r",
      "Iterations:  23%|███████▊                          | 69/300 [01:28<05:27,  1.42s/it]"
     ]
    },
    {
     "name": "stdout",
     "output_type": "stream",
     "text": [
      "Epoch:  68\n",
      "t_loss:  0.4222855073213577 , v_loss:  0.6073824564615885\n",
      "t_acc:  0.7022278004392846 , v_acc:  0.7005347593582888\n",
      "t_recall:  0.5176046688775557 , v_recall:  0.5051117775354417\n",
      "t_prec:  0.6925822612442332 , v_prec:  0.6013513513513513\n",
      "t_f:  0.4526715726859053 , v_f:  0.428633784373636\n",
      "////////\n"
     ]
    },
    {
     "name": "stderr",
     "output_type": "stream",
     "text": [
      "\r",
      "Iterations:  23%|███████▉                          | 70/300 [01:29<05:01,  1.31s/it]"
     ]
    },
    {
     "name": "stdout",
     "output_type": "stream",
     "text": [
      "Epoch  69 , loss 0.42026238679885863\n",
      "Epoch  70 , loss 0.4163986402750015\n"
     ]
    },
    {
     "name": "stderr",
     "output_type": "stream",
     "text": [
      "\r",
      "Iterations:  24%|████████                          | 71/300 [01:30<05:17,  1.39s/it]"
     ]
    },
    {
     "name": "stdout",
     "output_type": "stream",
     "text": [
      "Epoch:  70\n",
      "t_loss:  0.4163986402750015 , v_loss:  0.6070312907298406\n",
      "t_acc:  0.7050517728271102 , v_acc:  0.7058823529411765\n",
      "t_recall:  0.5219456288493158 , v_recall:  0.5140403489640131\n",
      "t_prec:  0.7165475044685824 , v_prec:  0.6865942028985508\n",
      "t_f:  0.4607973010527104 , v_f:  0.4465967177831585\n",
      "////////\n"
     ]
    },
    {
     "name": "stderr",
     "output_type": "stream",
     "text": [
      "\r",
      "Iterations:  24%|████████▏                         | 72/300 [01:31<04:42,  1.24s/it]"
     ]
    },
    {
     "name": "stdout",
     "output_type": "stream",
     "text": [
      "Epoch  71 , loss 0.4177060115337372\n",
      "Epoch  72 , loss 0.41346281886100766\n"
     ]
    },
    {
     "name": "stderr",
     "output_type": "stream",
     "text": [
      "\r",
      "Iterations:  24%|████████▎                         | 73/300 [01:33<04:59,  1.32s/it]"
     ]
    },
    {
     "name": "stdout",
     "output_type": "stream",
     "text": [
      "Epoch:  72\n",
      "t_loss:  0.41346281886100766 , v_loss:  0.6018093774716059\n",
      "t_acc:  0.7059930969563853 , v_acc:  0.7058823529411765\n",
      "t_recall:  0.5232001690679895 , v_recall:  0.5140403489640131\n",
      "t_prec:  0.7257747382885245 , v_prec:  0.6865942028985508\n",
      "t_f:  0.46293275839339826 , v_f:  0.4465967177831585\n",
      "////////\n"
     ]
    },
    {
     "name": "stderr",
     "output_type": "stream",
     "text": [
      "\r",
      "Iterations:  25%|████████▍                         | 74/300 [01:34<04:29,  1.19s/it]"
     ]
    },
    {
     "name": "stdout",
     "output_type": "stream",
     "text": [
      "Epoch  73 , loss 0.4117089253664017\n",
      "Epoch  74 , loss 0.4187819772958756\n"
     ]
    },
    {
     "name": "stderr",
     "output_type": "stream",
     "text": [
      "\r",
      "Iterations:  25%|████████▌                         | 75/300 [01:35<04:54,  1.31s/it]"
     ]
    },
    {
     "name": "stdout",
     "output_type": "stream",
     "text": [
      "Epoch:  74\n",
      "t_loss:  0.4187819772958756 , v_loss:  0.6035760889450709\n",
      "t_acc:  0.7047379981173517 , v_acc:  0.7058823529411765\n",
      "t_recall:  0.5217198952150043 , v_recall:  0.5140403489640131\n",
      "t_prec:  0.7113693069843967 , v_prec:  0.6865942028985508\n",
      "t_f:  0.4606400487173829 , v_f:  0.4465967177831585\n",
      "////////\n"
     ]
    },
    {
     "name": "stderr",
     "output_type": "stream",
     "text": [
      "\r",
      "Iterations:  25%|████████▌                         | 76/300 [01:36<04:32,  1.22s/it]"
     ]
    },
    {
     "name": "stdout",
     "output_type": "stream",
     "text": [
      "Epoch  75 , loss 0.417635999917984\n",
      "Epoch  76 , loss 0.40978663027286527\n"
     ]
    },
    {
     "name": "stderr",
     "output_type": "stream",
     "text": [
      "\r",
      "Iterations:  26%|████████▋                         | 77/300 [01:38<04:50,  1.30s/it]"
     ]
    },
    {
     "name": "stdout",
     "output_type": "stream",
     "text": [
      "Epoch:  76\n",
      "t_loss:  0.40978663027286527 , v_loss:  0.6024583478768667\n",
      "t_acc:  0.7050517728271102 , v_acc:  0.7058823529411765\n",
      "t_recall:  0.5222342985071854 , v_recall:  0.5140403489640131\n",
      "t_prec:  0.713438558944177 , v_prec:  0.6865942028985508\n",
      "t_f:  0.4616283165484174 , v_f:  0.4465967177831585\n",
      "////////\n"
     ]
    },
    {
     "name": "stderr",
     "output_type": "stream",
     "text": [
      "\r",
      "Iterations:  26%|████████▊                         | 78/300 [01:39<04:29,  1.21s/it]"
     ]
    },
    {
     "name": "stdout",
     "output_type": "stream",
     "text": [
      "Epoch  77 , loss 0.4124626135826111\n",
      "Epoch  78 , loss 0.41415361046791077\n"
     ]
    },
    {
     "name": "stderr",
     "output_type": "stream",
     "text": [
      "\r",
      "Iterations:  26%|████████▉                         | 79/300 [01:40<04:46,  1.30s/it]"
     ]
    },
    {
     "name": "stdout",
     "output_type": "stream",
     "text": [
      "Epoch:  78\n",
      "t_loss:  0.41415361046791077 , v_loss:  0.6026852875947952\n",
      "t_acc:  0.7088170693442108 , v_acc:  0.7058823529411765\n",
      "t_recall:  0.5284071380133583 , v_recall:  0.5140403489640131\n",
      "t_prec:  0.7346423583935668 , v_prec:  0.6865942028985508\n",
      "t_f:  0.47335521442328515 , v_f:  0.4465967177831585\n",
      "////////\n"
     ]
    },
    {
     "name": "stderr",
     "output_type": "stream",
     "text": [
      "\r",
      "Iterations:  27%|█████████                         | 80/300 [01:42<04:38,  1.27s/it]"
     ]
    },
    {
     "name": "stdout",
     "output_type": "stream",
     "text": [
      "Epoch  79 , loss 0.4138060837984085\n",
      "Epoch  80 , loss 0.41491096317768095\n"
     ]
    },
    {
     "name": "stderr",
     "output_type": "stream",
     "text": [
      "\r",
      "Iterations:  27%|█████████▏                        | 81/300 [01:43<04:49,  1.32s/it]"
     ]
    },
    {
     "name": "stdout",
     "output_type": "stream",
     "text": [
      "Epoch:  80\n",
      "t_loss:  0.41491096317768095 , v_loss:  0.6008409013350805\n",
      "t_acc:  0.7072481957954189 , v_acc:  0.7112299465240641\n",
      "t_recall:  0.5287218181311485 , v_recall:  0.5229689203925845\n",
      "t_prec:  0.7022737085884754 , v_prec:  0.730191256830601\n",
      "t_f:  0.47645669619912834 , v_f:  0.4640127388535032\n",
      "////////\n"
     ]
    },
    {
     "name": "stderr",
     "output_type": "stream",
     "text": [
      "\r",
      "Iterations:  27%|█████████▎                        | 82/300 [01:44<04:26,  1.22s/it]"
     ]
    },
    {
     "name": "stdout",
     "output_type": "stream",
     "text": [
      "Epoch  81 , loss 0.41263619184494016\n",
      "Epoch  82 , loss 0.4139546996355057\n"
     ]
    },
    {
     "name": "stderr",
     "output_type": "stream",
     "text": [
      "\r",
      "Iterations:  28%|█████████▍                        | 83/300 [01:45<04:41,  1.30s/it]"
     ]
    },
    {
     "name": "stdout",
     "output_type": "stream",
     "text": [
      "Epoch:  82\n",
      "t_loss:  0.4139546996355057 , v_loss:  0.6053237617015839\n",
      "t_acc:  0.7050517728271102 , v_acc:  0.7112299465240641\n",
      "t_recall:  0.5242549861122723 , v_recall:  0.5229689203925845\n",
      "t_prec:  0.6958126785808029 , v_prec:  0.730191256830601\n",
      "t_f:  0.46735325535779554 , v_f:  0.4640127388535032\n",
      "////////\n"
     ]
    },
    {
     "name": "stderr",
     "output_type": "stream",
     "text": [
      "\r",
      "Iterations:  28%|█████████▌                        | 84/300 [01:46<04:15,  1.18s/it]"
     ]
    },
    {
     "name": "stdout",
     "output_type": "stream",
     "text": [
      "Epoch  83 , loss 0.4088440787792206\n",
      "Epoch  84 , loss 0.4148590487241745\n"
     ]
    },
    {
     "name": "stderr",
     "output_type": "stream",
     "text": [
      "\r",
      "Iterations:  28%|█████████▋                        | 85/300 [01:48<04:40,  1.30s/it]"
     ]
    },
    {
     "name": "stdout",
     "output_type": "stream",
     "text": [
      "Epoch:  84\n",
      "t_loss:  0.4148590487241745 , v_loss:  0.5981590151786804\n",
      "t_acc:  0.7106997176027612 , v_acc:  0.7005347593582888\n",
      "t_recall:  0.5314935577664447 , v_recall:  0.5204471101417666\n",
      "t_prec:  0.7432640906970904 , v_prec:  0.6047486033519553\n",
      "t_f:  0.4791287324438999 , v_f:  0.47217741935483865\n",
      "////////\n"
     ]
    },
    {
     "name": "stderr",
     "output_type": "stream",
     "text": [
      "\r",
      "Iterations:  29%|█████████▋                        | 86/300 [01:49<04:20,  1.22s/it]"
     ]
    },
    {
     "name": "stdout",
     "output_type": "stream",
     "text": [
      "Epoch  85 , loss 0.41101365149021146\n",
      "Epoch  86 , loss 0.41244886875152587\n"
     ]
    },
    {
     "name": "stderr",
     "output_type": "stream",
     "text": [
      "\r",
      "Iterations:  29%|█████████▊                        | 87/300 [01:51<04:45,  1.34s/it]"
     ]
    },
    {
     "name": "stdout",
     "output_type": "stream",
     "text": [
      "Epoch:  86\n",
      "t_loss:  0.41244886875152587 , v_loss:  0.5970135827859243\n",
      "t_acc:  0.7041104486978349 , v_acc:  0.7005347593582888\n",
      "t_recall:  0.5253098031565551 , v_recall:  0.5204471101417666\n",
      "t_prec:  0.6748281924757609 , v_prec:  0.6047486033519553\n",
      "t_f:  0.4716323372139776 , v_f:  0.47217741935483865\n",
      "////////\n"
     ]
    },
    {
     "name": "stderr",
     "output_type": "stream",
     "text": [
      "\r",
      "Iterations:  29%|█████████▉                        | 88/300 [01:52<04:22,  1.24s/it]"
     ]
    },
    {
     "name": "stdout",
     "output_type": "stream",
     "text": [
      "Epoch  87 , loss 0.41177734941244126\n",
      "Epoch  88 , loss 0.4103914487361908\n"
     ]
    },
    {
     "name": "stderr",
     "output_type": "stream",
     "text": [
      "\r",
      "Iterations:  30%|██████████                        | 89/300 [01:53<04:51,  1.38s/it]"
     ]
    },
    {
     "name": "stdout",
     "output_type": "stream",
     "text": [
      "Epoch:  88\n",
      "t_loss:  0.4103914487361908 , v_loss:  0.5995996246735255\n",
      "t_acc:  0.7053655475368685 , v_acc:  0.7005347593582888\n",
      "t_recall:  0.5267900770095403 , v_recall:  0.5204471101417666\n",
      "t_prec:  0.6850532266447643 , v_prec:  0.6047486033519553\n",
      "t_f:  0.4738735574166755 , v_f:  0.47217741935483865\n",
      "////////\n"
     ]
    },
    {
     "name": "stderr",
     "output_type": "stream",
     "text": [
      "\r",
      "Iterations:  30%|██████████▏                       | 90/300 [01:54<04:24,  1.26s/it]"
     ]
    },
    {
     "name": "stdout",
     "output_type": "stream",
     "text": [
      "Epoch  89 , loss 0.4079605484008789\n",
      "Epoch  90 , loss 0.4092938011884689\n"
     ]
    },
    {
     "name": "stderr",
     "output_type": "stream",
     "text": [
      "\r",
      "Iterations:  30%|██████████▎                       | 91/300 [01:56<04:44,  1.36s/it]"
     ]
    },
    {
     "name": "stdout",
     "output_type": "stream",
     "text": [
      "Epoch:  90\n",
      "t_loss:  0.4092938011884689 , v_loss:  0.6008711407581965\n",
      "t_acc:  0.7119548164417948 , v_acc:  0.7058823529411765\n",
      "t_recall:  0.5370152068296037 , v_recall:  0.529375681570338\n",
      "t_prec:  0.7200600869272273 , v_prec:  0.6345193508114857\n",
      "t_f:  0.4920330719707755 , v_f:  0.4879263131690316\n",
      "////////\n"
     ]
    },
    {
     "name": "stderr",
     "output_type": "stream",
     "text": [
      "\r",
      "Iterations:  31%|██████████▍                       | 92/300 [01:57<04:22,  1.26s/it]"
     ]
    },
    {
     "name": "stdout",
     "output_type": "stream",
     "text": [
      "Epoch  91 , loss 0.4074626076221466\n",
      "Epoch  92 , loss 0.40751386165618897\n"
     ]
    },
    {
     "name": "stderr",
     "output_type": "stream",
     "text": [
      "\r",
      "Iterations:  31%|██████████▌                       | 93/300 [01:58<04:40,  1.36s/it]"
     ]
    },
    {
     "name": "stdout",
     "output_type": "stream",
     "text": [
      "Epoch:  92\n",
      "t_loss:  0.40751386165618897 , v_loss:  0.5971100777387619\n",
      "t_acc:  0.7154063382491371 , v_acc:  0.7058823529411765\n",
      "t_recall:  0.5406529554385084 , v_recall:  0.529375681570338\n",
      "t_prec:  0.7477496603260869 , v_prec:  0.6345193508114857\n",
      "t_f:  0.4970202553728757 , v_f:  0.4879263131690316\n",
      "////////\n"
     ]
    },
    {
     "name": "stderr",
     "output_type": "stream",
     "text": [
      "\r",
      "Iterations:  31%|██████████▋                       | 94/300 [01:59<04:10,  1.22s/it]"
     ]
    },
    {
     "name": "stdout",
     "output_type": "stream",
     "text": [
      "Epoch  93 , loss 0.4038975977897644\n",
      "Epoch  94 , loss 0.4061553186178207\n"
     ]
    },
    {
     "name": "stderr",
     "output_type": "stream",
     "text": [
      "\r",
      "Iterations:  32%|██████████▊                       | 95/300 [02:01<04:32,  1.33s/it]"
     ]
    },
    {
     "name": "stdout",
     "output_type": "stream",
     "text": [
      "Epoch:  94\n",
      "t_loss:  0.4061553186178207 , v_loss:  0.5969212651252747\n",
      "t_acc:  0.7116410417320364 , v_acc:  0.7112299465240641\n",
      "t_recall:  0.5341914462744661 , v_recall:  0.5383042529989095\n",
      "t_prec:  0.7361783974897813 , v_prec:  0.6587570621468927\n",
      "t_f:  0.4850796584301649 , v_f:  0.5032467532467533\n",
      "////////\n"
     ]
    },
    {
     "name": "stderr",
     "output_type": "stream",
     "text": [
      "\r",
      "Iterations:  32%|██████████▉                       | 96/300 [02:02<04:10,  1.23s/it]"
     ]
    },
    {
     "name": "stdout",
     "output_type": "stream",
     "text": [
      "Epoch  95 , loss 0.4095825970172882\n",
      "Epoch  96 , loss 0.4069647794961929\n"
     ]
    },
    {
     "name": "stderr",
     "output_type": "stream",
     "text": [
      "\r",
      "Iterations:  32%|██████████▉                       | 97/300 [02:04<04:46,  1.41s/it]"
     ]
    },
    {
     "name": "stdout",
     "output_type": "stream",
     "text": [
      "Epoch:  96\n",
      "t_loss:  0.4069647794961929 , v_loss:  0.601422980427742\n",
      "t_acc:  0.7100721681832445 , v_acc:  0.7058823529411765\n",
      "t_recall:  0.5356608050237346 , v_recall:  0.529375681570338\n",
      "t_prec:  0.7021447452950407 , v_prec:  0.6345193508114857\n",
      "t_f:  0.49093399678599775 , v_f:  0.4879263131690316\n",
      "////////\n"
     ]
    },
    {
     "name": "stderr",
     "output_type": "stream",
     "text": [
      "\r",
      "Iterations:  33%|███████████                       | 98/300 [02:05<04:21,  1.29s/it]"
     ]
    },
    {
     "name": "stdout",
     "output_type": "stream",
     "text": [
      "Epoch  97 , loss 0.40974986493587495\n",
      "Epoch  98 , loss 0.4057862693071365\n"
     ]
    },
    {
     "name": "stderr",
     "output_type": "stream",
     "text": [
      "\r",
      "Iterations:  33%|███████████▏                      | 99/300 [02:07<04:47,  1.43s/it]"
     ]
    },
    {
     "name": "stdout",
     "output_type": "stream",
     "text": [
      "Epoch:  98\n",
      "t_loss:  0.4057862693071365 , v_loss:  0.5981990297635397\n",
      "t_acc:  0.7103859428930028 , v_acc:  0.7058823529411765\n",
      "t_recall:  0.5341545207108287 , v_recall:  0.529375681570338\n",
      "t_prec:  0.7153668623109455 , v_prec:  0.6345193508114857\n",
      "t_f:  0.4866452955095614 , v_f:  0.4879263131690316\n",
      "////////\n"
     ]
    },
    {
     "name": "stderr",
     "output_type": "stream",
     "text": [
      "\r",
      "Iterations:  33%|███████████                      | 100/300 [02:08<04:19,  1.30s/it]"
     ]
    },
    {
     "name": "stdout",
     "output_type": "stream",
     "text": [
      "Epoch  99 , loss 0.4066072356700897\n",
      "Epoch  100 , loss 0.4070707005262375\n"
     ]
    },
    {
     "name": "stderr",
     "output_type": "stream",
     "text": [
      "\r",
      "Iterations:  34%|███████████                      | 101/300 [02:09<04:32,  1.37s/it]"
     ]
    },
    {
     "name": "stdout",
     "output_type": "stream",
     "text": [
      "Epoch:  100\n",
      "t_loss:  0.4070707005262375 , v_loss:  0.5969474613666534\n",
      "t_acc:  0.7100721681832445 , v_acc:  0.7112299465240641\n",
      "t_recall:  0.5350834657079955 , v_recall:  0.5383042529989095\n",
      "t_prec:  0.7052331268340397 , v_prec:  0.6587570621468927\n",
      "t_f:  0.4894562083127021 , v_f:  0.5032467532467533\n",
      "////////\n"
     ]
    },
    {
     "name": "stderr",
     "output_type": "stream",
     "text": [
      "\r",
      "Iterations:  34%|███████████▏                     | 102/300 [02:10<04:04,  1.24s/it]"
     ]
    },
    {
     "name": "stdout",
     "output_type": "stream",
     "text": [
      "Epoch  101 , loss 0.405097741484642\n",
      "Epoch  102 , loss 0.4110732907056808\n"
     ]
    },
    {
     "name": "stderr",
     "output_type": "stream",
     "text": [
      "\r",
      "Iterations:  34%|███████████▎                     | 103/300 [02:12<04:20,  1.32s/it]"
     ]
    },
    {
     "name": "stdout",
     "output_type": "stream",
     "text": [
      "Epoch:  102\n",
      "t_loss:  0.4110732907056808 , v_loss:  0.593959833184878\n",
      "t_acc:  0.7119548164417948 , v_acc:  0.7219251336898396\n",
      "t_recall:  0.5381698854610819 , v_recall:  0.5561613958560523\n",
      "t_prec:  0.7130722919680776 , v_prec:  0.6961904761904762\n",
      "t_f:  0.49496948756509523 , v_f:  0.5326797385620915\n",
      "////////\n"
     ]
    },
    {
     "name": "stderr",
     "output_type": "stream",
     "text": [
      "\r",
      "Iterations:  35%|███████████▍                     | 104/300 [02:13<04:09,  1.27s/it]"
     ]
    },
    {
     "name": "stdout",
     "output_type": "stream",
     "text": [
      "Epoch  103 , loss 0.41064488112926484\n",
      "Epoch  104 , loss 0.4054905652999878\n"
     ]
    },
    {
     "name": "stderr",
     "output_type": "stream",
     "text": [
      "\r",
      "Iterations:  35%|███████████▌                     | 105/300 [02:14<04:19,  1.33s/it]"
     ]
    },
    {
     "name": "stdout",
     "output_type": "stream",
     "text": [
      "Epoch:  104\n",
      "t_loss:  0.4054905652999878 , v_loss:  0.5967811495065689\n",
      "t_acc:  0.7122685911515532 , v_acc:  0.7219251336898396\n",
      "t_recall:  0.536663601148176 , v_recall:  0.5561613958560523\n",
      "t_prec:  0.7272442005746167 , v_prec:  0.6961904761904762\n",
      "t_f:  0.49072999957306407 , v_f:  0.5326797385620915\n",
      "////////\n"
     ]
    },
    {
     "name": "stderr",
     "output_type": "stream",
     "text": [
      "\r",
      "Iterations:  35%|███████████▋                     | 106/300 [02:15<03:58,  1.23s/it]"
     ]
    },
    {
     "name": "stdout",
     "output_type": "stream",
     "text": [
      "Epoch  105 , loss 0.4027254331111908\n",
      "Epoch  106 , loss 0.4038152456283569\n"
     ]
    },
    {
     "name": "stderr",
     "output_type": "stream",
     "text": [
      "\r",
      "Iterations:  36%|███████████▊                     | 107/300 [02:17<04:14,  1.32s/it]"
     ]
    },
    {
     "name": "stdout",
     "output_type": "stream",
     "text": [
      "Epoch:  106\n",
      "t_loss:  0.4038152456283569 , v_loss:  0.5946237395207087\n",
      "t_acc:  0.7188578600564794 , v_acc:  0.7219251336898396\n",
      "t_recall:  0.5466000613103698 , v_recall:  0.5561613958560523\n",
      "t_prec:  0.756234165576986 , v_prec:  0.6961904761904762\n",
      "t_f:  0.5077822594546144 , v_f:  0.5326797385620915\n",
      "////////\n"
     ]
    },
    {
     "name": "stderr",
     "output_type": "stream",
     "text": [
      "\r",
      "Iterations:  36%|███████████▉                     | 108/300 [02:18<03:53,  1.22s/it]"
     ]
    },
    {
     "name": "stdout",
     "output_type": "stream",
     "text": [
      "Epoch  107 , loss 0.4031475752592087\n",
      "Epoch  108 , loss 0.40522060453891756\n"
     ]
    },
    {
     "name": "stderr",
     "output_type": "stream",
     "text": [
      "\r",
      "Iterations:  36%|███████████▉                     | 109/300 [02:19<04:11,  1.32s/it]"
     ]
    },
    {
     "name": "stdout",
     "output_type": "stream",
     "text": [
      "Epoch:  108\n",
      "t_loss:  0.40522060453891756 , v_loss:  0.598049928744634\n",
      "t_acc:  0.7122685911515532 , v_acc:  0.7272727272727273\n",
      "t_recall:  0.5378182797796542 , v_recall:  0.5599781897491821\n",
      "t_prec:  0.7194745893376031 , v_prec:  0.7272727272727273\n",
      "t_f:  0.49369167342471143 , v_f:  0.5363410958238125\n",
      "////////\n"
     ]
    },
    {
     "name": "stderr",
     "output_type": "stream",
     "text": [
      "\r",
      "Iterations:  37%|████████████                     | 110/300 [02:20<04:04,  1.29s/it]"
     ]
    },
    {
     "name": "stdout",
     "output_type": "stream",
     "text": [
      "Epoch  109 , loss 0.40096749424934386\n",
      "Epoch  110 , loss 0.4065965032577515\n"
     ]
    },
    {
     "name": "stderr",
     "output_type": "stream",
     "text": [
      "\r",
      "Iterations:  37%|████████████▏                    | 111/300 [02:22<04:25,  1.40s/it]"
     ]
    },
    {
     "name": "stdout",
     "output_type": "stream",
     "text": [
      "Epoch:  110\n",
      "t_loss:  0.4065965032577515 , v_loss:  0.5938563197851181\n",
      "t_acc:  0.7116410417320364 , v_acc:  0.7272727272727273\n",
      "t_recall:  0.5393875001161181 , v_recall:  0.5599781897491821\n",
      "t_prec:  0.7029448366638746 , v_prec:  0.7272727272727273\n",
      "t_f:  0.4983883053014403 , v_f:  0.5363410958238125\n",
      "////////\n"
     ]
    },
    {
     "name": "stderr",
     "output_type": "stream",
     "text": [
      "\r",
      "Iterations:  37%|████████████▎                    | 112/300 [02:23<04:10,  1.33s/it]"
     ]
    },
    {
     "name": "stdout",
     "output_type": "stream",
     "text": [
      "Epoch  111 , loss 0.40119991958141327\n",
      "Epoch  112 , loss 0.40089455783367156\n"
     ]
    },
    {
     "name": "stderr",
     "output_type": "stream",
     "text": [
      "\r",
      "Iterations:  38%|████████████▍                    | 113/300 [02:25<04:29,  1.44s/it]"
     ]
    },
    {
     "name": "stdout",
     "output_type": "stream",
     "text": [
      "Epoch:  112\n",
      "t_loss:  0.40089455783367156 , v_loss:  0.595746730764707\n",
      "t_acc:  0.7191716347662378 , v_acc:  0.7219251336898396\n",
      "t_recall:  0.5508671701548551 , v_recall:  0.5561613958560523\n",
      "t_prec:  0.7330325985190229 , v_prec:  0.6961904761904762\n",
      "t_f:  0.5176412972029989 , v_f:  0.5326797385620915\n",
      "////////\n"
     ]
    },
    {
     "name": "stderr",
     "output_type": "stream",
     "text": [
      "\r",
      "Iterations:  38%|████████████▌                    | 114/300 [02:26<04:13,  1.36s/it]"
     ]
    },
    {
     "name": "stdout",
     "output_type": "stream",
     "text": [
      "Epoch  113 , loss 0.40263093769550323\n",
      "Epoch  114 , loss 0.40115654468536377\n"
     ]
    },
    {
     "name": "stderr",
     "output_type": "stream",
     "text": [
      "\r",
      "Iterations:  38%|████████████▋                    | 115/300 [02:28<04:34,  1.48s/it]"
     ]
    },
    {
     "name": "stdout",
     "output_type": "stream",
     "text": [
      "Epoch:  114\n",
      "t_loss:  0.40115654468536377 , v_loss:  0.5947887202103933\n",
      "t_acc:  0.7176027612174459 , v_acc:  0.732620320855615\n",
      "t_recall:  0.5485838233518193 , v_recall:  0.5740185387131952\n",
      "t_prec:  0.726740657244429 , v_prec:  0.7241948802642444\n",
      "t_f:  0.5139298423995933 , v_f:  0.5606203007518797\n",
      "////////\n"
     ]
    },
    {
     "name": "stderr",
     "output_type": "stream",
     "text": [
      "\r",
      "Iterations:  39%|████████████▊                    | 116/300 [02:29<04:01,  1.31s/it]"
     ]
    },
    {
     "name": "stdout",
     "output_type": "stream",
     "text": [
      "Epoch  115 , loss 0.400264208316803\n",
      "Epoch  116 , loss 0.4010424953699112\n"
     ]
    },
    {
     "name": "stderr",
     "output_type": "stream",
     "text": [
      "\r",
      "Iterations:  39%|████████████▊                    | 117/300 [02:31<04:26,  1.45s/it]"
     ]
    },
    {
     "name": "stdout",
     "output_type": "stream",
     "text": [
      "Epoch:  116\n",
      "t_loss:  0.4010424953699112 , v_loss:  0.5968544979890188\n",
      "t_acc:  0.7226231565735801 , v_acc:  0.7272727272727273\n",
      "t_recall:  0.5559482670531077 , v_recall:  0.5599781897491821\n",
      "t_prec:  0.7458024691358025 , v_prec:  0.7272727272727273\n",
      "t_f:  0.5258781318577755 , v_f:  0.5363410958238125\n",
      "////////\n"
     ]
    },
    {
     "name": "stderr",
     "output_type": "stream",
     "text": [
      "\r",
      "Iterations:  39%|████████████▉                    | 118/300 [02:31<03:55,  1.29s/it]"
     ]
    },
    {
     "name": "stdout",
     "output_type": "stream",
     "text": [
      "Epoch  117 , loss 0.3997008258104324\n",
      "Epoch  118 , loss 0.4029983925819397\n"
     ]
    },
    {
     "name": "stderr",
     "output_type": "stream",
     "text": [
      "\r",
      "Iterations:  40%|█████████████                    | 119/300 [02:33<04:12,  1.40s/it]"
     ]
    },
    {
     "name": "stdout",
     "output_type": "stream",
     "text": [
      "Epoch:  118\n",
      "t_loss:  0.4029983925819397 , v_loss:  0.5994600107272466\n",
      "t_acc:  0.7172889865076875 , v_acc:  0.7272727272727273\n",
      "t_recall:  0.5483580897175078 , v_recall:  0.5702017448200655\n",
      "t_prec:  0.7242859789488196 , v_prec:  0.6996124031007751\n",
      "t_f:  0.5137296839609661 , v_f:  0.5566866545809511\n",
      "////////\n"
     ]
    },
    {
     "name": "stderr",
     "output_type": "stream",
     "text": [
      "\r",
      "Iterations:  40%|█████████████▏                   | 120/300 [02:34<03:46,  1.26s/it]"
     ]
    },
    {
     "name": "stdout",
     "output_type": "stream",
     "text": [
      "Epoch  119 , loss 0.4022043961286545\n",
      "Epoch  120 , loss 0.3940681463479996\n"
     ]
    },
    {
     "name": "stderr",
     "output_type": "stream",
     "text": [
      "\r",
      "Iterations:  40%|█████████████▎                   | 121/300 [02:36<03:58,  1.33s/it]"
     ]
    },
    {
     "name": "stdout",
     "output_type": "stream",
     "text": [
      "Epoch:  120\n",
      "t_loss:  0.3940681463479996 , v_loss:  0.5948343773682913\n",
      "t_acc:  0.7197991841857546 , v_acc:  0.7272727272727273\n",
      "t_recall:  0.5495866194762609 , v_recall:  0.5702017448200655\n",
      "t_prec:  0.7485738766804972 , v_prec:  0.6996124031007751\n",
      "t_f:  0.5139621890078256 , v_f:  0.5566866545809511\n",
      "////////\n"
     ]
    },
    {
     "name": "stderr",
     "output_type": "stream",
     "text": [
      "\r",
      "Iterations:  41%|█████████████▍                   | 122/300 [02:37<03:42,  1.25s/it]"
     ]
    },
    {
     "name": "stdout",
     "output_type": "stream",
     "text": [
      "Epoch  121 , loss 0.39555728495121\n",
      "Epoch  122 , loss 0.3966015112400055\n"
     ]
    },
    {
     "name": "stderr",
     "output_type": "stream",
     "text": [
      "\r",
      "Iterations:  41%|█████████████▌                   | 123/300 [02:38<03:59,  1.35s/it]"
     ]
    },
    {
     "name": "stdout",
     "output_type": "stream",
     "text": [
      "Epoch:  122\n",
      "t_loss:  0.3966015112400055 , v_loss:  0.5970455308755239\n",
      "t_acc:  0.7163476623784123 , v_acc:  0.7272727272727273\n",
      "t_recall:  0.5473922191567038 , v_recall:  0.5702017448200655\n",
      "t_prec:  0.7184509358099862 , v_prec:  0.6996124031007751\n",
      "t_f:  0.5124509920720878 , v_f:  0.5566866545809511\n",
      "////////\n"
     ]
    },
    {
     "name": "stderr",
     "output_type": "stream",
     "text": [
      "\r",
      "Iterations:  41%|█████████████▋                   | 124/300 [02:39<03:36,  1.23s/it]"
     ]
    },
    {
     "name": "stdout",
     "output_type": "stream",
     "text": [
      "Epoch  123 , loss 0.3972873795032501\n",
      "Epoch  124 , loss 0.396051367521286\n"
     ]
    },
    {
     "name": "stderr",
     "output_type": "stream",
     "text": [
      "\r",
      "Iterations:  42%|█████████████▊                   | 125/300 [02:41<04:02,  1.38s/it]"
     ]
    },
    {
     "name": "stdout",
     "output_type": "stream",
     "text": [
      "Epoch:  124\n",
      "t_loss:  0.396051367521286 , v_loss:  0.6001597940921783\n",
      "t_acc:  0.7207405083150298 , v_acc:  0.7165775401069518\n",
      "t_recall:  0.5534391866157605 , v_recall:  0.5625681570338059\n",
      "t_prec:  0.7375567806408986 , v_prec:  0.6588235294117647\n",
      "t_f:  0.5219991964871931 , v_f:  0.5489464342602285\n",
      "////////\n"
     ]
    },
    {
     "name": "stderr",
     "output_type": "stream",
     "text": [
      "\r",
      "Iterations:  42%|█████████████▊                   | 126/300 [02:42<03:40,  1.27s/it]"
     ]
    },
    {
     "name": "stdout",
     "output_type": "stream",
     "text": [
      "Epoch  125 , loss 0.398660107254982\n",
      "Epoch  126 , loss 0.39727843105793\n"
     ]
    },
    {
     "name": "stderr",
     "output_type": "stream",
     "text": [
      "\r",
      "Iterations:  42%|█████████████▉                   | 127/300 [02:44<04:03,  1.41s/it]"
     ]
    },
    {
     "name": "stdout",
     "output_type": "stream",
     "text": [
      "Epoch:  126\n",
      "t_loss:  0.39727843105793 , v_loss:  0.6002803792556127\n",
      "t_acc:  0.7223093818638218 , v_acc:  0.7272727272727273\n",
      "t_recall:  0.5562998727345354 , v_recall:  0.5702017448200655\n",
      "t_prec:  0.7403388587064281 , v_prec:  0.6996124031007751\n",
      "t_f:  0.5269740963143158 , v_f:  0.5566866545809511\n",
      "////////\n"
     ]
    },
    {
     "name": "stderr",
     "output_type": "stream",
     "text": [
      "\r",
      "Iterations:  43%|██████████████                   | 128/300 [02:45<03:56,  1.38s/it]"
     ]
    },
    {
     "name": "stdout",
     "output_type": "stream",
     "text": [
      "Epoch  127 , loss 0.3918802505731583\n",
      "Epoch  128 , loss 0.40009405732154846\n"
     ]
    },
    {
     "name": "stderr",
     "output_type": "stream",
     "text": [
      "\r",
      "Iterations:  43%|██████████████▏                  | 129/300 [02:47<04:09,  1.46s/it]"
     ]
    },
    {
     "name": "stdout",
     "output_type": "stream",
     "text": [
      "Epoch:  128\n",
      "t_loss:  0.40009405732154846 , v_loss:  0.5999194085597992\n",
      "t_acc:  0.7185440853467211 , v_acc:  0.7219251336898396\n",
      "t_recall:  0.5495496939126234 , v_recall:  0.5663849509269356\n",
      "t_prec:  0.7327031472222949 , v_prec:  0.6779970760233918\n",
      "t_f:  0.5152110279465065 , v_f:  0.5527961736571009\n",
      "////////\n"
     ]
    },
    {
     "name": "stderr",
     "output_type": "stream",
     "text": [
      "\r",
      "Iterations:  43%|██████████████▎                  | 130/300 [02:48<03:43,  1.31s/it]"
     ]
    },
    {
     "name": "stdout",
     "output_type": "stream",
     "text": [
      "Epoch  129 , loss 0.39908563792705537\n",
      "Epoch  130 , loss 0.3957646322250366\n"
     ]
    },
    {
     "name": "stderr",
     "output_type": "stream",
     "text": [
      "\r",
      "Iterations:  44%|██████████████▍                  | 131/300 [02:49<04:00,  1.43s/it]"
     ]
    },
    {
     "name": "stdout",
     "output_type": "stream",
     "text": [
      "Epoch:  130\n",
      "t_loss:  0.3957646322250366 , v_loss:  0.6001860797405243\n",
      "t_acc:  0.7157201129588955 , v_acc:  0.7272727272727273\n",
      "t_recall:  0.5466520822302112 , v_recall:  0.5702017448200655\n",
      "t_prec:  0.7150393292826527 , v_prec:  0.6996124031007751\n",
      "t_f:  0.5113723438244596 , v_f:  0.5566866545809511\n",
      "////////\n"
     ]
    },
    {
     "name": "stderr",
     "output_type": "stream",
     "text": [
      "\r",
      "Iterations:  44%|██████████████▌                  | 132/300 [02:50<03:49,  1.37s/it]"
     ]
    },
    {
     "name": "stdout",
     "output_type": "stream",
     "text": [
      "Epoch  131 , loss 0.39688331216573713\n",
      "Epoch  132 , loss 0.39350992918014527\n"
     ]
    },
    {
     "name": "stderr",
     "output_type": "stream",
     "text": [
      "\r",
      "Iterations:  44%|██████████████▋                  | 133/300 [02:52<04:02,  1.45s/it]"
     ]
    },
    {
     "name": "stdout",
     "output_type": "stream",
     "text": [
      "Epoch:  132\n",
      "t_loss:  0.39350992918014527 , v_loss:  0.6012497941652933\n",
      "t_acc:  0.7273297772199561 , v_acc:  0.7272727272727273\n",
      "t_recall:  0.5636643164358238 , v_recall:  0.5753135223555071\n",
      "t_prec:  0.7572742459222555 , v_prec:  0.6911764705882353\n",
      "t_f:  0.5386871879437497 , v_f:  0.5659673235334274\n",
      "////////\n"
     ]
    },
    {
     "name": "stderr",
     "output_type": "stream",
     "text": [
      "\r",
      "Iterations:  45%|██████████████▋                  | 134/300 [02:53<03:39,  1.32s/it]"
     ]
    },
    {
     "name": "stdout",
     "output_type": "stream",
     "text": [
      "Epoch  133 , loss 0.3912670463323593\n",
      "Epoch  134 , loss 0.3957302328944206\n"
     ]
    },
    {
     "name": "stderr",
     "output_type": "stream",
     "text": [
      "\r",
      "Iterations:  45%|██████████████▊                  | 135/300 [02:55<04:02,  1.47s/it]"
     ]
    },
    {
     "name": "stdout",
     "output_type": "stream",
     "text": [
      "Epoch:  134\n",
      "t_loss:  0.3957302328944206 , v_loss:  0.601873849829038\n",
      "t_acc:  0.7251333542516473 , v_acc:  0.7272727272727273\n",
      "t_recall:  0.5643935382585997 , v_recall:  0.5753135223555071\n",
      "t_prec:  0.7320689655172414 , v_prec:  0.6911764705882353\n",
      "t_f:  0.5420814782447811 , v_f:  0.5659673235334274\n",
      "////////\n"
     ]
    },
    {
     "name": "stderr",
     "output_type": "stream",
     "text": [
      "\r",
      "Iterations:  45%|██████████████▉                  | 136/300 [02:56<03:37,  1.32s/it]"
     ]
    },
    {
     "name": "stdout",
     "output_type": "stream",
     "text": [
      "Epoch  135 , loss 0.3999101984500885\n",
      "Epoch  136 , loss 0.3938222444057465\n"
     ]
    },
    {
     "name": "stderr",
     "output_type": "stream",
     "text": [
      "\r",
      "Iterations:  46%|███████████████                  | 137/300 [02:58<03:56,  1.45s/it]"
     ]
    },
    {
     "name": "stdout",
     "output_type": "stream",
     "text": [
      "Epoch:  136\n",
      "t_loss:  0.3938222444057465 , v_loss:  0.599866141875585\n",
      "t_acc:  0.7279573266394729 , v_acc:  0.7219251336898396\n",
      "t_recall:  0.5655591319937947 , v_recall:  0.5663849509269356\n",
      "t_prec:  0.7541503862290004 , v_prec:  0.6779970760233918\n",
      "t_f:  0.5422303820582568 , v_f:  0.5527961736571009\n",
      "////////\n"
     ]
    },
    {
     "name": "stderr",
     "output_type": "stream",
     "text": [
      "\r",
      "Iterations:  46%|███████████████▏                 | 138/300 [02:59<03:36,  1.33s/it]"
     ]
    },
    {
     "name": "stdout",
     "output_type": "stream",
     "text": [
      "Epoch  137 , loss 0.3959104883670807\n",
      "Epoch  138 , loss 0.393946515917778\n"
     ]
    },
    {
     "name": "stderr",
     "output_type": "stream",
     "text": [
      "\r",
      "Iterations:  46%|███████████████▎                 | 139/300 [03:00<03:43,  1.39s/it]"
     ]
    },
    {
     "name": "stdout",
     "output_type": "stream",
     "text": [
      "Epoch:  138\n",
      "t_loss:  0.393946515917778 , v_loss:  0.6028838207324346\n",
      "t_acc:  0.7245058048321306 , v_acc:  0.7219251336898396\n",
      "t_recall:  0.5613440440691506 , v_recall:  0.5663849509269356\n",
      "t_prec:  0.7390227526097091 , v_prec:  0.6779970760233918\n",
      "t_f:  0.5361103632488551 , v_f:  0.5527961736571009\n",
      "////////\n"
     ]
    },
    {
     "name": "stderr",
     "output_type": "stream",
     "text": [
      "\r",
      "Iterations:  47%|███████████████▍                 | 140/300 [03:01<03:23,  1.27s/it]"
     ]
    },
    {
     "name": "stdout",
     "output_type": "stream",
     "text": [
      "Epoch  139 , loss 0.39285464227199557\n",
      "Epoch  140 , loss 0.39058094918727876\n"
     ]
    },
    {
     "name": "stderr",
     "output_type": "stream",
     "text": [
      "\r",
      "Iterations:  47%|███████████████▌                 | 141/300 [03:03<03:39,  1.38s/it]"
     ]
    },
    {
     "name": "stdout",
     "output_type": "stream",
     "text": [
      "Epoch:  140\n",
      "t_loss:  0.39058094918727876 , v_loss:  0.6037310212850571\n",
      "t_acc:  0.7257609036711641 , v_acc:  0.7272727272727273\n",
      "t_recall:  0.5622469786063967 , v_recall:  0.5753135223555071\n",
      "t_prec:  0.7476009681114437 , v_prec:  0.6911764705882353\n",
      "t_f:  0.5369753101195796 , v_f:  0.5659673235334274\n",
      "////////\n"
     ]
    },
    {
     "name": "stderr",
     "output_type": "stream",
     "text": [
      "\r",
      "Iterations:  47%|███████████████▌                 | 142/300 [03:04<03:17,  1.25s/it]"
     ]
    },
    {
     "name": "stdout",
     "output_type": "stream",
     "text": [
      "Epoch  141 , loss 0.3944255143404007\n",
      "Epoch  142 , loss 0.39074664294719696\n"
     ]
    },
    {
     "name": "stderr",
     "output_type": "stream",
     "text": [
      "\r",
      "Iterations:  48%|███████████████▋                 | 143/300 [03:06<03:34,  1.37s/it]"
     ]
    },
    {
     "name": "stdout",
     "output_type": "stream",
     "text": [
      "Epoch:  142\n",
      "t_loss:  0.39074664294719696 , v_loss:  0.6095277617375056\n",
      "t_acc:  0.7260746783809225 , v_acc:  0.7219251336898396\n",
      "t_recall:  0.5644933998457952 , v_recall:  0.5663849509269356\n",
      "t_prec:  0.7402957901987048 , v_prec:  0.6779970760233918\n",
      "t_f:  0.5415246144630828 , v_f:  0.5527961736571009\n",
      "////////\n"
     ]
    },
    {
     "name": "stderr",
     "output_type": "stream",
     "text": [
      "\r",
      "Iterations:  48%|███████████████▊                 | 144/300 [03:07<03:22,  1.30s/it]"
     ]
    },
    {
     "name": "stdout",
     "output_type": "stream",
     "text": [
      "Epoch  143 , loss 0.3894150447845459\n",
      "Epoch  144 , loss 0.388852219581604\n"
     ]
    },
    {
     "name": "stderr",
     "output_type": "stream",
     "text": [
      "\r",
      "Iterations:  48%|███████████████▉                 | 145/300 [03:08<03:42,  1.43s/it]"
     ]
    },
    {
     "name": "stdout",
     "output_type": "stream",
     "text": [
      "Epoch:  144\n",
      "t_loss:  0.388852219581604 , v_loss:  0.608010912934939\n",
      "t_acc:  0.7310950737370568 , v_acc:  0.7219251336898396\n",
      "t_recall:  0.5727238525206922 , v_recall:  0.5663849509269356\n",
      "t_prec:  0.7515624949791293 , v_prec:  0.6779970760233918\n",
      "t_f:  0.5546569642942455 , v_f:  0.5527961736571009\n",
      "////////\n"
     ]
    },
    {
     "name": "stderr",
     "output_type": "stream",
     "text": [
      "\r",
      "Iterations:  49%|████████████████                 | 146/300 [03:10<03:27,  1.35s/it]"
     ]
    },
    {
     "name": "stdout",
     "output_type": "stream",
     "text": [
      "Epoch  145 , loss 0.39295171439647675\n",
      "Epoch  146 , loss 0.3895406985282898\n"
     ]
    },
    {
     "name": "stderr",
     "output_type": "stream",
     "text": [
      "\r",
      "Iterations:  49%|████████████████▏                | 147/300 [03:11<03:35,  1.41s/it]"
     ]
    },
    {
     "name": "stdout",
     "output_type": "stream",
     "text": [
      "Epoch:  146\n",
      "t_loss:  0.3895406985282898 , v_loss:  0.6093114117781321\n",
      "t_acc:  0.7307812990272984 , v_acc:  0.7272727272727273\n",
      "t_recall:  0.5722094492285112 , v_recall:  0.5753135223555071\n",
      "t_prec:  0.7508997275802411 , v_prec:  0.6911764705882353\n",
      "t_f:  0.5538453756942495 , v_f:  0.5659673235334274\n",
      "////////\n"
     ]
    },
    {
     "name": "stderr",
     "output_type": "stream",
     "text": [
      "\r",
      "Iterations:  49%|████████████████▎                | 148/300 [03:12<03:22,  1.33s/it]"
     ]
    },
    {
     "name": "stdout",
     "output_type": "stream",
     "text": [
      "Epoch  147 , loss 0.39153058230876925\n",
      "Epoch  148 , loss 0.39031100779771805\n"
     ]
    },
    {
     "name": "stderr",
     "output_type": "stream",
     "text": [
      "\r",
      "Iterations:  50%|████████████████▍                | 149/300 [03:14<03:28,  1.38s/it]"
     ]
    },
    {
     "name": "stdout",
     "output_type": "stream",
     "text": [
      "Epoch:  148\n",
      "t_loss:  0.39031100779771805 , v_loss:  0.608594944079717\n",
      "t_acc:  0.7257609036711641 , v_acc:  0.7272727272727273\n",
      "t_recall:  0.563978996553614 , v_recall:  0.5804252998909487\n",
      "t_prec:  0.7395407276015582 , v_prec:  0.6848370927318296\n",
      "t_f:  0.5406932874263741 , v_f:  0.5747157190635452\n",
      "////////\n"
     ]
    },
    {
     "name": "stderr",
     "output_type": "stream",
     "text": [
      "\r",
      "Iterations:  50%|████████████████▌                | 150/300 [03:15<03:09,  1.26s/it]"
     ]
    },
    {
     "name": "stdout",
     "output_type": "stream",
     "text": [
      "Epoch  149 , loss 0.38729831635951995\n",
      "Epoch  150 , loss 0.39437105059623717\n"
     ]
    },
    {
     "name": "stderr",
     "output_type": "stream",
     "text": [
      "\r",
      "Iterations:  50%|████████████████▌                | 151/300 [03:16<03:25,  1.38s/it]"
     ]
    },
    {
     "name": "stdout",
     "output_type": "stream",
     "text": [
      "Epoch:  150\n",
      "t_loss:  0.39437105059623717 , v_loss:  0.6049576898415884\n",
      "t_acc:  0.7273297772199561 , v_acc:  0.7219251336898396\n",
      "t_recall:  0.5703037185668236 , v_recall:  0.576608505997819\n",
      "t_prec:  0.7289998668627415 , v_prec:  0.6682634730538922\n",
      "t_f:  0.5525051685233495 , v_f:  0.5706464146944543\n",
      "////////\n"
     ]
    },
    {
     "name": "stderr",
     "output_type": "stream",
     "text": [
      "\r",
      "Iterations:  51%|████████████████▋                | 152/300 [03:18<03:13,  1.31s/it]"
     ]
    },
    {
     "name": "stdout",
     "output_type": "stream",
     "text": [
      "Epoch  151 , loss 0.3891804677248001\n",
      "Epoch  152 , loss 0.3923927217721939\n"
     ]
    },
    {
     "name": "stderr",
     "output_type": "stream",
     "text": [
      "\r",
      "Iterations:  51%|████████████████▊                | 153/300 [03:19<03:30,  1.43s/it]"
     ]
    },
    {
     "name": "stdout",
     "output_type": "stream",
     "text": [
      "Epoch:  152\n",
      "t_loss:  0.3923927217721939 , v_loss:  0.6062113593022028\n",
      "t_acc:  0.7317226231565735 , v_acc:  0.7219251336898396\n",
      "t_recall:  0.5734639894471848 , v_recall:  0.576608505997819\n",
      "t_prec:  0.7541227373948027 , v_prec:  0.6682634730538922\n",
      "t_f:  0.5556962712620536 , v_f:  0.5706464146944543\n",
      "////////\n"
     ]
    },
    {
     "name": "stderr",
     "output_type": "stream",
     "text": [
      "\r",
      "Iterations:  51%|████████████████▉                | 154/300 [03:20<03:14,  1.33s/it]"
     ]
    },
    {
     "name": "stdout",
     "output_type": "stream",
     "text": [
      "Epoch  153 , loss 0.39239394903182984\n",
      "Epoch  154 , loss 0.39105718076229096\n"
     ]
    },
    {
     "name": "stderr",
     "output_type": "stream",
     "text": [
      "\r",
      "Iterations:  52%|█████████████████                | 155/300 [03:22<03:28,  1.44s/it]"
     ]
    },
    {
     "name": "stdout",
     "output_type": "stream",
     "text": [
      "Epoch:  154\n",
      "t_loss:  0.39105718076229096 , v_loss:  0.6083380480607351\n",
      "t_acc:  0.7248195795418889 , v_acc:  0.7272727272727273\n",
      "t_recall:  0.5644564742821577 , v_recall:  0.5804252998909487\n",
      "t_prec:  0.7290929291195076 , v_prec:  0.6848370927318296\n",
      "t_f:  0.5424653677261995 , v_f:  0.5747157190635452\n",
      "////////\n"
     ]
    },
    {
     "name": "stderr",
     "output_type": "stream",
     "text": [
      "\r",
      "Iterations:  52%|█████████████████▏               | 156/300 [03:23<03:17,  1.37s/it]"
     ]
    },
    {
     "name": "stdout",
     "output_type": "stream",
     "text": [
      "Epoch  155 , loss 0.3911684846878052\n",
      "Epoch  156 , loss 0.38764384150505066\n"
     ]
    },
    {
     "name": "stderr",
     "output_type": "stream",
     "text": [
      "\r",
      "Iterations:  52%|█████████████████▎               | 157/300 [03:25<03:26,  1.45s/it]"
     ]
    },
    {
     "name": "stdout",
     "output_type": "stream",
     "text": [
      "Epoch:  156\n",
      "t_loss:  0.38764384150505066 , v_loss:  0.6122690836588541\n",
      "t_acc:  0.7317226231565735 , v_acc:  0.732620320855615\n",
      "t_recall:  0.5760620163680109 , v_recall:  0.5842420937840785\n",
      "t_prec:  0.7437194904155257 , v_prec:  0.7031558185404339\n",
      "t_f:  0.5608441817456576 , v_f:  0.5788288288288288\n",
      "////////\n"
     ]
    },
    {
     "name": "stderr",
     "output_type": "stream",
     "text": [
      "\r",
      "Iterations:  53%|█████████████████▍               | 158/300 [03:26<03:06,  1.31s/it]"
     ]
    },
    {
     "name": "stdout",
     "output_type": "stream",
     "text": [
      "Epoch  157 , loss 0.3893142741918564\n",
      "Epoch  158 , loss 0.3901718133687973\n"
     ]
    },
    {
     "name": "stderr",
     "output_type": "stream",
     "text": [
      "\r",
      "Iterations:  53%|█████████████████▍               | 159/300 [03:27<03:16,  1.40s/it]"
     ]
    },
    {
     "name": "stdout",
     "output_type": "stream",
     "text": [
      "Epoch:  158\n",
      "t_loss:  0.3901718133687973 , v_loss:  0.6146024515231451\n",
      "t_acc:  0.7295262001882649 , v_acc:  0.7272727272727273\n",
      "t_recall:  0.5704405057176565 , v_recall:  0.5804252998909487\n",
      "t_prec:  0.7469637803174148 , v_prec:  0.6848370927318296\n",
      "t_f:  0.5511772148093544 , v_f:  0.5747157190635452\n",
      "////////\n"
     ]
    },
    {
     "name": "stderr",
     "output_type": "stream",
     "text": [
      "\r",
      "Iterations:  53%|█████████████████▌               | 160/300 [03:28<02:59,  1.29s/it]"
     ]
    },
    {
     "name": "stdout",
     "output_type": "stream",
     "text": [
      "Epoch  159 , loss 0.39155128121376037\n",
      "Epoch  160 , loss 0.3846335530281067\n"
     ]
    },
    {
     "name": "stderr",
     "output_type": "stream",
     "text": [
      "\r",
      "Iterations:  54%|█████████████████▋               | 161/300 [03:30<03:19,  1.43s/it]"
     ]
    },
    {
     "name": "stdout",
     "output_type": "stream",
     "text": [
      "Epoch:  160\n",
      "t_loss:  0.3846335530281067 , v_loss:  0.6129991908868154\n",
      "t_acc:  0.7339190461248823 , v_acc:  0.7272727272727273\n",
      "t_recall:  0.5759101338609741 , v_recall:  0.5855370774263904\n",
      "t_prec:  0.7637581661373203 , v_prec:  0.6800057372346529\n",
      "t_f:  0.5590453130404704 , v_f:  0.5829725829725829\n",
      "////////\n"
     ]
    },
    {
     "name": "stderr",
     "output_type": "stream",
     "text": [
      "\r",
      "Iterations:  54%|█████████████████▊               | 162/300 [03:31<02:58,  1.29s/it]"
     ]
    },
    {
     "name": "stdout",
     "output_type": "stream",
     "text": [
      "Epoch  161 , loss 0.3925937101244926\n",
      "Epoch  162 , loss 0.38609645545482635\n"
     ]
    },
    {
     "name": "stderr",
     "output_type": "stream",
     "text": [
      "\r",
      "Iterations:  54%|█████████████████▉               | 163/300 [03:33<03:26,  1.51s/it]"
     ]
    },
    {
     "name": "stdout",
     "output_type": "stream",
     "text": [
      "Epoch:  162\n",
      "t_loss:  0.38609645545482635 , v_loss:  0.6171779980262121\n",
      "t_acc:  0.7323501725760904 , v_acc:  0.7272727272727273\n",
      "t_recall:  0.577090822952373 , v_recall:  0.5804252998909487\n",
      "t_prec:  0.7450242256215842 , v_prec:  0.6848370927318296\n",
      "t_f:  0.5624319446405012 , v_f:  0.5747157190635452\n",
      "////////\n"
     ]
    },
    {
     "name": "stderr",
     "output_type": "stream",
     "text": [
      "\r",
      "Iterations:  55%|██████████████████               | 164/300 [03:34<03:09,  1.39s/it]"
     ]
    },
    {
     "name": "stdout",
     "output_type": "stream",
     "text": [
      "Epoch  163 , loss 0.3843822705745697\n",
      "Epoch  164 , loss 0.3829254576563835\n"
     ]
    },
    {
     "name": "stderr",
     "output_type": "stream",
     "text": [
      "\r",
      "Iterations:  55%|██████████████████▏              | 165/300 [03:36<03:20,  1.48s/it]"
     ]
    },
    {
     "name": "stdout",
     "output_type": "stream",
     "text": [
      "Epoch:  164\n",
      "t_loss:  0.3829254576563835 , v_loss:  0.6204680999120077\n",
      "t_acc:  0.7351741449639159 , v_acc:  0.7219251336898396\n",
      "t_recall:  0.5808544436083939 , v_recall:  0.576608505997819\n",
      "t_prec:  0.7539208821984946 , v_prec:  0.6682634730538922\n",
      "t_f:  0.5678769029090652 , v_f:  0.5706464146944543\n",
      "////////\n"
     ]
    },
    {
     "name": "stderr",
     "output_type": "stream",
     "text": [
      "\r",
      "Iterations:  55%|██████████████████▎              | 166/300 [03:37<03:05,  1.39s/it]"
     ]
    },
    {
     "name": "stdout",
     "output_type": "stream",
     "text": [
      "Epoch  165 , loss 0.3788428843021393\n",
      "Epoch  166 , loss 0.3844670230150223\n"
     ]
    },
    {
     "name": "stderr",
     "output_type": "stream",
     "text": [
      "\r",
      "Iterations:  56%|██████████████████▎              | 167/300 [03:39<03:14,  1.46s/it]"
     ]
    },
    {
     "name": "stdout",
     "output_type": "stream",
     "text": [
      "Epoch:  166\n",
      "t_loss:  0.3844670230150223 , v_loss:  0.6229915171861649\n",
      "t_acc:  0.7348603702541575 , v_acc:  0.7272727272727273\n",
      "t_recall:  0.5826493975791693 , v_recall:  0.5855370774263904\n",
      "t_prec:  0.7450391087609133 , v_prec:  0.6800057372346529\n",
      "t_f:  0.5714451670089411 , v_f:  0.5829725829725829\n",
      "////////\n"
     ]
    },
    {
     "name": "stderr",
     "output_type": "stream",
     "text": [
      "\r",
      "Iterations:  56%|██████████████████▍              | 168/300 [03:40<02:53,  1.31s/it]"
     ]
    },
    {
     "name": "stdout",
     "output_type": "stream",
     "text": [
      "Epoch  167 , loss 0.3846405112743378\n",
      "Epoch  168 , loss 0.38390747636556627\n"
     ]
    },
    {
     "name": "stderr",
     "output_type": "stream",
     "text": [
      "\r",
      "Iterations:  56%|██████████████████▌              | 169/300 [03:42<03:08,  1.44s/it]"
     ]
    },
    {
     "name": "stdout",
     "output_type": "stream",
     "text": [
      "Epoch:  168\n",
      "t_loss:  0.38390747636556627 , v_loss:  0.6214252362648646\n",
      "t_acc:  0.7351741449639159 , v_acc:  0.7165775401069518\n",
      "t_recall:  0.5794110953190462 , v_recall:  0.5779034896401308\n",
      "t_prec:  0.7597427950716316 , v_prec:  0.6515111346765641\n",
      "t_f:  0.5650989826869224 , v_f:  0.5747264535507401\n",
      "////////\n"
     ]
    },
    {
     "name": "stderr",
     "output_type": "stream",
     "text": [
      "\r",
      "Iterations:  57%|██████████████████▋              | 170/300 [03:43<02:53,  1.33s/it]"
     ]
    },
    {
     "name": "stdout",
     "output_type": "stream",
     "text": [
      "Epoch  169 , loss 0.3825398036837578\n",
      "Epoch  170 , loss 0.3815936332941055\n"
     ]
    },
    {
     "name": "stderr",
     "output_type": "stream",
     "text": [
      "\r",
      "Iterations:  57%|██████████████████▊              | 171/300 [03:44<03:08,  1.46s/it]"
     ]
    },
    {
     "name": "stdout",
     "output_type": "stream",
     "text": [
      "Epoch:  170\n",
      "t_loss:  0.3815936332941055 , v_loss:  0.6248562236626943\n",
      "t_acc:  0.7364292438029495 , v_acc:  0.732620320855615\n",
      "t_recall:  0.5840667354085964 , v_recall:  0.5893538713195202\n",
      "t_prec:  0.7520484840382569 , v_prec:  0.6962574850299401\n",
      "t_f:  0.5731783535029897 , v_f:  0.587160014129283\n",
      "////////\n"
     ]
    },
    {
     "name": "stderr",
     "output_type": "stream",
     "text": [
      "\r",
      "Iterations:  57%|██████████████████▉              | 172/300 [03:45<02:49,  1.32s/it]"
     ]
    },
    {
     "name": "stdout",
     "output_type": "stream",
     "text": [
      "Epoch  171 , loss 0.37757860600948334\n",
      "Epoch  172 , loss 0.38220645546913146\n"
     ]
    },
    {
     "name": "stderr",
     "output_type": "stream",
     "text": [
      "\r",
      "Iterations:  58%|███████████████████              | 173/300 [03:47<03:05,  1.46s/it]"
     ]
    },
    {
     "name": "stdout",
     "output_type": "stream",
     "text": [
      "Epoch:  172\n",
      "t_loss:  0.38220645546913146 , v_loss:  0.6259298324584961\n",
      "t_acc:  0.7358016943834327 , v_acc:  0.7272727272727273\n",
      "t_recall:  0.5810172412191474 , v_recall:  0.5855370774263904\n",
      "t_prec:  0.7585458873611877 , v_prec:  0.6800057372346529\n",
      "t_f:  0.5677982863033113 , v_f:  0.5829725829725829\n",
      "////////\n"
     ]
    },
    {
     "name": "stderr",
     "output_type": "stream",
     "text": [
      "\r",
      "Iterations:  58%|███████████████████▏             | 174/300 [03:48<02:46,  1.32s/it]"
     ]
    },
    {
     "name": "stdout",
     "output_type": "stream",
     "text": [
      "Epoch  173 , loss 0.38251944959163664\n",
      "Epoch  174 , loss 0.3848143118619919\n"
     ]
    },
    {
     "name": "stderr",
     "output_type": "stream",
     "text": [
      "\r",
      "Iterations:  58%|███████████████████▎             | 175/300 [03:50<03:06,  1.49s/it]"
     ]
    },
    {
     "name": "stdout",
     "output_type": "stream",
     "text": [
      "Epoch:  174\n",
      "t_loss:  0.3848143118619919 , v_loss:  0.6247818619012833\n",
      "t_acc:  0.7373705679322247 , v_acc:  0.7219251336898396\n",
      "t_recall:  0.5856099452851397 , v_recall:  0.5817202835332607\n",
      "t_prec:  0.7538165468616596 , v_prec:  0.6651515151515152\n",
      "t_f:  0.5755024908715782 , v_f:  0.5788288288288289\n",
      "////////\n"
     ]
    },
    {
     "name": "stderr",
     "output_type": "stream",
     "text": [
      "\r",
      "Iterations:  59%|███████████████████▎             | 176/300 [03:51<02:49,  1.37s/it]"
     ]
    },
    {
     "name": "stdout",
     "output_type": "stream",
     "text": [
      "Epoch  175 , loss 0.37858226656913757\n",
      "Epoch  176 , loss 0.3828179603815079\n"
     ]
    },
    {
     "name": "stderr",
     "output_type": "stream",
     "text": [
      "\r",
      "Iterations:  59%|███████████████████▍             | 177/300 [03:53<02:55,  1.43s/it]"
     ]
    },
    {
     "name": "stdout",
     "output_type": "stream",
     "text": [
      "Epoch:  176\n",
      "t_loss:  0.3828179603815079 , v_loss:  0.6279221475124359\n",
      "t_acc:  0.7354879196736743 , v_acc:  0.7219251336898396\n",
      "t_recall:  0.5816575165584446 , v_recall:  0.5817202835332607\n",
      "t_prec:  0.7534264544773107 , v_prec:  0.6651515151515152\n",
      "t_f:  0.5692116931601334 , v_f:  0.5788288288288289\n",
      "////////\n"
     ]
    },
    {
     "name": "stderr",
     "output_type": "stream",
     "text": [
      "\r",
      "Iterations:  59%|███████████████████▌             | 178/300 [03:54<02:41,  1.32s/it]"
     ]
    },
    {
     "name": "stdout",
     "output_type": "stream",
     "text": [
      "Epoch  177 , loss 0.38656627655029296\n",
      "Epoch  178 , loss 0.3796463319659233\n"
     ]
    },
    {
     "name": "stderr",
     "output_type": "stream",
     "text": [
      "\r",
      "Iterations:  60%|███████████████████▋             | 179/300 [03:55<02:47,  1.38s/it]"
     ]
    },
    {
     "name": "stdout",
     "output_type": "stream",
     "text": [
      "Epoch:  178\n",
      "t_loss:  0.3796463319659233 , v_loss:  0.6275864144166311\n",
      "t_acc:  0.740822089739567 , v_acc:  0.7219251336898396\n",
      "t_recall:  0.5912683814991314 , v_recall:  0.5817202835332607\n",
      "t_prec:  0.7600286893164055 , v_prec:  0.6651515151515152\n",
      "t_f:  0.5839399284350542 , v_f:  0.5788288288288289\n",
      "////////\n"
     ]
    },
    {
     "name": "stderr",
     "output_type": "stream",
     "text": [
      "\r",
      "Iterations:  60%|███████████████████▊             | 180/300 [03:56<02:28,  1.23s/it]"
     ]
    },
    {
     "name": "stdout",
     "output_type": "stream",
     "text": [
      "Epoch  179 , loss 0.3783171391487122\n",
      "Epoch  180 , loss 0.38153339326381686\n"
     ]
    },
    {
     "name": "stderr",
     "output_type": "stream",
     "text": [
      "\r",
      "Iterations:  60%|███████████████████▉             | 181/300 [03:58<02:41,  1.36s/it]"
     ]
    },
    {
     "name": "stdout",
     "output_type": "stream",
     "text": [
      "Epoch:  180\n",
      "t_loss:  0.38153339326381686 , v_loss:  0.6295282443364462\n",
      "t_acc:  0.7430185127078758 , v_acc:  0.7219251336898396\n",
      "t_recall:  0.5937145259129206 , v_recall:  0.5817202835332607\n",
      "t_prec:  0.7679453128112509 , v_prec:  0.6651515151515152\n",
      "t_f:  0.5872104415403265 , v_f:  0.5788288288288289\n",
      "////////\n"
     ]
    },
    {
     "name": "stderr",
     "output_type": "stream",
     "text": [
      "\r",
      "Iterations:  61%|████████████████████             | 182/300 [03:59<02:35,  1.31s/it]"
     ]
    },
    {
     "name": "stdout",
     "output_type": "stream",
     "text": [
      "Epoch  181 , loss 0.3823131555318832\n",
      "Epoch  182 , loss 0.376422301530838\n"
     ]
    },
    {
     "name": "stderr",
     "output_type": "stream",
     "text": [
      "\r",
      "Iterations:  61%|████████████████████▏            | 183/300 [04:01<02:45,  1.42s/it]"
     ]
    },
    {
     "name": "stdout",
     "output_type": "stream",
     "text": [
      "Epoch:  182\n",
      "t_loss:  0.376422301530838 , v_loss:  0.6317810614903768\n",
      "t_acc:  0.7449011609664261 , v_acc:  0.7219251336898396\n",
      "t_recall:  0.5976669546396158 , v_recall:  0.5817202835332607\n",
      "t_prec:  0.76788603489175 , v_prec:  0.6651515151515152\n",
      "t_f:  0.5932481252510771 , v_f:  0.5788288288288289\n",
      "////////\n"
     ]
    },
    {
     "name": "stderr",
     "output_type": "stream",
     "text": [
      "\r",
      "Iterations:  61%|████████████████████▏            | 184/300 [04:02<02:32,  1.31s/it]"
     ]
    },
    {
     "name": "stdout",
     "output_type": "stream",
     "text": [
      "Epoch  183 , loss 0.37858965575695036\n",
      "Epoch  184 , loss 0.37801051437854766\n"
     ]
    },
    {
     "name": "stderr",
     "output_type": "stream",
     "text": [
      "\r",
      "Iterations:  62%|████████████████████▎            | 185/300 [04:03<02:38,  1.38s/it]"
     ]
    },
    {
     "name": "stdout",
     "output_type": "stream",
     "text": [
      "Epoch:  184\n",
      "t_loss:  0.37801051437854766 , v_loss:  0.6322093506654104\n",
      "t_acc:  0.7411358644493253 , v_acc:  0.7219251336898396\n",
      "t_recall:  0.5906281061598343 , v_recall:  0.5817202835332607\n",
      "t_prec:  0.764772653256185 , v_prec:  0.6651515151515152\n",
      "t_f:  0.5826330985751165 , v_f:  0.5788288288288289\n",
      "////////\n"
     ]
    },
    {
     "name": "stderr",
     "output_type": "stream",
     "text": [
      "\r",
      "Iterations:  62%|████████████████████▍            | 186/300 [04:04<02:23,  1.26s/it]"
     ]
    },
    {
     "name": "stdout",
     "output_type": "stream",
     "text": [
      "Epoch  185 , loss 0.37418500006198885\n",
      "Epoch  186 , loss 0.37843671649694444\n"
     ]
    },
    {
     "name": "stderr",
     "output_type": "stream",
     "text": [
      "\r",
      "Iterations:  62%|████████████████████▌            | 187/300 [04:06<02:34,  1.37s/it]"
     ]
    },
    {
     "name": "stdout",
     "output_type": "stream",
     "text": [
      "Epoch:  186\n",
      "t_loss:  0.37843671649694444 , v_loss:  0.6346340527137121\n",
      "t_acc:  0.7452149356761845 , v_acc:  0.7219251336898396\n",
      "t_recall:  0.5976040186160577 , v_recall:  0.5817202835332607\n",
      "t_prec:  0.7704546800071044 , v_prec:  0.6651515151515152\n",
      "t_f:  0.5930018520475695 , v_f:  0.5788288288288289\n",
      "////////\n"
     ]
    },
    {
     "name": "stderr",
     "output_type": "stream",
     "text": [
      "\r",
      "Iterations:  63%|████████████████████▋            | 188/300 [04:07<02:17,  1.23s/it]"
     ]
    },
    {
     "name": "stdout",
     "output_type": "stream",
     "text": [
      "Epoch  187 , loss 0.37771116077899936\n",
      "Epoch  188 , loss 0.3792570966482163\n"
     ]
    },
    {
     "name": "stderr",
     "output_type": "stream",
     "text": [
      "\r",
      "Iterations:  63%|████████████████████▊            | 189/300 [04:09<02:33,  1.38s/it]"
     ]
    },
    {
     "name": "stdout",
     "output_type": "stream",
     "text": [
      "Epoch:  188\n",
      "t_loss:  0.3792570966482163 , v_loss:  0.6370417922735214\n",
      "t_acc:  0.7427047379981173 , v_acc:  0.7272727272727273\n",
      "t_recall:  0.5963754888573047 , v_recall:  0.5855370774263904\n",
      "t_prec:  0.7565772064369818 , v_prec:  0.6800057372346529\n",
      "t_f:  0.5919843871975019 , v_f:  0.5829725829725829\n",
      "////////\n"
     ]
    },
    {
     "name": "stderr",
     "output_type": "stream",
     "text": [
      "\r",
      "Iterations:  63%|████████████████████▉            | 190/300 [04:10<02:21,  1.29s/it]"
     ]
    },
    {
     "name": "stdout",
     "output_type": "stream",
     "text": [
      "Epoch  189 , loss 0.37739715933799745\n",
      "Epoch  190 , loss 0.3768418443202972\n"
     ]
    },
    {
     "name": "stderr",
     "output_type": "stream",
     "text": [
      "\r",
      "Iterations:  64%|█████████████████████            | 191/300 [04:11<02:27,  1.36s/it]"
     ]
    },
    {
     "name": "stdout",
     "output_type": "stream",
     "text": [
      "Epoch:  190\n",
      "t_loss:  0.3768418443202972 , v_loss:  0.6354753027359644\n",
      "t_acc:  0.7411358644493253 , v_acc:  0.7165775401069518\n",
      "t_recall:  0.5903394365019647 , v_recall:  0.5779034896401308\n",
      "t_prec:  0.7658681014049391 , v_prec:  0.6515111346765641\n",
      "t_f:  0.5821117061171398 , v_f:  0.5747264535507401\n",
      "////////\n"
     ]
    },
    {
     "name": "stderr",
     "output_type": "stream",
     "text": [
      "\r",
      "Iterations:  64%|█████████████████████            | 192/300 [04:12<02:15,  1.25s/it]"
     ]
    },
    {
     "name": "stdout",
     "output_type": "stream",
     "text": [
      "Epoch  191 , loss 0.3702549254894257\n",
      "Epoch  192 , loss 0.37647909224033355\n"
     ]
    },
    {
     "name": "stderr",
     "output_type": "stream",
     "text": [
      "\r",
      "Iterations:  64%|█████████████████████▏           | 193/300 [04:14<02:24,  1.35s/it]"
     ]
    },
    {
     "name": "stdout",
     "output_type": "stream",
     "text": [
      "Epoch:  192\n",
      "t_loss:  0.37647909224033355 , v_loss:  0.6356485337018967\n",
      "t_acc:  0.7477251333542516 , v_acc:  0.7165775401069518\n",
      "t_recall:  0.6051832808479409 , v_recall:  0.5779034896401308\n",
      "t_prec:  0.7630406703510888 , v_prec:  0.6515111346765641\n",
      "t_f:  0.6047028114432405 , v_f:  0.5747264535507401\n",
      "////////\n"
     ]
    },
    {
     "name": "stderr",
     "output_type": "stream",
     "text": [
      "\r",
      "Iterations:  65%|█████████████████████▎           | 194/300 [04:15<02:13,  1.25s/it]"
     ]
    },
    {
     "name": "stdout",
     "output_type": "stream",
     "text": [
      "Epoch  193 , loss 0.3731330251693726\n",
      "Epoch  194 , loss 0.3738890677690506\n"
     ]
    },
    {
     "name": "stderr",
     "output_type": "stream",
     "text": [
      "\r",
      "Iterations:  65%|█████████████████████▍           | 195/300 [04:16<02:22,  1.36s/it]"
     ]
    },
    {
     "name": "stdout",
     "output_type": "stream",
     "text": [
      "Epoch:  194\n",
      "t_loss:  0.3738890677690506 , v_loss:  0.634220133225123\n",
      "t_acc:  0.7530593034201444 , v_acc:  0.7165775401069518\n",
      "t_recall:  0.6101754312627149 , v_recall:  0.5779034896401308\n",
      "t_prec:  0.7832230078732261 , v_prec:  0.6515111346765641\n",
      "t_f:  0.6109853861027844 , v_f:  0.5747264535507401\n",
      "////////\n"
     ]
    },
    {
     "name": "stderr",
     "output_type": "stream",
     "text": [
      "\r",
      "Iterations:  65%|█████████████████████▌           | 196/300 [04:18<02:18,  1.33s/it]"
     ]
    },
    {
     "name": "stdout",
     "output_type": "stream",
     "text": [
      "Epoch  195 , loss 0.3794217616319656\n",
      "Epoch  196 , loss 0.3736585783958435\n"
     ]
    },
    {
     "name": "stderr",
     "output_type": "stream",
     "text": [
      "\r",
      "Iterations:  66%|█████████████████████▋           | 197/300 [04:19<02:28,  1.44s/it]"
     ]
    },
    {
     "name": "stdout",
     "output_type": "stream",
     "text": [
      "Epoch:  196\n",
      "t_loss:  0.3736585783958435 , v_loss:  0.6355741818745931\n",
      "t_acc:  0.7445873862566678 , v_acc:  0.7219251336898396\n",
      "t_recall:  0.5980185603210434 , v_recall:  0.5817202835332607\n",
      "t_prec:  0.764397453148609 , v_prec:  0.6651515151515152\n",
      "t_f:  0.5939865604254989 , v_f:  0.5788288288288289\n",
      "////////\n"
     ]
    },
    {
     "name": "stderr",
     "output_type": "stream",
     "text": [
      "\r",
      "Iterations:  66%|█████████████████████▊           | 198/300 [04:20<02:18,  1.36s/it]"
     ]
    },
    {
     "name": "stdout",
     "output_type": "stream",
     "text": [
      "Epoch  197 , loss 0.3740775021910667\n",
      "Epoch  198 , loss 0.3744779747724533\n"
     ]
    },
    {
     "name": "stderr",
     "output_type": "stream",
     "text": [
      "\r",
      "Iterations:  66%|█████████████████████▉           | 199/300 [04:22<02:29,  1.48s/it]"
     ]
    },
    {
     "name": "stdout",
     "output_type": "stream",
     "text": [
      "Epoch:  198\n",
      "t_loss:  0.3744779747724533 , v_loss:  0.6387027353048325\n",
      "t_acc:  0.7474113586444933 , v_acc:  0.7165775401069518\n",
      "t_recall:  0.6043802078978904 , v_recall:  0.5779034896401308\n",
      "t_prec:  0.7634133905337928 , v_prec:  0.6515111346765641\n",
      "t_f:  0.6035070486073172 , v_f:  0.5747264535507401\n",
      "////////\n"
     ]
    },
    {
     "name": "stderr",
     "output_type": "stream",
     "text": [
      "\r",
      "Iterations:  67%|██████████████████████           | 200/300 [04:23<02:12,  1.32s/it]"
     ]
    },
    {
     "name": "stdout",
     "output_type": "stream",
     "text": [
      "Epoch  199 , loss 0.3716010212898254\n",
      "Epoch  200 , loss 0.37664149463176727\n"
     ]
    },
    {
     "name": "stderr",
     "output_type": "stream",
     "text": [
      "\r",
      "Iterations:  67%|██████████████████████           | 201/300 [04:25<02:19,  1.40s/it]"
     ]
    },
    {
     "name": "stdout",
     "output_type": "stream",
     "text": [
      "Epoch:  200\n",
      "t_loss:  0.37664149463176727 , v_loss:  0.6423438588778178\n",
      "t_acc:  0.7417634138688421 , v_acc:  0.7219251336898396\n",
      "t_recall:  0.5977189755594571 , v_recall:  0.5817202835332607\n",
      "t_prec:  0.7466031366481469 , v_prec:  0.6651515151515152\n",
      "t_f:  0.5946413677066114 , v_f:  0.5788288288288289\n",
      "////////\n"
     ]
    },
    {
     "name": "stderr",
     "output_type": "stream",
     "text": [
      "\r",
      "Iterations:  67%|██████████████████████▏          | 202/300 [04:26<02:07,  1.30s/it]"
     ]
    },
    {
     "name": "stdout",
     "output_type": "stream",
     "text": [
      "Epoch  201 , loss 0.3759946984052658\n",
      "Epoch  202 , loss 0.37026147812604904\n"
     ]
    },
    {
     "name": "stderr",
     "output_type": "stream",
     "text": [
      "\r",
      "Iterations:  68%|██████████████████████▎          | 203/300 [04:27<02:13,  1.38s/it]"
     ]
    },
    {
     "name": "stdout",
     "output_type": "stream",
     "text": [
      "Epoch:  202\n",
      "t_loss:  0.37026147812604904 , v_loss:  0.6445909986893336\n",
      "t_acc:  0.7496077816128021 , v_acc:  0.7165775401069518\n",
      "t_recall:  0.6071150219695491 , v_recall:  0.5779034896401308\n",
      "t_prec:  0.7694949143193696 , v_prec:  0.6515111346765641\n",
      "t_f:  0.6071878695318553 , v_f:  0.5747264535507401\n",
      "////////\n"
     ]
    },
    {
     "name": "stderr",
     "output_type": "stream",
     "text": [
      "\r",
      "Iterations:  68%|██████████████████████▍          | 204/300 [04:28<02:01,  1.26s/it]"
     ]
    },
    {
     "name": "stdout",
     "output_type": "stream",
     "text": [
      "Epoch  203 , loss 0.37168166786432266\n",
      "Epoch  204 , loss 0.3748922950029373\n"
     ]
    },
    {
     "name": "stderr",
     "output_type": "stream",
     "text": [
      "\r",
      "Iterations:  68%|██████████████████████▌          | 205/300 [04:30<02:14,  1.42s/it]"
     ]
    },
    {
     "name": "stdout",
     "output_type": "stream",
     "text": [
      "Epoch:  204\n",
      "t_loss:  0.3748922950029373 , v_loss:  0.6443633834520975\n",
      "t_acc:  0.7477251333542516 , v_acc:  0.7165775401069518\n",
      "t_recall:  0.6043172718743324 , v_recall:  0.5779034896401308\n",
      "t_prec:  0.7656836302552819 , v_prec:  0.6515111346765641\n",
      "t_f:  0.6032927493869058 , v_f:  0.5747264535507401\n",
      "////////\n"
     ]
    },
    {
     "name": "stderr",
     "output_type": "stream",
     "text": [
      "\r",
      "Iterations:  69%|██████████████████████▋          | 206/300 [04:31<02:01,  1.29s/it]"
     ]
    },
    {
     "name": "stdout",
     "output_type": "stream",
     "text": [
      "Epoch  205 , loss 0.37274113297462463\n",
      "Epoch  206 , loss 0.36566728591918946\n"
     ]
    },
    {
     "name": "stderr",
     "output_type": "stream",
     "text": [
      "\r",
      "Iterations:  69%|██████████████████████▊          | 207/300 [04:33<02:07,  1.37s/it]"
     ]
    },
    {
     "name": "stdout",
     "output_type": "stream",
     "text": [
      "Epoch:  206\n",
      "t_loss:  0.36566728591918946 , v_loss:  0.6447840481996536\n",
      "t_acc:  0.7558832758079699 , v_acc:  0.7165775401069518\n",
      "t_recall:  0.6130730429451272 , v_recall:  0.5779034896401308\n",
      "t_prec:  0.7934170276466037 , v_prec:  0.6515111346765641\n",
      "t_f:  0.6147430487103025 , v_f:  0.5747264535507401\n",
      "////////\n"
     ]
    },
    {
     "name": "stderr",
     "output_type": "stream",
     "text": [
      "\r",
      "Iterations:  69%|██████████████████████▉          | 208/300 [04:34<01:57,  1.28s/it]"
     ]
    },
    {
     "name": "stdout",
     "output_type": "stream",
     "text": [
      "Epoch  207 , loss 0.3739523255825043\n",
      "Epoch  208 , loss 0.3719689434766769\n"
     ]
    },
    {
     "name": "stderr",
     "output_type": "stream",
     "text": [
      "\r",
      "Iterations:  70%|██████████████████████▉          | 209/300 [04:35<02:03,  1.36s/it]"
     ]
    },
    {
     "name": "stdout",
     "output_type": "stream",
     "text": [
      "Epoch:  208\n",
      "t_loss:  0.3719689434766769 , v_loss:  0.6431850343942642\n",
      "t_acc:  0.7483526827737684 , v_acc:  0.7112299465240641\n",
      "t_recall:  0.6053460784586945 , v_recall:  0.5689749182115594\n",
      "t_prec:  0.7666629043598082 , v_prec:  0.6393939393939394\n",
      "t_f:  0.6047500374223255 , v_f:  0.5626299376299375\n",
      "////////\n"
     ]
    },
    {
     "name": "stderr",
     "output_type": "stream",
     "text": [
      "\r",
      "Iterations:  70%|███████████████████████          | 210/300 [04:36<01:51,  1.24s/it]"
     ]
    },
    {
     "name": "stdout",
     "output_type": "stream",
     "text": [
      "Epoch  209 , loss 0.36984588265419005\n",
      "Epoch  210 , loss 0.372079661488533\n"
     ]
    },
    {
     "name": "stderr",
     "output_type": "stream",
     "text": [
      "\r",
      "Iterations:  70%|███████████████████████▏         | 211/300 [04:38<02:01,  1.36s/it]"
     ]
    },
    {
     "name": "stdout",
     "output_type": "stream",
     "text": [
      "Epoch:  210\n",
      "t_loss:  0.372079661488533 , v_loss:  0.6451427539189657\n",
      "t_acc:  0.7489802321932852 , v_acc:  0.7112299465240641\n",
      "t_recall:  0.6063748850430566 , v_recall:  0.5689749182115594\n",
      "t_prec:  0.7676327745940337 , v_prec:  0.6393939393939394\n",
      "t_f:  0.6062033779767972 , v_f:  0.5626299376299375\n",
      "////////\n"
     ]
    },
    {
     "name": "stderr",
     "output_type": "stream",
     "text": [
      "\r",
      "Iterations:  71%|███████████████████████▎         | 212/300 [04:39<01:56,  1.32s/it]"
     ]
    },
    {
     "name": "stdout",
     "output_type": "stream",
     "text": [
      "Epoch  211 , loss 0.37123230546712876\n",
      "Epoch  212 , loss 0.37104045242071154\n"
     ]
    },
    {
     "name": "stderr",
     "output_type": "stream",
     "text": [
      "\r",
      "Iterations:  71%|███████████████████████▍         | 213/300 [04:41<02:03,  1.42s/it]"
     ]
    },
    {
     "name": "stdout",
     "output_type": "stream",
     "text": [
      "Epoch:  212\n",
      "t_loss:  0.37104045242071154 , v_loss:  0.6481270343065262\n",
      "t_acc:  0.7521179792908692 , v_acc:  0.7112299465240641\n",
      "t_recall:  0.6126735965963456 , v_recall:  0.5689749182115594\n",
      "t_prec:  0.7689037624622834 , v_prec:  0.6393939393939394\n",
      "t_f:  0.6152123864158768 , v_f:  0.5626299376299375\n",
      "////////\n"
     ]
    },
    {
     "name": "stderr",
     "output_type": "stream",
     "text": [
      "\r",
      "Iterations:  71%|███████████████████████▌         | 214/300 [04:42<01:55,  1.35s/it]"
     ]
    },
    {
     "name": "stdout",
     "output_type": "stream",
     "text": [
      "Epoch  213 , loss 0.3697381180524826\n",
      "Epoch  214 , loss 0.36658208310604096\n"
     ]
    },
    {
     "name": "stderr",
     "output_type": "stream",
     "text": [
      "\r",
      "Iterations:  72%|███████████████████████▋         | 215/300 [04:44<01:58,  1.40s/it]"
     ]
    },
    {
     "name": "stdout",
     "output_type": "stream",
     "text": [
      "Epoch:  214\n",
      "t_loss:  0.36658208310604096 , v_loss:  0.6522297461827596\n",
      "t_acc:  0.7580796987762787 , v_acc:  0.7112299465240641\n",
      "t_recall:  0.6210039108584381 , v_recall:  0.5689749182115594\n",
      "t_prec:  0.7816202414514762 , v_prec:  0.6393939393939394\n",
      "t_f:  0.6264158344489119 , v_f:  0.5626299376299375\n",
      "////////\n"
     ]
    },
    {
     "name": "stderr",
     "output_type": "stream",
     "text": [
      "\r",
      "Iterations:  72%|███████████████████████▊         | 216/300 [04:45<01:53,  1.35s/it]"
     ]
    },
    {
     "name": "stdout",
     "output_type": "stream",
     "text": [
      "Epoch  215 , loss 0.3663709852099419\n",
      "Epoch  216 , loss 0.3702593815326691\n"
     ]
    },
    {
     "name": "stderr",
     "output_type": "stream",
     "text": [
      "\r",
      "Iterations:  72%|███████████████████████▊         | 217/300 [04:46<01:56,  1.41s/it]"
     ]
    },
    {
     "name": "stdout",
     "output_type": "stream",
     "text": [
      "Epoch:  216\n",
      "t_loss:  0.3702593815326691 , v_loss:  0.651642789443334\n",
      "t_acc:  0.7511766551615939 , v_acc:  0.7112299465240641\n",
      "t_recall:  0.6108417170619328 , v_recall:  0.5689749182115594\n",
      "t_prec:  0.768345286528086 , v_prec:  0.6393939393939394\n",
      "t_f:  0.6126242368143017 , v_f:  0.5626299376299375\n",
      "////////\n"
     ]
    },
    {
     "name": "stderr",
     "output_type": "stream",
     "text": [
      "\r",
      "Iterations:  73%|███████████████████████▉         | 218/300 [04:47<01:45,  1.29s/it]"
     ]
    },
    {
     "name": "stdout",
     "output_type": "stream",
     "text": [
      "Epoch  217 , loss 0.3716914564371109\n",
      "Epoch  218 , loss 0.36874949276447294\n"
     ]
    },
    {
     "name": "stderr",
     "output_type": "stream",
     "text": [
      "\r",
      "Iterations:  73%|████████████████████████         | 219/300 [04:49<01:51,  1.38s/it]"
     ]
    },
    {
     "name": "stdout",
     "output_type": "stream",
     "text": [
      "Epoch:  218\n",
      "t_loss:  0.36874949276447294 , v_loss:  0.65504722793897\n",
      "t_acc:  0.7527455287103859 , v_acc:  0.7112299465240641\n",
      "t_recall:  0.6108157066020121 , v_recall:  0.5689749182115594\n",
      "t_prec:  0.7788056129460488 , v_prec:  0.6393939393939394\n",
      "t_f:  0.6121103273071453 , v_f:  0.5626299376299375\n",
      "////////\n"
     ]
    },
    {
     "name": "stderr",
     "output_type": "stream",
     "text": [
      "\r",
      "Iterations:  73%|████████████████████████▏        | 220/300 [04:50<01:40,  1.26s/it]"
     ]
    },
    {
     "name": "stdout",
     "output_type": "stream",
     "text": [
      "Epoch  219 , loss 0.36534261286258696\n",
      "Epoch  220 , loss 0.36122605472803115\n"
     ]
    },
    {
     "name": "stderr",
     "output_type": "stream",
     "text": [
      "\r",
      "Iterations:  74%|████████████████████████▎        | 221/300 [04:51<01:45,  1.34s/it]"
     ]
    },
    {
     "name": "stdout",
     "output_type": "stream",
     "text": [
      "Epoch:  220\n",
      "t_loss:  0.36122605472803115 , v_loss:  0.6530391474564871\n",
      "t_acc:  0.7558832758079699 , v_acc:  0.7112299465240641\n",
      "t_recall:  0.6168257484974315 , v_recall:  0.5689749182115594\n",
      "t_prec:  0.7804052396878484 , v_prec:  0.6393939393939394\n",
      "t_f:  0.6206161369492438 , v_f:  0.5626299376299375\n",
      "////////\n"
     ]
    },
    {
     "name": "stderr",
     "output_type": "stream",
     "text": [
      "\r",
      "Iterations:  74%|████████████████████████▍        | 222/300 [04:53<01:38,  1.26s/it]"
     ]
    },
    {
     "name": "stdout",
     "output_type": "stream",
     "text": [
      "Epoch  221 , loss 0.3657631075382233\n",
      "Epoch  222 , loss 0.3662003839015961\n"
     ]
    },
    {
     "name": "stderr",
     "output_type": "stream",
     "text": [
      "\r",
      "Iterations:  74%|████████████████████████▌        | 223/300 [04:54<01:44,  1.35s/it]"
     ]
    },
    {
     "name": "stdout",
     "output_type": "stream",
     "text": [
      "Epoch:  222\n",
      "t_loss:  0.3662003839015961 , v_loss:  0.6563749611377716\n",
      "t_acc:  0.7555695010982115 , v_acc:  0.7112299465240641\n",
      "t_recall:  0.6183320328103373 , v_recall:  0.5689749182115594\n",
      "t_prec:  0.7738982959737677 , v_prec:  0.6393939393939394\n",
      "t_f:  0.6229730614230898 , v_f:  0.5626299376299375\n",
      "////////\n"
     ]
    },
    {
     "name": "stderr",
     "output_type": "stream",
     "text": [
      "\r",
      "Iterations:  75%|████████████████████████▋        | 224/300 [04:55<01:42,  1.34s/it]"
     ]
    },
    {
     "name": "stdout",
     "output_type": "stream",
     "text": [
      "Epoch  223 , loss 0.36496196806430814\n",
      "Epoch  224 , loss 0.3645875188708305\n"
     ]
    },
    {
     "name": "stderr",
     "output_type": "stream",
     "text": [
      "\r",
      "Iterations:  75%|████████████████████████▊        | 225/300 [04:57<01:48,  1.44s/it]"
     ]
    },
    {
     "name": "stdout",
     "output_type": "stream",
     "text": [
      "Epoch:  224\n",
      "t_loss:  0.3645875188708305 , v_loss:  0.6568481624126434\n",
      "t_acc:  0.7561970505177282 , v_acc:  0.7112299465240641\n",
      "t_recall:  0.6202268483683081 , v_recall:  0.5689749182115594\n",
      "t_prec:  0.7723599563123039 , v_prec:  0.6393939393939394\n",
      "t_f:  0.6256565148082893 , v_f:  0.5626299376299375\n",
      "////////\n"
     ]
    },
    {
     "name": "stderr",
     "output_type": "stream",
     "text": [
      "\r",
      "Iterations:  75%|████████████████████████▊        | 226/300 [04:58<01:40,  1.35s/it]"
     ]
    },
    {
     "name": "stdout",
     "output_type": "stream",
     "text": [
      "Epoch  225 , loss 0.3630647766590118\n",
      "Epoch  226 , loss 0.3665663236379623\n"
     ]
    },
    {
     "name": "stderr",
     "output_type": "stream",
     "text": [
      "\r",
      "Iterations:  76%|████████████████████████▉        | 227/300 [05:00<01:43,  1.42s/it]"
     ]
    },
    {
     "name": "stdout",
     "output_type": "stream",
     "text": [
      "Epoch:  226\n",
      "t_loss:  0.3665663236379623 , v_loss:  0.6624643603960673\n",
      "t_acc:  0.7558832758079699 , v_acc:  0.7112299465240641\n",
      "t_recall:  0.6174030878131705 , v_recall:  0.5689749182115594\n",
      "t_prec:  0.7786116291681546 , v_prec:  0.6393939393939394\n",
      "t_f:  0.6214968992948613 , v_f:  0.5626299376299375\n",
      "////////\n"
     ]
    },
    {
     "name": "stderr",
     "output_type": "stream",
     "text": [
      "\r",
      "Iterations:  76%|█████████████████████████        | 228/300 [05:01<01:32,  1.28s/it]"
     ]
    },
    {
     "name": "stdout",
     "output_type": "stream",
     "text": [
      "Epoch  227 , loss 0.36461380958557127\n",
      "Epoch  228 , loss 0.36520427346229556\n"
     ]
    },
    {
     "name": "stderr",
     "output_type": "stream",
     "text": [
      "\r",
      "Iterations:  76%|█████████████████████████▏       | 229/300 [05:02<01:39,  1.40s/it]"
     ]
    },
    {
     "name": "stdout",
     "output_type": "stream",
     "text": [
      "Epoch:  228\n",
      "t_loss:  0.36520427346229556 , v_loss:  0.6601827243963877\n",
      "t_acc:  0.7618449952933793 , v_acc:  0.7112299465240641\n",
      "t_recall:  0.6289087683118283 , v_recall:  0.5689749182115594\n",
      "t_prec:  0.7816272273409912 , v_prec:  0.6393939393939394\n",
      "t_f:  0.6372078478660437 , v_f:  0.5626299376299375\n",
      "////////\n"
     ]
    },
    {
     "name": "stderr",
     "output_type": "stream",
     "text": [
      "\r",
      "Iterations:  77%|█████████████████████████▎       | 230/300 [05:03<01:29,  1.28s/it]"
     ]
    },
    {
     "name": "stdout",
     "output_type": "stream",
     "text": [
      "Epoch  229 , loss 0.3602409827709198\n",
      "Epoch  230 , loss 0.35847910642623904\n"
     ]
    },
    {
     "name": "stderr",
     "output_type": "stream",
     "text": [
      "\r",
      "Iterations:  77%|█████████████████████████▍       | 231/300 [05:05<01:36,  1.40s/it]"
     ]
    },
    {
     "name": "stdout",
     "output_type": "stream",
     "text": [
      "Epoch:  230\n",
      "t_loss:  0.35847910642623904 , v_loss:  0.656786322593689\n",
      "t_acc:  0.7565108252274867 , v_acc:  0.7005347593582888\n",
      "t_recall:  0.6161225371345762 , v_recall:  0.5613413304252999\n",
      "t_prec:  0.7869483627348584 , v_prec:  0.6150306748466258\n",
      "t_f:  0.619368978360575 , v_f:  0.5547619047619047\n",
      "////////\n"
     ]
    },
    {
     "name": "stderr",
     "output_type": "stream",
     "text": [
      "\r",
      "Iterations:  77%|█████████████████████████▌       | 232/300 [05:06<01:28,  1.30s/it]"
     ]
    },
    {
     "name": "stdout",
     "output_type": "stream",
     "text": [
      "Epoch  231 , loss 0.3610650470852852\n",
      "Epoch  232 , loss 0.3599807548522949\n"
     ]
    },
    {
     "name": "stderr",
     "output_type": "stream",
     "text": [
      "\r",
      "Iterations:  78%|█████████████████████████▋       | 233/300 [05:08<01:35,  1.42s/it]"
     ]
    },
    {
     "name": "stdout",
     "output_type": "stream",
     "text": [
      "Epoch:  232\n",
      "t_loss:  0.3599807548522949 , v_loss:  0.664492537577947\n",
      "t_acc:  0.7637276435519297 , v_acc:  0.7058823529411765\n",
      "t_recall:  0.6299745004598277 , v_recall:  0.5651581243184296\n",
      "t_prec:  0.7898400989360643 , v_prec:  0.6267232237539766\n",
      "t_f:  0.6384516194349367 , v_f:  0.5586783951941643\n",
      "////////\n"
     ]
    },
    {
     "name": "stderr",
     "output_type": "stream",
     "text": [
      "\r",
      "Iterations:  78%|█████████████████████████▋       | 234/300 [05:09<01:26,  1.31s/it]"
     ]
    },
    {
     "name": "stdout",
     "output_type": "stream",
     "text": [
      "Epoch  233 , loss 0.36104566931724547\n",
      "Epoch  234 , loss 0.3641829484701157\n"
     ]
    },
    {
     "name": "stderr",
     "output_type": "stream",
     "text": [
      "\r",
      "Iterations:  78%|█████████████████████████▊       | 235/300 [05:11<01:37,  1.51s/it]"
     ]
    },
    {
     "name": "stdout",
     "output_type": "stream",
     "text": [
      "Epoch:  234\n",
      "t_loss:  0.3641829484701157 , v_loss:  0.6635745565096537\n",
      "t_acc:  0.7612174458738625 , v_acc:  0.7005347593582888\n",
      "t_recall:  0.627302622411727 , v_recall:  0.5613413304252999\n",
      "t_prec:  0.7824152022800948 , v_prec:  0.6150306748466258\n",
      "t_f:  0.635022865744693 , v_f:  0.5547619047619047\n",
      "////////\n"
     ]
    },
    {
     "name": "stderr",
     "output_type": "stream",
     "text": [
      "\r",
      "Iterations:  79%|█████████████████████████▉       | 236/300 [05:12<01:27,  1.36s/it]"
     ]
    },
    {
     "name": "stdout",
     "output_type": "stream",
     "text": [
      "Epoch  235 , loss 0.3603710648417473\n",
      "Epoch  236 , loss 0.3612691992521286\n"
     ]
    },
    {
     "name": "stderr",
     "output_type": "stream",
     "text": [
      "\r",
      "Iterations:  79%|██████████████████████████       | 237/300 [05:14<01:29,  1.43s/it]"
     ]
    },
    {
     "name": "stdout",
     "output_type": "stream",
     "text": [
      "Epoch:  236\n",
      "t_loss:  0.3612691992521286 , v_loss:  0.6738915145397186\n",
      "t_acc:  0.756824599937245 , v_acc:  0.7005347593582888\n",
      "t_recall:  0.6215443246105399 , v_recall:  0.5613413304252999\n",
      "t_prec:  0.7724582227081056 , v_prec:  0.6150306748466258\n",
      "t_f:  0.6274670686725736 , v_f:  0.5547619047619047\n",
      "////////\n"
     ]
    },
    {
     "name": "stderr",
     "output_type": "stream",
     "text": [
      "\r",
      "Iterations:  79%|██████████████████████████▏      | 238/300 [05:14<01:19,  1.29s/it]"
     ]
    },
    {
     "name": "stdout",
     "output_type": "stream",
     "text": [
      "Epoch  237 , loss 0.3607215446233749\n",
      "Epoch  238 , loss 0.35875174224376677\n"
     ]
    },
    {
     "name": "stderr",
     "output_type": "stream",
     "text": [
      "\r",
      "Iterations:  80%|██████████████████████████▎      | 239/300 [05:16<01:25,  1.40s/it]"
     ]
    },
    {
     "name": "stdout",
     "output_type": "stream",
     "text": [
      "Epoch:  238\n",
      "t_loss:  0.35875174224376677 , v_loss:  0.672781229019165\n",
      "t_acc:  0.7684342641983056 , v_acc:  0.7112299465240641\n",
      "t_recall:  0.6359585318953265 , v_recall:  0.5740866957470011\n",
      "t_prec:  0.8008417352696328 , v_prec:  0.6389314928425358\n",
      "t_f:  0.64625318100601 , v_f:  0.5706632653061224\n",
      "////////\n"
     ]
    },
    {
     "name": "stderr",
     "output_type": "stream",
     "text": [
      "\r",
      "Iterations:  80%|██████████████████████████▍      | 240/300 [05:17<01:16,  1.27s/it]"
     ]
    },
    {
     "name": "stdout",
     "output_type": "stream",
     "text": [
      "Epoch  239 , loss 0.3571578681468964\n",
      "Epoch  240 , loss 0.35836024045944215\n"
     ]
    },
    {
     "name": "stderr",
     "output_type": "stream",
     "text": [
      "\r",
      "Iterations:  80%|██████████████████████████▌      | 241/300 [05:19<01:23,  1.42s/it]"
     ]
    },
    {
     "name": "stdout",
     "output_type": "stream",
     "text": [
      "Epoch:  240\n",
      "t_loss:  0.35836024045944215 , v_loss:  0.6663463612397512\n",
      "t_acc:  0.7634138688421713 , v_acc:  0.7058823529411765\n",
      "t_recall:  0.6309034454569945 , v_recall:  0.5702699018538713\n",
      "t_prec:  0.7852636511965926 , v_prec:  0.627283950617284\n",
      "t_f:  0.6397995587053759 , v_f:  0.5666371718703914\n",
      "////////\n"
     ]
    },
    {
     "name": "stderr",
     "output_type": "stream",
     "text": [
      "\r",
      "Iterations:  81%|██████████████████████████▌      | 242/300 [05:20<01:16,  1.31s/it]"
     ]
    },
    {
     "name": "stdout",
     "output_type": "stream",
     "text": [
      "Epoch  241 , loss 0.3591291046142578\n",
      "Epoch  242 , loss 0.36108415365219115\n"
     ]
    },
    {
     "name": "stderr",
     "output_type": "stream",
     "text": [
      "\r",
      "Iterations:  81%|██████████████████████████▋      | 243/300 [05:21<01:18,  1.38s/it]"
     ]
    },
    {
     "name": "stdout",
     "output_type": "stream",
     "text": [
      "Epoch:  242\n",
      "t_loss:  0.36108415365219115 , v_loss:  0.6670072972774506\n",
      "t_acc:  0.763100094132413 , v_acc:  0.7005347593582888\n",
      "t_recall:  0.6298117028490744 , v_recall:  0.5664531079607416\n",
      "t_prec:  0.7865036309882603 , v_prec:  0.6164596273291926\n",
      "t_f:  0.6383082666362023 , v_f:  0.5626461744069495\n",
      "////////\n"
     ]
    },
    {
     "name": "stderr",
     "output_type": "stream",
     "text": [
      "\r",
      "Iterations:  81%|██████████████████████████▊      | 244/300 [05:22<01:10,  1.27s/it]"
     ]
    },
    {
     "name": "stdout",
     "output_type": "stream",
     "text": [
      "Epoch  243 , loss 0.356974261701107\n",
      "Epoch  244 , loss 0.35459372609853745\n"
     ]
    },
    {
     "name": "stderr",
     "output_type": "stream",
     "text": [
      "\r",
      "Iterations:  82%|██████████████████████████▉      | 245/300 [05:24<01:14,  1.35s/it]"
     ]
    },
    {
     "name": "stdout",
     "output_type": "stream",
     "text": [
      "Epoch:  244\n",
      "t_loss:  0.35459372609853745 , v_loss:  0.6746848225593567\n",
      "t_acc:  0.7712582365861311 , v_acc:  0.7058823529411765\n",
      "t_recall:  0.6446295367351299 , v_recall:  0.5651581243184296\n",
      "t_prec:  0.7925908072675882 , v_prec:  0.6267232237539766\n",
      "t_f:  0.6576336564608132 , v_f:  0.5586783951941643\n",
      "////////\n"
     ]
    },
    {
     "name": "stderr",
     "output_type": "stream",
     "text": [
      "\r",
      "Iterations:  82%|███████████████████████████      | 246/300 [05:25<01:06,  1.22s/it]"
     ]
    },
    {
     "name": "stdout",
     "output_type": "stream",
     "text": [
      "Epoch  245 , loss 0.35891717702150344\n",
      "Epoch  246 , loss 0.35671222805976865\n"
     ]
    },
    {
     "name": "stderr",
     "output_type": "stream",
     "text": [
      "\r",
      "Iterations:  82%|███████████████████████████▏     | 247/300 [05:27<01:13,  1.39s/it]"
     ]
    },
    {
     "name": "stdout",
     "output_type": "stream",
     "text": [
      "Epoch:  246\n",
      "t_loss:  0.35671222805976865 , v_loss:  0.6742747128009796\n",
      "t_acc:  0.7656102918104801 , v_acc:  0.7058823529411765\n",
      "t_recall:  0.6347929381601316 , v_recall:  0.5702699018538713\n",
      "t_prec:  0.7872450040086706 , v_prec:  0.627283950617284\n",
      "t_f:  0.644927928552732 , v_f:  0.5666371718703914\n",
      "////////\n"
     ]
    },
    {
     "name": "stderr",
     "output_type": "stream",
     "text": [
      "\r",
      "Iterations:  83%|███████████████████████████▎     | 248/300 [05:28<01:09,  1.33s/it]"
     ]
    },
    {
     "name": "stdout",
     "output_type": "stream",
     "text": [
      "Epoch  247 , loss 0.35840326339006423\n",
      "Epoch  248 , loss 0.35486003309488295\n"
     ]
    },
    {
     "name": "stderr",
     "output_type": "stream",
     "text": [
      "\r",
      "Iterations:  83%|███████████████████████████▍     | 249/300 [05:30<01:16,  1.50s/it]"
     ]
    },
    {
     "name": "stdout",
     "output_type": "stream",
     "text": [
      "Epoch:  248\n",
      "t_loss:  0.35486003309488295 , v_loss:  0.6735923091570536\n",
      "t_acc:  0.771885786005648 , v_acc:  0.6951871657754011\n",
      "t_recall:  0.6419056377671878 , v_recall:  0.55752453653217\n",
      "t_prec:  0.8038911434709954 , v_prec:  0.6041975308641976\n",
      "t_f:  0.6540508668403966 , v_f:  0.5508785235747693\n",
      "////////\n"
     ]
    },
    {
     "name": "stderr",
     "output_type": "stream",
     "text": [
      "\r",
      "Iterations:  83%|███████████████████████████▌     | 250/300 [05:31<01:12,  1.45s/it]"
     ]
    },
    {
     "name": "stdout",
     "output_type": "stream",
     "text": [
      "Epoch  249 , loss 0.35220212519168853\n",
      "Epoch  250 , loss 0.3511220756173134\n"
     ]
    },
    {
     "name": "stderr",
     "output_type": "stream",
     "text": [
      "\r",
      "Iterations:  84%|███████████████████████████▌     | 251/300 [05:33<01:18,  1.60s/it]"
     ]
    },
    {
     "name": "stdout",
     "output_type": "stream",
     "text": [
      "Epoch:  250\n",
      "t_loss:  0.3511220756173134 , v_loss:  0.6746487319469452\n",
      "t_acc:  0.768748038908064 , v_acc:  0.7005347593582888\n",
      "t_recall:  0.64138031937129 , v_recall:  0.5664531079607416\n",
      "t_prec:  0.7873302056882865 , v_prec:  0.6164596273291926\n",
      "t_f:  0.6535013590313812 , v_f:  0.5626461744069495\n",
      "////////\n"
     ]
    },
    {
     "name": "stderr",
     "output_type": "stream",
     "text": [
      "\r",
      "Iterations:  84%|███████████████████████████▋     | 252/300 [05:34<01:11,  1.49s/it]"
     ]
    },
    {
     "name": "stdout",
     "output_type": "stream",
     "text": [
      "Epoch  251 , loss 0.3531344845890999\n",
      "Epoch  252 , loss 0.3550599867105484\n"
     ]
    },
    {
     "name": "stderr",
     "output_type": "stream",
     "text": [
      "\r",
      "Iterations:  84%|███████████████████████████▊     | 253/300 [05:36<01:13,  1.56s/it]"
     ]
    },
    {
     "name": "stdout",
     "output_type": "stream",
     "text": [
      "Epoch:  252\n",
      "t_loss:  0.3550599867105484 , v_loss:  0.6779593229293823\n",
      "t_acc:  0.7706306871666144 , v_acc:  0.6951871657754011\n",
      "t_recall:  0.6412913728878114 , v_recall:  0.5626363140676118\n",
      "t_prec:  0.7981784694163614 , v_prec:  0.6063657407407407\n",
      "t_f:  0.6533009963460912 , v_f:  0.5586883616941996\n",
      "////////\n"
     ]
    },
    {
     "name": "stderr",
     "output_type": "stream",
     "text": [
      "\r",
      "Iterations:  85%|███████████████████████████▉     | 254/300 [05:37<01:03,  1.38s/it]"
     ]
    },
    {
     "name": "stdout",
     "output_type": "stream",
     "text": [
      "Epoch  253 , loss 0.35331364631652834\n",
      "Epoch  254 , loss 0.35574608683586123\n"
     ]
    },
    {
     "name": "stderr",
     "output_type": "stream",
     "text": [
      "\r",
      "Iterations:  85%|████████████████████████████     | 255/300 [05:39<01:05,  1.45s/it]"
     ]
    },
    {
     "name": "stdout",
     "output_type": "stream",
     "text": [
      "Epoch:  254\n",
      "t_loss:  0.35574608683586123 , v_loss:  0.6798364917437235\n",
      "t_acc:  0.771885786005648 , v_acc:  0.7005347593582888\n",
      "t_recall:  0.6433489860565356 , v_recall:  0.5715648854961832\n",
      "t_prec:  0.7996296224381814 , v_prec:  0.6179245283018868\n",
      "t_f:  0.6559566908690202 , v_f:  0.5701149425287356\n",
      "////////\n"
     ]
    },
    {
     "name": "stderr",
     "output_type": "stream",
     "text": [
      "\r",
      "Iterations:  85%|████████████████████████████▏    | 256/300 [05:40<00:57,  1.30s/it]"
     ]
    },
    {
     "name": "stdout",
     "output_type": "stream",
     "text": [
      "Epoch  255 , loss 0.3543430581688881\n",
      "Epoch  256 , loss 0.3514666536450386\n"
     ]
    },
    {
     "name": "stderr",
     "output_type": "stream",
     "text": [
      "\r",
      "Iterations:  86%|████████████████████████████▎    | 257/300 [05:41<01:00,  1.42s/it]"
     ]
    },
    {
     "name": "stdout",
     "output_type": "stream",
     "text": [
      "Epoch:  256\n",
      "t_loss:  0.3514666536450386 , v_loss:  0.6807608306407928\n",
      "t_acc:  0.7753373078129903 , v_acc:  0.6898395721925134\n",
      "t_recall:  0.6516054491913534 , v_recall:  0.5537077426390403\n",
      "t_prec:  0.7966112707439374 , v_prec:  0.5941232680363115\n",
      "t_f:  0.6664353140392649 , v_f:  0.5470263949214835\n",
      "////////\n"
     ]
    },
    {
     "name": "stderr",
     "output_type": "stream",
     "text": [
      "\r",
      "Iterations:  86%|████████████████████████████▍    | 258/300 [05:42<00:55,  1.33s/it]"
     ]
    },
    {
     "name": "stdout",
     "output_type": "stream",
     "text": [
      "Epoch  257 , loss 0.3573583084344864\n",
      "Epoch  258 , loss 0.35275714635849\n"
     ]
    },
    {
     "name": "stderr",
     "output_type": "stream",
     "text": [
      "\r",
      "Iterations:  86%|████████████████████████████▍    | 259/300 [05:44<00:58,  1.42s/it]"
     ]
    },
    {
     "name": "stdout",
     "output_type": "stream",
     "text": [
      "Epoch:  258\n",
      "t_loss:  0.35275714635849 , v_loss:  0.6783772011597952\n",
      "t_acc:  0.7756510825227486 , v_acc:  0.6951871657754011\n",
      "t_recall:  0.6495218255627084 , v_recall:  0.5626363140676118\n",
      "t_prec:  0.8038763604783976 , v_prec:  0.6063657407407407\n",
      "t_f:  0.6638446020453699 , v_f:  0.5586883616941996\n",
      "////////\n"
     ]
    },
    {
     "name": "stderr",
     "output_type": "stream",
     "text": [
      "\r",
      "Iterations:  87%|████████████████████████████▌    | 260/300 [05:45<00:52,  1.31s/it]"
     ]
    },
    {
     "name": "stdout",
     "output_type": "stream",
     "text": [
      "Epoch  259 , loss 0.35049271732568743\n",
      "Epoch  260 , loss 0.35116986751556395\n"
     ]
    },
    {
     "name": "stderr",
     "output_type": "stream",
     "text": [
      "\r",
      "Iterations:  87%|████████████████████████████▋    | 261/300 [05:47<00:55,  1.42s/it]"
     ]
    },
    {
     "name": "stdout",
     "output_type": "stream",
     "text": [
      "Epoch:  260\n",
      "t_loss:  0.35116986751556395 , v_loss:  0.6835207144419352\n",
      "t_acc:  0.7725133354251648 , v_acc:  0.6898395721925134\n",
      "t_recall:  0.6463984802459847 , v_recall:  0.558819520174482\n",
      "t_prec:  0.7948247381408045 , v_prec:  0.5969227313566936\n",
      "t_f:  0.6598800926721222 , v_f:  0.5547619047619048\n",
      "////////\n"
     ]
    },
    {
     "name": "stderr",
     "output_type": "stream",
     "text": [
      "\r",
      "Iterations:  87%|████████████████████████████▊    | 262/300 [05:48<00:50,  1.33s/it]"
     ]
    },
    {
     "name": "stdout",
     "output_type": "stream",
     "text": [
      "Epoch  261 , loss 0.3489597302675247\n",
      "Epoch  262 , loss 0.3511107841134071\n"
     ]
    },
    {
     "name": "stderr",
     "output_type": "stream",
     "text": [
      "\r",
      "Iterations:  88%|████████████████████████████▉    | 263/300 [05:49<00:51,  1.40s/it]"
     ]
    },
    {
     "name": "stdout",
     "output_type": "stream",
     "text": [
      "Epoch:  262\n",
      "t_loss:  0.3511107841134071 , v_loss:  0.6811784704526266\n",
      "t_acc:  0.7674929400690305 , v_acc:  0.6898395721925134\n",
      "t_recall:  0.6373020185974788 , v_recall:  0.558819520174482\n",
      "t_prec:  0.7911676115880589 , v_prec:  0.5969227313566936\n",
      "t_f:  0.6481696925598381 , v_f:  0.5547619047619048\n",
      "////////\n"
     ]
    },
    {
     "name": "stderr",
     "output_type": "stream",
     "text": [
      "\r",
      "Iterations:  88%|█████████████████████████████    | 264/300 [05:50<00:46,  1.28s/it]"
     ]
    },
    {
     "name": "stdout",
     "output_type": "stream",
     "text": [
      "Epoch  263 , loss 0.3555667164921761\n",
      "Epoch  264 , loss 0.34951370358467104\n"
     ]
    },
    {
     "name": "stderr",
     "output_type": "stream",
     "text": [
      "\r",
      "Iterations:  88%|█████████████████████████████▏   | 265/300 [05:52<00:47,  1.37s/it]"
     ]
    },
    {
     "name": "stdout",
     "output_type": "stream",
     "text": [
      "Epoch:  264\n",
      "t_loss:  0.34951370358467104 , v_loss:  0.6864907642205557\n",
      "t_acc:  0.7778475054910574 , v_acc:  0.6951871657754011\n",
      "t_recall:  0.6548546665551933 , v_recall:  0.55752453653217\n",
      "t_prec:  0.8016541263585334 , v_prec:  0.6041975308641976\n",
      "t_f:  0.6705129283456344 , v_f:  0.5508785235747693\n",
      "////////\n"
     ]
    },
    {
     "name": "stderr",
     "output_type": "stream",
     "text": [
      "\r",
      "Iterations:  89%|█████████████████████████████▎   | 266/300 [05:53<00:42,  1.26s/it]"
     ]
    },
    {
     "name": "stdout",
     "output_type": "stream",
     "text": [
      "Epoch  265 , loss 0.35106153070926666\n",
      "Epoch  266 , loss 0.35565210729837415\n"
     ]
    },
    {
     "name": "stderr",
     "output_type": "stream",
     "text": [
      "\r",
      "Iterations:  89%|█████████████████████████████▎   | 267/300 [05:55<00:46,  1.42s/it]"
     ]
    },
    {
     "name": "stdout",
     "output_type": "stream",
     "text": [
      "Epoch:  266\n",
      "t_loss:  0.35565210729837415 , v_loss:  0.687873512506485\n",
      "t_acc:  0.771885786005648 , v_acc:  0.6951871657754011\n",
      "t_recall:  0.6447923343458833 , v_recall:  0.5626363140676118\n",
      "t_prec:  0.7956235182550973 , v_prec:  0.6063657407407407\n",
      "t_f:  0.6578315256486539 , v_f:  0.5586883616941996\n",
      "////////\n"
     ]
    },
    {
     "name": "stderr",
     "output_type": "stream",
     "text": [
      "\r",
      "Iterations:  89%|█████████████████████████████▍   | 268/300 [05:56<00:42,  1.34s/it]"
     ]
    },
    {
     "name": "stdout",
     "output_type": "stream",
     "text": [
      "Epoch  267 , loss 0.3492566865682602\n",
      "Epoch  268 , loss 0.34810784488916396\n"
     ]
    },
    {
     "name": "stderr",
     "output_type": "stream",
     "text": [
      "\r",
      "Iterations:  90%|█████████████████████████████▌   | 269/300 [05:58<00:44,  1.42s/it]"
     ]
    },
    {
     "name": "stdout",
     "output_type": "stream",
     "text": [
      "Epoch:  268\n",
      "t_loss:  0.34810784488916396 , v_loss:  0.6881700058778127\n",
      "t_acc:  0.7781612802008158 , v_acc:  0.6951871657754011\n",
      "t_recall:  0.6559464091631134 , v_recall:  0.5626363140676118\n",
      "t_prec:  0.8005314244897448 , v_prec:  0.6063657407407407\n",
      "t_f:  0.6718487329482392 , v_f:  0.5586883616941996\n",
      "////////\n"
     ]
    },
    {
     "name": "stderr",
     "output_type": "stream",
     "text": [
      "\r",
      "Iterations:  90%|█████████████████████████████▋   | 270/300 [05:59<00:39,  1.31s/it]"
     ]
    },
    {
     "name": "stdout",
     "output_type": "stream",
     "text": [
      "Epoch  269 , loss 0.3444227313995361\n",
      "Epoch  270 , loss 0.34788509011268615\n"
     ]
    },
    {
     "name": "stderr",
     "output_type": "stream",
     "text": [
      "\r",
      "Iterations:  90%|█████████████████████████████▊   | 271/300 [06:00<00:40,  1.39s/it]"
     ]
    },
    {
     "name": "stdout",
     "output_type": "stream",
     "text": [
      "Epoch:  270\n",
      "t_loss:  0.34788509011268615 , v_loss:  0.6905332803726196\n",
      "t_acc:  0.7721995607154063 , v_acc:  0.6951871657754011\n",
      "t_recall:  0.6467500859274122 , v_recall:  0.5626363140676118\n",
      "t_prec:  0.7922253895259466 , v_prec:  0.6063657407407407\n",
      "t_f:  0.6603267188590032 , v_f:  0.5586883616941996\n",
      "////////\n"
     ]
    },
    {
     "name": "stderr",
     "output_type": "stream",
     "text": [
      "\r",
      "Iterations:  91%|█████████████████████████████▉   | 272/300 [06:01<00:36,  1.29s/it]"
     ]
    },
    {
     "name": "stdout",
     "output_type": "stream",
     "text": [
      "Epoch  271 , loss 0.3460912042856216\n",
      "Epoch  272 , loss 0.34963026255369184\n"
     ]
    },
    {
     "name": "stderr",
     "output_type": "stream",
     "text": [
      "\r",
      "Iterations:  91%|██████████████████████████████   | 273/300 [06:03<00:38,  1.41s/it]"
     ]
    },
    {
     "name": "stdout",
     "output_type": "stream",
     "text": [
      "Epoch:  272\n",
      "t_loss:  0.34963026255369184 , v_loss:  0.6905262370904287\n",
      "t_acc:  0.7728271101349231 , v_acc:  0.6898395721925134\n",
      "t_recall:  0.6457582049066874 , v_recall:  0.5639312977099237\n",
      "t_prec:  0.7982851771093338 , v_prec:  0.5995753715498938\n",
      "t_f:  0.6590581598915317 , v_f:  0.5620962532299743\n",
      "////////\n"
     ]
    },
    {
     "name": "stderr",
     "output_type": "stream",
     "text": [
      "\r",
      "Iterations:  91%|██████████████████████████████▏  | 274/300 [06:04<00:34,  1.31s/it]"
     ]
    },
    {
     "name": "stdout",
     "output_type": "stream",
     "text": [
      "Epoch  273 , loss 0.34704254269599916\n",
      "Epoch  274 , loss 0.33915275514125826\n"
     ]
    },
    {
     "name": "stderr",
     "output_type": "stream",
     "text": [
      "\r",
      "Iterations:  92%|██████████████████████████████▎  | 275/300 [06:06<00:35,  1.43s/it]"
     ]
    },
    {
     "name": "stdout",
     "output_type": "stream",
     "text": [
      "Epoch:  274\n",
      "t_loss:  0.33915275514125826 , v_loss:  0.6981969177722931\n",
      "t_acc:  0.7781612802008158 , v_acc:  0.6951871657754011\n",
      "t_recall:  0.6559464091631134 , v_recall:  0.5626363140676118\n",
      "t_prec:  0.8005314244897448 , v_prec:  0.6063657407407407\n",
      "t_f:  0.6718487329482392 , v_f:  0.5586883616941996\n",
      "////////\n"
     ]
    },
    {
     "name": "stderr",
     "output_type": "stream",
     "text": [
      "\r",
      "Iterations:  92%|██████████████████████████████▎  | 276/300 [06:07<00:31,  1.30s/it]"
     ]
    },
    {
     "name": "stdout",
     "output_type": "stream",
     "text": [
      "Epoch  275 , loss 0.3478098586201668\n",
      "Epoch  276 , loss 0.34828221529722214\n"
     ]
    },
    {
     "name": "stderr",
     "output_type": "stream",
     "text": [
      "\r",
      "Iterations:  92%|██████████████████████████████▍  | 277/300 [06:08<00:32,  1.41s/it]"
     ]
    },
    {
     "name": "stdout",
     "output_type": "stream",
     "text": [
      "Epoch:  276\n",
      "t_loss:  0.34828221529722214 , v_loss:  0.6998442808787028\n",
      "t_acc:  0.7797301537496077 , v_acc:  0.6951871657754011\n",
      "t_recall:  0.6585184256240189 , v_recall:  0.5626363140676118\n",
      "t_prec:  0.802268383453519 , v_prec:  0.6063657407407407\n",
      "t_f:  0.6750268139039535 , v_f:  0.5586883616941996\n",
      "////////\n"
     ]
    },
    {
     "name": "stderr",
     "output_type": "stream",
     "text": [
      "\r",
      "Iterations:  93%|██████████████████████████████▌  | 278/300 [06:10<00:30,  1.39s/it]"
     ]
    },
    {
     "name": "stdout",
     "output_type": "stream",
     "text": [
      "Epoch  277 , loss 0.3435938665270805\n",
      "Epoch  278 , loss 0.3507430252432823\n"
     ]
    },
    {
     "name": "stderr",
     "output_type": "stream",
     "text": [
      "\r",
      "Iterations:  93%|██████████████████████████████▋  | 279/300 [06:11<00:29,  1.42s/it]"
     ]
    },
    {
     "name": "stdout",
     "output_type": "stream",
     "text": [
      "Epoch:  278\n",
      "t_loss:  0.3507430252432823 , v_loss:  0.6923954983552297\n",
      "t_acc:  0.7794163790398494 , v_acc:  0.7005347593582888\n",
      "t_recall:  0.6600247099369246 , v_recall:  0.5766766630316249\n",
      "t_prec:  0.7970618869590409 , v_prec:  0.6194267515923566\n",
      "t_f:  0.6767642623308898 , v_f:  0.5771963824289406\n",
      "////////\n"
     ]
    },
    {
     "name": "stderr",
     "output_type": "stream",
     "text": [
      "\r",
      "Iterations:  93%|██████████████████████████████▊  | 280/300 [06:12<00:26,  1.31s/it]"
     ]
    },
    {
     "name": "stdout",
     "output_type": "stream",
     "text": [
      "Epoch  279 , loss 0.34385640382766725\n",
      "Epoch  280 , loss 0.3465287399291992\n"
     ]
    },
    {
     "name": "stderr",
     "output_type": "stream",
     "text": [
      "\r",
      "Iterations:  94%|██████████████████████████████▉  | 281/300 [06:14<00:26,  1.41s/it]"
     ]
    },
    {
     "name": "stdout",
     "output_type": "stream",
     "text": [
      "Epoch:  280\n",
      "t_loss:  0.3465287399291992 , v_loss:  0.6998633841673533\n",
      "t_acc:  0.7822403514276749 , v_acc:  0.6898395721925134\n",
      "t_recall:  0.6603242946985108 , v_recall:  0.558819520174482\n",
      "t_prec:  0.8109623052516076 , v_prec:  0.5969227313566936\n",
      "t_f:  0.6773708040866577 , v_f:  0.5547619047619048\n",
      "////////\n"
     ]
    },
    {
     "name": "stderr",
     "output_type": "stream",
     "text": [
      "\r",
      "Iterations:  94%|███████████████████████████████  | 282/300 [06:15<00:23,  1.32s/it]"
     ]
    },
    {
     "name": "stdout",
     "output_type": "stream",
     "text": [
      "Epoch  281 , loss 0.34864530265331267\n",
      "Epoch  282 , loss 0.34658370465040206\n"
     ]
    },
    {
     "name": "stderr",
     "output_type": "stream",
     "text": [
      "\r",
      "Iterations:  94%|███████████████████████████████▏ | 283/300 [06:17<00:24,  1.45s/it]"
     ]
    },
    {
     "name": "stdout",
     "output_type": "stream",
     "text": [
      "Epoch:  282\n",
      "t_loss:  0.34658370465040206 , v_loss:  0.6998410622278849\n",
      "t_acc:  0.7809852525886414 , v_acc:  0.7005347593582888\n",
      "t_recall:  0.6582666815297866 , v_recall:  0.5664531079607416\n",
      "t_prec:  0.8096437613249949 , v_prec:  0.6164596273291926\n",
      "t_f:  0.6748210184349258 , v_f:  0.5626461744069495\n",
      "////////\n"
     ]
    },
    {
     "name": "stderr",
     "output_type": "stream",
     "text": [
      "\r",
      "Iterations:  95%|███████████████████████████████▏ | 284/300 [06:18<00:21,  1.37s/it]"
     ]
    },
    {
     "name": "stdout",
     "output_type": "stream",
     "text": [
      "Epoch  283 , loss 0.349094525873661\n",
      "Epoch  284 , loss 0.347467480301857\n"
     ]
    },
    {
     "name": "stderr",
     "output_type": "stream",
     "text": [
      "\r",
      "Iterations:  95%|███████████████████████████████▎ | 285/300 [06:20<00:22,  1.50s/it]"
     ]
    },
    {
     "name": "stdout",
     "output_type": "stream",
     "text": [
      "Epoch:  284\n",
      "t_loss:  0.347467480301857 , v_loss:  0.6953576107819875\n",
      "t_acc:  0.7816128020081582 , v_acc:  0.6951871657754011\n",
      "t_recall:  0.6613161757192356 , v_recall:  0.5677480916030535\n",
      "t_prec:  0.8050409724478951 , v_prec:  0.6084679179397643\n",
      "t_f:  0.6784794890348436 , v_f:  0.5660899653979239\n",
      "////////\n"
     ]
    },
    {
     "name": "stderr",
     "output_type": "stream",
     "text": [
      "\r",
      "Iterations:  95%|███████████████████████████████▍ | 286/300 [06:21<00:18,  1.36s/it]"
     ]
    },
    {
     "name": "stdout",
     "output_type": "stream",
     "text": [
      "Epoch  285 , loss 0.3433785128593445\n",
      "Epoch  286 , loss 0.33840459674596785\n"
     ]
    },
    {
     "name": "stderr",
     "output_type": "stream",
     "text": [
      "\r",
      "Iterations:  96%|███████████████████████████████▌ | 287/300 [06:23<00:19,  1.51s/it]"
     ]
    },
    {
     "name": "stdout",
     "output_type": "stream",
     "text": [
      "Epoch:  286\n",
      "t_loss:  0.33840459674596785 , v_loss:  0.7036900023619334\n",
      "t_acc:  0.7856918732350172 , v_acc:  0.6951871657754011\n",
      "t_recall:  0.66771474885972 , v_recall:  0.5677480916030535\n",
      "t_prec:  0.8100823024063837 , v_prec:  0.6084679179397643\n",
      "t_f:  0.6862851268416537 , v_f:  0.5660899653979239\n",
      "////////\n"
     ]
    },
    {
     "name": "stderr",
     "output_type": "stream",
     "text": [
      "\r",
      "Iterations:  96%|███████████████████████████████▋ | 288/300 [06:24<00:15,  1.32s/it]"
     ]
    },
    {
     "name": "stdout",
     "output_type": "stream",
     "text": [
      "Epoch  287 , loss 0.33646542131900786\n",
      "Epoch  288 , loss 0.34584900468587876\n"
     ]
    },
    {
     "name": "stderr",
     "output_type": "stream",
     "text": [
      "\r",
      "Iterations:  96%|███████████████████████████████▊ | 289/300 [06:25<00:16,  1.48s/it]"
     ]
    },
    {
     "name": "stdout",
     "output_type": "stream",
     "text": [
      "Epoch:  288\n",
      "t_loss:  0.34584900468587876 , v_loss:  0.7080212732156118\n",
      "t_acc:  0.7784750549105742 , v_acc:  0.6844919786096256\n",
      "t_recall:  0.6553061338238163 , v_recall:  0.5550027262813523\n",
      "t_prec:  0.8038515432889692 , v_prec:  0.5880619816673942\n",
      "t_f:  0.6710940387035209 , v_f:  0.5508650519031142\n",
      "////////\n"
     ]
    },
    {
     "name": "stderr",
     "output_type": "stream",
     "text": [
      "\r",
      "Iterations:  97%|███████████████████████████████▉ | 290/300 [06:26<00:13,  1.31s/it]"
     ]
    },
    {
     "name": "stdout",
     "output_type": "stream",
     "text": [
      "Epoch  289 , loss 0.3463903746008873\n",
      "Epoch  290 , loss 0.34203615933656695\n"
     ]
    },
    {
     "name": "stderr",
     "output_type": "stream",
     "text": [
      "\r",
      "Iterations:  97%|████████████████████████████████ | 291/300 [06:28<00:12,  1.41s/it]"
     ]
    },
    {
     "name": "stdout",
     "output_type": "stream",
     "text": [
      "Epoch:  290\n",
      "t_loss:  0.34203615933656695 , v_loss:  0.7026366094748179\n",
      "t_acc:  0.786319422654534 , v_acc:  0.6951871657754011\n",
      "t_recall:  0.6661455285232561 , v_recall:  0.5677480916030535\n",
      "t_prec:  0.8174800969193492 , v_prec:  0.6084679179397643\n",
      "t_f:  0.6845824270161225 , v_f:  0.5660899653979239\n",
      "////////\n"
     ]
    },
    {
     "name": "stderr",
     "output_type": "stream",
     "text": [
      "\r",
      "Iterations:  97%|████████████████████████████████ | 292/300 [06:29<00:10,  1.28s/it]"
     ]
    },
    {
     "name": "stdout",
     "output_type": "stream",
     "text": [
      "Epoch  291 , loss 0.34340122520923616\n",
      "Epoch  292 , loss 0.33834322541952133\n"
     ]
    },
    {
     "name": "stderr",
     "output_type": "stream",
     "text": [
      "\r",
      "Iterations:  98%|████████████████████████████████▏| 293/300 [06:31<00:10,  1.45s/it]"
     ]
    },
    {
     "name": "stdout",
     "output_type": "stream",
     "text": [
      "Epoch:  292\n",
      "t_loss:  0.33834322541952133 , v_loss:  0.7088296810785929\n",
      "t_acc:  0.7834954502667085 , v_acc:  0.6898395721925134\n",
      "t_recall:  0.6623819078672352 , v_recall:  0.5639312977099237\n",
      "t_prec:  0.8122672097323079 , v_prec:  0.5995753715498938\n",
      "t_f:  0.6799082969432314 , v_f:  0.5620962532299743\n",
      "////////\n"
     ]
    },
    {
     "name": "stderr",
     "output_type": "stream",
     "text": [
      "\r",
      "Iterations:  98%|████████████████████████████████▎| 294/300 [06:32<00:07,  1.32s/it]"
     ]
    },
    {
     "name": "stdout",
     "output_type": "stream",
     "text": [
      "Epoch  293 , loss 0.34278737246990204\n",
      "Epoch  294 , loss 0.35499215722084043\n"
     ]
    },
    {
     "name": "stderr",
     "output_type": "stream",
     "text": [
      "\r",
      "Iterations:  98%|████████████████████████████████▍| 295/300 [06:34<00:07,  1.50s/it]"
     ]
    },
    {
     "name": "stdout",
     "output_type": "stream",
     "text": [
      "Epoch:  294\n",
      "t_loss:  0.35499215722084043 , v_loss:  0.6951331297556559\n",
      "t_acc:  0.7728271101349231 , v_acc:  0.6898395721925134\n",
      "t_recall:  0.6474902228539048 , v_recall:  0.558819520174482\n",
      "t_prec:  0.7936992339893414 , v_prec:  0.5969227313566936\n",
      "t_f:  0.6612624579255073 , v_f:  0.5547619047619048\n",
      "////////\n"
     ]
    },
    {
     "name": "stderr",
     "output_type": "stream",
     "text": [
      "\r",
      "Iterations:  99%|████████████████████████████████▌| 296/300 [06:35<00:05,  1.36s/it]"
     ]
    },
    {
     "name": "stdout",
     "output_type": "stream",
     "text": [
      "Epoch  295 , loss 0.34083823531866075\n",
      "Epoch  296 , loss 0.34346245557069777\n"
     ]
    },
    {
     "name": "stderr",
     "output_type": "stream",
     "text": [
      "\r",
      "Iterations:  99%|████████████████████████████████▋| 297/300 [06:36<00:04,  1.42s/it]"
     ]
    },
    {
     "name": "stdout",
     "output_type": "stream",
     "text": [
      "Epoch:  296\n",
      "t_loss:  0.34346245557069777 , v_loss:  0.7009141544500986\n",
      "t_acc:  0.784750549105742 , v_acc:  0.6844919786096256\n",
      "t_recall:  0.6687695659040028 , v_recall:  0.5601145038167938\n",
      "t_prec:  0.802940298607012 , v_prec:  0.5911910669975186\n",
      "t_f:  0.6873223716728297 , v_f:  0.558132083783892\n",
      "////////\n"
     ]
    },
    {
     "name": "stderr",
     "output_type": "stream",
     "text": [
      "\r",
      "Iterations:  99%|████████████████████████████████▊| 298/300 [06:37<00:02,  1.29s/it]"
     ]
    },
    {
     "name": "stdout",
     "output_type": "stream",
     "text": [
      "Epoch  297 , loss 0.3419512975215912\n",
      "Epoch  298 , loss 0.3359916520118713\n"
     ]
    },
    {
     "name": "stderr",
     "output_type": "stream",
     "text": [
      "\r",
      "Iterations: 100%|████████████████████████████████▉| 299/300 [06:39<00:01,  1.39s/it]"
     ]
    },
    {
     "name": "stdout",
     "output_type": "stream",
     "text": [
      "Epoch:  298\n",
      "t_loss:  0.3359916520118713 , v_loss:  0.7063276370366415\n",
      "t_acc:  0.7888296203326012 , v_acc:  0.6844919786096256\n",
      "t_recall:  0.6722814424657916 , v_recall:  0.5601145038167938\n",
      "t_prec:  0.8147324610528459 , v_prec:  0.5911910669975186\n",
      "t_f:  0.6918328597957621 , v_f:  0.558132083783892\n",
      "////////\n"
     ]
    },
    {
     "name": "stderr",
     "output_type": "stream",
     "text": [
      "Iterations: 100%|█████████████████████████████████| 300/300 [06:40<00:00,  1.33s/it]"
     ]
    },
    {
     "name": "stdout",
     "output_type": "stream",
     "text": [
      "Epoch  299 , loss 0.3404938355088234\n"
     ]
    },
    {
     "name": "stderr",
     "output_type": "stream",
     "text": [
      "\n"
     ]
    },
    {
     "name": "stdout",
     "output_type": "stream",
     "text": [
      "115 14\n",
      "\n",
      "c0_acc 0.8778625954198473 , c1_acc 0.25 , b_acc 0.5639312977099237\n"
     ]
    },
    {
     "name": "stderr",
     "output_type": "stream",
     "text": [
      "\r",
      "Iterations:   0%|                                           | 0/300 [00:00<?, ?it/s]"
     ]
    },
    {
     "name": "stdout",
     "output_type": "stream",
     "text": [
      "Epoch  0 , loss 0.719988416222965\n"
     ]
    },
    {
     "name": "stderr",
     "output_type": "stream",
     "text": [
      "\r",
      "Iterations:   0%|                                   | 1/300 [00:01<07:47,  1.57s/it]"
     ]
    },
    {
     "name": "stdout",
     "output_type": "stream",
     "text": [
      "Epoch:  0\n",
      "t_loss:  0.719988416222965 , v_loss:  0.6930893858273824\n",
      "t_acc:  0.4728802992518703 , v_acc:  0.5602409638554217\n",
      "t_recall:  0.49380255898773295 , v_recall:  0.49825571254142687\n",
      "t_prec:  0.494676462437648 , v_prec:  0.4984035759897829\n",
      "t_f:  0.4625384378592442 , v_f:  0.49665628245067506\n",
      "////////\n"
     ]
    },
    {
     "name": "stderr",
     "output_type": "stream",
     "text": [
      "\r",
      "Iterations:   1%|▏                                  | 2/300 [00:02<06:05,  1.23s/it]"
     ]
    },
    {
     "name": "stdout",
     "output_type": "stream",
     "text": [
      "Epoch  1 , loss 0.6669202131383559\n",
      "Epoch  2 , loss 0.62279014377033\n"
     ]
    },
    {
     "name": "stderr",
     "output_type": "stream",
     "text": [
      "\r",
      "Iterations:   1%|▎                                  | 3/300 [00:04<06:49,  1.38s/it]"
     ]
    },
    {
     "name": "stdout",
     "output_type": "stream",
     "text": [
      "Epoch:  2\n",
      "t_loss:  0.62279014377033 , v_loss:  0.6907413005828857\n",
      "t_acc:  0.6278054862842892 , v_acc:  0.7048192771084337\n",
      "t_recall:  0.5024665576936208 , v_recall:  0.5\n",
      "t_prec:  0.5035845313404249 , v_prec:  0.35240963855421686\n",
      "t_f:  0.49170345174625624 , v_f:  0.4134275618374559\n",
      "////////\n"
     ]
    },
    {
     "name": "stderr",
     "output_type": "stream",
     "text": [
      "\r",
      "Iterations:   1%|▍                                  | 4/300 [00:05<06:22,  1.29s/it]"
     ]
    },
    {
     "name": "stdout",
     "output_type": "stream",
     "text": [
      "Epoch  3 , loss 0.5799507668205336\n",
      "Epoch  4 , loss 0.5485693140357149\n"
     ]
    },
    {
     "name": "stderr",
     "output_type": "stream",
     "text": [
      "\r",
      "Iterations:   2%|▌                                  | 5/300 [00:06<06:50,  1.39s/it]"
     ]
    },
    {
     "name": "stdout",
     "output_type": "stream",
     "text": [
      "Epoch:  4\n",
      "t_loss:  0.5485693140357149 , v_loss:  0.6795559326807658\n",
      "t_acc:  0.6854738154613467 , v_acc:  0.7048192771084337\n",
      "t_recall:  0.5027220348722912 , v_recall:  0.5\n",
      "t_prec:  0.5198827120822622 , v_prec:  0.35240963855421686\n",
      "t_f:  0.4362397077456969 , v_f:  0.4134275618374559\n",
      "////////\n"
     ]
    },
    {
     "name": "stderr",
     "output_type": "stream",
     "text": [
      "\r",
      "Iterations:   2%|▋                                  | 6/300 [00:07<06:01,  1.23s/it]"
     ]
    },
    {
     "name": "stdout",
     "output_type": "stream",
     "text": [
      "Epoch  5 , loss 0.5226416085280624\n",
      "Epoch  6 , loss 0.50676808813039\n"
     ]
    },
    {
     "name": "stderr",
     "output_type": "stream",
     "text": [
      "\r",
      "Iterations:   2%|▊                                  | 7/300 [00:09<06:53,  1.41s/it]"
     ]
    },
    {
     "name": "stdout",
     "output_type": "stream",
     "text": [
      "Epoch:  6\n",
      "t_loss:  0.50676808813039 , v_loss:  0.6596858104070028\n",
      "t_acc:  0.6932668329177057 , v_acc:  0.7048192771084337\n",
      "t_recall:  0.5005968771752793 , v_recall:  0.5\n",
      "t_prec:  0.5240105443619002 , v_prec:  0.35240963855421686\n",
      "t_f:  0.41524918863646465 , v_f:  0.4134275618374559\n",
      "////////\n"
     ]
    },
    {
     "name": "stderr",
     "output_type": "stream",
     "text": [
      "\r",
      "Iterations:   3%|▉                                  | 8/300 [00:10<06:46,  1.39s/it]"
     ]
    },
    {
     "name": "stdout",
     "output_type": "stream",
     "text": [
      "Epoch  7 , loss 0.48724301831395017\n",
      "Epoch  8 , loss 0.4746766639690773\n"
     ]
    },
    {
     "name": "stderr",
     "output_type": "stream",
     "text": [
      "\r",
      "Iterations:   3%|█                                  | 9/300 [00:12<07:11,  1.48s/it]"
     ]
    },
    {
     "name": "stdout",
     "output_type": "stream",
     "text": [
      "Epoch:  8\n",
      "t_loss:  0.4746766639690773 , v_loss:  0.6572267512480418\n",
      "t_acc:  0.6942019950124688 , v_acc:  0.7048192771084337\n",
      "t_recall:  0.49955136832660385 , v_recall:  0.5\n",
      "t_prec:  0.3473175296319401 , v_prec:  0.35240963855421686\n",
      "t_f:  0.40975160993560256 , v_f:  0.4134275618374559\n",
      "////////\n"
     ]
    },
    {
     "name": "stderr",
     "output_type": "stream",
     "text": [
      "\r",
      "Iterations:   3%|█▏                                | 10/300 [00:13<06:47,  1.40s/it]"
     ]
    },
    {
     "name": "stdout",
     "output_type": "stream",
     "text": [
      "Epoch  9 , loss 0.46828467530362744\n",
      "Epoch  10 , loss 0.4631680402101255\n"
     ]
    },
    {
     "name": "stderr",
     "output_type": "stream",
     "text": [
      "\r",
      "Iterations:   4%|█▏                                | 11/300 [00:15<06:57,  1.45s/it]"
     ]
    },
    {
     "name": "stdout",
     "output_type": "stream",
     "text": [
      "Epoch:  10\n",
      "t_loss:  0.4631680402101255 , v_loss:  0.6734791894753774\n",
      "t_acc:  0.6948254364089775 , v_acc:  0.7048192771084337\n",
      "t_recall:  0.5 , v_recall:  0.5\n",
      "t_prec:  0.34741271820448877 , v_prec:  0.35240963855421686\n",
      "t_f:  0.4099687327570351 , v_f:  0.4134275618374559\n",
      "////////\n"
     ]
    },
    {
     "name": "stderr",
     "output_type": "stream",
     "text": [
      "\r",
      "Iterations:   4%|█▎                                | 12/300 [00:16<06:33,  1.37s/it]"
     ]
    },
    {
     "name": "stdout",
     "output_type": "stream",
     "text": [
      "Epoch  11 , loss 0.46376435429442164\n",
      "Epoch  12 , loss 0.45553826175484\n"
     ]
    },
    {
     "name": "stderr",
     "output_type": "stream",
     "text": [
      "\r",
      "Iterations:   4%|█▍                                | 13/300 [00:18<06:49,  1.43s/it]"
     ]
    },
    {
     "name": "stdout",
     "output_type": "stream",
     "text": [
      "Epoch:  12\n",
      "t_loss:  0.45553826175484 , v_loss:  0.6855565905570984\n",
      "t_acc:  0.6951371571072319 , v_acc:  0.7048192771084337\n",
      "t_recall:  0.5005107252298263 , v_recall:  0.5\n",
      "t_prec:  0.8475210477081385 , v_prec:  0.35240963855421686\n",
      "t_f:  0.4110645582736406 , v_f:  0.4134275618374559\n",
      "////////\n"
     ]
    },
    {
     "name": "stderr",
     "output_type": "stream",
     "text": [
      "\r",
      "Iterations:   5%|█▌                                | 14/300 [00:19<06:25,  1.35s/it]"
     ]
    },
    {
     "name": "stdout",
     "output_type": "stream",
     "text": [
      "Epoch  13 , loss 0.4617632417117848\n",
      "Epoch  14 , loss 0.4600316519830741\n"
     ]
    },
    {
     "name": "stderr",
     "output_type": "stream",
     "text": [
      "\r",
      "Iterations:   5%|█▋                                | 15/300 [00:20<06:49,  1.44s/it]"
     ]
    },
    {
     "name": "stdout",
     "output_type": "stream",
     "text": [
      "Epoch:  14\n",
      "t_loss:  0.4600316519830741 , v_loss:  0.6926951110363007\n",
      "t_acc:  0.6948254364089775 , v_acc:  0.7048192771084337\n",
      "t_recall:  0.5 , v_recall:  0.5\n",
      "t_prec:  0.34741271820448877 , v_prec:  0.35240963855421686\n",
      "t_f:  0.4099687327570351 , v_f:  0.4134275618374559\n",
      "////////\n"
     ]
    },
    {
     "name": "stderr",
     "output_type": "stream",
     "text": [
      "\r",
      "Iterations:   5%|█▊                                | 16/300 [00:22<06:24,  1.35s/it]"
     ]
    },
    {
     "name": "stdout",
     "output_type": "stream",
     "text": [
      "Epoch  15 , loss 0.4546201293374978\n",
      "Epoch  16 , loss 0.4531638429445379\n"
     ]
    },
    {
     "name": "stderr",
     "output_type": "stream",
     "text": [
      "\r",
      "Iterations:   6%|█▉                                | 17/300 [00:23<06:43,  1.43s/it]"
     ]
    },
    {
     "name": "stdout",
     "output_type": "stream",
     "text": [
      "Epoch:  16\n",
      "t_loss:  0.4531638429445379 , v_loss:  0.69907479484876\n",
      "t_acc:  0.6948254364089775 , v_acc:  0.7048192771084337\n",
      "t_recall:  0.5 , v_recall:  0.5\n",
      "t_prec:  0.34741271820448877 , v_prec:  0.35240963855421686\n",
      "t_f:  0.4099687327570351 , v_f:  0.4134275618374559\n",
      "////////\n"
     ]
    },
    {
     "name": "stderr",
     "output_type": "stream",
     "text": [
      "\r",
      "Iterations:   6%|██                                | 18/300 [00:24<06:03,  1.29s/it]"
     ]
    },
    {
     "name": "stdout",
     "output_type": "stream",
     "text": [
      "Epoch  17 , loss 0.4551319246198617\n",
      "Epoch  18 , loss 0.4538803953750461\n"
     ]
    },
    {
     "name": "stderr",
     "output_type": "stream",
     "text": [
      "\r",
      "Iterations:   6%|██▏                               | 19/300 [00:26<06:56,  1.48s/it]"
     ]
    },
    {
     "name": "stdout",
     "output_type": "stream",
     "text": [
      "Epoch:  18\n",
      "t_loss:  0.4538803953750461 , v_loss:  0.7067918926477432\n",
      "t_acc:  0.6948254364089775 , v_acc:  0.7048192771084337\n",
      "t_recall:  0.5 , v_recall:  0.5\n",
      "t_prec:  0.34741271820448877 , v_prec:  0.35240963855421686\n",
      "t_f:  0.4099687327570351 , v_f:  0.4134275618374559\n",
      "////////\n"
     ]
    },
    {
     "name": "stderr",
     "output_type": "stream",
     "text": [
      "\r",
      "Iterations:   7%|██▎                               | 20/300 [00:27<06:22,  1.37s/it]"
     ]
    },
    {
     "name": "stdout",
     "output_type": "stream",
     "text": [
      "Epoch  19 , loss 0.44871511237294065\n",
      "Epoch  20 , loss 0.4504399036659914\n"
     ]
    },
    {
     "name": "stderr",
     "output_type": "stream",
     "text": [
      "\r",
      "Iterations:   7%|██▍                               | 21/300 [00:29<06:55,  1.49s/it]"
     ]
    },
    {
     "name": "stdout",
     "output_type": "stream",
     "text": [
      "Epoch:  20\n",
      "t_loss:  0.4504399036659914 , v_loss:  0.6978670756022135\n",
      "t_acc:  0.6948254364089775 , v_acc:  0.7048192771084337\n",
      "t_recall:  0.5 , v_recall:  0.5\n",
      "t_prec:  0.34741271820448877 , v_prec:  0.35240963855421686\n",
      "t_f:  0.4099687327570351 , v_f:  0.4134275618374559\n",
      "////////\n"
     ]
    },
    {
     "name": "stderr",
     "output_type": "stream",
     "text": [
      "\r",
      "Iterations:   7%|██▍                               | 22/300 [00:30<06:20,  1.37s/it]"
     ]
    },
    {
     "name": "stdout",
     "output_type": "stream",
     "text": [
      "Epoch  21 , loss 0.4528073037371916\n",
      "Epoch  22 , loss 0.4540535153127184\n"
     ]
    },
    {
     "name": "stderr",
     "output_type": "stream",
     "text": [
      "\r",
      "Iterations:   8%|██▌                               | 23/300 [00:32<06:39,  1.44s/it]"
     ]
    },
    {
     "name": "stdout",
     "output_type": "stream",
     "text": [
      "Epoch:  22\n",
      "t_loss:  0.4540535153127184 , v_loss:  0.6961187521616617\n",
      "t_acc:  0.6948254364089775 , v_acc:  0.7048192771084337\n",
      "t_recall:  0.5 , v_recall:  0.5\n",
      "t_prec:  0.34741271820448877 , v_prec:  0.35240963855421686\n",
      "t_f:  0.4099687327570351 , v_f:  0.4134275618374559\n",
      "////////\n"
     ]
    },
    {
     "name": "stderr",
     "output_type": "stream",
     "text": [
      "\r",
      "Iterations:   8%|██▋                               | 24/300 [00:33<06:04,  1.32s/it]"
     ]
    },
    {
     "name": "stdout",
     "output_type": "stream",
     "text": [
      "Epoch  23 , loss 0.45076900428416683\n",
      "Epoch  24 , loss 0.4516092568051581\n"
     ]
    },
    {
     "name": "stderr",
     "output_type": "stream",
     "text": [
      "\r",
      "Iterations:   8%|██▊                               | 25/300 [00:34<06:35,  1.44s/it]"
     ]
    },
    {
     "name": "stdout",
     "output_type": "stream",
     "text": [
      "Epoch:  24\n",
      "t_loss:  0.4516092568051581 , v_loss:  0.701081395149231\n",
      "t_acc:  0.6948254364089775 , v_acc:  0.7048192771084337\n",
      "t_recall:  0.5 , v_recall:  0.5\n",
      "t_prec:  0.34741271820448877 , v_prec:  0.35240963855421686\n",
      "t_f:  0.4099687327570351 , v_f:  0.4134275618374559\n",
      "////////\n"
     ]
    },
    {
     "name": "stderr",
     "output_type": "stream",
     "text": [
      "\r",
      "Iterations:   9%|██▉                               | 26/300 [00:35<05:53,  1.29s/it]"
     ]
    },
    {
     "name": "stdout",
     "output_type": "stream",
     "text": [
      "Epoch  25 , loss 0.4554784747899747\n",
      "Epoch  26 , loss 0.45068801092166527\n"
     ]
    },
    {
     "name": "stderr",
     "output_type": "stream",
     "text": [
      "\r",
      "Iterations:   9%|███                               | 27/300 [00:37<06:21,  1.40s/it]"
     ]
    },
    {
     "name": "stdout",
     "output_type": "stream",
     "text": [
      "Epoch:  26\n",
      "t_loss:  0.45068801092166527 , v_loss:  0.6970975597699484\n",
      "t_acc:  0.6948254364089775 , v_acc:  0.7048192771084337\n",
      "t_recall:  0.5 , v_recall:  0.5\n",
      "t_prec:  0.34741271820448877 , v_prec:  0.35240963855421686\n",
      "t_f:  0.4099687327570351 , v_f:  0.4134275618374559\n",
      "////////\n"
     ]
    },
    {
     "name": "stderr",
     "output_type": "stream",
     "text": [
      "\r",
      "Iterations:   9%|███▏                              | 28/300 [00:38<05:44,  1.27s/it]"
     ]
    },
    {
     "name": "stdout",
     "output_type": "stream",
     "text": [
      "Epoch  27 , loss 0.4476923440016952\n",
      "Epoch  28 , loss 0.44883222556581687\n"
     ]
    },
    {
     "name": "stderr",
     "output_type": "stream",
     "text": [
      "\r",
      "Iterations:  10%|███▎                              | 29/300 [00:40<06:28,  1.43s/it]"
     ]
    },
    {
     "name": "stdout",
     "output_type": "stream",
     "text": [
      "Epoch:  28\n",
      "t_loss:  0.44883222556581687 , v_loss:  0.6980582276980082\n",
      "t_acc:  0.6948254364089775 , v_acc:  0.7048192771084337\n",
      "t_recall:  0.5 , v_recall:  0.5\n",
      "t_prec:  0.34741271820448877 , v_prec:  0.35240963855421686\n",
      "t_f:  0.4099687327570351 , v_f:  0.4134275618374559\n",
      "////////\n"
     ]
    },
    {
     "name": "stderr",
     "output_type": "stream",
     "text": [
      "\r",
      "Iterations:  10%|███▍                              | 30/300 [00:41<05:57,  1.33s/it]"
     ]
    },
    {
     "name": "stdout",
     "output_type": "stream",
     "text": [
      "Epoch  29 , loss 0.4431939271150851\n",
      "Epoch  30 , loss 0.4462780800520205\n"
     ]
    },
    {
     "name": "stderr",
     "output_type": "stream",
     "text": [
      "\r",
      "Iterations:  10%|███▌                              | 31/300 [00:43<06:25,  1.43s/it]"
     ]
    },
    {
     "name": "stdout",
     "output_type": "stream",
     "text": [
      "Epoch:  30\n",
      "t_loss:  0.4462780800520205 , v_loss:  0.7029993931452433\n",
      "t_acc:  0.6948254364089775 , v_acc:  0.7048192771084337\n",
      "t_recall:  0.5 , v_recall:  0.5\n",
      "t_prec:  0.34741271820448877 , v_prec:  0.35240963855421686\n",
      "t_f:  0.4099687327570351 , v_f:  0.4134275618374559\n",
      "////////\n"
     ]
    },
    {
     "name": "stderr",
     "output_type": "stream",
     "text": [
      "\r",
      "Iterations:  11%|███▋                              | 32/300 [00:44<06:13,  1.39s/it]"
     ]
    },
    {
     "name": "stdout",
     "output_type": "stream",
     "text": [
      "Epoch  31 , loss 0.4470137720014535\n",
      "Epoch  32 , loss 0.4417172904108085\n"
     ]
    },
    {
     "name": "stderr",
     "output_type": "stream",
     "text": [
      "\r",
      "Iterations:  11%|███▋                              | 33/300 [00:46<06:42,  1.51s/it]"
     ]
    },
    {
     "name": "stdout",
     "output_type": "stream",
     "text": [
      "Epoch:  32\n",
      "t_loss:  0.4417172904108085 , v_loss:  0.7069509923458099\n",
      "t_acc:  0.6948254364089775 , v_acc:  0.7048192771084337\n",
      "t_recall:  0.5 , v_recall:  0.5\n",
      "t_prec:  0.34741271820448877 , v_prec:  0.35240963855421686\n",
      "t_f:  0.4099687327570351 , v_f:  0.4134275618374559\n",
      "////////\n"
     ]
    },
    {
     "name": "stderr",
     "output_type": "stream",
     "text": [
      "\r",
      "Iterations:  11%|███▊                              | 34/300 [00:47<06:00,  1.36s/it]"
     ]
    },
    {
     "name": "stdout",
     "output_type": "stream",
     "text": [
      "Epoch  33 , loss 0.4448600317917618\n",
      "Epoch  34 , loss 0.4459041993992001\n"
     ]
    },
    {
     "name": "stderr",
     "output_type": "stream",
     "text": [
      "\r",
      "Iterations:  12%|███▉                              | 35/300 [00:48<06:33,  1.48s/it]"
     ]
    },
    {
     "name": "stdout",
     "output_type": "stream",
     "text": [
      "Epoch:  34\n",
      "t_loss:  0.4459041993992001 , v_loss:  0.7091165632009506\n",
      "t_acc:  0.6948254364089775 , v_acc:  0.7048192771084337\n",
      "t_recall:  0.5 , v_recall:  0.5\n",
      "t_prec:  0.34741271820448877 , v_prec:  0.35240963855421686\n",
      "t_f:  0.4099687327570351 , v_f:  0.4134275618374559\n",
      "////////\n"
     ]
    },
    {
     "name": "stderr",
     "output_type": "stream",
     "text": [
      "\r",
      "Iterations:  12%|████                              | 36/300 [00:49<05:55,  1.35s/it]"
     ]
    },
    {
     "name": "stdout",
     "output_type": "stream",
     "text": [
      "Epoch  35 , loss 0.4426537816431008\n",
      "Epoch  36 , loss 0.4421633277453628\n"
     ]
    },
    {
     "name": "stderr",
     "output_type": "stream",
     "text": [
      "\r",
      "Iterations:  12%|████▏                             | 37/300 [00:51<06:33,  1.50s/it]"
     ]
    },
    {
     "name": "stdout",
     "output_type": "stream",
     "text": [
      "Epoch:  36\n",
      "t_loss:  0.4421633277453628 , v_loss:  0.7205862353245417\n",
      "t_acc:  0.6945137157107232 , v_acc:  0.7048192771084337\n",
      "t_recall:  0.4997756841633019 , v_recall:  0.5\n",
      "t_prec:  0.34736513875896474 , v_prec:  0.35240963855421686\n",
      "t_f:  0.4098601913171449 , v_f:  0.4134275618374559\n",
      "////////\n"
     ]
    },
    {
     "name": "stderr",
     "output_type": "stream",
     "text": [
      "\r",
      "Iterations:  13%|████▎                             | 38/300 [00:52<05:59,  1.37s/it]"
     ]
    },
    {
     "name": "stdout",
     "output_type": "stream",
     "text": [
      "Epoch  37 , loss 0.44403911455004824\n",
      "Epoch  38 , loss 0.4396434473056419\n"
     ]
    },
    {
     "name": "stderr",
     "output_type": "stream",
     "text": [
      "\r",
      "Iterations:  13%|████▍                             | 39/300 [00:54<06:12,  1.43s/it]"
     ]
    },
    {
     "name": "stdout",
     "output_type": "stream",
     "text": [
      "Epoch:  38\n",
      "t_loss:  0.4396434473056419 , v_loss:  0.7149884055058161\n",
      "t_acc:  0.6951371571072319 , v_acc:  0.7048192771084337\n",
      "t_recall:  0.5007971346229546 , v_recall:  0.5\n",
      "t_prec:  0.6809152366094644 , v_prec:  0.35240963855421686\n",
      "t_f:  0.4120477014677893 , v_f:  0.4134275618374559\n",
      "////////\n"
     ]
    },
    {
     "name": "stderr",
     "output_type": "stream",
     "text": [
      "\r",
      "Iterations:  13%|████▌                             | 40/300 [00:55<05:36,  1.29s/it]"
     ]
    },
    {
     "name": "stdout",
     "output_type": "stream",
     "text": [
      "Epoch  39 , loss 0.4372148940376207\n",
      "Epoch  40 , loss 0.43541640598399967\n"
     ]
    },
    {
     "name": "stderr",
     "output_type": "stream",
     "text": [
      "\r",
      "Iterations:  14%|████▋                             | 41/300 [00:57<06:12,  1.44s/it]"
     ]
    },
    {
     "name": "stdout",
     "output_type": "stream",
     "text": [
      "Epoch:  40\n",
      "t_loss:  0.43541640598399967 , v_loss:  0.716353585322698\n",
      "t_acc:  0.6951371571072319 , v_acc:  0.7048192771084337\n",
      "t_recall:  0.5007971346229546 , v_recall:  0.5\n",
      "t_prec:  0.6809152366094644 , v_prec:  0.35240963855421686\n",
      "t_f:  0.4120477014677893 , v_f:  0.4134275618374559\n",
      "////////\n"
     ]
    },
    {
     "name": "stderr",
     "output_type": "stream",
     "text": [
      "\r",
      "Iterations:  14%|████▊                             | 42/300 [00:58<05:35,  1.30s/it]"
     ]
    },
    {
     "name": "stdout",
     "output_type": "stream",
     "text": [
      "Epoch  41 , loss 0.44044333053570167\n",
      "Epoch  42 , loss 0.4343709302883522\n"
     ]
    },
    {
     "name": "stderr",
     "output_type": "stream",
     "text": [
      "\r",
      "Iterations:  14%|████▊                             | 43/300 [00:59<06:08,  1.43s/it]"
     ]
    },
    {
     "name": "stdout",
     "output_type": "stream",
     "text": [
      "Epoch:  42\n",
      "t_loss:  0.4343709302883522 , v_loss:  0.7127648343642553\n",
      "t_acc:  0.6951371571072319 , v_acc:  0.6987951807228916\n",
      "t_recall:  0.5019427721954678 , v_recall:  0.49572649572649574\n",
      "t_prec:  0.6205533596837944 , v_prec:  0.3515151515151515\n",
      "t_f:  0.4159389694959175 , v_f:  0.41134751773049644\n",
      "////////\n"
     ]
    },
    {
     "name": "stderr",
     "output_type": "stream",
     "text": [
      "\r",
      "Iterations:  15%|████▉                             | 44/300 [01:00<05:35,  1.31s/it]"
     ]
    },
    {
     "name": "stdout",
     "output_type": "stream",
     "text": [
      "Epoch  43 , loss 0.4339546572928335\n",
      "Epoch  44 , loss 0.4389422693673302\n"
     ]
    },
    {
     "name": "stderr",
     "output_type": "stream",
     "text": [
      "\r",
      "Iterations:  15%|█████                             | 45/300 [01:02<05:50,  1.38s/it]"
     ]
    },
    {
     "name": "stdout",
     "output_type": "stream",
     "text": [
      "Epoch:  44\n",
      "t_loss:  0.4389422693673302 , v_loss:  0.7206194301446279\n",
      "t_acc:  0.6954488778054863 , v_acc:  0.6987951807228916\n",
      "t_recall:  0.5015942692459092 , v_recall:  0.49572649572649574\n",
      "t_prec:  0.6810847387049761 , v_prec:  0.3515151515151515\n",
      "t_f:  0.4141143108700102 , v_f:  0.41134751773049644\n",
      "////////\n"
     ]
    },
    {
     "name": "stderr",
     "output_type": "stream",
     "text": [
      "\r",
      "Iterations:  15%|█████▏                            | 46/300 [01:03<05:33,  1.31s/it]"
     ]
    },
    {
     "name": "stdout",
     "output_type": "stream",
     "text": [
      "Epoch  45 , loss 0.4347841009205463\n",
      "Epoch  46 , loss 0.4299449610943888\n"
     ]
    },
    {
     "name": "stderr",
     "output_type": "stream",
     "text": [
      "\r",
      "Iterations:  16%|█████▎                            | 47/300 [01:05<05:45,  1.36s/it]"
     ]
    },
    {
     "name": "stdout",
     "output_type": "stream",
     "text": [
      "Epoch:  46\n",
      "t_loss:  0.4299449610943888 , v_loss:  0.7219628840684891\n",
      "t_acc:  0.6973192019950125 , v_acc:  0.6987951807228916\n",
      "t_recall:  0.5052314394111239 , v_recall:  0.49572649572649574\n",
      "t_prec:  0.7235275689223057 , v_prec:  0.3515151515151515\n",
      "t_f:  0.422501179574315 , v_f:  0.41134751773049644\n",
      "////////\n"
     ]
    },
    {
     "name": "stderr",
     "output_type": "stream",
     "text": [
      "\r",
      "Iterations:  16%|█████▍                            | 48/300 [01:05<05:09,  1.23s/it]"
     ]
    },
    {
     "name": "stdout",
     "output_type": "stream",
     "text": [
      "Epoch  47 , loss 0.42742279113507736\n",
      "Epoch  48 , loss 0.4253210445829466\n"
     ]
    },
    {
     "name": "stderr",
     "output_type": "stream",
     "text": [
      "\r",
      "Iterations:  16%|█████▌                            | 49/300 [01:07<05:31,  1.32s/it]"
     ]
    },
    {
     "name": "stdout",
     "output_type": "stream",
     "text": [
      "Epoch:  48\n",
      "t_loss:  0.4253210445829466 , v_loss:  0.7282186994949976\n",
      "t_acc:  0.6976309226932669 , v_acc:  0.6987951807228916\n",
      "t_recall:  0.5051693458546938 , v_recall:  0.49572649572649574\n",
      "t_prec:  0.7715902251113519 , v_prec:  0.3515151515151515\n",
      "t_f:  0.42167130554762594 , v_f:  0.41134751773049644\n",
      "////////\n"
     ]
    },
    {
     "name": "stderr",
     "output_type": "stream",
     "text": [
      "\r",
      "Iterations:  17%|█████▋                            | 50/300 [01:08<05:11,  1.24s/it]"
     ]
    },
    {
     "name": "stdout",
     "output_type": "stream",
     "text": [
      "Epoch  49 , loss 0.42649561400507013\n",
      "Epoch  50 , loss 0.4232358032581853\n"
     ]
    },
    {
     "name": "stderr",
     "output_type": "stream",
     "text": [
      "\r",
      "Iterations:  17%|█████▊                            | 51/300 [01:10<05:36,  1.35s/it]"
     ]
    },
    {
     "name": "stdout",
     "output_type": "stream",
     "text": [
      "Epoch:  50\n",
      "t_loss:  0.4232358032581853 , v_loss:  0.734018494685491\n",
      "t_acc:  0.6951371571072319 , v_acc:  0.6987951807228916\n",
      "t_recall:  0.5028020003748527 , v_recall:  0.49572649572649574\n",
      "t_prec:  0.6127159105572658 , v_prec:  0.3515151515151515\n",
      "t_f:  0.4188147423642911 , v_f:  0.41134751773049644\n",
      "////////\n"
     ]
    },
    {
     "name": "stderr",
     "output_type": "stream",
     "text": [
      "\r",
      "Iterations:  17%|█████▉                            | 52/300 [01:11<05:25,  1.31s/it]"
     ]
    },
    {
     "name": "stdout",
     "output_type": "stream",
     "text": [
      "Epoch  51 , loss 0.42271394589368033\n",
      "Epoch  52 , loss 0.42591335259231866\n"
     ]
    },
    {
     "name": "stderr",
     "output_type": "stream",
     "text": [
      "\r",
      "Iterations:  18%|██████                            | 53/300 [01:12<05:44,  1.39s/it]"
     ]
    },
    {
     "name": "stdout",
     "output_type": "stream",
     "text": [
      "Epoch:  52\n",
      "t_loss:  0.42591335259231866 , v_loss:  0.7385212232669195\n",
      "t_acc:  0.7016832917705735 , v_acc:  0.6987951807228916\n",
      "t_recall:  0.5118087738424363 , v_recall:  0.49572649572649574\n",
      "t_prec:  0.811475607987236 , v_prec:  0.3515151515151515\n",
      "t_f:  0.4354496230729553 , v_f:  0.41134751773049644\n",
      "////////\n"
     ]
    },
    {
     "name": "stderr",
     "output_type": "stream",
     "text": [
      "\r",
      "Iterations:  18%|██████                            | 54/300 [01:14<05:34,  1.36s/it]"
     ]
    },
    {
     "name": "stdout",
     "output_type": "stream",
     "text": [
      "Epoch  53 , loss 0.42659103753519995\n",
      "Epoch  54 , loss 0.4397384442535101\n"
     ]
    },
    {
     "name": "stderr",
     "output_type": "stream",
     "text": [
      "\r",
      "Iterations:  18%|██████▏                           | 55/300 [01:16<06:00,  1.47s/it]"
     ]
    },
    {
     "name": "stdout",
     "output_type": "stream",
     "text": [
      "Epoch:  54\n",
      "t_loss:  0.4397384442535101 , v_loss:  0.7280610054731369\n",
      "t_acc:  0.699501246882793 , v_acc:  0.6987951807228916\n",
      "t_recall:  0.5105249723786781 , v_recall:  0.5016570730856444\n",
      "t_prec:  0.706811940029715 , v_prec:  0.5194274028629857\n",
      "t_f:  0.43542861983325637 , v_f:  0.4299450549450549\n",
      "////////\n"
     ]
    },
    {
     "name": "stderr",
     "output_type": "stream",
     "text": [
      "\r",
      "Iterations:  19%|██████▎                           | 56/300 [01:17<05:25,  1.33s/it]"
     ]
    },
    {
     "name": "stdout",
     "output_type": "stream",
     "text": [
      "Epoch  55 , loss 0.4254214226030836\n",
      "Epoch  56 , loss 0.42740706894911973\n"
     ]
    },
    {
     "name": "stderr",
     "output_type": "stream",
     "text": [
      "\r",
      "Iterations:  19%|██████▍                           | 57/300 [01:18<05:38,  1.39s/it]"
     ]
    },
    {
     "name": "stdout",
     "output_type": "stream",
     "text": [
      "Epoch:  56\n",
      "t_loss:  0.42740706894911973 , v_loss:  0.7401785204807917\n",
      "t_acc:  0.6966957605985037 , v_acc:  0.6987951807228916\n",
      "t_recall:  0.5065012640964975 , v_recall:  0.49572649572649574\n",
      "t_prec:  0.6488042794210195 , v_prec:  0.3515151515151515\n",
      "t_f:  0.42786348790238693 , v_f:  0.41134751773049644\n",
      "////////\n"
     ]
    },
    {
     "name": "stderr",
     "output_type": "stream",
     "text": [
      "\r",
      "Iterations:  19%|██████▌                           | 58/300 [01:19<05:06,  1.27s/it]"
     ]
    },
    {
     "name": "stdout",
     "output_type": "stream",
     "text": [
      "Epoch  57 , loss 0.42126073352262083\n",
      "Epoch  58 , loss 0.42434223726683973\n"
     ]
    },
    {
     "name": "stderr",
     "output_type": "stream",
     "text": [
      "\r",
      "Iterations:  20%|██████▋                           | 59/300 [01:21<05:45,  1.44s/it]"
     ]
    },
    {
     "name": "stdout",
     "output_type": "stream",
     "text": [
      "Epoch:  58\n",
      "t_loss:  0.42434223726683973 , v_loss:  0.7457726945479711\n",
      "t_acc:  0.7004364089775561 , v_acc:  0.6987951807228916\n",
      "t_recall:  0.5132027856406703 , v_recall:  0.49572649572649574\n",
      "t_prec:  0.6980790913840993 , v_prec:  0.3515151515151515\n",
      "t_f:  0.4420894806610837 , v_f:  0.41134751773049644\n",
      "////////\n"
     ]
    },
    {
     "name": "stderr",
     "output_type": "stream",
     "text": [
      "\r",
      "Iterations:  20%|██████▊                           | 60/300 [01:22<05:09,  1.29s/it]"
     ]
    },
    {
     "name": "stdout",
     "output_type": "stream",
     "text": [
      "Epoch  59 , loss 0.4198486372536304\n",
      "Epoch  60 , loss 0.4191620338196848\n"
     ]
    },
    {
     "name": "stderr",
     "output_type": "stream",
     "text": [
      "\r",
      "Iterations:  20%|██████▉                           | 61/300 [01:23<05:32,  1.39s/it]"
     ]
    },
    {
     "name": "stdout",
     "output_type": "stream",
     "text": [
      "Epoch:  60\n",
      "t_loss:  0.4191620338196848 , v_loss:  0.7526518205801646\n",
      "t_acc:  0.7013715710723192 , v_acc:  0.6987951807228916\n",
      "t_recall:  0.5127300955782513 , v_recall:  0.5016570730856444\n",
      "t_prec:  0.750141821619918 , v_prec:  0.5194274028629857\n",
      "t_f:  0.43894254958533147 , v_f:  0.4299450549450549\n",
      "////////\n"
     ]
    },
    {
     "name": "stderr",
     "output_type": "stream",
     "text": [
      "\r",
      "Iterations:  21%|███████                           | 62/300 [01:25<05:09,  1.30s/it]"
     ]
    },
    {
     "name": "stdout",
     "output_type": "stream",
     "text": [
      "Epoch  61 , loss 0.4177933989786634\n",
      "Epoch  62 , loss 0.4266761494617836\n"
     ]
    },
    {
     "name": "stderr",
     "output_type": "stream",
     "text": [
      "\r",
      "Iterations:  21%|███████▏                          | 63/300 [01:26<05:38,  1.43s/it]"
     ]
    },
    {
     "name": "stdout",
     "output_type": "stream",
     "text": [
      "Epoch:  62\n",
      "t_loss:  0.4266761494617836 , v_loss:  0.7557506710290909\n",
      "t_acc:  0.7007481296758105 , v_acc:  0.6927710843373494\n",
      "t_recall:  0.5125678732979836 , v_recall:  0.49145299145299143\n",
      "t_prec:  0.7219053167301827 , v_prec:  0.35060975609756095\n",
      "t_f:  0.4395654069651061 , v_f:  0.40925266903914587\n",
      "////////\n"
     ]
    },
    {
     "name": "stderr",
     "output_type": "stream",
     "text": [
      "\r",
      "Iterations:  21%|███████▎                          | 64/300 [01:27<05:14,  1.33s/it]"
     ]
    },
    {
     "name": "stdout",
     "output_type": "stream",
     "text": [
      "Epoch  63 , loss 0.43304535512830694\n",
      "Epoch  64 , loss 0.41852843147866864\n"
     ]
    },
    {
     "name": "stderr",
     "output_type": "stream",
     "text": [
      "\r",
      "Iterations:  22%|███████▎                          | 65/300 [01:29<05:28,  1.40s/it]"
     ]
    },
    {
     "name": "stdout",
     "output_type": "stream",
     "text": [
      "Epoch:  64\n",
      "t_loss:  0.41852843147866864 , v_loss:  0.7507470945517222\n",
      "t_acc:  0.7013715710723192 , v_acc:  0.7168674698795181\n",
      "t_recall:  0.5147349613301494 , v_recall:  0.5322693179836037\n",
      "t_prec:  0.7077284855062633 , v_prec:  0.6927083333333333\n",
      "t_f:  0.4451454305431583 , v_f:  0.48788972760091887\n",
      "////////\n"
     ]
    },
    {
     "name": "stderr",
     "output_type": "stream",
     "text": [
      "\r",
      "Iterations:  22%|███████▍                          | 66/300 [01:30<04:57,  1.27s/it]"
     ]
    },
    {
     "name": "stdout",
     "output_type": "stream",
     "text": [
      "Epoch  65 , loss 0.4141884171495251\n",
      "Epoch  66 , loss 0.412058517629025\n"
     ]
    },
    {
     "name": "stderr",
     "output_type": "stream",
     "text": [
      "\r",
      "Iterations:  22%|███████▌                          | 67/300 [01:31<05:15,  1.36s/it]"
     ]
    },
    {
     "name": "stdout",
     "output_type": "stream",
     "text": [
      "Epoch:  66\n",
      "t_loss:  0.412058517629025 , v_loss:  0.7637902150551478\n",
      "t_acc:  0.7013715710723192 , v_acc:  0.7048192771084337\n",
      "t_recall:  0.515307780116406 , v_recall:  0.5118611547182975\n",
      "t_prec:  0.6997697574978321 , v_prec:  0.6049382716049383\n",
      "t_f:  0.44688540262851745 , v_f:  0.4499222289849191\n",
      "////////\n"
     ]
    },
    {
     "name": "stderr",
     "output_type": "stream",
     "text": [
      "\r",
      "Iterations:  23%|███████▋                          | 68/300 [01:32<04:45,  1.23s/it]"
     ]
    },
    {
     "name": "stdout",
     "output_type": "stream",
     "text": [
      "Epoch  67 , loss 0.42909571294691046\n",
      "Epoch  68 , loss 0.4174332753116009\n"
     ]
    },
    {
     "name": "stderr",
     "output_type": "stream",
     "text": [
      "\r",
      "Iterations:  23%|███████▊                          | 69/300 [01:34<05:17,  1.38s/it]"
     ]
    },
    {
     "name": "stdout",
     "output_type": "stream",
     "text": [
      "Epoch:  68\n",
      "t_loss:  0.4174332753116009 , v_loss:  0.7548830012480418\n",
      "t_acc:  0.702930174563591 , v_acc:  0.7228915662650602\n",
      "t_recall:  0.5198662720174357 , v_recall:  0.5424733996162567\n",
      "t_prec:  0.6919997165532881 , v_prec:  0.7187780772686433\n",
      "t_f:  0.45780586190048445 , v_f:  0.5059523809523809\n",
      "////////\n"
     ]
    },
    {
     "name": "stderr",
     "output_type": "stream",
     "text": [
      "\r",
      "Iterations:  23%|███████▉                          | 70/300 [01:35<04:51,  1.27s/it]"
     ]
    },
    {
     "name": "stdout",
     "output_type": "stream",
     "text": [
      "Epoch  69 , loss 0.4208734958779578\n",
      "Epoch  70 , loss 0.4150887239797443\n"
     ]
    },
    {
     "name": "stderr",
     "output_type": "stream",
     "text": [
      "\r",
      "Iterations:  24%|████████                          | 71/300 [01:37<05:08,  1.35s/it]"
     ]
    },
    {
     "name": "stdout",
     "output_type": "stream",
     "text": [
      "Epoch:  70\n",
      "t_loss:  0.4150887239797443 , v_loss:  0.7651140491167704\n",
      "t_acc:  0.7044887780548629 , v_acc:  0.7228915662650602\n",
      "t_recall:  0.5201286230215412 , v_recall:  0.5424733996162567\n",
      "t_prec:  0.7288127646939317 , v_prec:  0.7187780772686433\n",
      "t_f:  0.4560611263736264 , v_f:  0.5059523809523809\n",
      "////////\n"
     ]
    },
    {
     "name": "stderr",
     "output_type": "stream",
     "text": [
      "\r",
      "Iterations:  24%|████████▏                         | 72/300 [01:38<04:39,  1.23s/it]"
     ]
    },
    {
     "name": "stdout",
     "output_type": "stream",
     "text": [
      "Epoch  71 , loss 0.41329151158239325\n",
      "Epoch  72 , loss 0.41696273345573276\n"
     ]
    },
    {
     "name": "stderr",
     "output_type": "stream",
     "text": [
      "\r",
      "Iterations:  24%|████████▎                         | 73/300 [01:39<05:06,  1.35s/it]"
     ]
    },
    {
     "name": "stdout",
     "output_type": "stream",
     "text": [
      "Epoch:  72\n",
      "t_loss:  0.41696273345573276 , v_loss:  0.7557787497838339\n",
      "t_acc:  0.7035536159600998 , v_acc:  0.7289156626506024\n",
      "t_recall:  0.5197420849045753 , v_recall:  0.5586080586080586\n",
      "t_prec:  0.7077474297397913 , v_prec:  0.7153846153846153\n",
      "t_f:  0.45644507674120893 , v_f:  0.5362264853790277\n",
      "////////\n"
     ]
    },
    {
     "name": "stderr",
     "output_type": "stream",
     "text": [
      "\r",
      "Iterations:  25%|████████▍                         | 74/300 [01:40<04:39,  1.24s/it]"
     ]
    },
    {
     "name": "stdout",
     "output_type": "stream",
     "text": [
      "Epoch  73 , loss 0.41838138302167255\n",
      "Epoch  74 , loss 0.4108191825011197\n"
     ]
    },
    {
     "name": "stderr",
     "output_type": "stream",
     "text": [
      "\r",
      "Iterations:  25%|████████▌                         | 75/300 [01:42<05:06,  1.36s/it]"
     ]
    },
    {
     "name": "stdout",
     "output_type": "stream",
     "text": [
      "Epoch:  74\n",
      "t_loss:  0.4108191825011197 , v_loss:  0.7664505541324615\n",
      "t_acc:  0.7069825436408977 , v_acc:  0.7289156626506024\n",
      "t_recall:  0.5259328812189217 , v_recall:  0.5586080586080586\n",
      "t_prec:  0.7234244157813073 , v_prec:  0.7153846153846153\n",
      "t_f:  0.46885171981343443 , v_f:  0.5362264853790277\n",
      "////////\n"
     ]
    },
    {
     "name": "stderr",
     "output_type": "stream",
     "text": [
      "\r",
      "Iterations:  25%|████████▌                         | 76/300 [01:43<04:42,  1.26s/it]"
     ]
    },
    {
     "name": "stdout",
     "output_type": "stream",
     "text": [
      "Epoch  75 , loss 0.4146576395221785\n",
      "Epoch  76 , loss 0.4137891227123784\n"
     ]
    },
    {
     "name": "stderr",
     "output_type": "stream",
     "text": [
      "\r",
      "Iterations:  26%|████████▋                         | 77/300 [01:44<04:56,  1.33s/it]"
     ]
    },
    {
     "name": "stdout",
     "output_type": "stream",
     "text": [
      "Epoch:  76\n",
      "t_loss:  0.4137891227123784 , v_loss:  0.7702949692805608\n",
      "t_acc:  0.7082294264339152 , v_acc:  0.7289156626506024\n",
      "t_recall:  0.524825278813816 , v_recall:  0.5526774812489098\n",
      "t_prec:  0.7734171145935852 , v_prec:  0.7389240506329113\n",
      "t_f:  0.46377775412575084 , v_f:  0.5234449760765549\n",
      "////////\n"
     ]
    },
    {
     "name": "stderr",
     "output_type": "stream",
     "text": [
      "\r",
      "Iterations:  26%|████████▊                         | 78/300 [01:45<04:31,  1.22s/it]"
     ]
    },
    {
     "name": "stdout",
     "output_type": "stream",
     "text": [
      "Epoch  77 , loss 0.41886020349521264\n",
      "Epoch  78 , loss 0.4141090664209104\n"
     ]
    },
    {
     "name": "stderr",
     "output_type": "stream",
     "text": [
      "\r",
      "Iterations:  26%|████████▉                         | 79/300 [01:47<04:51,  1.32s/it]"
     ]
    },
    {
     "name": "stdout",
     "output_type": "stream",
     "text": [
      "Epoch:  78\n",
      "t_loss:  0.4141090664209104 , v_loss:  0.7683658202489217\n",
      "t_acc:  0.7079177057356608 , v_acc:  0.7289156626506024\n",
      "t_recall:  0.5274650569084007 , v_recall:  0.5586080586080586\n",
      "t_prec:  0.728393085787452 , v_prec:  0.7153846153846153\n",
      "t_f:  0.4717452114050042 , v_f:  0.5362264853790277\n",
      "////////\n"
     ]
    },
    {
     "name": "stderr",
     "output_type": "stream",
     "text": [
      "\r",
      "Iterations:  27%|█████████                         | 80/300 [01:48<04:27,  1.22s/it]"
     ]
    },
    {
     "name": "stdout",
     "output_type": "stream",
     "text": [
      "Epoch  79 , loss 0.4238665857735802\n",
      "Epoch  80 , loss 0.41800327394522874\n"
     ]
    },
    {
     "name": "stderr",
     "output_type": "stream",
     "text": [
      "\r",
      "Iterations:  27%|█████████▏                        | 81/300 [01:49<04:48,  1.32s/it]"
     ]
    },
    {
     "name": "stdout",
     "output_type": "stream",
     "text": [
      "Epoch:  80\n",
      "t_loss:  0.41800327394522874 , v_loss:  0.766562337676684\n",
      "t_acc:  0.7038653366583542 , v_acc:  0.7289156626506024\n",
      "t_recall:  0.5219712664931714 , v_recall:  0.5586080586080586\n",
      "t_prec:  0.6939613497255159 , v_prec:  0.7153846153846153\n",
      "t_f:  0.4623872152730295 , v_f:  0.5362264853790277\n",
      "////////\n"
     ]
    },
    {
     "name": "stderr",
     "output_type": "stream",
     "text": [
      "\r",
      "Iterations:  27%|█████████▎                        | 82/300 [01:50<04:26,  1.22s/it]"
     ]
    },
    {
     "name": "stdout",
     "output_type": "stream",
     "text": [
      "Epoch  81 , loss 0.41460035653675303\n",
      "Epoch  82 , loss 0.41467795944681357\n"
     ]
    },
    {
     "name": "stderr",
     "output_type": "stream",
     "text": [
      "\r",
      "Iterations:  28%|█████████▍                        | 83/300 [01:52<04:56,  1.37s/it]"
     ]
    },
    {
     "name": "stdout",
     "output_type": "stream",
     "text": [
      "Epoch:  82\n",
      "t_loss:  0.41467795944681357 , v_loss:  0.7592325260241827\n",
      "t_acc:  0.706359102244389 , v_acc:  0.7349397590361446\n",
      "t_recall:  0.5260570683317821 , v_recall:  0.5688121402407117\n",
      "t_prec:  0.7094137967863232 , v_prec:  0.7313782991202347\n",
      "t_f:  0.4701239676667075 , v_f:  0.5524509803921569\n",
      "////////\n"
     ]
    },
    {
     "name": "stderr",
     "output_type": "stream",
     "text": [
      "\r",
      "Iterations:  28%|█████████▌                        | 84/300 [01:53<04:51,  1.35s/it]"
     ]
    },
    {
     "name": "stdout",
     "output_type": "stream",
     "text": [
      "Epoch  83 , loss 0.40983154726963417\n",
      "Epoch  84 , loss 0.40914808155274857\n"
     ]
    },
    {
     "name": "stderr",
     "output_type": "stream",
     "text": [
      "\r",
      "Iterations:  28%|█████████▋                        | 85/300 [01:55<05:18,  1.48s/it]"
     ]
    },
    {
     "name": "stdout",
     "output_type": "stream",
     "text": [
      "Epoch:  84\n",
      "t_loss:  0.40914808155274857 , v_loss:  0.7640952318906784\n",
      "t_acc:  0.7066708229426434 , v_acc:  0.7409638554216867\n",
      "t_recall:  0.5257085653822237 , v_recall:  0.5790162218733648\n",
      "t_prec:  0.718860696284506 , v_prec:  0.7451298701298701\n",
      "t_f:  0.4686886127369577 , v_f:  0.5682051902486238\n",
      "////////\n"
     ]
    },
    {
     "name": "stderr",
     "output_type": "stream",
     "text": [
      "\r",
      "Iterations:  29%|█████████▋                        | 86/300 [01:56<04:51,  1.36s/it]"
     ]
    },
    {
     "name": "stdout",
     "output_type": "stream",
     "text": [
      "Epoch  85 , loss 0.4109283200666016\n",
      "Epoch  86 , loss 0.4071640898199642\n"
     ]
    },
    {
     "name": "stderr",
     "output_type": "stream",
     "text": [
      "\r",
      "Iterations:  29%|█████████▊                        | 87/300 [01:58<05:17,  1.49s/it]"
     ]
    },
    {
     "name": "stdout",
     "output_type": "stream",
     "text": [
      "Epoch:  86\n",
      "t_loss:  0.4071640898199642 , v_loss:  0.7778570552666982\n",
      "t_acc:  0.7097880299251871 , v_acc:  0.7409638554216867\n",
      "t_recall:  0.5290973613217175 , v_recall:  0.573085644514216\n",
      "t_prec:  0.7537404092071611 , v_prec:  0.7685897435897436\n",
      "t_f:  0.47353872149842147 , v_f:  0.5568386415844042\n",
      "////////\n"
     ]
    },
    {
     "name": "stderr",
     "output_type": "stream",
     "text": [
      "\r",
      "Iterations:  29%|█████████▉                        | 88/300 [01:59<04:45,  1.35s/it]"
     ]
    },
    {
     "name": "stdout",
     "output_type": "stream",
     "text": [
      "Epoch  87 , loss 0.4171876217804703\n",
      "Epoch  88 , loss 0.40931009778789446\n"
     ]
    },
    {
     "name": "stderr",
     "output_type": "stream",
     "text": [
      "\r",
      "Iterations:  30%|██████████                        | 89/300 [02:01<05:00,  1.42s/it]"
     ]
    },
    {
     "name": "stdout",
     "output_type": "stream",
     "text": [
      "Epoch:  88\n",
      "t_loss:  0.40931009778789446 , v_loss:  0.778287356098493\n",
      "t_acc:  0.7072942643391521 , v_acc:  0.7409638554216867\n",
      "t_recall:  0.5275892440212612 , v_recall:  0.573085644514216\n",
      "t_prec:  0.7145427980899437 , v_prec:  0.7685897435897436\n",
      "t_f:  0.47299824368437543 , v_f:  0.5568386415844042\n",
      "////////\n"
     ]
    },
    {
     "name": "stderr",
     "output_type": "stream",
     "text": [
      "\r",
      "Iterations:  30%|██████████▏                       | 90/300 [02:02<04:27,  1.27s/it]"
     ]
    },
    {
     "name": "stdout",
     "output_type": "stream",
     "text": [
      "Epoch  89 , loss 0.40928203510303124\n",
      "Epoch  90 , loss 0.4128073097444048\n"
     ]
    },
    {
     "name": "stderr",
     "output_type": "stream",
     "text": [
      "\r",
      "Iterations:  30%|██████████▎                       | 91/300 [02:03<04:49,  1.38s/it]"
     ]
    },
    {
     "name": "stdout",
     "output_type": "stream",
     "text": [
      "Epoch:  90\n",
      "t_loss:  0.4128073097444048 , v_loss:  0.7725641926129659\n",
      "t_acc:  0.7076059850374065 , v_acc:  0.7349397590361446\n",
      "t_recall:  0.5283863786442159 , v_recall:  0.5688121402407117\n",
      "t_prec:  0.7138266107457844 , v_prec:  0.7313782991202347\n",
      "t_f:  0.4747380239520958 , v_f:  0.5524509803921569\n",
      "////////\n"
     ]
    },
    {
     "name": "stderr",
     "output_type": "stream",
     "text": [
      "\r",
      "Iterations:  31%|██████████▍                       | 92/300 [02:04<04:20,  1.25s/it]"
     ]
    },
    {
     "name": "stdout",
     "output_type": "stream",
     "text": [
      "Epoch  91 , loss 0.4022325236423343\n",
      "Epoch  92 , loss 0.4144472596692104\n"
     ]
    },
    {
     "name": "stderr",
     "output_type": "stream",
     "text": [
      "\r",
      "Iterations:  31%|██████████▌                       | 93/300 [02:06<04:35,  1.33s/it]"
     ]
    },
    {
     "name": "stdout",
     "output_type": "stream",
     "text": [
      "Epoch:  92\n",
      "t_loss:  0.4144472596692104 , v_loss:  0.7798744291067123\n",
      "t_acc:  0.7104114713216958 , v_acc:  0.7349397590361446\n",
      "t_recall:  0.5326964963195248 , v_recall:  0.5688121402407117\n",
      "t_prec:  0.7295688545688546 , v_prec:  0.7313782991202347\n",
      "t_f:  0.482474890264565 , v_f:  0.5524509803921569\n",
      "////////\n"
     ]
    },
    {
     "name": "stderr",
     "output_type": "stream",
     "text": [
      "\r",
      "Iterations:  31%|██████████▋                       | 94/300 [02:07<04:23,  1.28s/it]"
     ]
    },
    {
     "name": "stdout",
     "output_type": "stream",
     "text": [
      "Epoch  93 , loss 0.4099566486536288\n",
      "Epoch  94 , loss 0.4084729359430425\n"
     ]
    },
    {
     "name": "stderr",
     "output_type": "stream",
     "text": [
      "\r",
      "Iterations:  32%|██████████▊                       | 95/300 [02:08<04:39,  1.36s/it]"
     ]
    },
    {
     "name": "stdout",
     "output_type": "stream",
     "text": [
      "Epoch:  94\n",
      "t_loss:  0.4084729359430425 , v_loss:  0.7744347949822744\n",
      "t_acc:  0.7116583541147132 , v_acc:  0.7349397590361446\n",
      "t_recall:  0.5344529878457018 , v_recall:  0.5688121402407117\n",
      "t_prec:  0.7373110867012613 , v_prec:  0.7313782991202347\n",
      "t_f:  0.4854637527992669 , v_f:  0.5524509803921569\n",
      "////////\n"
     ]
    },
    {
     "name": "stderr",
     "output_type": "stream",
     "text": [
      "\r",
      "Iterations:  32%|██████████▉                       | 96/300 [02:10<04:21,  1.28s/it]"
     ]
    },
    {
     "name": "stdout",
     "output_type": "stream",
     "text": [
      "Epoch  95 , loss 0.4097345675907883\n",
      "Epoch  96 , loss 0.4112891905448016\n"
     ]
    },
    {
     "name": "stderr",
     "output_type": "stream",
     "text": [
      "\r",
      "Iterations:  32%|██████████▉                       | 97/300 [02:11<04:41,  1.39s/it]"
     ]
    },
    {
     "name": "stdout",
     "output_type": "stream",
     "text": [
      "Epoch:  96\n",
      "t_loss:  0.4112891905448016 , v_loss:  0.7800047397613525\n",
      "t_acc:  0.7100997506234414 , v_acc:  0.7289156626506024\n",
      "t_recall:  0.5313265429103136 , v_recall:  0.5645386359672074\n",
      "t_prec:  0.7359740416645092 , v_prec:  0.7002164502164502\n",
      "t_f:  0.4792178702296898 , v_f:  0.5481217107253039\n",
      "////////\n"
     ]
    },
    {
     "name": "stderr",
     "output_type": "stream",
     "text": [
      "\r",
      "Iterations:  33%|███████████                       | 98/300 [02:12<04:22,  1.30s/it]"
     ]
    },
    {
     "name": "stdout",
     "output_type": "stream",
     "text": [
      "Epoch  97 , loss 0.4054596625706729\n",
      "Epoch  98 , loss 0.40797268350919086\n"
     ]
    },
    {
     "name": "stderr",
     "output_type": "stream",
     "text": [
      "\r",
      "Iterations:  33%|███████████▏                      | 99/300 [02:14<04:33,  1.36s/it]"
     ]
    },
    {
     "name": "stdout",
     "output_type": "stream",
     "text": [
      "Epoch:  98\n",
      "t_loss:  0.40797268350919086 , v_loss:  0.7820630470911661\n",
      "t_acc:  0.7066708229426434 , v_acc:  0.7289156626506024\n",
      "t_recall:  0.5288590687066348 , v_recall:  0.5645386359672074\n",
      "t_prec:  0.6950832672482157 , v_prec:  0.7002164502164502\n",
      "t_f:  0.4773343694091684 , v_f:  0.5481217107253039\n",
      "////////\n"
     ]
    },
    {
     "name": "stderr",
     "output_type": "stream",
     "text": [
      "\r",
      "Iterations:  33%|███████████                      | 100/300 [02:15<04:19,  1.30s/it]"
     ]
    },
    {
     "name": "stdout",
     "output_type": "stream",
     "text": [
      "Epoch  99 , loss 0.4054701188031365\n",
      "Epoch  100 , loss 0.4131554669024898\n"
     ]
    },
    {
     "name": "stderr",
     "output_type": "stream",
     "text": [
      "\r",
      "Iterations:  34%|███████████                      | 101/300 [02:17<04:35,  1.39s/it]"
     ]
    },
    {
     "name": "stdout",
     "output_type": "stream",
     "text": [
      "Epoch:  100\n",
      "t_loss:  0.4131554669024898 , v_loss:  0.7870959043502808\n",
      "t_acc:  0.7129052369077307 , v_acc:  0.7289156626506024\n",
      "t_recall:  0.5359230699787507 , v_recall:  0.5645386359672074\n",
      "t_prec:  0.7474369657714985 , v_prec:  0.7002164502164502\n",
      "t_f:  0.48768877440878355 , v_f:  0.5481217107253039\n",
      "////////\n"
     ]
    },
    {
     "name": "stderr",
     "output_type": "stream",
     "text": [
      "\r",
      "Iterations:  34%|███████████▏                     | 102/300 [02:18<04:21,  1.32s/it]"
     ]
    },
    {
     "name": "stdout",
     "output_type": "stream",
     "text": [
      "Epoch  101 , loss 0.40758570327478294\n",
      "Epoch  102 , loss 0.40891415932599234\n"
     ]
    },
    {
     "name": "stderr",
     "output_type": "stream",
     "text": [
      "\r",
      "Iterations:  34%|███████████▎                     | 103/300 [02:19<04:46,  1.45s/it]"
     ]
    },
    {
     "name": "stdout",
     "output_type": "stream",
     "text": [
      "Epoch:  102\n",
      "t_loss:  0.40891415932599234 , v_loss:  0.7863594939311346\n",
      "t_acc:  0.7091645885286783 , v_acc:  0.7289156626506024\n",
      "t_recall:  0.5315128235796042 , v_recall:  0.5645386359672074\n",
      "t_prec:  0.7170593285607868 , v_prec:  0.7002164502164502\n",
      "t_f:  0.4810137095802336 , v_f:  0.5481217107253039\n",
      "////////\n"
     ]
    },
    {
     "name": "stderr",
     "output_type": "stream",
     "text": [
      "\r",
      "Iterations:  35%|███████████▍                     | 104/300 [02:21<04:23,  1.34s/it]"
     ]
    },
    {
     "name": "stdout",
     "output_type": "stream",
     "text": [
      "Epoch  103 , loss 0.4048406467133877\n",
      "Epoch  104 , loss 0.4000625090271819\n"
     ]
    },
    {
     "name": "stderr",
     "output_type": "stream",
     "text": [
      "\r",
      "Iterations:  35%|███████████▌                     | 105/300 [02:22<04:42,  1.45s/it]"
     ]
    },
    {
     "name": "stdout",
     "output_type": "stream",
     "text": [
      "Epoch:  104\n",
      "t_loss:  0.4000625090271819 , v_loss:  0.7837375551462173\n",
      "t_acc:  0.7138403990024937 , v_acc:  0.7289156626506024\n",
      "t_recall:  0.5400329302063843 , v_recall:  0.5645386359672074\n",
      "t_prec:  0.730223610177755 , v_prec:  0.7002164502164502\n",
      "t_f:  0.49710896191070125 , v_f:  0.5481217107253039\n",
      "////////\n"
     ]
    },
    {
     "name": "stderr",
     "output_type": "stream",
     "text": [
      "\r",
      "Iterations:  35%|███████████▋                     | 106/300 [02:23<04:13,  1.30s/it]"
     ]
    },
    {
     "name": "stdout",
     "output_type": "stream",
     "text": [
      "Epoch  105 , loss 0.40657585742426855\n",
      "Epoch  106 , loss 0.4100782058986963\n"
     ]
    },
    {
     "name": "stderr",
     "output_type": "stream",
     "text": [
      "\r",
      "Iterations:  36%|███████████▊                     | 107/300 [02:25<04:33,  1.42s/it]"
     ]
    },
    {
     "name": "stdout",
     "output_type": "stream",
     "text": [
      "Epoch:  106\n",
      "t_loss:  0.4100782058986963 , v_loss:  0.7836140046517054\n",
      "t_acc:  0.7129052369077307 , v_acc:  0.7289156626506024\n",
      "t_recall:  0.5379279357306487 , v_recall:  0.5645386359672074\n",
      "t_prec:  0.7307567917205693 , v_prec:  0.7002164502164502\n",
      "t_f:  0.4929081720657102 , v_f:  0.5481217107253039\n",
      "////////\n"
     ]
    },
    {
     "name": "stderr",
     "output_type": "stream",
     "text": [
      "\r",
      "Iterations:  36%|███████████▉                     | 108/300 [02:26<04:05,  1.28s/it]"
     ]
    },
    {
     "name": "stdout",
     "output_type": "stream",
     "text": [
      "Epoch  107 , loss 0.4052177322845833\n",
      "Epoch  108 , loss 0.4067503517749263\n"
     ]
    },
    {
     "name": "stderr",
     "output_type": "stream",
     "text": [
      "\r",
      "Iterations:  36%|███████████▉                     | 109/300 [02:28<04:29,  1.41s/it]"
     ]
    },
    {
     "name": "stdout",
     "output_type": "stream",
     "text": [
      "Epoch:  108\n",
      "t_loss:  0.4067503517749263 , v_loss:  0.7855582684278488\n",
      "t_acc:  0.7125935162094763 , v_acc:  0.7289156626506024\n",
      "t_recall:  0.5365579823214375 , v_recall:  0.5645386359672074\n",
      "t_prec:  0.7361711827727796 , v_prec:  0.7002164502164502\n",
      "t_f:  0.4897627406818583 , v_f:  0.5481217107253039\n",
      "////////\n"
     ]
    },
    {
     "name": "stderr",
     "output_type": "stream",
     "text": [
      "\r",
      "Iterations:  37%|████████████                     | 110/300 [02:28<04:00,  1.27s/it]"
     ]
    },
    {
     "name": "stdout",
     "output_type": "stream",
     "text": [
      "Epoch  109 , loss 0.3977080408264609\n",
      "Epoch  110 , loss 0.41819684587272943\n"
     ]
    },
    {
     "name": "stderr",
     "output_type": "stream",
     "text": [
      "\r",
      "Iterations:  37%|████████████▏                    | 111/300 [02:30<04:22,  1.39s/it]"
     ]
    },
    {
     "name": "stdout",
     "output_type": "stream",
     "text": [
      "Epoch:  110\n",
      "t_loss:  0.41819684587272943 , v_loss:  0.7947057584921519\n",
      "t_acc:  0.720074812967581 , v_acc:  0.7289156626506024\n",
      "t_recall:  0.5485289784441417 , v_recall:  0.5645386359672074\n",
      "t_prec:  0.7627211991455939 , v_prec:  0.7002164502164502\n",
      "t_f:  0.5108743119297209 , v_f:  0.5481217107253039\n",
      "////////\n"
     ]
    },
    {
     "name": "stderr",
     "output_type": "stream",
     "text": [
      "\r",
      "Iterations:  37%|████████████▎                    | 112/300 [02:31<03:54,  1.25s/it]"
     ]
    },
    {
     "name": "stdout",
     "output_type": "stream",
     "text": [
      "Epoch  111 , loss 0.405367594723608\n",
      "Epoch  112 , loss 0.41725007283921334\n"
     ]
    },
    {
     "name": "stderr",
     "output_type": "stream",
     "text": [
      "\r",
      "Iterations:  38%|████████████▍                    | 113/300 [02:33<04:31,  1.45s/it]"
     ]
    },
    {
     "name": "stdout",
     "output_type": "stream",
     "text": [
      "Epoch:  112\n",
      "t_loss:  0.41725007283921334 , v_loss:  0.783127690354983\n",
      "t_acc:  0.7150872817955112 , v_acc:  0.7289156626506024\n",
      "t_recall:  0.5432214686982029 , v_recall:  0.5645386359672074\n",
      "t_prec:  0.7273505200612262 , v_prec:  0.7002164502164502\n",
      "t_f:  0.5035727177238087 , v_f:  0.5481217107253039\n",
      "////////\n"
     ]
    },
    {
     "name": "stderr",
     "output_type": "stream",
     "text": [
      "\r",
      "Iterations:  38%|████████████▌                    | 114/300 [02:34<03:59,  1.29s/it]"
     ]
    },
    {
     "name": "stdout",
     "output_type": "stream",
     "text": [
      "Epoch  113 , loss 0.40547387272703883\n",
      "Epoch  114 , loss 0.4029061841029747\n"
     ]
    },
    {
     "name": "stderr",
     "output_type": "stream",
     "text": [
      "\r",
      "Iterations:  38%|████████████▋                    | 115/300 [02:35<04:15,  1.38s/it]"
     ]
    },
    {
     "name": "stdout",
     "output_type": "stream",
     "text": [
      "Epoch:  114\n",
      "t_loss:  0.4029061841029747 , v_loss:  0.786742960413297\n",
      "t_acc:  0.7163341645885287 , v_acc:  0.7289156626506024\n",
      "t_recall:  0.5446915508312516 , v_recall:  0.5645386359672074\n",
      "t_prec:  0.7350833423726362 , v_prec:  0.7002164502164502\n",
      "t_f:  0.5057452660051049 , v_f:  0.5481217107253039\n",
      "////////\n"
     ]
    },
    {
     "name": "stderr",
     "output_type": "stream",
     "text": [
      "\r",
      "Iterations:  39%|████████████▊                    | 116/300 [02:37<03:57,  1.29s/it]"
     ]
    },
    {
     "name": "stdout",
     "output_type": "stream",
     "text": [
      "Epoch  115 , loss 0.4012025746644712\n",
      "Epoch  116 , loss 0.40861861320102916\n"
     ]
    },
    {
     "name": "stderr",
     "output_type": "stream",
     "text": [
      "\r",
      "Iterations:  39%|████████████▊                    | 117/300 [02:38<04:11,  1.37s/it]"
     ]
    },
    {
     "name": "stdout",
     "output_type": "stream",
     "text": [
      "Epoch:  116\n",
      "t_loss:  0.40861861320102916 , v_loss:  0.7858469734589258\n",
      "t_acc:  0.7150872817955112 , v_acc:  0.7289156626506024\n",
      "t_recall:  0.5420758311256897 , v_recall:  0.5645386359672074\n",
      "t_prec:  0.734655125266109 , v_prec:  0.7002164502164502\n",
      "t_f:  0.5007352465408677 , v_f:  0.5481217107253039\n",
      "////////\n"
     ]
    },
    {
     "name": "stderr",
     "output_type": "stream",
     "text": [
      "\r",
      "Iterations:  39%|████████████▉                    | 118/300 [02:39<03:52,  1.28s/it]"
     ]
    },
    {
     "name": "stdout",
     "output_type": "stream",
     "text": [
      "Epoch  117 , loss 0.40820997485927507\n",
      "Epoch  118 , loss 0.4016568485428305\n"
     ]
    },
    {
     "name": "stderr",
     "output_type": "stream",
     "text": [
      "\r",
      "Iterations:  40%|█████████████                    | 119/300 [02:41<04:09,  1.38s/it]"
     ]
    },
    {
     "name": "stdout",
     "output_type": "stream",
     "text": [
      "Epoch:  118\n",
      "t_loss:  0.4016568485428305 , v_loss:  0.7921120226383209\n",
      "t_acc:  0.7175810473815462 , v_acc:  0.7289156626506024\n",
      "t_recall:  0.5458752235711722 , v_recall:  0.5645386359672074\n",
      "t_prec:  0.744779020722538 , v_prec:  0.7002164502164502\n",
      "t_f:  0.507218659461571 , v_f:  0.5481217107253039\n",
      "////////\n"
     ]
    },
    {
     "name": "stderr",
     "output_type": "stream",
     "text": [
      "\r",
      "Iterations:  40%|█████████████▏                   | 120/300 [02:42<03:48,  1.27s/it]"
     ]
    },
    {
     "name": "stdout",
     "output_type": "stream",
     "text": [
      "Epoch  119 , loss 0.4071894586086273\n",
      "Epoch  120 , loss 0.3981853361223258\n"
     ]
    },
    {
     "name": "stderr",
     "output_type": "stream",
     "text": [
      "\r",
      "Iterations:  40%|█████████████▎                   | 121/300 [02:43<03:59,  1.34s/it]"
     ]
    },
    {
     "name": "stdout",
     "output_type": "stream",
     "text": [
      "Epoch:  120\n",
      "t_loss:  0.3981853361223258 , v_loss:  0.7866119494040807\n",
      "t_acc:  0.7172693266832918 , v_acc:  0.7289156626506024\n",
      "t_recall:  0.5462237265207308 , v_recall:  0.5704692133263563\n",
      "t_prec:  0.7380895057357315 , v_prec:  0.6898496240601504\n",
      "t_f:  0.5084196051923109 , v_f:  0.559214020180563\n",
      "////////\n"
     ]
    },
    {
     "name": "stderr",
     "output_type": "stream",
     "text": [
      "\r",
      "Iterations:  41%|█████████████▍                   | 122/300 [02:44<03:40,  1.24s/it]"
     ]
    },
    {
     "name": "stdout",
     "output_type": "stream",
     "text": [
      "Epoch  121 , loss 0.40011174830735896\n",
      "Epoch  122 , loss 0.39654023507062125\n"
     ]
    },
    {
     "name": "stderr",
     "output_type": "stream",
     "text": [
      "\r",
      "Iterations:  41%|█████████████▌                   | 123/300 [02:46<04:06,  1.40s/it]"
     ]
    },
    {
     "name": "stdout",
     "output_type": "stream",
     "text": [
      "Epoch:  122\n",
      "t_loss:  0.39654023507062125 , v_loss:  0.7853824098904928\n",
      "t_acc:  0.7169576059850374 , v_acc:  0.7349397590361446\n",
      "t_recall:  0.5448537731115196 , v_recall:  0.5747427175998605\n",
      "t_prec:  0.7428247499919371 , v_prec:  0.7154348919054802\n",
      "t_f:  0.5054274779868447 , v_f:  0.5636798088410991\n",
      "////////\n"
     ]
    },
    {
     "name": "stderr",
     "output_type": "stream",
     "text": [
      "\r",
      "Iterations:  41%|█████████████▋                   | 124/300 [02:47<03:57,  1.35s/it]"
     ]
    },
    {
     "name": "stdout",
     "output_type": "stream",
     "text": [
      "Epoch  123 , loss 0.4017186737528034\n",
      "Epoch  124 , loss 0.3987950004783331\n"
     ]
    },
    {
     "name": "stderr",
     "output_type": "stream",
     "text": [
      "\r",
      "Iterations:  42%|█████████████▊                   | 125/300 [02:49<04:12,  1.44s/it]"
     ]
    },
    {
     "name": "stdout",
     "output_type": "stream",
     "text": [
      "Epoch:  124\n",
      "t_loss:  0.3987950004783331 , v_loss:  0.7874777317047119\n",
      "t_acc:  0.7125935162094763 , v_acc:  0.7289156626506024\n",
      "t_recall:  0.5394220762527203 , v_recall:  0.5704692133263563\n",
      "t_prec:  0.7165872338497096 , v_prec:  0.6898496240601504\n",
      "t_f:  0.49708498037156634 , v_f:  0.559214020180563\n",
      "////////\n"
     ]
    },
    {
     "name": "stderr",
     "output_type": "stream",
     "text": [
      "\r",
      "Iterations:  42%|█████████████▊                   | 126/300 [02:50<03:52,  1.34s/it]"
     ]
    },
    {
     "name": "stdout",
     "output_type": "stream",
     "text": [
      "Epoch  125 , loss 0.4001087224950977\n",
      "Epoch  126 , loss 0.39985743106580246\n"
     ]
    },
    {
     "name": "stderr",
     "output_type": "stream",
     "text": [
      "\r",
      "Iterations:  42%|█████████████▉                   | 127/300 [02:52<04:05,  1.42s/it]"
     ]
    },
    {
     "name": "stdout",
     "output_type": "stream",
     "text": [
      "Epoch:  126\n",
      "t_loss:  0.39985743106580246 , v_loss:  0.79190693795681\n",
      "t_acc:  0.7150872817955112 , v_acc:  0.7289156626506024\n",
      "t_recall:  0.5406437841600483 , v_recall:  0.5645386359672074\n",
      "t_prec:  0.7452460548545958 , v_prec:  0.7002164502164502\n",
      "t_f:  0.4971269414411943 , v_f:  0.5481217107253039\n",
      "////////\n"
     ]
    },
    {
     "name": "stderr",
     "output_type": "stream",
     "text": [
      "\r",
      "Iterations:  43%|██████████████                   | 128/300 [02:53<03:41,  1.29s/it]"
     ]
    },
    {
     "name": "stdout",
     "output_type": "stream",
     "text": [
      "Epoch  127 , loss 0.4057723938250074\n",
      "Epoch  128 , loss 0.4047047396500905\n"
     ]
    },
    {
     "name": "stderr",
     "output_type": "stream",
     "text": [
      "\r",
      "Iterations:  43%|██████████████▏                  | 129/300 [02:54<04:08,  1.45s/it]"
     ]
    },
    {
     "name": "stdout",
     "output_type": "stream",
     "text": [
      "Epoch:  128\n",
      "t_loss:  0.4047047396500905 , v_loss:  0.7977220813433329\n",
      "t_acc:  0.7138403990024937 , v_acc:  0.7168674698795181\n",
      "t_recall:  0.5403193395995126 , v_recall:  0.5559916274201988\n",
      "t_prec:  0.7283087901394745 , v_prec:  0.6508458646616542\n",
      "t_f:  0.4978309979046621 , v_f:  0.5396235321885878\n",
      "////////\n"
     ]
    },
    {
     "name": "stderr",
     "output_type": "stream",
     "text": [
      "\r",
      "Iterations:  43%|██████████████▎                  | 130/300 [02:56<03:46,  1.33s/it]"
     ]
    },
    {
     "name": "stdout",
     "output_type": "stream",
     "text": [
      "Epoch  129 , loss 0.39559171158893436\n",
      "Epoch  130 , loss 0.3984413871578142\n"
     ]
    },
    {
     "name": "stderr",
     "output_type": "stream",
     "text": [
      "\r",
      "Iterations:  44%|██████████████▍                  | 131/300 [02:57<04:11,  1.49s/it]"
     ]
    },
    {
     "name": "stdout",
     "output_type": "stream",
     "text": [
      "Epoch:  130\n",
      "t_loss:  0.3984413871578142 , v_loss:  0.7919520686070124\n",
      "t_acc:  0.7169576059850374 , v_acc:  0.7349397590361446\n",
      "t_recall:  0.5468586388634176 , v_recall:  0.5747427175998605\n",
      "t_prec:  0.7302329246738042 , v_prec:  0.7154348919054802\n",
      "t_f:  0.5102955377485119 , v_f:  0.5636798088410991\n",
      "////////\n"
     ]
    },
    {
     "name": "stderr",
     "output_type": "stream",
     "text": [
      "\r",
      "Iterations:  44%|██████████████▌                  | 132/300 [02:58<03:43,  1.33s/it]"
     ]
    },
    {
     "name": "stdout",
     "output_type": "stream",
     "text": [
      "Epoch  131 , loss 0.39546451965967816\n",
      "Epoch  132 , loss 0.3944660743661955\n"
     ]
    },
    {
     "name": "stderr",
     "output_type": "stream",
     "text": [
      "\r",
      "Iterations:  44%|██████████████▋                  | 133/300 [03:00<04:01,  1.44s/it]"
     ]
    },
    {
     "name": "stdout",
     "output_type": "stream",
     "text": [
      "Epoch:  132\n",
      "t_loss:  0.3944660743661955 , v_loss:  0.785281722744306\n",
      "t_acc:  0.7231920199501247 , v_acc:  0.7168674698795181\n",
      "t_recall:  0.5539226401355335 , v_recall:  0.5619222047793476\n",
      "t_prec:  0.7684710069701913 , v_prec:  0.6479166666666667\n",
      "t_f:  0.5204095444545233 , v_f:  0.5504465571881303\n",
      "////////\n"
     ]
    },
    {
     "name": "stderr",
     "output_type": "stream",
     "text": [
      "\r",
      "Iterations:  45%|██████████████▋                  | 134/300 [03:01<03:38,  1.31s/it]"
     ]
    },
    {
     "name": "stdout",
     "output_type": "stream",
     "text": [
      "Epoch  133 , loss 0.39490539712064404\n",
      "Epoch  134 , loss 0.3951661580917882\n"
     ]
    },
    {
     "name": "stderr",
     "output_type": "stream",
     "text": [
      "\r",
      "Iterations:  45%|██████████████▊                  | 135/300 [03:03<03:54,  1.42s/it]"
     ]
    },
    {
     "name": "stdout",
     "output_type": "stream",
     "text": [
      "Epoch:  134\n",
      "t_loss:  0.3951661580917882 , v_loss:  0.7915928761164347\n",
      "t_acc:  0.719139650872818 , v_acc:  0.7228915662650602\n",
      "t_recall:  0.5507201248653303 , v_recall:  0.5661957090528519\n",
      "t_prec:  0.7353332652939726 , v_prec:  0.6675496688741722\n",
      "t_f:  0.5171095350053687 , v_f:  0.554804104477612\n",
      "////////\n"
     ]
    },
    {
     "name": "stderr",
     "output_type": "stream",
     "text": [
      "\r",
      "Iterations:  45%|██████████████▉                  | 136/300 [03:04<03:37,  1.33s/it]"
     ]
    },
    {
     "name": "stdout",
     "output_type": "stream",
     "text": [
      "Epoch  135 , loss 0.40024314382497\n",
      "Epoch  136 , loss 0.39406442145506543\n"
     ]
    },
    {
     "name": "stderr",
     "output_type": "stream",
     "text": [
      "\r",
      "Iterations:  46%|███████████████                  | 137/300 [03:05<03:47,  1.40s/it]"
     ]
    },
    {
     "name": "stdout",
     "output_type": "stream",
     "text": [
      "Epoch:  136\n",
      "t_loss:  0.39406442145506543 , v_loss:  0.7872356623411179\n",
      "t_acc:  0.7175810473815462 , v_acc:  0.7168674698795181\n",
      "t_recall:  0.5467344517505571 , v_recall:  0.5619222047793476\n",
      "t_prec:  0.7390662250258444 , v_prec:  0.6479166666666667\n",
      "t_f:  0.5093082008196971 , v_f:  0.5504465571881303\n",
      "////////\n"
     ]
    },
    {
     "name": "stderr",
     "output_type": "stream",
     "text": [
      "\r",
      "Iterations:  46%|███████████████▏                 | 138/300 [03:06<03:24,  1.27s/it]"
     ]
    },
    {
     "name": "stdout",
     "output_type": "stream",
     "text": [
      "Epoch  137 , loss 0.402705778093899\n",
      "Epoch  138 , loss 0.3943397244986366\n"
     ]
    },
    {
     "name": "stderr",
     "output_type": "stream",
     "text": [
      "\r",
      "Iterations:  46%|███████████████▎                 | 139/300 [03:08<03:38,  1.36s/it]"
     ]
    },
    {
     "name": "stdout",
     "output_type": "stream",
     "text": [
      "Epoch:  138\n",
      "t_loss:  0.3943397244986366 , v_loss:  0.7855335970719656\n",
      "t_acc:  0.7175810473815462 , v_acc:  0.7289156626506024\n",
      "t_recall:  0.5473072705368137 , v_recall:  0.5704692133263563\n",
      "t_prec:  0.7355342862683809 , v_prec:  0.6898496240601504\n",
      "t_f:  0.5106881163015744 , v_f:  0.559214020180563\n",
      "////////\n"
     ]
    },
    {
     "name": "stderr",
     "output_type": "stream",
     "text": [
      "\r",
      "Iterations:  47%|███████████████▍                 | 140/300 [03:09<03:24,  1.28s/it]"
     ]
    },
    {
     "name": "stdout",
     "output_type": "stream",
     "text": [
      "Epoch  139 , loss 0.4147891133439307\n",
      "Epoch  140 , loss 0.39904579549443486\n"
     ]
    },
    {
     "name": "stderr",
     "output_type": "stream",
     "text": [
      "\r",
      "Iterations:  47%|███████████████▌                 | 141/300 [03:11<03:40,  1.38s/it]"
     ]
    },
    {
     "name": "stdout",
     "output_type": "stream",
     "text": [
      "Epoch:  140\n",
      "t_loss:  0.39904579549443486 , v_loss:  0.7815664261579514\n",
      "t_acc:  0.726932668329177 , v_acc:  0.7168674698795181\n",
      "t_recall:  0.562342618038476 , v_recall:  0.5619222047793476\n",
      "t_prec:  0.7619611535699087 , v_prec:  0.6479166666666667\n",
      "t_f:  0.5359553493287538 , v_f:  0.5504465571881303\n",
      "////////\n"
     ]
    },
    {
     "name": "stderr",
     "output_type": "stream",
     "text": [
      "\r",
      "Iterations:  47%|███████████████▌                 | 142/300 [03:12<03:27,  1.31s/it]"
     ]
    },
    {
     "name": "stdout",
     "output_type": "stream",
     "text": [
      "Epoch  141 , loss 0.3990151204314886\n",
      "Epoch  142 , loss 0.4048626761810452\n"
     ]
    },
    {
     "name": "stderr",
     "output_type": "stream",
     "text": [
      "\r",
      "Iterations:  48%|███████████████▋                 | 143/300 [03:13<03:35,  1.37s/it]"
     ]
    },
    {
     "name": "stdout",
     "output_type": "stream",
     "text": [
      "Epoch:  142\n",
      "t_loss:  0.4048626761810452 , v_loss:  0.7901367793480555\n",
      "t_acc:  0.7188279301745636 , v_acc:  0.7168674698795181\n",
      "t_recall:  0.5499229902423757 , v_recall:  0.5619222047793476\n",
      "t_prec:  0.73600486994348 , v_prec:  0.6479166666666667\n",
      "t_f:  0.5155652433042366 , v_f:  0.5504465571881303\n",
      "////////\n"
     ]
    },
    {
     "name": "stderr",
     "output_type": "stream",
     "text": [
      "\r",
      "Iterations:  48%|███████████████▊                 | 144/300 [03:14<03:12,  1.23s/it]"
     ]
    },
    {
     "name": "stdout",
     "output_type": "stream",
     "text": [
      "Epoch  143 , loss 0.399385040881587\n",
      "Epoch  144 , loss 0.39546895085596573\n"
     ]
    },
    {
     "name": "stderr",
     "output_type": "stream",
     "text": [
      "\r",
      "Iterations:  48%|███████████████▉                 | 145/300 [03:16<03:26,  1.33s/it]"
     ]
    },
    {
     "name": "stdout",
     "output_type": "stream",
     "text": [
      "Epoch:  144\n",
      "t_loss:  0.39546895085596573 , v_loss:  0.7893727570772171\n",
      "t_acc:  0.7253740648379052 , v_acc:  0.7168674698795181\n",
      "t_recall:  0.5589297637099594 , v_recall:  0.5619222047793476\n",
      "t_prec:  0.7636893044619423 , v_prec:  0.6479166666666667\n",
      "t_f:  0.5297817836543797 , v_f:  0.5504465571881303\n",
      "////////\n"
     ]
    },
    {
     "name": "stderr",
     "output_type": "stream",
     "text": [
      "\r",
      "Iterations:  49%|████████████████                 | 146/300 [03:17<03:09,  1.23s/it]"
     ]
    },
    {
     "name": "stdout",
     "output_type": "stream",
     "text": [
      "Epoch  145 , loss 0.39694374975036173\n",
      "Epoch  146 , loss 0.3989834469907424\n"
     ]
    },
    {
     "name": "stderr",
     "output_type": "stream",
     "text": [
      "\r",
      "Iterations:  49%|████████████████▏                | 147/300 [03:18<03:26,  1.35s/it]"
     ]
    },
    {
     "name": "stdout",
     "output_type": "stream",
     "text": [
      "Epoch:  146\n",
      "t_loss:  0.3989834469907424 , v_loss:  0.7908671051263809\n",
      "t_acc:  0.7194513715710723 , v_acc:  0.7228915662650602\n",
      "t_recall:  0.553522125240183 , v_recall:  0.5661957090528519\n",
      "t_prec:  0.7248978004224699 , v_prec:  0.6675496688741722\n",
      "t_f:  0.523241797255569 , v_f:  0.554804104477612\n",
      "////////\n"
     ]
    },
    {
     "name": "stderr",
     "output_type": "stream",
     "text": [
      "\r",
      "Iterations:  49%|████████████████▎                | 148/300 [03:19<03:08,  1.24s/it]"
     ]
    },
    {
     "name": "stdout",
     "output_type": "stream",
     "text": [
      "Epoch  147 , loss 0.39602409390842214\n",
      "Epoch  148 , loss 0.3944696708052766\n"
     ]
    },
    {
     "name": "stderr",
     "output_type": "stream",
     "text": [
      "\r",
      "Iterations:  50%|████████████████▍                | 149/300 [03:21<03:20,  1.33s/it]"
     ]
    },
    {
     "name": "stdout",
     "output_type": "stream",
     "text": [
      "Epoch:  148\n",
      "t_loss:  0.3944696708052766 , v_loss:  0.7974752932786942\n",
      "t_acc:  0.7222568578553616 , v_acc:  0.7168674698795181\n",
      "t_recall:  0.5575458335223635 , v_recall:  0.5559916274201988\n",
      "t_prec:  0.7353232189973615 , v_prec:  0.6508458646616542\n",
      "t_f:  0.5296059956010536 , v_f:  0.5396235321885878\n",
      "////////\n"
     ]
    },
    {
     "name": "stderr",
     "output_type": "stream",
     "text": [
      "\r",
      "Iterations:  50%|████████████████▌                | 150/300 [03:22<03:11,  1.28s/it]"
     ]
    },
    {
     "name": "stdout",
     "output_type": "stream",
     "text": [
      "Epoch  149 , loss 0.3978859928308749\n",
      "Epoch  150 , loss 0.39307881862509486\n"
     ]
    },
    {
     "name": "stderr",
     "output_type": "stream",
     "text": [
      "\r",
      "Iterations:  50%|████████████████▌                | 151/300 [03:24<03:21,  1.35s/it]"
     ]
    },
    {
     "name": "stdout",
     "output_type": "stream",
     "text": [
      "Epoch:  150\n",
      "t_loss:  0.39307881862509486 , v_loss:  0.7883280416329702\n",
      "t_acc:  0.722568578553616 , v_acc:  0.7168674698795181\n",
      "t_recall:  0.5563381023934202 , v_recall:  0.5619222047793476\n",
      "t_prec:  0.7448550573098716 , v_prec:  0.6479166666666667\n",
      "t_f:  0.5266057917802986 , v_f:  0.5504465571881303\n",
      "////////\n"
     ]
    },
    {
     "name": "stderr",
     "output_type": "stream",
     "text": [
      "\r",
      "Iterations:  51%|████████████████▋                | 152/300 [03:25<03:02,  1.23s/it]"
     ]
    },
    {
     "name": "stdout",
     "output_type": "stream",
     "text": [
      "Epoch  151 , loss 0.3986089726289113\n",
      "Epoch  152 , loss 0.38767112849974167\n"
     ]
    },
    {
     "name": "stderr",
     "output_type": "stream",
     "text": [
      "\r",
      "Iterations:  51%|████████████████▊                | 153/300 [03:26<03:17,  1.34s/it]"
     ]
    },
    {
     "name": "stdout",
     "output_type": "stream",
     "text": [
      "Epoch:  152\n",
      "t_loss:  0.38767112849974167 , v_loss:  0.7885357737541199\n",
      "t_acc:  0.720074812967581 , v_acc:  0.7228915662650602\n",
      "t_recall:  0.5525387099479376 , v_recall:  0.5661957090528519\n",
      "t_prec:  0.7364926329077892 , v_prec:  0.6675496688741722\n",
      "t_f:  0.5203780523458119 , v_f:  0.554804104477612\n",
      "////////\n"
     ]
    },
    {
     "name": "stderr",
     "output_type": "stream",
     "text": [
      "\r",
      "Iterations:  51%|████████████████▉                | 154/300 [03:27<03:05,  1.27s/it]"
     ]
    },
    {
     "name": "stdout",
     "output_type": "stream",
     "text": [
      "Epoch  153 , loss 0.4024206908310161\n",
      "Epoch  154 , loss 0.39776066179369013\n"
     ]
    },
    {
     "name": "stderr",
     "output_type": "stream",
     "text": [
      "\r",
      "Iterations:  52%|█████████████████                | 155/300 [03:29<03:24,  1.41s/it]"
     ]
    },
    {
     "name": "stdout",
     "output_type": "stream",
     "text": [
      "Epoch:  154\n",
      "t_loss:  0.39776066179369013 , v_loss:  0.7891747852166494\n",
      "t_acc:  0.7188279301745636 , v_acc:  0.7228915662650602\n",
      "t_recall:  0.5507822184217606 , v_recall:  0.5661957090528519\n",
      "t_prec:  0.7313463060038788 , v_prec:  0.6675496688741722\n",
      "t_f:  0.5175762910798122 , v_f:  0.554804104477612\n",
      "////////\n"
     ]
    },
    {
     "name": "stderr",
     "output_type": "stream",
     "text": [
      "\r",
      "Iterations:  52%|█████████████████▏               | 156/300 [03:30<03:12,  1.34s/it]"
     ]
    },
    {
     "name": "stdout",
     "output_type": "stream",
     "text": [
      "Epoch  155 , loss 0.3962789464230631\n",
      "Epoch  156 , loss 0.3928891186620675\n"
     ]
    },
    {
     "name": "stderr",
     "output_type": "stream",
     "text": [
      "\r",
      "Iterations:  52%|█████████████████▎               | 157/300 [03:32<03:21,  1.41s/it]"
     ]
    },
    {
     "name": "stdout",
     "output_type": "stream",
     "text": [
      "Epoch:  156\n",
      "t_loss:  0.3928891186620675 , v_loss:  0.7884021004041036\n",
      "t_acc:  0.7228802992518704 , v_acc:  0.7168674698795181\n",
      "t_recall:  0.5577080558026314 , v_recall:  0.5619222047793476\n",
      "t_prec:  0.7411565094831021 , v_prec:  0.6479166666666667\n",
      "t_f:  0.5293886236255191 , v_f:  0.5504465571881303\n",
      "////////\n"
     ]
    },
    {
     "name": "stderr",
     "output_type": "stream",
     "text": [
      "\r",
      "Iterations:  53%|█████████████████▍               | 158/300 [03:33<03:01,  1.28s/it]"
     ]
    },
    {
     "name": "stdout",
     "output_type": "stream",
     "text": [
      "Epoch  157 , loss 0.3927192953871746\n",
      "Epoch  158 , loss 0.3905063417612338\n"
     ]
    },
    {
     "name": "stderr",
     "output_type": "stream",
     "text": [
      "\r",
      "Iterations:  53%|█████████████████▍               | 159/300 [03:34<03:12,  1.37s/it]"
     ]
    },
    {
     "name": "stdout",
     "output_type": "stream",
     "text": [
      "Epoch:  158\n",
      "t_loss:  0.3905063417612338 , v_loss:  0.7966829786698023\n",
      "t_acc:  0.7247506234413965 , v_acc:  0.7168674698795181\n",
      "t_recall:  0.5590539508228198 , v_recall:  0.5619222047793476\n",
      "t_prec:  0.7551963277171804 , v_prec:  0.6479166666666667\n",
      "t_f:  0.5306502830433308 , v_f:  0.5504465571881303\n",
      "////////\n"
     ]
    },
    {
     "name": "stderr",
     "output_type": "stream",
     "text": [
      "\r",
      "Iterations:  53%|█████████████████▌               | 160/300 [03:35<02:59,  1.28s/it]"
     ]
    },
    {
     "name": "stdout",
     "output_type": "stream",
     "text": [
      "Epoch  159 , loss 0.39803137323435617\n",
      "Epoch  160 , loss 0.38885558411186816\n"
     ]
    },
    {
     "name": "stderr",
     "output_type": "stream",
     "text": [
      "\r",
      "Iterations:  54%|█████████████████▋               | 161/300 [03:37<03:22,  1.46s/it]"
     ]
    },
    {
     "name": "stdout",
     "output_type": "stream",
     "text": [
      "Epoch:  160\n",
      "t_loss:  0.38885558411186816 , v_loss:  0.7989126294851303\n",
      "t_acc:  0.7253740648379052 , v_acc:  0.7108433734939759\n",
      "t_recall:  0.5612210388549856 , v_recall:  0.5517181231466946\n",
      "t_prec:  0.7503523027104821 , v_prec:  0.6309050772626932\n",
      "t_f:  0.5348853895898185 , v_f:  0.5354477611940298\n",
      "////////\n"
     ]
    },
    {
     "name": "stderr",
     "output_type": "stream",
     "text": [
      "\r",
      "Iterations:  54%|█████████████████▊               | 162/300 [03:38<03:00,  1.31s/it]"
     ]
    },
    {
     "name": "stdout",
     "output_type": "stream",
     "text": [
      "Epoch  161 , loss 0.3949488296228297\n",
      "Epoch  162 , loss 0.3870607836573732\n"
     ]
    },
    {
     "name": "stderr",
     "output_type": "stream",
     "text": [
      "\r",
      "Iterations:  54%|█████████████████▉               | 163/300 [03:40<03:18,  1.45s/it]"
     ]
    },
    {
     "name": "stdout",
     "output_type": "stream",
     "text": [
      "Epoch:  162\n",
      "t_loss:  0.3870607836573732 , v_loss:  0.7921732763449351\n",
      "t_acc:  0.7278678304239401 , v_acc:  0.7168674698795181\n",
      "t_recall:  0.5653068406935965 , v_recall:  0.5619222047793476\n",
      "t_prec:  0.7561249137336093 , v_prec:  0.6479166666666667\n",
      "t_f:  0.541582183967594 , v_f:  0.5504465571881303\n",
      "////////\n"
     ]
    },
    {
     "name": "stderr",
     "output_type": "stream",
     "text": [
      "\r",
      "Iterations:  55%|██████████████████               | 164/300 [03:41<02:54,  1.29s/it]"
     ]
    },
    {
     "name": "stdout",
     "output_type": "stream",
     "text": [
      "Epoch  163 , loss 0.38993024650742025\n",
      "Epoch  164 , loss 0.3964397916022469\n"
     ]
    },
    {
     "name": "stderr",
     "output_type": "stream",
     "text": [
      "\r",
      "Iterations:  55%|██████████████████▏              | 165/300 [03:43<03:15,  1.45s/it]"
     ]
    },
    {
     "name": "stdout",
     "output_type": "stream",
     "text": [
      "Epoch:  164\n",
      "t_loss:  0.3964397916022469 , v_loss:  0.7913343161344528\n",
      "t_acc:  0.7250623441396509 , v_acc:  0.7168674698795181\n",
      "t_recall:  0.5601374948389027 , v_recall:  0.5619222047793476\n",
      "t_prec:  0.752695315283049 , v_prec:  0.6479166666666667\n",
      "t_f:  0.5327769613104576 , v_f:  0.5504465571881303\n",
      "////////\n"
     ]
    },
    {
     "name": "stderr",
     "output_type": "stream",
     "text": [
      "\r",
      "Iterations:  55%|██████████████████▎              | 166/300 [03:44<02:57,  1.32s/it]"
     ]
    },
    {
     "name": "stdout",
     "output_type": "stream",
     "text": [
      "Epoch  165 , loss 0.38629475849516254\n",
      "Epoch  166 , loss 0.3967559425269856\n"
     ]
    },
    {
     "name": "stderr",
     "output_type": "stream",
     "text": [
      "\r",
      "Iterations:  56%|██████████████████▎              | 167/300 [03:45<03:03,  1.38s/it]"
     ]
    },
    {
     "name": "stdout",
     "output_type": "stream",
     "text": [
      "Epoch:  166\n",
      "t_loss:  0.3967559425269856 , v_loss:  0.7877096434434255\n",
      "t_acc:  0.720074812967581 , v_acc:  0.7168674698795181\n",
      "t_recall:  0.5548299850929639 , v_recall:  0.5619222047793476\n",
      "t_prec:  0.7254241439404644 , v_prec:  0.6479166666666667\n",
      "t_f:  0.5255897718641949 , v_f:  0.5504465571881303\n",
      "////////\n"
     ]
    },
    {
     "name": "stderr",
     "output_type": "stream",
     "text": [
      "\r",
      "Iterations:  56%|██████████████████▍              | 168/300 [03:46<02:47,  1.27s/it]"
     ]
    },
    {
     "name": "stdout",
     "output_type": "stream",
     "text": [
      "Epoch  167 , loss 0.38710059430084975\n",
      "Epoch  168 , loss 0.391437617002749\n"
     ]
    },
    {
     "name": "stderr",
     "output_type": "stream",
     "text": [
      "\r",
      "Iterations:  56%|██████████████████▌              | 169/300 [03:48<02:59,  1.37s/it]"
     ]
    },
    {
     "name": "stdout",
     "output_type": "stream",
     "text": [
      "Epoch:  168\n",
      "t_loss:  0.391437617002749 , v_loss:  0.794540117184321\n",
      "t_acc:  0.7312967581047382 , v_acc:  0.7168674698795181\n",
      "t_recall:  0.5712112276148147 , v_recall:  0.5619222047793476\n",
      "t_prec:  0.7619776555337704 , v_prec:  0.6479166666666667\n",
      "t_f:  0.5512514929635977 , v_f:  0.5504465571881303\n",
      "////////\n"
     ]
    },
    {
     "name": "stderr",
     "output_type": "stream",
     "text": [
      "\r",
      "Iterations:  57%|██████████████████▋              | 170/300 [03:49<02:42,  1.25s/it]"
     ]
    },
    {
     "name": "stdout",
     "output_type": "stream",
     "text": [
      "Epoch  169 , loss 0.3936675518166785\n",
      "Epoch  170 , loss 0.3955044880801556\n"
     ]
    },
    {
     "name": "stderr",
     "output_type": "stream",
     "text": [
      "\r",
      "Iterations:  57%|██████████████████▊              | 171/300 [03:51<02:58,  1.39s/it]"
     ]
    },
    {
     "name": "stdout",
     "output_type": "stream",
     "text": [
      "Epoch:  170\n",
      "t_loss:  0.3955044880801556 , v_loss:  0.7961550603310267\n",
      "t_acc:  0.7309850374064838 , v_acc:  0.7168674698795181\n",
      "t_recall:  0.5712733211712449 , v_recall:  0.5619222047793476\n",
      "t_prec:  0.758530585106383 , v_prec:  0.6479166666666667\n",
      "t_f:  0.5516173738015682 , v_f:  0.5504465571881303\n",
      "////////\n"
     ]
    },
    {
     "name": "stderr",
     "output_type": "stream",
     "text": [
      "\r",
      "Iterations:  57%|██████████████████▉              | 172/300 [03:52<02:40,  1.25s/it]"
     ]
    },
    {
     "name": "stdout",
     "output_type": "stream",
     "text": [
      "Epoch  171 , loss 0.39343134036251143\n",
      "Epoch  172 , loss 0.39006754171614555\n"
     ]
    },
    {
     "name": "stderr",
     "output_type": "stream",
     "text": [
      "\r",
      "Iterations:  58%|███████████████████              | 173/300 [03:53<02:56,  1.39s/it]"
     ]
    },
    {
     "name": "stdout",
     "output_type": "stream",
     "text": [
      "Epoch:  172\n",
      "t_loss:  0.39006754171614555 , v_loss:  0.7924512376387914\n",
      "t_acc:  0.7297381546134664 , v_acc:  0.7168674698795181\n",
      "t_recall:  0.5695168296450678 , v_recall:  0.5619222047793476\n",
      "t_prec:  0.7545370650021813 , v_prec:  0.6479166666666667\n",
      "t_f:  0.5489459405416828 , v_f:  0.5504465571881303\n",
      "////////\n"
     ]
    },
    {
     "name": "stderr",
     "output_type": "stream",
     "text": [
      "\r",
      "Iterations:  58%|███████████████████▏             | 174/300 [03:54<02:47,  1.33s/it]"
     ]
    },
    {
     "name": "stdout",
     "output_type": "stream",
     "text": [
      "Epoch  173 , loss 0.3850465089667077\n",
      "Epoch  174 , loss 0.3858160265520507\n"
     ]
    },
    {
     "name": "stderr",
     "output_type": "stream",
     "text": [
      "\r",
      "Iterations:  58%|███████████████████▎             | 175/300 [03:56<03:08,  1.50s/it]"
     ]
    },
    {
     "name": "stdout",
     "output_type": "stream",
     "text": [
      "Epoch:  174\n",
      "t_loss:  0.3858160265520507 , v_loss:  0.7855717937151591\n",
      "t_acc:  0.7303615960099751 , v_acc:  0.7108433734939759\n",
      "t_recall:  0.5708246894978487 , v_recall:  0.5576487005058434\n",
      "t_prec:  0.7545288960033728 , v_prec:  0.6304776944334781\n",
      "t_f:  0.5511679270719858 , v_f:  0.5461380724538619\n",
      "////////\n"
     ]
    },
    {
     "name": "stderr",
     "output_type": "stream",
     "text": [
      "\r",
      "Iterations:  59%|███████████████████▎             | 176/300 [03:58<02:56,  1.42s/it]"
     ]
    },
    {
     "name": "stdout",
     "output_type": "stream",
     "text": [
      "Epoch  175 , loss 0.38304470976193744\n",
      "Epoch  176 , loss 0.3909804978791405\n"
     ]
    },
    {
     "name": "stderr",
     "output_type": "stream",
     "text": [
      "\r",
      "Iterations:  59%|███████████████████▍             | 177/300 [03:59<03:14,  1.58s/it]"
     ]
    },
    {
     "name": "stdout",
     "output_type": "stream",
     "text": [
      "Epoch:  176\n",
      "t_loss:  0.3909804978791405 , v_loss:  0.7899712473154068\n",
      "t_acc:  0.7272443890274314 , v_acc:  0.7168674698795181\n",
      "t_recall:  0.564571799627072 , v_recall:  0.5619222047793476\n",
      "t_prec:  0.7532421785139176 , v_prec:  0.6479166666666667\n",
      "t_f:  0.5405319713306354 , v_f:  0.5504465571881303\n",
      "////////\n"
     ]
    },
    {
     "name": "stderr",
     "output_type": "stream",
     "text": [
      "\r",
      "Iterations:  59%|███████████████████▌             | 178/300 [04:01<02:53,  1.42s/it]"
     ]
    },
    {
     "name": "stdout",
     "output_type": "stream",
     "text": [
      "Epoch  177 , loss 0.3912891739723729\n",
      "Epoch  178 , loss 0.39093703674335106\n"
     ]
    },
    {
     "name": "stderr",
     "output_type": "stream",
     "text": [
      "\r",
      "Iterations:  60%|███████████████████▋             | 179/300 [04:02<02:58,  1.48s/it]"
     ]
    },
    {
     "name": "stdout",
     "output_type": "stream",
     "text": [
      "Epoch:  178\n",
      "t_loss:  0.39093703674335106 , v_loss:  0.7881518602371216\n",
      "t_acc:  0.7319201995012469 , v_acc:  0.7048192771084337\n",
      "t_recall:  0.5733783156469805 , v_recall:  0.5533751962323391\n",
      "t_prec:  0.7577651249905426 , v_prec:  0.6148648648648649\n",
      "t_f:  0.5552187889946121 , v_f:  0.541875528020276\n",
      "////////\n"
     ]
    },
    {
     "name": "stderr",
     "output_type": "stream",
     "text": [
      "\r",
      "Iterations:  60%|███████████████████▊             | 180/300 [04:03<02:42,  1.35s/it]"
     ]
    },
    {
     "name": "stdout",
     "output_type": "stream",
     "text": [
      "Epoch  179 , loss 0.39998183180304137\n",
      "Epoch  180 , loss 0.38934387237417933\n"
     ]
    },
    {
     "name": "stderr",
     "output_type": "stream",
     "text": [
      "\r",
      "Iterations:  60%|███████████████████▉             | 181/300 [04:05<02:46,  1.40s/it]"
     ]
    },
    {
     "name": "stdout",
     "output_type": "stream",
     "text": [
      "Epoch:  180\n",
      "t_loss:  0.38934387237417933 , v_loss:  0.7907786766688029\n",
      "t_acc:  0.7303615960099751 , v_acc:  0.7108433734939759\n",
      "t_recall:  0.5728295552497467 , v_recall:  0.5576487005058434\n",
      "t_prec:  0.7459150326797386 , v_prec:  0.6304776944334781\n",
      "t_f:  0.5552367771287342 , v_f:  0.5461380724538619\n",
      "////////\n"
     ]
    },
    {
     "name": "stderr",
     "output_type": "stream",
     "text": [
      "\r",
      "Iterations:  61%|████████████████████             | 182/300 [04:06<02:28,  1.26s/it]"
     ]
    },
    {
     "name": "stdout",
     "output_type": "stream",
     "text": [
      "Epoch  181 , loss 0.3897101925868614\n",
      "Epoch  182 , loss 0.3890894338780758\n"
     ]
    },
    {
     "name": "stderr",
     "output_type": "stream",
     "text": [
      "\r",
      "Iterations:  61%|████████████████████▏            | 183/300 [04:07<02:40,  1.37s/it]"
     ]
    },
    {
     "name": "stdout",
     "output_type": "stream",
     "text": [
      "Epoch:  182\n",
      "t_loss:  0.3890894338780758 , v_loss:  0.790880411863327\n",
      "t_acc:  0.7297381546134664 , v_acc:  0.7168674698795181\n",
      "t_recall:  0.5703760578244526 , v_recall:  0.5619222047793476\n",
      "t_prec:  0.75060377013655 , v_prec:  0.6479166666666667\n",
      "t_f:  0.5507190776267199 , v_f:  0.5504465571881303\n",
      "////////\n"
     ]
    },
    {
     "name": "stderr",
     "output_type": "stream",
     "text": [
      "\r",
      "Iterations:  61%|████████████████████▏            | 184/300 [04:08<02:25,  1.26s/it]"
     ]
    },
    {
     "name": "stdout",
     "output_type": "stream",
     "text": [
      "Epoch  183 , loss 0.3849264222617243\n",
      "Epoch  184 , loss 0.39523954660284755\n"
     ]
    },
    {
     "name": "stderr",
     "output_type": "stream",
     "text": [
      "\r",
      "Iterations:  62%|████████████████████▎            | 185/300 [04:10<02:38,  1.38s/it]"
     ]
    },
    {
     "name": "stdout",
     "output_type": "stream",
     "text": [
      "Epoch:  184\n",
      "t_loss:  0.39523954660284755 , v_loss:  0.7948233336210251\n",
      "t_acc:  0.7288029925187033 , v_acc:  0.7168674698795181\n",
      "t_recall:  0.5708487478868716 , v_recall:  0.5619222047793476\n",
      "t_prec:  0.7402590540719042 , v_prec:  0.6479166666666667\n",
      "t_f:  0.552376974878221 , v_f:  0.5504465571881303\n",
      "////////\n"
     ]
    },
    {
     "name": "stderr",
     "output_type": "stream",
     "text": [
      "\r",
      "Iterations:  62%|████████████████████▍            | 186/300 [04:11<02:26,  1.28s/it]"
     ]
    },
    {
     "name": "stdout",
     "output_type": "stream",
     "text": [
      "Epoch  185 , loss 0.3830878535906474\n",
      "Epoch  186 , loss 0.38317709839811515\n"
     ]
    },
    {
     "name": "stderr",
     "output_type": "stream",
     "text": [
      "\r",
      "Iterations:  62%|████████████████████▌            | 187/300 [04:13<02:32,  1.35s/it]"
     ]
    },
    {
     "name": "stdout",
     "output_type": "stream",
     "text": [
      "Epoch:  186\n",
      "t_loss:  0.38317709839811515 , v_loss:  0.7927928815285364\n",
      "t_acc:  0.7344139650872819 , v_acc:  0.7168674698795181\n",
      "t_recall:  0.5794689832374893 , v_recall:  0.5619222047793476\n",
      "t_prec:  0.754205200596314 , v_prec:  0.6479166666666667\n",
      "t_f:  0.5655537583544419 , v_f:  0.5504465571881303\n",
      "////////\n"
     ]
    },
    {
     "name": "stderr",
     "output_type": "stream",
     "text": [
      "\r",
      "Iterations:  63%|████████████████████▋            | 188/300 [04:14<02:19,  1.25s/it]"
     ]
    },
    {
     "name": "stdout",
     "output_type": "stream",
     "text": [
      "Epoch  187 , loss 0.3954063963656332\n",
      "Epoch  188 , loss 0.38732301487642173\n"
     ]
    },
    {
     "name": "stderr",
     "output_type": "stream",
     "text": [
      "\r",
      "Iterations:  63%|████████████████████▊            | 189/300 [04:15<02:27,  1.33s/it]"
     ]
    },
    {
     "name": "stdout",
     "output_type": "stream",
     "text": [
      "Epoch:  188\n",
      "t_loss:  0.38732301487642173 , v_loss:  0.7868283142646154\n",
      "t_acc:  0.7316084788029925 , v_acc:  0.7108433734939759\n",
      "t_recall:  0.573726818596539 , v_recall:  0.5576487005058434\n",
      "t_prec:  0.7533031463334761 , v_prec:  0.6304776944334781\n",
      "t_f:  0.556146698323551 , v_f:  0.5461380724538619\n",
      "////////\n"
     ]
    },
    {
     "name": "stderr",
     "output_type": "stream",
     "text": [
      "\r",
      "Iterations:  63%|████████████████████▉            | 190/300 [04:16<02:15,  1.23s/it]"
     ]
    },
    {
     "name": "stdout",
     "output_type": "stream",
     "text": [
      "Epoch  189 , loss 0.3908650360855402\n",
      "Epoch  190 , loss 0.3873573658513088\n"
     ]
    },
    {
     "name": "stderr",
     "output_type": "stream",
     "text": [
      "\r",
      "Iterations:  64%|█████████████████████            | 191/300 [04:18<02:25,  1.33s/it]"
     ]
    },
    {
     "name": "stdout",
     "output_type": "stream",
     "text": [
      "Epoch:  190\n",
      "t_loss:  0.3873573658513088 , v_loss:  0.797975018620491\n",
      "t_acc:  0.7309850374064838 , v_acc:  0.7108433734939759\n",
      "t_recall:  0.5735645963162711 , v_recall:  0.5517181231466946\n",
      "t_prec:  0.7483969597940185 , v_prec:  0.6309050772626932\n",
      "t_f:  0.5562651314012689 , v_f:  0.5354477611940298\n",
      "////////\n"
     ]
    },
    {
     "name": "stderr",
     "output_type": "stream",
     "text": [
      "\r",
      "Iterations:  64%|█████████████████████            | 192/300 [04:19<02:19,  1.29s/it]"
     ]
    },
    {
     "name": "stdout",
     "output_type": "stream",
     "text": [
      "Epoch  191 , loss 0.3802296634690434\n",
      "Epoch  192 , loss 0.3870607532706915\n"
     ]
    }
   ],
   "source": [
    "from utilities.userfold_framework import *\n",
    "from Models.AR_EEG_models import *\n",
    "import Models.model_func as Model_Func\n",
    "import numpy as np\n",
    "import pandas as pd\n",
    "import matplotlib.pyplot as plt\n",
    "import seaborn as sns\n",
    "from typing import List\n",
    "from torcheeg.models import EEGNet\n",
    "from torch import nn\n",
    "\n",
    "\n",
    "DEVICE= torch.device(\"cuda\") if torch.cuda.is_available() else torch.device(\"cpu\")\n",
    "\n",
    "learning_rate = 0.00005\n",
    "batch_size = 64\n",
    "n_epochs = 300\n",
    "transpose_channels=True\n",
    "participants_dictionary=[]\n",
    "# participants_online_dictionary=[]\n",
    "participants_grads_dictionary={}\n",
    "b_acc_list=[]\n",
    "c0_acc_list=[]\n",
    "c1_acc_list=[]\n",
    "\n",
    "# EPOCH=[\n",
    "    \n",
    "# ]\n",
    "\n",
    "for i in range(len(participants)):\n",
    "\n",
    "    train_dataloader, val_dataloader, classes, input_dim, class_ratio= user_fold_load(i,\n",
    "                                                                                      raw_user_fold,\n",
    "                                                                                      participants,\n",
    "                                                                                      batch_size=batch_size,\n",
    "                                                                                      transpose_channels=transpose_channels)\n",
    "\n",
    "    eegnet= EEGNet(\n",
    "        chunk_size=input_dim[1],\n",
    "        num_electrodes=input_dim[0],\n",
    "        num_classes=classes,\n",
    "        kernel_1= 32,\n",
    "        kernel_2=32,\n",
    "        F1=8,\n",
    "        F2=16,\n",
    "        dropout=0.5\n",
    "    ).to(DEVICE)\n",
    "    \n",
    "#     resnet = ResNetPlus(input_dim[0], classes, bn_1st=False)\n",
    "#     softmax_activation = nn.LogSoftmax(dim=1)\n",
    "#     classifier = nn.Sequential(resnet, softmax_activation).to(DEVICE)\n",
    "\n",
    "    \n",
    "#     classifier = DataGliderBasic_Model(DEVICE, input_dim, classes)\n",
    "#     classifier.to(DEVICE)\n",
    "    \n",
    "#     optimizer= torch.optim.RMSprop(classifier.parameters(), lr=learning_rate)\n",
    "    \n",
    "    \n",
    "    criterion= torch.nn.CrossEntropyLoss(weight=torch.tensor(class_ratio, dtype=torch.float).to(DEVICE))\n",
    "#     criterion = nn.NLLLoss(weight=torch.tensor(class_ratio, dtype=torch.float).to(DEVICE))\n",
    "        \n",
    "    saved_dir= \"./EEG/saved_models/Userfold/run2\"\n",
    "    classifier = LSTM_EEGNet_Wrapper(DEVICE, eegnet, input_dim).to(DEVICE)\n",
    "    model = EEGNet_IE_HP_Wrapper(DEVICE, classifier, input_dim).to(DEVICE)\n",
    "    optimizer = torch.optim.Adam(model.parameters(), lr = learning_rate)\n",
    "    scheduler= torch.optim.lr_scheduler.ReduceLROnPlateau(optimizer, patience=2)\n",
    "\n",
    "    \n",
    "    train_func= eeg_train\n",
    "    model.training_procedure(iteration=n_epochs,\n",
    "                                    train_dataloader=train_dataloader,\n",
    "                                     val_dataloader=val_dataloader,\n",
    "                                     print_cycle=2,\n",
    "                                     path=f\"./dictionary/intermdiate_dicts\",\n",
    "                                     loss_func=criterion,\n",
    "                                     optimiser=optimizer, #scheduler=scheduler,\n",
    "                                     train_func=train_func\n",
    "                                    )\n",
    "    if model.epoch == n_epochs+1:\n",
    "        EPOCH= n_epochs\n",
    "    else:\n",
    "        EPOCH= model.epoch\n",
    "    \n",
    "    torch.save(model.state_dict(), \n",
    "           os.path.join(\n",
    "               saved_dir, f\"Userfold-{participants[i]}-LSTM_EEGNet-Weight_Multivariate-e{EPOCH}.pt\"\n",
    "           )\n",
    "    )\n",
    "\n",
    "    pickle.dump( model.return_IE_weights(), \n",
    "                open(f\"{saved_dir}/Userfold-{participants[i]}-LSTM_EEGNet-Weight_Multivariate-w-e{EPOCH}.pkl\", \"wb\") \n",
    "               )    \n",
    "\n",
    "# OR\n",
    "#     model.load_state_dict(\n",
    "#     torch.load(\n",
    "#         open(\n",
    "#             os.path.join(\n",
    "#                 saved_dir, f\"Userfold-{participants[i]}-EEGNet-Weight_Multivariate-e{n_epochs}.pt\"\n",
    "#             ), \"rb\"\n",
    "#         )\n",
    "#               )\n",
    "#     )\n",
    "    \n",
    "    prediction, dictionary= model.prediction_procedure(val_dataloader, dict_flag=True)\n",
    "    \n",
    "    ys= np.concatenate([y.detach().cpu().numpy() for x, y in val_dataloader])\n",
    "    \n",
    "    c0_acc, c1_acc, b_acc= calculate_accuracy(ys, prediction)\n",
    "    print(\"c0_acc\", c0_acc, \", c1_acc\", c1_acc, \", b_acc\", b_acc)\n",
    "    b_acc_list.append(b_acc)\n",
    "    c0_acc_list.append(c0_acc)\n",
    "    c1_acc_list.append(c1_acc)\n",
    "    participants_dictionary.append(dictionary)\n",
    "    \n",
    "\n",
    "tmp=[]\n",
    "for i, dictionary in enumerate(participants_dictionary):\n",
    "    print(f\"User {participants[i]} f1: {dictionary['weighted avg']['f1-score']} acc: {dictionary['accuracy']}\")\n",
    "    print(f\" c0: {c0_acc_list[i]} c1: {c1_acc_list[i]} bacc: {b_acc_list[i]}\")\n",
    "    tmp.append(dictionary['weighted avg']['f1-score'])\n",
    "\n",
    "print(f\"average {np.mean(tmp)}\")\n",
    "print()\n",
    "print(np.array(b_acc_list).mean())\n",
    "print(np.array(c1_acc_list).mean())\n",
    "print(np.array(c0_acc_list).mean())\n"
   ]
  },
  {
   "cell_type": "code",
   "execution_count": null,
   "id": "eb9de653",
   "metadata": {},
   "outputs": [],
   "source": [
    "userfold_results_summary(participants_dictionary, participants)\n",
    "userfold_classwise_results_summary(participants_dictionary, participants)\n"
   ]
  },
  {
   "cell_type": "code",
   "execution_count": null,
   "id": "aa50c967",
   "metadata": {},
   "outputs": [],
   "source": [
    "start=-0.5\n",
    "step=1.5/(188-1)\n",
    "timestep_labels=[]\n",
    "for i in range(input_dim[1]):\n",
    "    timestep_labels.append(round(start+step*i,3))\n",
    "    \n",
    "# timestep_labels"
   ]
  },
  {
   "cell_type": "code",
   "execution_count": null,
   "id": "2b9ee100",
   "metadata": {},
   "outputs": [],
   "source": [
    "# channel_names=[i for i in range(input_dim[0])]\n",
    "channel_names=[\"AFz\",\"F3\",\"F1\",\"Fz\",\"F2\",\"F4\",\"FC5\",\"FC3\",\"FC1\",\"FCz\",\"FC2\",\n",
    "               \"FC4\",\"FC6\",\"C5\",\"C3\",\"C1\",\"Cz\",\"C2\",\"C4\",\"C6\",\"CP5\",\"CP3\",\n",
    "               \"CP1\",\"CPz\",\"CP2\",\"CP4\",\"CP6\",\"P3\",\"P1\",\"Pz\",\"P2\",\"P4\"]"
   ]
  },
  {
   "cell_type": "code",
   "execution_count": null,
   "id": "3762af43",
   "metadata": {},
   "outputs": [],
   "source": [
    "from sklearn.preprocessing import MinMaxScaler\n",
    "\n",
    "participants_w_list=[]\n",
    "\n",
    "for i in range(len(participants)):\n",
    "\n",
    "    w= pickle.load(\n",
    "        open(f\"{saved_dir}/Userfold-{participants[i]}-LSTM_EEGNet-Weight_Multivariate-w-e{EPOCH}.pkl\", \"rb\") \n",
    "                    )  \n",
    "    participants_w_list.append(w)\n",
    "    \n",
    "avg_w= np.array(participants_w_list).mean(axis=0)\n",
    "# scaler= MinMaxScaler()\n",
    "# scaled_avg_w= scaler.fit_transform(avg_w)"
   ]
  },
  {
   "cell_type": "code",
   "execution_count": null,
   "id": "eb0ed3fc",
   "metadata": {},
   "outputs": [],
   "source": [
    "# fig, ax= plt.subplots(3,1)\n",
    "fig =plt.figure()\n",
    "sns.heatmap(pd.DataFrame(avg_w), \n",
    "            xticklabels=timestep_labels,\n",
    "            yticklabels=channel_names, \n",
    "            annot=False, cbar_kws={\"pad\":0.02})\n",
    "\n",
    "# ax[0].set_title(\"AUC\")\n",
    "\n",
    "# sns.heatmap(pd.DataFrame(avg_grad[\"ROC\"]), \n",
    "#             xticklabels=timestep_labels,\n",
    "#             yticklabels=channel_names, ax=ax[1],\n",
    "#             annot=False, cbar_kws={\"pad\":0.02})\n",
    "# ax[1].set_title(\"ROC\")\n",
    "\n",
    "# sns.heatmap(pd.DataFrame(avg_grad[\"STD\"]), \n",
    "#             xticklabels=timestep_labels,\n",
    "#             yticklabels=channel_names, ax=ax[2],\n",
    "#             annot=False, cbar_kws={\"pad\":0.02})\n",
    "# ax[2].set_title(\"STD\")\n",
    "\n",
    "# plt.suptitle(\"Relative Importance Estimate of Time Series\")\n",
    "fig.set_figwidth(40)\n",
    "fig.set_figheight(20)\n",
    "plt.tight_layout()"
   ]
  },
  {
   "cell_type": "code",
   "execution_count": null,
   "id": "eadc9b3b",
   "metadata": {},
   "outputs": [],
   "source": [
    "import matplotlib.pyplot as plt\n",
    "import matplotlib\n",
    "from sklearn.preprocessing import MinMaxScaler\n",
    "\n",
    "plt.figure(figsize=(8,6))\n",
    "\n",
    "\n",
    "scaler= MinMaxScaler()\n",
    "scaled_avg_w= scaler.fit_transform(avg_w.sum(0).reshape(-1,1))\n",
    "df= pd.DataFrame(scaled_avg_w)\n",
    "# df.index= channel_names\n",
    "# df.columns=timestep_labels\n",
    "\n",
    "\n",
    "plt.plot(df)\n",
    "# plt.legend(methods)\n",
    "plt.xlabel(\"Timesteps\")\n",
    "plt.axvspan(107,121, color=\"green\", alpha=0.2)\n",
    "plt.axvspan(112,128, color=\"red\", alpha=0.2)\n",
    "plt.axvspan(142,150, color=\"red\", alpha=0.2)\n",
    "plt.axvspan(157,159, color=\"red\", alpha=0.2)\n",
    "plt.xticks([0,31,62,93,124,155,187],[-0.5, -0.25, 0, 0.25, 0.5, 0.75, 1.0])\n",
    "plt.ylabel(\"Normalised Importance\")\n",
    "plt.margins(x=0)\n",
    "matplotlib.rcParams.update({\"font.size\":18})\n",
    "plt.tight_layout()\n",
    "#     sns.heatmap(df.sum().to_numpy().reshape(-1,1),annot=True, \n",
    "#                 yticklabels=timestep_labels, ax=ax[i][1],\n",
    "#                 xticklabels=False, cbar_kws={\"pad\":0.02})"
   ]
  },
  {
   "cell_type": "code",
   "execution_count": null,
   "id": "bcd52006",
   "metadata": {},
   "outputs": [],
   "source": [
    "from sklearn.preprocessing import MinMaxScaler\n",
    "import mne\n",
    "info= mne.create_info(channel_names, sfreq=500, ch_types=32*[\"eeg\"])\n",
    "info.set_montage(\"standard_1020\")\n",
    "\n",
    "fig= plt.figure()\n",
    "ax= plt.axes((0,0,1.5,1.5))\n",
    "\n",
    "scaler= MinMaxScaler()\n",
    "scaled_avg_w= scaler.fit_transform(avg_w.sum(1).reshape(-1,1))\n",
    "# df= pd.DataFrame(scaled_avg_w.reshape(-1))\n",
    "\n",
    "im, _= mne.viz.plot_topomap(\n",
    "    scaled_avg_w.reshape(-1),\n",
    "    info,\n",
    "    ch_type= \"eeg\",\n",
    "    sensors=True,\n",
    "    names=channel_names,\n",
    "    cmap=\"Blues\",\n",
    "    axes=ax,\n",
    "    show=False,\n",
    "    extrapolate=\"local\"\n",
    "#     sphere=\"eeglab\"\n",
    ")\n",
    "fig.add_axes(ax)\n",
    "cbar_ax= fig.add_axes([1.3,0.2, 0.1,1])\n",
    "clb= fig.colorbar(im, cax=cbar_ax)\n",
    "clb.set_label(\"Importance Estimate\", rotation=270,labelpad=20)\n",
    "\n",
    "for tt in plt.findobj(fig, matplotlib.text.Text):\n",
    "    if tt.get_text() in channel_names:\n",
    "        tt.set_fontsize(14)"
   ]
  }
 ],
 "metadata": {
  "kernelspec": {
   "display_name": "Python [conda env:pytorch]",
   "language": "python",
   "name": "conda-env-pytorch-py"
  },
  "language_info": {
   "codemirror_mode": {
    "name": "ipython",
    "version": 3
   },
   "file_extension": ".py",
   "mimetype": "text/x-python",
   "name": "python",
   "nbconvert_exporter": "python",
   "pygments_lexer": "ipython3",
   "version": "3.7.10"
  }
 },
 "nbformat": 4,
 "nbformat_minor": 5
}
