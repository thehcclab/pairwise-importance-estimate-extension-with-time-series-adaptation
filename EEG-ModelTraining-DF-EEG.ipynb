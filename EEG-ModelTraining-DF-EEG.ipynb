{
 "cells": [
  {
   "cell_type": "code",
   "execution_count": 1,
   "id": "4c9e593e",
   "metadata": {},
   "outputs": [],
   "source": [
    "import numpy as np\n",
    "import pickle\n",
    "import sys\n",
    "from typing import List\n",
    "import torch\n",
    "import os"
   ]
  },
  {
   "cell_type": "code",
   "execution_count": 2,
   "id": "eb96ce98",
   "metadata": {},
   "outputs": [],
   "source": [
    "participant_data_path = './EEG/number'\n",
    "processed_data_path = './EEG/processed_data'\n",
    "split_data_path = './EEG/split_data'"
   ]
  },
  {
   "cell_type": "code",
   "execution_count": 3,
   "id": "62c74d3a",
   "metadata": {},
   "outputs": [],
   "source": [
    "ps = os.listdir(participant_data_path)\n",
    "participants=[]\n",
    "for p in ps:\n",
    "    p= p[:3]\n",
    "    if p not in participants:\n",
    "        participants.append(p)\n",
    "        \n",
    "participants= sorted(participants)\n",
    "# participants, len(participants)"
   ]
  },
  {
   "cell_type": "code",
   "execution_count": 4,
   "id": "28f3009e",
   "metadata": {
    "scrolled": true
   },
   "outputs": [],
   "source": [
    "load_name=f\"userfold_data_scaled_p_dictionary-number\"\n",
    "data_dir = \"./EEG/split_data/standard_scaled\"\n",
    "try:\n",
    "    raw_user_fold= pickle.load(open(os.path.join(data_dir, f\"{load_name}.pkl\"), \"rb\"))\n",
    "except:\n",
    "    print(f\"pickle file does not exist. Use EEG-Preprocess.ipynb and EEG-Split.ipynb to save data setting.\")\n",
    "    sys.exit()"
   ]
  },
  {
   "cell_type": "code",
   "execution_count": null,
   "id": "082a80ac",
   "metadata": {
    "scrolled": true
   },
   "outputs": [
    {
     "name": "stderr",
     "output_type": "stream",
     "text": [
      "\r",
      "Iterations:   0%|                                           | 0/300 [00:00<?, ?it/s]"
     ]
    },
    {
     "name": "stdout",
     "output_type": "stream",
     "text": [
      "Epoch  0 , loss 17.98534606484806\n"
     ]
    },
    {
     "name": "stderr",
     "output_type": "stream",
     "text": [
      "\r",
      "Iterations:   0%|                                   | 1/300 [00:03<15:10,  3.04s/it]"
     ]
    },
    {
     "name": "stdout",
     "output_type": "stream",
     "text": [
      "Epoch:  0\n",
      "t_loss:  17.98534606484806 , v_loss:  0.6919819513956705\n",
      "t_acc:  0.4786803610333022 , v_acc:  0.5962732919254659\n",
      "t_recall:  0.49013875735990453 , v_recall:  0.5258558558558558\n",
      "t_prec:  0.4916112084063047 , v_prec:  0.5261479591836735\n",
      "t_f:  0.4645471518179742 , v_f:  0.5259772614032704\n",
      "////////\n"
     ]
    },
    {
     "name": "stderr",
     "output_type": "stream",
     "text": [
      "\r",
      "Iterations:   1%|▏                                  | 2/300 [00:03<08:33,  1.72s/it]"
     ]
    },
    {
     "name": "stdout",
     "output_type": "stream",
     "text": [
      "Epoch  1 , loss 17.862702463187425\n",
      "Epoch  2 , loss 17.74988009882908\n"
     ]
    },
    {
     "name": "stderr",
     "output_type": "stream",
     "text": [
      "\r",
      "Iterations:   1%|▎                                  | 3/300 [00:05<07:44,  1.56s/it]"
     ]
    },
    {
     "name": "stdout",
     "output_type": "stream",
     "text": [
      "Epoch:  2\n",
      "t_loss:  17.74988009882908 , v_loss:  0.6855771144231161\n",
      "t_acc:  0.554933084344849 , v_acc:  0.6645962732919255\n",
      "t_recall:  0.48082856397798546 , v_recall:  0.5259459459459459\n",
      "t_prec:  0.4812855204666663 , v_prec:  0.5510638297872341\n",
      "t_f:  0.4809545865341166 , v_f:  0.5071428571428571\n",
      "////////\n"
     ]
    },
    {
     "name": "stderr",
     "output_type": "stream",
     "text": [
      "\r",
      "Iterations:   1%|▍                                  | 4/300 [00:06<06:15,  1.27s/it]"
     ]
    },
    {
     "name": "stdout",
     "output_type": "stream",
     "text": [
      "Epoch  3 , loss 17.632397857366822\n",
      "Epoch  4 , loss 17.518320121017158\n"
     ]
    },
    {
     "name": "stderr",
     "output_type": "stream",
     "text": [
      "\r",
      "Iterations:   2%|▌                                  | 5/300 [00:07<06:26,  1.31s/it]"
     ]
    },
    {
     "name": "stdout",
     "output_type": "stream",
     "text": [
      "Epoch:  4\n",
      "t_loss:  17.518320121017158 , v_loss:  0.6741877198219299\n",
      "t_acc:  0.6246498599439776 , v_acc:  0.6832298136645962\n",
      "t_recall:  0.49499869614745884 , v_recall:  0.522972972972973\n",
      "t_prec:  0.49251448213527615 , v_prec:  0.5772727272727273\n",
      "t_f:  0.48178805467140984 , v_f:  0.4842660636894668\n",
      "////////\n"
     ]
    },
    {
     "name": "stderr",
     "output_type": "stream",
     "text": [
      "\r",
      "Iterations:   2%|▋                                  | 6/300 [00:08<05:36,  1.15s/it]"
     ]
    },
    {
     "name": "stdout",
     "output_type": "stream",
     "text": [
      "Epoch  5 , loss 17.413773630179612\n",
      "Epoch  6 , loss 17.307237438127107\n"
     ]
    },
    {
     "name": "stderr",
     "output_type": "stream",
     "text": [
      "\r",
      "Iterations:   2%|▊                                  | 7/300 [00:09<05:58,  1.23s/it]"
     ]
    },
    {
     "name": "stdout",
     "output_type": "stream",
     "text": [
      "Epoch:  6\n",
      "t_loss:  17.307237438127107 , v_loss:  0.6616616447766622\n",
      "t_acc:  0.6626206037970744 , v_acc:  0.6894409937888198\n",
      "t_recall:  0.49813892205706756 , v_recall:  0.5\n",
      "t_prec:  0.49466414827057015 , v_prec:  0.3447204968944099\n",
      "t_f:  0.4570570739098715 , v_f:  0.4080882352941176\n",
      "////////\n"
     ]
    },
    {
     "name": "stderr",
     "output_type": "stream",
     "text": [
      "\r",
      "Iterations:   3%|▉                                  | 8/300 [00:10<05:20,  1.10s/it]"
     ]
    },
    {
     "name": "stdout",
     "output_type": "stream",
     "text": [
      "Epoch  7 , loss 17.201436360677082\n",
      "Epoch  8 , loss 17.103071511960497\n"
     ]
    },
    {
     "name": "stderr",
     "output_type": "stream",
     "text": [
      "\r",
      "Iterations:   3%|█                                  | 9/300 [00:11<05:44,  1.18s/it]"
     ]
    },
    {
     "name": "stdout",
     "output_type": "stream",
     "text": [
      "Epoch:  8\n",
      "t_loss:  17.103071511960497 , v_loss:  0.6536032259464264\n",
      "t_acc:  0.6816059757236228 , v_acc:  0.6894409937888198\n",
      "t_recall:  0.4988464336201809 , v_recall:  0.5\n",
      "t_prec:  0.49241293607187775 , v_prec:  0.3447204968944099\n",
      "t_f:  0.4328028459090058 , v_f:  0.4080882352941176\n",
      "////////\n"
     ]
    },
    {
     "name": "stderr",
     "output_type": "stream",
     "text": [
      "\r",
      "Iterations:   3%|█▏                                | 10/300 [00:12<05:09,  1.07s/it]"
     ]
    },
    {
     "name": "stdout",
     "output_type": "stream",
     "text": [
      "Epoch  9 , loss 17.00730593064252\n",
      "Epoch  10 , loss 16.906655666874904\n"
     ]
    },
    {
     "name": "stderr",
     "output_type": "stream",
     "text": [
      "\r",
      "Iterations:   4%|█▏                                | 11/300 [00:14<05:36,  1.16s/it]"
     ]
    },
    {
     "name": "stdout",
     "output_type": "stream",
     "text": [
      "Epoch:  10\n",
      "t_loss:  16.906655666874904 , v_loss:  0.650234709183375\n",
      "t_acc:  0.6893868658574541 , v_acc:  0.6894409937888198\n",
      "t_recall:  0.49782599744719397 , v_recall:  0.5\n",
      "t_prec:  0.45845136921624174 , v_prec:  0.3447204968944099\n",
      "t_f:  0.4156870334168646 , v_f:  0.4080882352941176\n",
      "////////\n"
     ]
    },
    {
     "name": "stderr",
     "output_type": "stream",
     "text": [
      "\r",
      "Iterations:   4%|█▎                                | 12/300 [00:14<05:02,  1.05s/it]"
     ]
    },
    {
     "name": "stdout",
     "output_type": "stream",
     "text": [
      "Epoch  11 , loss 16.817108939675723\n",
      "Epoch  12 , loss 16.722597122192383\n"
     ]
    },
    {
     "name": "stderr",
     "output_type": "stream",
     "text": [
      "\r",
      "Iterations:   4%|█▍                                | 13/300 [00:16<05:28,  1.15s/it]"
     ]
    },
    {
     "name": "stdout",
     "output_type": "stream",
     "text": [
      "Epoch:  12\n",
      "t_loss:  16.722597122192383 , v_loss:  0.6503851215044657\n",
      "t_acc:  0.6915655150949268 , v_acc:  0.6894409937888198\n",
      "t_recall:  0.4991044591756907 , v_recall:  0.5\n",
      "t_prec:  0.4772441933458883 , v_prec:  0.3447204968944099\n",
      "t_f:  0.41556137409245975 , v_f:  0.4080882352941176\n",
      "////////\n"
     ]
    },
    {
     "name": "stderr",
     "output_type": "stream",
     "text": [
      "\r",
      "Iterations:   5%|█▌                                | 14/300 [00:17<05:00,  1.05s/it]"
     ]
    },
    {
     "name": "stdout",
     "output_type": "stream",
     "text": [
      "Epoch  13 , loss 16.62879341723872\n",
      "Epoch  14 , loss 16.53784980025946\n"
     ]
    },
    {
     "name": "stderr",
     "output_type": "stream",
     "text": [
      "\r",
      "Iterations:   5%|█▋                                | 15/300 [00:18<05:25,  1.14s/it]"
     ]
    },
    {
     "name": "stdout",
     "output_type": "stream",
     "text": [
      "Epoch:  14\n",
      "t_loss:  16.53784980025946 , v_loss:  0.6520330111185709\n",
      "t_acc:  0.6946778711484594 , v_acc:  0.6894409937888198\n",
      "t_recall:  0.5007665280465544 , v_recall:  0.5\n",
      "t_prec:  0.5402764423076923 , v_prec:  0.3447204968944099\n",
      "t_f:  0.41479701861370544 , v_f:  0.4080882352941176\n",
      "////////\n"
     ]
    },
    {
     "name": "stderr",
     "output_type": "stream",
     "text": [
      "\r",
      "Iterations:   5%|█▊                                | 16/300 [00:19<04:56,  1.04s/it]"
     ]
    },
    {
     "name": "stdout",
     "output_type": "stream",
     "text": [
      "Epoch  15 , loss 16.4508155373966\n",
      "Epoch  16 , loss 16.364345700133082\n"
     ]
    },
    {
     "name": "stderr",
     "output_type": "stream",
     "text": [
      "\r",
      "Iterations:   6%|█▉                                | 17/300 [00:20<05:23,  1.14s/it]"
     ]
    },
    {
     "name": "stdout",
     "output_type": "stream",
     "text": [
      "Epoch:  16\n",
      "t_loss:  16.364345700133082 , v_loss:  0.6550408204396566\n",
      "t_acc:  0.6946778711484594 , v_acc:  0.6894409937888198\n",
      "t_recall:  0.5001914604520937 , v_recall:  0.5\n",
      "t_prec:  0.5145131086142322 , v_prec:  0.3447204968944099\n",
      "t_f:  0.4128574949243642 , v_f:  0.4080882352941176\n",
      "////////\n"
     ]
    },
    {
     "name": "stderr",
     "output_type": "stream",
     "text": [
      "\r",
      "Iterations:   6%|██                                | 18/300 [00:21<04:52,  1.04s/it]"
     ]
    },
    {
     "name": "stdout",
     "output_type": "stream",
     "text": [
      "Epoch  17 , loss 16.27813399071787\n",
      "Epoch  18 , loss 16.193981282851276\n"
     ]
    },
    {
     "name": "stderr",
     "output_type": "stream",
     "text": [
      "\r",
      "Iterations:   6%|██▏                               | 19/300 [00:22<05:19,  1.14s/it]"
     ]
    },
    {
     "name": "stdout",
     "output_type": "stream",
     "text": [
      "Epoch:  18\n",
      "t_loss:  16.193981282851276 , v_loss:  0.6595984697341919\n",
      "t_acc:  0.6946778711484594 , v_acc:  0.6894409937888198\n",
      "t_recall:  0.49961639285763304 , v_recall:  0.5\n",
      "t_prec:  0.44772443890274316 , v_prec:  0.3447204968944099\n",
      "t_f:  0.4109015490043957 , v_f:  0.4080882352941176\n",
      "////////\n"
     ]
    },
    {
     "name": "stderr",
     "output_type": "stream",
     "text": [
      "\r",
      "Iterations:   7%|██▎                               | 20/300 [00:23<04:51,  1.04s/it]"
     ]
    },
    {
     "name": "stdout",
     "output_type": "stream",
     "text": [
      "Epoch  19 , loss 16.113497902365292\n",
      "Epoch  20 , loss 16.020464205274394\n"
     ]
    },
    {
     "name": "stderr",
     "output_type": "stream",
     "text": [
      "\r",
      "Iterations:   7%|██▍                               | 21/300 [00:24<05:18,  1.14s/it]"
     ]
    },
    {
     "name": "stdout",
     "output_type": "stream",
     "text": [
      "Epoch:  20\n",
      "t_loss:  16.020464205274394 , v_loss:  0.6624095737934113\n",
      "t_acc:  0.6962340491752257 , v_acc:  0.6894409937888198\n",
      "t_recall:  0.5010224948875256 , v_recall:  0.5\n",
      "t_prec:  0.8480224229212083 , v_prec:  0.3447204968944099\n",
      "t_f:  0.4124337652798909 , v_f:  0.4080882352941176\n",
      "////////\n"
     ]
    },
    {
     "name": "stderr",
     "output_type": "stream",
     "text": [
      "\r",
      "Iterations:   7%|██▍                               | 22/300 [00:25<04:50,  1.04s/it]"
     ]
    },
    {
     "name": "stdout",
     "output_type": "stream",
     "text": [
      "Epoch  21 , loss 15.943756327909583\n",
      "Epoch  22 , loss 15.859856624229282\n"
     ]
    },
    {
     "name": "stderr",
     "output_type": "stream",
     "text": [
      "\r",
      "Iterations:   8%|██▌                               | 23/300 [00:27<05:16,  1.14s/it]"
     ]
    },
    {
     "name": "stdout",
     "output_type": "stream",
     "text": [
      "Epoch:  22\n",
      "t_loss:  15.859856624229282 , v_loss:  0.6651119987169901\n",
      "t_acc:  0.6943666355431062 , v_acc:  0.6894409937888198\n",
      "t_recall:  0.49910514541387024 , v_recall:  0.5\n",
      "t_prec:  0.347616079775631 , v_prec:  0.3447204968944099\n",
      "t_f:  0.40980896399706096 , v_f:  0.4080882352941176\n",
      "////////\n"
     ]
    },
    {
     "name": "stderr",
     "output_type": "stream",
     "text": [
      "\r",
      "Iterations:   8%|██▋                               | 24/300 [00:27<04:48,  1.04s/it]"
     ]
    },
    {
     "name": "stdout",
     "output_type": "stream",
     "text": [
      "Epoch  23 , loss 15.774368173935834\n",
      "Epoch  24 , loss 15.693777720133463\n"
     ]
    },
    {
     "name": "stderr",
     "output_type": "stream",
     "text": [
      "\r",
      "Iterations:   8%|██▊                               | 25/300 [00:29<05:14,  1.14s/it]"
     ]
    },
    {
     "name": "stdout",
     "output_type": "stream",
     "text": [
      "Epoch:  24\n",
      "t_loss:  15.693777720133463 , v_loss:  0.6686331828435262\n",
      "t_acc:  0.6959228135698724 , v_acc:  0.6894409937888198\n",
      "t_recall:  0.5007987812409931 , v_recall:  0.5\n",
      "t_prec:  0.6813084112149532 , v_prec:  0.3447204968944099\n",
      "t_f:  0.41232340081380947 , v_f:  0.4080882352941176\n",
      "////////\n"
     ]
    },
    {
     "name": "stderr",
     "output_type": "stream",
     "text": [
      "\r",
      "Iterations:   9%|██▉                               | 26/300 [00:30<04:45,  1.04s/it]"
     ]
    },
    {
     "name": "stdout",
     "output_type": "stream",
     "text": [
      "Epoch  25 , loss 15.61824753705193\n",
      "Epoch  26 , loss 15.529475922678031\n"
     ]
    },
    {
     "name": "stderr",
     "output_type": "stream",
     "text": [
      "\r",
      "Iterations:   9%|███                               | 27/300 [00:31<05:11,  1.14s/it]"
     ]
    },
    {
     "name": "stdout",
     "output_type": "stream",
     "text": [
      "Epoch:  26\n",
      "t_loss:  15.529475922678031 , v_loss:  0.6710121234258016\n",
      "t_acc:  0.6962340491752257 , v_acc:  0.6894409937888198\n",
      "t_recall:  0.5010224948875256 , v_recall:  0.5\n",
      "t_prec:  0.8480224229212083 , v_prec:  0.3447204968944099\n",
      "t_f:  0.4124337652798909 , v_f:  0.4080882352941176\n",
      "////////\n"
     ]
    },
    {
     "name": "stderr",
     "output_type": "stream",
     "text": [
      "\r",
      "Iterations:   9%|███▏                              | 28/300 [00:32<04:42,  1.04s/it]"
     ]
    },
    {
     "name": "stdout",
     "output_type": "stream",
     "text": [
      "Epoch  27 , loss 15.4461456934611\n",
      "Epoch  28 , loss 15.364537201675715\n"
     ]
    },
    {
     "name": "stderr",
     "output_type": "stream",
     "text": [
      "\r",
      "Iterations:  10%|███▎                              | 29/300 [00:33<05:07,  1.13s/it]"
     ]
    },
    {
     "name": "stdout",
     "output_type": "stream",
     "text": [
      "Epoch:  28\n",
      "t_loss:  15.364537201675715 , v_loss:  0.6730128129323324\n",
      "t_acc:  0.6956115779645191 , v_acc:  0.6894409937888198\n",
      "t_recall:  0.5005750675944607 , v_recall:  0.5\n",
      "t_prec:  0.5979277033343721 , v_prec:  0.3447204968944099\n",
      "t_f:  0.4122130008035903 , v_f:  0.4080882352941176\n",
      "////////\n"
     ]
    },
    {
     "name": "stderr",
     "output_type": "stream",
     "text": [
      "\r",
      "Iterations:  10%|███▍                              | 30/300 [00:34<04:39,  1.03s/it]"
     ]
    },
    {
     "name": "stdout",
     "output_type": "stream",
     "text": [
      "Epoch  29 , loss 15.288186839982576\n",
      "Epoch  30 , loss 15.204465866088867\n"
     ]
    },
    {
     "name": "stderr",
     "output_type": "stream",
     "text": [
      "\r",
      "Iterations:  10%|███▌                              | 31/300 [00:35<05:07,  1.14s/it]"
     ]
    },
    {
     "name": "stdout",
     "output_type": "stream",
     "text": [
      "Epoch:  30\n",
      "t_loss:  15.204465866088867 , v_loss:  0.6750527222951254\n",
      "t_acc:  0.6959228135698724 , v_acc:  0.6894409937888198\n",
      "t_recall:  0.5005112474437627 , v_recall:  0.5\n",
      "t_prec:  0.8479140722291407 , v_prec:  0.3447204968944099\n",
      "t_f:  0.41133905648131597 , v_f:  0.4080882352941176\n",
      "////////\n"
     ]
    },
    {
     "name": "stderr",
     "output_type": "stream",
     "text": [
      "\r",
      "Iterations:  11%|███▋                              | 32/300 [00:36<04:40,  1.05s/it]"
     ]
    },
    {
     "name": "stdout",
     "output_type": "stream",
     "text": [
      "Epoch  31 , loss 15.124727267845005\n",
      "Epoch  32 , loss 15.040081641253304\n"
     ]
    },
    {
     "name": "stderr",
     "output_type": "stream",
     "text": [
      "\r",
      "Iterations:  11%|███▋                              | 33/300 [00:38<05:07,  1.15s/it]"
     ]
    },
    {
     "name": "stdout",
     "output_type": "stream",
     "text": [
      "Epoch:  32\n",
      "t_loss:  15.040081641253304 , v_loss:  0.6748316486676534\n",
      "t_acc:  0.6962340491752257 , v_acc:  0.6894409937888198\n",
      "t_recall:  0.5013100286847559 , v_recall:  0.5\n",
      "t_prec:  0.7230835151137426 , v_prec:  0.3447204968944099\n",
      "t_f:  0.4134150192068549 , v_f:  0.4080882352941176\n",
      "////////\n"
     ]
    },
    {
     "name": "stderr",
     "output_type": "stream",
     "text": [
      "\r",
      "Iterations:  11%|███▊                              | 34/300 [00:38<04:41,  1.06s/it]"
     ]
    },
    {
     "name": "stdout",
     "output_type": "stream",
     "text": [
      "Epoch  33 , loss 14.961131993462057\n",
      "Epoch  34 , loss 14.883077883252911\n"
     ]
    },
    {
     "name": "stderr",
     "output_type": "stream",
     "text": [
      "\r",
      "Iterations:  12%|███▉                              | 35/300 [00:40<05:07,  1.16s/it]"
     ]
    },
    {
     "name": "stdout",
     "output_type": "stream",
     "text": [
      "Epoch:  34\n",
      "t_loss:  14.883077883252911 , v_loss:  0.6761613388856252\n",
      "t_acc:  0.6956115779645191 , v_acc:  0.6894409937888198\n",
      "t_recall:  0.5 , v_recall:  0.5\n",
      "t_prec:  0.34780578898225956 , v_prec:  0.3447204968944099\n",
      "t_f:  0.4102422907488987 , v_f:  0.4080882352941176\n",
      "////////\n"
     ]
    },
    {
     "name": "stderr",
     "output_type": "stream",
     "text": [
      "\r",
      "Iterations:  12%|████                              | 36/300 [00:41<04:39,  1.06s/it]"
     ]
    },
    {
     "name": "stdout",
     "output_type": "stream",
     "text": [
      "Epoch  35 , loss 14.809441323373832\n",
      "Epoch  36 , loss 14.721601729299508\n"
     ]
    },
    {
     "name": "stderr",
     "output_type": "stream",
     "text": [
      "\r",
      "Iterations:  12%|████▏                             | 37/300 [00:42<05:07,  1.17s/it]"
     ]
    },
    {
     "name": "stdout",
     "output_type": "stream",
     "text": [
      "Epoch:  36\n",
      "t_loss:  14.721601729299508 , v_loss:  0.6730706095695496\n",
      "t_acc:  0.6953003423591659 , v_acc:  0.6894409937888198\n",
      "t_recall:  0.500063820150698 , v_recall:  0.5\n",
      "t_prec:  0.5144859813084112 , v_prec:  0.3447204968944099\n",
      "t_f:  0.4111203780928551 , v_f:  0.4080882352941176\n",
      "////////\n"
     ]
    },
    {
     "name": "stderr",
     "output_type": "stream",
     "text": [
      "\r",
      "Iterations:  13%|████▎                             | 38/300 [00:43<04:40,  1.07s/it]"
     ]
    },
    {
     "name": "stdout",
     "output_type": "stream",
     "text": [
      "Epoch  37 , loss 14.646584604300704\n",
      "Epoch  38 , loss 14.572923847273284\n"
     ]
    },
    {
     "name": "stderr",
     "output_type": "stream",
     "text": [
      "\r",
      "Iterations:  13%|████▍                             | 39/300 [00:44<05:06,  1.17s/it]"
     ]
    },
    {
     "name": "stdout",
     "output_type": "stream",
     "text": [
      "Epoch:  38\n",
      "t_loss:  14.572923847273284 , v_loss:  0.6721286177635193\n",
      "t_acc:  0.6953003423591659 , v_acc:  0.6894409937888198\n",
      "t_recall:  0.49977628635346755 , v_recall:  0.5\n",
      "t_prec:  0.34775840597758406 , v_prec:  0.3447204968944099\n",
      "t_f:  0.41013401872590416 , v_f:  0.4080882352941176\n",
      "////////\n"
     ]
    },
    {
     "name": "stderr",
     "output_type": "stream",
     "text": [
      "\r",
      "Iterations:  13%|████▌                             | 40/300 [00:45<04:38,  1.07s/it]"
     ]
    },
    {
     "name": "stdout",
     "output_type": "stream",
     "text": [
      "Epoch  39 , loss 14.486978287790336\n",
      "Epoch  40 , loss 14.409389626746083\n"
     ]
    },
    {
     "name": "stderr",
     "output_type": "stream",
     "text": [
      "\r",
      "Iterations:  14%|████▋                             | 41/300 [00:47<05:03,  1.17s/it]"
     ]
    },
    {
     "name": "stdout",
     "output_type": "stream",
     "text": [
      "Epoch:  40\n",
      "t_loss:  14.409389626746083 , v_loss:  0.6719313611586889\n",
      "t_acc:  0.6953003423591659 , v_acc:  0.6894409937888198\n",
      "t_recall:  0.500063820150698 , v_recall:  0.5\n",
      "t_prec:  0.5144859813084112 , v_prec:  0.3447204968944099\n",
      "t_f:  0.4111203780928551 , v_f:  0.4080882352941176\n",
      "////////\n"
     ]
    },
    {
     "name": "stderr",
     "output_type": "stream",
     "text": [
      "\r",
      "Iterations:  14%|████▊                             | 42/300 [00:47<04:35,  1.07s/it]"
     ]
    },
    {
     "name": "stdout",
     "output_type": "stream",
     "text": [
      "Epoch  41 , loss 14.329366141674566\n",
      "Epoch  42 , loss 14.248822006524778\n"
     ]
    },
    {
     "name": "stderr",
     "output_type": "stream",
     "text": [
      "\r",
      "Iterations:  14%|████▊                             | 43/300 [00:49<05:01,  1.17s/it]"
     ]
    },
    {
     "name": "stdout",
     "output_type": "stream",
     "text": [
      "Epoch:  42\n",
      "t_loss:  14.248822006524778 , v_loss:  0.6694540331761042\n",
      "t_acc:  0.6953003423591659 , v_acc:  0.6894409937888198\n",
      "t_recall:  0.49977628635346755 , v_recall:  0.5\n",
      "t_prec:  0.34775840597758406 , v_prec:  0.3447204968944099\n",
      "t_f:  0.41013401872590416 , v_f:  0.4080882352941176\n",
      "////////\n"
     ]
    },
    {
     "name": "stderr",
     "output_type": "stream",
     "text": [
      "\r",
      "Iterations:  15%|████▉                             | 44/300 [00:50<04:48,  1.13s/it]"
     ]
    },
    {
     "name": "stdout",
     "output_type": "stream",
     "text": [
      "Epoch  43 , loss 14.175134527917002\n",
      "Epoch  44 , loss 14.098173945557837\n"
     ]
    },
    {
     "name": "stderr",
     "output_type": "stream",
     "text": [
      "\r",
      "Iterations:  15%|█████                             | 45/300 [00:51<05:08,  1.21s/it]"
     ]
    },
    {
     "name": "stdout",
     "output_type": "stream",
     "text": [
      "Epoch:  44\n",
      "t_loss:  14.098173945557837 , v_loss:  0.6670104364554087\n",
      "t_acc:  0.6959228135698724 , v_acc:  0.6894409937888198\n",
      "t_recall:  0.5010863150382235 , v_recall:  0.5\n",
      "t_prec:  0.6480361596009975 , v_prec:  0.3447204968944099\n",
      "t_f:  0.41330358142435736 , v_f:  0.4080882352941176\n",
      "////////\n"
     ]
    },
    {
     "name": "stderr",
     "output_type": "stream",
     "text": [
      "\r",
      "Iterations:  15%|█████▏                            | 46/300 [00:52<04:39,  1.10s/it]"
     ]
    },
    {
     "name": "stdout",
     "output_type": "stream",
     "text": [
      "Epoch  45 , loss 14.025142968869677\n",
      "Epoch  46 , loss 13.944137049656288\n"
     ]
    },
    {
     "name": "stderr",
     "output_type": "stream",
     "text": [
      "\r",
      "Iterations:  16%|█████▎                            | 47/300 [00:53<05:00,  1.19s/it]"
     ]
    },
    {
     "name": "stdout",
     "output_type": "stream",
     "text": [
      "Epoch:  46\n",
      "t_loss:  13.944137049656288 , v_loss:  0.6639380306005478\n",
      "t_acc:  0.6965452847805789 , v_acc:  0.6894409937888198\n",
      "t_recall:  0.5018212761285187 , v_recall:  0.5\n",
      "t_prec:  0.7481920199501246 , v_prec:  0.3447204968944099\n",
      "t_f:  0.4145045976343382 , v_f:  0.4080882352941176\n",
      "////////\n"
     ]
    },
    {
     "name": "stderr",
     "output_type": "stream",
     "text": [
      "\r",
      "Iterations:  16%|█████▍                            | 48/300 [00:54<04:32,  1.08s/it]"
     ]
    },
    {
     "name": "stdout",
     "output_type": "stream",
     "text": [
      "Epoch  47 , loss 13.861368833803663\n",
      "Epoch  48 , loss 13.789100085987764\n"
     ]
    },
    {
     "name": "stderr",
     "output_type": "stream",
     "text": [
      "\r",
      "Iterations:  16%|█████▌                            | 49/300 [00:56<04:52,  1.17s/it]"
     ]
    },
    {
     "name": "stdout",
     "output_type": "stream",
     "text": [
      "Epoch:  48\n",
      "t_loss:  13.789100085987764 , v_loss:  0.6615280459324518\n",
      "t_acc:  0.6959228135698724 , v_acc:  0.6894409937888198\n",
      "t_recall:  0.5013738488354538 , v_recall:  0.5\n",
      "t_prec:  0.6338116032439176 , v_prec:  0.3447204968944099\n",
      "t_f:  0.4142796235015772 , v_f:  0.4080882352941176\n",
      "////////\n"
     ]
    },
    {
     "name": "stderr",
     "output_type": "stream",
     "text": [
      "\r",
      "Iterations:  17%|█████▋                            | 50/300 [00:56<04:27,  1.07s/it]"
     ]
    },
    {
     "name": "stdout",
     "output_type": "stream",
     "text": [
      "Epoch  49 , loss 13.704530510247922\n",
      "Epoch  50 , loss 13.62050551994174\n"
     ]
    },
    {
     "name": "stderr",
     "output_type": "stream",
     "text": [
      "\r",
      "Iterations:  17%|█████▊                            | 51/300 [00:58<04:49,  1.16s/it]"
     ]
    },
    {
     "name": "stdout",
     "output_type": "stream",
     "text": [
      "Epoch:  50\n",
      "t_loss:  13.62050551994174 , v_loss:  0.6601090232531229\n",
      "t_acc:  0.6965452847805789 , v_acc:  0.6894409937888198\n",
      "t_recall:  0.5018212761285187 , v_recall:  0.5\n",
      "t_prec:  0.7481920199501246 , v_prec:  0.3447204968944099\n",
      "t_f:  0.4145045976343382 , v_f:  0.4080882352941176\n",
      "////////\n"
     ]
    },
    {
     "name": "stderr",
     "output_type": "stream",
     "text": [
      "\r",
      "Iterations:  17%|█████▉                            | 52/300 [00:59<04:22,  1.06s/it]"
     ]
    },
    {
     "name": "stdout",
     "output_type": "stream",
     "text": [
      "Epoch  51 , loss 13.551668129715265\n",
      "Epoch  52 , loss 13.484556534711052\n"
     ]
    },
    {
     "name": "stderr",
     "output_type": "stream",
     "text": [
      "\r",
      "Iterations:  18%|██████                            | 53/300 [01:00<04:46,  1.16s/it]"
     ]
    },
    {
     "name": "stdout",
     "output_type": "stream",
     "text": [
      "Epoch:  52\n",
      "t_loss:  13.484556534711052 , v_loss:  0.6584857900937399\n",
      "t_acc:  0.6956115779645191 , v_acc:  0.6894409937888198\n",
      "t_recall:  0.5011501351889214 , v_recall:  0.5\n",
      "t_prec:  0.5980499219968799 , v_prec:  0.3447204968944099\n",
      "t_f:  0.41416708924949286 , v_f:  0.4080882352941176\n",
      "////////\n"
     ]
    },
    {
     "name": "stderr",
     "output_type": "stream",
     "text": [
      "\r",
      "Iterations:  18%|██████                            | 54/300 [01:01<04:20,  1.06s/it]"
     ]
    },
    {
     "name": "stdout",
     "output_type": "stream",
     "text": [
      "Epoch  53 , loss 13.405954697552849\n",
      "Epoch  54 , loss 13.32889648512298\n"
     ]
    },
    {
     "name": "stderr",
     "output_type": "stream",
     "text": [
      "\r",
      "Iterations:  18%|██████▏                           | 55/300 [01:02<04:46,  1.17s/it]"
     ]
    },
    {
     "name": "stdout",
     "output_type": "stream",
     "text": [
      "Epoch:  54\n",
      "t_loss:  13.32889648512298 , v_loss:  0.6546477278073629\n",
      "t_acc:  0.6956115779645191 , v_acc:  0.6894409937888198\n",
      "t_recall:  0.5005750675944607 , v_recall:  0.5\n",
      "t_prec:  0.5979277033343721 , v_prec:  0.3447204968944099\n",
      "t_f:  0.4122130008035903 , v_f:  0.4080882352941176\n",
      "////////\n"
     ]
    },
    {
     "name": "stderr",
     "output_type": "stream",
     "text": [
      "\r",
      "Iterations:  19%|██████▎                           | 56/300 [01:03<04:19,  1.07s/it]"
     ]
    },
    {
     "name": "stdout",
     "output_type": "stream",
     "text": [
      "Epoch  55 , loss 13.254114300596948\n",
      "Epoch  56 , loss 13.182257390489765\n"
     ]
    },
    {
     "name": "stderr",
     "output_type": "stream",
     "text": [
      "\r",
      "Iterations:  19%|██████▍                           | 57/300 [01:05<04:43,  1.17s/it]"
     ]
    },
    {
     "name": "stdout",
     "output_type": "stream",
     "text": [
      "Epoch:  56\n",
      "t_loss:  13.182257390489765 , v_loss:  0.6508772969245911\n",
      "t_acc:  0.6959228135698724 , v_acc:  0.6894409937888198\n",
      "t_recall:  0.5013738488354538 , v_recall:  0.5\n",
      "t_prec:  0.6338116032439176 , v_prec:  0.3447204968944099\n",
      "t_f:  0.4142796235015772 , v_f:  0.4080882352941176\n",
      "////////\n"
     ]
    },
    {
     "name": "stderr",
     "output_type": "stream",
     "text": [
      "\r",
      "Iterations:  19%|██████▌                           | 58/300 [01:05<04:17,  1.06s/it]"
     ]
    },
    {
     "name": "stdout",
     "output_type": "stream",
     "text": [
      "Epoch  57 , loss 13.103114689097685\n",
      "Epoch  58 , loss 13.03284127104516\n"
     ]
    },
    {
     "name": "stderr",
     "output_type": "stream",
     "text": [
      "\r",
      "Iterations:  20%|██████▋                           | 59/300 [01:07<04:40,  1.16s/it]"
     ]
    },
    {
     "name": "stdout",
     "output_type": "stream",
     "text": [
      "Epoch:  58\n",
      "t_loss:  13.03284127104516 , v_loss:  0.6469272325436274\n",
      "t_acc:  0.6943666355431062 , v_acc:  0.6894409937888198\n",
      "t_recall:  0.4999677468055613 , v_recall:  0.5\n",
      "t_prec:  0.49779893849516077 , v_prec:  0.3447204968944099\n",
      "t_f:  0.41274588925137695 , v_f:  0.4080882352941176\n",
      "////////\n"
     ]
    },
    {
     "name": "stderr",
     "output_type": "stream",
     "text": [
      "\r",
      "Iterations:  20%|██████▊                           | 60/300 [01:08<04:18,  1.08s/it]"
     ]
    },
    {
     "name": "stdout",
     "output_type": "stream",
     "text": [
      "Epoch  59 , loss 12.958449008418064\n",
      "Epoch  60 , loss 12.876933322233313\n"
     ]
    },
    {
     "name": "stderr",
     "output_type": "stream",
     "text": [
      "\r",
      "Iterations:  20%|██████▉                           | 61/300 [01:09<04:41,  1.18s/it]"
     ]
    },
    {
     "name": "stdout",
     "output_type": "stream",
     "text": [
      "Epoch:  60\n",
      "t_loss:  12.876933322233313 , v_loss:  0.6433900793393453\n",
      "t_acc:  0.6962340491752257 , v_acc:  0.6894409937888198\n",
      "t_recall:  0.5015975624819863 , v_recall:  0.5\n",
      "t_prec:  0.6814780168381664 , v_prec:  0.3447204968944099\n",
      "t_f:  0.4143921262806895 , v_f:  0.4080882352941176\n",
      "////////\n"
     ]
    },
    {
     "name": "stderr",
     "output_type": "stream",
     "text": [
      "\r",
      "Iterations:  21%|███████                           | 62/300 [01:10<04:19,  1.09s/it]"
     ]
    },
    {
     "name": "stdout",
     "output_type": "stream",
     "text": [
      "Epoch  61 , loss 12.804241460912367\n",
      "Epoch  62 , loss 12.728636330249262\n"
     ]
    },
    {
     "name": "stderr",
     "output_type": "stream",
     "text": [
      "\r",
      "Iterations:  21%|███████▏                          | 63/300 [01:11<04:41,  1.19s/it]"
     ]
    },
    {
     "name": "stdout",
     "output_type": "stream",
     "text": [
      "Epoch:  62\n",
      "t_loss:  12.728636330249262 , v_loss:  0.6416371663411459\n",
      "t_acc:  0.6962340491752257 , v_acc:  0.6894409937888198\n",
      "t_recall:  0.5027476976709077 , v_recall:  0.5\n",
      "t_prec:  0.6341044076273835 , v_prec:  0.3447204968944099\n",
      "t_f:  0.41825958421883713 , v_f:  0.4080882352941176\n",
      "////////\n"
     ]
    },
    {
     "name": "stderr",
     "output_type": "stream",
     "text": [
      "\r",
      "Iterations:  21%|███████▎                          | 64/300 [01:12<04:14,  1.08s/it]"
     ]
    },
    {
     "name": "stdout",
     "output_type": "stream",
     "text": [
      "Epoch  63 , loss 12.658613391951018\n",
      "Epoch  64 , loss 12.585252836638807\n"
     ]
    },
    {
     "name": "stderr",
     "output_type": "stream",
     "text": [
      "\r",
      "Iterations:  22%|███████▎                          | 65/300 [01:14<04:35,  1.17s/it]"
     ]
    },
    {
     "name": "stdout",
     "output_type": "stream",
     "text": [
      "Epoch:  64\n",
      "t_loss:  12.585252836638807 , v_loss:  0.6364819904168447\n",
      "t_acc:  0.6965452847805789 , v_acc:  0.6894409937888198\n",
      "t_recall:  0.50297141131744 , v_recall:  0.5\n",
      "t_prec:  0.6561298076923077 , v_prec:  0.3447204968944099\n",
      "t_f:  0.4183762417414505 , v_f:  0.4080882352941176\n",
      "////////\n"
     ]
    },
    {
     "name": "stderr",
     "output_type": "stream",
     "text": [
      "\r",
      "Iterations:  22%|███████▍                          | 66/300 [01:14<04:09,  1.07s/it]"
     ]
    },
    {
     "name": "stdout",
     "output_type": "stream",
     "text": [
      "Epoch  65 , loss 12.50787519941143\n",
      "Epoch  66 , loss 12.432220982570275\n"
     ]
    },
    {
     "name": "stderr",
     "output_type": "stream",
     "text": [
      "\r",
      "Iterations:  22%|███████▌                          | 67/300 [01:16<04:32,  1.17s/it]"
     ]
    },
    {
     "name": "stdout",
     "output_type": "stream",
     "text": [
      "Epoch:  66\n",
      "t_loss:  12.432220982570275 , v_loss:  0.632991780837377\n",
      "t_acc:  0.6968565203859322 , v_acc:  0.6894409937888198\n",
      "t_recall:  0.5043452601528938 , v_recall:  0.5\n",
      "t_prec:  0.6487316003758221 , v_prec:  0.3447204968944099\n",
      "t_f:  0.4223040775729794 , v_f:  0.4080882352941176\n",
      "////////\n"
     ]
    },
    {
     "name": "stderr",
     "output_type": "stream",
     "text": [
      "\r",
      "Iterations:  23%|███████▋                          | 68/300 [01:17<04:10,  1.08s/it]"
     ]
    },
    {
     "name": "stdout",
     "output_type": "stream",
     "text": [
      "Epoch  67 , loss 12.359282680586272\n",
      "Epoch  68 , loss 12.284597041560154\n"
     ]
    },
    {
     "name": "stderr",
     "output_type": "stream",
     "text": [
      "\r",
      "Iterations:  23%|███████▊                          | 69/300 [01:18<04:32,  1.18s/it]"
     ]
    },
    {
     "name": "stdout",
     "output_type": "stream",
     "text": [
      "Epoch:  68\n",
      "t_loss:  12.284597041560154 , v_loss:  0.6299095849196116\n",
      "t_acc:  0.6971677559912854 , v_acc:  0.6894409937888198\n",
      "t_recall:  0.5039939062049656 , v_recall:  0.5\n",
      "t_prec:  0.6819887429643527 , v_prec:  0.3447204968944099\n",
      "t_f:  0.42052512257253005 , v_f:  0.4080882352941176\n",
      "////////\n"
     ]
    },
    {
     "name": "stderr",
     "output_type": "stream",
     "text": [
      "\r",
      "Iterations:  23%|███████▉                          | 70/300 [01:19<04:07,  1.07s/it]"
     ]
    },
    {
     "name": "stdout",
     "output_type": "stream",
     "text": [
      "Epoch  69 , loss 12.207672567928538\n",
      "Epoch  70 , loss 12.138532769446279\n"
     ]
    },
    {
     "name": "stderr",
     "output_type": "stream",
     "text": [
      "\r",
      "Iterations:  24%|████████                          | 71/300 [01:20<04:27,  1.17s/it]"
     ]
    },
    {
     "name": "stdout",
     "output_type": "stream",
     "text": [
      "Epoch:  70\n",
      "t_loss:  12.138532769446279 , v_loss:  0.6284608791271845\n",
      "t_acc:  0.6946778711484594 , v_acc:  0.6894409937888198\n",
      "t_recall:  0.5010540618437848 , v_recall:  0.5\n",
      "t_prec:  0.5480300187617261 , v_prec:  0.3447204968944099\n",
      "t_f:  0.41576068370365055 , v_f:  0.4080882352941176\n",
      "////////\n"
     ]
    },
    {
     "name": "stderr",
     "output_type": "stream",
     "text": [
      "\r",
      "Iterations:  24%|████████▏                         | 72/300 [01:21<04:02,  1.06s/it]"
     ]
    },
    {
     "name": "stdout",
     "output_type": "stream",
     "text": [
      "Epoch  71 , loss 12.059059292662377\n",
      "Epoch  72 , loss 11.988579132977653\n"
     ]
    },
    {
     "name": "stderr",
     "output_type": "stream",
     "text": [
      "\r",
      "Iterations:  24%|████████▎                         | 73/300 [01:23<04:25,  1.17s/it]"
     ]
    },
    {
     "name": "stdout",
     "output_type": "stream",
     "text": [
      "Epoch:  72\n",
      "t_loss:  11.988579132977653 , v_loss:  0.6239890605211258\n",
      "t_acc:  0.6974789915966386 , v_acc:  0.6894409937888198\n",
      "t_recall:  0.5045051536487284 , v_recall:  0.5\n",
      "t_prec:  0.6925144666875196 , v_prec:  0.3447204968944099\n",
      "t_f:  0.4215965898483685 , v_f:  0.4080882352941176\n",
      "////////\n"
     ]
    },
    {
     "name": "stderr",
     "output_type": "stream",
     "text": [
      "\r",
      "Iterations:  25%|████████▍                         | 74/300 [01:23<04:01,  1.07s/it]"
     ]
    },
    {
     "name": "stdout",
     "output_type": "stream",
     "text": [
      "Epoch  73 , loss 11.91664213292739\n",
      "Epoch  74 , loss 11.846018099317364\n"
     ]
    },
    {
     "name": "stderr",
     "output_type": "stream",
     "text": [
      "\r",
      "Iterations:  25%|████████▌                         | 75/300 [01:25<04:24,  1.18s/it]"
     ]
    },
    {
     "name": "stdout",
     "output_type": "stream",
     "text": [
      "Epoch:  74\n",
      "t_loss:  11.846018099317364 , v_loss:  0.6190690398216248\n",
      "t_acc:  0.6949891067538126 , v_acc:  0.6894409937888198\n",
      "t_recall:  0.5015653092875475 , v_recall:  0.5\n",
      "t_prec:  0.5668888802001877 , v_prec:  0.3447204968944099\n",
      "t_f:  0.41683606795411643 , v_f:  0.4080882352941176\n",
      "////////\n"
     ]
    },
    {
     "name": "stderr",
     "output_type": "stream",
     "text": [
      "\r",
      "Iterations:  25%|████████▌                         | 76/300 [01:26<04:00,  1.07s/it]"
     ]
    },
    {
     "name": "stdout",
     "output_type": "stream",
     "text": [
      "Epoch  75 , loss 11.785827543221268\n",
      "Epoch  76 , loss 11.703989141127643\n"
     ]
    },
    {
     "name": "stderr",
     "output_type": "stream",
     "text": [
      "\r",
      "Iterations:  26%|████████▋                         | 77/300 [01:27<04:20,  1.17s/it]"
     ]
    },
    {
     "name": "stdout",
     "output_type": "stream",
     "text": [
      "Epoch:  76\n",
      "t_loss:  11.703989141127643 , v_loss:  0.6140806178251902\n",
      "t_acc:  0.6984126984126984 , v_acc:  0.6894409937888198\n",
      "t_recall:  0.5074765649661684 , v_recall:  0.5\n",
      "t_prec:  0.67698947322821 , v_prec:  0.3447204968944099\n",
      "t_f:  0.42946028474236353 , v_f:  0.4080882352941176\n",
      "////////\n"
     ]
    },
    {
     "name": "stderr",
     "output_type": "stream",
     "text": [
      "\r",
      "Iterations:  26%|████████▊                         | 78/300 [01:28<03:56,  1.06s/it]"
     ]
    },
    {
     "name": "stdout",
     "output_type": "stream",
     "text": [
      "Epoch  77 , loss 11.635954931670545\n",
      "Epoch  78 , loss 11.559561261943742\n"
     ]
    },
    {
     "name": "stderr",
     "output_type": "stream",
     "text": [
      "\r",
      "Iterations:  26%|████████▉                         | 79/300 [01:29<04:18,  1.17s/it]"
     ]
    },
    {
     "name": "stdout",
     "output_type": "stream",
     "text": [
      "Epoch:  78\n",
      "t_loss:  11.559561261943742 , v_loss:  0.610594297448794\n",
      "t_acc:  0.6962340491752257 , v_acc:  0.6894409937888198\n",
      "t_recall:  0.503897832859829 , v_recall:  0.5\n",
      "t_prec:  0.6213640637018888 , v_prec:  0.3447204968944099\n",
      "t_f:  0.4220626612605971 , v_f:  0.4080882352941176\n",
      "////////\n"
     ]
    },
    {
     "name": "stderr",
     "output_type": "stream",
     "text": [
      "\r",
      "Iterations:  27%|█████████                         | 80/300 [01:30<03:56,  1.07s/it]"
     ]
    },
    {
     "name": "stdout",
     "output_type": "stream",
     "text": [
      "Epoch  79 , loss 11.496086868585325\n",
      "Epoch  80 , loss 11.41839853922526\n"
     ]
    },
    {
     "name": "stderr",
     "output_type": "stream",
     "text": [
      "\r",
      "Iterations:  27%|█████████▏                        | 81/300 [01:32<04:18,  1.18s/it]"
     ]
    },
    {
     "name": "stdout",
     "output_type": "stream",
     "text": [
      "Epoch:  80\n",
      "t_loss:  11.41839853922526 , v_loss:  0.6064953655004501\n",
      "t_acc:  0.6999688764394647 , v_acc:  0.7018633540372671\n",
      "t_recall:  0.5100328021849824 , v_recall:  0.52\n",
      "t_prec:  0.7028939918213275 , v_prec:  0.8490566037735849\n",
      "t_f:  0.4346869702469517 , v_f:  0.44957264957264953\n",
      "////////\n"
     ]
    },
    {
     "name": "stderr",
     "output_type": "stream",
     "text": [
      "\r",
      "Iterations:  27%|█████████▎                        | 82/300 [01:32<03:57,  1.09s/it]"
     ]
    },
    {
     "name": "stdout",
     "output_type": "stream",
     "text": [
      "Epoch  81 , loss 11.352696998446595\n",
      "Epoch  82 , loss 11.283092311784333\n"
     ]
    },
    {
     "name": "stderr",
     "output_type": "stream",
     "text": [
      "\r",
      "Iterations:  28%|█████████▍                        | 83/300 [01:34<04:21,  1.20s/it]"
     ]
    },
    {
     "name": "stdout",
     "output_type": "stream",
     "text": [
      "Epoch:  82\n",
      "t_loss:  11.283092311784333 , v_loss:  0.6038065403699875\n",
      "t_acc:  0.6977902272019919 , v_acc:  0.7080745341614907\n",
      "t_recall:  0.506454070078643 , v_recall:  0.53\n",
      "t_prec:  0.6639987445072191 , v_prec:  0.8512658227848101\n",
      "t_f:  0.42735630095234944 , v_f:  0.4692431787893666\n",
      "////////\n"
     ]
    },
    {
     "name": "stderr",
     "output_type": "stream",
     "text": [
      "\r",
      "Iterations:  28%|█████████▌                        | 84/300 [01:35<03:59,  1.11s/it]"
     ]
    },
    {
     "name": "stdout",
     "output_type": "stream",
     "text": [
      "Epoch  83 , loss 11.211717568191828\n",
      "Epoch  84 , loss 11.13475621915331\n"
     ]
    },
    {
     "name": "stderr",
     "output_type": "stream",
     "text": [
      "\r",
      "Iterations:  28%|█████████▋                        | 85/300 [01:36<04:21,  1.21s/it]"
     ]
    },
    {
     "name": "stdout",
     "output_type": "stream",
     "text": [
      "Epoch:  84\n",
      "t_loss:  11.13475621915331 , v_loss:  0.60243159532547\n",
      "t_acc:  0.7005913476501712 , v_acc:  0.7080745341614907\n",
      "t_recall:  0.5104802294780473 , v_recall:  0.53\n",
      "t_prec:  0.7250471549827098 , v_prec:  0.8512658227848101\n",
      "t_f:  0.43495144566155286 , v_f:  0.4692431787893666\n",
      "////////\n"
     ]
    },
    {
     "name": "stderr",
     "output_type": "stream",
     "text": [
      "\r",
      "Iterations:  29%|█████████▋                        | 86/300 [01:37<03:57,  1.11s/it]"
     ]
    },
    {
     "name": "stdout",
     "output_type": "stream",
     "text": [
      "Epoch  85 , loss 11.067588245167451\n",
      "Epoch  86 , loss 10.990957802417231\n"
     ]
    },
    {
     "name": "stderr",
     "output_type": "stream",
     "text": [
      "\r",
      "Iterations:  29%|█████████▊                        | 87/300 [01:39<04:18,  1.21s/it]"
     ]
    },
    {
     "name": "stdout",
     "output_type": "stream",
     "text": [
      "Epoch:  86\n",
      "t_loss:  10.990957802417231 , v_loss:  0.6003193010886511\n",
      "t_acc:  0.7021475256769374 , v_acc:  0.7018633540372671\n",
      "t_recall:  0.5130364666968611 , v_recall:  0.52\n",
      "t_prec:  0.7424901286677106 , v_prec:  0.8490566037735849\n",
      "t_f:  0.4401404546294585 , v_f:  0.44957264957264953\n",
      "////////\n"
     ]
    },
    {
     "name": "stderr",
     "output_type": "stream",
     "text": [
      "\r",
      "Iterations:  29%|█████████▉                        | 88/300 [01:40<04:05,  1.16s/it]"
     ]
    },
    {
     "name": "stdout",
     "output_type": "stream",
     "text": [
      "Epoch  87 , loss 10.923628694870892\n",
      "Epoch  88 , loss 10.844917970545152\n"
     ]
    },
    {
     "name": "stderr",
     "output_type": "stream",
     "text": [
      "\r",
      "Iterations:  30%|██████████                        | 89/300 [01:41<04:31,  1.29s/it]"
     ]
    },
    {
     "name": "stdout",
     "output_type": "stream",
     "text": [
      "Epoch:  88\n",
      "t_loss:  10.844917970545152 , v_loss:  0.5970014929771423\n",
      "t_acc:  0.6993464052287581 , v_acc:  0.7018633540372671\n",
      "t_recall:  0.5075726383113051 , v_recall:  0.52\n",
      "t_prec:  0.7357838808011168 , v_prec:  0.8490566037735849\n",
      "t_f:  0.4279841503870254 , v_f:  0.44957264957264953\n",
      "////////\n"
     ]
    },
    {
     "name": "stderr",
     "output_type": "stream",
     "text": [
      "\r",
      "Iterations:  30%|██████████▏                       | 90/300 [01:42<04:05,  1.17s/it]"
     ]
    },
    {
     "name": "stdout",
     "output_type": "stream",
     "text": [
      "Epoch  89 , loss 10.782490468492695\n",
      "Epoch  90 , loss 10.70869743122774\n"
     ]
    },
    {
     "name": "stderr",
     "output_type": "stream",
     "text": [
      "\r",
      "Iterations:  30%|██████████▎                       | 91/300 [01:44<04:24,  1.27s/it]"
     ]
    },
    {
     "name": "stdout",
     "output_type": "stream",
     "text": [
      "Epoch:  90\n",
      "t_loss:  10.70869743122774 , v_loss:  0.5947798937559128\n",
      "t_acc:  0.6987239340180517 , v_acc:  0.7080745341614907\n",
      "t_recall:  0.509425481396083 , v_recall:  0.53\n",
      "t_prec:  0.6623266624645445 , v_prec:  0.8512658227848101\n",
      "t_f:  0.4350609153578777 , v_f:  0.4692431787893666\n",
      "////////\n"
     ]
    },
    {
     "name": "stderr",
     "output_type": "stream",
     "text": [
      "\r",
      "Iterations:  31%|██████████▍                       | 92/300 [01:44<03:56,  1.14s/it]"
     ]
    },
    {
     "name": "stdout",
     "output_type": "stream",
     "text": [
      "Epoch  91 , loss 10.639072698705336\n",
      "Epoch  92 , loss 10.564998009625603\n"
     ]
    },
    {
     "name": "stderr",
     "output_type": "stream",
     "text": [
      "\r",
      "Iterations:  31%|██████████▌                       | 93/300 [01:46<04:16,  1.24s/it]"
     ]
    },
    {
     "name": "stdout",
     "output_type": "stream",
     "text": [
      "Epoch:  92\n",
      "t_loss:  10.564998009625603 , v_loss:  0.5938540250062943\n",
      "t_acc:  0.6981014628073452 , v_acc:  0.7080745341614907\n",
      "t_recall:  0.507252851319636 , v_recall:  0.53\n",
      "t_prec:  0.6660226201696513 , v_prec:  0.8512658227848101\n",
      "t_f:  0.4293327796234772 , v_f:  0.4692431787893666\n",
      "////////\n"
     ]
    },
    {
     "name": "stderr",
     "output_type": "stream",
     "text": [
      "\r",
      "Iterations:  31%|██████████▋                       | 94/300 [01:47<03:55,  1.14s/it]"
     ]
    },
    {
     "name": "stdout",
     "output_type": "stream",
     "text": [
      "Epoch  93 , loss 10.494104086184034\n",
      "Epoch  94 , loss 10.429744290370568\n"
     ]
    },
    {
     "name": "stderr",
     "output_type": "stream",
     "text": [
      "\r",
      "Iterations:  32%|██████████▊                       | 95/300 [01:48<04:14,  1.24s/it]"
     ]
    },
    {
     "name": "stdout",
     "output_type": "stream",
     "text": [
      "Epoch:  94\n",
      "t_loss:  10.429744290370568 , v_loss:  0.5917764703432719\n",
      "t_acc:  0.6974789915966386 , v_acc:  0.7142857142857143\n",
      "t_recall:  0.5073804916210318 , v_recall:  0.54\n",
      "t_prec:  0.6410528800755431 , v_prec:  0.8535031847133758\n",
      "t_f:  0.4309096157126176 , v_f:  0.488253178551686\n",
      "////////\n"
     ]
    },
    {
     "name": "stderr",
     "output_type": "stream",
     "text": [
      "\r",
      "Iterations:  32%|██████████▉                       | 96/300 [01:49<03:59,  1.17s/it]"
     ]
    },
    {
     "name": "stdout",
     "output_type": "stream",
     "text": [
      "Epoch  95 , loss 10.36295924467199\n",
      "Epoch  96 , loss 10.294420934190937\n"
     ]
    },
    {
     "name": "stderr",
     "output_type": "stream",
     "text": [
      "\r",
      "Iterations:  32%|██████████▉                       | 97/300 [01:51<04:18,  1.27s/it]"
     ]
    },
    {
     "name": "stdout",
     "output_type": "stream",
     "text": [
      "Epoch:  96\n",
      "t_loss:  10.294420934190937 , v_loss:  0.5892648299535116\n",
      "t_acc:  0.6996576408341114 , v_acc:  0.7267080745341615\n",
      "t_recall:  0.50980908853845 , v_recall:  0.56\n",
      "t_prec:  0.6927627438640654 , v_prec:  0.8580645161290323\n",
      "t_f:  0.4345547418019834 , v_f:  0.5244360902255639\n",
      "////////\n"
     ]
    },
    {
     "name": "stderr",
     "output_type": "stream",
     "text": [
      "\r",
      "Iterations:  33%|███████████                       | 98/300 [01:52<03:55,  1.17s/it]"
     ]
    },
    {
     "name": "stdout",
     "output_type": "stream",
     "text": [
      "Epoch  97 , loss 10.223103354958926\n",
      "Epoch  98 , loss 10.152843961528703\n"
     ]
    },
    {
     "name": "stderr",
     "output_type": "stream",
     "text": [
      "\r",
      "Iterations:  33%|███████████▏                      | 99/300 [01:53<04:17,  1.28s/it]"
     ]
    },
    {
     "name": "stdout",
     "output_type": "stream",
     "text": [
      "Epoch:  98\n",
      "t_loss:  10.152843961528703 , v_loss:  0.586648757259051\n",
      "t_acc:  0.7009025832555245 , v_acc:  0.7267080745341615\n",
      "t_recall:  0.5127166797051921 , v_recall:  0.56\n",
      "t_prec:  0.6949810606060607 , v_prec:  0.8580645161290323\n",
      "t_f:  0.44137095552975625 , v_f:  0.5244360902255639\n",
      "////////\n"
     ]
    },
    {
     "name": "stderr",
     "output_type": "stream",
     "text": [
      "\r",
      "Iterations:  33%|███████████                      | 100/300 [01:54<03:51,  1.16s/it]"
     ]
    },
    {
     "name": "stdout",
     "output_type": "stream",
     "text": [
      "Epoch  99 , loss 10.090017468321557\n",
      "Epoch  100 , loss 10.020011901855469\n"
     ]
    },
    {
     "name": "stderr",
     "output_type": "stream",
     "text": [
      "\r",
      "Iterations:  34%|███████████                      | 101/300 [01:56<04:11,  1.26s/it]"
     ]
    },
    {
     "name": "stdout",
     "output_type": "stream",
     "text": [
      "Epoch:  100\n",
      "t_loss:  10.020011901855469 , v_loss:  0.5858693420886993\n",
      "t_acc:  0.6996576408341114 , v_acc:  0.7204968944099379\n",
      "t_recall:  0.510671689930141 , v_recall:  0.55\n",
      "t_prec:  0.6793628702365209 , v_prec:  0.8557692307692308\n",
      "t_f:  0.4372603899317808 , v_f:  0.5066394279877425\n",
      "////////\n"
     ]
    },
    {
     "name": "stderr",
     "output_type": "stream",
     "text": [
      "\r",
      "Iterations:  34%|███████████▏                     | 102/300 [01:56<03:45,  1.14s/it]"
     ]
    },
    {
     "name": "stdout",
     "output_type": "stream",
     "text": [
      "Epoch  101 , loss 9.95932113423067\n",
      "Epoch  102 , loss 9.890973165923475\n"
     ]
    },
    {
     "name": "stderr",
     "output_type": "stream",
     "text": [
      "\r",
      "Iterations:  34%|███████████▎                     | 103/300 [01:58<04:02,  1.23s/it]"
     ]
    },
    {
     "name": "stdout",
     "output_type": "stream",
     "text": [
      "Epoch:  102\n",
      "t_loss:  9.890973165923475 , v_loss:  0.5853060980637869\n",
      "t_acc:  0.7061935885465297 , v_acc:  0.7204968944099379\n",
      "t_recall:  0.5193951496685469 , v_recall:  0.55\n",
      "t_prec:  0.7790580568720379 , v_prec:  0.8557692307692308\n",
      "t_f:  0.4525536062378168 , v_f:  0.5066394279877425\n",
      "////////\n"
     ]
    },
    {
     "name": "stderr",
     "output_type": "stream",
     "text": [
      "\r",
      "Iterations:  35%|███████████▍                     | 104/300 [01:59<03:39,  1.12s/it]"
     ]
    },
    {
     "name": "stdout",
     "output_type": "stream",
     "text": [
      "Epoch  103 , loss 9.826127575893029\n",
      "Epoch  104 , loss 9.753776363298005\n"
     ]
    },
    {
     "name": "stderr",
     "output_type": "stream",
     "text": [
      "\r",
      "Iterations:  35%|███████████▌                     | 105/300 [02:00<03:58,  1.22s/it]"
     ]
    },
    {
     "name": "stdout",
     "output_type": "stream",
     "text": [
      "Epoch:  104\n",
      "t_loss:  9.753776363298005 , v_loss:  0.5835553208986918\n",
      "t_acc:  0.7002801120448179 , v_acc:  0.7329192546583851\n",
      "t_recall:  0.5116941848176665 , v_recall:  0.5700000000000001\n",
      "t_prec:  0.6875247597388305 , v_prec:  0.8603896103896104\n",
      "t_f:  0.4393193446413476 , v_f:  0.5416749420721615\n",
      "////////\n"
     ]
    },
    {
     "name": "stderr",
     "output_type": "stream",
     "text": [
      "\r",
      "Iterations:  35%|███████████▋                     | 106/300 [02:01<03:35,  1.11s/it]"
     ]
    },
    {
     "name": "stdout",
     "output_type": "stream",
     "text": [
      "Epoch  105 , loss 9.691438057843376\n",
      "Epoch  106 , loss 9.632640034544702\n"
     ]
    },
    {
     "name": "stderr",
     "output_type": "stream",
     "text": [
      "\r",
      "Iterations:  36%|███████████▊                     | 107/300 [02:03<03:54,  1.21s/it]"
     ]
    },
    {
     "name": "stdout",
     "output_type": "stream",
     "text": [
      "Epoch:  106\n",
      "t_loss:  9.632640034544702 , v_loss:  0.583690399924914\n",
      "t_acc:  0.7005913476501712 , v_acc:  0.7267080745341615\n",
      "t_recall:  0.5130680336531203 , v_recall:  0.56\n",
      "t_prec:  0.6806165033196332 , v_prec:  0.8580645161290323\n",
      "t_f:  0.44299409062010286 , v_f:  0.5244360902255639\n",
      "////////\n"
     ]
    },
    {
     "name": "stderr",
     "output_type": "stream",
     "text": [
      "\r",
      "Iterations:  36%|███████████▉                     | 108/300 [02:03<03:33,  1.11s/it]"
     ]
    },
    {
     "name": "stdout",
     "output_type": "stream",
     "text": [
      "Epoch  107 , loss 9.562426398782168\n",
      "Epoch  108 , loss 9.494199584512149\n"
     ]
    },
    {
     "name": "stderr",
     "output_type": "stream",
     "text": [
      "\r",
      "Iterations:  36%|███████████▉                     | 109/300 [02:05<03:52,  1.21s/it]"
     ]
    },
    {
     "name": "stdout",
     "output_type": "stream",
     "text": [
      "Epoch:  108\n",
      "t_loss:  9.494199584512149 , v_loss:  0.5819616367419561\n",
      "t_acc:  0.7030812324929971 , v_acc:  0.7267080745341615\n",
      "t_recall:  0.5180206145949136 , v_recall:  0.5654954954954955\n",
      "t_prec:  0.6954489520482693 , v_prec:  0.7969771241830066\n",
      "t_f:  0.4536306479994752 , v_f:  0.5373563218390804\n",
      "////////\n"
     ]
    },
    {
     "name": "stderr",
     "output_type": "stream",
     "text": [
      "\r",
      "Iterations:  37%|████████████                     | 110/300 [02:06<03:34,  1.13s/it]"
     ]
    },
    {
     "name": "stdout",
     "output_type": "stream",
     "text": [
      "Epoch  109 , loss 9.430214825798483\n",
      "Epoch  110 , loss 9.367750953225528\n"
     ]
    },
    {
     "name": "stderr",
     "output_type": "stream",
     "text": [
      "\r",
      "Iterations:  37%|████████████▏                    | 111/300 [02:07<04:03,  1.29s/it]"
     ]
    },
    {
     "name": "stdout",
     "output_type": "stream",
     "text": [
      "Epoch:  110\n",
      "t_loss:  9.367750953225528 , v_loss:  0.5823969542980194\n",
      "t_acc:  0.6999688764394647 , v_acc:  0.7329192546583851\n",
      "t_recall:  0.5117580049683644 , v_recall:  0.5700000000000001\n",
      "t_prec:  0.6764185005697341 , v_prec:  0.8603896103896104\n",
      "t_f:  0.4400706624861162 , v_f:  0.5416749420721615\n",
      "////////\n"
     ]
    },
    {
     "name": "stderr",
     "output_type": "stream",
     "text": [
      "\r",
      "Iterations:  37%|████████████▎                    | 112/300 [02:08<03:39,  1.17s/it]"
     ]
    },
    {
     "name": "stdout",
     "output_type": "stream",
     "text": [
      "Epoch  111 , loss 9.30472738602582\n",
      "Epoch  112 , loss 9.237372099184523\n"
     ]
    },
    {
     "name": "stderr",
     "output_type": "stream",
     "text": [
      "\r",
      "Iterations:  38%|████████████▍                    | 113/300 [02:10<03:56,  1.26s/it]"
     ]
    },
    {
     "name": "stdout",
     "output_type": "stream",
     "text": [
      "Epoch:  112\n",
      "t_loss:  9.237372099184523 , v_loss:  0.5817064394553503\n",
      "t_acc:  0.7018362900715842 , v_acc:  0.7391304347826086\n",
      "t_recall:  0.5139628882392501 , v_recall:  0.58\n",
      "t_prec:  0.7095008305761865 , v_prec:  0.8627450980392157\n",
      "t_f:  0.4435556998565346 , v_f:  0.5583855799373041\n",
      "////////\n"
     ]
    },
    {
     "name": "stderr",
     "output_type": "stream",
     "text": [
      "\r",
      "Iterations:  38%|████████████▌                    | 114/300 [02:11<03:32,  1.14s/it]"
     ]
    },
    {
     "name": "stdout",
     "output_type": "stream",
     "text": [
      "Epoch  113 , loss 9.170569139368395\n",
      "Epoch  114 , loss 9.106535556269627\n"
     ]
    },
    {
     "name": "stderr",
     "output_type": "stream",
     "text": [
      "\r",
      "Iterations:  38%|████████████▋                    | 115/300 [02:12<03:48,  1.24s/it]"
     ]
    },
    {
     "name": "stdout",
     "output_type": "stream",
     "text": [
      "Epoch:  114\n",
      "t_loss:  9.106535556269627 , v_loss:  0.5794706692298254\n",
      "t_acc:  0.702769996887644 , v_acc:  0.7329192546583851\n",
      "t_recall:  0.5166467657594598 , v_recall:  0.5754954954954955\n",
      "t_prec:  0.7022713628176906 , v_prec:  0.8062865497076024\n",
      "t_f:  0.4500737944883985 , v_f:  0.5538441709093253\n",
      "////////\n"
     ]
    },
    {
     "name": "stderr",
     "output_type": "stream",
     "text": [
      "\r",
      "Iterations:  39%|████████████▊                    | 116/300 [02:13<03:26,  1.12s/it]"
     ]
    },
    {
     "name": "stdout",
     "output_type": "stream",
     "text": [
      "Epoch  115 , loss 9.038961354423972\n",
      "Epoch  116 , loss 8.975304584877163\n"
     ]
    },
    {
     "name": "stderr",
     "output_type": "stream",
     "text": [
      "\r",
      "Iterations:  39%|████████████▊                    | 117/300 [02:14<03:43,  1.22s/it]"
     ]
    },
    {
     "name": "stdout",
     "output_type": "stream",
     "text": [
      "Epoch:  116\n",
      "t_loss:  8.975304584877163 , v_loss:  0.5785534282525381\n",
      "t_acc:  0.7012138188608776 , v_acc:  0.7329192546583851\n",
      "t_recall:  0.5120777919600336 , v_recall:  0.5809909909909909\n",
      "t_prec:  0.7188147534189805 , v_prec:  0.7724242424242425\n",
      "t_f:  0.43883447101459827 , v_f:  0.5651655046793542\n",
      "////////\n"
     ]
    },
    {
     "name": "stderr",
     "output_type": "stream",
     "text": [
      "\r",
      "Iterations:  39%|████████████▉                    | 118/300 [02:15<03:23,  1.12s/it]"
     ]
    },
    {
     "name": "stdout",
     "output_type": "stream",
     "text": [
      "Epoch  117 , loss 8.907209321564318\n",
      "Epoch  118 , loss 8.848640254899568\n"
     ]
    },
    {
     "name": "stderr",
     "output_type": "stream",
     "text": [
      "\r",
      "Iterations:  40%|█████████████                    | 119/300 [02:17<03:43,  1.23s/it]"
     ]
    },
    {
     "name": "stdout",
     "output_type": "stream",
     "text": [
      "Epoch:  118\n",
      "t_loss:  8.848640254899568 , v_loss:  0.5766930232445399\n",
      "t_acc:  0.704014939309057 , v_acc:  0.7329192546583851\n",
      "t_recall:  0.5178291541428199 , v_recall:  0.5864864864864865\n",
      "t_prec:  0.7243738845068801 , v_prec:  0.7494802494802495\n",
      "t_f:  0.45152037284716534 , v_f:  0.5757185757185757\n",
      "////////\n"
     ]
    },
    {
     "name": "stderr",
     "output_type": "stream",
     "text": [
      "\r",
      "Iterations:  40%|█████████████▏                   | 120/300 [02:18<03:24,  1.14s/it]"
     ]
    },
    {
     "name": "stdout",
     "output_type": "stream",
     "text": [
      "Epoch  119 , loss 8.789030935250077\n",
      "Epoch  120 , loss 8.729588003719554\n"
     ]
    },
    {
     "name": "stderr",
     "output_type": "stream",
     "text": [
      "\r",
      "Iterations:  40%|█████████████▎                   | 121/300 [02:19<03:44,  1.25s/it]"
     ]
    },
    {
     "name": "stdout",
     "output_type": "stream",
     "text": [
      "Epoch:  120\n",
      "t_loss:  8.729588003719554 , v_loss:  0.5768828044335047\n",
      "t_acc:  0.6996576408341114 , v_acc:  0.7329192546583851\n",
      "t_recall:  0.5121093589162927 , v_recall:  0.5864864864864865\n",
      "t_prec:  0.6641366223908918 , v_prec:  0.7494802494802495\n",
      "t_f:  0.44169663418452426 , v_f:  0.5757185757185757\n",
      "////////\n"
     ]
    },
    {
     "name": "stderr",
     "output_type": "stream",
     "text": [
      "\r",
      "Iterations:  41%|█████████████▍                   | 122/300 [02:20<03:34,  1.21s/it]"
     ]
    },
    {
     "name": "stdout",
     "output_type": "stream",
     "text": [
      "Epoch  121 , loss 8.663059571210075\n",
      "Epoch  122 , loss 8.609071114484001\n"
     ]
    },
    {
     "name": "stderr",
     "output_type": "stream",
     "text": [
      "\r",
      "Iterations:  41%|█████████████▌                   | 123/300 [02:22<03:54,  1.32s/it]"
     ]
    },
    {
     "name": "stdout",
     "output_type": "stream",
     "text": [
      "Epoch:  122\n",
      "t_loss:  8.609071114484001 , v_loss:  0.5781399657328924\n",
      "t_acc:  0.6999688764394647 , v_acc:  0.7391304347826086\n",
      "t_recall:  0.5129081401572858 , v_recall:  0.590990990990991\n",
      "t_prec:  0.665400443178221 , v_prec:  0.7824384787472036\n",
      "t_f:  0.44358718990092355 , v_f:  0.5805210918114144\n",
      "////////\n"
     ]
    },
    {
     "name": "stderr",
     "output_type": "stream",
     "text": [
      "\r",
      "Iterations:  41%|█████████████▋                   | 124/300 [02:23<03:50,  1.31s/it]"
     ]
    },
    {
     "name": "stdout",
     "output_type": "stream",
     "text": [
      "Epoch  123 , loss 8.54044708551145\n",
      "Epoch  124 , loss 8.477576330596326\n"
     ]
    },
    {
     "name": "stderr",
     "output_type": "stream",
     "text": [
      "\r",
      "Iterations:  42%|█████████████▊                   | 125/300 [02:25<04:11,  1.44s/it]"
     ]
    },
    {
     "name": "stdout",
     "output_type": "stream",
     "text": [
      "Epoch:  124\n",
      "t_loss:  8.477576330596326 , v_loss:  0.5752579470475515\n",
      "t_acc:  0.7005913476501712 , v_acc:  0.7329192546583851\n",
      "t_recall:  0.5145057026392721 , v_recall:  0.5864864864864865\n",
      "t_prec:  0.6676022835394861 , v_prec:  0.7494802494802495\n",
      "t_f:  0.4473364058859122 , v_f:  0.5757185757185757\n",
      "////////\n"
     ]
    },
    {
     "name": "stderr",
     "output_type": "stream",
     "text": [
      "\r",
      "Iterations:  42%|█████████████▊                   | 126/300 [02:26<03:41,  1.27s/it]"
     ]
    },
    {
     "name": "stdout",
     "output_type": "stream",
     "text": [
      "Epoch  125 , loss 8.413184913934446\n",
      "Epoch  126 , loss 8.353434169993681\n"
     ]
    },
    {
     "name": "stderr",
     "output_type": "stream",
     "text": [
      "\r",
      "Iterations:  42%|█████████████▉                   | 127/300 [02:28<04:04,  1.41s/it]"
     ]
    },
    {
     "name": "stdout",
     "output_type": "stream",
     "text": [
      "Epoch:  126\n",
      "t_loss:  8.353434169993681 , v_loss:  0.57444000740846\n",
      "t_acc:  0.7012138188608776 , v_acc:  0.7329192546583851\n",
      "t_recall:  0.5152406637295672 , v_recall:  0.5864864864864865\n",
      "t_prec:  0.6760941960038059 , v_prec:  0.7494802494802495\n",
      "t_f:  0.44848539464706416 , v_f:  0.5757185757185757\n",
      "////////\n"
     ]
    },
    {
     "name": "stderr",
     "output_type": "stream",
     "text": [
      "\r",
      "Iterations:  43%|██████████████                   | 128/300 [02:29<03:40,  1.28s/it]"
     ]
    },
    {
     "name": "stdout",
     "output_type": "stream",
     "text": [
      "Epoch  127 , loss 8.289749612995223\n",
      "Epoch  128 , loss 8.23207389607149\n"
     ]
    },
    {
     "name": "stderr",
     "output_type": "stream",
     "text": [
      "\r",
      "Iterations:  43%|██████████████▏                  | 129/300 [02:30<03:52,  1.36s/it]"
     ]
    },
    {
     "name": "stdout",
     "output_type": "stream",
     "text": [
      "Epoch:  128\n",
      "t_loss:  8.23207389607149 , v_loss:  0.5746445457140604\n",
      "t_acc:  0.7043261749144102 , v_acc:  0.7329192546583851\n",
      "t_recall:  0.5209282057616558 , v_recall:  0.5864864864864865\n",
      "t_prec:  0.6969361046296376 , v_prec:  0.7494802494802495\n",
      "t_f:  0.4600905500501641 , v_f:  0.5757185757185757\n",
      "////////\n"
     ]
    },
    {
     "name": "stderr",
     "output_type": "stream",
     "text": [
      "\r",
      "Iterations:  43%|██████████████▎                  | 130/300 [02:31<03:32,  1.25s/it]"
     ]
    },
    {
     "name": "stdout",
     "output_type": "stream",
     "text": [
      "Epoch  129 , loss 8.177324201546464\n",
      "Epoch  130 , loss 8.1097586108189\n"
     ]
    },
    {
     "name": "stderr",
     "output_type": "stream",
     "text": [
      "\r",
      "Iterations:  44%|██████████████▍                  | 131/300 [02:33<03:48,  1.35s/it]"
     ]
    },
    {
     "name": "stdout",
     "output_type": "stream",
     "text": [
      "Epoch:  130\n",
      "t_loss:  8.1097586108189 , v_loss:  0.5745600064595541\n",
      "t_acc:  0.7043261749144102 , v_acc:  0.7329192546583851\n",
      "t_recall:  0.518627935383813 , v_recall:  0.5864864864864865\n",
      "t_prec:  0.7225121591343789 , v_prec:  0.7494802494802495\n",
      "t_f:  0.45337963195106057 , v_f:  0.5757185757185757\n",
      "////////\n"
     ]
    },
    {
     "name": "stderr",
     "output_type": "stream",
     "text": [
      "\r",
      "Iterations:  44%|██████████████▌                  | 132/300 [02:34<03:25,  1.22s/it]"
     ]
    },
    {
     "name": "stdout",
     "output_type": "stream",
     "text": [
      "Epoch  131 , loss 8.051152771594477\n",
      "Epoch  132 , loss 7.99358616623224\n"
     ]
    },
    {
     "name": "stderr",
     "output_type": "stream",
     "text": [
      "\r",
      "Iterations:  44%|██████████████▋                  | 133/300 [02:35<03:46,  1.36s/it]"
     ]
    },
    {
     "name": "stdout",
     "output_type": "stream",
     "text": [
      "Epoch:  132\n",
      "t_loss:  7.99358616623224 , v_loss:  0.5736565142869949\n",
      "t_acc:  0.7030812324929971 , v_acc:  0.7329192546583851\n",
      "t_recall:  0.516582945608762 , v_recall:  0.5864864864864865\n",
      "t_prec:  0.7124881291547958 , v_prec:  0.7494802494802495\n",
      "t_f:  0.4493591070181338 , v_f:  0.5757185757185757\n",
      "////////\n"
     ]
    },
    {
     "name": "stderr",
     "output_type": "stream",
     "text": [
      "\r",
      "Iterations:  45%|██████████████▋                  | 134/300 [02:36<03:32,  1.28s/it]"
     ]
    },
    {
     "name": "stdout",
     "output_type": "stream",
     "text": [
      "Epoch  133 , loss 7.938950856526692\n",
      "Epoch  134 , loss 7.878695235532873\n"
     ]
    },
    {
     "name": "stderr",
     "output_type": "stream",
     "text": [
      "\r",
      "Iterations:  45%|██████████████▊                  | 135/300 [02:38<04:02,  1.47s/it]"
     ]
    },
    {
     "name": "stdout",
     "output_type": "stream",
     "text": [
      "Epoch:  134\n",
      "t_loss:  7.878695235532873 , v_loss:  0.5719536592562994\n",
      "t_acc:  0.7015250544662309 , v_acc:  0.7329192546583851\n",
      "t_recall:  0.5134516407954873 , v_recall:  0.5864864864864865\n",
      "t_prec:  0.70625 , v_prec:  0.7494802494802495\n",
      "t_f:  0.44253355499795644 , v_f:  0.5757185757185757\n",
      "////////\n"
     ]
    },
    {
     "name": "stderr",
     "output_type": "stream",
     "text": [
      "\r",
      "Iterations:  45%|██████████████▉                  | 136/300 [02:39<03:38,  1.33s/it]"
     ]
    },
    {
     "name": "stdout",
     "output_type": "stream",
     "text": [
      "Epoch  135 , loss 7.815785323872285\n",
      "Epoch  136 , loss 7.756552565331552\n"
     ]
    },
    {
     "name": "stderr",
     "output_type": "stream",
     "text": [
      "\r",
      "Iterations:  46%|███████████████                  | 137/300 [02:41<03:56,  1.45s/it]"
     ]
    },
    {
     "name": "stdout",
     "output_type": "stream",
     "text": [
      "Epoch:  136\n",
      "t_loss:  7.756552565331552 , v_loss:  0.5718584259351095\n",
      "t_acc:  0.7005913476501712 , v_acc:  0.7391304347826086\n",
      "t_recall:  0.5156558378281935 , v_recall:  0.5964864864864865\n",
      "t_prec:  0.6600158982511923 , v_prec:  0.7602040816326531\n",
      "t_f:  0.4507477592101615 , v_f:  0.5904796511627907\n",
      "////////\n"
     ]
    },
    {
     "name": "stderr",
     "output_type": "stream",
     "text": [
      "\r",
      "Iterations:  46%|███████████████▏                 | 138/300 [02:42<03:30,  1.30s/it]"
     ]
    },
    {
     "name": "stdout",
     "output_type": "stream",
     "text": [
      "Epoch  137 , loss 7.6980545193541285\n",
      "Epoch  138 , loss 7.638047255721747\n"
     ]
    },
    {
     "name": "stderr",
     "output_type": "stream",
     "text": [
      "\r",
      "Iterations:  46%|███████████████▎                 | 139/300 [02:44<03:43,  1.39s/it]"
     ]
    },
    {
     "name": "stdout",
     "output_type": "stream",
     "text": [
      "Epoch:  138\n",
      "t_loss:  7.638047255721747 , v_loss:  0.5712497184673945\n",
      "t_acc:  0.7015250544662309 , v_acc:  0.7453416149068323\n",
      "t_recall:  0.5137391745927177 , v_recall:  0.6064864864864865\n",
      "t_prec:  0.7018218841144608 , v_prec:  0.7698630136986302\n",
      "t_f:  0.44341526636892 , v_f:  0.604848847650404\n",
      "////////\n"
     ]
    },
    {
     "name": "stderr",
     "output_type": "stream",
     "text": [
      "\r",
      "Iterations:  47%|███████████████▍                 | 140/300 [02:45<03:26,  1.29s/it]"
     ]
    },
    {
     "name": "stdout",
     "output_type": "stream",
     "text": [
      "Epoch  139 , loss 7.581478885575836\n",
      "Epoch  140 , loss 7.518673317105162\n"
     ]
    },
    {
     "name": "stderr",
     "output_type": "stream",
     "text": [
      "\r",
      "Iterations:  47%|███████████████▌                 | 141/300 [02:46<03:38,  1.38s/it]"
     ]
    },
    {
     "name": "stdout",
     "output_type": "stream",
     "text": [
      "Epoch:  140\n",
      "t_loss:  7.518673317105162 , v_loss:  0.5711140433947245\n",
      "t_acc:  0.7055711173358232 , v_acc:  0.7391304347826086\n",
      "t_recall:  0.518947722375482 , v_recall:  0.5964864864864865\n",
      "t_prec:  0.7618811255137528 , v_prec:  0.7602040816326531\n",
      "t_f:  0.4522582221690409 , v_f:  0.5904796511627907\n",
      "////////\n"
     ]
    },
    {
     "name": "stderr",
     "output_type": "stream",
     "text": [
      "\r",
      "Iterations:  47%|███████████████▌                 | 142/300 [02:47<03:21,  1.27s/it]"
     ]
    },
    {
     "name": "stdout",
     "output_type": "stream",
     "text": [
      "Epoch  141 , loss 7.464833596173455\n",
      "Epoch  142 , loss 7.404301849066043\n"
     ]
    },
    {
     "name": "stderr",
     "output_type": "stream",
     "text": [
      "\r",
      "Iterations:  48%|███████████████▋                 | 143/300 [02:49<03:33,  1.36s/it]"
     ]
    },
    {
     "name": "stdout",
     "output_type": "stream",
     "text": [
      "Epoch:  142\n",
      "t_loss:  7.404301849066043 , v_loss:  0.5696043819189072\n",
      "t_acc:  0.6999688764394647 , v_acc:  0.7515527950310559\n",
      "t_recall:  0.5126206063600555 , v_recall:  0.6164864864864865\n",
      "t_prec:  0.6678296790207578 , v_prec:  0.7786637931034484\n",
      "t_f:  0.44271340870979586 , v_f:  0.618844696969697\n",
      "////////\n"
     ]
    },
    {
     "name": "stderr",
     "output_type": "stream",
     "text": [
      "\r",
      "Iterations:  48%|███████████████▊                 | 144/300 [02:50<03:14,  1.24s/it]"
     ]
    },
    {
     "name": "stdout",
     "output_type": "stream",
     "text": [
      "Epoch  143 , loss 7.347026937148151\n",
      "Epoch  144 , loss 7.28830083211263\n"
     ]
    },
    {
     "name": "stderr",
     "output_type": "stream",
     "text": [
      "\r",
      "Iterations:  48%|███████████████▉                 | 145/300 [02:51<03:25,  1.33s/it]"
     ]
    },
    {
     "name": "stdout",
     "output_type": "stream",
     "text": [
      "Epoch:  144\n",
      "t_loss:  7.28830083211263 , v_loss:  0.5658663560946783\n",
      "t_acc:  0.7043261749144102 , v_acc:  0.7577639751552795\n",
      "t_recall:  0.5192030029782737 , v_recall:  0.6264864864864865\n",
      "t_prec:  0.7148549871520562 , v_prec:  0.7867647058823529\n",
      "t_f:  0.4550776228969694 , v_f:  0.6324846356453029\n",
      "////////\n"
     ]
    },
    {
     "name": "stderr",
     "output_type": "stream",
     "text": [
      "\r",
      "Iterations:  49%|████████████████                 | 146/300 [02:52<03:09,  1.23s/it]"
     ]
    },
    {
     "name": "stdout",
     "output_type": "stream",
     "text": [
      "Epoch  145 , loss 7.220398014666987\n",
      "Epoch  146 , loss 7.171239394767611\n"
     ]
    },
    {
     "name": "stderr",
     "output_type": "stream",
     "text": [
      "\r",
      "Iterations:  49%|████████████████▏                | 147/300 [02:54<03:32,  1.39s/it]"
     ]
    },
    {
     "name": "stdout",
     "output_type": "stream",
     "text": [
      "Epoch:  146\n",
      "t_loss:  7.171239394767611 , v_loss:  0.5655483255783716\n",
      "t_acc:  0.7033924680983504 , v_acc:  0.7577639751552795\n",
      "t_recall:  0.5168066592552943 , v_recall:  0.6264864864864865\n",
      "t_prec:  0.7193485789347982 , v_prec:  0.7867647058823529\n",
      "t_f:  0.44950483123271273 , v_f:  0.6324846356453029\n",
      "////////\n"
     ]
    },
    {
     "name": "stderr",
     "output_type": "stream",
     "text": [
      "\r",
      "Iterations:  49%|████████████████▎                | 148/300 [02:55<03:13,  1.27s/it]"
     ]
    },
    {
     "name": "stdout",
     "output_type": "stream",
     "text": [
      "Epoch  147 , loss 7.108940994038301\n",
      "Epoch  148 , loss 7.052685999402813\n"
     ]
    },
    {
     "name": "stderr",
     "output_type": "stream",
     "text": [
      "\r",
      "Iterations:  50%|████████████████▍                | 149/300 [02:57<03:36,  1.44s/it]"
     ]
    },
    {
     "name": "stdout",
     "output_type": "stream",
     "text": [
      "Epoch:  148\n",
      "t_loss:  7.052685999402813 , v_loss:  0.565597414970398\n",
      "t_acc:  0.7021475256769374 , v_acc:  0.7577639751552795\n",
      "t_recall:  0.5167744060608556 , v_recall:  0.6264864864864865\n",
      "t_prec:  0.6847619047619047 , v_prec:  0.7867647058823529\n",
      "t_f:  0.4514878826069854 , v_f:  0.6324846356453029\n",
      "////////\n"
     ]
    },
    {
     "name": "stderr",
     "output_type": "stream",
     "text": [
      "\r",
      "Iterations:  50%|████████████████▌                | 150/300 [02:58<03:10,  1.27s/it]"
     ]
    },
    {
     "name": "stdout",
     "output_type": "stream",
     "text": [
      "Epoch  149 , loss 6.991149818196016\n",
      "Epoch  150 , loss 6.929864565531413\n"
     ]
    },
    {
     "name": "stderr",
     "output_type": "stream",
     "text": [
      "\r",
      "Iterations:  50%|████████████████▌                | 151/300 [02:59<03:24,  1.37s/it]"
     ]
    },
    {
     "name": "stdout",
     "output_type": "stream",
     "text": [
      "Epoch:  150\n",
      "t_loss:  6.929864565531413 , v_loss:  0.5658289740482966\n",
      "t_acc:  0.7030812324929971 , v_acc:  0.7577639751552795\n",
      "t_recall:  0.5177330807976832 , v_recall:  0.6264864864864865\n",
      "t_prec:  0.6984085953256007 , v_prec:  0.7867647058823529\n",
      "t_f:  0.45278321288811446 , v_f:  0.6324846356453029\n",
      "////////\n"
     ]
    },
    {
     "name": "stderr",
     "output_type": "stream",
     "text": [
      "\r",
      "Iterations:  51%|████████████████▋                | 152/300 [03:00<03:00,  1.22s/it]"
     ]
    },
    {
     "name": "stdout",
     "output_type": "stream",
     "text": [
      "Epoch  151 , loss 6.871196615929697\n",
      "Epoch  152 , loss 6.817262490590413\n"
     ]
    },
    {
     "name": "stderr",
     "output_type": "stream",
     "text": [
      "\r",
      "Iterations:  51%|████████████████▊                | 153/300 [03:02<03:14,  1.33s/it]"
     ]
    },
    {
     "name": "stdout",
     "output_type": "stream",
     "text": [
      "Epoch:  152\n",
      "t_loss:  6.817262490590413 , v_loss:  0.565148189663887\n",
      "t_acc:  0.7043261749144102 , v_acc:  0.7577639751552795\n",
      "t_recall:  0.5180528677893523 , v_recall:  0.6264864864864865\n",
      "t_prec:  0.7313232035454258 , v_prec:  0.7867647058823529\n",
      "t_f:  0.451667873865018 , v_f:  0.6324846356453029\n",
      "////////\n"
     ]
    },
    {
     "name": "stderr",
     "output_type": "stream",
     "text": [
      "\r",
      "Iterations:  51%|████████████████▉                | 154/300 [03:03<02:55,  1.20s/it]"
     ]
    },
    {
     "name": "stdout",
     "output_type": "stream",
     "text": [
      "Epoch  153 , loss 6.753014658011642\n",
      "Epoch  154 , loss 6.69833594677495\n"
     ]
    },
    {
     "name": "stderr",
     "output_type": "stream",
     "text": [
      "\r",
      "Iterations:  52%|█████████████████                | 155/300 [03:04<03:07,  1.29s/it]"
     ]
    },
    {
     "name": "stdout",
     "output_type": "stream",
     "text": [
      "Epoch:  154\n",
      "t_loss:  6.69833594677495 , v_loss:  0.5641745179891586\n",
      "t_acc:  0.7052598817304699 , v_acc:  0.7639751552795031\n",
      "t_recall:  0.5215993467012531 , v_recall:  0.6364864864864865\n",
      "t_prec:  0.7116374248034355 , v_prec:  0.7942890442890442\n",
      "t_f:  0.4605574745238564 , v_f:  0.6457850856878184\n",
      "////////\n"
     ]
    },
    {
     "name": "stderr",
     "output_type": "stream",
     "text": [
      "\r",
      "Iterations:  52%|█████████████████▏               | 156/300 [03:05<02:54,  1.21s/it]"
     ]
    },
    {
     "name": "stdout",
     "output_type": "stream",
     "text": [
      "Epoch  155 , loss 6.643348347906973\n",
      "Epoch  156 , loss 6.593698071498497\n"
     ]
    },
    {
     "name": "stderr",
     "output_type": "stream",
     "text": [
      "\r",
      "Iterations:  52%|█████████████████▎               | 157/300 [03:07<03:09,  1.32s/it]"
     ]
    },
    {
     "name": "stdout",
     "output_type": "stream",
     "text": [
      "Epoch:  156\n",
      "t_loss:  6.593698071498497 , v_loss:  0.5651710430781046\n",
      "t_acc:  0.7046374105197635 , v_acc:  0.7577639751552795\n",
      "t_recall:  0.5211519194081882 , v_recall:  0.6264864864864865\n",
      "t_prec:  0.7017036035249978 , v_prec:  0.7867647058823529\n",
      "t_f:  0.46024614431438493 , v_f:  0.6324846356453029\n",
      "////////\n"
     ]
    },
    {
     "name": "stderr",
     "output_type": "stream",
     "text": [
      "\r",
      "Iterations:  53%|█████████████████▍               | 158/300 [03:08<02:54,  1.23s/it]"
     ]
    },
    {
     "name": "stdout",
     "output_type": "stream",
     "text": [
      "Epoch  157 , loss 6.517672211516137\n",
      "Epoch  158 , loss 6.46777644811892\n"
     ]
    },
    {
     "name": "stderr",
     "output_type": "stream",
     "text": [
      "\r",
      "Iterations:  53%|█████████████████▍               | 159/300 [03:10<03:18,  1.41s/it]"
     ]
    },
    {
     "name": "stdout",
     "output_type": "stream",
     "text": [
      "Epoch:  158\n",
      "t_loss:  6.46777644811892 , v_loss:  0.563387542963028\n",
      "t_acc:  0.7009025832555245 , v_acc:  0.7577639751552795\n",
      "t_recall:  0.5164546190691865 , v_recall:  0.6264864864864865\n",
      "t_prec:  0.6612277099900485 , v_prec:  0.7867647058823529\n",
      "t_f:  0.45258261142283635 , v_f:  0.6324846356453029\n",
      "////////\n"
     ]
    },
    {
     "name": "stderr",
     "output_type": "stream",
     "text": [
      "\r",
      "Iterations:  53%|█████████████████▌               | 160/300 [03:11<03:02,  1.30s/it]"
     ]
    },
    {
     "name": "stdout",
     "output_type": "stream",
     "text": [
      "Epoch  159 , loss 6.404705543144076\n",
      "Epoch  160 , loss 6.3523091521917605\n"
     ]
    },
    {
     "name": "stderr",
     "output_type": "stream",
     "text": [
      "\r",
      "Iterations:  54%|█████████████████▋               | 161/300 [03:12<03:18,  1.42s/it]"
     ]
    },
    {
     "name": "stdout",
     "output_type": "stream",
     "text": [
      "Epoch:  160\n",
      "t_loss:  6.3523091521917605 , v_loss:  0.5629061609506607\n",
      "t_acc:  0.7049486461251168 , v_acc:  0.7639751552795031\n",
      "t_recall:  0.5205130316630296 , v_recall:  0.6364864864864865\n",
      "t_prec:  0.7158765924256868 , v_prec:  0.7942890442890442\n",
      "t_f:  0.45790566255333864 , v_f:  0.6457850856878184\n",
      "////////\n"
     ]
    },
    {
     "name": "stderr",
     "output_type": "stream",
     "text": [
      "\r",
      "Iterations:  54%|█████████████████▊               | 162/300 [03:14<03:01,  1.32s/it]"
     ]
    },
    {
     "name": "stdout",
     "output_type": "stream",
     "text": [
      "Epoch  161 , loss 6.293399848190009\n",
      "Epoch  162 , loss 6.239105018914914\n"
     ]
    },
    {
     "name": "stderr",
     "output_type": "stream",
     "text": [
      "\r",
      "Iterations:  54%|█████████████████▉               | 163/300 [03:15<03:13,  1.41s/it]"
     ]
    },
    {
     "name": "stdout",
     "output_type": "stream",
     "text": [
      "Epoch:  162\n",
      "t_loss:  6.239105018914914 , v_loss:  0.5640562574068705\n",
      "t_acc:  0.6996576408341114 , v_acc:  0.7515527950310559\n",
      "t_recall:  0.5129719603079838 , v_recall:  0.6164864864864865\n",
      "t_prec:  0.6576195717430459 , v_prec:  0.7786637931034484\n",
      "t_f:  0.44431540490188964 , v_f:  0.618844696969697\n",
      "////////\n"
     ]
    },
    {
     "name": "stderr",
     "output_type": "stream",
     "text": [
      "\r",
      "Iterations:  55%|██████████████████               | 164/300 [03:16<02:56,  1.30s/it]"
     ]
    },
    {
     "name": "stdout",
     "output_type": "stream",
     "text": [
      "Epoch  163 , loss 6.182465338239483\n",
      "Epoch  164 , loss 6.130044544444365\n"
     ]
    },
    {
     "name": "stderr",
     "output_type": "stream",
     "text": [
      "\r",
      "Iterations:  55%|██████████████████▏              | 165/300 [03:18<03:04,  1.37s/it]"
     ]
    },
    {
     "name": "stdout",
     "output_type": "stream",
     "text": [
      "Epoch:  164\n",
      "t_loss:  6.130044544444365 , v_loss:  0.563612163066864\n",
      "t_acc:  0.7021475256769374 , v_acc:  0.7577639751552795\n",
      "t_recall:  0.5170619398580859 , v_recall:  0.6264864864864865\n",
      "t_prec:  0.682262242205063 , v_prec:  0.7867647058823529\n",
      "t_f:  0.45233627614650646 , v_f:  0.6324846356453029\n",
      "////////\n"
     ]
    },
    {
     "name": "stderr",
     "output_type": "stream",
     "text": [
      "\r",
      "Iterations:  55%|██████████████████▎              | 166/300 [03:19<02:53,  1.30s/it]"
     ]
    },
    {
     "name": "stdout",
     "output_type": "stream",
     "text": [
      "Epoch  165 , loss 6.075908586090686\n",
      "Epoch  166 , loss 6.012322341694551\n"
     ]
    },
    {
     "name": "stderr",
     "output_type": "stream",
     "text": [
      "\r",
      "Iterations:  56%|██████████████████▎              | 167/300 [03:21<03:08,  1.42s/it]"
     ]
    },
    {
     "name": "stdout",
     "output_type": "stream",
     "text": [
      "Epoch:  166\n",
      "t_loss:  6.012322341694551 , v_loss:  0.5634148319562277\n",
      "t_acc:  0.704014939309057 , v_acc:  0.7639751552795031\n",
      "t_recall:  0.5198418907234322 , v_recall:  0.6364864864864865\n",
      "t_prec:  0.6999253235977432 , v_prec:  0.7942890442890442\n",
      "t_f:  0.4574459414756846 , v_f:  0.6457850856878184\n",
      "////////\n"
     ]
    },
    {
     "name": "stderr",
     "output_type": "stream",
     "text": [
      "\r",
      "Iterations:  56%|██████████████████▍              | 168/300 [03:21<02:46,  1.26s/it]"
     ]
    },
    {
     "name": "stdout",
     "output_type": "stream",
     "text": [
      "Epoch  167 , loss 5.962138447107053\n",
      "Epoch  168 , loss 5.907889955184039\n"
     ]
    },
    {
     "name": "stderr",
     "output_type": "stream",
     "text": [
      "\r",
      "Iterations:  56%|██████████████████▌              | 169/300 [03:23<03:07,  1.43s/it]"
     ]
    },
    {
     "name": "stdout",
     "output_type": "stream",
     "text": [
      "Epoch:  168\n",
      "t_loss:  5.907889955184039 , v_loss:  0.5641852815945944\n",
      "t_acc:  0.6996576408341114 , v_acc:  0.7577639751552795\n",
      "t_recall:  0.5126844265107533 , v_recall:  0.6264864864864865\n",
      "t_prec:  0.6596292244803961 , v_prec:  0.7867647058823529\n",
      "t_f:  0.4434460145084276 , v_f:  0.6324846356453029\n",
      "////////\n"
     ]
    },
    {
     "name": "stderr",
     "output_type": "stream",
     "text": [
      "\r",
      "Iterations:  57%|██████████████████▋              | 170/300 [03:24<02:44,  1.26s/it]"
     ]
    },
    {
     "name": "stdout",
     "output_type": "stream",
     "text": [
      "Epoch  169 , loss 5.851681484895594\n",
      "Epoch  170 , loss 5.79898982889512\n"
     ]
    },
    {
     "name": "stderr",
     "output_type": "stream",
     "text": [
      "\r",
      "Iterations:  57%|██████████████████▊              | 171/300 [03:26<03:06,  1.44s/it]"
     ]
    },
    {
     "name": "stdout",
     "output_type": "stream",
     "text": [
      "Epoch:  170\n",
      "t_loss:  5.79898982889512 , v_loss:  0.5629975100358328\n",
      "t_acc:  0.7043261749144102 , v_acc:  0.7577639751552795\n",
      "t_recall:  0.5197780705727344 , v_recall:  0.6264864864864865\n",
      "t_prec:  0.7081419533755091 , v_prec:  0.7867647058823529\n",
      "t_f:  0.4567620036135779 , v_f:  0.6324846356453029\n",
      "////////\n"
     ]
    },
    {
     "name": "stderr",
     "output_type": "stream",
     "text": [
      "\r",
      "Iterations:  57%|██████████████████▉              | 172/300 [03:27<02:43,  1.28s/it]"
     ]
    },
    {
     "name": "stdout",
     "output_type": "stream",
     "text": [
      "Epoch  171 , loss 5.755475147097719\n",
      "Epoch  172 , loss 5.70643175349516\n"
     ]
    },
    {
     "name": "stderr",
     "output_type": "stream",
     "text": [
      "\r",
      "Iterations:  58%|███████████████████              | 173/300 [03:29<02:58,  1.40s/it]"
     ]
    },
    {
     "name": "stdout",
     "output_type": "stream",
     "text": [
      "Epoch:  172\n",
      "t_loss:  5.70643175349516 , v_loss:  0.563360462586085\n",
      "t_acc:  0.7058823529411765 , v_acc:  0.7639751552795031\n",
      "t_recall:  0.5223343077915483 , v_recall:  0.6364864864864865\n",
      "t_prec:  0.7188388126339194 , v_prec:  0.7942890442890442\n",
      "t_f:  0.46169674068114497 , v_f:  0.6457850856878184\n",
      "////////\n"
     ]
    },
    {
     "name": "stderr",
     "output_type": "stream",
     "text": [
      "\r",
      "Iterations:  58%|███████████████████▏             | 174/300 [03:30<02:41,  1.28s/it]"
     ]
    },
    {
     "name": "stdout",
     "output_type": "stream",
     "text": [
      "Epoch  173 , loss 5.670569139368394\n",
      "Epoch  174 , loss 5.616880482318354\n"
     ]
    },
    {
     "name": "stderr",
     "output_type": "stream",
     "text": [
      "\r",
      "Iterations:  58%|███████████████████▎             | 175/300 [03:31<02:53,  1.39s/it]"
     ]
    },
    {
     "name": "stdout",
     "output_type": "stream",
     "text": [
      "Epoch:  174\n",
      "t_loss:  5.616880482318354 , v_loss:  0.5626697639624277\n",
      "t_acc:  0.707749766573296 , v_acc:  0.7639751552795031\n",
      "t_recall:  0.5251142586568947 , v_recall:  0.6364864864864865\n",
      "t_prec:  0.7332504780114724 , v_prec:  0.7942890442890442\n",
      "t_f:  0.4667497029306074 , v_f:  0.6457850856878184\n",
      "////////\n"
     ]
    },
    {
     "name": "stderr",
     "output_type": "stream",
     "text": [
      "\r",
      "Iterations:  59%|███████████████████▎             | 176/300 [03:32<02:32,  1.23s/it]"
     ]
    },
    {
     "name": "stdout",
     "output_type": "stream",
     "text": [
      "Epoch  175 , loss 5.583999315897624\n",
      "Epoch  176 , loss 5.530532210480933\n"
     ]
    },
    {
     "name": "stderr",
     "output_type": "stream",
     "text": [
      "\r",
      "Iterations:  59%|███████████████████▍             | 177/300 [03:34<02:43,  1.33s/it]"
     ]
    },
    {
     "name": "stdout",
     "output_type": "stream",
     "text": [
      "Epoch:  176\n",
      "t_loss:  5.530532210480933 , v_loss:  0.5590031147003174\n",
      "t_acc:  0.7083722377840025 , v_acc:  0.7639751552795031\n",
      "t_recall:  0.5258492197471898 , v_recall:  0.6364864864864865\n",
      "t_prec:  0.7400764818355641 , v_prec:  0.7942890442890442\n",
      "t_f:  0.467885486310947 , v_f:  0.6457850856878184\n",
      "////////\n"
     ]
    },
    {
     "name": "stderr",
     "output_type": "stream",
     "text": [
      "\r",
      "Iterations:  59%|███████████████████▌             | 178/300 [03:35<02:25,  1.19s/it]"
     ]
    },
    {
     "name": "stdout",
     "output_type": "stream",
     "text": [
      "Epoch  177 , loss 5.486697785994586\n",
      "Epoch  178 , loss 5.436657008002786\n"
     ]
    },
    {
     "name": "stderr",
     "output_type": "stream",
     "text": [
      "\r",
      "Iterations:  60%|███████████████████▋             | 179/300 [03:36<02:36,  1.29s/it]"
     ]
    },
    {
     "name": "stdout",
     "output_type": "stream",
     "text": [
      "Epoch:  178\n",
      "t_loss:  5.436657008002786 , v_loss:  0.5597436726093292\n",
      "t_acc:  0.7015250544662309 , v_acc:  0.7639751552795031\n",
      "t_recall:  0.5177646477539424 , v_recall:  0.6364864864864865\n",
      "t_prec:  0.6649904397705545 , v_prec:  0.7942890442890442\n",
      "t_f:  0.45539186912721247 , v_f:  0.6457850856878184\n",
      "////////\n"
     ]
    },
    {
     "name": "stderr",
     "output_type": "stream",
     "text": [
      "\r",
      "Iterations:  60%|███████████████████▊             | 180/300 [03:37<02:21,  1.18s/it]"
     ]
    },
    {
     "name": "stdout",
     "output_type": "stream",
     "text": [
      "Epoch  179 , loss 5.392910583346498\n",
      "Epoch  180 , loss 5.357858685886159\n"
     ]
    },
    {
     "name": "stderr",
     "output_type": "stream",
     "text": [
      "\r",
      "Iterations:  60%|███████████████████▉             | 181/300 [03:38<02:31,  1.27s/it]"
     ]
    },
    {
     "name": "stdout",
     "output_type": "stream",
     "text": [
      "Epoch:  180\n",
      "t_loss:  5.357858685886159 , v_loss:  0.5578096161286036\n",
      "t_acc:  0.7061935885465297 , v_acc:  0.7639751552795031\n",
      "t_recall:  0.5222704876408504 , v_recall:  0.6364864864864865\n",
      "t_prec:  0.7276232114467409 , v_prec:  0.7942890442890442\n",
      "t_f:  0.4610248281646492 , v_f:  0.6457850856878184\n",
      "////////\n"
     ]
    },
    {
     "name": "stderr",
     "output_type": "stream",
     "text": [
      "\r",
      "Iterations:  61%|████████████████████             | 182/300 [03:39<02:18,  1.17s/it]"
     ]
    },
    {
     "name": "stdout",
     "output_type": "stream",
     "text": [
      "Epoch  181 , loss 5.304876608007095\n",
      "Epoch  182 , loss 5.273980262232762\n"
     ]
    },
    {
     "name": "stderr",
     "output_type": "stream",
     "text": [
      "\r",
      "Iterations:  61%|████████████████████▏            | 183/300 [03:41<02:28,  1.27s/it]"
     ]
    },
    {
     "name": "stdout",
     "output_type": "stream",
     "text": [
      "Epoch:  182\n",
      "t_loss:  5.273980262232762 , v_loss:  0.5578732341527939\n",
      "t_acc:  0.7015250544662309 , v_acc:  0.7639751552795031\n",
      "t_recall:  0.5171895801594818 , v_recall:  0.6364864864864865\n",
      "t_prec:  0.6684290978205324 , v_prec:  0.7942890442890442\n",
      "t_f:  0.4537218775801249 , v_f:  0.6457850856878184\n",
      "////////\n"
     ]
    },
    {
     "name": "stderr",
     "output_type": "stream",
     "text": [
      "\r",
      "Iterations:  61%|████████████████████▏            | 184/300 [03:42<02:17,  1.18s/it]"
     ]
    },
    {
     "name": "stdout",
     "output_type": "stream",
     "text": [
      "Epoch  183 , loss 5.226181759553797\n",
      "Epoch  184 , loss 5.184036666271734\n"
     ]
    },
    {
     "name": "stderr",
     "output_type": "stream",
     "text": [
      "\r",
      "Iterations:  62%|████████████████████▎            | 185/300 [03:43<02:28,  1.29s/it]"
     ]
    },
    {
     "name": "stdout",
     "output_type": "stream",
     "text": [
      "Epoch:  184\n",
      "t_loss:  5.184036666271734 , v_loss:  0.556258037686348\n",
      "t_acc:  0.6984126984126984 , v_acc:  0.7639751552795031\n",
      "t_recall:  0.5126521733163146 , v_recall:  0.6364864864864865\n",
      "t_prec:  0.6351554100283452 , v_prec:  0.7942890442890442\n",
      "t_f:  0.44546901942107076 , v_f:  0.6457850856878184\n",
      "////////\n"
     ]
    },
    {
     "name": "stderr",
     "output_type": "stream",
     "text": [
      "\r",
      "Iterations:  62%|████████████████████▍            | 186/300 [03:44<02:16,  1.20s/it]"
     ]
    },
    {
     "name": "stdout",
     "output_type": "stream",
     "text": [
      "Epoch  185 , loss 5.140088352502561\n",
      "Epoch  186 , loss 5.099465949862611\n"
     ]
    },
    {
     "name": "stderr",
     "output_type": "stream",
     "text": [
      "\r",
      "Iterations:  62%|████████████████████▌            | 187/300 [03:46<02:25,  1.28s/it]"
     ]
    },
    {
     "name": "stdout",
     "output_type": "stream",
     "text": [
      "Epoch:  186\n",
      "t_loss:  5.099465949862611 , v_loss:  0.5556616137425104\n",
      "t_acc:  0.704014939309057 , v_acc:  0.7577639751552795\n",
      "t_recall:  0.5195543569262019 , v_recall:  0.631981981981982\n",
      "t_prec:  0.702780597963773 , v_prec:  0.7714974054855448\n",
      "t_f:  0.456609601922056 , v_f:  0.6403162055335968\n",
      "////////\n"
     ]
    },
    {
     "name": "stderr",
     "output_type": "stream",
     "text": [
      "\r",
      "Iterations:  63%|████████████████████▋            | 188/300 [03:47<02:11,  1.17s/it]"
     ]
    },
    {
     "name": "stdout",
     "output_type": "stream",
     "text": [
      "Epoch  187 , loss 5.053373420939726\n",
      "Epoch  188 , loss 5.011251702028162\n"
     ]
    },
    {
     "name": "stderr",
     "output_type": "stream",
     "text": [
      "\r",
      "Iterations:  63%|████████████████████▊            | 189/300 [03:48<02:23,  1.30s/it]"
     ]
    },
    {
     "name": "stdout",
     "output_type": "stream",
     "text": [
      "Epoch:  188\n",
      "t_loss:  5.011251702028162 , v_loss:  0.5547234813372294\n",
      "t_acc:  0.7071272953625894 , v_acc:  0.7577639751552795\n",
      "t_recall:  0.5240917637693691 , v_recall:  0.631981981981982\n",
      "t_prec:  0.7297378064741297 , v_prec:  0.7714974054855448\n",
      "t_f:  0.4647962295045692 , v_f:  0.6403162055335968\n",
      "////////\n"
     ]
    },
    {
     "name": "stderr",
     "output_type": "stream",
     "text": [
      "\r",
      "Iterations:  63%|████████████████████▉            | 190/300 [03:49<02:09,  1.18s/it]"
     ]
    },
    {
     "name": "stdout",
     "output_type": "stream",
     "text": [
      "Epoch  189 , loss 4.970457030277626\n",
      "Epoch  190 , loss 4.928191951676911\n"
     ]
    },
    {
     "name": "stderr",
     "output_type": "stream",
     "text": [
      "\r",
      "Iterations:  64%|█████████████████████            | 191/300 [03:51<02:24,  1.32s/it]"
     ]
    },
    {
     "name": "stdout",
     "output_type": "stream",
     "text": [
      "Epoch:  190\n",
      "t_loss:  4.928191951676911 , v_loss:  0.5558526466290156\n",
      "t_acc:  0.706504824151883 , v_acc:  0.7577639751552795\n",
      "t_recall:  0.5245069378679952 , v_recall:  0.631981981981982\n",
      "t_prec:  0.7111536824180502 , v_prec:  0.7714974054855448\n",
      "t_f:  0.4669169634388306 , v_f:  0.6403162055335968\n",
      "////////\n"
     ]
    },
    {
     "name": "stderr",
     "output_type": "stream",
     "text": [
      "\r",
      "Iterations:  64%|█████████████████████            | 192/300 [03:52<02:16,  1.26s/it]"
     ]
    },
    {
     "name": "stdout",
     "output_type": "stream",
     "text": [
      "Epoch  191 , loss 4.882227542353611\n",
      "Epoch  192 , loss 4.838089737237668\n"
     ]
    },
    {
     "name": "stderr",
     "output_type": "stream",
     "text": [
      "\r",
      "Iterations:  64%|█████████████████████▏           | 193/300 [03:54<02:33,  1.44s/it]"
     ]
    },
    {
     "name": "stdout",
     "output_type": "stream",
     "text": [
      "Epoch:  192\n",
      "t_loss:  4.838089737237668 , v_loss:  0.55618288119634\n",
      "t_acc:  0.7071272953625894 , v_acc:  0.7577639751552795\n",
      "t_recall:  0.5226540947832173 , v_recall:  0.631981981981982\n",
      "t_prec:  0.7495238095238095 , v_prec:  0.7714974054855448\n",
      "t_f:  0.460658409125573 , v_f:  0.6403162055335968\n",
      "////////\n"
     ]
    },
    {
     "name": "stderr",
     "output_type": "stream",
     "text": [
      "\r",
      "Iterations:  65%|█████████████████████▎           | 194/300 [03:55<02:22,  1.35s/it]"
     ]
    },
    {
     "name": "stdout",
     "output_type": "stream",
     "text": [
      "Epoch  193 , loss 4.795384640787162\n",
      "Epoch  194 , loss 4.753827973908069\n"
     ]
    },
    {
     "name": "stderr",
     "output_type": "stream",
     "text": [
      "\r",
      "Iterations:  65%|█████████████████████▍           | 195/300 [03:57<02:30,  1.44s/it]"
     ]
    },
    {
     "name": "stdout",
     "output_type": "stream",
     "text": [
      "Epoch:  194\n",
      "t_loss:  4.753827973908069 , v_loss:  0.5558943202098211\n",
      "t_acc:  0.7096171802054155 , v_acc:  0.7639751552795031\n",
      "t_recall:  0.5281817433194713 , v_recall:  0.6364864864864865\n",
      "t_prec:  0.742816091954023 , v_prec:  0.7942890442890442\n",
      "t_f:  0.47257001790925657 , v_f:  0.6457850856878184\n",
      "////////\n"
     ]
    },
    {
     "name": "stderr",
     "output_type": "stream",
     "text": [
      "\r",
      "Iterations:  65%|█████████████████████▌           | 196/300 [03:58<02:15,  1.30s/it]"
     ]
    },
    {
     "name": "stdout",
     "output_type": "stream",
     "text": [
      "Epoch  195 , loss 4.712307799096201\n",
      "Epoch  196 , loss 4.667550255270565\n"
     ]
    },
    {
     "name": "stderr",
     "output_type": "stream",
     "text": [
      "\r",
      "Iterations:  66%|█████████████████████▋           | 197/300 [03:59<02:24,  1.40s/it]"
     ]
    },
    {
     "name": "stdout",
     "output_type": "stream",
     "text": [
      "Epoch:  196\n",
      "t_loss:  4.667550255270565 , v_loss:  0.5563725829124451\n",
      "t_acc:  0.7099284158107687 , v_acc:  0.7639751552795031\n",
      "t_recall:  0.5289805245604644 , v_recall:  0.6364864864864865\n",
      "t_prec:  0.7410115052732502 , v_prec:  0.7942890442890442\n",
      "t_f:  0.4743298069995829 , v_f:  0.6457850856878184\n",
      "////////\n"
     ]
    },
    {
     "name": "stderr",
     "output_type": "stream",
     "text": [
      "\r",
      "Iterations:  66%|█████████████████████▊           | 198/300 [04:00<02:09,  1.27s/it]"
     ]
    },
    {
     "name": "stdout",
     "output_type": "stream",
     "text": [
      "Epoch  197 , loss 4.626564914104986\n",
      "Epoch  198 , loss 4.5861958054935235\n"
     ]
    },
    {
     "name": "stderr",
     "output_type": "stream",
     "text": [
      "\r",
      "Iterations:  66%|█████████████████████▉           | 199/300 [04:02<02:19,  1.39s/it]"
     ]
    },
    {
     "name": "stdout",
     "output_type": "stream",
     "text": [
      "Epoch:  198\n",
      "t_loss:  4.5861958054935235 , v_loss:  0.5572672883669535\n",
      "t_acc:  0.7061935885465297 , v_acc:  0.7639751552795031\n",
      "t_recall:  0.5237081566270021 , v_recall:  0.6364864864864865\n",
      "t_prec:  0.711924917188075 , v_prec:  0.7942890442890442\n",
      "t_f:  0.46513458608430674 , v_f:  0.6457850856878184\n",
      "////////\n"
     ]
    },
    {
     "name": "stderr",
     "output_type": "stream",
     "text": [
      "\r",
      "Iterations:  67%|██████████████████████           | 200/300 [04:03<02:05,  1.26s/it]"
     ]
    },
    {
     "name": "stdout",
     "output_type": "stream",
     "text": [
      "Epoch  199 , loss 4.537314153185077\n",
      "Epoch  200 , loss 4.494882312475466\n"
     ]
    },
    {
     "name": "stderr",
     "output_type": "stream",
     "text": [
      "\r",
      "Iterations:  67%|██████████████████████           | 201/300 [04:05<02:16,  1.38s/it]"
     ]
    },
    {
     "name": "stdout",
     "output_type": "stream",
     "text": [
      "Epoch:  200\n",
      "t_loss:  4.494882312475466 , v_loss:  0.556797722975413\n",
      "t_acc:  0.7096171802054155 , v_acc:  0.7639751552795031\n",
      "t_recall:  0.5264565405360893 , v_recall:  0.6364864864864865\n",
      "t_prec:  0.7665740126120146 , v_prec:  0.7942890442890442\n",
      "t_f:  0.4677151034666812 , v_f:  0.6457850856878184\n",
      "////////\n"
     ]
    },
    {
     "name": "stderr",
     "output_type": "stream",
     "text": [
      "\r",
      "Iterations:  67%|██████████████████████▏          | 202/300 [04:06<02:03,  1.26s/it]"
     ]
    },
    {
     "name": "stdout",
     "output_type": "stream",
     "text": [
      "Epoch  201 , loss 4.462157791736079\n",
      "Epoch  202 , loss 4.416107327330346\n"
     ]
    },
    {
     "name": "stderr",
     "output_type": "stream",
     "text": [
      "\r",
      "Iterations:  68%|██████████████████████▎          | 203/300 [04:07<02:12,  1.37s/it]"
     ]
    },
    {
     "name": "stdout",
     "output_type": "stream",
     "text": [
      "Epoch:  202\n",
      "t_loss:  4.416107327330346 , v_loss:  0.5561346064011256\n",
      "t_acc:  0.7049486461251168 , v_acc:  0.7639751552795031\n",
      "t_recall:  0.5202254978657992 , v_recall:  0.6364864864864865\n",
      "t_prec:  0.7193627937440457 , v_prec:  0.7942890442890442\n",
      "t_f:  0.45706693323218295 , v_f:  0.6457850856878184\n",
      "////////\n"
     ]
    },
    {
     "name": "stderr",
     "output_type": "stream",
     "text": [
      "\r",
      "Iterations:  68%|██████████████████████▍          | 204/300 [04:08<02:02,  1.27s/it]"
     ]
    },
    {
     "name": "stdout",
     "output_type": "stream",
     "text": [
      "Epoch  203 , loss 4.376585025413363\n",
      "Epoch  204 , loss 4.333162812625661\n"
     ]
    },
    {
     "name": "stderr",
     "output_type": "stream",
     "text": [
      "\r",
      "Iterations:  68%|██████████████████████▌          | 205/300 [04:10<02:06,  1.33s/it]"
     ]
    },
    {
     "name": "stdout",
     "output_type": "stream",
     "text": [
      "Epoch:  204\n",
      "t_loss:  4.333162812625661 , v_loss:  0.5565271824598312\n",
      "t_acc:  0.7068160597572363 , v_acc:  0.7639751552795031\n",
      "t_recall:  0.5238680501228367 , v_recall:  0.6364864864864865\n",
      "t_prec:  0.7246002772444314 , v_prec:  0.7942890442890442\n",
      "t_f:  0.46463715594447846 , v_f:  0.6457850856878184\n",
      "////////\n"
     ]
    },
    {
     "name": "stderr",
     "output_type": "stream",
     "text": [
      "\r",
      "Iterations:  69%|██████████████████████▋          | 206/300 [04:11<01:53,  1.21s/it]"
     ]
    },
    {
     "name": "stdout",
     "output_type": "stream",
     "text": [
      "Epoch  205 , loss 4.287893641228769\n",
      "Epoch  206 , loss 4.2469403977487605\n"
     ]
    },
    {
     "name": "stderr",
     "output_type": "stream",
     "text": [
      "\r",
      "Iterations:  69%|██████████████████████▊          | 207/300 [04:12<02:04,  1.34s/it]"
     ]
    },
    {
     "name": "stdout",
     "output_type": "stream",
     "text": [
      "Epoch:  206\n",
      "t_loss:  4.2469403977487605 , v_loss:  0.5554653058449427\n",
      "t_acc:  0.7055711173358232 , v_acc:  0.7639751552795031\n",
      "t_recall:  0.5229731955367068 , v_recall:  0.6364864864864865\n",
      "t_prec:  0.7053551711446449 , v_prec:  0.7942890442890442\n",
      "t_f:  0.4640013966480447 , v_f:  0.6457850856878184\n",
      "////////\n"
     ]
    },
    {
     "name": "stderr",
     "output_type": "stream",
     "text": [
      "\r",
      "Iterations:  69%|██████████████████████▉          | 208/300 [04:13<01:50,  1.20s/it]"
     ]
    },
    {
     "name": "stdout",
     "output_type": "stream",
     "text": [
      "Epoch  207 , loss 4.208480451621261\n",
      "Epoch  208 , loss 4.166204115923713\n"
     ]
    },
    {
     "name": "stderr",
     "output_type": "stream",
     "text": [
      "\r",
      "Iterations:  70%|██████████████████████▉          | 209/300 [04:15<02:00,  1.32s/it]"
     ]
    },
    {
     "name": "stdout",
     "output_type": "stream",
     "text": [
      "Epoch:  208\n",
      "t_loss:  4.166204115923713 , v_loss:  0.5566831976175308\n",
      "t_acc:  0.7043261749144102 , v_acc:  0.7639751552795031\n",
      "t_recall:  0.5223658747478075 , v_recall:  0.6364864864864865\n",
      "t_prec:  0.6860019175455416 , v_prec:  0.7942890442890442\n",
      "t_f:  0.4641773783794031 , v_f:  0.6457850856878184\n",
      "////////\n"
     ]
    },
    {
     "name": "stderr",
     "output_type": "stream",
     "text": [
      "\r",
      "Iterations:  70%|███████████████████████          | 210/300 [04:16<01:46,  1.19s/it]"
     ]
    },
    {
     "name": "stdout",
     "output_type": "stream",
     "text": [
      "Epoch  209 , loss 4.134747112498564\n",
      "Epoch  210 , loss 4.09711386643204\n"
     ]
    },
    {
     "name": "stderr",
     "output_type": "stream",
     "text": [
      "\r",
      "Iterations:  70%|███████████████████████▏         | 211/300 [04:17<01:55,  1.30s/it]"
     ]
    },
    {
     "name": "stdout",
     "output_type": "stream",
     "text": [
      "Epoch:  210\n",
      "t_loss:  4.09711386643204 , v_loss:  0.5556127230326334\n",
      "t_acc:  0.7043261749144102 , v_acc:  0.7639751552795031\n",
      "t_recall:  0.5209282057616558 , v_recall:  0.6364864864864865\n",
      "t_prec:  0.6969361046296376 , v_prec:  0.7942890442890442\n",
      "t_f:  0.4600905500501641 , v_f:  0.6457850856878184\n",
      "////////\n"
     ]
    },
    {
     "name": "stderr",
     "output_type": "stream",
     "text": [
      "\r",
      "Iterations:  71%|███████████████████████▎         | 212/300 [04:18<01:43,  1.17s/it]"
     ]
    },
    {
     "name": "stdout",
     "output_type": "stream",
     "text": [
      "Epoch  211 , loss 4.052517091526704\n",
      "Epoch  212 , loss 4.033484169081146\n"
     ]
    },
    {
     "name": "stderr",
     "output_type": "stream",
     "text": [
      "\r",
      "Iterations:  71%|███████████████████████▍         | 213/300 [04:20<01:51,  1.29s/it]"
     ]
    },
    {
     "name": "stdout",
     "output_type": "stream",
     "text": [
      "Epoch:  212\n",
      "t_loss:  4.033484169081146 , v_loss:  0.5564870635668436\n",
      "t_acc:  0.707749766573296 , v_acc:  0.7577639751552795\n",
      "t_recall:  0.5259768600485857 , v_recall:  0.631981981981982\n",
      "t_prec:  0.7238186462324393 , v_prec:  0.7714974054855448\n",
      "t_f:  0.469178185227001 , v_f:  0.6403162055335968\n",
      "////////\n"
     ]
    },
    {
     "name": "stderr",
     "output_type": "stream",
     "text": [
      "\r",
      "Iterations:  71%|███████████████████████▌         | 214/300 [04:20<01:40,  1.17s/it]"
     ]
    },
    {
     "name": "stdout",
     "output_type": "stream",
     "text": [
      "Epoch  213 , loss 3.979573778077668\n",
      "Epoch  214 , loss 3.945204641304764\n"
     ]
    },
    {
     "name": "stderr",
     "output_type": "stream",
     "text": [
      "\r",
      "Iterations:  72%|███████████████████████▋         | 215/300 [04:22<01:48,  1.28s/it]"
     ]
    },
    {
     "name": "stdout",
     "output_type": "stream",
     "text": [
      "Epoch:  214\n",
      "t_loss:  3.945204641304764 , v_loss:  0.5562259703874588\n",
      "t_acc:  0.707749766573296 , v_acc:  0.7577639751552795\n",
      "t_recall:  0.5248267248596643 , v_recall:  0.631981981981982\n",
      "t_prec:  0.7367463572114126 , v_prec:  0.7714974054855448\n",
      "t_f:  0.4659337508021153 , v_f:  0.6403162055335968\n",
      "////////\n"
     ]
    },
    {
     "name": "stderr",
     "output_type": "stream",
     "text": [
      "\r",
      "Iterations:  72%|███████████████████████▊         | 216/300 [04:23<01:37,  1.17s/it]"
     ]
    },
    {
     "name": "stdout",
     "output_type": "stream",
     "text": [
      "Epoch  215 , loss 3.9057850697461296\n",
      "Epoch  216 , loss 3.8772469314874387\n"
     ]
    },
    {
     "name": "stderr",
     "output_type": "stream",
     "text": [
      "\r",
      "Iterations:  72%|███████████████████████▊         | 217/300 [04:24<01:45,  1.27s/it]"
     ]
    },
    {
     "name": "stdout",
     "output_type": "stream",
     "text": [
      "Epoch:  216\n",
      "t_loss:  3.8772469314874387 , v_loss:  0.5543109029531479\n",
      "t_acc:  0.7021475256769374 , v_acc:  0.7577639751552795\n",
      "t_recall:  0.5170619398580859 , v_recall:  0.631981981981982\n",
      "t_prec:  0.682262242205063 , v_prec:  0.7714974054855448\n",
      "t_f:  0.45233627614650646 , v_f:  0.6403162055335968\n",
      "////////\n"
     ]
    },
    {
     "name": "stderr",
     "output_type": "stream",
     "text": [
      "\r",
      "Iterations:  73%|███████████████████████▉         | 218/300 [04:25<01:38,  1.21s/it]"
     ]
    },
    {
     "name": "stdout",
     "output_type": "stream",
     "text": [
      "Epoch  217 , loss 3.8339489955528108\n",
      "Epoch  218 , loss 3.7971821485781203\n"
     ]
    },
    {
     "name": "stderr",
     "output_type": "stream",
     "text": [
      "\r",
      "Iterations:  73%|████████████████████████         | 219/300 [04:27<01:46,  1.32s/it]"
     ]
    },
    {
     "name": "stdout",
     "output_type": "stream",
     "text": [
      "Epoch:  218\n",
      "t_loss:  3.7971821485781203 , v_loss:  0.5541370312372843\n",
      "t_acc:  0.7033924680983504 , v_acc:  0.7577639751552795\n",
      "t_recall:  0.5191069296331371 , v_recall:  0.631981981981982\n",
      "t_prec:  0.6925199137072685 , v_prec:  0.7714974054855448\n",
      "t_f:  0.45630492347668505 , v_f:  0.6403162055335968\n",
      "////////\n"
     ]
    },
    {
     "name": "stderr",
     "output_type": "stream",
     "text": [
      "\r",
      "Iterations:  73%|████████████████████████▏        | 220/300 [04:28<01:37,  1.21s/it]"
     ]
    },
    {
     "name": "stdout",
     "output_type": "stream",
     "text": [
      "Epoch  219 , loss 3.757807264141008\n",
      "Epoch  220 , loss 3.725905960681392\n"
     ]
    },
    {
     "name": "stderr",
     "output_type": "stream",
     "text": [
      "\r",
      "Iterations:  74%|████████████████████████▎        | 221/300 [04:30<01:42,  1.30s/it]"
     ]
    },
    {
     "name": "stdout",
     "output_type": "stream",
     "text": [
      "Epoch:  220\n",
      "t_loss:  3.725905960681392 , v_loss:  0.5540413508812586\n",
      "t_acc:  0.7043261749144102 , v_acc:  0.7577639751552795\n",
      "t_recall:  0.5220783409505771 , v_recall:  0.631981981981982\n",
      "t_prec:  0.6879688558942441 , v_prec:  0.7714974054855448\n",
      "t_f:  0.46336647937045977 , v_f:  0.6403162055335968\n",
      "////////\n"
     ]
    },
    {
     "name": "stderr",
     "output_type": "stream",
     "text": [
      "\r",
      "Iterations:  74%|████████████████████████▍        | 222/300 [04:31<01:38,  1.26s/it]"
     ]
    },
    {
     "name": "stdout",
     "output_type": "stream",
     "text": [
      "Epoch  221 , loss 3.684645797692093\n",
      "Epoch  222 , loss 3.6439937843995938\n"
     ]
    },
    {
     "name": "stderr",
     "output_type": "stream",
     "text": [
      "\r",
      "Iterations:  74%|████████████████████████▌        | 223/300 [04:32<01:42,  1.34s/it]"
     ]
    },
    {
     "name": "stdout",
     "output_type": "stream",
     "text": [
      "Epoch:  222\n",
      "t_loss:  3.6439937843995938 , v_loss:  0.5543511261542639\n",
      "t_acc:  0.7071272953625894 , v_acc:  0.7577639751552795\n",
      "t_recall:  0.5269671017416725 , v_recall:  0.631981981981982\n",
      "t_prec:  0.7031482630272954 , v_prec:  0.7714974054855448\n",
      "t_f:  0.4728291316526611 , v_f:  0.6403162055335968\n",
      "////////\n"
     ]
    },
    {
     "name": "stderr",
     "output_type": "stream",
     "text": [
      "\r",
      "Iterations:  75%|████████████████████████▋        | 224/300 [04:33<01:40,  1.32s/it]"
     ]
    },
    {
     "name": "stdout",
     "output_type": "stream",
     "text": [
      "Epoch  223 , loss 3.6081345034580603\n",
      "Epoch  224 , loss 3.5765212797651103\n"
     ]
    },
    {
     "name": "stderr",
     "output_type": "stream",
     "text": [
      "\r",
      "Iterations:  75%|████████████████████████▊        | 225/300 [04:35<01:43,  1.38s/it]"
     ]
    },
    {
     "name": "stdout",
     "output_type": "stream",
     "text": [
      "Epoch:  224\n",
      "t_loss:  3.5765212797651103 , v_loss:  0.5545593450466791\n",
      "t_acc:  0.7108621226268285 , v_acc:  0.7577639751552795\n",
      "t_recall:  0.529939199297292 , v_recall:  0.631981981981982\n",
      "t_prec:  0.7519034604873167 , v_prec:  0.7714974054855448\n",
      "t_f:  0.4756257834095917 , v_f:  0.6403162055335968\n",
      "////////\n"
     ]
    },
    {
     "name": "stderr",
     "output_type": "stream",
     "text": [
      "\r",
      "Iterations:  75%|████████████████████████▊        | 226/300 [04:36<01:39,  1.34s/it]"
     ]
    },
    {
     "name": "stdout",
     "output_type": "stream",
     "text": [
      "Epoch  225 , loss 3.5419153980180327\n",
      "Epoch  226 , loss 3.4984364790074967\n"
     ]
    },
    {
     "name": "stderr",
     "output_type": "stream",
     "text": [
      "\r",
      "Iterations:  76%|████████████████████████▉        | 227/300 [04:38<01:43,  1.42s/it]"
     ]
    },
    {
     "name": "stdout",
     "output_type": "stream",
     "text": [
      "Epoch:  226\n",
      "t_loss:  3.4984364790074967 , v_loss:  0.555027907093366\n",
      "t_acc:  0.7068160597572363 , v_acc:  0.7577639751552795\n",
      "t_recall:  0.5255932529062187 , v_recall:  0.631981981981982\n",
      "t_prec:  0.7080250035326229 , v_prec:  0.7714974054855448\n",
      "t_f:  0.4694904689923241 , v_f:  0.6403162055335968\n",
      "////////\n"
     ]
    },
    {
     "name": "stderr",
     "output_type": "stream",
     "text": [
      "\r",
      "Iterations:  76%|█████████████████████████        | 228/300 [04:39<01:33,  1.30s/it]"
     ]
    },
    {
     "name": "stdout",
     "output_type": "stream",
     "text": [
      "Epoch  227 , loss 3.4617779208164587\n",
      "Epoch  228 , loss 3.431327506607654\n"
     ]
    },
    {
     "name": "stderr",
     "output_type": "stream",
     "text": [
      "\r",
      "Iterations:  76%|█████████████████████████▏       | 229/300 [04:41<01:41,  1.43s/it]"
     ]
    },
    {
     "name": "stdout",
     "output_type": "stream",
     "text": [
      "Epoch:  228\n",
      "t_loss:  3.431327506607654 , v_loss:  0.5559807866811752\n",
      "t_acc:  0.7046374105197635 , v_acc:  0.7639751552795031\n",
      "t_recall:  0.5223020545971095 , v_recall:  0.6364864864864865\n",
      "t_prec:  0.6921562366964666 , v_prec:  0.7942890442890442\n",
      "t_f:  0.46352513075657503 , v_f:  0.6457850856878184\n",
      "////////\n"
     ]
    },
    {
     "name": "stderr",
     "output_type": "stream",
     "text": [
      "\r",
      "Iterations:  77%|█████████████████████████▎       | 230/300 [04:42<01:29,  1.27s/it]"
     ]
    },
    {
     "name": "stdout",
     "output_type": "stream",
     "text": [
      "Epoch  229 , loss 3.39369602764354\n",
      "Epoch  230 , loss 3.3519113157309737\n"
     ]
    },
    {
     "name": "stderr",
     "output_type": "stream",
     "text": [
      "\r",
      "Iterations:  77%|█████████████████████████▍       | 231/300 [04:43<01:38,  1.42s/it]"
     ]
    },
    {
     "name": "stdout",
     "output_type": "stream",
     "text": [
      "Epoch:  230\n",
      "t_loss:  3.3519113157309737 , v_loss:  0.5555875947078069\n",
      "t_acc:  0.7117958294428882 , v_acc:  0.7577639751552795\n",
      "t_recall:  0.5308978740341198 , v_recall:  0.631981981981982\n",
      "t_prec:  0.7630559082658857 , v_prec:  0.7714974054855448\n",
      "t_f:  0.47692353673373233 , v_f:  0.6403162055335968\n",
      "////////\n"
     ]
    },
    {
     "name": "stderr",
     "output_type": "stream",
     "text": [
      "\r",
      "Iterations:  77%|█████████████████████████▌       | 232/300 [04:44<01:28,  1.30s/it]"
     ]
    },
    {
     "name": "stdout",
     "output_type": "stream",
     "text": [
      "Epoch  231 , loss 3.314136930540496\n",
      "Epoch  232 , loss 3.2817386832891726\n"
     ]
    },
    {
     "name": "stderr",
     "output_type": "stream",
     "text": [
      "\r",
      "Iterations:  78%|█████████████████████████▋       | 233/300 [04:46<01:35,  1.43s/it]"
     ]
    },
    {
     "name": "stdout",
     "output_type": "stream",
     "text": [
      "Epoch:  232\n",
      "t_loss:  3.2817386832891726 , v_loss:  0.5551160971323649\n",
      "t_acc:  0.7037037037037037 , v_acc:  0.7639751552795031\n",
      "t_recall:  0.5216309136575122 , v_recall:  0.6364864864864865\n",
      "t_prec:  0.6798897411313518 , v_prec:  0.7942890442890442\n",
      "t_f:  0.4630493307549387 , v_f:  0.6457850856878184\n",
      "////////\n"
     ]
    },
    {
     "name": "stderr",
     "output_type": "stream",
     "text": [
      "\r",
      "Iterations:  78%|█████████████████████████▋       | 234/300 [04:47<01:23,  1.26s/it]"
     ]
    },
    {
     "name": "stdout",
     "output_type": "stream",
     "text": [
      "Epoch  233 , loss 3.242016553878784\n",
      "Epoch  234 , loss 3.209862091962029\n"
     ]
    },
    {
     "name": "stderr",
     "output_type": "stream",
     "text": [
      "\r",
      "Iterations:  78%|█████████████████████████▊       | 235/300 [04:48<01:27,  1.34s/it]"
     ]
    },
    {
     "name": "stdout",
     "output_type": "stream",
     "text": [
      "Epoch:  234\n",
      "t_loss:  3.209862091962029 , v_loss:  0.5540730208158493\n",
      "t_acc:  0.7080610021786492 , v_acc:  0.7639751552795031\n",
      "t_recall:  0.5264881074923484 , v_recall:  0.6364864864864865\n",
      "t_prec:  0.7255123820800649 , v_prec:  0.7942890442890442\n",
      "t_f:  0.470145008052096 , v_f:  0.6457850856878184\n",
      "////////\n"
     ]
    },
    {
     "name": "stderr",
     "output_type": "stream",
     "text": [
      "\r",
      "Iterations:  79%|█████████████████████████▉       | 236/300 [04:49<01:17,  1.20s/it]"
     ]
    },
    {
     "name": "stdout",
     "output_type": "stream",
     "text": [
      "Epoch  235 , loss 3.1692786029740874\n",
      "Epoch  236 , loss 3.1325172022277235\n"
     ]
    },
    {
     "name": "stderr",
     "output_type": "stream",
     "text": [
      "\r",
      "Iterations:  79%|██████████████████████████       | 237/300 [04:51<01:21,  1.29s/it]"
     ]
    },
    {
     "name": "stdout",
     "output_type": "stream",
     "text": [
      "Epoch:  236\n",
      "t_loss:  3.1325172022277235 , v_loss:  0.5549985319375992\n",
      "t_acc:  0.7052598817304699 , v_acc:  0.7701863354037267\n",
      "t_recall:  0.5221744142957138 , v_recall:  0.640990990990991\n",
      "t_prec:  0.7059464627151051 , v_prec:  0.8196486928104575\n",
      "t_f:  0.4622065694092495 , v_f:  0.6513315774070823\n",
      "////////\n"
     ]
    },
    {
     "name": "stderr",
     "output_type": "stream",
     "text": [
      "\r",
      "Iterations:  79%|██████████████████████████▏      | 238/300 [04:52<01:12,  1.18s/it]"
     ]
    },
    {
     "name": "stdout",
     "output_type": "stream",
     "text": [
      "Epoch  237 , loss 3.1041841366711784\n",
      "Epoch  238 , loss 3.068692539252487\n"
     ]
    },
    {
     "name": "stderr",
     "output_type": "stream",
     "text": [
      "\r",
      "Iterations:  80%|██████████████████████████▎      | 239/300 [04:53<01:18,  1.28s/it]"
     ]
    },
    {
     "name": "stdout",
     "output_type": "stream",
     "text": [
      "Epoch:  238\n",
      "t_loss:  3.068692539252487 , v_loss:  0.5540238370498022\n",
      "t_acc:  0.706504824151883 , v_acc:  0.7701863354037267\n",
      "t_recall:  0.5222066674901524 , v_recall:  0.640990990990991\n",
      "t_prec:  0.7372202130779005 , v_prec:  0.8196486928104575\n",
      "t_f:  0.4603480756595147 , v_f:  0.6513315774070823\n",
      "////////\n"
     ]
    },
    {
     "name": "stderr",
     "output_type": "stream",
     "text": [
      "\r",
      "Iterations:  80%|██████████████████████████▍      | 240/300 [04:54<01:11,  1.19s/it]"
     ]
    },
    {
     "name": "stdout",
     "output_type": "stream",
     "text": [
      "Epoch  239 , loss 3.0327386388591693\n",
      "Epoch  240 , loss 3.007981590196198\n"
     ]
    },
    {
     "name": "stderr",
     "output_type": "stream",
     "text": [
      "\r",
      "Iterations:  80%|██████████████████████████▌      | 241/300 [04:56<01:15,  1.27s/it]"
     ]
    },
    {
     "name": "stdout",
     "output_type": "stream",
     "text": [
      "Epoch:  240\n",
      "t_loss:  3.007981590196198 , v_loss:  0.5542909999688467\n",
      "t_acc:  0.7061935885465297 , v_acc:  0.7701863354037267\n",
      "t_recall:  0.5237081566270021 , v_recall:  0.640990990990991\n",
      "t_prec:  0.711924917188075 , v_prec:  0.8196486928104575\n",
      "t_f:  0.46513458608430674 , v_f:  0.6513315774070823\n",
      "////////\n"
     ]
    },
    {
     "name": "stderr",
     "output_type": "stream",
     "text": [
      "\r",
      "Iterations:  81%|██████████████████████████▌      | 242/300 [04:57<01:09,  1.20s/it]"
     ]
    },
    {
     "name": "stdout",
     "output_type": "stream",
     "text": [
      "Epoch  241 , loss 2.9679480487225103\n",
      "Epoch  242 , loss 2.934124091092278\n"
     ]
    },
    {
     "name": "stderr",
     "output_type": "stream",
     "text": [
      "\r",
      "Iterations:  81%|██████████████████████████▋      | 243/300 [04:58<01:14,  1.31s/it]"
     ]
    },
    {
     "name": "stdout",
     "output_type": "stream",
     "text": [
      "Epoch:  242\n",
      "t_loss:  2.934124091092278 , v_loss:  0.555580755074819\n",
      "t_acc:  0.707749766573296 , v_acc:  0.7701863354037267\n",
      "t_recall:  0.5248267248596643 , v_recall:  0.640990990990991\n",
      "t_prec:  0.7367463572114126 , v_prec:  0.8196486928104575\n",
      "t_f:  0.4659337508021153 , v_f:  0.6513315774070823\n",
      "////////\n"
     ]
    },
    {
     "name": "stderr",
     "output_type": "stream",
     "text": [
      "\r",
      "Iterations:  81%|██████████████████████████▊      | 244/300 [04:59<01:08,  1.22s/it]"
     ]
    },
    {
     "name": "stdout",
     "output_type": "stream",
     "text": [
      "Epoch  243 , loss 2.9124982263527666\n",
      "Epoch  244 , loss 2.878609199149936\n"
     ]
    },
    {
     "name": "stderr",
     "output_type": "stream",
     "text": [
      "\r",
      "Iterations:  82%|██████████████████████████▉      | 245/300 [05:01<01:18,  1.42s/it]"
     ]
    },
    {
     "name": "stdout",
     "output_type": "stream",
     "text": [
      "Epoch:  244\n",
      "t_loss:  2.878609199149936 , v_loss:  0.5581773022810618\n",
      "t_acc:  0.707749766573296 , v_acc:  0.7639751552795031\n",
      "t_recall:  0.5256893262513553 , v_recall:  0.630990990990991\n",
      "t_prec:  0.7267999806127972 , v_prec:  0.8133620689655172\n",
      "t_f:  0.4683719019783674 , v_f:  0.637902462121212\n",
      "////////\n"
     ]
    },
    {
     "name": "stderr",
     "output_type": "stream",
     "text": [
      "\r",
      "Iterations:  82%|███████████████████████████      | 246/300 [05:02<01:10,  1.31s/it]"
     ]
    },
    {
     "name": "stdout",
     "output_type": "stream",
     "text": [
      "Epoch  245 , loss 2.850576868244246\n",
      "Epoch  246 , loss 2.810408461327646\n"
     ]
    },
    {
     "name": "stderr",
     "output_type": "stream",
     "text": [
      "\r",
      "Iterations:  82%|███████████████████████████▏     | 247/300 [05:04<01:14,  1.40s/it]"
     ]
    },
    {
     "name": "stdout",
     "output_type": "stream",
     "text": [
      "Epoch:  246\n",
      "t_loss:  2.810408461327646 , v_loss:  0.5586645752191544\n",
      "t_acc:  0.7058823529411765 , v_acc:  0.7763975155279503\n",
      "t_recall:  0.5237719767777 , v_recall:  0.6454954954954955\n",
      "t_prec:  0.7048212005108556 , v_prec:  0.8480603448275862\n",
      "t_f:  0.46578635254474543 , v_f:  0.6569602272727273\n",
      "////////\n"
     ]
    },
    {
     "name": "stderr",
     "output_type": "stream",
     "text": [
      "\r",
      "Iterations:  83%|███████████████████████████▎     | 248/300 [05:05<01:08,  1.31s/it]"
     ]
    },
    {
     "name": "stdout",
     "output_type": "stream",
     "text": [
      "Epoch  247 , loss 2.78293000015558\n",
      "Epoch  248 , loss 2.7513335312114044\n"
     ]
    },
    {
     "name": "stderr",
     "output_type": "stream",
     "text": [
      "\r",
      "Iterations:  83%|███████████████████████████▍     | 249/300 [05:07<01:11,  1.40s/it]"
     ]
    },
    {
     "name": "stdout",
     "output_type": "stream",
     "text": [
      "Epoch:  248\n",
      "t_loss:  2.7513335312114044 , v_loss:  0.5579364001750946\n",
      "t_acc:  0.710239651416122 , v_acc:  0.7639751552795031\n",
      "t_recall:  0.5300668395986878 , v_recall:  0.630990990990991\n",
      "t_prec:  0.7363758649958998 , v_prec:  0.8133620689655172\n",
      "t_f:  0.47686686359850117 , v_f:  0.637902462121212\n",
      "////////\n"
     ]
    },
    {
     "name": "stderr",
     "output_type": "stream",
     "text": [
      "\r",
      "Iterations:  83%|███████████████████████████▌     | 250/300 [05:08<01:04,  1.28s/it]"
     ]
    },
    {
     "name": "stdout",
     "output_type": "stream",
     "text": [
      "Epoch  249 , loss 2.717786101733937\n",
      "Epoch  250 , loss 2.6865630103092566\n"
     ]
    },
    {
     "name": "stderr",
     "output_type": "stream",
     "text": [
      "\r",
      "Iterations:  84%|███████████████████████████▌     | 251/300 [05:09<01:06,  1.35s/it]"
     ]
    },
    {
     "name": "stdout",
     "output_type": "stream",
     "text": [
      "Epoch:  250\n",
      "t_loss:  2.6865630103092566 , v_loss:  0.5583718518416086\n",
      "t_acc:  0.710239651416122 , v_acc:  0.7639751552795031\n",
      "t_recall:  0.530929440990379 , v_recall:  0.630990990990991\n",
      "t_prec:  0.7282384119374767 , v_prec:  0.8133620689655172\n",
      "t_f:  0.47920903504301793 , v_f:  0.637902462121212\n",
      "////////\n"
     ]
    },
    {
     "name": "stderr",
     "output_type": "stream",
     "text": [
      "\r",
      "Iterations:  84%|███████████████████████████▋     | 252/300 [05:10<01:01,  1.29s/it]"
     ]
    },
    {
     "name": "stdout",
     "output_type": "stream",
     "text": [
      "Epoch  251 , loss 2.6618218328438554\n",
      "Epoch  252 , loss 2.6244881527096617\n"
     ]
    },
    {
     "name": "stderr",
     "output_type": "stream",
     "text": [
      "\r",
      "Iterations:  84%|███████████████████████████▊     | 253/300 [05:12<01:05,  1.38s/it]"
     ]
    },
    {
     "name": "stdout",
     "output_type": "stream",
     "text": [
      "Epoch:  252\n",
      "t_loss:  2.6244881527096617 , v_loss:  0.5591351489226023\n",
      "t_acc:  0.7061935885465297 , v_acc:  0.7639751552795031\n",
      "t_recall:  0.5237081566270021 , v_recall:  0.630990990990991\n",
      "t_prec:  0.711924917188075 , v_prec:  0.8133620689655172\n",
      "t_f:  0.46513458608430674 , v_f:  0.637902462121212\n",
      "////////\n"
     ]
    },
    {
     "name": "stderr",
     "output_type": "stream",
     "text": [
      "\r",
      "Iterations:  85%|███████████████████████████▉     | 254/300 [05:13<00:58,  1.27s/it]"
     ]
    },
    {
     "name": "stdout",
     "output_type": "stream",
     "text": [
      "Epoch  253 , loss 2.590446841483023\n",
      "Epoch  254 , loss 2.555371934292363\n"
     ]
    },
    {
     "name": "stderr",
     "output_type": "stream",
     "text": [
      "\r",
      "Iterations:  85%|████████████████████████████     | 255/300 [05:15<01:04,  1.43s/it]"
     ]
    },
    {
     "name": "stdout",
     "output_type": "stream",
     "text": [
      "Epoch:  254\n",
      "t_loss:  2.555371934292363 , v_loss:  0.558959111571312\n",
      "t_acc:  0.7158418923124805 , v_acc:  0.7639751552795031\n",
      "t_recall:  0.5358188880196538 , v_recall:  0.630990990990991\n",
      "t_prec:  0.8013741868432196 , v_prec:  0.8133620689655172\n",
      "t_f:  0.4846569862787484 , v_f:  0.637902462121212\n",
      "////////\n"
     ]
    },
    {
     "name": "stderr",
     "output_type": "stream",
     "text": [
      "\r",
      "Iterations:  85%|████████████████████████████▏    | 256/300 [05:16<00:55,  1.27s/it]"
     ]
    },
    {
     "name": "stdout",
     "output_type": "stream",
     "text": [
      "Epoch  255 , loss 2.5334439745136335\n",
      "Epoch  256 , loss 2.502496822207582\n"
     ]
    },
    {
     "name": "stderr",
     "output_type": "stream",
     "text": [
      "\r",
      "Iterations:  86%|████████████████████████████▎    | 257/300 [05:17<01:02,  1.44s/it]"
     ]
    },
    {
     "name": "stdout",
     "output_type": "stream",
     "text": [
      "Epoch:  256\n",
      "t_loss:  2.502496822207582 , v_loss:  0.5606243908405304\n",
      "t_acc:  0.7030812324929971 , v_acc:  0.7701863354037267\n",
      "t_recall:  0.5206084187699868 , v_recall:  0.6354954954954954\n",
      "t_prec:  0.6754543471656371 , v_prec:  0.84337899543379\n",
      "t_f:  0.4611069698099143 , v_f:  0.64340017958695\n",
      "////////\n"
     ]
    },
    {
     "name": "stderr",
     "output_type": "stream",
     "text": [
      "\r",
      "Iterations:  86%|████████████████████████████▍    | 258/300 [05:18<00:53,  1.27s/it]"
     ]
    },
    {
     "name": "stdout",
     "output_type": "stream",
     "text": [
      "Epoch  257 , loss 2.474397425558053\n",
      "Epoch  258 , loss 2.435230675865622\n"
     ]
    },
    {
     "name": "stderr",
     "output_type": "stream",
     "text": [
      "\r",
      "Iterations:  86%|████████████████████████████▍    | 259/300 [05:20<00:58,  1.44s/it]"
     ]
    },
    {
     "name": "stdout",
     "output_type": "stream",
     "text": [
      "Epoch:  258\n",
      "t_loss:  2.435230675865622 , v_loss:  0.5620015561580658\n",
      "t_acc:  0.7105508870214753 , v_acc:  0.7639751552795031\n",
      "t_recall:  0.5297154856507597 , v_recall:  0.630990990990991\n",
      "t_prec:  0.74712368168744 , v_prec:  0.8133620689655172\n",
      "t_f:  0.47545785462404727 , v_f:  0.637902462121212\n",
      "////////\n"
     ]
    },
    {
     "name": "stderr",
     "output_type": "stream",
     "text": [
      "\r",
      "Iterations:  87%|████████████████████████████▌    | 260/300 [05:21<00:50,  1.26s/it]"
     ]
    },
    {
     "name": "stdout",
     "output_type": "stream",
     "text": [
      "Epoch  259 , loss 2.404756737690346\n",
      "Epoch  260 , loss 2.3722031490475524\n"
     ]
    },
    {
     "name": "stderr",
     "output_type": "stream",
     "text": [
      "\r",
      "Iterations:  87%|████████████████████████████▋    | 261/300 [05:23<00:55,  1.43s/it]"
     ]
    },
    {
     "name": "stdout",
     "output_type": "stream",
     "text": [
      "Epoch:  260\n",
      "t_loss:  2.3722031490475524 , v_loss:  0.5629880030949911\n",
      "t_acc:  0.7074385309679427 , v_acc:  0.7577639751552795\n",
      "t_recall:  0.5251780788075925 , v_recall:  0.6264864864864865\n",
      "t_prec:  0.7250644092749357 , v_prec:  0.7867647058823529\n",
      "t_f:  0.46740096495683087 , v_f:  0.6324846356453029\n",
      "////////\n"
     ]
    },
    {
     "name": "stderr",
     "output_type": "stream",
     "text": [
      "\r",
      "Iterations:  87%|████████████████████████████▊    | 262/300 [05:24<00:47,  1.26s/it]"
     ]
    },
    {
     "name": "stdout",
     "output_type": "stream",
     "text": [
      "Epoch  261 , loss 2.341077323053397\n",
      "Epoch  262 , loss 2.310834987490785\n"
     ]
    },
    {
     "name": "stderr",
     "output_type": "stream",
     "text": [
      "\r",
      "Iterations:  88%|████████████████████████████▉    | 263/300 [05:25<00:52,  1.41s/it]"
     ]
    },
    {
     "name": "stdout",
     "output_type": "stream",
     "text": [
      "Epoch:  262\n",
      "t_loss:  2.310834987490785 , v_loss:  0.5649079034725825\n",
      "t_acc:  0.7096171802054155 , v_acc:  0.7577639751552795\n",
      "t_recall:  0.529619412305623 , v_recall:  0.6264864864864865\n",
      "t_prec:  0.7278864633124723 , v_prec:  0.7867647058823529\n",
      "t_f:  0.47652852906760396 , v_f:  0.6324846356453029\n",
      "////////\n"
     ]
    },
    {
     "name": "stderr",
     "output_type": "stream",
     "text": [
      "\r",
      "Iterations:  88%|█████████████████████████████    | 264/300 [05:26<00:45,  1.27s/it]"
     ]
    },
    {
     "name": "stdout",
     "output_type": "stream",
     "text": [
      "Epoch  263 , loss 2.2812234420402375\n",
      "Epoch  264 , loss 2.2493700466903985\n"
     ]
    },
    {
     "name": "stderr",
     "output_type": "stream",
     "text": [
      "\r",
      "Iterations:  88%|█████████████████████████████▏   | 265/300 [05:28<00:47,  1.37s/it]"
     ]
    },
    {
     "name": "stdout",
     "output_type": "stream",
     "text": [
      "Epoch:  264\n",
      "t_loss:  2.2493700466903985 , v_loss:  0.5657826811075211\n",
      "t_acc:  0.7058823529411765 , v_acc:  0.7639751552795031\n",
      "t_recall:  0.5243470443721607 , v_recall:  0.630990990990991\n",
      "t_prec:  0.7001598465473146 , v_prec:  0.8133620689655172\n",
      "t_f:  0.46739961925103 , v_f:  0.637902462121212\n",
      "////////\n"
     ]
    },
    {
     "name": "stderr",
     "output_type": "stream",
     "text": [
      "\r",
      "Iterations:  89%|█████████████████████████████▎   | 266/300 [05:29<00:42,  1.24s/it]"
     ]
    },
    {
     "name": "stdout",
     "output_type": "stream",
     "text": [
      "Epoch  265 , loss 2.2171482993107214\n",
      "Epoch  266 , loss 2.190848294426413\n"
     ]
    },
    {
     "name": "stderr",
     "output_type": "stream",
     "text": [
      "\r",
      "Iterations:  89%|█████████████████████████████▎   | 267/300 [05:30<00:43,  1.32s/it]"
     ]
    },
    {
     "name": "stdout",
     "output_type": "stream",
     "text": [
      "Epoch:  266\n",
      "t_loss:  2.190848294426413 , v_loss:  0.5668998012940089\n",
      "t_acc:  0.7046374105197635 , v_acc:  0.7639751552795031\n",
      "t_recall:  0.5208643856109578 , v_recall:  0.630990990990991\n",
      "t_prec:  0.7044360369729517 , v_prec:  0.8133620689655172\n",
      "t_f:  0.4594182083665678 , v_f:  0.637902462121212\n",
      "////////\n"
     ]
    },
    {
     "name": "stderr",
     "output_type": "stream",
     "text": [
      "\r",
      "Iterations:  89%|█████████████████████████████▍   | 268/300 [05:32<00:40,  1.26s/it]"
     ]
    },
    {
     "name": "stdout",
     "output_type": "stream",
     "text": [
      "Epoch  267 , loss 2.154279437719607\n",
      "Epoch  268 , loss 2.1281997035531437\n"
     ]
    },
    {
     "name": "stderr",
     "output_type": "stream",
     "text": [
      "\r",
      "Iterations:  90%|█████████████████████████████▌   | 269/300 [05:33<00:42,  1.37s/it]"
     ]
    },
    {
     "name": "stdout",
     "output_type": "stream",
     "text": [
      "Epoch:  268\n",
      "t_loss:  2.1281997035531437 , v_loss:  0.5686176121234894\n",
      "t_acc:  0.7055711173358232 , v_acc:  0.7639751552795031\n",
      "t_recall:  0.5212479927533248 , v_recall:  0.630990990990991\n",
      "t_prec:  0.7236112314758645 , v_prec:  0.8133620689655172\n",
      "t_f:  0.4590493214930997 , v_f:  0.637902462121212\n",
      "////////\n"
     ]
    },
    {
     "name": "stderr",
     "output_type": "stream",
     "text": [
      "\r",
      "Iterations:  90%|█████████████████████████████▋   | 270/300 [05:34<00:39,  1.31s/it]"
     ]
    },
    {
     "name": "stdout",
     "output_type": "stream",
     "text": [
      "Epoch  269 , loss 2.0994114735547234\n",
      "Epoch  270 , loss 2.063169107717626\n"
     ]
    },
    {
     "name": "stderr",
     "output_type": "stream",
     "text": [
      "\r",
      "Iterations:  90%|█████████████████████████████▊   | 271/300 [05:36<00:42,  1.48s/it]"
     ]
    },
    {
     "name": "stdout",
     "output_type": "stream",
     "text": [
      "Epoch:  270\n",
      "t_loss:  2.063169107717626 , v_loss:  0.5681569874286652\n",
      "t_acc:  0.7052598817304699 , v_acc:  0.7515527950310559\n",
      "t_recall:  0.5213118129040227 , v_recall:  0.6164864864864865\n",
      "t_prec:  0.7147361433786923 , v_prec:  0.7786637931034484\n",
      "t_f:  0.4597279774736838 , v_f:  0.618844696969697\n",
      "////////\n"
     ]
    },
    {
     "name": "stderr",
     "output_type": "stream",
     "text": [
      "\r",
      "Iterations:  91%|█████████████████████████████▉   | 272/300 [05:37<00:36,  1.30s/it]"
     ]
    },
    {
     "name": "stdout",
     "output_type": "stream",
     "text": [
      "Epoch  271 , loss 2.033447957506367\n",
      "Epoch  272 , loss 2.0047376786961273\n"
     ]
    },
    {
     "name": "stderr",
     "output_type": "stream",
     "text": [
      "\r",
      "Iterations:  91%|██████████████████████████████   | 273/300 [05:39<00:37,  1.40s/it]"
     ]
    },
    {
     "name": "stdout",
     "output_type": "stream",
     "text": [
      "Epoch:  272\n",
      "t_loss:  2.0047376786961273 , v_loss:  0.5693017194668452\n",
      "t_acc:  0.704014939309057 , v_acc:  0.7515527950310559\n",
      "t_recall:  0.5215670935068143 , v_recall:  0.6164864864864865\n",
      "t_prec:  0.685823754789272 , v_prec:  0.7786637931034484\n",
      "t_f:  0.46239451986248986 , v_f:  0.618844696969697\n",
      "////////\n"
     ]
    },
    {
     "name": "stderr",
     "output_type": "stream",
     "text": [
      "\r",
      "Iterations:  91%|██████████████████████████████▏  | 274/300 [05:40<00:32,  1.25s/it]"
     ]
    },
    {
     "name": "stdout",
     "output_type": "stream",
     "text": [
      "Epoch  273 , loss 1.9721672418070775\n",
      "Epoch  274 , loss 1.9369821875703102\n"
     ]
    },
    {
     "name": "stderr",
     "output_type": "stream",
     "text": [
      "\r",
      "Iterations:  92%|██████████████████████████████▎  | 275/300 [05:41<00:33,  1.33s/it]"
     ]
    },
    {
     "name": "stdout",
     "output_type": "stream",
     "text": [
      "Epoch:  274\n",
      "t_loss:  1.9369821875703102 , v_loss:  0.570369636019071\n",
      "t_acc:  0.708994708994709 , v_acc:  0.7515527950310559\n",
      "t_recall:  0.5274467822291761 , v_recall:  0.6164864864864865\n",
      "t_prec:  0.7364836100468284 , v_prec:  0.7786637931034484\n",
      "t_f:  0.47143940701517145 , v_f:  0.618844696969697\n",
      "////////\n"
     ]
    },
    {
     "name": "stderr",
     "output_type": "stream",
     "text": [
      "\r",
      "Iterations:  92%|██████████████████████████████▎  | 276/300 [05:42<00:29,  1.22s/it]"
     ]
    },
    {
     "name": "stdout",
     "output_type": "stream",
     "text": [
      "Epoch  275 , loss 1.9107717672983806\n",
      "Epoch  276 , loss 1.8789916085261924\n"
     ]
    },
    {
     "name": "stderr",
     "output_type": "stream",
     "text": [
      "\r",
      "Iterations:  92%|██████████████████████████████▍  | 277/300 [05:44<00:31,  1.35s/it]"
     ]
    },
    {
     "name": "stdout",
     "output_type": "stream",
     "text": [
      "Epoch:  276\n",
      "t_loss:  1.8789916085261924 , v_loss:  0.5723788638909658\n",
      "t_acc:  0.7071272953625894 , v_acc:  0.7515527950310559\n",
      "t_recall:  0.5261045003499815 , v_recall:  0.6164864864864865\n",
      "t_prec:  0.7098087232775168 , v_prec:  0.7786637931034484\n",
      "t_f:  0.4704524854780614 , v_f:  0.618844696969697\n",
      "////////\n"
     ]
    },
    {
     "name": "stderr",
     "output_type": "stream",
     "text": [
      "\r",
      "Iterations:  93%|██████████████████████████████▌  | 278/300 [05:45<00:27,  1.25s/it]"
     ]
    },
    {
     "name": "stdout",
     "output_type": "stream",
     "text": [
      "Epoch  277 , loss 1.8470608650469313\n",
      "Epoch  278 , loss 1.8264430083480536\n"
     ]
    },
    {
     "name": "stderr",
     "output_type": "stream",
     "text": [
      "\r",
      "Iterations:  93%|██████████████████████████████▋  | 279/300 [05:46<00:28,  1.34s/it]"
     ]
    },
    {
     "name": "stdout",
     "output_type": "stream",
     "text": [
      "Epoch:  278\n",
      "t_loss:  1.8264430083480536 , v_loss:  0.5764612605174383\n",
      "t_acc:  0.704014939309057 , v_acc:  0.7453416149068323\n",
      "t_recall:  0.5212795597095841 , v_recall:  0.600990990990991\n",
      "t_prec:  0.6878680539287358 , v_prec:  0.7913201663201663\n",
      "t_f:  0.46157793267457653 , v_f:  0.5954525954525954\n",
      "////////\n"
     ]
    },
    {
     "name": "stderr",
     "output_type": "stream",
     "text": [
      "\r",
      "Iterations:  93%|██████████████████████████████▊  | 280/300 [05:47<00:25,  1.25s/it]"
     ]
    },
    {
     "name": "stdout",
     "output_type": "stream",
     "text": [
      "Epoch  279 , loss 1.7928732680339439\n",
      "Epoch  280 , loss 1.7607706808576398\n"
     ]
    },
    {
     "name": "stderr",
     "output_type": "stream",
     "text": [
      "\r",
      "Iterations:  94%|██████████████████████████████▉  | 281/300 [05:49<00:25,  1.35s/it]"
     ]
    },
    {
     "name": "stdout",
     "output_type": "stream",
     "text": [
      "Epoch:  280\n",
      "t_loss:  1.7607706808576398 , v_loss:  0.5775390565395355\n",
      "t_acc:  0.7061935885465297 , v_acc:  0.7391304347826086\n",
      "t_recall:  0.5237081566270021 , v_recall:  0.5964864864864865\n",
      "t_prec:  0.711924917188075 , v_prec:  0.7602040816326531\n",
      "t_f:  0.46513458608430674 , v_f:  0.5904796511627907\n",
      "////////\n"
     ]
    },
    {
     "name": "stderr",
     "output_type": "stream",
     "text": [
      "\r",
      "Iterations:  94%|███████████████████████████████  | 282/300 [05:50<00:22,  1.24s/it]"
     ]
    },
    {
     "name": "stdout",
     "output_type": "stream",
     "text": [
      "Epoch  281 , loss 1.72242491385516\n",
      "Epoch  282 , loss 1.6999319745045083\n"
     ]
    },
    {
     "name": "stderr",
     "output_type": "stream",
     "text": [
      "\r",
      "Iterations:  94%|███████████████████████████████▏ | 283/300 [05:52<00:23,  1.39s/it]"
     ]
    },
    {
     "name": "stdout",
     "output_type": "stream",
     "text": [
      "Epoch:  282\n",
      "t_loss:  1.6999319745045083 , v_loss:  0.5794909099737803\n",
      "t_acc:  0.7049486461251168 , v_acc:  0.7329192546583851\n",
      "t_recall:  0.519937964068569 , v_recall:  0.5864864864864865\n",
      "t_prec:  0.7230781830652839 , v_prec:  0.7494802494802495\n",
      "t_f:  0.4562248279013968 , v_f:  0.5757185757185757\n",
      "////////\n"
     ]
    },
    {
     "name": "stderr",
     "output_type": "stream",
     "text": [
      "\r",
      "Iterations:  95%|███████████████████████████████▏ | 284/300 [05:53<00:19,  1.24s/it]"
     ]
    },
    {
     "name": "stdout",
     "output_type": "stream",
     "text": [
      "Epoch  283 , loss 1.6724412628248626\n",
      "Epoch  284 , loss 1.6407224267136817\n"
     ]
    },
    {
     "name": "stderr",
     "output_type": "stream",
     "text": [
      "\r",
      "Iterations:  95%|███████████████████████████████▎ | 285/300 [05:54<00:20,  1.39s/it]"
     ]
    },
    {
     "name": "stdout",
     "output_type": "stream",
     "text": [
      "Epoch:  284\n",
      "t_loss:  1.6407224267136817 , v_loss:  0.5799504915873209\n",
      "t_acc:  0.708994708994709 , v_acc:  0.7329192546583851\n",
      "t_recall:  0.5262966470402547 , v_recall:  0.5864864864864865\n",
      "t_prec:  0.7507634586859785 , v_prec:  0.7494802494802495\n",
      "t_f:  0.4682087933972075 , v_f:  0.5757185757185757\n",
      "////////\n"
     ]
    },
    {
     "name": "stderr",
     "output_type": "stream",
     "text": [
      "\r",
      "Iterations:  95%|███████████████████████████████▍ | 286/300 [05:55<00:17,  1.24s/it]"
     ]
    },
    {
     "name": "stdout",
     "output_type": "stream",
     "text": [
      "Epoch  285 , loss 1.6161675757052851\n",
      "Epoch  286 , loss 1.593265928474127\n"
     ]
    },
    {
     "name": "stderr",
     "output_type": "stream",
     "text": [
      "\r",
      "Iterations:  96%|███████████████████████████████▌ | 287/300 [05:57<00:17,  1.36s/it]"
     ]
    },
    {
     "name": "stdout",
     "output_type": "stream",
     "text": [
      "Epoch:  286\n",
      "t_loss:  1.593265928474127 , v_loss:  0.5847401370604833\n",
      "t_acc:  0.7021475256769374 , v_acc:  0.7267080745341615\n",
      "t_recall:  0.5190746764386984 , v_recall:  0.5709909909909909\n",
      "t_prec:  0.6684020905867052 , v_prec:  0.7609271523178809\n",
      "t_f:  0.4581809480226811 , v_f:  0.5493638676844783\n",
      "////////\n"
     ]
    },
    {
     "name": "stderr",
     "output_type": "stream",
     "text": [
      "\r",
      "Iterations:  96%|███████████████████████████████▋ | 288/300 [05:58<00:14,  1.23s/it]"
     ]
    },
    {
     "name": "stdout",
     "output_type": "stream",
     "text": [
      "Epoch  287 , loss 1.560147946956111\n",
      "Epoch  288 , loss 1.5391014627381867\n"
     ]
    },
    {
     "name": "stderr",
     "output_type": "stream",
     "text": [
      "\r",
      "Iterations:  96%|███████████████████████████████▊ | 289/300 [05:59<00:14,  1.36s/it]"
     ]
    },
    {
     "name": "stdout",
     "output_type": "stream",
     "text": [
      "Epoch:  288\n",
      "t_loss:  1.5391014627381867 , v_loss:  0.5854500631491343\n",
      "t_acc:  0.7030812324929971 , v_acc:  0.7329192546583851\n",
      "t_recall:  0.517445547000453 , v_recall:  0.5809909909909909\n",
      "t_prec:  0.701569933396765 , v_prec:  0.7724242424242425\n",
      "t_f:  0.45193236093051997 , v_f:  0.5651655046793542\n",
      "////////\n"
     ]
    },
    {
     "name": "stderr",
     "output_type": "stream",
     "text": [
      "\r",
      "Iterations:  97%|███████████████████████████████▉ | 290/300 [06:00<00:12,  1.22s/it]"
     ]
    },
    {
     "name": "stdout",
     "output_type": "stream",
     "text": [
      "Epoch  289 , loss 1.515903110597648\n",
      "Epoch  290 , loss 1.486039484248442\n"
     ]
    },
    {
     "name": "stderr",
     "output_type": "stream",
     "text": [
      "\r",
      "Iterations:  97%|████████████████████████████████ | 291/300 [06:02<00:12,  1.36s/it]"
     ]
    },
    {
     "name": "stdout",
     "output_type": "stream",
     "text": [
      "Epoch:  290\n",
      "t_loss:  1.486039484248442 , v_loss:  0.5882504731416702\n",
      "t_acc:  0.7046374105197635 , v_acc:  0.7329192546583851\n",
      "t_recall:  0.5211519194081882 , v_recall:  0.5754954954954955\n",
      "t_prec:  0.7017036035249978 , v_prec:  0.8062865497076024\n",
      "t_f:  0.46024614431438493 , v_f:  0.5538441709093253\n",
      "////////\n"
     ]
    },
    {
     "name": "stderr",
     "output_type": "stream",
     "text": [
      "\r",
      "Iterations:  97%|████████████████████████████████ | 292/300 [06:03<00:09,  1.22s/it]"
     ]
    },
    {
     "name": "stdout",
     "output_type": "stream",
     "text": [
      "Epoch  291 , loss 1.468992083680396\n",
      "Epoch  292 , loss 1.4372070139529658\n"
     ]
    },
    {
     "name": "stderr",
     "output_type": "stream",
     "text": [
      "\r",
      "Iterations:  98%|████████████████████████████████▏| 293/300 [06:05<00:09,  1.39s/it]"
     ]
    },
    {
     "name": "stdout",
     "output_type": "stream",
     "text": [
      "Epoch:  292\n",
      "t_loss:  1.4372070139529658 , v_loss:  0.5882090479135513\n",
      "t_acc:  0.7052598817304699 , v_acc:  0.7329192546583851\n",
      "t_recall:  0.5204492115123317 , v_recall:  0.5754954954954955\n",
      "t_prec:  0.7252380952380952 , v_prec:  0.8062865497076024\n",
      "t_f:  0.4572194616811026 , v_f:  0.5538441709093253\n",
      "////////\n"
     ]
    },
    {
     "name": "stderr",
     "output_type": "stream",
     "text": [
      "\r",
      "Iterations:  98%|████████████████████████████████▎| 294/300 [06:06<00:07,  1.24s/it]"
     ]
    },
    {
     "name": "stdout",
     "output_type": "stream",
     "text": [
      "Epoch  293 , loss 1.41441356902029\n",
      "Epoch  294 , loss 1.3964123001285629\n"
     ]
    },
    {
     "name": "stderr",
     "output_type": "stream",
     "text": [
      "\r",
      "Iterations:  98%|████████████████████████████████▍| 295/300 [06:07<00:06,  1.37s/it]"
     ]
    },
    {
     "name": "stdout",
     "output_type": "stream",
     "text": [
      "Epoch:  294\n",
      "t_loss:  1.3964123001285629 , v_loss:  0.5881507794062296\n",
      "t_acc:  0.7015250544662309 , v_acc:  0.7329192546583851\n",
      "t_recall:  0.514889309781639 , v_recall:  0.5754954954954955\n",
      "t_prec:  0.6873769359203178 , v_prec:  0.8062865497076024\n",
      "t_f:  0.446906453796458 , v_f:  0.5538441709093253\n",
      "////////\n"
     ]
    },
    {
     "name": "stderr",
     "output_type": "stream",
     "text": [
      "\r",
      "Iterations:  99%|████████████████████████████████▌| 296/300 [06:08<00:04,  1.24s/it]"
     ]
    },
    {
     "name": "stdout",
     "output_type": "stream",
     "text": [
      "Epoch  295 , loss 1.377585492882074\n",
      "Epoch  296 , loss 1.3513858061210782\n"
     ]
    },
    {
     "name": "stderr",
     "output_type": "stream",
     "text": [
      "\r",
      "Iterations:  99%|████████████████████████████████▋| 297/300 [06:10<00:04,  1.35s/it]"
     ]
    },
    {
     "name": "stdout",
     "output_type": "stream",
     "text": [
      "Epoch:  296\n",
      "t_loss:  1.3513858061210782 , v_loss:  0.58789790670077\n",
      "t_acc:  0.7043261749144102 , v_acc:  0.7329192546583851\n",
      "t_recall:  0.518627935383813 , v_recall:  0.5754954954954955\n",
      "t_prec:  0.7225121591343789 , v_prec:  0.8062865497076024\n",
      "t_f:  0.45337963195106057 , v_f:  0.5538441709093253\n",
      "////////\n"
     ]
    },
    {
     "name": "stderr",
     "output_type": "stream",
     "text": [
      "\r",
      "Iterations:  99%|████████████████████████████████▊| 298/300 [06:11<00:02,  1.21s/it]"
     ]
    },
    {
     "name": "stdout",
     "output_type": "stream",
     "text": [
      "Epoch  297 , loss 1.3315243954752005\n",
      "Epoch  298 , loss 1.3010038254307765\n"
     ]
    },
    {
     "name": "stderr",
     "output_type": "stream",
     "text": [
      "\r",
      "Iterations: 100%|████████████████████████████████▉| 299/300 [06:12<00:01,  1.32s/it]"
     ]
    },
    {
     "name": "stdout",
     "output_type": "stream",
     "text": [
      "Epoch:  298\n",
      "t_loss:  1.3010038254307765 , v_loss:  0.5887435475985209\n",
      "t_acc:  0.7037037037037037 , v_acc:  0.7391304347826086\n",
      "t_recall:  0.5184680418879785 , v_recall:  0.58\n",
      "t_prec:  0.7066317912388285 , v_prec:  0.8627450980392157\n",
      "t_f:  0.45393041789254196 , v_f:  0.5583855799373041\n",
      "////////\n"
     ]
    },
    {
     "name": "stderr",
     "output_type": "stream",
     "text": [
      "Iterations: 100%|█████████████████████████████████| 300/300 [06:13<00:00,  1.25s/it]"
     ]
    },
    {
     "name": "stdout",
     "output_type": "stream",
     "text": [
      "Epoch  299 , loss 1.2821469891305064\n"
     ]
    },
    {
     "name": "stderr",
     "output_type": "stream",
     "text": [
      "\n"
     ]
    },
    {
     "name": "stdout",
     "output_type": "stream",
     "text": [
      "110 8\n",
      "\n",
      "c0_acc 0.990990990990991 , c1_acc 0.16 , b_acc 0.5754954954954955\n"
     ]
    },
    {
     "name": "stderr",
     "output_type": "stream",
     "text": [
      "\r",
      "Iterations:   0%|                                           | 0/300 [00:00<?, ?it/s]"
     ]
    },
    {
     "name": "stdout",
     "output_type": "stream",
     "text": [
      "Epoch  0 , loss 18.62012507868748\n"
     ]
    },
    {
     "name": "stderr",
     "output_type": "stream",
     "text": [
      "\r",
      "Iterations:   0%|                                   | 1/300 [00:01<07:32,  1.51s/it]"
     ]
    },
    {
     "name": "stdout",
     "output_type": "stream",
     "text": [
      "Epoch:  0\n",
      "t_loss:  18.62012507868748 , v_loss:  0.6931054790814718\n",
      "t_acc:  0.5224578914535246 , v_acc:  0.5\n",
      "t_recall:  0.5015566205794803 , v_recall:  0.4923707957342084\n",
      "t_prec:  0.5013332388332389 , v_prec:  0.4934014474244359\n",
      "t_f:  0.49066410289270285 , v_f:  0.4786463720998966\n",
      "////////\n"
     ]
    },
    {
     "name": "stderr",
     "output_type": "stream",
     "text": [
      "\r",
      "Iterations:   1%|▏                                  | 2/300 [00:02<06:28,  1.30s/it]"
     ]
    },
    {
     "name": "stdout",
     "output_type": "stream",
     "text": [
      "Epoch  1 , loss 18.503813500497856\n",
      "Epoch  2 , loss 18.391286288990695\n"
     ]
    },
    {
     "name": "stderr",
     "output_type": "stream",
     "text": [
      "\r",
      "Iterations:   1%|▎                                  | 3/300 [00:04<07:04,  1.43s/it]"
     ]
    },
    {
     "name": "stdout",
     "output_type": "stream",
     "text": [
      "Epoch:  2\n",
      "t_loss:  18.391286288990695 , v_loss:  0.6888850132624308\n",
      "t_acc:  0.5988771054273238 , v_acc:  0.6011904761904762\n",
      "t_recall:  0.5099831051960142 , v_recall:  0.5357670221493027\n",
      "t_prec:  0.510739566441099 , v_prec:  0.5361405835543767\n",
      "t_f:  0.5095860455534023 , v_f:  0.535930735930736\n",
      "////////\n"
     ]
    },
    {
     "name": "stderr",
     "output_type": "stream",
     "text": [
      "\r",
      "Iterations:   1%|▍                                  | 4/300 [00:05<06:34,  1.33s/it]"
     ]
    },
    {
     "name": "stdout",
     "output_type": "stream",
     "text": [
      "Epoch  3 , loss 18.276912315219057\n",
      "Epoch  4 , loss 18.17243531171013\n"
     ]
    },
    {
     "name": "stderr",
     "output_type": "stream",
     "text": [
      "\r",
      "Iterations:   2%|▌                                  | 5/300 [00:06<06:54,  1.41s/it]"
     ]
    },
    {
     "name": "stdout",
     "output_type": "stream",
     "text": [
      "Epoch:  4\n",
      "t_loss:  18.17243531171013 , v_loss:  0.6755713025728861\n",
      "t_acc:  0.6409856519026824 , v_acc:  0.6488095238095238\n",
      "t_recall:  0.5035729637163971 , v_recall:  0.5095159967186218\n",
      "t_prec:  0.5060016927059201 , v_prec:  0.5195945945945946\n",
      "t_f:  0.4868714477471453 , v_f:  0.4837231105786759\n",
      "////////\n"
     ]
    },
    {
     "name": "stderr",
     "output_type": "stream",
     "text": [
      "\r",
      "Iterations:   2%|▋                                  | 6/300 [00:07<06:11,  1.26s/it]"
     ]
    },
    {
     "name": "stdout",
     "output_type": "stream",
     "text": [
      "Epoch  5 , loss 18.065514583213655\n",
      "Epoch  6 , loss 17.958634283028395\n"
     ]
    },
    {
     "name": "stderr",
     "output_type": "stream",
     "text": [
      "\r",
      "Iterations:   2%|▊                                  | 7/300 [00:09<06:36,  1.35s/it]"
     ]
    },
    {
     "name": "stdout",
     "output_type": "stream",
     "text": [
      "Epoch:  6\n",
      "t_loss:  17.958634283028395 , v_loss:  0.6592031319936117\n",
      "t_acc:  0.6762320648783531 , v_acc:  0.7023809523809523\n",
      "t_recall:  0.5092659380064132 , v_recall:  0.5384741591468417\n",
      "t_prec:  0.530050318685005 , v_prec:  0.7080745341614907\n",
      "t_f:  0.46792210283960095 , v_f:  0.49275362318840576\n",
      "////////\n"
     ]
    },
    {
     "name": "stderr",
     "output_type": "stream",
     "text": [
      "\r",
      "Iterations:   3%|▉                                  | 8/300 [00:10<06:08,  1.26s/it]"
     ]
    },
    {
     "name": "stdout",
     "output_type": "stream",
     "text": [
      "Epoch  7 , loss 17.85695090948367\n",
      "Epoch  8 , loss 17.757002587411918\n"
     ]
    },
    {
     "name": "stderr",
     "output_type": "stream",
     "text": [
      "\r",
      "Iterations:   3%|█                                  | 9/300 [00:12<06:50,  1.41s/it]"
     ]
    },
    {
     "name": "stdout",
     "output_type": "stream",
     "text": [
      "Epoch:  8\n",
      "t_loss:  17.757002587411918 , v_loss:  0.6489458878835043\n",
      "t_acc:  0.6834061135371179 , v_acc:  0.6785714285714286\n",
      "t_recall:  0.5025836407727936 , v_recall:  0.4956521739130435\n",
      "t_prec:  0.5151760639446965 , v_prec:  0.3413173652694611\n",
      "t_f:  0.44108111914656445 , v_f:  0.4042553191489362\n",
      "////////\n"
     ]
    },
    {
     "name": "stderr",
     "output_type": "stream",
     "text": [
      "\r",
      "Iterations:   3%|█▏                                | 10/300 [00:13<06:03,  1.25s/it]"
     ]
    },
    {
     "name": "stdout",
     "output_type": "stream",
     "text": [
      "Epoch  9 , loss 17.656057208192113\n",
      "Epoch  10 , loss 17.557051378137924\n"
     ]
    },
    {
     "name": "stderr",
     "output_type": "stream",
     "text": [
      "\r",
      "Iterations:   4%|█▏                                | 11/300 [00:14<06:50,  1.42s/it]"
     ]
    },
    {
     "name": "stdout",
     "output_type": "stream",
     "text": [
      "Epoch:  10\n",
      "t_loss:  17.557051378137924 , v_loss:  0.6447901030381521\n",
      "t_acc:  0.6930754834684966 , v_acc:  0.6845238095238095\n",
      "t_recall:  0.5043344941327909 , v_recall:  0.5\n",
      "t_prec:  0.5564212579813176 , v_prec:  0.34226190476190477\n",
      "t_f:  0.43001890599614934 , v_f:  0.40636042402826855\n",
      "////////\n"
     ]
    },
    {
     "name": "stderr",
     "output_type": "stream",
     "text": [
      "\r",
      "Iterations:   4%|█▎                                | 12/300 [00:15<06:02,  1.26s/it]"
     ]
    },
    {
     "name": "stdout",
     "output_type": "stream",
     "text": [
      "Epoch  11 , loss 17.460850622139723\n",
      "Epoch  12 , loss 17.3706776862051\n"
     ]
    },
    {
     "name": "stderr",
     "output_type": "stream",
     "text": [
      "\r",
      "Iterations:   4%|█▍                                | 13/300 [00:17<06:29,  1.36s/it]"
     ]
    },
    {
     "name": "stdout",
     "output_type": "stream",
     "text": [
      "Epoch:  12\n",
      "t_loss:  17.3706776862051 , v_loss:  0.6439487238725027\n",
      "t_acc:  0.6912039925140362 , v_acc:  0.6845238095238095\n",
      "t_recall:  0.498370513395166 , v_recall:  0.5\n",
      "t_prec:  0.45870469399881164 , v_prec:  0.34226190476190477\n",
      "t_f:  0.414490796595349 , v_f:  0.40636042402826855\n",
      "////////\n"
     ]
    },
    {
     "name": "stderr",
     "output_type": "stream",
     "text": [
      "\r",
      "Iterations:   5%|█▌                                | 14/300 [00:18<05:48,  1.22s/it]"
     ]
    },
    {
     "name": "stdout",
     "output_type": "stream",
     "text": [
      "Epoch  13 , loss 17.28313539542404\n",
      "Epoch  14 , loss 17.18076676013423\n"
     ]
    },
    {
     "name": "stderr",
     "output_type": "stream",
     "text": [
      "\r",
      "Iterations:   5%|█▋                                | 15/300 [00:19<06:18,  1.33s/it]"
     ]
    },
    {
     "name": "stdout",
     "output_type": "stream",
     "text": [
      "Epoch:  14\n",
      "t_loss:  17.18076676013423 , v_loss:  0.6451178193092346\n",
      "t_acc:  0.6943231441048034 , v_acc:  0.6845238095238095\n",
      "t_recall:  0.5017664839269501 , v_recall:  0.5\n",
      "t_prec:  0.5483181389500158 , v_prec:  0.34226190476190477\n",
      "t_f:  0.419460458240946 , v_f:  0.40636042402826855\n",
      "////////\n"
     ]
    },
    {
     "name": "stderr",
     "output_type": "stream",
     "text": [
      "\r",
      "Iterations:   5%|█▊                                | 16/300 [00:20<05:39,  1.19s/it]"
     ]
    },
    {
     "name": "stdout",
     "output_type": "stream",
     "text": [
      "Epoch  15 , loss 17.09145284166523\n",
      "Epoch  16 , loss 16.992806079340916\n"
     ]
    },
    {
     "name": "stderr",
     "output_type": "stream",
     "text": [
      "\r",
      "Iterations:   6%|█▉                                | 17/300 [00:22<06:18,  1.34s/it]"
     ]
    },
    {
     "name": "stdout",
     "output_type": "stream",
     "text": [
      "Epoch:  16\n",
      "t_loss:  16.992806079340916 , v_loss:  0.648047000169754\n",
      "t_acc:  0.6952588895820336 , v_acc:  0.6845238095238095\n",
      "t_recall:  0.5004178878047099 , v_recall:  0.5\n",
      "t_prec:  0.535530018761726 , v_prec:  0.34226190476190477\n",
      "t_f:  0.41307214355219424 , v_f:  0.40636042402826855\n",
      "////////\n"
     ]
    },
    {
     "name": "stderr",
     "output_type": "stream",
     "text": [
      "\r",
      "Iterations:   6%|██                                | 18/300 [00:23<05:38,  1.20s/it]"
     ]
    },
    {
     "name": "stdout",
     "output_type": "stream",
     "text": [
      "Epoch  17 , loss 16.915244046379538\n",
      "Epoch  18 , loss 16.815490012075387\n"
     ]
    },
    {
     "name": "stderr",
     "output_type": "stream",
     "text": [
      "\r",
      "Iterations:   6%|██▏                               | 19/300 [00:25<06:18,  1.35s/it]"
     ]
    },
    {
     "name": "stdout",
     "output_type": "stream",
     "text": [
      "Epoch:  18\n",
      "t_loss:  16.815490012075387 , v_loss:  0.6510253349939982\n",
      "t_acc:  0.6955708047411104 , v_acc:  0.6845238095238095\n",
      "t_recall:  0.5015081198496707 , v_recall:  0.5\n",
      "t_prec:  0.5790310535064684 , v_prec:  0.34226190476190477\n",
      "t_f:  0.41610237301900094 , v_f:  0.40636042402826855\n",
      "////////\n"
     ]
    },
    {
     "name": "stderr",
     "output_type": "stream",
     "text": [
      "\r",
      "Iterations:   7%|██▎                               | 20/300 [00:25<05:38,  1.21s/it]"
     ]
    },
    {
     "name": "stdout",
     "output_type": "stream",
     "text": [
      "Epoch  19 , loss 16.724106508142807\n",
      "Epoch  20 , loss 16.637980741613053\n"
     ]
    },
    {
     "name": "stderr",
     "output_type": "stream",
     "text": [
      "\r",
      "Iterations:   7%|██▍                               | 21/300 [00:27<06:11,  1.33s/it]"
     ]
    },
    {
     "name": "stdout",
     "output_type": "stream",
     "text": [
      "Epoch:  20\n",
      "t_loss:  16.637980741613053 , v_loss:  0.6546294490496317\n",
      "t_acc:  0.6949469744229569 , v_acc:  0.6845238095238095\n",
      "t_recall:  0.5004824788240297 , v_recall:  0.5\n",
      "t_prec:  0.5298620002845356 , v_prec:  0.34226190476190477\n",
      "t_f:  0.41393515856715724 , v_f:  0.40636042402826855\n",
      "////////\n"
     ]
    },
    {
     "name": "stderr",
     "output_type": "stream",
     "text": [
      "\r",
      "Iterations:   7%|██▍                               | 22/300 [00:28<05:40,  1.23s/it]"
     ]
    },
    {
     "name": "stdout",
     "output_type": "stream",
     "text": [
      "Epoch  21 , loss 16.547683715820312\n",
      "Epoch  22 , loss 16.4531057769177\n"
     ]
    },
    {
     "name": "stderr",
     "output_type": "stream",
     "text": [
      "\r",
      "Iterations:   8%|██▌                               | 23/300 [00:30<06:14,  1.35s/it]"
     ]
    },
    {
     "name": "stdout",
     "output_type": "stream",
     "text": [
      "Epoch:  22\n",
      "t_loss:  16.4531057769177 , v_loss:  0.6563321848710378\n",
      "t_acc:  0.6965065502183406 , v_acc:  0.6845238095238095\n",
      "t_recall:  0.5010256410256411 , v_recall:  0.5\n",
      "t_prec:  0.8481585518102372 , v_prec:  0.34226190476190477\n",
      "t_f:  0.4125346634036378 , v_f:  0.40636042402826855\n",
      "////////\n"
     ]
    },
    {
     "name": "stderr",
     "output_type": "stream",
     "text": [
      "\r",
      "Iterations:   8%|██▋                               | 24/300 [00:31<05:52,  1.28s/it]"
     ]
    },
    {
     "name": "stdout",
     "output_type": "stream",
     "text": [
      "Epoch  23 , loss 16.376240300197228\n",
      "Epoch  24 , loss 16.28736727845435\n"
     ]
    },
    {
     "name": "stderr",
     "output_type": "stream",
     "text": [
      "\r",
      "Iterations:   8%|██▊                               | 25/300 [00:32<06:23,  1.39s/it]"
     ]
    },
    {
     "name": "stdout",
     "output_type": "stream",
     "text": [
      "Epoch:  24\n",
      "t_loss:  16.28736727845435 , v_loss:  0.6584133207798004\n",
      "t_acc:  0.6955708047411104 , v_acc:  0.6845238095238095\n",
      "t_recall:  0.5006420025514602 , v_recall:  0.5\n",
      "t_prec:  0.562363238512035 , v_prec:  0.34226190476190477\n",
      "t_f:  0.41318390326053117 , v_f:  0.40636042402826855\n",
      "////////\n"
     ]
    },
    {
     "name": "stderr",
     "output_type": "stream",
     "text": [
      "\r",
      "Iterations:   9%|██▉                               | 26/300 [00:34<05:55,  1.30s/it]"
     ]
    },
    {
     "name": "stdout",
     "output_type": "stream",
     "text": [
      "Epoch  25 , loss 16.19544350867178\n",
      "Epoch  26 , loss 16.113501567466585\n"
     ]
    },
    {
     "name": "stderr",
     "output_type": "stream",
     "text": [
      "\r",
      "Iterations:   9%|███                               | 27/300 [00:35<06:10,  1.36s/it]"
     ]
    },
    {
     "name": "stdout",
     "output_type": "stream",
     "text": [
      "Epoch:  26\n",
      "t_loss:  16.113501567466585 , v_loss:  0.6612730622291565\n",
      "t_acc:  0.6958827199001871 , v_acc:  0.6845238095238095\n",
      "t_recall:  0.5005774115321404 , v_recall:  0.5\n",
      "t_prec:  0.5980637101811368 , v_prec:  0.34226190476190477\n",
      "t_f:  0.41231346966585436 , v_f:  0.40636042402826855\n",
      "////////\n"
     ]
    },
    {
     "name": "stderr",
     "output_type": "stream",
     "text": [
      "\r",
      "Iterations:   9%|███▏                              | 28/300 [00:36<05:34,  1.23s/it]"
     ]
    },
    {
     "name": "stdout",
     "output_type": "stream",
     "text": [
      "Epoch  27 , loss 16.02172460743025\n",
      "Epoch  28 , loss 15.940381181006337\n"
     ]
    },
    {
     "name": "stderr",
     "output_type": "stream",
     "text": [
      "\r",
      "Iterations:  10%|███▎                              | 29/300 [00:38<06:03,  1.34s/it]"
     ]
    },
    {
     "name": "stdout",
     "output_type": "stream",
     "text": [
      "Epoch:  28\n",
      "t_loss:  15.940381181006337 , v_loss:  0.6630458235740662\n",
      "t_acc:  0.6949469744229569 , v_acc:  0.6845238095238095\n",
      "t_recall:  0.49932765575974897 , v_recall:  0.5\n",
      "t_prec:  0.3477989384951608 , v_prec:  0.34226190476190477\n",
      "t_f:  0.41001104158998897 , v_f:  0.40636042402826855\n",
      "////////\n"
     ]
    },
    {
     "name": "stderr",
     "output_type": "stream",
     "text": [
      "\r",
      "Iterations:  10%|███▍                              | 30/300 [00:38<05:25,  1.21s/it]"
     ]
    },
    {
     "name": "stdout",
     "output_type": "stream",
     "text": [
      "Epoch  29 , loss 15.853148909176097\n",
      "Epoch  30 , loss 15.761941909790039\n"
     ]
    },
    {
     "name": "stderr",
     "output_type": "stream",
     "text": [
      "\r",
      "Iterations:  10%|███▌                              | 31/300 [00:40<05:53,  1.31s/it]"
     ]
    },
    {
     "name": "stdout",
     "output_type": "stream",
     "text": [
      "Epoch:  30\n",
      "t_loss:  15.761941909790039 , v_loss:  0.6644197205702463\n",
      "t_acc:  0.6952588895820336 , v_acc:  0.6845238095238095\n",
      "t_recall:  0.4998404762725695 , v_recall:  0.5\n",
      "t_prec:  0.47290755777638976 , v_prec:  0.34226190476190477\n",
      "t_f:  0.41110795883439955 , v_f:  0.40636042402826855\n",
      "////////\n"
     ]
    },
    {
     "name": "stderr",
     "output_type": "stream",
     "text": [
      "\r",
      "Iterations:  11%|███▋                              | 32/300 [00:41<05:18,  1.19s/it]"
     ]
    },
    {
     "name": "stdout",
     "output_type": "stream",
     "text": [
      "Epoch  31 , loss 15.675302131503235\n",
      "Epoch  32 , loss 15.587649943781834\n"
     ]
    },
    {
     "name": "stderr",
     "output_type": "stream",
     "text": [
      "\r",
      "Iterations:  11%|███▋                              | 33/300 [00:42<05:45,  1.29s/it]"
     ]
    },
    {
     "name": "stdout",
     "output_type": "stream",
     "text": [
      "Epoch:  32\n",
      "t_loss:  15.587649943781834 , v_loss:  0.6654708683490753\n",
      "t_acc:  0.6971303805364941 , v_acc:  0.6845238095238095\n",
      "t_recall:  0.5026286935834224 , v_recall:  0.5\n",
      "t_prec:  0.7234990619136961 , v_prec:  0.34226190476190477\n",
      "t_f:  0.4166766134996731 , v_f:  0.40636042402826855\n",
      "////////\n"
     ]
    },
    {
     "name": "stderr",
     "output_type": "stream",
     "text": [
      "\r",
      "Iterations:  11%|███▊                              | 34/300 [00:43<05:21,  1.21s/it]"
     ]
    },
    {
     "name": "stdout",
     "output_type": "stream",
     "text": [
      "Epoch  33 , loss 15.515047222960229\n",
      "Epoch  34 , loss 15.412563660565544\n"
     ]
    },
    {
     "name": "stderr",
     "output_type": "stream",
     "text": [
      "\r",
      "Iterations:  12%|███▉                              | 35/300 [00:45<05:51,  1.32s/it]"
     ]
    },
    {
     "name": "stdout",
     "output_type": "stream",
     "text": [
      "Epoch:  34\n",
      "t_loss:  15.412563660565544 , v_loss:  0.6651669144630432\n",
      "t_acc:  0.6958827199001871 , v_acc:  0.6845238095238095\n",
      "t_recall:  0.5014435288303509 , v_recall:  0.5\n",
      "t_prec:  0.5982478097622028 , v_prec:  0.34226190476190477\n",
      "t_f:  0.41524750752722567 , v_f:  0.40636042402826855\n",
      "////////\n"
     ]
    },
    {
     "name": "stderr",
     "output_type": "stream",
     "text": [
      "\r",
      "Iterations:  12%|████                              | 36/300 [00:46<05:45,  1.31s/it]"
     ]
    },
    {
     "name": "stdout",
     "output_type": "stream",
     "text": [
      "Epoch  35 , loss 15.330619007933374\n",
      "Epoch  36 , loss 15.25338363647461\n"
     ]
    },
    {
     "name": "stderr",
     "output_type": "stream",
     "text": [
      "\r",
      "Iterations:  12%|████▏                             | 37/300 [00:48<06:06,  1.39s/it]"
     ]
    },
    {
     "name": "stdout",
     "output_type": "stream",
     "text": [
      "Epoch:  36\n",
      "t_loss:  15.25338363647461 , v_loss:  0.6650832990805308\n",
      "t_acc:  0.6952588895820336 , v_acc:  0.6845238095238095\n",
      "t_recall:  0.4998404762725695 , v_recall:  0.5\n",
      "t_prec:  0.47290755777638976 , v_prec:  0.34226190476190477\n",
      "t_f:  0.41110795883439955 , v_f:  0.40636042402826855\n",
      "////////\n"
     ]
    },
    {
     "name": "stderr",
     "output_type": "stream",
     "text": [
      "\r",
      "Iterations:  13%|████▎                             | 38/300 [00:49<05:34,  1.28s/it]"
     ]
    },
    {
     "name": "stdout",
     "output_type": "stream",
     "text": [
      "Epoch  37 , loss 15.158747018552294\n",
      "Epoch  38 , loss 15.077904551636939\n"
     ]
    },
    {
     "name": "stderr",
     "output_type": "stream",
     "text": [
      "\r",
      "Iterations:  13%|████▍                             | 39/300 [00:50<05:50,  1.34s/it]"
     ]
    },
    {
     "name": "stdout",
     "output_type": "stream",
     "text": [
      "Epoch:  38\n",
      "t_loss:  15.077904551636939 , v_loss:  0.6642515460650126\n",
      "t_acc:  0.6961946350592639 , v_acc:  0.6845238095238095\n",
      "t_recall:  0.5008015262788907 , v_recall:  0.5\n",
      "t_prec:  0.6814444791341451 , v_prec:  0.34226190476190477\n",
      "t_f:  0.4124240843646721 , v_f:  0.40636042402826855\n",
      "////////\n"
     ]
    },
    {
     "name": "stderr",
     "output_type": "stream",
     "text": [
      "\r",
      "Iterations:  13%|████▌                             | 40/300 [00:51<05:14,  1.21s/it]"
     ]
    },
    {
     "name": "stdout",
     "output_type": "stream",
     "text": [
      "Epoch  39 , loss 14.994318513309254\n",
      "Epoch  40 , loss 14.897608401728611\n"
     ]
    },
    {
     "name": "stderr",
     "output_type": "stream",
     "text": [
      "\r",
      "Iterations:  14%|████▋                             | 41/300 [00:53<05:42,  1.32s/it]"
     ]
    },
    {
     "name": "stdout",
     "output_type": "stream",
     "text": [
      "Epoch:  40\n",
      "t_loss:  14.897608401728611 , v_loss:  0.6628644565741221\n",
      "t_acc:  0.6961946350592639 , v_acc:  0.6845238095238095\n",
      "t_recall:  0.5010902320449608 , v_recall:  0.5\n",
      "t_prec:  0.6481724461105904 , v_prec:  0.34226190476190477\n",
      "t_f:  0.41340732169156325 , v_f:  0.40636042402826855\n",
      "////////\n"
     ]
    },
    {
     "name": "stderr",
     "output_type": "stream",
     "text": [
      "\r",
      "Iterations:  14%|████▊                             | 42/300 [00:54<05:17,  1.23s/it]"
     ]
    },
    {
     "name": "stdout",
     "output_type": "stream",
     "text": [
      "Epoch  41 , loss 14.810681754467534\n",
      "Epoch  42 , loss 14.729844112022251\n"
     ]
    },
    {
     "name": "stderr",
     "output_type": "stream",
     "text": [
      "\r",
      "Iterations:  14%|████▊                             | 43/300 [00:56<05:47,  1.35s/it]"
     ]
    },
    {
     "name": "stdout",
     "output_type": "stream",
     "text": [
      "Epoch:  42\n",
      "t_loss:  14.729844112022251 , v_loss:  0.6646319429079691\n",
      "t_acc:  0.6965065502183406 , v_acc:  0.6845238095238095\n",
      "t_recall:  0.5027578756220621 , v_recall:  0.5\n",
      "t_prec:  0.6342418546365914 , v_prec:  0.34226190476190477\n",
      "t_f:  0.41837848641902153 , v_f:  0.40636042402826855\n",
      "////////\n"
     ]
    },
    {
     "name": "stderr",
     "output_type": "stream",
     "text": [
      "\r",
      "Iterations:  15%|████▉                             | 44/300 [00:56<05:12,  1.22s/it]"
     ]
    },
    {
     "name": "stdout",
     "output_type": "stream",
     "text": [
      "Epoch  43 , loss 14.643109602086684\n",
      "Epoch  44 , loss 14.566217160692402\n"
     ]
    },
    {
     "name": "stderr",
     "output_type": "stream",
     "text": [
      "\r",
      "Iterations:  15%|█████                             | 45/300 [00:58<05:44,  1.35s/it]"
     ]
    },
    {
     "name": "stdout",
     "output_type": "stream",
     "text": [
      "Epoch:  44\n",
      "t_loss:  14.566217160692402 , v_loss:  0.6647945046424866\n",
      "t_acc:  0.6949469744229569 , v_acc:  0.6845238095238095\n",
      "t_recall:  0.5004824788240297 , v_recall:  0.5\n",
      "t_prec:  0.5298620002845356 , v_prec:  0.34226190476190477\n",
      "t_f:  0.41393515856715724 , v_f:  0.40636042402826855\n",
      "////////\n"
     ]
    },
    {
     "name": "stderr",
     "output_type": "stream",
     "text": [
      "\r",
      "Iterations:  15%|█████▏                            | 46/300 [00:59<05:07,  1.21s/it]"
     ]
    },
    {
     "name": "stdout",
     "output_type": "stream",
     "text": [
      "Epoch  45 , loss 14.468192829805261\n",
      "Epoch  46 , loss 14.392185117684159\n"
     ]
    },
    {
     "name": "stderr",
     "output_type": "stream",
     "text": [
      "\r",
      "Iterations:  16%|█████▎                            | 47/300 [01:01<05:41,  1.35s/it]"
     ]
    },
    {
     "name": "stdout",
     "output_type": "stream",
     "text": [
      "Epoch:  46\n",
      "t_loss:  14.392185117684159 , v_loss:  0.6657165288925171\n",
      "t_acc:  0.6980661260137243 , v_acc:  0.6845238095238095\n",
      "t_recall:  0.5044558608879541 , v_recall:  0.5\n",
      "t_prec:  0.7335035775374015 , v_prec:  0.34226190476190477\n",
      "t_f:  0.42088841914179587 , v_f:  0.40636042402826855\n",
      "////////\n"
     ]
    },
    {
     "name": "stderr",
     "output_type": "stream",
     "text": [
      "\r",
      "Iterations:  16%|█████▍                            | 48/300 [01:02<05:03,  1.21s/it]"
     ]
    },
    {
     "name": "stdout",
     "output_type": "stream",
     "text": [
      "Epoch  47 , loss 14.304106244853898\n",
      "Epoch  48 , loss 14.212276365242753\n"
     ]
    },
    {
     "name": "stderr",
     "output_type": "stream",
     "text": [
      "\r",
      "Iterations:  16%|█████▌                            | 49/300 [01:03<05:38,  1.35s/it]"
     ]
    },
    {
     "name": "stdout",
     "output_type": "stream",
     "text": [
      "Epoch:  48\n",
      "t_loss:  14.212276365242753 , v_loss:  0.6671784718831381\n",
      "t_acc:  0.6971303805364941 , v_acc:  0.6845238095238095\n",
      "t_recall:  0.5037835166477032 , v_recall:  0.5\n",
      "t_prec:  0.6612460815047022 , v_prec:  0.34226190476190477\n",
      "t_f:  0.4205316954229833 , v_f:  0.40636042402826855\n",
      "////////\n"
     ]
    },
    {
     "name": "stderr",
     "output_type": "stream",
     "text": [
      "\r",
      "Iterations:  17%|█████▋                            | 50/300 [01:04<05:05,  1.22s/it]"
     ]
    },
    {
     "name": "stdout",
     "output_type": "stream",
     "text": [
      "Epoch  49 , loss 14.124733083388385\n",
      "Epoch  50 , loss 14.03751418169807\n"
     ]
    },
    {
     "name": "stderr",
     "output_type": "stream",
     "text": [
      "\r",
      "Iterations:  17%|█████▊                            | 51/300 [01:06<05:31,  1.33s/it]"
     ]
    },
    {
     "name": "stdout",
     "output_type": "stream",
     "text": [
      "Epoch:  50\n",
      "t_loss:  14.03751418169807 , v_loss:  0.6676368017991384\n",
      "t_acc:  0.6971303805364941 , v_acc:  0.6845238095238095\n",
      "t_recall:  0.5037835166477032 , v_recall:  0.5\n",
      "t_prec:  0.6612460815047022 , v_prec:  0.34226190476190477\n",
      "t_f:  0.4205316954229833 , v_f:  0.40636042402826855\n",
      "////////\n"
     ]
    },
    {
     "name": "stderr",
     "output_type": "stream",
     "text": [
      "\r",
      "Iterations:  17%|█████▉                            | 52/300 [01:07<05:02,  1.22s/it]"
     ]
    },
    {
     "name": "stdout",
     "output_type": "stream",
     "text": [
      "Epoch  51 , loss 13.951940816991469\n",
      "Epoch  52 , loss 13.869262657913508\n"
     ]
    },
    {
     "name": "stderr",
     "output_type": "stream",
     "text": [
      "\r",
      "Iterations:  18%|██████                            | 53/300 [01:08<05:35,  1.36s/it]"
     ]
    },
    {
     "name": "stdout",
     "output_type": "stream",
     "text": [
      "Epoch:  52\n",
      "t_loss:  13.869262657913508 , v_loss:  0.668700118859609\n",
      "t_acc:  0.6986899563318777 , v_acc:  0.6845238095238095\n",
      "t_recall:  0.5060589134457355 , v_recall:  0.5\n",
      "t_prec:  0.7176523045926708 , v_prec:  0.34226190476190477\n",
      "t_f:  0.4249372202205481 , v_f:  0.40636042402826855\n",
      "////////\n"
     ]
    },
    {
     "name": "stderr",
     "output_type": "stream",
     "text": [
      "\r",
      "Iterations:  18%|██████                            | 54/300 [01:09<05:09,  1.26s/it]"
     ]
    },
    {
     "name": "stdout",
     "output_type": "stream",
     "text": [
      "Epoch  53 , loss 13.784050268285414\n",
      "Epoch  54 , loss 13.703558884414972\n"
     ]
    },
    {
     "name": "stderr",
     "output_type": "stream",
     "text": [
      "\r",
      "Iterations:  18%|██████▏                           | 55/300 [01:11<05:39,  1.39s/it]"
     ]
    },
    {
     "name": "stdout",
     "output_type": "stream",
     "text": [
      "Epoch:  54\n",
      "t_loss:  13.703558884414972 , v_loss:  0.6675487458705902\n",
      "t_acc:  0.7005614472863381 , v_acc:  0.6845238095238095\n",
      "t_recall:  0.5088471307565884 , v_recall:  0.5\n",
      "t_prec:  0.7628706852982556 , v_prec:  0.34226190476190477\n",
      "t_f:  0.4303790440134055 , v_f:  0.40636042402826855\n",
      "////////\n"
     ]
    },
    {
     "name": "stderr",
     "output_type": "stream",
     "text": [
      "\r",
      "Iterations:  19%|██████▎                           | 56/300 [01:12<05:22,  1.32s/it]"
     ]
    },
    {
     "name": "stdout",
     "output_type": "stream",
     "text": [
      "Epoch  55 , loss 13.619340466518029\n",
      "Epoch  56 , loss 13.528496349559111\n"
     ]
    },
    {
     "name": "stderr",
     "output_type": "stream",
     "text": [
      "\r",
      "Iterations:  19%|██████▍                           | 57/300 [01:14<05:43,  1.42s/it]"
     ]
    },
    {
     "name": "stdout",
     "output_type": "stream",
     "text": [
      "Epoch:  56\n",
      "t_loss:  13.528496349559111 , v_loss:  0.6683054765065511\n",
      "t_acc:  0.6977542108546475 , v_acc:  0.6845238095238095\n",
      "t_recall:  0.5059639807376248 , v_recall:  0.5\n",
      "t_prec:  0.6569061441702951 , v_prec:  0.34226190476190477\n",
      "t_f:  0.42644418970421555 , v_f:  0.40636042402826855\n",
      "////////\n"
     ]
    },
    {
     "name": "stderr",
     "output_type": "stream",
     "text": [
      "\r",
      "Iterations:  19%|██████▌                           | 58/300 [01:15<05:07,  1.27s/it]"
     ]
    },
    {
     "name": "stdout",
     "output_type": "stream",
     "text": [
      "Epoch  57 , loss 13.45079558503394\n",
      "Epoch  58 , loss 13.363132084117217\n"
     ]
    },
    {
     "name": "stderr",
     "output_type": "stream",
     "text": [
      "\r",
      "Iterations:  20%|██████▋                           | 59/300 [01:17<05:39,  1.41s/it]"
     ]
    },
    {
     "name": "stdout",
     "output_type": "stream",
     "text": [
      "Epoch:  58\n",
      "t_loss:  13.363132084117217 , v_loss:  0.6693916420141856\n",
      "t_acc:  0.6965065502183406 , v_acc:  0.6845238095238095\n",
      "t_recall:  0.5039126986863428 , v_recall:  0.5\n",
      "t_prec:  0.6215023983554134 , v_prec:  0.34226190476190477\n",
      "t_f:  0.42219307970078285 , v_f:  0.40636042402826855\n",
      "////////\n"
     ]
    },
    {
     "name": "stderr",
     "output_type": "stream",
     "text": [
      "\r",
      "Iterations:  20%|██████▊                           | 60/300 [01:17<04:58,  1.24s/it]"
     ]
    },
    {
     "name": "stdout",
     "output_type": "stream",
     "text": [
      "Epoch  59 , loss 13.275319211623248\n",
      "Epoch  60 , loss 13.1859297097898\n"
     ]
    },
    {
     "name": "stderr",
     "output_type": "stream",
     "text": [
      "\r",
      "Iterations:  20%|██████▉                           | 61/300 [01:19<05:27,  1.37s/it]"
     ]
    },
    {
     "name": "stdout",
     "output_type": "stream",
     "text": [
      "Epoch:  60\n",
      "t_loss:  13.1859297097898 , v_loss:  0.6700827181339264\n",
      "t_acc:  0.6993137866500312 , v_acc:  0.6845238095238095\n",
      "t_recall:  0.5062184371731661 , v_recall:  0.5\n",
      "t_prec:  0.7825968870782409 , v_prec:  0.34226190476190477\n",
      "t_f:  0.4242342271851678 , v_f:  0.40636042402826855\n",
      "////////\n"
     ]
    },
    {
     "name": "stderr",
     "output_type": "stream",
     "text": [
      "\r",
      "Iterations:  21%|███████                           | 62/300 [01:20<04:51,  1.22s/it]"
     ]
    },
    {
     "name": "stdout",
     "output_type": "stream",
     "text": [
      "Epoch  61 , loss 13.102292453541475\n",
      "Epoch  62 , loss 13.01908883861467\n"
     ]
    },
    {
     "name": "stderr",
     "output_type": "stream",
     "text": [
      "\r",
      "Iterations:  21%|███████▏                          | 63/300 [01:22<05:13,  1.32s/it]"
     ]
    },
    {
     "name": "stdout",
     "output_type": "stream",
     "text": [
      "Epoch:  62\n",
      "t_loss:  13.01908883861467 , v_loss:  0.6726623475551605\n",
      "t_acc:  0.6977542108546475 , v_acc:  0.6845238095238095\n",
      "t_recall:  0.5050978634394143 , v_recall:  0.5\n",
      "t_prec:  0.6740269930947898 , v_prec:  0.34226190476190477\n",
      "t_f:  0.4236246768270001 , v_f:  0.40636042402826855\n",
      "////////\n"
     ]
    },
    {
     "name": "stderr",
     "output_type": "stream",
     "text": [
      "\r",
      "Iterations:  21%|███████▎                          | 64/300 [01:22<04:43,  1.20s/it]"
     ]
    },
    {
     "name": "stdout",
     "output_type": "stream",
     "text": [
      "Epoch  63 , loss 12.943569688236012\n",
      "Epoch  64 , loss 12.847015062967936\n"
     ]
    },
    {
     "name": "stderr",
     "output_type": "stream",
     "text": [
      "\r",
      "Iterations:  22%|███████▎                          | 65/300 [01:24<05:02,  1.29s/it]"
     ]
    },
    {
     "name": "stdout",
     "output_type": "stream",
     "text": [
      "Epoch:  64\n",
      "t_loss:  12.847015062967936 , v_loss:  0.6715257167816162\n",
      "t_acc:  0.6971303805364941 , v_acc:  0.6845238095238095\n",
      "t_recall:  0.5040722224137733 , v_recall:  0.5\n",
      "t_prec:  0.6543635856684791 , v_prec:  0.34226190476190477\n",
      "t_f:  0.42148536712142776 , v_f:  0.40636042402826855\n",
      "////////\n"
     ]
    },
    {
     "name": "stderr",
     "output_type": "stream",
     "text": [
      "\r",
      "Iterations:  22%|███████▍                          | 66/300 [01:25<04:42,  1.21s/it]"
     ]
    },
    {
     "name": "stdout",
     "output_type": "stream",
     "text": [
      "Epoch  65 , loss 12.773325022529153\n",
      "Epoch  66 , loss 12.676037694893632\n"
     ]
    },
    {
     "name": "stderr",
     "output_type": "stream",
     "text": [
      "\r",
      "Iterations:  22%|███████▌                          | 67/300 [01:27<05:08,  1.33s/it]"
     ]
    },
    {
     "name": "stdout",
     "output_type": "stream",
     "text": [
      "Epoch:  66\n",
      "t_loss:  12.676037694893632 , v_loss:  0.6728848318258921\n",
      "t_acc:  0.7005614472863381 , v_acc:  0.6845238095238095\n",
      "t_recall:  0.5088471307565884 , v_recall:  0.5\n",
      "t_prec:  0.7628706852982556 , v_prec:  0.34226190476190477\n",
      "t_f:  0.4303790440134055 , v_f:  0.40636042402826855\n",
      "////////\n"
     ]
    },
    {
     "name": "stderr",
     "output_type": "stream",
     "text": [
      "\r",
      "Iterations:  23%|███████▋                          | 68/300 [01:28<04:47,  1.24s/it]"
     ]
    },
    {
     "name": "stdout",
     "output_type": "stream",
     "text": [
      "Epoch  67 , loss 12.599803531871123\n",
      "Epoch  68 , loss 12.518910632413977\n"
     ]
    },
    {
     "name": "stderr",
     "output_type": "stream",
     "text": [
      "\r",
      "Iterations:  23%|███████▊                          | 69/300 [01:29<05:08,  1.33s/it]"
     ]
    },
    {
     "name": "stdout",
     "output_type": "stream",
     "text": [
      "Epoch:  68\n",
      "t_loss:  12.518910632413977 , v_loss:  0.6725815534591675\n",
      "t_acc:  0.7027448533998752 , v_acc:  0.6845238095238095\n",
      "t_recall:  0.5133029916445425 , v_recall:  0.5\n",
      "t_prec:  0.7535664213109008 , v_prec:  0.34226190476190477\n",
      "t_f:  0.4404600679326154 , v_f:  0.40636042402826855\n",
      "////////\n"
     ]
    },
    {
     "name": "stderr",
     "output_type": "stream",
     "text": [
      "\r",
      "Iterations:  23%|███████▉                          | 70/300 [01:30<04:55,  1.29s/it]"
     ]
    },
    {
     "name": "stdout",
     "output_type": "stream",
     "text": [
      "Epoch  69 , loss 12.437460974151014\n",
      "Epoch  70 , loss 12.356452979293524\n"
     ]
    },
    {
     "name": "stderr",
     "output_type": "stream",
     "text": [
      "\r",
      "Iterations:  24%|████████                          | 71/300 [01:32<05:21,  1.40s/it]"
     ]
    },
    {
     "name": "stdout",
     "output_type": "stream",
     "text": [
      "Epoch:  70\n",
      "t_loss:  12.356452979293524 , v_loss:  0.6734990080197653\n",
      "t_acc:  0.6986899563318777 , v_acc:  0.6845238095238095\n",
      "t_recall:  0.5066363249778759 , v_recall:  0.5\n",
      "t_prec:  0.6971820404595064 , v_prec:  0.34226190476190477\n",
      "t_f:  0.42681891303848923 , v_f:  0.40636042402826855\n",
      "////////\n"
     ]
    },
    {
     "name": "stderr",
     "output_type": "stream",
     "text": [
      "\r",
      "Iterations:  24%|████████▏                         | 72/300 [01:33<04:54,  1.29s/it]"
     ]
    },
    {
     "name": "stdout",
     "output_type": "stream",
     "text": [
      "Epoch  71 , loss 12.265353520711264\n",
      "Epoch  72 , loss 12.183838750801835\n"
     ]
    },
    {
     "name": "stderr",
     "output_type": "stream",
     "text": [
      "\r",
      "Iterations:  24%|████████▎                         | 73/300 [01:35<05:33,  1.47s/it]"
     ]
    },
    {
     "name": "stdout",
     "output_type": "stream",
     "text": [
      "Epoch:  72\n",
      "t_loss:  12.183838750801835 , v_loss:  0.6737665037314097\n",
      "t_acc:  0.7008733624454149 , v_acc:  0.6845238095238095\n",
      "t_recall:  0.5099373628015492 , v_recall:  0.5\n",
      "t_prec:  0.7429200755191945 , v_prec:  0.34226190476190477\n",
      "t_f:  0.4332856486926723 , v_f:  0.40636042402826855\n",
      "////////\n"
     ]
    },
    {
     "name": "stderr",
     "output_type": "stream",
     "text": [
      "\r",
      "Iterations:  25%|████████▍                         | 74/300 [01:36<04:50,  1.29s/it]"
     ]
    },
    {
     "name": "stdout",
     "output_type": "stream",
     "text": [
      "Epoch  73 , loss 12.112252441107058\n",
      "Epoch  74 , loss 12.02790548287186\n"
     ]
    },
    {
     "name": "stderr",
     "output_type": "stream",
     "text": [
      "\r",
      "Iterations:  25%|████████▌                         | 75/300 [01:37<05:14,  1.40s/it]"
     ]
    },
    {
     "name": "stdout",
     "output_type": "stream",
     "text": [
      "Epoch:  74\n",
      "t_loss:  12.02790548287186 , v_loss:  0.6742359697818756\n",
      "t_acc:  0.7011852776044916 , v_acc:  0.6845238095238095\n",
      "t_recall:  0.51073888908044 , v_recall:  0.5\n",
      "t_prec:  0.7373329946659893 , v_prec:  0.34226190476190477\n",
      "t_f:  0.43525160542479496 , v_f:  0.40636042402826855\n",
      "////////\n"
     ]
    },
    {
     "name": "stderr",
     "output_type": "stream",
     "text": [
      "\r",
      "Iterations:  25%|████████▌                         | 76/300 [01:38<04:40,  1.25s/it]"
     ]
    },
    {
     "name": "stdout",
     "output_type": "stream",
     "text": [
      "Epoch  75 , loss 11.945894671421424\n",
      "Epoch  76 , loss 11.867733506595387\n"
     ]
    },
    {
     "name": "stderr",
     "output_type": "stream",
     "text": [
      "\r",
      "Iterations:  26%|████████▋                         | 77/300 [01:40<04:57,  1.33s/it]"
     ]
    },
    {
     "name": "stdout",
     "output_type": "stream",
     "text": [
      "Epoch:  76\n",
      "t_loss:  11.867733506595387 , v_loss:  0.6756576299667358\n",
      "t_acc:  0.6977542108546475 , v_acc:  0.6845238095238095\n",
      "t_recall:  0.5059639807376248 , v_recall:  0.5\n",
      "t_prec:  0.6569061441702951 , v_prec:  0.34226190476190477\n",
      "t_f:  0.42644418970421555 , v_f:  0.40636042402826855\n",
      "////////\n"
     ]
    },
    {
     "name": "stderr",
     "output_type": "stream",
     "text": [
      "\r",
      "Iterations:  26%|████████▊                         | 78/300 [01:41<04:25,  1.20s/it]"
     ]
    },
    {
     "name": "stdout",
     "output_type": "stream",
     "text": [
      "Epoch  77 , loss 11.787211212457395\n",
      "Epoch  78 , loss 11.714193344116211\n"
     ]
    },
    {
     "name": "stderr",
     "output_type": "stream",
     "text": [
      "\r",
      "Iterations:  26%|████████▉                         | 79/300 [01:42<04:46,  1.30s/it]"
     ]
    },
    {
     "name": "stdout",
     "output_type": "stream",
     "text": [
      "Epoch:  78\n",
      "t_loss:  11.714193344116211 , v_loss:  0.6765761077404022\n",
      "t_acc:  0.7011852776044916 , v_acc:  0.6845238095238095\n",
      "t_recall:  0.5113163006125803 , v_recall:  0.5\n",
      "t_prec:  0.7217912330495112 , v_prec:  0.34226190476190477\n",
      "t_f:  0.43707171161396036 , v_f:  0.40636042402826855\n",
      "////////\n"
     ]
    },
    {
     "name": "stderr",
     "output_type": "stream",
     "text": [
      "\r",
      "Iterations:  27%|█████████                         | 80/300 [01:43<04:20,  1.18s/it]"
     ]
    },
    {
     "name": "stdout",
     "output_type": "stream",
     "text": [
      "Epoch  79 , loss 11.626615449494006\n",
      "Epoch  80 , loss 11.550556968240176\n"
     ]
    },
    {
     "name": "stderr",
     "output_type": "stream",
     "text": [
      "\r",
      "Iterations:  27%|█████████▏                        | 81/300 [01:45<04:42,  1.29s/it]"
     ]
    },
    {
     "name": "stdout",
     "output_type": "stream",
     "text": [
      "Epoch:  80\n",
      "t_loss:  11.550556968240176 , v_loss:  0.6767765879631042\n",
      "t_acc:  0.6990018714909545 , v_acc:  0.6845238095238095\n",
      "t_recall:  0.5077265570228368 , v_recall:  0.5\n",
      "t_prec:  0.6888766519823788 , v_prec:  0.34226190476190477\n",
      "t_f:  0.42973999060315815 , v_f:  0.40636042402826855\n",
      "////////\n"
     ]
    },
    {
     "name": "stderr",
     "output_type": "stream",
     "text": [
      "\r",
      "Iterations:  27%|█████████▎                        | 82/300 [01:46<04:29,  1.23s/it]"
     ]
    },
    {
     "name": "stdout",
     "output_type": "stream",
     "text": [
      "Epoch  81 , loss 11.483122844322056\n",
      "Epoch  82 , loss 11.405555164112764\n"
     ]
    },
    {
     "name": "stderr",
     "output_type": "stream",
     "text": [
      "\r",
      "Iterations:  28%|█████████▍                        | 83/300 [01:47<04:51,  1.34s/it]"
     ]
    },
    {
     "name": "stdout",
     "output_type": "stream",
     "text": [
      "Epoch:  82\n",
      "t_loss:  11.405555164112764 , v_loss:  0.677756001551946\n",
      "t_acc:  0.6977542108546475 , v_acc:  0.6845238095238095\n",
      "t_recall:  0.5056752749715546 , v_recall:  0.5\n",
      "t_prec:  0.6616514770584538 , v_prec:  0.34226190476190477\n",
      "t_f:  0.4255082719889666 , v_f:  0.40636042402826855\n",
      "////////\n"
     ]
    },
    {
     "name": "stderr",
     "output_type": "stream",
     "text": [
      "\r",
      "Iterations:  28%|█████████▌                        | 84/300 [01:48<04:31,  1.26s/it]"
     ]
    },
    {
     "name": "stdout",
     "output_type": "stream",
     "text": [
      "Epoch  83 , loss 11.332835590138155\n",
      "Epoch  84 , loss 11.256956979340197\n"
     ]
    },
    {
     "name": "stderr",
     "output_type": "stream",
     "text": [
      "\r",
      "Iterations:  28%|█████████▋                        | 85/300 [01:50<04:49,  1.35s/it]"
     ]
    },
    {
     "name": "stdout",
     "output_type": "stream",
     "text": [
      "Epoch:  84\n",
      "t_loss:  11.256956979340197 , v_loss:  0.6771982808907827\n",
      "t_acc:  0.6990018714909545 , v_acc:  0.6845238095238095\n",
      "t_recall:  0.5094587916192578 , v_recall:  0.5\n",
      "t_prec:  0.6624684144030322 , v_prec:  0.34226190476190477\n",
      "t_f:  0.4352290225093123 , v_f:  0.40636042402826855\n",
      "////////\n"
     ]
    },
    {
     "name": "stderr",
     "output_type": "stream",
     "text": [
      "\r",
      "Iterations:  29%|█████████▋                        | 86/300 [01:51<04:21,  1.22s/it]"
     ]
    },
    {
     "name": "stdout",
     "output_type": "stream",
     "text": [
      "Epoch  85 , loss 11.18287623162363\n",
      "Epoch  86 , loss 11.105944240794463\n"
     ]
    },
    {
     "name": "stderr",
     "output_type": "stream",
     "text": [
      "\r",
      "Iterations:  29%|█████████▊                        | 87/300 [01:53<04:56,  1.39s/it]"
     ]
    },
    {
     "name": "stdout",
     "output_type": "stream",
     "text": [
      "Epoch:  86\n",
      "t_loss:  11.105944240794463 , v_loss:  0.6781575381755829\n",
      "t_acc:  0.7005614472863381 , v_acc:  0.6845238095238095\n",
      "t_recall:  0.5105793653530094 , v_recall:  0.5\n",
      "t_prec:  0.707347839798171 , v_prec:  0.34226190476190477\n",
      "t_f:  0.4358964959805866 , v_f:  0.40636042402826855\n",
      "////////\n"
     ]
    },
    {
     "name": "stderr",
     "output_type": "stream",
     "text": [
      "\r",
      "Iterations:  29%|█████████▉                        | 88/300 [01:54<04:26,  1.26s/it]"
     ]
    },
    {
     "name": "stdout",
     "output_type": "stream",
     "text": [
      "Epoch  87 , loss 11.042657122892493\n",
      "Epoch  88 , loss 10.965897317026176\n"
     ]
    },
    {
     "name": "stderr",
     "output_type": "stream",
     "text": [
      "\r",
      "Iterations:  30%|██████████                        | 89/300 [01:55<04:50,  1.38s/it]"
     ]
    },
    {
     "name": "stdout",
     "output_type": "stream",
     "text": [
      "Epoch:  88\n",
      "t_loss:  10.965897317026176 , v_loss:  0.6771626174449921\n",
      "t_acc:  0.7021210230817218 , v_acc:  0.6845238095238095\n",
      "t_recall:  0.5125660563849717 , v_recall:  0.5\n",
      "t_prec:  0.7395198037153874 , v_prec:  0.34226190476190477\n",
      "t_f:  0.43928579735115175 , v_f:  0.40636042402826855\n",
      "////////\n"
     ]
    },
    {
     "name": "stderr",
     "output_type": "stream",
     "text": [
      "\r",
      "Iterations:  30%|██████████▏                       | 90/300 [01:56<04:21,  1.25s/it]"
     ]
    },
    {
     "name": "stdout",
     "output_type": "stream",
     "text": [
      "Epoch  89 , loss 10.889620201260437\n",
      "Epoch  90 , loss 10.812801473280963\n"
     ]
    },
    {
     "name": "stderr",
     "output_type": "stream",
     "text": [
      "\r",
      "Iterations:  30%|██████████▎                       | 91/300 [01:58<04:41,  1.35s/it]"
     ]
    },
    {
     "name": "stdout",
     "output_type": "stream",
     "text": [
      "Epoch:  90\n",
      "t_loss:  10.812801473280963 , v_loss:  0.676816999912262\n",
      "t_acc:  0.6993137866500312 , v_acc:  0.6845238095238095\n",
      "t_recall:  0.5096829063660081 , v_recall:  0.5\n",
      "t_prec:  0.6705286083246298 , v_prec:  0.34226190476190477\n",
      "t_f:  0.435362501854365 , v_f:  0.40636042402826855\n",
      "////////\n"
     ]
    },
    {
     "name": "stderr",
     "output_type": "stream",
     "text": [
      "\r",
      "Iterations:  31%|██████████▍                       | 92/300 [01:59<04:13,  1.22s/it]"
     ]
    },
    {
     "name": "stdout",
     "output_type": "stream",
     "text": [
      "Epoch  91 , loss 10.742924671547085\n",
      "Epoch  92 , loss 10.6693821701349\n"
     ]
    },
    {
     "name": "stderr",
     "output_type": "stream",
     "text": [
      "\r",
      "Iterations:  31%|██████████▌                       | 93/300 [02:00<04:30,  1.31s/it]"
     ]
    },
    {
     "name": "stdout",
     "output_type": "stream",
     "text": [
      "Epoch:  92\n",
      "t_loss:  10.6693821701349 , v_loss:  0.6770552396774292\n",
      "t_acc:  0.6990018714909545 , v_acc:  0.6845238095238095\n",
      "t_recall:  0.5074378512567665 , v_recall:  0.5\n",
      "t_prec:  0.6956821480406385 , v_prec:  0.34226190476190477\n",
      "t_f:  0.4288118091481611 , v_f:  0.40636042402826855\n",
      "////////\n"
     ]
    },
    {
     "name": "stderr",
     "output_type": "stream",
     "text": [
      "\r",
      "Iterations:  31%|██████████▋                       | 94/300 [02:01<04:09,  1.21s/it]"
     ]
    },
    {
     "name": "stdout",
     "output_type": "stream",
     "text": [
      "Epoch  93 , loss 10.594802987341787\n",
      "Epoch  94 , loss 10.530073128494562\n"
     ]
    },
    {
     "name": "stderr",
     "output_type": "stream",
     "text": [
      "\r",
      "Iterations:  32%|██████████▊                       | 95/300 [02:03<04:30,  1.32s/it]"
     ]
    },
    {
     "name": "stdout",
     "output_type": "stream",
     "text": [
      "Epoch:  94\n",
      "t_loss:  10.530073128494562 , v_loss:  0.6767308413982391\n",
      "t_acc:  0.7021210230817218 , v_acc:  0.6845238095238095\n",
      "t_recall:  0.5125660563849717 , v_recall:  0.5\n",
      "t_prec:  0.7395198037153874 , v_prec:  0.34226190476190477\n",
      "t_f:  0.43928579735115175 , v_f:  0.40636042402826855\n",
      "////////\n"
     ]
    },
    {
     "name": "stderr",
     "output_type": "stream",
     "text": [
      "\r",
      "Iterations:  32%|██████████▉                       | 96/300 [02:04<04:10,  1.23s/it]"
     ]
    },
    {
     "name": "stdout",
     "output_type": "stream",
     "text": [
      "Epoch  95 , loss 10.455696087257534\n",
      "Epoch  96 , loss 10.379788230447208\n"
     ]
    },
    {
     "name": "stderr",
     "output_type": "stream",
     "text": [
      "\r",
      "Iterations:  32%|██████████▉                       | 97/300 [02:05<04:31,  1.34s/it]"
     ]
    },
    {
     "name": "stdout",
     "output_type": "stream",
     "text": [
      "Epoch:  96\n",
      "t_loss:  10.379788230447208 , v_loss:  0.6782108147939047\n",
      "t_acc:  0.7014971927635683 , v_acc:  0.6845238095238095\n",
      "t_recall:  0.5126952384236114 , v_recall:  0.5\n",
      "t_prec:  0.7078065739570165 , v_prec:  0.34226190476190477\n",
      "t_f:  0.4408052905973794 , v_f:  0.40636042402826855\n",
      "////////\n"
     ]
    },
    {
     "name": "stderr",
     "output_type": "stream",
     "text": [
      "\r",
      "Iterations:  33%|███████████                       | 98/300 [02:06<04:05,  1.22s/it]"
     ]
    },
    {
     "name": "stdout",
     "output_type": "stream",
     "text": [
      "Epoch  97 , loss 10.311987446803673\n",
      "Epoch  98 , loss 10.255370495366115\n"
     ]
    },
    {
     "name": "stderr",
     "output_type": "stream",
     "text": [
      "\r",
      "Iterations:  33%|███████████▏                      | 99/300 [02:08<04:33,  1.36s/it]"
     ]
    },
    {
     "name": "stdout",
     "output_type": "stream",
     "text": [
      "Epoch:  98\n",
      "t_loss:  10.255370495366115 , v_loss:  0.6796616415182749\n",
      "t_acc:  0.7011852776044916 , v_acc:  0.6845238095238095\n",
      "t_recall:  0.5130485352090014 , v_recall:  0.5\n",
      "t_prec:  0.6911694382143554 , v_prec:  0.34226190476190477\n",
      "t_f:  0.44244288001626547 , v_f:  0.40636042402826855\n",
      "////////\n"
     ]
    },
    {
     "name": "stderr",
     "output_type": "stream",
     "text": [
      "\r",
      "Iterations:  33%|███████████                      | 100/300 [02:09<04:18,  1.29s/it]"
     ]
    },
    {
     "name": "stdout",
     "output_type": "stream",
     "text": [
      "Epoch  99 , loss 10.184440481896495\n",
      "Epoch  100 , loss 10.10808525833429\n"
     ]
    },
    {
     "name": "stderr",
     "output_type": "stream",
     "text": [
      "\r",
      "Iterations:  34%|███████████                      | 101/300 [02:11<04:46,  1.44s/it]"
     ]
    },
    {
     "name": "stdout",
     "output_type": "stream",
     "text": [
      "Epoch:  100\n",
      "t_loss:  10.10808525833429 , v_loss:  0.6781738996505737\n",
      "t_acc:  0.7033686837180287 , v_acc:  0.6845238095238095\n",
      "t_recall:  0.5143286326701836 , v_recall:  0.5\n",
      "t_prec:  0.7589048378522063 , v_prec:  0.34226190476190477\n",
      "t_f:  0.4425303066068137 , v_f:  0.40636042402826855\n",
      "////////\n"
     ]
    },
    {
     "name": "stderr",
     "output_type": "stream",
     "text": [
      "\r",
      "Iterations:  34%|███████████▏                     | 102/300 [02:12<04:16,  1.30s/it]"
     ]
    },
    {
     "name": "stdout",
     "output_type": "stream",
     "text": [
      "Epoch  101 , loss 10.039371453079523\n",
      "Epoch  102 , loss 9.965466723722571\n"
     ]
    },
    {
     "name": "stderr",
     "output_type": "stream",
     "text": [
      "\r",
      "Iterations:  34%|███████████▎                     | 103/300 [02:14<04:34,  1.39s/it]"
     ]
    },
    {
     "name": "stdout",
     "output_type": "stream",
     "text": [
      "Epoch:  102\n",
      "t_loss:  9.965466723722571 , v_loss:  0.6775879164536794\n",
      "t_acc:  0.7002495321272614 , v_acc:  0.6904761904761905\n",
      "t_recall:  0.5115100736705398 , v_recall:  0.5094339622641509\n",
      "t_prec:  0.6799565867402679 , v_prec:  0.844311377245509\n",
      "t_f:  0.43936229623433276 , v_f:  0.4263199369582348\n",
      "////////\n"
     ]
    },
    {
     "name": "stderr",
     "output_type": "stream",
     "text": [
      "\r",
      "Iterations:  35%|███████████▍                     | 104/300 [02:15<04:08,  1.27s/it]"
     ]
    },
    {
     "name": "stdout",
     "output_type": "stream",
     "text": [
      "Epoch  103 , loss 9.910498488183116\n",
      "Epoch  104 , loss 9.831817795248593\n"
     ]
    },
    {
     "name": "stderr",
     "output_type": "stream",
     "text": [
      "\r",
      "Iterations:  35%|███████████▌                     | 105/300 [02:16<04:33,  1.40s/it]"
     ]
    },
    {
     "name": "stdout",
     "output_type": "stream",
     "text": [
      "Epoch:  104\n",
      "t_loss:  9.831817795248593 , v_loss:  0.6779293815294901\n",
      "t_acc:  0.7027448533998752 , v_acc:  0.6904761904761905\n",
      "t_recall:  0.5147465204748934 , v_recall:  0.5094339622641509\n",
      "t_prec:  0.7206728123280132 , v_prec:  0.844311377245509\n",
      "t_f:  0.44491263143800264 , v_f:  0.4263199369582348\n",
      "////////\n"
     ]
    },
    {
     "name": "stderr",
     "output_type": "stream",
     "text": [
      "\r",
      "Iterations:  35%|███████████▋                     | 106/300 [02:17<04:04,  1.26s/it]"
     ]
    },
    {
     "name": "stdout",
     "output_type": "stream",
     "text": [
      "Epoch  105 , loss 9.78013693117628\n",
      "Epoch  106 , loss 9.704000772214403\n"
     ]
    },
    {
     "name": "stderr",
     "output_type": "stream",
     "text": [
      "\r",
      "Iterations:  36%|███████████▊                     | 107/300 [02:19<04:22,  1.36s/it]"
     ]
    },
    {
     "name": "stdout",
     "output_type": "stream",
     "text": [
      "Epoch:  106\n",
      "t_loss:  9.704000772214403 , v_loss:  0.6778430938720703\n",
      "t_acc:  0.6996257018091079 , v_acc:  0.6904761904761905\n",
      "t_recall:  0.5090409038145479 , v_recall:  0.5094339622641509\n",
      "t_prec:  0.6936239760554506 , v_prec:  0.844311377245509\n",
      "t_f:  0.4327628891928563 , v_f:  0.4263199369582348\n",
      "////////\n"
     ]
    },
    {
     "name": "stderr",
     "output_type": "stream",
     "text": [
      "\r",
      "Iterations:  36%|███████████▉                     | 108/300 [02:20<04:03,  1.27s/it]"
     ]
    },
    {
     "name": "stdout",
     "output_type": "stream",
     "text": [
      "Epoch  107 , loss 9.634966831581265\n",
      "Epoch  108 , loss 9.56068416670257\n"
     ]
    },
    {
     "name": "stderr",
     "output_type": "stream",
     "text": [
      "\r",
      "Iterations:  36%|███████████▉                     | 109/300 [02:21<04:16,  1.34s/it]"
     ]
    },
    {
     "name": "stdout",
     "output_type": "stream",
     "text": [
      "Epoch:  108\n",
      "t_loss:  9.56068416670257 , v_loss:  0.6785369714101156\n",
      "t_acc:  0.7014971927635683 , v_acc:  0.6904761904761905\n",
      "t_recall:  0.5147161787861025 , v_recall:  0.5094339622641509\n",
      "t_prec:  0.681468253968254 , v_prec:  0.844311377245509\n",
      "t_f:  0.4469634960527674 , v_f:  0.4263199369582348\n",
      "////////\n"
     ]
    },
    {
     "name": "stderr",
     "output_type": "stream",
     "text": [
      "\r",
      "Iterations:  37%|████████████                     | 110/300 [02:22<03:53,  1.23s/it]"
     ]
    },
    {
     "name": "stdout",
     "output_type": "stream",
     "text": [
      "Epoch  109 , loss 9.502667857151405\n",
      "Epoch  110 , loss 9.435269767162847\n"
     ]
    },
    {
     "name": "stderr",
     "output_type": "stream",
     "text": [
      "\r",
      "Iterations:  37%|████████████▏                    | 111/300 [02:24<04:17,  1.36s/it]"
     ]
    },
    {
     "name": "stdout",
     "output_type": "stream",
     "text": [
      "Epoch:  110\n",
      "t_loss:  9.435269767162847 , v_loss:  0.680827816327413\n",
      "t_acc:  0.7036805988771054 , v_acc:  0.6904761904761905\n",
      "t_recall:  0.5162849820133549 , v_recall:  0.5094339622641509\n",
      "t_prec:  0.7289922620933074 , v_prec:  0.844311377245509\n",
      "t_f:  0.4479739409335561 , v_f:  0.4263199369582348\n",
      "////////\n"
     ]
    },
    {
     "name": "stderr",
     "output_type": "stream",
     "text": [
      "\r",
      "Iterations:  37%|████████████▎                    | 112/300 [02:25<03:54,  1.25s/it]"
     ]
    },
    {
     "name": "stdout",
     "output_type": "stream",
     "text": [
      "Epoch  111 , loss 9.355582386839624\n",
      "Epoch  112 , loss 9.303672977522307\n"
     ]
    },
    {
     "name": "stderr",
     "output_type": "stream",
     "text": [
      "\r",
      "Iterations:  38%|████████████▍                    | 113/300 [02:27<04:09,  1.34s/it]"
     ]
    },
    {
     "name": "stdout",
     "output_type": "stream",
     "text": [
      "Epoch:  112\n",
      "t_loss:  9.303672977522307 , v_loss:  0.6806862155596415\n",
      "t_acc:  0.7049282595134123 , v_acc:  0.6904761904761905\n",
      "t_recall:  0.5189136755967774 , v_recall:  0.5094339622641509\n",
      "t_prec:  0.7292094956349273 , v_prec:  0.844311377245509\n",
      "t_f:  0.45374845105328376 , v_f:  0.4263199369582348\n",
      "////////\n"
     ]
    },
    {
     "name": "stderr",
     "output_type": "stream",
     "text": [
      "\r",
      "Iterations:  38%|████████████▌                    | 114/300 [02:28<03:48,  1.23s/it]"
     ]
    },
    {
     "name": "stdout",
     "output_type": "stream",
     "text": [
      "Epoch  113 , loss 9.235337388281728\n",
      "Epoch  114 , loss 9.161607517915613\n"
     ]
    },
    {
     "name": "stderr",
     "output_type": "stream",
     "text": [
      "\r",
      "Iterations:  38%|████████████▋                    | 115/300 [02:29<04:15,  1.38s/it]"
     ]
    },
    {
     "name": "stdout",
     "output_type": "stream",
     "text": [
      "Epoch:  114\n",
      "t_loss:  9.161607517915613 , v_loss:  0.6802157461643219\n",
      "t_acc:  0.7049282595134123 , v_acc:  0.6904761904761905\n",
      "t_recall:  0.518336264064637 , v_recall:  0.5094339622641509\n",
      "t_prec:  0.7386795444889265 , v_prec:  0.844311377245509\n",
      "t_f:  0.4520303710084933 , v_f:  0.4263199369582348\n",
      "////////\n"
     ]
    },
    {
     "name": "stderr",
     "output_type": "stream",
     "text": [
      "\r",
      "Iterations:  39%|████████████▊                    | 116/300 [02:30<03:52,  1.26s/it]"
     ]
    },
    {
     "name": "stdout",
     "output_type": "stream",
     "text": [
      "Epoch  115 , loss 9.108762890684838\n",
      "Epoch  116 , loss 9.043673964107738\n"
     ]
    },
    {
     "name": "stderr",
     "output_type": "stream",
     "text": [
      "\r",
      "Iterations:  39%|████████████▊                    | 117/300 [02:32<04:22,  1.44s/it]"
     ]
    },
    {
     "name": "stdout",
     "output_type": "stream",
     "text": [
      "Epoch:  116\n",
      "t_loss:  9.043673964107738 , v_loss:  0.6813008089860281\n",
      "t_acc:  0.7021210230817218 , v_acc:  0.6904761904761905\n",
      "t_recall:  0.5168966428760243 , v_recall:  0.5094339622641509\n",
      "t_prec:  0.6773499324454738 , v_prec:  0.844311377245509\n",
      "t_f:  0.4524030661693862 , v_f:  0.4263199369582348\n",
      "////////\n"
     ]
    },
    {
     "name": "stderr",
     "output_type": "stream",
     "text": [
      "\r",
      "Iterations:  39%|████████████▉                    | 118/300 [02:33<03:50,  1.27s/it]"
     ]
    },
    {
     "name": "stdout",
     "output_type": "stream",
     "text": [
      "Epoch  117 , loss 8.97415688458611\n",
      "Epoch  118 , loss 8.917681095646877\n"
     ]
    },
    {
     "name": "stderr",
     "output_type": "stream",
     "text": [
      "\r",
      "Iterations:  40%|█████████████                    | 119/300 [02:35<04:09,  1.38s/it]"
     ]
    },
    {
     "name": "stdout",
     "output_type": "stream",
     "text": [
      "Epoch:  118\n",
      "t_loss:  8.917681095646877 , v_loss:  0.6829016506671906\n",
      "t_acc:  0.698378041172801 , v_acc:  0.6904761904761905\n",
      "t_recall:  0.5095879736578974 , v_recall:  0.5094339622641509\n",
      "t_prec:  0.6434782608695653 , v_prec:  0.844311377245509\n",
      "t_f:  0.43675814753467845 , v_f:  0.4263199369582348\n",
      "////////\n"
     ]
    },
    {
     "name": "stderr",
     "output_type": "stream",
     "text": [
      "\r",
      "Iterations:  40%|█████████████▏                   | 120/300 [02:35<03:41,  1.23s/it]"
     ]
    },
    {
     "name": "stdout",
     "output_type": "stream",
     "text": [
      "Epoch  119 , loss 8.845815452874875\n",
      "Epoch  120 , loss 8.780125000897575\n"
     ]
    },
    {
     "name": "stderr",
     "output_type": "stream",
     "text": [
      "\r",
      "Iterations:  40%|█████████████▎                   | 121/300 [02:37<03:59,  1.34s/it]"
     ]
    },
    {
     "name": "stdout",
     "output_type": "stream",
     "text": [
      "Epoch:  120\n",
      "t_loss:  8.780125000897575 , v_loss:  0.6823955674966177\n",
      "t_acc:  0.7014971927635683 , v_acc:  0.6904761904761905\n",
      "t_recall:  0.5135613557218218 , v_recall:  0.5094339622641509\n",
      "t_prec:  0.6946049715009499 , v_prec:  0.844311377245509\n",
      "t_f:  0.4434660808456893 , v_f:  0.4263199369582348\n",
      "////////\n"
     ]
    },
    {
     "name": "stderr",
     "output_type": "stream",
     "text": [
      "\r",
      "Iterations:  41%|█████████████▍                   | 122/300 [02:38<03:40,  1.24s/it]"
     ]
    },
    {
     "name": "stdout",
     "output_type": "stream",
     "text": [
      "Epoch  121 , loss 8.710536377102722\n",
      "Epoch  122 , loss 8.66157610276166\n"
     ]
    },
    {
     "name": "stderr",
     "output_type": "stream",
     "text": [
      "\r",
      "Iterations:  41%|█████████████▌                   | 123/300 [02:40<03:54,  1.32s/it]"
     ]
    },
    {
     "name": "stdout",
     "output_type": "stream",
     "text": [
      "Epoch:  122\n",
      "t_loss:  8.66157610276166 , v_loss:  0.6828854382038116\n",
      "t_acc:  0.7018091079226451 , v_acc:  0.6904761904761905\n",
      "t_recall:  0.5137854704685721 , v_recall:  0.5094339622641509\n",
      "t_prec:  0.7019660140227516 , v_prec:  0.844311377245509\n",
      "t_f:  0.44360688235443624 , v_f:  0.4263199369582348\n",
      "////////\n"
     ]
    },
    {
     "name": "stderr",
     "output_type": "stream",
     "text": [
      "\r",
      "Iterations:  41%|█████████████▋                   | 124/300 [02:41<03:31,  1.20s/it]"
     ]
    },
    {
     "name": "stdout",
     "output_type": "stream",
     "text": [
      "Epoch  123 , loss 8.585991765938553\n",
      "Epoch  124 , loss 8.518683433532715\n"
     ]
    },
    {
     "name": "stderr",
     "output_type": "stream",
     "text": [
      "\r",
      "Iterations:  42%|█████████████▊                   | 125/300 [02:42<03:50,  1.32s/it]"
     ]
    },
    {
     "name": "stdout",
     "output_type": "stream",
     "text": [
      "Epoch:  124\n",
      "t_loss:  8.518683433532715 , v_loss:  0.6832043826580048\n",
      "t_acc:  0.7027448533998752 , v_acc:  0.6904761904761905\n",
      "t_recall:  0.517344872369525 , v_recall:  0.5094339622641509\n",
      "t_prec:  0.6876243236791852 , v_prec:  0.844311377245509\n",
      "t_f:  0.4527017864784659 , v_f:  0.4263199369582348\n",
      "////////\n"
     ]
    },
    {
     "name": "stderr",
     "output_type": "stream",
     "text": [
      "\r",
      "Iterations:  42%|█████████████▊                   | 126/300 [02:43<03:25,  1.18s/it]"
     ]
    },
    {
     "name": "stdout",
     "output_type": "stream",
     "text": [
      "Epoch  125 , loss 8.454018200145049\n",
      "Epoch  126 , loss 8.388277783113367\n"
     ]
    },
    {
     "name": "stderr",
     "output_type": "stream",
     "text": [
      "\r",
      "Iterations:  42%|█████████████▉                   | 127/300 [02:45<03:43,  1.29s/it]"
     ]
    },
    {
     "name": "stdout",
     "output_type": "stream",
     "text": [
      "Epoch:  126\n",
      "t_loss:  8.388277783113367 , v_loss:  0.6856925090154012\n",
      "t_acc:  0.7030567685589519 , v_acc:  0.6904761904761905\n",
      "t_recall:  0.5167028698180648 , v_recall:  0.5094339622641509\n",
      "t_prec:  0.7024173644654665 , v_prec:  0.844311377245509\n",
      "t_f:  0.4502838534912539 , v_f:  0.4263199369582348\n",
      "////////\n"
     ]
    },
    {
     "name": "stderr",
     "output_type": "stream",
     "text": [
      "\r",
      "Iterations:  43%|██████████████                   | 128/300 [02:46<03:25,  1.20s/it]"
     ]
    },
    {
     "name": "stdout",
     "output_type": "stream",
     "text": [
      "Epoch  127 , loss 8.334730503605861\n",
      "Epoch  128 , loss 8.262351971046597\n"
     ]
    },
    {
     "name": "stderr",
     "output_type": "stream",
     "text": [
      "\r",
      "Iterations:  43%|██████████████▏                  | 129/300 [02:47<03:48,  1.34s/it]"
     ]
    },
    {
     "name": "stdout",
     "output_type": "stream",
     "text": [
      "Epoch:  128\n",
      "t_loss:  8.262351971046597 , v_loss:  0.6839672029018402\n",
      "t_acc:  0.7049282595134123 , v_acc:  0.6904761904761905\n",
      "t_recall:  0.5197797928949879 , v_recall:  0.5094339622641509\n",
      "t_prec:  0.7172906282037685 , v_prec:  0.844311377245509\n",
      "t_f:  0.45629961715331013 , v_f:  0.4263199369582348\n",
      "////////\n"
     ]
    },
    {
     "name": "stderr",
     "output_type": "stream",
     "text": [
      "\r",
      "Iterations:  43%|██████████████▎                  | 130/300 [02:48<03:40,  1.30s/it]"
     ]
    },
    {
     "name": "stdout",
     "output_type": "stream",
     "text": [
      "Epoch  129 , loss 8.202027208664838\n",
      "Epoch  130 , loss 8.130414439182655\n"
     ]
    },
    {
     "name": "stderr",
     "output_type": "stream",
     "text": [
      "\r",
      "Iterations:  44%|██████████████▍                  | 131/300 [02:50<04:08,  1.47s/it]"
     ]
    },
    {
     "name": "stdout",
     "output_type": "stream",
     "text": [
      "Epoch:  130\n",
      "t_loss:  8.130414439182655 , v_loss:  0.6837158501148224\n",
      "t_acc:  0.7008733624454149 , v_acc:  0.6904761904761905\n",
      "t_recall:  0.5125357146961809 , v_recall:  0.5094339622641509\n",
      "t_prec:  0.6875894331315355 , v_prec:  0.844311377245509\n",
      "t_f:  0.4414178526222922 , v_f:  0.4263199369582348\n",
      "////////\n"
     ]
    },
    {
     "name": "stderr",
     "output_type": "stream",
     "text": [
      "\r",
      "Iterations:  44%|██████████████▌                  | 132/300 [02:51<03:43,  1.33s/it]"
     ]
    },
    {
     "name": "stdout",
     "output_type": "stream",
     "text": [
      "Epoch  131 , loss 8.075034347234988\n",
      "Epoch  132 , loss 8.009054492501651\n"
     ]
    },
    {
     "name": "stderr",
     "output_type": "stream",
     "text": [
      "\r",
      "Iterations:  44%|██████████████▋                  | 133/300 [02:53<03:58,  1.43s/it]"
     ]
    },
    {
     "name": "stdout",
     "output_type": "stream",
     "text": [
      "Epoch:  132\n",
      "t_loss:  8.009054492501651 , v_loss:  0.6839002668857574\n",
      "t_acc:  0.7024329382407986 , v_acc:  0.6904761904761905\n",
      "t_recall:  0.5182755806870554 , v_recall:  0.5094339622641509\n",
      "t_prec:  0.6738169464253703 , v_prec:  0.844311377245509\n",
      "t_f:  0.45592115374763054 , v_f:  0.4263199369582348\n",
      "////////\n"
     ]
    },
    {
     "name": "stderr",
     "output_type": "stream",
     "text": [
      "\r",
      "Iterations:  45%|██████████████▋                  | 134/300 [02:54<03:34,  1.29s/it]"
     ]
    },
    {
     "name": "stdout",
     "output_type": "stream",
     "text": [
      "Epoch  133 , loss 7.94487387526269\n",
      "Epoch  134 , loss 7.887170529833027\n"
     ]
    },
    {
     "name": "stderr",
     "output_type": "stream",
     "text": [
      "\r",
      "Iterations:  45%|██████████████▊                  | 135/300 [02:56<03:54,  1.42s/it]"
     ]
    },
    {
     "name": "stdout",
     "output_type": "stream",
     "text": [
      "Epoch:  134\n",
      "t_loss:  7.887170529833027 , v_loss:  0.6851303080717722\n",
      "t_acc:  0.7014971927635683 , v_acc:  0.6904761904761905\n",
      "t_recall:  0.5173145306807342 , v_recall:  0.5094339622641509\n",
      "t_prec:  0.6625030202616409 , v_prec:  0.844311377245509\n",
      "t_f:  0.45462883681874194 , v_f:  0.4263199369582348\n",
      "////////\n"
     ]
    },
    {
     "name": "stderr",
     "output_type": "stream",
     "text": [
      "\r",
      "Iterations:  45%|██████████████▉                  | 136/300 [02:57<03:32,  1.30s/it]"
     ]
    },
    {
     "name": "stdout",
     "output_type": "stream",
     "text": [
      "Epoch  135 , loss 7.822006066640218\n",
      "Epoch  136 , loss 7.75999807843975\n"
     ]
    },
    {
     "name": "stderr",
     "output_type": "stream",
     "text": [
      "\r",
      "Iterations:  46%|███████████████                  | 137/300 [02:58<03:48,  1.40s/it]"
     ]
    },
    {
     "name": "stdout",
     "output_type": "stream",
     "text": [
      "Epoch:  136\n",
      "t_loss:  7.75999807843975 , v_loss:  0.6864288747310638\n",
      "t_acc:  0.7036805988771054 , v_acc:  0.6904761904761905\n",
      "t_recall:  0.5154188647151444 , v_recall:  0.5094339622641509\n",
      "t_prec:  0.7465976516259953 , v_prec:  0.844311377245509\n",
      "t_f:  0.44533801291255 , v_f:  0.4263199369582348\n",
      "////////\n"
     ]
    },
    {
     "name": "stderr",
     "output_type": "stream",
     "text": [
      "\r",
      "Iterations:  46%|███████████████▏                 | 138/300 [02:59<03:31,  1.30s/it]"
     ]
    },
    {
     "name": "stdout",
     "output_type": "stream",
     "text": [
      "Epoch  137 , loss 7.6946924246993715\n",
      "Epoch  138 , loss 7.636450234581442\n"
     ]
    },
    {
     "name": "stderr",
     "output_type": "stream",
     "text": [
      "\r",
      "Iterations:  46%|███████████████▎                 | 139/300 [03:01<03:40,  1.37s/it]"
     ]
    },
    {
     "name": "stdout",
     "output_type": "stream",
     "text": [
      "Epoch:  138\n",
      "t_loss:  7.636450234581442 , v_loss:  0.6878415048122406\n",
      "t_acc:  0.7039925140361821 , v_acc:  0.6904761904761905\n",
      "t_recall:  0.5185300371225965 , v_recall:  0.5094339622641509\n",
      "t_prec:  0.7067789132397604 , v_prec:  0.844311377245509\n",
      "t_f:  0.45415101702137206 , v_f:  0.4263199369582348\n",
      "////////\n"
     ]
    },
    {
     "name": "stderr",
     "output_type": "stream",
     "text": [
      "\r",
      "Iterations:  47%|███████████████▍                 | 140/300 [03:02<03:17,  1.23s/it]"
     ]
    },
    {
     "name": "stdout",
     "output_type": "stream",
     "text": [
      "Epoch  139 , loss 7.58261272019031\n",
      "Epoch  140 , loss 7.5109811764137415\n"
     ]
    },
    {
     "name": "stderr",
     "output_type": "stream",
     "text": [
      "\r",
      "Iterations:  47%|███████████████▌                 | 141/300 [03:03<03:34,  1.35s/it]"
     ]
    },
    {
     "name": "stdout",
     "output_type": "stream",
     "text": [
      "Epoch:  140\n",
      "t_loss:  7.5109811764137415 , v_loss:  0.6888555884361267\n",
      "t_acc:  0.7027448533998752 , v_acc:  0.6904761904761905\n",
      "t_recall:  0.5161900493052443 , v_recall:  0.5094339622641509\n",
      "t_prec:  0.6996428571428571 , v_prec:  0.844311377245509\n",
      "t_f:  0.4492750383890151 , v_f:  0.4263199369582348\n",
      "////////\n"
     ]
    },
    {
     "name": "stderr",
     "output_type": "stream",
     "text": [
      "\r",
      "Iterations:  47%|███████████████▌                 | 142/300 [03:04<03:11,  1.21s/it]"
     ]
    },
    {
     "name": "stdout",
     "output_type": "stream",
     "text": [
      "Epoch  141 , loss 7.456811091479133\n",
      "Epoch  142 , loss 7.392904524709664\n"
     ]
    },
    {
     "name": "stderr",
     "output_type": "stream",
     "text": [
      "\r",
      "Iterations:  48%|███████████████▋                 | 143/300 [03:06<03:31,  1.35s/it]"
     ]
    },
    {
     "name": "stdout",
     "output_type": "stream",
     "text": [
      "Epoch:  142\n",
      "t_loss:  7.392904524709664 , v_loss:  0.6881613930066427\n",
      "t_acc:  0.7039925140361821 , v_acc:  0.6904761904761905\n",
      "t_recall:  0.517663919824386 , v_recall:  0.5094339622641509\n",
      "t_prec:  0.7178174603174603 , v_prec:  0.844311377245509\n",
      "t_f:  0.45158658072526264 , v_f:  0.4263199369582348\n",
      "////////\n"
     ]
    },
    {
     "name": "stderr",
     "output_type": "stream",
     "text": [
      "\r",
      "Iterations:  48%|███████████████▊                 | 144/300 [03:07<03:13,  1.24s/it]"
     ]
    },
    {
     "name": "stdout",
     "output_type": "stream",
     "text": [
      "Epoch  143 , loss 7.323625957264619\n",
      "Epoch  144 , loss 7.2817662930956075\n"
     ]
    },
    {
     "name": "stderr",
     "output_type": "stream",
     "text": [
      "\r",
      "Iterations:  48%|███████████████▉                 | 145/300 [03:08<03:24,  1.32s/it]"
     ]
    },
    {
     "name": "stdout",
     "output_type": "stream",
     "text": [
      "Epoch:  144\n",
      "t_loss:  7.2817662930956075 , v_loss:  0.6890778243541718\n",
      "t_acc:  0.7049282595134123 , v_acc:  0.6904761904761905\n",
      "t_recall:  0.518336264064637 , v_recall:  0.5094339622641509\n",
      "t_prec:  0.7386795444889265 , v_prec:  0.844311377245509\n",
      "t_f:  0.4520303710084933 , v_f:  0.4263199369582348\n",
      "////////\n"
     ]
    },
    {
     "name": "stderr",
     "output_type": "stream",
     "text": [
      "\r",
      "Iterations:  49%|████████████████                 | 146/300 [03:09<03:06,  1.21s/it]"
     ]
    },
    {
     "name": "stdout",
     "output_type": "stream",
     "text": [
      "Epoch  145 , loss 7.212488071591246\n",
      "Epoch  146 , loss 7.143643416610419\n"
     ]
    },
    {
     "name": "stderr",
     "output_type": "stream",
     "text": [
      "\r",
      "Iterations:  49%|████████████████▏                | 147/300 [03:11<03:19,  1.30s/it]"
     ]
    },
    {
     "name": "stdout",
     "output_type": "stream",
     "text": [
      "Epoch:  146\n",
      "t_loss:  7.143643416610419 , v_loss:  0.6890898495912552\n",
      "t_acc:  0.7030567685589519 , v_acc:  0.6904761904761905\n",
      "t_recall:  0.5175689871162753 , v_recall:  0.5094339622641509\n",
      "t_prec:  0.6930038533602008 , v_prec:  0.844311377245509\n",
      "t_f:  0.45285120034878557 , v_f:  0.4263199369582348\n",
      "////////\n"
     ]
    }
   ],
   "source": [
    "from utilities.userfold_framework import *\n",
    "from utilities.EEG_func import *\n",
    "import Models.model_func as Model_Func\n",
    "import numpy as np\n",
    "import pandas as pd\n",
    "import matplotlib.pyplot as plt\n",
    "import seaborn as sns\n",
    "from typing import List\n",
    "from torcheeg.models import EEGNet\n",
    "# import Models.model_func as Model_Func\n",
    "from torch import nn\n",
    "from Models.multi_models import *\n",
    "\n",
    "DEVICE= torch.device(\"cuda\") if torch.cuda.is_available() else torch.device(\"cpu\")\n",
    "\n",
    "learning_rate = 0.00005\n",
    "batch_size = 64\n",
    "n_epochs = 300\n",
    "transpose_channels=True\n",
    "participants_dictionary=[]\n",
    "# participants_online_dictionary=[]\n",
    "participants_grads_dictionary={}\n",
    "b_acc_list=[]\n",
    "c0_acc_list=[]\n",
    "c1_acc_list=[]\n",
    "\n",
    "# EPOCH=[\n",
    "    \n",
    "# ]\n",
    "\n",
    "for i in range(len(participants)):\n",
    "\n",
    "    train_dataloader, val_dataloader, classes, input_dim, class_ratio= user_fold_load(i,\n",
    "                                                                                      raw_user_fold,\n",
    "                                                                                      participants,\n",
    "                                                                                      batch_size=batch_size,\n",
    "                                                                                      transpose_channels=transpose_channels)\n",
    "\n",
    "    classifier= EEGNet(\n",
    "        chunk_size=input_dim[1],\n",
    "        num_electrodes=input_dim[0],\n",
    "        num_classes=classes,\n",
    "        kernel_1= 32,\n",
    "        kernel_2=32,\n",
    "        F1=8,\n",
    "        F2=16,\n",
    "        dropout=0.5\n",
    "    ).to(DEVICE)\n",
    "    \n",
    "#     resnet = ResNetPlus(input_dim[0], classes, bn_1st=False)\n",
    "#     softmax_activation = nn.LogSoftmax(dim=1)\n",
    "#     classifier = nn.Sequential(resnet, softmax_activation).to(DEVICE)\n",
    "\n",
    "    \n",
    "#     classifier = DataGliderBasic_Model(DEVICE, input_dim, classes)\n",
    "#     classifier.to(DEVICE)\n",
    "    \n",
    "#     optimizer= torch.optim.RMSprop(classifier.parameters(), lr=learning_rate)\n",
    "    \n",
    "    \n",
    "    criterion= torch.nn.CrossEntropyLoss(weight=torch.tensor(class_ratio, dtype=torch.float).to(DEVICE))\n",
    "#     criterion = nn.NLLLoss(weight=torch.tensor(class_ratio, dtype=torch.float).to(DEVICE))\n",
    "        \n",
    "    saved_dir= \"./EEG/saved_models/Userfold/run0\"\n",
    "    model = EEGNet_DF_EEG_Wrapper(DEVICE, classifier, input_dim[0]).to(DEVICE)\n",
    "#     model= EEGNet_Wrapper(DEVICE, df)\n",
    "    optimizer = torch.optim.Adam(model.parameters(), lr = learning_rate)\n",
    "    scheduler= torch.optim.lr_scheduler.ReduceLROnPlateau(optimizer, patience=2)\n",
    "\n",
    "    \n",
    "    train_func= eeg_DF_train\n",
    "    model.training_procedure(iteration=n_epochs,\n",
    "                                    train_dataloader=train_dataloader,\n",
    "                                     val_dataloader=val_dataloader,\n",
    "                                     print_cycle=2,\n",
    "                                     path=f\"./dictionary/intermdiate_dicts\",\n",
    "                                     loss_func=criterion,\n",
    "                                     optimiser=optimizer, #scheduler=scheduler,\n",
    "                                     train_func=train_func\n",
    "                                    )\n",
    "    if model.epoch == n_epochs+1:\n",
    "        EPOCH= n_epochs\n",
    "    else:\n",
    "        EPOCH= model.epoch\n",
    "    \n",
    "    torch.save(model.state_dict(), \n",
    "           os.path.join(\n",
    "               saved_dir, f\"Userfold-{participants[i]}-EEGNet-DF_EEG-e{EPOCH}.pt\"\n",
    "           )\n",
    "    )\n",
    "\n",
    "    pickle.dump( model.return_DF_weights(), \n",
    "                open(f\"{saved_dir}/Userfold-{participants[i]}-EEGNet-DF_EEG-w-e{EPOCH}.pkl\", \"wb\") \n",
    "               )    \n",
    "\n",
    "# OR\n",
    "#     model.load_state_dict(\n",
    "#     torch.load(\n",
    "#         open(\n",
    "#             os.path.join(\n",
    "#                 saved_dir, f\"Userfold-{participants[i]}-EEGNet-Weight_EEG-e{n_epochs}.pt\"\n",
    "#             ), \"rb\"\n",
    "#         )\n",
    "#               )\n",
    "#     )\n",
    "    \n",
    "    prediction, dictionary= model.prediction_procedure(val_dataloader, dict_flag=True)\n",
    "    \n",
    "    ys= np.concatenate([y.detach().cpu().numpy() for x, y in val_dataloader])\n",
    "    \n",
    "    c0_acc, c1_acc, b_acc= calculate_accuracy(ys, prediction)\n",
    "    print(\"c0_acc\", c0_acc, \", c1_acc\", c1_acc, \", b_acc\", b_acc)\n",
    "    b_acc_list.append(b_acc)\n",
    "    c0_acc_list.append(c0_acc)\n",
    "    c1_acc_list.append(c1_acc)\n",
    "    participants_dictionary.append(dictionary)\n",
    "    \n",
    "\n",
    "tmp=[]\n",
    "for i, dictionary in enumerate(participants_dictionary):\n",
    "    print(f\"User {participants[i]} f1: {dictionary['weighted avg']['f1-score']} acc: {dictionary['accuracy']}\")\n",
    "    print(f\" c0: {c0_acc_list[i]} c1: {c1_acc_list[i]} bacc: {b_acc_list[i]}\")\n",
    "    tmp.append(dictionary['weighted avg']['f1-score'])\n",
    "\n",
    "print(f\"average {np.mean(tmp)}\")\n",
    "print()\n",
    "print(np.array(b_acc_list).mean())\n",
    "print(np.array(c1_acc_list).mean())\n",
    "print(np.array(c0_acc_list).mean())\n"
   ]
  },
  {
   "cell_type": "code",
   "execution_count": null,
   "id": "eb9de653",
   "metadata": {},
   "outputs": [],
   "source": [
    "userfold_results_summary(participants_dictionary, participants)\n",
    "userfold_classwise_results_summary(participants_dictionary, participants)\n"
   ]
  }
 ],
 "metadata": {
  "kernelspec": {
   "display_name": "Python [conda env:pytorch]",
   "language": "python",
   "name": "conda-env-pytorch-py"
  },
  "language_info": {
   "codemirror_mode": {
    "name": "ipython",
    "version": 3
   },
   "file_extension": ".py",
   "mimetype": "text/x-python",
   "name": "python",
   "nbconvert_exporter": "python",
   "pygments_lexer": "ipython3",
   "version": "3.7.10"
  }
 },
 "nbformat": 4,
 "nbformat_minor": 5
}
