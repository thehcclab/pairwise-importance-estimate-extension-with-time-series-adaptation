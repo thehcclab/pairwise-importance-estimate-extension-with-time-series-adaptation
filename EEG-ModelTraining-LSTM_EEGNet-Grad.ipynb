{
 "cells": [
  {
   "cell_type": "code",
   "execution_count": 1,
   "id": "4c9e593e",
   "metadata": {},
   "outputs": [],
   "source": [
    "import numpy as np\n",
    "from utilities.Dataset import *\n",
    "import pickle\n",
    "import sys\n",
    "from typing import List\n",
    "import torch\n",
    "import os"
   ]
  },
  {
   "cell_type": "code",
   "execution_count": 2,
   "id": "eb96ce98",
   "metadata": {},
   "outputs": [],
   "source": [
    "participant_data_path = './EEG/number'\n",
    "processed_data_path = './EEG/processed_data'\n",
    "split_data_path = './EEG/split_data'"
   ]
  },
  {
   "cell_type": "code",
   "execution_count": 3,
   "id": "62c74d3a",
   "metadata": {},
   "outputs": [],
   "source": [
    "ps = os.listdir(participant_data_path)\n",
    "participants=[]\n",
    "for p in ps:\n",
    "    p= p[:3]\n",
    "    if p not in participants:\n",
    "        participants.append(p)\n",
    "        \n",
    "participants= sorted(participants)\n",
    "# participants, len(participants)"
   ]
  },
  {
   "cell_type": "code",
   "execution_count": 4,
   "id": "28f3009e",
   "metadata": {
    "scrolled": true
   },
   "outputs": [],
   "source": [
    "load_name=f\"userfold_data_scaled_p_dictionary-number\"\n",
    "data_dir = \"./EEG/split_data/standard_scaled\"\n",
    "try:\n",
    "    raw_user_fold= pickle.load(open(os.path.join(data_dir, f\"{load_name}.pkl\"), \"rb\"))\n",
    "except:\n",
    "    print(f\"pickle file does not exist. Use EEG-Preprocess.ipynb and EEG-Split.ipynb to save data setting.\")\n",
    "    sys.exit()"
   ]
  },
  {
   "cell_type": "code",
   "execution_count": 5,
   "id": "b7f41978",
   "metadata": {},
   "outputs": [],
   "source": [
    "from utilities.userfold_framework import *\n",
    "from Models.AR_EEG_models import *\n",
    "import numpy as np\n",
    "import pandas as pd\n",
    "import matplotlib.pyplot as plt\n",
    "import seaborn as sns\n",
    "from typing import List\n",
    "\n"
   ]
  },
  {
   "cell_type": "code",
   "execution_count": null,
   "id": "082a80ac",
   "metadata": {},
   "outputs": [
    {
     "name": "stderr",
     "output_type": "stream",
     "text": [
      "\r",
      "Iterations:   0%|                                           | 0/300 [00:00<?, ?it/s]"
     ]
    },
    {
     "name": "stdout",
     "output_type": "stream",
     "text": [
      "Epoch  0 , loss 0.6200654319688386\n"
     ]
    },
    {
     "name": "stderr",
     "output_type": "stream",
     "text": [
      "\r",
      "Iterations:   0%|                                   | 1/300 [00:03<17:42,  3.55s/it]"
     ]
    },
    {
     "name": "stdout",
     "output_type": "stream",
     "text": [
      "Epoch:  0\n",
      "t_loss:  0.6200654319688386 , v_loss:  0.6855846444765726\n",
      "t_acc:  0.61531279178338 , v_acc:  0.6894409937888198\n",
      "t_recall:  0.4862745501708733 , v_recall:  0.5\n",
      "t_prec:  0.4799191585744922 , v_prec:  0.3447204968944099\n",
      "t_f:  0.47268616334764196 , v_f:  0.4080882352941176\n",
      "////////\n"
     ]
    },
    {
     "name": "stderr",
     "output_type": "stream",
     "text": [
      "\r",
      "Iterations:   1%|▏                                  | 2/300 [00:04<10:19,  2.08s/it]"
     ]
    },
    {
     "name": "stdout",
     "output_type": "stream",
     "text": [
      "Epoch  1 , loss 0.5703928026498533\n",
      "Epoch  2 , loss 0.5380352910827187\n"
     ]
    },
    {
     "name": "stderr",
     "output_type": "stream",
     "text": [
      "\r",
      "Iterations:   1%|▎                                  | 3/300 [00:06<09:36,  1.94s/it]"
     ]
    },
    {
     "name": "stdout",
     "output_type": "stream",
     "text": [
      "Epoch:  2\n",
      "t_loss:  0.5380352910827187 , v_loss:  0.6792670488357544\n",
      "t_acc:  0.683162153750389 , v_acc:  0.6894409937888198\n",
      "t_recall:  0.49967746805561275 , v_recall:  0.5\n",
      "t_prec:  0.4977353035656923 , v_prec:  0.3447204968944099\n",
      "t_f:  0.432653546901864 , v_f:  0.4080882352941176\n",
      "////////\n"
     ]
    },
    {
     "name": "stderr",
     "output_type": "stream",
     "text": [
      "\r",
      "Iterations:   1%|▍                                  | 4/300 [00:07<07:52,  1.60s/it]"
     ]
    },
    {
     "name": "stdout",
     "output_type": "stream",
     "text": [
      "Epoch  3 , loss 0.5165403093777451\n",
      "Epoch  4 , loss 0.4957051908268648\n"
     ]
    },
    {
     "name": "stderr",
     "output_type": "stream",
     "text": [
      "\r",
      "Iterations:   2%|▌                                  | 5/300 [00:09<07:59,  1.62s/it]"
     ]
    },
    {
     "name": "stdout",
     "output_type": "stream",
     "text": [
      "Epoch:  4\n",
      "t_loss:  0.4957051908268648 , v_loss:  0.6662731766700745\n",
      "t_acc:  0.6931216931216931 , v_acc:  0.6894409937888198\n",
      "t_recall:  0.4987853584222012 , v_recall:  0.5\n",
      "t_prec:  0.43088097469540765 , v_prec:  0.3447204968944099\n",
      "t_f:  0.41132851695765604 , v_f:  0.4080882352941176\n",
      "////////\n"
     ]
    },
    {
     "name": "stderr",
     "output_type": "stream",
     "text": [
      "\r",
      "Iterations:   2%|▋                                  | 6/300 [00:10<07:18,  1.49s/it]"
     ]
    },
    {
     "name": "stdout",
     "output_type": "stream",
     "text": [
      "Epoch  5 , loss 0.48035895649124594\n",
      "Epoch  6 , loss 0.47300344062786476\n"
     ]
    },
    {
     "name": "stderr",
     "output_type": "stream",
     "text": [
      "\r",
      "Iterations:   2%|▊                                  | 7/300 [00:12<07:51,  1.61s/it]"
     ]
    },
    {
     "name": "stdout",
     "output_type": "stream",
     "text": [
      "Epoch:  6\n",
      "t_loss:  0.47300344062786476 , v_loss:  0.6627422074476877\n",
      "t_acc:  0.6956115779645191 , v_acc:  0.6894409937888198\n",
      "t_recall:  0.5 , v_recall:  0.5\n",
      "t_prec:  0.34780578898225956 , v_prec:  0.3447204968944099\n",
      "t_f:  0.4102422907488987 , v_f:  0.4080882352941176\n",
      "////////\n"
     ]
    },
    {
     "name": "stderr",
     "output_type": "stream",
     "text": [
      "\r",
      "Iterations:   3%|▉                                  | 8/300 [00:13<07:00,  1.44s/it]"
     ]
    },
    {
     "name": "stdout",
     "output_type": "stream",
     "text": [
      "Epoch  7 , loss 0.4614390900322035\n",
      "Epoch  8 , loss 0.4637010477337183\n"
     ]
    },
    {
     "name": "stderr",
     "output_type": "stream",
     "text": [
      "\r",
      "Iterations:   3%|█                                  | 9/300 [00:15<07:41,  1.59s/it]"
     ]
    },
    {
     "name": "stdout",
     "output_type": "stream",
     "text": [
      "Epoch:  8\n",
      "t_loss:  0.4637010477337183 , v_loss:  0.6814400951067606\n",
      "t_acc:  0.6949891067538126 , v_acc:  0.6894409937888198\n",
      "t_recall:  0.4998401065041655 , v_recall:  0.5\n",
      "t_prec:  0.47277189155500154 , v_prec:  0.3447204968944099\n",
      "t_f:  0.41101098240032563 , v_f:  0.4080882352941176\n",
      "////////\n"
     ]
    },
    {
     "name": "stderr",
     "output_type": "stream",
     "text": [
      "\r",
      "Iterations:   3%|█▏                                | 10/300 [00:16<07:04,  1.46s/it]"
     ]
    },
    {
     "name": "stdout",
     "output_type": "stream",
     "text": [
      "Epoch  9 , loss 0.46241123360746045\n",
      "Epoch  10 , loss 0.45831506918458376\n"
     ]
    },
    {
     "name": "stderr",
     "output_type": "stream",
     "text": [
      "\r",
      "Iterations:   4%|█▏                                | 11/300 [00:18<07:41,  1.60s/it]"
     ]
    },
    {
     "name": "stdout",
     "output_type": "stream",
     "text": [
      "Epoch:  10\n",
      "t_loss:  0.45831506918458376 , v_loss:  0.7033877472082773\n",
      "t_acc:  0.6956115779645191 , v_acc:  0.6894409937888198\n",
      "t_recall:  0.5 , v_recall:  0.5\n",
      "t_prec:  0.34780578898225956 , v_prec:  0.3447204968944099\n",
      "t_f:  0.4102422907488987 , v_f:  0.4080882352941176\n",
      "////////\n"
     ]
    },
    {
     "name": "stderr",
     "output_type": "stream",
     "text": [
      "\r",
      "Iterations:   4%|█▎                                | 12/300 [00:19<06:51,  1.43s/it]"
     ]
    },
    {
     "name": "stdout",
     "output_type": "stream",
     "text": [
      "Epoch  11 , loss 0.4616439663896374\n",
      "Epoch  12 , loss 0.45795125762621564\n"
     ]
    },
    {
     "name": "stderr",
     "output_type": "stream",
     "text": [
      "\r",
      "Iterations:   4%|█▍                                | 13/300 [00:20<07:08,  1.49s/it]"
     ]
    },
    {
     "name": "stdout",
     "output_type": "stream",
     "text": [
      "Epoch:  12\n",
      "t_loss:  0.45795125762621564 , v_loss:  0.7219717005888621\n",
      "t_acc:  0.6953003423591659 , v_acc:  0.6894409937888198\n",
      "t_recall:  0.49977628635346755 , v_recall:  0.5\n",
      "t_prec:  0.34775840597758406 , v_prec:  0.3447204968944099\n",
      "t_f:  0.41013401872590416 , v_f:  0.4080882352941176\n",
      "////////\n"
     ]
    },
    {
     "name": "stderr",
     "output_type": "stream",
     "text": [
      "\r",
      "Iterations:   5%|█▌                                | 14/300 [00:21<06:26,  1.35s/it]"
     ]
    },
    {
     "name": "stdout",
     "output_type": "stream",
     "text": [
      "Epoch  13 , loss 0.45609336273342954\n",
      "Epoch  14 , loss 0.4541237003663007\n"
     ]
    },
    {
     "name": "stderr",
     "output_type": "stream",
     "text": [
      "\r",
      "Iterations:   5%|█▋                                | 15/300 [00:23<06:51,  1.44s/it]"
     ]
    },
    {
     "name": "stdout",
     "output_type": "stream",
     "text": [
      "Epoch:  14\n",
      "t_loss:  0.4541237003663007 , v_loss:  0.7307874858379364\n",
      "t_acc:  0.6956115779645191 , v_acc:  0.6894409937888198\n",
      "t_recall:  0.5 , v_recall:  0.5\n",
      "t_prec:  0.34780578898225956 , v_prec:  0.3447204968944099\n",
      "t_f:  0.4102422907488987 , v_f:  0.4080882352941176\n",
      "////////\n"
     ]
    },
    {
     "name": "stderr",
     "output_type": "stream",
     "text": [
      "\r",
      "Iterations:   5%|█▊                                | 16/300 [00:24<06:22,  1.35s/it]"
     ]
    },
    {
     "name": "stdout",
     "output_type": "stream",
     "text": [
      "Epoch  15 , loss 0.4598870213125266\n",
      "Epoch  16 , loss 0.4593674125624638\n"
     ]
    },
    {
     "name": "stderr",
     "output_type": "stream",
     "text": [
      "\r",
      "Iterations:   6%|█▉                                | 17/300 [00:26<06:53,  1.46s/it]"
     ]
    },
    {
     "name": "stdout",
     "output_type": "stream",
     "text": [
      "Epoch:  16\n",
      "t_loss:  0.4593674125624638 , v_loss:  0.7317936569452286\n",
      "t_acc:  0.6956115779645191 , v_acc:  0.6894409937888198\n",
      "t_recall:  0.5002875337972303 , v_recall:  0.5\n",
      "t_prec:  0.5978667081905948 , v_prec:  0.3447204968944099\n",
      "t_f:  0.4112297361103825 , v_f:  0.4080882352941176\n",
      "////////\n"
     ]
    },
    {
     "name": "stderr",
     "output_type": "stream",
     "text": [
      "\r",
      "Iterations:   6%|██                                | 18/300 [00:27<06:13,  1.33s/it]"
     ]
    },
    {
     "name": "stdout",
     "output_type": "stream",
     "text": [
      "Epoch  17 , loss 0.45940469643648935\n",
      "Epoch  18 , loss 0.45085405602174644\n"
     ]
    },
    {
     "name": "stderr",
     "output_type": "stream",
     "text": [
      "\r",
      "Iterations:   6%|██▏                               | 19/300 [00:29<06:45,  1.44s/it]"
     ]
    },
    {
     "name": "stdout",
     "output_type": "stream",
     "text": [
      "Epoch:  18\n",
      "t_loss:  0.45085405602174644 , v_loss:  0.7262991319100062\n",
      "t_acc:  0.6956115779645191 , v_acc:  0.6894409937888198\n",
      "t_recall:  0.5 , v_recall:  0.5\n",
      "t_prec:  0.34780578898225956 , v_prec:  0.3447204968944099\n",
      "t_f:  0.4102422907488987 , v_f:  0.4080882352941176\n",
      "////////\n"
     ]
    },
    {
     "name": "stderr",
     "output_type": "stream",
     "text": [
      "\r",
      "Iterations:   7%|██▎                               | 20/300 [00:30<06:11,  1.33s/it]"
     ]
    },
    {
     "name": "stdout",
     "output_type": "stream",
     "text": [
      "Epoch  19 , loss 0.4513314670207454\n",
      "Epoch  20 , loss 0.4549105208294064\n"
     ]
    },
    {
     "name": "stderr",
     "output_type": "stream",
     "text": [
      "\r",
      "Iterations:   7%|██▍                               | 21/300 [00:31<06:40,  1.44s/it]"
     ]
    },
    {
     "name": "stdout",
     "output_type": "stream",
     "text": [
      "Epoch:  20\n",
      "t_loss:  0.4549105208294064 , v_loss:  0.7247627129157385\n",
      "t_acc:  0.6956115779645191 , v_acc:  0.6894409937888198\n",
      "t_recall:  0.5 , v_recall:  0.5\n",
      "t_prec:  0.34780578898225956 , v_prec:  0.3447204968944099\n",
      "t_f:  0.4102422907488987 , v_f:  0.4080882352941176\n",
      "////////\n"
     ]
    },
    {
     "name": "stderr",
     "output_type": "stream",
     "text": [
      "\r",
      "Iterations:   7%|██▍                               | 22/300 [00:33<06:20,  1.37s/it]"
     ]
    },
    {
     "name": "stdout",
     "output_type": "stream",
     "text": [
      "Epoch  21 , loss 0.4557575624363095\n",
      "Epoch  22 , loss 0.45190128976223515\n"
     ]
    },
    {
     "name": "stderr",
     "output_type": "stream",
     "text": [
      "\r",
      "Iterations:   8%|██▌                               | 23/300 [00:34<06:55,  1.50s/it]"
     ]
    },
    {
     "name": "stdout",
     "output_type": "stream",
     "text": [
      "Epoch:  22\n",
      "t_loss:  0.45190128976223515 , v_loss:  0.7355561157067617\n",
      "t_acc:  0.6956115779645191 , v_acc:  0.6894409937888198\n",
      "t_recall:  0.5 , v_recall:  0.5\n",
      "t_prec:  0.34780578898225956 , v_prec:  0.3447204968944099\n",
      "t_f:  0.4102422907488987 , v_f:  0.4080882352941176\n",
      "////////\n"
     ]
    },
    {
     "name": "stderr",
     "output_type": "stream",
     "text": [
      "\r",
      "Iterations:   8%|██▋                               | 24/300 [00:36<06:18,  1.37s/it]"
     ]
    },
    {
     "name": "stdout",
     "output_type": "stream",
     "text": [
      "Epoch  23 , loss 0.4529566455121134\n",
      "Epoch  24 , loss 0.4562658433820687\n"
     ]
    },
    {
     "name": "stderr",
     "output_type": "stream",
     "text": [
      "\r",
      "Iterations:   8%|██▊                               | 25/300 [00:37<06:44,  1.47s/it]"
     ]
    },
    {
     "name": "stdout",
     "output_type": "stream",
     "text": [
      "Epoch:  24\n",
      "t_loss:  0.4562658433820687 , v_loss:  0.734292114774386\n",
      "t_acc:  0.6956115779645191 , v_acc:  0.6894409937888198\n",
      "t_recall:  0.5 , v_recall:  0.5\n",
      "t_prec:  0.34780578898225956 , v_prec:  0.3447204968944099\n",
      "t_f:  0.4102422907488987 , v_f:  0.4080882352941176\n",
      "////////\n"
     ]
    },
    {
     "name": "stderr",
     "output_type": "stream",
     "text": [
      "\r",
      "Iterations:   9%|██▉                               | 26/300 [00:39<06:34,  1.44s/it]"
     ]
    },
    {
     "name": "stdout",
     "output_type": "stream",
     "text": [
      "Epoch  25 , loss 0.45947375192361717\n",
      "Epoch  26 , loss 0.45350514264667735\n"
     ]
    },
    {
     "name": "stderr",
     "output_type": "stream",
     "text": [
      "\r",
      "Iterations:   9%|███                               | 27/300 [00:40<07:04,  1.56s/it]"
     ]
    },
    {
     "name": "stdout",
     "output_type": "stream",
     "text": [
      "Epoch:  26\n",
      "t_loss:  0.45350514264667735 , v_loss:  0.7240970234076182\n",
      "t_acc:  0.6956115779645191 , v_acc:  0.6894409937888198\n",
      "t_recall:  0.5 , v_recall:  0.5\n",
      "t_prec:  0.34780578898225956 , v_prec:  0.3447204968944099\n",
      "t_f:  0.4102422907488987 , v_f:  0.4080882352941176\n",
      "////////\n"
     ]
    },
    {
     "name": "stderr",
     "output_type": "stream",
     "text": [
      "\r",
      "Iterations:   9%|███▏                              | 28/300 [00:42<06:24,  1.41s/it]"
     ]
    },
    {
     "name": "stdout",
     "output_type": "stream",
     "text": [
      "Epoch  27 , loss 0.45026836734192044\n",
      "Epoch  28 , loss 0.45245465227201875\n"
     ]
    },
    {
     "name": "stderr",
     "output_type": "stream",
     "text": [
      "\r",
      "Iterations:  10%|███▎                              | 29/300 [00:43<06:52,  1.52s/it]"
     ]
    },
    {
     "name": "stdout",
     "output_type": "stream",
     "text": [
      "Epoch:  28\n",
      "t_loss:  0.45245465227201875 , v_loss:  0.7224976023038229\n",
      "t_acc:  0.6956115779645191 , v_acc:  0.6894409937888198\n",
      "t_recall:  0.5 , v_recall:  0.5\n",
      "t_prec:  0.34780578898225956 , v_prec:  0.3447204968944099\n",
      "t_f:  0.4102422907488987 , v_f:  0.4080882352941176\n",
      "////////\n"
     ]
    },
    {
     "name": "stderr",
     "output_type": "stream",
     "text": [
      "\r",
      "Iterations:  10%|███▍                              | 30/300 [00:44<06:14,  1.39s/it]"
     ]
    },
    {
     "name": "stdout",
     "output_type": "stream",
     "text": [
      "Epoch  29 , loss 0.4459745124274609\n",
      "Epoch  30 , loss 0.44718169172604877\n"
     ]
    },
    {
     "name": "stderr",
     "output_type": "stream",
     "text": [
      "\r",
      "Iterations:  10%|███▌                              | 31/300 [00:46<07:01,  1.57s/it]"
     ]
    },
    {
     "name": "stdout",
     "output_type": "stream",
     "text": [
      "Epoch:  30\n",
      "t_loss:  0.44718169172604877 , v_loss:  0.7270190119743347\n",
      "t_acc:  0.6956115779645191 , v_acc:  0.6894409937888198\n",
      "t_recall:  0.5 , v_recall:  0.5\n",
      "t_prec:  0.34780578898225956 , v_prec:  0.3447204968944099\n",
      "t_f:  0.4102422907488987 , v_f:  0.4080882352941176\n",
      "////////\n"
     ]
    },
    {
     "name": "stderr",
     "output_type": "stream",
     "text": [
      "\r",
      "Iterations:  11%|███▋                              | 32/300 [00:47<06:16,  1.40s/it]"
     ]
    },
    {
     "name": "stdout",
     "output_type": "stream",
     "text": [
      "Epoch  31 , loss 0.4535689856491837\n",
      "Epoch  32 , loss 0.448052795494304\n"
     ]
    },
    {
     "name": "stderr",
     "output_type": "stream",
     "text": [
      "\r",
      "Iterations:  11%|███▋                              | 33/300 [00:49<06:44,  1.51s/it]"
     ]
    },
    {
     "name": "stdout",
     "output_type": "stream",
     "text": [
      "Epoch:  32\n",
      "t_loss:  0.448052795494304 , v_loss:  0.7245258490244547\n",
      "t_acc:  0.6956115779645191 , v_acc:  0.6894409937888198\n",
      "t_recall:  0.5 , v_recall:  0.5\n",
      "t_prec:  0.34780578898225956 , v_prec:  0.3447204968944099\n",
      "t_f:  0.4102422907488987 , v_f:  0.4080882352941176\n",
      "////////\n"
     ]
    },
    {
     "name": "stderr",
     "output_type": "stream",
     "text": [
      "\r",
      "Iterations:  11%|███▊                              | 34/300 [00:50<06:11,  1.40s/it]"
     ]
    },
    {
     "name": "stdout",
     "output_type": "stream",
     "text": [
      "Epoch  33 , loss 0.4483810219110227\n",
      "Epoch  34 , loss 0.4482119954099842\n"
     ]
    },
    {
     "name": "stderr",
     "output_type": "stream",
     "text": [
      "\r",
      "Iterations:  12%|███▉                              | 35/300 [00:52<06:45,  1.53s/it]"
     ]
    },
    {
     "name": "stdout",
     "output_type": "stream",
     "text": [
      "Epoch:  34\n",
      "t_loss:  0.4482119954099842 , v_loss:  0.7119056135416031\n",
      "t_acc:  0.6959228135698724 , v_acc:  0.6894409937888198\n",
      "t_recall:  0.5005112474437627 , v_recall:  0.5\n",
      "t_prec:  0.8479140722291407 , v_prec:  0.3447204968944099\n",
      "t_f:  0.41133905648131597 , v_f:  0.4080882352941176\n",
      "////////\n"
     ]
    },
    {
     "name": "stderr",
     "output_type": "stream",
     "text": [
      "\r",
      "Iterations:  12%|████                              | 36/300 [00:53<06:00,  1.37s/it]"
     ]
    },
    {
     "name": "stdout",
     "output_type": "stream",
     "text": [
      "Epoch  35 , loss 0.44523262393240837\n",
      "Epoch  36 , loss 0.4472394088904063\n"
     ]
    },
    {
     "name": "stderr",
     "output_type": "stream",
     "text": [
      "\r",
      "Iterations:  12%|████▏                             | 37/300 [00:55<06:31,  1.49s/it]"
     ]
    },
    {
     "name": "stdout",
     "output_type": "stream",
     "text": [
      "Epoch:  36\n",
      "t_loss:  0.4472394088904063 , v_loss:  0.7022987008094788\n",
      "t_acc:  0.6956115779645191 , v_acc:  0.6894409937888198\n",
      "t_recall:  0.5 , v_recall:  0.5\n",
      "t_prec:  0.34780578898225956 , v_prec:  0.3447204968944099\n",
      "t_f:  0.4102422907488987 , v_f:  0.4080882352941176\n",
      "////////\n"
     ]
    },
    {
     "name": "stderr",
     "output_type": "stream",
     "text": [
      "\r",
      "Iterations:  13%|████▎                             | 38/300 [00:56<05:53,  1.35s/it]"
     ]
    },
    {
     "name": "stdout",
     "output_type": "stream",
     "text": [
      "Epoch  37 , loss 0.4461781446840249\n",
      "Epoch  38 , loss 0.4450572705736347\n"
     ]
    },
    {
     "name": "stderr",
     "output_type": "stream",
     "text": [
      "\r",
      "Iterations:  13%|████▍                             | 39/300 [00:58<06:25,  1.48s/it]"
     ]
    },
    {
     "name": "stdout",
     "output_type": "stream",
     "text": [
      "Epoch:  38\n",
      "t_loss:  0.4450572705736347 , v_loss:  0.7005788038174311\n",
      "t_acc:  0.6956115779645191 , v_acc:  0.6894409937888198\n",
      "t_recall:  0.5 , v_recall:  0.5\n",
      "t_prec:  0.34780578898225956 , v_prec:  0.3447204968944099\n",
      "t_f:  0.4102422907488987 , v_f:  0.4080882352941176\n",
      "////////\n"
     ]
    },
    {
     "name": "stderr",
     "output_type": "stream",
     "text": [
      "\r",
      "Iterations:  13%|████▌                             | 40/300 [00:59<05:51,  1.35s/it]"
     ]
    },
    {
     "name": "stdout",
     "output_type": "stream",
     "text": [
      "Epoch  39 , loss 0.44289297566694374\n",
      "Epoch  40 , loss 0.441213750371746\n"
     ]
    },
    {
     "name": "stderr",
     "output_type": "stream",
     "text": [
      "\r",
      "Iterations:  14%|████▋                             | 41/300 [01:01<06:30,  1.51s/it]"
     ]
    },
    {
     "name": "stdout",
     "output_type": "stream",
     "text": [
      "Epoch:  40\n",
      "t_loss:  0.441213750371746 , v_loss:  0.6963445842266083\n",
      "t_acc:  0.6953003423591659 , v_acc:  0.6894409937888198\n",
      "t_recall:  0.49977628635346755 , v_recall:  0.5\n",
      "t_prec:  0.34775840597758406 , v_prec:  0.3447204968944099\n",
      "t_f:  0.41013401872590416 , v_f:  0.4080882352941176\n",
      "////////\n"
     ]
    },
    {
     "name": "stderr",
     "output_type": "stream",
     "text": [
      "\r",
      "Iterations:  14%|████▊                             | 42/300 [01:02<05:59,  1.39s/it]"
     ]
    },
    {
     "name": "stdout",
     "output_type": "stream",
     "text": [
      "Epoch  41 , loss 0.44112609414493337\n",
      "Epoch  42 , loss 0.4403196783626781\n"
     ]
    },
    {
     "name": "stderr",
     "output_type": "stream",
     "text": [
      "\r",
      "Iterations:  14%|████▊                             | 43/300 [01:03<06:24,  1.50s/it]"
     ]
    },
    {
     "name": "stdout",
     "output_type": "stream",
     "text": [
      "Epoch:  42\n",
      "t_loss:  0.4403196783626781 , v_loss:  0.6969603399435679\n",
      "t_acc:  0.6956115779645191 , v_acc:  0.6894409937888198\n",
      "t_recall:  0.5 , v_recall:  0.5\n",
      "t_prec:  0.34780578898225956 , v_prec:  0.3447204968944099\n",
      "t_f:  0.4102422907488987 , v_f:  0.4080882352941176\n",
      "////////\n"
     ]
    },
    {
     "name": "stderr",
     "output_type": "stream",
     "text": [
      "\r",
      "Iterations:  15%|████▉                             | 44/300 [01:05<06:16,  1.47s/it]"
     ]
    },
    {
     "name": "stdout",
     "output_type": "stream",
     "text": [
      "Epoch  43 , loss 0.4391193325613059\n",
      "Epoch  44 , loss 0.4365934358507979\n"
     ]
    },
    {
     "name": "stderr",
     "output_type": "stream",
     "text": [
      "\r",
      "Iterations:  15%|█████                             | 45/300 [01:07<06:47,  1.60s/it]"
     ]
    },
    {
     "name": "stdout",
     "output_type": "stream",
     "text": [
      "Epoch:  44\n",
      "t_loss:  0.4365934358507979 , v_loss:  0.6918818056583405\n",
      "t_acc:  0.6956115779645191 , v_acc:  0.6894409937888198\n",
      "t_recall:  0.5 , v_recall:  0.5\n",
      "t_prec:  0.34780578898225956 , v_prec:  0.3447204968944099\n",
      "t_f:  0.4102422907488987 , v_f:  0.4080882352941176\n",
      "////////\n"
     ]
    },
    {
     "name": "stderr",
     "output_type": "stream",
     "text": [
      "\r",
      "Iterations:  15%|█████▏                            | 46/300 [01:08<06:08,  1.45s/it]"
     ]
    },
    {
     "name": "stdout",
     "output_type": "stream",
     "text": [
      "Epoch  45 , loss 0.43743421809346067\n",
      "Epoch  46 , loss 0.43660764250100825\n"
     ]
    },
    {
     "name": "stderr",
     "output_type": "stream",
     "text": [
      "\r",
      "Iterations:  16%|█████▎                            | 47/300 [01:10<06:37,  1.57s/it]"
     ]
    },
    {
     "name": "stdout",
     "output_type": "stream",
     "text": [
      "Epoch:  46\n",
      "t_loss:  0.43660764250100825 , v_loss:  0.6805144995450974\n",
      "t_acc:  0.6956115779645191 , v_acc:  0.6894409937888198\n",
      "t_recall:  0.5 , v_recall:  0.5\n",
      "t_prec:  0.34780578898225956 , v_prec:  0.3447204968944099\n",
      "t_f:  0.4102422907488987 , v_f:  0.4080882352941176\n",
      "////////\n"
     ]
    },
    {
     "name": "stderr",
     "output_type": "stream",
     "text": [
      "\r",
      "Iterations:  16%|█████▍                            | 48/300 [01:11<06:04,  1.45s/it]"
     ]
    },
    {
     "name": "stdout",
     "output_type": "stream",
     "text": [
      "Epoch  47 , loss 0.4393308285404654\n",
      "Epoch  48 , loss 0.4344891449984382\n"
     ]
    },
    {
     "name": "stderr",
     "output_type": "stream",
     "text": [
      "\r",
      "Iterations:  16%|█████▌                            | 49/300 [01:13<06:28,  1.55s/it]"
     ]
    },
    {
     "name": "stdout",
     "output_type": "stream",
     "text": [
      "Epoch:  48\n",
      "t_loss:  0.4344891449984382 , v_loss:  0.6823202619949976\n",
      "t_acc:  0.6956115779645191 , v_acc:  0.6894409937888198\n",
      "t_recall:  0.5 , v_recall:  0.5\n",
      "t_prec:  0.34780578898225956 , v_prec:  0.3447204968944099\n",
      "t_f:  0.4102422907488987 , v_f:  0.4080882352941176\n",
      "////////\n"
     ]
    },
    {
     "name": "stderr",
     "output_type": "stream",
     "text": [
      "\r",
      "Iterations:  17%|█████▋                            | 50/300 [01:14<05:51,  1.41s/it]"
     ]
    },
    {
     "name": "stdout",
     "output_type": "stream",
     "text": [
      "Epoch  49 , loss 0.43657950501815945\n",
      "Epoch  50 , loss 0.4356241401504068\n"
     ]
    },
    {
     "name": "stderr",
     "output_type": "stream",
     "text": [
      "\r",
      "Iterations:  17%|█████▊                            | 51/300 [01:15<06:15,  1.51s/it]"
     ]
    },
    {
     "name": "stdout",
     "output_type": "stream",
     "text": [
      "Epoch:  50\n",
      "t_loss:  0.4356241401504068 , v_loss:  0.675482432047526\n",
      "t_acc:  0.6956115779645191 , v_acc:  0.6894409937888198\n",
      "t_recall:  0.5002875337972303 , v_recall:  0.5\n",
      "t_prec:  0.5978667081905948 , v_prec:  0.3447204968944099\n",
      "t_f:  0.4112297361103825 , v_f:  0.4080882352941176\n",
      "////////\n"
     ]
    },
    {
     "name": "stderr",
     "output_type": "stream",
     "text": [
      "\r",
      "Iterations:  17%|█████▉                            | 52/300 [01:17<05:50,  1.41s/it]"
     ]
    },
    {
     "name": "stdout",
     "output_type": "stream",
     "text": [
      "Epoch  51 , loss 0.441515026139278\n",
      "Epoch  52 , loss 0.43378176993014766\n"
     ]
    },
    {
     "name": "stderr",
     "output_type": "stream",
     "text": [
      "\r",
      "Iterations:  18%|██████                            | 53/300 [01:18<06:15,  1.52s/it]"
     ]
    },
    {
     "name": "stdout",
     "output_type": "stream",
     "text": [
      "Epoch:  52\n",
      "t_loss:  0.43378176993014766 , v_loss:  0.6642856895923615\n",
      "t_acc:  0.6959228135698724 , v_acc:  0.6894409937888198\n",
      "t_recall:  0.5010863150382235 , v_recall:  0.5\n",
      "t_prec:  0.6480361596009975 , v_prec:  0.3447204968944099\n",
      "t_f:  0.41330358142435736 , v_f:  0.4080882352941176\n",
      "////////\n"
     ]
    },
    {
     "name": "stderr",
     "output_type": "stream",
     "text": [
      "\r",
      "Iterations:  18%|██████                            | 54/300 [01:20<05:38,  1.38s/it]"
     ]
    },
    {
     "name": "stdout",
     "output_type": "stream",
     "text": [
      "Epoch  53 , loss 0.43868564215360906\n",
      "Epoch  54 , loss 0.43193769162776424\n"
     ]
    },
    {
     "name": "stderr",
     "output_type": "stream",
     "text": [
      "\r",
      "Iterations:  18%|██████▏                           | 55/300 [01:21<06:04,  1.49s/it]"
     ]
    },
    {
     "name": "stdout",
     "output_type": "stream",
     "text": [
      "Epoch:  54\n",
      "t_loss:  0.43193769162776424 , v_loss:  0.6567287941773733\n",
      "t_acc:  0.6959228135698724 , v_acc:  0.6894409937888198\n",
      "t_recall:  0.5007987812409931 , v_recall:  0.5\n",
      "t_prec:  0.6813084112149532 , v_prec:  0.3447204968944099\n",
      "t_f:  0.41232340081380947 , v_f:  0.4080882352941176\n",
      "////////\n"
     ]
    },
    {
     "name": "stderr",
     "output_type": "stream",
     "text": [
      "\r",
      "Iterations:  19%|██████▎                           | 56/300 [01:22<05:40,  1.40s/it]"
     ]
    },
    {
     "name": "stdout",
     "output_type": "stream",
     "text": [
      "Epoch  55 , loss 0.43757837660172405\n",
      "Epoch  56 , loss 0.43367351854548736\n"
     ]
    },
    {
     "name": "stderr",
     "output_type": "stream",
     "text": [
      "\r",
      "Iterations:  19%|██████▍                           | 57/300 [01:24<06:05,  1.50s/it]"
     ]
    },
    {
     "name": "stdout",
     "output_type": "stream",
     "text": [
      "Epoch:  56\n",
      "t_loss:  0.43367351854548736 , v_loss:  0.652372419834137\n",
      "t_acc:  0.6946778711484594 , v_acc:  0.6894409937888198\n",
      "t_recall:  0.49961639285763304 , v_recall:  0.5\n",
      "t_prec:  0.44772443890274316 , v_prec:  0.3447204968944099\n",
      "t_f:  0.4109015490043957 , v_f:  0.4080882352941176\n",
      "////////\n"
     ]
    },
    {
     "name": "stderr",
     "output_type": "stream",
     "text": [
      "\r",
      "Iterations:  19%|██████▌                           | 58/300 [01:26<05:56,  1.47s/it]"
     ]
    },
    {
     "name": "stdout",
     "output_type": "stream",
     "text": [
      "Epoch  57 , loss 0.4310257201101266\n",
      "Epoch  58 , loss 0.43464692959598467\n"
     ]
    },
    {
     "name": "stderr",
     "output_type": "stream",
     "text": [
      "\r",
      "Iterations:  20%|██████▋                           | 59/300 [01:28<06:39,  1.66s/it]"
     ]
    },
    {
     "name": "stdout",
     "output_type": "stream",
     "text": [
      "Epoch:  58\n",
      "t_loss:  0.43464692959598467 , v_loss:  0.6494644433259964\n",
      "t_acc:  0.6965452847805789 , v_acc:  0.6894409937888198\n",
      "t_recall:  0.5018212761285187 , v_recall:  0.5\n",
      "t_prec:  0.7481920199501246 , v_prec:  0.3447204968944099\n",
      "t_f:  0.4145045976343382 , v_f:  0.4080882352941176\n",
      "////////\n"
     ]
    },
    {
     "name": "stderr",
     "output_type": "stream",
     "text": [
      "\r",
      "Iterations:  20%|██████▊                           | 60/300 [01:29<05:55,  1.48s/it]"
     ]
    },
    {
     "name": "stdout",
     "output_type": "stream",
     "text": [
      "Epoch  59 , loss 0.43504156493673135\n",
      "Epoch  60 , loss 0.42925413449605304\n"
     ]
    },
    {
     "name": "stderr",
     "output_type": "stream",
     "text": [
      "\r",
      "Iterations:  20%|██████▉                           | 61/300 [01:31<06:24,  1.61s/it]"
     ]
    },
    {
     "name": "stdout",
     "output_type": "stream",
     "text": [
      "Epoch:  60\n",
      "t_loss:  0.42925413449605304 , v_loss:  0.6477401902278265\n",
      "t_acc:  0.6956115779645191 , v_acc:  0.6894409937888198\n",
      "t_recall:  0.5005750675944607 , v_recall:  0.5\n",
      "t_prec:  0.5979277033343721 , v_prec:  0.3447204968944099\n",
      "t_f:  0.4122130008035903 , v_f:  0.4080882352941176\n",
      "////////\n"
     ]
    },
    {
     "name": "stderr",
     "output_type": "stream",
     "text": [
      "\r",
      "Iterations:  21%|███████                           | 62/300 [01:32<05:42,  1.44s/it]"
     ]
    },
    {
     "name": "stdout",
     "output_type": "stream",
     "text": [
      "Epoch  61 , loss 0.42688552187938317\n",
      "Epoch  62 , loss 0.4296296875850827\n"
     ]
    },
    {
     "name": "stderr",
     "output_type": "stream",
     "text": [
      "\r",
      "Iterations:  21%|███████▏                          | 63/300 [01:34<06:21,  1.61s/it]"
     ]
    },
    {
     "name": "stdout",
     "output_type": "stream",
     "text": [
      "Epoch:  62\n",
      "t_loss:  0.4296296875850827 , v_loss:  0.6350150754054388\n",
      "t_acc:  0.6956115779645191 , v_acc:  0.6894409937888198\n",
      "t_recall:  0.5011501351889214 , v_recall:  0.5\n",
      "t_prec:  0.5980499219968799 , v_prec:  0.3447204968944099\n",
      "t_f:  0.41416708924949286 , v_f:  0.4080882352941176\n",
      "////////\n"
     ]
    },
    {
     "name": "stderr",
     "output_type": "stream",
     "text": [
      "\r",
      "Iterations:  21%|███████▎                          | 64/300 [01:35<05:43,  1.45s/it]"
     ]
    },
    {
     "name": "stdout",
     "output_type": "stream",
     "text": [
      "Epoch  63 , loss 0.42409969953929677\n",
      "Epoch  64 , loss 0.42700980983528436\n"
     ]
    },
    {
     "name": "stderr",
     "output_type": "stream",
     "text": [
      "\r",
      "Iterations:  22%|███████▎                          | 65/300 [01:37<06:08,  1.57s/it]"
     ]
    },
    {
     "name": "stdout",
     "output_type": "stream",
     "text": [
      "Epoch:  64\n",
      "t_loss:  0.42700980983528436 , v_loss:  0.6253256946802139\n",
      "t_acc:  0.6971677559912854 , v_acc:  0.6894409937888198\n",
      "t_recall:  0.5039939062049656 , v_recall:  0.5\n",
      "t_prec:  0.6819887429643527 , v_prec:  0.3447204968944099\n",
      "t_f:  0.42052512257253005 , v_f:  0.4080882352941176\n",
      "////////\n"
     ]
    },
    {
     "name": "stderr",
     "output_type": "stream",
     "text": [
      "\r",
      "Iterations:  22%|███████▍                          | 66/300 [01:38<05:27,  1.40s/it]"
     ]
    },
    {
     "name": "stdout",
     "output_type": "stream",
     "text": [
      "Epoch  65 , loss 0.42806991642596676\n",
      "Epoch  66 , loss 0.42440105068917366\n"
     ]
    },
    {
     "name": "stderr",
     "output_type": "stream",
     "text": [
      "\r",
      "Iterations:  22%|███████▌                          | 67/300 [01:39<05:51,  1.51s/it]"
     ]
    },
    {
     "name": "stdout",
     "output_type": "stream",
     "text": [
      "Epoch:  66\n",
      "t_loss:  0.42440105068917366 , v_loss:  0.6298961490392685\n",
      "t_acc:  0.6974789915966386 , v_acc:  0.6894409937888198\n",
      "t_recall:  0.5047926874459587 , v_recall:  0.5\n",
      "t_prec:  0.6821596244131456 , v_prec:  0.3447204968944099\n",
      "t_f:  0.4225454303401451 , v_f:  0.4080882352941176\n",
      "////////\n"
     ]
    },
    {
     "name": "stderr",
     "output_type": "stream",
     "text": [
      "\r",
      "Iterations:  23%|███████▋                          | 68/300 [01:41<05:27,  1.41s/it]"
     ]
    },
    {
     "name": "stdout",
     "output_type": "stream",
     "text": [
      "Epoch  67 , loss 0.4249449682001974\n",
      "Epoch  68 , loss 0.42994552558543636\n"
     ]
    },
    {
     "name": "stderr",
     "output_type": "stream",
     "text": [
      "\r",
      "Iterations:  23%|███████▊                          | 69/300 [01:43<06:08,  1.59s/it]"
     ]
    },
    {
     "name": "stdout",
     "output_type": "stream",
     "text": [
      "Epoch:  68\n",
      "t_loss:  0.42994552558543636 , v_loss:  0.626451795299848\n",
      "t_acc:  0.6974789915966386 , v_acc:  0.6894409937888198\n",
      "t_recall:  0.504217619851498 , v_recall:  0.5\n",
      "t_prec:  0.7058455767427321 , v_prec:  0.3447204968944099\n",
      "t_f:  0.4206437662507272 , v_f:  0.4080882352941176\n",
      "////////\n"
     ]
    },
    {
     "name": "stderr",
     "output_type": "stream",
     "text": [
      "\r",
      "Iterations:  23%|███████▉                          | 70/300 [01:44<05:30,  1.44s/it]"
     ]
    },
    {
     "name": "stdout",
     "output_type": "stream",
     "text": [
      "Epoch  69 , loss 0.4227687225622289\n",
      "Epoch  70 , loss 0.42542679929265786\n"
     ]
    },
    {
     "name": "stderr",
     "output_type": "stream",
     "text": [
      "\r",
      "Iterations:  24%|████████                          | 71/300 [01:46<05:57,  1.56s/it]"
     ]
    },
    {
     "name": "stdout",
     "output_type": "stream",
     "text": [
      "Epoch:  70\n",
      "t_loss:  0.42542679929265786 , v_loss:  0.6246672322352728\n",
      "t_acc:  0.6974789915966386 , v_acc:  0.6894409937888198\n",
      "t_recall:  0.5036425522570374 , v_recall:  0.5\n",
      "t_prec:  0.7485794567592882 , v_prec:  0.3447204968944099\n",
      "t_f:  0.4187260736785523 , v_f:  0.4080882352941176\n",
      "////////\n"
     ]
    },
    {
     "name": "stderr",
     "output_type": "stream",
     "text": [
      "\r",
      "Iterations:  24%|████████▏                         | 72/300 [01:47<05:30,  1.45s/it]"
     ]
    },
    {
     "name": "stdout",
     "output_type": "stream",
     "text": [
      "Epoch  71 , loss 0.4271128738627714\n",
      "Epoch  72 , loss 0.42154955922388565\n"
     ]
    },
    {
     "name": "stderr",
     "output_type": "stream",
     "text": [
      "\r",
      "Iterations:  24%|████████▎                         | 73/300 [01:48<05:50,  1.54s/it]"
     ]
    },
    {
     "name": "stdout",
     "output_type": "stream",
     "text": [
      "Epoch:  72\n",
      "t_loss:  0.42154955922388565 , v_loss:  0.6165895859400431\n",
      "t_acc:  0.6993464052287581 , v_acc:  0.6894409937888198\n",
      "t_recall:  0.5084352397029961 , v_recall:  0.5\n",
      "t_prec:  0.7067503924646782 , v_prec:  0.3447204968944099\n",
      "t_f:  0.43076632456185404 , v_f:  0.4080882352941176\n",
      "////////\n"
     ]
    },
    {
     "name": "stderr",
     "output_type": "stream",
     "text": [
      "\r",
      "Iterations:  25%|████████▍                         | 74/300 [01:50<05:16,  1.40s/it]"
     ]
    },
    {
     "name": "stdout",
     "output_type": "stream",
     "text": [
      "Epoch  73 , loss 0.42292945875841026\n",
      "Epoch  74 , loss 0.4202151538110247\n"
     ]
    },
    {
     "name": "stderr",
     "output_type": "stream",
     "text": [
      "\r",
      "Iterations:  25%|████████▌                         | 75/300 [01:51<05:39,  1.51s/it]"
     ]
    },
    {
     "name": "stdout",
     "output_type": "stream",
     "text": [
      "Epoch:  74\n",
      "t_loss:  0.4202151538110247 , v_loss:  0.6119771152734756\n",
      "t_acc:  0.6981014628073452 , v_acc:  0.6894409937888198\n",
      "t_recall:  0.5066777837251754 , v_recall:  0.5\n",
      "t_prec:  0.6761543288841689 , v_prec:  0.3447204968944099\n",
      "t_f:  0.42748188360537925 , v_f:  0.4080882352941176\n",
      "////////\n"
     ]
    },
    {
     "name": "stderr",
     "output_type": "stream",
     "text": [
      "\r",
      "Iterations:  25%|████████▌                         | 76/300 [01:52<05:13,  1.40s/it]"
     ]
    },
    {
     "name": "stdout",
     "output_type": "stream",
     "text": [
      "Epoch  75 , loss 0.4227785856700411\n",
      "Epoch  76 , loss 0.42503680376445546\n"
     ]
    },
    {
     "name": "stderr",
     "output_type": "stream",
     "text": [
      "\r",
      "Iterations:  26%|████████▋                         | 77/300 [01:54<05:34,  1.50s/it]"
     ]
    },
    {
     "name": "stdout",
     "output_type": "stream",
     "text": [
      "Epoch:  76\n",
      "t_loss:  0.42503680376445546 , v_loss:  0.6059852639834086\n",
      "t_acc:  0.6987239340180517 , v_acc:  0.6894409937888198\n",
      "t_recall:  0.5088504138016222 , v_recall:  0.5054954954954954\n",
      "t_prec:  0.6691454202077431 , v_prec:  0.5959119496855345\n",
      "t_f:  0.43325155145042576 , v_f:  0.4266381766381766\n",
      "////////\n"
     ]
    },
    {
     "name": "stderr",
     "output_type": "stream",
     "text": [
      "\r",
      "Iterations:  26%|████████▊                         | 78/300 [01:55<05:02,  1.36s/it]"
     ]
    },
    {
     "name": "stdout",
     "output_type": "stream",
     "text": [
      "Epoch  77 , loss 0.4254040864168429\n",
      "Epoch  78 , loss 0.42097054158940034\n"
     ]
    },
    {
     "name": "stderr",
     "output_type": "stream",
     "text": [
      "\r",
      "Iterations:  26%|████████▉                         | 79/300 [01:57<05:34,  1.51s/it]"
     ]
    },
    {
     "name": "stdout",
     "output_type": "stream",
     "text": [
      "Epoch:  78\n",
      "t_loss:  0.42097054158940034 , v_loss:  0.6024490098158518\n",
      "t_acc:  0.7015250544662309 , v_acc:  0.6894409937888198\n",
      "t_recall:  0.5111513704176446 , v_recall:  0.5054954954954954\n",
      "t_prec:  0.7639815456593311 , v_prec:  0.5959119496855345\n",
      "t_f:  0.4353482075004403 , v_f:  0.4266381766381766\n",
      "////////\n"
     ]
    },
    {
     "name": "stderr",
     "output_type": "stream",
     "text": [
      "\r",
      "Iterations:  27%|█████████                         | 80/300 [01:58<05:03,  1.38s/it]"
     ]
    },
    {
     "name": "stdout",
     "output_type": "stream",
     "text": [
      "Epoch  79 , loss 0.4218817616210264\n",
      "Epoch  80 , loss 0.418668762141583\n"
     ]
    },
    {
     "name": "stderr",
     "output_type": "stream",
     "text": [
      "\r",
      "Iterations:  27%|█████████▏                        | 81/300 [02:00<05:23,  1.48s/it]"
     ]
    },
    {
     "name": "stdout",
     "output_type": "stream",
     "text": [
      "Epoch:  80\n",
      "t_loss:  0.418668762141583 , v_loss:  0.5982645054658254\n",
      "t_acc:  0.6987239340180517 , v_acc:  0.7018633540372671\n",
      "t_recall:  0.5085628800043919 , v_recall:  0.5254954954954955\n",
      "t_prec:  0.67316766278704 , v_prec:  0.7253184713375795\n",
      "t_f:  0.4323412730280593 , v_f:  0.4660033167495854\n",
      "////////\n"
     ]
    },
    {
     "name": "stderr",
     "output_type": "stream",
     "text": [
      "\r",
      "Iterations:  27%|█████████▎                        | 82/300 [02:01<05:11,  1.43s/it]"
     ]
    },
    {
     "name": "stdout",
     "output_type": "stream",
     "text": [
      "Epoch  81 , loss 0.42427613162526895\n",
      "Epoch  82 , loss 0.4247359095835218\n"
     ]
    },
    {
     "name": "stderr",
     "output_type": "stream",
     "text": [
      "\r",
      "Iterations:  28%|█████████▍                        | 83/300 [02:03<05:31,  1.53s/it]"
     ]
    },
    {
     "name": "stdout",
     "output_type": "stream",
     "text": [
      "Epoch:  82\n",
      "t_loss:  0.4247359095835218 , v_loss:  0.6021154622236887\n",
      "t_acc:  0.7009025832555245 , v_acc:  0.7018633540372671\n",
      "t_recall:  0.51099147692181 , v_recall:  0.5254954954954955\n",
      "t_prec:  0.7289451114922814 , v_prec:  0.7253184713375795\n",
      "t_f:  0.43599299670384767 , v_f:  0.4660033167495854\n",
      "////////\n"
     ]
    },
    {
     "name": "stderr",
     "output_type": "stream",
     "text": [
      "\r",
      "Iterations:  28%|█████████▌                        | 84/300 [02:04<05:11,  1.44s/it]"
     ]
    },
    {
     "name": "stdout",
     "output_type": "stream",
     "text": [
      "Epoch  83 , loss 0.42054033746906355\n",
      "Epoch  84 , loss 0.4191395920865676\n"
     ]
    },
    {
     "name": "stderr",
     "output_type": "stream",
     "text": [
      "\r",
      "Iterations:  28%|█████████▋                        | 85/300 [02:06<05:27,  1.52s/it]"
     ]
    },
    {
     "name": "stdout",
     "output_type": "stream",
     "text": [
      "Epoch:  84\n",
      "t_loss:  0.4191395920865676 , v_loss:  0.5949315428733826\n",
      "t_acc:  0.7002801120448179 , v_acc:  0.7080745341614907\n",
      "t_recall:  0.5125567862093575 , v_recall:  0.5354954954954955\n",
      "t_prec:  0.6770363012461622 , v_prec:  0.7525641025641026\n",
      "t_f:  0.4419755326322647 , v_f:  0.4847122914538645\n",
      "////////\n"
     ]
    },
    {
     "name": "stderr",
     "output_type": "stream",
     "text": [
      "\r",
      "Iterations:  29%|█████████▋                        | 86/300 [02:07<05:06,  1.43s/it]"
     ]
    },
    {
     "name": "stdout",
     "output_type": "stream",
     "text": [
      "Epoch  85 , loss 0.41645770388491016\n",
      "Epoch  86 , loss 0.4207783902392668\n"
     ]
    },
    {
     "name": "stderr",
     "output_type": "stream",
     "text": [
      "\r",
      "Iterations:  29%|█████████▊                        | 87/300 [02:09<05:37,  1.59s/it]"
     ]
    },
    {
     "name": "stdout",
     "output_type": "stream",
     "text": [
      "Epoch:  86\n",
      "t_loss:  0.4207783902392668 , v_loss:  0.591708242893219\n",
      "t_acc:  0.6977902272019919 , v_acc:  0.7080745341614907\n",
      "t_recall:  0.5084668066592553 , v_recall:  0.5354954954954955\n",
      "t_prec:  0.6423046166148925 , v_prec:  0.7525641025641026\n",
      "t_f:  0.43376149080182286 , v_f:  0.4847122914538645\n",
      "////////\n"
     ]
    },
    {
     "name": "stderr",
     "output_type": "stream",
     "text": [
      "\r",
      "Iterations:  29%|█████████▉                        | 88/300 [02:10<05:01,  1.42s/it]"
     ]
    },
    {
     "name": "stdout",
     "output_type": "stream",
     "text": [
      "Epoch  87 , loss 0.4159512531523611\n",
      "Epoch  88 , loss 0.4187115635357651\n"
     ]
    },
    {
     "name": "stderr",
     "output_type": "stream",
     "text": [
      "\r",
      "Iterations:  30%|██████████                        | 89/300 [02:12<05:33,  1.58s/it]"
     ]
    },
    {
     "name": "stdout",
     "output_type": "stream",
     "text": [
      "Epoch:  88\n",
      "t_loss:  0.4187115635357651 , v_loss:  0.5855917831261953\n",
      "t_acc:  0.7030812324929971 , v_acc:  0.7204968944099379\n",
      "t_recall:  0.5157203442170708 , v_recall:  0.5554954954954955\n",
      "t_prec:  0.7261848341232228 , v_prec:  0.7857142857142857\n",
      "t_f:  0.4467543859649123 , v_f:  0.5203574975173784\n",
      "////////\n"
     ]
    },
    {
     "name": "stderr",
     "output_type": "stream",
     "text": [
      "\r",
      "Iterations:  30%|██████████▏                       | 90/300 [02:13<05:00,  1.43s/it]"
     ]
    },
    {
     "name": "stdout",
     "output_type": "stream",
     "text": [
      "Epoch  89 , loss 0.43005041222946316\n",
      "Epoch  90 , loss 0.4190084916703841\n"
     ]
    },
    {
     "name": "stderr",
     "output_type": "stream",
     "text": [
      "\r",
      "Iterations:  30%|██████████▎                       | 91/300 [02:15<05:19,  1.53s/it]"
     ]
    },
    {
     "name": "stdout",
     "output_type": "stream",
     "text": [
      "Epoch:  90\n",
      "t_loss:  0.4190084916703841 , v_loss:  0.5828832487265269\n",
      "t_acc:  0.6981014628073452 , v_acc:  0.7204968944099379\n",
      "t_recall:  0.5115658582780912 , v_recall:  0.5554954954954955\n",
      "t_prec:  0.6336346336822074 , v_prec:  0.7857142857142857\n",
      "t_f:  0.44274045084130437 , v_f:  0.5203574975173784\n",
      "////////\n"
     ]
    },
    {
     "name": "stderr",
     "output_type": "stream",
     "text": [
      "\r",
      "Iterations:  31%|██████████▍                       | 92/300 [02:16<04:55,  1.42s/it]"
     ]
    },
    {
     "name": "stdout",
     "output_type": "stream",
     "text": [
      "Epoch  91 , loss 0.4144522465911566\n",
      "Epoch  92 , loss 0.4204834033461178\n"
     ]
    },
    {
     "name": "stderr",
     "output_type": "stream",
     "text": [
      "\r",
      "Iterations:  31%|██████████▌                       | 93/300 [02:18<05:19,  1.54s/it]"
     ]
    },
    {
     "name": "stdout",
     "output_type": "stream",
     "text": [
      "Epoch:  92\n",
      "t_loss:  0.4204834033461178 , v_loss:  0.5826301574707031\n",
      "t_acc:  0.7002801120448179 , v_acc:  0.7204968944099379\n",
      "t_recall:  0.5114066510204361 , v_recall:  0.5554954954954955\n",
      "t_prec:  0.6917156214437302 , v_prec:  0.7857142857142857\n",
      "t_f:  0.43842668964176673 , v_f:  0.5203574975173784\n",
      "////////\n"
     ]
    },
    {
     "name": "stderr",
     "output_type": "stream",
     "text": [
      "\r",
      "Iterations:  31%|██████████▋                       | 94/300 [02:19<04:45,  1.38s/it]"
     ]
    },
    {
     "name": "stdout",
     "output_type": "stream",
     "text": [
      "Epoch  93 , loss 0.41842569264711116\n",
      "Epoch  94 , loss 0.4193824769235125\n"
     ]
    },
    {
     "name": "stderr",
     "output_type": "stream",
     "text": [
      "\r",
      "Iterations:  32%|██████████▊                       | 95/300 [02:21<05:09,  1.51s/it]"
     ]
    },
    {
     "name": "stdout",
     "output_type": "stream",
     "text": [
      "Epoch:  94\n",
      "t_loss:  0.4193824769235125 , v_loss:  0.57975734770298\n",
      "t_acc:  0.7033924680983504 , v_acc:  0.7267080745341615\n",
      "t_recall:  0.5168066592552943 , v_recall:  0.5654954954954955\n",
      "t_prec:  0.7193485789347982 , v_prec:  0.7969771241830066\n",
      "t_f:  0.44950483123271273 , v_f:  0.5373563218390804\n",
      "////////\n"
     ]
    },
    {
     "name": "stderr",
     "output_type": "stream",
     "text": [
      "\r",
      "Iterations:  32%|██████████▉                       | 96/300 [02:22<04:38,  1.37s/it]"
     ]
    },
    {
     "name": "stdout",
     "output_type": "stream",
     "text": [
      "Epoch  95 , loss 0.42161763649360806\n",
      "Epoch  96 , loss 0.41647300825399514\n"
     ]
    },
    {
     "name": "stderr",
     "output_type": "stream",
     "text": [
      "\r",
      "Iterations:  32%|██████████▉                       | 97/300 [02:23<04:57,  1.46s/it]"
     ]
    },
    {
     "name": "stdout",
     "output_type": "stream",
     "text": [
      "Epoch:  96\n",
      "t_loss:  0.41647300825399514 , v_loss:  0.5804831435283025\n",
      "t_acc:  0.6984126984126984 , v_acc:  0.7267080745341615\n",
      "t_recall:  0.5117895719246236 , v_recall:  0.5654954954954955\n",
      "t_prec:  0.6384843566952914 , v_prec:  0.7969771241830066\n",
      "t_f:  0.4428815224698764 , v_f:  0.5373563218390804\n",
      "////////\n"
     ]
    },
    {
     "name": "stderr",
     "output_type": "stream",
     "text": [
      "\r",
      "Iterations:  33%|███████████                       | 98/300 [02:24<04:28,  1.33s/it]"
     ]
    },
    {
     "name": "stdout",
     "output_type": "stream",
     "text": [
      "Epoch  97 , loss 0.41117990484424666\n",
      "Epoch  98 , loss 0.4180925377443725\n"
     ]
    },
    {
     "name": "stderr",
     "output_type": "stream",
     "text": [
      "\r",
      "Iterations:  33%|███████████▏                      | 99/300 [02:26<04:55,  1.47s/it]"
     ]
    },
    {
     "name": "stdout",
     "output_type": "stream",
     "text": [
      "Epoch:  98\n",
      "t_loss:  0.4180925377443725 , v_loss:  0.5750140448411306\n",
      "t_acc:  0.7024587612822907 , v_acc:  0.7267080745341615\n",
      "t_recall:  0.5164230521129274 , v_recall:  0.5654954954954955\n",
      "t_prec:  0.6961746543526969 , v_prec:  0.7969771241830066\n",
      "t_f:  0.44992729278443566 , v_f:  0.5373563218390804\n",
      "////////\n"
     ]
    },
    {
     "name": "stderr",
     "output_type": "stream",
     "text": [
      "\r",
      "Iterations:  33%|███████████                      | 100/300 [02:27<04:31,  1.36s/it]"
     ]
    },
    {
     "name": "stdout",
     "output_type": "stream",
     "text": [
      "Epoch  99 , loss 0.41129008782844917\n",
      "Epoch  100 , loss 0.4184223787457335\n"
     ]
    },
    {
     "name": "stderr",
     "output_type": "stream",
     "text": [
      "\r",
      "Iterations:  34%|███████████                      | 101/300 [02:29<04:56,  1.49s/it]"
     ]
    },
    {
     "name": "stdout",
     "output_type": "stream",
     "text": [
      "Epoch:  100\n",
      "t_loss:  0.4184223787457335 , v_loss:  0.5739094267288843\n",
      "t_acc:  0.7061935885465297 , v_acc:  0.7267080745341615\n",
      "t_recall:  0.5208328186546987 , v_recall:  0.5654954954954955\n",
      "t_prec:  0.748849663916061 , v_prec:  0.7969771241830066\n",
      "t_f:  0.4568319711176855 , v_f:  0.5373563218390804\n",
      "////////\n"
     ]
    },
    {
     "name": "stderr",
     "output_type": "stream",
     "text": [
      "\r",
      "Iterations:  34%|███████████▏                     | 102/300 [02:30<04:35,  1.39s/it]"
     ]
    },
    {
     "name": "stdout",
     "output_type": "stream",
     "text": [
      "Epoch  101 , loss 0.4152261094719756\n",
      "Epoch  102 , loss 0.4104653228731716\n"
     ]
    },
    {
     "name": "stderr",
     "output_type": "stream",
     "text": [
      "\r",
      "Iterations:  34%|███████████▎                     | 103/300 [02:32<04:53,  1.49s/it]"
     ]
    },
    {
     "name": "stdout",
     "output_type": "stream",
     "text": [
      "Epoch:  102\n",
      "t_loss:  0.4104653228731716 , v_loss:  0.569654698173205\n",
      "t_acc:  0.7055711173358232 , v_acc:  0.7267080745341615\n",
      "t_recall:  0.5223981279422462 , v_recall:  0.5654954954954955\n",
      "t_prec:  0.7107681909370345 , v_prec:  0.7969771241830066\n",
      "t_f:  0.4623638529973213 , v_f:  0.5373563218390804\n",
      "////////\n"
     ]
    },
    {
     "name": "stderr",
     "output_type": "stream",
     "text": [
      "\r",
      "Iterations:  35%|███████████▍                     | 104/300 [02:33<04:30,  1.38s/it]"
     ]
    },
    {
     "name": "stdout",
     "output_type": "stream",
     "text": [
      "Epoch  103 , loss 0.41212355798366024\n",
      "Epoch  104 , loss 0.41426442008392483\n"
     ]
    },
    {
     "name": "stderr",
     "output_type": "stream",
     "text": [
      "\r",
      "Iterations:  35%|███████████▌                     | 105/300 [02:35<05:00,  1.54s/it]"
     ]
    },
    {
     "name": "stdout",
     "output_type": "stream",
     "text": [
      "Epoch:  104\n",
      "t_loss:  0.41426442008392483 , v_loss:  0.5743569880723953\n",
      "t_acc:  0.7018362900715842 , v_acc:  0.7267080745341615\n",
      "t_recall:  0.5168382262115535 , v_recall:  0.5654954954954955\n",
      "t_prec:  0.6772033971747985 , v_prec:  0.7969771241830066\n",
      "t_f:  0.4521873678545343 , v_f:  0.5373563218390804\n",
      "////////\n"
     ]
    },
    {
     "name": "stderr",
     "output_type": "stream",
     "text": [
      "\r",
      "Iterations:  35%|███████████▋                     | 106/300 [02:36<04:42,  1.46s/it]"
     ]
    },
    {
     "name": "stdout",
     "output_type": "stream",
     "text": [
      "Epoch  105 , loss 0.4145992065177244\n",
      "Epoch  106 , loss 0.41088714377552854\n"
     ]
    },
    {
     "name": "stderr",
     "output_type": "stream",
     "text": [
      "\r",
      "Iterations:  36%|███████████▊                     | 107/300 [02:38<05:20,  1.66s/it]"
     ]
    },
    {
     "name": "stdout",
     "output_type": "stream",
     "text": [
      "Epoch:  106\n",
      "t_loss:  0.41088714377552854 , v_loss:  0.5741296857595444\n",
      "t_acc:  0.7046374105197635 , v_acc:  0.7267080745341615\n",
      "t_recall:  0.5205768518137275 , v_recall:  0.5654954954954955\n",
      "t_prec:  0.7073307334882177 , v_prec:  0.7969771241830066\n",
      "t_f:  0.4585869594746843 , v_f:  0.5373563218390804\n",
      "////////\n"
     ]
    },
    {
     "name": "stderr",
     "output_type": "stream",
     "text": [
      "\r",
      "Iterations:  36%|███████████▉                     | 108/300 [02:40<04:48,  1.50s/it]"
     ]
    },
    {
     "name": "stdout",
     "output_type": "stream",
     "text": [
      "Epoch  107 , loss 0.41533585272583307\n",
      "Epoch  108 , loss 0.4148104319385454\n"
     ]
    },
    {
     "name": "stderr",
     "output_type": "stream",
     "text": [
      "\r",
      "Iterations:  36%|███████████▉                     | 109/300 [02:41<05:04,  1.60s/it]"
     ]
    },
    {
     "name": "stdout",
     "output_type": "stream",
     "text": [
      "Epoch:  108\n",
      "t_loss:  0.4148104319385454 , v_loss:  0.569311261177063\n",
      "t_acc:  0.707749766573296 , v_acc:  0.7267080745341615\n",
      "t_recall:  0.5256893262513553 , v_recall:  0.5654954954954955\n",
      "t_prec:  0.7267999806127972 , v_prec:  0.7969771241830066\n",
      "t_f:  0.4683719019783674 , v_f:  0.5373563218390804\n",
      "////////\n"
     ]
    },
    {
     "name": "stderr",
     "output_type": "stream",
     "text": [
      "\r",
      "Iterations:  37%|████████████                     | 110/300 [02:43<04:39,  1.47s/it]"
     ]
    },
    {
     "name": "stdout",
     "output_type": "stream",
     "text": [
      "Epoch  109 , loss 0.41304642838590283\n",
      "Epoch  110 , loss 0.41546603043874103\n"
     ]
    },
    {
     "name": "stderr",
     "output_type": "stream",
     "text": [
      "\r",
      "Iterations:  37%|████████████▏                    | 111/300 [02:44<04:55,  1.56s/it]"
     ]
    },
    {
     "name": "stdout",
     "output_type": "stream",
     "text": [
      "Epoch:  110\n",
      "t_loss:  0.41546603043874103 , v_loss:  0.5651872853438059\n",
      "t_acc:  0.7055711173358232 , v_acc:  0.7267080745341615\n",
      "t_recall:  0.5235482631311676 , v_recall:  0.5709909909909909\n",
      "t_prec:  0.700483364622851 , v_prec:  0.7609271523178809\n",
      "t_f:  0.46562598893100515 , v_f:  0.5493638676844783\n",
      "////////\n"
     ]
    },
    {
     "name": "stderr",
     "output_type": "stream",
     "text": [
      "\r",
      "Iterations:  37%|████████████▎                    | 112/300 [02:45<04:25,  1.41s/it]"
     ]
    },
    {
     "name": "stdout",
     "output_type": "stream",
     "text": [
      "Epoch  111 , loss 0.41565635741925705\n",
      "Epoch  112 , loss 0.4139820296390384\n"
     ]
    },
    {
     "name": "stderr",
     "output_type": "stream",
     "text": [
      "\r",
      "Iterations:  38%|████████████▍                    | 113/300 [02:47<04:50,  1.55s/it]"
     ]
    },
    {
     "name": "stdout",
     "output_type": "stream",
     "text": [
      "Epoch:  112\n",
      "t_loss:  0.4139820296390384 , v_loss:  0.5657177617152532\n",
      "t_acc:  0.7068160597572363 , v_acc:  0.7267080745341615\n",
      "t_recall:  0.5244431177172972 , v_recall:  0.5709909909909909\n",
      "t_prec:  0.7184946632315052 , v_prec:  0.7609271523178809\n",
      "t_f:  0.46626777552056875 , v_f:  0.5493638676844783\n",
      "////////\n"
     ]
    },
    {
     "name": "stderr",
     "output_type": "stream",
     "text": [
      "\r",
      "Iterations:  38%|████████████▌                    | 114/300 [02:48<04:24,  1.42s/it]"
     ]
    },
    {
     "name": "stdout",
     "output_type": "stream",
     "text": [
      "Epoch  113 , loss 0.4178004603759915\n",
      "Epoch  114 , loss 0.4080707004257277\n"
     ]
    },
    {
     "name": "stderr",
     "output_type": "stream",
     "text": [
      "\r",
      "Iterations:  38%|████████████▋                    | 115/300 [02:50<04:39,  1.51s/it]"
     ]
    },
    {
     "name": "stdout",
     "output_type": "stream",
     "text": [
      "Epoch:  114\n",
      "t_loss:  0.4080707004257277 , v_loss:  0.566591406861941\n",
      "t_acc:  0.7080610021786492 , v_acc:  0.7204968944099379\n",
      "t_recall:  0.5256255061006574 , v_recall:  0.5609909909909909\n",
      "t_prec:  0.7349420331191383 , v_prec:  0.7474415204678362\n",
      "t_f:  0.4677239209281099 , v_f:  0.5330927369981311\n",
      "////////\n"
     ]
    },
    {
     "name": "stderr",
     "output_type": "stream",
     "text": [
      "\r",
      "Iterations:  39%|████████████▊                    | 116/300 [02:51<04:27,  1.45s/it]"
     ]
    },
    {
     "name": "stdout",
     "output_type": "stream",
     "text": [
      "Epoch  115 , loss 0.4208039404714809\n",
      "Epoch  116 , loss 0.41633612092803507\n"
     ]
    },
    {
     "name": "stderr",
     "output_type": "stream",
     "text": [
      "\r",
      "Iterations:  39%|████████████▊                    | 117/300 [02:53<04:40,  1.53s/it]"
     ]
    },
    {
     "name": "stdout",
     "output_type": "stream",
     "text": [
      "Epoch:  116\n",
      "t_loss:  0.41633612092803507 , v_loss:  0.5608411977688471\n",
      "t_acc:  0.7009025832555245 , v_acc:  0.7267080745341615\n",
      "t_recall:  0.5161670852719562 , v_recall:  0.5709909909909909\n",
      "t_prec:  0.6628982741453701 , v_prec:  0.7609271523178809\n",
      "t_f:  0.4517408514806866 , v_f:  0.5493638676844783\n",
      "////////\n"
     ]
    },
    {
     "name": "stderr",
     "output_type": "stream",
     "text": [
      "\r",
      "Iterations:  39%|████████████▉                    | 118/300 [02:54<04:25,  1.46s/it]"
     ]
    },
    {
     "name": "stdout",
     "output_type": "stream",
     "text": [
      "Epoch  117 , loss 0.41377413974088784\n",
      "Epoch  118 , loss 0.4107908337723975\n"
     ]
    },
    {
     "name": "stderr",
     "output_type": "stream",
     "text": [
      "\r",
      "Iterations:  40%|█████████████                    | 119/300 [02:56<04:39,  1.54s/it]"
     ]
    },
    {
     "name": "stdout",
     "output_type": "stream",
     "text": [
      "Epoch:  118\n",
      "t_loss:  0.4107908337723975 , v_loss:  0.5576848338047663\n",
      "t_acc:  0.707749766573296 , v_acc:  0.7267080745341615\n",
      "t_recall:  0.5248267248596643 , v_recall:  0.5709909909909909\n",
      "t_prec:  0.7367463572114126 , v_prec:  0.7609271523178809\n",
      "t_f:  0.4659337508021153 , v_f:  0.5493638676844783\n",
      "////////\n"
     ]
    },
    {
     "name": "stderr",
     "output_type": "stream",
     "text": [
      "\r",
      "Iterations:  40%|█████████████▏                   | 120/300 [02:57<04:18,  1.44s/it]"
     ]
    },
    {
     "name": "stdout",
     "output_type": "stream",
     "text": [
      "Epoch  119 , loss 0.40722454938234065\n",
      "Epoch  120 , loss 0.4124937484077379\n"
     ]
    },
    {
     "name": "stderr",
     "output_type": "stream",
     "text": [
      "\r",
      "Iterations:  40%|█████████████▎                   | 121/300 [02:59<04:32,  1.52s/it]"
     ]
    },
    {
     "name": "stdout",
     "output_type": "stream",
     "text": [
      "Epoch:  120\n",
      "t_loss:  0.4124937484077379 , v_loss:  0.5536744048198065\n",
      "t_acc:  0.7058823529411765 , v_acc:  0.7329192546583851\n",
      "t_recall:  0.5249221119666213 , v_recall:  0.5809909909909909\n",
      "t_prec:  0.6959296637845459 , v_prec:  0.7724242424242425\n",
      "t_f:  0.4690001998932154 , v_f:  0.5651655046793542\n",
      "////////\n"
     ]
    },
    {
     "name": "stderr",
     "output_type": "stream",
     "text": [
      "\r",
      "Iterations:  41%|█████████████▍                   | 122/300 [03:00<04:16,  1.44s/it]"
     ]
    },
    {
     "name": "stdout",
     "output_type": "stream",
     "text": [
      "Epoch  121 , loss 0.41432524603955884\n",
      "Epoch  122 , loss 0.41227800355238076\n"
     ]
    },
    {
     "name": "stderr",
     "output_type": "stream",
     "text": [
      "\r",
      "Iterations:  41%|█████████████▌                   | 123/300 [03:02<04:48,  1.63s/it]"
     ]
    },
    {
     "name": "stdout",
     "output_type": "stream",
     "text": [
      "Epoch:  122\n",
      "t_loss:  0.41227800355238076 , v_loss:  0.5564798464377722\n",
      "t_acc:  0.7071272953625894 , v_acc:  0.7267080745341615\n",
      "t_recall:  0.5243792975665994 , v_recall:  0.5709909909909909\n",
      "t_prec:  0.7264244741873804 , v_prec:  0.7609271523178809\n",
      "t_f:  0.465613919550268 , v_f:  0.5493638676844783\n",
      "////////\n"
     ]
    },
    {
     "name": "stderr",
     "output_type": "stream",
     "text": [
      "\r",
      "Iterations:  41%|█████████████▋                   | 124/300 [03:04<04:18,  1.47s/it]"
     ]
    },
    {
     "name": "stdout",
     "output_type": "stream",
     "text": [
      "Epoch  123 , loss 0.4113803371494892\n",
      "Epoch  124 , loss 0.4110513569093218\n"
     ]
    },
    {
     "name": "stderr",
     "output_type": "stream",
     "text": [
      "\r",
      "Iterations:  42%|█████████████▊                   | 125/300 [03:05<04:36,  1.58s/it]"
     ]
    },
    {
     "name": "stdout",
     "output_type": "stream",
     "text": [
      "Epoch:  124\n",
      "t_loss:  0.4110513569093218 , v_loss:  0.5602106551329294\n",
      "t_acc:  0.7093059446000622 , v_acc:  0.7204968944099379\n",
      "t_recall:  0.5293956986590906 , v_recall:  0.5609909909909909\n",
      "t_prec:  0.7237786105345276 , v_prec:  0.7474415204678362\n",
      "t_f:  0.47635946758984593 , v_f:  0.5330927369981311\n",
      "////////\n"
     ]
    },
    {
     "name": "stderr",
     "output_type": "stream",
     "text": [
      "\r",
      "Iterations:  42%|█████████████▊                   | 126/300 [03:07<04:14,  1.47s/it]"
     ]
    },
    {
     "name": "stdout",
     "output_type": "stream",
     "text": [
      "Epoch  125 , loss 0.4099420969392739\n",
      "Epoch  126 , loss 0.4143760087443333\n"
     ]
    },
    {
     "name": "stderr",
     "output_type": "stream",
     "text": [
      "\r",
      "Iterations:  42%|█████████████▉                   | 127/300 [03:08<04:31,  1.57s/it]"
     ]
    },
    {
     "name": "stdout",
     "output_type": "stream",
     "text": [
      "Epoch:  126\n",
      "t_loss:  0.4143760087443333 , v_loss:  0.5617281297842661\n",
      "t_acc:  0.708994708994709 , v_acc:  0.7267080745341615\n",
      "t_recall:  0.5277343160264064 , v_recall:  0.5709909909909909\n",
      "t_prec:  0.7333519381038531 , v_prec:  0.7609271523178809\n",
      "t_f:  0.472239082333658 , v_f:  0.5493638676844783\n",
      "////////\n"
     ]
    },
    {
     "name": "stderr",
     "output_type": "stream",
     "text": [
      "\r",
      "Iterations:  43%|██████████████                   | 128/300 [03:09<04:03,  1.42s/it]"
     ]
    },
    {
     "name": "stdout",
     "output_type": "stream",
     "text": [
      "Epoch  127 , loss 0.41552937030792236\n",
      "Epoch  128 , loss 0.4134264009840348\n"
     ]
    },
    {
     "name": "stderr",
     "output_type": "stream",
     "text": [
      "\r",
      "Iterations:  43%|██████████████▏                  | 129/300 [03:11<04:25,  1.55s/it]"
     ]
    },
    {
     "name": "stdout",
     "output_type": "stream",
     "text": [
      "Epoch:  128\n",
      "t_loss:  0.4134264009840348 , v_loss:  0.5575273384650549\n",
      "t_acc:  0.712729536258948 , v_acc:  0.7329192546583851\n",
      "t_recall:  0.5335817515543295 , v_recall:  0.5809909909909909\n",
      "t_prec:  0.7529776674937965 , v_prec:  0.7724242424242425\n",
      "t_f:  0.4829131652661065 , v_f:  0.5651655046793542\n",
      "////////\n"
     ]
    },
    {
     "name": "stderr",
     "output_type": "stream",
     "text": [
      "\r",
      "Iterations:  43%|██████████████▎                  | 130/300 [03:12<03:59,  1.41s/it]"
     ]
    },
    {
     "name": "stdout",
     "output_type": "stream",
     "text": [
      "Epoch  129 , loss 0.4136587644324583\n",
      "Epoch  130 , loss 0.4123572233845206\n"
     ]
    },
    {
     "name": "stderr",
     "output_type": "stream",
     "text": [
      "\r",
      "Iterations:  44%|██████████████▍                  | 131/300 [03:14<04:22,  1.56s/it]"
     ]
    },
    {
     "name": "stdout",
     "output_type": "stream",
     "text": [
      "Epoch:  130\n",
      "t_loss:  0.4123572233845206 , v_loss:  0.5582148134708405\n",
      "t_acc:  0.711484593837535 , v_acc:  0.7329192546583851\n",
      "t_recall:  0.5326868969681997 , v_recall:  0.5809909909909909\n",
      "t_prec:  0.7363855326019348 , v_prec:  0.7724242424242425\n",
      "t_f:  0.48221788581138925 , v_f:  0.5651655046793542\n",
      "////////\n"
     ]
    },
    {
     "name": "stderr",
     "output_type": "stream",
     "text": [
      "\r",
      "Iterations:  44%|██████████████▌                  | 132/300 [03:15<03:56,  1.41s/it]"
     ]
    },
    {
     "name": "stdout",
     "output_type": "stream",
     "text": [
      "Epoch  131 , loss 0.4037906068797205\n",
      "Epoch  132 , loss 0.4101933012990391\n"
     ]
    },
    {
     "name": "stderr",
     "output_type": "stream",
     "text": [
      "\r",
      "Iterations:  44%|██████████████▋                  | 133/300 [03:17<04:11,  1.50s/it]"
     ]
    },
    {
     "name": "stdout",
     "output_type": "stream",
     "text": [
      "Epoch:  132\n",
      "t_loss:  0.4101933012990391 , v_loss:  0.5576099157333374\n",
      "t_acc:  0.710239651416122 , v_acc:  0.7329192546583851\n",
      "t_recall:  0.5306419071931486 , v_recall:  0.5809909909909909\n",
      "t_prec:  0.7308312655086848 , v_prec:  0.7724242424242425\n",
      "t_f:  0.4784313725490196 , v_f:  0.5651655046793542\n",
      "////////\n"
     ]
    },
    {
     "name": "stderr",
     "output_type": "stream",
     "text": [
      "\r",
      "Iterations:  45%|██████████████▋                  | 134/300 [03:18<04:00,  1.45s/it]"
     ]
    },
    {
     "name": "stdout",
     "output_type": "stream",
     "text": [
      "Epoch  133 , loss 0.4144554272586224\n",
      "Epoch  134 , loss 0.41463786831089094\n"
     ]
    },
    {
     "name": "stderr",
     "output_type": "stream",
     "text": [
      "\r",
      "Iterations:  45%|██████████████▊                  | 135/300 [03:20<04:22,  1.59s/it]"
     ]
    },
    {
     "name": "stdout",
     "output_type": "stream",
     "text": [
      "Epoch:  134\n",
      "t_loss:  0.41463786831089094 , v_loss:  0.555668463309606\n",
      "t_acc:  0.7093059446000622 , v_acc:  0.7329192546583851\n",
      "t_recall:  0.529683232456321 , v_recall:  0.5809909909909909\n",
      "t_prec:  0.7213014946143403 , v_prec:  0.7724242424242425\n",
      "t_f:  0.4771411665988325 , v_f:  0.5651655046793542\n",
      "////////\n"
     ]
    },
    {
     "name": "stderr",
     "output_type": "stream",
     "text": [
      "\r",
      "Iterations:  45%|██████████████▉                  | 136/300 [03:21<03:58,  1.45s/it]"
     ]
    },
    {
     "name": "stdout",
     "output_type": "stream",
     "text": [
      "Epoch  135 , loss 0.41137539054833205\n",
      "Epoch  136 , loss 0.4071338422158185\n"
     ]
    },
    {
     "name": "stderr",
     "output_type": "stream",
     "text": [
      "\r",
      "Iterations:  46%|███████████████                  | 137/300 [03:23<04:16,  1.57s/it]"
     ]
    },
    {
     "name": "stdout",
     "output_type": "stream",
     "text": [
      "Epoch:  136\n",
      "t_loss:  0.4071338422158185 , v_loss:  0.5574193795522054\n",
      "t_acc:  0.7080610021786492 , v_acc:  0.7329192546583851\n",
      "t_recall:  0.5264881074923484 , v_recall:  0.5809909909909909\n",
      "t_prec:  0.7255123820800649 , v_prec:  0.7724242424242425\n",
      "t_f:  0.470145008052096 , v_f:  0.5651655046793542\n",
      "////////\n"
     ]
    },
    {
     "name": "stderr",
     "output_type": "stream",
     "text": [
      "\r",
      "Iterations:  46%|███████████████▏                 | 138/300 [03:25<04:06,  1.52s/it]"
     ]
    },
    {
     "name": "stdout",
     "output_type": "stream",
     "text": [
      "Epoch  137 , loss 0.41114574670791626\n",
      "Epoch  138 , loss 0.4079771544419083\n"
     ]
    },
    {
     "name": "stderr",
     "output_type": "stream",
     "text": [
      "\r",
      "Iterations:  46%|███████████████▎                 | 139/300 [03:26<04:19,  1.61s/it]"
     ]
    },
    {
     "name": "stdout",
     "output_type": "stream",
     "text": [
      "Epoch:  138\n",
      "t_loss:  0.4079771544419083 , v_loss:  0.5592540800571442\n",
      "t_acc:  0.7083722377840025 , v_acc:  0.7267080745341615\n",
      "t_recall:  0.528437023922263 , v_recall:  0.5709909909909909\n",
      "t_prec:  0.7142214640198512 , v_prec:  0.7609271523178809\n",
      "t_f:  0.47507002801120446 , v_f:  0.5493638676844783\n",
      "////////\n"
     ]
    },
    {
     "name": "stderr",
     "output_type": "stream",
     "text": [
      "\r",
      "Iterations:  47%|███████████████▍                 | 140/300 [03:28<03:53,  1.46s/it]"
     ]
    },
    {
     "name": "stdout",
     "output_type": "stream",
     "text": [
      "Epoch  139 , loss 0.4050528494750752\n",
      "Epoch  140 , loss 0.40039198275874643\n"
     ]
    },
    {
     "name": "stderr",
     "output_type": "stream",
     "text": [
      "\r",
      "Iterations:  47%|███████████████▌                 | 141/300 [03:29<04:08,  1.57s/it]"
     ]
    },
    {
     "name": "stdout",
     "output_type": "stream",
     "text": [
      "Epoch:  140\n",
      "t_loss:  0.40039198275874643 , v_loss:  0.5540398359298706\n",
      "t_acc:  0.707749766573296 , v_acc:  0.7329192546583851\n",
      "t_recall:  0.5265519276430464 , v_recall:  0.5809909909909909\n",
      "t_prec:  0.7182864450127877 , v_prec:  0.7724242424242425\n",
      "t_f:  0.47078120897007103 , v_f:  0.5651655046793542\n",
      "////////\n"
     ]
    },
    {
     "name": "stderr",
     "output_type": "stream",
     "text": [
      "\r",
      "Iterations:  47%|███████████████▌                 | 142/300 [03:31<03:48,  1.45s/it]"
     ]
    },
    {
     "name": "stdout",
     "output_type": "stream",
     "text": [
      "Epoch  141 , loss 0.41055215690650193\n",
      "Epoch  142 , loss 0.40788912773132324\n"
     ]
    },
    {
     "name": "stderr",
     "output_type": "stream",
     "text": [
      "\r",
      "Iterations:  48%|███████████████▋                 | 143/300 [03:32<04:03,  1.55s/it]"
     ]
    },
    {
     "name": "stdout",
     "output_type": "stream",
     "text": [
      "Epoch:  142\n",
      "t_loss:  0.40788912773132324 , v_loss:  0.5546361207962036\n",
      "t_acc:  0.7117958294428882 , v_acc:  0.7329192546583851\n",
      "t_recall:  0.5317604754258108 , v_recall:  0.5809909909909909\n",
      "t_prec:  0.7524472727272726 , v_prec:  0.7724242424242425\n",
      "t_f:  0.47928544426087194 , v_f:  0.5651655046793542\n",
      "////////\n"
     ]
    },
    {
     "name": "stderr",
     "output_type": "stream",
     "text": [
      "\r",
      "Iterations:  48%|███████████████▊                 | 144/300 [03:34<03:44,  1.44s/it]"
     ]
    },
    {
     "name": "stdout",
     "output_type": "stream",
     "text": [
      "Epoch  143 , loss 0.41637002837424186\n",
      "Epoch  144 , loss 0.4079060969399471\n"
     ]
    },
    {
     "name": "stderr",
     "output_type": "stream",
     "text": [
      "\r",
      "Iterations:  48%|███████████████▉                 | 145/300 [03:35<03:58,  1.54s/it]"
     ]
    },
    {
     "name": "stdout",
     "output_type": "stream",
     "text": [
      "Epoch:  144\n",
      "t_loss:  0.4079060969399471 , v_loss:  0.5517595609029134\n",
      "t_acc:  0.708994708994709 , v_acc:  0.7329192546583851\n",
      "t_recall:  0.5311847215931705 , v_recall:  0.5809909909909909\n",
      "t_prec:  0.7051034777428071 , v_prec:  0.7724242424242425\n",
      "t_f:  0.4815939989490913 , v_f:  0.5651655046793542\n",
      "////////\n"
     ]
    },
    {
     "name": "stderr",
     "output_type": "stream",
     "text": [
      "\r",
      "Iterations:  49%|████████████████                 | 146/300 [03:37<03:49,  1.49s/it]"
     ]
    },
    {
     "name": "stdout",
     "output_type": "stream",
     "text": [
      "Epoch  145 , loss 0.40546469711789895\n",
      "Epoch  146 , loss 0.40593717495600384\n"
     ]
    },
    {
     "name": "stderr",
     "output_type": "stream",
     "text": [
      "\r",
      "Iterations:  49%|████████████████▏                | 147/300 [03:38<03:59,  1.57s/it]"
     ]
    },
    {
     "name": "stdout",
     "output_type": "stream",
     "text": [
      "Epoch:  146\n",
      "t_loss:  0.40593717495600384 , v_loss:  0.5528049816687902\n",
      "t_acc:  0.7096171802054155 , v_acc:  0.7267080745341615\n",
      "t_recall:  0.5310570812917748 , v_recall:  0.5709909909909909\n",
      "t_prec:  0.7159812542950953 , v_prec:  0.7609271523178809\n",
      "t_f:  0.4804100521144872 , v_f:  0.5493638676844783\n",
      "////////\n"
     ]
    },
    {
     "name": "stderr",
     "output_type": "stream",
     "text": [
      "\r",
      "Iterations:  49%|████████████████▎                | 148/300 [03:40<03:40,  1.45s/it]"
     ]
    },
    {
     "name": "stdout",
     "output_type": "stream",
     "text": [
      "Epoch  147 , loss 0.40472811285187216\n",
      "Epoch  148 , loss 0.40659274774439197\n"
     ]
    },
    {
     "name": "stderr",
     "output_type": "stream",
     "text": [
      "\r",
      "Iterations:  50%|████████████████▍                | 149/300 [03:42<03:58,  1.58s/it]"
     ]
    },
    {
     "name": "stdout",
     "output_type": "stream",
     "text": [
      "Epoch:  148\n",
      "t_loss:  0.40659274774439197 , v_loss:  0.5540949900945028\n",
      "t_acc:  0.7083722377840025 , v_acc:  0.7267080745341615\n",
      "t_recall:  0.5295871591111844 , v_recall:  0.5709909909909909\n",
      "t_prec:  0.7057589274351599 , v_prec:  0.7609271523178809\n",
      "t_f:  0.47818244247725034 , v_f:  0.5493638676844783\n",
      "////////\n"
     ]
    },
    {
     "name": "stderr",
     "output_type": "stream",
     "text": [
      "\r",
      "Iterations:  50%|████████████████▌                | 150/300 [03:43<03:33,  1.42s/it]"
     ]
    },
    {
     "name": "stdout",
     "output_type": "stream",
     "text": [
      "Epoch  149 , loss 0.40701591033561557\n",
      "Epoch  150 , loss 0.40768495552680073\n"
     ]
    },
    {
     "name": "stderr",
     "output_type": "stream",
     "text": [
      "\r",
      "Iterations:  50%|████████████████▌                | 151/300 [03:45<04:06,  1.65s/it]"
     ]
    },
    {
     "name": "stdout",
     "output_type": "stream",
     "text": [
      "Epoch:  150\n",
      "t_loss:  0.40768495552680073 , v_loss:  0.5547915349404017\n",
      "t_acc:  0.7149081854964208 , v_acc:  0.7329192546583851\n",
      "t_recall:  0.53802308505236 , v_recall:  0.5809909909909909\n",
      "t_prec:  0.752357731476702 , v_prec:  0.7724242424242425\n",
      "t_f:  0.4917550953869703 , v_f:  0.5651655046793542\n",
      "////////\n"
     ]
    },
    {
     "name": "stderr",
     "output_type": "stream",
     "text": [
      "\r",
      "Iterations:  51%|████████████████▋                | 152/300 [03:46<03:36,  1.46s/it]"
     ]
    },
    {
     "name": "stdout",
     "output_type": "stream",
     "text": [
      "Epoch  151 , loss 0.40496095313745384\n",
      "Epoch  152 , loss 0.4099540844851849\n"
     ]
    },
    {
     "name": "stderr",
     "output_type": "stream",
     "text": [
      "\r",
      "Iterations:  51%|████████████████▊                | 153/300 [03:48<04:00,  1.64s/it]"
     ]
    },
    {
     "name": "stdout",
     "output_type": "stream",
     "text": [
      "Epoch:  152\n",
      "t_loss:  0.4099540844851849 , v_loss:  0.5505537887414297\n",
      "t_acc:  0.7058823529411765 , v_acc:  0.7329192546583851\n",
      "t_recall:  0.5260722471555427 , v_recall:  0.5809909909909909\n",
      "t_prec:  0.6885496208461813 , v_prec:  0.7724242424242425\n",
      "t_f:  0.47216386417665906 , v_f:  0.5651655046793542\n",
      "////////\n"
     ]
    },
    {
     "name": "stderr",
     "output_type": "stream",
     "text": [
      "\r",
      "Iterations:  51%|████████████████▉                | 154/300 [03:49<03:35,  1.48s/it]"
     ]
    },
    {
     "name": "stdout",
     "output_type": "stream",
     "text": [
      "Epoch  153 , loss 0.40591472212006063\n",
      "Epoch  154 , loss 0.4065888494837518\n"
     ]
    },
    {
     "name": "stderr",
     "output_type": "stream",
     "text": [
      "\r",
      "Iterations:  52%|█████████████████                | 155/300 [03:51<03:49,  1.58s/it]"
     ]
    },
    {
     "name": "stdout",
     "output_type": "stream",
     "text": [
      "Epoch:  154\n",
      "t_loss:  0.4065888494837518 , v_loss:  0.5523282090822855\n",
      "t_acc:  0.7121070650482415 , v_acc:  0.7329192546583851\n",
      "t_recall:  0.535147060841877 , v_recall:  0.5809909909909909\n",
      "t_prec:  0.7270686536460796 , v_prec:  0.7724242424242425\n",
      "t_f:  0.4878903101976689 , v_f:  0.5651655046793542\n",
      "////////\n"
     ]
    },
    {
     "name": "stderr",
     "output_type": "stream",
     "text": [
      "\r",
      "Iterations:  52%|█████████████████▏               | 156/300 [03:52<03:29,  1.45s/it]"
     ]
    },
    {
     "name": "stdout",
     "output_type": "stream",
     "text": [
      "Epoch  155 , loss 0.39809013289563794\n",
      "Epoch  156 , loss 0.4083310938348957\n"
     ]
    },
    {
     "name": "stderr",
     "output_type": "stream",
     "text": [
      "\r",
      "Iterations:  52%|█████████████████▎               | 157/300 [03:54<03:40,  1.54s/it]"
     ]
    },
    {
     "name": "stdout",
     "output_type": "stream",
     "text": [
      "Epoch:  156\n",
      "t_loss:  0.4083310938348957 , v_loss:  0.5544653534889221\n",
      "t_acc:  0.710239651416122 , v_acc:  0.7267080745341615\n",
      "t_recall:  0.5340923127599126 , v_recall:  0.5709909909909909\n",
      "t_prec:  0.7057245080500893 , v_prec:  0.7609271523178809\n",
      "t_f:  0.48756639248849454 , v_f:  0.5493638676844783\n",
      "////////\n"
     ]
    },
    {
     "name": "stderr",
     "output_type": "stream",
     "text": [
      "\r",
      "Iterations:  53%|█████████████████▍               | 158/300 [03:55<03:18,  1.39s/it]"
     ]
    },
    {
     "name": "stdout",
     "output_type": "stream",
     "text": [
      "Epoch  157 , loss 0.4086404933648951\n",
      "Epoch  158 , loss 0.40725920656148124\n"
     ]
    },
    {
     "name": "stderr",
     "output_type": "stream",
     "text": [
      "\r",
      "Iterations:  53%|█████████████████▍               | 159/300 [03:57<03:37,  1.54s/it]"
     ]
    },
    {
     "name": "stdout",
     "output_type": "stream",
     "text": [
      "Epoch:  158\n",
      "t_loss:  0.40725920656148124 , v_loss:  0.5516624649365743\n",
      "t_acc:  0.7099284158107687 , v_acc:  0.7267080745341615\n",
      "t_recall:  0.5347312005050713 , v_recall:  0.5709909909909909\n",
      "t_prec:  0.6981967752378366 , v_prec:  0.7609271523178809\n",
      "t_f:  0.489604312083351 , v_f:  0.5493638676844783\n",
      "////////\n"
     ]
    },
    {
     "name": "stderr",
     "output_type": "stream",
     "text": [
      "\r",
      "Iterations:  53%|█████████████████▌               | 160/300 [03:58<03:27,  1.48s/it]"
     ]
    },
    {
     "name": "stdout",
     "output_type": "stream",
     "text": [
      "Epoch  159 , loss 0.4046233676227869\n",
      "Epoch  160 , loss 0.40400846097983567\n"
     ]
    },
    {
     "name": "stderr",
     "output_type": "stream",
     "text": [
      "\r",
      "Iterations:  54%|█████████████████▋               | 161/300 [04:00<03:53,  1.68s/it]"
     ]
    },
    {
     "name": "stdout",
     "output_type": "stream",
     "text": [
      "Epoch:  160\n",
      "t_loss:  0.40400846097983567 , v_loss:  0.5518676986296972\n",
      "t_acc:  0.7133520074696545 , v_acc:  0.7329192546583851\n",
      "t_recall:  0.5374795844141584 , v_recall:  0.5809909909909909\n",
      "t_prec:  0.7299491958346198 , v_prec:  0.7724242424242425\n",
      "t_f:  0.4923333783384334 , v_f:  0.5651655046793542\n",
      "////////\n"
     ]
    },
    {
     "name": "stderr",
     "output_type": "stream",
     "text": [
      "\r",
      "Iterations:  54%|█████████████████▊               | 162/300 [04:01<03:28,  1.51s/it]"
     ]
    },
    {
     "name": "stdout",
     "output_type": "stream",
     "text": [
      "Epoch  161 , loss 0.4019843117863524\n",
      "Epoch  162 , loss 0.40723632831199497\n"
     ]
    },
    {
     "name": "stderr",
     "output_type": "stream",
     "text": [
      "\r",
      "Iterations:  54%|█████████████████▉               | 163/300 [04:03<03:37,  1.59s/it]"
     ]
    },
    {
     "name": "stdout",
     "output_type": "stream",
     "text": [
      "Epoch:  162\n",
      "t_loss:  0.40723632831199497 , v_loss:  0.5529129157463709\n",
      "t_acc:  0.7117958294428882 , v_acc:  0.7267080745341615\n",
      "t_recall:  0.5363610161814962 , v_recall:  0.5709909909909909\n",
      "t_prec:  0.7141367604267701 , v_prec:  0.7609271523178809\n",
      "t_f:  0.49142482646581015 , v_f:  0.5493638676844783\n",
      "////////\n"
     ]
    },
    {
     "name": "stderr",
     "output_type": "stream",
     "text": [
      "\r",
      "Iterations:  55%|██████████████████               | 164/300 [04:04<03:16,  1.44s/it]"
     ]
    },
    {
     "name": "stdout",
     "output_type": "stream",
     "text": [
      "Epoch  163 , loss 0.4022536447235182\n",
      "Epoch  164 , loss 0.4055375339938145\n"
     ]
    },
    {
     "name": "stderr",
     "output_type": "stream",
     "text": [
      "\r",
      "Iterations:  55%|██████████████████▏              | 165/300 [04:06<03:39,  1.63s/it]"
     ]
    },
    {
     "name": "stdout",
     "output_type": "stream",
     "text": [
      "Epoch:  164\n",
      "t_loss:  0.4055375339938145 , v_loss:  0.5505943894386292\n",
      "t_acc:  0.7170868347338936 , v_acc:  0.7453416149068323\n",
      "t_recall:  0.5447646889282333 , v_recall:  0.600990990990991\n",
      "t_prec:  0.7354775828460038 , v_prec:  0.7913201663201663\n",
      "t_f:  0.5060993149590362 , v_f:  0.5954525954525954\n",
      "////////\n"
     ]
    },
    {
     "name": "stderr",
     "output_type": "stream",
     "text": [
      "\r",
      "Iterations:  55%|██████████████████▎              | 166/300 [04:07<03:17,  1.48s/it]"
     ]
    },
    {
     "name": "stdout",
     "output_type": "stream",
     "text": [
      "Epoch  165 , loss 0.40302106971834223\n",
      "Epoch  166 , loss 0.4050993042833665\n"
     ]
    },
    {
     "name": "stderr",
     "output_type": "stream",
     "text": [
      "\r",
      "Iterations:  56%|██████████████████▎              | 167/300 [04:09<03:27,  1.56s/it]"
     ]
    },
    {
     "name": "stdout",
     "output_type": "stream",
     "text": [
      "Epoch:  166\n",
      "t_loss:  0.4050993042833665 , v_loss:  0.5495912929375967\n",
      "t_acc:  0.7133520074696545 , v_acc:  0.7453416149068323\n",
      "t_recall:  0.5380546520086191 , v_recall:  0.600990990990991\n",
      "t_prec:  0.7259211376858437 , v_prec:  0.7913201663201663\n",
      "t_f:  0.49380481714319047 , v_f:  0.5954525954525954\n",
      "////////\n"
     ]
    },
    {
     "name": "stderr",
     "output_type": "stream",
     "text": [
      "\r",
      "Iterations:  56%|██████████████████▍              | 168/300 [04:10<03:21,  1.53s/it]"
     ]
    },
    {
     "name": "stdout",
     "output_type": "stream",
     "text": [
      "Epoch  167 , loss 0.4004761079947154\n",
      "Epoch  168 , loss 0.4038517031015134\n"
     ]
    },
    {
     "name": "stderr",
     "output_type": "stream",
     "text": [
      "\r",
      "Iterations:  56%|██████████████████▌              | 169/300 [04:12<03:29,  1.60s/it]"
     ]
    },
    {
     "name": "stdout",
     "output_type": "stream",
     "text": [
      "Epoch:  168\n",
      "t_loss:  0.4038517031015134 , v_loss:  0.544895812869072\n",
      "t_acc:  0.7136632430750078 , v_acc:  0.7515527950310559\n",
      "t_recall:  0.5397160346413032 , v_recall:  0.610990990990991\n",
      "t_prec:  0.7198452694489466 , v_prec:  0.7993197278911565\n",
      "t_f:  0.4976206338631388 , v_f:  0.6099806201550388\n",
      "////////\n"
     ]
    },
    {
     "name": "stderr",
     "output_type": "stream",
     "text": [
      "\r",
      "Iterations:  57%|██████████████████▋              | 170/300 [04:13<03:14,  1.49s/it]"
     ]
    },
    {
     "name": "stdout",
     "output_type": "stream",
     "text": [
      "Epoch  169 , loss 0.4048081367623572\n",
      "Epoch  170 , loss 0.3957209037799461\n"
     ]
    },
    {
     "name": "stderr",
     "output_type": "stream",
     "text": [
      "\r",
      "Iterations:  57%|██████████████████▊              | 171/300 [04:15<03:28,  1.62s/it]"
     ]
    },
    {
     "name": "stdout",
     "output_type": "stream",
     "text": [
      "Epoch:  170\n",
      "t_loss:  0.3957209037799461 , v_loss:  0.5435023655494055\n",
      "t_acc:  0.7158418923124805 , v_acc:  0.7515527950310559\n",
      "t_recall:  0.5421446315587214 , v_recall:  0.610990990990991\n",
      "t_prec:  0.73504932103837 , v_prec:  0.7993197278911565\n",
      "t_f:  0.5010856837205268 , v_f:  0.6099806201550388\n",
      "////////\n"
     ]
    },
    {
     "name": "stderr",
     "output_type": "stream",
     "text": [
      "\r",
      "Iterations:  57%|██████████████████▉              | 172/300 [04:16<03:04,  1.44s/it]"
     ]
    },
    {
     "name": "stdout",
     "output_type": "stream",
     "text": [
      "Epoch  171 , loss 0.4021788660217734\n",
      "Epoch  172 , loss 0.40300380307085376\n"
     ]
    },
    {
     "name": "stderr",
     "output_type": "stream",
     "text": [
      "\r",
      "Iterations:  58%|███████████████████              | 173/300 [04:18<03:24,  1.61s/it]"
     ]
    },
    {
     "name": "stdout",
     "output_type": "stream",
     "text": [
      "Epoch:  172\n",
      "t_loss:  0.40300380307085376 , v_loss:  0.5476847688357035\n",
      "t_acc:  0.7124183006535948 , v_acc:  0.7515527950310559\n",
      "t_recall:  0.5376710448662522 , v_recall:  0.610990990990991\n",
      "t_prec:  0.7149732662204076 , v_prec:  0.7993197278911565\n",
      "t_f:  0.4939853909495884 , v_f:  0.6099806201550388\n",
      "////////\n"
     ]
    },
    {
     "name": "stderr",
     "output_type": "stream",
     "text": [
      "\r",
      "Iterations:  58%|███████████████████▏             | 174/300 [04:20<03:09,  1.51s/it]"
     ]
    },
    {
     "name": "stdout",
     "output_type": "stream",
     "text": [
      "Epoch  173 , loss 0.3977774995214799\n",
      "Epoch  174 , loss 0.40569431933702205\n"
     ]
    },
    {
     "name": "stderr",
     "output_type": "stream",
     "text": [
      "\r",
      "Iterations:  58%|███████████████████▎             | 175/300 [04:22<03:21,  1.61s/it]"
     ]
    },
    {
     "name": "stdout",
     "output_type": "stream",
     "text": [
      "Epoch:  174\n",
      "t_loss:  0.40569431933702205 , v_loss:  0.5474229454994202\n",
      "t_acc:  0.711484593837535 , v_acc:  0.7515527950310559\n",
      "t_recall:  0.5378625053183459 , v_recall:  0.610990990990991\n",
      "t_prec:  0.7020334928229666 , v_prec:  0.7993197278911565\n",
      "t_f:  0.49560226013193975 , v_f:  0.6099806201550388\n",
      "////////\n"
     ]
    },
    {
     "name": "stderr",
     "output_type": "stream",
     "text": [
      "\r",
      "Iterations:  59%|███████████████████▎             | 176/300 [04:23<03:00,  1.45s/it]"
     ]
    },
    {
     "name": "stdout",
     "output_type": "stream",
     "text": [
      "Epoch  175 , loss 0.4003005249827516\n",
      "Epoch  176 , loss 0.39963488309991124\n"
     ]
    },
    {
     "name": "stderr",
     "output_type": "stream",
     "text": [
      "\r",
      "Iterations:  59%|███████████████████▍             | 177/300 [04:24<03:09,  1.54s/it]"
     ]
    },
    {
     "name": "stdout",
     "output_type": "stream",
     "text": [
      "Epoch:  176\n",
      "t_loss:  0.39963488309991124 , v_loss:  0.5496264000733694\n",
      "t_acc:  0.7133520074696545 , v_acc:  0.7515527950310559\n",
      "t_recall:  0.5383421858058495 , v_recall:  0.610990990990991\n",
      "t_prec:  0.7240105096596923 , v_prec:  0.7993197278911565\n",
      "t_f:  0.49453630644989655 , v_f:  0.6099806201550388\n",
      "////////\n"
     ]
    },
    {
     "name": "stderr",
     "output_type": "stream",
     "text": [
      "\r",
      "Iterations:  59%|███████████████████▌             | 178/300 [04:26<02:56,  1.45s/it]"
     ]
    },
    {
     "name": "stdout",
     "output_type": "stream",
     "text": [
      "Epoch  177 , loss 0.4053356349468231\n",
      "Epoch  178 , loss 0.3952536880970001\n"
     ]
    },
    {
     "name": "stderr",
     "output_type": "stream",
     "text": [
      "\r",
      "Iterations:  60%|███████████████████▋             | 179/300 [04:27<03:10,  1.58s/it]"
     ]
    },
    {
     "name": "stdout",
     "output_type": "stream",
     "text": [
      "Epoch:  178\n",
      "t_loss:  0.3952536880970001 , v_loss:  0.5392626325289408\n",
      "t_acc:  0.7189542483660131 , v_acc:  0.7577639751552795\n",
      "t_recall:  0.5478321735908099 , v_recall:  0.6264864864864865\n",
      "t_prec:  0.7413771609042553 , v_prec:  0.7867647058823529\n",
      "t_f:  0.5114384310064455 , v_f:  0.6324846356453029\n",
      "////////\n"
     ]
    },
    {
     "name": "stderr",
     "output_type": "stream",
     "text": [
      "\r",
      "Iterations:  60%|███████████████████▊             | 180/300 [04:29<03:00,  1.50s/it]"
     ]
    },
    {
     "name": "stdout",
     "output_type": "stream",
     "text": [
      "Epoch  179 , loss 0.4004627717476265\n",
      "Epoch  180 , loss 0.4039834620905857\n"
     ]
    },
    {
     "name": "stderr",
     "output_type": "stream",
     "text": [
      "\r",
      "Iterations:  60%|███████████████████▉             | 181/300 [04:31<03:14,  1.63s/it]"
     ]
    },
    {
     "name": "stdout",
     "output_type": "stream",
     "text": [
      "Epoch:  180\n",
      "t_loss:  0.4039834620905857 , v_loss:  0.539763147632281\n",
      "t_acc:  0.7167755991285403 , v_acc:  0.7577639751552795\n",
      "t_recall:  0.5442534414844704 , v_recall:  0.620990990990991\n",
      "t_prec:  0.734449302690833 , v_prec:  0.8066210045662101\n",
      "t_f:  0.5052044551788002 , v_f:  0.624124513618677\n",
      "////////\n"
     ]
    },
    {
     "name": "stderr",
     "output_type": "stream",
     "text": [
      "\r",
      "Iterations:  61%|████████████████████             | 182/300 [04:32<02:58,  1.51s/it]"
     ]
    },
    {
     "name": "stdout",
     "output_type": "stream",
     "text": [
      "Epoch  181 , loss 0.4003787286141339\n",
      "Epoch  182 , loss 0.3936942733970343\n"
     ]
    },
    {
     "name": "stderr",
     "output_type": "stream",
     "text": [
      "\r",
      "Iterations:  61%|████████████████████▏            | 183/300 [04:34<03:10,  1.63s/it]"
     ]
    },
    {
     "name": "stdout",
     "output_type": "stream",
     "text": [
      "Epoch:  182\n",
      "t_loss:  0.3936942733970343 , v_loss:  0.5371890862782797\n",
      "t_acc:  0.7189542483660131 , v_acc:  0.7701863354037267\n",
      "t_recall:  0.5481197073880403 , v_recall:  0.640990990990991\n",
      "t_prec:  0.7395879364934739 , v_prec:  0.8196486928104575\n",
      "t_f:  0.5121262236407005 , v_f:  0.6513315774070823\n",
      "////////\n"
     ]
    },
    {
     "name": "stderr",
     "output_type": "stream",
     "text": [
      "\r",
      "Iterations:  61%|████████████████████▏            | 184/300 [04:35<02:50,  1.47s/it]"
     ]
    },
    {
     "name": "stdout",
     "output_type": "stream",
     "text": [
      "Epoch  183 , loss 0.3981656753549389\n",
      "Epoch  184 , loss 0.39727209596072927\n"
     ]
    },
    {
     "name": "stderr",
     "output_type": "stream",
     "text": [
      "\r",
      "Iterations:  62%|████████████████████▎            | 185/300 [04:37<02:59,  1.56s/it]"
     ]
    },
    {
     "name": "stdout",
     "output_type": "stream",
     "text": [
      "Epoch:  184\n",
      "t_loss:  0.39727209596072927 , v_loss:  0.5376722862323126\n",
      "t_acc:  0.7149081854964208 , v_acc:  0.7515527950310559\n",
      "t_recall:  0.5434862271997365 , v_recall:  0.6164864864864865\n",
      "t_prec:  0.7150843108504399 , v_prec:  0.7786637931034484\n",
      "t_f:  0.5054504319210202 , v_f:  0.618844696969697\n",
      "////////\n"
     ]
    },
    {
     "name": "stderr",
     "output_type": "stream",
     "text": [
      "\r",
      "Iterations:  62%|████████████████████▍            | 186/300 [04:38<02:48,  1.48s/it]"
     ]
    },
    {
     "name": "stdout",
     "output_type": "stream",
     "text": [
      "Epoch  185 , loss 0.40088137107736926\n",
      "Epoch  186 , loss 0.3982930656741647\n"
     ]
    },
    {
     "name": "stderr",
     "output_type": "stream",
     "text": [
      "\r",
      "Iterations:  62%|████████████████████▌            | 187/300 [04:40<02:56,  1.56s/it]"
     ]
    },
    {
     "name": "stdout",
     "output_type": "stream",
     "text": [
      "Epoch:  186\n",
      "t_loss:  0.3982930656741647 , v_loss:  0.5391762057940165\n",
      "t_acc:  0.7170868347338936 , v_acc:  0.7639751552795031\n",
      "t_recall:  0.5456272903199242 , v_recall:  0.630990990990991\n",
      "t_prec:  0.7302505817819149 , v_prec:  0.8133620689655172\n",
      "t_f:  0.5081921747340631 , v_f:  0.637902462121212\n",
      "////////\n"
     ]
    },
    {
     "name": "stderr",
     "output_type": "stream",
     "text": [
      "\r",
      "Iterations:  63%|████████████████████▋            | 188/300 [04:41<02:48,  1.51s/it]"
     ]
    },
    {
     "name": "stdout",
     "output_type": "stream",
     "text": [
      "Epoch  187 , loss 0.39156065559854697\n",
      "Epoch  188 , loss 0.4046372280401342\n"
     ]
    },
    {
     "name": "stderr",
     "output_type": "stream",
     "text": [
      "\r",
      "Iterations:  63%|████████████████████▊            | 189/300 [04:43<02:55,  1.58s/it]"
     ]
    },
    {
     "name": "stdout",
     "output_type": "stream",
     "text": [
      "Epoch:  188\n",
      "t_loss:  0.4046372280401342 , v_loss:  0.5347844660282135\n",
      "t_acc:  0.7192654839713664 , v_acc:  0.7763975155279503\n",
      "t_recall:  0.549493556223494 , v_recall:  0.6564864864864866\n",
      "t_prec:  0.7354652301665034 , v_prec:  0.8079787234042553\n",
      "t_f:  0.5150508421483819 , v_f:  0.6714285714285715\n",
      "////////\n"
     ]
    },
    {
     "name": "stderr",
     "output_type": "stream",
     "text": [
      "\r",
      "Iterations:  63%|████████████████████▉            | 190/300 [04:44<02:44,  1.50s/it]"
     ]
    },
    {
     "name": "stdout",
     "output_type": "stream",
     "text": [
      "Epoch  189 , loss 0.39690260793648513\n",
      "Epoch  190 , loss 0.3976526254532384\n"
     ]
    },
    {
     "name": "stderr",
     "output_type": "stream",
     "text": [
      "\r",
      "Iterations:  64%|█████████████████████            | 191/300 [04:46<02:59,  1.65s/it]"
     ]
    },
    {
     "name": "stdout",
     "output_type": "stream",
     "text": [
      "Epoch:  190\n",
      "t_loss:  0.3976526254532384 , v_loss:  0.5330879092216492\n",
      "t_acc:  0.7223778400248988 , v_acc:  0.7763975155279503\n",
      "t_recall:  0.5551810982555825 , v_recall:  0.650990990990991\n",
      "t_prec:  0.7412156324744619 , v_prec:  0.8255633255633255\n",
      "t_f:  0.5250513396023551 , v_f:  0.6644279759147753\n",
      "////////\n"
     ]
    },
    {
     "name": "stderr",
     "output_type": "stream",
     "text": [
      "\r",
      "Iterations:  64%|█████████████████████            | 192/300 [04:47<02:39,  1.48s/it]"
     ]
    },
    {
     "name": "stdout",
     "output_type": "stream",
     "text": [
      "Epoch  191 , loss 0.3908757129136254\n",
      "Epoch  192 , loss 0.39090970187794927\n"
     ]
    },
    {
     "name": "stderr",
     "output_type": "stream",
     "text": [
      "\r",
      "Iterations:  64%|█████████████████████▏           | 193/300 [04:49<02:59,  1.67s/it]"
     ]
    },
    {
     "name": "stdout",
     "output_type": "stream",
     "text": [
      "Epoch:  192\n",
      "t_loss:  0.39090970187794927 , v_loss:  0.53317491710186\n",
      "t_acc:  0.7198879551820728 , v_acc:  0.7888198757763976\n",
      "t_recall:  0.5485033145304072 , v_recall:  0.6764864864864866\n",
      "t_prec:  0.7498409331919407 , v_prec:  0.8203073904512754\n",
      "t_f:  0.5120284308365227 , v_f:  0.695888888888889\n",
      "////////\n"
     ]
    },
    {
     "name": "stderr",
     "output_type": "stream",
     "text": [
      "\r",
      "Iterations:  65%|█████████████████████▎           | 194/300 [04:51<02:39,  1.51s/it]"
     ]
    },
    {
     "name": "stdout",
     "output_type": "stream",
     "text": [
      "Epoch  193 , loss 0.3927624552857642\n",
      "Epoch  194 , loss 0.3999316443999608\n"
     ]
    },
    {
     "name": "stderr",
     "output_type": "stream",
     "text": [
      "\r",
      "Iterations:  65%|█████████████████████▍           | 195/300 [04:52<02:48,  1.61s/it]"
     ]
    },
    {
     "name": "stdout",
     "output_type": "stream",
     "text": [
      "Epoch:  194\n",
      "t_loss:  0.3999316443999608 , v_loss:  0.5334320316712061\n",
      "t_acc:  0.7136632430750078 , v_acc:  0.7763975155279503\n",
      "t_recall:  0.5417287712219157 , v_recall:  0.6564864864864866\n",
      "t_prec:  0.7091624969615806 , v_prec:  0.8079787234042553\n",
      "t_f:  0.502591405955522 , v_f:  0.6714285714285715\n",
      "////////\n"
     ]
    },
    {
     "name": "stderr",
     "output_type": "stream",
     "text": [
      "\r",
      "Iterations:  65%|█████████████████████▌           | 196/300 [04:53<02:30,  1.45s/it]"
     ]
    },
    {
     "name": "stdout",
     "output_type": "stream",
     "text": [
      "Epoch  195 , loss 0.3901749156853732\n",
      "Epoch  196 , loss 0.39386004326390284\n"
     ]
    },
    {
     "name": "stderr",
     "output_type": "stream",
     "text": [
      "\r",
      "Iterations:  66%|█████████████████████▋           | 197/300 [04:55<02:43,  1.59s/it]"
     ]
    },
    {
     "name": "stdout",
     "output_type": "stream",
     "text": [
      "Epoch:  196\n",
      "t_loss:  0.39386004326390284 , v_loss:  0.5337205578883489\n",
      "t_acc:  0.7211328976034859 , v_acc:  0.7888198757763976\n",
      "t_recall:  0.5525610408860707 , v_recall:  0.6764864864864866\n",
      "t_prec:  0.7409130369140182 , v_prec:  0.8203073904512754\n",
      "t_f:  0.5202821869488536 , v_f:  0.695888888888889\n",
      "////////\n"
     ]
    },
    {
     "name": "stderr",
     "output_type": "stream",
     "text": [
      "\r",
      "Iterations:  66%|█████████████████████▊           | 198/300 [04:57<02:29,  1.47s/it]"
     ]
    },
    {
     "name": "stdout",
     "output_type": "stream",
     "text": [
      "Epoch  197 , loss 0.39080581624133914\n",
      "Epoch  198 , loss 0.3929699697330886\n"
     ]
    },
    {
     "name": "stderr",
     "output_type": "stream",
     "text": [
      "\r",
      "Iterations:  66%|█████████████████████▉           | 199/300 [04:59<02:44,  1.63s/it]"
     ]
    },
    {
     "name": "stdout",
     "output_type": "stream",
     "text": [
      "Epoch:  198\n",
      "t_loss:  0.3929699697330886 , v_loss:  0.5323840628067652\n",
      "t_acc:  0.7161531279178338 , v_acc:  0.782608695652174\n",
      "t_recall:  0.5455312169747877 , v_recall:  0.6664864864864866\n",
      "t_prec:  0.7193983951324898 , v_prec:  0.8142857142857143\n",
      "t_f:  0.5089889071349576 , v_f:  0.6838000112227147\n",
      "////////\n"
     ]
    },
    {
     "name": "stderr",
     "output_type": "stream",
     "text": [
      "\r",
      "Iterations:  67%|██████████████████████           | 200/300 [05:00<02:32,  1.53s/it]"
     ]
    },
    {
     "name": "stdout",
     "output_type": "stream",
     "text": [
      "Epoch  199 , loss 0.39183714927411545\n",
      "Epoch  200 , loss 0.3948115449325711\n"
     ]
    },
    {
     "name": "stderr",
     "output_type": "stream",
     "text": [
      "\r",
      "Iterations:  67%|██████████████████████           | 201/300 [05:02<02:42,  1.64s/it]"
     ]
    },
    {
     "name": "stdout",
     "output_type": "stream",
     "text": [
      "Epoch:  200\n",
      "t_loss:  0.3948115449325711 , v_loss:  0.531319464246432\n",
      "t_acc:  0.7258014316837846 , v_acc:  0.7888198757763976\n",
      "t_recall:  0.5593671511508215 , v_recall:  0.6764864864864866\n",
      "t_prec:  0.7580261274158913 , v_prec:  0.8203073904512754\n",
      "t_f:  0.5312300187348813 , v_f:  0.695888888888889\n",
      "////////\n"
     ]
    },
    {
     "name": "stderr",
     "output_type": "stream",
     "text": [
      "\r",
      "Iterations:  67%|██████████████████████▏          | 202/300 [05:03<02:31,  1.55s/it]"
     ]
    },
    {
     "name": "stdout",
     "output_type": "stream",
     "text": [
      "Epoch  201 , loss 0.4044779740712222\n",
      "Epoch  202 , loss 0.3943574048724829\n"
     ]
    },
    {
     "name": "stderr",
     "output_type": "stream",
     "text": [
      "\r",
      "Iterations:  68%|██████████████████████▎          | 203/300 [05:05<02:42,  1.67s/it]"
     ]
    },
    {
     "name": "stdout",
     "output_type": "stream",
     "text": [
      "Epoch:  202\n",
      "t_loss:  0.3943574048724829 , v_loss:  0.5269505232572556\n",
      "t_acc:  0.7267351384998444 , v_acc:  0.8012422360248447\n",
      "t_recall:  0.5611884272793402 , v_recall:  0.6964864864864865\n",
      "t_prec:  0.7585441998028262 , v_prec:  0.8316605839416058\n",
      "t_f:  0.5344203735709202 , v_f:  0.7192676547515258\n",
      "////////\n"
     ]
    },
    {
     "name": "stderr",
     "output_type": "stream",
     "text": [
      "\r",
      "Iterations:  68%|██████████████████████▍          | 204/300 [05:06<02:22,  1.49s/it]"
     ]
    },
    {
     "name": "stdout",
     "output_type": "stream",
     "text": [
      "Epoch  203 , loss 0.3924442272560269\n",
      "Epoch  204 , loss 0.3906455665242438\n"
     ]
    },
    {
     "name": "stderr",
     "output_type": "stream",
     "text": [
      "\r",
      "Iterations:  68%|██████████████████████▌          | 205/300 [05:08<02:28,  1.56s/it]"
     ]
    },
    {
     "name": "stdout",
     "output_type": "stream",
     "text": [
      "Epoch:  204\n",
      "t_loss:  0.3906455665242438 , v_loss:  0.5271617323160172\n",
      "t_acc:  0.7236227824463118 , v_acc:  0.8012422360248447\n",
      "t_recall:  0.5540632162610999 , v_recall:  0.6964864864864865\n",
      "t_prec:  0.7639074371010894 , v_prec:  0.8316605839416058\n",
      "t_f:  0.521240222248772 , v_f:  0.7192676547515258\n",
      "////////\n"
     ]
    },
    {
     "name": "stderr",
     "output_type": "stream",
     "text": [
      "\r",
      "Iterations:  69%|██████████████████████▋          | 206/300 [05:09<02:18,  1.47s/it]"
     ]
    },
    {
     "name": "stdout",
     "output_type": "stream",
     "text": [
      "Epoch  205 , loss 0.39241114726253584\n",
      "Epoch  206 , loss 0.39377331090908424\n"
     ]
    },
    {
     "name": "stderr",
     "output_type": "stream",
     "text": [
      "\r",
      "Iterations:  69%|██████████████████████▊          | 207/300 [05:11<02:26,  1.58s/it]"
     ]
    },
    {
     "name": "stdout",
     "output_type": "stream",
     "text": [
      "Epoch:  206\n",
      "t_loss:  0.39377331090908424 , v_loss:  0.5251698593298594\n",
      "t_acc:  0.7267351384998444 , v_acc:  0.8074534161490683\n",
      "t_recall:  0.5611884272793402 , v_recall:  0.7064864864864865\n",
      "t_prec:  0.7585441998028262 , v_prec:  0.8370588235294117\n",
      "t_f:  0.5344203735709202 , v_f:  0.7305802968960864\n",
      "////////\n"
     ]
    },
    {
     "name": "stderr",
     "output_type": "stream",
     "text": [
      "\r",
      "Iterations:  69%|██████████████████████▉          | 208/300 [05:12<02:18,  1.51s/it]"
     ]
    },
    {
     "name": "stdout",
     "output_type": "stream",
     "text": [
      "Epoch  207 , loss 0.3918262866197848\n",
      "Epoch  208 , loss 0.3910505345054701\n"
     ]
    },
    {
     "name": "stderr",
     "output_type": "stream",
     "text": [
      "\r",
      "Iterations:  70%|██████████████████████▉          | 209/300 [05:14<02:26,  1.61s/it]"
     ]
    },
    {
     "name": "stdout",
     "output_type": "stream",
     "text": [
      "Epoch:  208\n",
      "t_loss:  0.3910505345054701 , v_loss:  0.5224184840917587\n",
      "t_acc:  0.7226890756302521 , v_acc:  0.8136645962732919\n",
      "t_recall:  0.5597178188605701 , v_recall:  0.7164864864864865\n",
      "t_prec:  0.7239525786638301 , v_prec:  0.8423076923076923\n",
      "t_f:  0.5347795316728974 , v_f:  0.741655969191271\n",
      "////////\n"
     ]
    },
    {
     "name": "stderr",
     "output_type": "stream",
     "text": [
      "\r",
      "Iterations:  70%|███████████████████████          | 210/300 [05:15<02:12,  1.47s/it]"
     ]
    },
    {
     "name": "stdout",
     "output_type": "stream",
     "text": [
      "Epoch  209 , loss 0.39232365231887967\n",
      "Epoch  210 , loss 0.39114383096788446\n"
     ]
    },
    {
     "name": "stderr",
     "output_type": "stream",
     "text": [
      "\r",
      "Iterations:  70%|███████████████████████▏         | 211/300 [05:17<02:25,  1.64s/it]"
     ]
    },
    {
     "name": "stdout",
     "output_type": "stream",
     "text": [
      "Epoch:  210\n",
      "t_loss:  0.39114383096788446 , v_loss:  0.5248951564232508\n",
      "t_acc:  0.7245564892623716 , v_acc:  0.8074534161490683\n",
      "t_recall:  0.5584722965646917 , v_recall:  0.7064864864864865\n",
      "t_prec:  0.7484478146941504 , v_prec:  0.8370588235294117\n",
      "t_f:  0.5303882914867399 , v_f:  0.7305802968960864\n",
      "////////\n"
     ]
    },
    {
     "name": "stderr",
     "output_type": "stream",
     "text": [
      "\r",
      "Iterations:  71%|███████████████████████▎         | 212/300 [05:18<02:12,  1.50s/it]"
     ]
    },
    {
     "name": "stdout",
     "output_type": "stream",
     "text": [
      "Epoch  211 , loss 0.3994390958664464\n",
      "Epoch  212 , loss 0.39385974524067896\n"
     ]
    },
    {
     "name": "stderr",
     "output_type": "stream",
     "text": [
      "\r",
      "Iterations:  71%|███████████████████████▍         | 213/300 [05:21<02:24,  1.67s/it]"
     ]
    },
    {
     "name": "stdout",
     "output_type": "stream",
     "text": [
      "Epoch:  212\n",
      "t_loss:  0.39385974524067896 , v_loss:  0.5262630234162012\n",
      "t_acc:  0.7223778400248988 , v_acc:  0.8012422360248447\n",
      "t_recall:  0.5577689024306557 , v_recall:  0.6964864864864865\n",
      "t_prec:  0.7289038905667081 , v_prec:  0.8316605839416058\n",
      "t_f:  0.5308229762824626 , v_f:  0.7192676547515258\n",
      "////////\n"
     ]
    },
    {
     "name": "stderr",
     "output_type": "stream",
     "text": [
      "\r",
      "Iterations:  71%|███████████████████████▌         | 214/300 [05:22<02:07,  1.49s/it]"
     ]
    },
    {
     "name": "stdout",
     "output_type": "stream",
     "text": [
      "Epoch  213 , loss 0.39140674588727015\n",
      "Epoch  214 , loss 0.393415173479155\n"
     ]
    },
    {
     "name": "stderr",
     "output_type": "stream",
     "text": [
      "\r",
      "Iterations:  72%|███████████████████████▋         | 215/300 [05:23<02:14,  1.58s/it]"
     ]
    },
    {
     "name": "stdout",
     "output_type": "stream",
     "text": [
      "Epoch:  214\n",
      "t_loss:  0.393415173479155 , v_loss:  0.5182903955380121\n",
      "t_acc:  0.7211328976034859 , v_acc:  0.8136645962732919\n",
      "t_recall:  0.5551488450611438 , v_recall:  0.7164864864864865\n",
      "t_prec:  0.7279674575348061 , v_prec:  0.8423076923076923\n",
      "t_f:  0.5261660978384528 , v_f:  0.741655969191271\n",
      "////////\n"
     ]
    },
    {
     "name": "stderr",
     "output_type": "stream",
     "text": [
      "\r",
      "Iterations:  72%|███████████████████████▊         | 216/300 [05:25<02:04,  1.48s/it]"
     ]
    },
    {
     "name": "stdout",
     "output_type": "stream",
     "text": [
      "Epoch  215 , loss 0.3949396493388157\n",
      "Epoch  216 , loss 0.3926257917694017\n"
     ]
    },
    {
     "name": "stderr",
     "output_type": "stream",
     "text": [
      "\r",
      "Iterations:  72%|███████████████████████▊         | 217/300 [05:27<02:14,  1.63s/it]"
     ]
    },
    {
     "name": "stdout",
     "output_type": "stream",
     "text": [
      "Epoch:  216\n",
      "t_loss:  0.3926257917694017 , v_loss:  0.5145060072342554\n",
      "t_acc:  0.7264239028944911 , v_acc:  0.8260869565217391\n",
      "t_recall:  0.5601021122411167 , v_recall:  0.7364864864864865\n",
      "t_prec:  0.7612204724409449 , v_prec:  0.8524436090225564\n",
      "t_f:  0.5322941957638601 , v_f:  0.7631357713324927\n",
      "////////\n"
     ]
    },
    {
     "name": "stderr",
     "output_type": "stream",
     "text": [
      "\r",
      "Iterations:  73%|███████████████████████▉         | 218/300 [05:28<02:04,  1.52s/it]"
     ]
    },
    {
     "name": "stdout",
     "output_type": "stream",
     "text": [
      "Epoch  217 , loss 0.3870825890232535\n",
      "Epoch  218 , loss 0.3916313624849506\n"
     ]
    },
    {
     "name": "stderr",
     "output_type": "stream",
     "text": [
      "\r",
      "Iterations:  73%|████████████████████████         | 219/300 [05:30<02:15,  1.68s/it]"
     ]
    },
    {
     "name": "stdout",
     "output_type": "stream",
     "text": [
      "Epoch:  218\n",
      "t_loss:  0.3916313624849506 , v_loss:  0.5166034698486328\n",
      "t_acc:  0.721444133208839 , v_acc:  0.8198757763975155\n",
      "t_recall:  0.5556600925049066 , v_recall:  0.7264864864864865\n",
      "t_prec:  0.7288413429888084 , v_prec:  0.8474295190713101\n",
      "t_f:  0.5270157468153807 , v_f:  0.752504638218924\n",
      "////////\n"
     ]
    },
    {
     "name": "stderr",
     "output_type": "stream",
     "text": [
      "\r",
      "Iterations:  73%|████████████████████████▏        | 220/300 [05:31<02:02,  1.54s/it]"
     ]
    },
    {
     "name": "stdout",
     "output_type": "stream",
     "text": [
      "Epoch  219 , loss 0.39195381718523364\n",
      "Epoch  220 , loss 0.3904175267500036\n"
     ]
    },
    {
     "name": "stderr",
     "output_type": "stream",
     "text": [
      "\r",
      "Iterations:  74%|████████████████████████▎        | 221/300 [05:33<02:10,  1.65s/it]"
     ]
    },
    {
     "name": "stdout",
     "output_type": "stream",
     "text": [
      "Epoch:  220\n",
      "t_loss:  0.3904175267500036 , v_loss:  0.5130043625831604\n",
      "t_acc:  0.7242452536570184 , v_acc:  0.8136645962732919\n",
      "t_recall:  0.5593987181070806 , v_recall:  0.7164864864864865\n",
      "t_prec:  0.7403337467375006 , v_prec:  0.8423076923076923\n",
      "t_f:  0.5327212858577967 , v_f:  0.741655969191271\n",
      "////////\n"
     ]
    },
    {
     "name": "stderr",
     "output_type": "stream",
     "text": [
      "\r",
      "Iterations:  74%|████████████████████████▍        | 222/300 [05:34<01:59,  1.53s/it]"
     ]
    },
    {
     "name": "stdout",
     "output_type": "stream",
     "text": [
      "Epoch  221 , loss 0.3890201449394226\n",
      "Epoch  222 , loss 0.3858656734228134\n"
     ]
    },
    {
     "name": "stderr",
     "output_type": "stream",
     "text": [
      "\r",
      "Iterations:  74%|████████████████████████▌        | 223/300 [05:36<02:07,  1.65s/it]"
     ]
    },
    {
     "name": "stdout",
     "output_type": "stream",
     "text": [
      "Epoch:  222\n",
      "t_loss:  0.3858656734228134 , v_loss:  0.5125495543082556\n",
      "t_acc:  0.7242452536570184 , v_acc:  0.8198757763975155\n",
      "t_recall:  0.5596862519043109 , v_recall:  0.7264864864864865\n",
      "t_prec:  0.738971315529179 , v_prec:  0.8474295190713101\n",
      "t_f:  0.5333512339631994 , v_f:  0.752504638218924\n",
      "////////\n"
     ]
    },
    {
     "name": "stderr",
     "output_type": "stream",
     "text": [
      "\r",
      "Iterations:  75%|████████████████████████▋        | 224/300 [05:37<01:52,  1.48s/it]"
     ]
    },
    {
     "name": "stdout",
     "output_type": "stream",
     "text": [
      "Epoch  223 , loss 0.3936232340102102\n",
      "Epoch  224 , loss 0.38810163093548194\n"
     ]
    },
    {
     "name": "stderr",
     "output_type": "stream",
     "text": [
      "\r",
      "Iterations:  75%|████████████████████████▊        | 225/300 [05:39<02:00,  1.61s/it]"
     ]
    },
    {
     "name": "stdout",
     "output_type": "stream",
     "text": [
      "Epoch:  224\n",
      "t_loss:  0.38810163093548194 , v_loss:  0.5140267560879389\n",
      "t_acc:  0.7326486150015562 , v_acc:  0.8136645962732919\n",
      "t_recall:  0.5711896625080632 , v_recall:  0.7164864864864865\n",
      "t_prec:  0.7695910617080328 , v_prec:  0.8423076923076923\n",
      "t_f:  0.550891369249327 , v_f:  0.741655969191271\n",
      "////////\n"
     ]
    },
    {
     "name": "stderr",
     "output_type": "stream",
     "text": [
      "\r",
      "Iterations:  75%|████████████████████████▊        | 226/300 [05:41<01:55,  1.57s/it]"
     ]
    },
    {
     "name": "stdout",
     "output_type": "stream",
     "text": [
      "Epoch  225 , loss 0.3881511369756624\n",
      "Epoch  226 , loss 0.38396208660275327\n"
     ]
    },
    {
     "name": "stderr",
     "output_type": "stream",
     "text": [
      "\r",
      "Iterations:  76%|████████████████████████▉        | 227/300 [05:43<02:02,  1.68s/it]"
     ]
    },
    {
     "name": "stdout",
     "output_type": "stream",
     "text": [
      "Epoch:  226\n",
      "t_loss:  0.38396208660275327 , v_loss:  0.5135964055856069\n",
      "t_acc:  0.7298474945533769 , v_acc:  0.8260869565217391\n",
      "t_recall:  0.5686011720948106 , v_recall:  0.7364864864864865\n",
      "t_prec:  0.7535808987167953 , v_prec:  0.8524436090225564\n",
      "t_f:  0.547688493131845 , v_f:  0.7631357713324927\n",
      "////////\n"
     ]
    },
    {
     "name": "stderr",
     "output_type": "stream",
     "text": [
      "\r",
      "Iterations:  76%|█████████████████████████        | 228/300 [05:44<01:54,  1.59s/it]"
     ]
    },
    {
     "name": "stdout",
     "output_type": "stream",
     "text": [
      "Epoch  227 , loss 0.38735854596483943\n",
      "Epoch  228 , loss 0.39240341560513364\n"
     ]
    },
    {
     "name": "stderr",
     "output_type": "stream",
     "text": [
      "\r",
      "Iterations:  76%|█████████████████████████▏       | 229/300 [05:46<02:03,  1.73s/it]"
     ]
    },
    {
     "name": "stdout",
     "output_type": "stream",
     "text": [
      "Epoch:  228\n",
      "t_loss:  0.39240341560513364 , v_loss:  0.5124050378799438\n",
      "t_acc:  0.7298474945533769 , v_acc:  0.8198757763975155\n",
      "t_recall:  0.568888705892041 , v_recall:  0.7264864864864865\n",
      "t_prec:  0.7522388059701492 , v_prec:  0.8474295190713101\n",
      "t_f:  0.5482857142857143 , v_f:  0.752504638218924\n",
      "////////\n"
     ]
    },
    {
     "name": "stderr",
     "output_type": "stream",
     "text": [
      "\r",
      "Iterations:  77%|█████████████████████████▎       | 230/300 [05:47<01:47,  1.54s/it]"
     ]
    },
    {
     "name": "stdout",
     "output_type": "stream",
     "text": [
      "Epoch  229 , loss 0.3851514508326848\n",
      "Epoch  230 , loss 0.38762566271950216\n"
     ]
    },
    {
     "name": "stderr",
     "output_type": "stream",
     "text": [
      "\r",
      "Iterations:  77%|█████████████████████████▍       | 231/300 [05:49<01:56,  1.68s/it]"
     ]
    },
    {
     "name": "stdout",
     "output_type": "stream",
     "text": [
      "Epoch:  230\n",
      "t_loss:  0.38762566271950216 , v_loss:  0.5072196920712789\n",
      "t_acc:  0.7329598506069094 , v_acc:  0.8322981366459627\n",
      "t_recall:  0.5719884437490564 , v_recall:  0.7464864864864865\n",
      "t_prec:  0.7686669990404414 , v_prec:  0.8573667711598747\n",
      "t_f:  0.5523069697587796 , v_f:  0.7735583684950774\n",
      "////////\n"
     ]
    },
    {
     "name": "stderr",
     "output_type": "stream",
     "text": [
      "\r",
      "Iterations:  77%|█████████████████████████▌       | 232/300 [05:50<01:43,  1.53s/it]"
     ]
    },
    {
     "name": "stdout",
     "output_type": "stream",
     "text": [
      "Epoch  231 , loss 0.390507332834543\n",
      "Epoch  232 , loss 0.38559581660756875\n"
     ]
    },
    {
     "name": "stderr",
     "output_type": "stream",
     "text": [
      "\r",
      "Iterations:  78%|█████████████████████████▋       | 233/300 [05:52<01:52,  1.68s/it]"
     ]
    },
    {
     "name": "stdout",
     "output_type": "stream",
     "text": [
      "Epoch:  232\n",
      "t_loss:  0.38559581660756875 , v_loss:  0.5067558934291204\n",
      "t_acc:  0.7329598506069094 , v_acc:  0.8260869565217391\n",
      "t_recall:  0.5763014507075116 , v_recall:  0.7364864864864865\n",
      "t_prec:  0.7491008698561392 , v_prec:  0.8524436090225564\n",
      "t_f:  0.560973861838233 , v_f:  0.7631357713324927\n",
      "////////\n"
     ]
    },
    {
     "name": "stderr",
     "output_type": "stream",
     "text": [
      "\r",
      "Iterations:  78%|█████████████████████████▋       | 234/300 [05:54<01:40,  1.53s/it]"
     ]
    },
    {
     "name": "stdout",
     "output_type": "stream",
     "text": [
      "Epoch  233 , loss 0.39011019906576944\n",
      "Epoch  234 , loss 0.39278727419236126\n"
     ]
    },
    {
     "name": "stderr",
     "output_type": "stream",
     "text": [
      "\r",
      "Iterations:  78%|█████████████████████████▊       | 235/300 [05:55<01:45,  1.62s/it]"
     ]
    },
    {
     "name": "stdout",
     "output_type": "stream",
     "text": [
      "Epoch:  234\n",
      "t_loss:  0.39278727419236126 , v_loss:  0.5180494338274002\n",
      "t_acc:  0.7298474945533769 , v_acc:  0.8136645962732919\n",
      "t_recall:  0.569751307283732 , v_recall:  0.7164864864864865\n",
      "t_prec:  0.7483798604187437 , v_prec:  0.8423076923076923\n",
      "t_f:  0.5500644681666648 , v_f:  0.741655969191271\n",
      "////////\n"
     ]
    },
    {
     "name": "stderr",
     "output_type": "stream",
     "text": [
      "\r",
      "Iterations:  79%|█████████████████████████▉       | 236/300 [05:57<01:39,  1.55s/it]"
     ]
    },
    {
     "name": "stdout",
     "output_type": "stream",
     "text": [
      "Epoch  235 , loss 0.3887349004838981\n",
      "Epoch  236 , loss 0.3817678555554035\n"
     ]
    },
    {
     "name": "stderr",
     "output_type": "stream",
     "text": [
      "\r",
      "Iterations:  79%|██████████████████████████       | 237/300 [05:59<01:48,  1.72s/it]"
     ]
    },
    {
     "name": "stdout",
     "output_type": "stream",
     "text": [
      "Epoch:  236\n",
      "t_loss:  0.3817678555554035 , v_loss:  0.5146841357151667\n",
      "t_acc:  0.7314036725801432 , v_acc:  0.8136645962732919\n",
      "t_recall:  0.5694322065302425 , v_recall:  0.7164864864864865\n",
      "t_prec:  0.765542328042328 , v_prec:  0.8423076923076923\n",
      "t_f:  0.5481986810711568 , v_f:  0.741655969191271\n",
      "////////\n"
     ]
    },
    {
     "name": "stderr",
     "output_type": "stream",
     "text": [
      "\r",
      "Iterations:  79%|██████████████████████████▏      | 238/300 [06:00<01:36,  1.55s/it]"
     ]
    },
    {
     "name": "stdout",
     "output_type": "stream",
     "text": [
      "Epoch  237 , loss 0.38887422341926425\n",
      "Epoch  238 , loss 0.3878006566973293\n"
     ]
    },
    {
     "name": "stderr",
     "output_type": "stream",
     "text": [
      "\r",
      "Iterations:  80%|██████████████████████████▎      | 239/300 [06:02<01:40,  1.65s/it]"
     ]
    },
    {
     "name": "stdout",
     "output_type": "stream",
     "text": [
      "Epoch:  238\n",
      "t_loss:  0.3878006566973293 , v_loss:  0.5135070731242498\n",
      "t_acc:  0.7254901960784313 , v_acc:  0.8198757763975155\n",
      "t_recall:  0.5634564444627441 , v_recall:  0.7264864864864865\n",
      "t_prec:  0.7345636630522279 , v_prec:  0.8474295190713101\n",
      "t_f:  0.5403931462468747 , v_f:  0.752504638218924\n",
      "////////\n"
     ]
    },
    {
     "name": "stderr",
     "output_type": "stream",
     "text": [
      "\r",
      "Iterations:  80%|██████████████████████████▍      | 240/300 [06:03<01:28,  1.48s/it]"
     ]
    },
    {
     "name": "stdout",
     "output_type": "stream",
     "text": [
      "Epoch  239 , loss 0.3856725222339817\n",
      "Epoch  240 , loss 0.383704274892807\n"
     ]
    },
    {
     "name": "stderr",
     "output_type": "stream",
     "text": [
      "\r",
      "Iterations:  80%|██████████████████████████▌      | 241/300 [06:05<01:33,  1.58s/it]"
     ]
    },
    {
     "name": "stdout",
     "output_type": "stream",
     "text": [
      "Epoch:  240\n",
      "t_loss:  0.383704274892807 , v_loss:  0.5139268686374029\n",
      "t_acc:  0.7323373793962029 , v_acc:  0.8136645962732919\n",
      "t_recall:  0.5732662192393736 , v_recall:  0.7164864864864865\n",
      "t_prec:  0.7562196019454754 , v_prec:  0.8423076923076923\n",
      "t_f:  0.5553756935236795 , v_f:  0.741655969191271\n",
      "////////\n"
     ]
    },
    {
     "name": "stderr",
     "output_type": "stream",
     "text": [
      "\r",
      "Iterations:  81%|██████████████████████████▌      | 242/300 [06:06<01:26,  1.49s/it]"
     ]
    },
    {
     "name": "stdout",
     "output_type": "stream",
     "text": [
      "Epoch  241 , loss 0.38395047070933325\n",
      "Epoch  242 , loss 0.3851306800748788\n"
     ]
    },
    {
     "name": "stderr",
     "output_type": "stream",
     "text": [
      "\r",
      "Iterations:  81%|██████████████████████████▋      | 243/300 [06:08<01:31,  1.61s/it]"
     ]
    },
    {
     "name": "stdout",
     "output_type": "stream",
     "text": [
      "Epoch:  242\n",
      "t_loss:  0.3851306800748788 , v_loss:  0.5053111265103022\n",
      "t_acc:  0.7357609710550888 , v_acc:  0.8260869565217391\n",
      "t_recall:  0.5777398059318428 , v_recall:  0.7364864864864865\n",
      "t_prec:  0.7682666531948685 , v_prec:  0.8524436090225564\n",
      "t_f:  0.5619194342898504 , v_f:  0.7631357713324927\n",
      "////////\n"
     ]
    },
    {
     "name": "stderr",
     "output_type": "stream",
     "text": [
      "\r",
      "Iterations:  81%|██████████████████████████▊      | 244/300 [06:09<01:22,  1.48s/it]"
     ]
    },
    {
     "name": "stdout",
     "output_type": "stream",
     "text": [
      "Epoch  243 , loss 0.38620689160683574\n",
      "Epoch  244 , loss 0.3885435245785059\n"
     ]
    },
    {
     "name": "stderr",
     "output_type": "stream",
     "text": [
      "\r",
      "Iterations:  82%|██████████████████████████▉      | 245/300 [06:11<01:28,  1.61s/it]"
     ]
    },
    {
     "name": "stdout",
     "output_type": "stream",
     "text": [
      "Epoch:  244\n",
      "t_loss:  0.3885435245785059 , v_loss:  0.5027351627747217\n",
      "t_acc:  0.7310924369747899 , v_acc:  0.8260869565217391\n",
      "t_recall:  0.5723713646532439 , v_recall:  0.7364864864864865\n",
      "t_prec:  0.7486458916210319 , v_prec:  0.8524436090225564\n",
      "t_f:  0.5544690603514133 , v_f:  0.7631357713324927\n",
      "////////\n"
     ]
    },
    {
     "name": "stderr",
     "output_type": "stream",
     "text": [
      "\r",
      "Iterations:  82%|███████████████████████████      | 246/300 [06:12<01:21,  1.50s/it]"
     ]
    },
    {
     "name": "stdout",
     "output_type": "stream",
     "text": [
      "Epoch  245 , loss 0.39074552234481363\n",
      "Epoch  246 , loss 0.3806548784760868\n"
     ]
    },
    {
     "name": "stderr",
     "output_type": "stream",
     "text": [
      "\r",
      "Iterations:  82%|███████████████████████████▏     | 247/300 [06:14<01:27,  1.65s/it]"
     ]
    },
    {
     "name": "stdout",
     "output_type": "stream",
     "text": [
      "Epoch:  246\n",
      "t_loss:  0.3806548784760868 , v_loss:  0.5001922349135081\n",
      "t_acc:  0.7338935574229691 , v_acc:  0.8322981366459627\n",
      "t_recall:  0.5755349226609572 , v_recall:  0.7464864864864865\n",
      "t_prec:  0.7606579815667911 , v_prec:  0.8573667711598747\n",
      "t_f:  0.5588234585604499 , v_f:  0.7735583684950774\n",
      "////////\n"
     ]
    },
    {
     "name": "stderr",
     "output_type": "stream",
     "text": [
      "\r",
      "Iterations:  83%|███████████████████████████▎     | 248/300 [06:16<01:19,  1.52s/it]"
     ]
    },
    {
     "name": "stdout",
     "output_type": "stream",
     "text": [
      "Epoch  247 , loss 0.38290571932699163\n",
      "Epoch  248 , loss 0.39053627877843144\n"
     ]
    },
    {
     "name": "stderr",
     "output_type": "stream",
     "text": [
      "\r",
      "Iterations:  83%|███████████████████████████▍     | 249/300 [06:17<01:23,  1.64s/it]"
     ]
    },
    {
     "name": "stdout",
     "output_type": "stream",
     "text": [
      "Epoch:  248\n",
      "t_loss:  0.39053627877843144 , v_loss:  0.5001553942759832\n",
      "t_acc:  0.7317149081854964 , v_acc:  0.8260869565217391\n",
      "t_recall:  0.5722437243518481 , v_recall:  0.7364864864864865\n",
      "t_prec:  0.754927014958624 , v_prec:  0.8524436090225564\n",
      "t_f:  0.553759203213133 , v_f:  0.7631357713324927\n",
      "////////\n"
     ]
    },
    {
     "name": "stderr",
     "output_type": "stream",
     "text": [
      "\r",
      "Iterations:  83%|███████████████████████████▌     | 250/300 [06:19<01:13,  1.47s/it]"
     ]
    },
    {
     "name": "stdout",
     "output_type": "stream",
     "text": [
      "Epoch  249 , loss 0.3848080693506727\n",
      "Epoch  250 , loss 0.3820091380792506\n"
     ]
    },
    {
     "name": "stderr",
     "output_type": "stream",
     "text": [
      "\r",
      "Iterations:  84%|███████████████████████████▌     | 251/300 [06:20<01:16,  1.56s/it]"
     ]
    },
    {
     "name": "stdout",
     "output_type": "stream",
     "text": [
      "Epoch:  250\n",
      "t_loss:  0.3820091380792506 , v_loss:  0.4987070908149083\n",
      "t_acc:  0.7382508558979147 , v_acc:  0.8322981366459627\n",
      "t_recall:  0.5844175896570182 , v_recall:  0.7464864864864865\n",
      "t_prec:  0.7616182625561454 , v_prec:  0.8573667711598747\n",
      "t_f:  0.5732147806989488 , v_f:  0.7735583684950774\n",
      "////////\n"
     ]
    },
    {
     "name": "stderr",
     "output_type": "stream",
     "text": [
      "\r",
      "Iterations:  84%|███████████████████████████▋     | 252/300 [06:22<01:09,  1.45s/it]"
     ]
    },
    {
     "name": "stdout",
     "output_type": "stream",
     "text": [
      "Epoch  251 , loss 0.3815692338873358\n",
      "Epoch  252 , loss 0.3860289431085773\n"
     ]
    },
    {
     "name": "stderr",
     "output_type": "stream",
     "text": [
      "\r",
      "Iterations:  84%|███████████████████████████▊     | 253/300 [06:23<01:14,  1.59s/it]"
     ]
    },
    {
     "name": "stdout",
     "output_type": "stream",
     "text": [
      "Epoch:  252\n",
      "t_loss:  0.3860289431085773 , v_loss:  0.5013526727755865\n",
      "t_acc:  0.7351384998443822 , v_acc:  0.8260869565217391\n",
      "t_recall:  0.580742784205542 , v_recall:  0.7364864864864865\n",
      "t_prec:  0.7502296855859534 , v_prec:  0.8524436090225564\n",
      "t_f:  0.5681400456299708 , v_f:  0.7631357713324927\n",
      "////////\n"
     ]
    },
    {
     "name": "stderr",
     "output_type": "stream",
     "text": [
      "\r",
      "Iterations:  85%|███████████████████████████▉     | 254/300 [06:25<01:10,  1.54s/it]"
     ]
    },
    {
     "name": "stdout",
     "output_type": "stream",
     "text": [
      "Epoch  253 , loss 0.384070994515045\n",
      "Epoch  254 , loss 0.38034673648722034\n"
     ]
    },
    {
     "name": "stderr",
     "output_type": "stream",
     "text": [
      "\r",
      "Iterations:  85%|████████████████████████████     | 255/300 [06:27<01:16,  1.71s/it]"
     ]
    },
    {
     "name": "stdout",
     "output_type": "stream",
     "text": [
      "Epoch:  254\n",
      "t_loss:  0.38034673648722034 , v_loss:  0.4999628613392512\n",
      "t_acc:  0.7388733271086212 , v_acc:  0.8260869565217391\n",
      "t_recall:  0.5834273479639314 , v_recall:  0.7364864864864865\n",
      "t_prec:  0.7712449799196788 , v_prec:  0.8524436090225564\n",
      "t_f:  0.5709706205479982 , v_f:  0.7631357713324927\n",
      "////////\n"
     ]
    },
    {
     "name": "stderr",
     "output_type": "stream",
     "text": [
      "\r",
      "Iterations:  85%|████████████████████████████▏    | 256/300 [06:28<01:06,  1.52s/it]"
     ]
    },
    {
     "name": "stdout",
     "output_type": "stream",
     "text": [
      "Epoch  255 , loss 0.3846784251577714\n",
      "Epoch  256 , loss 0.38464805805215646\n"
     ]
    },
    {
     "name": "stderr",
     "output_type": "stream",
     "text": [
      "\r",
      "Iterations:  86%|████████████████████████████▎    | 257/300 [06:30<01:10,  1.63s/it]"
     ]
    },
    {
     "name": "stdout",
     "output_type": "stream",
     "text": [
      "Epoch:  256\n",
      "t_loss:  0.38464805805215646 , v_loss:  0.49729349215825397\n",
      "t_acc:  0.7345160286336757 , v_acc:  0.8322981366459627\n",
      "t_recall:  0.5788576879263255 , v_recall:  0.7464864864864865\n",
      "t_prec:  0.7522470644016999 , v_prec:  0.8573667711598747\n",
      "t_f:  0.5649239371850957 , v_f:  0.7735583684950774\n",
      "////////\n"
     ]
    },
    {
     "name": "stderr",
     "output_type": "stream",
     "text": [
      "\r",
      "Iterations:  86%|████████████████████████████▍    | 258/300 [06:31<01:02,  1.49s/it]"
     ]
    },
    {
     "name": "stdout",
     "output_type": "stream",
     "text": [
      "Epoch  257 , loss 0.37877097258380815\n",
      "Epoch  258 , loss 0.3878150260915943\n"
     ]
    },
    {
     "name": "stderr",
     "output_type": "stream",
     "text": [
      "\r",
      "Iterations:  86%|████████████████████████████▍    | 259/300 [06:33<01:07,  1.64s/it]"
     ]
    },
    {
     "name": "stdout",
     "output_type": "stream",
     "text": [
      "Epoch:  258\n",
      "t_loss:  0.3878150260915943 , v_loss:  0.49954551458358765\n",
      "t_acc:  0.7354497354497355 , v_acc:  0.8322981366459627\n",
      "t_recall:  0.5798163626631532 , v_recall:  0.7464864864864865\n",
      "t_prec:  0.7563475271092304 , v_prec:  0.8573667711598747\n",
      "t_f:  0.5661777320295076 , v_f:  0.7735583684950774\n",
      "////////\n"
     ]
    },
    {
     "name": "stderr",
     "output_type": "stream",
     "text": [
      "\r",
      "Iterations:  87%|████████████████████████████▌    | 260/300 [06:34<01:02,  1.55s/it]"
     ]
    },
    {
     "name": "stdout",
     "output_type": "stream",
     "text": [
      "Epoch  259 , loss 0.38318275207397984\n",
      "Epoch  260 , loss 0.3842034976856381\n"
     ]
    },
    {
     "name": "stderr",
     "output_type": "stream",
     "text": [
      "\r",
      "Iterations:  87%|████████████████████████████▋    | 261/300 [06:36<01:03,  1.62s/it]"
     ]
    },
    {
     "name": "stdout",
     "output_type": "stream",
     "text": [
      "Epoch:  260\n",
      "t_loss:  0.3842034976856381 , v_loss:  0.49926917751630145\n",
      "t_acc:  0.7342047930283224 , v_acc:  0.8260869565217391\n",
      "t_recall:  0.5766212376991806 , v_recall:  0.7364864864864865\n",
      "t_prec:  0.7587170503837171 , v_prec:  0.8524436090225564\n",
      "t_f:  0.5607654096168917 , v_f:  0.7631357713324927\n",
      "////////\n"
     ]
    },
    {
     "name": "stderr",
     "output_type": "stream",
     "text": [
      "\r",
      "Iterations:  87%|████████████████████████████▊    | 262/300 [06:38<00:58,  1.55s/it]"
     ]
    },
    {
     "name": "stdout",
     "output_type": "stream",
     "text": [
      "Epoch  261 , loss 0.3866450698936687\n",
      "Epoch  262 , loss 0.38278767524981033\n"
     ]
    },
    {
     "name": "stderr",
     "output_type": "stream",
     "text": [
      "\r",
      "Iterations:  88%|████████████████████████████▉    | 263/300 [06:39<01:00,  1.64s/it]"
     ]
    },
    {
     "name": "stdout",
     "output_type": "stream",
     "text": [
      "Epoch:  262\n",
      "t_loss:  0.38278767524981033 , v_loss:  0.49323749045530957\n",
      "t_acc:  0.7345160286336757 , v_acc:  0.8322981366459627\n",
      "t_recall:  0.5800078231152469 , v_recall:  0.7464864864864865\n",
      "t_prec:  0.7479519701919151 , v_prec:  0.8573667711598747\n",
      "t_f:  0.5671250986161752 , v_f:  0.7735583684950774\n",
      "////////\n"
     ]
    },
    {
     "name": "stderr",
     "output_type": "stream",
     "text": [
      "\r",
      "Iterations:  88%|█████████████████████████████    | 264/300 [06:41<00:53,  1.49s/it]"
     ]
    },
    {
     "name": "stdout",
     "output_type": "stream",
     "text": [
      "Epoch  263 , loss 0.3781788346229815\n",
      "Epoch  264 , loss 0.3798574629951926\n"
     ]
    },
    {
     "name": "stderr",
     "output_type": "stream",
     "text": [
      "\r",
      "Iterations:  88%|█████████████████████████████▏   | 265/300 [06:43<00:58,  1.68s/it]"
     ]
    },
    {
     "name": "stdout",
     "output_type": "stream",
     "text": [
      "Epoch:  264\n",
      "t_loss:  0.3798574629951926 , v_loss:  0.5005037039518356\n",
      "t_acc:  0.7407407407407407 , v_acc:  0.8260869565217391\n",
      "t_recall:  0.5867823664237384 , v_recall:  0.7364864864864865\n",
      "t_prec:  0.7731968488060604 , v_prec:  0.8524436090225564\n",
      "t_f:  0.576203592349769 , v_f:  0.7631357713324927\n",
      "////////\n"
     ]
    },
    {
     "name": "stderr",
     "output_type": "stream",
     "text": [
      "\r",
      "Iterations:  89%|█████████████████████████████▎   | 266/300 [06:44<00:50,  1.50s/it]"
     ]
    },
    {
     "name": "stdout",
     "output_type": "stream",
     "text": [
      "Epoch  265 , loss 0.38085348465863395\n",
      "Epoch  266 , loss 0.3749962960388146\n"
     ]
    },
    {
     "name": "stderr",
     "output_type": "stream",
     "text": [
      "\r",
      "Iterations:  89%|█████████████████████████████▎   | 267/300 [06:46<00:53,  1.62s/it]"
     ]
    },
    {
     "name": "stdout",
     "output_type": "stream",
     "text": [
      "Epoch:  266\n",
      "t_loss:  0.3749962960388146 , v_loss:  0.4937584002812703\n",
      "t_acc:  0.738562091503268 , v_acc:  0.8322981366459627\n",
      "t_recall:  0.5837787019118595 , v_recall:  0.7464864864864865\n",
      "t_prec:  0.7669125041904123 , v_prec:  0.8573667711598747\n",
      "t_f:  0.571827271365802 , v_f:  0.7735583684950774\n",
      "////////\n"
     ]
    },
    {
     "name": "stderr",
     "output_type": "stream",
     "text": [
      "\r",
      "Iterations:  89%|█████████████████████████████▍   | 268/300 [06:47<00:49,  1.53s/it]"
     ]
    },
    {
     "name": "stdout",
     "output_type": "stream",
     "text": [
      "Epoch  267 , loss 0.3790152455661811\n",
      "Epoch  268 , loss 0.38121096877490773\n"
     ]
    },
    {
     "name": "stderr",
     "output_type": "stream",
     "text": [
      "\r",
      "Iterations:  90%|█████████████████████████████▌   | 269/300 [06:49<00:50,  1.65s/it]"
     ]
    },
    {
     "name": "stdout",
     "output_type": "stream",
     "text": [
      "Epoch:  268\n",
      "t_loss:  0.38121096877490773 , v_loss:  0.4962834566831589\n",
      "t_acc:  0.7363834422657952 , v_acc:  0.8322981366459627\n",
      "t_recall:  0.5830753077778236 , v_recall:  0.7464864864864865\n",
      "t_prec:  0.7516086793864571 , v_prec:  0.8573667711598747\n",
      "t_f:  0.5717890801464289 , v_f:  0.7735583684950774\n",
      "////////\n"
     ]
    },
    {
     "name": "stderr",
     "output_type": "stream",
     "text": [
      "\r",
      "Iterations:  90%|█████████████████████████████▋   | 270/300 [06:50<00:45,  1.52s/it]"
     ]
    },
    {
     "name": "stdout",
     "output_type": "stream",
     "text": [
      "Epoch  269 , loss 0.37694910227083694\n",
      "Epoch  270 , loss 0.37625305675992776\n"
     ]
    },
    {
     "name": "stderr",
     "output_type": "stream",
     "text": [
      "\r",
      "Iterations:  90%|█████████████████████████████▊   | 271/300 [06:52<00:48,  1.66s/it]"
     ]
    },
    {
     "name": "stdout",
     "output_type": "stream",
     "text": [
      "Epoch:  270\n",
      "t_loss:  0.37625305675992776 , v_loss:  0.49871587256590527\n",
      "t_acc:  0.744786803610333 , v_acc:  0.8260869565217391\n",
      "t_recall:  0.5928535155981938 , v_recall:  0.7364864864864865\n",
      "t_prec:  0.7822907944844238 , v_prec:  0.8524436090225564\n",
      "t_f:  0.5851791438630081 , v_f:  0.7631357713324927\n",
      "////////\n"
     ]
    },
    {
     "name": "stderr",
     "output_type": "stream",
     "text": [
      "\r",
      "Iterations:  91%|█████████████████████████████▉   | 272/300 [06:53<00:43,  1.55s/it]"
     ]
    },
    {
     "name": "stdout",
     "output_type": "stream",
     "text": [
      "Epoch  271 , loss 0.37973382367807273\n",
      "Epoch  272 , loss 0.37603602280803755\n"
     ]
    },
    {
     "name": "stderr",
     "output_type": "stream",
     "text": [
      "\r",
      "Iterations:  91%|██████████████████████████████   | 273/300 [06:56<00:46,  1.71s/it]"
     ]
    },
    {
     "name": "stdout",
     "output_type": "stream",
     "text": [
      "Epoch:  272\n",
      "t_loss:  0.37603602280803755 , v_loss:  0.5008182128270467\n",
      "t_acc:  0.739807033924681 , v_acc:  0.8322981366459627\n",
      "t_recall:  0.5875488944702928 , v_recall:  0.7464864864864865\n",
      "t_prec:  0.7621889565710622 , v_prec:  0.8573667711598747\n",
      "t_f:  0.5781430219146483 , v_f:  0.7735583684950774\n",
      "////////\n"
     ]
    },
    {
     "name": "stderr",
     "output_type": "stream",
     "text": [
      "\r",
      "Iterations:  91%|██████████████████████████████▏  | 274/300 [06:57<00:40,  1.56s/it]"
     ]
    },
    {
     "name": "stdout",
     "output_type": "stream",
     "text": [
      "Epoch  273 , loss 0.37762197793698776\n",
      "Epoch  274 , loss 0.3816471608246074\n"
     ]
    },
    {
     "name": "stderr",
     "output_type": "stream",
     "text": [
      "\r",
      "Iterations:  92%|██████████████████████████████▎  | 275/300 [06:59<00:42,  1.68s/it]"
     ]
    },
    {
     "name": "stdout",
     "output_type": "stream",
     "text": [
      "Epoch:  274\n",
      "t_loss:  0.3816471608246074 , v_loss:  0.5013798127571741\n",
      "t_acc:  0.7360722066604419 , v_acc:  0.8322981366459627\n",
      "t_recall:  0.5828515941312911 , v_recall:  0.7464864864864865\n",
      "t_prec:  0.749986886350209 , v_prec:  0.8573667711598747\n",
      "t_f:  0.5715520353850934 , v_f:  0.7735583684950774\n",
      "////////\n"
     ]
    },
    {
     "name": "stderr",
     "output_type": "stream",
     "text": [
      "\r",
      "Iterations:  92%|██████████████████████████████▎  | 276/300 [07:00<00:36,  1.52s/it]"
     ]
    },
    {
     "name": "stdout",
     "output_type": "stream",
     "text": [
      "Epoch  275 , loss 0.3824947441325468\n",
      "Epoch  276 , loss 0.37556930090866836\n"
     ]
    },
    {
     "name": "stderr",
     "output_type": "stream",
     "text": [
      "\r",
      "Iterations:  92%|██████████████████████████████▍  | 277/300 [07:02<00:36,  1.60s/it]"
     ]
    },
    {
     "name": "stdout",
     "output_type": "stream",
     "text": [
      "Epoch:  276\n",
      "t_loss:  0.37556930090866836 , v_loss:  0.4964246948560079\n",
      "t_acc:  0.7382508558979147 , v_acc:  0.8322981366459627\n",
      "t_recall:  0.5849926572514789 , v_recall:  0.7464864864864865\n",
      "t_prec:  0.7593772862065307 , v_prec:  0.8573667711598747\n",
      "t_f:  0.5742884452414896 , v_f:  0.7735583684950774\n",
      "////////\n"
     ]
    },
    {
     "name": "stderr",
     "output_type": "stream",
     "text": [
      "\r",
      "Iterations:  93%|██████████████████████████████▌  | 278/300 [07:03<00:34,  1.56s/it]"
     ]
    },
    {
     "name": "stdout",
     "output_type": "stream",
     "text": [
      "Epoch  277 , loss 0.38298047611526415\n",
      "Epoch  278 , loss 0.38431159304637535\n"
     ]
    },
    {
     "name": "stderr",
     "output_type": "stream",
     "text": [
      "\r",
      "Iterations:  93%|██████████████████████████████▋  | 279/300 [07:05<00:35,  1.67s/it]"
     ]
    },
    {
     "name": "stdout",
     "output_type": "stream",
     "text": [
      "Epoch:  278\n",
      "t_loss:  0.38431159304637535 , v_loss:  0.4959893772999446\n",
      "t_acc:  0.7338935574229691 , v_acc:  0.8260869565217391\n",
      "t_recall:  0.5801354634166427 , v_recall:  0.7364864864864865\n",
      "t_prec:  0.7427048260381595 , v_prec:  0.8524436090225564\n",
      "t_f:  0.5677445850356514 , v_f:  0.7631357713324927\n",
      "////////\n"
     ]
    },
    {
     "name": "stderr",
     "output_type": "stream",
     "text": [
      "\r",
      "Iterations:  93%|██████████████████████████████▊  | 280/300 [07:06<00:30,  1.51s/it]"
     ]
    },
    {
     "name": "stdout",
     "output_type": "stream",
     "text": [
      "Epoch  279 , loss 0.37779800097147626\n",
      "Epoch  280 , loss 0.37028858182477015\n"
     ]
    },
    {
     "name": "stderr",
     "output_type": "stream",
     "text": [
      "\r",
      "Iterations:  94%|██████████████████████████████▉  | 281/300 [07:08<00:31,  1.66s/it]"
     ]
    },
    {
     "name": "stdout",
     "output_type": "stream",
     "text": [
      "Epoch:  280\n",
      "t_loss:  0.37028858182477015 , v_loss:  0.4960893789927165\n",
      "t_acc:  0.7416744475568005 , v_acc:  0.8322981366459627\n",
      "t_recall:  0.5897537777411784 , v_recall:  0.7464864864864865\n",
      "t_prec:  0.7687920787195739 , v_prec:  0.8573667711598747\n",
      "t_f:  0.5811707035755478 , v_f:  0.7735583684950774\n",
      "////////\n"
     ]
    },
    {
     "name": "stderr",
     "output_type": "stream",
     "text": [
      "\r",
      "Iterations:  94%|███████████████████████████████  | 282/300 [07:09<00:27,  1.50s/it]"
     ]
    },
    {
     "name": "stdout",
     "output_type": "stream",
     "text": [
      "Epoch  281 , loss 0.3805820795835233\n",
      "Epoch  282 , loss 0.37975232741411996\n"
     ]
    },
    {
     "name": "stderr",
     "output_type": "stream",
     "text": [
      "\r",
      "Iterations:  94%|███████████████████████████████▏ | 283/300 [07:11<00:28,  1.68s/it]"
     ]
    },
    {
     "name": "stdout",
     "output_type": "stream",
     "text": [
      "Epoch:  282\n",
      "t_loss:  0.37975232741411996 , v_loss:  0.4892916480700175\n",
      "t_acc:  0.7413632119514473 , v_acc:  0.8322981366459627\n",
      "t_recall:  0.5901051316891067 , v_recall:  0.7464864864864865\n",
      "t_prec:  0.7649153554586515 , v_prec:  0.8573667711598747\n",
      "t_f:  0.5819702892370936 , v_f:  0.7735583684950774\n",
      "////////\n"
     ]
    },
    {
     "name": "stderr",
     "output_type": "stream",
     "text": [
      "\r",
      "Iterations:  95%|███████████████████████████████▏ | 284/300 [07:13<00:24,  1.55s/it]"
     ]
    },
    {
     "name": "stdout",
     "output_type": "stream",
     "text": [
      "Epoch  283 , loss 0.3843843814204721\n",
      "Epoch  284 , loss 0.3773515037461823\n"
     ]
    },
    {
     "name": "stderr",
     "output_type": "stream",
     "text": [
      "\r",
      "Iterations:  95%|███████████████████████████████▎ | 285/300 [07:15<00:25,  1.70s/it]"
     ]
    },
    {
     "name": "stdout",
     "output_type": "stream",
     "text": [
      "Epoch:  284\n",
      "t_loss:  0.3773515037461823 , v_loss:  0.4988922526439031\n",
      "t_acc:  0.7429193899782135 , v_acc:  0.8260869565217391\n",
      "t_recall:  0.5915112337189992 , v_recall:  0.7364864864864865\n",
      "t_prec:  0.7720285045966382 , v_prec:  0.8524436090225564\n",
      "t_f:  0.5837090601079181 , v_f:  0.7631357713324927\n",
      "////////\n"
     ]
    },
    {
     "name": "stderr",
     "output_type": "stream",
     "text": [
      "\r",
      "Iterations:  95%|███████████████████████████████▍ | 286/300 [07:16<00:21,  1.54s/it]"
     ]
    },
    {
     "name": "stdout",
     "output_type": "stream",
     "text": [
      "Epoch  285 , loss 0.380706280762074\n",
      "Epoch  286 , loss 0.37693485792945414\n"
     ]
    },
    {
     "name": "stderr",
     "output_type": "stream",
     "text": [
      "\r",
      "Iterations:  96%|███████████████████████████████▌ | 287/300 [07:18<00:21,  1.65s/it]"
     ]
    },
    {
     "name": "stdout",
     "output_type": "stream",
     "text": [
      "Epoch:  286\n",
      "t_loss:  0.37693485792945414 , v_loss:  0.4941583424806595\n",
      "t_acc:  0.7376283846872083 , v_acc:  0.8322981366459627\n",
      "t_recall:  0.5856953651473353 , v_recall:  0.7464864864864865\n",
      "t_prec:  0.7519503350541117 , v_prec:  0.8573667711598747\n",
      "t_f:  0.5759337591177736 , v_f:  0.7735583684950774\n",
      "////////\n"
     ]
    },
    {
     "name": "stderr",
     "output_type": "stream",
     "text": [
      "\r",
      "Iterations:  96%|███████████████████████████████▋ | 288/300 [07:19<00:18,  1.58s/it]"
     ]
    },
    {
     "name": "stdout",
     "output_type": "stream",
     "text": [
      "Epoch  287 , loss 0.3762250314740574\n",
      "Epoch  288 , loss 0.37933509723812925\n"
     ]
    },
    {
     "name": "stderr",
     "output_type": "stream",
     "text": [
      "\r",
      "Iterations:  96%|███████████████████████████████▊ | 289/300 [07:21<00:19,  1.78s/it]"
     ]
    },
    {
     "name": "stdout",
     "output_type": "stream",
     "text": [
      "Epoch:  288\n",
      "t_loss:  0.37933509723812925 , v_loss:  0.49166564643383026\n",
      "t_acc:  0.7388733271086212 , v_acc:  0.8322981366459627\n",
      "t_recall:  0.5868777535306954 , v_recall:  0.7464864864864865\n",
      "t_prec:  0.7573045217306473 , v_prec:  0.8573667711598747\n",
      "t_f:  0.5774206154935757 , v_f:  0.7735583684950774\n",
      "////////\n"
     ]
    },
    {
     "name": "stderr",
     "output_type": "stream",
     "text": [
      "\r",
      "Iterations:  97%|███████████████████████████████▉ | 290/300 [07:23<00:15,  1.59s/it]"
     ]
    },
    {
     "name": "stdout",
     "output_type": "stream",
     "text": [
      "Epoch  289 , loss 0.37738397571386073\n",
      "Epoch  290 , loss 0.38084211244302635\n"
     ]
    },
    {
     "name": "stderr",
     "output_type": "stream",
     "text": [
      "\r",
      "Iterations:  97%|████████████████████████████████ | 291/300 [07:25<00:15,  1.70s/it]"
     ]
    },
    {
     "name": "stdout",
     "output_type": "stream",
     "text": [
      "Epoch:  290\n",
      "t_loss:  0.38084211244302635 , v_loss:  0.48963163296381634\n",
      "t_acc:  0.7404295051353875 , v_acc:  0.8260869565217391\n",
      "t_recall:  0.5879963217633576 , v_recall:  0.7364864864864865\n",
      "t_prec:  0.7655099967422934 , v_prec:  0.8524436090225564\n",
      "t_f:  0.5786254687631697 , v_f:  0.7631357713324927\n",
      "////////\n"
     ]
    },
    {
     "name": "stderr",
     "output_type": "stream",
     "text": [
      "\r",
      "Iterations:  97%|████████████████████████████████ | 292/300 [07:26<00:12,  1.52s/it]"
     ]
    },
    {
     "name": "stdout",
     "output_type": "stream",
     "text": [
      "Epoch  291 , loss 0.37571732787524953\n",
      "Epoch  292 , loss 0.3804723597040363\n"
     ]
    },
    {
     "name": "stderr",
     "output_type": "stream",
     "text": [
      "\r",
      "Iterations:  98%|████████████████████████████████▏| 293/300 [07:27<00:11,  1.60s/it]"
     ]
    },
    {
     "name": "stdout",
     "output_type": "stream",
     "text": [
      "Epoch:  292\n",
      "t_loss:  0.3804723597040363 , v_loss:  0.4987577646970749\n",
      "t_acc:  0.7388733271086212 , v_acc:  0.8260869565217391\n",
      "t_recall:  0.5871652873279258 , v_recall:  0.7364864864864865\n",
      "t_prec:  0.7562720085222916 , v_prec:  0.8524436090225564\n",
      "t_f:  0.5779459358242135 , v_f:  0.7631357713324927\n",
      "////////\n"
     ]
    },
    {
     "name": "stderr",
     "output_type": "stream",
     "text": [
      "\r",
      "Iterations:  98%|████████████████████████████████▎| 294/300 [07:29<00:08,  1.49s/it]"
     ]
    },
    {
     "name": "stdout",
     "output_type": "stream",
     "text": [
      "Epoch  293 , loss 0.36712613175897035\n",
      "Epoch  294 , loss 0.37971624965761225\n"
     ]
    },
    {
     "name": "stderr",
     "output_type": "stream",
     "text": [
      "\r",
      "Iterations:  98%|████████████████████████████████▍| 295/300 [07:31<00:08,  1.63s/it]"
     ]
    },
    {
     "name": "stdout",
     "output_type": "stream",
     "text": [
      "Epoch:  294\n",
      "t_loss:  0.37971624965761225 , v_loss:  0.4962095419565837\n",
      "t_acc:  0.738562091503268 , v_acc:  0.8260869565217391\n",
      "t_recall:  0.586654039884163 , v_recall:  0.7364864864864865\n",
      "t_prec:  0.7557016537293284 , v_prec:  0.8524436090225564\n",
      "t_f:  0.5771801482153622 , v_f:  0.7631357713324927\n",
      "////////\n"
     ]
    },
    {
     "name": "stderr",
     "output_type": "stream",
     "text": [
      "\r",
      "Iterations:  99%|████████████████████████████████▌| 296/300 [07:32<00:06,  1.51s/it]"
     ]
    },
    {
     "name": "stdout",
     "output_type": "stream",
     "text": [
      "Epoch  295 , loss 0.3736903918724434\n",
      "Epoch  296 , loss 0.38201478883331896\n"
     ]
    },
    {
     "name": "stderr",
     "output_type": "stream",
     "text": [
      "\r",
      "Iterations:  99%|████████████████████████████████▋| 297/300 [07:34<00:04,  1.65s/it]"
     ]
    },
    {
     "name": "stdout",
     "output_type": "stream",
     "text": [
      "Epoch:  296\n",
      "t_loss:  0.38201478883331896 , v_loss:  0.5007019639015198\n",
      "t_acc:  0.74354186118892 , v_acc:  0.8260869565217391\n",
      "t_recall:  0.5936838637954461 , v_recall:  0.7364864864864865\n",
      "t_prec:  0.7685987486719396 , v_prec:  0.8524436090225564\n",
      "t_f:  0.5872832369942197 , v_f:  0.7631357713324927\n",
      "////////\n"
     ]
    },
    {
     "name": "stderr",
     "output_type": "stream",
     "text": [
      "\r",
      "Iterations:  99%|████████████████████████████████▊| 298/300 [07:35<00:02,  1.49s/it]"
     ]
    },
    {
     "name": "stdout",
     "output_type": "stream",
     "text": [
      "Epoch  297 , loss 0.37511226330317704\n",
      "Epoch  298 , loss 0.3761892201853733\n"
     ]
    },
    {
     "name": "stderr",
     "output_type": "stream",
     "text": [
      "\r",
      "Iterations: 100%|████████████████████████████████▉| 299/300 [07:37<00:01,  1.61s/it]"
     ]
    },
    {
     "name": "stdout",
     "output_type": "stream",
     "text": [
      "Epoch:  298\n",
      "t_loss:  0.3761892201853733 , v_loss:  0.49833886325359344\n",
      "t_acc:  0.7401182695300342 , v_acc:  0.8260869565217391\n",
      "t_recall:  0.5900728784946679 , v_recall:  0.7364864864864865\n",
      "t_prec:  0.7555368657134847 , v_prec:  0.8524436090225564\n",
      "t_f:  0.5825450196547431 , v_f:  0.7631357713324927\n",
      "////////\n"
     ]
    },
    {
     "name": "stderr",
     "output_type": "stream",
     "text": [
      "Iterations: 100%|█████████████████████████████████| 300/300 [07:38<00:00,  1.53s/it]"
     ]
    },
    {
     "name": "stdout",
     "output_type": "stream",
     "text": [
      "Epoch  299 , loss 0.37128359020925034\n"
     ]
    },
    {
     "name": "stderr",
     "output_type": "stream",
     "text": [
      "\n"
     ]
    },
    {
     "name": "stdout",
     "output_type": "stream",
     "text": [
      "108 26\n",
      "\n",
      "c0_acc 0.972972972972973 , c1_acc 0.52 , b_acc 0.7464864864864865\n"
     ]
    },
    {
     "name": "stderr",
     "output_type": "stream",
     "text": [
      "\r",
      "Iterations:   0%|                                           | 0/300 [00:00<?, ?it/s]"
     ]
    },
    {
     "name": "stdout",
     "output_type": "stream",
     "text": [
      "Epoch  0 , loss 0.7245924215690762\n"
     ]
    },
    {
     "name": "stderr",
     "output_type": "stream",
     "text": [
      "\r",
      "Iterations:   0%|                                   | 1/300 [00:02<11:04,  2.22s/it]"
     ]
    },
    {
     "name": "stdout",
     "output_type": "stream",
     "text": [
      "Epoch:  0\n",
      "t_loss:  0.7245924215690762 , v_loss:  0.7180606921513876\n",
      "t_acc:  0.470991890205864 , v_acc:  0.31547619047619047\n",
      "t_recall:  0.4920047351423416 , v_recall:  0.5\n",
      "t_prec:  0.49314346428226463 , v_prec:  0.15773809523809523\n",
      "t_f:  0.4605520897820531 , v_f:  0.23981900452488686\n",
      "////////\n"
     ]
    },
    {
     "name": "stderr",
     "output_type": "stream",
     "text": [
      "\r",
      "Iterations:   1%|▏                                  | 2/300 [00:03<07:41,  1.55s/it]"
     ]
    },
    {
     "name": "stdout",
     "output_type": "stream",
     "text": [
      "Epoch  1 , loss 0.6764775362669253\n",
      "Epoch  2 , loss 0.6298637810875388\n"
     ]
    },
    {
     "name": "stderr",
     "output_type": "stream",
     "text": [
      "\r",
      "Iterations:   1%|▎                                  | 3/300 [00:05<08:17,  1.68s/it]"
     ]
    },
    {
     "name": "stdout",
     "output_type": "stream",
     "text": [
      "Epoch:  2\n",
      "t_loss:  0.6298637810875388 , v_loss:  0.7002018690109253\n",
      "t_acc:  0.6138490330630069 , v_acc:  0.31547619047619047\n",
      "t_recall:  0.5028408555436794 , v_recall:  0.5\n",
      "t_prec:  0.5035557997888214 , v_prec:  0.15773809523809523\n",
      "t_f:  0.4980257589761568 , v_f:  0.23981900452488686\n",
      "////////\n"
     ]
    },
    {
     "name": "stderr",
     "output_type": "stream",
     "text": [
      "\r",
      "Iterations:   1%|▍                                  | 4/300 [00:06<07:28,  1.52s/it]"
     ]
    },
    {
     "name": "stdout",
     "output_type": "stream",
     "text": [
      "Epoch  3 , loss 0.5842298795195187\n",
      "Epoch  4 , loss 0.5554269201615277\n"
     ]
    },
    {
     "name": "stderr",
     "output_type": "stream",
     "text": [
      "\r",
      "Iterations:   2%|▌                                  | 5/300 [00:08<07:59,  1.63s/it]"
     ]
    },
    {
     "name": "stdout",
     "output_type": "stream",
     "text": [
      "Epoch:  4\n",
      "t_loss:  0.5554269201615277 , v_loss:  0.6694838404655457\n",
      "t_acc:  0.6862133499688085 , v_acc:  0.6845238095238095\n",
      "t_recall:  0.5097973772828098 , v_recall:  0.5\n",
      "t_prec:  0.5473933280405984 , v_prec:  0.34226190476190477\n",
      "t_f:  0.45660833847201027 , v_f:  0.40636042402826855\n",
      "////////\n"
     ]
    },
    {
     "name": "stderr",
     "output_type": "stream",
     "text": [
      "\r",
      "Iterations:   2%|▋                                  | 6/300 [00:09<07:30,  1.53s/it]"
     ]
    },
    {
     "name": "stdout",
     "output_type": "stream",
     "text": [
      "Epoch  5 , loss 0.5210673470123142\n",
      "Epoch  6 , loss 0.503734735881581\n"
     ]
    },
    {
     "name": "stderr",
     "output_type": "stream",
     "text": [
      "\r",
      "Iterations:   2%|▊                                  | 7/300 [00:11<08:18,  1.70s/it]"
     ]
    },
    {
     "name": "stdout",
     "output_type": "stream",
     "text": [
      "Epoch:  6\n",
      "t_loss:  0.503734735881581 , v_loss:  0.6582804024219513\n",
      "t_acc:  0.6924516531503431 , v_acc:  0.6845238095238095\n",
      "t_recall:  0.4992669723821674 , v_recall:  0.5\n",
      "t_prec:  0.47821989099700857 , v_prec:  0.34226190476190477\n",
      "t_f:  0.4149518097887685 , v_f:  0.40636042402826855\n",
      "////////\n"
     ]
    },
    {
     "name": "stderr",
     "output_type": "stream",
     "text": [
      "\r",
      "Iterations:   3%|▉                                  | 8/300 [00:12<07:25,  1.53s/it]"
     ]
    },
    {
     "name": "stdout",
     "output_type": "stream",
     "text": [
      "Epoch  7 , loss 0.4919993468359405\n",
      "Epoch  8 , loss 0.4759538804783541\n"
     ]
    },
    {
     "name": "stderr",
     "output_type": "stream",
     "text": [
      "\r",
      "Iterations:   3%|█                                  | 9/300 [00:14<08:01,  1.65s/it]"
     ]
    },
    {
     "name": "stdout",
     "output_type": "stream",
     "text": [
      "Epoch:  8\n",
      "t_loss:  0.4759538804783541 , v_loss:  0.695407489935557\n",
      "t_acc:  0.6965065502183406 , v_acc:  0.6845238095238095\n",
      "t_recall:  0.5010256410256411 , v_recall:  0.5\n",
      "t_prec:  0.8481585518102372 , v_prec:  0.34226190476190477\n",
      "t_f:  0.4125346634036378 , v_f:  0.40636042402826855\n",
      "////////\n"
     ]
    },
    {
     "name": "stderr",
     "output_type": "stream",
     "text": [
      "\r",
      "Iterations:   3%|█▏                                | 10/300 [00:15<07:08,  1.48s/it]"
     ]
    },
    {
     "name": "stdout",
     "output_type": "stream",
     "text": [
      "Epoch  9 , loss 0.46649765383963493\n",
      "Epoch  10 , loss 0.4663972930580962\n"
     ]
    },
    {
     "name": "stderr",
     "output_type": "stream",
     "text": [
      "\r",
      "Iterations:   4%|█▏                                | 11/300 [00:17<07:41,  1.60s/it]"
     ]
    },
    {
     "name": "stdout",
     "output_type": "stream",
     "text": [
      "Epoch:  10\n",
      "t_loss:  0.4663972930580962 , v_loss:  0.7391539265712103\n",
      "t_acc:  0.6958827199001871 , v_acc:  0.6845238095238095\n",
      "t_recall:  0.5 , v_recall:  0.5\n",
      "t_prec:  0.34794135995009356 , v_prec:  0.34226190476190477\n",
      "t_f:  0.41033658267426887 , v_f:  0.40636042402826855\n",
      "////////\n"
     ]
    },
    {
     "name": "stderr",
     "output_type": "stream",
     "text": [
      "\r",
      "Iterations:   4%|█▎                                | 12/300 [00:18<06:56,  1.45s/it]"
     ]
    },
    {
     "name": "stdout",
     "output_type": "stream",
     "text": [
      "Epoch  11 , loss 0.4618949638862236\n",
      "Epoch  12 , loss 0.45353267882384507\n"
     ]
    },
    {
     "name": "stderr",
     "output_type": "stream",
     "text": [
      "\r",
      "Iterations:   4%|█▍                                | 13/300 [00:20<07:24,  1.55s/it]"
     ]
    },
    {
     "name": "stdout",
     "output_type": "stream",
     "text": [
      "Epoch:  12\n",
      "t_loss:  0.45353267882384507 , v_loss:  0.7570909410715103\n",
      "t_acc:  0.6958827199001871 , v_acc:  0.6845238095238095\n",
      "t_recall:  0.5 , v_recall:  0.5\n",
      "t_prec:  0.34794135995009356 , v_prec:  0.34226190476190477\n",
      "t_f:  0.41033658267426887 , v_f:  0.40636042402826855\n",
      "////////\n"
     ]
    },
    {
     "name": "stderr",
     "output_type": "stream",
     "text": [
      "\r",
      "Iterations:   5%|█▌                                | 14/300 [00:21<06:46,  1.42s/it]"
     ]
    },
    {
     "name": "stdout",
     "output_type": "stream",
     "text": [
      "Epoch  13 , loss 0.4559035055777606\n",
      "Epoch  14 , loss 0.4536021544652827\n"
     ]
    },
    {
     "name": "stderr",
     "output_type": "stream",
     "text": [
      "\r",
      "Iterations:   5%|█▋                                | 15/300 [00:23<07:29,  1.58s/it]"
     ]
    },
    {
     "name": "stdout",
     "output_type": "stream",
     "text": [
      "Epoch:  14\n",
      "t_loss:  0.4536021544652827 , v_loss:  0.7566618621349335\n",
      "t_acc:  0.6958827199001871 , v_acc:  0.6845238095238095\n",
      "t_recall:  0.5 , v_recall:  0.5\n",
      "t_prec:  0.34794135995009356 , v_prec:  0.34226190476190477\n",
      "t_f:  0.41033658267426887 , v_f:  0.40636042402826855\n",
      "////////\n"
     ]
    },
    {
     "name": "stderr",
     "output_type": "stream",
     "text": [
      "\r",
      "Iterations:   5%|█▊                                | 16/300 [00:24<06:57,  1.47s/it]"
     ]
    },
    {
     "name": "stdout",
     "output_type": "stream",
     "text": [
      "Epoch  15 , loss 0.45067482660798464\n",
      "Epoch  16 , loss 0.45919481796376843\n"
     ]
    },
    {
     "name": "stderr",
     "output_type": "stream",
     "text": [
      "\r",
      "Iterations:   6%|█▉                                | 17/300 [00:26<07:37,  1.62s/it]"
     ]
    },
    {
     "name": "stdout",
     "output_type": "stream",
     "text": [
      "Epoch:  16\n",
      "t_loss:  0.45919481796376843 , v_loss:  0.744277760386467\n",
      "t_acc:  0.6958827199001871 , v_acc:  0.6845238095238095\n",
      "t_recall:  0.5 , v_recall:  0.5\n",
      "t_prec:  0.34794135995009356 , v_prec:  0.34226190476190477\n",
      "t_f:  0.41033658267426887 , v_f:  0.40636042402826855\n",
      "////////\n"
     ]
    },
    {
     "name": "stderr",
     "output_type": "stream",
     "text": [
      "\r",
      "Iterations:   6%|██                                | 18/300 [00:27<06:57,  1.48s/it]"
     ]
    },
    {
     "name": "stdout",
     "output_type": "stream",
     "text": [
      "Epoch  17 , loss 0.4554682222067141\n",
      "Epoch  18 , loss 0.45563070680580886\n"
     ]
    },
    {
     "name": "stderr",
     "output_type": "stream",
     "text": [
      "\r",
      "Iterations:   6%|██▏                               | 19/300 [00:29<07:35,  1.62s/it]"
     ]
    },
    {
     "name": "stdout",
     "output_type": "stream",
     "text": [
      "Epoch:  18\n",
      "t_loss:  0.45563070680580886 , v_loss:  0.7489155878623327\n",
      "t_acc:  0.6958827199001871 , v_acc:  0.6845238095238095\n",
      "t_recall:  0.5 , v_recall:  0.5\n",
      "t_prec:  0.34794135995009356 , v_prec:  0.34226190476190477\n",
      "t_f:  0.41033658267426887 , v_f:  0.40636042402826855\n",
      "////////\n"
     ]
    },
    {
     "name": "stderr",
     "output_type": "stream",
     "text": [
      "\r",
      "Iterations:   7%|██▎                               | 20/300 [00:31<06:50,  1.46s/it]"
     ]
    },
    {
     "name": "stdout",
     "output_type": "stream",
     "text": [
      "Epoch  19 , loss 0.4496874762516396\n",
      "Epoch  20 , loss 0.4507200133566763\n"
     ]
    },
    {
     "name": "stderr",
     "output_type": "stream",
     "text": [
      "\r",
      "Iterations:   7%|██▍                               | 21/300 [00:33<07:39,  1.65s/it]"
     ]
    },
    {
     "name": "stdout",
     "output_type": "stream",
     "text": [
      "Epoch:  20\n",
      "t_loss:  0.4507200133566763 , v_loss:  0.753289262453715\n",
      "t_acc:  0.6958827199001871 , v_acc:  0.6845238095238095\n",
      "t_recall:  0.5 , v_recall:  0.5\n",
      "t_prec:  0.34794135995009356 , v_prec:  0.34226190476190477\n",
      "t_f:  0.41033658267426887 , v_f:  0.40636042402826855\n",
      "////////\n"
     ]
    },
    {
     "name": "stderr",
     "output_type": "stream",
     "text": [
      "\r",
      "Iterations:   7%|██▍                               | 22/300 [00:34<06:54,  1.49s/it]"
     ]
    },
    {
     "name": "stdout",
     "output_type": "stream",
     "text": [
      "Epoch  21 , loss 0.4495670444825116\n",
      "Epoch  22 , loss 0.4499288470137353\n"
     ]
    },
    {
     "name": "stderr",
     "output_type": "stream",
     "text": [
      "\r",
      "Iterations:   8%|██▌                               | 23/300 [00:36<07:35,  1.64s/it]"
     ]
    },
    {
     "name": "stdout",
     "output_type": "stream",
     "text": [
      "Epoch:  22\n",
      "t_loss:  0.4499288470137353 , v_loss:  0.7543330192565918\n",
      "t_acc:  0.6955708047411104 , v_acc:  0.6845238095238095\n",
      "t_recall:  0.4997758852532497 , v_recall:  0.5\n",
      "t_prec:  0.34789391575663026 , v_prec:  0.34226190476190477\n",
      "t_f:  0.41022810890360556 , v_f:  0.40636042402826855\n",
      "////////\n"
     ]
    },
    {
     "name": "stderr",
     "output_type": "stream",
     "text": [
      "\r",
      "Iterations:   8%|██▋                               | 24/300 [00:37<06:46,  1.47s/it]"
     ]
    },
    {
     "name": "stdout",
     "output_type": "stream",
     "text": [
      "Epoch  23 , loss 0.4466423988342285\n",
      "Epoch  24 , loss 0.45750564512084513\n"
     ]
    },
    {
     "name": "stderr",
     "output_type": "stream",
     "text": [
      "\r",
      "Iterations:   8%|██▊                               | 25/300 [00:39<07:11,  1.57s/it]"
     ]
    },
    {
     "name": "stdout",
     "output_type": "stream",
     "text": [
      "Epoch:  24\n",
      "t_loss:  0.45750564512084513 , v_loss:  0.7446259061495463\n",
      "t_acc:  0.6958827199001871 , v_acc:  0.6845238095238095\n",
      "t_recall:  0.5 , v_recall:  0.5\n",
      "t_prec:  0.34794135995009356 , v_prec:  0.34226190476190477\n",
      "t_f:  0.41033658267426887 , v_f:  0.40636042402826855\n",
      "////////\n"
     ]
    },
    {
     "name": "stderr",
     "output_type": "stream",
     "text": [
      "\r",
      "Iterations:   9%|██▉                               | 26/300 [00:40<06:49,  1.49s/it]"
     ]
    },
    {
     "name": "stdout",
     "output_type": "stream",
     "text": [
      "Epoch  25 , loss 0.456679818092608\n",
      "Epoch  26 , loss 0.4492971996466319\n"
     ]
    },
    {
     "name": "stderr",
     "output_type": "stream",
     "text": [
      "\r",
      "Iterations:   9%|███                               | 27/300 [00:42<07:32,  1.66s/it]"
     ]
    },
    {
     "name": "stdout",
     "output_type": "stream",
     "text": [
      "Epoch:  26\n",
      "t_loss:  0.4492971996466319 , v_loss:  0.7501447647809982\n",
      "t_acc:  0.6955708047411104 , v_acc:  0.6845238095238095\n",
      "t_recall:  0.4997758852532497 , v_recall:  0.5\n",
      "t_prec:  0.34789391575663026 , v_prec:  0.34226190476190477\n",
      "t_f:  0.41022810890360556 , v_f:  0.40636042402826855\n",
      "////////\n"
     ]
    },
    {
     "name": "stderr",
     "output_type": "stream",
     "text": [
      "\r",
      "Iterations:   9%|███▏                              | 28/300 [00:43<06:59,  1.54s/it]"
     ]
    },
    {
     "name": "stdout",
     "output_type": "stream",
     "text": [
      "Epoch  27 , loss 0.45203400067254607\n",
      "Epoch  28 , loss 0.458914589063794\n"
     ]
    },
    {
     "name": "stderr",
     "output_type": "stream",
     "text": [
      "\r",
      "Iterations:  10%|███▎                              | 29/300 [00:45<07:33,  1.67s/it]"
     ]
    },
    {
     "name": "stdout",
     "output_type": "stream",
     "text": [
      "Epoch:  28\n",
      "t_loss:  0.458914589063794 , v_loss:  0.7559615820646286\n",
      "t_acc:  0.6958827199001871 , v_acc:  0.6845238095238095\n",
      "t_recall:  0.5 , v_recall:  0.5\n",
      "t_prec:  0.34794135995009356 , v_prec:  0.34226190476190477\n",
      "t_f:  0.41033658267426887 , v_f:  0.40636042402826855\n",
      "////////\n"
     ]
    },
    {
     "name": "stderr",
     "output_type": "stream",
     "text": [
      "\r",
      "Iterations:  10%|███▍                              | 30/300 [00:46<06:58,  1.55s/it]"
     ]
    },
    {
     "name": "stdout",
     "output_type": "stream",
     "text": [
      "Epoch  29 , loss 0.4476353315746083\n",
      "Epoch  30 , loss 0.4582781096299489\n"
     ]
    },
    {
     "name": "stderr",
     "output_type": "stream",
     "text": [
      "\r",
      "Iterations:  10%|███▌                              | 31/300 [00:48<07:21,  1.64s/it]"
     ]
    },
    {
     "name": "stdout",
     "output_type": "stream",
     "text": [
      "Epoch:  30\n",
      "t_loss:  0.4582781096299489 , v_loss:  0.7424968183040619\n",
      "t_acc:  0.6958827199001871 , v_acc:  0.6845238095238095\n",
      "t_recall:  0.5 , v_recall:  0.5\n",
      "t_prec:  0.34794135995009356 , v_prec:  0.34226190476190477\n",
      "t_f:  0.41033658267426887 , v_f:  0.40636042402826855\n",
      "////////\n"
     ]
    },
    {
     "name": "stderr",
     "output_type": "stream",
     "text": [
      "\r",
      "Iterations:  11%|███▋                              | 32/300 [00:49<06:43,  1.51s/it]"
     ]
    },
    {
     "name": "stdout",
     "output_type": "stream",
     "text": [
      "Epoch  31 , loss 0.44409088936506536\n",
      "Epoch  32 , loss 0.4551643203286564\n"
     ]
    },
    {
     "name": "stderr",
     "output_type": "stream",
     "text": [
      "\r",
      "Iterations:  11%|███▋                              | 33/300 [00:51<07:11,  1.62s/it]"
     ]
    },
    {
     "name": "stdout",
     "output_type": "stream",
     "text": [
      "Epoch:  32\n",
      "t_loss:  0.4551643203286564 , v_loss:  0.7428577293952306\n",
      "t_acc:  0.6958827199001871 , v_acc:  0.6845238095238095\n",
      "t_recall:  0.5 , v_recall:  0.5\n",
      "t_prec:  0.34794135995009356 , v_prec:  0.34226190476190477\n",
      "t_f:  0.41033658267426887 , v_f:  0.40636042402826855\n",
      "////////\n"
     ]
    },
    {
     "name": "stderr",
     "output_type": "stream",
     "text": [
      "\r",
      "Iterations:  11%|███▊                              | 34/300 [00:52<06:25,  1.45s/it]"
     ]
    },
    {
     "name": "stdout",
     "output_type": "stream",
     "text": [
      "Epoch  33 , loss 0.44449367827060177\n",
      "Epoch  34 , loss 0.44609323027087194\n"
     ]
    },
    {
     "name": "stderr",
     "output_type": "stream",
     "text": [
      "\r",
      "Iterations:  12%|███▉                              | 35/300 [00:54<06:56,  1.57s/it]"
     ]
    },
    {
     "name": "stdout",
     "output_type": "stream",
     "text": [
      "Epoch:  34\n",
      "t_loss:  0.44609323027087194 , v_loss:  0.7343317617972692\n",
      "t_acc:  0.6958827199001871 , v_acc:  0.6845238095238095\n",
      "t_recall:  0.5 , v_recall:  0.5\n",
      "t_prec:  0.34794135995009356 , v_prec:  0.34226190476190477\n",
      "t_f:  0.41033658267426887 , v_f:  0.40636042402826855\n",
      "////////\n"
     ]
    },
    {
     "name": "stderr",
     "output_type": "stream",
     "text": [
      "\r",
      "Iterations:  12%|████                              | 36/300 [00:56<06:35,  1.50s/it]"
     ]
    },
    {
     "name": "stdout",
     "output_type": "stream",
     "text": [
      "Epoch  35 , loss 0.44270290463578466\n",
      "Epoch  36 , loss 0.44405676103105735\n"
     ]
    },
    {
     "name": "stderr",
     "output_type": "stream",
     "text": [
      "\r",
      "Iterations:  12%|████▏                             | 37/300 [00:58<07:17,  1.66s/it]"
     ]
    },
    {
     "name": "stdout",
     "output_type": "stream",
     "text": [
      "Epoch:  36\n",
      "t_loss:  0.44405676103105735 , v_loss:  0.7465463876724243\n",
      "t_acc:  0.6958827199001871 , v_acc:  0.6845238095238095\n",
      "t_recall:  0.5 , v_recall:  0.5\n",
      "t_prec:  0.34794135995009356 , v_prec:  0.34226190476190477\n",
      "t_f:  0.41033658267426887 , v_f:  0.40636042402826855\n",
      "////////\n"
     ]
    },
    {
     "name": "stderr",
     "output_type": "stream",
     "text": [
      "\r",
      "Iterations:  13%|████▎                             | 38/300 [00:59<06:44,  1.54s/it]"
     ]
    },
    {
     "name": "stdout",
     "output_type": "stream",
     "text": [
      "Epoch  37 , loss 0.4422848201265522\n",
      "Epoch  38 , loss 0.438298272151573\n"
     ]
    },
    {
     "name": "stderr",
     "output_type": "stream",
     "text": [
      "\r",
      "Iterations:  13%|████▍                             | 39/300 [01:01<07:00,  1.61s/it]"
     ]
    },
    {
     "name": "stdout",
     "output_type": "stream",
     "text": [
      "Epoch:  38\n",
      "t_loss:  0.438298272151573 , v_loss:  0.7460179279247919\n",
      "t_acc:  0.6958827199001871 , v_acc:  0.6845238095238095\n",
      "t_recall:  0.5 , v_recall:  0.5\n",
      "t_prec:  0.34794135995009356 , v_prec:  0.34226190476190477\n",
      "t_f:  0.41033658267426887 , v_f:  0.40636042402826855\n",
      "////////\n"
     ]
    },
    {
     "name": "stderr",
     "output_type": "stream",
     "text": [
      "\r",
      "Iterations:  13%|████▌                             | 40/300 [01:02<06:27,  1.49s/it]"
     ]
    },
    {
     "name": "stdout",
     "output_type": "stream",
     "text": [
      "Epoch  39 , loss 0.4462536415633033\n",
      "Epoch  40 , loss 0.4412996920884824\n"
     ]
    },
    {
     "name": "stderr",
     "output_type": "stream",
     "text": [
      "\r",
      "Iterations:  14%|████▋                             | 41/300 [01:04<07:10,  1.66s/it]"
     ]
    },
    {
     "name": "stdout",
     "output_type": "stream",
     "text": [
      "Epoch:  40\n",
      "t_loss:  0.4412996920884824 , v_loss:  0.7380817085504532\n",
      "t_acc:  0.6958827199001871 , v_acc:  0.6845238095238095\n",
      "t_recall:  0.5 , v_recall:  0.5\n",
      "t_prec:  0.34794135995009356 , v_prec:  0.34226190476190477\n",
      "t_f:  0.41033658267426887 , v_f:  0.40636042402826855\n",
      "////////\n"
     ]
    },
    {
     "name": "stderr",
     "output_type": "stream",
     "text": [
      "\r",
      "Iterations:  14%|████▊                             | 42/300 [01:05<06:23,  1.48s/it]"
     ]
    },
    {
     "name": "stdout",
     "output_type": "stream",
     "text": [
      "Epoch  41 , loss 0.44410613062334997\n",
      "Epoch  42 , loss 0.44620978656937094\n"
     ]
    },
    {
     "name": "stderr",
     "output_type": "stream",
     "text": [
      "\r",
      "Iterations:  14%|████▊                             | 43/300 [01:07<06:48,  1.59s/it]"
     ]
    },
    {
     "name": "stdout",
     "output_type": "stream",
     "text": [
      "Epoch:  42\n",
      "t_loss:  0.44620978656937094 , v_loss:  0.729931632677714\n",
      "t_acc:  0.6965065502183406 , v_acc:  0.6845238095238095\n",
      "t_recall:  0.5010256410256411 , v_recall:  0.5\n",
      "t_prec:  0.8481585518102372 , v_prec:  0.34226190476190477\n",
      "t_f:  0.4125346634036378 , v_f:  0.40636042402826855\n",
      "////////\n"
     ]
    },
    {
     "name": "stderr",
     "output_type": "stream",
     "text": [
      "\r",
      "Iterations:  15%|████▉                             | 44/300 [01:08<06:23,  1.50s/it]"
     ]
    },
    {
     "name": "stdout",
     "output_type": "stream",
     "text": [
      "Epoch  43 , loss 0.4354466272919786\n",
      "Epoch  44 , loss 0.4411891815709133\n"
     ]
    },
    {
     "name": "stderr",
     "output_type": "stream",
     "text": [
      "\r",
      "Iterations:  15%|█████                             | 45/300 [01:10<07:05,  1.67s/it]"
     ]
    },
    {
     "name": "stdout",
     "output_type": "stream",
     "text": [
      "Epoch:  44\n",
      "t_loss:  0.4411891815709133 , v_loss:  0.7301372786362966\n",
      "t_acc:  0.6952588895820336 , v_acc:  0.6845238095238095\n",
      "t_recall:  0.4998404762725695 , v_recall:  0.5\n",
      "t_prec:  0.47290755777638976 , v_prec:  0.34226190476190477\n",
      "t_f:  0.41110795883439955 , v_f:  0.40636042402826855\n",
      "////////\n"
     ]
    },
    {
     "name": "stderr",
     "output_type": "stream",
     "text": [
      "\r",
      "Iterations:  15%|█████▏                            | 46/300 [01:12<06:39,  1.57s/it]"
     ]
    },
    {
     "name": "stdout",
     "output_type": "stream",
     "text": [
      "Epoch  45 , loss 0.4299139558684592\n",
      "Epoch  46 , loss 0.43076931057023066\n"
     ]
    },
    {
     "name": "stderr",
     "output_type": "stream",
     "text": [
      "\r",
      "Iterations:  16%|█████▎                            | 47/300 [01:14<07:10,  1.70s/it]"
     ]
    },
    {
     "name": "stdout",
     "output_type": "stream",
     "text": [
      "Epoch:  46\n",
      "t_loss:  0.43076931057023066 , v_loss:  0.7364891171455383\n",
      "t_acc:  0.6958827199001871 , v_acc:  0.6845238095238095\n",
      "t_recall:  0.5 , v_recall:  0.5\n",
      "t_prec:  0.34794135995009356 , v_prec:  0.34226190476190477\n",
      "t_f:  0.41033658267426887 , v_f:  0.40636042402826855\n",
      "////////\n"
     ]
    },
    {
     "name": "stderr",
     "output_type": "stream",
     "text": [
      "\r",
      "Iterations:  16%|█████▍                            | 48/300 [01:15<06:25,  1.53s/it]"
     ]
    },
    {
     "name": "stdout",
     "output_type": "stream",
     "text": [
      "Epoch  47 , loss 0.4417061490171096\n",
      "Epoch  48 , loss 0.42818018443444195\n"
     ]
    },
    {
     "name": "stderr",
     "output_type": "stream",
     "text": [
      "\r",
      "Iterations:  16%|█████▌                            | 49/300 [01:16<06:42,  1.61s/it]"
     ]
    },
    {
     "name": "stdout",
     "output_type": "stream",
     "text": [
      "Epoch:  48\n",
      "t_loss:  0.42818018443444195 , v_loss:  0.7374243438243866\n",
      "t_acc:  0.6961946350592639 , v_acc:  0.6845238095238095\n",
      "t_recall:  0.501378937811031 , v_recall:  0.5\n",
      "t_prec:  0.633948108783995 , v_prec:  0.34226190476190477\n",
      "t_f:  0.4143863952620465 , v_f:  0.40636042402826855\n",
      "////////\n"
     ]
    },
    {
     "name": "stderr",
     "output_type": "stream",
     "text": [
      "\r",
      "Iterations:  17%|█████▋                            | 50/300 [01:18<06:18,  1.51s/it]"
     ]
    },
    {
     "name": "stdout",
     "output_type": "stream",
     "text": [
      "Epoch  49 , loss 0.4315869130340277\n",
      "Epoch  50 , loss 0.4347448968419842\n"
     ]
    },
    {
     "name": "stderr",
     "output_type": "stream",
     "text": [
      "\r",
      "Iterations:  17%|█████▊                            | 51/300 [01:20<06:44,  1.62s/it]"
     ]
    },
    {
     "name": "stdout",
     "output_type": "stream",
     "text": [
      "Epoch:  50\n",
      "t_loss:  0.4347448968419842 , v_loss:  0.7283083498477936\n",
      "t_acc:  0.6968184653774173 , v_acc:  0.6845238095238095\n",
      "t_recall:  0.5021158730706019 , v_recall:  0.5\n",
      "t_prec:  0.705532979055955 , v_prec:  0.34226190476190477\n",
      "t_f:  0.4155888872635618 , v_f:  0.40636042402826855\n",
      "////////\n"
     ]
    },
    {
     "name": "stderr",
     "output_type": "stream",
     "text": [
      "\r",
      "Iterations:  17%|█████▉                            | 52/300 [01:21<06:17,  1.52s/it]"
     ]
    },
    {
     "name": "stdout",
     "output_type": "stream",
     "text": [
      "Epoch  51 , loss 0.4343036132700303\n",
      "Epoch  52 , loss 0.43276238967390623\n"
     ]
    },
    {
     "name": "stderr",
     "output_type": "stream",
     "text": [
      "\r",
      "Iterations:  18%|██████                            | 53/300 [01:23<06:58,  1.69s/it]"
     ]
    },
    {
     "name": "stdout",
     "output_type": "stream",
     "text": [
      "Epoch:  52\n",
      "t_loss:  0.43276238967390623 , v_loss:  0.7231985231240591\n",
      "t_acc:  0.6958827199001871 , v_acc:  0.6845238095238095\n",
      "t_recall:  0.5011548230642807 , v_recall:  0.5\n",
      "t_prec:  0.5981863664790494 , v_prec:  0.34226190476190477\n",
      "t_f:  0.4142736335346872 , v_f:  0.40636042402826855\n",
      "////////\n"
     ]
    },
    {
     "name": "stderr",
     "output_type": "stream",
     "text": [
      "\r",
      "Iterations:  18%|██████                            | 54/300 [01:24<06:10,  1.51s/it]"
     ]
    },
    {
     "name": "stdout",
     "output_type": "stream",
     "text": [
      "Epoch  53 , loss 0.438776900955275\n",
      "Epoch  54 , loss 0.429886577760472\n"
     ]
    },
    {
     "name": "stderr",
     "output_type": "stream",
     "text": [
      "\r",
      "Iterations:  18%|██████▏                           | 55/300 [01:26<06:41,  1.64s/it]"
     ]
    },
    {
     "name": "stdout",
     "output_type": "stream",
     "text": [
      "Epoch:  54\n",
      "t_loss:  0.429886577760472 , v_loss:  0.7147061477104822\n",
      "t_acc:  0.6971303805364941 , v_acc:  0.6845238095238095\n",
      "t_recall:  0.503494810881633 , v_recall:  0.5\n",
      "t_prec:  0.6701127819548872 , v_prec:  0.34226190476190477\n",
      "t_f:  0.41957400854354565 , v_f:  0.40636042402826855\n",
      "////////\n"
     ]
    },
    {
     "name": "stderr",
     "output_type": "stream",
     "text": [
      "\r",
      "Iterations:  19%|██████▎                           | 56/300 [01:27<06:15,  1.54s/it]"
     ]
    },
    {
     "name": "stdout",
     "output_type": "stream",
     "text": [
      "Epoch  55 , loss 0.4290151596069336\n",
      "Epoch  56 , loss 0.4299142109412773\n"
     ]
    },
    {
     "name": "stderr",
     "output_type": "stream",
     "text": [
      "\r",
      "Iterations:  19%|██████▍                           | 57/300 [01:29<06:35,  1.63s/it]"
     ]
    },
    {
     "name": "stdout",
     "output_type": "stream",
     "text": [
      "Epoch:  56\n",
      "t_loss:  0.4299142109412773 , v_loss:  0.7242857466141382\n",
      "t_acc:  0.6946350592638803 , v_acc:  0.6845238095238095\n",
      "t_recall:  0.4999696583112092 , v_recall:  0.5\n",
      "t_prec:  0.4979349186483104 , v_prec:  0.34226190476190477\n",
      "t_f:  0.412848522942722 , v_f:  0.40636042402826855\n",
      "////////\n"
     ]
    },
    {
     "name": "stderr",
     "output_type": "stream",
     "text": [
      "\r",
      "Iterations:  19%|██████▌                           | 58/300 [01:30<06:05,  1.51s/it]"
     ]
    },
    {
     "name": "stdout",
     "output_type": "stream",
     "text": [
      "Epoch  57 , loss 0.43626442726920633\n",
      "Epoch  58 , loss 0.4281198762211145\n"
     ]
    },
    {
     "name": "stderr",
     "output_type": "stream",
     "text": [
      "\r",
      "Iterations:  20%|██████▋                           | 59/300 [01:32<06:34,  1.64s/it]"
     ]
    },
    {
     "name": "stdout",
     "output_type": "stream",
     "text": [
      "Epoch:  58\n",
      "t_loss:  0.4281198762211145 , v_loss:  0.7179478506247202\n",
      "t_acc:  0.6977542108546475 , v_acc:  0.6845238095238095\n",
      "t_recall:  0.5045204519072739 , v_recall:  0.5\n",
      "t_prec:  0.6926528213166144 , v_prec:  0.34226190476190477\n",
      "t_f:  0.4217252449689709 , v_f:  0.40636042402826855\n",
      "////////\n"
     ]
    },
    {
     "name": "stderr",
     "output_type": "stream",
     "text": [
      "\r",
      "Iterations:  20%|██████▊                           | 60/300 [01:33<05:56,  1.49s/it]"
     ]
    },
    {
     "name": "stdout",
     "output_type": "stream",
     "text": [
      "Epoch  59 , loss 0.42754216024688646\n",
      "Epoch  60 , loss 0.4288189498817219\n"
     ]
    },
    {
     "name": "stderr",
     "output_type": "stream",
     "text": [
      "\r",
      "Iterations:  20%|██████▉                           | 61/300 [01:36<06:33,  1.65s/it]"
     ]
    },
    {
     "name": "stdout",
     "output_type": "stream",
     "text": [
      "Epoch:  60\n",
      "t_loss:  0.4288189498817219 , v_loss:  0.7185895840326945\n",
      "t_acc:  0.6965065502183406 , v_acc:  0.6845238095238095\n",
      "t_recall:  0.5033352871542024 , v_recall:  0.5\n",
      "t_prec:  0.6264289697476648 , v_prec:  0.34226190476190477\n",
      "t_f:  0.42029378188377886 , v_f:  0.40636042402826855\n",
      "////////\n"
     ]
    },
    {
     "name": "stderr",
     "output_type": "stream",
     "text": [
      "\r",
      "Iterations:  21%|███████                           | 62/300 [01:37<05:56,  1.50s/it]"
     ]
    },
    {
     "name": "stdout",
     "output_type": "stream",
     "text": [
      "Epoch  61 , loss 0.4270077879522361\n",
      "Epoch  62 , loss 0.43060751814468234\n"
     ]
    },
    {
     "name": "stderr",
     "output_type": "stream",
     "text": [
      "\r",
      "Iterations:  21%|███████▏                          | 63/300 [01:39<06:24,  1.62s/it]"
     ]
    },
    {
     "name": "stdout",
     "output_type": "stream",
     "text": [
      "Epoch:  62\n",
      "t_loss:  0.43060751814468234 , v_loss:  0.7252707531054815\n",
      "t_acc:  0.6986899563318777 , v_acc:  0.6845238095238095\n",
      "t_recall:  0.5057702076796653 , v_recall:  0.5\n",
      "t_prec:  0.7315219596775682 , v_prec:  0.34226190476190477\n",
      "t_f:  0.423990447565766 , v_f:  0.40636042402826855\n",
      "////////\n"
     ]
    },
    {
     "name": "stderr",
     "output_type": "stream",
     "text": [
      "\r",
      "Iterations:  21%|███████▎                          | 64/300 [01:40<05:46,  1.47s/it]"
     ]
    },
    {
     "name": "stdout",
     "output_type": "stream",
     "text": [
      "Epoch  63 , loss 0.4317680907015707\n",
      "Epoch  64 , loss 0.42662094095174\n"
     ]
    },
    {
     "name": "stderr",
     "output_type": "stream",
     "text": [
      "\r",
      "Iterations:  22%|███████▎                          | 65/300 [01:41<06:08,  1.57s/it]"
     ]
    },
    {
     "name": "stdout",
     "output_type": "stream",
     "text": [
      "Epoch:  64\n",
      "t_loss:  0.42662094095174 , v_loss:  0.7147201299667358\n",
      "t_acc:  0.6961946350592639 , v_acc:  0.6845238095238095\n",
      "t_recall:  0.5039772897056627 , v_recall:  0.5\n",
      "t_prec:  0.6087896887771141 , v_prec:  0.34226190476190477\n",
      "t_f:  0.4230147819660015 , v_f:  0.40636042402826855\n",
      "////////\n"
     ]
    },
    {
     "name": "stderr",
     "output_type": "stream",
     "text": [
      "\r",
      "Iterations:  22%|███████▍                          | 66/300 [01:43<05:51,  1.50s/it]"
     ]
    },
    {
     "name": "stdout",
     "output_type": "stream",
     "text": [
      "Epoch  65 , loss 0.4292134595852272\n",
      "Epoch  66 , loss 0.42515509619432335\n"
     ]
    },
    {
     "name": "stderr",
     "output_type": "stream",
     "text": [
      "\r",
      "Iterations:  22%|███████▌                          | 67/300 [01:45<06:09,  1.59s/it]"
     ]
    },
    {
     "name": "stdout",
     "output_type": "stream",
     "text": [
      "Epoch:  66\n",
      "t_loss:  0.42515509619432335 , v_loss:  0.7133339196443558\n",
      "t_acc:  0.6971303805364941 , v_acc:  0.6845238095238095\n",
      "t_recall:  0.5046496339459137 , v_recall:  0.5\n",
      "t_prec:  0.6443867062585655 , v_prec:  0.34226190476190477\n",
      "t_f:  0.42338076093469695 , v_f:  0.40636042402826855\n",
      "////////\n"
     ]
    },
    {
     "name": "stderr",
     "output_type": "stream",
     "text": [
      "\r",
      "Iterations:  23%|███████▋                          | 68/300 [01:46<05:41,  1.47s/it]"
     ]
    },
    {
     "name": "stdout",
     "output_type": "stream",
     "text": [
      "Epoch  67 , loss 0.4267803456853418\n",
      "Epoch  68 , loss 0.43068163885789756\n"
     ]
    },
    {
     "name": "stderr",
     "output_type": "stream",
     "text": [
      "\r",
      "Iterations:  23%|███████▊                          | 69/300 [01:48<06:13,  1.62s/it]"
     ]
    },
    {
     "name": "stdout",
     "output_type": "stream",
     "text": [
      "Epoch:  68\n",
      "t_loss:  0.43068163885789756 , v_loss:  0.7166572759548823\n",
      "t_acc:  0.698378041172801 , v_acc:  0.6845238095238095\n",
      "t_recall:  0.5058347986989852 , v_recall:  0.5\n",
      "t_prec:  0.6991839296924043 , v_prec:  0.34226190476190477\n",
      "t_f:  0.4248143059769959 , v_f:  0.40636042402826855\n",
      "////////\n"
     ]
    },
    {
     "name": "stderr",
     "output_type": "stream",
     "text": [
      "\r",
      "Iterations:  23%|███████▉                          | 70/300 [01:49<05:41,  1.48s/it]"
     ]
    },
    {
     "name": "stdout",
     "output_type": "stream",
     "text": [
      "Epoch  69 , loss 0.4257064712982552\n",
      "Epoch  70 , loss 0.42135805943432975\n"
     ]
    },
    {
     "name": "stderr",
     "output_type": "stream",
     "text": [
      "\r",
      "Iterations:  24%|████████                          | 71/300 [01:51<06:22,  1.67s/it]"
     ]
    },
    {
     "name": "stdout",
     "output_type": "stream",
     "text": [
      "Epoch:  70\n",
      "t_loss:  0.42135805943432975 , v_loss:  0.718230793873469\n",
      "t_acc:  0.6980661260137243 , v_acc:  0.6845238095238095\n",
      "t_recall:  0.5056106839522349 , v_recall:  0.5\n",
      "t_prec:  0.6824699110413396 , v_prec:  0.34226190476190477\n",
      "t_f:  0.4246913799956102 , v_f:  0.40636042402826855\n",
      "////////\n"
     ]
    },
    {
     "name": "stderr",
     "output_type": "stream",
     "text": [
      "\r",
      "Iterations:  24%|████████▏                         | 72/300 [01:52<05:47,  1.52s/it]"
     ]
    },
    {
     "name": "stdout",
     "output_type": "stream",
     "text": [
      "Epoch  71 , loss 0.42180893818537396\n",
      "Epoch  72 , loss 0.423141024276322\n"
     ]
    },
    {
     "name": "stderr",
     "output_type": "stream",
     "text": [
      "\r",
      "Iterations:  24%|████████▎                         | 73/300 [01:54<06:06,  1.62s/it]"
     ]
    },
    {
     "name": "stdout",
     "output_type": "stream",
     "text": [
      "Epoch:  72\n",
      "t_loss:  0.423141024276322 , v_loss:  0.7206436991691589\n",
      "t_acc:  0.6986899563318777 , v_acc:  0.6904761904761905\n",
      "t_recall:  0.5060589134457355 , v_recall:  0.5094339622641509\n",
      "t_prec:  0.7176523045926708 , v_prec:  0.844311377245509\n",
      "t_f:  0.4249372202205481 , v_f:  0.4263199369582348\n",
      "////////\n"
     ]
    },
    {
     "name": "stderr",
     "output_type": "stream",
     "text": [
      "\r",
      "Iterations:  25%|████████▍                         | 74/300 [01:55<05:29,  1.46s/it]"
     ]
    },
    {
     "name": "stdout",
     "output_type": "stream",
     "text": [
      "Epoch  73 , loss 0.41857019797259687\n",
      "Epoch  74 , loss 0.42884230029349235\n"
     ]
    },
    {
     "name": "stderr",
     "output_type": "stream",
     "text": [
      "\r",
      "Iterations:  25%|████████▌                         | 75/300 [01:57<06:05,  1.62s/it]"
     ]
    },
    {
     "name": "stdout",
     "output_type": "stream",
     "text": [
      "Epoch:  74\n",
      "t_loss:  0.42884230029349235 , v_loss:  0.7209514081478119\n",
      "t_acc:  0.6968184653774173 , v_acc:  0.6904761904761905\n",
      "t_recall:  0.5047142249652334 , v_recall:  0.5094339622641509\n",
      "t_prec:  0.6289468720528136 , v_prec:  0.844311377245509\n",
      "t_f:  0.42419955654102 , v_f:  0.4263199369582348\n",
      "////////\n"
     ]
    },
    {
     "name": "stderr",
     "output_type": "stream",
     "text": [
      "\r",
      "Iterations:  25%|████████▌                         | 76/300 [01:58<05:41,  1.52s/it]"
     ]
    },
    {
     "name": "stdout",
     "output_type": "stream",
     "text": [
      "Epoch  75 , loss 0.4242888133899838\n",
      "Epoch  76 , loss 0.4239871963566425\n"
     ]
    },
    {
     "name": "stderr",
     "output_type": "stream",
     "text": [
      "\r",
      "Iterations:  26%|████████▋                         | 77/300 [02:01<06:21,  1.71s/it]"
     ]
    },
    {
     "name": "stdout",
     "output_type": "stream",
     "text": [
      "Epoch:  76\n",
      "t_loss:  0.4239871963566425 , v_loss:  0.7213006565968195\n",
      "t_acc:  0.6990018714909545 , v_acc:  0.6904761904761905\n",
      "t_recall:  0.5077265570228368 , v_recall:  0.5094339622641509\n",
      "t_prec:  0.6888766519823788 , v_prec:  0.844311377245509\n",
      "t_f:  0.42973999060315815 , v_f:  0.4263199369582348\n",
      "////////\n"
     ]
    },
    {
     "name": "stderr",
     "output_type": "stream",
     "text": [
      "\r",
      "Iterations:  26%|████████▊                         | 78/300 [02:02<05:35,  1.51s/it]"
     ]
    },
    {
     "name": "stdout",
     "output_type": "stream",
     "text": [
      "Epoch  77 , loss 0.43043498665678737\n",
      "Epoch  78 , loss 0.4309782379982518\n"
     ]
    },
    {
     "name": "stderr",
     "output_type": "stream",
     "text": [
      "\r",
      "Iterations:  26%|████████▉                         | 79/300 [02:03<05:53,  1.60s/it]"
     ]
    },
    {
     "name": "stdout",
     "output_type": "stream",
     "text": [
      "Epoch:  78\n",
      "t_loss:  0.4309782379982518 , v_loss:  0.7166341493527094\n",
      "t_acc:  0.6993137866500312 , v_acc:  0.6904761904761905\n",
      "t_recall:  0.5082393775356572 , v_recall:  0.5094339622641509\n",
      "t_prec:  0.6945285619701953 , v_prec:  0.844311377245509\n",
      "t_f:  0.4307930997901883 , v_f:  0.4263199369582348\n",
      "////////\n"
     ]
    },
    {
     "name": "stderr",
     "output_type": "stream",
     "text": [
      "\r",
      "Iterations:  27%|█████████                         | 80/300 [02:05<05:29,  1.50s/it]"
     ]
    },
    {
     "name": "stdout",
     "output_type": "stream",
     "text": [
      "Epoch  79 , loss 0.42226218008527566\n",
      "Epoch  80 , loss 0.42439262598168614\n"
     ]
    },
    {
     "name": "stderr",
     "output_type": "stream",
     "text": [
      "\r",
      "Iterations:  27%|█████████▏                        | 81/300 [02:07<05:56,  1.63s/it]"
     ]
    },
    {
     "name": "stdout",
     "output_type": "stream",
     "text": [
      "Epoch:  80\n",
      "t_loss:  0.42439262598168614 , v_loss:  0.7224994351466497\n",
      "t_acc:  0.7005614472863381 , v_acc:  0.6904761904761905\n",
      "t_recall:  0.5097132480547989 , v_recall:  0.5094339622641509\n",
      "t_prec:  0.7293260829453073 , v_prec:  0.844311377245509\n",
      "t_f:  0.43315495414790534 , v_f:  0.4263199369582348\n",
      "////////\n"
     ]
    },
    {
     "name": "stderr",
     "output_type": "stream",
     "text": [
      "\r",
      "Iterations:  27%|█████████▎                        | 82/300 [02:08<05:25,  1.49s/it]"
     ]
    },
    {
     "name": "stdout",
     "output_type": "stream",
     "text": [
      "Epoch  81 , loss 0.4309172548499762\n",
      "Epoch  82 , loss 0.41687274096058863\n"
     ]
    },
    {
     "name": "stderr",
     "output_type": "stream",
     "text": [
      "\r",
      "Iterations:  28%|█████████▍                        | 83/300 [02:10<05:46,  1.60s/it]"
     ]
    },
    {
     "name": "stdout",
     "output_type": "stream",
     "text": [
      "Epoch:  82\n",
      "t_loss:  0.41687274096058863 , v_loss:  0.718151718378067\n",
      "t_acc:  0.7002495321272614 , v_acc:  0.6904761904761905\n",
      "t_recall:  0.51179877943661 , v_recall:  0.5094339622641509\n",
      "t_prec:  0.6765616400660429 , v_prec:  0.844311377245509\n",
      "t_f:  0.4402529263503888 , v_f:  0.4263199369582348\n",
      "////////\n"
     ]
    },
    {
     "name": "stderr",
     "output_type": "stream",
     "text": [
      "\r",
      "Iterations:  28%|█████████▌                        | 84/300 [02:11<05:29,  1.52s/it]"
     ]
    },
    {
     "name": "stdout",
     "output_type": "stream",
     "text": [
      "Epoch  83 , loss 0.4192698621282391\n",
      "Epoch  84 , loss 0.4199320387606527\n"
     ]
    },
    {
     "name": "stderr",
     "output_type": "stream",
     "text": [
      "\r",
      "Iterations:  28%|█████████▋                        | 85/300 [02:13<06:02,  1.69s/it]"
     ]
    },
    {
     "name": "stdout",
     "output_type": "stream",
     "text": [
      "Epoch:  84\n",
      "t_loss:  0.4199320387606527 , v_loss:  0.725675418972969\n",
      "t_acc:  0.6974422956955708 , v_acc:  0.6904761904761905\n",
      "t_recall:  0.5057398659908745 , v_recall:  0.5094339622641509\n",
      "t_prec:  0.6454627008260225 , v_prec:  0.844311377245509\n",
      "t_f:  0.4263192653509985 , v_f:  0.4263199369582348\n",
      "////////\n"
     ]
    },
    {
     "name": "stderr",
     "output_type": "stream",
     "text": [
      "\r",
      "Iterations:  29%|█████████▋                        | 86/300 [02:14<05:25,  1.52s/it]"
     ]
    },
    {
     "name": "stdout",
     "output_type": "stream",
     "text": [
      "Epoch  85 , loss 0.42121578080981387\n",
      "Epoch  86 , loss 0.420333442734737\n"
     ]
    },
    {
     "name": "stderr",
     "output_type": "stream",
     "text": [
      "\r",
      "Iterations:  29%|█████████▊                        | 87/300 [02:16<05:48,  1.64s/it]"
     ]
    },
    {
     "name": "stdout",
     "output_type": "stream",
     "text": [
      "Epoch:  86\n",
      "t_loss:  0.420333442734737 , v_loss:  0.7216686010360718\n",
      "t_acc:  0.698378041172801 , v_acc:  0.6904761904761905\n",
      "t_recall:  0.5081444448275465 , v_recall:  0.5094339622641509\n",
      "t_prec:  0.6552400981423063 , v_prec:  0.844311377245509\n",
      "t_f:  0.4322401738623704 , v_f:  0.4263199369582348\n",
      "////////\n"
     ]
    },
    {
     "name": "stderr",
     "output_type": "stream",
     "text": [
      "\r",
      "Iterations:  29%|█████████▉                        | 88/300 [02:17<05:11,  1.47s/it]"
     ]
    },
    {
     "name": "stdout",
     "output_type": "stream",
     "text": [
      "Epoch  87 , loss 0.41597701346173005\n",
      "Epoch  88 , loss 0.42270996290094714\n"
     ]
    },
    {
     "name": "stderr",
     "output_type": "stream",
     "text": [
      "\r",
      "Iterations:  30%|██████████                        | 89/300 [02:19<05:39,  1.61s/it]"
     ]
    },
    {
     "name": "stdout",
     "output_type": "stream",
     "text": [
      "Epoch:  88\n",
      "t_loss:  0.42270996290094714 , v_loss:  0.7245657294988632\n",
      "t_acc:  0.7024329382407986 , v_acc:  0.6964285714285714\n",
      "t_recall:  0.5136562884299325 , v_recall:  0.5188679245283019\n",
      "t_prec:  0.728917658844835 , v_prec:  0.8463855421686747\n",
      "t_f:  0.44211299708737295 , v_f:  0.44561630540278224\n",
      "////////\n"
     ]
    },
    {
     "name": "stderr",
     "output_type": "stream",
     "text": [
      "\r",
      "Iterations:  30%|██████████▏                       | 90/300 [02:20<05:08,  1.47s/it]"
     ]
    },
    {
     "name": "stdout",
     "output_type": "stream",
     "text": [
      "Epoch  89 , loss 0.41446278434173733\n",
      "Epoch  90 , loss 0.42412299852745206\n"
     ]
    },
    {
     "name": "stderr",
     "output_type": "stream",
     "text": [
      "\r",
      "Iterations:  30%|██████████▎                       | 91/300 [02:22<05:35,  1.60s/it]"
     ]
    },
    {
     "name": "stdout",
     "output_type": "stream",
     "text": [
      "Epoch:  90\n",
      "t_loss:  0.42412299852745206 , v_loss:  0.7324973146120707\n",
      "t_acc:  0.7024329382407986 , v_acc:  0.6964285714285714\n",
      "t_recall:  0.5139449941960027 , v_recall:  0.5188679245283019\n",
      "t_prec:  0.7230256821239771 , v_prec:  0.8463855421686747\n",
      "t_f:  0.4430025940195502 , v_f:  0.44561630540278224\n",
      "////////\n"
     ]
    },
    {
     "name": "stderr",
     "output_type": "stream",
     "text": [
      "\r",
      "Iterations:  31%|██████████▍                       | 92/300 [02:23<05:08,  1.48s/it]"
     ]
    },
    {
     "name": "stdout",
     "output_type": "stream",
     "text": [
      "Epoch  91 , loss 0.42126137777870776\n",
      "Epoch  92 , loss 0.41036807555778354\n"
     ]
    },
    {
     "name": "stderr",
     "output_type": "stream",
     "text": [
      "\r",
      "Iterations:  31%|██████████▌                       | 93/300 [02:25<05:33,  1.61s/it]"
     ]
    },
    {
     "name": "stdout",
     "output_type": "stream",
     "text": [
      "Epoch:  92\n",
      "t_loss:  0.41036807555778354 , v_loss:  0.730911652247111\n",
      "t_acc:  0.7036805988771054 , v_acc:  0.6904761904761905\n",
      "t_recall:  0.5171510993115654 , v_recall:  0.5145200984413454\n",
      "t_prec:  0.7152707654135773 , v_prec:  0.6787878787878787\n",
      "t_f:  0.4505777979817659 , v_f:  0.44285714285714284\n",
      "////////\n"
     ]
    },
    {
     "name": "stderr",
     "output_type": "stream",
     "text": [
      "\r",
      "Iterations:  31%|██████████▋                       | 94/300 [02:27<05:20,  1.56s/it]"
     ]
    },
    {
     "name": "stdout",
     "output_type": "stream",
     "text": [
      "Epoch  93 , loss 0.4166623605232613\n",
      "Epoch  94 , loss 0.41862085987539854\n"
     ]
    },
    {
     "name": "stderr",
     "output_type": "stream",
     "text": [
      "\r",
      "Iterations:  32%|██████████▊                       | 95/300 [02:29<05:42,  1.67s/it]"
     ]
    },
    {
     "name": "stdout",
     "output_type": "stream",
     "text": [
      "Epoch:  94\n",
      "t_loss:  0.41862085987539854 , v_loss:  0.7316809495290121\n",
      "t_acc:  0.7021210230817218 , v_acc:  0.6964285714285714\n",
      "t_recall:  0.5145869967474629 , v_recall:  0.5188679245283019\n",
      "t_prec:  0.7010773130544994 , v_prec:  0.8463855421686747\n",
      "t_f:  0.4455070245894588 , v_f:  0.44561630540278224\n",
      "////////\n"
     ]
    },
    {
     "name": "stderr",
     "output_type": "stream",
     "text": [
      "\r",
      "Iterations:  32%|██████████▉                       | 96/300 [02:30<05:03,  1.49s/it]"
     ]
    },
    {
     "name": "stdout",
     "output_type": "stream",
     "text": [
      "Epoch  95 , loss 0.41005732761878594\n",
      "Epoch  96 , loss 0.4179019565675773\n"
     ]
    },
    {
     "name": "stderr",
     "output_type": "stream",
     "text": [
      "\r",
      "Iterations:  32%|██████████▉                       | 97/300 [02:32<05:26,  1.61s/it]"
     ]
    },
    {
     "name": "stdout",
     "output_type": "stream",
     "text": [
      "Epoch:  96\n",
      "t_loss:  0.4179019565675773 , v_loss:  0.7294151534636816\n",
      "t_acc:  0.7033686837180287 , v_acc:  0.6904761904761905\n",
      "t_recall:  0.5180818076290958 , v_recall:  0.5145200984413454\n",
      "t_prec:  0.6955959579885423 , v_prec:  0.6787878787878787\n",
      "t_f:  0.4538503661500745 , v_f:  0.44285714285714284\n",
      "////////\n"
     ]
    },
    {
     "name": "stderr",
     "output_type": "stream",
     "text": [
      "\r",
      "Iterations:  33%|███████████                       | 98/300 [02:33<05:04,  1.51s/it]"
     ]
    },
    {
     "name": "stdout",
     "output_type": "stream",
     "text": [
      "Epoch  97 , loss 0.4160553766231911\n",
      "Epoch  98 , loss 0.41399306029665706\n"
     ]
    },
    {
     "name": "stderr",
     "output_type": "stream",
     "text": [
      "\r",
      "Iterations:  33%|███████████▏                      | 99/300 [02:35<05:28,  1.64s/it]"
     ]
    },
    {
     "name": "stdout",
     "output_type": "stream",
     "text": [
      "Epoch:  98\n",
      "t_loss:  0.41399306029665706 , v_loss:  0.7370371321837107\n",
      "t_acc:  0.7027448533998752 , v_acc:  0.6904761904761905\n",
      "t_recall:  0.517344872369525 , v_recall:  0.5145200984413454\n",
      "t_prec:  0.6876243236791852 , v_prec:  0.6787878787878787\n",
      "t_f:  0.4527017864784659 , v_f:  0.44285714285714284\n",
      "////////\n"
     ]
    },
    {
     "name": "stderr",
     "output_type": "stream",
     "text": [
      "\r",
      "Iterations:  33%|███████████                      | 100/300 [02:36<05:09,  1.55s/it]"
     ]
    },
    {
     "name": "stdout",
     "output_type": "stream",
     "text": [
      "Epoch  99 , loss 0.41164643039890364\n",
      "Epoch  100 , loss 0.41707753959824057\n"
     ]
    },
    {
     "name": "stderr",
     "output_type": "stream",
     "text": [
      "\r",
      "Iterations:  34%|███████████                      | 101/300 [02:38<05:23,  1.62s/it]"
     ]
    },
    {
     "name": "stdout",
     "output_type": "stream",
     "text": [
      "Epoch:  100\n",
      "t_loss:  0.41707753959824057 , v_loss:  0.7387745281060537\n",
      "t_acc:  0.7005614472863381 , v_acc:  0.6904761904761905\n",
      "t_recall:  0.5123115999494305 , v_recall:  0.5145200984413454\n",
      "t_prec:  0.6803728624059593 , v_prec:  0.6787878787878787\n",
      "t_f:  0.4412788776780949 , v_f:  0.44285714285714284\n",
      "////////\n"
     ]
    },
    {
     "name": "stderr",
     "output_type": "stream",
     "text": [
      "\r",
      "Iterations:  34%|███████████▏                     | 102/300 [02:39<04:57,  1.50s/it]"
     ]
    },
    {
     "name": "stdout",
     "output_type": "stream",
     "text": [
      "Epoch  101 , loss 0.41407712183746637\n",
      "Epoch  102 , loss 0.41284126627678963\n"
     ]
    },
    {
     "name": "stderr",
     "output_type": "stream",
     "text": [
      "\r",
      "Iterations:  34%|███████████▎                     | 103/300 [02:41<05:23,  1.64s/it]"
     ]
    },
    {
     "name": "stdout",
     "output_type": "stream",
     "text": [
      "Epoch:  102\n",
      "t_loss:  0.41284126627678963 , v_loss:  0.735762819647789\n",
      "t_acc:  0.7018091079226451 , v_acc:  0.6904761904761905\n",
      "t_recall:  0.5140741762346424 , v_recall:  0.5145200984413454\n",
      "t_prec:  0.6979048825738721 , v_prec:  0.6787878787878787\n",
      "t_f:  0.44448746056050487 , v_f:  0.44285714285714284\n",
      "////////\n"
     ]
    },
    {
     "name": "stderr",
     "output_type": "stream",
     "text": [
      "\r",
      "Iterations:  35%|███████████▍                     | 104/300 [02:42<04:52,  1.49s/it]"
     ]
    },
    {
     "name": "stdout",
     "output_type": "stream",
     "text": [
      "Epoch  103 , loss 0.4115533086599088\n",
      "Epoch  104 , loss 0.41442665574597376\n"
     ]
    },
    {
     "name": "stderr",
     "output_type": "stream",
     "text": [
      "\r",
      "Iterations:  35%|███████████▌                     | 105/300 [02:44<05:30,  1.69s/it]"
     ]
    },
    {
     "name": "stdout",
     "output_type": "stream",
     "text": [
      "Epoch:  104\n",
      "t_loss:  0.41442665574597376 , v_loss:  0.7366780489683151\n",
      "t_acc:  0.7071116656269495 , v_acc:  0.6904761904761905\n",
      "t_recall:  0.5236582422508017 , v_recall:  0.5145200984413454\n",
      "t_prec:  0.728063178047224 , v_prec:  0.6787878787878787\n",
      "t_f:  0.4640642816514766 , v_f:  0.44285714285714284\n",
      "////////\n"
     ]
    },
    {
     "name": "stderr",
     "output_type": "stream",
     "text": [
      "\r",
      "Iterations:  35%|███████████▋                     | 106/300 [02:46<04:51,  1.50s/it]"
     ]
    },
    {
     "name": "stdout",
     "output_type": "stream",
     "text": [
      "Epoch  105 , loss 0.4080767088076648\n",
      "Epoch  106 , loss 0.41193026654860554\n"
     ]
    },
    {
     "name": "stderr",
     "output_type": "stream",
     "text": [
      "\r",
      "Iterations:  36%|███████████▊                     | 107/300 [02:47<05:16,  1.64s/it]"
     ]
    },
    {
     "name": "stdout",
     "output_type": "stream",
     "text": [
      "Epoch:  106\n",
      "t_loss:  0.41193026654860554 , v_loss:  0.7424166997273763\n",
      "t_acc:  0.7058640049906425 , v_acc:  0.6904761904761905\n",
      "t_recall:  0.5195860198370283 , v_recall:  0.5145200984413454\n",
      "t_prec:  0.7503055085542395 , v_prec:  0.6787878787878787\n",
      "t_f:  0.45419758094580953 , v_f:  0.44285714285714284\n",
      "////////\n"
     ]
    },
    {
     "name": "stderr",
     "output_type": "stream",
     "text": [
      "\r",
      "Iterations:  36%|███████████▉                     | 108/300 [02:49<04:50,  1.51s/it]"
     ]
    },
    {
     "name": "stdout",
     "output_type": "stream",
     "text": [
      "Epoch  107 , loss 0.4083627532510197\n",
      "Epoch  108 , loss 0.4133248025295781\n"
     ]
    },
    {
     "name": "stderr",
     "output_type": "stream",
     "text": [
      "\r",
      "Iterations:  36%|███████████▉                     | 109/300 [02:51<05:08,  1.61s/it]"
     ]
    },
    {
     "name": "stdout",
     "output_type": "stream",
     "text": [
      "Epoch:  108\n",
      "t_loss:  0.4133248025295781 , v_loss:  0.7426231205463409\n",
      "t_acc:  0.7052401746724891 , v_acc:  0.6904761904761905\n",
      "t_recall:  0.5208700249399487 , v_recall:  0.5145200984413454\n",
      "t_prec:  0.7127479098714056 , v_prec:  0.6787878787878787\n",
      "t_f:  0.4589746506479529 , v_f:  0.44285714285714284\n",
      "////////\n"
     ]
    },
    {
     "name": "stderr",
     "output_type": "stream",
     "text": [
      "\r",
      "Iterations:  37%|████████████                     | 110/300 [02:52<04:54,  1.55s/it]"
     ]
    },
    {
     "name": "stdout",
     "output_type": "stream",
     "text": [
      "Epoch  109 , loss 0.4141482278412464\n",
      "Epoch  110 , loss 0.4112894552595475\n"
     ]
    },
    {
     "name": "stderr",
     "output_type": "stream",
     "text": [
      "\r",
      "Iterations:  37%|████████████▏                    | 111/300 [02:54<05:11,  1.65s/it]"
     ]
    },
    {
     "name": "stdout",
     "output_type": "stream",
     "text": [
      "Epoch:  110\n",
      "t_loss:  0.4112894552595475 , v_loss:  0.7442863533894221\n",
      "t_acc:  0.7080474111041797 , v_acc:  0.6904761904761905\n",
      "t_recall:  0.524907998023193 , v_recall:  0.5145200984413454\n",
      "t_prec:  0.7368971050548951 , v_prec:  0.6787878787878787\n",
      "t_f:  0.46618679235616584 , v_f:  0.44285714285714284\n",
      "////////\n"
     ]
    },
    {
     "name": "stderr",
     "output_type": "stream",
     "text": [
      "\r",
      "Iterations:  37%|████████████▎                    | 112/300 [02:55<04:37,  1.48s/it]"
     ]
    },
    {
     "name": "stdout",
     "output_type": "stream",
     "text": [
      "Epoch  111 , loss 0.41721441289957834\n",
      "Epoch  112 , loss 0.41310614405893814\n"
     ]
    },
    {
     "name": "stderr",
     "output_type": "stream",
     "text": [
      "\r",
      "Iterations:  38%|████████████▍                    | 113/300 [02:57<04:59,  1.60s/it]"
     ]
    },
    {
     "name": "stdout",
     "output_type": "stream",
     "text": [
      "Epoch:  112\n",
      "t_loss:  0.41310614405893814 , v_loss:  0.7430185476938883\n",
      "t_acc:  0.7074235807860262 , v_acc:  0.6904761904761905\n",
      "t_recall:  0.5253258858279028 , v_recall:  0.5145200984413454\n",
      "t_prec:  0.7176375308641976 , v_prec:  0.6787878787878787\n",
      "t_f:  0.46830586484712694 , v_f:  0.44285714285714284\n",
      "////////\n"
     ]
    },
    {
     "name": "stderr",
     "output_type": "stream",
     "text": [
      "\r",
      "Iterations:  38%|████████████▌                    | 114/300 [02:58<04:40,  1.51s/it]"
     ]
    },
    {
     "name": "stdout",
     "output_type": "stream",
     "text": [
      "Epoch  113 , loss 0.4155227249743892\n",
      "Epoch  114 , loss 0.4245295051266165\n"
     ]
    },
    {
     "name": "stderr",
     "output_type": "stream",
     "text": [
      "\r",
      "Iterations:  38%|████████████▋                    | 115/300 [03:00<05:01,  1.63s/it]"
     ]
    },
    {
     "name": "stdout",
     "output_type": "stream",
     "text": [
      "Epoch:  114\n",
      "t_loss:  0.4245295051266165 , v_loss:  0.7450072169303894\n",
      "t_acc:  0.7061759201497193 , v_acc:  0.6904761904761905\n",
      "t_recall:  0.5226971922444804 , v_recall:  0.5145200984413454\n",
      "t_prec:  0.7158703855117201 , v_prec:  0.6787878787878787\n",
      "t_f:  0.4627649128199874 , v_f:  0.44285714285714284\n",
      "////////\n"
     ]
    },
    {
     "name": "stderr",
     "output_type": "stream",
     "text": [
      "\r",
      "Iterations:  39%|████████████▊                    | 116/300 [03:01<04:46,  1.56s/it]"
     ]
    },
    {
     "name": "stdout",
     "output_type": "stream",
     "text": [
      "Epoch  115 , loss 0.4164818385068108\n",
      "Epoch  116 , loss 0.4094223993666032\n"
     ]
    },
    {
     "name": "stderr",
     "output_type": "stream",
     "text": [
      "\r",
      "Iterations:  39%|████████████▊                    | 117/300 [03:03<05:03,  1.66s/it]"
     ]
    },
    {
     "name": "stdout",
     "output_type": "stream",
     "text": [
      "Epoch:  116\n",
      "t_loss:  0.4094223993666032 , v_loss:  0.7408037086327871\n",
      "t_acc:  0.7043044291952589 , v_acc:  0.6904761904761905\n",
      "t_recall:  0.5187541518693468 , v_recall:  0.5145200984413454\n",
      "t_prec:  0.7126430191039641 , v_prec:  0.6787878787878787\n",
      "t_f:  0.45430139961389965 , v_f:  0.44285714285714284\n",
      "////////\n"
     ]
    },
    {
     "name": "stderr",
     "output_type": "stream",
     "text": [
      "\r",
      "Iterations:  39%|████████████▉                    | 118/300 [03:04<04:32,  1.50s/it]"
     ]
    },
    {
     "name": "stdout",
     "output_type": "stream",
     "text": [
      "Epoch  117 , loss 0.4074302420896642\n",
      "Epoch  118 , loss 0.40660448284710154\n"
     ]
    },
    {
     "name": "stderr",
     "output_type": "stream",
     "text": [
      "\r",
      "Iterations:  40%|█████████████                    | 119/300 [03:06<05:01,  1.67s/it]"
     ]
    },
    {
     "name": "stdout",
     "output_type": "stream",
     "text": [
      "Epoch:  118\n",
      "t_loss:  0.40660448284710154 , v_loss:  0.7437794754902521\n",
      "t_acc:  0.7077354959451029 , v_acc:  0.6904761904761905\n",
      "t_recall:  0.5243951775103725 , v_recall:  0.5145200984413454\n",
      "t_prec:  0.7351671630149613 , v_prec:  0.6787878787878787\n",
      "t_f:  0.46520578477894947 , v_f:  0.44285714285714284\n",
      "////////\n"
     ]
    },
    {
     "name": "stderr",
     "output_type": "stream",
     "text": [
      "\r",
      "Iterations:  40%|█████████████▏                   | 120/300 [03:08<04:32,  1.52s/it]"
     ]
    },
    {
     "name": "stdout",
     "output_type": "stream",
     "text": [
      "Epoch  119 , loss 0.40894200024651545\n",
      "Epoch  120 , loss 0.4150545234773673\n"
     ]
    },
    {
     "name": "stderr",
     "output_type": "stream",
     "text": [
      "\r",
      "Iterations:  40%|█████████████▎                   | 121/300 [03:10<04:59,  1.67s/it]"
     ]
    },
    {
     "name": "stdout",
     "output_type": "stream",
     "text": [
      "Epoch:  120\n",
      "t_loss:  0.4150545234773673 , v_loss:  0.7415334582328796\n",
      "t_acc:  0.7058640049906425 , v_acc:  0.6904761904761905\n",
      "t_recall:  0.5233391947959406 , v_recall:  0.5145200984413454\n",
      "t_prec:  0.7030070377479206 , v_prec:  0.6787878787878787\n",
      "t_f:  0.4650648883022346 , v_f:  0.44285714285714284\n",
      "////////\n"
     ]
    },
    {
     "name": "stderr",
     "output_type": "stream",
     "text": [
      "\r",
      "Iterations:  41%|█████████████▍                   | 122/300 [03:11<04:31,  1.53s/it]"
     ]
    },
    {
     "name": "stdout",
     "output_type": "stream",
     "text": [
      "Epoch  121 , loss 0.409070305964526\n",
      "Epoch  122 , loss 0.41324213088727463\n"
     ]
    },
    {
     "name": "stderr",
     "output_type": "stream",
     "text": [
      "\r",
      "Iterations:  41%|█████████████▌                   | 123/300 [03:13<04:47,  1.62s/it]"
     ]
    },
    {
     "name": "stdout",
     "output_type": "stream",
     "text": [
      "Epoch:  122\n",
      "t_loss:  0.41324213088727463 , v_loss:  0.7521307617425919\n",
      "t_acc:  0.706487835308796 , v_acc:  0.6904761904761905\n",
      "t_recall:  0.5243648358215817 , v_recall:  0.5145200984413454\n",
      "t_prec:  0.7068915711564285 , v_prec:  0.6787878787878787\n",
      "t_f:  0.46701046864661977 , v_f:  0.44285714285714284\n",
      "////////\n"
     ]
    },
    {
     "name": "stderr",
     "output_type": "stream",
     "text": [
      "\r",
      "Iterations:  41%|█████████████▋                   | 124/300 [03:14<04:25,  1.51s/it]"
     ]
    },
    {
     "name": "stdout",
     "output_type": "stream",
     "text": [
      "Epoch  123 , loss 0.4097116025639515\n",
      "Epoch  124 , loss 0.41083548641672324\n"
     ]
    },
    {
     "name": "stderr",
     "output_type": "stream",
     "text": [
      "\r",
      "Iterations:  42%|█████████████▊                   | 125/300 [03:16<04:56,  1.69s/it]"
     ]
    },
    {
     "name": "stdout",
     "output_type": "stream",
     "text": [
      "Epoch:  124\n",
      "t_loss:  0.41083548641672324 , v_loss:  0.746206800142924\n",
      "t_acc:  0.7055520898315658 , v_acc:  0.6904761904761905\n",
      "t_recall:  0.5231150800491903 , v_recall:  0.5145200984413454\n",
      "t_prec:  0.6986390123456789 , v_prec:  0.6787878787878787\n",
      "t_f:  0.46490483626405954 , v_f:  0.44285714285714284\n",
      "////////\n"
     ]
    },
    {
     "name": "stderr",
     "output_type": "stream",
     "text": [
      "\r",
      "Iterations:  42%|█████████████▊                   | 126/300 [03:17<04:34,  1.58s/it]"
     ]
    },
    {
     "name": "stdout",
     "output_type": "stream",
     "text": [
      "Epoch  125 , loss 0.40832502643267315\n",
      "Epoch  126 , loss 0.4065761981057186\n"
     ]
    },
    {
     "name": "stderr",
     "output_type": "stream",
     "text": [
      "\r",
      "Iterations:  42%|█████████████▉                   | 127/300 [03:19<04:47,  1.66s/it]"
     ]
    },
    {
     "name": "stdout",
     "output_type": "stream",
     "text": [
      "Epoch:  126\n",
      "t_loss:  0.4065761981057186 , v_loss:  0.7474381426970164\n",
      "t_acc:  0.7092950717404866 , v_acc:  0.6904761904761905\n",
      "t_recall:  0.5272479858405452 , v_recall:  0.5145200984413454\n",
      "t_prec:  0.7399294831054961 , v_prec:  0.6787878787878787\n",
      "t_f:  0.47090201178184676 , v_f:  0.44285714285714284\n",
      "////////\n"
     ]
    },
    {
     "name": "stderr",
     "output_type": "stream",
     "text": [
      "\r",
      "Iterations:  43%|██████████████                   | 128/300 [03:20<04:15,  1.48s/it]"
     ]
    },
    {
     "name": "stdout",
     "output_type": "stream",
     "text": [
      "Epoch  127 , loss 0.4153954316588009\n",
      "Epoch  128 , loss 0.4124445325019313\n"
     ]
    },
    {
     "name": "stderr",
     "output_type": "stream",
     "text": [
      "\r",
      "Iterations:  43%|██████████████▏                  | 129/300 [03:22<04:30,  1.58s/it]"
     ]
    },
    {
     "name": "stdout",
     "output_type": "stream",
     "text": [
      "Epoch:  128\n",
      "t_loss:  0.4124445325019313 , v_loss:  0.7474264005819956\n",
      "t_acc:  0.706487835308796 , v_acc:  0.6904761904761905\n",
      "t_recall:  0.5240761300555116 , v_recall:  0.5145200984413454\n",
      "t_prec:  0.7094169865642994 , v_prec:  0.6787878787878787\n",
      "t_f:  0.46619942724539004 , v_f:  0.44285714285714284\n",
      "////////\n"
     ]
    },
    {
     "name": "stderr",
     "output_type": "stream",
     "text": [
      "\r",
      "Iterations:  43%|██████████████▎                  | 130/300 [03:23<04:03,  1.43s/it]"
     ]
    },
    {
     "name": "stdout",
     "output_type": "stream",
     "text": [
      "Epoch  129 , loss 0.4091228123973398\n",
      "Epoch  130 , loss 0.40298857992770626\n"
     ]
    },
    {
     "name": "stderr",
     "output_type": "stream",
     "text": [
      "\r",
      "Iterations:  44%|██████████████▍                  | 131/300 [03:25<04:25,  1.57s/it]"
     ]
    },
    {
     "name": "stdout",
     "output_type": "stream",
     "text": [
      "Epoch:  130\n",
      "t_loss:  0.40298857992770626 , v_loss:  0.7475070059299469\n",
      "t_acc:  0.7108546475358702 , v_acc:  0.6904761904761905\n",
      "t_recall:  0.5298120884046478 , v_recall:  0.5145200984413454\n",
      "t_prec:  0.7472773862908392 , v_prec:  0.6787878787878787\n",
      "t_f:  0.4757359855927866 , v_f:  0.44285714285714284\n",
      "////////\n"
     ]
    },
    {
     "name": "stderr",
     "output_type": "stream",
     "text": [
      "\r",
      "Iterations:  44%|██████████████▌                  | 132/300 [03:26<04:05,  1.46s/it]"
     ]
    },
    {
     "name": "stdout",
     "output_type": "stream",
     "text": [
      "Epoch  131 , loss 0.4086350260996351\n",
      "Epoch  132 , loss 0.40920510186868553\n"
     ]
    },
    {
     "name": "stderr",
     "output_type": "stream",
     "text": [
      "\r",
      "Iterations:  44%|██████████████▋                  | 133/300 [03:28<04:26,  1.59s/it]"
     ]
    },
    {
     "name": "stdout",
     "output_type": "stream",
     "text": [
      "Epoch:  132\n",
      "t_loss:  0.40920510186868553 , v_loss:  0.7445649057626724\n",
      "t_acc:  0.7083593262632564 , v_acc:  0.6904761904761905\n",
      "t_recall:  0.5271530531324345 , v_recall:  0.5145200984413454\n",
      "t_prec:  0.7201252236135958 , v_prec:  0.6787878787878787\n",
      "t_f:  0.47201109801633173 , v_f:  0.44285714285714284\n",
      "////////\n"
     ]
    },
    {
     "name": "stderr",
     "output_type": "stream",
     "text": [
      "\r",
      "Iterations:  45%|██████████████▋                  | 134/300 [03:30<04:10,  1.51s/it]"
     ]
    },
    {
     "name": "stdout",
     "output_type": "stream",
     "text": [
      "Epoch  133 , loss 0.40613095140924643\n",
      "Epoch  134 , loss 0.40217164626308516\n"
     ]
    },
    {
     "name": "stderr",
     "output_type": "stream",
     "text": [
      "\r",
      "Iterations:  45%|██████████████▊                  | 135/300 [03:31<04:25,  1.61s/it]"
     ]
    },
    {
     "name": "stdout",
     "output_type": "stream",
     "text": [
      "Epoch:  134\n",
      "t_loss:  0.40217164626308516 , v_loss:  0.75223475197951\n",
      "t_acc:  0.7108546475358702 , v_acc:  0.6904761904761905\n",
      "t_recall:  0.5326991460653496 , v_recall:  0.5145200984413454\n",
      "t_prec:  0.7204781034568268 , v_prec:  0.6787878787878787\n",
      "t_f:  0.4835239065277539 , v_f:  0.44285714285714284\n",
      "////////\n"
     ]
    },
    {
     "name": "stderr",
     "output_type": "stream",
     "text": [
      "\r",
      "Iterations:  45%|██████████████▉                  | 136/300 [03:33<04:01,  1.47s/it]"
     ]
    },
    {
     "name": "stdout",
     "output_type": "stream",
     "text": [
      "Epoch  135 , loss 0.3995969044227226\n",
      "Epoch  136 , loss 0.4128318727016449\n"
     ]
    },
    {
     "name": "stderr",
     "output_type": "stream",
     "text": [
      "\r",
      "Iterations:  46%|███████████████                  | 137/300 [03:35<04:26,  1.63s/it]"
     ]
    },
    {
     "name": "stdout",
     "output_type": "stream",
     "text": [
      "Epoch:  136\n",
      "t_loss:  0.4128318727016449 , v_loss:  0.7513768325249354\n",
      "t_acc:  0.7021210230817218 , v_acc:  0.6904761904761905\n",
      "t_recall:  0.5186288774724455 , v_recall:  0.5145200984413454\n",
      "t_prec:  0.6660846612892648 , v_prec:  0.6787878787878787\n",
      "t_f:  0.4574312687144683 , v_f:  0.44285714285714284\n",
      "////////\n"
     ]
    },
    {
     "name": "stderr",
     "output_type": "stream",
     "text": [
      "\r",
      "Iterations:  46%|███████████████▏                 | 138/300 [03:36<03:57,  1.47s/it]"
     ]
    },
    {
     "name": "stdout",
     "output_type": "stream",
     "text": [
      "Epoch  137 , loss 0.4038559557760463\n",
      "Epoch  138 , loss 0.4093262231817432\n"
     ]
    },
    {
     "name": "stderr",
     "output_type": "stream",
     "text": [
      "\r",
      "Iterations:  46%|███████████████▎                 | 139/300 [03:38<04:19,  1.61s/it]"
     ]
    },
    {
     "name": "stdout",
     "output_type": "stream",
     "text": [
      "Epoch:  138\n",
      "t_loss:  0.4093262231817432 , v_loss:  0.7501725753148397\n",
      "t_acc:  0.7099189020586401 , v_acc:  0.6904761904761905\n",
      "t_recall:  0.5274075095679758 , v_recall:  0.5145200984413454\n",
      "t_prec:  0.7538805493452572 , v_prec:  0.6787878787878787\n",
      "t_f:  0.4704214845207012 , v_f:  0.44285714285714284\n",
      "////////\n"
     ]
    },
    {
     "name": "stderr",
     "output_type": "stream",
     "text": [
      "\r",
      "Iterations:  47%|███████████████▍                 | 140/300 [03:39<03:54,  1.47s/it]"
     ]
    },
    {
     "name": "stdout",
     "output_type": "stream",
     "text": [
      "Epoch  139 , loss 0.40510522559577344\n",
      "Epoch  140 , loss 0.40204736385859696\n"
     ]
    },
    {
     "name": "stderr",
     "output_type": "stream",
     "text": [
      "\r",
      "Iterations:  47%|███████████████▌                 | 141/300 [03:41<04:12,  1.59s/it]"
     ]
    },
    {
     "name": "stdout",
     "output_type": "stream",
     "text": [
      "Epoch:  140\n",
      "t_loss:  0.40204736385859696 , v_loss:  0.7491874396800995\n",
      "t_acc:  0.7105427323767936 , v_acc:  0.6904761904761905\n",
      "t_recall:  0.5290105621257571 , v_recall:  0.5145200984413454\n",
      "t_prec:  0.7493017283950617 , v_prec:  0.6787878787878787\n",
      "t_f:  0.473974245818906 , v_f:  0.44285714285714284\n",
      "////////\n"
     ]
    },
    {
     "name": "stderr",
     "output_type": "stream",
     "text": [
      "\r",
      "Iterations:  47%|███████████████▌                 | 142/300 [03:42<03:52,  1.47s/it]"
     ]
    },
    {
     "name": "stdout",
     "output_type": "stream",
     "text": [
      "Epoch  141 , loss 0.4278535837051915\n",
      "Epoch  142 , loss 0.4059492250283559\n"
     ]
    },
    {
     "name": "stderr",
     "output_type": "stream",
     "text": [
      "\r",
      "Iterations:  48%|███████████████▋                 | 143/300 [03:44<04:08,  1.59s/it]"
     ]
    },
    {
     "name": "stdout",
     "output_type": "stream",
     "text": [
      "Epoch:  142\n",
      "t_loss:  0.4059492250283559 , v_loss:  0.7426191618045171\n",
      "t_acc:  0.7108546475358702 , v_acc:  0.6964285714285714\n",
      "t_recall:  0.531833028767139 , v_recall:  0.5239540607054963\n",
      "t_prec:  0.7273395844824416 , v_prec:  0.7225609756097561\n",
      "t_f:  0.4812195406779179 , v_f:  0.46123372948500285\n",
      "////////\n"
     ]
    },
    {
     "name": "stderr",
     "output_type": "stream",
     "text": [
      "\r",
      "Iterations:  48%|███████████████▊                 | 144/300 [03:45<03:48,  1.47s/it]"
     ]
    },
    {
     "name": "stdout",
     "output_type": "stream",
     "text": [
      "Epoch  143 , loss 0.4022278902577419\n",
      "Epoch  144 , loss 0.40069783727327984\n"
     ]
    },
    {
     "name": "stderr",
     "output_type": "stream",
     "text": [
      "\r",
      "Iterations:  48%|███████████████▉                 | 145/300 [03:47<04:14,  1.64s/it]"
     ]
    },
    {
     "name": "stdout",
     "output_type": "stream",
     "text": [
      "Epoch:  144\n",
      "t_loss:  0.40069783727327984 , v_loss:  0.7439320335785548\n",
      "t_acc:  0.7089831565814099 , v_acc:  0.6964285714285714\n",
      "t_recall:  0.5313544575848476 , v_recall:  0.5239540607054963\n",
      "t_prec:  0.7002672069532534 , v_prec:  0.7225609756097561\n",
      "t_f:  0.4824733403174334 , v_f:  0.46123372948500285\n",
      "////////\n"
     ]
    },
    {
     "name": "stderr",
     "output_type": "stream",
     "text": [
      "\r",
      "Iterations:  49%|████████████████                 | 146/300 [03:48<04:00,  1.56s/it]"
     ]
    },
    {
     "name": "stdout",
     "output_type": "stream",
     "text": [
      "Epoch  145 , loss 0.4015500323445189\n",
      "Epoch  146 , loss 0.39948423703511554\n"
     ]
    },
    {
     "name": "stderr",
     "output_type": "stream",
     "text": [
      "\r",
      "Iterations:  49%|████████████████▏                | 147/300 [03:50<04:10,  1.64s/it]"
     ]
    },
    {
     "name": "stdout",
     "output_type": "stream",
     "text": [
      "Epoch:  146\n",
      "t_loss:  0.39948423703511554 , v_loss:  0.7516444772481918\n",
      "t_acc:  0.7077354959451029 , v_acc:  0.6904761904761905\n",
      "t_recall:  0.5281483524692847 , v_recall:  0.5145200984413454\n",
      "t_prec:  0.7010250045964332 , v_prec:  0.6787878787878787\n",
      "t_f:  0.4756232034684024 , v_f:  0.44285714285714284\n",
      "////////\n"
     ]
    },
    {
     "name": "stderr",
     "output_type": "stream",
     "text": [
      "\r",
      "Iterations:  49%|████████████████▎                | 148/300 [03:51<03:42,  1.46s/it]"
     ]
    },
    {
     "name": "stdout",
     "output_type": "stream",
     "text": [
      "Epoch  147 , loss 0.4000953804044163\n",
      "Epoch  148 , loss 0.40794694014624056\n"
     ]
    },
    {
     "name": "stderr",
     "output_type": "stream",
     "text": [
      "\r",
      "Iterations:  50%|████████████████▍                | 149/300 [03:53<03:58,  1.58s/it]"
     ]
    },
    {
     "name": "stdout",
     "output_type": "stream",
     "text": [
      "Epoch:  148\n",
      "t_loss:  0.40794694014624056 , v_loss:  0.750963881611824\n",
      "t_acc:  0.7089831565814099 , v_acc:  0.6964285714285714\n",
      "t_recall:  0.5281786941580756 , v_recall:  0.5239540607054963\n",
      "t_prec:  0.7233913056154878 , v_prec:  0.7225609756097561\n",
      "t_f:  0.47393513210635196 , v_f:  0.46123372948500285\n",
      "////////\n"
     ]
    },
    {
     "name": "stderr",
     "output_type": "stream",
     "text": [
      "\r",
      "Iterations:  50%|████████████████▌                | 150/300 [03:54<03:38,  1.46s/it]"
     ]
    },
    {
     "name": "stdout",
     "output_type": "stream",
     "text": [
      "Epoch  149 , loss 0.4068414621493396\n",
      "Epoch  150 , loss 0.40753131520514396\n"
     ]
    },
    {
     "name": "stderr",
     "output_type": "stream",
     "text": [
      "\r",
      "Iterations:  50%|████████████████▌                | 151/300 [03:56<03:58,  1.60s/it]"
     ]
    },
    {
     "name": "stdout",
     "output_type": "stream",
     "text": [
      "Epoch:  150\n",
      "t_loss:  0.40753131520514396 , v_loss:  0.7529687931140264\n",
      "t_acc:  0.7080474111041797 , v_acc:  0.6904761904761905\n",
      "t_recall:  0.5275063499178246 , v_recall:  0.5145200984413454\n",
      "t_prec:  0.71107544141252 , v_prec:  0.6787878787878787\n",
      "t_f:  0.47343352221401 , v_f:  0.44285714285714284\n",
      "////////\n"
     ]
    },
    {
     "name": "stderr",
     "output_type": "stream",
     "text": [
      "\r",
      "Iterations:  51%|████████████████▋                | 152/300 [03:57<03:38,  1.48s/it]"
     ]
    },
    {
     "name": "stdout",
     "output_type": "stream",
     "text": [
      "Epoch  151 , loss 0.4038163692343469\n",
      "Epoch  152 , loss 0.40190012022560717\n"
     ]
    },
    {
     "name": "stderr",
     "output_type": "stream",
     "text": [
      "\r",
      "Iterations:  51%|████████████████▊                | 153/300 [03:59<04:00,  1.64s/it]"
     ]
    },
    {
     "name": "stdout",
     "output_type": "stream",
     "text": [
      "Epoch:  152\n",
      "t_loss:  0.40190012022560717 , v_loss:  0.7486029615004858\n",
      "t_acc:  0.7105427323767936 , v_acc:  0.6904761904761905\n",
      "t_recall:  0.5316089140203887 , v_recall:  0.5145200984413454\n",
      "t_prec:  0.7235307695558741 , v_prec:  0.6787878787878787\n",
      "t_f:  0.4810462632905705 , v_f:  0.44285714285714284\n",
      "////////\n"
     ]
    },
    {
     "name": "stderr",
     "output_type": "stream",
     "text": [
      "\r",
      "Iterations:  51%|████████████████▉                | 154/300 [04:00<03:34,  1.47s/it]"
     ]
    },
    {
     "name": "stdout",
     "output_type": "stream",
     "text": [
      "Epoch  153 , loss 0.40287558763634923\n",
      "Epoch  154 , loss 0.40149612520255296\n"
     ]
    },
    {
     "name": "stderr",
     "output_type": "stream",
     "text": [
      "\r",
      "Iterations:  52%|█████████████████                | 155/300 [04:02<03:51,  1.60s/it]"
     ]
    },
    {
     "name": "stdout",
     "output_type": "stream",
     "text": [
      "Epoch:  154\n",
      "t_loss:  0.40149612520255296 , v_loss:  0.7561113039652506\n",
      "t_acc:  0.7105427323767936 , v_acc:  0.6964285714285714\n",
      "t_recall:  0.5310315024882483 , v_recall:  0.5239540607054963\n",
      "t_prec:  0.7283933072797713 , v_prec:  0.7225609756097561\n",
      "t_f:  0.4794962858252535 , v_f:  0.46123372948500285\n",
      "////////\n"
     ]
    },
    {
     "name": "stderr",
     "output_type": "stream",
     "text": [
      "\r",
      "Iterations:  52%|█████████████████▏               | 156/300 [04:04<03:37,  1.51s/it]"
     ]
    },
    {
     "name": "stdout",
     "output_type": "stream",
     "text": [
      "Epoch  155 , loss 0.4043295108804516\n",
      "Epoch  156 , loss 0.3977479063997082\n"
     ]
    },
    {
     "name": "stderr",
     "output_type": "stream",
     "text": [
      "\r",
      "Iterations:  52%|█████████████████▎               | 157/300 [04:05<03:49,  1.61s/it]"
     ]
    },
    {
     "name": "stdout",
     "output_type": "stream",
     "text": [
      "Epoch:  156\n",
      "t_loss:  0.3977479063997082 , v_loss:  0.7510874470074972\n",
      "t_acc:  0.7152214597629445 , v_acc:  0.6964285714285714\n",
      "t_recall:  0.5378576928823455 , v_recall:  0.5239540607054963\n",
      "t_prec:  0.7552602539304667 , v_prec:  0.7225609756097561\n",
      "t_f:  0.4913239769793304 , v_f:  0.46123372948500285\n",
      "////////\n"
     ]
    },
    {
     "name": "stderr",
     "output_type": "stream",
     "text": [
      "\r",
      "Iterations:  53%|█████████████████▍               | 158/300 [04:06<03:25,  1.45s/it]"
     ]
    },
    {
     "name": "stdout",
     "output_type": "stream",
     "text": [
      "Epoch  157 , loss 0.4044569251584072\n",
      "Epoch  158 , loss 0.39558762896294686\n"
     ]
    },
    {
     "name": "stderr",
     "output_type": "stream",
     "text": [
      "\r",
      "Iterations:  53%|█████████████████▍               | 159/300 [04:08<03:41,  1.57s/it]"
     ]
    },
    {
     "name": "stdout",
     "output_type": "stream",
     "text": [
      "Epoch:  158\n",
      "t_loss:  0.39558762896294686 , v_loss:  0.7506856520970663\n",
      "t_acc:  0.7139737991266376 , v_acc:  0.6964285714285714\n",
      "t_recall:  0.5355177050649933 , v_recall:  0.5239540607054963\n",
      "t_prec:  0.75365416436845 , v_prec:  0.7225609756097561\n",
      "t_f:  0.4868158778874333 , v_f:  0.46123372948500285\n",
      "////////\n"
     ]
    },
    {
     "name": "stderr",
     "output_type": "stream",
     "text": [
      "\r",
      "Iterations:  53%|█████████████████▌               | 160/300 [04:10<03:33,  1.52s/it]"
     ]
    },
    {
     "name": "stdout",
     "output_type": "stream",
     "text": [
      "Epoch  159 , loss 0.39461611211299896\n",
      "Epoch  160 , loss 0.406375425119026\n"
     ]
    },
    {
     "name": "stderr",
     "output_type": "stream",
     "text": [
      "\r",
      "Iterations:  54%|█████████████████▋               | 161/300 [04:12<03:51,  1.66s/it]"
     ]
    },
    {
     "name": "stdout",
     "output_type": "stream",
     "text": [
      "Epoch:  160\n",
      "t_loss:  0.406375425119026 , v_loss:  0.753099670012792\n",
      "t_acc:  0.7086712414223332 , v_acc:  0.6964285714285714\n",
      "t_recall:  0.5293981082416762 , v_recall:  0.5239540607054963\n",
      "t_prec:  0.7078964735868502 , v_prec:  0.7225609756097561\n",
      "t_f:  0.4776909589583974 , v_f:  0.46123372948500285\n",
      "////////\n"
     ]
    },
    {
     "name": "stderr",
     "output_type": "stream",
     "text": [
      "\r",
      "Iterations:  54%|█████████████████▊               | 162/300 [04:13<03:25,  1.49s/it]"
     ]
    },
    {
     "name": "stdout",
     "output_type": "stream",
     "text": [
      "Epoch  161 , loss 0.4011807061877905\n",
      "Epoch  162 , loss 0.40516484368081185\n"
     ]
    },
    {
     "name": "stderr",
     "output_type": "stream",
     "text": [
      "\r",
      "Iterations:  54%|█████████████████▉               | 163/300 [04:15<03:41,  1.62s/it]"
     ]
    },
    {
     "name": "stdout",
     "output_type": "stream",
     "text": [
      "Epoch:  162\n",
      "t_loss:  0.40516484368081185 , v_loss:  0.7575400571028391\n",
      "t_acc:  0.7127261384903306 , v_acc:  0.6964285714285714\n",
      "t_recall:  0.5360647749083428 , v_recall:  0.5239540607054963\n",
      "t_prec:  0.7263857466063348 , v_prec:  0.7225609756097561\n",
      "t_f:  0.4898780724827345 , v_f:  0.46123372948500285\n",
      "////////\n"
     ]
    },
    {
     "name": "stderr",
     "output_type": "stream",
     "text": [
      "\r",
      "Iterations:  55%|██████████████████               | 164/300 [04:16<03:17,  1.45s/it]"
     ]
    },
    {
     "name": "stdout",
     "output_type": "stream",
     "text": [
      "Epoch  163 , loss 0.40507713807564155\n",
      "Epoch  164 , loss 0.39800947203355674\n"
     ]
    },
    {
     "name": "stderr",
     "output_type": "stream",
     "text": [
      "\r",
      "Iterations:  55%|██████████████████▏              | 165/300 [04:18<03:32,  1.57s/it]"
     ]
    },
    {
     "name": "stdout",
     "output_type": "stream",
     "text": [
      "Epoch:  164\n",
      "t_loss:  0.39800947203355674 , v_loss:  0.7566235661506653\n",
      "t_acc:  0.7164691203992514 , v_acc:  0.6964285714285714\n",
      "t_recall:  0.540486386465768 , v_recall:  0.5239540607054963\n",
      "t_prec:  0.7541410795087266 , v_prec:  0.7225609756097561\n",
      "t_f:  0.49652461225494643 , v_f:  0.46123372948500285\n",
      "////////\n"
     ]
    },
    {
     "name": "stderr",
     "output_type": "stream",
     "text": [
      "\r",
      "Iterations:  55%|██████████████████▎              | 166/300 [04:19<03:14,  1.45s/it]"
     ]
    },
    {
     "name": "stdout",
     "output_type": "stream",
     "text": [
      "Epoch  165 , loss 0.39686407148838043\n",
      "Epoch  166 , loss 0.4050646079521553\n"
     ]
    },
    {
     "name": "stderr",
     "output_type": "stream",
     "text": [
      "\r",
      "Iterations:  56%|██████████████████▎              | 167/300 [04:21<03:29,  1.57s/it]"
     ]
    },
    {
     "name": "stdout",
     "output_type": "stream",
     "text": [
      "Epoch:  166\n",
      "t_loss:  0.4050646079521553 , v_loss:  0.7589649905761083\n",
      "t_acc:  0.7099189020586401 , v_acc:  0.6964285714285714\n",
      "t_recall:  0.5300058614626073 , v_recall:  0.5239540607054963\n",
      "t_prec:  0.7254489497735821 , v_prec:  0.7225609756097561\n",
      "t_f:  0.47759326851914147 , v_f:  0.46123372948500285\n",
      "////////\n"
     ]
    },
    {
     "name": "stderr",
     "output_type": "stream",
     "text": [
      "\r",
      "Iterations:  56%|██████████████████▍              | 168/300 [04:22<03:16,  1.49s/it]"
     ]
    },
    {
     "name": "stdout",
     "output_type": "stream",
     "text": [
      "Epoch  167 , loss 0.40113892566924003\n",
      "Epoch  168 , loss 0.3990047042276345\n"
     ]
    },
    {
     "name": "stderr",
     "output_type": "stream",
     "text": [
      "\r",
      "Iterations:  56%|██████████████████▌              | 169/300 [04:24<03:26,  1.57s/it]"
     ]
    },
    {
     "name": "stdout",
     "output_type": "stream",
     "text": [
      "Epoch:  168\n",
      "t_loss:  0.3990047042276345 , v_loss:  0.7609868397315344\n",
      "t_acc:  0.715845290081098 , v_acc:  0.6964285714285714\n",
      "t_recall:  0.5406155685044076 , v_recall:  0.5239540607054963\n",
      "t_prec:  0.7424585053130763 , v_prec:  0.7225609756097561\n",
      "t_f:  0.4976206927572563 , v_f:  0.46123372948500285\n",
      "////////\n"
     ]
    },
    {
     "name": "stderr",
     "output_type": "stream",
     "text": [
      "\r",
      "Iterations:  57%|██████████████████▋              | 170/300 [04:25<03:20,  1.54s/it]"
     ]
    },
    {
     "name": "stdout",
     "output_type": "stream",
     "text": [
      "Epoch  169 , loss 0.40351971516422197\n",
      "Epoch  170 , loss 0.39850161239212634\n"
     ]
    },
    {
     "name": "stderr",
     "output_type": "stream",
     "text": [
      "\r",
      "Iterations:  57%|██████████████████▊              | 171/300 [04:27<03:31,  1.64s/it]"
     ]
    },
    {
     "name": "stdout",
     "output_type": "stream",
     "text": [
      "Epoch:  170\n",
      "t_loss:  0.39850161239212634 , v_loss:  0.7614410817623138\n",
      "t_acc:  0.7130380536494073 , v_acc:  0.6964285714285714\n",
      "t_recall:  0.5360001838890229 , v_recall:  0.5239540607054963\n",
      "t_prec:  0.7319750098497214 , v_prec:  0.7225609756097561\n",
      "t_f:  0.48930942012122824 , v_f:  0.46123372948500285\n",
      "////////\n"
     ]
    },
    {
     "name": "stderr",
     "output_type": "stream",
     "text": [
      "\r",
      "Iterations:  57%|██████████████████▉              | 172/300 [04:28<03:09,  1.48s/it]"
     ]
    },
    {
     "name": "stdout",
     "output_type": "stream",
     "text": [
      "Epoch  171 , loss 0.40255320276699813\n",
      "Epoch  172 , loss 0.3972771267096202\n"
     ]
    },
    {
     "name": "stderr",
     "output_type": "stream",
     "text": [
      "\r",
      "Iterations:  58%|███████████████████              | 173/300 [04:30<03:24,  1.61s/it]"
     ]
    },
    {
     "name": "stdout",
     "output_type": "stream",
     "text": [
      "Epoch:  172\n",
      "t_loss:  0.3972771267096202 , v_loss:  0.7587508658568064\n",
      "t_acc:  0.7170929507174049 , v_acc:  0.6964285714285714\n",
      "t_recall:  0.5420894390235492 , v_recall:  0.5239540607054963\n",
      "t_prec:  0.7512569157811539 , v_prec:  0.7225609756097561\n",
      "t_f:  0.4998265294520653 , v_f:  0.46123372948500285\n",
      "////////\n"
     ]
    },
    {
     "name": "stderr",
     "output_type": "stream",
     "text": [
      "\r",
      "Iterations:  58%|███████████████████▏             | 174/300 [04:31<03:07,  1.49s/it]"
     ]
    },
    {
     "name": "stdout",
     "output_type": "stream",
     "text": [
      "Epoch  173 , loss 0.40033318423757364\n",
      "Epoch  174 , loss 0.40212726008658317\n"
     ]
    },
    {
     "name": "stderr",
     "output_type": "stream",
     "text": [
      "\r",
      "Iterations:  58%|███████████████████▎             | 175/300 [04:33<03:25,  1.64s/it]"
     ]
    },
    {
     "name": "stdout",
     "output_type": "stream",
     "text": [
      "Epoch:  174\n",
      "t_loss:  0.40212726008658317 , v_loss:  0.7662074764569601\n",
      "t_acc:  0.7130380536494073 , v_acc:  0.6964285714285714\n",
      "t_recall:  0.5339792435265317 , v_recall:  0.5239540607054963\n",
      "t_prec:  0.7500888189615795 , v_prec:  0.7225609756097561\n",
      "t_f:  0.4839833868095187 , v_f:  0.46123372948500285\n",
      "////////\n"
     ]
    },
    {
     "name": "stderr",
     "output_type": "stream",
     "text": [
      "\r",
      "Iterations:  59%|███████████████████▎             | 176/300 [04:34<03:07,  1.51s/it]"
     ]
    },
    {
     "name": "stdout",
     "output_type": "stream",
     "text": [
      "Epoch  175 , loss 0.40062444525606494\n",
      "Epoch  176 , loss 0.4116889390290952\n"
     ]
    },
    {
     "name": "stderr",
     "output_type": "stream",
     "text": [
      "\r",
      "Iterations:  59%|███████████████████▍             | 177/300 [04:36<03:15,  1.59s/it]"
     ]
    },
    {
     "name": "stdout",
     "output_type": "stream",
     "text": [
      "Epoch:  176\n",
      "t_loss:  0.4116889390290952 , v_loss:  0.7627578725417455\n",
      "t_acc:  0.7108546475358702 , v_acc:  0.6964285714285714\n",
      "t_recall:  0.5324104402992794 , v_recall:  0.5239540607054963\n",
      "t_prec:  0.7226728320194058 , v_prec:  0.7225609756097561\n",
      "t_f:  0.4827587827271944 , v_f:  0.46123372948500285\n",
      "////////\n"
     ]
    },
    {
     "name": "stderr",
     "output_type": "stream",
     "text": [
      "\r",
      "Iterations:  59%|███████████████████▌             | 178/300 [04:37<02:58,  1.46s/it]"
     ]
    },
    {
     "name": "stdout",
     "output_type": "stream",
     "text": [
      "Epoch  177 , loss 0.3957498038516325\n",
      "Epoch  178 , loss 0.40799101427489637\n"
     ]
    },
    {
     "name": "stderr",
     "output_type": "stream",
     "text": [
      "\r",
      "Iterations:  60%|███████████████████▋             | 179/300 [04:39<03:09,  1.57s/it]"
     ]
    },
    {
     "name": "stdout",
     "output_type": "stream",
     "text": [
      "Epoch:  178\n",
      "t_loss:  0.40799101427489637 , v_loss:  0.7646669497092565\n",
      "t_acc:  0.7133499688084841 , v_acc:  0.6964285714285714\n",
      "t_recall:  0.5382452389982646 , v_recall:  0.5239540607054963\n",
      "t_prec:  0.7211094809806298 , v_prec:  0.7225609756097561\n",
      "t_f:  0.49467692183677203 , v_f:  0.46123372948500285\n",
      "////////\n"
     ]
    },
    {
     "name": "stderr",
     "output_type": "stream",
     "text": [
      "\r",
      "Iterations:  60%|███████████████████▊             | 180/300 [04:41<02:59,  1.49s/it]"
     ]
    },
    {
     "name": "stdout",
     "output_type": "stream",
     "text": [
      "Epoch  179 , loss 0.40212734423431695\n",
      "Epoch  180 , loss 0.3977534525534686\n"
     ]
    },
    {
     "name": "stderr",
     "output_type": "stream",
     "text": [
      "\r",
      "Iterations:  60%|███████████████████▉             | 181/300 [04:43<03:19,  1.68s/it]"
     ]
    },
    {
     "name": "stdout",
     "output_type": "stream",
     "text": [
      "Epoch:  180\n",
      "t_loss:  0.3977534525534686 , v_loss:  0.7652142196893692\n",
      "t_acc:  0.7149095446038678 , v_acc:  0.6964285714285714\n",
      "t_recall:  0.5410980473284374 , v_recall:  0.5239540607054963\n",
      "t_prec:  0.7252206291741932 , v_prec:  0.7225609756097561\n",
      "t_f:  0.4999542664613436 , v_f:  0.46123372948500285\n",
      "////////\n"
     ]
    },
    {
     "name": "stderr",
     "output_type": "stream",
     "text": [
      "\r",
      "Iterations:  61%|████████████████████             | 182/300 [04:44<03:02,  1.55s/it]"
     ]
    },
    {
     "name": "stdout",
     "output_type": "stream",
     "text": [
      "Epoch  181 , loss 0.3956090033638711\n",
      "Epoch  182 , loss 0.3921735479551203\n"
     ]
    },
    {
     "name": "stderr",
     "output_type": "stream",
     "text": [
      "\r",
      "Iterations:  61%|████████████████████▏            | 183/300 [04:46<03:13,  1.66s/it]"
     ]
    },
    {
     "name": "stdout",
     "output_type": "stream",
     "text": [
      "Epoch:  182\n",
      "t_loss:  0.3921735479551203 , v_loss:  0.7654121120770773\n",
      "t_acc:  0.7161572052401747 , v_acc:  0.6964285714285714\n",
      "t_recall:  0.5417058005493685 , v_recall:  0.5239540607054963\n",
      "t_prec:  0.7392335097531968 , v_prec:  0.7225609756097561\n",
      "t_f:  0.4999873174136025 , v_f:  0.46123372948500285\n",
      "////////\n"
     ]
    },
    {
     "name": "stderr",
     "output_type": "stream",
     "text": [
      "\r",
      "Iterations:  61%|████████████████████▏            | 184/300 [04:47<02:52,  1.49s/it]"
     ]
    },
    {
     "name": "stdout",
     "output_type": "stream",
     "text": [
      "Epoch  183 , loss 0.39690393443201105\n",
      "Epoch  184 , loss 0.4040304445752911\n"
     ]
    },
    {
     "name": "stderr",
     "output_type": "stream",
     "text": [
      "\r",
      "Iterations:  62%|████████████████████▎            | 185/300 [04:49<03:04,  1.60s/it]"
     ]
    },
    {
     "name": "stdout",
     "output_type": "stream",
     "text": [
      "Epoch:  184\n",
      "t_loss:  0.4040304445752911 , v_loss:  0.7647546033064524\n",
      "t_acc:  0.7136618839675608 , v_acc:  0.6964285714285714\n",
      "t_recall:  0.5384693537450149 , v_recall:  0.5239540607054963\n",
      "t_prec:  0.7241705399359739 , v_prec:  0.7225609756097561\n",
      "t_f:  0.49486126443789036 , v_f:  0.46123372948500285\n",
      "////////\n"
     ]
    },
    {
     "name": "stderr",
     "output_type": "stream",
     "text": [
      "\r",
      "Iterations:  62%|████████████████████▍            | 186/300 [04:50<02:53,  1.52s/it]"
     ]
    },
    {
     "name": "stdout",
     "output_type": "stream",
     "text": [
      "Epoch  185 , loss 0.39531787879326763\n",
      "Epoch  186 , loss 0.39624738517929525\n"
     ]
    },
    {
     "name": "stderr",
     "output_type": "stream",
     "text": [
      "\r",
      "Iterations:  62%|████████████████████▌            | 187/300 [04:52<03:05,  1.64s/it]"
     ]
    },
    {
     "name": "stdout",
     "output_type": "stream",
     "text": [
      "Epoch:  186\n",
      "t_loss:  0.39624738517929525 , v_loss:  0.7697478334108988\n",
      "t_acc:  0.718028696194635 , v_acc:  0.6964285714285714\n",
      "t_recall:  0.5450714293923616 , v_recall:  0.5239540607054963\n",
      "t_prec:  0.7433823620678954 , v_prec:  0.7225609756097561\n",
      "t_f:  0.506133491103933 , v_f:  0.46123372948500285\n",
      "////////\n"
     ]
    },
    {
     "name": "stderr",
     "output_type": "stream",
     "text": [
      "\r",
      "Iterations:  63%|████████████████████▋            | 188/300 [04:53<02:48,  1.51s/it]"
     ]
    },
    {
     "name": "stdout",
     "output_type": "stream",
     "text": [
      "Epoch  187 , loss 0.39608899109503803\n",
      "Epoch  188 , loss 0.3942987883792204\n"
     ]
    },
    {
     "name": "stderr",
     "output_type": "stream",
     "text": [
      "\r",
      "Iterations:  63%|████████████████████▊            | 189/300 [04:55<02:59,  1.62s/it]"
     ]
    },
    {
     "name": "stdout",
     "output_type": "stream",
     "text": [
      "Epoch:  188\n",
      "t_loss:  0.3942987883792204 , v_loss:  0.7676098346710205\n",
      "t_acc:  0.7174048658764816 , v_acc:  0.6964285714285714\n",
      "t_recall:  0.5449119056649312 , v_recall:  0.5239540607054963\n",
      "t_prec:  0.7356416657621476 , v_prec:  0.7225609756097561\n",
      "t_f:  0.5064524350831404 , v_f:  0.46123372948500285\n",
      "////////\n"
     ]
    },
    {
     "name": "stderr",
     "output_type": "stream",
     "text": [
      "\r",
      "Iterations:  63%|████████████████████▉            | 190/300 [04:56<02:40,  1.46s/it]"
     ]
    },
    {
     "name": "stdout",
     "output_type": "stream",
     "text": [
      "Epoch  189 , loss 0.3989090662376553\n",
      "Epoch  190 , loss 0.39013093388548087\n"
     ]
    },
    {
     "name": "stderr",
     "output_type": "stream",
     "text": [
      "\r",
      "Iterations:  64%|█████████████████████            | 191/300 [04:58<03:01,  1.67s/it]"
     ]
    },
    {
     "name": "stdout",
     "output_type": "stream",
     "text": [
      "Epoch:  190\n",
      "t_loss:  0.39013093388548087 , v_loss:  0.7714508324861526\n",
      "t_acc:  0.7167810355583282 , v_acc:  0.6964285714285714\n",
      "t_recall:  0.5427314415750095 , v_recall:  0.5239540607054963\n",
      "t_prec:  0.7413515092502434 , v_prec:  0.7225609756097561\n",
      "t_f:  0.5018058598028478 , v_f:  0.46123372948500285\n",
      "////////\n"
     ]
    },
    {
     "name": "stderr",
     "output_type": "stream",
     "text": [
      "\r",
      "Iterations:  64%|█████████████████████            | 192/300 [04:59<02:41,  1.49s/it]"
     ]
    },
    {
     "name": "stdout",
     "output_type": "stream",
     "text": [
      "Epoch  191 , loss 0.3965831536288355\n",
      "Epoch  192 , loss 0.400400404252258\n"
     ]
    },
    {
     "name": "stderr",
     "output_type": "stream",
     "text": [
      "\r",
      "Iterations:  64%|█████████████████████▏           | 193/300 [05:01<02:55,  1.64s/it]"
     ]
    },
    {
     "name": "stdout",
     "output_type": "stream",
     "text": [
      "Epoch:  192\n",
      "t_loss:  0.400400404252258 , v_loss:  0.7716398239135742\n",
      "t_acc:  0.7164691203992514 , v_acc:  0.6904761904761905\n",
      "t_recall:  0.5433734441264697 , v_recall:  0.5196062346185398\n",
      "t_prec:  0.7325146389069617 , v_prec:  0.6466257668711657\n",
      "t_f:  0.5037570017547489 , v_f:  0.45819895807491934\n",
      "////////\n"
     ]
    },
    {
     "name": "stderr",
     "output_type": "stream",
     "text": [
      "\r",
      "Iterations:  65%|█████████████████████▎           | 194/300 [05:02<02:35,  1.47s/it]"
     ]
    },
    {
     "name": "stdout",
     "output_type": "stream",
     "text": [
      "Epoch  193 , loss 0.3891728166856018\n",
      "Epoch  194 , loss 0.3932560299541436\n"
     ]
    },
    {
     "name": "stderr",
     "output_type": "stream",
     "text": [
      "\r",
      "Iterations:  65%|█████████████████████▍           | 195/300 [05:04<02:43,  1.56s/it]"
     ]
    },
    {
     "name": "stdout",
     "output_type": "stream",
     "text": [
      "Epoch:  194\n",
      "t_loss:  0.3932560299541436 , v_loss:  0.7726660768191019\n",
      "t_acc:  0.7189644416718652 , v_acc:  0.6964285714285714\n",
      "t_recall:  0.5466098909308232 , v_recall:  0.5239540607054963\n",
      "t_prec:  0.7462953785758706 , v_prec:  0.7225609756097561\n",
      "t_f:  0.5088262645282873 , v_f:  0.46123372948500285\n",
      "////////\n"
     ]
    },
    {
     "name": "stderr",
     "output_type": "stream",
     "text": [
      "\r",
      "Iterations:  65%|█████████████████████▌           | 196/300 [05:06<02:35,  1.50s/it]"
     ]
    },
    {
     "name": "stdout",
     "output_type": "stream",
     "text": [
      "Epoch  195 , loss 0.39639962888231467\n",
      "Epoch  196 , loss 0.39437246585593505\n"
     ]
    },
    {
     "name": "stderr",
     "output_type": "stream",
     "text": [
      "\r",
      "Iterations:  66%|█████████████████████▋           | 197/300 [05:08<02:52,  1.68s/it]"
     ]
    },
    {
     "name": "stdout",
     "output_type": "stream",
     "text": [
      "Epoch:  196\n",
      "t_loss:  0.39437246585593505 , v_loss:  0.7731894453366598\n",
      "t_acc:  0.7211478477854024 , v_acc:  0.6964285714285714\n",
      "t_recall:  0.5499109287544967 , v_recall:  0.5239540607054963\n",
      "t_prec:  0.7546661725070547 , v_prec:  0.7225609756097561\n",
      "t_f:  0.514371806575836 , v_f:  0.46123372948500285\n",
      "////////\n"
     ]
    },
    {
     "name": "stderr",
     "output_type": "stream",
     "text": [
      "\r",
      "Iterations:  66%|█████████████████████▊           | 198/300 [05:09<02:35,  1.53s/it]"
     ]
    },
    {
     "name": "stdout",
     "output_type": "stream",
     "text": [
      "Epoch  197 , loss 0.3934812925609888\n",
      "Epoch  198 , loss 0.39299774637409285\n"
     ]
    },
    {
     "name": "stderr",
     "output_type": "stream",
     "text": [
      "\r",
      "Iterations:  66%|█████████████████████▉           | 199/300 [05:11<02:44,  1.63s/it]"
     ]
    },
    {
     "name": "stdout",
     "output_type": "stream",
     "text": [
      "Epoch:  198\n",
      "t_loss:  0.39299774637409285 , v_loss:  0.7715303351481756\n",
      "t_acc:  0.7124142233312539 , v_acc:  0.6964285714285714\n",
      "t_recall:  0.5378616005240837 , v_recall:  0.5239540607054963\n",
      "t_prec:  0.7106152166185462 , v_prec:  0.7225609756097561\n",
      "t_f:  0.49485236566967783 , v_f:  0.46123372948500285\n",
      "////////\n"
     ]
    },
    {
     "name": "stderr",
     "output_type": "stream",
     "text": [
      "\r",
      "Iterations:  67%|██████████████████████           | 200/300 [05:12<02:31,  1.51s/it]"
     ]
    },
    {
     "name": "stdout",
     "output_type": "stream",
     "text": [
      "Epoch  199 , loss 0.39898309228467005\n",
      "Epoch  200 , loss 0.39214382919610713\n"
     ]
    },
    {
     "name": "stderr",
     "output_type": "stream",
     "text": [
      "\r",
      "Iterations:  67%|██████████████████████           | 201/300 [05:14<02:40,  1.62s/it]"
     ]
    },
    {
     "name": "stdout",
     "output_type": "stream",
     "text": [
      "Epoch:  200\n",
      "t_loss:  0.39214382919610713 , v_loss:  0.7763267258803049\n",
      "t_acc:  0.7164691203992514 , v_acc:  0.6964285714285714\n",
      "t_recall:  0.5430847383603995 , v_recall:  0.5239540607054963\n",
      "t_prec:  0.734367810343103 , v_prec:  0.7225609756097561\n",
      "t_f:  0.503046177378635 , v_f:  0.46123372948500285\n",
      "////////\n"
     ]
    },
    {
     "name": "stderr",
     "output_type": "stream",
     "text": [
      "\r",
      "Iterations:  67%|██████████████████████▏          | 202/300 [05:15<02:22,  1.46s/it]"
     ]
    },
    {
     "name": "stdout",
     "output_type": "stream",
     "text": [
      "Epoch  201 , loss 0.39765864961287556\n",
      "Epoch  202 , loss 0.39261380013297587\n"
     ]
    },
    {
     "name": "stderr",
     "output_type": "stream",
     "text": [
      "\r",
      "Iterations:  68%|██████████████████████▎          | 203/300 [05:17<02:31,  1.56s/it]"
     ]
    },
    {
     "name": "stdout",
     "output_type": "stream",
     "text": [
      "Epoch:  202\n",
      "t_loss:  0.39261380013297587 , v_loss:  0.7721802939971288\n",
      "t_acc:  0.7189644416718652 , v_acc:  0.6964285714285714\n",
      "t_recall:  0.5471873024629637 , v_recall:  0.5239540607054963\n",
      "t_prec:  0.7424347637133193 , v_prec:  0.7225609756097561\n",
      "t_f:  0.5102220544756872 , v_f:  0.46123372948500285\n",
      "////////\n"
     ]
    },
    {
     "name": "stderr",
     "output_type": "stream",
     "text": [
      "\r",
      "Iterations:  68%|██████████████████████▍          | 204/300 [05:18<02:17,  1.43s/it]"
     ]
    },
    {
     "name": "stdout",
     "output_type": "stream",
     "text": [
      "Epoch  203 , loss 0.39821257719806596\n",
      "Epoch  204 , loss 0.3977525736771378\n"
     ]
    },
    {
     "name": "stderr",
     "output_type": "stream",
     "text": [
      "\r",
      "Iterations:  68%|██████████████████████▌          | 205/300 [05:20<02:29,  1.57s/it]"
     ]
    },
    {
     "name": "stdout",
     "output_type": "stream",
     "text": [
      "Epoch:  204\n",
      "t_loss:  0.3977525736771378 , v_loss:  0.7743900567293167\n",
      "t_acc:  0.7161572052401747 , v_acc:  0.6964285714285714\n",
      "t_recall:  0.5417058005493685 , v_recall:  0.5239540607054963\n",
      "t_prec:  0.7392335097531968 , v_prec:  0.7225609756097561\n",
      "t_f:  0.4999873174136025 , v_f:  0.46123372948500285\n",
      "////////\n"
     ]
    },
    {
     "name": "stderr",
     "output_type": "stream",
     "text": [
      "\r",
      "Iterations:  69%|██████████████████████▋          | 206/300 [05:21<02:16,  1.45s/it]"
     ]
    },
    {
     "name": "stdout",
     "output_type": "stream",
     "text": [
      "Epoch  205 , loss 0.39703500387715357\n",
      "Epoch  206 , loss 0.39132655309695824\n"
     ]
    },
    {
     "name": "stderr",
     "output_type": "stream",
     "text": [
      "\r",
      "Iterations:  69%|██████████████████████▊          | 207/300 [05:23<02:27,  1.59s/it]"
     ]
    },
    {
     "name": "stdout",
     "output_type": "stream",
     "text": [
      "Epoch:  206\n",
      "t_loss:  0.39132655309695824 , v_loss:  0.7747799158096313\n",
      "t_acc:  0.727386150966937 , v_acc:  0.6964285714285714\n",
      "t_recall:  0.5621882793733981 , v_recall:  0.5239540607054963\n",
      "t_prec:  0.757806708099156 , v_prec:  0.7225609756097561\n",
      "t_f:  0.5363212617688486 , v_f:  0.46123372948500285\n",
      "////////\n"
     ]
    },
    {
     "name": "stderr",
     "output_type": "stream",
     "text": [
      "\r",
      "Iterations:  69%|██████████████████████▉          | 208/300 [05:24<02:16,  1.48s/it]"
     ]
    },
    {
     "name": "stdout",
     "output_type": "stream",
     "text": [
      "Epoch  207 , loss 0.39498379534366085\n",
      "Epoch  208 , loss 0.40653154253959656\n"
     ]
    },
    {
     "name": "stderr",
     "output_type": "stream",
     "text": [
      "\r",
      "Iterations:  70%|██████████████████████▉          | 209/300 [05:26<02:24,  1.58s/it]"
     ]
    },
    {
     "name": "stdout",
     "output_type": "stream",
     "text": [
      "Epoch:  208\n",
      "t_loss:  0.40653154253959656 , v_loss:  0.7760519832372665\n",
      "t_acc:  0.7195882719900187 , v_acc:  0.6964285714285714\n",
      "t_recall:  0.5508112953832363 , v_recall:  0.5239540607054963\n",
      "t_prec:  0.729505133060899 , v_prec:  0.7225609756097561\n",
      "t_f:  0.5181169639667038 , v_f:  0.46123372948500285\n",
      "////////\n"
     ]
    },
    {
     "name": "stderr",
     "output_type": "stream",
     "text": [
      "\r",
      "Iterations:  70%|███████████████████████          | 210/300 [05:27<02:13,  1.48s/it]"
     ]
    },
    {
     "name": "stdout",
     "output_type": "stream",
     "text": [
      "Epoch  209 , loss 0.3953417159763037\n",
      "Epoch  210 , loss 0.39318753925024297\n"
     ]
    },
    {
     "name": "stderr",
     "output_type": "stream",
     "text": [
      "\r",
      "Iterations:  70%|███████████████████████▏         | 211/300 [05:29<02:25,  1.63s/it]"
     ]
    },
    {
     "name": "stdout",
     "output_type": "stream",
     "text": [
      "Epoch:  210\n",
      "t_loss:  0.39318753925024297 , v_loss:  0.7699336508909861\n",
      "t_acc:  0.7195882719900187 , v_acc:  0.7023809523809523\n",
      "t_recall:  0.548790355020745 , v_recall:  0.5333880229696473\n",
      "t_prec:  0.7406968938239349 , v_prec:  0.7496932515337423\n",
      "t_f:  0.5133785715600232 , v_f:  0.4790374596874225\n",
      "////////\n"
     ]
    },
    {
     "name": "stderr",
     "output_type": "stream",
     "text": [
      "\r",
      "Iterations:  71%|███████████████████████▎         | 212/300 [05:30<02:08,  1.46s/it]"
     ]
    },
    {
     "name": "stdout",
     "output_type": "stream",
     "text": [
      "Epoch  211 , loss 0.3894905664172827\n",
      "Epoch  212 , loss 0.3969130854980618\n"
     ]
    },
    {
     "name": "stderr",
     "output_type": "stream",
     "text": [
      "\r",
      "Iterations:  71%|███████████████████████▍         | 213/300 [05:32<02:15,  1.56s/it]"
     ]
    },
    {
     "name": "stdout",
     "output_type": "stream",
     "text": [
      "Epoch:  212\n",
      "t_loss:  0.3969130854980618 , v_loss:  0.7786106963952383\n",
      "t_acc:  0.718028696194635 , v_acc:  0.7023809523809523\n",
      "t_recall:  0.5459375466905723 , v_recall:  0.5333880229696473\n",
      "t_prec:  0.7376591438282043 , v_prec:  0.7496932515337423\n",
      "t_f:  0.5082421609881905 , v_f:  0.4790374596874225\n",
      "////////\n"
     ]
    },
    {
     "name": "stderr",
     "output_type": "stream",
     "text": [
      "\r",
      "Iterations:  71%|███████████████████████▌         | 214/300 [05:33<02:03,  1.44s/it]"
     ]
    },
    {
     "name": "stdout",
     "output_type": "stream",
     "text": [
      "Epoch  213 , loss 0.4000080315505757\n",
      "Epoch  214 , loss 0.4019648812565149\n"
     ]
    },
    {
     "name": "stderr",
     "output_type": "stream",
     "text": [
      "\r",
      "Iterations:  72%|███████████████████████▋         | 215/300 [05:35<02:14,  1.58s/it]"
     ]
    },
    {
     "name": "stdout",
     "output_type": "stream",
     "text": [
      "Epoch:  214\n",
      "t_loss:  0.4019648812565149 , v_loss:  0.7747761656840643\n",
      "t_acc:  0.7186525265127885 , v_acc:  0.7023809523809523\n",
      "t_recall:  0.5472518934822834 , v_recall:  0.5333880229696473\n",
      "t_prec:  0.7378339291705714 , v_prec:  0.7496932515337423\n",
      "t_f:  0.5107195259288135 , v_f:  0.4790374596874225\n",
      "////////\n"
     ]
    },
    {
     "name": "stderr",
     "output_type": "stream",
     "text": [
      "\r",
      "Iterations:  72%|███████████████████████▊         | 216/300 [05:36<02:02,  1.46s/it]"
     ]
    },
    {
     "name": "stdout",
     "output_type": "stream",
     "text": [
      "Epoch  215 , loss 0.39531413363475426\n",
      "Epoch  216 , loss 0.3975755788531958\n"
     ]
    },
    {
     "name": "stderr",
     "output_type": "stream",
     "text": [
      "\r",
      "Iterations:  72%|███████████████████████▊         | 217/300 [05:38<02:15,  1.63s/it]"
     ]
    },
    {
     "name": "stdout",
     "output_type": "stream",
     "text": [
      "Epoch:  216\n",
      "t_loss:  0.3975755788531958 , v_loss:  0.7746092627445856\n",
      "t_acc:  0.723955084217093 , v_acc:  0.6964285714285714\n",
      "t_recall:  0.5562585479663023 , v_recall:  0.5290401968826908\n",
      "t_prec:  0.751097751149048 , v_prec:  0.6820987654320987\n",
      "t_f:  0.5262776958273749 , v_f:  0.4757388484366395\n",
      "////////\n"
     ]
    },
    {
     "name": "stderr",
     "output_type": "stream",
     "text": [
      "\r",
      "Iterations:  73%|███████████████████████▉         | 218/300 [05:39<02:00,  1.47s/it]"
     ]
    },
    {
     "name": "stdout",
     "output_type": "stream",
     "text": [
      "Epoch  217 , loss 0.3916235823257297\n",
      "Epoch  218 , loss 0.3897445698579152\n"
     ]
    },
    {
     "name": "stderr",
     "output_type": "stream",
     "text": [
      "\r",
      "Iterations:  73%|████████████████████████         | 219/300 [05:41<02:11,  1.62s/it]"
     ]
    },
    {
     "name": "stdout",
     "output_type": "stream",
     "text": [
      "Epoch:  218\n",
      "t_loss:  0.3897445698579152 , v_loss:  0.7750413119792938\n",
      "t_acc:  0.7214597629444791 , v_acc:  0.6964285714285714\n",
      "t_recall:  0.5524446896298084 , v_recall:  0.5290401968826908\n",
      "t_prec:  0.742717145240081 , v_prec:  0.6820987654320987\n",
      "t_f:  0.5200008986492932 , v_f:  0.4757388484366395\n",
      "////////\n"
     ]
    },
    {
     "name": "stderr",
     "output_type": "stream",
     "text": [
      "\r",
      "Iterations:  73%|████████████████████████▏        | 220/300 [05:43<01:59,  1.49s/it]"
     ]
    },
    {
     "name": "stdout",
     "output_type": "stream",
     "text": [
      "Epoch  219 , loss 0.3933257974830328\n",
      "Epoch  220 , loss 0.3894287441291061\n"
     ]
    },
    {
     "name": "stderr",
     "output_type": "stream",
     "text": [
      "\r",
      "Iterations:  74%|████████████████████████▎        | 221/300 [05:44<02:07,  1.62s/it]"
     ]
    },
    {
     "name": "stdout",
     "output_type": "stream",
     "text": [
      "Epoch:  220\n",
      "t_loss:  0.3894287441291061 , v_loss:  0.7778082688649496\n",
      "t_acc:  0.714597629444791 , v_acc:  0.6964285714285714\n",
      "t_recall:  0.5408739325816869 , v_recall:  0.5290401968826908\n",
      "t_prec:  0.7223417025107532 , v_prec:  0.6820987654320987\n",
      "t_f:  0.49976595412700897 , v_f:  0.4757388484366395\n",
      "////////\n"
     ]
    },
    {
     "name": "stderr",
     "output_type": "stream",
     "text": [
      "\r",
      "Iterations:  74%|████████████████████████▍        | 222/300 [05:46<02:01,  1.55s/it]"
     ]
    },
    {
     "name": "stdout",
     "output_type": "stream",
     "text": [
      "Epoch  221 , loss 0.3982323507467906\n",
      "Epoch  222 , loss 0.3954540061600068\n"
     ]
    },
    {
     "name": "stderr",
     "output_type": "stream",
     "text": [
      "\r",
      "Iterations:  74%|████████████████████████▌        | 223/300 [05:48<02:05,  1.63s/it]"
     ]
    },
    {
     "name": "stdout",
     "output_type": "stream",
     "text": [
      "Epoch:  222\n",
      "t_loss:  0.3954540061600068 , v_loss:  0.7724881072839102\n",
      "t_acc:  0.7155333749220212 , v_acc:  0.6964285714285714\n",
      "t_recall:  0.546454274845131 , v_recall:  0.5290401968826908\n",
      "t_prec:  0.7061183693867352 , v_prec:  0.6820987654320987\n",
      "t_f:  0.5121624363314077 , v_f:  0.4757388484366395\n",
      "////////\n"
     ]
    },
    {
     "name": "stderr",
     "output_type": "stream",
     "text": [
      "\r",
      "Iterations:  75%|████████████████████████▋        | 224/300 [05:49<01:57,  1.55s/it]"
     ]
    },
    {
     "name": "stdout",
     "output_type": "stream",
     "text": [
      "Epoch  223 , loss 0.3895134493416431\n",
      "Epoch  224 , loss 0.3902521764530855\n"
     ]
    },
    {
     "name": "stderr",
     "output_type": "stream",
     "text": [
      "\r",
      "Iterations:  75%|████████████████████████▊        | 225/300 [05:51<02:07,  1.70s/it]"
     ]
    },
    {
     "name": "stdout",
     "output_type": "stream",
     "text": [
      "Epoch:  224\n",
      "t_loss:  0.3902521764530855 , v_loss:  0.7677139639854431\n",
      "t_acc:  0.7233312538989395 , v_acc:  0.7142857142857143\n",
      "t_recall:  0.5529232608120999 , v_recall:  0.5522559474979492\n",
      "t_prec:  0.7645901518773214 , v_prec:  0.7826086956521738\n",
      "t_f:  0.5191960794756628 , v_f:  0.5130434782608696\n",
      "////////\n"
     ]
    },
    {
     "name": "stderr",
     "output_type": "stream",
     "text": [
      "\r",
      "Iterations:  75%|████████████████████████▊        | 226/300 [05:52<01:52,  1.52s/it]"
     ]
    },
    {
     "name": "stdout",
     "output_type": "stream",
     "text": [
      "Epoch  225 , loss 0.3946222370746089\n",
      "Epoch  226 , loss 0.3941670039705202\n"
     ]
    },
    {
     "name": "stderr",
     "output_type": "stream",
     "text": [
      "\r",
      "Iterations:  76%|████████████████████████▉        | 227/300 [05:54<02:03,  1.69s/it]"
     ]
    },
    {
     "name": "stdout",
     "output_type": "stream",
     "text": [
      "Epoch:  226\n",
      "t_loss:  0.3941670039705202 , v_loss:  0.7747829457124075\n",
      "t_acc:  0.7186525265127885 , v_acc:  0.6964285714285714\n",
      "t_recall:  0.5495615396108449 , v_recall:  0.5290401968826908\n",
      "t_prec:  0.7252121923654617 , v_prec:  0.6820987654320987\n",
      "t_f:  0.5161734393404005 , v_f:  0.4757388484366395\n",
      "////////\n"
     ]
    },
    {
     "name": "stderr",
     "output_type": "stream",
     "text": [
      "\r",
      "Iterations:  76%|█████████████████████████        | 228/300 [05:55<01:49,  1.53s/it]"
     ]
    },
    {
     "name": "stdout",
     "output_type": "stream",
     "text": [
      "Epoch  227 , loss 0.39013682218158946\n",
      "Epoch  228 , loss 0.3899744871784659\n"
     ]
    },
    {
     "name": "stderr",
     "output_type": "stream",
     "text": [
      "\r",
      "Iterations:  76%|█████████████████████████▏       | 229/300 [05:57<01:55,  1.62s/it]"
     ]
    },
    {
     "name": "stdout",
     "output_type": "stream",
     "text": [
      "Epoch:  228\n",
      "t_loss:  0.3899744871784659 , v_loss:  0.7801882922649384\n",
      "t_acc:  0.7211478477854024 , v_acc:  0.6964285714285714\n",
      "t_recall:  0.5513544575848476 , v_recall:  0.5290401968826908\n",
      "t_prec:  0.745245261727403 , v_prec:  0.6820987654320987\n",
      "t_f:  0.5177821536440528 , v_f:  0.4757388484366395\n",
      "////////\n"
     ]
    },
    {
     "name": "stderr",
     "output_type": "stream",
     "text": [
      "\r",
      "Iterations:  77%|█████████████████████████▎       | 230/300 [05:58<01:42,  1.46s/it]"
     ]
    },
    {
     "name": "stdout",
     "output_type": "stream",
     "text": [
      "Epoch  229 , loss 0.3939264440069012\n",
      "Epoch  230 , loss 0.3956559621820263\n"
     ]
    },
    {
     "name": "stderr",
     "output_type": "stream",
     "text": [
      "\r",
      "Iterations:  77%|█████████████████████████▍       | 231/300 [06:00<01:51,  1.62s/it]"
     ]
    },
    {
     "name": "stdout",
     "output_type": "stream",
     "text": [
      "Epoch:  230\n",
      "t_loss:  0.3956559621820263 , v_loss:  0.7821092754602432\n",
      "t_acc:  0.7217716781035558 , v_acc:  0.6964285714285714\n",
      "t_recall:  0.55468974473905 , v_recall:  0.5290401968826908\n",
      "t_prec:  0.7344028625867711 , v_prec:  0.6820987654320987\n",
      "t_f:  0.5248271117949468 , v_f:  0.4757388484366395\n",
      "////////\n"
     ]
    },
    {
     "name": "stderr",
     "output_type": "stream",
     "text": [
      "\r",
      "Iterations:  77%|█████████████████████████▌       | 232/300 [06:02<01:45,  1.56s/it]"
     ]
    },
    {
     "name": "stdout",
     "output_type": "stream",
     "text": [
      "Epoch  231 , loss 0.3885447701402739\n",
      "Epoch  232 , loss 0.39021025802574905\n"
     ]
    },
    {
     "name": "stderr",
     "output_type": "stream",
     "text": [
      "\r",
      "Iterations:  78%|█████████████████████████▋       | 233/300 [06:04<01:56,  1.73s/it]"
     ]
    },
    {
     "name": "stdout",
     "output_type": "stream",
     "text": [
      "Epoch:  232\n",
      "t_loss:  0.39021025802574905 , v_loss:  0.7856912910938263\n",
      "t_acc:  0.7214597629444791 , v_acc:  0.6964285714285714\n",
      "t_recall:  0.5544656299922996 , v_recall:  0.5290401968826908\n",
      "t_prec:  0.7321291419793724 , v_prec:  0.6820987654320987\n",
      "t_f:  0.5246203922744616 , v_f:  0.4757388484366395\n",
      "////////\n"
     ]
    },
    {
     "name": "stderr",
     "output_type": "stream",
     "text": [
      "\r",
      "Iterations:  78%|█████████████████████████▋       | 234/300 [06:05<01:41,  1.54s/it]"
     ]
    },
    {
     "name": "stdout",
     "output_type": "stream",
     "text": [
      "Epoch  233 , loss 0.38857003637388643\n",
      "Epoch  234 , loss 0.38805031542684515\n"
     ]
    },
    {
     "name": "stderr",
     "output_type": "stream",
     "text": [
      "\r",
      "Iterations:  78%|█████████████████████████▊       | 235/300 [06:07<01:46,  1.63s/it]"
     ]
    },
    {
     "name": "stdout",
     "output_type": "stream",
     "text": [
      "Epoch:  234\n",
      "t_loss:  0.38805031542684515 , v_loss:  0.7834018667538961\n",
      "t_acc:  0.723955084217093 , v_acc:  0.6964285714285714\n",
      "t_recall:  0.5571246652645129 , v_recall:  0.5290401968826908\n",
      "t_prec:  0.7462329581483831 , v_prec:  0.6820987654320987\n",
      "t_f:  0.5282323816041705 , v_f:  0.4757388484366395\n",
      "////////\n"
     ]
    },
    {
     "name": "stderr",
     "output_type": "stream",
     "text": [
      "\r",
      "Iterations:  79%|█████████████████████████▉       | 236/300 [06:08<01:36,  1.51s/it]"
     ]
    },
    {
     "name": "stdout",
     "output_type": "stream",
     "text": [
      "Epoch  235 , loss 0.3850322941354677\n",
      "Epoch  236 , loss 0.39504149322416265\n"
     ]
    },
    {
     "name": "stderr",
     "output_type": "stream",
     "text": [
      "\r",
      "Iterations:  79%|██████████████████████████       | 237/300 [06:10<01:45,  1.67s/it]"
     ]
    },
    {
     "name": "stdout",
     "output_type": "stream",
     "text": [
      "Epoch:  236\n",
      "t_loss:  0.39504149322416265 , v_loss:  0.7857534190018972\n",
      "t_acc:  0.7236431690580162 , v_acc:  0.6964285714285714\n",
      "t_recall:  0.5537247870909906 , v_recall:  0.5290401968826908\n",
      "t_prec:  0.7632979981750385 , v_prec:  0.6820987654320987\n",
      "t_f:  0.5207530234315949 , v_f:  0.4757388484366395\n",
      "////////\n"
     ]
    },
    {
     "name": "stderr",
     "output_type": "stream",
     "text": [
      "\r",
      "Iterations:  79%|██████████████████████████▏      | 238/300 [06:11<01:35,  1.54s/it]"
     ]
    },
    {
     "name": "stdout",
     "output_type": "stream",
     "text": [
      "Epoch  237 , loss 0.3840755644966574\n",
      "Epoch  238 , loss 0.3855944909885818\n"
     ]
    },
    {
     "name": "stderr",
     "output_type": "stream",
     "text": [
      "\r",
      "Iterations:  80%|██████████████████████████▎      | 239/300 [06:13<01:41,  1.67s/it]"
     ]
    },
    {
     "name": "stdout",
     "output_type": "stream",
     "text": [
      "Epoch:  238\n",
      "t_loss:  0.3855944909885818 , v_loss:  0.7814276268084844\n",
      "t_acc:  0.7252027448533999 , v_acc:  0.7023809523809523\n",
      "t_recall:  0.5597533588479352 , v_recall:  0.5384741591468417\n",
      "t_prec:  0.7463701361720195 , v_prec:  0.7080745341614907\n",
      "t_f:  0.5329256396403815 , v_f:  0.49275362318840576\n",
      "////////\n"
     ]
    },
    {
     "name": "stderr",
     "output_type": "stream",
     "text": [
      "\r",
      "Iterations:  80%|██████████████████████████▍      | 240/300 [06:14<01:30,  1.51s/it]"
     ]
    },
    {
     "name": "stdout",
     "output_type": "stream",
     "text": [
      "Epoch  239 , loss 0.38615794830462513\n",
      "Epoch  240 , loss 0.38410945558080484\n"
     ]
    },
    {
     "name": "stderr",
     "output_type": "stream",
     "text": [
      "\r",
      "Iterations:  80%|██████████████████████████▌      | 241/300 [06:16<01:38,  1.66s/it]"
     ]
    },
    {
     "name": "stdout",
     "output_type": "stream",
     "text": [
      "Epoch:  240\n",
      "t_loss:  0.38410945558080484 , v_loss:  0.7885277519623438\n",
      "t_acc:  0.7236431690580162 , v_acc:  0.6964285714285714\n",
      "t_recall:  0.5586327851141836 , v_recall:  0.5290401968826908\n",
      "t_prec:  0.7353852570810564 , v_prec:  0.6820987654320987\n",
      "t_f:  0.5318652834370404 , v_f:  0.4757388484366395\n",
      "////////\n"
     ]
    },
    {
     "name": "stderr",
     "output_type": "stream",
     "text": [
      "\r",
      "Iterations:  81%|██████████████████████████▌      | 242/300 [06:18<01:27,  1.50s/it]"
     ]
    },
    {
     "name": "stdout",
     "output_type": "stream",
     "text": [
      "Epoch  241 , loss 0.38527201437482644\n",
      "Epoch  242 , loss 0.3855716518911661\n"
     ]
    },
    {
     "name": "stderr",
     "output_type": "stream",
     "text": [
      "\r",
      "Iterations:  81%|██████████████████████████▋      | 243/300 [06:20<01:35,  1.67s/it]"
     ]
    },
    {
     "name": "stdout",
     "output_type": "stream",
     "text": [
      "Epoch:  242\n",
      "t_loss:  0.3855716518911661 , v_loss:  0.789915531873703\n",
      "t_acc:  0.7230193387398628 , v_acc:  0.6964285714285714\n",
      "t_recall:  0.5555862037260513 , v_recall:  0.5290401968826908\n",
      "t_prec:  0.7437707783528121 , v_prec:  0.6820987654320987\n",
      "t_f:  0.5256552521138615 , v_f:  0.4757388484366395\n",
      "////////\n"
     ]
    },
    {
     "name": "stderr",
     "output_type": "stream",
     "text": [
      "\r",
      "Iterations:  81%|██████████████████████████▊      | 244/300 [06:21<01:24,  1.50s/it]"
     ]
    },
    {
     "name": "stdout",
     "output_type": "stream",
     "text": [
      "Epoch  243 , loss 0.3881613078947161\n",
      "Epoch  244 , loss 0.3872685333093007\n"
     ]
    },
    {
     "name": "stderr",
     "output_type": "stream",
     "text": [
      "\r",
      "Iterations:  82%|██████████████████████████▉      | 245/300 [06:23<01:29,  1.63s/it]"
     ]
    },
    {
     "name": "stdout",
     "output_type": "stream",
     "text": [
      "Epoch:  244\n",
      "t_loss:  0.3872685333093007 , v_loss:  0.7889209041992823\n",
      "t_acc:  0.7214597629444791 , v_acc:  0.6964285714285714\n",
      "t_recall:  0.5544656299922996 , v_recall:  0.5290401968826908\n",
      "t_prec:  0.7321291419793724 , v_prec:  0.6820987654320987\n",
      "t_f:  0.5246203922744616 , v_f:  0.4757388484366395\n",
      "////////\n"
     ]
    },
    {
     "name": "stderr",
     "output_type": "stream",
     "text": [
      "\r",
      "Iterations:  82%|███████████████████████████      | 246/300 [06:24<01:20,  1.49s/it]"
     ]
    },
    {
     "name": "stdout",
     "output_type": "stream",
     "text": [
      "Epoch  245 , loss 0.39833418352931155\n",
      "Epoch  246 , loss 0.3921970806869806\n"
     ]
    },
    {
     "name": "stderr",
     "output_type": "stream",
     "text": [
      "\r",
      "Iterations:  82%|███████████████████████████▏     | 247/300 [06:26<01:24,  1.60s/it]"
     ]
    },
    {
     "name": "stdout",
     "output_type": "stream",
     "text": [
      "Epoch:  246\n",
      "t_loss:  0.3921970806869806 , v_loss:  0.7842022875944773\n",
      "t_acc:  0.7286338116032439 , v_acc:  0.7023809523809523\n",
      "t_recall:  0.56395085565861 , v_recall:  0.5384741591468417\n",
      "t_prec:  0.7622566809633784 , v_prec:  0.7080745341614907\n",
      "t_f:  0.5390709434336424 , v_f:  0.49275362318840576\n",
      "////////\n"
     ]
    },
    {
     "name": "stderr",
     "output_type": "stream",
     "text": [
      "\r",
      "Iterations:  83%|███████████████████████████▎     | 248/300 [06:27<01:21,  1.56s/it]"
     ]
    },
    {
     "name": "stdout",
     "output_type": "stream",
     "text": [
      "Epoch  247 , loss 0.384132788753977\n",
      "Epoch  248 , loss 0.38578622364530374\n"
     ]
    },
    {
     "name": "stderr",
     "output_type": "stream",
     "text": [
      "\r",
      "Iterations:  83%|███████████████████████████▍     | 249/300 [06:29<01:25,  1.68s/it]"
     ]
    },
    {
     "name": "stdout",
     "output_type": "stream",
     "text": [
      "Epoch:  248\n",
      "t_loss:  0.38578622364530374 , v_loss:  0.7895748068888983\n",
      "t_acc:  0.7323767935121647 , v_acc:  0.7023809523809523\n",
      "t_recall:  0.5718369364088772 , v_recall:  0.5384741591468417\n",
      "t_prec:  0.7611352405526134 , v_prec:  0.7080745341614907\n",
      "t_f:  0.5526811343913857 , v_f:  0.49275362318840576\n",
      "////////\n"
     ]
    },
    {
     "name": "stderr",
     "output_type": "stream",
     "text": [
      "\r",
      "Iterations:  83%|███████████████████████████▌     | 250/300 [06:30<01:14,  1.50s/it]"
     ]
    },
    {
     "name": "stdout",
     "output_type": "stream",
     "text": [
      "Epoch  249 , loss 0.3831762683157827\n",
      "Epoch  250 , loss 0.38907308379809064\n"
     ]
    },
    {
     "name": "stderr",
     "output_type": "stream",
     "text": [
      "\r",
      "Iterations:  84%|███████████████████████████▌     | 251/300 [06:32<01:18,  1.60s/it]"
     ]
    },
    {
     "name": "stdout",
     "output_type": "stream",
     "text": [
      "Epoch:  250\n",
      "t_loss:  0.38907308379809064 , v_loss:  0.7942472994327545\n",
      "t_acc:  0.7230193387398628 , v_acc:  0.7023809523809523\n",
      "t_recall:  0.5607829075153145 , v_recall:  0.5384741591468417\n",
      "t_prec:  0.7209526180954657 , v_prec:  0.7080745341614907\n",
      "t_f:  0.5370406146148607 , v_f:  0.49275362318840576\n",
      "////////\n"
     ]
    },
    {
     "name": "stderr",
     "output_type": "stream",
     "text": [
      "\r",
      "Iterations:  84%|███████████████████████████▋     | 252/300 [06:33<01:11,  1.48s/it]"
     ]
    },
    {
     "name": "stdout",
     "output_type": "stream",
     "text": [
      "Epoch  251 , loss 0.3846841767138126\n",
      "Epoch  252 , loss 0.3931471074328703\n"
     ]
    },
    {
     "name": "stderr",
     "output_type": "stream",
     "text": [
      "\r",
      "Iterations:  84%|███████████████████████████▊     | 253/300 [06:35<01:15,  1.60s/it]"
     ]
    },
    {
     "name": "stdout",
     "output_type": "stream",
     "text": [
      "Epoch:  252\n",
      "t_loss:  0.3931471074328703 , v_loss:  0.7966895898183187\n",
      "t_acc:  0.7267623206487835 , v_acc:  0.6964285714285714\n",
      "t_recall:  0.5614513441138274 , v_recall:  0.5290401968826908\n",
      "t_prec:  0.754751681408171 , v_prec:  0.6820987654320987\n",
      "t_f:  0.5352602120246126 , v_f:  0.4757388484366395\n",
      "////////\n"
     ]
    },
    {
     "name": "stderr",
     "output_type": "stream",
     "text": [
      "\r",
      "Iterations:  85%|███████████████████████████▉     | 254/300 [06:37<01:11,  1.55s/it]"
     ]
    },
    {
     "name": "stdout",
     "output_type": "stream",
     "text": [
      "Epoch  253 , loss 0.38260842596783357\n",
      "Epoch  254 , loss 0.38747165542022854\n"
     ]
    },
    {
     "name": "stderr",
     "output_type": "stream",
     "text": [
      "\r",
      "Iterations:  85%|████████████████████████████     | 255/300 [06:38<01:13,  1.64s/it]"
     ]
    },
    {
     "name": "stdout",
     "output_type": "stream",
     "text": [
      "Epoch:  254\n",
      "t_loss:  0.38747165542022854 , v_loss:  0.7952311138312022\n",
      "t_acc:  0.723955084217093 , v_acc:  0.7023809523809523\n",
      "t_recall:  0.5577020767966532 , v_recall:  0.5384741591468417\n",
      "t_prec:  0.7431895683174455 , v_prec:  0.7080745341614907\n",
      "t_f:  0.5295234478830453 , v_f:  0.49275362318840576\n",
      "////////\n"
     ]
    },
    {
     "name": "stderr",
     "output_type": "stream",
     "text": [
      "\r",
      "Iterations:  85%|████████████████████████████▏    | 256/300 [06:40<01:06,  1.50s/it]"
     ]
    },
    {
     "name": "stdout",
     "output_type": "stream",
     "text": [
      "Epoch  255 , loss 0.39420365878179964\n",
      "Epoch  256 , loss 0.3894698923709346\n"
     ]
    },
    {
     "name": "stderr",
     "output_type": "stream",
     "text": [
      "\r",
      "Iterations:  86%|████████████████████████████▎    | 257/300 [06:41<01:09,  1.63s/it]"
     ]
    },
    {
     "name": "stdout",
     "output_type": "stream",
     "text": [
      "Epoch:  256\n",
      "t_loss:  0.3894698923709346 , v_loss:  0.7938915739456812\n",
      "t_acc:  0.7223955084217093 , v_acc:  0.7023809523809523\n",
      "t_recall:  0.5568702088289716 , v_recall:  0.5384741591468417\n",
      "t_prec:  0.7307365896148903 , v_prec:  0.7080745341614907\n",
      "t_f:  0.5291145173215039 , v_f:  0.49275362318840576\n",
      "////////\n"
     ]
    },
    {
     "name": "stderr",
     "output_type": "stream",
     "text": [
      "\r",
      "Iterations:  86%|████████████████████████████▍    | 258/300 [06:43<01:02,  1.50s/it]"
     ]
    },
    {
     "name": "stdout",
     "output_type": "stream",
     "text": [
      "Epoch  257 , loss 0.38311777161616906\n",
      "Epoch  258 , loss 0.38184258809276655\n"
     ]
    },
    {
     "name": "stderr",
     "output_type": "stream",
     "text": [
      "\r",
      "Iterations:  86%|████████████████████████████▍    | 259/300 [06:45<01:08,  1.66s/it]"
     ]
    },
    {
     "name": "stdout",
     "output_type": "stream",
     "text": [
      "Epoch:  258\n",
      "t_loss:  0.38184258809276655 , v_loss:  0.7923330714305242\n",
      "t_acc:  0.7270742358078602 , v_acc:  0.7023809523809523\n",
      "t_recall:  0.5613867530945075 , v_recall:  0.5384741591468417\n",
      "t_prec:  0.7587189025807952 , v_prec:  0.7080745341614907\n",
      "t_f:  0.5348395671160053 , v_f:  0.49275362318840576\n",
      "////////\n"
     ]
    },
    {
     "name": "stderr",
     "output_type": "stream",
     "text": [
      "\r",
      "Iterations:  87%|████████████████████████████▌    | 260/300 [06:46<01:00,  1.51s/it]"
     ]
    },
    {
     "name": "stdout",
     "output_type": "stream",
     "text": [
      "Epoch  259 , loss 0.3911301855947457\n",
      "Epoch  260 , loss 0.3836633583494261\n"
     ]
    },
    {
     "name": "stderr",
     "output_type": "stream",
     "text": [
      "\r",
      "Iterations:  87%|████████████████████████████▋    | 261/300 [06:48<01:02,  1.61s/it]"
     ]
    },
    {
     "name": "stdout",
     "output_type": "stream",
     "text": [
      "Epoch:  260\n",
      "t_loss:  0.3836633583494261 , v_loss:  0.795989548166593\n",
      "t_acc:  0.7286338116032439 , v_acc:  0.7023809523809523\n",
      "t_recall:  0.5662605017871715 , v_recall:  0.5384741591468417\n",
      "t_prec:  0.7502869596172714 , v_prec:  0.7080745341614907\n",
      "t_f:  0.54400935385549 , v_f:  0.49275362318840576\n",
      "////////\n"
     ]
    },
    {
     "name": "stderr",
     "output_type": "stream",
     "text": [
      "\r",
      "Iterations:  87%|████████████████████████████▊    | 262/300 [06:49<00:55,  1.46s/it]"
     ]
    },
    {
     "name": "stdout",
     "output_type": "stream",
     "text": [
      "Epoch  261 , loss 0.38128989379779965\n",
      "Epoch  262 , loss 0.38340041742605324\n"
     ]
    },
    {
     "name": "stderr",
     "output_type": "stream",
     "text": [
      "\r",
      "Iterations:  88%|████████████████████████████▉    | 263/300 [06:51<01:00,  1.63s/it]"
     ]
    },
    {
     "name": "stdout",
     "output_type": "stream",
     "text": [
      "Epoch:  262\n",
      "t_loss:  0.38340041742605324 , v_loss:  0.7963846921920776\n",
      "t_acc:  0.7245789145352464 , v_acc:  0.7023809523809523\n",
      "t_recall:  0.5578616005240837 , v_recall:  0.5384741591468417\n",
      "t_prec:  0.7494094800253646 , v_prec:  0.7080745341614907\n",
      "t_f:  0.5292985231146696 , v_f:  0.49275362318840576\n",
      "////////\n"
     ]
    },
    {
     "name": "stderr",
     "output_type": "stream",
     "text": [
      "\r",
      "Iterations:  88%|█████████████████████████████    | 264/300 [06:52<00:56,  1.56s/it]"
     ]
    },
    {
     "name": "stdout",
     "output_type": "stream",
     "text": [
      "Epoch  263 , loss 0.387414029415916\n",
      "Epoch  264 , loss 0.38376014139138015\n"
     ]
    },
    {
     "name": "stderr",
     "output_type": "stream",
     "text": [
      "\r",
      "Iterations:  88%|█████████████████████████████▏   | 265/300 [06:54<01:00,  1.72s/it]"
     ]
    },
    {
     "name": "stdout",
     "output_type": "stream",
     "text": [
      "Epoch:  264\n",
      "t_loss:  0.38376014139138015 , v_loss:  0.7909152706464132\n",
      "t_acc:  0.7270742358078602 , v_acc:  0.7023809523809523\n",
      "t_recall:  0.562252870392718 , v_recall:  0.5384741591468417\n",
      "t_prec:  0.7539266426642663 , v_prec:  0.7080745341614907\n",
      "t_f:  0.5367366476032758 , v_f:  0.49275362318840576\n",
      "////////\n"
     ]
    },
    {
     "name": "stderr",
     "output_type": "stream",
     "text": [
      "\r",
      "Iterations:  89%|█████████████████████████████▎   | 266/300 [06:56<00:53,  1.57s/it]"
     ]
    },
    {
     "name": "stdout",
     "output_type": "stream",
     "text": [
      "Epoch  265 , loss 0.3925052048528896\n",
      "Epoch  266 , loss 0.381600008875716\n"
     ]
    },
    {
     "name": "stderr",
     "output_type": "stream",
     "text": [
      "\r",
      "Iterations:  89%|█████████████████████████████▎   | 267/300 [06:58<00:56,  1.70s/it]"
     ]
    },
    {
     "name": "stdout",
     "output_type": "stream",
     "text": [
      "Epoch:  266\n",
      "t_loss:  0.381600008875716 , v_loss:  0.7929696093002955\n",
      "t_acc:  0.7326887086712415 , v_acc:  0.7023809523809523\n",
      "t_recall:  0.5723497569216978 , v_recall:  0.5384741591468417\n",
      "t_prec:  0.7617714570858284 , v_prec:  0.7080745341614907\n",
      "t_f:  0.5534974953176864 , v_f:  0.49275362318840576\n",
      "////////\n"
     ]
    },
    {
     "name": "stderr",
     "output_type": "stream",
     "text": [
      "\r",
      "Iterations:  89%|█████████████████████████████▍   | 268/300 [06:59<00:48,  1.51s/it]"
     ]
    },
    {
     "name": "stdout",
     "output_type": "stream",
     "text": [
      "Epoch  267 , loss 0.3841419845235114\n",
      "Epoch  268 , loss 0.3863278831921372\n"
     ]
    },
    {
     "name": "stderr",
     "output_type": "stream",
     "text": [
      "\r",
      "Iterations:  90%|█████████████████████████████▌   | 269/300 [07:01<00:50,  1.63s/it]"
     ]
    },
    {
     "name": "stdout",
     "output_type": "stream",
     "text": [
      "Epoch:  268\n",
      "t_loss:  0.3863278831921372 , v_loss:  0.7907348424196243\n",
      "t_acc:  0.7311291328758578 , v_acc:  0.7023809523809523\n",
      "t_recall:  0.5709404774218759 , v_recall:  0.5435602953240362\n",
      "t_prec:  0.7531319255457187 , v_prec:  0.6855345911949685\n",
      "t_f:  0.5517794387357573 , v_f:  0.5055333176359783\n",
      "////////\n"
     ]
    },
    {
     "name": "stderr",
     "output_type": "stream",
     "text": [
      "\r",
      "Iterations:  90%|█████████████████████████████▋   | 270/300 [07:02<00:46,  1.54s/it]"
     ]
    },
    {
     "name": "stdout",
     "output_type": "stream",
     "text": [
      "Epoch  269 , loss 0.3854775107374378\n",
      "Epoch  270 , loss 0.3945089555254169\n"
     ]
    },
    {
     "name": "stderr",
     "output_type": "stream",
     "text": [
      "\r",
      "Iterations:  90%|█████████████████████████████▊   | 271/300 [07:04<00:48,  1.67s/it]"
     ]
    },
    {
     "name": "stdout",
     "output_type": "stream",
     "text": [
      "Epoch:  270\n",
      "t_loss:  0.3945089555254169 , v_loss:  0.7911213586727778\n",
      "t_acc:  0.7264504054897069 , v_acc:  0.7023809523809523\n",
      "t_recall:  0.5623820524313576 , v_recall:  0.5384741591468417\n",
      "t_prec:  0.7465532153032153 , v_prec:  0.7080745341614907\n",
      "t_f:  0.5375582541876814 , v_f:  0.49275362318840576\n",
      "////////\n"
     ]
    },
    {
     "name": "stderr",
     "output_type": "stream",
     "text": [
      "\r",
      "Iterations:  91%|█████████████████████████████▉   | 272/300 [07:05<00:42,  1.50s/it]"
     ]
    },
    {
     "name": "stdout",
     "output_type": "stream",
     "text": [
      "Epoch  271 , loss 0.3791059959752887\n",
      "Epoch  272 , loss 0.3915565265159981\n"
     ]
    },
    {
     "name": "stderr",
     "output_type": "stream",
     "text": [
      "\r",
      "Iterations:  91%|██████████████████████████████   | 273/300 [07:07<00:43,  1.61s/it]"
     ]
    },
    {
     "name": "stdout",
     "output_type": "stream",
     "text": [
      "Epoch:  272\n",
      "t_loss:  0.3915565265159981 , v_loss:  0.7952018280824026\n",
      "t_acc:  0.7389270118527761 , v_acc:  0.7023809523809523\n",
      "t_recall:  0.5814513441138273 , v_recall:  0.5384741591468417\n",
      "t_prec:  0.7791353146544662 , v_prec:  0.7080745341614907\n",
      "t_f:  0.5673348032714858 , v_f:  0.49275362318840576\n",
      "////////\n"
     ]
    },
    {
     "name": "stderr",
     "output_type": "stream",
     "text": [
      "\r",
      "Iterations:  91%|██████████████████████████████▏  | 274/300 [07:08<00:38,  1.48s/it]"
     ]
    },
    {
     "name": "stdout",
     "output_type": "stream",
     "text": [
      "Epoch  273 , loss 0.385490500459484\n",
      "Epoch  274 , loss 0.38423442782140244\n"
     ]
    },
    {
     "name": "stderr",
     "output_type": "stream",
     "text": [
      "\r",
      "Iterations:  92%|██████████████████████████████▎  | 275/300 [07:10<00:41,  1.67s/it]"
     ]
    },
    {
     "name": "stdout",
     "output_type": "stream",
     "text": [
      "Epoch:  274\n",
      "t_loss:  0.38423442782140244 , v_loss:  0.7960445185502371\n",
      "t_acc:  0.7305053025577043 , v_acc:  0.7023809523809523\n",
      "t_recall:  0.5693374248640946 , v_recall:  0.5384741591468417\n",
      "t_prec:  0.7544388830125528 , v_prec:  0.7080745341614907\n",
      "t_f:  0.5489565693145403 , v_f:  0.49275362318840576\n",
      "////////\n"
     ]
    },
    {
     "name": "stderr",
     "output_type": "stream",
     "text": [
      "\r",
      "Iterations:  92%|██████████████████████████████▎  | 276/300 [07:11<00:35,  1.48s/it]"
     ]
    },
    {
     "name": "stdout",
     "output_type": "stream",
     "text": [
      "Epoch  275 , loss 0.38562118890238745\n",
      "Epoch  276 , loss 0.38967910116794063\n"
     ]
    },
    {
     "name": "stderr",
     "output_type": "stream",
     "text": [
      "\r",
      "Iterations:  92%|██████████████████████████████▍  | 277/300 [07:13<00:36,  1.59s/it]"
     ]
    },
    {
     "name": "stdout",
     "output_type": "stream",
     "text": [
      "Epoch:  276\n",
      "t_loss:  0.38967910116794063 , v_loss:  0.7959963977336884\n",
      "t_acc:  0.72613849033063 , v_acc:  0.7023809523809523\n",
      "t_recall:  0.5638901722810284 , v_recall:  0.5384741591468417\n",
      "t_prec:  0.7366970680155669 , v_prec:  0.7080745341614907\n",
      "t_f:  0.541039663206775 , v_f:  0.49275362318840576\n",
      "////////\n"
     ]
    },
    {
     "name": "stderr",
     "output_type": "stream",
     "text": [
      "\r",
      "Iterations:  93%|██████████████████████████████▌  | 278/300 [07:14<00:31,  1.45s/it]"
     ]
    },
    {
     "name": "stdout",
     "output_type": "stream",
     "text": [
      "Epoch  277 , loss 0.38921526921730415\n",
      "Epoch  278 , loss 0.4045942641940771\n"
     ]
    },
    {
     "name": "stderr",
     "output_type": "stream",
     "text": [
      "\r",
      "Iterations:  93%|██████████████████████████████▋  | 279/300 [07:16<00:33,  1.58s/it]"
     ]
    },
    {
     "name": "stdout",
     "output_type": "stream",
     "text": [
      "Epoch:  278\n",
      "t_loss:  0.4045942641940771 , v_loss:  0.7947782427072525\n",
      "t_acc:  0.7276980661260137 , v_acc:  0.7023809523809523\n",
      "t_recall:  0.5658768633129906 , v_recall:  0.5384741591468417\n",
      "t_prec:  0.7428927384907451 , v_prec:  0.7080745341614907\n",
      "t_f:  0.5439560412702121 , v_f:  0.49275362318840576\n",
      "////////\n"
     ]
    },
    {
     "name": "stderr",
     "output_type": "stream",
     "text": [
      "\r",
      "Iterations:  93%|██████████████████████████████▊  | 280/300 [07:17<00:29,  1.49s/it]"
     ]
    },
    {
     "name": "stdout",
     "output_type": "stream",
     "text": [
      "Epoch  279 , loss 0.38052069614915285\n",
      "Epoch  280 , loss 0.3839450864230885\n"
     ]
    },
    {
     "name": "stderr",
     "output_type": "stream",
     "text": [
      "\r",
      "Iterations:  94%|██████████████████████████████▉  | 281/300 [07:19<00:30,  1.60s/it]"
     ]
    },
    {
     "name": "stdout",
     "output_type": "stream",
     "text": [
      "Epoch:  280\n",
      "t_loss:  0.3839450864230885 , v_loss:  0.7965659300486246\n",
      "t_acc:  0.7323767935121647 , v_acc:  0.6964285714285714\n",
      "t_recall:  0.5727030537070879 , v_recall:  0.5341263330598852\n",
      "t_prec:  0.7570614673157727 , v_prec:  0.6625\n",
      "t_f:  0.5544452651220649 , v_f:  0.4892399403874814\n",
      "////////\n"
     ]
    },
    {
     "name": "stderr",
     "output_type": "stream",
     "text": [
      "\r",
      "Iterations:  94%|███████████████████████████████  | 282/300 [07:20<00:27,  1.51s/it]"
     ]
    },
    {
     "name": "stdout",
     "output_type": "stream",
     "text": [
      "Epoch  281 , loss 0.3824067881294325\n",
      "Epoch  282 , loss 0.38075396535443323\n"
     ]
    },
    {
     "name": "stderr",
     "output_type": "stream",
     "text": [
      "\r",
      "Iterations:  94%|███████████████████████████████▏ | 283/300 [07:22<00:27,  1.60s/it]"
     ]
    },
    {
     "name": "stdout",
     "output_type": "stream",
     "text": [
      "Epoch:  282\n",
      "t_loss:  0.38075396535443323 , v_loss:  0.8017271260420481\n",
      "t_acc:  0.7289457267623206 , v_acc:  0.7023809523809523\n",
      "t_recall:  0.5664846165339218 , v_recall:  0.5384741591468417\n",
      "t_prec:  0.7523715621946112 , v_prec:  0.7080745341614907\n",
      "t_f:  0.5442294022907838 , v_f:  0.49275362318840576\n",
      "////////\n"
     ]
    },
    {
     "name": "stderr",
     "output_type": "stream",
     "text": [
      "\r",
      "Iterations:  95%|███████████████████████████████▏ | 284/300 [07:24<00:24,  1.50s/it]"
     ]
    },
    {
     "name": "stdout",
     "output_type": "stream",
     "text": [
      "Epoch  283 , loss 0.3828081360050276\n",
      "Epoch  284 , loss 0.38935407294946556\n"
     ]
    },
    {
     "name": "stderr",
     "output_type": "stream",
     "text": [
      "\r",
      "Iterations:  95%|███████████████████████████████▎ | 285/300 [07:25<00:24,  1.62s/it]"
     ]
    },
    {
     "name": "stdout",
     "output_type": "stream",
     "text": [
      "Epoch:  284\n",
      "t_loss:  0.38935407294946556 , v_loss:  0.8029751827319463\n",
      "t_acc:  0.7270742358078602 , v_acc:  0.7023809523809523\n",
      "t_recall:  0.5639851049891391 , v_recall:  0.5384741591468417\n",
      "t_prec:  0.7453047671418298 , v_prec:  0.7080745341614907\n",
      "t_f:  0.54046850343848 , v_f:  0.49275362318840576\n",
      "////////\n"
     ]
    },
    {
     "name": "stderr",
     "output_type": "stream",
     "text": [
      "\r",
      "Iterations:  95%|███████████████████████████████▍ | 286/300 [07:27<00:20,  1.46s/it]"
     ]
    },
    {
     "name": "stdout",
     "output_type": "stream",
     "text": [
      "Epoch  285 , loss 0.39019936498473673\n",
      "Epoch  286 , loss 0.3882817216947967\n"
     ]
    },
    {
     "name": "stderr",
     "output_type": "stream",
     "text": [
      "\r",
      "Iterations:  96%|███████████████████████████████▌ | 287/300 [07:28<00:20,  1.56s/it]"
     ]
    },
    {
     "name": "stdout",
     "output_type": "stream",
     "text": [
      "Epoch:  286\n",
      "t_loss:  0.3882817216947967 , v_loss:  0.7982272058725357\n",
      "t_acc:  0.7264504054897069 , v_acc:  0.7023809523809523\n",
      "t_recall:  0.5635368754956384 , v_recall:  0.5384741591468417\n",
      "t_prec:  0.7411821164316628 , v_prec:  0.7080745341614907\n",
      "t_f:  0.5400335855109522 , v_f:  0.49275362318840576\n",
      "////////\n"
     ]
    },
    {
     "name": "stderr",
     "output_type": "stream",
     "text": [
      "\r",
      "Iterations:  96%|███████████████████████████████▋ | 288/300 [07:29<00:17,  1.44s/it]"
     ]
    },
    {
     "name": "stdout",
     "output_type": "stream",
     "text": [
      "Epoch  287 , loss 0.38249892054819595\n",
      "Epoch  288 , loss 0.3909107417452569\n"
     ]
    },
    {
     "name": "stderr",
     "output_type": "stream",
     "text": [
      "\r",
      "Iterations:  96%|███████████████████████████████▊ | 289/300 [07:32<00:17,  1.62s/it]"
     ]
    },
    {
     "name": "stdout",
     "output_type": "stream",
     "text": [
      "Epoch:  288\n",
      "t_loss:  0.3909107417452569 , v_loss:  0.8024138361215591\n",
      "t_acc:  0.732064878353088 , v_acc:  0.7023809523809523\n",
      "t_recall:  0.5710354101299865 , v_recall:  0.5384741591468417\n",
      "t_prec:  0.7619126720455625 , v_prec:  0.7080745341614907\n",
      "t_f:  0.5512694609978377 , v_f:  0.49275362318840576\n",
      "////////\n"
     ]
    },
    {
     "name": "stderr",
     "output_type": "stream",
     "text": [
      "\r",
      "Iterations:  97%|███████████████████████████████▉ | 290/300 [07:33<00:14,  1.48s/it]"
     ]
    },
    {
     "name": "stdout",
     "output_type": "stream",
     "text": [
      "Epoch  289 , loss 0.3807541079380933\n",
      "Epoch  290 , loss 0.384925701454574\n"
     ]
    },
    {
     "name": "stderr",
     "output_type": "stream",
     "text": [
      "\r",
      "Iterations:  97%|████████████████████████████████ | 291/300 [07:35<00:14,  1.62s/it]"
     ]
    },
    {
     "name": "stdout",
     "output_type": "stream",
     "text": [
      "Epoch:  290\n",
      "t_loss:  0.384925701454574 , v_loss:  0.8034760554631551\n",
      "t_acc:  0.7255146600124766 , v_acc:  0.7023809523809523\n",
      "t_recall:  0.5637306485535979 , v_recall:  0.5384741591468417\n",
      "t_prec:  0.7316679840840383 , v_prec:  0.7080745341614907\n",
      "t_f:  0.5412114198886007 , v_f:  0.49275362318840576\n",
      "////////\n"
     ]
    },
    {
     "name": "stderr",
     "output_type": "stream",
     "text": [
      "\r",
      "Iterations:  97%|████████████████████████████████ | 292/300 [07:36<00:11,  1.49s/it]"
     ]
    },
    {
     "name": "stdout",
     "output_type": "stream",
     "text": [
      "Epoch  291 , loss 0.3772258653360255\n",
      "Epoch  292 , loss 0.3884877731987074\n"
     ]
    },
    {
     "name": "stderr",
     "output_type": "stream",
     "text": [
      "\r",
      "Iterations:  98%|████████████████████████████████▏| 293/300 [07:38<00:11,  1.64s/it]"
     ]
    },
    {
     "name": "stdout",
     "output_type": "stream",
     "text": [
      "Epoch:  292\n",
      "t_loss:  0.3884877731987074 , v_loss:  0.7984776496887207\n",
      "t_acc:  0.7311291328758578 , v_acc:  0.7023809523809523\n",
      "t_recall:  0.569496948591525 , v_recall:  0.5384741591468417\n",
      "t_prec:  0.7599641622055721 , v_prec:  0.7080745341614907\n",
      "t_f:  0.5488039821113235 , v_f:  0.49275362318840576\n",
      "////////\n"
     ]
    },
    {
     "name": "stderr",
     "output_type": "stream",
     "text": [
      "\r",
      "Iterations:  98%|████████████████████████████████▎| 294/300 [07:39<00:08,  1.47s/it]"
     ]
    },
    {
     "name": "stdout",
     "output_type": "stream",
     "text": [
      "Epoch  293 , loss 0.37571073133571475\n",
      "Epoch  294 , loss 0.3894486959074058\n"
     ]
    },
    {
     "name": "stderr",
     "output_type": "stream",
     "text": [
      "\r",
      "Iterations:  98%|████████████████████████████████▍| 295/300 [07:41<00:08,  1.65s/it]"
     ]
    },
    {
     "name": "stdout",
     "output_type": "stream",
     "text": [
      "Epoch:  294\n",
      "t_loss:  0.3894486959074058 , v_loss:  0.8057383944590887\n",
      "t_acc:  0.7280099812850904 , v_acc:  0.6964285714285714\n",
      "t_recall:  0.5666783895918813 , v_recall:  0.5290401968826908\n",
      "t_prec:  0.7423833500726111 , v_prec:  0.6820987654320987\n",
      "t_f:  0.5453822251623408 , v_f:  0.4757388484366395\n",
      "////////\n"
     ]
    },
    {
     "name": "stderr",
     "output_type": "stream",
     "text": [
      "\r",
      "Iterations:  99%|████████████████████████████████▌| 296/300 [07:42<00:05,  1.47s/it]"
     ]
    },
    {
     "name": "stdout",
     "output_type": "stream",
     "text": [
      "Epoch  295 , loss 0.3804016101594065\n",
      "Epoch  296 , loss 0.3865454144337598\n"
     ]
    },
    {
     "name": "stderr",
     "output_type": "stream",
     "text": [
      "\r",
      "Iterations:  99%|████████████████████████████████▋| 297/300 [07:44<00:04,  1.60s/it]"
     ]
    },
    {
     "name": "stdout",
     "output_type": "stream",
     "text": [
      "Epoch:  296\n",
      "t_loss:  0.3865454144337598 , v_loss:  0.8038912167151769\n",
      "t_acc:  0.7376793512164691 , v_acc:  0.7023809523809523\n",
      "t_recall:  0.5802661793607558 , v_recall:  0.5384741591468417\n",
      "t_prec:  0.7726851042031087 , v_prec:  0.7080745341614907\n",
      "t_f:  0.5658321775635906 , v_f:  0.49275362318840576\n",
      "////////\n"
     ]
    },
    {
     "name": "stderr",
     "output_type": "stream",
     "text": [
      "\r",
      "Iterations:  99%|████████████████████████████████▊| 298/300 [07:45<00:02,  1.49s/it]"
     ]
    },
    {
     "name": "stdout",
     "output_type": "stream",
     "text": [
      "Epoch  297 , loss 0.3813372984820721\n",
      "Epoch  298 , loss 0.3807966028358422\n"
     ]
    },
    {
     "name": "stderr",
     "output_type": "stream",
     "text": [
      "\r",
      "Iterations: 100%|████████████████████████████████▉| 299/300 [07:47<00:01,  1.61s/it]"
     ]
    },
    {
     "name": "stdout",
     "output_type": "stream",
     "text": [
      "Epoch:  298\n",
      "t_loss:  0.3807966028358422 , v_loss:  0.8025352458159128\n",
      "t_acc:  0.7301933873986276 , v_acc:  0.7023809523809523\n",
      "t_recall:  0.570556838947695 , v_recall:  0.5384741591468417\n",
      "t_prec:  0.7461208113101041 , v_prec:  0.7080745341614907\n",
      "t_f:  0.5516922579017111 , v_f:  0.49275362318840576\n",
      "////////\n"
     ]
    },
    {
     "name": "stderr",
     "output_type": "stream",
     "text": [
      "Iterations: 100%|█████████████████████████████████| 300/300 [07:48<00:00,  1.56s/it]"
     ]
    },
    {
     "name": "stdout",
     "output_type": "stream",
     "text": [
      "Epoch  299 , loss 0.3863326965593824\n"
     ]
    },
    {
     "name": "stderr",
     "output_type": "stream",
     "text": [
      "\n"
     ]
    },
    {
     "name": "stdout",
     "output_type": "stream",
     "text": [
      "113 5\n",
      "\n",
      "c0_acc 0.9826086956521739 , c1_acc 0.09433962264150944 , b_acc 0.5384741591468417\n"
     ]
    },
    {
     "name": "stderr",
     "output_type": "stream",
     "text": [
      "\r",
      "Iterations:   0%|                                           | 0/300 [00:00<?, ?it/s]"
     ]
    },
    {
     "name": "stdout",
     "output_type": "stream",
     "text": [
      "Epoch  0 , loss 0.6474171721935272\n"
     ]
    },
    {
     "name": "stderr",
     "output_type": "stream",
     "text": [
      "\r",
      "Iterations:   0%|                                   | 1/300 [00:01<09:33,  1.92s/it]"
     ]
    },
    {
     "name": "stdout",
     "output_type": "stream",
     "text": [
      "Epoch:  0\n",
      "t_loss:  0.6474171721935272 , v_loss:  0.6887921889623007\n",
      "t_acc:  0.5828642901813633 , v_acc:  0.6988636363636364\n",
      "t_recall:  0.5099415204678363 , v_recall:  0.5\n",
      "t_prec:  0.5098629057248566 , v_prec:  0.3494318181818182\n",
      "t_f:  0.5098905754850853 , v_f:  0.411371237458194\n",
      "////////\n"
     ]
    },
    {
     "name": "stderr",
     "output_type": "stream",
     "text": [
      "\r",
      "Iterations:   1%|▏                                  | 2/300 [00:03<07:06,  1.43s/it]"
     ]
    },
    {
     "name": "stdout",
     "output_type": "stream",
     "text": [
      "Epoch  1 , loss 0.5959140980243682\n",
      "Epoch  2 , loss 0.5542018228769302\n"
     ]
    },
    {
     "name": "stderr",
     "output_type": "stream",
     "text": [
      "\r",
      "Iterations:   1%|▎                                  | 3/300 [00:04<08:14,  1.66s/it]"
     ]
    },
    {
     "name": "stdout",
     "output_type": "stream",
     "text": [
      "Epoch:  2\n",
      "t_loss:  0.5542018228769302 , v_loss:  0.6743524273236593\n",
      "t_acc:  0.6769856160100063 , v_acc:  0.6988636363636364\n",
      "t_recall:  0.5025011246063877 , v_recall:  0.5\n",
      "t_prec:  0.5107706551800871 , v_prec:  0.3494318181818182\n",
      "t_f:  0.4490395608372645 , v_f:  0.411371237458194\n",
      "////////\n"
     ]
    },
    {
     "name": "stderr",
     "output_type": "stream",
     "text": [
      "\r",
      "Iterations:   1%|▍                                  | 4/300 [00:06<07:11,  1.46s/it]"
     ]
    },
    {
     "name": "stdout",
     "output_type": "stream",
     "text": [
      "Epoch  3 , loss 0.5173461180925369\n",
      "Epoch  4 , loss 0.5020379739999771\n"
     ]
    },
    {
     "name": "stderr",
     "output_type": "stream",
     "text": [
      "\r",
      "Iterations:   2%|▌                                  | 5/300 [00:07<07:46,  1.58s/it]"
     ]
    },
    {
     "name": "stdout",
     "output_type": "stream",
     "text": [
      "Epoch:  4\n",
      "t_loss:  0.5020379739999771 , v_loss:  0.6515967051188151\n",
      "t_acc:  0.6904315196998124 , v_acc:  0.6988636363636364\n",
      "t_recall:  0.4977777777777778 , v_recall:  0.5\n",
      "t_prec:  0.43404313591235877 , v_prec:  0.3494318181818182\n",
      "t_f:  0.41230738616915197 , v_f:  0.411371237458194\n",
      "////////\n"
     ]
    },
    {
     "name": "stderr",
     "output_type": "stream",
     "text": [
      "\r",
      "Iterations:   2%|▋                                  | 6/300 [00:08<06:53,  1.41s/it]"
     ]
    },
    {
     "name": "stdout",
     "output_type": "stream",
     "text": [
      "Epoch  5 , loss 0.4874840384721756\n",
      "Epoch  6 , loss 0.47351581215858457\n"
     ]
    },
    {
     "name": "stderr",
     "output_type": "stream",
     "text": [
      "\r",
      "Iterations:   2%|▊                                  | 7/300 [00:10<07:29,  1.54s/it]"
     ]
    },
    {
     "name": "stdout",
     "output_type": "stream",
     "text": [
      "Epoch:  6\n",
      "t_loss:  0.47351581215858457 , v_loss:  0.643776128689448\n",
      "t_acc:  0.6948092557848655 , v_acc:  0.6988636363636364\n",
      "t_recall:  0.5003508771929824 , v_recall:  0.5\n",
      "t_prec:  0.5476354525524585 , v_prec:  0.3494318181818182\n",
      "t_f:  0.4119374189853194 , v_f:  0.411371237458194\n",
      "////////\n"
     ]
    },
    {
     "name": "stderr",
     "output_type": "stream",
     "text": [
      "\r",
      "Iterations:   3%|▉                                  | 8/300 [00:12<07:01,  1.44s/it]"
     ]
    },
    {
     "name": "stdout",
     "output_type": "stream",
     "text": [
      "Epoch  7 , loss 0.46962247490882875\n",
      "Epoch  8 , loss 0.46642744541168213\n"
     ]
    },
    {
     "name": "stderr",
     "output_type": "stream",
     "text": [
      "\r",
      "Iterations:   3%|█                                  | 9/300 [00:13<07:45,  1.60s/it]"
     ]
    },
    {
     "name": "stdout",
     "output_type": "stream",
     "text": [
      "Epoch:  8\n",
      "t_loss:  0.46642744541168213 , v_loss:  0.6625319023927053\n",
      "t_acc:  0.6957473420888055 , v_acc:  0.6988636363636364\n",
      "t_recall:  0.5010256410256411 , v_recall:  0.5\n",
      "t_prec:  0.8477784730913642 , v_prec:  0.3494318181818182\n",
      "t_f:  0.41227037133645733 , v_f:  0.411371237458194\n",
      "////////\n"
     ]
    },
    {
     "name": "stderr",
     "output_type": "stream",
     "text": [
      "\r",
      "Iterations:   3%|█▏                                | 10/300 [00:15<06:59,  1.45s/it]"
     ]
    },
    {
     "name": "stdout",
     "output_type": "stream",
     "text": [
      "Epoch  9 , loss 0.4609837126731873\n",
      "Epoch  10 , loss 0.45499162435531615\n"
     ]
    },
    {
     "name": "stderr",
     "output_type": "stream",
     "text": [
      "\r",
      "Iterations:   4%|█▏                                | 11/300 [00:16<07:37,  1.58s/it]"
     ]
    },
    {
     "name": "stdout",
     "output_type": "stream",
     "text": [
      "Epoch:  10\n",
      "t_loss:  0.45499162435531615 , v_loss:  0.6876523296038309\n",
      "t_acc:  0.6954346466541589 , v_acc:  0.6988636363636364\n",
      "t_recall:  0.5005128205128205 , v_recall:  0.5\n",
      "t_prec:  0.8476696903346888 , v_prec:  0.3494318181818182\n",
      "t_f:  0.41117219163994917 , v_f:  0.411371237458194\n",
      "////////\n"
     ]
    },
    {
     "name": "stderr",
     "output_type": "stream",
     "text": [
      "\r",
      "Iterations:   4%|█▎                                | 12/300 [00:18<06:53,  1.44s/it]"
     ]
    },
    {
     "name": "stdout",
     "output_type": "stream",
     "text": [
      "Epoch  11 , loss 0.4613767725229263\n",
      "Epoch  12 , loss 0.4557112842798233\n"
     ]
    },
    {
     "name": "stderr",
     "output_type": "stream",
     "text": [
      "\r",
      "Iterations:   4%|█▍                                | 13/300 [00:19<07:29,  1.57s/it]"
     ]
    },
    {
     "name": "stdout",
     "output_type": "stream",
     "text": [
      "Epoch:  12\n",
      "t_loss:  0.4557112842798233 , v_loss:  0.6984997193018595\n",
      "t_acc:  0.6951219512195121 , v_acc:  0.6988636363636364\n",
      "t_recall:  0.5 , v_recall:  0.5\n",
      "t_prec:  0.3475609756097561 , v_prec:  0.3494318181818182\n",
      "t_f:  0.41007194244604317 , v_f:  0.411371237458194\n",
      "////////\n"
     ]
    },
    {
     "name": "stderr",
     "output_type": "stream",
     "text": [
      "\r",
      "Iterations:   5%|█▌                                | 14/300 [00:21<07:09,  1.50s/it]"
     ]
    },
    {
     "name": "stdout",
     "output_type": "stream",
     "text": [
      "Epoch  13 , loss 0.45858459889888764\n",
      "Epoch  14 , loss 0.46216330289840696\n"
     ]
    },
    {
     "name": "stderr",
     "output_type": "stream",
     "text": [
      "\r",
      "Iterations:   5%|█▋                                | 15/300 [00:23<07:58,  1.68s/it]"
     ]
    },
    {
     "name": "stdout",
     "output_type": "stream",
     "text": [
      "Epoch:  14\n",
      "t_loss:  0.46216330289840696 , v_loss:  0.6984399159749349\n",
      "t_acc:  0.6954346466541589 , v_acc:  0.6988636363636364\n",
      "t_recall:  0.5005128205128205 , v_recall:  0.5\n",
      "t_prec:  0.8476696903346888 , v_prec:  0.3494318181818182\n",
      "t_f:  0.41117219163994917 , v_f:  0.411371237458194\n",
      "////////\n"
     ]
    },
    {
     "name": "stderr",
     "output_type": "stream",
     "text": [
      "\r",
      "Iterations:   5%|█▊                                | 16/300 [00:24<07:02,  1.49s/it]"
     ]
    },
    {
     "name": "stdout",
     "output_type": "stream",
     "text": [
      "Epoch  15 , loss 0.45676629900932314\n",
      "Epoch  16 , loss 0.45452499628067017\n"
     ]
    },
    {
     "name": "stderr",
     "output_type": "stream",
     "text": [
      "\r",
      "Iterations:   6%|█▉                                | 17/300 [00:26<07:30,  1.59s/it]"
     ]
    },
    {
     "name": "stdout",
     "output_type": "stream",
     "text": [
      "Epoch:  16\n",
      "t_loss:  0.45452499628067017 , v_loss:  0.7022945880889893\n",
      "t_acc:  0.6951219512195121 , v_acc:  0.6988636363636364\n",
      "t_recall:  0.5 , v_recall:  0.5\n",
      "t_prec:  0.3475609756097561 , v_prec:  0.3494318181818182\n",
      "t_f:  0.41007194244604317 , v_f:  0.411371237458194\n",
      "////////\n"
     ]
    },
    {
     "name": "stderr",
     "output_type": "stream",
     "text": [
      "\r",
      "Iterations:   6%|██                                | 18/300 [00:27<06:51,  1.46s/it]"
     ]
    },
    {
     "name": "stdout",
     "output_type": "stream",
     "text": [
      "Epoch  17 , loss 0.4528295248746872\n",
      "Epoch  18 , loss 0.4530946224927902\n"
     ]
    },
    {
     "name": "stderr",
     "output_type": "stream",
     "text": [
      "\r",
      "Iterations:   6%|██▏                               | 19/300 [00:29<07:20,  1.57s/it]"
     ]
    },
    {
     "name": "stdout",
     "output_type": "stream",
     "text": [
      "Epoch:  18\n",
      "t_loss:  0.4530946224927902 , v_loss:  0.7000628262758255\n",
      "t_acc:  0.6948092557848655 , v_acc:  0.6988636363636364\n",
      "t_recall:  0.49977507872244714 , v_recall:  0.5\n",
      "t_prec:  0.3475132937128558 , v_prec:  0.3494318181818182\n",
      "t_f:  0.4099630996309963 , v_f:  0.411371237458194\n",
      "////////\n"
     ]
    },
    {
     "name": "stderr",
     "output_type": "stream",
     "text": [
      "\r",
      "Iterations:   7%|██▎                               | 20/300 [00:30<06:52,  1.47s/it]"
     ]
    },
    {
     "name": "stdout",
     "output_type": "stream",
     "text": [
      "Epoch  19 , loss 0.4574443620443344\n",
      "Epoch  20 , loss 0.4548996412754059\n"
     ]
    },
    {
     "name": "stderr",
     "output_type": "stream",
     "text": [
      "\r",
      "Iterations:   7%|██▍                               | 21/300 [00:32<07:18,  1.57s/it]"
     ]
    },
    {
     "name": "stdout",
     "output_type": "stream",
     "text": [
      "Epoch:  20\n",
      "t_loss:  0.4548996412754059 , v_loss:  0.6998258978128433\n",
      "t_acc:  0.6951219512195121 , v_acc:  0.6988636363636364\n",
      "t_recall:  0.5 , v_recall:  0.5\n",
      "t_prec:  0.3475609756097561 , v_prec:  0.3494318181818182\n",
      "t_f:  0.41007194244604317 , v_f:  0.411371237458194\n",
      "////////\n"
     ]
    },
    {
     "name": "stderr",
     "output_type": "stream",
     "text": [
      "\r",
      "Iterations:   7%|██▍                               | 22/300 [00:33<06:45,  1.46s/it]"
     ]
    },
    {
     "name": "stdout",
     "output_type": "stream",
     "text": [
      "Epoch  21 , loss 0.45226209282875063\n",
      "Epoch  22 , loss 0.4487862545251846\n"
     ]
    },
    {
     "name": "stderr",
     "output_type": "stream",
     "text": [
      "\r",
      "Iterations:   8%|██▌                               | 23/300 [00:35<07:12,  1.56s/it]"
     ]
    },
    {
     "name": "stdout",
     "output_type": "stream",
     "text": [
      "Epoch:  22\n",
      "t_loss:  0.4487862545251846 , v_loss:  0.6983074148495992\n",
      "t_acc:  0.6951219512195121 , v_acc:  0.6988636363636364\n",
      "t_recall:  0.5 , v_recall:  0.5\n",
      "t_prec:  0.3475609756097561 , v_prec:  0.3494318181818182\n",
      "t_f:  0.41007194244604317 , v_f:  0.411371237458194\n",
      "////////\n"
     ]
    },
    {
     "name": "stderr",
     "output_type": "stream",
     "text": [
      "\r",
      "Iterations:   8%|██▋                               | 24/300 [00:36<06:35,  1.43s/it]"
     ]
    },
    {
     "name": "stdout",
     "output_type": "stream",
     "text": [
      "Epoch  23 , loss 0.45362453937530517\n",
      "Epoch  24 , loss 0.44885298669338225\n"
     ]
    },
    {
     "name": "stderr",
     "output_type": "stream",
     "text": [
      "\r",
      "Iterations:   8%|██▊                               | 25/300 [00:38<07:16,  1.59s/it]"
     ]
    },
    {
     "name": "stdout",
     "output_type": "stream",
     "text": [
      "Epoch:  24\n",
      "t_loss:  0.44885298669338225 , v_loss:  0.7024701982736588\n",
      "t_acc:  0.6951219512195121 , v_acc:  0.6988636363636364\n",
      "t_recall:  0.5 , v_recall:  0.5\n",
      "t_prec:  0.3475609756097561 , v_prec:  0.3494318181818182\n",
      "t_f:  0.41007194244604317 , v_f:  0.411371237458194\n",
      "////////\n"
     ]
    },
    {
     "name": "stderr",
     "output_type": "stream",
     "text": [
      "\r",
      "Iterations:   9%|██▉                               | 26/300 [00:39<06:46,  1.48s/it]"
     ]
    },
    {
     "name": "stdout",
     "output_type": "stream",
     "text": [
      "Epoch  25 , loss 0.45583538711071014\n",
      "Epoch  26 , loss 0.4543498754501343\n"
     ]
    },
    {
     "name": "stderr",
     "output_type": "stream",
     "text": [
      "\r",
      "Iterations:   9%|███                               | 27/300 [00:41<07:23,  1.62s/it]"
     ]
    },
    {
     "name": "stdout",
     "output_type": "stream",
     "text": [
      "Epoch:  26\n",
      "t_loss:  0.4543498754501343 , v_loss:  0.6957787175973257\n",
      "t_acc:  0.6951219512195121 , v_acc:  0.6988636363636364\n",
      "t_recall:  0.5 , v_recall:  0.5\n",
      "t_prec:  0.3475609756097561 , v_prec:  0.3494318181818182\n",
      "t_f:  0.41007194244604317 , v_f:  0.411371237458194\n",
      "////////\n"
     ]
    },
    {
     "name": "stderr",
     "output_type": "stream",
     "text": [
      "\r",
      "Iterations:   9%|███▏                              | 28/300 [00:42<06:47,  1.50s/it]"
     ]
    },
    {
     "name": "stdout",
     "output_type": "stream",
     "text": [
      "Epoch  27 , loss 0.45234668016433716\n",
      "Epoch  28 , loss 0.4490275895595551\n"
     ]
    },
    {
     "name": "stderr",
     "output_type": "stream",
     "text": [
      "\r",
      "Iterations:  10%|███▎                              | 29/300 [00:44<07:16,  1.61s/it]"
     ]
    },
    {
     "name": "stdout",
     "output_type": "stream",
     "text": [
      "Epoch:  28\n",
      "t_loss:  0.4490275895595551 , v_loss:  0.6975230127573013\n",
      "t_acc:  0.6951219512195121 , v_acc:  0.6988636363636364\n",
      "t_recall:  0.5 , v_recall:  0.5\n",
      "t_prec:  0.3475609756097561 , v_prec:  0.3494318181818182\n",
      "t_f:  0.41007194244604317 , v_f:  0.411371237458194\n",
      "////////\n"
     ]
    },
    {
     "name": "stderr",
     "output_type": "stream",
     "text": [
      "\r",
      "Iterations:  10%|███▍                              | 30/300 [00:45<06:33,  1.46s/it]"
     ]
    },
    {
     "name": "stdout",
     "output_type": "stream",
     "text": [
      "Epoch  29 , loss 0.44892504751682283\n",
      "Epoch  30 , loss 0.4472496336698532\n"
     ]
    },
    {
     "name": "stderr",
     "output_type": "stream",
     "text": [
      "\r",
      "Iterations:  10%|███▌                              | 31/300 [00:47<07:08,  1.59s/it]"
     ]
    },
    {
     "name": "stdout",
     "output_type": "stream",
     "text": [
      "Epoch:  30\n",
      "t_loss:  0.4472496336698532 , v_loss:  0.6965342114369074\n",
      "t_acc:  0.6951219512195121 , v_acc:  0.6988636363636364\n",
      "t_recall:  0.5 , v_recall:  0.5\n",
      "t_prec:  0.3475609756097561 , v_prec:  0.3494318181818182\n",
      "t_f:  0.41007194244604317 , v_f:  0.411371237458194\n",
      "////////\n"
     ]
    },
    {
     "name": "stderr",
     "output_type": "stream",
     "text": [
      "\r",
      "Iterations:  11%|███▋                              | 32/300 [00:48<06:41,  1.50s/it]"
     ]
    },
    {
     "name": "stdout",
     "output_type": "stream",
     "text": [
      "Epoch  31 , loss 0.4463812029361725\n",
      "Epoch  32 , loss 0.44133132219314575\n"
     ]
    },
    {
     "name": "stderr",
     "output_type": "stream",
     "text": [
      "\r",
      "Iterations:  11%|███▋                              | 33/300 [00:50<07:14,  1.63s/it]"
     ]
    },
    {
     "name": "stdout",
     "output_type": "stream",
     "text": [
      "Epoch:  32\n",
      "t_loss:  0.44133132219314575 , v_loss:  0.6964319298664728\n",
      "t_acc:  0.6951219512195121 , v_acc:  0.6988636363636364\n",
      "t_recall:  0.5 , v_recall:  0.5\n",
      "t_prec:  0.3475609756097561 , v_prec:  0.3494318181818182\n",
      "t_f:  0.41007194244604317 , v_f:  0.411371237458194\n",
      "////////\n"
     ]
    },
    {
     "name": "stderr",
     "output_type": "stream",
     "text": [
      "\r",
      "Iterations:  11%|███▊                              | 34/300 [00:52<06:47,  1.53s/it]"
     ]
    },
    {
     "name": "stdout",
     "output_type": "stream",
     "text": [
      "Epoch  33 , loss 0.44480976998806\n",
      "Epoch  34 , loss 0.4444973522424698\n"
     ]
    },
    {
     "name": "stderr",
     "output_type": "stream",
     "text": [
      "\r",
      "Iterations:  12%|███▉                              | 35/300 [00:54<07:17,  1.65s/it]"
     ]
    },
    {
     "name": "stdout",
     "output_type": "stream",
     "text": [
      "Epoch:  34\n",
      "t_loss:  0.4444973522424698 , v_loss:  0.6948561022679011\n",
      "t_acc:  0.6951219512195121 , v_acc:  0.6988636363636364\n",
      "t_recall:  0.5 , v_recall:  0.5\n",
      "t_prec:  0.3475609756097561 , v_prec:  0.3494318181818182\n",
      "t_f:  0.41007194244604317 , v_f:  0.411371237458194\n",
      "////////\n"
     ]
    },
    {
     "name": "stderr",
     "output_type": "stream",
     "text": [
      "\r",
      "Iterations:  12%|████                              | 36/300 [00:55<06:29,  1.47s/it]"
     ]
    },
    {
     "name": "stdout",
     "output_type": "stream",
     "text": [
      "Epoch  35 , loss 0.44588557541370394\n",
      "Epoch  36 , loss 0.44194634914398195\n"
     ]
    },
    {
     "name": "stderr",
     "output_type": "stream",
     "text": [
      "\r",
      "Iterations:  12%|████▏                             | 37/300 [00:56<06:52,  1.57s/it]"
     ]
    },
    {
     "name": "stdout",
     "output_type": "stream",
     "text": [
      "Epoch:  36\n",
      "t_loss:  0.44194634914398195 , v_loss:  0.6976094941298167\n",
      "t_acc:  0.6954346466541589 , v_acc:  0.6988636363636364\n",
      "t_recall:  0.5005128205128205 , v_recall:  0.5\n",
      "t_prec:  0.8476696903346888 , v_prec:  0.3494318181818182\n",
      "t_f:  0.41117219163994917 , v_f:  0.411371237458194\n",
      "////////\n"
     ]
    },
    {
     "name": "stderr",
     "output_type": "stream",
     "text": [
      "\r",
      "Iterations:  13%|████▎                             | 38/300 [00:57<06:11,  1.42s/it]"
     ]
    },
    {
     "name": "stdout",
     "output_type": "stream",
     "text": [
      "Epoch  37 , loss 0.4445454531908035\n",
      "Epoch  38 , loss 0.4424982833862305\n"
     ]
    },
    {
     "name": "stderr",
     "output_type": "stream",
     "text": [
      "\r",
      "Iterations:  13%|████▍                             | 39/300 [00:59<06:38,  1.53s/it]"
     ]
    },
    {
     "name": "stdout",
     "output_type": "stream",
     "text": [
      "Epoch:  38\n",
      "t_loss:  0.4424982833862305 , v_loss:  0.6970860163370768\n",
      "t_acc:  0.6951219512195121 , v_acc:  0.6988636363636364\n",
      "t_recall:  0.5 , v_recall:  0.5\n",
      "t_prec:  0.3475609756097561 , v_prec:  0.3494318181818182\n",
      "t_f:  0.41007194244604317 , v_f:  0.411371237458194\n",
      "////////\n"
     ]
    },
    {
     "name": "stderr",
     "output_type": "stream",
     "text": [
      "\r",
      "Iterations:  13%|████▌                             | 40/300 [01:00<06:03,  1.40s/it]"
     ]
    },
    {
     "name": "stdout",
     "output_type": "stream",
     "text": [
      "Epoch  39 , loss 0.4404593151807785\n",
      "Epoch  40 , loss 0.4487959551811218\n"
     ]
    },
    {
     "name": "stderr",
     "output_type": "stream",
     "text": [
      "\r",
      "Iterations:  14%|████▋                             | 41/300 [01:02<06:37,  1.54s/it]"
     ]
    },
    {
     "name": "stdout",
     "output_type": "stream",
     "text": [
      "Epoch:  40\n",
      "t_loss:  0.4487959551811218 , v_loss:  0.7014686713616053\n",
      "t_acc:  0.6951219512195121 , v_acc:  0.6988636363636364\n",
      "t_recall:  0.5 , v_recall:  0.5\n",
      "t_prec:  0.3475609756097561 , v_prec:  0.3494318181818182\n",
      "t_f:  0.41007194244604317 , v_f:  0.411371237458194\n",
      "////////\n"
     ]
    },
    {
     "name": "stderr",
     "output_type": "stream",
     "text": [
      "\r",
      "Iterations:  14%|████▊                             | 42/300 [01:03<06:06,  1.42s/it]"
     ]
    },
    {
     "name": "stdout",
     "output_type": "stream",
     "text": [
      "Epoch  41 , loss 0.4370544868707657\n",
      "Epoch  42 , loss 0.4417407310009003\n"
     ]
    },
    {
     "name": "stderr",
     "output_type": "stream",
     "text": [
      "\r",
      "Iterations:  14%|████▊                             | 43/300 [01:05<06:45,  1.58s/it]"
     ]
    },
    {
     "name": "stdout",
     "output_type": "stream",
     "text": [
      "Epoch:  42\n",
      "t_loss:  0.4417407310009003 , v_loss:  0.7033134500185648\n",
      "t_acc:  0.6951219512195121 , v_acc:  0.6988636363636364\n",
      "t_recall:  0.5002878992352676 , v_recall:  0.5\n",
      "t_prec:  0.597622027534418 , v_prec:  0.3494318181818182\n",
      "t_f:  0.41106229399079736 , v_f:  0.411371237458194\n",
      "////////\n"
     ]
    },
    {
     "name": "stderr",
     "output_type": "stream",
     "text": [
      "\r",
      "Iterations:  15%|████▉                             | 44/300 [01:06<06:08,  1.44s/it]"
     ]
    },
    {
     "name": "stdout",
     "output_type": "stream",
     "text": [
      "Epoch  43 , loss 0.43441488027572633\n",
      "Epoch  44 , loss 0.43597903847694397\n"
     ]
    },
    {
     "name": "stderr",
     "output_type": "stream",
     "text": [
      "\r",
      "Iterations:  15%|█████                             | 45/300 [01:08<06:41,  1.57s/it]"
     ]
    },
    {
     "name": "stdout",
     "output_type": "stream",
     "text": [
      "Epoch:  44\n",
      "t_loss:  0.43597903847694397 , v_loss:  0.7069843709468842\n",
      "t_acc:  0.6951219512195121 , v_acc:  0.6988636363636364\n",
      "t_recall:  0.5011515969410706 , v_recall:  0.5\n",
      "t_prec:  0.5978056426332288 , v_prec:  0.3494318181818182\n",
      "t_f:  0.4140082116467665 , v_f:  0.411371237458194\n",
      "////////\n"
     ]
    },
    {
     "name": "stderr",
     "output_type": "stream",
     "text": [
      "\r",
      "Iterations:  15%|█████▏                            | 46/300 [01:09<06:09,  1.46s/it]"
     ]
    },
    {
     "name": "stdout",
     "output_type": "stream",
     "text": [
      "Epoch  45 , loss 0.4358212035894394\n",
      "Epoch  46 , loss 0.427415646314621\n"
     ]
    },
    {
     "name": "stderr",
     "output_type": "stream",
     "text": [
      "\r",
      "Iterations:  16%|█████▎                            | 47/300 [01:12<06:53,  1.63s/it]"
     ]
    },
    {
     "name": "stdout",
     "output_type": "stream",
     "text": [
      "Epoch:  46\n",
      "t_loss:  0.427415646314621 , v_loss:  0.7044061024983724\n",
      "t_acc:  0.6969981238273921 , v_acc:  0.6988636363636364\n",
      "t_recall:  0.5033648223121907 , v_recall:  0.5\n",
      "t_prec:  0.7857758620689654 , v_prec:  0.3494318181818182\n",
      "t_f:  0.41761431495970947 , v_f:  0.411371237458194\n",
      "////////\n"
     ]
    },
    {
     "name": "stderr",
     "output_type": "stream",
     "text": [
      "\r",
      "Iterations:  16%|█████▍                            | 48/300 [01:13<06:09,  1.47s/it]"
     ]
    },
    {
     "name": "stdout",
     "output_type": "stream",
     "text": [
      "Epoch  47 , loss 0.4366771548986435\n",
      "Epoch  48 , loss 0.4324516010284424\n"
     ]
    },
    {
     "name": "stderr",
     "output_type": "stream",
     "text": [
      "\r",
      "Iterations:  16%|█████▌                            | 49/300 [01:14<06:34,  1.57s/it]"
     ]
    },
    {
     "name": "stdout",
     "output_type": "stream",
     "text": [
      "Epoch:  48\n",
      "t_loss:  0.4324516010284424 , v_loss:  0.7059559325377146\n",
      "t_acc:  0.6963727329580988 , v_acc:  0.6988636363636364\n",
      "t_recall:  0.5023391812865498 , v_recall:  0.5\n",
      "t_prec:  0.7647243107769424 , v_prec:  0.3494318181818182\n",
      "t_f:  0.4154384835418661 , v_f:  0.411371237458194\n",
      "////////\n"
     ]
    },
    {
     "name": "stderr",
     "output_type": "stream",
     "text": [
      "\r",
      "Iterations:  17%|█████▋                            | 50/300 [01:16<06:08,  1.47s/it]"
     ]
    },
    {
     "name": "stdout",
     "output_type": "stream",
     "text": [
      "Epoch  49 , loss 0.43549149215221405\n",
      "Epoch  50 , loss 0.4344582909345627\n"
     ]
    },
    {
     "name": "stderr",
     "output_type": "stream",
     "text": [
      "\r",
      "Iterations:  17%|█████▊                            | 51/300 [01:18<06:34,  1.59s/it]"
     ]
    },
    {
     "name": "stdout",
     "output_type": "stream",
     "text": [
      "Epoch:  50\n",
      "t_loss:  0.4344582909345627 , v_loss:  0.7066984524329504\n",
      "t_acc:  0.6944965603502189 , v_acc:  0.6988636363636364\n",
      "t_recall:  0.5012775528565002 , v_recall:  0.5\n",
      "t_prec:  0.5621186288585786 , v_prec:  0.3494318181818182\n",
      "t_f:  0.41572088609997565 , v_f:  0.411371237458194\n",
      "////////\n"
     ]
    },
    {
     "name": "stderr",
     "output_type": "stream",
     "text": [
      "\r",
      "Iterations:  17%|█████▉                            | 52/300 [01:19<06:11,  1.50s/it]"
     ]
    },
    {
     "name": "stdout",
     "output_type": "stream",
     "text": [
      "Epoch  51 , loss 0.42880632638931276\n",
      "Epoch  52 , loss 0.4299157398939133\n"
     ]
    },
    {
     "name": "stderr",
     "output_type": "stream",
     "text": [
      "\r",
      "Iterations:  18%|██████                            | 53/300 [01:21<06:46,  1.65s/it]"
     ]
    },
    {
     "name": "stdout",
     "output_type": "stream",
     "text": [
      "Epoch:  52\n",
      "t_loss:  0.4299157398939133 , v_loss:  0.7069105058908463\n",
      "t_acc:  0.6963727329580988 , v_acc:  0.6988636363636364\n",
      "t_recall:  0.5032028789923527 , v_recall:  0.5\n",
      "t_prec:  0.6815756434400502 , v_prec:  0.3494318181818182\n",
      "t_f:  0.4183475587518495 , v_f:  0.411371237458194\n",
      "////////\n"
     ]
    },
    {
     "name": "stderr",
     "output_type": "stream",
     "text": [
      "\r",
      "Iterations:  18%|██████                            | 54/300 [01:22<06:13,  1.52s/it]"
     ]
    },
    {
     "name": "stdout",
     "output_type": "stream",
     "text": [
      "Epoch  53 , loss 0.4269091033935547\n",
      "Epoch  54 , loss 0.4311775940656662\n"
     ]
    },
    {
     "name": "stderr",
     "output_type": "stream",
     "text": [
      "\r",
      "Iterations:  18%|██████▏                           | 55/300 [01:24<06:44,  1.65s/it]"
     ]
    },
    {
     "name": "stdout",
     "output_type": "stream",
     "text": [
      "Epoch:  54\n",
      "t_loss:  0.4311775940656662 , v_loss:  0.716283510128657\n",
      "t_acc:  0.6976235146966854 , v_acc:  0.6988636363636364\n",
      "t_recall:  0.5055420602789024 , v_recall:  0.5\n",
      "t_prec:  0.7098532494758909 , v_prec:  0.3494318181818182\n",
      "t_f:  0.423604319632206 , v_f:  0.411371237458194\n",
      "////////\n"
     ]
    },
    {
     "name": "stderr",
     "output_type": "stream",
     "text": [
      "\r",
      "Iterations:  19%|██████▎                           | 56/300 [01:25<06:01,  1.48s/it]"
     ]
    },
    {
     "name": "stdout",
     "output_type": "stream",
     "text": [
      "Epoch  55 , loss 0.42772135376930237\n",
      "Epoch  56 , loss 0.4303958362340927\n"
     ]
    },
    {
     "name": "stderr",
     "output_type": "stream",
     "text": [
      "\r",
      "Iterations:  19%|██████▍                           | 57/300 [01:27<06:26,  1.59s/it]"
     ]
    },
    {
     "name": "stdout",
     "output_type": "stream",
     "text": [
      "Epoch:  56\n",
      "t_loss:  0.4303958362340927 , v_loss:  0.7153040915727615\n",
      "t_acc:  0.6963727329580988 , v_acc:  0.6988636363636364\n",
      "t_recall:  0.5043544759334233 , v_recall:  0.5\n",
      "t_prec:  0.6484896161107614 , v_prec:  0.3494318181818182\n",
      "t_f:  0.42216954053734695 , v_f:  0.411371237458194\n",
      "////////\n"
     ]
    },
    {
     "name": "stderr",
     "output_type": "stream",
     "text": [
      "\r",
      "Iterations:  19%|██████▌                           | 58/300 [01:28<05:54,  1.46s/it]"
     ]
    },
    {
     "name": "stdout",
     "output_type": "stream",
     "text": [
      "Epoch  57 , loss 0.4323377746343613\n",
      "Epoch  58 , loss 0.42426821947097776\n"
     ]
    },
    {
     "name": "stderr",
     "output_type": "stream",
     "text": [
      "\r",
      "Iterations:  20%|██████▋                           | 59/300 [01:30<06:17,  1.57s/it]"
     ]
    },
    {
     "name": "stdout",
     "output_type": "stream",
     "text": [
      "Epoch:  58\n",
      "t_loss:  0.42426821947097776 , v_loss:  0.7132771760225296\n",
      "t_acc:  0.6973108192620388 , v_acc:  0.6988636363636364\n",
      "t_recall:  0.5061808367071525 , v_recall:  0.5\n",
      "t_prec:  0.6688811849984242 , v_prec:  0.3494318181818182\n",
      "t_f:  0.4263039288361749 , v_f:  0.411371237458194\n",
      "////////\n"
     ]
    },
    {
     "name": "stderr",
     "output_type": "stream",
     "text": [
      "\r",
      "Iterations:  20%|██████▊                           | 60/300 [01:31<05:46,  1.44s/it]"
     ]
    },
    {
     "name": "stdout",
     "output_type": "stream",
     "text": [
      "Epoch  59 , loss 0.4316553509235382\n",
      "Epoch  60 , loss 0.432464057803154\n"
     ]
    },
    {
     "name": "stderr",
     "output_type": "stream",
     "text": [
      "\r",
      "Iterations:  20%|██████▉                           | 61/300 [01:33<06:17,  1.58s/it]"
     ]
    },
    {
     "name": "stdout",
     "output_type": "stream",
     "text": [
      "Epoch:  60\n",
      "t_loss:  0.432464057803154 , v_loss:  0.7138584653536478\n",
      "t_acc:  0.6966854283927455 , v_acc:  0.6988636363636364\n",
      "t_recall:  0.5051551956815115 , v_recall:  0.5\n",
      "t_prec:  0.6530092434097912 , v_prec:  0.3494318181818182\n",
      "t_f:  0.4241799642263408 , v_f:  0.411371237458194\n",
      "////////\n"
     ]
    },
    {
     "name": "stderr",
     "output_type": "stream",
     "text": [
      "\r",
      "Iterations:  21%|███████                           | 62/300 [01:34<05:40,  1.43s/it]"
     ]
    },
    {
     "name": "stdout",
     "output_type": "stream",
     "text": [
      "Epoch  61 , loss 0.42535060465335844\n",
      "Epoch  62 , loss 0.42610601186752317\n"
     ]
    },
    {
     "name": "stderr",
     "output_type": "stream",
     "text": [
      "\r",
      "Iterations:  21%|███████▏                          | 63/300 [01:36<06:13,  1.58s/it]"
     ]
    },
    {
     "name": "stdout",
     "output_type": "stream",
     "text": [
      "Epoch:  62\n",
      "t_loss:  0.42610601186752317 , v_loss:  0.7144763718048731\n",
      "t_acc:  0.6960600375234521 , v_acc:  0.6988636363636364\n",
      "t_recall:  0.5049932523616734 , v_recall:  0.5\n",
      "t_prec:  0.6264059707768317 , v_prec:  0.3494318181818182\n",
      "t_f:  0.42486994864553423 , v_f:  0.411371237458194\n",
      "////////\n"
     ]
    },
    {
     "name": "stderr",
     "output_type": "stream",
     "text": [
      "\r",
      "Iterations:  21%|███████▎                          | 64/300 [01:37<05:46,  1.47s/it]"
     ]
    },
    {
     "name": "stdout",
     "output_type": "stream",
     "text": [
      "Epoch  63 , loss 0.4226441293954849\n",
      "Epoch  64 , loss 0.4231511622667313\n"
     ]
    },
    {
     "name": "stderr",
     "output_type": "stream",
     "text": [
      "\r",
      "Iterations:  22%|███████▎                          | 65/300 [01:39<06:22,  1.63s/it]"
     ]
    },
    {
     "name": "stdout",
     "output_type": "stream",
     "text": [
      "Epoch:  64\n",
      "t_loss:  0.4231511622667313 , v_loss:  0.7187698582808176\n",
      "t_acc:  0.7001250781738587 , v_acc:  0.6988636363636364\n",
      "t_recall:  0.5110841205578047 , v_recall:  0.5\n",
      "t_prec:  0.7110478600042167 , v_prec:  0.3494318181818182\n",
      "t_f:  0.4366734720305056 , v_f:  0.411371237458194\n",
      "////////\n"
     ]
    },
    {
     "name": "stderr",
     "output_type": "stream",
     "text": [
      "\r",
      "Iterations:  22%|███████▍                          | 66/300 [01:40<05:46,  1.48s/it]"
     ]
    },
    {
     "name": "stdout",
     "output_type": "stream",
     "text": [
      "Epoch  65 , loss 0.4226745790243149\n",
      "Epoch  66 , loss 0.4260760807991028\n"
     ]
    },
    {
     "name": "stderr",
     "output_type": "stream",
     "text": [
      "\r",
      "Iterations:  22%|███████▌                          | 67/300 [01:42<06:12,  1.60s/it]"
     ]
    },
    {
     "name": "stdout",
     "output_type": "stream",
     "text": [
      "Epoch:  66\n",
      "t_loss:  0.4260760807991028 , v_loss:  0.7199361324310303\n",
      "t_acc:  0.6991869918699187 , v_acc:  0.6988636363636364\n",
      "t_recall:  0.5104093567251462 , v_recall:  0.5\n",
      "t_prec:  0.6831275720164609 , v_prec:  0.3494318181818182\n",
      "t_f:  0.43626904496469715 , v_f:  0.411371237458194\n",
      "////////\n"
     ]
    },
    {
     "name": "stderr",
     "output_type": "stream",
     "text": [
      "\r",
      "Iterations:  23%|███████▋                          | 68/300 [01:43<05:35,  1.45s/it]"
     ]
    },
    {
     "name": "stdout",
     "output_type": "stream",
     "text": [
      "Epoch  67 , loss 0.42068260967731474\n",
      "Epoch  68 , loss 0.42335645377635955\n"
     ]
    },
    {
     "name": "stderr",
     "output_type": "stream",
     "text": [
      "\r",
      "Iterations:  23%|███████▊                          | 69/300 [01:45<05:57,  1.55s/it]"
     ]
    },
    {
     "name": "stdout",
     "output_type": "stream",
     "text": [
      "Epoch:  68\n",
      "t_loss:  0.42335645377635955 , v_loss:  0.7174514979124069\n",
      "t_acc:  0.6991869918699187 , v_acc:  0.6931818181818182\n",
      "t_recall:  0.5106972559604139 , v_recall:  0.4959349593495935\n",
      "t_prec:  0.679125752296484 , v_prec:  0.3485714285714286\n",
      "t_f:  0.4371695986886398 , v_f:  0.40939597315436244\n",
      "////////\n"
     ]
    },
    {
     "name": "stderr",
     "output_type": "stream",
     "text": [
      "\r",
      "Iterations:  23%|███████▉                          | 70/300 [01:46<05:28,  1.43s/it]"
     ]
    },
    {
     "name": "stdout",
     "output_type": "stream",
     "text": [
      "Epoch  69 , loss 0.421087309718132\n",
      "Epoch  70 , loss 0.42102074027061465\n"
     ]
    },
    {
     "name": "stderr",
     "output_type": "stream",
     "text": [
      "\r",
      "Iterations:  24%|████████                          | 71/300 [01:48<06:13,  1.63s/it]"
     ]
    },
    {
     "name": "stdout",
     "output_type": "stream",
     "text": [
      "Epoch:  70\n",
      "t_loss:  0.42102074027061465 , v_loss:  0.7200964788595835\n",
      "t_acc:  0.7004377736085053 , v_acc:  0.6931818181818182\n",
      "t_recall:  0.5104453441295547 , v_recall:  0.4959349593495935\n",
      "t_prec:  0.7463466121152109 , v_prec:  0.3485714285714286\n",
      "t_f:  0.4340730549611642 , v_f:  0.40939597315436244\n",
      "////////\n"
     ]
    },
    {
     "name": "stderr",
     "output_type": "stream",
     "text": [
      "\r",
      "Iterations:  24%|████████▏                         | 72/300 [01:50<05:45,  1.52s/it]"
     ]
    },
    {
     "name": "stdout",
     "output_type": "stream",
     "text": [
      "Epoch  71 , loss 0.4237194615602493\n",
      "Epoch  72 , loss 0.4224057596921921\n"
     ]
    },
    {
     "name": "stderr",
     "output_type": "stream",
     "text": [
      "\r",
      "Iterations:  24%|████████▎                         | 73/300 [01:51<06:05,  1.61s/it]"
     ]
    },
    {
     "name": "stdout",
     "output_type": "stream",
     "text": [
      "Epoch:  72\n",
      "t_loss:  0.4224057596921921 , v_loss:  0.7179986337820689\n",
      "t_acc:  0.6982489055659787 , v_acc:  0.6931818181818182\n",
      "t_recall:  0.5080071974808816 , v_recall:  0.4959349593495935\n",
      "t_prec:  0.6826073232323232 , v_prec:  0.3485714285714286\n",
      "t_f:  0.43039947729355443 , v_f:  0.40939597315436244\n",
      "////////\n"
     ]
    },
    {
     "name": "stderr",
     "output_type": "stream",
     "text": [
      "\r",
      "Iterations:  25%|████████▍                         | 74/300 [01:52<05:27,  1.45s/it]"
     ]
    },
    {
     "name": "stdout",
     "output_type": "stream",
     "text": [
      "Epoch  73 , loss 0.4220920765399933\n",
      "Epoch  74 , loss 0.42164298295974734\n"
     ]
    },
    {
     "name": "stderr",
     "output_type": "stream",
     "text": [
      "\r",
      "Iterations:  25%|████████▌                         | 75/300 [01:54<05:56,  1.59s/it]"
     ]
    },
    {
     "name": "stdout",
     "output_type": "stream",
     "text": [
      "Epoch:  74\n",
      "t_loss:  0.42164298295974734 , v_loss:  0.7180208812157313\n",
      "t_acc:  0.7013758599124453 , v_acc:  0.6931818181818182\n",
      "t_recall:  0.5142869995501574 , v_recall:  0.4959349593495935\n",
      "t_prec:  0.7048015873015874 , v_prec:  0.3485714285714286\n",
      "t_f:  0.44436530431019006 , v_f:  0.40939597315436244\n",
      "////////\n"
     ]
    },
    {
     "name": "stderr",
     "output_type": "stream",
     "text": [
      "\r",
      "Iterations:  25%|████████▌                         | 76/300 [01:55<05:23,  1.45s/it]"
     ]
    },
    {
     "name": "stdout",
     "output_type": "stream",
     "text": [
      "Epoch  75 , loss 0.4207096087932587\n",
      "Epoch  76 , loss 0.4205963206291199\n"
     ]
    },
    {
     "name": "stderr",
     "output_type": "stream",
     "text": [
      "\r",
      "Iterations:  26%|████████▋                         | 77/300 [01:57<05:44,  1.54s/it]"
     ]
    },
    {
     "name": "stdout",
     "output_type": "stream",
     "text": [
      "Epoch:  76\n",
      "t_loss:  0.4205963206291199 , v_loss:  0.715565433104833\n",
      "t_acc:  0.702626641651032 , v_acc:  0.6931818181818182\n",
      "t_recall:  0.5154745838956365 , v_recall:  0.4959349593495935\n",
      "t_prec:  0.7313231074817921 , v_prec:  0.3485714285714286\n",
      "t_f:  0.4458150012527618 , v_f:  0.40939597315436244\n",
      "////////\n"
     ]
    },
    {
     "name": "stderr",
     "output_type": "stream",
     "text": [
      "\r",
      "Iterations:  26%|████████▊                         | 78/300 [01:59<05:29,  1.48s/it]"
     ]
    },
    {
     "name": "stdout",
     "output_type": "stream",
     "text": [
      "Epoch  77 , loss 0.41804029762744904\n",
      "Epoch  78 , loss 0.4181885004043579\n"
     ]
    },
    {
     "name": "stderr",
     "output_type": "stream",
     "text": [
      "\r",
      "Iterations:  26%|████████▉                         | 79/300 [02:00<05:47,  1.57s/it]"
     ]
    },
    {
     "name": "stdout",
     "output_type": "stream",
     "text": [
      "Epoch:  78\n",
      "t_loss:  0.4181885004043579 , v_loss:  0.7149987469116846\n",
      "t_acc:  0.7013758599124453 , v_acc:  0.6931818181818182\n",
      "t_recall:  0.5137112010796221 , v_recall:  0.4959349593495935\n",
      "t_prec:  0.7141436559635672 , v_prec:  0.3485714285714286\n",
      "t_f:  0.442599170712753 , v_f:  0.40939597315436244\n",
      "////////\n"
     ]
    },
    {
     "name": "stderr",
     "output_type": "stream",
     "text": [
      "\r",
      "Iterations:  27%|█████████                         | 80/300 [02:02<05:31,  1.51s/it]"
     ]
    },
    {
     "name": "stdout",
     "output_type": "stream",
     "text": [
      "Epoch  79 , loss 0.4222769373655319\n",
      "Epoch  80 , loss 0.4159838205575943\n"
     ]
    },
    {
     "name": "stderr",
     "output_type": "stream",
     "text": [
      "\r",
      "Iterations:  27%|█████████▏                        | 81/300 [02:04<05:49,  1.60s/it]"
     ]
    },
    {
     "name": "stdout",
     "output_type": "stream",
     "text": [
      "Epoch:  80\n",
      "t_loss:  0.4159838205575943 , v_loss:  0.7174056222041448\n",
      "t_acc:  0.7032520325203252 , v_acc:  0.6931818181818182\n",
      "t_recall:  0.5182276203328835 , v_recall:  0.4959349593495935\n",
      "t_prec:  0.7098311026131294 , v_prec:  0.3485714285714286\n",
      "t_f:  0.4530362873030934 , v_f:  0.40939597315436244\n",
      "////////\n"
     ]
    },
    {
     "name": "stderr",
     "output_type": "stream",
     "text": [
      "\r",
      "Iterations:  27%|█████████▎                        | 82/300 [02:05<05:16,  1.45s/it]"
     ]
    },
    {
     "name": "stdout",
     "output_type": "stream",
     "text": [
      "Epoch  81 , loss 0.4180829644203186\n",
      "Epoch  82 , loss 0.41414384186267855\n"
     ]
    },
    {
     "name": "stderr",
     "output_type": "stream",
     "text": [
      "\r",
      "Iterations:  28%|█████████▍                        | 83/300 [02:07<05:43,  1.58s/it]"
     ]
    },
    {
     "name": "stdout",
     "output_type": "stream",
     "text": [
      "Epoch:  82\n",
      "t_loss:  0.41414384186267855 , v_loss:  0.7169748296340307\n",
      "t_acc:  0.7045028142589118 , v_acc:  0.6931818181818182\n",
      "t_recall:  0.5188394062078272 , v_recall:  0.4959349593495935\n",
      "t_prec:  0.7405110262934691 , v_prec:  0.3485714285714286\n",
      "t_f:  0.4527783164691253 , v_f:  0.40939597315436244\n",
      "////////\n"
     ]
    },
    {
     "name": "stderr",
     "output_type": "stream",
     "text": [
      "\r",
      "Iterations:  28%|█████████▌                        | 84/300 [02:08<05:18,  1.48s/it]"
     ]
    },
    {
     "name": "stdout",
     "output_type": "stream",
     "text": [
      "Epoch  83 , loss 0.4166108179092407\n",
      "Epoch  84 , loss 0.4132112550735474\n"
     ]
    },
    {
     "name": "stderr",
     "output_type": "stream",
     "text": [
      "\r",
      "Iterations:  28%|█████████▋                        | 85/300 [02:10<05:48,  1.62s/it]"
     ]
    },
    {
     "name": "stdout",
     "output_type": "stream",
     "text": [
      "Epoch:  84\n",
      "t_loss:  0.4132112550735474 , v_loss:  0.7130410720904669\n",
      "t_acc:  0.7004377736085053 , v_acc:  0.6931818181818182\n",
      "t_recall:  0.512748538011696 , v_recall:  0.501303880963338\n",
      "t_prec:  0.6947457447933185 , v_prec:  0.5163776493256262\n",
      "t_f:  0.4412924544817927 , v_f:  0.4266409266409266\n",
      "////////\n"
     ]
    },
    {
     "name": "stderr",
     "output_type": "stream",
     "text": [
      "\r",
      "Iterations:  29%|█████████▋                        | 86/300 [02:11<05:19,  1.49s/it]"
     ]
    },
    {
     "name": "stdout",
     "output_type": "stream",
     "text": [
      "Epoch  85 , loss 0.41794116199016573\n",
      "Epoch  86 , loss 0.4154976600408554\n"
     ]
    },
    {
     "name": "stderr",
     "output_type": "stream",
     "text": [
      "\r",
      "Iterations:  29%|█████████▊                        | 87/300 [02:13<05:38,  1.59s/it]"
     ]
    },
    {
     "name": "stdout",
     "output_type": "stream",
     "text": [
      "Epoch:  86\n",
      "t_loss:  0.4154976600408554 , v_loss:  0.7126175711552302\n",
      "t_acc:  0.6966854283927455 , v_acc:  0.6931818181818182\n",
      "t_recall:  0.5103373819163293 , v_recall:  0.501303880963338\n",
      "t_prec:  0.6209793683619419 , v_prec:  0.5163776493256262\n",
      "t_f:  0.44049645149584044 , v_f:  0.4266409266409266\n",
      "////////\n"
     ]
    },
    {
     "name": "stderr",
     "output_type": "stream",
     "text": [
      "\r",
      "Iterations:  29%|█████████▉                        | 88/300 [02:14<05:09,  1.46s/it]"
     ]
    },
    {
     "name": "stdout",
     "output_type": "stream",
     "text": [
      "Epoch  87 , loss 0.40980313301086424\n",
      "Epoch  88 , loss 0.4156662994623184\n"
     ]
    },
    {
     "name": "stderr",
     "output_type": "stream",
     "text": [
      "\r",
      "Iterations:  30%|██████████                        | 89/300 [02:16<05:44,  1.63s/it]"
     ]
    },
    {
     "name": "stdout",
     "output_type": "stream",
     "text": [
      "Epoch:  88\n",
      "t_loss:  0.4156662994623184 , v_loss:  0.7120459924141566\n",
      "t_acc:  0.7045028142589118 , v_acc:  0.6931818181818182\n",
      "t_recall:  0.5214304993252362 , v_recall:  0.501303880963338\n",
      "t_prec:  0.7063739603326935 , v_prec:  0.5163776493256262\n",
      "t_f:  0.46037633363170477 , v_f:  0.4266409266409266\n",
      "////////\n"
     ]
    },
    {
     "name": "stderr",
     "output_type": "stream",
     "text": [
      "\r",
      "Iterations:  30%|██████████▏                       | 90/300 [02:17<05:13,  1.50s/it]"
     ]
    },
    {
     "name": "stdout",
     "output_type": "stream",
     "text": [
      "Epoch  89 , loss 0.4141302222013474\n",
      "Epoch  90 , loss 0.4158832967281342\n"
     ]
    },
    {
     "name": "stderr",
     "output_type": "stream",
     "text": [
      "\r",
      "Iterations:  30%|██████████▎                       | 91/300 [02:19<05:50,  1.67s/it]"
     ]
    },
    {
     "name": "stdout",
     "output_type": "stream",
     "text": [
      "Epoch:  90\n",
      "t_loss:  0.4158832967281342 , v_loss:  0.7097320357958475\n",
      "t_acc:  0.707004377736085 , v_acc:  0.6988636363636364\n",
      "t_recall:  0.523229869545659 , v_recall:  0.5107378432274889\n",
      "t_prec:  0.7510220564773453 , v_prec:  0.6017441860465116\n",
      "t_f:  0.4616299938033638 , v_f:  0.44525721082366937\n",
      "////////\n"
     ]
    },
    {
     "name": "stderr",
     "output_type": "stream",
     "text": [
      "\r",
      "Iterations:  31%|██████████▍                       | 92/300 [02:20<05:16,  1.52s/it]"
     ]
    },
    {
     "name": "stdout",
     "output_type": "stream",
     "text": [
      "Epoch  91 , loss 0.417058202624321\n",
      "Epoch  92 , loss 0.4180222088098526\n"
     ]
    },
    {
     "name": "stderr",
     "output_type": "stream",
     "text": [
      "\r",
      "Iterations:  31%|██████████▌                       | 93/300 [02:22<05:36,  1.63s/it]"
     ]
    },
    {
     "name": "stdout",
     "output_type": "stream",
     "text": [
      "Epoch:  92\n",
      "t_loss:  0.4180222088098526 , v_loss:  0.7069913645585378\n",
      "t_acc:  0.7051282051282052 , v_acc:  0.7045454545454546\n",
      "t_recall:  0.5221682411156096 , v_recall:  0.5201718054916399\n",
      "t_prec:  0.7134783535935167 , v_prec:  0.6538011695906433\n",
      "t_f:  0.4615183943012673 , v_f:  0.46328876378137457\n",
      "////////\n"
     ]
    },
    {
     "name": "stderr",
     "output_type": "stream",
     "text": [
      "\r",
      "Iterations:  31%|██████████▋                       | 94/300 [02:23<05:08,  1.50s/it]"
     ]
    },
    {
     "name": "stdout",
     "output_type": "stream",
     "text": [
      "Epoch  93 , loss 0.41514275431632996\n",
      "Epoch  94 , loss 0.41586512565612793\n"
     ]
    },
    {
     "name": "stderr",
     "output_type": "stream",
     "text": [
      "\r",
      "Iterations:  32%|██████████▊                       | 95/300 [02:25<05:28,  1.60s/it]"
     ]
    },
    {
     "name": "stdout",
     "output_type": "stream",
     "text": [
      "Epoch:  94\n",
      "t_loss:  0.41586512565612793 , v_loss:  0.7077762186527252\n",
      "t_acc:  0.7029393370856786 , v_acc:  0.7045454545454546\n",
      "t_recall:  0.5194421952316689 , v_recall:  0.5201718054916399\n",
      "t_prec:  0.6898030331010688 , v_prec:  0.6538011695906433\n",
      "t_f:  0.45710405460946013 , v_f:  0.46328876378137457\n",
      "////////\n"
     ]
    },
    {
     "name": "stderr",
     "output_type": "stream",
     "text": [
      "\r",
      "Iterations:  32%|██████████▉                       | 96/300 [02:26<04:54,  1.44s/it]"
     ]
    },
    {
     "name": "stdout",
     "output_type": "stream",
     "text": [
      "Epoch  95 , loss 0.4140721154212952\n",
      "Epoch  96 , loss 0.41331515669822694\n"
     ]
    },
    {
     "name": "stderr",
     "output_type": "stream",
     "text": [
      "\r",
      "Iterations:  32%|██████████▉                       | 97/300 [02:28<05:17,  1.56s/it]"
     ]
    },
    {
     "name": "stdout",
     "output_type": "stream",
     "text": [
      "Epoch:  96\n",
      "t_loss:  0.41331515669822694 , v_loss:  0.7113547772169113\n",
      "t_acc:  0.706066291432145 , v_acc:  0.7045454545454546\n",
      "t_recall:  0.5225551057130005 , v_recall:  0.5201718054916399\n",
      "t_prec:  0.7330403237723868 , v_prec:  0.6538011695906433\n",
      "t_f:  0.46115950404275563 , v_f:  0.46328876378137457\n",
      "////////\n"
     ]
    },
    {
     "name": "stderr",
     "output_type": "stream",
     "text": [
      "\r",
      "Iterations:  33%|███████████                       | 98/300 [02:30<05:01,  1.49s/it]"
     ]
    },
    {
     "name": "stdout",
     "output_type": "stream",
     "text": [
      "Epoch  97 , loss 0.40968481242656707\n",
      "Epoch  98 , loss 0.4125557315349579\n"
     ]
    },
    {
     "name": "stderr",
     "output_type": "stream",
     "text": [
      "\r",
      "Iterations:  33%|███████████▏                      | 99/300 [02:31<05:20,  1.60s/it]"
     ]
    },
    {
     "name": "stdout",
     "output_type": "stream",
     "text": [
      "Epoch:  98\n",
      "t_loss:  0.4125557315349579 , v_loss:  0.710508182644844\n",
      "t_acc:  0.7038774233896186 , v_acc:  0.7045454545454546\n",
      "t_recall:  0.5183895636527216 , v_recall:  0.5201718054916399\n",
      "t_prec:  0.7265276893698281 , v_prec:  0.6538011695906433\n",
      "t_f:  0.45247992565963074 , v_f:  0.46328876378137457\n",
      "////////\n"
     ]
    },
    {
     "name": "stderr",
     "output_type": "stream",
     "text": [
      "\r",
      "Iterations:  33%|███████████                      | 100/300 [02:33<05:02,  1.51s/it]"
     ]
    },
    {
     "name": "stdout",
     "output_type": "stream",
     "text": [
      "Epoch  99 , loss 0.40911385118961335\n",
      "Epoch  100 , loss 0.40974691867828367\n"
     ]
    },
    {
     "name": "stderr",
     "output_type": "stream",
     "text": [
      "\r",
      "Iterations:  34%|███████████                      | 101/300 [02:35<05:32,  1.67s/it]"
     ]
    },
    {
     "name": "stdout",
     "output_type": "stream",
     "text": [
      "Epoch:  100\n",
      "t_loss:  0.40974691867828367 , v_loss:  0.7076489875713984\n",
      "t_acc:  0.7091932457786116 , v_acc:  0.6988636363636364\n",
      "t_recall:  0.5282591093117409 , v_recall:  0.5161067648412333\n",
      "t_prec:  0.7425943749331623 , v_prec:  0.6029411764705883\n",
      "t_f:  0.47258043922369763 , v_f:  0.46040377162029267\n",
      "////////\n"
     ]
    },
    {
     "name": "stderr",
     "output_type": "stream",
     "text": [
      "\r",
      "Iterations:  34%|███████████▏                     | 102/300 [02:36<04:54,  1.49s/it]"
     ]
    },
    {
     "name": "stdout",
     "output_type": "stream",
     "text": [
      "Epoch  101 , loss 0.41579011917114256\n",
      "Epoch  102 , loss 0.41424565136432645\n"
     ]
    },
    {
     "name": "stderr",
     "output_type": "stream",
     "text": [
      "\r",
      "Iterations:  34%|███████████▎                     | 103/300 [02:38<05:19,  1.62s/it]"
     ]
    },
    {
     "name": "stdout",
     "output_type": "stream",
     "text": [
      "Epoch:  102\n",
      "t_loss:  0.41424565136432645 , v_loss:  0.709199329217275\n",
      "t_acc:  0.7023139462163852 , v_acc:  0.7045454545454546\n",
      "t_recall:  0.5195681511470985 , v_recall:  0.5201718054916399\n",
      "t_prec:  0.6764856418813484 , v_prec:  0.6538011695906433\n",
      "t_f:  0.458456660822841 , v_f:  0.46328876378137457\n",
      "////////\n"
     ]
    },
    {
     "name": "stderr",
     "output_type": "stream",
     "text": [
      "\r",
      "Iterations:  35%|███████████▍                     | 104/300 [02:39<04:55,  1.51s/it]"
     ]
    },
    {
     "name": "stdout",
     "output_type": "stream",
     "text": [
      "Epoch  103 , loss 0.40772102057933807\n",
      "Epoch  104 , loss 0.41138090133666994\n"
     ]
    },
    {
     "name": "stderr",
     "output_type": "stream",
     "text": [
      "\r",
      "Iterations:  35%|███████████▌                     | 105/300 [02:41<05:24,  1.66s/it]"
     ]
    },
    {
     "name": "stdout",
     "output_type": "stream",
     "text": [
      "Epoch:  104\n",
      "t_loss:  0.41138090133666994 , v_loss:  0.7070998251438141\n",
      "t_acc:  0.7082551594746717 , v_acc:  0.7045454545454546\n",
      "t_recall:  0.5298875393612236 , v_recall:  0.5201718054916399\n",
      "t_prec:  0.7090994189799871 , v_prec:  0.6538011695906433\n",
      "t_f:  0.4783750213065388 , v_f:  0.46328876378137457\n",
      "////////\n"
     ]
    },
    {
     "name": "stderr",
     "output_type": "stream",
     "text": [
      "\r",
      "Iterations:  35%|███████████▋                     | 106/300 [02:42<05:00,  1.55s/it]"
     ]
    },
    {
     "name": "stdout",
     "output_type": "stream",
     "text": [
      "Epoch  105 , loss 0.407583270072937\n",
      "Epoch  106 , loss 0.41116191148757936\n"
     ]
    },
    {
     "name": "stderr",
     "output_type": "stream",
     "text": [
      "\r",
      "Iterations:  36%|███████████▊                     | 107/300 [02:44<05:14,  1.63s/it]"
     ]
    },
    {
     "name": "stdout",
     "output_type": "stream",
     "text": [
      "Epoch:  106\n",
      "t_loss:  0.41116191148757936 , v_loss:  0.7052867859601974\n",
      "t_acc:  0.7082551594746717 , v_acc:  0.6988636363636364\n",
      "t_recall:  0.5264327485380117 , v_recall:  0.5214756864549778\n",
      "t_prec:  0.7414570619373546 , v_prec:  0.6041666666666667\n",
      "t_f:  0.4688591826217447 , v_f:  0.4745084783955834\n",
      "////////\n"
     ]
    },
    {
     "name": "stderr",
     "output_type": "stream",
     "text": [
      "\r",
      "Iterations:  36%|███████████▉                     | 108/300 [02:45<04:45,  1.49s/it]"
     ]
    },
    {
     "name": "stdout",
     "output_type": "stream",
     "text": [
      "Epoch  107 , loss 0.40900033712387085\n",
      "Epoch  108 , loss 0.4075614005327225\n"
     ]
    },
    {
     "name": "stderr",
     "output_type": "stream",
     "text": [
      "\r",
      "Iterations:  36%|███████████▉                     | 109/300 [02:47<05:08,  1.62s/it]"
     ]
    },
    {
     "name": "stdout",
     "output_type": "stream",
     "text": [
      "Epoch:  108\n",
      "t_loss:  0.4075614005327225 , v_loss:  0.7083011666933695\n",
      "t_acc:  0.7085678549093183 , v_acc:  0.6988636363636364\n",
      "t_recall:  0.5263697705802969 , v_recall:  0.5161067648412333\n",
      "t_prec:  0.7505402739726027 , v_prec:  0.6029411764705883\n",
      "t_f:  0.46820813373908776 , v_f:  0.46040377162029267\n",
      "////////\n"
     ]
    },
    {
     "name": "stderr",
     "output_type": "stream",
     "text": [
      "\r",
      "Iterations:  37%|████████████                     | 110/300 [02:48<04:37,  1.46s/it]"
     ]
    },
    {
     "name": "stdout",
     "output_type": "stream",
     "text": [
      "Epoch  109 , loss 0.4105996406078339\n",
      "Epoch  110 , loss 0.41082670748233796\n"
     ]
    },
    {
     "name": "stderr",
     "output_type": "stream",
     "text": [
      "\r",
      "Iterations:  37%|████████████▏                    | 111/300 [02:50<04:58,  1.58s/it]"
     ]
    },
    {
     "name": "stdout",
     "output_type": "stream",
     "text": [
      "Epoch:  110\n",
      "t_loss:  0.41082670748233796 , v_loss:  0.7060343225797018\n",
      "t_acc:  0.707942464040025 , v_acc:  0.7045454545454546\n",
      "t_recall:  0.529374718848403 , v_recall:  0.5201718054916399\n",
      "t_prec:  0.707520510037451 , v_prec:  0.6538011695906433\n",
      "t_f:  0.4774279421984007 , v_f:  0.46328876378137457\n",
      "////////\n"
     ]
    },
    {
     "name": "stderr",
     "output_type": "stream",
     "text": [
      "\r",
      "Iterations:  37%|████████████▎                    | 112/300 [02:51<04:39,  1.48s/it]"
     ]
    },
    {
     "name": "stdout",
     "output_type": "stream",
     "text": [
      "Epoch  111 , loss 0.4144220459461212\n",
      "Epoch  112 , loss 0.40670070201158526\n"
     ]
    },
    {
     "name": "stderr",
     "output_type": "stream",
     "text": [
      "\r",
      "Iterations:  38%|████████████▍                    | 113/300 [02:53<04:56,  1.58s/it]"
     ]
    },
    {
     "name": "stdout",
     "output_type": "stream",
     "text": [
      "Epoch:  112\n",
      "t_loss:  0.40670070201158526 , v_loss:  0.7036350965499878\n",
      "t_acc:  0.706066291432145 , v_acc:  0.7045454545454546\n",
      "t_recall:  0.524570400359874 , v_recall:  0.5255407271053842\n",
      "t_prec:  0.7109281241459617 , v_prec:  0.6407438715131022\n",
      "t_f:  0.4669092611508342 , v_f:  0.4776255707762556\n",
      "////////\n"
     ]
    },
    {
     "name": "stderr",
     "output_type": "stream",
     "text": [
      "\r",
      "Iterations:  38%|████████████▌                    | 114/300 [02:54<04:39,  1.50s/it]"
     ]
    },
    {
     "name": "stdout",
     "output_type": "stream",
     "text": [
      "Epoch  113 , loss 0.4092936778068543\n",
      "Epoch  114 , loss 0.41013634026050566\n"
     ]
    },
    {
     "name": "stderr",
     "output_type": "stream",
     "text": [
      "\r",
      "Iterations:  38%|████████████▋                    | 115/300 [02:56<04:59,  1.62s/it]"
     ]
    },
    {
     "name": "stdout",
     "output_type": "stream",
     "text": [
      "Epoch:  114\n",
      "t_loss:  0.41013634026050566 , v_loss:  0.7010849018891653\n",
      "t_acc:  0.707004377736085 , v_acc:  0.6988636363636364\n",
      "t_recall:  0.5275483580746738 , v_recall:  0.5268446080687222\n",
      "t_prec:  0.7046398607150691 , v_prec:  0.6054216867469879\n",
      "t_f:  0.47379175539896573 , v_f:  0.4876695776349755\n",
      "////////\n"
     ]
    },
    {
     "name": "stderr",
     "output_type": "stream",
     "text": [
      "\r",
      "Iterations:  39%|████████████▊                    | 116/300 [02:57<04:29,  1.47s/it]"
     ]
    },
    {
     "name": "stdout",
     "output_type": "stream",
     "text": [
      "Epoch  115 , loss 0.4104915201663971\n",
      "Epoch  116 , loss 0.40755691051483156\n"
     ]
    },
    {
     "name": "stderr",
     "output_type": "stream",
     "text": [
      "\r",
      "Iterations:  39%|████████████▊                    | 117/300 [03:00<05:04,  1.67s/it]"
     ]
    },
    {
     "name": "stdout",
     "output_type": "stream",
     "text": [
      "Epoch:  116\n",
      "t_loss:  0.40755691051483156 , v_loss:  0.70024806757768\n",
      "t_acc:  0.7057535959974984 , v_acc:  0.7045454545454546\n",
      "t_recall:  0.5249212775528564 , v_recall:  0.5309096487191287\n",
      "t_prec:  0.7018256411789323 , v_prec:  0.6340652029274784\n",
      "t_f:  0.46835923387513506 , v_f:  0.49098998887652945\n",
      "////////\n"
     ]
    },
    {
     "name": "stderr",
     "output_type": "stream",
     "text": [
      "\r",
      "Iterations:  39%|████████████▉                    | 118/300 [03:01<04:30,  1.49s/it]"
     ]
    },
    {
     "name": "stdout",
     "output_type": "stream",
     "text": [
      "Epoch  117 , loss 0.4058324921131134\n",
      "Epoch  118 , loss 0.4092979770898819\n"
     ]
    },
    {
     "name": "stderr",
     "output_type": "stream",
     "text": [
      "\r",
      "Iterations:  40%|█████████████                    | 119/300 [03:03<04:52,  1.61s/it]"
     ]
    },
    {
     "name": "stdout",
     "output_type": "stream",
     "text": [
      "Epoch:  118\n",
      "t_loss:  0.4092979770898819 , v_loss:  0.6977876573801041\n",
      "t_acc:  0.7104440275171983 , v_acc:  0.7045454545454546\n",
      "t_recall:  0.5337651821862348 , v_recall:  0.5309096487191287\n",
      "t_prec:  0.7173545668115033 , v_prec:  0.6340652029274784\n",
      "t_f:  0.4857170842039746 , v_f:  0.49098998887652945\n",
      "////////\n"
     ]
    },
    {
     "name": "stderr",
     "output_type": "stream",
     "text": [
      "\r",
      "Iterations:  40%|█████████████▏                   | 120/300 [03:04<04:25,  1.47s/it]"
     ]
    },
    {
     "name": "stdout",
     "output_type": "stream",
     "text": [
      "Epoch  119 , loss 0.40575244665145876\n",
      "Epoch  120 , loss 0.40159468591213227\n"
     ]
    },
    {
     "name": "stderr",
     "output_type": "stream",
     "text": [
      "\r",
      "Iterations:  40%|█████████████▎                   | 121/300 [03:06<04:43,  1.58s/it]"
     ]
    },
    {
     "name": "stdout",
     "output_type": "stream",
     "text": [
      "Epoch:  120\n",
      "t_loss:  0.40159468591213227 , v_loss:  0.6986130475997925\n",
      "t_acc:  0.7091932457786116 , v_acc:  0.7045454545454546\n",
      "t_recall:  0.5291228070175439 , v_recall:  0.5309096487191287\n",
      "t_prec:  0.7332158414524657 , v_prec:  0.6340652029274784\n",
      "t_f:  0.4749702897307328 , v_f:  0.49098998887652945\n",
      "////////\n"
     ]
    },
    {
     "name": "stderr",
     "output_type": "stream",
     "text": [
      "\r",
      "Iterations:  41%|█████████████▍                   | 122/300 [03:07<04:17,  1.45s/it]"
     ]
    },
    {
     "name": "stdout",
     "output_type": "stream",
     "text": [
      "Epoch  121 , loss 0.40972096621990206\n",
      "Epoch  122 , loss 0.40533934712409975\n"
     ]
    },
    {
     "name": "stderr",
     "output_type": "stream",
     "text": [
      "\r",
      "Iterations:  41%|█████████████▌                   | 123/300 [03:09<04:42,  1.60s/it]"
     ]
    },
    {
     "name": "stdout",
     "output_type": "stream",
     "text": [
      "Epoch:  122\n",
      "t_loss:  0.40533934712409975 , v_loss:  0.6984855234622955\n",
      "t_acc:  0.7110694183864915 , v_acc:  0.6988636363636364\n",
      "t_recall:  0.5336392262708052 , v_recall:  0.5268446080687222\n",
      "t_prec:  0.7287137098671519 , v_prec:  0.6054216867469879\n",
      "t_f:  0.4845538064793423 , v_f:  0.4876695776349755\n",
      "////////\n"
     ]
    },
    {
     "name": "stderr",
     "output_type": "stream",
     "text": [
      "\r",
      "Iterations:  41%|█████████████▋                   | 124/300 [03:10<04:29,  1.53s/it]"
     ]
    },
    {
     "name": "stdout",
     "output_type": "stream",
     "text": [
      "Epoch  123 , loss 0.4032582640647888\n",
      "Epoch  124 , loss 0.3990182197093964\n"
     ]
    },
    {
     "name": "stderr",
     "output_type": "stream",
     "text": [
      "\r",
      "Iterations:  42%|█████████████▊                   | 125/300 [03:12<04:50,  1.66s/it]"
     ]
    },
    {
     "name": "stdout",
     "output_type": "stream",
     "text": [
      "Epoch:  124\n",
      "t_loss:  0.3990182197093964 , v_loss:  0.700491284330686\n",
      "t_acc:  0.7132582864290181 , v_acc:  0.7045454545454546\n",
      "t_recall:  0.5352136752136752 , v_recall:  0.5309096487191287\n",
      "t_prec:  0.7562963410702772 , v_prec:  0.6340652029274784\n",
      "t_f:  0.48579213845162483 , v_f:  0.49098998887652945\n",
      "////////\n"
     ]
    },
    {
     "name": "stderr",
     "output_type": "stream",
     "text": [
      "\r",
      "Iterations:  42%|█████████████▊                   | 126/300 [03:13<04:21,  1.50s/it]"
     ]
    },
    {
     "name": "stdout",
     "output_type": "stream",
     "text": [
      "Epoch  125 , loss 0.40441870391368867\n",
      "Epoch  126 , loss 0.40288452327251434\n"
     ]
    },
    {
     "name": "stderr",
     "output_type": "stream",
     "text": [
      "\r",
      "Iterations:  42%|█████████████▉                   | 127/300 [03:15<04:38,  1.61s/it]"
     ]
    },
    {
     "name": "stdout",
     "output_type": "stream",
     "text": [
      "Epoch:  126\n",
      "t_loss:  0.40288452327251434 , v_loss:  0.6982953697443008\n",
      "t_acc:  0.7098186366479049 , v_acc:  0.6931818181818182\n",
      "t_recall:  0.5344669365721997 , v_recall:  0.5227795674183157\n",
      "t_prec:  0.7038872710500244 , v_prec:  0.5818181818181818\n",
      "t_f:  0.4883542273378953 , v_f:  0.484375\n",
      "////////\n"
     ]
    },
    {
     "name": "stderr",
     "output_type": "stream",
     "text": [
      "\r",
      "Iterations:  43%|██████████████                   | 128/300 [03:16<04:12,  1.47s/it]"
     ]
    },
    {
     "name": "stdout",
     "output_type": "stream",
     "text": [
      "Epoch  127 , loss 0.4064806813001633\n",
      "Epoch  128 , loss 0.4022019875049591\n"
     ]
    },
    {
     "name": "stderr",
     "output_type": "stream",
     "text": [
      "\r",
      "Iterations:  43%|██████████████▏                  | 129/300 [03:18<04:36,  1.62s/it]"
     ]
    },
    {
     "name": "stdout",
     "output_type": "stream",
     "text": [
      "Epoch:  128\n",
      "t_loss:  0.4022019875049591 , v_loss:  0.7013048926989237\n",
      "t_acc:  0.7098186366479049 , v_acc:  0.6988636363636364\n",
      "t_recall:  0.5315879442195232 , v_recall:  0.5268446080687222\n",
      "t_prec:  0.723156052294484 , v_prec:  0.6054216867469879\n",
      "t_f:  0.4807849361457343 , v_f:  0.4876695776349755\n",
      "////////\n"
     ]
    },
    {
     "name": "stderr",
     "output_type": "stream",
     "text": [
      "\r",
      "Iterations:  43%|██████████████▎                  | 130/300 [03:19<04:13,  1.49s/it]"
     ]
    },
    {
     "name": "stdout",
     "output_type": "stream",
     "text": [
      "Epoch  129 , loss 0.403221395611763\n",
      "Epoch  130 , loss 0.4075530195236206\n"
     ]
    },
    {
     "name": "stderr",
     "output_type": "stream",
     "text": [
      "\r",
      "Iterations:  44%|██████████████▍                  | 131/300 [03:21<04:31,  1.61s/it]"
     ]
    },
    {
     "name": "stdout",
     "output_type": "stream",
     "text": [
      "Epoch:  130\n",
      "t_loss:  0.4075530195236206 , v_loss:  0.7001903752485911\n",
      "t_acc:  0.7104440275171983 , v_acc:  0.6988636363636364\n",
      "t_recall:  0.5326135852451642 , v_recall:  0.5268446080687222\n",
      "t_prec:  0.7259852236434492 , v_prec:  0.6054216867469879\n",
      "t_f:  0.4826725270425133 , v_f:  0.4876695776349755\n",
      "////////\n"
     ]
    },
    {
     "name": "stderr",
     "output_type": "stream",
     "text": [
      "\r",
      "Iterations:  44%|██████████████▌                  | 132/300 [03:22<04:12,  1.50s/it]"
     ]
    },
    {
     "name": "stdout",
     "output_type": "stream",
     "text": [
      "Epoch  131 , loss 0.40171540319919585\n",
      "Epoch  132 , loss 0.4045275986194611\n"
     ]
    },
    {
     "name": "stderr",
     "output_type": "stream",
     "text": [
      "\r",
      "Iterations:  44%|██████████████▋                  | 133/300 [03:24<04:26,  1.59s/it]"
     ]
    },
    {
     "name": "stdout",
     "output_type": "stream",
     "text": [
      "Epoch:  132\n",
      "t_loss:  0.4045275986194611 , v_loss:  0.6964002350966135\n",
      "t_acc:  0.7138836772983115 , v_acc:  0.6931818181818182\n",
      "t_recall:  0.5385425101214575 , v_recall:  0.5227795674183157\n",
      "t_prec:  0.7376100757730903 , v_prec:  0.5818181818181818\n",
      "t_f:  0.49368291061081027 , v_f:  0.484375\n",
      "////////\n"
     ]
    },
    {
     "name": "stderr",
     "output_type": "stream",
     "text": [
      "\r",
      "Iterations:  45%|██████████████▋                  | 134/300 [03:25<04:03,  1.47s/it]"
     ]
    },
    {
     "name": "stdout",
     "output_type": "stream",
     "text": [
      "Epoch  133 , loss 0.4020415997505188\n",
      "Epoch  134 , loss 0.3959388047456741\n"
     ]
    },
    {
     "name": "stderr",
     "output_type": "stream",
     "text": [
      "\r",
      "Iterations:  45%|██████████████▊                  | 135/300 [03:28<04:37,  1.68s/it]"
     ]
    },
    {
     "name": "stdout",
     "output_type": "stream",
     "text": [
      "Epoch:  134\n",
      "t_loss:  0.3959388047456741 , v_loss:  0.6938774635394415\n",
      "t_acc:  0.7163852407754847 , v_acc:  0.6988636363636364\n",
      "t_recall:  0.5417813765182187 , v_recall:  0.5268446080687222\n",
      "t_prec:  0.7533005885117143 , v_prec:  0.6054216867469879\n",
      "t_f:  0.4988409150007214 , v_f:  0.4876695776349755\n",
      "////////\n"
     ]
    },
    {
     "name": "stderr",
     "output_type": "stream",
     "text": [
      "\r",
      "Iterations:  45%|██████████████▉                  | 136/300 [03:29<04:05,  1.49s/it]"
     ]
    },
    {
     "name": "stdout",
     "output_type": "stream",
     "text": [
      "Epoch  135 , loss 0.398979474902153\n",
      "Epoch  136 , loss 0.40135777652263643\n"
     ]
    },
    {
     "name": "stderr",
     "output_type": "stream",
     "text": [
      "\r",
      "Iterations:  46%|███████████████                  | 137/300 [03:31<04:29,  1.65s/it]"
     ]
    },
    {
     "name": "stdout",
     "output_type": "stream",
     "text": [
      "Epoch:  136\n",
      "t_loss:  0.40135777652263643 , v_loss:  0.6920226365327835\n",
      "t_acc:  0.7188868042526579 , v_acc:  0.6931818181818182\n",
      "t_recall:  0.5476113360323887 , v_recall:  0.5227795674183157\n",
      "t_prec:  0.7478051638682905 , v_prec:  0.5818181818181818\n",
      "t_f:  0.5103575068954388 , v_f:  0.484375\n",
      "////////\n"
     ]
    },
    {
     "name": "stderr",
     "output_type": "stream",
     "text": [
      "\r",
      "Iterations:  46%|███████████████▏                 | 138/300 [03:32<04:04,  1.51s/it]"
     ]
    },
    {
     "name": "stdout",
     "output_type": "stream",
     "text": [
      "Epoch  137 , loss 0.40251327693462374\n",
      "Epoch  138 , loss 0.4016452956199646\n"
     ]
    },
    {
     "name": "stderr",
     "output_type": "stream",
     "text": [
      "\r",
      "Iterations:  46%|███████████████▎                 | 139/300 [03:34<04:20,  1.62s/it]"
     ]
    },
    {
     "name": "stdout",
     "output_type": "stream",
     "text": [
      "Epoch:  138\n",
      "t_loss:  0.4016452956199646 , v_loss:  0.6925666828950247\n",
      "t_acc:  0.7151344590368981 , v_acc:  0.6988636363636364\n",
      "t_recall:  0.5417453891138102 , v_recall:  0.5268446080687222\n",
      "t_prec:  0.7337549603174602 , v_prec:  0.6054216867469879\n",
      "t_f:  0.500260643813376 , v_f:  0.4876695776349755\n",
      "////////\n"
     ]
    },
    {
     "name": "stderr",
     "output_type": "stream",
     "text": [
      "\r",
      "Iterations:  47%|███████████████▍                 | 140/300 [03:35<04:05,  1.53s/it]"
     ]
    },
    {
     "name": "stdout",
     "output_type": "stream",
     "text": [
      "Epoch  139 , loss 0.4004390102624893\n",
      "Epoch  140 , loss 0.40255060434341433\n"
     ]
    },
    {
     "name": "stderr",
     "output_type": "stream",
     "text": [
      "\r",
      "Iterations:  47%|███████████████▌                 | 141/300 [03:37<04:22,  1.65s/it]"
     ]
    },
    {
     "name": "stdout",
     "output_type": "stream",
     "text": [
      "Epoch:  140\n",
      "t_loss:  0.40255060434341433 , v_loss:  0.6895254204670588\n",
      "t_acc:  0.716072545340838 , v_acc:  0.6988636363636364\n",
      "t_recall:  0.5418443544759334 , v_recall:  0.5268446080687222\n",
      "t_prec:  0.7475279816376047 , v_prec:  0.6054216867469879\n",
      "t_f:  0.4993810758866476 , v_f:  0.4876695776349755\n",
      "////////\n"
     ]
    },
    {
     "name": "stderr",
     "output_type": "stream",
     "text": [
      "\r",
      "Iterations:  47%|███████████████▌                 | 142/300 [03:38<04:01,  1.53s/it]"
     ]
    },
    {
     "name": "stdout",
     "output_type": "stream",
     "text": [
      "Epoch  141 , loss 0.39893754839897155\n",
      "Epoch  142 , loss 0.3977866667509079\n"
     ]
    },
    {
     "name": "stderr",
     "output_type": "stream",
     "text": [
      "\r",
      "Iterations:  48%|███████████████▋                 | 143/300 [03:40<04:20,  1.66s/it]"
     ]
    },
    {
     "name": "stdout",
     "output_type": "stream",
     "text": [
      "Epoch:  142\n",
      "t_loss:  0.3977866667509079 , v_loss:  0.6960000445445379\n",
      "t_acc:  0.7166979362101313 , v_acc:  0.6988636363636364\n",
      "t_recall:  0.5425820962663068 , v_recall:  0.5268446080687222\n",
      "t_prec:  0.7518920526963627 , v_prec:  0.6054216867469879\n",
      "t_f:  0.5004837607415228 , v_f:  0.4876695776349755\n",
      "////////\n"
     ]
    },
    {
     "name": "stderr",
     "output_type": "stream",
     "text": [
      "\r",
      "Iterations:  48%|███████████████▊                 | 144/300 [03:41<03:53,  1.50s/it]"
     ]
    },
    {
     "name": "stdout",
     "output_type": "stream",
     "text": [
      "Epoch  143 , loss 0.3950230365991592\n",
      "Epoch  144 , loss 0.4005624288320541\n"
     ]
    },
    {
     "name": "stderr",
     "output_type": "stream",
     "text": [
      "\r",
      "Iterations:  48%|███████████████▉                 | 145/300 [03:43<04:11,  1.62s/it]"
     ]
    },
    {
     "name": "stdout",
     "output_type": "stream",
     "text": [
      "Epoch:  144\n",
      "t_loss:  0.4005624288320541 , v_loss:  0.6957500874996185\n",
      "t_acc:  0.7201375859912446 , v_acc:  0.6931818181818182\n",
      "t_recall:  0.5470715249662618 , v_recall:  0.5227795674183157\n",
      "t_prec:  0.7718668059434224 , v_prec:  0.5818181818181818\n",
      "t_f:  0.5076193836473162 , v_f:  0.484375\n",
      "////////\n"
     ]
    },
    {
     "name": "stderr",
     "output_type": "stream",
     "text": [
      "\r",
      "Iterations:  49%|████████████████                 | 146/300 [03:44<03:45,  1.46s/it]"
     ]
    },
    {
     "name": "stdout",
     "output_type": "stream",
     "text": [
      "Epoch  145 , loss 0.40002201855182645\n",
      "Epoch  146 , loss 0.39950309932231903\n"
     ]
    },
    {
     "name": "stderr",
     "output_type": "stream",
     "text": [
      "\r",
      "Iterations:  49%|████████████████▏                | 147/300 [03:46<03:59,  1.57s/it]"
     ]
    },
    {
     "name": "stdout",
     "output_type": "stream",
     "text": [
      "Epoch:  146\n",
      "t_loss:  0.39950309932231903 , v_loss:  0.6927903344233831\n",
      "t_acc:  0.7138836772983115 , v_acc:  0.6931818181818182\n",
      "t_recall:  0.5428609986504723 , v_recall:  0.5227795674183157\n",
      "t_prec:  0.7112393582187295 , v_prec:  0.5818181818181818\n",
      "t_f:  0.504455828089016 , v_f:  0.484375\n",
      "////////\n"
     ]
    },
    {
     "name": "stderr",
     "output_type": "stream",
     "text": [
      "\r",
      "Iterations:  49%|████████████████▎                | 148/300 [03:47<03:46,  1.49s/it]"
     ]
    },
    {
     "name": "stdout",
     "output_type": "stream",
     "text": [
      "Epoch  147 , loss 0.3955163890123367\n",
      "Epoch  148 , loss 0.40109062850475313\n"
     ]
    },
    {
     "name": "stderr",
     "output_type": "stream",
     "text": [
      "\r",
      "Iterations:  50%|████████████████▍                | 149/300 [03:49<04:07,  1.64s/it]"
     ]
    },
    {
     "name": "stdout",
     "output_type": "stream",
     "text": [
      "Epoch:  148\n",
      "t_loss:  0.40109062850475313 , v_loss:  0.6938705195983251\n",
      "t_acc:  0.717948717948718 , v_acc:  0.6931818181818182\n",
      "t_recall:  0.5460728744939272 , v_recall:  0.5227795674183157\n",
      "t_prec:  0.7449668216217542 , v_prec:  0.5818181818181818\n",
      "t_f:  0.5076728455408882 , v_f:  0.484375\n",
      "////////\n"
     ]
    },
    {
     "name": "stderr",
     "output_type": "stream",
     "text": [
      "\r",
      "Iterations:  50%|████████████████▌                | 150/300 [03:51<03:41,  1.48s/it]"
     ]
    },
    {
     "name": "stdout",
     "output_type": "stream",
     "text": [
      "Epoch  149 , loss 0.3990290653705597\n",
      "Epoch  150 , loss 0.39664500176906586\n"
     ]
    },
    {
     "name": "stderr",
     "output_type": "stream",
     "text": [
      "\r",
      "Iterations:  50%|████████████████▌                | 151/300 [03:53<04:03,  1.63s/it]"
     ]
    },
    {
     "name": "stdout",
     "output_type": "stream",
     "text": [
      "Epoch:  150\n",
      "t_loss:  0.39664500176906586 , v_loss:  0.6930081496636072\n",
      "t_acc:  0.7163852407754847 , v_acc:  0.6988636363636364\n",
      "t_recall:  0.5437966711650922 , v_recall:  0.5268446080687222\n",
      "t_prec:  0.7380052151238592 , v_prec:  0.6054216867469879\n",
      "t_f:  0.5038811744694098 , v_f:  0.4876695776349755\n",
      "////////\n"
     ]
    },
    {
     "name": "stderr",
     "output_type": "stream",
     "text": [
      "\r",
      "Iterations:  51%|████████████████▋                | 152/300 [03:54<03:39,  1.49s/it]"
     ]
    },
    {
     "name": "stdout",
     "output_type": "stream",
     "text": [
      "Epoch  151 , loss 0.39286173939704894\n",
      "Epoch  152 , loss 0.3965772175788879\n"
     ]
    },
    {
     "name": "stderr",
     "output_type": "stream",
     "text": [
      "\r",
      "Iterations:  51%|████████████████▊                | 153/300 [03:56<03:59,  1.63s/it]"
     ]
    },
    {
     "name": "stdout",
     "output_type": "stream",
     "text": [
      "Epoch:  152\n",
      "t_loss:  0.3965772175788879 , v_loss:  0.6970894088347753\n",
      "t_acc:  0.717010631644778 , v_acc:  0.6988636363636364\n",
      "t_recall:  0.5462618083670715 , v_recall:  0.5268446080687222\n",
      "t_prec:  0.7310601172479906 , v_prec:  0.6054216867469879\n",
      "t_f:  0.5091800538034947 , v_f:  0.4876695776349755\n",
      "////////\n"
     ]
    },
    {
     "name": "stderr",
     "output_type": "stream",
     "text": [
      "\r",
      "Iterations:  51%|████████████████▉                | 154/300 [03:57<03:39,  1.50s/it]"
     ]
    },
    {
     "name": "stdout",
     "output_type": "stream",
     "text": [
      "Epoch  153 , loss 0.394628142118454\n",
      "Epoch  154 , loss 0.398916175365448\n"
     ]
    },
    {
     "name": "stderr",
     "output_type": "stream",
     "text": [
      "\r",
      "Iterations:  52%|█████████████████                | 155/300 [03:59<03:53,  1.61s/it]"
     ]
    },
    {
     "name": "stdout",
     "output_type": "stream",
     "text": [
      "Epoch:  154\n",
      "t_loss:  0.398916175365448 , v_loss:  0.6918071905771891\n",
      "t_acc:  0.7223264540337712 , v_acc:  0.6988636363636364\n",
      "t_recall:  0.5544039586144849 , v_recall:  0.5268446080687222\n",
      "t_prec:  0.7500005300372086 , v_prec:  0.6054216867469879\n",
      "t_f:  0.5227651758315996 , v_f:  0.4876695776349755\n",
      "////////\n"
     ]
    },
    {
     "name": "stderr",
     "output_type": "stream",
     "text": [
      "\r",
      "Iterations:  52%|█████████████████▏               | 156/300 [04:00<03:29,  1.45s/it]"
     ]
    },
    {
     "name": "stdout",
     "output_type": "stream",
     "text": [
      "Epoch  155 , loss 0.39406179428100585\n",
      "Epoch  156 , loss 0.39675339818000793\n"
     ]
    },
    {
     "name": "stderr",
     "output_type": "stream",
     "text": [
      "\r",
      "Iterations:  52%|█████████████████▎               | 157/300 [04:02<03:43,  1.57s/it]"
     ]
    },
    {
     "name": "stdout",
     "output_type": "stream",
     "text": [
      "Epoch:  156\n",
      "t_loss:  0.39675339818000793 , v_loss:  0.69040746986866\n",
      "t_acc:  0.7166979362101313 , v_acc:  0.6988636363636364\n",
      "t_recall:  0.5480521817363923 , v_recall:  0.5268446080687222\n",
      "t_prec:  0.7181429172854219 , v_prec:  0.6054216867469879\n",
      "t_f:  0.5137670905517308 , v_f:  0.4876695776349755\n",
      "////////\n"
     ]
    },
    {
     "name": "stderr",
     "output_type": "stream",
     "text": [
      "\r",
      "Iterations:  53%|█████████████████▍               | 158/300 [04:03<03:24,  1.44s/it]"
     ]
    },
    {
     "name": "stdout",
     "output_type": "stream",
     "text": [
      "Epoch  157 , loss 0.39319030165672303\n",
      "Epoch  158 , loss 0.39733814358711245\n"
     ]
    },
    {
     "name": "stderr",
     "output_type": "stream",
     "text": [
      "\r",
      "Iterations:  53%|█████████████████▍               | 159/300 [04:05<03:47,  1.62s/it]"
     ]
    },
    {
     "name": "stdout",
     "output_type": "stream",
     "text": [
      "Epoch:  158\n",
      "t_loss:  0.39733814358711245 , v_loss:  0.6943962971369425\n",
      "t_acc:  0.7226391494684178 , v_acc:  0.6875\n",
      "t_recall:  0.5546288798920378 , v_recall:  0.5187145267679092\n",
      "t_prec:  0.7525811901633189 , v_prec:  0.5619918699186992\n",
      "t_f:  0.5229709592776723 , v_f:  0.4811042615920665\n",
      "////////\n"
     ]
    },
    {
     "name": "stderr",
     "output_type": "stream",
     "text": [
      "\r",
      "Iterations:  53%|█████████████████▌               | 160/300 [04:06<03:31,  1.51s/it]"
     ]
    },
    {
     "name": "stdout",
     "output_type": "stream",
     "text": [
      "Epoch  159 , loss 0.3945470756292343\n",
      "Epoch  160 , loss 0.3981168949604034\n"
     ]
    },
    {
     "name": "stderr",
     "output_type": "stream",
     "text": [
      "\r",
      "Iterations:  54%|█████████████████▋               | 161/300 [04:08<03:46,  1.63s/it]"
     ]
    },
    {
     "name": "stdout",
     "output_type": "stream",
     "text": [
      "Epoch:  160\n",
      "t_loss:  0.3981168949604034 , v_loss:  0.692068432768186\n",
      "t_acc:  0.7226391494684178 , v_acc:  0.6875\n",
      "t_recall:  0.5543409806567701 , v_recall:  0.5187145267679092\n",
      "t_prec:  0.7543888447316585 , v_prec:  0.5619918699186992\n",
      "t_f:  0.522305804000328 , v_f:  0.4811042615920665\n",
      "////////\n"
     ]
    },
    {
     "name": "stderr",
     "output_type": "stream",
     "text": [
      "\r",
      "Iterations:  54%|█████████████████▊               | 162/300 [04:09<03:27,  1.51s/it]"
     ]
    },
    {
     "name": "stdout",
     "output_type": "stream",
     "text": [
      "Epoch  161 , loss 0.3933621573448181\n",
      "Epoch  162 , loss 0.39610431432723997\n"
     ]
    },
    {
     "name": "stderr",
     "output_type": "stream",
     "text": [
      "\r",
      "Iterations:  54%|█████████████████▉               | 163/300 [04:11<03:42,  1.63s/it]"
     ]
    },
    {
     "name": "stdout",
     "output_type": "stream",
     "text": [
      "Epoch:  162\n",
      "t_loss:  0.39610431432723997 , v_loss:  0.6907312224308649\n",
      "t_acc:  0.7198248905565978 , v_acc:  0.6875\n",
      "t_recall:  0.5511650922177238 , v_recall:  0.5187145267679092\n",
      "t_prec:  0.7380340642003929 , v_prec:  0.5619918699186992\n",
      "t_f:  0.5177951178532771 , v_f:  0.4811042615920665\n",
      "////////\n"
     ]
    },
    {
     "name": "stderr",
     "output_type": "stream",
     "text": [
      "\r",
      "Iterations:  55%|██████████████████               | 164/300 [04:12<03:18,  1.46s/it]"
     ]
    },
    {
     "name": "stdout",
     "output_type": "stream",
     "text": [
      "Epoch  163 , loss 0.39382642686367036\n",
      "Epoch  164 , loss 0.3904971569776535\n"
     ]
    },
    {
     "name": "stderr",
     "output_type": "stream",
     "text": [
      "\r",
      "Iterations:  55%|██████████████████▏              | 165/300 [04:14<03:37,  1.61s/it]"
     ]
    },
    {
     "name": "stdout",
     "output_type": "stream",
     "text": [
      "Epoch:  164\n",
      "t_loss:  0.3904971569776535 , v_loss:  0.6936840862035751\n",
      "t_acc:  0.7288930581613509 , v_acc:  0.6875\n",
      "t_recall:  0.5637336932073774 , v_recall:  0.5187145267679092\n",
      "t_prec:  0.7744579902724353 , v_prec:  0.5619918699186992\n",
      "t_f:  0.537577249996039 , v_f:  0.4811042615920665\n",
      "////////\n"
     ]
    },
    {
     "name": "stderr",
     "output_type": "stream",
     "text": [
      "\r",
      "Iterations:  55%|██████████████████▎              | 166/300 [04:15<03:16,  1.47s/it]"
     ]
    },
    {
     "name": "stdout",
     "output_type": "stream",
     "text": [
      "Epoch  165 , loss 0.39104930639266966\n",
      "Epoch  166 , loss 0.39197017848491666\n"
     ]
    },
    {
     "name": "stderr",
     "output_type": "stream",
     "text": [
      "\r",
      "Iterations:  56%|██████████████████▎              | 167/300 [04:17<03:27,  1.56s/it]"
     ]
    },
    {
     "name": "stdout",
     "output_type": "stream",
     "text": [
      "Epoch:  166\n",
      "t_loss:  0.39197017848491666 , v_loss:  0.6918820093075434\n",
      "t_acc:  0.7245153220762977 , v_acc:  0.6875\n",
      "t_recall:  0.5614484930274404 , v_recall:  0.5187145267679092\n",
      "t_prec:  0.7377318682260207 , v_prec:  0.5619918699186992\n",
      "t_f:  0.5364405252857308 , v_f:  0.4811042615920665\n",
      "////////\n"
     ]
    },
    {
     "name": "stderr",
     "output_type": "stream",
     "text": [
      "\r",
      "Iterations:  56%|██████████████████▍              | 168/300 [04:18<03:21,  1.53s/it]"
     ]
    },
    {
     "name": "stdout",
     "output_type": "stream",
     "text": [
      "Epoch  167 , loss 0.3939420109987259\n",
      "Epoch  168 , loss 0.3877206081151962\n"
     ]
    },
    {
     "name": "stderr",
     "output_type": "stream",
     "text": [
      "\r",
      "Iterations:  56%|██████████████████▌              | 169/300 [04:20<03:33,  1.63s/it]"
     ]
    },
    {
     "name": "stdout",
     "output_type": "stream",
     "text": [
      "Epoch:  168\n",
      "t_loss:  0.3877206081151962 , v_loss:  0.6920247226953506\n",
      "t_acc:  0.7279549718574109 , v_acc:  0.6875\n",
      "t_recall:  0.5627710301394512 , v_recall:  0.5187145267679092\n",
      "t_prec:  0.7687824614709874 , v_prec:  0.5619918699186992\n",
      "t_f:  0.5362952553204396 , v_f:  0.4811042615920665\n",
      "////////\n"
     ]
    },
    {
     "name": "stderr",
     "output_type": "stream",
     "text": [
      "\r",
      "Iterations:  57%|██████████████████▋              | 170/300 [04:21<03:09,  1.46s/it]"
     ]
    },
    {
     "name": "stdout",
     "output_type": "stream",
     "text": [
      "Epoch  169 , loss 0.39406216323375703\n",
      "Epoch  170 , loss 0.3915322518348694\n"
     ]
    },
    {
     "name": "stderr",
     "output_type": "stream",
     "text": [
      "\r",
      "Iterations:  57%|██████████████████▊              | 171/300 [04:23<03:24,  1.59s/it]"
     ]
    },
    {
     "name": "stdout",
     "output_type": "stream",
     "text": [
      "Epoch:  170\n",
      "t_loss:  0.3915322518348694 , v_loss:  0.6985174169143041\n",
      "t_acc:  0.7301438398999375 , v_acc:  0.6761363636363636\n",
      "t_recall:  0.5660728744939271 , v_recall:  0.5105844454670962\n",
      "t_prec:  0.7751502482362164 , v_prec:  0.5304232804232805\n",
      "t_f:  0.5415950860736043 , v_f:  0.47462686567164186\n",
      "////////\n"
     ]
    },
    {
     "name": "stderr",
     "output_type": "stream",
     "text": [
      "\r",
      "Iterations:  57%|██████████████████▉              | 172/300 [04:25<03:11,  1.49s/it]"
     ]
    },
    {
     "name": "stdout",
     "output_type": "stream",
     "text": [
      "Epoch  171 , loss 0.38751296162605287\n",
      "Epoch  172 , loss 0.38545716166496274\n"
     ]
    },
    {
     "name": "stderr",
     "output_type": "stream",
     "text": [
      "\r",
      "Iterations:  58%|███████████████████              | 173/300 [04:27<03:29,  1.65s/it]"
     ]
    },
    {
     "name": "stdout",
     "output_type": "stream",
     "text": [
      "Epoch:  172\n",
      "t_loss:  0.38545716166496274 , v_loss:  0.699457436800003\n",
      "t_acc:  0.7298311444652908 , v_acc:  0.6818181818181818\n",
      "t_recall:  0.5669995501574449 , v_recall:  0.5146494861175027\n",
      "t_prec:  0.7659267832192164 , v_prec:  0.5450684285040114\n",
      "t_f:  0.5438548297630682 , v_f:  0.47785547785547783\n",
      "////////\n"
     ]
    },
    {
     "name": "stderr",
     "output_type": "stream",
     "text": [
      "\r",
      "Iterations:  58%|███████████████████▏             | 174/300 [04:28<03:09,  1.50s/it]"
     ]
    },
    {
     "name": "stdout",
     "output_type": "stream",
     "text": [
      "Epoch  173 , loss 0.38993452191352845\n",
      "Epoch  174 , loss 0.3904154109954834\n"
     ]
    },
    {
     "name": "stderr",
     "output_type": "stream",
     "text": [
      "\r",
      "Iterations:  58%|███████████████████▎             | 175/300 [04:30<03:18,  1.59s/it]"
     ]
    },
    {
     "name": "stdout",
     "output_type": "stream",
     "text": [
      "Epoch:  174\n",
      "t_loss:  0.3904154109954834 , v_loss:  0.698045939207077\n",
      "t_acc:  0.7198248905565978 , v_acc:  0.6761363636363636\n",
      "t_recall:  0.5534682860998651 , v_recall:  0.5105844454670962\n",
      "t_prec:  0.7263885009015415 , v_prec:  0.5304232804232805\n",
      "t_f:  0.5230907706155231 , v_f:  0.47462686567164186\n",
      "////////\n"
     ]
    },
    {
     "name": "stderr",
     "output_type": "stream",
     "text": [
      "\r",
      "Iterations:  59%|███████████████████▎             | 176/300 [04:31<02:59,  1.45s/it]"
     ]
    },
    {
     "name": "stdout",
     "output_type": "stream",
     "text": [
      "Epoch  175 , loss 0.39350619494915007\n",
      "Epoch  176 , loss 0.3873814296722412\n"
     ]
    },
    {
     "name": "stderr",
     "output_type": "stream",
     "text": [
      "\r",
      "Iterations:  59%|███████████████████▍             | 177/300 [04:33<03:15,  1.59s/it]"
     ]
    },
    {
     "name": "stdout",
     "output_type": "stream",
     "text": [
      "Epoch:  176\n",
      "t_loss:  0.3873814296722412 , v_loss:  0.6972256650527319\n",
      "t_acc:  0.7273295809881176 , v_acc:  0.6761363636363636\n",
      "t_recall:  0.5660638776428251 , v_recall:  0.5105844454670962\n",
      "t_prec:  0.7445221445221445 , v_prec:  0.5304232804232805\n",
      "t_f:  0.5439214185482842 , v_f:  0.47462686567164186\n",
      "////////\n"
     ]
    },
    {
     "name": "stderr",
     "output_type": "stream",
     "text": [
      "\r",
      "Iterations:  59%|███████████████████▌             | 178/300 [04:34<03:01,  1.49s/it]"
     ]
    },
    {
     "name": "stdout",
     "output_type": "stream",
     "text": [
      "Epoch  177 , loss 0.3931871062517166\n",
      "Epoch  178 , loss 0.39119850158691405\n"
     ]
    },
    {
     "name": "stderr",
     "output_type": "stream",
     "text": [
      "\r",
      "Iterations:  60%|███████████████████▋             | 179/300 [04:36<03:19,  1.65s/it]"
     ]
    },
    {
     "name": "stdout",
     "output_type": "stream",
     "text": [
      "Epoch:  178\n",
      "t_loss:  0.39119850158691405 , v_loss:  0.70164026816686\n",
      "t_acc:  0.7270168855534709 , v_acc:  0.6818181818181818\n",
      "t_recall:  0.5641115609536662 , v_recall:  0.5146494861175027\n",
      "t_prec:  0.7505643951415135 , v_prec:  0.5450684285040114\n",
      "t_f:  0.5400329803055612 , v_f:  0.47785547785547783\n",
      "////////\n"
     ]
    },
    {
     "name": "stderr",
     "output_type": "stream",
     "text": [
      "\r",
      "Iterations:  60%|███████████████████▊             | 180/300 [04:37<03:05,  1.55s/it]"
     ]
    },
    {
     "name": "stdout",
     "output_type": "stream",
     "text": [
      "Epoch  179 , loss 0.38732747197151185\n",
      "Epoch  180 , loss 0.39045228123664855\n"
     ]
    },
    {
     "name": "stderr",
     "output_type": "stream",
     "text": [
      "\r",
      "Iterations:  60%|███████████████████▉             | 181/300 [04:39<03:15,  1.64s/it]"
     ]
    },
    {
     "name": "stdout",
     "output_type": "stream",
     "text": [
      "Epoch:  180\n",
      "t_loss:  0.39045228123664855 , v_loss:  0.688787097732226\n",
      "t_acc:  0.7270168855534709 , v_acc:  0.6761363636363636\n",
      "t_recall:  0.5620962663067925 , v_recall:  0.5105844454670962\n",
      "t_prec:  0.7614597093791282 , v_prec:  0.5304232804232805\n",
      "t_f:  0.5356502691523095 , v_f:  0.47462686567164186\n",
      "////////\n"
     ]
    },
    {
     "name": "stderr",
     "output_type": "stream",
     "text": [
      "\r",
      "Iterations:  61%|████████████████████             | 182/300 [04:40<03:00,  1.53s/it]"
     ]
    },
    {
     "name": "stdout",
     "output_type": "stream",
     "text": [
      "Epoch  181 , loss 0.3906069326400757\n",
      "Epoch  182 , loss 0.38900151669979094\n"
     ]
    },
    {
     "name": "stderr",
     "output_type": "stream",
     "text": [
      "\r",
      "Iterations:  61%|████████████████████▏            | 183/300 [04:42<03:14,  1.66s/it]"
     ]
    },
    {
     "name": "stdout",
     "output_type": "stream",
     "text": [
      "Epoch:  182\n",
      "t_loss:  0.38900151669979094 , v_loss:  0.6983649482329687\n",
      "t_acc:  0.725140712945591 , v_acc:  0.6761363636363636\n",
      "t_recall:  0.5616104363472785 , v_recall:  0.5105844454670962\n",
      "t_prec:  0.7432739674118984 , v_prec:  0.5304232804232805\n",
      "t_f:  0.5362482333235393 , v_f:  0.47462686567164186\n",
      "////////\n"
     ]
    },
    {
     "name": "stderr",
     "output_type": "stream",
     "text": [
      "\r",
      "Iterations:  61%|████████████████████▏            | 184/300 [04:43<02:52,  1.49s/it]"
     ]
    },
    {
     "name": "stdout",
     "output_type": "stream",
     "text": [
      "Epoch  183 , loss 0.3922097182273865\n",
      "Epoch  184 , loss 0.38404380112886427\n"
     ]
    },
    {
     "name": "stderr",
     "output_type": "stream",
     "text": [
      "\r",
      "Iterations:  62%|████████████████████▎            | 185/300 [04:45<03:04,  1.61s/it]"
     ]
    },
    {
     "name": "stdout",
     "output_type": "stream",
     "text": [
      "Epoch:  184\n",
      "t_loss:  0.38404380112886427 , v_loss:  0.6951706310113271\n",
      "t_acc:  0.7329580988117573 , v_acc:  0.6818181818181818\n",
      "t_recall:  0.574718848403059 , v_recall:  0.5200184077312472\n",
      "t_prec:  0.7592400204257717 , v_prec:  0.5540372670807454\n",
      "t_f:  0.5574317842401113 , v_f:  0.4896437448218724\n",
      "////////\n"
     ]
    },
    {
     "name": "stderr",
     "output_type": "stream",
     "text": [
      "\r",
      "Iterations:  62%|████████████████████▍            | 186/300 [04:47<02:52,  1.51s/it]"
     ]
    },
    {
     "name": "stdout",
     "output_type": "stream",
     "text": [
      "Epoch  185 , loss 0.39036536574363706\n",
      "Epoch  186 , loss 0.3885906672477722\n"
     ]
    },
    {
     "name": "stderr",
     "output_type": "stream",
     "text": [
      "\r",
      "Iterations:  62%|████████████████████▌            | 187/300 [04:48<03:04,  1.63s/it]"
     ]
    },
    {
     "name": "stdout",
     "output_type": "stream",
     "text": [
      "Epoch:  186\n",
      "t_loss:  0.3885906672477722 , v_loss:  0.6964623928070068\n",
      "t_acc:  0.7301438398999375 , v_acc:  0.6818181818181818\n",
      "t_recall:  0.5701034637876743 , v_recall:  0.5200184077312472\n",
      "t_prec:  0.7534089392928619 , v_prec:  0.5540372670807454\n",
      "t_f:  0.5501189549568641 , v_f:  0.4896437448218724\n",
      "////////\n"
     ]
    },
    {
     "name": "stderr",
     "output_type": "stream",
     "text": [
      "\r",
      "Iterations:  63%|████████████████████▋            | 188/300 [04:50<02:53,  1.55s/it]"
     ]
    },
    {
     "name": "stdout",
     "output_type": "stream",
     "text": [
      "Epoch  187 , loss 0.38747185230255127\n",
      "Epoch  188 , loss 0.38551930665969847\n"
     ]
    },
    {
     "name": "stderr",
     "output_type": "stream",
     "text": [
      "\r",
      "Iterations:  63%|████████████████████▊            | 189/300 [04:52<03:06,  1.68s/it]"
     ]
    },
    {
     "name": "stdout",
     "output_type": "stream",
     "text": [
      "Epoch:  188\n",
      "t_loss:  0.38551930665969847 , v_loss:  0.6956702272097269\n",
      "t_acc:  0.733270794246404 , v_acc:  0.6818181818181818\n",
      "t_recall:  0.5740800719748088 , v_recall:  0.5200184077312472\n",
      "t_prec:  0.7653091911327314 , v_prec:  0.5540372670807454\n",
      "t_f:  0.5559174267345167 , v_f:  0.4896437448218724\n",
      "////////\n"
     ]
    },
    {
     "name": "stderr",
     "output_type": "stream",
     "text": [
      "\r",
      "Iterations:  63%|████████████████████▉            | 190/300 [04:53<02:46,  1.51s/it]"
     ]
    },
    {
     "name": "stdout",
     "output_type": "stream",
     "text": [
      "Epoch  189 , loss 0.3848353999853134\n",
      "Epoch  190 , loss 0.3898726844787598\n"
     ]
    },
    {
     "name": "stderr",
     "output_type": "stream",
     "text": [
      "\r",
      "Iterations:  64%|█████████████████████            | 191/300 [04:55<03:03,  1.68s/it]"
     ]
    },
    {
     "name": "stdout",
     "output_type": "stream",
     "text": [
      "Epoch:  190\n",
      "t_loss:  0.3898726844787598 , v_loss:  0.6961586823066076\n",
      "t_acc:  0.7329580988117573 , v_acc:  0.6818181818181818\n",
      "t_recall:  0.5750067476383266 , v_recall:  0.5200184077312472\n",
      "t_prec:  0.757944774909283 , v_prec:  0.5540372670807454\n",
      "t_f:  0.5580084996747078 , v_f:  0.4896437448218724\n",
      "////////\n"
     ]
    },
    {
     "name": "stderr",
     "output_type": "stream",
     "text": [
      "\r",
      "Iterations:  64%|█████████████████████            | 192/300 [04:56<02:48,  1.56s/it]"
     ]
    },
    {
     "name": "stdout",
     "output_type": "stream",
     "text": [
      "Epoch  191 , loss 0.3875652837753296\n",
      "Epoch  192 , loss 0.38183886408805845\n"
     ]
    },
    {
     "name": "stderr",
     "output_type": "stream",
     "text": [
      "\r",
      "Iterations:  64%|█████████████████████▏           | 193/300 [04:58<03:04,  1.72s/it]"
     ]
    },
    {
     "name": "stdout",
     "output_type": "stream",
     "text": [
      "Epoch:  192\n",
      "t_loss:  0.38183886408805845 , v_loss:  0.693813294172287\n",
      "t_acc:  0.7357723577235772 , v_acc:  0.6875\n",
      "t_recall:  0.5767431399010347 , v_recall:  0.5294523699953981\n",
      "t_prec:  0.7774099399599733 , v_prec:  0.575\n",
      "t_f:  0.5595023371246236 , v_f:  0.5042761304859937\n",
      "////////\n"
     ]
    },
    {
     "name": "stderr",
     "output_type": "stream",
     "text": [
      "\r",
      "Iterations:  65%|█████████████████████▎           | 194/300 [05:00<02:51,  1.62s/it]"
     ]
    },
    {
     "name": "stdout",
     "output_type": "stream",
     "text": [
      "Epoch  193 , loss 0.38427812725305555\n",
      "Epoch  194 , loss 0.38678840577602386\n"
     ]
    },
    {
     "name": "stderr",
     "output_type": "stream",
     "text": [
      "\r",
      "Iterations:  65%|█████████████████████▍           | 195/300 [05:02<02:59,  1.71s/it]"
     ]
    },
    {
     "name": "stdout",
     "output_type": "stream",
     "text": [
      "Epoch:  194\n",
      "t_loss:  0.38678840577602386 , v_loss:  0.6968879153331121\n",
      "t_acc:  0.7363977485928705 , v_acc:  0.6875\n",
      "t_recall:  0.5800719748088169 , v_recall:  0.5294523699953981\n",
      "t_prec:  0.7671479588695278 , v_prec:  0.575\n",
      "t_f:  0.5656780640609849 , v_f:  0.5042761304859937\n",
      "////////\n"
     ]
    },
    {
     "name": "stderr",
     "output_type": "stream",
     "text": [
      "\r",
      "Iterations:  65%|█████████████████████▌           | 196/300 [05:03<02:48,  1.62s/it]"
     ]
    },
    {
     "name": "stdout",
     "output_type": "stream",
     "text": [
      "Epoch  195 , loss 0.3881568074226379\n",
      "Epoch  196 , loss 0.38294386357069016\n"
     ]
    },
    {
     "name": "stderr",
     "output_type": "stream",
     "text": [
      "\r",
      "Iterations:  66%|█████████████████████▋           | 197/300 [05:05<03:09,  1.84s/it]"
     ]
    },
    {
     "name": "stdout",
     "output_type": "stream",
     "text": [
      "Epoch:  196\n",
      "t_loss:  0.38294386357069016 , v_loss:  0.6956113874912262\n",
      "t_acc:  0.733270794246404 , v_acc:  0.6875\n",
      "t_recall:  0.5729284750337382 , v_recall:  0.5294523699953981\n",
      "t_prec:  0.7712311419825113 , v_prec:  0.575\n",
      "t_f:  0.553562693411177 , v_f:  0.5042761304859937\n",
      "////////\n"
     ]
    },
    {
     "name": "stderr",
     "output_type": "stream",
     "text": [
      "\r",
      "Iterations:  66%|█████████████████████▊           | 198/300 [05:07<02:59,  1.76s/it]"
     ]
    },
    {
     "name": "stdout",
     "output_type": "stream",
     "text": [
      "Epoch  197 , loss 0.3859421080350876\n",
      "Epoch  198 , loss 0.3902200561761856\n"
     ]
    },
    {
     "name": "stderr",
     "output_type": "stream",
     "text": [
      "\r",
      "Iterations:  66%|█████████████████████▉           | 199/300 [05:09<03:04,  1.83s/it]"
     ]
    },
    {
     "name": "stdout",
     "output_type": "stream",
     "text": [
      "Epoch:  198\n",
      "t_loss:  0.3902200561761856 , v_loss:  0.6936238606770834\n",
      "t_acc:  0.7292057535959975 , v_acc:  0.6875\n",
      "t_recall:  0.5711560953666217 , v_recall:  0.5294523699953981\n",
      "t_prec:  0.7404719768611278 , v_prec:  0.575\n",
      "t_f:  0.5529611921603063 , v_f:  0.5042761304859937\n",
      "////////\n"
     ]
    },
    {
     "name": "stderr",
     "output_type": "stream",
     "text": [
      "\r",
      "Iterations:  67%|██████████████████████           | 200/300 [05:10<02:47,  1.67s/it]"
     ]
    },
    {
     "name": "stdout",
     "output_type": "stream",
     "text": [
      "Epoch  199 , loss 0.3790764731168747\n",
      "Epoch  200 , loss 0.3853629779815674\n"
     ]
    },
    {
     "name": "stderr",
     "output_type": "stream",
     "text": [
      "\r",
      "Iterations:  67%|██████████████████████           | 201/300 [05:12<02:58,  1.80s/it]"
     ]
    },
    {
     "name": "stdout",
     "output_type": "stream",
     "text": [
      "Epoch:  200\n",
      "t_loss:  0.3853629779815674 , v_loss:  0.7023967653512955\n",
      "t_acc:  0.7335834896810507 , v_acc:  0.6931818181818182\n",
      "t_recall:  0.5780476833108412 , v_recall:  0.5335174106458046\n",
      "t_prec:  0.7508277519694788 , v_prec:  0.5904761904761905\n",
      "t_f:  0.5635729694508639 , v_f:  0.507870753935377\n",
      "////////\n"
     ]
    },
    {
     "name": "stderr",
     "output_type": "stream",
     "text": [
      "\r",
      "Iterations:  67%|██████████████████████▏          | 202/300 [05:14<02:41,  1.65s/it]"
     ]
    },
    {
     "name": "stdout",
     "output_type": "stream",
     "text": [
      "Epoch  201 , loss 0.38259861171245574\n",
      "Epoch  202 , loss 0.38506087839603426\n"
     ]
    },
    {
     "name": "stderr",
     "output_type": "stream",
     "text": [
      "\r",
      "Iterations:  68%|██████████████████████▎          | 203/300 [05:16<02:48,  1.74s/it]"
     ]
    },
    {
     "name": "stdout",
     "output_type": "stream",
     "text": [
      "Epoch:  202\n",
      "t_loss:  0.38506087839603426 , v_loss:  0.6992891430854797\n",
      "t_acc:  0.7320200125078173 , v_acc:  0.6875\n",
      "t_recall:  0.5751956815114709 , v_recall:  0.5294523699953981\n",
      "t_prec:  0.7487651871298614 , v_prec:  0.575\n",
      "t_f:  0.5590345918350108 , v_f:  0.5042761304859937\n",
      "////////\n"
     ]
    },
    {
     "name": "stderr",
     "output_type": "stream",
     "text": [
      "\r",
      "Iterations:  68%|██████████████████████▍          | 204/300 [05:17<02:42,  1.70s/it]"
     ]
    },
    {
     "name": "stdout",
     "output_type": "stream",
     "text": [
      "Epoch  203 , loss 0.3847721892595291\n",
      "Epoch  204 , loss 0.3845736810564995\n"
     ]
    },
    {
     "name": "stderr",
     "output_type": "stream",
     "text": [
      "\r",
      "Iterations:  68%|██████████████████████▌          | 205/300 [05:19<02:48,  1.77s/it]"
     ]
    },
    {
     "name": "stdout",
     "output_type": "stream",
     "text": [
      "Epoch:  204\n",
      "t_loss:  0.3845736810564995 , v_loss:  0.6994248578945795\n",
      "t_acc:  0.7288930581613509 , v_acc:  0.6875\n",
      "t_recall:  0.5700674763832658 , v_recall:  0.5294523699953981\n",
      "t_prec:  0.7420252438324728 , v_prec:  0.575\n",
      "t_f:  0.5509878081662695 , v_f:  0.5042761304859937\n",
      "////////\n"
     ]
    },
    {
     "name": "stderr",
     "output_type": "stream",
     "text": [
      "\r",
      "Iterations:  69%|██████████████████████▋          | 206/300 [05:21<02:34,  1.64s/it]"
     ]
    },
    {
     "name": "stdout",
     "output_type": "stream",
     "text": [
      "Epoch  205 , loss 0.3798229688405991\n",
      "Epoch  206 , loss 0.3806787037849426\n"
     ]
    },
    {
     "name": "stderr",
     "output_type": "stream",
     "text": [
      "\r",
      "Iterations:  69%|██████████████████████▊          | 207/300 [05:23<02:53,  1.87s/it]"
     ]
    },
    {
     "name": "stdout",
     "output_type": "stream",
     "text": [
      "Epoch:  206\n",
      "t_loss:  0.3806787037849426 , v_loss:  0.6985006729761759\n",
      "t_acc:  0.7351469668542839 , v_acc:  0.6875\n",
      "t_recall:  0.5803238866396762 , v_recall:  0.5294523699953981\n",
      "t_prec:  0.7550333997421774 , v_prec:  0.575\n",
      "t_f:  0.5669642079213065 , v_f:  0.5042761304859937\n",
      "////////\n"
     ]
    },
    {
     "name": "stderr",
     "output_type": "stream",
     "text": [
      "\r",
      "Iterations:  69%|██████████████████████▉          | 208/300 [05:24<02:31,  1.65s/it]"
     ]
    },
    {
     "name": "stdout",
     "output_type": "stream",
     "text": [
      "Epoch  207 , loss 0.3814551067352295\n",
      "Epoch  208 , loss 0.382712729871273\n"
     ]
    },
    {
     "name": "stderr",
     "output_type": "stream",
     "text": [
      "\r",
      "Iterations:  70%|██████████████████████▉          | 209/300 [05:26<02:43,  1.80s/it]"
     ]
    },
    {
     "name": "stdout",
     "output_type": "stream",
     "text": [
      "Epoch:  208\n",
      "t_loss:  0.382712729871273 , v_loss:  0.6975027173757553\n",
      "t_acc:  0.734208880550344 , v_acc:  0.6875\n",
      "t_recall:  0.575906432748538 , v_recall:  0.5294523699953981\n",
      "t_prec:  0.7657271330900915 , v_prec:  0.575\n",
      "t_f:  0.558928616629574 , v_f:  0.5042761304859937\n",
      "////////\n"
     ]
    },
    {
     "name": "stderr",
     "output_type": "stream",
     "text": [
      "\r",
      "Iterations:  70%|███████████████████████          | 210/300 [05:28<02:30,  1.67s/it]"
     ]
    },
    {
     "name": "stdout",
     "output_type": "stream",
     "text": [
      "Epoch  209 , loss 0.3804059052467346\n",
      "Epoch  210 , loss 0.38223061501979827\n"
     ]
    },
    {
     "name": "stderr",
     "output_type": "stream",
     "text": [
      "\r",
      "Iterations:  70%|███████████████████████▏         | 211/300 [05:30<02:37,  1.76s/it]"
     ]
    },
    {
     "name": "stdout",
     "output_type": "stream",
     "text": [
      "Epoch:  210\n",
      "t_loss:  0.38223061501979827 , v_loss:  0.6955628295739492\n",
      "t_acc:  0.7348342714196373 , v_acc:  0.6875\n",
      "t_recall:  0.5780836707152497 , v_recall:  0.5294523699953981\n",
      "t_prec:  0.7616270171918309 , v_prec:  0.575\n",
      "t_f:  0.5628195141579271 , v_f:  0.5042761304859937\n",
      "////////\n"
     ]
    },
    {
     "name": "stderr",
     "output_type": "stream",
     "text": [
      "\r",
      "Iterations:  71%|███████████████████████▎         | 212/300 [05:31<02:24,  1.64s/it]"
     ]
    },
    {
     "name": "stdout",
     "output_type": "stream",
     "text": [
      "Epoch  211 , loss 0.37474013328552247\n",
      "Epoch  212 , loss 0.3792730149626732\n"
     ]
    },
    {
     "name": "stderr",
     "output_type": "stream",
     "text": [
      "\r",
      "Iterations:  71%|███████████████████████▍         | 213/300 [05:33<02:32,  1.75s/it]"
     ]
    },
    {
     "name": "stdout",
     "output_type": "stream",
     "text": [
      "Epoch:  212\n",
      "t_loss:  0.3792730149626732 , v_loss:  0.6965587834517161\n",
      "t_acc:  0.7357723577235772 , v_acc:  0.6875\n",
      "t_recall:  0.5804858299595141 , v_recall:  0.5294523699953981\n",
      "t_prec:  0.7597205183482414 , v_prec:  0.575\n",
      "t_f:  0.5668816249532191 , v_f:  0.5042761304859937\n",
      "////////\n"
     ]
    },
    {
     "name": "stderr",
     "output_type": "stream",
     "text": [
      "\r",
      "Iterations:  71%|███████████████████████▌         | 214/300 [05:34<02:21,  1.64s/it]"
     ]
    },
    {
     "name": "stdout",
     "output_type": "stream",
     "text": [
      "Epoch  213 , loss 0.38128973960876467\n",
      "Epoch  214 , loss 0.378467019200325\n"
     ]
    },
    {
     "name": "stderr",
     "output_type": "stream",
     "text": [
      "\r",
      "Iterations:  72%|███████████████████████▋         | 215/300 [05:36<02:32,  1.80s/it]"
     ]
    },
    {
     "name": "stdout",
     "output_type": "stream",
     "text": [
      "Epoch:  214\n",
      "t_loss:  0.378467019200325 , v_loss:  0.6999923487504324\n",
      "t_acc:  0.7407754846779238 , v_acc:  0.6875\n",
      "t_recall:  0.5884030589293747 , v_recall:  0.5294523699953981\n",
      "t_prec:  0.7698994252873563 , v_prec:  0.575\n",
      "t_f:  0.5788438763668771 , v_f:  0.5042761304859937\n",
      "////////\n"
     ]
    },
    {
     "name": "stderr",
     "output_type": "stream",
     "text": [
      "\r",
      "Iterations:  72%|███████████████████████▊         | 216/300 [05:38<02:19,  1.66s/it]"
     ]
    },
    {
     "name": "stdout",
     "output_type": "stream",
     "text": [
      "Epoch  215 , loss 0.3836493167281151\n",
      "Epoch  216 , loss 0.38166528671979905\n"
     ]
    },
    {
     "name": "stderr",
     "output_type": "stream",
     "text": [
      "\r",
      "Iterations:  72%|███████████████████████▊         | 217/300 [05:40<02:28,  1.79s/it]"
     ]
    },
    {
     "name": "stdout",
     "output_type": "stream",
     "text": [
      "Epoch:  216\n",
      "t_loss:  0.38166528671979905 , v_loss:  0.7050302674372991\n",
      "t_acc:  0.7335834896810507 , v_acc:  0.6875\n",
      "t_recall:  0.5783355825461088 , v_recall:  0.5294523699953981\n",
      "t_prec:  0.7497223860532636 , v_prec:  0.575\n",
      "t_f:  0.5641300953677777 , v_f:  0.5042761304859937\n",
      "////////\n"
     ]
    },
    {
     "name": "stderr",
     "output_type": "stream",
     "text": [
      "\r",
      "Iterations:  73%|███████████████████████▉         | 218/300 [05:41<02:15,  1.65s/it]"
     ]
    },
    {
     "name": "stdout",
     "output_type": "stream",
     "text": [
      "Epoch  217 , loss 0.3833958065509796\n",
      "Epoch  218 , loss 0.38066274017095564\n"
     ]
    },
    {
     "name": "stderr",
     "output_type": "stream",
     "text": [
      "\r",
      "Iterations:  73%|████████████████████████         | 219/300 [05:43<02:20,  1.73s/it]"
     ]
    },
    {
     "name": "stdout",
     "output_type": "stream",
     "text": [
      "Epoch:  218\n",
      "t_loss:  0.38066274017095564 , v_loss:  0.7035590708255768\n",
      "t_acc:  0.7398373983739838 , v_acc:  0.6875\n",
      "t_recall:  0.5851372019793073 , v_recall:  0.5294523699953981\n",
      "t_prec:  0.7758582800762417 , v_prec:  0.575\n",
      "t_f:  0.5732717474980753 , v_f:  0.5042761304859937\n",
      "////////\n"
     ]
    },
    {
     "name": "stderr",
     "output_type": "stream",
     "text": [
      "\r",
      "Iterations:  73%|████████████████████████▏        | 220/300 [05:44<02:07,  1.59s/it]"
     ]
    },
    {
     "name": "stdout",
     "output_type": "stream",
     "text": [
      "Epoch  219 , loss 0.37852489233016967\n",
      "Epoch  220 , loss 0.3827159637212753\n"
     ]
    },
    {
     "name": "stderr",
     "output_type": "stream",
     "text": [
      "\r",
      "Iterations:  74%|████████████████████████▎        | 221/300 [05:46<02:14,  1.70s/it]"
     ]
    },
    {
     "name": "stdout",
     "output_type": "stream",
     "text": [
      "Epoch:  220\n",
      "t_loss:  0.3827159637212753 , v_loss:  0.7035535722970963\n",
      "t_acc:  0.7385866166353972 , v_acc:  0.6875\n",
      "t_recall:  0.5859649122807018 , v_recall:  0.5294523699953981\n",
      "t_prec:  0.7614549904088617 , v_prec:  0.575\n",
      "t_f:  0.5755550193050194 , v_f:  0.5042761304859937\n",
      "////////\n"
     ]
    },
    {
     "name": "stderr",
     "output_type": "stream",
     "text": [
      "\r",
      "Iterations:  74%|████████████████████████▍        | 222/300 [05:48<02:01,  1.56s/it]"
     ]
    },
    {
     "name": "stdout",
     "output_type": "stream",
     "text": [
      "Epoch  221 , loss 0.37628825098276136\n",
      "Epoch  222 , loss 0.37517349928617477\n"
     ]
    },
    {
     "name": "stderr",
     "output_type": "stream",
     "text": [
      "\r",
      "Iterations:  74%|████████████████████████▌        | 223/300 [05:50<02:08,  1.67s/it]"
     ]
    },
    {
     "name": "stdout",
     "output_type": "stream",
     "text": [
      "Epoch:  222\n",
      "t_loss:  0.37517349928617477 , v_loss:  0.6995644023021063\n",
      "t_acc:  0.742338961851157 , v_acc:  0.6818181818181818\n",
      "t_recall:  0.5889518668466037 , v_recall:  0.5253873293449915\n",
      "t_prec:  0.7812999269015447 , v_prec:  0.561228264890862\n",
      "t_f:  0.578991363030704 , v_f:  0.5007092198581561\n",
      "////////\n"
     ]
    },
    {
     "name": "stderr",
     "output_type": "stream",
     "text": [
      "\r",
      "Iterations:  75%|████████████████████████▋        | 224/300 [05:51<02:04,  1.64s/it]"
     ]
    },
    {
     "name": "stdout",
     "output_type": "stream",
     "text": [
      "Epoch  223 , loss 0.3749731570482254\n",
      "Epoch  224 , loss 0.37525780975818634\n"
     ]
    },
    {
     "name": "stderr",
     "output_type": "stream",
     "text": [
      "\r",
      "Iterations:  75%|████████████████████████▊        | 225/300 [05:53<02:11,  1.75s/it]"
     ]
    },
    {
     "name": "stdout",
     "output_type": "stream",
     "text": [
      "Epoch:  224\n",
      "t_loss:  0.37525780975818634 , v_loss:  0.7000799079736074\n",
      "t_acc:  0.7398373983739838 , v_acc:  0.6875\n",
      "t_recall:  0.5860008996851103 , v_recall:  0.5294523699953981\n",
      "t_prec:  0.7719678366796668 , v_prec:  0.575\n",
      "t_f:  0.5749039005358564 , v_f:  0.5042761304859937\n",
      "////////\n"
     ]
    },
    {
     "name": "stderr",
     "output_type": "stream",
     "text": [
      "\r",
      "Iterations:  75%|████████████████████████▊        | 226/300 [05:54<02:01,  1.64s/it]"
     ]
    },
    {
     "name": "stdout",
     "output_type": "stream",
     "text": [
      "Epoch  225 , loss 0.3788809970021248\n",
      "Epoch  226 , loss 0.37345445990562437\n"
     ]
    },
    {
     "name": "stderr",
     "output_type": "stream",
     "text": [
      "\r",
      "Iterations:  76%|████████████████████████▉        | 227/300 [05:57<02:11,  1.80s/it]"
     ]
    },
    {
     "name": "stdout",
     "output_type": "stream",
     "text": [
      "Epoch:  226\n",
      "t_loss:  0.37345445990562437 , v_loss:  0.7006333221991857\n",
      "t_acc:  0.739524702939337 , v_acc:  0.6875\n",
      "t_recall:  0.5906702654071074 , v_recall:  0.5294523699953981\n",
      "t_prec:  0.7519784283355044 , v_prec:  0.575\n",
      "t_f:  0.5835882173179384 , v_f:  0.5042761304859937\n",
      "////////\n"
     ]
    },
    {
     "name": "stderr",
     "output_type": "stream",
     "text": [
      "\r",
      "Iterations:  76%|█████████████████████████        | 228/300 [05:58<01:54,  1.60s/it]"
     ]
    },
    {
     "name": "stdout",
     "output_type": "stream",
     "text": [
      "Epoch  227 , loss 0.37355435371398926\n",
      "Epoch  228 , loss 0.3731031250953674\n"
     ]
    },
    {
     "name": "stderr",
     "output_type": "stream",
     "text": [
      "\r",
      "Iterations:  76%|█████████████████████████▏       | 229/300 [06:00<02:02,  1.72s/it]"
     ]
    },
    {
     "name": "stdout",
     "output_type": "stream",
     "text": [
      "Epoch:  228\n",
      "t_loss:  0.3731031250953674 , v_loss:  0.7061289350191752\n",
      "t_acc:  0.7401500938086304 , v_acc:  0.6875\n",
      "t_recall:  0.5873774179037337 , v_recall:  0.5294523699953981\n",
      "t_prec:  0.7688280717692483 , v_prec:  0.575\n",
      "t_f:  0.5772949138210897 , v_f:  0.5042761304859937\n",
      "////////\n"
     ]
    },
    {
     "name": "stderr",
     "output_type": "stream",
     "text": [
      "\r",
      "Iterations:  77%|█████████████████████████▎       | 230/300 [06:01<01:49,  1.57s/it]"
     ]
    },
    {
     "name": "stdout",
     "output_type": "stream",
     "text": [
      "Epoch  229 , loss 0.3782228463888168\n",
      "Epoch  230 , loss 0.380371620953083\n"
     ]
    },
    {
     "name": "stderr",
     "output_type": "stream",
     "text": [
      "\r",
      "Iterations:  77%|█████████████████████████▍       | 231/300 [06:03<01:58,  1.72s/it]"
     ]
    },
    {
     "name": "stdout",
     "output_type": "stream",
     "text": [
      "Epoch:  230\n",
      "t_loss:  0.380371620953083 , v_loss:  0.7046610315640768\n",
      "t_acc:  0.741400875547217 , v_acc:  0.6818181818181818\n",
      "t_recall:  0.5911560953666217 , v_recall:  0.5253873293449915\n",
      "t_prec:  0.7642154869907566 , v_prec:  0.561228264890862\n",
      "t_f:  0.5835205046484048 , v_f:  0.5007092198581561\n",
      "////////\n"
     ]
    },
    {
     "name": "stderr",
     "output_type": "stream",
     "text": [
      "\r",
      "Iterations:  77%|█████████████████████████▌       | 232/300 [06:04<01:46,  1.56s/it]"
     ]
    },
    {
     "name": "stdout",
     "output_type": "stream",
     "text": [
      "Epoch  231 , loss 0.3723515099287033\n",
      "Epoch  232 , loss 0.37850796461105346\n"
     ]
    },
    {
     "name": "stderr",
     "output_type": "stream",
     "text": [
      "\r",
      "Iterations:  78%|█████████████████████████▋       | 233/300 [06:06<01:55,  1.72s/it]"
     ]
    },
    {
     "name": "stdout",
     "output_type": "stream",
     "text": [
      "Epoch:  232\n",
      "t_loss:  0.37850796461105346 , v_loss:  0.6993934710820516\n",
      "t_acc:  0.7398373983739838 , v_acc:  0.6818181818181818\n",
      "t_recall:  0.5897435897435898 , v_recall:  0.5253873293449915\n",
      "t_prec:  0.7573471528914303 , v_prec:  0.561228264890862\n",
      "t_f:  0.5817799551339442 , v_f:  0.5007092198581561\n",
      "////////\n"
     ]
    },
    {
     "name": "stderr",
     "output_type": "stream",
     "text": [
      "\r",
      "Iterations:  78%|█████████████████████████▋       | 234/300 [06:08<01:49,  1.66s/it]"
     ]
    },
    {
     "name": "stdout",
     "output_type": "stream",
     "text": [
      "Epoch  233 , loss 0.37772516310215\n",
      "Epoch  234 , loss 0.37473935186862944\n"
     ]
    },
    {
     "name": "stderr",
     "output_type": "stream",
     "text": [
      "\r",
      "Iterations:  78%|█████████████████████████▊       | 235/300 [06:10<02:02,  1.88s/it]"
     ]
    },
    {
     "name": "stdout",
     "output_type": "stream",
     "text": [
      "Epoch:  234\n",
      "t_loss:  0.37473935186862944 , v_loss:  0.7067206700642904\n",
      "t_acc:  0.7467166979362101 , v_acc:  0.6761363636363636\n",
      "t_recall:  0.5961313540260909 , v_recall:  0.5213222886945851\n",
      "t_prec:  0.7879914580122601 , v_prec:  0.5488748241912799\n",
      "t_f:  0.5897870372716447 , v_f:  0.4971680617512907\n",
      "////////\n"
     ]
    },
    {
     "name": "stderr",
     "output_type": "stream",
     "text": [
      "\r",
      "Iterations:  79%|█████████████████████████▉       | 236/300 [06:12<01:49,  1.71s/it]"
     ]
    },
    {
     "name": "stdout",
     "output_type": "stream",
     "text": [
      "Epoch  235 , loss 0.3733894312381744\n",
      "Epoch  236 , loss 0.37211111426353455\n"
     ]
    },
    {
     "name": "stderr",
     "output_type": "stream",
     "text": [
      "\r",
      "Iterations:  79%|██████████████████████████       | 237/300 [06:14<01:55,  1.83s/it]"
     ]
    },
    {
     "name": "stdout",
     "output_type": "stream",
     "text": [
      "Epoch:  236\n",
      "t_loss:  0.37211111426353455 , v_loss:  0.6981212149063746\n",
      "t_acc:  0.7407754846779238 , v_acc:  0.6761363636363636\n",
      "t_recall:  0.5904183535762483 , v_recall:  0.5213222886945851\n",
      "t_prec:  0.762077146097227 , v_prec:  0.5488748241912799\n",
      "t_f:  0.5825132990973731 , v_f:  0.4971680617512907\n",
      "////////\n"
     ]
    },
    {
     "name": "stderr",
     "output_type": "stream",
     "text": [
      "\r",
      "Iterations:  79%|██████████████████████████▏      | 238/300 [06:15<01:39,  1.61s/it]"
     ]
    },
    {
     "name": "stdout",
     "output_type": "stream",
     "text": [
      "Epoch  237 , loss 0.3727510359883308\n",
      "Epoch  238 , loss 0.37089791119098664\n"
     ]
    },
    {
     "name": "stderr",
     "output_type": "stream",
     "text": [
      "\r",
      "Iterations:  80%|██████████████████████████▎      | 239/300 [06:17<01:44,  1.72s/it]"
     ]
    },
    {
     "name": "stdout",
     "output_type": "stream",
     "text": [
      "Epoch:  238\n",
      "t_loss:  0.37089791119098664 , v_loss:  0.696742499868075\n",
      "t_acc:  0.7476547842401501 , v_acc:  0.6818181818181818\n",
      "t_recall:  0.6017004048582996 , v_recall:  0.5253873293449915\n",
      "t_prec:  0.7733238103740738 , v_prec:  0.561228264890862\n",
      "t_f:  0.5990323775964651 , v_f:  0.5007092198581561\n",
      "////////\n"
     ]
    },
    {
     "name": "stderr",
     "output_type": "stream",
     "text": [
      "\r",
      "Iterations:  80%|██████████████████████████▍      | 240/300 [06:18<01:39,  1.65s/it]"
     ]
    },
    {
     "name": "stdout",
     "output_type": "stream",
     "text": [
      "Epoch  239 , loss 0.3796746343374252\n",
      "Epoch  240 , loss 0.3716577711701393\n"
     ]
    },
    {
     "name": "stderr",
     "output_type": "stream",
     "text": [
      "\r",
      "Iterations:  80%|██████████████████████████▌      | 241/300 [06:20<01:44,  1.77s/it]"
     ]
    },
    {
     "name": "stdout",
     "output_type": "stream",
     "text": [
      "Epoch:  240\n",
      "t_loss:  0.3716577711701393 , v_loss:  0.7029216686884562\n",
      "t_acc:  0.7451532207629769 , v_acc:  0.6818181818181818\n",
      "t_recall:  0.5961583445793972 , v_recall:  0.5253873293449915\n",
      "t_prec:  0.7747666508463851 , v_prec:  0.561228264890862\n",
      "t_f:  0.5905782912573228 , v_f:  0.5007092198581561\n",
      "////////\n"
     ]
    },
    {
     "name": "stderr",
     "output_type": "stream",
     "text": [
      "\r",
      "Iterations:  81%|██████████████████████████▌      | 242/300 [06:22<01:33,  1.62s/it]"
     ]
    },
    {
     "name": "stdout",
     "output_type": "stream",
     "text": [
      "Epoch  241 , loss 0.37323219418525694\n",
      "Epoch  242 , loss 0.3760320669412613\n"
     ]
    },
    {
     "name": "stderr",
     "output_type": "stream",
     "text": [
      "\r",
      "Iterations:  81%|██████████████████████████▋      | 243/300 [06:24<01:38,  1.73s/it]"
     ]
    },
    {
     "name": "stdout",
     "output_type": "stream",
     "text": [
      "Epoch:  242\n",
      "t_loss:  0.3760320669412613 , v_loss:  0.7014265408118566\n",
      "t_acc:  0.739524702939337 , v_acc:  0.6875\n",
      "t_recall:  0.5900944669365722 , v_recall:  0.5294523699953981\n",
      "t_prec:  0.7538544938328098 , v_prec:  0.575\n",
      "t_f:  0.5825656022086964 , v_f:  0.5042761304859937\n",
      "////////\n"
     ]
    },
    {
     "name": "stderr",
     "output_type": "stream",
     "text": [
      "\r",
      "Iterations:  81%|██████████████████████████▊      | 244/300 [06:25<01:28,  1.57s/it]"
     ]
    },
    {
     "name": "stdout",
     "output_type": "stream",
     "text": [
      "Epoch  243 , loss 0.374903692305088\n",
      "Epoch  244 , loss 0.3710064786672592\n"
     ]
    },
    {
     "name": "stderr",
     "output_type": "stream",
     "text": [
      "\r",
      "Iterations:  82%|██████████████████████████▉      | 245/300 [06:27<01:38,  1.80s/it]"
     ]
    },
    {
     "name": "stdout",
     "output_type": "stream",
     "text": [
      "Epoch:  244\n",
      "t_loss:  0.3710064786672592 , v_loss:  0.7035541733105978\n",
      "t_acc:  0.743277048155097 , v_acc:  0.6761363636363636\n",
      "t_recall:  0.5930814215024741 , v_recall:  0.5213222886945851\n",
      "t_prec:  0.7717526589726182 , v_prec:  0.5488748241912799\n",
      "t_f:  0.5860284250523031 , v_f:  0.4971680617512907\n",
      "////////\n"
     ]
    },
    {
     "name": "stderr",
     "output_type": "stream",
     "text": [
      "\r",
      "Iterations:  82%|███████████████████████████      | 246/300 [06:28<01:27,  1.62s/it]"
     ]
    },
    {
     "name": "stdout",
     "output_type": "stream",
     "text": [
      "Epoch  245 , loss 0.37447665810585024\n",
      "Epoch  246 , loss 0.37074727058410645\n"
     ]
    },
    {
     "name": "stderr",
     "output_type": "stream",
     "text": [
      "\r",
      "Iterations:  82%|███████████████████████████▏     | 247/300 [06:30<01:31,  1.73s/it]"
     ]
    },
    {
     "name": "stdout",
     "output_type": "stream",
     "text": [
      "Epoch:  246\n",
      "t_loss:  0.37074727058410645 , v_loss:  0.7032208393017451\n",
      "t_acc:  0.7451532207629769 , v_acc:  0.6818181818181818\n",
      "t_recall:  0.601340530814215 , v_recall:  0.5253873293449915\n",
      "t_prec:  0.7572665429808287 , v_prec:  0.561228264890862\n",
      "t_f:  0.5993998305913947 , v_f:  0.5007092198581561\n",
      "////////\n"
     ]
    },
    {
     "name": "stderr",
     "output_type": "stream",
     "text": [
      "\r",
      "Iterations:  83%|███████████████████████████▎     | 248/300 [06:31<01:21,  1.56s/it]"
     ]
    },
    {
     "name": "stdout",
     "output_type": "stream",
     "text": [
      "Epoch  247 , loss 0.37651288747787476\n",
      "Epoch  248 , loss 0.36812062203884127\n"
     ]
    },
    {
     "name": "stderr",
     "output_type": "stream",
     "text": [
      "\r",
      "Iterations:  83%|███████████████████████████▍     | 249/300 [06:34<01:29,  1.76s/it]"
     ]
    },
    {
     "name": "stdout",
     "output_type": "stream",
     "text": [
      "Epoch:  248\n",
      "t_loss:  0.36812062203884127 , v_loss:  0.7080636769533157\n",
      "t_acc:  0.7510944340212633 , v_acc:  0.6875\n",
      "t_recall:  0.605901934322987 , v_recall:  0.5294523699953981\n",
      "t_prec:  0.7836851777925813 , v_prec:  0.575\n",
      "t_f:  0.604736931019234 , v_f:  0.5042761304859937\n",
      "////////\n"
     ]
    },
    {
     "name": "stderr",
     "output_type": "stream",
     "text": [
      "\r",
      "Iterations:  83%|███████████████████████████▌     | 250/300 [06:35<01:18,  1.56s/it]"
     ]
    },
    {
     "name": "stdout",
     "output_type": "stream",
     "text": [
      "Epoch  249 , loss 0.3709026122093201\n",
      "Epoch  250 , loss 0.3725033473968506\n"
     ]
    },
    {
     "name": "stderr",
     "output_type": "stream",
     "text": [
      "\r",
      "Iterations:  84%|███████████████████████████▌     | 251/300 [06:37<01:25,  1.75s/it]"
     ]
    },
    {
     "name": "stdout",
     "output_type": "stream",
     "text": [
      "Epoch:  250\n",
      "t_loss:  0.3725033473968506 , v_loss:  0.7059149642785391\n",
      "t_acc:  0.7473420888055035 , v_acc:  0.6818181818181818\n",
      "t_recall:  0.601187584345479 , v_recall:  0.5253873293449915\n",
      "t_prec:  0.7728411034740148 , v_prec:  0.561228264890862\n",
      "t_f:  0.5982924212980956 , v_f:  0.5007092198581561\n",
      "////////\n"
     ]
    },
    {
     "name": "stderr",
     "output_type": "stream",
     "text": [
      "\r",
      "Iterations:  84%|███████████████████████████▋     | 252/300 [06:38<01:16,  1.60s/it]"
     ]
    },
    {
     "name": "stdout",
     "output_type": "stream",
     "text": [
      "Epoch  251 , loss 0.36774872213602067\n",
      "Epoch  252 , loss 0.3696548873186111\n"
     ]
    },
    {
     "name": "stderr",
     "output_type": "stream",
     "text": [
      "\r",
      "Iterations:  84%|███████████████████████████▊     | 253/300 [06:40<01:21,  1.73s/it]"
     ]
    },
    {
     "name": "stdout",
     "output_type": "stream",
     "text": [
      "Epoch:  252\n",
      "t_loss:  0.3696548873186111 , v_loss:  0.7097955842812856\n",
      "t_acc:  0.7417135709818636 , v_acc:  0.6818181818181818\n",
      "t_recall:  0.5939721097615834 , v_recall:  0.5253873293449915\n",
      "t_prec:  0.7567739975315708 , v_prec:  0.561228264890862\n",
      "t_f:  0.5883451510854151 , v_f:  0.5007092198581561\n",
      "////////\n"
     ]
    },
    {
     "name": "stderr",
     "output_type": "stream",
     "text": [
      "\r",
      "Iterations:  85%|███████████████████████████▉     | 254/300 [06:42<01:13,  1.61s/it]"
     ]
    },
    {
     "name": "stdout",
     "output_type": "stream",
     "text": [
      "Epoch  253 , loss 0.37172206699848176\n",
      "Epoch  254 , loss 0.3714329791069031\n"
     ]
    },
    {
     "name": "stderr",
     "output_type": "stream",
     "text": [
      "\r",
      "Iterations:  85%|████████████████████████████     | 255/300 [06:44<01:17,  1.72s/it]"
     ]
    },
    {
     "name": "stdout",
     "output_type": "stream",
     "text": [
      "Epoch:  254\n",
      "t_loss:  0.3714329791069031 , v_loss:  0.7140444815158844\n",
      "t_acc:  0.7464040025015635 , v_acc:  0.6875\n",
      "t_recall:  0.6013765182186235 , v_recall:  0.5294523699953981\n",
      "t_prec:  0.7655055245681364 , v_prec:  0.575\n",
      "t_f:  0.5989818604857562 , v_f:  0.5042761304859937\n",
      "////////\n"
     ]
    },
    {
     "name": "stderr",
     "output_type": "stream",
     "text": [
      "\r",
      "Iterations:  85%|████████████████████████████▏    | 256/300 [06:45<01:11,  1.62s/it]"
     ]
    },
    {
     "name": "stdout",
     "output_type": "stream",
     "text": [
      "Epoch  255 , loss 0.3675730538368225\n",
      "Epoch  256 , loss 0.36678346514701843\n"
     ]
    },
    {
     "name": "stderr",
     "output_type": "stream",
     "text": [
      "\r",
      "Iterations:  86%|████████████████████████████▎    | 257/300 [06:47<01:14,  1.73s/it]"
     ]
    },
    {
     "name": "stdout",
     "output_type": "stream",
     "text": [
      "Epoch:  256\n",
      "t_loss:  0.36678346514701843 , v_loss:  0.7178299824396769\n",
      "t_acc:  0.7501563477173233 , v_acc:  0.6875\n",
      "t_recall:  0.6075303643724697 , v_recall:  0.5294523699953981\n",
      "t_prec:  0.7713226665673254 , v_prec:  0.575\n",
      "t_f:  0.6077293469708891 , v_f:  0.5042761304859937\n",
      "////////\n"
     ]
    },
    {
     "name": "stderr",
     "output_type": "stream",
     "text": [
      "\r",
      "Iterations:  86%|████████████████████████████▍    | 258/300 [06:48<01:10,  1.67s/it]"
     ]
    },
    {
     "name": "stdout",
     "output_type": "stream",
     "text": [
      "Epoch  257 , loss 0.36419582486152646\n",
      "Epoch  258 , loss 0.37203605502843856\n"
     ]
    },
    {
     "name": "stderr",
     "output_type": "stream",
     "text": [
      "\r",
      "Iterations:  86%|████████████████████████████▍    | 259/300 [06:51<01:15,  1.85s/it]"
     ]
    },
    {
     "name": "stdout",
     "output_type": "stream",
     "text": [
      "Epoch:  258\n",
      "t_loss:  0.37203605502843856 , v_loss:  0.7098807642857233\n",
      "t_acc:  0.7501563477173233 , v_acc:  0.6761363636363636\n",
      "t_recall:  0.605515069725596 , v_recall:  0.5213222886945851\n",
      "t_prec:  0.7781134168053001 , v_prec:  0.5488748241912799\n",
      "t_f:  0.6044409334579826 , v_f:  0.4971680617512907\n",
      "////////\n"
     ]
    },
    {
     "name": "stderr",
     "output_type": "stream",
     "text": [
      "\r",
      "Iterations:  87%|████████████████████████████▌    | 260/300 [06:52<01:08,  1.70s/it]"
     ]
    },
    {
     "name": "stdout",
     "output_type": "stream",
     "text": [
      "Epoch  259 , loss 0.3694212758541107\n",
      "Epoch  260 , loss 0.3667126753926277\n"
     ]
    },
    {
     "name": "stderr",
     "output_type": "stream",
     "text": [
      "\r",
      "Iterations:  87%|████████████████████████████▋    | 261/300 [06:54<01:09,  1.77s/it]"
     ]
    },
    {
     "name": "stdout",
     "output_type": "stream",
     "text": [
      "Epoch:  260\n",
      "t_loss:  0.3667126753926277 , v_loss:  0.7187307228644689\n",
      "t_acc:  0.7523452157598499 , v_acc:  0.6818181818181818\n",
      "t_recall:  0.6105443094916779 , v_recall:  0.5253873293449915\n",
      "t_prec:  0.7764146557283621 , v_prec:  0.561228264890862\n",
      "t_f:  0.6118544254874928 , v_f:  0.5007092198581561\n",
      "////////\n"
     ]
    },
    {
     "name": "stderr",
     "output_type": "stream",
     "text": [
      "\r",
      "Iterations:  87%|████████████████████████████▊    | 262/300 [06:55<00:59,  1.57s/it]"
     ]
    },
    {
     "name": "stdout",
     "output_type": "stream",
     "text": [
      "Epoch  261 , loss 0.3650528800487518\n",
      "Epoch  262 , loss 0.36721800565719603\n"
     ]
    },
    {
     "name": "stderr",
     "output_type": "stream",
     "text": [
      "\r",
      "Iterations:  88%|████████████████████████████▉    | 263/300 [06:57<01:02,  1.68s/it]"
     ]
    },
    {
     "name": "stdout",
     "output_type": "stream",
     "text": [
      "Epoch:  262\n",
      "t_loss:  0.36721800565719603 , v_loss:  0.7179014583428701\n",
      "t_acc:  0.7489055659787367 , v_acc:  0.6761363636363636\n",
      "t_recall:  0.603463787674314 , v_recall:  0.5213222886945851\n",
      "t_prec:  0.7762516014585592 , v_prec:  0.5488748241912799\n",
      "t_f:  0.6015017584086352 , v_f:  0.4971680617512907\n",
      "////////\n"
     ]
    },
    {
     "name": "stderr",
     "output_type": "stream",
     "text": [
      "\r",
      "Iterations:  88%|█████████████████████████████    | 264/300 [06:58<00:55,  1.55s/it]"
     ]
    },
    {
     "name": "stdout",
     "output_type": "stream",
     "text": [
      "Epoch  263 , loss 0.3693676021695137\n",
      "Epoch  264 , loss 0.3692479258775711\n"
     ]
    },
    {
     "name": "stderr",
     "output_type": "stream",
     "text": [
      "\r",
      "Iterations:  88%|█████████████████████████████▏   | 265/300 [07:00<00:58,  1.67s/it]"
     ]
    },
    {
     "name": "stdout",
     "output_type": "stream",
     "text": [
      "Epoch:  264\n",
      "t_loss:  0.3692479258775711 , v_loss:  0.717618907491366\n",
      "t_acc:  0.7473420888055035 , v_acc:  0.6931818181818182\n",
      "t_recall:  0.6052181736392263 , v_recall:  0.5335174106458046\n",
      "t_prec:  0.7599822158381642 , v_prec:  0.5904761904761905\n",
      "t_f:  0.6049439793640048 , v_f:  0.507870753935377\n",
      "////////\n"
     ]
    },
    {
     "name": "stderr",
     "output_type": "stream",
     "text": [
      "\r",
      "Iterations:  89%|█████████████████████████████▎   | 266/300 [07:01<00:51,  1.52s/it]"
     ]
    },
    {
     "name": "stdout",
     "output_type": "stream",
     "text": [
      "Epoch  265 , loss 0.36619008004665377\n",
      "Epoch  266 , loss 0.3614966416358948\n"
     ]
    },
    {
     "name": "stderr",
     "output_type": "stream",
     "text": [
      "\r",
      "Iterations:  89%|█████████████████████████████▎   | 267/300 [07:04<00:56,  1.71s/it]"
     ]
    },
    {
     "name": "stdout",
     "output_type": "stream",
     "text": [
      "Epoch:  266\n",
      "t_loss:  0.3614966416358948 , v_loss:  0.7197643965482712\n",
      "t_acc:  0.7526579111944965 , v_acc:  0.6875\n",
      "t_recall:  0.6099055330634278 , v_recall:  0.5294523699953981\n",
      "t_prec:  0.7807276395553837 , v_prec:  0.575\n",
      "t_f:  0.6107347560023223 , v_f:  0.5042761304859937\n",
      "////////\n"
     ]
    },
    {
     "name": "stderr",
     "output_type": "stream",
     "text": [
      "\r",
      "Iterations:  89%|█████████████████████████████▍   | 268/300 [07:05<00:52,  1.64s/it]"
     ]
    },
    {
     "name": "stdout",
     "output_type": "stream",
     "text": [
      "Epoch  267 , loss 0.37317664325237276\n",
      "Epoch  268 , loss 0.36469138234853743\n"
     ]
    },
    {
     "name": "stderr",
     "output_type": "stream",
     "text": [
      "\r",
      "Iterations:  90%|█████████████████████████████▌   | 269/300 [07:07<00:56,  1.81s/it]"
     ]
    },
    {
     "name": "stdout",
     "output_type": "stream",
     "text": [
      "Epoch:  268\n",
      "t_loss:  0.36469138234853743 , v_loss:  0.7245917717615763\n",
      "t_acc:  0.7517198248905566 , v_acc:  0.6875\n",
      "t_recall:  0.6118218623481781 , v_recall:  0.5294523699953981\n",
      "t_prec:  0.7683988460750495 , v_prec:  0.575\n",
      "t_f:  0.6140489647222479 , v_f:  0.5042761304859937\n",
      "////////\n"
     ]
    },
    {
     "name": "stderr",
     "output_type": "stream",
     "text": [
      "\r",
      "Iterations:  90%|█████████████████████████████▋   | 270/300 [07:08<00:48,  1.62s/it]"
     ]
    },
    {
     "name": "stdout",
     "output_type": "stream",
     "text": [
      "Epoch  269 , loss 0.36336616963148116\n",
      "Epoch  270 , loss 0.36645105719566345\n"
     ]
    },
    {
     "name": "stderr",
     "output_type": "stream",
     "text": [
      "\r",
      "Iterations:  90%|█████████████████████████████▊   | 271/300 [07:10<00:50,  1.74s/it]"
     ]
    },
    {
     "name": "stdout",
     "output_type": "stream",
     "text": [
      "Epoch:  270\n",
      "t_loss:  0.36645105719566345 , v_loss:  0.706090067823728\n",
      "t_acc:  0.7548467792370231 , v_acc:  0.6875\n",
      "t_recall:  0.6132073774179038 , v_recall:  0.5348212916091425\n",
      "t_prec:  0.7847833732011602 , v_prec:  0.579817158931083\n",
      "t_f:  0.615321167130632 , v_f:  0.5148112876547541\n",
      "////////\n"
     ]
    },
    {
     "name": "stderr",
     "output_type": "stream",
     "text": [
      "\r",
      "Iterations:  91%|█████████████████████████████▉   | 272/300 [07:12<00:44,  1.58s/it]"
     ]
    },
    {
     "name": "stdout",
     "output_type": "stream",
     "text": [
      "Epoch  271 , loss 0.3657226866483688\n",
      "Epoch  272 , loss 0.36110095381736756\n"
     ]
    },
    {
     "name": "stderr",
     "output_type": "stream",
     "text": [
      "\r",
      "Iterations:  91%|██████████████████████████████   | 273/300 [07:14<00:47,  1.75s/it]"
     ]
    },
    {
     "name": "stdout",
     "output_type": "stream",
     "text": [
      "Epoch:  272\n",
      "t_loss:  0.36110095381736756 , v_loss:  0.7248038152853647\n",
      "t_acc:  0.7498436522826767 , v_acc:  0.6818181818181818\n",
      "t_recall:  0.6047143499775078 , v_recall:  0.5253873293449915\n",
      "t_prec:  0.7786839652701802 , v_prec:  0.561228264890862\n",
      "t_f:  0.6032299907507179 , v_f:  0.5007092198581561\n",
      "////////\n"
     ]
    },
    {
     "name": "stderr",
     "output_type": "stream",
     "text": [
      "\r",
      "Iterations:  91%|██████████████████████████████▏  | 274/300 [07:15<00:41,  1.58s/it]"
     ]
    },
    {
     "name": "stdout",
     "output_type": "stream",
     "text": [
      "Epoch  273 , loss 0.36569516122341156\n",
      "Epoch  274 , loss 0.3658066409826279\n"
     ]
    },
    {
     "name": "stderr",
     "output_type": "stream",
     "text": [
      "\r",
      "Iterations:  92%|██████████████████████████████▎  | 275/300 [07:17<00:44,  1.78s/it]"
     ]
    },
    {
     "name": "stdout",
     "output_type": "stream",
     "text": [
      "Epoch:  274\n",
      "t_loss:  0.3658066409826279 , v_loss:  0.7174759308497111\n",
      "t_acc:  0.7520325203252033 , v_acc:  0.6875\n",
      "t_recall:  0.612046783625731 , v_recall:  0.5294523699953981\n",
      "t_prec:  0.7697072072072072 , v_prec:  0.575\n",
      "t_f:  0.6143110494255533 , v_f:  0.5042761304859937\n",
      "////////\n"
     ]
    },
    {
     "name": "stderr",
     "output_type": "stream",
     "text": [
      "\r",
      "Iterations:  92%|██████████████████████████████▎  | 276/300 [07:18<00:38,  1.59s/it]"
     ]
    },
    {
     "name": "stdout",
     "output_type": "stream",
     "text": [
      "Epoch  275 , loss 0.36484427958726884\n",
      "Epoch  276 , loss 0.36592549592256546\n"
     ]
    },
    {
     "name": "stderr",
     "output_type": "stream",
     "text": [
      "\r",
      "Iterations:  92%|██████████████████████████████▍  | 277/300 [07:20<00:38,  1.69s/it]"
     ]
    },
    {
     "name": "stdout",
     "output_type": "stream",
     "text": [
      "Epoch:  276\n",
      "t_loss:  0.36592549592256546 , v_loss:  0.7180856118599573\n",
      "t_acc:  0.7498436522826767 , v_acc:  0.6761363636363636\n",
      "t_recall:  0.6055780476833108 , v_recall:  0.5213222886945851\n",
      "t_prec:  0.7756337290187363 , v_prec:  0.5488748241912799\n",
      "t_f:  0.604658062601988 , v_f:  0.4971680617512907\n",
      "////////\n"
     ]
    },
    {
     "name": "stderr",
     "output_type": "stream",
     "text": [
      "\r",
      "Iterations:  93%|██████████████████████████████▌  | 278/300 [07:22<00:35,  1.61s/it]"
     ]
    },
    {
     "name": "stdout",
     "output_type": "stream",
     "text": [
      "Epoch  277 , loss 0.3631959468126297\n",
      "Epoch  278 , loss 0.3632628059387207\n"
     ]
    },
    {
     "name": "stderr",
     "output_type": "stream",
     "text": [
      "\r",
      "Iterations:  93%|██████████████████████████████▋  | 279/300 [07:24<00:36,  1.72s/it]"
     ]
    },
    {
     "name": "stdout",
     "output_type": "stream",
     "text": [
      "Epoch:  278\n",
      "t_loss:  0.3632628059387207 , v_loss:  0.7097335656483968\n",
      "t_acc:  0.7526579111944965 , v_acc:  0.6818181818181818\n",
      "t_recall:  0.6127845254161044 , v_recall:  0.530756250958736\n",
      "t_prec:  0.7714830214830215 , v_prec:  0.5672142138786456\n",
      "t_f:  0.6152837832227145 , v_f:  0.5111111111111112\n",
      "////////\n"
     ]
    },
    {
     "name": "stderr",
     "output_type": "stream",
     "text": [
      "\r",
      "Iterations:  93%|██████████████████████████████▊  | 280/300 [07:25<00:31,  1.56s/it]"
     ]
    },
    {
     "name": "stdout",
     "output_type": "stream",
     "text": [
      "Epoch  279 , loss 0.3633697837591171\n",
      "Epoch  280 , loss 0.3618758249282837\n"
     ]
    },
    {
     "name": "stderr",
     "output_type": "stream",
     "text": [
      "\r",
      "Iterations:  94%|██████████████████████████████▉  | 281/300 [07:27<00:33,  1.75s/it]"
     ]
    },
    {
     "name": "stdout",
     "output_type": "stream",
     "text": [
      "Epoch:  280\n",
      "t_loss:  0.3618758249282837 , v_loss:  0.7357799311478933\n",
      "t_acc:  0.7526579111944965 , v_acc:  0.6931818181818182\n",
      "t_recall:  0.6136482231219074 , v_recall:  0.5335174106458046\n",
      "t_prec:  0.7689596436058701 , v_prec:  0.5904761904761905\n",
      "t_f:  0.616618767087101 , v_f:  0.507870753935377\n",
      "////////\n"
     ]
    },
    {
     "name": "stderr",
     "output_type": "stream",
     "text": [
      "\r",
      "Iterations:  94%|███████████████████████████████  | 282/300 [07:28<00:29,  1.65s/it]"
     ]
    },
    {
     "name": "stdout",
     "output_type": "stream",
     "text": [
      "Epoch  281 , loss 0.3617032510042191\n",
      "Epoch  282 , loss 0.35805781990289687\n"
     ]
    },
    {
     "name": "stderr",
     "output_type": "stream",
     "text": [
      "\r",
      "Iterations:  94%|███████████████████████████████▏ | 283/300 [07:31<00:30,  1.79s/it]"
     ]
    },
    {
     "name": "stdout",
     "output_type": "stream",
     "text": [
      "Epoch:  282\n",
      "t_loss:  0.35805781990289687 , v_loss:  0.721486916144689\n",
      "t_acc:  0.7529706066291432 , v_acc:  0.6761363636363636\n",
      "t_recall:  0.6115699505173189 , v_recall:  0.5213222886945851\n",
      "t_prec:  0.777316894438857 , v_prec:  0.5488748241912799\n",
      "t_f:  0.6132904339733543 , v_f:  0.4971680617512907\n",
      "////////\n"
     ]
    },
    {
     "name": "stderr",
     "output_type": "stream",
     "text": [
      "\r",
      "Iterations:  95%|███████████████████████████████▏ | 284/300 [07:32<00:27,  1.73s/it]"
     ]
    },
    {
     "name": "stdout",
     "output_type": "stream",
     "text": [
      "Epoch  283 , loss 0.3673433777689934\n",
      "Epoch  284 , loss 0.36720687240362165\n"
     ]
    },
    {
     "name": "stderr",
     "output_type": "stream",
     "text": [
      "\r",
      "Iterations:  95%|███████████████████████████████▎ | 285/300 [07:34<00:27,  1.83s/it]"
     ]
    },
    {
     "name": "stdout",
     "output_type": "stream",
     "text": [
      "Epoch:  284\n",
      "t_loss:  0.36720687240362165 , v_loss:  0.7215068240960439\n",
      "t_acc:  0.7485928705440901 , v_acc:  0.6818181818181818\n",
      "t_recall:  0.6061178587494377 , v_recall:  0.5253873293449915\n",
      "t_prec:  0.7653463713124466 , v_prec:  0.561228264890862\n",
      "t_f:  0.6059734319342731 , v_f:  0.5007092198581561\n",
      "////////\n"
     ]
    },
    {
     "name": "stderr",
     "output_type": "stream",
     "text": [
      "\r",
      "Iterations:  95%|███████████████████████████████▍ | 286/300 [07:35<00:23,  1.65s/it]"
     ]
    },
    {
     "name": "stdout",
     "output_type": "stream",
     "text": [
      "Epoch  285 , loss 0.3672074282169342\n",
      "Epoch  286 , loss 0.3612022441625595\n"
     ]
    },
    {
     "name": "stderr",
     "output_type": "stream",
     "text": [
      "\r",
      "Iterations:  96%|███████████████████████████████▌ | 287/300 [07:38<00:23,  1.79s/it]"
     ]
    },
    {
     "name": "stdout",
     "output_type": "stream",
     "text": [
      "Epoch:  286\n",
      "t_loss:  0.3612022441625595 , v_loss:  0.7273831864198049\n",
      "t_acc:  0.7542213883677298 , v_acc:  0.6761363636363636\n",
      "t_recall:  0.6130454340980657 , v_recall:  0.5320601319220739\n",
      "t_prec:  0.7809843382488701 , v_prec:  0.5616883116883117\n",
      "t_f:  0.6152484570924764 , v_f:  0.5171119133574007\n",
      "////////\n"
     ]
    },
    {
     "name": "stderr",
     "output_type": "stream",
     "text": [
      "\r",
      "Iterations:  96%|███████████████████████████████▋ | 288/300 [07:39<00:19,  1.65s/it]"
     ]
    },
    {
     "name": "stdout",
     "output_type": "stream",
     "text": [
      "Epoch  287 , loss 0.3647037786245346\n",
      "Epoch  288 , loss 0.36120461821556094\n"
     ]
    },
    {
     "name": "stderr",
     "output_type": "stream",
     "text": [
      "\r",
      "Iterations:  96%|███████████████████████████████▊ | 289/300 [07:41<00:19,  1.79s/it]"
     ]
    },
    {
     "name": "stdout",
     "output_type": "stream",
     "text": [
      "Epoch:  288\n",
      "t_loss:  0.36120461821556094 , v_loss:  0.727298249801\n",
      "t_acc:  0.756722951844903 , v_acc:  0.6761363636363636\n",
      "t_recall:  0.6200269905533063 , v_recall:  0.5213222886945851\n",
      "t_prec:  0.775611001577496 , v_prec:  0.5488748241912799\n",
      "t_f:  0.6252927724952891 , v_f:  0.4971680617512907\n",
      "////////\n"
     ]
    },
    {
     "name": "stderr",
     "output_type": "stream",
     "text": [
      "\r",
      "Iterations:  97%|███████████████████████████████▉ | 290/300 [07:42<00:15,  1.59s/it]"
     ]
    },
    {
     "name": "stdout",
     "output_type": "stream",
     "text": [
      "Epoch  289 , loss 0.36019728183746336\n",
      "Epoch  290 , loss 0.35907564222812655\n"
     ]
    },
    {
     "name": "stderr",
     "output_type": "stream",
     "text": [
      "\r",
      "Iterations:  97%|████████████████████████████████ | 291/300 [07:44<00:15,  1.69s/it]"
     ]
    },
    {
     "name": "stdout",
     "output_type": "stream",
     "text": [
      "Epoch:  290\n",
      "t_loss:  0.35907564222812655 , v_loss:  0.7185161113739014\n",
      "t_acc:  0.7542213883677298 , v_acc:  0.6761363636363636\n",
      "t_recall:  0.6150607287449392 , v_recall:  0.5266912103083295\n",
      "t_prec:  0.7746097814776275 , v_prec:  0.5557692307692308\n",
      "t_f:  0.6183805645888558 , v_f:  0.5074385034614819\n",
      "////////\n"
     ]
    },
    {
     "name": "stderr",
     "output_type": "stream",
     "text": [
      "\r",
      "Iterations:  97%|████████████████████████████████ | 292/300 [07:46<00:13,  1.63s/it]"
     ]
    },
    {
     "name": "stdout",
     "output_type": "stream",
     "text": [
      "Epoch  291 , loss 0.36259359419345855\n",
      "Epoch  292 , loss 0.360751628279686\n"
     ]
    },
    {
     "name": "stderr",
     "output_type": "stream",
     "text": [
      "\r",
      "Iterations:  98%|████████████████████████████████▏| 293/300 [07:48<00:12,  1.84s/it]"
     ]
    },
    {
     "name": "stdout",
     "output_type": "stream",
     "text": [
      "Epoch:  292\n",
      "t_loss:  0.360751628279686 , v_loss:  0.7178570131460825\n",
      "t_acc:  0.7607879924953096 , v_acc:  0.6704545454545454\n",
      "t_recall:  0.6249662618083671 , v_recall:  0.5279950912716674\n",
      "t_prec:  0.7861829593001142 , v_prec:  0.5518613242398409\n",
      "t_f:  0.6317639648060471 , v_f:  0.513348588863463\n",
      "////////\n"
     ]
    },
    {
     "name": "stderr",
     "output_type": "stream",
     "text": [
      "\r",
      "Iterations:  98%|████████████████████████████████▎| 294/300 [07:49<00:10,  1.70s/it]"
     ]
    },
    {
     "name": "stdout",
     "output_type": "stream",
     "text": [
      "Epoch  293 , loss 0.36034111768007276\n",
      "Epoch  294 , loss 0.35912601530551913\n"
     ]
    },
    {
     "name": "stderr",
     "output_type": "stream",
     "text": [
      "\r",
      "Iterations:  98%|████████████████████████████████▍| 295/300 [07:51<00:09,  1.82s/it]"
     ]
    },
    {
     "name": "stdout",
     "output_type": "stream",
     "text": [
      "Epoch:  294\n",
      "t_loss:  0.35912601530551913 , v_loss:  0.7260754207770029\n",
      "t_acc:  0.7620387742338962 , v_acc:  0.6818181818181818\n",
      "t_recall:  0.6270175438596491 , v_recall:  0.530756250958736\n",
      "t_prec:  0.7877983558023618 , v_prec:  0.5672142138786456\n",
      "t_f:  0.6345215856773576 , v_f:  0.5111111111111112\n",
      "////////\n"
     ]
    },
    {
     "name": "stderr",
     "output_type": "stream",
     "text": [
      "\r",
      "Iterations:  99%|████████████████████████████████▌| 296/300 [07:53<00:06,  1.65s/it]"
     ]
    },
    {
     "name": "stdout",
     "output_type": "stream",
     "text": [
      "Epoch  295 , loss 0.3544466099143028\n",
      "Epoch  296 , loss 0.3585862630605698\n"
     ]
    },
    {
     "name": "stderr",
     "output_type": "stream",
     "text": [
      "\r",
      "Iterations:  99%|████████████████████████████████▋| 297/300 [07:55<00:05,  1.75s/it]"
     ]
    },
    {
     "name": "stdout",
     "output_type": "stream",
     "text": [
      "Epoch:  296\n",
      "t_loss:  0.3585862630605698 , v_loss:  0.741820901632309\n",
      "t_acc:  0.7614133833646028 , v_acc:  0.6875\n",
      "t_recall:  0.6248403058929375 , v_recall:  0.5294523699953981\n",
      "t_prec:  0.7905809428078043 , v_prec:  0.575\n",
      "t_f:  0.6314645983395566 , v_f:  0.5042761304859937\n",
      "////////\n"
     ]
    },
    {
     "name": "stderr",
     "output_type": "stream",
     "text": [
      "\r",
      "Iterations:  99%|████████████████████████████████▊| 298/300 [07:56<00:03,  1.59s/it]"
     ]
    },
    {
     "name": "stdout",
     "output_type": "stream",
     "text": [
      "Epoch  297 , loss 0.3598142075538635\n",
      "Epoch  298 , loss 0.35799688160419463\n"
     ]
    },
    {
     "name": "stderr",
     "output_type": "stream",
     "text": [
      "\r",
      "Iterations: 100%|████████████████████████████████▉| 299/300 [07:58<00:01,  1.70s/it]"
     ]
    },
    {
     "name": "stdout",
     "output_type": "stream",
     "text": [
      "Epoch:  298\n",
      "t_loss:  0.35799688160419463 , v_loss:  0.732189416885376\n",
      "t_acc:  0.7629768605378362 , v_acc:  0.6931818181818182\n",
      "t_recall:  0.628268106162843 , v_recall:  0.5442552538732934\n",
      "t_prec:  0.7898655517383394 , v_prec:  0.596714716728126\n",
      "t_f:  0.6361687374111841 , v_f:  0.5285714285714286\n",
      "////////\n"
     ]
    },
    {
     "name": "stderr",
     "output_type": "stream",
     "text": [
      "Iterations: 100%|█████████████████████████████████| 300/300 [07:59<00:00,  1.60s/it]"
     ]
    },
    {
     "name": "stdout",
     "output_type": "stream",
     "text": [
      "Epoch  299 , loss 0.359642396569252\n"
     ]
    },
    {
     "name": "stderr",
     "output_type": "stream",
     "text": [
      "\n"
     ]
    },
    {
     "name": "stdout",
     "output_type": "stream",
     "text": [
      "114 8\n",
      "\n",
      "c0_acc 0.926829268292683 , c1_acc 0.1509433962264151 , b_acc 0.5388863322595491\n"
     ]
    },
    {
     "name": "stderr",
     "output_type": "stream",
     "text": [
      "\r",
      "Iterations:   0%|                                           | 0/300 [00:00<?, ?it/s]"
     ]
    },
    {
     "name": "stdout",
     "output_type": "stream",
     "text": [
      "Epoch  0 , loss 0.7055798232555389\n"
     ]
    },
    {
     "name": "stderr",
     "output_type": "stream",
     "text": [
      "\r",
      "Iterations:   0%|                                   | 1/300 [00:02<11:25,  2.29s/it]"
     ]
    },
    {
     "name": "stdout",
     "output_type": "stream",
     "text": [
      "Epoch:  0\n",
      "t_loss:  0.7055798232555389 , v_loss:  0.7070324420928955\n",
      "t_acc:  0.4989017885158456 , v_acc:  0.2994652406417112\n",
      "t_recall:  0.49459121775399684 , v_recall:  0.5\n",
      "t_prec:  0.49541251876159675 , v_prec:  0.1497326203208556\n",
      "t_f:  0.47715288835990954 , v_f:  0.23045267489711935\n",
      "////////\n"
     ]
    },
    {
     "name": "stderr",
     "output_type": "stream",
     "text": [
      "\r",
      "Iterations:   1%|▏                                  | 2/300 [00:03<08:48,  1.77s/it]"
     ]
    },
    {
     "name": "stdout",
     "output_type": "stream",
     "text": [
      "Epoch  1 , loss 0.6588057255744935\n",
      "Epoch  2 , loss 0.6172666311264038\n"
     ]
    },
    {
     "name": "stderr",
     "output_type": "stream",
     "text": [
      "\r",
      "Iterations:   1%|▎                                  | 3/300 [00:05<09:31,  1.93s/it]"
     ]
    },
    {
     "name": "stdout",
     "output_type": "stream",
     "text": [
      "Epoch:  2\n",
      "t_loss:  0.6172666311264038 , v_loss:  0.7025744517644247\n",
      "t_acc:  0.6134295575776593 , v_acc:  0.2994652406417112\n",
      "t_recall:  0.4987545169950487 , v_recall:  0.5\n",
      "t_prec:  0.4983886010424967 , v_prec:  0.1497326203208556\n",
      "t_f:  0.492237660228225 , v_f:  0.23045267489711935\n",
      "////////\n"
     ]
    },
    {
     "name": "stderr",
     "output_type": "stream",
     "text": [
      "\r",
      "Iterations:   1%|▍                                  | 4/300 [00:07<08:04,  1.64s/it]"
     ]
    },
    {
     "name": "stdout",
     "output_type": "stream",
     "text": [
      "Epoch  3 , loss 0.5760764563083649\n",
      "Epoch  4 , loss 0.5459941065311432\n"
     ]
    },
    {
     "name": "stderr",
     "output_type": "stream",
     "text": [
      "\r",
      "Iterations:   2%|▌                                  | 5/300 [00:09<08:48,  1.79s/it]"
     ]
    },
    {
     "name": "stdout",
     "output_type": "stream",
     "text": [
      "Epoch:  4\n",
      "t_loss:  0.5459941065311432 , v_loss:  0.6638670563697815\n",
      "t_acc:  0.6717916535927204 , v_acc:  0.7005347593582888\n",
      "t_recall:  0.5014818995067302 , v_recall:  0.5\n",
      "t_prec:  0.5053406427854035 , v_prec:  0.3502673796791444\n",
      "t_f:  0.45321601169411085 , v_f:  0.41194968553459116\n",
      "////////\n"
     ]
    },
    {
     "name": "stderr",
     "output_type": "stream",
     "text": [
      "\r",
      "Iterations:   2%|▋                                  | 6/300 [00:10<07:42,  1.57s/it]"
     ]
    },
    {
     "name": "stdout",
     "output_type": "stream",
     "text": [
      "Epoch  5 , loss 0.513354874253273\n",
      "Epoch  6 , loss 0.5010220491886139\n"
     ]
    },
    {
     "name": "stderr",
     "output_type": "stream",
     "text": [
      "\r",
      "Iterations:   2%|▊                                  | 7/300 [00:12<08:13,  1.69s/it]"
     ]
    },
    {
     "name": "stdout",
     "output_type": "stream",
     "text": [
      "Epoch:  6\n",
      "t_loss:  0.5010220491886139 , v_loss:  0.6155154407024384\n",
      "t_acc:  0.6881079385001568 , v_acc:  0.7005347593582888\n",
      "t_recall:  0.5022506014918857 , v_recall:  0.5\n",
      "t_prec:  0.5216046905653647 , v_prec:  0.3502673796791444\n",
      "t_f:  0.43070058154162444 , v_f:  0.41194968553459116\n",
      "////////\n"
     ]
    },
    {
     "name": "stderr",
     "output_type": "stream",
     "text": [
      "\r",
      "Iterations:   3%|▉                                  | 8/300 [00:13<07:45,  1.60s/it]"
     ]
    },
    {
     "name": "stdout",
     "output_type": "stream",
     "text": [
      "Epoch  7 , loss 0.4851304763555527\n",
      "Epoch  8 , loss 0.4788472467660904\n"
     ]
    },
    {
     "name": "stderr",
     "output_type": "stream",
     "text": [
      "\r",
      "Iterations:   3%|█                                  | 9/300 [00:15<08:23,  1.73s/it]"
     ]
    },
    {
     "name": "stdout",
     "output_type": "stream",
     "text": [
      "Epoch:  8\n",
      "t_loss:  0.4788472467660904 , v_loss:  0.6029882033665975\n",
      "t_acc:  0.6931283338562911 , v_acc:  0.7005347593582888\n",
      "t_recall:  0.5000889464834787 , v_recall:  0.5\n",
      "t_prec:  0.503774440239672 , v_prec:  0.3502673796791444\n",
      "t_f:  0.4142697892722323 , v_f:  0.41194968553459116\n",
      "////////\n"
     ]
    },
    {
     "name": "stderr",
     "output_type": "stream",
     "text": [
      "\r",
      "Iterations:   3%|█▏                                | 10/300 [00:16<07:26,  1.54s/it]"
     ]
    },
    {
     "name": "stdout",
     "output_type": "stream",
     "text": [
      "Epoch  9 , loss 0.46981898725032806\n",
      "Epoch  10 , loss 0.4673484390974045\n"
     ]
    },
    {
     "name": "stderr",
     "output_type": "stream",
     "text": [
      "\r",
      "Iterations:   4%|█▏                                | 11/300 [00:18<08:11,  1.70s/it]"
     ]
    },
    {
     "name": "stdout",
     "output_type": "stream",
     "text": [
      "Epoch:  10\n",
      "t_loss:  0.4673484390974045 , v_loss:  0.6107414960861206\n",
      "t_acc:  0.6940696579855664 , v_acc:  0.7005347593582888\n",
      "t_recall:  0.499611468754935 , v_recall:  0.5\n",
      "t_prec:  0.4474230043997486 , v_prec:  0.3502673796791444\n",
      "t_f:  0.41069558147566343 , v_f:  0.41194968553459116\n",
      "////////\n"
     ]
    },
    {
     "name": "stderr",
     "output_type": "stream",
     "text": [
      "\r",
      "Iterations:   4%|█▎                                | 12/300 [00:20<07:57,  1.66s/it]"
     ]
    },
    {
     "name": "stdout",
     "output_type": "stream",
     "text": [
      "Epoch  11 , loss 0.46457799553871154\n",
      "Epoch  12 , loss 0.46130632400512694\n"
     ]
    },
    {
     "name": "stderr",
     "output_type": "stream",
     "text": [
      "\r",
      "Iterations:   4%|█▍                                | 13/300 [00:22<08:32,  1.78s/it]"
     ]
    },
    {
     "name": "stdout",
     "output_type": "stream",
     "text": [
      "Epoch:  12\n",
      "t_loss:  0.46130632400512694 , v_loss:  0.6221788475910822\n",
      "t_acc:  0.6943834326953248 , v_acc:  0.7005347593582888\n",
      "t_recall:  0.4998372023892465 , v_recall:  0.5\n",
      "t_prec:  0.4724709393653786 , v_prec:  0.3502673796791444\n",
      "t_f:  0.4108059906826451 , v_f:  0.41194968553459116\n",
      "////////\n"
     ]
    },
    {
     "name": "stderr",
     "output_type": "stream",
     "text": [
      "\r",
      "Iterations:   5%|█▌                                | 14/300 [00:23<07:43,  1.62s/it]"
     ]
    },
    {
     "name": "stdout",
     "output_type": "stream",
     "text": [
      "Epoch  13 , loss 0.4607974648475647\n",
      "Epoch  14 , loss 0.4557683509588242\n"
     ]
    },
    {
     "name": "stderr",
     "output_type": "stream",
     "text": [
      "\r",
      "Iterations:   5%|█▋                                | 15/300 [00:25<08:05,  1.70s/it]"
     ]
    },
    {
     "name": "stdout",
     "output_type": "stream",
     "text": [
      "Epoch:  14\n",
      "t_loss:  0.4557683509588242 , v_loss:  0.6207382182280222\n",
      "t_acc:  0.6946972074050831 , v_acc:  0.7005347593582888\n",
      "t_recall:  0.4997742663656885 , v_recall:  0.5\n",
      "t_prec:  0.3474576271186441 , v_prec:  0.3502673796791444\n",
      "t_f:  0.40992408813182746 , v_f:  0.41194968553459116\n",
      "////////\n"
     ]
    },
    {
     "name": "stderr",
     "output_type": "stream",
     "text": [
      "\r",
      "Iterations:   5%|█▊                                | 16/300 [00:26<07:31,  1.59s/it]"
     ]
    },
    {
     "name": "stdout",
     "output_type": "stream",
     "text": [
      "Epoch  15 , loss 0.4623261219263077\n",
      "Epoch  16 , loss 0.4577724277973175\n"
     ]
    },
    {
     "name": "stderr",
     "output_type": "stream",
     "text": [
      "\r",
      "Iterations:   6%|█▉                                | 17/300 [00:29<08:27,  1.79s/it]"
     ]
    },
    {
     "name": "stdout",
     "output_type": "stream",
     "text": [
      "Epoch:  16\n",
      "t_loss:  0.4577724277973175 , v_loss:  0.6226444840431213\n",
      "t_acc:  0.6953247568245999 , v_acc:  0.7005347593582888\n",
      "t_recall:  0.5005144032921811 , v_recall:  0.5\n",
      "t_prec:  0.8476145637162587 , v_prec:  0.3502673796791444\n",
      "t_f:  0.41113698825899736 , v_f:  0.41194968553459116\n",
      "////////\n"
     ]
    },
    {
     "name": "stderr",
     "output_type": "stream",
     "text": [
      "\r",
      "Iterations:   6%|██                                | 18/300 [00:30<07:34,  1.61s/it]"
     ]
    },
    {
     "name": "stdout",
     "output_type": "stream",
     "text": [
      "Epoch  17 , loss 0.4540193992853165\n",
      "Epoch  18 , loss 0.45308309674263003\n"
     ]
    },
    {
     "name": "stderr",
     "output_type": "stream",
     "text": [
      "\r",
      "Iterations:   6%|██▏                               | 19/300 [00:32<08:29,  1.81s/it]"
     ]
    },
    {
     "name": "stdout",
     "output_type": "stream",
     "text": [
      "Epoch:  18\n",
      "t_loss:  0.45308309674263003 , v_loss:  0.622091660896937\n",
      "t_acc:  0.6950109821148416 , v_acc:  0.7005347593582888\n",
      "t_recall:  0.5002886696578696 , v_recall:  0.5\n",
      "t_prec:  0.5975667189952905 , v_prec:  0.3502673796791444\n",
      "t_f:  0.41102669404517456 , v_f:  0.41194968553459116\n",
      "////////\n"
     ]
    },
    {
     "name": "stderr",
     "output_type": "stream",
     "text": [
      "\r",
      "Iterations:   7%|██▎                               | 20/300 [00:33<07:28,  1.60s/it]"
     ]
    },
    {
     "name": "stdout",
     "output_type": "stream",
     "text": [
      "Epoch  19 , loss 0.45692611396312716\n",
      "Epoch  20 , loss 0.44994236588478087\n"
     ]
    },
    {
     "name": "stderr",
     "output_type": "stream",
     "text": [
      "\r",
      "Iterations:   7%|██▍                               | 21/300 [00:35<08:01,  1.72s/it]"
     ]
    },
    {
     "name": "stdout",
     "output_type": "stream",
     "text": [
      "Epoch:  20\n",
      "t_loss:  0.44994236588478087 , v_loss:  0.6248636245727539\n",
      "t_acc:  0.6946972074050831 , v_acc:  0.7005347593582888\n",
      "t_recall:  0.4997742663656885 , v_recall:  0.5\n",
      "t_prec:  0.3474576271186441 , v_prec:  0.3502673796791444\n",
      "t_f:  0.40992408813182746 , v_f:  0.41194968553459116\n",
      "////////\n"
     ]
    },
    {
     "name": "stderr",
     "output_type": "stream",
     "text": [
      "\r",
      "Iterations:   7%|██▍                               | 22/300 [00:37<07:32,  1.63s/it]"
     ]
    },
    {
     "name": "stdout",
     "output_type": "stream",
     "text": [
      "Epoch  21 , loss 0.4569920825958252\n",
      "Epoch  22 , loss 0.45010683000087737\n"
     ]
    },
    {
     "name": "stderr",
     "output_type": "stream",
     "text": [
      "\r",
      "Iterations:   8%|██▌                               | 23/300 [00:38<07:53,  1.71s/it]"
     ]
    },
    {
     "name": "stdout",
     "output_type": "stream",
     "text": [
      "Epoch:  22\n",
      "t_loss:  0.45010683000087737 , v_loss:  0.6219730377197266\n",
      "t_acc:  0.693755883275808 , v_acc:  0.7005347593582888\n",
      "t_recall:  0.49909706546275395 , v_recall:  0.5\n",
      "t_prec:  0.3473138548539114 , v_prec:  0.3502673796791444\n",
      "t_f:  0.4095961467210078 , v_f:  0.41194968553459116\n",
      "////////\n"
     ]
    },
    {
     "name": "stderr",
     "output_type": "stream",
     "text": [
      "\r",
      "Iterations:   8%|██▋                               | 24/300 [00:40<07:13,  1.57s/it]"
     ]
    },
    {
     "name": "stdout",
     "output_type": "stream",
     "text": [
      "Epoch  23 , loss 0.44980222821235655\n",
      "Epoch  24 , loss 0.4453463268280029\n"
     ]
    },
    {
     "name": "stderr",
     "output_type": "stream",
     "text": [
      "\r",
      "Iterations:   8%|██▊                               | 25/300 [00:42<07:42,  1.68s/it]"
     ]
    },
    {
     "name": "stdout",
     "output_type": "stream",
     "text": [
      "Epoch:  24\n",
      "t_loss:  0.4453463268280029 , v_loss:  0.6225222498178482\n",
      "t_acc:  0.6953247568245999 , v_acc:  0.7005347593582888\n",
      "t_recall:  0.5005144032921811 , v_recall:  0.5\n",
      "t_prec:  0.8476145637162587 , v_prec:  0.3502673796791444\n",
      "t_f:  0.41113698825899736 , v_f:  0.41194968553459116\n",
      "////////\n"
     ]
    },
    {
     "name": "stderr",
     "output_type": "stream",
     "text": [
      "\r",
      "Iterations:   9%|██▉                               | 26/300 [00:43<07:12,  1.58s/it]"
     ]
    },
    {
     "name": "stdout",
     "output_type": "stream",
     "text": [
      "Epoch  25 , loss 0.45254642188549044\n",
      "Epoch  26 , loss 0.45451319456100464\n"
     ]
    },
    {
     "name": "stderr",
     "output_type": "stream",
     "text": [
      "\r",
      "Iterations:   9%|███                               | 27/300 [00:45<08:09,  1.79s/it]"
     ]
    },
    {
     "name": "stdout",
     "output_type": "stream",
     "text": [
      "Epoch:  26\n",
      "t_loss:  0.45451319456100464 , v_loss:  0.6207042187452316\n",
      "t_acc:  0.6950109821148416 , v_acc:  0.7005347593582888\n",
      "t_recall:  0.5 , v_recall:  0.5\n",
      "t_prec:  0.3475054910574208 , v_prec:  0.3502673796791444\n",
      "t_f:  0.4100333209922251 , v_f:  0.41194968553459116\n",
      "////////\n"
     ]
    },
    {
     "name": "stderr",
     "output_type": "stream",
     "text": [
      "\r",
      "Iterations:   9%|███▏                              | 28/300 [00:47<07:26,  1.64s/it]"
     ]
    },
    {
     "name": "stdout",
     "output_type": "stream",
     "text": [
      "Epoch  27 , loss 0.4494307893514633\n",
      "Epoch  28 , loss 0.4448875832557678\n"
     ]
    },
    {
     "name": "stderr",
     "output_type": "stream",
     "text": [
      "\r",
      "Iterations:  10%|███▎                              | 29/300 [00:49<07:50,  1.74s/it]"
     ]
    },
    {
     "name": "stdout",
     "output_type": "stream",
     "text": [
      "Epoch:  28\n",
      "t_loss:  0.4448875832557678 , v_loss:  0.6197311381498972\n",
      "t_acc:  0.6959523062441167 , v_acc:  0.7005347593582888\n",
      "t_recall:  0.5018318795344128 , v_recall:  0.5\n",
      "t_prec:  0.747894406033941 , v_prec:  0.3502673796791444\n",
      "t_f:  0.41432207020504397 , v_f:  0.41194968553459116\n",
      "////////\n"
     ]
    },
    {
     "name": "stderr",
     "output_type": "stream",
     "text": [
      "\r",
      "Iterations:  10%|███▍                              | 30/300 [00:50<07:28,  1.66s/it]"
     ]
    },
    {
     "name": "stdout",
     "output_type": "stream",
     "text": [
      "Epoch  29 , loss 0.4477773880958557\n",
      "Epoch  30 , loss 0.44171024978160855\n"
     ]
    },
    {
     "name": "stderr",
     "output_type": "stream",
     "text": [
      "\r",
      "Iterations:  10%|███▌                              | 31/300 [00:52<08:08,  1.81s/it]"
     ]
    },
    {
     "name": "stdout",
     "output_type": "stream",
     "text": [
      "Epoch:  30\n",
      "t_loss:  0.44171024978160855 , v_loss:  0.6181460916996002\n",
      "t_acc:  0.6959523062441167 , v_acc:  0.7005347593582888\n",
      "t_recall:  0.5015432098765432 , v_recall:  0.5\n",
      "t_prec:  0.8478329145728642 , v_prec:  0.3502673796791444\n",
      "t_f:  0.41333808255089977 , v_f:  0.41194968553459116\n",
      "////////\n"
     ]
    },
    {
     "name": "stderr",
     "output_type": "stream",
     "text": [
      "\r",
      "Iterations:  11%|███▋                              | 32/300 [00:53<07:10,  1.61s/it]"
     ]
    },
    {
     "name": "stdout",
     "output_type": "stream",
     "text": [
      "Epoch  31 , loss 0.4455259317159653\n",
      "Epoch  32 , loss 0.44136265873909\n"
     ]
    },
    {
     "name": "stderr",
     "output_type": "stream",
     "text": [
      "\r",
      "Iterations:  11%|███▋                              | 33/300 [00:55<07:43,  1.74s/it]"
     ]
    },
    {
     "name": "stdout",
     "output_type": "stream",
     "text": [
      "Epoch:  32\n",
      "t_loss:  0.44136265873909 , v_loss:  0.618873119354248\n",
      "t_acc:  0.6950109821148416 , v_acc:  0.7005347593582888\n",
      "t_recall:  0.5005773393157391 , v_recall:  0.5\n",
      "t_prec:  0.5976280238768457 , v_prec:  0.3502673796791444\n",
      "t_f:  0.4120158346442823 , v_f:  0.41194968553459116\n",
      "////////\n"
     ]
    },
    {
     "name": "stderr",
     "output_type": "stream",
     "text": [
      "\r",
      "Iterations:  11%|███▊                              | 34/300 [00:57<06:53,  1.55s/it]"
     ]
    },
    {
     "name": "stdout",
     "output_type": "stream",
     "text": [
      "Epoch  33 , loss 0.4421438431739807\n",
      "Epoch  34 , loss 0.4411411142349243\n"
     ]
    },
    {
     "name": "stderr",
     "output_type": "stream",
     "text": [
      "\r",
      "Iterations:  12%|███▉                              | 35/300 [00:58<07:16,  1.65s/it]"
     ]
    },
    {
     "name": "stdout",
     "output_type": "stream",
     "text": [
      "Epoch:  34\n",
      "t_loss:  0.4411411142349243 , v_loss:  0.6208829035361608\n",
      "t_acc:  0.6959523062441167 , v_acc:  0.7005347593582888\n",
      "t_recall:  0.5024092188501519 , v_recall:  0.5\n",
      "t_prec:  0.6813509544787077 , v_prec:  0.3502673796791444\n",
      "t_f:  0.41627752818099795 , v_f:  0.41194968553459116\n",
      "////////\n"
     ]
    },
    {
     "name": "stderr",
     "output_type": "stream",
     "text": [
      "\r",
      "Iterations:  12%|████                              | 36/300 [01:00<07:04,  1.61s/it]"
     ]
    },
    {
     "name": "stdout",
     "output_type": "stream",
     "text": [
      "Epoch  35 , loss 0.44107597827911377\n",
      "Epoch  36 , loss 0.44124299347400664\n"
     ]
    },
    {
     "name": "stderr",
     "output_type": "stream",
     "text": [
      "\r",
      "Iterations:  12%|████▏                             | 37/300 [01:02<07:31,  1.72s/it]"
     ]
    },
    {
     "name": "stdout",
     "output_type": "stream",
     "text": [
      "Epoch:  36\n",
      "t_loss:  0.44124299347400664 , v_loss:  0.6212375710407892\n",
      "t_acc:  0.6950109821148416 , v_acc:  0.7005347593582888\n",
      "t_recall:  0.5014433482893478 , v_recall:  0.5\n",
      "t_prec:  0.5978124016367643 , v_prec:  0.3502673796791444\n",
      "t_f:  0.414958118537231 , v_f:  0.41194968553459116\n",
      "////////\n"
     ]
    },
    {
     "name": "stderr",
     "output_type": "stream",
     "text": [
      "\r",
      "Iterations:  13%|████▎                             | 38/300 [01:03<07:09,  1.64s/it]"
     ]
    },
    {
     "name": "stdout",
     "output_type": "stream",
     "text": [
      "Epoch  37 , loss 0.4364861252903938\n",
      "Epoch  38 , loss 0.43504036724567413\n"
     ]
    },
    {
     "name": "stderr",
     "output_type": "stream",
     "text": [
      "\r",
      "Iterations:  13%|████▍                             | 39/300 [01:05<07:30,  1.73s/it]"
     ]
    },
    {
     "name": "stdout",
     "output_type": "stream",
     "text": [
      "Epoch:  38\n",
      "t_loss:  0.43504036724567413 , v_loss:  0.6179582277933756\n",
      "t_acc:  0.6959523062441167 , v_acc:  0.7005347593582888\n",
      "t_recall:  0.5021205491922823 , v_recall:  0.5\n",
      "t_prec:  0.7050988319856244 , v_prec:  0.3502673796791444\n",
      "t_f:  0.41530187695071946 , v_f:  0.41194968553459116\n",
      "////////\n"
     ]
    },
    {
     "name": "stderr",
     "output_type": "stream",
     "text": [
      "\r",
      "Iterations:  13%|████▌                             | 40/300 [01:07<06:56,  1.60s/it]"
     ]
    },
    {
     "name": "stdout",
     "output_type": "stream",
     "text": [
      "Epoch  39 , loss 0.4442276519536972\n",
      "Epoch  40 , loss 0.4331687927246094\n"
     ]
    },
    {
     "name": "stderr",
     "output_type": "stream",
     "text": [
      "\r",
      "Iterations:  14%|████▋                             | 41/300 [01:09<07:51,  1.82s/it]"
     ]
    },
    {
     "name": "stdout",
     "output_type": "stream",
     "text": [
      "Epoch:  40\n",
      "t_loss:  0.4331687927246094 , v_loss:  0.6172516892353693\n",
      "t_acc:  0.6962660809538751 , v_acc:  0.7005347593582888\n",
      "t_recall:  0.5032122918002025 , v_recall:  0.5\n",
      "t_prec:  0.6815223097112861 , v_prec:  0.3502673796791444\n",
      "t_f:  0.4183341629334661 , v_f:  0.41194968553459116\n",
      "////////\n"
     ]
    },
    {
     "name": "stderr",
     "output_type": "stream",
     "text": [
      "\r",
      "Iterations:  14%|████▊                             | 42/300 [01:10<06:57,  1.62s/it]"
     ]
    },
    {
     "name": "stdout",
     "output_type": "stream",
     "text": [
      "Epoch  41 , loss 0.43603492617607115\n",
      "Epoch  42 , loss 0.4352766674757004\n"
     ]
    },
    {
     "name": "stderr",
     "output_type": "stream",
     "text": [
      "\r",
      "Iterations:  14%|████▊                             | 43/300 [01:12<07:39,  1.79s/it]"
     ]
    },
    {
     "name": "stdout",
     "output_type": "stream",
     "text": [
      "Epoch:  42\n",
      "t_loss:  0.4352766674757004 , v_loss:  0.6171039889256159\n",
      "t_acc:  0.6950109821148416 , v_acc:  0.7005347593582888\n",
      "t_recall:  0.5017320179472173 , v_recall:  0.5\n",
      "t_prec:  0.5978740157480316 , v_prec:  0.3502673796791444\n",
      "t_f:  0.41593058509434816 , v_f:  0.41194968553459116\n",
      "////////\n"
     ]
    },
    {
     "name": "stderr",
     "output_type": "stream",
     "text": [
      "\r",
      "Iterations:  15%|████▉                             | 44/300 [01:13<06:49,  1.60s/it]"
     ]
    },
    {
     "name": "stdout",
     "output_type": "stream",
     "text": [
      "Epoch  43 , loss 0.43630094945430753\n",
      "Epoch  44 , loss 0.43417744159698485\n"
     ]
    },
    {
     "name": "stderr",
     "output_type": "stream",
     "text": [
      "\r",
      "Iterations:  15%|█████                             | 45/300 [01:15<07:19,  1.72s/it]"
     ]
    },
    {
     "name": "stdout",
     "output_type": "stream",
     "text": [
      "Epoch:  44\n",
      "t_loss:  0.43417744159698485 , v_loss:  0.6158625533183416\n",
      "t_acc:  0.6962660809538751 , v_acc:  0.7005347593582888\n",
      "t_recall:  0.5035009614580721 , v_recall:  0.5\n",
      "t_prec:  0.6696794381162487 , v_prec:  0.3502673796791444\n",
      "t_f:  0.41929853886105556 , v_f:  0.41194968553459116\n",
      "////////\n"
     ]
    },
    {
     "name": "stderr",
     "output_type": "stream",
     "text": [
      "\r",
      "Iterations:  15%|█████▏                            | 46/300 [01:17<06:46,  1.60s/it]"
     ]
    },
    {
     "name": "stdout",
     "output_type": "stream",
     "text": [
      "Epoch  45 , loss 0.4350404590368271\n",
      "Epoch  46 , loss 0.43325251460075376\n"
     ]
    },
    {
     "name": "stderr",
     "output_type": "stream",
     "text": [
      "\r",
      "Iterations:  16%|█████▎                            | 47/300 [01:19<07:14,  1.72s/it]"
     ]
    },
    {
     "name": "stdout",
     "output_type": "stream",
     "text": [
      "Epoch:  46\n",
      "t_loss:  0.43325251460075376 , v_loss:  0.6150458703438441\n",
      "t_acc:  0.6965798556636336 , v_acc:  0.7005347593582888\n",
      "t_recall:  0.5040153647502531 , v_recall:  0.5\n",
      "t_prec:  0.6816939890710383 , v_prec:  0.3502673796791444\n",
      "t_f:  0.42037860292207835 , v_f:  0.41194968553459116\n",
      "////////\n"
     ]
    },
    {
     "name": "stderr",
     "output_type": "stream",
     "text": [
      "\r",
      "Iterations:  16%|█████▍                            | 48/300 [01:20<06:33,  1.56s/it]"
     ]
    },
    {
     "name": "stdout",
     "output_type": "stream",
     "text": [
      "Epoch  47 , loss 0.42996088922023773\n",
      "Epoch  48 , loss 0.4317427909374237\n"
     ]
    },
    {
     "name": "stderr",
     "output_type": "stream",
     "text": [
      "\r",
      "Iterations:  16%|█████▌                            | 49/300 [01:22<07:07,  1.70s/it]"
     ]
    },
    {
     "name": "stdout",
     "output_type": "stream",
     "text": [
      "Epoch:  48\n",
      "t_loss:  0.4317427909374237 , v_loss:  0.6110304097334543\n",
      "t_acc:  0.6950109821148416 , v_acc:  0.7005347593582888\n",
      "t_recall:  0.5020206876050869 , v_recall:  0.5\n",
      "t_prec:  0.5979357075323037 , v_prec:  0.3502673796791444\n",
      "t_f:  0.41689894604643174 , v_f:  0.41194968553459116\n",
      "////////\n"
     ]
    },
    {
     "name": "stderr",
     "output_type": "stream",
     "text": [
      "\r",
      "Iterations:  17%|█████▋                            | 50/300 [01:23<06:39,  1.60s/it]"
     ]
    },
    {
     "name": "stdout",
     "output_type": "stream",
     "text": [
      "Epoch  49 , loss 0.4324955368041992\n",
      "Epoch  50 , loss 0.427257177233696\n"
     ]
    },
    {
     "name": "stderr",
     "output_type": "stream",
     "text": [
      "\r",
      "Iterations:  17%|█████▊                            | 51/300 [01:26<07:32,  1.82s/it]"
     ]
    },
    {
     "name": "stdout",
     "output_type": "stream",
     "text": [
      "Epoch:  50\n",
      "t_loss:  0.427257177233696 , v_loss:  0.6131497969230016\n",
      "t_acc:  0.6965798556636336 , v_acc:  0.7005347593582888\n",
      "t_recall:  0.5051700433817314 , v_recall:  0.5\n",
      "t_prec:  0.6529571813334799 , v_prec:  0.3502673796791444\n",
      "t_f:  0.4241837557372286 , v_f:  0.41194968553459116\n",
      "////////\n"
     ]
    },
    {
     "name": "stderr",
     "output_type": "stream",
     "text": [
      "\r",
      "Iterations:  17%|█████▉                            | 52/300 [01:27<07:10,  1.73s/it]"
     ]
    },
    {
     "name": "stdout",
     "output_type": "stream",
     "text": [
      "Epoch  51 , loss 0.4311580473184586\n",
      "Epoch  52 , loss 0.42115207970142365\n"
     ]
    },
    {
     "name": "stderr",
     "output_type": "stream",
     "text": [
      "\r",
      "Iterations:  18%|██████                            | 53/300 [01:29<07:32,  1.83s/it]"
     ]
    },
    {
     "name": "stdout",
     "output_type": "stream",
     "text": [
      "Epoch:  52\n",
      "t_loss:  0.42115207970142365 , v_loss:  0.6096107413371404\n",
      "t_acc:  0.6984625039221839 , v_acc:  0.7005347593582888\n",
      "t_recall:  0.5082564631348178 , v_recall:  0.5\n",
      "t_prec:  0.6940992771505318 , v_prec:  0.3502673796791444\n",
      "t_f:  0.43055139537551596 , v_f:  0.41194968553459116\n",
      "////////\n"
     ]
    },
    {
     "name": "stderr",
     "output_type": "stream",
     "text": [
      "\r",
      "Iterations:  18%|██████                            | 54/300 [01:30<06:40,  1.63s/it]"
     ]
    },
    {
     "name": "stdout",
     "output_type": "stream",
     "text": [
      "Epoch  53 , loss 0.4242138183116913\n",
      "Epoch  54 , loss 0.42917071998119355\n"
     ]
    },
    {
     "name": "stderr",
     "output_type": "stream",
     "text": [
      "\r",
      "Iterations:  18%|██████▏                           | 55/300 [01:32<07:13,  1.77s/it]"
     ]
    },
    {
     "name": "stdout",
     "output_type": "stream",
     "text": [
      "Epoch:  54\n",
      "t_loss:  0.42917071998119355 , v_loss:  0.6129056960344315\n",
      "t_acc:  0.6975211797929087 , v_acc:  0.7005347593582888\n",
      "t_recall:  0.5078679318897529 , v_recall:  0.5\n",
      "t_prec:  0.6580147758437342 , v_prec:  0.3502673796791444\n",
      "t_f:  0.43108339530625484 , v_f:  0.41194968553459116\n",
      "////////\n"
     ]
    },
    {
     "name": "stderr",
     "output_type": "stream",
     "text": [
      "\r",
      "Iterations:  19%|██████▎                           | 56/300 [01:34<06:29,  1.59s/it]"
     ]
    },
    {
     "name": "stdout",
     "output_type": "stream",
     "text": [
      "Epoch  55 , loss 0.4260784059762955\n",
      "Epoch  56 , loss 0.4231655538082123\n"
     ]
    },
    {
     "name": "stderr",
     "output_type": "stream",
     "text": [
      "\r",
      "Iterations:  19%|██████▍                           | 57/300 [01:36<06:48,  1.68s/it]"
     ]
    },
    {
     "name": "stdout",
     "output_type": "stream",
     "text": [
      "Epoch:  56\n",
      "t_loss:  0.4231655538082123 , v_loss:  0.6132742166519165\n",
      "t_acc:  0.7019140257295262 , v_acc:  0.7005347593582888\n",
      "t_recall:  0.5162242566117661 , v_recall:  0.5\n",
      "t_prec:  0.699220354063056 , v_prec:  0.3502673796791444\n",
      "t_f:  0.4490862654502948 , v_f:  0.41194968553459116\n",
      "////////\n"
     ]
    },
    {
     "name": "stderr",
     "output_type": "stream",
     "text": [
      "\r",
      "Iterations:  19%|██████▌                           | 58/300 [01:37<06:25,  1.59s/it]"
     ]
    },
    {
     "name": "stdout",
     "output_type": "stream",
     "text": [
      "Epoch  57 , loss 0.42718921780586244\n",
      "Epoch  58 , loss 0.4223922801017761\n"
     ]
    },
    {
     "name": "stderr",
     "output_type": "stream",
     "text": [
      "\r",
      "Iterations:  20%|██████▋                           | 59/300 [01:39<07:02,  1.75s/it]"
     ]
    },
    {
     "name": "stdout",
     "output_type": "stream",
     "text": [
      "Epoch:  58\n",
      "t_loss:  0.4223922801017761 , v_loss:  0.6138011316458384\n",
      "t_acc:  0.7019140257295262 , v_acc:  0.7005347593582888\n",
      "t_recall:  0.5147809083224182 , v_recall:  0.5\n",
      "t_prec:  0.7202497127749401 , v_prec:  0.3502673796791444\n",
      "t_f:  0.4447132349596728 , v_f:  0.41194968553459116\n",
      "////////\n"
     ]
    },
    {
     "name": "stderr",
     "output_type": "stream",
     "text": [
      "\r",
      "Iterations:  20%|██████▊                           | 60/300 [01:40<06:30,  1.63s/it]"
     ]
    },
    {
     "name": "stdout",
     "output_type": "stream",
     "text": [
      "Epoch  59 , loss 0.4276853615045548\n",
      "Epoch  60 , loss 0.4249040788412094\n"
     ]
    },
    {
     "name": "stderr",
     "output_type": "stream",
     "text": [
      "\r",
      "Iterations:  20%|██████▉                           | 61/300 [01:43<07:06,  1.78s/it]"
     ]
    },
    {
     "name": "stdout",
     "output_type": "stream",
     "text": [
      "Epoch:  60\n",
      "t_loss:  0.4249040788412094 , v_loss:  0.6133136053880056\n",
      "t_acc:  0.6984625039221839 , v_acc:  0.7005347593582888\n",
      "t_recall:  0.5099884810820351 , v_recall:  0.5\n",
      "t_prec:  0.666723520382057 , v_prec:  0.3502673796791444\n",
      "t_f:  0.43603753701415265 , v_f:  0.41194968553459116\n",
      "////////\n"
     ]
    },
    {
     "name": "stderr",
     "output_type": "stream",
     "text": [
      "\r",
      "Iterations:  21%|███████                           | 62/300 [01:44<06:24,  1.61s/it]"
     ]
    },
    {
     "name": "stdout",
     "output_type": "stream",
     "text": [
      "Epoch  61 , loss 0.4293443316221237\n",
      "Epoch  62 , loss 0.425448037981987\n"
     ]
    },
    {
     "name": "stderr",
     "output_type": "stream",
     "text": [
      "\r",
      "Iterations:  21%|███████▏                          | 63/300 [01:46<07:06,  1.80s/it]"
     ]
    },
    {
     "name": "stdout",
     "output_type": "stream",
     "text": [
      "Epoch:  62\n",
      "t_loss:  0.425448037981987 , v_loss:  0.6120352645715078\n",
      "t_acc:  0.6997176027612174 , v_acc:  0.7005347593582888\n",
      "t_recall:  0.5111800852771508 , v_recall:  0.5\n",
      "t_prec:  0.696058547551559 , v_prec:  0.3502673796791444\n",
      "t_f:  0.4374837813328051 , v_f:  0.41194968553459116\n",
      "////////\n"
     ]
    },
    {
     "name": "stderr",
     "output_type": "stream",
     "text": [
      "\r",
      "Iterations:  21%|███████▎                          | 64/300 [01:47<06:18,  1.60s/it]"
     ]
    },
    {
     "name": "stdout",
     "output_type": "stream",
     "text": [
      "Epoch  63 , loss 0.4221194672584534\n",
      "Epoch  64 , loss 0.427653421163559\n"
     ]
    },
    {
     "name": "stderr",
     "output_type": "stream",
     "text": [
      "\r",
      "Iterations:  22%|███████▎                          | 65/300 [01:49<06:55,  1.77s/it]"
     ]
    },
    {
     "name": "stdout",
     "output_type": "stream",
     "text": [
      "Epoch:  64\n",
      "t_loss:  0.427653421163559 , v_loss:  0.6106151094039282\n",
      "t_acc:  0.6987762786319422 , v_acc:  0.7005347593582888\n",
      "t_recall:  0.5128122416371726 , v_recall:  0.5\n",
      "t_prec:  0.6519957902161095 , v_prec:  0.3502673796791444\n",
      "t_f:  0.4441602232428347 , v_f:  0.41194968553459116\n",
      "////////\n"
     ]
    },
    {
     "name": "stderr",
     "output_type": "stream",
     "text": [
      "\r",
      "Iterations:  22%|███████▍                          | 66/300 [01:50<06:14,  1.60s/it]"
     ]
    },
    {
     "name": "stdout",
     "output_type": "stream",
     "text": [
      "Epoch  65 , loss 0.4211702501773834\n",
      "Epoch  66 , loss 0.42591048777103424\n"
     ]
    },
    {
     "name": "stderr",
     "output_type": "stream",
     "text": [
      "\r",
      "Iterations:  22%|███████▌                          | 67/300 [01:53<06:43,  1.73s/it]"
     ]
    },
    {
     "name": "stdout",
     "output_type": "stream",
     "text": [
      "Epoch:  66\n",
      "t_loss:  0.42591048777103424 , v_loss:  0.6125206102927526\n",
      "t_acc:  0.702541575149043 , v_acc:  0.7005347593582888\n",
      "t_recall:  0.5166757238803891 , v_recall:  0.5\n",
      "t_prec:  0.7122122920878107 , v_prec:  0.3502673796791444\n",
      "t_f:  0.44938043188249854 , v_f:  0.41194968553459116\n",
      "////////\n"
     ]
    },
    {
     "name": "stderr",
     "output_type": "stream",
     "text": [
      "\r",
      "Iterations:  23%|███████▋                          | 68/300 [01:54<06:08,  1.59s/it]"
     ]
    },
    {
     "name": "stdout",
     "output_type": "stream",
     "text": [
      "Epoch  67 , loss 0.4247090971469879\n",
      "Epoch  68 , loss 0.42013376355171206\n"
     ]
    },
    {
     "name": "stderr",
     "output_type": "stream",
     "text": [
      "\r",
      "Iterations:  23%|███████▊                          | 69/300 [01:56<06:30,  1.69s/it]"
     ]
    },
    {
     "name": "stdout",
     "output_type": "stream",
     "text": [
      "Epoch:  68\n",
      "t_loss:  0.42013376355171206 , v_loss:  0.611314058303833\n",
      "t_acc:  0.7031691245685597 , v_acc:  0.6951871657754011\n",
      "t_recall:  0.5182818697804903 , v_recall:  0.4961832061068702\n",
      "t_prec:  0.7097884020893295 , v_prec:  0.34946236559139787\n",
      "t_f:  0.45312305004367903 , v_f:  0.4100946372239748\n",
      "////////\n"
     ]
    },
    {
     "name": "stderr",
     "output_type": "stream",
     "text": [
      "\r",
      "Iterations:  23%|███████▉                          | 70/300 [01:57<05:53,  1.54s/it]"
     ]
    },
    {
     "name": "stdout",
     "output_type": "stream",
     "text": [
      "Epoch  69 , loss 0.41550278663635254\n",
      "Epoch  70 , loss 0.4184417748451233\n"
     ]
    },
    {
     "name": "stderr",
     "output_type": "stream",
     "text": [
      "\r",
      "Iterations:  24%|████████                          | 71/300 [01:59<06:25,  1.69s/it]"
     ]
    },
    {
     "name": "stdout",
     "output_type": "stream",
     "text": [
      "Epoch:  70\n",
      "t_loss:  0.4184417748451233 , v_loss:  0.6149281760056814\n",
      "t_acc:  0.700972701600251 , v_acc:  0.7005347593582888\n",
      "t_recall:  0.5175677433139184 , v_recall:  0.5\n",
      "t_prec:  0.6663851277043137 , v_prec:  0.3502673796791444\n",
      "t_f:  0.45460273793031 , v_f:  0.41194968553459116\n",
      "////////\n"
     ]
    },
    {
     "name": "stderr",
     "output_type": "stream",
     "text": [
      "\r",
      "Iterations:  24%|████████▏                         | 72/300 [02:00<06:12,  1.63s/it]"
     ]
    },
    {
     "name": "stdout",
     "output_type": "stream",
     "text": [
      "Epoch  71 , loss 0.4152378708124161\n",
      "Epoch  72 , loss 0.41924766182899476\n"
     ]
    },
    {
     "name": "stderr",
     "output_type": "stream",
     "text": [
      "\r",
      "Iterations:  24%|████████▎                         | 73/300 [02:03<07:01,  1.86s/it]"
     ]
    },
    {
     "name": "stdout",
     "output_type": "stream",
     "text": [
      "Epoch:  72\n",
      "t_loss:  0.41924766182899476 , v_loss:  0.6119776517152786\n",
      "t_acc:  0.7059930969563853 , v_acc:  0.6951871657754011\n",
      "t_recall:  0.5217568207786417 , v_recall:  0.4961832061068702\n",
      "t_prec:  0.7456499166168465 , v_prec:  0.34946236559139787\n",
      "t_f:  0.45874894626003193 , v_f:  0.4100946372239748\n",
      "////////\n"
     ]
    },
    {
     "name": "stderr",
     "output_type": "stream",
     "text": [
      "\r",
      "Iterations:  25%|████████▍                         | 74/300 [02:04<06:22,  1.69s/it]"
     ]
    },
    {
     "name": "stdout",
     "output_type": "stream",
     "text": [
      "Epoch  73 , loss 0.41987238705158236\n",
      "Epoch  74 , loss 0.4188467091321945\n"
     ]
    },
    {
     "name": "stderr",
     "output_type": "stream",
     "text": [
      "\r",
      "Iterations:  25%|████████▌                         | 75/300 [02:06<06:36,  1.76s/it]"
     ]
    },
    {
     "name": "stdout",
     "output_type": "stream",
     "text": [
      "Epoch:  74\n",
      "t_loss:  0.4188467091321945 , v_loss:  0.616188625494639\n",
      "t_acc:  0.7047379981173517 , v_acc:  0.7005347593582888\n",
      "t_recall:  0.522585904188613 , v_recall:  0.5\n",
      "t_prec:  0.7030609262120516 , v_prec:  0.3502673796791444\n",
      "t_f:  0.46312079020036967 , v_f:  0.41194968553459116\n",
      "////////\n"
     ]
    },
    {
     "name": "stderr",
     "output_type": "stream",
     "text": [
      "\r",
      "Iterations:  25%|████████▌                         | 76/300 [02:07<06:08,  1.64s/it]"
     ]
    },
    {
     "name": "stdout",
     "output_type": "stream",
     "text": [
      "Epoch  75 , loss 0.41616635024547577\n",
      "Epoch  76 , loss 0.4170709705352783\n"
     ]
    },
    {
     "name": "stderr",
     "output_type": "stream",
     "text": [
      "\r",
      "Iterations:  26%|████████▋                         | 77/300 [02:10<06:36,  1.78s/it]"
     ]
    },
    {
     "name": "stdout",
     "output_type": "stream",
     "text": [
      "Epoch:  76\n",
      "t_loss:  0.4170709705352783 , v_loss:  0.6140412290891012\n",
      "t_acc:  0.7063068716661437 , v_acc:  0.6951871657754011\n",
      "t_recall:  0.5254465903073879 , v_recall:  0.5012949836423118\n",
      "t_prec:  0.7101882970397311 , v_prec:  0.5172101449275363\n",
      "t_f:  0.46881517316831345 , v_f:  0.4264729620661824\n",
      "////////\n"
     ]
    },
    {
     "name": "stderr",
     "output_type": "stream",
     "text": [
      "\r",
      "Iterations:  26%|████████▊                         | 78/300 [02:11<05:52,  1.59s/it]"
     ]
    },
    {
     "name": "stdout",
     "output_type": "stream",
     "text": [
      "Epoch  77 , loss 0.4196886193752289\n",
      "Epoch  78 , loss 0.41554313838481904\n"
     ]
    },
    {
     "name": "stderr",
     "output_type": "stream",
     "text": [
      "\r",
      "Iterations:  26%|████████▉                         | 79/300 [02:13<06:17,  1.71s/it]"
     ]
    },
    {
     "name": "stdout",
     "output_type": "stream",
     "text": [
      "Epoch:  78\n",
      "t_loss:  0.41554313838481904 , v_loss:  0.6157098412513733\n",
      "t_acc:  0.7078757452149357 , v_acc:  0.7005347593582888\n",
      "t_recall:  0.5271525977946846 , v_recall:  0.5051117775354417\n",
      "t_prec:  0.7269089243572227 , v_prec:  0.6013513513513513\n",
      "t_f:  0.47125132205123543 , v_f:  0.428633784373636\n",
      "////////\n"
     ]
    },
    {
     "name": "stderr",
     "output_type": "stream",
     "text": [
      "\r",
      "Iterations:  27%|█████████                         | 80/300 [02:14<05:57,  1.62s/it]"
     ]
    },
    {
     "name": "stdout",
     "output_type": "stream",
     "text": [
      "Epoch  79 , loss 0.41207885682582857\n",
      "Epoch  80 , loss 0.41531276643276216\n"
     ]
    },
    {
     "name": "stderr",
     "output_type": "stream",
     "text": [
      "\r",
      "Iterations:  27%|█████████▏                        | 81/300 [02:16<06:33,  1.80s/it]"
     ]
    },
    {
     "name": "stdout",
     "output_type": "stream",
     "text": [
      "Epoch:  80\n",
      "t_loss:  0.41531276643276216 , v_loss:  0.6139585822820663\n",
      "t_acc:  0.7059930969563853 , v_acc:  0.7058823529411765\n",
      "t_recall:  0.5246435173573373 , v_recall:  0.5191521264994547\n",
      "t_prec:  0.7108901131223517 , v_prec:  0.6543956043956044\n",
      "t_f:  0.46703336222850106 , v_f:  0.46132090294872474\n",
      "////////\n"
     ]
    },
    {
     "name": "stderr",
     "output_type": "stream",
     "text": [
      "\r",
      "Iterations:  27%|█████████▎                        | 82/300 [02:17<05:50,  1.61s/it]"
     ]
    },
    {
     "name": "stdout",
     "output_type": "stream",
     "text": [
      "Epoch  81 , loss 0.4169429576396942\n",
      "Epoch  82 , loss 0.41468311548233033\n"
     ]
    },
    {
     "name": "stderr",
     "output_type": "stream",
     "text": [
      "\r",
      "Iterations:  28%|█████████▍                        | 83/300 [02:20<06:22,  1.76s/it]"
     ]
    },
    {
     "name": "stdout",
     "output_type": "stream",
     "text": [
      "Epoch:  82\n",
      "t_loss:  0.41468311548233033 , v_loss:  0.6176177710294724\n",
      "t_acc:  0.7069344210856605 , v_acc:  0.7112299465240641\n",
      "t_recall:  0.5253207182602718 , v_recall:  0.5178571428571429\n",
      "t_prec:  0.7248022696720027 , v_prec:  0.854054054054054\n",
      "t_f:  0.4675220922328361 , v_f:  0.44903972064600617\n",
      "////////\n"
     ]
    },
    {
     "name": "stderr",
     "output_type": "stream",
     "text": [
      "\r",
      "Iterations:  28%|█████████▌                        | 84/300 [02:21<05:39,  1.57s/it]"
     ]
    },
    {
     "name": "stdout",
     "output_type": "stream",
     "text": [
      "Epoch  83 , loss 0.415822052359581\n",
      "Epoch  84 , loss 0.4169223642349243\n"
     ]
    },
    {
     "name": "stderr",
     "output_type": "stream",
     "text": [
      "\r",
      "Iterations:  28%|█████████▋                        | 85/300 [02:23<06:01,  1.68s/it]"
     ]
    },
    {
     "name": "stdout",
     "output_type": "stream",
     "text": [
      "Epoch:  84\n",
      "t_loss:  0.4169223642349243 , v_loss:  0.6181233177582423\n",
      "t_acc:  0.7053655475368685 , v_acc:  0.7112299465240641\n",
      "t_recall:  0.5256353983780621 , v_recall:  0.5280806979280261\n",
      "t_prec:  0.6918124569927226 , v_prec:  0.6896869244935543\n",
      "t_f:  0.47072019610600124 , v_f:  0.47797766749379644\n",
      "////////\n"
     ]
    },
    {
     "name": "stderr",
     "output_type": "stream",
     "text": [
      "\r",
      "Iterations:  29%|█████████▋                        | 86/300 [02:24<05:23,  1.51s/it]"
     ]
    },
    {
     "name": "stdout",
     "output_type": "stream",
     "text": [
      "Epoch  85 , loss 0.41300785422325137\n",
      "Epoch  86 , loss 0.41438143789768217\n"
     ]
    },
    {
     "name": "stderr",
     "output_type": "stream",
     "text": [
      "\r",
      "Iterations:  29%|█████████▊                        | 87/300 [02:26<05:59,  1.69s/it]"
     ]
    },
    {
     "name": "stdout",
     "output_type": "stream",
     "text": [
      "Epoch:  86\n",
      "t_loss:  0.41438143789768217 , v_loss:  0.6172614842653275\n",
      "t_acc:  0.708189519924694 , v_acc:  0.7112299465240641\n",
      "t_recall:  0.5282443404026047 , v_recall:  0.5280806979280261\n",
      "t_prec:  0.7229806535832674 , v_prec:  0.6896869244935543\n",
      "t_f:  0.4738160501629729 , v_f:  0.47797766749379644\n",
      "////////\n"
     ]
    },
    {
     "name": "stderr",
     "output_type": "stream",
     "text": [
      "\r",
      "Iterations:  29%|█████████▉                        | 88/300 [02:27<05:22,  1.52s/it]"
     ]
    },
    {
     "name": "stdout",
     "output_type": "stream",
     "text": [
      "Epoch  87 , loss 0.4186619806289673\n",
      "Epoch  88 , loss 0.4149092036485672\n"
     ]
    },
    {
     "name": "stderr",
     "output_type": "stream",
     "text": [
      "\r",
      "Iterations:  30%|██████████                        | 89/300 [02:29<05:40,  1.61s/it]"
     ]
    },
    {
     "name": "stdout",
     "output_type": "stream",
     "text": [
      "Epoch:  88\n",
      "t_loss:  0.4149092036485672 , v_loss:  0.6158255686362585\n",
      "t_acc:  0.7091308440539692 , v_acc:  0.7165775401069518\n",
      "t_recall:  0.5335402558314523 , v_recall:  0.531897491821156\n",
      "t_prec:  0.7010398396391881 , v_prec:  0.7571428571428571\n",
      "t_f:  0.48667912460808305 , v_f:  0.48090923375058925\n",
      "////////\n"
     ]
    },
    {
     "name": "stderr",
     "output_type": "stream",
     "text": [
      "\r",
      "Iterations:  30%|██████████▏                       | 90/300 [02:30<05:26,  1.55s/it]"
     ]
    },
    {
     "name": "stdout",
     "output_type": "stream",
     "text": [
      "Epoch  89 , loss 0.4132130861282349\n",
      "Epoch  90 , loss 0.4135891717672348\n"
     ]
    },
    {
     "name": "stderr",
     "output_type": "stream",
     "text": [
      "\r",
      "Iterations:  30%|██████████▎                       | 91/300 [02:32<05:58,  1.72s/it]"
     ]
    },
    {
     "name": "stdout",
     "output_type": "stream",
     "text": [
      "Epoch:  90\n",
      "t_loss:  0.4135891717672348 , v_loss:  0.6185495257377625\n",
      "t_acc:  0.7069344210856605 , v_acc:  0.7165775401069518\n",
      "t_recall:  0.52647539689175 , v_recall:  0.5370092693565975\n",
      "t_prec:  0.7137382539765866 , v_prec:  0.7154761904761905\n",
      "t_f:  0.4707531281959374 , v_f:  0.4941560761496453\n",
      "////////\n"
     ]
    },
    {
     "name": "stderr",
     "output_type": "stream",
     "text": [
      "\r",
      "Iterations:  31%|██████████▍                       | 92/300 [02:34<05:25,  1.56s/it]"
     ]
    },
    {
     "name": "stdout",
     "output_type": "stream",
     "text": [
      "Epoch  91 , loss 0.4111929643154144\n",
      "Epoch  92 , loss 0.4116672885417938\n"
     ]
    },
    {
     "name": "stderr",
     "output_type": "stream",
     "text": [
      "\r",
      "Iterations:  31%|██████████▌                       | 93/300 [02:36<05:57,  1.73s/it]"
     ]
    },
    {
     "name": "stdout",
     "output_type": "stream",
     "text": [
      "Epoch:  92\n",
      "t_loss:  0.4116672885417938 , v_loss:  0.6193877806266149\n",
      "t_acc:  0.709758393473486 , v_acc:  0.7165775401069518\n",
      "t_recall:  0.5313936961792491 , v_recall:  0.5370092693565975\n",
      "t_prec:  0.7255029526573917 , v_prec:  0.7154761904761905\n",
      "t_f:  0.4801707621787518 , v_f:  0.4941560761496453\n",
      "////////\n"
     ]
    },
    {
     "name": "stderr",
     "output_type": "stream",
     "text": [
      "\r",
      "Iterations:  31%|██████████▋                       | 94/300 [02:37<05:40,  1.65s/it]"
     ]
    },
    {
     "name": "stdout",
     "output_type": "stream",
     "text": [
      "Epoch  93 , loss 0.41406673848629\n",
      "Epoch  94 , loss 0.40898743212223054\n"
     ]
    },
    {
     "name": "stderr",
     "output_type": "stream",
     "text": [
      "\r",
      "Iterations:  32%|██████████▊                       | 95/300 [02:39<06:05,  1.78s/it]"
     ]
    },
    {
     "name": "stdout",
     "output_type": "stream",
     "text": [
      "Epoch:  94\n",
      "t_loss:  0.40898743212223054 , v_loss:  0.6197904249032339\n",
      "t_acc:  0.7185440853467211 , v_acc:  0.7165775401069518\n",
      "t_recall:  0.5449309793867105 , v_recall:  0.5370092693565975\n",
      "t_prec:  0.7649619821853122 , v_prec:  0.7154761904761905\n",
      "t_f:  0.5040143115084911 , v_f:  0.4941560761496453\n",
      "////////\n"
     ]
    },
    {
     "name": "stderr",
     "output_type": "stream",
     "text": [
      "\r",
      "Iterations:  32%|██████████▉                       | 96/300 [02:40<05:21,  1.58s/it]"
     ]
    },
    {
     "name": "stdout",
     "output_type": "stream",
     "text": [
      "Epoch  95 , loss 0.4075937992334366\n",
      "Epoch  96 , loss 0.4083926874399185\n"
     ]
    },
    {
     "name": "stderr",
     "output_type": "stream",
     "text": [
      "\r",
      "Iterations:  32%|██████████▉                       | 97/300 [02:42<05:38,  1.67s/it]"
     ]
    },
    {
     "name": "stdout",
     "output_type": "stream",
     "text": [
      "Epoch:  96\n",
      "t_loss:  0.4083926874399185 , v_loss:  0.618852823972702\n",
      "t_acc:  0.7125823658613116 , v_acc:  0.7219251336898396\n",
      "t_recall:  0.5368893347824876 , v_recall:  0.545937840785169\n",
      "t_prec:  0.730609756097561 , v_prec:  0.7353351955307262\n",
      "t_f:  0.490912325002267 , v_f:  0.5098790322580644\n",
      "////////\n"
     ]
    },
    {
     "name": "stderr",
     "output_type": "stream",
     "text": [
      "\r",
      "Iterations:  33%|███████████                       | 98/300 [02:43<05:06,  1.52s/it]"
     ]
    },
    {
     "name": "stdout",
     "output_type": "stream",
     "text": [
      "Epoch  97 , loss 0.4105882513523102\n",
      "Epoch  98 , loss 0.40894588887691496\n"
     ]
    },
    {
     "name": "stderr",
     "output_type": "stream",
     "text": [
      "\r",
      "Iterations:  33%|███████████▏                      | 99/300 [02:45<05:39,  1.69s/it]"
     ]
    },
    {
     "name": "stdout",
     "output_type": "stream",
     "text": [
      "Epoch:  98\n",
      "t_loss:  0.40894588887691496 , v_loss:  0.6191768099864324\n",
      "t_acc:  0.714465014119862 , v_acc:  0.7219251336898396\n",
      "t_recall:  0.5396870848777044 , v_recall:  0.545937840785169\n",
      "t_prec:  0.7398564434812878 , v_prec:  0.7353351955307262\n",
      "t_f:  0.4957250422870624 , v_f:  0.5098790322580644\n",
      "////////\n"
     ]
    },
    {
     "name": "stderr",
     "output_type": "stream",
     "text": [
      "\r",
      "Iterations:  33%|███████████                      | 100/300 [02:47<05:10,  1.55s/it]"
     ]
    },
    {
     "name": "stdout",
     "output_type": "stream",
     "text": [
      "Epoch  99 , loss 0.4110923635959625\n",
      "Epoch  100 , loss 0.4067991960048676\n"
     ]
    },
    {
     "name": "stderr",
     "output_type": "stream",
     "text": [
      "\r",
      "Iterations:  34%|███████████                      | 101/300 [02:49<05:26,  1.64s/it]"
     ]
    },
    {
     "name": "stdout",
     "output_type": "stream",
     "text": [
      "Epoch:  100\n",
      "t_loss:  0.4067991960048676 , v_loss:  0.618246520558993\n",
      "t_acc:  0.7141512394101035 , v_acc:  0.7165775401069518\n",
      "t_recall:  0.5394613512433929 , v_recall:  0.5421210468920392\n",
      "t_prec:  0.7365308054233135 , v_prec:  0.6928838951310861\n",
      "t_f:  0.49553903184246356 , v_f:  0.5065471745083395\n",
      "////////\n"
     ]
    },
    {
     "name": "stderr",
     "output_type": "stream",
     "text": [
      "\r",
      "Iterations:  34%|███████████▏                     | 102/300 [02:50<05:18,  1.61s/it]"
     ]
    },
    {
     "name": "stdout",
     "output_type": "stream",
     "text": [
      "Epoch  101 , loss 0.40982605278491974\n",
      "Epoch  102 , loss 0.41517309486866\n"
     ]
    },
    {
     "name": "stderr",
     "output_type": "stream",
     "text": [
      "\r",
      "Iterations:  34%|███████████▎                     | 103/300 [02:52<05:34,  1.70s/it]"
     ]
    },
    {
     "name": "stdout",
     "output_type": "stream",
     "text": [
      "Epoch:  102\n",
      "t_loss:  0.41517309486866 , v_loss:  0.6200772325197855\n",
      "t_acc:  0.7110134923125196 , v_acc:  0.7165775401069518\n",
      "t_recall:  0.5377813542160169 , v_recall:  0.5421210468920392\n",
      "t_prec:  0.7031855741177411 , v_prec:  0.6928838951310861\n",
      "t_f:  0.4951374401371331 , v_f:  0.5065471745083395\n",
      "////////\n"
     ]
    },
    {
     "name": "stderr",
     "output_type": "stream",
     "text": [
      "\r",
      "Iterations:  35%|███████████▍                     | 104/300 [02:53<05:16,  1.62s/it]"
     ]
    },
    {
     "name": "stdout",
     "output_type": "stream",
     "text": [
      "Epoch  103 , loss 0.4068070423603058\n",
      "Epoch  104 , loss 0.4118137317895889\n"
     ]
    },
    {
     "name": "stderr",
     "output_type": "stream",
     "text": [
      "\r",
      "Iterations:  35%|███████████▌                     | 105/300 [02:55<05:36,  1.72s/it]"
     ]
    },
    {
     "name": "stdout",
     "output_type": "stream",
     "text": [
      "Epoch:  104\n",
      "t_loss:  0.4118137317895889 , v_loss:  0.6219174812237421\n",
      "t_acc:  0.7119548164417948 , v_acc:  0.7219251336898396\n",
      "t_recall:  0.5373038764874731 , v_recall:  0.5510496183206106\n",
      "t_prec:  0.7182222041082491 , v_prec:  0.7115819209039548\n",
      "t_f:  0.49277142773924293 , v_f:  0.5216450216450216\n",
      "////////\n"
     ]
    },
    {
     "name": "stderr",
     "output_type": "stream",
     "text": [
      "\r",
      "Iterations:  35%|███████████▋                     | 106/300 [02:57<05:02,  1.56s/it]"
     ]
    },
    {
     "name": "stdout",
     "output_type": "stream",
     "text": [
      "Epoch  105 , loss 0.4096177941560745\n",
      "Epoch  106 , loss 0.41136018812656405\n"
     ]
    },
    {
     "name": "stderr",
     "output_type": "stream",
     "text": [
      "\r",
      "Iterations:  36%|███████████▊                     | 107/300 [02:59<05:30,  1.71s/it]"
     ]
    },
    {
     "name": "stdout",
     "output_type": "stream",
     "text": [
      "Epoch:  106\n",
      "t_loss:  0.41136018812656405 , v_loss:  0.6227843264738718\n",
      "t_acc:  0.709758393473486 , v_acc:  0.7165775401069518\n",
      "t_recall:  0.5313936961792491 , v_recall:  0.5472328244274809\n",
      "t_prec:  0.7255029526573917 , v_prec:  0.6789772727272727\n",
      "t_f:  0.4801707621787518 , v_f:  0.5181583936992561\n",
      "////////\n"
     ]
    },
    {
     "name": "stderr",
     "output_type": "stream",
     "text": [
      "\r",
      "Iterations:  36%|███████████▉                     | 108/300 [03:00<04:59,  1.56s/it]"
     ]
    },
    {
     "name": "stdout",
     "output_type": "stream",
     "text": [
      "Epoch  107 , loss 0.4064219617843628\n",
      "Epoch  108 , loss 0.41042865097522735\n"
     ]
    },
    {
     "name": "stderr",
     "output_type": "stream",
     "text": [
      "\r",
      "Iterations:  36%|███████████▉                     | 109/300 [03:02<05:34,  1.75s/it]"
     ]
    },
    {
     "name": "stdout",
     "output_type": "stream",
     "text": [
      "Epoch:  108\n",
      "t_loss:  0.41042865097522735 , v_loss:  0.6250097006559372\n",
      "t_acc:  0.7103859428930028 , v_acc:  0.7165775401069518\n",
      "t_recall:  0.5335771813950896 , v_recall:  0.5472328244274809\n",
      "t_prec:  0.7193561111785411 , v_prec:  0.6789772727272727\n",
      "t_f:  0.4851314606869404 , v_f:  0.5181583936992561\n",
      "////////\n"
     ]
    },
    {
     "name": "stderr",
     "output_type": "stream",
     "text": [
      "\r",
      "Iterations:  37%|████████████                     | 110/300 [03:03<05:03,  1.59s/it]"
     ]
    },
    {
     "name": "stdout",
     "output_type": "stream",
     "text": [
      "Epoch  109 , loss 0.40770354568958284\n",
      "Epoch  110 , loss 0.4096733444929123\n"
     ]
    },
    {
     "name": "stderr",
     "output_type": "stream",
     "text": [
      "\r",
      "Iterations:  37%|████████████▏                    | 111/300 [03:05<05:20,  1.69s/it]"
     ]
    },
    {
     "name": "stdout",
     "output_type": "stream",
     "text": [
      "Epoch:  110\n",
      "t_loss:  0.4096733444929123 , v_loss:  0.626562496026357\n",
      "t_acc:  0.7125823658613116 , v_acc:  0.7272727272727273\n",
      "t_recall:  0.5380440134139658 , v_recall:  0.5650899672846238\n",
      "t_prec:  0.7225518965329856 , v_prec:  0.7110963748894783\n",
      "t_f:  0.49387650088142326 , v_f:  0.5468282252316465\n",
      "////////\n"
     ]
    },
    {
     "name": "stderr",
     "output_type": "stream",
     "text": [
      "\r",
      "Iterations:  37%|████████████▎                    | 112/300 [03:06<04:43,  1.51s/it]"
     ]
    },
    {
     "name": "stdout",
     "output_type": "stream",
     "text": [
      "Epoch  111 , loss 0.4024420648813248\n",
      "Epoch  112 , loss 0.40963101387023926\n"
     ]
    },
    {
     "name": "stderr",
     "output_type": "stream",
     "text": [
      "\r",
      "Iterations:  38%|████████████▍                    | 113/300 [03:08<05:08,  1.65s/it]"
     ]
    },
    {
     "name": "stdout",
     "output_type": "stream",
     "text": [
      "Epoch:  112\n",
      "t_loss:  0.40963101387023926 , v_loss:  0.6269765843947729\n",
      "t_acc:  0.7119548164417948 , v_acc:  0.7272727272727273\n",
      "t_recall:  0.5352831888823862 , v_recall:  0.5650899672846238\n",
      "t_prec:  0.732600295174931 , v_prec:  0.7110963748894783\n",
      "t_f:  0.48754231849290114 , v_f:  0.5468282252316465\n",
      "////////\n"
     ]
    },
    {
     "name": "stderr",
     "output_type": "stream",
     "text": [
      "\r",
      "Iterations:  38%|████████████▌                    | 114/300 [03:09<04:36,  1.49s/it]"
     ]
    },
    {
     "name": "stdout",
     "output_type": "stream",
     "text": [
      "Epoch  113 , loss 0.40526207387447355\n",
      "Epoch  114 , loss 0.40480099380016327\n"
     ]
    },
    {
     "name": "stderr",
     "output_type": "stream",
     "text": [
      "\r",
      "Iterations:  38%|████████████▋                    | 115/300 [03:11<04:56,  1.60s/it]"
     ]
    },
    {
     "name": "stdout",
     "output_type": "stream",
     "text": [
      "Epoch:  114\n",
      "t_loss:  0.40480099380016327 , v_loss:  0.6310497323671976\n",
      "t_acc:  0.714465014119862 , v_acc:  0.732620320855615\n",
      "t_recall:  0.539975754535574 , v_recall:  0.5689067611777535\n",
      "t_prec:  0.7376609175406332 , v_prec:  0.7407142857142857\n",
      "t_f:  0.49645979901242454 , v_f:  0.5506535947712419\n",
      "////////\n"
     ]
    },
    {
     "name": "stderr",
     "output_type": "stream",
     "text": [
      "\r",
      "Iterations:  39%|████████████▊                    | 116/300 [03:12<04:33,  1.49s/it]"
     ]
    },
    {
     "name": "stdout",
     "output_type": "stream",
     "text": [
      "Epoch  115 , loss 0.40764822363853453\n",
      "Epoch  116 , loss 0.4068838429450989\n"
     ]
    },
    {
     "name": "stderr",
     "output_type": "stream",
     "text": [
      "\r",
      "Iterations:  39%|████████████▊                    | 117/300 [03:15<05:08,  1.68s/it]"
     ]
    },
    {
     "name": "stdout",
     "output_type": "stream",
     "text": [
      "Epoch:  116\n",
      "t_loss:  0.4068838429450989 , v_loss:  0.6290476570526758\n",
      "t_acc:  0.7191716347662378 , v_acc:  0.732620320855615\n",
      "t_recall:  0.5465371252868118 , v_recall:  0.5689067611777535\n",
      "t_prec:  0.7617726975832789 , v_prec:  0.7407142857142857\n",
      "t_f:  0.5072673090373957 , v_f:  0.5506535947712419\n",
      "////////\n"
     ]
    },
    {
     "name": "stderr",
     "output_type": "stream",
     "text": [
      "\r",
      "Iterations:  39%|████████████▉                    | 118/300 [03:16<04:40,  1.54s/it]"
     ]
    },
    {
     "name": "stdout",
     "output_type": "stream",
     "text": [
      "Epoch  117 , loss 0.4036882919073105\n",
      "Epoch  118 , loss 0.4039373141527176\n"
     ]
    },
    {
     "name": "stderr",
     "output_type": "stream",
     "text": [
      "\r",
      "Iterations:  40%|█████████████                    | 119/300 [03:18<05:00,  1.66s/it]"
     ]
    },
    {
     "name": "stdout",
     "output_type": "stream",
     "text": [
      "Epoch:  118\n",
      "t_loss:  0.4039373141527176 , v_loss:  0.6326116671164831\n",
      "t_acc:  0.7147787888296203 , v_acc:  0.7272727272727273\n",
      "t_recall:  0.5425108454328419 , v_recall:  0.5650899672846238\n",
      "t_prec:  0.7253300244717885 , v_prec:  0.7110963748894783\n",
      "t_f:  0.5024285305754052 , v_f:  0.5468282252316465\n",
      "////////\n"
     ]
    },
    {
     "name": "stderr",
     "output_type": "stream",
     "text": [
      "\r",
      "Iterations:  40%|█████████████▏                   | 120/300 [03:19<04:47,  1.60s/it]"
     ]
    },
    {
     "name": "stdout",
     "output_type": "stream",
     "text": [
      "Epoch  119 , loss 0.40513419926166533\n",
      "Epoch  120 , loss 0.40225543797016144\n"
     ]
    },
    {
     "name": "stderr",
     "output_type": "stream",
     "text": [
      "\r",
      "Iterations:  40%|█████████████▎                   | 121/300 [03:21<05:18,  1.78s/it]"
     ]
    },
    {
     "name": "stdout",
     "output_type": "stream",
     "text": [
      "Epoch:  120\n",
      "t_loss:  0.40225543797016144 , v_loss:  0.632505456606547\n",
      "t_acc:  0.7210542830247882 , v_acc:  0.7219251336898396\n",
      "t_recall:  0.5522215719607242 , v_recall:  0.5612731733914941\n",
      "t_prec:  0.748379585651104 , v_prec:  0.685590421139554\n",
      "t_f:  0.5188607232297316 , v_f:  0.5430451127819549\n",
      "////////\n"
     ]
    },
    {
     "name": "stderr",
     "output_type": "stream",
     "text": [
      "\r",
      "Iterations:  41%|█████████████▍                   | 122/300 [03:23<04:44,  1.60s/it]"
     ]
    },
    {
     "name": "stdout",
     "output_type": "stream",
     "text": [
      "Epoch  121 , loss 0.40637354493141176\n",
      "Epoch  122 , loss 0.4061172616481781\n"
     ]
    },
    {
     "name": "stderr",
     "output_type": "stream",
     "text": [
      "\r",
      "Iterations:  41%|█████████████▌                   | 123/300 [03:25<05:13,  1.77s/it]"
     ]
    },
    {
     "name": "stdout",
     "output_type": "stream",
     "text": [
      "Epoch:  122\n",
      "t_loss:  0.4061172616481781 , v_loss:  0.6337190369764963\n",
      "t_acc:  0.7157201129588955 , v_acc:  0.7272727272727273\n",
      "t_recall:  0.5449200642829938 , v_recall:  0.5650899672846238\n",
      "t_prec:  0.7236684474664077 , v_prec:  0.7110963748894783\n",
      "t_f:  0.5072355980913503 , v_f:  0.5468282252316465\n",
      "////////\n"
     ]
    },
    {
     "name": "stderr",
     "output_type": "stream",
     "text": [
      "\r",
      "Iterations:  41%|█████████████▋                   | 124/300 [03:26<04:38,  1.58s/it]"
     ]
    },
    {
     "name": "stdout",
     "output_type": "stream",
     "text": [
      "Epoch  123 , loss 0.4026583951711655\n",
      "Epoch  124 , loss 0.4046121472120285\n"
     ]
    },
    {
     "name": "stderr",
     "output_type": "stream",
     "text": [
      "\r",
      "Iterations:  42%|█████████████▊                   | 125/300 [03:28<04:57,  1.70s/it]"
     ]
    },
    {
     "name": "stdout",
     "output_type": "stream",
     "text": [
      "Epoch:  124\n",
      "t_loss:  0.4046121472120285 , v_loss:  0.6380706280469894\n",
      "t_acc:  0.7138374647003451 , v_acc:  0.7272727272727273\n",
      "t_recall:  0.5406789658984291 , v_recall:  0.5650899672846238\n",
      "t_prec:  0.7236765487087283 , v_prec:  0.7110963748894783\n",
      "t_f:  0.4989926569448753 , v_f:  0.5468282252316465\n",
      "////////\n"
     ]
    },
    {
     "name": "stderr",
     "output_type": "stream",
     "text": [
      "\r",
      "Iterations:  42%|█████████████▊                   | 126/300 [03:29<04:38,  1.60s/it]"
     ]
    },
    {
     "name": "stdout",
     "output_type": "stream",
     "text": [
      "Epoch  125 , loss 0.4016324710845947\n",
      "Epoch  126 , loss 0.40485379338264466\n"
     ]
    },
    {
     "name": "stderr",
     "output_type": "stream",
     "text": [
      "\r",
      "Iterations:  42%|█████████████▉                   | 127/300 [03:31<04:55,  1.71s/it]"
     ]
    },
    {
     "name": "stdout",
     "output_type": "stream",
     "text": [
      "Epoch:  126\n",
      "t_loss:  0.40485379338264466 , v_loss:  0.6376851797103882\n",
      "t_acc:  0.7147787888296203 , v_acc:  0.7272727272727273\n",
      "t_recall:  0.5433768544064506 , v_recall:  0.5650899672846238\n",
      "t_prec:  0.7204287750901641 , v_prec:  0.7110963748894783\n",
      "t_f:  0.5045515001813691 , v_f:  0.5468282252316465\n",
      "////////\n"
     ]
    },
    {
     "name": "stderr",
     "output_type": "stream",
     "text": [
      "\r",
      "Iterations:  43%|██████████████                   | 128/300 [03:32<04:31,  1.58s/it]"
     ]
    },
    {
     "name": "stdout",
     "output_type": "stream",
     "text": [
      "Epoch  127 , loss 0.40392572939395904\n",
      "Epoch  128 , loss 0.40483756482601163\n"
     ]
    },
    {
     "name": "stderr",
     "output_type": "stream",
     "text": [
      "\r",
      "Iterations:  43%|██████████████▏                  | 129/300 [03:34<04:48,  1.69s/it]"
     ]
    },
    {
     "name": "stdout",
     "output_type": "stream",
     "text": [
      "Epoch:  128\n",
      "t_loss:  0.40483756482601163 , v_loss:  0.635345588127772\n",
      "t_acc:  0.714465014119862 , v_acc:  0.7272727272727273\n",
      "t_recall:  0.5425737814563999 , v_recall:  0.5650899672846238\n",
      "t_prec:  0.7209027416276245 , v_prec:  0.7110963748894783\n",
      "t_f:  0.5029468383102005 , v_f:  0.5468282252316465\n",
      "////////\n"
     ]
    },
    {
     "name": "stderr",
     "output_type": "stream",
     "text": [
      "\r",
      "Iterations:  43%|██████████████▎                  | 130/300 [03:36<04:39,  1.64s/it]"
     ]
    },
    {
     "name": "stdout",
     "output_type": "stream",
     "text": [
      "Epoch  129 , loss 0.4070951771736145\n",
      "Epoch  130 , loss 0.4004311889410019\n"
     ]
    },
    {
     "name": "stderr",
     "output_type": "stream",
     "text": [
      "\r",
      "Iterations:  44%|██████████████▍                  | 131/300 [03:38<04:57,  1.76s/it]"
     ]
    },
    {
     "name": "stdout",
     "output_type": "stream",
     "text": [
      "Epoch:  130\n",
      "t_loss:  0.4004311889410019 , v_loss:  0.6360369175672531\n",
      "t_acc:  0.7219956071540634 , v_acc:  0.7272727272727273\n",
      "t_recall:  0.5543421211530065 , v_recall:  0.5650899672846238\n",
      "t_prec:  0.7474378008442674 , v_prec:  0.7110963748894783\n",
      "t_f:  0.5228242118953178 , v_f:  0.5468282252316465\n",
      "////////\n"
     ]
    },
    {
     "name": "stderr",
     "output_type": "stream",
     "text": [
      "\r",
      "Iterations:  44%|██████████████▌                  | 132/300 [03:39<04:21,  1.56s/it]"
     ]
    },
    {
     "name": "stdout",
     "output_type": "stream",
     "text": [
      "Epoch  131 , loss 0.40291096866130827\n",
      "Epoch  132 , loss 0.40652664721012116\n"
     ]
    },
    {
     "name": "stderr",
     "output_type": "stream",
     "text": [
      "\r",
      "Iterations:  44%|██████████████▋                  | 133/300 [03:41<04:36,  1.66s/it]"
     ]
    },
    {
     "name": "stdout",
     "output_type": "stream",
     "text": [
      "Epoch:  132\n",
      "t_loss:  0.40652664721012116 , v_loss:  0.6378034253915151\n",
      "t_acc:  0.7197991841857546 , v_acc:  0.7272727272727273\n",
      "t_recall:  0.5513186374234781 , v_recall:  0.5650899672846238\n",
      "t_prec:  0.7380170701548032 , v_prec:  0.7110963748894783\n",
      "t_f:  0.518047289430791 , v_f:  0.5468282252316465\n",
      "////////\n"
     ]
    },
    {
     "name": "stderr",
     "output_type": "stream",
     "text": [
      "\r",
      "Iterations:  45%|██████████████▋                  | 134/300 [03:42<04:19,  1.57s/it]"
     ]
    },
    {
     "name": "stdout",
     "output_type": "stream",
     "text": [
      "Epoch  133 , loss 0.3999443131685257\n",
      "Epoch  134 , loss 0.4008356022834778\n"
     ]
    },
    {
     "name": "stderr",
     "output_type": "stream",
     "text": [
      "\r",
      "Iterations:  45%|██████████████▊                  | 135/300 [03:44<04:43,  1.72s/it]"
     ]
    },
    {
     "name": "stdout",
     "output_type": "stream",
     "text": [
      "Epoch:  134\n",
      "t_loss:  0.4008356022834778 , v_loss:  0.6394747396310171\n",
      "t_acc:  0.7197991841857546 , v_acc:  0.7272727272727273\n",
      "t_recall:  0.5524733160549564 , v_recall:  0.5650899672846238\n",
      "t_prec:  0.7318908999848107 , v_prec:  0.7110963748894783\n",
      "t_f:  0.5207198386407127 , v_f:  0.5468282252316465\n",
      "////////\n"
     ]
    },
    {
     "name": "stderr",
     "output_type": "stream",
     "text": [
      "\r",
      "Iterations:  45%|██████████████▉                  | 136/300 [03:45<04:13,  1.55s/it]"
     ]
    },
    {
     "name": "stdout",
     "output_type": "stream",
     "text": [
      "Epoch  135 , loss 0.4027163568139076\n",
      "Epoch  136 , loss 0.40873559772968293\n"
     ]
    },
    {
     "name": "stderr",
     "output_type": "stream",
     "text": [
      "\r",
      "Iterations:  46%|███████████████                  | 137/300 [03:47<04:34,  1.69s/it]"
     ]
    },
    {
     "name": "stdout",
     "output_type": "stream",
     "text": [
      "Epoch:  136\n",
      "t_loss:  0.40873559772968293 , v_loss:  0.6396988729635874\n",
      "t_acc:  0.716033887668654 , v_acc:  0.7272727272727273\n",
      "t_recall:  0.5457231372330444 , v_recall:  0.5650899672846238\n",
      "t_prec:  0.7231766759618219 , v_prec:  0.7110963748894783\n",
      "t_f:  0.508821337078975 , v_f:  0.5468282252316465\n",
      "////////\n"
     ]
    },
    {
     "name": "stderr",
     "output_type": "stream",
     "text": [
      "\r",
      "Iterations:  46%|███████████████▏                 | 138/300 [03:49<04:26,  1.65s/it]"
     ]
    },
    {
     "name": "stdout",
     "output_type": "stream",
     "text": [
      "Epoch  137 , loss 0.39886498570442197\n",
      "Epoch  138 , loss 0.399562703371048\n"
     ]
    },
    {
     "name": "stderr",
     "output_type": "stream",
     "text": [
      "\r",
      "Iterations:  46%|███████████████▎                 | 139/300 [03:51<04:43,  1.76s/it]"
     ]
    },
    {
     "name": "stdout",
     "output_type": "stream",
     "text": [
      "Epoch:  138\n",
      "t_loss:  0.399562703371048 , v_loss:  0.6424635797739029\n",
      "t_acc:  0.7223093818638218 , v_acc:  0.7272727272727273\n",
      "t_recall:  0.553990515471579 , v_recall:  0.5650899672846238\n",
      "t_prec:  0.7535588391836592 , v_prec:  0.7110963748894783\n",
      "t_f:  0.5216964991445466 , v_f:  0.5468282252316465\n",
      "////////\n"
     ]
    },
    {
     "name": "stderr",
     "output_type": "stream",
     "text": [
      "\r",
      "Iterations:  47%|███████████████▍                 | 140/300 [03:52<04:15,  1.60s/it]"
     ]
    },
    {
     "name": "stdout",
     "output_type": "stream",
     "text": [
      "Epoch  139 , loss 0.3977239227294922\n",
      "Epoch  140 , loss 0.3993339866399765\n"
     ]
    },
    {
     "name": "stderr",
     "output_type": "stream",
     "text": [
      "\r",
      "Iterations:  47%|███████████████▌                 | 141/300 [03:54<04:28,  1.69s/it]"
     ]
    },
    {
     "name": "stdout",
     "output_type": "stream",
     "text": [
      "Epoch:  140\n",
      "t_loss:  0.3993339866399765 , v_loss:  0.6408235132694244\n",
      "t_acc:  0.7235644807028554 , v_acc:  0.7272727272727273\n",
      "t_recall:  0.5580688162453902 , v_recall:  0.5650899672846238\n",
      "t_prec:  0.745119029413264 , v_prec:  0.7110963748894783\n",
      "t_f:  0.5297578084739316 , v_f:  0.5468282252316465\n",
      "////////\n"
     ]
    },
    {
     "name": "stderr",
     "output_type": "stream",
     "text": [
      "\r",
      "Iterations:  47%|███████████████▌                 | 142/300 [03:55<04:00,  1.52s/it]"
     ]
    },
    {
     "name": "stdout",
     "output_type": "stream",
     "text": [
      "Epoch  141 , loss 0.40634271144866946\n",
      "Epoch  142 , loss 0.3979703164100647\n"
     ]
    },
    {
     "name": "stderr",
     "output_type": "stream",
     "text": [
      "\r",
      "Iterations:  48%|███████████████▋                 | 143/300 [03:57<04:24,  1.69s/it]"
     ]
    },
    {
     "name": "stdout",
     "output_type": "stream",
     "text": [
      "Epoch:  142\n",
      "t_loss:  0.3979703164100647 , v_loss:  0.6400142361720403\n",
      "t_acc:  0.7270160025101977 , v_acc:  0.7272727272727273\n",
      "t_recall:  0.5619952345121645 , v_recall:  0.5650899672846238\n",
      "t_prec:  0.7631636540008517 , v_prec:  0.7110963748894783\n",
      "t_f:  0.5353106208394506 , v_f:  0.5468282252316465\n",
      "////////\n"
     ]
    },
    {
     "name": "stderr",
     "output_type": "stream",
     "text": [
      "\r",
      "Iterations:  48%|███████████████▊                 | 144/300 [03:59<04:08,  1.59s/it]"
     ]
    },
    {
     "name": "stdout",
     "output_type": "stream",
     "text": [
      "Epoch  143 , loss 0.40454530000686645\n",
      "Epoch  144 , loss 0.4037897676229477\n"
     ]
    },
    {
     "name": "stderr",
     "output_type": "stream",
     "text": [
      "\r",
      "Iterations:  48%|███████████████▉                 | 145/300 [04:01<04:26,  1.72s/it]"
     ]
    },
    {
     "name": "stdout",
     "output_type": "stream",
     "text": [
      "Epoch:  144\n",
      "t_loss:  0.4037897676229477 , v_loss:  0.6386057088772455\n",
      "t_acc:  0.7204267336052714 , v_acc:  0.7272727272727273\n",
      "t_recall:  0.5535021226393185 , v_recall:  0.5650899672846238\n",
      "t_prec:  0.7336908007920278 , v_prec:  0.7110963748894783\n",
      "t_f:  0.5224536747016825 , v_f:  0.5468282252316465\n",
      "////////\n"
     ]
    },
    {
     "name": "stderr",
     "output_type": "stream",
     "text": [
      "\r",
      "Iterations:  49%|████████████████                 | 146/300 [04:02<04:11,  1.63s/it]"
     ]
    },
    {
     "name": "stdout",
     "output_type": "stream",
     "text": [
      "Epoch  145 , loss 0.3991831663250923\n",
      "Epoch  146 , loss 0.4014560651779175\n"
     ]
    },
    {
     "name": "stderr",
     "output_type": "stream",
     "text": [
      "\r",
      "Iterations:  49%|████████████████▏                | 147/300 [04:04<04:19,  1.70s/it]"
     ]
    },
    {
     "name": "stdout",
     "output_type": "stream",
     "text": [
      "Epoch:  146\n",
      "t_loss:  0.4014560651779175 , v_loss:  0.6430215040842692\n",
      "t_acc:  0.7245058048321306 , v_acc:  0.7219251336898396\n",
      "t_recall:  0.5601893654376724 , v_recall:  0.5612731733914941\n",
      "t_prec:  0.7445323586244377 , v_prec:  0.685590421139554\n",
      "t_f:  0.5335927572003292 , v_f:  0.5430451127819549\n",
      "////////\n"
     ]
    },
    {
     "name": "stderr",
     "output_type": "stream",
     "text": [
      "\r",
      "Iterations:  49%|████████████████▎                | 148/300 [04:06<04:07,  1.63s/it]"
     ]
    },
    {
     "name": "stdout",
     "output_type": "stream",
     "text": [
      "Epoch  147 , loss 0.40494080424308776\n",
      "Epoch  148 , loss 0.39741396725177763\n"
     ]
    },
    {
     "name": "stderr",
     "output_type": "stream",
     "text": [
      "\r",
      "Iterations:  50%|████████████████▍                | 149/300 [04:08<04:29,  1.78s/it]"
     ]
    },
    {
     "name": "stdout",
     "output_type": "stream",
     "text": [
      "Epoch:  148\n",
      "t_loss:  0.39741396725177763 , v_loss:  0.644477903842926\n",
      "t_acc:  0.7223093818638218 , v_acc:  0.7219251336898396\n",
      "t_recall:  0.5545678547873181 , v_recall:  0.5612731733914941\n",
      "t_prec:  0.7499861690356626 , v_prec:  0.685590421139554\n",
      "t_f:  0.5230307799158145 , v_f:  0.5430451127819549\n",
      "////////\n"
     ]
    },
    {
     "name": "stderr",
     "output_type": "stream",
     "text": [
      "\r",
      "Iterations:  50%|████████████████▌                | 150/300 [04:09<03:57,  1.58s/it]"
     ]
    },
    {
     "name": "stdout",
     "output_type": "stream",
     "text": [
      "Epoch  149 , loss 0.4010042613744736\n",
      "Epoch  150 , loss 0.3977562975883484\n"
     ]
    },
    {
     "name": "stderr",
     "output_type": "stream",
     "text": [
      "\r",
      "Iterations:  50%|████████████████▌                | 151/300 [04:11<04:16,  1.72s/it]"
     ]
    },
    {
     "name": "stdout",
     "output_type": "stream",
     "text": [
      "Epoch:  150\n",
      "t_loss:  0.3977562975883484 , v_loss:  0.6421557515859604\n",
      "t_acc:  0.7226231565735801 , v_acc:  0.7165775401069518\n",
      "t_recall:  0.5553709277373686 , v_recall:  0.5574563794983642\n",
      "t_prec:  0.7490952438662549 , v_prec:  0.6633720930232558\n",
      "t_f:  0.524562753555686 , v_f:  0.5393018175056942\n",
      "////////\n"
     ]
    },
    {
     "name": "stderr",
     "output_type": "stream",
     "text": [
      "\r",
      "Iterations:  51%|████████████████▋                | 152/300 [04:12<03:57,  1.61s/it]"
     ]
    },
    {
     "name": "stdout",
     "output_type": "stream",
     "text": [
      "Epoch  151 , loss 0.40150359630584714\n",
      "Epoch  152 , loss 0.4022504031658173\n"
     ]
    },
    {
     "name": "stderr",
     "output_type": "stream",
     "text": [
      "\r",
      "Iterations:  51%|████████████████▊                | 153/300 [04:14<04:18,  1.76s/it]"
     ]
    },
    {
     "name": "stdout",
     "output_type": "stream",
     "text": [
      "Epoch:  152\n",
      "t_loss:  0.4022504031658173 , v_loss:  0.6447700659434\n",
      "t_acc:  0.7197991841857546 , v_acc:  0.7165775401069518\n",
      "t_recall:  0.5524733160549564 , v_recall:  0.5574563794983642\n",
      "t_prec:  0.7318908999848107 , v_prec:  0.6633720930232558\n",
      "t_f:  0.5207198386407127 , v_f:  0.5393018175056942\n",
      "////////\n"
     ]
    },
    {
     "name": "stderr",
     "output_type": "stream",
     "text": [
      "\r",
      "Iterations:  51%|████████████████▉                | 154/300 [04:16<03:55,  1.61s/it]"
     ]
    },
    {
     "name": "stdout",
     "output_type": "stream",
     "text": [
      "Epoch  153 , loss 0.39463452219963074\n",
      "Epoch  154 , loss 0.39892382025718687\n"
     ]
    },
    {
     "name": "stderr",
     "output_type": "stream",
     "text": [
      "\r",
      "Iterations:  52%|█████████████████                | 155/300 [04:17<04:05,  1.69s/it]"
     ]
    },
    {
     "name": "stdout",
     "output_type": "stream",
     "text": [
      "Epoch:  154\n",
      "t_loss:  0.39892382025718687 , v_loss:  0.6471243649721146\n",
      "t_acc:  0.7223093818638218 , v_acc:  0.7165775401069518\n",
      "t_recall:  0.5571658817081441 , v_recall:  0.5625681570338059\n",
      "t_prec:  0.7360410569557863 , v_prec:  0.6588235294117647\n",
      "t_f:  0.528912906773695 , v_f:  0.5489464342602285\n",
      "////////\n"
     ]
    },
    {
     "name": "stderr",
     "output_type": "stream",
     "text": [
      "\r",
      "Iterations:  52%|█████████████████▏               | 156/300 [04:19<03:47,  1.58s/it]"
     ]
    },
    {
     "name": "stdout",
     "output_type": "stream",
     "text": [
      "Epoch  155 , loss 0.39826046049594876\n",
      "Epoch  156 , loss 0.39575918912887575\n"
     ]
    },
    {
     "name": "stderr",
     "output_type": "stream",
     "text": [
      "\r",
      "Iterations:  52%|█████████████████▎               | 157/300 [04:21<04:14,  1.78s/it]"
     ]
    },
    {
     "name": "stdout",
     "output_type": "stream",
     "text": [
      "Epoch:  156\n",
      "t_loss:  0.39575918912887575 , v_loss:  0.6492764304081599\n",
      "t_acc:  0.7245058048321306 , v_acc:  0.7165775401069518\n",
      "t_recall:  0.5607667047534115 , v_recall:  0.5574563794983642\n",
      "t_prec:  0.7417128551897425 , v_prec:  0.6633720930232558\n",
      "t_f:  0.5348562039874037 , v_f:  0.5393018175056942\n",
      "////////\n"
     ]
    },
    {
     "name": "stderr",
     "output_type": "stream",
     "text": [
      "\r",
      "Iterations:  53%|█████████████████▍               | 158/300 [04:22<03:58,  1.68s/it]"
     ]
    },
    {
     "name": "stdout",
     "output_type": "stream",
     "text": [
      "Epoch  157 , loss 0.3981786134839058\n",
      "Epoch  158 , loss 0.39270604312419893\n"
     ]
    },
    {
     "name": "stderr",
     "output_type": "stream",
     "text": [
      "\r",
      "Iterations:  53%|█████████████████▍               | 159/300 [04:25<04:18,  1.83s/it]"
     ]
    },
    {
     "name": "stdout",
     "output_type": "stream",
     "text": [
      "Epoch:  158\n",
      "t_loss:  0.39270604312419893 , v_loss:  0.6480265011390051\n",
      "t_acc:  0.7301537496077816 , v_acc:  0.7112299465240641\n",
      "t_recall:  0.5674279370918448 , v_recall:  0.5536395856052345\n",
      "t_prec:  0.7682093633373979 , v_prec:  0.6438230994152047\n",
      "t_f:  0.544392181582195 , v_f:  0.5355960264900662\n",
      "////////\n"
     ]
    },
    {
     "name": "stderr",
     "output_type": "stream",
     "text": [
      "\r",
      "Iterations:  53%|█████████████████▌               | 160/300 [04:26<03:54,  1.67s/it]"
     ]
    },
    {
     "name": "stdout",
     "output_type": "stream",
     "text": [
      "Epoch  159 , loss 0.3915474569797516\n",
      "Epoch  160 , loss 0.39217136085033416\n"
     ]
    },
    {
     "name": "stderr",
     "output_type": "stream",
     "text": [
      "\r",
      "Iterations:  54%|█████████████████▋               | 161/300 [04:28<04:00,  1.73s/it]"
     ]
    },
    {
     "name": "stdout",
     "output_type": "stream",
     "text": [
      "Epoch:  160\n",
      "t_loss:  0.39217136085033416 , v_loss:  0.6501949628194174\n",
      "t_acc:  0.7285848760589897 , v_acc:  0.7165775401069518\n",
      "t_recall:  0.5665879385781568 , v_recall:  0.5625681570338059\n",
      "t_prec:  0.755548128342246 , v_prec:  0.6588235294117647\n",
      "t_f:  0.5438996324566505 , v_f:  0.5489464342602285\n",
      "////////\n"
     ]
    },
    {
     "name": "stderr",
     "output_type": "stream",
     "text": [
      "\r",
      "Iterations:  54%|█████████████████▊               | 162/300 [04:29<03:36,  1.57s/it]"
     ]
    },
    {
     "name": "stdout",
     "output_type": "stream",
     "text": [
      "Epoch  161 , loss 0.39077239751815795\n",
      "Epoch  162 , loss 0.3957043397426605\n"
     ]
    },
    {
     "name": "stderr",
     "output_type": "stream",
     "text": [
      "\r",
      "Iterations:  54%|█████████████████▉               | 163/300 [04:31<03:56,  1.73s/it]"
     ]
    },
    {
     "name": "stdout",
     "output_type": "stream",
     "text": [
      "Epoch:  162\n",
      "t_loss:  0.3957043397426605 , v_loss:  0.6501903533935547\n",
      "t_acc:  0.7238782554126137 , v_acc:  0.7165775401069518\n",
      "t_recall:  0.5603152374847885 , v_recall:  0.5625681570338059\n",
      "t_prec:  0.7374385182205482 , v_prec:  0.6588235294117647\n",
      "t_f:  0.5344263165932921 , v_f:  0.5489464342602285\n",
      "////////\n"
     ]
    },
    {
     "name": "stderr",
     "output_type": "stream",
     "text": [
      "\r",
      "Iterations:  55%|██████████████████               | 164/300 [04:32<03:29,  1.54s/it]"
     ]
    },
    {
     "name": "stdout",
     "output_type": "stream",
     "text": [
      "Epoch  163 , loss 0.39508124768733976\n",
      "Epoch  164 , loss 0.39428509831428526\n"
     ]
    },
    {
     "name": "stderr",
     "output_type": "stream",
     "text": [
      "\r",
      "Iterations:  55%|██████████████████▏              | 165/300 [04:34<03:46,  1.67s/it]"
     ]
    },
    {
     "name": "stdout",
     "output_type": "stream",
     "text": [
      "Epoch:  164\n",
      "t_loss:  0.39428509831428526 , v_loss:  0.6551924794912338\n",
      "t_acc:  0.73046752431754 , v_acc:  0.7165775401069518\n",
      "t_recall:  0.568519679699765 , v_recall:  0.5625681570338059\n",
      "t_prec:  0.7656274195581324 , v_prec:  0.6588235294117647\n",
      "t_f:  0.5464543231695993 , v_f:  0.5489464342602285\n",
      "////////\n"
     ]
    },
    {
     "name": "stderr",
     "output_type": "stream",
     "text": [
      "\r",
      "Iterations:  55%|██████████████████▎              | 166/300 [04:36<03:33,  1.59s/it]"
     ]
    },
    {
     "name": "stdout",
     "output_type": "stream",
     "text": [
      "Epoch  165 , loss 0.39818803668022157\n",
      "Epoch  166 , loss 0.3921684980392456\n"
     ]
    },
    {
     "name": "stderr",
     "output_type": "stream",
     "text": [
      "\r",
      "Iterations:  56%|██████████████████▎              | 167/300 [04:38<03:48,  1.72s/it]"
     ]
    },
    {
     "name": "stdout",
     "output_type": "stream",
     "text": [
      "Epoch:  166\n",
      "t_loss:  0.3921684980392456 , v_loss:  0.6543678144613901\n",
      "t_acc:  0.7270160025101977 , v_acc:  0.7165775401069518\n",
      "t_recall:  0.5648819310908602 , v_recall:  0.5625681570338059\n",
      "t_prec:  0.7477590047746412 , v_prec:  0.6588235294117647\n",
      "t_f:  0.5415707710011507 , v_f:  0.5489464342602285\n",
      "////////\n"
     ]
    },
    {
     "name": "stderr",
     "output_type": "stream",
     "text": [
      "\r",
      "Iterations:  56%|██████████████████▍              | 168/300 [04:39<03:35,  1.63s/it]"
     ]
    },
    {
     "name": "stdout",
     "output_type": "stream",
     "text": [
      "Epoch  167 , loss 0.3927894550561905\n",
      "Epoch  168 , loss 0.39238078355789185\n"
     ]
    },
    {
     "name": "stderr",
     "output_type": "stream",
     "text": [
      "\r",
      "Iterations:  56%|██████████████████▌              | 169/300 [04:41<03:45,  1.72s/it]"
     ]
    },
    {
     "name": "stdout",
     "output_type": "stream",
     "text": [
      "Epoch:  168\n",
      "t_loss:  0.39238078355789185 , v_loss:  0.6530816455682119\n",
      "t_acc:  0.7307812990272984 , v_acc:  0.7165775401069518\n",
      "t_recall:  0.5701887616234242 , v_recall:  0.5625681570338059\n",
      "t_prec:  0.7602550280551528 , v_prec:  0.6588235294117647\n",
      "t_f:  0.5497021998087123 , v_f:  0.5489464342602285\n",
      "////////\n"
     ]
    },
    {
     "name": "stderr",
     "output_type": "stream",
     "text": [
      "\r",
      "Iterations:  57%|██████████████████▋              | 170/300 [04:42<03:22,  1.56s/it]"
     ]
    },
    {
     "name": "stdout",
     "output_type": "stream",
     "text": [
      "Epoch  169 , loss 0.39664927959442137\n",
      "Epoch  170 , loss 0.391520801782608\n"
     ]
    },
    {
     "name": "stderr",
     "output_type": "stream",
     "text": [
      "\r",
      "Iterations:  57%|██████████████████▊              | 171/300 [04:44<03:39,  1.70s/it]"
     ]
    },
    {
     "name": "stdout",
     "output_type": "stream",
     "text": [
      "Epoch:  170\n",
      "t_loss:  0.391520801782608 , v_loss:  0.6517639458179474\n",
      "t_acc:  0.7310950737370568 , v_acc:  0.7165775401069518\n",
      "t_recall:  0.5672391290211707 , v_recall:  0.5625681570338059\n",
      "t_prec:  0.7806949679681077 , v_prec:  0.6588235294117647\n",
      "t_f:  0.5431938576020571 , v_f:  0.5489464342602285\n",
      "////////\n"
     ]
    },
    {
     "name": "stderr",
     "output_type": "stream",
     "text": [
      "\r",
      "Iterations:  57%|██████████████████▉              | 172/300 [04:45<03:21,  1.57s/it]"
     ]
    },
    {
     "name": "stdout",
     "output_type": "stream",
     "text": [
      "Epoch  171 , loss 0.39406284272670744\n",
      "Epoch  172 , loss 0.39501817882061\n"
     ]
    },
    {
     "name": "stderr",
     "output_type": "stream",
     "text": [
      "\r",
      "Iterations:  58%|███████████████████              | 173/300 [04:48<03:42,  1.75s/it]"
     ]
    },
    {
     "name": "stdout",
     "output_type": "stream",
     "text": [
      "Epoch:  172\n",
      "t_loss:  0.39501817882061 , v_loss:  0.6501218577226003\n",
      "t_acc:  0.7329777219956072 , v_acc:  0.7165775401069518\n",
      "t_recall:  0.5752329329580396 , v_recall:  0.5625681570338059\n",
      "t_prec:  0.7579482622432859 , v_prec:  0.6588235294117647\n",
      "t_f:  0.5583524251040515 , v_f:  0.5489464342602285\n",
      "////////\n"
     ]
    },
    {
     "name": "stderr",
     "output_type": "stream",
     "text": [
      "\r",
      "Iterations:  58%|███████████████████▏             | 174/300 [04:49<03:15,  1.55s/it]"
     ]
    },
    {
     "name": "stdout",
     "output_type": "stream",
     "text": [
      "Epoch  173 , loss 0.38927654683589935\n",
      "Epoch  174 , loss 0.3894078850746155\n"
     ]
    },
    {
     "name": "stderr",
     "output_type": "stream",
     "text": [
      "\r",
      "Iterations:  58%|███████████████████▎             | 175/300 [04:51<03:32,  1.70s/it]"
     ]
    },
    {
     "name": "stdout",
     "output_type": "stream",
     "text": [
      "Epoch:  174\n",
      "t_loss:  0.3894078850746155 , v_loss:  0.6529450615247091\n",
      "t_acc:  0.7332914967053655 , v_acc:  0.7165775401069518\n",
      "t_recall:  0.5731493093293947 , v_recall:  0.5625681570338059\n",
      "t_prec:  0.771232532266009 , v_prec:  0.6588235294117647\n",
      "t_f:  0.5539007806962768 , v_f:  0.5489464342602285\n",
      "////////\n"
     ]
    },
    {
     "name": "stderr",
     "output_type": "stream",
     "text": [
      "\r",
      "Iterations:  59%|███████████████████▎             | 176/300 [04:52<03:16,  1.58s/it]"
     ]
    },
    {
     "name": "stdout",
     "output_type": "stream",
     "text": [
      "Epoch  175 , loss 0.3954686063528061\n",
      "Epoch  176 , loss 0.3885937565565109\n"
     ]
    },
    {
     "name": "stderr",
     "output_type": "stream",
     "text": [
      "\r",
      "Iterations:  59%|███████████████████▍             | 177/300 [04:54<03:33,  1.74s/it]"
     ]
    },
    {
     "name": "stdout",
     "output_type": "stream",
     "text": [
      "Epoch:  176\n",
      "t_loss:  0.3885937565565109 , v_loss:  0.6506139288345972\n",
      "t_acc:  0.733605271415124 , v_acc:  0.7165775401069518\n",
      "t_recall:  0.5768390788581408 , v_recall:  0.5625681570338059\n",
      "t_prec:  0.7566882341075889 , v_prec:  0.6588235294117647\n",
      "t_f:  0.561106510742559 , v_f:  0.5489464342602285\n",
      "////////\n"
     ]
    },
    {
     "name": "stderr",
     "output_type": "stream",
     "text": [
      "\r",
      "Iterations:  59%|███████████████████▌             | 178/300 [04:55<03:16,  1.61s/it]"
     ]
    },
    {
     "name": "stdout",
     "output_type": "stream",
     "text": [
      "Epoch  177 , loss 0.39310808300971983\n",
      "Epoch  178 , loss 0.3939067512750626\n"
     ]
    },
    {
     "name": "stderr",
     "output_type": "stream",
     "text": [
      "\r",
      "Iterations:  60%|███████████████████▋             | 179/300 [04:57<03:26,  1.71s/it]"
     ]
    },
    {
     "name": "stdout",
     "output_type": "stream",
     "text": [
      "Epoch:  178\n",
      "t_loss:  0.3939067512750626 , v_loss:  0.6513725916544596\n",
      "t_acc:  0.7345465955443992 , v_acc:  0.7165775401069518\n",
      "t_recall:  0.5798256370240318 , v_recall:  0.5625681570338059\n",
      "t_prec:  0.7526988281307436 , v_prec:  0.6588235294117647\n",
      "t_f:  0.5662999795391286 , v_f:  0.5489464342602285\n",
      "////////\n"
     ]
    },
    {
     "name": "stderr",
     "output_type": "stream",
     "text": [
      "\r",
      "Iterations:  60%|███████████████████▊             | 180/300 [04:59<03:15,  1.63s/it]"
     ]
    },
    {
     "name": "stdout",
     "output_type": "stream",
     "text": [
      "Epoch  179 , loss 0.3868465930223465\n",
      "Epoch  180 , loss 0.3909700134396553\n"
     ]
    },
    {
     "name": "stderr",
     "output_type": "stream",
     "text": [
      "\r",
      "Iterations:  60%|███████████████████▉             | 181/300 [05:01<03:31,  1.78s/it]"
     ]
    },
    {
     "name": "stdout",
     "output_type": "stream",
     "text": [
      "Epoch:  180\n",
      "t_loss:  0.3909700134396553 , v_loss:  0.6514095813035965\n",
      "t_acc:  0.7364292438029495 , v_acc:  0.7165775401069518\n",
      "t_recall:  0.5794480208826835 , v_recall:  0.5625681570338059\n",
      "t_prec:  0.7712065958458856 , v_prec:  0.6588235294117647\n",
      "t_f:  0.5643454147789408 , v_f:  0.5489464342602285\n",
      "////////\n"
     ]
    },
    {
     "name": "stderr",
     "output_type": "stream",
     "text": [
      "\r",
      "Iterations:  61%|████████████████████             | 182/300 [05:02<03:13,  1.64s/it]"
     ]
    },
    {
     "name": "stdout",
     "output_type": "stream",
     "text": [
      "Epoch  181 , loss 0.3888975375890732\n",
      "Epoch  182 , loss 0.3909417182207108\n"
     ]
    },
    {
     "name": "stderr",
     "output_type": "stream",
     "text": [
      "\r",
      "Iterations:  61%|████████████████████▏            | 183/300 [05:04<03:23,  1.74s/it]"
     ]
    },
    {
     "name": "stdout",
     "output_type": "stream",
     "text": [
      "Epoch:  182\n",
      "t_loss:  0.3909417182207108 , v_loss:  0.6511753251155218\n",
      "t_acc:  0.7339190461248823 , v_acc:  0.7165775401069518\n",
      "t_recall:  0.5770648124924523 , v_recall:  0.5625681570338059\n",
      "t_prec:  0.7585471284141766 , v_prec:  0.6588235294117647\n",
      "t_f:  0.5613390623031965 , v_f:  0.5489464342602285\n",
      "////////\n"
     ]
    },
    {
     "name": "stderr",
     "output_type": "stream",
     "text": [
      "\r",
      "Iterations:  61%|████████████████████▏            | 184/300 [05:05<03:03,  1.58s/it]"
     ]
    },
    {
     "name": "stdout",
     "output_type": "stream",
     "text": [
      "Epoch  183 , loss 0.3875164145231247\n",
      "Epoch  184 , loss 0.3855930107831955\n"
     ]
    },
    {
     "name": "stderr",
     "output_type": "stream",
     "text": [
      "\r",
      "Iterations:  62%|████████████████████▎            | 185/300 [05:07<03:14,  1.69s/it]"
     ]
    },
    {
     "name": "stdout",
     "output_type": "stream",
     "text": [
      "Epoch:  184\n",
      "t_loss:  0.3855930107831955 , v_loss:  0.6501328647136688\n",
      "t_acc:  0.7420771885786006 , v_acc:  0.7165775401069518\n",
      "t_recall:  0.587263931852595 , v_recall:  0.5625681570338059\n",
      "t_prec:  0.7878289977632749 , v_prec:  0.6588235294117647\n",
      "t_f:  0.5758883357207059 , v_f:  0.5489464342602285\n",
      "////////\n"
     ]
    },
    {
     "name": "stderr",
     "output_type": "stream",
     "text": [
      "\r",
      "Iterations:  62%|████████████████████▍            | 186/300 [05:09<03:02,  1.60s/it]"
     ]
    },
    {
     "name": "stdout",
     "output_type": "stream",
     "text": [
      "Epoch  185 , loss 0.38626806378364564\n",
      "Epoch  186 , loss 0.38493713855743406\n"
     ]
    },
    {
     "name": "stderr",
     "output_type": "stream",
     "text": [
      "\r",
      "Iterations:  62%|████████████████████▌            | 187/300 [05:11<03:09,  1.68s/it]"
     ]
    },
    {
     "name": "stdout",
     "output_type": "stream",
     "text": [
      "Epoch:  186\n",
      "t_loss:  0.38493713855743406 , v_loss:  0.6548930555582047\n",
      "t_acc:  0.7383118920614998 , v_acc:  0.7165775401069518\n",
      "t_recall:  0.58253444063577 , v_recall:  0.5625681570338059\n",
      "t_prec:  0.7745418251596775 , v_prec:  0.6588235294117647\n",
      "t_f:  0.5691400171179584 , v_f:  0.5489464342602285\n",
      "////////\n"
     ]
    },
    {
     "name": "stderr",
     "output_type": "stream",
     "text": [
      "\r",
      "Iterations:  63%|████████████████████▋            | 188/300 [05:12<02:56,  1.58s/it]"
     ]
    },
    {
     "name": "stdout",
     "output_type": "stream",
     "text": [
      "Epoch  187 , loss 0.3916019362211227\n",
      "Epoch  188 , loss 0.39149573504924773\n"
     ]
    },
    {
     "name": "stderr",
     "output_type": "stream",
     "text": [
      "\r",
      "Iterations:  63%|████████████████████▊            | 189/300 [05:14<03:03,  1.65s/it]"
     ]
    },
    {
     "name": "stdout",
     "output_type": "stream",
     "text": [
      "Epoch:  188\n",
      "t_loss:  0.39149573504924773 , v_loss:  0.6563837180534998\n",
      "t_acc:  0.7323501725760904 , v_acc:  0.7219251336898396\n",
      "t_recall:  0.5727607780843297 , v_recall:  0.5663849509269356\n",
      "t_prec:  0.7634533107303586 , v_prec:  0.6779970760233918\n",
      "t_f:  0.553809444167155 , v_f:  0.5527961736571009\n",
      "////////\n"
     ]
    },
    {
     "name": "stderr",
     "output_type": "stream",
     "text": [
      "\r",
      "Iterations:  63%|████████████████████▉            | 190/300 [05:15<02:56,  1.61s/it]"
     ]
    },
    {
     "name": "stdout",
     "output_type": "stream",
     "text": [
      "Epoch  189 , loss 0.3920764818787575\n",
      "Epoch  190 , loss 0.3890011042356491\n"
     ]
    },
    {
     "name": "stderr",
     "output_type": "stream",
     "text": [
      "\r",
      "Iterations:  64%|█████████████████████            | 191/300 [05:17<03:02,  1.68s/it]"
     ]
    },
    {
     "name": "stdout",
     "output_type": "stream",
     "text": [
      "Epoch:  190\n",
      "t_loss:  0.3890011042356491 , v_loss:  0.659427727262179\n",
      "t_acc:  0.7370567932224663 , v_acc:  0.7165775401069518\n",
      "t_recall:  0.579610818493437 , v_recall:  0.5574563794983642\n",
      "t_prec:  0.7766166046943992 , v_prec:  0.6633720930232558\n",
      "t_f:  0.5642452503866913 , v_f:  0.5393018175056942\n",
      "////////\n"
     ]
    },
    {
     "name": "stderr",
     "output_type": "stream",
     "text": [
      "\r",
      "Iterations:  64%|█████████████████████            | 192/300 [05:18<02:46,  1.54s/it]"
     ]
    },
    {
     "name": "stdout",
     "output_type": "stream",
     "text": [
      "Epoch  191 , loss 0.38785169064998626\n",
      "Epoch  192 , loss 0.38996001541614533\n"
     ]
    },
    {
     "name": "stderr",
     "output_type": "stream",
     "text": [
      "\r",
      "Iterations:  64%|█████████████████████▏           | 193/300 [05:20<03:00,  1.69s/it]"
     ]
    },
    {
     "name": "stdout",
     "output_type": "stream",
     "text": [
      "Epoch:  192\n",
      "t_loss:  0.38996001541614533 , v_loss:  0.6555147518714269\n",
      "t_acc:  0.7339190461248823 , v_acc:  0.7219251336898396\n",
      "t_recall:  0.5793741697554088 , v_recall:  0.5663849509269356\n",
      "t_prec:  0.7492721278954432 , v_prec:  0.6779970760233918\n",
      "t_f:  0.5658289261456011 , v_f:  0.5527961736571009\n",
      "////////\n"
     ]
    },
    {
     "name": "stderr",
     "output_type": "stream",
     "text": [
      "\r",
      "Iterations:  65%|█████████████████████▎           | 194/300 [05:22<02:42,  1.53s/it]"
     ]
    },
    {
     "name": "stdout",
     "output_type": "stream",
     "text": [
      "Epoch  193 , loss 0.3841459536552429\n",
      "Epoch  194 , loss 0.38921749860048294\n"
     ]
    },
    {
     "name": "stderr",
     "output_type": "stream",
     "text": [
      "\r",
      "Iterations:  65%|█████████████████████▍           | 195/300 [05:24<02:59,  1.71s/it]"
     ]
    },
    {
     "name": "stdout",
     "output_type": "stream",
     "text": [
      "Epoch:  194\n",
      "t_loss:  0.38921749860048294 , v_loss:  0.655719444155693\n",
      "t_acc:  0.7351741449639159 , v_acc:  0.7219251336898396\n",
      "t_recall:  0.5776790773718288 , v_recall:  0.5663849509269356\n",
      "t_prec:  0.767513636290929 , v_prec:  0.6779970760233918\n",
      "t_f:  0.5616991127831703 , v_f:  0.5527961736571009\n",
      "////////\n"
     ]
    },
    {
     "name": "stderr",
     "output_type": "stream",
     "text": [
      "\r",
      "Iterations:  65%|█████████████████████▌           | 196/300 [05:25<02:41,  1.56s/it]"
     ]
    },
    {
     "name": "stdout",
     "output_type": "stream",
     "text": [
      "Epoch  195 , loss 0.38766740292310714\n",
      "Epoch  196 , loss 0.3843844690918922\n"
     ]
    },
    {
     "name": "stderr",
     "output_type": "stream",
     "text": [
      "\r",
      "Iterations:  66%|█████████████████████▋           | 197/300 [05:27<02:56,  1.72s/it]"
     ]
    },
    {
     "name": "stdout",
     "output_type": "stream",
     "text": [
      "Epoch:  196\n",
      "t_loss:  0.3843844690918922 , v_loss:  0.6581029643615087\n",
      "t_acc:  0.7367430185127078 , v_acc:  0.7219251336898396\n",
      "t_recall:  0.5831377904114298 , v_recall:  0.5663849509269356\n",
      "t_prec:  0.7580205270137808 , v_prec:  0.6779970760233918\n",
      "t_f:  0.5712557657904531 , v_f:  0.5527961736571009\n",
      "////////\n"
     ]
    },
    {
     "name": "stderr",
     "output_type": "stream",
     "text": [
      "\r",
      "Iterations:  66%|█████████████████████▊           | 198/300 [05:28<02:37,  1.54s/it]"
     ]
    },
    {
     "name": "stdout",
     "output_type": "stream",
     "text": [
      "Epoch  197 , loss 0.38737686425447465\n",
      "Epoch  198 , loss 0.3910328197479248\n"
     ]
    },
    {
     "name": "stderr",
     "output_type": "stream",
     "text": [
      "\r",
      "Iterations:  66%|█████████████████████▉           | 199/300 [05:30<02:55,  1.74s/it]"
     ]
    },
    {
     "name": "stdout",
     "output_type": "stream",
     "text": [
      "Epoch:  198\n",
      "t_loss:  0.3910328197479248 , v_loss:  0.6535703539848328\n",
      "t_acc:  0.7345465955443992 , v_acc:  0.7219251336898396\n",
      "t_recall:  0.5815576549712491 , v_recall:  0.5663849509269356\n",
      "t_prec:  0.7463792111577263 , v_prec:  0.6779970760233918\n",
      "t_f:  0.5695883299490441 , v_f:  0.5527961736571009\n",
      "////////\n"
     ]
    },
    {
     "name": "stderr",
     "output_type": "stream",
     "text": [
      "\r",
      "Iterations:  67%|██████████████████████           | 200/300 [05:32<02:42,  1.63s/it]"
     ]
    },
    {
     "name": "stdout",
     "output_type": "stream",
     "text": [
      "Epoch  199 , loss 0.38162547528743745\n",
      "Epoch  200 , loss 0.3862194985151291\n"
     ]
    },
    {
     "name": "stderr",
     "output_type": "stream",
     "text": [
      "\r",
      "Iterations:  67%|██████████████████████           | 201/300 [05:34<03:01,  1.83s/it]"
     ]
    },
    {
     "name": "stdout",
     "output_type": "stream",
     "text": [
      "Epoch:  200\n",
      "t_loss:  0.3862194985151291 , v_loss:  0.6561960826317469\n",
      "t_acc:  0.7427047379981173 , v_acc:  0.7272727272727273\n",
      "t_recall:  0.5917567743313918 , v_recall:  0.5753135223555071\n",
      "t_prec:  0.7730536596423427 , v_prec:  0.6911764705882353\n",
      "t_f:  0.5838635874349205 , v_f:  0.5659673235334274\n",
      "////////\n"
     ]
    },
    {
     "name": "stderr",
     "output_type": "stream",
     "text": [
      "\r",
      "Iterations:  67%|██████████████████████▏          | 202/300 [05:35<02:45,  1.69s/it]"
     ]
    },
    {
     "name": "stdout",
     "output_type": "stream",
     "text": [
      "Epoch  201 , loss 0.38796295642852785\n",
      "Epoch  202 , loss 0.3892840725183487\n"
     ]
    },
    {
     "name": "stderr",
     "output_type": "stream",
     "text": [
      "\r",
      "Iterations:  68%|██████████████████████▎          | 203/300 [05:38<02:59,  1.85s/it]"
     ]
    },
    {
     "name": "stdout",
     "output_type": "stream",
     "text": [
      "Epoch:  202\n",
      "t_loss:  0.3892840725183487 , v_loss:  0.6577031016349792\n",
      "t_acc:  0.7345465955443992 , v_acc:  0.7219251336898396\n",
      "t_recall:  0.5795369673661622 , v_recall:  0.5714967284623773\n",
      "t_prec:  0.7538219704380925 , v_prec:  0.6724194608809994\n",
      "t_f:  0.5657450715114032 , v_f:  0.561981981981982\n",
      "////////\n"
     ]
    },
    {
     "name": "stderr",
     "output_type": "stream",
     "text": [
      "\r",
      "Iterations:  68%|██████████████████████▍          | 204/300 [05:39<02:38,  1.65s/it]"
     ]
    },
    {
     "name": "stdout",
     "output_type": "stream",
     "text": [
      "Epoch  203 , loss 0.39099135726690293\n",
      "Epoch  204 , loss 0.38984382688999175\n"
     ]
    },
    {
     "name": "stderr",
     "output_type": "stream",
     "text": [
      "\r",
      "Iterations:  68%|██████████████████████▌          | 205/300 [05:41<02:45,  1.75s/it]"
     ]
    },
    {
     "name": "stdout",
     "output_type": "stream",
     "text": [
      "Epoch:  204\n",
      "t_loss:  0.38984382688999175 , v_loss:  0.6569233189026514\n",
      "t_acc:  0.7348603702541575 , v_acc:  0.7272727272727273\n",
      "t_recall:  0.5791853616847347 , v_recall:  0.5753135223555071\n",
      "t_prec:  0.7579299879571298 , v_prec:  0.6911764705882353\n",
      "t_f:  0.564864059151013 , v_f:  0.5659673235334274\n",
      "////////\n"
     ]
    },
    {
     "name": "stderr",
     "output_type": "stream",
     "text": [
      "\r",
      "Iterations:  69%|██████████████████████▋          | 206/300 [05:42<02:27,  1.57s/it]"
     ]
    },
    {
     "name": "stdout",
     "output_type": "stream",
     "text": [
      "Epoch  205 , loss 0.3869673788547516\n",
      "Epoch  206 , loss 0.3821061486005783\n"
     ]
    },
    {
     "name": "stderr",
     "output_type": "stream",
     "text": [
      "\r",
      "Iterations:  69%|██████████████████████▊          | 207/300 [05:44<02:35,  1.67s/it]"
     ]
    },
    {
     "name": "stdout",
     "output_type": "stream",
     "text": [
      "Epoch:  206\n",
      "t_loss:  0.3821061486005783 , v_loss:  0.655623252193133\n",
      "t_acc:  0.7411358644493253 , v_acc:  0.7272727272727273\n",
      "t_recall:  0.5862980612917909 , v_recall:  0.5753135223555071\n",
      "t_prec:  0.7834507525713745 , v_prec:  0.6911764705882353\n",
      "t_f:  0.5746151915900075 , v_f:  0.5659673235334274\n",
      "////////\n"
     ]
    },
    {
     "name": "stderr",
     "output_type": "stream",
     "text": [
      "\r",
      "Iterations:  69%|██████████████████████▉          | 208/300 [05:45<02:22,  1.55s/it]"
     ]
    },
    {
     "name": "stdout",
     "output_type": "stream",
     "text": [
      "Epoch  207 , loss 0.3868284893035889\n",
      "Epoch  208 , loss 0.38167789578437805\n"
     ]
    },
    {
     "name": "stderr",
     "output_type": "stream",
     "text": [
      "\r",
      "Iterations:  70%|██████████████████████▉          | 209/300 [05:47<02:34,  1.69s/it]"
     ]
    },
    {
     "name": "stdout",
     "output_type": "stream",
     "text": [
      "Epoch:  208\n",
      "t_loss:  0.38167789578437805 , v_loss:  0.6603712886571884\n",
      "t_acc:  0.7398807656102918 , v_acc:  0.7165775401069518\n",
      "t_recall:  0.5856837964124144 , v_recall:  0.5676799345692476\n",
      "t_prec:  0.7745497975949518 , v_prec:  0.6555451127819549\n",
      "t_f:  0.5741986276808775 , v_f:  0.5580379041248607\n",
      "////////\n"
     ]
    },
    {
     "name": "stderr",
     "output_type": "stream",
     "text": [
      "\r",
      "Iterations:  70%|███████████████████████          | 210/300 [05:48<02:18,  1.54s/it]"
     ]
    },
    {
     "name": "stdout",
     "output_type": "stream",
     "text": [
      "Epoch  209 , loss 0.38464873492717744\n",
      "Epoch  210 , loss 0.3807878530025482\n"
     ]
    },
    {
     "name": "stderr",
     "output_type": "stream",
     "text": [
      "\r",
      "Iterations:  70%|███████████████████████▏         | 211/300 [05:50<02:28,  1.67s/it]"
     ]
    },
    {
     "name": "stdout",
     "output_type": "stream",
     "text": [
      "Epoch:  210\n",
      "t_loss:  0.3807878530025482 , v_loss:  0.6640809575716654\n",
      "t_acc:  0.737684342641983 , v_acc:  0.7112299465240641\n",
      "t_recall:  0.5855470092615817 , v_recall:  0.5638631406761178\n",
      "t_prec:  0.7564866340246097 , v_prec:  0.6402694610778443\n",
      "t_f:  0.5752108375339279 , v_f:  0.5541328152596257\n",
      "////////\n"
     ]
    },
    {
     "name": "stderr",
     "output_type": "stream",
     "text": [
      "\r",
      "Iterations:  71%|███████████████████████▎         | 212/300 [05:52<02:15,  1.54s/it]"
     ]
    },
    {
     "name": "stdout",
     "output_type": "stream",
     "text": [
      "Epoch  211 , loss 0.3872791653871536\n",
      "Epoch  212 , loss 0.38608816504478455\n"
     ]
    },
    {
     "name": "stderr",
     "output_type": "stream",
     "text": [
      "\r",
      "Iterations:  71%|███████████████████████▍         | 213/300 [05:53<02:22,  1.64s/it]"
     ]
    },
    {
     "name": "stdout",
     "output_type": "stream",
     "text": [
      "Epoch:  212\n",
      "t_loss:  0.38608816504478455 , v_loss:  0.6648761381705602\n",
      "t_acc:  0.7401945403200502 , v_acc:  0.7272727272727273\n",
      "t_recall:  0.5867755390203346 , v_recall:  0.5753135223555071\n",
      "t_prec:  0.7725158994107006 , v_prec:  0.6911764705882353\n",
      "t_f:  0.5760688099629218 , v_f:  0.5659673235334274\n",
      "////////\n"
     ]
    },
    {
     "name": "stderr",
     "output_type": "stream",
     "text": [
      "\r",
      "Iterations:  71%|███████████████████████▌         | 214/300 [05:55<02:15,  1.57s/it]"
     ]
    },
    {
     "name": "stdout",
     "output_type": "stream",
     "text": [
      "Epoch  213 , loss 0.38497457444667815\n",
      "Epoch  214 , loss 0.38530768156051637\n"
     ]
    },
    {
     "name": "stderr",
     "output_type": "stream",
     "text": [
      "\r",
      "Iterations:  72%|███████████████████████▋         | 215/300 [05:57<02:24,  1.69s/it]"
     ]
    },
    {
     "name": "stdout",
     "output_type": "stream",
     "text": [
      "Epoch:  214\n",
      "t_loss:  0.38530768156051637 , v_loss:  0.658991719285647\n",
      "t_acc:  0.7401945403200502 , v_acc:  0.7219251336898396\n",
      "t_recall:  0.5859095300467259 , v_recall:  0.5714967284623773\n",
      "t_prec:  0.7763977429294695 , v_prec:  0.6724194608809994\n",
      "t_f:  0.5744394960173189 , v_f:  0.561981981981982\n",
      "////////\n"
     ]
    },
    {
     "name": "stderr",
     "output_type": "stream",
     "text": [
      "\r",
      "Iterations:  72%|███████████████████████▊         | 216/300 [05:58<02:12,  1.58s/it]"
     ]
    },
    {
     "name": "stdout",
     "output_type": "stream",
     "text": [
      "Epoch  215 , loss 0.3804749941825867\n",
      "Epoch  216 , loss 0.38550240874290465\n"
     ]
    },
    {
     "name": "stderr",
     "output_type": "stream",
     "text": [
      "\r",
      "Iterations:  72%|███████████████████████▊         | 217/300 [06:00<02:20,  1.69s/it]"
     ]
    },
    {
     "name": "stdout",
     "output_type": "stream",
     "text": [
      "Epoch:  216\n",
      "t_loss:  0.38550240874290465 , v_loss:  0.6604052384694418\n",
      "t_acc:  0.742390963288359 , v_acc:  0.7219251336898396\n",
      "t_recall:  0.5915310406970803 , v_recall:  0.5714967284623773\n",
      "t_prec:  0.7713714230631524 , v_prec:  0.6724194608809994\n",
      "t_f:  0.5836171385968528 , v_f:  0.561981981981982\n",
      "////////\n"
     ]
    },
    {
     "name": "stderr",
     "output_type": "stream",
     "text": [
      "\r",
      "Iterations:  73%|███████████████████████▉         | 218/300 [06:01<02:07,  1.56s/it]"
     ]
    },
    {
     "name": "stdout",
     "output_type": "stream",
     "text": [
      "Epoch  217 , loss 0.3824498319625855\n",
      "Epoch  218 , loss 0.3848167222738266\n"
     ]
    },
    {
     "name": "stderr",
     "output_type": "stream",
     "text": [
      "\r",
      "Iterations:  73%|████████████████████████         | 219/300 [06:04<02:24,  1.78s/it]"
     ]
    },
    {
     "name": "stdout",
     "output_type": "stream",
     "text": [
      "Epoch:  218\n",
      "t_loss:  0.3848167222738266 , v_loss:  0.6601061969995499\n",
      "t_acc:  0.743959836837151 , v_acc:  0.7219251336898396\n",
      "t_recall:  0.5923710392107683 , v_recall:  0.5714967284623773\n",
      "t_prec:  0.7811800135731252 , v_prec:  0.6724194608809994\n",
      "t_f:  0.5843272045143297 , v_f:  0.561981981981982\n",
      "////////\n"
     ]
    },
    {
     "name": "stderr",
     "output_type": "stream",
     "text": [
      "\r",
      "Iterations:  73%|████████████████████████▏        | 220/300 [06:05<02:06,  1.58s/it]"
     ]
    },
    {
     "name": "stdout",
     "output_type": "stream",
     "text": [
      "Epoch  219 , loss 0.3818677419424057\n",
      "Epoch  220 , loss 0.3848202908039093\n"
     ]
    },
    {
     "name": "stderr",
     "output_type": "stream",
     "text": [
      "\r",
      "Iterations:  74%|████████████████████████▎        | 221/300 [06:07<02:17,  1.74s/it]"
     ]
    },
    {
     "name": "stdout",
     "output_type": "stream",
     "text": [
      "Epoch:  220\n",
      "t_loss:  0.3848202908039093 , v_loss:  0.6618330925703049\n",
      "t_acc:  0.7467838092249764 , v_acc:  0.7219251336898396\n",
      "t_recall:  0.599598695761224 , v_recall:  0.5714967284623773\n",
      "t_prec:  0.7750423272279514 , v_prec:  0.6724194608809994\n",
      "t_f:  0.5957557567941606 , v_f:  0.561981981981982\n",
      "////////\n"
     ]
    },
    {
     "name": "stderr",
     "output_type": "stream",
     "text": [
      "\r",
      "Iterations:  74%|████████████████████████▍        | 222/300 [06:08<02:00,  1.55s/it]"
     ]
    },
    {
     "name": "stdout",
     "output_type": "stream",
     "text": [
      "Epoch  221 , loss 0.38382318764925005\n",
      "Epoch  222 , loss 0.3816491425037384\n"
     ]
    },
    {
     "name": "stderr",
     "output_type": "stream",
     "text": [
      "\r",
      "Iterations:  74%|████████████████████████▌        | 223/300 [06:10<02:10,  1.69s/it]"
     ]
    },
    {
     "name": "stdout",
     "output_type": "stream",
     "text": [
      "Epoch:  222\n",
      "t_loss:  0.3816491425037384 , v_loss:  0.662053570151329\n",
      "t_acc:  0.742390963288359 , v_acc:  0.7219251336898396\n",
      "t_recall:  0.5918197103549498 , v_recall:  0.5714967284623773\n",
      "t_prec:  0.7702245332589719 , v_prec:  0.6724194608809994\n",
      "t_f:  0.58413783117839 , v_f:  0.561981981981982\n",
      "////////\n"
     ]
    },
    {
     "name": "stderr",
     "output_type": "stream",
     "text": [
      "\r",
      "Iterations:  75%|████████████████████████▋        | 224/300 [06:11<01:55,  1.52s/it]"
     ]
    },
    {
     "name": "stdout",
     "output_type": "stream",
     "text": [
      "Epoch  223 , loss 0.3867276901006699\n",
      "Epoch  224 , loss 0.3851401937007904\n"
     ]
    },
    {
     "name": "stderr",
     "output_type": "stream",
     "text": [
      "\r",
      "Iterations:  75%|████████████████████████▊        | 225/300 [06:13<02:09,  1.73s/it]"
     ]
    },
    {
     "name": "stdout",
     "output_type": "stream",
     "text": [
      "Epoch:  224\n",
      "t_loss:  0.3851401937007904 , v_loss:  0.6598574469486872\n",
      "t_acc:  0.7445873862566678 , v_acc:  0.7219251336898396\n",
      "t_recall:  0.5959978727159565 , v_recall:  0.5714967284623773\n",
      "t_prec:  0.7715848466531761 , v_prec:  0.6724194608809994\n",
      "t_f:  0.5904907762404845 , v_f:  0.561981981981982\n",
      "////////\n"
     ]
    },
    {
     "name": "stderr",
     "output_type": "stream",
     "text": [
      "\r",
      "Iterations:  75%|████████████████████████▊        | 226/300 [06:14<01:54,  1.55s/it]"
     ]
    },
    {
     "name": "stdout",
     "output_type": "stream",
     "text": [
      "Epoch  225 , loss 0.3777925992012024\n",
      "Epoch  226 , loss 0.3790434116125107\n"
     ]
    },
    {
     "name": "stderr",
     "output_type": "stream",
     "text": [
      "\r",
      "Iterations:  76%|████████████████████████▉        | 227/300 [06:16<02:00,  1.65s/it]"
     ]
    },
    {
     "name": "stdout",
     "output_type": "stream",
     "text": [
      "Epoch:  226\n",
      "t_loss:  0.3790434116125107 , v_loss:  0.6644978622595469\n",
      "t_acc:  0.7492940069030436 , v_acc:  0.7165775401069518\n",
      "t_recall:  0.5985178682570205 , v_recall:  0.5676799345692476\n",
      "t_prec:  0.8010437542224216 , v_prec:  0.6555451127819549\n",
      "t_f:  0.5927298555928906 , v_f:  0.5580379041248607\n",
      "////////\n"
     ]
    },
    {
     "name": "stderr",
     "output_type": "stream",
     "text": [
      "\r",
      "Iterations:  76%|█████████████████████████        | 228/300 [06:18<01:50,  1.54s/it]"
     ]
    },
    {
     "name": "stdout",
     "output_type": "stream",
     "text": [
      "Epoch  227 , loss 0.3840097391605377\n",
      "Epoch  228 , loss 0.38028948575258253\n"
     ]
    },
    {
     "name": "stderr",
     "output_type": "stream",
     "text": [
      "\r",
      "Iterations:  76%|█████████████████████████▏       | 229/300 [06:19<01:55,  1.63s/it]"
     ]
    },
    {
     "name": "stdout",
     "output_type": "stream",
     "text": [
      "Epoch:  228\n",
      "t_loss:  0.38028948575258253 , v_loss:  0.6585328827301661\n",
      "t_acc:  0.7458424850957013 , v_acc:  0.7219251336898396\n",
      "t_recall:  0.5983441555425503 , v_recall:  0.5714967284623773\n",
      "t_prec:  0.7725055535106167 , v_prec:  0.6724194608809994\n",
      "t_f:  0.5940043105400632 , v_f:  0.561981981981982\n",
      "////////\n"
     ]
    },
    {
     "name": "stderr",
     "output_type": "stream",
     "text": [
      "\r",
      "Iterations:  77%|█████████████████████████▎       | 230/300 [06:21<01:49,  1.56s/it]"
     ]
    },
    {
     "name": "stdout",
     "output_type": "stream",
     "text": [
      "Epoch  229 , loss 0.38090121388435366\n",
      "Epoch  230 , loss 0.38091220915317536\n"
     ]
    },
    {
     "name": "stderr",
     "output_type": "stream",
     "text": [
      "\r",
      "Iterations:  77%|█████████████████████████▍       | 231/300 [06:23<02:03,  1.79s/it]"
     ]
    },
    {
     "name": "stdout",
     "output_type": "stream",
     "text": [
      "Epoch:  230\n",
      "t_loss:  0.38091220915317536 , v_loss:  0.6604950974384943\n",
      "t_acc:  0.740822089739567 , v_acc:  0.7219251336898396\n",
      "t_recall:  0.5904023725255227 , v_recall:  0.5714967284623773\n",
      "t_prec:  0.7631547281036208 , v_prec:  0.6724194608809994\n",
      "t_f:  0.5823875245891237 , v_f:  0.561981981981982\n",
      "////////\n"
     ]
    },
    {
     "name": "stderr",
     "output_type": "stream",
     "text": [
      "\r",
      "Iterations:  77%|█████████████████████████▌       | 232/300 [06:24<01:51,  1.64s/it]"
     ]
    },
    {
     "name": "stdout",
     "output_type": "stream",
     "text": [
      "Epoch  231 , loss 0.3762466734647751\n",
      "Epoch  232 , loss 0.3818411090970039\n"
     ]
    },
    {
     "name": "stderr",
     "output_type": "stream",
     "text": [
      "\r",
      "Iterations:  78%|█████████████████████████▋       | 233/300 [06:27<02:01,  1.81s/it]"
     ]
    },
    {
     "name": "stdout",
     "output_type": "stream",
     "text": [
      "Epoch:  232\n",
      "t_loss:  0.3818411090970039 , v_loss:  0.6632641653219858\n",
      "t_acc:  0.7480389080640101 , v_acc:  0.7219251336898396\n",
      "t_recall:  0.6016563089299483 , v_recall:  0.5714967284623773\n",
      "t_prec:  0.7769603004672022 , v_prec:  0.6724194608809994\n",
      "t_f:  0.5987412966128149 , v_f:  0.561981981981982\n",
      "////////\n"
     ]
    },
    {
     "name": "stderr",
     "output_type": "stream",
     "text": [
      "\r",
      "Iterations:  78%|█████████████████████████▋       | 234/300 [06:28<01:47,  1.62s/it]"
     ]
    },
    {
     "name": "stdout",
     "output_type": "stream",
     "text": [
      "Epoch  233 , loss 0.38256459891796113\n",
      "Epoch  234 , loss 0.3833803927898407\n"
     ]
    },
    {
     "name": "stderr",
     "output_type": "stream",
     "text": [
      "\r",
      "Iterations:  78%|█████████████████████████▊       | 235/300 [06:30<01:51,  1.72s/it]"
     ]
    },
    {
     "name": "stdout",
     "output_type": "stream",
     "text": [
      "Epoch:  234\n",
      "t_loss:  0.3833803927898407 , v_loss:  0.6655325293540955\n",
      "t_acc:  0.7489802321932852 , v_acc:  0.7165775401069518\n",
      "t_recall:  0.6017561705171437 , v_recall:  0.5676799345692476\n",
      "t_prec:  0.783901709534621 , v_prec:  0.6555451127819549\n",
      "t_f:  0.5985241005214021 , v_f:  0.5580379041248607\n",
      "////////\n"
     ]
    },
    {
     "name": "stderr",
     "output_type": "stream",
     "text": [
      "\r",
      "Iterations:  79%|█████████████████████████▉       | 236/300 [06:31<01:38,  1.54s/it]"
     ]
    },
    {
     "name": "stdout",
     "output_type": "stream",
     "text": [
      "Epoch  235 , loss 0.386876807808876\n",
      "Epoch  236 , loss 0.3796180504560471\n"
     ]
    },
    {
     "name": "stderr",
     "output_type": "stream",
     "text": [
      "\r",
      "Iterations:  79%|██████████████████████████       | 237/300 [06:33<01:44,  1.65s/it]"
     ]
    },
    {
     "name": "stdout",
     "output_type": "stream",
     "text": [
      "Epoch:  236\n",
      "t_loss:  0.3796180504560471 , v_loss:  0.6611626396576563\n",
      "t_acc:  0.7433322874176341 , v_acc:  0.7219251336898396\n",
      "t_recall:  0.5950949381787105 , v_recall:  0.5714967284623773\n",
      "t_prec:  0.7653167407914243 , v_prec:  0.6724194608809994\n",
      "t_f:  0.5894908927831337 , v_f:  0.561981981981982\n",
      "////////\n"
     ]
    },
    {
     "name": "stderr",
     "output_type": "stream",
     "text": [
      "\r",
      "Iterations:  79%|██████████████████████████▏      | 238/300 [06:34<01:34,  1.53s/it]"
     ]
    },
    {
     "name": "stdout",
     "output_type": "stream",
     "text": [
      "Epoch  237 , loss 0.3840805760025978\n",
      "Epoch  238 , loss 0.37485428273677823\n"
     ]
    },
    {
     "name": "stderr",
     "output_type": "stream",
     "text": [
      "\r",
      "Iterations:  80%|██████████████████████████▎      | 239/300 [06:36<01:41,  1.66s/it]"
     ]
    },
    {
     "name": "stdout",
     "output_type": "stream",
     "text": [
      "Epoch:  238\n",
      "t_loss:  0.37485428273677823 , v_loss:  0.6639595528443655\n",
      "t_acc:  0.7470975839347349 , v_acc:  0.7165775401069518\n",
      "t_recall:  0.5980924114483182 , v_recall:  0.5676799345692476\n",
      "t_prec:  0.783484701643798 , v_prec:  0.6555451127819549\n",
      "t_f:  0.5930059155997166 , v_f:  0.5580379041248607\n",
      "////////\n"
     ]
    },
    {
     "name": "stderr",
     "output_type": "stream",
     "text": [
      "\r",
      "Iterations:  80%|██████████████████████████▍      | 240/300 [06:37<01:30,  1.51s/it]"
     ]
    },
    {
     "name": "stdout",
     "output_type": "stream",
     "text": [
      "Epoch  239 , loss 0.3826898801326752\n",
      "Epoch  240 , loss 0.3785721451044083\n"
     ]
    },
    {
     "name": "stderr",
     "output_type": "stream",
     "text": [
      "\r",
      "Iterations:  80%|██████████████████████████▌      | 241/300 [06:39<01:37,  1.65s/it]"
     ]
    },
    {
     "name": "stdout",
     "output_type": "stream",
     "text": [
      "Epoch:  240\n",
      "t_loss:  0.3785721451044083 , v_loss:  0.6619046231110891\n",
      "t_acc:  0.7461562598054596 , v_acc:  0.7219251336898396\n",
      "t_recall:  0.5977038802032532 , v_recall:  0.5714967284623773\n",
      "t_prec:  0.7773837215435576 , v_prec:  0.6724194608809994\n",
      "t_f:  0.5927547684556375 , v_f:  0.561981981981982\n",
      "////////\n"
     ]
    },
    {
     "name": "stderr",
     "output_type": "stream",
     "text": [
      "\r",
      "Iterations:  81%|██████████████████████████▌      | 242/300 [06:40<01:28,  1.53s/it]"
     ]
    },
    {
     "name": "stdout",
     "output_type": "stream",
     "text": [
      "Epoch  241 , loss 0.3734807798266411\n",
      "Epoch  242 , loss 0.3742962062358856\n"
     ]
    },
    {
     "name": "stderr",
     "output_type": "stream",
     "text": [
      "\r",
      "Iterations:  81%|██████████████████████████▋      | 243/300 [06:42<01:32,  1.63s/it]"
     ]
    },
    {
     "name": "stdout",
     "output_type": "stream",
     "text": [
      "Epoch:  242\n",
      "t_loss:  0.3742962062358856 , v_loss:  0.6635937641064326\n",
      "t_acc:  0.7502353310323188 , v_acc:  0.7219251336898396\n",
      "t_recall:  0.6023704353965201 , v_recall:  0.5714967284623773\n",
      "t_prec:  0.791659057645941 , v_prec:  0.6724194608809994\n",
      "t_f:  0.5990510690487931 , v_f:  0.561981981981982\n",
      "////////\n"
     ]
    },
    {
     "name": "stderr",
     "output_type": "stream",
     "text": [
      "\r",
      "Iterations:  81%|██████████████████████████▊      | 244/300 [06:43<01:23,  1.50s/it]"
     ]
    },
    {
     "name": "stdout",
     "output_type": "stream",
     "text": [
      "Epoch  243 , loss 0.37850721150636674\n",
      "Epoch  244 , loss 0.37621840864419936\n"
     ]
    },
    {
     "name": "stderr",
     "output_type": "stream",
     "text": [
      "\r",
      "Iterations:  82%|██████████████████████████▉      | 245/300 [06:45<01:28,  1.61s/it]"
     ]
    },
    {
     "name": "stdout",
     "output_type": "stream",
     "text": [
      "Epoch:  244\n",
      "t_loss:  0.37621840864419936 , v_loss:  0.6636099716027578\n",
      "t_acc:  0.7496077816128021 , v_acc:  0.7219251336898396\n",
      "t_recall:  0.6027849771015058 , v_recall:  0.5714967284623773\n",
      "t_prec:  0.7848107945316904 , v_prec:  0.6724194608809994\n",
      "t_f:  0.6000190614950252 , v_f:  0.561981981981982\n",
      "////////\n"
     ]
    },
    {
     "name": "stderr",
     "output_type": "stream",
     "text": [
      "\r",
      "Iterations:  82%|███████████████████████████      | 246/300 [06:47<01:24,  1.56s/it]"
     ]
    },
    {
     "name": "stdout",
     "output_type": "stream",
     "text": [
      "Epoch  245 , loss 0.3816213721036911\n",
      "Epoch  246 , loss 0.37726474106311797\n"
     ]
    },
    {
     "name": "stderr",
     "output_type": "stream",
     "text": [
      "\r",
      "Iterations:  82%|███████████████████████████▏     | 247/300 [06:49<01:29,  1.68s/it]"
     ]
    },
    {
     "name": "stdout",
     "output_type": "stream",
     "text": [
      "Epoch:  246\n",
      "t_loss:  0.37726474106311797 , v_loss:  0.6727550079425176\n",
      "t_acc:  0.7486664574835268 , v_acc:  0.7112299465240641\n",
      "t_recall:  0.6032624548300495 , v_recall:  0.5689749182115594\n",
      "t_prec:  0.7758097931941395 , v_prec:  0.6393939393939394\n",
      "t_f:  0.6011971333164092 , v_f:  0.5626299376299375\n",
      "////////\n"
     ]
    },
    {
     "name": "stderr",
     "output_type": "stream",
     "text": [
      "\r",
      "Iterations:  83%|███████████████████████████▎     | 248/300 [06:50<01:20,  1.56s/it]"
     ]
    },
    {
     "name": "stdout",
     "output_type": "stream",
     "text": [
      "Epoch  247 , loss 0.3764179527759552\n",
      "Epoch  248 , loss 0.3771022802591324\n"
     ]
    },
    {
     "name": "stderr",
     "output_type": "stream",
     "text": [
      "\r",
      "Iterations:  83%|███████████████████████████▍     | 249/300 [06:52<01:30,  1.78s/it]"
     ]
    },
    {
     "name": "stdout",
     "output_type": "stream",
     "text": [
      "Epoch:  248\n",
      "t_loss:  0.3771022802591324 , v_loss:  0.6614981641372045\n",
      "t_acc:  0.7505491057420772 , v_acc:  0.7165775401069518\n",
      "t_recall:  0.6037508476623099 , v_recall:  0.5676799345692476\n",
      "t_prec:  0.7884732607544587 , v_prec:  0.6555451127819549\n",
      "t_f:  0.601278250000118 , v_f:  0.5580379041248607\n",
      "////////\n"
     ]
    },
    {
     "name": "stderr",
     "output_type": "stream",
     "text": [
      "\r",
      "Iterations:  83%|███████████████████████████▌     | 250/300 [06:53<01:18,  1.57s/it]"
     ]
    },
    {
     "name": "stdout",
     "output_type": "stream",
     "text": [
      "Epoch  249 , loss 0.375791409611702\n",
      "Epoch  250 , loss 0.38223011791706085\n"
     ]
    },
    {
     "name": "stderr",
     "output_type": "stream",
     "text": [
      "\r",
      "Iterations:  84%|███████████████████████████▌     | 251/300 [06:56<01:25,  1.73s/it]"
     ]
    },
    {
     "name": "stdout",
     "output_type": "stream",
     "text": [
      "Epoch:  250\n",
      "t_loss:  0.38223011791706085 , v_loss:  0.6692306200663248\n",
      "t_acc:  0.7458424850957013 , v_acc:  0.7165775401069518\n",
      "t_recall:  0.5977668162268113 , v_recall:  0.5676799345692476\n",
      "t_prec:  0.7746656227572258 , v_prec:  0.6555451127819549\n",
      "t_f:  0.5930052532336081 , v_f:  0.5580379041248607\n",
      "////////\n"
     ]
    },
    {
     "name": "stderr",
     "output_type": "stream",
     "text": [
      "\r",
      "Iterations:  84%|███████████████████████████▋     | 252/300 [06:57<01:15,  1.57s/it]"
     ]
    },
    {
     "name": "stdout",
     "output_type": "stream",
     "text": [
      "Epoch  251 , loss 0.37079981088638303\n",
      "Epoch  252 , loss 0.37182851761579516\n"
     ]
    },
    {
     "name": "stderr",
     "output_type": "stream",
     "text": [
      "\r",
      "Iterations:  84%|███████████████████████████▊     | 253/300 [06:59<01:20,  1.71s/it]"
     ]
    },
    {
     "name": "stdout",
     "output_type": "stream",
     "text": [
      "Epoch:  252\n",
      "t_loss:  0.37182851761579516 , v_loss:  0.6713509211937586\n",
      "t_acc:  0.7543144022591779 , v_acc:  0.7112299465240641\n",
      "t_recall:  0.6116557051157001 , v_recall:  0.5638631406761178\n",
      "t_prec:  0.7870282810481397 , v_prec:  0.6402694610778443\n",
      "t_f:  0.6129625887147144 , v_f:  0.5541328152596257\n",
      "////////\n"
     ]
    },
    {
     "name": "stderr",
     "output_type": "stream",
     "text": [
      "\r",
      "Iterations:  85%|███████████████████████████▉     | 254/300 [07:00<01:12,  1.58s/it]"
     ]
    },
    {
     "name": "stdout",
     "output_type": "stream",
     "text": [
      "Epoch  253 , loss 0.378547380566597\n",
      "Epoch  254 , loss 0.38124159395694734\n"
     ]
    },
    {
     "name": "stderr",
     "output_type": "stream",
     "text": [
      "\r",
      "Iterations:  85%|████████████████████████████     | 255/300 [07:02<01:15,  1.68s/it]"
     ]
    },
    {
     "name": "stdout",
     "output_type": "stream",
     "text": [
      "Epoch:  254\n",
      "t_loss:  0.38124159395694734 , v_loss:  0.6702199677626292\n",
      "t_acc:  0.7492940069030436 , v_acc:  0.7219251336898396\n",
      "t_recall:  0.6042912614144116 , v_recall:  0.5714967284623773\n",
      "t_prec:  0.7767510710781775 , v_prec:  0.6724194608809994\n",
      "t_f:  0.6026738242433577 , v_f:  0.561981981981982\n",
      "////////\n"
     ]
    },
    {
     "name": "stderr",
     "output_type": "stream",
     "text": [
      "\r",
      "Iterations:  85%|████████████████████████████▏    | 256/300 [07:03<01:07,  1.54s/it]"
     ]
    },
    {
     "name": "stdout",
     "output_type": "stream",
     "text": [
      "Epoch  255 , loss 0.3758701053261757\n",
      "Epoch  256 , loss 0.37421426475048064\n"
     ]
    },
    {
     "name": "stderr",
     "output_type": "stream",
     "text": [
      "\r",
      "Iterations:  86%|████████████████████████████▎    | 257/300 [07:05<01:10,  1.64s/it]"
     ]
    },
    {
     "name": "stdout",
     "output_type": "stream",
     "text": [
      "Epoch:  256\n",
      "t_loss:  0.37421426475048064 , v_loss:  0.6695749908685684\n",
      "t_acc:  0.7530593034201444 , v_acc:  0.7058823529411765\n",
      "t_recall:  0.608154743657628 , v_recall:  0.560046346782988\n",
      "t_prec:  0.790777972027972 , v_prec:  0.6263625932300632\n",
      "t_f:  0.607692126013687 , v_f:  0.5502645502645502\n",
      "////////\n"
     ]
    },
    {
     "name": "stderr",
     "output_type": "stream",
     "text": [
      "\r",
      "Iterations:  86%|████████████████████████████▍    | 258/300 [07:06<01:06,  1.58s/it]"
     ]
    },
    {
     "name": "stdout",
     "output_type": "stream",
     "text": [
      "Epoch  257 , loss 0.37563109457492827\n",
      "Epoch  258 , loss 0.3759302389621735\n"
     ]
    },
    {
     "name": "stderr",
     "output_type": "stream",
     "text": [
      "\r",
      "Iterations:  86%|████████████████████████████▍    | 259/300 [07:08<01:08,  1.68s/it]"
     ]
    },
    {
     "name": "stdout",
     "output_type": "stream",
     "text": [
      "Epoch:  258\n",
      "t_loss:  0.3759302389621735 , v_loss:  0.6687362144390742\n",
      "t_acc:  0.7555695010982115 , v_acc:  0.7058823529411765\n",
      "t_recall:  0.6122699699950765 , v_recall:  0.560046346782988\n",
      "t_prec:  0.7941172891783235 , v_prec:  0.6263625932300632\n",
      "t_f:  0.6135523543645305 , v_f:  0.5502645502645502\n",
      "////////\n"
     ]
    },
    {
     "name": "stderr",
     "output_type": "stream",
     "text": [
      "\r",
      "Iterations:  87%|████████████████████████████▌    | 260/300 [07:10<01:01,  1.54s/it]"
     ]
    },
    {
     "name": "stdout",
     "output_type": "stream",
     "text": [
      "Epoch  259 , loss 0.375686828494072\n",
      "Epoch  260 , loss 0.3756469339132309\n"
     ]
    },
    {
     "name": "stderr",
     "output_type": "stream",
     "text": [
      "\r",
      "Iterations:  87%|████████████████████████████▋    | 261/300 [07:12<01:07,  1.73s/it]"
     ]
    },
    {
     "name": "stdout",
     "output_type": "stream",
     "text": [
      "Epoch:  260\n",
      "t_loss:  0.3756469339132309 , v_loss:  0.6755798856417338\n",
      "t_acc:  0.7514904298713524 , v_acc:  0.7112299465240641\n",
      "t_recall:  0.6052940575388531 , v_recall:  0.5689749182115594\n",
      "t_prec:  0.7897843771890802 , v_prec:  0.6393939393939394\n",
      "t_f:  0.6035123213993994 , v_f:  0.5626299376299375\n",
      "////////\n"
     ]
    },
    {
     "name": "stderr",
     "output_type": "stream",
     "text": [
      "\r",
      "Iterations:  87%|████████████████████████████▊    | 262/300 [07:13<00:59,  1.56s/it]"
     ]
    },
    {
     "name": "stdout",
     "output_type": "stream",
     "text": [
      "Epoch  261 , loss 0.37366942048072815\n",
      "Epoch  262 , loss 0.3762413388490677\n"
     ]
    },
    {
     "name": "stderr",
     "output_type": "stream",
     "text": [
      "\r",
      "Iterations:  88%|████████████████████████████▉    | 263/300 [07:15<01:01,  1.65s/it]"
     ]
    },
    {
     "name": "stdout",
     "output_type": "stream",
     "text": [
      "Epoch:  262\n",
      "t_loss:  0.3762413388490677 , v_loss:  0.6679663509130478\n",
      "t_acc:  0.7533730781299027 , v_acc:  0.7165775401069518\n",
      "t_recall:  0.6109785042127656 , v_recall:  0.5727917121046892\n",
      "t_prec:  0.7826489933044692 , v_prec:  0.653184165232358\n",
      "t_f:  0.6121742549976468 , v_f:  0.5666185666185666\n",
      "////////\n"
     ]
    },
    {
     "name": "stderr",
     "output_type": "stream",
     "text": [
      "\r",
      "Iterations:  88%|█████████████████████████████    | 264/300 [07:16<00:57,  1.60s/it]"
     ]
    },
    {
     "name": "stdout",
     "output_type": "stream",
     "text": [
      "Epoch  263 , loss 0.37524194926023485\n",
      "Epoch  264 , loss 0.3735102593898773\n"
     ]
    },
    {
     "name": "stderr",
     "output_type": "stream",
     "text": [
      "\r",
      "Iterations:  88%|█████████████████████████████▏   | 265/300 [07:18<01:01,  1.75s/it]"
     ]
    },
    {
     "name": "stdout",
     "output_type": "stream",
     "text": [
      "Epoch:  264\n",
      "t_loss:  0.3735102593898773 , v_loss:  0.6702135701974233\n",
      "t_acc:  0.7536868528396611 , v_acc:  0.7058823529411765\n",
      "t_recall:  0.6088948805841207 , v_recall:  0.5651581243184296\n",
      "t_prec:  0.7927678571428571 , v_prec:  0.6267232237539766\n",
      "t_f:  0.6086890964685442 , v_f:  0.5586783951941643\n",
      "////////\n"
     ]
    },
    {
     "name": "stderr",
     "output_type": "stream",
     "text": [
      "\r",
      "Iterations:  89%|█████████████████████████████▎   | 266/300 [07:20<00:53,  1.58s/it]"
     ]
    },
    {
     "name": "stdout",
     "output_type": "stream",
     "text": [
      "Epoch  265 , loss 0.37216823518276215\n",
      "Epoch  266 , loss 0.368477358520031\n"
     ]
    },
    {
     "name": "stderr",
     "output_type": "stream",
     "text": [
      "\r",
      "Iterations:  89%|█████████████████████████████▎   | 267/300 [07:21<00:55,  1.67s/it]"
     ]
    },
    {
     "name": "stdout",
     "output_type": "stream",
     "text": [
      "Epoch:  266\n",
      "t_loss:  0.368477358520031 , v_loss:  0.6731377045313517\n",
      "t_acc:  0.7565108252274867 , v_acc:  0.7112299465240641\n",
      "t_recall:  0.6158338674767067 , v_recall:  0.5689749182115594\n",
      "t_prec:  0.7879436554670362 , v_prec:  0.6393939393939394\n",
      "t_f:  0.6189199450702524 , v_f:  0.5626299376299375\n",
      "////////\n"
     ]
    },
    {
     "name": "stderr",
     "output_type": "stream",
     "text": [
      "\r",
      "Iterations:  89%|█████████████████████████████▍   | 268/300 [07:23<00:49,  1.56s/it]"
     ]
    },
    {
     "name": "stdout",
     "output_type": "stream",
     "text": [
      "Epoch  267 , loss 0.3779585698246956\n",
      "Epoch  268 , loss 0.3733466964960098\n"
     ]
    },
    {
     "name": "stderr",
     "output_type": "stream",
     "text": [
      "\r",
      "Iterations:  90%|█████████████████████████████▌   | 269/300 [07:25<00:54,  1.77s/it]"
     ]
    },
    {
     "name": "stdout",
     "output_type": "stream",
     "text": [
      "Epoch:  268\n",
      "t_loss:  0.3733466964960098 , v_loss:  0.6715452472368876\n",
      "t_acc:  0.7543144022591779 , v_acc:  0.7165775401069518\n",
      "t_recall:  0.6119443747735697 , v_recall:  0.5727917121046892\n",
      "t_prec:  0.7859899185510053 , v_prec:  0.653184165232358\n",
      "t_f:  0.6134242616758322 , v_f:  0.5666185666185666\n",
      "////////\n"
     ]
    },
    {
     "name": "stderr",
     "output_type": "stream",
     "text": [
      "\r",
      "Iterations:  90%|█████████████████████████████▋   | 270/300 [07:26<00:47,  1.59s/it]"
     ]
    },
    {
     "name": "stdout",
     "output_type": "stream",
     "text": [
      "Epoch  269 , loss 0.37031604468822477\n",
      "Epoch  270 , loss 0.37570274829864503\n"
     ]
    },
    {
     "name": "stderr",
     "output_type": "stream",
     "text": [
      "\r",
      "Iterations:  90%|█████████████████████████████▊   | 271/300 [07:28<00:52,  1.80s/it]"
     ]
    },
    {
     "name": "stdout",
     "output_type": "stream",
     "text": [
      "Epoch:  270\n",
      "t_loss:  0.37570274829864503 , v_loss:  0.6725998024145762\n",
      "t_acc:  0.756824599937245 , v_acc:  0.7112299465240641\n",
      "t_recall:  0.61490492247954 , v_recall:  0.5689749182115594\n",
      "t_prec:  0.7935533785194889 , v_prec:  0.6393939393939394\n",
      "t_f:  0.6173739499345721 , v_f:  0.5626299376299375\n",
      "////////\n"
     ]
    },
    {
     "name": "stderr",
     "output_type": "stream",
     "text": [
      "\r",
      "Iterations:  91%|█████████████████████████████▉   | 272/300 [07:30<00:45,  1.64s/it]"
     ]
    },
    {
     "name": "stdout",
     "output_type": "stream",
     "text": [
      "Epoch  271 , loss 0.37553524523973464\n",
      "Epoch  272 , loss 0.37043104231357576\n"
     ]
    },
    {
     "name": "stderr",
     "output_type": "stream",
     "text": [
      "\r",
      "Iterations:  91%|██████████████████████████████   | 273/300 [07:32<00:46,  1.74s/it]"
     ]
    },
    {
     "name": "stdout",
     "output_type": "stream",
     "text": [
      "Epoch:  272\n",
      "t_loss:  0.37043104231357576 , v_loss:  0.6675459245840708\n",
      "t_acc:  0.758393473486037 , v_acc:  0.7112299465240641\n",
      "t_recall:  0.6174769389404453 , v_recall:  0.5689749182115594\n",
      "t_prec:  0.7955648704740714 , v_prec:  0.6393939393939394\n",
      "t_f:  0.6209707513026674 , v_f:  0.5626299376299375\n",
      "////////\n"
     ]
    },
    {
     "name": "stderr",
     "output_type": "stream",
     "text": [
      "\r",
      "Iterations:  91%|██████████████████████████████▏  | 274/300 [07:33<00:40,  1.56s/it]"
     ]
    },
    {
     "name": "stdout",
     "output_type": "stream",
     "text": [
      "Epoch  273 , loss 0.37162294864654544\n",
      "Epoch  274 , loss 0.37698214650154116\n"
     ]
    },
    {
     "name": "stderr",
     "output_type": "stream",
     "text": [
      "\r",
      "Iterations:  92%|██████████████████████████████▎  | 275/300 [07:35<00:43,  1.72s/it]"
     ]
    },
    {
     "name": "stdout",
     "output_type": "stream",
     "text": [
      "Epoch:  274\n",
      "t_loss:  0.37698214650154116 , v_loss:  0.6681094268957773\n",
      "t_acc:  0.7514904298713524 , v_acc:  0.7112299465240641\n",
      "t_recall:  0.6084694237754182 , v_recall:  0.5689749182115594\n",
      "t_prec:  0.7779718614976254 , v_prec:  0.6393939393939394\n",
      "t_f:  0.608747572598826 , v_f:  0.5626299376299375\n",
      "////////\n"
     ]
    },
    {
     "name": "stderr",
     "output_type": "stream",
     "text": [
      "\r",
      "Iterations:  92%|██████████████████████████████▎  | 276/300 [07:36<00:38,  1.62s/it]"
     ]
    },
    {
     "name": "stdout",
     "output_type": "stream",
     "text": [
      "Epoch  275 , loss 0.3742074030637741\n",
      "Epoch  276 , loss 0.37042007893323897\n"
     ]
    },
    {
     "name": "stderr",
     "output_type": "stream",
     "text": [
      "\r",
      "Iterations:  92%|██████████████████████████████▍  | 277/300 [07:39<00:41,  1.80s/it]"
     ]
    },
    {
     "name": "stdout",
     "output_type": "stream",
     "text": [
      "Epoch:  276\n",
      "t_loss:  0.37042007893323897 , v_loss:  0.6728935887416204\n",
      "t_acc:  0.7571383746470034 , v_acc:  0.7058823529411765\n",
      "t_recall:  0.617440013376808 , v_recall:  0.5651581243184296\n",
      "t_prec:  0.7868080935949527 , v_prec:  0.6267232237539766\n",
      "t_f:  0.6212411833639198 , v_f:  0.5586783951941643\n",
      "////////\n"
     ]
    },
    {
     "name": "stderr",
     "output_type": "stream",
     "text": [
      "\r",
      "Iterations:  93%|██████████████████████████████▌  | 278/300 [07:40<00:35,  1.62s/it]"
     ]
    },
    {
     "name": "stdout",
     "output_type": "stream",
     "text": [
      "Epoch  277 , loss 0.36609309434890747\n",
      "Epoch  278 , loss 0.3714212733507156\n"
     ]
    },
    {
     "name": "stderr",
     "output_type": "stream",
     "text": [
      "\r",
      "Iterations:  93%|██████████████████████████████▋  | 279/300 [07:42<00:36,  1.74s/it]"
     ]
    },
    {
     "name": "stdout",
     "output_type": "stream",
     "text": [
      "Epoch:  278\n",
      "t_loss:  0.3714212733507156 , v_loss:  0.6691008508205414\n",
      "t_acc:  0.7605898964543458 , v_acc:  0.7112299465240641\n",
      "t_recall:  0.6225211102750606 , v_recall:  0.5689749182115594\n",
      "t_prec:  0.7932377090183889 , v_prec:  0.6393939393939394\n",
      "t_f:  0.6281472283623869 , v_f:  0.5626299376299375\n",
      "////////\n"
     ]
    },
    {
     "name": "stderr",
     "output_type": "stream",
     "text": [
      "\r",
      "Iterations:  93%|██████████████████████████████▊  | 280/300 [07:43<00:32,  1.62s/it]"
     ]
    },
    {
     "name": "stdout",
     "output_type": "stream",
     "text": [
      "Epoch  279 , loss 0.37530756920576097\n",
      "Epoch  280 , loss 0.36617151260375974\n"
     ]
    },
    {
     "name": "stderr",
     "output_type": "stream",
     "text": [
      "\r",
      "Iterations:  94%|██████████████████████████████▉  | 281/300 [07:45<00:33,  1.77s/it]"
     ]
    },
    {
     "name": "stdout",
     "output_type": "stream",
     "text": [
      "Epoch:  280\n",
      "t_loss:  0.36617151260375974 , v_loss:  0.6744975497325262\n",
      "t_acc:  0.7624725447128962 , v_acc:  0.7112299465240641\n",
      "t_recall:  0.6218548244758428 , v_recall:  0.5689749182115594\n",
      "t_prec:  0.8093973408558605 , v_prec:  0.6393939393939394\n",
      "t_f:  0.6267055657032424 , v_f:  0.5626299376299375\n",
      "////////\n"
     ]
    },
    {
     "name": "stderr",
     "output_type": "stream",
     "text": [
      "\r",
      "Iterations:  94%|███████████████████████████████  | 282/300 [07:46<00:28,  1.58s/it]"
     ]
    },
    {
     "name": "stdout",
     "output_type": "stream",
     "text": [
      "Epoch  281 , loss 0.36813730537891387\n",
      "Epoch  282 , loss 0.37168634951114654\n"
     ]
    },
    {
     "name": "stderr",
     "output_type": "stream",
     "text": [
      "\r",
      "Iterations:  94%|███████████████████████████████▏ | 283/300 [07:48<00:28,  1.67s/it]"
     ]
    },
    {
     "name": "stdout",
     "output_type": "stream",
     "text": [
      "Epoch:  282\n",
      "t_loss:  0.37168634951114654 , v_loss:  0.6748305410146713\n",
      "t_acc:  0.7596485723250705 , v_acc:  0.7112299465240641\n",
      "t_recall:  0.621266570056387 , v_recall:  0.5689749182115594\n",
      "t_prec:  0.7910641025641025 , v_prec:  0.6393939393939394\n",
      "t_f:  0.6264678160708492 , v_f:  0.5626299376299375\n",
      "////////\n"
     ]
    },
    {
     "name": "stderr",
     "output_type": "stream",
     "text": [
      "\r",
      "Iterations:  95%|███████████████████████████████▏ | 284/300 [07:50<00:25,  1.60s/it]"
     ]
    },
    {
     "name": "stdout",
     "output_type": "stream",
     "text": [
      "Epoch  283 , loss 0.3772492092847824\n",
      "Epoch  284 , loss 0.37127041786909104\n"
     ]
    }
   ],
   "source": [
    "from torcheeg.models import EEGNet\n",
    "import Models.model_func as Model_Func\n",
    "from torch import nn\n",
    "from Models.multi_models import *\n",
    "\n",
    "DEVICE= torch.device(\"cuda\") if torch.cuda.is_available() else torch.device(\"cpu\")\n",
    "\n",
    "learning_rate = 0.00005\n",
    "batch_size = 64\n",
    "n_epochs = 300\n",
    "transpose_channels=True\n",
    "participants_dictionary=[]\n",
    "# participants_online_dictionary=[]\n",
    "participants_grads_dictionary={}\n",
    "b_acc_list=[]\n",
    "c0_acc_list=[]\n",
    "c1_acc_list=[]\n",
    "\n",
    "# EPOCH=[\n",
    "    \n",
    "# ]\n",
    "\n",
    "for i in range(len(participants)):\n",
    "\n",
    "    train_dataloader, val_dataloader, classes, input_dim, class_ratio= user_fold_load(i,\n",
    "                                                                                      raw_user_fold,\n",
    "                                                                                      participants,\n",
    "                                                                                      batch_size=batch_size,\n",
    "                                                                                      transpose_channels=transpose_channels)\n",
    "\n",
    "    eegnet= EEGNet(\n",
    "        chunk_size=input_dim[1],\n",
    "        num_electrodes=input_dim[0],\n",
    "        num_classes=classes,\n",
    "        kernel_1= 32,\n",
    "        kernel_2=32,\n",
    "        F1=8,\n",
    "        F2=16,\n",
    "        dropout=0.5\n",
    "    ).to(DEVICE)\n",
    "    \n",
    "    classifier= LSTM_EEGNet_Wrapper(DEVICE, eegnet, input_dim).to(DEVICE)\n",
    "#     optimizer= torch.optim.RMSprop(classifier.parameters(), lr=learning_rate)\n",
    "    optimizer = torch.optim.Adam(classifier.parameters(), lr = learning_rate)\n",
    "\n",
    "    \n",
    "    criterion= torch.nn.CrossEntropyLoss(weight=torch.tensor(class_ratio, dtype=torch.float).to(DEVICE))\n",
    "#     criterion = nn.NLLLoss(weight=torch.tensor(class_ratio, dtype=torch.float).to(DEVICE))\n",
    "    \n",
    "    scheduler= torch.optim.lr_scheduler.ReduceLROnPlateau(optimizer, patience=2)\n",
    "    \n",
    "    saved_dir= \"./EEG/saved_models/Userfold/run1\"\n",
    "    model= EEGNet_IE_HP_Wrapper(\n",
    "        DEVICE, classifier, input_dim\n",
    "    ).to(DEVICE)\n",
    "\n",
    "    train_func= eeg_grad_train\n",
    "    model.training_procedure(iteration=n_epochs,\n",
    "                             train_dataloader=train_dataloader,\n",
    "                             val_dataloader=val_dataloader,\n",
    "                             print_cycle=2,\n",
    "                             path=f\"./dictionary/intermdiate_dicts\",\n",
    "                             loss_func=criterion,\n",
    "                             optimiser=optimizer, #scheduler=scheduler,\n",
    "                             train_func=train_func\n",
    "                            )\n",
    "    if model.epoch == n_epochs+1:\n",
    "        EPOCH= n_epochs\n",
    "    else:\n",
    "        EPOCH= model.epoch\n",
    "    \n",
    "    torch.save(model.state_dict(), \n",
    "           os.path.join(\n",
    "               saved_dir, f\"Userfold-{participants[i]}-LSTM_EEGNet-IE_Multivariate-e{EPOCH}.pt\"\n",
    "           )\n",
    "    )\n",
    "    pickle.dump(model.return_IE_grad(),\n",
    "                open(\n",
    "                    os.path.join(\n",
    "                        saved_dir, f\"Userfold-{participants[i]}-LSTM_EEGNet-IE_Multivariate-grad_all-e{EPOCH}.pkl\"\n",
    "                    ), \"wb\")\n",
    "    )\n",
    "# OR\n",
    "#     model.load_state_dict(\n",
    "#     torch.load(\n",
    "#         open(\n",
    "#             os.path.join(\n",
    "#                 saved_dir, f\"Userfold-{participants[i]}-EEGNet-IE_Multivariate-e{n_epochs}.pt\"\n",
    "#             ), \"rb\"\n",
    "#         )\n",
    "#               )\n",
    "#     )\n",
    "#     model.IE_grad= pickle.load(\n",
    "#             open(\n",
    "#                 os.path.join(\n",
    "#                     saved_dir, f\"Userfold-{participants[i]}-EEGNet-IE_Multivariate-grad_all-e{n_epochs}.pkl\"\n",
    "#                 ),\"rb\"\n",
    "#             )\n",
    "#         )\n",
    "    \n",
    "    \n",
    "    prediction, dictionary= model.prediction_procedure(val_dataloader, dict_flag=True)\n",
    "    \n",
    "    ys= np.concatenate([y.detach().cpu().numpy() for x, y in val_dataloader])\n",
    "    \n",
    "    c0_acc, c1_acc, b_acc= calculate_accuracy(ys, prediction)\n",
    "    print(\"c0_acc\", c0_acc, \", c1_acc\", c1_acc, \", b_acc\", b_acc)\n",
    "    b_acc_list.append(b_acc)\n",
    "    c0_acc_list.append(c0_acc)\n",
    "    c1_acc_list.append(c1_acc)\n",
    "#     participants_grads_dictionary[participants[i]]= model.return_IE_grad()\n",
    "    participants_dictionary.append(dictionary)\n",
    "    \n",
    "   \n",
    "\n",
    "tmp=[]\n",
    "for i, dictionary in enumerate(participants_dictionary):\n",
    "    print(f\"User {participants[i]} f1: {dictionary['weighted avg']['f1-score']} acc: {dictionary['accuracy']}\")\n",
    "    print(f\" c0: {c0_acc_list[i]} c1: {c1_acc_list[i]} bacc: {b_acc_list[i]}\")\n",
    "    tmp.append(dictionary['weighted avg']['f1-score'])\n",
    "\n",
    "print(f\"average {np.mean(tmp)}\")\n",
    "print()\n",
    "print(np.array(b_acc_list).mean())\n",
    "print(np.array(c1_acc_list).mean())\n",
    "print(np.array(c0_acc_list).mean())\n"
   ]
  },
  {
   "cell_type": "code",
   "execution_count": null,
   "id": "eb9de653",
   "metadata": {},
   "outputs": [],
   "source": [
    "userfold_results_summary(participants_dictionary, participants)\n",
    "userfold_classwise_results_summary(participants_dictionary, participants)\n"
   ]
  },
  {
   "cell_type": "code",
   "execution_count": null,
   "id": "f1f87606",
   "metadata": {},
   "outputs": [],
   "source": [
    "participant_grad={\"AUC\":[],\"ROC\":[],\"STD\":[]}\n",
    "for i in range(len(participants)):\n",
    "    g= pickle.load(\n",
    "            open(\n",
    "                os.path.join(\n",
    "                    saved_dir, f\"Userfold-{participants[i]}-LSTM_EEGNet-IE_Multivariate-grad_all-e{n_epochs}.pkl\"\n",
    "                ),\"rb\"\n",
    "            )\n",
    "    )\n",
    "    \n",
    "    participant_grad[\"AUC\"].append(\n",
    "        pd.DataFrame(\n",
    "            Grad_AUC_with_multivar_grad(\n",
    "                g, n_epochs, np.zeros(input_dim), x_shape=0, scaling=True\n",
    "            )\n",
    "        ).to_numpy()\n",
    "    )\n",
    "    participant_grad[\"ROC\"].append(\n",
    "          pd.DataFrame(\n",
    "            Grad_ROC_with_multivar_grad(\n",
    "                g, n_epochs, np.zeros(input_dim), x_shape=0, scaling=True\n",
    "                                       )\n",
    "          ).to_numpy()\n",
    "    )\n",
    "    participant_grad[\"STD\"].append(\n",
    "        pd.DataFrame(\n",
    "            Grad_STD_with_multivar_grad(\n",
    "                g, n_epochs, np.zeros(input_dim), x_shape=0, scaling=True\n",
    "                                       )\n",
    "        ).to_numpy()\n",
    "    )\n",
    "    \n",
    "avg_grad={\n",
    "    \"AUC\":np.array(participant_grad[\"AUC\"]).mean(0),\n",
    "    \"ROC\":np.array(participant_grad[\"ROC\"]).mean(0),\n",
    "    \"STD\":np.array(participant_grad[\"STD\"]).mean(0)\n",
    "}"
   ]
  },
  {
   "cell_type": "code",
   "execution_count": null,
   "id": "07bbf31f",
   "metadata": {},
   "outputs": [],
   "source": [
    "start=-0.5\n",
    "step=1.5/(188-1)\n",
    "timestep_labels=[]\n",
    "for i in range(input_dim[1]):\n",
    "    timestep_labels.append(round(start+step*i,3))\n",
    "    \n",
    "# timestep_labels"
   ]
  },
  {
   "cell_type": "code",
   "execution_count": null,
   "id": "4c473d1c",
   "metadata": {},
   "outputs": [],
   "source": [
    "# channel_names=[i for i in range(input_dim[0])]\n",
    "channel_names=[\"AFz\",\"F3\",\"F1\",\"Fz\",\"F2\",\"F4\",\"FC5\",\"FC3\",\"FC1\",\"FCz\",\"FC2\",\n",
    "               \"FC4\",\"FC6\",\"C5\",\"C3\",\"C1\",\"Cz\",\"C2\",\"C4\",\"C6\",\"CP5\",\"CP3\",\n",
    "               \"CP1\",\"CPz\",\"CP2\",\"CP4\",\"CP6\",\"P3\",\"P1\",\"Pz\",\"P2\",\"P4\"]"
   ]
  },
  {
   "cell_type": "code",
   "execution_count": null,
   "id": "96dc3edc",
   "metadata": {
    "scrolled": false
   },
   "outputs": [],
   "source": [
    "# from utilities.subset_func import *\n",
    "# from utilities.utility_func import return_channels_index, return_timestep_labels\n",
    "\n",
    "# channels_index= return_channels_index()\n",
    "# timestep_labels= return_timestep_labels()\n",
    "fig, ax= plt.subplots(3,1)\n",
    "\n",
    "# x_shape=0\n",
    "# dictionaries={\"AUC\":[],\"ROC\":[],\"STD\":[]}\n",
    "# for idx,p in enumerate(participants):\n",
    "#     dictionary= Grad_AUC_with_multivar_grad(participants_grads_dictionary[p],\n",
    "#                                             n_epochs,\n",
    "#                                             X=np.zeros(input_dim),\n",
    "#                                             x_shape=x_shape\n",
    "#                                            )\n",
    "#     dictionaries[\"AUC\"].append(pd.DataFrame(dictionary).to_numpy())\n",
    "# #     sns.heatmap(pd.DataFrame(dictionary), \n",
    "# #                 xticklabels=timestep_labels,\n",
    "# #                 yticklabels=channels_index,\n",
    "# #                 annot=False, ax=ax[idx], cbar_kws={\"pad\":0.02})\n",
    "#     dictionary= Grad_ROC_with_multivar_grad(participants_grads_dictionary[p],\n",
    "#                                             n_epochs,\n",
    "#                                             np.zeros(input_dim),\n",
    "#                                             x_shape=x_shape\n",
    "#                                            )\n",
    "#     dictionaries[\"ROC\"].append(pd.DataFrame(dictionary).to_numpy())\n",
    "\n",
    "#     dictionary= Grad_STD_with_multivar_grad(participants_grads_dictionary[p],\n",
    "#                                             n_epochs,\n",
    "#                                             np.zeros(input_dim),\n",
    "#                                             x_shape=x_shape\n",
    "#                                            )\n",
    "#     dictionaries[\"STD\"].append(pd.DataFrame(dictionary).to_numpy())\n",
    "\n",
    "\n",
    "#     ax[idx].set_ylabel(f\"{p}\")\n",
    "\n",
    "sns.heatmap(pd.DataFrame(avg_grad[\"AUC\"]), \n",
    "            xticklabels=timestep_labels,\n",
    "            yticklabels=channel_names, ax=ax[0],\n",
    "            annot=False, cbar_kws={\"pad\":0.02})\n",
    "\n",
    "ax[0].set_title(\"AUC\")\n",
    "\n",
    "sns.heatmap(pd.DataFrame(avg_grad[\"ROC\"]), \n",
    "            xticklabels=timestep_labels,\n",
    "            yticklabels=channel_names, ax=ax[1],\n",
    "            annot=False, cbar_kws={\"pad\":0.02})\n",
    "ax[1].set_title(\"ROC\")\n",
    "\n",
    "sns.heatmap(pd.DataFrame(avg_grad[\"STD\"]), \n",
    "            xticklabels=timestep_labels,\n",
    "            yticklabels=channel_names, ax=ax[2],\n",
    "            annot=False, cbar_kws={\"pad\":0.02})\n",
    "ax[2].set_title(\"STD\")\n",
    "\n",
    "# plt.suptitle(\"Relative Importance Estimate of Time Series\")\n",
    "fig.set_figwidth(20)\n",
    "fig.set_figheight(50)\n",
    "plt.tight_layout()"
   ]
  },
  {
   "cell_type": "code",
   "execution_count": null,
   "id": "859c57b9",
   "metadata": {},
   "outputs": [],
   "source": [
    "# timestep_labels[99:99+62]"
   ]
  },
  {
   "cell_type": "code",
   "execution_count": null,
   "id": "618f38f3",
   "metadata": {},
   "outputs": [],
   "source": [
    "# import matplotlib.pyplot as plt\n",
    "# plt.figure(figsize=(40,10))\n",
    "\n",
    "# for i in range(len(methods)):\n",
    "#     scaler= MinMaxScaler()\n",
    "#     df= pd.DataFrame(np.array(dictionaries[methods[i]]).mean(axis=0))\n",
    "\n",
    "#     # #     channel_nonzero_count= np.count_nonzero(df.to_numpy()>threshold, axis=1)\n",
    "\n",
    "#     # #     df_with_zeros= pd.DataFrame(channel_nonzero_count)\n",
    "#     df.index= channel_names\n",
    "#     df.columns=timestep_labels\n",
    "    \n",
    "#     df_list[\"time\"][methods[i]]=df.sum().to_numpy().reshape(-1)\n",
    "# #     nonzeros_list= (df_with_zeros>0).to_numpy().reshape(-1)\n",
    "# #     df= df_with_zeros[nonzeros_list]\n",
    "#     scaled= scaler.fit_transform(df.sum().to_numpy().reshape(-1,1))\n",
    "#     plt.plot(scaled)\n",
    "# plt.legend(methods)\n",
    "# plt.xlabel(\"Timesteps\")\n",
    "# plt.axvspan(112,128, color=\"red\", alpha=0.2)\n",
    "# plt.axvspan(142,150, color=\"red\", alpha=0.2)\n",
    "# plt.axvspan(157,159, color=\"red\", alpha=0.2)\n",
    "# plt.xticks([i for i in range(len(timestep_labels))],timestep_labels, rotation=\"vertical\")\n",
    "# plt.ylabel(\"Normalised Importance\")\n",
    "# plt.margins(x=0)\n",
    "# plt.tight_layout()\n",
    "# #     sns.heatmap(df.sum().to_numpy().reshape(-1,1),annot=True, \n",
    "# #                 yticklabels=timestep_labels, ax=ax[i][1],\n",
    "# #                 xticklabels=False, cbar_kws={\"pad\":0.02})"
   ]
  },
  {
   "cell_type": "code",
   "execution_count": null,
   "id": "5fc59c35",
   "metadata": {},
   "outputs": [],
   "source": [
    "import matplotlib\n",
    "import matplotlib.pyplot as plt\n",
    "from sklearn.preprocessing import MinMaxScaler, RobustScaler\n",
    "plt.figure(figsize=(8,6))\n",
    "methods=[\"AUC\", \"ROC\", \"STD\"]\n",
    "for i in methods:\n",
    "    scaler= MinMaxScaler()\n",
    "    scaled_avg_grad= scaler.fit_transform(avg_grad[i].sum(0).reshape(-1,1))\n",
    "    df= pd.DataFrame(scaled_avg_grad)    \n",
    "#     df.index= channel_names\n",
    "#     df.columns=timestep_labels\n",
    "    \n",
    "#     scaled= scaler.fit_transform(df.sum().to_numpy().reshape(-1,1))\n",
    "    plt.plot(scaled_avg_grad)\n",
    "plt.legend(methods)\n",
    "plt.xlabel(\"Timesteps\")\n",
    "plt.axvspan(107,121, color=\"green\", alpha=0.2)\n",
    "plt.axvspan(112,128, color=\"red\", alpha=0.2)\n",
    "plt.axvspan(142,150, color=\"red\", alpha=0.2)\n",
    "plt.axvspan(157,159, color=\"red\", alpha=0.2)\n",
    "plt.xticks([0,31,62,93,124,155,187],[-0.5, -0.25, 0, 0.25, 0.5, 0.75, 1.0])\n",
    "plt.ylabel(\"Normalised Importance\")\n",
    "plt.margins(x=0)\n",
    "matplotlib.rcParams.update({\"font.size\":18})\n",
    "plt.tight_layout()\n"
   ]
  },
  {
   "cell_type": "code",
   "execution_count": null,
   "id": "9866bb26",
   "metadata": {},
   "outputs": [],
   "source": [
    "import matplotlib\n",
    "import matplotlib.pyplot as plt\n",
    "from sklearn.preprocessing import MinMaxScaler, RobustScaler\n",
    "plt.figure(figsize=(8,6))\n",
    "methods=[\"AUC\", \"ROC\", \"STD\"]\n",
    "for i in methods:\n",
    "    scaler= RobustScaler()\n",
    "    scaled_avg_grad= scaler.fit_transform(avg_grad[i].sum(0).reshape(-1,1))\n",
    "    df= pd.DataFrame(scaled_avg_grad)    \n",
    "#     df.index= channel_names\n",
    "#     df.columns=timestep_labels\n",
    "    \n",
    "#     scaled= scaler.fit_transform(df.sum().to_numpy().reshape(-1,1))\n",
    "    plt.plot(scaled_avg_grad)\n",
    "plt.legend(methods)\n",
    "plt.xlabel(\"Timesteps\")\n",
    "plt.axvspan(107,121, color=\"green\", alpha=0.2)\n",
    "plt.axvspan(112,128, color=\"red\", alpha=0.2)\n",
    "plt.axvspan(142,150, color=\"red\", alpha=0.2)\n",
    "plt.axvspan(157,159, color=\"red\", alpha=0.2)\n",
    "plt.xticks([0,31,62,93,124,155,187],[-0.5, -0.25, 0, 0.25, 0.5, 0.75, 1.0])\n",
    "plt.ylabel(\"Normalised Importance\")\n",
    "plt.margins(x=0)\n",
    "matplotlib.rcParams.update({\"font.size\":18})\n",
    "plt.tight_layout()\n"
   ]
  },
  {
   "cell_type": "code",
   "execution_count": null,
   "id": "4181bb94",
   "metadata": {},
   "outputs": [],
   "source": [
    "# coordinates= np.array([\n",
    "#     [0.0002313, 0.080771], #AFz\n",
    "#     [-0.0502438,  0.0531112], #F3\n",
    "#     [-0.0274958,  0.0569311], #F1\n",
    "#     [0.0003122, 0.058512], #Fz\n",
    "#     [0.0295142, 0.0576019], #F2\n",
    "#     [0.0518362, 0.0543048], #F4\n",
    "#     [-0.0772149,  0.0186433], #FC5\n",
    "#     [-0.0601819,  0.0227162], #FC3\n",
    "#     [-0.0340619,  0.0260111], #FC1\n",
    "#     [0.0003761, 0.02739], #FCz\n",
    "#     [0.0347841, 0.0264379], # FC2\n",
    "#     [0.0622931, 0.0237228], #FC4\n",
    "#     [0.0795341, 0.0199357], #FC6\n",
    "#     [-0.0802801, -0.0137597], #C5\n",
    "#     [-0.0653581, -0.0116317], # C3\n",
    "#     [-0.036158 , -0.0099839], # C1\n",
    "#     [0.0004009, -0.009167], # Cz\n",
    "#     [0.037672 , -0.0096241], # C2\n",
    "#     [0.0671179, -0.0109003], #C4\n",
    "#     [0.0834559, -0.0127763], #C6\n",
    "#     [-0.0795922, -0.0465507], #CP5\n",
    "#     [-0.0635562, -0.0470088], #CP3\n",
    "#     [-0.0355131, -0.0472919], #CP1\n",
    "#     [0.0003858, -0.047318], #CPz\n",
    "#     [0.0383838, -0.0470731], #CP2\n",
    "#     [0.0666118, -0.0466372], #CP4\n",
    "#     [0.0833218, -0.0461013], #CP6\n",
    "#     [-0.0530073, -0.0787878], #P3\n",
    "#     [-0.0286203, -0.0805249], #P1\n",
    "#     [0.0003247, -0.081115], #Pz\n",
    "#     [0.0319197, -0.0804871], #P2\n",
    "#     [0.0556667, -0.0785602], #P4\n",
    "# ])\n",
    "# x=coordinates[:,0]\n",
    "# y=coordinates[:,1]"
   ]
  },
  {
   "cell_type": "code",
   "execution_count": null,
   "id": "2da69e47",
   "metadata": {},
   "outputs": [],
   "source": [
    "# for i in range(len(coordinates)):\n",
    "#     plt.scatter(x[i],y[i])\n",
    "# # plt.legend(channel_names)"
   ]
  },
  {
   "cell_type": "code",
   "execution_count": null,
   "id": "2ebab731",
   "metadata": {},
   "outputs": [],
   "source": [
    "# _=mne.channels.make_standard_montage(\"standard_1020\")\n",
    "# _.get_positions()"
   ]
  },
  {
   "cell_type": "code",
   "execution_count": null,
   "id": "35c550b3",
   "metadata": {},
   "outputs": [],
   "source": [
    "# import mne\n",
    "# _=mne.channels.make_standard_montage(\"standard_1020\").plot(sphere=0.11)"
   ]
  },
  {
   "cell_type": "code",
   "execution_count": null,
   "id": "b5f62d6c",
   "metadata": {},
   "outputs": [],
   "source": [
    "# import matplotlib\n",
    "# fig= plt.figure()\n",
    "# ax= plt.axes((0,0,1.5,1.5))\n",
    "# im, _= mne.viz.plot_topomap(\n",
    "#     df.T.sum().to_numpy().reshape(-1),\n",
    "#     coordinates,\n",
    "#     ch_type= \"eeg\",\n",
    "#     sensors=True,\n",
    "#     names=channel_names,\n",
    "#     cmap=\"Blues\",\n",
    "#     axes=ax,\n",
    "#     show=False\n",
    "# #     res=4000\n",
    "# )\n",
    "# fig.add_axes(ax)\n",
    "# cbar_ax= fig.add_axes([1.3,0.2, 0.1,1])\n",
    "# clb= fig.colorbar(im, cax=cbar_ax)\n",
    "\n",
    "# for tt in plt.findobj(fig, matplotlib.text.Text):\n",
    "#     if tt.get_text() in channel_names:\n",
    "#         tt.set_fontsize(12)"
   ]
  },
  {
   "cell_type": "code",
   "execution_count": null,
   "id": "71cf77e2",
   "metadata": {},
   "outputs": [],
   "source": [
    "from sklearn.preprocessing import MinMaxScaler, RobustScaler, StandardScaler\n",
    "import matplotlib\n",
    "import mne\n",
    "info= mne.create_info(channel_names, sfreq=500, ch_types=32*[\"eeg\"])\n",
    "info.set_montage(\"standard_1020\")\n",
    "\n",
    "fig, ax= plt.subplots(2,3)\n",
    "# ax= plt.axes((0,0,1.5,1.5))\n",
    "for idx, i in enumerate(methods):\n",
    "    scaler= MinMaxScaler()\n",
    "    scaled_avg_grad= scaler.fit_transform(avg_grad[i].sum(1).reshape(-1,1))\n",
    "#     scaled_avg_grad= avg_grad[i].sum(1)\n",
    "\n",
    "    minmax_im, _= mne.viz.plot_topomap(\n",
    "        scaled_avg_grad.reshape(-1),\n",
    "        info,\n",
    "        ch_type= \"eeg\",\n",
    "        sensors=True,\n",
    "        names=channel_names,\n",
    "        cmap=\"Blues\",\n",
    "        axes=ax[0][idx],\n",
    "        show=False,\n",
    "        extrapolate=\"local\"\n",
    "        #,vlim=(0,1)\n",
    "    #     sphere=0.09\n",
    "    )\n",
    "    ax[0][idx].set_title(f\"MinMax: {i}\")\n",
    "    \n",
    "for idx, i in enumerate(methods):\n",
    "    scaler= RobustScaler()\n",
    "    scaled_avg_grad= scaler.fit_transform(avg_grad[i].sum(1).reshape(-1,1))\n",
    "#     scaled_avg_grad= avg_grad[i].sum(1)\n",
    "\n",
    "    robust_im, _= mne.viz.plot_topomap(\n",
    "        scaled_avg_grad.reshape(-1),\n",
    "        info,\n",
    "        ch_type= \"eeg\",\n",
    "        sensors=True,\n",
    "        names=channel_names,\n",
    "        cmap=\"Blues\",\n",
    "        axes=ax[1][idx],\n",
    "        show=False,\n",
    "        extrapolate=\"local\",\n",
    "#         vlim=(0,None)\n",
    "    #     sphere=0.09\n",
    "    )\n",
    "    ax[1][idx].set_title(f\"Robust: {i}\")\n",
    "    \n",
    "fig.set_figheight(25)\n",
    "fig.set_figwidth(25)\n",
    "# fig.add_axes(ax)\n",
    "cbar_ax= fig.add_axes([.92,0.66, 0.02,0.18])\n",
    "clb= fig.colorbar(minmax_im, cax=cbar_ax)\n",
    "clb.set_label(\"Importance Estimate\", rotation=270,labelpad=20, fontsize=18)\n",
    "\n",
    "cbar_ax= fig.add_axes([.92,0.22, 0.02,0.18])\n",
    "clb= fig.colorbar(robust_im, cax=cbar_ax)\n",
    "clb.set_label(\"Importance Estimate\", rotation=270,labelpad=20, fontsize=18)\n",
    "\n",
    "for tt in plt.findobj(fig, matplotlib.text.Text):\n",
    "    if tt.get_text() in channel_names:\n",
    "        tt.set_fontsize(14)\n",
    "# plt.tight_layout()"
   ]
  },
  {
   "cell_type": "code",
   "execution_count": null,
   "id": "aae3953f",
   "metadata": {},
   "outputs": [],
   "source": [
    "from sklearn.preprocessing import MinMaxScaler, RobustScaler, StandardScaler\n",
    "import matplotlib\n",
    "import mne\n",
    "info= mne.create_info(channel_names, sfreq=500, ch_types=32*[\"eeg\"])\n",
    "info.set_montage(\"standard_1020\")\n",
    "\n",
    "fig, ax= plt.subplots(2,3)\n",
    "# ax= plt.axes((0,0,1.5,1.5))\n",
    "for idx, i in enumerate(methods):\n",
    "    scaler= MinMaxScaler()\n",
    "    scaled_avg_grad= scaler.fit_transform(avg_grad[i].sum(1).reshape(-1,1))\n",
    "#     scaled_avg_grad= avg_grad[i].sum(1)\n",
    "\n",
    "    minmax_im, _= mne.viz.plot_topomap(\n",
    "        scaled_avg_grad.reshape(-1),\n",
    "        info,\n",
    "        ch_type= \"eeg\",\n",
    "        sensors=True,\n",
    "        names=channel_names,\n",
    "        cmap=\"Blues\",\n",
    "        axes=ax[0][idx],\n",
    "        show=False,\n",
    "        extrapolate=\"local\"\n",
    "        #,vlim=(0,1)\n",
    "    #     sphere=0.09\n",
    "    )\n",
    "    ax[0][idx].set_title(f\"MinMax: {i}\")\n",
    "    \n",
    "for idx, i in enumerate(methods):\n",
    "    scaler= RobustScaler()\n",
    "    scaled_avg_grad= scaler.fit_transform(avg_grad[i].sum(1).reshape(-1,1))\n",
    "#     scaled_avg_grad= avg_grad[i].sum(1)\n",
    "\n",
    "    robust_im, _= mne.viz.plot_topomap(\n",
    "        scaled_avg_grad.reshape(-1),\n",
    "        info,\n",
    "        ch_type= \"eeg\",\n",
    "        sensors=True,\n",
    "        names=channel_names,\n",
    "        cmap=\"Blues\",\n",
    "        axes=ax[1][idx],\n",
    "        show=False,\n",
    "        extrapolate=\"local\",\n",
    "#         vlim=(0,None)\n",
    "    #     sphere=0.09\n",
    "    )\n",
    "    ax[1][idx].set_title(f\"Robust: {i}\")\n",
    "    \n",
    "fig.set_figheight(25)\n",
    "fig.set_figwidth(25)\n",
    "# fig.add_axes(ax)\n",
    "cbar_ax= fig.add_axes([.92,0.66, 0.02,0.18])\n",
    "clb= fig.colorbar(minmax_im, cax=cbar_ax)\n",
    "clb.set_label(\"Importance Estimate\", rotation=270,labelpad=20, fontsize=18)\n",
    "\n",
    "cbar_ax= fig.add_axes([.92,0.22, 0.02,0.18])\n",
    "clb= fig.colorbar(robust_im, cax=cbar_ax)\n",
    "clb.set_label(\"Importance Estimate\", rotation=270,labelpad=20, fontsize=18)\n",
    "\n",
    "for tt in plt.findobj(fig, matplotlib.text.Text):\n",
    "    if tt.get_text() in channel_names:\n",
    "        tt.set_fontsize(14)\n",
    "# plt.tight_layout()"
   ]
  },
  {
   "cell_type": "code",
   "execution_count": null,
   "id": "7c7b834b",
   "metadata": {},
   "outputs": [],
   "source": []
  }
 ],
 "metadata": {
  "kernelspec": {
   "display_name": "Python [conda env:pytorch]",
   "language": "python",
   "name": "conda-env-pytorch-py"
  },
  "language_info": {
   "codemirror_mode": {
    "name": "ipython",
    "version": 3
   },
   "file_extension": ".py",
   "mimetype": "text/x-python",
   "name": "python",
   "nbconvert_exporter": "python",
   "pygments_lexer": "ipython3",
   "version": "3.7.10"
  }
 },
 "nbformat": 4,
 "nbformat_minor": 5
}
