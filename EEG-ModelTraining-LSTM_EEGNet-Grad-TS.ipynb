{
 "cells": [
  {
   "cell_type": "code",
   "execution_count": 1,
   "id": "4c9e593e",
   "metadata": {},
   "outputs": [],
   "source": [
    "import numpy as np\n",
    "from utilities.Dataset import *\n",
    "import pickle\n",
    "import sys\n",
    "from typing import List\n",
    "import torch\n",
    "import os"
   ]
  },
  {
   "cell_type": "code",
   "execution_count": 2,
   "id": "eb96ce98",
   "metadata": {},
   "outputs": [],
   "source": [
    "participant_data_path = './EEG/number'\n",
    "processed_data_path = './EEG/processed_data'\n",
    "split_data_path = './EEG/split_data'"
   ]
  },
  {
   "cell_type": "code",
   "execution_count": 3,
   "id": "62c74d3a",
   "metadata": {},
   "outputs": [],
   "source": [
    "ps = os.listdir(participant_data_path)\n",
    "participants=[]\n",
    "for p in ps:\n",
    "    p= p[:3]\n",
    "    if p not in participants:\n",
    "        participants.append(p)\n",
    "        \n",
    "participants= sorted(participants)\n",
    "# participants, len(participants)"
   ]
  },
  {
   "cell_type": "code",
   "execution_count": 4,
   "id": "28f3009e",
   "metadata": {
    "scrolled": true
   },
   "outputs": [],
   "source": [
    "load_name=f\"userfold_data_scaled_p_dictionary-number\"\n",
    "data_dir = \"./EEG/split_data/standard_scaled\"\n",
    "try:\n",
    "    raw_user_fold= pickle.load(open(os.path.join(data_dir, f\"{load_name}.pkl\"), \"rb\"))\n",
    "except:\n",
    "    print(f\"pickle file does not exist. Use EEG-Preprocess.ipynb and EEG-Split.ipynb to save data setting.\")\n",
    "    sys.exit()"
   ]
  },
  {
   "cell_type": "code",
   "execution_count": 5,
   "id": "b7f41978",
   "metadata": {},
   "outputs": [],
   "source": [
    "from utilities.userfold_framework import *\n",
    "from Models.AR_EEG_models import *\n",
    "import numpy as np\n",
    "import pandas as pd\n",
    "import matplotlib.pyplot as plt\n",
    "import seaborn as sns\n",
    "from typing import List\n",
    "\n"
   ]
  },
  {
   "cell_type": "code",
   "execution_count": null,
   "id": "082a80ac",
   "metadata": {},
   "outputs": [
    {
     "name": "stderr",
     "output_type": "stream",
     "text": [
      "\r",
      "Iterations:   0%|                                           | 0/300 [00:00<?, ?it/s]"
     ]
    },
    {
     "name": "stdout",
     "output_type": "stream",
     "text": [
      "Epoch  0 , loss 0.6409304282244515\n"
     ]
    },
    {
     "name": "stderr",
     "output_type": "stream",
     "text": [
      "\r",
      "Iterations:   0%|                                   | 1/300 [00:03<15:08,  3.04s/it]"
     ]
    },
    {
     "name": "stdout",
     "output_type": "stream",
     "text": [
      "Epoch:  0\n",
      "t_loss:  0.6409304282244515 , v_loss:  0.6924525698026022\n",
      "t_acc:  0.6031746031746031 , v_acc:  0.6894409937888198\n",
      "t_recall:  0.5152166453932832 , v_recall:  0.5\n",
      "t_prec:  0.5163765004775925 , v_prec:  0.3447204968944099\n",
      "t_f:  0.514995556131207 , v_f:  0.4080882352941176\n",
      "////////\n"
     ]
    },
    {
     "name": "stderr",
     "output_type": "stream",
     "text": [
      "\r",
      "Iterations:   1%|▏                                  | 2/300 [00:03<08:52,  1.79s/it]"
     ]
    },
    {
     "name": "stdout",
     "output_type": "stream",
     "text": [
      "Epoch  1 , loss 0.599009586315529\n",
      "Epoch  2 , loss 0.5567600469963223\n"
     ]
    },
    {
     "name": "stderr",
     "output_type": "stream",
     "text": [
      "\r",
      "Iterations:   1%|▎                                  | 3/300 [00:05<08:19,  1.68s/it]"
     ]
    },
    {
     "name": "stdout",
     "output_type": "stream",
     "text": [
      "Epoch:  2\n",
      "t_loss:  0.5567600469963223 , v_loss:  0.6882149974505106\n",
      "t_acc:  0.6760037348272643 , v_acc:  0.6894409937888198\n",
      "t_recall:  0.49884506114382177 , v_recall:  0.5\n",
      "t_prec:  0.4946078431372549 , v_prec:  0.3447204968944099\n",
      "t_f:  0.44148751512236906 , v_f:  0.4080882352941176\n",
      "////////\n"
     ]
    },
    {
     "name": "stderr",
     "output_type": "stream",
     "text": [
      "\r",
      "Iterations:   1%|▍                                  | 4/300 [00:06<07:01,  1.43s/it]"
     ]
    },
    {
     "name": "stdout",
     "output_type": "stream",
     "text": [
      "Epoch  3 , loss 0.525434695038141\n",
      "Epoch  4 , loss 0.5074097414811453\n"
     ]
    },
    {
     "name": "stderr",
     "output_type": "stream",
     "text": [
      "\r",
      "Iterations:   2%|▌                                  | 5/300 [00:07<07:02,  1.43s/it]"
     ]
    },
    {
     "name": "stdout",
     "output_type": "stream",
     "text": [
      "Epoch:  4\n",
      "t_loss:  0.5074097414811453 , v_loss:  0.6738125085830688\n",
      "t_acc:  0.6924992219109866 , v_acc:  0.6894409937888198\n",
      "t_recall:  0.499775600115288 , v_recall:  0.5\n",
      "t_prec:  0.4935912511759172 , v_prec:  0.3447204968944099\n",
      "t_f:  0.41590933177892003 , v_f:  0.4080882352941176\n",
      "////////\n"
     ]
    },
    {
     "name": "stderr",
     "output_type": "stream",
     "text": [
      "\r",
      "Iterations:   2%|▋                                  | 6/300 [00:08<06:02,  1.23s/it]"
     ]
    },
    {
     "name": "stdout",
     "output_type": "stream",
     "text": [
      "Epoch  5 , loss 0.4930036926970762\n",
      "Epoch  6 , loss 0.4784576945445117\n"
     ]
    },
    {
     "name": "stderr",
     "output_type": "stream",
     "text": [
      "\r",
      "Iterations:   2%|▊                                  | 7/300 [00:10<06:19,  1.30s/it]"
     ]
    },
    {
     "name": "stdout",
     "output_type": "stream",
     "text": [
      "Epoch:  6\n",
      "t_loss:  0.4784576945445117 , v_loss:  0.6614501972993215\n",
      "t_acc:  0.6949891067538126 , v_acc:  0.6894409937888198\n",
      "t_recall:  0.4998401065041655 , v_recall:  0.5\n",
      "t_prec:  0.47277189155500154 , v_prec:  0.3447204968944099\n",
      "t_f:  0.41101098240032563 , v_f:  0.4080882352941176\n",
      "////////\n"
     ]
    },
    {
     "name": "stderr",
     "output_type": "stream",
     "text": [
      "\r",
      "Iterations:   3%|▉                                  | 8/300 [00:11<05:40,  1.17s/it]"
     ]
    },
    {
     "name": "stdout",
     "output_type": "stream",
     "text": [
      "Epoch  7 , loss 0.4766651257580402\n",
      "Epoch  8 , loss 0.46305159201809004\n"
     ]
    },
    {
     "name": "stderr",
     "output_type": "stream",
     "text": [
      "\r",
      "Iterations:   3%|█                                  | 9/300 [00:12<06:07,  1.26s/it]"
     ]
    },
    {
     "name": "stdout",
     "output_type": "stream",
     "text": [
      "Epoch:  8\n",
      "t_loss:  0.46305159201809004 , v_loss:  0.6744871636231741\n",
      "t_acc:  0.6956115779645191 , v_acc:  0.6894409937888198\n",
      "t_recall:  0.5 , v_recall:  0.5\n",
      "t_prec:  0.34780578898225956 , v_prec:  0.3447204968944099\n",
      "t_f:  0.4102422907488987 , v_f:  0.4080882352941176\n",
      "////////\n"
     ]
    },
    {
     "name": "stderr",
     "output_type": "stream",
     "text": [
      "\r",
      "Iterations:   3%|█▏                                | 10/300 [00:13<05:40,  1.17s/it]"
     ]
    },
    {
     "name": "stdout",
     "output_type": "stream",
     "text": [
      "Epoch  9 , loss 0.4571419954299927\n",
      "Epoch  10 , loss 0.457228878549501\n"
     ]
    },
    {
     "name": "stderr",
     "output_type": "stream",
     "text": [
      "\r",
      "Iterations:   4%|█▏                                | 11/300 [00:14<05:56,  1.23s/it]"
     ]
    },
    {
     "name": "stdout",
     "output_type": "stream",
     "text": [
      "Epoch:  10\n",
      "t_loss:  0.457228878549501 , v_loss:  0.699674516916275\n",
      "t_acc:  0.6959228135698724 , v_acc:  0.6894409937888198\n",
      "t_recall:  0.5005112474437627 , v_recall:  0.5\n",
      "t_prec:  0.8479140722291407 , v_prec:  0.3447204968944099\n",
      "t_f:  0.41133905648131597 , v_f:  0.4080882352941176\n",
      "////////\n"
     ]
    },
    {
     "name": "stderr",
     "output_type": "stream",
     "text": [
      "\r",
      "Iterations:   4%|█▎                                | 12/300 [00:15<05:31,  1.15s/it]"
     ]
    },
    {
     "name": "stdout",
     "output_type": "stream",
     "text": [
      "Epoch  11 , loss 0.45951004706177057\n",
      "Epoch  12 , loss 0.4586431150342904\n"
     ]
    },
    {
     "name": "stderr",
     "output_type": "stream",
     "text": [
      "\r",
      "Iterations:   4%|█▍                                | 13/300 [00:17<05:52,  1.23s/it]"
     ]
    },
    {
     "name": "stdout",
     "output_type": "stream",
     "text": [
      "Epoch:  12\n",
      "t_loss:  0.4586431150342904 , v_loss:  0.7123655875523885\n",
      "t_acc:  0.6953003423591659 , v_acc:  0.6894409937888198\n",
      "t_recall:  0.49977628635346755 , v_recall:  0.5\n",
      "t_prec:  0.34775840597758406 , v_prec:  0.3447204968944099\n",
      "t_f:  0.41013401872590416 , v_f:  0.4080882352941176\n",
      "////////\n"
     ]
    },
    {
     "name": "stderr",
     "output_type": "stream",
     "text": [
      "\r",
      "Iterations:   5%|█▌                                | 14/300 [00:18<05:24,  1.13s/it]"
     ]
    },
    {
     "name": "stdout",
     "output_type": "stream",
     "text": [
      "Epoch  13 , loss 0.4562417362250534\n",
      "Epoch  14 , loss 0.4554232393994051\n"
     ]
    },
    {
     "name": "stderr",
     "output_type": "stream",
     "text": [
      "\r",
      "Iterations:   5%|█▋                                | 15/300 [00:19<05:56,  1.25s/it]"
     ]
    },
    {
     "name": "stdout",
     "output_type": "stream",
     "text": [
      "Epoch:  14\n",
      "t_loss:  0.4554232393994051 , v_loss:  0.7195872167746226\n",
      "t_acc:  0.6956115779645191 , v_acc:  0.6894409937888198\n",
      "t_recall:  0.5 , v_recall:  0.5\n",
      "t_prec:  0.34780578898225956 , v_prec:  0.3447204968944099\n",
      "t_f:  0.4102422907488987 , v_f:  0.4080882352941176\n",
      "////////\n"
     ]
    },
    {
     "name": "stderr",
     "output_type": "stream",
     "text": [
      "\r",
      "Iterations:   5%|█▊                                | 16/300 [00:20<05:44,  1.21s/it]"
     ]
    },
    {
     "name": "stdout",
     "output_type": "stream",
     "text": [
      "Epoch  15 , loss 0.461145479889477\n",
      "Epoch  16 , loss 0.45418451930962356\n"
     ]
    },
    {
     "name": "stderr",
     "output_type": "stream",
     "text": [
      "\r",
      "Iterations:   6%|█▉                                | 17/300 [00:22<06:12,  1.32s/it]"
     ]
    },
    {
     "name": "stdout",
     "output_type": "stream",
     "text": [
      "Epoch:  16\n",
      "t_loss:  0.45418451930962356 , v_loss:  0.7183687339226404\n",
      "t_acc:  0.6956115779645191 , v_acc:  0.6894409937888198\n",
      "t_recall:  0.5 , v_recall:  0.5\n",
      "t_prec:  0.34780578898225956 , v_prec:  0.3447204968944099\n",
      "t_f:  0.4102422907488987 , v_f:  0.4080882352941176\n",
      "////////\n"
     ]
    },
    {
     "name": "stderr",
     "output_type": "stream",
     "text": [
      "\r",
      "Iterations:   6%|██                                | 18/300 [00:23<05:35,  1.19s/it]"
     ]
    },
    {
     "name": "stdout",
     "output_type": "stream",
     "text": [
      "Epoch  17 , loss 0.4566681589566025\n",
      "Epoch  18 , loss 0.45734014814975216\n"
     ]
    },
    {
     "name": "stderr",
     "output_type": "stream",
     "text": [
      "\r",
      "Iterations:   6%|██▏                               | 19/300 [00:24<05:53,  1.26s/it]"
     ]
    },
    {
     "name": "stdout",
     "output_type": "stream",
     "text": [
      "Epoch:  18\n",
      "t_loss:  0.45734014814975216 , v_loss:  0.7176214804251989\n",
      "t_acc:  0.6956115779645191 , v_acc:  0.6894409937888198\n",
      "t_recall:  0.5 , v_recall:  0.5\n",
      "t_prec:  0.34780578898225956 , v_prec:  0.3447204968944099\n",
      "t_f:  0.4102422907488987 , v_f:  0.4080882352941176\n",
      "////////\n"
     ]
    },
    {
     "name": "stderr",
     "output_type": "stream",
     "text": [
      "\r",
      "Iterations:   7%|██▎                               | 20/300 [00:25<05:21,  1.15s/it]"
     ]
    },
    {
     "name": "stdout",
     "output_type": "stream",
     "text": [
      "Epoch  19 , loss 0.45186755528637007\n",
      "Epoch  20 , loss 0.45138926833283666\n"
     ]
    },
    {
     "name": "stderr",
     "output_type": "stream",
     "text": [
      "\r",
      "Iterations:   7%|██▍                               | 21/300 [00:27<05:56,  1.28s/it]"
     ]
    },
    {
     "name": "stdout",
     "output_type": "stream",
     "text": [
      "Epoch:  20\n",
      "t_loss:  0.45138926833283666 , v_loss:  0.715474526087443\n",
      "t_acc:  0.6956115779645191 , v_acc:  0.6894409937888198\n",
      "t_recall:  0.5 , v_recall:  0.5\n",
      "t_prec:  0.34780578898225956 , v_prec:  0.3447204968944099\n",
      "t_f:  0.4102422907488987 , v_f:  0.4080882352941176\n",
      "////////\n"
     ]
    },
    {
     "name": "stderr",
     "output_type": "stream",
     "text": [
      "\r",
      "Iterations:   7%|██▍                               | 22/300 [00:28<05:20,  1.15s/it]"
     ]
    },
    {
     "name": "stdout",
     "output_type": "stream",
     "text": [
      "Epoch  21 , loss 0.45389561734947503\n",
      "Epoch  22 , loss 0.44747232748012916\n"
     ]
    },
    {
     "name": "stderr",
     "output_type": "stream",
     "text": [
      "\r",
      "Iterations:   8%|██▌                               | 23/300 [00:29<05:36,  1.21s/it]"
     ]
    },
    {
     "name": "stdout",
     "output_type": "stream",
     "text": [
      "Epoch:  22\n",
      "t_loss:  0.44747232748012916 , v_loss:  0.7129176805416743\n",
      "t_acc:  0.6959228135698724 , v_acc:  0.6894409937888198\n",
      "t_recall:  0.5005112474437627 , v_recall:  0.5\n",
      "t_prec:  0.8479140722291407 , v_prec:  0.3447204968944099\n",
      "t_f:  0.41133905648131597 , v_f:  0.4080882352941176\n",
      "////////\n"
     ]
    },
    {
     "name": "stderr",
     "output_type": "stream",
     "text": [
      "\r",
      "Iterations:   8%|██▋                               | 24/300 [00:30<05:21,  1.16s/it]"
     ]
    },
    {
     "name": "stdout",
     "output_type": "stream",
     "text": [
      "Epoch  23 , loss 0.45482650925131407\n",
      "Epoch  24 , loss 0.4535238509084664\n"
     ]
    },
    {
     "name": "stderr",
     "output_type": "stream",
     "text": [
      "\r",
      "Iterations:   8%|██▊                               | 25/300 [00:31<05:37,  1.23s/it]"
     ]
    },
    {
     "name": "stdout",
     "output_type": "stream",
     "text": [
      "Epoch:  24\n",
      "t_loss:  0.4535238509084664 , v_loss:  0.7069547573725382\n",
      "t_acc:  0.6956115779645191 , v_acc:  0.6894409937888198\n",
      "t_recall:  0.5 , v_recall:  0.5\n",
      "t_prec:  0.34780578898225956 , v_prec:  0.3447204968944099\n",
      "t_f:  0.4102422907488987 , v_f:  0.4080882352941176\n",
      "////////\n"
     ]
    },
    {
     "name": "stderr",
     "output_type": "stream",
     "text": [
      "\r",
      "Iterations:   9%|██▉                               | 26/300 [00:32<05:06,  1.12s/it]"
     ]
    },
    {
     "name": "stdout",
     "output_type": "stream",
     "text": [
      "Epoch  25 , loss 0.44687196612358093\n",
      "Epoch  26 , loss 0.44826050190364614\n"
     ]
    },
    {
     "name": "stderr",
     "output_type": "stream",
     "text": [
      "\r",
      "Iterations:   9%|███                               | 27/300 [00:34<05:26,  1.19s/it]"
     ]
    },
    {
     "name": "stdout",
     "output_type": "stream",
     "text": [
      "Epoch:  26\n",
      "t_loss:  0.44826050190364614 , v_loss:  0.7033482740322748\n",
      "t_acc:  0.6956115779645191 , v_acc:  0.6894409937888198\n",
      "t_recall:  0.5 , v_recall:  0.5\n",
      "t_prec:  0.34780578898225956 , v_prec:  0.3447204968944099\n",
      "t_f:  0.4102422907488987 , v_f:  0.4080882352941176\n",
      "////////\n"
     ]
    },
    {
     "name": "stderr",
     "output_type": "stream",
     "text": [
      "\r",
      "Iterations:   9%|███▏                              | 28/300 [00:35<05:13,  1.15s/it]"
     ]
    },
    {
     "name": "stdout",
     "output_type": "stream",
     "text": [
      "Epoch  27 , loss 0.4489954493793787\n",
      "Epoch  28 , loss 0.4458754284709108\n"
     ]
    },
    {
     "name": "stderr",
     "output_type": "stream",
     "text": [
      "\r",
      "Iterations:  10%|███▎                              | 29/300 [00:36<05:47,  1.28s/it]"
     ]
    },
    {
     "name": "stdout",
     "output_type": "stream",
     "text": [
      "Epoch:  28\n",
      "t_loss:  0.4458754284709108 , v_loss:  0.7000882079203924\n",
      "t_acc:  0.6959228135698724 , v_acc:  0.6894409937888198\n",
      "t_recall:  0.5005112474437627 , v_recall:  0.5\n",
      "t_prec:  0.8479140722291407 , v_prec:  0.3447204968944099\n",
      "t_f:  0.41133905648131597 , v_f:  0.4080882352941176\n",
      "////////\n"
     ]
    },
    {
     "name": "stderr",
     "output_type": "stream",
     "text": [
      "\r",
      "Iterations:  10%|███▍                              | 30/300 [00:37<05:28,  1.22s/it]"
     ]
    },
    {
     "name": "stdout",
     "output_type": "stream",
     "text": [
      "Epoch  29 , loss 0.4399020817934298\n",
      "Epoch  30 , loss 0.4480721278517854\n"
     ]
    },
    {
     "name": "stderr",
     "output_type": "stream",
     "text": [
      "\r",
      "Iterations:  10%|███▌                              | 31/300 [00:39<05:48,  1.30s/it]"
     ]
    },
    {
     "name": "stdout",
     "output_type": "stream",
     "text": [
      "Epoch:  30\n",
      "t_loss:  0.4480721278517854 , v_loss:  0.7006782492001852\n",
      "t_acc:  0.6956115779645191 , v_acc:  0.6894409937888198\n",
      "t_recall:  0.5 , v_recall:  0.5\n",
      "t_prec:  0.34780578898225956 , v_prec:  0.3447204968944099\n",
      "t_f:  0.4102422907488987 , v_f:  0.4080882352941176\n",
      "////////\n"
     ]
    },
    {
     "name": "stderr",
     "output_type": "stream",
     "text": [
      "\r",
      "Iterations:  11%|███▋                              | 32/300 [00:40<05:14,  1.17s/it]"
     ]
    },
    {
     "name": "stdout",
     "output_type": "stream",
     "text": [
      "Epoch  31 , loss 0.44362057190315396\n",
      "Epoch  32 , loss 0.44756533877522336\n"
     ]
    },
    {
     "name": "stderr",
     "output_type": "stream",
     "text": [
      "\r",
      "Iterations:  11%|███▋                              | 33/300 [00:41<05:29,  1.23s/it]"
     ]
    },
    {
     "name": "stdout",
     "output_type": "stream",
     "text": [
      "Epoch:  32\n",
      "t_loss:  0.44756533877522336 , v_loss:  0.6944486896197001\n",
      "t_acc:  0.6959228135698724 , v_acc:  0.6894409937888198\n",
      "t_recall:  0.5005112474437627 , v_recall:  0.5\n",
      "t_prec:  0.8479140722291407 , v_prec:  0.3447204968944099\n",
      "t_f:  0.41133905648131597 , v_f:  0.4080882352941176\n",
      "////////\n"
     ]
    },
    {
     "name": "stderr",
     "output_type": "stream",
     "text": [
      "\r",
      "Iterations:  11%|███▊                              | 34/300 [00:42<05:00,  1.13s/it]"
     ]
    },
    {
     "name": "stdout",
     "output_type": "stream",
     "text": [
      "Epoch  33 , loss 0.44642413714352774\n",
      "Epoch  34 , loss 0.443985267012727\n"
     ]
    },
    {
     "name": "stderr",
     "output_type": "stream",
     "text": [
      "\r",
      "Iterations:  12%|███▉                              | 35/300 [00:43<05:32,  1.26s/it]"
     ]
    },
    {
     "name": "stdout",
     "output_type": "stream",
     "text": [
      "Epoch:  34\n",
      "t_loss:  0.443985267012727 , v_loss:  0.6954192270835241\n",
      "t_acc:  0.6949891067538126 , v_acc:  0.6894409937888198\n",
      "t_recall:  0.49955257270693515 , v_recall:  0.5\n",
      "t_prec:  0.3477109934599813 , v_prec:  0.3447204968944099\n",
      "t_f:  0.41002570694087404 , v_f:  0.4080882352941176\n",
      "////////\n"
     ]
    },
    {
     "name": "stderr",
     "output_type": "stream",
     "text": [
      "\r",
      "Iterations:  12%|████                              | 36/300 [00:44<05:04,  1.15s/it]"
     ]
    },
    {
     "name": "stdout",
     "output_type": "stream",
     "text": [
      "Epoch  35 , loss 0.4384421302991755\n",
      "Epoch  36 , loss 0.44484880508161057\n"
     ]
    },
    {
     "name": "stderr",
     "output_type": "stream",
     "text": [
      "\r",
      "Iterations:  12%|████▏                             | 37/300 [00:46<05:18,  1.21s/it]"
     ]
    },
    {
     "name": "stdout",
     "output_type": "stream",
     "text": [
      "Epoch:  36\n",
      "t_loss:  0.44484880508161057 , v_loss:  0.6870930244525274\n",
      "t_acc:  0.6956115779645191 , v_acc:  0.6894409937888198\n",
      "t_recall:  0.5002875337972303 , v_recall:  0.5\n",
      "t_prec:  0.5978667081905948 , v_prec:  0.3447204968944099\n",
      "t_f:  0.4112297361103825 , v_f:  0.4080882352941176\n",
      "////////\n"
     ]
    },
    {
     "name": "stderr",
     "output_type": "stream",
     "text": [
      "\r",
      "Iterations:  13%|████▎                             | 38/300 [00:47<05:04,  1.16s/it]"
     ]
    },
    {
     "name": "stdout",
     "output_type": "stream",
     "text": [
      "Epoch  37 , loss 0.446095592251011\n",
      "Epoch  38 , loss 0.43969418079245326\n"
     ]
    },
    {
     "name": "stderr",
     "output_type": "stream",
     "text": [
      "\r",
      "Iterations:  13%|████▍                             | 39/300 [00:48<05:17,  1.21s/it]"
     ]
    },
    {
     "name": "stdout",
     "output_type": "stream",
     "text": [
      "Epoch:  38\n",
      "t_loss:  0.43969418079245326 , v_loss:  0.6856265862782797\n",
      "t_acc:  0.6956115779645191 , v_acc:  0.6894409937888198\n",
      "t_recall:  0.5 , v_recall:  0.5\n",
      "t_prec:  0.34780578898225956 , v_prec:  0.3447204968944099\n",
      "t_f:  0.4102422907488987 , v_f:  0.4080882352941176\n",
      "////////\n"
     ]
    },
    {
     "name": "stderr",
     "output_type": "stream",
     "text": [
      "\r",
      "Iterations:  13%|████▌                             | 40/300 [00:49<04:50,  1.12s/it]"
     ]
    },
    {
     "name": "stdout",
     "output_type": "stream",
     "text": [
      "Epoch  39 , loss 0.4396682264758091\n",
      "Epoch  40 , loss 0.44668617727709753\n"
     ]
    },
    {
     "name": "stderr",
     "output_type": "stream",
     "text": [
      "\r",
      "Iterations:  14%|████▋                             | 41/300 [00:50<05:15,  1.22s/it]"
     ]
    },
    {
     "name": "stdout",
     "output_type": "stream",
     "text": [
      "Epoch:  40\n",
      "t_loss:  0.44668617727709753 , v_loss:  0.6794700374205908\n",
      "t_acc:  0.6959228135698724 , v_acc:  0.6894409937888198\n",
      "t_recall:  0.5007987812409931 , v_recall:  0.5\n",
      "t_prec:  0.6813084112149532 , v_prec:  0.3447204968944099\n",
      "t_f:  0.41232340081380947 , v_f:  0.4080882352941176\n",
      "////////\n"
     ]
    },
    {
     "name": "stderr",
     "output_type": "stream",
     "text": [
      "\r",
      "Iterations:  14%|████▊                             | 42/300 [00:51<04:56,  1.15s/it]"
     ]
    },
    {
     "name": "stdout",
     "output_type": "stream",
     "text": [
      "Epoch  41 , loss 0.4435436041916118\n",
      "Epoch  42 , loss 0.4366578243526758\n"
     ]
    },
    {
     "name": "stderr",
     "output_type": "stream",
     "text": [
      "\r",
      "Iterations:  14%|████▊                             | 43/300 [00:53<05:12,  1.22s/it]"
     ]
    },
    {
     "name": "stdout",
     "output_type": "stream",
     "text": [
      "Epoch:  42\n",
      "t_loss:  0.4366578243526758 , v_loss:  0.6743677308162054\n",
      "t_acc:  0.6953003423591659 , v_acc:  0.6894409937888198\n",
      "t_recall:  0.49977628635346755 , v_recall:  0.5\n",
      "t_prec:  0.34775840597758406 , v_prec:  0.3447204968944099\n",
      "t_f:  0.41013401872590416 , v_f:  0.4080882352941176\n",
      "////////\n"
     ]
    },
    {
     "name": "stderr",
     "output_type": "stream",
     "text": [
      "\r",
      "Iterations:  15%|████▉                             | 44/300 [00:54<04:41,  1.10s/it]"
     ]
    },
    {
     "name": "stdout",
     "output_type": "stream",
     "text": [
      "Epoch  43 , loss 0.4425098697344462\n",
      "Epoch  44 , loss 0.4393232675159679\n"
     ]
    },
    {
     "name": "stderr",
     "output_type": "stream",
     "text": [
      "\r",
      "Iterations:  15%|█████                             | 45/300 [00:55<05:07,  1.21s/it]"
     ]
    },
    {
     "name": "stdout",
     "output_type": "stream",
     "text": [
      "Epoch:  44\n",
      "t_loss:  0.4393232675159679 , v_loss:  0.6655142406622568\n",
      "t_acc:  0.6959228135698724 , v_acc:  0.6894409937888198\n",
      "t_recall:  0.5013738488354538 , v_recall:  0.5\n",
      "t_prec:  0.6338116032439176 , v_prec:  0.3447204968944099\n",
      "t_f:  0.4142796235015772 , v_f:  0.4080882352941176\n",
      "////////\n"
     ]
    },
    {
     "name": "stderr",
     "output_type": "stream",
     "text": [
      "\r",
      "Iterations:  15%|█████▏                            | 46/300 [00:56<04:39,  1.10s/it]"
     ]
    },
    {
     "name": "stdout",
     "output_type": "stream",
     "text": [
      "Epoch  45 , loss 0.4364675452896193\n",
      "Epoch  46 , loss 0.43912569389623757\n"
     ]
    },
    {
     "name": "stderr",
     "output_type": "stream",
     "text": [
      "\r",
      "Iterations:  16%|█████▎                            | 47/300 [00:57<05:02,  1.19s/it]"
     ]
    },
    {
     "name": "stdout",
     "output_type": "stream",
     "text": [
      "Epoch:  46\n",
      "t_loss:  0.43912569389623757 , v_loss:  0.663458064198494\n",
      "t_acc:  0.6956115779645191 , v_acc:  0.6894409937888198\n",
      "t_recall:  0.500862601391691 , v_recall:  0.5\n",
      "t_prec:  0.5979887745556596 , v_prec:  0.3447204968944099\n",
      "t_f:  0.4131921101460188 , v_f:  0.4080882352941176\n",
      "////////\n"
     ]
    },
    {
     "name": "stderr",
     "output_type": "stream",
     "text": [
      "\r",
      "Iterations:  16%|█████▍                            | 48/300 [00:58<04:47,  1.14s/it]"
     ]
    },
    {
     "name": "stdout",
     "output_type": "stream",
     "text": [
      "Epoch  47 , loss 0.43567483097899196\n",
      "Epoch  48 , loss 0.43486321439930037\n"
     ]
    },
    {
     "name": "stderr",
     "output_type": "stream",
     "text": [
      "\r",
      "Iterations:  16%|█████▌                            | 49/300 [01:00<04:59,  1.19s/it]"
     ]
    },
    {
     "name": "stdout",
     "output_type": "stream",
     "text": [
      "Epoch:  48\n",
      "t_loss:  0.43486321439930037 , v_loss:  0.6564648499091467\n",
      "t_acc:  0.6959228135698724 , v_acc:  0.6894409937888198\n",
      "t_recall:  0.5007987812409931 , v_recall:  0.5\n",
      "t_prec:  0.6813084112149532 , v_prec:  0.3447204968944099\n",
      "t_f:  0.41232340081380947 , v_f:  0.4080882352941176\n",
      "////////\n"
     ]
    },
    {
     "name": "stderr",
     "output_type": "stream",
     "text": [
      "\r",
      "Iterations:  17%|█████▋                            | 50/300 [01:01<04:33,  1.09s/it]"
     ]
    },
    {
     "name": "stdout",
     "output_type": "stream",
     "text": [
      "Epoch  49 , loss 0.4329075626298493\n",
      "Epoch  50 , loss 0.44022110688920113\n"
     ]
    },
    {
     "name": "stderr",
     "output_type": "stream",
     "text": [
      "\r",
      "Iterations:  17%|█████▊                            | 51/300 [01:02<04:56,  1.19s/it]"
     ]
    },
    {
     "name": "stdout",
     "output_type": "stream",
     "text": [
      "Epoch:  50\n",
      "t_loss:  0.44022110688920113 , v_loss:  0.6533697346846262\n",
      "t_acc:  0.6962340491752257 , v_acc:  0.6894409937888198\n",
      "t_recall:  0.5013100286847559 , v_recall:  0.5\n",
      "t_prec:  0.7230835151137426 , v_prec:  0.3447204968944099\n",
      "t_f:  0.4134150192068549 , v_f:  0.4080882352941176\n",
      "////////\n"
     ]
    },
    {
     "name": "stderr",
     "output_type": "stream",
     "text": [
      "\r",
      "Iterations:  17%|█████▉                            | 52/300 [01:03<04:47,  1.16s/it]"
     ]
    },
    {
     "name": "stdout",
     "output_type": "stream",
     "text": [
      "Epoch  51 , loss 0.4333074209736843\n",
      "Epoch  52 , loss 0.4336089450939029\n"
     ]
    },
    {
     "name": "stderr",
     "output_type": "stream",
     "text": [
      "\r",
      "Iterations:  18%|██████                            | 53/300 [01:05<05:15,  1.28s/it]"
     ]
    },
    {
     "name": "stdout",
     "output_type": "stream",
     "text": [
      "Epoch:  52\n",
      "t_loss:  0.4336089450939029 , v_loss:  0.6422240634759268\n",
      "t_acc:  0.6974789915966386 , v_acc:  0.6894409937888198\n",
      "t_recall:  0.5030674846625767 , v_recall:  0.5\n",
      "t_prec:  0.8484565014031805 , v_prec:  0.3447204968944099\n",
      "t_f:  0.41679215855003093 , v_f:  0.4080882352941176\n",
      "////////\n"
     ]
    },
    {
     "name": "stderr",
     "output_type": "stream",
     "text": [
      "\r",
      "Iterations:  18%|██████                            | 54/300 [01:06<04:44,  1.16s/it]"
     ]
    },
    {
     "name": "stdout",
     "output_type": "stream",
     "text": [
      "Epoch  53 , loss 0.4343402134437187\n",
      "Epoch  54 , loss 0.4322098189709233\n"
     ]
    },
    {
     "name": "stderr",
     "output_type": "stream",
     "text": [
      "\r",
      "Iterations:  18%|██████▏                           | 55/300 [01:07<04:58,  1.22s/it]"
     ]
    },
    {
     "name": "stdout",
     "output_type": "stream",
     "text": [
      "Epoch:  54\n",
      "t_loss:  0.4322098189709233 , v_loss:  0.641791969537735\n",
      "t_acc:  0.6971677559912854 , v_acc:  0.6894409937888198\n",
      "t_recall:  0.503418838610505 , v_recall:  0.5\n",
      "t_prec:  0.7121685310317416 , v_prec:  0.3447204968944099\n",
      "t_f:  0.4186094863993165 , v_f:  0.4080882352941176\n",
      "////////\n"
     ]
    },
    {
     "name": "stderr",
     "output_type": "stream",
     "text": [
      "\r",
      "Iterations:  19%|██████▎                           | 56/300 [01:08<04:31,  1.11s/it]"
     ]
    },
    {
     "name": "stdout",
     "output_type": "stream",
     "text": [
      "Epoch  55 , loss 0.4255142580060398\n",
      "Epoch  56 , loss 0.43919773312175975\n"
     ]
    },
    {
     "name": "stderr",
     "output_type": "stream",
     "text": [
      "\r",
      "Iterations:  19%|██████▍                           | 57/300 [01:09<05:10,  1.28s/it]"
     ]
    },
    {
     "name": "stdout",
     "output_type": "stream",
     "text": [
      "Epoch:  56\n",
      "t_loss:  0.43919773312175975 , v_loss:  0.6360578338305155\n",
      "t_acc:  0.6956115779645191 , v_acc:  0.6894409937888198\n",
      "t_recall:  0.5011501351889214 , v_recall:  0.5\n",
      "t_prec:  0.5980499219968799 , v_prec:  0.3447204968944099\n",
      "t_f:  0.41416708924949286 , v_f:  0.4080882352941176\n",
      "////////\n"
     ]
    },
    {
     "name": "stderr",
     "output_type": "stream",
     "text": [
      "\r",
      "Iterations:  19%|██████▌                           | 58/300 [01:10<04:52,  1.21s/it]"
     ]
    },
    {
     "name": "stdout",
     "output_type": "stream",
     "text": [
      "Epoch  57 , loss 0.43163523019528854\n",
      "Epoch  58 , loss 0.4268556687177396\n"
     ]
    },
    {
     "name": "stderr",
     "output_type": "stream",
     "text": [
      "\r",
      "Iterations:  20%|██████▋                           | 59/300 [01:12<05:30,  1.37s/it]"
     ]
    },
    {
     "name": "stdout",
     "output_type": "stream",
     "text": [
      "Epoch:  58\n",
      "t_loss:  0.4268556687177396 , v_loss:  0.6329666922489802\n",
      "t_acc:  0.6965452847805789 , v_acc:  0.6894409937888198\n",
      "t_recall:  0.5026838775202097 , v_recall:  0.5\n",
      "t_prec:  0.6665578331724491 , v_prec:  0.3447204968944099\n",
      "t_f:  0.4174144390948958 , v_f:  0.4080882352941176\n",
      "////////\n"
     ]
    },
    {
     "name": "stderr",
     "output_type": "stream",
     "text": [
      "\r",
      "Iterations:  20%|██████▊                           | 60/300 [01:13<04:55,  1.23s/it]"
     ]
    },
    {
     "name": "stdout",
     "output_type": "stream",
     "text": [
      "Epoch  59 , loss 0.44223060152109933\n",
      "Epoch  60 , loss 0.4315035536008723\n"
     ]
    },
    {
     "name": "stderr",
     "output_type": "stream",
     "text": [
      "\r",
      "Iterations:  20%|██████▉                           | 61/300 [01:14<05:02,  1.27s/it]"
     ]
    },
    {
     "name": "stdout",
     "output_type": "stream",
     "text": [
      "Epoch:  60\n",
      "t_loss:  0.4315035536008723 , v_loss:  0.6272922952969869\n",
      "t_acc:  0.6977902272019919 , v_acc:  0.6894409937888198\n",
      "t_recall:  0.5044413334980306 , v_recall:  0.5\n",
      "t_prec:  0.7333653846153847 , v_prec:  0.3447204968944099\n",
      "t_f:  0.4207623904932804 , v_f:  0.4080882352941176\n",
      "////////\n"
     ]
    },
    {
     "name": "stderr",
     "output_type": "stream",
     "text": [
      "\r",
      "Iterations:  21%|███████                           | 62/300 [01:15<04:35,  1.16s/it]"
     ]
    },
    {
     "name": "stdout",
     "output_type": "stream",
     "text": [
      "Epoch  61 , loss 0.4383990425689548\n",
      "Epoch  62 , loss 0.4273856808157528\n"
     ]
    },
    {
     "name": "stderr",
     "output_type": "stream",
     "text": [
      "\r",
      "Iterations:  21%|███████▏                          | 63/300 [01:17<04:47,  1.21s/it]"
     ]
    },
    {
     "name": "stdout",
     "output_type": "stream",
     "text": [
      "Epoch:  62\n",
      "t_loss:  0.4273856808157528 , v_loss:  0.6253754198551178\n",
      "t_acc:  0.699035169623405 , v_acc:  0.6894409937888198\n",
      "t_recall:  0.5061987894758513 , v_recall:  0.5\n",
      "t_prec:  0.7824577861163227 , v_prec:  0.3447204968944099\n",
      "t_f:  0.4240984517241897 , v_f:  0.4080882352941176\n",
      "////////\n"
     ]
    },
    {
     "name": "stderr",
     "output_type": "stream",
     "text": [
      "\r",
      "Iterations:  21%|███████▎                          | 64/300 [01:18<04:29,  1.14s/it]"
     ]
    },
    {
     "name": "stdout",
     "output_type": "stream",
     "text": [
      "Epoch  63 , loss 0.43426690908039317\n",
      "Epoch  64 , loss 0.430966529191709\n"
     ]
    },
    {
     "name": "stderr",
     "output_type": "stream",
     "text": [
      "\r",
      "Iterations:  22%|███████▎                          | 65/300 [01:19<04:59,  1.27s/it]"
     ]
    },
    {
     "name": "stdout",
     "output_type": "stream",
     "text": [
      "Epoch:  64\n",
      "t_loss:  0.430966529191709 , v_loss:  0.6172085901101431\n",
      "t_acc:  0.6971677559912854 , v_acc:  0.6894409937888198\n",
      "t_recall:  0.5037063724077353 , v_recall:  0.5\n",
      "t_prec:  0.6947475961538461 , v_prec:  0.3447204968944099\n",
      "t_f:  0.4195693161173654 , v_f:  0.4080882352941176\n",
      "////////\n"
     ]
    },
    {
     "name": "stderr",
     "output_type": "stream",
     "text": [
      "\r",
      "Iterations:  22%|███████▍                          | 66/300 [01:20<04:31,  1.16s/it]"
     ]
    },
    {
     "name": "stdout",
     "output_type": "stream",
     "text": [
      "Epoch  65 , loss 0.42760155364578845\n",
      "Epoch  66 , loss 0.4292525987999112\n"
     ]
    },
    {
     "name": "stderr",
     "output_type": "stream",
     "text": [
      "\r",
      "Iterations:  22%|███████▌                          | 67/300 [01:22<04:46,  1.23s/it]"
     ]
    },
    {
     "name": "stdout",
     "output_type": "stream",
     "text": [
      "Epoch:  66\n",
      "t_loss:  0.4292525987999112 , v_loss:  0.6164889832337698\n",
      "t_acc:  0.6981014628073452 , v_acc:  0.6894409937888198\n",
      "t_recall:  0.505527648536254 , v_recall:  0.5\n",
      "t_prec:  0.710093896713615 , v_prec:  0.3447204968944099\n",
      "t_f:  0.4237336084670173 , v_f:  0.4080882352941176\n",
      "////////\n"
     ]
    },
    {
     "name": "stderr",
     "output_type": "stream",
     "text": [
      "\r",
      "Iterations:  23%|███████▋                          | 68/300 [01:22<04:17,  1.11s/it]"
     ]
    },
    {
     "name": "stdout",
     "output_type": "stream",
     "text": [
      "Epoch  67 , loss 0.43061894938057543\n",
      "Epoch  68 , loss 0.4225420642132853\n"
     ]
    },
    {
     "name": "stderr",
     "output_type": "stream",
     "text": [
      "\r",
      "Iterations:  23%|███████▊                          | 69/300 [01:24<04:48,  1.25s/it]"
     ]
    },
    {
     "name": "stdout",
     "output_type": "stream",
     "text": [
      "Epoch:  68\n",
      "t_loss:  0.4225420642132853 , v_loss:  0.619933878382047\n",
      "t_acc:  0.6977902272019919 , v_acc:  0.6894409937888198\n",
      "t_recall:  0.5050164010924911 , v_recall:  0.5\n",
      "t_prec:  0.7018147684605758 , v_prec:  0.3447204968944099\n",
      "t_f:  0.42266608313154796 , v_f:  0.4080882352941176\n",
      "////////\n"
     ]
    },
    {
     "name": "stderr",
     "output_type": "stream",
     "text": [
      "\r",
      "Iterations:  23%|███████▉                          | 70/300 [01:25<04:23,  1.15s/it]"
     ]
    },
    {
     "name": "stdout",
     "output_type": "stream",
     "text": [
      "Epoch  69 , loss 0.4262270933272792\n",
      "Epoch  70 , loss 0.4306371632744284\n"
     ]
    },
    {
     "name": "stderr",
     "output_type": "stream",
     "text": [
      "\r",
      "Iterations:  24%|████████                          | 71/300 [01:26<04:39,  1.22s/it]"
     ]
    },
    {
     "name": "stdout",
     "output_type": "stream",
     "text": [
      "Epoch:  70\n",
      "t_loss:  0.4306371632744284 , v_loss:  0.6207945595184962\n",
      "t_acc:  0.6956115779645191 , v_acc:  0.6894409937888198\n",
      "t_recall:  0.5017252027833821 , v_recall:  0.5\n",
      "t_prec:  0.5981724461105904 , v_prec:  0.3447204968944099\n",
      "t_f:  0.41610475617098136 , v_f:  0.4080882352941176\n",
      "////////\n"
     ]
    },
    {
     "name": "stderr",
     "output_type": "stream",
     "text": [
      "\r",
      "Iterations:  24%|████████▏                         | 72/300 [01:27<04:33,  1.20s/it]"
     ]
    },
    {
     "name": "stdout",
     "output_type": "stream",
     "text": [
      "Epoch  71 , loss 0.4185015138457803\n",
      "Epoch  72 , loss 0.42122333482200025\n"
     ]
    },
    {
     "name": "stderr",
     "output_type": "stream",
     "text": [
      "\r",
      "Iterations:  24%|████████▎                         | 73/300 [01:29<04:42,  1.25s/it]"
     ]
    },
    {
     "name": "stdout",
     "output_type": "stream",
     "text": [
      "Epoch:  72\n",
      "t_loss:  0.42122333482200025 , v_loss:  0.6166005432605743\n",
      "t_acc:  0.699035169623405 , v_acc:  0.6894409937888198\n",
      "t_recall:  0.5079239922592333 , v_recall:  0.5\n",
      "t_prec:  0.7013496547394853 , v_prec:  0.3447204968944099\n",
      "t_f:  0.4297152863243275 , v_f:  0.4080882352941176\n",
      "////////\n"
     ]
    },
    {
     "name": "stderr",
     "output_type": "stream",
     "text": [
      "\r",
      "Iterations:  25%|████████▍                         | 74/300 [01:30<04:16,  1.14s/it]"
     ]
    },
    {
     "name": "stdout",
     "output_type": "stream",
     "text": [
      "Epoch  73 , loss 0.4272407684840408\n",
      "Epoch  74 , loss 0.42211214876642417\n"
     ]
    },
    {
     "name": "stderr",
     "output_type": "stream",
     "text": [
      "\r",
      "Iterations:  25%|████████▌                         | 75/300 [01:31<04:33,  1.22s/it]"
     ]
    },
    {
     "name": "stdout",
     "output_type": "stream",
     "text": [
      "Epoch:  74\n",
      "t_loss:  0.42211214876642417 , v_loss:  0.6139246722062429\n",
      "t_acc:  0.6996576408341114 , v_acc:  0.6894409937888198\n",
      "t_recall:  0.5086589533495286 , v_recall:  0.5\n",
      "t_prec:  0.7200251098556183 , v_prec:  0.3447204968944099\n",
      "t_f:  0.4308947790103165 , v_f:  0.4080882352941176\n",
      "////////\n"
     ]
    },
    {
     "name": "stderr",
     "output_type": "stream",
     "text": [
      "\r",
      "Iterations:  25%|████████▌                         | 76/300 [01:32<04:19,  1.16s/it]"
     ]
    },
    {
     "name": "stdout",
     "output_type": "stream",
     "text": [
      "Epoch  75 , loss 0.4273914192237106\n",
      "Epoch  76 , loss 0.42623391046243553\n"
     ]
    },
    {
     "name": "stderr",
     "output_type": "stream",
     "text": [
      "\r",
      "Iterations:  26%|████████▋                         | 77/300 [01:34<04:48,  1.29s/it]"
     ]
    },
    {
     "name": "stdout",
     "output_type": "stream",
     "text": [
      "Epoch:  76\n",
      "t_loss:  0.42623391046243553 , v_loss:  0.6147000789642334\n",
      "t_acc:  0.6993464052287581 , v_acc:  0.6894409937888198\n",
      "t_recall:  0.5078601721085354 , v_recall:  0.5\n",
      "t_prec:  0.7244825964252117 , v_prec:  0.3447204968944099\n",
      "t_f:  0.42891539928991573 , v_f:  0.4080882352941176\n",
      "////////\n"
     ]
    },
    {
     "name": "stderr",
     "output_type": "stream",
     "text": [
      "\r",
      "Iterations:  26%|████████▊                         | 78/300 [01:35<04:27,  1.20s/it]"
     ]
    },
    {
     "name": "stdout",
     "output_type": "stream",
     "text": [
      "Epoch  77 , loss 0.4212234102043451\n",
      "Epoch  78 , loss 0.42554843250442953\n"
     ]
    },
    {
     "name": "stderr",
     "output_type": "stream",
     "text": [
      "\r",
      "Iterations:  26%|████████▉                         | 79/300 [01:36<04:41,  1.27s/it]"
     ]
    },
    {
     "name": "stdout",
     "output_type": "stream",
     "text": [
      "Epoch:  78\n",
      "t_loss:  0.42554843250442953 , v_loss:  0.6126945118109385\n",
      "t_acc:  0.6977902272019919 , v_acc:  0.6894409937888198\n",
      "t_recall:  0.5058790024841822 , v_recall:  0.5\n",
      "t_prec:  0.6751465176502658 , v_prec:  0.3447204968944099\n",
      "t_f:  0.4254919274274113 , v_f:  0.4080882352941176\n",
      "////////\n"
     ]
    },
    {
     "name": "stderr",
     "output_type": "stream",
     "text": [
      "\r",
      "Iterations:  27%|█████████                         | 80/300 [01:37<04:14,  1.16s/it]"
     ]
    },
    {
     "name": "stdout",
     "output_type": "stream",
     "text": [
      "Epoch  79 , loss 0.4226715874438192\n",
      "Epoch  80 , loss 0.42311878590022817\n"
     ]
    },
    {
     "name": "stderr",
     "output_type": "stream",
     "text": [
      "\r",
      "Iterations:  27%|█████████▏                        | 81/300 [01:38<04:31,  1.24s/it]"
     ]
    },
    {
     "name": "stdout",
     "output_type": "stream",
     "text": [
      "Epoch:  80\n",
      "t_loss:  0.42311878590022817 , v_loss:  0.6117853174606959\n",
      "t_acc:  0.6977902272019919 , v_acc:  0.6894409937888198\n",
      "t_recall:  0.5055914686869519 , v_recall:  0.5\n",
      "t_prec:  0.6823308270676691 , v_prec:  0.3447204968944099\n",
      "t_f:  0.42455390714097185 , v_f:  0.4080882352941176\n",
      "////////\n"
     ]
    },
    {
     "name": "stderr",
     "output_type": "stream",
     "text": [
      "\r",
      "Iterations:  27%|█████████▎                        | 82/300 [01:39<04:07,  1.14s/it]"
     ]
    },
    {
     "name": "stdout",
     "output_type": "stream",
     "text": [
      "Epoch  81 , loss 0.4260765577063841\n",
      "Epoch  82 , loss 0.4225148061911265\n"
     ]
    },
    {
     "name": "stderr",
     "output_type": "stream",
     "text": [
      "\r",
      "Iterations:  28%|█████████▍                        | 83/300 [01:41<04:32,  1.26s/it]"
     ]
    },
    {
     "name": "stdout",
     "output_type": "stream",
     "text": [
      "Epoch:  82\n",
      "t_loss:  0.4225148061911265 , v_loss:  0.6122884452342987\n",
      "t_acc:  0.6962340491752257 , v_acc:  0.6894409937888198\n",
      "t_recall:  0.5044729004542897 , v_recall:  0.5\n",
      "t_prec:  0.6179913591272236 , v_prec:  0.3447204968944099\n",
      "t_f:  0.42394053443180435 , v_f:  0.4080882352941176\n",
      "////////\n"
     ]
    },
    {
     "name": "stderr",
     "output_type": "stream",
     "text": [
      "\r",
      "Iterations:  28%|█████████▌                        | 84/300 [01:42<04:11,  1.17s/it]"
     ]
    },
    {
     "name": "stdout",
     "output_type": "stream",
     "text": [
      "Epoch  83 , loss 0.4235905560792661\n",
      "Epoch  84 , loss 0.43284645676612854\n"
     ]
    },
    {
     "name": "stderr",
     "output_type": "stream",
     "text": [
      "\r",
      "Iterations:  28%|█████████▋                        | 85/300 [01:43<04:26,  1.24s/it]"
     ]
    },
    {
     "name": "stdout",
     "output_type": "stream",
     "text": [
      "Epoch:  84\n",
      "t_loss:  0.43284645676612854 , v_loss:  0.6096836775541306\n",
      "t_acc:  0.6993464052287581 , v_acc:  0.6894409937888198\n",
      "t_recall:  0.5084352397029961 , v_recall:  0.5\n",
      "t_prec:  0.7067503924646782 , v_prec:  0.3447204968944099\n",
      "t_f:  0.43076632456185404 , v_f:  0.4080882352941176\n",
      "////////\n"
     ]
    },
    {
     "name": "stderr",
     "output_type": "stream",
     "text": [
      "\r",
      "Iterations:  29%|█████████▋                        | 86/300 [01:44<04:11,  1.18s/it]"
     ]
    },
    {
     "name": "stdout",
     "output_type": "stream",
     "text": [
      "Epoch  85 , loss 0.41755369948405846\n",
      "Epoch  86 , loss 0.42140356465881945\n"
     ]
    },
    {
     "name": "stderr",
     "output_type": "stream",
     "text": [
      "\r",
      "Iterations:  29%|█████████▊                        | 87/300 [01:46<04:22,  1.23s/it]"
     ]
    },
    {
     "name": "stdout",
     "output_type": "stream",
     "text": [
      "Epoch:  86\n",
      "t_loss:  0.42140356465881945 , v_loss:  0.6134467174609503\n",
      "t_acc:  0.7005913476501712 , v_acc:  0.6894409937888198\n",
      "t_recall:  0.5104802294780473 , v_recall:  0.5\n",
      "t_prec:  0.7250471549827098 , v_prec:  0.3447204968944099\n",
      "t_f:  0.43495144566155286 , v_f:  0.4080882352941176\n",
      "////////\n"
     ]
    },
    {
     "name": "stderr",
     "output_type": "stream",
     "text": [
      "\r",
      "Iterations:  29%|█████████▉                        | 88/300 [01:46<03:57,  1.12s/it]"
     ]
    },
    {
     "name": "stdout",
     "output_type": "stream",
     "text": [
      "Epoch  87 , loss 0.42169896586268557\n",
      "Epoch  88 , loss 0.42056600194351346\n"
     ]
    },
    {
     "name": "stderr",
     "output_type": "stream",
     "text": [
      "\r",
      "Iterations:  30%|██████████                        | 89/300 [01:48<04:18,  1.23s/it]"
     ]
    },
    {
     "name": "stdout",
     "output_type": "stream",
     "text": [
      "Epoch:  88\n",
      "t_loss:  0.42056600194351346 , v_loss:  0.6131477206945419\n",
      "t_acc:  0.7015250544662309 , v_acc:  0.6894409937888198\n",
      "t_recall:  0.5125890394037963 , v_recall:  0.5\n",
      "t_prec:  0.7222989675730697 , v_prec:  0.3447204968944099\n",
      "t_f:  0.43986669218951696 , v_f:  0.4080882352941176\n",
      "////////\n"
     ]
    },
    {
     "name": "stderr",
     "output_type": "stream",
     "text": [
      "\r",
      "Iterations:  30%|██████████▏                       | 90/300 [01:49<04:11,  1.20s/it]"
     ]
    },
    {
     "name": "stdout",
     "output_type": "stream",
     "text": [
      "Epoch  89 , loss 0.42157713864363877\n",
      "Epoch  90 , loss 0.4240419665972392\n"
     ]
    },
    {
     "name": "stderr",
     "output_type": "stream",
     "text": [
      "\r",
      "Iterations:  30%|██████████▎                       | 91/300 [01:51<04:35,  1.32s/it]"
     ]
    },
    {
     "name": "stdout",
     "output_type": "stream",
     "text": [
      "Epoch:  90\n",
      "t_loss:  0.4240419665972392 , v_loss:  0.61204032599926\n",
      "t_acc:  0.6996576408341114 , v_acc:  0.6894409937888198\n",
      "t_recall:  0.5095215547412196 , v_recall:  0.5\n",
      "t_prec:  0.698327615780446 , v_prec:  0.3447204968944099\n",
      "t_f:  0.43364541292321857 , v_f:  0.4080882352941176\n",
      "////////\n"
     ]
    },
    {
     "name": "stderr",
     "output_type": "stream",
     "text": [
      "\r",
      "Iterations:  31%|██████████▍                       | 92/300 [01:52<04:05,  1.18s/it]"
     ]
    },
    {
     "name": "stdout",
     "output_type": "stream",
     "text": [
      "Epoch  91 , loss 0.42355111708828047\n",
      "Epoch  92 , loss 0.41406971040894003\n"
     ]
    },
    {
     "name": "stderr",
     "output_type": "stream",
     "text": [
      "\r",
      "Iterations:  31%|██████████▌                       | 93/300 [01:53<04:19,  1.25s/it]"
     ]
    },
    {
     "name": "stdout",
     "output_type": "stream",
     "text": [
      "Epoch:  92\n",
      "t_loss:  0.41406971040894003 , v_loss:  0.6098174750804901\n",
      "t_acc:  0.6974789915966386 , v_acc:  0.6894409937888198\n",
      "t_recall:  0.5056552888376498 , v_recall:  0.5\n",
      "t_prec:  0.6615122295390404 , v_prec:  0.3447204968944099\n",
      "t_f:  0.42536828996873505 , v_f:  0.4080882352941176\n",
      "////////\n"
     ]
    },
    {
     "name": "stderr",
     "output_type": "stream",
     "text": [
      "\r",
      "Iterations:  31%|██████████▋                       | 94/300 [01:54<03:55,  1.14s/it]"
     ]
    },
    {
     "name": "stdout",
     "output_type": "stream",
     "text": [
      "Epoch  93 , loss 0.4252384603023529\n",
      "Epoch  94 , loss 0.4274283326139637\n"
     ]
    },
    {
     "name": "stderr",
     "output_type": "stream",
     "text": [
      "\r",
      "Iterations:  32%|██████████▊                       | 95/300 [01:55<04:20,  1.27s/it]"
     ]
    },
    {
     "name": "stdout",
     "output_type": "stream",
     "text": [
      "Epoch:  94\n",
      "t_loss:  0.4274283326139637 , v_loss:  0.6067651609579722\n",
      "t_acc:  0.6996576408341114 , v_acc:  0.6832298136645962\n",
      "t_recall:  0.5095215547412196 , v_recall:  0.4954954954954955\n",
      "t_prec:  0.698327615780446 , v_prec:  0.34375\n",
      "t_f:  0.43364541292321857 , v_f:  0.40590405904059035\n",
      "////////\n"
     ]
    },
    {
     "name": "stderr",
     "output_type": "stream",
     "text": [
      "\r",
      "Iterations:  32%|██████████▉                       | 96/300 [01:56<03:56,  1.16s/it]"
     ]
    },
    {
     "name": "stdout",
     "output_type": "stream",
     "text": [
      "Epoch  95 , loss 0.4273470833021052\n",
      "Epoch  96 , loss 0.41638248691371843\n"
     ]
    },
    {
     "name": "stderr",
     "output_type": "stream",
     "text": [
      "\r",
      "Iterations:  32%|██████████▉                       | 97/300 [01:58<04:10,  1.24s/it]"
     ]
    },
    {
     "name": "stdout",
     "output_type": "stream",
     "text": [
      "Epoch:  96\n",
      "t_loss:  0.41638248691371843 , v_loss:  0.6041121681531271\n",
      "t_acc:  0.7002801120448179 , v_acc:  0.6832298136645962\n",
      "t_recall:  0.5108315834259755 , v_recall:  0.4954954954954955\n",
      "t_prec:  0.7014772959357343 , v_prec:  0.34375\n",
      "t_f:  0.43663036343591277 , v_f:  0.40590405904059035\n",
      "////////\n"
     ]
    },
    {
     "name": "stderr",
     "output_type": "stream",
     "text": [
      "\r",
      "Iterations:  33%|███████████                       | 98/300 [01:59<03:59,  1.18s/it]"
     ]
    },
    {
     "name": "stdout",
     "output_type": "stream",
     "text": [
      "Epoch  97 , loss 0.41789453695802126\n",
      "Epoch  98 , loss 0.4159354757444531\n"
     ]
    },
    {
     "name": "stderr",
     "output_type": "stream",
     "text": [
      "\r",
      "Iterations:  33%|███████████▏                      | 99/300 [02:00<04:09,  1.24s/it]"
     ]
    },
    {
     "name": "stdout",
     "output_type": "stream",
     "text": [
      "Epoch:  98\n",
      "t_loss:  0.4159354757444531 , v_loss:  0.6117924352486929\n",
      "t_acc:  0.7002801120448179 , v_acc:  0.6894409937888198\n",
      "t_recall:  0.5111191172232058 , v_recall:  0.5\n",
      "t_prec:  0.6963428820706703 , v_prec:  0.3447204968944099\n",
      "t_f:  0.43753036973775267 , v_f:  0.4080882352941176\n",
      "////////\n"
     ]
    },
    {
     "name": "stderr",
     "output_type": "stream",
     "text": [
      "\r",
      "Iterations:  33%|███████████                      | 100/300 [02:01<03:50,  1.15s/it]"
     ]
    },
    {
     "name": "stdout",
     "output_type": "stream",
     "text": [
      "Epoch  99 , loss 0.42230506036795823\n",
      "Epoch  100 , loss 0.4196919687822753\n"
     ]
    },
    {
     "name": "stderr",
     "output_type": "stream",
     "text": [
      "\r",
      "Iterations:  34%|███████████                      | 101/300 [02:02<04:01,  1.21s/it]"
     ]
    },
    {
     "name": "stdout",
     "output_type": "stream",
     "text": [
      "Epoch:  100\n",
      "t_loss:  0.4196919687822753 , v_loss:  0.6080596347649893\n",
      "t_acc:  0.6987239340180517 , v_acc:  0.6832298136645962\n",
      "t_recall:  0.5071252110182403 , v_recall:  0.4954954954954955\n",
      "t_prec:  0.7034924741298213 , v_prec:  0.34375\n",
      "t_f:  0.4277330295161889 , v_f:  0.40590405904059035\n",
      "////////\n"
     ]
    },
    {
     "name": "stderr",
     "output_type": "stream",
     "text": [
      "\r",
      "Iterations:  34%|███████████▏                     | 102/300 [02:03<03:46,  1.14s/it]"
     ]
    },
    {
     "name": "stdout",
     "output_type": "stream",
     "text": [
      "Epoch  101 , loss 0.41914091858209346\n",
      "Epoch  102 , loss 0.4215579354295544\n"
     ]
    },
    {
     "name": "stderr",
     "output_type": "stream",
     "text": [
      "\r",
      "Iterations:  34%|███████████▎                     | 103/300 [02:05<04:09,  1.27s/it]"
     ]
    },
    {
     "name": "stdout",
     "output_type": "stream",
     "text": [
      "Epoch:  102\n",
      "t_loss:  0.4215579354295544 , v_loss:  0.6062388370434443\n",
      "t_acc:  0.7033924680983504 , v_acc:  0.6832298136645962\n",
      "t_recall:  0.5150814564719123 , v_recall:  0.4954954954954955\n",
      "t_prec:  0.7534793774797773 , v_prec:  0.34375\n",
      "t_f:  0.4442581881916964 , v_f:  0.40590405904059035\n",
      "////////\n"
     ]
    },
    {
     "name": "stderr",
     "output_type": "stream",
     "text": [
      "\r",
      "Iterations:  35%|███████████▍                     | 104/300 [02:06<03:53,  1.19s/it]"
     ]
    },
    {
     "name": "stdout",
     "output_type": "stream",
     "text": [
      "Epoch  103 , loss 0.42238478216470454\n",
      "Epoch  104 , loss 0.4187539734092413\n"
     ]
    },
    {
     "name": "stderr",
     "output_type": "stream",
     "text": [
      "\r",
      "Iterations:  35%|███████████▌                     | 105/300 [02:07<04:07,  1.27s/it]"
     ]
    },
    {
     "name": "stdout",
     "output_type": "stream",
     "text": [
      "Epoch:  104\n",
      "t_loss:  0.4187539734092413 , v_loss:  0.6052592496077219\n",
      "t_acc:  0.6974789915966386 , v_acc:  0.6832298136645962\n",
      "t_recall:  0.5065178902293408 , v_recall:  0.4954954954954955\n",
      "t_prec:  0.6491988689915174 , v_prec:  0.34375\n",
      "t_f:  0.428156146179402 , v_f:  0.40590405904059035\n",
      "////////\n"
     ]
    },
    {
     "name": "stderr",
     "output_type": "stream",
     "text": [
      "\r",
      "Iterations:  35%|███████████▋                     | 106/300 [02:08<03:42,  1.15s/it]"
     ]
    },
    {
     "name": "stdout",
     "output_type": "stream",
     "text": [
      "Epoch  105 , loss 0.4178738886234807\n",
      "Epoch  106 , loss 0.41420145829518634\n"
     ]
    },
    {
     "name": "stderr",
     "output_type": "stream",
     "text": [
      "\r",
      "Iterations:  36%|███████████▊                     | 107/300 [02:10<03:58,  1.24s/it]"
     ]
    },
    {
     "name": "stdout",
     "output_type": "stream",
     "text": [
      "Epoch:  106\n",
      "t_loss:  0.41420145829518634 , v_loss:  0.6066492895285288\n",
      "t_acc:  0.704014939309057 , v_acc:  0.6832298136645962\n",
      "t_recall:  0.5178291541428199 , v_recall:  0.4954954954954955\n",
      "t_prec:  0.7243738845068801 , v_prec:  0.34375\n",
      "t_f:  0.45152037284716534 , v_f:  0.40590405904059035\n",
      "////////\n"
     ]
    },
    {
     "name": "stderr",
     "output_type": "stream",
     "text": [
      "\r",
      "Iterations:  36%|███████████▉                     | 108/300 [02:11<03:37,  1.13s/it]"
     ]
    },
    {
     "name": "stdout",
     "output_type": "stream",
     "text": [
      "Epoch  107 , loss 0.4247442180035161\n",
      "Epoch  108 , loss 0.4235894171630635\n"
     ]
    },
    {
     "name": "stderr",
     "output_type": "stream",
     "text": [
      "\r",
      "Iterations:  36%|███████████▉                     | 109/300 [02:12<03:55,  1.23s/it]"
     ]
    },
    {
     "name": "stdout",
     "output_type": "stream",
     "text": [
      "Epoch:  108\n",
      "t_loss:  0.4235894171630635 , v_loss:  0.605458453297615\n",
      "t_acc:  0.6993464052287581 , v_acc:  0.6832298136645962\n",
      "t_recall:  0.5095853748919175 , v_recall:  0.4954954954954955\n",
      "t_prec:  0.6831916902738433 , v_prec:  0.34375\n",
      "t_f:  0.43442251931932985 , v_f:  0.40590405904059035\n",
      "////////\n"
     ]
    },
    {
     "name": "stderr",
     "output_type": "stream",
     "text": [
      "\r",
      "Iterations:  37%|████████████                     | 110/300 [02:13<03:42,  1.17s/it]"
     ]
    },
    {
     "name": "stdout",
     "output_type": "stream",
     "text": [
      "Epoch  109 , loss 0.42090118457289305\n",
      "Epoch  110 , loss 0.4196428925383325\n"
     ]
    },
    {
     "name": "stderr",
     "output_type": "stream",
     "text": [
      "\r",
      "Iterations:  37%|████████████▏                    | 111/300 [02:15<03:52,  1.23s/it]"
     ]
    },
    {
     "name": "stdout",
     "output_type": "stream",
     "text": [
      "Epoch:  110\n",
      "t_loss:  0.4196428925383325 , v_loss:  0.6043149928251902\n",
      "t_acc:  0.7037037037037037 , v_acc:  0.6832298136645962\n",
      "t_recall:  0.5161677715101357 , v_recall:  0.4954954954954955\n",
      "t_prec:  0.742583160582639 , v_prec:  0.34375\n",
      "t_f:  0.4470407372269529 , v_f:  0.40590405904059035\n",
      "////////\n"
     ]
    },
    {
     "name": "stderr",
     "output_type": "stream",
     "text": [
      "\r",
      "Iterations:  37%|████████████▎                    | 112/300 [02:15<03:34,  1.14s/it]"
     ]
    },
    {
     "name": "stdout",
     "output_type": "stream",
     "text": [
      "Epoch  111 , loss 0.4270373863332412\n",
      "Epoch  112 , loss 0.42186005033698737\n"
     ]
    },
    {
     "name": "stderr",
     "output_type": "stream",
     "text": [
      "\r",
      "Iterations:  38%|████████████▍                    | 113/300 [02:17<03:46,  1.21s/it]"
     ]
    },
    {
     "name": "stdout",
     "output_type": "stream",
     "text": [
      "Epoch:  112\n",
      "t_loss:  0.42186005033698737 , v_loss:  0.6054686307907104\n",
      "t_acc:  0.699035169623405 , v_acc:  0.6832298136645962\n",
      "t_recall:  0.5099367288398458 , v_recall:  0.4954954954954955\n",
      "t_prec:  0.6670101190293114 , v_prec:  0.34375\n",
      "t_f:  0.4360940902217948 , v_f:  0.40590405904059035\n",
      "////////\n"
     ]
    },
    {
     "name": "stderr",
     "output_type": "stream",
     "text": [
      "\r",
      "Iterations:  38%|████████████▌                    | 114/300 [02:18<03:29,  1.12s/it]"
     ]
    },
    {
     "name": "stdout",
     "output_type": "stream",
     "text": [
      "Epoch  113 , loss 0.4171035844905704\n",
      "Epoch  114 , loss 0.4216857418125751\n"
     ]
    },
    {
     "name": "stderr",
     "output_type": "stream",
     "text": [
      "\r",
      "Iterations:  38%|████████████▋                    | 115/300 [02:19<03:52,  1.26s/it]"
     ]
    },
    {
     "name": "stdout",
     "output_type": "stream",
     "text": [
      "Epoch:  114\n",
      "t_loss:  0.4216857418125751 , v_loss:  0.6058912177880605\n",
      "t_acc:  0.7009025832555245 , v_acc:  0.6894409937888198\n",
      "t_recall:  0.5112790107190404 , v_recall:  0.5054954954954954\n",
      "t_prec:  0.721648835745752 , v_prec:  0.5959119496855345\n",
      "t_f:  0.43689855634373687 , v_f:  0.4266381766381766\n",
      "////////\n"
     ]
    },
    {
     "name": "stderr",
     "output_type": "stream",
     "text": [
      "\r",
      "Iterations:  39%|████████████▊                    | 116/300 [02:20<03:36,  1.18s/it]"
     ]
    },
    {
     "name": "stdout",
     "output_type": "stream",
     "text": [
      "Epoch  115 , loss 0.4193536557403265\n",
      "Epoch  116 , loss 0.41726141875865413\n"
     ]
    },
    {
     "name": "stderr",
     "output_type": "stream",
     "text": [
      "\r",
      "Iterations:  39%|████████████▊                    | 117/300 [02:22<03:47,  1.24s/it]"
     ]
    },
    {
     "name": "stdout",
     "output_type": "stream",
     "text": [
      "Epoch:  116\n",
      "t_loss:  0.41726141875865413 , v_loss:  0.605127215385437\n",
      "t_acc:  0.6999688764394647 , v_acc:  0.6894409937888198\n",
      "t_recall:  0.5123330725628251 , v_recall:  0.5054954954954954\n",
      "t_prec:  0.6704584255453683 , v_prec:  0.5959119496855345\n",
      "t_f:  0.4418360741764856 , v_f:  0.4266381766381766\n",
      "////////\n"
     ]
    },
    {
     "name": "stderr",
     "output_type": "stream",
     "text": [
      "\r",
      "Iterations:  39%|████████████▉                    | 118/300 [02:23<03:26,  1.13s/it]"
     ]
    },
    {
     "name": "stdout",
     "output_type": "stream",
     "text": [
      "Epoch  117 , loss 0.41762976494489934\n",
      "Epoch  118 , loss 0.4156242118162267\n"
     ]
    },
    {
     "name": "stderr",
     "output_type": "stream",
     "text": [
      "\r",
      "Iterations:  40%|█████████████                    | 119/300 [02:24<03:44,  1.24s/it]"
     ]
    },
    {
     "name": "stdout",
     "output_type": "stream",
     "text": [
      "Epoch:  118\n",
      "t_loss:  0.4156242118162267 , v_loss:  0.6079052289326986\n",
      "t_acc:  0.7002801120448179 , v_acc:  0.6894409937888198\n",
      "t_recall:  0.5128443200065879 , v_recall:  0.5054954954954954\n",
      "t_prec:  0.6740986717267552 , v_prec:  0.5959119496855345\n",
      "t_f:  0.44285373960590346 , v_f:  0.4266381766381766\n",
      "////////\n"
     ]
    },
    {
     "name": "stderr",
     "output_type": "stream",
     "text": [
      "\r",
      "Iterations:  40%|█████████████▏                   | 120/300 [02:25<03:24,  1.14s/it]"
     ]
    },
    {
     "name": "stdout",
     "output_type": "stream",
     "text": [
      "Epoch  119 , loss 0.41547918436574\n",
      "Epoch  120 , loss 0.4120441365475748\n"
     ]
    },
    {
     "name": "stderr",
     "output_type": "stream",
     "text": [
      "\r",
      "Iterations:  40%|█████████████▎                   | 121/300 [02:26<03:42,  1.25s/it]"
     ]
    },
    {
     "name": "stdout",
     "output_type": "stream",
     "text": [
      "Epoch:  120\n",
      "t_loss:  0.4120441365475748 , v_loss:  0.6063884148995081\n",
      "t_acc:  0.7015250544662309 , v_acc:  0.6894409937888198\n",
      "t_recall:  0.5137391745927177 , v_recall:  0.5054954954954954\n",
      "t_prec:  0.7018218841144608 , v_prec:  0.5959119496855345\n",
      "t_f:  0.44341526636892 , v_f:  0.4266381766381766\n",
      "////////\n"
     ]
    },
    {
     "name": "stderr",
     "output_type": "stream",
     "text": [
      "\r",
      "Iterations:  41%|█████████████▍                   | 122/300 [02:28<03:31,  1.19s/it]"
     ]
    },
    {
     "name": "stdout",
     "output_type": "stream",
     "text": [
      "Epoch  121 , loss 0.42164238235529733\n",
      "Epoch  122 , loss 0.419490038764243\n"
     ]
    },
    {
     "name": "stderr",
     "output_type": "stream",
     "text": [
      "\r",
      "Iterations:  41%|█████████████▌                   | 123/300 [02:29<03:40,  1.24s/it]"
     ]
    },
    {
     "name": "stdout",
     "output_type": "stream",
     "text": [
      "Epoch:  122\n",
      "t_loss:  0.419490038764243 , v_loss:  0.605112279454867\n",
      "t_acc:  0.7015250544662309 , v_acc:  0.6894409937888198\n",
      "t_recall:  0.5125890394037963 , v_recall:  0.5054954954954954\n",
      "t_prec:  0.7222989675730697 , v_prec:  0.5959119496855345\n",
      "t_f:  0.43986669218951696 , v_f:  0.4266381766381766\n",
      "////////\n"
     ]
    },
    {
     "name": "stderr",
     "output_type": "stream",
     "text": [
      "\r",
      "Iterations:  41%|█████████████▋                   | 124/300 [02:30<03:23,  1.16s/it]"
     ]
    },
    {
     "name": "stdout",
     "output_type": "stream",
     "text": [
      "Epoch  123 , loss 0.4186333914597829\n",
      "Epoch  124 , loss 0.4157118937548469\n"
     ]
    },
    {
     "name": "stderr",
     "output_type": "stream",
     "text": [
      "\r",
      "Iterations:  42%|█████████████▊                   | 125/300 [02:31<03:34,  1.23s/it]"
     ]
    },
    {
     "name": "stdout",
     "output_type": "stream",
     "text": [
      "Epoch:  124\n",
      "t_loss:  0.4157118937548469 , v_loss:  0.6021595348914465\n",
      "t_acc:  0.7012138188608776 , v_acc:  0.6894409937888198\n",
      "t_recall:  0.5126528595544941 , v_recall:  0.5054954954954954\n",
      "t_prec:  0.7076631977294229 , v_prec:  0.5959119496855345\n",
      "t_f:  0.4406215316315205 , v_f:  0.4266381766381766\n",
      "////////\n"
     ]
    },
    {
     "name": "stderr",
     "output_type": "stream",
     "text": [
      "\r",
      "Iterations:  42%|█████████████▊                   | 126/300 [02:32<03:17,  1.14s/it]"
     ]
    },
    {
     "name": "stdout",
     "output_type": "stream",
     "text": [
      "Epoch  125 , loss 0.4170917348534453\n",
      "Epoch  126 , loss 0.4136062591683631\n"
     ]
    },
    {
     "name": "stderr",
     "output_type": "stream",
     "text": [
      "\r",
      "Iterations:  42%|█████████████▉                   | 127/300 [02:34<03:37,  1.26s/it]"
     ]
    },
    {
     "name": "stdout",
     "output_type": "stream",
     "text": [
      "Epoch:  126\n",
      "t_loss:  0.4136062591683631 , v_loss:  0.5993755807479223\n",
      "t_acc:  0.7018362900715842 , v_acc:  0.6894409937888198\n",
      "t_recall:  0.5148254896309411 , v_recall:  0.5054954954954954\n",
      "t_prec:  0.6971503662424257 , v_prec:  0.5959119496855345\n",
      "t_f:  0.44618199745226594 , v_f:  0.4266381766381766\n",
      "////////\n"
     ]
    },
    {
     "name": "stderr",
     "output_type": "stream",
     "text": [
      "\r",
      "Iterations:  43%|██████████████                   | 128/300 [02:35<03:26,  1.20s/it]"
     ]
    },
    {
     "name": "stdout",
     "output_type": "stream",
     "text": [
      "Epoch  127 , loss 0.4125180115886763\n",
      "Epoch  128 , loss 0.4142887621533637\n"
     ]
    },
    {
     "name": "stderr",
     "output_type": "stream",
     "text": [
      "\r",
      "Iterations:  43%|██████████████▏                  | 129/300 [02:36<03:40,  1.29s/it]"
     ]
    },
    {
     "name": "stdout",
     "output_type": "stream",
     "text": [
      "Epoch:  128\n",
      "t_loss:  0.4142887621533637 , v_loss:  0.6042261868715286\n",
      "t_acc:  0.7043261749144102 , v_acc:  0.6894409937888198\n",
      "t_recall:  0.518627935383813 , v_recall:  0.5054954954954954\n",
      "t_prec:  0.7225121591343789 , v_prec:  0.5959119496855345\n",
      "t_f:  0.45337963195106057 , v_f:  0.4266381766381766\n",
      "////////\n"
     ]
    },
    {
     "name": "stderr",
     "output_type": "stream",
     "text": [
      "\r",
      "Iterations:  43%|██████████████▎                  | 130/300 [02:37<03:19,  1.17s/it]"
     ]
    },
    {
     "name": "stdout",
     "output_type": "stream",
     "text": [
      "Epoch  129 , loss 0.41664162453483133\n",
      "Epoch  130 , loss 0.41429707992310616\n"
     ]
    },
    {
     "name": "stderr",
     "output_type": "stream",
     "text": [
      "\r",
      "Iterations:  44%|██████████████▍                  | 131/300 [02:39<03:28,  1.23s/it]"
     ]
    },
    {
     "name": "stdout",
     "output_type": "stream",
     "text": [
      "Epoch:  130\n",
      "t_loss:  0.41429707992310616 , v_loss:  0.600724458694458\n",
      "t_acc:  0.6996576408341114 , v_acc:  0.6894409937888198\n",
      "t_recall:  0.5121093589162927 , v_recall:  0.510990990990991\n",
      "t_prec:  0.6641366223908918 , v_prec:  0.5971337579617835\n",
      "t_f:  0.44169663418452426 , v_f:  0.4437534549474848\n",
      "////////\n"
     ]
    },
    {
     "name": "stderr",
     "output_type": "stream",
     "text": [
      "\r",
      "Iterations:  44%|██████████████▌                  | 132/300 [02:39<03:09,  1.13s/it]"
     ]
    },
    {
     "name": "stdout",
     "output_type": "stream",
     "text": [
      "Epoch  131 , loss 0.40802015101208405\n",
      "Epoch  132 , loss 0.41787373961186874\n"
     ]
    },
    {
     "name": "stderr",
     "output_type": "stream",
     "text": [
      "\r",
      "Iterations:  44%|██████████████▋                  | 133/300 [02:41<03:34,  1.28s/it]"
     ]
    },
    {
     "name": "stdout",
     "output_type": "stream",
     "text": [
      "Epoch:  132\n",
      "t_loss:  0.41787373961186874 , v_loss:  0.6022844811280569\n",
      "t_acc:  0.7037037037037037 , v_acc:  0.6832298136645962\n",
      "t_recall:  0.5173179066990571 , v_recall:  0.500990990990991\n",
      "t_prec:  0.7219056663501108 , v_prec:  0.5116033755274262\n",
      "t_f:  0.4505134904415759 , v_f:  0.4240723854948447\n",
      "////////\n"
     ]
    },
    {
     "name": "stderr",
     "output_type": "stream",
     "text": [
      "\r",
      "Iterations:  45%|██████████████▋                  | 134/300 [02:42<03:13,  1.17s/it]"
     ]
    },
    {
     "name": "stdout",
     "output_type": "stream",
     "text": [
      "Epoch  133 , loss 0.4124526025033465\n",
      "Epoch  134 , loss 0.4175136884053548\n"
     ]
    },
    {
     "name": "stderr",
     "output_type": "stream",
     "text": [
      "\r",
      "Iterations:  45%|██████████████▊                  | 135/300 [02:43<03:25,  1.24s/it]"
     ]
    },
    {
     "name": "stdout",
     "output_type": "stream",
     "text": [
      "Epoch:  134\n",
      "t_loss:  0.4175136884053548 , v_loss:  0.6015671789646149\n",
      "t_acc:  0.7021475256769374 , v_acc:  0.6956521739130435\n",
      "t_recall:  0.5159118046691646 , v_recall:  0.520990990990991\n",
      "t_prec:  0.6933410046027617 , v_prec:  0.6493589743589743\n",
      "t_f:  0.44892211657109676 , v_f:  0.4627851549199864\n",
      "////////\n"
     ]
    },
    {
     "name": "stderr",
     "output_type": "stream",
     "text": [
      "\r",
      "Iterations:  45%|██████████████▉                  | 136/300 [02:45<03:18,  1.21s/it]"
     ]
    },
    {
     "name": "stdout",
     "output_type": "stream",
     "text": [
      "Epoch  135 , loss 0.4124148032244514\n",
      "Epoch  136 , loss 0.4216781229365106\n"
     ]
    },
    {
     "name": "stderr",
     "output_type": "stream",
     "text": [
      "\r",
      "Iterations:  46%|███████████████                  | 137/300 [02:46<03:24,  1.26s/it]"
     ]
    },
    {
     "name": "stdout",
     "output_type": "stream",
     "text": [
      "Epoch:  136\n",
      "t_loss:  0.4216781229365106 , v_loss:  0.5993617872397105\n",
      "t_acc:  0.706504824151883 , v_acc:  0.7018633540372671\n",
      "t_recall:  0.5227817350846131 , v_recall:  0.530990990990991\n",
      "t_prec:  0.7295469631596416 , v_prec:  0.6849462365591398\n",
      "t_f:  0.4620100134716831 , v_f:  0.48120300751879697\n",
      "////////\n"
     ]
    },
    {
     "name": "stderr",
     "output_type": "stream",
     "text": [
      "\r",
      "Iterations:  46%|███████████████▏                 | 138/300 [02:47<03:05,  1.15s/it]"
     ]
    },
    {
     "name": "stdout",
     "output_type": "stream",
     "text": [
      "Epoch  137 , loss 0.4127790220812255\n",
      "Epoch  138 , loss 0.4121948030649447\n"
     ]
    },
    {
     "name": "stderr",
     "output_type": "stream",
     "text": [
      "\r",
      "Iterations:  46%|███████████████▎                 | 139/300 [02:48<03:16,  1.22s/it]"
     ]
    },
    {
     "name": "stdout",
     "output_type": "stream",
     "text": [
      "Epoch:  138\n",
      "t_loss:  0.4121948030649447 , v_loss:  0.5996292928854624\n",
      "t_acc:  0.7024587612822907 , v_acc:  0.7018633540372671\n",
      "t_recall:  0.516135518315697 , v_recall:  0.530990990990991\n",
      "t_prec:  0.6994971491922711 , v_prec:  0.6849462365591398\n",
      "t_f:  0.44906774991534126 , v_f:  0.48120300751879697\n",
      "////////\n"
     ]
    },
    {
     "name": "stderr",
     "output_type": "stream",
     "text": [
      "\r",
      "Iterations:  47%|███████████████▍                 | 140/300 [02:49<03:06,  1.17s/it]"
     ]
    },
    {
     "name": "stdout",
     "output_type": "stream",
     "text": [
      "Epoch  139 , loss 0.41327760909117905\n",
      "Epoch  140 , loss 0.4122065200525172\n"
     ]
    },
    {
     "name": "stderr",
     "output_type": "stream",
     "text": [
      "\r",
      "Iterations:  47%|███████████████▌                 | 141/300 [02:51<03:27,  1.31s/it]"
     ]
    },
    {
     "name": "stdout",
     "output_type": "stream",
     "text": [
      "Epoch:  140\n",
      "t_loss:  0.4122065200525172 , v_loss:  0.597441370288531\n",
      "t_acc:  0.7009025832555245 , v_acc:  0.7080745341614907\n",
      "t_recall:  0.5135792810968831 , v_recall:  0.540990990990991\n",
      "t_prec:  0.6840607210626186 , v_prec:  0.711038961038961\n",
      "t_f:  0.4440108450272827 , v_f:  0.4990400529625952\n",
      "////////\n"
     ]
    },
    {
     "name": "stderr",
     "output_type": "stream",
     "text": [
      "\r",
      "Iterations:  47%|███████████████▌                 | 142/300 [02:52<03:10,  1.20s/it]"
     ]
    },
    {
     "name": "stdout",
     "output_type": "stream",
     "text": [
      "Epoch  141 , loss 0.41108014945890387\n",
      "Epoch  142 , loss 0.41519153118133545\n"
     ]
    },
    {
     "name": "stderr",
     "output_type": "stream",
     "text": [
      "\r",
      "Iterations:  48%|███████████████▋                 | 143/300 [02:53<03:18,  1.27s/it]"
     ]
    },
    {
     "name": "stdout",
     "output_type": "stream",
     "text": [
      "Epoch:  142\n",
      "t_loss:  0.41519153118133545 , v_loss:  0.5945754448572794\n",
      "t_acc:  0.707749766573296 , v_acc:  0.7080745341614907\n",
      "t_recall:  0.5242516572652036 , v_recall:  0.540990990990991\n",
      "t_prec:  0.7443577829405907 , v_prec:  0.711038961038961\n",
      "t_f:  0.4642920494696824 , v_f:  0.4990400529625952\n",
      "////////\n"
     ]
    },
    {
     "name": "stderr",
     "output_type": "stream",
     "text": [
      "\r",
      "Iterations:  48%|███████████████▊                 | 144/300 [02:54<02:58,  1.15s/it]"
     ]
    },
    {
     "name": "stdout",
     "output_type": "stream",
     "text": [
      "Epoch  143 , loss 0.41147107470269295\n",
      "Epoch  144 , loss 0.41353794990801346\n"
     ]
    },
    {
     "name": "stderr",
     "output_type": "stream",
     "text": [
      "\r",
      "Iterations:  48%|███████████████▉                 | 145/300 [02:56<03:16,  1.27s/it]"
     ]
    },
    {
     "name": "stdout",
     "output_type": "stream",
     "text": [
      "Epoch:  144\n",
      "t_loss:  0.41353794990801346 , v_loss:  0.600599984327952\n",
      "t_acc:  0.7015250544662309 , v_acc:  0.7080745341614907\n",
      "t_recall:  0.5163269787677908 , v_recall:  0.540990990990991\n",
      "t_prec:  0.6744111035089434 , v_prec:  0.711038961038961\n",
      "t_f:  0.4511917333589338 , v_f:  0.4990400529625952\n",
      "////////\n"
     ]
    },
    {
     "name": "stderr",
     "output_type": "stream",
     "text": [
      "\r",
      "Iterations:  49%|████████████████                 | 146/300 [02:57<02:57,  1.15s/it]"
     ]
    },
    {
     "name": "stdout",
     "output_type": "stream",
     "text": [
      "Epoch  145 , loss 0.4119663998192432\n",
      "Epoch  146 , loss 0.41331489764007867\n"
     ]
    },
    {
     "name": "stderr",
     "output_type": "stream",
     "text": [
      "\r",
      "Iterations:  49%|████████████████▏                | 147/300 [02:58<03:05,  1.21s/it]"
     ]
    },
    {
     "name": "stdout",
     "output_type": "stream",
     "text": [
      "Epoch:  146\n",
      "t_loss:  0.41331489764007867 , v_loss:  0.5954990486303965\n",
      "t_acc:  0.7046374105197635 , v_acc:  0.7080745341614907\n",
      "t_recall:  0.5205768518137275 , v_recall:  0.540990990990991\n",
      "t_prec:  0.7073307334882177 , v_prec:  0.711038961038961\n",
      "t_f:  0.4585869594746843 , v_f:  0.4990400529625952\n",
      "////////\n"
     ]
    },
    {
     "name": "stderr",
     "output_type": "stream",
     "text": [
      "\r",
      "Iterations:  49%|████████████████▎                | 148/300 [02:59<03:00,  1.19s/it]"
     ]
    },
    {
     "name": "stdout",
     "output_type": "stream",
     "text": [
      "Epoch  147 , loss 0.4099220049147512\n",
      "Epoch  148 , loss 0.41095491308791965\n"
     ]
    },
    {
     "name": "stderr",
     "output_type": "stream",
     "text": [
      "\r",
      "Iterations:  50%|████████████████▍                | 149/300 [03:00<03:08,  1.25s/it]"
     ]
    },
    {
     "name": "stdout",
     "output_type": "stream",
     "text": [
      "Epoch:  148\n",
      "t_loss:  0.41095491308791965 , v_loss:  0.5959427952766418\n",
      "t_acc:  0.6981014628073452 , v_acc:  0.7080745341614907\n",
      "t_recall:  0.5127159934670126 , v_recall:  0.540990990990991\n",
      "t_prec:  0.6299682034976153 , v_prec:  0.711038961038961\n",
      "t_f:  0.4461801730081671 , v_f:  0.4990400529625952\n",
      "////////\n"
     ]
    },
    {
     "name": "stderr",
     "output_type": "stream",
     "text": [
      "\r",
      "Iterations:  50%|████████████████▌                | 150/300 [03:01<02:51,  1.14s/it]"
     ]
    },
    {
     "name": "stdout",
     "output_type": "stream",
     "text": [
      "Epoch  149 , loss 0.411965713781469\n",
      "Epoch  150 , loss 0.41811957020385593\n"
     ]
    },
    {
     "name": "stderr",
     "output_type": "stream",
     "text": [
      "\r",
      "Iterations:  50%|████████████████▌                | 151/300 [03:03<03:01,  1.22s/it]"
     ]
    },
    {
     "name": "stdout",
     "output_type": "stream",
     "text": [
      "Epoch:  150\n",
      "t_loss:  0.41811957020385593 , v_loss:  0.5963416745265325\n",
      "t_acc:  0.7037037037037037 , v_acc:  0.7080745341614907\n",
      "t_recall:  0.5178929742935178 , v_recall:  0.540990990990991\n",
      "t_prec:  0.7137329908738183 , v_prec:  0.711038961038961\n",
      "t_f:  0.45222885222885223 , v_f:  0.4990400529625952\n",
      "////////\n"
     ]
    },
    {
     "name": "stderr",
     "output_type": "stream",
     "text": [
      "\r",
      "Iterations:  51%|████████████████▋                | 152/300 [03:04<02:52,  1.16s/it]"
     ]
    },
    {
     "name": "stdout",
     "output_type": "stream",
     "text": [
      "Epoch  151 , loss 0.4115119412833569\n",
      "Epoch  152 , loss 0.41111582926675383\n"
     ]
    },
    {
     "name": "stderr",
     "output_type": "stream",
     "text": [
      "\r",
      "Iterations:  51%|████████████████▊                | 153/300 [03:05<03:11,  1.30s/it]"
     ]
    },
    {
     "name": "stdout",
     "output_type": "stream",
     "text": [
      "Epoch:  152\n",
      "t_loss:  0.41111582926675383 , v_loss:  0.5926474183797836\n",
      "t_acc:  0.7055711173358232 , v_acc:  0.7080745341614907\n",
      "t_recall:  0.5206729251588641 , v_recall:  0.540990990990991\n",
      "t_prec:  0.7313013789785117 , v_prec:  0.711038961038961\n",
      "t_f:  0.45737203290582423 , v_f:  0.4990400529625952\n",
      "////////\n"
     ]
    },
    {
     "name": "stderr",
     "output_type": "stream",
     "text": [
      "\r",
      "Iterations:  51%|████████████████▉                | 154/300 [03:06<02:58,  1.22s/it]"
     ]
    },
    {
     "name": "stdout",
     "output_type": "stream",
     "text": [
      "Epoch  153 , loss 0.4088526859002955\n",
      "Epoch  154 , loss 0.4014390899854548\n"
     ]
    },
    {
     "name": "stderr",
     "output_type": "stream",
     "text": [
      "\r",
      "Iterations:  52%|█████████████████                | 155/300 [03:08<03:09,  1.31s/it]"
     ]
    },
    {
     "name": "stdout",
     "output_type": "stream",
     "text": [
      "Epoch:  154\n",
      "t_loss:  0.4014390899854548 , v_loss:  0.5957870036363602\n",
      "t_acc:  0.7049486461251168 , v_acc:  0.7080745341614907\n",
      "t_recall:  0.5190753626768778 , v_recall:  0.540990990990991\n",
      "t_prec:  0.7358449477351916 , v_prec:  0.711038961038961\n",
      "t_f:  0.4536780616315309 , v_f:  0.4990400529625952\n",
      "////////\n"
     ]
    },
    {
     "name": "stderr",
     "output_type": "stream",
     "text": [
      "\r",
      "Iterations:  52%|█████████████████▏               | 156/300 [03:09<02:51,  1.19s/it]"
     ]
    },
    {
     "name": "stdout",
     "output_type": "stream",
     "text": [
      "Epoch  155 , loss 0.4113922212638107\n",
      "Epoch  156 , loss 0.41357624063304826\n"
     ]
    },
    {
     "name": "stderr",
     "output_type": "stream",
     "text": [
      "\r",
      "Iterations:  52%|█████████████████▎               | 157/300 [03:10<03:00,  1.26s/it]"
     ]
    },
    {
     "name": "stdout",
     "output_type": "stream",
     "text": [
      "Epoch:  156\n",
      "t_loss:  0.41357624063304826 , v_loss:  0.5923590262730917\n",
      "t_acc:  0.706504824151883 , v_acc:  0.7080745341614907\n",
      "t_recall:  0.5242194040707648 , v_recall:  0.540990990990991\n",
      "t_prec:  0.71382267171811 , v_prec:  0.711038961038961\n",
      "t_f:  0.4661072455437704 , v_f:  0.4990400529625952\n",
      "////////\n"
     ]
    },
    {
     "name": "stderr",
     "output_type": "stream",
     "text": [
      "\r",
      "Iterations:  53%|█████████████████▍               | 158/300 [03:11<02:42,  1.15s/it]"
     ]
    },
    {
     "name": "stdout",
     "output_type": "stream",
     "text": [
      "Epoch  157 , loss 0.40950677207871977\n",
      "Epoch  158 , loss 0.4078918940880719\n"
     ]
    },
    {
     "name": "stderr",
     "output_type": "stream",
     "text": [
      "\r",
      "Iterations:  53%|█████████████████▍               | 159/300 [03:13<03:03,  1.30s/it]"
     ]
    },
    {
     "name": "stdout",
     "output_type": "stream",
     "text": [
      "Epoch:  158\n",
      "t_loss:  0.4078918940880719 , v_loss:  0.5914285629987717\n",
      "t_acc:  0.7046374105197635 , v_acc:  0.7080745341614907\n",
      "t_recall:  0.5188516490303454 , v_recall:  0.540990990990991\n",
      "t_prec:  0.7290624374624775 , v_prec:  0.711038961038961\n",
      "t_f:  0.4535288282403039 , v_f:  0.4990400529625952\n",
      "////////\n"
     ]
    },
    {
     "name": "stderr",
     "output_type": "stream",
     "text": [
      "\r",
      "Iterations:  53%|█████████████████▌               | 160/300 [03:14<02:45,  1.18s/it]"
     ]
    },
    {
     "name": "stdout",
     "output_type": "stream",
     "text": [
      "Epoch  159 , loss 0.4100356680505416\n",
      "Epoch  160 , loss 0.4150134459430096\n"
     ]
    },
    {
     "name": "stderr",
     "output_type": "stream",
     "text": [
      "\r",
      "Iterations:  54%|█████████████████▋               | 161/300 [03:15<02:55,  1.26s/it]"
     ]
    },
    {
     "name": "stdout",
     "output_type": "stream",
     "text": [
      "Epoch:  160\n",
      "t_loss:  0.4150134459430096 , v_loss:  0.5874634782473246\n",
      "t_acc:  0.7024587612822907 , v_acc:  0.7142857142857143\n",
      "t_recall:  0.5201609914769219 , v_recall:  0.5509909909909909\n",
      "t_prec:  0.6676653883029722 , v_prec:  0.7312091503267975\n",
      "t_f:  0.4607932355060099 , v_f:  0.5163270637408569\n",
      "////////\n"
     ]
    },
    {
     "name": "stderr",
     "output_type": "stream",
     "text": [
      "\r",
      "Iterations:  54%|█████████████████▊               | 162/300 [03:16<02:47,  1.22s/it]"
     ]
    },
    {
     "name": "stdout",
     "output_type": "stream",
     "text": [
      "Epoch  161 , loss 0.4074163021994572\n",
      "Epoch  162 , loss 0.41175365331126196\n"
     ]
    },
    {
     "name": "stderr",
     "output_type": "stream",
     "text": [
      "\r",
      "Iterations:  54%|█████████████████▉               | 163/300 [03:18<02:53,  1.27s/it]"
     ]
    },
    {
     "name": "stdout",
     "output_type": "stream",
     "text": [
      "Epoch:  162\n",
      "t_loss:  0.41175365331126196 , v_loss:  0.5907995601495107\n",
      "t_acc:  0.7052598817304699 , v_acc:  0.7080745341614907\n",
      "t_recall:  0.5201616777151014 , v_recall:  0.540990990990991\n",
      "t_prec:  0.7292065407339602 , v_prec:  0.711038961038961\n",
      "t_f:  0.4563765511846953 , v_f:  0.4990400529625952\n",
      "////////\n"
     ]
    },
    {
     "name": "stderr",
     "output_type": "stream",
     "text": [
      "\r",
      "Iterations:  55%|██████████████████               | 164/300 [03:19<02:37,  1.16s/it]"
     ]
    },
    {
     "name": "stdout",
     "output_type": "stream",
     "text": [
      "Epoch  163 , loss 0.4107373441551246\n",
      "Epoch  164 , loss 0.4047698831441356\n"
     ]
    },
    {
     "name": "stderr",
     "output_type": "stream",
     "text": [
      "\r",
      "Iterations:  55%|██████████████████▏              | 165/300 [03:20<02:45,  1.23s/it]"
     ]
    },
    {
     "name": "stdout",
     "output_type": "stream",
     "text": [
      "Epoch:  164\n",
      "t_loss:  0.4047698831441356 , v_loss:  0.5891457398732504\n",
      "t_acc:  0.707749766573296 , v_acc:  0.7204968944099379\n",
      "t_recall:  0.5256893262513553 , v_recall:  0.5609909909909909\n",
      "t_prec:  0.7267999806127972 , v_prec:  0.7474415204678362\n",
      "t_f:  0.4683719019783674 , v_f:  0.5330927369981311\n",
      "////////\n"
     ]
    },
    {
     "name": "stderr",
     "output_type": "stream",
     "text": [
      "\r",
      "Iterations:  55%|██████████████████▎              | 166/300 [03:21<02:36,  1.17s/it]"
     ]
    },
    {
     "name": "stdout",
     "output_type": "stream",
     "text": [
      "Epoch  165 , loss 0.4089143159342747\n",
      "Epoch  166 , loss 0.4052268862724304\n"
     ]
    },
    {
     "name": "stderr",
     "output_type": "stream",
     "text": [
      "\r",
      "Iterations:  56%|██████████████████▎              | 167/300 [03:23<02:53,  1.30s/it]"
     ]
    },
    {
     "name": "stdout",
     "output_type": "stream",
     "text": [
      "Epoch:  166\n",
      "t_loss:  0.4052268862724304 , v_loss:  0.5878102233012518\n",
      "t_acc:  0.7080610021786492 , v_acc:  0.7204968944099379\n",
      "t_recall:  0.5270631750868091 , v_recall:  0.5609909909909909\n",
      "t_prec:  0.7199727058403551 , v_prec:  0.7474415204678362\n",
      "t_f:  0.4717431633915075 , v_f:  0.5330927369981311\n",
      "////////\n"
     ]
    },
    {
     "name": "stderr",
     "output_type": "stream",
     "text": [
      "\r",
      "Iterations:  56%|██████████████████▍              | 168/300 [03:24<02:42,  1.23s/it]"
     ]
    },
    {
     "name": "stdout",
     "output_type": "stream",
     "text": [
      "Epoch  167 , loss 0.4032200551500507\n",
      "Epoch  168 , loss 0.4091688160802804\n"
     ]
    },
    {
     "name": "stderr",
     "output_type": "stream",
     "text": [
      "\r",
      "Iterations:  56%|██████████████████▌              | 169/300 [03:25<02:54,  1.33s/it]"
     ]
    },
    {
     "name": "stdout",
     "output_type": "stream",
     "text": [
      "Epoch:  168\n",
      "t_loss:  0.4091688160802804 , v_loss:  0.5874950836102167\n",
      "t_acc:  0.708994708994709 , v_acc:  0.7204968944099379\n",
      "t_recall:  0.5288844512153278 , v_recall:  0.5609909909909909\n",
      "t_prec:  0.7222318040703691 , v_prec:  0.7474415204678362\n",
      "t_f:  0.4754064037279847 , v_f:  0.5330927369981311\n",
      "////////\n"
     ]
    },
    {
     "name": "stderr",
     "output_type": "stream",
     "text": [
      "\r",
      "Iterations:  57%|██████████████████▋              | 170/300 [03:26<02:34,  1.19s/it]"
     ]
    },
    {
     "name": "stdout",
     "output_type": "stream",
     "text": [
      "Epoch  169 , loss 0.4126596877387926\n",
      "Epoch  170 , loss 0.4073978078131582\n"
     ]
    },
    {
     "name": "stderr",
     "output_type": "stream",
     "text": [
      "\r",
      "Iterations:  57%|██████████████████▊              | 171/300 [03:27<02:40,  1.24s/it]"
     ]
    },
    {
     "name": "stdout",
     "output_type": "stream",
     "text": [
      "Epoch:  170\n",
      "t_loss:  0.4073978078131582 , v_loss:  0.5829999844233195\n",
      "t_acc:  0.7049486461251168 , v_acc:  0.7204968944099379\n",
      "t_recall:  0.5231008358381026 , v_recall:  0.5609909909909909\n",
      "t_prec:  0.6921140939597316 , v_prec:  0.7474415204678362\n",
      "t_f:  0.4653054260038676 , v_f:  0.5330927369981311\n",
      "////////\n"
     ]
    },
    {
     "name": "stderr",
     "output_type": "stream",
     "text": [
      "\r",
      "Iterations:  57%|██████████████████▉              | 172/300 [03:28<02:24,  1.13s/it]"
     ]
    },
    {
     "name": "stdout",
     "output_type": "stream",
     "text": [
      "Epoch  171 , loss 0.40983230868975323\n",
      "Epoch  172 , loss 0.4015068408905291\n"
     ]
    },
    {
     "name": "stderr",
     "output_type": "stream",
     "text": [
      "\r",
      "Iterations:  58%|███████████████████              | 173/300 [03:30<02:42,  1.28s/it]"
     ]
    },
    {
     "name": "stdout",
     "output_type": "stream",
     "text": [
      "Epoch:  172\n",
      "t_loss:  0.4015068408905291 , v_loss:  0.5822568982839584\n",
      "t_acc:  0.712729536258948 , v_acc:  0.7204968944099379\n",
      "t_recall:  0.5327191501626385 , v_recall:  0.5609909909909909\n",
      "t_prec:  0.76297240055596 , v_prec:  0.7474415204678362\n",
      "t_f:  0.480581980973699 , v_f:  0.5330927369981311\n",
      "////////\n"
     ]
    },
    {
     "name": "stderr",
     "output_type": "stream",
     "text": [
      "\r",
      "Iterations:  58%|███████████████████▏             | 174/300 [03:31<02:26,  1.16s/it]"
     ]
    },
    {
     "name": "stdout",
     "output_type": "stream",
     "text": [
      "Epoch  173 , loss 0.40659885955791847\n",
      "Epoch  174 , loss 0.39934403113290373\n"
     ]
    },
    {
     "name": "stderr",
     "output_type": "stream",
     "text": [
      "\r",
      "Iterations:  58%|███████████████████▎             | 175/300 [03:32<02:35,  1.24s/it]"
     ]
    },
    {
     "name": "stdout",
     "output_type": "stream",
     "text": [
      "Epoch:  174\n",
      "t_loss:  0.39934403113290373 , v_loss:  0.5811346272627512\n",
      "t_acc:  0.7124183006535948 , v_acc:  0.7204968944099379\n",
      "t_recall:  0.5322079027188756 , v_recall:  0.5609909909909909\n",
      "t_prec:  0.7617896639174184 , v_prec:  0.7474415204678362\n",
      "t_f:  0.47962759378864916 , v_f:  0.5330927369981311\n",
      "////////\n"
     ]
    },
    {
     "name": "stderr",
     "output_type": "stream",
     "text": [
      "\r",
      "Iterations:  59%|███████████████████▎             | 176/300 [03:33<02:28,  1.20s/it]"
     ]
    },
    {
     "name": "stdout",
     "output_type": "stream",
     "text": [
      "Epoch  175 , loss 0.40554872330497294\n",
      "Epoch  176 , loss 0.40866935019399603\n"
     ]
    },
    {
     "name": "stderr",
     "output_type": "stream",
     "text": [
      "\r",
      "Iterations:  59%|███████████████████▍             | 177/300 [03:35<02:34,  1.26s/it]"
     ]
    },
    {
     "name": "stdout",
     "output_type": "stream",
     "text": [
      "Epoch:  176\n",
      "t_loss:  0.40866935019399603 , v_loss:  0.5832031865914663\n",
      "t_acc:  0.7096171802054155 , v_acc:  0.7204968944099379\n",
      "t_recall:  0.5284692771167017 , v_recall:  0.5609909909909909\n",
      "t_prec:  0.739535778898341 , v_prec:  0.7474415204678362\n",
      "t_f:  0.4733679826923026 , v_f:  0.5330927369981311\n",
      "////////\n"
     ]
    },
    {
     "name": "stderr",
     "output_type": "stream",
     "text": [
      "\r",
      "Iterations:  59%|███████████████████▌             | 178/300 [03:36<02:19,  1.14s/it]"
     ]
    },
    {
     "name": "stdout",
     "output_type": "stream",
     "text": [
      "Epoch  177 , loss 0.4029473747108497\n",
      "Epoch  178 , loss 0.4003108786601646\n"
     ]
    },
    {
     "name": "stderr",
     "output_type": "stream",
     "text": [
      "\r",
      "Iterations:  60%|███████████████████▋             | 179/300 [03:37<02:28,  1.23s/it]"
     ]
    },
    {
     "name": "stdout",
     "output_type": "stream",
     "text": [
      "Epoch:  178\n",
      "t_loss:  0.4003108786601646 , v_loss:  0.5782436380783716\n",
      "t_acc:  0.7080610021786492 , v_acc:  0.7267080745341615\n",
      "t_recall:  0.5279257764785001 , v_recall:  0.5709909909909909\n",
      "t_prec:  0.7125886351921764 , v_prec:  0.7609271523178809\n",
      "t_f:  0.4741168957165691 , v_f:  0.5493638676844783\n",
      "////////\n"
     ]
    },
    {
     "name": "stderr",
     "output_type": "stream",
     "text": [
      "\r",
      "Iterations:  60%|███████████████████▊             | 180/300 [03:38<02:19,  1.16s/it]"
     ]
    },
    {
     "name": "stdout",
     "output_type": "stream",
     "text": [
      "Epoch  179 , loss 0.4036949341203652\n",
      "Epoch  180 , loss 0.40302936119191785\n"
     ]
    },
    {
     "name": "stderr",
     "output_type": "stream",
     "text": [
      "\r",
      "Iterations:  60%|███████████████████▉             | 181/300 [03:40<02:32,  1.28s/it]"
     ]
    },
    {
     "name": "stdout",
     "output_type": "stream",
     "text": [
      "Epoch:  180\n",
      "t_loss:  0.40302936119191785 , v_loss:  0.5706047117710114\n",
      "t_acc:  0.7080610021786492 , v_acc:  0.7391304347826086\n",
      "t_recall:  0.5273507088840395 , v_recall:  0.590990990990991\n",
      "t_prec:  0.7173963636363636 , v_prec:  0.7824384787472036\n",
      "t_f:  0.47253752345215766 , v_f:  0.5805210918114144\n",
      "////////\n"
     ]
    },
    {
     "name": "stderr",
     "output_type": "stream",
     "text": [
      "\r",
      "Iterations:  61%|████████████████████             | 182/300 [03:41<02:23,  1.22s/it]"
     ]
    },
    {
     "name": "stdout",
     "output_type": "stream",
     "text": [
      "Epoch  181 , loss 0.400338032374195\n",
      "Epoch  182 , loss 0.40709760434487285\n"
     ]
    },
    {
     "name": "stderr",
     "output_type": "stream",
     "text": [
      "\r",
      "Iterations:  61%|████████████████████▏            | 183/300 [03:42<02:32,  1.30s/it]"
     ]
    },
    {
     "name": "stdout",
     "output_type": "stream",
     "text": [
      "Epoch:  182\n",
      "t_loss:  0.40709760434487285 , v_loss:  0.5722452700138092\n",
      "t_acc:  0.7121070650482415 , v_acc:  0.7391304347826086\n",
      "t_recall:  0.536009662233568 , v_recall:  0.590990990990991\n",
      "t_prec:  0.7209307547646449 , v_prec:  0.7824384787472036\n",
      "t_f:  0.49012852873295426 , v_f:  0.5805210918114144\n",
      "////////\n"
     ]
    },
    {
     "name": "stderr",
     "output_type": "stream",
     "text": [
      "\r",
      "Iterations:  61%|████████████████████▏            | 184/300 [03:43<02:18,  1.19s/it]"
     ]
    },
    {
     "name": "stdout",
     "output_type": "stream",
     "text": [
      "Epoch  183 , loss 0.402516702226564\n",
      "Epoch  184 , loss 0.4040626053716622\n"
     ]
    },
    {
     "name": "stderr",
     "output_type": "stream",
     "text": [
      "\r",
      "Iterations:  62%|████████████████████▎            | 185/300 [03:45<02:25,  1.26s/it]"
     ]
    },
    {
     "name": "stdout",
     "output_type": "stream",
     "text": [
      "Epoch:  184\n",
      "t_loss:  0.4040626053716622 , v_loss:  0.5729885300000509\n",
      "t_acc:  0.7099284158107687 , v_acc:  0.7391304347826086\n",
      "t_recall:  0.5301306597493858 , v_recall:  0.590990990990991\n",
      "t_prec:  0.7293735982057032 , v_prec:  0.7824384787472036\n",
      "t_f:  0.4774807535264844 , v_f:  0.5805210918114144\n",
      "////////\n"
     ]
    },
    {
     "name": "stderr",
     "output_type": "stream",
     "text": [
      "\r",
      "Iterations:  62%|████████████████████▍            | 186/300 [03:45<02:10,  1.14s/it]"
     ]
    },
    {
     "name": "stdout",
     "output_type": "stream",
     "text": [
      "Epoch  185 , loss 0.4018141031265259\n",
      "Epoch  186 , loss 0.40130603313446045\n"
     ]
    },
    {
     "name": "stderr",
     "output_type": "stream",
     "text": [
      "\r",
      "Iterations:  62%|████████████████████▌            | 187/300 [03:47<02:25,  1.29s/it]"
     ]
    },
    {
     "name": "stdout",
     "output_type": "stream",
     "text": [
      "Epoch:  186\n",
      "t_loss:  0.40130603313446045 , v_loss:  0.5769325246413549\n",
      "t_acc:  0.710239651416122 , v_acc:  0.7391304347826086\n",
      "t_recall:  0.5315045085848397 , v_recall:  0.590990990990991\n",
      "t_prec:  0.7233753722193028 , v_prec:  0.7824384787472036\n",
      "t_f:  0.48075526053082573 , v_f:  0.5805210918114144\n",
      "////////\n"
     ]
    },
    {
     "name": "stderr",
     "output_type": "stream",
     "text": [
      "\r",
      "Iterations:  63%|████████████████████▋            | 188/300 [03:48<02:10,  1.17s/it]"
     ]
    },
    {
     "name": "stdout",
     "output_type": "stream",
     "text": [
      "Epoch  187 , loss 0.4028800550629111\n",
      "Epoch  188 , loss 0.40433337291081745\n"
     ]
    },
    {
     "name": "stderr",
     "output_type": "stream",
     "text": [
      "\r",
      "Iterations:  63%|████████████████████▊            | 189/300 [03:49<02:18,  1.25s/it]"
     ]
    },
    {
     "name": "stdout",
     "output_type": "stream",
     "text": [
      "Epoch:  188\n",
      "t_loss:  0.40433337291081745 , v_loss:  0.5742855916420618\n",
      "t_acc:  0.7121070650482415 , v_acc:  0.7391304347826086\n",
      "t_recall:  0.536009662233568 , v_recall:  0.590990990990991\n",
      "t_prec:  0.7209307547646449 , v_prec:  0.7824384787472036\n",
      "t_f:  0.49012852873295426 , v_f:  0.5805210918114144\n",
      "////////\n"
     ]
    },
    {
     "name": "stderr",
     "output_type": "stream",
     "text": [
      "\r",
      "Iterations:  63%|████████████████████▉            | 190/300 [03:51<02:14,  1.22s/it]"
     ]
    },
    {
     "name": "stdout",
     "output_type": "stream",
     "text": [
      "Epoch  189 , loss 0.40164956859513823\n",
      "Epoch  190 , loss 0.39824240844623715\n"
     ]
    },
    {
     "name": "stderr",
     "output_type": "stream",
     "text": [
      "\r",
      "Iterations:  64%|█████████████████████            | 191/300 [03:52<02:18,  1.27s/it]"
     ]
    },
    {
     "name": "stdout",
     "output_type": "stream",
     "text": [
      "Epoch:  190\n",
      "t_loss:  0.39824240844623715 , v_loss:  0.5770066678524017\n",
      "t_acc:  0.712729536258948 , v_acc:  0.7391304347826086\n",
      "t_recall:  0.5358820219321723 , v_recall:  0.590990990990991\n",
      "t_prec:  0.7318168920836092 , v_prec:  0.7824384787472036\n",
      "t_f:  0.488997574391836 , v_f:  0.5805210918114144\n",
      "////////\n"
     ]
    },
    {
     "name": "stderr",
     "output_type": "stream",
     "text": [
      "\r",
      "Iterations:  64%|█████████████████████            | 192/300 [03:53<02:05,  1.17s/it]"
     ]
    },
    {
     "name": "stdout",
     "output_type": "stream",
     "text": [
      "Epoch  191 , loss 0.40052079423969866\n",
      "Epoch  192 , loss 0.40499770290711345\n"
     ]
    },
    {
     "name": "stderr",
     "output_type": "stream",
     "text": [
      "\r",
      "Iterations:  64%|█████████████████████▏           | 193/300 [03:54<02:13,  1.24s/it]"
     ]
    },
    {
     "name": "stdout",
     "output_type": "stream",
     "text": [
      "Epoch:  192\n",
      "t_loss:  0.40499770290711345 , v_loss:  0.5732718706130981\n",
      "t_acc:  0.7136632430750078 , v_acc:  0.7391304347826086\n",
      "t_recall:  0.5365531628717695 , v_recall:  0.590990990990991\n",
      "t_prec:  0.7426019153342118 , v_prec:  0.7824384787472036\n",
      "t_f:  0.48953568532315794 , v_f:  0.5805210918114144\n",
      "////////\n"
     ]
    },
    {
     "name": "stderr",
     "output_type": "stream",
     "text": [
      "\r",
      "Iterations:  65%|█████████████████████▎           | 194/300 [03:55<02:03,  1.16s/it]"
     ]
    },
    {
     "name": "stdout",
     "output_type": "stream",
     "text": [
      "Epoch  193 , loss 0.4071551964563482\n",
      "Epoch  194 , loss 0.39701487679107517\n"
     ]
    },
    {
     "name": "stderr",
     "output_type": "stream",
     "text": [
      "\r",
      "Iterations:  65%|█████████████████████▍           | 195/300 [03:57<02:15,  1.29s/it]"
     ]
    },
    {
     "name": "stdout",
     "output_type": "stream",
     "text": [
      "Epoch:  194\n",
      "t_loss:  0.39701487679107517 , v_loss:  0.5674254894256592\n",
      "t_acc:  0.7136632430750078 , v_acc:  0.7515527950310559\n",
      "t_recall:  0.5368406966689999 , v_recall:  0.610990990990991\n",
      "t_prec:  0.7401368760064413 , v_prec:  0.7993197278911565\n",
      "t_f:  0.49028493388788874 , v_f:  0.6099806201550388\n",
      "////////\n"
     ]
    },
    {
     "name": "stderr",
     "output_type": "stream",
     "text": [
      "\r",
      "Iterations:  65%|█████████████████████▌           | 196/300 [03:58<02:05,  1.21s/it]"
     ]
    },
    {
     "name": "stdout",
     "output_type": "stream",
     "text": [
      "Epoch  195 , loss 0.4020697649787454\n",
      "Epoch  196 , loss 0.4020484907954347\n"
     ]
    },
    {
     "name": "stderr",
     "output_type": "stream",
     "text": [
      "\r",
      "Iterations:  66%|█████████████████████▋           | 197/300 [03:59<02:13,  1.30s/it]"
     ]
    },
    {
     "name": "stdout",
     "output_type": "stream",
     "text": [
      "Epoch:  196\n",
      "t_loss:  0.4020484907954347 , v_loss:  0.5671833902597427\n",
      "t_acc:  0.7117958294428882 , v_acc:  0.7577639751552795\n",
      "t_recall:  0.5383737527621086 , v_recall:  0.620990990990991\n",
      "t_prec:  0.7032994333302633 , v_prec:  0.8066210045662101\n",
      "t_f:  0.49650475329183397 , v_f:  0.624124513618677\n",
      "////////\n"
     ]
    },
    {
     "name": "stderr",
     "output_type": "stream",
     "text": [
      "\r",
      "Iterations:  66%|█████████████████████▊           | 198/300 [04:00<01:58,  1.16s/it]"
     ]
    },
    {
     "name": "stdout",
     "output_type": "stream",
     "text": [
      "Epoch  197 , loss 0.40065120189797643\n",
      "Epoch  198 , loss 0.3987606661576851\n"
     ]
    },
    {
     "name": "stderr",
     "output_type": "stream",
     "text": [
      "\r",
      "Iterations:  66%|█████████████████████▉           | 199/300 [04:02<02:04,  1.23s/it]"
     ]
    },
    {
     "name": "stdout",
     "output_type": "stream",
     "text": [
      "Epoch:  198\n",
      "t_loss:  0.3987606661576851 , v_loss:  0.5743731558322906\n",
      "t_acc:  0.7121070650482415 , v_acc:  0.7391304347826086\n",
      "t_recall:  0.5377348650169501 , v_recall:  0.590990990990991\n",
      "t_prec:  0.7104551415842948 , v_prec:  0.7824384787472036\n",
      "t_f:  0.4945282118745753 , v_f:  0.5805210918114144\n",
      "////////\n"
     ]
    },
    {
     "name": "stderr",
     "output_type": "stream",
     "text": [
      "\r",
      "Iterations:  67%|██████████████████████           | 200/300 [04:02<01:53,  1.13s/it]"
     ]
    },
    {
     "name": "stdout",
     "output_type": "stream",
     "text": [
      "Epoch  199 , loss 0.3995767720774108\n",
      "Epoch  200 , loss 0.40365853496626314\n"
     ]
    },
    {
     "name": "stderr",
     "output_type": "stream",
     "text": [
      "\r",
      "Iterations:  67%|██████████████████████           | 201/300 [04:04<02:05,  1.27s/it]"
     ]
    },
    {
     "name": "stdout",
     "output_type": "stream",
     "text": [
      "Epoch:  200\n",
      "t_loss:  0.40365853496626314 , v_loss:  0.570362056295077\n",
      "t_acc:  0.7133520074696545 , v_acc:  0.7577639751552795\n",
      "t_recall:  0.5409299899809226 , v_recall:  0.620990990990991\n",
      "t_prec:  0.7093820064312896 , v_prec:  0.8066210045662101\n",
      "t_f:  0.5009955055122525 , v_f:  0.624124513618677\n",
      "////////\n"
     ]
    },
    {
     "name": "stderr",
     "output_type": "stream",
     "text": [
      "\r",
      "Iterations:  67%|██████████████████████▏          | 202/300 [04:05<01:55,  1.18s/it]"
     ]
    },
    {
     "name": "stdout",
     "output_type": "stream",
     "text": [
      "Epoch  201 , loss 0.399276710024067\n",
      "Epoch  202 , loss 0.40467171283329234\n"
     ]
    },
    {
     "name": "stderr",
     "output_type": "stream",
     "text": [
      "\r",
      "Iterations:  68%|██████████████████████▎          | 203/300 [04:06<02:00,  1.25s/it]"
     ]
    },
    {
     "name": "stdout",
     "output_type": "stream",
     "text": [
      "Epoch:  202\n",
      "t_loss:  0.40467171283329234 , v_loss:  0.5707344313462576\n",
      "t_acc:  0.7239340180516651 , v_acc:  0.7577639751552795\n",
      "t_recall:  0.5537118623131717 , v_recall:  0.620990990990991\n",
      "t_prec:  0.7710480385638298 , v_prec:  0.8066210045662101\n",
      "t_f:  0.5200951143994653 , v_f:  0.624124513618677\n",
      "////////\n"
     ]
    },
    {
     "name": "stderr",
     "output_type": "stream",
     "text": [
      "\r",
      "Iterations:  68%|██████████████████████▍          | 204/300 [04:07<01:51,  1.16s/it]"
     ]
    },
    {
     "name": "stdout",
     "output_type": "stream",
     "text": [
      "Epoch  203 , loss 0.3973986307779948\n",
      "Epoch  204 , loss 0.398617718149634\n"
     ]
    },
    {
     "name": "stderr",
     "output_type": "stream",
     "text": [
      "\r",
      "Iterations:  68%|██████████████████████▌          | 205/300 [04:09<01:56,  1.23s/it]"
     ]
    },
    {
     "name": "stdout",
     "output_type": "stream",
     "text": [
      "Epoch:  204\n",
      "t_loss:  0.398617718149634 , v_loss:  0.5690021167198817\n",
      "t_acc:  0.712729536258948 , v_acc:  0.7577639751552795\n",
      "t_recall:  0.5378947585127847 , v_recall:  0.620990990990991\n",
      "t_prec:  0.7179374852000948 , v_prec:  0.8066210045662101\n",
      "t_f:  0.49416893732970035 , v_f:  0.624124513618677\n",
      "////////\n"
     ]
    },
    {
     "name": "stderr",
     "output_type": "stream",
     "text": [
      "\r",
      "Iterations:  69%|██████████████████████▋          | 206/300 [04:10<01:46,  1.14s/it]"
     ]
    },
    {
     "name": "stdout",
     "output_type": "stream",
     "text": [
      "Epoch  205 , loss 0.40034668819577085\n",
      "Epoch  206 , loss 0.40102610108899134\n"
     ]
    },
    {
     "name": "stderr",
     "output_type": "stream",
     "text": [
      "\r",
      "Iterations:  69%|██████████████████████▊          | 207/300 [04:11<01:55,  1.24s/it]"
     ]
    },
    {
     "name": "stdout",
     "output_type": "stream",
     "text": [
      "Epoch:  206\n",
      "t_loss:  0.40102610108899134 , v_loss:  0.5672792891661326\n",
      "t_acc:  0.7167755991285403 , v_acc:  0.7639751552795031\n",
      "t_recall:  0.5445409752817008 , v_recall:  0.630990990990991\n",
      "t_prec:  0.7326535586610334 , v_prec:  0.8133620689655172\n",
      "t_f:  0.5059068184767797 , v_f:  0.637902462121212\n",
      "////////\n"
     ]
    },
    {
     "name": "stderr",
     "output_type": "stream",
     "text": [
      "\r",
      "Iterations:  69%|██████████████████████▉          | 208/300 [04:12<01:45,  1.15s/it]"
     ]
    },
    {
     "name": "stdout",
     "output_type": "stream",
     "text": [
      "Epoch  207 , loss 0.3961675564448039\n",
      "Epoch  208 , loss 0.39435330033302307\n"
     ]
    },
    {
     "name": "stderr",
     "output_type": "stream",
     "text": [
      "\r",
      "Iterations:  70%|██████████████████████▉          | 209/300 [04:14<01:53,  1.25s/it]"
     ]
    },
    {
     "name": "stdout",
     "output_type": "stream",
     "text": [
      "Epoch:  208\n",
      "t_loss:  0.39435330033302307 , v_loss:  0.5632969389359156\n",
      "t_acc:  0.7145969498910676 , v_acc:  0.7639751552795031\n",
      "t_recall:  0.5392370403919793 , v_recall:  0.630990990990991\n",
      "t_prec:  0.7367695289206917 , v_prec:  0.8133620689655172\n",
      "t_f:  0.49527216102250216 , v_f:  0.637902462121212\n",
      "////////\n"
     ]
    },
    {
     "name": "stderr",
     "output_type": "stream",
     "text": [
      "\r",
      "Iterations:  70%|███████████████████████          | 210/300 [04:15<01:47,  1.19s/it]"
     ]
    },
    {
     "name": "stdout",
     "output_type": "stream",
     "text": [
      "Epoch  209 , loss 0.39219313801503647\n",
      "Epoch  210 , loss 0.3980843331299576\n"
     ]
    },
    {
     "name": "stderr",
     "output_type": "stream",
     "text": [
      "\r",
      "Iterations:  70%|███████████████████████▏         | 211/300 [04:16<01:54,  1.29s/it]"
     ]
    },
    {
     "name": "stdout",
     "output_type": "stream",
     "text": [
      "Epoch:  210\n",
      "t_loss:  0.3980843331299576 , v_loss:  0.5675970017910004\n",
      "t_acc:  0.715219421101774 , v_acc:  0.7639751552795031\n",
      "t_recall:  0.5445725422379599 , v_recall:  0.630990990990991\n",
      "t_prec:  0.7134070478560288 , v_prec:  0.8133620689655172\n",
      "t_f:  0.5077179685842519 , v_f:  0.637902462121212\n",
      "////////\n"
     ]
    },
    {
     "name": "stderr",
     "output_type": "stream",
     "text": [
      "\r",
      "Iterations:  71%|███████████████████████▎         | 212/300 [04:17<01:45,  1.20s/it]"
     ]
    },
    {
     "name": "stdout",
     "output_type": "stream",
     "text": [
      "Epoch  211 , loss 0.3973338346855313\n",
      "Epoch  212 , loss 0.39881016723081175\n"
     ]
    },
    {
     "name": "stderr",
     "output_type": "stream",
     "text": [
      "\r",
      "Iterations:  71%|███████████████████████▍         | 213/300 [04:19<01:50,  1.27s/it]"
     ]
    },
    {
     "name": "stdout",
     "output_type": "stream",
     "text": [
      "Epoch:  212\n",
      "t_loss:  0.39881016723081175 , v_loss:  0.5645330548286438\n",
      "t_acc:  0.7158418923124805 , v_acc:  0.7639751552795031\n",
      "t_recall:  0.5427196991531821 , v_recall:  0.630990990990991\n",
      "t_prec:  0.7312813628505332 , v_prec:  0.8133620689655172\n",
      "t_f:  0.5025112129069306 , v_f:  0.637902462121212\n",
      "////////\n"
     ]
    },
    {
     "name": "stderr",
     "output_type": "stream",
     "text": [
      "\r",
      "Iterations:  71%|███████████████████████▌         | 214/300 [04:20<01:39,  1.16s/it]"
     ]
    },
    {
     "name": "stdout",
     "output_type": "stream",
     "text": [
      "Epoch  213 , loss 0.38931721565770167\n",
      "Epoch  214 , loss 0.3913336039758196\n"
     ]
    },
    {
     "name": "stderr",
     "output_type": "stream",
     "text": [
      "\r",
      "Iterations:  72%|███████████████████████▋         | 215/300 [04:21<01:45,  1.24s/it]"
     ]
    },
    {
     "name": "stdout",
     "output_type": "stream",
     "text": [
      "Epoch:  214\n",
      "t_loss:  0.3913336039758196 , v_loss:  0.5678777545690536\n",
      "t_acc:  0.7173980703392469 , v_acc:  0.7639751552795031\n",
      "t_recall:  0.546138537763687 , v_recall:  0.630990990990991\n",
      "t_prec:  0.7312661380199137 , v_prec:  0.8133620689655172\n",
      "t_f:  0.5090793441387109 , v_f:  0.637902462121212\n",
      "////////\n"
     ]
    },
    {
     "name": "stderr",
     "output_type": "stream",
     "text": [
      "\r",
      "Iterations:  72%|███████████████████████▊         | 216/300 [04:22<01:37,  1.16s/it]"
     ]
    },
    {
     "name": "stdout",
     "output_type": "stream",
     "text": [
      "Epoch  215 , loss 0.39583472469273734\n",
      "Epoch  216 , loss 0.3959570766664019\n"
     ]
    },
    {
     "name": "stderr",
     "output_type": "stream",
     "text": [
      "\r",
      "Iterations:  72%|███████████████████████▊         | 217/300 [04:24<01:47,  1.30s/it]"
     ]
    },
    {
     "name": "stdout",
     "output_type": "stream",
     "text": [
      "Epoch:  216\n",
      "t_loss:  0.3959570766664019 , v_loss:  0.566342701514562\n",
      "t_acc:  0.7239340180516651 , v_acc:  0.7639751552795031\n",
      "t_recall:  0.5554370650965537 , v_recall:  0.630990990990991\n",
      "t_prec:  0.7588235294117647 , v_prec:  0.8133620689655172\n",
      "t_f:  0.5241108798400974 , v_f:  0.637902462121212\n",
      "////////\n"
     ]
    },
    {
     "name": "stderr",
     "output_type": "stream",
     "text": [
      "\r",
      "Iterations:  73%|███████████████████████▉         | 218/300 [04:24<01:38,  1.20s/it]"
     ]
    },
    {
     "name": "stdout",
     "output_type": "stream",
     "text": [
      "Epoch  217 , loss 0.39846254037875756\n",
      "Epoch  218 , loss 0.3951308668828478\n"
     ]
    },
    {
     "name": "stderr",
     "output_type": "stream",
     "text": [
      "\r",
      "Iterations:  73%|████████████████████████         | 219/300 [04:26<01:42,  1.27s/it]"
     ]
    },
    {
     "name": "stdout",
     "output_type": "stream",
     "text": [
      "Epoch:  218\n",
      "t_loss:  0.3951308668828478 , v_loss:  0.5632661432027817\n",
      "t_acc:  0.7189542483660131 , v_acc:  0.7639751552795031\n",
      "t_recall:  0.5469695721991189 , v_recall:  0.630990990990991\n",
      "t_prec:  0.7470760233918129 , v_prec:  0.8133620689655172\n",
      "t_f:  0.5093593854873593 , v_f:  0.637902462121212\n",
      "////////\n"
     ]
    },
    {
     "name": "stderr",
     "output_type": "stream",
     "text": [
      "\r",
      "Iterations:  73%|████████████████████████▏        | 220/300 [04:27<01:34,  1.19s/it]"
     ]
    },
    {
     "name": "stdout",
     "output_type": "stream",
     "text": [
      "Epoch  219 , loss 0.39072492251209184\n",
      "Epoch  220 , loss 0.39279541899176207\n"
     ]
    },
    {
     "name": "stderr",
     "output_type": "stream",
     "text": [
      "\r",
      "Iterations:  74%|████████████████████████▎        | 221/300 [04:28<01:38,  1.25s/it]"
     ]
    },
    {
     "name": "stdout",
     "output_type": "stream",
     "text": [
      "Epoch:  220\n",
      "t_loss:  0.39279541899176207 , v_loss:  0.5598165094852448\n",
      "t_acc:  0.721444133208839 , v_acc:  0.7639751552795031\n",
      "t_recall:  0.5513470855464515 , v_recall:  0.630990990990991\n",
      "t_prec:  0.7522951040776873 , v_prec:  0.8133620689655172\n",
      "t_f:  0.5171276058226757 , v_f:  0.637902462121212\n",
      "////////\n"
     ]
    },
    {
     "name": "stderr",
     "output_type": "stream",
     "text": [
      "\r",
      "Iterations:  74%|████████████████████████▍        | 222/300 [04:29<01:29,  1.15s/it]"
     ]
    },
    {
     "name": "stdout",
     "output_type": "stream",
     "text": [
      "Epoch  221 , loss 0.39342482241929744\n",
      "Epoch  222 , loss 0.39681773793463615\n"
     ]
    },
    {
     "name": "stderr",
     "output_type": "stream",
     "text": [
      "\r",
      "Iterations:  74%|████████████████████████▌        | 223/300 [04:31<01:35,  1.23s/it]"
     ]
    },
    {
     "name": "stdout",
     "output_type": "stream",
     "text": [
      "Epoch:  222\n",
      "t_loss:  0.39681773793463615 , v_loss:  0.5650702863931656\n",
      "t_acc:  0.7192654839713664 , v_acc:  0.7639751552795031\n",
      "t_recall:  0.546905752048421 , v_recall:  0.630990990990991\n",
      "t_prec:  0.7521023280516952 , v_prec:  0.8133620689655172\n",
      "t_f:  0.5088554694649503 , v_f:  0.637902462121212\n",
      "////////\n"
     ]
    },
    {
     "name": "stderr",
     "output_type": "stream",
     "text": [
      "\r",
      "Iterations:  75%|████████████████████████▋        | 224/300 [04:32<01:25,  1.13s/it]"
     ]
    },
    {
     "name": "stdout",
     "output_type": "stream",
     "text": [
      "Epoch  223 , loss 0.39380113342229056\n",
      "Epoch  224 , loss 0.3911168744751051\n"
     ]
    },
    {
     "name": "stderr",
     "output_type": "stream",
     "text": [
      "\r",
      "Iterations:  75%|████████████████████████▊        | 225/300 [04:33<01:32,  1.23s/it]"
     ]
    },
    {
     "name": "stdout",
     "output_type": "stream",
     "text": [
      "Epoch:  224\n",
      "t_loss:  0.3911168744751051 , v_loss:  0.5613149652878443\n",
      "t_acc:  0.721444133208839 , v_acc:  0.7639751552795031\n",
      "t_recall:  0.5519221531409122 , v_recall:  0.630990990990991\n",
      "t_prec:  0.7485959486217955 , v_prec:  0.8133620689655172\n",
      "t_f:  0.5184782315660168 , v_f:  0.637902462121212\n",
      "////////\n"
     ]
    },
    {
     "name": "stderr",
     "output_type": "stream",
     "text": [
      "\r",
      "Iterations:  75%|████████████████████████▊        | 226/300 [04:34<01:26,  1.17s/it]"
     ]
    },
    {
     "name": "stdout",
     "output_type": "stream",
     "text": [
      "Epoch  225 , loss 0.39038991051561694\n",
      "Epoch  226 , loss 0.3972725815632764\n"
     ]
    },
    {
     "name": "stderr",
     "output_type": "stream",
     "text": [
      "\r",
      "Iterations:  76%|████████████████████████▉        | 227/300 [04:35<01:30,  1.24s/it]"
     ]
    },
    {
     "name": "stdout",
     "output_type": "stream",
     "text": [
      "Epoch:  226\n",
      "t_loss:  0.3972725815632764 , v_loss:  0.561730295419693\n",
      "t_acc:  0.7226890756302521 , v_acc:  0.7639751552795031\n",
      "t_recall:  0.554542210510424 , v_recall:  0.630990990990991\n",
      "t_prec:  0.7484826758261913 , v_prec:  0.8133620689655172\n",
      "t_f:  0.5232894025845568 , v_f:  0.637902462121212\n",
      "////////\n"
     ]
    },
    {
     "name": "stderr",
     "output_type": "stream",
     "text": [
      "\r",
      "Iterations:  76%|█████████████████████████        | 228/300 [04:37<01:25,  1.19s/it]"
     ]
    },
    {
     "name": "stdout",
     "output_type": "stream",
     "text": [
      "Epoch  227 , loss 0.39471129430275337\n",
      "Epoch  228 , loss 0.3915947298793232\n"
     ]
    },
    {
     "name": "stderr",
     "output_type": "stream",
     "text": [
      "\r",
      "Iterations:  76%|█████████████████████████▏       | 229/300 [04:38<01:28,  1.25s/it]"
     ]
    },
    {
     "name": "stdout",
     "output_type": "stream",
     "text": [
      "Epoch:  228\n",
      "t_loss:  0.3915947298793232 , v_loss:  0.5560065706570944\n",
      "t_acc:  0.7220666044195456 , v_acc:  0.7701863354037267\n",
      "t_recall:  0.5572576549868928 , v_recall:  0.640990990990991\n",
      "t_prec:  0.7280563492179186 , v_prec:  0.8196486928104575\n",
      "t_f:  0.5299809827350623 , v_f:  0.6513315774070823\n",
      "////////\n"
     ]
    },
    {
     "name": "stderr",
     "output_type": "stream",
     "text": [
      "\r",
      "Iterations:  77%|█████████████████████████▎       | 230/300 [04:39<01:19,  1.14s/it]"
     ]
    },
    {
     "name": "stdout",
     "output_type": "stream",
     "text": [
      "Epoch  229 , loss 0.39425470081030156\n",
      "Epoch  230 , loss 0.3934156064893685\n"
     ]
    },
    {
     "name": "stderr",
     "output_type": "stream",
     "text": [
      "\r",
      "Iterations:  77%|█████████████████████████▍       | 231/300 [04:40<01:25,  1.23s/it]"
     ]
    },
    {
     "name": "stdout",
     "output_type": "stream",
     "text": [
      "Epoch:  230\n",
      "t_loss:  0.3934156064893685 , v_loss:  0.5530915508667628\n",
      "t_acc:  0.7180205415499533 , v_acc:  0.7763975155279503\n",
      "t_recall:  0.5500363706235161 , v_recall:  0.650990990990991\n",
      "t_prec:  0.7187262517098769 , v_prec:  0.8255633255633255\n",
      "t_f:  0.5175969884301946 , v_f:  0.6644279759147753\n",
      "////////\n"
     ]
    },
    {
     "name": "stderr",
     "output_type": "stream",
     "text": [
      "\r",
      "Iterations:  77%|█████████████████████████▌       | 232/300 [04:41<01:20,  1.18s/it]"
     ]
    },
    {
     "name": "stdout",
     "output_type": "stream",
     "text": [
      "Epoch  231 , loss 0.3900407990988563\n",
      "Epoch  232 , loss 0.3875671365097457\n"
     ]
    },
    {
     "name": "stderr",
     "output_type": "stream",
     "text": [
      "\r",
      "Iterations:  78%|█████████████████████████▋       | 233/300 [04:43<01:28,  1.31s/it]"
     ]
    },
    {
     "name": "stdout",
     "output_type": "stream",
     "text": [
      "Epoch:  232\n",
      "t_loss:  0.3875671365097457 , v_loss:  0.5543373872836431\n",
      "t_acc:  0.7245564892623716 , v_acc:  0.7701863354037267\n",
      "t_recall:  0.5601974993480737 , v_recall:  0.640990990990991\n",
      "t_prec:  0.7397657035816849 , v_prec:  0.8196486928104575\n",
      "t_f:  0.5341916794182869 , v_f:  0.6513315774070823\n",
      "////////\n"
     ]
    },
    {
     "name": "stderr",
     "output_type": "stream",
     "text": [
      "\r",
      "Iterations:  78%|█████████████████████████▋       | 234/300 [04:44<01:20,  1.22s/it]"
     ]
    },
    {
     "name": "stdout",
     "output_type": "stream",
     "text": [
      "Epoch  233 , loss 0.3871687896111432\n",
      "Epoch  234 , loss 0.3889577447199354\n"
     ]
    },
    {
     "name": "stderr",
     "output_type": "stream",
     "text": [
      "\r",
      "Iterations:  78%|█████████████████████████▊       | 235/300 [04:45<01:24,  1.29s/it]"
     ]
    },
    {
     "name": "stdout",
     "output_type": "stream",
     "text": [
      "Epoch:  234\n",
      "t_loss:  0.3889577447199354 , v_loss:  0.5580812593301138\n",
      "t_acc:  0.7251789604730782 , v_acc:  0.7701863354037267\n",
      "t_recall:  0.5600698590466779 , v_recall:  0.640990990990991\n",
      "t_prec:  0.7469716919025675 , v_prec:  0.8196486928104575\n",
      "t_f:  0.5333574351262359 , v_f:  0.6513315774070823\n",
      "////////\n"
     ]
    },
    {
     "name": "stderr",
     "output_type": "stream",
     "text": [
      "\r",
      "Iterations:  79%|█████████████████████████▉       | 236/300 [04:46<01:15,  1.18s/it]"
     ]
    },
    {
     "name": "stdout",
     "output_type": "stream",
     "text": [
      "Epoch  235 , loss 0.3896777778863907\n",
      "Epoch  236 , loss 0.3880498859227872\n"
     ]
    },
    {
     "name": "stderr",
     "output_type": "stream",
     "text": [
      "\r",
      "Iterations:  79%|██████████████████████████       | 237/300 [04:48<01:18,  1.25s/it]"
     ]
    },
    {
     "name": "stdout",
     "output_type": "stream",
     "text": [
      "Epoch:  236\n",
      "t_loss:  0.3880498859227872 , v_loss:  0.5545375347137451\n",
      "t_acc:  0.7270463741051977 , v_acc:  0.7888198757763976\n",
      "t_recall:  0.5622747423175636 , v_recall:  0.670990990990991\n",
      "t_prec:  0.756036866359447 , v_prec:  0.8365248226950355\n",
      "t_f:  0.5365282792816635 , v_f:  0.6896825396825397\n",
      "////////\n"
     ]
    },
    {
     "name": "stderr",
     "output_type": "stream",
     "text": [
      "\r",
      "Iterations:  79%|██████████████████████████▏      | 238/300 [04:49<01:10,  1.14s/it]"
     ]
    },
    {
     "name": "stdout",
     "output_type": "stream",
     "text": [
      "Epoch  237 , loss 0.3858065762940575\n",
      "Epoch  238 , loss 0.3883834294244355\n"
     ]
    },
    {
     "name": "stderr",
     "output_type": "stream",
     "text": [
      "\r",
      "Iterations:  80%|██████████████████████████▎      | 239/300 [04:50<01:18,  1.29s/it]"
     ]
    },
    {
     "name": "stdout",
     "output_type": "stream",
     "text": [
      "Epoch:  238\n",
      "t_loss:  0.3883834294244355 , v_loss:  0.5558379789193472\n",
      "t_acc:  0.7233115468409586 , v_acc:  0.7888198757763976\n",
      "t_recall:  0.5578649757757923 , v_recall:  0.670990990990991\n",
      "t_prec:  0.737906517445688 , v_prec:  0.8365248226950355\n",
      "t_f:  0.5301865909708083 , v_f:  0.6896825396825397\n",
      "////////\n"
     ]
    },
    {
     "name": "stderr",
     "output_type": "stream",
     "text": [
      "\r",
      "Iterations:  80%|██████████████████████████▍      | 240/300 [04:51<01:10,  1.17s/it]"
     ]
    },
    {
     "name": "stdout",
     "output_type": "stream",
     "text": [
      "Epoch  239 , loss 0.39416057631081225\n",
      "Epoch  240 , loss 0.3880582483960133\n"
     ]
    },
    {
     "name": "stderr",
     "output_type": "stream",
     "text": [
      "\r",
      "Iterations:  80%|██████████████████████████▌      | 241/300 [04:53<01:13,  1.24s/it]"
     ]
    },
    {
     "name": "stdout",
     "output_type": "stream",
     "text": [
      "Epoch:  240\n",
      "t_loss:  0.3880582483960133 , v_loss:  0.5530742655197779\n",
      "t_acc:  0.7251789604730782 , v_acc:  0.782608695652174\n",
      "t_recall:  0.5580571224660655 , v_recall:  0.660990990990991\n",
      "t_prec:  0.7582625790643341 , v_prec:  0.83117123795404\n",
      "t_f:  0.5288725654872979 , v_f:  0.6772068511198946\n",
      "////////\n"
     ]
    },
    {
     "name": "stderr",
     "output_type": "stream",
     "text": [
      "\r",
      "Iterations:  81%|██████████████████████████▌      | 242/300 [04:54<01:10,  1.21s/it]"
     ]
    },
    {
     "name": "stdout",
     "output_type": "stream",
     "text": [
      "Epoch  241 , loss 0.3888781748565973\n",
      "Epoch  242 , loss 0.38973452180039647\n"
     ]
    },
    {
     "name": "stderr",
     "output_type": "stream",
     "text": [
      "\r",
      "Iterations:  81%|██████████████████████████▋      | 243/300 [04:55<01:11,  1.26s/it]"
     ]
    },
    {
     "name": "stdout",
     "output_type": "stream",
     "text": [
      "Epoch:  242\n",
      "t_loss:  0.38973452180039647 , v_loss:  0.5497309068838755\n",
      "t_acc:  0.7251789604730782 , v_acc:  0.7950310559006211\n",
      "t_recall:  0.5597823252494476 , v_recall:  0.680990990990991\n",
      "t_prec:  0.7484674475205354 , v_prec:  0.8416666666666667\n",
      "t_f:  0.5327238214451888 , v_f:  0.7018685820099881\n",
      "////////\n"
     ]
    },
    {
     "name": "stderr",
     "output_type": "stream",
     "text": [
      "\r",
      "Iterations:  81%|██████████████████████████▊      | 244/300 [04:56<01:04,  1.14s/it]"
     ]
    },
    {
     "name": "stdout",
     "output_type": "stream",
     "text": [
      "Epoch  243 , loss 0.38401105620113074\n",
      "Epoch  244 , loss 0.38794421156247455\n"
     ]
    },
    {
     "name": "stderr",
     "output_type": "stream",
     "text": [
      "\r",
      "Iterations:  82%|██████████████████████████▉      | 245/300 [04:57<01:06,  1.21s/it]"
     ]
    },
    {
     "name": "stdout",
     "output_type": "stream",
     "text": [
      "Epoch:  244\n",
      "t_loss:  0.38794421156247455 , v_loss:  0.5492696315050125\n",
      "t_acc:  0.7273576097105509 , v_acc:  0.7950310559006211\n",
      "t_recall:  0.5630735235585567 , v_recall:  0.680990990990991\n",
      "t_prec:  0.7552024137867205 , v_prec:  0.8416666666666667\n",
      "t_f:  0.5379953119767831 , v_f:  0.7018685820099881\n",
      "////////\n"
     ]
    },
    {
     "name": "stderr",
     "output_type": "stream",
     "text": [
      "\r",
      "Iterations:  82%|███████████████████████████      | 246/300 [04:58<01:03,  1.17s/it]"
     ]
    },
    {
     "name": "stdout",
     "output_type": "stream",
     "text": [
      "Epoch  245 , loss 0.3879508247562483\n",
      "Epoch  246 , loss 0.3857867133383657\n"
     ]
    },
    {
     "name": "stderr",
     "output_type": "stream",
     "text": [
      "\r",
      "Iterations:  82%|███████████████████████████▏     | 247/300 [05:00<01:08,  1.30s/it]"
     ]
    },
    {
     "name": "stdout",
     "output_type": "stream",
     "text": [
      "Epoch:  246\n",
      "t_loss:  0.3857867133383657 , v_loss:  0.5500725309054056\n",
      "t_acc:  0.7251789604730782 , v_acc:  0.8012422360248447\n",
      "t_recall:  0.5612199942355993 , v_recall:  0.690990990990991\n",
      "t_prec:  0.7413325758805389 , v_prec:  0.8466317854807064\n",
      "t_f:  0.5358687250160118 , v_f:  0.7137777777777778\n",
      "////////\n"
     ]
    },
    {
     "name": "stderr",
     "output_type": "stream",
     "text": [
      "\r",
      "Iterations:  83%|███████████████████████████▎     | 248/300 [05:01<01:02,  1.20s/it]"
     ]
    },
    {
     "name": "stdout",
     "output_type": "stream",
     "text": [
      "Epoch  247 , loss 0.387232898497114\n",
      "Epoch  248 , loss 0.3930284608812893\n"
     ]
    },
    {
     "name": "stderr",
     "output_type": "stream",
     "text": [
      "\r",
      "Iterations:  83%|███████████████████████████▍     | 249/300 [05:02<01:03,  1.25s/it]"
     ]
    },
    {
     "name": "stdout",
     "output_type": "stream",
     "text": [
      "Epoch:  248\n",
      "t_loss:  0.3930284608812893 , v_loss:  0.5498341619968414\n",
      "t_acc:  0.7239340180516651 , v_acc:  0.8012422360248447\n",
      "t_recall:  0.5611877410411605 , v_recall:  0.690990990990991\n",
      "t_prec:  0.7294650516419037 , v_prec:  0.8466317854807064\n",
      "t_f:  0.536868063517239 , v_f:  0.7137777777777778\n",
      "////////\n"
     ]
    },
    {
     "name": "stderr",
     "output_type": "stream",
     "text": [
      "\r",
      "Iterations:  83%|███████████████████████████▌     | 250/300 [05:03<00:56,  1.14s/it]"
     ]
    },
    {
     "name": "stdout",
     "output_type": "stream",
     "text": [
      "Epoch  249 , loss 0.38886528389126646\n",
      "Epoch  250 , loss 0.3837982743394141\n"
     ]
    },
    {
     "name": "stderr",
     "output_type": "stream",
     "text": [
      "\r",
      "Iterations:  84%|███████████████████████████▌     | 251/300 [05:05<01:00,  1.24s/it]"
     ]
    },
    {
     "name": "stdout",
     "output_type": "stream",
     "text": [
      "Epoch:  250\n",
      "t_loss:  0.3837982743394141 , v_loss:  0.5468418151140213\n",
      "t_acc:  0.7282913165266106 , v_acc:  0.8136645962732919\n",
      "t_recall:  0.5674826038621485 , v_recall:  0.710990990990991\n",
      "t_prec:  0.7436448236903134 , v_prec:  0.8561435523114356\n",
      "t_f:  0.546580597855263 , v_f:  0.7368134263295554\n",
      "////////\n"
     ]
    },
    {
     "name": "stderr",
     "output_type": "stream",
     "text": [
      "\r",
      "Iterations:  84%|███████████████████████████▋     | 252/300 [05:06<00:54,  1.14s/it]"
     ]
    },
    {
     "name": "stdout",
     "output_type": "stream",
     "text": [
      "Epoch  251 , loss 0.38085778086793187\n",
      "Epoch  252 , loss 0.39123783801116196\n"
     ]
    },
    {
     "name": "stderr",
     "output_type": "stream",
     "text": [
      "\r",
      "Iterations:  84%|███████████████████████████▊     | 253/300 [05:07<00:57,  1.23s/it]"
     ]
    },
    {
     "name": "stdout",
     "output_type": "stream",
     "text": [
      "Epoch:  252\n",
      "t_loss:  0.39123783801116196 , v_loss:  0.5460460036993027\n",
      "t_acc:  0.7286025521319639 , v_acc:  0.8012422360248447\n",
      "t_recall:  0.5668437161169899 , v_recall:  0.690990990990991\n",
      "t_prec:  0.7494664376474767 , v_prec:  0.8466317854807064\n",
      "t_f:  0.5450019552793192 , v_f:  0.7137777777777778\n",
      "////////\n"
     ]
    },
    {
     "name": "stderr",
     "output_type": "stream",
     "text": [
      "\r",
      "Iterations:  85%|███████████████████████████▉     | 254/300 [05:08<00:54,  1.18s/it]"
     ]
    },
    {
     "name": "stdout",
     "output_type": "stream",
     "text": [
      "Epoch  253 , loss 0.3893932010613236\n",
      "Epoch  254 , loss 0.3848976884402481\n"
     ]
    },
    {
     "name": "stderr",
     "output_type": "stream",
     "text": [
      "\r",
      "Iterations:  85%|████████████████████████████     | 255/300 [05:09<00:56,  1.25s/it]"
     ]
    },
    {
     "name": "stdout",
     "output_type": "stream",
     "text": [
      "Epoch:  254\n",
      "t_loss:  0.3848976884402481 , v_loss:  0.5484497199455897\n",
      "t_acc:  0.7282913165266106 , v_acc:  0.8198757763975155\n",
      "t_recall:  0.5654698672815361 , v_recall:  0.720990990990991\n",
      "t_prec:  0.752899116745779 , v_prec:  0.8607352941176472\n",
      "t_f:  0.5423528711149254 , v_f:  0.7479622132253712\n",
      "////////\n"
     ]
    },
    {
     "name": "stderr",
     "output_type": "stream",
     "text": [
      "\r",
      "Iterations:  85%|████████████████████████████▏    | 256/300 [05:10<00:50,  1.16s/it]"
     ]
    },
    {
     "name": "stdout",
     "output_type": "stream",
     "text": [
      "Epoch  255 , loss 0.38471690696828503\n",
      "Epoch  256 , loss 0.38197774250133365\n"
     ]
    },
    {
     "name": "stderr",
     "output_type": "stream",
     "text": [
      "\r",
      "Iterations:  86%|████████████████████████████▎    | 257/300 [05:12<00:52,  1.22s/it]"
     ]
    },
    {
     "name": "stdout",
     "output_type": "stream",
     "text": [
      "Epoch:  256\n",
      "t_loss:  0.38197774250133365 , v_loss:  0.5443131327629089\n",
      "t_acc:  0.7345160286336757 , v_acc:  0.8198757763975155\n",
      "t_recall:  0.575119748562331 , v_recall:  0.720990990990991\n",
      "t_prec:  0.7687249398556536 , v_prec:  0.8607352941176472\n",
      "t_f:  0.5575498297237238 , v_f:  0.7479622132253712\n",
      "////////\n"
     ]
    },
    {
     "name": "stderr",
     "output_type": "stream",
     "text": [
      "\r",
      "Iterations:  86%|████████████████████████████▍    | 258/300 [05:13<00:47,  1.14s/it]"
     ]
    },
    {
     "name": "stdout",
     "output_type": "stream",
     "text": [
      "Epoch  257 , loss 0.3812425475494534\n",
      "Epoch  258 , loss 0.37863194299679176\n"
     ]
    },
    {
     "name": "stderr",
     "output_type": "stream",
     "text": [
      "\r",
      "Iterations:  86%|████████████████████████████▍    | 259/300 [05:14<00:50,  1.24s/it]"
     ]
    },
    {
     "name": "stdout",
     "output_type": "stream",
     "text": [
      "Epoch:  258\n",
      "t_loss:  0.37863194299679176 , v_loss:  0.5435241212447485\n",
      "t_acc:  0.7304699657640834 , v_acc:  0.8136645962732919\n",
      "t_recall:  0.5678984641989542 , v_recall:  0.710990990990991\n",
      "t_prec:  0.7636033760670098 , v_prec:  0.8561435523114356\n",
      "t_f:  0.5457187694694894 , v_f:  0.7368134263295554\n",
      "////////\n"
     ]
    },
    {
     "name": "stderr",
     "output_type": "stream",
     "text": [
      "\r",
      "Iterations:  87%|████████████████████████████▌    | 260/300 [05:15<00:47,  1.19s/it]"
     ]
    },
    {
     "name": "stdout",
     "output_type": "stream",
     "text": [
      "Epoch  259 , loss 0.3834303491840176\n",
      "Epoch  260 , loss 0.3854811115592134\n"
     ]
    },
    {
     "name": "stderr",
     "output_type": "stream",
     "text": [
      "\r",
      "Iterations:  87%|████████████████████████████▋    | 261/300 [05:17<00:49,  1.28s/it]"
     ]
    },
    {
     "name": "stdout",
     "output_type": "stream",
     "text": [
      "Epoch:  260\n",
      "t_loss:  0.3854811115592134 , v_loss:  0.545697033405304\n",
      "t_acc:  0.7323373793962029 , v_acc:  0.8198757763975155\n",
      "t_recall:  0.5738412868338343 , v_recall:  0.720990990990991\n",
      "t_prec:  0.7536960950123544 , v_prec:  0.8607352941176472\n",
      "t_f:  0.5565317035905271 , v_f:  0.7479622132253712\n",
      "////////\n"
     ]
    },
    {
     "name": "stderr",
     "output_type": "stream",
     "text": [
      "\r",
      "Iterations:  87%|████████████████████████████▊    | 262/300 [05:18<00:43,  1.15s/it]"
     ]
    },
    {
     "name": "stdout",
     "output_type": "stream",
     "text": [
      "Epoch  261 , loss 0.385185434829955\n",
      "Epoch  262 , loss 0.3819810926329856\n"
     ]
    },
    {
     "name": "stderr",
     "output_type": "stream",
     "text": [
      "\r",
      "Iterations:  88%|████████████████████████████▉    | 263/300 [05:19<00:45,  1.22s/it]"
     ]
    },
    {
     "name": "stdout",
     "output_type": "stream",
     "text": [
      "Epoch:  262\n",
      "t_loss:  0.3819810926329856 , v_loss:  0.5463171899318695\n",
      "t_acc:  0.7307812013694367 , v_acc:  0.8198757763975155\n",
      "t_recall:  0.569272313034408 , v_recall:  0.720990990990991\n",
      "t_prec:  0.7597836530213087 , v_prec:  0.8607352941176472\n",
      "t_f:  0.5483549886611182 , v_f:  0.7479622132253712\n",
      "////////\n"
     ]
    },
    {
     "name": "stderr",
     "output_type": "stream",
     "text": [
      "\r",
      "Iterations:  88%|█████████████████████████████    | 264/300 [05:20<00:39,  1.11s/it]"
     ]
    },
    {
     "name": "stdout",
     "output_type": "stream",
     "text": [
      "Epoch  263 , loss 0.390105885033514\n",
      "Epoch  264 , loss 0.38563742766193315\n"
     ]
    },
    {
     "name": "stderr",
     "output_type": "stream",
     "text": [
      "\r",
      "Iterations:  88%|█████████████████████████████▏   | 265/300 [05:21<00:43,  1.23s/it]"
     ]
    },
    {
     "name": "stdout",
     "output_type": "stream",
     "text": [
      "Epoch:  264\n",
      "t_loss:  0.38563742766193315 , v_loss:  0.547889232635498\n",
      "t_acc:  0.7351384998443822 , v_acc:  0.8198757763975155\n",
      "t_recall:  0.5775799124360083 , v_recall:  0.720990990990991\n",
      "t_prec:  0.7630846921203283 , v_prec:  0.8607352941176472\n",
      "t_f:  0.562025215886864 , v_f:  0.7479622132253712\n",
      "////////\n"
     ]
    },
    {
     "name": "stderr",
     "output_type": "stream",
     "text": [
      "\r",
      "Iterations:  89%|█████████████████████████████▎   | 266/300 [05:22<00:39,  1.16s/it]"
     ]
    },
    {
     "name": "stdout",
     "output_type": "stream",
     "text": [
      "Epoch  265 , loss 0.3786735043806188\n",
      "Epoch  266 , loss 0.3778666123455646\n"
     ]
    },
    {
     "name": "stderr",
     "output_type": "stream",
     "text": [
      "\r",
      "Iterations:  89%|█████████████████████████████▎   | 267/300 [05:24<00:39,  1.21s/it]"
     ]
    },
    {
     "name": "stdout",
     "output_type": "stream",
     "text": [
      "Epoch:  266\n",
      "t_loss:  0.3778666123455646 , v_loss:  0.5471853961547216\n",
      "t_acc:  0.7314036725801432 , v_acc:  0.8136645962732919\n",
      "t_recall:  0.572307544502546 , v_recall:  0.710990990990991\n",
      "t_prec:  0.7517409004899369 , v_prec:  0.8561435523114356\n",
      "t_f:  0.5541154708875321 , v_f:  0.7368134263295554\n",
      "////////\n"
     ]
    },
    {
     "name": "stderr",
     "output_type": "stream",
     "text": [
      "\r",
      "Iterations:  89%|█████████████████████████████▍   | 268/300 [05:25<00:36,  1.13s/it]"
     ]
    },
    {
     "name": "stdout",
     "output_type": "stream",
     "text": [
      "Epoch  267 , loss 0.3820228246497173\n",
      "Epoch  268 , loss 0.37624120157138974\n"
     ]
    },
    {
     "name": "stderr",
     "output_type": "stream",
     "text": [
      "\r",
      "Iterations:  90%|█████████████████████████████▌   | 269/300 [05:26<00:36,  1.19s/it]"
     ]
    },
    {
     "name": "stdout",
     "output_type": "stream",
     "text": [
      "Epoch:  268\n",
      "t_loss:  0.37624120157138974 , v_loss:  0.5467977474133173\n",
      "t_acc:  0.7326486150015562 , v_acc:  0.8260869565217391\n",
      "t_recall:  0.5775154060471308 , v_recall:  0.730990990990991\n",
      "t_prec:  0.7421095123101324 , v_prec:  0.8652421652421654\n",
      "t_f:  0.5635290301736305 , v_f:  0.7588789045785195\n",
      "////////\n"
     ]
    },
    {
     "name": "stderr",
     "output_type": "stream",
     "text": [
      "\r",
      "Iterations:  90%|█████████████████████████████▋   | 270/300 [05:27<00:33,  1.13s/it]"
     ]
    },
    {
     "name": "stdout",
     "output_type": "stream",
     "text": [
      "Epoch  269 , loss 0.3813425261600345\n",
      "Epoch  270 , loss 0.3799690274046917\n"
     ]
    },
    {
     "name": "stderr",
     "output_type": "stream",
     "text": [
      "\r",
      "Iterations:  90%|█████████████████████████████▊   | 271/300 [05:29<00:36,  1.28s/it]"
     ]
    },
    {
     "name": "stdout",
     "output_type": "stream",
     "text": [
      "Epoch:  270\n",
      "t_loss:  0.3799690274046917 , v_loss:  0.5444988906383514\n",
      "t_acc:  0.7332710862122627 , v_acc:  0.8322981366459627\n",
      "t_recall:  0.5750874953678923 , v_recall:  0.740990990990991\n",
      "t_prec:  0.7568521126760563 , v_prec:  0.8696793808734107\n",
      "t_f:  0.5583653908612589 , v_f:  0.7695732838589981\n",
      "////////\n"
     ]
    },
    {
     "name": "stderr",
     "output_type": "stream",
     "text": [
      "\r",
      "Iterations:  91%|█████████████████████████████▉   | 272/300 [05:30<00:34,  1.22s/it]"
     ]
    },
    {
     "name": "stdout",
     "output_type": "stream",
     "text": [
      "Epoch  271 , loss 0.3825869081067104\n",
      "Epoch  272 , loss 0.3825340060626759\n"
     ]
    },
    {
     "name": "stderr",
     "output_type": "stream",
     "text": [
      "\r",
      "Iterations:  91%|██████████████████████████████   | 273/300 [05:31<00:35,  1.31s/it]"
     ]
    },
    {
     "name": "stdout",
     "output_type": "stream",
     "text": [
      "Epoch:  272\n",
      "t_loss:  0.3825340060626759 , v_loss:  0.5464475105206171\n",
      "t_acc:  0.7363834422657952 , v_acc:  0.8260869565217391\n",
      "t_recall:  0.5822127063861325 , v_recall:  0.730990990990991\n",
      "t_prec:  0.7547851163740302 , v_prec:  0.8652421652421654\n",
      "t_f:  0.5701699396575619 , v_f:  0.7588789045785195\n",
      "////////\n"
     ]
    },
    {
     "name": "stderr",
     "output_type": "stream",
     "text": [
      "\r",
      "Iterations:  91%|██████████████████████████████▏  | 274/300 [05:32<00:30,  1.18s/it]"
     ]
    },
    {
     "name": "stdout",
     "output_type": "stream",
     "text": [
      "Epoch  273 , loss 0.3883094308423061\n",
      "Epoch  274 , loss 0.37966762862953485\n"
     ]
    },
    {
     "name": "stderr",
     "output_type": "stream",
     "text": [
      "\r",
      "Iterations:  92%|██████████████████████████████▎  | 275/300 [05:33<00:30,  1.24s/it]"
     ]
    },
    {
     "name": "stdout",
     "output_type": "stream",
     "text": [
      "Epoch:  274\n",
      "t_loss:  0.37966762862953485 , v_loss:  0.5421553552150726\n",
      "t_acc:  0.7326486150015562 , v_acc:  0.8322981366459627\n",
      "t_recall:  0.5717647301025239 , v_recall:  0.740990990990991\n",
      "t_prec:  0.7665468726104909 , v_prec:  0.8696793808734107\n",
      "t_f:  0.5520820400764781 , v_f:  0.7695732838589981\n",
      "////////\n"
     ]
    },
    {
     "name": "stderr",
     "output_type": "stream",
     "text": [
      "\r",
      "Iterations:  92%|██████████████████████████████▎  | 276/300 [05:34<00:26,  1.12s/it]"
     ]
    },
    {
     "name": "stdout",
     "output_type": "stream",
     "text": [
      "Epoch  275 , loss 0.38012957339193304\n",
      "Epoch  276 , loss 0.3769180897404166\n"
     ]
    },
    {
     "name": "stderr",
     "output_type": "stream",
     "text": [
      "\r",
      "Iterations:  92%|██████████████████████████████▍  | 277/300 [05:36<00:28,  1.23s/it]"
     ]
    },
    {
     "name": "stdout",
     "output_type": "stream",
     "text": [
      "Epoch:  276\n",
      "t_loss:  0.3769180897404166 , v_loss:  0.5471500704685847\n",
      "t_acc:  0.7360722066604419 , v_acc:  0.8322981366459627\n",
      "t_recall:  0.5791136547672966 , v_recall:  0.740990990990991\n",
      "t_prec:  0.7648588626303778 , v_prec:  0.8696793808734107\n",
      "t_f:  0.5644142041348792 , v_f:  0.7695732838589981\n",
      "////////\n"
     ]
    },
    {
     "name": "stderr",
     "output_type": "stream",
     "text": [
      "\r",
      "Iterations:  93%|██████████████████████████████▌  | 278/300 [05:37<00:25,  1.14s/it]"
     ]
    },
    {
     "name": "stdout",
     "output_type": "stream",
     "text": [
      "Epoch  277 , loss 0.37942100009497476\n",
      "Epoch  278 , loss 0.3755573677081688\n"
     ]
    },
    {
     "name": "stderr",
     "output_type": "stream",
     "text": [
      "\r",
      "Iterations:  93%|██████████████████████████████▋  | 279/300 [05:38<00:25,  1.20s/it]"
     ]
    },
    {
     "name": "stdout",
     "output_type": "stream",
     "text": [
      "Epoch:  278\n",
      "t_loss:  0.3755573677081688 , v_loss:  0.546319767832756\n",
      "t_acc:  0.733582321817616 , v_acc:  0.8260869565217391\n",
      "t_recall:  0.573873540028273 , v_recall:  0.730990990990991\n",
      "t_prec:  0.765486943911927 , v_prec:  0.8652421652421654\n",
      "t_f:  0.5557021653301628 , v_f:  0.7588789045785195\n",
      "////////\n"
     ]
    },
    {
     "name": "stderr",
     "output_type": "stream",
     "text": [
      "\r",
      "Iterations:  93%|██████████████████████████████▊  | 280/300 [05:39<00:22,  1.13s/it]"
     ]
    },
    {
     "name": "stdout",
     "output_type": "stream",
     "text": [
      "Epoch  279 , loss 0.37870201410031784\n",
      "Epoch  280 , loss 0.37677280078915987\n"
     ]
    },
    {
     "name": "stderr",
     "output_type": "stream",
     "text": [
      "\r",
      "Iterations:  94%|██████████████████████████████▉  | 281/300 [05:40<00:22,  1.20s/it]"
     ]
    },
    {
     "name": "stdout",
     "output_type": "stream",
     "text": [
      "Epoch:  280\n",
      "t_loss:  0.37677280078915987 , v_loss:  0.5443830539782842\n",
      "t_acc:  0.7351384998443822 , v_acc:  0.8322981366459627\n",
      "t_recall:  0.578154980030469 , v_recall:  0.740990990990991\n",
      "t_prec:  0.7605416312076207 , v_prec:  0.8696793808734107\n",
      "t_f:  0.5631548751396565 , v_f:  0.7695732838589981\n",
      "////////\n"
     ]
    },
    {
     "name": "stderr",
     "output_type": "stream",
     "text": [
      "\r",
      "Iterations:  94%|███████████████████████████████  | 282/300 [05:41<00:20,  1.13s/it]"
     ]
    },
    {
     "name": "stdout",
     "output_type": "stream",
     "text": [
      "Epoch  281 , loss 0.37903428194569605\n",
      "Epoch  282 , loss 0.37139664502704844\n"
     ]
    },
    {
     "name": "stderr",
     "output_type": "stream",
     "text": [
      "\r",
      "Iterations:  94%|███████████████████████████████▏ | 283/300 [05:43<00:20,  1.23s/it]"
     ]
    },
    {
     "name": "stdout",
     "output_type": "stream",
     "text": [
      "Epoch:  282\n",
      "t_loss:  0.37139664502704844 , v_loss:  0.5401969651381174\n",
      "t_acc:  0.738562091503268 , v_acc:  0.8322981366459627\n",
      "t_recall:  0.5829161005201685 , v_recall:  0.740990990990991\n",
      "t_prec:  0.7706956758113082 , v_prec:  0.8696793808734107\n",
      "t_f:  0.5701842004010672 , v_f:  0.7695732838589981\n",
      "////////\n"
     ]
    },
    {
     "name": "stderr",
     "output_type": "stream",
     "text": [
      "\r",
      "Iterations:  95%|███████████████████████████████▏ | 284/300 [05:44<00:18,  1.18s/it]"
     ]
    },
    {
     "name": "stdout",
     "output_type": "stream",
     "text": [
      "Epoch  283 , loss 0.3811699105244057\n",
      "Epoch  284 , loss 0.37120407527568294\n"
     ]
    },
    {
     "name": "stderr",
     "output_type": "stream",
     "text": [
      "\r",
      "Iterations:  95%|███████████████████████████████▎ | 285/300 [05:45<00:18,  1.25s/it]"
     ]
    },
    {
     "name": "stdout",
     "output_type": "stream",
     "text": [
      "Epoch:  284\n",
      "t_loss:  0.37120407527568294 , v_loss:  0.5410049160321554\n",
      "t_acc:  0.7351384998443822 , v_acc:  0.8322981366459627\n",
      "t_recall:  0.580742784205542 , v_recall:  0.740990990990991\n",
      "t_prec:  0.7502296855859534 , v_prec:  0.8696793808734107\n",
      "t_f:  0.5681400456299708 , v_f:  0.7695732838589981\n",
      "////////\n"
     ]
    },
    {
     "name": "stderr",
     "output_type": "stream",
     "text": [
      "\r",
      "Iterations:  95%|███████████████████████████████▍ | 286/300 [05:46<00:15,  1.14s/it]"
     ]
    },
    {
     "name": "stdout",
     "output_type": "stream",
     "text": [
      "Epoch  285 , loss 0.37202518827774944\n",
      "Epoch  286 , loss 0.37520294212827493\n"
     ]
    },
    {
     "name": "stderr",
     "output_type": "stream",
     "text": [
      "\r",
      "Iterations:  96%|███████████████████████████████▌ | 287/300 [05:47<00:15,  1.20s/it]"
     ]
    },
    {
     "name": "stdout",
     "output_type": "stream",
     "text": [
      "Epoch:  286\n",
      "t_loss:  0.37520294212827493 , v_loss:  0.5449830045302709\n",
      "t_acc:  0.7382508558979147 , v_acc:  0.8260869565217391\n",
      "t_recall:  0.5838425220625575 , v_recall:  0.7364864864864865\n",
      "t_prec:  0.7639420168793386 , v_prec:  0.8524436090225564\n",
      "t_f:  0.5721335188069098 , v_f:  0.7631357713324927\n",
      "////////\n"
     ]
    },
    {
     "name": "stderr",
     "output_type": "stream",
     "text": [
      "\r",
      "Iterations:  96%|███████████████████████████████▋ | 288/300 [05:48<00:13,  1.11s/it]"
     ]
    },
    {
     "name": "stdout",
     "output_type": "stream",
     "text": [
      "Epoch  287 , loss 0.38422323091357363\n",
      "Epoch  288 , loss 0.37780700653207067\n"
     ]
    },
    {
     "name": "stderr",
     "output_type": "stream",
     "text": [
      "\r",
      "Iterations:  96%|███████████████████████████████▊ | 289/300 [05:50<00:13,  1.22s/it]"
     ]
    },
    {
     "name": "stdout",
     "output_type": "stream",
     "text": [
      "Epoch:  288\n",
      "t_loss:  0.37780700653207067 , v_loss:  0.5429505656162897\n",
      "t_acc:  0.737317149081855 , v_acc:  0.8136645962732919\n",
      "t_recall:  0.5840339825146512 , v_recall:  0.7219819819819819\n",
      "t_prec:  0.7554778840082228 , v_prec:  0.8308270676691729\n",
      "t_f:  0.5730380456346083 , v_f:  0.746216897856242\n",
      "////////\n"
     ]
    },
    {
     "name": "stderr",
     "output_type": "stream",
     "text": [
      "\r",
      "Iterations:  97%|███████████████████████████████▉ | 290/300 [05:51<00:11,  1.15s/it]"
     ]
    },
    {
     "name": "stdout",
     "output_type": "stream",
     "text": [
      "Epoch  289 , loss 0.3776890127097859\n",
      "Epoch  290 , loss 0.3743231074482787\n"
     ]
    },
    {
     "name": "stderr",
     "output_type": "stream",
     "text": [
      "\r",
      "Iterations:  97%|████████████████████████████████ | 291/300 [05:52<00:10,  1.19s/it]"
     ]
    },
    {
     "name": "stdout",
     "output_type": "stream",
     "text": [
      "Epoch:  290\n",
      "t_loss:  0.3743231074482787 , v_loss:  0.5433899313211441\n",
      "t_acc:  0.7429193899782135 , v_acc:  0.8198757763975155\n",
      "t_recall:  0.5912236999217688 , v_recall:  0.7264864864864865\n",
      "t_prec:  0.773194160151915 , v_prec:  0.8474295190713101\n",
      "t_f:  0.5831891580161477 , v_f:  0.752504638218924\n",
      "////////\n"
     ]
    },
    {
     "name": "stderr",
     "output_type": "stream",
     "text": [
      "\r",
      "Iterations:  97%|████████████████████████████████ | 292/300 [05:53<00:08,  1.11s/it]"
     ]
    },
    {
     "name": "stdout",
     "output_type": "stream",
     "text": [
      "Epoch  291 , loss 0.3778355150830512\n",
      "Epoch  292 , loss 0.375682020888609\n"
     ]
    },
    {
     "name": "stderr",
     "output_type": "stream",
     "text": [
      "\r",
      "Iterations:  98%|████████████████████████████████▏| 293/300 [05:54<00:08,  1.18s/it]"
     ]
    },
    {
     "name": "stdout",
     "output_type": "stream",
     "text": [
      "Epoch:  292\n",
      "t_loss:  0.375682020888609 , v_loss:  0.5406409452358881\n",
      "t_acc:  0.7441643323996265 , v_acc:  0.8198757763975155\n",
      "t_recall:  0.5926936221023593 , v_recall:  0.7319819819819819\n",
      "t_prec:  0.7775962415842561 , v_prec:  0.8363375130616509\n",
      "t_f:  0.5852076124567475 , v_f:  0.7567849143095275\n",
      "////////\n"
     ]
    },
    {
     "name": "stderr",
     "output_type": "stream",
     "text": [
      "\r",
      "Iterations:  98%|████████████████████████████████▎| 294/300 [05:55<00:06,  1.12s/it]"
     ]
    },
    {
     "name": "stdout",
     "output_type": "stream",
     "text": [
      "Epoch  293 , loss 0.37648425499598187\n",
      "Epoch  294 , loss 0.37199276335099163\n"
     ]
    },
    {
     "name": "stderr",
     "output_type": "stream",
     "text": [
      "\r",
      "Iterations:  98%|████████████████████████████████▍| 295/300 [05:57<00:06,  1.22s/it]"
     ]
    },
    {
     "name": "stdout",
     "output_type": "stream",
     "text": [
      "Epoch:  294\n",
      "t_loss:  0.37199276335099163 , v_loss:  0.5434821049372355\n",
      "t_acc:  0.7463429816370993 , v_acc:  0.8260869565217391\n",
      "t_recall:  0.5959848204114684 , v_recall:  0.7364864864864865\n",
      "t_prec:  0.7822020493313714 , v_prec:  0.8524436090225564\n",
      "t_f:  0.5900189960628535 , v_f:  0.7631357713324927\n",
      "////////\n"
     ]
    },
    {
     "name": "stderr",
     "output_type": "stream",
     "text": [
      "\r",
      "Iterations:  99%|████████████████████████████████▌| 296/300 [05:58<00:04,  1.14s/it]"
     ]
    },
    {
     "name": "stdout",
     "output_type": "stream",
     "text": [
      "Epoch  295 , loss 0.37057766931898456\n",
      "Epoch  296 , loss 0.37486376131282134\n"
     ]
    },
    {
     "name": "stderr",
     "output_type": "stream",
     "text": [
      "\r",
      "Iterations:  99%|████████████████████████████████▋| 297/300 [05:59<00:03,  1.21s/it]"
     ]
    },
    {
     "name": "stdout",
     "output_type": "stream",
     "text": [
      "Epoch:  296\n",
      "t_loss:  0.37486376131282134 , v_loss:  0.543256476521492\n",
      "t_acc:  0.7429193899782135 , v_acc:  0.8260869565217391\n",
      "t_recall:  0.5920863013134599 , v_recall:  0.7364864864864865\n",
      "t_prec:  0.7697568389057752 , v_prec:  0.8524436090225564\n",
      "t_f:  0.5847434236467076 , v_f:  0.7631357713324927\n",
      "////////\n"
     ]
    },
    {
     "name": "stderr",
     "output_type": "stream",
     "text": [
      "\r",
      "Iterations:  99%|████████████████████████████████▊| 298/300 [06:00<00:02,  1.11s/it]"
     ]
    },
    {
     "name": "stdout",
     "output_type": "stream",
     "text": [
      "Epoch  297 , loss 0.3785463536486906\n",
      "Epoch  298 , loss 0.3764442439172782\n"
     ]
    },
    {
     "name": "stderr",
     "output_type": "stream",
     "text": [
      "\r",
      "Iterations: 100%|████████████████████████████████▉| 299/300 [06:02<00:01,  1.23s/it]"
     ]
    },
    {
     "name": "stdout",
     "output_type": "stream",
     "text": [
      "Epoch:  298\n",
      "t_loss:  0.3764442439172782 , v_loss:  0.5442373057206472\n",
      "t_acc:  0.7354497354497355 , v_acc:  0.8260869565217391\n",
      "t_recall:  0.5806789640548442 , v_recall:  0.7364864864864865\n",
      "t_prec:  0.7529824153691222 , v_prec:  0.8524436090225564\n",
      "t_f:  0.5678286183048685 , v_f:  0.7631357713324927\n",
      "////////\n"
     ]
    },
    {
     "name": "stderr",
     "output_type": "stream",
     "text": [
      "Iterations: 100%|█████████████████████████████████| 300/300 [06:02<00:00,  1.21s/it]"
     ]
    },
    {
     "name": "stdout",
     "output_type": "stream",
     "text": [
      "Epoch  299 , loss 0.37557503464175207\n"
     ]
    },
    {
     "name": "stderr",
     "output_type": "stream",
     "text": [
      "\n"
     ]
    },
    {
     "name": "stdout",
     "output_type": "stream",
     "text": [
      "108 25\n",
      "\n",
      "c0_acc 0.972972972972973 , c1_acc 0.5 , b_acc 0.7364864864864865\n"
     ]
    },
    {
     "name": "stderr",
     "output_type": "stream",
     "text": [
      "\r",
      "Iterations:   0%|                                           | 0/300 [00:00<?, ?it/s]"
     ]
    },
    {
     "name": "stdout",
     "output_type": "stream",
     "text": [
      "Epoch  0 , loss 0.7483199799762053\n"
     ]
    },
    {
     "name": "stderr",
     "output_type": "stream",
     "text": [
      "\r",
      "Iterations:   0%|                                   | 1/300 [00:01<07:03,  1.42s/it]"
     ]
    },
    {
     "name": "stdout",
     "output_type": "stream",
     "text": [
      "Epoch:  0\n",
      "t_loss:  0.7483199799762053 , v_loss:  0.6845807035764059\n",
      "t_acc:  0.45882719900187147 , v_acc:  0.6845238095238095\n",
      "t_recall:  0.5167541288832189 , v_recall:  0.5\n",
      "t_prec:  0.515413635594654 , v_prec:  0.34226190476190477\n",
      "t_f:  0.4572099348826788 , v_f:  0.40636042402826855\n",
      "////////\n"
     ]
    },
    {
     "name": "stderr",
     "output_type": "stream",
     "text": [
      "\r",
      "Iterations:   1%|▏                                  | 2/300 [00:02<05:20,  1.08s/it]"
     ]
    },
    {
     "name": "stdout",
     "output_type": "stream",
     "text": [
      "Epoch  1 , loss 0.689058477972068\n",
      "Epoch  2 , loss 0.6411035072569754\n"
     ]
    },
    {
     "name": "stderr",
     "output_type": "stream",
     "text": [
      "\r",
      "Iterations:   1%|▎                                  | 3/300 [00:03<06:15,  1.26s/it]"
     ]
    },
    {
     "name": "stdout",
     "output_type": "stream",
     "text": [
      "Epoch:  2\n",
      "t_loss:  0.6411035072569754 , v_loss:  0.6731584072113037\n",
      "t_acc:  0.5832813474734873 , v_acc:  0.6845238095238095\n",
      "t_recall:  0.4938693698353044 , v_recall:  0.5\n",
      "t_prec:  0.4934803535486129 , v_prec:  0.34226190476190477\n",
      "t_f:  0.4931424435763334 , v_f:  0.40636042402826855\n",
      "////////\n"
     ]
    },
    {
     "name": "stderr",
     "output_type": "stream",
     "text": [
      "\r",
      "Iterations:   1%|▍                                  | 4/300 [00:04<05:29,  1.11s/it]"
     ]
    },
    {
     "name": "stdout",
     "output_type": "stream",
     "text": [
      "Epoch  3 , loss 0.5990798111055412\n",
      "Epoch  4 , loss 0.5585508031003615\n"
     ]
    },
    {
     "name": "stderr",
     "output_type": "stream",
     "text": [
      "\r",
      "Iterations:   2%|▌                                  | 5/300 [00:06<05:57,  1.21s/it]"
     ]
    },
    {
     "name": "stdout",
     "output_type": "stream",
     "text": [
      "Epoch:  4\n",
      "t_loss:  0.5585508031003615 , v_loss:  0.6601859132448832\n",
      "t_acc:  0.6681222707423581 , v_acc:  0.6845238095238095\n",
      "t_recall:  0.4947777816087991 , v_recall:  0.5\n",
      "t_prec:  0.48027402255737023 , v_prec:  0.34226190476190477\n",
      "t_f:  0.442328681037059 , v_f:  0.40636042402826855\n",
      "////////\n"
     ]
    },
    {
     "name": "stderr",
     "output_type": "stream",
     "text": [
      "\r",
      "Iterations:   2%|▋                                  | 6/300 [00:07<05:45,  1.17s/it]"
     ]
    },
    {
     "name": "stdout",
     "output_type": "stream",
     "text": [
      "Epoch  5 , loss 0.5284992509028491\n",
      "Epoch  6 , loss 0.5010558974509146\n"
     ]
    },
    {
     "name": "stderr",
     "output_type": "stream",
     "text": [
      "\r",
      "Iterations:   2%|▊                                  | 7/300 [00:08<06:01,  1.23s/it]"
     ]
    },
    {
     "name": "stdout",
     "output_type": "stream",
     "text": [
      "Epoch:  6\n",
      "t_loss:  0.5010558974509146 , v_loss:  0.6619488298892975\n",
      "t_acc:  0.6927635683094199 , v_acc:  0.6845238095238095\n",
      "t_recall:  0.50324426208783 , v_recall:  0.5\n",
      "t_prec:  0.546555045387376 , v_prec:  0.34226190476190477\n",
      "t_f:  0.4271829567742988 , v_f:  0.40636042402826855\n",
      "////////\n"
     ]
    },
    {
     "name": "stderr",
     "output_type": "stream",
     "text": [
      "\r",
      "Iterations:   3%|▉                                  | 8/300 [00:09<05:29,  1.13s/it]"
     ]
    },
    {
     "name": "stdout",
     "output_type": "stream",
     "text": [
      "Epoch  7 , loss 0.4909732739130656\n",
      "Epoch  8 , loss 0.47590559370377483\n"
     ]
    },
    {
     "name": "stderr",
     "output_type": "stream",
     "text": [
      "\r",
      "Iterations:   3%|█                                  | 9/300 [00:10<05:52,  1.21s/it]"
     ]
    },
    {
     "name": "stdout",
     "output_type": "stream",
     "text": [
      "Epoch:  8\n",
      "t_loss:  0.47590559370377483 , v_loss:  0.6991513272126516\n",
      "t_acc:  0.6940112289457268 , v_acc:  0.6845238095238095\n",
      "t_recall:  0.4995214288177085 , v_recall:  0.5\n",
      "t_prec:  0.47283969943644333 , v_prec:  0.34226190476190477\n",
      "t_f:  0.41262476713403273 , v_f:  0.40636042402826855\n",
      "////////\n"
     ]
    },
    {
     "name": "stderr",
     "output_type": "stream",
     "text": [
      "\r",
      "Iterations:   3%|█▏                                | 10/300 [00:11<05:39,  1.17s/it]"
     ]
    },
    {
     "name": "stdout",
     "output_type": "stream",
     "text": [
      "Epoch  9 , loss 0.4730094308946647\n",
      "Epoch  10 , loss 0.4639388468920016\n"
     ]
    },
    {
     "name": "stderr",
     "output_type": "stream",
     "text": [
      "\r",
      "Iterations:   4%|█▏                                | 11/300 [00:13<06:19,  1.31s/it]"
     ]
    },
    {
     "name": "stdout",
     "output_type": "stream",
     "text": [
      "Epoch:  10\n",
      "t_loss:  0.4639388468920016 , v_loss:  0.7419927964607874\n",
      "t_acc:  0.6958827199001871 , v_acc:  0.6845238095238095\n",
      "t_recall:  0.5002887057660702 , v_recall:  0.5\n",
      "t_prec:  0.5980024968789014 , v_prec:  0.34226190476190477\n",
      "t_f:  0.41132712930991466 , v_f:  0.40636042402826855\n",
      "////////\n"
     ]
    },
    {
     "name": "stderr",
     "output_type": "stream",
     "text": [
      "\r",
      "Iterations:   4%|█▎                                | 12/300 [00:14<05:48,  1.21s/it]"
     ]
    },
    {
     "name": "stdout",
     "output_type": "stream",
     "text": [
      "Epoch  11 , loss 0.45798393616489336\n",
      "Epoch  12 , loss 0.46057722323081074\n"
     ]
    },
    {
     "name": "stderr",
     "output_type": "stream",
     "text": [
      "\r",
      "Iterations:   4%|█▍                                | 13/300 [00:15<06:07,  1.28s/it]"
     ]
    },
    {
     "name": "stdout",
     "output_type": "stream",
     "text": [
      "Epoch:  12\n",
      "t_loss:  0.46057722323081074 , v_loss:  0.7656114449103674\n",
      "t_acc:  0.6958827199001871 , v_acc:  0.6845238095238095\n",
      "t_recall:  0.5 , v_recall:  0.5\n",
      "t_prec:  0.34794135995009356 , v_prec:  0.34226190476190477\n",
      "t_f:  0.41033658267426887 , v_f:  0.40636042402826855\n",
      "////////\n"
     ]
    },
    {
     "name": "stderr",
     "output_type": "stream",
     "text": [
      "\r",
      "Iterations:   5%|█▌                                | 14/300 [00:16<05:33,  1.17s/it]"
     ]
    },
    {
     "name": "stdout",
     "output_type": "stream",
     "text": [
      "Epoch  13 , loss 0.4639885665154925\n",
      "Epoch  14 , loss 0.45862772768619015\n"
     ]
    },
    {
     "name": "stderr",
     "output_type": "stream",
     "text": [
      "\r",
      "Iterations:   5%|█▋                                | 15/300 [00:18<06:02,  1.27s/it]"
     ]
    },
    {
     "name": "stdout",
     "output_type": "stream",
     "text": [
      "Epoch:  14\n",
      "t_loss:  0.45862772768619015 , v_loss:  0.783626968661944\n",
      "t_acc:  0.6958827199001871 , v_acc:  0.6845238095238095\n",
      "t_recall:  0.5 , v_recall:  0.5\n",
      "t_prec:  0.34794135995009356 , v_prec:  0.34226190476190477\n",
      "t_f:  0.41033658267426887 , v_f:  0.40636042402826855\n",
      "////////\n"
     ]
    },
    {
     "name": "stderr",
     "output_type": "stream",
     "text": [
      "\r",
      "Iterations:   5%|█▊                                | 16/300 [00:19<05:28,  1.16s/it]"
     ]
    },
    {
     "name": "stdout",
     "output_type": "stream",
     "text": [
      "Epoch  15 , loss 0.4566470869615966\n",
      "Epoch  16 , loss 0.4554542951724109\n"
     ]
    },
    {
     "name": "stderr",
     "output_type": "stream",
     "text": [
      "\r",
      "Iterations:   6%|█▉                                | 17/300 [00:20<05:58,  1.27s/it]"
     ]
    },
    {
     "name": "stdout",
     "output_type": "stream",
     "text": [
      "Epoch:  16\n",
      "t_loss:  0.4554542951724109 , v_loss:  0.7892895440260569\n",
      "t_acc:  0.6958827199001871 , v_acc:  0.6845238095238095\n",
      "t_recall:  0.5 , v_recall:  0.5\n",
      "t_prec:  0.34794135995009356 , v_prec:  0.34226190476190477\n",
      "t_f:  0.41033658267426887 , v_f:  0.40636042402826855\n",
      "////////\n"
     ]
    },
    {
     "name": "stderr",
     "output_type": "stream",
     "text": [
      "\r",
      "Iterations:   6%|██                                | 18/300 [00:21<05:31,  1.18s/it]"
     ]
    },
    {
     "name": "stdout",
     "output_type": "stream",
     "text": [
      "Epoch  17 , loss 0.45701588310447394\n",
      "Epoch  18 , loss 0.4544750738377665\n"
     ]
    },
    {
     "name": "stderr",
     "output_type": "stream",
     "text": [
      "\r",
      "Iterations:   6%|██▏                               | 19/300 [00:23<05:45,  1.23s/it]"
     ]
    },
    {
     "name": "stdout",
     "output_type": "stream",
     "text": [
      "Epoch:  18\n",
      "t_loss:  0.4544750738377665 , v_loss:  0.7912373890479406\n",
      "t_acc:  0.6958827199001871 , v_acc:  0.6845238095238095\n",
      "t_recall:  0.5 , v_recall:  0.5\n",
      "t_prec:  0.34794135995009356 , v_prec:  0.34226190476190477\n",
      "t_f:  0.41033658267426887 , v_f:  0.40636042402826855\n",
      "////////\n"
     ]
    },
    {
     "name": "stderr",
     "output_type": "stream",
     "text": [
      "\r",
      "Iterations:   7%|██▎                               | 20/300 [00:24<05:22,  1.15s/it]"
     ]
    },
    {
     "name": "stdout",
     "output_type": "stream",
     "text": [
      "Epoch  19 , loss 0.45758062776397257\n",
      "Epoch  20 , loss 0.4613746685140273\n"
     ]
    },
    {
     "name": "stderr",
     "output_type": "stream",
     "text": [
      "\r",
      "Iterations:   7%|██▍                               | 21/300 [00:25<05:39,  1.22s/it]"
     ]
    },
    {
     "name": "stdout",
     "output_type": "stream",
     "text": [
      "Epoch:  20\n",
      "t_loss:  0.4613746685140273 , v_loss:  0.795244480172793\n",
      "t_acc:  0.6958827199001871 , v_acc:  0.6845238095238095\n",
      "t_recall:  0.5 , v_recall:  0.5\n",
      "t_prec:  0.34794135995009356 , v_prec:  0.34226190476190477\n",
      "t_f:  0.41033658267426887 , v_f:  0.40636042402826855\n",
      "////////\n"
     ]
    },
    {
     "name": "stderr",
     "output_type": "stream",
     "text": [
      "\r",
      "Iterations:   7%|██▍                               | 22/300 [00:26<05:10,  1.12s/it]"
     ]
    },
    {
     "name": "stdout",
     "output_type": "stream",
     "text": [
      "Epoch  21 , loss 0.4514307660215041\n",
      "Epoch  22 , loss 0.4535530361474729\n"
     ]
    },
    {
     "name": "stderr",
     "output_type": "stream",
     "text": [
      "\r",
      "Iterations:   8%|██▌                               | 23/300 [00:27<05:41,  1.23s/it]"
     ]
    },
    {
     "name": "stdout",
     "output_type": "stream",
     "text": [
      "Epoch:  22\n",
      "t_loss:  0.4535530361474729 , v_loss:  0.8014403084913889\n",
      "t_acc:  0.6958827199001871 , v_acc:  0.6845238095238095\n",
      "t_recall:  0.5 , v_recall:  0.5\n",
      "t_prec:  0.34794135995009356 , v_prec:  0.34226190476190477\n",
      "t_f:  0.41033658267426887 , v_f:  0.40636042402826855\n",
      "////////\n"
     ]
    },
    {
     "name": "stderr",
     "output_type": "stream",
     "text": [
      "\r",
      "Iterations:   8%|██▋                               | 24/300 [00:28<05:25,  1.18s/it]"
     ]
    },
    {
     "name": "stdout",
     "output_type": "stream",
     "text": [
      "Epoch  23 , loss 0.45887622237205505\n",
      "Epoch  24 , loss 0.4563586168429431\n"
     ]
    },
    {
     "name": "stderr",
     "output_type": "stream",
     "text": [
      "\r",
      "Iterations:   8%|██▊                               | 25/300 [00:30<05:54,  1.29s/it]"
     ]
    },
    {
     "name": "stdout",
     "output_type": "stream",
     "text": [
      "Epoch:  24\n",
      "t_loss:  0.4563586168429431 , v_loss:  0.7963934044043223\n",
      "t_acc:  0.6958827199001871 , v_acc:  0.6845238095238095\n",
      "t_recall:  0.5 , v_recall:  0.5\n",
      "t_prec:  0.34794135995009356 , v_prec:  0.34226190476190477\n",
      "t_f:  0.41033658267426887 , v_f:  0.40636042402826855\n",
      "////////\n"
     ]
    },
    {
     "name": "stderr",
     "output_type": "stream",
     "text": [
      "\r",
      "Iterations:   9%|██▉                               | 26/300 [00:31<05:22,  1.18s/it]"
     ]
    },
    {
     "name": "stdout",
     "output_type": "stream",
     "text": [
      "Epoch  25 , loss 0.4586293697357178\n",
      "Epoch  26 , loss 0.45742597650079164\n"
     ]
    },
    {
     "name": "stderr",
     "output_type": "stream",
     "text": [
      "\r",
      "Iterations:   9%|███                               | 27/300 [00:32<05:43,  1.26s/it]"
     ]
    },
    {
     "name": "stdout",
     "output_type": "stream",
     "text": [
      "Epoch:  26\n",
      "t_loss:  0.45742597650079164 , v_loss:  0.7912093748648962\n",
      "t_acc:  0.6958827199001871 , v_acc:  0.6845238095238095\n",
      "t_recall:  0.5 , v_recall:  0.5\n",
      "t_prec:  0.34794135995009356 , v_prec:  0.34226190476190477\n",
      "t_f:  0.41033658267426887 , v_f:  0.40636042402826855\n",
      "////////\n"
     ]
    },
    {
     "name": "stderr",
     "output_type": "stream",
     "text": [
      "\r",
      "Iterations:   9%|███▏                              | 28/300 [00:33<05:10,  1.14s/it]"
     ]
    },
    {
     "name": "stdout",
     "output_type": "stream",
     "text": [
      "Epoch  27 , loss 0.4547553249433929\n",
      "Epoch  28 , loss 0.4534875546015945\n"
     ]
    },
    {
     "name": "stderr",
     "output_type": "stream",
     "text": [
      "\r",
      "Iterations:  10%|███▎                              | 29/300 [00:35<05:43,  1.27s/it]"
     ]
    },
    {
     "name": "stdout",
     "output_type": "stream",
     "text": [
      "Epoch:  28\n",
      "t_loss:  0.4534875546015945 , v_loss:  0.7868480980396271\n",
      "t_acc:  0.6958827199001871 , v_acc:  0.6845238095238095\n",
      "t_recall:  0.5 , v_recall:  0.5\n",
      "t_prec:  0.34794135995009356 , v_prec:  0.34226190476190477\n",
      "t_f:  0.41033658267426887 , v_f:  0.40636042402826855\n",
      "////////\n"
     ]
    },
    {
     "name": "stderr",
     "output_type": "stream",
     "text": [
      "\r",
      "Iterations:  10%|███▍                              | 30/300 [00:36<05:11,  1.15s/it]"
     ]
    },
    {
     "name": "stdout",
     "output_type": "stream",
     "text": [
      "Epoch  29 , loss 0.4510825048474705\n",
      "Epoch  30 , loss 0.45367802358141135\n"
     ]
    },
    {
     "name": "stderr",
     "output_type": "stream",
     "text": [
      "\r",
      "Iterations:  10%|███▌                              | 31/300 [00:37<05:36,  1.25s/it]"
     ]
    },
    {
     "name": "stdout",
     "output_type": "stream",
     "text": [
      "Epoch:  30\n",
      "t_loss:  0.45367802358141135 , v_loss:  0.7872126201788584\n",
      "t_acc:  0.6955708047411104 , v_acc:  0.6845238095238095\n",
      "t_recall:  0.4997758852532497 , v_recall:  0.5\n",
      "t_prec:  0.34789391575663026 , v_prec:  0.34226190476190477\n",
      "t_f:  0.41022810890360556 , v_f:  0.40636042402826855\n",
      "////////\n"
     ]
    },
    {
     "name": "stderr",
     "output_type": "stream",
     "text": [
      "\r",
      "Iterations:  11%|███▋                              | 32/300 [00:38<05:19,  1.19s/it]"
     ]
    },
    {
     "name": "stdout",
     "output_type": "stream",
     "text": [
      "Epoch  31 , loss 0.4472474239620508\n",
      "Epoch  32 , loss 0.44289496073535845\n"
     ]
    },
    {
     "name": "stderr",
     "output_type": "stream",
     "text": [
      "\r",
      "Iterations:  11%|███▋                              | 33/300 [00:39<05:31,  1.24s/it]"
     ]
    },
    {
     "name": "stdout",
     "output_type": "stream",
     "text": [
      "Epoch:  32\n",
      "t_loss:  0.44289496073535845 , v_loss:  0.7840856065352758\n",
      "t_acc:  0.6961946350592639 , v_acc:  0.6845238095238095\n",
      "t_recall:  0.5005128205128205 , v_recall:  0.5\n",
      "t_prec:  0.8480499219968799 , v_prec:  0.34226190476190477\n",
      "t_f:  0.4114366578607703 , v_f:  0.40636042402826855\n",
      "////////\n"
     ]
    },
    {
     "name": "stderr",
     "output_type": "stream",
     "text": [
      "\r",
      "Iterations:  11%|███▊                              | 34/300 [00:40<05:05,  1.15s/it]"
     ]
    },
    {
     "name": "stdout",
     "output_type": "stream",
     "text": [
      "Epoch  33 , loss 0.4479093820441003\n",
      "Epoch  34 , loss 0.44451799287515525\n"
     ]
    },
    {
     "name": "stderr",
     "output_type": "stream",
     "text": [
      "\r",
      "Iterations:  12%|███▉                              | 35/300 [00:42<05:23,  1.22s/it]"
     ]
    },
    {
     "name": "stdout",
     "output_type": "stream",
     "text": [
      "Epoch:  34\n",
      "t_loss:  0.44451799287515525 , v_loss:  0.7764611740907034\n",
      "t_acc:  0.6955708047411104 , v_acc:  0.6845238095238095\n",
      "t_recall:  0.4997758852532497 , v_recall:  0.5\n",
      "t_prec:  0.34789391575663026 , v_prec:  0.34226190476190477\n",
      "t_f:  0.41022810890360556 , v_f:  0.40636042402826855\n",
      "////////\n"
     ]
    },
    {
     "name": "stderr",
     "output_type": "stream",
     "text": [
      "\r",
      "Iterations:  12%|████                              | 36/300 [00:43<05:00,  1.14s/it]"
     ]
    },
    {
     "name": "stdout",
     "output_type": "stream",
     "text": [
      "Epoch  35 , loss 0.4557226639167935\n",
      "Epoch  36 , loss 0.4404328710892621\n"
     ]
    },
    {
     "name": "stderr",
     "output_type": "stream",
     "text": [
      "\r",
      "Iterations:  12%|████▏                             | 37/300 [00:44<05:36,  1.28s/it]"
     ]
    },
    {
     "name": "stdout",
     "output_type": "stream",
     "text": [
      "Epoch:  36\n",
      "t_loss:  0.4404328710892621 , v_loss:  0.767378032207489\n",
      "t_acc:  0.6958827199001871 , v_acc:  0.6845238095238095\n",
      "t_recall:  0.5 , v_recall:  0.5\n",
      "t_prec:  0.34794135995009356 , v_prec:  0.34226190476190477\n",
      "t_f:  0.41033658267426887 , v_f:  0.40636042402826855\n",
      "////////\n"
     ]
    },
    {
     "name": "stderr",
     "output_type": "stream",
     "text": [
      "\r",
      "Iterations:  13%|████▎                             | 38/300 [00:45<05:15,  1.20s/it]"
     ]
    },
    {
     "name": "stdout",
     "output_type": "stream",
     "text": [
      "Epoch  37 , loss 0.44854772967450757\n",
      "Epoch  38 , loss 0.44513800740242004\n"
     ]
    },
    {
     "name": "stderr",
     "output_type": "stream",
     "text": [
      "\r",
      "Iterations:  13%|████▍                             | 39/300 [00:47<05:35,  1.29s/it]"
     ]
    },
    {
     "name": "stdout",
     "output_type": "stream",
     "text": [
      "Epoch:  38\n",
      "t_loss:  0.44513800740242004 , v_loss:  0.7680456340312958\n",
      "t_acc:  0.6958827199001871 , v_acc:  0.6845238095238095\n",
      "t_recall:  0.5 , v_recall:  0.5\n",
      "t_prec:  0.34794135995009356 , v_prec:  0.34226190476190477\n",
      "t_f:  0.41033658267426887 , v_f:  0.40636042402826855\n",
      "////////\n"
     ]
    },
    {
     "name": "stderr",
     "output_type": "stream",
     "text": [
      "\r",
      "Iterations:  13%|████▌                             | 40/300 [00:48<05:01,  1.16s/it]"
     ]
    },
    {
     "name": "stdout",
     "output_type": "stream",
     "text": [
      "Epoch  39 , loss 0.4382408933312285\n",
      "Epoch  40 , loss 0.4412844648548201\n"
     ]
    },
    {
     "name": "stderr",
     "output_type": "stream",
     "text": [
      "\r",
      "Iterations:  14%|████▋                             | 41/300 [00:49<05:19,  1.24s/it]"
     ]
    },
    {
     "name": "stdout",
     "output_type": "stream",
     "text": [
      "Epoch:  40\n",
      "t_loss:  0.4412844648548201 , v_loss:  0.7737602144479752\n",
      "t_acc:  0.6952588895820336 , v_acc:  0.6845238095238095\n",
      "t_recall:  0.49955177050649935 , v_recall:  0.5\n",
      "t_prec:  0.34784644194756553 , v_prec:  0.34226190476190477\n",
      "t_f:  0.41011959521619135 , v_f:  0.40636042402826855\n",
      "////////\n"
     ]
    },
    {
     "name": "stderr",
     "output_type": "stream",
     "text": [
      "\r",
      "Iterations:  14%|████▊                             | 42/300 [00:50<04:49,  1.12s/it]"
     ]
    },
    {
     "name": "stdout",
     "output_type": "stream",
     "text": [
      "Epoch  41 , loss 0.4462078827268937\n",
      "Epoch  42 , loss 0.43914517935584574\n"
     ]
    },
    {
     "name": "stderr",
     "output_type": "stream",
     "text": [
      "\r",
      "Iterations:  14%|████▊                             | 43/300 [00:52<05:20,  1.25s/it]"
     ]
    },
    {
     "name": "stdout",
     "output_type": "stream",
     "text": [
      "Epoch:  42\n",
      "t_loss:  0.43914517935584574 , v_loss:  0.7643565038839976\n",
      "t_acc:  0.6961946350592639 , v_acc:  0.6845238095238095\n",
      "t_recall:  0.5005128205128205 , v_recall:  0.5\n",
      "t_prec:  0.8480499219968799 , v_prec:  0.34226190476190477\n",
      "t_f:  0.4114366578607703 , v_f:  0.40636042402826855\n",
      "////////\n"
     ]
    },
    {
     "name": "stderr",
     "output_type": "stream",
     "text": [
      "\r",
      "Iterations:  15%|████▉                             | 44/300 [00:52<04:57,  1.16s/it]"
     ]
    },
    {
     "name": "stdout",
     "output_type": "stream",
     "text": [
      "Epoch  43 , loss 0.4357392717810238\n",
      "Epoch  44 , loss 0.4366859437203875\n"
     ]
    },
    {
     "name": "stderr",
     "output_type": "stream",
     "text": [
      "\r",
      "Iterations:  15%|█████                             | 45/300 [00:54<05:15,  1.24s/it]"
     ]
    },
    {
     "name": "stdout",
     "output_type": "stream",
     "text": [
      "Epoch:  44\n",
      "t_loss:  0.4366859437203875 , v_loss:  0.7620716989040375\n",
      "t_acc:  0.6958827199001871 , v_acc:  0.6845238095238095\n",
      "t_recall:  0.5008661172982105 , v_recall:  0.5\n",
      "t_prec:  0.598125 , v_prec:  0.34226190476190477\n",
      "t_f:  0.4132956292931562 , v_f:  0.40636042402826855\n",
      "////////\n"
     ]
    },
    {
     "name": "stderr",
     "output_type": "stream",
     "text": [
      "\r",
      "Iterations:  15%|█████▏                            | 46/300 [00:55<04:57,  1.17s/it]"
     ]
    },
    {
     "name": "stdout",
     "output_type": "stream",
     "text": [
      "Epoch  45 , loss 0.430662940530216\n",
      "Epoch  46 , loss 0.4373718611165589\n"
     ]
    },
    {
     "name": "stderr",
     "output_type": "stream",
     "text": [
      "\r",
      "Iterations:  16%|█████▎                            | 47/300 [00:56<05:09,  1.23s/it]"
     ]
    },
    {
     "name": "stdout",
     "output_type": "stream",
     "text": [
      "Epoch:  46\n",
      "t_loss:  0.4373718611165589 , v_loss:  0.7584083477656046\n",
      "t_acc:  0.6955708047411104 , v_acc:  0.6845238095238095\n",
      "t_recall:  0.5006420025514602 , v_recall:  0.5\n",
      "t_prec:  0.562363238512035 , v_prec:  0.34226190476190477\n",
      "t_f:  0.41318390326053117 , v_f:  0.40636042402826855\n",
      "////////\n"
     ]
    },
    {
     "name": "stderr",
     "output_type": "stream",
     "text": [
      "\r",
      "Iterations:  16%|█████▍                            | 48/300 [00:57<04:42,  1.12s/it]"
     ]
    },
    {
     "name": "stdout",
     "output_type": "stream",
     "text": [
      "Epoch  47 , loss 0.4345419325080572\n",
      "Epoch  48 , loss 0.43576129686598686\n"
     ]
    },
    {
     "name": "stderr",
     "output_type": "stream",
     "text": [
      "\r",
      "Iterations:  16%|█████▌                            | 49/300 [00:59<05:10,  1.24s/it]"
     ]
    },
    {
     "name": "stdout",
     "output_type": "stream",
     "text": [
      "Epoch:  48\n",
      "t_loss:  0.43576129686598686 , v_loss:  0.74856964747111\n",
      "t_acc:  0.6952588895820336 , v_acc:  0.6845238095238095\n",
      "t_recall:  0.5004178878047099 , v_recall:  0.5\n",
      "t_prec:  0.535530018761726 , v_prec:  0.34226190476190477\n",
      "t_f:  0.41307214355219424 , v_f:  0.40636042402826855\n",
      "////////\n"
     ]
    },
    {
     "name": "stderr",
     "output_type": "stream",
     "text": [
      "\r",
      "Iterations:  17%|█████▋                            | 50/300 [01:00<04:55,  1.18s/it]"
     ]
    },
    {
     "name": "stdout",
     "output_type": "stream",
     "text": [
      "Epoch  49 , loss 0.4302426126657748\n",
      "Epoch  50 , loss 0.44170936708356817\n"
     ]
    },
    {
     "name": "stderr",
     "output_type": "stream",
     "text": [
      "\r",
      "Iterations:  17%|█████▊                            | 51/300 [01:01<05:11,  1.25s/it]"
     ]
    },
    {
     "name": "stdout",
     "output_type": "stream",
     "text": [
      "Epoch:  50\n",
      "t_loss:  0.44170936708356817 , v_loss:  0.7489724258581797\n",
      "t_acc:  0.6958827199001871 , v_acc:  0.6845238095238095\n",
      "t_recall:  0.5005774115321404 , v_recall:  0.5\n",
      "t_prec:  0.5980637101811368 , v_prec:  0.34226190476190477\n",
      "t_f:  0.41231346966585436 , v_f:  0.40636042402826855\n",
      "////////\n"
     ]
    },
    {
     "name": "stderr",
     "output_type": "stream",
     "text": [
      "\r",
      "Iterations:  17%|█████▉                            | 52/300 [01:02<04:41,  1.14s/it]"
     ]
    },
    {
     "name": "stdout",
     "output_type": "stream",
     "text": [
      "Epoch  51 , loss 0.42822263901140173\n",
      "Epoch  52 , loss 0.43205231252838583\n"
     ]
    },
    {
     "name": "stderr",
     "output_type": "stream",
     "text": [
      "\r",
      "Iterations:  18%|██████                            | 53/300 [01:03<05:02,  1.23s/it]"
     ]
    },
    {
     "name": "stdout",
     "output_type": "stream",
     "text": [
      "Epoch:  52\n",
      "t_loss:  0.43205231252838583 , v_loss:  0.7494335025548935\n",
      "t_acc:  0.6971303805364941 , v_acc:  0.6845238095238095\n",
      "t_recall:  0.5026286935834224 , v_recall:  0.5\n",
      "t_prec:  0.7234990619136961 , v_prec:  0.34226190476190477\n",
      "t_f:  0.4166766134996731 , v_f:  0.40636042402826855\n",
      "////////\n"
     ]
    },
    {
     "name": "stderr",
     "output_type": "stream",
     "text": [
      "\r",
      "Iterations:  18%|██████                            | 54/300 [01:04<04:36,  1.12s/it]"
     ]
    },
    {
     "name": "stdout",
     "output_type": "stream",
     "text": [
      "Epoch  53 , loss 0.4350549654633391\n",
      "Epoch  54 , loss 0.43416768955249413\n"
     ]
    },
    {
     "name": "stderr",
     "output_type": "stream",
     "text": [
      "\r",
      "Iterations:  18%|██████▏                           | 55/300 [01:06<04:59,  1.22s/it]"
     ]
    },
    {
     "name": "stdout",
     "output_type": "stream",
     "text": [
      "Epoch:  54\n",
      "t_loss:  0.43416768955249413 , v_loss:  0.7442436714967092\n",
      "t_acc:  0.6977542108546475 , v_acc:  0.6845238095238095\n",
      "t_recall:  0.5033656288429933 , v_recall:  0.5\n",
      "t_prec:  0.7861554096310194 , v_prec:  0.34226190476190477\n",
      "t_f:  0.4178781034821661 , v_f:  0.40636042402826855\n",
      "////////\n"
     ]
    },
    {
     "name": "stderr",
     "output_type": "stream",
     "text": [
      "\r",
      "Iterations:  19%|██████▎                           | 56/300 [01:07<04:38,  1.14s/it]"
     ]
    },
    {
     "name": "stdout",
     "output_type": "stream",
     "text": [
      "Epoch  55 , loss 0.4229712024623272\n",
      "Epoch  56 , loss 0.43357698648583654\n"
     ]
    },
    {
     "name": "stderr",
     "output_type": "stream",
     "text": [
      "\r",
      "Iterations:  19%|██████▍                           | 57/300 [01:08<04:51,  1.20s/it]"
     ]
    },
    {
     "name": "stdout",
     "output_type": "stream",
     "text": [
      "Epoch:  56\n",
      "t_loss:  0.43357698648583654 , v_loss:  0.7457086741924286\n",
      "t_acc:  0.6952588895820336 , v_acc:  0.6845238095238095\n",
      "t_recall:  0.5018614166350608 , v_recall:  0.5\n",
      "t_prec:  0.5705597379060365 , v_prec:  0.34226190476190477\n",
      "t_f:  0.41791061140848085 , v_f:  0.40636042402826855\n",
      "////////\n"
     ]
    },
    {
     "name": "stderr",
     "output_type": "stream",
     "text": [
      "\r",
      "Iterations:  19%|██████▌                           | 58/300 [01:09<04:29,  1.11s/it]"
     ]
    },
    {
     "name": "stdout",
     "output_type": "stream",
     "text": [
      "Epoch  57 , loss 0.4314120543353698\n",
      "Epoch  58 , loss 0.4362201608863531\n"
     ]
    },
    {
     "name": "stderr",
     "output_type": "stream",
     "text": [
      "\r",
      "Iterations:  20%|██████▋                           | 59/300 [01:10<04:47,  1.19s/it]"
     ]
    },
    {
     "name": "stdout",
     "output_type": "stream",
     "text": [
      "Epoch:  58\n",
      "t_loss:  0.4362201608863531 , v_loss:  0.7409655104080836\n",
      "t_acc:  0.6986899563318777 , v_acc:  0.6845238095238095\n",
      "t_recall:  0.5075024422760864 , v_recall:  0.5\n",
      "t_prec:  0.6771298014826392 , v_prec:  0.34226190476190477\n",
      "t_f:  0.42961217261132983 , v_f:  0.40636042402826855\n",
      "////////\n"
     ]
    },
    {
     "name": "stderr",
     "output_type": "stream",
     "text": [
      "\r",
      "Iterations:  20%|██████▊                           | 60/300 [01:11<04:29,  1.12s/it]"
     ]
    },
    {
     "name": "stdout",
     "output_type": "stream",
     "text": [
      "Epoch  59 , loss 0.43264543308931236\n",
      "Epoch  60 , loss 0.4260542246640897\n"
     ]
    },
    {
     "name": "stderr",
     "output_type": "stream",
     "text": [
      "\r",
      "Iterations:  20%|██████▉                           | 61/300 [01:13<05:00,  1.26s/it]"
     ]
    },
    {
     "name": "stdout",
     "output_type": "stream",
     "text": [
      "Epoch:  60\n",
      "t_loss:  0.4260542246640897 , v_loss:  0.7404863884051641\n",
      "t_acc:  0.7002495321272614 , v_acc:  0.6845238095238095\n",
      "t_recall:  0.5074681929455573 , v_recall:  0.5\n",
      "t_prec:  0.8182797805642633 , v_prec:  0.34226190476190477\n",
      "t_f:  0.42649944315292154 , v_f:  0.40636042402826855\n",
      "////////\n"
     ]
    },
    {
     "name": "stderr",
     "output_type": "stream",
     "text": [
      "\r",
      "Iterations:  21%|███████                           | 62/300 [01:14<04:38,  1.17s/it]"
     ]
    },
    {
     "name": "stdout",
     "output_type": "stream",
     "text": [
      "Epoch  61 , loss 0.4255541107233833\n",
      "Epoch  62 , loss 0.43107520014631984\n"
     ]
    },
    {
     "name": "stderr",
     "output_type": "stream",
     "text": [
      "\r",
      "Iterations:  21%|███████▏                          | 63/300 [01:15<04:55,  1.25s/it]"
     ]
    },
    {
     "name": "stdout",
     "output_type": "stream",
     "text": [
      "Epoch:  62\n",
      "t_loss:  0.43107520014631984 , v_loss:  0.7395405620336533\n",
      "t_acc:  0.6977542108546475 , v_acc:  0.6845238095238095\n",
      "t_recall:  0.5059639807376248 , v_recall:  0.5\n",
      "t_prec:  0.6569061441702951 , v_prec:  0.34226190476190477\n",
      "t_f:  0.42644418970421555 , v_f:  0.40636042402826855\n",
      "////////\n"
     ]
    },
    {
     "name": "stderr",
     "output_type": "stream",
     "text": [
      "\r",
      "Iterations:  21%|███████▎                          | 64/300 [01:16<04:25,  1.13s/it]"
     ]
    },
    {
     "name": "stdout",
     "output_type": "stream",
     "text": [
      "Epoch  63 , loss 0.4260100897620706\n",
      "Epoch  64 , loss 0.42867327437681313\n"
     ]
    },
    {
     "name": "stderr",
     "output_type": "stream",
     "text": [
      "\r",
      "Iterations:  22%|███████▎                          | 65/300 [01:18<04:48,  1.23s/it]"
     ]
    },
    {
     "name": "stdout",
     "output_type": "stream",
     "text": [
      "Epoch:  64\n",
      "t_loss:  0.42867327437681313 , v_loss:  0.7383053451776505\n",
      "t_acc:  0.6990018714909545 , v_acc:  0.6845238095238095\n",
      "t_recall:  0.5071491454906963 , v_recall:  0.5\n",
      "t_prec:  0.7036324114812487 , v_prec:  0.34226190476190477\n",
      "t_f:  0.42787975487033314 , v_f:  0.40636042402826855\n",
      "////////\n"
     ]
    },
    {
     "name": "stderr",
     "output_type": "stream",
     "text": [
      "\r",
      "Iterations:  22%|███████▍                          | 66/300 [01:18<04:21,  1.12s/it]"
     ]
    },
    {
     "name": "stdout",
     "output_type": "stream",
     "text": [
      "Epoch  65 , loss 0.4282867914321376\n",
      "Epoch  66 , loss 0.4213830203402276\n"
     ]
    },
    {
     "name": "stderr",
     "output_type": "stream",
     "text": [
      "\r",
      "Iterations:  22%|███████▌                          | 67/300 [01:20<04:41,  1.21s/it]"
     ]
    },
    {
     "name": "stdout",
     "output_type": "stream",
     "text": [
      "Epoch:  66\n",
      "t_loss:  0.4213830203402276 , v_loss:  0.7367796500523885\n",
      "t_acc:  0.6990018714909545 , v_acc:  0.6845238095238095\n",
      "t_recall:  0.5068604397246262 , v_recall:  0.5\n",
      "t_prec:  0.713039629968022 , v_prec:  0.34226190476190477\n",
      "t_f:  0.42694380463643933 , v_f:  0.40636042402826855\n",
      "////////\n"
     ]
    },
    {
     "name": "stderr",
     "output_type": "stream",
     "text": [
      "\r",
      "Iterations:  23%|███████▋                          | 68/300 [01:21<04:29,  1.16s/it]"
     ]
    },
    {
     "name": "stdout",
     "output_type": "stream",
     "text": [
      "Epoch  67 , loss 0.430163257262286\n",
      "Epoch  68 , loss 0.4236820544682297\n"
     ]
    },
    {
     "name": "stderr",
     "output_type": "stream",
     "text": [
      "\r",
      "Iterations:  23%|███████▊                          | 69/300 [01:22<04:42,  1.22s/it]"
     ]
    },
    {
     "name": "stdout",
     "output_type": "stream",
     "text": [
      "Epoch:  68\n",
      "t_loss:  0.4236820544682297 , v_loss:  0.7341578404108683\n",
      "t_acc:  0.6977542108546475 , v_acc:  0.6845238095238095\n",
      "t_recall:  0.506252686503695 , v_recall:  0.5\n",
      "t_prec:  0.6528477029578351 , v_prec:  0.34226190476190477\n",
      "t_f:  0.4273762185434822 , v_f:  0.40636042402826855\n",
      "////////\n"
     ]
    },
    {
     "name": "stderr",
     "output_type": "stream",
     "text": [
      "\r",
      "Iterations:  23%|███████▉                          | 70/300 [01:23<04:17,  1.12s/it]"
     ]
    },
    {
     "name": "stdout",
     "output_type": "stream",
     "text": [
      "Epoch  69 , loss 0.41955887394792896\n",
      "Epoch  70 , loss 0.4287627216647653\n"
     ]
    },
    {
     "name": "stderr",
     "output_type": "stream",
     "text": [
      "\r",
      "Iterations:  24%|████████                          | 71/300 [01:25<04:34,  1.20s/it]"
     ]
    },
    {
     "name": "stdout",
     "output_type": "stream",
     "text": [
      "Epoch:  70\n",
      "t_loss:  0.4287627216647653 , v_loss:  0.733625516295433\n",
      "t_acc:  0.6971303805364941 , v_acc:  0.6845238095238095\n",
      "t_recall:  0.5055157512441242 , v_recall:  0.5\n",
      "t_prec:  0.6348332284455632 , v_prec:  0.34226190476190477\n",
      "t_f:  0.42619433251364414 , v_f:  0.40636042402826855\n",
      "////////\n"
     ]
    },
    {
     "name": "stderr",
     "output_type": "stream",
     "text": [
      "\r",
      "Iterations:  24%|████████▏                         | 72/300 [01:26<04:21,  1.14s/it]"
     ]
    },
    {
     "name": "stdout",
     "output_type": "stream",
     "text": [
      "Epoch  71 , loss 0.4163963338908027\n",
      "Epoch  72 , loss 0.4273488048244925\n"
     ]
    },
    {
     "name": "stderr",
     "output_type": "stream",
     "text": [
      "\r",
      "Iterations:  24%|████████▎                         | 73/300 [01:27<04:54,  1.30s/it]"
     ]
    },
    {
     "name": "stdout",
     "output_type": "stream",
     "text": [
      "Epoch:  72\n",
      "t_loss:  0.4273488048244925 , v_loss:  0.7443751841783524\n",
      "t_acc:  0.7014971927635683 , v_acc:  0.6845238095238095\n",
      "t_recall:  0.512117826891471 , v_recall:  0.5\n",
      "t_prec:  0.7189576687931951 , v_prec:  0.34226190476190477\n",
      "t_f:  0.4390131476579609 , v_f:  0.40636042402826855\n",
      "////////\n"
     ]
    },
    {
     "name": "stderr",
     "output_type": "stream",
     "text": [
      "\r",
      "Iterations:  25%|████████▍                         | 74/300 [01:28<04:28,  1.19s/it]"
     ]
    },
    {
     "name": "stdout",
     "output_type": "stream",
     "text": [
      "Epoch  73 , loss 0.4233229572282118\n",
      "Epoch  74 , loss 0.4242941427464579\n"
     ]
    },
    {
     "name": "stderr",
     "output_type": "stream",
     "text": [
      "\r",
      "Iterations:  25%|████████▌                         | 75/300 [01:30<04:41,  1.25s/it]"
     ]
    },
    {
     "name": "stdout",
     "output_type": "stream",
     "text": [
      "Epoch:  74\n",
      "t_loss:  0.4242941427464579 , v_loss:  0.747024342417717\n",
      "t_acc:  0.6968184653774173 , v_acc:  0.6845238095238095\n",
      "t_recall:  0.505580342263444 , v_recall:  0.5\n",
      "t_prec:  0.6233274066548133 , v_prec:  0.34226190476190477\n",
      "t_f:  0.42699849736210926 , v_f:  0.40636042402826855\n",
      "////////\n"
     ]
    },
    {
     "name": "stderr",
     "output_type": "stream",
     "text": [
      "\r",
      "Iterations:  25%|████████▌                         | 76/300 [01:30<04:13,  1.13s/it]"
     ]
    },
    {
     "name": "stdout",
     "output_type": "stream",
     "text": [
      "Epoch  75 , loss 0.4196648907427694\n",
      "Epoch  76 , loss 0.4199110073786156\n"
     ]
    },
    {
     "name": "stderr",
     "output_type": "stream",
     "text": [
      "\r",
      "Iterations:  26%|████████▋                         | 77/300 [01:32<04:35,  1.24s/it]"
     ]
    },
    {
     "name": "stdout",
     "output_type": "stream",
     "text": [
      "Epoch:  76\n",
      "t_loss:  0.4199110073786156 , v_loss:  0.7430932422478994\n",
      "t_acc:  0.7005614472863381 , v_acc:  0.6845238095238095\n",
      "t_recall:  0.5108680711190796 , v_recall:  0.5\n",
      "t_prec:  0.7016195747656777 , v_prec:  0.34226190476190477\n",
      "t_f:  0.43680281071585425 , v_f:  0.40636042402826855\n",
      "////////\n"
     ]
    },
    {
     "name": "stderr",
     "output_type": "stream",
     "text": [
      "\r",
      "Iterations:  26%|████████▊                         | 78/300 [01:33<04:11,  1.13s/it]"
     ]
    },
    {
     "name": "stdout",
     "output_type": "stream",
     "text": [
      "Epoch  77 , loss 0.4206073576328801\n",
      "Epoch  78 , loss 0.41637534721224917\n"
     ]
    },
    {
     "name": "stderr",
     "output_type": "stream",
     "text": [
      "\r",
      "Iterations:  26%|████████▉                         | 79/300 [01:34<04:32,  1.23s/it]"
     ]
    },
    {
     "name": "stdout",
     "output_type": "stream",
     "text": [
      "Epoch:  78\n",
      "t_loss:  0.41637534721224917 , v_loss:  0.7378885000944138\n",
      "t_acc:  0.7002495321272614 , v_acc:  0.6845238095238095\n",
      "t_recall:  0.5097778390741188 , v_recall:  0.5\n",
      "t_prec:  0.7094065059861374 , v_prec:  0.34226190476190477\n",
      "t_f:  0.43394095172828134 , v_f:  0.40636042402826855\n",
      "////////\n"
     ]
    },
    {
     "name": "stderr",
     "output_type": "stream",
     "text": [
      "\r",
      "Iterations:  27%|█████████                         | 80/300 [01:35<04:16,  1.17s/it]"
     ]
    },
    {
     "name": "stdout",
     "output_type": "stream",
     "text": [
      "Epoch  79 , loss 0.41965755119043235\n",
      "Epoch  80 , loss 0.4139022654762455\n"
     ]
    },
    {
     "name": "stderr",
     "output_type": "stream",
     "text": [
      "\r",
      "Iterations:  27%|█████████▏                        | 81/300 [01:37<04:29,  1.23s/it]"
     ]
    },
    {
     "name": "stdout",
     "output_type": "stream",
     "text": [
      "Epoch:  80\n",
      "t_loss:  0.4139022654762455 , v_loss:  0.7385194798310598\n",
      "t_acc:  0.698378041172801 , v_acc:  0.6845238095238095\n",
      "t_recall:  0.5069896217632659 , v_recall:  0.5\n",
      "t_prec:  0.670862177470107 , v_prec:  0.34226190476190477\n",
      "t_f:  0.42855810457332016 , v_f:  0.40636042402826855\n",
      "////////\n"
     ]
    },
    {
     "name": "stderr",
     "output_type": "stream",
     "text": [
      "\r",
      "Iterations:  27%|█████████▎                        | 82/300 [01:38<04:13,  1.16s/it]"
     ]
    },
    {
     "name": "stdout",
     "output_type": "stream",
     "text": [
      "Epoch  81 , loss 0.4249162644732232\n",
      "Epoch  82 , loss 0.43025096608143226\n"
     ]
    },
    {
     "name": "stderr",
     "output_type": "stream",
     "text": [
      "\r",
      "Iterations:  28%|█████████▍                        | 83/300 [01:39<04:24,  1.22s/it]"
     ]
    },
    {
     "name": "stdout",
     "output_type": "stream",
     "text": [
      "Epoch:  82\n",
      "t_loss:  0.43025096608143226 , v_loss:  0.7450440376996994\n",
      "t_acc:  0.7021210230817218 , v_acc:  0.6845238095238095\n",
      "t_recall:  0.5140095852153226 , v_recall:  0.5\n",
      "t_prec:  0.7096450192625205 , v_prec:  0.34226190476190477\n",
      "t_f:  0.44374770516609924 , v_f:  0.40636042402826855\n",
      "////////\n"
     ]
    },
    {
     "name": "stderr",
     "output_type": "stream",
     "text": [
      "\r",
      "Iterations:  28%|█████████▌                        | 84/300 [01:40<04:02,  1.12s/it]"
     ]
    },
    {
     "name": "stdout",
     "output_type": "stream",
     "text": [
      "Epoch  83 , loss 0.41971127192179364\n",
      "Epoch  84 , loss 0.41732002224992304\n"
     ]
    },
    {
     "name": "stderr",
     "output_type": "stream",
     "text": [
      "\r",
      "Iterations:  28%|█████████▋                        | 85/300 [01:41<04:24,  1.23s/it]"
     ]
    },
    {
     "name": "stdout",
     "output_type": "stream",
     "text": [
      "Epoch:  84\n",
      "t_loss:  0.41732002224992304 , v_loss:  0.7432822287082672\n",
      "t_acc:  0.7005614472863381 , v_acc:  0.6845238095238095\n",
      "t_recall:  0.5117341884172901 , v_recall:  0.5\n",
      "t_prec:  0.6876677278709498 , v_prec:  0.34226190476190477\n",
      "t_f:  0.43949946568005044 , v_f:  0.40636042402826855\n",
      "////////\n"
     ]
    },
    {
     "name": "stderr",
     "output_type": "stream",
     "text": [
      "\r",
      "Iterations:  29%|█████████▋                        | 86/300 [01:42<04:15,  1.20s/it]"
     ]
    },
    {
     "name": "stdout",
     "output_type": "stream",
     "text": [
      "Epoch  85 , loss 0.4190768085274042\n",
      "Epoch  86 , loss 0.41723259903636634\n"
     ]
    },
    {
     "name": "stderr",
     "output_type": "stream",
     "text": [
      "\r",
      "Iterations:  29%|█████████▊                        | 87/300 [01:44<04:32,  1.28s/it]"
     ]
    },
    {
     "name": "stdout",
     "output_type": "stream",
     "text": [
      "Epoch:  86\n",
      "t_loss:  0.41723259903636634 , v_loss:  0.739357978105545\n",
      "t_acc:  0.6993137866500312 , v_acc:  0.6845238095238095\n",
      "t_recall:  0.509394200599938 , v_recall:  0.5\n",
      "t_prec:  0.6742769907806196 , v_prec:  0.34226190476190477\n",
      "t_f:  0.43445615576050356 , v_f:  0.40636042402826855\n",
      "////////\n"
     ]
    },
    {
     "name": "stderr",
     "output_type": "stream",
     "text": [
      "\r",
      "Iterations:  29%|█████████▉                        | 88/300 [01:45<04:03,  1.15s/it]"
     ]
    },
    {
     "name": "stdout",
     "output_type": "stream",
     "text": [
      "Epoch  87 , loss 0.41418835520744324\n",
      "Epoch  88 , loss 0.41625097160245855\n"
     ]
    },
    {
     "name": "stderr",
     "output_type": "stream",
     "text": [
      "\r",
      "Iterations:  30%|██████████                        | 89/300 [01:46<04:17,  1.22s/it]"
     ]
    },
    {
     "name": "stdout",
     "output_type": "stream",
     "text": [
      "Epoch:  88\n",
      "t_loss:  0.41625097160245855 , v_loss:  0.7463827778895696\n",
      "t_acc:  0.7008733624454149 , v_acc:  0.6845238095238095\n",
      "t_recall:  0.5131131262283212 , v_recall:  0.5\n",
      "t_prec:  0.6807604562737642 , v_prec:  0.34226190476190477\n",
      "t_f:  0.4431845409228178 , v_f:  0.40636042402826855\n",
      "////////\n"
     ]
    },
    {
     "name": "stderr",
     "output_type": "stream",
     "text": [
      "\r",
      "Iterations:  30%|██████████▏                       | 90/300 [01:47<03:55,  1.12s/it]"
     ]
    },
    {
     "name": "stdout",
     "output_type": "stream",
     "text": [
      "Epoch  89 , loss 0.4111981584745295\n",
      "Epoch  90 , loss 0.4238458275794983\n"
     ]
    },
    {
     "name": "stderr",
     "output_type": "stream",
     "text": [
      "\r",
      "Iterations:  30%|██████████▎                       | 91/300 [01:49<04:20,  1.25s/it]"
     ]
    },
    {
     "name": "stdout",
     "output_type": "stream",
     "text": [
      "Epoch:  90\n",
      "t_loss:  0.4238458275794983 , v_loss:  0.745355228583018\n",
      "t_acc:  0.6980661260137243 , v_acc:  0.6845238095238095\n",
      "t_recall:  0.5087864473790068 , v_recall:  0.5\n",
      "t_prec:  0.6405237888669133 , v_prec:  0.34226190476190477\n",
      "t_f:  0.4348286278940509 , v_f:  0.40636042402826855\n",
      "////////\n"
     ]
    },
    {
     "name": "stderr",
     "output_type": "stream",
     "text": [
      "\r",
      "Iterations:  31%|██████████▍                       | 92/300 [01:50<04:00,  1.16s/it]"
     ]
    },
    {
     "name": "stdout",
     "output_type": "stream",
     "text": [
      "Epoch  91 , loss 0.41648724908922236\n",
      "Epoch  92 , loss 0.420980865464491\n"
     ]
    },
    {
     "name": "stderr",
     "output_type": "stream",
     "text": [
      "\r",
      "Iterations:  31%|██████████▌                       | 93/300 [01:51<04:13,  1.22s/it]"
     ]
    },
    {
     "name": "stdout",
     "output_type": "stream",
     "text": [
      "Epoch:  92\n",
      "t_loss:  0.420980865464491 , v_loss:  0.7428402354319891\n",
      "t_acc:  0.6980661260137243 , v_acc:  0.6845238095238095\n",
      "t_recall:  0.5099412704432875 , v_recall:  0.5\n",
      "t_prec:  0.6343929647928902 , v_prec:  0.34226190476190477\n",
      "t_f:  0.4384025004542135 , v_f:  0.40636042402826855\n",
      "////////\n"
     ]
    },
    {
     "name": "stderr",
     "output_type": "stream",
     "text": [
      "\r",
      "Iterations:  31%|██████████▋                       | 94/300 [01:52<03:53,  1.14s/it]"
     ]
    },
    {
     "name": "stdout",
     "output_type": "stream",
     "text": [
      "Epoch  93 , loss 0.4195792324402753\n",
      "Epoch  94 , loss 0.42520374702472313\n"
     ]
    },
    {
     "name": "stderr",
     "output_type": "stream",
     "text": [
      "\r",
      "Iterations:  32%|██████████▊                       | 95/300 [01:53<04:05,  1.20s/it]"
     ]
    },
    {
     "name": "stdout",
     "output_type": "stream",
     "text": [
      "Epoch:  94\n",
      "t_loss:  0.42520374702472313 , v_loss:  0.7443345189094543\n",
      "t_acc:  0.7014971927635683 , v_acc:  0.6845238095238095\n",
      "t_recall:  0.513850061487892 , v_recall:  0.5\n",
      "t_prec:  0.6909188846641319 , v_prec:  0.34226190476190477\n",
      "t_f:  0.44434578275613834 , v_f:  0.40636042402826855\n",
      "////////\n"
     ]
    },
    {
     "name": "stderr",
     "output_type": "stream",
     "text": [
      "\r",
      "Iterations:  32%|██████████▉                       | 96/300 [01:54<03:48,  1.12s/it]"
     ]
    },
    {
     "name": "stdout",
     "output_type": "stream",
     "text": [
      "Epoch  95 , loss 0.4144382009319231\n",
      "Epoch  96 , loss 0.41698423466261697\n"
     ]
    },
    {
     "name": "stderr",
     "output_type": "stream",
     "text": [
      "\r",
      "Iterations:  32%|██████████▉                       | 97/300 [01:56<04:14,  1.25s/it]"
     ]
    },
    {
     "name": "stdout",
     "output_type": "stream",
     "text": [
      "Epoch:  96\n",
      "t_loss:  0.41698423466261697 , v_loss:  0.747811958193779\n",
      "t_acc:  0.7005614472863381 , v_acc:  0.6845238095238095\n",
      "t_recall:  0.5123115999494305 , v_recall:  0.5\n",
      "t_prec:  0.6803728624059593 , v_prec:  0.34226190476190477\n",
      "t_f:  0.4412788776780949 , v_f:  0.40636042402826855\n",
      "////////\n"
     ]
    },
    {
     "name": "stderr",
     "output_type": "stream",
     "text": [
      "\r",
      "Iterations:  33%|███████████                       | 98/300 [01:57<03:57,  1.18s/it]"
     ]
    },
    {
     "name": "stdout",
     "output_type": "stream",
     "text": [
      "Epoch  97 , loss 0.4146113757993661\n",
      "Epoch  98 , loss 0.41324862194996254\n"
     ]
    },
    {
     "name": "stderr",
     "output_type": "stream",
     "text": [
      "\r",
      "Iterations:  33%|███████████▏                      | 99/300 [01:58<04:13,  1.26s/it]"
     ]
    },
    {
     "name": "stdout",
     "output_type": "stream",
     "text": [
      "Epoch:  98\n",
      "t_loss:  0.41324862194996254 , v_loss:  0.7430770397186279\n",
      "t_acc:  0.7024329382407986 , v_acc:  0.6845238095238095\n",
      "t_recall:  0.517698169154915 , v_recall:  0.5\n",
      "t_prec:  0.6778561627697468 , v_prec:  0.34226190476190477\n",
      "t_f:  0.45424353769464 , v_f:  0.40636042402826855\n",
      "////////\n"
     ]
    },
    {
     "name": "stderr",
     "output_type": "stream",
     "text": [
      "\r",
      "Iterations:  33%|███████████                      | 100/300 [01:59<03:48,  1.14s/it]"
     ]
    },
    {
     "name": "stdout",
     "output_type": "stream",
     "text": [
      "Epoch  99 , loss 0.41245079917066235\n",
      "Epoch  100 , loss 0.414164720212712\n"
     ]
    },
    {
     "name": "stderr",
     "output_type": "stream",
     "text": [
      "\r",
      "Iterations:  34%|███████████                      | 101/300 [02:00<04:03,  1.22s/it]"
     ]
    },
    {
     "name": "stdout",
     "output_type": "stream",
     "text": [
      "Epoch:  100\n",
      "t_loss:  0.414164720212712 , v_loss:  0.7473693390687307\n",
      "t_acc:  0.7039925140361821 , v_acc:  0.6845238095238095\n",
      "t_recall:  0.5185300371225965 , v_recall:  0.5\n",
      "t_prec:  0.7067789132397604 , v_prec:  0.34226190476190477\n",
      "t_f:  0.45415101702137206 , v_f:  0.40636042402826855\n",
      "////////\n"
     ]
    },
    {
     "name": "stderr",
     "output_type": "stream",
     "text": [
      "\r",
      "Iterations:  34%|███████████▏                     | 102/300 [02:01<03:42,  1.12s/it]"
     ]
    },
    {
     "name": "stdout",
     "output_type": "stream",
     "text": [
      "Epoch  101 , loss 0.41307994898627787\n",
      "Epoch  102 , loss 0.41071431484876897\n"
     ]
    },
    {
     "name": "stderr",
     "output_type": "stream",
     "text": [
      "\r",
      "Iterations:  34%|███████████▎                     | 103/300 [02:03<04:04,  1.24s/it]"
     ]
    },
    {
     "name": "stdout",
     "output_type": "stream",
     "text": [
      "Epoch:  102\n",
      "t_loss:  0.41071431484876897 , v_loss:  0.7455090085665385\n",
      "t_acc:  0.7039925140361821 , v_acc:  0.6845238095238095\n",
      "t_recall:  0.519396154420807 , v_recall:  0.5\n",
      "t_prec:  0.6977233532036141 , v_prec:  0.34226190476190477\n",
      "t_f:  0.4566845962591612 , v_f:  0.40636042402826855\n",
      "////////\n"
     ]
    },
    {
     "name": "stderr",
     "output_type": "stream",
     "text": [
      "\r",
      "Iterations:  35%|███████████▍                     | 104/300 [02:04<03:47,  1.16s/it]"
     ]
    },
    {
     "name": "stdout",
     "output_type": "stream",
     "text": [
      "Epoch  103 , loss 0.4165264607644549\n",
      "Epoch  104 , loss 0.42560963537178786\n"
     ]
    },
    {
     "name": "stderr",
     "output_type": "stream",
     "text": [
      "\r",
      "Iterations:  35%|███████████▌                     | 105/300 [02:05<03:58,  1.22s/it]"
     ]
    },
    {
     "name": "stdout",
     "output_type": "stream",
     "text": [
      "Epoch:  104\n",
      "t_loss:  0.42560963537178786 , v_loss:  0.7494072069724401\n",
      "t_acc:  0.7002495321272614 , v_acc:  0.6845238095238095\n",
      "t_recall:  0.51179877943661 , v_recall:  0.5\n",
      "t_prec:  0.6765616400660429 , v_prec:  0.34226190476190477\n",
      "t_f:  0.4402529263503888 , v_f:  0.40636042402826855\n",
      "////////\n"
     ]
    },
    {
     "name": "stderr",
     "output_type": "stream",
     "text": [
      "\r",
      "Iterations:  35%|███████████▋                     | 106/300 [02:06<03:42,  1.15s/it]"
     ]
    },
    {
     "name": "stdout",
     "output_type": "stream",
     "text": [
      "Epoch  105 , loss 0.4123283455184862\n",
      "Epoch  106 , loss 0.4196097032696593\n"
     ]
    },
    {
     "name": "stderr",
     "output_type": "stream",
     "text": [
      "\r",
      "Iterations:  36%|███████████▊                     | 107/300 [02:08<03:55,  1.22s/it]"
     ]
    },
    {
     "name": "stdout",
     "output_type": "stream",
     "text": [
      "Epoch:  106\n",
      "t_loss:  0.4196097032696593 , v_loss:  0.7573139617840449\n",
      "t_acc:  0.7055520898315658 , v_acc:  0.6845238095238095\n",
      "t_recall:  0.519361905090278 , v_recall:  0.5\n",
      "t_prec:  0.743019532038891 , v_prec:  0.34226190476190477\n",
      "t_f:  0.4540478329418811 , v_f:  0.40636042402826855\n",
      "////////\n"
     ]
    },
    {
     "name": "stderr",
     "output_type": "stream",
     "text": [
      "\r",
      "Iterations:  36%|███████████▉                     | 108/300 [02:08<03:34,  1.12s/it]"
     ]
    },
    {
     "name": "stdout",
     "output_type": "stream",
     "text": [
      "Epoch  107 , loss 0.41993212699890137\n",
      "Epoch  108 , loss 0.4207673417586906\n"
     ]
    },
    {
     "name": "stderr",
     "output_type": "stream",
     "text": [
      "\r",
      "Iterations:  36%|███████████▉                     | 109/300 [02:10<03:56,  1.24s/it]"
     ]
    },
    {
     "name": "stdout",
     "output_type": "stream",
     "text": [
      "Epoch:  108\n",
      "t_loss:  0.4207673417586906 , v_loss:  0.7530789921681086\n",
      "t_acc:  0.7018091079226451 , v_acc:  0.6845238095238095\n",
      "t_recall:  0.516672528129274 , v_recall:  0.5\n",
      "t_prec:  0.6724406004383943 , v_prec:  0.34226190476190477\n",
      "t_f:  0.4522537592439693 , v_f:  0.40636042402826855\n",
      "////////\n"
     ]
    },
    {
     "name": "stderr",
     "output_type": "stream",
     "text": [
      "\r",
      "Iterations:  37%|████████████                     | 110/300 [02:11<03:43,  1.17s/it]"
     ]
    },
    {
     "name": "stdout",
     "output_type": "stream",
     "text": [
      "Epoch  109 , loss 0.4130477209885915\n",
      "Epoch  110 , loss 0.4132365444127251\n"
     ]
    },
    {
     "name": "stderr",
     "output_type": "stream",
     "text": [
      "\r",
      "Iterations:  37%|████████████▏                    | 111/300 [02:12<03:57,  1.26s/it]"
     ]
    },
    {
     "name": "stdout",
     "output_type": "stream",
     "text": [
      "Epoch:  110\n",
      "t_loss:  0.4132365444127251 , v_loss:  0.7528234720230103\n",
      "t_acc:  0.7033686837180287 , v_acc:  0.6845238095238095\n",
      "t_recall:  0.5163495730326748 , v_recall:  0.5\n",
      "t_prec:  0.7168430808253256 , v_prec:  0.34226190476190477\n",
      "t_f:  0.44870013805523834 , v_f:  0.40636042402826855\n",
      "////////\n"
     ]
    },
    {
     "name": "stderr",
     "output_type": "stream",
     "text": [
      "\r",
      "Iterations:  37%|████████████▎                    | 112/300 [02:13<03:34,  1.14s/it]"
     ]
    },
    {
     "name": "stdout",
     "output_type": "stream",
     "text": [
      "Epoch  111 , loss 0.41520579539093316\n",
      "Epoch  112 , loss 0.4247142742661869\n"
     ]
    },
    {
     "name": "stderr",
     "output_type": "stream",
     "text": [
      "\r",
      "Iterations:  38%|████████████▍                    | 113/300 [02:15<03:49,  1.23s/it]"
     ]
    },
    {
     "name": "stdout",
     "output_type": "stream",
     "text": [
      "Epoch:  112\n",
      "t_loss:  0.4247142742661869 , v_loss:  0.7480547428131104\n",
      "t_acc:  0.7008733624454149 , v_acc:  0.6845238095238095\n",
      "t_recall:  0.5134018319943914 , v_recall:  0.5\n",
      "t_prec:  0.6777474269547827 , v_prec:  0.34226190476190477\n",
      "t_f:  0.44406249463193853 , v_f:  0.40636042402826855\n",
      "////////\n"
     ]
    },
    {
     "name": "stderr",
     "output_type": "stream",
     "text": [
      "\r",
      "Iterations:  38%|████████████▌                    | 114/300 [02:16<03:28,  1.12s/it]"
     ]
    },
    {
     "name": "stdout",
     "output_type": "stream",
     "text": [
      "Epoch  113 , loss 0.4116969336481655\n",
      "Epoch  114 , loss 0.4118871320696438\n"
     ]
    },
    {
     "name": "stderr",
     "output_type": "stream",
     "text": [
      "\r",
      "Iterations:  38%|████████████▋                    | 115/300 [02:17<03:45,  1.22s/it]"
     ]
    },
    {
     "name": "stdout",
     "output_type": "stream",
     "text": [
      "Epoch:  114\n",
      "t_loss:  0.4118871320696438 , v_loss:  0.7545505861441294\n",
      "t_acc:  0.7008733624454149 , v_acc:  0.6785714285714286\n",
      "t_recall:  0.5154227723568826 , v_recall:  0.4956521739130435\n",
      "t_prec:  0.6618799459563791 , v_prec:  0.3413173652694611\n",
      "t_f:  0.4501094664465355 , v_f:  0.4042553191489362\n",
      "////////\n"
     ]
    },
    {
     "name": "stderr",
     "output_type": "stream",
     "text": [
      "\r",
      "Iterations:  39%|████████████▊                    | 116/300 [02:18<03:34,  1.17s/it]"
     ]
    },
    {
     "name": "stdout",
     "output_type": "stream",
     "text": [
      "Epoch  115 , loss 0.4102964716799119\n",
      "Epoch  116 , loss 0.4090055811638926\n"
     ]
    },
    {
     "name": "stderr",
     "output_type": "stream",
     "text": [
      "\r",
      "Iterations:  39%|████████████▊                    | 117/300 [02:19<03:45,  1.23s/it]"
     ]
    },
    {
     "name": "stdout",
     "output_type": "stream",
     "text": [
      "Epoch:  116\n",
      "t_loss:  0.4090055811638926 , v_loss:  0.7560346176226934\n",
      "t_acc:  0.7052401746724891 , v_acc:  0.6845238095238095\n",
      "t_recall:  0.5208700249399487 , v_recall:  0.5\n",
      "t_prec:  0.7127479098714056 , v_prec:  0.34226190476190477\n",
      "t_f:  0.4589746506479529 , v_f:  0.40636042402826855\n",
      "////////\n"
     ]
    },
    {
     "name": "stderr",
     "output_type": "stream",
     "text": [
      "\r",
      "Iterations:  39%|████████████▉                    | 118/300 [02:20<03:26,  1.14s/it]"
     ]
    },
    {
     "name": "stdout",
     "output_type": "stream",
     "text": [
      "Epoch  117 , loss 0.4098861334370632\n",
      "Epoch  118 , loss 0.40922246201365603\n"
     ]
    },
    {
     "name": "stderr",
     "output_type": "stream",
     "text": [
      "\r",
      "Iterations:  40%|█████████████                    | 119/300 [02:22<03:39,  1.21s/it]"
     ]
    },
    {
     "name": "stdout",
     "output_type": "stream",
     "text": [
      "Epoch:  118\n",
      "t_loss:  0.40922246201365603 , v_loss:  0.7677413374185562\n",
      "t_acc:  0.6999376169681847 , v_acc:  0.6845238095238095\n",
      "t_recall:  0.5141730165844912 , v_recall:  0.5\n",
      "t_prec:  0.6510028653295129 , v_prec:  0.34226190476190477\n",
      "t_f:  0.4479616530156366 , v_f:  0.40636042402826855\n",
      "////////\n"
     ]
    },
    {
     "name": "stderr",
     "output_type": "stream",
     "text": [
      "\r",
      "Iterations:  40%|█████████████▏                   | 120/300 [02:23<03:24,  1.14s/it]"
     ]
    },
    {
     "name": "stdout",
     "output_type": "stream",
     "text": [
      "Epoch  119 , loss 0.42137709961217995\n",
      "Epoch  120 , loss 0.4077278697023205\n"
     ]
    },
    {
     "name": "stderr",
     "output_type": "stream",
     "text": [
      "\r",
      "Iterations:  40%|█████████████▎                   | 121/300 [02:24<03:49,  1.28s/it]"
     ]
    },
    {
     "name": "stdout",
     "output_type": "stream",
     "text": [
      "Epoch:  120\n",
      "t_loss:  0.4077278697023205 , v_loss:  0.7564750363429388\n",
      "t_acc:  0.7049282595134123 , v_acc:  0.6904761904761905\n",
      "t_recall:  0.5200684986610581 , v_recall:  0.5094339622641509\n",
      "t_prec:  0.7138148066514829 , v_prec:  0.844311377245509\n",
      "t_f:  0.4571431639841915 , v_f:  0.4263199369582348\n",
      "////////\n"
     ]
    },
    {
     "name": "stderr",
     "output_type": "stream",
     "text": [
      "\r",
      "Iterations:  41%|█████████████▍                   | 122/300 [02:25<03:35,  1.21s/it]"
     ]
    },
    {
     "name": "stdout",
     "output_type": "stream",
     "text": [
      "Epoch  121 , loss 0.4118836194861169\n",
      "Epoch  122 , loss 0.41104425869736017\n"
     ]
    },
    {
     "name": "stderr",
     "output_type": "stream",
     "text": [
      "\r",
      "Iterations:  41%|█████████████▌                   | 123/300 [02:27<03:47,  1.29s/it]"
     ]
    },
    {
     "name": "stdout",
     "output_type": "stream",
     "text": [
      "Epoch:  122\n",
      "t_loss:  0.41104425869736017 , v_loss:  0.7621754109859467\n",
      "t_acc:  0.7046163443543356 , v_acc:  0.6904761904761905\n",
      "t_recall:  0.5212879127446586 , v_recall:  0.5094339622641509\n",
      "t_prec:  0.6946611737010258 , v_prec:  0.844311377245509\n",
      "t_f:  0.46115361481439676 , v_f:  0.4263199369582348\n",
      "////////\n"
     ]
    },
    {
     "name": "stderr",
     "output_type": "stream",
     "text": [
      "\r",
      "Iterations:  41%|█████████████▋                   | 124/300 [02:28<03:23,  1.15s/it]"
     ]
    },
    {
     "name": "stdout",
     "output_type": "stream",
     "text": [
      "Epoch  123 , loss 0.40945273053412345\n",
      "Epoch  124 , loss 0.41290104856678084\n"
     ]
    },
    {
     "name": "stderr",
     "output_type": "stream",
     "text": [
      "\r",
      "Iterations:  42%|█████████████▊                   | 125/300 [02:29<03:35,  1.23s/it]"
     ]
    },
    {
     "name": "stdout",
     "output_type": "stream",
     "text": [
      "Epoch:  124\n",
      "t_loss:  0.41290104856678084 , v_loss:  0.7578532546758652\n",
      "t_acc:  0.7039925140361821 , v_acc:  0.6904761904761905\n",
      "t_recall:  0.5191074486547369 , v_recall:  0.5145200984413454\n",
      "t_prec:  0.700554912179116 , v_prec:  0.6787878787878787\n",
      "t_f:  0.4558434657536623 , v_f:  0.44285714285714284\n",
      "////////\n"
     ]
    },
    {
     "name": "stderr",
     "output_type": "stream",
     "text": [
      "\r",
      "Iterations:  42%|█████████████▊                   | 126/300 [02:30<03:15,  1.13s/it]"
     ]
    },
    {
     "name": "stdout",
     "output_type": "stream",
     "text": [
      "Epoch  125 , loss 0.4101639547768761\n",
      "Epoch  126 , loss 0.404772302683662\n"
     ]
    },
    {
     "name": "stderr",
     "output_type": "stream",
     "text": [
      "\r",
      "Iterations:  42%|█████████████▉                   | 127/300 [02:32<03:40,  1.27s/it]"
     ]
    },
    {
     "name": "stdout",
     "output_type": "stream",
     "text": [
      "Epoch:  126\n",
      "t_loss:  0.404772302683662 , v_loss:  0.7633368174235026\n",
      "t_acc:  0.7074235807860262 , v_acc:  0.6904761904761905\n",
      "t_recall:  0.5235936512314818 , v_recall:  0.5145200984413454\n",
      "t_prec:  0.7371022808646681 , v_prec:  0.6787878787878787\n",
      "t_f:  0.4633966859094049 , v_f:  0.44285714285714284\n",
      "////////\n"
     ]
    },
    {
     "name": "stderr",
     "output_type": "stream",
     "text": [
      "\r",
      "Iterations:  43%|██████████████                   | 128/300 [02:32<03:19,  1.16s/it]"
     ]
    },
    {
     "name": "stdout",
     "output_type": "stream",
     "text": [
      "Epoch  127 , loss 0.41005416535863687\n",
      "Epoch  128 , loss 0.4082113743997088\n"
     ]
    },
    {
     "name": "stderr",
     "output_type": "stream",
     "text": [
      "\r",
      "Iterations:  43%|██████████████▏                  | 129/300 [02:34<03:29,  1.23s/it]"
     ]
    },
    {
     "name": "stdout",
     "output_type": "stream",
     "text": [
      "Epoch:  128\n",
      "t_loss:  0.4082113743997088 , v_loss:  0.7593111594518026\n",
      "t_acc:  0.7039925140361821 , v_acc:  0.6904761904761905\n",
      "t_recall:  0.5214170947832983 , v_recall:  0.5145200984413454\n",
      "t_prec:  0.6818611223884326 , v_prec:  0.6787878787878787\n",
      "t_f:  0.46247920801874837 , v_f:  0.44285714285714284\n",
      "////////\n"
     ]
    },
    {
     "name": "stderr",
     "output_type": "stream",
     "text": [
      "\r",
      "Iterations:  43%|██████████████▎                  | 130/300 [02:35<03:14,  1.15s/it]"
     ]
    },
    {
     "name": "stdout",
     "output_type": "stream",
     "text": [
      "Epoch  129 , loss 0.406981909976286\n",
      "Epoch  130 , loss 0.402119682115667\n"
     ]
    },
    {
     "name": "stderr",
     "output_type": "stream",
     "text": [
      "\r",
      "Iterations:  44%|██████████████▍                  | 131/300 [02:36<03:23,  1.21s/it]"
     ]
    },
    {
     "name": "stdout",
     "output_type": "stream",
     "text": [
      "Epoch:  130\n",
      "t_loss:  0.402119682115667 , v_loss:  0.7612276325623194\n",
      "t_acc:  0.706487835308796 , v_acc:  0.6904761904761905\n",
      "t_recall:  0.5243648358215817 , v_recall:  0.5145200984413454\n",
      "t_prec:  0.7068915711564285 , v_prec:  0.6787878787878787\n",
      "t_f:  0.46701046864661977 , v_f:  0.44285714285714284\n",
      "////////\n"
     ]
    },
    {
     "name": "stderr",
     "output_type": "stream",
     "text": [
      "\r",
      "Iterations:  44%|██████████████▌                  | 132/300 [02:37<03:07,  1.12s/it]"
     ]
    },
    {
     "name": "stdout",
     "output_type": "stream",
     "text": [
      "Epoch  131 , loss 0.4085177320475672\n",
      "Epoch  132 , loss 0.4154421570254307\n"
     ]
    },
    {
     "name": "stderr",
     "output_type": "stream",
     "text": [
      "\r",
      "Iterations:  44%|██████████████▋                  | 133/300 [02:39<03:24,  1.22s/it]"
     ]
    },
    {
     "name": "stdout",
     "output_type": "stream",
     "text": [
      "Epoch:  132\n",
      "t_loss:  0.4154421570254307 , v_loss:  0.7641231218973795\n",
      "t_acc:  0.7052401746724891 , v_acc:  0.6904761904761905\n",
      "t_recall:  0.5234683768345804 , v_recall:  0.5145200984413454\n",
      "t_prec:  0.6902541741204532 , v_prec:  0.6787878787878787\n",
      "t_f:  0.4663641578881642 , v_f:  0.44285714285714284\n",
      "////////\n"
     ]
    },
    {
     "name": "stderr",
     "output_type": "stream",
     "text": [
      "\r",
      "Iterations:  45%|██████████████▋                  | 134/300 [02:39<03:08,  1.14s/it]"
     ]
    },
    {
     "name": "stdout",
     "output_type": "stream",
     "text": [
      "Epoch  133 , loss 0.4055155784476037\n",
      "Epoch  134 , loss 0.40587814064586863\n"
     ]
    },
    {
     "name": "stderr",
     "output_type": "stream",
     "text": [
      "\r",
      "Iterations:  45%|██████████████▊                  | 135/300 [02:41<03:18,  1.20s/it]"
     ]
    },
    {
     "name": "stdout",
     "output_type": "stream",
     "text": [
      "Epoch:  134\n",
      "t_loss:  0.40587814064586863 , v_loss:  0.7623582382996877\n",
      "t_acc:  0.7071116656269495 , v_acc:  0.6904761904761905\n",
      "t_recall:  0.525967888379363 , v_recall:  0.5145200984413454\n",
      "t_prec:  0.7058647734561783 , v_prec:  0.6787878787878787\n",
      "t_f:  0.47055207829353113 , v_f:  0.44285714285714284\n",
      "////////\n"
     ]
    },
    {
     "name": "stderr",
     "output_type": "stream",
     "text": [
      "\r",
      "Iterations:  45%|██████████████▉                  | 136/300 [02:42<02:58,  1.09s/it]"
     ]
    },
    {
     "name": "stdout",
     "output_type": "stream",
     "text": [
      "Epoch  135 , loss 0.4018437336472904\n",
      "Epoch  136 , loss 0.4020438889662425\n"
     ]
    },
    {
     "name": "stderr",
     "output_type": "stream",
     "text": [
      "\r",
      "Iterations:  46%|███████████████                  | 137/300 [02:43<03:17,  1.21s/it]"
     ]
    },
    {
     "name": "stdout",
     "output_type": "stream",
     "text": [
      "Epoch:  136\n",
      "t_loss:  0.4020438889662425 , v_loss:  0.7714522480964661\n",
      "t_acc:  0.7114784778540237 , v_acc:  0.6904761904761905\n",
      "t_recall:  0.5305490236642186 , v_recall:  0.5145200984413454\n",
      "t_prec:  0.7533899209908179 , v_prec:  0.6787878787878787\n",
      "t_f:  0.4768670837899974 , v_f:  0.44285714285714284\n",
      "////////\n"
     ]
    },
    {
     "name": "stderr",
     "output_type": "stream",
     "text": [
      "\r",
      "Iterations:  46%|███████████████▏                 | 138/300 [02:44<03:00,  1.11s/it]"
     ]
    },
    {
     "name": "stdout",
     "output_type": "stream",
     "text": [
      "Epoch  137 , loss 0.40933634194673274\n",
      "Epoch  138 , loss 0.41034866548052024\n"
     ]
    },
    {
     "name": "stderr",
     "output_type": "stream",
     "text": [
      "\r",
      "Iterations:  46%|███████████████▎                 | 139/300 [02:45<03:12,  1.19s/it]"
     ]
    },
    {
     "name": "stdout",
     "output_type": "stream",
     "text": [
      "Epoch:  138\n",
      "t_loss:  0.41034866548052024 , v_loss:  0.7634827246268591\n",
      "t_acc:  0.7058640049906425 , v_acc:  0.6904761904761905\n",
      "t_recall:  0.5233391947959406 , v_recall:  0.5145200984413454\n",
      "t_prec:  0.7030070377479206 , v_prec:  0.6787878787878787\n",
      "t_f:  0.4650648883022346 , v_f:  0.44285714285714284\n",
      "////////\n"
     ]
    },
    {
     "name": "stderr",
     "output_type": "stream",
     "text": [
      "\r",
      "Iterations:  47%|███████████████▍                 | 140/300 [02:46<02:59,  1.12s/it]"
     ]
    },
    {
     "name": "stdout",
     "output_type": "stream",
     "text": [
      "Epoch  139 , loss 0.4098455397521748\n",
      "Epoch  140 , loss 0.411812936558443\n"
     ]
    },
    {
     "name": "stderr",
     "output_type": "stream",
     "text": [
      "\r",
      "Iterations:  47%|███████████████▌                 | 141/300 [02:48<03:09,  1.19s/it]"
     ]
    },
    {
     "name": "stdout",
     "output_type": "stream",
     "text": [
      "Epoch:  140\n",
      "t_loss:  0.411812936558443 , v_loss:  0.7689405580361685\n",
      "t_acc:  0.7114784778540237 , v_acc:  0.6904761904761905\n",
      "t_recall:  0.5345909043892011 , v_recall:  0.5145200984413454\n",
      "t_prec:  0.7171339689722043 , v_prec:  0.6787878787878787\n",
      "t_f:  0.4876625592253305 , v_f:  0.44285714285714284\n",
      "////////\n"
     ]
    },
    {
     "name": "stderr",
     "output_type": "stream",
     "text": [
      "\r",
      "Iterations:  47%|███████████████▌                 | 142/300 [02:49<02:52,  1.09s/it]"
     ]
    },
    {
     "name": "stdout",
     "output_type": "stream",
     "text": [
      "Epoch  141 , loss 0.4094769195014355\n",
      "Epoch  142 , loss 0.40017615813834995\n"
     ]
    },
    {
     "name": "stderr",
     "output_type": "stream",
     "text": [
      "\r",
      "Iterations:  48%|███████████████▋                 | 143/300 [02:50<03:09,  1.21s/it]"
     ]
    },
    {
     "name": "stdout",
     "output_type": "stream",
     "text": [
      "Epoch:  142\n",
      "t_loss:  0.40017615813834995 , v_loss:  0.7574520160754522\n",
      "t_acc:  0.7077354959451029 , v_acc:  0.6904761904761905\n",
      "t_recall:  0.5275709409371444 , v_recall:  0.5145200984413454\n",
      "t_prec:  0.7050162719466171 , v_prec:  0.6787878787878787\n",
      "t_f:  0.4740551226113147 , v_f:  0.44285714285714284\n",
      "////////\n"
     ]
    },
    {
     "name": "stderr",
     "output_type": "stream",
     "text": [
      "\r",
      "Iterations:  48%|███████████████▊                 | 144/300 [02:51<02:55,  1.12s/it]"
     ]
    },
    {
     "name": "stdout",
     "output_type": "stream",
     "text": [
      "Epoch  143 , loss 0.40449745923865077\n",
      "Epoch  144 , loss 0.4120069876605389\n"
     ]
    },
    {
     "name": "stderr",
     "output_type": "stream",
     "text": [
      "\r",
      "Iterations:  48%|███████████████▉                 | 145/300 [02:52<03:06,  1.20s/it]"
     ]
    },
    {
     "name": "stdout",
     "output_type": "stream",
     "text": [
      "Epoch:  144\n",
      "t_loss:  0.4120069876605389 , v_loss:  0.7637379467487335\n",
      "t_acc:  0.7108546475358702 , v_acc:  0.6904761904761905\n",
      "t_recall:  0.5321217345332092 , v_recall:  0.5145200984413454\n",
      "t_prec:  0.7249581455247907 , v_prec:  0.6787878787878787\n",
      "t_f:  0.48199066630063925 , v_f:  0.44285714285714284\n",
      "////////\n"
     ]
    },
    {
     "name": "stderr",
     "output_type": "stream",
     "text": [
      "\r",
      "Iterations:  49%|████████████████                 | 146/300 [02:53<02:47,  1.09s/it]"
     ]
    },
    {
     "name": "stdout",
     "output_type": "stream",
     "text": [
      "Epoch  145 , loss 0.3971114263815038\n",
      "Epoch  146 , loss 0.41408870062407327\n"
     ]
    },
    {
     "name": "stderr",
     "output_type": "stream",
     "text": [
      "\r",
      "Iterations:  49%|████████████████▏                | 147/300 [02:55<03:02,  1.19s/it]"
     ]
    },
    {
     "name": "stdout",
     "output_type": "stream",
     "text": [
      "Epoch:  146\n",
      "t_loss:  0.41408870062407327 , v_loss:  0.7685085733731588\n",
      "t_acc:  0.7092950717404866 , v_acc:  0.6904761904761905\n",
      "t_recall:  0.5298463377351769 , v_recall:  0.5145200984413454\n",
      "t_prec:  0.7152795508881763 , v_prec:  0.6787878787878787\n",
      "t_f:  0.47803258985969027 , v_f:  0.44285714285714284\n",
      "////////\n"
     ]
    },
    {
     "name": "stderr",
     "output_type": "stream",
     "text": [
      "\r",
      "Iterations:  49%|████████████████▎                | 148/300 [02:56<02:46,  1.10s/it]"
     ]
    },
    {
     "name": "stdout",
     "output_type": "stream",
     "text": [
      "Epoch  147 , loss 0.4047304646057241\n",
      "Epoch  148 , loss 0.40253083963020175\n"
     ]
    },
    {
     "name": "stderr",
     "output_type": "stream",
     "text": [
      "\r",
      "Iterations:  50%|████████████████▍                | 149/300 [02:57<02:58,  1.18s/it]"
     ]
    },
    {
     "name": "stdout",
     "output_type": "stream",
     "text": [
      "Epoch:  148\n",
      "t_loss:  0.40253083963020175 , v_loss:  0.7691157708565394\n",
      "t_acc:  0.7067997504678727 , v_acc:  0.6904761904761905\n",
      "t_recall:  0.5248776563344022 , v_recall:  0.5145200984413454\n",
      "t_prec:  0.7087678282775676 , v_prec:  0.6787878787878787\n",
      "t_f:  0.4679807616939934 , v_f:  0.44285714285714284\n",
      "////////\n"
     ]
    },
    {
     "name": "stderr",
     "output_type": "stream",
     "text": [
      "\r",
      "Iterations:  50%|████████████████▌                | 150/300 [02:58<02:48,  1.12s/it]"
     ]
    },
    {
     "name": "stdout",
     "output_type": "stream",
     "text": [
      "Epoch  149 , loss 0.40042818761339377\n",
      "Epoch  150 , loss 0.4043274212117289\n"
     ]
    },
    {
     "name": "stderr",
     "output_type": "stream",
     "text": [
      "\r",
      "Iterations:  50%|████████████████▌                | 151/300 [02:59<02:55,  1.18s/it]"
     ]
    },
    {
     "name": "stdout",
     "output_type": "stream",
     "text": [
      "Epoch:  150\n",
      "t_loss:  0.4043274212117289 , v_loss:  0.7706288993358612\n",
      "t_acc:  0.7086712414223332 , v_acc:  0.6964285714285714\n",
      "t_recall:  0.5288206967095358 , v_recall:  0.5239540607054963\n",
      "t_prec:  0.7121216735184152 , v_prec:  0.7225609756097561\n",
      "t_f:  0.4761309600870548 , v_f:  0.46123372948500285\n",
      "////////\n"
     ]
    },
    {
     "name": "stderr",
     "output_type": "stream",
     "text": [
      "\r",
      "Iterations:  51%|████████████████▋                | 152/300 [03:00<02:39,  1.08s/it]"
     ]
    },
    {
     "name": "stdout",
     "output_type": "stream",
     "text": [
      "Epoch  151 , loss 0.4019150231398788\n",
      "Epoch  152 , loss 0.39985866231076855\n"
     ]
    },
    {
     "name": "stderr",
     "output_type": "stream",
     "text": [
      "\r",
      "Iterations:  51%|████████████████▊                | 153/300 [03:01<02:54,  1.18s/it]"
     ]
    },
    {
     "name": "stdout",
     "output_type": "stream",
     "text": [
      "Epoch:  152\n",
      "t_loss:  0.39985866231076855 , v_loss:  0.7680264562368393\n",
      "t_acc:  0.7099189020586401 , v_acc:  0.6964285714285714\n",
      "t_recall:  0.5308719787608178 , v_recall:  0.5239540607054963\n",
      "t_prec:  0.7183193375661995 , v_prec:  0.7225609756097561\n",
      "t_f:  0.4799278285131794 , v_f:  0.46123372948500285\n",
      "////////\n"
     ]
    },
    {
     "name": "stderr",
     "output_type": "stream",
     "text": [
      "\r",
      "Iterations:  51%|████████████████▉                | 154/300 [03:02<02:45,  1.13s/it]"
     ]
    },
    {
     "name": "stdout",
     "output_type": "stream",
     "text": [
      "Epoch  153 , loss 0.40842774802563236\n",
      "Epoch  154 , loss 0.40800807347484663\n"
     ]
    },
    {
     "name": "stderr",
     "output_type": "stream",
     "text": [
      "\r",
      "Iterations:  52%|█████████████████                | 155/300 [03:04<02:58,  1.23s/it]"
     ]
    },
    {
     "name": "stdout",
     "output_type": "stream",
     "text": [
      "Epoch:  154\n",
      "t_loss:  0.40800807347484663 , v_loss:  0.766840398311615\n",
      "t_acc:  0.7108546475358702 , v_acc:  0.6964285714285714\n",
      "t_recall:  0.5338539691296302 , v_recall:  0.5239540607054963\n",
      "t_prec:  0.712508080155139 , v_prec:  0.7225609756097561\n",
      "t_f:  0.4865548025966286 , v_f:  0.46123372948500285\n",
      "////////\n"
     ]
    },
    {
     "name": "stderr",
     "output_type": "stream",
     "text": [
      "\r",
      "Iterations:  52%|█████████████████▏               | 156/300 [03:05<02:41,  1.12s/it]"
     ]
    },
    {
     "name": "stdout",
     "output_type": "stream",
     "text": [
      "Epoch  155 , loss 0.4043818490177977\n",
      "Epoch  156 , loss 0.40931492284232496\n"
     ]
    },
    {
     "name": "stderr",
     "output_type": "stream",
     "text": [
      "\r",
      "Iterations:  52%|█████████████████▎               | 157/300 [03:06<02:50,  1.19s/it]"
     ]
    },
    {
     "name": "stdout",
     "output_type": "stream",
     "text": [
      "Epoch:  156\n",
      "t_loss:  0.40931492284232496 , v_loss:  0.7571258644262949\n",
      "t_acc:  0.7114784778540237 , v_acc:  0.6964285714285714\n",
      "t_recall:  0.536034433219552 , v_recall:  0.5239540607054963\n",
      "t_prec:  0.7083280176904595 , v_prec:  0.7225609756097561\n",
      "t_f:  0.49137775048858984 , v_f:  0.46123372948500285\n",
      "////////\n"
     ]
    },
    {
     "name": "stderr",
     "output_type": "stream",
     "text": [
      "\r",
      "Iterations:  53%|█████████████████▍               | 158/300 [03:07<02:34,  1.09s/it]"
     ]
    },
    {
     "name": "stdout",
     "output_type": "stream",
     "text": [
      "Epoch  157 , loss 0.39633387794681624\n",
      "Epoch  158 , loss 0.4015989169186237\n"
     ]
    },
    {
     "name": "stderr",
     "output_type": "stream",
     "text": [
      "\r",
      "Iterations:  53%|█████████████████▍               | 159/300 [03:08<02:45,  1.17s/it]"
     ]
    },
    {
     "name": "stdout",
     "output_type": "stream",
     "text": [
      "Epoch:  158\n",
      "t_loss:  0.4015989169186237 , v_loss:  0.7657046367724737\n",
      "t_acc:  0.7167810355583282 , v_acc:  0.6964285714285714\n",
      "t_recall:  0.5412879127446586 , v_recall:  0.5239540607054963\n",
      "t_prec:  0.7526563796716976 , v_prec:  0.7225609756097561\n",
      "t_f:  0.4981799626959582 , v_f:  0.46123372948500285\n",
      "////////\n"
     ]
    },
    {
     "name": "stderr",
     "output_type": "stream",
     "text": [
      "\r",
      "Iterations:  53%|█████████████████▌               | 160/300 [03:09<02:37,  1.13s/it]"
     ]
    },
    {
     "name": "stdout",
     "output_type": "stream",
     "text": [
      "Epoch  159 , loss 0.4001472104413837\n",
      "Epoch  160 , loss 0.40210602914585786\n"
     ]
    },
    {
     "name": "stderr",
     "output_type": "stream",
     "text": [
      "\r",
      "Iterations:  54%|█████████████████▋               | 161/300 [03:11<02:45,  1.19s/it]"
     ]
    },
    {
     "name": "stdout",
     "output_type": "stream",
     "text": [
      "Epoch:  160\n",
      "t_loss:  0.40210602914585786 , v_loss:  0.7624686906735102\n",
      "t_acc:  0.7089831565814099 , v_acc:  0.6964285714285714\n",
      "t_recall:  0.5284673999241457 , v_recall:  0.5239540607054963\n",
      "t_prec:  0.7208065896448438 , v_prec:  0.7225609756097561\n",
      "t_f:  0.47472664677046755 , v_f:  0.46123372948500285\n",
      "////////\n"
     ]
    },
    {
     "name": "stderr",
     "output_type": "stream",
     "text": [
      "\r",
      "Iterations:  54%|█████████████████▊               | 162/300 [03:12<02:30,  1.09s/it]"
     ]
    },
    {
     "name": "stdout",
     "output_type": "stream",
     "text": [
      "Epoch  161 , loss 0.4005063836481057\n",
      "Epoch  162 , loss 0.395379423949064\n"
     ]
    },
    {
     "name": "stderr",
     "output_type": "stream",
     "text": [
      "\r",
      "Iterations:  54%|█████████████████▉               | 163/300 [03:13<02:41,  1.18s/it]"
     ]
    },
    {
     "name": "stdout",
     "output_type": "stream",
     "text": [
      "Epoch:  162\n",
      "t_loss:  0.395379423949064 , v_loss:  0.771822065114975\n",
      "t_acc:  0.7102308172177167 , v_acc:  0.6964285714285714\n",
      "t_recall:  0.5322509165718489 , v_recall:  0.5239540607054963\n",
      "t_prec:  0.7134905660377358 , v_prec:  0.7225609756097561\n",
      "t_f:  0.4831734027022576 , v_f:  0.46123372948500285\n",
      "////////\n"
     ]
    },
    {
     "name": "stderr",
     "output_type": "stream",
     "text": [
      "\r",
      "Iterations:  55%|██████████████████               | 164/300 [03:14<02:35,  1.14s/it]"
     ]
    },
    {
     "name": "stdout",
     "output_type": "stream",
     "text": [
      "Epoch  163 , loss 0.3982904939090504\n",
      "Epoch  164 , loss 0.40000675852392237\n"
     ]
    },
    {
     "name": "stderr",
     "output_type": "stream",
     "text": [
      "\r",
      "Iterations:  55%|██████████████████▏              | 165/300 [03:15<02:47,  1.24s/it]"
     ]
    },
    {
     "name": "stdout",
     "output_type": "stream",
     "text": [
      "Epoch:  164\n",
      "t_loss:  0.40000675852392237 , v_loss:  0.7669873783985773\n",
      "t_acc:  0.7114784778540237 , v_acc:  0.6964285714285714\n",
      "t_recall:  0.5337247870909906 , v_recall:  0.5239540607054963\n",
      "t_prec:  0.723247108947048 , v_prec:  0.7225609756097561\n",
      "t_f:  0.48539870559697346 , v_f:  0.46123372948500285\n",
      "////////\n"
     ]
    },
    {
     "name": "stderr",
     "output_type": "stream",
     "text": [
      "\r",
      "Iterations:  55%|██████████████████▎              | 166/300 [03:16<02:29,  1.12s/it]"
     ]
    },
    {
     "name": "stdout",
     "output_type": "stream",
     "text": [
      "Epoch  165 , loss 0.4022944201441372\n",
      "Epoch  166 , loss 0.4064549084971933\n"
     ]
    },
    {
     "name": "stderr",
     "output_type": "stream",
     "text": [
      "\r",
      "Iterations:  56%|██████████████████▎              | 167/300 [03:18<02:40,  1.21s/it]"
     ]
    },
    {
     "name": "stdout",
     "output_type": "stream",
     "text": [
      "Epoch:  166\n",
      "t_loss:  0.4064549084971933 , v_loss:  0.763806477189064\n",
      "t_acc:  0.7105427323767936 , v_acc:  0.6964285714285714\n",
      "t_recall:  0.5333411486168098 , v_recall:  0.5239540607054963\n",
      "t_prec:  0.7111062597330772 , v_prec:  0.7225609756097561\n",
      "t_f:  0.48562422502211255 , v_f:  0.46123372948500285\n",
      "////////\n"
     ]
    },
    {
     "name": "stderr",
     "output_type": "stream",
     "text": [
      "\r",
      "Iterations:  56%|██████████████████▍              | 168/300 [03:19<02:26,  1.11s/it]"
     ]
    },
    {
     "name": "stdout",
     "output_type": "stream",
     "text": [
      "Epoch  167 , loss 0.4021664875395158\n",
      "Epoch  168 , loss 0.3963988768119438\n"
     ]
    },
    {
     "name": "stderr",
     "output_type": "stream",
     "text": [
      "\r",
      "Iterations:  56%|██████████████████▌              | 169/300 [03:20<02:40,  1.23s/it]"
     ]
    },
    {
     "name": "stdout",
     "output_type": "stream",
     "text": [
      "Epoch:  168\n",
      "t_loss:  0.3963988768119438 , v_loss:  0.7655797948439916\n",
      "t_acc:  0.7092950717404866 , v_acc:  0.6964285714285714\n",
      "t_recall:  0.5292689262030364 , v_recall:  0.5239540607054963\n",
      "t_prec:  0.7199119889191701 , v_prec:  0.7225609756097561\n",
      "t_f:  0.47646981318262355 , v_f:  0.46123372948500285\n",
      "////////\n"
     ]
    },
    {
     "name": "stderr",
     "output_type": "stream",
     "text": [
      "\r",
      "Iterations:  57%|██████████████████▋              | 170/300 [03:21<02:25,  1.12s/it]"
     ]
    },
    {
     "name": "stdout",
     "output_type": "stream",
     "text": [
      "Epoch  169 , loss 0.4028249955644794\n",
      "Epoch  170 , loss 0.39611803521128264\n"
     ]
    },
    {
     "name": "stderr",
     "output_type": "stream",
     "text": [
      "\r",
      "Iterations:  57%|██████████████████▊              | 171/300 [03:22<02:34,  1.20s/it]"
     ]
    },
    {
     "name": "stdout",
     "output_type": "stream",
     "text": [
      "Epoch:  170\n",
      "t_loss:  0.39611803521128264 , v_loss:  0.7638967384894689\n",
      "t_acc:  0.7124142233312539 , v_acc:  0.7023809523809523\n",
      "t_recall:  0.534974542863382 , v_recall:  0.5333880229696473\n",
      "t_prec:  0.7294303558880917 , v_prec:  0.7496932515337423\n",
      "t_f:  0.48744559619632877 , v_f:  0.4790374596874225\n",
      "////////\n"
     ]
    },
    {
     "name": "stderr",
     "output_type": "stream",
     "text": [
      "\r",
      "Iterations:  57%|██████████████████▉              | 172/300 [03:23<02:23,  1.12s/it]"
     ]
    },
    {
     "name": "stdout",
     "output_type": "stream",
     "text": [
      "Epoch  171 , loss 0.4076715485722411\n",
      "Epoch  172 , loss 0.3968513251519671\n"
     ]
    },
    {
     "name": "stderr",
     "output_type": "stream",
     "text": [
      "\r",
      "Iterations:  58%|███████████████████              | 173/300 [03:25<02:31,  1.19s/it]"
     ]
    },
    {
     "name": "stdout",
     "output_type": "stream",
     "text": [
      "Epoch:  172\n",
      "t_loss:  0.3968513251519671 , v_loss:  0.7716891666253408\n",
      "t_acc:  0.718028696194635 , v_acc:  0.6964285714285714\n",
      "t_recall:  0.5447827236262915 , v_recall:  0.5239540607054963\n",
      "t_prec:  0.7454129538234413 , v_prec:  0.7225609756097561\n",
      "t_f:  0.5054252263468868 , v_f:  0.46123372948500285\n",
      "////////\n"
     ]
    },
    {
     "name": "stderr",
     "output_type": "stream",
     "text": [
      "\r",
      "Iterations:  58%|███████████████████▏             | 174/300 [03:26<02:18,  1.10s/it]"
     ]
    },
    {
     "name": "stdout",
     "output_type": "stream",
     "text": [
      "Epoch  173 , loss 0.4015796494250204\n",
      "Epoch  174 , loss 0.39292075996305426\n"
     ]
    },
    {
     "name": "stderr",
     "output_type": "stream",
     "text": [
      "\r",
      "Iterations:  58%|███████████████████▎             | 175/300 [03:27<02:31,  1.21s/it]"
     ]
    },
    {
     "name": "stdout",
     "output_type": "stream",
     "text": [
      "Epoch:  174\n",
      "t_loss:  0.39292075996305426 , v_loss:  0.769818956653277\n",
      "t_acc:  0.715845290081098 , v_acc:  0.7023809523809523\n",
      "t_recall:  0.5403268627383374 , v_recall:  0.5333880229696473\n",
      "t_prec:  0.744727150987613 , v_prec:  0.7496932515337423\n",
      "t_f:  0.4968889158378567 , v_f:  0.4790374596874225\n",
      "////////\n"
     ]
    },
    {
     "name": "stderr",
     "output_type": "stream",
     "text": [
      "\r",
      "Iterations:  59%|███████████████████▎             | 176/300 [03:28<02:23,  1.15s/it]"
     ]
    },
    {
     "name": "stdout",
     "output_type": "stream",
     "text": [
      "Epoch  175 , loss 0.40547925818200203\n",
      "Epoch  176 , loss 0.39401399913956137\n"
     ]
    },
    {
     "name": "stderr",
     "output_type": "stream",
     "text": [
      "\r",
      "Iterations:  59%|███████████████████▍             | 177/300 [03:29<02:30,  1.22s/it]"
     ]
    },
    {
     "name": "stdout",
     "output_type": "stream",
     "text": [
      "Epoch:  176\n",
      "t_loss:  0.39401399913956137 , v_loss:  0.7624845852454504\n",
      "t_acc:  0.7167810355583282 , v_acc:  0.7023809523809523\n",
      "t_recall:  0.5447523819375008 , v_recall:  0.5333880229696473\n",
      "t_prec:  0.7283451360854583 , v_prec:  0.7496932515337423\n",
      "t_f:  0.5067668907951445 , v_f:  0.4790374596874225\n",
      "////////\n"
     ]
    },
    {
     "name": "stderr",
     "output_type": "stream",
     "text": [
      "\r",
      "Iterations:  59%|███████████████████▌             | 178/300 [03:30<02:15,  1.11s/it]"
     ]
    },
    {
     "name": "stdout",
     "output_type": "stream",
     "text": [
      "Epoch  177 , loss 0.39570698492667256\n",
      "Epoch  178 , loss 0.4003820799145044\n"
     ]
    },
    {
     "name": "stderr",
     "output_type": "stream",
     "text": [
      "\r",
      "Iterations:  60%|███████████████████▋             | 179/300 [03:32<02:25,  1.20s/it]"
     ]
    },
    {
     "name": "stdout",
     "output_type": "stream",
     "text": [
      "Epoch:  178\n",
      "t_loss:  0.4003820799145044 , v_loss:  0.7636738121509552\n",
      "t_acc:  0.7192763568309419 , v_acc:  0.7083333333333334\n",
      "t_recall:  0.5468340056775736 , v_recall:  0.5428219852337982\n",
      "t_prec:  0.7492592529158888 , v_prec:  0.7685185185185186\n",
      "t_f:  0.5090211869252005 , v_f:  0.49629810928226153\n",
      "////////\n"
     ]
    },
    {
     "name": "stderr",
     "output_type": "stream",
     "text": [
      "\r",
      "Iterations:  60%|███████████████████▊             | 180/300 [03:33<02:11,  1.10s/it]"
     ]
    },
    {
     "name": "stdout",
     "output_type": "stream",
     "text": [
      "Epoch  179 , loss 0.39547596082967873\n",
      "Epoch  180 , loss 0.40346286285157296\n"
     ]
    },
    {
     "name": "stderr",
     "output_type": "stream",
     "text": [
      "\r",
      "Iterations:  60%|███████████████████▉             | 181/300 [03:34<02:21,  1.19s/it]"
     ]
    },
    {
     "name": "stdout",
     "output_type": "stream",
     "text": [
      "Epoch:  180\n",
      "t_loss:  0.40346286285157296 , v_loss:  0.7682862430810928\n",
      "t_acc:  0.7174048658764816 , v_acc:  0.7023809523809523\n",
      "t_recall:  0.5452006114310014 , v_recall:  0.5333880229696473\n",
      "t_prec:  0.7338465892739497 , v_prec:  0.7496932515337423\n",
      "t_f:  0.5071542011673681 , v_f:  0.4790374596874225\n",
      "////////\n"
     ]
    },
    {
     "name": "stderr",
     "output_type": "stream",
     "text": [
      "\r",
      "Iterations:  61%|████████████████████             | 182/300 [03:35<02:14,  1.14s/it]"
     ]
    },
    {
     "name": "stdout",
     "output_type": "stream",
     "text": [
      "Epoch  181 , loss 0.3953727027949165\n",
      "Epoch  182 , loss 0.38926229348369673\n"
     ]
    },
    {
     "name": "stderr",
     "output_type": "stream",
     "text": [
      "\r",
      "Iterations:  61%|████████████████████▏            | 183/300 [03:36<02:19,  1.19s/it]"
     ]
    },
    {
     "name": "stdout",
     "output_type": "stream",
     "text": [
      "Epoch:  182\n",
      "t_loss:  0.38926229348369673 , v_loss:  0.7688202609618505\n",
      "t_acc:  0.7195882719900187 , v_acc:  0.7083333333333334\n",
      "t_recall:  0.5467694146582538 , v_recall:  0.5428219852337982\n",
      "t_prec:  0.7544113233970191 , v_prec:  0.7685185185185186\n",
      "t_f:  0.5085132161313454 , v_f:  0.49629810928226153\n",
      "////////\n"
     ]
    },
    {
     "name": "stderr",
     "output_type": "stream",
     "text": [
      "\r",
      "Iterations:  61%|████████████████████▏            | 184/300 [03:37<02:06,  1.09s/it]"
     ]
    },
    {
     "name": "stdout",
     "output_type": "stream",
     "text": [
      "Epoch  183 , loss 0.397094352572572\n",
      "Epoch  184 , loss 0.39551231148196203\n"
     ]
    },
    {
     "name": "stderr",
     "output_type": "stream",
     "text": [
      "\r",
      "Iterations:  62%|████████████████████▎            | 185/300 [03:39<02:15,  1.18s/it]"
     ]
    },
    {
     "name": "stdout",
     "output_type": "stream",
     "text": [
      "Epoch:  184\n",
      "t_loss:  0.39551231148196203 , v_loss:  0.770043725768725\n",
      "t_acc:  0.718028696194635 , v_acc:  0.7142857142857143\n",
      "t_recall:  0.5473810755209232 , v_recall:  0.5522559474979492\n",
      "t_prec:  0.7291987733308427 , v_prec:  0.7826086956521738\n",
      "t_f:  0.5117037156845897 , v_f:  0.5130434782608696\n",
      "////////\n"
     ]
    },
    {
     "name": "stderr",
     "output_type": "stream",
     "text": [
      "\r",
      "Iterations:  62%|████████████████████▍            | 186/300 [03:40<02:09,  1.13s/it]"
     ]
    },
    {
     "name": "stdout",
     "output_type": "stream",
     "text": [
      "Epoch  185 , loss 0.3957524305465175\n",
      "Epoch  186 , loss 0.3890800128380458\n"
     ]
    },
    {
     "name": "stderr",
     "output_type": "stream",
     "text": [
      "\r",
      "Iterations:  62%|████████████████████▌            | 187/300 [03:41<02:18,  1.23s/it]"
     ]
    },
    {
     "name": "stdout",
     "output_type": "stream",
     "text": [
      "Epoch:  186\n",
      "t_loss:  0.3890800128380458 , v_loss:  0.7812423855066299\n",
      "t_acc:  0.715845290081098 , v_acc:  0.7023809523809523\n",
      "t_recall:  0.5429252146329689 , v_recall:  0.5333880229696473\n",
      "t_prec:  0.7268248600746269 , v_prec:  0.7496932515337423\n",
      "t_f:  0.50337483572172 , v_f:  0.4790374596874225\n",
      "////////\n"
     ]
    },
    {
     "name": "stderr",
     "output_type": "stream",
     "text": [
      "\r",
      "Iterations:  63%|████████████████████▋            | 188/300 [03:42<02:05,  1.12s/it]"
     ]
    },
    {
     "name": "stdout",
     "output_type": "stream",
     "text": [
      "Epoch  187 , loss 0.3964935015229618\n",
      "Epoch  188 , loss 0.3946119289772183\n"
     ]
    },
    {
     "name": "stderr",
     "output_type": "stream",
     "text": [
      "\r",
      "Iterations:  63%|████████████████████▊            | 189/300 [03:43<02:12,  1.19s/it]"
     ]
    },
    {
     "name": "stdout",
     "output_type": "stream",
     "text": [
      "Epoch:  188\n",
      "t_loss:  0.3946119289772183 , v_loss:  0.7767228285471598\n",
      "t_acc:  0.715845290081098 , v_acc:  0.7083333333333334\n",
      "t_recall:  0.5423478031008286 , v_recall:  0.5428219852337982\n",
      "t_prec:  0.7303591077323197 , v_prec:  0.7685185185185186\n",
      "t_f:  0.501952769628093 , v_f:  0.49629810928226153\n",
      "////////\n"
     ]
    },
    {
     "name": "stderr",
     "output_type": "stream",
     "text": [
      "\r",
      "Iterations:  63%|████████████████████▉            | 190/300 [03:44<02:00,  1.10s/it]"
     ]
    },
    {
     "name": "stdout",
     "output_type": "stream",
     "text": [
      "Epoch  189 , loss 0.4051029290638718\n",
      "Epoch  190 , loss 0.40118345501376135\n"
     ]
    },
    {
     "name": "stderr",
     "output_type": "stream",
     "text": [
      "\r",
      "Iterations:  64%|█████████████████████            | 191/300 [03:46<02:11,  1.21s/it]"
     ]
    },
    {
     "name": "stdout",
     "output_type": "stream",
     "text": [
      "Epoch:  190\n",
      "t_loss:  0.40118345501376135 , v_loss:  0.7755945126215616\n",
      "t_acc:  0.7149095446038678 , v_acc:  0.7023809523809523\n",
      "t_recall:  0.5439851049891391 , v_recall:  0.5333880229696473\n",
      "t_prec:  0.7100526242993854 , v_prec:  0.7496932515337423\n",
      "t_f:  0.5069942823609219 , v_f:  0.4790374596874225\n",
      "////////\n"
     ]
    },
    {
     "name": "stderr",
     "output_type": "stream",
     "text": [
      "\r",
      "Iterations:  64%|█████████████████████            | 192/300 [03:47<02:02,  1.13s/it]"
     ]
    },
    {
     "name": "stdout",
     "output_type": "stream",
     "text": [
      "Epoch  191 , loss 0.3920859884397656\n",
      "Epoch  192 , loss 0.39213916045777936\n"
     ]
    },
    {
     "name": "stderr",
     "output_type": "stream",
     "text": [
      "\r",
      "Iterations:  64%|█████████████████████▏           | 193/300 [03:48<02:08,  1.20s/it]"
     ]
    },
    {
     "name": "stdout",
     "output_type": "stream",
     "text": [
      "Epoch:  192\n",
      "t_loss:  0.39213916045777936 , v_loss:  0.7723547567923864\n",
      "t_acc:  0.7164691203992514 , v_acc:  0.7142857142857143\n",
      "t_recall:  0.5436621498925399 , v_recall:  0.5522559474979492\n",
      "t_prec:  0.7307189637748757 , v_prec:  0.7826086956521738\n",
      "t_f:  0.5044651214830336 , v_f:  0.5130434782608696\n",
      "////////\n"
     ]
    },
    {
     "name": "stderr",
     "output_type": "stream",
     "text": [
      "\r",
      "Iterations:  65%|█████████████████████▎           | 194/300 [03:49<01:59,  1.13s/it]"
     ]
    },
    {
     "name": "stdout",
     "output_type": "stream",
     "text": [
      "Epoch  193 , loss 0.3921323815981547\n",
      "Epoch  194 , loss 0.39089149704166487\n"
     ]
    },
    {
     "name": "stderr",
     "output_type": "stream",
     "text": [
      "\r",
      "Iterations:  65%|█████████████████████▍           | 195/300 [03:50<02:05,  1.20s/it]"
     ]
    },
    {
     "name": "stdout",
     "output_type": "stream",
     "text": [
      "Epoch:  194\n",
      "t_loss:  0.39089149704166487 , v_loss:  0.7661502063274384\n",
      "t_acc:  0.7139737991266376 , v_acc:  0.7142857142857143\n",
      "t_recall:  0.5381160569596248 , v_recall:  0.5522559474979492\n",
      "t_prec:  0.7313106796116504 , v_prec:  0.7826086956521738\n",
      "t_f:  0.49357534118914886 , v_f:  0.5130434782608696\n",
      "////////\n"
     ]
    },
    {
     "name": "stderr",
     "output_type": "stream",
     "text": [
      "\r",
      "Iterations:  65%|█████████████████████▌           | 196/300 [03:51<01:56,  1.12s/it]"
     ]
    },
    {
     "name": "stdout",
     "output_type": "stream",
     "text": [
      "Epoch  195 , loss 0.40053915860606176\n",
      "Epoch  196 , loss 0.3924023243142109\n"
     ]
    },
    {
     "name": "stderr",
     "output_type": "stream",
     "text": [
      "\r",
      "Iterations:  66%|█████████████████████▋           | 197/300 [03:53<02:07,  1.24s/it]"
     ]
    },
    {
     "name": "stdout",
     "output_type": "stream",
     "text": [
      "Epoch:  196\n",
      "t_loss:  0.3924023243142109 , v_loss:  0.7623586108287176\n",
      "t_acc:  0.7164691203992514 , v_acc:  0.7142857142857143\n",
      "t_recall:  0.545683090255031 , v_recall:  0.5522559474979492\n",
      "t_prec:  0.7195636611104237 , v_prec:  0.7826086956521738\n",
      "t_f:  0.5093474300312801 , v_f:  0.5130434782608696\n",
      "////////\n"
     ]
    },
    {
     "name": "stderr",
     "output_type": "stream",
     "text": [
      "\r",
      "Iterations:  66%|█████████████████████▊           | 198/300 [03:54<01:58,  1.17s/it]"
     ]
    },
    {
     "name": "stdout",
     "output_type": "stream",
     "text": [
      "Epoch  197 , loss 0.3877411572372212\n",
      "Epoch  198 , loss 0.3858857347684748\n"
     ]
    },
    {
     "name": "stderr",
     "output_type": "stream",
     "text": [
      "\r",
      "Iterations:  66%|█████████████████████▉           | 199/300 [03:55<02:03,  1.23s/it]"
     ]
    },
    {
     "name": "stdout",
     "output_type": "stream",
     "text": [
      "Epoch:  198\n",
      "t_loss:  0.3858857347684748 , v_loss:  0.7728496491909027\n",
      "t_acc:  0.7186525265127885 , v_acc:  0.7142857142857143\n",
      "t_recall:  0.5446535415876519 , v_recall:  0.5522559474979492\n",
      "t_prec:  0.7561423911352315 , v_prec:  0.7826086956521738\n",
      "t_f:  0.5043830333044719 , v_f:  0.5130434782608696\n",
      "////////\n"
     ]
    },
    {
     "name": "stderr",
     "output_type": "stream",
     "text": [
      "\r",
      "Iterations:  67%|██████████████████████           | 200/300 [03:56<01:51,  1.12s/it]"
     ]
    },
    {
     "name": "stdout",
     "output_type": "stream",
     "text": [
      "Epoch  199 , loss 0.38963641138637767\n",
      "Epoch  200 , loss 0.39893480258829456\n"
     ]
    },
    {
     "name": "stderr",
     "output_type": "stream",
     "text": [
      "\r",
      "Iterations:  67%|██████████████████████           | 201/300 [03:57<02:01,  1.23s/it]"
     ]
    },
    {
     "name": "stdout",
     "output_type": "stream",
     "text": [
      "Epoch:  200\n",
      "t_loss:  0.39893480258829456 , v_loss:  0.7593118399381638\n",
      "t_acc:  0.7164691203992514 , v_acc:  0.7261904761904762\n",
      "t_recall:  0.5462605017871714 , v_recall:  0.571123872026251\n",
      "t_prec:  0.7167713611139834 , v_prec:  0.8029350104821802\n",
      "t_f:  0.5107188397962121 , v_f:  0.5450906522251\n",
      "////////\n"
     ]
    },
    {
     "name": "stderr",
     "output_type": "stream",
     "text": [
      "\r",
      "Iterations:  67%|██████████████████████▏          | 202/300 [03:58<01:50,  1.12s/it]"
     ]
    },
    {
     "name": "stdout",
     "output_type": "stream",
     "text": [
      "Epoch  201 , loss 0.3919500539115831\n",
      "Epoch  202 , loss 0.3893191072286344\n"
     ]
    },
    {
     "name": "stderr",
     "output_type": "stream",
     "text": [
      "\r",
      "Iterations:  68%|██████████████████████▎          | 203/300 [04:00<01:59,  1.23s/it]"
     ]
    },
    {
     "name": "stdout",
     "output_type": "stream",
     "text": [
      "Epoch:  202\n",
      "t_loss:  0.3893191072286344 , v_loss:  0.7619234224160513\n",
      "t_acc:  0.7223955084217093 , v_acc:  0.7261904761904762\n",
      "t_recall:  0.5554266799986208 , v_recall:  0.571123872026251\n",
      "t_prec:  0.7375614023680181 , v_prec:  0.8029350104821802\n",
      "t_f:  0.5258925218581868 , v_f:  0.5450906522251\n",
      "////////\n"
     ]
    },
    {
     "name": "stderr",
     "output_type": "stream",
     "text": [
      "\r",
      "Iterations:  68%|██████████████████████▍          | 204/300 [04:01<01:53,  1.19s/it]"
     ]
    },
    {
     "name": "stdout",
     "output_type": "stream",
     "text": [
      "Epoch  203 , loss 0.396068321723564\n",
      "Epoch  204 , loss 0.39520835964118733\n"
     ]
    },
    {
     "name": "stderr",
     "output_type": "stream",
     "text": [
      "\r",
      "Iterations:  68%|██████████████████████▌          | 205/300 [04:02<01:56,  1.22s/it]"
     ]
    },
    {
     "name": "stdout",
     "output_type": "stream",
     "text": [
      "Epoch:  204\n",
      "t_loss:  0.39520835964118733 , v_loss:  0.7618092546860377\n",
      "t_acc:  0.7195882719900187 , v_acc:  0.7202380952380952\n",
      "t_recall:  0.5496564723189555 , v_recall:  0.5616899097621001\n",
      "t_prec:  0.735632635253054 , v_prec:  0.79375\n",
      "t_f:  0.5154245844103986 , v_f:  0.5292995529061103\n",
      "////////\n"
     ]
    },
    {
     "name": "stderr",
     "output_type": "stream",
     "text": [
      "\r",
      "Iterations:  69%|██████████████████████▋          | 206/300 [04:03<01:45,  1.13s/it]"
     ]
    },
    {
     "name": "stdout",
     "output_type": "stream",
     "text": [
      "Epoch  205 , loss 0.39984799249499453\n",
      "Epoch  206 , loss 0.38884375258988024\n"
     ]
    },
    {
     "name": "stderr",
     "output_type": "stream",
     "text": [
      "\r",
      "Iterations:  69%|██████████████████████▊          | 207/300 [04:04<01:52,  1.21s/it]"
     ]
    },
    {
     "name": "stdout",
     "output_type": "stream",
     "text": [
      "Epoch:  206\n",
      "t_loss:  0.38884375258988024 , v_loss:  0.7586899300416311\n",
      "t_acc:  0.7252027448533999 , v_acc:  0.7261904761904762\n",
      "t_recall:  0.5591759473157949 , v_recall:  0.571123872026251\n",
      "t_prec:  0.7494013020227854 , v_prec:  0.8029350104821802\n",
      "t_f:  0.5316498955762294 , v_f:  0.5450906522251\n",
      "////////\n"
     ]
    },
    {
     "name": "stderr",
     "output_type": "stream",
     "text": [
      "\r",
      "Iterations:  69%|██████████████████████▉          | 208/300 [04:06<01:47,  1.16s/it]"
     ]
    },
    {
     "name": "stdout",
     "output_type": "stream",
     "text": [
      "Epoch  207 , loss 0.39376582877308713\n",
      "Epoch  208 , loss 0.39892415848432805\n"
     ]
    },
    {
     "name": "stderr",
     "output_type": "stream",
     "text": [
      "\r",
      "Iterations:  70%|██████████████████████▉          | 209/300 [04:07<01:54,  1.26s/it]"
     ]
    },
    {
     "name": "stdout",
     "output_type": "stream",
     "text": [
      "Epoch:  208\n",
      "t_loss:  0.39892415848432805 , v_loss:  0.7593922863403956\n",
      "t_acc:  0.7177167810355584 , v_acc:  0.7202380952380952\n",
      "t_recall:  0.5486004896045237 , v_recall:  0.5616899097621001\n",
      "t_prec:  0.7195193361905711 , v_prec:  0.79375\n",
      "t_f:  0.5149008369186506 , v_f:  0.5292995529061103\n",
      "////////\n"
     ]
    },
    {
     "name": "stderr",
     "output_type": "stream",
     "text": [
      "\r",
      "Iterations:  70%|███████████████████████          | 210/300 [04:08<01:44,  1.16s/it]"
     ]
    },
    {
     "name": "stdout",
     "output_type": "stream",
     "text": [
      "Epoch  209 , loss 0.39002298432237964\n",
      "Epoch  210 , loss 0.3833499924809325\n"
     ]
    },
    {
     "name": "stderr",
     "output_type": "stream",
     "text": [
      "\r",
      "Iterations:  70%|███████████████████████▏         | 211/300 [04:09<01:48,  1.22s/it]"
     ]
    },
    {
     "name": "stdout",
     "output_type": "stream",
     "text": [
      "Epoch:  210\n",
      "t_loss:  0.3833499924809325 , v_loss:  0.7614168226718903\n",
      "t_acc:  0.7242669993761697 , v_acc:  0.7261904761904762\n",
      "t_recall:  0.5544617223505615 , v_recall:  0.571123872026251\n",
      "t_prec:  0.7669096193490971 , v_prec:  0.8029350104821802\n",
      "t_f:  0.5218348450491307 , v_f:  0.5450906522251\n",
      "////////\n"
     ]
    },
    {
     "name": "stderr",
     "output_type": "stream",
     "text": [
      "\r",
      "Iterations:  71%|███████████████████████▎         | 212/300 [04:10<01:37,  1.11s/it]"
     ]
    },
    {
     "name": "stdout",
     "output_type": "stream",
     "text": [
      "Epoch  211 , loss 0.39110346985798256\n",
      "Epoch  212 , loss 0.3866298882400288\n"
     ]
    },
    {
     "name": "stderr",
     "output_type": "stream",
     "text": [
      "\r",
      "Iterations:  71%|███████████████████████▍         | 213/300 [04:12<01:47,  1.23s/it]"
     ]
    },
    {
     "name": "stdout",
     "output_type": "stream",
     "text": [
      "Epoch:  212\n",
      "t_loss:  0.3866298882400288 , v_loss:  0.7547724395990372\n",
      "t_acc:  0.7195882719900187 , v_acc:  0.7261904761904762\n",
      "t_recall:  0.5513887069153766 , v_recall:  0.571123872026251\n",
      "t_prec:  0.7266794828117649 , v_prec:  0.8029350104821802\n",
      "t_f:  0.5194481194796318 , v_f:  0.5450906522251\n",
      "////////\n"
     ]
    },
    {
     "name": "stderr",
     "output_type": "stream",
     "text": [
      "\r",
      "Iterations:  71%|███████████████████████▌         | 214/300 [04:13<01:37,  1.13s/it]"
     ]
    },
    {
     "name": "stdout",
     "output_type": "stream",
     "text": [
      "Epoch  213 , loss 0.3924541049728207\n",
      "Epoch  214 , loss 0.3868172782308915\n"
     ]
    },
    {
     "name": "stderr",
     "output_type": "stream",
     "text": [
      "\r",
      "Iterations:  72%|███████████████████████▋         | 215/300 [04:14<01:43,  1.21s/it]"
     ]
    },
    {
     "name": "stdout",
     "output_type": "stream",
     "text": [
      "Epoch:  214\n",
      "t_loss:  0.3868172782308915 , v_loss:  0.7606497506300608\n",
      "t_acc:  0.7245789145352464 , v_acc:  0.7261904761904762\n",
      "t_recall:  0.5578616005240837 , v_recall:  0.571123872026251\n",
      "t_prec:  0.7494094800253646 , v_prec:  0.8029350104821802\n",
      "t_f:  0.5292985231146696 , v_f:  0.5450906522251\n",
      "////////\n"
     ]
    },
    {
     "name": "stderr",
     "output_type": "stream",
     "text": [
      "\r",
      "Iterations:  72%|███████████████████████▊         | 216/300 [04:15<01:38,  1.17s/it]"
     ]
    },
    {
     "name": "stdout",
     "output_type": "stream",
     "text": [
      "Epoch  215 , loss 0.3946359496490628\n",
      "Epoch  216 , loss 0.3905558366985882\n"
     ]
    },
    {
     "name": "stderr",
     "output_type": "stream",
     "text": [
      "\r",
      "Iterations:  72%|███████████████████████▊         | 217/300 [04:16<01:42,  1.23s/it]"
     ]
    },
    {
     "name": "stdout",
     "output_type": "stream",
     "text": [
      "Epoch:  216\n",
      "t_loss:  0.3905558366985882 , v_loss:  0.7779832184314728\n",
      "t_acc:  0.7220835932626326 , v_acc:  0.7202380952380952\n",
      "t_recall:  0.5552025652518705 , v_recall:  0.5616899097621001\n",
      "t_prec:  0.7352699144173799 , v_prec:  0.79375\n",
      "t_f:  0.5256850722469713 , v_f:  0.5292995529061103\n",
      "////////\n"
     ]
    },
    {
     "name": "stderr",
     "output_type": "stream",
     "text": [
      "\r",
      "Iterations:  73%|███████████████████████▉         | 218/300 [04:17<01:32,  1.13s/it]"
     ]
    },
    {
     "name": "stdout",
     "output_type": "stream",
     "text": [
      "Epoch  217 , loss 0.38770750223421585\n",
      "Epoch  218 , loss 0.3932792865762524\n"
     ]
    },
    {
     "name": "stderr",
     "output_type": "stream",
     "text": [
      "\r",
      "Iterations:  73%|████████████████████████         | 219/300 [04:19<01:37,  1.20s/it]"
     ]
    },
    {
     "name": "stdout",
     "output_type": "stream",
     "text": [
      "Epoch:  218\n",
      "t_loss:  0.3932792865762524 , v_loss:  0.757571816444397\n",
      "t_acc:  0.7280099812850904 , v_acc:  0.7261904761904762\n",
      "t_recall:  0.5632139203990392 , v_recall:  0.571123872026251\n",
      "t_prec:  0.759234576047509 , v_prec:  0.8029350104821802\n",
      "t_f:  0.538011336407053 , v_f:  0.5450906522251\n",
      "////////\n"
     ]
    },
    {
     "name": "stderr",
     "output_type": "stream",
     "text": [
      "\r",
      "Iterations:  73%|████████████████████████▏        | 220/300 [04:20<01:32,  1.15s/it]"
     ]
    },
    {
     "name": "stdout",
     "output_type": "stream",
     "text": [
      "Epoch  219 , loss 0.39282293179455924\n",
      "Epoch  220 , loss 0.3923846407263887\n"
     ]
    },
    {
     "name": "stderr",
     "output_type": "stream",
     "text": [
      "\r",
      "Iterations:  74%|████████████████████████▎        | 221/300 [04:21<01:41,  1.28s/it]"
     ]
    },
    {
     "name": "stdout",
     "output_type": "stream",
     "text": [
      "Epoch:  220\n",
      "t_loss:  0.3923846407263887 , v_loss:  0.7607063601414362\n",
      "t_acc:  0.7233312538989395 , v_acc:  0.7261904761904762\n",
      "t_recall:  0.5569651415370823 , v_recall:  0.571123872026251\n",
      "t_prec:  0.7400837014647756 , v_prec:  0.8029350104821802\n",
      "t_f:  0.5284602240364534 , v_f:  0.5450906522251\n",
      "////////\n"
     ]
    },
    {
     "name": "stderr",
     "output_type": "stream",
     "text": [
      "\r",
      "Iterations:  74%|████████████████████████▍        | 222/300 [04:22<01:30,  1.16s/it]"
     ]
    },
    {
     "name": "stdout",
     "output_type": "stream",
     "text": [
      "Epoch  221 , loss 0.3896808752826616\n",
      "Epoch  222 , loss 0.38684720619052065\n"
     ]
    },
    {
     "name": "stderr",
     "output_type": "stream",
     "text": [
      "\r",
      "Iterations:  74%|████████████████████████▌        | 223/300 [04:24<01:36,  1.25s/it]"
     ]
    },
    {
     "name": "stdout",
     "output_type": "stream",
     "text": [
      "Epoch:  222\n",
      "t_loss:  0.38684720619052065 , v_loss:  0.7576489845911661\n",
      "t_acc:  0.7195882719900187 , v_acc:  0.7261904761904762\n",
      "t_recall:  0.5531209415117977 , v_recall:  0.571123872026251\n",
      "t_prec:  0.7190238983410668 , v_prec:  0.8029350104821802\n",
      "t_f:  0.5233826901665187 , v_f:  0.5450906522251\n",
      "////////\n"
     ]
    },
    {
     "name": "stderr",
     "output_type": "stream",
     "text": [
      "\r",
      "Iterations:  75%|████████████████████████▋        | 224/300 [04:24<01:25,  1.13s/it]"
     ]
    },
    {
     "name": "stdout",
     "output_type": "stream",
     "text": [
      "Epoch  223 , loss 0.39128709306903914\n",
      "Epoch  224 , loss 0.38930583000183105\n"
     ]
    },
    {
     "name": "stderr",
     "output_type": "stream",
     "text": [
      "\r",
      "Iterations:  75%|████████████████████████▊        | 225/300 [04:26<01:34,  1.25s/it]"
     ]
    },
    {
     "name": "stdout",
     "output_type": "stream",
     "text": [
      "Epoch:  224\n",
      "t_loss:  0.38930583000183105 , v_loss:  0.7628083030382792\n",
      "t_acc:  0.7199001871490954 , v_acc:  0.7261904761904762\n",
      "t_recall:  0.5510354101299866 , v_recall:  0.571123872026251\n",
      "t_prec:  0.7319095955027544 , v_prec:  0.8029350104821802\n",
      "t_f:  0.5183190116714852 , v_f:  0.5450906522251\n",
      "////////\n"
     ]
    },
    {
     "name": "stderr",
     "output_type": "stream",
     "text": [
      "\r",
      "Iterations:  75%|████████████████████████▊        | 226/300 [04:27<01:24,  1.14s/it]"
     ]
    },
    {
     "name": "stdout",
     "output_type": "stream",
     "text": [
      "Epoch  225 , loss 0.3960873344365288\n",
      "Epoch  226 , loss 0.3912252526657254\n"
     ]
    },
    {
     "name": "stderr",
     "output_type": "stream",
     "text": [
      "\r",
      "Iterations:  76%|████████████████████████▉        | 227/300 [04:28<01:29,  1.22s/it]"
     ]
    },
    {
     "name": "stdout",
     "output_type": "stream",
     "text": [
      "Epoch:  226\n",
      "t_loss:  0.3912252526657254 , v_loss:  0.7546610732873281\n",
      "t_acc:  0.7183406113537117 , v_acc:  0.7261904761904762\n",
      "t_recall:  0.5513583652265858 , v_recall:  0.571123872026251\n",
      "t_prec:  0.7140776624610998 , v_prec:  0.8029350104821802\n",
      "t_f:  0.5206094431900884 , v_f:  0.5450906522251\n",
      "////////\n"
     ]
    },
    {
     "name": "stderr",
     "output_type": "stream",
     "text": [
      "\r",
      "Iterations:  76%|█████████████████████████        | 228/300 [04:29<01:23,  1.16s/it]"
     ]
    },
    {
     "name": "stdout",
     "output_type": "stream",
     "text": [
      "Epoch  227 , loss 0.3900221539478676\n",
      "Epoch  228 , loss 0.3946957027210909\n"
     ]
    },
    {
     "name": "stderr",
     "output_type": "stream",
     "text": [
      "\r",
      "Iterations:  76%|█████████████████████████▏       | 229/300 [04:31<01:26,  1.22s/it]"
     ]
    },
    {
     "name": "stdout",
     "output_type": "stream",
     "text": [
      "Epoch:  228\n",
      "t_loss:  0.3946957027210909 , v_loss:  0.7614683856566747\n",
      "t_acc:  0.7214597629444791 , v_acc:  0.7202380952380952\n",
      "t_recall:  0.5573526876530014 , v_recall:  0.5616899097621001\n",
      "t_prec:  0.7198775432511315 , v_prec:  0.79375\n",
      "t_f:  0.531015284080643 , v_f:  0.5292995529061103\n",
      "////////\n"
     ]
    },
    {
     "name": "stderr",
     "output_type": "stream",
     "text": [
      "\r",
      "Iterations:  77%|█████████████████████████▎       | 230/300 [04:32<01:17,  1.11s/it]"
     ]
    },
    {
     "name": "stdout",
     "output_type": "stream",
     "text": [
      "Epoch  229 , loss 0.3851288966104096\n",
      "Epoch  230 , loss 0.3874618495796241\n"
     ]
    },
    {
     "name": "stderr",
     "output_type": "stream",
     "text": [
      "\r",
      "Iterations:  77%|█████████████████████████▍       | 231/300 [04:33<01:22,  1.20s/it]"
     ]
    },
    {
     "name": "stdout",
     "output_type": "stream",
     "text": [
      "Epoch:  230\n",
      "t_loss:  0.3874618495796241 , v_loss:  0.7555114229520162\n",
      "t_acc:  0.7195882719900187 , v_acc:  0.7261904761904762\n",
      "t_recall:  0.5528322357457275 , v_recall:  0.571123872026251\n",
      "t_prec:  0.7202212138400453 , v_prec:  0.8029350104821802\n",
      "t_f:  0.5227329893996562 , v_f:  0.5450906522251\n",
      "////////\n"
     ]
    },
    {
     "name": "stderr",
     "output_type": "stream",
     "text": [
      "\r",
      "Iterations:  77%|█████████████████████████▌       | 232/300 [04:34<01:18,  1.15s/it]"
     ]
    },
    {
     "name": "stdout",
     "output_type": "stream",
     "text": [
      "Epoch  231 , loss 0.39028838978094216\n",
      "Epoch  232 , loss 0.38297660035245557\n"
     ]
    },
    {
     "name": "stderr",
     "output_type": "stream",
     "text": [
      "\r",
      "Iterations:  78%|█████████████████████████▋       | 233/300 [04:36<01:26,  1.29s/it]"
     ]
    },
    {
     "name": "stdout",
     "output_type": "stream",
     "text": [
      "Epoch:  232\n",
      "t_loss:  0.38297660035245557 , v_loss:  0.7656247317790985\n",
      "t_acc:  0.7258265751715534 , v_acc:  0.7202380952380952\n",
      "t_recall:  0.5599128825753658 , v_recall:  0.5616899097621001\n",
      "t_prec:  0.7525071688754553 , v_prec:  0.79375\n",
      "t_f:  0.5327131194228214 , v_f:  0.5292995529061103\n",
      "////////\n"
     ]
    },
    {
     "name": "stderr",
     "output_type": "stream",
     "text": [
      "\r",
      "Iterations:  78%|█████████████████████████▋       | 234/300 [04:36<01:17,  1.17s/it]"
     ]
    },
    {
     "name": "stdout",
     "output_type": "stream",
     "text": [
      "Epoch  233 , loss 0.38721393077981237\n",
      "Epoch  234 , loss 0.39271652114157585\n"
     ]
    },
    {
     "name": "stderr",
     "output_type": "stream",
     "text": [
      "\r",
      "Iterations:  78%|█████████████████████████▊       | 235/300 [04:38<01:21,  1.25s/it]"
     ]
    },
    {
     "name": "stdout",
     "output_type": "stream",
     "text": [
      "Epoch:  234\n",
      "t_loss:  0.39271652114157585 , v_loss:  0.7593593746423721\n",
      "t_acc:  0.7242669993761697 , v_acc:  0.7261904761904762\n",
      "t_recall:  0.5602358376719649 , v_recall:  0.571123872026251\n",
      "t_prec:  0.7344426849888618 , v_prec:  0.8029350104821802\n",
      "t_f:  0.5348071013997951 , v_f:  0.5450906522251\n",
      "////////\n"
     ]
    },
    {
     "name": "stderr",
     "output_type": "stream",
     "text": [
      "\r",
      "Iterations:  79%|█████████████████████████▉       | 236/300 [04:39<01:11,  1.12s/it]"
     ]
    },
    {
     "name": "stdout",
     "output_type": "stream",
     "text": [
      "Epoch  235 , loss 0.3839130512639588\n",
      "Epoch  236 , loss 0.38788404476408866\n"
     ]
    },
    {
     "name": "stderr",
     "output_type": "stream",
     "text": [
      "\r",
      "Iterations:  79%|██████████████████████████       | 237/300 [04:40<01:20,  1.27s/it]"
     ]
    },
    {
     "name": "stdout",
     "output_type": "stream",
     "text": [
      "Epoch:  236\n",
      "t_loss:  0.38788404476408866 , v_loss:  0.7571151107549667\n",
      "t_acc:  0.7255146600124766 , v_acc:  0.7202380952380952\n",
      "t_recall:  0.5611322966589664 , v_recall:  0.5616899097621001\n",
      "t_prec:  0.7428683621752432 , v_prec:  0.79375\n",
      "t_f:  0.5356633117926193 , v_f:  0.5292995529061103\n",
      "////////\n"
     ]
    },
    {
     "name": "stderr",
     "output_type": "stream",
     "text": [
      "\r",
      "Iterations:  79%|██████████████████████████▏      | 238/300 [04:41<01:11,  1.15s/it]"
     ]
    },
    {
     "name": "stdout",
     "output_type": "stream",
     "text": [
      "Epoch  237 , loss 0.3876088010329826\n",
      "Epoch  238 , loss 0.3836117567969303\n"
     ]
    },
    {
     "name": "stderr",
     "output_type": "stream",
     "text": [
      "\r",
      "Iterations:  80%|██████████████████████████▎      | 239/300 [04:43<01:14,  1.23s/it]"
     ]
    },
    {
     "name": "stdout",
     "output_type": "stream",
     "text": [
      "Epoch:  238\n",
      "t_loss:  0.3836117567969303 , v_loss:  0.7598951856295267\n",
      "t_acc:  0.7305053025577043 , v_acc:  0.7202380952380952\n",
      "t_recall:  0.5678938960337436 , v_recall:  0.5616899097621001\n",
      "t_prec:  0.7615954569367269 , v_prec:  0.79375\n",
      "t_f:  0.5459414802065404 , v_f:  0.5292995529061103\n",
      "////////\n"
     ]
    },
    {
     "name": "stderr",
     "output_type": "stream",
     "text": [
      "\r",
      "Iterations:  80%|██████████████████████████▍      | 240/300 [04:44<01:10,  1.17s/it]"
     ]
    },
    {
     "name": "stdout",
     "output_type": "stream",
     "text": [
      "Epoch  239 , loss 0.380564201111887\n",
      "Epoch  240 , loss 0.38501689393146366\n"
     ]
    },
    {
     "name": "stderr",
     "output_type": "stream",
     "text": [
      "\r",
      "Iterations:  80%|██████████████████████████▌      | 241/300 [04:45<01:11,  1.22s/it]"
     ]
    },
    {
     "name": "stdout",
     "output_type": "stream",
     "text": [
      "Epoch:  240\n",
      "t_loss:  0.38501689393146366 , v_loss:  0.7571112761894861\n",
      "t_acc:  0.7267623206487835 , v_acc:  0.7202380952380952\n",
      "t_recall:  0.5634722844763186 , v_recall:  0.5616899097621001\n",
      "t_prec:  0.7445589696627243 , v_prec:  0.79375\n",
      "t_f:  0.5396351118760757 , v_f:  0.5292995529061103\n",
      "////////\n"
     ]
    },
    {
     "name": "stderr",
     "output_type": "stream",
     "text": [
      "\r",
      "Iterations:  81%|██████████████████████████▌      | 242/300 [04:46<01:04,  1.11s/it]"
     ]
    },
    {
     "name": "stdout",
     "output_type": "stream",
     "text": [
      "Epoch  241 , loss 0.38510390005859674\n",
      "Epoch  242 , loss 0.38963676609245\n"
     ]
    },
    {
     "name": "stderr",
     "output_type": "stream",
     "text": [
      "\r",
      "Iterations:  81%|██████████████████████████▋      | 243/300 [04:47<01:10,  1.23s/it]"
     ]
    },
    {
     "name": "stdout",
     "output_type": "stream",
     "text": [
      "Epoch:  242\n",
      "t_loss:  0.38963676609245 , v_loss:  0.7556452254454294\n",
      "t_acc:  0.7255146600124766 , v_acc:  0.7202380952380952\n",
      "t_recall:  0.5651741773839488 , v_recall:  0.5616899097621001\n",
      "t_prec:  0.7263323929990597 , v_prec:  0.79375\n",
      "t_f:  0.5442161748588681 , v_f:  0.5292995529061103\n",
      "////////\n"
     ]
    },
    {
     "name": "stderr",
     "output_type": "stream",
     "text": [
      "\r",
      "Iterations:  81%|██████████████████████████▊      | 244/300 [04:48<01:05,  1.16s/it]"
     ]
    },
    {
     "name": "stdout",
     "output_type": "stream",
     "text": [
      "Epoch  243 , loss 0.38898371130812404\n",
      "Epoch  244 , loss 0.392095395747353\n"
     ]
    },
    {
     "name": "stderr",
     "output_type": "stream",
     "text": [
      "\r",
      "Iterations:  82%|██████████████████████████▉      | 245/300 [04:50<01:08,  1.25s/it]"
     ]
    },
    {
     "name": "stdout",
     "output_type": "stream",
     "text": [
      "Epoch:  244\n",
      "t_loss:  0.392095395747353 , v_loss:  0.7595687210559845\n",
      "t_acc:  0.7348721147847785 , v_acc:  0.7202380952380952\n",
      "t_recall:  0.5776717351078624 , v_recall:  0.5616899097621001\n",
      "t_prec:  0.7582782621191066 , v_prec:  0.79375\n",
      "t_f:  0.5626047703703133 , v_f:  0.5292995529061103\n",
      "////////\n"
     ]
    },
    {
     "name": "stderr",
     "output_type": "stream",
     "text": [
      "\r",
      "Iterations:  82%|███████████████████████████      | 246/300 [04:51<01:01,  1.13s/it]"
     ]
    },
    {
     "name": "stdout",
     "output_type": "stream",
     "text": [
      "Epoch  245 , loss 0.38704562362502604\n",
      "Epoch  246 , loss 0.38480549524812135\n"
     ]
    },
    {
     "name": "stderr",
     "output_type": "stream",
     "text": [
      "\r",
      "Iterations:  82%|███████████████████████████▏     | 247/300 [04:52<01:04,  1.21s/it]"
     ]
    },
    {
     "name": "stdout",
     "output_type": "stream",
     "text": [
      "Epoch:  246\n",
      "t_loss:  0.38480549524812135 , v_loss:  0.7554618418216705\n",
      "t_acc:  0.7367436057392389 , v_acc:  0.7202380952380952\n",
      "t_recall:  0.5801712466526452 , v_recall:  0.5616899097621001\n",
      "t_prec:  0.7643541993527214 , v_prec:  0.79375\n",
      "t_f:  0.5662522826599914 , v_f:  0.5292995529061103\n",
      "////////\n"
     ]
    },
    {
     "name": "stderr",
     "output_type": "stream",
     "text": [
      "\r",
      "Iterations:  83%|███████████████████████████▎     | 248/300 [04:53<00:57,  1.10s/it]"
     ]
    },
    {
     "name": "stdout",
     "output_type": "stream",
     "text": [
      "Epoch  247 , loss 0.3770506528078341\n",
      "Epoch  248 , loss 0.39426205234200346\n"
     ]
    },
    {
     "name": "stderr",
     "output_type": "stream",
     "text": [
      "\r",
      "Iterations:  83%|███████████████████████████▍     | 249/300 [04:54<01:01,  1.20s/it]"
     ]
    },
    {
     "name": "stdout",
     "output_type": "stream",
     "text": [
      "Epoch:  248\n",
      "t_loss:  0.39426205234200346 , v_loss:  0.7566096186637878\n",
      "t_acc:  0.7301933873986276 , v_acc:  0.7202380952380952\n",
      "t_recall:  0.568824604351274 , v_recall:  0.5616899097621001\n",
      "t_prec:  0.7537612719506408 , v_prec:  0.79375\n",
      "t_f:  0.5481351382574267 , v_f:  0.5292995529061103\n",
      "////////\n"
     ]
    },
    {
     "name": "stderr",
     "output_type": "stream",
     "text": [
      "\r",
      "Iterations:  83%|███████████████████████████▌     | 250/300 [04:55<00:56,  1.13s/it]"
     ]
    },
    {
     "name": "stdout",
     "output_type": "stream",
     "text": [
      "Epoch  249 , loss 0.38238999715038374\n",
      "Epoch  250 , loss 0.3855154140322816\n"
     ]
    },
    {
     "name": "stderr",
     "output_type": "stream",
     "text": [
      "\r",
      "Iterations:  84%|███████████████████████████▌     | 251/300 [04:57<00:58,  1.20s/it]"
     ]
    },
    {
     "name": "stdout",
     "output_type": "stream",
     "text": [
      "Epoch:  250\n",
      "t_loss:  0.3855154140322816 , v_loss:  0.7665646423896154\n",
      "t_acc:  0.7326887086712415 , v_acc:  0.7202380952380952\n",
      "t_recall:  0.5735045799859785 , v_recall:  0.5616899097621001\n",
      "t_prec:  0.7564033073330938 , v_prec:  0.79375\n",
      "t_f:  0.5558384566725624 , v_f:  0.5292995529061103\n",
      "////////\n"
     ]
    },
    {
     "name": "stderr",
     "output_type": "stream",
     "text": [
      "\r",
      "Iterations:  84%|███████████████████████████▋     | 252/300 [04:58<00:52,  1.09s/it]"
     ]
    },
    {
     "name": "stdout",
     "output_type": "stream",
     "text": [
      "Epoch  251 , loss 0.3813657743089339\n",
      "Epoch  252 , loss 0.38032713532447815\n"
     ]
    },
    {
     "name": "stderr",
     "output_type": "stream",
     "text": [
      "\r",
      "Iterations:  84%|███████████████████████████▊     | 253/300 [04:59<00:55,  1.17s/it]"
     ]
    },
    {
     "name": "stdout",
     "output_type": "stream",
     "text": [
      "Epoch:  252\n",
      "t_loss:  0.38032713532447815 , v_loss:  0.754178116718928\n",
      "t_acc:  0.7358078602620087 , v_acc:  0.7202380952380952\n",
      "t_recall:  0.5789214908802538 , v_recall:  0.5616899097621001\n",
      "t_prec:  0.7613286244900445 , v_prec:  0.79375\n",
      "t_f:  0.564429772958216 , v_f:  0.5292995529061103\n",
      "////////\n"
     ]
    },
    {
     "name": "stderr",
     "output_type": "stream",
     "text": [
      "\r",
      "Iterations:  85%|███████████████████████████▉     | 254/300 [05:00<00:51,  1.12s/it]"
     ]
    },
    {
     "name": "stdout",
     "output_type": "stream",
     "text": [
      "Epoch  253 , loss 0.3811674532937069\n",
      "Epoch  254 , loss 0.3801204603092343\n"
     ]
    },
    {
     "name": "stderr",
     "output_type": "stream",
     "text": [
      "\r",
      "Iterations:  85%|████████████████████████████     | 255/300 [05:01<00:55,  1.23s/it]"
     ]
    },
    {
     "name": "stdout",
     "output_type": "stream",
     "text": [
      "Epoch:  254\n",
      "t_loss:  0.3801204603092343 , v_loss:  0.7564714799324671\n",
      "t_acc:  0.7301933873986276 , v_acc:  0.7202380952380952\n",
      "t_recall:  0.570556838947695 , v_recall:  0.5616899097621001\n",
      "t_prec:  0.7461208113101041 , v_prec:  0.79375\n",
      "t_f:  0.5516922579017111 , v_f:  0.5292995529061103\n",
      "////////\n"
     ]
    },
    {
     "name": "stderr",
     "output_type": "stream",
     "text": [
      "\r",
      "Iterations:  85%|████████████████████████████▏    | 256/300 [05:02<00:49,  1.12s/it]"
     ]
    },
    {
     "name": "stdout",
     "output_type": "stream",
     "text": [
      "Epoch  255 , loss 0.3801747180667578\n",
      "Epoch  256 , loss 0.386821132664587\n"
     ]
    },
    {
     "name": "stderr",
     "output_type": "stream",
     "text": [
      "\r",
      "Iterations:  86%|████████████████████████████▎    | 257/300 [05:04<00:51,  1.20s/it]"
     ]
    },
    {
     "name": "stdout",
     "output_type": "stream",
     "text": [
      "Epoch:  256\n",
      "t_loss:  0.386821132664587 , v_loss:  0.7602927088737488\n",
      "t_acc:  0.7289457267623206 , v_acc:  0.7202380952380952\n",
      "t_recall:  0.5705264972589043 , v_recall:  0.5616899097621001\n",
      "t_prec:  0.7355154563206956 , v_prec:  0.79375\n",
      "t_f:  0.5525386238656325 , v_f:  0.5292995529061103\n",
      "////////\n"
     ]
    },
    {
     "name": "stderr",
     "output_type": "stream",
     "text": [
      "\r",
      "Iterations:  86%|████████████████████████████▍    | 258/300 [05:04<00:46,  1.10s/it]"
     ]
    },
    {
     "name": "stdout",
     "output_type": "stream",
     "text": [
      "Epoch  257 , loss 0.3895541239602893\n",
      "Epoch  258 , loss 0.3811752439713946\n"
     ]
    },
    {
     "name": "stderr",
     "output_type": "stream",
     "text": [
      "\r",
      "Iterations:  86%|████████████████████████████▍    | 259/300 [05:06<00:49,  1.20s/it]"
     ]
    },
    {
     "name": "stdout",
     "output_type": "stream",
     "text": [
      "Epoch:  258\n",
      "t_loss:  0.3811752439713946 , v_loss:  0.7616200596094131\n",
      "t_acc:  0.7336244541484717 , v_acc:  0.7202380952380952\n",
      "t_recall:  0.5753317472905102 , v_recall:  0.5616899097621001\n",
      "t_prec:  0.7570371555538824 , v_prec:  0.79375\n",
      "t_f:  0.5588342588725437 , v_f:  0.5292995529061103\n",
      "////////\n"
     ]
    },
    {
     "name": "stderr",
     "output_type": "stream",
     "text": [
      "\r",
      "Iterations:  87%|████████████████████████████▌    | 260/300 [05:07<00:44,  1.11s/it]"
     ]
    },
    {
     "name": "stdout",
     "output_type": "stream",
     "text": [
      "Epoch  259 , loss 0.3836793975502837\n",
      "Epoch  260 , loss 0.3722677070136164\n"
     ]
    },
    {
     "name": "stderr",
     "output_type": "stream",
     "text": [
      "\r",
      "Iterations:  87%|████████████████████████████▋    | 261/300 [05:08<00:45,  1.17s/it]"
     ]
    },
    {
     "name": "stdout",
     "output_type": "stream",
     "text": [
      "Epoch:  260\n",
      "t_loss:  0.3722677070136164 , v_loss:  0.7577838649352392\n",
      "t_acc:  0.7370555208983156 , v_acc:  0.7202380952380952\n",
      "t_recall:  0.5818388902297463 , v_recall:  0.5616899097621001\n",
      "t_prec:  0.7600777232351565 , v_prec:  0.79375\n",
      "t_f:  0.5692587460066125 , v_f:  0.5292995529061103\n",
      "////////\n"
     ]
    },
    {
     "name": "stderr",
     "output_type": "stream",
     "text": [
      "\r",
      "Iterations:  87%|████████████████████████████▊    | 262/300 [05:09<00:40,  1.08s/it]"
     ]
    },
    {
     "name": "stdout",
     "output_type": "stream",
     "text": [
      "Epoch  261 , loss 0.37943678948224757\n",
      "Epoch  262 , loss 0.3766791510815714\n"
     ]
    },
    {
     "name": "stderr",
     "output_type": "stream",
     "text": [
      "\r",
      "Iterations:  88%|████████████████████████████▉    | 263/300 [05:10<00:42,  1.16s/it]"
     ]
    },
    {
     "name": "stdout",
     "output_type": "stream",
     "text": [
      "Epoch:  262\n",
      "t_loss:  0.3766791510815714 , v_loss:  0.7640349914630254\n",
      "t_acc:  0.734248284466625 , v_acc:  0.7202380952380952\n",
      "t_recall:  0.5752025652518705 , v_recall:  0.5616899097621001\n",
      "t_prec:  0.7635057096326795 , v_prec:  0.79375\n",
      "t_f:  0.5581407537537246 , v_f:  0.5292995529061103\n",
      "////////\n"
     ]
    },
    {
     "name": "stderr",
     "output_type": "stream",
     "text": [
      "\r",
      "Iterations:  88%|█████████████████████████████    | 264/300 [05:11<00:40,  1.11s/it]"
     ]
    },
    {
     "name": "stdout",
     "output_type": "stream",
     "text": [
      "Epoch  263 , loss 0.39170731983932794\n",
      "Epoch  264 , loss 0.38809461161202075\n"
     ]
    },
    {
     "name": "stderr",
     "output_type": "stream",
     "text": [
      "\r",
      "Iterations:  88%|█████████████████████████████▏   | 265/300 [05:13<00:41,  1.19s/it]"
     ]
    },
    {
     "name": "stdout",
     "output_type": "stream",
     "text": [
      "Epoch:  264\n",
      "t_loss:  0.38809461161202075 , v_loss:  0.7562413463989893\n",
      "t_acc:  0.7417342482844667 , v_acc:  0.7202380952380952\n",
      "t_recall:  0.5869328460274225 , v_recall:  0.5616899097621001\n",
      "t_prec:  0.7796351257628658 , v_prec:  0.79375\n",
      "t_f:  0.5761114712842639 , v_f:  0.5292995529061103\n",
      "////////\n"
     ]
    },
    {
     "name": "stderr",
     "output_type": "stream",
     "text": [
      "\r",
      "Iterations:  89%|█████████████████████████████▎   | 266/300 [05:14<00:36,  1.09s/it]"
     ]
    },
    {
     "name": "stdout",
     "output_type": "stream",
     "text": [
      "Epoch  265 , loss 0.37613121434754015\n",
      "Epoch  266 , loss 0.37956873108358946\n"
     ]
    },
    {
     "name": "stderr",
     "output_type": "stream",
     "text": [
      "\r",
      "Iterations:  89%|█████████████████████████████▎   | 267/300 [05:15<00:38,  1.17s/it]"
     ]
    },
    {
     "name": "stdout",
     "output_type": "stream",
     "text": [
      "Epoch:  266\n",
      "t_loss:  0.37956873108358946 , v_loss:  0.7612362056970596\n",
      "t_acc:  0.7295695570804741 , v_acc:  0.7202380952380952\n",
      "t_recall:  0.5701086094541944 , v_recall:  0.5616899097621001\n",
      "t_prec:  0.7423898531375166 , v_prec:  0.79375\n",
      "t_f:  0.5512424533762135 , v_f:  0.5292995529061103\n",
      "////////\n"
     ]
    },
    {
     "name": "stderr",
     "output_type": "stream",
     "text": [
      "\r",
      "Iterations:  89%|█████████████████████████████▍   | 268/300 [05:16<00:34,  1.07s/it]"
     ]
    },
    {
     "name": "stdout",
     "output_type": "stream",
     "text": [
      "Epoch  267 , loss 0.376388130234737\n",
      "Epoch  268 , loss 0.37911205665737974\n"
     ]
    },
    {
     "name": "stderr",
     "output_type": "stream",
     "text": [
      "\r",
      "Iterations:  90%|█████████████████████████████▌   | 269/300 [05:17<00:37,  1.20s/it]"
     ]
    },
    {
     "name": "stdout",
     "output_type": "stream",
     "text": [
      "Epoch:  268\n",
      "t_loss:  0.37911205665737974 , v_loss:  0.763400932153066\n",
      "t_acc:  0.7298814722395508 , v_acc:  0.7202380952380952\n",
      "t_recall:  0.572353664563436 , v_recall:  0.5616899097621001\n",
      "t_prec:  0.7365955662055084 , v_prec:  0.79375\n",
      "t_f:  0.5555186274528638 , v_f:  0.5292995529061103\n",
      "////////\n"
     ]
    },
    {
     "name": "stderr",
     "output_type": "stream",
     "text": [
      "\r",
      "Iterations:  90%|█████████████████████████████▋   | 270/300 [05:18<00:32,  1.10s/it]"
     ]
    },
    {
     "name": "stdout",
     "output_type": "stream",
     "text": [
      "Epoch  269 , loss 0.3749948973749198\n",
      "Epoch  270 , loss 0.37944962580998737\n"
     ]
    },
    {
     "name": "stderr",
     "output_type": "stream",
     "text": [
      "\r",
      "Iterations:  90%|█████████████████████████████▊   | 271/300 [05:19<00:34,  1.19s/it]"
     ]
    },
    {
     "name": "stdout",
     "output_type": "stream",
     "text": [
      "Epoch:  270\n",
      "t_loss:  0.37944962580998737 , v_loss:  0.762639045715332\n",
      "t_acc:  0.7339363693075484 , v_acc:  0.7202380952380952\n",
      "t_recall:  0.5767106851015412 , v_recall:  0.5616899097621001\n",
      "t_prec:  0.7540080983985873 , v_prec:  0.79375\n",
      "t_f:  0.5613442695789354 , v_f:  0.5292995529061103\n",
      "////////\n"
     ]
    },
    {
     "name": "stderr",
     "output_type": "stream",
     "text": [
      "\r",
      "Iterations:  91%|█████████████████████████████▉   | 272/300 [05:20<00:30,  1.09s/it]"
     ]
    },
    {
     "name": "stdout",
     "output_type": "stream",
     "text": [
      "Epoch  271 , loss 0.37314801853077084\n",
      "Epoch  272 , loss 0.3729354891122556\n"
     ]
    },
    {
     "name": "stderr",
     "output_type": "stream",
     "text": [
      "\r",
      "Iterations:  91%|██████████████████████████████   | 273/300 [05:22<00:31,  1.18s/it]"
     ]
    },
    {
     "name": "stdout",
     "output_type": "stream",
     "text": [
      "Epoch:  272\n",
      "t_loss:  0.3729354891122556 , v_loss:  0.7634873489538828\n",
      "t_acc:  0.7333125389893949 , v_acc:  0.7202380952380952\n",
      "t_recall:  0.5768398671401809 , v_recall:  0.5616899097621001\n",
      "t_prec:  0.7481796044425966 , v_prec:  0.79375\n",
      "t_f:  0.5620086312643895 , v_f:  0.5292995529061103\n",
      "////////\n"
     ]
    },
    {
     "name": "stderr",
     "output_type": "stream",
     "text": [
      "\r",
      "Iterations:  91%|██████████████████████████████▏  | 274/300 [05:23<00:28,  1.08s/it]"
     ]
    },
    {
     "name": "stdout",
     "output_type": "stream",
     "text": [
      "Epoch  273 , loss 0.3779621840107675\n",
      "Epoch  274 , loss 0.3742077911601347\n"
     ]
    },
    {
     "name": "stderr",
     "output_type": "stream",
     "text": [
      "\r",
      "Iterations:  92%|██████████████████████████████▎  | 275/300 [05:24<00:29,  1.19s/it]"
     ]
    },
    {
     "name": "stdout",
     "output_type": "stream",
     "text": [
      "Epoch:  274\n",
      "t_loss:  0.3742077911601347 , v_loss:  0.7623555908600489\n",
      "t_acc:  0.7395508421709295 , v_acc:  0.7202380952380952\n",
      "t_recall:  0.5856527485662403 , v_recall:  0.5616899097621001\n",
      "t_prec:  0.7658135022541802 , v_prec:  0.79375\n",
      "t_f:  0.5749705759119244 , v_f:  0.5292995529061103\n",
      "////////\n"
     ]
    },
    {
     "name": "stderr",
     "output_type": "stream",
     "text": [
      "\r",
      "Iterations:  92%|██████████████████████████████▎  | 276/300 [05:25<00:26,  1.12s/it]"
     ]
    },
    {
     "name": "stdout",
     "output_type": "stream",
     "text": [
      "Epoch  275 , loss 0.3816977417936512\n",
      "Epoch  276 , loss 0.3773166864526038\n"
     ]
    },
    {
     "name": "stderr",
     "output_type": "stream",
     "text": [
      "\r",
      "Iterations:  92%|██████████████████████████████▍  | 277/300 [05:26<00:27,  1.22s/it]"
     ]
    },
    {
     "name": "stdout",
     "output_type": "stream",
     "text": [
      "Epoch:  276\n",
      "t_loss:  0.3773166864526038 , v_loss:  0.7658614963293076\n",
      "t_acc:  0.7330006238303182 , v_acc:  0.7202380952380952\n",
      "t_recall:  0.5771931639255709 , v_recall:  0.5616899097621001\n",
      "t_prec:  0.7443340972752737 , v_prec:  0.79375\n",
      "t_f:  0.5628949630130815 , v_f:  0.5292995529061103\n",
      "////////\n"
     ]
    },
    {
     "name": "stderr",
     "output_type": "stream",
     "text": [
      "\r",
      "Iterations:  93%|██████████████████████████████▌  | 278/300 [05:27<00:25,  1.15s/it]"
     ]
    },
    {
     "name": "stdout",
     "output_type": "stream",
     "text": [
      "Epoch  277 , loss 0.37291764073512135\n",
      "Epoch  278 , loss 0.38287700391283225\n"
     ]
    },
    {
     "name": "stderr",
     "output_type": "stream",
     "text": [
      "\r",
      "Iterations:  93%|██████████████████████████████▋  | 279/300 [05:29<00:25,  1.21s/it]"
     ]
    },
    {
     "name": "stdout",
     "output_type": "stream",
     "text": [
      "Epoch:  278\n",
      "t_loss:  0.38287700391283225 , v_loss:  0.77402696510156\n",
      "t_acc:  0.730817217716781 , v_acc:  0.7202380952380952\n",
      "t_recall:  0.5733147145697571 , v_recall:  0.5616899097621001\n",
      "t_prec:  0.7407373861797455 , v_prec:  0.79375\n",
      "t_f:  0.5567733651802885 , v_f:  0.5292995529061103\n",
      "////////\n"
     ]
    },
    {
     "name": "stderr",
     "output_type": "stream",
     "text": [
      "\r",
      "Iterations:  93%|██████████████████████████████▊  | 280/300 [05:30<00:22,  1.11s/it]"
     ]
    },
    {
     "name": "stdout",
     "output_type": "stream",
     "text": [
      "Epoch  279 , loss 0.37762128401036354\n",
      "Epoch  280 , loss 0.3741031777040631\n"
     ]
    },
    {
     "name": "stderr",
     "output_type": "stream",
     "text": [
      "\r",
      "Iterations:  94%|██████████████████████████████▉  | 281/300 [05:31<00:22,  1.19s/it]"
     ]
    },
    {
     "name": "stdout",
     "output_type": "stream",
     "text": [
      "Epoch:  280\n",
      "t_loss:  0.3741031777040631 , v_loss:  0.763258770108223\n",
      "t_acc:  0.7367436057392389 , v_acc:  0.7202380952380952\n",
      "t_recall:  0.5810373639508557 , v_recall:  0.5616899097621001\n",
      "t_prec:  0.7606712479278592 , v_prec:  0.79375\n",
      "t_f:  0.5679203886037666 , v_f:  0.5292995529061103\n",
      "////////\n"
     ]
    },
    {
     "name": "stderr",
     "output_type": "stream",
     "text": [
      "\r",
      "Iterations:  94%|███████████████████████████████  | 282/300 [05:32<00:20,  1.13s/it]"
     ]
    },
    {
     "name": "stdout",
     "output_type": "stream",
     "text": [
      "Epoch  281 , loss 0.38083891541350123\n",
      "Epoch  282 , loss 0.3791838317525153\n"
     ]
    },
    {
     "name": "stderr",
     "output_type": "stream",
     "text": [
      "\r",
      "Iterations:  94%|███████████████████████████████▏ | 283/300 [05:33<00:20,  1.22s/it]"
     ]
    },
    {
     "name": "stdout",
     "output_type": "stream",
     "text": [
      "Epoch:  282\n",
      "t_loss:  0.3791838317525153 , v_loss:  0.7673444251219431\n",
      "t_acc:  0.7351840299438552 , v_acc:  0.7202380952380952\n",
      "t_recall:  0.5793393786849637 , v_recall:  0.5616899097621001\n",
      "t_prec:  0.7541753561203209 , v_prec:  0.79375\n",
      "t_f:  0.5656386007528692 , v_f:  0.5292995529061103\n",
      "////////\n"
     ]
    },
    {
     "name": "stderr",
     "output_type": "stream",
     "text": [
      "\r",
      "Iterations:  95%|███████████████████████████████▏ | 284/300 [05:34<00:17,  1.12s/it]"
     ]
    },
    {
     "name": "stdout",
     "output_type": "stream",
     "text": [
      "Epoch  283 , loss 0.37521575128330903\n",
      "Epoch  284 , loss 0.3812690418140561\n"
     ]
    },
    {
     "name": "stderr",
     "output_type": "stream",
     "text": [
      "\r",
      "Iterations:  95%|███████████████████████████████▎ | 285/300 [05:36<00:17,  1.19s/it]"
     ]
    },
    {
     "name": "stdout",
     "output_type": "stream",
     "text": [
      "Epoch:  284\n",
      "t_loss:  0.3812690418140561 , v_loss:  0.770152822136879\n",
      "t_acc:  0.743605739238927 , v_acc:  0.7202380952380952\n",
      "t_recall:  0.5914532979346965 , v_recall:  0.5616899097621001\n",
      "t_prec:  0.7762902963712953 , v_prec:  0.79375\n",
      "t_f:  0.5834318112410872 , v_f:  0.5292995529061103\n",
      "////////\n"
     ]
    },
    {
     "name": "stderr",
     "output_type": "stream",
     "text": [
      "\r",
      "Iterations:  95%|███████████████████████████████▍ | 286/300 [05:37<00:15,  1.10s/it]"
     ]
    },
    {
     "name": "stdout",
     "output_type": "stream",
     "text": [
      "Epoch  285 , loss 0.3752336922813864\n",
      "Epoch  286 , loss 0.3753289206355226\n"
     ]
    },
    {
     "name": "stderr",
     "output_type": "stream",
     "text": [
      "\r",
      "Iterations:  96%|███████████████████████████████▌ | 287/300 [05:38<00:15,  1.21s/it]"
     ]
    },
    {
     "name": "stdout",
     "output_type": "stream",
     "text": [
      "Epoch:  286\n",
      "t_loss:  0.3753289206355226 , v_loss:  0.7629953324794769\n",
      "t_acc:  0.7420461634435433 , v_acc:  0.7202380952380952\n",
      "t_recall:  0.5906214299670149 , v_recall:  0.5616899097621001\n",
      "t_prec:  0.7667415426251691 , v_prec:  0.79375\n",
      "t_f:  0.5827304525048886 , v_f:  0.5292995529061103\n",
      "////////\n"
     ]
    },
    {
     "name": "stderr",
     "output_type": "stream",
     "text": [
      "\r",
      "Iterations:  96%|███████████████████████████████▋ | 288/300 [05:39<00:13,  1.11s/it]"
     ]
    },
    {
     "name": "stdout",
     "output_type": "stream",
     "text": [
      "Epoch  287 , loss 0.3747609666749543\n",
      "Epoch  288 , loss 0.37592442187608455\n"
     ]
    },
    {
     "name": "stderr",
     "output_type": "stream",
     "text": [
      "\r",
      "Iterations:  96%|███████████████████████████████▊ | 289/300 [05:40<00:13,  1.21s/it]"
     ]
    },
    {
     "name": "stdout",
     "output_type": "stream",
     "text": [
      "Epoch:  288\n",
      "t_loss:  0.37592442187608455 , v_loss:  0.7641948709885279\n",
      "t_acc:  0.7389270118527761 , v_acc:  0.7202380952380952\n",
      "t_recall:  0.5852045190727396 , v_recall:  0.5616899097621001\n",
      "t_prec:  0.7623771206595846 , v_prec:  0.79375\n",
      "t_f:  0.5744913846866677 , v_f:  0.5292995529061103\n",
      "////////\n"
     ]
    },
    {
     "name": "stderr",
     "output_type": "stream",
     "text": [
      "\r",
      "Iterations:  97%|███████████████████████████████▉ | 290/300 [05:41<00:11,  1.17s/it]"
     ]
    },
    {
     "name": "stdout",
     "output_type": "stream",
     "text": [
      "Epoch  289 , loss 0.3708361942394107\n",
      "Epoch  290 , loss 0.36952657413248924\n"
     ]
    },
    {
     "name": "stderr",
     "output_type": "stream",
     "text": [
      "\r",
      "Iterations:  97%|████████████████████████████████ | 291/300 [05:43<00:10,  1.22s/it]"
     ]
    },
    {
     "name": "stdout",
     "output_type": "stream",
     "text": [
      "Epoch:  290\n",
      "t_loss:  0.36952657413248924 , v_loss:  0.7658073157072067\n",
      "t_acc:  0.734248284466625 , v_acc:  0.7202380952380952\n",
      "t_recall:  0.5766460940822213 , v_recall:  0.5616899097621001\n",
      "t_prec:  0.7570446475787566 , v_prec:  0.79375\n",
      "t_f:  0.5610082542621306 , v_f:  0.5292995529061103\n",
      "////////\n"
     ]
    },
    {
     "name": "stderr",
     "output_type": "stream",
     "text": [
      "\r",
      "Iterations:  97%|████████████████████████████████ | 292/300 [05:44<00:09,  1.15s/it]"
     ]
    },
    {
     "name": "stdout",
     "output_type": "stream",
     "text": [
      "Epoch  291 , loss 0.3673226468118967\n",
      "Epoch  292 , loss 0.37550295334236294\n"
     ]
    },
    {
     "name": "stderr",
     "output_type": "stream",
     "text": [
      "\r",
      "Iterations:  98%|████████████████████████████████▏| 293/300 [05:45<00:08,  1.21s/it]"
     ]
    },
    {
     "name": "stdout",
     "output_type": "stream",
     "text": [
      "Epoch:  292\n",
      "t_loss:  0.37550295334236294 , v_loss:  0.7714254558086395\n",
      "t_acc:  0.7358078602620087 , v_acc:  0.7202380952380952\n",
      "t_recall:  0.5818085485409555 , v_recall:  0.5616899097621001\n",
      "t_prec:  0.7499887615194426 , v_prec:  0.79375\n",
      "t_f:  0.569951008456129 , v_f:  0.5292995529061103\n",
      "////////\n"
     ]
    },
    {
     "name": "stderr",
     "output_type": "stream",
     "text": [
      "\r",
      "Iterations:  98%|████████████████████████████████▎| 294/300 [05:46<00:06,  1.14s/it]"
     ]
    },
    {
     "name": "stdout",
     "output_type": "stream",
     "text": [
      "Epoch  293 , loss 0.37188539756279365\n",
      "Epoch  294 , loss 0.37651028527933006\n"
     ]
    },
    {
     "name": "stderr",
     "output_type": "stream",
     "text": [
      "\r",
      "Iterations:  98%|████████████████████████████████▍| 295/300 [05:48<00:06,  1.22s/it]"
     ]
    },
    {
     "name": "stdout",
     "output_type": "stream",
     "text": [
      "Epoch:  294\n",
      "t_loss:  0.37651028527933006 , v_loss:  0.7744357685248057\n",
      "t_acc:  0.7404865876481597 , v_acc:  0.7202380952380952\n",
      "t_recall:  0.5869025043386317 , v_recall:  0.5616899097621001\n",
      "t_prec:  0.7686444881212757 , v_prec:  0.79375\n",
      "t_f:  0.5767656765676568 , v_f:  0.5292995529061103\n",
      "////////\n"
     ]
    },
    {
     "name": "stderr",
     "output_type": "stream",
     "text": [
      "\r",
      "Iterations:  99%|████████████████████████████████▌| 296/300 [05:49<00:04,  1.17s/it]"
     ]
    },
    {
     "name": "stdout",
     "output_type": "stream",
     "text": [
      "Epoch  295 , loss 0.36817312211382625\n",
      "Epoch  296 , loss 0.37035661497536826\n"
     ]
    },
    {
     "name": "stderr",
     "output_type": "stream",
     "text": [
      "\r",
      "Iterations:  99%|████████████████████████████████▋| 297/300 [05:50<00:03,  1.27s/it]"
     ]
    },
    {
     "name": "stdout",
     "output_type": "stream",
     "text": [
      "Epoch:  296\n",
      "t_loss:  0.37035661497536826 , v_loss:  0.7668066620826721\n",
      "t_acc:  0.74235807860262 , v_acc:  0.7202380952380952\n",
      "t_recall:  0.5917116620119758 , v_recall:  0.5616899097621001\n",
      "t_prec:  0.7651058796951515 , v_prec:  0.79375\n",
      "t_f:  0.5845286843451221 , v_f:  0.5292995529061103\n",
      "////////\n"
     ]
    },
    {
     "name": "stderr",
     "output_type": "stream",
     "text": [
      "\r",
      "Iterations:  99%|████████████████████████████████▊| 298/300 [05:51<00:02,  1.14s/it]"
     ]
    },
    {
     "name": "stdout",
     "output_type": "stream",
     "text": [
      "Epoch  297 , loss 0.37954606992356915\n",
      "Epoch  298 , loss 0.36611930646148383\n"
     ]
    },
    {
     "name": "stderr",
     "output_type": "stream",
     "text": [
      "\r",
      "Iterations: 100%|████████████████████████████████▉| 299/300 [05:52<00:01,  1.23s/it]"
     ]
    },
    {
     "name": "stdout",
     "output_type": "stream",
     "text": [
      "Epoch:  298\n",
      "t_loss:  0.36611930646148383 , v_loss:  0.7651843726634979\n",
      "t_acc:  0.7386150966936993 , v_acc:  0.7202380952380952\n",
      "t_recall:  0.5872900504545506 , v_recall:  0.5616899097621001\n",
      "t_prec:  0.752324569271965 , v_prec:  0.79375\n",
      "t_f:  0.5784927814542522 , v_f:  0.5292995529061103\n",
      "////////\n"
     ]
    },
    {
     "name": "stderr",
     "output_type": "stream",
     "text": [
      "Iterations: 100%|█████████████████████████████████| 300/300 [05:53<00:00,  1.18s/it]"
     ]
    },
    {
     "name": "stdout",
     "output_type": "stream",
     "text": [
      "Epoch  299 , loss 0.3764183404398899\n"
     ]
    },
    {
     "name": "stderr",
     "output_type": "stream",
     "text": [
      "\n"
     ]
    },
    {
     "name": "stdout",
     "output_type": "stream",
     "text": [
      "114 7\n",
      "\n",
      "c0_acc 0.991304347826087 , c1_acc 0.1320754716981132 , b_acc 0.5616899097621001\n"
     ]
    },
    {
     "name": "stderr",
     "output_type": "stream",
     "text": [
      "\r",
      "Iterations:   0%|                                           | 0/300 [00:00<?, ?it/s]"
     ]
    },
    {
     "name": "stdout",
     "output_type": "stream",
     "text": [
      "Epoch  0 , loss 0.6894501376152039\n"
     ]
    },
    {
     "name": "stderr",
     "output_type": "stream",
     "text": [
      "\r",
      "Iterations:   0%|                                   | 1/300 [00:01<08:10,  1.64s/it]"
     ]
    },
    {
     "name": "stdout",
     "output_type": "stream",
     "text": [
      "Epoch:  0\n",
      "t_loss:  0.6894501376152039 , v_loss:  0.6965024073918661\n",
      "t_acc:  0.5225140712945591 , v_acc:  0.30113636363636365\n",
      "t_recall:  0.4956095366621682 , v_recall:  0.5\n",
      "t_prec:  0.4962096347611066 , v_prec:  0.15056818181818182\n",
      "t_f:  0.48722032097544515 , v_f:  0.23144104803493448\n",
      "////////\n"
     ]
    },
    {
     "name": "stderr",
     "output_type": "stream",
     "text": [
      "\r",
      "Iterations:   1%|▏                                  | 2/300 [00:02<06:06,  1.23s/it]"
     ]
    },
    {
     "name": "stdout",
     "output_type": "stream",
     "text": [
      "Epoch  1 , loss 0.640014990568161\n",
      "Epoch  2 , loss 0.5984411072731018\n"
     ]
    },
    {
     "name": "stderr",
     "output_type": "stream",
     "text": [
      "\r",
      "Iterations:   1%|▎                                  | 3/300 [00:04<06:35,  1.33s/it]"
     ]
    },
    {
     "name": "stdout",
     "output_type": "stream",
     "text": [
      "Epoch:  2\n",
      "t_loss:  0.5984411072731018 , v_loss:  0.6877158681551615\n",
      "t_acc:  0.6479049405878674 , v_acc:  0.6988636363636364\n",
      "t_recall:  0.5040395861448493 , v_recall:  0.5\n",
      "t_prec:  0.5075808804748279 , v_prec:  0.3494318181818182\n",
      "t_f:  0.482498986827318 , v_f:  0.411371237458194\n",
      "////////\n"
     ]
    },
    {
     "name": "stderr",
     "output_type": "stream",
     "text": [
      "\r",
      "Iterations:   1%|▍                                  | 4/300 [00:04<05:38,  1.14s/it]"
     ]
    },
    {
     "name": "stdout",
     "output_type": "stream",
     "text": [
      "Epoch  3 , loss 0.5660815525054932\n",
      "Epoch  4 , loss 0.531664724946022\n"
     ]
    },
    {
     "name": "stderr",
     "output_type": "stream",
     "text": [
      "\r",
      "Iterations:   2%|▌                                  | 5/300 [00:06<06:09,  1.25s/it]"
     ]
    },
    {
     "name": "stdout",
     "output_type": "stream",
     "text": [
      "Epoch:  4\n",
      "t_loss:  0.531664724946022 , v_loss:  0.6665546894073486\n",
      "t_acc:  0.6851156973108192 , v_acc:  0.6988636363636364\n",
      "t_recall:  0.4994242015294647 , v_recall:  0.5\n",
      "t_prec:  0.4948717948717949 , v_prec:  0.3494318181818182\n",
      "t_f:  0.4276069069256417 , v_f:  0.411371237458194\n",
      "////////\n"
     ]
    },
    {
     "name": "stderr",
     "output_type": "stream",
     "text": [
      "\r",
      "Iterations:   2%|▋                                  | 6/300 [00:07<05:30,  1.12s/it]"
     ]
    },
    {
     "name": "stdout",
     "output_type": "stream",
     "text": [
      "Epoch  5 , loss 0.5085188263654709\n",
      "Epoch  6 , loss 0.494413338303566\n"
     ]
    },
    {
     "name": "stderr",
     "output_type": "stream",
     "text": [
      "\r",
      "Iterations:   2%|▊                                  | 7/300 [00:08<06:09,  1.26s/it]"
     ]
    },
    {
     "name": "stdout",
     "output_type": "stream",
     "text": [
      "Epoch:  6\n",
      "t_loss:  0.494413338303566 , v_loss:  0.6415667831897736\n",
      "t_acc:  0.6901188242651657 , v_acc:  0.6988636363636364\n",
      "t_recall:  0.49755285650022496 , v_recall:  0.5\n",
      "t_prec:  0.4303717706364209 , v_prec:  0.3494318181818182\n",
      "t_f:  0.4121937390419881 , v_f:  0.411371237458194\n",
      "////////\n"
     ]
    },
    {
     "name": "stderr",
     "output_type": "stream",
     "text": [
      "\r",
      "Iterations:   3%|▉                                  | 8/300 [00:09<05:39,  1.16s/it]"
     ]
    },
    {
     "name": "stdout",
     "output_type": "stream",
     "text": [
      "Epoch  7 , loss 0.48196250677108765\n",
      "Epoch  8 , loss 0.47148380398750306\n"
     ]
    },
    {
     "name": "stderr",
     "output_type": "stream",
     "text": [
      "\r",
      "Iterations:   3%|█                                  | 9/300 [00:11<06:02,  1.24s/it]"
     ]
    },
    {
     "name": "stdout",
     "output_type": "stream",
     "text": [
      "Epoch:  8\n",
      "t_loss:  0.47148380398750306 , v_loss:  0.6465628643830618\n",
      "t_acc:  0.6951219512195121 , v_acc:  0.6988636363636364\n",
      "t_recall:  0.5002878992352676 , v_recall:  0.5\n",
      "t_prec:  0.597622027534418 , v_prec:  0.3494318181818182\n",
      "t_f:  0.41106229399079736 , v_f:  0.411371237458194\n",
      "////////\n"
     ]
    },
    {
     "name": "stderr",
     "output_type": "stream",
     "text": [
      "\r",
      "Iterations:   3%|█▏                                | 10/300 [00:12<05:43,  1.18s/it]"
     ]
    },
    {
     "name": "stdout",
     "output_type": "stream",
     "text": [
      "Epoch  9 , loss 0.4639021062850952\n",
      "Epoch  10 , loss 0.46141830205917356\n"
     ]
    },
    {
     "name": "stderr",
     "output_type": "stream",
     "text": [
      "\r",
      "Iterations:   4%|█▏                                | 11/300 [00:13<06:00,  1.25s/it]"
     ]
    },
    {
     "name": "stdout",
     "output_type": "stream",
     "text": [
      "Epoch:  10\n",
      "t_loss:  0.46141830205917356 , v_loss:  0.6739279727141062\n",
      "t_acc:  0.6951219512195121 , v_acc:  0.6988636363636364\n",
      "t_recall:  0.5002878992352676 , v_recall:  0.5\n",
      "t_prec:  0.597622027534418 , v_prec:  0.3494318181818182\n",
      "t_f:  0.41106229399079736 , v_f:  0.411371237458194\n",
      "////////\n"
     ]
    },
    {
     "name": "stderr",
     "output_type": "stream",
     "text": [
      "\r",
      "Iterations:   4%|█▎                                | 12/300 [00:14<05:25,  1.13s/it]"
     ]
    },
    {
     "name": "stdout",
     "output_type": "stream",
     "text": [
      "Epoch  11 , loss 0.45943593680858613\n",
      "Epoch  12 , loss 0.4595053422451019\n"
     ]
    },
    {
     "name": "stderr",
     "output_type": "stream",
     "text": [
      "\r",
      "Iterations:   4%|█▍                                | 13/300 [00:15<05:44,  1.20s/it]"
     ]
    },
    {
     "name": "stdout",
     "output_type": "stream",
     "text": [
      "Epoch:  12\n",
      "t_loss:  0.4595053422451019 , v_loss:  0.6958671361207962\n",
      "t_acc:  0.6944965603502189 , v_acc:  0.6988636363636364\n",
      "t_recall:  0.4995501574448943 , v_recall:  0.5\n",
      "t_prec:  0.34746558197747185 , v_prec:  0.3494318181818182\n",
      "t_f:  0.40985421664513755 , v_f:  0.411371237458194\n",
      "////////\n"
     ]
    },
    {
     "name": "stderr",
     "output_type": "stream",
     "text": [
      "\r",
      "Iterations:   5%|█▌                                | 14/300 [00:16<05:32,  1.16s/it]"
     ]
    },
    {
     "name": "stdout",
     "output_type": "stream",
     "text": [
      "Epoch  13 , loss 0.46062418818473816\n",
      "Epoch  14 , loss 0.4589583539962769\n"
     ]
    },
    {
     "name": "stderr",
     "output_type": "stream",
     "text": [
      "\r",
      "Iterations:   5%|█▋                                | 15/300 [00:18<06:08,  1.29s/it]"
     ]
    },
    {
     "name": "stdout",
     "output_type": "stream",
     "text": [
      "Epoch:  14\n",
      "t_loss:  0.4589583539962769 , v_loss:  0.7106191863616308\n",
      "t_acc:  0.6954346466541589 , v_acc:  0.6988636363636364\n",
      "t_recall:  0.5005128205128205 , v_recall:  0.5\n",
      "t_prec:  0.8476696903346888 , v_prec:  0.3494318181818182\n",
      "t_f:  0.41117219163994917 , v_f:  0.411371237458194\n",
      "////////\n"
     ]
    },
    {
     "name": "stderr",
     "output_type": "stream",
     "text": [
      "\r",
      "Iterations:   5%|█▊                                | 16/300 [00:19<05:34,  1.18s/it]"
     ]
    },
    {
     "name": "stdout",
     "output_type": "stream",
     "text": [
      "Epoch  15 , loss 0.45538397014141085\n",
      "Epoch  16 , loss 0.4612007212638855\n"
     ]
    },
    {
     "name": "stderr",
     "output_type": "stream",
     "text": [
      "\r",
      "Iterations:   6%|█▉                                | 17/300 [00:20<05:51,  1.24s/it]"
     ]
    },
    {
     "name": "stdout",
     "output_type": "stream",
     "text": [
      "Epoch:  16\n",
      "t_loss:  0.4612007212638855 , v_loss:  0.7137767672538757\n",
      "t_acc:  0.6951219512195121 , v_acc:  0.6988636363636364\n",
      "t_recall:  0.5 , v_recall:  0.5\n",
      "t_prec:  0.3475609756097561 , v_prec:  0.3494318181818182\n",
      "t_f:  0.41007194244604317 , v_f:  0.411371237458194\n",
      "////////\n"
     ]
    },
    {
     "name": "stderr",
     "output_type": "stream",
     "text": [
      "\r",
      "Iterations:   6%|██                                | 18/300 [00:21<05:19,  1.13s/it]"
     ]
    },
    {
     "name": "stdout",
     "output_type": "stream",
     "text": [
      "Epoch  17 , loss 0.4550112706422806\n",
      "Epoch  18 , loss 0.4501008003950119\n"
     ]
    },
    {
     "name": "stderr",
     "output_type": "stream",
     "text": [
      "\r",
      "Iterations:   6%|██▏                               | 19/300 [00:23<05:56,  1.27s/it]"
     ]
    },
    {
     "name": "stdout",
     "output_type": "stream",
     "text": [
      "Epoch:  18\n",
      "t_loss:  0.4501008003950119 , v_loss:  0.7123536964257559\n",
      "t_acc:  0.6951219512195121 , v_acc:  0.6988636363636364\n",
      "t_recall:  0.5 , v_recall:  0.5\n",
      "t_prec:  0.3475609756097561 , v_prec:  0.3494318181818182\n",
      "t_f:  0.41007194244604317 , v_f:  0.411371237458194\n",
      "////////\n"
     ]
    },
    {
     "name": "stderr",
     "output_type": "stream",
     "text": [
      "\r",
      "Iterations:   7%|██▎                               | 20/300 [00:24<05:22,  1.15s/it]"
     ]
    },
    {
     "name": "stdout",
     "output_type": "stream",
     "text": [
      "Epoch  19 , loss 0.45108711898326875\n",
      "Epoch  20 , loss 0.4554169070720673\n"
     ]
    },
    {
     "name": "stderr",
     "output_type": "stream",
     "text": [
      "\r",
      "Iterations:   7%|██▍                               | 21/300 [00:25<05:44,  1.24s/it]"
     ]
    },
    {
     "name": "stdout",
     "output_type": "stream",
     "text": [
      "Epoch:  20\n",
      "t_loss:  0.4554169070720673 , v_loss:  0.7137615631024042\n",
      "t_acc:  0.6951219512195121 , v_acc:  0.6988636363636364\n",
      "t_recall:  0.5 , v_recall:  0.5\n",
      "t_prec:  0.3475609756097561 , v_prec:  0.3494318181818182\n",
      "t_f:  0.41007194244604317 , v_f:  0.411371237458194\n",
      "////////\n"
     ]
    },
    {
     "name": "stderr",
     "output_type": "stream",
     "text": [
      "\r",
      "Iterations:   7%|██▍                               | 22/300 [00:26<05:30,  1.19s/it]"
     ]
    },
    {
     "name": "stdout",
     "output_type": "stream",
     "text": [
      "Epoch  21 , loss 0.4579653206467629\n",
      "Epoch  22 , loss 0.4529101413488388\n"
     ]
    },
    {
     "name": "stderr",
     "output_type": "stream",
     "text": [
      "\r",
      "Iterations:   8%|██▌                               | 23/300 [00:27<05:43,  1.24s/it]"
     ]
    },
    {
     "name": "stdout",
     "output_type": "stream",
     "text": [
      "Epoch:  22\n",
      "t_loss:  0.4529101413488388 , v_loss:  0.709771970907847\n",
      "t_acc:  0.6951219512195121 , v_acc:  0.6988636363636364\n",
      "t_recall:  0.5 , v_recall:  0.5\n",
      "t_prec:  0.3475609756097561 , v_prec:  0.3494318181818182\n",
      "t_f:  0.41007194244604317 , v_f:  0.411371237458194\n",
      "////////\n"
     ]
    },
    {
     "name": "stderr",
     "output_type": "stream",
     "text": [
      "\r",
      "Iterations:   8%|██▋                               | 24/300 [00:28<05:14,  1.14s/it]"
     ]
    },
    {
     "name": "stdout",
     "output_type": "stream",
     "text": [
      "Epoch  23 , loss 0.4527681887149811\n",
      "Epoch  24 , loss 0.44811302423477173\n"
     ]
    },
    {
     "name": "stderr",
     "output_type": "stream",
     "text": [
      "\r",
      "Iterations:   8%|██▊                               | 25/300 [00:30<05:34,  1.22s/it]"
     ]
    },
    {
     "name": "stdout",
     "output_type": "stream",
     "text": [
      "Epoch:  24\n",
      "t_loss:  0.44811302423477173 , v_loss:  0.7154824336369833\n",
      "t_acc:  0.6954346466541589 , v_acc:  0.6988636363636364\n",
      "t_recall:  0.5005128205128205 , v_recall:  0.5\n",
      "t_prec:  0.8476696903346888 , v_prec:  0.3494318181818182\n",
      "t_f:  0.41117219163994917 , v_f:  0.411371237458194\n",
      "////////\n"
     ]
    },
    {
     "name": "stderr",
     "output_type": "stream",
     "text": [
      "\r",
      "Iterations:   9%|██▉                               | 26/300 [00:31<05:12,  1.14s/it]"
     ]
    },
    {
     "name": "stdout",
     "output_type": "stream",
     "text": [
      "Epoch  25 , loss 0.4494713991880417\n",
      "Epoch  26 , loss 0.45263531148433683\n"
     ]
    },
    {
     "name": "stderr",
     "output_type": "stream",
     "text": [
      "\r",
      "Iterations:   9%|███                               | 27/300 [00:32<05:46,  1.27s/it]"
     ]
    },
    {
     "name": "stdout",
     "output_type": "stream",
     "text": [
      "Epoch:  26\n",
      "t_loss:  0.45263531148433683 , v_loss:  0.7146452118953069\n",
      "t_acc:  0.6951219512195121 , v_acc:  0.6988636363636364\n",
      "t_recall:  0.5002878992352676 , v_recall:  0.5\n",
      "t_prec:  0.597622027534418 , v_prec:  0.3494318181818182\n",
      "t_f:  0.41106229399079736 , v_f:  0.411371237458194\n",
      "////////\n"
     ]
    },
    {
     "name": "stderr",
     "output_type": "stream",
     "text": [
      "\r",
      "Iterations:   9%|███▏                              | 28/300 [00:33<05:25,  1.20s/it]"
     ]
    },
    {
     "name": "stdout",
     "output_type": "stream",
     "text": [
      "Epoch  27 , loss 0.444342725276947\n",
      "Epoch  28 , loss 0.4497015178203583\n"
     ]
    },
    {
     "name": "stderr",
     "output_type": "stream",
     "text": [
      "\r",
      "Iterations:  10%|███▎                              | 29/300 [00:35<05:43,  1.27s/it]"
     ]
    },
    {
     "name": "stdout",
     "output_type": "stream",
     "text": [
      "Epoch:  28\n",
      "t_loss:  0.4497015178203583 , v_loss:  0.7116235146919886\n",
      "t_acc:  0.6948092557848655 , v_acc:  0.6988636363636364\n",
      "t_recall:  0.49977507872244714 , v_recall:  0.5\n",
      "t_prec:  0.3475132937128558 , v_prec:  0.3494318181818182\n",
      "t_f:  0.4099630996309963 , v_f:  0.411371237458194\n",
      "////////\n"
     ]
    },
    {
     "name": "stderr",
     "output_type": "stream",
     "text": [
      "\r",
      "Iterations:  10%|███▍                              | 30/300 [00:36<05:09,  1.15s/it]"
     ]
    },
    {
     "name": "stdout",
     "output_type": "stream",
     "text": [
      "Epoch  29 , loss 0.449175518155098\n",
      "Epoch  30 , loss 0.44698594689369203\n"
     ]
    },
    {
     "name": "stderr",
     "output_type": "stream",
     "text": [
      "\r",
      "Iterations:  10%|███▌                              | 31/300 [00:37<05:33,  1.24s/it]"
     ]
    },
    {
     "name": "stdout",
     "output_type": "stream",
     "text": [
      "Epoch:  30\n",
      "t_loss:  0.44698594689369203 , v_loss:  0.7121472905079523\n",
      "t_acc:  0.6954346466541589 , v_acc:  0.6988636363636364\n",
      "t_recall:  0.5005128205128205 , v_recall:  0.5\n",
      "t_prec:  0.8476696903346888 , v_prec:  0.3494318181818182\n",
      "t_f:  0.41117219163994917 , v_f:  0.411371237458194\n",
      "////////\n"
     ]
    },
    {
     "name": "stderr",
     "output_type": "stream",
     "text": [
      "\r",
      "Iterations:  11%|███▋                              | 32/300 [00:38<05:04,  1.14s/it]"
     ]
    },
    {
     "name": "stdout",
     "output_type": "stream",
     "text": [
      "Epoch  31 , loss 0.4513199734687805\n",
      "Epoch  32 , loss 0.4417949140071869\n"
     ]
    },
    {
     "name": "stderr",
     "output_type": "stream",
     "text": [
      "\r",
      "Iterations:  11%|███▋                              | 33/300 [00:39<05:31,  1.24s/it]"
     ]
    },
    {
     "name": "stdout",
     "output_type": "stream",
     "text": [
      "Epoch:  32\n",
      "t_loss:  0.4417949140071869 , v_loss:  0.7090904961029688\n",
      "t_acc:  0.6951219512195121 , v_acc:  0.6988636363636364\n",
      "t_recall:  0.5 , v_recall:  0.5\n",
      "t_prec:  0.3475609756097561 , v_prec:  0.3494318181818182\n",
      "t_f:  0.41007194244604317 , v_f:  0.411371237458194\n",
      "////////\n"
     ]
    },
    {
     "name": "stderr",
     "output_type": "stream",
     "text": [
      "\r",
      "Iterations:  11%|███▊                              | 34/300 [00:41<05:13,  1.18s/it]"
     ]
    },
    {
     "name": "stdout",
     "output_type": "stream",
     "text": [
      "Epoch  33 , loss 0.4443952059745789\n",
      "Epoch  34 , loss 0.4389904761314392\n"
     ]
    },
    {
     "name": "stderr",
     "output_type": "stream",
     "text": [
      "\r",
      "Iterations:  12%|███▉                              | 35/300 [00:42<05:29,  1.24s/it]"
     ]
    },
    {
     "name": "stdout",
     "output_type": "stream",
     "text": [
      "Epoch:  34\n",
      "t_loss:  0.4389904761314392 , v_loss:  0.7136192073424658\n",
      "t_acc:  0.6948092557848655 , v_acc:  0.6988636363636364\n",
      "t_recall:  0.49977507872244714 , v_recall:  0.5\n",
      "t_prec:  0.3475132937128558 , v_prec:  0.3494318181818182\n",
      "t_f:  0.4099630996309963 , v_f:  0.411371237458194\n",
      "////////\n"
     ]
    },
    {
     "name": "stderr",
     "output_type": "stream",
     "text": [
      "\r",
      "Iterations:  12%|████                              | 36/300 [00:43<05:09,  1.17s/it]"
     ]
    },
    {
     "name": "stdout",
     "output_type": "stream",
     "text": [
      "Epoch  35 , loss 0.4433999693393707\n",
      "Epoch  36 , loss 0.43831035256385803\n"
     ]
    },
    {
     "name": "stderr",
     "output_type": "stream",
     "text": [
      "\r",
      "Iterations:  12%|████▏                             | 37/300 [00:44<05:26,  1.24s/it]"
     ]
    },
    {
     "name": "stdout",
     "output_type": "stream",
     "text": [
      "Epoch:  36\n",
      "t_loss:  0.43831035256385803 , v_loss:  0.7095884184042612\n",
      "t_acc:  0.6954346466541589 , v_acc:  0.6988636363636364\n",
      "t_recall:  0.5008007197480882 , v_recall:  0.5\n",
      "t_prec:  0.6810641627543036 , v_prec:  0.3494318181818182\n",
      "t_f:  0.41215942314529846 , v_f:  0.411371237458194\n",
      "////////\n"
     ]
    },
    {
     "name": "stderr",
     "output_type": "stream",
     "text": [
      "\r",
      "Iterations:  13%|████▎                             | 38/300 [00:45<04:56,  1.13s/it]"
     ]
    },
    {
     "name": "stdout",
     "output_type": "stream",
     "text": [
      "Epoch  37 , loss 0.4381280839443207\n",
      "Epoch  38 , loss 0.4424712407588959\n"
     ]
    },
    {
     "name": "stderr",
     "output_type": "stream",
     "text": [
      "\r",
      "Iterations:  13%|████▍                             | 39/300 [00:47<05:24,  1.24s/it]"
     ]
    },
    {
     "name": "stdout",
     "output_type": "stream",
     "text": [
      "Epoch:  38\n",
      "t_loss:  0.4424712407588959 , v_loss:  0.7111273109912872\n",
      "t_acc:  0.6960600375234521 , v_acc:  0.6988636363636364\n",
      "t_recall:  0.5018263607737292 , v_recall:  0.5\n",
      "t_prec:  0.7479486376448481 , v_prec:  0.3494318181818182\n",
      "t_f:  0.41434751153046157 , v_f:  0.411371237458194\n",
      "////////\n"
     ]
    },
    {
     "name": "stderr",
     "output_type": "stream",
     "text": [
      "\r",
      "Iterations:  13%|████▌                             | 40/300 [00:48<05:15,  1.21s/it]"
     ]
    },
    {
     "name": "stdout",
     "output_type": "stream",
     "text": [
      "Epoch  39 , loss 0.4364756143093109\n",
      "Epoch  40 , loss 0.4330913919210434\n"
     ]
    },
    {
     "name": "stderr",
     "output_type": "stream",
     "text": [
      "\r",
      "Iterations:  14%|████▋                             | 41/300 [00:49<05:43,  1.32s/it]"
     ]
    },
    {
     "name": "stdout",
     "output_type": "stream",
     "text": [
      "Epoch:  40\n",
      "t_loss:  0.4330913919210434 , v_loss:  0.7155585885047913\n",
      "t_acc:  0.6954346466541589 , v_acc:  0.6988636363636364\n",
      "t_recall:  0.5019523166891587 , v_recall:  0.5\n",
      "t_prec:  0.6207034258493311 , v_prec:  0.3494318181818182\n",
      "t_f:  0.41606670840941384 , v_f:  0.411371237458194\n",
      "////////\n"
     ]
    },
    {
     "name": "stderr",
     "output_type": "stream",
     "text": [
      "\r",
      "Iterations:  14%|████▊                             | 42/300 [00:50<05:09,  1.20s/it]"
     ]
    },
    {
     "name": "stdout",
     "output_type": "stream",
     "text": [
      "Epoch  41 , loss 0.43578394889831545\n",
      "Epoch  42 , loss 0.4372487586736679\n"
     ]
    },
    {
     "name": "stderr",
     "output_type": "stream",
     "text": [
      "\r",
      "Iterations:  14%|████▊                             | 43/300 [00:52<05:24,  1.26s/it]"
     ]
    },
    {
     "name": "stdout",
     "output_type": "stream",
     "text": [
      "Epoch:  42\n",
      "t_loss:  0.4372487586736679 , v_loss:  0.7152460962533951\n",
      "t_acc:  0.6960600375234521 , v_acc:  0.6988636363636364\n",
      "t_recall:  0.5018263607737292 , v_recall:  0.5\n",
      "t_prec:  0.7479486376448481 , v_prec:  0.3494318181818182\n",
      "t_f:  0.41434751153046157 , v_f:  0.411371237458194\n",
      "////////\n"
     ]
    },
    {
     "name": "stderr",
     "output_type": "stream",
     "text": [
      "\r",
      "Iterations:  15%|████▉                             | 44/300 [00:53<04:54,  1.15s/it]"
     ]
    },
    {
     "name": "stdout",
     "output_type": "stream",
     "text": [
      "Epoch  43 , loss 0.42836987614631655\n",
      "Epoch  44 , loss 0.4329945367574692\n"
     ]
    },
    {
     "name": "stderr",
     "output_type": "stream",
     "text": [
      "\r",
      "Iterations:  15%|█████                             | 45/300 [00:54<05:28,  1.29s/it]"
     ]
    },
    {
     "name": "stdout",
     "output_type": "stream",
     "text": [
      "Epoch:  44\n",
      "t_loss:  0.4329945367574692 , v_loss:  0.7185538659493128\n",
      "t_acc:  0.6976235146966854 , v_acc:  0.6988636363636364\n",
      "t_recall:  0.5046783625730994 , v_recall:  0.5\n",
      "t_prec:  0.7652228499686127 , v_prec:  0.3494318181818182\n",
      "t_f:  0.4207436553172383 , v_f:  0.411371237458194\n",
      "////////\n"
     ]
    },
    {
     "name": "stderr",
     "output_type": "stream",
     "text": [
      "\r",
      "Iterations:  15%|█████▏                            | 46/300 [00:55<04:53,  1.16s/it]"
     ]
    },
    {
     "name": "stdout",
     "output_type": "stream",
     "text": [
      "Epoch  45 , loss 0.4337023174762726\n",
      "Epoch  46 , loss 0.43065470695495606\n"
     ]
    },
    {
     "name": "stderr",
     "output_type": "stream",
     "text": [
      "\r",
      "Iterations:  16%|█████▎                            | 47/300 [00:57<05:12,  1.24s/it]"
     ]
    },
    {
     "name": "stdout",
     "output_type": "stream",
     "text": [
      "Epoch:  46\n",
      "t_loss:  0.43065470695495606 , v_loss:  0.7169212947289149\n",
      "t_acc:  0.6969981238273921 , v_acc:  0.6988636363636364\n",
      "t_recall:  0.5045164192532613 , v_recall:  0.5\n",
      "t_prec:  0.6922729415461973 , v_prec:  0.3494318181818182\n",
      "t_f:  0.4214606761501058 , v_f:  0.411371237458194\n",
      "////////\n"
     ]
    },
    {
     "name": "stderr",
     "output_type": "stream",
     "text": [
      "\r",
      "Iterations:  16%|█████▍                            | 48/300 [00:58<05:02,  1.20s/it]"
     ]
    },
    {
     "name": "stdout",
     "output_type": "stream",
     "text": [
      "Epoch  47 , loss 0.4310842478275299\n",
      "Epoch  48 , loss 0.42581295847892764\n"
     ]
    },
    {
     "name": "stderr",
     "output_type": "stream",
     "text": [
      "\r",
      "Iterations:  16%|█████▌                            | 49/300 [00:59<05:15,  1.26s/it]"
     ]
    },
    {
     "name": "stdout",
     "output_type": "stream",
     "text": [
      "Epoch:  48\n",
      "t_loss:  0.42581295847892764 , v_loss:  0.7209065357844034\n",
      "t_acc:  0.6979362101313321 , v_acc:  0.6988636363636364\n",
      "t_recall:  0.5057669815564553 , v_recall:  0.5\n",
      "t_prec:  0.7311426299535847 , v_prec:  0.3494318181818182\n",
      "t_f:  0.42372660036770854 , v_f:  0.411371237458194\n",
      "////////\n"
     ]
    },
    {
     "name": "stderr",
     "output_type": "stream",
     "text": [
      "\r",
      "Iterations:  17%|█████▋                            | 50/300 [01:00<04:45,  1.14s/it]"
     ]
    },
    {
     "name": "stdout",
     "output_type": "stream",
     "text": [
      "Epoch  49 , loss 0.424367384314537\n",
      "Epoch  50 , loss 0.42456107258796694\n"
     ]
    },
    {
     "name": "stderr",
     "output_type": "stream",
     "text": [
      "\r",
      "Iterations:  17%|█████▊                            | 51/300 [01:01<05:00,  1.21s/it]"
     ]
    },
    {
     "name": "stdout",
     "output_type": "stream",
     "text": [
      "Epoch:  50\n",
      "t_loss:  0.42456107258796694 , v_loss:  0.7156955450773239\n",
      "t_acc:  0.6991869918699187 , v_acc:  0.6988636363636364\n",
      "t_recall:  0.5081061628430049 , v_recall:  0.5\n",
      "t_prec:  0.7405956864087642 , v_prec:  0.3494318181818182\n",
      "t_f:  0.42892899544921637 , v_f:  0.411371237458194\n",
      "////////\n"
     ]
    },
    {
     "name": "stderr",
     "output_type": "stream",
     "text": [
      "\r",
      "Iterations:  17%|█████▉                            | 52/300 [01:02<04:46,  1.16s/it]"
     ]
    },
    {
     "name": "stdout",
     "output_type": "stream",
     "text": [
      "Epoch  51 , loss 0.4257599818706512\n",
      "Epoch  52 , loss 0.4290080678462982\n"
     ]
    },
    {
     "name": "stderr",
     "output_type": "stream",
     "text": [
      "\r",
      "Iterations:  18%|██████                            | 53/300 [01:04<05:20,  1.30s/it]"
     ]
    },
    {
     "name": "stdout",
     "output_type": "stream",
     "text": [
      "Epoch:  52\n",
      "t_loss:  0.4290080678462982 , v_loss:  0.7170912474393845\n",
      "t_acc:  0.6954346466541589 , v_acc:  0.6988636363636364\n",
      "t_recall:  0.5036797121007647 , v_recall:  0.5\n",
      "t_prec:  0.6092160219103047 , v_prec:  0.3494318181818182\n",
      "t_f:  0.421805448614903 , v_f:  0.411371237458194\n",
      "////////\n"
     ]
    },
    {
     "name": "stderr",
     "output_type": "stream",
     "text": [
      "\r",
      "Iterations:  18%|██████                            | 54/300 [01:05<04:50,  1.18s/it]"
     ]
    },
    {
     "name": "stdout",
     "output_type": "stream",
     "text": [
      "Epoch  53 , loss 0.42603745579719543\n",
      "Epoch  54 , loss 0.42847421646118167\n"
     ]
    },
    {
     "name": "stderr",
     "output_type": "stream",
     "text": [
      "\r",
      "Iterations:  18%|██████▏                           | 55/300 [01:06<05:04,  1.24s/it]"
     ]
    },
    {
     "name": "stdout",
     "output_type": "stream",
     "text": [
      "Epoch:  54\n",
      "t_loss:  0.42847421646118167 , v_loss:  0.7154182692368826\n",
      "t_acc:  0.6976235146966854 , v_acc:  0.6931818181818182\n",
      "t_recall:  0.5081331533963113 , v_recall:  0.4959349593495935\n",
      "t_prec:  0.6548597933797176 , v_prec:  0.3485714285714286\n",
      "t_f:  0.4319741892111564 , v_f:  0.40939597315436244\n",
      "////////\n"
     ]
    },
    {
     "name": "stderr",
     "output_type": "stream",
     "text": [
      "\r",
      "Iterations:  19%|██████▎                           | 56/300 [01:07<04:35,  1.13s/it]"
     ]
    },
    {
     "name": "stdout",
     "output_type": "stream",
     "text": [
      "Epoch  55 , loss 0.4257976311445236\n",
      "Epoch  56 , loss 0.4267578476667404\n"
     ]
    },
    {
     "name": "stderr",
     "output_type": "stream",
     "text": [
      "\r",
      "Iterations:  19%|██████▍                           | 57/300 [01:09<05:05,  1.26s/it]"
     ]
    },
    {
     "name": "stdout",
     "output_type": "stream",
     "text": [
      "Epoch:  56\n",
      "t_loss:  0.4267578476667404 , v_loss:  0.7219308366378149\n",
      "t_acc:  0.699812382739212 , v_acc:  0.6988636363636364\n",
      "t_recall:  0.509995501574449 , v_recall:  0.5\n",
      "t_prec:  0.7206677735111076 , v_prec:  0.3494318181818182\n",
      "t_f:  0.4338090197221126 , v_f:  0.411371237458194\n",
      "////////\n"
     ]
    },
    {
     "name": "stderr",
     "output_type": "stream",
     "text": [
      "\r",
      "Iterations:  19%|██████▌                           | 58/300 [01:09<04:36,  1.14s/it]"
     ]
    },
    {
     "name": "stdout",
     "output_type": "stream",
     "text": [
      "Epoch  57 , loss 0.4250552970170975\n",
      "Epoch  58 , loss 0.4246799635887146\n"
     ]
    },
    {
     "name": "stderr",
     "output_type": "stream",
     "text": [
      "\r",
      "Iterations:  20%|██████▋                           | 59/300 [01:11<04:53,  1.22s/it]"
     ]
    },
    {
     "name": "stdout",
     "output_type": "stream",
     "text": [
      "Epoch:  58\n",
      "t_loss:  0.4246799635887146 , v_loss:  0.7174628426631292\n",
      "t_acc:  0.700750469043152 , v_acc:  0.6931818181818182\n",
      "t_recall:  0.5121097615834458 , v_recall:  0.4959349593495935\n",
      "t_prec:  0.7185792804796802 , v_prec:  0.3485714285714286\n",
      "t_f:  0.4387497182732595 , v_f:  0.40939597315436244\n",
      "////////\n"
     ]
    },
    {
     "name": "stderr",
     "output_type": "stream",
     "text": [
      "\r",
      "Iterations:  20%|██████▊                           | 60/300 [01:12<04:41,  1.17s/it]"
     ]
    },
    {
     "name": "stdout",
     "output_type": "stream",
     "text": [
      "Epoch  59 , loss 0.42415976881980894\n",
      "Epoch  60 , loss 0.4256510889530182\n"
     ]
    },
    {
     "name": "stderr",
     "output_type": "stream",
     "text": [
      "\r",
      "Iterations:  20%|██████▉                           | 61/300 [01:13<04:52,  1.22s/it]"
     ]
    },
    {
     "name": "stdout",
     "output_type": "stream",
     "text": [
      "Epoch:  60\n",
      "t_loss:  0.4256510889530182 , v_loss:  0.7209775348504385\n",
      "t_acc:  0.7013758599124453 , v_acc:  0.6931818181818182\n",
      "t_recall:  0.5134233018443545 , v_recall:  0.4959349593495935\n",
      "t_prec:  0.7194912185406482 , v_prec:  0.3485714285714286\n",
      "t_f:  0.4417106621895156 , v_f:  0.40939597315436244\n",
      "////////\n"
     ]
    },
    {
     "name": "stderr",
     "output_type": "stream",
     "text": [
      "\r",
      "Iterations:  21%|███████                           | 62/300 [01:14<04:29,  1.13s/it]"
     ]
    },
    {
     "name": "stdout",
     "output_type": "stream",
     "text": [
      "Epoch  61 , loss 0.4238637936115265\n",
      "Epoch  62 , loss 0.42501253068447115\n"
     ]
    },
    {
     "name": "stderr",
     "output_type": "stream",
     "text": [
      "\r",
      "Iterations:  21%|███████▏                          | 63/300 [01:16<04:46,  1.21s/it]"
     ]
    },
    {
     "name": "stdout",
     "output_type": "stream",
     "text": [
      "Epoch:  62\n",
      "t_loss:  0.42501253068447115 , v_loss:  0.7199385613203049\n",
      "t_acc:  0.6994996873045654 , v_acc:  0.7045454545454546\n",
      "t_recall:  0.513225371120108 , v_recall:  0.5148028838778954\n",
      "t_prec:  0.6629137492043284 , v_prec:  0.6859344894026975\n",
      "t_f:  0.44438564789747104 , v_f:  0.4478764478764478\n",
      "////////\n"
     ]
    },
    {
     "name": "stderr",
     "output_type": "stream",
     "text": [
      "\r",
      "Iterations:  21%|███████▎                          | 64/300 [01:17<04:33,  1.16s/it]"
     ]
    },
    {
     "name": "stdout",
     "output_type": "stream",
     "text": [
      "Epoch  63 , loss 0.4247059226036072\n",
      "Epoch  64 , loss 0.4225563186407089\n"
     ]
    },
    {
     "name": "stderr",
     "output_type": "stream",
     "text": [
      "\r",
      "Iterations:  22%|███████▎                          | 65/300 [01:18<05:06,  1.30s/it]"
     ]
    },
    {
     "name": "stdout",
     "output_type": "stream",
     "text": [
      "Epoch:  64\n",
      "t_loss:  0.4225563186407089 , v_loss:  0.7107536097367605\n",
      "t_acc:  0.7029393370856786 , v_acc:  0.7045454545454546\n",
      "t_recall:  0.51685110211426 , v_recall:  0.5148028838778954\n",
      "t_prec:  0.7191168971413144 , v_prec:  0.6859344894026975\n",
      "t_f:  0.4494504108508701 , v_f:  0.4478764478764478\n",
      "////////\n"
     ]
    },
    {
     "name": "stderr",
     "output_type": "stream",
     "text": [
      "\r",
      "Iterations:  22%|███████▍                          | 66/300 [01:19<04:42,  1.21s/it]"
     ]
    },
    {
     "name": "stdout",
     "output_type": "stream",
     "text": [
      "Epoch  65 , loss 0.41957259833812716\n",
      "Epoch  66 , loss 0.4242120766639709\n"
     ]
    },
    {
     "name": "stderr",
     "output_type": "stream",
     "text": [
      "\r",
      "Iterations:  22%|███████▌                          | 67/300 [01:21<04:57,  1.28s/it]"
     ]
    },
    {
     "name": "stdout",
     "output_type": "stream",
     "text": [
      "Epoch:  66\n",
      "t_loss:  0.4242120766639709 , v_loss:  0.7118648737668991\n",
      "t_acc:  0.7001250781738587 , v_acc:  0.7045454545454546\n",
      "t_recall:  0.5130994152046784 , v_recall:  0.5148028838778954\n",
      "t_prec:  0.6803811944091487 , v_prec:  0.6859344894026975\n",
      "t_f:  0.44291938186557434 , v_f:  0.4478764478764478\n",
      "////////\n"
     ]
    },
    {
     "name": "stderr",
     "output_type": "stream",
     "text": [
      "\r",
      "Iterations:  23%|███████▋                          | 68/300 [01:22<04:27,  1.15s/it]"
     ]
    },
    {
     "name": "stdout",
     "output_type": "stream",
     "text": [
      "Epoch  67 , loss 0.4214650452136993\n",
      "Epoch  68 , loss 0.4236474770307541\n"
     ]
    },
    {
     "name": "stderr",
     "output_type": "stream",
     "text": [
      "\r",
      "Iterations:  23%|███████▊                          | 69/300 [01:23<04:49,  1.25s/it]"
     ]
    },
    {
     "name": "stdout",
     "output_type": "stream",
     "text": [
      "Epoch:  68\n",
      "t_loss:  0.4236474770307541 , v_loss:  0.7102558761835098\n",
      "t_acc:  0.7004377736085053 , v_acc:  0.7045454545454546\n",
      "t_recall:  0.5121727395411606 , v_recall:  0.5148028838778954\n",
      "t_prec:  0.7038327526132404 , v_prec:  0.6859344894026975\n",
      "t_f:  0.43950984983754354 , v_f:  0.4478764478764478\n",
      "////////\n"
     ]
    },
    {
     "name": "stderr",
     "output_type": "stream",
     "text": [
      "\r",
      "Iterations:  23%|███████▉                          | 70/300 [01:24<04:22,  1.14s/it]"
     ]
    },
    {
     "name": "stdout",
     "output_type": "stream",
     "text": [
      "Epoch  69 , loss 0.4152745580673218\n",
      "Epoch  70 , loss 0.420073361992836\n"
     ]
    },
    {
     "name": "stderr",
     "output_type": "stream",
     "text": [
      "\r",
      "Iterations:  24%|████████                          | 71/300 [01:25<04:45,  1.25s/it]"
     ]
    },
    {
     "name": "stdout",
     "output_type": "stream",
     "text": [
      "Epoch:  70\n",
      "t_loss:  0.420073361992836 , v_loss:  0.7094115018844604\n",
      "t_acc:  0.6994996873045654 , v_acc:  0.7045454545454546\n",
      "t_recall:  0.5126495726495727 , v_recall:  0.5148028838778954\n",
      "t_prec:  0.6675937698664971 , v_prec:  0.6859344894026975\n",
      "t_f:  0.4426371740252881 , v_f:  0.4478764478764478\n",
      "////////\n"
     ]
    },
    {
     "name": "stderr",
     "output_type": "stream",
     "text": [
      "\r",
      "Iterations:  24%|████████▏                         | 72/300 [01:26<04:29,  1.18s/it]"
     ]
    },
    {
     "name": "stdout",
     "output_type": "stream",
     "text": [
      "Epoch  71 , loss 0.4219420248270035\n",
      "Epoch  72 , loss 0.42404540479183195\n"
     ]
    },
    {
     "name": "stderr",
     "output_type": "stream",
     "text": [
      "\r",
      "Iterations:  24%|████████▎                         | 73/300 [01:28<04:43,  1.25s/it]"
     ]
    },
    {
     "name": "stdout",
     "output_type": "stream",
     "text": [
      "Epoch:  72\n",
      "t_loss:  0.42404540479183195 , v_loss:  0.7066095769405365\n",
      "t_acc:  0.7001250781738587 , v_acc:  0.7045454545454546\n",
      "t_recall:  0.5119478182636077 , v_recall:  0.5148028838778954\n",
      "t_prec:  0.6953648379503893 , v_prec:  0.6859344894026975\n",
      "t_f:  0.43937227752852925 , v_f:  0.4478764478764478\n",
      "////////\n"
     ]
    },
    {
     "name": "stderr",
     "output_type": "stream",
     "text": [
      "\r",
      "Iterations:  25%|████████▍                         | 74/300 [01:29<04:22,  1.16s/it]"
     ]
    },
    {
     "name": "stdout",
     "output_type": "stream",
     "text": [
      "Epoch  73 , loss 0.42005265116691587\n",
      "Epoch  74 , loss 0.41907637476921084\n"
     ]
    },
    {
     "name": "stderr",
     "output_type": "stream",
     "text": [
      "\r",
      "Iterations:  25%|████████▌                         | 75/300 [01:30<04:34,  1.22s/it]"
     ]
    },
    {
     "name": "stdout",
     "output_type": "stream",
     "text": [
      "Epoch:  74\n",
      "t_loss:  0.41907637476921084 , v_loss:  0.7059191167354584\n",
      "t_acc:  0.7004377736085053 , v_acc:  0.7045454545454546\n",
      "t_recall:  0.5136122357174989 , v_recall:  0.5148028838778954\n",
      "t_prec:  0.6838258659040355 , v_prec:  0.6859344894026975\n",
      "t_f:  0.4439391464384113 , v_f:  0.4478764478764478\n",
      "////////\n"
     ]
    },
    {
     "name": "stderr",
     "output_type": "stream",
     "text": [
      "\r",
      "Iterations:  25%|████████▌                         | 76/300 [01:31<04:16,  1.15s/it]"
     ]
    },
    {
     "name": "stdout",
     "output_type": "stream",
     "text": [
      "Epoch  75 , loss 0.4191649717092514\n",
      "Epoch  76 , loss 0.4183351159095764\n"
     ]
    },
    {
     "name": "stderr",
     "output_type": "stream",
     "text": [
      "\r",
      "Iterations:  26%|████████▋                         | 77/300 [01:33<04:44,  1.28s/it]"
     ]
    },
    {
     "name": "stdout",
     "output_type": "stream",
     "text": [
      "Epoch:  76\n",
      "t_loss:  0.4183351159095764 , v_loss:  0.7022521098454794\n",
      "t_acc:  0.6994996873045654 , v_acc:  0.7045454545454546\n",
      "t_recall:  0.5129374718848403 , v_recall:  0.5201718054916399\n",
      "t_prec:  0.6651646875883517 , v_prec:  0.6538011695906433\n",
      "t_f:  0.4435131874357984 , v_f:  0.46328876378137457\n",
      "////////\n"
     ]
    },
    {
     "name": "stderr",
     "output_type": "stream",
     "text": [
      "\r",
      "Iterations:  26%|████████▊                         | 78/300 [01:34<04:28,  1.21s/it]"
     ]
    },
    {
     "name": "stdout",
     "output_type": "stream",
     "text": [
      "Epoch  77 , loss 0.42010779201984405\n",
      "Epoch  78 , loss 0.41663847744464877\n"
     ]
    },
    {
     "name": "stderr",
     "output_type": "stream",
     "text": [
      "\r",
      "Iterations:  26%|████████▉                         | 79/300 [01:35<04:55,  1.34s/it]"
     ]
    },
    {
     "name": "stdout",
     "output_type": "stream",
     "text": [
      "Epoch:  78\n",
      "t_loss:  0.41663847744464877 , v_loss:  0.7061080535252889\n",
      "t_acc:  0.7004377736085053 , v_acc:  0.7045454545454546\n",
      "t_recall:  0.5141880341880342 , v_recall:  0.5148028838778954\n",
      "t_prec:  0.6778931536169843 , v_prec:  0.6859344894026975\n",
      "t_f:  0.44568570901287863 , v_f:  0.4478764478764478\n",
      "////////\n"
     ]
    },
    {
     "name": "stderr",
     "output_type": "stream",
     "text": [
      "\r",
      "Iterations:  27%|█████████                         | 80/300 [01:36<04:23,  1.20s/it]"
     ]
    },
    {
     "name": "stdout",
     "output_type": "stream",
     "text": [
      "Epoch  79 , loss 0.4140109020471573\n",
      "Epoch  80 , loss 0.41629522800445556\n"
     ]
    },
    {
     "name": "stderr",
     "output_type": "stream",
     "text": [
      "\r",
      "Iterations:  27%|█████████▏                        | 81/300 [01:38<04:36,  1.26s/it]"
     ]
    },
    {
     "name": "stdout",
     "output_type": "stream",
     "text": [
      "Epoch:  80\n",
      "t_loss:  0.41629522800445556 , v_loss:  0.7034876793622971\n",
      "t_acc:  0.7048155096935584 , v_acc:  0.7102272727272727\n",
      "t_recall:  0.5205038236617184 , v_recall:  0.5242368461420464\n",
      "t_prec:  0.725009493430546 , v_prec:  0.7296511627906976\n",
      "t_f:  0.45718681157450264 , v_f:  0.4661909009812667\n",
      "////////\n"
     ]
    },
    {
     "name": "stderr",
     "output_type": "stream",
     "text": [
      "\r",
      "Iterations:  27%|█████████▎                        | 82/300 [01:39<04:08,  1.14s/it]"
     ]
    },
    {
     "name": "stdout",
     "output_type": "stream",
     "text": [
      "Epoch  81 , loss 0.41617233753204347\n",
      "Epoch  82 , loss 0.41852435111999514\n"
     ]
    },
    {
     "name": "stderr",
     "output_type": "stream",
     "text": [
      "\r",
      "Iterations:  28%|█████████▍                        | 83/300 [01:40<04:36,  1.28s/it]"
     ]
    },
    {
     "name": "stdout",
     "output_type": "stream",
     "text": [
      "Epoch:  82\n",
      "t_loss:  0.41852435111999514 , v_loss:  0.702692319949468\n",
      "t_acc:  0.7020012507817386 , v_acc:  0.7102272727272727\n",
      "t_recall:  0.5173279352226721 , v_recall:  0.5242368461420464\n",
      "t_prec:  0.6872457322910019 , v_prec:  0.7296511627906976\n",
      "t_f:  0.4524369093859186 , v_f:  0.4661909009812667\n",
      "////////\n"
     ]
    },
    {
     "name": "stderr",
     "output_type": "stream",
     "text": [
      "\r",
      "Iterations:  28%|█████████▌                        | 84/300 [01:41<04:09,  1.16s/it]"
     ]
    },
    {
     "name": "stdout",
     "output_type": "stream",
     "text": [
      "Epoch  83 , loss 0.41662427365779875\n",
      "Epoch  84 , loss 0.41494897603988645\n"
     ]
    },
    {
     "name": "stderr",
     "output_type": "stream",
     "text": [
      "\r",
      "Iterations:  28%|█████████▋                        | 85/300 [01:42<04:22,  1.22s/it]"
     ]
    },
    {
     "name": "stdout",
     "output_type": "stream",
     "text": [
      "Epoch:  84\n",
      "t_loss:  0.41494897603988645 , v_loss:  0.7073643753925959\n",
      "t_acc:  0.702626641651032 , v_acc:  0.7102272727272727\n",
      "t_recall:  0.5174898785425102 , v_recall:  0.5242368461420464\n",
      "t_prec:  0.7013384321223709 , v_prec:  0.7296511627906976\n",
      "t_f:  0.45188357136484913 , v_f:  0.4661909009812667\n",
      "////////\n"
     ]
    },
    {
     "name": "stderr",
     "output_type": "stream",
     "text": [
      "\r",
      "Iterations:  29%|█████████▋                        | 86/300 [01:43<04:12,  1.18s/it]"
     ]
    },
    {
     "name": "stdout",
     "output_type": "stream",
     "text": [
      "Epoch  85 , loss 0.41734466910362245\n",
      "Epoch  86 , loss 0.41877827763557435\n"
     ]
    },
    {
     "name": "stderr",
     "output_type": "stream",
     "text": [
      "\r",
      "Iterations:  29%|█████████▊                        | 87/300 [01:45<04:24,  1.24s/it]"
     ]
    },
    {
     "name": "stdout",
     "output_type": "stream",
     "text": [
      "Epoch:  86\n",
      "t_loss:  0.41877827763557435 , v_loss:  0.7039737502733866\n",
      "t_acc:  0.7023139462163852 , v_acc:  0.7102272727272727\n",
      "t_recall:  0.5169770580296896 , v_recall:  0.5242368461420464\n",
      "t_prec:  0.6986841323750952 , v_prec:  0.7296511627906976\n",
      "t_f:  0.4508789915711754 , v_f:  0.4661909009812667\n",
      "////////\n"
     ]
    },
    {
     "name": "stderr",
     "output_type": "stream",
     "text": [
      "\r",
      "Iterations:  29%|█████████▉                        | 88/300 [01:46<04:00,  1.14s/it]"
     ]
    },
    {
     "name": "stdout",
     "output_type": "stream",
     "text": [
      "Epoch  87 , loss 0.4189320129156113\n",
      "Epoch  88 , loss 0.4149840071797371\n"
     ]
    },
    {
     "name": "stderr",
     "output_type": "stream",
     "text": [
      "\r",
      "Iterations:  30%|██████████                        | 89/300 [01:47<04:19,  1.23s/it]"
     ]
    },
    {
     "name": "stdout",
     "output_type": "stream",
     "text": [
      "Epoch:  88\n",
      "t_loss:  0.4149840071797371 , v_loss:  0.70031010111173\n",
      "t_acc:  0.7051282051282052 , v_acc:  0.7102272727272727\n",
      "t_recall:  0.5213045434098066 , v_recall:  0.5242368461420464\n",
      "t_prec:  0.7233832578660164 , v_prec:  0.7296511627906976\n",
      "t_f:  0.4590215721254881 , v_f:  0.4661909009812667\n",
      "////////\n"
     ]
    },
    {
     "name": "stderr",
     "output_type": "stream",
     "text": [
      "\r",
      "Iterations:  30%|██████████▏                       | 90/300 [01:48<04:06,  1.17s/it]"
     ]
    },
    {
     "name": "stdout",
     "output_type": "stream",
     "text": [
      "Epoch  89 , loss 0.4143244045972824\n",
      "Epoch  90 , loss 0.41394062757492067\n"
     ]
    },
    {
     "name": "stderr",
     "output_type": "stream",
     "text": [
      "\r",
      "Iterations:  30%|██████████▎                       | 91/300 [01:50<04:31,  1.30s/it]"
     ]
    },
    {
     "name": "stdout",
     "output_type": "stream",
     "text": [
      "Epoch:  90\n",
      "t_loss:  0.41394062757492067 , v_loss:  0.6952632367610931\n",
      "t_acc:  0.7054409005628518 , v_acc:  0.7045454545454546\n",
      "t_recall:  0.5221052631578947 , v_recall:  0.5201718054916399\n",
      "t_prec:  0.7219142106798949 , v_prec:  0.6538011695906433\n",
      "t_f:  0.4608460904077109 , v_f:  0.46328876378137457\n",
      "////////\n"
     ]
    },
    {
     "name": "stderr",
     "output_type": "stream",
     "text": [
      "\r",
      "Iterations:  31%|██████████▍                       | 92/300 [01:51<04:12,  1.21s/it]"
     ]
    },
    {
     "name": "stdout",
     "output_type": "stream",
     "text": [
      "Epoch  91 , loss 0.41457110226154326\n",
      "Epoch  92 , loss 0.4152397698163986\n"
     ]
    },
    {
     "name": "stderr",
     "output_type": "stream",
     "text": [
      "\r",
      "Iterations:  31%|██████████▌                       | 93/300 [01:52<04:24,  1.28s/it]"
     ]
    },
    {
     "name": "stdout",
     "output_type": "stream",
     "text": [
      "Epoch:  92\n",
      "t_loss:  0.4152397698163986 , v_loss:  0.7015805492798487\n",
      "t_acc:  0.7013758599124453 , v_acc:  0.7102272727272727\n",
      "t_recall:  0.517165991902834 , v_recall:  0.5242368461420464\n",
      "t_prec:  0.6748073670362714 , v_prec:  0.7296511627906976\n",
      "t_f:  0.45298368545948464 , v_f:  0.4661909009812667\n",
      "////////\n"
     ]
    },
    {
     "name": "stderr",
     "output_type": "stream",
     "text": [
      "\r",
      "Iterations:  31%|██████████▋                       | 94/300 [01:53<03:57,  1.15s/it]"
     ]
    },
    {
     "name": "stdout",
     "output_type": "stream",
     "text": [
      "Epoch  93 , loss 0.419116770029068\n",
      "Epoch  94 , loss 0.4151420545578003\n"
     ]
    },
    {
     "name": "stderr",
     "output_type": "stream",
     "text": [
      "\r",
      "Iterations:  32%|██████████▊                       | 95/300 [01:55<04:19,  1.27s/it]"
     ]
    },
    {
     "name": "stdout",
     "output_type": "stream",
     "text": [
      "Epoch:  94\n",
      "t_loss:  0.4151420545578003 , v_loss:  0.705590749780337\n",
      "t_acc:  0.706066291432145 , v_acc:  0.7102272727272727\n",
      "t_recall:  0.5228430049482681 , v_recall:  0.5242368461420464\n",
      "t_prec:  0.729320382953298 , v_prec:  0.7296511627906976\n",
      "t_f:  0.4619907908527052 , v_f:  0.4661909009812667\n",
      "////////\n"
     ]
    },
    {
     "name": "stderr",
     "output_type": "stream",
     "text": [
      "\r",
      "Iterations:  32%|██████████▉                       | 96/300 [01:56<03:54,  1.15s/it]"
     ]
    },
    {
     "name": "stdout",
     "output_type": "stream",
     "text": [
      "Epoch  95 , loss 0.40865579068660735\n",
      "Epoch  96 , loss 0.41446979105472564\n"
     ]
    },
    {
     "name": "stderr",
     "output_type": "stream",
     "text": [
      "\r",
      "Iterations:  32%|██████████▉                       | 97/300 [01:57<04:16,  1.27s/it]"
     ]
    },
    {
     "name": "stdout",
     "output_type": "stream",
     "text": [
      "Epoch:  96\n",
      "t_loss:  0.41446979105472564 , v_loss:  0.7049046605825424\n",
      "t_acc:  0.7035647279549718 , v_acc:  0.7102272727272727\n",
      "t_recall:  0.5210436347278452 , v_recall:  0.5242368461420464\n",
      "t_prec:  0.6897930649933213 , v_prec:  0.7296511627906976\n",
      "t_f:  0.4607320530042576 , v_f:  0.4661909009812667\n",
      "////////\n"
     ]
    },
    {
     "name": "stderr",
     "output_type": "stream",
     "text": [
      "\r",
      "Iterations:  33%|███████████                       | 98/300 [01:58<03:57,  1.18s/it]"
     ]
    },
    {
     "name": "stdout",
     "output_type": "stream",
     "text": [
      "Epoch  97 , loss 0.4112836343050003\n",
      "Epoch  98 , loss 0.4088100236654282\n"
     ]
    },
    {
     "name": "stderr",
     "output_type": "stream",
     "text": [
      "\r",
      "Iterations:  33%|███████████▏                      | 99/300 [01:59<04:08,  1.24s/it]"
     ]
    },
    {
     "name": "stdout",
     "output_type": "stream",
     "text": [
      "Epoch:  98\n",
      "t_loss:  0.4088100236654282 , v_loss:  0.6963043709595998\n",
      "t_acc:  0.7123202001250781 , v_acc:  0.7102272727272727\n",
      "t_recall:  0.5325236167341431 , v_recall:  0.5296057677557908\n",
      "t_prec:  0.7664065304888419 , v_prec:  0.6892156862745098\n",
      "t_f:  0.4798308392973325 , v_f:  0.480765893445942\n",
      "////////\n"
     ]
    },
    {
     "name": "stderr",
     "output_type": "stream",
     "text": [
      "\r",
      "Iterations:  33%|███████████                      | 100/300 [02:00<03:54,  1.17s/it]"
     ]
    },
    {
     "name": "stdout",
     "output_type": "stream",
     "text": [
      "Epoch  99 , loss 0.4138124251365662\n",
      "Epoch  100 , loss 0.41405405700206754\n"
     ]
    },
    {
     "name": "stderr",
     "output_type": "stream",
     "text": [
      "\r",
      "Iterations:  34%|███████████                      | 101/300 [02:02<04:05,  1.23s/it]"
     ]
    },
    {
     "name": "stdout",
     "output_type": "stream",
     "text": [
      "Epoch:  100\n",
      "t_loss:  0.41405405700206754 , v_loss:  0.6942669500907263\n",
      "t_acc:  0.7085678549093183 , v_acc:  0.7102272727272727\n",
      "t_recall:  0.5260818713450293 , v_recall:  0.5296057677557908\n",
      "t_prec:  0.7546223937806564 , v_prec:  0.6892156862745098\n",
      "t_f:  0.4673905041010704 , v_f:  0.480765893445942\n",
      "////////\n"
     ]
    },
    {
     "name": "stderr",
     "output_type": "stream",
     "text": [
      "\r",
      "Iterations:  34%|███████████▏                     | 102/300 [02:03<03:42,  1.12s/it]"
     ]
    },
    {
     "name": "stdout",
     "output_type": "stream",
     "text": [
      "Epoch  101 , loss 0.4120416259765625\n",
      "Epoch  102 , loss 0.4120672416687012\n"
     ]
    },
    {
     "name": "stderr",
     "output_type": "stream",
     "text": [
      "\r",
      "Iterations:  34%|███████████▎                     | 103/300 [02:04<04:05,  1.24s/it]"
     ]
    },
    {
     "name": "stdout",
     "output_type": "stream",
     "text": [
      "Epoch:  102\n",
      "t_loss:  0.4120672416687012 , v_loss:  0.6940722763538361\n",
      "t_acc:  0.7029393370856786 , v_acc:  0.7102272727272727\n",
      "t_recall:  0.5205937921727395 , v_recall:  0.5296057677557908\n",
      "t_prec:  0.6811498329958077 , v_prec:  0.6892156862745098\n",
      "t_f:  0.46041785514099354 , v_f:  0.480765893445942\n",
      "////////\n"
     ]
    },
    {
     "name": "stderr",
     "output_type": "stream",
     "text": [
      "\r",
      "Iterations:  35%|███████████▍                     | 104/300 [02:05<03:57,  1.21s/it]"
     ]
    },
    {
     "name": "stdout",
     "output_type": "stream",
     "text": [
      "Epoch  103 , loss 0.4153056991100311\n",
      "Epoch  104 , loss 0.4131602489948273\n"
     ]
    },
    {
     "name": "stderr",
     "output_type": "stream",
     "text": [
      "\r",
      "Iterations:  35%|███████████▌                     | 105/300 [02:07<04:15,  1.31s/it]"
     ]
    },
    {
     "name": "stdout",
     "output_type": "stream",
     "text": [
      "Epoch:  104\n",
      "t_loss:  0.4131602489948273 , v_loss:  0.6943824142217636\n",
      "t_acc:  0.708880550343965 , v_acc:  0.7159090909090909\n",
      "t_recall:  0.5291857849752587 , v_recall:  0.5336708084061973\n",
      "t_prec:  0.7261475761475762 , v_prec:  0.7567251461988305\n",
      "t_f:  0.47559134586170176 , v_f:  0.48393150363593707\n",
      "////////\n"
     ]
    },
    {
     "name": "stderr",
     "output_type": "stream",
     "text": [
      "\r",
      "Iterations:  35%|███████████▋                     | 106/300 [02:08<03:48,  1.18s/it]"
     ]
    },
    {
     "name": "stdout",
     "output_type": "stream",
     "text": [
      "Epoch  105 , loss 0.40930799663066864\n",
      "Epoch  106 , loss 0.4115269714593887\n"
     ]
    },
    {
     "name": "stderr",
     "output_type": "stream",
     "text": [
      "\r",
      "Iterations:  36%|███████████▊                     | 107/300 [02:09<03:59,  1.24s/it]"
     ]
    },
    {
     "name": "stdout",
     "output_type": "stream",
     "text": [
      "Epoch:  106\n",
      "t_loss:  0.4115269714593887 , v_loss:  0.6933931509653727\n",
      "t_acc:  0.7073170731707317 , v_acc:  0.7102272727272727\n",
      "t_recall:  0.5260458839406208 , v_recall:  0.5296057677557908\n",
      "t_prec:  0.723594624460842 , v_prec:  0.6892156862745098\n",
      "t_f:  0.46917773237997956 , v_f:  0.480765893445942\n",
      "////////\n"
     ]
    },
    {
     "name": "stderr",
     "output_type": "stream",
     "text": [
      "\r",
      "Iterations:  36%|███████████▉                     | 108/300 [02:10<03:36,  1.13s/it]"
     ]
    },
    {
     "name": "stdout",
     "output_type": "stream",
     "text": [
      "Epoch  107 , loss 0.41312008917331694\n",
      "Epoch  108 , loss 0.413380309343338\n"
     ]
    },
    {
     "name": "stderr",
     "output_type": "stream",
     "text": [
      "\r",
      "Iterations:  36%|███████████▉                     | 109/300 [02:12<04:01,  1.27s/it]"
     ]
    },
    {
     "name": "stdout",
     "output_type": "stream",
     "text": [
      "Epoch:  108\n",
      "t_loss:  0.413380309343338 , v_loss:  0.6871860126654307\n",
      "t_acc:  0.706066291432145 , v_acc:  0.7045454545454546\n",
      "t_recall:  0.524570400359874 , v_recall:  0.5255407271053842\n",
      "t_prec:  0.7109281241459617 , v_prec:  0.6407438715131022\n",
      "t_f:  0.4669092611508342 , v_f:  0.4776255707762556\n",
      "////////\n"
     ]
    },
    {
     "name": "stderr",
     "output_type": "stream",
     "text": [
      "\r",
      "Iterations:  37%|████████████                     | 110/300 [02:13<03:39,  1.15s/it]"
     ]
    },
    {
     "name": "stdout",
     "output_type": "stream",
     "text": [
      "Epoch  109 , loss 0.41181229174137113\n",
      "Epoch  110 , loss 0.4065875625610352\n"
     ]
    },
    {
     "name": "stderr",
     "output_type": "stream",
     "text": [
      "\r",
      "Iterations:  37%|████████████▏                    | 111/300 [02:14<03:54,  1.24s/it]"
     ]
    },
    {
     "name": "stdout",
     "output_type": "stream",
     "text": [
      "Epoch:  110\n",
      "t_loss:  0.4065875625610352 , v_loss:  0.6861786444981893\n",
      "t_acc:  0.7098186366479049 , v_acc:  0.7045454545454546\n",
      "t_recall:  0.5310121457489878 , v_recall:  0.5255407271053842\n",
      "t_prec:  0.7280187255118137 , v_prec:  0.6407438715131022\n",
      "t_f:  0.47923535047606347 , v_f:  0.4776255707762556\n",
      "////////\n"
     ]
    },
    {
     "name": "stderr",
     "output_type": "stream",
     "text": [
      "\r",
      "Iterations:  37%|████████████▎                    | 112/300 [02:15<03:45,  1.20s/it]"
     ]
    },
    {
     "name": "stdout",
     "output_type": "stream",
     "text": [
      "Epoch  111 , loss 0.4104252099990845\n",
      "Epoch  112 , loss 0.40806357443332675\n"
     ]
    },
    {
     "name": "stderr",
     "output_type": "stream",
     "text": [
      "\r",
      "Iterations:  38%|████████████▍                    | 113/300 [02:16<03:53,  1.25s/it]"
     ]
    },
    {
     "name": "stdout",
     "output_type": "stream",
     "text": [
      "Epoch:  112\n",
      "t_loss:  0.40806357443332675 , v_loss:  0.6847433000802994\n",
      "t_acc:  0.7095059412132583 , v_acc:  0.7045454545454546\n",
      "t_recall:  0.5313630229419704 , v_recall:  0.5255407271053842\n",
      "t_prec:  0.719422207876049 , v_prec:  0.6407438715131022\n",
      "t_f:  0.4806113556203372 , v_f:  0.4776255707762556\n",
      "////////\n"
     ]
    },
    {
     "name": "stderr",
     "output_type": "stream",
     "text": [
      "\r",
      "Iterations:  38%|████████████▌                    | 114/300 [02:17<03:32,  1.14s/it]"
     ]
    },
    {
     "name": "stdout",
     "output_type": "stream",
     "text": [
      "Epoch  113 , loss 0.40981236785650255\n",
      "Epoch  114 , loss 0.40976967513561247\n"
     ]
    },
    {
     "name": "stderr",
     "output_type": "stream",
     "text": [
      "\r",
      "Iterations:  38%|████████████▋                    | 115/300 [02:19<03:43,  1.21s/it]"
     ]
    },
    {
     "name": "stdout",
     "output_type": "stream",
     "text": [
      "Epoch:  114\n",
      "t_loss:  0.40976967513561247 , v_loss:  0.6853045473496119\n",
      "t_acc:  0.7091932457786116 , v_acc:  0.7102272727272727\n",
      "t_recall:  0.5296986054880792 , v_recall:  0.5349746893695352\n",
      "t_prec:  0.727665639799531 , v_prec:  0.6696428571428572\n",
      "t_f:  0.47654784240150094 , v_f:  0.4943383471353726\n",
      "////////\n"
     ]
    },
    {
     "name": "stderr",
     "output_type": "stream",
     "text": [
      "\r",
      "Iterations:  39%|████████████▊                    | 116/300 [02:20<03:32,  1.15s/it]"
     ]
    },
    {
     "name": "stdout",
     "output_type": "stream",
     "text": [
      "Epoch  115 , loss 0.40546443939208987\n",
      "Epoch  116 , loss 0.4067559868097305\n"
     ]
    },
    {
     "name": "stderr",
     "output_type": "stream",
     "text": [
      "\r",
      "Iterations:  39%|████████████▊                    | 117/300 [02:21<03:52,  1.27s/it]"
     ]
    },
    {
     "name": "stdout",
     "output_type": "stream",
     "text": [
      "Epoch:  116\n",
      "t_loss:  0.4067559868097305 , v_loss:  0.6878619839747747\n",
      "t_acc:  0.7110694183864915 , v_acc:  0.7102272727272727\n",
      "t_recall:  0.5347908232118759 , v_recall:  0.5349746893695352\n",
      "t_prec:  0.7200640874110262 , v_prec:  0.6696428571428572\n",
      "t_f:  0.4875799856416019 , v_f:  0.4943383471353726\n",
      "////////\n"
     ]
    },
    {
     "name": "stderr",
     "output_type": "stream",
     "text": [
      "\r",
      "Iterations:  39%|████████████▉                    | 118/300 [02:22<03:33,  1.17s/it]"
     ]
    },
    {
     "name": "stdout",
     "output_type": "stream",
     "text": [
      "Epoch  117 , loss 0.40252703249454497\n",
      "Epoch  118 , loss 0.40533736288547517\n"
     ]
    },
    {
     "name": "stderr",
     "output_type": "stream",
     "text": [
      "\r",
      "Iterations:  40%|█████████████                    | 119/300 [02:24<03:46,  1.25s/it]"
     ]
    },
    {
     "name": "stdout",
     "output_type": "stream",
     "text": [
      "Epoch:  118\n",
      "t_loss:  0.40533736288547517 , v_loss:  0.6832150121529897\n",
      "t_acc:  0.7145090681676047 , v_acc:  0.7215909090909091\n",
      "t_recall:  0.5392802519118308 , v_recall:  0.5538426138978371\n",
      "t_prec:  0.7421581677930233 , v_prec:  0.71144578313253\n",
      "t_f:  0.49478961463133314 , v_f:  0.5263360246059208\n",
      "////////\n"
     ]
    },
    {
     "name": "stderr",
     "output_type": "stream",
     "text": [
      "\r",
      "Iterations:  40%|█████████████▏                   | 120/300 [02:24<03:24,  1.13s/it]"
     ]
    },
    {
     "name": "stdout",
     "output_type": "stream",
     "text": [
      "Epoch  119 , loss 0.40911548435688017\n",
      "Epoch  120 , loss 0.4099485433101654\n"
     ]
    },
    {
     "name": "stderr",
     "output_type": "stream",
     "text": [
      "\r",
      "Iterations:  40%|█████████████▎                   | 121/300 [02:26<03:44,  1.25s/it]"
     ]
    },
    {
     "name": "stdout",
     "output_type": "stream",
     "text": [
      "Epoch:  120\n",
      "t_loss:  0.4099485433101654 , v_loss:  0.6799148817857107\n",
      "t_acc:  0.7148217636022514 , v_acc:  0.7159090909090909\n",
      "t_recall:  0.5400809716599191 , v_recall:  0.5497775732474306\n",
      "t_prec:  0.7409931840311588 , v_prec:  0.6787878787878787\n",
      "t_f:  0.4964447317388494 , v_f:  0.5225694444444444\n",
      "////////\n"
     ]
    },
    {
     "name": "stderr",
     "output_type": "stream",
     "text": [
      "\r",
      "Iterations:  41%|█████████████▍                   | 122/300 [02:27<03:24,  1.15s/it]"
     ]
    },
    {
     "name": "stdout",
     "output_type": "stream",
     "text": [
      "Epoch  121 , loss 0.40628280699253083\n",
      "Epoch  122 , loss 0.40700183391571043\n"
     ]
    },
    {
     "name": "stderr",
     "output_type": "stream",
     "text": [
      "\r",
      "Iterations:  41%|█████████████▌                   | 123/300 [02:28<03:44,  1.27s/it]"
     ]
    },
    {
     "name": "stdout",
     "output_type": "stream",
     "text": [
      "Epoch:  122\n",
      "t_loss:  0.40700183391571043 , v_loss:  0.6809423615535101\n",
      "t_acc:  0.7101313320825516 , v_acc:  0.7159090909090909\n",
      "t_recall:  0.5338281601439496 , v_recall:  0.5497775732474306\n",
      "t_prec:  0.7121331358207573 , v_prec:  0.6787878787878787\n",
      "t_f:  0.48629247898458516 , v_f:  0.5225694444444444\n",
      "////////\n"
     ]
    },
    {
     "name": "stderr",
     "output_type": "stream",
     "text": [
      "\r",
      "Iterations:  41%|█████████████▋                   | 124/300 [02:29<03:28,  1.19s/it]"
     ]
    },
    {
     "name": "stdout",
     "output_type": "stream",
     "text": [
      "Epoch  123 , loss 0.40359610080718994\n",
      "Epoch  124 , loss 0.4092237830162048\n"
     ]
    },
    {
     "name": "stderr",
     "output_type": "stream",
     "text": [
      "\r",
      "Iterations:  42%|█████████████▊                   | 125/300 [02:31<03:38,  1.25s/it]"
     ]
    },
    {
     "name": "stdout",
     "output_type": "stream",
     "text": [
      "Epoch:  124\n",
      "t_loss:  0.4092237830162048 , v_loss:  0.6845642228921255\n",
      "t_acc:  0.7113821138211383 , v_acc:  0.7159090909090909\n",
      "t_recall:  0.5350157444894287 , v_recall:  0.5497775732474306\n",
      "t_prec:  0.7234279321714554 , v_prec:  0.6787878787878787\n",
      "t_f:  0.48775925455124436 , v_f:  0.5225694444444444\n",
      "////////\n"
     ]
    },
    {
     "name": "stderr",
     "output_type": "stream",
     "text": [
      "\r",
      "Iterations:  42%|█████████████▊                   | 126/300 [02:32<03:25,  1.18s/it]"
     ]
    },
    {
     "name": "stdout",
     "output_type": "stream",
     "text": [
      "Epoch  125 , loss 0.4072772318124771\n",
      "Epoch  126 , loss 0.40448839604854586\n"
     ]
    },
    {
     "name": "stderr",
     "output_type": "stream",
     "text": [
      "\r",
      "Iterations:  42%|█████████████▉                   | 127/300 [02:33<03:34,  1.24s/it]"
     ]
    },
    {
     "name": "stdout",
     "output_type": "stream",
     "text": [
      "Epoch:  126\n",
      "t_loss:  0.40448839604854586 , v_loss:  0.6813572148482004\n",
      "t_acc:  0.7148217636022514 , v_acc:  0.7159090909090909\n",
      "t_recall:  0.5389293747188484 , v_recall:  0.5497775732474306\n",
      "t_prec:  0.7505977113225087 , v_prec:  0.6787878787878787\n",
      "t_f:  0.49349241986395764 , v_f:  0.5225694444444444\n",
      "////////\n"
     ]
    },
    {
     "name": "stderr",
     "output_type": "stream",
     "text": [
      "\r",
      "Iterations:  43%|██████████████                   | 128/300 [02:34<03:17,  1.15s/it]"
     ]
    },
    {
     "name": "stdout",
     "output_type": "stream",
     "text": [
      "Epoch  127 , loss 0.4012016588449478\n",
      "Epoch  128 , loss 0.400576199889183\n"
     ]
    },
    {
     "name": "stderr",
     "output_type": "stream",
     "text": [
      "\r",
      "Iterations:  43%|██████████████▏                  | 129/300 [02:36<03:31,  1.24s/it]"
     ]
    },
    {
     "name": "stdout",
     "output_type": "stream",
     "text": [
      "Epoch:  128\n",
      "t_loss:  0.400576199889183 , v_loss:  0.6771488686402639\n",
      "t_acc:  0.7188868042526579 , v_acc:  0.7159090909090909\n",
      "t_recall:  0.5470355375618533 , v_recall:  0.5497775732474306\n",
      "t_prec:  0.7518976457332622 , v_prec:  0.6787878787878787\n",
      "t_f:  0.5089598958005084 , v_f:  0.5225694444444444\n",
      "////////\n"
     ]
    },
    {
     "name": "stderr",
     "output_type": "stream",
     "text": [
      "\r",
      "Iterations:  43%|██████████████▎                  | 130/300 [02:37<03:23,  1.20s/it]"
     ]
    },
    {
     "name": "stdout",
     "output_type": "stream",
     "text": [
      "Epoch  129 , loss 0.4016938054561615\n",
      "Epoch  130 , loss 0.40277710735797884\n"
     ]
    },
    {
     "name": "stderr",
     "output_type": "stream",
     "text": [
      "\r",
      "Iterations:  44%|██████████████▍                  | 131/300 [02:38<03:42,  1.31s/it]"
     ]
    },
    {
     "name": "stdout",
     "output_type": "stream",
     "text": [
      "Epoch:  130\n",
      "t_loss:  0.40277710735797884 , v_loss:  0.6750634560982386\n",
      "t_acc:  0.7198248905565978 , v_acc:  0.7102272727272727\n",
      "t_recall:  0.5494376968061179 , v_recall:  0.5457125325970241\n",
      "t_prec:  0.7485923482206864 , v_prec:  0.6514227642276422\n",
      "t_f:  0.5137178233952427 , v_f:  0.5188421334762799\n",
      "////////\n"
     ]
    },
    {
     "name": "stderr",
     "output_type": "stream",
     "text": [
      "\r",
      "Iterations:  44%|██████████████▌                  | 132/300 [02:39<03:22,  1.21s/it]"
     ]
    },
    {
     "name": "stdout",
     "output_type": "stream",
     "text": [
      "Epoch  131 , loss 0.407188908457756\n",
      "Epoch  132 , loss 0.4086721473932266\n"
     ]
    },
    {
     "name": "stderr",
     "output_type": "stream",
     "text": [
      "\r",
      "Iterations:  44%|██████████████▋                  | 133/300 [02:41<03:33,  1.28s/it]"
     ]
    },
    {
     "name": "stdout",
     "output_type": "stream",
     "text": [
      "Epoch:  132\n",
      "t_loss:  0.4086721473932266 , v_loss:  0.6768606801827749\n",
      "t_acc:  0.7116948092557849 , v_acc:  0.7102272727272727\n",
      "t_recall:  0.5381196581196581 , v_recall:  0.5457125325970241\n",
      "t_prec:  0.7086923245963006 , v_prec:  0.6514227642276422\n",
      "t_f:  0.49531491340497547 , v_f:  0.5188421334762799\n",
      "////////\n"
     ]
    },
    {
     "name": "stderr",
     "output_type": "stream",
     "text": [
      "\r",
      "Iterations:  45%|██████████████▋                  | 134/300 [02:42<03:11,  1.15s/it]"
     ]
    },
    {
     "name": "stdout",
     "output_type": "stream",
     "text": [
      "Epoch  133 , loss 0.40181293547153474\n",
      "Epoch  134 , loss 0.3988611781597137\n"
     ]
    },
    {
     "name": "stderr",
     "output_type": "stream",
     "text": [
      "\r",
      "Iterations:  45%|██████████████▊                  | 135/300 [02:43<03:31,  1.28s/it]"
     ]
    },
    {
     "name": "stdout",
     "output_type": "stream",
     "text": [
      "Epoch:  134\n",
      "t_loss:  0.3988611781597137 , v_loss:  0.6799667328596115\n",
      "t_acc:  0.7198248905565978 , v_acc:  0.7102272727272727\n",
      "t_recall:  0.5494376968061179 , v_recall:  0.5457125325970241\n",
      "t_prec:  0.7485923482206864 , v_prec:  0.6514227642276422\n",
      "t_f:  0.5137178233952427 , v_f:  0.5188421334762799\n",
      "////////\n"
     ]
    },
    {
     "name": "stderr",
     "output_type": "stream",
     "text": [
      "\r",
      "Iterations:  45%|██████████████▉                  | 136/300 [02:44<03:09,  1.16s/it]"
     ]
    },
    {
     "name": "stdout",
     "output_type": "stream",
     "text": [
      "Epoch  135 , loss 0.4067806953191757\n",
      "Epoch  136 , loss 0.4043006485700607\n"
     ]
    },
    {
     "name": "stderr",
     "output_type": "stream",
     "text": [
      "\r",
      "Iterations:  46%|███████████████                  | 137/300 [02:46<03:24,  1.25s/it]"
     ]
    },
    {
     "name": "stdout",
     "output_type": "stream",
     "text": [
      "Epoch:  136\n",
      "t_loss:  0.4043006485700607 , v_loss:  0.6790020565191904\n",
      "t_acc:  0.7204502814258912 , v_acc:  0.7102272727272727\n",
      "t_recall:  0.5510391363022942 , v_recall:  0.5457125325970241\n",
      "t_prec:  0.7466538237713964 , v_prec:  0.6514227642276422\n",
      "t_f:  0.5168488742068345 , v_f:  0.5188421334762799\n",
      "////////\n"
     ]
    },
    {
     "name": "stderr",
     "output_type": "stream",
     "text": [
      "\r",
      "Iterations:  46%|███████████████▏                 | 138/300 [02:47<03:11,  1.18s/it]"
     ]
    },
    {
     "name": "stdout",
     "output_type": "stream",
     "text": [
      "Epoch  137 , loss 0.4013397055864334\n",
      "Epoch  138 , loss 0.40004233360290525\n"
     ]
    },
    {
     "name": "stderr",
     "output_type": "stream",
     "text": [
      "\r",
      "Iterations:  46%|███████████████▎                 | 139/300 [02:48<03:19,  1.24s/it]"
     ]
    },
    {
     "name": "stdout",
     "output_type": "stream",
     "text": [
      "Epoch:  138\n",
      "t_loss:  0.40004233360290525 , v_loss:  0.6733981768290201\n",
      "t_acc:  0.7163852407754847 , v_acc:  0.7045454545454546\n",
      "t_recall:  0.5469635627530365 , v_recall:  0.547016413560362\n",
      "t_prec:  0.7198526108442478 , v_prec:  0.6269151138716356\n",
      "t_f:  0.5115347961987571 , v_f:  0.5260977630488816\n",
      "////////\n"
     ]
    },
    {
     "name": "stderr",
     "output_type": "stream",
     "text": [
      "\r",
      "Iterations:  47%|███████████████▍                 | 140/300 [02:49<03:04,  1.15s/it]"
     ]
    },
    {
     "name": "stdout",
     "output_type": "stream",
     "text": [
      "Epoch  139 , loss 0.4016448876261711\n",
      "Epoch  140 , loss 0.40235709249973295\n"
     ]
    },
    {
     "name": "stderr",
     "output_type": "stream",
     "text": [
      "\r",
      "Iterations:  47%|███████████████▌                 | 141/300 [02:50<03:15,  1.23s/it]"
     ]
    },
    {
     "name": "stdout",
     "output_type": "stream",
     "text": [
      "Epoch:  140\n",
      "t_loss:  0.40235709249973295 , v_loss:  0.6755310396353403\n",
      "t_acc:  0.717948717948718 , v_acc:  0.7102272727272727\n",
      "t_recall:  0.5472244714349978 , v_recall:  0.5510814542107685\n",
      "t_prec:  0.7374633732139004 , v_prec:  0.6468253968253967\n",
      "t_f:  0.5104614695340502 , v_f:  0.5299293008641005\n",
      "////////\n"
     ]
    },
    {
     "name": "stderr",
     "output_type": "stream",
     "text": [
      "\r",
      "Iterations:  47%|███████████████▌                 | 142/300 [02:51<03:00,  1.15s/it]"
     ]
    },
    {
     "name": "stdout",
     "output_type": "stream",
     "text": [
      "Epoch  141 , loss 0.4000747901201248\n",
      "Epoch  142 , loss 0.4005933302640915\n"
     ]
    },
    {
     "name": "stderr",
     "output_type": "stream",
     "text": [
      "\r",
      "Iterations:  48%|███████████████▋                 | 143/300 [02:53<03:21,  1.28s/it]"
     ]
    },
    {
     "name": "stdout",
     "output_type": "stream",
     "text": [
      "Epoch:  142\n",
      "t_loss:  0.4005933302640915 , v_loss:  0.6728366514046987\n",
      "t_acc:  0.7191994996873046 , v_acc:  0.6988636363636364\n",
      "t_recall:  0.5501394511920827 , v_recall:  0.5429513729099555\n",
      "t_prec:  0.7361969323859969 , v_prec:  0.609375\n",
      "t_f:  0.5160440982672791 , v_f:  0.5223024530137758\n",
      "////////\n"
     ]
    },
    {
     "name": "stderr",
     "output_type": "stream",
     "text": [
      "\r",
      "Iterations:  48%|███████████████▊                 | 144/300 [02:54<03:05,  1.19s/it]"
     ]
    },
    {
     "name": "stdout",
     "output_type": "stream",
     "text": [
      "Epoch  143 , loss 0.40306548327207564\n",
      "Epoch  144 , loss 0.39971001029014586\n"
     ]
    },
    {
     "name": "stderr",
     "output_type": "stream",
     "text": [
      "\r",
      "Iterations:  48%|███████████████▉                 | 145/300 [02:55<03:14,  1.25s/it]"
     ]
    },
    {
     "name": "stdout",
     "output_type": "stream",
     "text": [
      "Epoch:  144\n",
      "t_loss:  0.39971001029014586 , v_loss:  0.6744353075822195\n",
      "t_acc:  0.7257661038148843 , v_acc:  0.6931818181818182\n",
      "t_recall:  0.5597570850202429 , v_recall:  0.5335174106458046\n",
      "t_prec:  0.760299934080422 , v_prec:  0.5904761904761905\n",
      "t_f:  0.5316005767133851 , v_f:  0.507870753935377\n",
      "////////\n"
     ]
    },
    {
     "name": "stderr",
     "output_type": "stream",
     "text": [
      "\r",
      "Iterations:  49%|████████████████                 | 146/300 [02:56<02:55,  1.14s/it]"
     ]
    },
    {
     "name": "stdout",
     "output_type": "stream",
     "text": [
      "Epoch  145 , loss 0.40064327597618105\n",
      "Epoch  146 , loss 0.39989380598068236\n"
     ]
    },
    {
     "name": "stderr",
     "output_type": "stream",
     "text": [
      "\r",
      "Iterations:  49%|████████████████▏                | 147/300 [02:58<03:07,  1.23s/it]"
     ]
    },
    {
     "name": "stdout",
     "output_type": "stream",
     "text": [
      "Epoch:  146\n",
      "t_loss:  0.39989380598068236 , v_loss:  0.6756819039583206\n",
      "t_acc:  0.7176360225140713 , v_acc:  0.6988636363636364\n",
      "t_recall:  0.5472874493927126 , v_recall:  0.5429513729099555\n",
      "t_prec:  0.7330550098231827 , v_prec:  0.609375\n",
      "t_f:  0.5109547680485043 , v_f:  0.5223024530137758\n",
      "////////\n"
     ]
    },
    {
     "name": "stderr",
     "output_type": "stream",
     "text": [
      "\r",
      "Iterations:  49%|████████████████▎                | 148/300 [02:58<02:51,  1.13s/it]"
     ]
    },
    {
     "name": "stdout",
     "output_type": "stream",
     "text": [
      "Epoch  147 , loss 0.40593488812446593\n",
      "Epoch  148 , loss 0.40110078275203703\n"
     ]
    },
    {
     "name": "stderr",
     "output_type": "stream",
     "text": [
      "\r",
      "Iterations:  50%|████████████████▍                | 149/300 [03:00<03:10,  1.26s/it]"
     ]
    },
    {
     "name": "stdout",
     "output_type": "stream",
     "text": [
      "Epoch:  148\n",
      "t_loss:  0.40110078275203703 , v_loss:  0.672791600227356\n",
      "t_acc:  0.7198248905565978 , v_acc:  0.6931818181818182\n",
      "t_recall:  0.5494376968061179 , v_recall:  0.5388863322595491\n",
      "t_prec:  0.7485923482206864 , v_prec:  0.5937846836847946\n",
      "t_f:  0.5137178233952427 , v_f:  0.5185410334346505\n",
      "////////\n"
     ]
    },
    {
     "name": "stderr",
     "output_type": "stream",
     "text": [
      "\r",
      "Iterations:  50%|████████████████▌                | 150/300 [03:01<02:55,  1.17s/it]"
     ]
    },
    {
     "name": "stdout",
     "output_type": "stream",
     "text": [
      "Epoch  149 , loss 0.4010500258207321\n",
      "Epoch  150 , loss 0.39915129125118254\n"
     ]
    },
    {
     "name": "stderr",
     "output_type": "stream",
     "text": [
      "\r",
      "Iterations:  50%|████████████████▌                | 151/300 [03:02<03:04,  1.24s/it]"
     ]
    },
    {
     "name": "stdout",
     "output_type": "stream",
     "text": [
      "Epoch:  150\n",
      "t_loss:  0.39915129125118254 , v_loss:  0.6741878638664881\n",
      "t_acc:  0.7198248905565978 , v_acc:  0.6931818181818182\n",
      "t_recall:  0.5528924876293297 , v_recall:  0.5388863322595491\n",
      "t_prec:  0.7290771213619878 , v_prec:  0.5937846836847946\n",
      "t_f:  0.52178162300729 , v_f:  0.5185410334346505\n",
      "////////\n"
     ]
    },
    {
     "name": "stderr",
     "output_type": "stream",
     "text": [
      "\r",
      "Iterations:  51%|████████████████▋                | 152/300 [03:03<02:56,  1.19s/it]"
     ]
    },
    {
     "name": "stdout",
     "output_type": "stream",
     "text": [
      "Epoch  151 , loss 0.39845403492450715\n",
      "Epoch  152 , loss 0.39845565319061277\n"
     ]
    },
    {
     "name": "stderr",
     "output_type": "stream",
     "text": [
      "\r",
      "Iterations:  51%|████████████████▊                | 153/300 [03:05<03:02,  1.24s/it]"
     ]
    },
    {
     "name": "stdout",
     "output_type": "stream",
     "text": [
      "Epoch:  152\n",
      "t_loss:  0.39845565319061277 , v_loss:  0.6711285213629404\n",
      "t_acc:  0.7238899312070044 , v_acc:  0.6988636363636364\n",
      "t_recall:  0.5572559604138552 , v_recall:  0.5483202945237\n",
      "t_prec:  0.7523178646367052 , v_prec:  0.610759493670886\n",
      "t_f:  0.5277461278843003 , v_f:  0.5324545135582176\n",
      "////////\n"
     ]
    },
    {
     "name": "stderr",
     "output_type": "stream",
     "text": [
      "\r",
      "Iterations:  51%|████████████████▉                | 154/300 [03:06<02:44,  1.13s/it]"
     ]
    },
    {
     "name": "stdout",
     "output_type": "stream",
     "text": [
      "Epoch  153 , loss 0.39782797276973725\n",
      "Epoch  154 , loss 0.392433243393898\n"
     ]
    },
    {
     "name": "stderr",
     "output_type": "stream",
     "text": [
      "\r",
      "Iterations:  52%|█████████████████                | 155/300 [03:07<02:55,  1.21s/it]"
     ]
    },
    {
     "name": "stdout",
     "output_type": "stream",
     "text": [
      "Epoch:  154\n",
      "t_loss:  0.392433243393898 , v_loss:  0.6689908802509308\n",
      "t_acc:  0.7238899312070044 , v_acc:  0.7045454545454546\n",
      "t_recall:  0.5575438596491228 , v_recall:  0.557754256787851\n",
      "t_prec:  0.750659195781147 , v_prec:  0.6262152195776064\n",
      "t_f:  0.5283960196555518 , v_f:  0.546031746031746\n",
      "////////\n"
     ]
    },
    {
     "name": "stderr",
     "output_type": "stream",
     "text": [
      "\r",
      "Iterations:  52%|█████████████████▏               | 156/300 [03:08<02:48,  1.17s/it]"
     ]
    },
    {
     "name": "stdout",
     "output_type": "stream",
     "text": [
      "Epoch  155 , loss 0.3977120703458786\n",
      "Epoch  156 , loss 0.3960098397731781\n"
     ]
    },
    {
     "name": "stderr",
     "output_type": "stream",
     "text": [
      "\r",
      "Iterations:  52%|█████████████████▎               | 157/300 [03:10<03:05,  1.30s/it]"
     ]
    },
    {
     "name": "stdout",
     "output_type": "stream",
     "text": [
      "Epoch:  156\n",
      "t_loss:  0.3960098397731781 , v_loss:  0.6771080692609152\n",
      "t_acc:  0.7185741088180112 , v_acc:  0.6988636363636364\n",
      "t_recall:  0.5505533063427801 , v_recall:  0.5483202945237\n",
      "t_prec:  0.7267596714410773 , v_prec:  0.610759493670886\n",
      "t_f:  0.5176557890354926 , v_f:  0.5324545135582176\n",
      "////////\n"
     ]
    },
    {
     "name": "stderr",
     "output_type": "stream",
     "text": [
      "\r",
      "Iterations:  53%|█████████████████▍               | 158/300 [03:11<02:46,  1.17s/it]"
     ]
    },
    {
     "name": "stdout",
     "output_type": "stream",
     "text": [
      "Epoch  157 , loss 0.3970290207862854\n",
      "Epoch  158 , loss 0.39216179609298707\n"
     ]
    },
    {
     "name": "stderr",
     "output_type": "stream",
     "text": [
      "\r",
      "Iterations:  53%|█████████████████▍               | 159/300 [03:12<02:54,  1.24s/it]"
     ]
    },
    {
     "name": "stdout",
     "output_type": "stream",
     "text": [
      "Epoch:  158\n",
      "t_loss:  0.39216179609298707 , v_loss:  0.684231678644816\n",
      "t_acc:  0.7273295809881176 , v_acc:  0.6931818181818182\n",
      "t_recall:  0.5614574898785425 , v_recall:  0.5335174106458046\n",
      "t_prec:  0.7692604683599317 , v_prec:  0.5904761904761905\n",
      "t_f:  0.5339504419075861 , v_f:  0.507870753935377\n",
      "////////\n"
     ]
    },
    {
     "name": "stderr",
     "output_type": "stream",
     "text": [
      "\r",
      "Iterations:  53%|█████████████████▌               | 160/300 [03:13<02:37,  1.12s/it]"
     ]
    },
    {
     "name": "stdout",
     "output_type": "stream",
     "text": [
      "Epoch  159 , loss 0.3979014652967453\n",
      "Epoch  160 , loss 0.39667549848556516\n"
     ]
    },
    {
     "name": "stderr",
     "output_type": "stream",
     "text": [
      "\r",
      "Iterations:  54%|█████████████████▋               | 161/300 [03:14<02:53,  1.25s/it]"
     ]
    },
    {
     "name": "stdout",
     "output_type": "stream",
     "text": [
      "Epoch:  160\n",
      "t_loss:  0.39667549848556516 , v_loss:  0.6843038002649943\n",
      "t_acc:  0.7235772357723578 , v_acc:  0.6988636363636364\n",
      "t_recall:  0.5590463337831759 , v_recall:  0.5429513729099555\n",
      "t_prec:  0.739338753022627 , v_prec:  0.609375\n",
      "t_f:  0.5320326404780066 , v_f:  0.5223024530137758\n",
      "////////\n"
     ]
    },
    {
     "name": "stderr",
     "output_type": "stream",
     "text": [
      "\r",
      "Iterations:  54%|█████████████████▊               | 162/300 [03:15<02:36,  1.14s/it]"
     ]
    },
    {
     "name": "stdout",
     "output_type": "stream",
     "text": [
      "Epoch  161 , loss 0.395814003944397\n",
      "Epoch  162 , loss 0.39863235771656036\n"
     ]
    },
    {
     "name": "stderr",
     "output_type": "stream",
     "text": [
      "\r",
      "Iterations:  54%|█████████████████▉               | 163/300 [03:17<02:46,  1.22s/it]"
     ]
    },
    {
     "name": "stdout",
     "output_type": "stream",
     "text": [
      "Epoch:  162\n",
      "t_loss:  0.39863235771656036 , v_loss:  0.682864303390185\n",
      "t_acc:  0.7235772357723578 , v_acc:  0.6988636363636364\n",
      "t_recall:  0.5590463337831759 , v_recall:  0.5483202945237\n",
      "t_prec:  0.739338753022627 , v_prec:  0.610759493670886\n",
      "t_f:  0.5320326404780066 , v_f:  0.5324545135582176\n",
      "////////\n"
     ]
    },
    {
     "name": "stderr",
     "output_type": "stream",
     "text": [
      "\r",
      "Iterations:  55%|██████████████████               | 164/300 [03:18<02:40,  1.18s/it]"
     ]
    },
    {
     "name": "stdout",
     "output_type": "stream",
     "text": [
      "Epoch  163 , loss 0.39548699378967284\n",
      "Epoch  164 , loss 0.3950679820775986\n"
     ]
    },
    {
     "name": "stderr",
     "output_type": "stream",
     "text": [
      "\r",
      "Iterations:  55%|██████████████████▏              | 165/300 [03:19<02:46,  1.23s/it]"
     ]
    },
    {
     "name": "stdout",
     "output_type": "stream",
     "text": [
      "Epoch:  164\n",
      "t_loss:  0.3950679820775986 , v_loss:  0.6786103745301565\n",
      "t_acc:  0.7282676672920575 , v_acc:  0.6988636363636364\n",
      "t_recall:  0.562995951417004 , v_recall:  0.5483202945237\n",
      "t_prec:  0.7712810344279493 , v_prec:  0.610759493670886\n",
      "t_f:  0.5365105308495477 , v_f:  0.5324545135582176\n",
      "////////\n"
     ]
    },
    {
     "name": "stderr",
     "output_type": "stream",
     "text": [
      "\r",
      "Iterations:  55%|██████████████████▎              | 166/300 [03:20<02:29,  1.12s/it]"
     ]
    },
    {
     "name": "stdout",
     "output_type": "stream",
     "text": [
      "Epoch  165 , loss 0.39920122385025025\n",
      "Epoch  166 , loss 0.3905867624282837\n"
     ]
    },
    {
     "name": "stderr",
     "output_type": "stream",
     "text": [
      "\r",
      "Iterations:  56%|██████████████████▎              | 167/300 [03:21<02:39,  1.20s/it]"
     ]
    },
    {
     "name": "stdout",
     "output_type": "stream",
     "text": [
      "Epoch:  166\n",
      "t_loss:  0.3905867624282837 , v_loss:  0.6858208775520325\n",
      "t_acc:  0.7298311444652908 , v_acc:  0.6931818181818182\n",
      "t_recall:  0.5675753486279802 , v_recall:  0.5388863322595491\n",
      "t_prec:  0.7627613674078991 , v_prec:  0.5937846836847946\n",
      "t_f:  0.5450804773319986 , v_f:  0.5185410334346505\n",
      "////////\n"
     ]
    },
    {
     "name": "stderr",
     "output_type": "stream",
     "text": [
      "\r",
      "Iterations:  56%|██████████████████▍              | 168/300 [03:22<02:35,  1.18s/it]"
     ]
    },
    {
     "name": "stdout",
     "output_type": "stream",
     "text": [
      "Epoch  167 , loss 0.3869055199623108\n",
      "Epoch  168 , loss 0.3957723915576935\n"
     ]
    },
    {
     "name": "stderr",
     "output_type": "stream",
     "text": [
      "\r",
      "Iterations:  56%|██████████████████▌              | 169/300 [03:24<02:50,  1.30s/it]"
     ]
    },
    {
     "name": "stdout",
     "output_type": "stream",
     "text": [
      "Epoch:  168\n",
      "t_loss:  0.3957723915576935 , v_loss:  0.6838328639666239\n",
      "t_acc:  0.7320200125078173 , v_acc:  0.6988636363636364\n",
      "t_recall:  0.5726045883940621 , v_recall:  0.5483202945237\n",
      "t_prec:  0.7600249177120649 , v_prec:  0.610759493670886\n",
      "t_f:  0.5538349762151006 , v_f:  0.5324545135582176\n",
      "////////\n"
     ]
    },
    {
     "name": "stderr",
     "output_type": "stream",
     "text": [
      "\r",
      "Iterations:  57%|██████████████████▋              | 170/300 [03:25<02:33,  1.18s/it]"
     ]
    },
    {
     "name": "stdout",
     "output_type": "stream",
     "text": [
      "Epoch  169 , loss 0.4006368809938431\n",
      "Epoch  170 , loss 0.38778553128242493\n"
     ]
    },
    {
     "name": "stderr",
     "output_type": "stream",
     "text": [
      "\r",
      "Iterations:  57%|██████████████████▊              | 171/300 [03:26<02:40,  1.25s/it]"
     ]
    },
    {
     "name": "stdout",
     "output_type": "stream",
     "text": [
      "Epoch:  170\n",
      "t_loss:  0.38778553128242493 , v_loss:  0.6911603361368179\n",
      "t_acc:  0.7329580988117573 , v_acc:  0.6988636363636364\n",
      "t_recall:  0.5718398560503823 , v_recall:  0.5483202945237\n",
      "t_prec:  0.7737950170652065 , v_prec:  0.610759493670886\n",
      "t_f:  0.5515483621803966 , v_f:  0.5324545135582176\n",
      "////////\n"
     ]
    },
    {
     "name": "stderr",
     "output_type": "stream",
     "text": [
      "\r",
      "Iterations:  57%|██████████████████▉              | 172/300 [03:27<02:24,  1.13s/it]"
     ]
    },
    {
     "name": "stdout",
     "output_type": "stream",
     "text": [
      "Epoch  171 , loss 0.3904948699474335\n",
      "Epoch  172 , loss 0.3933068233728409\n"
     ]
    },
    {
     "name": "stderr",
     "output_type": "stream",
     "text": [
      "\r",
      "Iterations:  58%|███████████████████              | 173/300 [03:29<02:39,  1.26s/it]"
     ]
    },
    {
     "name": "stdout",
     "output_type": "stream",
     "text": [
      "Epoch:  172\n",
      "t_loss:  0.3933068233728409 , v_loss:  0.6942004362742106\n",
      "t_acc:  0.7326454033771107 , v_acc:  0.6931818181818182\n",
      "t_recall:  0.5742060278902384 , v_recall:  0.5388863322595491\n",
      "t_prec:  0.7586120401337793 , v_prec:  0.5937846836847946\n",
      "t_f:  0.5566240780129137 , v_f:  0.5185410334346505\n",
      "////////\n"
     ]
    },
    {
     "name": "stderr",
     "output_type": "stream",
     "text": [
      "\r",
      "Iterations:  58%|███████████████████▏             | 174/300 [03:30<02:23,  1.14s/it]"
     ]
    },
    {
     "name": "stdout",
     "output_type": "stream",
     "text": [
      "Epoch  173 , loss 0.3939798092842102\n",
      "Epoch  174 , loss 0.39268520146608354\n"
     ]
    },
    {
     "name": "stderr",
     "output_type": "stream",
     "text": [
      "\r",
      "Iterations:  58%|███████████████████▎             | 175/300 [03:31<02:34,  1.23s/it]"
     ]
    },
    {
     "name": "stdout",
     "output_type": "stream",
     "text": [
      "Epoch:  174\n",
      "t_loss:  0.39268520146608354 , v_loss:  0.6863420854012171\n",
      "t_acc:  0.7323327079424641 , v_acc:  0.6931818181818182\n",
      "t_recall:  0.5725416104363473 , v_recall:  0.5388863322595491\n",
      "t_prec:  0.7634521389877027 , v_prec:  0.5937846836847946\n",
      "t_f:  0.5534734777579066 , v_f:  0.5185410334346505\n",
      "////////\n"
     ]
    },
    {
     "name": "stderr",
     "output_type": "stream",
     "text": [
      "\r",
      "Iterations:  59%|███████████████████▎             | 176/300 [03:32<02:27,  1.19s/it]"
     ]
    },
    {
     "name": "stdout",
     "output_type": "stream",
     "text": [
      "Epoch  175 , loss 0.38924605786800387\n",
      "Epoch  176 , loss 0.39015245318412783\n"
     ]
    },
    {
     "name": "stderr",
     "output_type": "stream",
     "text": [
      "\r",
      "Iterations:  59%|███████████████████▍             | 177/300 [03:34<02:34,  1.26s/it]"
     ]
    },
    {
     "name": "stdout",
     "output_type": "stream",
     "text": [
      "Epoch:  176\n",
      "t_loss:  0.39015245318412783 , v_loss:  0.6820023953914642\n",
      "t_acc:  0.7338961851156973 , v_acc:  0.6988636363636364\n",
      "t_recall:  0.5739541160593792 , v_recall:  0.5483202945237\n",
      "t_prec:  0.7724204271981945 , v_prec:  0.610759493670886\n",
      "t_f:  0.5551999476993859 , v_f:  0.5324545135582176\n",
      "////////\n"
     ]
    },
    {
     "name": "stderr",
     "output_type": "stream",
     "text": [
      "\r",
      "Iterations:  59%|███████████████████▌             | 178/300 [03:35<02:20,  1.15s/it]"
     ]
    },
    {
     "name": "stdout",
     "output_type": "stream",
     "text": [
      "Epoch  177 , loss 0.39351033329963686\n",
      "Epoch  178 , loss 0.3889465302228928\n"
     ]
    },
    {
     "name": "stderr",
     "output_type": "stream",
     "text": [
      "\r",
      "Iterations:  60%|███████████████████▋             | 179/300 [03:36<02:29,  1.24s/it]"
     ]
    },
    {
     "name": "stdout",
     "output_type": "stream",
     "text": [
      "Epoch:  178\n",
      "t_loss:  0.3889465302228928 , v_loss:  0.6853804141283035\n",
      "t_acc:  0.7323327079424641 , v_acc:  0.6988636363636364\n",
      "t_recall:  0.571965811965812 , v_recall:  0.5483202945237\n",
      "t_prec:  0.7663669663669663 , v_prec:  0.610759493670886\n",
      "t_f:  0.5522898328868479 , v_f:  0.5324545135582176\n",
      "////////\n"
     ]
    },
    {
     "name": "stderr",
     "output_type": "stream",
     "text": [
      "\r",
      "Iterations:  60%|███████████████████▊             | 180/300 [03:37<02:20,  1.17s/it]"
     ]
    },
    {
     "name": "stdout",
     "output_type": "stream",
     "text": [
      "Epoch  179 , loss 0.38926870346069337\n",
      "Epoch  180 , loss 0.38874014616012575\n"
     ]
    },
    {
     "name": "stderr",
     "output_type": "stream",
     "text": [
      "\r",
      "Iterations:  60%|███████████████████▉             | 181/300 [03:39<02:35,  1.31s/it]"
     ]
    },
    {
     "name": "stdout",
     "output_type": "stream",
     "text": [
      "Epoch:  180\n",
      "t_loss:  0.38874014616012575 , v_loss:  0.6933225095272064\n",
      "t_acc:  0.7335834896810507 , v_acc:  0.6931818181818182\n",
      "t_recall:  0.574880791722897 , v_recall:  0.5388863322595491\n",
      "t_prec:  0.7645172068159038 , v_prec:  0.5937846836847946\n",
      "t_f:  0.5573112717063533 , v_f:  0.5185410334346505\n",
      "////////\n"
     ]
    },
    {
     "name": "stderr",
     "output_type": "stream",
     "text": [
      "\r",
      "Iterations:  61%|████████████████████             | 182/300 [03:40<02:21,  1.20s/it]"
     ]
    },
    {
     "name": "stdout",
     "output_type": "stream",
     "text": [
      "Epoch  181 , loss 0.3887816250324249\n",
      "Epoch  182 , loss 0.391307373046875\n"
     ]
    },
    {
     "name": "stderr",
     "output_type": "stream",
     "text": [
      "\r",
      "Iterations:  61%|████████████████████▏            | 183/300 [03:41<02:28,  1.27s/it]"
     ]
    },
    {
     "name": "stdout",
     "output_type": "stream",
     "text": [
      "Epoch:  182\n",
      "t_loss:  0.391307373046875 , v_loss:  0.68763334552447\n",
      "t_acc:  0.7298311444652908 , v_acc:  0.6931818181818182\n",
      "t_recall:  0.5716059379217274 , v_recall:  0.5388863322595491\n",
      "t_prec:  0.744100785618232 , v_prec:  0.5937846836847946\n",
      "t_f:  0.553414327607876 , v_f:  0.5185410334346505\n",
      "////////\n"
     ]
    },
    {
     "name": "stderr",
     "output_type": "stream",
     "text": [
      "\r",
      "Iterations:  61%|████████████████████▏            | 184/300 [03:42<02:12,  1.14s/it]"
     ]
    },
    {
     "name": "stdout",
     "output_type": "stream",
     "text": [
      "Epoch  183 , loss 0.3917798799276352\n",
      "Epoch  184 , loss 0.39081801116466525\n"
     ]
    },
    {
     "name": "stderr",
     "output_type": "stream",
     "text": [
      "\r",
      "Iterations:  62%|████████████████████▎            | 185/300 [03:43<02:26,  1.27s/it]"
     ]
    },
    {
     "name": "stdout",
     "output_type": "stream",
     "text": [
      "Epoch:  184\n",
      "t_loss:  0.39081801116466525 , v_loss:  0.6866432030995687\n",
      "t_acc:  0.7370231394621638 , v_acc:  0.6931818181818182\n",
      "t_recall:  0.5822492127755285 , v_recall:  0.5388863322595491\n",
      "t_prec:  0.7632597908913699 , v_prec:  0.5937846836847946\n",
      "t_f:  0.5694828017574013 , v_f:  0.5185410334346505\n",
      "////////\n"
     ]
    },
    {
     "name": "stderr",
     "output_type": "stream",
     "text": [
      "\r",
      "Iterations:  62%|████████████████████▍            | 186/300 [03:44<02:11,  1.15s/it]"
     ]
    },
    {
     "name": "stdout",
     "output_type": "stream",
     "text": [
      "Epoch  185 , loss 0.39015288472175597\n",
      "Epoch  186 , loss 0.3873986500501633\n"
     ]
    },
    {
     "name": "stderr",
     "output_type": "stream",
     "text": [
      "\r",
      "Iterations:  62%|████████████████████▌            | 187/300 [03:46<02:19,  1.23s/it]"
     ]
    },
    {
     "name": "stdout",
     "output_type": "stream",
     "text": [
      "Epoch:  186\n",
      "t_loss:  0.3873986500501633 , v_loss:  0.6868983109792074\n",
      "t_acc:  0.7326454033771107 , v_acc:  0.6875\n",
      "t_recall:  0.575357624831309 , v_recall:  0.5348212916091425\n",
      "t_prec:  0.7535770176615246 , v_prec:  0.579817158931083\n",
      "t_f:  0.5589253696673175 , v_f:  0.5148112876547541\n",
      "////////\n"
     ]
    },
    {
     "name": "stderr",
     "output_type": "stream",
     "text": [
      "\r",
      "Iterations:  63%|████████████████████▋            | 188/300 [03:47<02:11,  1.17s/it]"
     ]
    },
    {
     "name": "stdout",
     "output_type": "stream",
     "text": [
      "Epoch  187 , loss 0.3863669228553772\n",
      "Epoch  188 , loss 0.39017552345991136\n"
     ]
    },
    {
     "name": "stderr",
     "output_type": "stream",
     "text": [
      "\r",
      "Iterations:  63%|████████████████████▊            | 189/300 [03:48<02:18,  1.25s/it]"
     ]
    },
    {
     "name": "stdout",
     "output_type": "stream",
     "text": [
      "Epoch:  188\n",
      "t_loss:  0.39017552345991136 , v_loss:  0.6838763654232025\n",
      "t_acc:  0.7317073170731707 , v_acc:  0.6931818181818182\n",
      "t_recall:  0.5743949617633828 , v_recall:  0.5442552538732934\n",
      "t_prec:  0.7492676351145581 , v_prec:  0.596714716728126\n",
      "t_f:  0.5576640839003554 , v_f:  0.5285714285714286\n",
      "////////\n"
     ]
    },
    {
     "name": "stderr",
     "output_type": "stream",
     "text": [
      "\r",
      "Iterations:  63%|████████████████████▉            | 190/300 [03:49<02:05,  1.14s/it]"
     ]
    },
    {
     "name": "stdout",
     "output_type": "stream",
     "text": [
      "Epoch  189 , loss 0.3863032400608063\n",
      "Epoch  190 , loss 0.39090065091848375\n"
     ]
    },
    {
     "name": "stderr",
     "output_type": "stream",
     "text": [
      "\r",
      "Iterations:  64%|█████████████████████            | 191/300 [03:50<02:10,  1.20s/it]"
     ]
    },
    {
     "name": "stdout",
     "output_type": "stream",
     "text": [
      "Epoch:  190\n",
      "t_loss:  0.39090065091848375 , v_loss:  0.6834992170333862\n",
      "t_acc:  0.7373358348968105 , v_acc:  0.6875\n",
      "t_recall:  0.5813225371120108 , v_recall:  0.5348212916091425\n",
      "t_prec:  0.7701720261005118 , v_prec:  0.579817158931083\n",
      "t_f:  0.5675030284061601 , v_f:  0.5148112876547541\n",
      "////////\n"
     ]
    },
    {
     "name": "stderr",
     "output_type": "stream",
     "text": [
      "\r",
      "Iterations:  64%|█████████████████████            | 192/300 [03:51<02:02,  1.13s/it]"
     ]
    },
    {
     "name": "stdout",
     "output_type": "stream",
     "text": [
      "Epoch  191 , loss 0.38834076225757597\n",
      "Epoch  192 , loss 0.386282325387001\n"
     ]
    },
    {
     "name": "stderr",
     "output_type": "stream",
     "text": [
      "\r",
      "Iterations:  64%|█████████████████████▏           | 193/300 [03:53<02:15,  1.26s/it]"
     ]
    },
    {
     "name": "stdout",
     "output_type": "stream",
     "text": [
      "Epoch:  192\n",
      "t_loss:  0.386282325387001 , v_loss:  0.6893585920333862\n",
      "t_acc:  0.7410881801125704 , v_acc:  0.6875\n",
      "t_recall:  0.586612685560054 , v_recall:  0.5348212916091425\n",
      "t_prec:  0.7806390850992264 , v_prec:  0.579817158931083\n",
      "t_f:  0.5753233256351039 , v_f:  0.5148112876547541\n",
      "////////\n"
     ]
    },
    {
     "name": "stderr",
     "output_type": "stream",
     "text": [
      "\r",
      "Iterations:  65%|█████████████████████▎           | 194/300 [03:54<02:03,  1.16s/it]"
     ]
    },
    {
     "name": "stdout",
     "output_type": "stream",
     "text": [
      "Epoch  193 , loss 0.38459674298763274\n",
      "Epoch  194 , loss 0.3873491352796555\n"
     ]
    },
    {
     "name": "stderr",
     "output_type": "stream",
     "text": [
      "\r",
      "Iterations:  65%|█████████████████████▍           | 195/300 [03:55<02:10,  1.24s/it]"
     ]
    },
    {
     "name": "stdout",
     "output_type": "stream",
     "text": [
      "Epoch:  194\n",
      "t_loss:  0.3873491352796555 , v_loss:  0.6882277925809225\n",
      "t_acc:  0.7373358348968105 , v_acc:  0.6875\n",
      "t_recall:  0.5813225371120108 , v_recall:  0.5348212916091425\n",
      "t_prec:  0.7701720261005118 , v_prec:  0.579817158931083\n",
      "t_f:  0.5675030284061601 , v_f:  0.5148112876547541\n",
      "////////\n"
     ]
    },
    {
     "name": "stderr",
     "output_type": "stream",
     "text": [
      "\r",
      "Iterations:  65%|█████████████████████▌           | 196/300 [03:56<01:56,  1.12s/it]"
     ]
    },
    {
     "name": "stdout",
     "output_type": "stream",
     "text": [
      "Epoch  195 , loss 0.38992402017116545\n",
      "Epoch  196 , loss 0.386183568239212\n"
     ]
    },
    {
     "name": "stderr",
     "output_type": "stream",
     "text": [
      "\r",
      "Iterations:  66%|█████████████████████▋           | 197/300 [03:58<02:08,  1.25s/it]"
     ]
    },
    {
     "name": "stdout",
     "output_type": "stream",
     "text": [
      "Epoch:  196\n",
      "t_loss:  0.386183568239212 , v_loss:  0.6897215942541758\n",
      "t_acc:  0.7370231394621638 , v_acc:  0.6875\n",
      "t_recall:  0.579370220422852 , v_recall:  0.540190213222887\n",
      "t_prec:  0.7766095317725752 , v_prec:  0.583974358974359\n",
      "t_f:  0.563884034630246 , v_f:  0.5247213629891491\n",
      "////////\n"
     ]
    },
    {
     "name": "stderr",
     "output_type": "stream",
     "text": [
      "\r",
      "Iterations:  66%|█████████████████████▊           | 198/300 [03:59<01:56,  1.14s/it]"
     ]
    },
    {
     "name": "stdout",
     "output_type": "stream",
     "text": [
      "Epoch  197 , loss 0.38647477090358734\n",
      "Epoch  198 , loss 0.3863790822029114\n"
     ]
    },
    {
     "name": "stderr",
     "output_type": "stream",
     "text": [
      "\r",
      "Iterations:  66%|█████████████████████▉           | 199/300 [04:00<02:05,  1.24s/it]"
     ]
    },
    {
     "name": "stdout",
     "output_type": "stream",
     "text": [
      "Epoch:  198\n",
      "t_loss:  0.3863790822029114 , v_loss:  0.6940842767556509\n",
      "t_acc:  0.7370231394621638 , v_acc:  0.6931818181818182\n",
      "t_recall:  0.5842645074224022 , v_recall:  0.5388863322595491\n",
      "t_prec:  0.7553106722284972 , v_prec:  0.5937846836847946\n",
      "t_f:  0.5732849445877043 , v_f:  0.5185410334346505\n",
      "////////\n"
     ]
    },
    {
     "name": "stderr",
     "output_type": "stream",
     "text": [
      "\r",
      "Iterations:  67%|██████████████████████           | 200/300 [04:01<01:58,  1.19s/it]"
     ]
    },
    {
     "name": "stdout",
     "output_type": "stream",
     "text": [
      "Epoch  199 , loss 0.38518624067306517\n",
      "Epoch  200 , loss 0.38620331764221194\n"
     ]
    },
    {
     "name": "stderr",
     "output_type": "stream",
     "text": [
      "\r",
      "Iterations:  67%|██████████████████████           | 201/300 [04:02<02:03,  1.24s/it]"
     ]
    },
    {
     "name": "stdout",
     "output_type": "stream",
     "text": [
      "Epoch:  200\n",
      "t_loss:  0.38620331764221194 , v_loss:  0.6922404865423838\n",
      "t_acc:  0.7367104440275172 , v_acc:  0.6875\n",
      "t_recall:  0.5831758884390463 , v_recall:  0.5348212916091425\n",
      "t_prec:  0.75689448056806 , v_prec:  0.579817158931083\n",
      "t_f:  0.5714288442733162 , v_f:  0.5148112876547541\n",
      "////////\n"
     ]
    },
    {
     "name": "stderr",
     "output_type": "stream",
     "text": [
      "\r",
      "Iterations:  67%|██████████████████████▏          | 202/300 [04:03<01:52,  1.15s/it]"
     ]
    },
    {
     "name": "stdout",
     "output_type": "stream",
     "text": [
      "Epoch  201 , loss 0.3858237940073013\n",
      "Epoch  202 , loss 0.38613297790288925\n"
     ]
    },
    {
     "name": "stderr",
     "output_type": "stream",
     "text": [
      "\r",
      "Iterations:  68%|██████████████████████▎          | 203/300 [04:05<01:58,  1.22s/it]"
     ]
    },
    {
     "name": "stdout",
     "output_type": "stream",
     "text": [
      "Epoch:  202\n",
      "t_loss:  0.38613297790288925 , v_loss:  0.693533738454183\n",
      "t_acc:  0.742338961851157 , v_acc:  0.6875\n",
      "t_recall:  0.591255060728745 , v_recall:  0.5348212916091425\n",
      "t_prec:  0.7713531541493517 , v_prec:  0.579817158931083\n",
      "t_f:  0.583218876707597 , v_f:  0.5148112876547541\n",
      "////////\n"
     ]
    },
    {
     "name": "stderr",
     "output_type": "stream",
     "text": [
      "\r",
      "Iterations:  68%|██████████████████████▍          | 204/300 [04:06<01:49,  1.14s/it]"
     ]
    },
    {
     "name": "stdout",
     "output_type": "stream",
     "text": [
      "Epoch  203 , loss 0.38486761212348936\n",
      "Epoch  204 , loss 0.3799803754687309\n"
     ]
    },
    {
     "name": "stderr",
     "output_type": "stream",
     "text": [
      "\r",
      "Iterations:  68%|██████████████████████▌          | 205/300 [04:07<02:00,  1.26s/it]"
     ]
    },
    {
     "name": "stdout",
     "output_type": "stream",
     "text": [
      "Epoch:  204\n",
      "t_loss:  0.3799803754687309 , v_loss:  0.7057270059982935\n",
      "t_acc:  0.7379612257661038 , v_acc:  0.6931818181818182\n",
      "t_recall:  0.5860908681961313 , v_recall:  0.5388863322595491\n",
      "t_prec:  0.7559970750325492 , v_prec:  0.5937846836847946\n",
      "t_f:  0.5761376440302988 , v_f:  0.5185410334346505\n",
      "////////\n"
     ]
    },
    {
     "name": "stderr",
     "output_type": "stream",
     "text": [
      "\r",
      "Iterations:  69%|██████████████████████▋          | 206/300 [04:08<01:52,  1.20s/it]"
     ]
    },
    {
     "name": "stdout",
     "output_type": "stream",
     "text": [
      "Epoch  205 , loss 0.3795860642194748\n",
      "Epoch  206 , loss 0.3839290165901184\n"
     ]
    },
    {
     "name": "stderr",
     "output_type": "stream",
     "text": [
      "\r",
      "Iterations:  69%|██████████████████████▊          | 207/300 [04:10<01:59,  1.28s/it]"
     ]
    },
    {
     "name": "stdout",
     "output_type": "stream",
     "text": [
      "Epoch:  206\n",
      "t_loss:  0.3839290165901184 , v_loss:  0.7015004058678945\n",
      "t_acc:  0.7392120075046904 , v_acc:  0.6931818181818182\n",
      "t_recall:  0.5875663517768781 , v_recall:  0.5388863322595491\n",
      "t_prec:  0.7603845262087785 , v_prec:  0.5937846836847946\n",
      "t_f:  0.5781608533666697 , v_f:  0.5185410334346505\n",
      "////////\n"
     ]
    },
    {
     "name": "stderr",
     "output_type": "stream",
     "text": [
      "\r",
      "Iterations:  69%|██████████████████████▉          | 208/300 [04:11<01:47,  1.16s/it]"
     ]
    },
    {
     "name": "stdout",
     "output_type": "stream",
     "text": [
      "Epoch  207 , loss 0.3823410025238991\n",
      "Epoch  208 , loss 0.38541768908500673\n"
     ]
    },
    {
     "name": "stderr",
     "output_type": "stream",
     "text": [
      "\r",
      "Iterations:  70%|██████████████████████▉          | 209/300 [04:12<01:52,  1.24s/it]"
     ]
    },
    {
     "name": "stdout",
     "output_type": "stream",
     "text": [
      "Epoch:  208\n",
      "t_loss:  0.38541768908500673 , v_loss:  0.6865867674350739\n",
      "t_acc:  0.7401500938086304 , v_acc:  0.6875\n",
      "t_recall:  0.5893927125506073 , v_recall:  0.540190213222887\n",
      "t_prec:  0.7609834157695665 , v_prec:  0.583974358974359\n",
      "t_f:  0.5809861403391764 , v_f:  0.5247213629891491\n",
      "////////\n"
     ]
    },
    {
     "name": "stderr",
     "output_type": "stream",
     "text": [
      "\r",
      "Iterations:  70%|███████████████████████          | 210/300 [04:13<01:42,  1.14s/it]"
     ]
    },
    {
     "name": "stdout",
     "output_type": "stream",
     "text": [
      "Epoch  209 , loss 0.38184376060962677\n",
      "Epoch  210 , loss 0.3855359274148941\n"
     ]
    },
    {
     "name": "stderr",
     "output_type": "stream",
     "text": [
      "\r",
      "Iterations:  70%|███████████████████████▏         | 211/300 [04:15<01:53,  1.27s/it]"
     ]
    },
    {
     "name": "stdout",
     "output_type": "stream",
     "text": [
      "Epoch:  210\n",
      "t_loss:  0.3855359274148941 , v_loss:  0.6992367009321848\n",
      "t_acc:  0.7376485303314572 , v_acc:  0.6875\n",
      "t_recall:  0.5847143499775078 , v_recall:  0.5294523699953981\n",
      "t_prec:  0.7586375929682218 , v_prec:  0.575\n",
      "t_f:  0.5737635853700963 , v_f:  0.5042761304859937\n",
      "////////\n"
     ]
    },
    {
     "name": "stderr",
     "output_type": "stream",
     "text": [
      "\r",
      "Iterations:  71%|███████████████████████▎         | 212/300 [04:16<01:43,  1.18s/it]"
     ]
    },
    {
     "name": "stdout",
     "output_type": "stream",
     "text": [
      "Epoch  211 , loss 0.3801141262054443\n",
      "Epoch  212 , loss 0.38372918844223025\n"
     ]
    },
    {
     "name": "stderr",
     "output_type": "stream",
     "text": [
      "\r",
      "Iterations:  71%|███████████████████████▍         | 213/300 [04:17<01:48,  1.24s/it]"
     ]
    },
    {
     "name": "stdout",
     "output_type": "stream",
     "text": [
      "Epoch:  212\n",
      "t_loss:  0.38372918844223025 , v_loss:  0.693786213795344\n",
      "t_acc:  0.7420262664165104 , v_acc:  0.6875\n",
      "t_recall:  0.5901664417453891 , v_recall:  0.5348212916091425\n",
      "t_prec:  0.7731927778212684 , v_prec:  0.579817158931083\n",
      "t_f:  0.5814031858321713 , v_f:  0.5148112876547541\n",
      "////////\n"
     ]
    },
    {
     "name": "stderr",
     "output_type": "stream",
     "text": [
      "\r",
      "Iterations:  71%|███████████████████████▌         | 214/300 [04:18<01:40,  1.17s/it]"
     ]
    },
    {
     "name": "stdout",
     "output_type": "stream",
     "text": [
      "Epoch  213 , loss 0.3765075743198395\n",
      "Epoch  214 , loss 0.37596821814775466\n"
     ]
    },
    {
     "name": "stderr",
     "output_type": "stream",
     "text": [
      "\r",
      "Iterations:  72%|███████████████████████▋         | 215/300 [04:19<01:45,  1.24s/it]"
     ]
    },
    {
     "name": "stdout",
     "output_type": "stream",
     "text": [
      "Epoch:  214\n",
      "t_loss:  0.37596821814775466 , v_loss:  0.6900463700294495\n",
      "t_acc:  0.7451532207629769 , v_acc:  0.6818181818181818\n",
      "t_recall:  0.5958704453441296 , v_recall:  0.5361251725724805\n",
      "t_prec:  0.7758964989802855 , v_prec:  0.5723502304147465\n",
      "t_f:  0.5900719002408733 , v_f:  0.52090219716119\n",
      "////////\n"
     ]
    },
    {
     "name": "stderr",
     "output_type": "stream",
     "text": [
      "\r",
      "Iterations:  72%|███████████████████████▊         | 216/300 [04:20<01:36,  1.15s/it]"
     ]
    },
    {
     "name": "stdout",
     "output_type": "stream",
     "text": [
      "Epoch  215 , loss 0.3797143393754959\n",
      "Epoch  216 , loss 0.3811544939875603\n"
     ]
    },
    {
     "name": "stderr",
     "output_type": "stream",
     "text": [
      "\r",
      "Iterations:  72%|███████████████████████▊         | 217/300 [04:22<01:45,  1.27s/it]"
     ]
    },
    {
     "name": "stdout",
     "output_type": "stream",
     "text": [
      "Epoch:  216\n",
      "t_loss:  0.3811544939875603 , v_loss:  0.6952652931213379\n",
      "t_acc:  0.7417135709818636 , v_acc:  0.6931818181818182\n",
      "t_recall:  0.5890778227620334 , v_recall:  0.5388863322595491\n",
      "t_prec:  0.7751230126667779 , v_prec:  0.5937846836847946\n",
      "t_f:  0.5795727142158661 , v_f:  0.5185410334346505\n",
      "////////\n"
     ]
    },
    {
     "name": "stderr",
     "output_type": "stream",
     "text": [
      "\r",
      "Iterations:  73%|███████████████████████▉         | 218/300 [04:23<01:41,  1.24s/it]"
     ]
    },
    {
     "name": "stdout",
     "output_type": "stream",
     "text": [
      "Epoch  217 , loss 0.38383251875638963\n",
      "Epoch  218 , loss 0.37853146582841873\n"
     ]
    },
    {
     "name": "stderr",
     "output_type": "stream",
     "text": [
      "\r",
      "Iterations:  73%|████████████████████████         | 219/300 [04:25<01:47,  1.33s/it]"
     ]
    },
    {
     "name": "stdout",
     "output_type": "stream",
     "text": [
      "Epoch:  218\n",
      "t_loss:  0.37853146582841873 , v_loss:  0.6923074424266815\n",
      "t_acc:  0.7442151344590369 , v_acc:  0.6875\n",
      "t_recall:  0.592604588394062 , v_recall:  0.540190213222887\n",
      "t_prec:  0.7816490022269402 , v_prec:  0.583974358974359\n",
      "t_f:  0.5846937868319448 , v_f:  0.5247213629891491\n",
      "////////\n"
     ]
    },
    {
     "name": "stderr",
     "output_type": "stream",
     "text": [
      "\r",
      "Iterations:  73%|████████████████████████▏        | 220/300 [04:25<01:35,  1.19s/it]"
     ]
    },
    {
     "name": "stdout",
     "output_type": "stream",
     "text": [
      "Epoch  219 , loss 0.38156923949718474\n",
      "Epoch  220 , loss 0.3784600055217743\n"
     ]
    },
    {
     "name": "stderr",
     "output_type": "stream",
     "text": [
      "\r",
      "Iterations:  74%|████████████████████████▎        | 221/300 [04:27<01:38,  1.24s/it]"
     ]
    },
    {
     "name": "stdout",
     "output_type": "stream",
     "text": [
      "Epoch:  220\n",
      "t_loss:  0.3784600055217743 , v_loss:  0.6983471016089121\n",
      "t_acc:  0.7392120075046904 , v_acc:  0.6931818181818182\n",
      "t_recall:  0.5875663517768781 , v_recall:  0.5442552538732934\n",
      "t_prec:  0.7603845262087785 , v_prec:  0.596714716728126\n",
      "t_f:  0.5781608533666697 , v_f:  0.5285714285714286\n",
      "////////\n"
     ]
    },
    {
     "name": "stderr",
     "output_type": "stream",
     "text": [
      "\r",
      "Iterations:  74%|████████████████████████▍        | 222/300 [04:28<01:28,  1.14s/it]"
     ]
    },
    {
     "name": "stdout",
     "output_type": "stream",
     "text": [
      "Epoch  221 , loss 0.3773396623134613\n",
      "Epoch  222 , loss 0.37820622205734256\n"
     ]
    },
    {
     "name": "stderr",
     "output_type": "stream",
     "text": [
      "\r",
      "Iterations:  74%|████████████████████████▌        | 223/300 [04:29<01:36,  1.25s/it]"
     ]
    },
    {
     "name": "stdout",
     "output_type": "stream",
     "text": [
      "Epoch:  222\n",
      "t_loss:  0.37820622205734256 , v_loss:  0.6962620218594869\n",
      "t_acc:  0.7420262664165104 , v_acc:  0.6875\n",
      "t_recall:  0.5918938371569951 , v_recall:  0.540190213222887\n",
      "t_prec:  0.7663538278842863 , v_prec:  0.583974358974359\n",
      "t_f:  0.5845277101994365 , v_f:  0.5247213629891491\n",
      "////////\n"
     ]
    },
    {
     "name": "stderr",
     "output_type": "stream",
     "text": [
      "\r",
      "Iterations:  75%|████████████████████████▋        | 224/300 [04:30<01:28,  1.17s/it]"
     ]
    },
    {
     "name": "stdout",
     "output_type": "stream",
     "text": [
      "Epoch  223 , loss 0.38082231521606447\n",
      "Epoch  224 , loss 0.37775984048843386\n"
     ]
    },
    {
     "name": "stderr",
     "output_type": "stream",
     "text": [
      "\r",
      "Iterations:  75%|████████████████████████▊        | 225/300 [04:32<01:32,  1.23s/it]"
     ]
    },
    {
     "name": "stdout",
     "output_type": "stream",
     "text": [
      "Epoch:  224\n",
      "t_loss:  0.37775984048843386 , v_loss:  0.697557806968689\n",
      "t_acc:  0.7407754846779238 , v_acc:  0.6875\n",
      "t_recall:  0.5904183535762483 , v_recall:  0.540190213222887\n",
      "t_prec:  0.762077146097227 , v_prec:  0.583974358974359\n",
      "t_f:  0.5825132990973731 , v_f:  0.5247213629891491\n",
      "////////\n"
     ]
    },
    {
     "name": "stderr",
     "output_type": "stream",
     "text": [
      "\r",
      "Iterations:  75%|████████████████████████▊        | 226/300 [04:32<01:25,  1.15s/it]"
     ]
    },
    {
     "name": "stdout",
     "output_type": "stream",
     "text": [
      "Epoch  225 , loss 0.3763778567314148\n",
      "Epoch  226 , loss 0.37506613582372667\n"
     ]
    },
    {
     "name": "stderr",
     "output_type": "stream",
     "text": [
      "\r",
      "Iterations:  76%|████████████████████████▉        | 227/300 [04:34<01:28,  1.21s/it]"
     ]
    },
    {
     "name": "stdout",
     "output_type": "stream",
     "text": [
      "Epoch:  226\n",
      "t_loss:  0.37506613582372667 , v_loss:  0.6979981561501821\n",
      "t_acc:  0.7448405253283302 , v_acc:  0.6988636363636364\n",
      "t_recall:  0.597948717948718 , v_recall:  0.5483202945237\n",
      "t_prec:  0.7658608058608058 , v_prec:  0.610759493670886\n",
      "t_f:  0.5938228438228439 , v_f:  0.5324545135582176\n",
      "////////\n"
     ]
    },
    {
     "name": "stderr",
     "output_type": "stream",
     "text": [
      "\r",
      "Iterations:  76%|█████████████████████████        | 228/300 [04:35<01:20,  1.12s/it]"
     ]
    },
    {
     "name": "stdout",
     "output_type": "stream",
     "text": [
      "Epoch  227 , loss 0.38136948347091676\n",
      "Epoch  228 , loss 0.3764561069011688\n"
     ]
    },
    {
     "name": "stderr",
     "output_type": "stream",
     "text": [
      "\r",
      "Iterations:  76%|█████████████████████████▏       | 229/300 [04:36<01:28,  1.24s/it]"
     ]
    },
    {
     "name": "stdout",
     "output_type": "stream",
     "text": [
      "Epoch:  228\n",
      "t_loss:  0.3764561069011688 , v_loss:  0.7004991074403127\n",
      "t_acc:  0.7498436522826767 , v_acc:  0.6988636363636364\n",
      "t_recall:  0.6032748538011696 , v_recall:  0.5483202945237\n",
      "t_prec:  0.7840972406431772 , v_prec:  0.610759493670886\n",
      "t_f:  0.6008168400870764 , v_f:  0.5324545135582176\n",
      "////////\n"
     ]
    },
    {
     "name": "stderr",
     "output_type": "stream",
     "text": [
      "\r",
      "Iterations:  77%|█████████████████████████▎       | 230/300 [04:37<01:22,  1.18s/it]"
     ]
    },
    {
     "name": "stdout",
     "output_type": "stream",
     "text": [
      "Epoch  229 , loss 0.3784659069776535\n",
      "Epoch  230 , loss 0.380442915558815\n"
     ]
    },
    {
     "name": "stderr",
     "output_type": "stream",
     "text": [
      "\r",
      "Iterations:  77%|█████████████████████████▍       | 231/300 [04:39<01:26,  1.26s/it]"
     ]
    },
    {
     "name": "stdout",
     "output_type": "stream",
     "text": [
      "Epoch:  230\n",
      "t_loss:  0.380442915558815 , v_loss:  0.7024824420611063\n",
      "t_acc:  0.7460913070669168 , v_acc:  0.7045454545454546\n",
      "t_recall:  0.5994242015294646 , v_recall:  0.5523853351741065\n",
      "t_prec:  0.7698656898656899 , v_prec:  0.6263411024787273\n",
      "t_f:  0.5958139083139082 , v_f:  0.5363728470111448\n",
      "////////\n"
     ]
    },
    {
     "name": "stderr",
     "output_type": "stream",
     "text": [
      "\r",
      "Iterations:  77%|█████████████████████████▌       | 232/300 [04:40<01:17,  1.14s/it]"
     ]
    },
    {
     "name": "stdout",
     "output_type": "stream",
     "text": [
      "Epoch  231 , loss 0.37272401034832003\n",
      "Epoch  232 , loss 0.37381000876426695\n"
     ]
    },
    {
     "name": "stderr",
     "output_type": "stream",
     "text": [
      "\r",
      "Iterations:  78%|█████████████████████████▋       | 233/300 [04:41<01:22,  1.23s/it]"
     ]
    },
    {
     "name": "stdout",
     "output_type": "stream",
     "text": [
      "Epoch:  232\n",
      "t_loss:  0.37381000876426695 , v_loss:  0.6961561739444733\n",
      "t_acc:  0.7485928705440901 , v_acc:  0.6761363636363636\n",
      "t_recall:  0.6026630679262258 , v_recall:  0.5320601319220739\n",
      "t_prec:  0.7768195813765434 , v_prec:  0.5616883116883117\n",
      "t_f:  0.600281072677808 , v_f:  0.5171119133574007\n",
      "////////\n"
     ]
    },
    {
     "name": "stderr",
     "output_type": "stream",
     "text": [
      "\r",
      "Iterations:  78%|█████████████████████████▋       | 234/300 [04:42<01:14,  1.12s/it]"
     ]
    },
    {
     "name": "stdout",
     "output_type": "stream",
     "text": [
      "Epoch  233 , loss 0.37650115370750425\n",
      "Epoch  234 , loss 0.37364194869995115\n"
     ]
    },
    {
     "name": "stderr",
     "output_type": "stream",
     "text": [
      "\r",
      "Iterations:  78%|█████████████████████████▊       | 235/300 [04:43<01:20,  1.24s/it]"
     ]
    },
    {
     "name": "stdout",
     "output_type": "stream",
     "text": [
      "Epoch:  234\n",
      "t_loss:  0.37364194869995115 , v_loss:  0.6954700648784637\n",
      "t_acc:  0.7464040025015635 , v_acc:  0.6818181818181818\n",
      "t_recall:  0.6002249212775529 , v_recall:  0.5414940941862249\n",
      "t_prec:  0.7693583906198851 , v_prec:  0.5768684285308326\n",
      "t_f:  0.5970449296539445 , v_f:  0.5301296720061022\n",
      "////////\n"
     ]
    },
    {
     "name": "stderr",
     "output_type": "stream",
     "text": [
      "\r",
      "Iterations:  79%|█████████████████████████▉       | 236/300 [04:44<01:15,  1.18s/it]"
     ]
    },
    {
     "name": "stdout",
     "output_type": "stream",
     "text": [
      "Epoch  235 , loss 0.3766690915822983\n",
      "Epoch  236 , loss 0.3739292800426483\n"
     ]
    },
    {
     "name": "stderr",
     "output_type": "stream",
     "text": [
      "\r",
      "Iterations:  79%|██████████████████████████       | 237/300 [04:46<01:17,  1.23s/it]"
     ]
    },
    {
     "name": "stdout",
     "output_type": "stream",
     "text": [
      "Epoch:  236\n",
      "t_loss:  0.3739292800426483 , v_loss:  0.7065845231215159\n",
      "t_acc:  0.7495309568480301 , v_acc:  0.6931818181818182\n",
      "t_recall:  0.6047773279352227 , v_recall:  0.5442552538732934\n",
      "t_prec:  0.7761688993958498 , v_prec:  0.596714716728126\n",
      "t_f:  0.6034507981224582 , v_f:  0.5285714285714286\n",
      "////////\n"
     ]
    },
    {
     "name": "stderr",
     "output_type": "stream",
     "text": [
      "\r",
      "Iterations:  79%|██████████████████████████▏      | 238/300 [04:47<01:10,  1.14s/it]"
     ]
    },
    {
     "name": "stdout",
     "output_type": "stream",
     "text": [
      "Epoch  237 , loss 0.37731980204582216\n",
      "Epoch  238 , loss 0.37187824249267576\n"
     ]
    },
    {
     "name": "stderr",
     "output_type": "stream",
     "text": [
      "\r",
      "Iterations:  80%|██████████████████████████▎      | 239/300 [04:48<01:14,  1.22s/it]"
     ]
    },
    {
     "name": "stdout",
     "output_type": "stream",
     "text": [
      "Epoch:  238\n",
      "t_loss:  0.37187824249267576 , v_loss:  0.7053068280220032\n",
      "t_acc:  0.7482801751094434 , v_acc:  0.6875\n",
      "t_recall:  0.602438146648673 , v_recall:  0.540190213222887\n",
      "t_prec:  0.7753065202511681 , v_prec:  0.583974358974359\n",
      "t_f:  0.6000261015677254 , v_f:  0.5247213629891491\n",
      "////////\n"
     ]
    },
    {
     "name": "stderr",
     "output_type": "stream",
     "text": [
      "\r",
      "Iterations:  80%|██████████████████████████▍      | 240/300 [04:49<01:08,  1.14s/it]"
     ]
    },
    {
     "name": "stdout",
     "output_type": "stream",
     "text": [
      "Epoch  239 , loss 0.37470067501068116\n",
      "Epoch  240 , loss 0.37729932099580765\n"
     ]
    },
    {
     "name": "stderr",
     "output_type": "stream",
     "text": [
      "\r",
      "Iterations:  80%|██████████████████████████▌      | 241/300 [04:51<01:15,  1.27s/it]"
     ]
    },
    {
     "name": "stdout",
     "output_type": "stream",
     "text": [
      "Epoch:  240\n",
      "t_loss:  0.37729932099580765 , v_loss:  0.7059682309627533\n",
      "t_acc:  0.7507817385866167 , v_acc:  0.6931818181818182\n",
      "t_recall:  0.6045254161043635 , v_recall:  0.5442552538732934\n",
      "t_prec:  0.7865702792956891 , v_prec:  0.596714716728126\n",
      "t_f:  0.6025560600000468 , v_f:  0.5285714285714286\n",
      "////////\n"
     ]
    },
    {
     "name": "stderr",
     "output_type": "stream",
     "text": [
      "\r",
      "Iterations:  81%|██████████████████████████▌      | 242/300 [04:52<01:09,  1.19s/it]"
     ]
    },
    {
     "name": "stdout",
     "output_type": "stream",
     "text": [
      "Epoch  241 , loss 0.37761829793453217\n",
      "Epoch  242 , loss 0.3747860786318779\n"
     ]
    },
    {
     "name": "stderr",
     "output_type": "stream",
     "text": [
      "\r",
      "Iterations:  81%|██████████████████████████▋      | 243/300 [04:53<01:12,  1.28s/it]"
     ]
    },
    {
     "name": "stdout",
     "output_type": "stream",
     "text": [
      "Epoch:  242\n",
      "t_loss:  0.3747860786318779 , v_loss:  0.7126555244127909\n",
      "t_acc:  0.7529706066291432 , v_acc:  0.7045454545454546\n",
      "t_recall:  0.609842555105713 , v_recall:  0.5523853351741065\n",
      "t_prec:  0.7831868880850623 , v_prec:  0.6263411024787273\n",
      "t_f:  0.6105319563522993 , v_f:  0.5363728470111448\n",
      "////////\n"
     ]
    },
    {
     "name": "stderr",
     "output_type": "stream",
     "text": [
      "\r",
      "Iterations:  81%|██████████████████████████▊      | 244/300 [04:54<01:04,  1.16s/it]"
     ]
    },
    {
     "name": "stdout",
     "output_type": "stream",
     "text": [
      "Epoch  243 , loss 0.3755737406015396\n",
      "Epoch  244 , loss 0.36995560586452486\n"
     ]
    },
    {
     "name": "stderr",
     "output_type": "stream",
     "text": [
      "\r",
      "Iterations:  82%|██████████████████████████▉      | 245/300 [04:55<01:07,  1.23s/it]"
     ]
    },
    {
     "name": "stdout",
     "output_type": "stream",
     "text": [
      "Epoch:  244\n",
      "t_loss:  0.36995560586452486 , v_loss:  0.7126415073871613\n",
      "t_acc:  0.7510944340212633 , v_acc:  0.6931818181818182\n",
      "t_recall:  0.60676563202879 , v_recall:  0.5496241754870379\n",
      "t_prec:  0.7805114280345963 , v_prec:  0.5993855606758832\n",
      "t_f:  0.6061627537825646 , v_f:  0.5380128329768616\n",
      "////////\n"
     ]
    },
    {
     "name": "stderr",
     "output_type": "stream",
     "text": [
      "\r",
      "Iterations:  82%|███████████████████████████      | 246/300 [04:56<01:00,  1.12s/it]"
     ]
    },
    {
     "name": "stdout",
     "output_type": "stream",
     "text": [
      "Epoch  245 , loss 0.3680882328748703\n",
      "Epoch  246 , loss 0.37250223696231843\n"
     ]
    },
    {
     "name": "stderr",
     "output_type": "stream",
     "text": [
      "\r",
      "Iterations:  82%|███████████████████████████▏     | 247/300 [04:58<01:06,  1.25s/it]"
     ]
    },
    {
     "name": "stdout",
     "output_type": "stream",
     "text": [
      "Epoch:  246\n",
      "t_loss:  0.37250223696231843 , v_loss:  0.7089019517103831\n",
      "t_acc:  0.7564102564102564 , v_acc:  0.6931818181818182\n",
      "t_recall:  0.6166351776878093 , v_recall:  0.5496241754870379\n",
      "t_prec:  0.7840044039005978 , v_prec:  0.5993855606758832\n",
      "t_f:  0.6202362842929833 , v_f:  0.5380128329768616\n",
      "////////\n"
     ]
    },
    {
     "name": "stderr",
     "output_type": "stream",
     "text": [
      "\r",
      "Iterations:  83%|███████████████████████████▎     | 248/300 [04:59<01:00,  1.16s/it]"
     ]
    },
    {
     "name": "stdout",
     "output_type": "stream",
     "text": [
      "Epoch  247 , loss 0.3748304200172424\n",
      "Epoch  248 , loss 0.37120692610740663\n"
     ]
    },
    {
     "name": "stderr",
     "output_type": "stream",
     "text": [
      "\r",
      "Iterations:  83%|███████████████████████████▍     | 249/300 [05:00<01:02,  1.22s/it]"
     ]
    },
    {
     "name": "stdout",
     "output_type": "stream",
     "text": [
      "Epoch:  248\n",
      "t_loss:  0.37120692610740663 , v_loss:  0.7136790156364441\n",
      "t_acc:  0.7548467792370231 , v_acc:  0.6988636363636364\n",
      "t_recall:  0.6157984705353126 , v_recall:  0.5536892161374444\n",
      "t_prec:  0.7763705135193169 , v_prec:  0.6121794871794872\n",
      "t_f:  0.6193516064092404 , v_f:  0.5420042225168165\n",
      "////////\n"
     ]
    },
    {
     "name": "stderr",
     "output_type": "stream",
     "text": [
      "\r",
      "Iterations:  83%|███████████████████████████▌     | 250/300 [05:01<00:57,  1.15s/it]"
     ]
    },
    {
     "name": "stdout",
     "output_type": "stream",
     "text": [
      "Epoch  249 , loss 0.37379832327365875\n",
      "Epoch  250 , loss 0.36901565492153166\n"
     ]
    },
    {
     "name": "stderr",
     "output_type": "stream",
     "text": [
      "\r",
      "Iterations:  84%|███████████████████████████▌     | 251/300 [05:03<00:58,  1.20s/it]"
     ]
    },
    {
     "name": "stdout",
     "output_type": "stream",
     "text": [
      "Epoch:  250\n",
      "t_loss:  0.36901565492153166 , v_loss:  0.7162623206774393\n",
      "t_acc:  0.758599124452783 , v_acc:  0.6988636363636364\n",
      "t_recall:  0.6176338281601439 , v_recall:  0.5536892161374444\n",
      "t_prec:  0.7959185094655623 , v_prec:  0.6121794871794872\n",
      "t_f:  0.6212091084500612 , v_f:  0.5420042225168165\n",
      "////////\n"
     ]
    },
    {
     "name": "stderr",
     "output_type": "stream",
     "text": [
      "\r",
      "Iterations:  84%|███████████████████████████▋     | 252/300 [05:03<00:53,  1.12s/it]"
     ]
    },
    {
     "name": "stdout",
     "output_type": "stream",
     "text": [
      "Epoch  251 , loss 0.3706448483467102\n",
      "Epoch  252 , loss 0.3761358943581581\n"
     ]
    },
    {
     "name": "stderr",
     "output_type": "stream",
     "text": [
      "\r",
      "Iterations:  84%|███████████████████████████▊     | 253/300 [05:05<00:59,  1.26s/it]"
     ]
    },
    {
     "name": "stdout",
     "output_type": "stream",
     "text": [
      "Epoch:  252\n",
      "t_loss:  0.3761358943581581 , v_loss:  0.7173684537410736\n",
      "t_acc:  0.7495309568480301 , v_acc:  0.6988636363636364\n",
      "t_recall:  0.6065047233468286 , v_recall:  0.5536892161374444\n",
      "t_prec:  0.7703765390453703 , v_prec:  0.6121794871794872\n",
      "t_f:  0.6062813058941192 , v_f:  0.5420042225168165\n",
      "////////\n"
     ]
    },
    {
     "name": "stderr",
     "output_type": "stream",
     "text": [
      "\r",
      "Iterations:  85%|███████████████████████████▉     | 254/300 [05:06<00:54,  1.18s/it]"
     ]
    },
    {
     "name": "stdout",
     "output_type": "stream",
     "text": [
      "Epoch  253 , loss 0.36977498352527616\n",
      "Epoch  254 , loss 0.37088661432266234\n"
     ]
    },
    {
     "name": "stderr",
     "output_type": "stream",
     "text": [
      "\r",
      "Iterations:  85%|████████████████████████████     | 255/300 [05:07<00:56,  1.25s/it]"
     ]
    },
    {
     "name": "stdout",
     "output_type": "stream",
     "text": [
      "Epoch:  254\n",
      "t_loss:  0.37088661432266234 , v_loss:  0.7151729067166647\n",
      "t_acc:  0.7589118198874296 , v_acc:  0.6931818181818182\n",
      "t_recall:  0.6190103463787674 , v_recall:  0.5496241754870379\n",
      "t_prec:  0.7931950860218965 , v_prec:  0.5993855606758832\n",
      "t_f:  0.623255538919388 , v_f:  0.5380128329768616\n",
      "////////\n"
     ]
    },
    {
     "name": "stderr",
     "output_type": "stream",
     "text": [
      "\r",
      "Iterations:  85%|████████████████████████████▏    | 256/300 [05:08<00:49,  1.13s/it]"
     ]
    },
    {
     "name": "stdout",
     "output_type": "stream",
     "text": [
      "Epoch  255 , loss 0.36942687720060347\n",
      "Epoch  256 , loss 0.3725979435443878\n"
     ]
    },
    {
     "name": "stderr",
     "output_type": "stream",
     "text": [
      "\r",
      "Iterations:  86%|████████████████████████████▎    | 257/300 [05:10<00:53,  1.24s/it]"
     ]
    },
    {
     "name": "stdout",
     "output_type": "stream",
     "text": [
      "Epoch:  256\n",
      "t_loss:  0.3725979435443878 , v_loss:  0.7170172135035197\n",
      "t_acc:  0.7479674796747967 , v_acc:  0.6875\n",
      "t_recall:  0.6042285200179937 , v_recall:  0.5455591348366314\n",
      "t_prec:  0.7670500285482251 , v_prec:  0.5876623376623377\n",
      "t_f:  0.6031170606875271 , v_f:  0.5340553549939832\n",
      "////////\n"
     ]
    },
    {
     "name": "stderr",
     "output_type": "stream",
     "text": [
      "\r",
      "Iterations:  86%|████████████████████████████▍    | 258/300 [05:11<00:47,  1.13s/it]"
     ]
    },
    {
     "name": "stdout",
     "output_type": "stream",
     "text": [
      "Epoch  257 , loss 0.3702806383371353\n",
      "Epoch  258 , loss 0.3699857905507088\n"
     ]
    },
    {
     "name": "stderr",
     "output_type": "stream",
     "text": [
      "\r",
      "Iterations:  86%|████████████████████████████▍    | 259/300 [05:12<00:50,  1.22s/it]"
     ]
    },
    {
     "name": "stdout",
     "output_type": "stream",
     "text": [
      "Epoch:  258\n",
      "t_loss:  0.3699857905507088 , v_loss:  0.7086267471313477\n",
      "t_acc:  0.7554721701063164 , v_acc:  0.6818181818181818\n",
      "t_recall:  0.6171120107962214 , v_recall:  0.5414940941862249\n",
      "t_prec:  0.7763841720555618 , v_prec:  0.5768684285308326\n",
      "t_f:  0.621199553831361 , v_f:  0.5301296720061022\n",
      "////////\n"
     ]
    },
    {
     "name": "stderr",
     "output_type": "stream",
     "text": [
      "\r",
      "Iterations:  87%|████████████████████████████▌    | 260/300 [05:13<00:46,  1.17s/it]"
     ]
    },
    {
     "name": "stdout",
     "output_type": "stream",
     "text": [
      "Epoch  259 , loss 0.370921111702919\n",
      "Epoch  260 , loss 0.37227064490318296\n"
     ]
    },
    {
     "name": "stderr",
     "output_type": "stream",
     "text": [
      "\r",
      "Iterations:  87%|████████████████████████████▋    | 261/300 [05:15<00:48,  1.23s/it]"
     ]
    },
    {
     "name": "stdout",
     "output_type": "stream",
     "text": [
      "Epoch:  260\n",
      "t_loss:  0.37227064490318296 , v_loss:  0.7150013546148936\n",
      "t_acc:  0.7520325203252033 , v_acc:  0.6931818181818182\n",
      "t_recall:  0.6100314889788574 , v_recall:  0.5496241754870379\n",
      "t_prec:  0.7759604258273547 , v_prec:  0.5993855606758832\n",
      "t_f:  0.6111349720673475 , v_f:  0.5380128329768616\n",
      "////////\n"
     ]
    },
    {
     "name": "stderr",
     "output_type": "stream",
     "text": [
      "\r",
      "Iterations:  87%|████████████████████████████▊    | 262/300 [05:15<00:42,  1.12s/it]"
     ]
    },
    {
     "name": "stdout",
     "output_type": "stream",
     "text": [
      "Epoch  261 , loss 0.3680457454919815\n",
      "Epoch  262 , loss 0.3692909702658653\n"
     ]
    },
    {
     "name": "stderr",
     "output_type": "stream",
     "text": [
      "\r",
      "Iterations:  88%|████████████████████████████▉    | 263/300 [05:17<00:44,  1.20s/it]"
     ]
    },
    {
     "name": "stdout",
     "output_type": "stream",
     "text": [
      "Epoch:  262\n",
      "t_loss:  0.3692909702658653 , v_loss:  0.7166348397731781\n",
      "t_acc:  0.7545340838023765 , v_acc:  0.6931818181818182\n",
      "t_recall:  0.6135582546108862 , v_recall:  0.5496241754870379\n",
      "t_prec:  0.7814215085434122 , v_prec:  0.5993855606758832\n",
      "t_f:  0.6159638657890522 , v_f:  0.5380128329768616\n",
      "////////\n"
     ]
    },
    {
     "name": "stderr",
     "output_type": "stream",
     "text": [
      "\r",
      "Iterations:  88%|█████████████████████████████    | 264/300 [05:18<00:41,  1.14s/it]"
     ]
    },
    {
     "name": "stdout",
     "output_type": "stream",
     "text": [
      "Epoch  263 , loss 0.37072106182575226\n",
      "Epoch  264 , loss 0.36582857817411424\n"
     ]
    },
    {
     "name": "stderr",
     "output_type": "stream",
     "text": [
      "\r",
      "Iterations:  88%|█████████████████████████████▏   | 265/300 [05:19<00:45,  1.29s/it]"
     ]
    },
    {
     "name": "stdout",
     "output_type": "stream",
     "text": [
      "Epoch:  264\n",
      "t_loss:  0.36582857817411424 , v_loss:  0.7188385725021362\n",
      "t_acc:  0.7548467792370231 , v_acc:  0.6931818181818182\n",
      "t_recall:  0.612919478182636 , v_recall:  0.5496241754870379\n",
      "t_prec:  0.7857879341651244 , v_prec:  0.5993855606758832\n",
      "t_f:  0.6148656993373292 , v_f:  0.5380128329768616\n",
      "////////\n"
     ]
    },
    {
     "name": "stderr",
     "output_type": "stream",
     "text": [
      "\r",
      "Iterations:  89%|█████████████████████████████▎   | 266/300 [05:20<00:40,  1.18s/it]"
     ]
    },
    {
     "name": "stdout",
     "output_type": "stream",
     "text": [
      "Epoch  265 , loss 0.3682579559087753\n",
      "Epoch  266 , loss 0.36522226959466936\n"
     ]
    },
    {
     "name": "stderr",
     "output_type": "stream",
     "text": [
      "\r",
      "Iterations:  89%|█████████████████████████████▎   | 267/300 [05:22<00:41,  1.25s/it]"
     ]
    },
    {
     "name": "stdout",
     "output_type": "stream",
     "text": [
      "Epoch:  266\n",
      "t_loss:  0.36522226959466936 , v_loss:  0.7143735984961191\n",
      "t_acc:  0.7573483427141964 , v_acc:  0.6875\n",
      "t_recall:  0.6196131354026091 , v_recall:  0.5455591348366314\n",
      "t_prec:  0.7807230402905414 , v_prec:  0.5876623376623377\n",
      "t_f:  0.6245388525780683 , v_f:  0.5340553549939832\n",
      "////////\n"
     ]
    },
    {
     "name": "stderr",
     "output_type": "stream",
     "text": [
      "\r",
      "Iterations:  89%|█████████████████████████████▍   | 268/300 [05:23<00:36,  1.14s/it]"
     ]
    },
    {
     "name": "stdout",
     "output_type": "stream",
     "text": [
      "Epoch  267 , loss 0.36675282299518586\n",
      "Epoch  268 , loss 0.3667046645283699\n"
     ]
    },
    {
     "name": "stderr",
     "output_type": "stream",
     "text": [
      "\r",
      "Iterations:  90%|█████████████████████████████▌   | 269/300 [05:24<00:38,  1.26s/it]"
     ]
    },
    {
     "name": "stdout",
     "output_type": "stream",
     "text": [
      "Epoch:  268\n",
      "t_loss:  0.3667046645283699 , v_loss:  0.7200252612431844\n",
      "t_acc:  0.7542213883677298 , v_acc:  0.6931818181818182\n",
      "t_recall:  0.6141970310391363 , v_recall:  0.5496241754870379\n",
      "t_prec:  0.7772636078597426 , v_prec:  0.5993855606758832\n",
      "t_f:  0.6170472993725593 , v_f:  0.5380128329768616\n",
      "////////\n"
     ]
    },
    {
     "name": "stderr",
     "output_type": "stream",
     "text": [
      "\r",
      "Iterations:  90%|█████████████████████████████▋   | 270/300 [05:25<00:34,  1.15s/it]"
     ]
    },
    {
     "name": "stdout",
     "output_type": "stream",
     "text": [
      "Epoch  269 , loss 0.368596972823143\n",
      "Epoch  270 , loss 0.3647211164236069\n"
     ]
    },
    {
     "name": "stderr",
     "output_type": "stream",
     "text": [
      "\r",
      "Iterations:  90%|█████████████████████████████▊   | 271/300 [05:27<00:36,  1.25s/it]"
     ]
    },
    {
     "name": "stdout",
     "output_type": "stream",
     "text": [
      "Epoch:  270\n",
      "t_loss:  0.3647211164236069 , v_loss:  0.7209561765193939\n",
      "t_acc:  0.7564102564102564 , v_acc:  0.6931818181818182\n",
      "t_recall:  0.6183625730994152 , v_recall:  0.5496241754870379\n",
      "t_prec:  0.7785593293954135 , v_prec:  0.5993855606758832\n",
      "t_f:  0.6228702222821023 , v_f:  0.5380128329768616\n",
      "////////\n"
     ]
    },
    {
     "name": "stderr",
     "output_type": "stream",
     "text": [
      "\r",
      "Iterations:  91%|█████████████████████████████▉   | 272/300 [05:28<00:33,  1.19s/it]"
     ]
    },
    {
     "name": "stdout",
     "output_type": "stream",
     "text": [
      "Epoch  271 , loss 0.3694257164001465\n",
      "Epoch  272 , loss 0.3618667995929718\n"
     ]
    },
    {
     "name": "stderr",
     "output_type": "stream",
     "text": [
      "\r",
      "Iterations:  91%|██████████████████████████████   | 273/300 [05:29<00:33,  1.25s/it]"
     ]
    },
    {
     "name": "stdout",
     "output_type": "stream",
     "text": [
      "Epoch:  272\n",
      "t_loss:  0.3618667995929718 , v_loss:  0.7234519819418589\n",
      "t_acc:  0.7570356472795498 , v_acc:  0.6931818181818182\n",
      "t_recall:  0.617948717948718 , v_recall:  0.5496241754870379\n",
      "t_prec:  0.7839137214137214 , v_prec:  0.5993855606758832\n",
      "t_f:  0.6220929198028434 , v_f:  0.5380128329768616\n",
      "////////\n"
     ]
    },
    {
     "name": "stderr",
     "output_type": "stream",
     "text": [
      "\r",
      "Iterations:  91%|██████████████████████████████▏  | 274/300 [05:30<00:30,  1.17s/it]"
     ]
    },
    {
     "name": "stdout",
     "output_type": "stream",
     "text": [
      "Epoch  273 , loss 0.36062042534351346\n",
      "Epoch  274 , loss 0.36347486555576325\n"
     ]
    },
    {
     "name": "stderr",
     "output_type": "stream",
     "text": [
      "\r",
      "Iterations:  92%|██████████████████████████████▎  | 275/300 [05:31<00:30,  1.23s/it]"
     ]
    },
    {
     "name": "stdout",
     "output_type": "stream",
     "text": [
      "Epoch:  274\n",
      "t_loss:  0.36347486555576325 , v_loss:  0.7267923851807913\n",
      "t_acc:  0.760475297060663 , v_acc:  0.6875\n",
      "t_recall:  0.6238776428250112 , v_recall:  0.5455591348366314\n",
      "t_prec:  0.7875530804037592 , v_prec:  0.5876623376623377\n",
      "t_f:  0.6302276295133438 , v_f:  0.5340553549939832\n",
      "////////\n"
     ]
    },
    {
     "name": "stderr",
     "output_type": "stream",
     "text": [
      "\r",
      "Iterations:  92%|██████████████████████████████▎  | 276/300 [05:32<00:27,  1.13s/it]"
     ]
    },
    {
     "name": "stdout",
     "output_type": "stream",
     "text": [
      "Epoch  275 , loss 0.36429477512836456\n",
      "Epoch  276 , loss 0.36701577007770536\n"
     ]
    },
    {
     "name": "stderr",
     "output_type": "stream",
     "text": [
      "\r",
      "Iterations:  92%|██████████████████████████████▍  | 277/300 [05:34<00:28,  1.25s/it]"
     ]
    },
    {
     "name": "stdout",
     "output_type": "stream",
     "text": [
      "Epoch:  276\n",
      "t_loss:  0.36701577007770536 , v_loss:  0.7269207040468851\n",
      "t_acc:  0.758599124452783 , v_acc:  0.6875\n",
      "t_recall:  0.6216644174538911 , v_recall:  0.5455591348366314\n",
      "t_prec:  0.7824155934563175 , v_prec:  0.5876623376623377\n",
      "t_f:  0.627331240188383 , v_f:  0.5340553549939832\n",
      "////////\n"
     ]
    },
    {
     "name": "stderr",
     "output_type": "stream",
     "text": [
      "\r",
      "Iterations:  93%|██████████████████████████████▌  | 278/300 [05:35<00:25,  1.16s/it]"
     ]
    },
    {
     "name": "stdout",
     "output_type": "stream",
     "text": [
      "Epoch  277 , loss 0.36183871448040006\n",
      "Epoch  278 , loss 0.3691967648267746\n"
     ]
    },
    {
     "name": "stderr",
     "output_type": "stream",
     "text": [
      "\r",
      "Iterations:  93%|██████████████████████████████▋  | 279/300 [05:36<00:26,  1.26s/it]"
     ]
    },
    {
     "name": "stdout",
     "output_type": "stream",
     "text": [
      "Epoch:  278\n",
      "t_loss:  0.3691967648267746 , v_loss:  0.7335497935612997\n",
      "t_acc:  0.7539086929330832 , v_acc:  0.6818181818181818\n",
      "t_recall:  0.6145479082321188 , v_recall:  0.5414940941862249\n",
      "t_prec:  0.7741614177054162 , v_prec:  0.5768684285308326\n",
      "t_f:  0.6176734863828728 , v_f:  0.5301296720061022\n",
      "////////\n"
     ]
    },
    {
     "name": "stderr",
     "output_type": "stream",
     "text": [
      "\r",
      "Iterations:  93%|██████████████████████████████▊  | 280/300 [05:37<00:22,  1.14s/it]"
     ]
    },
    {
     "name": "stdout",
     "output_type": "stream",
     "text": [
      "Epoch  279 , loss 0.36884919375181197\n",
      "Epoch  280 , loss 0.36530620366334915\n"
     ]
    },
    {
     "name": "stderr",
     "output_type": "stream",
     "text": [
      "\r",
      "Iterations:  94%|██████████████████████████████▉  | 281/300 [05:38<00:23,  1.21s/it]"
     ]
    },
    {
     "name": "stdout",
     "output_type": "stream",
     "text": [
      "Epoch:  280\n",
      "t_loss:  0.36530620366334915 , v_loss:  0.7232995529969534\n",
      "t_acc:  0.7639149468417761 , v_acc:  0.6818181818181818\n",
      "t_recall:  0.6298065677013045 , v_recall:  0.5468630157999693\n",
      "t_prec:  0.7910435718128026 , v_prec:  0.5809271523178808\n",
      "t_f:  0.6382233147572085 , v_f:  0.5388358600037433\n",
      "////////\n"
     ]
    },
    {
     "name": "stderr",
     "output_type": "stream",
     "text": [
      "\r",
      "Iterations:  94%|███████████████████████████████  | 282/300 [05:39<00:19,  1.11s/it]"
     ]
    },
    {
     "name": "stdout",
     "output_type": "stream",
     "text": [
      "Epoch  281 , loss 0.3618783923983574\n",
      "Epoch  282 , loss 0.3656584191322327\n"
     ]
    },
    {
     "name": "stderr",
     "output_type": "stream",
     "text": [
      "\r",
      "Iterations:  94%|███████████████████████████████▏ | 283/300 [05:41<00:21,  1.24s/it]"
     ]
    },
    {
     "name": "stdout",
     "output_type": "stream",
     "text": [
      "Epoch:  282\n",
      "t_loss:  0.3656584191322327 , v_loss:  0.7078151404857635\n",
      "t_acc:  0.7611006879299562 , v_acc:  0.6761363636363636\n",
      "t_recall:  0.6251911830859199 , v_recall:  0.5481668967633072\n",
      "t_prec:  0.7874692367102059 , v_prec:  0.5757722007722008\n",
      "t_f:  0.6320355760750653 , v_f:  0.5429820964876315\n",
      "////////\n"
     ]
    },
    {
     "name": "stderr",
     "output_type": "stream",
     "text": [
      "\r",
      "Iterations:  95%|███████████████████████████████▏ | 284/300 [05:42<00:18,  1.15s/it]"
     ]
    },
    {
     "name": "stdout",
     "output_type": "stream",
     "text": [
      "Epoch  283 , loss 0.3711841255426407\n",
      "Epoch  284 , loss 0.36112064361572266\n"
     ]
    },
    {
     "name": "stderr",
     "output_type": "stream",
     "text": [
      "\r",
      "Iterations:  95%|███████████████████████████████▎ | 285/300 [05:43<00:18,  1.21s/it]"
     ]
    },
    {
     "name": "stdout",
     "output_type": "stream",
     "text": [
      "Epoch:  284\n",
      "t_loss:  0.36112064361572266 , v_loss:  0.7350177466869354\n",
      "t_acc:  0.7676672920575359 , v_acc:  0.6818181818181818\n",
      "t_recall:  0.6356725146198831 , v_recall:  0.5468630157999693\n",
      "t_prec:  0.7964912280701755 , v_prec:  0.5809271523178808\n",
      "t_f:  0.645967960743664 , v_f:  0.5388358600037433\n",
      "////////\n"
     ]
    },
    {
     "name": "stderr",
     "output_type": "stream",
     "text": [
      "\r",
      "Iterations:  95%|███████████████████████████████▍ | 286/300 [05:44<00:15,  1.11s/it]"
     ]
    },
    {
     "name": "stdout",
     "output_type": "stream",
     "text": [
      "Epoch  285 , loss 0.36592335045337676\n",
      "Epoch  286 , loss 0.36843982338905334\n"
     ]
    },
    {
     "name": "stderr",
     "output_type": "stream",
     "text": [
      "\r",
      "Iterations:  96%|███████████████████████████████▌ | 287/300 [05:45<00:15,  1.18s/it]"
     ]
    },
    {
     "name": "stdout",
     "output_type": "stream",
     "text": [
      "Epoch:  286\n",
      "t_loss:  0.36843982338905334 , v_loss:  0.7203790048758189\n",
      "t_acc:  0.7620387742338962 , v_acc:  0.6704545454545454\n",
      "t_recall:  0.6267296446243815 , v_recall:  0.5387329344991563\n",
      "t_prec:  0.7886742363732671 , v_prec:  0.5627641063882675\n",
      "t_f:  0.6341061770718397 , v_f:  0.5308823529411765\n",
      "////////\n"
     ]
    },
    {
     "name": "stderr",
     "output_type": "stream",
     "text": [
      "\r",
      "Iterations:  96%|███████████████████████████████▋ | 288/300 [05:46<00:13,  1.13s/it]"
     ]
    },
    {
     "name": "stdout",
     "output_type": "stream",
     "text": [
      "Epoch  287 , loss 0.36187040686607364\n",
      "Epoch  288 , loss 0.36500476121902464\n"
     ]
    },
    {
     "name": "stderr",
     "output_type": "stream",
     "text": [
      "\r",
      "Iterations:  96%|███████████████████████████████▊ | 289/300 [05:48<00:13,  1.25s/it]"
     ]
    },
    {
     "name": "stdout",
     "output_type": "stream",
     "text": [
      "Epoch:  288\n",
      "t_loss:  0.36500476121902464 , v_loss:  0.7280729015668234\n",
      "t_acc:  0.7645403377110694 , v_acc:  0.6761363636363636\n",
      "t_recall:  0.6314080071974808 , v_recall:  0.5427979751495629\n",
      "t_prec:  0.790103852609964 , v_prec:  0.5715384615384616\n",
      "t_f:  0.6403985148799466 , v_f:  0.5348449019335095\n",
      "////////\n"
     ]
    },
    {
     "name": "stderr",
     "output_type": "stream",
     "text": [
      "\r",
      "Iterations:  97%|███████████████████████████████▉ | 290/300 [05:49<00:11,  1.15s/it]"
     ]
    },
    {
     "name": "stdout",
     "output_type": "stream",
     "text": [
      "Epoch  289 , loss 0.36186147660017015\n",
      "Epoch  290 , loss 0.36226104021072386\n"
     ]
    },
    {
     "name": "stderr",
     "output_type": "stream",
     "text": [
      "\r",
      "Iterations:  97%|████████████████████████████████ | 291/300 [05:50<00:10,  1.22s/it]"
     ]
    },
    {
     "name": "stdout",
     "output_type": "stream",
     "text": [
      "Epoch:  290\n",
      "t_loss:  0.36226104021072386 , v_loss:  0.7312987446784973\n",
      "t_acc:  0.7617260787992496 , v_acc:  0.6818181818181818\n",
      "t_recall:  0.6265047233468286 , v_recall:  0.5468630157999693\n",
      "t_prec:  0.7873968209046742 , v_prec:  0.5809271523178808\n",
      "t_f:  0.6338335208585771 , v_f:  0.5388358600037433\n",
      "////////\n"
     ]
    },
    {
     "name": "stderr",
     "output_type": "stream",
     "text": [
      "\r",
      "Iterations:  97%|████████████████████████████████ | 292/300 [05:51<00:08,  1.11s/it]"
     ]
    },
    {
     "name": "stdout",
     "output_type": "stream",
     "text": [
      "Epoch  291 , loss 0.3603772693872452\n",
      "Epoch  292 , loss 0.3610185071825981\n"
     ]
    },
    {
     "name": "stderr",
     "output_type": "stream",
     "text": [
      "\r",
      "Iterations:  98%|████████████████████████████████▏| 293/300 [05:53<00:08,  1.23s/it]"
     ]
    },
    {
     "name": "stdout",
     "output_type": "stream",
     "text": [
      "Epoch:  292\n",
      "t_loss:  0.3610185071825981 , v_loss:  0.7265432178974152\n",
      "t_acc:  0.7607879924953096 , v_acc:  0.6704545454545454\n",
      "t_recall:  0.6226630679262258 , v_recall:  0.5387329344991563\n",
      "t_prec:  0.7935844147813105 , v_prec:  0.5627641063882675\n",
      "t_f:  0.6283611398766171 , v_f:  0.5308823529411765\n",
      "////////\n"
     ]
    },
    {
     "name": "stderr",
     "output_type": "stream",
     "text": [
      "\r",
      "Iterations:  98%|████████████████████████████████▎| 294/300 [05:53<00:06,  1.12s/it]"
     ]
    },
    {
     "name": "stdout",
     "output_type": "stream",
     "text": [
      "Epoch  293 , loss 0.3589306882023811\n",
      "Epoch  294 , loss 0.3577744150161743\n"
     ]
    },
    {
     "name": "stderr",
     "output_type": "stream",
     "text": [
      "\r",
      "Iterations:  98%|████████████████████████████████▍| 295/300 [05:55<00:05,  1.19s/it]"
     ]
    },
    {
     "name": "stdout",
     "output_type": "stream",
     "text": [
      "Epoch:  294\n",
      "t_loss:  0.3577744150161743 , v_loss:  0.7297486166159312\n",
      "t_acc:  0.7607879924953096 , v_acc:  0.6704545454545454\n",
      "t_recall:  0.6246783625730994 , v_recall:  0.5387329344991563\n",
      "t_prec:  0.7870644599303136 , v_prec:  0.5627641063882675\n",
      "t_f:  0.6313435788877907 , v_f:  0.5308823529411765\n",
      "////////\n"
     ]
    },
    {
     "name": "stderr",
     "output_type": "stream",
     "text": [
      "\r",
      "Iterations:  99%|████████████████████████████████▌| 296/300 [05:56<00:04,  1.12s/it]"
     ]
    },
    {
     "name": "stdout",
     "output_type": "stream",
     "text": [
      "Epoch  295 , loss 0.3614467832446098\n",
      "Epoch  296 , loss 0.3655585387349129\n"
     ]
    },
    {
     "name": "stderr",
     "output_type": "stream",
     "text": [
      "\r",
      "Iterations:  99%|████████████████████████████████▋| 297/300 [05:57<00:03,  1.20s/it]"
     ]
    },
    {
     "name": "stdout",
     "output_type": "stream",
     "text": [
      "Epoch:  296\n",
      "t_loss:  0.3655585387349129 , v_loss:  0.7272313833236694\n",
      "t_acc:  0.7623514696685428 , v_acc:  0.6761363636363636\n",
      "t_recall:  0.6275303643724697 , v_recall:  0.5427979751495629\n",
      "t_prec:  0.7881983724409736 , v_prec:  0.5715384615384616\n",
      "t_f:  0.6352087604650395 , v_f:  0.5348449019335095\n",
      "////////\n"
     ]
    },
    {
     "name": "stderr",
     "output_type": "stream",
     "text": [
      "\r",
      "Iterations:  99%|████████████████████████████████▊| 298/300 [05:58<00:02,  1.12s/it]"
     ]
    },
    {
     "name": "stdout",
     "output_type": "stream",
     "text": [
      "Epoch  297 , loss 0.36318993449211123\n",
      "Epoch  298 , loss 0.3576623409986496\n"
     ]
    },
    {
     "name": "stderr",
     "output_type": "stream",
     "text": [
      "\r",
      "Iterations: 100%|████████████████████████████████▉| 299/300 [06:00<00:01,  1.21s/it]"
     ]
    },
    {
     "name": "stdout",
     "output_type": "stream",
     "text": [
      "Epoch:  298\n",
      "t_loss:  0.3576623409986496 , v_loss:  0.7250621716181437\n",
      "t_acc:  0.7679799874921827 , v_acc:  0.6704545454545454\n",
      "t_recall:  0.6353216374269006 , v_recall:  0.5387329344991563\n",
      "t_prec:  0.7995098364589769 , v_prec:  0.5627641063882675\n",
      "t_f:  0.645452638385944 , v_f:  0.5308823529411765\n",
      "////////\n"
     ]
    },
    {
     "name": "stderr",
     "output_type": "stream",
     "text": [
      "Iterations: 100%|█████████████████████████████████| 300/300 [06:01<00:00,  1.20s/it]"
     ]
    },
    {
     "name": "stdout",
     "output_type": "stream",
     "text": [
      "Epoch  299 , loss 0.36109975934028626\n"
     ]
    },
    {
     "name": "stderr",
     "output_type": "stream",
     "text": [
      "\n"
     ]
    },
    {
     "name": "stdout",
     "output_type": "stream",
     "text": [
      "106 11\n",
      "\n",
      "c0_acc 0.8617886178861789 , c1_acc 0.20754716981132076 , b_acc 0.5346678938487498\n"
     ]
    },
    {
     "name": "stderr",
     "output_type": "stream",
     "text": [
      "\r",
      "Iterations:   0%|                                           | 0/300 [00:00<?, ?it/s]"
     ]
    },
    {
     "name": "stdout",
     "output_type": "stream",
     "text": [
      "Epoch  0 , loss 0.685867954492569\n"
     ]
    },
    {
     "name": "stderr",
     "output_type": "stream",
     "text": [
      "\r",
      "Iterations:   0%|                                   | 1/300 [00:01<06:48,  1.37s/it]"
     ]
    },
    {
     "name": "stdout",
     "output_type": "stream",
     "text": [
      "Epoch:  0\n",
      "t_loss:  0.685867954492569 , v_loss:  0.6863677104314169\n",
      "t_acc:  0.5387511766551616 , v_acc:  0.7005347593582888\n",
      "t_recall:  0.5151766388912112 , v_recall:  0.5\n",
      "t_prec:  0.5130987648876933 , v_prec:  0.3502673796791444\n",
      "t_f:  0.5049296846269924 , v_f:  0.41194968553459116\n",
      "////////\n"
     ]
    },
    {
     "name": "stderr",
     "output_type": "stream",
     "text": [
      "\r",
      "Iterations:   1%|▏                                  | 2/300 [00:02<05:18,  1.07s/it]"
     ]
    },
    {
     "name": "stdout",
     "output_type": "stream",
     "text": [
      "Epoch  1 , loss 0.6257646656036377\n",
      "Epoch  2 , loss 0.5746289110183715\n"
     ]
    },
    {
     "name": "stderr",
     "output_type": "stream",
     "text": [
      "\r",
      "Iterations:   1%|▎                                  | 3/300 [00:03<05:51,  1.18s/it]"
     ]
    },
    {
     "name": "stdout",
     "output_type": "stream",
     "text": [
      "Epoch:  2\n",
      "t_loss:  0.5746289110183715 , v_loss:  0.6670459508895874\n",
      "t_acc:  0.6636335111390022 , v_acc:  0.7005347593582888\n",
      "t_recall:  0.5028295664613698 , v_recall:  0.5\n",
      "t_prec:  0.5075824334483394 , v_prec:  0.3502673796791444\n",
      "t_f:  0.4659478575787589 , v_f:  0.41194968553459116\n",
      "////////\n"
     ]
    },
    {
     "name": "stderr",
     "output_type": "stream",
     "text": [
      "\r",
      "Iterations:   1%|▍                                  | 4/300 [00:04<05:26,  1.10s/it]"
     ]
    },
    {
     "name": "stdout",
     "output_type": "stream",
     "text": [
      "Epoch  3 , loss 0.5394704908132553\n",
      "Epoch  4 , loss 0.5070657515525818\n"
     ]
    },
    {
     "name": "stderr",
     "output_type": "stream",
     "text": [
      "\r",
      "Iterations:   2%|▌                                  | 5/300 [00:06<06:07,  1.25s/it]"
     ]
    },
    {
     "name": "stdout",
     "output_type": "stream",
     "text": [
      "Epoch:  4\n",
      "t_loss:  0.5070657515525818 , v_loss:  0.6282684504985809\n",
      "t_acc:  0.692187009727016 , v_acc:  0.7005347593582888\n",
      "t_recall:  0.5043191297643267 , v_recall:  0.5\n",
      "t_prec:  0.5559836726830502 , v_prec:  0.3502673796791444\n",
      "t_f:  0.42976403157189175 , v_f:  0.41194968553459116\n",
      "////////\n"
     ]
    },
    {
     "name": "stderr",
     "output_type": "stream",
     "text": [
      "\r",
      "Iterations:   2%|▋                                  | 6/300 [00:06<05:29,  1.12s/it]"
     ]
    },
    {
     "name": "stdout",
     "output_type": "stream",
     "text": [
      "Epoch  5 , loss 0.4908660626411438\n",
      "Epoch  6 , loss 0.47909395694732665\n"
     ]
    },
    {
     "name": "stderr",
     "output_type": "stream",
     "text": [
      "\r",
      "Iterations:   2%|▊                                  | 7/300 [00:08<05:48,  1.19s/it]"
     ]
    },
    {
     "name": "stdout",
     "output_type": "stream",
     "text": [
      "Epoch:  6\n",
      "t_loss:  0.47909395694732665 , v_loss:  0.6088554263114929\n",
      "t_acc:  0.6931283338562911 , v_acc:  0.7005347593582888\n",
      "t_recall:  0.49893426785200046 , v_recall:  0.5\n",
      "t_prec:  0.4097790185592954 , v_prec:  0.3502673796791444\n",
      "t_f:  0.41036412340241996 , v_f:  0.41194968553459116\n",
      "////////\n"
     ]
    },
    {
     "name": "stderr",
     "output_type": "stream",
     "text": [
      "\r",
      "Iterations:   3%|▉                                  | 8/300 [00:09<05:16,  1.08s/it]"
     ]
    },
    {
     "name": "stdout",
     "output_type": "stream",
     "text": [
      "Epoch  7 , loss 0.4711143344640732\n",
      "Epoch  8 , loss 0.4702170842885971\n"
     ]
    },
    {
     "name": "stderr",
     "output_type": "stream",
     "text": [
      "\r",
      "Iterations:   3%|█                                  | 9/300 [00:10<05:49,  1.20s/it]"
     ]
    },
    {
     "name": "stdout",
     "output_type": "stream",
     "text": [
      "Epoch:  8\n",
      "t_loss:  0.4702170842885971 , v_loss:  0.6326436003049215\n",
      "t_acc:  0.6946972074050831 , v_acc:  0.7005347593582888\n",
      "t_recall:  0.4997742663656885 , v_recall:  0.5\n",
      "t_prec:  0.3474576271186441 , v_prec:  0.3502673796791444\n",
      "t_f:  0.40992408813182746 , v_f:  0.41194968553459116\n",
      "////////\n"
     ]
    },
    {
     "name": "stderr",
     "output_type": "stream",
     "text": [
      "\r",
      "Iterations:   3%|█▏                                | 10/300 [00:11<05:17,  1.10s/it]"
     ]
    },
    {
     "name": "stdout",
     "output_type": "stream",
     "text": [
      "Epoch  9 , loss 0.4704466134309769\n",
      "Epoch  10 , loss 0.46920550405979156\n"
     ]
    },
    {
     "name": "stderr",
     "output_type": "stream",
     "text": [
      "\r",
      "Iterations:   4%|█▏                                | 11/300 [00:12<05:37,  1.17s/it]"
     ]
    },
    {
     "name": "stdout",
     "output_type": "stream",
     "text": [
      "Epoch:  10\n",
      "t_loss:  0.46920550405979156 , v_loss:  0.6558651278416315\n",
      "t_acc:  0.6943834326953248 , v_acc:  0.7005347593582888\n",
      "t_recall:  0.49954853273137695 , v_recall:  0.5\n",
      "t_prec:  0.34740973312401885 , v_prec:  0.3502673796791444\n",
      "t_f:  0.4098148148148148 , v_f:  0.41194968553459116\n",
      "////////\n"
     ]
    },
    {
     "name": "stderr",
     "output_type": "stream",
     "text": [
      "\r",
      "Iterations:   4%|█▎                                | 12/300 [00:13<05:08,  1.07s/it]"
     ]
    },
    {
     "name": "stdout",
     "output_type": "stream",
     "text": [
      "Epoch  11 , loss 0.46750049114227293\n",
      "Epoch  12 , loss 0.46325347185134885\n"
     ]
    },
    {
     "name": "stderr",
     "output_type": "stream",
     "text": [
      "\r",
      "Iterations:   4%|█▍                                | 13/300 [00:14<05:34,  1.16s/it]"
     ]
    },
    {
     "name": "stdout",
     "output_type": "stream",
     "text": [
      "Epoch:  12\n",
      "t_loss:  0.46325347185134885 , v_loss:  0.6627085904280344\n",
      "t_acc:  0.6946972074050831 , v_acc:  0.7005347593582888\n",
      "t_recall:  0.4997742663656885 , v_recall:  0.5\n",
      "t_prec:  0.3474576271186441 , v_prec:  0.3502673796791444\n",
      "t_f:  0.40992408813182746 , v_f:  0.41194968553459116\n",
      "////////\n"
     ]
    },
    {
     "name": "stderr",
     "output_type": "stream",
     "text": [
      "\r",
      "Iterations:   5%|█▌                                | 14/300 [00:15<05:11,  1.09s/it]"
     ]
    },
    {
     "name": "stdout",
     "output_type": "stream",
     "text": [
      "Epoch  13 , loss 0.463965602517128\n",
      "Epoch  14 , loss 0.46491377174854276\n"
     ]
    },
    {
     "name": "stderr",
     "output_type": "stream",
     "text": [
      "\r",
      "Iterations:   5%|█▋                                | 15/300 [00:17<05:42,  1.20s/it]"
     ]
    },
    {
     "name": "stdout",
     "output_type": "stream",
     "text": [
      "Epoch:  14\n",
      "t_loss:  0.46491377174854276 , v_loss:  0.6638354410727819\n",
      "t_acc:  0.6950109821148416 , v_acc:  0.7005347593582888\n",
      "t_recall:  0.5 , v_recall:  0.5\n",
      "t_prec:  0.3475054910574208 , v_prec:  0.3502673796791444\n",
      "t_f:  0.4100333209922251 , v_f:  0.41194968553459116\n",
      "////////\n"
     ]
    },
    {
     "name": "stderr",
     "output_type": "stream",
     "text": [
      "\r",
      "Iterations:   5%|█▊                                | 16/300 [00:18<05:12,  1.10s/it]"
     ]
    },
    {
     "name": "stdout",
     "output_type": "stream",
     "text": [
      "Epoch  15 , loss 0.4620693427324295\n",
      "Epoch  16 , loss 0.46578258872032163\n"
     ]
    },
    {
     "name": "stderr",
     "output_type": "stream",
     "text": [
      "\r",
      "Iterations:   6%|█▉                                | 17/300 [00:19<05:35,  1.18s/it]"
     ]
    },
    {
     "name": "stdout",
     "output_type": "stream",
     "text": [
      "Epoch:  16\n",
      "t_loss:  0.46578258872032163 , v_loss:  0.6654001077016195\n",
      "t_acc:  0.6950109821148416 , v_acc:  0.7005347593582888\n",
      "t_recall:  0.5 , v_recall:  0.5\n",
      "t_prec:  0.3475054910574208 , v_prec:  0.3502673796791444\n",
      "t_f:  0.4100333209922251 , v_f:  0.41194968553459116\n",
      "////////\n"
     ]
    },
    {
     "name": "stderr",
     "output_type": "stream",
     "text": [
      "\r",
      "Iterations:   6%|██                                | 18/300 [00:20<05:08,  1.09s/it]"
     ]
    },
    {
     "name": "stdout",
     "output_type": "stream",
     "text": [
      "Epoch  17 , loss 0.4585252547264099\n",
      "Epoch  18 , loss 0.45519368529319765\n"
     ]
    },
    {
     "name": "stderr",
     "output_type": "stream",
     "text": [
      "\r",
      "Iterations:   6%|██▏                               | 19/300 [00:21<05:39,  1.21s/it]"
     ]
    },
    {
     "name": "stdout",
     "output_type": "stream",
     "text": [
      "Epoch:  18\n",
      "t_loss:  0.45519368529319765 , v_loss:  0.664211223522822\n",
      "t_acc:  0.6946972074050831 , v_acc:  0.7005347593582888\n",
      "t_recall:  0.4997742663656885 , v_recall:  0.5\n",
      "t_prec:  0.3474576271186441 , v_prec:  0.3502673796791444\n",
      "t_f:  0.40992408813182746 , v_f:  0.41194968553459116\n",
      "////////\n"
     ]
    },
    {
     "name": "stderr",
     "output_type": "stream",
     "text": [
      "\r",
      "Iterations:   7%|██▎                               | 20/300 [00:22<05:07,  1.10s/it]"
     ]
    },
    {
     "name": "stdout",
     "output_type": "stream",
     "text": [
      "Epoch  19 , loss 0.45930475652217867\n",
      "Epoch  20 , loss 0.45602969348430633\n"
     ]
    },
    {
     "name": "stderr",
     "output_type": "stream",
     "text": [
      "\r",
      "Iterations:   7%|██▍                               | 21/300 [00:24<05:30,  1.18s/it]"
     ]
    },
    {
     "name": "stdout",
     "output_type": "stream",
     "text": [
      "Epoch:  20\n",
      "t_loss:  0.45602969348430633 , v_loss:  0.6574452519416809\n",
      "t_acc:  0.6950109821148416 , v_acc:  0.7005347593582888\n",
      "t_recall:  0.5 , v_recall:  0.5\n",
      "t_prec:  0.3475054910574208 , v_prec:  0.3502673796791444\n",
      "t_f:  0.4100333209922251 , v_f:  0.41194968553459116\n",
      "////////\n"
     ]
    },
    {
     "name": "stderr",
     "output_type": "stream",
     "text": [
      "\r",
      "Iterations:   7%|██▍                               | 22/300 [00:25<05:01,  1.08s/it]"
     ]
    },
    {
     "name": "stdout",
     "output_type": "stream",
     "text": [
      "Epoch  21 , loss 0.4575102150440216\n",
      "Epoch  22 , loss 0.4560342752933502\n"
     ]
    },
    {
     "name": "stderr",
     "output_type": "stream",
     "text": [
      "\r",
      "Iterations:   8%|██▌                               | 23/300 [00:26<05:24,  1.17s/it]"
     ]
    },
    {
     "name": "stdout",
     "output_type": "stream",
     "text": [
      "Epoch:  22\n",
      "t_loss:  0.4560342752933502 , v_loss:  0.6567298819621404\n",
      "t_acc:  0.6946972074050831 , v_acc:  0.7005347593582888\n",
      "t_recall:  0.4997742663656885 , v_recall:  0.5\n",
      "t_prec:  0.3474576271186441 , v_prec:  0.3502673796791444\n",
      "t_f:  0.40992408813182746 , v_f:  0.41194968553459116\n",
      "////////\n"
     ]
    },
    {
     "name": "stderr",
     "output_type": "stream",
     "text": [
      "\r",
      "Iterations:   8%|██▋                               | 24/300 [00:27<04:56,  1.07s/it]"
     ]
    },
    {
     "name": "stdout",
     "output_type": "stream",
     "text": [
      "Epoch  23 , loss 0.45544625997543337\n",
      "Epoch  24 , loss 0.4503748899698257\n"
     ]
    },
    {
     "name": "stderr",
     "output_type": "stream",
     "text": [
      "\r",
      "Iterations:   8%|██▊                               | 25/300 [00:28<05:26,  1.19s/it]"
     ]
    },
    {
     "name": "stdout",
     "output_type": "stream",
     "text": [
      "Epoch:  24\n",
      "t_loss:  0.4503748899698257 , v_loss:  0.6575048565864563\n",
      "t_acc:  0.6950109821148416 , v_acc:  0.7005347593582888\n",
      "t_recall:  0.5 , v_recall:  0.5\n",
      "t_prec:  0.3475054910574208 , v_prec:  0.3502673796791444\n",
      "t_f:  0.4100333209922251 , v_f:  0.41194968553459116\n",
      "////////\n"
     ]
    },
    {
     "name": "stderr",
     "output_type": "stream",
     "text": [
      "\r",
      "Iterations:   9%|██▉                               | 26/300 [00:29<05:04,  1.11s/it]"
     ]
    },
    {
     "name": "stdout",
     "output_type": "stream",
     "text": [
      "Epoch  25 , loss 0.45501947045326235\n",
      "Epoch  26 , loss 0.45453080713748933\n"
     ]
    },
    {
     "name": "stderr",
     "output_type": "stream",
     "text": [
      "\r",
      "Iterations:   9%|███                               | 27/300 [00:30<05:23,  1.18s/it]"
     ]
    },
    {
     "name": "stdout",
     "output_type": "stream",
     "text": [
      "Epoch:  26\n",
      "t_loss:  0.45453080713748933 , v_loss:  0.6492574115594228\n",
      "t_acc:  0.6946972074050831 , v_acc:  0.7005347593582888\n",
      "t_recall:  0.4997742663656885 , v_recall:  0.5\n",
      "t_prec:  0.3474576271186441 , v_prec:  0.3502673796791444\n",
      "t_f:  0.40992408813182746 , v_f:  0.41194968553459116\n",
      "////////\n"
     ]
    },
    {
     "name": "stderr",
     "output_type": "stream",
     "text": [
      "\r",
      "Iterations:   9%|███▏                              | 28/300 [00:31<04:54,  1.08s/it]"
     ]
    },
    {
     "name": "stdout",
     "output_type": "stream",
     "text": [
      "Epoch  27 , loss 0.45261932015419004\n",
      "Epoch  28 , loss 0.4521281409263611\n"
     ]
    },
    {
     "name": "stderr",
     "output_type": "stream",
     "text": [
      "\r",
      "Iterations:  10%|███▎                              | 29/300 [00:33<05:14,  1.16s/it]"
     ]
    },
    {
     "name": "stdout",
     "output_type": "stream",
     "text": [
      "Epoch:  28\n",
      "t_loss:  0.4521281409263611 , v_loss:  0.6490837881962458\n",
      "t_acc:  0.6950109821148416 , v_acc:  0.7005347593582888\n",
      "t_recall:  0.5 , v_recall:  0.5\n",
      "t_prec:  0.3475054910574208 , v_prec:  0.3502673796791444\n",
      "t_f:  0.4100333209922251 , v_f:  0.41194968553459116\n",
      "////////\n"
     ]
    },
    {
     "name": "stderr",
     "output_type": "stream",
     "text": [
      "\r",
      "Iterations:  10%|███▍                              | 30/300 [00:34<04:48,  1.07s/it]"
     ]
    },
    {
     "name": "stdout",
     "output_type": "stream",
     "text": [
      "Epoch  29 , loss 0.4517480510473251\n",
      "Epoch  30 , loss 0.4458185124397278\n"
     ]
    },
    {
     "name": "stderr",
     "output_type": "stream",
     "text": [
      "\r",
      "Iterations:  10%|███▌                              | 31/300 [00:35<05:24,  1.20s/it]"
     ]
    },
    {
     "name": "stdout",
     "output_type": "stream",
     "text": [
      "Epoch:  30\n",
      "t_loss:  0.4458185124397278 , v_loss:  0.6484665820995966\n",
      "t_acc:  0.6953247568245999 , v_acc:  0.7005347593582888\n",
      "t_recall:  0.5005144032921811 , v_recall:  0.5\n",
      "t_prec:  0.8476145637162587 , v_prec:  0.3502673796791444\n",
      "t_f:  0.41113698825899736 , v_f:  0.41194968553459116\n",
      "////////\n"
     ]
    },
    {
     "name": "stderr",
     "output_type": "stream",
     "text": [
      "\r",
      "Iterations:  11%|███▋                              | 32/300 [00:36<04:57,  1.11s/it]"
     ]
    },
    {
     "name": "stdout",
     "output_type": "stream",
     "text": [
      "Epoch  31 , loss 0.4507709181308746\n",
      "Epoch  32 , loss 0.4491196715831757\n"
     ]
    },
    {
     "name": "stderr",
     "output_type": "stream",
     "text": [
      "\r",
      "Iterations:  11%|███▋                              | 33/300 [00:37<05:15,  1.18s/it]"
     ]
    },
    {
     "name": "stdout",
     "output_type": "stream",
     "text": [
      "Epoch:  32\n",
      "t_loss:  0.4491196715831757 , v_loss:  0.6464434415102005\n",
      "t_acc:  0.6950109821148416 , v_acc:  0.7005347593582888\n",
      "t_recall:  0.5 , v_recall:  0.5\n",
      "t_prec:  0.3475054910574208 , v_prec:  0.3502673796791444\n",
      "t_f:  0.4100333209922251 , v_f:  0.41194968553459116\n",
      "////////\n"
     ]
    },
    {
     "name": "stderr",
     "output_type": "stream",
     "text": [
      "\r",
      "Iterations:  11%|███▊                              | 34/300 [00:38<04:47,  1.08s/it]"
     ]
    },
    {
     "name": "stdout",
     "output_type": "stream",
     "text": [
      "Epoch  33 , loss 0.44961809635162353\n",
      "Epoch  34 , loss 0.4477240610122681\n"
     ]
    },
    {
     "name": "stderr",
     "output_type": "stream",
     "text": [
      "\r",
      "Iterations:  12%|███▉                              | 35/300 [00:40<05:18,  1.20s/it]"
     ]
    },
    {
     "name": "stdout",
     "output_type": "stream",
     "text": [
      "Epoch:  34\n",
      "t_loss:  0.4477240610122681 , v_loss:  0.6430011639992396\n",
      "t_acc:  0.6950109821148416 , v_acc:  0.7005347593582888\n",
      "t_recall:  0.5 , v_recall:  0.5\n",
      "t_prec:  0.3475054910574208 , v_prec:  0.3502673796791444\n",
      "t_f:  0.4100333209922251 , v_f:  0.41194968553459116\n",
      "////////\n"
     ]
    },
    {
     "name": "stderr",
     "output_type": "stream",
     "text": [
      "\r",
      "Iterations:  12%|████                              | 36/300 [00:40<04:49,  1.09s/it]"
     ]
    },
    {
     "name": "stdout",
     "output_type": "stream",
     "text": [
      "Epoch  35 , loss 0.4451699388027191\n",
      "Epoch  36 , loss 0.4451121783256531\n"
     ]
    },
    {
     "name": "stderr",
     "output_type": "stream",
     "text": [
      "\r",
      "Iterations:  12%|████▏                             | 37/300 [00:42<05:17,  1.21s/it]"
     ]
    },
    {
     "name": "stdout",
     "output_type": "stream",
     "text": [
      "Epoch:  36\n",
      "t_loss:  0.4451121783256531 , v_loss:  0.6403612146774927\n",
      "t_acc:  0.6956385315343583 , v_acc:  0.7005347593582888\n",
      "t_recall:  0.5010288065843621 , v_recall:  0.5\n",
      "t_prec:  0.847723704866562 , v_prec:  0.3502673796791444\n",
      "t_f:  0.41223857327553426 , v_f:  0.41194968553459116\n",
      "////////\n"
     ]
    },
    {
     "name": "stderr",
     "output_type": "stream",
     "text": [
      "\r",
      "Iterations:  13%|████▎                             | 38/300 [00:43<04:58,  1.14s/it]"
     ]
    },
    {
     "name": "stdout",
     "output_type": "stream",
     "text": [
      "Epoch  37 , loss 0.43555957198143\n",
      "Epoch  38 , loss 0.43979795813560485\n"
     ]
    },
    {
     "name": "stderr",
     "output_type": "stream",
     "text": [
      "\r",
      "Iterations:  13%|████▍                             | 39/300 [00:44<05:16,  1.21s/it]"
     ]
    },
    {
     "name": "stdout",
     "output_type": "stream",
     "text": [
      "Epoch:  38\n",
      "t_loss:  0.43979795813560485 , v_loss:  0.6394981940587362\n",
      "t_acc:  0.6943834326953248 , v_acc:  0.7005347593582888\n",
      "t_recall:  0.5001258720471161 , v_recall:  0.5\n",
      "t_prec:  0.514198889238185 , v_prec:  0.3502673796791444\n",
      "t_f:  0.41179295122797926 , v_f:  0.41194968553459116\n",
      "////////\n"
     ]
    },
    {
     "name": "stderr",
     "output_type": "stream",
     "text": [
      "\r",
      "Iterations:  13%|████▌                             | 40/300 [00:45<04:46,  1.10s/it]"
     ]
    },
    {
     "name": "stdout",
     "output_type": "stream",
     "text": [
      "Epoch  39 , loss 0.43550792276859285\n",
      "Epoch  40 , loss 0.4351795542240143\n"
     ]
    },
    {
     "name": "stderr",
     "output_type": "stream",
     "text": [
      "\r",
      "Iterations:  14%|████▋                             | 41/300 [00:47<05:10,  1.20s/it]"
     ]
    },
    {
     "name": "stdout",
     "output_type": "stream",
     "text": [
      "Epoch:  40\n",
      "t_loss:  0.4351795542240143 , v_loss:  0.6353899240493774\n",
      "t_acc:  0.6950109821148416 , v_acc:  0.7005347593582888\n",
      "t_recall:  0.5005773393157391 , v_recall:  0.5\n",
      "t_prec:  0.5976280238768457 , v_prec:  0.3502673796791444\n",
      "t_f:  0.4120158346442823 , v_f:  0.41194968553459116\n",
      "////////\n"
     ]
    },
    {
     "name": "stderr",
     "output_type": "stream",
     "text": [
      "\r",
      "Iterations:  14%|████▊                             | 42/300 [00:47<04:44,  1.10s/it]"
     ]
    },
    {
     "name": "stdout",
     "output_type": "stream",
     "text": [
      "Epoch  41 , loss 0.43625655949115755\n",
      "Epoch  42 , loss 0.43760806024074556\n"
     ]
    },
    {
     "name": "stderr",
     "output_type": "stream",
     "text": [
      "\r",
      "Iterations:  14%|████▊                             | 43/300 [00:49<05:20,  1.25s/it]"
     ]
    },
    {
     "name": "stdout",
     "output_type": "stream",
     "text": [
      "Epoch:  42\n",
      "t_loss:  0.43760806024074556 , v_loss:  0.6368264158566793\n",
      "t_acc:  0.6959523062441167 , v_acc:  0.7005347593582888\n",
      "t_recall:  0.5021205491922823 , v_recall:  0.5\n",
      "t_prec:  0.7050988319856244 , v_prec:  0.3502673796791444\n",
      "t_f:  0.41530187695071946 , v_f:  0.41194968553459116\n",
      "////////\n"
     ]
    },
    {
     "name": "stderr",
     "output_type": "stream",
     "text": [
      "\r",
      "Iterations:  15%|████▉                             | 44/300 [00:50<04:54,  1.15s/it]"
     ]
    },
    {
     "name": "stdout",
     "output_type": "stream",
     "text": [
      "Epoch  43 , loss 0.4372914308309555\n",
      "Epoch  44 , loss 0.4338767486810684\n"
     ]
    },
    {
     "name": "stderr",
     "output_type": "stream",
     "text": [
      "\r",
      "Iterations:  15%|█████                             | 45/300 [00:51<05:13,  1.23s/it]"
     ]
    },
    {
     "name": "stdout",
     "output_type": "stream",
     "text": [
      "Epoch:  44\n",
      "t_loss:  0.4338767486810684 , v_loss:  0.6338706910610199\n",
      "t_acc:  0.6946972074050831 , v_acc:  0.7005347593582888\n",
      "t_recall:  0.5012176146550362 , v_recall:  0.5\n",
      "t_prec:  0.5750372108999313 , v_prec:  0.3502673796791444\n",
      "t_f:  0.41484347240125347 , v_f:  0.41194968553459116\n",
      "////////\n"
     ]
    },
    {
     "name": "stderr",
     "output_type": "stream",
     "text": [
      "\r",
      "Iterations:  15%|█████▏                            | 46/300 [00:52<04:43,  1.11s/it]"
     ]
    },
    {
     "name": "stdout",
     "output_type": "stream",
     "text": [
      "Epoch  45 , loss 0.43135987102985385\n",
      "Epoch  46 , loss 0.43318306028842923\n"
     ]
    },
    {
     "name": "stderr",
     "output_type": "stream",
     "text": [
      "\r",
      "Iterations:  16%|█████▎                            | 47/300 [00:54<05:07,  1.22s/it]"
     ]
    },
    {
     "name": "stdout",
     "output_type": "stream",
     "text": [
      "Epoch:  46\n",
      "t_loss:  0.43318306028842923 , v_loss:  0.6312928646802902\n",
      "t_acc:  0.6962660809538751 , v_acc:  0.7005347593582888\n",
      "t_recall:  0.5026349524844633 , v_recall:  0.5\n",
      "t_prec:  0.7230654293803083 , v_prec:  0.3502673796791444\n",
      "t_f:  0.4163931200956467 , v_f:  0.41194968553459116\n",
      "////////\n"
     ]
    },
    {
     "name": "stderr",
     "output_type": "stream",
     "text": [
      "\r",
      "Iterations:  16%|█████▍                            | 48/300 [00:55<04:38,  1.10s/it]"
     ]
    },
    {
     "name": "stdout",
     "output_type": "stream",
     "text": [
      "Epoch  47 , loss 0.43345225632190704\n",
      "Epoch  48 , loss 0.42755296707153323\n"
     ]
    },
    {
     "name": "stderr",
     "output_type": "stream",
     "text": [
      "\r",
      "Iterations:  16%|█████▌                            | 49/300 [00:56<04:58,  1.19s/it]"
     ]
    },
    {
     "name": "stdout",
     "output_type": "stream",
     "text": [
      "Epoch:  48\n",
      "t_loss:  0.42755296707153323 , v_loss:  0.6287773748238882\n",
      "t_acc:  0.6984625039221839 , v_acc:  0.7005347593582888\n",
      "t_recall:  0.5082564631348178 , v_recall:  0.5\n",
      "t_prec:  0.6940992771505318 , v_prec:  0.3502673796791444\n",
      "t_f:  0.43055139537551596 , v_f:  0.41194968553459116\n",
      "////////\n"
     ]
    },
    {
     "name": "stderr",
     "output_type": "stream",
     "text": [
      "\r",
      "Iterations:  17%|█████▋                            | 50/300 [00:57<04:41,  1.13s/it]"
     ]
    },
    {
     "name": "stdout",
     "output_type": "stream",
     "text": [
      "Epoch  49 , loss 0.4286952906847\n",
      "Epoch  50 , loss 0.4294943243265152\n"
     ]
    },
    {
     "name": "stderr",
     "output_type": "stream",
     "text": [
      "\r",
      "Iterations:  17%|█████▊                            | 51/300 [00:58<04:57,  1.19s/it]"
     ]
    },
    {
     "name": "stdout",
     "output_type": "stream",
     "text": [
      "Epoch:  50\n",
      "t_loss:  0.4294943243265152 , v_loss:  0.6328582614660263\n",
      "t_acc:  0.6975211797929087 , v_acc:  0.7005347593582888\n",
      "t_recall:  0.5061359139425354 , v_recall:  0.5\n",
      "t_prec:  0.6897242567858681 , v_prec:  0.3502673796791444\n",
      "t_f:  0.4254994651926428 , v_f:  0.41194968553459116\n",
      "////////\n"
     ]
    },
    {
     "name": "stderr",
     "output_type": "stream",
     "text": [
      "\r",
      "Iterations:  17%|█████▉                            | 52/300 [00:59<04:28,  1.08s/it]"
     ]
    },
    {
     "name": "stdout",
     "output_type": "stream",
     "text": [
      "Epoch  51 , loss 0.43151210010051727\n",
      "Epoch  52 , loss 0.42641448974609375\n"
     ]
    },
    {
     "name": "stderr",
     "output_type": "stream",
     "text": [
      "\r",
      "Iterations:  18%|██████                            | 53/300 [01:00<04:51,  1.18s/it]"
     ]
    },
    {
     "name": "stdout",
     "output_type": "stream",
     "text": [
      "Epoch:  52\n",
      "t_loss:  0.42641448974609375 , v_loss:  0.6261192709207535\n",
      "t_acc:  0.6994038280514591 , v_acc:  0.7005347593582888\n",
      "t_recall:  0.509799673011361 , v_recall:  0.5\n",
      "t_prec:  0.7089788034865293 , v_prec:  0.3502673796791444\n",
      "t_f:  0.43370911141282165 , v_f:  0.41194968553459116\n",
      "////////\n"
     ]
    },
    {
     "name": "stderr",
     "output_type": "stream",
     "text": [
      "\r",
      "Iterations:  18%|██████                            | 54/300 [01:01<04:33,  1.11s/it]"
     ]
    },
    {
     "name": "stdout",
     "output_type": "stream",
     "text": [
      "Epoch  53 , loss 0.42485885322093964\n",
      "Epoch  54 , loss 0.4269894421100616\n"
     ]
    },
    {
     "name": "stderr",
     "output_type": "stream",
     "text": [
      "\r",
      "Iterations:  18%|██████▏                           | 55/300 [01:03<05:08,  1.26s/it]"
     ]
    },
    {
     "name": "stdout",
     "output_type": "stream",
     "text": [
      "Epoch:  54\n",
      "t_loss:  0.4269894421100616 , v_loss:  0.6271060655514399\n",
      "t_acc:  0.6962660809538751 , v_acc:  0.7005347593582888\n",
      "t_recall:  0.5049443097474199 , v_recall:  0.5\n",
      "t_prec:  0.6402281589208558 , v_prec:  0.3502673796791444\n",
      "t_f:  0.42405994375419115 , v_f:  0.41194968553459116\n",
      "////////\n"
     ]
    },
    {
     "name": "stderr",
     "output_type": "stream",
     "text": [
      "\r",
      "Iterations:  19%|██████▎                           | 56/300 [01:04<04:39,  1.14s/it]"
     ]
    },
    {
     "name": "stdout",
     "output_type": "stream",
     "text": [
      "Epoch  55 , loss 0.42851070165634153\n",
      "Epoch  56 , loss 0.42733805418014525\n"
     ]
    },
    {
     "name": "stderr",
     "output_type": "stream",
     "text": [
      "\r",
      "Iterations:  19%|██████▍                           | 57/300 [01:05<04:57,  1.22s/it]"
     ]
    },
    {
     "name": "stdout",
     "output_type": "stream",
     "text": [
      "Epoch:  56\n",
      "t_loss:  0.42733805418014525 , v_loss:  0.6259113649527231\n",
      "t_acc:  0.6975211797929087 , v_acc:  0.7005347593582888\n",
      "t_recall:  0.5078679318897529 , v_recall:  0.5\n",
      "t_prec:  0.6580147758437342 , v_prec:  0.3502673796791444\n",
      "t_f:  0.43108339530625484 , v_f:  0.41194968553459116\n",
      "////////\n"
     ]
    },
    {
     "name": "stderr",
     "output_type": "stream",
     "text": [
      "\r",
      "Iterations:  19%|██████▌                           | 58/300 [01:06<04:28,  1.11s/it]"
     ]
    },
    {
     "name": "stdout",
     "output_type": "stream",
     "text": [
      "Epoch  57 , loss 0.4249386513233185\n",
      "Epoch  58 , loss 0.426736433506012\n"
     ]
    },
    {
     "name": "stderr",
     "output_type": "stream",
     "text": [
      "\r",
      "Iterations:  20%|██████▋                           | 59/300 [01:08<05:01,  1.25s/it]"
     ]
    },
    {
     "name": "stdout",
     "output_type": "stream",
     "text": [
      "Epoch:  58\n",
      "t_loss:  0.426736433506012 , v_loss:  0.6257386853297552\n",
      "t_acc:  0.6997176027612174 , v_acc:  0.6951871657754011\n",
      "t_recall:  0.5117574245928899 , v_recall:  0.4961832061068702\n",
      "t_prec:  0.6872411089413575 , v_prec:  0.34946236559139787\n",
      "t_f:  0.43928238210753606 , v_f:  0.4100946372239748\n",
      "////////\n"
     ]
    },
    {
     "name": "stderr",
     "output_type": "stream",
     "text": [
      "\r",
      "Iterations:  20%|██████▊                           | 60/300 [01:09<04:29,  1.12s/it]"
     ]
    },
    {
     "name": "stdout",
     "output_type": "stream",
     "text": [
      "Epoch  59 , loss 0.4229404580593109\n",
      "Epoch  60 , loss 0.42601729810237887\n"
     ]
    },
    {
     "name": "stderr",
     "output_type": "stream",
     "text": [
      "\r",
      "Iterations:  20%|██████▉                           | 61/300 [01:10<04:50,  1.21s/it]"
     ]
    },
    {
     "name": "stdout",
     "output_type": "stream",
     "text": [
      "Epoch:  60\n",
      "t_loss:  0.42601729810237887 , v_loss:  0.6251450528701147\n",
      "t_acc:  0.6984625039221839 , v_acc:  0.6951871657754011\n",
      "t_recall:  0.5096998114241655 , v_recall:  0.4961832061068702\n",
      "t_prec:  0.6700998599029095 , v_prec:  0.34946236559139787\n",
      "t_f:  0.4351326163644991 , v_f:  0.4100946372239748\n",
      "////////\n"
     ]
    },
    {
     "name": "stderr",
     "output_type": "stream",
     "text": [
      "\r",
      "Iterations:  21%|███████                           | 62/300 [01:11<04:32,  1.14s/it]"
     ]
    },
    {
     "name": "stdout",
     "output_type": "stream",
     "text": [
      "Epoch  61 , loss 0.4269736832380295\n",
      "Epoch  62 , loss 0.4227882170677185\n"
     ]
    },
    {
     "name": "stderr",
     "output_type": "stream",
     "text": [
      "\r",
      "Iterations:  21%|███████▏                          | 63/300 [01:12<04:48,  1.22s/it]"
     ]
    },
    {
     "name": "stdout",
     "output_type": "stream",
     "text": [
      "Epoch:  62\n",
      "t_loss:  0.4227882170677185 , v_loss:  0.6272596269845963\n",
      "t_acc:  0.7006589268904926 , v_acc:  0.6951871657754011\n",
      "t_recall:  0.5118572861800853 , v_recall:  0.4961832061068702\n",
      "t_prec:  0.7250476039352587 , v_prec:  0.34946236559139787\n",
      "t_f:  0.43789268409562854 , v_f:  0.4100946372239748\n",
      "////////\n"
     ]
    },
    {
     "name": "stderr",
     "output_type": "stream",
     "text": [
      "\r",
      "Iterations:  21%|███████▎                          | 64/300 [01:13<04:20,  1.10s/it]"
     ]
    },
    {
     "name": "stdout",
     "output_type": "stream",
     "text": [
      "Epoch  63 , loss 0.4244095876812935\n",
      "Epoch  64 , loss 0.4257515579462051\n"
     ]
    },
    {
     "name": "stderr",
     "output_type": "stream",
     "text": [
      "\r",
      "Iterations:  22%|███████▎                          | 65/300 [01:15<04:41,  1.20s/it]"
     ]
    },
    {
     "name": "stdout",
     "output_type": "stream",
     "text": [
      "Epoch:  64\n",
      "t_loss:  0.4257515579462051 , v_loss:  0.6216179927190145\n",
      "t_acc:  0.6972074050831503 , v_acc:  0.6951871657754011\n",
      "t_recall:  0.5076421982554413 , v_recall:  0.4961832061068702\n",
      "t_prec:  0.6491434010152284 , v_prec:  0.34946236559139787\n",
      "t_f:  0.430952773477404 , v_f:  0.4100946372239748\n",
      "////////\n"
     ]
    },
    {
     "name": "stderr",
     "output_type": "stream",
     "text": [
      "\r",
      "Iterations:  22%|███████▍                          | 66/300 [01:16<04:23,  1.13s/it]"
     ]
    },
    {
     "name": "stdout",
     "output_type": "stream",
     "text": [
      "Epoch  65 , loss 0.4259181845188141\n",
      "Epoch  66 , loss 0.42076741755008695\n"
     ]
    },
    {
     "name": "stderr",
     "output_type": "stream",
     "text": [
      "\r",
      "Iterations:  22%|███████▌                          | 67/300 [01:17<04:56,  1.27s/it]"
     ]
    },
    {
     "name": "stdout",
     "output_type": "stream",
     "text": [
      "Epoch:  66\n",
      "t_loss:  0.42076741755008695 , v_loss:  0.6239695698022842\n",
      "t_acc:  0.7006589268904926 , v_acc:  0.6951871657754011\n",
      "t_recall:  0.5133006344694331 , v_recall:  0.4961832061068702\n",
      "t_prec:  0.6981922123942804 , v_prec:  0.34946236559139787\n",
      "t_f:  0.44237518542266097 , v_f:  0.4100946372239748\n",
      "////////\n"
     ]
    },
    {
     "name": "stderr",
     "output_type": "stream",
     "text": [
      "\r",
      "Iterations:  23%|███████▋                          | 68/300 [01:18<04:27,  1.15s/it]"
     ]
    },
    {
     "name": "stdout",
     "output_type": "stream",
     "text": [
      "Epoch  67 , loss 0.421191880106926\n",
      "Epoch  68 , loss 0.4192946541309357\n"
     ]
    },
    {
     "name": "stderr",
     "output_type": "stream",
     "text": [
      "\r",
      "Iterations:  23%|███████▊                          | 69/300 [01:19<04:44,  1.23s/it]"
     ]
    },
    {
     "name": "stdout",
     "output_type": "stream",
     "text": [
      "Epoch:  68\n",
      "t_loss:  0.4192946541309357 , v_loss:  0.6264314999183019\n",
      "t_acc:  0.6990900533417007 , v_acc:  0.6951871657754011\n",
      "t_recall:  0.5115946269821364 , v_recall:  0.4961832061068702\n",
      "t_prec:  0.6691489361702128 , v_prec:  0.34946236559139787\n",
      "t_f:  0.43989814440660135 , v_f:  0.4100946372239748\n",
      "////////\n"
     ]
    },
    {
     "name": "stderr",
     "output_type": "stream",
     "text": [
      "\r",
      "Iterations:  23%|███████▉                          | 70/300 [01:20<04:13,  1.10s/it]"
     ]
    },
    {
     "name": "stdout",
     "output_type": "stream",
     "text": [
      "Epoch  69 , loss 0.4224231994152069\n",
      "Epoch  70 , loss 0.42199655771255495\n"
     ]
    },
    {
     "name": "stderr",
     "output_type": "stream",
     "text": [
      "\r",
      "Iterations:  24%|████████                          | 71/300 [01:22<04:43,  1.24s/it]"
     ]
    },
    {
     "name": "stdout",
     "output_type": "stream",
     "text": [
      "Epoch:  70\n",
      "t_loss:  0.42199655771255495 , v_loss:  0.6257969737052917\n",
      "t_acc:  0.700972701600251 , v_acc:  0.6951871657754011\n",
      "t_recall:  0.5141037074194836 , v_recall:  0.4961832061068702\n",
      "t_prec:  0.6974805218454494 , v_prec:  0.34946236559139787\n",
      "t_f:  0.44428518027823327 , v_f:  0.4100946372239748\n",
      "////////\n"
     ]
    },
    {
     "name": "stderr",
     "output_type": "stream",
     "text": [
      "\r",
      "Iterations:  24%|████████▏                         | 72/300 [01:23<04:16,  1.12s/it]"
     ]
    },
    {
     "name": "stdout",
     "output_type": "stream",
     "text": [
      "Epoch  71 , loss 0.4199186056852341\n",
      "Epoch  72 , loss 0.41972740590572355\n"
     ]
    },
    {
     "name": "stderr",
     "output_type": "stream",
     "text": [
      "\r",
      "Iterations:  24%|████████▎                         | 73/300 [01:24<04:34,  1.21s/it]"
     ]
    },
    {
     "name": "stdout",
     "output_type": "stream",
     "text": [
      "Epoch:  72\n",
      "t_loss:  0.41972740590572355 , v_loss:  0.627556785941124\n",
      "t_acc:  0.7050517728271102 , v_acc:  0.6951871657754011\n",
      "t_recall:  0.5205022805599681 , v_recall:  0.4961832061068702\n",
      "t_prec:  0.7352680950858117 , v_prec:  0.34946236559139787\n",
      "t_f:  0.4565916142083069 , v_f:  0.4100946372239748\n",
      "////////\n"
     ]
    },
    {
     "name": "stderr",
     "output_type": "stream",
     "text": [
      "\r",
      "Iterations:  25%|████████▍                         | 74/300 [01:25<04:16,  1.14s/it]"
     ]
    },
    {
     "name": "stdout",
     "output_type": "stream",
     "text": [
      "Epoch  73 , loss 0.41806862115859983\n",
      "Epoch  74 , loss 0.41813661098480226\n"
     ]
    },
    {
     "name": "stderr",
     "output_type": "stream",
     "text": [
      "\r",
      "Iterations:  25%|████████▌                         | 75/300 [01:26<04:30,  1.20s/it]"
     ]
    },
    {
     "name": "stdout",
     "output_type": "stream",
     "text": [
      "Epoch:  74\n",
      "t_loss:  0.41813661098480226 , v_loss:  0.6219799419244131\n",
      "t_acc:  0.7022278004392846 , v_acc:  0.7005347593582888\n",
      "t_recall:  0.5164499902460775 , v_recall:  0.5051117775354417\n",
      "t_prec:  0.7055990943921979 , v_prec:  0.6013513513513513\n",
      "t_f:  0.4492333332544216 , v_f:  0.428633784373636\n",
      "////////\n"
     ]
    },
    {
     "name": "stderr",
     "output_type": "stream",
     "text": [
      "\r",
      "Iterations:  25%|████████▌                         | 76/300 [01:27<04:06,  1.10s/it]"
     ]
    },
    {
     "name": "stdout",
     "output_type": "stream",
     "text": [
      "Epoch  75 , loss 0.4185017704963684\n",
      "Epoch  76 , loss 0.42244203984737394\n"
     ]
    },
    {
     "name": "stderr",
     "output_type": "stream",
     "text": [
      "\r",
      "Iterations:  26%|████████▋                         | 77/300 [01:29<04:23,  1.18s/it]"
     ]
    },
    {
     "name": "stdout",
     "output_type": "stream",
     "text": [
      "Epoch:  76\n",
      "t_loss:  0.42244203984737394 , v_loss:  0.6216834584871928\n",
      "t_acc:  0.7003451521807342 , v_acc:  0.7005347593582888\n",
      "t_recall:  0.5139409098087302 , v_recall:  0.5051117775354417\n",
      "t_prec:  0.6806992089198203 , v_prec:  0.6013513513513513\n",
      "t_f:  0.4448773192162656 , v_f:  0.428633784373636\n",
      "////////\n"
     ]
    },
    {
     "name": "stderr",
     "output_type": "stream",
     "text": [
      "\r",
      "Iterations:  26%|████████▊                         | 78/300 [01:30<04:08,  1.12s/it]"
     ]
    },
    {
     "name": "stdout",
     "output_type": "stream",
     "text": [
      "Epoch  77 , loss 0.42375392854213717\n",
      "Epoch  78 , loss 0.41887770414352415\n"
     ]
    },
    {
     "name": "stderr",
     "output_type": "stream",
     "text": [
      "\r",
      "Iterations:  26%|████████▉                         | 79/300 [01:31<04:31,  1.23s/it]"
     ]
    },
    {
     "name": "stdout",
     "output_type": "stream",
     "text": [
      "Epoch:  78\n",
      "t_loss:  0.41887770414352415 , v_loss:  0.620615636308988\n",
      "t_acc:  0.7041104486978349 , v_acc:  0.7005347593582888\n",
      "t_recall:  0.5204024189727726 , v_recall:  0.5051117775354417\n",
      "t_prec:  0.7101320321469575 , v_prec:  0.6013513513513513\n",
      "t_f:  0.4578196358873656 , v_f:  0.428633784373636\n",
      "////////\n"
     ]
    },
    {
     "name": "stderr",
     "output_type": "stream",
     "text": [
      "\r",
      "Iterations:  27%|█████████                         | 80/300 [01:32<04:05,  1.12s/it]"
     ]
    },
    {
     "name": "stdout",
     "output_type": "stream",
     "text": [
      "Epoch  79 , loss 0.42289342641830446\n",
      "Epoch  80 , loss 0.41846550405025484\n"
     ]
    },
    {
     "name": "stderr",
     "output_type": "stream",
     "text": [
      "\r",
      "Iterations:  27%|█████████▏                        | 81/300 [01:33<04:23,  1.20s/it]"
     ]
    },
    {
     "name": "stdout",
     "output_type": "stream",
     "text": [
      "Epoch:  80\n",
      "t_loss:  0.41846550405025484 , v_loss:  0.6176974028348923\n",
      "t_acc:  0.7056793222466269 , v_acc:  0.7005347593582888\n",
      "t_recall:  0.5212424174864606 , v_recall:  0.5051117775354417\n",
      "t_prec:  0.7437613260846392 , v_prec:  0.6013513513513513\n",
      "t_f:  0.45774780226318285 , v_f:  0.428633784373636\n",
      "////////\n"
     ]
    },
    {
     "name": "stderr",
     "output_type": "stream",
     "text": [
      "\r",
      "Iterations:  27%|█████████▎                        | 82/300 [01:34<03:59,  1.10s/it]"
     ]
    },
    {
     "name": "stdout",
     "output_type": "stream",
     "text": [
      "Epoch  81 , loss 0.41656274259090426\n",
      "Epoch  82 , loss 0.41362141132354735\n"
     ]
    },
    {
     "name": "stderr",
     "output_type": "stream",
     "text": [
      "\r",
      "Iterations:  28%|█████████▍                        | 83/300 [01:36<04:27,  1.23s/it]"
     ]
    },
    {
     "name": "stdout",
     "output_type": "stream",
     "text": [
      "Epoch:  82\n",
      "t_loss:  0.41362141132354735 , v_loss:  0.6183035572369894\n",
      "t_acc:  0.7022278004392846 , v_acc:  0.7005347593582888\n",
      "t_recall:  0.5164499902460775 , v_recall:  0.5051117775354417\n",
      "t_prec:  0.7055990943921979 , v_prec:  0.6013513513513513\n",
      "t_f:  0.4492333332544216 , v_f:  0.428633784373636\n",
      "////////\n"
     ]
    },
    {
     "name": "stderr",
     "output_type": "stream",
     "text": [
      "\r",
      "Iterations:  28%|█████████▌                        | 84/300 [01:37<04:05,  1.14s/it]"
     ]
    },
    {
     "name": "stdout",
     "output_type": "stream",
     "text": [
      "Epoch  83 , loss 0.4239416092634201\n",
      "Epoch  84 , loss 0.41766932010650637\n"
     ]
    },
    {
     "name": "stderr",
     "output_type": "stream",
     "text": [
      "\r",
      "Iterations:  28%|█████████▋                        | 85/300 [01:38<04:19,  1.21s/it]"
     ]
    },
    {
     "name": "stdout",
     "output_type": "stream",
     "text": [
      "Epoch:  84\n",
      "t_loss:  0.41766932010650637 , v_loss:  0.6205812841653824\n",
      "t_acc:  0.7034828992783182 , v_acc:  0.7005347593582888\n",
      "t_recall:  0.519084942730541 , v_recall:  0.5051117775354417\n",
      "t_prec:  0.7087753795500275 , v_prec:  0.6013513513513513\n",
      "t_f:  0.45497854182105424 , v_f:  0.428633784373636\n",
      "////////\n"
     ]
    },
    {
     "name": "stderr",
     "output_type": "stream",
     "text": [
      "\r",
      "Iterations:  29%|█████████▋                        | 86/300 [01:39<04:01,  1.13s/it]"
     ]
    },
    {
     "name": "stdout",
     "output_type": "stream",
     "text": [
      "Epoch  85 , loss 0.4201609647274017\n",
      "Epoch  86 , loss 0.42182681322097776\n"
     ]
    },
    {
     "name": "stderr",
     "output_type": "stream",
     "text": [
      "\r",
      "Iterations:  29%|█████████▊                        | 87/300 [01:40<04:15,  1.20s/it]"
     ]
    },
    {
     "name": "stdout",
     "output_type": "stream",
     "text": [
      "Epoch:  86\n",
      "t_loss:  0.42182681322097776 , v_loss:  0.6182919293642044\n",
      "t_acc:  0.6990900533417007 , v_acc:  0.7058823529411765\n",
      "t_recall:  0.5147699932187015 , v_recall:  0.5140403489640131\n",
      "t_prec:  0.647807029775683 , v_prec:  0.6865942028985508\n",
      "t_f:  0.44947333704033743 , v_f:  0.4465967177831585\n",
      "////////\n"
     ]
    },
    {
     "name": "stderr",
     "output_type": "stream",
     "text": [
      "\r",
      "Iterations:  29%|█████████▉                        | 88/300 [01:41<03:53,  1.10s/it]"
     ]
    },
    {
     "name": "stdout",
     "output_type": "stream",
     "text": [
      "Epoch  87 , loss 0.41874147683382035\n",
      "Epoch  88 , loss 0.4176789402961731\n"
     ]
    },
    {
     "name": "stderr",
     "output_type": "stream",
     "text": [
      "\r",
      "Iterations:  30%|██████████                        | 89/300 [01:43<04:11,  1.19s/it]"
     ]
    },
    {
     "name": "stdout",
     "output_type": "stream",
     "text": [
      "Epoch:  88\n",
      "t_loss:  0.4176789402961731 , v_loss:  0.6184358795483907\n",
      "t_acc:  0.7019140257295262 , v_acc:  0.7058823529411765\n",
      "t_recall:  0.5196882925062006 , v_recall:  0.5140403489640131\n",
      "t_prec:  0.6705362890247828 , v_prec:  0.6865942028985508\n",
      "t_f:  0.45922692661068265 , v_f:  0.4465967177831585\n",
      "////////\n"
     ]
    },
    {
     "name": "stderr",
     "output_type": "stream",
     "text": [
      "\r",
      "Iterations:  30%|██████████▏                       | 90/300 [01:44<04:01,  1.15s/it]"
     ]
    },
    {
     "name": "stdout",
     "output_type": "stream",
     "text": [
      "Epoch  89 , loss 0.4180402010679245\n",
      "Epoch  90 , loss 0.41211214363574983\n"
     ]
    },
    {
     "name": "stderr",
     "output_type": "stream",
     "text": [
      "\r",
      "Iterations:  30%|██████████▎                       | 91/300 [01:45<04:23,  1.26s/it]"
     ]
    },
    {
     "name": "stdout",
     "output_type": "stream",
     "text": [
      "Epoch:  90\n",
      "t_loss:  0.41211214363574983 , v_loss:  0.6185608357191086\n",
      "t_acc:  0.7075619705051773 , v_acc:  0.7058823529411765\n",
      "t_recall:  0.5249061765552862 , v_recall:  0.5140403489640131\n",
      "t_prec:  0.74576057564508 , v_prec:  0.6865942028985508\n",
      "t_f:  0.4653862601926873 , v_f:  0.4465967177831585\n",
      "////////\n"
     ]
    },
    {
     "name": "stderr",
     "output_type": "stream",
     "text": [
      "\r",
      "Iterations:  31%|██████████▍                       | 92/300 [01:46<03:57,  1.14s/it]"
     ]
    },
    {
     "name": "stdout",
     "output_type": "stream",
     "text": [
      "Epoch  91 , loss 0.4165680068731308\n",
      "Epoch  92 , loss 0.4159268343448639\n"
     ]
    },
    {
     "name": "stderr",
     "output_type": "stream",
     "text": [
      "\r",
      "Iterations:  31%|██████████▌                       | 93/300 [01:47<04:11,  1.22s/it]"
     ]
    },
    {
     "name": "stdout",
     "output_type": "stream",
     "text": [
      "Epoch:  92\n",
      "t_loss:  0.4159268343448639 , v_loss:  0.6183648556470871\n",
      "t_acc:  0.6994038280514591 , v_acc:  0.7112299465240641\n",
      "t_recall:  0.5144183875372739 , v_recall:  0.5229689203925845\n",
      "t_prec:  0.6553118996157541 , v_prec:  0.730191256830601\n",
      "t_f:  0.4479108048797071 , v_f:  0.4640127388535032\n",
      "////////\n"
     ]
    },
    {
     "name": "stderr",
     "output_type": "stream",
     "text": [
      "\r",
      "Iterations:  31%|██████████▋                       | 94/300 [01:48<03:47,  1.10s/it]"
     ]
    },
    {
     "name": "stdout",
     "output_type": "stream",
     "text": [
      "Epoch  93 , loss 0.4160670602321625\n",
      "Epoch  94 , loss 0.41136866390705107\n"
     ]
    },
    {
     "name": "stderr",
     "output_type": "stream",
     "text": [
      "\r",
      "Iterations:  32%|██████████▊                       | 95/300 [01:50<04:09,  1.22s/it]"
     ]
    },
    {
     "name": "stdout",
     "output_type": "stream",
     "text": [
      "Epoch:  94\n",
      "t_loss:  0.41136866390705107 , v_loss:  0.6163598746061325\n",
      "t_acc:  0.7085032946344525 , v_acc:  0.7112299465240641\n",
      "t_recall:  0.5284700740369163 , v_recall:  0.5229689203925845\n",
      "t_prec:  0.7272728958101594 , v_prec:  0.730191256830601\n",
      "t_f:  0.47398449166175866 , v_f:  0.4640127388535032\n",
      "////////\n"
     ]
    },
    {
     "name": "stderr",
     "output_type": "stream",
     "text": [
      "\r",
      "Iterations:  32%|██████████▉                       | 96/300 [01:51<03:47,  1.12s/it]"
     ]
    },
    {
     "name": "stdout",
     "output_type": "stream",
     "text": [
      "Epoch  95 , loss 0.41600471794605254\n",
      "Epoch  96 , loss 0.4171587985754013\n"
     ]
    },
    {
     "name": "stderr",
     "output_type": "stream",
     "text": [
      "\r",
      "Iterations:  32%|██████████▉                       | 97/300 [01:52<04:03,  1.20s/it]"
     ]
    },
    {
     "name": "stdout",
     "output_type": "stream",
     "text": [
      "Epoch:  96\n",
      "t_loss:  0.4171587985754013 , v_loss:  0.6159844249486923\n",
      "t_acc:  0.7022278004392846 , v_acc:  0.7219251336898396\n",
      "t_recall:  0.5184706778511644 , v_recall:  0.5408260632497274\n",
      "t_prec:  0.6848407098567457 , v_prec:  0.7757826887661142\n",
      "t_f:  0.45521396960508875 , v_f:  0.49731182795698925\n",
      "////////\n"
     ]
    },
    {
     "name": "stderr",
     "output_type": "stream",
     "text": [
      "\r",
      "Iterations:  33%|███████████                       | 98/300 [01:53<03:47,  1.12s/it]"
     ]
    },
    {
     "name": "stdout",
     "output_type": "stream",
     "text": [
      "Epoch  97 , loss 0.4109816801548004\n",
      "Epoch  98 , loss 0.4137061578035355\n"
     ]
    },
    {
     "name": "stderr",
     "output_type": "stream",
     "text": [
      "\r",
      "Iterations:  33%|███████████▏                      | 99/300 [01:54<04:01,  1.20s/it]"
     ]
    },
    {
     "name": "stdout",
     "output_type": "stream",
     "text": [
      "Epoch:  98\n",
      "t_loss:  0.4137061578035355 , v_loss:  0.6176660011212031\n",
      "t_acc:  0.709758393473486 , v_acc:  0.7219251336898396\n",
      "t_recall:  0.5313936961792491 , v_recall:  0.5408260632497274\n",
      "t_prec:  0.7255029526573917 , v_prec:  0.7757826887661142\n",
      "t_f:  0.4801707621787518 , v_f:  0.49731182795698925\n",
      "////////\n"
     ]
    },
    {
     "name": "stderr",
     "output_type": "stream",
     "text": [
      "\r",
      "Iterations:  33%|███████████                      | 100/300 [01:55<03:40,  1.10s/it]"
     ]
    },
    {
     "name": "stdout",
     "output_type": "stream",
     "text": [
      "Epoch  99 , loss 0.4153675925731659\n",
      "Epoch  100 , loss 0.41552702963352206\n"
     ]
    },
    {
     "name": "stderr",
     "output_type": "stream",
     "text": [
      "\r",
      "Iterations:  34%|███████████                      | 101/300 [01:57<03:54,  1.18s/it]"
     ]
    },
    {
     "name": "stdout",
     "output_type": "stream",
     "text": [
      "Epoch:  100\n",
      "t_loss:  0.41552702963352206 , v_loss:  0.6185473303000132\n",
      "t_acc:  0.7110134923125196 , v_acc:  0.7219251336898396\n",
      "t_recall:  0.531141952085017 , v_recall:  0.5408260632497274\n",
      "t_prec:  0.754287556415216 , v_prec:  0.7757826887661142\n",
      "t_f:  0.47772402794342916 , v_f:  0.49731182795698925\n",
      "////////\n"
     ]
    },
    {
     "name": "stderr",
     "output_type": "stream",
     "text": [
      "\r",
      "Iterations:  34%|███████████▏                     | 102/300 [01:58<03:42,  1.12s/it]"
     ]
    },
    {
     "name": "stdout",
     "output_type": "stream",
     "text": [
      "Epoch  101 , loss 0.4131722992658615\n",
      "Epoch  102 , loss 0.4116243934631348\n"
     ]
    },
    {
     "name": "stderr",
     "output_type": "stream",
     "text": [
      "\r",
      "Iterations:  34%|███████████▎                     | 103/300 [01:59<04:02,  1.23s/it]"
     ]
    },
    {
     "name": "stdout",
     "output_type": "stream",
     "text": [
      "Epoch:  102\n",
      "t_loss:  0.4116243934631348 , v_loss:  0.6198517084121704\n",
      "t_acc:  0.7078757452149357 , v_acc:  0.7272727272727273\n",
      "t_recall:  0.5288846157419019 , v_recall:  0.5446428571428571\n",
      "t_prec:  0.7117110369714714 , v_prec:  0.8598901098901099\n",
      "t_f:  0.4760157447971054 , v_f:  0.5004975645524538\n",
      "////////\n"
     ]
    },
    {
     "name": "stderr",
     "output_type": "stream",
     "text": [
      "\r",
      "Iterations:  35%|███████████▍                     | 104/300 [02:00<03:39,  1.12s/it]"
     ]
    },
    {
     "name": "stdout",
     "output_type": "stream",
     "text": [
      "Epoch  103 , loss 0.41325117588043214\n",
      "Epoch  104 , loss 0.4080158138275147\n"
     ]
    },
    {
     "name": "stderr",
     "output_type": "stream",
     "text": [
      "\r",
      "Iterations:  35%|███████████▌                     | 105/300 [02:01<03:56,  1.21s/it]"
     ]
    },
    {
     "name": "stdout",
     "output_type": "stream",
     "text": [
      "Epoch:  104\n",
      "t_loss:  0.4080158138275147 , v_loss:  0.6135205129782358\n",
      "t_acc:  0.709758393473486 , v_acc:  0.7219251336898396\n",
      "t_recall:  0.5313936961792491 , v_recall:  0.5408260632497274\n",
      "t_prec:  0.7255029526573917 , v_prec:  0.7757826887661142\n",
      "t_f:  0.4801707621787518 , v_f:  0.49731182795698925\n",
      "////////\n"
     ]
    },
    {
     "name": "stderr",
     "output_type": "stream",
     "text": [
      "\r",
      "Iterations:  35%|███████████▋                     | 106/300 [02:02<03:32,  1.09s/it]"
     ]
    },
    {
     "name": "stdout",
     "output_type": "stream",
     "text": [
      "Epoch  105 , loss 0.40840487360954286\n",
      "Epoch  106 , loss 0.4029333275556564\n"
     ]
    },
    {
     "name": "stderr",
     "output_type": "stream",
     "text": [
      "\r",
      "Iterations:  36%|███████████▊                     | 107/300 [02:04<03:49,  1.19s/it]"
     ]
    },
    {
     "name": "stdout",
     "output_type": "stream",
     "text": [
      "Epoch:  106\n",
      "t_loss:  0.4029333275556564 , v_loss:  0.6215213686227798\n",
      "t_acc:  0.7088170693442108 , v_acc:  0.7272727272727273\n",
      "t_recall:  0.5286958076712278 , v_recall:  0.5446428571428571\n",
      "t_prec:  0.7316638293723705 , v_prec:  0.8598901098901099\n",
      "t_f:  0.4741530010340791 , v_f:  0.5004975645524538\n",
      "////////\n"
     ]
    },
    {
     "name": "stderr",
     "output_type": "stream",
     "text": [
      "\r",
      "Iterations:  36%|███████████▉                     | 108/300 [02:04<03:28,  1.09s/it]"
     ]
    },
    {
     "name": "stdout",
     "output_type": "stream",
     "text": [
      "Epoch  107 , loss 0.41047246515750885\n",
      "Epoch  108 , loss 0.4113959860801697\n"
     ]
    },
    {
     "name": "stderr",
     "output_type": "stream",
     "text": [
      "\r",
      "Iterations:  36%|███████████▉                     | 109/300 [02:06<03:47,  1.19s/it]"
     ]
    },
    {
     "name": "stdout",
     "output_type": "stream",
     "text": [
      "Epoch:  108\n",
      "t_loss:  0.4113959860801697 , v_loss:  0.6197017431259155\n",
      "t_acc:  0.7091308440539692 , v_acc:  0.7219251336898396\n",
      "t_recall:  0.5297875502791479 , v_recall:  0.5408260632497274\n",
      "t_prec:  0.72763154158503 , v_prec:  0.7757826887661142\n",
      "t_f:  0.47669819627451004 , v_f:  0.49731182795698925\n",
      "////////\n"
     ]
    },
    {
     "name": "stderr",
     "output_type": "stream",
     "text": [
      "\r",
      "Iterations:  37%|████████████                     | 110/300 [02:07<03:37,  1.14s/it]"
     ]
    },
    {
     "name": "stdout",
     "output_type": "stream",
     "text": [
      "Epoch  109 , loss 0.4076540619134903\n",
      "Epoch  110 , loss 0.4069055199623108\n"
     ]
    },
    {
     "name": "stderr",
     "output_type": "stream",
     "text": [
      "\r",
      "Iterations:  37%|████████████▏                    | 111/300 [02:08<03:47,  1.20s/it]"
     ]
    },
    {
     "name": "stdout",
     "output_type": "stream",
     "text": [
      "Epoch:  110\n",
      "t_loss:  0.4069055199623108 , v_loss:  0.6210349996884664\n",
      "t_acc:  0.709758393473486 , v_acc:  0.7272727272727273\n",
      "t_recall:  0.5322597051528579 , v_recall:  0.5446428571428571\n",
      "t_prec:  0.7186496543387103 , v_prec:  0.8598901098901099\n",
      "t_f:  0.482486822875751 , v_f:  0.5004975645524538\n",
      "////////\n"
     ]
    },
    {
     "name": "stderr",
     "output_type": "stream",
     "text": [
      "\r",
      "Iterations:  37%|████████████▎                    | 112/300 [02:09<03:27,  1.10s/it]"
     ]
    },
    {
     "name": "stdout",
     "output_type": "stream",
     "text": [
      "Epoch  111 , loss 0.4117855030298233\n",
      "Epoch  112 , loss 0.410289398431778\n"
     ]
    },
    {
     "name": "stderr",
     "output_type": "stream",
     "text": [
      "\r",
      "Iterations:  38%|████████████▍                    | 113/300 [02:11<03:46,  1.21s/it]"
     ]
    },
    {
     "name": "stdout",
     "output_type": "stream",
     "text": [
      "Epoch:  112\n",
      "t_loss:  0.410289398431778 , v_loss:  0.6195503820975622\n",
      "t_acc:  0.7069344210856605 , v_acc:  0.7219251336898396\n",
      "t_recall:  0.5276300755232283 , v_recall:  0.5408260632497274\n",
      "t_prec:  0.7046040819695814 , v_prec:  0.7757826887661142\n",
      "t_f:  0.4739332891271061 , v_f:  0.49731182795698925\n",
      "////////\n"
     ]
    },
    {
     "name": "stderr",
     "output_type": "stream",
     "text": [
      "\r",
      "Iterations:  38%|████████████▌                    | 114/300 [02:12<03:32,  1.14s/it]"
     ]
    },
    {
     "name": "stdout",
     "output_type": "stream",
     "text": [
      "Epoch  113 , loss 0.41244292974472047\n",
      "Epoch  114 , loss 0.4096906167268753\n"
     ]
    },
    {
     "name": "stderr",
     "output_type": "stream",
     "text": [
      "\r",
      "Iterations:  38%|████████████▋                    | 115/300 [02:13<03:57,  1.28s/it]"
     ]
    },
    {
     "name": "stdout",
     "output_type": "stream",
     "text": [
      "Epoch:  114\n",
      "t_loss:  0.4096906167268753 , v_loss:  0.6114639937877655\n",
      "t_acc:  0.7091308440539692 , v_acc:  0.7112299465240641\n",
      "t_recall:  0.5329629165157131 , v_recall:  0.5331924754634678\n",
      "t_prec:  0.7043070341603284 , v_prec:  0.6700418994413408\n",
      "t_f:  0.4851763463513962 , v_f:  0.4910282258064516\n",
      "////////\n"
     ]
    }
   ],
   "source": [
    "from torcheeg.models import EEGNet\n",
    "import Models.model_func as Model_Func\n",
    "from torch import nn\n",
    "from Models.multi_models import *\n",
    "\n",
    "DEVICE= torch.device(\"cuda\") if torch.cuda.is_available() else torch.device(\"cpu\")\n",
    "\n",
    "learning_rate = 0.00005\n",
    "batch_size = 64\n",
    "n_epochs = 300\n",
    "transpose_channels=True\n",
    "participants_dictionary=[]\n",
    "# participants_online_dictionary=[]\n",
    "participants_grads_dictionary={}\n",
    "b_acc_list=[]\n",
    "c0_acc_list=[]\n",
    "c1_acc_list=[]\n",
    "\n",
    "# EPOCH=[\n",
    "    \n",
    "# ]\n",
    "for r in range(5):\n",
    "    for i in range(len(participants)):\n",
    "\n",
    "        train_dataloader, val_dataloader, classes, input_dim, class_ratio= user_fold_load(i,\n",
    "                                                                                          raw_user_fold,\n",
    "                                                                                          participants,\n",
    "                                                                                          batch_size=batch_size,\n",
    "                                                                                          transpose_channels=transpose_channels)\n",
    "\n",
    "        eegnet= EEGNet(\n",
    "            chunk_size=input_dim[1],\n",
    "            num_electrodes=input_dim[0],\n",
    "            num_classes=classes,\n",
    "            kernel_1= 32,\n",
    "            kernel_2=32,\n",
    "            F1=8,\n",
    "            F2=16,\n",
    "            dropout=0.5\n",
    "        ).to(DEVICE)\n",
    "\n",
    "        classifier= LSTM_EEGNet_Wrapper(DEVICE, eegnet, input_dim).to(DEVICE)\n",
    "    #     optimizer= torch.optim.RMSprop(classifier.parameters(), lr=learning_rate)\n",
    "        optimizer = torch.optim.Adam(classifier.parameters(), lr = learning_rate)\n",
    "\n",
    "\n",
    "        criterion= torch.nn.CrossEntropyLoss(weight=torch.tensor(class_ratio, dtype=torch.float).to(DEVICE))\n",
    "    #     criterion = nn.NLLLoss(weight=torch.tensor(class_ratio, dtype=torch.float).to(DEVICE))\n",
    "\n",
    "        scheduler= torch.optim.lr_scheduler.ReduceLROnPlateau(optimizer, patience=2)\n",
    "\n",
    "        saved_dir= f\"./EEG/saved_models/Userfold/run{r}\"\n",
    "        model= EEGNet_IE_EEG_Wrapper(\n",
    "            DEVICE, classifier, input_dim[0]\n",
    "        ).to(DEVICE)\n",
    "\n",
    "        train_func= eeg_grad_train\n",
    "        model.training_procedure(iteration=n_epochs,\n",
    "                                 train_dataloader=train_dataloader,\n",
    "                                 val_dataloader=val_dataloader,\n",
    "                                 print_cycle=2,\n",
    "                                 path=f\"./dictionary/intermdiate_dicts\",\n",
    "                                 loss_func=criterion,\n",
    "                                 optimiser=optimizer, #scheduler=scheduler,\n",
    "                                 train_func=train_func\n",
    "                                )\n",
    "        if model.epoch == n_epochs+1:\n",
    "            EPOCH= n_epochs\n",
    "        else:\n",
    "            EPOCH= model.epoch\n",
    "\n",
    "        torch.save(model.state_dict(), \n",
    "               os.path.join(\n",
    "                   saved_dir, f\"Userfold-{participants[i]}-LSTM_EEGNet-Grad_TS-e{EPOCH}.pt\"\n",
    "               )\n",
    "        )\n",
    "        pickle.dump(model.return_IE_grad(),\n",
    "                    open(\n",
    "                        os.path.join(\n",
    "                            saved_dir, f\"Userfold-{participants[i]}-LSTM_EEGNet-Grad_TS-grad_all-e{EPOCH}.pkl\"\n",
    "                        ), \"wb\")\n",
    "        )\n",
    "    # OR\n",
    "    #     model.load_state_dict(\n",
    "    #     torch.load(\n",
    "    #         open(\n",
    "    #             os.path.join(\n",
    "    #                 saved_dir, f\"Userfold-{participants[i]}-EEGNet-IE_Multivariate-e{n_epochs}.pt\"\n",
    "    #             ), \"rb\"\n",
    "    #         )\n",
    "    #               )\n",
    "    #     )\n",
    "    #     model.IE_grad= pickle.load(\n",
    "    #             open(\n",
    "    #                 os.path.join(\n",
    "    #                     saved_dir, f\"Userfold-{participants[i]}-EEGNet-IE_Multivariate-grad_all-e{n_epochs}.pkl\"\n",
    "    #                 ),\"rb\"\n",
    "    #             )\n",
    "    #         )\n",
    "\n",
    "\n",
    "        prediction, dictionary= model.prediction_procedure(val_dataloader, dict_flag=True)\n",
    "\n",
    "        ys= np.concatenate([y.detach().cpu().numpy() for x, y in val_dataloader])\n",
    "\n",
    "        c0_acc, c1_acc, b_acc= calculate_accuracy(ys, prediction)\n",
    "        print(\"c0_acc\", c0_acc, \", c1_acc\", c1_acc, \", b_acc\", b_acc)\n",
    "        b_acc_list.append(b_acc)\n",
    "        c0_acc_list.append(c0_acc)\n",
    "        c1_acc_list.append(c1_acc)\n",
    "    #     participants_grads_dictionary[participants[i]]= model.return_IE_grad()\n",
    "        participants_dictionary.append(dictionary)\n",
    "    \n",
    "   \n",
    "\n",
    "tmp=[]\n",
    "for i, dictionary in enumerate(participants_dictionary):\n",
    "    print(f\"User {participants[i]} f1: {dictionary['weighted avg']['f1-score']} acc: {dictionary['accuracy']}\")\n",
    "    print(f\" c0: {c0_acc_list[i]} c1: {c1_acc_list[i]} bacc: {b_acc_list[i]}\")\n",
    "    tmp.append(dictionary['weighted avg']['f1-score'])\n",
    "\n",
    "print(f\"average {np.mean(tmp)}\")\n",
    "print()\n",
    "print(np.array(b_acc_list).mean())\n",
    "print(np.array(c1_acc_list).mean())\n",
    "print(np.array(c0_acc_list).mean())\n"
   ]
  },
  {
   "cell_type": "code",
   "execution_count": null,
   "id": "eb9de653",
   "metadata": {},
   "outputs": [],
   "source": [
    "userfold_results_summary(participants_dictionary, participants)\n",
    "userfold_classwise_results_summary(participants_dictionary, participants)\n"
   ]
  },
  {
   "cell_type": "code",
   "execution_count": null,
   "id": "f1f87606",
   "metadata": {},
   "outputs": [],
   "source": [
    "participant_grad={\"AUC\":[],\"ROC\":[],\"STD\":[]}\n",
    "for i in range(len(participants)):\n",
    "    g= pickle.load(\n",
    "            open(\n",
    "                os.path.join(\n",
    "                    saved_dir, f\"Userfold-{participants[i]}-LSTM_EEGNet-Grad_TS-grad_all-e{n_epochs}.pkl\"\n",
    "                ),\"rb\"\n",
    "            )\n",
    "    )\n",
    "    \n",
    "    participant_grad[\"AUC\"].append(\n",
    "        pd.DataFrame(\n",
    "            Grad_AUC_with_grad(\n",
    "                g, n_epochs, np.zeros(len(timestep_labels)), x_shape=0\n",
    "            ).values()\n",
    "        ).to_numpy().reshape(-1)\n",
    "    )\n",
    "    \n",
    "    participant_grad[\"ROC\"].append(\n",
    "        pd.DataFrame(\n",
    "            Grad_ROC_with_grad(\n",
    "                g, n_epochs, np.zeros(len(timestep_labels)), x_shape=0\n",
    "            ).values()\n",
    "        ).to_numpy().reshape(-1)\n",
    "    )\n",
    "    \n",
    "    participant_grad[\"STD\"].append(\n",
    "        pd.DataFrame(\n",
    "            Grad_STD_with_grad(\n",
    "                g, n_epochs, np.zeros(len(timestep_labels)), x_shape=0\n",
    "            ).values()\n",
    "        ).to_numpy().reshape(-1)\n",
    "    )"
   ]
  },
  {
   "cell_type": "code",
   "execution_count": null,
   "id": "07bbf31f",
   "metadata": {},
   "outputs": [],
   "source": [
    "start=-0.5\n",
    "step=1.5/(188-1)\n",
    "timestep_labels=[]\n",
    "for i in range(input_dim[1]):\n",
    "    timestep_labels.append(round(start+step*i,3))\n",
    "    \n",
    "# timestep_labels"
   ]
  },
  {
   "cell_type": "code",
   "execution_count": null,
   "id": "5fc59c35",
   "metadata": {},
   "outputs": [],
   "source": [
    "import matplotlib\n",
    "import matplotlib.pyplot as plt\n",
    "from sklearn.preprocessing import MinMaxScaler, RobustScaler\n",
    "plt.figure(figsize=(8,6))\n",
    "methods=[\"AUC\", \"ROC\", \"STD\"]\n",
    "for i in methods:\n",
    "    scaler= MinMaxScaler()\n",
    "    scaled_avg_grad= scaler.fit_transform(np.array(participant_grad[i]).mean(0).reshape(-1,1))\n",
    "#     df.index= channel_names\n",
    "#     df.columns=timestep_labels\n",
    "    \n",
    "#     scaled= scaler.fit_transform(df.sum().to_numpy().reshape(-1,1))\n",
    "    plt.plot(scaled_avg_grad)\n",
    "plt.legend(methods)\n",
    "plt.xlabel(\"Timesteps\")\n",
    "plt.axvspan(107,121, color=\"green\", alpha=0.2)\n",
    "plt.axvspan(112,128, color=\"red\", alpha=0.2)\n",
    "plt.axvspan(142,150, color=\"red\", alpha=0.2)\n",
    "plt.axvspan(157,159, color=\"red\", alpha=0.2)\n",
    "plt.xticks([0,31,62,93,124,155,187],[-0.5, -0.25, 0, 0.25, 0.5, 0.75, 1.0])\n",
    "plt.ylabel(\"Normalised Importance\")\n",
    "plt.margins(x=0)\n",
    "matplotlib.rcParams.update({\"font.size\":18})\n",
    "plt.tight_layout()"
   ]
  },
  {
   "cell_type": "code",
   "execution_count": null,
   "id": "9866bb26",
   "metadata": {},
   "outputs": [],
   "source": [
    "import matplotlib\n",
    "import matplotlib.pyplot as plt\n",
    "from sklearn.preprocessing import MinMaxScaler, RobustScaler\n",
    "plt.figure(figsize=(8,6))\n",
    "methods=[\"AUC\", \"ROC\", \"STD\"]\n",
    "for i in methods:\n",
    "    scaler= RobustScaler()\n",
    "    scaled_avg_grad= scaler.fit_transform(np.array(participant_grad[i]).mean(0).reshape(-1,1))\n",
    "#     df.index= channel_names\n",
    "#     df.columns=timestep_labels\n",
    "    \n",
    "#     scaled= scaler.fit_transform(df.sum().to_numpy().reshape(-1,1))\n",
    "    plt.plot(scaled_avg_grad)\n",
    "plt.legend(methods)\n",
    "plt.xlabel(\"Timesteps\")\n",
    "plt.axvspan(107,121, color=\"green\", alpha=0.2)\n",
    "plt.axvspan(112,128, color=\"red\", alpha=0.2)\n",
    "plt.axvspan(142,150, color=\"red\", alpha=0.2)\n",
    "plt.axvspan(157,159, color=\"red\", alpha=0.2)\n",
    "plt.xticks([0,31,62,93,124,155,187],[-0.5, -0.25, 0, 0.25, 0.5, 0.75, 1.0])\n",
    "plt.ylabel(\"Normalised Importance\")\n",
    "plt.margins(x=0)\n",
    "matplotlib.rcParams.update({\"font.size\":18})\n",
    "plt.tight_layout()"
   ]
  },
  {
   "cell_type": "code",
   "execution_count": null,
   "id": "7c7b834b",
   "metadata": {},
   "outputs": [],
   "source": []
  }
 ],
 "metadata": {
  "kernelspec": {
   "display_name": "Python [conda env:pytorch]",
   "language": "python",
   "name": "conda-env-pytorch-py"
  },
  "language_info": {
   "codemirror_mode": {
    "name": "ipython",
    "version": 3
   },
   "file_extension": ".py",
   "mimetype": "text/x-python",
   "name": "python",
   "nbconvert_exporter": "python",
   "pygments_lexer": "ipython3",
   "version": "3.7.10"
  }
 },
 "nbformat": 4,
 "nbformat_minor": 5
}
