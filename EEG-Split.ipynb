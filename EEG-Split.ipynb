{
 "cells": [
  {
   "cell_type": "code",
   "execution_count": 12,
   "id": "956e6616",
   "metadata": {},
   "outputs": [],
   "source": [
    "from scipy.io import loadmat\n",
    "import numpy as np\n",
    "import matplotlib.pyplot as plt\n",
    "import pickle\n",
    "import os"
   ]
  },
  {
   "cell_type": "code",
   "execution_count": 19,
   "id": "e9e73e6e",
   "metadata": {},
   "outputs": [],
   "source": [
    "participant_data_path = './EEG/number'\n",
    "processed_data_path = './EEG/processed_data'\n",
    "split_data_path = './EEG/split_data'"
   ]
  },
  {
   "cell_type": "code",
   "execution_count": 27,
   "id": "791e2b27",
   "metadata": {},
   "outputs": [],
   "source": [
    "ps = os.listdir(participant_data_path)\n",
    "participants=[]\n",
    "for p in ps:\n",
    "    p= p[:3]\n",
    "    if p not in participants:\n",
    "        participants.append(p)\n",
    "        \n",
    "# participants, len(participants)"
   ]
  },
  {
   "cell_type": "code",
   "execution_count": 21,
   "id": "96526d35",
   "metadata": {},
   "outputs": [],
   "source": [
    "options={0:\"number\",1:\"graph\"}; option=0\n",
    "name= f\"data_scaled_p_dictionary-{options[option]}\"\n",
    "scaler= \"standard_scaled\"\n",
    "dictionary= pickle.load(open(os.path.join(processed_data_path, scaler, f\"{name}.pkl\"), \"rb\"))\n",
    "# os.path.join(processed_data_path, \"minmax_scaled\", f\"data_without_artefact_binary_dictionary.pkl\")"
   ]
  },
  {
   "cell_type": "code",
   "execution_count": 25,
   "id": "da7d4c52",
   "metadata": {},
   "outputs": [],
   "source": [
    "# # Sanity check\n",
    "# for participant in participants:\n",
    "#     print(np.unique(dictionary[participant][1],return_counts=True))"
   ]
  },
  {
   "cell_type": "code",
   "execution_count": 23,
   "id": "bfe03b8c",
   "metadata": {},
   "outputs": [],
   "source": [
    "# Class balancing\n",
    "class_ratio={0:1.,1:1.}\n",
    "    \n",
    "def class_balancing(class_ratio:dict, dictionary:dict,random_seed=99):\n",
    "    np.random.seed(random_seed)\n",
    "    \n",
    "    indices_dictionary={}\n",
    "    for participant in participants:\n",
    "        indices_dictionary[participant]=[]\n",
    "        for label in range(len(class_ratio)):\n",
    "            indices= np.nonzero(dictionary[participant][1]==label)[0]\n",
    "            indices_len= int(round(len(indices)*class_ratio[label]))\n",
    "\n",
    "            np.random.shuffle(indices)\n",
    "\n",
    "            indices_dictionary[participant].append(indices[:indices_len])\n",
    "        \n",
    "    return indices_dictionary\n",
    "indices_dictionary= class_balancing(class_ratio, dictionary)"
   ]
  },
  {
   "cell_type": "markdown",
   "id": "0e93b27d",
   "metadata": {},
   "source": [
    "## Userfold"
   ]
  },
  {
   "cell_type": "code",
   "execution_count": 24,
   "id": "bcc09dcd",
   "metadata": {},
   "outputs": [],
   "source": [
    "if not os.path.exists(split_data_path):\n",
    "    os.makedirs(split_data_path)\n",
    "if not os.path.exists(os.path.join(split_data_path, scaler)):\n",
    "    os.makedirs(os.path.join(split_data_path, scaler))\n",
    "\n",
    "userfold_dict={}\n",
    "for participant in participants:\n",
    "\n",
    "    x, y= dictionary[participant]\n",
    "    \n",
    "    X=[]\n",
    "    Y=[]\n",
    "    for indices in indices_dictionary[participant]:\n",
    "        X.append(x[indices])\n",
    "        Y.append(y[indices])\n",
    "    \n",
    "    userfold_dict[participant]= (np.concatenate(X),np.concatenate(Y))\n",
    "    \n",
    "pickle.dump(userfold_dict,open(os.path.join(split_data_path, scaler,f\"userfold_{name}.pkl\"),\"wb\"))    "
   ]
  },
  {
   "cell_type": "code",
   "execution_count": 26,
   "id": "8cb0cb8e",
   "metadata": {},
   "outputs": [],
   "source": [
    "# # sanity check\n",
    "# for participant in participants:\n",
    "#     print(userfold_dict[participant][0].shape)\n",
    "#     print(np.unique(userfold_dict[participant][1]))"
   ]
  }
 ],
 "metadata": {
  "kernelspec": {
   "display_name": "Python [conda env:root] *",
   "language": "python",
   "name": "conda-root-py"
  },
  "language_info": {
   "codemirror_mode": {
    "name": "ipython",
    "version": 3
   },
   "file_extension": ".py",
   "mimetype": "text/x-python",
   "name": "python",
   "nbconvert_exporter": "python",
   "pygments_lexer": "ipython3",
   "version": "3.8.18"
  }
 },
 "nbformat": 4,
 "nbformat_minor": 5
}
