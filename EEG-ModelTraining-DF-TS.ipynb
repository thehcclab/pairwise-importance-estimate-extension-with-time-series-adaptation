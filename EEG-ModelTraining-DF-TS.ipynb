{
 "cells": [
  {
   "cell_type": "code",
   "execution_count": 1,
   "id": "4c9e593e",
   "metadata": {},
   "outputs": [],
   "source": [
    "import numpy as np\n",
    "import pickle\n",
    "import sys\n",
    "from typing import List\n",
    "import torch\n",
    "import os"
   ]
  },
  {
   "cell_type": "code",
   "execution_count": 2,
   "id": "eb96ce98",
   "metadata": {},
   "outputs": [],
   "source": [
    "participant_data_path = './EEG/number'\n",
    "processed_data_path = './EEG/processed_data'\n",
    "split_data_path = './EEG/split_data'"
   ]
  },
  {
   "cell_type": "code",
   "execution_count": 3,
   "id": "62c74d3a",
   "metadata": {},
   "outputs": [],
   "source": [
    "ps = os.listdir(participant_data_path)\n",
    "participants=[]\n",
    "for p in ps:\n",
    "    p= p[:3]\n",
    "    if p not in participants:\n",
    "        participants.append(p)\n",
    "        \n",
    "participants= sorted(participants)\n",
    "# participants, len(participants)"
   ]
  },
  {
   "cell_type": "code",
   "execution_count": 4,
   "id": "28f3009e",
   "metadata": {
    "scrolled": true
   },
   "outputs": [],
   "source": [
    "load_name=f\"userfold_data_scaled_p_dictionary-number\"\n",
    "data_dir = \"./EEG/split_data/standard_scaled\"\n",
    "try:\n",
    "    raw_user_fold= pickle.load(open(os.path.join(data_dir, f\"{load_name}.pkl\"), \"rb\"))\n",
    "except:\n",
    "    print(f\"pickle file does not exist. Use EEG-Preprocess.ipynb and EEG-Split.ipynb to save data setting.\")\n",
    "    sys.exit()"
   ]
  },
  {
   "cell_type": "code",
   "execution_count": null,
   "id": "082a80ac",
   "metadata": {
    "scrolled": true
   },
   "outputs": [
    {
     "name": "stderr",
     "output_type": "stream",
     "text": [
      "\r",
      "Iterations:   0%|                                           | 0/300 [00:00<?, ?it/s]"
     ]
    },
    {
     "name": "stdout",
     "output_type": "stream",
     "text": [
      "Epoch  0 , loss 102.8978718776329\n"
     ]
    },
    {
     "name": "stderr",
     "output_type": "stream",
     "text": [
      "\r",
      "Iterations:   0%|                                   | 1/300 [00:03<15:35,  3.13s/it]"
     ]
    },
    {
     "name": "stdout",
     "output_type": "stream",
     "text": [
      "Epoch:  0\n",
      "t_loss:  102.8978718776329 , v_loss:  0.6952914595603943\n",
      "t_acc:  0.389666977902272 , v_acc:  0.43478260869565216\n",
      "t_recall:  0.5032157121093589 , v_recall:  0.48018018018018016\n",
      "t_prec:  0.5040896475886265 , v_prec:  0.4818481848184818\n",
      "t_f:  0.3842992469049049 , v_f:  0.4325936253437125\n",
      "////////\n"
     ]
    },
    {
     "name": "stderr",
     "output_type": "stream",
     "text": [
      "\r",
      "Iterations:   1%|▏                                  | 2/300 [00:03<08:35,  1.73s/it]"
     ]
    },
    {
     "name": "stdout",
     "output_type": "stream",
     "text": [
      "Epoch  1 , loss 102.33022936652688\n",
      "Epoch  2 , loss 101.7737829170975\n"
     ]
    },
    {
     "name": "stderr",
     "output_type": "stream",
     "text": [
      "\r",
      "Iterations:   1%|▎                                  | 3/300 [00:05<07:30,  1.52s/it]"
     ]
    },
    {
     "name": "stdout",
     "output_type": "stream",
     "text": [
      "Epoch:  2\n",
      "t_loss:  101.7737829170975 , v_loss:  0.6974099079767863\n",
      "t_acc:  0.4410208527855587 , v_acc:  0.4409937888198758\n",
      "t_recall:  0.5024615363500363 , v_recall:  0.5176576576576577\n",
      "t_prec:  0.5023098817690848 , v_prec:  0.5178571428571429\n",
      "t_f:  0.44014614969671806 , v_f:  0.4409722222222222\n",
      "////////\n"
     ]
    },
    {
     "name": "stderr",
     "output_type": "stream",
     "text": [
      "\r",
      "Iterations:   1%|▍                                  | 4/300 [00:05<06:04,  1.23s/it]"
     ]
    },
    {
     "name": "stdout",
     "output_type": "stream",
     "text": [
      "Epoch  3 , loss 101.21204795089423\n",
      "Epoch  4 , loss 100.66570850447113\n"
     ]
    },
    {
     "name": "stderr",
     "output_type": "stream",
     "text": [
      "\r",
      "Iterations:   2%|▌                                  | 5/300 [00:07<06:05,  1.24s/it]"
     ]
    },
    {
     "name": "stdout",
     "output_type": "stream",
     "text": [
      "Epoch:  4\n",
      "t_loss:  100.66570850447113 , v_loss:  0.694794217745463\n",
      "t_acc:  0.49673202614379086 , v_acc:  0.4658385093167702\n",
      "t_recall:  0.485574587227735 , v_recall:  0.49171171171171174\n",
      "t_prec:  0.48775684931506846 , v_prec:  0.4927536231884058\n",
      "t_f:  0.4715033164421374 , v_f:  0.45829420970266044\n",
      "////////\n"
     ]
    },
    {
     "name": "stderr",
     "output_type": "stream",
     "text": [
      "\r",
      "Iterations:   2%|▋                                  | 6/300 [00:08<05:22,  1.10s/it]"
     ]
    },
    {
     "name": "stdout",
     "output_type": "stream",
     "text": [
      "Epoch  5 , loss 100.11525172813266\n",
      "Epoch  6 , loss 99.56851630117379\n"
     ]
    },
    {
     "name": "stderr",
     "output_type": "stream",
     "text": [
      "\r",
      "Iterations:   2%|▊                                  | 7/300 [00:09<05:35,  1.15s/it]"
     ]
    },
    {
     "name": "stdout",
     "output_type": "stream",
     "text": [
      "Epoch:  6\n",
      "t_loss:  99.56851630117379 , v_loss:  0.6822874744733175\n",
      "t_acc:  0.5708061002178649 , v_acc:  0.5590062111801242\n",
      "t_recall:  0.5020141090569715 , v_recall:  0.4933333333333333\n",
      "t_prec:  0.5019490558202504 , v_prec:  0.49353598881900773\n",
      "t_f:  0.5017710090225374 , v_f:  0.4932393492042382\n",
      "////////\n"
     ]
    },
    {
     "name": "stderr",
     "output_type": "stream",
     "text": [
      "\r",
      "Iterations:   3%|▉                                  | 8/300 [00:10<05:00,  1.03s/it]"
     ]
    },
    {
     "name": "stdout",
     "output_type": "stream",
     "text": [
      "Epoch  7 , loss 99.02842787200329\n",
      "Epoch  8 , loss 98.49106553021599\n"
     ]
    },
    {
     "name": "stderr",
     "output_type": "stream",
     "text": [
      "\r",
      "Iterations:   3%|█                                  | 9/300 [00:11<05:20,  1.10s/it]"
     ]
    },
    {
     "name": "stdout",
     "output_type": "stream",
     "text": [
      "Epoch:  8\n",
      "t_loss:  98.49106553021599 , v_loss:  0.6659762859344482\n",
      "t_acc:  0.6209150326797386 , v_acc:  0.6273291925465838\n",
      "t_recall:  0.5049656194672046 , v_recall:  0.49342342342342344\n",
      "t_prec:  0.5065302144249513 , v_prec:  0.48889902676399033\n",
      "t_f:  0.49858625461254613 , v_f:  0.47362685265911075\n",
      "////////\n"
     ]
    },
    {
     "name": "stderr",
     "output_type": "stream",
     "text": [
      "\r",
      "Iterations:   3%|█▏                                | 10/300 [00:12<04:47,  1.01it/s]"
     ]
    },
    {
     "name": "stdout",
     "output_type": "stream",
     "text": [
      "Epoch  9 , loss 97.95748497458065\n",
      "Epoch  10 , loss 97.43394096224915\n"
     ]
    },
    {
     "name": "stderr",
     "output_type": "stream",
     "text": [
      "\r",
      "Iterations:   4%|█▏                                | 11/300 [00:13<05:12,  1.08s/it]"
     ]
    },
    {
     "name": "stdout",
     "output_type": "stream",
     "text": [
      "Epoch:  10\n",
      "t_loss:  97.43394096224915 , v_loss:  0.6524417002995809\n",
      "t_acc:  0.6601307189542484 , v_acc:  0.6832298136645962\n",
      "t_recall:  0.5141763083130894 , v_recall:  0.5174774774774775\n",
      "t_prec:  0.528145181067604 , v_prec:  0.570906432748538\n",
      "t_f:  0.4929293875257539 , v_f:  0.4708384352645486\n",
      "////////\n"
     ]
    },
    {
     "name": "stderr",
     "output_type": "stream",
     "text": [
      "\r",
      "Iterations:   4%|█▎                                | 12/300 [00:14<04:45,  1.01it/s]"
     ]
    },
    {
     "name": "stdout",
     "output_type": "stream",
     "text": [
      "Epoch  11 , loss 96.90511411779067\n",
      "Epoch  12 , loss 96.38677469889323\n"
     ]
    },
    {
     "name": "stderr",
     "output_type": "stream",
     "text": [
      "\r",
      "Iterations:   4%|█▍                                | 13/300 [00:15<05:11,  1.09s/it]"
     ]
    },
    {
     "name": "stdout",
     "output_type": "stream",
     "text": [
      "Epoch:  12\n",
      "t_loss:  96.38677469889323 , v_loss:  0.6425080100695292\n",
      "t_acc:  0.6741363211951448 , v_acc:  0.6894409937888198\n",
      "t_recall:  0.5038285228036947 , v_recall:  0.510990990990991\n",
      "t_prec:  0.5136957268873868 , v_prec:  0.5971337579617835\n",
      "t_f:  0.4569222411731991 , v_f:  0.4437534549474848\n",
      "////////\n"
     ]
    },
    {
     "name": "stderr",
     "output_type": "stream",
     "text": [
      "\r",
      "Iterations:   5%|█▌                                | 14/300 [00:16<04:42,  1.01it/s]"
     ]
    },
    {
     "name": "stdout",
     "output_type": "stream",
     "text": [
      "Epoch  13 , loss 95.86830498190487\n",
      "Epoch  14 , loss 95.35225991641774\n"
     ]
    },
    {
     "name": "stderr",
     "output_type": "stream",
     "text": [
      "\r",
      "Iterations:   5%|█▋                                | 15/300 [00:17<05:05,  1.07s/it]"
     ]
    },
    {
     "name": "stdout",
     "output_type": "stream",
     "text": [
      "Epoch:  14\n",
      "t_loss:  95.35225991641774 , v_loss:  0.6373789608478546\n",
      "t_acc:  0.6912542794895736 , v_acc:  0.6832298136645962\n",
      "t_recall:  0.5098070298239112 , v_recall:  0.4954954954954955\n",
      "t_prec:  0.566297906821387 , v_prec:  0.34375\n",
      "t_f:  0.4487752775410362 , v_f:  0.40590405904059035\n",
      "////////\n"
     ]
    },
    {
     "name": "stderr",
     "output_type": "stream",
     "text": [
      "\r",
      "Iterations:   5%|█▊                                | 16/300 [00:18<04:37,  1.02it/s]"
     ]
    },
    {
     "name": "stdout",
     "output_type": "stream",
     "text": [
      "Epoch  15 , loss 94.8486551022997\n",
      "Epoch  16 , loss 94.34670526841107\n"
     ]
    },
    {
     "name": "stderr",
     "output_type": "stream",
     "text": [
      "\r",
      "Iterations:   6%|█▉                                | 17/300 [00:19<04:59,  1.06s/it]"
     ]
    },
    {
     "name": "stdout",
     "output_type": "stream",
     "text": [
      "Epoch:  16\n",
      "t_loss:  94.34670526841107 , v_loss:  0.633662740389506\n",
      "t_acc:  0.6962340491752257 , v_acc:  0.6894409937888198\n",
      "t_recall:  0.5090734412099751 , v_recall:  0.5\n",
      "t_prec:  0.60838297174709 , v_prec:  0.3447204968944099\n",
      "t_f:  0.43841949556235266 , v_f:  0.4080882352941176\n",
      "////////\n"
     ]
    },
    {
     "name": "stderr",
     "output_type": "stream",
     "text": [
      "\r",
      "Iterations:   6%|██                                | 18/300 [00:20<04:32,  1.04it/s]"
     ]
    },
    {
     "name": "stdout",
     "output_type": "stream",
     "text": [
      "Epoch  17 , loss 93.84941849054074\n",
      "Epoch  18 , loss 93.35011800130208\n"
     ]
    },
    {
     "name": "stderr",
     "output_type": "stream",
     "text": [
      "\r",
      "Iterations:   6%|██▏                               | 19/300 [00:21<04:56,  1.05s/it]"
     ]
    },
    {
     "name": "stdout",
     "output_type": "stream",
     "text": [
      "Epoch:  18\n",
      "t_loss:  93.35011800130208 , v_loss:  0.6322752833366394\n",
      "t_acc:  0.690631808278867 , v_acc:  0.6894409937888198\n",
      "t_recall:  0.5007335886139361 , v_recall:  0.5\n",
      "t_prec:  0.5110068505374721 , v_prec:  0.3447204968944099\n",
      "t_f:  0.4226454756340245 , v_f:  0.4080882352941176\n",
      "////////\n"
     ]
    },
    {
     "name": "stderr",
     "output_type": "stream",
     "text": [
      "\r",
      "Iterations:   7%|██▎                               | 20/300 [00:22<04:30,  1.04it/s]"
     ]
    },
    {
     "name": "stdout",
     "output_type": "stream",
     "text": [
      "Epoch  19 , loss 92.86326673919079\n",
      "Epoch  20 , loss 92.36653077368642\n"
     ]
    },
    {
     "name": "stderr",
     "output_type": "stream",
     "text": [
      "\r",
      "Iterations:   7%|██▍                               | 21/300 [00:23<04:52,  1.05s/it]"
     ]
    },
    {
     "name": "stdout",
     "output_type": "stream",
     "text": [
      "Epoch:  20\n",
      "t_loss:  92.36653077368642 , v_loss:  0.6328739325205485\n",
      "t_acc:  0.6956115779645191 , v_acc:  0.6894409937888198\n",
      "t_recall:  0.5028753379723034 , v_recall:  0.5\n",
      "t_prec:  0.5984184152834324 , v_prec:  0.3447204968944099\n",
      "t_f:  0.4199316097190697 , v_f:  0.4080882352941176\n",
      "////////\n"
     ]
    },
    {
     "name": "stderr",
     "output_type": "stream",
     "text": [
      "\r",
      "Iterations:   7%|██▍                               | 22/300 [00:24<04:27,  1.04it/s]"
     ]
    },
    {
     "name": "stdout",
     "output_type": "stream",
     "text": [
      "Epoch  21 , loss 91.87967352773629\n",
      "Epoch  22 , loss 91.39128187590954\n"
     ]
    },
    {
     "name": "stderr",
     "output_type": "stream",
     "text": [
      "\r",
      "Iterations:   8%|██▌                               | 23/300 [00:25<04:48,  1.04s/it]"
     ]
    },
    {
     "name": "stdout",
     "output_type": "stream",
     "text": [
      "Epoch:  22\n",
      "t_loss:  91.39128187590954 , v_loss:  0.6339070300261179\n",
      "t_acc:  0.6965452847805789 , v_acc:  0.6894409937888198\n",
      "t_recall:  0.50297141131744 , v_recall:  0.5\n",
      "t_prec:  0.6561298076923077 , v_prec:  0.3447204968944099\n",
      "t_f:  0.4183762417414505 , v_f:  0.4080882352941176\n",
      "////////\n"
     ]
    },
    {
     "name": "stderr",
     "output_type": "stream",
     "text": [
      "\r",
      "Iterations:   8%|██▋                               | 24/300 [00:26<04:25,  1.04it/s]"
     ]
    },
    {
     "name": "stdout",
     "output_type": "stream",
     "text": [
      "Epoch  23 , loss 90.89832560221355\n",
      "Epoch  24 , loss 90.41630673875996\n"
     ]
    },
    {
     "name": "stderr",
     "output_type": "stream",
     "text": [
      "\r",
      "Iterations:   8%|██▊                               | 25/300 [00:27<04:47,  1.04s/it]"
     ]
    },
    {
     "name": "stdout",
     "output_type": "stream",
     "text": [
      "Epoch:  24\n",
      "t_loss:  90.41630673875996 , v_loss:  0.6352118949095408\n",
      "t_acc:  0.6940553999377529 , v_acc:  0.6894409937888198\n",
      "t_recall:  0.5003191007534895 , v_recall:  0.5\n",
      "t_prec:  0.5145403377110694 , v_prec:  0.3447204968944099\n",
      "t_f:  0.4145695739864307 , v_f:  0.4080882352941176\n",
      "////////\n"
     ]
    },
    {
     "name": "stderr",
     "output_type": "stream",
     "text": [
      "\r",
      "Iterations:   9%|██▉                               | 26/300 [00:28<04:22,  1.04it/s]"
     ]
    },
    {
     "name": "stdout",
     "output_type": "stream",
     "text": [
      "Epoch  25 , loss 89.93221073524624\n",
      "Epoch  26 , loss 89.45709004121669\n"
     ]
    },
    {
     "name": "stderr",
     "output_type": "stream",
     "text": [
      "\r",
      "Iterations:   9%|███                               | 27/300 [00:29<04:45,  1.05s/it]"
     ]
    },
    {
     "name": "stdout",
     "output_type": "stream",
     "text": [
      "Epoch:  26\n",
      "t_loss:  89.45709004121669 , v_loss:  0.6363559166590372\n",
      "t_acc:  0.6956115779645191 , v_acc:  0.6894409937888198\n",
      "t_recall:  0.5014376689861517 , v_recall:  0.5\n",
      "t_prec:  0.5981111458008117 , v_prec:  0.3447204968944099\n",
      "t_f:  0.41513796302224715 , v_f:  0.4080882352941176\n",
      "////////\n"
     ]
    },
    {
     "name": "stderr",
     "output_type": "stream",
     "text": [
      "\r",
      "Iterations:   9%|███▏                              | 28/300 [00:30<04:21,  1.04it/s]"
     ]
    },
    {
     "name": "stdout",
     "output_type": "stream",
     "text": [
      "Epoch  27 , loss 88.97998226390166\n",
      "Epoch  28 , loss 88.49317737654144\n"
     ]
    },
    {
     "name": "stderr",
     "output_type": "stream",
     "text": [
      "\r",
      "Iterations:  10%|███▎                              | 29/300 [00:31<04:43,  1.05s/it]"
     ]
    },
    {
     "name": "stdout",
     "output_type": "stream",
     "text": [
      "Epoch:  28\n",
      "t_loss:  88.49317737654144 , v_loss:  0.6385563015937805\n",
      "t_acc:  0.6974789915966386 , v_acc:  0.6894409937888198\n",
      "t_recall:  0.5039300860542677 , v_recall:  0.5\n",
      "t_prec:  0.7236410496719775 , v_prec:  0.3447204968944099\n",
      "t_f:  0.4196869355809753 , v_f:  0.4080882352941176\n",
      "////////\n"
     ]
    },
    {
     "name": "stderr",
     "output_type": "stream",
     "text": [
      "\r",
      "Iterations:  10%|███▍                              | 30/300 [00:32<04:19,  1.04it/s]"
     ]
    },
    {
     "name": "stdout",
     "output_type": "stream",
     "text": [
      "Epoch  29 , loss 88.02227020263672\n",
      "Epoch  30 , loss 87.54773547602635\n"
     ]
    },
    {
     "name": "stderr",
     "output_type": "stream",
     "text": [
      "\r",
      "Iterations:  10%|███▌                              | 31/300 [00:33<04:45,  1.06s/it]"
     ]
    },
    {
     "name": "stdout",
     "output_type": "stream",
     "text": [
      "Epoch:  30\n",
      "t_loss:  87.54773547602635 , v_loss:  0.6387055118878683\n",
      "t_acc:  0.6956115779645191 , v_acc:  0.6894409937888198\n",
      "t_recall:  0.500862601391691 , v_recall:  0.5\n",
      "t_prec:  0.5979887745556596 , v_prec:  0.3447204968944099\n",
      "t_f:  0.4131921101460188 , v_f:  0.4080882352941176\n",
      "////////\n"
     ]
    },
    {
     "name": "stderr",
     "output_type": "stream",
     "text": [
      "\r",
      "Iterations:  11%|███▋                              | 32/300 [00:34<04:23,  1.02it/s]"
     ]
    },
    {
     "name": "stdout",
     "output_type": "stream",
     "text": [
      "Epoch  31 , loss 87.07110745299096\n",
      "Epoch  32 , loss 86.59947698256549\n"
     ]
    },
    {
     "name": "stderr",
     "output_type": "stream",
     "text": [
      "\r",
      "Iterations:  11%|███▋                              | 33/300 [00:35<04:45,  1.07s/it]"
     ]
    },
    {
     "name": "stdout",
     "output_type": "stream",
     "text": [
      "Epoch:  32\n",
      "t_loss:  86.59947698256549 , v_loss:  0.6391839186350504\n",
      "t_acc:  0.6949891067538126 , v_acc:  0.6894409937888198\n",
      "t_recall:  0.4998401065041655 , v_recall:  0.5\n",
      "t_prec:  0.47277189155500154 , v_prec:  0.3447204968944099\n",
      "t_f:  0.41101098240032563 , v_f:  0.4080882352941176\n",
      "////////\n"
     ]
    },
    {
     "name": "stderr",
     "output_type": "stream",
     "text": [
      "\r",
      "Iterations:  11%|███▊                              | 34/300 [00:36<04:19,  1.03it/s]"
     ]
    },
    {
     "name": "stdout",
     "output_type": "stream",
     "text": [
      "Epoch  33 , loss 86.12471756280637\n",
      "Epoch  34 , loss 85.6572904399797\n"
     ]
    },
    {
     "name": "stderr",
     "output_type": "stream",
     "text": [
      "\r",
      "Iterations:  12%|███▉                              | 35/300 [00:37<04:40,  1.06s/it]"
     ]
    },
    {
     "name": "stdout",
     "output_type": "stream",
     "text": [
      "Epoch:  34\n",
      "t_loss:  85.6572904399797 , v_loss:  0.6395617226759592\n",
      "t_acc:  0.6956115779645191 , v_acc:  0.6894409937888198\n",
      "t_recall:  0.5005750675944607 , v_recall:  0.5\n",
      "t_prec:  0.5979277033343721 , v_prec:  0.3447204968944099\n",
      "t_f:  0.4122130008035903 , v_f:  0.4080882352941176\n",
      "////////\n"
     ]
    },
    {
     "name": "stderr",
     "output_type": "stream",
     "text": [
      "\r",
      "Iterations:  12%|████                              | 36/300 [00:38<04:16,  1.03it/s]"
     ]
    },
    {
     "name": "stdout",
     "output_type": "stream",
     "text": [
      "Epoch  35 , loss 85.18661424225452\n",
      "Epoch  36 , loss 84.72061037549786\n"
     ]
    },
    {
     "name": "stderr",
     "output_type": "stream",
     "text": [
      "\r",
      "Iterations:  12%|████▏                             | 37/300 [00:39<04:37,  1.05s/it]"
     ]
    },
    {
     "name": "stdout",
     "output_type": "stream",
     "text": [
      "Epoch:  36\n",
      "t_loss:  84.72061037549786 , v_loss:  0.636985977490743\n",
      "t_acc:  0.6959228135698724 , v_acc:  0.6894409937888198\n",
      "t_recall:  0.5013738488354538 , v_recall:  0.5\n",
      "t_prec:  0.6338116032439176 , v_prec:  0.3447204968944099\n",
      "t_f:  0.4142796235015772 , v_f:  0.4080882352941176\n",
      "////////\n"
     ]
    },
    {
     "name": "stderr",
     "output_type": "stream",
     "text": [
      "\r",
      "Iterations:  13%|████▎                             | 38/300 [00:40<04:12,  1.04it/s]"
     ]
    },
    {
     "name": "stdout",
     "output_type": "stream",
     "text": [
      "Epoch  37 , loss 84.2572208479339\n",
      "Epoch  38 , loss 83.79710193708831\n"
     ]
    },
    {
     "name": "stderr",
     "output_type": "stream",
     "text": [
      "\r",
      "Iterations:  13%|████▍                             | 39/300 [00:41<04:35,  1.06s/it]"
     ]
    },
    {
     "name": "stdout",
     "output_type": "stream",
     "text": [
      "Epoch:  38\n",
      "t_loss:  83.79710193708831 , v_loss:  0.6345586180686951\n",
      "t_acc:  0.6953003423591659 , v_acc:  0.6894409937888198\n",
      "t_recall:  0.5009264215423889 , v_recall:  0.5\n",
      "t_prec:  0.5702247191011236 , v_prec:  0.3447204968944099\n",
      "t_f:  0.4140545234770159 , v_f:  0.4080882352941176\n",
      "////////\n"
     ]
    },
    {
     "name": "stderr",
     "output_type": "stream",
     "text": [
      "\r",
      "Iterations:  13%|████▌                             | 40/300 [00:42<04:10,  1.04it/s]"
     ]
    },
    {
     "name": "stdout",
     "output_type": "stream",
     "text": [
      "Epoch  39 , loss 83.33957657159543\n",
      "Epoch  40 , loss 82.89063038545497\n"
     ]
    },
    {
     "name": "stderr",
     "output_type": "stream",
     "text": [
      "\r",
      "Iterations:  14%|████▋                             | 41/300 [00:43<04:33,  1.05s/it]"
     ]
    },
    {
     "name": "stdout",
     "output_type": "stream",
     "text": [
      "Epoch:  40\n",
      "t_loss:  82.89063038545497 , v_loss:  0.6301696499188741\n",
      "t_acc:  0.6962340491752257 , v_acc:  0.6894409937888198\n",
      "t_recall:  0.5018850962792166 , v_recall:  0.5\n",
      "t_prec:  0.6607059282371295 , v_prec:  0.3447204968944099\n",
      "t_f:  0.4153651115618661 , v_f:  0.4080882352941176\n",
      "////////\n"
     ]
    },
    {
     "name": "stderr",
     "output_type": "stream",
     "text": [
      "\r",
      "Iterations:  14%|████▊                             | 42/300 [00:44<04:08,  1.04it/s]"
     ]
    },
    {
     "name": "stdout",
     "output_type": "stream",
     "text": [
      "Epoch  41 , loss 82.43962725471047\n",
      "Epoch  42 , loss 81.98529366885914\n"
     ]
    },
    {
     "name": "stderr",
     "output_type": "stream",
     "text": [
      "\r",
      "Iterations:  14%|████▊                             | 43/300 [00:45<04:29,  1.05s/it]"
     ]
    },
    {
     "name": "stdout",
     "output_type": "stream",
     "text": [
      "Epoch:  42\n",
      "t_loss:  81.98529366885914 , v_loss:  0.6284224092960358\n",
      "t_acc:  0.6959228135698724 , v_acc:  0.6894409937888198\n",
      "t_recall:  0.5010863150382235 , v_recall:  0.5\n",
      "t_prec:  0.6480361596009975 , v_prec:  0.3447204968944099\n",
      "t_f:  0.41330358142435736 , v_f:  0.4080882352941176\n",
      "////////\n"
     ]
    },
    {
     "name": "stderr",
     "output_type": "stream",
     "text": [
      "\r",
      "Iterations:  15%|████▉                             | 44/300 [00:46<04:17,  1.00s/it]"
     ]
    },
    {
     "name": "stdout",
     "output_type": "stream",
     "text": [
      "Epoch  43 , loss 81.52750860476026\n",
      "Epoch  44 , loss 81.08350925819546\n"
     ]
    },
    {
     "name": "stderr",
     "output_type": "stream",
     "text": [
      "\r",
      "Iterations:  15%|█████                             | 45/300 [00:47<04:36,  1.09s/it]"
     ]
    },
    {
     "name": "stdout",
     "output_type": "stream",
     "text": [
      "Epoch:  44\n",
      "t_loss:  81.08350925819546 , v_loss:  0.6257572670777639\n",
      "t_acc:  0.6959228135698724 , v_acc:  0.6894409937888198\n",
      "t_recall:  0.5016613826326841 , v_recall:  0.5\n",
      "t_prec:  0.6259363295880149 , v_prec:  0.3447204968944099\n",
      "t_f:  0.41525155202966746 , v_f:  0.4080882352941176\n",
      "////////\n"
     ]
    },
    {
     "name": "stderr",
     "output_type": "stream",
     "text": [
      "\r",
      "Iterations:  15%|█████▏                            | 46/300 [00:48<04:16,  1.01s/it]"
     ]
    },
    {
     "name": "stdout",
     "output_type": "stream",
     "text": [
      "Epoch  45 , loss 80.6371795055913\n",
      "Epoch  46 , loss 80.18193443148743\n"
     ]
    },
    {
     "name": "stderr",
     "output_type": "stream",
     "text": [
      "\r",
      "Iterations:  16%|█████▎                            | 47/300 [00:49<04:32,  1.08s/it]"
     ]
    },
    {
     "name": "stdout",
     "output_type": "stream",
     "text": [
      "Epoch:  46\n",
      "t_loss:  80.18193443148743 , v_loss:  0.6211238404115041\n",
      "t_acc:  0.6956115779645191 , v_acc:  0.6894409937888198\n",
      "t_recall:  0.500862601391691 , v_recall:  0.5\n",
      "t_prec:  0.5979887745556596 , v_prec:  0.3447204968944099\n",
      "t_f:  0.4131921101460188 , v_f:  0.4080882352941176\n",
      "////////\n"
     ]
    },
    {
     "name": "stderr",
     "output_type": "stream",
     "text": [
      "\r",
      "Iterations:  16%|█████▍                            | 48/300 [00:50<04:06,  1.02it/s]"
     ]
    },
    {
     "name": "stdout",
     "output_type": "stream",
     "text": [
      "Epoch  47 , loss 79.74068136776195\n",
      "Epoch  48 , loss 79.28839814429189\n"
     ]
    },
    {
     "name": "stderr",
     "output_type": "stream",
     "text": [
      "\r",
      "Iterations:  16%|█████▌                            | 49/300 [00:51<04:25,  1.06s/it]"
     ]
    },
    {
     "name": "stdout",
     "output_type": "stream",
     "text": [
      "Epoch:  48\n",
      "t_loss:  79.28839814429189 , v_loss:  0.6156105597813925\n",
      "t_acc:  0.6962340491752257 , v_acc:  0.6894409937888198\n",
      "t_recall:  0.5015975624819863 , v_recall:  0.5\n",
      "t_prec:  0.6814780168381664 , v_prec:  0.3447204968944099\n",
      "t_f:  0.4143921262806895 , v_f:  0.4080882352941176\n",
      "////////\n"
     ]
    },
    {
     "name": "stderr",
     "output_type": "stream",
     "text": [
      "\r",
      "Iterations:  17%|█████▋                            | 50/300 [00:52<03:59,  1.04it/s]"
     ]
    },
    {
     "name": "stdout",
     "output_type": "stream",
     "text": [
      "Epoch  49 , loss 78.8451753504136\n",
      "Epoch  50 , loss 78.39832919251685\n"
     ]
    },
    {
     "name": "stderr",
     "output_type": "stream",
     "text": [
      "\r",
      "Iterations:  17%|█████▊                            | 51/300 [00:53<04:21,  1.05s/it]"
     ]
    },
    {
     "name": "stdout",
     "output_type": "stream",
     "text": [
      "Epoch:  50\n",
      "t_loss:  78.39832919251685 , v_loss:  0.613645613193512\n",
      "t_acc:  0.6956115779645191 , v_acc:  0.6894409937888198\n",
      "t_recall:  0.5014376689861517 , v_recall:  0.5\n",
      "t_prec:  0.5981111458008117 , v_prec:  0.3447204968944099\n",
      "t_f:  0.41513796302224715 , v_f:  0.4080882352941176\n",
      "////////\n"
     ]
    },
    {
     "name": "stderr",
     "output_type": "stream",
     "text": [
      "\r",
      "Iterations:  17%|█████▉                            | 52/300 [00:54<03:59,  1.03it/s]"
     ]
    },
    {
     "name": "stdout",
     "output_type": "stream",
     "text": [
      "Epoch  51 , loss 77.96166558359184\n",
      "Epoch  52 , loss 77.51777933158127\n"
     ]
    },
    {
     "name": "stderr",
     "output_type": "stream",
     "text": [
      "\r",
      "Iterations:  18%|██████                            | 53/300 [00:55<04:22,  1.06s/it]"
     ]
    },
    {
     "name": "stdout",
     "output_type": "stream",
     "text": [
      "Epoch:  52\n",
      "t_loss:  77.51777933158127 , v_loss:  0.6095130145549774\n",
      "t_acc:  0.6965452847805789 , v_acc:  0.6894409937888198\n",
      "t_recall:  0.5032589451146704 , v_recall:  0.5\n",
      "t_prec:  0.6484990619136961 , v_prec:  0.3447204968944099\n",
      "t_f:  0.41933401285531013 , v_f:  0.4080882352941176\n",
      "////////\n"
     ]
    },
    {
     "name": "stderr",
     "output_type": "stream",
     "text": [
      "\r",
      "Iterations:  18%|██████                            | 54/300 [00:56<04:02,  1.01it/s]"
     ]
    },
    {
     "name": "stdout",
     "output_type": "stream",
     "text": [
      "Epoch  53 , loss 77.07473111620136\n",
      "Epoch  54 , loss 76.64125958610984\n"
     ]
    },
    {
     "name": "stderr",
     "output_type": "stream",
     "text": [
      "\r",
      "Iterations:  18%|██████▏                           | 55/300 [00:58<04:26,  1.09s/it]"
     ]
    },
    {
     "name": "stdout",
     "output_type": "stream",
     "text": [
      "Epoch:  54\n",
      "t_loss:  76.64125958610984 , v_loss:  0.6032116413116455\n",
      "t_acc:  0.6943666355431062 , v_acc:  0.6894409937888198\n",
      "t_recall:  0.5002552806027916 , v_recall:  0.5\n",
      "t_prec:  0.514526710402999 , v_prec:  0.3447204968944099\n",
      "t_f:  0.4137166365643187 , v_f:  0.4080882352941176\n",
      "////////\n"
     ]
    },
    {
     "name": "stderr",
     "output_type": "stream",
     "text": [
      "\r",
      "Iterations:  19%|██████▎                           | 56/300 [00:58<04:02,  1.00it/s]"
     ]
    },
    {
     "name": "stdout",
     "output_type": "stream",
     "text": [
      "Epoch  55 , loss 76.21513291901233\n",
      "Epoch  56 , loss 75.78345594219132\n"
     ]
    },
    {
     "name": "stderr",
     "output_type": "stream",
     "text": [
      "\r",
      "Iterations:  19%|██████▍                           | 57/300 [01:00<04:24,  1.09s/it]"
     ]
    },
    {
     "name": "stdout",
     "output_type": "stream",
     "text": [
      "Epoch:  56\n",
      "t_loss:  75.78345594219132 , v_loss:  0.602509876092275\n",
      "t_acc:  0.6965452847805789 , v_acc:  0.6894409937888198\n",
      "t_recall:  0.50297141131744 , v_recall:  0.5\n",
      "t_prec:  0.6561298076923077 , v_prec:  0.3447204968944099\n",
      "t_f:  0.4183762417414505 , v_f:  0.4080882352941176\n",
      "////////\n"
     ]
    },
    {
     "name": "stderr",
     "output_type": "stream",
     "text": [
      "\r",
      "Iterations:  19%|██████▌                           | 58/300 [01:00<03:59,  1.01it/s]"
     ]
    },
    {
     "name": "stdout",
     "output_type": "stream",
     "text": [
      "Epoch  57 , loss 75.35413809383617\n",
      "Epoch  58 , loss 74.92890765620213\n"
     ]
    },
    {
     "name": "stderr",
     "output_type": "stream",
     "text": [
      "\r",
      "Iterations:  20%|██████▋                           | 59/300 [01:02<04:24,  1.10s/it]"
     ]
    },
    {
     "name": "stdout",
     "output_type": "stream",
     "text": [
      "Epoch:  58\n",
      "t_loss:  74.92890765620213 , v_loss:  0.6016132831573486\n",
      "t_acc:  0.6977902272019919 , v_acc:  0.6956521739130435\n",
      "t_recall:  0.5047288672952608 , v_recall:  0.51\n",
      "t_prec:  0.7154784240150094 , v_prec:  0.846875\n",
      "t_f:  0.4217162322897499 , v_f:  0.42920193907821425\n",
      "////////\n"
     ]
    },
    {
     "name": "stderr",
     "output_type": "stream",
     "text": [
      "\r",
      "Iterations:  20%|██████▊                           | 60/300 [01:03<03:59,  1.00it/s]"
     ]
    },
    {
     "name": "stdout",
     "output_type": "stream",
     "text": [
      "Epoch  59 , loss 74.50452916762409\n",
      "Epoch  60 , loss 74.0778008255304\n"
     ]
    },
    {
     "name": "stderr",
     "output_type": "stream",
     "text": [
      "\r",
      "Iterations:  20%|██████▉                           | 61/300 [01:04<04:30,  1.13s/it]"
     ]
    },
    {
     "name": "stdout",
     "output_type": "stream",
     "text": [
      "Epoch:  60\n",
      "t_loss:  74.0778008255304 , v_loss:  0.5953182876110077\n",
      "t_acc:  0.6993464052287581 , v_acc:  0.6956521739130435\n",
      "t_recall:  0.5078601721085354 , v_recall:  0.51\n",
      "t_prec:  0.7244825964252117 , v_prec:  0.846875\n",
      "t_f:  0.42891539928991573 , v_f:  0.42920193907821425\n",
      "////////\n"
     ]
    },
    {
     "name": "stderr",
     "output_type": "stream",
     "text": [
      "\r",
      "Iterations:  21%|███████                           | 62/300 [01:05<04:04,  1.03s/it]"
     ]
    },
    {
     "name": "stdout",
     "output_type": "stream",
     "text": [
      "Epoch  61 , loss 73.6570053100586\n",
      "Epoch  62 , loss 73.24286606732537\n"
     ]
    },
    {
     "name": "stderr",
     "output_type": "stream",
     "text": [
      "\r",
      "Iterations:  21%|███████▏                          | 63/300 [01:06<04:28,  1.13s/it]"
     ]
    },
    {
     "name": "stdout",
     "output_type": "stream",
     "text": [
      "Epoch:  62\n",
      "t_loss:  73.24286606732537 , v_loss:  0.5909855564435323\n",
      "t_acc:  0.6981014628073452 , v_acc:  0.6894409937888198\n",
      "t_recall:  0.5049525809417933 , v_recall:  0.5054954954954954\n",
      "t_prec:  0.7417161613004064 , v_prec:  0.5959119496855345\n",
      "t_f:  0.4218358572666722 , v_f:  0.4266381766381766\n",
      "////////\n"
     ]
    },
    {
     "name": "stderr",
     "output_type": "stream",
     "text": [
      "\r",
      "Iterations:  21%|███████▎                          | 64/300 [01:07<04:03,  1.03s/it]"
     ]
    },
    {
     "name": "stdout",
     "output_type": "stream",
     "text": [
      "Epoch  63 , loss 72.82853713690066\n",
      "Epoch  64 , loss 72.40643400304458\n"
     ]
    },
    {
     "name": "stderr",
     "output_type": "stream",
     "text": [
      "\r",
      "Iterations:  22%|███████▎                          | 65/300 [01:08<04:23,  1.12s/it]"
     ]
    },
    {
     "name": "stdout",
     "output_type": "stream",
     "text": [
      "Epoch:  64\n",
      "t_loss:  72.40643400304458 , v_loss:  0.5901299168666204\n",
      "t_acc:  0.6993464052287581 , v_acc:  0.6956521739130435\n",
      "t_recall:  0.5078601721085354 , v_recall:  0.5154954954954954\n",
      "t_prec:  0.7244825964252117 , v_prec:  0.6814345991561181\n",
      "t_f:  0.42891539928991573 , v_f:  0.44665778214210566\n",
      "////////\n"
     ]
    },
    {
     "name": "stderr",
     "output_type": "stream",
     "text": [
      "\r",
      "Iterations:  22%|███████▍                          | 66/300 [01:09<04:01,  1.03s/it]"
     ]
    },
    {
     "name": "stdout",
     "output_type": "stream",
     "text": [
      "Epoch  65 , loss 71.98261919208602\n",
      "Epoch  66 , loss 71.55906243417778\n"
     ]
    },
    {
     "name": "stderr",
     "output_type": "stream",
     "text": [
      "\r",
      "Iterations:  22%|███████▌                          | 67/300 [01:10<04:20,  1.12s/it]"
     ]
    },
    {
     "name": "stdout",
     "output_type": "stream",
     "text": [
      "Epoch:  66\n",
      "t_loss:  71.55906243417778 , v_loss:  0.5869701653718948\n",
      "t_acc:  0.7009025832555245 , v_acc:  0.7018633540372671\n",
      "t_recall:  0.5115665445162707 , v_recall:  0.5254954954954955\n",
      "t_prec:  0.7151482401797263 , v_prec:  0.7253184713375795\n",
      "t_f:  0.4378003938337614 , v_f:  0.4660033167495854\n",
      "////////\n"
     ]
    },
    {
     "name": "stderr",
     "output_type": "stream",
     "text": [
      "\r",
      "Iterations:  23%|███████▋                          | 68/300 [01:11<03:55,  1.02s/it]"
     ]
    },
    {
     "name": "stdout",
     "output_type": "stream",
     "text": [
      "Epoch  67 , loss 71.1484956928328\n",
      "Epoch  68 , loss 70.72786802404067\n"
     ]
    },
    {
     "name": "stderr",
     "output_type": "stream",
     "text": [
      "\r",
      "Iterations:  23%|███████▊                          | 69/300 [01:13<04:16,  1.11s/it]"
     ]
    },
    {
     "name": "stdout",
     "output_type": "stream",
     "text": [
      "Epoch:  68\n",
      "t_loss:  70.72786802404067 , v_loss:  0.5860070089499155\n",
      "t_acc:  0.6984126984126984 , v_acc:  0.6956521739130435\n",
      "t_recall:  0.5092017677495505 , v_recall:  0.5154954954954954\n",
      "t_prec:  0.6546573678221019 , v_prec:  0.6814345991561181\n",
      "t_f:  0.43492779051180885 , v_f:  0.44665778214210566\n",
      "////////\n"
     ]
    },
    {
     "name": "stderr",
     "output_type": "stream",
     "text": [
      "\r",
      "Iterations:  23%|███████▉                          | 70/300 [01:13<03:53,  1.02s/it]"
     ]
    },
    {
     "name": "stdout",
     "output_type": "stream",
     "text": [
      "Epoch  69 , loss 70.31015373678768\n",
      "Epoch  70 , loss 69.89510734408509\n"
     ]
    },
    {
     "name": "stderr",
     "output_type": "stream",
     "text": [
      "\r",
      "Iterations:  24%|████████                          | 71/300 [01:15<04:16,  1.12s/it]"
     ]
    },
    {
     "name": "stdout",
     "output_type": "stream",
     "text": [
      "Epoch:  70\n",
      "t_loss:  69.89510734408509 , v_loss:  0.5845970114072164\n",
      "t_acc:  0.7005913476501712 , v_acc:  0.7018633540372671\n",
      "t_recall:  0.5119178984641989 , v_recall:  0.5254954954954955\n",
      "t_prec:  0.695600756859035 , v_prec:  0.7253184713375795\n",
      "t_f:  0.43945615982241953 , v_f:  0.4660033167495854\n",
      "////////\n"
     ]
    },
    {
     "name": "stderr",
     "output_type": "stream",
     "text": [
      "\r",
      "Iterations:  24%|████████▏                         | 72/300 [01:16<03:58,  1.05s/it]"
     ]
    },
    {
     "name": "stdout",
     "output_type": "stream",
     "text": [
      "Epoch  71 , loss 69.47102326037837\n",
      "Epoch  72 , loss 69.05797202914368\n"
     ]
    },
    {
     "name": "stderr",
     "output_type": "stream",
     "text": [
      "\r",
      "Iterations:  24%|████████▎                         | 73/300 [01:17<04:13,  1.12s/it]"
     ]
    },
    {
     "name": "stdout",
     "output_type": "stream",
     "text": [
      "Epoch:  72\n",
      "t_loss:  69.05797202914368 , v_loss:  0.5817977786064148\n",
      "t_acc:  0.699035169623405 , v_acc:  0.7080745341614907\n",
      "t_recall:  0.5082115260564637 , v_recall:  0.540990990990991\n",
      "t_prec:  0.6943878877144343 , v_prec:  0.711038961038961\n",
      "t_f:  0.4306378692939789 , v_f:  0.4990400529625952\n",
      "////////\n"
     ]
    },
    {
     "name": "stderr",
     "output_type": "stream",
     "text": [
      "\r",
      "Iterations:  25%|████████▍                         | 74/300 [01:18<03:53,  1.03s/it]"
     ]
    },
    {
     "name": "stdout",
     "output_type": "stream",
     "text": [
      "Epoch  73 , loss 68.63839796477673\n",
      "Epoch  74 , loss 68.22961141548905\n"
     ]
    },
    {
     "name": "stderr",
     "output_type": "stream",
     "text": [
      "\r",
      "Iterations:  25%|████████▌                         | 75/300 [01:19<04:09,  1.11s/it]"
     ]
    },
    {
     "name": "stdout",
     "output_type": "stream",
     "text": [
      "Epoch:  74\n",
      "t_loss:  68.22961141548905 , v_loss:  0.5810027122497559\n",
      "t_acc:  0.7021475256769374 , v_acc:  0.7080745341614907\n",
      "t_recall:  0.5124613991024005 , v_recall:  0.5464864864864865\n",
      "t_prec:  0.7595626072041166 , v_prec:  0.6885964912280702\n",
      "t_f:  0.4383405804844768 , v_f:  0.5123413030869368\n",
      "////////\n"
     ]
    },
    {
     "name": "stderr",
     "output_type": "stream",
     "text": [
      "\r",
      "Iterations:  25%|████████▌                         | 76/300 [01:20<03:51,  1.03s/it]"
     ]
    },
    {
     "name": "stdout",
     "output_type": "stream",
     "text": [
      "Epoch  75 , loss 67.81427675134995\n",
      "Epoch  76 , loss 67.40509556789024\n"
     ]
    },
    {
     "name": "stderr",
     "output_type": "stream",
     "text": [
      "\r",
      "Iterations:  26%|████████▋                         | 77/300 [01:21<04:07,  1.11s/it]"
     ]
    },
    {
     "name": "stdout",
     "output_type": "stream",
     "text": [
      "Epoch:  76\n",
      "t_loss:  67.40509556789024 , v_loss:  0.5789263099431992\n",
      "t_acc:  0.6987239340180517 , v_acc:  0.7080745341614907\n",
      "t_recall:  0.5097130151933132 , v_recall:  0.5464864864864865\n",
      "t_prec:  0.6594134342478714 , v_prec:  0.6885964912280702\n",
      "t_f:  0.4359600443951166 , v_f:  0.5123413030869368\n",
      "////////\n"
     ]
    },
    {
     "name": "stderr",
     "output_type": "stream",
     "text": [
      "\r",
      "Iterations:  26%|████████▊                         | 78/300 [01:22<03:51,  1.04s/it]"
     ]
    },
    {
     "name": "stdout",
     "output_type": "stream",
     "text": [
      "Epoch  77 , loss 66.9805773566751\n",
      "Epoch  78 , loss 66.57391147987515\n"
     ]
    },
    {
     "name": "stderr",
     "output_type": "stream",
     "text": [
      "\r",
      "Iterations:  26%|████████▉                         | 79/300 [01:23<04:07,  1.12s/it]"
     ]
    },
    {
     "name": "stdout",
     "output_type": "stream",
     "text": [
      "Epoch:  78\n",
      "t_loss:  66.57391147987515 , v_loss:  0.5765032917261124\n",
      "t_acc:  0.7005913476501712 , v_acc:  0.7080745341614907\n",
      "t_recall:  0.5116303646669687 , v_recall:  0.5464864864864865\n",
      "t_prec:  0.7002994011976047 , v_prec:  0.6885964912280702\n",
      "t_f:  0.4385626038990479 , v_f:  0.5123413030869368\n",
      "////////\n"
     ]
    },
    {
     "name": "stderr",
     "output_type": "stream",
     "text": [
      "\r",
      "Iterations:  27%|█████████                         | 80/300 [01:24<03:50,  1.05s/it]"
     ]
    },
    {
     "name": "stdout",
     "output_type": "stream",
     "text": [
      "Epoch  79 , loss 66.15727847230201\n",
      "Epoch  80 , loss 65.74695691875382\n"
     ]
    },
    {
     "name": "stderr",
     "output_type": "stream",
     "text": [
      "\r",
      "Iterations:  27%|█████████▏                        | 81/300 [01:26<04:09,  1.14s/it]"
     ]
    },
    {
     "name": "stdout",
     "output_type": "stream",
     "text": [
      "Epoch:  80\n",
      "t_loss:  65.74695691875382 , v_loss:  0.5779787302017212\n",
      "t_acc:  0.7015250544662309 , v_acc:  0.7018633540372671\n",
      "t_recall:  0.5137391745927177 , v_recall:  0.5364864864864866\n",
      "t_prec:  0.7018218841144608 , v_prec:  0.6654411764705883\n",
      "t_f:  0.44341526636892 , v_f:  0.4952978056426333\n",
      "////////\n"
     ]
    },
    {
     "name": "stderr",
     "output_type": "stream",
     "text": [
      "\r",
      "Iterations:  27%|█████████▎                        | 82/300 [01:26<03:51,  1.06s/it]"
     ]
    },
    {
     "name": "stdout",
     "output_type": "stream",
     "text": [
      "Epoch  81 , loss 65.33723030838311\n",
      "Epoch  82 , loss 64.93531485164867\n"
     ]
    },
    {
     "name": "stderr",
     "output_type": "stream",
     "text": [
      "\r",
      "Iterations:  28%|█████████▍                        | 83/300 [01:28<04:07,  1.14s/it]"
     ]
    },
    {
     "name": "stdout",
     "output_type": "stream",
     "text": [
      "Epoch:  82\n",
      "t_loss:  64.93531485164867 , v_loss:  0.5745806197325388\n",
      "t_acc:  0.7005913476501712 , v_acc:  0.7142857142857143\n",
      "t_recall:  0.5122054322614293 , v_recall:  0.5564864864864865\n",
      "t_prec:  0.6913350928024327 , v_prec:  0.707615894039735\n",
      "t_f:  0.4403460653194488 , v_f:  0.528880407124682\n",
      "////////\n"
     ]
    },
    {
     "name": "stderr",
     "output_type": "stream",
     "text": [
      "\r",
      "Iterations:  28%|█████████▌                        | 84/300 [01:29<03:47,  1.06s/it]"
     ]
    },
    {
     "name": "stdout",
     "output_type": "stream",
     "text": [
      "Epoch  83 , loss 64.52729572969325\n",
      "Epoch  84 , loss 64.12799977321251\n"
     ]
    },
    {
     "name": "stderr",
     "output_type": "stream",
     "text": [
      "\r",
      "Iterations:  28%|█████████▋                        | 85/300 [01:30<04:01,  1.12s/it]"
     ]
    },
    {
     "name": "stdout",
     "output_type": "stream",
     "text": [
      "Epoch:  84\n",
      "t_loss:  64.12799977321251 , v_loss:  0.5733915567398071\n",
      "t_acc:  0.7002801120448179 , v_acc:  0.7204968944099379\n",
      "t_recall:  0.5119817186148968 , v_recall:  0.5664864864864865\n",
      "t_prec:  0.6837121212121212 , v_prec:  0.7236363636363636\n",
      "t_f:  0.4402083560615559 , v_f:  0.5449406444318825\n",
      "////////\n"
     ]
    },
    {
     "name": "stderr",
     "output_type": "stream",
     "text": [
      "\r",
      "Iterations:  29%|█████████▋                        | 86/300 [01:31<03:50,  1.08s/it]"
     ]
    },
    {
     "name": "stdout",
     "output_type": "stream",
     "text": [
      "Epoch  85 , loss 63.707053988587624\n",
      "Epoch  86 , loss 63.30286205516142\n"
     ]
    },
    {
     "name": "stderr",
     "output_type": "stream",
     "text": [
      "\r",
      "Iterations:  29%|█████████▊                        | 87/300 [01:32<04:03,  1.14s/it]"
     ]
    },
    {
     "name": "stdout",
     "output_type": "stream",
     "text": [
      "Epoch:  86\n",
      "t_loss:  63.30286205516142 , v_loss:  0.5749896566073099\n",
      "t_acc:  0.6981014628073452 , v_acc:  0.7080745341614907\n",
      "t_recall:  0.5084029865085574 , v_recall:  0.5464864864864865\n",
      "t_prec:  0.6522378781599669 , v_prec:  0.6885964912280702\n",
      "t_f:  0.4329889967543336 , v_f:  0.5123413030869368\n",
      "////////\n"
     ]
    },
    {
     "name": "stderr",
     "output_type": "stream",
     "text": [
      "\r",
      "Iterations:  29%|█████████▉                        | 88/300 [01:33<03:49,  1.08s/it]"
     ]
    },
    {
     "name": "stdout",
     "output_type": "stream",
     "text": [
      "Epoch  87 , loss 62.89185811959061\n",
      "Epoch  88 , loss 62.49164917889763\n"
     ]
    },
    {
     "name": "stderr",
     "output_type": "stream",
     "text": [
      "\r",
      "Iterations:  30%|██████████                        | 89/300 [01:34<04:02,  1.15s/it]"
     ]
    },
    {
     "name": "stdout",
     "output_type": "stream",
     "text": [
      "Epoch:  88\n",
      "t_loss:  62.49164917889763 , v_loss:  0.5744722137848536\n",
      "t_acc:  0.7009025832555245 , v_acc:  0.7142857142857143\n",
      "t_recall:  0.5132917472996528 , v_recall:  0.5564864864864865\n",
      "t_prec:  0.6873984106917104 , v_prec:  0.707615894039735\n",
      "t_f:  0.4431344619518238 , v_f:  0.528880407124682\n",
      "////////\n"
     ]
    },
    {
     "name": "stderr",
     "output_type": "stream",
     "text": [
      "\r",
      "Iterations:  30%|██████████▏                       | 90/300 [01:35<03:44,  1.07s/it]"
     ]
    },
    {
     "name": "stdout",
     "output_type": "stream",
     "text": [
      "Epoch  89 , loss 62.09252346263212\n",
      "Epoch  90 , loss 61.6973741568771\n"
     ]
    },
    {
     "name": "stderr",
     "output_type": "stream",
     "text": [
      "\r",
      "Iterations:  30%|██████████▎                       | 91/300 [01:37<03:57,  1.14s/it]"
     ]
    },
    {
     "name": "stdout",
     "output_type": "stream",
     "text": [
      "Epoch:  90\n",
      "t_loss:  61.6973741568771 , v_loss:  0.5723033050696055\n",
      "t_acc:  0.6996576408341114 , v_acc:  0.7142857142857143\n",
      "t_recall:  0.5112467575246016 , v_recall:  0.5564864864864865\n",
      "t_prec:  0.6724431818181819 , v_prec:  0.707615894039735\n",
      "t_f:  0.4390457565933556 , v_f:  0.528880407124682\n",
      "////////\n"
     ]
    },
    {
     "name": "stderr",
     "output_type": "stream",
     "text": [
      "\r",
      "Iterations:  31%|██████████▍                       | 92/300 [01:37<03:42,  1.07s/it]"
     ]
    },
    {
     "name": "stdout",
     "output_type": "stream",
     "text": [
      "Epoch  91 , loss 61.29314310410444\n",
      "Epoch  92 , loss 60.88821283976237\n"
     ]
    },
    {
     "name": "stderr",
     "output_type": "stream",
     "text": [
      "\r",
      "Iterations:  31%|██████████▌                       | 93/300 [01:39<03:57,  1.15s/it]"
     ]
    },
    {
     "name": "stdout",
     "output_type": "stream",
     "text": [
      "Epoch:  92\n",
      "t_loss:  60.88821283976237 , v_loss:  0.5684068550666174\n",
      "t_acc:  0.6996576408341114 , v_acc:  0.7142857142857143\n",
      "t_recall:  0.5103841561329105 , v_recall:  0.5564864864864865\n",
      "t_prec:  0.6833648393194707 , v_prec:  0.707615894039735\n",
      "t_f:  0.4363622085118706 , v_f:  0.528880407124682\n",
      "////////\n"
     ]
    },
    {
     "name": "stderr",
     "output_type": "stream",
     "text": [
      "\r",
      "Iterations:  31%|██████████▋                       | 94/300 [01:40<03:44,  1.09s/it]"
     ]
    },
    {
     "name": "stdout",
     "output_type": "stream",
     "text": [
      "Epoch  93 , loss 60.49866156484566\n",
      "Epoch  94 , loss 60.1010175966749\n"
     ]
    },
    {
     "name": "stderr",
     "output_type": "stream",
     "text": [
      "\r",
      "Iterations:  32%|██████████▊                       | 95/300 [01:41<04:01,  1.18s/it]"
     ]
    },
    {
     "name": "stdout",
     "output_type": "stream",
     "text": [
      "Epoch:  94\n",
      "t_loss:  60.1010175966749 , v_loss:  0.5678838690121969\n",
      "t_acc:  0.7018362900715842 , v_acc:  0.7142857142857143\n",
      "t_recall:  0.5142504220364804 , v_recall:  0.5564864864864865\n",
      "t_prec:  0.7050355450236967 , v_prec:  0.707615894039735\n",
      "t_f:  0.44443469785575046 , v_f:  0.528880407124682\n",
      "////////\n"
     ]
    },
    {
     "name": "stderr",
     "output_type": "stream",
     "text": [
      "\r",
      "Iterations:  32%|██████████▉                       | 96/300 [01:42<03:43,  1.09s/it]"
     ]
    },
    {
     "name": "stdout",
     "output_type": "stream",
     "text": [
      "Epoch  95 , loss 59.697095235188804\n",
      "Epoch  96 , loss 59.30092112223307\n"
     ]
    },
    {
     "name": "stderr",
     "output_type": "stream",
     "text": [
      "\r",
      "Iterations:  32%|██████████▉                       | 97/300 [01:43<04:00,  1.18s/it]"
     ]
    },
    {
     "name": "stdout",
     "output_type": "stream",
     "text": [
      "Epoch:  96\n",
      "t_loss:  59.30092112223307 , v_loss:  0.5662488639354706\n",
      "t_acc:  0.7052598817304699 , v_acc:  0.7204968944099379\n",
      "t_recall:  0.5192990763234103 , v_recall:  0.5664864864864865\n",
      "t_prec:  0.7428723588001612 , v_prec:  0.7236363636363636\n",
      "t_f:  0.45382733237251904 , v_f:  0.5449406444318825\n",
      "////////\n"
     ]
    },
    {
     "name": "stderr",
     "output_type": "stream",
     "text": [
      "\r",
      "Iterations:  33%|███████████                       | 98/300 [01:45<03:57,  1.18s/it]"
     ]
    },
    {
     "name": "stdout",
     "output_type": "stream",
     "text": [
      "Epoch  97 , loss 58.91130230473537\n",
      "Epoch  98 , loss 58.51030955595129\n"
     ]
    },
    {
     "name": "stderr",
     "output_type": "stream",
     "text": [
      "\r",
      "Iterations:  33%|███████████▏                      | 99/300 [01:46<04:17,  1.28s/it]"
     ]
    },
    {
     "name": "stdout",
     "output_type": "stream",
     "text": [
      "Epoch:  98\n",
      "t_loss:  58.51030955595129 , v_loss:  0.5654791841904322\n",
      "t_acc:  0.7037037037037037 , v_acc:  0.7204968944099379\n",
      "t_recall:  0.5178929742935178 , v_recall:  0.5664864864864865\n",
      "t_prec:  0.7137329908738183 , v_prec:  0.7236363636363636\n",
      "t_f:  0.45222885222885223 , v_f:  0.5449406444318825\n",
      "////////\n"
     ]
    },
    {
     "name": "stderr",
     "output_type": "stream",
     "text": [
      "\r",
      "Iterations:  33%|███████████                      | 100/300 [01:47<04:03,  1.22s/it]"
     ]
    },
    {
     "name": "stdout",
     "output_type": "stream",
     "text": [
      "Epoch  99 , loss 58.117259156470205\n",
      "Epoch  100 , loss 57.726391063017005\n"
     ]
    },
    {
     "name": "stderr",
     "output_type": "stream",
     "text": [
      "\r",
      "Iterations:  34%|███████████                      | 101/300 [01:49<04:22,  1.32s/it]"
     ]
    },
    {
     "name": "stdout",
     "output_type": "stream",
     "text": [
      "Epoch:  100\n",
      "t_loss:  57.726391063017005 , v_loss:  0.5679109940926234\n",
      "t_acc:  0.7005913476501712 , v_acc:  0.7142857142857143\n",
      "t_recall:  0.51278049985589 , v_recall:  0.5564864864864865\n",
      "t_prec:  0.6838862559241705 , v_prec:  0.707615894039735\n",
      "t_f:  0.4421150097465887 , v_f:  0.528880407124682\n",
      "////////\n"
     ]
    },
    {
     "name": "stderr",
     "output_type": "stream",
     "text": [
      "\r",
      "Iterations:  34%|███████████▏                     | 102/300 [01:50<03:59,  1.21s/it]"
     ]
    },
    {
     "name": "stdout",
     "output_type": "stream",
     "text": [
      "Epoch  101 , loss 57.33555341234394\n",
      "Epoch  102 , loss 56.938570508769914\n"
     ]
    },
    {
     "name": "stderr",
     "output_type": "stream",
     "text": [
      "\r",
      "Iterations:  34%|███████████▎                     | 103/300 [01:51<04:17,  1.31s/it]"
     ]
    },
    {
     "name": "stdout",
     "output_type": "stream",
     "text": [
      "Epoch:  102\n",
      "t_loss:  56.938570508769914 , v_loss:  0.5651630014181137\n",
      "t_acc:  0.702769996887644 , v_acc:  0.7204968944099379\n",
      "t_recall:  0.5160716981649991 , v_recall:  0.5664864864864865\n",
      "t_prec:  0.709756388822546 , v_prec:  0.7236363636363636\n",
      "t_f:  0.4483495423160972 , v_f:  0.5449406444318825\n",
      "////////\n"
     ]
    },
    {
     "name": "stderr",
     "output_type": "stream",
     "text": [
      "\r",
      "Iterations:  35%|███████████▍                     | 104/300 [01:52<03:48,  1.16s/it]"
     ]
    },
    {
     "name": "stdout",
     "output_type": "stream",
     "text": [
      "Epoch  103 , loss 56.5446699553845\n",
      "Epoch  104 , loss 56.157384760239545\n"
     ]
    },
    {
     "name": "stderr",
     "output_type": "stream",
     "text": [
      "\r",
      "Iterations:  35%|███████████▌                     | 105/300 [01:53<03:57,  1.22s/it]"
     ]
    },
    {
     "name": "stdout",
     "output_type": "stream",
     "text": [
      "Epoch:  104\n",
      "t_loss:  56.157384760239545 , v_loss:  0.5651856462160746\n",
      "t_acc:  0.7021475256769374 , v_acc:  0.7267080745341615\n",
      "t_recall:  0.5161993384663949 , v_recall:  0.5764864864864865\n",
      "t_prec:  0.6902829874359167 , v_prec:  0.7374161073825503\n",
      "t_f:  0.44978082250120915 , v_f:  0.5605459057071961\n",
      "////////\n"
     ]
    },
    {
     "name": "stderr",
     "output_type": "stream",
     "text": [
      "\r",
      "Iterations:  35%|███████████▋                     | 106/300 [01:54<03:38,  1.13s/it]"
     ]
    },
    {
     "name": "stdout",
     "output_type": "stream",
     "text": [
      "Epoch  105 , loss 55.777660519469016\n",
      "Epoch  106 , loss 55.38425647511202\n"
     ]
    },
    {
     "name": "stderr",
     "output_type": "stream",
     "text": [
      "\r",
      "Iterations:  36%|███████████▊                     | 107/300 [01:56<03:52,  1.21s/it]"
     ]
    },
    {
     "name": "stdout",
     "output_type": "stream",
     "text": [
      "Epoch:  106\n",
      "t_loss:  55.38425647511202 , v_loss:  0.5624873787164688\n",
      "t_acc:  0.7012138188608776 , v_acc:  0.7204968944099379\n",
      "t_recall:  0.5138029947434155 , v_recall:  0.5664864864864865\n",
      "t_prec:  0.6907745810938982 , v_prec:  0.7236363636363636\n",
      "t_f:  0.44415210706372005 , v_f:  0.5449406444318825\n",
      "////////\n"
     ]
    },
    {
     "name": "stderr",
     "output_type": "stream",
     "text": [
      "\r",
      "Iterations:  36%|███████████▉                     | 108/300 [01:57<03:34,  1.12s/it]"
     ]
    },
    {
     "name": "stdout",
     "output_type": "stream",
     "text": [
      "Epoch  107 , loss 55.00302872003294\n",
      "Epoch  108 , loss 54.62346282659792\n"
     ]
    },
    {
     "name": "stderr",
     "output_type": "stream",
     "text": [
      "\r",
      "Iterations:  36%|███████████▉                     | 109/300 [01:58<03:47,  1.19s/it]"
     ]
    },
    {
     "name": "stdout",
     "output_type": "stream",
     "text": [
      "Epoch:  108\n",
      "t_loss:  54.62346282659792 , v_loss:  0.5621580382188162\n",
      "t_acc:  0.702769996887644 , v_acc:  0.7267080745341615\n",
      "t_recall:  0.5175093671511508 , v_recall:  0.5764864864864865\n",
      "t_prec:  0.6928571428571428 , v_prec:  0.7374161073825503\n",
      "t_f:  0.4526341984218089 , v_f:  0.5605459057071961\n",
      "////////\n"
     ]
    },
    {
     "name": "stderr",
     "output_type": "stream",
     "text": [
      "\r",
      "Iterations:  37%|████████████                     | 110/300 [01:59<03:31,  1.11s/it]"
     ]
    },
    {
     "name": "stdout",
     "output_type": "stream",
     "text": [
      "Epoch  109 , loss 54.24736531575521\n",
      "Epoch  110 , loss 53.878919938031366\n"
     ]
    },
    {
     "name": "stderr",
     "output_type": "stream",
     "text": [
      "\r",
      "Iterations:  37%|████████████▏                    | 111/300 [02:00<03:42,  1.18s/it]"
     ]
    },
    {
     "name": "stdout",
     "output_type": "stream",
     "text": [
      "Epoch:  110\n",
      "t_loss:  53.878919938031366 , v_loss:  0.5633403758207957\n",
      "t_acc:  0.6993464052287581 , v_acc:  0.7204968944099379\n",
      "t_recall:  0.5124607128642209 , v_recall:  0.5664864864864865\n",
      "t_prec:  0.6540624010136205 , v_prec:  0.7236363636363636\n",
      "t_f:  0.44330486027010435 , v_f:  0.5449406444318825\n",
      "////////\n"
     ]
    },
    {
     "name": "stderr",
     "output_type": "stream",
     "text": [
      "\r",
      "Iterations:  37%|████████████▎                    | 112/300 [02:01<03:33,  1.14s/it]"
     ]
    },
    {
     "name": "stdout",
     "output_type": "stream",
     "text": [
      "Epoch  111 , loss 53.505726683373545\n",
      "Epoch  112 , loss 53.13361822390089\n"
     ]
    },
    {
     "name": "stderr",
     "output_type": "stream",
     "text": [
      "\r",
      "Iterations:  38%|████████████▍                    | 113/300 [02:03<03:43,  1.20s/it]"
     ]
    },
    {
     "name": "stdout",
     "output_type": "stream",
     "text": [
      "Epoch:  112\n",
      "t_loss:  53.13361822390089 , v_loss:  0.5656514565149943\n",
      "t_acc:  0.7021475256769374 , v_acc:  0.7204968944099379\n",
      "t_recall:  0.5156242708719342 , v_recall:  0.5664864864864865\n",
      "t_prec:  0.6966261730669584 , v_prec:  0.7236363636363636\n",
      "t_f:  0.4480599335591349 , v_f:  0.5449406444318825\n",
      "////////\n"
     ]
    },
    {
     "name": "stderr",
     "output_type": "stream",
     "text": [
      "\r",
      "Iterations:  38%|████████████▌                    | 114/300 [02:03<03:19,  1.07s/it]"
     ]
    },
    {
     "name": "stdout",
     "output_type": "stream",
     "text": [
      "Epoch  113 , loss 52.76397817275103\n",
      "Epoch  114 , loss 52.38477647070791\n"
     ]
    },
    {
     "name": "stderr",
     "output_type": "stream",
     "text": [
      "\r",
      "Iterations:  38%|████████████▋                    | 115/300 [02:05<03:43,  1.21s/it]"
     ]
    },
    {
     "name": "stdout",
     "output_type": "stream",
     "text": [
      "Epoch:  114\n",
      "t_loss:  52.38477647070791 , v_loss:  0.5644531100988388\n",
      "t_acc:  0.6987239340180517 , v_acc:  0.7204968944099379\n",
      "t_recall:  0.511150684179465 , v_recall:  0.5664864864864865\n",
      "t_prec:  0.6482825542063125 , v_prec:  0.7236363636363636\n",
      "t_f:  0.4404010162148157 , v_f:  0.5449406444318825\n",
      "////////\n"
     ]
    },
    {
     "name": "stderr",
     "output_type": "stream",
     "text": [
      "\r",
      "Iterations:  39%|████████████▊                    | 116/300 [02:06<03:28,  1.13s/it]"
     ]
    },
    {
     "name": "stdout",
     "output_type": "stream",
     "text": [
      "Epoch  115 , loss 52.02138429529526\n",
      "Epoch  116 , loss 51.64615257113588\n"
     ]
    },
    {
     "name": "stderr",
     "output_type": "stream",
     "text": [
      "\r",
      "Iterations:  39%|████████████▊                    | 117/300 [02:07<03:48,  1.25s/it]"
     ]
    },
    {
     "name": "stdout",
     "output_type": "stream",
     "text": [
      "Epoch:  116\n",
      "t_loss:  51.64615257113588 , v_loss:  0.5640649000803629\n",
      "t_acc:  0.702769996887644 , v_acc:  0.7267080745341615\n",
      "t_recall:  0.5163592319622294 , v_recall:  0.5764864864864865\n",
      "t_prec:  0.7058754102135989 , v_prec:  0.7374161073825503\n",
      "t_f:  0.44921341332181164 , v_f:  0.5605459057071961\n",
      "////////\n"
     ]
    },
    {
     "name": "stderr",
     "output_type": "stream",
     "text": [
      "\r",
      "Iterations:  39%|████████████▉                    | 118/300 [02:08<03:29,  1.15s/it]"
     ]
    },
    {
     "name": "stdout",
     "output_type": "stream",
     "text": [
      "Epoch  117 , loss 51.28234519210516\n",
      "Epoch  118 , loss 50.911125631893384\n"
     ]
    },
    {
     "name": "stderr",
     "output_type": "stream",
     "text": [
      "\r",
      "Iterations:  40%|█████████████                    | 119/300 [02:10<03:40,  1.22s/it]"
     ]
    },
    {
     "name": "stdout",
     "output_type": "stream",
     "text": [
      "Epoch:  118\n",
      "t_loss:  50.911125631893384 , v_loss:  0.5640184581279755\n",
      "t_acc:  0.7024587612822907 , v_acc:  0.7267080745341615\n",
      "t_recall:  0.5149853831267757 , v_recall:  0.5764864864864865\n",
      "t_prec:  0.7156101895734597 , v_prec:  0.7374161073825503\n",
      "t_f:  0.44559454191033143 , v_f:  0.5605459057071961\n",
      "////////\n"
     ]
    },
    {
     "name": "stderr",
     "output_type": "stream",
     "text": [
      "\r",
      "Iterations:  40%|█████████████▏                   | 120/300 [02:11<03:24,  1.13s/it]"
     ]
    },
    {
     "name": "stdout",
     "output_type": "stream",
     "text": [
      "Epoch  119 , loss 50.555612451889935\n",
      "Epoch  120 , loss 50.19346820606905\n"
     ]
    },
    {
     "name": "stderr",
     "output_type": "stream",
     "text": [
      "\r",
      "Iterations:  40%|█████████████▎                   | 121/300 [02:12<03:34,  1.20s/it]"
     ]
    },
    {
     "name": "stdout",
     "output_type": "stream",
     "text": [
      "Epoch:  120\n",
      "t_loss:  50.19346820606905 , v_loss:  0.5645260562499365\n",
      "t_acc:  0.7046374105197635 , v_acc:  0.7267080745341615\n",
      "t_recall:  0.5185641152331151 , v_recall:  0.5764864864864865\n",
      "t_prec:  0.7336231216535207 , v_prec:  0.7374161073825503\n",
      "t_f:  0.4526738526098423 , v_f:  0.5605459057071961\n",
      "////////\n"
     ]
    },
    {
     "name": "stderr",
     "output_type": "stream",
     "text": [
      "\r",
      "Iterations:  41%|█████████████▍                   | 122/300 [02:13<03:22,  1.14s/it]"
     ]
    },
    {
     "name": "stdout",
     "output_type": "stream",
     "text": [
      "Epoch  121 , loss 49.8295399534936\n",
      "Epoch  122 , loss 49.475757449280984\n"
     ]
    },
    {
     "name": "stderr",
     "output_type": "stream",
     "text": [
      "\r",
      "Iterations:  41%|█████████████▌                   | 123/300 [02:14<03:33,  1.21s/it]"
     ]
    },
    {
     "name": "stdout",
     "output_type": "stream",
     "text": [
      "Epoch:  122\n",
      "t_loss:  49.475757449280984 , v_loss:  0.5643219649791718\n",
      "t_acc:  0.7005913476501712 , v_acc:  0.7267080745341615\n",
      "t_recall:  0.5142181688420416 , v_recall:  0.5764864864864865\n",
      "t_prec:  0.6698371495710148 , v_prec:  0.7374161073825503\n",
      "t_f:  0.44647495361781075 , v_f:  0.5605459057071961\n",
      "////////\n"
     ]
    },
    {
     "name": "stderr",
     "output_type": "stream",
     "text": [
      "\r",
      "Iterations:  41%|█████████████▋                   | 124/300 [02:15<03:19,  1.13s/it]"
     ]
    },
    {
     "name": "stdout",
     "output_type": "stream",
     "text": [
      "Epoch  123 , loss 49.111256767721734\n",
      "Epoch  124 , loss 48.762649461334824\n"
     ]
    },
    {
     "name": "stderr",
     "output_type": "stream",
     "text": [
      "\r",
      "Iterations:  42%|█████████████▊                   | 125/300 [02:17<03:35,  1.23s/it]"
     ]
    },
    {
     "name": "stdout",
     "output_type": "stream",
     "text": [
      "Epoch:  124\n",
      "t_loss:  48.762649461334824 , v_loss:  0.5640723804632822\n",
      "t_acc:  0.7009025832555245 , v_acc:  0.7267080745341615\n",
      "t_recall:  0.5144418824885741 , v_recall:  0.5764864864864865\n",
      "t_prec:  0.6754802881729037 , v_prec:  0.7374161073825503\n",
      "t_f:  0.4466187607364932 , v_f:  0.5605459057071961\n",
      "////////\n"
     ]
    },
    {
     "name": "stderr",
     "output_type": "stream",
     "text": [
      "\r",
      "Iterations:  42%|█████████████▊                   | 126/300 [02:18<03:21,  1.16s/it]"
     ]
    },
    {
     "name": "stdout",
     "output_type": "stream",
     "text": [
      "Epoch  125 , loss 48.406634536443974\n",
      "Epoch  126 , loss 48.05225088082108\n"
     ]
    },
    {
     "name": "stderr",
     "output_type": "stream",
     "text": [
      "\r",
      "Iterations:  42%|█████████████▉                   | 127/300 [02:19<03:37,  1.26s/it]"
     ]
    },
    {
     "name": "stdout",
     "output_type": "stream",
     "text": [
      "Epoch:  126\n",
      "t_loss:  48.05225088082108 , v_loss:  0.5633635222911835\n",
      "t_acc:  0.7024587612822907 , v_acc:  0.7267080745341615\n",
      "t_recall:  0.5172856535046183 , v_recall:  0.5764864864864865\n",
      "t_prec:  0.6874776714830104 , v_prec:  0.7374161073825503\n",
      "t_f:  0.4524852195885727 , v_f:  0.5605459057071961\n",
      "////////\n"
     ]
    },
    {
     "name": "stderr",
     "output_type": "stream",
     "text": [
      "\r",
      "Iterations:  43%|██████████████                   | 128/300 [02:20<03:23,  1.19s/it]"
     ]
    },
    {
     "name": "stdout",
     "output_type": "stream",
     "text": [
      "Epoch  127 , loss 47.69411475985658\n",
      "Epoch  128 , loss 47.34918078254251\n"
     ]
    },
    {
     "name": "stderr",
     "output_type": "stream",
     "text": [
      "\r",
      "Iterations:  43%|██████████████▏                  | 129/300 [02:22<03:35,  1.26s/it]"
     ]
    },
    {
     "name": "stdout",
     "output_type": "stream",
     "text": [
      "Epoch:  128\n",
      "t_loss:  47.34918078254251 , v_loss:  0.5642797152201334\n",
      "t_acc:  0.7055711173358232 , v_acc:  0.7329192546583851\n",
      "t_recall:  0.518947722375482 , v_recall:  0.5864864864864865\n",
      "t_prec:  0.7618811255137528 , v_prec:  0.7494802494802495\n",
      "t_f:  0.4522582221690409 , v_f:  0.5757185757185757\n",
      "////////\n"
     ]
    },
    {
     "name": "stderr",
     "output_type": "stream",
     "text": [
      "\r",
      "Iterations:  43%|██████████████▎                  | 130/300 [02:23<03:21,  1.19s/it]"
     ]
    },
    {
     "name": "stdout",
     "output_type": "stream",
     "text": [
      "Epoch  129 , loss 46.99983656640146\n",
      "Epoch  130 , loss 46.65677066877777\n"
     ]
    },
    {
     "name": "stderr",
     "output_type": "stream",
     "text": [
      "\r",
      "Iterations:  44%|██████████████▍                  | 131/300 [02:24<03:37,  1.29s/it]"
     ]
    },
    {
     "name": "stdout",
     "output_type": "stream",
     "text": [
      "Epoch:  130\n",
      "t_loss:  46.65677066877777 , v_loss:  0.5647568553686142\n",
      "t_acc:  0.7024587612822907 , v_acc:  0.7329192546583851\n",
      "t_recall:  0.5164230521129274 , v_recall:  0.5864864864864865\n",
      "t_prec:  0.6961746543526969 , v_prec:  0.7494802494802495\n",
      "t_f:  0.44992729278443566 , v_f:  0.5757185757185757\n",
      "////////\n"
     ]
    },
    {
     "name": "stderr",
     "output_type": "stream",
     "text": [
      "\r",
      "Iterations:  44%|██████████████▌                  | 132/300 [02:25<03:16,  1.17s/it]"
     ]
    },
    {
     "name": "stdout",
     "output_type": "stream",
     "text": [
      "Epoch  131 , loss 46.3122683506386\n",
      "Epoch  132 , loss 45.96716196396772\n"
     ]
    },
    {
     "name": "stderr",
     "output_type": "stream",
     "text": [
      "\r",
      "Iterations:  44%|██████████████▋                  | 133/300 [02:27<03:34,  1.28s/it]"
     ]
    },
    {
     "name": "stdout",
     "output_type": "stream",
     "text": [
      "Epoch:  132\n",
      "t_loss:  45.96716196396772 , v_loss:  0.5660320619742075\n",
      "t_acc:  0.7024587612822907 , v_acc:  0.7267080745341615\n",
      "t_recall:  0.516135518315697 , v_recall:  0.5764864864864865\n",
      "t_prec:  0.6994971491922711 , v_prec:  0.7374161073825503\n",
      "t_f:  0.44906774991534126 , v_f:  0.5605459057071961\n",
      "////////\n"
     ]
    },
    {
     "name": "stderr",
     "output_type": "stream",
     "text": [
      "\r",
      "Iterations:  45%|██████████████▋                  | 134/300 [02:28<03:11,  1.15s/it]"
     ]
    },
    {
     "name": "stdout",
     "output_type": "stream",
     "text": [
      "Epoch  133 , loss 45.62974495981254\n",
      "Epoch  134 , loss 45.28717467364143\n"
     ]
    },
    {
     "name": "stderr",
     "output_type": "stream",
     "text": [
      "\r",
      "Iterations:  45%|██████████████▊                  | 135/300 [02:29<03:26,  1.25s/it]"
     ]
    },
    {
     "name": "stdout",
     "output_type": "stream",
     "text": [
      "Epoch:  134\n",
      "t_loss:  45.28717467364143 , v_loss:  0.5680247048536936\n",
      "t_acc:  0.6996576408341114 , v_acc:  0.7204968944099379\n",
      "t_recall:  0.5109592237273713 , v_recall:  0.5664864864864865\n",
      "t_prec:  0.6757391240554618 , v_prec:  0.7236363636363636\n",
      "t_f:  0.43815489883582603 , v_f:  0.5449406444318825\n",
      "////////\n"
     ]
    },
    {
     "name": "stderr",
     "output_type": "stream",
     "text": [
      "\r",
      "Iterations:  45%|██████████████▉                  | 136/300 [02:30<03:03,  1.12s/it]"
     ]
    },
    {
     "name": "stdout",
     "output_type": "stream",
     "text": [
      "Epoch  135 , loss 44.96263070200004\n",
      "Epoch  136 , loss 44.61383266074985\n"
     ]
    },
    {
     "name": "stderr",
     "output_type": "stream",
     "text": [
      "\r",
      "Iterations:  46%|███████████████                  | 137/300 [02:31<03:22,  1.24s/it]"
     ]
    },
    {
     "name": "stdout",
     "output_type": "stream",
     "text": [
      "Epoch:  136\n",
      "t_loss:  44.61383266074985 , v_loss:  0.5640407900015513\n",
      "t_acc:  0.702769996887644 , v_acc:  0.7329192546583851\n",
      "t_recall:  0.5157841643677687 , v_recall:  0.5864864864864865\n",
      "t_prec:  0.7139468690702087 , v_prec:  0.7494802494802495\n",
      "t_f:  0.4474821612914204 , v_f:  0.5757185757185757\n",
      "////////\n"
     ]
    },
    {
     "name": "stderr",
     "output_type": "stream",
     "text": [
      "\r",
      "Iterations:  46%|███████████████▏                 | 138/300 [02:32<03:01,  1.12s/it]"
     ]
    },
    {
     "name": "stdout",
     "output_type": "stream",
     "text": [
      "Epoch  137 , loss 44.280127357034125\n",
      "Epoch  138 , loss 43.95063998652439\n"
     ]
    },
    {
     "name": "stderr",
     "output_type": "stream",
     "text": [
      "\r",
      "Iterations:  46%|███████████████▎                 | 139/300 [02:34<03:23,  1.26s/it]"
     ]
    },
    {
     "name": "stdout",
     "output_type": "stream",
     "text": [
      "Epoch:  138\n",
      "t_loss:  43.95063998652439 , v_loss:  0.565866102774938\n",
      "t_acc:  0.7009025832555245 , v_acc:  0.7329192546583851\n",
      "t_recall:  0.5130042135024224 , v_recall:  0.5864864864864865\n",
      "t_prec:  0.6910256582572815 , v_prec:  0.7494802494802495\n",
      "t_f:  0.44225450571484054 , v_f:  0.5757185757185757\n",
      "////////\n"
     ]
    },
    {
     "name": "stderr",
     "output_type": "stream",
     "text": [
      "\r",
      "Iterations:  47%|███████████████▍                 | 140/300 [02:35<03:06,  1.16s/it]"
     ]
    },
    {
     "name": "stdout",
     "output_type": "stream",
     "text": [
      "Epoch  139 , loss 43.62328533097809\n",
      "Epoch  140 , loss 43.289136325611786\n"
     ]
    },
    {
     "name": "stderr",
     "output_type": "stream",
     "text": [
      "\r",
      "Iterations:  47%|███████████████▌                 | 141/300 [02:36<03:26,  1.30s/it]"
     ]
    },
    {
     "name": "stdout",
     "output_type": "stream",
     "text": [
      "Epoch:  140\n",
      "t_loss:  43.289136325611786 , v_loss:  0.5651538521051407\n",
      "t_acc:  0.7012138188608776 , v_acc:  0.7329192546583851\n",
      "t_recall:  0.5152406637295672 , v_recall:  0.5864864864864865\n",
      "t_prec:  0.6760941960038059 , v_prec:  0.7494802494802495\n",
      "t_f:  0.44848539464706416 , v_f:  0.5757185757185757\n",
      "////////\n"
     ]
    },
    {
     "name": "stderr",
     "output_type": "stream",
     "text": [
      "\r",
      "Iterations:  47%|███████████████▌                 | 142/300 [02:37<03:08,  1.19s/it]"
     ]
    },
    {
     "name": "stdout",
     "output_type": "stream",
     "text": [
      "Epoch  141 , loss 42.95686512367398\n",
      "Epoch  142 , loss 42.629815419514976\n"
     ]
    },
    {
     "name": "stderr",
     "output_type": "stream",
     "text": [
      "\r",
      "Iterations:  48%|███████████████▋                 | 143/300 [02:39<03:21,  1.28s/it]"
     ]
    },
    {
     "name": "stdout",
     "output_type": "stream",
     "text": [
      "Epoch:  142\n",
      "t_loss:  42.629815419514976 , v_loss:  0.5646537641684214\n",
      "t_acc:  0.7024587612822907 , v_acc:  0.7391304347826086\n",
      "t_recall:  0.5164230521129274 , v_recall:  0.5964864864864865\n",
      "t_prec:  0.6961746543526969 , v_prec:  0.7602040816326531\n",
      "t_f:  0.44992729278443566 , v_f:  0.5904796511627907\n",
      "////////\n"
     ]
    },
    {
     "name": "stderr",
     "output_type": "stream",
     "text": [
      "\r",
      "Iterations:  48%|███████████████▊                 | 144/300 [02:40<03:03,  1.18s/it]"
     ]
    },
    {
     "name": "stdout",
     "output_type": "stream",
     "text": [
      "Epoch  143 , loss 42.31135289809283\n",
      "Epoch  144 , loss 41.98260408289292\n"
     ]
    },
    {
     "name": "stderr",
     "output_type": "stream",
     "text": [
      "\r",
      "Iterations:  48%|███████████████▉                 | 145/300 [02:41<03:15,  1.26s/it]"
     ]
    },
    {
     "name": "stdout",
     "output_type": "stream",
     "text": [
      "Epoch:  144\n",
      "t_loss:  41.98260408289292 , v_loss:  0.5619855125745138\n",
      "t_acc:  0.7037037037037037 , v_acc:  0.7515527950310559\n",
      "t_recall:  0.5190431094824391 , v_recall:  0.6164864864864865\n",
      "t_prec:  0.7004073143253315 , v_prec:  0.7786637931034484\n",
      "t_f:  0.4556183446738169 , v_f:  0.618844696969697\n",
      "////////\n"
     ]
    },
    {
     "name": "stderr",
     "output_type": "stream",
     "text": [
      "\r",
      "Iterations:  49%|████████████████                 | 146/300 [02:42<02:57,  1.15s/it]"
     ]
    },
    {
     "name": "stdout",
     "output_type": "stream",
     "text": [
      "Epoch  145 , loss 41.664089801264744\n",
      "Epoch  146 , loss 41.34157809089212\n"
     ]
    },
    {
     "name": "stderr",
     "output_type": "stream",
     "text": [
      "\r",
      "Iterations:  49%|████████████████▏                | 147/300 [02:43<03:09,  1.24s/it]"
     ]
    },
    {
     "name": "stdout",
     "output_type": "stream",
     "text": [
      "Epoch:  146\n",
      "t_loss:  41.34157809089212 , v_loss:  0.5645613074302673\n",
      "t_acc:  0.702769996887644 , v_acc:  0.7453416149068323\n",
      "t_recall:  0.5172218333539205 , v_recall:  0.6064864864864865\n",
      "t_prec:  0.6957851377215611 , v_prec:  0.7698630136986302\n",
      "t_f:  0.4517841672453898 , v_f:  0.604848847650404\n",
      "////////\n"
     ]
    },
    {
     "name": "stderr",
     "output_type": "stream",
     "text": [
      "\r",
      "Iterations:  49%|████████████████▎                | 148/300 [02:44<02:49,  1.11s/it]"
     ]
    },
    {
     "name": "stdout",
     "output_type": "stream",
     "text": [
      "Epoch  147 , loss 41.03156437593348\n",
      "Epoch  148 , loss 40.712647082758885\n"
     ]
    },
    {
     "name": "stderr",
     "output_type": "stream",
     "text": [
      "\r",
      "Iterations:  50%|████████████████▍                | 149/300 [02:46<03:00,  1.20s/it]"
     ]
    },
    {
     "name": "stdout",
     "output_type": "stream",
     "text": [
      "Epoch:  148\n",
      "t_loss:  40.712647082758885 , v_loss:  0.5652668376763662\n",
      "t_acc:  0.704014939309057 , v_acc:  0.7453416149068323\n",
      "t_recall:  0.5175416203455895 , v_recall:  0.6064864864864865\n",
      "t_prec:  0.7289407690470504 , v_prec:  0.7698630136986302\n",
      "t_f:  0.45066012014932816 , v_f:  0.604848847650404\n",
      "////////\n"
     ]
    },
    {
     "name": "stderr",
     "output_type": "stream",
     "text": [
      "\r",
      "Iterations:  50%|████████████████▌                | 150/300 [02:47<02:51,  1.14s/it]"
     ]
    },
    {
     "name": "stdout",
     "output_type": "stream",
     "text": [
      "Epoch  149 , loss 40.39937815946691\n",
      "Epoch  150 , loss 40.082724328134574\n"
     ]
    },
    {
     "name": "stderr",
     "output_type": "stream",
     "text": [
      "\r",
      "Iterations:  50%|████████████████▌                | 151/300 [02:48<03:09,  1.27s/it]"
     ]
    },
    {
     "name": "stdout",
     "output_type": "stream",
     "text": [
      "Epoch:  150\n",
      "t_loss:  40.082724328134574 , v_loss:  0.5686051100492477\n",
      "t_acc:  0.704014939309057 , v_acc:  0.7329192546583851\n",
      "t_recall:  0.5175416203455895 , v_recall:  0.5864864864864865\n",
      "t_prec:  0.7289407690470504 , v_prec:  0.7494802494802495\n",
      "t_f:  0.45066012014932816 , v_f:  0.5757185757185757\n",
      "////////\n"
     ]
    },
    {
     "name": "stderr",
     "output_type": "stream",
     "text": [
      "\r",
      "Iterations:  51%|████████████████▋                | 152/300 [02:49<02:59,  1.21s/it]"
     ]
    },
    {
     "name": "stdout",
     "output_type": "stream",
     "text": [
      "Epoch  151 , loss 39.77008310953776\n",
      "Epoch  152 , loss 39.46002870447495\n"
     ]
    },
    {
     "name": "stderr",
     "output_type": "stream",
     "text": [
      "\r",
      "Iterations:  51%|████████████████▊                | 153/300 [02:51<03:13,  1.32s/it]"
     ]
    },
    {
     "name": "stdout",
     "output_type": "stream",
     "text": [
      "Epoch:  152\n",
      "t_loss:  39.46002870447495 , v_loss:  0.5674415727456411\n",
      "t_acc:  0.7043261749144102 , v_acc:  0.7391304347826086\n",
      "t_recall:  0.5183404015865827 , v_recall:  0.5964864864864865\n",
      "t_prec:  0.7267579980994615 , v_prec:  0.7602040816326531\n",
      "t_f:  0.4525254837024836 , v_f:  0.5904796511627907\n",
      "////////\n"
     ]
    },
    {
     "name": "stderr",
     "output_type": "stream",
     "text": [
      "\r",
      "Iterations:  51%|████████████████▉                | 154/300 [02:52<02:58,  1.22s/it]"
     ]
    },
    {
     "name": "stdout",
     "output_type": "stream",
     "text": [
      "Epoch  153 , loss 39.15055742450789\n",
      "Epoch  154 , loss 38.83793400783165\n"
     ]
    },
    {
     "name": "stderr",
     "output_type": "stream",
     "text": [
      "\r",
      "Iterations:  52%|█████████████████                | 155/300 [02:53<03:05,  1.28s/it]"
     ]
    },
    {
     "name": "stdout",
     "output_type": "stream",
     "text": [
      "Epoch:  154\n",
      "t_loss:  38.83793400783165 , v_loss:  0.5699338565270106\n",
      "t_acc:  0.7061935885465297 , v_acc:  0.7329192546583851\n",
      "t_recall:  0.5208328186546987 , v_recall:  0.5864864864864865\n",
      "t_prec:  0.748849663916061 , v_prec:  0.7494802494802495\n",
      "t_f:  0.4568319711176855 , v_f:  0.5757185757185757\n",
      "////////\n"
     ]
    },
    {
     "name": "stderr",
     "output_type": "stream",
     "text": [
      "\r",
      "Iterations:  52%|█████████████████▏               | 156/300 [02:54<02:55,  1.22s/it]"
     ]
    },
    {
     "name": "stdout",
     "output_type": "stream",
     "text": [
      "Epoch  155 , loss 38.5337090585746\n",
      "Epoch  156 , loss 38.22516617120481\n"
     ]
    },
    {
     "name": "stderr",
     "output_type": "stream",
     "text": [
      "\r",
      "Iterations:  52%|█████████████████▎               | 157/300 [02:56<03:01,  1.27s/it]"
     ]
    },
    {
     "name": "stdout",
     "output_type": "stream",
     "text": [
      "Epoch:  156\n",
      "t_loss:  38.22516617120481 , v_loss:  0.5696195960044861\n",
      "t_acc:  0.7015250544662309 , v_acc:  0.7329192546583851\n",
      "t_recall:  0.5143142421871784 , v_recall:  0.5864864864864865\n",
      "t_prec:  0.694022770398482 , v_prec:  0.7494802494802495\n",
      "t_f:  0.445167950448662 , v_f:  0.5757185757185757\n",
      "////////\n"
     ]
    },
    {
     "name": "stderr",
     "output_type": "stream",
     "text": [
      "\r",
      "Iterations:  53%|█████████████████▍               | 158/300 [02:57<02:52,  1.21s/it]"
     ]
    },
    {
     "name": "stdout",
     "output_type": "stream",
     "text": [
      "Epoch  157 , loss 37.92035690008425\n",
      "Epoch  158 , loss 37.61265915515376\n"
     ]
    },
    {
     "name": "stderr",
     "output_type": "stream",
     "text": [
      "\r",
      "Iterations:  53%|█████████████████▍               | 159/300 [02:58<02:56,  1.25s/it]"
     ]
    },
    {
     "name": "stdout",
     "output_type": "stream",
     "text": [
      "Epoch:  158\n",
      "t_loss:  37.61265915515376 , v_loss:  0.5669994503259659\n",
      "t_acc:  0.702769996887644 , v_acc:  0.7453416149068323\n",
      "t_recall:  0.5154966305705384 , v_recall:  0.6064864864864865\n",
      "t_prec:  0.7184847390283547 , v_prec:  0.7698630136986302\n",
      "t_f:  0.44661124991050133 , v_f:  0.604848847650404\n",
      "////////\n"
     ]
    },
    {
     "name": "stderr",
     "output_type": "stream",
     "text": [
      "\r",
      "Iterations:  53%|█████████████████▌               | 160/300 [02:59<02:45,  1.19s/it]"
     ]
    },
    {
     "name": "stdout",
     "output_type": "stream",
     "text": [
      "Epoch  159 , loss 37.30197629741594\n",
      "Epoch  160 , loss 37.00460015091242\n"
     ]
    },
    {
     "name": "stderr",
     "output_type": "stream",
     "text": [
      "\r",
      "Iterations:  54%|█████████████████▋               | 161/300 [03:01<02:54,  1.26s/it]"
     ]
    },
    {
     "name": "stdout",
     "output_type": "stream",
     "text": [
      "Epoch:  160\n",
      "t_loss:  37.00460015091242 , v_loss:  0.5676682641108831\n",
      "t_acc:  0.7021475256769374 , v_acc:  0.7453416149068323\n",
      "t_recall:  0.5161993384663949 , v_recall:  0.6064864864864865\n",
      "t_prec:  0.6902829874359167 , v_prec:  0.7698630136986302\n",
      "t_f:  0.44978082250120915 , v_f:  0.604848847650404\n",
      "////////\n"
     ]
    },
    {
     "name": "stderr",
     "output_type": "stream",
     "text": [
      "\r",
      "Iterations:  54%|█████████████████▊               | 162/300 [03:02<02:40,  1.16s/it]"
     ]
    },
    {
     "name": "stdout",
     "output_type": "stream",
     "text": [
      "Epoch  161 , loss 36.69672962263519\n",
      "Epoch  162 , loss 36.39893258786669\n"
     ]
    },
    {
     "name": "stderr",
     "output_type": "stream",
     "text": [
      "\r",
      "Iterations:  54%|█████████████████▉               | 163/300 [03:03<02:53,  1.27s/it]"
     ]
    },
    {
     "name": "stdout",
     "output_type": "stream",
     "text": [
      "Epoch:  162\n",
      "t_loss:  36.39893258786669 , v_loss:  0.5694373846054077\n",
      "t_acc:  0.7005913476501712 , v_acc:  0.7391304347826086\n",
      "t_recall:  0.5145057026392721 , v_recall:  0.5964864864864865\n",
      "t_prec:  0.6676022835394861 , v_prec:  0.7602040816326531\n",
      "t_f:  0.4473364058859122 , v_f:  0.5904796511627907\n",
      "////////\n"
     ]
    },
    {
     "name": "stderr",
     "output_type": "stream",
     "text": [
      "\r",
      "Iterations:  55%|██████████████████               | 164/300 [03:04<02:35,  1.14s/it]"
     ]
    },
    {
     "name": "stdout",
     "output_type": "stream",
     "text": [
      "Epoch  163 , loss 36.09955043418735\n",
      "Epoch  164 , loss 35.799690844965916\n"
     ]
    },
    {
     "name": "stderr",
     "output_type": "stream",
     "text": [
      "\r",
      "Iterations:  55%|██████████████████▏              | 165/300 [03:06<02:51,  1.27s/it]"
     ]
    },
    {
     "name": "stdout",
     "output_type": "stream",
     "text": [
      "Epoch:  164\n",
      "t_loss:  35.799690844965916 , v_loss:  0.5685536215702692\n",
      "t_acc:  0.7005913476501712 , v_acc:  0.7391304347826086\n",
      "t_recall:  0.5147932364365024 , v_recall:  0.5964864864864865\n",
      "t_prec:  0.6655158116726897 , v_prec:  0.7602040816326531\n",
      "t_f:  0.44819439287040475 , v_f:  0.5904796511627907\n",
      "////////\n"
     ]
    },
    {
     "name": "stderr",
     "output_type": "stream",
     "text": [
      "\r",
      "Iterations:  55%|██████████████████▎              | 166/300 [03:06<02:33,  1.15s/it]"
     ]
    },
    {
     "name": "stdout",
     "output_type": "stream",
     "text": [
      "Epoch  165 , loss 35.499315972421684\n",
      "Epoch  166 , loss 35.19530374863569\n"
     ]
    },
    {
     "name": "stderr",
     "output_type": "stream",
     "text": [
      "\r",
      "Iterations:  56%|██████████████████▎              | 167/300 [03:08<02:50,  1.28s/it]"
     ]
    },
    {
     "name": "stdout",
     "output_type": "stream",
     "text": [
      "Epoch:  166\n",
      "t_loss:  35.19530374863569 , v_loss:  0.5705399364233017\n",
      "t_acc:  0.7037037037037037 , v_acc:  0.7391304347826086\n",
      "t_recall:  0.5178929742935178 , v_recall:  0.5964864864864865\n",
      "t_prec:  0.7137329908738183 , v_prec:  0.7602040816326531\n",
      "t_f:  0.45222885222885223 , v_f:  0.5904796511627907\n",
      "////////\n"
     ]
    },
    {
     "name": "stderr",
     "output_type": "stream",
     "text": [
      "\r",
      "Iterations:  56%|██████████████████▍              | 168/300 [03:09<02:33,  1.16s/it]"
     ]
    },
    {
     "name": "stdout",
     "output_type": "stream",
     "text": [
      "Epoch  167 , loss 34.89707722383387\n",
      "Epoch  168 , loss 34.602293276319315\n"
     ]
    },
    {
     "name": "stderr",
     "output_type": "stream",
     "text": [
      "\r",
      "Iterations:  56%|██████████████████▌              | 169/300 [03:10<02:46,  1.27s/it]"
     ]
    },
    {
     "name": "stdout",
     "output_type": "stream",
     "text": [
      "Epoch:  168\n",
      "t_loss:  34.602293276319315 , v_loss:  0.5699126571416855\n",
      "t_acc:  0.7002801120448179 , v_acc:  0.7391304347826086\n",
      "t_recall:  0.5137069213982789 , v_recall:  0.5964864864864865\n",
      "t_prec:  0.6665499299579747 , v_prec:  0.7602040816326531\n",
      "t_f:  0.4454670828191914 , v_f:  0.5904796511627907\n",
      "////////\n"
     ]
    },
    {
     "name": "stderr",
     "output_type": "stream",
     "text": [
      "\r",
      "Iterations:  57%|██████████████████▋              | 170/300 [03:11<02:30,  1.16s/it]"
     ]
    },
    {
     "name": "stdout",
     "output_type": "stream",
     "text": [
      "Epoch  169 , loss 34.313198463589536\n",
      "Epoch  170 , loss 34.01891656015434\n"
     ]
    },
    {
     "name": "stderr",
     "output_type": "stream",
     "text": [
      "\r",
      "Iterations:  57%|██████████████████▊              | 171/300 [03:13<02:44,  1.27s/it]"
     ]
    },
    {
     "name": "stdout",
     "output_type": "stream",
     "text": [
      "Epoch:  170\n",
      "t_loss:  34.01891656015434 , v_loss:  0.5714965562025706\n",
      "t_acc:  0.706504824151883 , v_acc:  0.7329192546583851\n",
      "t_recall:  0.5227817350846131 , v_recall:  0.591981981981982\n",
      "t_prec:  0.7295469631596416 , v_prec:  0.7331050228310503\n",
      "t_f:  0.4620100134716831 , v_f:  0.5855731816821312\n",
      "////////\n"
     ]
    },
    {
     "name": "stderr",
     "output_type": "stream",
     "text": [
      "\r",
      "Iterations:  57%|██████████████████▉              | 172/300 [03:14<02:26,  1.15s/it]"
     ]
    },
    {
     "name": "stdout",
     "output_type": "stream",
     "text": [
      "Epoch  171 , loss 33.729004429835896\n",
      "Epoch  172 , loss 33.43704298430798\n"
     ]
    },
    {
     "name": "stderr",
     "output_type": "stream",
     "text": [
      "\r",
      "Iterations:  58%|███████████████████              | 173/300 [03:15<02:36,  1.23s/it]"
     ]
    },
    {
     "name": "stdout",
     "output_type": "stream",
     "text": [
      "Epoch:  172\n",
      "t_loss:  33.43704298430798 , v_loss:  0.574674611290296\n",
      "t_acc:  0.7043261749144102 , v_acc:  0.7391304347826086\n",
      "t_recall:  0.5192030029782737 , v_recall:  0.5964864864864865\n",
      "t_prec:  0.7148549871520562 , v_prec:  0.7602040816326531\n",
      "t_f:  0.4550776228969694 , v_f:  0.5904796511627907\n",
      "////////\n"
     ]
    },
    {
     "name": "stderr",
     "output_type": "stream",
     "text": [
      "\r",
      "Iterations:  58%|███████████████████▏             | 174/300 [03:16<02:29,  1.19s/it]"
     ]
    },
    {
     "name": "stdout",
     "output_type": "stream",
     "text": [
      "Epoch  173 , loss 33.155577865301396\n",
      "Epoch  174 , loss 32.87074736052868\n"
     ]
    },
    {
     "name": "stderr",
     "output_type": "stream",
     "text": [
      "\r",
      "Iterations:  58%|███████████████████▎             | 175/300 [03:18<02:46,  1.33s/it]"
     ]
    },
    {
     "name": "stdout",
     "output_type": "stream",
     "text": [
      "Epoch:  174\n",
      "t_loss:  32.87074736052868 , v_loss:  0.5732227712869644\n",
      "t_acc:  0.7018362900715842 , v_acc:  0.7391304347826086\n",
      "t_recall:  0.5142504220364804 , v_recall:  0.5964864864864865\n",
      "t_prec:  0.7050355450236967 , v_prec:  0.7602040816326531\n",
      "t_f:  0.44443469785575046 , v_f:  0.5904796511627907\n",
      "////////\n"
     ]
    },
    {
     "name": "stderr",
     "output_type": "stream",
     "text": [
      "\r",
      "Iterations:  59%|███████████████████▎             | 176/300 [03:19<02:35,  1.25s/it]"
     ]
    },
    {
     "name": "stdout",
     "output_type": "stream",
     "text": [
      "Epoch  175 , loss 32.57784734987745\n",
      "Epoch  176 , loss 32.303947972316365\n"
     ]
    },
    {
     "name": "stderr",
     "output_type": "stream",
     "text": [
      "\r",
      "Iterations:  59%|███████████████████▍             | 177/300 [03:21<02:46,  1.36s/it]"
     ]
    },
    {
     "name": "stdout",
     "output_type": "stream",
     "text": [
      "Epoch:  176\n",
      "t_loss:  32.303947972316365 , v_loss:  0.574061801036199\n",
      "t_acc:  0.7049486461251168 , v_acc:  0.7391304347826086\n",
      "t_recall:  0.519937964068569 , v_recall:  0.5964864864864865\n",
      "t_prec:  0.7230781830652839 , v_prec:  0.7602040816326531\n",
      "t_f:  0.4562248279013968 , v_f:  0.5904796511627907\n",
      "////////\n"
     ]
    },
    {
     "name": "stderr",
     "output_type": "stream",
     "text": [
      "\r",
      "Iterations:  59%|███████████████████▌             | 178/300 [03:22<02:32,  1.25s/it]"
     ]
    },
    {
     "name": "stdout",
     "output_type": "stream",
     "text": [
      "Epoch  177 , loss 32.01782802506989\n",
      "Epoch  178 , loss 31.73832668977625\n"
     ]
    },
    {
     "name": "stderr",
     "output_type": "stream",
     "text": [
      "\r",
      "Iterations:  60%|███████████████████▋             | 179/300 [03:23<02:43,  1.35s/it]"
     ]
    },
    {
     "name": "stdout",
     "output_type": "stream",
     "text": [
      "Epoch:  178\n",
      "t_loss:  31.73832668977625 , v_loss:  0.5764694263537725\n",
      "t_acc:  0.7043261749144102 , v_acc:  0.7329192546583851\n",
      "t_recall:  0.517765333992122 , v_recall:  0.5864864864864865\n",
      "t_prec:  0.7362446158713163 , v_prec:  0.7494802494802495\n",
      "t_f:  0.45080678244222616 , v_f:  0.5757185757185757\n",
      "////////\n"
     ]
    },
    {
     "name": "stderr",
     "output_type": "stream",
     "text": [
      "\r",
      "Iterations:  60%|███████████████████▊             | 180/300 [03:24<02:29,  1.25s/it]"
     ]
    },
    {
     "name": "stdout",
     "output_type": "stream",
     "text": [
      "Epoch  179 , loss 31.459443634631587\n",
      "Epoch  180 , loss 31.172650729908664\n"
     ]
    },
    {
     "name": "stderr",
     "output_type": "stream",
     "text": [
      "\r",
      "Iterations:  60%|███████████████████▉             | 181/300 [03:26<02:40,  1.35s/it]"
     ]
    },
    {
     "name": "stdout",
     "output_type": "stream",
     "text": [
      "Epoch:  180\n",
      "t_loss:  31.172650729908664 , v_loss:  0.5739290863275528\n",
      "t_acc:  0.7021475256769374 , v_acc:  0.7391304347826086\n",
      "t_recall:  0.5159118046691646 , v_recall:  0.5964864864864865\n",
      "t_prec:  0.6933410046027617 , v_prec:  0.7602040816326531\n",
      "t_f:  0.44892211657109676 , v_f:  0.5904796511627907\n",
      "////////\n"
     ]
    },
    {
     "name": "stderr",
     "output_type": "stream",
     "text": [
      "\r",
      "Iterations:  61%|████████████████████             | 182/300 [03:27<02:27,  1.25s/it]"
     ]
    },
    {
     "name": "stdout",
     "output_type": "stream",
     "text": [
      "Epoch  181 , loss 30.896733527090035\n",
      "Epoch  182 , loss 30.613599814620674\n"
     ]
    },
    {
     "name": "stderr",
     "output_type": "stream",
     "text": [
      "\r",
      "Iterations:  61%|████████████████████▏            | 183/300 [03:28<02:38,  1.36s/it]"
     ]
    },
    {
     "name": "stdout",
     "output_type": "stream",
     "text": [
      "Epoch:  182\n",
      "t_loss:  30.613599814620674 , v_loss:  0.5759802609682083\n",
      "t_acc:  0.7018362900715842 , v_acc:  0.7329192546583851\n",
      "t_recall:  0.5159756248198625 , v_recall:  0.591981981981982\n",
      "t_prec:  0.6845861084681255 , v_prec:  0.7331050228310503\n",
      "t_f:  0.4496343834082161 , v_f:  0.5855731816821312\n",
      "////////\n"
     ]
    },
    {
     "name": "stderr",
     "output_type": "stream",
     "text": [
      "\r",
      "Iterations:  61%|████████████████████▏            | 184/300 [03:29<02:26,  1.27s/it]"
     ]
    },
    {
     "name": "stdout",
     "output_type": "stream",
     "text": [
      "Epoch  183 , loss 30.336236280553482\n",
      "Epoch  184 , loss 30.06247071658864\n"
     ]
    },
    {
     "name": "stderr",
     "output_type": "stream",
     "text": [
      "\r",
      "Iterations:  62%|████████████████████▎            | 185/300 [03:31<02:34,  1.35s/it]"
     ]
    },
    {
     "name": "stdout",
     "output_type": "stream",
     "text": [
      "Epoch:  184\n",
      "t_loss:  30.06247071658864 , v_loss:  0.5746048639218012\n",
      "t_acc:  0.7049486461251168 , v_acc:  0.7329192546583851\n",
      "t_recall:  0.5193628964741083 , v_recall:  0.591981981981982\n",
      "t_prec:  0.7312913273949395 , v_prec:  0.7331050228310503\n",
      "t_f:  0.4545304116732688 , v_f:  0.5855731816821312\n",
      "////////\n"
     ]
    },
    {
     "name": "stderr",
     "output_type": "stream",
     "text": [
      "\r",
      "Iterations:  62%|████████████████████▍            | 186/300 [03:32<02:23,  1.26s/it]"
     ]
    },
    {
     "name": "stdout",
     "output_type": "stream",
     "text": [
      "Epoch  185 , loss 29.78558360829073\n",
      "Epoch  186 , loss 29.516849256029317\n"
     ]
    },
    {
     "name": "stderr",
     "output_type": "stream",
     "text": [
      "\r",
      "Iterations:  62%|████████████████████▌            | 187/300 [03:33<02:25,  1.29s/it]"
     ]
    },
    {
     "name": "stdout",
     "output_type": "stream",
     "text": [
      "Epoch:  186\n",
      "t_loss:  29.516849256029317 , v_loss:  0.5782350450754166\n",
      "t_acc:  0.702769996887644 , v_acc:  0.7267080745341615\n",
      "t_recall:  0.5169342995566901 , v_recall:  0.581981981981982\n",
      "t_prec:  0.6989160925593543 , v_prec:  0.7210884353741497\n",
      "t_f:  0.45093070583976463 , v_f:  0.5709786821705426\n",
      "////////\n"
     ]
    },
    {
     "name": "stderr",
     "output_type": "stream",
     "text": [
      "\r",
      "Iterations:  63%|████████████████████▋            | 188/300 [03:34<02:15,  1.21s/it]"
     ]
    },
    {
     "name": "stdout",
     "output_type": "stream",
     "text": [
      "Epoch  187 , loss 29.241027757233265\n",
      "Epoch  188 , loss 28.975378111297008\n"
     ]
    },
    {
     "name": "stderr",
     "output_type": "stream",
     "text": [
      "\r",
      "Iterations:  63%|████████████████████▊            | 189/300 [03:36<02:20,  1.26s/it]"
     ]
    },
    {
     "name": "stdout",
     "output_type": "stream",
     "text": [
      "Epoch:  188\n",
      "t_loss:  28.975378111297008 , v_loss:  0.5789900819460551\n",
      "t_acc:  0.7015250544662309 , v_acc:  0.7267080745341615\n",
      "t_recall:  0.5134516407954873 , v_recall:  0.581981981981982\n",
      "t_prec:  0.70625 , v_prec:  0.7210884353741497\n",
      "t_f:  0.44253355499795644 , v_f:  0.5709786821705426\n",
      "////////\n"
     ]
    },
    {
     "name": "stderr",
     "output_type": "stream",
     "text": [
      "\r",
      "Iterations:  63%|████████████████████▉            | 190/300 [03:37<02:09,  1.18s/it]"
     ]
    },
    {
     "name": "stdout",
     "output_type": "stream",
     "text": [
      "Epoch  189 , loss 28.70840940288469\n",
      "Epoch  190 , loss 28.440042570525524\n"
     ]
    },
    {
     "name": "stderr",
     "output_type": "stream",
     "text": [
      "\r",
      "Iterations:  64%|█████████████████████            | 191/300 [03:38<02:17,  1.26s/it]"
     ]
    },
    {
     "name": "stdout",
     "output_type": "stream",
     "text": [
      "Epoch:  190\n",
      "t_loss:  28.440042570525524 , v_loss:  0.5791645894447962\n",
      "t_acc:  0.7033924680983504 , v_acc:  0.7267080745341615\n",
      "t_recall:  0.5170941930525247 , v_recall:  0.581981981981982\n",
      "t_prec:  0.7151246473602395 , v_prec:  0.7210884353741497\n",
      "t_f:  0.45036689308448846 , v_f:  0.5709786821705426\n",
      "////////\n"
     ]
    },
    {
     "name": "stderr",
     "output_type": "stream",
     "text": [
      "\r",
      "Iterations:  64%|█████████████████████            | 192/300 [03:39<02:06,  1.17s/it]"
     ]
    },
    {
     "name": "stdout",
     "output_type": "stream",
     "text": [
      "Epoch  191 , loss 28.188781401690314\n",
      "Epoch  192 , loss 27.914004344566195\n"
     ]
    },
    {
     "name": "stderr",
     "output_type": "stream",
     "text": [
      "\r",
      "Iterations:  64%|█████████████████████▏           | 193/300 [03:41<02:16,  1.27s/it]"
     ]
    },
    {
     "name": "stdout",
     "output_type": "stream",
     "text": [
      "Epoch:  192\n",
      "t_loss:  27.914004344566195 , v_loss:  0.5774944374958674\n",
      "t_acc:  0.7002801120448179 , v_acc:  0.7329192546583851\n",
      "t_recall:  0.5137069213982789 , v_recall:  0.591981981981982\n",
      "t_prec:  0.6665499299579747 , v_prec:  0.7331050228310503\n",
      "t_f:  0.4454670828191914 , v_f:  0.5855731816821312\n",
      "////////\n"
     ]
    },
    {
     "name": "stderr",
     "output_type": "stream",
     "text": [
      "\r",
      "Iterations:  65%|█████████████████████▎           | 194/300 [03:42<02:02,  1.16s/it]"
     ]
    },
    {
     "name": "stdout",
     "output_type": "stream",
     "text": [
      "Epoch  193 , loss 27.656459322162704\n",
      "Epoch  194 , loss 27.402169807284487\n"
     ]
    },
    {
     "name": "stderr",
     "output_type": "stream",
     "text": [
      "\r",
      "Iterations:  65%|█████████████████████▍           | 195/300 [03:43<02:18,  1.32s/it]"
     ]
    },
    {
     "name": "stdout",
     "output_type": "stream",
     "text": [
      "Epoch:  194\n",
      "t_loss:  27.402169807284487 , v_loss:  0.5788641721010208\n",
      "t_acc:  0.707749766573296 , v_acc:  0.7391304347826086\n",
      "t_recall:  0.5228139882790519 , v_recall:  0.601981981981982\n",
      "t_prec:  0.7679809335468547 , v_prec:  0.7439655172413793\n",
      "t_f:  0.4601297725482084 , v_f:  0.5997869318181819\n",
      "////////\n"
     ]
    },
    {
     "name": "stderr",
     "output_type": "stream",
     "text": [
      "\r",
      "Iterations:  65%|█████████████████████▌           | 196/300 [03:44<02:03,  1.19s/it]"
     ]
    },
    {
     "name": "stdout",
     "output_type": "stream",
     "text": [
      "Epoch  195 , loss 27.160305060592353\n",
      "Epoch  196 , loss 26.898605795467603\n"
     ]
    },
    {
     "name": "stderr",
     "output_type": "stream",
     "text": [
      "\r",
      "Iterations:  66%|█████████████████████▋           | 197/300 [03:46<02:15,  1.32s/it]"
     ]
    },
    {
     "name": "stdout",
     "output_type": "stream",
     "text": [
      "Epoch:  196\n",
      "t_loss:  26.898605795467603 , v_loss:  0.577892338236173\n",
      "t_acc:  0.7030812324929971 , v_acc:  0.7391304347826086\n",
      "t_recall:  0.5185956821893744 , v_recall:  0.601981981981982\n",
      "t_prec:  0.6900635930047695 , v_prec:  0.7439655172413793\n",
      "t_f:  0.45531534541215607 , v_f:  0.5997869318181819\n",
      "////////\n"
     ]
    },
    {
     "name": "stderr",
     "output_type": "stream",
     "text": [
      "\r",
      "Iterations:  66%|█████████████████████▊           | 198/300 [03:47<02:01,  1.19s/it]"
     ]
    },
    {
     "name": "stdout",
     "output_type": "stream",
     "text": [
      "Epoch  197 , loss 26.650157330082912\n",
      "Epoch  198 , loss 26.39969133863262\n"
     ]
    },
    {
     "name": "stderr",
     "output_type": "stream",
     "text": [
      "\r",
      "Iterations:  66%|█████████████████████▉           | 199/300 [03:48<02:09,  1.28s/it]"
     ]
    },
    {
     "name": "stdout",
     "output_type": "stream",
     "text": [
      "Epoch:  198\n",
      "t_loss:  26.39969133863262 , v_loss:  0.5815703868865967\n",
      "t_acc:  0.6993464052287581 , v_acc:  0.7329192546583851\n",
      "t_recall:  0.5124607128642209 , v_recall:  0.591981981981982\n",
      "t_prec:  0.6540624010136205 , v_prec:  0.7331050228310503\n",
      "t_f:  0.44330486027010435 , v_f:  0.5855731816821312\n",
      "////////\n"
     ]
    },
    {
     "name": "stderr",
     "output_type": "stream",
     "text": [
      "\r",
      "Iterations:  67%|██████████████████████           | 200/300 [03:49<01:56,  1.17s/it]"
     ]
    },
    {
     "name": "stdout",
     "output_type": "stream",
     "text": [
      "Epoch  199 , loss 26.151676701564416\n",
      "Epoch  200 , loss 25.913912081250956\n"
     ]
    },
    {
     "name": "stderr",
     "output_type": "stream",
     "text": [
      "\r",
      "Iterations:  67%|██████████████████████           | 201/300 [03:50<02:02,  1.24s/it]"
     ]
    },
    {
     "name": "stdout",
     "output_type": "stream",
     "text": [
      "Epoch:  200\n",
      "t_loss:  25.913912081250956 , v_loss:  0.5808986574411392\n",
      "t_acc:  0.7005913476501712 , v_acc:  0.7391304347826086\n",
      "t_recall:  0.5124929660586597 , v_recall:  0.601981981981982\n",
      "t_prec:  0.6874459439052183 , v_prec:  0.7439655172413793\n",
      "t_f:  0.441232341609589 , v_f:  0.5997869318181819\n",
      "////////\n"
     ]
    },
    {
     "name": "stderr",
     "output_type": "stream",
     "text": [
      "\r",
      "Iterations:  67%|██████████████████████▏          | 202/300 [03:51<01:53,  1.16s/it]"
     ]
    },
    {
     "name": "stdout",
     "output_type": "stream",
     "text": [
      "Epoch  201 , loss 25.66900447770661\n",
      "Epoch  202 , loss 25.426919039557962\n"
     ]
    },
    {
     "name": "stderr",
     "output_type": "stream",
     "text": [
      "\r",
      "Iterations:  68%|██████████████████████▎          | 203/300 [03:53<02:04,  1.28s/it]"
     ]
    },
    {
     "name": "stdout",
     "output_type": "stream",
     "text": [
      "Epoch:  202\n",
      "t_loss:  25.426919039557962 , v_loss:  0.5839473853508631\n",
      "t_acc:  0.7052598817304699 , v_acc:  0.7267080745341615\n",
      "t_recall:  0.5201616777151014 , v_recall:  0.581981981981982\n",
      "t_prec:  0.7292065407339602 , v_prec:  0.7210884353741497\n",
      "t_f:  0.4563765511846953 , v_f:  0.5709786821705426\n",
      "////////\n"
     ]
    },
    {
     "name": "stderr",
     "output_type": "stream",
     "text": [
      "\r",
      "Iterations:  68%|██████████████████████▍          | 204/300 [03:54<01:51,  1.16s/it]"
     ]
    },
    {
     "name": "stdout",
     "output_type": "stream",
     "text": [
      "Epoch  203 , loss 25.184323067758598\n",
      "Epoch  204 , loss 24.936805463304708\n"
     ]
    },
    {
     "name": "stderr",
     "output_type": "stream",
     "text": [
      "\r",
      "Iterations:  68%|██████████████████████▌          | 205/300 [03:55<02:02,  1.28s/it]"
     ]
    },
    {
     "name": "stdout",
     "output_type": "stream",
     "text": [
      "Epoch:  204\n",
      "t_loss:  24.936805463304708 , v_loss:  0.5855476558208466\n",
      "t_acc:  0.7071272953625894 , v_acc:  0.7204968944099379\n",
      "t_recall:  0.522366560985987 , v_recall:  0.571981981981982\n",
      "t_prec:  0.7542725929932595 , v_prec:  0.7076403326403327\n",
      "t_f:  0.45982083913917454 , v_f:  0.555984555984556\n",
      "////////\n"
     ]
    },
    {
     "name": "stderr",
     "output_type": "stream",
     "text": [
      "\r",
      "Iterations:  69%|██████████████████████▋          | 206/300 [03:56<01:50,  1.18s/it]"
     ]
    },
    {
     "name": "stdout",
     "output_type": "stream",
     "text": [
      "Epoch  205 , loss 24.706599142037184\n",
      "Epoch  206 , loss 24.462284910912608\n"
     ]
    },
    {
     "name": "stderr",
     "output_type": "stream",
     "text": [
      "\r",
      "Iterations:  69%|██████████████████████▊          | 207/300 [03:58<02:02,  1.31s/it]"
     ]
    },
    {
     "name": "stdout",
     "output_type": "stream",
     "text": [
      "Epoch:  206\n",
      "t_loss:  24.462284910912608 , v_loss:  0.5906154165665308\n",
      "t_acc:  0.7046374105197635 , v_acc:  0.7204968944099379\n",
      "t_recall:  0.5205768518137275 , v_recall:  0.5664864864864865\n",
      "t_prec:  0.7073307334882177 , v_prec:  0.7236363636363636\n",
      "t_f:  0.4585869594746843 , v_f:  0.5449406444318825\n",
      "////////\n"
     ]
    },
    {
     "name": "stderr",
     "output_type": "stream",
     "text": [
      "\r",
      "Iterations:  69%|██████████████████████▉          | 208/300 [03:59<01:52,  1.22s/it]"
     ]
    },
    {
     "name": "stdout",
     "output_type": "stream",
     "text": [
      "Epoch  207 , loss 24.231731900981828\n",
      "Epoch  208 , loss 23.98183598237879\n"
     ]
    },
    {
     "name": "stderr",
     "output_type": "stream",
     "text": [
      "\r",
      "Iterations:  70%|██████████████████████▉          | 209/300 [04:01<02:03,  1.36s/it]"
     ]
    },
    {
     "name": "stdout",
     "output_type": "stream",
     "text": [
      "Epoch:  208\n",
      "t_loss:  23.98183598237879 , v_loss:  0.5868236124515533\n",
      "t_acc:  0.7024587612822907 , v_acc:  0.7204968944099379\n",
      "t_recall:  0.514410315532315 , v_recall:  0.5664864864864865\n",
      "t_prec:  0.7258993373303881 , v_prec:  0.7236363636363636\n",
      "t_f:  0.4438366304006165 , v_f:  0.5449406444318825\n",
      "////////\n"
     ]
    },
    {
     "name": "stderr",
     "output_type": "stream",
     "text": [
      "\r",
      "Iterations:  70%|███████████████████████          | 210/300 [04:02<01:52,  1.25s/it]"
     ]
    },
    {
     "name": "stdout",
     "output_type": "stream",
     "text": [
      "Epoch  209 , loss 23.74691349852319\n",
      "Epoch  210 , loss 23.513937146055934\n"
     ]
    },
    {
     "name": "stderr",
     "output_type": "stream",
     "text": [
      "\r",
      "Iterations:  70%|███████████████████████▏         | 211/300 [04:03<02:02,  1.38s/it]"
     ]
    },
    {
     "name": "stdout",
     "output_type": "stream",
     "text": [
      "Epoch:  210\n",
      "t_loss:  23.513937146055934 , v_loss:  0.5885205964247385\n",
      "t_acc:  0.7037037037037037 , v_acc:  0.7204968944099379\n",
      "t_recall:  0.5167428391045964 , v_recall:  0.5664864864864865\n",
      "t_prec:  0.731406892190958 , v_prec:  0.7236363636363636\n",
      "t_f:  0.4487841728381891 , v_f:  0.5449406444318825\n",
      "////////\n"
     ]
    },
    {
     "name": "stderr",
     "output_type": "stream",
     "text": [
      "\r",
      "Iterations:  71%|███████████████████████▎         | 212/300 [04:04<01:48,  1.23s/it]"
     ]
    },
    {
     "name": "stdout",
     "output_type": "stream",
     "text": [
      "Epoch  211 , loss 23.2773099787095\n",
      "Epoch  212 , loss 23.042608896891277\n"
     ]
    },
    {
     "name": "stderr",
     "output_type": "stream",
     "text": [
      "\r",
      "Iterations:  71%|███████████████████████▍         | 213/300 [04:06<01:52,  1.29s/it]"
     ]
    },
    {
     "name": "stdout",
     "output_type": "stream",
     "text": [
      "Epoch:  212\n",
      "t_loss:  23.042608896891277 , v_loss:  0.5877076983451843\n",
      "t_acc:  0.7043261749144102 , v_acc:  0.7204968944099379\n",
      "t_recall:  0.5192030029782737 , v_recall:  0.5664864864864865\n",
      "t_prec:  0.7148549871520562 , v_prec:  0.7236363636363636\n",
      "t_f:  0.4550776228969694 , v_f:  0.5449406444318825\n",
      "////////\n"
     ]
    },
    {
     "name": "stderr",
     "output_type": "stream",
     "text": [
      "\r",
      "Iterations:  71%|███████████████████████▌         | 214/300 [04:07<01:45,  1.22s/it]"
     ]
    },
    {
     "name": "stdout",
     "output_type": "stream",
     "text": [
      "Epoch  213 , loss 22.805920320398666\n",
      "Epoch  214 , loss 22.577223983465455\n"
     ]
    },
    {
     "name": "stderr",
     "output_type": "stream",
     "text": [
      "\r",
      "Iterations:  72%|███████████████████████▋         | 215/300 [04:08<01:48,  1.28s/it]"
     ]
    },
    {
     "name": "stdout",
     "output_type": "stream",
     "text": [
      "Epoch:  214\n",
      "t_loss:  22.577223983465455 , v_loss:  0.5901208569606146\n",
      "t_acc:  0.7024587612822907 , v_acc:  0.7204968944099379\n",
      "t_recall:  0.516135518315697 , v_recall:  0.5664864864864865\n",
      "t_prec:  0.6994971491922711 , v_prec:  0.7236363636363636\n",
      "t_f:  0.44906774991534126 , v_f:  0.5449406444318825\n",
      "////////\n"
     ]
    },
    {
     "name": "stderr",
     "output_type": "stream",
     "text": [
      "\r",
      "Iterations:  72%|███████████████████████▊         | 216/300 [04:09<01:44,  1.24s/it]"
     ]
    },
    {
     "name": "stdout",
     "output_type": "stream",
     "text": [
      "Epoch  215 , loss 22.348591972799863\n",
      "Epoch  216 , loss 22.11373856488396\n"
     ]
    },
    {
     "name": "stderr",
     "output_type": "stream",
     "text": [
      "\r",
      "Iterations:  72%|███████████████████████▊         | 217/300 [04:11<01:45,  1.28s/it]"
     ]
    },
    {
     "name": "stdout",
     "output_type": "stream",
     "text": [
      "Epoch:  216\n",
      "t_loss:  22.11373856488396 , v_loss:  0.5933926304181417\n",
      "t_acc:  0.7033924680983504 , v_acc:  0.7142857142857143\n",
      "t_recall:  0.5176692606469854 , v_recall:  0.5564864864864865\n",
      "t_prec:  0.7075491976827919 , v_prec:  0.707615894039735\n",
      "t_f:  0.45208058917832017 , v_f:  0.528880407124682\n",
      "////////\n"
     ]
    },
    {
     "name": "stderr",
     "output_type": "stream",
     "text": [
      "\r",
      "Iterations:  73%|███████████████████████▉         | 218/300 [04:12<01:38,  1.20s/it]"
     ]
    },
    {
     "name": "stdout",
     "output_type": "stream",
     "text": [
      "Epoch  217 , loss 21.896260579427082\n",
      "Epoch  218 , loss 21.666837767058727\n"
     ]
    },
    {
     "name": "stderr",
     "output_type": "stream",
     "text": [
      "\r",
      "Iterations:  73%|████████████████████████         | 219/300 [04:13<01:40,  1.24s/it]"
     ]
    },
    {
     "name": "stdout",
     "output_type": "stream",
     "text": [
      "Epoch:  218\n",
      "t_loss:  21.666837767058727 , v_loss:  0.5935735106468201\n",
      "t_acc:  0.702769996887644 , v_acc:  0.7142857142857143\n",
      "t_recall:  0.514346495381617 , v_recall:  0.5564864864864865\n",
      "t_prec:  0.741126626272568 , v_prec:  0.707615894039735\n",
      "t_f:  0.44309188848171044 , v_f:  0.528880407124682\n",
      "////////\n"
     ]
    },
    {
     "name": "stderr",
     "output_type": "stream",
     "text": [
      "\r",
      "Iterations:  73%|████████████████████████▏        | 220/300 [04:14<01:33,  1.16s/it]"
     ]
    },
    {
     "name": "stdout",
     "output_type": "stream",
     "text": [
      "Epoch  219 , loss 21.434510548909504\n",
      "Epoch  220 , loss 21.211795619889802\n"
     ]
    },
    {
     "name": "stderr",
     "output_type": "stream",
     "text": [
      "\r",
      "Iterations:  74%|████████████████████████▎        | 221/300 [04:16<01:39,  1.26s/it]"
     ]
    },
    {
     "name": "stdout",
     "output_type": "stream",
     "text": [
      "Epoch:  220\n",
      "t_loss:  21.211795619889802 , v_loss:  0.5933958292007446\n",
      "t_acc:  0.7021475256769374 , v_acc:  0.7142857142857143\n",
      "t_recall:  0.5159118046691646 , v_recall:  0.5564864864864865\n",
      "t_prec:  0.6933410046027617 , v_prec:  0.707615894039735\n",
      "t_f:  0.44892211657109676 , v_f:  0.528880407124682\n",
      "////////\n"
     ]
    },
    {
     "name": "stderr",
     "output_type": "stream",
     "text": [
      "\r",
      "Iterations:  74%|████████████████████████▍        | 222/300 [04:16<01:30,  1.16s/it]"
     ]
    },
    {
     "name": "stdout",
     "output_type": "stream",
     "text": [
      "Epoch  221 , loss 20.995735729441922\n",
      "Epoch  222 , loss 20.776748694625557\n"
     ]
    },
    {
     "name": "stderr",
     "output_type": "stream",
     "text": [
      "\r",
      "Iterations:  74%|████████████████████████▌        | 223/300 [04:18<01:38,  1.28s/it]"
     ]
    },
    {
     "name": "stdout",
     "output_type": "stream",
     "text": [
      "Epoch:  222\n",
      "t_loss:  20.776748694625557 , v_loss:  0.5964284638563792\n",
      "t_acc:  0.7037037037037037 , v_acc:  0.7080745341614907\n",
      "t_recall:  0.5173179066990571 , v_recall:  0.5464864864864865\n",
      "t_prec:  0.7219056663501108 , v_prec:  0.6885964912280702\n",
      "t_f:  0.4505134904415759 , v_f:  0.5123413030869368\n",
      "////////\n"
     ]
    },
    {
     "name": "stderr",
     "output_type": "stream",
     "text": [
      "\r",
      "Iterations:  75%|████████████████████████▋        | 224/300 [04:19<01:26,  1.14s/it]"
     ]
    },
    {
     "name": "stdout",
     "output_type": "stream",
     "text": [
      "Epoch  223 , loss 20.56047716327742\n",
      "Epoch  224 , loss 20.346842036527747\n"
     ]
    },
    {
     "name": "stderr",
     "output_type": "stream",
     "text": [
      "\r",
      "Iterations:  75%|████████████████████████▊        | 225/300 [04:20<01:35,  1.27s/it]"
     ]
    },
    {
     "name": "stdout",
     "output_type": "stream",
     "text": [
      "Epoch:  224\n",
      "t_loss:  20.346842036527747 , v_loss:  0.5954067558050156\n",
      "t_acc:  0.7037037037037037 , v_acc:  0.7080745341614907\n",
      "t_recall:  0.5170303729018267 , v_recall:  0.5464864864864865\n",
      "t_prec:  0.7264710534640937 , v_prec:  0.6885964912280702\n",
      "t_f:  0.44965058619473613 , v_f:  0.5123413030869368\n",
      "////////\n"
     ]
    },
    {
     "name": "stderr",
     "output_type": "stream",
     "text": [
      "\r",
      "Iterations:  75%|████████████████████████▊        | 226/300 [04:21<01:24,  1.15s/it]"
     ]
    },
    {
     "name": "stdout",
     "output_type": "stream",
     "text": [
      "Epoch  225 , loss 20.139788234935086\n",
      "Epoch  226 , loss 19.921187082926433\n"
     ]
    },
    {
     "name": "stderr",
     "output_type": "stream",
     "text": [
      "\r",
      "Iterations:  76%|████████████████████████▉        | 227/300 [04:23<01:32,  1.27s/it]"
     ]
    },
    {
     "name": "stdout",
     "output_type": "stream",
     "text": [
      "Epoch:  226\n",
      "t_loss:  19.921187082926433 , v_loss:  0.5927469034989675\n",
      "t_acc:  0.7009025832555245 , v_acc:  0.7080745341614907\n",
      "t_recall:  0.5127166797051921 , v_recall:  0.5464864864864865\n",
      "t_prec:  0.6949810606060607 , v_prec:  0.6885964912280702\n",
      "t_f:  0.44137095552975625 , v_f:  0.5123413030869368\n",
      "////////\n"
     ]
    },
    {
     "name": "stderr",
     "output_type": "stream",
     "text": [
      "\r",
      "Iterations:  76%|█████████████████████████        | 228/300 [04:24<01:21,  1.14s/it]"
     ]
    },
    {
     "name": "stdout",
     "output_type": "stream",
     "text": [
      "Epoch  227 , loss 19.70255694669836\n",
      "Epoch  228 , loss 19.49394267213111\n"
     ]
    },
    {
     "name": "stderr",
     "output_type": "stream",
     "text": [
      "\r",
      "Iterations:  76%|█████████████████████████▏       | 229/300 [04:25<01:31,  1.28s/it]"
     ]
    },
    {
     "name": "stdout",
     "output_type": "stream",
     "text": [
      "Epoch:  228\n",
      "t_loss:  19.49394267213111 , v_loss:  0.5934032996495565\n",
      "t_acc:  0.7037037037037037 , v_acc:  0.7018633540372671\n",
      "t_recall:  0.5161677715101357 , v_recall:  0.541981981981982\n",
      "t_prec:  0.742583160582639 , v_prec:  0.6543046357615894\n",
      "t_f:  0.4470407372269529 , v_f:  0.5083969465648855\n",
      "////////\n"
     ]
    },
    {
     "name": "stderr",
     "output_type": "stream",
     "text": [
      "\r",
      "Iterations:  77%|█████████████████████████▎       | 230/300 [04:26<01:22,  1.18s/it]"
     ]
    },
    {
     "name": "stdout",
     "output_type": "stream",
     "text": [
      "Epoch  229 , loss 19.2803451313692\n",
      "Epoch  230 , loss 19.07667739718568\n"
     ]
    },
    {
     "name": "stderr",
     "output_type": "stream",
     "text": [
      "\r",
      "Iterations:  77%|█████████████████████████▍       | 231/300 [04:28<01:28,  1.29s/it]"
     ]
    },
    {
     "name": "stdout",
     "output_type": "stream",
     "text": [
      "Epoch:  230\n",
      "t_loss:  19.07667739718568 , v_loss:  0.5948821355899175\n",
      "t_acc:  0.7018362900715842 , v_acc:  0.7080745341614907\n",
      "t_recall:  0.5139628882392501 , v_recall:  0.5464864864864865\n",
      "t_prec:  0.7095008305761865 , v_prec:  0.6885964912280702\n",
      "t_f:  0.4435556998565346 , v_f:  0.5123413030869368\n",
      "////////\n"
     ]
    },
    {
     "name": "stderr",
     "output_type": "stream",
     "text": [
      "\r",
      "Iterations:  77%|█████████████████████████▌       | 232/300 [04:29<01:21,  1.20s/it]"
     ]
    },
    {
     "name": "stdout",
     "output_type": "stream",
     "text": [
      "Epoch  231 , loss 18.867647694606408\n",
      "Epoch  232 , loss 18.65450612236472\n"
     ]
    },
    {
     "name": "stderr",
     "output_type": "stream",
     "text": [
      "\r",
      "Iterations:  78%|█████████████████████████▋       | 233/300 [04:30<01:26,  1.29s/it]"
     ]
    },
    {
     "name": "stdout",
     "output_type": "stream",
     "text": [
      "Epoch:  232\n",
      "t_loss:  18.65450612236472 , v_loss:  0.5974032779534658\n",
      "t_acc:  0.7021475256769374 , v_acc:  0.7080745341614907\n",
      "t_recall:  0.5144741356830128 , v_recall:  0.5464864864864865\n",
      "t_prec:  0.7126181099716402 , v_prec:  0.6885964912280702\n",
      "t_f:  0.44457602702299936 , v_f:  0.5123413030869368\n",
      "////////\n"
     ]
    },
    {
     "name": "stderr",
     "output_type": "stream",
     "text": [
      "\r",
      "Iterations:  78%|█████████████████████████▋       | 234/300 [04:31<01:18,  1.19s/it]"
     ]
    },
    {
     "name": "stdout",
     "output_type": "stream",
     "text": [
      "Epoch  233 , loss 18.442480760462143\n",
      "Epoch  234 , loss 18.238057379629097\n"
     ]
    },
    {
     "name": "stderr",
     "output_type": "stream",
     "text": [
      "\r",
      "Iterations:  78%|█████████████████████████▊       | 235/300 [04:33<01:21,  1.25s/it]"
     ]
    },
    {
     "name": "stdout",
     "output_type": "stream",
     "text": [
      "Epoch:  234\n",
      "t_loss:  18.238057379629097 , v_loss:  0.5954844107230505\n",
      "t_acc:  0.7018362900715842 , v_acc:  0.7080745341614907\n",
      "t_recall:  0.5148254896309411 , v_recall:  0.5464864864864865\n",
      "t_prec:  0.6971503662424257 , v_prec:  0.6885964912280702\n",
      "t_f:  0.44618199745226594 , v_f:  0.5123413030869368\n",
      "////////\n"
     ]
    },
    {
     "name": "stderr",
     "output_type": "stream",
     "text": [
      "\r",
      "Iterations:  79%|█████████████████████████▉       | 236/300 [04:33<01:12,  1.13s/it]"
     ]
    },
    {
     "name": "stdout",
     "output_type": "stream",
     "text": [
      "Epoch  235 , loss 18.030208363252527\n",
      "Epoch  236 , loss 17.828190523035385\n"
     ]
    },
    {
     "name": "stderr",
     "output_type": "stream",
     "text": [
      "\r",
      "Iterations:  79%|██████████████████████████       | 237/300 [04:35<01:16,  1.22s/it]"
     ]
    },
    {
     "name": "stdout",
     "output_type": "stream",
     "text": [
      "Epoch:  236\n",
      "t_loss:  17.828190523035385 , v_loss:  0.5967655827601751\n",
      "t_acc:  0.7015250544662309 , v_acc:  0.7080745341614907\n",
      "t_recall:  0.5146017759844086 , v_recall:  0.5464864864864865\n",
      "t_prec:  0.6905720085980416 , v_prec:  0.6885964912280702\n",
      "t_f:  0.44603896448286623 , v_f:  0.5123413030869368\n",
      "////////\n"
     ]
    },
    {
     "name": "stderr",
     "output_type": "stream",
     "text": [
      "\r",
      "Iterations:  79%|██████████████████████████▏      | 238/300 [04:36<01:09,  1.12s/it]"
     ]
    },
    {
     "name": "stdout",
     "output_type": "stream",
     "text": [
      "Epoch  237 , loss 17.622962764665193\n",
      "Epoch  238 , loss 17.422224680582683\n"
     ]
    },
    {
     "name": "stderr",
     "output_type": "stream",
     "text": [
      "\r",
      "Iterations:  80%|██████████████████████████▎      | 239/300 [04:37<01:16,  1.25s/it]"
     ]
    },
    {
     "name": "stdout",
     "output_type": "stream",
     "text": [
      "Epoch:  238\n",
      "t_loss:  17.422224680582683 , v_loss:  0.5969084451595942\n",
      "t_acc:  0.702769996887644 , v_acc:  0.7080745341614907\n",
      "t_recall:  0.5152090967733081 , v_recall:  0.5464864864864865\n",
      "t_prec:  0.7234143358288194 , v_prec:  0.6885964912280702\n",
      "t_f:  0.4457367876770788 , v_f:  0.5123413030869368\n",
      "////////\n"
     ]
    },
    {
     "name": "stderr",
     "output_type": "stream",
     "text": [
      "\r",
      "Iterations:  80%|██████████████████████████▍      | 240/300 [04:38<01:09,  1.16s/it]"
     ]
    },
    {
     "name": "stdout",
     "output_type": "stream",
     "text": [
      "Epoch  239 , loss 17.21768237095253\n",
      "Epoch  240 , loss 17.01284580604703\n"
     ]
    },
    {
     "name": "stderr",
     "output_type": "stream",
     "text": [
      "\r",
      "Iterations:  80%|██████████████████████████▌      | 241/300 [04:40<01:16,  1.29s/it]"
     ]
    },
    {
     "name": "stdout",
     "output_type": "stream",
     "text": [
      "Epoch:  240\n",
      "t_loss:  17.01284580604703 , v_loss:  0.5959711670875549\n",
      "t_acc:  0.7024587612822907 , v_acc:  0.7018633540372671\n",
      "t_recall:  0.5149853831267757 , v_recall:  0.541981981981982\n",
      "t_prec:  0.7156101895734597 , v_prec:  0.6543046357615894\n",
      "t_f:  0.44559454191033143 , v_f:  0.5083969465648855\n",
      "////////\n"
     ]
    },
    {
     "name": "stderr",
     "output_type": "stream",
     "text": [
      "\r",
      "Iterations:  81%|██████████████████████████▌      | 242/300 [04:41<01:11,  1.24s/it]"
     ]
    },
    {
     "name": "stdout",
     "output_type": "stream",
     "text": [
      "Epoch  241 , loss 16.805977279064702\n",
      "Epoch  242 , loss 16.612885867848117\n"
     ]
    },
    {
     "name": "stderr",
     "output_type": "stream",
     "text": [
      "\r",
      "Iterations:  81%|██████████████████████████▋      | 243/300 [04:43<01:17,  1.36s/it]"
     ]
    },
    {
     "name": "stdout",
     "output_type": "stream",
     "text": [
      "Epoch:  242\n",
      "t_loss:  16.612885867848117 , v_loss:  0.5975975543260574\n",
      "t_acc:  0.7009025832555245 , v_acc:  0.7018633540372671\n",
      "t_recall:  0.5124291459079617 , v_recall:  0.5364864864864866\n",
      "t_prec:  0.6993103954221994 , v_prec:  0.6654411764705883\n",
      "t_f:  0.4404837904468692 , v_f:  0.4952978056426333\n",
      "////////\n"
     ]
    },
    {
     "name": "stderr",
     "output_type": "stream",
     "text": [
      "\r",
      "Iterations:  81%|██████████████████████████▊      | 244/300 [04:44<01:11,  1.27s/it]"
     ]
    },
    {
     "name": "stdout",
     "output_type": "stream",
     "text": [
      "Epoch  243 , loss 16.402349733838847\n",
      "Epoch  244 , loss 16.2132428113152\n"
     ]
    },
    {
     "name": "stderr",
     "output_type": "stream",
     "text": [
      "\r",
      "Iterations:  82%|██████████████████████████▉      | 245/300 [04:45<01:14,  1.36s/it]"
     ]
    },
    {
     "name": "stdout",
     "output_type": "stream",
     "text": [
      "Epoch:  244\n",
      "t_loss:  16.2132428113152 , v_loss:  0.599458043773969\n",
      "t_acc:  0.6996576408341114 , v_acc:  0.7018633540372671\n",
      "t_recall:  0.50980908853845 , v_recall:  0.5364864864864866\n",
      "t_prec:  0.6927627438640654 , v_prec:  0.6654411764705883\n",
      "t_f:  0.4345547418019834 , v_f:  0.4952978056426333\n",
      "////////\n"
     ]
    },
    {
     "name": "stderr",
     "output_type": "stream",
     "text": [
      "\r",
      "Iterations:  82%|███████████████████████████      | 246/300 [04:46<01:07,  1.25s/it]"
     ]
    },
    {
     "name": "stdout",
     "output_type": "stream",
     "text": [
      "Epoch  245 , loss 16.01399591857312\n",
      "Epoch  246 , loss 15.817012431574803\n"
     ]
    },
    {
     "name": "stderr",
     "output_type": "stream",
     "text": [
      "\r",
      "Iterations:  82%|███████████████████████████▏     | 247/300 [04:48<01:09,  1.31s/it]"
     ]
    },
    {
     "name": "stdout",
     "output_type": "stream",
     "text": [
      "Epoch:  246\n",
      "t_loss:  15.817012431574803 , v_loss:  0.5997013797362646\n",
      "t_acc:  0.7046374105197635 , v_acc:  0.7018633540372671\n",
      "t_recall:  0.5185641152331151 , v_recall:  0.5364864864864866\n",
      "t_prec:  0.7336231216535207 , v_prec:  0.6654411764705883\n",
      "t_f:  0.4526738526098423 , v_f:  0.4952978056426333\n",
      "////////\n"
     ]
    },
    {
     "name": "stderr",
     "output_type": "stream",
     "text": [
      "\r",
      "Iterations:  83%|███████████████████████████▎     | 248/300 [04:49<01:04,  1.24s/it]"
     ]
    },
    {
     "name": "stdout",
     "output_type": "stream",
     "text": [
      "Epoch  247 , loss 15.628985292771283\n",
      "Epoch  248 , loss 15.437089041167615\n"
     ]
    },
    {
     "name": "stderr",
     "output_type": "stream",
     "text": [
      "\r",
      "Iterations:  83%|███████████████████████████▍     | 249/300 [04:50<01:05,  1.27s/it]"
     ]
    },
    {
     "name": "stdout",
     "output_type": "stream",
     "text": [
      "Epoch:  248\n",
      "t_loss:  15.437089041167615 , v_loss:  0.6007133275270462\n",
      "t_acc:  0.7021475256769374 , v_acc:  0.7018633540372671\n",
      "t_recall:  0.5156242708719342 , v_recall:  0.5364864864864866\n",
      "t_prec:  0.6966261730669584 , v_prec:  0.6654411764705883\n",
      "t_f:  0.4480599335591349 , v_f:  0.4952978056426333\n",
      "////////\n"
     ]
    },
    {
     "name": "stderr",
     "output_type": "stream",
     "text": [
      "\r",
      "Iterations:  83%|███████████████████████████▌     | 250/300 [04:51<01:00,  1.20s/it]"
     ]
    },
    {
     "name": "stdout",
     "output_type": "stream",
     "text": [
      "Epoch  249 , loss 15.245176334007114\n",
      "Epoch  250 , loss 15.061176000856886\n"
     ]
    },
    {
     "name": "stderr",
     "output_type": "stream",
     "text": [
      "\r",
      "Iterations:  84%|███████████████████████████▌     | 251/300 [04:52<01:00,  1.24s/it]"
     ]
    },
    {
     "name": "stdout",
     "output_type": "stream",
     "text": [
      "Epoch:  250\n",
      "t_loss:  15.061176000856886 , v_loss:  0.6002266754706701\n",
      "t_acc:  0.7021475256769374 , v_acc:  0.7018633540372671\n",
      "t_recall:  0.5153367370747038 , v_recall:  0.5364864864864866\n",
      "t_prec:  0.7001641987102938 , v_prec:  0.6654411764705883\n",
      "t_f:  0.44719425339948166 , v_f:  0.4952978056426333\n",
      "////////\n"
     ]
    },
    {
     "name": "stderr",
     "output_type": "stream",
     "text": [
      "\r",
      "Iterations:  84%|███████████████████████████▋     | 252/300 [04:53<00:56,  1.17s/it]"
     ]
    },
    {
     "name": "stdout",
     "output_type": "stream",
     "text": [
      "Epoch  251 , loss 14.871204750210632\n",
      "Epoch  252 , loss 14.675711295183968\n"
     ]
    },
    {
     "name": "stderr",
     "output_type": "stream",
     "text": [
      "\r",
      "Iterations:  84%|███████████████████████████▊     | 253/300 [04:55<00:57,  1.22s/it]"
     ]
    },
    {
     "name": "stdout",
     "output_type": "stream",
     "text": [
      "Epoch:  252\n",
      "t_loss:  14.675711295183968 , v_loss:  0.5995578418175379\n",
      "t_acc:  0.702769996887644 , v_acc:  0.7018633540372671\n",
      "t_recall:  0.5140589615843867 , v_recall:  0.5364864864864866\n",
      "t_prec:  0.7482550530754689 , v_prec:  0.6654411764705883\n",
      "t_f:  0.4422030146412812 , v_f:  0.4952978056426333\n",
      "////////\n"
     ]
    },
    {
     "name": "stderr",
     "output_type": "stream",
     "text": [
      "\r",
      "Iterations:  85%|███████████████████████████▉     | 254/300 [04:56<00:53,  1.16s/it]"
     ]
    },
    {
     "name": "stdout",
     "output_type": "stream",
     "text": [
      "Epoch  253 , loss 14.503434910493738\n",
      "Epoch  254 , loss 14.31654219533883\n"
     ]
    },
    {
     "name": "stderr",
     "output_type": "stream",
     "text": [
      "\r",
      "Iterations:  85%|████████████████████████████     | 255/300 [04:57<00:55,  1.24s/it]"
     ]
    },
    {
     "name": "stdout",
     "output_type": "stream",
     "text": [
      "Epoch:  254\n",
      "t_loss:  14.31654219533883 , v_loss:  0.6006587892770767\n",
      "t_acc:  0.7043261749144102 , v_acc:  0.7018633540372671\n",
      "t_recall:  0.5174778001948916 , v_recall:  0.5364864864864866\n",
      "t_prec:  0.7415649699652229 , v_prec:  0.6654411764705883\n",
      "t_f:  0.4499421892818063 , v_f:  0.4952978056426333\n",
      "////////\n"
     ]
    },
    {
     "name": "stderr",
     "output_type": "stream",
     "text": [
      "\r",
      "Iterations:  85%|████████████████████████████▏    | 256/300 [04:58<00:52,  1.19s/it]"
     ]
    },
    {
     "name": "stdout",
     "output_type": "stream",
     "text": [
      "Epoch  255 , loss 14.135803877138624\n",
      "Epoch  256 , loss 13.9556251039692\n"
     ]
    },
    {
     "name": "stderr",
     "output_type": "stream",
     "text": [
      "\r",
      "Iterations:  86%|████████████████████████████▎    | 257/300 [05:00<00:57,  1.34s/it]"
     ]
    },
    {
     "name": "stdout",
     "output_type": "stream",
     "text": [
      "Epoch:  256\n",
      "t_loss:  13.9556251039692 , v_loss:  0.602445031205813\n",
      "t_acc:  0.7018362900715842 , v_acc:  0.7018633540372671\n",
      "t_recall:  0.5139628882392501 , v_recall:  0.5364864864864866\n",
      "t_prec:  0.7095008305761865 , v_prec:  0.6654411764705883\n",
      "t_f:  0.4435556998565346 , v_f:  0.4952978056426333\n",
      "////////\n"
     ]
    },
    {
     "name": "stderr",
     "output_type": "stream",
     "text": [
      "\r",
      "Iterations:  86%|████████████████████████████▍    | 258/300 [05:01<00:50,  1.20s/it]"
     ]
    },
    {
     "name": "stdout",
     "output_type": "stream",
     "text": [
      "Epoch  257 , loss 13.78006918290082\n",
      "Epoch  258 , loss 13.598377358679677\n"
     ]
    },
    {
     "name": "stderr",
     "output_type": "stream",
     "text": [
      "\r",
      "Iterations:  86%|████████████████████████████▍    | 259/300 [05:02<00:54,  1.32s/it]"
     ]
    },
    {
     "name": "stdout",
     "output_type": "stream",
     "text": [
      "Epoch:  258\n",
      "t_loss:  13.598377358679677 , v_loss:  0.6017001022895178\n",
      "t_acc:  0.702769996887644 , v_acc:  0.7018633540372671\n",
      "t_recall:  0.5157841643677687 , v_recall:  0.5364864864864866\n",
      "t_prec:  0.7139468690702087 , v_prec:  0.6654411764705883\n",
      "t_f:  0.4474821612914204 , v_f:  0.4952978056426333\n",
      "////////\n"
     ]
    },
    {
     "name": "stderr",
     "output_type": "stream",
     "text": [
      "\r",
      "Iterations:  87%|████████████████████████████▌    | 260/300 [05:03<00:47,  1.19s/it]"
     ]
    },
    {
     "name": "stdout",
     "output_type": "stream",
     "text": [
      "Epoch  259 , loss 13.420555694430481\n",
      "Epoch  260 , loss 13.245236284592572\n"
     ]
    },
    {
     "name": "stderr",
     "output_type": "stream",
     "text": [
      "\r",
      "Iterations:  87%|████████████████████████████▋    | 261/300 [05:05<00:50,  1.29s/it]"
     ]
    },
    {
     "name": "stdout",
     "output_type": "stream",
     "text": [
      "Epoch:  260\n",
      "t_loss:  13.245236284592572 , v_loss:  0.6016839941342672\n",
      "t_acc:  0.702769996887644 , v_acc:  0.7018633540372671\n",
      "t_recall:  0.5140589615843867 , v_recall:  0.5364864864864866\n",
      "t_prec:  0.7482550530754689 , v_prec:  0.6654411764705883\n",
      "t_f:  0.4422030146412812 , v_f:  0.4952978056426333\n",
      "////////\n"
     ]
    },
    {
     "name": "stderr",
     "output_type": "stream",
     "text": [
      "\r",
      "Iterations:  87%|████████████████████████████▊    | 262/300 [05:06<00:44,  1.17s/it]"
     ]
    },
    {
     "name": "stdout",
     "output_type": "stream",
     "text": [
      "Epoch  261 , loss 13.068612734476725\n",
      "Epoch  262 , loss 12.900362893646838\n"
     ]
    },
    {
     "name": "stderr",
     "output_type": "stream",
     "text": [
      "\r",
      "Iterations:  88%|████████████████████████████▉    | 263/300 [05:07<00:46,  1.27s/it]"
     ]
    },
    {
     "name": "stdout",
     "output_type": "stream",
     "text": [
      "Epoch:  262\n",
      "t_loss:  12.900362893646838 , v_loss:  0.6031515647967657\n",
      "t_acc:  0.6999688764394647 , v_acc:  0.7018633540372671\n",
      "t_recall:  0.5123330725628251 , v_recall:  0.5364864864864866\n",
      "t_prec:  0.6704584255453683 , v_prec:  0.6654411764705883\n",
      "t_f:  0.4418360741764856 , v_f:  0.4952978056426333\n",
      "////////\n"
     ]
    },
    {
     "name": "stderr",
     "output_type": "stream",
     "text": [
      "\r",
      "Iterations:  88%|█████████████████████████████    | 264/300 [05:08<00:41,  1.15s/it]"
     ]
    },
    {
     "name": "stdout",
     "output_type": "stream",
     "text": [
      "Epoch  263 , loss 12.723808157677745\n",
      "Epoch  264 , loss 12.554181024140002\n"
     ]
    },
    {
     "name": "stderr",
     "output_type": "stream",
     "text": [
      "\r",
      "Iterations:  88%|█████████████████████████████▏   | 265/300 [05:10<00:43,  1.24s/it]"
     ]
    },
    {
     "name": "stdout",
     "output_type": "stream",
     "text": [
      "Epoch:  264\n",
      "t_loss:  12.554181024140002 , v_loss:  0.6027276714642843\n",
      "t_acc:  0.7055711173358232 , v_acc:  0.7018633540372671\n",
      "t_recall:  0.5200978575644034 , v_recall:  0.5364864864864866\n",
      "t_prec:  0.7400704956555003 , v_prec:  0.6654411764705883\n",
      "t_f:  0.45568119139547714 , v_f:  0.4952978056426333\n",
      "////////\n"
     ]
    },
    {
     "name": "stderr",
     "output_type": "stream",
     "text": [
      "\r",
      "Iterations:  89%|█████████████████████████████▎   | 266/300 [05:11<00:39,  1.15s/it]"
     ]
    },
    {
     "name": "stdout",
     "output_type": "stream",
     "text": [
      "Epoch  265 , loss 12.387941958857517\n",
      "Epoch  266 , loss 12.209306062436571\n"
     ]
    },
    {
     "name": "stderr",
     "output_type": "stream",
     "text": [
      "\r",
      "Iterations:  89%|█████████████████████████████▎   | 267/300 [05:12<00:41,  1.25s/it]"
     ]
    },
    {
     "name": "stdout",
     "output_type": "stream",
     "text": [
      "Epoch:  266\n",
      "t_loss:  12.209306062436571 , v_loss:  0.6039201219876608\n",
      "t_acc:  0.704014939309057 , v_acc:  0.7018633540372671\n",
      "t_recall:  0.5152413499677468 , v_recall:  0.5364864864864866\n",
      "t_prec:  0.7835029613996869 , v_prec:  0.6654411764705883\n",
      "t_f:  0.44365054582300417 , v_f:  0.4952978056426333\n",
      "////////\n"
     ]
    },
    {
     "name": "stderr",
     "output_type": "stream",
     "text": [
      "\r",
      "Iterations:  89%|█████████████████████████████▍   | 268/300 [05:13<00:36,  1.13s/it]"
     ]
    },
    {
     "name": "stdout",
     "output_type": "stream",
     "text": [
      "Epoch  267 , loss 12.041884422302246\n",
      "Epoch  268 , loss 11.864619928247789\n"
     ]
    },
    {
     "name": "stderr",
     "output_type": "stream",
     "text": [
      "\r",
      "Iterations:  90%|█████████████████████████████▌   | 269/300 [05:14<00:38,  1.23s/it]"
     ]
    },
    {
     "name": "stdout",
     "output_type": "stream",
     "text": [
      "Epoch:  268\n",
      "t_loss:  11.864619928247789 , v_loss:  0.603386715054512\n",
      "t_acc:  0.7030812324929971 , v_acc:  0.7018633540372671\n",
      "t_recall:  0.5162954118115316 , v_recall:  0.5364864864864866\n",
      "t_prec:  0.716697491056871 , v_prec:  0.6654411764705883\n",
      "t_f:  0.4484943899472461 , v_f:  0.4952978056426333\n",
      "////////\n"
     ]
    },
    {
     "name": "stderr",
     "output_type": "stream",
     "text": [
      "\r",
      "Iterations:  90%|█████████████████████████████▋   | 270/300 [05:15<00:33,  1.13s/it]"
     ]
    },
    {
     "name": "stdout",
     "output_type": "stream",
     "text": [
      "Epoch  269 , loss 11.696161775028004\n",
      "Epoch  270 , loss 11.5213430816052\n"
     ]
    },
    {
     "name": "stderr",
     "output_type": "stream",
     "text": [
      "\r",
      "Iterations:  90%|█████████████████████████████▊   | 271/300 [05:17<00:35,  1.21s/it]"
     ]
    },
    {
     "name": "stdout",
     "output_type": "stream",
     "text": [
      "Epoch:  270\n",
      "t_loss:  11.5213430816052 , v_loss:  0.6023747970660528\n",
      "t_acc:  0.706504824151883 , v_acc:  0.7018633540372671\n",
      "t_recall:  0.5207689985040008 , v_recall:  0.5364864864864866\n",
      "t_prec:  0.7613708330934423 , v_prec:  0.6654411764705883\n",
      "t_f:  0.4561342918978727 , v_f:  0.4952978056426333\n",
      "////////\n"
     ]
    },
    {
     "name": "stderr",
     "output_type": "stream",
     "text": [
      "\r",
      "Iterations:  91%|█████████████████████████████▉   | 272/300 [05:18<00:31,  1.14s/it]"
     ]
    },
    {
     "name": "stdout",
     "output_type": "stream",
     "text": [
      "Epoch  271 , loss 11.348252857432646\n",
      "Epoch  272 , loss 11.183166354310279\n"
     ]
    },
    {
     "name": "stderr",
     "output_type": "stream",
     "text": [
      "\r",
      "Iterations:  91%|██████████████████████████████   | 273/300 [05:19<00:33,  1.24s/it]"
     ]
    },
    {
     "name": "stdout",
     "output_type": "stream",
     "text": [
      "Epoch:  272\n",
      "t_loss:  11.183166354310279 , v_loss:  0.6009725034236908\n",
      "t_acc:  0.702769996887644 , v_acc:  0.7018633540372671\n",
      "t_recall:  0.5149215629760777 , v_recall:  0.5364864864864866\n",
      "t_prec:  0.7287878787878788 , v_prec:  0.6654411764705883\n",
      "t_f:  0.44485875393435714 , v_f:  0.4952978056426333\n",
      "////////\n"
     ]
    },
    {
     "name": "stderr",
     "output_type": "stream",
     "text": [
      "\r",
      "Iterations:  91%|██████████████████████████████▏  | 274/300 [05:20<00:30,  1.17s/it]"
     ]
    },
    {
     "name": "stdout",
     "output_type": "stream",
     "text": [
      "Epoch  273 , loss 11.011712504368202\n",
      "Epoch  274 , loss 10.84702506719851\n"
     ]
    },
    {
     "name": "stderr",
     "output_type": "stream",
     "text": [
      "\r",
      "Iterations:  92%|██████████████████████████████▎  | 275/300 [05:22<00:31,  1.27s/it]"
     ]
    },
    {
     "name": "stdout",
     "output_type": "stream",
     "text": [
      "Epoch:  274\n",
      "t_loss:  10.84702506719851 , v_loss:  0.6045934210220972\n",
      "t_acc:  0.7002801120448179 , v_acc:  0.7018633540372671\n",
      "t_recall:  0.5128443200065879 , v_recall:  0.5364864864864866\n",
      "t_prec:  0.6740986717267552 , v_prec:  0.6654411764705883\n",
      "t_f:  0.44285373960590346 , v_f:  0.4952978056426333\n",
      "////////\n"
     ]
    },
    {
     "name": "stderr",
     "output_type": "stream",
     "text": [
      "\r",
      "Iterations:  92%|██████████████████████████████▎  | 276/300 [05:23<00:28,  1.20s/it]"
     ]
    },
    {
     "name": "stdout",
     "output_type": "stream",
     "text": [
      "Epoch  275 , loss 10.678654203227921\n",
      "Epoch  276 , loss 10.517463665382534\n"
     ]
    },
    {
     "name": "stderr",
     "output_type": "stream",
     "text": [
      "\r",
      "Iterations:  92%|██████████████████████████████▍  | 277/300 [05:24<00:30,  1.31s/it]"
     ]
    },
    {
     "name": "stdout",
     "output_type": "stream",
     "text": [
      "Epoch:  276\n",
      "t_loss:  10.517463665382534 , v_loss:  0.6052278528610865\n",
      "t_acc:  0.7021475256769374 , v_acc:  0.7018633540372671\n",
      "t_recall:  0.5144741356830128 , v_recall:  0.5364864864864866\n",
      "t_prec:  0.7126181099716402 , v_prec:  0.6654411764705883\n",
      "t_f:  0.44457602702299936 , v_f:  0.4952978056426333\n",
      "////////\n"
     ]
    },
    {
     "name": "stderr",
     "output_type": "stream",
     "text": [
      "\r",
      "Iterations:  93%|██████████████████████████████▌  | 278/300 [05:25<00:27,  1.25s/it]"
     ]
    },
    {
     "name": "stdout",
     "output_type": "stream",
     "text": [
      "Epoch  277 , loss 10.359489478316961\n",
      "Epoch  278 , loss 10.196726705513749\n"
     ]
    },
    {
     "name": "stderr",
     "output_type": "stream",
     "text": [
      "\r",
      "Iterations:  93%|██████████████████████████████▋  | 279/300 [05:27<00:28,  1.35s/it]"
     ]
    },
    {
     "name": "stdout",
     "output_type": "stream",
     "text": [
      "Epoch:  278\n",
      "t_loss:  10.196726705513749 , v_loss:  0.6056128640969595\n",
      "t_acc:  0.7018362900715842 , v_acc:  0.7080745341614907\n",
      "t_recall:  0.5136753544420197 , v_recall:  0.540990990990991\n",
      "t_prec:  0.7143779224877362 , v_prec:  0.711038961038961\n",
      "t_f:  0.4426731087068939 , v_f:  0.4990400529625952\n",
      "////////\n"
     ]
    },
    {
     "name": "stderr",
     "output_type": "stream",
     "text": [
      "\r",
      "Iterations:  93%|██████████████████████████████▊  | 280/300 [05:28<00:25,  1.26s/it]"
     ]
    },
    {
     "name": "stdout",
     "output_type": "stream",
     "text": [
      "Epoch  279 , loss 10.032601524801816\n",
      "Epoch  280 , loss 9.874655517877317\n"
     ]
    },
    {
     "name": "stderr",
     "output_type": "stream",
     "text": [
      "\r",
      "Iterations:  94%|██████████████████████████████▉  | 281/300 [05:29<00:25,  1.33s/it]"
     ]
    },
    {
     "name": "stdout",
     "output_type": "stream",
     "text": [
      "Epoch:  280\n",
      "t_loss:  9.874655517877317 , v_loss:  0.6048880964517593\n",
      "t_acc:  0.7033924680983504 , v_acc:  0.7018633540372671\n",
      "t_recall:  0.5170941930525247 , v_recall:  0.5364864864864866\n",
      "t_prec:  0.7151246473602395 , v_prec:  0.6654411764705883\n",
      "t_f:  0.45036689308448846 , v_f:  0.4952978056426333\n",
      "////////\n"
     ]
    },
    {
     "name": "stderr",
     "output_type": "stream",
     "text": [
      "\r",
      "Iterations:  94%|███████████████████████████████  | 282/300 [05:30<00:21,  1.22s/it]"
     ]
    },
    {
     "name": "stdout",
     "output_type": "stream",
     "text": [
      "Epoch  281 , loss 9.721585759929582\n",
      "Epoch  282 , loss 9.560787088730756\n"
     ]
    },
    {
     "name": "stderr",
     "output_type": "stream",
     "text": [
      "\r",
      "Iterations:  94%|███████████████████████████████▏ | 283/300 [05:32<00:21,  1.28s/it]"
     ]
    },
    {
     "name": "stdout",
     "output_type": "stream",
     "text": [
      "Epoch:  282\n",
      "t_loss:  9.560787088730756 , v_loss:  0.6073552717765173\n",
      "t_acc:  0.7015250544662309 , v_acc:  0.7080745341614907\n",
      "t_recall:  0.5146017759844086 , v_recall:  0.540990990990991\n",
      "t_prec:  0.6905720085980416 , v_prec:  0.711038961038961\n",
      "t_f:  0.44603896448286623 , v_f:  0.4990400529625952\n",
      "////////\n"
     ]
    },
    {
     "name": "stderr",
     "output_type": "stream",
     "text": [
      "\r",
      "Iterations:  95%|███████████████████████████████▏ | 284/300 [05:33<00:19,  1.22s/it]"
     ]
    },
    {
     "name": "stdout",
     "output_type": "stream",
     "text": [
      "Epoch  283 , loss 9.405978202819824\n",
      "Epoch  284 , loss 9.252492717668122\n"
     ]
    },
    {
     "name": "stderr",
     "output_type": "stream",
     "text": [
      "\r",
      "Iterations:  95%|███████████████████████████████▎ | 285/300 [05:34<00:19,  1.27s/it]"
     ]
    },
    {
     "name": "stdout",
     "output_type": "stream",
     "text": [
      "Epoch:  284\n",
      "t_loss:  9.252492717668122 , v_loss:  0.6095689634482065\n",
      "t_acc:  0.7055711173358232 , v_acc:  0.7080745341614907\n",
      "t_recall:  0.5180851209837911 , v_recall:  0.540990990990991\n",
      "t_prec:  0.7835064115436472 , v_prec:  0.711038961038961\n",
      "t_f:  0.4496542388692293 , v_f:  0.4990400529625952\n",
      "////////\n"
     ]
    },
    {
     "name": "stderr",
     "output_type": "stream",
     "text": [
      "\r",
      "Iterations:  95%|███████████████████████████████▍ | 286/300 [05:35<00:17,  1.22s/it]"
     ]
    },
    {
     "name": "stdout",
     "output_type": "stream",
     "text": [
      "Epoch  285 , loss 9.109895163891363\n",
      "Epoch  286 , loss 8.965435626460057\n"
     ]
    },
    {
     "name": "stderr",
     "output_type": "stream",
     "text": [
      "\r",
      "Iterations:  96%|███████████████████████████████▌ | 287/300 [05:37<00:16,  1.27s/it]"
     ]
    },
    {
     "name": "stdout",
     "output_type": "stream",
     "text": [
      "Epoch:  286\n",
      "t_loss:  8.965435626460057 , v_loss:  0.6103289673725764\n",
      "t_acc:  0.7002801120448179 , v_acc:  0.7080745341614907\n",
      "t_recall:  0.5134193876010485 , v_recall:  0.540990990990991\n",
      "t_prec:  0.6688784616270367 , v_prec:  0.711038961038961\n",
      "t_f:  0.44459949427110435 , v_f:  0.4990400529625952\n",
      "////////\n"
     ]
    },
    {
     "name": "stderr",
     "output_type": "stream",
     "text": [
      "\r",
      "Iterations:  96%|███████████████████████████████▋ | 288/300 [05:38<00:14,  1.18s/it]"
     ]
    },
    {
     "name": "stdout",
     "output_type": "stream",
     "text": [
      "Epoch  287 , loss 8.82318147023519\n",
      "Epoch  288 , loss 8.677898911868825\n"
     ]
    },
    {
     "name": "stderr",
     "output_type": "stream",
     "text": [
      "\r",
      "Iterations:  96%|███████████████████████████████▊ | 289/300 [05:39<00:13,  1.27s/it]"
     ]
    },
    {
     "name": "stdout",
     "output_type": "stream",
     "text": [
      "Epoch:  288\n",
      "t_loss:  8.677898911868825 , v_loss:  0.6099414974451065\n",
      "t_acc:  0.7043261749144102 , v_acc:  0.7080745341614907\n",
      "t_recall:  0.5174778001948916 , v_recall:  0.540990990990991\n",
      "t_prec:  0.7415649699652229 , v_prec:  0.711038961038961\n",
      "t_f:  0.4499421892818063 , v_f:  0.4990400529625952\n",
      "////////\n"
     ]
    },
    {
     "name": "stderr",
     "output_type": "stream",
     "text": [
      "\r",
      "Iterations:  97%|███████████████████████████████▉ | 290/300 [05:40<00:11,  1.16s/it]"
     ]
    },
    {
     "name": "stdout",
     "output_type": "stream",
     "text": [
      "Epoch  289 , loss 8.534259496950636\n",
      "Epoch  290 , loss 8.39153740452785\n"
     ]
    },
    {
     "name": "stderr",
     "output_type": "stream",
     "text": [
      "\r",
      "Iterations:  97%|████████████████████████████████ | 291/300 [05:42<00:11,  1.31s/it]"
     ]
    },
    {
     "name": "stdout",
     "output_type": "stream",
     "text": [
      "Epoch:  290\n",
      "t_loss:  8.39153740452785 , v_loss:  0.6122154792149862\n",
      "t_acc:  0.7018362900715842 , v_acc:  0.7080745341614907\n",
      "t_recall:  0.5148254896309411 , v_recall:  0.540990990990991\n",
      "t_prec:  0.6971503662424257 , v_prec:  0.711038961038961\n",
      "t_f:  0.44618199745226594 , v_f:  0.4990400529625952\n",
      "////////\n"
     ]
    },
    {
     "name": "stderr",
     "output_type": "stream",
     "text": [
      "\r",
      "Iterations:  97%|████████████████████████████████ | 292/300 [05:43<00:09,  1.18s/it]"
     ]
    },
    {
     "name": "stdout",
     "output_type": "stream",
     "text": [
      "Epoch  291 , loss 8.255289376950731\n",
      "Epoch  292 , loss 8.112193799486347\n"
     ]
    },
    {
     "name": "stderr",
     "output_type": "stream",
     "text": [
      "\r",
      "Iterations:  98%|████████████████████████████████▏| 293/300 [05:44<00:09,  1.34s/it]"
     ]
    },
    {
     "name": "stdout",
     "output_type": "stream",
     "text": [
      "Epoch:  292\n",
      "t_loss:  8.112193799486347 , v_loss:  0.6104467709859213\n",
      "t_acc:  0.7052598817304699 , v_acc:  0.7080745341614907\n",
      "t_recall:  0.520736745309562 , v_recall:  0.540990990990991\n",
      "t_prec:  0.7215179356856612 , v_prec:  0.711038961038961\n",
      "t_f:  0.45805899008436957 , v_f:  0.4990400529625952\n",
      "////////\n"
     ]
    },
    {
     "name": "stderr",
     "output_type": "stream",
     "text": [
      "\r",
      "Iterations:  98%|████████████████████████████████▎| 294/300 [05:45<00:07,  1.20s/it]"
     ]
    },
    {
     "name": "stdout",
     "output_type": "stream",
     "text": [
      "Epoch  293 , loss 7.974018816854439\n",
      "Epoch  294 , loss 7.829302834529503\n"
     ]
    },
    {
     "name": "stderr",
     "output_type": "stream",
     "text": [
      "\r",
      "Iterations:  98%|████████████████████████████████▍| 295/300 [05:47<00:06,  1.31s/it]"
     ]
    },
    {
     "name": "stdout",
     "output_type": "stream",
     "text": [
      "Epoch:  294\n",
      "t_loss:  7.829302834529503 , v_loss:  0.6137352784474691\n",
      "t_acc:  0.7043261749144102 , v_acc:  0.7080745341614907\n",
      "t_recall:  0.5197780705727344 , v_recall:  0.540990990990991\n",
      "t_prec:  0.7081419533755091 , v_prec:  0.711038961038961\n",
      "t_f:  0.4567620036135779 , v_f:  0.4990400529625952\n",
      "////////\n"
     ]
    },
    {
     "name": "stderr",
     "output_type": "stream",
     "text": [
      "\r",
      "Iterations:  99%|████████████████████████████████▌| 296/300 [05:48<00:04,  1.18s/it]"
     ]
    },
    {
     "name": "stdout",
     "output_type": "stream",
     "text": [
      "Epoch  295 , loss 7.689500584321864\n",
      "Epoch  296 , loss 7.557265982908361\n"
     ]
    },
    {
     "name": "stderr",
     "output_type": "stream",
     "text": [
      "\r",
      "Iterations:  99%|████████████████████████████████▋| 297/300 [05:49<00:03,  1.29s/it]"
     ]
    },
    {
     "name": "stdout",
     "output_type": "stream",
     "text": [
      "Epoch:  296\n",
      "t_loss:  7.557265982908361 , v_loss:  0.6164081245660782\n",
      "t_acc:  0.7021475256769374 , v_acc:  0.7080745341614907\n",
      "t_recall:  0.5141866018857825 , v_recall:  0.540990990990991\n",
      "t_prec:  0.7175189393939394 , v_prec:  0.711038961038961\n",
      "t_f:  0.44369615446615673 , v_f:  0.4990400529625952\n",
      "////////\n"
     ]
    },
    {
     "name": "stderr",
     "output_type": "stream",
     "text": [
      "\r",
      "Iterations:  99%|████████████████████████████████▊| 298/300 [05:50<00:02,  1.21s/it]"
     ]
    },
    {
     "name": "stdout",
     "output_type": "stream",
     "text": [
      "Epoch  297 , loss 7.41925812702553\n",
      "Epoch  298 , loss 7.284833066603717\n"
     ]
    },
    {
     "name": "stderr",
     "output_type": "stream",
     "text": [
      "\r",
      "Iterations: 100%|████████████████████████████████▉| 299/300 [05:52<00:01,  1.31s/it]"
     ]
    },
    {
     "name": "stdout",
     "output_type": "stream",
     "text": [
      "Epoch:  298\n",
      "t_loss:  7.284833066603717 , v_loss:  0.6147978405157725\n",
      "t_acc:  0.6996576408341114 , v_acc:  0.7080745341614907\n",
      "t_recall:  0.5109592237273713 , v_recall:  0.540990990990991\n",
      "t_prec:  0.6757391240554618 , v_prec:  0.711038961038961\n",
      "t_f:  0.43815489883582603 , v_f:  0.4990400529625952\n",
      "////////\n"
     ]
    },
    {
     "name": "stderr",
     "output_type": "stream",
     "text": [
      "Iterations: 100%|█████████████████████████████████| 300/300 [05:53<00:00,  1.18s/it]"
     ]
    },
    {
     "name": "stdout",
     "output_type": "stream",
     "text": [
      "Epoch  299 , loss 7.149090851054472\n"
     ]
    },
    {
     "name": "stderr",
     "output_type": "stream",
     "text": [
      "\n"
     ]
    },
    {
     "name": "stdout",
     "output_type": "stream",
     "text": [
      "109 5\n",
      "\n",
      "c0_acc 0.9819819819819819 , c1_acc 0.1 , b_acc 0.540990990990991\n"
     ]
    },
    {
     "name": "stderr",
     "output_type": "stream",
     "text": [
      "\r",
      "Iterations:   0%|                                           | 0/300 [00:00<?, ?it/s]"
     ]
    },
    {
     "name": "stdout",
     "output_type": "stream",
     "text": [
      "Epoch  0 , loss 102.99295672248391\n"
     ]
    },
    {
     "name": "stderr",
     "output_type": "stream",
     "text": [
      "\r",
      "Iterations:   0%|                                   | 1/300 [00:01<08:21,  1.68s/it]"
     ]
    },
    {
     "name": "stdout",
     "output_type": "stream",
     "text": [
      "Epoch:  0\n",
      "t_loss:  102.99295672248391 , v_loss:  0.691255529721578\n",
      "t_acc:  0.47972551466001245 , v_acc:  0.5892857142857143\n",
      "t_recall:  0.5138700594191405 , v_recall:  0.4456931911402789\n",
      "t_prec:  0.5120635434722197 , v_prec:  0.3969489414694894\n",
      "t_f:  0.47285538539185845 , v_f:  0.4078160919540229\n",
      "////////\n"
     ]
    },
    {
     "name": "stderr",
     "output_type": "stream",
     "text": [
      "\r",
      "Iterations:   1%|▏                                  | 2/300 [00:02<05:49,  1.17s/it]"
     ]
    },
    {
     "name": "stdout",
     "output_type": "stream",
     "text": [
      "Epoch  1 , loss 102.43415488448798\n",
      "Epoch  2 , loss 101.87311509076287\n"
     ]
    },
    {
     "name": "stderr",
     "output_type": "stream",
     "text": [
      "\r",
      "Iterations:   1%|▎                                  | 3/300 [00:04<07:05,  1.43s/it]"
     ]
    },
    {
     "name": "stdout",
     "output_type": "stream",
     "text": [
      "Epoch:  2\n",
      "t_loss:  101.87311509076287 , v_loss:  0.6854202151298523\n",
      "t_acc:  0.5786026200873362 , v_acc:  0.6428571428571429\n",
      "t_recall:  0.5398763346320495 , v_recall:  0.4797374897456932\n",
      "t_prec:  0.5356233469682782 , v_prec:  0.42848870874348577\n",
      "t_f:  0.533687085982737 , v_f:  0.42095588235294124\n",
      "////////\n"
     ]
    },
    {
     "name": "stderr",
     "output_type": "stream",
     "text": [
      "\r",
      "Iterations:   1%|▍                                  | 4/300 [00:05<05:53,  1.19s/it]"
     ]
    },
    {
     "name": "stdout",
     "output_type": "stream",
     "text": [
      "Epoch  3 , loss 101.32205095478133\n",
      "Epoch  4 , loss 100.77598452100567\n"
     ]
    },
    {
     "name": "stderr",
     "output_type": "stream",
     "text": [
      "\r",
      "Iterations:   2%|▌                                  | 5/300 [00:06<06:43,  1.37s/it]"
     ]
    },
    {
     "name": "stdout",
     "output_type": "stream",
     "text": [
      "Epoch:  4\n",
      "t_loss:  100.77598452100567 , v_loss:  0.6788574457168579\n",
      "t_acc:  0.6303805364940737 , v_acc:  0.6547619047619048\n",
      "t_recall:  0.5277106965946052 , v_recall:  0.48843314191960624\n",
      "t_prec:  0.533413267523437 , v_prec:  0.45073375262054505\n",
      "t_f:  0.5262616643308805 , v_f:  0.4264186484577348\n",
      "////////\n"
     ]
    },
    {
     "name": "stderr",
     "output_type": "stream",
     "text": [
      "\r",
      "Iterations:   2%|▋                                  | 6/300 [00:07<05:46,  1.18s/it]"
     ]
    },
    {
     "name": "stdout",
     "output_type": "stream",
     "text": [
      "Epoch  5 , loss 100.23072291355507\n",
      "Epoch  6 , loss 99.68426678227443\n"
     ]
    },
    {
     "name": "stderr",
     "output_type": "stream",
     "text": [
      "\r",
      "Iterations:   2%|▊                                  | 7/300 [00:09<06:18,  1.29s/it]"
     ]
    },
    {
     "name": "stdout",
     "output_type": "stream",
     "text": [
      "Epoch:  6\n",
      "t_loss:  99.68426678227443 , v_loss:  0.6691960493723551\n",
      "t_acc:  0.6684341859014348 , v_acc:  0.6726190476190477\n",
      "t_recall:  0.522140238366146 , v_recall:  0.5014766201804758\n",
      "t_prec:  0.545052124260045 , v_prec:  0.5092592592592593\n",
      "t_f:  0.502108964916133 , v_f:  0.4346203267453956\n",
      "////////\n"
     ]
    },
    {
     "name": "stderr",
     "output_type": "stream",
     "text": [
      "\r",
      "Iterations:   3%|▉                                  | 8/300 [00:09<05:42,  1.17s/it]"
     ]
    },
    {
     "name": "stdout",
     "output_type": "stream",
     "text": [
      "Epoch  7 , loss 99.14547385421454\n",
      "Epoch  8 , loss 98.61332403444776\n"
     ]
    },
    {
     "name": "stderr",
     "output_type": "stream",
     "text": [
      "\r",
      "Iterations:   3%|█                                  | 9/300 [00:11<06:06,  1.26s/it]"
     ]
    },
    {
     "name": "stdout",
     "output_type": "stream",
     "text": [
      "Epoch:  8\n",
      "t_loss:  98.61332403444776 , v_loss:  0.6605151693026224\n",
      "t_acc:  0.6756082345601996 , v_acc:  0.6904761904761905\n",
      "t_recall:  0.5027548874254387 , v_recall:  0.5094339622641509\n",
      "t_prec:  0.5107222416060548 , v_prec:  0.844311377245509\n",
      "t_f:  0.4527142369409354 , v_f:  0.4263199369582348\n",
      "////////\n"
     ]
    },
    {
     "name": "stderr",
     "output_type": "stream",
     "text": [
      "\r",
      "Iterations:   3%|█▏                                | 10/300 [00:12<05:32,  1.15s/it]"
     ]
    },
    {
     "name": "stdout",
     "output_type": "stream",
     "text": [
      "Epoch  9 , loss 98.07561118929993\n",
      "Epoch  10 , loss 97.54714816224342\n"
     ]
    },
    {
     "name": "stderr",
     "output_type": "stream",
     "text": [
      "\r",
      "Iterations:   4%|█▏                                | 11/300 [00:13<06:07,  1.27s/it]"
     ]
    },
    {
     "name": "stdout",
     "output_type": "stream",
     "text": [
      "Epoch:  10\n",
      "t_loss:  97.54714816224342 , v_loss:  0.6552655100822449\n",
      "t_acc:  0.6986899563318777 , v_acc:  0.6845238095238095\n",
      "t_recall:  0.5196280844510338 , v_recall:  0.5\n",
      "t_prec:  0.622158513800789 , v_prec:  0.34226190476190477\n",
      "t_f:  0.46534491426172275 , v_f:  0.40636042402826855\n",
      "////////\n"
     ]
    },
    {
     "name": "stderr",
     "output_type": "stream",
     "text": [
      "\r",
      "Iterations:   4%|█▎                                | 12/300 [00:14<05:27,  1.14s/it]"
     ]
    },
    {
     "name": "stdout",
     "output_type": "stream",
     "text": [
      "Epoch  11 , loss 97.01636654722924\n",
      "Epoch  12 , loss 96.48333755193973\n"
     ]
    },
    {
     "name": "stderr",
     "output_type": "stream",
     "text": [
      "\r",
      "Iterations:   4%|█▍                                | 13/300 [00:16<06:03,  1.27s/it]"
     ]
    },
    {
     "name": "stdout",
     "output_type": "stream",
     "text": [
      "Epoch:  12\n",
      "t_loss:  96.48333755193973 , v_loss:  0.6520054539044698\n",
      "t_acc:  0.6946350592638803 , v_acc:  0.6845238095238095\n",
      "t_recall:  0.5068985966968934 , v_recall:  0.5\n",
      "t_prec:  0.5821868290759322 , v_prec:  0.34226190476190477\n",
      "t_f:  0.43513541870819206 , v_f:  0.40636042402826855\n",
      "////////\n"
     ]
    },
    {
     "name": "stderr",
     "output_type": "stream",
     "text": [
      "\r",
      "Iterations:   5%|█▌                                | 14/300 [00:17<05:20,  1.12s/it]"
     ]
    },
    {
     "name": "stdout",
     "output_type": "stream",
     "text": [
      "Epoch  13 , loss 95.95090918447457\n",
      "Epoch  14 , loss 95.42964501474418\n"
     ]
    },
    {
     "name": "stderr",
     "output_type": "stream",
     "text": [
      "\r",
      "Iterations:   5%|█▋                                | 15/300 [00:18<05:40,  1.20s/it]"
     ]
    },
    {
     "name": "stdout",
     "output_type": "stream",
     "text": [
      "Epoch:  14\n",
      "t_loss:  95.42964501474418 , v_loss:  0.651602158943812\n",
      "t_acc:  0.6940112289457268 , v_acc:  0.6845238095238095\n",
      "t_recall:  0.5015423691801998 , v_recall:  0.5\n",
      "t_prec:  0.5405781325592647 , v_prec:  0.34226190476190477\n",
      "t_f:  0.4193413313723792 , v_f:  0.40636042402826855\n",
      "////////\n"
     ]
    },
    {
     "name": "stderr",
     "output_type": "stream",
     "text": [
      "\r",
      "Iterations:   5%|█▊                                | 16/300 [00:19<05:13,  1.11s/it]"
     ]
    },
    {
     "name": "stdout",
     "output_type": "stream",
     "text": [
      "Epoch  15 , loss 94.91417125627106\n",
      "Epoch  16 , loss 94.39294942220052\n"
     ]
    },
    {
     "name": "stderr",
     "output_type": "stream",
     "text": [
      "\r",
      "Iterations:   6%|█▉                                | 17/300 [00:20<05:32,  1.17s/it]"
     ]
    },
    {
     "name": "stdout",
     "output_type": "stream",
     "text": [
      "Epoch:  16\n",
      "t_loss:  94.39294942220052 , v_loss:  0.6527456939220428\n",
      "t_acc:  0.6943231441048034 , v_acc:  0.6845238095238095\n",
      "t_recall:  0.5009003666287396 , v_recall:  0.5\n",
      "t_prec:  0.532343566792727 , v_prec:  0.34226190476190477\n",
      "t_f:  0.41660297703533866 , v_f:  0.40636042402826855\n",
      "////////\n"
     ]
    },
    {
     "name": "stderr",
     "output_type": "stream",
     "text": [
      "\r",
      "Iterations:   6%|██                                | 18/300 [00:21<05:13,  1.11s/it]"
     ]
    },
    {
     "name": "stdout",
     "output_type": "stream",
     "text": [
      "Epoch  17 , loss 93.87219342998429\n",
      "Epoch  18 , loss 93.36149731804343\n"
     ]
    },
    {
     "name": "stderr",
     "output_type": "stream",
     "text": [
      "\r",
      "Iterations:   6%|██▏                               | 19/300 [00:22<05:32,  1.18s/it]"
     ]
    },
    {
     "name": "stdout",
     "output_type": "stream",
     "text": [
      "Epoch:  18\n",
      "t_loss:  93.36149731804343 , v_loss:  0.6558125615119934\n",
      "t_acc:  0.6974422956955708 , v_acc:  0.6845238095238095\n",
      "t_recall:  0.5040076313944535 , v_recall:  0.5\n",
      "t_prec:  0.6821268150005223 , v_prec:  0.34226190476190477\n",
      "t_f:  0.4206506227900548 , v_f:  0.40636042402826855\n",
      "////////\n"
     ]
    },
    {
     "name": "stderr",
     "output_type": "stream",
     "text": [
      "\r",
      "Iterations:   7%|██▎                               | 20/300 [00:23<05:09,  1.10s/it]"
     ]
    },
    {
     "name": "stdout",
     "output_type": "stream",
     "text": [
      "Epoch  19 , loss 92.8519240734624\n",
      "Epoch  20 , loss 92.34643659404679\n"
     ]
    },
    {
     "name": "stderr",
     "output_type": "stream",
     "text": [
      "\r",
      "Iterations:   7%|██▍                               | 21/300 [00:25<05:30,  1.18s/it]"
     ]
    },
    {
     "name": "stdout",
     "output_type": "stream",
     "text": [
      "Epoch:  20\n",
      "t_loss:  92.34643659404679 , v_loss:  0.659919023513794\n",
      "t_acc:  0.6968184653774173 , v_acc:  0.6845238095238095\n",
      "t_recall:  0.5029819903688124 , v_recall:  0.5\n",
      "t_prec:  0.656267315521935 , v_prec:  0.34226190476190477\n",
      "t_f:  0.41849539608039843 , v_f:  0.40636042402826855\n",
      "////////\n"
     ]
    },
    {
     "name": "stderr",
     "output_type": "stream",
     "text": [
      "\r",
      "Iterations:   7%|██▍                               | 22/300 [00:26<05:08,  1.11s/it]"
     ]
    },
    {
     "name": "stdout",
     "output_type": "stream",
     "text": [
      "Epoch  21 , loss 91.84335910572725\n",
      "Epoch  22 , loss 91.33638434316597\n"
     ]
    },
    {
     "name": "stderr",
     "output_type": "stream",
     "text": [
      "\r",
      "Iterations:   8%|██▌                               | 23/300 [00:27<05:29,  1.19s/it]"
     ]
    },
    {
     "name": "stdout",
     "output_type": "stream",
     "text": [
      "Epoch:  22\n",
      "t_loss:  91.33638434316597 , v_loss:  0.6636552015940348\n",
      "t_acc:  0.6968184653774173 , v_acc:  0.6845238095238095\n",
      "t_recall:  0.5021158730706019 , v_recall:  0.5\n",
      "t_prec:  0.705532979055955 , v_prec:  0.34226190476190477\n",
      "t_f:  0.4155888872635618 , v_f:  0.40636042402826855\n",
      "////////\n"
     ]
    },
    {
     "name": "stderr",
     "output_type": "stream",
     "text": [
      "\r",
      "Iterations:   8%|██▋                               | 24/300 [00:28<05:13,  1.14s/it]"
     ]
    },
    {
     "name": "stdout",
     "output_type": "stream",
     "text": [
      "Epoch  23 , loss 90.84219614664714\n",
      "Epoch  24 , loss 90.34301249186198\n"
     ]
    },
    {
     "name": "stderr",
     "output_type": "stream",
     "text": [
      "\r",
      "Iterations:   8%|██▊                               | 25/300 [00:30<05:37,  1.23s/it]"
     ]
    },
    {
     "name": "stdout",
     "output_type": "stream",
     "text": [
      "Epoch:  24\n",
      "t_loss:  90.34301249186198 , v_loss:  0.6669303278128306\n",
      "t_acc:  0.6980661260137243 , v_acc:  0.6845238095238095\n",
      "t_recall:  0.5038784493558138 , v_recall:  0.5\n",
      "t_prec:  0.793208911131964 , v_prec:  0.34226190476190477\n",
      "t_f:  0.4189628005344165 , v_f:  0.40636042402826855\n",
      "////////\n"
     ]
    },
    {
     "name": "stderr",
     "output_type": "stream",
     "text": [
      "\r",
      "Iterations:   9%|██▉                               | 26/300 [00:31<05:21,  1.17s/it]"
     ]
    },
    {
     "name": "stdout",
     "output_type": "stream",
     "text": [
      "Epoch  25 , loss 89.85290542303348\n",
      "Epoch  26 , loss 89.35768411673752\n"
     ]
    },
    {
     "name": "stderr",
     "output_type": "stream",
     "text": [
      "\r",
      "Iterations:   9%|███                               | 27/300 [00:32<05:39,  1.24s/it]"
     ]
    },
    {
     "name": "stdout",
     "output_type": "stream",
     "text": [
      "Epoch:  26\n",
      "t_loss:  89.35768411673752 , v_loss:  0.6692197720209757\n",
      "t_acc:  0.6968184653774173 , v_acc:  0.6845238095238095\n",
      "t_recall:  0.5021158730706019 , v_recall:  0.5\n",
      "t_prec:  0.705532979055955 , v_prec:  0.34226190476190477\n",
      "t_f:  0.4155888872635618 , v_f:  0.40636042402826855\n",
      "////////\n"
     ]
    },
    {
     "name": "stderr",
     "output_type": "stream",
     "text": [
      "\r",
      "Iterations:   9%|███▏                              | 28/300 [00:33<05:16,  1.16s/it]"
     ]
    },
    {
     "name": "stdout",
     "output_type": "stream",
     "text": [
      "Epoch  27 , loss 88.87163783054726\n",
      "Epoch  28 , loss 88.38433628456265\n"
     ]
    },
    {
     "name": "stderr",
     "output_type": "stream",
     "text": [
      "\r",
      "Iterations:  10%|███▎                              | 29/300 [00:34<05:42,  1.26s/it]"
     ]
    },
    {
     "name": "stdout",
     "output_type": "stream",
     "text": [
      "Epoch:  28\n",
      "t_loss:  88.38433628456265 , v_loss:  0.6713986297448477\n",
      "t_acc:  0.6968184653774173 , v_acc:  0.6845238095238095\n",
      "t_recall:  0.5029819903688124 , v_recall:  0.5\n",
      "t_prec:  0.656267315521935 , v_prec:  0.34226190476190477\n",
      "t_f:  0.41849539608039843 , v_f:  0.40636042402826855\n",
      "////////\n"
     ]
    },
    {
     "name": "stderr",
     "output_type": "stream",
     "text": [
      "\r",
      "Iterations:  10%|███▍                              | 30/300 [00:35<05:18,  1.18s/it]"
     ]
    },
    {
     "name": "stdout",
     "output_type": "stream",
     "text": [
      "Epoch  29 , loss 87.89294523351333\n",
      "Epoch  30 , loss 87.4107042200425\n"
     ]
    },
    {
     "name": "stderr",
     "output_type": "stream",
     "text": [
      "\r",
      "Iterations:  10%|███▌                              | 31/300 [00:37<05:37,  1.25s/it]"
     ]
    },
    {
     "name": "stdout",
     "output_type": "stream",
     "text": [
      "Epoch:  30\n",
      "t_loss:  87.4107042200425 , v_loss:  0.674636443456014\n",
      "t_acc:  0.6968184653774173 , v_acc:  0.6845238095238095\n",
      "t_recall:  0.5021158730706019 , v_recall:  0.5\n",
      "t_prec:  0.705532979055955 , v_prec:  0.34226190476190477\n",
      "t_f:  0.4155888872635618 , v_f:  0.40636042402826855\n",
      "////////\n"
     ]
    },
    {
     "name": "stderr",
     "output_type": "stream",
     "text": [
      "\r",
      "Iterations:  11%|███▋                              | 32/300 [00:38<05:11,  1.16s/it]"
     ]
    },
    {
     "name": "stdout",
     "output_type": "stream",
     "text": [
      "Epoch  31 , loss 86.92193229525697\n",
      "Epoch  32 , loss 86.43488805434284\n"
     ]
    },
    {
     "name": "stderr",
     "output_type": "stream",
     "text": [
      "\r",
      "Iterations:  11%|███▋                              | 33/300 [00:39<05:26,  1.22s/it]"
     ]
    },
    {
     "name": "stdout",
     "output_type": "stream",
     "text": [
      "Epoch:  32\n",
      "t_loss:  86.43488805434284 , v_loss:  0.6744529604911804\n",
      "t_acc:  0.6971303805364941 , v_acc:  0.6845238095238095\n",
      "t_recall:  0.5032061051155627 , v_recall:  0.5\n",
      "t_prec:  0.6819557503652682 , v_prec:  0.34226190476190477\n",
      "t_f:  0.41861228224989383 , v_f:  0.40636042402826855\n",
      "////////\n"
     ]
    },
    {
     "name": "stderr",
     "output_type": "stream",
     "text": [
      "\r",
      "Iterations:  11%|███▊                              | 34/300 [00:40<05:00,  1.13s/it]"
     ]
    },
    {
     "name": "stdout",
     "output_type": "stream",
     "text": [
      "Epoch  33 , loss 85.95608774820964\n",
      "Epoch  34 , loss 85.48341968012791\n"
     ]
    },
    {
     "name": "stderr",
     "output_type": "stream",
     "text": [
      "\r",
      "Iterations:  12%|███▉                              | 35/300 [00:42<05:20,  1.21s/it]"
     ]
    },
    {
     "name": "stdout",
     "output_type": "stream",
     "text": [
      "Epoch:  34\n",
      "t_loss:  85.48341968012791 , v_loss:  0.6757567922274271\n",
      "t_acc:  0.6974422956955708 , v_acc:  0.6845238095238095\n",
      "t_recall:  0.5040076313944535 , v_recall:  0.5\n",
      "t_prec:  0.6821268150005223 , v_prec:  0.34226190476190477\n",
      "t_f:  0.4206506227900548 , v_f:  0.40636042402826855\n",
      "////////\n"
     ]
    },
    {
     "name": "stderr",
     "output_type": "stream",
     "text": [
      "\r",
      "Iterations:  12%|████                              | 36/300 [00:42<04:53,  1.11s/it]"
     ]
    },
    {
     "name": "stdout",
     "output_type": "stream",
     "text": [
      "Epoch  35 , loss 84.99823521632774\n",
      "Epoch  36 , loss 84.52491341385186\n"
     ]
    },
    {
     "name": "stderr",
     "output_type": "stream",
     "text": [
      "\r",
      "Iterations:  12%|████▏                             | 37/300 [00:44<05:10,  1.18s/it]"
     ]
    },
    {
     "name": "stdout",
     "output_type": "stream",
     "text": [
      "Epoch:  36\n",
      "t_loss:  84.52491341385186 , v_loss:  0.6765820384025574\n",
      "t_acc:  0.6958827199001871 , v_acc:  0.6845238095238095\n",
      "t_recall:  0.501732234596421 , v_recall:  0.5\n",
      "t_prec:  0.5983093299937383 , v_prec:  0.34226190476190477\n",
      "t_f:  0.41621727620354937 , v_f:  0.40636042402826855\n",
      "////////\n"
     ]
    },
    {
     "name": "stderr",
     "output_type": "stream",
     "text": [
      "\r",
      "Iterations:  13%|████▎                             | 38/300 [00:45<04:44,  1.09s/it]"
     ]
    },
    {
     "name": "stdout",
     "output_type": "stream",
     "text": [
      "Epoch  37 , loss 84.03878559785731\n",
      "Epoch  38 , loss 83.56814994064032\n"
     ]
    },
    {
     "name": "stderr",
     "output_type": "stream",
     "text": [
      "\r",
      "Iterations:  13%|████▍                             | 39/300 [00:46<05:13,  1.20s/it]"
     ]
    },
    {
     "name": "stdout",
     "output_type": "stream",
     "text": [
      "Epoch:  38\n",
      "t_loss:  83.56814994064032 , v_loss:  0.677500863869985\n",
      "t_acc:  0.6977542108546475 , v_acc:  0.6845238095238095\n",
      "t_recall:  0.5048091576733441 , v_recall:  0.5\n",
      "t_prec:  0.6822982015892931 , v_prec:  0.34226190476190477\n",
      "t_f:  0.4226769523590767 , v_f:  0.40636042402826855\n",
      "////////\n"
     ]
    },
    {
     "name": "stderr",
     "output_type": "stream",
     "text": [
      "\r",
      "Iterations:  13%|████▌                             | 40/300 [00:47<04:58,  1.15s/it]"
     ]
    },
    {
     "name": "stdout",
     "output_type": "stream",
     "text": [
      "Epoch  39 , loss 83.0850689457912\n",
      "Epoch  40 , loss 82.61463658949909\n"
     ]
    },
    {
     "name": "stderr",
     "output_type": "stream",
     "text": [
      "\r",
      "Iterations:  14%|████▋                             | 41/300 [00:49<05:26,  1.26s/it]"
     ]
    },
    {
     "name": "stdout",
     "output_type": "stream",
     "text": [
      "Epoch:  40\n",
      "t_loss:  82.61463658949909 , v_loss:  0.6783988575140635\n",
      "t_acc:  0.6974422956955708 , v_acc:  0.6845238095238095\n",
      "t_recall:  0.5051624544587341 , v_recall:  0.5\n",
      "t_prec:  0.6533896105670067 , v_prec:  0.34226190476190477\n",
      "t_f:  0.424445492388545 , v_f:  0.40636042402826855\n",
      "////////\n"
     ]
    },
    {
     "name": "stderr",
     "output_type": "stream",
     "text": [
      "\r",
      "Iterations:  14%|████▊                             | 42/300 [00:50<05:02,  1.17s/it]"
     ]
    },
    {
     "name": "stdout",
     "output_type": "stream",
     "text": [
      "Epoch  41 , loss 82.1374734616747\n",
      "Epoch  42 , loss 81.67010617723652\n"
     ]
    },
    {
     "name": "stderr",
     "output_type": "stream",
     "text": [
      "\r",
      "Iterations:  14%|████▊                             | 43/300 [00:51<05:20,  1.25s/it]"
     ]
    },
    {
     "name": "stdout",
     "output_type": "stream",
     "text": [
      "Epoch:  42\n",
      "t_loss:  81.67010617723652 , v_loss:  0.6799749334653219\n",
      "t_acc:  0.6952588895820336 , v_acc:  0.6845238095238095\n",
      "t_recall:  0.5024388281672011 , v_recall:  0.5\n",
      "t_prec:  0.5757337825491092 , v_prec:  0.34226190476190477\n",
      "t_f:  0.41981771723295463 , v_f:  0.40636042402826855\n",
      "////////\n"
     ]
    },
    {
     "name": "stderr",
     "output_type": "stream",
     "text": [
      "\r",
      "Iterations:  15%|████▉                             | 44/300 [00:52<04:55,  1.15s/it]"
     ]
    },
    {
     "name": "stdout",
     "output_type": "stream",
     "text": [
      "Epoch  43 , loss 81.19574946983188\n",
      "Epoch  44 , loss 80.7210386687634\n"
     ]
    },
    {
     "name": "stderr",
     "output_type": "stream",
     "text": [
      "\r",
      "Iterations:  15%|█████                             | 45/300 [00:53<05:10,  1.22s/it]"
     ]
    },
    {
     "name": "stdout",
     "output_type": "stream",
     "text": [
      "Epoch:  44\n",
      "t_loss:  80.7210386687634 , v_loss:  0.6802743772665659\n",
      "t_acc:  0.6999376169681847 , v_acc:  0.6845238095238095\n",
      "t_recall:  0.508976312795228 , v_recall:  0.5\n",
      "t_prec:  0.7119273224577514 , v_prec:  0.34226190476190477\n",
      "t_f:  0.4319740269690469 , v_f:  0.40636042402826855\n",
      "////////\n"
     ]
    },
    {
     "name": "stderr",
     "output_type": "stream",
     "text": [
      "\r",
      "Iterations:  15%|█████▏                            | 46/300 [00:54<04:50,  1.14s/it]"
     ]
    },
    {
     "name": "stdout",
     "output_type": "stream",
     "text": [
      "Epoch  45 , loss 80.26680561140472\n",
      "Epoch  46 , loss 79.78695020488664\n"
     ]
    },
    {
     "name": "stderr",
     "output_type": "stream",
     "text": [
      "\r",
      "Iterations:  16%|█████▎                            | 47/300 [00:56<05:12,  1.23s/it]"
     ]
    },
    {
     "name": "stdout",
     "output_type": "stream",
     "text": [
      "Epoch:  46\n",
      "t_loss:  79.78695020488664 , v_loss:  0.6826180666685104\n",
      "t_acc:  0.7014971927635683 , v_acc:  0.6845238095238095\n",
      "t_recall:  0.5109630038271903 , v_recall:  0.5\n",
      "t_prec:  0.7502833753148614 , v_prec:  0.34226190476190477\n",
      "t_f:  0.43538420345102674 , v_f:  0.40636042402826855\n",
      "////////\n"
     ]
    },
    {
     "name": "stderr",
     "output_type": "stream",
     "text": [
      "\r",
      "Iterations:  16%|█████▍                            | 48/300 [00:57<04:58,  1.18s/it]"
     ]
    },
    {
     "name": "stdout",
     "output_type": "stream",
     "text": [
      "Epoch  47 , loss 79.33073395373775\n",
      "Epoch  48 , loss 78.86535943723193\n"
     ]
    },
    {
     "name": "stderr",
     "output_type": "stream",
     "text": [
      "\r",
      "Iterations:  16%|█████▌                            | 49/300 [00:58<05:17,  1.26s/it]"
     ]
    },
    {
     "name": "stdout",
     "output_type": "stream",
     "text": [
      "Epoch:  48\n",
      "t_loss:  78.86535943723193 , v_loss:  0.6814567744731903\n",
      "t_acc:  0.6986899563318777 , v_acc:  0.6845238095238095\n",
      "t_recall:  0.5077911480421565 , v_recall:  0.5\n",
      "t_prec:  0.6721869443738888 , v_prec:  0.34226190476190477\n",
      "t_f:  0.4305355436746888 , v_f:  0.40636042402826855\n",
      "////////\n"
     ]
    },
    {
     "name": "stderr",
     "output_type": "stream",
     "text": [
      "\r",
      "Iterations:  17%|█████▋                            | 50/300 [00:59<04:57,  1.19s/it]"
     ]
    },
    {
     "name": "stdout",
     "output_type": "stream",
     "text": [
      "Epoch  49 , loss 78.40655113669003\n",
      "Epoch  50 , loss 77.94832401649624\n"
     ]
    },
    {
     "name": "stderr",
     "output_type": "stream",
     "text": [
      "\r",
      "Iterations:  17%|█████▊                            | 51/300 [01:01<05:25,  1.31s/it]"
     ]
    },
    {
     "name": "stdout",
     "output_type": "stream",
     "text": [
      "Epoch:  50\n",
      "t_loss:  77.94832401649624 , v_loss:  0.6794175505638123\n",
      "t_acc:  0.698378041172801 , v_acc:  0.6845238095238095\n",
      "t_recall:  0.5067009159971957 , v_recall:  0.5\n",
      "t_prec:  0.6762941461054668 , v_prec:  0.34226190476190477\n",
      "t_f:  0.42762799942618823 , v_f:  0.40636042402826855\n",
      "////////\n"
     ]
    },
    {
     "name": "stderr",
     "output_type": "stream",
     "text": [
      "\r",
      "Iterations:  17%|█████▉                            | 52/300 [01:02<04:52,  1.18s/it]"
     ]
    },
    {
     "name": "stdout",
     "output_type": "stream",
     "text": [
      "Epoch  51 , loss 77.48625183105469\n",
      "Epoch  52 , loss 77.03399718041514\n"
     ]
    },
    {
     "name": "stderr",
     "output_type": "stream",
     "text": [
      "\r",
      "Iterations:  18%|██████                            | 53/300 [01:03<05:30,  1.34s/it]"
     ]
    },
    {
     "name": "stdout",
     "output_type": "stream",
     "text": [
      "Epoch:  52\n",
      "t_loss:  77.03399718041514 , v_loss:  0.6821104635794958\n",
      "t_acc:  0.7002495321272614 , v_acc:  0.6845238095238095\n",
      "t_recall:  0.510066544840189 , v_recall:  0.5\n",
      "t_prec:  0.7030357540241823 , v_prec:  0.34226190476190477\n",
      "t_f:  0.4348538518867854 , v_f:  0.40636042402826855\n",
      "////////\n"
     ]
    },
    {
     "name": "stderr",
     "output_type": "stream",
     "text": [
      "\r",
      "Iterations:  18%|██████                            | 54/300 [01:04<04:51,  1.19s/it]"
     ]
    },
    {
     "name": "stdout",
     "output_type": "stream",
     "text": [
      "Epoch  53 , loss 76.57403055826823\n",
      "Epoch  54 , loss 76.10196311801087\n"
     ]
    },
    {
     "name": "stderr",
     "output_type": "stream",
     "text": [
      "\r",
      "Iterations:  18%|██████▏                           | 55/300 [01:06<05:14,  1.29s/it]"
     ]
    },
    {
     "name": "stdout",
     "output_type": "stream",
     "text": [
      "Epoch:  54\n",
      "t_loss:  76.10196311801087 , v_loss:  0.6820881565411886\n",
      "t_acc:  0.6971303805364941 , v_acc:  0.6845238095238095\n",
      "t_recall:  0.5063818685423347 , v_recall:  0.5\n",
      "t_prec:  0.6287181959795267 , v_prec:  0.34226190476190477\n",
      "t_f:  0.4289730386910183 , v_f:  0.40636042402826855\n",
      "////////\n"
     ]
    },
    {
     "name": "stderr",
     "output_type": "stream",
     "text": [
      "\r",
      "Iterations:  19%|██████▎                           | 56/300 [01:07<04:42,  1.16s/it]"
     ]
    },
    {
     "name": "stdout",
     "output_type": "stream",
     "text": [
      "Epoch  55 , loss 75.64675634047565\n",
      "Epoch  56 , loss 75.19651659797219\n"
     ]
    },
    {
     "name": "stderr",
     "output_type": "stream",
     "text": [
      "\r",
      "Iterations:  19%|██████▍                           | 57/300 [01:08<05:07,  1.27s/it]"
     ]
    },
    {
     "name": "stdout",
     "output_type": "stream",
     "text": [
      "Epoch:  56\n",
      "t_loss:  75.19651659797219 , v_loss:  0.6839934835831324\n",
      "t_acc:  0.7011852776044916 , v_acc:  0.6845238095238095\n",
      "t_recall:  0.5110275948465101 , v_recall:  0.5\n",
      "t_prec:  0.7290872799854835 , v_prec:  0.34226190476190477\n",
      "t_f:  0.43616354140965546 , v_f:  0.40636042402826855\n",
      "////////\n"
     ]
    },
    {
     "name": "stderr",
     "output_type": "stream",
     "text": [
      "\r",
      "Iterations:  19%|██████▌                           | 58/300 [01:09<04:37,  1.15s/it]"
     ]
    },
    {
     "name": "stdout",
     "output_type": "stream",
     "text": [
      "Epoch  57 , loss 74.73753566367954\n",
      "Epoch  58 , loss 74.28721154904834\n"
     ]
    },
    {
     "name": "stderr",
     "output_type": "stream",
     "text": [
      "\r",
      "Iterations:  20%|██████▋                           | 59/300 [01:10<04:52,  1.21s/it]"
     ]
    },
    {
     "name": "stdout",
     "output_type": "stream",
     "text": [
      "Epoch:  58\n",
      "t_loss:  74.28721154904834 , v_loss:  0.6862822572390238\n",
      "t_acc:  0.7008733624454149 , v_acc:  0.6845238095238095\n",
      "t_recall:  0.5125357146961809 , v_recall:  0.5\n",
      "t_prec:  0.6875894331315355 , v_prec:  0.34226190476190477\n",
      "t_f:  0.4414178526222922 , v_f:  0.40636042402826855\n",
      "////////\n"
     ]
    },
    {
     "name": "stderr",
     "output_type": "stream",
     "text": [
      "\r",
      "Iterations:  20%|██████▊                           | 60/300 [01:11<04:21,  1.09s/it]"
     ]
    },
    {
     "name": "stdout",
     "output_type": "stream",
     "text": [
      "Epoch  59 , loss 73.84950211468865\n",
      "Epoch  60 , loss 73.38913292978324\n"
     ]
    },
    {
     "name": "stderr",
     "output_type": "stream",
     "text": [
      "\r",
      "Iterations:  20%|██████▉                           | 61/300 [01:13<04:51,  1.22s/it]"
     ]
    },
    {
     "name": "stdout",
     "output_type": "stream",
     "text": [
      "Epoch:  60\n",
      "t_loss:  73.38913292978324 , v_loss:  0.6842974225680033\n",
      "t_acc:  0.7018091079226451 , v_acc:  0.6845238095238095\n",
      "t_recall:  0.5129193531703617 , v_recall:  0.5\n",
      "t_prec:  0.716564559010519 , v_prec:  0.34226190476190477\n",
      "t_f:  0.4409434226577868 , v_f:  0.40636042402826855\n",
      "////////\n"
     ]
    },
    {
     "name": "stderr",
     "output_type": "stream",
     "text": [
      "\r",
      "Iterations:  21%|███████                           | 62/300 [01:14<04:24,  1.11s/it]"
     ]
    },
    {
     "name": "stdout",
     "output_type": "stream",
     "text": [
      "Epoch  61 , loss 72.93959464278876\n",
      "Epoch  62 , loss 72.48794974532782\n"
     ]
    },
    {
     "name": "stderr",
     "output_type": "stream",
     "text": [
      "\r",
      "Iterations:  21%|███████▏                          | 63/300 [01:15<04:50,  1.23s/it]"
     ]
    },
    {
     "name": "stdout",
     "output_type": "stream",
     "text": [
      "Epoch:  62\n",
      "t_loss:  72.48794974532782 , v_loss:  0.6862015525499979\n",
      "t_acc:  0.7052401746724891 , v_acc:  0.6845238095238095\n",
      "t_recall:  0.5176942615131768 , v_recall:  0.5\n",
      "t_prec:  0.7647839845899835 , v_prec:  0.34226190476190477\n",
      "t_f:  0.4495723365256165 , v_f:  0.40636042402826855\n",
      "////////\n"
     ]
    },
    {
     "name": "stderr",
     "output_type": "stream",
     "text": [
      "\r",
      "Iterations:  21%|███████▎                          | 64/300 [01:16<04:37,  1.17s/it]"
     ]
    },
    {
     "name": "stdout",
     "output_type": "stream",
     "text": [
      "Epoch  63 , loss 72.04801342534084\n",
      "Epoch  64 , loss 71.60768621108112\n"
     ]
    },
    {
     "name": "stderr",
     "output_type": "stream",
     "text": [
      "\r",
      "Iterations:  22%|███████▎                          | 65/300 [01:18<04:56,  1.26s/it]"
     ]
    },
    {
     "name": "stdout",
     "output_type": "stream",
     "text": [
      "Epoch:  64\n",
      "t_loss:  71.60768621108112 , v_loss:  0.6901055326064428\n",
      "t_acc:  0.7055520898315658 , v_acc:  0.6845238095238095\n",
      "t_recall:  0.5190731993242078 , v_recall:  0.5\n",
      "t_prec:  0.7482720858840637 , v_prec:  0.34226190476190477\n",
      "t_f:  0.4531888691670377 , v_f:  0.40636042402826855\n",
      "////////\n"
     ]
    },
    {
     "name": "stderr",
     "output_type": "stream",
     "text": [
      "\r",
      "Iterations:  22%|███████▍                          | 66/300 [01:19<04:51,  1.24s/it]"
     ]
    },
    {
     "name": "stdout",
     "output_type": "stream",
     "text": [
      "Epoch  65 , loss 71.15843484915939\n",
      "Epoch  66 , loss 70.71825304218368\n"
     ]
    },
    {
     "name": "stderr",
     "output_type": "stream",
     "text": [
      "\r",
      "Iterations:  22%|███████▌                          | 67/300 [01:20<05:09,  1.33s/it]"
     ]
    },
    {
     "name": "stdout",
     "output_type": "stream",
     "text": [
      "Epoch:  66\n",
      "t_loss:  70.71825304218368 , v_loss:  0.6904419958591461\n",
      "t_acc:  0.6993137866500312 , v_acc:  0.6904761904761905\n",
      "t_recall:  0.5105490236642186 , v_recall:  0.5094339622641509\n",
      "t_prec:  0.6613167422405006 , v_prec:  0.844311377245509\n",
      "t_f:  0.43805928899749813 , v_f:  0.4263199369582348\n",
      "////////\n"
     ]
    },
    {
     "name": "stderr",
     "output_type": "stream",
     "text": [
      "\r",
      "Iterations:  23%|███████▋                          | 68/300 [01:21<04:45,  1.23s/it]"
     ]
    },
    {
     "name": "stdout",
     "output_type": "stream",
     "text": [
      "Epoch  67 , loss 70.28001299091414\n",
      "Epoch  68 , loss 69.83177229937385\n"
     ]
    },
    {
     "name": "stderr",
     "output_type": "stream",
     "text": [
      "\r",
      "Iterations:  23%|███████▊                          | 69/300 [01:23<05:02,  1.31s/it]"
     ]
    },
    {
     "name": "stdout",
     "output_type": "stream",
     "text": [
      "Epoch:  68\n",
      "t_loss:  69.83177229937385 , v_loss:  0.690503920118014\n",
      "t_acc:  0.7014971927635683 , v_acc:  0.6904761904761905\n",
      "t_recall:  0.5155822960843132 , v_recall:  0.5094339622641509\n",
      "t_prec:  0.6738847164081097 , v_prec:  0.844311377245509\n",
      "t_f:  0.44954955035769545 , v_f:  0.4263199369582348\n",
      "////////\n"
     ]
    },
    {
     "name": "stderr",
     "output_type": "stream",
     "text": [
      "\r",
      "Iterations:  23%|███████▉                          | 70/300 [01:24<04:32,  1.18s/it]"
     ]
    },
    {
     "name": "stdout",
     "output_type": "stream",
     "text": [
      "Epoch  69 , loss 69.39525349934895\n",
      "Epoch  70 , loss 68.95827573888442\n"
     ]
    },
    {
     "name": "stderr",
     "output_type": "stream",
     "text": [
      "\r",
      "Iterations:  24%|████████                          | 71/300 [01:25<04:48,  1.26s/it]"
     ]
    },
    {
     "name": "stdout",
     "output_type": "stream",
     "text": [
      "Epoch:  70\n",
      "t_loss:  68.95827573888442 , v_loss:  0.694247434536616\n",
      "t_acc:  0.7014971927635683 , v_acc:  0.6845238095238095\n",
      "t_recall:  0.5150048845521727 , v_recall:  0.5\n",
      "t_prec:  0.6787615563247601 , v_prec:  0.34226190476190477\n",
      "t_f:  0.44782900480463717 , v_f:  0.40636042402826855\n",
      "////////\n"
     ]
    },
    {
     "name": "stderr",
     "output_type": "stream",
     "text": [
      "\r",
      "Iterations:  24%|████████▏                         | 72/300 [01:26<04:24,  1.16s/it]"
     ]
    },
    {
     "name": "stdout",
     "output_type": "stream",
     "text": [
      "Epoch  71 , loss 68.52798043045343\n",
      "Epoch  72 , loss 68.09182619581036\n"
     ]
    },
    {
     "name": "stderr",
     "output_type": "stream",
     "text": [
      "\r",
      "Iterations:  24%|████████▎                         | 73/300 [01:28<04:42,  1.24s/it]"
     ]
    },
    {
     "name": "stdout",
     "output_type": "stream",
     "text": [
      "Epoch:  72\n",
      "t_loss:  68.09182619581036 , v_loss:  0.6951741476853689\n",
      "t_acc:  0.7018091079226451 , v_acc:  0.6845238095238095\n",
      "t_recall:  0.5143628820007126 , v_recall:  0.5\n",
      "t_prec:  0.6941673658369846 , v_prec:  0.34226190476190477\n",
      "t_f:  0.4453644529279216 , v_f:  0.40636042402826855\n",
      "////////\n"
     ]
    },
    {
     "name": "stderr",
     "output_type": "stream",
     "text": [
      "\r",
      "Iterations:  25%|████████▍                         | 74/300 [01:28<04:16,  1.14s/it]"
     ]
    },
    {
     "name": "stdout",
     "output_type": "stream",
     "text": [
      "Epoch  73 , loss 67.65363955030254\n",
      "Epoch  74 , loss 67.22329083610984\n"
     ]
    },
    {
     "name": "stderr",
     "output_type": "stream",
     "text": [
      "\r",
      "Iterations:  25%|████████▌                         | 75/300 [01:30<04:31,  1.21s/it]"
     ]
    },
    {
     "name": "stdout",
     "output_type": "stream",
     "text": [
      "Epoch:  74\n",
      "t_loss:  67.22329083610984 , v_loss:  0.6953532894452413\n",
      "t_acc:  0.7039925140361821 , v_acc:  0.6845238095238095\n",
      "t_recall:  0.5179526255904562 , v_recall:  0.5\n",
      "t_prec:  0.7138796389606976 , v_prec:  0.34226190476190477\n",
      "t_f:  0.4524448542942535 , v_f:  0.40636042402826855\n",
      "////////\n"
     ]
    },
    {
     "name": "stderr",
     "output_type": "stream",
     "text": [
      "\r",
      "Iterations:  25%|████████▌                         | 76/300 [01:31<04:10,  1.12s/it]"
     ]
    },
    {
     "name": "stdout",
     "output_type": "stream",
     "text": [
      "Epoch  75 , loss 66.79113619935279\n",
      "Epoch  76 , loss 66.36368366316253\n"
     ]
    },
    {
     "name": "stderr",
     "output_type": "stream",
     "text": [
      "\r",
      "Iterations:  26%|████████▋                         | 77/300 [01:32<04:26,  1.20s/it]"
     ]
    },
    {
     "name": "stdout",
     "output_type": "stream",
     "text": [
      "Epoch:  76\n",
      "t_loss:  66.36368366316253 , v_loss:  0.6986286292473475\n",
      "t_acc:  0.7021210230817218 , v_acc:  0.6904761904761905\n",
      "t_recall:  0.5137208794492524 , v_recall:  0.5094339622641509\n",
      "t_prec:  0.7145218791328849 , v_prec:  0.844311377245509\n",
      "t_f:  0.442862635695929 , v_f:  0.4263199369582348\n",
      "////////\n"
     ]
    },
    {
     "name": "stderr",
     "output_type": "stream",
     "text": [
      "\r",
      "Iterations:  26%|████████▊                         | 78/300 [01:33<04:11,  1.13s/it]"
     ]
    },
    {
     "name": "stdout",
     "output_type": "stream",
     "text": [
      "Epoch  77 , loss 65.95288863836551\n",
      "Epoch  78 , loss 65.53907117656632\n"
     ]
    },
    {
     "name": "stderr",
     "output_type": "stream",
     "text": [
      "\r",
      "Iterations:  26%|████████▉                         | 79/300 [01:34<04:28,  1.21s/it]"
     ]
    },
    {
     "name": "stdout",
     "output_type": "stream",
     "text": [
      "Epoch:  78\n",
      "t_loss:  65.53907117656632 , v_loss:  0.698822428782781\n",
      "t_acc:  0.7018091079226451 , v_acc:  0.7023809523809523\n",
      "t_recall:  0.5146515877667828 , v_recall:  0.5283018867924528\n",
      "t_prec:  0.6907168375132399 , v_prec:  0.8484848484848485\n",
      "t_f:  0.4462378802157712 , v_f:  0.4642857142857143\n",
      "////////\n"
     ]
    },
    {
     "name": "stderr",
     "output_type": "stream",
     "text": [
      "\r",
      "Iterations:  27%|█████████                         | 80/300 [01:35<04:07,  1.12s/it]"
     ]
    },
    {
     "name": "stdout",
     "output_type": "stream",
     "text": [
      "Epoch  79 , loss 65.10275702383004\n",
      "Epoch  80 , loss 64.69172638537837\n"
     ]
    },
    {
     "name": "stderr",
     "output_type": "stream",
     "text": [
      "\r",
      "Iterations:  27%|█████████▏                        | 81/300 [01:37<04:27,  1.22s/it]"
     ]
    },
    {
     "name": "stdout",
     "output_type": "stream",
     "text": [
      "Epoch:  80\n",
      "t_loss:  64.69172638537837 , v_loss:  0.6994139005740484\n",
      "t_acc:  0.7021210230817218 , v_acc:  0.7023809523809523\n",
      "t_recall:  0.5163192313438839 , v_recall:  0.5283018867924528\n",
      "t_prec:  0.6821082656160223 , v_prec:  0.8484848484848485\n",
      "t_f:  0.45069991702361467 , v_f:  0.4642857142857143\n",
      "////////\n"
     ]
    },
    {
     "name": "stderr",
     "output_type": "stream",
     "text": [
      "\r",
      "Iterations:  27%|█████████▎                        | 82/300 [01:38<04:11,  1.15s/it]"
     ]
    },
    {
     "name": "stdout",
     "output_type": "stream",
     "text": [
      "Epoch  81 , loss 64.27553513470818\n",
      "Epoch  82 , loss 63.879950205485024\n"
     ]
    },
    {
     "name": "stderr",
     "output_type": "stream",
     "text": [
      "\r",
      "Iterations:  28%|█████████▍                        | 83/300 [01:39<04:28,  1.24s/it]"
     ]
    },
    {
     "name": "stdout",
     "output_type": "stream",
     "text": [
      "Epoch:  82\n",
      "t_loss:  63.879950205485024 , v_loss:  0.702331523100535\n",
      "t_acc:  0.7024329382407986 , v_acc:  0.7023809523809523\n",
      "t_recall:  0.5150998172602834 , v_recall:  0.5283018867924528\n",
      "t_prec:  0.7041297660110003 , v_prec:  0.8484848484848485\n",
      "t_f:  0.44652477834020626 , v_f:  0.4642857142857143\n",
      "////////\n"
     ]
    },
    {
     "name": "stderr",
     "output_type": "stream",
     "text": [
      "\r",
      "Iterations:  28%|█████████▌                        | 84/300 [01:40<04:15,  1.18s/it]"
     ]
    },
    {
     "name": "stdout",
     "output_type": "stream",
     "text": [
      "Epoch  83 , loss 63.4677646113377\n",
      "Epoch  84 , loss 63.05538753434723\n"
     ]
    },
    {
     "name": "stderr",
     "output_type": "stream",
     "text": [
      "\r",
      "Iterations:  28%|█████████▋                        | 85/300 [01:42<04:35,  1.28s/it]"
     ]
    },
    {
     "name": "stdout",
     "output_type": "stream",
     "text": [
      "Epoch:  84\n",
      "t_loss:  63.05538753434723 , v_loss:  0.6991216937700907\n",
      "t_acc:  0.7039925140361821 , v_acc:  0.6904761904761905\n",
      "t_recall:  0.5170865082922457 , v_recall:  0.5094339622641509\n",
      "t_prec:  0.7266169942929613 , v_prec:  0.844311377245509\n",
      "t_f:  0.44985954891106333 , v_f:  0.4263199369582348\n",
      "////////\n"
     ]
    },
    {
     "name": "stderr",
     "output_type": "stream",
     "text": [
      "\r",
      "Iterations:  29%|█████████▋                        | 86/300 [01:43<04:16,  1.20s/it]"
     ]
    },
    {
     "name": "stdout",
     "output_type": "stream",
     "text": [
      "Epoch  85 , loss 62.649751999798944\n",
      "Epoch  86 , loss 62.255500269871135\n"
     ]
    },
    {
     "name": "stderr",
     "output_type": "stream",
     "text": [
      "\r",
      "Iterations:  29%|█████████▊                        | 87/300 [01:44<04:29,  1.26s/it]"
     ]
    },
    {
     "name": "stdout",
     "output_type": "stream",
     "text": [
      "Epoch:  86\n",
      "t_loss:  62.255500269871135 , v_loss:  0.6983185062805811\n",
      "t_acc:  0.7043044291952589 , v_acc:  0.7023809523809523\n",
      "t_recall:  0.519042857635417 , v_recall:  0.5283018867924528\n",
      "t_prec:  0.7091950365892459 , v_prec:  0.8484848484848485\n",
      "t_f:  0.45515014488513517 , v_f:  0.4642857142857143\n",
      "////////\n"
     ]
    },
    {
     "name": "stderr",
     "output_type": "stream",
     "text": [
      "\r",
      "Iterations:  29%|█████████▉                        | 88/300 [01:45<04:09,  1.18s/it]"
     ]
    },
    {
     "name": "stdout",
     "output_type": "stream",
     "text": [
      "Epoch  87 , loss 61.858471141142005\n",
      "Epoch  88 , loss 61.45902304555855\n"
     ]
    },
    {
     "name": "stderr",
     "output_type": "stream",
     "text": [
      "\r",
      "Iterations:  30%|██████████                        | 89/300 [01:47<04:24,  1.25s/it]"
     ]
    },
    {
     "name": "stdout",
     "output_type": "stream",
     "text": [
      "Epoch:  88\n",
      "t_loss:  61.45902304555855 , v_loss:  0.6994994878768921\n",
      "t_acc:  0.7002495321272614 , v_acc:  0.6964285714285714\n",
      "t_recall:  0.513531014033031 , v_recall:  0.5188679245283019\n",
      "t_prec:  0.6612025150067914 , v_prec:  0.8463855421686747\n",
      "t_f:  0.44552108005982893 , v_f:  0.44561630540278224\n",
      "////////\n"
     ]
    },
    {
     "name": "stderr",
     "output_type": "stream",
     "text": [
      "\r",
      "Iterations:  30%|██████████▏                       | 90/300 [01:48<04:05,  1.17s/it]"
     ]
    },
    {
     "name": "stdout",
     "output_type": "stream",
     "text": [
      "Epoch  89 , loss 61.051803663665176\n",
      "Epoch  90 , loss 60.661412781360106\n"
     ]
    },
    {
     "name": "stderr",
     "output_type": "stream",
     "text": [
      "\r",
      "Iterations:  30%|██████████▎                       | 91/300 [01:49<04:18,  1.24s/it]"
     ]
    },
    {
     "name": "stdout",
     "output_type": "stream",
     "text": [
      "Epoch:  90\n",
      "t_loss:  60.661412781360106 , v_loss:  0.703460286060969\n",
      "t_acc:  0.7046163443543356 , v_acc:  0.6964285714285714\n",
      "t_recall:  0.5184008550839568 , v_recall:  0.5188679245283019\n",
      "t_prec:  0.7269047619047619 , v_prec:  0.8463855421686747\n",
      "t_f:  0.45274235189338635 , v_f:  0.44561630540278224\n",
      "////////\n"
     ]
    },
    {
     "name": "stderr",
     "output_type": "stream",
     "text": [
      "\r",
      "Iterations:  31%|██████████▍                       | 92/300 [01:50<03:56,  1.14s/it]"
     ]
    },
    {
     "name": "stdout",
     "output_type": "stream",
     "text": [
      "Epoch  91 , loss 60.26665840896906\n",
      "Epoch  92 , loss 59.86905602847828\n"
     ]
    },
    {
     "name": "stderr",
     "output_type": "stream",
     "text": [
      "\r",
      "Iterations:  31%|██████████▌                       | 93/300 [01:51<04:09,  1.21s/it]"
     ]
    },
    {
     "name": "stdout",
     "output_type": "stream",
     "text": [
      "Epoch:  92\n",
      "t_loss:  59.86905602847828 , v_loss:  0.7027763177951177\n",
      "t_acc:  0.7058640049906425 , v_acc:  0.7023809523809523\n",
      "t_recall:  0.5216069601995196 , v_recall:  0.5283018867924528\n",
      "t_prec:  0.7202601882053012 , v_prec:  0.8484848484848485\n",
      "t_f:  0.46011967784234875 , v_f:  0.4642857142857143\n",
      "////////\n"
     ]
    },
    {
     "name": "stderr",
     "output_type": "stream",
     "text": [
      "\r",
      "Iterations:  31%|██████████▋                       | 94/300 [01:52<03:55,  1.14s/it]"
     ]
    },
    {
     "name": "stdout",
     "output_type": "stream",
     "text": [
      "Epoch  93 , loss 59.478570302327476\n",
      "Epoch  94 , loss 59.073428060494216\n"
     ]
    },
    {
     "name": "stderr",
     "output_type": "stream",
     "text": [
      "\r",
      "Iterations:  32%|██████████▊                       | 95/300 [01:54<04:07,  1.21s/it]"
     ]
    },
    {
     "name": "stdout",
     "output_type": "stream",
     "text": [
      "Epoch:  94\n",
      "t_loss:  59.073428060494216 , v_loss:  0.7060166150331497\n",
      "t_acc:  0.7071116656269495 , v_acc:  0.7023809523809523\n",
      "t_recall:  0.5230808307186613 , v_recall:  0.5283018867924528\n",
      "t_prec:  0.7352847448730926 , v_prec:  0.8484848484848485\n",
      "t_f:  0.46240973223114057 , v_f:  0.4642857142857143\n",
      "////////\n"
     ]
    },
    {
     "name": "stderr",
     "output_type": "stream",
     "text": [
      "\r",
      "Iterations:  32%|██████████▉                       | 96/300 [01:55<03:59,  1.17s/it]"
     ]
    },
    {
     "name": "stdout",
     "output_type": "stream",
     "text": [
      "Epoch  95 , loss 58.69836732452991\n",
      "Epoch  96 , loss 58.29651462330538\n"
     ]
    },
    {
     "name": "stderr",
     "output_type": "stream",
     "text": [
      "\r",
      "Iterations:  32%|██████████▉                       | 97/300 [01:56<04:08,  1.22s/it]"
     ]
    },
    {
     "name": "stdout",
     "output_type": "stream",
     "text": [
      "Epoch:  96\n",
      "t_loss:  58.29651462330538 , v_loss:  0.7083476434151331\n",
      "t_acc:  0.7043044291952589 , v_acc:  0.6964285714285714\n",
      "t_recall:  0.519042857635417 , v_recall:  0.5188679245283019\n",
      "t_prec:  0.7091950365892459 , v_prec:  0.8463855421686747\n",
      "t_f:  0.45515014488513517 , v_f:  0.44561630540278224\n",
      "////////\n"
     ]
    },
    {
     "name": "stderr",
     "output_type": "stream",
     "text": [
      "\r",
      "Iterations:  33%|███████████                       | 98/300 [01:57<03:50,  1.14s/it]"
     ]
    },
    {
     "name": "stdout",
     "output_type": "stream",
     "text": [
      "Epoch  97 , loss 57.90543582392674\n",
      "Epoch  98 , loss 57.5229783151664\n"
     ]
    },
    {
     "name": "stderr",
     "output_type": "stream",
     "text": [
      "\r",
      "Iterations:  33%|███████████▏                      | 99/300 [01:58<03:59,  1.19s/it]"
     ]
    },
    {
     "name": "stdout",
     "output_type": "stream",
     "text": [
      "Epoch:  98\n",
      "t_loss:  57.5229783151664 , v_loss:  0.7094542235136032\n",
      "t_acc:  0.7052401746724891 , v_acc:  0.6904761904761905\n",
      "t_recall:  0.5205813191738786 , v_recall:  0.5094339622641509\n",
      "t_prec:  0.7160248986682107 , v_prec:  0.844311377245509\n",
      "t_f:  0.4581370654765131 , v_f:  0.4263199369582348\n",
      "////////\n"
     ]
    },
    {
     "name": "stderr",
     "output_type": "stream",
     "text": [
      "\r",
      "Iterations:  33%|███████████                      | 100/300 [01:59<03:38,  1.09s/it]"
     ]
    },
    {
     "name": "stdout",
     "output_type": "stream",
     "text": [
      "Epoch  99 , loss 57.143096774232156\n",
      "Epoch  100 , loss 56.75850288540709\n"
     ]
    },
    {
     "name": "stderr",
     "output_type": "stream",
     "text": [
      "\r",
      "Iterations:  34%|███████████                      | 101/300 [02:01<04:04,  1.23s/it]"
     ]
    },
    {
     "name": "stdout",
     "output_type": "stream",
     "text": [
      "Epoch:  100\n",
      "t_loss:  56.75850288540709 , v_loss:  0.7100305408239365\n",
      "t_acc:  0.6996257018091079 , v_acc:  0.6964285714285714\n",
      "t_recall:  0.5130827845395304 , v_recall:  0.5188679245283019\n",
      "t_prec:  0.6507628734901463 , v_prec:  0.8463855421686747\n",
      "t_f:  0.4452345335608186 , v_f:  0.44561630540278224\n",
      "////////\n"
     ]
    },
    {
     "name": "stderr",
     "output_type": "stream",
     "text": [
      "\r",
      "Iterations:  34%|███████████▏                     | 102/300 [02:02<03:46,  1.14s/it]"
     ]
    },
    {
     "name": "stdout",
     "output_type": "stream",
     "text": [
      "Epoch  101 , loss 56.369704975801355\n",
      "Epoch  102 , loss 55.99396006266276\n"
     ]
    },
    {
     "name": "stderr",
     "output_type": "stream",
     "text": [
      "\r",
      "Iterations:  34%|███████████▎                     | 103/300 [02:03<04:08,  1.26s/it]"
     ]
    },
    {
     "name": "stdout",
     "output_type": "stream",
     "text": [
      "Epoch:  102\n",
      "t_loss:  55.99396006266276 , v_loss:  0.7118674168984095\n",
      "t_acc:  0.7039925140361821 , v_acc:  0.6964285714285714\n",
      "t_recall:  0.5191074486547369 , v_recall:  0.5188679245283019\n",
      "t_prec:  0.700554912179116 , v_prec:  0.8463855421686747\n",
      "t_f:  0.4558434657536623 , v_f:  0.44561630540278224\n",
      "////////\n"
     ]
    },
    {
     "name": "stderr",
     "output_type": "stream",
     "text": [
      "\r",
      "Iterations:  35%|███████████▍                     | 104/300 [02:04<03:49,  1.17s/it]"
     ]
    },
    {
     "name": "stdout",
     "output_type": "stream",
     "text": [
      "Epoch  103 , loss 55.61033585492302\n",
      "Epoch  104 , loss 55.23496784883387\n"
     ]
    },
    {
     "name": "stderr",
     "output_type": "stream",
     "text": [
      "\r",
      "Iterations:  35%|███████████▌                     | 105/300 [02:06<04:00,  1.23s/it]"
     ]
    },
    {
     "name": "stdout",
     "output_type": "stream",
     "text": [
      "Epoch:  104\n",
      "t_loss:  55.23496784883387 , v_loss:  0.7123571584622065\n",
      "t_acc:  0.7036805988771054 , v_acc:  0.6964285714285714\n",
      "t_recall:  0.5185946281419164 , v_recall:  0.5188679245283019\n",
      "t_prec:  0.6981118213209904 , v_prec:  0.8463855421686747\n",
      "t_f:  0.45484778624205285 , v_f:  0.44561630540278224\n",
      "////////\n"
     ]
    },
    {
     "name": "stderr",
     "output_type": "stream",
     "text": [
      "\r",
      "Iterations:  35%|███████████▋                     | 106/300 [02:07<03:44,  1.16s/it]"
     ]
    },
    {
     "name": "stdout",
     "output_type": "stream",
     "text": [
      "Epoch  105 , loss 54.865861930099186\n",
      "Epoch  106 , loss 54.49124429740158\n"
     ]
    },
    {
     "name": "stderr",
     "output_type": "stream",
     "text": [
      "\r",
      "Iterations:  36%|███████████▊                     | 107/300 [02:08<03:54,  1.21s/it]"
     ]
    },
    {
     "name": "stdout",
     "output_type": "stream",
     "text": [
      "Epoch:  106\n",
      "t_loss:  54.49124429740158 , v_loss:  0.7113731950521469\n",
      "t_acc:  0.7043044291952589 , v_acc:  0.6964285714285714\n",
      "t_recall:  0.520486386465768 , v_recall:  0.5188679245283019\n",
      "t_prec:  0.6948436659685452 , v_prec:  0.8463855421686747\n",
      "t_f:  0.45934303328380893 , v_f:  0.44561630540278224\n",
      "////////\n"
     ]
    },
    {
     "name": "stderr",
     "output_type": "stream",
     "text": [
      "\r",
      "Iterations:  36%|███████████▉                     | 108/300 [02:09<03:40,  1.15s/it]"
     ]
    },
    {
     "name": "stdout",
     "output_type": "stream",
     "text": [
      "Epoch  107 , loss 54.12807232725854\n",
      "Epoch  108 , loss 53.748502394732306\n"
     ]
    },
    {
     "name": "stderr",
     "output_type": "stream",
     "text": [
      "\r",
      "Iterations:  36%|███████████▉                     | 109/300 [02:10<03:50,  1.21s/it]"
     ]
    },
    {
     "name": "stdout",
     "output_type": "stream",
     "text": [
      "Epoch:  108\n",
      "t_loss:  53.748502394732306 , v_loss:  0.7110435167948405\n",
      "t_acc:  0.7067997504678727 , v_acc:  0.6964285714285714\n",
      "t_recall:  0.5225680102058408 , v_recall:  0.5188679245283019\n",
      "t_prec:  0.7334163841512412 , v_prec:  0.8463855421686747\n",
      "t_f:  0.4614210603444887 , v_f:  0.44561630540278224\n",
      "////////\n"
     ]
    },
    {
     "name": "stderr",
     "output_type": "stream",
     "text": [
      "\r",
      "Iterations:  37%|████████████                     | 110/300 [02:11<03:32,  1.12s/it]"
     ]
    },
    {
     "name": "stdout",
     "output_type": "stream",
     "text": [
      "Epoch  109 , loss 53.38317497103822\n",
      "Epoch  110 , loss 53.01391407087738\n"
     ]
    },
    {
     "name": "stderr",
     "output_type": "stream",
     "text": [
      "\r",
      "Iterations:  37%|████████████▏                    | 111/300 [02:13<03:48,  1.21s/it]"
     ]
    },
    {
     "name": "stdout",
     "output_type": "stream",
     "text": [
      "Epoch:  110\n",
      "t_loss:  53.01391407087738 , v_loss:  0.7119229237238566\n",
      "t_acc:  0.7058640049906425 , v_acc:  0.6964285714285714\n",
      "t_recall:  0.5204521371352389 , v_recall:  0.5188679245283019\n",
      "t_prec:  0.7356855265946176 , v_prec:  0.8463855421686747\n",
      "t_f:  0.45675614241729173 , v_f:  0.44561630540278224\n",
      "////////\n"
     ]
    },
    {
     "name": "stderr",
     "output_type": "stream",
     "text": [
      "\r",
      "Iterations:  37%|████████████▎                    | 112/300 [02:14<03:33,  1.14s/it]"
     ]
    },
    {
     "name": "stdout",
     "output_type": "stream",
     "text": [
      "Epoch  111 , loss 52.644291821648096\n",
      "Epoch  112 , loss 52.273560318292354\n"
     ]
    },
    {
     "name": "stderr",
     "output_type": "stream",
     "text": [
      "\r",
      "Iterations:  38%|████████████▍                    | 113/300 [02:15<03:50,  1.23s/it]"
     ]
    },
    {
     "name": "stdout",
     "output_type": "stream",
     "text": [
      "Epoch:  112\n",
      "t_loss:  52.273560318292354 , v_loss:  0.7117824008067449\n",
      "t_acc:  0.7046163443543356 , v_acc:  0.6964285714285714\n",
      "t_recall:  0.5181121493178866 , v_recall:  0.5188679245283019\n",
      "t_prec:  0.7314697311524723 , v_prec:  0.8463855421686747\n",
      "t_f:  0.4518824063156751 , v_f:  0.44561630540278224\n",
      "////////\n"
     ]
    },
    {
     "name": "stderr",
     "output_type": "stream",
     "text": [
      "\r",
      "Iterations:  38%|████████████▌                    | 114/300 [02:16<03:39,  1.18s/it]"
     ]
    },
    {
     "name": "stdout",
     "output_type": "stream",
     "text": [
      "Epoch  113 , loss 51.911591772939644\n",
      "Epoch  114 , loss 51.53200037339155\n"
     ]
    },
    {
     "name": "stderr",
     "output_type": "stream",
     "text": [
      "\r",
      "Iterations:  38%|████████████▋                    | 115/300 [02:18<03:57,  1.28s/it]"
     ]
    },
    {
     "name": "stdout",
     "output_type": "stream",
     "text": [
      "Epoch:  114\n",
      "t_loss:  51.53200037339155 , v_loss:  0.7098090300957361\n",
      "t_acc:  0.7071116656269495 , v_acc:  0.6964285714285714\n",
      "t_recall:  0.5248130653150823 , v_recall:  0.5188679245283019\n",
      "t_prec:  0.7158269353806781 , v_prec:  0.8463855421686747\n",
      "t_f:  0.4673339661885454 , v_f:  0.44561630540278224\n",
      "////////\n"
     ]
    },
    {
     "name": "stderr",
     "output_type": "stream",
     "text": [
      "\r",
      "Iterations:  39%|████████████▊                    | 116/300 [02:18<03:35,  1.17s/it]"
     ]
    },
    {
     "name": "stdout",
     "output_type": "stream",
     "text": [
      "Epoch  115 , loss 51.176580616072116\n",
      "Epoch  116 , loss 50.81240433337641\n"
     ]
    },
    {
     "name": "stderr",
     "output_type": "stream",
     "text": [
      "\r",
      "Iterations:  39%|████████████▊                    | 117/300 [02:20<03:56,  1.29s/it]"
     ]
    },
    {
     "name": "stdout",
     "output_type": "stream",
     "text": [
      "Epoch:  116\n",
      "t_loss:  50.81240433337641 , v_loss:  0.7118778725465139\n",
      "t_acc:  0.7049282595134123 , v_acc:  0.6964285714285714\n",
      "t_recall:  0.5223781447896194 , v_recall:  0.5188679245283019\n",
      "t_prec:  0.6923061728395061 , v_prec:  0.8463855421686747\n",
      "t_f:  0.4637711600697037 , v_f:  0.44561630540278224\n",
      "////////\n"
     ]
    },
    {
     "name": "stderr",
     "output_type": "stream",
     "text": [
      "\r",
      "Iterations:  39%|████████████▉                    | 118/300 [02:21<03:33,  1.17s/it]"
     ]
    },
    {
     "name": "stdout",
     "output_type": "stream",
     "text": [
      "Epoch  117 , loss 50.44589263317632\n",
      "Epoch  118 , loss 50.07708837471756\n"
     ]
    },
    {
     "name": "stderr",
     "output_type": "stream",
     "text": [
      "\r",
      "Iterations:  40%|█████████████                    | 119/300 [02:22<03:53,  1.29s/it]"
     ]
    },
    {
     "name": "stdout",
     "output_type": "stream",
     "text": [
      "Epoch:  118\n",
      "t_loss:  50.07708837471756 , v_loss:  0.7121970901886622\n",
      "t_acc:  0.7077354959451029 , v_acc:  0.6904761904761905\n",
      "t_recall:  0.5249725890425129 , v_recall:  0.5145200984413454\n",
      "t_prec:  0.7283546325878594 , v_prec:  0.6787878787878787\n",
      "t_f:  0.4668436505608129 , v_f:  0.44285714285714284\n",
      "////////\n"
     ]
    },
    {
     "name": "stderr",
     "output_type": "stream",
     "text": [
      "\r",
      "Iterations:  40%|█████████████▏                   | 120/300 [02:23<03:31,  1.17s/it]"
     ]
    },
    {
     "name": "stdout",
     "output_type": "stream",
     "text": [
      "Epoch  119 , loss 49.719435673134\n",
      "Epoch  120 , loss 49.35485981959923\n"
     ]
    },
    {
     "name": "stderr",
     "output_type": "stream",
     "text": [
      "\r",
      "Iterations:  40%|█████████████▎                   | 121/300 [02:25<03:47,  1.27s/it]"
     ]
    },
    {
     "name": "stdout",
     "output_type": "stream",
     "text": [
      "Epoch:  120\n",
      "t_loss:  49.35485981959923 , v_loss:  0.7141879747311274\n",
      "t_acc:  0.7039925140361821 , v_acc:  0.6904761904761905\n",
      "t_recall:  0.519396154420807 , v_recall:  0.5145200984413454\n",
      "t_prec:  0.6977233532036141 , v_prec:  0.6787878787878787\n",
      "t_f:  0.4566845962591612 , v_f:  0.44285714285714284\n",
      "////////\n"
     ]
    },
    {
     "name": "stderr",
     "output_type": "stream",
     "text": [
      "\r",
      "Iterations:  41%|█████████████▍                   | 122/300 [02:26<03:25,  1.16s/it]"
     ]
    },
    {
     "name": "stdout",
     "output_type": "stream",
     "text": [
      "Epoch  121 , loss 48.99834457098269\n",
      "Epoch  122 , loss 48.63716379801432\n"
     ]
    },
    {
     "name": "stderr",
     "output_type": "stream",
     "text": [
      "\r",
      "Iterations:  41%|█████████████▌                   | 123/300 [02:27<03:37,  1.23s/it]"
     ]
    },
    {
     "name": "stdout",
     "output_type": "stream",
     "text": [
      "Epoch:  122\n",
      "t_loss:  48.63716379801432 , v_loss:  0.7165714750687281\n",
      "t_acc:  0.7036805988771054 , v_acc:  0.6964285714285714\n",
      "t_recall:  0.5188833339079866 , v_recall:  0.5188679245283019\n",
      "t_prec:  0.6953065193307119 , v_prec:  0.8463855421686747\n",
      "t_f:  0.45569149715666407 , v_f:  0.44561630540278224\n",
      "////////\n"
     ]
    },
    {
     "name": "stderr",
     "output_type": "stream",
     "text": [
      "\r",
      "Iterations:  41%|█████████████▋                   | 124/300 [02:28<03:22,  1.15s/it]"
     ]
    },
    {
     "name": "stdout",
     "output_type": "stream",
     "text": [
      "Epoch  123 , loss 48.27119064331055\n",
      "Epoch  124 , loss 47.9189717909869\n"
     ]
    },
    {
     "name": "stderr",
     "output_type": "stream",
     "text": [
      "\r",
      "Iterations:  42%|█████████████▊                   | 125/300 [02:30<03:41,  1.26s/it]"
     ]
    },
    {
     "name": "stdout",
     "output_type": "stream",
     "text": [
      "Epoch:  124\n",
      "t_loss:  47.9189717909869 , v_loss:  0.7187757144371668\n",
      "t_acc:  0.7061759201497193 , v_acc:  0.6964285714285714\n",
      "t_recall:  0.5221197807123401 , v_recall:  0.5188679245283019\n",
      "t_prec:  0.7222907513409378 , v_prec:  0.8463855421686747\n",
      "t_f:  0.46110839885571375 , v_f:  0.44561630540278224\n",
      "////////\n"
     ]
    },
    {
     "name": "stderr",
     "output_type": "stream",
     "text": [
      "\r",
      "Iterations:  42%|█████████████▊                   | 126/300 [02:31<03:19,  1.15s/it]"
     ]
    },
    {
     "name": "stdout",
     "output_type": "stream",
     "text": [
      "Epoch  125 , loss 47.56338987163469\n",
      "Epoch  126 , loss 47.20892214307598\n"
     ]
    },
    {
     "name": "stderr",
     "output_type": "stream",
     "text": [
      "\r",
      "Iterations:  42%|█████████████▉                   | 127/300 [02:32<03:36,  1.25s/it]"
     ]
    },
    {
     "name": "stdout",
     "output_type": "stream",
     "text": [
      "Epoch:  126\n",
      "t_loss:  47.20892214307598 , v_loss:  0.7154247264067332\n",
      "t_acc:  0.7039925140361821 , v_acc:  0.6964285714285714\n",
      "t_recall:  0.5208396832511579 , v_recall:  0.5239540607054963\n",
      "t_prec:  0.6857949701619779 , v_prec:  0.7225609756097561\n",
      "t_f:  0.46084007749741407 , v_f:  0.46123372948500285\n",
      "////////\n"
     ]
    },
    {
     "name": "stderr",
     "output_type": "stream",
     "text": [
      "\r",
      "Iterations:  43%|██████████████                   | 128/300 [02:33<03:23,  1.18s/it]"
     ]
    },
    {
     "name": "stdout",
     "output_type": "stream",
     "text": [
      "Epoch  127 , loss 46.8602170009239\n",
      "Epoch  128 , loss 46.50195910883885\n"
     ]
    },
    {
     "name": "stderr",
     "output_type": "stream",
     "text": [
      "\r",
      "Iterations:  43%|██████████████▏                  | 129/300 [02:35<03:45,  1.32s/it]"
     ]
    },
    {
     "name": "stdout",
     "output_type": "stream",
     "text": [
      "Epoch:  128\n",
      "t_loss:  46.50195910883885 , v_loss:  0.7153043548266093\n",
      "t_acc:  0.7105427323767936 , v_acc:  0.6904761904761905\n",
      "t_recall:  0.5284331505936167 , v_recall:  0.5145200984413454\n",
      "t_prec:  0.756704145965891 , v_prec:  0.6787878787878787\n",
      "t_f:  0.4723681970376256 , v_f:  0.44285714285714284\n",
      "////////\n"
     ]
    },
    {
     "name": "stderr",
     "output_type": "stream",
     "text": [
      "\r",
      "Iterations:  43%|██████████████▎                  | 130/300 [02:36<03:28,  1.23s/it]"
     ]
    },
    {
     "name": "stdout",
     "output_type": "stream",
     "text": [
      "Epoch  129 , loss 46.146024516984525\n",
      "Epoch  130 , loss 45.794255649342254\n"
     ]
    },
    {
     "name": "stderr",
     "output_type": "stream",
     "text": [
      "\r",
      "Iterations:  44%|██████████████▍                  | 131/300 [02:37<03:47,  1.34s/it]"
     ]
    },
    {
     "name": "stdout",
     "output_type": "stream",
     "text": [
      "Epoch:  130\n",
      "t_loss:  45.794255649342254 , v_loss:  0.7141764760017395\n",
      "t_acc:  0.7089831565814099 , v_acc:  0.6904761904761905\n",
      "t_recall:  0.5261577537955844 , v_recall:  0.5145200984413454\n",
      "t_prec:  0.7454998101549826 , v_prec:  0.6787878787878787\n",
      "t_f:  0.4683058565850432 , v_f:  0.44285714285714284\n",
      "////////\n"
     ]
    },
    {
     "name": "stderr",
     "output_type": "stream",
     "text": [
      "\r",
      "Iterations:  44%|██████████████▌                  | 132/300 [02:38<03:29,  1.25s/it]"
     ]
    },
    {
     "name": "stdout",
     "output_type": "stream",
     "text": [
      "Epoch  131 , loss 45.45720582849839\n",
      "Epoch  132 , loss 45.10099822399663\n"
     ]
    },
    {
     "name": "stderr",
     "output_type": "stream",
     "text": [
      "\r",
      "Iterations:  44%|██████████████▋                  | 133/300 [02:40<03:50,  1.38s/it]"
     ]
    },
    {
     "name": "stdout",
     "output_type": "stream",
     "text": [
      "Epoch:  132\n",
      "t_loss:  45.10099822399663 , v_loss:  0.7176647186279297\n",
      "t_acc:  0.7102308172177167 , v_acc:  0.6964285714285714\n",
      "t_recall:  0.5290751531450769 , v_recall:  0.5239540607054963\n",
      "t_prec:  0.7411648515908607 , v_prec:  0.7225609756097561\n",
      "t_f:  0.4746048873955758 , v_f:  0.46123372948500285\n",
      "////////\n"
     ]
    },
    {
     "name": "stderr",
     "output_type": "stream",
     "text": [
      "\r",
      "Iterations:  45%|██████████████▋                  | 134/300 [02:41<03:31,  1.27s/it]"
     ]
    },
    {
     "name": "stdout",
     "output_type": "stream",
     "text": [
      "Epoch  133 , loss 44.75476537966261\n",
      "Epoch  134 , loss 44.40018964281269\n"
     ]
    },
    {
     "name": "stderr",
     "output_type": "stream",
     "text": [
      "\r",
      "Iterations:  45%|██████████████▊                  | 135/300 [02:43<03:44,  1.36s/it]"
     ]
    },
    {
     "name": "stdout",
     "output_type": "stream",
     "text": [
      "Epoch:  134\n",
      "t_loss:  44.40018964281269 , v_loss:  0.7191894004742304\n",
      "t_acc:  0.7089831565814099 , v_acc:  0.7023809523809523\n",
      "t_recall:  0.5287561056902159 , v_recall:  0.5333880229696473\n",
      "t_prec:  0.7183372427466421 , v_prec:  0.7496932515337423\n",
      "t_f:  0.4755150474784394 , v_f:  0.4790374596874225\n",
      "////////\n"
     ]
    },
    {
     "name": "stderr",
     "output_type": "stream",
     "text": [
      "\r",
      "Iterations:  45%|██████████████▉                  | 136/300 [02:44<03:25,  1.26s/it]"
     ]
    },
    {
     "name": "stdout",
     "output_type": "stream",
     "text": [
      "Epoch  135 , loss 44.056945501589304\n",
      "Epoch  136 , loss 43.71427887561274\n"
     ]
    },
    {
     "name": "stderr",
     "output_type": "stream",
     "text": [
      "\r",
      "Iterations:  46%|███████████████                  | 137/300 [02:45<03:32,  1.30s/it]"
     ]
    },
    {
     "name": "stdout",
     "output_type": "stream",
     "text": [
      "Epoch:  136\n",
      "t_loss:  43.71427887561274 , v_loss:  0.7175417294104894\n",
      "t_acc:  0.7089831565814099 , v_acc:  0.6964285714285714\n",
      "t_recall:  0.5261577537955844 , v_recall:  0.5239540607054963\n",
      "t_prec:  0.7454998101549826 , v_prec:  0.7225609756097561\n",
      "t_f:  0.4683058565850432 , v_f:  0.46123372948500285\n",
      "////////\n"
     ]
    },
    {
     "name": "stderr",
     "output_type": "stream",
     "text": [
      "\r",
      "Iterations:  46%|███████████████▏                 | 138/300 [02:46<03:19,  1.23s/it]"
     ]
    },
    {
     "name": "stdout",
     "output_type": "stream",
     "text": [
      "Epoch  137 , loss 43.360120062734566\n",
      "Epoch  138 , loss 43.02815029667873\n"
     ]
    },
    {
     "name": "stderr",
     "output_type": "stream",
     "text": [
      "\r",
      "Iterations:  46%|███████████████▎                 | 139/300 [02:47<03:25,  1.28s/it]"
     ]
    },
    {
     "name": "stdout",
     "output_type": "stream",
     "text": [
      "Epoch:  138\n",
      "t_loss:  43.02815029667873 , v_loss:  0.7178857276837031\n",
      "t_acc:  0.7102308172177167 , v_acc:  0.6964285714285714\n",
      "t_recall:  0.5287864473790068 , v_recall:  0.5290401968826908\n",
      "t_prec:  0.7444372443084226 , v_prec:  0.6820987654320987\n",
      "t_f:  0.47380735958842696 , v_f:  0.4757388484366395\n",
      "////////\n"
     ]
    },
    {
     "name": "stderr",
     "output_type": "stream",
     "text": [
      "\r",
      "Iterations:  47%|███████████████▍                 | 140/300 [02:48<03:10,  1.19s/it]"
     ]
    },
    {
     "name": "stdout",
     "output_type": "stream",
     "text": [
      "Epoch  139 , loss 42.681019726921534\n",
      "Epoch  140 , loss 42.33126539342544\n"
     ]
    },
    {
     "name": "stderr",
     "output_type": "stream",
     "text": [
      "\r",
      "Iterations:  47%|███████████████▌                 | 141/300 [02:50<03:20,  1.26s/it]"
     ]
    },
    {
     "name": "stdout",
     "output_type": "stream",
     "text": [
      "Epoch:  140\n",
      "t_loss:  42.33126539342544 , v_loss:  0.7161741256713867\n",
      "t_acc:  0.7077354959451029 , v_acc:  0.6964285714285714\n",
      "t_recall:  0.525261294808583 , v_recall:  0.5239540607054963\n",
      "t_prec:  0.7252155879074038 , v_prec:  0.7225609756097561\n",
      "t_f:  0.46765769506330557 , v_f:  0.46123372948500285\n",
      "////////\n"
     ]
    },
    {
     "name": "stderr",
     "output_type": "stream",
     "text": [
      "\r",
      "Iterations:  47%|███████████████▌                 | 142/300 [02:51<03:05,  1.18s/it]"
     ]
    },
    {
     "name": "stdout",
     "output_type": "stream",
     "text": [
      "Epoch  141 , loss 42.00191206090591\n",
      "Epoch  142 , loss 41.65022419948204\n"
     ]
    },
    {
     "name": "stderr",
     "output_type": "stream",
     "text": [
      "\r",
      "Iterations:  48%|███████████████▋                 | 143/300 [02:52<03:15,  1.25s/it]"
     ]
    },
    {
     "name": "stdout",
     "output_type": "stream",
     "text": [
      "Epoch:  142\n",
      "t_loss:  41.65022419948204 , v_loss:  0.7131444960832596\n",
      "t_acc:  0.7077354959451029 , v_acc:  0.6964285714285714\n",
      "t_recall:  0.5272822351710743 , v_recall:  0.5290401968826908\n",
      "t_prec:  0.7071465471503169 , v_prec:  0.6820987654320987\n",
      "t_f:  0.4732664517548743 , v_f:  0.4757388484366395\n",
      "////////\n"
     ]
    },
    {
     "name": "stderr",
     "output_type": "stream",
     "text": [
      "\r",
      "Iterations:  48%|███████████████▊                 | 144/300 [02:53<03:04,  1.18s/it]"
     ]
    },
    {
     "name": "stdout",
     "output_type": "stream",
     "text": [
      "Epoch  143 , loss 41.31220327639112\n",
      "Epoch  144 , loss 40.97553701961742\n"
     ]
    },
    {
     "name": "stderr",
     "output_type": "stream",
     "text": [
      "\r",
      "Iterations:  48%|███████████████▉                 | 145/300 [02:55<03:17,  1.27s/it]"
     ]
    },
    {
     "name": "stdout",
     "output_type": "stream",
     "text": [
      "Epoch:  144\n",
      "t_loss:  40.97553701961742 , v_loss:  0.7157066911458969\n",
      "t_acc:  0.7074235807860262 , v_acc:  0.6964285714285714\n",
      "t_recall:  0.5267694146582538 , v_recall:  0.5239540607054963\n",
      "t_prec:  0.7054204222743549 , v_prec:  0.7225609756097561\n",
      "t_f:  0.4723083801674588 , v_f:  0.46123372948500285\n",
      "////////\n"
     ]
    },
    {
     "name": "stderr",
     "output_type": "stream",
     "text": [
      "\r",
      "Iterations:  49%|████████████████                 | 146/300 [02:56<02:59,  1.17s/it]"
     ]
    },
    {
     "name": "stdout",
     "output_type": "stream",
     "text": [
      "Epoch  145 , loss 40.64468129475912\n",
      "Epoch  146 , loss 40.32066434972427\n"
     ]
    },
    {
     "name": "stderr",
     "output_type": "stream",
     "text": [
      "\r",
      "Iterations:  49%|████████████████▏                | 147/300 [02:57<03:21,  1.32s/it]"
     ]
    },
    {
     "name": "stdout",
     "output_type": "stream",
     "text": [
      "Epoch:  146\n",
      "t_loss:  40.32066434972427 , v_loss:  0.7168351709842682\n",
      "t_acc:  0.7067997504678727 , v_acc:  0.7023809523809523\n",
      "t_recall:  0.5243002448022619 , v_recall:  0.5333880229696473\n",
      "t_prec:  0.7139734367473172 , v_prec:  0.7496932515337423\n",
      "t_f:  0.4663603981490728 , v_f:  0.4790374596874225\n",
      "////////\n"
     ]
    },
    {
     "name": "stderr",
     "output_type": "stream",
     "text": [
      "\r",
      "Iterations:  49%|████████████████▎                | 148/300 [02:58<02:59,  1.18s/it]"
     ]
    },
    {
     "name": "stdout",
     "output_type": "stream",
     "text": [
      "Epoch  147 , loss 40.014160605037915\n",
      "Epoch  148 , loss 39.66878075693168\n"
     ]
    },
    {
     "name": "stderr",
     "output_type": "stream",
     "text": [
      "\r",
      "Iterations:  50%|████████████████▍                | 149/300 [03:00<03:19,  1.32s/it]"
     ]
    },
    {
     "name": "stdout",
     "output_type": "stream",
     "text": [
      "Epoch:  148\n",
      "t_loss:  39.66878075693168 , v_loss:  0.7149315923452377\n",
      "t_acc:  0.7080474111041797 , v_acc:  0.6964285714285714\n",
      "t_recall:  0.5254854095553333 , v_recall:  0.5239540607054963\n",
      "t_prec:  0.7300909381446294 , v_prec:  0.7225609756097561\n",
      "t_f:  0.4678196470120879 , v_f:  0.46123372948500285\n",
      "////////\n"
     ]
    },
    {
     "name": "stderr",
     "output_type": "stream",
     "text": [
      "\r",
      "Iterations:  50%|████████████████▌                | 150/300 [03:01<02:59,  1.19s/it]"
     ]
    },
    {
     "name": "stdout",
     "output_type": "stream",
     "text": [
      "Epoch  149 , loss 39.34317420510685\n",
      "Epoch  150 , loss 39.02920562145757\n"
     ]
    },
    {
     "name": "stderr",
     "output_type": "stream",
     "text": [
      "\r",
      "Iterations:  50%|████████████████▌                | 151/300 [03:02<03:17,  1.32s/it]"
     ]
    },
    {
     "name": "stdout",
     "output_type": "stream",
     "text": [
      "Epoch:  150\n",
      "t_loss:  39.02920562145757 , v_loss:  0.7154920746882757\n",
      "t_acc:  0.7055520898315658 , v_acc:  0.6964285714285714\n",
      "t_recall:  0.5228263742831201 , v_recall:  0.5239540607054963\n",
      "t_prec:  0.7009954135682277 , v_prec:  0.7225609756097561\n",
      "t_f:  0.46408959133268596 , v_f:  0.46123372948500285\n",
      "////////\n"
     ]
    }
   ],
   "source": [
    "from utilities.userfold_framework import *\n",
    "from utilities.EEG_func import *\n",
    "import Models.model_func as Model_Func\n",
    "import numpy as np\n",
    "import pandas as pd\n",
    "import matplotlib.pyplot as plt\n",
    "import seaborn as sns\n",
    "from typing import List\n",
    "from torcheeg.models import EEGNet\n",
    "# import Models.model_func as Model_Func\n",
    "from torch import nn\n",
    "from Models.multi_models import *\n",
    "\n",
    "DEVICE= torch.device(\"cuda\") if torch.cuda.is_available() else torch.device(\"cpu\")\n",
    "\n",
    "learning_rate = 0.00005\n",
    "batch_size = 64\n",
    "n_epochs = 300\n",
    "transpose_channels=True\n",
    "participants_dictionary=[]\n",
    "# participants_online_dictionary=[]\n",
    "participants_grads_dictionary={}\n",
    "b_acc_list=[]\n",
    "c0_acc_list=[]\n",
    "c1_acc_list=[]\n",
    "\n",
    "# EPOCH=[\n",
    "    \n",
    "# ]\n",
    "\n",
    "for i in range(len(participants)):\n",
    "\n",
    "    train_dataloader, val_dataloader, classes, input_dim, class_ratio= user_fold_load(i,\n",
    "                                                                                      raw_user_fold,\n",
    "                                                                                      participants,\n",
    "                                                                                      batch_size=batch_size,\n",
    "                                                                                      transpose_channels=transpose_channels)\n",
    "\n",
    "    classifier= EEGNet(\n",
    "        chunk_size=input_dim[1],\n",
    "        num_electrodes=input_dim[0],\n",
    "        num_classes=classes,\n",
    "        kernel_1= 32,\n",
    "        kernel_2=32,\n",
    "        F1=8,\n",
    "        F2=16,\n",
    "        dropout=0.5\n",
    "    ).to(DEVICE)\n",
    "    \n",
    "#     resnet = ResNetPlus(input_dim[0], classes, bn_1st=False)\n",
    "#     softmax_activation = nn.LogSoftmax(dim=1)\n",
    "#     classifier = nn.Sequential(resnet, softmax_activation).to(DEVICE)\n",
    "\n",
    "    \n",
    "#     classifier = DataGliderBasic_Model(DEVICE, input_dim, classes)\n",
    "#     classifier.to(DEVICE)\n",
    "    \n",
    "#     optimizer= torch.optim.RMSprop(classifier.parameters(), lr=learning_rate)\n",
    "    \n",
    "    \n",
    "    criterion= torch.nn.CrossEntropyLoss(weight=torch.tensor(class_ratio, dtype=torch.float).to(DEVICE))\n",
    "#     criterion = nn.NLLLoss(weight=torch.tensor(class_ratio, dtype=torch.float).to(DEVICE))\n",
    "        \n",
    "    saved_dir= \"./EEG/saved_models/Userfold/run0\"\n",
    "    model = EEGNet_DF_TS_Wrapper(DEVICE, classifier, input_dim[1]).to(DEVICE)\n",
    "#     model= EEGNet_Wrapper(DEVICE, df)\n",
    "    optimizer = torch.optim.Adam(model.parameters(), lr = learning_rate)\n",
    "    scheduler= torch.optim.lr_scheduler.ReduceLROnPlateau(optimizer, patience=2)\n",
    "\n",
    "    \n",
    "    train_func= eeg_DF_train\n",
    "    model.training_procedure(iteration=n_epochs,\n",
    "                                    train_dataloader=train_dataloader,\n",
    "                                     val_dataloader=val_dataloader,\n",
    "                                     print_cycle=2,\n",
    "                                     path=f\"./dictionary/intermdiate_dicts\",\n",
    "                                     loss_func=criterion,\n",
    "                                     optimiser=optimizer, #scheduler=scheduler,\n",
    "                                     train_func=train_func\n",
    "                                    )\n",
    "    if model.epoch == n_epochs+1:\n",
    "        EPOCH= n_epochs\n",
    "    else:\n",
    "        EPOCH= model.epoch\n",
    "    \n",
    "    torch.save(model.state_dict(), \n",
    "           os.path.join(\n",
    "               saved_dir, f\"Userfold-{participants[i]}-EEGNet-DF_TS-e{EPOCH}.pt\"\n",
    "           )\n",
    "    )\n",
    "\n",
    "    pickle.dump( model.return_DF_weights(), \n",
    "                open(f\"{saved_dir}/Userfold-{participants[i]}-EEGNet-DF_TS-w-e{EPOCH}.pkl\", \"wb\") \n",
    "               )    \n",
    "\n",
    "# OR\n",
    "#     model.load_state_dict(\n",
    "#     torch.load(\n",
    "#         open(\n",
    "#             os.path.join(\n",
    "#                 saved_dir, f\"Userfold-{participants[i]}-EEGNet-Weight_TS-e{n_epochs}.pt\"\n",
    "#             ), \"rb\"\n",
    "#         )\n",
    "#               )\n",
    "#     )\n",
    "\n",
    "    \n",
    "    prediction, dictionary= model.prediction_procedure(val_dataloader, dict_flag=True)\n",
    "    \n",
    "    ys= np.concatenate([y.detach().cpu().numpy() for x, y in val_dataloader])\n",
    "    \n",
    "    c0_acc, c1_acc, b_acc= calculate_accuracy(ys, prediction)\n",
    "    print(\"c0_acc\", c0_acc, \", c1_acc\", c1_acc, \", b_acc\", b_acc)\n",
    "    b_acc_list.append(b_acc)\n",
    "    c0_acc_list.append(c0_acc)\n",
    "    c1_acc_list.append(c1_acc)\n",
    "    participants_dictionary.append(dictionary)\n",
    "    \n",
    "\n",
    "tmp=[]\n",
    "for i, dictionary in enumerate(participants_dictionary):\n",
    "    print(f\"User {participants[i]} f1: {dictionary['weighted avg']['f1-score']} acc: {dictionary['accuracy']}\")\n",
    "    print(f\" c0: {c0_acc_list[i]} c1: {c1_acc_list[i]} bacc: {b_acc_list[i]}\")\n",
    "    tmp.append(dictionary['weighted avg']['f1-score'])\n",
    "\n",
    "print(f\"average {np.mean(tmp)}\")\n",
    "print()\n",
    "print(np.array(b_acc_list).mean())\n",
    "print(np.array(c1_acc_list).mean())\n",
    "print(np.array(c0_acc_list).mean())\n"
   ]
  },
  {
   "cell_type": "code",
   "execution_count": null,
   "id": "eb9de653",
   "metadata": {},
   "outputs": [],
   "source": [
    "userfold_results_summary(participants_dictionary, participants)\n",
    "userfold_classwise_results_summary(participants_dictionary, participants)\n"
   ]
  }
 ],
 "metadata": {
  "kernelspec": {
   "display_name": "Python [conda env:pytorch]",
   "language": "python",
   "name": "conda-env-pytorch-py"
  },
  "language_info": {
   "codemirror_mode": {
    "name": "ipython",
    "version": 3
   },
   "file_extension": ".py",
   "mimetype": "text/x-python",
   "name": "python",
   "nbconvert_exporter": "python",
   "pygments_lexer": "ipython3",
   "version": "3.7.10"
  }
 },
 "nbformat": 4,
 "nbformat_minor": 5
}
