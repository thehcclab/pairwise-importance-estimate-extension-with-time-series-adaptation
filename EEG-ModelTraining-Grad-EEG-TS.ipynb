{
 "cells": [
  {
   "cell_type": "code",
   "execution_count": 2,
   "id": "4c9e593e",
   "metadata": {},
   "outputs": [],
   "source": [
    "import numpy as np\n",
    "import pickle\n",
    "import sys\n",
    "from typing import List\n",
    "import torch\n",
    "import os"
   ]
  },
  {
   "cell_type": "code",
   "execution_count": 3,
   "id": "eb96ce98",
   "metadata": {},
   "outputs": [],
   "source": [
    "participant_data_path = './EEG/number'\n",
    "processed_data_path = './EEG/processed_data'\n",
    "split_data_path = './EEG/split_data'"
   ]
  },
  {
   "cell_type": "code",
   "execution_count": 4,
   "id": "62c74d3a",
   "metadata": {},
   "outputs": [],
   "source": [
    "ps = os.listdir(participant_data_path)\n",
    "participants=[]\n",
    "for p in ps:\n",
    "    p= p[:3]\n",
    "    if p not in participants:\n",
    "        participants.append(p)\n",
    "        \n",
    "participants= sorted(participants)\n",
    "# participants, len(participants)"
   ]
  },
  {
   "cell_type": "code",
   "execution_count": 5,
   "id": "28f3009e",
   "metadata": {
    "scrolled": true
   },
   "outputs": [],
   "source": [
    "load_name=f\"userfold_data_scaled_p_dictionary-number\"\n",
    "data_dir = \"./EEG/split_data/standard_scaled\"\n",
    "try:\n",
    "    raw_user_fold= pickle.load(open(os.path.join(data_dir, f\"{load_name}.pkl\"), \"rb\"))\n",
    "except:\n",
    "    print(f\"pickle file does not exist. Use EEG-Preprocess.ipynb and EEG-Split.ipynb to save data setting.\")\n",
    "    sys.exit()"
   ]
  },
  {
   "cell_type": "code",
   "execution_count": 6,
   "id": "082a80ac",
   "metadata": {
    "scrolled": true
   },
   "outputs": [
    {
     "name": "stderr",
     "output_type": "stream",
     "text": [
      "\r",
      "Iterations:   0%|                                           | 0/300 [00:00<?, ?it/s]"
     ]
    },
    {
     "name": "stdout",
     "output_type": "stream",
     "text": [
      "Epoch  0 , loss 0.6515877702656914\n"
     ]
    },
    {
     "name": "stderr",
     "output_type": "stream",
     "text": [
      "\r",
      "Iterations:   0%|                                   | 1/300 [00:03<15:32,  3.12s/it]"
     ]
    },
    {
     "name": "stdout",
     "output_type": "stream",
     "text": [
      "Epoch:  0\n",
      "t_loss:  0.6515877702656914 , v_loss:  0.6893738508224487\n",
      "t_acc:  0.5633364456893869 , v_acc:  0.639751552795031\n",
      "t_recall:  0.4929070421761985 , v_recall:  0.5134234234234234\n",
      "t_prec:  0.493129218900675 , v_prec:  0.5212250712250712\n",
      "t_f:  0.4928268095833055 , v_f:  0.5005348737697903\n",
      "////////\n"
     ]
    },
    {
     "name": "stderr",
     "output_type": "stream",
     "text": [
      "\r",
      "Iterations:   1%|▏                                  | 2/300 [00:03<08:21,  1.68s/it]"
     ]
    },
    {
     "name": "stdout",
     "output_type": "stream",
     "text": [
      "Epoch  1 , loss 0.623833580344331\n",
      "Epoch  2 , loss 0.601701887214885\n"
     ]
    },
    {
     "name": "stderr",
     "output_type": "stream",
     "text": [
      "\r",
      "Iterations:   1%|▎                                  | 3/300 [00:04<07:00,  1.42s/it]"
     ]
    },
    {
     "name": "stdout",
     "output_type": "stream",
     "text": [
      "Epoch:  2\n",
      "t_loss:  0.601701887214885 , v_loss:  0.6794375777244568\n",
      "t_acc:  0.6467475879240585 , v_acc:  0.6832298136645962\n",
      "t_recall:  0.5111698988484923 , v_recall:  0.522972972972973\n",
      "t_prec:  0.5186436782311357 , v_prec:  0.5772727272727273\n",
      "t_f:  0.49629293935371155 , v_f:  0.4842660636894668\n",
      "////////\n"
     ]
    },
    {
     "name": "stderr",
     "output_type": "stream",
     "text": [
      "\r",
      "Iterations:   1%|▍                                  | 4/300 [00:05<05:31,  1.12s/it]"
     ]
    },
    {
     "name": "stdout",
     "output_type": "stream",
     "text": [
      "Epoch  3 , loss 0.5760289757859474\n",
      "Epoch  4 , loss 0.566457940082924\n"
     ]
    },
    {
     "name": "stderr",
     "output_type": "stream",
     "text": [
      "\r",
      "Iterations:   2%|▌                                  | 5/300 [00:06<05:29,  1.12s/it]"
     ]
    },
    {
     "name": "stdout",
     "output_type": "stream",
     "text": [
      "Epoch:  4\n",
      "t_loss:  0.566457940082924 , v_loss:  0.6661801735560099\n",
      "t_acc:  0.6707127295362589 , v_acc:  0.6770186335403726\n",
      "t_recall:  0.5062557472447538 , v_recall:  0.5074774774774775\n",
      "t_prec:  0.5185959854213131 , v_prec:  0.5339052287581699\n",
      "t_f:  0.46678472832224877 , v_f:  0.45323928944618597\n",
      "////////\n"
     ]
    },
    {
     "name": "stderr",
     "output_type": "stream",
     "text": [
      "\r",
      "Iterations:   2%|▋                                  | 6/300 [00:07<04:45,  1.03it/s]"
     ]
    },
    {
     "name": "stdout",
     "output_type": "stream",
     "text": [
      "Epoch  5 , loss 0.5495653094029894\n",
      "Epoch  6 , loss 0.5348142543259788\n"
     ]
    },
    {
     "name": "stderr",
     "output_type": "stream",
     "text": [
      "\r",
      "Iterations:   2%|▊                                  | 7/300 [00:08<04:55,  1.01s/it]"
     ]
    },
    {
     "name": "stdout",
     "output_type": "stream",
     "text": [
      "Epoch:  6\n",
      "t_loss:  0.5348142543259788 , v_loss:  0.6540892720222473\n",
      "t_acc:  0.6862745098039216 , v_acc:  0.6832298136645962\n",
      "t_recall:  0.5085278818572351 , v_recall:  0.5064864864864865\n",
      "t_prec:  0.5445441988950276 , v_prec:  0.5461538461538462\n",
      "t_f:  0.45269678354350984 , v_f:  0.4408580183861083\n",
      "////////\n"
     ]
    },
    {
     "name": "stderr",
     "output_type": "stream",
     "text": [
      "\r",
      "Iterations:   3%|▉                                  | 8/300 [00:09<04:23,  1.11it/s]"
     ]
    },
    {
     "name": "stdout",
     "output_type": "stream",
     "text": [
      "Epoch  7 , loss 0.5232158986961141\n",
      "Epoch  8 , loss 0.5132490338063708\n"
     ]
    },
    {
     "name": "stderr",
     "output_type": "stream",
     "text": [
      "\r",
      "Iterations:   3%|█                                  | 9/300 [00:10<04:41,  1.03it/s]"
     ]
    },
    {
     "name": "stdout",
     "output_type": "stream",
     "text": [
      "Epoch:  8\n",
      "t_loss:  0.5132490338063708 , v_loss:  0.6469811995824178\n",
      "t_acc:  0.6900093370681606 , v_acc:  0.6894409937888198\n",
      "t_recall:  0.5028739654959443 , v_recall:  0.5054954954954954\n",
      "t_prec:  0.530245255221423 , v_prec:  0.5959119496855345\n",
      "t_f:  0.4304578479990774 , v_f:  0.4266381766381766\n",
      "////////\n"
     ]
    },
    {
     "name": "stderr",
     "output_type": "stream",
     "text": [
      "\r",
      "Iterations:   3%|█▏                                | 10/300 [00:10<04:14,  1.14it/s]"
     ]
    },
    {
     "name": "stdout",
     "output_type": "stream",
     "text": [
      "Epoch  9 , loss 0.5070966149077696\n",
      "Epoch  10 , loss 0.4968302051226298\n"
     ]
    },
    {
     "name": "stderr",
     "output_type": "stream",
     "text": [
      "\r",
      "Iterations:   4%|█▏                                | 11/300 [00:12<04:36,  1.04it/s]"
     ]
    },
    {
     "name": "stdout",
     "output_type": "stream",
     "text": [
      "Epoch:  10\n",
      "t_loss:  0.4968302051226298 , v_loss:  0.6444305181503296\n",
      "t_acc:  0.6968565203859322 , v_acc:  0.6956521739130435\n",
      "t_recall:  0.5063579967335062 , v_recall:  0.51\n",
      "t_prec:  0.6285781692356087 , v_prec:  0.846875\n",
      "t_f:  0.4288227271997208 , v_f:  0.42920193907821425\n",
      "////////\n"
     ]
    },
    {
     "name": "stderr",
     "output_type": "stream",
     "text": [
      "\r",
      "Iterations:   4%|█▎                                | 12/300 [00:12<04:13,  1.13it/s]"
     ]
    },
    {
     "name": "stdout",
     "output_type": "stream",
     "text": [
      "Epoch  11 , loss 0.48543515392378267\n",
      "Epoch  12 , loss 0.4813266460802041\n"
     ]
    },
    {
     "name": "stderr",
     "output_type": "stream",
     "text": [
      "\r",
      "Iterations:   4%|█▍                                | 13/300 [00:13<04:30,  1.06it/s]"
     ]
    },
    {
     "name": "stdout",
     "output_type": "stream",
     "text": [
      "Epoch:  12\n",
      "t_loss:  0.4813266460802041 , v_loss:  0.6443804204463959\n",
      "t_acc:  0.6931216931216931 , v_acc:  0.6894409937888198\n",
      "t_recall:  0.5005105612055832 , v_recall:  0.5\n",
      "t_prec:  0.5145813734713076 , v_prec:  0.3447204968944099\n",
      "t_f:  0.4170917015526469 , v_f:  0.4080882352941176\n",
      "////////\n"
     ]
    },
    {
     "name": "stderr",
     "output_type": "stream",
     "text": [
      "\r",
      "Iterations:   5%|█▌                                | 14/300 [00:14<04:06,  1.16it/s]"
     ]
    },
    {
     "name": "stdout",
     "output_type": "stream",
     "text": [
      "Epoch  13 , loss 0.480722609688254\n",
      "Epoch  14 , loss 0.4706650662655924\n"
     ]
    },
    {
     "name": "stderr",
     "output_type": "stream",
     "text": [
      "\r",
      "Iterations:   5%|█▋                                | 15/300 [00:15<04:30,  1.06it/s]"
     ]
    },
    {
     "name": "stdout",
     "output_type": "stream",
     "text": [
      "Epoch:  14\n",
      "t_loss:  0.4706650662655924 , v_loss:  0.6455037196477255\n",
      "t_acc:  0.6949891067538126 , v_acc:  0.6894409937888198\n",
      "t_recall:  0.5021403768820082 , v_recall:  0.5\n",
      "t_prec:  0.5732618227372377 , v_prec:  0.3447204968944099\n",
      "t_f:  0.4187453757921148 , v_f:  0.4080882352941176\n",
      "////////\n"
     ]
    },
    {
     "name": "stderr",
     "output_type": "stream",
     "text": [
      "\r",
      "Iterations:   5%|█▊                                | 16/300 [00:16<04:03,  1.17it/s]"
     ]
    },
    {
     "name": "stdout",
     "output_type": "stream",
     "text": [
      "Epoch  15 , loss 0.46883412143763376\n",
      "Epoch  16 , loss 0.4628695202808754\n"
     ]
    },
    {
     "name": "stderr",
     "output_type": "stream",
     "text": [
      "\r",
      "Iterations:   6%|█▉                                | 17/300 [00:17<04:24,  1.07it/s]"
     ]
    },
    {
     "name": "stdout",
     "output_type": "stream",
     "text": [
      "Epoch:  16\n",
      "t_loss:  0.4628695202808754 , v_loss:  0.6485542356967926\n",
      "t_acc:  0.6968565203859322 , v_acc:  0.6894409937888198\n",
      "t_recall:  0.5031951249639725 , v_recall:  0.5\n",
      "t_prec:  0.6818181818181819 , v_prec:  0.3447204968944099\n",
      "t_f:  0.418492875777644 , v_f:  0.4080882352941176\n",
      "////////\n"
     ]
    },
    {
     "name": "stderr",
     "output_type": "stream",
     "text": [
      "\r",
      "Iterations:   6%|██                                | 18/300 [00:18<04:02,  1.16it/s]"
     ]
    },
    {
     "name": "stdout",
     "output_type": "stream",
     "text": [
      "Epoch  17 , loss 0.45925377922899585\n",
      "Epoch  18 , loss 0.4580189679183212\n"
     ]
    },
    {
     "name": "stderr",
     "output_type": "stream",
     "text": [
      "\r",
      "Iterations:   6%|██▏                               | 19/300 [00:19<04:20,  1.08it/s]"
     ]
    },
    {
     "name": "stdout",
     "output_type": "stream",
     "text": [
      "Epoch:  18\n",
      "t_loss:  0.4580189679183212 , v_loss:  0.6491917669773102\n",
      "t_acc:  0.6959228135698724 , v_acc:  0.6894409937888198\n",
      "t_recall:  0.5016613826326841 , v_recall:  0.5\n",
      "t_prec:  0.6259363295880149 , v_prec:  0.3447204968944099\n",
      "t_f:  0.41525155202966746 , v_f:  0.4080882352941176\n",
      "////////\n"
     ]
    },
    {
     "name": "stderr",
     "output_type": "stream",
     "text": [
      "\r",
      "Iterations:   7%|██▎                               | 20/300 [00:19<03:59,  1.17it/s]"
     ]
    },
    {
     "name": "stdout",
     "output_type": "stream",
     "text": [
      "Epoch  19 , loss 0.454396093008565\n",
      "Epoch  20 , loss 0.4490252844258851\n"
     ]
    },
    {
     "name": "stderr",
     "output_type": "stream",
     "text": [
      "\r",
      "Iterations:   7%|██▍                               | 21/300 [00:20<04:20,  1.07it/s]"
     ]
    },
    {
     "name": "stdout",
     "output_type": "stream",
     "text": [
      "Epoch:  20\n",
      "t_loss:  0.4490252844258851 , v_loss:  0.6488259037335714\n",
      "t_acc:  0.6959228135698724 , v_acc:  0.6894409937888198\n",
      "t_recall:  0.5010863150382235 , v_recall:  0.5\n",
      "t_prec:  0.6480361596009975 , v_prec:  0.3447204968944099\n",
      "t_f:  0.41330358142435736 , v_f:  0.4080882352941176\n",
      "////////\n"
     ]
    },
    {
     "name": "stderr",
     "output_type": "stream",
     "text": [
      "\r",
      "Iterations:   7%|██▍                               | 22/300 [00:21<03:57,  1.17it/s]"
     ]
    },
    {
     "name": "stdout",
     "output_type": "stream",
     "text": [
      "Epoch  21 , loss 0.45568378766377765\n",
      "Epoch  22 , loss 0.44858158335966225\n"
     ]
    },
    {
     "name": "stderr",
     "output_type": "stream",
     "text": [
      "\r",
      "Iterations:   8%|██▌                               | 23/300 [00:22<04:19,  1.07it/s]"
     ]
    },
    {
     "name": "stdout",
     "output_type": "stream",
     "text": [
      "Epoch:  22\n",
      "t_loss:  0.44858158335966225 , v_loss:  0.6491929690043131\n",
      "t_acc:  0.6956115779645191 , v_acc:  0.6894409937888198\n",
      "t_recall:  0.5002875337972303 , v_recall:  0.5\n",
      "t_prec:  0.5978667081905948 , v_prec:  0.3447204968944099\n",
      "t_f:  0.4112297361103825 , v_f:  0.4080882352941176\n",
      "////////\n"
     ]
    },
    {
     "name": "stderr",
     "output_type": "stream",
     "text": [
      "\r",
      "Iterations:   8%|██▋                               | 24/300 [00:23<03:57,  1.16it/s]"
     ]
    },
    {
     "name": "stdout",
     "output_type": "stream",
     "text": [
      "Epoch  23 , loss 0.45004382495786627\n",
      "Epoch  24 , loss 0.450683393314773\n"
     ]
    },
    {
     "name": "stderr",
     "output_type": "stream",
     "text": [
      "\r",
      "Iterations:   8%|██▊                               | 25/300 [00:24<04:14,  1.08it/s]"
     ]
    },
    {
     "name": "stdout",
     "output_type": "stream",
     "text": [
      "Epoch:  24\n",
      "t_loss:  0.450683393314773 , v_loss:  0.6498973270257314\n",
      "t_acc:  0.6968565203859322 , v_acc:  0.6894409937888198\n",
      "t_recall:  0.5023325235722814 , v_recall:  0.5\n",
      "t_prec:  0.7649672591206735 , v_prec:  0.3447204968944099\n",
      "t_f:  0.4155921424153602 , v_f:  0.4080882352941176\n",
      "////////\n"
     ]
    },
    {
     "name": "stderr",
     "output_type": "stream",
     "text": [
      "\r",
      "Iterations:   9%|██▉                               | 26/300 [00:25<03:51,  1.18it/s]"
     ]
    },
    {
     "name": "stdout",
     "output_type": "stream",
     "text": [
      "Epoch  25 , loss 0.4511674741903941\n",
      "Epoch  26 , loss 0.44770796859965606\n"
     ]
    },
    {
     "name": "stderr",
     "output_type": "stream",
     "text": [
      "\r",
      "Iterations:   9%|███                               | 27/300 [00:26<04:11,  1.09it/s]"
     ]
    },
    {
     "name": "stdout",
     "output_type": "stream",
     "text": [
      "Epoch:  26\n",
      "t_loss:  0.44770796859965606 , v_loss:  0.6485559443632761\n",
      "t_acc:  0.6965452847805789 , v_acc:  0.6894409937888198\n",
      "t_recall:  0.5018212761285187 , v_recall:  0.5\n",
      "t_prec:  0.7481920199501246 , v_prec:  0.3447204968944099\n",
      "t_f:  0.4145045976343382 , v_f:  0.4080882352941176\n",
      "////////\n"
     ]
    },
    {
     "name": "stderr",
     "output_type": "stream",
     "text": [
      "\r",
      "Iterations:   9%|███▏                              | 28/300 [00:26<03:48,  1.19it/s]"
     ]
    },
    {
     "name": "stdout",
     "output_type": "stream",
     "text": [
      "Epoch  27 , loss 0.4450520393895168\n",
      "Epoch  28 , loss 0.452758110037037\n"
     ]
    },
    {
     "name": "stderr",
     "output_type": "stream",
     "text": [
      "\r",
      "Iterations:  10%|███▎                              | 29/300 [00:28<04:08,  1.09it/s]"
     ]
    },
    {
     "name": "stdout",
     "output_type": "stream",
     "text": [
      "Epoch:  28\n",
      "t_loss:  0.452758110037037 , v_loss:  0.6480829815069834\n",
      "t_acc:  0.6953003423591659 , v_acc:  0.6894409937888198\n",
      "t_recall:  0.5006388877451586 , v_recall:  0.5\n",
      "t_prec:  0.5622270742358079 , v_prec:  0.3447204968944099\n",
      "t_f:  0.41308060533064894 , v_f:  0.4080882352941176\n",
      "////////\n"
     ]
    },
    {
     "name": "stderr",
     "output_type": "stream",
     "text": [
      "\r",
      "Iterations:  10%|███▍                              | 30/300 [00:28<03:48,  1.18it/s]"
     ]
    },
    {
     "name": "stdout",
     "output_type": "stream",
     "text": [
      "Epoch  29 , loss 0.4457463505221348\n",
      "Epoch  30 , loss 0.44214867961172966\n"
     ]
    },
    {
     "name": "stderr",
     "output_type": "stream",
     "text": [
      "\r",
      "Iterations:  10%|███▌                              | 31/300 [00:29<04:05,  1.10it/s]"
     ]
    },
    {
     "name": "stdout",
     "output_type": "stream",
     "text": [
      "Epoch:  30\n",
      "t_loss:  0.44214867961172966 , v_loss:  0.6443356573581696\n",
      "t_acc:  0.6953003423591659 , v_acc:  0.6894409937888198\n",
      "t_recall:  0.500063820150698 , v_recall:  0.5\n",
      "t_prec:  0.5144859813084112 , v_prec:  0.3447204968944099\n",
      "t_f:  0.4111203780928551 , v_f:  0.4080882352941176\n",
      "////////\n"
     ]
    },
    {
     "name": "stderr",
     "output_type": "stream",
     "text": [
      "\r",
      "Iterations:  11%|███▋                              | 32/300 [00:30<03:45,  1.19it/s]"
     ]
    },
    {
     "name": "stdout",
     "output_type": "stream",
     "text": [
      "Epoch  31 , loss 0.4544230302174886\n",
      "Epoch  32 , loss 0.44665172696113586\n"
     ]
    },
    {
     "name": "stderr",
     "output_type": "stream",
     "text": [
      "\r",
      "Iterations:  11%|███▋                              | 33/300 [00:31<04:04,  1.09it/s]"
     ]
    },
    {
     "name": "stdout",
     "output_type": "stream",
     "text": [
      "Epoch:  32\n",
      "t_loss:  0.44665172696113586 , v_loss:  0.6418910721937815\n",
      "t_acc:  0.6956115779645191 , v_acc:  0.6894409937888198\n",
      "t_recall:  0.5005750675944607 , v_recall:  0.5\n",
      "t_prec:  0.5979277033343721 , v_prec:  0.3447204968944099\n",
      "t_f:  0.4122130008035903 , v_f:  0.4080882352941176\n",
      "////////\n"
     ]
    },
    {
     "name": "stderr",
     "output_type": "stream",
     "text": [
      "\r",
      "Iterations:  11%|███▊                              | 34/300 [00:32<03:42,  1.19it/s]"
     ]
    },
    {
     "name": "stdout",
     "output_type": "stream",
     "text": [
      "Epoch  33 , loss 0.44265557796347377\n",
      "Epoch  34 , loss 0.4406234762247871\n"
     ]
    },
    {
     "name": "stderr",
     "output_type": "stream",
     "text": [
      "\r",
      "Iterations:  12%|███▉                              | 35/300 [00:33<04:02,  1.09it/s]"
     ]
    },
    {
     "name": "stdout",
     "output_type": "stream",
     "text": [
      "Epoch:  34\n",
      "t_loss:  0.4406234762247871 , v_loss:  0.6390695571899414\n",
      "t_acc:  0.6962340491752257 , v_acc:  0.6894409937888198\n",
      "t_recall:  0.5010224948875256 , v_recall:  0.5\n",
      "t_prec:  0.8480224229212083 , v_prec:  0.3447204968944099\n",
      "t_f:  0.4124337652798909 , v_f:  0.4080882352941176\n",
      "////////\n"
     ]
    },
    {
     "name": "stderr",
     "output_type": "stream",
     "text": [
      "\r",
      "Iterations:  12%|████                              | 36/300 [00:34<03:45,  1.17it/s]"
     ]
    },
    {
     "name": "stdout",
     "output_type": "stream",
     "text": [
      "Epoch  35 , loss 0.4365406188310361\n",
      "Epoch  36 , loss 0.436318730022393\n"
     ]
    },
    {
     "name": "stderr",
     "output_type": "stream",
     "text": [
      "\r",
      "Iterations:  12%|████▏                             | 37/300 [00:35<04:02,  1.08it/s]"
     ]
    },
    {
     "name": "stdout",
     "output_type": "stream",
     "text": [
      "Epoch:  36\n",
      "t_loss:  0.436318730022393 , v_loss:  0.6351202428340912\n",
      "t_acc:  0.6956115779645191 , v_acc:  0.6894409937888198\n",
      "t_recall:  0.5005750675944607 , v_recall:  0.5\n",
      "t_prec:  0.5979277033343721 , v_prec:  0.3447204968944099\n",
      "t_f:  0.4122130008035903 , v_f:  0.4080882352941176\n",
      "////////\n"
     ]
    },
    {
     "name": "stderr",
     "output_type": "stream",
     "text": [
      "\r",
      "Iterations:  13%|████▎                             | 38/300 [00:35<03:43,  1.17it/s]"
     ]
    },
    {
     "name": "stdout",
     "output_type": "stream",
     "text": [
      "Epoch  37 , loss 0.4387618075398838\n",
      "Epoch  38 , loss 0.44017333201333586\n"
     ]
    },
    {
     "name": "stderr",
     "output_type": "stream",
     "text": [
      "\r",
      "Iterations:  13%|████▍                             | 39/300 [00:36<04:00,  1.09it/s]"
     ]
    },
    {
     "name": "stdout",
     "output_type": "stream",
     "text": [
      "Epoch:  38\n",
      "t_loss:  0.44017333201333586 , v_loss:  0.6288003822167715\n",
      "t_acc:  0.6937441643323996 , v_acc:  0.6894409937888198\n",
      "t_recall:  0.49894525191803574 , v_recall:  0.5\n",
      "t_prec:  0.41008190327613103 , v_prec:  0.3447204968944099\n",
      "t_f:  0.4105730223123732 , v_f:  0.4080882352941176\n",
      "////////\n"
     ]
    },
    {
     "name": "stderr",
     "output_type": "stream",
     "text": [
      "\r",
      "Iterations:  13%|████▌                             | 40/300 [00:37<03:39,  1.18it/s]"
     ]
    },
    {
     "name": "stdout",
     "output_type": "stream",
     "text": [
      "Epoch  39 , loss 0.43440857704947977\n",
      "Epoch  40 , loss 0.44123943296133306\n"
     ]
    },
    {
     "name": "stderr",
     "output_type": "stream",
     "text": [
      "\r",
      "Iterations:  14%|████▋                             | 41/300 [00:38<03:59,  1.08it/s]"
     ]
    },
    {
     "name": "stdout",
     "output_type": "stream",
     "text": [
      "Epoch:  40\n",
      "t_loss:  0.44123943296133306 , v_loss:  0.6240525643030802\n",
      "t_acc:  0.6956115779645191 , v_acc:  0.6894409937888198\n",
      "t_recall:  0.5011501351889214 , v_recall:  0.5\n",
      "t_prec:  0.5980499219968799 , v_prec:  0.3447204968944099\n",
      "t_f:  0.41416708924949286 , v_f:  0.4080882352941176\n",
      "////////\n"
     ]
    },
    {
     "name": "stderr",
     "output_type": "stream",
     "text": [
      "\r",
      "Iterations:  14%|████▊                             | 42/300 [00:39<03:40,  1.17it/s]"
     ]
    },
    {
     "name": "stdout",
     "output_type": "stream",
     "text": [
      "Epoch  41 , loss 0.4402764042218526\n",
      "Epoch  42 , loss 0.4385133742117414\n"
     ]
    },
    {
     "name": "stderr",
     "output_type": "stream",
     "text": [
      "\r",
      "Iterations:  14%|████▊                             | 43/300 [00:40<03:59,  1.08it/s]"
     ]
    },
    {
     "name": "stdout",
     "output_type": "stream",
     "text": [
      "Epoch:  42\n",
      "t_loss:  0.4385133742117414 , v_loss:  0.6179363131523132\n",
      "t_acc:  0.6959228135698724 , v_acc:  0.6894409937888198\n",
      "t_recall:  0.5016613826326841 , v_recall:  0.5\n",
      "t_prec:  0.6259363295880149 , v_prec:  0.3447204968944099\n",
      "t_f:  0.41525155202966746 , v_f:  0.4080882352941176\n",
      "////////\n"
     ]
    },
    {
     "name": "stderr",
     "output_type": "stream",
     "text": [
      "\r",
      "Iterations:  15%|████▉                             | 44/300 [00:41<03:38,  1.17it/s]"
     ]
    },
    {
     "name": "stdout",
     "output_type": "stream",
     "text": [
      "Epoch  43 , loss 0.4401756151049745\n",
      "Epoch  44 , loss 0.43752626636449027\n"
     ]
    },
    {
     "name": "stderr",
     "output_type": "stream",
     "text": [
      "\r",
      "Iterations:  15%|█████                             | 45/300 [00:42<03:53,  1.09it/s]"
     ]
    },
    {
     "name": "stdout",
     "output_type": "stream",
     "text": [
      "Epoch:  44\n",
      "t_loss:  0.43752626636449027 , v_loss:  0.6140772799650828\n",
      "t_acc:  0.6962340491752257 , v_acc:  0.6894409937888198\n",
      "t_recall:  0.502172630076447 , v_recall:  0.5\n",
      "t_prec:  0.6482672494536372 , v_prec:  0.3447204968944099\n",
      "t_f:  0.4163339999076822 , v_f:  0.4080882352941176\n",
      "////////\n"
     ]
    },
    {
     "name": "stderr",
     "output_type": "stream",
     "text": [
      "\r",
      "Iterations:  15%|█████▏                            | 46/300 [00:42<03:32,  1.19it/s]"
     ]
    },
    {
     "name": "stdout",
     "output_type": "stream",
     "text": [
      "Epoch  45 , loss 0.4391352773881426\n",
      "Epoch  46 , loss 0.4362361320093566\n"
     ]
    },
    {
     "name": "stderr",
     "output_type": "stream",
     "text": [
      "\r",
      "Iterations:  16%|█████▎                            | 47/300 [00:43<03:49,  1.10it/s]"
     ]
    },
    {
     "name": "stdout",
     "output_type": "stream",
     "text": [
      "Epoch:  46\n",
      "t_loss:  0.4362361320093566 , v_loss:  0.6090176006158193\n",
      "t_acc:  0.6953003423591659 , v_acc:  0.6894409937888198\n",
      "t_recall:  0.5006388877451586 , v_recall:  0.5\n",
      "t_prec:  0.5622270742358079 , v_prec:  0.3447204968944099\n",
      "t_f:  0.41308060533064894 , v_f:  0.4080882352941176\n",
      "////////\n"
     ]
    },
    {
     "name": "stderr",
     "output_type": "stream",
     "text": [
      "\r",
      "Iterations:  16%|█████▍                            | 48/300 [00:44<03:33,  1.18it/s]"
     ]
    },
    {
     "name": "stdout",
     "output_type": "stream",
     "text": [
      "Epoch  47 , loss 0.4357724137165967\n",
      "Epoch  48 , loss 0.4351295028247085\n"
     ]
    },
    {
     "name": "stderr",
     "output_type": "stream",
     "text": [
      "\r",
      "Iterations:  16%|█████▌                            | 49/300 [00:45<03:49,  1.09it/s]"
     ]
    },
    {
     "name": "stdout",
     "output_type": "stream",
     "text": [
      "Epoch:  48\n",
      "t_loss:  0.4351295028247085 , v_loss:  0.6014739175637563\n",
      "t_acc:  0.6971677559912854 , v_acc:  0.6894409937888198\n",
      "t_recall:  0.5039939062049656 , v_recall:  0.5\n",
      "t_prec:  0.6819887429643527 , v_prec:  0.3447204968944099\n",
      "t_f:  0.42052512257253005 , v_f:  0.4080882352941176\n",
      "////////\n"
     ]
    },
    {
     "name": "stderr",
     "output_type": "stream",
     "text": [
      "\r",
      "Iterations:  17%|█████▋                            | 50/300 [00:46<03:31,  1.18it/s]"
     ]
    },
    {
     "name": "stdout",
     "output_type": "stream",
     "text": [
      "Epoch  49 , loss 0.43847325327349645\n",
      "Epoch  50 , loss 0.43737635951416165\n"
     ]
    },
    {
     "name": "stderr",
     "output_type": "stream",
     "text": [
      "\r",
      "Iterations:  17%|█████▊                            | 51/300 [00:47<03:45,  1.10it/s]"
     ]
    },
    {
     "name": "stdout",
     "output_type": "stream",
     "text": [
      "Epoch:  50\n",
      "t_loss:  0.43737635951416165 , v_loss:  0.5960609118143717\n",
      "t_acc:  0.6956115779645191 , v_acc:  0.6894409937888198\n",
      "t_recall:  0.5023002703778428 , v_recall:  0.5\n",
      "t_prec:  0.5982952768220207 , v_prec:  0.3447204968944099\n",
      "t_f:  0.4180261984276795 , v_f:  0.4080882352941176\n",
      "////////\n"
     ]
    },
    {
     "name": "stderr",
     "output_type": "stream",
     "text": [
      "\r",
      "Iterations:  17%|█████▉                            | 52/300 [00:48<03:26,  1.20it/s]"
     ]
    },
    {
     "name": "stdout",
     "output_type": "stream",
     "text": [
      "Epoch  51 , loss 0.4401395373484668\n",
      "Epoch  52 , loss 0.43147320782437043\n"
     ]
    },
    {
     "name": "stderr",
     "output_type": "stream",
     "text": [
      "\r",
      "Iterations:  18%|██████                            | 53/300 [00:49<03:45,  1.09it/s]"
     ]
    },
    {
     "name": "stdout",
     "output_type": "stream",
     "text": [
      "Epoch:  52\n",
      "t_loss:  0.43147320782437043 , v_loss:  0.5896582504113516\n",
      "t_acc:  0.6977902272019919 , v_acc:  0.6956521739130435\n",
      "t_recall:  0.5044413334980306 , v_recall:  0.51\n",
      "t_prec:  0.7333653846153847 , v_prec:  0.846875\n",
      "t_f:  0.4207623904932804 , v_f:  0.42920193907821425\n",
      "////////\n"
     ]
    },
    {
     "name": "stderr",
     "output_type": "stream",
     "text": [
      "\r",
      "Iterations:  18%|██████                            | 54/300 [00:49<03:28,  1.18it/s]"
     ]
    },
    {
     "name": "stdout",
     "output_type": "stream",
     "text": [
      "Epoch  53 , loss 0.4376702618365194\n",
      "Epoch  54 , loss 0.43128014078327254\n"
     ]
    },
    {
     "name": "stderr",
     "output_type": "stream",
     "text": [
      "\r",
      "Iterations:  18%|██████▏                           | 55/300 [00:51<03:47,  1.08it/s]"
     ]
    },
    {
     "name": "stdout",
     "output_type": "stream",
     "text": [
      "Epoch:  54\n",
      "t_loss:  0.43128014078327254 , v_loss:  0.5854803969462713\n",
      "t_acc:  0.6953003423591659 , v_acc:  0.7018633540372671\n",
      "t_recall:  0.5015014891368497 , v_recall:  0.52\n",
      "t_prec:  0.5788942307692309 , v_prec:  0.8490566037735849\n",
      "t_f:  0.4159900929896205 , v_f:  0.44957264957264953\n",
      "////////\n"
     ]
    },
    {
     "name": "stderr",
     "output_type": "stream",
     "text": [
      "\r",
      "Iterations:  19%|██████▎                           | 56/300 [00:51<03:30,  1.16it/s]"
     ]
    },
    {
     "name": "stdout",
     "output_type": "stream",
     "text": [
      "Epoch  55 , loss 0.42802322378345564\n",
      "Epoch  56 , loss 0.4287338747697718\n"
     ]
    },
    {
     "name": "stderr",
     "output_type": "stream",
     "text": [
      "\r",
      "Iterations:  19%|██████▍                           | 57/300 [00:52<03:46,  1.07it/s]"
     ]
    },
    {
     "name": "stdout",
     "output_type": "stream",
     "text": [
      "Epoch:  56\n",
      "t_loss:  0.4287338747697718 , v_loss:  0.5806037137905756\n",
      "t_acc:  0.6962340491752257 , v_acc:  0.7018633540372671\n",
      "t_recall:  0.5027476976709077 , v_recall:  0.52\n",
      "t_prec:  0.6341044076273835 , v_prec:  0.8490566037735849\n",
      "t_f:  0.41825958421883713 , v_f:  0.44957264957264953\n",
      "////////\n"
     ]
    },
    {
     "name": "stderr",
     "output_type": "stream",
     "text": [
      "\r",
      "Iterations:  19%|██████▌                           | 58/300 [00:53<03:26,  1.17it/s]"
     ]
    },
    {
     "name": "stdout",
     "output_type": "stream",
     "text": [
      "Epoch  57 , loss 0.43469811362378735\n",
      "Epoch  58 , loss 0.436522967675153\n"
     ]
    },
    {
     "name": "stderr",
     "output_type": "stream",
     "text": [
      "\r",
      "Iterations:  20%|██████▋                           | 59/300 [00:54<03:44,  1.08it/s]"
     ]
    },
    {
     "name": "stdout",
     "output_type": "stream",
     "text": [
      "Epoch:  58\n",
      "t_loss:  0.436522967675153 , v_loss:  0.5777574777603149\n",
      "t_acc:  0.6987239340180517 , v_acc:  0.7080745341614907\n",
      "t_recall:  0.5062626096265492 , v_recall:  0.53\n",
      "t_prec:  0.7380281690140845 , v_prec:  0.8512658227848101\n",
      "t_f:  0.4249217865938894 , v_f:  0.4692431787893666\n",
      "////////\n"
     ]
    },
    {
     "name": "stderr",
     "output_type": "stream",
     "text": [
      "\r",
      "Iterations:  20%|██████▊                           | 60/300 [00:55<03:25,  1.17it/s]"
     ]
    },
    {
     "name": "stdout",
     "output_type": "stream",
     "text": [
      "Epoch  59 , loss 0.428079052883036\n",
      "Epoch  60 , loss 0.4327516292824465\n"
     ]
    },
    {
     "name": "stderr",
     "output_type": "stream",
     "text": [
      "\r",
      "Iterations:  20%|██████▉                           | 61/300 [00:56<03:40,  1.08it/s]"
     ]
    },
    {
     "name": "stdout",
     "output_type": "stream",
     "text": [
      "Epoch:  60\n",
      "t_loss:  0.4327516292824465 , v_loss:  0.575136254231135\n",
      "t_acc:  0.7005913476501712 , v_acc:  0.7142857142857143\n",
      "t_recall:  0.5093300942891259 , v_recall:  0.54\n",
      "t_prec:  0.7664628410159925 , v_prec:  0.8535031847133758\n",
      "t_f:  0.43128013883736954 , v_f:  0.488253178551686\n",
      "////////\n"
     ]
    },
    {
     "name": "stderr",
     "output_type": "stream",
     "text": [
      "\r",
      "Iterations:  21%|███████                           | 62/300 [00:57<03:23,  1.17it/s]"
     ]
    },
    {
     "name": "stdout",
     "output_type": "stream",
     "text": [
      "Epoch  61 , loss 0.4274216738401675\n",
      "Epoch  62 , loss 0.43740102707170975\n"
     ]
    },
    {
     "name": "stderr",
     "output_type": "stream",
     "text": [
      "\r",
      "Iterations:  21%|███████▏                          | 63/300 [00:58<03:37,  1.09it/s]"
     ]
    },
    {
     "name": "stdout",
     "output_type": "stream",
     "text": [
      "Epoch:  62\n",
      "t_loss:  0.43740102707170975 , v_loss:  0.5707090348005295\n",
      "t_acc:  0.6971677559912854 , v_acc:  0.7142857142857143\n",
      "t_recall:  0.5037063724077353 , v_recall:  0.54\n",
      "t_prec:  0.6947475961538461 , v_prec:  0.8535031847133758\n",
      "t_f:  0.4195693161173654 , v_f:  0.488253178551686\n",
      "////////\n"
     ]
    },
    {
     "name": "stderr",
     "output_type": "stream",
     "text": [
      "\r",
      "Iterations:  21%|███████▎                          | 64/300 [00:58<03:18,  1.19it/s]"
     ]
    },
    {
     "name": "stdout",
     "output_type": "stream",
     "text": [
      "Epoch  63 , loss 0.430281854727689\n",
      "Epoch  64 , loss 0.4282527326368818\n"
     ]
    },
    {
     "name": "stderr",
     "output_type": "stream",
     "text": [
      "\r",
      "Iterations:  22%|███████▎                          | 65/300 [00:59<03:33,  1.10it/s]"
     ]
    },
    {
     "name": "stdout",
     "output_type": "stream",
     "text": [
      "Epoch:  64\n",
      "t_loss:  0.4282527326368818 , v_loss:  0.5673662175734838\n",
      "t_acc:  0.6968565203859322 , v_acc:  0.7267080745341615\n",
      "t_recall:  0.5043452601528938 , v_recall:  0.56\n",
      "t_prec:  0.6487316003758221 , v_prec:  0.8580645161290323\n",
      "t_f:  0.4223040775729794 , v_f:  0.5244360902255639\n",
      "////////\n"
     ]
    },
    {
     "name": "stderr",
     "output_type": "stream",
     "text": [
      "\r",
      "Iterations:  22%|███████▍                          | 66/300 [01:00<03:17,  1.18it/s]"
     ]
    },
    {
     "name": "stdout",
     "output_type": "stream",
     "text": [
      "Epoch  65 , loss 0.426373409874299\n",
      "Epoch  66 , loss 0.4280811875474219\n"
     ]
    },
    {
     "name": "stderr",
     "output_type": "stream",
     "text": [
      "\r",
      "Iterations:  22%|███████▌                          | 67/300 [01:01<03:31,  1.10it/s]"
     ]
    },
    {
     "name": "stdout",
     "output_type": "stream",
     "text": [
      "Epoch:  66\n",
      "t_loss:  0.4280811875474219 , v_loss:  0.5669583082199097\n",
      "t_acc:  0.6968565203859322 , v_acc:  0.7267080745341615\n",
      "t_recall:  0.5037701925584332 , v_recall:  0.56\n",
      "t_prec:  0.6611080700656866 , v_prec:  0.8580645161290323\n",
      "t_f:  0.42040645937480553 , v_f:  0.5244360902255639\n",
      "////////\n"
     ]
    },
    {
     "name": "stderr",
     "output_type": "stream",
     "text": [
      "\r",
      "Iterations:  23%|███████▋                          | 68/300 [01:02<03:16,  1.18it/s]"
     ]
    },
    {
     "name": "stdout",
     "output_type": "stream",
     "text": [
      "Epoch  67 , loss 0.4235365858264998\n",
      "Epoch  68 , loss 0.4306044233780281\n"
     ]
    },
    {
     "name": "stderr",
     "output_type": "stream",
     "text": [
      "\r",
      "Iterations:  23%|███████▊                          | 69/300 [01:03<03:31,  1.09it/s]"
     ]
    },
    {
     "name": "stdout",
     "output_type": "stream",
     "text": [
      "Epoch:  68\n",
      "t_loss:  0.4306044233780281 , v_loss:  0.5648988833030065\n",
      "t_acc:  0.6984126984126984 , v_acc:  0.7267080745341615\n",
      "t_recall:  0.5069014973717078 , v_recall:  0.56\n",
      "t_prec:  0.6892785445420326 , v_prec:  0.8580645161290323\n",
      "t_f:  0.42760745975240416 , v_f:  0.5244360902255639\n",
      "////////\n"
     ]
    },
    {
     "name": "stderr",
     "output_type": "stream",
     "text": [
      "\r",
      "Iterations:  23%|███████▉                          | 70/300 [01:04<03:12,  1.19it/s]"
     ]
    },
    {
     "name": "stdout",
     "output_type": "stream",
     "text": [
      "Epoch  69 , loss 0.4304141542490791\n",
      "Epoch  70 , loss 0.42524341975941377\n"
     ]
    },
    {
     "name": "stderr",
     "output_type": "stream",
     "text": [
      "\r",
      "Iterations:  24%|████████                          | 71/300 [01:05<03:30,  1.09it/s]"
     ]
    },
    {
     "name": "stdout",
     "output_type": "stream",
     "text": [
      "Epoch:  70\n",
      "t_loss:  0.42524341975941377 , v_loss:  0.5628292212883631\n",
      "t_acc:  0.6993464052287581 , v_acc:  0.7267080745341615\n",
      "t_recall:  0.5092978410946871 , v_recall:  0.56\n",
      "t_prec:  0.6880308273041837 , v_prec:  0.8580645161290323\n",
      "t_f:  0.43351412163750547 , v_f:  0.5244360902255639\n",
      "////////\n"
     ]
    },
    {
     "name": "stderr",
     "output_type": "stream",
     "text": [
      "\r",
      "Iterations:  24%|████████▏                         | 72/300 [01:05<03:12,  1.18it/s]"
     ]
    },
    {
     "name": "stdout",
     "output_type": "stream",
     "text": [
      "Epoch  71 , loss 0.43064167628101274\n",
      "Epoch  72 , loss 0.4267219451128268\n"
     ]
    },
    {
     "name": "stderr",
     "output_type": "stream",
     "text": [
      "\r",
      "Iterations:  24%|████████▎                         | 73/300 [01:06<03:27,  1.09it/s]"
     ]
    },
    {
     "name": "stdout",
     "output_type": "stream",
     "text": [
      "Epoch:  72\n",
      "t_loss:  0.4267219451128268 , v_loss:  0.5592230757077535\n",
      "t_acc:  0.6999688764394647 , v_acc:  0.7267080745341615\n",
      "t_recall:  0.5100328021849824 , v_recall:  0.56\n",
      "t_prec:  0.7028939918213275 , v_prec:  0.8580645161290323\n",
      "t_f:  0.4346869702469517 , v_f:  0.5244360902255639\n",
      "////////\n"
     ]
    },
    {
     "name": "stderr",
     "output_type": "stream",
     "text": [
      "\r",
      "Iterations:  25%|████████▍                         | 74/300 [01:07<03:11,  1.18it/s]"
     ]
    },
    {
     "name": "stdout",
     "output_type": "stream",
     "text": [
      "Epoch  73 , loss 0.4256864166727253\n",
      "Epoch  74 , loss 0.4244389943048066\n"
     ]
    },
    {
     "name": "stderr",
     "output_type": "stream",
     "text": [
      "\r",
      "Iterations:  25%|████████▌                         | 75/300 [01:08<03:26,  1.09it/s]"
     ]
    },
    {
     "name": "stdout",
     "output_type": "stream",
     "text": [
      "Epoch:  74\n",
      "t_loss:  0.4244389943048066 , v_loss:  0.5568147997061411\n",
      "t_acc:  0.6996576408341114 , v_acc:  0.7267080745341615\n",
      "t_recall:  0.5095215547412196 , v_recall:  0.56\n",
      "t_prec:  0.698327615780446 , v_prec:  0.8580645161290323\n",
      "t_f:  0.43364541292321857 , v_f:  0.5244360902255639\n",
      "////////\n"
     ]
    },
    {
     "name": "stderr",
     "output_type": "stream",
     "text": [
      "\r",
      "Iterations:  25%|████████▌                         | 76/300 [01:09<03:08,  1.19it/s]"
     ]
    },
    {
     "name": "stdout",
     "output_type": "stream",
     "text": [
      "Epoch  75 , loss 0.4261351362162945\n",
      "Epoch  76 , loss 0.43423813581466675\n"
     ]
    },
    {
     "name": "stderr",
     "output_type": "stream",
     "text": [
      "\r",
      "Iterations:  26%|████████▋                         | 77/300 [01:10<03:25,  1.09it/s]"
     ]
    },
    {
     "name": "stdout",
     "output_type": "stream",
     "text": [
      "Epoch:  76\n",
      "t_loss:  0.43423813581466675 , v_loss:  0.5539284398158392\n",
      "t_acc:  0.6996576408341114 , v_acc:  0.7267080745341615\n",
      "t_recall:  0.5089464871467589 , v_recall:  0.56\n",
      "t_prec:  0.7117863022006585 , v_prec:  0.8580645161290323\n",
      "t_f:  0.4318154538455943 , v_f:  0.5244360902255639\n",
      "////////\n"
     ]
    },
    {
     "name": "stderr",
     "output_type": "stream",
     "text": [
      "\r",
      "Iterations:  26%|████████▊                         | 78/300 [01:11<03:08,  1.18it/s]"
     ]
    },
    {
     "name": "stdout",
     "output_type": "stream",
     "text": [
      "Epoch  77 , loss 0.42328697209264715\n",
      "Epoch  78 , loss 0.42593557811250876\n"
     ]
    },
    {
     "name": "stderr",
     "output_type": "stream",
     "text": [
      "\r",
      "Iterations:  26%|████████▉                         | 79/300 [01:12<03:23,  1.09it/s]"
     ]
    },
    {
     "name": "stdout",
     "output_type": "stream",
     "text": [
      "Epoch:  78\n",
      "t_loss:  0.42593557811250876 , v_loss:  0.5518333315849304\n",
      "t_acc:  0.6993464052287581 , v_acc:  0.7329192546583851\n",
      "t_recall:  0.5084352397029961 , v_recall:  0.5700000000000001\n",
      "t_prec:  0.7067503924646782 , v_prec:  0.8603896103896104\n",
      "t_f:  0.43076632456185404 , v_f:  0.5416749420721615\n",
      "////////\n"
     ]
    },
    {
     "name": "stderr",
     "output_type": "stream",
     "text": [
      "\r",
      "Iterations:  27%|█████████                         | 80/300 [01:12<03:07,  1.18it/s]"
     ]
    },
    {
     "name": "stdout",
     "output_type": "stream",
     "text": [
      "Epoch  79 , loss 0.4254053679167056\n",
      "Epoch  80 , loss 0.42314331028975694\n"
     ]
    },
    {
     "name": "stderr",
     "output_type": "stream",
     "text": [
      "\r",
      "Iterations:  27%|█████████▏                        | 81/300 [01:13<03:20,  1.09it/s]"
     ]
    },
    {
     "name": "stdout",
     "output_type": "stream",
     "text": [
      "Epoch:  80\n",
      "t_loss:  0.42314331028975694 , v_loss:  0.550041601061821\n",
      "t_acc:  0.6987239340180517 , v_acc:  0.7329192546583851\n",
      "t_recall:  0.5082753462071616 , v_recall:  0.5700000000000001\n",
      "t_prec:  0.6777006051556114 , v_prec:  0.8603896103896104\n",
      "t_f:  0.43142723430393265 , v_f:  0.5416749420721615\n",
      "////////\n"
     ]
    },
    {
     "name": "stderr",
     "output_type": "stream",
     "text": [
      "\r",
      "Iterations:  27%|█████████▎                        | 82/300 [01:14<03:02,  1.19it/s]"
     ]
    },
    {
     "name": "stdout",
     "output_type": "stream",
     "text": [
      "Epoch  81 , loss 0.4217384545242085\n",
      "Epoch  82 , loss 0.42527932688301684\n"
     ]
    },
    {
     "name": "stderr",
     "output_type": "stream",
     "text": [
      "\r",
      "Iterations:  28%|█████████▍                        | 83/300 [01:15<03:16,  1.10it/s]"
     ]
    },
    {
     "name": "stdout",
     "output_type": "stream",
     "text": [
      "Epoch:  82\n",
      "t_loss:  0.42527932688301684 , v_loss:  0.5468988368908564\n",
      "t_acc:  0.6996576408341114 , v_acc:  0.7453416149068323\n",
      "t_recall:  0.5112467575246016 , v_recall:  0.59\n",
      "t_prec:  0.6724431818181819 , v_prec:  0.8651315789473684\n",
      "t_f:  0.4390457565933556 , v_f:  0.5745956048205194\n",
      "////////\n"
     ]
    },
    {
     "name": "stderr",
     "output_type": "stream",
     "text": [
      "\r",
      "Iterations:  28%|█████████▌                        | 84/300 [01:16<03:01,  1.19it/s]"
     ]
    },
    {
     "name": "stdout",
     "output_type": "stream",
     "text": [
      "Epoch  83 , loss 0.41989877761579025\n",
      "Epoch  84 , loss 0.4302042074063245\n"
     ]
    },
    {
     "name": "stderr",
     "output_type": "stream",
     "text": [
      "\r",
      "Iterations:  28%|█████████▋                        | 85/300 [01:17<03:15,  1.10it/s]"
     ]
    },
    {
     "name": "stdout",
     "output_type": "stream",
     "text": [
      "Epoch:  84\n",
      "t_loss:  0.4302042074063245 , v_loss:  0.5460633933544159\n",
      "t_acc:  0.7018362900715842 , v_acc:  0.7453416149068323\n",
      "t_recall:  0.513100286847559 , v_recall:  0.59\n",
      "t_prec:  0.7256145603529782 , v_prec:  0.8651315789473684\n",
      "t_f:  0.44089706292649467 , v_f:  0.5745956048205194\n",
      "////////\n"
     ]
    },
    {
     "name": "stderr",
     "output_type": "stream",
     "text": [
      "\r",
      "Iterations:  29%|█████████▋                        | 86/300 [01:18<03:00,  1.19it/s]"
     ]
    },
    {
     "name": "stdout",
     "output_type": "stream",
     "text": [
      "Epoch  85 , loss 0.42395715152516084\n",
      "Epoch  86 , loss 0.42021044621280595\n"
     ]
    },
    {
     "name": "stderr",
     "output_type": "stream",
     "text": [
      "\r",
      "Iterations:  29%|█████████▊                        | 87/300 [01:19<03:15,  1.09it/s]"
     ]
    },
    {
     "name": "stdout",
     "output_type": "stream",
     "text": [
      "Epoch:  86\n",
      "t_loss:  0.42021044621280595 , v_loss:  0.5465086946884791\n",
      "t_acc:  0.7037037037037037 , v_acc:  0.7577639751552795\n",
      "t_recall:  0.5178929742935178 , v_recall:  0.61\n",
      "t_prec:  0.7137329908738183 , v_prec:  0.87\n",
      "t_f:  0.45222885222885223 , v_f:  0.6056152251742981\n",
      "////////\n"
     ]
    },
    {
     "name": "stderr",
     "output_type": "stream",
     "text": [
      "\r",
      "Iterations:  29%|█████████▉                        | 88/300 [01:19<02:59,  1.18it/s]"
     ]
    },
    {
     "name": "stdout",
     "output_type": "stream",
     "text": [
      "Epoch  87 , loss 0.42765456145884945\n",
      "Epoch  88 , loss 0.4211302271076277\n"
     ]
    },
    {
     "name": "stderr",
     "output_type": "stream",
     "text": [
      "\r",
      "Iterations:  30%|██████████                        | 89/300 [01:20<03:12,  1.10it/s]"
     ]
    },
    {
     "name": "stdout",
     "output_type": "stream",
     "text": [
      "Epoch:  88\n",
      "t_loss:  0.4211302271076277 , v_loss:  0.5460988432168961\n",
      "t_acc:  0.6993464052287581 , v_acc:  0.7515527950310559\n",
      "t_recall:  0.5090103072974568 , v_recall:  0.6\n",
      "t_prec:  0.6934827884313108 , v_prec:  0.8675496688741722\n",
      "t_f:  0.4326019714231394 , v_f:  0.5903307888040712\n",
      "////////\n"
     ]
    },
    {
     "name": "stderr",
     "output_type": "stream",
     "text": [
      "\r",
      "Iterations:  30%|██████████▏                       | 90/300 [01:21<02:56,  1.19it/s]"
     ]
    },
    {
     "name": "stdout",
     "output_type": "stream",
     "text": [
      "Epoch  89 , loss 0.41985834521405835\n",
      "Epoch  90 , loss 0.4253741905969732\n"
     ]
    },
    {
     "name": "stderr",
     "output_type": "stream",
     "text": [
      "\r",
      "Iterations:  30%|██████████▎                       | 91/300 [01:22<03:11,  1.09it/s]"
     ]
    },
    {
     "name": "stdout",
     "output_type": "stream",
     "text": [
      "Epoch:  90\n",
      "t_loss:  0.4253741905969732 , v_loss:  0.5438966900110245\n",
      "t_acc:  0.7009025832555245 , v_acc:  0.7577639751552795\n",
      "t_recall:  0.5115665445162707 , v_recall:  0.61\n",
      "t_prec:  0.7151482401797263 , v_prec:  0.87\n",
      "t_f:  0.4378003938337614 , v_f:  0.6056152251742981\n",
      "////////\n"
     ]
    },
    {
     "name": "stderr",
     "output_type": "stream",
     "text": [
      "\r",
      "Iterations:  31%|██████████▍                       | 92/300 [01:23<02:56,  1.18it/s]"
     ]
    },
    {
     "name": "stdout",
     "output_type": "stream",
     "text": [
      "Epoch  91 , loss 0.4234815426901275\n",
      "Epoch  92 , loss 0.41833285782851426\n"
     ]
    },
    {
     "name": "stderr",
     "output_type": "stream",
     "text": [
      "\r",
      "Iterations:  31%|██████████▌                       | 93/300 [01:24<03:11,  1.08it/s]"
     ]
    },
    {
     "name": "stdout",
     "output_type": "stream",
     "text": [
      "Epoch:  92\n",
      "t_loss:  0.41833285782851426 , v_loss:  0.5410261005163193\n",
      "t_acc:  0.7015250544662309 , v_acc:  0.7577639751552795\n",
      "t_recall:  0.5125890394037963 , v_recall:  0.6154954954954954\n",
      "t_prec:  0.7222989675730697 , v_prec:  0.8331600831600832\n",
      "t_f:  0.43986669218951696 , v_f:  0.6151866151866152\n",
      "////////\n"
     ]
    },
    {
     "name": "stderr",
     "output_type": "stream",
     "text": [
      "\r",
      "Iterations:  31%|██████████▋                       | 94/300 [01:25<02:54,  1.18it/s]"
     ]
    },
    {
     "name": "stdout",
     "output_type": "stream",
     "text": [
      "Epoch  93 , loss 0.4194690053369485\n",
      "Epoch  94 , loss 0.4224035284098457\n"
     ]
    },
    {
     "name": "stderr",
     "output_type": "stream",
     "text": [
      "\r",
      "Iterations:  32%|██████████▊                       | 95/300 [01:26<03:08,  1.09it/s]"
     ]
    },
    {
     "name": "stdout",
     "output_type": "stream",
     "text": [
      "Epoch:  94\n",
      "t_loss:  0.4224035284098457 , v_loss:  0.5396367212136587\n",
      "t_acc:  0.699035169623405 , v_acc:  0.7577639751552795\n",
      "t_recall:  0.5105117964343064 , v_recall:  0.6154954954954954\n",
      "t_prec:  0.6611742424242424 , v_prec:  0.8331600831600832\n",
      "t_f:  0.4378831571251553 , v_f:  0.6151866151866152\n",
      "////////\n"
     ]
    },
    {
     "name": "stderr",
     "output_type": "stream",
     "text": [
      "\r",
      "Iterations:  32%|██████████▉                       | 96/300 [01:26<02:50,  1.19it/s]"
     ]
    },
    {
     "name": "stdout",
     "output_type": "stream",
     "text": [
      "Epoch  95 , loss 0.41996201639081915\n",
      "Epoch  96 , loss 0.41800715993432436\n"
     ]
    },
    {
     "name": "stderr",
     "output_type": "stream",
     "text": [
      "\r",
      "Iterations:  32%|██████████▉                       | 97/300 [01:28<03:05,  1.10it/s]"
     ]
    },
    {
     "name": "stdout",
     "output_type": "stream",
     "text": [
      "Epoch:  96\n",
      "t_loss:  0.41800715993432436 , v_loss:  0.5361104259888331\n",
      "t_acc:  0.699035169623405 , v_acc:  0.7577639751552795\n",
      "t_recall:  0.5107993302315368 , v_recall:  0.6154954954954954\n",
      "t_prec:  0.6586369806857435 , v_prec:  0.8331600831600832\n",
      "t_f:  0.4387722237526023 , v_f:  0.6151866151866152\n",
      "////////\n"
     ]
    },
    {
     "name": "stderr",
     "output_type": "stream",
     "text": [
      "\r",
      "Iterations:  33%|███████████                       | 98/300 [01:28<02:49,  1.19it/s]"
     ]
    },
    {
     "name": "stdout",
     "output_type": "stream",
     "text": [
      "Epoch  97 , loss 0.4265100190452501\n",
      "Epoch  98 , loss 0.4167786421729069\n"
     ]
    },
    {
     "name": "stderr",
     "output_type": "stream",
     "text": [
      "\r",
      "Iterations:  33%|███████████▏                      | 99/300 [01:29<03:03,  1.09it/s]"
     ]
    },
    {
     "name": "stdout",
     "output_type": "stream",
     "text": [
      "Epoch:  98\n",
      "t_loss:  0.4167786421729069 , v_loss:  0.5358258833487829\n",
      "t_acc:  0.7012138188608776 , v_acc:  0.7639751552795031\n",
      "t_recall:  0.5129403933517245 , v_recall:  0.6254954954954954\n",
      "t_prec:  0.7028565076450846 , v_prec:  0.83843537414966\n",
      "t_f:  0.4415095870131714 , v_f:  0.6294815891472869\n",
      "////////\n"
     ]
    },
    {
     "name": "stderr",
     "output_type": "stream",
     "text": [
      "\r",
      "Iterations:  33%|███████████                      | 100/300 [01:30<02:47,  1.19it/s]"
     ]
    },
    {
     "name": "stdout",
     "output_type": "stream",
     "text": [
      "Epoch  99 , loss 0.42227404666881935\n",
      "Epoch  100 , loss 0.41385432288927193\n"
     ]
    },
    {
     "name": "stderr",
     "output_type": "stream",
     "text": [
      "\r",
      "Iterations:  34%|███████████                      | 101/300 [01:31<03:01,  1.10it/s]"
     ]
    },
    {
     "name": "stdout",
     "output_type": "stream",
     "text": [
      "Epoch:  100\n",
      "t_loss:  0.41385432288927193 , v_loss:  0.5324601034323374\n",
      "t_acc:  0.6993464052287581 , v_acc:  0.7639751552795031\n",
      "t_recall:  0.5101604424863782 , v_recall:  0.6254954954954954\n",
      "t_prec:  0.6749842420422314 , v_prec:  0.83843537414966\n",
      "t_f:  0.43622814487160116 , v_f:  0.6294815891472869\n",
      "////////\n"
     ]
    },
    {
     "name": "stderr",
     "output_type": "stream",
     "text": [
      "\r",
      "Iterations:  34%|███████████▏                     | 102/300 [01:32<02:45,  1.19it/s]"
     ]
    },
    {
     "name": "stdout",
     "output_type": "stream",
     "text": [
      "Epoch  101 , loss 0.42326833979756223\n",
      "Epoch  102 , loss 0.42042718915378346\n"
     ]
    },
    {
     "name": "stderr",
     "output_type": "stream",
     "text": [
      "\r",
      "Iterations:  34%|███████████▎                     | 103/300 [01:33<03:00,  1.09it/s]"
     ]
    },
    {
     "name": "stdout",
     "output_type": "stream",
     "text": [
      "Epoch:  102\n",
      "t_loss:  0.42042718915378346 , v_loss:  0.533102422952652\n",
      "t_acc:  0.7021475256769374 , v_acc:  0.7639751552795031\n",
      "t_recall:  0.5150492032774735 , v_recall:  0.6254954954954954\n",
      "t_prec:  0.7039848197343453 , v_prec:  0.83843537414966\n",
      "t_f:  0.4463250558700412 , v_f:  0.6294815891472869\n",
      "////////\n"
     ]
    },
    {
     "name": "stderr",
     "output_type": "stream",
     "text": [
      "\r",
      "Iterations:  35%|███████████▍                     | 104/300 [01:33<02:46,  1.18it/s]"
     ]
    },
    {
     "name": "stdout",
     "output_type": "stream",
     "text": [
      "Epoch  103 , loss 0.4170326850577897\n",
      "Epoch  104 , loss 0.425831361728556\n"
     ]
    },
    {
     "name": "stderr",
     "output_type": "stream",
     "text": [
      "\r",
      "Iterations:  35%|███████████▌                     | 105/300 [01:35<02:58,  1.09it/s]"
     ]
    },
    {
     "name": "stdout",
     "output_type": "stream",
     "text": [
      "Epoch:  104\n",
      "t_loss:  0.425831361728556 , v_loss:  0.5300701508919398\n",
      "t_acc:  0.6999688764394647 , v_acc:  0.7639751552795031\n",
      "t_recall:  0.5126206063600555 , v_recall:  0.6254954954954954\n",
      "t_prec:  0.6678296790207578 , v_prec:  0.83843537414966\n",
      "t_f:  0.44271340870979586 , v_f:  0.6294815891472869\n",
      "////////\n"
     ]
    },
    {
     "name": "stderr",
     "output_type": "stream",
     "text": [
      "\r",
      "Iterations:  35%|███████████▋                     | 106/300 [01:35<02:42,  1.19it/s]"
     ]
    },
    {
     "name": "stdout",
     "output_type": "stream",
     "text": [
      "Epoch  105 , loss 0.4199885211738886\n",
      "Epoch  106 , loss 0.4198508671685761\n"
     ]
    },
    {
     "name": "stderr",
     "output_type": "stream",
     "text": [
      "\r",
      "Iterations:  36%|███████████▊                     | 107/300 [01:36<02:54,  1.11it/s]"
     ]
    },
    {
     "name": "stdout",
     "output_type": "stream",
     "text": [
      "Epoch:  106\n",
      "t_loss:  0.4198508671685761 , v_loss:  0.5280306190252304\n",
      "t_acc:  0.7021475256769374 , v_acc:  0.7701863354037267\n",
      "t_recall:  0.5147616694802433 , v_recall:  0.6354954954954954\n",
      "t_prec:  0.7081226295828066 , v_prec:  0.84337899543379\n",
      "t_f:  0.4454523205909422 , v_f:  0.64340017958695\n",
      "////////\n"
     ]
    },
    {
     "name": "stderr",
     "output_type": "stream",
     "text": [
      "\r",
      "Iterations:  36%|███████████▉                     | 108/300 [01:37<02:38,  1.21it/s]"
     ]
    },
    {
     "name": "stdout",
     "output_type": "stream",
     "text": [
      "Epoch  107 , loss 0.42306144038836163\n",
      "Epoch  108 , loss 0.4183349375631295\n"
     ]
    },
    {
     "name": "stderr",
     "output_type": "stream",
     "text": [
      "\r",
      "Iterations:  36%|███████████▉                     | 109/300 [01:38<02:50,  1.12it/s]"
     ]
    },
    {
     "name": "stdout",
     "output_type": "stream",
     "text": [
      "Epoch:  108\n",
      "t_loss:  0.4183349375631295 , v_loss:  0.5263067881266276\n",
      "t_acc:  0.6999688764394647 , v_acc:  0.7763975155279503\n",
      "t_recall:  0.5120455387655948 , v_recall:  0.6454954954954955\n",
      "t_prec:  0.6733116113744075 , v_prec:  0.8480603448275862\n",
      "t_f:  0.4409551656920078 , v_f:  0.6569602272727273\n",
      "////////\n"
     ]
    },
    {
     "name": "stderr",
     "output_type": "stream",
     "text": [
      "\r",
      "Iterations:  37%|████████████                     | 110/300 [01:39<02:37,  1.20it/s]"
     ]
    },
    {
     "name": "stdout",
     "output_type": "stream",
     "text": [
      "Epoch  109 , loss 0.4167495217977786\n",
      "Epoch  110 , loss 0.4168838689140245\n"
     ]
    },
    {
     "name": "stderr",
     "output_type": "stream",
     "text": [
      "\r",
      "Iterations:  37%|████████████▏                    | 111/300 [01:40<02:50,  1.11it/s]"
     ]
    },
    {
     "name": "stdout",
     "output_type": "stream",
     "text": [
      "Epoch:  110\n",
      "t_loss:  0.4168838689140245 , v_loss:  0.5255343417326609\n",
      "t_acc:  0.7024587612822907 , v_acc:  0.7763975155279503\n",
      "t_recall:  0.5146978493295453 , v_recall:  0.6454954954954955\n",
      "t_prec:  0.7205282739116706 , v_prec:  0.8480603448275862\n",
      "t_f:  0.44471737898000735 , v_f:  0.6569602272727273\n",
      "////////\n"
     ]
    },
    {
     "name": "stderr",
     "output_type": "stream",
     "text": [
      "\r",
      "Iterations:  37%|████████████▎                    | 112/300 [01:40<02:36,  1.20it/s]"
     ]
    },
    {
     "name": "stdout",
     "output_type": "stream",
     "text": [
      "Epoch  111 , loss 0.41824880300783646\n",
      "Epoch  112 , loss 0.4130173927428676\n"
     ]
    },
    {
     "name": "stderr",
     "output_type": "stream",
     "text": [
      "\r",
      "Iterations:  38%|████████████▍                    | 113/300 [01:41<02:48,  1.11it/s]"
     ]
    },
    {
     "name": "stdout",
     "output_type": "stream",
     "text": [
      "Epoch:  112\n",
      "t_loss:  0.4130173927428676 , v_loss:  0.5230587323506674\n",
      "t_acc:  0.7037037037037037 , v_acc:  0.7763975155279503\n",
      "t_recall:  0.5176054404962874 , v_recall:  0.6454954954954955\n",
      "t_prec:  0.7176710484637314 , v_prec:  0.8480603448275862\n",
      "t_f:  0.4513729057734361 , v_f:  0.6569602272727273\n",
      "////////\n"
     ]
    },
    {
     "name": "stderr",
     "output_type": "stream",
     "text": [
      "\r",
      "Iterations:  38%|████████████▌                    | 114/300 [01:42<02:34,  1.20it/s]"
     ]
    },
    {
     "name": "stdout",
     "output_type": "stream",
     "text": [
      "Epoch  113 , loss 0.41893750253845663\n",
      "Epoch  114 , loss 0.4191717610639684\n"
     ]
    },
    {
     "name": "stderr",
     "output_type": "stream",
     "text": [
      "\r",
      "Iterations:  38%|████████████▋                    | 115/300 [01:43<02:48,  1.10it/s]"
     ]
    },
    {
     "name": "stdout",
     "output_type": "stream",
     "text": [
      "Epoch:  114\n",
      "t_loss:  0.4191717610639684 , v_loss:  0.522406592965126\n",
      "t_acc:  0.7021475256769374 , v_acc:  0.782608695652174\n",
      "t_recall:  0.5170619398580859 , v_recall:  0.6554954954954955\n",
      "t_prec:  0.682262242205063 , v_prec:  0.8525326797385621\n",
      "t_f:  0.45233627614650646 , v_f:  0.6701785191688616\n",
      "////////\n"
     ]
    },
    {
     "name": "stderr",
     "output_type": "stream",
     "text": [
      "\r",
      "Iterations:  39%|████████████▊                    | 116/300 [01:44<02:34,  1.19it/s]"
     ]
    },
    {
     "name": "stdout",
     "output_type": "stream",
     "text": [
      "Epoch  115 , loss 0.41841834958861857\n",
      "Epoch  116 , loss 0.4130460228405747\n"
     ]
    },
    {
     "name": "stderr",
     "output_type": "stream",
     "text": [
      "\r",
      "Iterations:  39%|████████████▊                    | 117/300 [01:45<02:47,  1.09it/s]"
     ]
    },
    {
     "name": "stdout",
     "output_type": "stream",
     "text": [
      "Epoch:  116\n",
      "t_loss:  0.4130460228405747 , v_loss:  0.5212501138448715\n",
      "t_acc:  0.706504824151883 , v_acc:  0.782608695652174\n",
      "t_recall:  0.5219191336929222 , v_recall:  0.6554954954954955\n",
      "t_prec:  0.7414285714285714 , v_prec:  0.8525326797385621\n",
      "t_f:  0.4595120933107495 , v_f:  0.6701785191688616\n",
      "////////\n"
     ]
    },
    {
     "name": "stderr",
     "output_type": "stream",
     "text": [
      "\r",
      "Iterations:  39%|████████████▉                    | 118/300 [01:46<02:32,  1.19it/s]"
     ]
    },
    {
     "name": "stdout",
     "output_type": "stream",
     "text": [
      "Epoch  117 , loss 0.4214622103700451\n",
      "Epoch  118 , loss 0.4210047289436939\n"
     ]
    },
    {
     "name": "stderr",
     "output_type": "stream",
     "text": [
      "\r",
      "Iterations:  40%|█████████████                    | 119/300 [01:47<02:46,  1.09it/s]"
     ]
    },
    {
     "name": "stdout",
     "output_type": "stream",
     "text": [
      "Epoch:  118\n",
      "t_loss:  0.4210047289436939 , v_loss:  0.5187195390462875\n",
      "t_acc:  0.7046374105197635 , v_acc:  0.782608695652174\n",
      "t_recall:  0.5185641152331151 , v_recall:  0.6554954954954955\n",
      "t_prec:  0.7336231216535207 , v_prec:  0.8525326797385621\n",
      "t_f:  0.4526738526098423 , v_f:  0.6701785191688616\n",
      "////////\n"
     ]
    },
    {
     "name": "stderr",
     "output_type": "stream",
     "text": [
      "\r",
      "Iterations:  40%|█████████████▏                   | 120/300 [01:47<02:31,  1.19it/s]"
     ]
    },
    {
     "name": "stdout",
     "output_type": "stream",
     "text": [
      "Epoch  119 , loss 0.4135650706057455\n",
      "Epoch  120 , loss 0.41455931172651406\n"
     ]
    },
    {
     "name": "stderr",
     "output_type": "stream",
     "text": [
      "\r",
      "Iterations:  40%|█████████████▎                   | 121/300 [01:48<02:43,  1.09it/s]"
     ]
    },
    {
     "name": "stdout",
     "output_type": "stream",
     "text": [
      "Epoch:  120\n",
      "t_loss:  0.41455931172651406 , v_loss:  0.5183714330196381\n",
      "t_acc:  0.7018362900715842 , v_acc:  0.7888198757763976\n",
      "t_recall:  0.5171257600087839 , v_recall:  0.6654954954954955\n",
      "t_prec:  0.6750397456279809 , v_prec:  0.8568376068376069\n",
      "t_f:  0.4530315523111588 , v_f:  0.6830708661417324\n",
      "////////\n"
     ]
    },
    {
     "name": "stderr",
     "output_type": "stream",
     "text": [
      "\r",
      "Iterations:  41%|█████████████▍                   | 122/300 [01:49<02:28,  1.20it/s]"
     ]
    },
    {
     "name": "stdout",
     "output_type": "stream",
     "text": [
      "Epoch  121 , loss 0.42067574811916725\n",
      "Epoch  122 , loss 0.4216045012661055\n"
     ]
    },
    {
     "name": "stderr",
     "output_type": "stream",
     "text": [
      "\r",
      "Iterations:  41%|█████████████▌                   | 123/300 [01:50<02:42,  1.09it/s]"
     ]
    },
    {
     "name": "stdout",
     "output_type": "stream",
     "text": [
      "Epoch:  122\n",
      "t_loss:  0.4216045012661055 , v_loss:  0.5186587075392405\n",
      "t_acc:  0.7046374105197635 , v_acc:  0.782608695652174\n",
      "t_recall:  0.5200017842192668 , v_recall:  0.6554954954954955\n",
      "t_prec:  0.7136667969895416 , v_prec:  0.8525326797385621\n",
      "t_f:  0.456914447296797 , v_f:  0.6701785191688616\n",
      "////////\n"
     ]
    },
    {
     "name": "stderr",
     "output_type": "stream",
     "text": [
      "\r",
      "Iterations:  41%|█████████████▋                   | 124/300 [01:51<02:29,  1.18it/s]"
     ]
    },
    {
     "name": "stdout",
     "output_type": "stream",
     "text": [
      "Epoch  123 , loss 0.41217440337527034\n",
      "Epoch  124 , loss 0.4181426681724249\n"
     ]
    },
    {
     "name": "stderr",
     "output_type": "stream",
     "text": [
      "\r",
      "Iterations:  42%|█████████████▊                   | 125/300 [01:52<02:40,  1.09it/s]"
     ]
    },
    {
     "name": "stdout",
     "output_type": "stream",
     "text": [
      "Epoch:  124\n",
      "t_loss:  0.4181426681724249 , v_loss:  0.5189096530278524\n",
      "t_acc:  0.7074385309679427 , v_acc:  0.782608695652174\n",
      "t_recall:  0.5234528760242105 , v_recall:  0.6554954954954955\n",
      "t_prec:  0.7468151486263974 , v_prec:  0.8525326797385621\n",
      "t_f:  0.46248029831238224 , v_f:  0.6701785191688616\n",
      "////////\n"
     ]
    },
    {
     "name": "stderr",
     "output_type": "stream",
     "text": [
      "\r",
      "Iterations:  42%|█████████████▊                   | 126/300 [01:53<02:26,  1.18it/s]"
     ]
    },
    {
     "name": "stdout",
     "output_type": "stream",
     "text": [
      "Epoch  125 , loss 0.4207073596178317\n",
      "Epoch  126 , loss 0.41596859868835\n"
     ]
    },
    {
     "name": "stderr",
     "output_type": "stream",
     "text": [
      "\r",
      "Iterations:  42%|█████████████▉                   | 127/300 [01:54<02:37,  1.10it/s]"
     ]
    },
    {
     "name": "stdout",
     "output_type": "stream",
     "text": [
      "Epoch:  126\n",
      "t_loss:  0.41596859868835 , v_loss:  0.519535039861997\n",
      "t_acc:  0.7052598817304699 , v_acc:  0.782608695652174\n",
      "t_recall:  0.5201616777151014 , v_recall:  0.6554954954954955\n",
      "t_prec:  0.7292065407339602 , v_prec:  0.8525326797385621\n",
      "t_f:  0.4563765511846953 , v_f:  0.6701785191688616\n",
      "////////\n"
     ]
    },
    {
     "name": "stderr",
     "output_type": "stream",
     "text": [
      "\r",
      "Iterations:  43%|██████████████                   | 128/300 [01:54<02:24,  1.19it/s]"
     ]
    },
    {
     "name": "stdout",
     "output_type": "stream",
     "text": [
      "Epoch  127 , loss 0.41255975821438956\n",
      "Epoch  128 , loss 0.4137900097697389\n"
     ]
    },
    {
     "name": "stderr",
     "output_type": "stream",
     "text": [
      "\r",
      "Iterations:  43%|██████████████▏                  | 129/300 [01:55<02:35,  1.10it/s]"
     ]
    },
    {
     "name": "stdout",
     "output_type": "stream",
     "text": [
      "Epoch:  128\n",
      "t_loss:  0.4137900097697389 , v_loss:  0.5173048128684362\n",
      "t_acc:  0.7015250544662309 , v_acc:  0.782608695652174\n",
      "t_recall:  0.5160394449705604 , v_recall:  0.6554954954954955\n",
      "t_prec:  0.6766666666666667 , v_prec:  0.8525326797385621\n",
      "t_f:  0.45034156679216203 , v_f:  0.6701785191688616\n",
      "////////\n"
     ]
    },
    {
     "name": "stderr",
     "output_type": "stream",
     "text": [
      "\r",
      "Iterations:  43%|██████████████▎                  | 130/300 [01:56<02:23,  1.18it/s]"
     ]
    },
    {
     "name": "stdout",
     "output_type": "stream",
     "text": [
      "Epoch  129 , loss 0.4156617715078242\n",
      "Epoch  130 , loss 0.4170049797086155\n"
     ]
    },
    {
     "name": "stderr",
     "output_type": "stream",
     "text": [
      "\r",
      "Iterations:  44%|██████████████▍                  | 131/300 [01:57<02:34,  1.09it/s]"
     ]
    },
    {
     "name": "stdout",
     "output_type": "stream",
     "text": [
      "Epoch:  130\n",
      "t_loss:  0.4170049797086155 , v_loss:  0.5161896894375483\n",
      "t_acc:  0.7043261749144102 , v_acc:  0.782608695652174\n",
      "t_recall:  0.5192030029782737 , v_recall:  0.6554954954954955\n",
      "t_prec:  0.7148549871520562 , v_prec:  0.8525326797385621\n",
      "t_f:  0.4550776228969694 , v_f:  0.6701785191688616\n",
      "////////\n"
     ]
    },
    {
     "name": "stderr",
     "output_type": "stream",
     "text": [
      "\r",
      "Iterations:  44%|██████████████▌                  | 132/300 [01:58<02:22,  1.18it/s]"
     ]
    },
    {
     "name": "stdout",
     "output_type": "stream",
     "text": [
      "Epoch  131 , loss 0.4170421934595295\n",
      "Epoch  132 , loss 0.4117741251693052\n"
     ]
    },
    {
     "name": "stderr",
     "output_type": "stream",
     "text": [
      "\r",
      "Iterations:  44%|██████████████▋                  | 133/300 [01:59<02:32,  1.10it/s]"
     ]
    },
    {
     "name": "stdout",
     "output_type": "stream",
     "text": [
      "Epoch:  132\n",
      "t_loss:  0.4117741251693052 , v_loss:  0.5144516875346502\n",
      "t_acc:  0.7049486461251168 , v_acc:  0.7888198757763976\n",
      "t_recall:  0.5196504302713386 , v_recall:  0.6654954954954955\n",
      "t_prec:  0.7270456707897242 , v_prec:  0.8568376068376069\n",
      "t_f:  0.45537932721397584 , v_f:  0.6830708661417324\n",
      "////////\n"
     ]
    },
    {
     "name": "stderr",
     "output_type": "stream",
     "text": [
      "\r",
      "Iterations:  45%|██████████████▋                  | 134/300 [02:00<02:18,  1.20it/s]"
     ]
    },
    {
     "name": "stdout",
     "output_type": "stream",
     "text": [
      "Epoch  133 , loss 0.4143000242172503\n",
      "Epoch  134 , loss 0.41632625986548033\n"
     ]
    },
    {
     "name": "stderr",
     "output_type": "stream",
     "text": [
      "\r",
      "Iterations:  45%|██████████████▊                  | 135/300 [02:01<02:29,  1.10it/s]"
     ]
    },
    {
     "name": "stdout",
     "output_type": "stream",
     "text": [
      "Epoch:  134\n",
      "t_loss:  0.41632625986548033 , v_loss:  0.5157433897256851\n",
      "t_acc:  0.7037037037037037 , v_acc:  0.782608695652174\n",
      "t_recall:  0.5181805080907481 , v_recall:  0.6554954954954955\n",
      "t_prec:  0.7100618458610847 , v_prec:  0.8525326797385621\n",
      "t_f:  0.4530813496916719 , v_f:  0.6701785191688616\n",
      "////////\n"
     ]
    },
    {
     "name": "stderr",
     "output_type": "stream",
     "text": [
      "\r",
      "Iterations:  45%|██████████████▉                  | 136/300 [02:01<02:18,  1.19it/s]"
     ]
    },
    {
     "name": "stdout",
     "output_type": "stream",
     "text": [
      "Epoch  135 , loss 0.4212520852977154\n",
      "Epoch  136 , loss 0.41571994271932866\n"
     ]
    },
    {
     "name": "stderr",
     "output_type": "stream",
     "text": [
      "\r",
      "Iterations:  46%|███████████████                  | 137/300 [02:02<02:28,  1.10it/s]"
     ]
    },
    {
     "name": "stdout",
     "output_type": "stream",
     "text": [
      "Epoch:  136\n",
      "t_loss:  0.41571994271932866 , v_loss:  0.513214722275734\n",
      "t_acc:  0.7021475256769374 , v_acc:  0.7888198757763976\n",
      "t_recall:  0.5161993384663949 , v_recall:  0.6654954954954955\n",
      "t_prec:  0.6902829874359167 , v_prec:  0.8568376068376069\n",
      "t_f:  0.44978082250120915 , v_f:  0.6830708661417324\n",
      "////////\n"
     ]
    },
    {
     "name": "stderr",
     "output_type": "stream",
     "text": [
      "\r",
      "Iterations:  46%|███████████████▏                 | 138/300 [02:03<02:16,  1.19it/s]"
     ]
    },
    {
     "name": "stdout",
     "output_type": "stream",
     "text": [
      "Epoch  137 , loss 0.414825615345263\n",
      "Epoch  138 , loss 0.41435757162524206\n"
     ]
    },
    {
     "name": "stderr",
     "output_type": "stream",
     "text": [
      "\r",
      "Iterations:  46%|███████████████▎                 | 139/300 [02:04<02:27,  1.09it/s]"
     ]
    },
    {
     "name": "stdout",
     "output_type": "stream",
     "text": [
      "Epoch:  138\n",
      "t_loss:  0.41435757162524206 , v_loss:  0.5129680881897608\n",
      "t_acc:  0.7021475256769374 , v_acc:  0.7950310559006211\n",
      "t_recall:  0.5167744060608556 , v_recall:  0.6754954954954955\n",
      "t_prec:  0.6847619047619047 , v_prec:  0.8610081541882876\n",
      "t_f:  0.4514878826069854 , v_f:  0.6956521739130435\n",
      "////////\n"
     ]
    },
    {
     "name": "stderr",
     "output_type": "stream",
     "text": [
      "\r",
      "Iterations:  47%|███████████████▍                 | 140/300 [02:05<02:14,  1.19it/s]"
     ]
    },
    {
     "name": "stdout",
     "output_type": "stream",
     "text": [
      "Epoch  139 , loss 0.413413875243243\n",
      "Epoch  140 , loss 0.41093115946825814\n"
     ]
    },
    {
     "name": "stderr",
     "output_type": "stream",
     "text": [
      "\r",
      "Iterations:  47%|███████████████▌                 | 141/300 [02:06<02:24,  1.10it/s]"
     ]
    },
    {
     "name": "stdout",
     "output_type": "stream",
     "text": [
      "Epoch:  140\n",
      "t_loss:  0.41093115946825814 , v_loss:  0.5125077019135157\n",
      "t_acc:  0.7074385309679427 , v_acc:  0.7888198757763976\n",
      "t_recall:  0.5248905450103623 , v_recall:  0.6654954954954955\n",
      "t_prec:  0.7282036978004462 , v_prec:  0.8568376068376069\n",
      "t_f:  0.4665890039151634 , v_f:  0.6830708661417324\n",
      "////////\n"
     ]
    },
    {
     "name": "stderr",
     "output_type": "stream",
     "text": [
      "\r",
      "Iterations:  47%|███████████████▌                 | 142/300 [02:07<02:12,  1.19it/s]"
     ]
    },
    {
     "name": "stdout",
     "output_type": "stream",
     "text": [
      "Epoch  141 , loss 0.40849312964607687\n",
      "Epoch  142 , loss 0.41465365828252304\n"
     ]
    },
    {
     "name": "stderr",
     "output_type": "stream",
     "text": [
      "\r",
      "Iterations:  48%|███████████████▋                 | 143/300 [02:08<02:23,  1.09it/s]"
     ]
    },
    {
     "name": "stdout",
     "output_type": "stream",
     "text": [
      "Epoch:  142\n",
      "t_loss:  0.41465365828252304 , v_loss:  0.5104421277840933\n",
      "t_acc:  0.7093059446000622 , v_acc:  0.7888198757763976\n",
      "t_recall:  0.5276704958757086 , v_recall:  0.6654954954954955\n",
      "t_prec:  0.7413142355569742 , v_prec:  0.8568376068376069\n",
      "t_f:  0.47160411484143244 , v_f:  0.6830708661417324\n",
      "////////\n"
     ]
    },
    {
     "name": "stderr",
     "output_type": "stream",
     "text": [
      "\r",
      "Iterations:  48%|███████████████▊                 | 144/300 [02:08<02:11,  1.19it/s]"
     ]
    },
    {
     "name": "stdout",
     "output_type": "stream",
     "text": [
      "Epoch  143 , loss 0.4131437107628467\n",
      "Epoch  144 , loss 0.4104686776796977\n"
     ]
    },
    {
     "name": "stderr",
     "output_type": "stream",
     "text": [
      "\r",
      "Iterations:  48%|███████████████▉                 | 145/300 [02:10<02:21,  1.09it/s]"
     ]
    },
    {
     "name": "stdout",
     "output_type": "stream",
     "text": [
      "Epoch:  144\n",
      "t_loss:  0.4104686776796977 , v_loss:  0.5102503150701523\n",
      "t_acc:  0.7030812324929971 , v_acc:  0.7888198757763976\n",
      "t_recall:  0.5188832159866046 , v_recall:  0.6654954954954955\n",
      "t_prec:  0.6876073814826599 , v_prec:  0.8568376068376069\n",
      "t_f:  0.45615264620634244 , v_f:  0.6830708661417324\n",
      "////////\n"
     ]
    },
    {
     "name": "stderr",
     "output_type": "stream",
     "text": [
      "\r",
      "Iterations:  49%|████████████████                 | 146/300 [02:10<02:08,  1.19it/s]"
     ]
    },
    {
     "name": "stdout",
     "output_type": "stream",
     "text": [
      "Epoch  145 , loss 0.4172840071659462\n",
      "Epoch  146 , loss 0.41680215445219304\n"
     ]
    },
    {
     "name": "stderr",
     "output_type": "stream",
     "text": [
      "\r",
      "Iterations:  49%|████████████████▏                | 147/300 [02:11<02:18,  1.10it/s]"
     ]
    },
    {
     "name": "stdout",
     "output_type": "stream",
     "text": [
      "Epoch:  146\n",
      "t_loss:  0.41680215445219304 , v_loss:  0.5116981516281763\n",
      "t_acc:  0.706504824151883 , v_acc:  0.782608695652174\n",
      "t_recall:  0.5236443364763042 , v_recall:  0.6554954954954955\n",
      "t_prec:  0.7195984703632887 , v_prec:  0.8525326797385621\n",
      "t_f:  0.46447813616992845 , v_f:  0.6701785191688616\n",
      "////////\n"
     ]
    },
    {
     "name": "stderr",
     "output_type": "stream",
     "text": [
      "\r",
      "Iterations:  49%|████████████████▎                | 148/300 [02:12<02:06,  1.20it/s]"
     ]
    },
    {
     "name": "stdout",
     "output_type": "stream",
     "text": [
      "Epoch  147 , loss 0.4160035936271443\n",
      "Epoch  148 , loss 0.41061485923972785\n"
     ]
    },
    {
     "name": "stderr",
     "output_type": "stream",
     "text": [
      "\r",
      "Iterations:  50%|████████████████▍                | 149/300 [02:13<02:17,  1.10it/s]"
     ]
    },
    {
     "name": "stdout",
     "output_type": "stream",
     "text": [
      "Epoch:  148\n",
      "t_loss:  0.41061485923972785 , v_loss:  0.5113678375879923\n",
      "t_acc:  0.7058823529411765 , v_acc:  0.782608695652174\n",
      "t_recall:  0.5217592401970876 , v_recall:  0.6554954954954955\n",
      "t_prec:  0.7256454535966069 , v_prec:  0.8525326797385621\n",
      "t_f:  0.46003793250929864 , v_f:  0.6701785191688616\n",
      "////////\n"
     ]
    },
    {
     "name": "stderr",
     "output_type": "stream",
     "text": [
      "\r",
      "Iterations:  50%|████████████████▌                | 150/300 [02:14<02:06,  1.19it/s]"
     ]
    },
    {
     "name": "stdout",
     "output_type": "stream",
     "text": [
      "Epoch  149 , loss 0.4086403209789127\n",
      "Epoch  150 , loss 0.41539764930220213\n"
     ]
    },
    {
     "name": "stderr",
     "output_type": "stream",
     "text": [
      "\r",
      "Iterations:  50%|████████████████▌                | 151/300 [02:15<02:15,  1.10it/s]"
     ]
    },
    {
     "name": "stdout",
     "output_type": "stream",
     "text": [
      "Epoch:  150\n",
      "t_loss:  0.41539764930220213 , v_loss:  0.510123739639918\n",
      "t_acc:  0.7086834733893558 , v_acc:  0.782608695652174\n",
      "t_recall:  0.5254978657992616 , v_recall:  0.6554954954954955\n",
      "t_prec:  0.7533248488705059 , v_prec:  0.8525326797385621\n",
      "t_f:  0.46641391703263785 , v_f:  0.6701785191688616\n",
      "////////\n"
     ]
    },
    {
     "name": "stderr",
     "output_type": "stream",
     "text": [
      "\r",
      "Iterations:  51%|████████████████▋                | 152/300 [02:15<02:03,  1.20it/s]"
     ]
    },
    {
     "name": "stdout",
     "output_type": "stream",
     "text": [
      "Epoch  151 , loss 0.4129157177373475\n",
      "Epoch  152 , loss 0.41212722308495464\n"
     ]
    },
    {
     "name": "stderr",
     "output_type": "stream",
     "text": [
      "\r",
      "Iterations:  51%|████████████████▊                | 153/300 [02:16<02:13,  1.10it/s]"
     ]
    },
    {
     "name": "stdout",
     "output_type": "stream",
     "text": [
      "Epoch:  152\n",
      "t_loss:  0.41212722308495464 , v_loss:  0.5108834107716879\n",
      "t_acc:  0.7068160597572363 , v_acc:  0.782608695652174\n",
      "t_recall:  0.5230054487311456 , v_recall:  0.6554954954954955\n",
      "t_prec:  0.7351351351351352 , v_prec:  0.8525326797385621\n",
      "t_f:  0.4621667247151478 , v_f:  0.6701785191688616\n",
      "////////\n"
     ]
    },
    {
     "name": "stderr",
     "output_type": "stream",
     "text": [
      "\r",
      "Iterations:  51%|████████████████▉                | 154/300 [02:17<02:00,  1.21it/s]"
     ]
    },
    {
     "name": "stdout",
     "output_type": "stream",
     "text": [
      "Epoch  153 , loss 0.41423943843327315\n",
      "Epoch  154 , loss 0.4131898798194586\n"
     ]
    },
    {
     "name": "stderr",
     "output_type": "stream",
     "text": [
      "\r",
      "Iterations:  52%|█████████████████                | 155/300 [02:18<02:13,  1.09it/s]"
     ]
    },
    {
     "name": "stdout",
     "output_type": "stream",
     "text": [
      "Epoch:  154\n",
      "t_loss:  0.4131898798194586 , v_loss:  0.5088649143775305\n",
      "t_acc:  0.706504824151883 , v_acc:  0.7888198757763976\n",
      "t_recall:  0.5227817350846131 , v_recall:  0.6654954954954955\n",
      "t_prec:  0.7295469631596416 , v_prec:  0.8568376068376069\n",
      "t_f:  0.4620100134716831 , v_f:  0.6830708661417324\n",
      "////////\n"
     ]
    },
    {
     "name": "stderr",
     "output_type": "stream",
     "text": [
      "\r",
      "Iterations:  52%|█████████████████▏               | 156/300 [02:19<02:01,  1.19it/s]"
     ]
    },
    {
     "name": "stdout",
     "output_type": "stream",
     "text": [
      "Epoch  155 , loss 0.41019293607449997\n",
      "Epoch  156 , loss 0.4106641651368609\n"
     ]
    },
    {
     "name": "stderr",
     "output_type": "stream",
     "text": [
      "\r",
      "Iterations:  52%|█████████████████▎               | 157/300 [02:20<02:11,  1.09it/s]"
     ]
    },
    {
     "name": "stdout",
     "output_type": "stream",
     "text": [
      "Epoch:  156\n",
      "t_loss:  0.4106641651368609 , v_loss:  0.5089108248551687\n",
      "t_acc:  0.706504824151883 , v_acc:  0.782608695652174\n",
      "t_recall:  0.5239318702735345 , v_recall:  0.6554954954954955\n",
      "t_prec:  0.7166338126159555 , v_prec:  0.8525326797385621\n",
      "t_f:  0.46529430917839437 , v_f:  0.6701785191688616\n",
      "////////\n"
     ]
    },
    {
     "name": "stderr",
     "output_type": "stream",
     "text": [
      "\r",
      "Iterations:  53%|█████████████████▍               | 158/300 [02:21<01:59,  1.19it/s]"
     ]
    },
    {
     "name": "stdout",
     "output_type": "stream",
     "text": [
      "Epoch  157 , loss 0.4094693684110455\n",
      "Epoch  158 , loss 0.4135097849602793\n"
     ]
    },
    {
     "name": "stderr",
     "output_type": "stream",
     "text": [
      "\r",
      "Iterations:  53%|█████████████████▍               | 159/300 [02:22<02:08,  1.09it/s]"
     ]
    },
    {
     "name": "stdout",
     "output_type": "stream",
     "text": [
      "Epoch:  158\n",
      "t_loss:  0.4135097849602793 , v_loss:  0.5092769414186478\n",
      "t_acc:  0.7021475256769374 , v_acc:  0.7888198757763976\n",
      "t_recall:  0.5184996088442376 , v_recall:  0.6654954954954955\n",
      "t_prec:  0.6718164435946463 , v_prec:  0.8568376068376069\n",
      "t_f:  0.456527652507552 , v_f:  0.6830708661417324\n",
      "////////\n"
     ]
    },
    {
     "name": "stderr",
     "output_type": "stream",
     "text": [
      "\r",
      "Iterations:  53%|█████████████████▌               | 160/300 [02:22<01:58,  1.18it/s]"
     ]
    },
    {
     "name": "stdout",
     "output_type": "stream",
     "text": [
      "Epoch  159 , loss 0.4111994174765606\n",
      "Epoch  160 , loss 0.4147004455912347\n"
     ]
    },
    {
     "name": "stderr",
     "output_type": "stream",
     "text": [
      "\r",
      "Iterations:  54%|█████████████████▋               | 161/300 [02:24<02:08,  1.08it/s]"
     ]
    },
    {
     "name": "stdout",
     "output_type": "stream",
     "text": [
      "Epoch:  160\n",
      "t_loss:  0.4147004455912347 , v_loss:  0.5092887779076894\n",
      "t_acc:  0.7055711173358232 , v_acc:  0.7888198757763976\n",
      "t_recall:  0.5212479927533248 , v_recall:  0.6654954954954955\n",
      "t_prec:  0.7236112314758645 , v_prec:  0.8568376068376069\n",
      "t_f:  0.4590493214930997 , v_f:  0.6830708661417324\n",
      "////////\n"
     ]
    },
    {
     "name": "stderr",
     "output_type": "stream",
     "text": [
      "\r",
      "Iterations:  54%|█████████████████▊               | 162/300 [02:24<01:56,  1.18it/s]"
     ]
    },
    {
     "name": "stdout",
     "output_type": "stream",
     "text": [
      "Epoch  161 , loss 0.4093955439679763\n",
      "Epoch  162 , loss 0.41107172825757193\n"
     ]
    },
    {
     "name": "stderr",
     "output_type": "stream",
     "text": [
      "\r",
      "Iterations:  54%|█████████████████▉               | 163/300 [02:25<02:06,  1.08it/s]"
     ]
    },
    {
     "name": "stdout",
     "output_type": "stream",
     "text": [
      "Epoch:  162\n",
      "t_loss:  0.41107172825757193 , v_loss:  0.5067995488643646\n",
      "t_acc:  0.7083722377840025 , v_acc:  0.7950310559006211\n",
      "t_recall:  0.5264242873416506 , v_recall:  0.6754954954954955\n",
      "t_prec:  0.7332886350601407 , v_prec:  0.8610081541882876\n",
      "t_f:  0.46950423019566584 , v_f:  0.6956521739130435\n",
      "////////\n"
     ]
    },
    {
     "name": "stderr",
     "output_type": "stream",
     "text": [
      "\r",
      "Iterations:  55%|██████████████████               | 164/300 [02:26<01:55,  1.17it/s]"
     ]
    },
    {
     "name": "stdout",
     "output_type": "stream",
     "text": [
      "Epoch  163 , loss 0.4122787088740106\n",
      "Epoch  164 , loss 0.41385526458422345\n"
     ]
    },
    {
     "name": "stderr",
     "output_type": "stream",
     "text": [
      "\r",
      "Iterations:  55%|██████████████████▏              | 165/300 [02:27<02:03,  1.10it/s]"
     ]
    },
    {
     "name": "stdout",
     "output_type": "stream",
     "text": [
      "Epoch:  164\n",
      "t_loss:  0.41385526458422345 , v_loss:  0.5060630341370901\n",
      "t_acc:  0.708994708994709 , v_acc:  0.7950310559006211\n",
      "t_recall:  0.5271592484319457 , v_recall:  0.6754954954954955\n",
      "t_prec:  0.7397772895074843 , v_prec:  0.8610081541882876\n",
      "t_f:  0.47063655841296426 , v_f:  0.6956521739130435\n",
      "////////\n"
     ]
    },
    {
     "name": "stderr",
     "output_type": "stream",
     "text": [
      "\r",
      "Iterations:  55%|██████████████████▎              | 166/300 [02:28<01:52,  1.19it/s]"
     ]
    },
    {
     "name": "stdout",
     "output_type": "stream",
     "text": [
      "Epoch  165 , loss 0.4144122518745123\n",
      "Epoch  166 , loss 0.4105468596897873\n"
     ]
    },
    {
     "name": "stderr",
     "output_type": "stream",
     "text": [
      "\r",
      "Iterations:  56%|██████████████████▎              | 167/300 [02:29<02:01,  1.10it/s]"
     ]
    },
    {
     "name": "stdout",
     "output_type": "stream",
     "text": [
      "Epoch:  166\n",
      "t_loss:  0.4105468596897873 , v_loss:  0.507275273402532\n",
      "t_acc:  0.7043261749144102 , v_acc:  0.7888198757763976\n",
      "t_recall:  0.5229409423422682 , v_recall:  0.6654954954954955\n",
      "t_prec:  0.6823454545454546 , v_prec:  0.8568376068376069\n",
      "t_f:  0.46578960264344316 , v_f:  0.6830708661417324\n",
      "////////\n"
     ]
    },
    {
     "name": "stderr",
     "output_type": "stream",
     "text": [
      "\r",
      "Iterations:  56%|██████████████████▍              | 168/300 [02:29<01:51,  1.19it/s]"
     ]
    },
    {
     "name": "stdout",
     "output_type": "stream",
     "text": [
      "Epoch  167 , loss 0.40953811769391973\n",
      "Epoch  168 , loss 0.40860548966071186\n"
     ]
    },
    {
     "name": "stderr",
     "output_type": "stream",
     "text": [
      "\r",
      "Iterations:  56%|██████████████████▌              | 169/300 [02:31<01:59,  1.10it/s]"
     ]
    },
    {
     "name": "stdout",
     "output_type": "stream",
     "text": [
      "Epoch:  168\n",
      "t_loss:  0.40860548966071186 , v_loss:  0.5072259654601415\n",
      "t_acc:  0.7052598817304699 , v_acc:  0.7950310559006211\n",
      "t_recall:  0.5227494818901744 , v_recall:  0.6754954954954955\n",
      "t_prec:  0.700845362823423 , v_prec:  0.8610081541882876\n",
      "t_f:  0.4638425891091734 , v_f:  0.6956521739130435\n",
      "////////\n"
     ]
    },
    {
     "name": "stderr",
     "output_type": "stream",
     "text": [
      "\r",
      "Iterations:  57%|██████████████████▋              | 170/300 [02:31<01:49,  1.19it/s]"
     ]
    },
    {
     "name": "stdout",
     "output_type": "stream",
     "text": [
      "Epoch  169 , loss 0.41139036942930785\n",
      "Epoch  170 , loss 0.40898548884719027\n"
     ]
    },
    {
     "name": "stderr",
     "output_type": "stream",
     "text": [
      "\r",
      "Iterations:  57%|██████████████████▊              | 171/300 [02:32<01:58,  1.09it/s]"
     ]
    },
    {
     "name": "stdout",
     "output_type": "stream",
     "text": [
      "Epoch:  170\n",
      "t_loss:  0.40898548884719027 , v_loss:  0.5085546523332596\n",
      "t_acc:  0.7099284158107687 , v_acc:  0.7888198757763976\n",
      "t_recall:  0.5298431259521554 , v_recall:  0.6654954954954955\n",
      "t_prec:  0.7320845341018252 , v_prec:  0.8568376068376069\n",
      "t_f:  0.47669766095851634 , v_f:  0.6830708661417324\n",
      "////////\n"
     ]
    },
    {
     "name": "stderr",
     "output_type": "stream",
     "text": [
      "\r",
      "Iterations:  57%|██████████████████▉              | 172/300 [02:33<01:48,  1.18it/s]"
     ]
    },
    {
     "name": "stdout",
     "output_type": "stream",
     "text": [
      "Epoch  171 , loss 0.4061913691899356\n",
      "Epoch  172 , loss 0.4122369996472901\n"
     ]
    },
    {
     "name": "stderr",
     "output_type": "stream",
     "text": [
      "\r",
      "Iterations:  58%|███████████████████              | 173/300 [02:34<01:57,  1.09it/s]"
     ]
    },
    {
     "name": "stdout",
     "output_type": "stream",
     "text": [
      "Epoch:  172\n",
      "t_loss:  0.4122369996472901 , v_loss:  0.507537379860878\n",
      "t_acc:  0.702769996887644 , v_acc:  0.7888198757763976\n",
      "t_recall:  0.5175093671511508 , v_recall:  0.6654954954954955\n",
      "t_prec:  0.6928571428571428 , v_prec:  0.8568376068376069\n",
      "t_f:  0.4526341984218089 , v_f:  0.6830708661417324\n",
      "////////\n"
     ]
    },
    {
     "name": "stderr",
     "output_type": "stream",
     "text": [
      "\r",
      "Iterations:  58%|███████████████████▏             | 174/300 [02:35<01:46,  1.18it/s]"
     ]
    },
    {
     "name": "stdout",
     "output_type": "stream",
     "text": [
      "Epoch  173 , loss 0.41307422226550533\n",
      "Epoch  174 , loss 0.4138895781601177\n"
     ]
    },
    {
     "name": "stderr",
     "output_type": "stream",
     "text": [
      "\r",
      "Iterations:  58%|███████████████████▎             | 175/300 [02:36<01:54,  1.09it/s]"
     ]
    },
    {
     "name": "stdout",
     "output_type": "stream",
     "text": [
      "Epoch:  174\n",
      "t_loss:  0.4138895781601177 , v_loss:  0.5069992691278458\n",
      "t_acc:  0.707749766573296 , v_acc:  0.7950310559006211\n",
      "t_recall:  0.525401792454125 , v_recall:  0.6754954954954955\n",
      "t_prec:  0.7299397031539889 , v_prec:  0.8610081541882876\n",
      "t_f:  0.46756241391146597 , v_f:  0.6956521739130435\n",
      "////////\n"
     ]
    },
    {
     "name": "stderr",
     "output_type": "stream",
     "text": [
      "\r",
      "Iterations:  59%|███████████████████▎             | 176/300 [02:37<01:44,  1.19it/s]"
     ]
    },
    {
     "name": "stdout",
     "output_type": "stream",
     "text": [
      "Epoch  175 , loss 0.4107409224790685\n",
      "Epoch  176 , loss 0.41080888872053106\n"
     ]
    },
    {
     "name": "stderr",
     "output_type": "stream",
     "text": [
      "\r",
      "Iterations:  59%|███████████████████▍             | 177/300 [02:38<01:51,  1.10it/s]"
     ]
    },
    {
     "name": "stdout",
     "output_type": "stream",
     "text": [
      "Epoch:  176\n",
      "t_loss:  0.41080888872053106 , v_loss:  0.5061887999375662\n",
      "t_acc:  0.7096171802054155 , v_acc:  0.782608695652174\n",
      "t_recall:  0.528756810913932 , v_recall:  0.6664864864864866\n",
      "t_prec:  0.7364130434782609 , v_prec:  0.8142857142857143\n",
      "t_f:  0.47416279868911215 , v_f:  0.6838000112227147\n",
      "////////\n"
     ]
    },
    {
     "name": "stderr",
     "output_type": "stream",
     "text": [
      "\r",
      "Iterations:  59%|███████████████████▌             | 178/300 [02:38<01:41,  1.20it/s]"
     ]
    },
    {
     "name": "stdout",
     "output_type": "stream",
     "text": [
      "Epoch  177 , loss 0.40994563874076395\n",
      "Epoch  178 , loss 0.41151727414598654\n"
     ]
    },
    {
     "name": "stderr",
     "output_type": "stream",
     "text": [
      "\r",
      "Iterations:  60%|███████████████████▋             | 179/300 [02:39<01:49,  1.10it/s]"
     ]
    },
    {
     "name": "stdout",
     "output_type": "stream",
     "text": [
      "Epoch:  178\n",
      "t_loss:  0.41151727414598654 , v_loss:  0.5059005071719488\n",
      "t_acc:  0.7105508870214753 , v_acc:  0.7950310559006211\n",
      "t_recall:  0.5288528842590686 , v_recall:  0.6754954954954955\n",
      "t_prec:  0.7579131394920868 , v_prec:  0.8610081541882876\n",
      "t_f:  0.4730669121381412 , v_f:  0.6956521739130435\n",
      "////////\n"
     ]
    },
    {
     "name": "stderr",
     "output_type": "stream",
     "text": [
      "\r",
      "Iterations:  60%|███████████████████▊             | 180/300 [02:40<01:39,  1.20it/s]"
     ]
    },
    {
     "name": "stdout",
     "output_type": "stream",
     "text": [
      "Epoch  179 , loss 0.40552926706332787\n",
      "Epoch  180 , loss 0.4069042147374621\n"
     ]
    },
    {
     "name": "stderr",
     "output_type": "stream",
     "text": [
      "\r",
      "Iterations:  60%|███████████████████▉             | 181/300 [02:41<01:47,  1.11it/s]"
     ]
    },
    {
     "name": "stdout",
     "output_type": "stream",
     "text": [
      "Epoch:  180\n",
      "t_loss:  0.4069042147374621 , v_loss:  0.5046034206946691\n",
      "t_acc:  0.707749766573296 , v_acc:  0.782608695652174\n",
      "t_recall:  0.5251142586568947 , v_recall:  0.660990990990991\n",
      "t_prec:  0.7332504780114724 , v_prec:  0.83117123795404\n",
      "t_f:  0.4667497029306074 , v_f:  0.6772068511198946\n",
      "////////\n"
     ]
    },
    {
     "name": "stderr",
     "output_type": "stream",
     "text": [
      "\r",
      "Iterations:  61%|████████████████████             | 182/300 [02:42<01:37,  1.21it/s]"
     ]
    },
    {
     "name": "stdout",
     "output_type": "stream",
     "text": [
      "Epoch  181 , loss 0.40931592794025645\n",
      "Epoch  182 , loss 0.4114280600173801\n"
     ]
    },
    {
     "name": "stderr",
     "output_type": "stream",
     "text": [
      "\r",
      "Iterations:  61%|████████████████████▏            | 183/300 [02:43<01:45,  1.11it/s]"
     ]
    },
    {
     "name": "stdout",
     "output_type": "stream",
     "text": [
      "Epoch:  182\n",
      "t_loss:  0.4114280600173801 , v_loss:  0.5039812922477722\n",
      "t_acc:  0.711484593837535 , v_acc:  0.7888198757763976\n",
      "t_recall:  0.5300990927931266 , v_recall:  0.670990990990991\n",
      "t_prec:  0.7657319072968585 , v_prec:  0.8365248226950355\n",
      "t_f:  0.4751658712821582 , v_f:  0.6896825396825397\n",
      "////////\n"
     ]
    },
    {
     "name": "stderr",
     "output_type": "stream",
     "text": [
      "\r",
      "Iterations:  61%|████████████████████▏            | 184/300 [02:43<01:36,  1.21it/s]"
     ]
    },
    {
     "name": "stdout",
     "output_type": "stream",
     "text": [
      "Epoch  183 , loss 0.4120619326245551\n",
      "Epoch  184 , loss 0.41205690771925685\n"
     ]
    },
    {
     "name": "stderr",
     "output_type": "stream",
     "text": [
      "\r",
      "Iterations:  62%|████████████████████▎            | 185/300 [02:45<01:43,  1.11it/s]"
     ]
    },
    {
     "name": "stdout",
     "output_type": "stream",
     "text": [
      "Epoch:  184\n",
      "t_loss:  0.41205690771925685 , v_loss:  0.5033774624268214\n",
      "t_acc:  0.7052598817304699 , v_acc:  0.7888198757763976\n",
      "t_recall:  0.5224619480929441 , v_recall:  0.670990990990991\n",
      "t_prec:  0.703327922077922 , v_prec:  0.8365248226950355\n",
      "t_f:  0.46302620444532294 , v_f:  0.6896825396825397\n",
      "////////\n"
     ]
    },
    {
     "name": "stderr",
     "output_type": "stream",
     "text": [
      "\r",
      "Iterations:  62%|████████████████████▍            | 186/300 [02:45<01:34,  1.20it/s]"
     ]
    },
    {
     "name": "stdout",
     "output_type": "stream",
     "text": [
      "Epoch  185 , loss 0.4103213799934761\n",
      "Epoch  186 , loss 0.409481929213393\n"
     ]
    },
    {
     "name": "stderr",
     "output_type": "stream",
     "text": [
      "\r",
      "Iterations:  62%|████████████████████▌            | 187/300 [02:46<01:41,  1.11it/s]"
     ]
    },
    {
     "name": "stdout",
     "output_type": "stream",
     "text": [
      "Epoch:  186\n",
      "t_loss:  0.409481929213393 , v_loss:  0.5036442130804062\n",
      "t_acc:  0.7033924680983504 , v_acc:  0.7888198757763976\n",
      "t_recall:  0.5193944634303674 , v_recall:  0.670990990990991\n",
      "t_prec:  0.690033261311984 , v_prec:  0.8365248226950355\n",
      "t_f:  0.4571396760519907 , v_f:  0.6896825396825397\n",
      "////////\n"
     ]
    },
    {
     "name": "stderr",
     "output_type": "stream",
     "text": [
      "\r",
      "Iterations:  63%|████████████████████▋            | 188/300 [02:47<01:33,  1.20it/s]"
     ]
    },
    {
     "name": "stdout",
     "output_type": "stream",
     "text": [
      "Epoch  187 , loss 0.4096253134456335\n",
      "Epoch  188 , loss 0.40685303918286864\n"
     ]
    },
    {
     "name": "stderr",
     "output_type": "stream",
     "text": [
      "\r",
      "Iterations:  63%|████████████████████▊            | 189/300 [02:48<01:41,  1.09it/s]"
     ]
    },
    {
     "name": "stdout",
     "output_type": "stream",
     "text": [
      "Epoch:  188\n",
      "t_loss:  0.40685303918286864 , v_loss:  0.502458393573761\n",
      "t_acc:  0.7074385309679427 , v_acc:  0.7888198757763976\n",
      "t_recall:  0.5248905450103623 , v_recall:  0.670990990990991\n",
      "t_prec:  0.7282036978004462 , v_prec:  0.8365248226950355\n",
      "t_f:  0.4665890039151634 , v_f:  0.6896825396825397\n",
      "////////\n"
     ]
    },
    {
     "name": "stderr",
     "output_type": "stream",
     "text": [
      "\r",
      "Iterations:  63%|████████████████████▉            | 190/300 [02:49<01:33,  1.18it/s]"
     ]
    },
    {
     "name": "stdout",
     "output_type": "stream",
     "text": [
      "Epoch  189 , loss 0.41333916491153194\n",
      "Epoch  190 , loss 0.41206471008412976\n"
     ]
    },
    {
     "name": "stderr",
     "output_type": "stream",
     "text": [
      "\r",
      "Iterations:  64%|█████████████████████            | 191/300 [02:50<01:42,  1.07it/s]"
     ]
    },
    {
     "name": "stdout",
     "output_type": "stream",
     "text": [
      "Epoch:  190\n",
      "t_loss:  0.41206471008412976 , v_loss:  0.5025608589251837\n",
      "t_acc:  0.7046374105197635 , v_acc:  0.7888198757763976\n",
      "t_recall:  0.5223020545971095 , v_recall:  0.6764864864864866\n",
      "t_prec:  0.6921562366964666 , v_prec:  0.8203073904512754\n",
      "t_f:  0.46352513075657503 , v_f:  0.695888888888889\n",
      "////////\n"
     ]
    },
    {
     "name": "stderr",
     "output_type": "stream",
     "text": [
      "\r",
      "Iterations:  64%|█████████████████████            | 192/300 [02:51<01:32,  1.16it/s]"
     ]
    },
    {
     "name": "stdout",
     "output_type": "stream",
     "text": [
      "Epoch  191 , loss 0.4121651737128987\n",
      "Epoch  192 , loss 0.40875685565611897\n"
     ]
    },
    {
     "name": "stderr",
     "output_type": "stream",
     "text": [
      "\r",
      "Iterations:  64%|█████████████████████▏           | 193/300 [02:52<01:39,  1.07it/s]"
     ]
    },
    {
     "name": "stdout",
     "output_type": "stream",
     "text": [
      "Epoch:  192\n",
      "t_loss:  0.40875685565611897 , v_loss:  0.5043842097123464\n",
      "t_acc:  0.7093059446000622 , v_acc:  0.7888198757763976\n",
      "t_recall:  0.52882063106463 , v_recall:  0.6764864864864866\n",
      "t_prec:  0.72908 , v_prec:  0.8203073904512754\n",
      "t_f:  0.47478683038839575 , v_f:  0.695888888888889\n",
      "////////\n"
     ]
    },
    {
     "name": "stderr",
     "output_type": "stream",
     "text": [
      "\r",
      "Iterations:  65%|█████████████████████▎           | 194/300 [02:52<01:30,  1.18it/s]"
     ]
    },
    {
     "name": "stdout",
     "output_type": "stream",
     "text": [
      "Epoch  193 , loss 0.41805466366749183\n",
      "Epoch  194 , loss 0.40940843551766637\n"
     ]
    },
    {
     "name": "stderr",
     "output_type": "stream",
     "text": [
      "\r",
      "Iterations:  65%|█████████████████████▍           | 195/300 [02:53<01:37,  1.08it/s]"
     ]
    },
    {
     "name": "stdout",
     "output_type": "stream",
     "text": [
      "Epoch:  194\n",
      "t_loss:  0.40940843551766637 , v_loss:  0.502960408727328\n",
      "t_acc:  0.7049486461251168 , v_acc:  0.7888198757763976\n",
      "t_recall:  0.522525768243642 , v_recall:  0.6764864864864866\n",
      "t_prec:  0.6964470954356847 , v_prec:  0.8203073904512754\n",
      "t_f:  0.46368383390757806 , v_f:  0.695888888888889\n",
      "////////\n"
     ]
    },
    {
     "name": "stderr",
     "output_type": "stream",
     "text": [
      "\r",
      "Iterations:  65%|█████████████████████▌           | 196/300 [02:54<01:28,  1.17it/s]"
     ]
    },
    {
     "name": "stdout",
     "output_type": "stream",
     "text": [
      "Epoch  195 , loss 0.4096066741382374\n",
      "Epoch  196 , loss 0.40704738334113477\n"
     ]
    },
    {
     "name": "stderr",
     "output_type": "stream",
     "text": [
      "\r",
      "Iterations:  66%|█████████████████████▋           | 197/300 [02:55<01:35,  1.08it/s]"
     ]
    },
    {
     "name": "stdout",
     "output_type": "stream",
     "text": [
      "Epoch:  196\n",
      "t_loss:  0.40704738334113477 , v_loss:  0.5016495138406754\n",
      "t_acc:  0.7086834733893558 , v_acc:  0.7888198757763976\n",
      "t_recall:  0.528373203771565 , v_recall:  0.6764864864864866\n",
      "t_prec:  0.7206532180595581 , v_prec:  0.8203073904512754\n",
      "t_f:  0.4744517281729305 , v_f:  0.695888888888889\n",
      "////////\n"
     ]
    },
    {
     "name": "stderr",
     "output_type": "stream",
     "text": [
      "\r",
      "Iterations:  66%|█████████████████████▊           | 198/300 [02:56<01:27,  1.16it/s]"
     ]
    },
    {
     "name": "stdout",
     "output_type": "stream",
     "text": [
      "Epoch  197 , loss 0.4115811539631264\n",
      "Epoch  198 , loss 0.40725597972963373\n"
     ]
    },
    {
     "name": "stderr",
     "output_type": "stream",
     "text": [
      "\r",
      "Iterations:  66%|█████████████████████▉           | 199/300 [02:57<01:33,  1.08it/s]"
     ]
    },
    {
     "name": "stdout",
     "output_type": "stream",
     "text": [
      "Epoch:  198\n",
      "t_loss:  0.40725597972963373 , v_loss:  0.5014054129521052\n",
      "t_acc:  0.7074385309679427 , v_acc:  0.7888198757763976\n",
      "t_recall:  0.5248905450103623 , v_recall:  0.6764864864864866\n",
      "t_prec:  0.7282036978004462 , v_prec:  0.8203073904512754\n",
      "t_f:  0.4665890039151634 , v_f:  0.695888888888889\n",
      "////////\n"
     ]
    },
    {
     "name": "stderr",
     "output_type": "stream",
     "text": [
      "\r",
      "Iterations:  67%|██████████████████████           | 200/300 [02:58<01:26,  1.16it/s]"
     ]
    },
    {
     "name": "stdout",
     "output_type": "stream",
     "text": [
      "Epoch  199 , loss 0.4105891374980702\n",
      "Epoch  200 , loss 0.4144402479424196\n"
     ]
    },
    {
     "name": "stderr",
     "output_type": "stream",
     "text": [
      "\r",
      "Iterations:  67%|██████████████████████           | 201/300 [02:59<01:32,  1.06it/s]"
     ]
    },
    {
     "name": "stdout",
     "output_type": "stream",
     "text": [
      "Epoch:  200\n",
      "t_loss:  0.4144402479424196 , v_loss:  0.5025712500015894\n",
      "t_acc:  0.7086834733893558 , v_acc:  0.7888198757763976\n",
      "t_recall:  0.528373203771565 , v_recall:  0.6764864864864866\n",
      "t_prec:  0.7206532180595581 , v_prec:  0.8203073904512754\n",
      "t_f:  0.4744517281729305 , v_f:  0.695888888888889\n",
      "////////\n"
     ]
    },
    {
     "name": "stderr",
     "output_type": "stream",
     "text": [
      "\r",
      "Iterations:  67%|██████████████████████▏          | 202/300 [02:59<01:24,  1.16it/s]"
     ]
    },
    {
     "name": "stdout",
     "output_type": "stream",
     "text": [
      "Epoch  201 , loss 0.41049875465093877\n",
      "Epoch  202 , loss 0.40674855808417004\n"
     ]
    },
    {
     "name": "stderr",
     "output_type": "stream",
     "text": [
      "\r",
      "Iterations:  68%|██████████████████████▎          | 203/300 [03:01<01:30,  1.07it/s]"
     ]
    },
    {
     "name": "stdout",
     "output_type": "stream",
     "text": [
      "Epoch:  202\n",
      "t_loss:  0.40674855808417004 , v_loss:  0.5019017904996872\n",
      "t_acc:  0.708994708994709 , v_acc:  0.7888198757763976\n",
      "t_recall:  0.5271592484319457 , v_recall:  0.6764864864864866\n",
      "t_prec:  0.7397772895074843 , v_prec:  0.8203073904512754\n",
      "t_f:  0.47063655841296426 , v_f:  0.695888888888889\n",
      "////////\n"
     ]
    },
    {
     "name": "stderr",
     "output_type": "stream",
     "text": [
      "\r",
      "Iterations:  68%|██████████████████████▍          | 204/300 [03:01<01:23,  1.15it/s]"
     ]
    },
    {
     "name": "stdout",
     "output_type": "stream",
     "text": [
      "Epoch  203 , loss 0.41401007187132743\n",
      "Epoch  204 , loss 0.4073806530704685\n"
     ]
    },
    {
     "name": "stderr",
     "output_type": "stream",
     "text": [
      "\r",
      "Iterations:  68%|██████████████████████▌          | 205/300 [03:02<01:28,  1.07it/s]"
     ]
    },
    {
     "name": "stdout",
     "output_type": "stream",
     "text": [
      "Epoch:  204\n",
      "t_loss:  0.4073806530704685 , v_loss:  0.5016456743081411\n",
      "t_acc:  0.706504824151883 , v_acc:  0.7888198757763976\n",
      "t_recall:  0.5236443364763042 , v_recall:  0.6764864864864866\n",
      "t_prec:  0.7195984703632887 , v_prec:  0.8203073904512754\n",
      "t_f:  0.46447813616992845 , v_f:  0.695888888888889\n",
      "////////\n"
     ]
    },
    {
     "name": "stderr",
     "output_type": "stream",
     "text": [
      "\r",
      "Iterations:  69%|██████████████████████▋          | 206/300 [03:03<01:21,  1.16it/s]"
     ]
    },
    {
     "name": "stdout",
     "output_type": "stream",
     "text": [
      "Epoch  205 , loss 0.40917275115555407\n",
      "Epoch  206 , loss 0.4078962621735592\n"
     ]
    },
    {
     "name": "stderr",
     "output_type": "stream",
     "text": [
      "\r",
      "Iterations:  69%|██████████████████████▊          | 207/300 [03:04<01:26,  1.08it/s]"
     ]
    },
    {
     "name": "stdout",
     "output_type": "stream",
     "text": [
      "Epoch:  206\n",
      "t_loss:  0.4078962621735592 , v_loss:  0.5013427038987478\n",
      "t_acc:  0.7136632430750078 , v_acc:  0.7888198757763976\n",
      "t_recall:  0.5331027573050054 , v_recall:  0.6764864864864866\n",
      "t_prec:  0.7818276713587959 , v_prec:  0.8203073904512754\n",
      "t_f:  0.48031280107455043 , v_f:  0.695888888888889\n",
      "////////\n"
     ]
    },
    {
     "name": "stderr",
     "output_type": "stream",
     "text": [
      "\r",
      "Iterations:  69%|██████████████████████▉          | 208/300 [03:05<01:17,  1.18it/s]"
     ]
    },
    {
     "name": "stdout",
     "output_type": "stream",
     "text": [
      "Epoch  207 , loss 0.4082934213619606\n",
      "Epoch  208 , loss 0.4070555339841282\n"
     ]
    },
    {
     "name": "stderr",
     "output_type": "stream",
     "text": [
      "\r",
      "Iterations:  70%|██████████████████████▉          | 209/300 [03:06<01:22,  1.10it/s]"
     ]
    },
    {
     "name": "stdout",
     "output_type": "stream",
     "text": [
      "Epoch:  208\n",
      "t_loss:  0.4070555339841282 , v_loss:  0.5018626848856608\n",
      "t_acc:  0.711484593837535 , v_acc:  0.7888198757763976\n",
      "t_recall:  0.5335494983598907 , v_recall:  0.6764864864864866\n",
      "t_prec:  0.7289311023007523 , v_prec:  0.8203073904512754\n",
      "t_f:  0.4845137847452684 , v_f:  0.695888888888889\n",
      "////////\n"
     ]
    },
    {
     "name": "stderr",
     "output_type": "stream",
     "text": [
      "\r",
      "Iterations:  70%|███████████████████████          | 210/300 [03:07<01:14,  1.20it/s]"
     ]
    },
    {
     "name": "stdout",
     "output_type": "stream",
     "text": [
      "Epoch  209 , loss 0.40547599044500615\n",
      "Epoch  210 , loss 0.4137977250650817\n"
     ]
    },
    {
     "name": "stderr",
     "output_type": "stream",
     "text": [
      "\r",
      "Iterations:  70%|███████████████████████▏         | 211/300 [03:08<01:20,  1.10it/s]"
     ]
    },
    {
     "name": "stdout",
     "output_type": "stream",
     "text": [
      "Epoch:  210\n",
      "t_loss:  0.4137977250650817 , v_loss:  0.5007565915584564\n",
      "t_acc:  0.7074385309679427 , v_acc:  0.7888198757763976\n",
      "t_recall:  0.5260406801992835 , v_recall:  0.6764864864864866\n",
      "t_prec:  0.7165627996164909 , v_prec:  0.8203073904512754\n",
      "t_f:  0.4698176165017252 , v_f:  0.695888888888889\n",
      "////////\n"
     ]
    },
    {
     "name": "stderr",
     "output_type": "stream",
     "text": [
      "\r",
      "Iterations:  71%|███████████████████████▎         | 212/300 [03:08<01:13,  1.19it/s]"
     ]
    },
    {
     "name": "stdout",
     "output_type": "stream",
     "text": [
      "Epoch  211 , loss 0.4066992156645831\n",
      "Epoch  212 , loss 0.40557976446899713\n"
     ]
    },
    {
     "name": "stderr",
     "output_type": "stream",
     "text": [
      "\r",
      "Iterations:  71%|███████████████████████▍         | 213/300 [03:09<01:19,  1.10it/s]"
     ]
    },
    {
     "name": "stdout",
     "output_type": "stream",
     "text": [
      "Epoch:  212\n",
      "t_loss:  0.40557976446899713 , v_loss:  0.5008725176254908\n",
      "t_acc:  0.7068160597572363 , v_acc:  0.7888198757763976\n",
      "t_recall:  0.525018185311758 , v_recall:  0.6764864864864866\n",
      "t_prec:  0.7129978733514579 , v_prec:  0.8203073904512754\n",
      "t_f:  0.4678854984915506 , v_f:  0.695888888888889\n",
      "////////\n"
     ]
    },
    {
     "name": "stderr",
     "output_type": "stream",
     "text": [
      "\r",
      "Iterations:  71%|███████████████████████▌         | 214/300 [03:10<01:11,  1.20it/s]"
     ]
    },
    {
     "name": "stdout",
     "output_type": "stream",
     "text": [
      "Epoch  213 , loss 0.40923463304837543\n",
      "Epoch  214 , loss 0.4114210219944225\n"
     ]
    },
    {
     "name": "stderr",
     "output_type": "stream",
     "text": [
      "\r",
      "Iterations:  72%|███████████████████████▋         | 215/300 [03:11<01:17,  1.10it/s]"
     ]
    },
    {
     "name": "stdout",
     "output_type": "stream",
     "text": [
      "Epoch:  214\n",
      "t_loss:  0.4114210219944225 , v_loss:  0.5004108101129532\n",
      "t_acc:  0.706504824151883 , v_acc:  0.7888198757763976\n",
      "t_recall:  0.5253695392596862 , v_recall:  0.6764864864864866\n",
      "t_prec:  0.7039016480243563 , v_prec:  0.8203073904512754\n",
      "t_f:  0.46932698597854616 , v_f:  0.695888888888889\n",
      "////////\n"
     ]
    },
    {
     "name": "stderr",
     "output_type": "stream",
     "text": [
      "\r",
      "Iterations:  72%|███████████████████████▊         | 216/300 [03:12<01:10,  1.20it/s]"
     ]
    },
    {
     "name": "stdout",
     "output_type": "stream",
     "text": [
      "Epoch  215 , loss 0.4076273505594216\n",
      "Epoch  216 , loss 0.4065815479147668\n"
     ]
    },
    {
     "name": "stderr",
     "output_type": "stream",
     "text": [
      "\r",
      "Iterations:  72%|███████████████████████▊         | 217/300 [03:13<01:14,  1.11it/s]"
     ]
    },
    {
     "name": "stdout",
     "output_type": "stream",
     "text": [
      "Epoch:  216\n",
      "t_loss:  0.4065815479147668 , v_loss:  0.49889227747917175\n",
      "t_acc:  0.7071272953625894 , v_acc:  0.7888198757763976\n",
      "t_recall:  0.5263920341472118 , v_recall:  0.6764864864864866\n",
      "t_prec:  0.7074857212735042 , v_prec:  0.8203073904512754\n",
      "t_f:  0.47124781809472555 , v_f:  0.695888888888889\n",
      "////////\n"
     ]
    },
    {
     "name": "stderr",
     "output_type": "stream",
     "text": [
      "\r",
      "Iterations:  73%|███████████████████████▉         | 218/300 [03:14<01:08,  1.20it/s]"
     ]
    },
    {
     "name": "stdout",
     "output_type": "stream",
     "text": [
      "Epoch  217 , loss 0.40997469308329565\n",
      "Epoch  218 , loss 0.40507879561068966\n"
     ]
    },
    {
     "name": "stderr",
     "output_type": "stream",
     "text": [
      "\r",
      "Iterations:  73%|████████████████████████         | 219/300 [03:15<01:13,  1.10it/s]"
     ]
    },
    {
     "name": "stdout",
     "output_type": "stream",
     "text": [
      "Epoch:  218\n",
      "t_loss:  0.40507879561068966 , v_loss:  0.500221053759257\n",
      "t_acc:  0.7117958294428882 , v_acc:  0.7888198757763976\n",
      "t_recall:  0.5323355430202714 , v_recall:  0.6764864864864866\n",
      "t_prec:  0.7461585612192302 , v_prec:  0.8203073904512754\n",
      "t_f:  0.4808446113363998 , v_f:  0.695888888888889\n",
      "////////\n"
     ]
    },
    {
     "name": "stderr",
     "output_type": "stream",
     "text": [
      "\r",
      "Iterations:  73%|████████████████████████▏        | 220/300 [03:15<01:06,  1.20it/s]"
     ]
    },
    {
     "name": "stdout",
     "output_type": "stream",
     "text": [
      "Epoch  219 , loss 0.4012918022333407\n",
      "Epoch  220 , loss 0.40506060976608127\n"
     ]
    },
    {
     "name": "stderr",
     "output_type": "stream",
     "text": [
      "\r",
      "Iterations:  74%|████████████████████████▎        | 221/300 [03:16<01:11,  1.10it/s]"
     ]
    },
    {
     "name": "stdout",
     "output_type": "stream",
     "text": [
      "Epoch:  220\n",
      "t_loss:  0.40506060976608127 , v_loss:  0.5011276304721832\n",
      "t_acc:  0.7083722377840025 , v_acc:  0.7888198757763976\n",
      "t_recall:  0.5278619563278022 , v_recall:  0.6764864864864866\n",
      "t_prec:  0.7190417787624623 , v_prec:  0.8203073904512754\n",
      "t_f:  0.4734954362962358 , v_f:  0.695888888888889\n",
      "////////\n"
     ]
    },
    {
     "name": "stderr",
     "output_type": "stream",
     "text": [
      "\r",
      "Iterations:  74%|████████████████████████▍        | 222/300 [03:17<01:04,  1.20it/s]"
     ]
    },
    {
     "name": "stdout",
     "output_type": "stream",
     "text": [
      "Epoch  221 , loss 0.4068598659599529\n",
      "Epoch  222 , loss 0.41339103439274955\n"
     ]
    },
    {
     "name": "stderr",
     "output_type": "stream",
     "text": [
      "\r",
      "Iterations:  74%|████████████████████████▌        | 223/300 [03:18<01:10,  1.10it/s]"
     ]
    },
    {
     "name": "stdout",
     "output_type": "stream",
     "text": [
      "Epoch:  222\n",
      "t_loss:  0.41339103439274955 , v_loss:  0.4997655401627223\n",
      "t_acc:  0.7049486461251168 , v_acc:  0.7888198757763976\n",
      "t_recall:  0.5248260386214848 , v_recall:  0.6764864864864866\n",
      "t_prec:  0.6813492540904715 , v_prec:  0.8203073904512754\n",
      "t_f:  0.4700941954555704 , v_f:  0.695888888888889\n",
      "////////\n"
     ]
    },
    {
     "name": "stderr",
     "output_type": "stream",
     "text": [
      "\r",
      "Iterations:  75%|████████████████████████▋        | 224/300 [03:19<01:03,  1.19it/s]"
     ]
    },
    {
     "name": "stdout",
     "output_type": "stream",
     "text": [
      "Epoch  223 , loss 0.4002958559522442\n",
      "Epoch  224 , loss 0.4059773122563082\n"
     ]
    },
    {
     "name": "stderr",
     "output_type": "stream",
     "text": [
      "\r",
      "Iterations:  75%|████████████████████████▊        | 225/300 [03:20<01:08,  1.10it/s]"
     ]
    },
    {
     "name": "stdout",
     "output_type": "stream",
     "text": [
      "Epoch:  224\n",
      "t_loss:  0.4059773122563082 , v_loss:  0.5002749810616175\n",
      "t_acc:  0.715219421101774 , v_acc:  0.7888198757763976\n",
      "t_recall:  0.5385343324961228 , v_recall:  0.6764864864864866\n",
      "t_prec:  0.7534422372134728 , v_prec:  0.8203073904512754\n",
      "t_f:  0.4926828973672926 , v_f:  0.695888888888889\n",
      "////////\n"
     ]
    },
    {
     "name": "stderr",
     "output_type": "stream",
     "text": [
      "\r",
      "Iterations:  75%|████████████████████████▊        | 226/300 [03:20<01:01,  1.19it/s]"
     ]
    },
    {
     "name": "stdout",
     "output_type": "stream",
     "text": [
      "Epoch  225 , loss 0.4077194742127961\n",
      "Epoch  226 , loss 0.409389933534697\n"
     ]
    },
    {
     "name": "stderr",
     "output_type": "stream",
     "text": [
      "\r",
      "Iterations:  76%|████████████████████████▉        | 227/300 [03:22<01:06,  1.09it/s]"
     ]
    },
    {
     "name": "stdout",
     "output_type": "stream",
     "text": [
      "Epoch:  226\n",
      "t_loss:  0.409389933534697 , v_loss:  0.49813617765903473\n",
      "t_acc:  0.7033924680983504 , v_acc:  0.7888198757763976\n",
      "t_recall:  0.5216947338082102 , v_recall:  0.6764864864864866\n",
      "t_prec:  0.6743662717585546 , v_prec:  0.8203073904512754\n",
      "t_f:  0.4636994884809698 , v_f:  0.695888888888889\n",
      "////////\n"
     ]
    },
    {
     "name": "stderr",
     "output_type": "stream",
     "text": [
      "\r",
      "Iterations:  76%|█████████████████████████        | 228/300 [03:22<01:01,  1.18it/s]"
     ]
    },
    {
     "name": "stdout",
     "output_type": "stream",
     "text": [
      "Epoch  227 , loss 0.41023826715992945\n",
      "Epoch  228 , loss 0.40928508779581857\n"
     ]
    },
    {
     "name": "stderr",
     "output_type": "stream",
     "text": [
      "\r",
      "Iterations:  76%|█████████████████████████▏       | 229/300 [03:23<01:05,  1.08it/s]"
     ]
    },
    {
     "name": "stdout",
     "output_type": "stream",
     "text": [
      "Epoch:  228\n",
      "t_loss:  0.40928508779581857 , v_loss:  0.49935415387153625\n",
      "t_acc:  0.7055711173358232 , v_acc:  0.7888198757763976\n",
      "t_recall:  0.5232607293339372 , v_recall:  0.6764864864864866\n",
      "t_prec:  0.7028566868815831 , v_prec:  0.8203073904512754\n",
      "t_f:  0.46481530261241444 , v_f:  0.695888888888889\n",
      "////////\n"
     ]
    },
    {
     "name": "stderr",
     "output_type": "stream",
     "text": [
      "\r",
      "Iterations:  77%|█████████████████████████▎       | 230/300 [03:24<00:59,  1.18it/s]"
     ]
    },
    {
     "name": "stdout",
     "output_type": "stream",
     "text": [
      "Epoch  229 , loss 0.4101156130725262\n",
      "Epoch  230 , loss 0.4089200093465693\n"
     ]
    },
    {
     "name": "stderr",
     "output_type": "stream",
     "text": [
      "\r",
      "Iterations:  77%|█████████████████████████▍       | 231/300 [03:25<01:03,  1.08it/s]"
     ]
    },
    {
     "name": "stdout",
     "output_type": "stream",
     "text": [
      "Epoch:  230\n",
      "t_loss:  0.4089200093465693 , v_loss:  0.5002142538626989\n",
      "t_acc:  0.7052598817304699 , v_acc:  0.7888198757763976\n",
      "t_recall:  0.5233245494846351 , v_recall:  0.6764864864864866\n",
      "t_prec:  0.696248893336926 , v_prec:  0.8203073904512754\n",
      "t_f:  0.4654656801817905 , v_f:  0.695888888888889\n",
      "////////\n"
     ]
    },
    {
     "name": "stderr",
     "output_type": "stream",
     "text": [
      "\r",
      "Iterations:  77%|█████████████████████████▌       | 232/300 [03:26<00:57,  1.18it/s]"
     ]
    },
    {
     "name": "stdout",
     "output_type": "stream",
     "text": [
      "Epoch  231 , loss 0.4059995430357316\n",
      "Epoch  232 , loss 0.41207840629652437\n"
     ]
    },
    {
     "name": "stderr",
     "output_type": "stream",
     "text": [
      "\r",
      "Iterations:  78%|█████████████████████████▋       | 233/300 [03:27<01:01,  1.08it/s]"
     ]
    },
    {
     "name": "stdout",
     "output_type": "stream",
     "text": [
      "Epoch:  232\n",
      "t_loss:  0.41207840629652437 , v_loss:  0.4990338484446208\n",
      "t_acc:  0.708994708994709 , v_acc:  0.7888198757763976\n",
      "t_recall:  0.5280218498236368 , v_recall:  0.6764864864864866\n",
      "t_prec:  0.7303708439897698 , v_prec:  0.8203073904512754\n",
      "t_f:  0.4730356021160984 , v_f:  0.695888888888889\n",
      "////////\n"
     ]
    },
    {
     "name": "stderr",
     "output_type": "stream",
     "text": [
      "\r",
      "Iterations:  78%|█████████████████████████▋       | 234/300 [03:28<00:56,  1.17it/s]"
     ]
    },
    {
     "name": "stdout",
     "output_type": "stream",
     "text": [
      "Epoch  233 , loss 0.40467582935211704\n",
      "Epoch  234 , loss 0.4071580399485195\n"
     ]
    },
    {
     "name": "stderr",
     "output_type": "stream",
     "text": [
      "\r",
      "Iterations:  78%|█████████████████████████▊       | 235/300 [03:29<01:00,  1.08it/s]"
     ]
    },
    {
     "name": "stdout",
     "output_type": "stream",
     "text": [
      "Epoch:  234\n",
      "t_loss:  0.4071580399485195 , v_loss:  0.4989375074704488\n",
      "t_acc:  0.7117958294428882 , v_acc:  0.782608695652174\n",
      "t_recall:  0.5326230768175018 , v_recall:  0.6664864864864866\n",
      "t_prec:  0.7432193215228557 , v_prec:  0.8142857142857143\n",
      "t_f:  0.4816196148506626 , v_f:  0.6838000112227147\n",
      "////////\n"
     ]
    },
    {
     "name": "stderr",
     "output_type": "stream",
     "text": [
      "\r",
      "Iterations:  79%|█████████████████████████▉       | 236/300 [03:29<00:54,  1.18it/s]"
     ]
    },
    {
     "name": "stdout",
     "output_type": "stream",
     "text": [
      "Epoch  235 , loss 0.4028768895887861\n",
      "Epoch  236 , loss 0.40868261222745855\n"
     ]
    },
    {
     "name": "stderr",
     "output_type": "stream",
     "text": [
      "\r",
      "Iterations:  79%|██████████████████████████       | 237/300 [03:30<00:58,  1.08it/s]"
     ]
    },
    {
     "name": "stdout",
     "output_type": "stream",
     "text": [
      "Epoch:  236\n",
      "t_loss:  0.40868261222745855 , v_loss:  0.49776942034562427\n",
      "t_acc:  0.710239651416122 , v_acc:  0.782608695652174\n",
      "t_recall:  0.5300668395986878 , v_recall:  0.6664864864864866\n",
      "t_prec:  0.7363758649958998 , v_prec:  0.8142857142857143\n",
      "t_f:  0.47686686359850117 , v_f:  0.6838000112227147\n",
      "////////\n"
     ]
    },
    {
     "name": "stderr",
     "output_type": "stream",
     "text": [
      "\r",
      "Iterations:  79%|██████████████████████████▏      | 238/300 [03:31<00:52,  1.17it/s]"
     ]
    },
    {
     "name": "stdout",
     "output_type": "stream",
     "text": [
      "Epoch  237 , loss 0.40061839129410537\n",
      "Epoch  238 , loss 0.4029514567524779\n"
     ]
    },
    {
     "name": "stderr",
     "output_type": "stream",
     "text": [
      "\r",
      "Iterations:  80%|██████████████████████████▎      | 239/300 [03:32<00:56,  1.08it/s]"
     ]
    },
    {
     "name": "stdout",
     "output_type": "stream",
     "text": [
      "Epoch:  238\n",
      "t_loss:  0.4029514567524779 , v_loss:  0.4990045378605525\n",
      "t_acc:  0.7099284158107687 , v_acc:  0.782608695652174\n",
      "t_recall:  0.5298431259521554 , v_recall:  0.6664864864864866\n",
      "t_prec:  0.7320845341018252 , v_prec:  0.8142857142857143\n",
      "t_f:  0.47669766095851634 , v_f:  0.6838000112227147\n",
      "////////\n"
     ]
    },
    {
     "name": "stderr",
     "output_type": "stream",
     "text": [
      "\r",
      "Iterations:  80%|██████████████████████████▍      | 240/300 [03:33<00:50,  1.18it/s]"
     ]
    },
    {
     "name": "stdout",
     "output_type": "stream",
     "text": [
      "Epoch  239 , loss 0.4075677307213054\n",
      "Epoch  240 , loss 0.4063369339587642\n"
     ]
    },
    {
     "name": "stderr",
     "output_type": "stream",
     "text": [
      "\r",
      "Iterations:  80%|██████████████████████████▌      | 241/300 [03:34<00:54,  1.09it/s]"
     ]
    },
    {
     "name": "stdout",
     "output_type": "stream",
     "text": [
      "Epoch:  240\n",
      "t_loss:  0.4063369339587642 , v_loss:  0.49815074106057483\n",
      "t_acc:  0.7121070650482415 , v_acc:  0.782608695652174\n",
      "t_recall:  0.5345719932474163 , v_recall:  0.6664864864864866\n",
      "t_prec:  0.7315637065637066 , v_prec:  0.8142857142857143\n",
      "t_f:  0.486383665064135 , v_f:  0.6838000112227147\n",
      "////////\n"
     ]
    },
    {
     "name": "stderr",
     "output_type": "stream",
     "text": [
      "\r",
      "Iterations:  81%|██████████████████████████▌      | 242/300 [03:35<00:48,  1.19it/s]"
     ]
    },
    {
     "name": "stdout",
     "output_type": "stream",
     "text": [
      "Epoch  241 , loss 0.4104046652130052\n",
      "Epoch  242 , loss 0.4087909541878046\n"
     ]
    },
    {
     "name": "stderr",
     "output_type": "stream",
     "text": [
      "\r",
      "Iterations:  81%|██████████████████████████▋      | 243/300 [03:36<00:52,  1.10it/s]"
     ]
    },
    {
     "name": "stdout",
     "output_type": "stream",
     "text": [
      "Epoch:  242\n",
      "t_loss:  0.4087909541878046 , v_loss:  0.4982207218805949\n",
      "t_acc:  0.7096171802054155 , v_acc:  0.7888198757763976\n",
      "t_recall:  0.5307695474945444 , v_recall:  0.6764864864864866\n",
      "t_prec:  0.7181643019793309 , v_prec:  0.8203073904512754\n",
      "t_f:  0.47963980459211647 , v_f:  0.695888888888889\n",
      "////////\n"
     ]
    },
    {
     "name": "stderr",
     "output_type": "stream",
     "text": [
      "\r",
      "Iterations:  81%|██████████████████████████▊      | 244/300 [03:36<00:46,  1.20it/s]"
     ]
    },
    {
     "name": "stdout",
     "output_type": "stream",
     "text": [
      "Epoch  243 , loss 0.40905843821226384\n",
      "Epoch  244 , loss 0.40499694382443147\n"
     ]
    },
    {
     "name": "stderr",
     "output_type": "stream",
     "text": [
      "\r",
      "Iterations:  82%|██████████████████████████▉      | 245/300 [03:38<00:50,  1.09it/s]"
     ]
    },
    {
     "name": "stdout",
     "output_type": "stream",
     "text": [
      "Epoch:  244\n",
      "t_loss:  0.40499694382443147 , v_loss:  0.49623991549015045\n",
      "t_acc:  0.712729536258948 , v_acc:  0.7888198757763976\n",
      "t_recall:  0.5344443529460206 , v_recall:  0.6764864864864866\n",
      "t_prec:  0.7442196531791907 , v_prec:  0.8203073904512754\n",
      "t_f:  0.4852170842856629 , v_f:  0.695888888888889\n",
      "////////\n"
     ]
    },
    {
     "name": "stderr",
     "output_type": "stream",
     "text": [
      "\r",
      "Iterations:  82%|███████████████████████████      | 246/300 [03:38<00:45,  1.19it/s]"
     ]
    },
    {
     "name": "stdout",
     "output_type": "stream",
     "text": [
      "Epoch  245 , loss 0.4055820054867688\n",
      "Epoch  246 , loss 0.40418589056706894\n"
     ]
    },
    {
     "name": "stderr",
     "output_type": "stream",
     "text": [
      "\r",
      "Iterations:  82%|███████████████████████████▏     | 247/300 [03:39<00:48,  1.10it/s]"
     ]
    },
    {
     "name": "stdout",
     "output_type": "stream",
     "text": [
      "Epoch:  246\n",
      "t_loss:  0.40418589056706894 , v_loss:  0.49530292054017383\n",
      "t_acc:  0.708994708994709 , v_acc:  0.7888198757763976\n",
      "t_recall:  0.5283093836208671 , v_recall:  0.6764864864864866\n",
      "t_prec:  0.7275299490369977 , v_prec:  0.8203073904512754\n",
      "t_f:  0.4738289839766073 , v_f:  0.695888888888889\n",
      "////////\n"
     ]
    },
    {
     "name": "stderr",
     "output_type": "stream",
     "text": [
      "\r",
      "Iterations:  83%|███████████████████████████▎     | 248/300 [03:40<00:43,  1.20it/s]"
     ]
    },
    {
     "name": "stdout",
     "output_type": "stream",
     "text": [
      "Epoch  247 , loss 0.4041309473561306\n",
      "Epoch  248 , loss 0.40118858218193054\n"
     ]
    },
    {
     "name": "stderr",
     "output_type": "stream",
     "text": [
      "\r",
      "Iterations:  83%|███████████████████████████▍     | 249/300 [03:41<00:45,  1.12it/s]"
     ]
    },
    {
     "name": "stdout",
     "output_type": "stream",
     "text": [
      "Epoch:  248\n",
      "t_loss:  0.40118858218193054 , v_loss:  0.4960809002319972\n",
      "t_acc:  0.7149081854964208 , v_acc:  0.7888198757763976\n",
      "t_recall:  0.53802308505236 , v_recall:  0.6764864864864866\n",
      "t_prec:  0.752357731476702 , v_prec:  0.8203073904512754\n",
      "t_f:  0.4917550953869703 , v_f:  0.695888888888889\n",
      "////////\n"
     ]
    },
    {
     "name": "stderr",
     "output_type": "stream",
     "text": [
      "\r",
      "Iterations:  83%|███████████████████████████▌     | 250/300 [03:42<00:41,  1.22it/s]"
     ]
    },
    {
     "name": "stdout",
     "output_type": "stream",
     "text": [
      "Epoch  249 , loss 0.40746048677201363\n",
      "Epoch  250 , loss 0.4048844575881958\n"
     ]
    },
    {
     "name": "stderr",
     "output_type": "stream",
     "text": [
      "\r",
      "Iterations:  84%|███████████████████████████▌     | 251/300 [03:43<00:44,  1.10it/s]"
     ]
    },
    {
     "name": "stdout",
     "output_type": "stream",
     "text": [
      "Epoch:  250\n",
      "t_loss:  0.4048844575881958 , v_loss:  0.4952026704947154\n",
      "t_acc:  0.7121070650482415 , v_acc:  0.7888198757763976\n",
      "t_recall:  0.5339969256529556 , v_recall:  0.6764864864864866\n",
      "t_prec:  0.736425908014966 , v_prec:  0.8203073904512754\n",
      "t_f:  0.48486527138896107 , v_f:  0.695888888888889\n",
      "////////\n"
     ]
    },
    {
     "name": "stderr",
     "output_type": "stream",
     "text": [
      "\r",
      "Iterations:  84%|███████████████████████████▋     | 252/300 [03:43<00:39,  1.20it/s]"
     ]
    },
    {
     "name": "stdout",
     "output_type": "stream",
     "text": [
      "Epoch  251 , loss 0.4053929097512189\n",
      "Epoch  252 , loss 0.4008677058360156\n"
     ]
    },
    {
     "name": "stderr",
     "output_type": "stream",
     "text": [
      "\r",
      "Iterations:  84%|███████████████████████████▊     | 253/300 [03:44<00:42,  1.10it/s]"
     ]
    },
    {
     "name": "stdout",
     "output_type": "stream",
     "text": [
      "Epoch:  252\n",
      "t_loss:  0.4008677058360156 , v_loss:  0.49358946084976196\n",
      "t_acc:  0.711484593837535 , v_acc:  0.7888198757763976\n",
      "t_recall:  0.5355622349405031 , v_recall:  0.6764864864864866\n",
      "t_prec:  0.7145945140131187 , v_prec:  0.8203073904512754\n",
      "t_f:  0.48976804064106816 , v_f:  0.695888888888889\n",
      "////////\n"
     ]
    },
    {
     "name": "stderr",
     "output_type": "stream",
     "text": [
      "\r",
      "Iterations:  85%|███████████████████████████▉     | 254/300 [03:45<00:38,  1.19it/s]"
     ]
    },
    {
     "name": "stdout",
     "output_type": "stream",
     "text": [
      "Epoch  253 , loss 0.3996111870396371\n",
      "Epoch  254 , loss 0.4056471200550304\n"
     ]
    },
    {
     "name": "stderr",
     "output_type": "stream",
     "text": [
      "\r",
      "Iterations:  85%|████████████████████████████     | 255/300 [03:46<00:40,  1.10it/s]"
     ]
    },
    {
     "name": "stdout",
     "output_type": "stream",
     "text": [
      "Epoch:  254\n",
      "t_loss:  0.4056471200550304 , v_loss:  0.4946512033541997\n",
      "t_acc:  0.7136632430750078 , v_acc:  0.7888198757763976\n",
      "t_recall:  0.5379908318579213 , v_recall:  0.6764864864864866\n",
      "t_prec:  0.7311511139812722 , v_prec:  0.8203073904512754\n",
      "t_f:  0.4932531121811532 , v_f:  0.695888888888889\n",
      "////////\n"
     ]
    },
    {
     "name": "stderr",
     "output_type": "stream",
     "text": [
      "\r",
      "Iterations:  85%|████████████████████████████▏    | 256/300 [03:47<00:36,  1.20it/s]"
     ]
    },
    {
     "name": "stdout",
     "output_type": "stream",
     "text": [
      "Epoch  255 , loss 0.4078597309542637\n",
      "Epoch  256 , loss 0.4038445844369776\n"
     ]
    },
    {
     "name": "stderr",
     "output_type": "stream",
     "text": [
      "\r",
      "Iterations:  86%|████████████████████████████▎    | 257/300 [03:48<00:39,  1.09it/s]"
     ]
    },
    {
     "name": "stdout",
     "output_type": "stream",
     "text": [
      "Epoch:  256\n",
      "t_loss:  0.4038445844369776 , v_loss:  0.4952882031599681\n",
      "t_acc:  0.7111733582321818 , v_acc:  0.7888198757763976\n",
      "t_recall:  0.5336133185105887 , v_recall:  0.6764864864864866\n",
      "t_prec:  0.7230902830492314 , v_prec:  0.8203073904512754\n",
      "t_f:  0.4850968651955333 , v_f:  0.695888888888889\n",
      "////////\n"
     ]
    },
    {
     "name": "stderr",
     "output_type": "stream",
     "text": [
      "\r",
      "Iterations:  86%|████████████████████████████▍    | 258/300 [03:49<00:35,  1.20it/s]"
     ]
    },
    {
     "name": "stdout",
     "output_type": "stream",
     "text": [
      "Epoch  257 , loss 0.4017994298654444\n",
      "Epoch  258 , loss 0.4064133038707808\n"
     ]
    },
    {
     "name": "stderr",
     "output_type": "stream",
     "text": [
      "\r",
      "Iterations:  86%|████████████████████████████▍    | 259/300 [03:50<00:37,  1.10it/s]"
     ]
    },
    {
     "name": "stdout",
     "output_type": "stream",
     "text": [
      "Epoch:  258\n",
      "t_loss:  0.4064133038707808 , v_loss:  0.49551017582416534\n",
      "t_acc:  0.706504824151883 , v_acc:  0.7888198757763976\n",
      "t_recall:  0.5236443364763042 , v_recall:  0.6764864864864866\n",
      "t_prec:  0.7195984703632887 , v_prec:  0.8203073904512754\n",
      "t_f:  0.46447813616992845 , v_f:  0.695888888888889\n",
      "////////\n"
     ]
    },
    {
     "name": "stderr",
     "output_type": "stream",
     "text": [
      "\r",
      "Iterations:  87%|████████████████████████████▌    | 260/300 [03:50<00:33,  1.19it/s]"
     ]
    },
    {
     "name": "stdout",
     "output_type": "stream",
     "text": [
      "Epoch  259 , loss 0.4016714627836265\n",
      "Epoch  260 , loss 0.4068152331838421\n"
     ]
    },
    {
     "name": "stderr",
     "output_type": "stream",
     "text": [
      "\r",
      "Iterations:  87%|████████████████████████████▋    | 261/300 [03:51<00:35,  1.10it/s]"
     ]
    },
    {
     "name": "stdout",
     "output_type": "stream",
     "text": [
      "Epoch:  260\n",
      "t_loss:  0.4068152331838421 , v_loss:  0.4940970142682393\n",
      "t_acc:  0.7086834733893558 , v_acc:  0.7950310559006211\n",
      "t_recall:  0.5280856699743347 , v_recall:  0.6864864864864866\n",
      "t_prec:  0.7232381818181819 , v_prec:  0.8260869565217391\n",
      "t_f:  0.4736621769202767 , v_f:  0.7077075424987622\n",
      "////////\n"
     ]
    },
    {
     "name": "stderr",
     "output_type": "stream",
     "text": [
      "\r",
      "Iterations:  87%|████████████████████████████▊    | 262/300 [03:52<00:31,  1.19it/s]"
     ]
    },
    {
     "name": "stdout",
     "output_type": "stream",
     "text": [
      "Epoch  261 , loss 0.405501570187363\n",
      "Epoch  262 , loss 0.40506260184680715\n"
     ]
    },
    {
     "name": "stderr",
     "output_type": "stream",
     "text": [
      "\r",
      "Iterations:  88%|████████████████████████████▉    | 263/300 [03:53<00:33,  1.11it/s]"
     ]
    },
    {
     "name": "stdout",
     "output_type": "stream",
     "text": [
      "Epoch:  262\n",
      "t_loss:  0.40506260184680715 , v_loss:  0.49563372135162354\n",
      "t_acc:  0.7086834733893558 , v_acc:  0.7888198757763976\n",
      "t_recall:  0.5286607375687954 , v_recall:  0.6764864864864866\n",
      "t_prec:  0.718183622863352 , v_prec:  0.8203073904512754\n",
      "t_f:  0.4752381816532075 , v_f:  0.695888888888889\n",
      "////////\n"
     ]
    },
    {
     "name": "stderr",
     "output_type": "stream",
     "text": [
      "\r",
      "Iterations:  88%|█████████████████████████████    | 264/300 [03:54<00:29,  1.20it/s]"
     ]
    },
    {
     "name": "stdout",
     "output_type": "stream",
     "text": [
      "Epoch  263 , loss 0.40210622140005525\n",
      "Epoch  264 , loss 0.40350164034787345\n"
     ]
    },
    {
     "name": "stderr",
     "output_type": "stream",
     "text": [
      "\r",
      "Iterations:  88%|█████████████████████████████▏   | 265/300 [03:55<00:32,  1.09it/s]"
     ]
    },
    {
     "name": "stdout",
     "output_type": "stream",
     "text": [
      "Epoch:  264\n",
      "t_loss:  0.40350164034787345 , v_loss:  0.4945195863644282\n",
      "t_acc:  0.7105508870214753 , v_acc:  0.7950310559006211\n",
      "t_recall:  0.5317282222313721 , v_recall:  0.6864864864864866\n",
      "t_prec:  0.7271841320797983 , v_prec:  0.8260869565217391\n",
      "t_f:  0.48092797832053646 , v_f:  0.7077075424987622\n",
      "////////\n"
     ]
    },
    {
     "name": "stderr",
     "output_type": "stream",
     "text": [
      "\r",
      "Iterations:  89%|█████████████████████████████▎   | 266/300 [03:56<00:28,  1.19it/s]"
     ]
    },
    {
     "name": "stdout",
     "output_type": "stream",
     "text": [
      "Epoch  265 , loss 0.40185392545718773\n",
      "Epoch  266 , loss 0.40881680799465553\n"
     ]
    },
    {
     "name": "stderr",
     "output_type": "stream",
     "text": [
      "\r",
      "Iterations:  89%|█████████████████████████████▎   | 267/300 [03:57<00:29,  1.10it/s]"
     ]
    },
    {
     "name": "stdout",
     "output_type": "stream",
     "text": [
      "Epoch:  266\n",
      "t_loss:  0.40881680799465553 , v_loss:  0.4929284950097402\n",
      "t_acc:  0.7130407718643013 , v_acc:  0.7950310559006211\n",
      "t_recall:  0.5361057355787047 , v_recall:  0.6864864864864866\n",
      "t_prec:  0.7353462157809985 , v_prec:  0.8260869565217391\n",
      "t_f:  0.48917685765721025 , v_f:  0.7077075424987622\n",
      "////////\n"
     ]
    },
    {
     "name": "stderr",
     "output_type": "stream",
     "text": [
      "\r",
      "Iterations:  89%|█████████████████████████████▍   | 268/300 [03:57<00:26,  1.19it/s]"
     ]
    },
    {
     "name": "stdout",
     "output_type": "stream",
     "text": [
      "Epoch  267 , loss 0.4028961845472747\n",
      "Epoch  268 , loss 0.4126122190671809\n"
     ]
    },
    {
     "name": "stderr",
     "output_type": "stream",
     "text": [
      "\r",
      "Iterations:  90%|█████████████████████████████▌   | 269/300 [03:58<00:28,  1.10it/s]"
     ]
    },
    {
     "name": "stdout",
     "output_type": "stream",
     "text": [
      "Epoch:  268\n",
      "t_loss:  0.4126122190671809 , v_loss:  0.4942503223816554\n",
      "t_acc:  0.7049486461251168 , v_acc:  0.7950310559006211\n",
      "t_recall:  0.5262637076076364 , v_recall:  0.6864864864864866\n",
      "t_prec:  0.6743112023367805 , v_prec:  0.8260869565217391\n",
      "t_f:  0.4739998148764715 , v_f:  0.7077075424987622\n",
      "////////\n"
     ]
    },
    {
     "name": "stderr",
     "output_type": "stream",
     "text": [
      "\r",
      "Iterations:  90%|█████████████████████████████▋   | 270/300 [03:59<00:25,  1.19it/s]"
     ]
    },
    {
     "name": "stdout",
     "output_type": "stream",
     "text": [
      "Epoch  269 , loss 0.4056266137197906\n",
      "Epoch  270 , loss 0.40200559181325574\n"
     ]
    },
    {
     "name": "stderr",
     "output_type": "stream",
     "text": [
      "\r",
      "Iterations:  90%|█████████████████████████████▊   | 271/300 [04:00<00:26,  1.10it/s]"
     ]
    },
    {
     "name": "stdout",
     "output_type": "stream",
     "text": [
      "Epoch:  270\n",
      "t_loss:  0.40200559181325574 , v_loss:  0.4929127295811971\n",
      "t_acc:  0.7117958294428882 , v_acc:  0.7950310559006211\n",
      "t_recall:  0.5334856782091928 , v_recall:  0.6864864864864866\n",
      "t_prec:  0.7351236749116608 , v_prec:  0.8260869565217391\n",
      "t_f:  0.48392650729973097 , v_f:  0.7077075424987622\n",
      "////////\n"
     ]
    },
    {
     "name": "stderr",
     "output_type": "stream",
     "text": [
      "\r",
      "Iterations:  91%|█████████████████████████████▉   | 272/300 [04:01<00:23,  1.19it/s]"
     ]
    },
    {
     "name": "stdout",
     "output_type": "stream",
     "text": [
      "Epoch  271 , loss 0.4014630954639584\n",
      "Epoch  272 , loss 0.4080699238122678\n"
     ]
    },
    {
     "name": "stderr",
     "output_type": "stream",
     "text": [
      "\r",
      "Iterations:  91%|██████████████████████████████   | 273/300 [04:02<00:24,  1.10it/s]"
     ]
    },
    {
     "name": "stdout",
     "output_type": "stream",
     "text": [
      "Epoch:  272\n",
      "t_loss:  0.4080699238122678 , v_loss:  0.4928387502829234\n",
      "t_acc:  0.7117958294428882 , v_acc:  0.7950310559006211\n",
      "t_recall:  0.5337732120064232 , v_recall:  0.6864864864864866\n",
      "t_prec:  0.7326422372227579 , v_prec:  0.8260869565217391\n",
      "t_f:  0.4846894874672652 , v_f:  0.7077075424987622\n",
      "////////\n"
     ]
    },
    {
     "name": "stderr",
     "output_type": "stream",
     "text": [
      "\r",
      "Iterations:  91%|██████████████████████████████▏  | 274/300 [04:03<00:21,  1.19it/s]"
     ]
    },
    {
     "name": "stdout",
     "output_type": "stream",
     "text": [
      "Epoch  273 , loss 0.39809878141272304\n",
      "Epoch  274 , loss 0.41057827016886544\n"
     ]
    },
    {
     "name": "stderr",
     "output_type": "stream",
     "text": [
      "\r",
      "Iterations:  92%|██████████████████████████████▎  | 275/300 [04:04<00:22,  1.10it/s]"
     ]
    },
    {
     "name": "stdout",
     "output_type": "stream",
     "text": [
      "Epoch:  274\n",
      "t_loss:  0.41057827016886544 , v_loss:  0.4912026524543762\n",
      "t_acc:  0.7124183006535948 , v_acc:  0.7950310559006211\n",
      "t_recall:  0.5356583082856398 , v_recall:  0.6864864864864866\n",
      "t_prec:  0.7283508628013946 , v_prec:  0.8260869565217391\n",
      "t_f:  0.4888183776695391 , v_f:  0.7077075424987622\n",
      "////////\n"
     ]
    },
    {
     "name": "stderr",
     "output_type": "stream",
     "text": [
      "\r",
      "Iterations:  92%|██████████████████████████████▎  | 276/300 [04:04<00:20,  1.19it/s]"
     ]
    },
    {
     "name": "stdout",
     "output_type": "stream",
     "text": [
      "Epoch  275 , loss 0.411438524723053\n",
      "Epoch  276 , loss 0.4088509994394639\n"
     ]
    },
    {
     "name": "stderr",
     "output_type": "stream",
     "text": [
      "\r",
      "Iterations:  92%|██████████████████████████████▍  | 277/300 [04:05<00:20,  1.10it/s]"
     ]
    },
    {
     "name": "stdout",
     "output_type": "stream",
     "text": [
      "Epoch:  276\n",
      "t_loss:  0.4088509994394639 , v_loss:  0.4922649810711543\n",
      "t_acc:  0.7133520074696545 , v_acc:  0.7950310559006211\n",
      "t_recall:  0.5366169830224674 , v_recall:  0.6864864864864866\n",
      "t_prec:  0.7365651305211387 , v_prec:  0.8260869565217391\n",
      "t_f:  0.4901048385860033 , v_f:  0.7077075424987622\n",
      "////////\n"
     ]
    },
    {
     "name": "stderr",
     "output_type": "stream",
     "text": [
      "\r",
      "Iterations:  93%|██████████████████████████████▌  | 278/300 [04:06<00:18,  1.19it/s]"
     ]
    },
    {
     "name": "stdout",
     "output_type": "stream",
     "text": [
      "Epoch  277 , loss 0.40400634034007205\n",
      "Epoch  278 , loss 0.405898625944175\n"
     ]
    },
    {
     "name": "stderr",
     "output_type": "stream",
     "text": [
      "\r",
      "Iterations:  93%|██████████████████████████████▋  | 279/300 [04:07<00:19,  1.10it/s]"
     ]
    },
    {
     "name": "stdout",
     "output_type": "stream",
     "text": [
      "Epoch:  278\n",
      "t_loss:  0.405898625944175 , v_loss:  0.4923232098420461\n",
      "t_acc:  0.712729536258948 , v_acc:  0.782608695652174\n",
      "t_recall:  0.5358820219321723 , v_recall:  0.6664864864864866\n",
      "t_prec:  0.7318168920836092 , v_prec:  0.8142857142857143\n",
      "t_f:  0.488997574391836 , v_f:  0.6838000112227147\n",
      "////////\n"
     ]
    },
    {
     "name": "stderr",
     "output_type": "stream",
     "text": [
      "\r",
      "Iterations:  93%|██████████████████████████████▊  | 280/300 [04:08<00:16,  1.20it/s]"
     ]
    },
    {
     "name": "stdout",
     "output_type": "stream",
     "text": [
      "Epoch  279 , loss 0.39969758543313716\n",
      "Epoch  280 , loss 0.4048771571879293\n"
     ]
    },
    {
     "name": "stderr",
     "output_type": "stream",
     "text": [
      "\r",
      "Iterations:  94%|██████████████████████████████▉  | 281/300 [04:09<00:17,  1.09it/s]"
     ]
    },
    {
     "name": "stdout",
     "output_type": "stream",
     "text": [
      "Epoch:  280\n",
      "t_loss:  0.4048771571879293 , v_loss:  0.4895374079545339\n",
      "t_acc:  0.7121070650482415 , v_acc:  0.8012422360248447\n",
      "t_recall:  0.5339969256529556 , v_recall:  0.6964864864864865\n",
      "t_prec:  0.736425908014966 , v_prec:  0.8316605839416058\n",
      "t_f:  0.48486527138896107 , v_f:  0.7192676547515258\n",
      "////////\n"
     ]
    },
    {
     "name": "stderr",
     "output_type": "stream",
     "text": [
      "\r",
      "Iterations:  94%|███████████████████████████████  | 282/300 [04:10<00:15,  1.18it/s]"
     ]
    },
    {
     "name": "stdout",
     "output_type": "stream",
     "text": [
      "Epoch  281 , loss 0.4107828712930866\n",
      "Epoch  282 , loss 0.40566516273161946\n"
     ]
    },
    {
     "name": "stderr",
     "output_type": "stream",
     "text": [
      "\r",
      "Iterations:  94%|███████████████████████████████▏ | 283/300 [04:11<00:15,  1.08it/s]"
     ]
    },
    {
     "name": "stdout",
     "output_type": "stream",
     "text": [
      "Epoch:  282\n",
      "t_loss:  0.40566516273161946 , v_loss:  0.4925990303357442\n",
      "t_acc:  0.7142857142857143 , v_acc:  0.7888198757763976\n",
      "t_recall:  0.536713056367604 , v_recall:  0.6764864864864866\n",
      "t_prec:  0.7528929604628736 , v_prec:  0.8203073904512754\n",
      "t_f:  0.4891414141414141 , v_f:  0.695888888888889\n",
      "////////\n"
     ]
    },
    {
     "name": "stderr",
     "output_type": "stream",
     "text": [
      "\r",
      "Iterations:  95%|███████████████████████████████▏ | 284/300 [04:11<00:13,  1.17it/s]"
     ]
    },
    {
     "name": "stdout",
     "output_type": "stream",
     "text": [
      "Epoch  283 , loss 0.4029832196001913\n",
      "Epoch  284 , loss 0.40062050667463567\n"
     ]
    },
    {
     "name": "stderr",
     "output_type": "stream",
     "text": [
      "\r",
      "Iterations:  95%|███████████████████████████████▎ | 285/300 [04:13<00:13,  1.09it/s]"
     ]
    },
    {
     "name": "stdout",
     "output_type": "stream",
     "text": [
      "Epoch:  284\n",
      "t_loss:  0.40062050667463567 , v_loss:  0.4913855741421382\n",
      "t_acc:  0.712729536258948 , v_acc:  0.7950310559006211\n",
      "t_recall:  0.5367446233238633 , v_recall:  0.6864864864864866\n",
      "t_prec:  0.7254399752996323 , v_prec:  0.8260869565217391\n",
      "t_f:  0.49123095353569385 , v_f:  0.7077075424987622\n",
      "////////\n"
     ]
    },
    {
     "name": "stderr",
     "output_type": "stream",
     "text": [
      "\r",
      "Iterations:  95%|███████████████████████████████▍ | 286/300 [04:13<00:11,  1.19it/s]"
     ]
    },
    {
     "name": "stdout",
     "output_type": "stream",
     "text": [
      "Epoch  285 , loss 0.40082061524484675\n",
      "Epoch  286 , loss 0.4119244212029027\n"
     ]
    },
    {
     "name": "stderr",
     "output_type": "stream",
     "text": [
      "\r",
      "Iterations:  96%|███████████████████████████████▌ | 287/300 [04:14<00:11,  1.10it/s]"
     ]
    },
    {
     "name": "stdout",
     "output_type": "stream",
     "text": [
      "Epoch:  286\n",
      "t_loss:  0.4119244212029027 , v_loss:  0.49182796974976856\n",
      "t_acc:  0.7108621226268285 , v_acc:  0.7950310559006211\n",
      "t_recall:  0.5339646724585169 , v_recall:  0.6864864864864866\n",
      "t_prec:  0.7156150347639709 , v_prec:  0.8260869565217391\n",
      "t_f:  0.4864279774597113 , v_f:  0.7077075424987622\n",
      "////////\n"
     ]
    },
    {
     "name": "stderr",
     "output_type": "stream",
     "text": [
      "\r",
      "Iterations:  96%|███████████████████████████████▋ | 288/300 [04:15<00:10,  1.19it/s]"
     ]
    },
    {
     "name": "stdout",
     "output_type": "stream",
     "text": [
      "Epoch  287 , loss 0.40398117373971376\n",
      "Epoch  288 , loss 0.4063579866699144\n"
     ]
    },
    {
     "name": "stderr",
     "output_type": "stream",
     "text": [
      "\r",
      "Iterations:  96%|███████████████████████████████▊ | 289/300 [04:16<00:10,  1.10it/s]"
     ]
    },
    {
     "name": "stdout",
     "output_type": "stream",
     "text": [
      "Epoch:  288\n",
      "t_loss:  0.4063579866699144 , v_loss:  0.4910624374945958\n",
      "t_acc:  0.7111733582321818 , v_acc:  0.8012422360248447\n",
      "t_recall:  0.5316005819299763 , v_recall:  0.6964864864864865\n",
      "t_prec:  0.7405635735480545 , v_prec:  0.8316605839416058\n",
      "t_f:  0.4797233253997613 , v_f:  0.7192676547515258\n",
      "////////\n"
     ]
    },
    {
     "name": "stderr",
     "output_type": "stream",
     "text": [
      "\r",
      "Iterations:  97%|███████████████████████████████▉ | 290/300 [04:17<00:08,  1.19it/s]"
     ]
    },
    {
     "name": "stdout",
     "output_type": "stream",
     "text": [
      "Epoch  289 , loss 0.3992113576215856\n",
      "Epoch  290 , loss 0.3968814821804271\n"
     ]
    },
    {
     "name": "stderr",
     "output_type": "stream",
     "text": [
      "\r",
      "Iterations:  97%|████████████████████████████████ | 291/300 [04:18<00:08,  1.10it/s]"
     ]
    },
    {
     "name": "stdout",
     "output_type": "stream",
     "text": [
      "Epoch:  290\n",
      "t_loss:  0.3968814821804271 , v_loss:  0.49152936041355133\n",
      "t_acc:  0.715219421101774 , v_acc:  0.7950310559006211\n",
      "t_recall:  0.5385343324961228 , v_recall:  0.6864864864864866\n",
      "t_prec:  0.7534422372134728 , v_prec:  0.8260869565217391\n",
      "t_f:  0.4926828973672926 , v_f:  0.7077075424987622\n",
      "////////\n"
     ]
    },
    {
     "name": "stderr",
     "output_type": "stream",
     "text": [
      "\r",
      "Iterations:  97%|████████████████████████████████ | 292/300 [04:18<00:06,  1.19it/s]"
     ]
    },
    {
     "name": "stdout",
     "output_type": "stream",
     "text": [
      "Epoch  291 , loss 0.4102966399753795\n",
      "Epoch  292 , loss 0.4051203558257982\n"
     ]
    },
    {
     "name": "stderr",
     "output_type": "stream",
     "text": [
      "\r",
      "Iterations:  98%|████████████████████████████████▏| 293/300 [04:20<00:06,  1.09it/s]"
     ]
    },
    {
     "name": "stdout",
     "output_type": "stream",
     "text": [
      "Epoch:  292\n",
      "t_loss:  0.4051203558257982 , v_loss:  0.48938289284706116\n",
      "t_acc:  0.7108621226268285 , v_acc:  0.8012422360248447\n",
      "t_recall:  0.5325270034723653 , v_recall:  0.6964864864864865\n",
      "t_prec:  0.7262035811550307 , v_prec:  0.8316605839416058\n",
      "t_f:  0.4826376617517241 , v_f:  0.7192676547515258\n",
      "////////\n"
     ]
    },
    {
     "name": "stderr",
     "output_type": "stream",
     "text": [
      "\r",
      "Iterations:  98%|████████████████████████████████▎| 294/300 [04:20<00:05,  1.19it/s]"
     ]
    },
    {
     "name": "stdout",
     "output_type": "stream",
     "text": [
      "Epoch  293 , loss 0.3977074190682056\n",
      "Epoch  294 , loss 0.4014269814771764\n"
     ]
    },
    {
     "name": "stderr",
     "output_type": "stream",
     "text": [
      "\r",
      "Iterations:  98%|████████████████████████████████▍| 295/300 [04:21<00:04,  1.10it/s]"
     ]
    },
    {
     "name": "stdout",
     "output_type": "stream",
     "text": [
      "Epoch:  294\n",
      "t_loss:  0.4014269814771764 , v_loss:  0.48999277750651044\n",
      "t_acc:  0.7142857142857143 , v_acc:  0.8012422360248447\n",
      "t_recall:  0.5387257929482164 , v_recall:  0.6964864864864865\n",
      "t_prec:  0.7356229053700467 , v_prec:  0.8316605839416058\n",
      "t_f:  0.4943547358503246 , v_f:  0.7192676547515258\n",
      "////////\n"
     ]
    },
    {
     "name": "stderr",
     "output_type": "stream",
     "text": [
      "\r",
      "Iterations:  99%|████████████████████████████████▌| 296/300 [04:22<00:03,  1.20it/s]"
     ]
    },
    {
     "name": "stdout",
     "output_type": "stream",
     "text": [
      "Epoch  295 , loss 0.4041309590433158\n",
      "Epoch  296 , loss 0.40117182860187456\n"
     ]
    },
    {
     "name": "stderr",
     "output_type": "stream",
     "text": [
      "\r",
      "Iterations:  99%|████████████████████████████████▋| 297/300 [04:23<00:02,  1.11it/s]"
     ]
    },
    {
     "name": "stdout",
     "output_type": "stream",
     "text": [
      "Epoch:  296\n",
      "t_loss:  0.40117182860187456 , v_loss:  0.49278393884499866\n",
      "t_acc:  0.7108621226268285 , v_acc:  0.7950310559006211\n",
      "t_recall:  0.5362649428363596 , v_recall:  0.6864864864864866\n",
      "t_prec:  0.7022570817662699 , v_prec:  0.8260869565217391\n",
      "t_f:  0.49234238792592483 , v_f:  0.7077075424987622\n",
      "////////\n"
     ]
    },
    {
     "name": "stderr",
     "output_type": "stream",
     "text": [
      "\r",
      "Iterations:  99%|████████████████████████████████▊| 298/300 [04:24<00:01,  1.21it/s]"
     ]
    },
    {
     "name": "stdout",
     "output_type": "stream",
     "text": [
      "Epoch  297 , loss 0.4083368094528423\n",
      "Epoch  298 , loss 0.4074268078102785\n"
     ]
    },
    {
     "name": "stderr",
     "output_type": "stream",
     "text": [
      "\r",
      "Iterations: 100%|████████████████████████████████▉| 299/300 [04:25<00:00,  1.11it/s]"
     ]
    },
    {
     "name": "stdout",
     "output_type": "stream",
     "text": [
      "Epoch:  298\n",
      "t_loss:  0.4074268078102785 , v_loss:  0.49157528579235077\n",
      "t_acc:  0.711484593837535 , v_acc:  0.8012422360248447\n",
      "t_recall:  0.5338370321571211 , v_recall:  0.6964864864864865\n",
      "t_prec:  0.7266409266409266 , v_prec:  0.8316605839416058\n",
      "t_f:  0.4852731432588683 , v_f:  0.7192676547515258\n",
      "////////\n"
     ]
    },
    {
     "name": "stderr",
     "output_type": "stream",
     "text": [
      "Iterations: 100%|█████████████████████████████████| 300/300 [04:25<00:00,  1.13it/s]"
     ]
    },
    {
     "name": "stdout",
     "output_type": "stream",
     "text": [
      "Epoch  299 , loss 0.3966907628026663\n"
     ]
    },
    {
     "name": "stderr",
     "output_type": "stream",
     "text": [
      "\n"
     ]
    },
    {
     "name": "stdout",
     "output_type": "stream",
     "text": [
      "108 21\n",
      "\n",
      "c0_acc 0.972972972972973 , c1_acc 0.42 , b_acc 0.6964864864864865\n",
      "User S01 f1: 0.7767440852994849 acc: 0.8012422360248447\n",
      " c0: 0.972972972972973 c1: 0.42 bacc: 0.6964864864864865\n",
      "average 0.7767440852994849\n",
      "\n",
      "0.6964864864864865\n",
      "0.42\n",
      "0.972972972972973\n"
     ]
    }
   ],
   "source": [
    "from utilities.userfold_framework import *\n",
    "from utilities.EEG_func import *\n",
    "import Models.model_func as Model_Func\n",
    "import numpy as np\n",
    "import pandas as pd\n",
    "import matplotlib.pyplot as plt\n",
    "import seaborn as sns\n",
    "from typing import List\n",
    "from torcheeg.models import EEGNet\n",
    "# import Models.model_func as Model_Func\n",
    "from torch import nn\n",
    "from Models.multi_models import *\n",
    "\n",
    "DEVICE= torch.device(\"cuda\") if torch.cuda.is_available() else torch.device(\"cpu\")\n",
    "\n",
    "learning_rate = 0.00005\n",
    "batch_size = 64\n",
    "n_epochs = 300\n",
    "transpose_channels=True\n",
    "participants_dictionary=[]\n",
    "# participants_online_dictionary=[]\n",
    "participants_grads_dictionary={}\n",
    "b_acc_list=[]\n",
    "c0_acc_list=[]\n",
    "c1_acc_list=[]\n",
    "\n",
    "# EPOCH=[\n",
    "    \n",
    "# ]\n",
    "\n",
    "for i in [0]:#range(len(participants)):\n",
    "\n",
    "    train_dataloader, val_dataloader, classes, input_dim, class_ratio= user_fold_load(i,\n",
    "                                                                                      raw_user_fold,\n",
    "                                                                                      participants,\n",
    "                                                                                      batch_size=batch_size,\n",
    "                                                                                      transpose_channels=transpose_channels)\n",
    "\n",
    "    classifier= EEGNet(\n",
    "        chunk_size=input_dim[1],\n",
    "        num_electrodes=input_dim[0],\n",
    "        num_classes=classes,\n",
    "        kernel_1= 32,\n",
    "        kernel_2=32,\n",
    "        F1=8,\n",
    "        F2=16,\n",
    "        dropout=0.5\n",
    "    ).to(DEVICE)\n",
    "    \n",
    "#     resnet = ResNetPlus(input_dim[0], classes, bn_1st=False)\n",
    "#     softmax_activation = nn.LogSoftmax(dim=1)\n",
    "#     classifier = nn.Sequential(resnet, softmax_activation).to(DEVICE)\n",
    "\n",
    "    \n",
    "#     classifier = DataGliderBasic_Model(DEVICE, input_dim, classes)\n",
    "#     classifier.to(DEVICE)\n",
    "    \n",
    "#     optimizer= torch.optim.RMSprop(classifier.parameters(), lr=learning_rate)\n",
    "    \n",
    "    \n",
    "    criterion= torch.nn.CrossEntropyLoss(weight=torch.tensor(class_ratio, dtype=torch.float).to(DEVICE))\n",
    "#     criterion = nn.NLLLoss(weight=torch.tensor(class_ratio, dtype=torch.float).to(DEVICE))\n",
    "        \n",
    "    saved_dir= \"./EEG/saved_models/Userfold/run0\"\n",
    "    model = EEGNet_IE_TS_Wrapper(DEVICE, classifier, input_dim[1]).to(DEVICE)\n",
    "    optimizer = torch.optim.Adam(classifier.parameters(), lr = learning_rate)\n",
    "    scheduler= torch.optim.lr_scheduler.ReduceLROnPlateau(optimizer, patience=2)\n",
    "\n",
    "    \n",
    "    train_func= eeg_grad_train\n",
    "    model.training_procedure(iteration=n_epochs,\n",
    "                                    train_dataloader=train_dataloader,\n",
    "                                     val_dataloader=val_dataloader,\n",
    "                                     print_cycle=2,\n",
    "                                     path=f\"./dictionary/intermdiate_dicts\",\n",
    "                                     loss_func=criterion,\n",
    "                                     optimiser=optimizer, #scheduler=scheduler,\n",
    "                                     train_func=train_func\n",
    "                                    )\n",
    "    if model.epoch == n_epochs+1:\n",
    "        EPOCH= n_epochs\n",
    "    else:\n",
    "        EPOCH= model.epoch\n",
    "    \n",
    "#     torch.save(model.state_dict(), \n",
    "#            os.path.join(\n",
    "#                saved_dir, f\"Userfold-{participants[i]}-EEGNet-Grad_TS-e{EPOCH}.pt\"\n",
    "#            )\n",
    "#     )\n",
    "\n",
    "#     pickle.dump( model.return_IE_grad(), \n",
    "#                 open(f\"{saved_dir}/Userfold-{participants[i]}-EEGNet-Grad_TS-grad_all-e{EPOCH}.pkl\", \"wb\") \n",
    "#                )    \n",
    "\n",
    "# OR\n",
    "#     model.load_state_dict(\n",
    "#     torch.load(\n",
    "#         open(\n",
    "#             os.path.join(\n",
    "#                 saved_dir, f\"Userfold-{participants[i]}-EEGNet-Grad_TS-e{n_epochs}.pt\"\n",
    "#             ), \"rb\"\n",
    "#         )\n",
    "#               )\n",
    "#     )\n",
    "#     pickle.load( \n",
    "#                 open(f\"{saved_dir}/Userfold-{participants[i]}-EEGNet-Grad_TS-w-e{EPOCH}.pkl\", \"rb\") \n",
    "#                )  \n",
    "    \n",
    "    prediction, dictionary= model.prediction_procedure(val_dataloader, dict_flag=True)\n",
    "    \n",
    "    ys= np.concatenate([y.detach().cpu().numpy() for x, y in val_dataloader])\n",
    "    \n",
    "    c0_acc, c1_acc, b_acc= calculate_accuracy(ys, prediction)\n",
    "    print(\"c0_acc\", c0_acc, \", c1_acc\", c1_acc, \", b_acc\", b_acc)\n",
    "    b_acc_list.append(b_acc)\n",
    "    c0_acc_list.append(c0_acc)\n",
    "    c1_acc_list.append(c1_acc)\n",
    "    participants_dictionary.append(dictionary)\n",
    "    \n",
    "\n",
    "tmp=[]\n",
    "for i, dictionary in enumerate(participants_dictionary):\n",
    "    print(f\"User {participants[i]} f1: {dictionary['weighted avg']['f1-score']} acc: {dictionary['accuracy']}\")\n",
    "    print(f\" c0: {c0_acc_list[i]} c1: {c1_acc_list[i]} bacc: {b_acc_list[i]}\")\n",
    "    tmp.append(dictionary['weighted avg']['f1-score'])\n",
    "\n",
    "print(f\"average {np.mean(tmp)}\")\n",
    "print()\n",
    "print(np.array(b_acc_list).mean())\n",
    "print(np.array(c1_acc_list).mean())\n",
    "print(np.array(c0_acc_list).mean())\n"
   ]
  },
  {
   "cell_type": "code",
   "execution_count": 13,
   "id": "eb9de653",
   "metadata": {},
   "outputs": [
    {
     "ename": "IndexError",
     "evalue": "list index out of range",
     "output_type": "error",
     "traceback": [
      "\u001b[0;31m---------------------------------------------------------------------------\u001b[0m",
      "\u001b[0;31mIndexError\u001b[0m                                Traceback (most recent call last)",
      "\u001b[0;32m/tmp/ipykernel_1958636/2067081348.py\u001b[0m in \u001b[0;36m<module>\u001b[0;34m\u001b[0m\n\u001b[0;32m----> 1\u001b[0;31m \u001b[0muserfold_results_summary\u001b[0m\u001b[0;34m(\u001b[0m\u001b[0mparticipants_dictionary\u001b[0m\u001b[0;34m,\u001b[0m \u001b[0mparticipants\u001b[0m\u001b[0;34m)\u001b[0m\u001b[0;34m\u001b[0m\u001b[0;34m\u001b[0m\u001b[0m\n\u001b[0m\u001b[1;32m      2\u001b[0m \u001b[0muserfold_classwise_results_summary\u001b[0m\u001b[0;34m(\u001b[0m\u001b[0mparticipants_dictionary\u001b[0m\u001b[0;34m,\u001b[0m \u001b[0mparticipants\u001b[0m\u001b[0;34m)\u001b[0m\u001b[0;34m\u001b[0m\u001b[0;34m\u001b[0m\u001b[0m\n",
      "\u001b[0;32m~/github/pairwise-importance-estimate-extension-with-time-series-adaptation/utilities/userfold_framework.py\u001b[0m in \u001b[0;36muserfold_results_summary\u001b[0;34m(fold_dictionaries, participants)\u001b[0m\n\u001b[1;32m     58\u001b[0m     \u001b[0;32mfor\u001b[0m \u001b[0mi\u001b[0m \u001b[0;32min\u001b[0m \u001b[0mrange\u001b[0m\u001b[0;34m(\u001b[0m\u001b[0mlen\u001b[0m\u001b[0;34m(\u001b[0m\u001b[0mparticipants\u001b[0m\u001b[0;34m)\u001b[0m\u001b[0;34m)\u001b[0m\u001b[0;34m:\u001b[0m\u001b[0;34m\u001b[0m\u001b[0;34m\u001b[0m\u001b[0m\n\u001b[1;32m     59\u001b[0m     \u001b[0;31m#     dictionaries.append({'participant':participants[i], 'accuracy':fold_average[i]['accuracy'], 'f1-score':fold_average[i]['weighted avg']['f1-score']})\u001b[0m\u001b[0;34m\u001b[0m\u001b[0;34m\u001b[0m\u001b[0;34m\u001b[0m\u001b[0m\n\u001b[0;32m---> 60\u001b[0;31m         \u001b[0mdictionaries\u001b[0m\u001b[0;34m.\u001b[0m\u001b[0mappend\u001b[0m\u001b[0;34m(\u001b[0m\u001b[0;34m{\u001b[0m\u001b[0;34m'accuracy'\u001b[0m\u001b[0;34m:\u001b[0m\u001b[0mfold_dictionaries\u001b[0m\u001b[0;34m[\u001b[0m\u001b[0mi\u001b[0m\u001b[0;34m]\u001b[0m\u001b[0;34m[\u001b[0m\u001b[0;34m'accuracy'\u001b[0m\u001b[0;34m]\u001b[0m\u001b[0;34m,\u001b[0m \u001b[0;34m'f1-score'\u001b[0m\u001b[0;34m:\u001b[0m\u001b[0mfold_dictionaries\u001b[0m\u001b[0;34m[\u001b[0m\u001b[0mi\u001b[0m\u001b[0;34m]\u001b[0m\u001b[0;34m[\u001b[0m\u001b[0;34m'weighted avg'\u001b[0m\u001b[0;34m]\u001b[0m\u001b[0;34m[\u001b[0m\u001b[0;34m'f1-score'\u001b[0m\u001b[0;34m]\u001b[0m\u001b[0;34m}\u001b[0m\u001b[0;34m)\u001b[0m\u001b[0;34m\u001b[0m\u001b[0;34m\u001b[0m\u001b[0m\n\u001b[0m\u001b[1;32m     61\u001b[0m \u001b[0;34m\u001b[0m\u001b[0m\n\u001b[1;32m     62\u001b[0m     \u001b[0msns\u001b[0m\u001b[0;34m.\u001b[0m\u001b[0mheatmap\u001b[0m\u001b[0;34m(\u001b[0m\u001b[0mpd\u001b[0m\u001b[0;34m.\u001b[0m\u001b[0mDataFrame\u001b[0m\u001b[0;34m(\u001b[0m\u001b[0mdictionaries\u001b[0m\u001b[0;34m,\u001b[0m \u001b[0mindex\u001b[0m\u001b[0;34m=\u001b[0m\u001b[0mparticipants\u001b[0m\u001b[0;34m)\u001b[0m\u001b[0;34m,\u001b[0m \u001b[0mvmin\u001b[0m\u001b[0;34m=\u001b[0m\u001b[0;36m0\u001b[0m\u001b[0;34m,\u001b[0m \u001b[0mvmax\u001b[0m\u001b[0;34m=\u001b[0m\u001b[0;36m1\u001b[0m\u001b[0;34m)\u001b[0m\u001b[0;34m\u001b[0m\u001b[0;34m\u001b[0m\u001b[0m\n",
      "\u001b[0;31mIndexError\u001b[0m: list index out of range"
     ]
    }
   ],
   "source": [
    "userfold_results_summary(participants_dictionary, participants)\n",
    "userfold_classwise_results_summary(participants_dictionary, participants)\n"
   ]
  },
  {
   "cell_type": "code",
   "execution_count": 8,
   "id": "a337e13b",
   "metadata": {},
   "outputs": [
    {
     "data": {
      "text/plain": [
       "array([1.0195702 , 0.98991334, 0.98931396, 1.0119187 , 0.9500421 ,\n",
       "       1.0051342 , 1.0161706 , 0.97315997, 1.0279183 , 1.0489782 ,\n",
       "       1.004604  , 0.9855444 , 1.0191396 , 0.98882616, 1.0202456 ,\n",
       "       1.0420084 , 0.998871  , 1.0053743 , 0.9608169 , 1.0027977 ,\n",
       "       0.97733986, 1.0049847 , 0.99244595, 0.992699  , 0.98052275,\n",
       "       1.0038934 , 1.0224276 , 0.9800595 , 0.9673722 , 0.97339386,\n",
       "       1.0022808 , 1.0092655 ], dtype=float32)"
      ]
     },
     "execution_count": 8,
     "metadata": {},
     "output_type": "execute_result"
    }
   ],
   "source": [
    "model.return_IE_weights()"
   ]
  }
 ],
 "metadata": {
  "kernelspec": {
   "display_name": "Python [conda env:pytorch]",
   "language": "python",
   "name": "conda-env-pytorch-py"
  },
  "language_info": {
   "codemirror_mode": {
    "name": "ipython",
    "version": 3
   },
   "file_extension": ".py",
   "mimetype": "text/x-python",
   "name": "python",
   "nbconvert_exporter": "python",
   "pygments_lexer": "ipython3",
   "version": "3.7.10"
  }
 },
 "nbformat": 4,
 "nbformat_minor": 5
}
