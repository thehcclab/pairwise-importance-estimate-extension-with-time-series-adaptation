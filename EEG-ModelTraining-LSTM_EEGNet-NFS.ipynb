{
 "cells": [
  {
   "cell_type": "code",
   "execution_count": 1,
   "id": "4c9e593e",
   "metadata": {},
   "outputs": [],
   "source": [
    "import numpy as np\n",
    "import pickle\n",
    "import sys\n",
    "from typing import List\n",
    "import torch\n",
    "import os"
   ]
  },
  {
   "cell_type": "code",
   "execution_count": 2,
   "id": "eb96ce98",
   "metadata": {},
   "outputs": [],
   "source": [
    "participant_data_path = './EEG/number'\n",
    "processed_data_path = './EEG/processed_data'\n",
    "split_data_path = './EEG/split_data'"
   ]
  },
  {
   "cell_type": "code",
   "execution_count": 3,
   "id": "62c74d3a",
   "metadata": {},
   "outputs": [],
   "source": [
    "ps = os.listdir(participant_data_path)\n",
    "participants=[]\n",
    "for p in ps:\n",
    "    p= p[:3]\n",
    "    if p not in participants:\n",
    "        participants.append(p)\n",
    "        \n",
    "participants= sorted(participants)\n",
    "# participants, len(participants)"
   ]
  },
  {
   "cell_type": "code",
   "execution_count": 4,
   "id": "28f3009e",
   "metadata": {
    "scrolled": true
   },
   "outputs": [],
   "source": [
    "load_name=f\"userfold_data_scaled_p_dictionary-number\"\n",
    "data_dir = \"./EEG/split_data/standard_scaled\"\n",
    "try:\n",
    "    raw_user_fold= pickle.load(open(os.path.join(data_dir, f\"{load_name}.pkl\"), \"rb\"))\n",
    "except:\n",
    "    print(f\"pickle file does not exist. Use EEG-Preprocess.ipynb and EEG-Split.ipynb to save data setting.\")\n",
    "    sys.exit()"
   ]
  },
  {
   "cell_type": "code",
   "execution_count": null,
   "id": "082a80ac",
   "metadata": {
    "scrolled": true
   },
   "outputs": [
    {
     "name": "stderr",
     "output_type": "stream",
     "text": [
      "\r",
      "Iterations:   0%|                                           | 0/300 [00:00<?, ?it/s]"
     ]
    },
    {
     "name": "stdout",
     "output_type": "stream",
     "text": [
      "Epoch  0 , loss 0.7240370067895627\n"
     ]
    },
    {
     "name": "stderr",
     "output_type": "stream",
     "text": [
      "\r",
      "Iterations:   0%|                                   | 1/300 [00:03<17:08,  3.44s/it]"
     ]
    },
    {
     "name": "stdout",
     "output_type": "stream",
     "text": [
      "Epoch:  0\n",
      "t_loss:  0.7240370067895627 , v_loss:  0.6964224179585775\n",
      "t_acc:  0.4609399315281668 , v_acc:  0.3105590062111801\n",
      "t_recall:  0.47192393736017896 , v_recall:  0.5\n",
      "t_prec:  0.4760751271299431 , v_prec:  0.15527950310559005\n",
      "t_f:  0.4473965180986578 , v_f:  0.23696682464454977\n",
      "////////\n"
     ]
    },
    {
     "name": "stderr",
     "output_type": "stream",
     "text": [
      "\r",
      "Iterations:   1%|▏                                  | 2/300 [00:04<10:12,  2.05s/it]"
     ]
    },
    {
     "name": "stdout",
     "output_type": "stream",
     "text": [
      "Epoch  1 , loss 0.6890675542401332\n",
      "Epoch  2 , loss 0.6563243258233163\n"
     ]
    },
    {
     "name": "stderr",
     "output_type": "stream",
     "text": [
      "\r",
      "Iterations:   1%|▎                                  | 3/300 [00:05<08:34,  1.73s/it]"
     ]
    },
    {
     "name": "stdout",
     "output_type": "stream",
     "text": [
      "Epoch:  2\n",
      "t_loss:  0.6563243258233163 , v_loss:  0.7002917726834615\n",
      "t_acc:  0.5701836290071585 , v_acc:  0.3105590062111801\n",
      "t_recall:  0.4986913437916032 , v_recall:  0.5\n",
      "t_prec:  0.4987218681412956 , v_prec:  0.15527950310559005\n",
      "t_f:  0.49860258794407364 , v_f:  0.23696682464454977\n",
      "////////\n"
     ]
    },
    {
     "name": "stderr",
     "output_type": "stream",
     "text": [
      "\r",
      "Iterations:   1%|▍                                  | 4/300 [00:06<06:43,  1.36s/it]"
     ]
    },
    {
     "name": "stdout",
     "output_type": "stream",
     "text": [
      "Epoch  3 , loss 0.6380031985395095\n",
      "Epoch  4 , loss 0.6057250476350972\n"
     ]
    },
    {
     "name": "stderr",
     "output_type": "stream",
     "text": [
      "\r",
      "Iterations:   2%|▌                                  | 5/300 [00:08<06:58,  1.42s/it]"
     ]
    },
    {
     "name": "stdout",
     "output_type": "stream",
     "text": [
      "Epoch:  4\n",
      "t_loss:  0.6057250476350972 , v_loss:  0.6943090756734213\n",
      "t_acc:  0.6349206349206349 , v_acc:  0.4472049689440994\n",
      "t_recall:  0.5015186450913383 , v_recall:  0.5606306306306306\n",
      "t_prec:  0.5024118383883005 , v_prec:  0.5747777777777778\n",
      "t_f:  0.48683297357553684 , v_f:  0.44299319727891157\n",
      "////////\n"
     ]
    },
    {
     "name": "stderr",
     "output_type": "stream",
     "text": [
      "\r",
      "Iterations:   2%|▋                                  | 6/300 [00:09<06:27,  1.32s/it]"
     ]
    },
    {
     "name": "stdout",
     "output_type": "stream",
     "text": [
      "Epoch  5 , loss 0.5885747156891168\n",
      "Epoch  6 , loss 0.5689798231218376\n"
     ]
    },
    {
     "name": "stderr",
     "output_type": "stream",
     "text": [
      "\r",
      "Iterations:   2%|▊                                  | 7/300 [00:10<06:23,  1.31s/it]"
     ]
    },
    {
     "name": "stdout",
     "output_type": "stream",
     "text": [
      "Epoch:  6\n",
      "t_loss:  0.5689798231218376 , v_loss:  0.6759514411290487\n",
      "t_acc:  0.6588857765328353 , v_acc:  0.6832298136645962\n",
      "t_recall:  0.49229148652914456 , v_recall:  0.5504504504504505\n",
      "t_prec:  0.477085486590872 , v_prec:  0.5952380952380952\n",
      "t_f:  0.44763332915045806 , v_f:  0.5392514449245271\n",
      "////////\n"
     ]
    },
    {
     "name": "stderr",
     "output_type": "stream",
     "text": [
      "\r",
      "Iterations:   3%|▉                                  | 8/300 [00:11<06:01,  1.24s/it]"
     ]
    },
    {
     "name": "stdout",
     "output_type": "stream",
     "text": [
      "Epoch  7 , loss 0.5412344418320001\n",
      "Epoch  8 , loss 0.5327975679846371\n"
     ]
    },
    {
     "name": "stderr",
     "output_type": "stream",
     "text": [
      "\r",
      "Iterations:   3%|█                                  | 9/300 [00:13<06:23,  1.32s/it]"
     ]
    },
    {
     "name": "stdout",
     "output_type": "stream",
     "text": [
      "Epoch:  8\n",
      "t_loss:  0.5327975679846371 , v_loss:  0.6573959390322367\n",
      "t_acc:  0.6856520385932151 , v_acc:  0.6956521739130435\n",
      "t_recall:  0.5003170420389509 , v_recall:  0.5154954954954954\n",
      "t_prec:  0.5026366251198466 , v_prec:  0.6814345991561181\n",
      "t_f:  0.43033594964547073 , v_f:  0.44665778214210566\n",
      "////////\n"
     ]
    },
    {
     "name": "stderr",
     "output_type": "stream",
     "text": [
      "\r",
      "Iterations:   3%|█▏                                | 10/300 [00:14<05:44,  1.19s/it]"
     ]
    },
    {
     "name": "stdout",
     "output_type": "stream",
     "text": [
      "Epoch  9 , loss 0.5187460698333441\n",
      "Epoch  10 , loss 0.5091246682054856\n"
     ]
    },
    {
     "name": "stderr",
     "output_type": "stream",
     "text": [
      "\r",
      "Iterations:   4%|█▏                                | 11/300 [00:15<06:01,  1.25s/it]"
     ]
    },
    {
     "name": "stdout",
     "output_type": "stream",
     "text": [
      "Epoch:  10\n",
      "t_loss:  0.5091246682054856 , v_loss:  0.6497404177983602\n",
      "t_acc:  0.6921879863056334 , v_acc:  0.6894409937888198\n",
      "t_recall:  0.501564623049368 , v_recall:  0.5\n",
      "t_prec:  0.5276283263050748 , v_prec:  0.3447204968944099\n",
      "t_f:  0.422344273801285 , v_f:  0.4080882352941176\n",
      "////////\n"
     ]
    },
    {
     "name": "stderr",
     "output_type": "stream",
     "text": [
      "\r",
      "Iterations:   4%|█▎                                | 12/300 [00:16<05:38,  1.18s/it]"
     ]
    },
    {
     "name": "stdout",
     "output_type": "stream",
     "text": [
      "Epoch  11 , loss 0.49610013704673916\n",
      "Epoch  12 , loss 0.4954569941642238\n"
     ]
    },
    {
     "name": "stderr",
     "output_type": "stream",
     "text": [
      "\r",
      "Iterations:   4%|█▍                                | 13/300 [00:18<06:09,  1.29s/it]"
     ]
    },
    {
     "name": "stdout",
     "output_type": "stream",
     "text": [
      "Epoch:  12\n",
      "t_loss:  0.4954569941642238 , v_loss:  0.6486794253190359\n",
      "t_acc:  0.6924992219109866 , v_acc:  0.6894409937888198\n",
      "t_recall:  0.4986254649263666 , v_recall:  0.5\n",
      "t_prec:  0.4412632937128558 , v_prec:  0.3447204968944099\n",
      "t_f:  0.41207554605986435 , v_f:  0.4080882352941176\n",
      "////////\n"
     ]
    },
    {
     "name": "stderr",
     "output_type": "stream",
     "text": [
      "\r",
      "Iterations:   5%|█▌                                | 14/300 [00:18<05:40,  1.19s/it]"
     ]
    },
    {
     "name": "stdout",
     "output_type": "stream",
     "text": [
      "Epoch  13 , loss 0.481462043874404\n",
      "Epoch  14 , loss 0.47796855837691066\n"
     ]
    },
    {
     "name": "stderr",
     "output_type": "stream",
     "text": [
      "\r",
      "Iterations:   5%|█▋                                | 15/300 [00:20<06:03,  1.27s/it]"
     ]
    },
    {
     "name": "stdout",
     "output_type": "stream",
     "text": [
      "Epoch:  14\n",
      "t_loss:  0.47796855837691066 , v_loss:  0.650721549987793\n",
      "t_acc:  0.6953003423591659 , v_acc:  0.6894409937888198\n",
      "t_recall:  0.50178902293408 , v_recall:  0.5\n",
      "t_prec:  0.5815196998123827 , v_prec:  0.3447204968944099\n",
      "t_f:  0.4169517934208704 , v_f:  0.4080882352941176\n",
      "////////\n"
     ]
    },
    {
     "name": "stderr",
     "output_type": "stream",
     "text": [
      "\r",
      "Iterations:   5%|█▊                                | 16/300 [00:21<05:55,  1.25s/it]"
     ]
    },
    {
     "name": "stdout",
     "output_type": "stream",
     "text": [
      "Epoch  15 , loss 0.4753693926568125\n",
      "Epoch  16 , loss 0.468987925379884\n"
     ]
    },
    {
     "name": "stderr",
     "output_type": "stream",
     "text": [
      "\r",
      "Iterations:   6%|█▉                                | 17/300 [00:23<06:02,  1.28s/it]"
     ]
    },
    {
     "name": "stdout",
     "output_type": "stream",
     "text": [
      "Epoch:  16\n",
      "t_loss:  0.468987925379884 , v_loss:  0.6545481483141581\n",
      "t_acc:  0.6956115779645191 , v_acc:  0.6894409937888198\n",
      "t_recall:  0.5011501351889214 , v_recall:  0.5\n",
      "t_prec:  0.5980499219968799 , v_prec:  0.3447204968944099\n",
      "t_f:  0.41416708924949286 , v_f:  0.4080882352941176\n",
      "////////\n"
     ]
    },
    {
     "name": "stderr",
     "output_type": "stream",
     "text": [
      "\r",
      "Iterations:   6%|██                                | 18/300 [00:23<05:27,  1.16s/it]"
     ]
    },
    {
     "name": "stdout",
     "output_type": "stream",
     "text": [
      "Epoch  17 , loss 0.4698692495916404\n",
      "Epoch  18 , loss 0.465598964808034\n"
     ]
    },
    {
     "name": "stderr",
     "output_type": "stream",
     "text": [
      "\r",
      "Iterations:   6%|██▏                               | 19/300 [00:25<05:56,  1.27s/it]"
     ]
    },
    {
     "name": "stdout",
     "output_type": "stream",
     "text": [
      "Epoch:  18\n",
      "t_loss:  0.465598964808034 , v_loss:  0.657879481712977\n",
      "t_acc:  0.6959228135698724 , v_acc:  0.6894409937888198\n",
      "t_recall:  0.5007987812409931 , v_recall:  0.5\n",
      "t_prec:  0.6813084112149532 , v_prec:  0.3447204968944099\n",
      "t_f:  0.41232340081380947 , v_f:  0.4080882352941176\n",
      "////////\n"
     ]
    },
    {
     "name": "stderr",
     "output_type": "stream",
     "text": [
      "\r",
      "Iterations:   7%|██▎                               | 20/300 [00:26<05:50,  1.25s/it]"
     ]
    },
    {
     "name": "stdout",
     "output_type": "stream",
     "text": [
      "Epoch  19 , loss 0.4639671836413589\n",
      "Epoch  20 , loss 0.46116774748353395\n"
     ]
    },
    {
     "name": "stderr",
     "output_type": "stream",
     "text": [
      "\r",
      "Iterations:   7%|██▍                               | 21/300 [00:27<05:55,  1.27s/it]"
     ]
    },
    {
     "name": "stdout",
     "output_type": "stream",
     "text": [
      "Epoch:  20\n",
      "t_loss:  0.46116774748353395 , v_loss:  0.6594272951285044\n",
      "t_acc:  0.6956115779645191 , v_acc:  0.6894409937888198\n",
      "t_recall:  0.5005750675944607 , v_recall:  0.5\n",
      "t_prec:  0.5979277033343721 , v_prec:  0.3447204968944099\n",
      "t_f:  0.4122130008035903 , v_f:  0.4080882352941176\n",
      "////////\n"
     ]
    },
    {
     "name": "stderr",
     "output_type": "stream",
     "text": [
      "\r",
      "Iterations:   7%|██▍                               | 22/300 [00:28<05:20,  1.15s/it]"
     ]
    },
    {
     "name": "stdout",
     "output_type": "stream",
     "text": [
      "Epoch  21 , loss 0.4528684212880976\n",
      "Epoch  22 , loss 0.45513970010420857\n"
     ]
    },
    {
     "name": "stderr",
     "output_type": "stream",
     "text": [
      "\r",
      "Iterations:   8%|██▌                               | 23/300 [00:30<05:51,  1.27s/it]"
     ]
    },
    {
     "name": "stdout",
     "output_type": "stream",
     "text": [
      "Epoch:  22\n",
      "t_loss:  0.45513970010420857 , v_loss:  0.661751796801885\n",
      "t_acc:  0.6953003423591659 , v_acc:  0.6894409937888198\n",
      "t_recall:  0.500063820150698 , v_recall:  0.5\n",
      "t_prec:  0.5144859813084112 , v_prec:  0.3447204968944099\n",
      "t_f:  0.4111203780928551 , v_f:  0.4080882352941176\n",
      "////////\n"
     ]
    },
    {
     "name": "stderr",
     "output_type": "stream",
     "text": [
      "\r",
      "Iterations:   8%|██▋                               | 24/300 [00:31<05:18,  1.15s/it]"
     ]
    },
    {
     "name": "stdout",
     "output_type": "stream",
     "text": [
      "Epoch  23 , loss 0.4588208017395992\n",
      "Epoch  24 , loss 0.45495443192182805\n"
     ]
    },
    {
     "name": "stderr",
     "output_type": "stream",
     "text": [
      "\r",
      "Iterations:   8%|██▊                               | 25/300 [00:32<05:49,  1.27s/it]"
     ]
    },
    {
     "name": "stdout",
     "output_type": "stream",
     "text": [
      "Epoch:  24\n",
      "t_loss:  0.45495443192182805 , v_loss:  0.6611071129639944\n",
      "t_acc:  0.6956115779645191 , v_acc:  0.6894409937888198\n",
      "t_recall:  0.5002875337972303 , v_recall:  0.5\n",
      "t_prec:  0.5978667081905948 , v_prec:  0.3447204968944099\n",
      "t_f:  0.4112297361103825 , v_f:  0.4080882352941176\n",
      "////////\n"
     ]
    },
    {
     "name": "stderr",
     "output_type": "stream",
     "text": [
      "\r",
      "Iterations:   9%|██▉                               | 26/300 [00:33<05:20,  1.17s/it]"
     ]
    },
    {
     "name": "stdout",
     "output_type": "stream",
     "text": [
      "Epoch  25 , loss 0.4530780718607061\n",
      "Epoch  26 , loss 0.454765647649765\n"
     ]
    },
    {
     "name": "stderr",
     "output_type": "stream",
     "text": [
      "\r",
      "Iterations:   9%|███                               | 27/300 [00:35<05:42,  1.25s/it]"
     ]
    },
    {
     "name": "stdout",
     "output_type": "stream",
     "text": [
      "Epoch:  26\n",
      "t_loss:  0.454765647649765 , v_loss:  0.6600419580936432\n",
      "t_acc:  0.6953003423591659 , v_acc:  0.6894409937888198\n",
      "t_recall:  0.49977628635346755 , v_recall:  0.5\n",
      "t_prec:  0.34775840597758406 , v_prec:  0.3447204968944099\n",
      "t_f:  0.41013401872590416 , v_f:  0.4080882352941176\n",
      "////////\n"
     ]
    },
    {
     "name": "stderr",
     "output_type": "stream",
     "text": [
      "\r",
      "Iterations:   9%|███▏                              | 28/300 [00:36<05:17,  1.17s/it]"
     ]
    },
    {
     "name": "stdout",
     "output_type": "stream",
     "text": [
      "Epoch  27 , loss 0.45412125131663156\n",
      "Epoch  28 , loss 0.448671385938046\n"
     ]
    },
    {
     "name": "stderr",
     "output_type": "stream",
     "text": [
      "\r",
      "Iterations:  10%|███▎                              | 29/300 [00:37<05:45,  1.28s/it]"
     ]
    },
    {
     "name": "stdout",
     "output_type": "stream",
     "text": [
      "Epoch:  28\n",
      "t_loss:  0.448671385938046 , v_loss:  0.6582770943641663\n",
      "t_acc:  0.6953003423591659 , v_acc:  0.6894409937888198\n",
      "t_recall:  0.5003513539479283 , v_recall:  0.5\n",
      "t_prec:  0.5478802992518703 , v_prec:  0.3447204968944099\n",
      "t_f:  0.41210256521437655 , v_f:  0.4080882352941176\n",
      "////////\n"
     ]
    },
    {
     "name": "stderr",
     "output_type": "stream",
     "text": [
      "\r",
      "Iterations:  10%|███▍                              | 30/300 [00:38<05:28,  1.22s/it]"
     ]
    },
    {
     "name": "stdout",
     "output_type": "stream",
     "text": [
      "Epoch  29 , loss 0.45063703901627483\n",
      "Epoch  30 , loss 0.4442097509608549\n"
     ]
    },
    {
     "name": "stderr",
     "output_type": "stream",
     "text": [
      "\r",
      "Iterations:  10%|███▌                              | 31/300 [00:40<05:37,  1.26s/it]"
     ]
    },
    {
     "name": "stdout",
     "output_type": "stream",
     "text": [
      "Epoch:  30\n",
      "t_loss:  0.4442097509608549 , v_loss:  0.6578882038593292\n",
      "t_acc:  0.6956115779645191 , v_acc:  0.6894409937888198\n",
      "t_recall:  0.5002875337972303 , v_recall:  0.5\n",
      "t_prec:  0.5978667081905948 , v_prec:  0.3447204968944099\n",
      "t_f:  0.4112297361103825 , v_f:  0.4080882352941176\n",
      "////////\n"
     ]
    },
    {
     "name": "stderr",
     "output_type": "stream",
     "text": [
      "\r",
      "Iterations:  11%|███▋                              | 32/300 [00:41<05:09,  1.15s/it]"
     ]
    },
    {
     "name": "stdout",
     "output_type": "stream",
     "text": [
      "Epoch  31 , loss 0.44314174324858424\n",
      "Epoch  32 , loss 0.45179930446194666\n"
     ]
    },
    {
     "name": "stderr",
     "output_type": "stream",
     "text": [
      "\r",
      "Iterations:  11%|███▋                              | 33/300 [00:42<05:45,  1.29s/it]"
     ]
    },
    {
     "name": "stdout",
     "output_type": "stream",
     "text": [
      "Epoch:  32\n",
      "t_loss:  0.45179930446194666 , v_loss:  0.6569247345129648\n",
      "t_acc:  0.6949891067538126 , v_acc:  0.6894409937888198\n",
      "t_recall:  0.49955257270693515 , v_recall:  0.5\n",
      "t_prec:  0.3477109934599813 , v_prec:  0.3447204968944099\n",
      "t_f:  0.41002570694087404 , v_f:  0.4080882352941176\n",
      "////////\n"
     ]
    },
    {
     "name": "stderr",
     "output_type": "stream",
     "text": [
      "\r",
      "Iterations:  11%|███▊                              | 34/300 [00:43<05:27,  1.23s/it]"
     ]
    },
    {
     "name": "stdout",
     "output_type": "stream",
     "text": [
      "Epoch  33 , loss 0.4450999848982867\n",
      "Epoch  34 , loss 0.4431491348088956\n"
     ]
    },
    {
     "name": "stderr",
     "output_type": "stream",
     "text": [
      "\r",
      "Iterations:  12%|███▉                              | 35/300 [00:45<05:37,  1.27s/it]"
     ]
    },
    {
     "name": "stdout",
     "output_type": "stream",
     "text": [
      "Epoch:  34\n",
      "t_loss:  0.4431491348088956 , v_loss:  0.6529366075992584\n",
      "t_acc:  0.6956115779645191 , v_acc:  0.6894409937888198\n",
      "t_recall:  0.500862601391691 , v_recall:  0.5\n",
      "t_prec:  0.5979887745556596 , v_prec:  0.3447204968944099\n",
      "t_f:  0.4131921101460188 , v_f:  0.4080882352941176\n",
      "////////\n"
     ]
    },
    {
     "name": "stderr",
     "output_type": "stream",
     "text": [
      "\r",
      "Iterations:  12%|████                              | 36/300 [00:46<05:30,  1.25s/it]"
     ]
    },
    {
     "name": "stdout",
     "output_type": "stream",
     "text": [
      "Epoch  35 , loss 0.443514157744015\n",
      "Epoch  36 , loss 0.4414733174969168\n"
     ]
    },
    {
     "name": "stderr",
     "output_type": "stream",
     "text": [
      "\r",
      "Iterations:  12%|████▏                             | 37/300 [00:47<05:34,  1.27s/it]"
     ]
    },
    {
     "name": "stdout",
     "output_type": "stream",
     "text": [
      "Epoch:  36\n",
      "t_loss:  0.4414733174969168 , v_loss:  0.652025063832601\n",
      "t_acc:  0.6946778711484594 , v_acc:  0.6894409937888198\n",
      "t_recall:  0.49961639285763304 , v_recall:  0.5\n",
      "t_prec:  0.44772443890274316 , v_prec:  0.3447204968944099\n",
      "t_f:  0.4109015490043957 , v_f:  0.4080882352941176\n",
      "////////\n"
     ]
    },
    {
     "name": "stderr",
     "output_type": "stream",
     "text": [
      "\r",
      "Iterations:  13%|████▎                             | 38/300 [00:48<05:07,  1.17s/it]"
     ]
    },
    {
     "name": "stdout",
     "output_type": "stream",
     "text": [
      "Epoch  37 , loss 0.4448153025963727\n",
      "Epoch  38 , loss 0.4440377921450372\n"
     ]
    },
    {
     "name": "stderr",
     "output_type": "stream",
     "text": [
      "\r",
      "Iterations:  13%|████▍                             | 39/300 [00:50<05:31,  1.27s/it]"
     ]
    },
    {
     "name": "stdout",
     "output_type": "stream",
     "text": [
      "Epoch:  38\n",
      "t_loss:  0.4440377921450372 , v_loss:  0.6481505235036215\n",
      "t_acc:  0.6962340491752257 , v_acc:  0.6894409937888198\n",
      "t_recall:  0.5013100286847559 , v_recall:  0.5\n",
      "t_prec:  0.7230835151137426 , v_prec:  0.3447204968944099\n",
      "t_f:  0.4134150192068549 , v_f:  0.4080882352941176\n",
      "////////\n"
     ]
    },
    {
     "name": "stderr",
     "output_type": "stream",
     "text": [
      "\r",
      "Iterations:  13%|████▌                             | 40/300 [00:50<05:06,  1.18s/it]"
     ]
    },
    {
     "name": "stdout",
     "output_type": "stream",
     "text": [
      "Epoch  39 , loss 0.4451974799820021\n",
      "Epoch  40 , loss 0.4382427714618982\n"
     ]
    },
    {
     "name": "stderr",
     "output_type": "stream",
     "text": [
      "\r",
      "Iterations:  14%|████▋                             | 41/300 [00:52<05:16,  1.22s/it]"
     ]
    },
    {
     "name": "stdout",
     "output_type": "stream",
     "text": [
      "Epoch:  40\n",
      "t_loss:  0.4382427714618982 , v_loss:  0.6462731063365936\n",
      "t_acc:  0.6953003423591659 , v_acc:  0.6894409937888198\n",
      "t_recall:  0.5009264215423889 , v_recall:  0.5\n",
      "t_prec:  0.5702247191011236 , v_prec:  0.3447204968944099\n",
      "t_f:  0.4140545234770159 , v_f:  0.4080882352941176\n",
      "////////\n"
     ]
    },
    {
     "name": "stderr",
     "output_type": "stream",
     "text": [
      "\r",
      "Iterations:  14%|████▊                             | 42/300 [00:53<04:48,  1.12s/it]"
     ]
    },
    {
     "name": "stdout",
     "output_type": "stream",
     "text": [
      "Epoch  41 , loss 0.44435931011742236\n",
      "Epoch  42 , loss 0.4410320432747112\n"
     ]
    },
    {
     "name": "stderr",
     "output_type": "stream",
     "text": [
      "\r",
      "Iterations:  14%|████▊                             | 43/300 [00:54<05:15,  1.23s/it]"
     ]
    },
    {
     "name": "stdout",
     "output_type": "stream",
     "text": [
      "Epoch:  42\n",
      "t_loss:  0.4410320432747112 , v_loss:  0.6412141422430674\n",
      "t_acc:  0.6974789915966386 , v_acc:  0.6894409937888198\n",
      "t_recall:  0.503355018459807 , v_recall:  0.5\n",
      "t_prec:  0.7860179407176286 , v_prec:  0.3447204968944099\n",
      "t_f:  0.4177611561866126 , v_f:  0.4080882352941176\n",
      "////////\n"
     ]
    },
    {
     "name": "stderr",
     "output_type": "stream",
     "text": [
      "\r",
      "Iterations:  15%|████▉                             | 44/300 [00:55<05:08,  1.20s/it]"
     ]
    },
    {
     "name": "stdout",
     "output_type": "stream",
     "text": [
      "Epoch  43 , loss 0.4386661946773529\n",
      "Epoch  44 , loss 0.4353286495395735\n"
     ]
    },
    {
     "name": "stderr",
     "output_type": "stream",
     "text": [
      "\r",
      "Iterations:  15%|█████                             | 45/300 [00:57<05:26,  1.28s/it]"
     ]
    },
    {
     "name": "stdout",
     "output_type": "stream",
     "text": [
      "Epoch:  44\n",
      "t_loss:  0.4353286495395735 , v_loss:  0.6373170713583628\n",
      "t_acc:  0.6974789915966386 , v_acc:  0.6894409937888198\n",
      "t_recall:  0.503355018459807 , v_recall:  0.5\n",
      "t_prec:  0.7860179407176286 , v_prec:  0.3447204968944099\n",
      "t_f:  0.4177611561866126 , v_f:  0.4080882352941176\n",
      "////////\n"
     ]
    },
    {
     "name": "stderr",
     "output_type": "stream",
     "text": [
      "\r",
      "Iterations:  15%|█████▏                            | 46/300 [00:58<05:00,  1.18s/it]"
     ]
    },
    {
     "name": "stdout",
     "output_type": "stream",
     "text": [
      "Epoch  45 , loss 0.441102020296396\n",
      "Epoch  46 , loss 0.4394904556227665\n"
     ]
    },
    {
     "name": "stderr",
     "output_type": "stream",
     "text": [
      "\r",
      "Iterations:  16%|█████▎                            | 47/300 [00:59<05:25,  1.29s/it]"
     ]
    },
    {
     "name": "stdout",
     "output_type": "stream",
     "text": [
      "Epoch:  46\n",
      "t_loss:  0.4394904556227665 , v_loss:  0.6362963964541754\n",
      "t_acc:  0.6965452847805789 , v_acc:  0.6894409937888198\n",
      "t_recall:  0.502108809925749 , v_recall:  0.5\n",
      "t_prec:  0.7053961322520275 , v_prec:  0.3447204968944099\n",
      "t_f:  0.41547864167250537 , v_f:  0.4080882352941176\n",
      "////////\n"
     ]
    },
    {
     "name": "stderr",
     "output_type": "stream",
     "text": [
      "\r",
      "Iterations:  16%|█████▍                            | 48/300 [01:00<05:01,  1.20s/it]"
     ]
    },
    {
     "name": "stdout",
     "output_type": "stream",
     "text": [
      "Epoch  47 , loss 0.4346456153720033\n",
      "Epoch  48 , loss 0.4422578361688876\n"
     ]
    },
    {
     "name": "stderr",
     "output_type": "stream",
     "text": [
      "\r",
      "Iterations:  16%|█████▌                            | 49/300 [01:02<05:26,  1.30s/it]"
     ]
    },
    {
     "name": "stdout",
     "output_type": "stream",
     "text": [
      "Epoch:  48\n",
      "t_loss:  0.4422578361688876 , v_loss:  0.6347351024548212\n",
      "t_acc:  0.6968565203859322 , v_acc:  0.6894409937888198\n",
      "t_recall:  0.5031951249639725 , v_recall:  0.5\n",
      "t_prec:  0.6818181818181819 , v_prec:  0.3447204968944099\n",
      "t_f:  0.418492875777644 , v_f:  0.4080882352941176\n",
      "////////\n"
     ]
    },
    {
     "name": "stderr",
     "output_type": "stream",
     "text": [
      "\r",
      "Iterations:  17%|█████▋                            | 50/300 [01:03<05:12,  1.25s/it]"
     ]
    },
    {
     "name": "stdout",
     "output_type": "stream",
     "text": [
      "Epoch  49 , loss 0.44151772149637636\n",
      "Epoch  50 , loss 0.4456396669733758\n"
     ]
    },
    {
     "name": "stderr",
     "output_type": "stream",
     "text": [
      "\r",
      "Iterations:  17%|█████▊                            | 51/300 [01:04<05:21,  1.29s/it]"
     ]
    },
    {
     "name": "stdout",
     "output_type": "stream",
     "text": [
      "Epoch:  50\n",
      "t_loss:  0.4456396669733758 , v_loss:  0.6300539821386337\n",
      "t_acc:  0.6959228135698724 , v_acc:  0.6894409937888198\n",
      "t_recall:  0.5025239840243751 , v_recall:  0.5\n",
      "t_prec:  0.6150093808630395 , v_prec:  0.3447204968944099\n",
      "t_f:  0.4181429031380904 , v_f:  0.4080882352941176\n",
      "////////\n"
     ]
    },
    {
     "name": "stderr",
     "output_type": "stream",
     "text": [
      "\r",
      "Iterations:  17%|█████▉                            | 52/300 [01:05<04:53,  1.18s/it]"
     ]
    },
    {
     "name": "stdout",
     "output_type": "stream",
     "text": [
      "Epoch  51 , loss 0.4335702160994212\n",
      "Epoch  52 , loss 0.4339681793661678\n"
     ]
    },
    {
     "name": "stderr",
     "output_type": "stream",
     "text": [
      "\r",
      "Iterations:  18%|██████                            | 53/300 [01:07<05:11,  1.26s/it]"
     ]
    },
    {
     "name": "stdout",
     "output_type": "stream",
     "text": [
      "Epoch:  52\n",
      "t_loss:  0.4339681793661678 , v_loss:  0.6279821296532949\n",
      "t_acc:  0.6965452847805789 , v_acc:  0.6894409937888198\n",
      "t_recall:  0.5032589451146704 , v_recall:  0.5\n",
      "t_prec:  0.6484990619136961 , v_prec:  0.3447204968944099\n",
      "t_f:  0.41933401285531013 , v_f:  0.4080882352941176\n",
      "////////\n"
     ]
    },
    {
     "name": "stderr",
     "output_type": "stream",
     "text": [
      "\r",
      "Iterations:  18%|██████                            | 54/300 [01:08<04:38,  1.13s/it]"
     ]
    },
    {
     "name": "stdout",
     "output_type": "stream",
     "text": [
      "Epoch  53 , loss 0.43579088765032153\n",
      "Epoch  54 , loss 0.43359027949034\n"
     ]
    },
    {
     "name": "stderr",
     "output_type": "stream",
     "text": [
      "\r",
      "Iterations:  18%|██████▏                           | 55/300 [01:09<04:53,  1.20s/it]"
     ]
    },
    {
     "name": "stdout",
     "output_type": "stream",
     "text": [
      "Epoch:  54\n",
      "t_loss:  0.43359027949034 , v_loss:  0.6265856424967448\n",
      "t_acc:  0.6953003423591659 , v_acc:  0.6894409937888198\n",
      "t_recall:  0.5015014891368497 , v_recall:  0.5\n",
      "t_prec:  0.5788942307692309 , v_prec:  0.3447204968944099\n",
      "t_f:  0.4159900929896205 , v_f:  0.4080882352941176\n",
      "////////\n"
     ]
    },
    {
     "name": "stderr",
     "output_type": "stream",
     "text": [
      "\r",
      "Iterations:  19%|██████▎                           | 56/300 [01:10<04:36,  1.13s/it]"
     ]
    },
    {
     "name": "stdout",
     "output_type": "stream",
     "text": [
      "Epoch  55 , loss 0.4344063857022454\n",
      "Epoch  56 , loss 0.43375950116737216\n"
     ]
    },
    {
     "name": "stderr",
     "output_type": "stream",
     "text": [
      "\r",
      "Iterations:  19%|██████▍                           | 57/300 [01:11<05:00,  1.24s/it]"
     ]
    },
    {
     "name": "stdout",
     "output_type": "stream",
     "text": [
      "Epoch:  56\n",
      "t_loss:  0.43375950116737216 , v_loss:  0.6242088675498962\n",
      "t_acc:  0.6953003423591659 , v_acc:  0.6894409937888198\n",
      "t_recall:  0.50178902293408 , v_recall:  0.5\n",
      "t_prec:  0.5815196998123827 , v_prec:  0.3447204968944099\n",
      "t_f:  0.4169517934208704 , v_f:  0.4080882352941176\n",
      "////////\n"
     ]
    },
    {
     "name": "stderr",
     "output_type": "stream",
     "text": [
      "\r",
      "Iterations:  19%|██████▌                           | 58/300 [01:12<04:40,  1.16s/it]"
     ]
    },
    {
     "name": "stdout",
     "output_type": "stream",
     "text": [
      "Epoch  57 , loss 0.4325926777194528\n",
      "Epoch  58 , loss 0.43941688596033585\n"
     ]
    },
    {
     "name": "stderr",
     "output_type": "stream",
     "text": [
      "\r",
      "Iterations:  20%|██████▋                           | 59/300 [01:14<05:27,  1.36s/it]"
     ]
    },
    {
     "name": "stdout",
     "output_type": "stream",
     "text": [
      "Epoch:  58\n",
      "t_loss:  0.43941688596033585 , v_loss:  0.6217678685983022\n",
      "t_acc:  0.6956115779645191 , v_acc:  0.6894409937888198\n",
      "t_recall:  0.5028753379723034 , v_recall:  0.5\n",
      "t_prec:  0.5984184152834324 , v_prec:  0.3447204968944099\n",
      "t_f:  0.4199316097190697 , v_f:  0.4080882352941176\n",
      "////////\n"
     ]
    },
    {
     "name": "stderr",
     "output_type": "stream",
     "text": [
      "\r",
      "Iterations:  20%|██████▊                           | 60/300 [01:15<04:48,  1.20s/it]"
     ]
    },
    {
     "name": "stdout",
     "output_type": "stream",
     "text": [
      "Epoch  59 , loss 0.434672753016154\n",
      "Epoch  60 , loss 0.43216510087836024\n"
     ]
    },
    {
     "name": "stderr",
     "output_type": "stream",
     "text": [
      "\r",
      "Iterations:  20%|██████▉                           | 61/300 [01:16<05:01,  1.26s/it]"
     ]
    },
    {
     "name": "stdout",
     "output_type": "stream",
     "text": [
      "Epoch:  60\n",
      "t_loss:  0.43216510087836024 , v_loss:  0.6171637326478958\n",
      "t_acc:  0.6971677559912854 , v_acc:  0.6894409937888198\n",
      "t_recall:  0.504281440002196 , v_recall:  0.5\n",
      "t_prec:  0.6722465581977473 , v_prec:  0.3447204968944099\n",
      "t_f:  0.4214769298527253 , v_f:  0.4080882352941176\n",
      "////////\n"
     ]
    },
    {
     "name": "stderr",
     "output_type": "stream",
     "text": [
      "\r",
      "Iterations:  21%|███████                           | 62/300 [01:17<04:36,  1.16s/it]"
     ]
    },
    {
     "name": "stdout",
     "output_type": "stream",
     "text": [
      "Epoch  61 , loss 0.4251517618403715\n",
      "Epoch  62 , loss 0.4382094676588096\n"
     ]
    },
    {
     "name": "stderr",
     "output_type": "stream",
     "text": [
      "\r",
      "Iterations:  21%|███████▏                          | 63/300 [01:19<04:59,  1.26s/it]"
     ]
    },
    {
     "name": "stdout",
     "output_type": "stream",
     "text": [
      "Epoch:  62\n",
      "t_loss:  0.4382094676588096 , v_loss:  0.6125949124495188\n",
      "t_acc:  0.6971677559912854 , v_acc:  0.6894409937888198\n",
      "t_recall:  0.5045689737994263 , v_recall:  0.5\n",
      "t_prec:  0.6645684342352437 , v_prec:  0.3447204968944099\n",
      "t_f:  0.422424761852328 , v_f:  0.4080882352941176\n",
      "////////\n"
     ]
    },
    {
     "name": "stderr",
     "output_type": "stream",
     "text": [
      "\r",
      "Iterations:  21%|███████▎                          | 64/300 [01:20<04:53,  1.24s/it]"
     ]
    },
    {
     "name": "stdout",
     "output_type": "stream",
     "text": [
      "Epoch  63 , loss 0.4274859486841688\n",
      "Epoch  64 , loss 0.43242402111782746\n"
     ]
    },
    {
     "name": "stderr",
     "output_type": "stream",
     "text": [
      "\r",
      "Iterations:  22%|███████▎                          | 65/300 [01:21<04:58,  1.27s/it]"
     ]
    },
    {
     "name": "stdout",
     "output_type": "stream",
     "text": [
      "Epoch:  64\n",
      "t_loss:  0.43242402111782746 , v_loss:  0.6102263877789179\n",
      "t_acc:  0.6977902272019919 , v_acc:  0.6894409937888198\n",
      "t_recall:  0.5050164010924911 , v_recall:  0.5\n",
      "t_prec:  0.7018147684605758 , v_prec:  0.3447204968944099\n",
      "t_f:  0.42266608313154796 , v_f:  0.4080882352941176\n",
      "////////\n"
     ]
    },
    {
     "name": "stderr",
     "output_type": "stream",
     "text": [
      "\r",
      "Iterations:  22%|███████▍                          | 66/300 [01:22<04:47,  1.23s/it]"
     ]
    },
    {
     "name": "stdout",
     "output_type": "stream",
     "text": [
      "Epoch  65 , loss 0.4292885526722553\n",
      "Epoch  66 , loss 0.4301449691548067\n"
     ]
    },
    {
     "name": "stderr",
     "output_type": "stream",
     "text": [
      "\r",
      "Iterations:  22%|███████▌                          | 67/300 [01:24<04:55,  1.27s/it]"
     ]
    },
    {
     "name": "stdout",
     "output_type": "stream",
     "text": [
      "Epoch:  66\n",
      "t_loss:  0.4301449691548067 , v_loss:  0.6067929118871689\n",
      "t_acc:  0.6962340491752257 , v_acc:  0.6894409937888198\n",
      "t_recall:  0.5033227652653683 , v_recall:  0.5\n",
      "t_prec:  0.6262910798122066 , v_prec:  0.3447204968944099\n",
      "t_f:  0.4201690740864009 , v_f:  0.4080882352941176\n",
      "////////\n"
     ]
    },
    {
     "name": "stderr",
     "output_type": "stream",
     "text": [
      "\r",
      "Iterations:  23%|███████▋                          | 68/300 [01:25<04:38,  1.20s/it]"
     ]
    },
    {
     "name": "stdout",
     "output_type": "stream",
     "text": [
      "Epoch  67 , loss 0.4287782808144887\n",
      "Epoch  68 , loss 0.4271547519693188\n"
     ]
    },
    {
     "name": "stderr",
     "output_type": "stream",
     "text": [
      "\r",
      "Iterations:  23%|███████▊                          | 69/300 [01:26<04:52,  1.26s/it]"
     ]
    },
    {
     "name": "stdout",
     "output_type": "stream",
     "text": [
      "Epoch:  68\n",
      "t_loss:  0.4271547519693188 , v_loss:  0.6006441662708918\n",
      "t_acc:  0.6993464052287581 , v_acc:  0.6832298136645962\n",
      "t_recall:  0.5084352397029961 , v_recall:  0.4954954954954955\n",
      "t_prec:  0.7067503924646782 , v_prec:  0.34375\n",
      "t_f:  0.43076632456185404 , v_f:  0.40590405904059035\n",
      "////////\n"
     ]
    },
    {
     "name": "stderr",
     "output_type": "stream",
     "text": [
      "\r",
      "Iterations:  23%|███████▉                          | 70/300 [01:27<04:44,  1.24s/it]"
     ]
    },
    {
     "name": "stdout",
     "output_type": "stream",
     "text": [
      "Epoch  69 , loss 0.4262317781354867\n",
      "Epoch  70 , loss 0.42443040597672554\n"
     ]
    },
    {
     "name": "stderr",
     "output_type": "stream",
     "text": [
      "\r",
      "Iterations:  24%|████████                          | 71/300 [01:29<04:53,  1.28s/it]"
     ]
    },
    {
     "name": "stdout",
     "output_type": "stream",
     "text": [
      "Epoch:  70\n",
      "t_loss:  0.42443040597672554 , v_loss:  0.6010235597689947\n",
      "t_acc:  0.6996576408341114 , v_acc:  0.6832298136645962\n",
      "t_recall:  0.5095215547412196 , v_recall:  0.4954954954954955\n",
      "t_prec:  0.698327615780446 , v_prec:  0.34375\n",
      "t_f:  0.43364541292321857 , v_f:  0.40590405904059035\n",
      "////////\n"
     ]
    },
    {
     "name": "stderr",
     "output_type": "stream",
     "text": [
      "\r",
      "Iterations:  24%|████████▏                         | 72/300 [01:30<04:20,  1.14s/it]"
     ]
    },
    {
     "name": "stdout",
     "output_type": "stream",
     "text": [
      "Epoch  71 , loss 0.42780020482399883\n",
      "Epoch  72 , loss 0.4306274687542635\n"
     ]
    },
    {
     "name": "stderr",
     "output_type": "stream",
     "text": [
      "\r",
      "Iterations:  24%|████████▎                         | 73/300 [01:31<04:49,  1.27s/it]"
     ]
    },
    {
     "name": "stdout",
     "output_type": "stream",
     "text": [
      "Epoch:  72\n",
      "t_loss:  0.4306274687542635 , v_loss:  0.6004044115543365\n",
      "t_acc:  0.6981014628073452 , v_acc:  0.6832298136645962\n",
      "t_recall:  0.5069653175224057 , v_recall:  0.4954954954954955\n",
      "t_prec:  0.6707221350078494 , v_prec:  0.34375\n",
      "t_f:  0.4284092493012405 , v_f:  0.40590405904059035\n",
      "////////\n"
     ]
    },
    {
     "name": "stderr",
     "output_type": "stream",
     "text": [
      "\r",
      "Iterations:  25%|████████▍                         | 74/300 [01:32<04:31,  1.20s/it]"
     ]
    },
    {
     "name": "stdout",
     "output_type": "stream",
     "text": [
      "Epoch  73 , loss 0.4220215643153471\n",
      "Epoch  74 , loss 0.42518458062527226\n"
     ]
    },
    {
     "name": "stderr",
     "output_type": "stream",
     "text": [
      "\r",
      "Iterations:  25%|████████▌                         | 75/300 [01:34<04:40,  1.25s/it]"
     ]
    },
    {
     "name": "stdout",
     "output_type": "stream",
     "text": [
      "Epoch:  74\n",
      "t_loss:  0.42518458062527226 , v_loss:  0.5993676284948984\n",
      "t_acc:  0.6984126984126984 , v_acc:  0.6832298136645962\n",
      "t_recall:  0.5071890311689381 , v_recall:  0.4954954954954955\n",
      "t_prec:  0.6826741996233521 , v_prec:  0.34375\n",
      "t_f:  0.4285357936383385 , v_f:  0.40590405904059035\n",
      "////////\n"
     ]
    },
    {
     "name": "stderr",
     "output_type": "stream",
     "text": [
      "\r",
      "Iterations:  25%|████████▌                         | 76/300 [01:35<04:20,  1.16s/it]"
     ]
    },
    {
     "name": "stdout",
     "output_type": "stream",
     "text": [
      "Epoch  75 , loss 0.42188974133893553\n",
      "Epoch  76 , loss 0.4281531584029104\n"
     ]
    },
    {
     "name": "stderr",
     "output_type": "stream",
     "text": [
      "\r",
      "Iterations:  26%|████████▋                         | 77/300 [01:36<04:32,  1.22s/it]"
     ]
    },
    {
     "name": "stdout",
     "output_type": "stream",
     "text": [
      "Epoch:  76\n",
      "t_loss:  0.4281531584029104 , v_loss:  0.5963913351297379\n",
      "t_acc:  0.6962340491752257 , v_acc:  0.6832298136645962\n",
      "t_recall:  0.5064856370349021 , v_recall:  0.4954954954954955\n",
      "t_prec:  0.6116963441537977 , v_prec:  0.34375\n",
      "t_f:  0.4303919973029842 , v_f:  0.40590405904059035\n",
      "////////\n"
     ]
    },
    {
     "name": "stderr",
     "output_type": "stream",
     "text": [
      "\r",
      "Iterations:  26%|████████▊                         | 78/300 [01:37<04:24,  1.19s/it]"
     ]
    },
    {
     "name": "stdout",
     "output_type": "stream",
     "text": [
      "Epoch  77 , loss 0.4248483519928128\n",
      "Epoch  78 , loss 0.4287583144272075\n"
     ]
    },
    {
     "name": "stderr",
     "output_type": "stream",
     "text": [
      "\r",
      "Iterations:  26%|████████▉                         | 79/300 [01:39<04:53,  1.33s/it]"
     ]
    },
    {
     "name": "stdout",
     "output_type": "stream",
     "text": [
      "Epoch:  78\n",
      "t_loss:  0.4287583144272075 , v_loss:  0.5949870645999908\n",
      "t_acc:  0.6984126984126984 , v_acc:  0.6894409937888198\n",
      "t_recall:  0.5083391663578595 , v_recall:  0.5054954954954954\n",
      "t_prec:  0.6638766519823789 , v_prec:  0.5959119496855345\n",
      "t_f:  0.43221092726022997 , v_f:  0.4266381766381766\n",
      "////////\n"
     ]
    },
    {
     "name": "stderr",
     "output_type": "stream",
     "text": [
      "\r",
      "Iterations:  27%|█████████                         | 80/300 [01:40<04:25,  1.21s/it]"
     ]
    },
    {
     "name": "stdout",
     "output_type": "stream",
     "text": [
      "Epoch  79 , loss 0.42976996127296896\n",
      "Epoch  80 , loss 0.4331878622372945\n"
     ]
    },
    {
     "name": "stderr",
     "output_type": "stream",
     "text": [
      "\r",
      "Iterations:  27%|█████████▏                        | 81/300 [01:41<04:37,  1.27s/it]"
     ]
    },
    {
     "name": "stdout",
     "output_type": "stream",
     "text": [
      "Epoch:  80\n",
      "t_loss:  0.4331878622372945 , v_loss:  0.5916548371315002\n",
      "t_acc:  0.7018362900715842 , v_acc:  0.6894409937888198\n",
      "t_recall:  0.5133878206447894 , v_recall:  0.5054954954954954\n",
      "t_prec:  0.7197256385998108 , v_prec:  0.5959119496855345\n",
      "t_f:  0.44178690344062155 , v_f:  0.4266381766381766\n",
      "////////\n"
     ]
    },
    {
     "name": "stderr",
     "output_type": "stream",
     "text": [
      "\r",
      "Iterations:  27%|█████████▎                        | 82/300 [01:42<04:08,  1.14s/it]"
     ]
    },
    {
     "name": "stdout",
     "output_type": "stream",
     "text": [
      "Epoch  81 , loss 0.427430659532547\n",
      "Epoch  82 , loss 0.41993656579185934\n"
     ]
    },
    {
     "name": "stderr",
     "output_type": "stream",
     "text": [
      "\r",
      "Iterations:  28%|█████████▍                        | 83/300 [01:43<04:28,  1.24s/it]"
     ]
    },
    {
     "name": "stdout",
     "output_type": "stream",
     "text": [
      "Epoch:  82\n",
      "t_loss:  0.41993656579185934 , v_loss:  0.5891614009936651\n",
      "t_acc:  0.6987239340180517 , v_acc:  0.6894409937888198\n",
      "t_recall:  0.5074127448154705 , v_recall:  0.5054954954954954\n",
      "t_prec:  0.6955419854698173 , v_prec:  0.5959119496855345\n",
      "t_f:  0.4286623333299043 , v_f:  0.4266381766381766\n",
      "////////\n"
     ]
    },
    {
     "name": "stderr",
     "output_type": "stream",
     "text": [
      "\r",
      "Iterations:  28%|█████████▌                        | 84/300 [01:44<04:03,  1.13s/it]"
     ]
    },
    {
     "name": "stdout",
     "output_type": "stream",
     "text": [
      "Epoch  83 , loss 0.42539313552426355\n",
      "Epoch  84 , loss 0.4274624159523085\n"
     ]
    },
    {
     "name": "stderr",
     "output_type": "stream",
     "text": [
      "\r",
      "Iterations:  28%|█████████▋                        | 85/300 [01:46<04:14,  1.18s/it]"
     ]
    },
    {
     "name": "stdout",
     "output_type": "stream",
     "text": [
      "Epoch:  84\n",
      "t_loss:  0.4274624159523085 , v_loss:  0.5887977182865143\n",
      "t_acc:  0.7015250544662309 , v_acc:  0.6894409937888198\n",
      "t_recall:  0.512301505606566 , v_recall:  0.5054954954954954\n",
      "t_prec:  0.7288191844237184 , v_prec:  0.5959119496855345\n",
      "t_f:  0.4389704242316099 , v_f:  0.4266381766381766\n",
      "////////\n"
     ]
    },
    {
     "name": "stderr",
     "output_type": "stream",
     "text": [
      "\r",
      "Iterations:  29%|█████████▋                        | 86/300 [01:46<03:54,  1.10s/it]"
     ]
    },
    {
     "name": "stdout",
     "output_type": "stream",
     "text": [
      "Epoch  85 , loss 0.4282303569363613\n",
      "Epoch  86 , loss 0.42252390524920297\n"
     ]
    },
    {
     "name": "stderr",
     "output_type": "stream",
     "text": [
      "\r",
      "Iterations:  29%|█████████▊                        | 87/300 [01:48<04:29,  1.26s/it]"
     ]
    },
    {
     "name": "stdout",
     "output_type": "stream",
     "text": [
      "Epoch:  86\n",
      "t_loss:  0.42252390524920297 , v_loss:  0.5852400461832682\n",
      "t_acc:  0.7002801120448179 , v_acc:  0.7018633540372671\n",
      "t_recall:  0.5119817186148968 , v_recall:  0.5254954954954955\n",
      "t_prec:  0.6837121212121212 , v_prec:  0.7253184713375795\n",
      "t_f:  0.4402083560615559 , v_f:  0.4660033167495854\n",
      "////////\n"
     ]
    },
    {
     "name": "stderr",
     "output_type": "stream",
     "text": [
      "\r",
      "Iterations:  29%|█████████▉                        | 88/300 [01:49<04:13,  1.20s/it]"
     ]
    },
    {
     "name": "stdout",
     "output_type": "stream",
     "text": [
      "Epoch  87 , loss 0.42134976679203556\n",
      "Epoch  88 , loss 0.42164961204809304\n"
     ]
    },
    {
     "name": "stderr",
     "output_type": "stream",
     "text": [
      "\r",
      "Iterations:  30%|██████████                        | 89/300 [01:51<04:25,  1.26s/it]"
     ]
    },
    {
     "name": "stdout",
     "output_type": "stream",
     "text": [
      "Epoch:  88\n",
      "t_loss:  0.42164961204809304 , v_loss:  0.5854519257942835\n",
      "t_acc:  0.7024587612822907 , v_acc:  0.7080745341614907\n",
      "t_recall:  0.5141227817350846 , v_recall:  0.5354954954954955\n",
      "t_prec:  0.7317880794701986 , v_prec:  0.7525641025641026\n",
      "t_f:  0.44295227524972247 , v_f:  0.4847122914538645\n",
      "////////\n"
     ]
    },
    {
     "name": "stderr",
     "output_type": "stream",
     "text": [
      "\r",
      "Iterations:  30%|██████████▏                       | 90/300 [01:51<03:59,  1.14s/it]"
     ]
    },
    {
     "name": "stdout",
     "output_type": "stream",
     "text": [
      "Epoch  89 , loss 0.42108842087726966\n",
      "Epoch  90 , loss 0.4222818601365183\n"
     ]
    },
    {
     "name": "stderr",
     "output_type": "stream",
     "text": [
      "\r",
      "Iterations:  30%|██████████▎                       | 91/300 [01:53<04:32,  1.30s/it]"
     ]
    },
    {
     "name": "stdout",
     "output_type": "stream",
     "text": [
      "Epoch:  90\n",
      "t_loss:  0.4222818601365183 , v_loss:  0.5864690144856771\n",
      "t_acc:  0.7030812324929971 , v_acc:  0.7018633540372671\n",
      "t_recall:  0.5160078780143011 , v_recall:  0.5254954954954955\n",
      "t_prec:  0.7212488144166931 , v_prec:  0.7253184713375795\n",
      "t_f:  0.4476261563945718 , v_f:  0.4660033167495854\n",
      "////////\n"
     ]
    },
    {
     "name": "stderr",
     "output_type": "stream",
     "text": [
      "\r",
      "Iterations:  31%|██████████▍                       | 92/300 [01:54<04:17,  1.24s/it]"
     ]
    },
    {
     "name": "stdout",
     "output_type": "stream",
     "text": [
      "Epoch  91 , loss 0.42480524965361055\n",
      "Epoch  92 , loss 0.42386136452356976\n"
     ]
    },
    {
     "name": "stderr",
     "output_type": "stream",
     "text": [
      "\r",
      "Iterations:  31%|██████████▌                       | 93/300 [01:56<04:23,  1.27s/it]"
     ]
    },
    {
     "name": "stdout",
     "output_type": "stream",
     "text": [
      "Epoch:  92\n",
      "t_loss:  0.42386136452356976 , v_loss:  0.585656409462293\n",
      "t_acc:  0.7012138188608776 , v_acc:  0.7018633540372671\n",
      "t_recall:  0.5143780623378762 , v_recall:  0.5254954954954955\n",
      "t_prec:  0.6842355175688508 , v_prec:  0.7253184713375795\n",
      "t_f:  0.44589595674780763 , v_f:  0.4660033167495854\n",
      "////////\n"
     ]
    },
    {
     "name": "stderr",
     "output_type": "stream",
     "text": [
      "\r",
      "Iterations:  31%|██████████▋                       | 94/300 [01:57<04:05,  1.19s/it]"
     ]
    },
    {
     "name": "stdout",
     "output_type": "stream",
     "text": [
      "Epoch  93 , loss 0.4166393280029297\n",
      "Epoch  94 , loss 0.42887720640967875\n"
     ]
    },
    {
     "name": "stderr",
     "output_type": "stream",
     "text": [
      "\r",
      "Iterations:  32%|██████████▊                       | 95/300 [01:58<04:13,  1.24s/it]"
     ]
    },
    {
     "name": "stdout",
     "output_type": "stream",
     "text": [
      "Epoch:  94\n",
      "t_loss:  0.42887720640967875 , v_loss:  0.5859580139319102\n",
      "t_acc:  0.7002801120448179 , v_acc:  0.7018633540372671\n",
      "t_recall:  0.5128443200065879 , v_recall:  0.5254954954954955\n",
      "t_prec:  0.6740986717267552 , v_prec:  0.7253184713375795\n",
      "t_f:  0.44285373960590346 , v_f:  0.4660033167495854\n",
      "////////\n"
     ]
    },
    {
     "name": "stderr",
     "output_type": "stream",
     "text": [
      "\r",
      "Iterations:  32%|██████████▉                       | 96/300 [01:59<04:03,  1.19s/it]"
     ]
    },
    {
     "name": "stdout",
     "output_type": "stream",
     "text": [
      "Epoch  95 , loss 0.41830866184889104\n",
      "Epoch  96 , loss 0.4148040513197581\n"
     ]
    },
    {
     "name": "stderr",
     "output_type": "stream",
     "text": [
      "\r",
      "Iterations:  32%|██████████▉                       | 97/300 [02:00<04:21,  1.29s/it]"
     ]
    },
    {
     "name": "stdout",
     "output_type": "stream",
     "text": [
      "Epoch:  96\n",
      "t_loss:  0.4148040513197581 , v_loss:  0.5840648810068766\n",
      "t_acc:  0.7015250544662309 , v_acc:  0.7142857142857143\n",
      "t_recall:  0.5137391745927177 , v_recall:  0.5454954954954955\n",
      "t_prec:  0.7018218841144608 , v_prec:  0.771505376344086\n",
      "t_f:  0.44341526636892 , v_f:  0.5028195488721805\n",
      "////////\n"
     ]
    },
    {
     "name": "stderr",
     "output_type": "stream",
     "text": [
      "\r",
      "Iterations:  33%|███████████                       | 98/300 [02:02<04:06,  1.22s/it]"
     ]
    },
    {
     "name": "stdout",
     "output_type": "stream",
     "text": [
      "Epoch  97 , loss 0.42152400636205484\n",
      "Epoch  98 , loss 0.420110332030876\n"
     ]
    },
    {
     "name": "stderr",
     "output_type": "stream",
     "text": [
      "\r",
      "Iterations:  33%|███████████▏                      | 99/300 [02:03<04:15,  1.27s/it]"
     ]
    },
    {
     "name": "stdout",
     "output_type": "stream",
     "text": [
      "Epoch:  98\n",
      "t_loss:  0.420110332030876 , v_loss:  0.5852898607651392\n",
      "t_acc:  0.7018362900715842 , v_acc:  0.7080745341614907\n",
      "t_recall:  0.5151130234281714 , v_recall:  0.5354954954954955\n",
      "t_prec:  0.6936530547641659 , v_prec:  0.7525641025641026\n",
      "t_f:  0.4470503401712498 , v_f:  0.4847122914538645\n",
      "////////\n"
     ]
    },
    {
     "name": "stderr",
     "output_type": "stream",
     "text": [
      "\r",
      "Iterations:  33%|███████████                      | 100/300 [02:04<03:49,  1.15s/it]"
     ]
    },
    {
     "name": "stdout",
     "output_type": "stream",
     "text": [
      "Epoch  99 , loss 0.4183342529862535\n",
      "Epoch  100 , loss 0.4193476140499115\n"
     ]
    },
    {
     "name": "stderr",
     "output_type": "stream",
     "text": [
      "\r",
      "Iterations:  34%|███████████                      | 101/300 [02:05<04:03,  1.23s/it]"
     ]
    },
    {
     "name": "stdout",
     "output_type": "stream",
     "text": [
      "Epoch:  100\n",
      "t_loss:  0.4193476140499115 , v_loss:  0.5852159659067789\n",
      "t_acc:  0.7021475256769374 , v_acc:  0.7080745341614907\n",
      "t_recall:  0.5141866018857825 , v_recall:  0.5354954954954955\n",
      "t_prec:  0.7175189393939394 , v_prec:  0.7525641025641026\n",
      "t_f:  0.44369615446615673 , v_f:  0.4847122914538645\n",
      "////////\n"
     ]
    },
    {
     "name": "stderr",
     "output_type": "stream",
     "text": [
      "\r",
      "Iterations:  34%|███████████▏                     | 102/300 [02:06<03:43,  1.13s/it]"
     ]
    },
    {
     "name": "stdout",
     "output_type": "stream",
     "text": [
      "Epoch  101 , loss 0.41906285285949707\n",
      "Epoch  102 , loss 0.4185390776278926\n"
     ]
    },
    {
     "name": "stderr",
     "output_type": "stream",
     "text": [
      "\r",
      "Iterations:  34%|███████████▎                     | 103/300 [02:08<04:01,  1.22s/it]"
     ]
    },
    {
     "name": "stdout",
     "output_type": "stream",
     "text": [
      "Epoch:  102\n",
      "t_loss:  0.4185390776278926 , v_loss:  0.5839586406946182\n",
      "t_acc:  0.6999688764394647 , v_acc:  0.7142857142857143\n",
      "t_recall:  0.5126206063600555 , v_recall:  0.5454954954954955\n",
      "t_prec:  0.6678296790207578 , v_prec:  0.771505376344086\n",
      "t_f:  0.44271340870979586 , v_f:  0.5028195488721805\n",
      "////////\n"
     ]
    },
    {
     "name": "stderr",
     "output_type": "stream",
     "text": [
      "\r",
      "Iterations:  35%|███████████▍                     | 104/300 [02:08<03:36,  1.10s/it]"
     ]
    },
    {
     "name": "stdout",
     "output_type": "stream",
     "text": [
      "Epoch  103 , loss 0.4223485349440107\n",
      "Epoch  104 , loss 0.41943587917907565\n"
     ]
    },
    {
     "name": "stderr",
     "output_type": "stream",
     "text": [
      "\r",
      "Iterations:  35%|███████████▌                     | 105/300 [02:10<04:02,  1.24s/it]"
     ]
    },
    {
     "name": "stdout",
     "output_type": "stream",
     "text": [
      "Epoch:  104\n",
      "t_loss:  0.41943587917907565 , v_loss:  0.5842349231243134\n",
      "t_acc:  0.6996576408341114 , v_acc:  0.7204968944099379\n",
      "t_recall:  0.5115342913218319 , v_recall:  0.5554954954954955\n",
      "t_prec:  0.6694332065429228 , v_prec:  0.7857142857142857\n",
      "t_f:  0.43993298440668166 , v_f:  0.5203574975173784\n",
      "////////\n"
     ]
    },
    {
     "name": "stderr",
     "output_type": "stream",
     "text": [
      "\r",
      "Iterations:  35%|███████████▋                     | 106/300 [02:11<03:48,  1.18s/it]"
     ]
    },
    {
     "name": "stdout",
     "output_type": "stream",
     "text": [
      "Epoch  105 , loss 0.4215124284519869\n",
      "Epoch  106 , loss 0.4202261111315559\n"
     ]
    },
    {
     "name": "stderr",
     "output_type": "stream",
     "text": [
      "\r",
      "Iterations:  36%|███████████▊                     | 107/300 [02:12<04:05,  1.27s/it]"
     ]
    },
    {
     "name": "stdout",
     "output_type": "stream",
     "text": [
      "Epoch:  106\n",
      "t_loss:  0.4202261111315559 , v_loss:  0.5798584669828415\n",
      "t_acc:  0.702769996887644 , v_acc:  0.7204968944099379\n",
      "t_recall:  0.5166467657594598 , v_recall:  0.5554954954954955\n",
      "t_prec:  0.7022713628176906 , v_prec:  0.7857142857142857\n",
      "t_f:  0.4500737944883985 , v_f:  0.5203574975173784\n",
      "////////\n"
     ]
    },
    {
     "name": "stderr",
     "output_type": "stream",
     "text": [
      "\r",
      "Iterations:  36%|███████████▉                     | 108/300 [02:13<03:42,  1.16s/it]"
     ]
    },
    {
     "name": "stdout",
     "output_type": "stream",
     "text": [
      "Epoch  107 , loss 0.42033757415472295\n",
      "Epoch  108 , loss 0.4257042343709983\n"
     ]
    },
    {
     "name": "stderr",
     "output_type": "stream",
     "text": [
      "\r",
      "Iterations:  36%|███████████▉                     | 109/300 [02:15<03:54,  1.23s/it]"
     ]
    },
    {
     "name": "stdout",
     "output_type": "stream",
     "text": [
      "Epoch:  108\n",
      "t_loss:  0.4257042343709983 , v_loss:  0.5800450891256332\n",
      "t_acc:  0.7018362900715842 , v_acc:  0.7204968944099379\n",
      "t_recall:  0.5156880910226321 , v_recall:  0.5554954954954955\n",
      "t_prec:  0.6873954860921362 , v_prec:  0.7857142857142857\n",
      "t_f:  0.4487765130622274 , v_f:  0.5203574975173784\n",
      "////////\n"
     ]
    },
    {
     "name": "stderr",
     "output_type": "stream",
     "text": [
      "\r",
      "Iterations:  37%|████████████                     | 110/300 [02:16<03:32,  1.12s/it]"
     ]
    },
    {
     "name": "stdout",
     "output_type": "stream",
     "text": [
      "Epoch  109 , loss 0.4190271882449879\n",
      "Epoch  110 , loss 0.4137861471550137\n"
     ]
    },
    {
     "name": "stderr",
     "output_type": "stream",
     "text": [
      "\r",
      "Iterations:  37%|████████████▏                    | 111/300 [02:17<03:42,  1.18s/it]"
     ]
    },
    {
     "name": "stdout",
     "output_type": "stream",
     "text": [
      "Epoch:  110\n",
      "t_loss:  0.4137861471550137 , v_loss:  0.5778313328822454\n",
      "t_acc:  0.702769996887644 , v_acc:  0.7267080745341615\n",
      "t_recall:  0.5166467657594598 , v_recall:  0.5654954954954955\n",
      "t_prec:  0.7022713628176906 , v_prec:  0.7969771241830066\n",
      "t_f:  0.4500737944883985 , v_f:  0.5373563218390804\n",
      "////////\n"
     ]
    },
    {
     "name": "stderr",
     "output_type": "stream",
     "text": [
      "\r",
      "Iterations:  37%|████████████▎                    | 112/300 [02:18<03:26,  1.10s/it]"
     ]
    },
    {
     "name": "stdout",
     "output_type": "stream",
     "text": [
      "Epoch  111 , loss 0.4178077368175282\n",
      "Epoch  112 , loss 0.4219933613842609\n"
     ]
    },
    {
     "name": "stderr",
     "output_type": "stream",
     "text": [
      "\r",
      "Iterations:  38%|████████████▍                    | 113/300 [02:19<03:39,  1.17s/it]"
     ]
    },
    {
     "name": "stdout",
     "output_type": "stream",
     "text": [
      "Epoch:  112\n",
      "t_loss:  0.4219933613842609 , v_loss:  0.5787370701630911\n",
      "t_acc:  0.702769996887644 , v_acc:  0.7204968944099379\n",
      "t_recall:  0.5175093671511508 , v_recall:  0.5554954954954955\n",
      "t_prec:  0.6928571428571428 , v_prec:  0.7857142857142857\n",
      "t_f:  0.4526341984218089 , v_f:  0.5203574975173784\n",
      "////////\n"
     ]
    },
    {
     "name": "stderr",
     "output_type": "stream",
     "text": [
      "\r",
      "Iterations:  38%|████████████▌                    | 114/300 [02:20<03:33,  1.15s/it]"
     ]
    },
    {
     "name": "stdout",
     "output_type": "stream",
     "text": [
      "Epoch  113 , loss 0.41859331493284185\n",
      "Epoch  114 , loss 0.4146740080094805\n"
     ]
    },
    {
     "name": "stderr",
     "output_type": "stream",
     "text": [
      "\r",
      "Iterations:  38%|████████████▋                    | 115/300 [02:22<03:45,  1.22s/it]"
     ]
    },
    {
     "name": "stdout",
     "output_type": "stream",
     "text": [
      "Epoch:  114\n",
      "t_loss:  0.4146740080094805 , v_loss:  0.5793576935927073\n",
      "t_acc:  0.7037037037037037 , v_acc:  0.7204968944099379\n",
      "t_recall:  0.5176054404962874 , v_recall:  0.5554954954954955\n",
      "t_prec:  0.7176710484637314 , v_prec:  0.7857142857142857\n",
      "t_f:  0.4513729057734361 , v_f:  0.5203574975173784\n",
      "////////\n"
     ]
    },
    {
     "name": "stderr",
     "output_type": "stream",
     "text": [
      "\r",
      "Iterations:  39%|████████████▊                    | 116/300 [02:23<03:24,  1.11s/it]"
     ]
    },
    {
     "name": "stdout",
     "output_type": "stream",
     "text": [
      "Epoch  115 , loss 0.4181208598847483\n",
      "Epoch  116 , loss 0.4189737322283726\n"
     ]
    },
    {
     "name": "stderr",
     "output_type": "stream",
     "text": [
      "\r",
      "Iterations:  39%|████████████▊                    | 117/300 [02:24<03:47,  1.25s/it]"
     ]
    },
    {
     "name": "stdout",
     "output_type": "stream",
     "text": [
      "Epoch:  116\n",
      "t_loss:  0.4189737322283726 , v_loss:  0.5783932904402415\n",
      "t_acc:  0.7024587612822907 , v_acc:  0.7204968944099379\n",
      "t_recall:  0.516135518315697 , v_recall:  0.5554954954954955\n",
      "t_prec:  0.6994971491922711 , v_prec:  0.7857142857142857\n",
      "t_f:  0.44906774991534126 , v_f:  0.5203574975173784\n",
      "////////\n"
     ]
    },
    {
     "name": "stderr",
     "output_type": "stream",
     "text": [
      "\r",
      "Iterations:  39%|████████████▉                    | 118/300 [02:25<03:28,  1.15s/it]"
     ]
    },
    {
     "name": "stdout",
     "output_type": "stream",
     "text": [
      "Epoch  117 , loss 0.4187285835836448\n",
      "Epoch  118 , loss 0.4104473789532979\n"
     ]
    },
    {
     "name": "stderr",
     "output_type": "stream",
     "text": [
      "\r",
      "Iterations:  40%|█████████████                    | 119/300 [02:27<03:55,  1.30s/it]"
     ]
    },
    {
     "name": "stdout",
     "output_type": "stream",
     "text": [
      "Epoch:  118\n",
      "t_loss:  0.4104473789532979 , v_loss:  0.5771814634402593\n",
      "t_acc:  0.7024587612822907 , v_acc:  0.7204968944099379\n",
      "t_recall:  0.5164230521129274 , v_recall:  0.5554954954954955\n",
      "t_prec:  0.6961746543526969 , v_prec:  0.7857142857142857\n",
      "t_f:  0.44992729278443566 , v_f:  0.5203574975173784\n",
      "////////\n"
     ]
    },
    {
     "name": "stderr",
     "output_type": "stream",
     "text": [
      "\r",
      "Iterations:  40%|█████████████▏                   | 120/300 [02:28<03:45,  1.25s/it]"
     ]
    },
    {
     "name": "stdout",
     "output_type": "stream",
     "text": [
      "Epoch  119 , loss 0.416182279586792\n",
      "Epoch  120 , loss 0.4118462564314113\n"
     ]
    },
    {
     "name": "stderr",
     "output_type": "stream",
     "text": [
      "\r",
      "Iterations:  40%|█████████████▎                   | 121/300 [02:29<03:54,  1.31s/it]"
     ]
    },
    {
     "name": "stdout",
     "output_type": "stream",
     "text": [
      "Epoch:  120\n",
      "t_loss:  0.4118462564314113 , v_loss:  0.5756021936734518\n",
      "t_acc:  0.7030812324929971 , v_acc:  0.7267080745341615\n",
      "t_recall:  0.5194582835810654 , v_recall:  0.5654954954954955\n",
      "t_prec:  0.6831040183222408 , v_prec:  0.7969771241830066\n",
      "t_f:  0.45781724710300686 , v_f:  0.5373563218390804\n",
      "////////\n"
     ]
    },
    {
     "name": "stderr",
     "output_type": "stream",
     "text": [
      "\r",
      "Iterations:  41%|█████████████▍                   | 122/300 [02:30<03:37,  1.22s/it]"
     ]
    },
    {
     "name": "stdout",
     "output_type": "stream",
     "text": [
      "Epoch  121 , loss 0.41094359404900493\n",
      "Epoch  122 , loss 0.4144685785560047\n"
     ]
    },
    {
     "name": "stderr",
     "output_type": "stream",
     "text": [
      "\r",
      "Iterations:  41%|█████████████▌                   | 123/300 [02:32<03:43,  1.26s/it]"
     ]
    },
    {
     "name": "stdout",
     "output_type": "stream",
     "text": [
      "Epoch:  122\n",
      "t_loss:  0.4144685785560047 , v_loss:  0.5725370099147161\n",
      "t_acc:  0.7061935885465297 , v_acc:  0.7267080745341615\n",
      "t_recall:  0.5216954200463897 , v_recall:  0.5654954954954955\n",
      "t_prec:  0.7353053548745634 , v_prec:  0.7969771241830066\n",
      "t_f:  0.459357790053988 , v_f:  0.5373563218390804\n",
      "////////\n"
     ]
    },
    {
     "name": "stderr",
     "output_type": "stream",
     "text": [
      "\r",
      "Iterations:  41%|█████████████▋                   | 124/300 [02:33<03:32,  1.21s/it]"
     ]
    },
    {
     "name": "stdout",
     "output_type": "stream",
     "text": [
      "Epoch  123 , loss 0.4121241066970077\n",
      "Epoch  124 , loss 0.4152621001589532\n"
     ]
    },
    {
     "name": "stderr",
     "output_type": "stream",
     "text": [
      "\r",
      "Iterations:  42%|█████████████▊                   | 125/300 [02:34<03:43,  1.27s/it]"
     ]
    },
    {
     "name": "stdout",
     "output_type": "stream",
     "text": [
      "Epoch:  124\n",
      "t_loss:  0.4152621001589532 , v_loss:  0.573363646864891\n",
      "t_acc:  0.7037037037037037 , v_acc:  0.7267080745341615\n",
      "t_recall:  0.5187555756852088 , v_recall:  0.5654954954954955\n",
      "t_prec:  0.7034202326135282 , v_prec:  0.7969771241830066\n",
      "t_f:  0.45477607641037776 , v_f:  0.5373563218390804\n",
      "////////\n"
     ]
    },
    {
     "name": "stderr",
     "output_type": "stream",
     "text": [
      "\r",
      "Iterations:  42%|█████████████▊                   | 126/300 [02:35<03:22,  1.16s/it]"
     ]
    },
    {
     "name": "stdout",
     "output_type": "stream",
     "text": [
      "Epoch  125 , loss 0.41400791909180434\n",
      "Epoch  126 , loss 0.41314462528509255\n"
     ]
    },
    {
     "name": "stderr",
     "output_type": "stream",
     "text": [
      "\r",
      "Iterations:  42%|█████████████▉                   | 127/300 [02:37<03:49,  1.33s/it]"
     ]
    },
    {
     "name": "stdout",
     "output_type": "stream",
     "text": [
      "Epoch:  126\n",
      "t_loss:  0.41314462528509255 , v_loss:  0.573080783089002\n",
      "t_acc:  0.7049486461251168 , v_acc:  0.7329192546583851\n",
      "t_recall:  0.52080056546026 , v_recall:  0.5754954954954955\n",
      "t_prec:  0.7125993640699523 , v_prec:  0.8062865497076024\n",
      "t_f:  0.45874103506365194 , v_f:  0.5538441709093253\n",
      "////////\n"
     ]
    },
    {
     "name": "stderr",
     "output_type": "stream",
     "text": [
      "\r",
      "Iterations:  43%|██████████████                   | 128/300 [02:38<03:32,  1.24s/it]"
     ]
    },
    {
     "name": "stdout",
     "output_type": "stream",
     "text": [
      "Epoch  127 , loss 0.41630430840978433\n",
      "Epoch  128 , loss 0.4165860566438413\n"
     ]
    },
    {
     "name": "stderr",
     "output_type": "stream",
     "text": [
      "\r",
      "Iterations:  43%|██████████████▏                  | 129/300 [02:39<03:37,  1.27s/it]"
     ]
    },
    {
     "name": "stdout",
     "output_type": "stream",
     "text": [
      "Epoch:  128\n",
      "t_loss:  0.4165860566438413 , v_loss:  0.5676845461130142\n",
      "t_acc:  0.7024587612822907 , v_acc:  0.7329192546583851\n",
      "t_recall:  0.516135518315697 , v_recall:  0.5754954954954955\n",
      "t_prec:  0.6994971491922711 , v_prec:  0.8062865497076024\n",
      "t_f:  0.44906774991534126 , v_f:  0.5538441709093253\n",
      "////////\n"
     ]
    },
    {
     "name": "stderr",
     "output_type": "stream",
     "text": [
      "\r",
      "Iterations:  43%|██████████████▎                  | 130/300 [02:40<03:15,  1.15s/it]"
     ]
    },
    {
     "name": "stdout",
     "output_type": "stream",
     "text": [
      "Epoch  129 , loss 0.4174220655478683\n",
      "Epoch  130 , loss 0.41287388287338556\n"
     ]
    },
    {
     "name": "stderr",
     "output_type": "stream",
     "text": [
      "\r",
      "Iterations:  44%|██████████████▍                  | 131/300 [02:42<03:36,  1.28s/it]"
     ]
    },
    {
     "name": "stdout",
     "output_type": "stream",
     "text": [
      "Epoch:  130\n",
      "t_loss:  0.41287388287338556 , v_loss:  0.5688204814990362\n",
      "t_acc:  0.7068160597572363 , v_acc:  0.7391304347826086\n",
      "t_recall:  0.525018185311758 , v_recall:  0.5854954954954955\n",
      "t_prec:  0.7129978733514579 , v_prec:  0.8142384105960265\n",
      "t_f:  0.4678854984915506 , v_f:  0.5698473282442748\n",
      "////////\n"
     ]
    },
    {
     "name": "stderr",
     "output_type": "stream",
     "text": [
      "\r",
      "Iterations:  44%|██████████████▌                  | 132/300 [02:42<03:15,  1.16s/it]"
     ]
    },
    {
     "name": "stdout",
     "output_type": "stream",
     "text": [
      "Epoch  131 , loss 0.4126719966822979\n",
      "Epoch  132 , loss 0.4079545929151423\n"
     ]
    },
    {
     "name": "stderr",
     "output_type": "stream",
     "text": [
      "\r",
      "Iterations:  44%|██████████████▋                  | 133/300 [02:44<03:29,  1.25s/it]"
     ]
    },
    {
     "name": "stdout",
     "output_type": "stream",
     "text": [
      "Epoch:  132\n",
      "t_loss:  0.4079545929151423 , v_loss:  0.5677794168392817\n",
      "t_acc:  0.7037037037037037 , v_acc:  0.7391304347826086\n",
      "t_recall:  0.5201932446713605 , v_recall:  0.5854954954954955\n",
      "t_prec:  0.6900200614759391 , v_prec:  0.8142384105960265\n",
      "t_f:  0.4589538985765855 , v_f:  0.5698473282442748\n",
      "////////\n"
     ]
    },
    {
     "name": "stderr",
     "output_type": "stream",
     "text": [
      "\r",
      "Iterations:  45%|██████████████▋                  | 134/300 [02:45<03:10,  1.15s/it]"
     ]
    },
    {
     "name": "stdout",
     "output_type": "stream",
     "text": [
      "Epoch  133 , loss 0.41252093747550367\n",
      "Epoch  134 , loss 0.41463833696701946\n"
     ]
    },
    {
     "name": "stderr",
     "output_type": "stream",
     "text": [
      "\r",
      "Iterations:  45%|██████████████▊                  | 135/300 [02:46<03:27,  1.26s/it]"
     ]
    },
    {
     "name": "stdout",
     "output_type": "stream",
     "text": [
      "Epoch:  134\n",
      "t_loss:  0.41463833696701946 , v_loss:  0.5672418624162674\n",
      "t_acc:  0.704014939309057 , v_acc:  0.7391304347826086\n",
      "t_recall:  0.520416958317893 , v_recall:  0.5854954954954955\n",
      "t_prec:  0.6946950527877148 , v_prec:  0.8142384105960265\n",
      "t_f:  0.45910862301683886 , v_f:  0.5698473282442748\n",
      "////////\n"
     ]
    },
    {
     "name": "stderr",
     "output_type": "stream",
     "text": [
      "\r",
      "Iterations:  45%|██████████████▉                  | 136/300 [02:47<03:13,  1.18s/it]"
     ]
    },
    {
     "name": "stdout",
     "output_type": "stream",
     "text": [
      "Epoch  135 , loss 0.41394857682433783\n",
      "Epoch  136 , loss 0.41364212772425485\n"
     ]
    },
    {
     "name": "stderr",
     "output_type": "stream",
     "text": [
      "\r",
      "Iterations:  46%|███████████████                  | 137/300 [02:49<03:30,  1.29s/it]"
     ]
    },
    {
     "name": "stdout",
     "output_type": "stream",
     "text": [
      "Epoch:  136\n",
      "t_loss:  0.41364212772425485 , v_loss:  0.5681962370872498\n",
      "t_acc:  0.708994708994709 , v_acc:  0.7391304347826086\n",
      "t_recall:  0.5271592484319457 , v_recall:  0.5854954954954955\n",
      "t_prec:  0.7397772895074843 , v_prec:  0.8142384105960265\n",
      "t_f:  0.47063655841296426 , v_f:  0.5698473282442748\n",
      "////////\n"
     ]
    },
    {
     "name": "stderr",
     "output_type": "stream",
     "text": [
      "\r",
      "Iterations:  46%|███████████████▏                 | 138/300 [02:50<03:22,  1.25s/it]"
     ]
    },
    {
     "name": "stdout",
     "output_type": "stream",
     "text": [
      "Epoch  137 , loss 0.4093213005393159\n",
      "Epoch  138 , loss 0.4176047678087272\n"
     ]
    },
    {
     "name": "stderr",
     "output_type": "stream",
     "text": [
      "\r",
      "Iterations:  46%|███████████████▎                 | 139/300 [02:52<03:46,  1.41s/it]"
     ]
    },
    {
     "name": "stdout",
     "output_type": "stream",
     "text": [
      "Epoch:  138\n",
      "t_loss:  0.4176047678087272 , v_loss:  0.5664752374092737\n",
      "t_acc:  0.7071272953625894 , v_acc:  0.7391304347826086\n",
      "t_recall:  0.5238042299721387 , v_recall:  0.5854954954954955\n",
      "t_prec:  0.7332415882948871 , v_prec:  0.8142384105960265\n",
      "t_f:  0.46397527299572217 , v_f:  0.5698473282442748\n",
      "////////\n"
     ]
    },
    {
     "name": "stderr",
     "output_type": "stream",
     "text": [
      "\r",
      "Iterations:  47%|███████████████▍                 | 140/300 [02:53<03:20,  1.25s/it]"
     ]
    },
    {
     "name": "stdout",
     "output_type": "stream",
     "text": [
      "Epoch  139 , loss 0.41119294598990797\n",
      "Epoch  140 , loss 0.40923364197506623\n"
     ]
    },
    {
     "name": "stderr",
     "output_type": "stream",
     "text": [
      "\r",
      "Iterations:  47%|███████████████▌                 | 141/300 [02:54<03:31,  1.33s/it]"
     ]
    },
    {
     "name": "stdout",
     "output_type": "stream",
     "text": [
      "Epoch:  140\n",
      "t_loss:  0.40923364197506623 , v_loss:  0.5647300084431967\n",
      "t_acc:  0.7074385309679427 , v_acc:  0.7391304347826086\n",
      "t_recall:  0.5263282139965139 , v_recall:  0.5854954954954955\n",
      "t_prec:  0.713998854686489 , v_prec:  0.8142384105960265\n",
      "t_f:  0.4706168161919158 , v_f:  0.5698473282442748\n",
      "////////\n"
     ]
    },
    {
     "name": "stderr",
     "output_type": "stream",
     "text": [
      "\r",
      "Iterations:  47%|███████████████▌                 | 142/300 [02:55<03:10,  1.20s/it]"
     ]
    },
    {
     "name": "stdout",
     "output_type": "stream",
     "text": [
      "Epoch  141 , loss 0.41283002963253096\n",
      "Epoch  142 , loss 0.41104737274787007\n"
     ]
    },
    {
     "name": "stderr",
     "output_type": "stream",
     "text": [
      "\r",
      "Iterations:  48%|███████████████▋                 | 143/300 [02:56<03:16,  1.25s/it]"
     ]
    },
    {
     "name": "stdout",
     "output_type": "stream",
     "text": [
      "Epoch:  142\n",
      "t_loss:  0.41104737274787007 , v_loss:  0.5677928874890009\n",
      "t_acc:  0.7052598817304699 , v_acc:  0.7329192546583851\n",
      "t_recall:  0.520736745309562 , v_recall:  0.5754954954954955\n",
      "t_prec:  0.7215179356856612 , v_prec:  0.8062865497076024\n",
      "t_f:  0.45805899008436957 , v_f:  0.5538441709093253\n",
      "////////\n"
     ]
    },
    {
     "name": "stderr",
     "output_type": "stream",
     "text": [
      "\r",
      "Iterations:  48%|███████████████▊                 | 144/300 [02:58<03:08,  1.21s/it]"
     ]
    },
    {
     "name": "stdout",
     "output_type": "stream",
     "text": [
      "Epoch  143 , loss 0.4083758884785222\n",
      "Epoch  144 , loss 0.4043683567467858\n"
     ]
    },
    {
     "name": "stderr",
     "output_type": "stream",
     "text": [
      "\r",
      "Iterations:  48%|███████████████▉                 | 145/300 [02:59<03:14,  1.25s/it]"
     ]
    },
    {
     "name": "stdout",
     "output_type": "stream",
     "text": [
      "Epoch:  144\n",
      "t_loss:  0.4043683567467858 , v_loss:  0.5653971880674362\n",
      "t_acc:  0.7074385309679427 , v_acc:  0.7329192546583851\n",
      "t_recall:  0.5257531464020533 , v_recall:  0.5754954954954955\n",
      "t_prec:  0.7192551277157613 , v_prec:  0.8062865497076024\n",
      "t_f:  0.46901525327182325 , v_f:  0.5538441709093253\n",
      "////////\n"
     ]
    },
    {
     "name": "stderr",
     "output_type": "stream",
     "text": [
      "\r",
      "Iterations:  49%|████████████████                 | 146/300 [03:00<02:58,  1.16s/it]"
     ]
    },
    {
     "name": "stdout",
     "output_type": "stream",
     "text": [
      "Epoch  145 , loss 0.4119961115659452\n",
      "Epoch  146 , loss 0.4078255903487112\n"
     ]
    },
    {
     "name": "stderr",
     "output_type": "stream",
     "text": [
      "\r",
      "Iterations:  49%|████████████████▏                | 147/300 [03:01<03:15,  1.28s/it]"
     ]
    },
    {
     "name": "stdout",
     "output_type": "stream",
     "text": [
      "Epoch:  146\n",
      "t_loss:  0.4078255903487112 , v_loss:  0.568415512641271\n",
      "t_acc:  0.7083722377840025 , v_acc:  0.7391304347826086\n",
      "t_recall:  0.5264242873416506 , v_recall:  0.5854954954954955\n",
      "t_prec:  0.7332886350601407 , v_prec:  0.8142384105960265\n",
      "t_f:  0.46950423019566584 , v_f:  0.5698473282442748\n",
      "////////\n"
     ]
    },
    {
     "name": "stderr",
     "output_type": "stream",
     "text": [
      "\r",
      "Iterations:  49%|████████████████▎                | 148/300 [03:02<02:59,  1.18s/it]"
     ]
    },
    {
     "name": "stdout",
     "output_type": "stream",
     "text": [
      "Epoch  147 , loss 0.4069002586252549\n",
      "Epoch  148 , loss 0.4096510322654949\n"
     ]
    },
    {
     "name": "stderr",
     "output_type": "stream",
     "text": [
      "\r",
      "Iterations:  50%|████████████████▍                | 149/300 [03:04<03:08,  1.25s/it]"
     ]
    },
    {
     "name": "stdout",
     "output_type": "stream",
     "text": [
      "Epoch:  148\n",
      "t_loss:  0.4096510322654949 , v_loss:  0.5663082549969355\n",
      "t_acc:  0.7046374105197635 , v_acc:  0.7453416149068323\n",
      "t_recall:  0.5223020545971095 , v_recall:  0.5954954954954955\n",
      "t_prec:  0.6921562366964666 , v_prec:  0.8212121212121212\n",
      "t_f:  0.46352513075657503 , v_f:  0.5853903649268262\n",
      "////////\n"
     ]
    },
    {
     "name": "stderr",
     "output_type": "stream",
     "text": [
      "\r",
      "Iterations:  50%|████████████████▌                | 150/300 [03:05<02:50,  1.14s/it]"
     ]
    },
    {
     "name": "stdout",
     "output_type": "stream",
     "text": [
      "Epoch  149 , loss 0.4133814701847002\n",
      "Epoch  150 , loss 0.41047896883066964\n"
     ]
    },
    {
     "name": "stderr",
     "output_type": "stream",
     "text": [
      "\r",
      "Iterations:  50%|████████████████▌                | 151/300 [03:06<03:05,  1.25s/it]"
     ]
    },
    {
     "name": "stdout",
     "output_type": "stream",
     "text": [
      "Epoch:  150\n",
      "t_loss:  0.41047896883066964 , v_loss:  0.5665017068386078\n",
      "t_acc:  0.7052598817304699 , v_acc:  0.7391304347826086\n",
      "t_recall:  0.5218868804984834 , v_recall:  0.5854954954954955\n",
      "t_prec:  0.7087121542622807 , v_prec:  0.8142384105960265\n",
      "t_f:  0.461383665611931 , v_f:  0.5698473282442748\n",
      "////////\n"
     ]
    },
    {
     "name": "stderr",
     "output_type": "stream",
     "text": [
      "\r",
      "Iterations:  51%|████████████████▋                | 152/300 [03:07<02:59,  1.21s/it]"
     ]
    },
    {
     "name": "stdout",
     "output_type": "stream",
     "text": [
      "Epoch  151 , loss 0.40367211547552373\n",
      "Epoch  152 , loss 0.406496324375564\n"
     ]
    },
    {
     "name": "stderr",
     "output_type": "stream",
     "text": [
      "\r",
      "Iterations:  51%|████████████████▊                | 153/300 [03:09<03:03,  1.25s/it]"
     ]
    },
    {
     "name": "stdout",
     "output_type": "stream",
     "text": [
      "Epoch:  152\n",
      "t_loss:  0.406496324375564 , v_loss:  0.5657916317383448\n",
      "t_acc:  0.7121070650482415 , v_acc:  0.7453416149068323\n",
      "t_recall:  0.5311215876806522 , v_recall:  0.5954954954954955\n",
      "t_prec:  0.7681460195828012 , v_prec:  0.8212121212121212\n",
      "t_f:  0.4770924614855974 , v_f:  0.5853903649268262\n",
      "////////\n"
     ]
    },
    {
     "name": "stderr",
     "output_type": "stream",
     "text": [
      "\r",
      "Iterations:  51%|████████████████▉                | 154/300 [03:10<02:46,  1.14s/it]"
     ]
    },
    {
     "name": "stdout",
     "output_type": "stream",
     "text": [
      "Epoch  153 , loss 0.42450736258544175\n",
      "Epoch  154 , loss 0.4098920582556257\n"
     ]
    },
    {
     "name": "stderr",
     "output_type": "stream",
     "text": [
      "\r",
      "Iterations:  52%|█████████████████                | 155/300 [03:11<03:06,  1.29s/it]"
     ]
    },
    {
     "name": "stdout",
     "output_type": "stream",
     "text": [
      "Epoch:  154\n",
      "t_loss:  0.4098920582556257 , v_loss:  0.5630141446987788\n",
      "t_acc:  0.708994708994709 , v_acc:  0.7515527950310559\n",
      "t_recall:  0.526584180837485 , v_recall:  0.6054954954954955\n",
      "t_prec:  0.7469024856596558 , v_prec:  0.8274608501118568\n",
      "t_f:  0.46902126969128655 , v_f:  0.6004962779156328\n",
      "////////\n"
     ]
    },
    {
     "name": "stderr",
     "output_type": "stream",
     "text": [
      "\r",
      "Iterations:  52%|█████████████████▏               | 156/300 [03:12<03:05,  1.29s/it]"
     ]
    },
    {
     "name": "stdout",
     "output_type": "stream",
     "text": [
      "Epoch  155 , loss 0.4066629205264297\n",
      "Epoch  156 , loss 0.408976487084931\n"
     ]
    },
    {
     "name": "stderr",
     "output_type": "stream",
     "text": [
      "\r",
      "Iterations:  52%|█████████████████▎               | 157/300 [03:14<03:25,  1.44s/it]"
     ]
    },
    {
     "name": "stdout",
     "output_type": "stream",
     "text": [
      "Epoch:  156\n",
      "t_loss:  0.408976487084931 , v_loss:  0.563071683049202\n",
      "t_acc:  0.7083722377840025 , v_acc:  0.7515527950310559\n",
      "t_recall:  0.5269993549361112 , v_recall:  0.6054954954954955\n",
      "t_prec:  0.7271680973093653 , v_prec:  0.8274608501118568\n",
      "t_f:  0.4711101819750134 , v_f:  0.6004962779156328\n",
      "////////\n"
     ]
    },
    {
     "name": "stderr",
     "output_type": "stream",
     "text": [
      "\r",
      "Iterations:  53%|█████████████████▍               | 158/300 [03:15<03:08,  1.33s/it]"
     ]
    },
    {
     "name": "stdout",
     "output_type": "stream",
     "text": [
      "Epoch  157 , loss 0.40924571717486663\n",
      "Epoch  158 , loss 0.41080934977998923\n"
     ]
    },
    {
     "name": "stderr",
     "output_type": "stream",
     "text": [
      "\r",
      "Iterations:  53%|█████████████████▍               | 159/300 [03:17<03:12,  1.36s/it]"
     ]
    },
    {
     "name": "stdout",
     "output_type": "stream",
     "text": [
      "Epoch:  158\n",
      "t_loss:  0.41080934977998923 , v_loss:  0.561617503563563\n",
      "t_acc:  0.7049486461251168 , v_acc:  0.7515527950310559\n",
      "t_recall:  0.5245385048242543 , v_recall:  0.6054954954954955\n",
      "t_prec:  0.6829452975244383 , v_prec:  0.8274608501118568\n",
      "t_f:  0.4693038821581298 , v_f:  0.6004962779156328\n",
      "////////\n"
     ]
    },
    {
     "name": "stderr",
     "output_type": "stream",
     "text": [
      "\r",
      "Iterations:  53%|█████████████████▌               | 160/300 [03:18<02:52,  1.23s/it]"
     ]
    },
    {
     "name": "stdout",
     "output_type": "stream",
     "text": [
      "Epoch  159 , loss 0.4179461650988635\n",
      "Epoch  160 , loss 0.4152027824345757\n"
     ]
    },
    {
     "name": "stderr",
     "output_type": "stream",
     "text": [
      "\r",
      "Iterations:  54%|█████████████████▋               | 161/300 [03:19<03:08,  1.36s/it]"
     ]
    },
    {
     "name": "stdout",
     "output_type": "stream",
     "text": [
      "Epoch:  160\n",
      "t_loss:  0.4152027824345757 , v_loss:  0.5611082017421722\n",
      "t_acc:  0.704014939309057 , v_acc:  0.7453416149068323\n",
      "t_recall:  0.5215670935068143 , v_recall:  0.600990990990991\n",
      "t_prec:  0.685823754789272 , v_prec:  0.7913201663201663\n",
      "t_f:  0.46239451986248986 , v_f:  0.5954525954525954\n",
      "////////\n"
     ]
    },
    {
     "name": "stderr",
     "output_type": "stream",
     "text": [
      "\r",
      "Iterations:  54%|█████████████████▊               | 162/300 [03:20<02:48,  1.22s/it]"
     ]
    },
    {
     "name": "stdout",
     "output_type": "stream",
     "text": [
      "Epoch  161 , loss 0.40429412792710695\n",
      "Epoch  162 , loss 0.4116181076741686\n"
     ]
    },
    {
     "name": "stderr",
     "output_type": "stream",
     "text": [
      "\r",
      "Iterations:  54%|█████████████████▉               | 163/300 [03:22<02:52,  1.26s/it]"
     ]
    },
    {
     "name": "stdout",
     "output_type": "stream",
     "text": [
      "Epoch:  162\n",
      "t_loss:  0.4116181076741686 , v_loss:  0.5576895872751871\n",
      "t_acc:  0.7071272953625894 , v_acc:  0.7453416149068323\n",
      "t_recall:  0.5275421693361332 , v_recall:  0.600990990990991\n",
      "t_prec:  0.699179823458571 , v_prec:  0.7913201663201663\n",
      "t_f:  0.4743980912065991 , v_f:  0.5954525954525954\n",
      "////////\n"
     ]
    },
    {
     "name": "stderr",
     "output_type": "stream",
     "text": [
      "\r",
      "Iterations:  55%|██████████████████               | 164/300 [03:23<02:37,  1.16s/it]"
     ]
    },
    {
     "name": "stdout",
     "output_type": "stream",
     "text": [
      "Epoch  163 , loss 0.4091719488302867\n",
      "Epoch  164 , loss 0.41842546065648395\n"
     ]
    },
    {
     "name": "stderr",
     "output_type": "stream",
     "text": [
      "\r",
      "Iterations:  55%|██████████████████▏              | 165/300 [03:24<02:52,  1.28s/it]"
     ]
    },
    {
     "name": "stdout",
     "output_type": "stream",
     "text": [
      "Epoch:  164\n",
      "t_loss:  0.41842546065648395 , v_loss:  0.5587334583202997\n",
      "t_acc:  0.7043261749144102 , v_acc:  0.7453416149068323\n",
      "t_recall:  0.5223658747478075 , v_recall:  0.600990990990991\n",
      "t_prec:  0.6860019175455416 , v_prec:  0.7913201663201663\n",
      "t_f:  0.4641773783794031 , v_f:  0.5954525954525954\n",
      "////////\n"
     ]
    },
    {
     "name": "stderr",
     "output_type": "stream",
     "text": [
      "\r",
      "Iterations:  55%|██████████████████▎              | 166/300 [03:25<02:33,  1.15s/it]"
     ]
    },
    {
     "name": "stdout",
     "output_type": "stream",
     "text": [
      "Epoch  165 , loss 0.40886616999027775\n",
      "Epoch  166 , loss 0.4108442576492534\n"
     ]
    },
    {
     "name": "stderr",
     "output_type": "stream",
     "text": [
      "\r",
      "Iterations:  56%|██████████████████▎              | 167/300 [03:27<02:54,  1.31s/it]"
     ]
    },
    {
     "name": "stdout",
     "output_type": "stream",
     "text": [
      "Epoch:  166\n",
      "t_loss:  0.4108442576492534 , v_loss:  0.5608094135920206\n",
      "t_acc:  0.7071272953625894 , v_acc:  0.7453416149068323\n",
      "t_recall:  0.5255294327555208 , v_recall:  0.600990990990991\n",
      "t_prec:  0.7148004157203895 , v_prec:  0.7913201663201663\n",
      "t_f:  0.46885238125772427 , v_f:  0.5954525954525954\n",
      "////////\n"
     ]
    },
    {
     "name": "stderr",
     "output_type": "stream",
     "text": [
      "\r",
      "Iterations:  56%|██████████████████▍              | 168/300 [03:28<02:41,  1.22s/it]"
     ]
    },
    {
     "name": "stdout",
     "output_type": "stream",
     "text": [
      "Epoch  167 , loss 0.4110807051845625\n",
      "Epoch  168 , loss 0.41257835427920025\n"
     ]
    },
    {
     "name": "stderr",
     "output_type": "stream",
     "text": [
      "\r",
      "Iterations:  56%|██████████████████▌              | 169/300 [03:29<02:53,  1.32s/it]"
     ]
    },
    {
     "name": "stdout",
     "output_type": "stream",
     "text": [
      "Epoch:  168\n",
      "t_loss:  0.41257835427920025 , v_loss:  0.5605927954117457\n",
      "t_acc:  0.7108621226268285 , v_acc:  0.7515527950310559\n",
      "t_recall:  0.5319519358779045 , v_recall:  0.610990990990991\n",
      "t_prec:  0.7310704312957399 , v_prec:  0.7993197278911565\n",
      "t_f:  0.48110077229641923 , v_f:  0.6099806201550388\n",
      "////////\n"
     ]
    },
    {
     "name": "stderr",
     "output_type": "stream",
     "text": [
      "\r",
      "Iterations:  57%|██████████████████▋              | 170/300 [03:30<02:35,  1.19s/it]"
     ]
    },
    {
     "name": "stdout",
     "output_type": "stream",
     "text": [
      "Epoch  169 , loss 0.40270130862207976\n",
      "Epoch  170 , loss 0.4072030268463434\n"
     ]
    },
    {
     "name": "stderr",
     "output_type": "stream",
     "text": [
      "\r",
      "Iterations:  57%|██████████████████▊              | 171/300 [03:32<02:44,  1.27s/it]"
     ]
    },
    {
     "name": "stdout",
     "output_type": "stream",
     "text": [
      "Epoch:  170\n",
      "t_loss:  0.4072030268463434 , v_loss:  0.562595804532369\n",
      "t_acc:  0.7096171802054155 , v_acc:  0.7515527950310559\n",
      "t_recall:  0.529619412305623 , v_recall:  0.610990990990991\n",
      "t_prec:  0.7278864633124723 , v_prec:  0.7993197278911565\n",
      "t_f:  0.47652852906760396 , v_f:  0.6099806201550388\n",
      "////////\n"
     ]
    },
    {
     "name": "stderr",
     "output_type": "stream",
     "text": [
      "\r",
      "Iterations:  57%|██████████████████▉              | 172/300 [03:32<02:30,  1.17s/it]"
     ]
    },
    {
     "name": "stdout",
     "output_type": "stream",
     "text": [
      "Epoch  171 , loss 0.4090644287712434\n",
      "Epoch  172 , loss 0.40672603366421717\n"
     ]
    },
    {
     "name": "stderr",
     "output_type": "stream",
     "text": [
      "\r",
      "Iterations:  58%|███████████████████              | 173/300 [03:34<02:42,  1.28s/it]"
     ]
    },
    {
     "name": "stdout",
     "output_type": "stream",
     "text": [
      "Epoch:  172\n",
      "t_loss:  0.40672603366421717 , v_loss:  0.5594242463509241\n",
      "t_acc:  0.706504824151883 , v_acc:  0.7515527950310559\n",
      "t_recall:  0.5259446068541469 , v_recall:  0.610990990990991\n",
      "t_prec:  0.6996131671019563 , v_prec:  0.7993197278911565\n",
      "t_f:  0.47091790236950754 , v_f:  0.6099806201550388\n",
      "////////\n"
     ]
    },
    {
     "name": "stderr",
     "output_type": "stream",
     "text": [
      "\r",
      "Iterations:  58%|███████████████████▏             | 174/300 [03:35<02:37,  1.25s/it]"
     ]
    },
    {
     "name": "stdout",
     "output_type": "stream",
     "text": [
      "Epoch  173 , loss 0.4093778098330778\n",
      "Epoch  174 , loss 0.413953946501601\n"
     ]
    },
    {
     "name": "stderr",
     "output_type": "stream",
     "text": [
      "\r",
      "Iterations:  58%|███████████████████▎             | 175/300 [03:37<02:40,  1.28s/it]"
     ]
    },
    {
     "name": "stdout",
     "output_type": "stream",
     "text": [
      "Epoch:  174\n",
      "t_loss:  0.413953946501601 , v_loss:  0.5586029837528864\n",
      "t_acc:  0.7043261749144102 , v_acc:  0.7515527950310559\n",
      "t_recall:  0.5226534085450378 , v_recall:  0.610990990990991\n",
      "t_prec:  0.6841295989171581 , v_prec:  0.7993197278911565\n",
      "t_f:  0.46498508019395746 , v_f:  0.6099806201550388\n",
      "////////\n"
     ]
    },
    {
     "name": "stderr",
     "output_type": "stream",
     "text": [
      "\r",
      "Iterations:  59%|███████████████████▎             | 176/300 [03:38<02:31,  1.22s/it]"
     ]
    },
    {
     "name": "stdout",
     "output_type": "stream",
     "text": [
      "Epoch  175 , loss 0.4082733404402639\n",
      "Epoch  176 , loss 0.41408652593107786\n"
     ]
    },
    {
     "name": "stderr",
     "output_type": "stream",
     "text": [
      "\r",
      "Iterations:  59%|███████████████████▍             | 177/300 [03:39<02:37,  1.28s/it]"
     ]
    },
    {
     "name": "stdout",
     "output_type": "stream",
     "text": [
      "Epoch:  176\n",
      "t_loss:  0.41408652593107786 , v_loss:  0.5588972767194113\n",
      "t_acc:  0.711484593837535 , v_acc:  0.7515527950310559\n",
      "t_recall:  0.5344120997515818 , v_recall:  0.610990990990991\n",
      "t_prec:  0.7223204152085501 , v_prec:  0.7993197278911565\n",
      "t_f:  0.48678304600350175 , v_f:  0.6099806201550388\n",
      "////////\n"
     ]
    },
    {
     "name": "stderr",
     "output_type": "stream",
     "text": [
      "\r",
      "Iterations:  59%|███████████████████▌             | 178/300 [03:40<02:32,  1.25s/it]"
     ]
    },
    {
     "name": "stdout",
     "output_type": "stream",
     "text": [
      "Epoch  177 , loss 0.40475145858876843\n",
      "Epoch  178 , loss 0.40492743604323445\n"
     ]
    },
    {
     "name": "stderr",
     "output_type": "stream",
     "text": [
      "\r",
      "Iterations:  60%|███████████████████▋             | 179/300 [03:42<02:34,  1.27s/it]"
     ]
    },
    {
     "name": "stdout",
     "output_type": "stream",
     "text": [
      "Epoch:  178\n",
      "t_loss:  0.40492743604323445 , v_loss:  0.5595333576202393\n",
      "t_acc:  0.7080610021786492 , v_acc:  0.7515527950310559\n",
      "t_recall:  0.5270631750868091 , v_recall:  0.610990990990991\n",
      "t_prec:  0.7199727058403551 , v_prec:  0.7993197278911565\n",
      "t_f:  0.4717431633915075 , v_f:  0.6099806201550388\n",
      "////////\n"
     ]
    },
    {
     "name": "stderr",
     "output_type": "stream",
     "text": [
      "\r",
      "Iterations:  60%|███████████████████▊             | 180/300 [03:43<02:25,  1.22s/it]"
     ]
    },
    {
     "name": "stdout",
     "output_type": "stream",
     "text": [
      "Epoch  179 , loss 0.4007161487551296\n",
      "Epoch  180 , loss 0.40993818290093365\n"
     ]
    },
    {
     "name": "stderr",
     "output_type": "stream",
     "text": [
      "\r",
      "Iterations:  60%|███████████████████▉             | 181/300 [03:44<02:33,  1.29s/it]"
     ]
    },
    {
     "name": "stdout",
     "output_type": "stream",
     "text": [
      "Epoch:  180\n",
      "t_loss:  0.40993818290093365 , v_loss:  0.5588080982367197\n",
      "t_acc:  0.7130407718643013 , v_acc:  0.7515527950310559\n",
      "t_recall:  0.5332303976064012 , v_recall:  0.610990990990991\n",
      "t_prec:  0.7641309090909092 , v_prec:  0.7993197278911565\n",
      "t_f:  0.48153475119711014 , v_f:  0.6099806201550388\n",
      "////////\n"
     ]
    },
    {
     "name": "stderr",
     "output_type": "stream",
     "text": [
      "\r",
      "Iterations:  61%|████████████████████             | 182/300 [03:45<02:19,  1.19s/it]"
     ]
    },
    {
     "name": "stdout",
     "output_type": "stream",
     "text": [
      "Epoch  181 , loss 0.40641628585609735\n",
      "Epoch  182 , loss 0.41104627532117505\n"
     ]
    },
    {
     "name": "stderr",
     "output_type": "stream",
     "text": [
      "\r",
      "Iterations:  61%|████████████████████▏            | 183/300 [03:46<02:28,  1.27s/it]"
     ]
    },
    {
     "name": "stdout",
     "output_type": "stream",
     "text": [
      "Epoch:  182\n",
      "t_loss:  0.41104627532117505 , v_loss:  0.5581981639067332\n",
      "t_acc:  0.7117958294428882 , v_acc:  0.7515527950310559\n",
      "t_recall:  0.5340607458036536 , v_recall:  0.610990990990991\n",
      "t_prec:  0.7302589256995818 , v_prec:  0.7993197278911565\n",
      "t_f:  0.48544950302721723 , v_f:  0.6099806201550388\n",
      "////////\n"
     ]
    },
    {
     "name": "stderr",
     "output_type": "stream",
     "text": [
      "\r",
      "Iterations:  61%|████████████████████▏            | 184/300 [03:48<02:21,  1.22s/it]"
     ]
    },
    {
     "name": "stdout",
     "output_type": "stream",
     "text": [
      "Epoch  183 , loss 0.40809545213100956\n",
      "Epoch  184 , loss 0.40795766255434823\n"
     ]
    },
    {
     "name": "stderr",
     "output_type": "stream",
     "text": [
      "\r",
      "Iterations:  62%|████████████████████▎            | 185/300 [03:49<02:24,  1.25s/it]"
     ]
    },
    {
     "name": "stdout",
     "output_type": "stream",
     "text": [
      "Epoch:  184\n",
      "t_loss:  0.40795766255434823 , v_loss:  0.5531862626473109\n",
      "t_acc:  0.7049486461251168 , v_acc:  0.7515527950310559\n",
      "t_recall:  0.5251135724187151 , v_recall:  0.610990990990991\n",
      "t_prec:  0.679821141939922 , v_prec:  0.7993197278911565\n",
      "t_f:  0.4708814230622243 , v_f:  0.6099806201550388\n",
      "////////\n"
     ]
    },
    {
     "name": "stderr",
     "output_type": "stream",
     "text": [
      "\r",
      "Iterations:  62%|████████████████████▍            | 186/300 [03:50<02:09,  1.13s/it]"
     ]
    },
    {
     "name": "stdout",
     "output_type": "stream",
     "text": [
      "Epoch  185 , loss 0.4071732706883374\n",
      "Epoch  186 , loss 0.4043493650707544\n"
     ]
    },
    {
     "name": "stderr",
     "output_type": "stream",
     "text": [
      "\r",
      "Iterations:  62%|████████████████████▌            | 187/300 [03:51<02:27,  1.31s/it]"
     ]
    },
    {
     "name": "stdout",
     "output_type": "stream",
     "text": [
      "Epoch:  186\n",
      "t_loss:  0.4043493650707544 , v_loss:  0.5529926667610804\n",
      "t_acc:  0.711484593837535 , v_acc:  0.7515527950310559\n",
      "t_recall:  0.532111829373739 , v_recall:  0.610990990990991\n",
      "t_prec:  0.7419044665012406 , v_prec:  0.7993197278911565\n",
      "t_f:  0.480672268907563 , v_f:  0.6099806201550388\n",
      "////////\n"
     ]
    },
    {
     "name": "stderr",
     "output_type": "stream",
     "text": [
      "\r",
      "Iterations:  63%|████████████████████▋            | 188/300 [03:52<02:16,  1.22s/it]"
     ]
    },
    {
     "name": "stdout",
     "output_type": "stream",
     "text": [
      "Epoch  187 , loss 0.40598749237902026\n",
      "Epoch  188 , loss 0.4073455170089123\n"
     ]
    },
    {
     "name": "stderr",
     "output_type": "stream",
     "text": [
      "\r",
      "Iterations:  63%|████████████████████▊            | 189/300 [03:54<02:22,  1.29s/it]"
     ]
    },
    {
     "name": "stdout",
     "output_type": "stream",
     "text": [
      "Epoch:  188\n",
      "t_loss:  0.4073455170089123 , v_loss:  0.5528338452180227\n",
      "t_acc:  0.7124183006535948 , v_acc:  0.7577639751552795\n",
      "t_recall:  0.5345081730967184 , v_recall:  0.620990990990991\n",
      "t_prec:  0.7377049180327868 , v_prec:  0.8066210045662101\n",
      "t_f:  0.48580246913580244 , v_f:  0.624124513618677\n",
      "////////\n"
     ]
    },
    {
     "name": "stderr",
     "output_type": "stream",
     "text": [
      "\r",
      "Iterations:  63%|████████████████████▉            | 190/300 [03:55<02:08,  1.17s/it]"
     ]
    },
    {
     "name": "stdout",
     "output_type": "stream",
     "text": [
      "Epoch  189 , loss 0.4056750319752039\n",
      "Epoch  190 , loss 0.4059308200490241\n"
     ]
    },
    {
     "name": "stderr",
     "output_type": "stream",
     "text": [
      "\r",
      "Iterations:  64%|█████████████████████            | 191/300 [03:57<02:26,  1.34s/it]"
     ]
    },
    {
     "name": "stdout",
     "output_type": "stream",
     "text": [
      "Epoch:  190\n",
      "t_loss:  0.4059308200490241 , v_loss:  0.5543172607819239\n",
      "t_acc:  0.7093059446000622 , v_acc:  0.7577639751552795\n",
      "t_recall:  0.529683232456321 , v_recall:  0.620990990990991\n",
      "t_prec:  0.7213014946143403 , v_prec:  0.8066210045662101\n",
      "t_f:  0.4771411665988325 , v_f:  0.624124513618677\n",
      "////////\n"
     ]
    },
    {
     "name": "stderr",
     "output_type": "stream",
     "text": [
      "\r",
      "Iterations:  64%|█████████████████████            | 192/300 [03:58<02:18,  1.28s/it]"
     ]
    },
    {
     "name": "stdout",
     "output_type": "stream",
     "text": [
      "Epoch  191 , loss 0.40882810599663677\n",
      "Epoch  192 , loss 0.40582570024565157\n"
     ]
    },
    {
     "name": "stderr",
     "output_type": "stream",
     "text": [
      "\r",
      "Iterations:  64%|█████████████████████▏           | 193/300 [03:59<02:30,  1.41s/it]"
     ]
    },
    {
     "name": "stdout",
     "output_type": "stream",
     "text": [
      "Epoch:  192\n",
      "t_loss:  0.40582570024565157 , v_loss:  0.5544840395450592\n",
      "t_acc:  0.7111733582321818 , v_acc:  0.7577639751552795\n",
      "t_recall:  0.5336133185105887 , v_recall:  0.620990990990991\n",
      "t_prec:  0.7230902830492314 , v_prec:  0.8066210045662101\n",
      "t_f:  0.4850968651955333 , v_f:  0.624124513618677\n",
      "////////\n"
     ]
    },
    {
     "name": "stderr",
     "output_type": "stream",
     "text": [
      "\r",
      "Iterations:  65%|█████████████████████▎           | 194/300 [04:01<02:22,  1.34s/it]"
     ]
    },
    {
     "name": "stdout",
     "output_type": "stream",
     "text": [
      "Epoch  193 , loss 0.405265423597074\n",
      "Epoch  194 , loss 0.4016112731952293\n"
     ]
    },
    {
     "name": "stderr",
     "output_type": "stream",
     "text": [
      "\r",
      "Iterations:  65%|█████████████████████▍           | 195/300 [04:02<02:25,  1.39s/it]"
     ]
    },
    {
     "name": "stdout",
     "output_type": "stream",
     "text": [
      "Epoch:  194\n",
      "t_loss:  0.4016112731952293 , v_loss:  0.5531208564837774\n",
      "t_acc:  0.7164643635231871 , v_acc:  0.7577639751552795\n",
      "t_recall:  0.5402917884739435 , v_recall:  0.620990990990991\n",
      "t_prec:  0.7603063227087865 , v_prec:  0.8066210045662101\n",
      "t_f:  0.49564115955683935 , v_f:  0.624124513618677\n",
      "////////\n"
     ]
    },
    {
     "name": "stderr",
     "output_type": "stream",
     "text": [
      "\r",
      "Iterations:  65%|█████████████████████▌           | 196/300 [04:03<02:18,  1.34s/it]"
     ]
    },
    {
     "name": "stdout",
     "output_type": "stream",
     "text": [
      "Epoch  195 , loss 0.40450074625950233\n",
      "Epoch  196 , loss 0.4063011688344619\n"
     ]
    },
    {
     "name": "stderr",
     "output_type": "stream",
     "text": [
      "\r",
      "Iterations:  66%|█████████████████████▋           | 197/300 [04:05<02:20,  1.36s/it]"
     ]
    },
    {
     "name": "stdout",
     "output_type": "stream",
     "text": [
      "Epoch:  196\n",
      "t_loss:  0.4063011688344619 , v_loss:  0.5519003123044968\n",
      "t_acc:  0.713974478680361 , v_acc:  0.7639751552795031\n",
      "t_recall:  0.536776876518302 , v_recall:  0.630990990990991\n",
      "t_prec:  0.7463320463320463 , v_prec:  0.8133620689655172\n",
      "t_f:  0.48971523047993515 , v_f:  0.637902462121212\n",
      "////////\n"
     ]
    },
    {
     "name": "stderr",
     "output_type": "stream",
     "text": [
      "\r",
      "Iterations:  66%|█████████████████████▊           | 198/300 [04:06<02:12,  1.30s/it]"
     ]
    },
    {
     "name": "stdout",
     "output_type": "stream",
     "text": [
      "Epoch  197 , loss 0.3964837906407375\n",
      "Epoch  198 , loss 0.39841996805340635\n"
     ]
    },
    {
     "name": "stderr",
     "output_type": "stream",
     "text": [
      "\r",
      "Iterations:  66%|█████████████████████▉           | 199/300 [04:07<02:13,  1.32s/it]"
     ]
    },
    {
     "name": "stdout",
     "output_type": "stream",
     "text": [
      "Epoch:  198\n",
      "t_loss:  0.39841996805340635 , v_loss:  0.5523289094368616\n",
      "t_acc:  0.7121070650482415 , v_acc:  0.7639751552795031\n",
      "t_recall:  0.535147060841877 , v_recall:  0.630990990990991\n",
      "t_prec:  0.7270686536460796 , v_prec:  0.8133620689655172\n",
      "t_f:  0.4878903101976689 , v_f:  0.637902462121212\n",
      "////////\n"
     ]
    },
    {
     "name": "stderr",
     "output_type": "stream",
     "text": [
      "\r",
      "Iterations:  67%|██████████████████████           | 200/300 [04:08<02:02,  1.23s/it]"
     ]
    },
    {
     "name": "stdout",
     "output_type": "stream",
     "text": [
      "Epoch  199 , loss 0.4055479788312725\n",
      "Epoch  200 , loss 0.402803020734413\n"
     ]
    },
    {
     "name": "stderr",
     "output_type": "stream",
     "text": [
      "\r",
      "Iterations:  67%|██████████████████████           | 201/300 [04:10<02:13,  1.35s/it]"
     ]
    },
    {
     "name": "stdout",
     "output_type": "stream",
     "text": [
      "Epoch:  200\n",
      "t_loss:  0.402803020734413 , v_loss:  0.5527997811635336\n",
      "t_acc:  0.7130407718643013 , v_acc:  0.7639751552795031\n",
      "t_recall:  0.5361057355787047 , v_recall:  0.630990990990991\n",
      "t_prec:  0.7353462157809985 , v_prec:  0.8133620689655172\n",
      "t_f:  0.48917685765721025 , v_f:  0.637902462121212\n",
      "////////\n"
     ]
    },
    {
     "name": "stderr",
     "output_type": "stream",
     "text": [
      "\r",
      "Iterations:  67%|██████████████████████▏          | 202/300 [04:11<02:02,  1.25s/it]"
     ]
    },
    {
     "name": "stdout",
     "output_type": "stream",
     "text": [
      "Epoch  201 , loss 0.4127630784231074\n",
      "Epoch  202 , loss 0.40520861803316605\n"
     ]
    },
    {
     "name": "stderr",
     "output_type": "stream",
     "text": [
      "\r",
      "Iterations:  68%|██████████████████████▎          | 203/300 [04:12<02:03,  1.27s/it]"
     ]
    },
    {
     "name": "stdout",
     "output_type": "stream",
     "text": [
      "Epoch:  202\n",
      "t_loss:  0.40520861803316605 , v_loss:  0.5492214411497116\n",
      "t_acc:  0.7124183006535948 , v_acc:  0.7577639751552795\n",
      "t_recall:  0.5345081730967184 , v_recall:  0.6264864864864865\n",
      "t_prec:  0.7377049180327868 , v_prec:  0.7867647058823529\n",
      "t_f:  0.48580246913580244 , v_f:  0.6324846356453029\n",
      "////////\n"
     ]
    },
    {
     "name": "stderr",
     "output_type": "stream",
     "text": [
      "\r",
      "Iterations:  68%|██████████████████████▍          | 204/300 [04:13<01:50,  1.15s/it]"
     ]
    },
    {
     "name": "stdout",
     "output_type": "stream",
     "text": [
      "Epoch  203 , loss 0.40072977601313126\n",
      "Epoch  204 , loss 0.41649898419193193\n"
     ]
    },
    {
     "name": "stderr",
     "output_type": "stream",
     "text": [
      "\r",
      "Iterations:  68%|██████████████████████▌          | 205/300 [04:15<02:05,  1.32s/it]"
     ]
    },
    {
     "name": "stdout",
     "output_type": "stream",
     "text": [
      "Epoch:  204\n",
      "t_loss:  0.41649898419193193 , v_loss:  0.5491391271352768\n",
      "t_acc:  0.7105508870214753 , v_acc:  0.7577639751552795\n",
      "t_recall:  0.5331658912175238 , v_recall:  0.620990990990991\n",
      "t_prec:  0.7161835748792271 , v_prec:  0.8066210045662101\n",
      "t_f:  0.48474455273449624 , v_f:  0.624124513618677\n",
      "////////\n"
     ]
    },
    {
     "name": "stderr",
     "output_type": "stream",
     "text": [
      "\r",
      "Iterations:  69%|██████████████████████▋          | 206/300 [04:16<01:53,  1.21s/it]"
     ]
    },
    {
     "name": "stdout",
     "output_type": "stream",
     "text": [
      "Epoch  205 , loss 0.3982592961367439\n",
      "Epoch  206 , loss 0.40574518138287113\n"
     ]
    },
    {
     "name": "stderr",
     "output_type": "stream",
     "text": [
      "\r",
      "Iterations:  69%|██████████████████████▊          | 207/300 [04:17<01:59,  1.28s/it]"
     ]
    },
    {
     "name": "stdout",
     "output_type": "stream",
     "text": [
      "Epoch:  206\n",
      "t_loss:  0.40574518138287113 , v_loss:  0.5467681984106699\n",
      "t_acc:  0.7133520074696545 , v_acc:  0.7577639751552795\n",
      "t_recall:  0.5357543816307764 , v_recall:  0.6264864864864865\n",
      "t_prec:  0.743976524209409 , v_prec:  0.7867647058823529\n",
      "t_f:  0.48785026510290425 , v_f:  0.6324846356453029\n",
      "////////\n"
     ]
    },
    {
     "name": "stderr",
     "output_type": "stream",
     "text": [
      "\r",
      "Iterations:  69%|██████████████████████▉          | 208/300 [04:18<01:46,  1.16s/it]"
     ]
    },
    {
     "name": "stdout",
     "output_type": "stream",
     "text": [
      "Epoch  207 , loss 0.4018552414342469\n",
      "Epoch  208 , loss 0.4018192285416173\n"
     ]
    },
    {
     "name": "stderr",
     "output_type": "stream",
     "text": [
      "\r",
      "Iterations:  70%|██████████████████████▉          | 209/300 [04:20<01:53,  1.25s/it]"
     ]
    },
    {
     "name": "stdout",
     "output_type": "stream",
     "text": [
      "Epoch:  208\n",
      "t_loss:  0.4018192285416173 , v_loss:  0.5469041019678116\n",
      "t_acc:  0.7121070650482415 , v_acc:  0.7577639751552795\n",
      "t_recall:  0.5365847298280287 , v_recall:  0.6264864864864865\n",
      "t_prec:  0.7171945701357466 , v_prec:  0.7867647058823529\n",
      "t_f:  0.49160635815141274 , v_f:  0.6324846356453029\n",
      "////////\n"
     ]
    },
    {
     "name": "stderr",
     "output_type": "stream",
     "text": [
      "\r",
      "Iterations:  70%|███████████████████████          | 210/300 [04:21<01:46,  1.18s/it]"
     ]
    },
    {
     "name": "stdout",
     "output_type": "stream",
     "text": [
      "Epoch  209 , loss 0.4036920187520046\n",
      "Epoch  210 , loss 0.4034091193302005\n"
     ]
    },
    {
     "name": "stderr",
     "output_type": "stream",
     "text": [
      "\r",
      "Iterations:  70%|███████████████████████▏         | 211/300 [04:22<01:55,  1.30s/it]"
     ]
    },
    {
     "name": "stdout",
     "output_type": "stream",
     "text": [
      "Epoch:  210\n",
      "t_loss:  0.4034091193302005 , v_loss:  0.5493808388710022\n",
      "t_acc:  0.7158418923124805 , v_acc:  0.7515527950310559\n",
      "t_recall:  0.5389817597891876 , v_recall:  0.6164864864864865\n",
      "t_prec:  0.7611003861003861 , v_prec:  0.7786637931034484\n",
      "t_f:  0.4930467958957354 , v_f:  0.618844696969697\n",
      "////////\n"
     ]
    },
    {
     "name": "stderr",
     "output_type": "stream",
     "text": [
      "\r",
      "Iterations:  71%|███████████████████████▎         | 212/300 [04:23<01:44,  1.19s/it]"
     ]
    },
    {
     "name": "stdout",
     "output_type": "stream",
     "text": [
      "Epoch  211 , loss 0.40098849231121586\n",
      "Epoch  212 , loss 0.403456883687599\n"
     ]
    },
    {
     "name": "stderr",
     "output_type": "stream",
     "text": [
      "\r",
      "Iterations:  71%|███████████████████████▍         | 213/300 [04:25<01:51,  1.28s/it]"
     ]
    },
    {
     "name": "stdout",
     "output_type": "stream",
     "text": [
      "Epoch:  212\n",
      "t_loss:  0.403456883687599 , v_loss:  0.5510331839323044\n",
      "t_acc:  0.7136632430750078 , v_acc:  0.7639751552795031\n",
      "t_recall:  0.539428500844073 , v_recall:  0.630990990990991\n",
      "t_prec:  0.7215743440233235 , v_prec:  0.8133620689655172\n",
      "t_f:  0.4968996617812853 , v_f:  0.637902462121212\n",
      "////////\n"
     ]
    },
    {
     "name": "stderr",
     "output_type": "stream",
     "text": [
      "\r",
      "Iterations:  71%|███████████████████████▌         | 214/300 [04:26<01:41,  1.17s/it]"
     ]
    },
    {
     "name": "stdout",
     "output_type": "stream",
     "text": [
      "Epoch  213 , loss 0.398238903167201\n",
      "Epoch  214 , loss 0.40051137758236305\n"
     ]
    },
    {
     "name": "stderr",
     "output_type": "stream",
     "text": [
      "\r",
      "Iterations:  72%|███████████████████████▋         | 215/300 [04:27<01:46,  1.25s/it]"
     ]
    },
    {
     "name": "stdout",
     "output_type": "stream",
     "text": [
      "Epoch:  214\n",
      "t_loss:  0.40051137758236305 , v_loss:  0.5483721991380056\n",
      "t_acc:  0.713974478680361 , v_acc:  0.7577639751552795\n",
      "t_recall:  0.5382145455044537 , v_recall:  0.6264864864864865\n",
      "t_prec:  0.7344584163696073 , v_prec:  0.7867647058823529\n",
      "t_f:  0.49343580314117297 , v_f:  0.6324846356453029\n",
      "////////\n"
     ]
    },
    {
     "name": "stderr",
     "output_type": "stream",
     "text": [
      "\r",
      "Iterations:  72%|███████████████████████▊         | 216/300 [04:28<01:39,  1.18s/it]"
     ]
    },
    {
     "name": "stdout",
     "output_type": "stream",
     "text": [
      "Epoch  215 , loss 0.40194784659965366\n",
      "Epoch  216 , loss 0.39871953164829926\n"
     ]
    },
    {
     "name": "stderr",
     "output_type": "stream",
     "text": [
      "\r",
      "Iterations:  72%|███████████████████████▊         | 217/300 [04:29<01:42,  1.23s/it]"
     ]
    },
    {
     "name": "stdout",
     "output_type": "stream",
     "text": [
      "Epoch:  216\n",
      "t_loss:  0.39871953164829926 , v_loss:  0.5490185221036276\n",
      "t_acc:  0.713974478680361 , v_acc:  0.7515527950310559\n",
      "t_recall:  0.538502079301684 , v_recall:  0.6219819819819821\n",
      "t_prec:  0.7323345259391771 , v_prec:  0.763014763014763\n",
      "t_f:  0.4941713369462153 , v_f:  0.6271421954608616\n",
      "////////\n"
     ]
    },
    {
     "name": "stderr",
     "output_type": "stream",
     "text": [
      "\r",
      "Iterations:  73%|███████████████████████▉         | 218/300 [04:30<01:32,  1.13s/it]"
     ]
    },
    {
     "name": "stdout",
     "output_type": "stream",
     "text": [
      "Epoch  217 , loss 0.3996189423635894\n",
      "Epoch  218 , loss 0.40200090057709637\n"
     ]
    },
    {
     "name": "stderr",
     "output_type": "stream",
     "text": [
      "\r",
      "Iterations:  73%|████████████████████████         | 219/300 [04:32<01:40,  1.24s/it]"
     ]
    },
    {
     "name": "stdout",
     "output_type": "stream",
     "text": [
      "Epoch:  218\n",
      "t_loss:  0.40200090057709637 , v_loss:  0.5499279499053955\n",
      "t_acc:  0.7096171802054155 , v_acc:  0.7639751552795031\n",
      "t_recall:  0.5316321488862354 , v_recall:  0.630990990990991\n",
      "t_prec:  0.7118725868725868 , v_prec:  0.8133620689655172\n",
      "t_f:  0.481941577843068 , v_f:  0.637902462121212\n",
      "////////\n"
     ]
    },
    {
     "name": "stderr",
     "output_type": "stream",
     "text": [
      "\r",
      "Iterations:  73%|████████████████████████▏        | 220/300 [04:33<01:34,  1.19s/it]"
     ]
    },
    {
     "name": "stdout",
     "output_type": "stream",
     "text": [
      "Epoch  219 , loss 0.3986532886823018\n",
      "Epoch  220 , loss 0.39984721588153466\n"
     ]
    },
    {
     "name": "stderr",
     "output_type": "stream",
     "text": [
      "\r",
      "Iterations:  74%|████████████████████████▎        | 221/300 [04:34<01:37,  1.23s/it]"
     ]
    },
    {
     "name": "stdout",
     "output_type": "stream",
     "text": [
      "Epoch:  220\n",
      "t_loss:  0.39984721588153466 , v_loss:  0.5476924329996109\n",
      "t_acc:  0.7136632430750078 , v_acc:  0.7701863354037267\n",
      "t_recall:  0.5388534332496122 , v_recall:  0.640990990990991\n",
      "t_prec:  0.7252096249821003 , v_prec:  0.8196486928104575\n",
      "t_f:  0.4954494247772505 , v_f:  0.6513315774070823\n",
      "////////\n"
     ]
    },
    {
     "name": "stderr",
     "output_type": "stream",
     "text": [
      "\r",
      "Iterations:  74%|████████████████████████▍        | 222/300 [04:35<01:27,  1.12s/it]"
     ]
    },
    {
     "name": "stdout",
     "output_type": "stream",
     "text": [
      "Epoch  221 , loss 0.4001770644795661\n",
      "Epoch  222 , loss 0.4022051569293527\n"
     ]
    },
    {
     "name": "stderr",
     "output_type": "stream",
     "text": [
      "\r",
      "Iterations:  74%|████████████████████████▌        | 223/300 [04:37<01:38,  1.28s/it]"
     ]
    },
    {
     "name": "stdout",
     "output_type": "stream",
     "text": [
      "Epoch:  222\n",
      "t_loss:  0.4022051569293527 , v_loss:  0.5475083688894907\n",
      "t_acc:  0.7158418923124805 , v_acc:  0.7577639751552795\n",
      "t_recall:  0.541857097761491 , v_recall:  0.631981981981982\n",
      "t_prec:  0.7370272020725388 , v_prec:  0.7714974054855448\n",
      "t_f:  0.5003688299752576 , v_f:  0.6403162055335968\n",
      "////////\n"
     ]
    },
    {
     "name": "stderr",
     "output_type": "stream",
     "text": [
      "\r",
      "Iterations:  75%|████████████████████████▋        | 224/300 [04:38<01:34,  1.25s/it]"
     ]
    },
    {
     "name": "stdout",
     "output_type": "stream",
     "text": [
      "Epoch  223 , loss 0.40113675769637613\n",
      "Epoch  224 , loss 0.39759108482622635\n"
     ]
    },
    {
     "name": "stderr",
     "output_type": "stream",
     "text": [
      "\r",
      "Iterations:  75%|████████████████████████▊        | 225/300 [04:39<01:40,  1.34s/it]"
     ]
    },
    {
     "name": "stdout",
     "output_type": "stream",
     "text": [
      "Epoch:  224\n",
      "t_loss:  0.39759108482622635 , v_loss:  0.5478688925504684\n",
      "t_acc:  0.7136632430750078 , v_acc:  0.7639751552795031\n",
      "t_recall:  0.5368406966689999 , v_recall:  0.6364864864864865\n",
      "t_prec:  0.7401368760064413 , v_prec:  0.7942890442890442\n",
      "t_f:  0.49028493388788874 , v_f:  0.6457850856878184\n",
      "////////\n"
     ]
    },
    {
     "name": "stderr",
     "output_type": "stream",
     "text": [
      "\r",
      "Iterations:  75%|████████████████████████▊        | 226/300 [04:40<01:33,  1.27s/it]"
     ]
    },
    {
     "name": "stdout",
     "output_type": "stream",
     "text": [
      "Epoch  225 , loss 0.4037138583029018\n",
      "Epoch  226 , loss 0.39536182816122095\n"
     ]
    },
    {
     "name": "stderr",
     "output_type": "stream",
     "text": [
      "\r",
      "Iterations:  76%|████████████████████████▉        | 227/300 [04:42<01:38,  1.35s/it]"
     ]
    },
    {
     "name": "stdout",
     "output_type": "stream",
     "text": [
      "Epoch:  226\n",
      "t_loss:  0.39536182816122095 , v_loss:  0.5465783129135767\n",
      "t_acc:  0.7161531279178338 , v_acc:  0.7639751552795031\n",
      "t_recall:  0.5406431424218717 , v_recall:  0.6364864864864865\n",
      "t_prec:  0.7514648188719621 , v_prec:  0.7942890442890442\n",
      "t_f:  0.4969282685818118 , v_f:  0.6457850856878184\n",
      "////////\n"
     ]
    },
    {
     "name": "stderr",
     "output_type": "stream",
     "text": [
      "\r",
      "Iterations:  76%|█████████████████████████        | 228/300 [04:43<01:30,  1.26s/it]"
     ]
    },
    {
     "name": "stdout",
     "output_type": "stream",
     "text": [
      "Epoch  227 , loss 0.40101296761456656\n",
      "Epoch  228 , loss 0.400470762276182\n"
     ]
    },
    {
     "name": "stderr",
     "output_type": "stream",
     "text": [
      "\r",
      "Iterations:  76%|█████████████████████████▏       | 229/300 [04:45<01:35,  1.34s/it]"
     ]
    },
    {
     "name": "stdout",
     "output_type": "stream",
     "text": [
      "Epoch:  228\n",
      "t_loss:  0.400470762276182 , v_loss:  0.546757365266482\n",
      "t_acc:  0.7149081854964208 , v_acc:  0.7639751552795031\n",
      "t_recall:  0.5417610244163544 , v_recall:  0.6364864864864865\n",
      "t_prec:  0.7244511817296628 , v_prec:  0.7942890442890442\n",
      "t_f:  0.5012323836251602 , v_f:  0.6457850856878184\n",
      "////////\n"
     ]
    },
    {
     "name": "stderr",
     "output_type": "stream",
     "text": [
      "\r",
      "Iterations:  77%|█████████████████████████▎       | 230/300 [04:45<01:24,  1.20s/it]"
     ]
    },
    {
     "name": "stdout",
     "output_type": "stream",
     "text": [
      "Epoch  229 , loss 0.402888509572721\n",
      "Epoch  230 , loss 0.39626899945969674\n"
     ]
    },
    {
     "name": "stderr",
     "output_type": "stream",
     "text": [
      "\r",
      "Iterations:  77%|█████████████████████████▍       | 231/300 [04:47<01:30,  1.31s/it]"
     ]
    },
    {
     "name": "stdout",
     "output_type": "stream",
     "text": [
      "Epoch:  230\n",
      "t_loss:  0.39626899945969674 , v_loss:  0.5470885088046392\n",
      "t_acc:  0.7192654839713664 , v_acc:  0.7639751552795031\n",
      "t_recall:  0.547768353440112 , v_recall:  0.6364864864864865\n",
      "t_prec:  0.7460551431601272 , v_prec:  0.7942890442890442\n",
      "t_f:  0.510944049571715 , v_f:  0.6457850856878184\n",
      "////////\n"
     ]
    },
    {
     "name": "stderr",
     "output_type": "stream",
     "text": [
      "\r",
      "Iterations:  77%|█████████████████████████▌       | 232/300 [04:48<01:27,  1.28s/it]"
     ]
    },
    {
     "name": "stdout",
     "output_type": "stream",
     "text": [
      "Epoch  231 , loss 0.39951134955181794\n",
      "Epoch  232 , loss 0.39597075593237785\n"
     ]
    },
    {
     "name": "stderr",
     "output_type": "stream",
     "text": [
      "\r",
      "Iterations:  78%|█████████████████████████▋       | 233/300 [04:50<01:29,  1.34s/it]"
     ]
    },
    {
     "name": "stdout",
     "output_type": "stream",
     "text": [
      "Epoch:  232\n",
      "t_loss:  0.39597075593237785 , v_loss:  0.5462093750635783\n",
      "t_acc:  0.7230003112356054 , v_acc:  0.7577639751552795\n",
      "t_recall:  0.5541908565624957 , v_recall:  0.631981981981982\n",
      "t_prec:  0.7545865644182328 , v_prec:  0.7714974054855448\n",
      "t_f:  0.5221690105071786 , v_f:  0.6403162055335968\n",
      "////////\n"
     ]
    },
    {
     "name": "stderr",
     "output_type": "stream",
     "text": [
      "\r",
      "Iterations:  78%|█████████████████████████▋       | 234/300 [04:51<01:18,  1.19s/it]"
     ]
    },
    {
     "name": "stdout",
     "output_type": "stream",
     "text": [
      "Epoch  233 , loss 0.40448522567749023\n",
      "Epoch  234 , loss 0.3980918491587919\n"
     ]
    },
    {
     "name": "stderr",
     "output_type": "stream",
     "text": [
      "\r",
      "Iterations:  78%|█████████████████████████▊       | 235/300 [04:52<01:24,  1.30s/it]"
     ]
    },
    {
     "name": "stdout",
     "output_type": "stream",
     "text": [
      "Epoch:  234\n",
      "t_loss:  0.3980918491587919 , v_loss:  0.5480352242787679\n",
      "t_acc:  0.7161531279178338 , v_acc:  0.7639751552795031\n",
      "t_recall:  0.5409306762191022 , v_recall:  0.6364864864864865\n",
      "t_prec:  0.7490382795363699 , v_prec:  0.7942890442890442\n",
      "t_f:  0.4976596068578388 , v_f:  0.6457850856878184\n",
      "////////\n"
     ]
    },
    {
     "name": "stderr",
     "output_type": "stream",
     "text": [
      "\r",
      "Iterations:  79%|█████████████████████████▉       | 236/300 [04:53<01:15,  1.17s/it]"
     ]
    },
    {
     "name": "stdout",
     "output_type": "stream",
     "text": [
      "Epoch  235 , loss 0.40571342613182815\n",
      "Epoch  236 , loss 0.3992728836396161\n"
     ]
    },
    {
     "name": "stderr",
     "output_type": "stream",
     "text": [
      "\r",
      "Iterations:  79%|██████████████████████████       | 237/300 [04:54<01:18,  1.25s/it]"
     ]
    },
    {
     "name": "stdout",
     "output_type": "stream",
     "text": [
      "Epoch:  236\n",
      "t_loss:  0.3992728836396161 , v_loss:  0.5459855000178019\n",
      "t_acc:  0.7186430127606598 , v_acc:  0.7639751552795031\n",
      "t_recall:  0.5461707909581258 , v_recall:  0.6364864864864865\n",
      "t_prec:  0.7481521642914049 , v_prec:  0.7942890442890442\n",
      "t_f:  0.5077664572021232 , v_f:  0.6457850856878184\n",
      "////////\n"
     ]
    },
    {
     "name": "stderr",
     "output_type": "stream",
     "text": [
      "\r",
      "Iterations:  79%|██████████████████████████▏      | 238/300 [04:55<01:11,  1.16s/it]"
     ]
    },
    {
     "name": "stdout",
     "output_type": "stream",
     "text": [
      "Epoch  237 , loss 0.39390160990696327\n",
      "Epoch  238 , loss 0.3943358256536372\n"
     ]
    },
    {
     "name": "stderr",
     "output_type": "stream",
     "text": [
      "\r",
      "Iterations:  80%|██████████████████████████▎      | 239/300 [04:57<01:17,  1.27s/it]"
     ]
    },
    {
     "name": "stdout",
     "output_type": "stream",
     "text": [
      "Epoch:  238\n",
      "t_loss:  0.3943358256536372 , v_loss:  0.5481464862823486\n",
      "t_acc:  0.7201991907874261 , v_acc:  0.7577639751552795\n",
      "t_recall:  0.5493020957714003 , v_recall:  0.631981981981982\n",
      "t_prec:  0.7487948803191489 , v_prec:  0.7714974054855448\n",
      "t_f:  0.5136026018547005 , v_f:  0.6403162055335968\n",
      "////////\n"
     ]
    },
    {
     "name": "stderr",
     "output_type": "stream",
     "text": [
      "\r",
      "Iterations:  80%|██████████████████████████▍      | 240/300 [04:58<01:10,  1.18s/it]"
     ]
    },
    {
     "name": "stdout",
     "output_type": "stream",
     "text": [
      "Epoch  239 , loss 0.39478513101736706\n",
      "Epoch  240 , loss 0.4015539913785224\n"
     ]
    },
    {
     "name": "stderr",
     "output_type": "stream",
     "text": [
      "\r",
      "Iterations:  80%|██████████████████████████▌      | 241/300 [04:59<01:16,  1.30s/it]"
     ]
    },
    {
     "name": "stdout",
     "output_type": "stream",
     "text": [
      "Epoch:  240\n",
      "t_loss:  0.4015539913785224 , v_loss:  0.548579216003418\n",
      "t_acc:  0.7201991907874261 , v_acc:  0.7639751552795031\n",
      "t_recall:  0.5478644267852486 , v_recall:  0.6364864864864865\n",
      "t_prec:  0.7591345463191841 , v_prec:  0.7942890442890442\n",
      "t_f:  0.5101397375721035 , v_f:  0.6457850856878184\n",
      "////////\n"
     ]
    },
    {
     "name": "stderr",
     "output_type": "stream",
     "text": [
      "\r",
      "Iterations:  81%|██████████████████████████▌      | 242/300 [05:00<01:09,  1.20s/it]"
     ]
    },
    {
     "name": "stdout",
     "output_type": "stream",
     "text": [
      "Epoch  241 , loss 0.3970637198756723\n",
      "Epoch  242 , loss 0.39704375231967254\n"
     ]
    },
    {
     "name": "stderr",
     "output_type": "stream",
     "text": [
      "\r",
      "Iterations:  81%|██████████████████████████▋      | 243/300 [05:02<01:17,  1.36s/it]"
     ]
    },
    {
     "name": "stdout",
     "output_type": "stream",
     "text": [
      "Epoch:  242\n",
      "t_loss:  0.39704375231967254 , v_loss:  0.5460253407557806\n",
      "t_acc:  0.7108621226268285 , v_acc:  0.7701863354037267\n",
      "t_recall:  0.53655247663359 , v_recall:  0.6464864864864865\n",
      "t_prec:  0.7008302416070944 , v_prec:  0.8013343217197924\n",
      "t_f:  0.49306902544490766 , v_f:  0.6587615283267457\n",
      "////////\n"
     ]
    },
    {
     "name": "stderr",
     "output_type": "stream",
     "text": [
      "\r",
      "Iterations:  81%|██████████████████████████▊      | 244/300 [05:03<01:07,  1.21s/it]"
     ]
    },
    {
     "name": "stdout",
     "output_type": "stream",
     "text": [
      "Epoch  243 , loss 0.39819197911842197\n",
      "Epoch  244 , loss 0.3945563505677616\n"
     ]
    },
    {
     "name": "stderr",
     "output_type": "stream",
     "text": [
      "\r",
      "Iterations:  82%|██████████████████████████▉      | 245/300 [05:04<01:11,  1.30s/it]"
     ]
    },
    {
     "name": "stdout",
     "output_type": "stream",
     "text": [
      "Epoch:  244\n",
      "t_loss:  0.3945563505677616 , v_loss:  0.5444698085387548\n",
      "t_acc:  0.7195767195767195 , v_acc:  0.7701863354037267\n",
      "t_recall:  0.5462668643032623 , v_recall:  0.6464864864864865\n",
      "t_prec:  0.7619987046632124 , v_prec:  0.8013343217197924\n",
      "t_f:  0.5069357237762399 , v_f:  0.6587615283267457\n",
      "////////\n"
     ]
    },
    {
     "name": "stderr",
     "output_type": "stream",
     "text": [
      "\r",
      "Iterations:  82%|███████████████████████████      | 246/300 [05:05<01:02,  1.16s/it]"
     ]
    },
    {
     "name": "stdout",
     "output_type": "stream",
     "text": [
      "Epoch  245 , loss 0.40078625842636706\n",
      "Epoch  246 , loss 0.39465246539489895\n"
     ]
    },
    {
     "name": "stderr",
     "output_type": "stream",
     "text": [
      "\r",
      "Iterations:  82%|███████████████████████████▏     | 247/300 [05:07<01:09,  1.31s/it]"
     ]
    },
    {
     "name": "stdout",
     "output_type": "stream",
     "text": [
      "Epoch:  246\n",
      "t_loss:  0.39465246539489895 , v_loss:  0.5434205283721288\n",
      "t_acc:  0.7205104263927793 , v_acc:  0.7701863354037267\n",
      "t_recall:  0.5492382756207025 , v_recall:  0.6464864864864865\n",
      "t_prec:  0.7536267232237539 , v_prec:  0.8013343217197924\n",
      "t_f:  0.5131128121013304 , v_f:  0.6587615283267457\n",
      "////////\n"
     ]
    },
    {
     "name": "stderr",
     "output_type": "stream",
     "text": [
      "\r",
      "Iterations:  83%|███████████████████████████▎     | 248/300 [05:08<01:06,  1.28s/it]"
     ]
    },
    {
     "name": "stdout",
     "output_type": "stream",
     "text": [
      "Epoch  247 , loss 0.39708766282773483\n",
      "Epoch  248 , loss 0.3977198741015266\n"
     ]
    },
    {
     "name": "stderr",
     "output_type": "stream",
     "text": [
      "\r",
      "Iterations:  83%|███████████████████████████▍     | 249/300 [05:10<01:07,  1.32s/it]"
     ]
    },
    {
     "name": "stdout",
     "output_type": "stream",
     "text": [
      "Epoch:  248\n",
      "t_loss:  0.3977198741015266 , v_loss:  0.5431865851084391\n",
      "t_acc:  0.7217553688141923 , v_acc:  0.7639751552795031\n",
      "t_recall:  0.5527209343819053 , v_recall:  0.641981981981982\n",
      "t_prec:  0.7476809264258326 , v_prec:  0.7794326241134752\n",
      "t_f:  0.5200214554982221 , v_f:  0.6531746031746032\n",
      "////////\n"
     ]
    },
    {
     "name": "stderr",
     "output_type": "stream",
     "text": [
      "\r",
      "Iterations:  83%|███████████████████████████▌     | 250/300 [05:11<01:02,  1.25s/it]"
     ]
    },
    {
     "name": "stdout",
     "output_type": "stream",
     "text": [
      "Epoch  249 , loss 0.3981037297669579\n",
      "Epoch  250 , loss 0.3936545328766692\n"
     ]
    },
    {
     "name": "stderr",
     "output_type": "stream",
     "text": [
      "\r",
      "Iterations:  84%|███████████████████████████▌     | 251/300 [05:12<01:02,  1.28s/it]"
     ]
    },
    {
     "name": "stdout",
     "output_type": "stream",
     "text": [
      "Epoch:  250\n",
      "t_loss:  0.3936545328766692 , v_loss:  0.5419182876745859\n",
      "t_acc:  0.7177093059446 , v_acc:  0.7639751552795031\n",
      "t_recall:  0.5469373190046801 , v_recall:  0.641981981981982\n",
      "t_prec:  0.7306276131816751 , v_prec:  0.7794326241134752\n",
      "t_f:  0.5106533390851027 , v_f:  0.6531746031746032\n",
      "////////\n"
     ]
    },
    {
     "name": "stderr",
     "output_type": "stream",
     "text": [
      "\r",
      "Iterations:  84%|███████████████████████████▋     | 252/300 [05:13<00:58,  1.22s/it]"
     ]
    },
    {
     "name": "stdout",
     "output_type": "stream",
     "text": [
      "Epoch  251 , loss 0.39293153554785487\n",
      "Epoch  252 , loss 0.3936801009318408\n"
     ]
    },
    {
     "name": "stderr",
     "output_type": "stream",
     "text": [
      "\r",
      "Iterations:  84%|███████████████████████████▊     | 253/300 [05:15<00:59,  1.27s/it]"
     ]
    },
    {
     "name": "stdout",
     "output_type": "stream",
     "text": [
      "Epoch:  252\n",
      "t_loss:  0.3936801009318408 , v_loss:  0.5421831955512365\n",
      "t_acc:  0.7173980703392469 , v_acc:  0.7639751552795031\n",
      "t_recall:  0.5435507335886139 , v_recall:  0.641981981981982\n",
      "t_prec:  0.7485262481855491 , v_prec:  0.7794326241134752\n",
      "t_f:  0.502747548682063 , v_f:  0.6531746031746032\n",
      "////////\n"
     ]
    },
    {
     "name": "stderr",
     "output_type": "stream",
     "text": [
      "\r",
      "Iterations:  85%|███████████████████████████▉     | 254/300 [05:15<00:54,  1.18s/it]"
     ]
    },
    {
     "name": "stdout",
     "output_type": "stream",
     "text": [
      "Epoch  253 , loss 0.3960072468308842\n",
      "Epoch  254 , loss 0.3966379259146896\n"
     ]
    },
    {
     "name": "stderr",
     "output_type": "stream",
     "text": [
      "\r",
      "Iterations:  85%|████████████████████████████     | 255/300 [05:17<00:56,  1.26s/it]"
     ]
    },
    {
     "name": "stdout",
     "output_type": "stream",
     "text": [
      "Epoch:  254\n",
      "t_loss:  0.3966379259146896 , v_loss:  0.5449423789978027\n",
      "t_acc:  0.7180205415499533 , v_acc:  0.7639751552795031\n",
      "t_recall:  0.5431355594899878 , v_recall:  0.641981981981982\n",
      "t_prec:  0.7624536537026934 , v_prec:  0.7794326241134752\n",
      "t_f:  0.500964477865353 , v_f:  0.6531746031746032\n",
      "////////\n"
     ]
    },
    {
     "name": "stderr",
     "output_type": "stream",
     "text": [
      "\r",
      "Iterations:  85%|████████████████████████████▏    | 256/300 [05:18<00:50,  1.15s/it]"
     ]
    },
    {
     "name": "stdout",
     "output_type": "stream",
     "text": [
      "Epoch  255 , loss 0.4041789156549117\n",
      "Epoch  256 , loss 0.39721539675020706\n"
     ]
    },
    {
     "name": "stderr",
     "output_type": "stream",
     "text": [
      "\r",
      "Iterations:  86%|████████████████████████████▎    | 257/300 [05:19<00:54,  1.26s/it]"
     ]
    },
    {
     "name": "stdout",
     "output_type": "stream",
     "text": [
      "Epoch:  256\n",
      "t_loss:  0.39721539675020706 , v_loss:  0.5409743438164393\n",
      "t_acc:  0.7186430127606598 , v_acc:  0.7639751552795031\n",
      "t_recall:  0.5450206557692044 , v_recall:  0.641981981981982\n",
      "t_prec:  0.7569144936768346 , v_prec:  0.7794326241134752\n",
      "t_f:  0.5049380881151817 , v_f:  0.6531746031746032\n",
      "////////\n"
     ]
    },
    {
     "name": "stderr",
     "output_type": "stream",
     "text": [
      "\r",
      "Iterations:  86%|████████████████████████████▍    | 258/300 [05:20<00:49,  1.18s/it]"
     ]
    },
    {
     "name": "stdout",
     "output_type": "stream",
     "text": [
      "Epoch  257 , loss 0.39245806342246486\n",
      "Epoch  258 , loss 0.39404400131281686\n"
     ]
    },
    {
     "name": "stderr",
     "output_type": "stream",
     "text": [
      "\r",
      "Iterations:  86%|████████████████████████████▍    | 259/300 [05:22<00:52,  1.29s/it]"
     ]
    },
    {
     "name": "stdout",
     "output_type": "stream",
     "text": [
      "Epoch:  258\n",
      "t_loss:  0.39404400131281686 , v_loss:  0.5412603616714478\n",
      "t_acc:  0.7161531279178338 , v_acc:  0.7701863354037267\n",
      "t_recall:  0.5417932776107931 , v_recall:  0.651981981981982\n",
      "t_prec:  0.7422501073979983 , v_prec:  0.7869047619047619\n",
      "t_f:  0.49983682108353533 , v_f:  0.6657314404354413\n",
      "////////\n"
     ]
    },
    {
     "name": "stderr",
     "output_type": "stream",
     "text": [
      "\r",
      "Iterations:  87%|████████████████████████████▌    | 260/300 [05:23<00:47,  1.20s/it]"
     ]
    },
    {
     "name": "stdout",
     "output_type": "stream",
     "text": [
      "Epoch  259 , loss 0.39628706200450076\n",
      "Epoch  260 , loss 0.39004702953731313\n"
     ]
    },
    {
     "name": "stderr",
     "output_type": "stream",
     "text": [
      "\r",
      "Iterations:  87%|████████████████████████████▋    | 261/300 [05:24<00:48,  1.24s/it]"
     ]
    },
    {
     "name": "stdout",
     "output_type": "stream",
     "text": [
      "Epoch:  260\n",
      "t_loss:  0.39004702953731313 , v_loss:  0.5395580728848776\n",
      "t_acc:  0.7248677248677249 , v_acc:  0.7763975155279503\n",
      "t_recall:  0.5549580708472297 , v_recall:  0.661981981981982\n",
      "t_prec:  0.7754734201365798 , v_prec:  0.7939829954218444\n",
      "t_f:  0.5220552205050886 , v_f:  0.6779999999999999\n",
      "////////\n"
     ]
    },
    {
     "name": "stderr",
     "output_type": "stream",
     "text": [
      "\r",
      "Iterations:  87%|████████████████████████████▊    | 262/300 [05:25<00:43,  1.14s/it]"
     ]
    },
    {
     "name": "stdout",
     "output_type": "stream",
     "text": [
      "Epoch  261 , loss 0.3958856960137685\n",
      "Epoch  262 , loss 0.38893797526172563\n"
     ]
    },
    {
     "name": "stderr",
     "output_type": "stream",
     "text": [
      "\r",
      "Iterations:  88%|████████████████████████████▉    | 263/300 [05:27<00:45,  1.24s/it]"
     ]
    },
    {
     "name": "stdout",
     "output_type": "stream",
     "text": [
      "Epoch:  262\n",
      "t_loss:  0.38893797526172563 , v_loss:  0.5419098238150278\n",
      "t_acc:  0.7242452536570184 , v_acc:  0.7701863354037267\n",
      "t_recall:  0.5542231097569345 , v_recall:  0.651981981981982\n",
      "t_prec:  0.771789479960191 , v_prec:  0.7869047619047619\n",
      "t_f:  0.520973897474557 , v_f:  0.6657314404354413\n",
      "////////\n"
     ]
    },
    {
     "name": "stderr",
     "output_type": "stream",
     "text": [
      "\r",
      "Iterations:  88%|█████████████████████████████    | 264/300 [05:28<00:43,  1.22s/it]"
     ]
    },
    {
     "name": "stdout",
     "output_type": "stream",
     "text": [
      "Epoch  263 , loss 0.3878769640829049\n",
      "Epoch  264 , loss 0.39008573924793916\n"
     ]
    },
    {
     "name": "stderr",
     "output_type": "stream",
     "text": [
      "\r",
      "Iterations:  88%|█████████████████████████████▏   | 265/300 [05:29<00:46,  1.32s/it]"
     ]
    },
    {
     "name": "stdout",
     "output_type": "stream",
     "text": [
      "Epoch:  264\n",
      "t_loss:  0.39008573924793916 , v_loss:  0.5397993822892507\n",
      "t_acc:  0.7195767195767195 , v_acc:  0.782608695652174\n",
      "t_recall:  0.5477045332894142 , v_recall:  0.671981981981982\n",
      "t_prec:  0.7509421702404159 , v_prec:  0.8007246376811594\n",
      "t_f:  0.510446075663467 , v_f:  0.6899928481047477\n",
      "////////\n"
     ]
    },
    {
     "name": "stderr",
     "output_type": "stream",
     "text": [
      "\r",
      "Iterations:  89%|█████████████████████████████▎   | 266/300 [05:30<00:41,  1.21s/it]"
     ]
    },
    {
     "name": "stdout",
     "output_type": "stream",
     "text": [
      "Epoch  265 , loss 0.3963133242784762\n",
      "Epoch  266 , loss 0.38576805240967693\n"
     ]
    },
    {
     "name": "stderr",
     "output_type": "stream",
     "text": [
      "\r",
      "Iterations:  89%|█████████████████████████████▎   | 267/300 [05:32<00:42,  1.30s/it]"
     ]
    },
    {
     "name": "stdout",
     "output_type": "stream",
     "text": [
      "Epoch:  266\n",
      "t_loss:  0.38576805240967693 , v_loss:  0.5384286344051361\n",
      "t_acc:  0.7301587301587301 , v_acc:  0.782608695652174\n",
      "t_recall:  0.563649277391197 , v_recall:  0.671981981981982\n",
      "t_prec:  0.7865125847944545 , v_prec:  0.8007246376811594\n",
      "t_f:  0.5367709454231439 , v_f:  0.6899928481047477\n",
      "////////\n"
     ]
    },
    {
     "name": "stderr",
     "output_type": "stream",
     "text": [
      "\r",
      "Iterations:  89%|█████████████████████████████▍   | 268/300 [05:33<00:37,  1.18s/it]"
     ]
    },
    {
     "name": "stdout",
     "output_type": "stream",
     "text": [
      "Epoch  267 , loss 0.3943590399096994\n",
      "Epoch  268 , loss 0.3850729465484619\n"
     ]
    },
    {
     "name": "stderr",
     "output_type": "stream",
     "text": [
      "\r",
      "Iterations:  90%|█████████████████████████████▌   | 269/300 [05:34<00:41,  1.33s/it]"
     ]
    },
    {
     "name": "stdout",
     "output_type": "stream",
     "text": [
      "Epoch:  268\n",
      "t_loss:  0.3850729465484619 , v_loss:  0.535359337925911\n",
      "t_acc:  0.7236227824463118 , v_acc:  0.7888198757763976\n",
      "t_recall:  0.5543507500583302 , v_recall:  0.681981981981982\n",
      "t_prec:  0.7618965213174023 , v_prec:  0.8071776155717763\n",
      "t_f:  0.5219102516840377 , v_f:  0.7017218831734962\n",
      "////////\n"
     ]
    },
    {
     "name": "stderr",
     "output_type": "stream",
     "text": [
      "\r",
      "Iterations:  90%|█████████████████████████████▋   | 270/300 [05:35<00:36,  1.20s/it]"
     ]
    },
    {
     "name": "stdout",
     "output_type": "stream",
     "text": [
      "Epoch  269 , loss 0.39570793480265376\n",
      "Epoch  270 , loss 0.39183184825906564\n"
     ]
    },
    {
     "name": "stderr",
     "output_type": "stream",
     "text": [
      "\r",
      "Iterations:  90%|█████████████████████████████▊   | 271/300 [05:37<00:38,  1.33s/it]"
     ]
    },
    {
     "name": "stdout",
     "output_type": "stream",
     "text": [
      "Epoch:  270\n",
      "t_loss:  0.39183184825906564 , v_loss:  0.53718634446462\n",
      "t_acc:  0.7220666044195456 , v_acc:  0.782608695652174\n",
      "t_recall:  0.5538072494201287 , v_recall:  0.671981981981982\n",
      "t_prec:  0.7451343498849502 , v_prec:  0.8007246376811594\n",
      "t_f:  0.5222193451268341 , v_f:  0.6899928481047477\n",
      "////////\n"
     ]
    },
    {
     "name": "stderr",
     "output_type": "stream",
     "text": [
      "\r",
      "Iterations:  91%|█████████████████████████████▉   | 272/300 [05:38<00:35,  1.27s/it]"
     ]
    },
    {
     "name": "stdout",
     "output_type": "stream",
     "text": [
      "Epoch  271 , loss 0.3890717158130571\n",
      "Epoch  272 , loss 0.38777095897524966\n"
     ]
    },
    {
     "name": "stderr",
     "output_type": "stream",
     "text": [
      "\r",
      "Iterations:  91%|██████████████████████████████   | 273/300 [05:39<00:35,  1.32s/it]"
     ]
    },
    {
     "name": "stdout",
     "output_type": "stream",
     "text": [
      "Epoch:  272\n",
      "t_loss:  0.38777095897524966 , v_loss:  0.5362376024325689\n",
      "t_acc:  0.7223778400248988 , v_acc:  0.782608695652174\n",
      "t_recall:  0.5543184968638915 , v_recall:  0.671981981981982\n",
      "t_prec:  0.7459777496944209 , v_prec:  0.8007246376811594\n",
      "t_f:  0.5230843472935914 , v_f:  0.6899928481047477\n",
      "////////\n"
     ]
    },
    {
     "name": "stderr",
     "output_type": "stream",
     "text": [
      "\r",
      "Iterations:  91%|██████████████████████████████▏  | 274/300 [05:40<00:30,  1.19s/it]"
     ]
    },
    {
     "name": "stdout",
     "output_type": "stream",
     "text": [
      "Epoch  273 , loss 0.39064594752648296\n",
      "Epoch  274 , loss 0.3915007716300441\n"
     ]
    },
    {
     "name": "stderr",
     "output_type": "stream",
     "text": [
      "\r",
      "Iterations:  92%|██████████████████████████████▎  | 275/300 [05:42<00:31,  1.26s/it]"
     ]
    },
    {
     "name": "stdout",
     "output_type": "stream",
     "text": [
      "Epoch:  274\n",
      "t_loss:  0.3915007716300441 , v_loss:  0.5384552578131357\n",
      "t_acc:  0.7230003112356054 , v_acc:  0.782608695652174\n",
      "t_recall:  0.5562035931431081 , v_recall:  0.671981981981982\n",
      "t_prec:  0.7428845674789739 , v_prec:  0.8007246376811594\n",
      "t_f:  0.5267655952529107 , v_f:  0.6899928481047477\n",
      "////////\n"
     ]
    },
    {
     "name": "stderr",
     "output_type": "stream",
     "text": [
      "\r",
      "Iterations:  92%|██████████████████████████████▎  | 276/300 [05:43<00:29,  1.21s/it]"
     ]
    },
    {
     "name": "stdout",
     "output_type": "stream",
     "text": [
      "Epoch  275 , loss 0.3941978023332708\n",
      "Epoch  276 , loss 0.3845559650776433\n"
     ]
    },
    {
     "name": "stderr",
     "output_type": "stream",
     "text": [
      "\r",
      "Iterations:  92%|██████████████████████████████▍  | 277/300 [05:44<00:29,  1.26s/it]"
     ]
    },
    {
     "name": "stdout",
     "output_type": "stream",
     "text": [
      "Epoch:  276\n",
      "t_loss:  0.3845559650776433 , v_loss:  0.5357721894979477\n",
      "t_acc:  0.7251789604730782 , v_acc:  0.782608695652174\n",
      "t_recall:  0.5580571224660655 , v_recall:  0.671981981981982\n",
      "t_prec:  0.7582625790643341 , v_prec:  0.8007246376811594\n",
      "t_f:  0.5288725654872979 , v_f:  0.6899928481047477\n",
      "////////\n"
     ]
    },
    {
     "name": "stderr",
     "output_type": "stream",
     "text": [
      "\r",
      "Iterations:  93%|██████████████████████████████▌  | 278/300 [05:45<00:24,  1.13s/it]"
     ]
    },
    {
     "name": "stdout",
     "output_type": "stream",
     "text": [
      "Epoch  277 , loss 0.3886186293527192\n",
      "Epoch  278 , loss 0.38771937378481325\n"
     ]
    },
    {
     "name": "stderr",
     "output_type": "stream",
     "text": [
      "\r",
      "Iterations:  93%|██████████████████████████████▋  | 279/300 [05:47<00:26,  1.25s/it]"
     ]
    },
    {
     "name": "stdout",
     "output_type": "stream",
     "text": [
      "Epoch:  278\n",
      "t_loss:  0.38771937378481325 , v_loss:  0.5385557860136032\n",
      "t_acc:  0.7245564892623716 , v_acc:  0.7763975155279503\n",
      "t_recall:  0.5573221613757703 , v_recall:  0.661981981981982\n",
      "t_prec:  0.7549931620035331 , v_prec:  0.7939829954218444\n",
      "t_f:  0.5278054591803607 , v_f:  0.6779999999999999\n",
      "////////\n"
     ]
    },
    {
     "name": "stderr",
     "output_type": "stream",
     "text": [
      "\r",
      "Iterations:  93%|██████████████████████████████▊  | 280/300 [05:47<00:22,  1.15s/it]"
     ]
    },
    {
     "name": "stdout",
     "output_type": "stream",
     "text": [
      "Epoch  279 , loss 0.3862747363015717\n",
      "Epoch  280 , loss 0.38790008601020365\n"
     ]
    },
    {
     "name": "stderr",
     "output_type": "stream",
     "text": [
      "\r",
      "Iterations:  94%|██████████████████████████████▉  | 281/300 [05:49<00:23,  1.25s/it]"
     ]
    },
    {
     "name": "stdout",
     "output_type": "stream",
     "text": [
      "Epoch:  280\n",
      "t_loss:  0.38790008601020365 , v_loss:  0.5388771543900172\n",
      "t_acc:  0.7226890756302521 , v_acc:  0.7763975155279503\n",
      "t_recall:  0.5525294739298116 , v_recall:  0.661981981981982\n",
      "t_prec:  0.7615441561695633 , v_prec:  0.7939829954218444\n",
      "t_f:  0.5186095960840135 , v_f:  0.6779999999999999\n",
      "////////\n"
     ]
    },
    {
     "name": "stderr",
     "output_type": "stream",
     "text": [
      "\r",
      "Iterations:  94%|███████████████████████████████  | 282/300 [05:50<00:20,  1.17s/it]"
     ]
    },
    {
     "name": "stdout",
     "output_type": "stream",
     "text": [
      "Epoch  281 , loss 0.39024536165536616\n",
      "Epoch  282 , loss 0.38514743073313845\n"
     ]
    },
    {
     "name": "stderr",
     "output_type": "stream",
     "text": [
      "\r",
      "Iterations:  94%|███████████████████████████████▏ | 283/300 [05:51<00:21,  1.26s/it]"
     ]
    },
    {
     "name": "stdout",
     "output_type": "stream",
     "text": [
      "Epoch:  282\n",
      "t_loss:  0.38514743073313845 , v_loss:  0.536950429280599\n",
      "t_acc:  0.7289137877373172 , v_acc:  0.782608695652174\n",
      "t_recall:  0.5621793552106065 , v_recall:  0.671981981981982\n",
      "t_prec:  0.7798958371946474 , v_prec:  0.8007246376811594\n",
      "t_f:  0.5346337871551999 , v_f:  0.6899928481047477\n",
      "////////\n"
     ]
    },
    {
     "name": "stderr",
     "output_type": "stream",
     "text": [
      "\r",
      "Iterations:  95%|███████████████████████████████▏ | 284/300 [05:52<00:18,  1.14s/it]"
     ]
    },
    {
     "name": "stdout",
     "output_type": "stream",
     "text": [
      "Epoch  283 , loss 0.3849597278178907\n",
      "Epoch  284 , loss 0.3908783507113363\n"
     ]
    },
    {
     "name": "stderr",
     "output_type": "stream",
     "text": [
      "\r",
      "Iterations:  95%|███████████████████████████████▎ | 285/300 [05:54<00:18,  1.25s/it]"
     ]
    },
    {
     "name": "stdout",
     "output_type": "stream",
     "text": [
      "Epoch:  284\n",
      "t_loss:  0.3908783507113363 , v_loss:  0.5372602045536041\n",
      "t_acc:  0.7189542483660131 , v_acc:  0.7763975155279503\n",
      "t_recall:  0.5492698425769617 , v_recall:  0.661981981981982\n",
      "t_prec:  0.7329246348099541 , v_prec:  0.7939829954218444\n",
      "t_f:  0.5148516473970509 , v_f:  0.6779999999999999\n",
      "////////\n"
     ]
    },
    {
     "name": "stderr",
     "output_type": "stream",
     "text": [
      "\r",
      "Iterations:  95%|███████████████████████████████▍ | 286/300 [05:55<00:16,  1.16s/it]"
     ]
    },
    {
     "name": "stdout",
     "output_type": "stream",
     "text": [
      "Epoch  285 , loss 0.3917980766763874\n",
      "Epoch  286 , loss 0.395050024285036\n"
     ]
    },
    {
     "name": "stderr",
     "output_type": "stream",
     "text": [
      "\r",
      "Iterations:  96%|███████████████████████████████▌ | 287/300 [05:56<00:17,  1.31s/it]"
     ]
    },
    {
     "name": "stdout",
     "output_type": "stream",
     "text": [
      "Epoch:  286\n",
      "t_loss:  0.395050024285036 , v_loss:  0.5359925131003062\n",
      "t_acc:  0.7226890756302521 , v_acc:  0.7763975155279503\n",
      "t_recall:  0.5556923456993453 , v_recall:  0.6674774774774774\n",
      "t_prec:  0.7420544022906228 , v_prec:  0.7826946472019465\n",
      "t_f:  0.5259091335899878 , v_f:  0.6841761115954664\n",
      "////////\n"
     ]
    },
    {
     "name": "stderr",
     "output_type": "stream",
     "text": [
      "\r",
      "Iterations:  96%|███████████████████████████████▋ | 288/300 [05:57<00:14,  1.18s/it]"
     ]
    },
    {
     "name": "stdout",
     "output_type": "stream",
     "text": [
      "Epoch  287 , loss 0.387801644264483\n",
      "Epoch  288 , loss 0.3888785330688252\n"
     ]
    },
    {
     "name": "stderr",
     "output_type": "stream",
     "text": [
      "\r",
      "Iterations:  96%|███████████████████████████████▊ | 289/300 [05:59<00:14,  1.29s/it]"
     ]
    },
    {
     "name": "stdout",
     "output_type": "stream",
     "text": [
      "Epoch:  288\n",
      "t_loss:  0.3888785330688252 , v_loss:  0.5370558152596155\n",
      "t_acc:  0.7217553688141923 , v_acc:  0.782608695652174\n",
      "t_recall:  0.553296001976366 , v_recall:  0.671981981981982\n",
      "t_prec:  0.7442817241639617 , v_prec:  0.8007246376811594\n",
      "t_f:  0.5213529856386999 , v_f:  0.6899928481047477\n",
      "////////\n"
     ]
    },
    {
     "name": "stderr",
     "output_type": "stream",
     "text": [
      "\r",
      "Iterations:  97%|███████████████████████████████▉ | 290/300 [06:00<00:11,  1.17s/it]"
     ]
    },
    {
     "name": "stdout",
     "output_type": "stream",
     "text": [
      "Epoch  289 , loss 0.3864469402561001\n",
      "Epoch  290 , loss 0.38916579706996096\n"
     ]
    },
    {
     "name": "stderr",
     "output_type": "stream",
     "text": [
      "\r",
      "Iterations:  97%|████████████████████████████████ | 291/300 [06:01<00:11,  1.24s/it]"
     ]
    },
    {
     "name": "stdout",
     "output_type": "stream",
     "text": [
      "Epoch:  290\n",
      "t_loss:  0.38916579706996096 , v_loss:  0.5359235753615698\n",
      "t_acc:  0.7251789604730782 , v_acc:  0.782608695652174\n",
      "t_recall:  0.5577695886688352 , v_recall:  0.671981981981982\n",
      "t_prec:  0.7600455943952256 , v_prec:  0.8007246376811594\n",
      "t_f:  0.528222312351368 , v_f:  0.6899928481047477\n",
      "////////\n"
     ]
    },
    {
     "name": "stderr",
     "output_type": "stream",
     "text": [
      "\r",
      "Iterations:  97%|████████████████████████████████ | 292/300 [06:02<00:09,  1.18s/it]"
     ]
    },
    {
     "name": "stdout",
     "output_type": "stream",
     "text": [
      "Epoch  291 , loss 0.3942984599693149\n",
      "Epoch  292 , loss 0.38704749824954016\n"
     ]
    },
    {
     "name": "stderr",
     "output_type": "stream",
     "text": [
      "\r",
      "Iterations:  98%|████████████████████████████████▏| 293/300 [06:04<00:08,  1.24s/it]"
     ]
    },
    {
     "name": "stdout",
     "output_type": "stream",
     "text": [
      "Epoch:  292\n",
      "t_loss:  0.38704749824954016 , v_loss:  0.5374174763758978\n",
      "t_acc:  0.7251789604730782 , v_acc:  0.7763975155279503\n",
      "t_recall:  0.5594947914522173 , v_recall:  0.661981981981982\n",
      "t_prec:  0.75 , v_prec:  0.7939829954218444\n",
      "t_f:  0.5320878673943924 , v_f:  0.6779999999999999\n",
      "////////\n"
     ]
    },
    {
     "name": "stderr",
     "output_type": "stream",
     "text": [
      "\r",
      "Iterations:  98%|████████████████████████████████▎| 294/300 [06:05<00:06,  1.16s/it]"
     ]
    },
    {
     "name": "stdout",
     "output_type": "stream",
     "text": [
      "Epoch  293 , loss 0.3829462276954277\n",
      "Epoch  294 , loss 0.39092539513812347\n"
     ]
    },
    {
     "name": "stderr",
     "output_type": "stream",
     "text": [
      "\r",
      "Iterations:  98%|████████████████████████████████▍| 295/300 [06:06<00:06,  1.26s/it]"
     ]
    },
    {
     "name": "stdout",
     "output_type": "stream",
     "text": [
      "Epoch:  294\n",
      "t_loss:  0.39092539513812347 , v_loss:  0.5361323108275732\n",
      "t_acc:  0.7201991907874261 , v_acc:  0.7701863354037267\n",
      "t_recall:  0.5521774337437038 , v_recall:  0.6574774774774774\n",
      "t_prec:  0.7321072425779247 , v_prec:  0.7753623188405797\n",
      "t_f:  0.5203357150318014 , v_f:  0.6722781537107334\n",
      "////////\n"
     ]
    },
    {
     "name": "stderr",
     "output_type": "stream",
     "text": [
      "\r",
      "Iterations:  99%|████████████████████████████████▌| 296/300 [06:07<00:04,  1.22s/it]"
     ]
    },
    {
     "name": "stdout",
     "output_type": "stream",
     "text": [
      "Epoch  295 , loss 0.3852868500877829\n",
      "Epoch  296 , loss 0.38624457226080056\n"
     ]
    },
    {
     "name": "stderr",
     "output_type": "stream",
     "text": [
      "\r",
      "Iterations:  99%|████████████████████████████████▋| 297/300 [06:09<00:03,  1.27s/it]"
     ]
    },
    {
     "name": "stdout",
     "output_type": "stream",
     "text": [
      "Epoch:  296\n",
      "t_loss:  0.38624457226080056 , v_loss:  0.5372805347045263\n",
      "t_acc:  0.7276688453159041 , v_acc:  0.7763975155279503\n",
      "t_recall:  0.5615720344217071 , v_recall:  0.661981981981982\n",
      "t_prec:  0.7676091624910523 , v_prec:  0.7939829954218444\n",
      "t_f:  0.5344225498218175 , v_f:  0.6779999999999999\n",
      "////////\n"
     ]
    },
    {
     "name": "stderr",
     "output_type": "stream",
     "text": [
      "\r",
      "Iterations:  99%|████████████████████████████████▊| 298/300 [06:09<00:02,  1.18s/it]"
     ]
    },
    {
     "name": "stdout",
     "output_type": "stream",
     "text": [
      "Epoch  297 , loss 0.38741692842221725\n",
      "Epoch  298 , loss 0.3859464613830342\n"
     ]
    },
    {
     "name": "stderr",
     "output_type": "stream",
     "text": [
      "\r",
      "Iterations: 100%|████████████████████████████████▉| 299/300 [06:11<00:01,  1.25s/it]"
     ]
    },
    {
     "name": "stdout",
     "output_type": "stream",
     "text": [
      "Epoch:  298\n",
      "t_loss:  0.3859464613830342 , v_loss:  0.5345776279767355\n",
      "t_acc:  0.7264239028944911 , v_acc:  0.782608695652174\n",
      "t_recall:  0.5601021122411167 , v_recall:  0.6774774774774774\n",
      "t_prec:  0.7612204724409449 , v_prec:  0.7897058823529413\n",
      "t_f:  0.5322941957638601 , v_f:  0.6958164642375169\n",
      "////////\n"
     ]
    },
    {
     "name": "stderr",
     "output_type": "stream",
     "text": [
      "Iterations: 100%|█████████████████████████████████| 300/300 [06:12<00:00,  1.24s/it]"
     ]
    },
    {
     "name": "stdout",
     "output_type": "stream",
     "text": [
      "Epoch  299 , loss 0.38518016069543126\n"
     ]
    },
    {
     "name": "stderr",
     "output_type": "stream",
     "text": [
      "\n"
     ]
    },
    {
     "name": "stdout",
     "output_type": "stream",
     "text": [
      "107 20\n",
      "\n",
      "c0_acc 0.963963963963964 , c1_acc 0.4 , b_acc 0.681981981981982\n"
     ]
    },
    {
     "name": "stderr",
     "output_type": "stream",
     "text": [
      "\r",
      "Iterations:   0%|                                           | 0/300 [00:00<?, ?it/s]"
     ]
    },
    {
     "name": "stdout",
     "output_type": "stream",
     "text": [
      "Epoch  0 , loss 0.6623046503347509\n"
     ]
    },
    {
     "name": "stderr",
     "output_type": "stream",
     "text": [
      "\r",
      "Iterations:   0%|                                   | 1/300 [00:01<07:10,  1.44s/it]"
     ]
    },
    {
     "name": "stdout",
     "output_type": "stream",
     "text": [
      "Epoch:  0\n",
      "t_loss:  0.6623046503347509 , v_loss:  0.6916587352752686\n",
      "t_acc:  0.5542732376793512 , v_acc:  0.6428571428571429\n",
      "t_recall:  0.4750476387500143 , v_recall:  0.49499589827727647\n",
      "t_prec:  0.4752037534491896 , v_prec:  0.4881184261784184\n",
      "t_f:  0.47511935448502596 , v_f:  0.4586466165413534\n",
      "////////\n"
     ]
    },
    {
     "name": "stderr",
     "output_type": "stream",
     "text": [
      "\r",
      "Iterations:   1%|▏                                  | 2/300 [00:02<05:19,  1.07s/it]"
     ]
    },
    {
     "name": "stdout",
     "output_type": "stream",
     "text": [
      "Epoch  1 , loss 0.6355975024840411\n",
      "Epoch  2 , loss 0.6066620899181739\n"
     ]
    },
    {
     "name": "stderr",
     "output_type": "stream",
     "text": [
      "\r",
      "Iterations:   1%|▎                                  | 3/300 [00:03<06:47,  1.37s/it]"
     ]
    },
    {
     "name": "stdout",
     "output_type": "stream",
     "text": [
      "Epoch:  2\n",
      "t_loss:  0.6066620899181739 , v_loss:  0.6842101812362671\n",
      "t_acc:  0.6353711790393013 , v_acc:  0.6785714285714286\n",
      "t_recall:  0.49925019250882097 , v_recall:  0.4956521739130435\n",
      "t_prec:  0.49877445823690303 , v_prec:  0.3413173652694611\n",
      "t_f:  0.4828714751795655 , v_f:  0.4042553191489362\n",
      "////////\n"
     ]
    },
    {
     "name": "stderr",
     "output_type": "stream",
     "text": [
      "\r",
      "Iterations:   1%|▍                                  | 4/300 [00:04<05:48,  1.18s/it]"
     ]
    },
    {
     "name": "stdout",
     "output_type": "stream",
     "text": [
      "Epoch  3 , loss 0.5865441619181165\n",
      "Epoch  4 , loss 0.5655108666887471\n"
     ]
    },
    {
     "name": "stderr",
     "output_type": "stream",
     "text": [
      "\r",
      "Iterations:   2%|▌                                  | 5/300 [00:06<06:18,  1.28s/it]"
     ]
    },
    {
     "name": "stdout",
     "output_type": "stream",
     "text": [
      "Epoch:  4\n",
      "t_loss:  0.5655108666887471 , v_loss:  0.6707236568133036\n",
      "t_acc:  0.6699937616968185 , v_acc:  0.6845238095238095\n",
      "t_recall:  0.5033401142410555 , v_recall:  0.5\n",
      "t_prec:  0.5104062676797697 , v_prec:  0.34226190476190477\n",
      "t_f:  0.461118260300393 , v_f:  0.40636042402826855\n",
      "////////\n"
     ]
    },
    {
     "name": "stderr",
     "output_type": "stream",
     "text": [
      "\r",
      "Iterations:   2%|▋                                  | 6/300 [00:07<06:00,  1.23s/it]"
     ]
    },
    {
     "name": "stdout",
     "output_type": "stream",
     "text": [
      "Epoch  5 , loss 0.5409486510005652\n",
      "Epoch  6 , loss 0.5360476836269977\n"
     ]
    },
    {
     "name": "stderr",
     "output_type": "stream",
     "text": [
      "\r",
      "Iterations:   2%|▊                                  | 7/300 [00:08<06:08,  1.26s/it]"
     ]
    },
    {
     "name": "stdout",
     "output_type": "stream",
     "text": [
      "Epoch:  6\n",
      "t_loss:  0.5360476836269977 , v_loss:  0.6545928517977396\n",
      "t_acc:  0.6855895196506551 , v_acc:  0.6845238095238095\n",
      "t_recall:  0.5012653863393441 , v_recall:  0.5\n",
      "t_prec:  0.5095074764515093 , v_prec:  0.34226190476190477\n",
      "t_f:  0.4337785103949405 , v_f:  0.40636042402826855\n",
      "////////\n"
     ]
    },
    {
     "name": "stderr",
     "output_type": "stream",
     "text": [
      "\r",
      "Iterations:   3%|▉                                  | 8/300 [00:09<05:38,  1.16s/it]"
     ]
    },
    {
     "name": "stdout",
     "output_type": "stream",
     "text": [
      "Epoch  7 , loss 0.5170813202857971\n",
      "Epoch  8 , loss 0.5043425039917815\n"
     ]
    },
    {
     "name": "stderr",
     "output_type": "stream",
     "text": [
      "\r",
      "Iterations:   3%|█                                  | 9/300 [00:11<06:03,  1.25s/it]"
     ]
    },
    {
     "name": "stdout",
     "output_type": "stream",
     "text": [
      "Epoch:  8\n",
      "t_loss:  0.5043425039917815 , v_loss:  0.6434459487597147\n",
      "t_acc:  0.6936993137866501 , v_acc:  0.6845238095238095\n",
      "t_recall:  0.5044940178602214 , v_recall:  0.5\n",
      "t_prec:  0.5631929046563193 , v_prec:  0.34226190476190477\n",
      "t_f:  0.4293793789439495 , v_f:  0.40636042402826855\n",
      "////////\n"
     ]
    },
    {
     "name": "stderr",
     "output_type": "stream",
     "text": [
      "\r",
      "Iterations:   3%|█▏                                | 10/300 [00:12<05:53,  1.22s/it]"
     ]
    },
    {
     "name": "stdout",
     "output_type": "stream",
     "text": [
      "Epoch  9 , loss 0.5089235703150431\n",
      "Epoch  10 , loss 0.49506480553570914\n"
     ]
    },
    {
     "name": "stderr",
     "output_type": "stream",
     "text": [
      "\r",
      "Iterations:   4%|█▏                                | 11/300 [00:13<06:04,  1.26s/it]"
     ]
    },
    {
     "name": "stdout",
     "output_type": "stream",
     "text": [
      "Epoch:  10\n",
      "t_loss:  0.49506480553570914 , v_loss:  0.6401928663253784\n",
      "t_acc:  0.6940112289457268 , v_acc:  0.6845238095238095\n",
      "t_recall:  0.5024084864784103 , v_recall:  0.5\n",
      "t_prec:  0.5515812066792691 , v_prec:  0.34226190476190477\n",
      "t_f:  0.4221603263740311 , v_f:  0.40636042402826855\n",
      "////////\n"
     ]
    },
    {
     "name": "stderr",
     "output_type": "stream",
     "text": [
      "\r",
      "Iterations:   4%|█▎                                | 12/300 [00:14<05:30,  1.15s/it]"
     ]
    },
    {
     "name": "stdout",
     "output_type": "stream",
     "text": [
      "Epoch  11 , loss 0.4759235347018522\n",
      "Epoch  12 , loss 0.47332487386815686\n"
     ]
    },
    {
     "name": "stderr",
     "output_type": "stream",
     "text": [
      "\r",
      "Iterations:   4%|█▍                                | 13/300 [00:16<05:55,  1.24s/it]"
     ]
    },
    {
     "name": "stdout",
     "output_type": "stream",
     "text": [
      "Epoch:  12\n",
      "t_loss:  0.47332487386815686 , v_loss:  0.6404738128185272\n",
      "t_acc:  0.6955708047411104 , v_acc:  0.6845238095238095\n",
      "t_recall:  0.5012194140836006 , v_recall:  0.5\n",
      "t_prec:  0.5754730402617726 , v_prec:  0.34226190476190477\n",
      "t_f:  0.4151336551754044 , v_f:  0.40636042402826855\n",
      "////////\n"
     ]
    },
    {
     "name": "stderr",
     "output_type": "stream",
     "text": [
      "\r",
      "Iterations:   5%|█▌                                | 14/300 [00:17<05:44,  1.20s/it]"
     ]
    },
    {
     "name": "stdout",
     "output_type": "stream",
     "text": [
      "Epoch  13 , loss 0.4663800375134337\n",
      "Epoch  14 , loss 0.4641515524948345\n"
     ]
    },
    {
     "name": "stderr",
     "output_type": "stream",
     "text": [
      "\r",
      "Iterations:   5%|█▋                                | 15/300 [00:18<05:56,  1.25s/it]"
     ]
    },
    {
     "name": "stdout",
     "output_type": "stream",
     "text": [
      "Epoch:  14\n",
      "t_loss:  0.4641515524948345 , v_loss:  0.6419340868790945\n",
      "t_acc:  0.6946350592638803 , v_acc:  0.6845238095238095\n",
      "t_recall:  0.499680952545139 , v_recall:  0.5\n",
      "t_prec:  0.47287367104440275 , v_prec:  0.34226190476190477\n",
      "t_f:  0.41187065356970126 , v_f:  0.40636042402826855\n",
      "////////\n"
     ]
    },
    {
     "name": "stderr",
     "output_type": "stream",
     "text": [
      "\r",
      "Iterations:   5%|█▊                                | 16/300 [00:19<05:36,  1.18s/it]"
     ]
    },
    {
     "name": "stdout",
     "output_type": "stream",
     "text": [
      "Epoch  15 , loss 0.455290741780225\n",
      "Epoch  16 , loss 0.45411349160998477\n"
     ]
    },
    {
     "name": "stderr",
     "output_type": "stream",
     "text": [
      "\r",
      "Iterations:   6%|█▉                                | 17/300 [00:20<05:55,  1.25s/it]"
     ]
    },
    {
     "name": "stdout",
     "output_type": "stream",
     "text": [
      "Epoch:  16\n",
      "t_loss:  0.45411349160998477 , v_loss:  0.6445358594258627\n",
      "t_acc:  0.6977542108546475 , v_acc:  0.6845238095238095\n",
      "t_recall:  0.5039430403751336 , v_recall:  0.5\n",
      "t_prec:  0.7237789605510332 , v_prec:  0.34226190476190477\n",
      "t_f:  0.4198097852730659 , v_f:  0.40636042402826855\n",
      "////////\n"
     ]
    },
    {
     "name": "stderr",
     "output_type": "stream",
     "text": [
      "\r",
      "Iterations:   6%|██                                | 18/300 [00:21<05:27,  1.16s/it]"
     ]
    },
    {
     "name": "stdout",
     "output_type": "stream",
     "text": [
      "Epoch  17 , loss 0.45184242842244166\n",
      "Epoch  18 , loss 0.45447563949753256\n"
     ]
    },
    {
     "name": "stderr",
     "output_type": "stream",
     "text": [
      "\r",
      "Iterations:   6%|██▏                               | 19/300 [00:23<05:47,  1.24s/it]"
     ]
    },
    {
     "name": "stdout",
     "output_type": "stream",
     "text": [
      "Epoch:  18\n",
      "t_loss:  0.45447563949753256 , v_loss:  0.6466985940933228\n",
      "t_acc:  0.6955708047411104 , v_acc:  0.6845238095238095\n",
      "t_recall:  0.5012194140836006 , v_recall:  0.5\n",
      "t_prec:  0.5754730402617726 , v_prec:  0.34226190476190477\n",
      "t_f:  0.4151336551754044 , v_f:  0.40636042402826855\n",
      "////////\n"
     ]
    },
    {
     "name": "stderr",
     "output_type": "stream",
     "text": [
      "\r",
      "Iterations:   7%|██▎                               | 20/300 [00:24<05:16,  1.13s/it]"
     ]
    },
    {
     "name": "stdout",
     "output_type": "stream",
     "text": [
      "Epoch  19 , loss 0.4510140120983124\n",
      "Epoch  20 , loss 0.4478355546792348\n"
     ]
    },
    {
     "name": "stderr",
     "output_type": "stream",
     "text": [
      "\r",
      "Iterations:   7%|██▍                               | 21/300 [00:25<05:33,  1.20s/it]"
     ]
    },
    {
     "name": "stdout",
     "output_type": "stream",
     "text": [
      "Epoch:  20\n",
      "t_loss:  0.4478355546792348 , v_loss:  0.6496044596036276\n",
      "t_acc:  0.6961946350592639 , v_acc:  0.6845238095238095\n",
      "t_recall:  0.501378937811031 , v_recall:  0.5\n",
      "t_prec:  0.633948108783995 , v_prec:  0.34226190476190477\n",
      "t_f:  0.4143863952620465 , v_f:  0.40636042402826855\n",
      "////////\n"
     ]
    },
    {
     "name": "stderr",
     "output_type": "stream",
     "text": [
      "\r",
      "Iterations:   7%|██▍                               | 22/300 [00:26<05:06,  1.10s/it]"
     ]
    },
    {
     "name": "stdout",
     "output_type": "stream",
     "text": [
      "Epoch  21 , loss 0.4479285443530363\n",
      "Epoch  22 , loss 0.4482718711974574\n"
     ]
    },
    {
     "name": "stderr",
     "output_type": "stream",
     "text": [
      "\r",
      "Iterations:   8%|██▌                               | 23/300 [00:27<05:45,  1.25s/it]"
     ]
    },
    {
     "name": "stdout",
     "output_type": "stream",
     "text": [
      "Epoch:  22\n",
      "t_loss:  0.4482718711974574 , v_loss:  0.6515256067117056\n",
      "t_acc:  0.6965065502183406 , v_acc:  0.6845238095238095\n",
      "t_recall:  0.5021804640899217 , v_recall:  0.5\n",
      "t_prec:  0.6484042553191489 , v_prec:  0.34226190476190477\n",
      "t_f:  0.41644699981947747 , v_f:  0.40636042402826855\n",
      "////////\n"
     ]
    },
    {
     "name": "stderr",
     "output_type": "stream",
     "text": [
      "\r",
      "Iterations:   8%|██▋                               | 24/300 [00:29<05:40,  1.23s/it]"
     ]
    },
    {
     "name": "stdout",
     "output_type": "stream",
     "text": [
      "Epoch  23 , loss 0.44451216798202664\n",
      "Epoch  24 , loss 0.44394022576949177\n"
     ]
    },
    {
     "name": "stderr",
     "output_type": "stream",
     "text": [
      "\r",
      "Iterations:   8%|██▊                               | 25/300 [00:30<06:03,  1.32s/it]"
     ]
    },
    {
     "name": "stdout",
     "output_type": "stream",
     "text": [
      "Epoch:  24\n",
      "t_loss:  0.44394022576949177 , v_loss:  0.6533082524935404\n",
      "t_acc:  0.6965065502183406 , v_acc:  0.6845238095238095\n",
      "t_recall:  0.5016030525577814 , v_recall:  0.5\n",
      "t_prec:  0.6816145833333334 , v_prec:  0.34226190476190477\n",
      "t_f:  0.41449912543819595 , v_f:  0.40636042402826855\n",
      "////////\n"
     ]
    },
    {
     "name": "stderr",
     "output_type": "stream",
     "text": [
      "\r",
      "Iterations:   9%|██▉                               | 26/300 [00:31<05:45,  1.26s/it]"
     ]
    },
    {
     "name": "stdout",
     "output_type": "stream",
     "text": [
      "Epoch  25 , loss 0.44044871248450934\n",
      "Epoch  26 , loss 0.43621252740130706\n"
     ]
    },
    {
     "name": "stderr",
     "output_type": "stream",
     "text": [
      "\r",
      "Iterations:   9%|███                               | 27/300 [00:33<06:02,  1.33s/it]"
     ]
    },
    {
     "name": "stdout",
     "output_type": "stream",
     "text": [
      "Epoch:  26\n",
      "t_loss:  0.43621252740130706 , v_loss:  0.6551306943098704\n",
      "t_acc:  0.6955708047411104 , v_acc:  0.6845238095238095\n",
      "t_recall:  0.5006420025514602 , v_recall:  0.5\n",
      "t_prec:  0.562363238512035 , v_prec:  0.34226190476190477\n",
      "t_f:  0.41318390326053117 , v_f:  0.40636042402826855\n",
      "////////\n"
     ]
    },
    {
     "name": "stderr",
     "output_type": "stream",
     "text": [
      "\r",
      "Iterations:   9%|███▏                              | 28/300 [00:34<05:38,  1.25s/it]"
     ]
    },
    {
     "name": "stdout",
     "output_type": "stream",
     "text": [
      "Epoch  27 , loss 0.43366823827519135\n",
      "Epoch  28 , loss 0.4364391255612467\n"
     ]
    },
    {
     "name": "stderr",
     "output_type": "stream",
     "text": [
      "\r",
      "Iterations:  10%|███▎                              | 29/300 [00:35<06:05,  1.35s/it]"
     ]
    },
    {
     "name": "stdout",
     "output_type": "stream",
     "text": [
      "Epoch:  28\n",
      "t_loss:  0.4364391255612467 , v_loss:  0.6554349760214487\n",
      "t_acc:  0.6965065502183406 , v_acc:  0.6845238095238095\n",
      "t_recall:  0.5018917583238516 , v_recall:  0.5\n",
      "t_prec:  0.6608427141963727 , v_prec:  0.34226190476190477\n",
      "t_f:  0.41547512351718013 , v_f:  0.40636042402826855\n",
      "////////\n"
     ]
    },
    {
     "name": "stderr",
     "output_type": "stream",
     "text": [
      "\r",
      "Iterations:  10%|███▍                              | 30/300 [00:37<05:44,  1.28s/it]"
     ]
    },
    {
     "name": "stdout",
     "output_type": "stream",
     "text": [
      "Epoch  29 , loss 0.43932578026079666\n",
      "Epoch  30 , loss 0.43686139291408016\n"
     ]
    },
    {
     "name": "stderr",
     "output_type": "stream",
     "text": [
      "\r",
      "Iterations:  10%|███▌                              | 31/300 [00:38<05:56,  1.33s/it]"
     ]
    },
    {
     "name": "stdout",
     "output_type": "stream",
     "text": [
      "Epoch:  30\n",
      "t_loss:  0.43686139291408016 , v_loss:  0.6559688448905945\n",
      "t_acc:  0.6974422956955708 , v_acc:  0.6845238095238095\n",
      "t_recall:  0.5040076313944535 , v_recall:  0.5\n",
      "t_prec:  0.6821268150005223 , v_prec:  0.34226190476190477\n",
      "t_f:  0.4206506227900548 , v_f:  0.40636042402826855\n",
      "////////\n"
     ]
    },
    {
     "name": "stderr",
     "output_type": "stream",
     "text": [
      "\r",
      "Iterations:  11%|███▋                              | 32/300 [00:39<05:28,  1.22s/it]"
     ]
    },
    {
     "name": "stdout",
     "output_type": "stream",
     "text": [
      "Epoch  31 , loss 0.4391297288969451\n",
      "Epoch  32 , loss 0.4299809979457481\n"
     ]
    },
    {
     "name": "stderr",
     "output_type": "stream",
     "text": [
      "\r",
      "Iterations:  11%|███▋                              | 33/300 [00:40<05:41,  1.28s/it]"
     ]
    },
    {
     "name": "stdout",
     "output_type": "stream",
     "text": [
      "Epoch:  32\n",
      "t_loss:  0.4299809979457481 , v_loss:  0.6585512757301331\n",
      "t_acc:  0.6965065502183406 , v_acc:  0.6845238095238095\n",
      "t_recall:  0.5027578756220621 , v_recall:  0.5\n",
      "t_prec:  0.6342418546365914 , v_prec:  0.34226190476190477\n",
      "t_f:  0.41837848641902153 , v_f:  0.40636042402826855\n",
      "////////\n"
     ]
    },
    {
     "name": "stderr",
     "output_type": "stream",
     "text": [
      "\r",
      "Iterations:  11%|███▊                              | 34/300 [00:42<05:36,  1.26s/it]"
     ]
    },
    {
     "name": "stdout",
     "output_type": "stream",
     "text": [
      "Epoch  33 , loss 0.43046653971952553\n",
      "Epoch  34 , loss 0.438152798834969\n"
     ]
    },
    {
     "name": "stderr",
     "output_type": "stream",
     "text": [
      "\r",
      "Iterations:  12%|███▉                              | 35/300 [00:43<05:54,  1.34s/it]"
     ]
    },
    {
     "name": "stdout",
     "output_type": "stream",
     "text": [
      "Epoch:  34\n",
      "t_loss:  0.438152798834969 , v_loss:  0.6594497164090475\n",
      "t_acc:  0.6961946350592639 , v_acc:  0.6845238095238095\n",
      "t_recall:  0.5028224666413819 , v_recall:  0.5\n",
      "t_prec:  0.6132477450058105 , v_prec:  0.34226190476190477\n",
      "t_f:  0.419220182121176 , v_f:  0.40636042402826855\n",
      "////////\n"
     ]
    },
    {
     "name": "stderr",
     "output_type": "stream",
     "text": [
      "\r",
      "Iterations:  12%|████                              | 36/300 [00:44<05:15,  1.20s/it]"
     ]
    },
    {
     "name": "stdout",
     "output_type": "stream",
     "text": [
      "Epoch  35 , loss 0.43095287739061844\n",
      "Epoch  36 , loss 0.43036002212879704\n"
     ]
    },
    {
     "name": "stderr",
     "output_type": "stream",
     "text": [
      "\r",
      "Iterations:  12%|████▏                             | 37/300 [00:45<05:32,  1.27s/it]"
     ]
    },
    {
     "name": "stdout",
     "output_type": "stream",
     "text": [
      "Epoch:  36\n",
      "t_loss:  0.43036002212879704 , v_loss:  0.6593452095985413\n",
      "t_acc:  0.6990018714909545 , v_acc:  0.6845238095238095\n",
      "t_recall:  0.5068604397246262 , v_recall:  0.5\n",
      "t_prec:  0.713039629968022 , v_prec:  0.34226190476190477\n",
      "t_f:  0.42694380463643933 , v_f:  0.40636042402826855\n",
      "////////\n"
     ]
    },
    {
     "name": "stderr",
     "output_type": "stream",
     "text": [
      "\r",
      "Iterations:  13%|████▎                             | 38/300 [00:46<04:56,  1.13s/it]"
     ]
    },
    {
     "name": "stdout",
     "output_type": "stream",
     "text": [
      "Epoch  37 , loss 0.42799675990553465\n",
      "Epoch  38 , loss 0.4321962156716515\n"
     ]
    },
    {
     "name": "stderr",
     "output_type": "stream",
     "text": [
      "\r",
      "Iterations:  13%|████▍                             | 39/300 [00:48<05:12,  1.20s/it]"
     ]
    },
    {
     "name": "stdout",
     "output_type": "stream",
     "text": [
      "Epoch:  38\n",
      "t_loss:  0.4321962156716515 , v_loss:  0.6604585846265157\n",
      "t_acc:  0.7002495321272614 , v_acc:  0.6904761904761905\n",
      "t_recall:  0.5089117217759083 , v_recall:  0.5094339622641509\n",
      "t_prec:  0.7344581519109821 , v_prec:  0.844311377245509\n",
      "t_f:  0.4311794285921064 , v_f:  0.4263199369582348\n",
      "////////\n"
     ]
    },
    {
     "name": "stderr",
     "output_type": "stream",
     "text": [
      "\r",
      "Iterations:  13%|████▌                             | 40/300 [00:49<04:55,  1.14s/it]"
     ]
    },
    {
     "name": "stdout",
     "output_type": "stream",
     "text": [
      "Epoch  39 , loss 0.4205666289610021\n",
      "Epoch  40 , loss 0.43277618172121984\n"
     ]
    },
    {
     "name": "stderr",
     "output_type": "stream",
     "text": [
      "\r",
      "Iterations:  14%|████▋                             | 41/300 [00:50<05:17,  1.23s/it]"
     ]
    },
    {
     "name": "stdout",
     "output_type": "stream",
     "text": [
      "Epoch:  40\n",
      "t_loss:  0.43277618172121984 , v_loss:  0.6632335136334101\n",
      "t_acc:  0.6971303805364941 , v_acc:  0.6904761904761905\n",
      "t_recall:  0.5049383397119838 , v_recall:  0.5094339622641509\n",
      "t_prec:  0.6406610098470564 , v_prec:  0.844311377245509\n",
      "t_f:  0.4243225305482834 , v_f:  0.4263199369582348\n",
      "////////\n"
     ]
    },
    {
     "name": "stderr",
     "output_type": "stream",
     "text": [
      "\r",
      "Iterations:  14%|████▊                             | 42/300 [00:51<04:49,  1.12s/it]"
     ]
    },
    {
     "name": "stdout",
     "output_type": "stream",
     "text": [
      "Epoch  41 , loss 0.42740336294267695\n",
      "Epoch  42 , loss 0.4182150434045231\n"
     ]
    },
    {
     "name": "stderr",
     "output_type": "stream",
     "text": [
      "\r",
      "Iterations:  14%|████▊                             | 43/300 [00:52<05:21,  1.25s/it]"
     ]
    },
    {
     "name": "stdout",
     "output_type": "stream",
     "text": [
      "Epoch:  42\n",
      "t_loss:  0.4182150434045231 , v_loss:  0.6637197683254877\n",
      "t_acc:  0.6974422956955708 , v_acc:  0.6964285714285714\n",
      "t_recall:  0.506605983289085 , v_recall:  0.5188679245283019\n",
      "t_prec:  0.6372327116102723 , v_prec:  0.8463855421686747\n",
      "t_f:  0.4291008717822189 , v_f:  0.44561630540278224\n",
      "////////\n"
     ]
    },
    {
     "name": "stderr",
     "output_type": "stream",
     "text": [
      "\r",
      "Iterations:  15%|████▉                             | 44/300 [00:53<04:57,  1.16s/it]"
     ]
    },
    {
     "name": "stdout",
     "output_type": "stream",
     "text": [
      "Epoch  43 , loss 0.43078352598583\n",
      "Epoch  44 , loss 0.42893271528038324\n"
     ]
    },
    {
     "name": "stderr",
     "output_type": "stream",
     "text": [
      "\r",
      "Iterations:  15%|█████                             | 45/300 [00:55<05:22,  1.26s/it]"
     ]
    },
    {
     "name": "stdout",
     "output_type": "stream",
     "text": [
      "Epoch:  44\n",
      "t_loss:  0.42893271528038324 , v_loss:  0.6648290604352951\n",
      "t_acc:  0.7011852776044916 , v_acc:  0.6964285714285714\n",
      "t_recall:  0.5110275948465101 , v_recall:  0.5188679245283019\n",
      "t_prec:  0.7290872799854835 , v_prec:  0.8463855421686747\n",
      "t_f:  0.43616354140965546 , v_f:  0.44561630540278224\n",
      "////////\n"
     ]
    },
    {
     "name": "stderr",
     "output_type": "stream",
     "text": [
      "\r",
      "Iterations:  15%|█████▏                            | 46/300 [00:56<04:48,  1.13s/it]"
     ]
    },
    {
     "name": "stdout",
     "output_type": "stream",
     "text": [
      "Epoch  45 , loss 0.42286668454899506\n",
      "Epoch  46 , loss 0.42783411343892414\n"
     ]
    },
    {
     "name": "stderr",
     "output_type": "stream",
     "text": [
      "\r",
      "Iterations:  16%|█████▎                            | 47/300 [00:57<05:25,  1.29s/it]"
     ]
    },
    {
     "name": "stdout",
     "output_type": "stream",
     "text": [
      "Epoch:  46\n",
      "t_loss:  0.42783411343892414 , v_loss:  0.665701374411583\n",
      "t_acc:  0.6980661260137243 , v_acc:  0.6964285714285714\n",
      "t_recall:  0.5067655070165156 , v_recall:  0.5188679245283019\n",
      "t_prec:  0.6597310409950832 , v_prec:  0.8463855421686747\n",
      "t_f:  0.4284312454324713 , v_f:  0.44561630540278224\n",
      "////////\n"
     ]
    },
    {
     "name": "stderr",
     "output_type": "stream",
     "text": [
      "\r",
      "Iterations:  16%|█████▍                            | 48/300 [00:58<05:01,  1.19s/it]"
     ]
    },
    {
     "name": "stdout",
     "output_type": "stream",
     "text": [
      "Epoch  47 , loss 0.43214547166637346\n",
      "Epoch  48 , loss 0.41707953167896644\n"
     ]
    },
    {
     "name": "stderr",
     "output_type": "stream",
     "text": [
      "\r",
      "Iterations:  16%|█████▌                            | 49/300 [01:00<05:22,  1.28s/it]"
     ]
    },
    {
     "name": "stdout",
     "output_type": "stream",
     "text": [
      "Epoch:  48\n",
      "t_loss:  0.41707953167896644 , v_loss:  0.6659835030635198\n",
      "t_acc:  0.6999376169681847 , v_acc:  0.6964285714285714\n",
      "t_recall:  0.5092650185612982 , v_recall:  0.5188679245283019\n",
      "t_prec:  0.7047599695199391 , v_prec:  0.8463855421686747\n",
      "t_f:  0.43289357454974187 , v_f:  0.44561630540278224\n",
      "////////\n"
     ]
    },
    {
     "name": "stderr",
     "output_type": "stream",
     "text": [
      "\r",
      "Iterations:  17%|█████▋                            | 50/300 [01:01<04:58,  1.19s/it]"
     ]
    },
    {
     "name": "stdout",
     "output_type": "stream",
     "text": [
      "Epoch  49 , loss 0.4209284753191705\n",
      "Epoch  50 , loss 0.4261506696542104\n"
     ]
    },
    {
     "name": "stderr",
     "output_type": "stream",
     "text": [
      "\r",
      "Iterations:  17%|█████▊                            | 51/300 [01:02<05:12,  1.25s/it]"
     ]
    },
    {
     "name": "stdout",
     "output_type": "stream",
     "text": [
      "Epoch:  50\n",
      "t_loss:  0.4261506696542104 , v_loss:  0.6692147652308146\n",
      "t_acc:  0.6977542108546475 , v_acc:  0.6964285714285714\n",
      "t_recall:  0.5068300980358355 , v_recall:  0.5188679245283019\n",
      "t_prec:  0.64627638626339 , v_prec:  0.8463855421686747\n",
      "t_f:  0.4292287015865813 , v_f:  0.44561630540278224\n",
      "////////\n"
     ]
    },
    {
     "name": "stderr",
     "output_type": "stream",
     "text": [
      "\r",
      "Iterations:  17%|█████▉                            | 52/300 [01:03<04:57,  1.20s/it]"
     ]
    },
    {
     "name": "stdout",
     "output_type": "stream",
     "text": [
      "Epoch  51 , loss 0.4305146517706852\n",
      "Epoch  52 , loss 0.42317383371147455\n"
     ]
    },
    {
     "name": "stderr",
     "output_type": "stream",
     "text": [
      "\r",
      "Iterations:  18%|██████                            | 53/300 [01:05<05:07,  1.24s/it]"
     ]
    },
    {
     "name": "stdout",
     "output_type": "stream",
     "text": [
      "Epoch:  52\n",
      "t_loss:  0.42317383371147455 , v_loss:  0.6698972036441168\n",
      "t_acc:  0.6996257018091079 , v_acc:  0.6964285714285714\n",
      "t_recall:  0.5110618441770391 , v_recall:  0.5188679245283019\n",
      "t_prec:  0.6655338470005503 , v_prec:  0.8463855421686747\n",
      "t_f:  0.4390880000784853 , v_f:  0.44561630540278224\n",
      "////////\n"
     ]
    },
    {
     "name": "stderr",
     "output_type": "stream",
     "text": [
      "\r",
      "Iterations:  18%|██████                            | 54/300 [01:06<04:56,  1.20s/it]"
     ]
    },
    {
     "name": "stdout",
     "output_type": "stream",
     "text": [
      "Epoch  53 , loss 0.4228392769308651\n",
      "Epoch  54 , loss 0.4194420868275212\n"
     ]
    },
    {
     "name": "stderr",
     "output_type": "stream",
     "text": [
      "\r",
      "Iterations:  18%|██████▏                           | 55/300 [01:07<05:07,  1.26s/it]"
     ]
    },
    {
     "name": "stdout",
     "output_type": "stream",
     "text": [
      "Epoch:  54\n",
      "t_loss:  0.4194420868275212 , v_loss:  0.6713247746229172\n",
      "t_acc:  0.6996257018091079 , v_acc:  0.6964285714285714\n",
      "t_recall:  0.5107731384109689 , v_recall:  0.5188679245283019\n",
      "t_prec:  0.6684348226093957 , v_prec:  0.8463855421686747\n",
      "t_f:  0.4381955164138007 , v_f:  0.44561630540278224\n",
      "////////\n"
     ]
    },
    {
     "name": "stderr",
     "output_type": "stream",
     "text": [
      "\r",
      "Iterations:  19%|██████▎                           | 56/300 [01:08<04:39,  1.15s/it]"
     ]
    },
    {
     "name": "stdout",
     "output_type": "stream",
     "text": [
      "Epoch  55 , loss 0.41897065791429255\n",
      "Epoch  56 , loss 0.4274207575648439\n"
     ]
    },
    {
     "name": "stderr",
     "output_type": "stream",
     "text": [
      "\r",
      "Iterations:  19%|██████▍                           | 57/300 [01:10<05:02,  1.24s/it]"
     ]
    },
    {
     "name": "stdout",
     "output_type": "stream",
     "text": [
      "Epoch:  56\n",
      "t_loss:  0.4274207575648439 , v_loss:  0.6721411893765131\n",
      "t_acc:  0.7024329382407986 , v_acc:  0.6964285714285714\n",
      "t_recall:  0.5148111114942132 , v_recall:  0.5188679245283019\n",
      "t_prec:  0.7082673424136838 , v_prec:  0.8463855421686747\n",
      "t_f:  0.4456496206848552 , v_f:  0.44561630540278224\n",
      "////////\n"
     ]
    },
    {
     "name": "stderr",
     "output_type": "stream",
     "text": [
      "\r",
      "Iterations:  19%|██████▌                           | 58/300 [01:10<04:36,  1.14s/it]"
     ]
    },
    {
     "name": "stdout",
     "output_type": "stream",
     "text": [
      "Epoch  57 , loss 0.41746900712742524\n",
      "Epoch  58 , loss 0.4159618341455273\n"
     ]
    },
    {
     "name": "stderr",
     "output_type": "stream",
     "text": [
      "\r",
      "Iterations:  20%|██████▋                           | 59/300 [01:12<04:58,  1.24s/it]"
     ]
    },
    {
     "name": "stdout",
     "output_type": "stream",
     "text": [
      "Epoch:  58\n",
      "t_loss:  0.4159618341455273 , v_loss:  0.6726597994565964\n",
      "t_acc:  0.7014971927635683 , v_acc:  0.6964285714285714\n",
      "t_recall:  0.5135613557218218 , v_recall:  0.5188679245283019\n",
      "t_prec:  0.6946049715009499 , v_prec:  0.8463855421686747\n",
      "t_f:  0.4434660808456893 , v_f:  0.44561630540278224\n",
      "////////\n"
     ]
    },
    {
     "name": "stderr",
     "output_type": "stream",
     "text": [
      "\r",
      "Iterations:  20%|██████▊                           | 60/300 [01:13<04:46,  1.20s/it]"
     ]
    },
    {
     "name": "stdout",
     "output_type": "stream",
     "text": [
      "Epoch  59 , loss 0.41405434964918625\n",
      "Epoch  60 , loss 0.4144577991728689\n"
     ]
    },
    {
     "name": "stderr",
     "output_type": "stream",
     "text": [
      "\r",
      "Iterations:  20%|██████▉                           | 61/300 [01:14<04:57,  1.25s/it]"
     ]
    },
    {
     "name": "stdout",
     "output_type": "stream",
     "text": [
      "Epoch:  60\n",
      "t_loss:  0.4144577991728689 , v_loss:  0.676258772611618\n",
      "t_acc:  0.7018091079226451 , v_acc:  0.6964285714285714\n",
      "t_recall:  0.5143628820007126 , v_recall:  0.5188679245283019\n",
      "t_prec:  0.6941673658369846 , v_prec:  0.8463855421686747\n",
      "t_f:  0.4453644529279216 , v_f:  0.44561630540278224\n",
      "////////\n"
     ]
    },
    {
     "name": "stderr",
     "output_type": "stream",
     "text": [
      "\r",
      "Iterations:  21%|███████                           | 62/300 [01:15<04:38,  1.17s/it]"
     ]
    },
    {
     "name": "stdout",
     "output_type": "stream",
     "text": [
      "Epoch  61 , loss 0.43145352660440933\n",
      "Epoch  62 , loss 0.41885239820854336\n"
     ]
    },
    {
     "name": "stderr",
     "output_type": "stream",
     "text": [
      "\r",
      "Iterations:  21%|███████▏                          | 63/300 [01:17<05:15,  1.33s/it]"
     ]
    },
    {
     "name": "stdout",
     "output_type": "stream",
     "text": [
      "Epoch:  62\n",
      "t_loss:  0.41885239820854336 , v_loss:  0.6755847831567129\n",
      "t_acc:  0.7027448533998752 , v_acc:  0.6964285714285714\n",
      "t_recall:  0.5170561666034548 , v_recall:  0.5188679245283019\n",
      "t_prec:  0.690331814823935 , v_prec:  0.8463855421686747\n",
      "t_f:  0.4518502836895337 , v_f:  0.44561630540278224\n",
      "////////\n"
     ]
    },
    {
     "name": "stderr",
     "output_type": "stream",
     "text": [
      "\r",
      "Iterations:  21%|███████▎                          | 64/300 [01:18<04:52,  1.24s/it]"
     ]
    },
    {
     "name": "stdout",
     "output_type": "stream",
     "text": [
      "Epoch  63 , loss 0.418526209452573\n",
      "Epoch  64 , loss 0.42232518102608474\n"
     ]
    },
    {
     "name": "stderr",
     "output_type": "stream",
     "text": [
      "\r",
      "Iterations:  22%|███████▎                          | 65/300 [01:20<05:04,  1.30s/it]"
     ]
    },
    {
     "name": "stdout",
     "output_type": "stream",
     "text": [
      "Epoch:  64\n",
      "t_loss:  0.42232518102608474 , v_loss:  0.6799430847167969\n",
      "t_acc:  0.7049282595134123 , v_acc:  0.6964285714285714\n",
      "t_recall:  0.5186249698307072 , v_recall:  0.5188679245283019\n",
      "t_prec:  0.7337699431637864 , v_prec:  0.8463855421686747\n",
      "t_f:  0.4528911546218427 , v_f:  0.44561630540278224\n",
      "////////\n"
     ]
    },
    {
     "name": "stderr",
     "output_type": "stream",
     "text": [
      "\r",
      "Iterations:  22%|███████▍                          | 66/300 [01:20<04:35,  1.18s/it]"
     ]
    },
    {
     "name": "stdout",
     "output_type": "stream",
     "text": [
      "Epoch  65 , loss 0.41139662733265\n",
      "Epoch  66 , loss 0.42467739710620805\n"
     ]
    },
    {
     "name": "stderr",
     "output_type": "stream",
     "text": [
      "\r",
      "Iterations:  22%|███████▌                          | 67/300 [01:22<05:11,  1.34s/it]"
     ]
    },
    {
     "name": "stdout",
     "output_type": "stream",
     "text": [
      "Epoch:  66\n",
      "t_loss:  0.42467739710620805 , v_loss:  0.6798005799452463\n",
      "t_acc:  0.7043044291952589 , v_acc:  0.6964285714285714\n",
      "t_recall:  0.5184654461032767 , v_recall:  0.5188679245283019\n",
      "t_prec:  0.7163292455014999 , v_prec:  0.8463855421686747\n",
      "t_f:  0.45344921965195256 , v_f:  0.44561630540278224\n",
      "////////\n"
     ]
    },
    {
     "name": "stderr",
     "output_type": "stream",
     "text": [
      "\r",
      "Iterations:  23%|███████▋                          | 68/300 [01:23<04:51,  1.25s/it]"
     ]
    },
    {
     "name": "stdout",
     "output_type": "stream",
     "text": [
      "Epoch  67 , loss 0.4176783152655059\n",
      "Epoch  68 , loss 0.41410751027219433\n"
     ]
    },
    {
     "name": "stderr",
     "output_type": "stream",
     "text": [
      "\r",
      "Iterations:  23%|███████▊                          | 69/300 [01:25<05:12,  1.35s/it]"
     ]
    },
    {
     "name": "stdout",
     "output_type": "stream",
     "text": [
      "Epoch:  68\n",
      "t_loss:  0.41410751027219433 , v_loss:  0.6821340272823969\n",
      "t_acc:  0.7043044291952589 , v_acc:  0.6964285714285714\n",
      "t_recall:  0.5184654461032767 , v_recall:  0.5188679245283019\n",
      "t_prec:  0.7163292455014999 , v_prec:  0.8463855421686747\n",
      "t_f:  0.45344921965195256 , v_f:  0.44561630540278224\n",
      "////////\n"
     ]
    },
    {
     "name": "stderr",
     "output_type": "stream",
     "text": [
      "\r",
      "Iterations:  23%|███████▉                          | 70/300 [01:26<04:46,  1.25s/it]"
     ]
    },
    {
     "name": "stdout",
     "output_type": "stream",
     "text": [
      "Epoch  69 , loss 0.41947676504359527\n",
      "Epoch  70 , loss 0.4106049806463952\n"
     ]
    },
    {
     "name": "stderr",
     "output_type": "stream",
     "text": [
      "\r",
      "Iterations:  24%|████████                          | 71/300 [01:27<04:59,  1.31s/it]"
     ]
    },
    {
     "name": "stdout",
     "output_type": "stream",
     "text": [
      "Epoch:  70\n",
      "t_loss:  0.4106049806463952 , v_loss:  0.6833231101433436\n",
      "t_acc:  0.7061759201497193 , v_acc:  0.6964285714285714\n",
      "t_recall:  0.5221197807123401 , v_recall:  0.5188679245283019\n",
      "t_prec:  0.7222907513409378 , v_prec:  0.8463855421686747\n",
      "t_f:  0.46110839885571375 , v_f:  0.44561630540278224\n",
      "////////\n"
     ]
    },
    {
     "name": "stderr",
     "output_type": "stream",
     "text": [
      "\r",
      "Iterations:  24%|████████▏                         | 72/300 [01:28<04:41,  1.23s/it]"
     ]
    },
    {
     "name": "stdout",
     "output_type": "stream",
     "text": [
      "Epoch  71 , loss 0.41694536279229555\n",
      "Epoch  72 , loss 0.4203340668304294\n"
     ]
    },
    {
     "name": "stderr",
     "output_type": "stream",
     "text": [
      "\r",
      "Iterations:  24%|████████▎                         | 73/300 [01:30<04:50,  1.28s/it]"
     ]
    },
    {
     "name": "stdout",
     "output_type": "stream",
     "text": [
      "Epoch:  72\n",
      "t_loss:  0.4203340668304294 , v_loss:  0.6832901140054067\n",
      "t_acc:  0.706487835308796 , v_acc:  0.6964285714285714\n",
      "t_recall:  0.5229213069912307 , v_recall:  0.5188679245283019\n",
      "t_prec:  0.7209591930794866 , v_prec:  0.8463855421686747\n",
      "t_f:  0.46292277852400365 , v_f:  0.44561630540278224\n",
      "////////\n"
     ]
    },
    {
     "name": "stderr",
     "output_type": "stream",
     "text": [
      "\r",
      "Iterations:  25%|████████▍                         | 74/300 [01:31<04:20,  1.15s/it]"
     ]
    },
    {
     "name": "stdout",
     "output_type": "stream",
     "text": [
      "Epoch  73 , loss 0.41352180581466824\n",
      "Epoch  74 , loss 0.41778110873465446\n"
     ]
    },
    {
     "name": "stderr",
     "output_type": "stream",
     "text": [
      "\r",
      "Iterations:  25%|████████▌                         | 75/300 [01:32<04:52,  1.30s/it]"
     ]
    },
    {
     "name": "stdout",
     "output_type": "stream",
     "text": [
      "Epoch:  74\n",
      "t_loss:  0.41778110873465446 , v_loss:  0.6851661801338196\n",
      "t_acc:  0.7018091079226451 , v_acc:  0.6964285714285714\n",
      "t_recall:  0.5163838223632038 , v_recall:  0.5188679245283019\n",
      "t_prec:  0.6745573433252516 , v_prec:  0.8463855421686747\n",
      "t_f:  0.45140471962884465 , v_f:  0.44561630540278224\n",
      "////////\n"
     ]
    },
    {
     "name": "stderr",
     "output_type": "stream",
     "text": [
      "\r",
      "Iterations:  25%|████████▌                         | 76/300 [01:33<04:30,  1.21s/it]"
     ]
    },
    {
     "name": "stdout",
     "output_type": "stream",
     "text": [
      "Epoch  75 , loss 0.41386209515964284\n",
      "Epoch  76 , loss 0.4149036273068073\n"
     ]
    },
    {
     "name": "stderr",
     "output_type": "stream",
     "text": [
      "\r",
      "Iterations:  26%|████████▋                         | 77/300 [01:34<04:37,  1.24s/it]"
     ]
    },
    {
     "name": "stdout",
     "output_type": "stream",
     "text": [
      "Epoch:  76\n",
      "t_loss:  0.4149036273068073 , v_loss:  0.6873901883761088\n",
      "t_acc:  0.7030567685589519 , v_acc:  0.6964285714285714\n",
      "t_recall:  0.5175689871162753 , v_recall:  0.5188679245283019\n",
      "t_prec:  0.6930038533602008 , v_prec:  0.8463855421686747\n",
      "t_f:  0.45285120034878557 , v_f:  0.44561630540278224\n",
      "////////\n"
     ]
    },
    {
     "name": "stderr",
     "output_type": "stream",
     "text": [
      "\r",
      "Iterations:  26%|████████▊                         | 78/300 [01:35<04:07,  1.12s/it]"
     ]
    },
    {
     "name": "stdout",
     "output_type": "stream",
     "text": [
      "Epoch  77 , loss 0.41416484409687565\n",
      "Epoch  78 , loss 0.41773502090398\n"
     ]
    },
    {
     "name": "stderr",
     "output_type": "stream",
     "text": [
      "\r",
      "Iterations:  26%|████████▉                         | 79/300 [01:37<04:33,  1.24s/it]"
     ]
    },
    {
     "name": "stdout",
     "output_type": "stream",
     "text": [
      "Epoch:  78\n",
      "t_loss:  0.41773502090398 , v_loss:  0.6879475762446722\n",
      "t_acc:  0.7030567685589519 , v_acc:  0.6964285714285714\n",
      "t_recall:  0.518723810180556 , v_recall:  0.5188679245283019\n",
      "t_prec:  0.6829795359076307 , v_prec:  0.8463855421686747\n",
      "t_f:  0.45622640675765336 , v_f:  0.44561630540278224\n",
      "////////\n"
     ]
    },
    {
     "name": "stderr",
     "output_type": "stream",
     "text": [
      "\r",
      "Iterations:  27%|█████████                         | 80/300 [01:38<04:19,  1.18s/it]"
     ]
    },
    {
     "name": "stdout",
     "output_type": "stream",
     "text": [
      "Epoch  79 , loss 0.41740360330132875\n",
      "Epoch  80 , loss 0.41620370044427757\n"
     ]
    },
    {
     "name": "stderr",
     "output_type": "stream",
     "text": [
      "\r",
      "Iterations:  27%|█████████▏                        | 81/300 [01:39<04:27,  1.22s/it]"
     ]
    },
    {
     "name": "stdout",
     "output_type": "stream",
     "text": [
      "Epoch:  80\n",
      "t_loss:  0.41620370044427757 , v_loss:  0.6871078014373779\n",
      "t_acc:  0.7058640049906425 , v_acc:  0.6964285714285714\n",
      "t_recall:  0.5227617832638003 , v_recall:  0.5188679245283019\n",
      "t_prec:  0.7081385572557592 , v_prec:  0.8463855421686747\n",
      "t_f:  0.4634296291129632 , v_f:  0.44561630540278224\n",
      "////////\n"
     ]
    },
    {
     "name": "stderr",
     "output_type": "stream",
     "text": [
      "\r",
      "Iterations:  27%|█████████▎                        | 82/300 [01:40<04:02,  1.11s/it]"
     ]
    },
    {
     "name": "stdout",
     "output_type": "stream",
     "text": [
      "Epoch  81 , loss 0.4086388483935711\n",
      "Epoch  82 , loss 0.4198337559606515\n"
     ]
    },
    {
     "name": "stderr",
     "output_type": "stream",
     "text": [
      "\r",
      "Iterations:  28%|█████████▍                        | 83/300 [01:42<04:33,  1.26s/it]"
     ]
    },
    {
     "name": "stdout",
     "output_type": "stream",
     "text": [
      "Epoch:  82\n",
      "t_loss:  0.4198337559606515 , v_loss:  0.6873618314663569\n",
      "t_acc:  0.7039925140361821 , v_acc:  0.6964285714285714\n",
      "t_recall:  0.5211283890172281 , v_recall:  0.5188679245283019\n",
      "t_prec:  0.6837771912987844 , v_prec:  0.8463855421686747\n",
      "t_f:  0.46166127147276853 , v_f:  0.44561630540278224\n",
      "////////\n"
     ]
    },
    {
     "name": "stderr",
     "output_type": "stream",
     "text": [
      "\r",
      "Iterations:  28%|█████████▌                        | 84/300 [01:43<04:12,  1.17s/it]"
     ]
    },
    {
     "name": "stdout",
     "output_type": "stream",
     "text": [
      "Epoch  83 , loss 0.415348162838057\n",
      "Epoch  84 , loss 0.41007529315995234\n"
     ]
    },
    {
     "name": "stderr",
     "output_type": "stream",
     "text": [
      "\r",
      "Iterations:  28%|█████████▋                        | 85/300 [01:44<04:27,  1.25s/it]"
     ]
    },
    {
     "name": "stdout",
     "output_type": "stream",
     "text": [
      "Epoch:  84\n",
      "t_loss:  0.41007529315995234 , v_loss:  0.6872697373231252\n",
      "t_acc:  0.7058640049906425 , v_acc:  0.7023809523809523\n",
      "t_recall:  0.5233391947959406 , v_recall:  0.5283018867924528\n",
      "t_prec:  0.7030070377479206 , v_prec:  0.8484848484848485\n",
      "t_f:  0.4650648883022346 , v_f:  0.4642857142857143\n",
      "////////\n"
     ]
    },
    {
     "name": "stderr",
     "output_type": "stream",
     "text": [
      "\r",
      "Iterations:  29%|█████████▋                        | 86/300 [01:45<04:03,  1.14s/it]"
     ]
    },
    {
     "name": "stdout",
     "output_type": "stream",
     "text": [
      "Epoch  85 , loss 0.4140760553818123\n",
      "Epoch  86 , loss 0.406956425484489\n"
     ]
    },
    {
     "name": "stderr",
     "output_type": "stream",
     "text": [
      "\r",
      "Iterations:  29%|█████████▊                        | 87/300 [01:47<04:34,  1.29s/it]"
     ]
    },
    {
     "name": "stdout",
     "output_type": "stream",
     "text": [
      "Epoch:  86\n",
      "t_loss:  0.406956425484489 , v_loss:  0.6904149403174719\n",
      "t_acc:  0.7105427323767936 , v_acc:  0.7023809523809523\n",
      "t_recall:  0.5287218563596869 , v_recall:  0.5283018867924528\n",
      "t_prec:  0.7529075062845855 , v_prec:  0.8484848484848485\n",
      "t_f:  0.4731728185982336 , v_f:  0.4642857142857143\n",
      "////////\n"
     ]
    },
    {
     "name": "stderr",
     "output_type": "stream",
     "text": [
      "\r",
      "Iterations:  29%|█████████▉                        | 88/300 [01:47<04:06,  1.16s/it]"
     ]
    },
    {
     "name": "stdout",
     "output_type": "stream",
     "text": [
      "Epoch  87 , loss 0.41607387510000493\n",
      "Epoch  88 , loss 0.41558410840875964\n"
     ]
    },
    {
     "name": "stderr",
     "output_type": "stream",
     "text": [
      "\r",
      "Iterations:  30%|██████████                        | 89/300 [01:49<04:38,  1.32s/it]"
     ]
    },
    {
     "name": "stdout",
     "output_type": "stream",
     "text": [
      "Epoch:  88\n",
      "t_loss:  0.41558410840875964 , v_loss:  0.6901340782642365\n",
      "t_acc:  0.7099189020586401 , v_acc:  0.7023809523809523\n",
      "t_recall:  0.5279849211001161 , v_recall:  0.5283018867924528\n",
      "t_prec:  0.7464184946950407 , v_prec:  0.8484848484848485\n",
      "t_f:  0.4720374151900402 , v_f:  0.4642857142857143\n",
      "////////\n"
     ]
    },
    {
     "name": "stderr",
     "output_type": "stream",
     "text": [
      "\r",
      "Iterations:  30%|██████████▏                       | 90/300 [01:50<04:14,  1.21s/it]"
     ]
    },
    {
     "name": "stdout",
     "output_type": "stream",
     "text": [
      "Epoch  89 , loss 0.41408061455277834\n",
      "Epoch  90 , loss 0.4199366657172932\n"
     ]
    },
    {
     "name": "stderr",
     "output_type": "stream",
     "text": [
      "\r",
      "Iterations:  30%|██████████▎                       | 91/300 [01:51<04:18,  1.24s/it]"
     ]
    },
    {
     "name": "stdout",
     "output_type": "stream",
     "text": [
      "Epoch:  90\n",
      "t_loss:  0.4199366657172932 , v_loss:  0.6887550602356592\n",
      "t_acc:  0.7067997504678727 , v_acc:  0.7023809523809523\n",
      "t_recall:  0.5248776563344022 , v_recall:  0.5283018867924528\n",
      "t_prec:  0.7087678282775676 , v_prec:  0.8484848484848485\n",
      "t_f:  0.4679807616939934 , v_f:  0.4642857142857143\n",
      "////////\n"
     ]
    },
    {
     "name": "stderr",
     "output_type": "stream",
     "text": [
      "\r",
      "Iterations:  31%|██████████▍                       | 92/300 [01:52<03:58,  1.15s/it]"
     ]
    },
    {
     "name": "stdout",
     "output_type": "stream",
     "text": [
      "Epoch  91 , loss 0.4186856705768436\n",
      "Epoch  92 , loss 0.4143716669550129\n"
     ]
    },
    {
     "name": "stderr",
     "output_type": "stream",
     "text": [
      "\r",
      "Iterations:  31%|██████████▌                       | 93/300 [01:54<04:12,  1.22s/it]"
     ]
    },
    {
     "name": "stdout",
     "output_type": "stream",
     "text": [
      "Epoch:  92\n",
      "t_loss:  0.4143716669550129 , v_loss:  0.6876722723245621\n",
      "t_acc:  0.7074235807860262 , v_acc:  0.7023809523809523\n",
      "t_recall:  0.5259032973600432 , v_recall:  0.5283018867924528\n",
      "t_prec:  0.7123961023050681 , v_prec:  0.8484848484848485\n",
      "t_f:  0.469916377584116 , v_f:  0.4642857142857143\n",
      "////////\n"
     ]
    },
    {
     "name": "stderr",
     "output_type": "stream",
     "text": [
      "\r",
      "Iterations:  31%|██████████▋                       | 94/300 [01:55<04:03,  1.18s/it]"
     ]
    },
    {
     "name": "stdout",
     "output_type": "stream",
     "text": [
      "Epoch  93 , loss 0.420819502250821\n",
      "Epoch  94 , loss 0.4121364974508099\n"
     ]
    },
    {
     "name": "stderr",
     "output_type": "stream",
     "text": [
      "\r",
      "Iterations:  32%|██████████▊                       | 95/300 [01:56<04:13,  1.24s/it]"
     ]
    },
    {
     "name": "stdout",
     "output_type": "stream",
     "text": [
      "Epoch:  94\n",
      "t_loss:  0.4121364974508099 , v_loss:  0.6873673299948374\n",
      "t_acc:  0.7089831565814099 , v_acc:  0.7023809523809523\n",
      "t_recall:  0.5293335172223563 , v_recall:  0.5283018867924528\n",
      "t_prec:  0.7137158360128617 , v_prec:  0.8484848484848485\n",
      "t_f:  0.477082576149726 , v_f:  0.4642857142857143\n",
      "////////\n"
     ]
    },
    {
     "name": "stderr",
     "output_type": "stream",
     "text": [
      "\r",
      "Iterations:  32%|██████████▉                       | 96/300 [01:57<03:47,  1.12s/it]"
     ]
    },
    {
     "name": "stdout",
     "output_type": "stream",
     "text": [
      "Epoch  95 , loss 0.40752558220250934\n",
      "Epoch  96 , loss 0.40728672053299697\n"
     ]
    },
    {
     "name": "stderr",
     "output_type": "stream",
     "text": [
      "\r",
      "Iterations:  32%|██████████▉                       | 97/300 [01:58<04:05,  1.21s/it]"
     ]
    },
    {
     "name": "stdout",
     "output_type": "stream",
     "text": [
      "Epoch:  96\n",
      "t_loss:  0.40728672053299697 , v_loss:  0.6897963434457779\n",
      "t_acc:  0.7077354959451029 , v_acc:  0.7023809523809523\n",
      "t_recall:  0.5281483524692847 , v_recall:  0.5283018867924528\n",
      "t_prec:  0.7010250045964332 , v_prec:  0.8484848484848485\n",
      "t_f:  0.4756232034684024 , v_f:  0.4642857142857143\n",
      "////////\n"
     ]
    },
    {
     "name": "stderr",
     "output_type": "stream",
     "text": [
      "\r",
      "Iterations:  33%|███████████                       | 98/300 [01:59<03:48,  1.13s/it]"
     ]
    },
    {
     "name": "stdout",
     "output_type": "stream",
     "text": [
      "Epoch  97 , loss 0.4086659784410514\n",
      "Epoch  98 , loss 0.415383426582112\n"
     ]
    },
    {
     "name": "stderr",
     "output_type": "stream",
     "text": [
      "\r",
      "Iterations:  33%|███████████▏                      | 99/300 [02:01<03:59,  1.19s/it]"
     ]
    },
    {
     "name": "stdout",
     "output_type": "stream",
     "text": [
      "Epoch:  98\n",
      "t_loss:  0.415383426582112 , v_loss:  0.6927786817153295\n",
      "t_acc:  0.7014971927635683 , v_acc:  0.7023809523809523\n",
      "t_recall:  0.5216451171717869 , v_recall:  0.5283018867924528\n",
      "t_prec:  0.6459449238704558 , v_prec:  0.8484848484848485\n",
      "t_f:  0.4668094698458042 , v_f:  0.4642857142857143\n",
      "////////\n"
     ]
    },
    {
     "name": "stderr",
     "output_type": "stream",
     "text": [
      "\r",
      "Iterations:  33%|███████████                      | 100/300 [02:02<03:52,  1.16s/it]"
     ]
    },
    {
     "name": "stdout",
     "output_type": "stream",
     "text": [
      "Epoch  99 , loss 0.41207143255308565\n",
      "Epoch  100 , loss 0.4212789593958387\n"
     ]
    },
    {
     "name": "stderr",
     "output_type": "stream",
     "text": [
      "\r",
      "Iterations:  34%|███████████                      | 101/300 [02:03<04:02,  1.22s/it]"
     ]
    },
    {
     "name": "stdout",
     "output_type": "stream",
     "text": [
      "Epoch:  100\n",
      "t_loss:  0.4212789593958387 , v_loss:  0.694282645980517\n",
      "t_acc:  0.7074235807860262 , v_acc:  0.7023809523809523\n",
      "t_recall:  0.5273468261903941 , v_recall:  0.5283018867924528\n",
      "t_prec:  0.7012739176775111 , v_prec:  0.8484848484848485\n",
      "t_f:  0.4738874095949223 , v_f:  0.4642857142857143\n",
      "////////\n"
     ]
    },
    {
     "name": "stderr",
     "output_type": "stream",
     "text": [
      "\r",
      "Iterations:  34%|███████████▏                     | 102/300 [02:04<03:43,  1.13s/it]"
     ]
    },
    {
     "name": "stdout",
     "output_type": "stream",
     "text": [
      "Epoch  101 , loss 0.4084855598561904\n",
      "Epoch  102 , loss 0.406769494507827\n"
     ]
    },
    {
     "name": "stderr",
     "output_type": "stream",
     "text": [
      "\r",
      "Iterations:  34%|███████████▎                     | 103/300 [02:06<04:18,  1.31s/it]"
     ]
    },
    {
     "name": "stdout",
     "output_type": "stream",
     "text": [
      "Epoch:  102\n",
      "t_loss:  0.406769494507827 , v_loss:  0.6916182041168213\n",
      "t_acc:  0.7043044291952589 , v_acc:  0.7023809523809523\n",
      "t_recall:  0.5230847383603995 , v_recall:  0.5283018867924528\n",
      "t_prec:  0.6771453265835288 , v_prec:  0.8484848484848485\n",
      "t_f:  0.4666826699347025 , v_f:  0.4642857142857143\n",
      "////////\n"
     ]
    },
    {
     "name": "stderr",
     "output_type": "stream",
     "text": [
      "\r",
      "Iterations:  35%|███████████▍                     | 104/300 [02:07<04:06,  1.26s/it]"
     ]
    },
    {
     "name": "stdout",
     "output_type": "stream",
     "text": [
      "Epoch  103 , loss 0.40986868855999964\n",
      "Epoch  104 , loss 0.41709337398117663\n"
     ]
    },
    {
     "name": "stderr",
     "output_type": "stream",
     "text": [
      "\r",
      "Iterations:  35%|███████████▌                     | 105/300 [02:09<04:27,  1.37s/it]"
     ]
    },
    {
     "name": "stdout",
     "output_type": "stream",
     "text": [
      "Epoch:  104\n",
      "t_loss:  0.41709337398117663 , v_loss:  0.6928300261497498\n",
      "t_acc:  0.7121023081721771 , v_acc:  0.7023809523809523\n",
      "t_recall:  0.5307085473916491 , v_recall:  0.5283018867924528\n",
      "t_prec:  0.7671065259117082 , v_prec:  0.8484848484848485\n",
      "t_f:  0.4764102777337885 , v_f:  0.4642857142857143\n",
      "////////\n"
     ]
    },
    {
     "name": "stderr",
     "output_type": "stream",
     "text": [
      "\r",
      "Iterations:  35%|███████████▋                     | 106/300 [02:09<03:57,  1.22s/it]"
     ]
    },
    {
     "name": "stdout",
     "output_type": "stream",
     "text": [
      "Epoch  105 , loss 0.41901108096627626\n",
      "Epoch  106 , loss 0.40132567958504545\n"
     ]
    },
    {
     "name": "stderr",
     "output_type": "stream",
     "text": [
      "\r",
      "Iterations:  36%|███████████▊                     | 107/300 [02:11<04:03,  1.26s/it]"
     ]
    },
    {
     "name": "stdout",
     "output_type": "stream",
     "text": [
      "Epoch:  106\n",
      "t_loss:  0.40132567958504545 , v_loss:  0.6965355972448984\n",
      "t_acc:  0.7077354959451029 , v_acc:  0.7023809523809523\n",
      "t_recall:  0.5246838832764427 , v_recall:  0.5283018867924528\n",
      "t_prec:  0.7316670118394257 , v_prec:  0.8484848484848485\n",
      "t_f:  0.4660263532906596 , v_f:  0.4642857142857143\n",
      "////////\n"
     ]
    },
    {
     "name": "stderr",
     "output_type": "stream",
     "text": [
      "\r",
      "Iterations:  36%|███████████▉                     | 108/300 [02:12<03:38,  1.14s/it]"
     ]
    },
    {
     "name": "stdout",
     "output_type": "stream",
     "text": [
      "Epoch  107 , loss 0.41408804760259743\n",
      "Epoch  108 , loss 0.4096469660015667\n"
     ]
    },
    {
     "name": "stderr",
     "output_type": "stream",
     "text": [
      "\r",
      "Iterations:  36%|███████████▉                     | 109/300 [02:13<03:55,  1.23s/it]"
     ]
    },
    {
     "name": "stdout",
     "output_type": "stream",
     "text": [
      "Epoch:  108\n",
      "t_loss:  0.4096469660015667 , v_loss:  0.6941232482592264\n",
      "t_acc:  0.7080474111041797 , v_acc:  0.7023809523809523\n",
      "t_recall:  0.5280837614499649 , v_recall:  0.5283018867924528\n",
      "t_prec:  0.7066977955979631 , v_prec:  0.8484848484848485\n",
      "t_f:  0.47500918484098853 , v_f:  0.4642857142857143\n",
      "////////\n"
     ]
    },
    {
     "name": "stderr",
     "output_type": "stream",
     "text": [
      "\r",
      "Iterations:  37%|████████████                     | 110/300 [02:14<03:37,  1.14s/it]"
     ]
    },
    {
     "name": "stdout",
     "output_type": "stream",
     "text": [
      "Epoch  109 , loss 0.4144868570215562\n",
      "Epoch  110 , loss 0.4063473110105477\n"
     ]
    },
    {
     "name": "stderr",
     "output_type": "stream",
     "text": [
      "\r",
      "Iterations:  37%|████████████▏                    | 111/300 [02:15<03:49,  1.22s/it]"
     ]
    },
    {
     "name": "stdout",
     "output_type": "stream",
     "text": [
      "Epoch:  110\n",
      "t_loss:  0.4063473110105477 , v_loss:  0.6982025702794393\n",
      "t_acc:  0.7124142233312539 , v_acc:  0.7023809523809523\n",
      "t_recall:  0.5343971313312416 , v_recall:  0.5283018867924528\n",
      "t_prec:  0.734103232387073 , v_prec:  0.8484848484848485\n",
      "t_f:  0.485929518550441 , v_f:  0.4642857142857143\n",
      "////////\n"
     ]
    },
    {
     "name": "stderr",
     "output_type": "stream",
     "text": [
      "\r",
      "Iterations:  37%|████████████▎                    | 112/300 [02:16<03:28,  1.11s/it]"
     ]
    },
    {
     "name": "stdout",
     "output_type": "stream",
     "text": [
      "Epoch  111 , loss 0.4061034628573586\n",
      "Epoch  112 , loss 0.4043016235033671\n"
     ]
    },
    {
     "name": "stderr",
     "output_type": "stream",
     "text": [
      "\r",
      "Iterations:  38%|████████████▍                    | 113/300 [02:18<03:56,  1.27s/it]"
     ]
    },
    {
     "name": "stdout",
     "output_type": "stream",
     "text": [
      "Epoch:  112\n",
      "t_loss:  0.4043016235033671 , v_loss:  0.698021188378334\n",
      "t_acc:  0.7071116656269495 , v_acc:  0.7023809523809523\n",
      "t_recall:  0.5262565941454332 , v_recall:  0.5283018867924528\n",
      "t_prec:  0.7036585365853658 , v_prec:  0.8484848484848485\n",
      "t_f:  0.471348683084104 , v_f:  0.4642857142857143\n",
      "////////\n"
     ]
    },
    {
     "name": "stderr",
     "output_type": "stream",
     "text": [
      "\r",
      "Iterations:  38%|████████████▌                    | 114/300 [02:19<03:41,  1.19s/it]"
     ]
    },
    {
     "name": "stdout",
     "output_type": "stream",
     "text": [
      "Epoch  113 , loss 0.4041723798887402\n",
      "Epoch  114 , loss 0.41928482640023323\n"
     ]
    },
    {
     "name": "stderr",
     "output_type": "stream",
     "text": [
      "\r",
      "Iterations:  38%|████████████▋                    | 115/300 [02:20<03:52,  1.26s/it]"
     ]
    },
    {
     "name": "stdout",
     "output_type": "stream",
     "text": [
      "Epoch:  114\n",
      "t_loss:  0.41928482640023323 , v_loss:  0.6986875583728155\n",
      "t_acc:  0.7080474111041797 , v_acc:  0.7023809523809523\n",
      "t_recall:  0.5283724672160351 , v_recall:  0.5283018867924528\n",
      "t_prec:  0.7046486257058822 , v_prec:  0.8484848484848485\n",
      "t_f:  0.4757923863826933 , v_f:  0.4642857142857143\n",
      "////////\n"
     ]
    },
    {
     "name": "stderr",
     "output_type": "stream",
     "text": [
      "\r",
      "Iterations:  39%|████████████▊                    | 116/300 [02:21<03:31,  1.15s/it]"
     ]
    },
    {
     "name": "stdout",
     "output_type": "stream",
     "text": [
      "Epoch  115 , loss 0.4055469468528149\n",
      "Epoch  116 , loss 0.40718525005321876\n"
     ]
    },
    {
     "name": "stderr",
     "output_type": "stream",
     "text": [
      "\r",
      "Iterations:  39%|████████████▊                    | 117/300 [02:23<03:53,  1.28s/it]"
     ]
    },
    {
     "name": "stdout",
     "output_type": "stream",
     "text": [
      "Epoch:  116\n",
      "t_loss:  0.40718525005321876 , v_loss:  0.6980688820282618\n",
      "t_acc:  0.7130380536494073 , v_acc:  0.7023809523809523\n",
      "t_recall:  0.5357114781229528 , v_recall:  0.5283018867924528\n",
      "t_prec:  0.7342645954528594 , v_prec:  0.8484848484848485\n",
      "t_f:  0.48855742787486167 , v_f:  0.4642857142857143\n",
      "////////\n"
     ]
    },
    {
     "name": "stderr",
     "output_type": "stream",
     "text": [
      "\r",
      "Iterations:  39%|████████████▉                    | 118/300 [02:24<03:28,  1.15s/it]"
     ]
    },
    {
     "name": "stdout",
     "output_type": "stream",
     "text": [
      "Epoch  117 , loss 0.40578177688168543\n",
      "Epoch  118 , loss 0.40207937096848206\n"
     ]
    },
    {
     "name": "stderr",
     "output_type": "stream",
     "text": [
      "\r",
      "Iterations:  40%|█████████████                    | 119/300 [02:25<03:45,  1.25s/it]"
     ]
    },
    {
     "name": "stdout",
     "output_type": "stream",
     "text": [
      "Epoch:  118\n",
      "t_loss:  0.40207937096848206 , v_loss:  0.6978812913099924\n",
      "t_acc:  0.7130380536494073 , v_acc:  0.7023809523809523\n",
      "t_recall:  0.5336905377604615 , v_recall:  0.5283018867924528\n",
      "t_prec:  0.7531337540456428 , v_prec:  0.8484848484848485\n",
      "t_f:  0.48321054520173135 , v_f:  0.4642857142857143\n",
      "////////\n"
     ]
    },
    {
     "name": "stderr",
     "output_type": "stream",
     "text": [
      "\r",
      "Iterations:  40%|█████████████▏                   | 120/300 [02:26<03:36,  1.20s/it]"
     ]
    },
    {
     "name": "stdout",
     "output_type": "stream",
     "text": [
      "Epoch  119 , loss 0.4075649444963418\n",
      "Epoch  120 , loss 0.4089733636846729\n"
     ]
    },
    {
     "name": "stderr",
     "output_type": "stream",
     "text": [
      "\r",
      "Iterations:  40%|█████████████▎                   | 121/300 [02:28<03:41,  1.24s/it]"
     ]
    },
    {
     "name": "stdout",
     "output_type": "stream",
     "text": [
      "Epoch:  120\n",
      "t_loss:  0.4089733636846729 , v_loss:  0.698781430721283\n",
      "t_acc:  0.7086712414223332 , v_acc:  0.7023809523809523\n",
      "t_recall:  0.5296868140077463 , v_recall:  0.5283018867924528\n",
      "t_prec:  0.7059134898997146 , v_prec:  0.8484848484848485\n",
      "t_f:  0.47846638948183895 , v_f:  0.4642857142857143\n",
      "////////\n"
     ]
    },
    {
     "name": "stderr",
     "output_type": "stream",
     "text": [
      "\r",
      "Iterations:  41%|█████████████▍                   | 122/300 [02:28<03:23,  1.14s/it]"
     ]
    },
    {
     "name": "stdout",
     "output_type": "stream",
     "text": [
      "Epoch  121 , loss 0.4059314248608608\n",
      "Epoch  122 , loss 0.41199084765770855\n"
     ]
    },
    {
     "name": "stderr",
     "output_type": "stream",
     "text": [
      "\r",
      "Iterations:  41%|█████████████▌                   | 123/300 [02:30<03:50,  1.30s/it]"
     ]
    },
    {
     "name": "stdout",
     "output_type": "stream",
     "text": [
      "Epoch:  122\n",
      "t_loss:  0.41199084765770855 , v_loss:  0.7021031230688095\n",
      "t_acc:  0.7039925140361821 , v_acc:  0.7023809523809523\n",
      "t_recall:  0.5228606236136492 , v_recall:  0.5283018867924528\n",
      "t_prec:  0.6735744603613414 , v_prec:  0.8484848484848485\n",
      "t_f:  0.4665206645841789 , v_f:  0.4642857142857143\n",
      "////////\n"
     ]
    },
    {
     "name": "stderr",
     "output_type": "stream",
     "text": [
      "\r",
      "Iterations:  41%|█████████████▋                   | 124/300 [02:31<03:42,  1.26s/it]"
     ]
    },
    {
     "name": "stdout",
     "output_type": "stream",
     "text": [
      "Epoch  123 , loss 0.40452324146149204\n",
      "Epoch  124 , loss 0.4081827185901941\n"
     ]
    },
    {
     "name": "stderr",
     "output_type": "stream",
     "text": [
      "\r",
      "Iterations:  42%|█████████████▊                   | 125/300 [02:33<04:05,  1.40s/it]"
     ]
    },
    {
     "name": "stdout",
     "output_type": "stream",
     "text": [
      "Epoch:  124\n",
      "t_loss:  0.4081827185901941 , v_loss:  0.7029582957426707\n",
      "t_acc:  0.7108546475358702 , v_acc:  0.7023809523809523\n",
      "t_recall:  0.5309669114689285 , v_recall:  0.5283018867924528\n",
      "t_prec:  0.7351232861411299 , v_prec:  0.8484848484848485\n",
      "t_f:  0.4788879410637871 , v_f:  0.4642857142857143\n",
      "////////\n"
     ]
    },
    {
     "name": "stderr",
     "output_type": "stream",
     "text": [
      "\r",
      "Iterations:  42%|█████████████▊                   | 126/300 [02:34<03:47,  1.31s/it]"
     ]
    },
    {
     "name": "stdout",
     "output_type": "stream",
     "text": [
      "Epoch  125 , loss 0.39851405895223807\n",
      "Epoch  126 , loss 0.41429710797235075\n"
     ]
    },
    {
     "name": "stderr",
     "output_type": "stream",
     "text": [
      "\r",
      "Iterations:  42%|█████████████▉                   | 127/300 [02:35<03:47,  1.32s/it]"
     ]
    },
    {
     "name": "stdout",
     "output_type": "stream",
     "text": [
      "Epoch:  126\n",
      "t_loss:  0.41429710797235075 , v_loss:  0.7056462466716766\n",
      "t_acc:  0.7130380536494073 , v_acc:  0.7023809523809523\n",
      "t_recall:  0.5362888896550931 , v_recall:  0.5283018867924528\n",
      "t_prec:  0.7297704813052148 , v_prec:  0.8484848484848485\n",
      "t_f:  0.49005849894433584 , v_f:  0.4642857142857143\n",
      "////////\n"
     ]
    },
    {
     "name": "stderr",
     "output_type": "stream",
     "text": [
      "\r",
      "Iterations:  43%|██████████████                   | 128/300 [02:36<03:22,  1.18s/it]"
     ]
    },
    {
     "name": "stdout",
     "output_type": "stream",
     "text": [
      "Epoch  127 , loss 0.4083316735192841\n",
      "Epoch  128 , loss 0.4038342114757089\n"
     ]
    },
    {
     "name": "stderr",
     "output_type": "stream",
     "text": [
      "\r",
      "Iterations:  43%|██████████████▏                  | 129/300 [02:38<03:36,  1.27s/it]"
     ]
    },
    {
     "name": "stdout",
     "output_type": "stream",
     "text": [
      "Epoch:  128\n",
      "t_loss:  0.4038342114757089 , v_loss:  0.7056787510712942\n",
      "t_acc:  0.7080474111041797 , v_acc:  0.7023809523809523\n",
      "t_recall:  0.5289498787481755 , v_recall:  0.5283018867924528\n",
      "t_prec:  0.7008019642543964 , v_prec:  0.8484848484848485\n",
      "t_f:  0.47734961515524765 , v_f:  0.4642857142857143\n",
      "////////\n"
     ]
    },
    {
     "name": "stderr",
     "output_type": "stream",
     "text": [
      "\r",
      "Iterations:  43%|██████████████▎                  | 130/300 [02:39<03:19,  1.18s/it]"
     ]
    },
    {
     "name": "stdout",
     "output_type": "stream",
     "text": [
      "Epoch  129 , loss 0.41104810845618156\n",
      "Epoch  130 , loss 0.40470075972524344\n"
     ]
    },
    {
     "name": "stderr",
     "output_type": "stream",
     "text": [
      "\r",
      "Iterations:  44%|██████████████▍                  | 131/300 [02:40<03:28,  1.23s/it]"
     ]
    },
    {
     "name": "stdout",
     "output_type": "stream",
     "text": [
      "Epoch:  130\n",
      "t_loss:  0.40470075972524344 , v_loss:  0.7070426940917969\n",
      "t_acc:  0.7080474111041797 , v_acc:  0.7023809523809523\n",
      "t_recall:  0.5306821133445966 , v_recall:  0.5283018867924528\n",
      "t_prec:  0.6909550254786 , v_prec:  0.8484848484848485\n",
      "t_f:  0.481949109470986 , v_f:  0.4642857142857143\n",
      "////////\n"
     ]
    },
    {
     "name": "stderr",
     "output_type": "stream",
     "text": [
      "\r",
      "Iterations:  44%|██████████████▌                  | 132/300 [02:41<03:09,  1.13s/it]"
     ]
    },
    {
     "name": "stdout",
     "output_type": "stream",
     "text": [
      "Epoch  131 , loss 0.40717034830766563\n",
      "Epoch  132 , loss 0.40741417104122685\n"
     ]
    },
    {
     "name": "stderr",
     "output_type": "stream",
     "text": [
      "\r",
      "Iterations:  44%|██████████████▋                  | 133/300 [02:42<03:22,  1.21s/it]"
     ]
    },
    {
     "name": "stdout",
     "output_type": "stream",
     "text": [
      "Epoch:  132\n",
      "t_loss:  0.40741417104122685 , v_loss:  0.7077199419339498\n",
      "t_acc:  0.7092950717404866 , v_acc:  0.7023809523809523\n",
      "t_recall:  0.5284028089048259 , v_recall:  0.5283018867924528\n",
      "t_prec:  0.7276831286184416 , v_prec:  0.8484848484848485\n",
      "t_f:  0.47410246933136213 , v_f:  0.4642857142857143\n",
      "////////\n"
     ]
    },
    {
     "name": "stderr",
     "output_type": "stream",
     "text": [
      "\r",
      "Iterations:  45%|██████████████▋                  | 134/300 [02:43<03:12,  1.16s/it]"
     ]
    },
    {
     "name": "stdout",
     "output_type": "stream",
     "text": [
      "Epoch  133 , loss 0.4045386355297238\n",
      "Epoch  134 , loss 0.41307858392304064\n"
     ]
    },
    {
     "name": "stderr",
     "output_type": "stream",
     "text": [
      "\r",
      "Iterations:  45%|██████████████▊                  | 135/300 [02:45<03:24,  1.24s/it]"
     ]
    },
    {
     "name": "stdout",
     "output_type": "stream",
     "text": [
      "Epoch:  134\n",
      "t_loss:  0.41307858392304064 , v_loss:  0.7051753352085749\n",
      "t_acc:  0.7086712414223332 , v_acc:  0.7023809523809523\n",
      "t_recall:  0.5302642255398867 , v_recall:  0.5283018867924528\n",
      "t_prec:  0.7021820917983446 , v_prec:  0.8484848484848485\n",
      "t_f:  0.48000819649356785 , v_f:  0.4642857142857143\n",
      "////////\n"
     ]
    },
    {
     "name": "stderr",
     "output_type": "stream",
     "text": [
      "\r",
      "Iterations:  45%|██████████████▉                  | 136/300 [02:46<03:05,  1.13s/it]"
     ]
    },
    {
     "name": "stdout",
     "output_type": "stream",
     "text": [
      "Epoch  135 , loss 0.40346911257388546\n",
      "Epoch  136 , loss 0.4092361208270578\n"
     ]
    },
    {
     "name": "stderr",
     "output_type": "stream",
     "text": [
      "\r",
      "Iterations:  46%|███████████████                  | 137/300 [02:47<03:19,  1.22s/it]"
     ]
    },
    {
     "name": "stdout",
     "output_type": "stream",
     "text": [
      "Epoch:  136\n",
      "t_loss:  0.4092361208270578 , v_loss:  0.7082085758447647\n",
      "t_acc:  0.7139737991266376 , v_acc:  0.7023809523809523\n",
      "t_recall:  0.5372499396614143 , v_recall:  0.5283018867924528\n",
      "t_prec:  0.7379228329809726 , v_prec:  0.8484848484848485\n",
      "t_f:  0.49134839557458354 , v_f:  0.4642857142857143\n",
      "////////\n"
     ]
    },
    {
     "name": "stderr",
     "output_type": "stream",
     "text": [
      "\r",
      "Iterations:  46%|███████████████▏                 | 138/300 [02:48<03:02,  1.13s/it]"
     ]
    },
    {
     "name": "stdout",
     "output_type": "stream",
     "text": [
      "Epoch  137 , loss 0.402305919750064\n",
      "Epoch  138 , loss 0.40125371019045514\n"
     ]
    },
    {
     "name": "stderr",
     "output_type": "stream",
     "text": [
      "\r",
      "Iterations:  46%|███████████████▎                 | 139/300 [02:50<03:15,  1.22s/it]"
     ]
    },
    {
     "name": "stdout",
     "output_type": "stream",
     "text": [
      "Epoch:  138\n",
      "t_loss:  0.40125371019045514 , v_loss:  0.7086009830236435\n",
      "t_acc:  0.7117903930131004 , v_acc:  0.7023809523809523\n",
      "t_recall:  0.5339489018377409 , v_recall:  0.5283018867924528\n",
      "t_prec:  0.726797807158981 , v_prec:  0.8484848484848485\n",
      "t_f:  0.4855755605568059 , v_f:  0.4642857142857143\n",
      "////////\n"
     ]
    },
    {
     "name": "stderr",
     "output_type": "stream",
     "text": [
      "\r",
      "Iterations:  47%|███████████████▍                 | 140/300 [02:51<03:09,  1.19s/it]"
     ]
    },
    {
     "name": "stdout",
     "output_type": "stream",
     "text": [
      "Epoch  139 , loss 0.3987680036647647\n",
      "Epoch  140 , loss 0.40005428533928067\n"
     ]
    },
    {
     "name": "stderr",
     "output_type": "stream",
     "text": [
      "\r",
      "Iterations:  47%|███████████████▌                 | 141/300 [02:52<03:21,  1.27s/it]"
     ]
    },
    {
     "name": "stdout",
     "output_type": "stream",
     "text": [
      "Epoch:  140\n",
      "t_loss:  0.40005428533928067 , v_loss:  0.7116508682568868\n",
      "t_acc:  0.7111665626949469 , v_acc:  0.7023809523809523\n",
      "t_recall:  0.5335006723442403 , v_recall:  0.5283018867924528\n",
      "t_prec:  0.7197618767585564 , v_prec:  0.8484848484848485\n",
      "t_f:  0.48522193283926307 , v_f:  0.4642857142857143\n",
      "////////\n"
     ]
    },
    {
     "name": "stderr",
     "output_type": "stream",
     "text": [
      "\r",
      "Iterations:  47%|███████████████▌                 | 142/300 [02:53<03:02,  1.16s/it]"
     ]
    },
    {
     "name": "stdout",
     "output_type": "stream",
     "text": [
      "Epoch  141 , loss 0.40461139702329446\n",
      "Epoch  142 , loss 0.4079401183362101\n"
     ]
    },
    {
     "name": "stderr",
     "output_type": "stream",
     "text": [
      "\r",
      "Iterations:  48%|███████████████▋                 | 143/300 [02:54<03:12,  1.22s/it]"
     ]
    },
    {
     "name": "stdout",
     "output_type": "stream",
     "text": [
      "Epoch:  142\n",
      "t_loss:  0.4079401183362101 , v_loss:  0.7082635164260864\n",
      "t_acc:  0.7136618839675608 , v_acc:  0.7023809523809523\n",
      "t_recall:  0.5381806479789447 , v_recall:  0.5283018867924528\n",
      "t_prec:  0.7260809085538977 , v_prec:  0.8484848484848485\n",
      "t_f:  0.49412811375666643 , v_f:  0.4642857142857143\n",
      "////////\n"
     ]
    },
    {
     "name": "stderr",
     "output_type": "stream",
     "text": [
      "\r",
      "Iterations:  48%|███████████████▊                 | 144/300 [02:56<03:13,  1.24s/it]"
     ]
    },
    {
     "name": "stdout",
     "output_type": "stream",
     "text": [
      "Epoch  143 , loss 0.40479067377015654\n",
      "Epoch  144 , loss 0.3984130109642066\n"
     ]
    },
    {
     "name": "stderr",
     "output_type": "stream",
     "text": [
      "\r",
      "Iterations:  48%|███████████████▉                 | 145/300 [02:57<03:21,  1.30s/it]"
     ]
    },
    {
     "name": "stdout",
     "output_type": "stream",
     "text": [
      "Epoch:  144\n",
      "t_loss:  0.3984130109642066 , v_loss:  0.7079100062449774\n",
      "t_acc:  0.714597629444791 , v_acc:  0.7023809523809523\n",
      "t_recall:  0.5391416979852659 , v_recall:  0.5283018867924528\n",
      "t_prec:  0.7336600948449987 , v_prec:  0.8484848484848485\n",
      "t_f:  0.4954148560624474 , v_f:  0.4642857142857143\n",
      "////////\n"
     ]
    },
    {
     "name": "stderr",
     "output_type": "stream",
     "text": [
      "\r",
      "Iterations:  49%|████████████████                 | 146/300 [02:58<03:02,  1.19s/it]"
     ]
    },
    {
     "name": "stdout",
     "output_type": "stream",
     "text": [
      "Epoch  145 , loss 0.4095935879969129\n",
      "Epoch  146 , loss 0.4020581657395643\n"
     ]
    },
    {
     "name": "stderr",
     "output_type": "stream",
     "text": [
      "\r",
      "Iterations:  49%|████████████████▏                | 147/300 [02:59<03:11,  1.25s/it]"
     ]
    },
    {
     "name": "stdout",
     "output_type": "stream",
     "text": [
      "Epoch:  146\n",
      "t_loss:  0.4020581657395643 , v_loss:  0.7103309233983358\n",
      "t_acc:  0.7083593262632564 , v_acc:  0.7023809523809523\n",
      "t_recall:  0.5306175223252767 , v_recall:  0.5283018867924528\n",
      "t_prec:  0.6955602536997886 , v_prec:  0.8484848484848485\n",
      "t_f:  0.48136395841028967 , v_f:  0.4642857142857143\n",
      "////////\n"
     ]
    },
    {
     "name": "stderr",
     "output_type": "stream",
     "text": [
      "\r",
      "Iterations:  49%|████████████████▎                | 148/300 [03:00<02:55,  1.16s/it]"
     ]
    },
    {
     "name": "stdout",
     "output_type": "stream",
     "text": [
      "Epoch  147 , loss 0.39738018197171826\n",
      "Epoch  148 , loss 0.3960459547884324\n"
     ]
    },
    {
     "name": "stderr",
     "output_type": "stream",
     "text": [
      "\r",
      "Iterations:  50%|████████████████▍                | 149/300 [03:02<03:03,  1.22s/it]"
     ]
    },
    {
     "name": "stdout",
     "output_type": "stream",
     "text": [
      "Epoch:  148\n",
      "t_loss:  0.3960459547884324 , v_loss:  0.7122592329978943\n",
      "t_acc:  0.7142857142857143 , v_acc:  0.7023809523809523\n",
      "t_recall:  0.5394949947706559 , v_recall:  0.5283018867924528\n",
      "t_prec:  0.7265518487166708 , v_prec:  0.8484848484848485\n",
      "t_f:  0.4966905304954503 , v_f:  0.4642857142857143\n",
      "////////\n"
     ]
    },
    {
     "name": "stderr",
     "output_type": "stream",
     "text": [
      "\r",
      "Iterations:  50%|████████████████▌                | 150/300 [03:03<02:51,  1.14s/it]"
     ]
    },
    {
     "name": "stdout",
     "output_type": "stream",
     "text": [
      "Epoch  149 , loss 0.40759018881648196\n",
      "Epoch  150 , loss 0.4070909800482731\n"
     ]
    },
    {
     "name": "stderr",
     "output_type": "stream",
     "text": [
      "\r",
      "Iterations:  50%|████████████████▌                | 151/300 [03:04<03:01,  1.22s/it]"
     ]
    },
    {
     "name": "stdout",
     "output_type": "stream",
     "text": [
      "Epoch:  150\n",
      "t_loss:  0.4070909800482731 , v_loss:  0.7117742995421091\n",
      "t_acc:  0.7142857142857143 , v_acc:  0.7023809523809523\n",
      "t_recall:  0.5400724063027963 , v_recall:  0.5283018867924528\n",
      "t_prec:  0.7229134114000608 , v_prec:  0.8484848484848485\n",
      "t_f:  0.498139660470092 , v_f:  0.4642857142857143\n",
      "////////\n"
     ]
    },
    {
     "name": "stderr",
     "output_type": "stream",
     "text": [
      "\r",
      "Iterations:  51%|████████████████▋                | 152/300 [03:05<02:54,  1.18s/it]"
     ]
    },
    {
     "name": "stdout",
     "output_type": "stream",
     "text": [
      "Epoch  151 , loss 0.40462304096595914\n",
      "Epoch  152 , loss 0.3981671830018361\n"
     ]
    },
    {
     "name": "stderr",
     "output_type": "stream",
     "text": [
      "\r",
      "Iterations:  51%|████████████████▊                | 153/300 [03:07<03:04,  1.25s/it]"
     ]
    },
    {
     "name": "stdout",
     "output_type": "stream",
     "text": [
      "Epoch:  152\n",
      "t_loss:  0.3981671830018361 , v_loss:  0.7149138748645782\n",
      "t_acc:  0.7096069868995634 , v_acc:  0.7023809523809523\n",
      "t_recall:  0.5318026870783482 , v_recall:  0.5283018867924528\n",
      "t_prec:  0.7067582430719939 , v_prec:  0.8484848484848485\n",
      "t_f:  0.4828232149147498 , v_f:  0.4642857142857143\n",
      "////////\n"
     ]
    },
    {
     "name": "stderr",
     "output_type": "stream",
     "text": [
      "\r",
      "Iterations:  51%|████████████████▉                | 154/300 [03:08<02:52,  1.18s/it]"
     ]
    },
    {
     "name": "stdout",
     "output_type": "stream",
     "text": [
      "Epoch  153 , loss 0.4049499280312482\n",
      "Epoch  154 , loss 0.40691109147726323\n"
     ]
    },
    {
     "name": "stderr",
     "output_type": "stream",
     "text": [
      "\r",
      "Iterations:  52%|█████████████████                | 155/300 [03:09<02:59,  1.24s/it]"
     ]
    },
    {
     "name": "stdout",
     "output_type": "stream",
     "text": [
      "Epoch:  154\n",
      "t_loss:  0.40691109147726323 , v_loss:  0.7111852914094925\n",
      "t_acc:  0.7139737991266376 , v_acc:  0.7023809523809523\n",
      "t_recall:  0.5398482915560459 , v_recall:  0.5283018867924528\n",
      "t_prec:  0.7200063961988303 , v_prec:  0.8484848484848485\n",
      "t_f:  0.4979527229885719 , v_f:  0.4642857142857143\n",
      "////////\n"
     ]
    },
    {
     "name": "stderr",
     "output_type": "stream",
     "text": [
      "\r",
      "Iterations:  52%|█████████████████▏               | 156/300 [03:10<02:41,  1.12s/it]"
     ]
    },
    {
     "name": "stdout",
     "output_type": "stream",
     "text": [
      "Epoch  155 , loss 0.4107850614716025\n",
      "Epoch  156 , loss 0.4102310526604746\n"
     ]
    },
    {
     "name": "stderr",
     "output_type": "stream",
     "text": [
      "\r",
      "Iterations:  52%|█████████████████▎               | 157/300 [03:11<03:00,  1.26s/it]"
     ]
    },
    {
     "name": "stdout",
     "output_type": "stream",
     "text": [
      "Epoch:  156\n",
      "t_loss:  0.4102310526604746 , v_loss:  0.7157290528217951\n",
      "t_acc:  0.7174048658764816 , v_acc:  0.6964285714285714\n",
      "t_recall:  0.5420248480042295 , v_recall:  0.5239540607054963\n",
      "t_prec:  0.757165965706891 , v_prec:  0.7225609756097561\n",
      "t_f:  0.4992852931746015 , v_f:  0.46123372948500285\n",
      "////////\n"
     ]
    },
    {
     "name": "stderr",
     "output_type": "stream",
     "text": [
      "\r",
      "Iterations:  53%|█████████████████▍               | 158/300 [03:12<02:47,  1.18s/it]"
     ]
    },
    {
     "name": "stdout",
     "output_type": "stream",
     "text": [
      "Epoch  157 , loss 0.4149486930931316\n",
      "Epoch  158 , loss 0.40576868723420534\n"
     ]
    },
    {
     "name": "stderr",
     "output_type": "stream",
     "text": [
      "\r",
      "Iterations:  53%|█████████████████▍               | 159/300 [03:14<03:02,  1.29s/it]"
     ]
    },
    {
     "name": "stdout",
     "output_type": "stream",
     "text": [
      "Epoch:  158\n",
      "t_loss:  0.40576868723420534 , v_loss:  0.7146361917257309\n",
      "t_acc:  0.7111665626949469 , v_acc:  0.7023809523809523\n",
      "t_recall:  0.5360990242388719 , v_recall:  0.5283018867924528\n",
      "t_prec:  0.7038909444985394 , v_prec:  0.8484848484848485\n",
      "t_f:  0.4919297645125959 , v_f:  0.4642857142857143\n",
      "////////\n"
     ]
    },
    {
     "name": "stderr",
     "output_type": "stream",
     "text": [
      "\r",
      "Iterations:  53%|█████████████████▌               | 160/300 [03:15<02:57,  1.27s/it]"
     ]
    },
    {
     "name": "stdout",
     "output_type": "stream",
     "text": [
      "Epoch  159 , loss 0.4055161183955623\n",
      "Epoch  160 , loss 0.40107617600291384\n"
     ]
    },
    {
     "name": "stderr",
     "output_type": "stream",
     "text": [
      "\r",
      "Iterations:  54%|█████████████████▋               | 161/300 [03:17<03:00,  1.30s/it]"
     ]
    },
    {
     "name": "stdout",
     "output_type": "stream",
     "text": [
      "Epoch:  160\n",
      "t_loss:  0.40107617600291384 , v_loss:  0.7117452323436737\n",
      "t_acc:  0.7130380536494073 , v_acc:  0.6964285714285714\n",
      "t_recall:  0.5362888896550931 , v_recall:  0.5239540607054963\n",
      "t_prec:  0.7297704813052148 , v_prec:  0.7225609756097561\n",
      "t_f:  0.49005849894433584 , v_f:  0.46123372948500285\n",
      "////////\n"
     ]
    },
    {
     "name": "stderr",
     "output_type": "stream",
     "text": [
      "\r",
      "Iterations:  54%|█████████████████▊               | 162/300 [03:18<02:45,  1.20s/it]"
     ]
    },
    {
     "name": "stdout",
     "output_type": "stream",
     "text": [
      "Epoch  161 , loss 0.3994874732167113\n",
      "Epoch  162 , loss 0.4066116383262709\n"
     ]
    },
    {
     "name": "stderr",
     "output_type": "stream",
     "text": [
      "\r",
      "Iterations:  54%|█████████████████▉               | 163/300 [03:19<03:04,  1.35s/it]"
     ]
    },
    {
     "name": "stdout",
     "output_type": "stream",
     "text": [
      "Epoch:  162\n",
      "t_loss:  0.4066116383262709 , v_loss:  0.7107573201258978\n",
      "t_acc:  0.7111665626949469 , v_acc:  0.6964285714285714\n",
      "t_recall:  0.5329232608121 , v_recall:  0.5239540607054963\n",
      "t_prec:  0.7240722257508393 , v_prec:  0.7225609756097561\n",
      "t_f:  0.48369927785000905 , v_f:  0.46123372948500285\n",
      "////////\n"
     ]
    },
    {
     "name": "stderr",
     "output_type": "stream",
     "text": [
      "\r",
      "Iterations:  55%|██████████████████               | 164/300 [03:20<02:54,  1.28s/it]"
     ]
    },
    {
     "name": "stdout",
     "output_type": "stream",
     "text": [
      "Epoch  163 , loss 0.40968622238028285\n",
      "Epoch  164 , loss 0.3963533359415391\n"
     ]
    },
    {
     "name": "stderr",
     "output_type": "stream",
     "text": [
      "\r",
      "Iterations:  55%|██████████████████▏              | 165/300 [03:22<03:10,  1.41s/it]"
     ]
    },
    {
     "name": "stdout",
     "output_type": "stream",
     "text": [
      "Epoch:  164\n",
      "t_loss:  0.3963533359415391 , v_loss:  0.7122984379529953\n",
      "t_acc:  0.7183406113537117 , v_acc:  0.6964285714285714\n",
      "t_recall:  0.5441407210748314 , v_recall:  0.5239540607054963\n",
      "t_prec:  0.7551933830877506 , v_prec:  0.7225609756097561\n",
      "t_f:  0.503474712098591 , v_f:  0.46123372948500285\n",
      "////////\n"
     ]
    },
    {
     "name": "stderr",
     "output_type": "stream",
     "text": [
      "\r",
      "Iterations:  55%|██████████████████▎              | 166/300 [03:23<02:54,  1.30s/it]"
     ]
    },
    {
     "name": "stdout",
     "output_type": "stream",
     "text": [
      "Epoch  165 , loss 0.40071067272448074\n",
      "Epoch  166 , loss 0.4014260879918641\n"
     ]
    },
    {
     "name": "stderr",
     "output_type": "stream",
     "text": [
      "\r",
      "Iterations:  56%|██████████████████▎              | 167/300 [03:24<02:55,  1.32s/it]"
     ]
    },
    {
     "name": "stdout",
     "output_type": "stream",
     "text": [
      "Epoch:  166\n",
      "t_loss:  0.4014260879918641 , v_loss:  0.7137173215548197\n",
      "t_acc:  0.7167810355583282 , v_acc:  0.6964285714285714\n",
      "t_recall:  0.5427314415750095 , v_recall:  0.5239540607054963\n",
      "t_prec:  0.7413515092502434 , v_prec:  0.7225609756097561\n",
      "t_f:  0.5018058598028478 , v_f:  0.46123372948500285\n",
      "////////\n"
     ]
    },
    {
     "name": "stderr",
     "output_type": "stream",
     "text": [
      "\r",
      "Iterations:  56%|██████████████████▍              | 168/300 [03:25<02:34,  1.17s/it]"
     ]
    },
    {
     "name": "stdout",
     "output_type": "stream",
     "text": [
      "Epoch  167 , loss 0.39925120858585134\n",
      "Epoch  168 , loss 0.40768617508458155\n"
     ]
    },
    {
     "name": "stderr",
     "output_type": "stream",
     "text": [
      "\r",
      "Iterations:  56%|██████████████████▌              | 169/300 [03:27<02:43,  1.25s/it]"
     ]
    },
    {
     "name": "stdout",
     "output_type": "stream",
     "text": [
      "Epoch:  168\n",
      "t_loss:  0.40768617508458155 , v_loss:  0.7166483799616495\n",
      "t_acc:  0.7114784778540237 , v_acc:  0.6964285714285714\n",
      "t_recall:  0.5337247870909906 , v_recall:  0.5239540607054963\n",
      "t_prec:  0.723247108947048 , v_prec:  0.7225609756097561\n",
      "t_f:  0.48539870559697346 , v_f:  0.46123372948500285\n",
      "////////\n"
     ]
    },
    {
     "name": "stderr",
     "output_type": "stream",
     "text": [
      "\r",
      "Iterations:  57%|██████████████████▋              | 170/300 [03:28<02:30,  1.16s/it]"
     ]
    },
    {
     "name": "stdout",
     "output_type": "stream",
     "text": [
      "Epoch  169 , loss 0.4032520260296616\n",
      "Epoch  170 , loss 0.4052158307795431\n"
     ]
    },
    {
     "name": "stderr",
     "output_type": "stream",
     "text": [
      "\r",
      "Iterations:  57%|██████████████████▊              | 171/300 [03:29<02:37,  1.22s/it]"
     ]
    },
    {
     "name": "stdout",
     "output_type": "stream",
     "text": [
      "Epoch:  170\n",
      "t_loss:  0.4052158307795431 , v_loss:  0.7176896135012308\n",
      "t_acc:  0.7133499688084841 , v_acc:  0.6964285714285714\n",
      "t_recall:  0.5376678274661242 , v_recall:  0.5239540607054963\n",
      "t_prec:  0.7248616843769211 , v_prec:  0.7225609756097561\n",
      "t_f:  0.4932090193676384 , v_f:  0.46123372948500285\n",
      "////////\n"
     ]
    },
    {
     "name": "stderr",
     "output_type": "stream",
     "text": [
      "\r",
      "Iterations:  57%|██████████████████▉              | 172/300 [03:30<02:22,  1.11s/it]"
     ]
    },
    {
     "name": "stdout",
     "output_type": "stream",
     "text": [
      "Epoch  171 , loss 0.3997687224079581\n",
      "Epoch  172 , loss 0.39217421879955366\n"
     ]
    },
    {
     "name": "stderr",
     "output_type": "stream",
     "text": [
      "\r",
      "Iterations:  58%|███████████████████              | 173/300 [03:31<02:35,  1.23s/it]"
     ]
    },
    {
     "name": "stdout",
     "output_type": "stream",
     "text": [
      "Epoch:  172\n",
      "t_loss:  0.39217421879955366 , v_loss:  0.7188081741333008\n",
      "t_acc:  0.7195882719900187 , v_acc:  0.6964285714285714\n",
      "t_recall:  0.5456145915939731 , v_recall:  0.5239540607054963\n",
      "t_prec:  0.7637143586145309 , v_prec:  0.7225609756097561\n",
      "t_f:  0.5056741596640457 , v_f:  0.46123372948500285\n",
      "////////\n"
     ]
    },
    {
     "name": "stderr",
     "output_type": "stream",
     "text": [
      "\r",
      "Iterations:  58%|███████████████████▏             | 174/300 [03:32<02:24,  1.15s/it]"
     ]
    },
    {
     "name": "stdout",
     "output_type": "stream",
     "text": [
      "Epoch  173 , loss 0.40389929331985175\n",
      "Epoch  174 , loss 0.397780496115778\n"
     ]
    },
    {
     "name": "stderr",
     "output_type": "stream",
     "text": [
      "\r",
      "Iterations:  58%|███████████████████▎             | 175/300 [03:34<02:33,  1.23s/it]"
     ]
    },
    {
     "name": "stdout",
     "output_type": "stream",
     "text": [
      "Epoch:  174\n",
      "t_loss:  0.397780496115778 , v_loss:  0.7152639379103979\n",
      "t_acc:  0.7130380536494073 , v_acc:  0.6964285714285714\n",
      "t_recall:  0.5365775954211633 , v_recall:  0.5239540607054963\n",
      "t_prec:  0.7276464983734325 , v_prec:  0.7225609756097561\n",
      "t_f:  0.4908046802492597 , v_f:  0.46123372948500285\n",
      "////////\n"
     ]
    },
    {
     "name": "stderr",
     "output_type": "stream",
     "text": [
      "\r",
      "Iterations:  59%|███████████████████▎             | 176/300 [03:35<02:18,  1.12s/it]"
     ]
    },
    {
     "name": "stdout",
     "output_type": "stream",
     "text": [
      "Epoch  175 , loss 0.39768782667085234\n",
      "Epoch  176 , loss 0.40134232827261385\n"
     ]
    },
    {
     "name": "stderr",
     "output_type": "stream",
     "text": [
      "\r",
      "Iterations:  59%|███████████████████▍             | 177/300 [03:36<02:30,  1.23s/it]"
     ]
    },
    {
     "name": "stdout",
     "output_type": "stream",
     "text": [
      "Epoch:  176\n",
      "t_loss:  0.40134232827261385 , v_loss:  0.7166366080443064\n",
      "t_acc:  0.7117903930131004 , v_acc:  0.6964285714285714\n",
      "t_recall:  0.5374133710305831 , v_recall:  0.5239540607054963\n",
      "t_prec:  0.705028304524945 , v_prec:  0.7225609756097561\n",
      "t_f:  0.4944833065758003 , v_f:  0.46123372948500285\n",
      "////////\n"
     ]
    },
    {
     "name": "stderr",
     "output_type": "stream",
     "text": [
      "\r",
      "Iterations:  59%|███████████████████▌             | 178/300 [03:37<02:16,  1.12s/it]"
     ]
    },
    {
     "name": "stdout",
     "output_type": "stream",
     "text": [
      "Epoch  177 , loss 0.4012072419419008\n",
      "Epoch  178 , loss 0.4017718697295469\n"
     ]
    },
    {
     "name": "stderr",
     "output_type": "stream",
     "text": [
      "\r",
      "Iterations:  60%|███████████████████▋             | 179/300 [03:38<02:25,  1.20s/it]"
     ]
    },
    {
     "name": "stdout",
     "output_type": "stream",
     "text": [
      "Epoch:  178\n",
      "t_loss:  0.4017718697295469 , v_loss:  0.7182698647181193\n",
      "t_acc:  0.7189644416718652 , v_acc:  0.6964285714285714\n",
      "t_recall:  0.5451663621004723 , v_recall:  0.5239540607054963\n",
      "t_prec:  0.7570780389776224 , v_prec:  0.7225609756097561\n",
      "t_f:  0.505289873055035 , v_f:  0.46123372948500285\n",
      "////////\n"
     ]
    },
    {
     "name": "stderr",
     "output_type": "stream",
     "text": [
      "\r",
      "Iterations:  60%|███████████████████▊             | 180/300 [03:39<02:20,  1.17s/it]"
     ]
    },
    {
     "name": "stdout",
     "output_type": "stream",
     "text": [
      "Epoch  179 , loss 0.3970008171072193\n",
      "Epoch  180 , loss 0.40290143092473346\n"
     ]
    },
    {
     "name": "stderr",
     "output_type": "stream",
     "text": [
      "\r",
      "Iterations:  60%|███████████████████▉             | 181/300 [03:41<02:32,  1.28s/it]"
     ]
    },
    {
     "name": "stdout",
     "output_type": "stream",
     "text": [
      "Epoch:  180\n",
      "t_loss:  0.40290143092473346 , v_loss:  0.7188228617111841\n",
      "t_acc:  0.7139737991266376 , v_acc:  0.6964285714285714\n",
      "t_recall:  0.5386934684917652 , v_recall:  0.5239540607054963\n",
      "t_prec:  0.7272818103262044 , v_prec:  0.7225609756097561\n",
      "t_f:  0.4950457007462065 , v_f:  0.46123372948500285\n",
      "////////\n"
     ]
    },
    {
     "name": "stderr",
     "output_type": "stream",
     "text": [
      "\r",
      "Iterations:  61%|████████████████████             | 182/300 [03:42<02:16,  1.16s/it]"
     ]
    },
    {
     "name": "stdout",
     "output_type": "stream",
     "text": [
      "Epoch  181 , loss 0.3982013475661184\n",
      "Epoch  182 , loss 0.40083210666974384\n"
     ]
    },
    {
     "name": "stderr",
     "output_type": "stream",
     "text": [
      "\r",
      "Iterations:  61%|████████████████████▏            | 183/300 [03:43<02:26,  1.25s/it]"
     ]
    },
    {
     "name": "stdout",
     "output_type": "stream",
     "text": [
      "Epoch:  182\n",
      "t_loss:  0.40083210666974384 , v_loss:  0.7172748297452927\n",
      "t_acc:  0.7136618839675608 , v_acc:  0.6964285714285714\n",
      "t_recall:  0.5390467652771552 , v_recall:  0.5239540607054963\n",
      "t_prec:  0.7205400843881856 , v_prec:  0.7225609756097561\n",
      "t_f:  0.4963191401971523 , v_f:  0.46123372948500285\n",
      "////////\n"
     ]
    },
    {
     "name": "stderr",
     "output_type": "stream",
     "text": [
      "\r",
      "Iterations:  61%|████████████████████▏            | 184/300 [03:44<02:20,  1.22s/it]"
     ]
    },
    {
     "name": "stdout",
     "output_type": "stream",
     "text": [
      "Epoch  183 , loss 0.3986487353549284\n",
      "Epoch  184 , loss 0.39744309116812315\n"
     ]
    },
    {
     "name": "stderr",
     "output_type": "stream",
     "text": [
      "\r",
      "Iterations:  62%|████████████████████▎            | 185/300 [03:46<02:29,  1.30s/it]"
     ]
    },
    {
     "name": "stdout",
     "output_type": "stream",
     "text": [
      "Epoch:  184\n",
      "t_loss:  0.39744309116812315 , v_loss:  0.7219497909148535\n",
      "t_acc:  0.7149095446038678 , v_acc:  0.6964285714285714\n",
      "t_recall:  0.5425415761587882 , v_recall:  0.5239540607054963\n",
      "t_prec:  0.7170646919047742 , v_prec:  0.7225609756097561\n",
      "t_f:  0.503507641174848 , v_f:  0.46123372948500285\n",
      "////////\n"
     ]
    },
    {
     "name": "stderr",
     "output_type": "stream",
     "text": [
      "\r",
      "Iterations:  62%|████████████████████▍            | 186/300 [03:47<02:14,  1.18s/it]"
     ]
    },
    {
     "name": "stdout",
     "output_type": "stream",
     "text": [
      "Epoch  185 , loss 0.3971915870320563\n",
      "Epoch  186 , loss 0.39440883345463695\n"
     ]
    },
    {
     "name": "stderr",
     "output_type": "stream",
     "text": [
      "\r",
      "Iterations:  62%|████████████████████▌            | 187/300 [03:48<02:20,  1.24s/it]"
     ]
    },
    {
     "name": "stdout",
     "output_type": "stream",
     "text": [
      "Epoch:  186\n",
      "t_loss:  0.39440883345463695 , v_loss:  0.7216919362545013\n",
      "t_acc:  0.715845290081098 , v_acc:  0.6964285714285714\n",
      "t_recall:  0.5409042742704778 , v_recall:  0.5239540607054963\n",
      "t_prec:  0.7402678764311947 , v_prec:  0.7225609756097561\n",
      "t_f:  0.4983496547216948 , v_f:  0.46123372948500285\n",
      "////////\n"
     ]
    },
    {
     "name": "stderr",
     "output_type": "stream",
     "text": [
      "\r",
      "Iterations:  63%|████████████████████▋            | 188/300 [03:49<02:11,  1.18s/it]"
     ]
    },
    {
     "name": "stdout",
     "output_type": "stream",
     "text": [
      "Epoch  187 , loss 0.39423305848065543\n",
      "Epoch  188 , loss 0.4000767434344572\n"
     ]
    },
    {
     "name": "stderr",
     "output_type": "stream",
     "text": [
      "\r",
      "Iterations:  63%|████████████████████▊            | 189/300 [03:51<02:22,  1.28s/it]"
     ]
    },
    {
     "name": "stdout",
     "output_type": "stream",
     "text": [
      "Epoch:  188\n",
      "t_loss:  0.4000767434344572 , v_loss:  0.72435695429643\n",
      "t_acc:  0.7167810355583282 , v_acc:  0.6964285714285714\n",
      "t_recall:  0.545329793469641 , v_recall:  0.5239540607054963\n",
      "t_prec:  0.7251152373581364 , v_prec:  0.7225609756097561\n",
      "t_f:  0.5081602489198628 , v_f:  0.46123372948500285\n",
      "////////\n"
     ]
    },
    {
     "name": "stderr",
     "output_type": "stream",
     "text": [
      "\r",
      "Iterations:  63%|████████████████████▉            | 190/300 [03:52<02:14,  1.22s/it]"
     ]
    },
    {
     "name": "stdout",
     "output_type": "stream",
     "text": [
      "Epoch  189 , loss 0.3982698818047841\n",
      "Epoch  190 , loss 0.3988818876883563\n"
     ]
    },
    {
     "name": "stderr",
     "output_type": "stream",
     "text": [
      "\r",
      "Iterations:  64%|█████████████████████            | 191/300 [03:53<02:21,  1.29s/it]"
     ]
    },
    {
     "name": "stdout",
     "output_type": "stream",
     "text": [
      "Epoch:  190\n",
      "t_loss:  0.3988818876883563 , v_loss:  0.7228981008132299\n",
      "t_acc:  0.7136618839675608 , v_acc:  0.6964285714285714\n",
      "t_recall:  0.5390467652771552 , v_recall:  0.5239540607054963\n",
      "t_prec:  0.7205400843881856 , v_prec:  0.7225609756097561\n",
      "t_f:  0.4963191401971523 , v_f:  0.46123372948500285\n",
      "////////\n"
     ]
    },
    {
     "name": "stderr",
     "output_type": "stream",
     "text": [
      "\r",
      "Iterations:  64%|█████████████████████            | 192/300 [03:54<02:07,  1.18s/it]"
     ]
    },
    {
     "name": "stdout",
     "output_type": "stream",
     "text": [
      "Epoch  191 , loss 0.40325018003875135\n",
      "Epoch  192 , loss 0.4022113423721463\n"
     ]
    },
    {
     "name": "stderr",
     "output_type": "stream",
     "text": [
      "\r",
      "Iterations:  64%|█████████████████████▏           | 193/300 [03:56<02:11,  1.23s/it]"
     ]
    },
    {
     "name": "stdout",
     "output_type": "stream",
     "text": [
      "Epoch:  192\n",
      "t_loss:  0.4022113423721463 , v_loss:  0.7252399226029714\n",
      "t_acc:  0.7192763568309419 , v_acc:  0.6964285714285714\n",
      "t_recall:  0.5494323575722052 , v_recall:  0.5239540607054963\n",
      "t_prec:  0.7330919890311183 , v_prec:  0.7225609756097561\n",
      "t_f:  0.5152247063021796 , v_f:  0.46123372948500285\n",
      "////////\n"
     ]
    },
    {
     "name": "stderr",
     "output_type": "stream",
     "text": [
      "\r",
      "Iterations:  65%|█████████████████████▎           | 194/300 [03:57<02:03,  1.17s/it]"
     ]
    },
    {
     "name": "stdout",
     "output_type": "stream",
     "text": [
      "Epoch  193 , loss 0.39864086929489584\n",
      "Epoch  194 , loss 0.39833902202400506\n"
     ]
    },
    {
     "name": "stderr",
     "output_type": "stream",
     "text": [
      "\r",
      "Iterations:  65%|█████████████████████▍           | 195/300 [03:58<02:12,  1.26s/it]"
     ]
    },
    {
     "name": "stdout",
     "output_type": "stream",
     "text": [
      "Epoch:  194\n",
      "t_loss:  0.39833902202400506 , v_loss:  0.7250518997510275\n",
      "t_acc:  0.7142857142857143 , v_acc:  0.6964285714285714\n",
      "t_recall:  0.5400724063027963 , v_recall:  0.5239540607054963\n",
      "t_prec:  0.7229134114000608 , v_prec:  0.7225609756097561\n",
      "t_f:  0.498139660470092 , v_f:  0.46123372948500285\n",
      "////////\n"
     ]
    },
    {
     "name": "stderr",
     "output_type": "stream",
     "text": [
      "\r",
      "Iterations:  65%|█████████████████████▌           | 196/300 [03:59<02:07,  1.23s/it]"
     ]
    },
    {
     "name": "stdout",
     "output_type": "stream",
     "text": [
      "Epoch  195 , loss 0.39472514741560993\n",
      "Epoch  196 , loss 0.39845923524276883\n"
     ]
    },
    {
     "name": "stderr",
     "output_type": "stream",
     "text": [
      "\r",
      "Iterations:  66%|█████████████████████▋           | 197/300 [04:01<02:09,  1.26s/it]"
     ]
    },
    {
     "name": "stdout",
     "output_type": "stream",
     "text": [
      "Epoch:  196\n",
      "t_loss:  0.39845923524276883 , v_loss:  0.7220216989517212\n",
      "t_acc:  0.7189644416718652 , v_acc:  0.6964285714285714\n",
      "t_recall:  0.5471873024629637 , v_recall:  0.5239540607054963\n",
      "t_prec:  0.7424347637133193 , v_prec:  0.7225609756097561\n",
      "t_f:  0.5102220544756872 , v_f:  0.46123372948500285\n",
      "////////\n"
     ]
    },
    {
     "name": "stderr",
     "output_type": "stream",
     "text": [
      "\r",
      "Iterations:  66%|█████████████████████▊           | 198/300 [04:01<01:55,  1.13s/it]"
     ]
    },
    {
     "name": "stdout",
     "output_type": "stream",
     "text": [
      "Epoch  197 , loss 0.3978972475902707\n",
      "Epoch  198 , loss 0.39974671543813217\n"
     ]
    },
    {
     "name": "stderr",
     "output_type": "stream",
     "text": [
      "\r",
      "Iterations:  66%|█████████████████████▉           | 199/300 [04:03<02:02,  1.22s/it]"
     ]
    },
    {
     "name": "stdout",
     "output_type": "stream",
     "text": [
      "Epoch:  198\n",
      "t_loss:  0.39974671543813217 , v_loss:  0.7251340399185816\n",
      "t_acc:  0.7174048658764816 , v_acc:  0.6964285714285714\n",
      "t_recall:  0.5460667287292119 , v_recall:  0.5239540607054963\n",
      "t_prec:  0.7287749795095535 , v_prec:  0.7225609756097561\n",
      "t_f:  0.5092435963892022 , v_f:  0.46123372948500285\n",
      "////////\n"
     ]
    },
    {
     "name": "stderr",
     "output_type": "stream",
     "text": [
      "\r",
      "Iterations:  67%|██████████████████████           | 200/300 [04:04<01:55,  1.15s/it]"
     ]
    },
    {
     "name": "stdout",
     "output_type": "stream",
     "text": [
      "Epoch  199 , loss 0.3952043336980483\n",
      "Epoch  200 , loss 0.3946397351283653\n"
     ]
    },
    {
     "name": "stderr",
     "output_type": "stream",
     "text": [
      "\r",
      "Iterations:  67%|██████████████████████           | 201/300 [04:05<02:08,  1.30s/it]"
     ]
    },
    {
     "name": "stdout",
     "output_type": "stream",
     "text": [
      "Epoch:  200\n",
      "t_loss:  0.3946397351283653 , v_loss:  0.730765034755071\n",
      "t_acc:  0.718028696194635 , v_acc:  0.6964285714285714\n",
      "t_recall:  0.5447827236262915 , v_recall:  0.5239540607054963\n",
      "t_prec:  0.7454129538234413 , v_prec:  0.7225609756097561\n",
      "t_f:  0.5054252263468868 , v_f:  0.46123372948500285\n",
      "////////\n"
     ]
    },
    {
     "name": "stderr",
     "output_type": "stream",
     "text": [
      "\r",
      "Iterations:  67%|██████████████████████▏          | 202/300 [04:06<01:57,  1.20s/it]"
     ]
    },
    {
     "name": "stdout",
     "output_type": "stream",
     "text": [
      "Epoch  201 , loss 0.3922954096513636\n",
      "Epoch  202 , loss 0.4013421953308816\n"
     ]
    },
    {
     "name": "stderr",
     "output_type": "stream",
     "text": [
      "\r",
      "Iterations:  68%|██████████████████████▎          | 203/300 [04:08<02:05,  1.29s/it]"
     ]
    },
    {
     "name": "stdout",
     "output_type": "stream",
     "text": [
      "Epoch:  202\n",
      "t_loss:  0.4013421953308816 , v_loss:  0.7301955123742422\n",
      "t_acc:  0.7174048658764816 , v_acc:  0.6964285714285714\n",
      "t_recall:  0.5449119056649312 , v_recall:  0.5239540607054963\n",
      "t_prec:  0.7356416657621476 , v_prec:  0.7225609756097561\n",
      "t_f:  0.5064524350831404 , v_f:  0.46123372948500285\n",
      "////////\n"
     ]
    },
    {
     "name": "stderr",
     "output_type": "stream",
     "text": [
      "\r",
      "Iterations:  68%|██████████████████████▍          | 204/300 [04:09<02:02,  1.28s/it]"
     ]
    },
    {
     "name": "stdout",
     "output_type": "stream",
     "text": [
      "Epoch  203 , loss 0.394272154452754\n",
      "Epoch  204 , loss 0.41462427494572657\n"
     ]
    },
    {
     "name": "stderr",
     "output_type": "stream",
     "text": [
      "\r",
      "Iterations:  68%|██████████████████████▌          | 205/300 [04:11<02:08,  1.36s/it]"
     ]
    },
    {
     "name": "stdout",
     "output_type": "stream",
     "text": [
      "Epoch:  204\n",
      "t_loss:  0.41462427494572657 , v_loss:  0.725861261288325\n",
      "t_acc:  0.7170929507174049 , v_acc:  0.6964285714285714\n",
      "t_recall:  0.5443990851521107 , v_recall:  0.5239540607054963\n",
      "t_prec:  0.7346130674751243 , v_prec:  0.7225609756097561\n",
      "t_f:  0.5055554072443469 , v_f:  0.46123372948500285\n",
      "////////\n"
     ]
    },
    {
     "name": "stderr",
     "output_type": "stream",
     "text": [
      "\r",
      "Iterations:  69%|██████████████████████▋          | 206/300 [04:12<01:58,  1.26s/it]"
     ]
    },
    {
     "name": "stdout",
     "output_type": "stream",
     "text": [
      "Epoch  205 , loss 0.39416111392133374\n",
      "Epoch  206 , loss 0.3951295456465553\n"
     ]
    },
    {
     "name": "stderr",
     "output_type": "stream",
     "text": [
      "\r",
      "Iterations:  69%|██████████████████████▊          | 207/300 [04:13<02:01,  1.31s/it]"
     ]
    },
    {
     "name": "stdout",
     "output_type": "stream",
     "text": [
      "Epoch:  206\n",
      "t_loss:  0.3951295456465553 , v_loss:  0.727588618795077\n",
      "t_acc:  0.7167810355583282 , v_acc:  0.6964285714285714\n",
      "t_recall:  0.5444636761714305 , v_recall:  0.5239540607054963\n",
      "t_prec:  0.7300340347196952 , v_prec:  0.7225609756097561\n",
      "t_f:  0.5060662413465453 , v_f:  0.46123372948500285\n",
      "////////\n"
     ]
    },
    {
     "name": "stderr",
     "output_type": "stream",
     "text": [
      "\r",
      "Iterations:  69%|██████████████████████▉          | 208/300 [04:14<01:49,  1.19s/it]"
     ]
    },
    {
     "name": "stdout",
     "output_type": "stream",
     "text": [
      "Epoch  207 , loss 0.3910696588310541\n",
      "Epoch  208 , loss 0.3945944309234619\n"
     ]
    },
    {
     "name": "stderr",
     "output_type": "stream",
     "text": [
      "\r",
      "Iterations:  70%|██████████████████████▉          | 209/300 [04:16<01:58,  1.30s/it]"
     ]
    },
    {
     "name": "stdout",
     "output_type": "stream",
     "text": [
      "Epoch:  208\n",
      "t_loss:  0.3945944309234619 , v_loss:  0.7319638530413309\n",
      "t_acc:  0.7202121023081722 , v_acc:  0.6964285714285714\n",
      "t_recall:  0.551548230642807 , v_recall:  0.5239540607054963\n",
      "t_prec:  0.732833732017675 , v_prec:  0.7225609756097561\n",
      "t_f:  0.5191890063160548 , v_f:  0.46123372948500285\n",
      "////////\n"
     ]
    },
    {
     "name": "stderr",
     "output_type": "stream",
     "text": [
      "\r",
      "Iterations:  70%|███████████████████████          | 210/300 [04:17<01:53,  1.26s/it]"
     ]
    },
    {
     "name": "stdout",
     "output_type": "stream",
     "text": [
      "Epoch  209 , loss 0.39164472152205076\n",
      "Epoch  210 , loss 0.3984396445984934\n"
     ]
    },
    {
     "name": "stderr",
     "output_type": "stream",
     "text": [
      "\r",
      "Iterations:  70%|███████████████████████▏         | 211/300 [04:18<01:54,  1.29s/it]"
     ]
    },
    {
     "name": "stdout",
     "output_type": "stream",
     "text": [
      "Epoch:  210\n",
      "t_loss:  0.3984396445984934 , v_loss:  0.7340681950251261\n",
      "t_acc:  0.7195882719900187 , v_acc:  0.6964285714285714\n",
      "t_recall:  0.5482129434886046 , v_recall:  0.5239540607054963\n",
      "t_prec:  0.7443248532289628 , v_prec:  0.7225609756097561\n",
      "t_f:  0.5120016321955655 , v_f:  0.46123372948500285\n",
      "////////\n"
     ]
    },
    {
     "name": "stderr",
     "output_type": "stream",
     "text": [
      "\r",
      "Iterations:  71%|███████████████████████▎         | 212/300 [04:19<01:42,  1.16s/it]"
     ]
    },
    {
     "name": "stdout",
     "output_type": "stream",
     "text": [
      "Epoch  211 , loss 0.39959952352093714\n",
      "Epoch  212 , loss 0.39522239098361894\n"
     ]
    },
    {
     "name": "stderr",
     "output_type": "stream",
     "text": [
      "\r",
      "Iterations:  71%|███████████████████████▍         | 213/300 [04:21<01:50,  1.27s/it]"
     ]
    },
    {
     "name": "stdout",
     "output_type": "stream",
     "text": [
      "Epoch:  212\n",
      "t_loss:  0.39522239098361894 , v_loss:  0.7305424710114797\n",
      "t_acc:  0.7127261384903306 , v_acc:  0.6964285714285714\n",
      "t_recall:  0.5403953613993955 , v_recall:  0.5239540607054963\n",
      "t_prec:  0.7019568455117126 , v_prec:  0.7225609756097561\n",
      "t_f:  0.5007661659493635 , v_f:  0.46123372948500285\n",
      "////////\n"
     ]
    },
    {
     "name": "stderr",
     "output_type": "stream",
     "text": [
      "\r",
      "Iterations:  71%|███████████████████████▌         | 214/300 [04:22<01:40,  1.17s/it]"
     ]
    },
    {
     "name": "stdout",
     "output_type": "stream",
     "text": [
      "Epoch  213 , loss 0.39169150941512165\n",
      "Epoch  214 , loss 0.4001355819842395\n"
     ]
    },
    {
     "name": "stderr",
     "output_type": "stream",
     "text": [
      "\r",
      "Iterations:  72%|███████████████████████▋         | 215/300 [04:23<01:45,  1.24s/it]"
     ]
    },
    {
     "name": "stdout",
     "output_type": "stream",
     "text": [
      "Epoch:  214\n",
      "t_loss:  0.4001355819842395 , v_loss:  0.7306985805432001\n",
      "t_acc:  0.7220835932626326 , v_acc:  0.6964285714285714\n",
      "t_recall:  0.5523155075911688 , v_recall:  0.5239540607054963\n",
      "t_prec:  0.7514406165485302 , v_prec:  0.7225609756097561\n",
      "t_f:  0.5190633225059083 , v_f:  0.46123372948500285\n",
      "////////\n"
     ]
    },
    {
     "name": "stderr",
     "output_type": "stream",
     "text": [
      "\r",
      "Iterations:  72%|███████████████████████▊         | 216/300 [04:24<01:35,  1.14s/it]"
     ]
    },
    {
     "name": "stdout",
     "output_type": "stream",
     "text": [
      "Epoch  215 , loss 0.3910222941753911\n",
      "Epoch  216 , loss 0.39915253192770717\n"
     ]
    },
    {
     "name": "stderr",
     "output_type": "stream",
     "text": [
      "\r",
      "Iterations:  72%|███████████████████████▊         | 217/300 [04:25<01:39,  1.20s/it]"
     ]
    },
    {
     "name": "stdout",
     "output_type": "stream",
     "text": [
      "Epoch:  216\n",
      "t_loss:  0.39915253192770717 , v_loss:  0.733213429649671\n",
      "t_acc:  0.7149095446038678 , v_acc:  0.6964285714285714\n",
      "t_recall:  0.5431189876909285 , v_recall:  0.5239540607054963\n",
      "t_prec:  0.7141360109038856 , v_prec:  0.7225609756097561\n",
      "t_f:  0.5049102065118442 , v_f:  0.46123372948500285\n",
      "////////\n"
     ]
    },
    {
     "name": "stderr",
     "output_type": "stream",
     "text": [
      "\r",
      "Iterations:  73%|███████████████████████▉         | 218/300 [04:26<01:32,  1.13s/it]"
     ]
    },
    {
     "name": "stdout",
     "output_type": "stream",
     "text": [
      "Epoch  217 , loss 0.3944381685817943\n",
      "Epoch  218 , loss 0.38985630548467826\n"
     ]
    },
    {
     "name": "stderr",
     "output_type": "stream",
     "text": [
      "\r",
      "Iterations:  73%|████████████████████████         | 219/300 [04:28<01:42,  1.26s/it]"
     ]
    },
    {
     "name": "stdout",
     "output_type": "stream",
     "text": [
      "Epoch:  218\n",
      "t_loss:  0.38985630548467826 , v_loss:  0.7348348498344421\n",
      "t_acc:  0.7183406113537117 , v_acc:  0.6964285714285714\n",
      "t_recall:  0.5476051902676735 , v_recall:  0.5239540607054963\n",
      "t_prec:  0.7317844032590205 , v_prec:  0.7225609756097561\n",
      "t_f:  0.5119010266200276 , v_f:  0.46123372948500285\n",
      "////////\n"
     ]
    },
    {
     "name": "stderr",
     "output_type": "stream",
     "text": [
      "\r",
      "Iterations:  73%|████████████████████████▏        | 220/300 [04:29<01:32,  1.16s/it]"
     ]
    },
    {
     "name": "stdout",
     "output_type": "stream",
     "text": [
      "Epoch  219 , loss 0.39529238378300385\n",
      "Epoch  220 , loss 0.3979938228925069\n"
     ]
    },
    {
     "name": "stderr",
     "output_type": "stream",
     "text": [
      "\r",
      "Iterations:  74%|████████████████████████▎        | 221/300 [04:30<01:37,  1.23s/it]"
     ]
    },
    {
     "name": "stdout",
     "output_type": "stream",
     "text": [
      "Epoch:  220\n",
      "t_loss:  0.3979938228925069 , v_loss:  0.7369580467542013\n",
      "t_acc:  0.7177167810355584 , v_acc:  0.6964285714285714\n",
      "t_recall:  0.5462908434759622 , v_recall:  0.5239540607054963\n",
      "t_prec:  0.7314313426249403 , v_prec:  0.7225609756097561\n",
      "t_f:  0.509439066432328 , v_f:  0.46123372948500285\n",
      "////////\n"
     ]
    },
    {
     "name": "stderr",
     "output_type": "stream",
     "text": [
      "\r",
      "Iterations:  74%|████████████████████████▍        | 222/300 [04:31<01:27,  1.12s/it]"
     ]
    },
    {
     "name": "stdout",
     "output_type": "stream",
     "text": [
      "Epoch  221 , loss 0.3921431761746313\n",
      "Epoch  222 , loss 0.3935752651270698\n"
     ]
    },
    {
     "name": "stderr",
     "output_type": "stream",
     "text": [
      "\r",
      "Iterations:  74%|████████████████████████▌        | 223/300 [04:32<01:33,  1.21s/it]"
     ]
    },
    {
     "name": "stdout",
     "output_type": "stream",
     "text": [
      "Epoch:  222\n",
      "t_loss:  0.3935752651270698 , v_loss:  0.7401836862166723\n",
      "t_acc:  0.7170929507174049 , v_acc:  0.6964285714285714\n",
      "t_recall:  0.5429555563217598 , v_recall:  0.5239540607054963\n",
      "t_prec:  0.7444945678340416 , v_prec:  0.7225609756097561\n",
      "t_f:  0.5019954659943583 , v_f:  0.46123372948500285\n",
      "////////\n"
     ]
    },
    {
     "name": "stderr",
     "output_type": "stream",
     "text": [
      "\r",
      "Iterations:  75%|████████████████████████▋        | 224/300 [04:33<01:27,  1.15s/it]"
     ]
    },
    {
     "name": "stdout",
     "output_type": "stream",
     "text": [
      "Epoch  223 , loss 0.3912927818064596\n",
      "Epoch  224 , loss 0.3995218095826168\n"
     ]
    },
    {
     "name": "stderr",
     "output_type": "stream",
     "text": [
      "\r",
      "Iterations:  75%|████████████████████████▊        | 225/300 [04:35<01:30,  1.20s/it]"
     ]
    },
    {
     "name": "stdout",
     "output_type": "stream",
     "text": [
      "Epoch:  224\n",
      "t_loss:  0.3995218095826168 , v_loss:  0.7373964637517929\n",
      "t_acc:  0.7130380536494073 , v_acc:  0.6964285714285714\n",
      "t_recall:  0.5429291222747072 , v_recall:  0.5239540607054963\n",
      "t_prec:  0.6950738782476451 , v_prec:  0.7225609756097561\n",
      "t_f:  0.5065183638505193 , v_f:  0.46123372948500285\n",
      "////////\n"
     ]
    },
    {
     "name": "stderr",
     "output_type": "stream",
     "text": [
      "\r",
      "Iterations:  75%|████████████████████████▊        | 226/300 [04:36<01:26,  1.17s/it]"
     ]
    },
    {
     "name": "stdout",
     "output_type": "stream",
     "text": [
      "Epoch  225 , loss 0.39206810748460247\n",
      "Epoch  226 , loss 0.40127870206739386\n"
     ]
    },
    {
     "name": "stderr",
     "output_type": "stream",
     "text": [
      "\r",
      "Iterations:  76%|████████████████████████▉        | 227/300 [04:37<01:32,  1.27s/it]"
     ]
    },
    {
     "name": "stdout",
     "output_type": "stream",
     "text": [
      "Epoch:  226\n",
      "t_loss:  0.40127870206739386 , v_loss:  0.7374334384997686\n",
      "t_acc:  0.7230193387398628 , v_acc:  0.6964285714285714\n",
      "t_recall:  0.5552974979599812 , v_recall:  0.5239540607054963\n",
      "t_prec:  0.7453558934818305 , v_prec:  0.7225609756097561\n",
      "t_f:  0.5250002669542654 , v_f:  0.46123372948500285\n",
      "////////\n"
     ]
    }
   ],
   "source": [
    "from utilities.userfold_framework import *\n",
    "from Models.AR_EEG_models import *\n",
    "import Models.model_func as Model_Func\n",
    "import numpy as np\n",
    "import pandas as pd\n",
    "import matplotlib.pyplot as plt\n",
    "import seaborn as sns\n",
    "from typing import List\n",
    "from torcheeg.models import EEGNet\n",
    "from torch import nn\n",
    "\n",
    "\n",
    "DEVICE= torch.device(\"cuda\") if torch.cuda.is_available() else torch.device(\"cpu\")\n",
    "\n",
    "learning_rate = 0.00005\n",
    "batch_size = 64\n",
    "n_epochs = 300\n",
    "transpose_channels=True\n",
    "participants_dictionary=[]\n",
    "# participants_online_dictionary=[]\n",
    "participants_grads_dictionary={}\n",
    "b_acc_list=[]\n",
    "c0_acc_list=[]\n",
    "c1_acc_list=[]\n",
    "\n",
    "\n",
    "\n",
    "for i in range(len(participants)):\n",
    "\n",
    "    train_dataloader, val_dataloader, classes, input_dim, class_ratio= user_fold_load(i,\n",
    "                                                                                      raw_user_fold,\n",
    "                                                                                      participants,\n",
    "                                                                                      batch_size=batch_size,\n",
    "                                                                                      transpose_channels=transpose_channels)\n",
    "\n",
    "    classifier= EEGNet(\n",
    "        chunk_size=input_dim[1],\n",
    "        num_electrodes=input_dim[0],\n",
    "        num_classes=classes,\n",
    "        kernel_1= 32,\n",
    "        kernel_2=32,\n",
    "        F1=8,\n",
    "        F2=16,\n",
    "        dropout=0.5\n",
    "    ).to(DEVICE)\n",
    "    \n",
    "    \n",
    "#     optimizer= torch.optim.RMSprop(classifier.parameters(), lr=learning_rate)\n",
    "    \n",
    "    criterion= torch.nn.CrossEntropyLoss(weight=torch.tensor(class_ratio, dtype=torch.float).to(DEVICE))\n",
    "#     criterion = nn.NLLLoss(weight=torch.tensor(class_ratio, dtype=torch.float).to(DEVICE))\n",
    "        \n",
    "    saved_dir= \"./EEG/saved_models/Userfold/run0\"\n",
    "    nonlinear_func= LSTM_nonlinear_func(input_dim[0]).to(DEVICE)\n",
    "    model = EEGNet_NeuralFS_HP_Wrapper(DEVICE, classifier, input_dim,\n",
    "                                nonlinear_func=nonlinear_func\n",
    "                                 ).to(DEVICE)\n",
    "    optimizer = torch.optim.Adam(model.parameters(), lr = learning_rate)\n",
    "    scheduler= torch.optim.lr_scheduler.ReduceLROnPlateau(optimizer, patience=2)\n",
    "\n",
    "    \n",
    "    train_func= eeg_train\n",
    "    model.training_procedure(iteration=n_epochs,\n",
    "                                    train_dataloader=train_dataloader,\n",
    "                                     val_dataloader=val_dataloader,\n",
    "                                     print_cycle=2,\n",
    "                                     path=f\"./dictionary/intermdiate_dicts\",\n",
    "                                     loss_func=criterion,\n",
    "                                     optimiser=optimizer, #scheduler=scheduler,\n",
    "                                     train_func=train_func\n",
    "                                    )\n",
    "    if model.epoch == n_epochs+1:\n",
    "        EPOCH= n_epochs\n",
    "    else:\n",
    "        EPOCH= model.epoch\n",
    "    \n",
    "    torch.save(model.state_dict(), \n",
    "           os.path.join(\n",
    "               saved_dir, f\"Userfold-{participants[i]}-LSTM_EEGNet-NFS_Multivariate-e{EPOCH}.pt\"\n",
    "           )\n",
    "    )\n",
    "\n",
    "    pickle.dump( model.return_pairwise_weights(), \n",
    "                open(f\"{saved_dir}/Userfold-{participants[i]}-LSTM_EEGNet-NFS_Multivariate-w-e{EPOCH}.pkl\", \"wb\") \n",
    "               )    \n",
    "\n",
    "# OR\n",
    "#     model.load_state_dict(\n",
    "#     torch.load(\n",
    "#         open(\n",
    "#             os.path.join(\n",
    "#                 saved_dir, f\"Userfold-{participants[i]}-EEGNet-NFS_Multivariate-e{n_epochs}.pt\"\n",
    "#             ), \"rb\"\n",
    "#         )\n",
    "#               )\n",
    "#     )\n",
    "\n",
    "    \n",
    "    prediction, dictionary= model.prediction_procedure(val_dataloader, dict_flag=True)\n",
    "    \n",
    "    ys= np.concatenate([y.detach().cpu().numpy() for x, y in val_dataloader])\n",
    "    \n",
    "    c0_acc, c1_acc, b_acc= calculate_accuracy(ys, prediction)\n",
    "    print(\"c0_acc\", c0_acc, \", c1_acc\", c1_acc, \", b_acc\", b_acc)\n",
    "    b_acc_list.append(b_acc)\n",
    "    c0_acc_list.append(c0_acc)\n",
    "    c1_acc_list.append(c1_acc)\n",
    "    participants_dictionary.append(dictionary)\n",
    "    \n",
    "\n",
    "tmp=[]\n",
    "for i, dictionary in enumerate(participants_dictionary):\n",
    "    print(f\"User {participants[i]} f1: {dictionary['weighted avg']['f1-score']} acc: {dictionary['accuracy']}\")\n",
    "    print(f\" c0: {c0_acc_list[i]} c1: {c1_acc_list[i]} bacc: {b_acc_list[i]}\")\n",
    "    tmp.append(dictionary['weighted avg']['f1-score'])\n",
    "\n",
    "print(f\"average {np.mean(tmp)}\")\n",
    "print()\n",
    "print(np.array(b_acc_list).mean())\n",
    "print(np.array(c1_acc_list).mean())\n",
    "print(np.array(c0_acc_list).mean())\n"
   ]
  },
  {
   "cell_type": "code",
   "execution_count": null,
   "id": "eb9de653",
   "metadata": {
    "scrolled": false
   },
   "outputs": [],
   "source": [
    "userfold_results_summary(participants_dictionary, participants)\n",
    "userfold_classwise_results_summary(participants_dictionary, participants)\n"
   ]
  },
  {
   "cell_type": "code",
   "execution_count": null,
   "id": "dc51b614",
   "metadata": {},
   "outputs": [],
   "source": [
    "start=-0.5\n",
    "step=1.5/(188-1)\n",
    "timestep_labels=[]\n",
    "for i in range(input_dim[1]):\n",
    "    timestep_labels.append(round(start+step*i,3))\n",
    "    \n",
    "# timestep_labels"
   ]
  },
  {
   "cell_type": "code",
   "execution_count": null,
   "id": "9f03386d",
   "metadata": {},
   "outputs": [],
   "source": [
    "# channel_names=[i for i in range(input_dim[0])]\n",
    "channel_names=[\"AFz\",\"F3\",\"F1\",\"Fz\",\"F2\",\"F4\",\"FC5\",\"FC3\",\"FC1\",\"FCz\",\"FC2\",\n",
    "               \"FC4\",\"FC6\",\"C5\",\"C3\",\"C1\",\"Cz\",\"C2\",\"C4\",\"C6\",\"CP5\",\"CP3\",\n",
    "               \"CP1\",\"CPz\",\"CP2\",\"CP4\",\"CP6\",\"P3\",\"P1\",\"Pz\",\"P2\",\"P4\"]"
   ]
  },
  {
   "cell_type": "code",
   "execution_count": null,
   "id": "3fce0f44",
   "metadata": {},
   "outputs": [],
   "source": [
    "from sklearn.preprocessing import MinMaxScaler\n",
    "\n",
    "participants_w_list=[]\n",
    "\n",
    "for i in range(len(participants)):\n",
    "\n",
    "    w= pickle.load(\n",
    "        open(f\"{saved_dir}/Userfold-{participants[i]}-LSTM_EEGNet-NFS_Multivariate-w-e{EPOCH}.pkl\", \"rb\") \n",
    "                    )  \n",
    "    participants_w_list.append(w)\n",
    "    \n",
    "avg_w= np.array(participants_w_list).mean(axis=0)\n",
    "# scaler= MinMaxScaler()\n",
    "# scaled_avg_w= scaler.fit_transform(avg_w)"
   ]
  },
  {
   "cell_type": "code",
   "execution_count": null,
   "id": "eb717175",
   "metadata": {},
   "outputs": [],
   "source": [
    "import matplotlib.pyplot as plt\n",
    "import matplotlib\n",
    "from sklearn.preprocessing import MinMaxScaler\n",
    "\n",
    "plt.figure(figsize=(8,6))\n",
    "\n",
    "\n",
    "scaler= MinMaxScaler()\n",
    "scaled_avg_w= scaler.fit_transform(avg_w.sum(0).reshape(-1,1))\n",
    "df= pd.DataFrame(scaled_avg_w)\n",
    "# df.index= channel_names\n",
    "# df.columns=timestep_labels\n",
    "\n",
    "\n",
    "plt.plot(df)\n",
    "# plt.legend(methods)\n",
    "plt.xlabel(\"Timesteps\")\n",
    "plt.axvspan(107,121, color=\"green\", alpha=0.2)\n",
    "plt.axvspan(112,128, color=\"red\", alpha=0.2)\n",
    "plt.axvspan(142,150, color=\"red\", alpha=0.2)\n",
    "plt.axvspan(157,159, color=\"red\", alpha=0.2)\n",
    "plt.xticks([0,31,62,93,124,155,187],[-0.5, -0.25, 0, 0.25, 0.5, 0.75, 1.0])\n",
    "plt.ylabel(\"Normalised Importance\")\n",
    "plt.margins(x=0)\n",
    "matplotlib.rcParams.update({\"font.size\":18})\n",
    "plt.tight_layout()\n",
    "#     sns.heatmap(df.sum().to_numpy().reshape(-1,1),annot=True, \n",
    "#                 yticklabels=timestep_labels, ax=ax[i][1],\n",
    "#                 xticklabels=False, cbar_kws={\"pad\":0.02})"
   ]
  },
  {
   "cell_type": "code",
   "execution_count": null,
   "id": "5b56977e",
   "metadata": {},
   "outputs": [],
   "source": [
    "from sklearn.preprocessing import MinMaxScaler\n",
    "import mne\n",
    "info= mne.create_info(channel_names, sfreq=500, ch_types=32*[\"eeg\"])\n",
    "info.set_montage(\"standard_1020\")\n",
    "\n",
    "fig= plt.figure()\n",
    "ax= plt.axes((0,0,1.5,1.5))\n",
    "\n",
    "scaler= MinMaxScaler()\n",
    "scaled_avg_w= scaler.fit_transform(avg_w.sum(1).reshape(-1,1))\n",
    "# df= pd.DataFrame(scaled_avg_w.reshape(-1))\n",
    "\n",
    "im, _= mne.viz.plot_topomap(\n",
    "    scaled_avg_w.reshape(-1),\n",
    "    info,\n",
    "    ch_type= \"eeg\",\n",
    "    sensors=True,\n",
    "    names=channel_names,\n",
    "    cmap=\"Blues\",\n",
    "    axes=ax,\n",
    "    show=False,\n",
    "    extrapolate=\"local\"\n",
    "#     sphere=\"eeglab\"\n",
    ")\n",
    "fig.add_axes(ax)\n",
    "cbar_ax= fig.add_axes([1.3,0.2, 0.1,1])\n",
    "clb= fig.colorbar(im, cax=cbar_ax)\n",
    "clb.set_label(\"Importance Estimate\", rotation=270,labelpad=20)\n",
    "\n",
    "for tt in plt.findobj(fig, matplotlib.text.Text):\n",
    "    if tt.get_text() in channel_names:\n",
    "        tt.set_fontsize(14)"
   ]
  }
 ],
 "metadata": {
  "kernelspec": {
   "display_name": "Python [conda env:pytorch]",
   "language": "python",
   "name": "conda-env-pytorch-py"
  },
  "language_info": {
   "codemirror_mode": {
    "name": "ipython",
    "version": 3
   },
   "file_extension": ".py",
   "mimetype": "text/x-python",
   "name": "python",
   "nbconvert_exporter": "python",
   "pygments_lexer": "ipython3",
   "version": "3.7.10"
  }
 },
 "nbformat": 4,
 "nbformat_minor": 5
}
