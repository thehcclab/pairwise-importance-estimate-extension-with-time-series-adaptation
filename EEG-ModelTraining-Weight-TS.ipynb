{
 "cells": [
  {
   "cell_type": "code",
   "execution_count": 1,
   "id": "4c9e593e",
   "metadata": {},
   "outputs": [],
   "source": [
    "import numpy as np\n",
    "import pickle\n",
    "import sys\n",
    "from typing import List\n",
    "import torch\n",
    "import os"
   ]
  },
  {
   "cell_type": "code",
   "execution_count": 2,
   "id": "eb96ce98",
   "metadata": {},
   "outputs": [],
   "source": [
    "participant_data_path = './EEG/number'\n",
    "processed_data_path = './EEG/processed_data'\n",
    "split_data_path = './EEG/split_data'"
   ]
  },
  {
   "cell_type": "code",
   "execution_count": 3,
   "id": "62c74d3a",
   "metadata": {},
   "outputs": [],
   "source": [
    "ps = os.listdir(participant_data_path)\n",
    "participants=[]\n",
    "for p in ps:\n",
    "    p= p[:3]\n",
    "    if p not in participants:\n",
    "        participants.append(p)\n",
    "        \n",
    "participants= sorted(participants)\n",
    "# participants, len(participants)"
   ]
  },
  {
   "cell_type": "code",
   "execution_count": 4,
   "id": "28f3009e",
   "metadata": {
    "scrolled": true
   },
   "outputs": [],
   "source": [
    "load_name=f\"userfold_data_scaled_p_dictionary-number\"\n",
    "data_dir = \"./EEG/split_data/standard_scaled\"\n",
    "try:\n",
    "    raw_user_fold= pickle.load(open(os.path.join(data_dir, f\"{load_name}.pkl\"), \"rb\"))\n",
    "except:\n",
    "    print(f\"pickle file does not exist. Use EEG-Preprocess.ipynb and EEG-Split.ipynb to save data setting.\")\n",
    "    sys.exit()"
   ]
  },
  {
   "cell_type": "code",
   "execution_count": 5,
   "id": "082a80ac",
   "metadata": {
    "scrolled": true
   },
   "outputs": [
    {
     "name": "stderr",
     "output_type": "stream",
     "text": [
      "\r",
      "Iterations:   0%|                                           | 0/300 [00:00<?, ?it/s]"
     ]
    },
    {
     "name": "stdout",
     "output_type": "stream",
     "text": [
      "Epoch  0 , loss 0.6824107602530834\n"
     ]
    },
    {
     "name": "stderr",
     "output_type": "stream",
     "text": [
      "\r",
      "Iterations:   0%|                                   | 1/300 [00:02<14:23,  2.89s/it]"
     ]
    },
    {
     "name": "stdout",
     "output_type": "stream",
     "text": [
      "Epoch:  0\n",
      "t_loss:  0.6824107602530834 , v_loss:  0.6948699951171875\n",
      "t_acc:  0.5343915343915344 , v_acc:  0.4782608695652174\n",
      "t_recall:  0.4953919106243395 , v_recall:  0.3908108108108108\n",
      "t_prec:  0.49594166963478453 , v_prec:  0.3908108108108108\n",
      "t_f:  0.49050383077594945 , v_f:  0.3908108108108108\n",
      "////////\n"
     ]
    },
    {
     "name": "stderr",
     "output_type": "stream",
     "text": [
      "\r",
      "Iterations:   1%|▏                                  | 2/300 [00:03<07:38,  1.54s/it]"
     ]
    },
    {
     "name": "stdout",
     "output_type": "stream",
     "text": [
      "Epoch  1 , loss 0.6573398919666514\n",
      "Epoch  2 , loss 0.6283348366325977\n"
     ]
    },
    {
     "name": "stderr",
     "output_type": "stream",
     "text": [
      "\r",
      "Iterations:   1%|▎                                  | 3/300 [00:04<06:16,  1.27s/it]"
     ]
    },
    {
     "name": "stdout",
     "output_type": "stream",
     "text": [
      "Epoch:  2\n",
      "t_loss:  0.6283348366325977 , v_loss:  0.6920283436775208\n",
      "t_acc:  0.5997510115157174 , v_acc:  0.5590062111801242\n",
      "t_recall:  0.49780403782544846 , v_recall:  0.4383783783783784\n",
      "t_prec:  0.4974528404013474 , v_prec:  0.41903409090909094\n",
      "t_f:  0.4950607356715141 , v_f:  0.4237535917729496\n",
      "////////\n"
     ]
    },
    {
     "name": "stderr",
     "output_type": "stream",
     "text": [
      "\r",
      "Iterations:   1%|▍                                  | 4/300 [00:05<04:55,  1.00it/s]"
     ]
    },
    {
     "name": "stdout",
     "output_type": "stream",
     "text": [
      "Epoch  3 , loss 0.6053225070822472\n",
      "Epoch  4 , loss 0.5870580246635512\n"
     ]
    },
    {
     "name": "stderr",
     "output_type": "stream",
     "text": [
      "\r",
      "Iterations:   2%|▌                                  | 5/300 [00:05<04:46,  1.03it/s]"
     ]
    },
    {
     "name": "stdout",
     "output_type": "stream",
     "text": [
      "Epoch:  4\n",
      "t_loss:  0.5870580246635512 , v_loss:  0.6839071909586588\n",
      "t_acc:  0.6455026455026455 , v_acc:  0.6273291925465838\n",
      "t_recall:  0.5010739627509916 , v_recall:  0.48243243243243245\n",
      "t_prec:  0.5020052345376984 , v_prec:  0.4654255319148936\n",
      "t_f:  0.47909754063511095 , v_f:  0.4523809523809524\n",
      "////////\n"
     ]
    },
    {
     "name": "stderr",
     "output_type": "stream",
     "text": [
      "\r",
      "Iterations:   2%|▋                                  | 6/300 [00:06<04:05,  1.20it/s]"
     ]
    },
    {
     "name": "stdout",
     "output_type": "stream",
     "text": [
      "Epoch  5 , loss 0.5703430187468436\n",
      "Epoch  6 , loss 0.5548462739177779\n"
     ]
    },
    {
     "name": "stderr",
     "output_type": "stream",
     "text": [
      "\r",
      "Iterations:   2%|▊                                  | 7/300 [00:07<04:19,  1.13it/s]"
     ]
    },
    {
     "name": "stdout",
     "output_type": "stream",
     "text": [
      "Epoch:  6\n",
      "t_loss:  0.5548462739177779 , v_loss:  0.673480232556661\n",
      "t_acc:  0.6716464363523187 , v_acc:  0.6956521739130435\n",
      "t_recall:  0.5057767529954297 , v_recall:  0.5154954954954954\n",
      "t_prec:  0.5179027153940383 , v_prec:  0.6814345991561181\n",
      "t_f:  0.46461545022281925 , v_f:  0.44665778214210566\n",
      "////////\n"
     ]
    },
    {
     "name": "stderr",
     "output_type": "stream",
     "text": [
      "\r",
      "Iterations:   3%|▉                                  | 8/300 [00:08<03:51,  1.26it/s]"
     ]
    },
    {
     "name": "stdout",
     "output_type": "stream",
     "text": [
      "Epoch  7 , loss 0.5329922350013957\n",
      "Epoch  8 , loss 0.5187594861376519\n"
     ]
    },
    {
     "name": "stderr",
     "output_type": "stream",
     "text": [
      "\r",
      "Iterations:   3%|█                                  | 9/300 [00:09<04:02,  1.20it/s]"
     ]
    },
    {
     "name": "stdout",
     "output_type": "stream",
     "text": [
      "Epoch:  8\n",
      "t_loss:  0.5187594861376519 , v_loss:  0.66593470176061\n",
      "t_acc:  0.6875194522253346 , v_acc:  0.6956521739130435\n",
      "t_recall:  0.5079850674572131 , v_recall:  0.51\n",
      "t_prec:  0.5462845596151704 , v_prec:  0.846875\n",
      "t_f:  0.44938176356126036 , v_f:  0.42920193907821425\n",
      "////////\n"
     ]
    },
    {
     "name": "stderr",
     "output_type": "stream",
     "text": [
      "\r",
      "Iterations:   3%|█▏                                | 10/300 [00:09<03:39,  1.32it/s]"
     ]
    },
    {
     "name": "stdout",
     "output_type": "stream",
     "text": [
      "Epoch  9 , loss 0.5103008180272346\n",
      "Epoch  10 , loss 0.5025250514348348\n"
     ]
    },
    {
     "name": "stderr",
     "output_type": "stream",
     "text": [
      "\r",
      "Iterations:   4%|█▏                                | 11/300 [00:10<03:55,  1.23it/s]"
     ]
    },
    {
     "name": "stdout",
     "output_type": "stream",
     "text": [
      "Epoch:  10\n",
      "t_loss:  0.5025250514348348 , v_loss:  0.6613039076328278\n",
      "t_acc:  0.6943666355431062 , v_acc:  0.6894409937888198\n",
      "t_recall:  0.5071560917363198 , v_recall:  0.5\n",
      "t_prec:  0.5826831588962893 , v_prec:  0.3447204968944099\n",
      "t_f:  0.4358465182743927 , v_f:  0.4080882352941176\n",
      "////////\n"
     ]
    },
    {
     "name": "stderr",
     "output_type": "stream",
     "text": [
      "\r",
      "Iterations:   4%|█▎                                | 12/300 [00:11<03:37,  1.32it/s]"
     ]
    },
    {
     "name": "stdout",
     "output_type": "stream",
     "text": [
      "Epoch  11 , loss 0.4903904959267261\n",
      "Epoch  12 , loss 0.48783207582492455\n"
     ]
    },
    {
     "name": "stderr",
     "output_type": "stream",
     "text": [
      "\r",
      "Iterations:   4%|█▍                                | 13/300 [00:12<03:52,  1.23it/s]"
     ]
    },
    {
     "name": "stdout",
     "output_type": "stream",
     "text": [
      "Epoch:  12\n",
      "t_loss:  0.48783207582492455 , v_loss:  0.6595232486724854\n",
      "t_acc:  0.6959228135698724 , v_acc:  0.6894409937888198\n",
      "t_recall:  0.5056868557939089 , v_recall:  0.5\n",
      "t_prec:  0.6057806862277895 , v_prec:  0.3447204968944099\n",
      "t_f:  0.4284401506509728 , v_f:  0.4080882352941176\n",
      "////////\n"
     ]
    },
    {
     "name": "stderr",
     "output_type": "stream",
     "text": [
      "\r",
      "Iterations:   5%|█▌                                | 14/300 [00:12<03:33,  1.34it/s]"
     ]
    },
    {
     "name": "stdout",
     "output_type": "stream",
     "text": [
      "Epoch  13 , loss 0.47832968422010835\n",
      "Epoch  14 , loss 0.47118208279796675\n"
     ]
    },
    {
     "name": "stderr",
     "output_type": "stream",
     "text": [
      "\r",
      "Iterations:   5%|█▋                                | 15/300 [00:13<03:51,  1.23it/s]"
     ]
    },
    {
     "name": "stdout",
     "output_type": "stream",
     "text": [
      "Epoch:  14\n",
      "t_loss:  0.47118208279796675 , v_loss:  0.658110499382019\n",
      "t_acc:  0.6931216931216931 , v_acc:  0.6894409937888198\n",
      "t_recall:  0.5002230274083529 , v_recall:  0.5\n",
      "t_prec:  0.5069442466026609 , v_prec:  0.3447204968944099\n",
      "t_f:  0.41614117213416885 , v_f:  0.4080882352941176\n",
      "////////\n"
     ]
    },
    {
     "name": "stderr",
     "output_type": "stream",
     "text": [
      "\r",
      "Iterations:   5%|█▊                                | 16/300 [00:14<03:34,  1.32it/s]"
     ]
    },
    {
     "name": "stdout",
     "output_type": "stream",
     "text": [
      "Epoch  15 , loss 0.46929412963343603\n",
      "Epoch  16 , loss 0.46671269921695485\n"
     ]
    },
    {
     "name": "stderr",
     "output_type": "stream",
     "text": [
      "\r",
      "Iterations:   6%|█▉                                | 17/300 [00:15<03:48,  1.24it/s]"
     ]
    },
    {
     "name": "stdout",
     "output_type": "stream",
     "text": [
      "Epoch:  16\n",
      "t_loss:  0.46671269921695485 , v_loss:  0.6571821868419647\n",
      "t_acc:  0.6953003423591659 , v_acc:  0.6894409937888198\n",
      "t_recall:  0.502651624325771 , v_recall:  0.5\n",
      "t_prec:  0.5864661654135338 , v_prec:  0.3447204968944099\n",
      "t_f:  0.41981284767354415 , v_f:  0.4080882352941176\n",
      "////////\n"
     ]
    },
    {
     "name": "stderr",
     "output_type": "stream",
     "text": [
      "\r",
      "Iterations:   6%|██                                | 18/300 [00:15<03:30,  1.34it/s]"
     ]
    },
    {
     "name": "stdout",
     "output_type": "stream",
     "text": [
      "Epoch  17 , loss 0.4664906964582555\n",
      "Epoch  18 , loss 0.45709940031463026\n"
     ]
    },
    {
     "name": "stderr",
     "output_type": "stream",
     "text": [
      "\r",
      "Iterations:   6%|██▏                               | 19/300 [00:16<03:45,  1.25it/s]"
     ]
    },
    {
     "name": "stdout",
     "output_type": "stream",
     "text": [
      "Epoch:  18\n",
      "t_loss:  0.45709940031463026 , v_loss:  0.6555394232273102\n",
      "t_acc:  0.6956115779645191 , v_acc:  0.6894409937888198\n",
      "t_recall:  0.5020127365806124 , v_recall:  0.5\n",
      "t_prec:  0.5982338230697093 , v_prec:  0.3447204968944099\n",
      "t_f:  0.4170674932028922 , v_f:  0.4080882352941176\n",
      "////////\n"
     ]
    },
    {
     "name": "stderr",
     "output_type": "stream",
     "text": [
      "\r",
      "Iterations:   7%|██▎                               | 20/300 [00:17<03:28,  1.34it/s]"
     ]
    },
    {
     "name": "stdout",
     "output_type": "stream",
     "text": [
      "Epoch  19 , loss 0.45845619662135256\n",
      "Epoch  20 , loss 0.4487011730670929\n"
     ]
    },
    {
     "name": "stderr",
     "output_type": "stream",
     "text": [
      "\r",
      "Iterations:   7%|██▍                               | 21/300 [00:18<03:45,  1.24it/s]"
     ]
    },
    {
     "name": "stdout",
     "output_type": "stream",
     "text": [
      "Epoch:  20\n",
      "t_loss:  0.4487011730670929 , v_loss:  0.653534730275472\n",
      "t_acc:  0.6937441643323996 , v_acc:  0.6894409937888198\n",
      "t_recall:  0.49952031951249637 , v_recall:  0.5\n",
      "t_prec:  0.4727038425492034 , v_prec:  0.3447204968944099\n",
      "t_f:  0.41252257676098736 , v_f:  0.4080882352941176\n",
      "////////\n"
     ]
    },
    {
     "name": "stderr",
     "output_type": "stream",
     "text": [
      "\r",
      "Iterations:   7%|██▍                               | 22/300 [00:18<03:25,  1.35it/s]"
     ]
    },
    {
     "name": "stdout",
     "output_type": "stream",
     "text": [
      "Epoch  21 , loss 0.4482870294767268\n",
      "Epoch  22 , loss 0.45015790006693673\n"
     ]
    },
    {
     "name": "stderr",
     "output_type": "stream",
     "text": [
      "\r",
      "Iterations:   8%|██▌                               | 23/300 [00:19<03:41,  1.25it/s]"
     ]
    },
    {
     "name": "stdout",
     "output_type": "stream",
     "text": [
      "Epoch:  22\n",
      "t_loss:  0.45015790006693673 , v_loss:  0.6515639324982961\n",
      "t_acc:  0.6949891067538126 , v_acc:  0.6894409937888198\n",
      "t_recall:  0.5004151740986261 , v_recall:  0.5\n",
      "t_prec:  0.5353939157566303 , v_prec:  0.3447204968944099\n",
      "t_f:  0.41296906693711966 , v_f:  0.4080882352941176\n",
      "////////\n"
     ]
    },
    {
     "name": "stderr",
     "output_type": "stream",
     "text": [
      "\r",
      "Iterations:   8%|██▋                               | 24/300 [00:20<03:24,  1.35it/s]"
     ]
    },
    {
     "name": "stdout",
     "output_type": "stream",
     "text": [
      "Epoch  23 , loss 0.4433218410202101\n",
      "Epoch  24 , loss 0.44571010797631505\n"
     ]
    },
    {
     "name": "stderr",
     "output_type": "stream",
     "text": [
      "\r",
      "Iterations:   8%|██▊                               | 25/300 [00:21<03:39,  1.25it/s]"
     ]
    },
    {
     "name": "stdout",
     "output_type": "stream",
     "text": [
      "Epoch:  24\n",
      "t_loss:  0.44571010797631505 , v_loss:  0.6506820519765218\n",
      "t_acc:  0.6962340491752257 , v_acc:  0.6894409937888198\n",
      "t_recall:  0.5018850962792166 , v_recall:  0.5\n",
      "t_prec:  0.6607059282371295 , v_prec:  0.3447204968944099\n",
      "t_f:  0.4153651115618661 , v_f:  0.4080882352941176\n",
      "////////\n"
     ]
    },
    {
     "name": "stderr",
     "output_type": "stream",
     "text": [
      "\r",
      "Iterations:   9%|██▉                               | 26/300 [00:21<03:21,  1.36it/s]"
     ]
    },
    {
     "name": "stdout",
     "output_type": "stream",
     "text": [
      "Epoch  25 , loss 0.43984099638228324\n",
      "Epoch  26 , loss 0.4411539149050619\n"
     ]
    },
    {
     "name": "stderr",
     "output_type": "stream",
     "text": [
      "\r",
      "Iterations:   9%|███                               | 27/300 [00:22<03:36,  1.26it/s]"
     ]
    },
    {
     "name": "stdout",
     "output_type": "stream",
     "text": [
      "Epoch:  26\n",
      "t_loss:  0.4411539149050619 , v_loss:  0.6480264166990916\n",
      "t_acc:  0.6953003423591659 , v_acc:  0.6894409937888198\n",
      "t_recall:  0.5006388877451586 , v_recall:  0.5\n",
      "t_prec:  0.5622270742358079 , v_prec:  0.3447204968944099\n",
      "t_f:  0.41308060533064894 , v_f:  0.4080882352941176\n",
      "////////\n"
     ]
    },
    {
     "name": "stderr",
     "output_type": "stream",
     "text": [
      "\r",
      "Iterations:   9%|███▏                              | 28/300 [00:23<03:17,  1.37it/s]"
     ]
    },
    {
     "name": "stdout",
     "output_type": "stream",
     "text": [
      "Epoch  27 , loss 0.4432727437393338\n",
      "Epoch  28 , loss 0.44338362999990877\n"
     ]
    },
    {
     "name": "stderr",
     "output_type": "stream",
     "text": [
      "\r",
      "Iterations:  10%|███▎                              | 29/300 [00:24<03:34,  1.26it/s]"
     ]
    },
    {
     "name": "stdout",
     "output_type": "stream",
     "text": [
      "Epoch:  28\n",
      "t_loss:  0.44338362999990877 , v_loss:  0.6459272007147471\n",
      "t_acc:  0.6962340491752257 , v_acc:  0.6894409937888198\n",
      "t_recall:  0.5033227652653683 , v_recall:  0.5\n",
      "t_prec:  0.6262910798122066 , v_prec:  0.3447204968944099\n",
      "t_f:  0.4201690740864009 , v_f:  0.4080882352941176\n",
      "////////\n"
     ]
    },
    {
     "name": "stderr",
     "output_type": "stream",
     "text": [
      "\r",
      "Iterations:  10%|███▍                              | 30/300 [00:25<03:18,  1.36it/s]"
     ]
    },
    {
     "name": "stdout",
     "output_type": "stream",
     "text": [
      "Epoch  29 , loss 0.44362713601074966\n",
      "Epoch  30 , loss 0.4449264827896567\n"
     ]
    },
    {
     "name": "stderr",
     "output_type": "stream",
     "text": [
      "\r",
      "Iterations:  10%|███▌                              | 31/300 [00:25<03:33,  1.26it/s]"
     ]
    },
    {
     "name": "stdout",
     "output_type": "stream",
     "text": [
      "Epoch:  30\n",
      "t_loss:  0.4449264827896567 , v_loss:  0.6423562665780386\n",
      "t_acc:  0.6959228135698724 , v_acc:  0.6894409937888198\n",
      "t_recall:  0.5016613826326841 , v_recall:  0.5\n",
      "t_prec:  0.6259363295880149 , v_prec:  0.3447204968944099\n",
      "t_f:  0.41525155202966746 , v_f:  0.4080882352941176\n",
      "////////\n"
     ]
    },
    {
     "name": "stderr",
     "output_type": "stream",
     "text": [
      "\r",
      "Iterations:  11%|███▋                              | 32/300 [00:26<03:15,  1.37it/s]"
     ]
    },
    {
     "name": "stdout",
     "output_type": "stream",
     "text": [
      "Epoch  31 , loss 0.4442829670859318\n",
      "Epoch  32 , loss 0.4414435175119662\n"
     ]
    },
    {
     "name": "stderr",
     "output_type": "stream",
     "text": [
      "\r",
      "Iterations:  11%|███▋                              | 33/300 [00:27<03:32,  1.25it/s]"
     ]
    },
    {
     "name": "stdout",
     "output_type": "stream",
     "text": [
      "Epoch:  32\n",
      "t_loss:  0.4414435175119662 , v_loss:  0.639745811621348\n",
      "t_acc:  0.6946778711484594 , v_acc:  0.6894409937888198\n",
      "t_recall:  0.5004789942493241 , v_recall:  0.5\n",
      "t_prec:  0.5297257395945716 , v_prec:  0.3447204968944099\n",
      "t_f:  0.41382929718163364 , v_f:  0.4080882352941176\n",
      "////////\n"
     ]
    },
    {
     "name": "stderr",
     "output_type": "stream",
     "text": [
      "\r",
      "Iterations:  11%|███▊                              | 34/300 [00:28<03:16,  1.35it/s]"
     ]
    },
    {
     "name": "stdout",
     "output_type": "stream",
     "text": [
      "Epoch  33 , loss 0.4324856008969101\n",
      "Epoch  34 , loss 0.4381252848634533\n"
     ]
    },
    {
     "name": "stderr",
     "output_type": "stream",
     "text": [
      "\r",
      "Iterations:  12%|███▉                              | 35/300 [00:29<03:30,  1.26it/s]"
     ]
    },
    {
     "name": "stdout",
     "output_type": "stream",
     "text": [
      "Epoch:  34\n",
      "t_loss:  0.4381252848634533 , v_loss:  0.6366456548372904\n",
      "t_acc:  0.6962340491752257 , v_acc:  0.6894409937888198\n",
      "t_recall:  0.502172630076447 , v_recall:  0.5\n",
      "t_prec:  0.6482672494536372 , v_prec:  0.3447204968944099\n",
      "t_f:  0.4163339999076822 , v_f:  0.4080882352941176\n",
      "////////\n"
     ]
    },
    {
     "name": "stderr",
     "output_type": "stream",
     "text": [
      "\r",
      "Iterations:  12%|████                              | 36/300 [00:29<03:12,  1.37it/s]"
     ]
    },
    {
     "name": "stdout",
     "output_type": "stream",
     "text": [
      "Epoch  35 , loss 0.43658662718885083\n",
      "Epoch  36 , loss 0.4341496614848866\n"
     ]
    },
    {
     "name": "stderr",
     "output_type": "stream",
     "text": [
      "\r",
      "Iterations:  12%|████▏                             | 37/300 [00:30<03:26,  1.27it/s]"
     ]
    },
    {
     "name": "stdout",
     "output_type": "stream",
     "text": [
      "Epoch:  36\n",
      "t_loss:  0.4341496614848866 , v_loss:  0.6341560781002045\n",
      "t_acc:  0.6949891067538126 , v_acc:  0.6894409937888198\n",
      "t_recall:  0.5018528430847778 , v_recall:  0.5\n",
      "t_prec:  0.5704225352112675 , v_prec:  0.3447204968944099\n",
      "t_f:  0.41779271783265653 , v_f:  0.4080882352941176\n",
      "////////\n"
     ]
    },
    {
     "name": "stderr",
     "output_type": "stream",
     "text": [
      "\r",
      "Iterations:  13%|████▎                             | 38/300 [00:31<03:10,  1.38it/s]"
     ]
    },
    {
     "name": "stdout",
     "output_type": "stream",
     "text": [
      "Epoch  37 , loss 0.432810214804668\n",
      "Epoch  38 , loss 0.4407827842469309\n"
     ]
    },
    {
     "name": "stderr",
     "output_type": "stream",
     "text": [
      "\r",
      "Iterations:  13%|████▍                             | 39/300 [00:31<03:23,  1.28it/s]"
     ]
    },
    {
     "name": "stdout",
     "output_type": "stream",
     "text": [
      "Epoch:  38\n",
      "t_loss:  0.4407827842469309 , v_loss:  0.6300473213195801\n",
      "t_acc:  0.6953003423591659 , v_acc:  0.6894409937888198\n",
      "t_recall:  0.50178902293408 , v_recall:  0.5\n",
      "t_prec:  0.5815196998123827 , v_prec:  0.3447204968944099\n",
      "t_f:  0.4169517934208704 , v_f:  0.4080882352941176\n",
      "////////\n"
     ]
    },
    {
     "name": "stderr",
     "output_type": "stream",
     "text": [
      "\r",
      "Iterations:  13%|████▌                             | 40/300 [00:32<03:07,  1.39it/s]"
     ]
    },
    {
     "name": "stdout",
     "output_type": "stream",
     "text": [
      "Epoch  39 , loss 0.43487315142855926\n",
      "Epoch  40 , loss 0.4388645273797652\n"
     ]
    },
    {
     "name": "stderr",
     "output_type": "stream",
     "text": [
      "\r",
      "Iterations:  14%|████▋                             | 41/300 [00:33<03:23,  1.28it/s]"
     ]
    },
    {
     "name": "stdout",
     "output_type": "stream",
     "text": [
      "Epoch:  40\n",
      "t_loss:  0.4388645273797652 , v_loss:  0.626696248849233\n",
      "t_acc:  0.6965452847805789 , v_acc:  0.6894409937888198\n",
      "t_recall:  0.50297141131744 , v_recall:  0.5\n",
      "t_prec:  0.6561298076923077 , v_prec:  0.3447204968944099\n",
      "t_f:  0.4183762417414505 , v_f:  0.4080882352941176\n",
      "////////\n"
     ]
    },
    {
     "name": "stderr",
     "output_type": "stream",
     "text": [
      "\r",
      "Iterations:  14%|████▊                             | 42/300 [00:34<03:09,  1.36it/s]"
     ]
    },
    {
     "name": "stdout",
     "output_type": "stream",
     "text": [
      "Epoch  41 , loss 0.435209287147896\n",
      "Epoch  42 , loss 0.4391213509381986\n"
     ]
    },
    {
     "name": "stderr",
     "output_type": "stream",
     "text": [
      "\r",
      "Iterations:  14%|████▊                             | 43/300 [00:35<03:24,  1.26it/s]"
     ]
    },
    {
     "name": "stdout",
     "output_type": "stream",
     "text": [
      "Epoch:  42\n",
      "t_loss:  0.4391213509381986 , v_loss:  0.6235191424687704\n",
      "t_acc:  0.6937441643323996 , v_acc:  0.6956521739130435\n",
      "t_recall:  0.5006704547014178 , v_recall:  0.51\n",
      "t_prec:  0.5229486376448481 , v_prec:  0.846875\n",
      "t_f:  0.4163729079382051 , v_f:  0.42920193907821425\n",
      "////////\n"
     ]
    },
    {
     "name": "stderr",
     "output_type": "stream",
     "text": [
      "\r",
      "Iterations:  15%|████▉                             | 44/300 [00:35<03:16,  1.30it/s]"
     ]
    },
    {
     "name": "stdout",
     "output_type": "stream",
     "text": [
      "Epoch  43 , loss 0.4335114202078651\n",
      "Epoch  44 , loss 0.4327678359022327\n"
     ]
    },
    {
     "name": "stderr",
     "output_type": "stream",
     "text": [
      "\r",
      "Iterations:  15%|█████                             | 45/300 [00:36<03:27,  1.23it/s]"
     ]
    },
    {
     "name": "stdout",
     "output_type": "stream",
     "text": [
      "Epoch:  44\n",
      "t_loss:  0.4327678359022327 , v_loss:  0.6185836891333262\n",
      "t_acc:  0.6974789915966386 , v_acc:  0.6956521739130435\n",
      "t_recall:  0.5047926874459587 , v_recall:  0.51\n",
      "t_prec:  0.6821596244131456 , v_prec:  0.846875\n",
      "t_f:  0.4225454303401451 , v_f:  0.42920193907821425\n",
      "////////\n"
     ]
    },
    {
     "name": "stderr",
     "output_type": "stream",
     "text": [
      "\r",
      "Iterations:  15%|█████▏                            | 46/300 [00:37<03:11,  1.33it/s]"
     ]
    },
    {
     "name": "stdout",
     "output_type": "stream",
     "text": [
      "Epoch  45 , loss 0.4308152327350542\n",
      "Epoch  46 , loss 0.42934636684025035\n"
     ]
    },
    {
     "name": "stderr",
     "output_type": "stream",
     "text": [
      "\r",
      "Iterations:  16%|█████▎                            | 47/300 [00:38<03:23,  1.24it/s]"
     ]
    },
    {
     "name": "stdout",
     "output_type": "stream",
     "text": [
      "Epoch:  46\n",
      "t_loss:  0.42934636684025035 , v_loss:  0.6157616376876831\n",
      "t_acc:  0.6974789915966386 , v_acc:  0.6894409937888198\n",
      "t_recall:  0.5045051536487284 , v_recall:  0.5054954954954954\n",
      "t_prec:  0.6925144666875196 , v_prec:  0.5959119496855345\n",
      "t_f:  0.4215965898483685 , v_f:  0.4266381766381766\n",
      "////////\n"
     ]
    },
    {
     "name": "stderr",
     "output_type": "stream",
     "text": [
      "\r",
      "Iterations:  16%|█████▍                            | 48/300 [00:38<03:07,  1.35it/s]"
     ]
    },
    {
     "name": "stdout",
     "output_type": "stream",
     "text": [
      "Epoch  47 , loss 0.43468456934480104\n",
      "Epoch  48 , loss 0.4374689711075203\n"
     ]
    },
    {
     "name": "stderr",
     "output_type": "stream",
     "text": [
      "\r",
      "Iterations:  16%|█████▌                            | 49/300 [00:39<03:19,  1.26it/s]"
     ]
    },
    {
     "name": "stdout",
     "output_type": "stream",
     "text": [
      "Epoch:  48\n",
      "t_loss:  0.4374689711075203 , v_loss:  0.6127623468637466\n",
      "t_acc:  0.699035169623405 , v_acc:  0.6894409937888198\n",
      "t_recall:  0.5070613908675423 , v_recall:  0.5054954954954954\n",
      "t_prec:  0.7302631578947368 , v_prec:  0.5959119496855345\n",
      "t_f:  0.4269244368746856 , v_f:  0.4266381766381766\n",
      "////////\n"
     ]
    },
    {
     "name": "stderr",
     "output_type": "stream",
     "text": [
      "\r",
      "Iterations:  17%|█████▋                            | 50/300 [00:40<03:02,  1.37it/s]"
     ]
    },
    {
     "name": "stdout",
     "output_type": "stream",
     "text": [
      "Epoch  49 , loss 0.4364200275318295\n",
      "Epoch  50 , loss 0.4291035258302502\n"
     ]
    },
    {
     "name": "stderr",
     "output_type": "stream",
     "text": [
      "\r",
      "Iterations:  17%|█████▊                            | 51/300 [00:41<03:18,  1.26it/s]"
     ]
    },
    {
     "name": "stdout",
     "output_type": "stream",
     "text": [
      "Epoch:  50\n",
      "t_loss:  0.4291035258302502 , v_loss:  0.6100592513879141\n",
      "t_acc:  0.6974789915966386 , v_acc:  0.6894409937888198\n",
      "t_recall:  0.5053677550404194 , v_recall:  0.5054954954954954\n",
      "t_prec:  0.66713199054158 , v_prec:  0.5959119496855345\n",
      "t_f:  0.4244312569111685 , v_f:  0.4266381766381766\n",
      "////////\n"
     ]
    },
    {
     "name": "stderr",
     "output_type": "stream",
     "text": [
      "\r",
      "Iterations:  17%|█████▉                            | 52/300 [00:41<03:01,  1.37it/s]"
     ]
    },
    {
     "name": "stdout",
     "output_type": "stream",
     "text": [
      "Epoch  51 , loss 0.43258166751440835\n",
      "Epoch  52 , loss 0.4330825016779058\n"
     ]
    },
    {
     "name": "stderr",
     "output_type": "stream",
     "text": [
      "\r",
      "Iterations:  18%|██████                            | 53/300 [00:42<03:14,  1.27it/s]"
     ]
    },
    {
     "name": "stdout",
     "output_type": "stream",
     "text": [
      "Epoch:  52\n",
      "t_loss:  0.4330825016779058 , v_loss:  0.6083114047845205\n",
      "t_acc:  0.6984126984126984 , v_acc:  0.6894409937888198\n",
      "t_recall:  0.5063264297772471 , v_recall:  0.5054954954954954\n",
      "t_prec:  0.706296992481203 , v_prec:  0.5959119496855345\n",
      "t_f:  0.4257391720078288 , v_f:  0.4266381766381766\n",
      "////////\n"
     ]
    },
    {
     "name": "stderr",
     "output_type": "stream",
     "text": [
      "\r",
      "Iterations:  18%|██████                            | 54/300 [00:43<03:00,  1.36it/s]"
     ]
    },
    {
     "name": "stdout",
     "output_type": "stream",
     "text": [
      "Epoch  53 , loss 0.4248403573737425\n",
      "Epoch  54 , loss 0.4317151874888177\n"
     ]
    },
    {
     "name": "stderr",
     "output_type": "stream",
     "text": [
      "\r",
      "Iterations:  18%|██████▏                           | 55/300 [00:44<03:15,  1.25it/s]"
     ]
    },
    {
     "name": "stdout",
     "output_type": "stream",
     "text": [
      "Epoch:  54\n",
      "t_loss:  0.4317151874888177 , v_loss:  0.6051197548707327\n",
      "t_acc:  0.6956115779645191 , v_acc:  0.6894409937888198\n",
      "t_recall:  0.5020127365806124 , v_recall:  0.5054954954954954\n",
      "t_prec:  0.5982338230697093 , v_prec:  0.5959119496855345\n",
      "t_f:  0.4170674932028922 , v_f:  0.4266381766381766\n",
      "////////\n"
     ]
    },
    {
     "name": "stderr",
     "output_type": "stream",
     "text": [
      "\r",
      "Iterations:  19%|██████▎                           | 56/300 [00:44<03:00,  1.35it/s]"
     ]
    },
    {
     "name": "stdout",
     "output_type": "stream",
     "text": [
      "Epoch  55 , loss 0.42966149542845933\n",
      "Epoch  56 , loss 0.42832324843780667\n"
     ]
    },
    {
     "name": "stderr",
     "output_type": "stream",
     "text": [
      "\r",
      "Iterations:  19%|██████▍                           | 57/300 [00:45<03:11,  1.27it/s]"
     ]
    },
    {
     "name": "stdout",
     "output_type": "stream",
     "text": [
      "Epoch:  56\n",
      "t_loss:  0.42832324843780667 , v_loss:  0.6038395563761393\n",
      "t_acc:  0.6993464052287581 , v_acc:  0.6894409937888198\n",
      "t_recall:  0.5072851045140747 , v_recall:  0.5054954954954954\n",
      "t_prec:  0.7493579705606013 , v_prec:  0.5959119496855345\n",
      "t_f:  0.4270490132807989 , v_f:  0.4266381766381766\n",
      "////////\n"
     ]
    },
    {
     "name": "stderr",
     "output_type": "stream",
     "text": [
      "\r",
      "Iterations:  19%|██████▌                           | 58/300 [00:46<02:56,  1.37it/s]"
     ]
    },
    {
     "name": "stdout",
     "output_type": "stream",
     "text": [
      "Epoch  57 , loss 0.42718641021672416\n",
      "Epoch  58 , loss 0.42957815995403364\n"
     ]
    },
    {
     "name": "stderr",
     "output_type": "stream",
     "text": [
      "\r",
      "Iterations:  20%|██████▋                           | 59/300 [00:47<03:11,  1.26it/s]"
     ]
    },
    {
     "name": "stdout",
     "output_type": "stream",
     "text": [
      "Epoch:  58\n",
      "t_loss:  0.42957815995403364 , v_loss:  0.6014737486839294\n",
      "t_acc:  0.6971677559912854 , v_acc:  0.6832298136645962\n",
      "t_recall:  0.5045689737994263 , v_recall:  0.500990990990991\n",
      "t_prec:  0.6645684342352437 , v_prec:  0.5116033755274262\n",
      "t_f:  0.422424761852328 , v_f:  0.4240723854948447\n",
      "////////\n"
     ]
    },
    {
     "name": "stderr",
     "output_type": "stream",
     "text": [
      "\r",
      "Iterations:  20%|██████▊                           | 60/300 [00:47<02:55,  1.37it/s]"
     ]
    },
    {
     "name": "stdout",
     "output_type": "stream",
     "text": [
      "Epoch  59 , loss 0.43044695375012415\n",
      "Epoch  60 , loss 0.42477982184466195\n"
     ]
    },
    {
     "name": "stderr",
     "output_type": "stream",
     "text": [
      "\r",
      "Iterations:  20%|██████▉                           | 61/300 [00:48<03:08,  1.27it/s]"
     ]
    },
    {
     "name": "stdout",
     "output_type": "stream",
     "text": [
      "Epoch:  60\n",
      "t_loss:  0.42477982184466195 , v_loss:  0.6004261573155721\n",
      "t_acc:  0.6987239340180517 , v_acc:  0.6894409937888198\n",
      "t_recall:  0.5077002786127008 , v_recall:  0.510990990990991\n",
      "t_prec:  0.6887362637362637 , v_prec:  0.5971337579617835\n",
      "t_f:  0.4295877869315472 , v_f:  0.4437534549474848\n",
      "////////\n"
     ]
    },
    {
     "name": "stderr",
     "output_type": "stream",
     "text": [
      "\r",
      "Iterations:  21%|███████                           | 62/300 [00:49<02:54,  1.37it/s]"
     ]
    },
    {
     "name": "stdout",
     "output_type": "stream",
     "text": [
      "Epoch  61 , loss 0.4285179622033063\n",
      "Epoch  62 , loss 0.428038335313984\n"
     ]
    },
    {
     "name": "stderr",
     "output_type": "stream",
     "text": [
      "\r",
      "Iterations:  21%|███████▏                          | 63/300 [00:50<03:08,  1.26it/s]"
     ]
    },
    {
     "name": "stdout",
     "output_type": "stream",
     "text": [
      "Epoch:  62\n",
      "t_loss:  0.428038335313984 , v_loss:  0.5991174827019373\n",
      "t_acc:  0.6977902272019919 , v_acc:  0.6894409937888198\n",
      "t_recall:  0.506454070078643 , v_recall:  0.510990990990991\n",
      "t_prec:  0.6639987445072191 , v_prec:  0.5971337579617835\n",
      "t_f:  0.42735630095234944 , v_f:  0.4437534549474848\n",
      "////////\n"
     ]
    },
    {
     "name": "stderr",
     "output_type": "stream",
     "text": [
      "\r",
      "Iterations:  21%|███████▎                          | 64/300 [00:51<02:53,  1.36it/s]"
     ]
    },
    {
     "name": "stdout",
     "output_type": "stream",
     "text": [
      "Epoch  63 , loss 0.4265344055259929\n",
      "Epoch  64 , loss 0.4281969906068316\n"
     ]
    },
    {
     "name": "stderr",
     "output_type": "stream",
     "text": [
      "\r",
      "Iterations:  22%|███████▎                          | 65/300 [00:51<03:04,  1.27it/s]"
     ]
    },
    {
     "name": "stdout",
     "output_type": "stream",
     "text": [
      "Epoch:  64\n",
      "t_loss:  0.4281969906068316 , v_loss:  0.598660429318746\n",
      "t_acc:  0.6984126984126984 , v_acc:  0.6894409937888198\n",
      "t_recall:  0.5083391663578595 , v_recall:  0.510990990990991\n",
      "t_prec:  0.6638766519823789 , v_prec:  0.5971337579617835\n",
      "t_f:  0.43221092726022997 , v_f:  0.4437534549474848\n",
      "////////\n"
     ]
    },
    {
     "name": "stderr",
     "output_type": "stream",
     "text": [
      "\r",
      "Iterations:  22%|███████▍                          | 66/300 [00:52<02:50,  1.38it/s]"
     ]
    },
    {
     "name": "stdout",
     "output_type": "stream",
     "text": [
      "Epoch  65 , loss 0.4236911137898763\n",
      "Epoch  66 , loss 0.4276242051638809\n"
     ]
    },
    {
     "name": "stderr",
     "output_type": "stream",
     "text": [
      "\r",
      "Iterations:  22%|███████▌                          | 67/300 [00:53<03:04,  1.27it/s]"
     ]
    },
    {
     "name": "stdout",
     "output_type": "stream",
     "text": [
      "Epoch:  66\n",
      "t_loss:  0.4276242051638809 , v_loss:  0.5969201276699702\n",
      "t_acc:  0.6981014628073452 , v_acc:  0.6956521739130435\n",
      "t_recall:  0.507252851319636 , v_recall:  0.520990990990991\n",
      "t_prec:  0.6660226201696513 , v_prec:  0.6493589743589743\n",
      "t_f:  0.4293327796234772 , v_f:  0.4627851549199864\n",
      "////////\n"
     ]
    },
    {
     "name": "stderr",
     "output_type": "stream",
     "text": [
      "\r",
      "Iterations:  23%|███████▋                          | 68/300 [00:54<02:48,  1.38it/s]"
     ]
    },
    {
     "name": "stdout",
     "output_type": "stream",
     "text": [
      "Epoch  67 , loss 0.4223264175302842\n",
      "Epoch  68 , loss 0.4317147725937413\n"
     ]
    },
    {
     "name": "stderr",
     "output_type": "stream",
     "text": [
      "\r",
      "Iterations:  23%|███████▊                          | 69/300 [00:54<03:02,  1.27it/s]"
     ]
    },
    {
     "name": "stdout",
     "output_type": "stream",
     "text": [
      "Epoch:  68\n",
      "t_loss:  0.4317147725937413 , v_loss:  0.5953855315844218\n",
      "t_acc:  0.7002801120448179 , v_acc:  0.6956521739130435\n",
      "t_recall:  0.5099689820342844 , v_recall:  0.520990990990991\n",
      "t_prec:  0.7209048883842583 , v_prec:  0.6493589743589743\n",
      "t_f:  0.4339080086494944 , v_f:  0.4627851549199864\n",
      "////////\n"
     ]
    },
    {
     "name": "stderr",
     "output_type": "stream",
     "text": [
      "\r",
      "Iterations:  23%|███████▉                          | 70/300 [00:55<02:48,  1.36it/s]"
     ]
    },
    {
     "name": "stdout",
     "output_type": "stream",
     "text": [
      "Epoch  69 , loss 0.4292340868828343\n",
      "Epoch  70 , loss 0.42660121122996014\n"
     ]
    },
    {
     "name": "stderr",
     "output_type": "stream",
     "text": [
      "\r",
      "Iterations:  24%|████████                          | 71/300 [00:56<03:02,  1.26it/s]"
     ]
    },
    {
     "name": "stdout",
     "output_type": "stream",
     "text": [
      "Epoch:  70\n",
      "t_loss:  0.42660121122996014 , v_loss:  0.5940592586994171\n",
      "t_acc:  0.6984126984126984 , v_acc:  0.6894409937888198\n",
      "t_recall:  0.5074765649661684 , v_recall:  0.510990990990991\n",
      "t_prec:  0.67698947322821 , v_prec:  0.5971337579617835\n",
      "t_f:  0.42946028474236353 , v_f:  0.4437534549474848\n",
      "////////\n"
     ]
    },
    {
     "name": "stderr",
     "output_type": "stream",
     "text": [
      "\r",
      "Iterations:  24%|████████▏                         | 72/300 [00:57<02:46,  1.37it/s]"
     ]
    },
    {
     "name": "stdout",
     "output_type": "stream",
     "text": [
      "Epoch  71 , loss 0.425764812558305\n",
      "Epoch  72 , loss 0.4280579838098264\n"
     ]
    },
    {
     "name": "stderr",
     "output_type": "stream",
     "text": [
      "\r",
      "Iterations:  24%|████████▎                         | 73/300 [00:58<02:59,  1.27it/s]"
     ]
    },
    {
     "name": "stdout",
     "output_type": "stream",
     "text": [
      "Epoch:  72\n",
      "t_loss:  0.4280579838098264 , v_loss:  0.5928375671307246\n",
      "t_acc:  0.6987239340180517 , v_acc:  0.7018633540372671\n",
      "t_recall:  0.5082753462071616 , v_recall:  0.530990990990991\n",
      "t_prec:  0.6777006051556114 , v_prec:  0.6849462365591398\n",
      "t_f:  0.43142723430393265 , v_f:  0.48120300751879697\n",
      "////////\n"
     ]
    },
    {
     "name": "stderr",
     "output_type": "stream",
     "text": [
      "\r",
      "Iterations:  25%|████████▍                         | 74/300 [00:58<02:44,  1.37it/s]"
     ]
    },
    {
     "name": "stdout",
     "output_type": "stream",
     "text": [
      "Epoch  73 , loss 0.42393867466963975\n",
      "Epoch  74 , loss 0.418951387498893\n"
     ]
    },
    {
     "name": "stderr",
     "output_type": "stream",
     "text": [
      "\r",
      "Iterations:  25%|████████▌                         | 75/300 [00:59<02:58,  1.26it/s]"
     ]
    },
    {
     "name": "stdout",
     "output_type": "stream",
     "text": [
      "Epoch:  74\n",
      "t_loss:  0.418951387498893 , v_loss:  0.5914859275023142\n",
      "t_acc:  0.699035169623405 , v_acc:  0.7018633540372671\n",
      "t_recall:  0.508499059853694 , v_recall:  0.530990990990991\n",
      "t_prec:  0.688332556112001 , v_prec:  0.6849462365591398\n",
      "t_f:  0.431556640045754 , v_f:  0.48120300751879697\n",
      "////////\n"
     ]
    },
    {
     "name": "stderr",
     "output_type": "stream",
     "text": [
      "\r",
      "Iterations:  25%|████████▌                         | 76/300 [01:00<02:44,  1.36it/s]"
     ]
    },
    {
     "name": "stdout",
     "output_type": "stream",
     "text": [
      "Epoch  75 , loss 0.425759672534232\n",
      "Epoch  76 , loss 0.42579299036194296\n"
     ]
    },
    {
     "name": "stderr",
     "output_type": "stream",
     "text": [
      "\r",
      "Iterations:  26%|████████▋                         | 77/300 [01:01<02:57,  1.26it/s]"
     ]
    },
    {
     "name": "stdout",
     "output_type": "stream",
     "text": [
      "Epoch:  76\n",
      "t_loss:  0.42579299036194296 , v_loss:  0.590302586555481\n",
      "t_acc:  0.6996576408341114 , v_acc:  0.7080745341614907\n",
      "t_recall:  0.5100966223356802 , v_recall:  0.540990990990991\n",
      "t_prec:  0.6878063516917421 , v_prec:  0.711038961038961\n",
      "t_f:  0.4354603330380642 , v_f:  0.4990400529625952\n",
      "////////\n"
     ]
    },
    {
     "name": "stderr",
     "output_type": "stream",
     "text": [
      "\r",
      "Iterations:  26%|████████▊                         | 78/300 [01:01<02:42,  1.37it/s]"
     ]
    },
    {
     "name": "stdout",
     "output_type": "stream",
     "text": [
      "Epoch  77 , loss 0.4226523269625271\n",
      "Epoch  78 , loss 0.42485740430214824\n"
     ]
    },
    {
     "name": "stderr",
     "output_type": "stream",
     "text": [
      "\r",
      "Iterations:  26%|████████▉                         | 79/300 [01:02<02:55,  1.26it/s]"
     ]
    },
    {
     "name": "stdout",
     "output_type": "stream",
     "text": [
      "Epoch:  78\n",
      "t_loss:  0.42485740430214824 , v_loss:  0.5900035798549652\n",
      "t_acc:  0.6968565203859322 , v_acc:  0.7080745341614907\n",
      "t_recall:  0.5063579967335062 , v_recall:  0.540990990990991\n",
      "t_prec:  0.6285781692356087 , v_prec:  0.711038961038961\n",
      "t_f:  0.4288227271997208 , v_f:  0.4990400529625952\n",
      "////////\n"
     ]
    },
    {
     "name": "stderr",
     "output_type": "stream",
     "text": [
      "\r",
      "Iterations:  27%|█████████                         | 80/300 [01:03<02:40,  1.37it/s]"
     ]
    },
    {
     "name": "stdout",
     "output_type": "stream",
     "text": [
      "Epoch  79 , loss 0.4283855779498231\n",
      "Epoch  80 , loss 0.4211992884383482\n"
     ]
    },
    {
     "name": "stderr",
     "output_type": "stream",
     "text": [
      "\r",
      "Iterations:  27%|█████████▏                        | 81/300 [01:04<02:53,  1.26it/s]"
     ]
    },
    {
     "name": "stdout",
     "output_type": "stream",
     "text": [
      "Epoch:  80\n",
      "t_loss:  0.4211992884383482 , v_loss:  0.588744913538297\n",
      "t_acc:  0.7009025832555245 , v_acc:  0.7080745341614907\n",
      "t_recall:  0.5115665445162707 , v_recall:  0.540990990990991\n",
      "t_prec:  0.7151482401797263 , v_prec:  0.711038961038961\n",
      "t_f:  0.4378003938337614 , v_f:  0.4990400529625952\n",
      "////////\n"
     ]
    },
    {
     "name": "stderr",
     "output_type": "stream",
     "text": [
      "\r",
      "Iterations:  27%|█████████▎                        | 82/300 [01:04<02:39,  1.37it/s]"
     ]
    },
    {
     "name": "stdout",
     "output_type": "stream",
     "text": [
      "Epoch  81 , loss 0.42511849368319793\n",
      "Epoch  82 , loss 0.4237833361999661\n"
     ]
    },
    {
     "name": "stderr",
     "output_type": "stream",
     "text": [
      "\r",
      "Iterations:  28%|█████████▍                        | 83/300 [01:05<02:51,  1.26it/s]"
     ]
    },
    {
     "name": "stdout",
     "output_type": "stream",
     "text": [
      "Epoch:  82\n",
      "t_loss:  0.4237833361999661 , v_loss:  0.5881037066380183\n",
      "t_acc:  0.7009025832555245 , v_acc:  0.7142857142857143\n",
      "t_recall:  0.5130042135024224 , v_recall:  0.5509909909909909\n",
      "t_prec:  0.6910256582572815 , v_prec:  0.7312091503267975\n",
      "t_f:  0.44225450571484054 , v_f:  0.5163270637408569\n",
      "////////\n"
     ]
    },
    {
     "name": "stderr",
     "output_type": "stream",
     "text": [
      "\r",
      "Iterations:  28%|█████████▌                        | 84/300 [01:06<02:36,  1.38it/s]"
     ]
    },
    {
     "name": "stdout",
     "output_type": "stream",
     "text": [
      "Epoch  83 , loss 0.42198359557226595\n",
      "Epoch  84 , loss 0.41890613880811955\n"
     ]
    },
    {
     "name": "stderr",
     "output_type": "stream",
     "text": [
      "\r",
      "Iterations:  28%|█████████▋                        | 85/300 [01:07<02:50,  1.26it/s]"
     ]
    },
    {
     "name": "stdout",
     "output_type": "stream",
     "text": [
      "Epoch:  84\n",
      "t_loss:  0.41890613880811955 , v_loss:  0.585741842786471\n",
      "t_acc:  0.6999688764394647 , v_acc:  0.7204968944099379\n",
      "t_recall:  0.5111829373739037 , v_recall:  0.5609909909909909\n",
      "t_prec:  0.6835383159886471 , v_prec:  0.7474415204678362\n",
      "t_f:  0.43829078801331856 , v_f:  0.5330927369981311\n",
      "////////\n"
     ]
    },
    {
     "name": "stderr",
     "output_type": "stream",
     "text": [
      "\r",
      "Iterations:  29%|█████████▋                        | 86/300 [01:07<02:36,  1.37it/s]"
     ]
    },
    {
     "name": "stdout",
     "output_type": "stream",
     "text": [
      "Epoch  85 , loss 0.41929550030652213\n",
      "Epoch  86 , loss 0.41947203056485044\n"
     ]
    },
    {
     "name": "stderr",
     "output_type": "stream",
     "text": [
      "\r",
      "Iterations:  29%|█████████▊                        | 87/300 [01:08<02:47,  1.27it/s]"
     ]
    },
    {
     "name": "stdout",
     "output_type": "stream",
     "text": [
      "Epoch:  86\n",
      "t_loss:  0.41947203056485044 , v_loss:  0.5852328389883041\n",
      "t_acc:  0.7046374105197635 , v_acc:  0.7204968944099379\n",
      "t_recall:  0.5165513786525028 , v_recall:  0.5609909909909909\n",
      "t_prec:  0.7781848798941962 , v_prec:  0.7474415204678362\n",
      "t_f:  0.44659078761166826 , v_f:  0.5330927369981311\n",
      "////////\n"
     ]
    },
    {
     "name": "stderr",
     "output_type": "stream",
     "text": [
      "\r",
      "Iterations:  29%|█████████▉                        | 88/300 [01:09<02:34,  1.37it/s]"
     ]
    },
    {
     "name": "stdout",
     "output_type": "stream",
     "text": [
      "Epoch  87 , loss 0.4202391733141506\n",
      "Epoch  88 , loss 0.42402032485195235\n"
     ]
    },
    {
     "name": "stderr",
     "output_type": "stream",
     "text": [
      "\r",
      "Iterations:  30%|██████████                        | 89/300 [01:10<02:47,  1.26it/s]"
     ]
    },
    {
     "name": "stdout",
     "output_type": "stream",
     "text": [
      "Epoch:  88\n",
      "t_loss:  0.42402032485195235 , v_loss:  0.5834579120079676\n",
      "t_acc:  0.7024587612822907 , v_acc:  0.7204968944099379\n",
      "t_recall:  0.5129726465461633 , v_recall:  0.5609909909909909\n",
      "t_prec:  0.7623466498899025 , v_prec:  0.7474415204678362\n",
      "t_f:  0.4393783646847363 , v_f:  0.5330927369981311\n",
      "////////\n"
     ]
    },
    {
     "name": "stderr",
     "output_type": "stream",
     "text": [
      "\r",
      "Iterations:  30%|██████████▏                       | 90/300 [01:10<02:33,  1.36it/s]"
     ]
    },
    {
     "name": "stdout",
     "output_type": "stream",
     "text": [
      "Epoch  89 , loss 0.42332328476157843\n",
      "Epoch  90 , loss 0.4204898090923534\n"
     ]
    },
    {
     "name": "stderr",
     "output_type": "stream",
     "text": [
      "\r",
      "Iterations:  30%|██████████▎                       | 91/300 [01:11<02:45,  1.27it/s]"
     ]
    },
    {
     "name": "stdout",
     "output_type": "stream",
     "text": [
      "Epoch:  90\n",
      "t_loss:  0.4204898090923534 , v_loss:  0.5841858386993408\n",
      "t_acc:  0.7018362900715842 , v_acc:  0.7204968944099379\n",
      "t_recall:  0.5139628882392501 , v_recall:  0.5609909909909909\n",
      "t_prec:  0.7095008305761865 , v_prec:  0.7474415204678362\n",
      "t_f:  0.4435556998565346 , v_f:  0.5330927369981311\n",
      "////////\n"
     ]
    },
    {
     "name": "stderr",
     "output_type": "stream",
     "text": [
      "\r",
      "Iterations:  31%|██████████▍                       | 92/300 [01:12<02:31,  1.37it/s]"
     ]
    },
    {
     "name": "stdout",
     "output_type": "stream",
     "text": [
      "Epoch  91 , loss 0.4221350807769626\n",
      "Epoch  92 , loss 0.42070799890686483\n"
     ]
    },
    {
     "name": "stderr",
     "output_type": "stream",
     "text": [
      "\r",
      "Iterations:  31%|██████████▌                       | 93/300 [01:13<02:45,  1.25it/s]"
     ]
    },
    {
     "name": "stdout",
     "output_type": "stream",
     "text": [
      "Epoch:  92\n",
      "t_loss:  0.42070799890686483 , v_loss:  0.583120216925939\n",
      "t_acc:  0.7015250544662309 , v_acc:  0.7267080745341615\n",
      "t_recall:  0.5143142421871784 , v_recall:  0.5709909909909909\n",
      "t_prec:  0.694022770398482 , v_prec:  0.7609271523178809\n",
      "t_f:  0.445167950448662 , v_f:  0.5493638676844783\n",
      "////////\n"
     ]
    },
    {
     "name": "stderr",
     "output_type": "stream",
     "text": [
      "\r",
      "Iterations:  31%|██████████▋                       | 94/300 [01:13<02:32,  1.35it/s]"
     ]
    },
    {
     "name": "stdout",
     "output_type": "stream",
     "text": [
      "Epoch  93 , loss 0.4243737903295779\n",
      "Epoch  94 , loss 0.42097313614452586\n"
     ]
    },
    {
     "name": "stderr",
     "output_type": "stream",
     "text": [
      "\r",
      "Iterations:  32%|██████████▊                       | 95/300 [01:14<02:44,  1.25it/s]"
     ]
    },
    {
     "name": "stdout",
     "output_type": "stream",
     "text": [
      "Epoch:  94\n",
      "t_loss:  0.42097313614452586 , v_loss:  0.5825265447298685\n",
      "t_acc:  0.702769996887644 , v_acc:  0.7267080745341615\n",
      "t_recall:  0.5152090967733081 , v_recall:  0.5709909909909909\n",
      "t_prec:  0.7234143358288194 , v_prec:  0.7609271523178809\n",
      "t_f:  0.4457367876770788 , v_f:  0.5493638676844783\n",
      "////////\n"
     ]
    },
    {
     "name": "stderr",
     "output_type": "stream",
     "text": [
      "\r",
      "Iterations:  32%|██████████▉                       | 96/300 [01:15<02:31,  1.35it/s]"
     ]
    },
    {
     "name": "stdout",
     "output_type": "stream",
     "text": [
      "Epoch  95 , loss 0.42149922134829504\n",
      "Epoch  96 , loss 0.42207933348767895\n"
     ]
    },
    {
     "name": "stderr",
     "output_type": "stream",
     "text": [
      "\r",
      "Iterations:  32%|██████████▉                       | 97/300 [01:16<02:43,  1.24it/s]"
     ]
    },
    {
     "name": "stdout",
     "output_type": "stream",
     "text": [
      "Epoch:  96\n",
      "t_loss:  0.42207933348767895 , v_loss:  0.5793081372976303\n",
      "t_acc:  0.6993464052287581 , v_acc:  0.7204968944099379\n",
      "t_recall:  0.5115981114725299 , v_recall:  0.5664864864864865\n",
      "t_prec:  0.6603003477711034 , v_prec:  0.7236363636363636\n",
      "t_f:  0.4406780577328683 , v_f:  0.5449406444318825\n",
      "////////\n"
     ]
    },
    {
     "name": "stderr",
     "output_type": "stream",
     "text": [
      "\r",
      "Iterations:  33%|███████████                       | 98/300 [01:16<02:30,  1.34it/s]"
     ]
    },
    {
     "name": "stdout",
     "output_type": "stream",
     "text": [
      "Epoch  97 , loss 0.41763243605108824\n",
      "Epoch  98 , loss 0.4185958154061261\n"
     ]
    },
    {
     "name": "stderr",
     "output_type": "stream",
     "text": [
      "\r",
      "Iterations:  33%|███████████▏                      | 99/300 [01:17<02:40,  1.25it/s]"
     ]
    },
    {
     "name": "stdout",
     "output_type": "stream",
     "text": [
      "Epoch:  98\n",
      "t_loss:  0.4185958154061261 , v_loss:  0.5789929926395416\n",
      "t_acc:  0.7037037037037037 , v_acc:  0.7204968944099379\n",
      "t_recall:  0.5167428391045964 , v_recall:  0.5664864864864865\n",
      "t_prec:  0.731406892190958 , v_prec:  0.7236363636363636\n",
      "t_f:  0.4487841728381891 , v_f:  0.5449406444318825\n",
      "////////\n"
     ]
    },
    {
     "name": "stderr",
     "output_type": "stream",
     "text": [
      "\r",
      "Iterations:  33%|███████████                      | 100/300 [01:18<02:27,  1.36it/s]"
     ]
    },
    {
     "name": "stdout",
     "output_type": "stream",
     "text": [
      "Epoch  99 , loss 0.42173420681672935\n",
      "Epoch  100 , loss 0.4292161575719422\n"
     ]
    },
    {
     "name": "stderr",
     "output_type": "stream",
     "text": [
      "\r",
      "Iterations:  34%|███████████                      | 101/300 [01:19<02:38,  1.26it/s]"
     ]
    },
    {
     "name": "stdout",
     "output_type": "stream",
     "text": [
      "Epoch:  100\n",
      "t_loss:  0.4292161575719422 , v_loss:  0.5802983542283376\n",
      "t_acc:  0.7021475256769374 , v_acc:  0.7204968944099379\n",
      "t_recall:  0.5153367370747038 , v_recall:  0.5664864864864865\n",
      "t_prec:  0.7001641987102938 , v_prec:  0.7236363636363636\n",
      "t_f:  0.44719425339948166 , v_f:  0.5449406444318825\n",
      "////////\n"
     ]
    },
    {
     "name": "stderr",
     "output_type": "stream",
     "text": [
      "\r",
      "Iterations:  34%|███████████▏                     | 102/300 [01:20<02:27,  1.35it/s]"
     ]
    },
    {
     "name": "stdout",
     "output_type": "stream",
     "text": [
      "Epoch  101 , loss 0.42333512504895526\n",
      "Epoch  102 , loss 0.42349981852606233\n"
     ]
    },
    {
     "name": "stderr",
     "output_type": "stream",
     "text": [
      "\r",
      "Iterations:  34%|███████████▎                     | 103/300 [01:20<02:38,  1.25it/s]"
     ]
    },
    {
     "name": "stdout",
     "output_type": "stream",
     "text": [
      "Epoch:  102\n",
      "t_loss:  0.42349981852606233 , v_loss:  0.5777651816606522\n",
      "t_acc:  0.7009025832555245 , v_acc:  0.7204968944099379\n",
      "t_recall:  0.5135792810968831 , v_recall:  0.5664864864864865\n",
      "t_prec:  0.6840607210626186 , v_prec:  0.7236363636363636\n",
      "t_f:  0.4440108450272827 , v_f:  0.5449406444318825\n",
      "////////\n"
     ]
    },
    {
     "name": "stderr",
     "output_type": "stream",
     "text": [
      "\r",
      "Iterations:  35%|███████████▍                     | 104/300 [01:21<02:24,  1.36it/s]"
     ]
    },
    {
     "name": "stdout",
     "output_type": "stream",
     "text": [
      "Epoch  103 , loss 0.42373787889293596\n",
      "Epoch  104 , loss 0.42049023625897425\n"
     ]
    },
    {
     "name": "stderr",
     "output_type": "stream",
     "text": [
      "\r",
      "Iterations:  35%|███████████▌                     | 105/300 [01:22<02:35,  1.26it/s]"
     ]
    },
    {
     "name": "stdout",
     "output_type": "stream",
     "text": [
      "Epoch:  104\n",
      "t_loss:  0.42049023625897425 , v_loss:  0.5762716929117838\n",
      "t_acc:  0.7033924680983504 , v_acc:  0.7204968944099379\n",
      "t_recall:  0.516519125458064 , v_recall:  0.5664864864864865\n",
      "t_prec:  0.7239089184060721 , v_prec:  0.7236363636363636\n",
      "t_f:  0.44863926671279963 , v_f:  0.5449406444318825\n",
      "////////\n"
     ]
    },
    {
     "name": "stderr",
     "output_type": "stream",
     "text": [
      "\r",
      "Iterations:  35%|███████████▋                     | 106/300 [01:23<02:24,  1.34it/s]"
     ]
    },
    {
     "name": "stdout",
     "output_type": "stream",
     "text": [
      "Epoch  105 , loss 0.41785885656581206\n",
      "Epoch  106 , loss 0.41652839499361377\n"
     ]
    },
    {
     "name": "stderr",
     "output_type": "stream",
     "text": [
      "\r",
      "Iterations:  36%|███████████▊                     | 107/300 [01:24<02:34,  1.25it/s]"
     ]
    },
    {
     "name": "stdout",
     "output_type": "stream",
     "text": [
      "Epoch:  106\n",
      "t_loss:  0.41652839499361377 , v_loss:  0.5768751253684362\n",
      "t_acc:  0.7012138188608776 , v_acc:  0.7204968944099379\n",
      "t_recall:  0.5132279271489549 , v_recall:  0.5664864864864865\n",
      "t_prec:  0.6984733872407023 , v_prec:  0.7236363636363636\n",
      "t_f:  0.4423940207330618 , v_f:  0.5449406444318825\n",
      "////////\n"
     ]
    },
    {
     "name": "stderr",
     "output_type": "stream",
     "text": [
      "\r",
      "Iterations:  36%|███████████▉                     | 108/300 [01:24<02:21,  1.35it/s]"
     ]
    },
    {
     "name": "stdout",
     "output_type": "stream",
     "text": [
      "Epoch  107 , loss 0.42013877513361914\n",
      "Epoch  108 , loss 0.4261928259157667\n"
     ]
    },
    {
     "name": "stderr",
     "output_type": "stream",
     "text": [
      "\r",
      "Iterations:  36%|███████████▉                     | 109/300 [01:25<02:31,  1.26it/s]"
     ]
    },
    {
     "name": "stdout",
     "output_type": "stream",
     "text": [
      "Epoch:  108\n",
      "t_loss:  0.4261928259157667 , v_loss:  0.5765243271986643\n",
      "t_acc:  0.7058823529411765 , v_acc:  0.7204968944099379\n",
      "t_recall:  0.5206091050081663 , v_recall:  0.5664864864864865\n",
      "t_prec:  0.7420816181765421 , v_prec:  0.7236363636363636\n",
      "t_f:  0.45668012253254203 , v_f:  0.5449406444318825\n",
      "////////\n"
     ]
    },
    {
     "name": "stderr",
     "output_type": "stream",
     "text": [
      "\r",
      "Iterations:  37%|████████████                     | 110/300 [01:26<02:20,  1.35it/s]"
     ]
    },
    {
     "name": "stdout",
     "output_type": "stream",
     "text": [
      "Epoch  109 , loss 0.41754017916380193\n",
      "Epoch  110 , loss 0.4165859789240594\n"
     ]
    },
    {
     "name": "stderr",
     "output_type": "stream",
     "text": [
      "\r",
      "Iterations:  37%|████████████▏                    | 111/300 [01:27<02:29,  1.26it/s]"
     ]
    },
    {
     "name": "stdout",
     "output_type": "stream",
     "text": [
      "Epoch:  110\n",
      "t_loss:  0.4165859789240594 , v_loss:  0.5754026770591736\n",
      "t_acc:  0.7033924680983504 , v_acc:  0.7204968944099379\n",
      "t_recall:  0.517381726849755 , v_recall:  0.5664864864864865\n",
      "t_prec:  0.7112017210326196 , v_prec:  0.7236363636363636\n",
      "t_f:  0.4512254724057003 , v_f:  0.5449406444318825\n",
      "////////\n"
     ]
    },
    {
     "name": "stderr",
     "output_type": "stream",
     "text": [
      "\r",
      "Iterations:  37%|████████████▎                    | 112/300 [01:27<02:16,  1.38it/s]"
     ]
    },
    {
     "name": "stdout",
     "output_type": "stream",
     "text": [
      "Epoch  111 , loss 0.42096640491018106\n",
      "Epoch  112 , loss 0.4194929862723631\n"
     ]
    },
    {
     "name": "stderr",
     "output_type": "stream",
     "text": [
      "\r",
      "Iterations:  38%|████████████▍                    | 113/300 [01:28<02:26,  1.28it/s]"
     ]
    },
    {
     "name": "stdout",
     "output_type": "stream",
     "text": [
      "Epoch:  112\n",
      "t_loss:  0.4194929862723631 , v_loss:  0.5758685519297918\n",
      "t_acc:  0.7015250544662309 , v_acc:  0.7267080745341615\n",
      "t_recall:  0.514889309781639 , v_recall:  0.5764864864864865\n",
      "t_prec:  0.6873769359203178 , v_prec:  0.7374161073825503\n",
      "t_f:  0.446906453796458 , v_f:  0.5605459057071961\n",
      "////////\n"
     ]
    },
    {
     "name": "stderr",
     "output_type": "stream",
     "text": [
      "\r",
      "Iterations:  38%|████████████▌                    | 114/300 [01:29<02:15,  1.37it/s]"
     ]
    },
    {
     "name": "stdout",
     "output_type": "stream",
     "text": [
      "Epoch  113 , loss 0.4208987618193907\n",
      "Epoch  114 , loss 0.41718525687853497\n"
     ]
    },
    {
     "name": "stderr",
     "output_type": "stream",
     "text": [
      "\r",
      "Iterations:  38%|████████████▋                    | 115/300 [01:30<02:26,  1.27it/s]"
     ]
    },
    {
     "name": "stdout",
     "output_type": "stream",
     "text": [
      "Epoch:  114\n",
      "t_loss:  0.41718525687853497 , v_loss:  0.5760817875464758\n",
      "t_acc:  0.7086834733893558 , v_acc:  0.7204968944099379\n",
      "t_recall:  0.5249227982048009 , v_recall:  0.5664864864864865\n",
      "t_prec:  0.7622844267267528 , v_prec:  0.7236363636363636\n",
      "t_f:  0.46476761619190404 , v_f:  0.5449406444318825\n",
      "////////\n"
     ]
    },
    {
     "name": "stderr",
     "output_type": "stream",
     "text": [
      "\r",
      "Iterations:  39%|████████████▊                    | 116/300 [01:30<02:14,  1.37it/s]"
     ]
    },
    {
     "name": "stdout",
     "output_type": "stream",
     "text": [
      "Epoch  115 , loss 0.4144639162456288\n",
      "Epoch  116 , loss 0.4159721410741993\n"
     ]
    },
    {
     "name": "stderr",
     "output_type": "stream",
     "text": [
      "\r",
      "Iterations:  39%|████████████▊                    | 117/300 [01:31<02:23,  1.27it/s]"
     ]
    },
    {
     "name": "stdout",
     "output_type": "stream",
     "text": [
      "Epoch:  116\n",
      "t_loss:  0.4159721410741993 , v_loss:  0.5767925481001536\n",
      "t_acc:  0.7018362900715842 , v_acc:  0.7142857142857143\n",
      "t_recall:  0.5151130234281714 , v_recall:  0.561981981981982\n",
      "t_prec:  0.6936530547641659 , v_prec:  0.6923937360178971\n",
      "t_f:  0.4470503401712498 , v_f:  0.5405707196029776\n",
      "////////\n"
     ]
    },
    {
     "name": "stderr",
     "output_type": "stream",
     "text": [
      "\r",
      "Iterations:  39%|████████████▉                    | 118/300 [01:32<02:13,  1.36it/s]"
     ]
    },
    {
     "name": "stdout",
     "output_type": "stream",
     "text": [
      "Epoch  117 , loss 0.4141236800773471\n",
      "Epoch  118 , loss 0.41395969133751065\n"
     ]
    },
    {
     "name": "stderr",
     "output_type": "stream",
     "text": [
      "\r",
      "Iterations:  40%|█████████████                    | 119/300 [01:33<02:23,  1.26it/s]"
     ]
    },
    {
     "name": "stdout",
     "output_type": "stream",
     "text": [
      "Epoch:  118\n",
      "t_loss:  0.41395969133751065 , v_loss:  0.5762844085693359\n",
      "t_acc:  0.7033924680983504 , v_acc:  0.7204968944099379\n",
      "t_recall:  0.5168066592552943 , v_recall:  0.571981981981982\n",
      "t_prec:  0.7193485789347982 , v_prec:  0.7076403326403327\n",
      "t_f:  0.44950483123271273 , v_f:  0.555984555984556\n",
      "////////\n"
     ]
    },
    {
     "name": "stderr",
     "output_type": "stream",
     "text": [
      "\r",
      "Iterations:  40%|█████████████▏                   | 120/300 [01:33<02:10,  1.38it/s]"
     ]
    },
    {
     "name": "stdout",
     "output_type": "stream",
     "text": [
      "Epoch  119 , loss 0.41885677622813805\n",
      "Epoch  120 , loss 0.4199647996939865\n"
     ]
    },
    {
     "name": "stderr",
     "output_type": "stream",
     "text": [
      "\r",
      "Iterations:  40%|█████████████▎                   | 121/300 [01:34<02:21,  1.26it/s]"
     ]
    },
    {
     "name": "stdout",
     "output_type": "stream",
     "text": [
      "Epoch:  120\n",
      "t_loss:  0.4199647996939865 , v_loss:  0.575534368554751\n",
      "t_acc:  0.7018362900715842 , v_acc:  0.7204968944099379\n",
      "t_recall:  0.5145379558337108 , v_recall:  0.571981981981982\n",
      "t_prec:  0.7009326588681631 , v_prec:  0.7076403326403327\n",
      "t_f:  0.4453101235073374 , v_f:  0.555984555984556\n",
      "////////\n"
     ]
    },
    {
     "name": "stderr",
     "output_type": "stream",
     "text": [
      "\r",
      "Iterations:  41%|█████████████▍                   | 122/300 [01:35<02:10,  1.36it/s]"
     ]
    },
    {
     "name": "stdout",
     "output_type": "stream",
     "text": [
      "Epoch  121 , loss 0.4186652466362598\n",
      "Epoch  122 , loss 0.417891484265234\n"
     ]
    },
    {
     "name": "stderr",
     "output_type": "stream",
     "text": [
      "\r",
      "Iterations:  41%|█████████████▌                   | 123/300 [01:36<02:20,  1.26it/s]"
     ]
    },
    {
     "name": "stdout",
     "output_type": "stream",
     "text": [
      "Epoch:  122\n",
      "t_loss:  0.417891484265234 , v_loss:  0.5746272951364517\n",
      "t_acc:  0.7024587612822907 , v_acc:  0.7204968944099379\n",
      "t_recall:  0.5172856535046183 , v_recall:  0.571981981981982\n",
      "t_prec:  0.6874776714830104 , v_prec:  0.7076403326403327\n",
      "t_f:  0.4524852195885727 , v_f:  0.555984555984556\n",
      "////////\n"
     ]
    },
    {
     "name": "stderr",
     "output_type": "stream",
     "text": [
      "\r",
      "Iterations:  41%|█████████████▋                   | 124/300 [01:36<02:09,  1.35it/s]"
     ]
    },
    {
     "name": "stdout",
     "output_type": "stream",
     "text": [
      "Epoch  123 , loss 0.41903888127383065\n",
      "Epoch  124 , loss 0.417217168153501\n"
     ]
    },
    {
     "name": "stderr",
     "output_type": "stream",
     "text": [
      "\r",
      "Iterations:  42%|█████████████▊                   | 125/300 [01:37<02:20,  1.25it/s]"
     ]
    },
    {
     "name": "stdout",
     "output_type": "stream",
     "text": [
      "Epoch:  124\n",
      "t_loss:  0.417217168153501 , v_loss:  0.5762030730644861\n",
      "t_acc:  0.6993464052287581 , v_acc:  0.7142857142857143\n",
      "t_recall:  0.5124607128642209 , v_recall:  0.561981981981982\n",
      "t_prec:  0.6540624010136205 , v_prec:  0.6923937360178971\n",
      "t_f:  0.44330486027010435 , v_f:  0.5405707196029776\n",
      "////////\n"
     ]
    },
    {
     "name": "stderr",
     "output_type": "stream",
     "text": [
      "\r",
      "Iterations:  42%|█████████████▊                   | 126/300 [01:38<02:07,  1.36it/s]"
     ]
    },
    {
     "name": "stdout",
     "output_type": "stream",
     "text": [
      "Epoch  125 , loss 0.4200296588972503\n",
      "Epoch  126 , loss 0.418878656392004\n"
     ]
    },
    {
     "name": "stderr",
     "output_type": "stream",
     "text": [
      "\r",
      "Iterations:  42%|█████████████▉                   | 127/300 [01:39<02:16,  1.26it/s]"
     ]
    },
    {
     "name": "stdout",
     "output_type": "stream",
     "text": [
      "Epoch:  126\n",
      "t_loss:  0.418878656392004 , v_loss:  0.5772662162780762\n",
      "t_acc:  0.7030812324929971 , v_acc:  0.7204968944099379\n",
      "t_recall:  0.5162954118115316 , v_recall:  0.571981981981982\n",
      "t_prec:  0.716697491056871 , v_prec:  0.7076403326403327\n",
      "t_f:  0.4484943899472461 , v_f:  0.555984555984556\n",
      "////////\n"
     ]
    },
    {
     "name": "stderr",
     "output_type": "stream",
     "text": [
      "\r",
      "Iterations:  43%|██████████████                   | 128/300 [01:39<02:05,  1.37it/s]"
     ]
    },
    {
     "name": "stdout",
     "output_type": "stream",
     "text": [
      "Epoch  127 , loss 0.4156811254865983\n",
      "Epoch  128 , loss 0.4147036081435634\n"
     ]
    },
    {
     "name": "stderr",
     "output_type": "stream",
     "text": [
      "\r",
      "Iterations:  43%|██████████████▏                  | 129/300 [01:40<02:15,  1.26it/s]"
     ]
    },
    {
     "name": "stdout",
     "output_type": "stream",
     "text": [
      "Epoch:  128\n",
      "t_loss:  0.4147036081435634 , v_loss:  0.5758346170186996\n",
      "t_acc:  0.7009025832555245 , v_acc:  0.7204968944099379\n",
      "t_recall:  0.5147294162858045 , v_recall:  0.571981981981982\n",
      "t_prec:  0.6730167771890416 , v_prec:  0.7076403326403327\n",
      "t_f:  0.44748105582409825 , v_f:  0.555984555984556\n",
      "////////\n"
     ]
    },
    {
     "name": "stderr",
     "output_type": "stream",
     "text": [
      "\r",
      "Iterations:  43%|██████████████▎                  | 130/300 [01:41<02:03,  1.37it/s]"
     ]
    },
    {
     "name": "stdout",
     "output_type": "stream",
     "text": [
      "Epoch  129 , loss 0.4191051522890727\n",
      "Epoch  130 , loss 0.41538070259140986\n"
     ]
    },
    {
     "name": "stderr",
     "output_type": "stream",
     "text": [
      "\r",
      "Iterations:  44%|██████████████▍                  | 131/300 [01:42<02:14,  1.26it/s]"
     ]
    },
    {
     "name": "stdout",
     "output_type": "stream",
     "text": [
      "Epoch:  130\n",
      "t_loss:  0.41538070259140986 , v_loss:  0.5738020241260529\n",
      "t_acc:  0.7024587612822907 , v_acc:  0.7204968944099379\n",
      "t_recall:  0.5155604507212364 , v_recall:  0.571981981981982\n",
      "t_prec:  0.7069239286496484 , v_prec:  0.7076403326403327\n",
      "t_f:  0.4473381936997561 , v_f:  0.555984555984556\n",
      "////////\n"
     ]
    },
    {
     "name": "stderr",
     "output_type": "stream",
     "text": [
      "\r",
      "Iterations:  44%|██████████████▌                  | 132/300 [01:42<02:04,  1.35it/s]"
     ]
    },
    {
     "name": "stdout",
     "output_type": "stream",
     "text": [
      "Epoch  131 , loss 0.41417402321217106\n",
      "Epoch  132 , loss 0.4091939715778126\n"
     ]
    },
    {
     "name": "stderr",
     "output_type": "stream",
     "text": [
      "\r",
      "Iterations:  44%|██████████████▋                  | 133/300 [01:43<02:14,  1.24it/s]"
     ]
    },
    {
     "name": "stdout",
     "output_type": "stream",
     "text": [
      "Epoch:  132\n",
      "t_loss:  0.4091939715778126 , v_loss:  0.5734418878952662\n",
      "t_acc:  0.704014939309057 , v_acc:  0.7204968944099379\n",
      "t_recall:  0.5166790189538986 , v_recall:  0.571981981981982\n",
      "t_prec:  0.7450067875431782 , v_prec:  0.7076403326403327\n",
      "t_f:  0.4480583089852376 , v_f:  0.555984555984556\n",
      "////////\n"
     ]
    },
    {
     "name": "stderr",
     "output_type": "stream",
     "text": [
      "\r",
      "Iterations:  45%|██████████████▋                  | 134/300 [01:44<02:02,  1.36it/s]"
     ]
    },
    {
     "name": "stdout",
     "output_type": "stream",
     "text": [
      "Epoch  133 , loss 0.41339227498746384\n",
      "Epoch  134 , loss 0.4132996446946088\n"
     ]
    },
    {
     "name": "stderr",
     "output_type": "stream",
     "text": [
      "\r",
      "Iterations:  45%|██████████████▊                  | 135/300 [01:45<02:10,  1.26it/s]"
     ]
    },
    {
     "name": "stdout",
     "output_type": "stream",
     "text": [
      "Epoch:  134\n",
      "t_loss:  0.4132996446946088 , v_loss:  0.5746475507815679\n",
      "t_acc:  0.702769996887644 , v_acc:  0.7204968944099379\n",
      "t_recall:  0.5177969009483812 , v_recall:  0.571981981981982\n",
      "t_prec:  0.6901133809011827 , v_prec:  0.7076403326403327\n",
      "t_f:  0.453480818934079 , v_f:  0.555984555984556\n",
      "////////\n"
     ]
    },
    {
     "name": "stderr",
     "output_type": "stream",
     "text": [
      "\r",
      "Iterations:  45%|██████████████▉                  | 136/300 [01:46<02:00,  1.36it/s]"
     ]
    },
    {
     "name": "stdout",
     "output_type": "stream",
     "text": [
      "Epoch  135 , loss 0.4122941140450683\n",
      "Epoch  136 , loss 0.42245511856733586\n"
     ]
    },
    {
     "name": "stderr",
     "output_type": "stream",
     "text": [
      "\r",
      "Iterations:  46%|███████████████                  | 137/300 [01:46<02:10,  1.25it/s]"
     ]
    },
    {
     "name": "stdout",
     "output_type": "stream",
     "text": [
      "Epoch:  136\n",
      "t_loss:  0.42245511856733586 , v_loss:  0.5738743841648102\n",
      "t_acc:  0.7024587612822907 , v_acc:  0.7204968944099379\n",
      "t_recall:  0.515272916924006 , v_recall:  0.571981981981982\n",
      "t_prec:  0.7110907366424281 , v_prec:  0.7076403326403327\n",
      "t_f:  0.44646813995095463 , v_f:  0.555984555984556\n",
      "////////\n"
     ]
    },
    {
     "name": "stderr",
     "output_type": "stream",
     "text": [
      "\r",
      "Iterations:  46%|███████████████▏                 | 138/300 [01:47<01:58,  1.37it/s]"
     ]
    },
    {
     "name": "stdout",
     "output_type": "stream",
     "text": [
      "Epoch  137 , loss 0.4156781657069337\n",
      "Epoch  138 , loss 0.41175102515547884\n"
     ]
    },
    {
     "name": "stderr",
     "output_type": "stream",
     "text": [
      "\r",
      "Iterations:  46%|███████████████▎                 | 139/300 [01:48<02:06,  1.27it/s]"
     ]
    },
    {
     "name": "stdout",
     "output_type": "stream",
     "text": [
      "Epoch:  138\n",
      "t_loss:  0.41175102515547884 , v_loss:  0.5710918257633845\n",
      "t_acc:  0.7068160597572363 , v_acc:  0.7204968944099379\n",
      "t_recall:  0.5230054487311456 , v_recall:  0.571981981981982\n",
      "t_prec:  0.7351351351351352 , v_prec:  0.7076403326403327\n",
      "t_f:  0.4621667247151478 , v_f:  0.555984555984556\n",
      "////////\n"
     ]
    },
    {
     "name": "stderr",
     "output_type": "stream",
     "text": [
      "\r",
      "Iterations:  47%|███████████████▍                 | 140/300 [01:49<01:57,  1.36it/s]"
     ]
    },
    {
     "name": "stdout",
     "output_type": "stream",
     "text": [
      "Epoch  139 , loss 0.4239134613205405\n",
      "Epoch  140 , loss 0.41002067981981766\n"
     ]
    },
    {
     "name": "stderr",
     "output_type": "stream",
     "text": [
      "\r",
      "Iterations:  47%|███████████████▌                 | 141/300 [01:50<02:07,  1.25it/s]"
     ]
    },
    {
     "name": "stdout",
     "output_type": "stream",
     "text": [
      "Epoch:  140\n",
      "t_loss:  0.41002067981981766 , v_loss:  0.5700797488292059\n",
      "t_acc:  0.7052598817304699 , v_acc:  0.7204968944099379\n",
      "t_recall:  0.5218868804984834 , v_recall:  0.571981981981982\n",
      "t_prec:  0.7087121542622807 , v_prec:  0.7076403326403327\n",
      "t_f:  0.461383665611931 , v_f:  0.555984555984556\n",
      "////////\n"
     ]
    },
    {
     "name": "stderr",
     "output_type": "stream",
     "text": [
      "\r",
      "Iterations:  47%|███████████████▌                 | 142/300 [01:50<01:56,  1.35it/s]"
     ]
    },
    {
     "name": "stdout",
     "output_type": "stream",
     "text": [
      "Epoch  141 , loss 0.4165796707658207\n",
      "Epoch  142 , loss 0.4131171726712994\n"
     ]
    },
    {
     "name": "stderr",
     "output_type": "stream",
     "text": [
      "\r",
      "Iterations:  48%|███████████████▋                 | 143/300 [01:51<02:04,  1.26it/s]"
     ]
    },
    {
     "name": "stdout",
     "output_type": "stream",
     "text": [
      "Epoch:  142\n",
      "t_loss:  0.4131171726712994 , v_loss:  0.57024713853995\n",
      "t_acc:  0.7074385309679427 , v_acc:  0.7204968944099379\n",
      "t_recall:  0.5240279436186711 , v_recall:  0.571981981981982\n",
      "t_prec:  0.7387209672287623 , v_prec:  0.7076403326403327\n",
      "t_f:  0.4641336346267945 , v_f:  0.555984555984556\n",
      "////////\n"
     ]
    },
    {
     "name": "stderr",
     "output_type": "stream",
     "text": [
      "\r",
      "Iterations:  48%|███████████████▊                 | 144/300 [01:52<01:55,  1.35it/s]"
     ]
    },
    {
     "name": "stdout",
     "output_type": "stream",
     "text": [
      "Epoch  143 , loss 0.41226942398968863\n",
      "Epoch  144 , loss 0.41159626081878065\n"
     ]
    },
    {
     "name": "stderr",
     "output_type": "stream",
     "text": [
      "\r",
      "Iterations:  48%|███████████████▉                 | 145/300 [01:53<02:03,  1.26it/s]"
     ]
    },
    {
     "name": "stdout",
     "output_type": "stream",
     "text": [
      "Epoch:  144\n",
      "t_loss:  0.41159626081878065 , v_loss:  0.570270225405693\n",
      "t_acc:  0.7018362900715842 , v_acc:  0.7204968944099379\n",
      "t_recall:  0.5177008276032445 , v_recall:  0.571981981981982\n",
      "t_prec:  0.6710840496657116 , v_prec:  0.7076403326403327\n",
      "t_f:  0.45470982142857147 , v_f:  0.555984555984556\n",
      "////////\n"
     ]
    },
    {
     "name": "stderr",
     "output_type": "stream",
     "text": [
      "\r",
      "Iterations:  49%|████████████████                 | 146/300 [01:53<01:53,  1.36it/s]"
     ]
    },
    {
     "name": "stdout",
     "output_type": "stream",
     "text": [
      "Epoch  145 , loss 0.41706087893130733\n",
      "Epoch  146 , loss 0.4098648239000171\n"
     ]
    },
    {
     "name": "stderr",
     "output_type": "stream",
     "text": [
      "\r",
      "Iterations:  49%|████████████████▏                | 147/300 [01:54<02:01,  1.26it/s]"
     ]
    },
    {
     "name": "stdout",
     "output_type": "stream",
     "text": [
      "Epoch:  146\n",
      "t_loss:  0.4098648239000171 , v_loss:  0.5706208546956381\n",
      "t_acc:  0.7061935885465297 , v_acc:  0.7204968944099379\n",
      "t_recall:  0.5225580214380807 , v_recall:  0.571981981981982\n",
      "t_prec:  0.7241170855870187 , v_prec:  0.7076403326403327\n",
      "t_f:  0.46185335222095103 , v_f:  0.555984555984556\n",
      "////////\n"
     ]
    },
    {
     "name": "stderr",
     "output_type": "stream",
     "text": [
      "\r",
      "Iterations:  49%|████████████████▎                | 148/300 [01:55<01:53,  1.34it/s]"
     ]
    },
    {
     "name": "stdout",
     "output_type": "stream",
     "text": [
      "Epoch  147 , loss 0.41369335733208\n",
      "Epoch  148 , loss 0.41534050773171816\n"
     ]
    },
    {
     "name": "stderr",
     "output_type": "stream",
     "text": [
      "\r",
      "Iterations:  50%|████████████████▍                | 149/300 [01:56<02:00,  1.25it/s]"
     ]
    },
    {
     "name": "stdout",
     "output_type": "stream",
     "text": [
      "Epoch:  148\n",
      "t_loss:  0.41534050773171816 , v_loss:  0.5694812287886938\n",
      "t_acc:  0.704014939309057 , v_acc:  0.7267080745341615\n",
      "t_recall:  0.5186917555345109 , v_recall:  0.581981981981982\n",
      "t_prec:  0.7124958392277607 , v_prec:  0.7210884353741497\n",
      "t_f:  0.45408035921504253 , v_f:  0.5709786821705426\n",
      "////////\n"
     ]
    },
    {
     "name": "stderr",
     "output_type": "stream",
     "text": [
      "\r",
      "Iterations:  50%|████████████████▌                | 150/300 [01:56<01:49,  1.37it/s]"
     ]
    },
    {
     "name": "stdout",
     "output_type": "stream",
     "text": [
      "Epoch  149 , loss 0.41621065782565697\n",
      "Epoch  150 , loss 0.41228671634898467\n"
     ]
    },
    {
     "name": "stderr",
     "output_type": "stream",
     "text": [
      "\r",
      "Iterations:  50%|████████████████▌                | 151/300 [01:57<01:57,  1.27it/s]"
     ]
    },
    {
     "name": "stdout",
     "output_type": "stream",
     "text": [
      "Epoch:  150\n",
      "t_loss:  0.41228671634898467 , v_loss:  0.5678266783555349\n",
      "t_acc:  0.7111733582321818 , v_acc:  0.7267080745341615\n",
      "t_recall:  0.5290127777549032 , v_recall:  0.581981981981982\n",
      "t_prec:  0.7730125793203206 , v_prec:  0.7210884353741497\n",
      "t_f:  0.47259371625952873 , v_f:  0.5709786821705426\n",
      "////////\n"
     ]
    },
    {
     "name": "stderr",
     "output_type": "stream",
     "text": [
      "\r",
      "Iterations:  51%|████████████████▋                | 152/300 [01:58<01:48,  1.36it/s]"
     ]
    },
    {
     "name": "stdout",
     "output_type": "stream",
     "text": [
      "Epoch  151 , loss 0.41812524433229487\n",
      "Epoch  152 , loss 0.4134889934577194\n"
     ]
    },
    {
     "name": "stderr",
     "output_type": "stream",
     "text": [
      "\r",
      "Iterations:  51%|████████████████▊                | 153/300 [01:59<01:56,  1.26it/s]"
     ]
    },
    {
     "name": "stdout",
     "output_type": "stream",
     "text": [
      "Epoch:  152\n",
      "t_loss:  0.4134889934577194 , v_loss:  0.5693690280119578\n",
      "t_acc:  0.7049486461251168 , v_acc:  0.7267080745341615\n",
      "t_recall:  0.5193628964741083 , v_recall:  0.581981981981982\n",
      "t_prec:  0.7312913273949395 , v_prec:  0.7210884353741497\n",
      "t_f:  0.4545304116732688 , v_f:  0.5709786821705426\n",
      "////////\n"
     ]
    },
    {
     "name": "stderr",
     "output_type": "stream",
     "text": [
      "\r",
      "Iterations:  51%|████████████████▉                | 154/300 [01:59<01:47,  1.36it/s]"
     ]
    },
    {
     "name": "stdout",
     "output_type": "stream",
     "text": [
      "Epoch  153 , loss 0.4157589919426862\n",
      "Epoch  154 , loss 0.41246480626218457\n"
     ]
    },
    {
     "name": "stderr",
     "output_type": "stream",
     "text": [
      "\r",
      "Iterations:  52%|█████████████████                | 155/300 [02:00<01:54,  1.27it/s]"
     ]
    },
    {
     "name": "stdout",
     "output_type": "stream",
     "text": [
      "Epoch:  154\n",
      "t_loss:  0.41246480626218457 , v_loss:  0.5704160084327062\n",
      "t_acc:  0.7037037037037037 , v_acc:  0.7204968944099379\n",
      "t_recall:  0.5201932446713605 , v_recall:  0.571981981981982\n",
      "t_prec:  0.6900200614759391 , v_prec:  0.7076403326403327\n",
      "t_f:  0.4589538985765855 , v_f:  0.555984555984556\n",
      "////////\n"
     ]
    },
    {
     "name": "stderr",
     "output_type": "stream",
     "text": [
      "\r",
      "Iterations:  52%|█████████████████▏               | 156/300 [02:01<01:45,  1.36it/s]"
     ]
    },
    {
     "name": "stdout",
     "output_type": "stream",
     "text": [
      "Epoch  155 , loss 0.416620880949731\n",
      "Epoch  156 , loss 0.4140755791290134\n"
     ]
    },
    {
     "name": "stderr",
     "output_type": "stream",
     "text": [
      "\r",
      "Iterations:  52%|█████████████████▎               | 157/300 [02:02<01:52,  1.27it/s]"
     ]
    },
    {
     "name": "stdout",
     "output_type": "stream",
     "text": [
      "Epoch:  156\n",
      "t_loss:  0.4140755791290134 , v_loss:  0.5697659899791082\n",
      "t_acc:  0.7093059446000622 , v_acc:  0.7267080745341615\n",
      "t_recall:  0.5265203606867872 , v_recall:  0.581981981981982\n",
      "t_prec:  0.7563276026743075 , v_prec:  0.7210884353741497\n",
      "t_f:  0.4683705357142857 , v_f:  0.5709786821705426\n",
      "////////\n"
     ]
    },
    {
     "name": "stderr",
     "output_type": "stream",
     "text": [
      "\r",
      "Iterations:  53%|█████████████████▍               | 158/300 [02:02<01:43,  1.37it/s]"
     ]
    },
    {
     "name": "stdout",
     "output_type": "stream",
     "text": [
      "Epoch  157 , loss 0.4198358947155522\n",
      "Epoch  158 , loss 0.4099683323327233\n"
     ]
    },
    {
     "name": "stderr",
     "output_type": "stream",
     "text": [
      "\r",
      "Iterations:  53%|█████████████████▍               | 159/300 [02:03<01:51,  1.27it/s]"
     ]
    },
    {
     "name": "stdout",
     "output_type": "stream",
     "text": [
      "Epoch:  158\n",
      "t_loss:  0.4099683323327233 , v_loss:  0.5699344178040823\n",
      "t_acc:  0.7061935885465297 , v_acc:  0.7204968944099379\n",
      "t_recall:  0.5234206228297718 , v_recall:  0.571981981981982\n",
      "t_prec:  0.7147270271630624 , v_prec:  0.7076403326403327\n",
      "t_f:  0.4643191698892706 , v_f:  0.555984555984556\n",
      "////////\n"
     ]
    },
    {
     "name": "stderr",
     "output_type": "stream",
     "text": [
      "\r",
      "Iterations:  53%|█████████████████▌               | 160/300 [02:04<01:42,  1.36it/s]"
     ]
    },
    {
     "name": "stdout",
     "output_type": "stream",
     "text": [
      "Epoch  159 , loss 0.41856512427330017\n",
      "Epoch  160 , loss 0.4131539744489333\n"
     ]
    },
    {
     "name": "stderr",
     "output_type": "stream",
     "text": [
      "\r",
      "Iterations:  54%|█████████████████▋               | 161/300 [02:05<01:50,  1.26it/s]"
     ]
    },
    {
     "name": "stdout",
     "output_type": "stream",
     "text": [
      "Epoch:  160\n",
      "t_loss:  0.4131539744489333 , v_loss:  0.5689495702584585\n",
      "t_acc:  0.7099284158107687 , v_acc:  0.7204968944099379\n",
      "t_recall:  0.526967787979852 , v_recall:  0.571981981981982\n",
      "t_prec:  0.7679287305122495 , v_prec:  0.7076403326403327\n",
      "t_f:  0.4686941994384813 , v_f:  0.555984555984556\n",
      "////////\n"
     ]
    },
    {
     "name": "stderr",
     "output_type": "stream",
     "text": [
      "\r",
      "Iterations:  54%|█████████████████▊               | 162/300 [02:05<01:41,  1.36it/s]"
     ]
    },
    {
     "name": "stdout",
     "output_type": "stream",
     "text": [
      "Epoch  161 , loss 0.41436005047723357\n",
      "Epoch  162 , loss 0.414013298703175\n"
     ]
    },
    {
     "name": "stderr",
     "output_type": "stream",
     "text": [
      "\r",
      "Iterations:  54%|█████████████████▉               | 163/300 [02:06<01:47,  1.27it/s]"
     ]
    },
    {
     "name": "stdout",
     "output_type": "stream",
     "text": [
      "Epoch:  162\n",
      "t_loss:  0.414013298703175 , v_loss:  0.5670560151338577\n",
      "t_acc:  0.704014939309057 , v_acc:  0.7329192546583851\n",
      "t_recall:  0.5212795597095841 , v_recall:  0.591981981981982\n",
      "t_prec:  0.6878680539287358 , v_prec:  0.7331050228310503\n",
      "t_f:  0.46157793267457653 , v_f:  0.5855731816821312\n",
      "////////\n"
     ]
    },
    {
     "name": "stderr",
     "output_type": "stream",
     "text": [
      "\r",
      "Iterations:  55%|██████████████████               | 164/300 [02:07<01:39,  1.36it/s]"
     ]
    },
    {
     "name": "stdout",
     "output_type": "stream",
     "text": [
      "Epoch  163 , loss 0.41439707372702805\n",
      "Epoch  164 , loss 0.40709438510969576\n"
     ]
    },
    {
     "name": "stderr",
     "output_type": "stream",
     "text": [
      "\r",
      "Iterations:  55%|██████████████████▏              | 165/300 [02:08<01:46,  1.26it/s]"
     ]
    },
    {
     "name": "stdout",
     "output_type": "stream",
     "text": [
      "Epoch:  164\n",
      "t_loss:  0.40709438510969576 , v_loss:  0.5691388050715128\n",
      "t_acc:  0.7055711173358232 , v_acc:  0.7329192546583851\n",
      "t_recall:  0.5221105941450158 , v_recall:  0.591981981981982\n",
      "t_prec:  0.7137058261700095 , v_prec:  0.7331050228310503\n",
      "t_f:  0.46154017857142854 , v_f:  0.5855731816821312\n",
      "////////\n"
     ]
    },
    {
     "name": "stderr",
     "output_type": "stream",
     "text": [
      "\r",
      "Iterations:  55%|██████████████████▎              | 166/300 [02:08<01:37,  1.37it/s]"
     ]
    },
    {
     "name": "stdout",
     "output_type": "stream",
     "text": [
      "Epoch  165 , loss 0.4084387389468212\n",
      "Epoch  166 , loss 0.41644656891916315\n"
     ]
    },
    {
     "name": "stderr",
     "output_type": "stream",
     "text": [
      "\r",
      "Iterations:  56%|██████████████████▎              | 167/300 [02:09<01:44,  1.27it/s]"
     ]
    },
    {
     "name": "stdout",
     "output_type": "stream",
     "text": [
      "Epoch:  166\n",
      "t_loss:  0.41644656891916315 , v_loss:  0.5680269300937653\n",
      "t_acc:  0.7068160597572363 , v_acc:  0.7329192546583851\n",
      "t_recall:  0.5253057191089884 , v_recall:  0.591981981981982\n",
      "t_prec:  0.7104506232023011 , v_prec:  0.7331050228310503\n",
      "t_f:  0.46868956887726076 , v_f:  0.5855731816821312\n",
      "////////\n"
     ]
    },
    {
     "name": "stderr",
     "output_type": "stream",
     "text": [
      "\r",
      "Iterations:  56%|██████████████████▍              | 168/300 [02:10<01:36,  1.37it/s]"
     ]
    },
    {
     "name": "stdout",
     "output_type": "stream",
     "text": [
      "Epoch  167 , loss 0.4122967550567552\n",
      "Epoch  168 , loss 0.41597886763367\n"
     ]
    },
    {
     "name": "stderr",
     "output_type": "stream",
     "text": [
      "\r",
      "Iterations:  56%|██████████████████▌              | 169/300 [02:11<01:44,  1.26it/s]"
     ]
    },
    {
     "name": "stdout",
     "output_type": "stream",
     "text": [
      "Epoch:  168\n",
      "t_loss:  0.41597886763367 , v_loss:  0.5698748032251993\n",
      "t_acc:  0.6996576408341114 , v_acc:  0.7391304347826086\n",
      "t_recall:  0.5155597644830567 , v_recall:  0.5964864864864865\n",
      "t_prec:  0.6445124282982791 , v_prec:  0.7602040816326531\n",
      "t_f:  0.451984518986194 , v_f:  0.5904796511627907\n",
      "////////\n"
     ]
    },
    {
     "name": "stderr",
     "output_type": "stream",
     "text": [
      "\r",
      "Iterations:  57%|██████████████████▋              | 170/300 [02:11<01:35,  1.36it/s]"
     ]
    },
    {
     "name": "stdout",
     "output_type": "stream",
     "text": [
      "Epoch  169 , loss 0.41426773573838027\n",
      "Epoch  170 , loss 0.4098050471614389\n"
     ]
    },
    {
     "name": "stderr",
     "output_type": "stream",
     "text": [
      "\r",
      "Iterations:  57%|██████████████████▊              | 171/300 [02:12<01:40,  1.28it/s]"
     ]
    },
    {
     "name": "stdout",
     "output_type": "stream",
     "text": [
      "Epoch:  170\n",
      "t_loss:  0.4098050471614389 , v_loss:  0.5691678325335184\n",
      "t_acc:  0.7046374105197635 , v_acc:  0.7329192546583851\n",
      "t_recall:  0.5225895883943399 , v_recall:  0.591981981981982\n",
      "t_prec:  0.6900650525424381 , v_prec:  0.7331050228310503\n",
      "t_f:  0.464336779823146 , v_f:  0.5855731816821312\n",
      "////////\n"
     ]
    },
    {
     "name": "stderr",
     "output_type": "stream",
     "text": [
      "\r",
      "Iterations:  57%|██████████████████▉              | 172/300 [02:13<01:33,  1.37it/s]"
     ]
    },
    {
     "name": "stdout",
     "output_type": "stream",
     "text": [
      "Epoch  171 , loss 0.4177333496364893\n",
      "Epoch  172 , loss 0.41051922943077834\n"
     ]
    },
    {
     "name": "stderr",
     "output_type": "stream",
     "text": [
      "\r",
      "Iterations:  58%|███████████████████              | 173/300 [02:14<01:39,  1.27it/s]"
     ]
    },
    {
     "name": "stdout",
     "output_type": "stream",
     "text": [
      "Epoch:  172\n",
      "t_loss:  0.41051922943077834 , v_loss:  0.5687901924053828\n",
      "t_acc:  0.7052598817304699 , v_acc:  0.7329192546583851\n",
      "t_recall:  0.5218868804984834 , v_recall:  0.591981981981982\n",
      "t_prec:  0.7087121542622807 , v_prec:  0.7331050228310503\n",
      "t_f:  0.461383665611931 , v_f:  0.5855731816821312\n",
      "////////\n"
     ]
    },
    {
     "name": "stderr",
     "output_type": "stream",
     "text": [
      "\r",
      "Iterations:  58%|███████████████████▏             | 174/300 [02:14<01:31,  1.38it/s]"
     ]
    },
    {
     "name": "stdout",
     "output_type": "stream",
     "text": [
      "Epoch  173 , loss 0.4106433385727452\n",
      "Epoch  174 , loss 0.4102841089753544\n"
     ]
    },
    {
     "name": "stderr",
     "output_type": "stream",
     "text": [
      "\r",
      "Iterations:  58%|███████████████████▎             | 175/300 [02:15<01:38,  1.27it/s]"
     ]
    },
    {
     "name": "stdout",
     "output_type": "stream",
     "text": [
      "Epoch:  174\n",
      "t_loss:  0.4102841089753544 , v_loss:  0.5664447396993637\n",
      "t_acc:  0.707749766573296 , v_acc:  0.7329192546583851\n",
      "t_recall:  0.5265519276430464 , v_recall:  0.591981981981982\n",
      "t_prec:  0.7182864450127877 , v_prec:  0.7331050228310503\n",
      "t_f:  0.47078120897007103 , v_f:  0.5855731816821312\n",
      "////////\n"
     ]
    },
    {
     "name": "stderr",
     "output_type": "stream",
     "text": [
      "\r",
      "Iterations:  59%|███████████████████▎             | 176/300 [02:16<01:31,  1.35it/s]"
     ]
    },
    {
     "name": "stdout",
     "output_type": "stream",
     "text": [
      "Epoch  175 , loss 0.4125889019638884\n",
      "Epoch  176 , loss 0.4094535585711984\n"
     ]
    },
    {
     "name": "stderr",
     "output_type": "stream",
     "text": [
      "\r",
      "Iterations:  59%|███████████████████▍             | 177/300 [02:17<01:38,  1.25it/s]"
     ]
    },
    {
     "name": "stdout",
     "output_type": "stream",
     "text": [
      "Epoch:  176\n",
      "t_loss:  0.4094535585711984 , v_loss:  0.5673932631810507\n",
      "t_acc:  0.710239651416122 , v_acc:  0.7329192546583851\n",
      "t_recall:  0.5274790354236149 , v_recall:  0.591981981981982\n",
      "t_prec:  0.7692485274473064 , v_prec:  0.7331050228310503\n",
      "t_f:  0.4696716037821651 , v_f:  0.5855731816821312\n",
      "////////\n"
     ]
    },
    {
     "name": "stderr",
     "output_type": "stream",
     "text": [
      "\r",
      "Iterations:  59%|███████████████████▌             | 178/300 [02:18<01:30,  1.35it/s]"
     ]
    },
    {
     "name": "stdout",
     "output_type": "stream",
     "text": [
      "Epoch  177 , loss 0.4153096255134134\n",
      "Epoch  178 , loss 0.4128985527683707\n"
     ]
    },
    {
     "name": "stderr",
     "output_type": "stream",
     "text": [
      "\r",
      "Iterations:  60%|███████████████████▋             | 179/300 [02:18<01:35,  1.26it/s]"
     ]
    },
    {
     "name": "stdout",
     "output_type": "stream",
     "text": [
      "Epoch:  178\n",
      "t_loss:  0.4128985527683707 , v_loss:  0.5664591391881307\n",
      "t_acc:  0.707749766573296 , v_acc:  0.7391304347826086\n",
      "t_recall:  0.525401792454125 , v_recall:  0.5964864864864865\n",
      "t_prec:  0.7299397031539889 , v_prec:  0.7602040816326531\n",
      "t_f:  0.46756241391146597 , v_f:  0.5904796511627907\n",
      "////////\n"
     ]
    },
    {
     "name": "stderr",
     "output_type": "stream",
     "text": [
      "\r",
      "Iterations:  60%|███████████████████▊             | 180/300 [02:19<01:28,  1.35it/s]"
     ]
    },
    {
     "name": "stdout",
     "output_type": "stream",
     "text": [
      "Epoch  179 , loss 0.41257569544455586\n",
      "Epoch  180 , loss 0.41232044614997565\n"
     ]
    },
    {
     "name": "stderr",
     "output_type": "stream",
     "text": [
      "\r",
      "Iterations:  60%|███████████████████▉             | 181/300 [02:20<01:33,  1.27it/s]"
     ]
    },
    {
     "name": "stdout",
     "output_type": "stream",
     "text": [
      "Epoch:  180\n",
      "t_loss:  0.41232044614997565 , v_loss:  0.5662512083848318\n",
      "t_acc:  0.7083722377840025 , v_acc:  0.7391304347826086\n",
      "t_recall:  0.5267118211388808 , v_recall:  0.5964864864864865\n",
      "t_prec:  0.7301511281396339 , v_prec:  0.7602040816326531\n",
      "t_f:  0.4703087961210862 , v_f:  0.5904796511627907\n",
      "////////\n"
     ]
    },
    {
     "name": "stderr",
     "output_type": "stream",
     "text": [
      "\r",
      "Iterations:  61%|████████████████████             | 182/300 [02:21<01:26,  1.37it/s]"
     ]
    },
    {
     "name": "stdout",
     "output_type": "stream",
     "text": [
      "Epoch  181 , loss 0.41284918901967066\n",
      "Epoch  182 , loss 0.4101451582768384\n"
     ]
    },
    {
     "name": "stderr",
     "output_type": "stream",
     "text": [
      "\r",
      "Iterations:  61%|████████████████████▏            | 183/300 [02:22<01:31,  1.27it/s]"
     ]
    },
    {
     "name": "stdout",
     "output_type": "stream",
     "text": [
      "Epoch:  182\n",
      "t_loss:  0.4101451582768384 , v_loss:  0.5654681970675787\n",
      "t_acc:  0.702769996887644 , v_acc:  0.7391304347826086\n",
      "t_recall:  0.5195221037317632 , v_recall:  0.601981981981982\n",
      "t_prec:  0.6767161410018553 , v_prec:  0.7439655172413793\n",
      "t_f:  0.4584899949791799 , v_f:  0.5997869318181819\n",
      "////////\n"
     ]
    },
    {
     "name": "stderr",
     "output_type": "stream",
     "text": [
      "\r",
      "Iterations:  61%|████████████████████▏            | 184/300 [02:22<01:24,  1.37it/s]"
     ]
    },
    {
     "name": "stdout",
     "output_type": "stream",
     "text": [
      "Epoch  183 , loss 0.4113463841232599\n",
      "Epoch  184 , loss 0.40877721064230976\n"
     ]
    },
    {
     "name": "stderr",
     "output_type": "stream",
     "text": [
      "\r",
      "Iterations:  62%|████████████████████▎            | 185/300 [02:23<01:31,  1.25it/s]"
     ]
    },
    {
     "name": "stdout",
     "output_type": "stream",
     "text": [
      "Epoch:  184\n",
      "t_loss:  0.40877721064230976 , v_loss:  0.5636519541343054\n",
      "t_acc:  0.710239651416122 , v_acc:  0.7391304347826086\n",
      "t_recall:  0.5297793058014576 , v_recall:  0.601981981981982\n",
      "t_prec:  0.7393440995433185 , v_prec:  0.7439655172413793\n",
      "t_f:  0.47607998297563786 , v_f:  0.5997869318181819\n",
      "////////\n"
     ]
    },
    {
     "name": "stderr",
     "output_type": "stream",
     "text": [
      "\r",
      "Iterations:  62%|████████████████████▍            | 186/300 [02:24<01:23,  1.37it/s]"
     ]
    },
    {
     "name": "stdout",
     "output_type": "stream",
     "text": [
      "Epoch  185 , loss 0.41583458699432074\n",
      "Epoch  186 , loss 0.409177083010767\n"
     ]
    },
    {
     "name": "stderr",
     "output_type": "stream",
     "text": [
      "\r",
      "Iterations:  62%|████████████████████▌            | 187/300 [02:25<01:29,  1.27it/s]"
     ]
    },
    {
     "name": "stdout",
     "output_type": "stream",
     "text": [
      "Epoch:  186\n",
      "t_loss:  0.409177083010767 , v_loss:  0.5641901791095734\n",
      "t_acc:  0.7071272953625894 , v_acc:  0.7453416149068323\n",
      "t_recall:  0.5255294327555208 , v_recall:  0.6064864864864865\n",
      "t_prec:  0.7148004157203895 , v_prec:  0.7698630136986302\n",
      "t_f:  0.46885238125772427 , v_f:  0.604848847650404\n",
      "////////\n"
     ]
    },
    {
     "name": "stderr",
     "output_type": "stream",
     "text": [
      "\r",
      "Iterations:  63%|████████████████████▋            | 188/300 [02:25<01:21,  1.37it/s]"
     ]
    },
    {
     "name": "stdout",
     "output_type": "stream",
     "text": [
      "Epoch  187 , loss 0.4093106798097199\n",
      "Epoch  188 , loss 0.40986772670465355\n"
     ]
    },
    {
     "name": "stderr",
     "output_type": "stream",
     "text": [
      "\r",
      "Iterations:  63%|████████████████████▊            | 189/300 [02:26<01:27,  1.27it/s]"
     ]
    },
    {
     "name": "stdout",
     "output_type": "stream",
     "text": [
      "Epoch:  188\n",
      "t_loss:  0.40986772670465355 , v_loss:  0.5685557126998901\n",
      "t_acc:  0.7049486461251168 , v_acc:  0.7453416149068323\n",
      "t_recall:  0.5213756330547206 , v_recall:  0.6064864864864865\n",
      "t_prec:  0.7066021967526266 , v_prec:  0.7698630136986302\n",
      "t_f:  0.4604017857142857 , v_f:  0.604848847650404\n",
      "////////\n"
     ]
    },
    {
     "name": "stderr",
     "output_type": "stream",
     "text": [
      "\r",
      "Iterations:  63%|████████████████████▉            | 190/300 [02:27<01:19,  1.38it/s]"
     ]
    },
    {
     "name": "stdout",
     "output_type": "stream",
     "text": [
      "Epoch  189 , loss 0.41524075000893834\n",
      "Epoch  190 , loss 0.4077574038038067\n"
     ]
    },
    {
     "name": "stderr",
     "output_type": "stream",
     "text": [
      "\r",
      "Iterations:  64%|█████████████████████            | 191/300 [02:28<01:25,  1.28it/s]"
     ]
    },
    {
     "name": "stdout",
     "output_type": "stream",
     "text": [
      "Epoch:  190\n",
      "t_loss:  0.4077574038038067 , v_loss:  0.5677676598230997\n",
      "t_acc:  0.7074385309679427 , v_acc:  0.7391304347826086\n",
      "t_recall:  0.5257531464020533 , v_recall:  0.5964864864864865\n",
      "t_prec:  0.7192551277157613 , v_prec:  0.7602040816326531\n",
      "t_f:  0.46901525327182325 , v_f:  0.5904796511627907\n",
      "////////\n"
     ]
    },
    {
     "name": "stderr",
     "output_type": "stream",
     "text": [
      "\r",
      "Iterations:  64%|█████████████████████            | 192/300 [02:28<01:19,  1.36it/s]"
     ]
    },
    {
     "name": "stdout",
     "output_type": "stream",
     "text": [
      "Epoch  191 , loss 0.411665339680279\n",
      "Epoch  192 , loss 0.40758629114020106\n"
     ]
    },
    {
     "name": "stderr",
     "output_type": "stream",
     "text": [
      "\r",
      "Iterations:  64%|█████████████████████▏           | 193/300 [02:29<01:24,  1.27it/s]"
     ]
    },
    {
     "name": "stdout",
     "output_type": "stream",
     "text": [
      "Epoch:  192\n",
      "t_loss:  0.40758629114020106 , v_loss:  0.5678562124570211\n",
      "t_acc:  0.708994708994709 , v_acc:  0.7453416149068323\n",
      "t_recall:  0.5274467822291761 , v_recall:  0.6064864864864865\n",
      "t_prec:  0.7364836100468284 , v_prec:  0.7698630136986302\n",
      "t_f:  0.47143940701517145 , v_f:  0.604848847650404\n",
      "////////\n"
     ]
    },
    {
     "name": "stderr",
     "output_type": "stream",
     "text": [
      "\r",
      "Iterations:  65%|█████████████████████▎           | 194/300 [02:30<01:17,  1.36it/s]"
     ]
    },
    {
     "name": "stdout",
     "output_type": "stream",
     "text": [
      "Epoch  193 , loss 0.4090868626155105\n",
      "Epoch  194 , loss 0.4057050505105187\n"
     ]
    },
    {
     "name": "stderr",
     "output_type": "stream",
     "text": [
      "\r",
      "Iterations:  65%|█████████████████████▍           | 195/300 [02:31<01:23,  1.26it/s]"
     ]
    },
    {
     "name": "stdout",
     "output_type": "stream",
     "text": [
      "Epoch:  194\n",
      "t_loss:  0.4057050505105187 , v_loss:  0.5665491869052252\n",
      "t_acc:  0.7083722377840025 , v_acc:  0.7453416149068323\n",
      "t_recall:  0.5255616859499594 , v_recall:  0.6064864864864865\n",
      "t_prec:  0.7437549079486956 , v_prec:  0.7698630136986302\n",
      "t_f:  0.4670712720996615 , v_f:  0.604848847650404\n",
      "////////\n"
     ]
    },
    {
     "name": "stderr",
     "output_type": "stream",
     "text": [
      "\r",
      "Iterations:  65%|█████████████████████▌           | 196/300 [02:31<01:17,  1.35it/s]"
     ]
    },
    {
     "name": "stdout",
     "output_type": "stream",
     "text": [
      "Epoch  195 , loss 0.41785309010860966\n",
      "Epoch  196 , loss 0.41190992675575555\n"
     ]
    },
    {
     "name": "stderr",
     "output_type": "stream",
     "text": [
      "\r",
      "Iterations:  66%|█████████████████████▋           | 197/300 [02:32<01:22,  1.25it/s]"
     ]
    },
    {
     "name": "stdout",
     "output_type": "stream",
     "text": [
      "Epoch:  196\n",
      "t_loss:  0.41190992675575555 , v_loss:  0.5675749778747559\n",
      "t_acc:  0.7012138188608776 , v_acc:  0.7453416149068323\n",
      "t_recall:  0.5186910692963314 , v_recall:  0.6064864864864865\n",
      "t_prec:  0.6554410354745925 , v_prec:  0.7698630136986302\n",
      "t_f:  0.45853714025708114 , v_f:  0.604848847650404\n",
      "////////\n"
     ]
    },
    {
     "name": "stderr",
     "output_type": "stream",
     "text": [
      "\r",
      "Iterations:  66%|█████████████████████▊           | 198/300 [02:33<01:15,  1.35it/s]"
     ]
    },
    {
     "name": "stdout",
     "output_type": "stream",
     "text": [
      "Epoch  197 , loss 0.41061370542236403\n",
      "Epoch  198 , loss 0.41054483313186496\n"
     ]
    },
    {
     "name": "stderr",
     "output_type": "stream",
     "text": [
      "\r",
      "Iterations:  66%|█████████████████████▉           | 199/300 [02:34<01:20,  1.26it/s]"
     ]
    },
    {
     "name": "stdout",
     "output_type": "stream",
     "text": [
      "Epoch:  198\n",
      "t_loss:  0.41054483313186496 , v_loss:  0.5661658346652985\n",
      "t_acc:  0.7080610021786492 , v_acc:  0.7453416149068323\n",
      "t_recall:  0.5250504385061967 , v_recall:  0.6064864864864865\n",
      "t_prec:  0.7421203438395416 , v_prec:  0.7698630136986302\n",
      "t_f:  0.46609375000000003 , v_f:  0.604848847650404\n",
      "////////\n"
     ]
    },
    {
     "name": "stderr",
     "output_type": "stream",
     "text": [
      "\r",
      "Iterations:  67%|██████████████████████           | 200/300 [02:34<01:13,  1.36it/s]"
     ]
    },
    {
     "name": "stdout",
     "output_type": "stream",
     "text": [
      "Epoch  199 , loss 0.40777573340079365\n",
      "Epoch  200 , loss 0.40995094939774157\n"
     ]
    },
    {
     "name": "stderr",
     "output_type": "stream",
     "text": [
      "\r",
      "Iterations:  67%|██████████████████████           | 201/300 [02:35<01:18,  1.26it/s]"
     ]
    },
    {
     "name": "stdout",
     "output_type": "stream",
     "text": [
      "Epoch:  200\n",
      "t_loss:  0.40995094939774157 , v_loss:  0.5642635524272919\n",
      "t_acc:  0.708994708994709 , v_acc:  0.7515527950310559\n",
      "t_recall:  0.5294595188097885 , v_recall:  0.6164864864864865\n",
      "t_prec:  0.7173913777387664 , v_prec:  0.7786637931034484\n",
      "t_f:  0.4769714798767151 , v_f:  0.618844696969697\n",
      "////////\n"
     ]
    },
    {
     "name": "stderr",
     "output_type": "stream",
     "text": [
      "\r",
      "Iterations:  67%|██████████████████████▏          | 202/300 [02:36<01:12,  1.36it/s]"
     ]
    },
    {
     "name": "stdout",
     "output_type": "stream",
     "text": [
      "Epoch  201 , loss 0.40550143753781037\n",
      "Epoch  202 , loss 0.4083574151291567\n"
     ]
    },
    {
     "name": "stderr",
     "output_type": "stream",
     "text": [
      "\r",
      "Iterations:  68%|██████████████████████▎          | 203/300 [02:37<01:17,  1.26it/s]"
     ]
    },
    {
     "name": "stdout",
     "output_type": "stream",
     "text": [
      "Epoch:  202\n",
      "t_loss:  0.4083574151291567 , v_loss:  0.5657861530780792\n",
      "t_acc:  0.7071272953625894 , v_acc:  0.7453416149068323\n",
      "t_recall:  0.5252418989582904 , v_recall:  0.6064864864864865\n",
      "t_prec:  0.7174861643252448 , v_prec:  0.7698630136986302\n",
      "t_f:  0.46804757433291594 , v_f:  0.604848847650404\n",
      "////////\n"
     ]
    },
    {
     "name": "stderr",
     "output_type": "stream",
     "text": [
      "\r",
      "Iterations:  68%|██████████████████████▍          | 204/300 [02:37<01:10,  1.36it/s]"
     ]
    },
    {
     "name": "stdout",
     "output_type": "stream",
     "text": [
      "Epoch  203 , loss 0.41428638205808754\n",
      "Epoch  204 , loss 0.40739767808540195\n"
     ]
    },
    {
     "name": "stderr",
     "output_type": "stream",
     "text": [
      "\r",
      "Iterations:  68%|██████████████████████▌          | 205/300 [02:38<01:16,  1.25it/s]"
     ]
    },
    {
     "name": "stdout",
     "output_type": "stream",
     "text": [
      "Epoch:  204\n",
      "t_loss:  0.40739767808540195 , v_loss:  0.5638625572125117\n",
      "t_acc:  0.7111733582321818 , v_acc:  0.7577639751552795\n",
      "t_recall:  0.5310255143355156 , v_recall:  0.6264864864864865\n",
      "t_prec:  0.7466054545454546 , v_prec:  0.7867647058823529\n",
      "t_f:  0.4781607907927529 , v_f:  0.6324846356453029\n",
      "////////\n"
     ]
    },
    {
     "name": "stderr",
     "output_type": "stream",
     "text": [
      "\r",
      "Iterations:  69%|██████████████████████▋          | 206/300 [02:39<01:09,  1.35it/s]"
     ]
    },
    {
     "name": "stdout",
     "output_type": "stream",
     "text": [
      "Epoch  205 , loss 0.4064932062345393\n",
      "Epoch  206 , loss 0.4152923869151695\n"
     ]
    },
    {
     "name": "stderr",
     "output_type": "stream",
     "text": [
      "\r",
      "Iterations:  69%|██████████████████████▊          | 207/300 [02:40<01:13,  1.27it/s]"
     ]
    },
    {
     "name": "stdout",
     "output_type": "stream",
     "text": [
      "Epoch:  206\n",
      "t_loss:  0.4152923869151695 , v_loss:  0.5620488276084264\n",
      "t_acc:  0.7086834733893558 , v_acc:  0.7577639751552795\n",
      "t_recall:  0.5280856699743347 , v_recall:  0.6264864864864865\n",
      "t_prec:  0.7232381818181819 , v_prec:  0.7867647058823529\n",
      "t_f:  0.4736621769202767 , v_f:  0.6324846356453029\n",
      "////////\n"
     ]
    },
    {
     "name": "stderr",
     "output_type": "stream",
     "text": [
      "\r",
      "Iterations:  69%|██████████████████████▉          | 208/300 [02:40<01:06,  1.38it/s]"
     ]
    },
    {
     "name": "stdout",
     "output_type": "stream",
     "text": [
      "Epoch  207 , loss 0.4119308666855681\n",
      "Epoch  208 , loss 0.41214017248621176\n"
     ]
    },
    {
     "name": "stderr",
     "output_type": "stream",
     "text": [
      "\r",
      "Iterations:  70%|██████████████████████▉          | 209/300 [02:41<01:11,  1.27it/s]"
     ]
    },
    {
     "name": "stdout",
     "output_type": "stream",
     "text": [
      "Epoch:  208\n",
      "t_loss:  0.41214017248621176 , v_loss:  0.5629651248455048\n",
      "t_acc:  0.7083722377840025 , v_acc:  0.7639751552795031\n",
      "t_recall:  0.527574422530572 , v_recall:  0.6364864864864865\n",
      "t_prec:  0.7216228737838375 , v_prec:  0.7942890442890442\n",
      "t_f:  0.472703484477092 , v_f:  0.6457850856878184\n",
      "////////\n"
     ]
    },
    {
     "name": "stderr",
     "output_type": "stream",
     "text": [
      "\r",
      "Iterations:  70%|███████████████████████          | 210/300 [02:42<01:05,  1.37it/s]"
     ]
    },
    {
     "name": "stdout",
     "output_type": "stream",
     "text": [
      "Epoch  209 , loss 0.40937354868533565\n",
      "Epoch  210 , loss 0.4041006664435069\n"
     ]
    },
    {
     "name": "stderr",
     "output_type": "stream",
     "text": [
      "\r",
      "Iterations:  70%|███████████████████████▏         | 211/300 [02:43<01:11,  1.25it/s]"
     ]
    },
    {
     "name": "stdout",
     "output_type": "stream",
     "text": [
      "Epoch:  210\n",
      "t_loss:  0.4041006664435069 , v_loss:  0.562903513511022\n",
      "t_acc:  0.7099284158107687 , v_acc:  0.7701863354037267\n",
      "t_recall:  0.5312807949383072 , v_recall:  0.6464864864864865\n",
      "t_prec:  0.7196418246064888 , v_prec:  0.8013343217197924\n",
      "t_f:  0.48058261857813095 , v_f:  0.6587615283267457\n",
      "////////\n"
     ]
    },
    {
     "name": "stderr",
     "output_type": "stream",
     "text": [
      "\r",
      "Iterations:  71%|███████████████████████▎         | 212/300 [02:43<01:04,  1.36it/s]"
     ]
    },
    {
     "name": "stdout",
     "output_type": "stream",
     "text": [
      "Epoch  211 , loss 0.41013041664572325\n",
      "Epoch  212 , loss 0.40785905923329147\n"
     ]
    },
    {
     "name": "stderr",
     "output_type": "stream",
     "text": [
      "\r",
      "Iterations:  71%|███████████████████████▍         | 213/300 [02:44<01:08,  1.27it/s]"
     ]
    },
    {
     "name": "stdout",
     "output_type": "stream",
     "text": [
      "Epoch:  212\n",
      "t_loss:  0.40785905923329147 , v_loss:  0.5622465709845225\n",
      "t_acc:  0.708994708994709 , v_acc:  0.7701863354037267\n",
      "t_recall:  0.5291719850125582 , v_recall:  0.6464864864864865\n",
      "t_prec:  0.719758064516129 , v_prec:  0.8013343217197924\n",
      "t_f:  0.4761904761904763 , v_f:  0.6587615283267457\n",
      "////////\n"
     ]
    },
    {
     "name": "stderr",
     "output_type": "stream",
     "text": [
      "\r",
      "Iterations:  71%|███████████████████████▌         | 214/300 [02:45<01:02,  1.38it/s]"
     ]
    },
    {
     "name": "stdout",
     "output_type": "stream",
     "text": [
      "Epoch  213 , loss 0.4116005687152638\n",
      "Epoch  214 , loss 0.40950726995281145\n"
     ]
    },
    {
     "name": "stderr",
     "output_type": "stream",
     "text": [
      "\r",
      "Iterations:  72%|███████████████████████▋         | 215/300 [02:46<01:06,  1.28it/s]"
     ]
    },
    {
     "name": "stdout",
     "output_type": "stream",
     "text": [
      "Epoch:  214\n",
      "t_loss:  0.40950726995281145 , v_loss:  0.5643563369909922\n",
      "t_acc:  0.7074385309679427 , v_acc:  0.7577639751552795\n",
      "t_recall:  0.5257531464020533 , v_recall:  0.6264864864864865\n",
      "t_prec:  0.7192551277157613 , v_prec:  0.7867647058823529\n",
      "t_f:  0.46901525327182325 , v_f:  0.6324846356453029\n",
      "////////\n"
     ]
    },
    {
     "name": "stderr",
     "output_type": "stream",
     "text": [
      "\r",
      "Iterations:  72%|███████████████████████▊         | 216/300 [02:47<01:01,  1.38it/s]"
     ]
    },
    {
     "name": "stdout",
     "output_type": "stream",
     "text": [
      "Epoch  215 , loss 0.40823525774712655\n",
      "Epoch  216 , loss 0.4120430227588205\n"
     ]
    },
    {
     "name": "stderr",
     "output_type": "stream",
     "text": [
      "\r",
      "Iterations:  72%|███████████████████████▊         | 217/300 [02:47<01:05,  1.28it/s]"
     ]
    },
    {
     "name": "stdout",
     "output_type": "stream",
     "text": [
      "Epoch:  216\n",
      "t_loss:  0.4120430227588205 , v_loss:  0.5619903802871704\n",
      "t_acc:  0.7093059446000622 , v_acc:  0.7639751552795031\n",
      "t_recall:  0.5279580296729389 , v_recall:  0.6364864864864865\n",
      "t_prec:  0.7380268908086718 , v_prec:  0.7942890442890442\n",
      "t_f:  0.4724045176126414 , v_f:  0.6457850856878184\n",
      "////////\n"
     ]
    },
    {
     "name": "stderr",
     "output_type": "stream",
     "text": [
      "\r",
      "Iterations:  73%|███████████████████████▉         | 218/300 [02:48<00:59,  1.39it/s]"
     ]
    },
    {
     "name": "stdout",
     "output_type": "stream",
     "text": [
      "Epoch  217 , loss 0.4075678896670248\n",
      "Epoch  218 , loss 0.4088343896117865\n"
     ]
    },
    {
     "name": "stderr",
     "output_type": "stream",
     "text": [
      "\r",
      "Iterations:  73%|████████████████████████         | 219/300 [02:49<01:03,  1.28it/s]"
     ]
    },
    {
     "name": "stdout",
     "output_type": "stream",
     "text": [
      "Epoch:  218\n",
      "t_loss:  0.4088343896117865 , v_loss:  0.5618186742067337\n",
      "t_acc:  0.7105508870214753 , v_acc:  0.7639751552795031\n",
      "t_recall:  0.53000301944799 , v_recall:  0.6364864864864865\n",
      "t_prec:  0.7438681104558199 , v_prec:  0.7942890442890442\n",
      "t_f:  0.4762485521898741 , v_f:  0.6457850856878184\n",
      "////////\n"
     ]
    },
    {
     "name": "stderr",
     "output_type": "stream",
     "text": [
      "\r",
      "Iterations:  73%|████████████████████████▏        | 220/300 [02:50<00:58,  1.38it/s]"
     ]
    },
    {
     "name": "stdout",
     "output_type": "stream",
     "text": [
      "Epoch  219 , loss 0.4064185295034857\n",
      "Epoch  220 , loss 0.41099406749594447\n"
     ]
    },
    {
     "name": "stderr",
     "output_type": "stream",
     "text": [
      "\r",
      "Iterations:  74%|████████████████████████▎        | 221/300 [02:50<01:01,  1.28it/s]"
     ]
    },
    {
     "name": "stdout",
     "output_type": "stream",
     "text": [
      "Epoch:  220\n",
      "t_loss:  0.41099406749594447 , v_loss:  0.5611138393481573\n",
      "t_acc:  0.7096171802054155 , v_acc:  0.7701863354037267\n",
      "t_recall:  0.528756810913932 , v_recall:  0.6464864864864865\n",
      "t_prec:  0.7364130434782609 , v_prec:  0.8013343217197924\n",
      "t_f:  0.47416279868911215 , v_f:  0.6587615283267457\n",
      "////////\n"
     ]
    },
    {
     "name": "stderr",
     "output_type": "stream",
     "text": [
      "\r",
      "Iterations:  74%|████████████████████████▍        | 222/300 [02:51<00:56,  1.37it/s]"
     ]
    },
    {
     "name": "stdout",
     "output_type": "stream",
     "text": [
      "Epoch  221 , loss 0.4164733512728822\n",
      "Epoch  222 , loss 0.40146050850550336\n"
     ]
    },
    {
     "name": "stderr",
     "output_type": "stream",
     "text": [
      "\r",
      "Iterations:  74%|████████████████████████▌        | 223/300 [02:52<01:00,  1.28it/s]"
     ]
    },
    {
     "name": "stdout",
     "output_type": "stream",
     "text": [
      "Epoch:  222\n",
      "t_loss:  0.40146050850550336 , v_loss:  0.5593387484550476\n",
      "t_acc:  0.7158418923124805 , v_acc:  0.7763975155279503\n",
      "t_recall:  0.5381191583974966 , v_recall:  0.6564864864864866\n",
      "t_prec:  0.7702750043790506 , v_prec:  0.8079787234042553\n",
      "t_f:  0.49079436397920945 , v_f:  0.6714285714285715\n",
      "////////\n"
     ]
    },
    {
     "name": "stderr",
     "output_type": "stream",
     "text": [
      "\r",
      "Iterations:  75%|████████████████████████▋        | 224/300 [02:53<00:55,  1.38it/s]"
     ]
    },
    {
     "name": "stdout",
     "output_type": "stream",
     "text": [
      "Epoch  223 , loss 0.4102364024695228\n",
      "Epoch  224 , loss 0.4036907381286808\n"
     ]
    },
    {
     "name": "stderr",
     "output_type": "stream",
     "text": [
      "\r",
      "Iterations:  75%|████████████████████████▊        | 225/300 [02:53<00:58,  1.28it/s]"
     ]
    },
    {
     "name": "stdout",
     "output_type": "stream",
     "text": [
      "Epoch:  224\n",
      "t_loss:  0.4036907381286808 , v_loss:  0.5578224360942841\n",
      "t_acc:  0.7108621226268285 , v_acc:  0.7763975155279503\n",
      "t_recall:  0.5316644020806741 , v_recall:  0.6564864864864866\n",
      "t_prec:  0.733661929036832 , v_prec:  0.8079787234042553\n",
      "t_f:  0.48032781262616925 , v_f:  0.6714285714285715\n",
      "////////\n"
     ]
    },
    {
     "name": "stderr",
     "output_type": "stream",
     "text": [
      "\r",
      "Iterations:  75%|████████████████████████▊        | 226/300 [02:54<00:53,  1.39it/s]"
     ]
    },
    {
     "name": "stdout",
     "output_type": "stream",
     "text": [
      "Epoch  225 , loss 0.40350404089572384\n",
      "Epoch  226 , loss 0.40476290560236167\n"
     ]
    },
    {
     "name": "stderr",
     "output_type": "stream",
     "text": [
      "\r",
      "Iterations:  76%|████████████████████████▉        | 227/300 [02:55<00:57,  1.28it/s]"
     ]
    },
    {
     "name": "stdout",
     "output_type": "stream",
     "text": [
      "Epoch:  226\n",
      "t_loss:  0.40476290560236167 , v_loss:  0.5593082904815674\n",
      "t_acc:  0.7117958294428882 , v_acc:  0.7763975155279503\n",
      "t_recall:  0.5329106106147322 , v_recall:  0.650990990990991\n",
      "t_prec:  0.740405437921078 , v_prec:  0.8255633255633255\n",
      "t_f:  0.4823915875441541 , v_f:  0.6644279759147753\n",
      "////////\n"
     ]
    },
    {
     "name": "stderr",
     "output_type": "stream",
     "text": [
      "\r",
      "Iterations:  76%|█████████████████████████        | 228/300 [02:56<00:52,  1.38it/s]"
     ]
    },
    {
     "name": "stdout",
     "output_type": "stream",
     "text": [
      "Epoch  227 , loss 0.40522855637120264\n",
      "Epoch  228 , loss 0.4054654398385216\n"
     ]
    },
    {
     "name": "stderr",
     "output_type": "stream",
     "text": [
      "\r",
      "Iterations:  76%|█████████████████████████▏       | 229/300 [02:56<00:55,  1.28it/s]"
     ]
    },
    {
     "name": "stdout",
     "output_type": "stream",
     "text": [
      "Epoch:  228\n",
      "t_loss:  0.4054654398385216 , v_loss:  0.5599593619505564\n",
      "t_acc:  0.7071272953625894 , v_acc:  0.7763975155279503\n",
      "t_recall:  0.5269671017416725 , v_recall:  0.6564864864864866\n",
      "t_prec:  0.7031482630272954 , v_prec:  0.8079787234042553\n",
      "t_f:  0.4728291316526611 , v_f:  0.6714285714285715\n",
      "////////\n"
     ]
    },
    {
     "name": "stderr",
     "output_type": "stream",
     "text": [
      "\r",
      "Iterations:  77%|█████████████████████████▎       | 230/300 [02:57<00:50,  1.38it/s]"
     ]
    },
    {
     "name": "stdout",
     "output_type": "stream",
     "text": [
      "Epoch  229 , loss 0.40677624414948854\n",
      "Epoch  230 , loss 0.4079376599367927\n"
     ]
    },
    {
     "name": "stderr",
     "output_type": "stream",
     "text": [
      "\r",
      "Iterations:  77%|█████████████████████████▍       | 231/300 [02:58<00:53,  1.28it/s]"
     ]
    },
    {
     "name": "stdout",
     "output_type": "stream",
     "text": [
      "Epoch:  230\n",
      "t_loss:  0.4079376599367927 , v_loss:  0.5578968375921249\n",
      "t_acc:  0.7068160597572363 , v_acc:  0.7763975155279503\n",
      "t_recall:  0.5247306515145277 , v_recall:  0.6564864864864866\n",
      "t_prec:  0.7156758697733802 , v_prec:  0.8079787234042553\n",
      "t_f:  0.4670782400220871 , v_f:  0.6714285714285715\n",
      "////////\n"
     ]
    },
    {
     "name": "stderr",
     "output_type": "stream",
     "text": [
      "\r",
      "Iterations:  77%|█████████████████████████▌       | 232/300 [02:59<00:48,  1.39it/s]"
     ]
    },
    {
     "name": "stdout",
     "output_type": "stream",
     "text": [
      "Epoch  231 , loss 0.4080965165414062\n",
      "Epoch  232 , loss 0.4077091146917904\n"
     ]
    },
    {
     "name": "stderr",
     "output_type": "stream",
     "text": [
      "\r",
      "Iterations:  78%|█████████████████████████▋       | 233/300 [02:59<00:52,  1.28it/s]"
     ]
    },
    {
     "name": "stdout",
     "output_type": "stream",
     "text": [
      "Epoch:  232\n",
      "t_loss:  0.4077091146917904 , v_loss:  0.5596193025509516\n",
      "t_acc:  0.7096171802054155 , v_acc:  0.782608695652174\n",
      "t_recall:  0.5310570812917748 , v_recall:  0.660990990990991\n",
      "t_prec:  0.7159812542950953 , v_prec:  0.83117123795404\n",
      "t_f:  0.4804100521144872 , v_f:  0.6772068511198946\n",
      "////////\n"
     ]
    },
    {
     "name": "stderr",
     "output_type": "stream",
     "text": [
      "\r",
      "Iterations:  78%|█████████████████████████▋       | 234/300 [03:00<00:47,  1.39it/s]"
     ]
    },
    {
     "name": "stdout",
     "output_type": "stream",
     "text": [
      "Epoch  233 , loss 0.41017792330068703\n",
      "Epoch  234 , loss 0.40096235859627816\n"
     ]
    },
    {
     "name": "stderr",
     "output_type": "stream",
     "text": [
      "\r",
      "Iterations:  78%|█████████████████████████▊       | 235/300 [03:01<00:50,  1.28it/s]"
     ]
    },
    {
     "name": "stdout",
     "output_type": "stream",
     "text": [
      "Epoch:  234\n",
      "t_loss:  0.40096235859627816 , v_loss:  0.5567537297805151\n",
      "t_acc:  0.707749766573296 , v_acc:  0.7763975155279503\n",
      "t_recall:  0.5288521980208891 , v_recall:  0.6564864864864866\n",
      "t_prec:  0.7006477640051922 , v_prec:  0.8079787234042553\n",
      "t_f:  0.4770686376586317 , v_f:  0.6714285714285715\n",
      "////////\n"
     ]
    },
    {
     "name": "stderr",
     "output_type": "stream",
     "text": [
      "\r",
      "Iterations:  79%|█████████████████████████▉       | 236/300 [03:02<00:46,  1.38it/s]"
     ]
    },
    {
     "name": "stdout",
     "output_type": "stream",
     "text": [
      "Epoch  235 , loss 0.4117187524543089\n",
      "Epoch  236 , loss 0.40957794878997056\n"
     ]
    },
    {
     "name": "stderr",
     "output_type": "stream",
     "text": [
      "\r",
      "Iterations:  79%|██████████████████████████       | 237/300 [03:02<00:49,  1.28it/s]"
     ]
    },
    {
     "name": "stdout",
     "output_type": "stream",
     "text": [
      "Epoch:  236\n",
      "t_loss:  0.40957794878997056 , v_loss:  0.5591823110977808\n",
      "t_acc:  0.7158418923124805 , v_acc:  0.782608695652174\n",
      "t_recall:  0.5398443611808786 , v_recall:  0.660990990990991\n",
      "t_prec:  0.7529405614511997 , v_prec:  0.83117123795404\n",
      "t_f:  0.49527313608257956 , v_f:  0.6772068511198946\n",
      "////////\n"
     ]
    },
    {
     "name": "stderr",
     "output_type": "stream",
     "text": [
      "\r",
      "Iterations:  79%|██████████████████████████▏      | 238/300 [03:03<00:45,  1.37it/s]"
     ]
    },
    {
     "name": "stdout",
     "output_type": "stream",
     "text": [
      "Epoch  237 , loss 0.4022342778888403\n",
      "Epoch  238 , loss 0.4069647455916685\n"
     ]
    },
    {
     "name": "stderr",
     "output_type": "stream",
     "text": [
      "\r",
      "Iterations:  80%|██████████████████████████▎      | 239/300 [03:04<00:48,  1.26it/s]"
     ]
    },
    {
     "name": "stdout",
     "output_type": "stream",
     "text": [
      "Epoch:  238\n",
      "t_loss:  0.4069647455916685 , v_loss:  0.5574902693430582\n",
      "t_acc:  0.7111733582321818 , v_acc:  0.782608695652174\n",
      "t_recall:  0.5327507171188977 , v_recall:  0.660990990990991\n",
      "t_prec:  0.7299630581432701 , v_prec:  0.83117123795404\n",
      "t_f:  0.4828118777258642 , v_f:  0.6772068511198946\n",
      "////////\n"
     ]
    },
    {
     "name": "stderr",
     "output_type": "stream",
     "text": [
      "\r",
      "Iterations:  80%|██████████████████████████▍      | 240/300 [03:05<00:43,  1.37it/s]"
     ]
    },
    {
     "name": "stdout",
     "output_type": "stream",
     "text": [
      "Epoch  239 , loss 0.4021737271664189\n",
      "Epoch  240 , loss 0.40504874902613025\n"
     ]
    },
    {
     "name": "stderr",
     "output_type": "stream",
     "text": [
      "\r",
      "Iterations:  80%|██████████████████████████▌      | 241/300 [03:06<00:47,  1.25it/s]"
     ]
    },
    {
     "name": "stdout",
     "output_type": "stream",
     "text": [
      "Epoch:  240\n",
      "t_loss:  0.40504874902613025 , v_loss:  0.5600539594888687\n",
      "t_acc:  0.7086834733893558 , v_acc:  0.7763975155279503\n",
      "t_recall:  0.5300984065549471 , v_recall:  0.650990990990991\n",
      "t_prec:  0.7073288331726133 , v_prec:  0.8255633255633255\n",
      "t_f:  0.4791245791245791 , v_f:  0.6644279759147753\n",
      "////////\n"
     ]
    },
    {
     "name": "stderr",
     "output_type": "stream",
     "text": [
      "\r",
      "Iterations:  81%|██████████████████████████▌      | 242/300 [03:06<00:42,  1.36it/s]"
     ]
    },
    {
     "name": "stdout",
     "output_type": "stream",
     "text": [
      "Epoch  241 , loss 0.4029613347614513\n",
      "Epoch  242 , loss 0.40578467062875334\n"
     ]
    },
    {
     "name": "stderr",
     "output_type": "stream",
     "text": [
      "\r",
      "Iterations:  81%|██████████████████████████▋      | 243/300 [03:07<00:45,  1.26it/s]"
     ]
    },
    {
     "name": "stdout",
     "output_type": "stream",
     "text": [
      "Epoch:  242\n",
      "t_loss:  0.40578467062875334 , v_loss:  0.5599371443192164\n",
      "t_acc:  0.7142857142857143 , v_acc:  0.7701863354037267\n",
      "t_recall:  0.5370005901648345 , v_recall:  0.640990990990991\n",
      "t_prec:  0.7501329885939085 , v_prec:  0.8196486928104575\n",
      "t_f:  0.4898948636922089 , v_f:  0.6513315774070823\n",
      "////////\n"
     ]
    },
    {
     "name": "stderr",
     "output_type": "stream",
     "text": [
      "\r",
      "Iterations:  81%|██████████████████████████▊      | 244/300 [03:08<00:40,  1.37it/s]"
     ]
    },
    {
     "name": "stdout",
     "output_type": "stream",
     "text": [
      "Epoch  243 , loss 0.40256787748897777\n",
      "Epoch  244 , loss 0.4082491970529743\n"
     ]
    },
    {
     "name": "stderr",
     "output_type": "stream",
     "text": [
      "\r",
      "Iterations:  82%|██████████████████████████▉      | 245/300 [03:09<00:43,  1.25it/s]"
     ]
    },
    {
     "name": "stdout",
     "output_type": "stream",
     "text": [
      "Epoch:  244\n",
      "t_loss:  0.4082491970529743 , v_loss:  0.5569405655066172\n",
      "t_acc:  0.7158418923124805 , v_acc:  0.7888198757763976\n",
      "t_recall:  0.5381191583974966 , v_recall:  0.670990990990991\n",
      "t_prec:  0.7702750043790506 , v_prec:  0.8365248226950355\n",
      "t_f:  0.49079436397920945 , v_f:  0.6896825396825397\n",
      "////////\n"
     ]
    },
    {
     "name": "stderr",
     "output_type": "stream",
     "text": [
      "\r",
      "Iterations:  82%|███████████████████████████      | 246/300 [03:09<00:39,  1.36it/s]"
     ]
    },
    {
     "name": "stdout",
     "output_type": "stream",
     "text": [
      "Epoch  245 , loss 0.40749509661805394\n",
      "Epoch  246 , loss 0.4013394269288755\n"
     ]
    },
    {
     "name": "stderr",
     "output_type": "stream",
     "text": [
      "\r",
      "Iterations:  82%|███████████████████████████▏     | 247/300 [03:10<00:41,  1.27it/s]"
     ]
    },
    {
     "name": "stdout",
     "output_type": "stream",
     "text": [
      "Epoch:  246\n",
      "t_loss:  0.4013394269288755 , v_loss:  0.5564115693171819\n",
      "t_acc:  0.7142857142857143 , v_acc:  0.7888198757763976\n",
      "t_recall:  0.5370005901648345 , v_recall:  0.670990990990991\n",
      "t_prec:  0.7501329885939085 , v_prec:  0.8365248226950355\n",
      "t_f:  0.4898948636922089 , v_f:  0.6896825396825397\n",
      "////////\n"
     ]
    },
    {
     "name": "stderr",
     "output_type": "stream",
     "text": [
      "\r",
      "Iterations:  83%|███████████████████████████▎     | 248/300 [03:11<00:37,  1.37it/s]"
     ]
    },
    {
     "name": "stdout",
     "output_type": "stream",
     "text": [
      "Epoch  247 , loss 0.40177055404466744\n",
      "Epoch  248 , loss 0.4053487821536906\n"
     ]
    },
    {
     "name": "stderr",
     "output_type": "stream",
     "text": [
      "\r",
      "Iterations:  83%|███████████████████████████▍     | 249/300 [03:12<00:40,  1.27it/s]"
     ]
    },
    {
     "name": "stdout",
     "output_type": "stream",
     "text": [
      "Epoch:  248\n",
      "t_loss:  0.4053487821536906 , v_loss:  0.5573890258868536\n",
      "t_acc:  0.710239651416122 , v_acc:  0.7888198757763976\n",
      "t_recall:  0.5300668395986878 , v_recall:  0.670990990990991\n",
      "t_prec:  0.7363758649958998 , v_prec:  0.8365248226950355\n",
      "t_f:  0.47686686359850117 , v_f:  0.6896825396825397\n",
      "////////\n"
     ]
    },
    {
     "name": "stderr",
     "output_type": "stream",
     "text": [
      "\r",
      "Iterations:  83%|███████████████████████████▌     | 250/300 [03:12<00:36,  1.38it/s]"
     ]
    },
    {
     "name": "stdout",
     "output_type": "stream",
     "text": [
      "Epoch  249 , loss 0.40938393742430446\n",
      "Epoch  250 , loss 0.40032455120600907\n"
     ]
    },
    {
     "name": "stderr",
     "output_type": "stream",
     "text": [
      "\r",
      "Iterations:  84%|███████████████████████████▌     | 251/300 [03:13<00:38,  1.28it/s]"
     ]
    },
    {
     "name": "stdout",
     "output_type": "stream",
     "text": [
      "Epoch:  250\n",
      "t_loss:  0.40032455120600907 , v_loss:  0.5559528519709905\n",
      "t_acc:  0.712729536258948 , v_acc:  0.782608695652174\n",
      "t_recall:  0.5355944881349419 , v_recall:  0.6664864864864866\n",
      "t_prec:  0.7341067334252065 , v_prec:  0.8142857142857143\n",
      "t_f:  0.4882473380000121 , v_f:  0.6838000112227147\n",
      "////////\n"
     ]
    },
    {
     "name": "stderr",
     "output_type": "stream",
     "text": [
      "\r",
      "Iterations:  84%|███████████████████████████▋     | 252/300 [03:14<00:34,  1.38it/s]"
     ]
    },
    {
     "name": "stdout",
     "output_type": "stream",
     "text": [
      "Epoch  251 , loss 0.40703439537216635\n",
      "Epoch  252 , loss 0.4133752157875136\n"
     ]
    },
    {
     "name": "stderr",
     "output_type": "stream",
     "text": [
      "\r",
      "Iterations:  84%|███████████████████████████▊     | 253/300 [03:15<00:37,  1.27it/s]"
     ]
    },
    {
     "name": "stdout",
     "output_type": "stream",
     "text": [
      "Epoch:  252\n",
      "t_loss:  0.4133752157875136 , v_loss:  0.5573023706674576\n",
      "t_acc:  0.707749766573296 , v_acc:  0.782608695652174\n",
      "t_recall:  0.5282771304264284 , v_recall:  0.6664864864864866\n",
      "t_prec:  0.7044949247647658 , v_prec:  0.8142857142857143\n",
      "t_f:  0.4755152047215691 , v_f:  0.6838000112227147\n",
      "////////\n"
     ]
    },
    {
     "name": "stderr",
     "output_type": "stream",
     "text": [
      "\r",
      "Iterations:  85%|███████████████████████████▉     | 254/300 [03:15<00:33,  1.38it/s]"
     ]
    },
    {
     "name": "stdout",
     "output_type": "stream",
     "text": [
      "Epoch  253 , loss 0.4031726601077061\n",
      "Epoch  254 , loss 0.40345625842318816\n"
     ]
    },
    {
     "name": "stderr",
     "output_type": "stream",
     "text": [
      "\r",
      "Iterations:  85%|████████████████████████████     | 255/300 [03:16<00:35,  1.27it/s]"
     ]
    },
    {
     "name": "stdout",
     "output_type": "stream",
     "text": [
      "Epoch:  254\n",
      "t_loss:  0.40345625842318816 , v_loss:  0.5554153025150299\n",
      "t_acc:  0.7124183006535948 , v_acc:  0.782608695652174\n",
      "t_recall:  0.5347957068939487 , v_recall:  0.6664864864864866\n",
      "t_prec:  0.7352274414231634 , v_prec:  0.8142857142857143\n",
      "t_f:  0.48656084319346515 , v_f:  0.6838000112227147\n",
      "////////\n"
     ]
    },
    {
     "name": "stderr",
     "output_type": "stream",
     "text": [
      "\r",
      "Iterations:  85%|████████████████████████████▏    | 256/300 [03:17<00:32,  1.37it/s]"
     ]
    },
    {
     "name": "stdout",
     "output_type": "stream",
     "text": [
      "Epoch  255 , loss 0.40847116241268083\n",
      "Epoch  256 , loss 0.4021984671845156\n"
     ]
    },
    {
     "name": "stderr",
     "output_type": "stream",
     "text": [
      "\r",
      "Iterations:  86%|████████████████████████████▎    | 257/300 [03:18<00:33,  1.27it/s]"
     ]
    },
    {
     "name": "stdout",
     "output_type": "stream",
     "text": [
      "Epoch:  256\n",
      "t_loss:  0.4021984671845156 , v_loss:  0.5549056480328242\n",
      "t_acc:  0.7158418923124805 , v_acc:  0.7888198757763976\n",
      "t_recall:  0.5407069625725697 , v_recall:  0.670990990990991\n",
      "t_prec:  0.7456395348837209 , v_prec:  0.8365248226950355\n",
      "t_f:  0.49747380917507567 , v_f:  0.6896825396825397\n",
      "////////\n"
     ]
    },
    {
     "name": "stderr",
     "output_type": "stream",
     "text": [
      "\r",
      "Iterations:  86%|████████████████████████████▍    | 258/300 [03:18<00:30,  1.38it/s]"
     ]
    },
    {
     "name": "stdout",
     "output_type": "stream",
     "text": [
      "Epoch  257 , loss 0.40602447881418113\n",
      "Epoch  258 , loss 0.4027894729492711\n"
     ]
    },
    {
     "name": "stderr",
     "output_type": "stream",
     "text": [
      "\r",
      "Iterations:  86%|████████████████████████████▍    | 259/300 [03:19<00:32,  1.27it/s]"
     ]
    },
    {
     "name": "stdout",
     "output_type": "stream",
     "text": [
      "Epoch:  258\n",
      "t_loss:  0.4027894729492711 , v_loss:  0.5537376900513967\n",
      "t_acc:  0.711484593837535 , v_acc:  0.782608695652174\n",
      "t_recall:  0.5335494983598907 , v_recall:  0.6664864864864866\n",
      "t_prec:  0.7289311023007523 , v_prec:  0.8142857142857143\n",
      "t_f:  0.4845137847452684 , v_f:  0.6838000112227147\n",
      "////////\n"
     ]
    },
    {
     "name": "stderr",
     "output_type": "stream",
     "text": [
      "\r",
      "Iterations:  87%|████████████████████████████▌    | 260/300 [03:20<00:29,  1.37it/s]"
     ]
    },
    {
     "name": "stdout",
     "output_type": "stream",
     "text": [
      "Epoch  259 , loss 0.40348533438701256\n",
      "Epoch  260 , loss 0.400986150783651\n"
     ]
    },
    {
     "name": "stderr",
     "output_type": "stream",
     "text": [
      "\r",
      "Iterations:  87%|████████████████████████████▋    | 261/300 [03:21<00:31,  1.24it/s]"
     ]
    },
    {
     "name": "stdout",
     "output_type": "stream",
     "text": [
      "Epoch:  260\n",
      "t_loss:  0.400986150783651 , v_loss:  0.5522277603546778\n",
      "t_acc:  0.7105508870214753 , v_acc:  0.7888198757763976\n",
      "t_recall:  0.5317282222313721 , v_recall:  0.6764864864864866\n",
      "t_prec:  0.7271841320797983 , v_prec:  0.8203073904512754\n",
      "t_f:  0.48092797832053646 , v_f:  0.695888888888889\n",
      "////////\n"
     ]
    },
    {
     "name": "stderr",
     "output_type": "stream",
     "text": [
      "\r",
      "Iterations:  87%|████████████████████████████▊    | 262/300 [03:21<00:28,  1.34it/s]"
     ]
    },
    {
     "name": "stdout",
     "output_type": "stream",
     "text": [
      "Epoch  261 , loss 0.4006090170028163\n",
      "Epoch  262 , loss 0.4114401784597659\n"
     ]
    },
    {
     "name": "stderr",
     "output_type": "stream",
     "text": [
      "\r",
      "Iterations:  88%|████████████████████████████▉    | 263/300 [03:22<00:29,  1.25it/s]"
     ]
    },
    {
     "name": "stdout",
     "output_type": "stream",
     "text": [
      "Epoch:  262\n",
      "t_loss:  0.4114401784597659 , v_loss:  0.5519748032093048\n",
      "t_acc:  0.7121070650482415 , v_acc:  0.7888198757763976\n",
      "t_recall:  0.5348595270446467 , v_recall:  0.6764864864864866\n",
      "t_prec:  0.72927285747814 , v_prec:  0.8203073904512754\n",
      "t_f:  0.487138448158192 , v_f:  0.695888888888889\n",
      "////////\n"
     ]
    },
    {
     "name": "stderr",
     "output_type": "stream",
     "text": [
      "\r",
      "Iterations:  88%|█████████████████████████████    | 264/300 [03:23<00:26,  1.37it/s]"
     ]
    },
    {
     "name": "stdout",
     "output_type": "stream",
     "text": [
      "Epoch  263 , loss 0.4080165829144272\n",
      "Epoch  264 , loss 0.40907498960401495\n"
     ]
    },
    {
     "name": "stderr",
     "output_type": "stream",
     "text": [
      "\r",
      "Iterations:  88%|█████████████████████████████▏   | 265/300 [03:24<00:28,  1.25it/s]"
     ]
    },
    {
     "name": "stdout",
     "output_type": "stream",
     "text": [
      "Epoch:  264\n",
      "t_loss:  0.40907498960401495 , v_loss:  0.5528847128152847\n",
      "t_acc:  0.710239651416122 , v_acc:  0.7888198757763976\n",
      "t_recall:  0.5294917720042273 , v_recall:  0.6764864864864866\n",
      "t_prec:  0.7424552429667519 , v_prec:  0.8203073904512754\n",
      "t_f:  0.4752899952621259 , v_f:  0.695888888888889\n",
      "////////\n"
     ]
    },
    {
     "name": "stderr",
     "output_type": "stream",
     "text": [
      "\r",
      "Iterations:  89%|█████████████████████████████▎   | 266/300 [03:24<00:25,  1.35it/s]"
     ]
    },
    {
     "name": "stdout",
     "output_type": "stream",
     "text": [
      "Epoch  265 , loss 0.4023960817093943\n",
      "Epoch  266 , loss 0.4063803302306755\n"
     ]
    },
    {
     "name": "stderr",
     "output_type": "stream",
     "text": [
      "\r",
      "Iterations:  89%|█████████████████████████████▎   | 267/300 [03:25<00:26,  1.25it/s]"
     ]
    },
    {
     "name": "stdout",
     "output_type": "stream",
     "text": [
      "Epoch:  266\n",
      "t_loss:  0.4063803302306755 , v_loss:  0.5534902463356653\n",
      "t_acc:  0.712729536258948 , v_acc:  0.7888198757763976\n",
      "t_recall:  0.536457089526633 , v_recall:  0.6764864864864866\n",
      "t_prec:  0.7274878675421068 , v_prec:  0.8203073904512754\n",
      "t_f:  0.49048936643595853 , v_f:  0.695888888888889\n",
      "////////\n"
     ]
    },
    {
     "name": "stderr",
     "output_type": "stream",
     "text": [
      "\r",
      "Iterations:  89%|█████████████████████████████▍   | 268/300 [03:26<00:23,  1.35it/s]"
     ]
    },
    {
     "name": "stdout",
     "output_type": "stream",
     "text": [
      "Epoch  267 , loss 0.4084555389834385\n",
      "Epoch  268 , loss 0.4053448894444634\n"
     ]
    },
    {
     "name": "stderr",
     "output_type": "stream",
     "text": [
      "\r",
      "Iterations:  90%|█████████████████████████████▌   | 269/300 [03:27<00:24,  1.25it/s]"
     ]
    },
    {
     "name": "stdout",
     "output_type": "stream",
     "text": [
      "Epoch:  268\n",
      "t_loss:  0.4053448894444634 , v_loss:  0.5534502963225046\n",
      "t_acc:  0.7124183006535948 , v_acc:  0.7888198757763976\n",
      "t_recall:  0.5359458420828701 , v_recall:  0.6764864864864866\n",
      "t_prec:  0.7262274266365689 , v_prec:  0.8203073904512754\n",
      "t_f:  0.48956507984539843 , v_f:  0.695888888888889\n",
      "////////\n"
     ]
    },
    {
     "name": "stderr",
     "output_type": "stream",
     "text": [
      "\r",
      "Iterations:  90%|█████████████████████████████▋   | 270/300 [03:28<00:22,  1.36it/s]"
     ]
    },
    {
     "name": "stdout",
     "output_type": "stream",
     "text": [
      "Epoch  269 , loss 0.4092409715932958\n",
      "Epoch  270 , loss 0.4050242643730313\n"
     ]
    },
    {
     "name": "stderr",
     "output_type": "stream",
     "text": [
      "\r",
      "Iterations:  90%|█████████████████████████████▊   | 271/300 [03:28<00:23,  1.26it/s]"
     ]
    },
    {
     "name": "stdout",
     "output_type": "stream",
     "text": [
      "Epoch:  270\n",
      "t_loss:  0.4050242643730313 , v_loss:  0.5514612793922424\n",
      "t_acc:  0.7158418923124805 , v_acc:  0.7950310559006211\n",
      "t_recall:  0.5389817597891876 , v_recall:  0.680990990990991\n",
      "t_prec:  0.7611003861003861 , v_prec:  0.8416666666666667\n",
      "t_f:  0.4930467958957354 , v_f:  0.7018685820099881\n",
      "////////\n"
     ]
    },
    {
     "name": "stderr",
     "output_type": "stream",
     "text": [
      "\r",
      "Iterations:  91%|█████████████████████████████▉   | 272/300 [03:29<00:20,  1.36it/s]"
     ]
    },
    {
     "name": "stdout",
     "output_type": "stream",
     "text": [
      "Epoch  271 , loss 0.4075259028696546\n",
      "Epoch  272 , loss 0.4054530847306345\n"
     ]
    },
    {
     "name": "stderr",
     "output_type": "stream",
     "text": [
      "\r",
      "Iterations:  91%|██████████████████████████████   | 273/300 [03:30<00:21,  1.24it/s]"
     ]
    },
    {
     "name": "stdout",
     "output_type": "stream",
     "text": [
      "Epoch:  272\n",
      "t_loss:  0.4054530847306345 , v_loss:  0.5526240219672521\n",
      "t_acc:  0.7133520074696545 , v_acc:  0.7950310559006211\n",
      "t_recall:  0.5386297196030798 , v_recall:  0.680990990990991\n",
      "t_prec:  0.7221643381482359 , v_prec:  0.8416666666666667\n",
      "t_f:  0.49526499597037266 , v_f:  0.7018685820099881\n",
      "////////\n"
     ]
    },
    {
     "name": "stderr",
     "output_type": "stream",
     "text": [
      "\r",
      "Iterations:  91%|██████████████████████████████▏  | 274/300 [03:31<00:19,  1.35it/s]"
     ]
    },
    {
     "name": "stdout",
     "output_type": "stream",
     "text": [
      "Epoch  273 , loss 0.40547579994388655\n",
      "Epoch  274 , loss 0.40576087727266197\n"
     ]
    },
    {
     "name": "stderr",
     "output_type": "stream",
     "text": [
      "\r",
      "Iterations:  92%|██████████████████████████████▎  | 275/300 [03:32<00:20,  1.25it/s]"
     ]
    },
    {
     "name": "stdout",
     "output_type": "stream",
     "text": [
      "Epoch:  274\n",
      "t_loss:  0.40576087727266197 , v_loss:  0.5525166839361191\n",
      "t_acc:  0.7105508870214753 , v_acc:  0.7888198757763976\n",
      "t_recall:  0.5340284926092148 , v_recall:  0.6764864864864866\n",
      "t_prec:  0.7105390533448821 , v_prec:  0.8203073904512754\n",
      "t_f:  0.48699922125118983 , v_f:  0.695888888888889\n",
      "////////\n"
     ]
    },
    {
     "name": "stderr",
     "output_type": "stream",
     "text": [
      "\r",
      "Iterations:  92%|██████████████████████████████▎  | 276/300 [03:32<00:17,  1.36it/s]"
     ]
    },
    {
     "name": "stdout",
     "output_type": "stream",
     "text": [
      "Epoch  275 , loss 0.4038715017776863\n",
      "Epoch  276 , loss 0.3995208412993188\n"
     ]
    },
    {
     "name": "stderr",
     "output_type": "stream",
     "text": [
      "\r",
      "Iterations:  92%|██████████████████████████████▍  | 277/300 [03:33<00:18,  1.25it/s]"
     ]
    },
    {
     "name": "stdout",
     "output_type": "stream",
     "text": [
      "Epoch:  276\n",
      "t_loss:  0.3995208412993188 , v_loss:  0.5514611850182215\n",
      "t_acc:  0.7142857142857143 , v_acc:  0.7888198757763976\n",
      "t_recall:  0.5370005901648345 , v_recall:  0.6764864864864866\n",
      "t_prec:  0.7501329885939085 , v_prec:  0.8203073904512754\n",
      "t_f:  0.4898948636922089 , v_f:  0.695888888888889\n",
      "////////\n"
     ]
    },
    {
     "name": "stderr",
     "output_type": "stream",
     "text": [
      "\r",
      "Iterations:  93%|██████████████████████████████▌  | 278/300 [03:34<00:16,  1.35it/s]"
     ]
    },
    {
     "name": "stdout",
     "output_type": "stream",
     "text": [
      "Epoch  277 , loss 0.4001074713819167\n",
      "Epoch  278 , loss 0.40264689659371095\n"
     ]
    },
    {
     "name": "stderr",
     "output_type": "stream",
     "text": [
      "\r",
      "Iterations:  93%|██████████████████████████████▋  | 279/300 [03:35<00:16,  1.25it/s]"
     ]
    },
    {
     "name": "stdout",
     "output_type": "stream",
     "text": [
      "Epoch:  278\n",
      "t_loss:  0.40264689659371095 , v_loss:  0.5527804543574651\n",
      "t_acc:  0.7086834733893558 , v_acc:  0.7888198757763976\n",
      "t_recall:  0.5292358051632561 , v_recall:  0.6764864864864866\n",
      "t_prec:  0.7135617179980751 , v_prec:  0.8203073904512754\n",
      "t_f:  0.4768018638675251 , v_f:  0.695888888888889\n",
      "////////\n"
     ]
    },
    {
     "name": "stderr",
     "output_type": "stream",
     "text": [
      "\r",
      "Iterations:  93%|██████████████████████████████▊  | 280/300 [03:35<00:14,  1.36it/s]"
     ]
    },
    {
     "name": "stdout",
     "output_type": "stream",
     "text": [
      "Epoch  279 , loss 0.4061070493623322\n",
      "Epoch  280 , loss 0.4026295858270982\n"
     ]
    },
    {
     "name": "stderr",
     "output_type": "stream",
     "text": [
      "\r",
      "Iterations:  94%|██████████████████████████████▉  | 281/300 [03:36<00:15,  1.24it/s]"
     ]
    },
    {
     "name": "stdout",
     "output_type": "stream",
     "text": [
      "Epoch:  280\n",
      "t_loss:  0.4026295858270982 , v_loss:  0.5516999612251917\n",
      "t_acc:  0.7121070650482415 , v_acc:  0.7888198757763976\n",
      "t_recall:  0.535147060841877 , v_recall:  0.6764864864864866\n",
      "t_prec:  0.7270686536460796 , v_prec:  0.8203073904512754\n",
      "t_f:  0.4878903101976689 , v_f:  0.695888888888889\n",
      "////////\n"
     ]
    },
    {
     "name": "stderr",
     "output_type": "stream",
     "text": [
      "\r",
      "Iterations:  94%|███████████████████████████████  | 282/300 [03:37<00:13,  1.35it/s]"
     ]
    },
    {
     "name": "stdout",
     "output_type": "stream",
     "text": [
      "Epoch  281 , loss 0.40175535106191446\n",
      "Epoch  282 , loss 0.4004681501902786\n"
     ]
    },
    {
     "name": "stderr",
     "output_type": "stream",
     "text": [
      "\r",
      "Iterations:  94%|███████████████████████████████▏ | 283/300 [03:38<00:13,  1.26it/s]"
     ]
    },
    {
     "name": "stdout",
     "output_type": "stream",
     "text": [
      "Epoch:  282\n",
      "t_loss:  0.4004681501902786 , v_loss:  0.5519493023554484\n",
      "t_acc:  0.7111733582321818 , v_acc:  0.7888198757763976\n",
      "t_recall:  0.533900852307819 , v_recall:  0.6764864864864866\n",
      "t_prec:  0.72097423510467 , v_prec:  0.8203073904512754\n",
      "t_f:  0.4858526289651748 , v_f:  0.695888888888889\n",
      "////////\n"
     ]
    },
    {
     "name": "stderr",
     "output_type": "stream",
     "text": [
      "\r",
      "Iterations:  95%|███████████████████████████████▏ | 284/300 [03:38<00:11,  1.37it/s]"
     ]
    },
    {
     "name": "stdout",
     "output_type": "stream",
     "text": [
      "Epoch  283 , loss 0.4042320058626287\n",
      "Epoch  284 , loss 0.403946507210825\n"
     ]
    },
    {
     "name": "stderr",
     "output_type": "stream",
     "text": [
      "\r",
      "Iterations:  95%|███████████████████████████████▎ | 285/300 [03:39<00:11,  1.27it/s]"
     ]
    },
    {
     "name": "stdout",
     "output_type": "stream",
     "text": [
      "Epoch:  284\n",
      "t_loss:  0.403946507210825 , v_loss:  0.5524395207564036\n",
      "t_acc:  0.7099284158107687 , v_acc:  0.7950310559006211\n",
      "t_recall:  0.5304181935466161 , v_recall:  0.680990990990991\n",
      "t_prec:  0.7267809513414691 , v_prec:  0.8416666666666667\n",
      "t_f:  0.47826077866179006 , v_f:  0.7018685820099881\n",
      "////////\n"
     ]
    },
    {
     "name": "stderr",
     "output_type": "stream",
     "text": [
      "\r",
      "Iterations:  95%|███████████████████████████████▍ | 286/300 [03:40<00:10,  1.37it/s]"
     ]
    },
    {
     "name": "stdout",
     "output_type": "stream",
     "text": [
      "Epoch  285 , loss 0.40095098871810764\n",
      "Epoch  286 , loss 0.4081786853425643\n"
     ]
    },
    {
     "name": "stderr",
     "output_type": "stream",
     "text": [
      "\r",
      "Iterations:  96%|███████████████████████████████▌ | 287/300 [03:41<00:10,  1.27it/s]"
     ]
    },
    {
     "name": "stdout",
     "output_type": "stream",
     "text": [
      "Epoch:  286\n",
      "t_loss:  0.4081786853425643 , v_loss:  0.5516149749358495\n",
      "t_acc:  0.7093059446000622 , v_acc:  0.7950310559006211\n",
      "t_recall:  0.5331336380230851 , v_recall:  0.680990990990991\n",
      "t_prec:  0.6983091919717422 , v_prec:  0.8416666666666667\n",
      "t_f:  0.4862878487010586 , v_f:  0.7018685820099881\n",
      "////////\n"
     ]
    },
    {
     "name": "stderr",
     "output_type": "stream",
     "text": [
      "\r",
      "Iterations:  96%|███████████████████████████████▋ | 288/300 [03:41<00:08,  1.38it/s]"
     ]
    },
    {
     "name": "stdout",
     "output_type": "stream",
     "text": [
      "Epoch  287 , loss 0.4015933865425633\n",
      "Epoch  288 , loss 0.40220961033129227\n"
     ]
    },
    {
     "name": "stderr",
     "output_type": "stream",
     "text": [
      "\r",
      "Iterations:  96%|███████████████████████████████▊ | 289/300 [03:42<00:08,  1.25it/s]"
     ]
    },
    {
     "name": "stdout",
     "output_type": "stream",
     "text": [
      "Epoch:  288\n",
      "t_loss:  0.40220961033129227 , v_loss:  0.54978579779466\n",
      "t_acc:  0.7177093059446 , v_acc:  0.7888198757763976\n",
      "t_recall:  0.5414741768573037 , v_recall:  0.6764864864864866\n",
      "t_prec:  0.7727777410017391 , v_prec:  0.8203073904512754\n",
      "t_f:  0.4971184567345731 , v_f:  0.695888888888889\n",
      "////////\n"
     ]
    },
    {
     "name": "stderr",
     "output_type": "stream",
     "text": [
      "\r",
      "Iterations:  97%|███████████████████████████████▉ | 290/300 [03:43<00:07,  1.36it/s]"
     ]
    },
    {
     "name": "stdout",
     "output_type": "stream",
     "text": [
      "Epoch  289 , loss 0.4048847708047605\n",
      "Epoch  290 , loss 0.40320268565533207\n"
     ]
    },
    {
     "name": "stderr",
     "output_type": "stream",
     "text": [
      "\r",
      "Iterations:  97%|████████████████████████████████ | 291/300 [03:44<00:07,  1.24it/s]"
     ]
    },
    {
     "name": "stdout",
     "output_type": "stream",
     "text": [
      "Epoch:  290\n",
      "t_loss:  0.40320268565533207 , v_loss:  0.5492923160394033\n",
      "t_acc:  0.7111733582321818 , v_acc:  0.7888198757763976\n",
      "t_recall:  0.5347634536995101 , v_recall:  0.6764864864864866\n",
      "t_prec:  0.7150863606256688 , v_prec:  0.8203073904512754\n",
      "t_f:  0.48810244873236996 , v_f:  0.695888888888889\n",
      "////////\n"
     ]
    },
    {
     "name": "stderr",
     "output_type": "stream",
     "text": [
      "\r",
      "Iterations:  97%|████████████████████████████████ | 292/300 [03:44<00:05,  1.36it/s]"
     ]
    },
    {
     "name": "stdout",
     "output_type": "stream",
     "text": [
      "Epoch  291 , loss 0.4030577224843642\n",
      "Epoch  292 , loss 0.3999721326080023\n"
     ]
    },
    {
     "name": "stderr",
     "output_type": "stream",
     "text": [
      "\r",
      "Iterations:  98%|████████████████████████████████▏| 293/300 [03:45<00:05,  1.25it/s]"
     ]
    },
    {
     "name": "stdout",
     "output_type": "stream",
     "text": [
      "Epoch:  292\n",
      "t_loss:  0.3999721326080023 , v_loss:  0.5506578932205836\n",
      "t_acc:  0.7108621226268285 , v_acc:  0.7888198757763976\n",
      "t_recall:  0.5336771386612865 , v_recall:  0.6764864864864866\n",
      "t_prec:  0.7175721767710206 , v_prec:  0.8203073904512754\n",
      "t_f:  0.4856757818093345 , v_f:  0.695888888888889\n",
      "////////\n"
     ]
    },
    {
     "name": "stderr",
     "output_type": "stream",
     "text": [
      "\r",
      "Iterations:  98%|████████████████████████████████▎| 294/300 [03:46<00:04,  1.37it/s]"
     ]
    },
    {
     "name": "stdout",
     "output_type": "stream",
     "text": [
      "Epoch  293 , loss 0.4023807335133646\n",
      "Epoch  294 , loss 0.4041282353447933\n"
     ]
    },
    {
     "name": "stderr",
     "output_type": "stream",
     "text": [
      "\r",
      "Iterations:  98%|████████████████████████████████▍| 295/300 [03:47<00:03,  1.26it/s]"
     ]
    },
    {
     "name": "stdout",
     "output_type": "stream",
     "text": [
      "Epoch:  294\n",
      "t_loss:  0.4041282353447933 , v_loss:  0.5504619081815084\n",
      "t_acc:  0.7093059446000622 , v_acc:  0.7888198757763976\n",
      "t_recall:  0.5325585704286243 , v_recall:  0.6764864864864866\n",
      "t_prec:  0.7014444387833088 , v_prec:  0.8203073904512754\n",
      "t_f:  0.48479276628882934 , v_f:  0.695888888888889\n",
      "////////\n"
     ]
    },
    {
     "name": "stderr",
     "output_type": "stream",
     "text": [
      "\r",
      "Iterations:  99%|████████████████████████████████▌| 296/300 [03:47<00:02,  1.37it/s]"
     ]
    },
    {
     "name": "stdout",
     "output_type": "stream",
     "text": [
      "Epoch  295 , loss 0.4017575389029933\n",
      "Epoch  296 , loss 0.4000050571619296\n"
     ]
    },
    {
     "name": "stderr",
     "output_type": "stream",
     "text": [
      "\r",
      "Iterations:  99%|████████████████████████████████▋| 297/300 [03:48<00:02,  1.26it/s]"
     ]
    },
    {
     "name": "stdout",
     "output_type": "stream",
     "text": [
      "Epoch:  296\n",
      "t_loss:  0.4000050571619296 , v_loss:  0.5501434057950974\n",
      "t_acc:  0.7124183006535948 , v_acc:  0.7950310559006211\n",
      "t_recall:  0.5365209096773308 , v_recall:  0.680990990990991\n",
      "t_prec:  0.7222075312037233 , v_prec:  0.8416666666666667\n",
      "t_f:  0.4910498648428103 , v_f:  0.7018685820099881\n",
      "////////\n"
     ]
    },
    {
     "name": "stderr",
     "output_type": "stream",
     "text": [
      "\r",
      "Iterations:  99%|████████████████████████████████▊| 298/300 [03:49<00:01,  1.36it/s]"
     ]
    },
    {
     "name": "stdout",
     "output_type": "stream",
     "text": [
      "Epoch  297 , loss 0.3986566212831759\n",
      "Epoch  298 , loss 0.40494707635804716\n"
     ]
    },
    {
     "name": "stderr",
     "output_type": "stream",
     "text": [
      "\r",
      "Iterations: 100%|████████████████████████████████▉| 299/300 [03:50<00:00,  1.26it/s]"
     ]
    },
    {
     "name": "stdout",
     "output_type": "stream",
     "text": [
      "Epoch:  298\n",
      "t_loss:  0.40494707635804716 , v_loss:  0.5503950317700704\n",
      "t_acc:  0.7133520074696545 , v_acc:  0.7888198757763976\n",
      "t_recall:  0.534604246441855 , v_recall:  0.6764864864864866\n",
      "t_prec:  0.7553559974342527 , v_prec:  0.8203073904512754\n",
      "t_f:  0.484802922958775 , v_f:  0.695888888888889\n",
      "////////\n"
     ]
    },
    {
     "name": "stderr",
     "output_type": "stream",
     "text": [
      "Iterations: 100%|█████████████████████████████████| 300/300 [03:50<00:00,  1.30it/s]"
     ]
    },
    {
     "name": "stdout",
     "output_type": "stream",
     "text": [
      "Epoch  299 , loss 0.39950334324556236\n"
     ]
    },
    {
     "name": "stderr",
     "output_type": "stream",
     "text": [
      "\n"
     ]
    },
    {
     "name": "stdout",
     "output_type": "stream",
     "text": [
      "108 19\n",
      "\n",
      "c0_acc 0.972972972972973 , c1_acc 0.38 , b_acc 0.6764864864864866\n",
      "User S01 f1: 0.7595831608005521 acc: 0.7888198757763976\n",
      " c0: 0.972972972972973 c1: 0.38 bacc: 0.6764864864864866\n",
      "average 0.7595831608005521\n",
      "\n",
      "0.6764864864864866\n",
      "0.38\n",
      "0.972972972972973\n"
     ]
    }
   ],
   "source": [
    "from utilities.userfold_framework import *\n",
    "from utilities.EEG_func import *\n",
    "import Models.model_func as Model_Func\n",
    "import numpy as np\n",
    "import pandas as pd\n",
    "import matplotlib.pyplot as plt\n",
    "import seaborn as sns\n",
    "from typing import List\n",
    "from torcheeg.models import EEGNet\n",
    "# import Models.model_func as Model_Func\n",
    "from torch import nn\n",
    "from Models.multi_models import *\n",
    "\n",
    "DEVICE= torch.device(\"cuda\") if torch.cuda.is_available() else torch.device(\"cpu\")\n",
    "\n",
    "learning_rate = 0.00005\n",
    "batch_size = 64\n",
    "n_epochs = 300\n",
    "transpose_channels=True\n",
    "participants_dictionary=[]\n",
    "# participants_online_dictionary=[]\n",
    "participants_grads_dictionary={}\n",
    "b_acc_list=[]\n",
    "c0_acc_list=[]\n",
    "c1_acc_list=[]\n",
    "\n",
    "# EPOCH=[\n",
    "    \n",
    "# ]\n",
    "\n",
    "for i in [0]:#range(len(participants)):\n",
    "\n",
    "    train_dataloader, val_dataloader, classes, input_dim, class_ratio= user_fold_load(i,\n",
    "                                                                                      raw_user_fold,\n",
    "                                                                                      participants,\n",
    "                                                                                      batch_size=batch_size,\n",
    "                                                                                      transpose_channels=transpose_channels)\n",
    "\n",
    "    classifier= EEGNet(\n",
    "        chunk_size=input_dim[1],\n",
    "        num_electrodes=input_dim[0],\n",
    "        num_classes=classes,\n",
    "        kernel_1= 32,\n",
    "        kernel_2=32,\n",
    "        F1=8,\n",
    "        F2=16,\n",
    "        dropout=0.5\n",
    "    ).to(DEVICE)\n",
    "    \n",
    "#     resnet = ResNetPlus(input_dim[0], classes, bn_1st=False)\n",
    "#     softmax_activation = nn.LogSoftmax(dim=1)\n",
    "#     classifier = nn.Sequential(resnet, softmax_activation).to(DEVICE)\n",
    "\n",
    "    \n",
    "#     classifier = DataGliderBasic_Model(DEVICE, input_dim, classes)\n",
    "#     classifier.to(DEVICE)\n",
    "    \n",
    "#     optimizer= torch.optim.RMSprop(classifier.parameters(), lr=learning_rate)\n",
    "    \n",
    "    \n",
    "    criterion= torch.nn.CrossEntropyLoss(weight=torch.tensor(class_ratio, dtype=torch.float).to(DEVICE))\n",
    "#     criterion = nn.NLLLoss(weight=torch.tensor(class_ratio, dtype=torch.float).to(DEVICE))\n",
    "        \n",
    "    saved_dir= \"./EEG/saved_models/Userfold/run0\"\n",
    "    model = EEGNet_IE_TS_Wrapper(DEVICE, classifier, input_dim[1]).to(DEVICE)\n",
    "    optimizer = torch.optim.Adam(model.parameters(), lr = learning_rate)\n",
    "    scheduler= torch.optim.lr_scheduler.ReduceLROnPlateau(optimizer, patience=2)\n",
    "\n",
    "    \n",
    "    train_func= eeg_train\n",
    "    model.training_procedure(iteration=n_epochs,\n",
    "                                    train_dataloader=train_dataloader,\n",
    "                                     val_dataloader=val_dataloader,\n",
    "                                     print_cycle=2,\n",
    "                                     path=f\"./dictionary/intermdiate_dicts\",\n",
    "                                     loss_func=criterion,\n",
    "                                     optimiser=optimizer, #scheduler=scheduler,\n",
    "                                     train_func=train_func\n",
    "                                    )\n",
    "    if model.epoch == n_epochs+1:\n",
    "        EPOCH= n_epochs\n",
    "    else:\n",
    "        EPOCH= model.epoch\n",
    "    \n",
    "#     torch.save(model.state_dict(), \n",
    "#            os.path.join(\n",
    "#                saved_dir, f\"Userfold-{participants[i]}-EEGNet-Weight_TS-e{EPOCH}.pt\"\n",
    "#            )\n",
    "#     )\n",
    "\n",
    "#     pickle.dump( model.return_IE_weights(), \n",
    "#                 open(f\"{saved_dir}/Userfold-{participants[i]}-EEGNet-Weight_TS-w-e{EPOCH}.pkl\", \"wb\") \n",
    "#                )    \n",
    "\n",
    "# OR\n",
    "#     model.load_state_dict(\n",
    "#     torch.load(\n",
    "#         open(\n",
    "#             os.path.join(\n",
    "#                 saved_dir, f\"Userfold-{participants[i]}-EEGNet-Weight_TS-e{n_epochs}.pt\"\n",
    "#             ), \"rb\"\n",
    "#         )\n",
    "#               )\n",
    "#     )\n",
    "#     pickle.load( \n",
    "#                 open(f\"{saved_dir}/Userfold-{participants[i]}-EEGNet-Weight_TS-w-e{EPOCH}.pkl\", \"rb\") \n",
    "#                )  \n",
    "    \n",
    "    prediction, dictionary= model.prediction_procedure(val_dataloader, dict_flag=True)\n",
    "    \n",
    "    ys= np.concatenate([y.detach().cpu().numpy() for x, y in val_dataloader])\n",
    "    \n",
    "    c0_acc, c1_acc, b_acc= calculate_accuracy(ys, prediction)\n",
    "    print(\"c0_acc\", c0_acc, \", c1_acc\", c1_acc, \", b_acc\", b_acc)\n",
    "    b_acc_list.append(b_acc)\n",
    "    c0_acc_list.append(c0_acc)\n",
    "    c1_acc_list.append(c1_acc)\n",
    "    participants_dictionary.append(dictionary)\n",
    "    \n",
    "\n",
    "tmp=[]\n",
    "for i, dictionary in enumerate(participants_dictionary):\n",
    "    print(f\"User {participants[i]} f1: {dictionary['weighted avg']['f1-score']} acc: {dictionary['accuracy']}\")\n",
    "    print(f\" c0: {c0_acc_list[i]} c1: {c1_acc_list[i]} bacc: {b_acc_list[i]}\")\n",
    "    tmp.append(dictionary['weighted avg']['f1-score'])\n",
    "\n",
    "print(f\"average {np.mean(tmp)}\")\n",
    "print()\n",
    "print(np.array(b_acc_list).mean())\n",
    "print(np.array(c1_acc_list).mean())\n",
    "print(np.array(c0_acc_list).mean())\n"
   ]
  },
  {
   "cell_type": "code",
   "execution_count": 13,
   "id": "eb9de653",
   "metadata": {},
   "outputs": [
    {
     "ename": "IndexError",
     "evalue": "list index out of range",
     "output_type": "error",
     "traceback": [
      "\u001b[0;31m---------------------------------------------------------------------------\u001b[0m",
      "\u001b[0;31mIndexError\u001b[0m                                Traceback (most recent call last)",
      "\u001b[0;32m/tmp/ipykernel_1958636/2067081348.py\u001b[0m in \u001b[0;36m<module>\u001b[0;34m\u001b[0m\n\u001b[0;32m----> 1\u001b[0;31m \u001b[0muserfold_results_summary\u001b[0m\u001b[0;34m(\u001b[0m\u001b[0mparticipants_dictionary\u001b[0m\u001b[0;34m,\u001b[0m \u001b[0mparticipants\u001b[0m\u001b[0;34m)\u001b[0m\u001b[0;34m\u001b[0m\u001b[0;34m\u001b[0m\u001b[0m\n\u001b[0m\u001b[1;32m      2\u001b[0m \u001b[0muserfold_classwise_results_summary\u001b[0m\u001b[0;34m(\u001b[0m\u001b[0mparticipants_dictionary\u001b[0m\u001b[0;34m,\u001b[0m \u001b[0mparticipants\u001b[0m\u001b[0;34m)\u001b[0m\u001b[0;34m\u001b[0m\u001b[0;34m\u001b[0m\u001b[0m\n",
      "\u001b[0;32m~/github/pairwise-importance-estimate-extension-with-time-series-adaptation/utilities/userfold_framework.py\u001b[0m in \u001b[0;36muserfold_results_summary\u001b[0;34m(fold_dictionaries, participants)\u001b[0m\n\u001b[1;32m     58\u001b[0m     \u001b[0;32mfor\u001b[0m \u001b[0mi\u001b[0m \u001b[0;32min\u001b[0m \u001b[0mrange\u001b[0m\u001b[0;34m(\u001b[0m\u001b[0mlen\u001b[0m\u001b[0;34m(\u001b[0m\u001b[0mparticipants\u001b[0m\u001b[0;34m)\u001b[0m\u001b[0;34m)\u001b[0m\u001b[0;34m:\u001b[0m\u001b[0;34m\u001b[0m\u001b[0;34m\u001b[0m\u001b[0m\n\u001b[1;32m     59\u001b[0m     \u001b[0;31m#     dictionaries.append({'participant':participants[i], 'accuracy':fold_average[i]['accuracy'], 'f1-score':fold_average[i]['weighted avg']['f1-score']})\u001b[0m\u001b[0;34m\u001b[0m\u001b[0;34m\u001b[0m\u001b[0;34m\u001b[0m\u001b[0m\n\u001b[0;32m---> 60\u001b[0;31m         \u001b[0mdictionaries\u001b[0m\u001b[0;34m.\u001b[0m\u001b[0mappend\u001b[0m\u001b[0;34m(\u001b[0m\u001b[0;34m{\u001b[0m\u001b[0;34m'accuracy'\u001b[0m\u001b[0;34m:\u001b[0m\u001b[0mfold_dictionaries\u001b[0m\u001b[0;34m[\u001b[0m\u001b[0mi\u001b[0m\u001b[0;34m]\u001b[0m\u001b[0;34m[\u001b[0m\u001b[0;34m'accuracy'\u001b[0m\u001b[0;34m]\u001b[0m\u001b[0;34m,\u001b[0m \u001b[0;34m'f1-score'\u001b[0m\u001b[0;34m:\u001b[0m\u001b[0mfold_dictionaries\u001b[0m\u001b[0;34m[\u001b[0m\u001b[0mi\u001b[0m\u001b[0;34m]\u001b[0m\u001b[0;34m[\u001b[0m\u001b[0;34m'weighted avg'\u001b[0m\u001b[0;34m]\u001b[0m\u001b[0;34m[\u001b[0m\u001b[0;34m'f1-score'\u001b[0m\u001b[0;34m]\u001b[0m\u001b[0;34m}\u001b[0m\u001b[0;34m)\u001b[0m\u001b[0;34m\u001b[0m\u001b[0;34m\u001b[0m\u001b[0m\n\u001b[0m\u001b[1;32m     61\u001b[0m \u001b[0;34m\u001b[0m\u001b[0m\n\u001b[1;32m     62\u001b[0m     \u001b[0msns\u001b[0m\u001b[0;34m.\u001b[0m\u001b[0mheatmap\u001b[0m\u001b[0;34m(\u001b[0m\u001b[0mpd\u001b[0m\u001b[0;34m.\u001b[0m\u001b[0mDataFrame\u001b[0m\u001b[0;34m(\u001b[0m\u001b[0mdictionaries\u001b[0m\u001b[0;34m,\u001b[0m \u001b[0mindex\u001b[0m\u001b[0;34m=\u001b[0m\u001b[0mparticipants\u001b[0m\u001b[0;34m)\u001b[0m\u001b[0;34m,\u001b[0m \u001b[0mvmin\u001b[0m\u001b[0;34m=\u001b[0m\u001b[0;36m0\u001b[0m\u001b[0;34m,\u001b[0m \u001b[0mvmax\u001b[0m\u001b[0;34m=\u001b[0m\u001b[0;36m1\u001b[0m\u001b[0;34m)\u001b[0m\u001b[0;34m\u001b[0m\u001b[0;34m\u001b[0m\u001b[0m\n",
      "\u001b[0;31mIndexError\u001b[0m: list index out of range"
     ]
    }
   ],
   "source": [
    "userfold_results_summary(participants_dictionary, participants)\n",
    "userfold_classwise_results_summary(participants_dictionary, participants)\n"
   ]
  },
  {
   "cell_type": "code",
   "execution_count": 6,
   "id": "a337e13b",
   "metadata": {},
   "outputs": [
    {
     "data": {
      "text/plain": [
       "(188,)"
      ]
     },
     "execution_count": 6,
     "metadata": {},
     "output_type": "execute_result"
    }
   ],
   "source": [
    "model.return_IE_weights().shape"
   ]
  }
 ],
 "metadata": {
  "kernelspec": {
   "display_name": "Python [conda env:pytorch]",
   "language": "python",
   "name": "conda-env-pytorch-py"
  },
  "language_info": {
   "codemirror_mode": {
    "name": "ipython",
    "version": 3
   },
   "file_extension": ".py",
   "mimetype": "text/x-python",
   "name": "python",
   "nbconvert_exporter": "python",
   "pygments_lexer": "ipython3",
   "version": "3.7.10"
  }
 },
 "nbformat": 4,
 "nbformat_minor": 5
}
