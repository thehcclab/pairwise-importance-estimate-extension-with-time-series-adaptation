{
 "cells": [
  {
   "cell_type": "code",
   "execution_count": 1,
   "id": "4c9e593e",
   "metadata": {},
   "outputs": [],
   "source": [
    "import numpy as np\n",
    "import pickle\n",
    "import sys\n",
    "from typing import List\n",
    "import torch\n",
    "import os"
   ]
  },
  {
   "cell_type": "code",
   "execution_count": 2,
   "id": "eb96ce98",
   "metadata": {},
   "outputs": [],
   "source": [
    "participant_data_path = './EEG/number'\n",
    "processed_data_path = './EEG/processed_data'\n",
    "split_data_path = './EEG/split_data'"
   ]
  },
  {
   "cell_type": "code",
   "execution_count": 3,
   "id": "62c74d3a",
   "metadata": {},
   "outputs": [],
   "source": [
    "ps = os.listdir(participant_data_path)\n",
    "participants=[]\n",
    "for p in ps:\n",
    "    p= p[:3]\n",
    "    if p not in participants:\n",
    "        participants.append(p)\n",
    "        \n",
    "participants= sorted(participants)\n",
    "# participants, len(participants)"
   ]
  },
  {
   "cell_type": "code",
   "execution_count": 4,
   "id": "28f3009e",
   "metadata": {
    "scrolled": true
   },
   "outputs": [],
   "source": [
    "load_name=f\"userfold_data_scaled_p_dictionary-number\"\n",
    "data_dir = \"./EEG/split_data/standard_scaled\"\n",
    "try:\n",
    "    raw_user_fold= pickle.load(open(os.path.join(data_dir, f\"{load_name}.pkl\"), \"rb\"))\n",
    "except:\n",
    "    print(f\"pickle file does not exist. Use EEG-Preprocess.ipynb and EEG-Split.ipynb to save data setting.\")\n",
    "    sys.exit()"
   ]
  },
  {
   "cell_type": "code",
   "execution_count": null,
   "id": "082a80ac",
   "metadata": {
    "scrolled": true
   },
   "outputs": [
    {
     "name": "stderr",
     "output_type": "stream",
     "text": [
      "\r",
      "Iterations:   0%|                                           | 0/300 [00:00<?, ?it/s]"
     ]
    },
    {
     "name": "stdout",
     "output_type": "stream",
     "text": [
      "Epoch  0 , loss 0.7521746041728001\n"
     ]
    },
    {
     "name": "stderr",
     "output_type": "stream",
     "text": [
      "\r",
      "Iterations:   0%|                                   | 1/300 [00:01<07:15,  1.46s/it]"
     ]
    },
    {
     "name": "stdout",
     "output_type": "stream",
     "text": [
      "Epoch:  0\n",
      "t_loss:  0.7521746041728001 , v_loss:  0.6901159485181173\n",
      "t_acc:  0.4596949891067538 , v_acc:  0.5838509316770186\n",
      "t_recall:  0.5311236463951908 , v_recall:  0.5827927927927927\n",
      "t_prec:  0.5298239522753636 , v_prec:  0.5712403100775194\n",
      "t_f:  0.4593513807759144 , v_f:  0.5619492385786802\n",
      "////////\n"
     ]
    },
    {
     "name": "stderr",
     "output_type": "stream",
     "text": [
      "\r",
      "Iterations:   1%|▏                                  | 2/300 [00:02<05:28,  1.10s/it]"
     ]
    },
    {
     "name": "stdout",
     "output_type": "stream",
     "text": [
      "Epoch  1 , loss 0.7207762061380872\n",
      "Epoch  2 , loss 0.6909797717543209\n"
     ]
    },
    {
     "name": "stderr",
     "output_type": "stream",
     "text": [
      "\r",
      "Iterations:   1%|▎                                  | 3/300 [00:03<06:05,  1.23s/it]"
     ]
    },
    {
     "name": "stdout",
     "output_type": "stream",
     "text": [
      "Epoch:  2\n",
      "t_loss:  0.6909797717543209 , v_loss:  0.6827052434285482\n",
      "t_acc:  0.548708372237784 , v_acc:  0.639751552795031\n",
      "t_recall:  0.5516881459216865 , v_recall:  0.6343243243243244\n",
      "t_prec:  0.543804828004941 , v_prec:  0.6170329670329671\n",
      "t_f:  0.5282563209005278 , v_f:  0.6147689768976898\n",
      "////////\n"
     ]
    },
    {
     "name": "stderr",
     "output_type": "stream",
     "text": [
      "\r",
      "Iterations:   1%|▍                                  | 4/300 [00:04<05:22,  1.09s/it]"
     ]
    },
    {
     "name": "stdout",
     "output_type": "stream",
     "text": [
      "Epoch  3 , loss 0.6670086675999212\n",
      "Epoch  4 , loss 0.6430516663719626\n"
     ]
    },
    {
     "name": "stderr",
     "output_type": "stream",
     "text": [
      "\r",
      "Iterations:   2%|▌                                  | 5/300 [00:05<05:51,  1.19s/it]"
     ]
    },
    {
     "name": "stdout",
     "output_type": "stream",
     "text": [
      "Epoch:  4\n",
      "t_loss:  0.6430516663719626 , v_loss:  0.6662986278533936\n",
      "t_acc:  0.6050420168067226 , v_acc:  0.7142857142857143\n",
      "t_recall:  0.5378364282675231 , v_recall:  0.6389189189189189\n",
      "t_prec:  0.5372298714078513 , v_prec:  0.6592975206611571\n",
      "t_f:  0.5374794180855402 , v_f:  0.6453065134099618\n",
      "////////\n"
     ]
    },
    {
     "name": "stderr",
     "output_type": "stream",
     "text": [
      "\r",
      "Iterations:   2%|▋                                  | 6/300 [00:06<05:10,  1.05s/it]"
     ]
    },
    {
     "name": "stdout",
     "output_type": "stream",
     "text": [
      "Epoch  5 , loss 0.6249698049881879\n",
      "Epoch  6 , loss 0.6035522129021439\n"
     ]
    },
    {
     "name": "stderr",
     "output_type": "stream",
     "text": [
      "\r",
      "Iterations:   2%|▊                                  | 7/300 [00:07<05:26,  1.12s/it]"
     ]
    },
    {
     "name": "stdout",
     "output_type": "stream",
     "text": [
      "Epoch:  6\n",
      "t_loss:  0.6035522129021439 , v_loss:  0.6464685996373495\n",
      "t_acc:  0.6402116402116402 , v_acc:  0.7391304347826086\n",
      "t_recall:  0.5182607979577551 , v_recall:  0.6074774774774775\n",
      "t_prec:  0.5260670749626774 , v_prec:  0.7317404817404818\n",
      "t_f:  0.5107037845015651 , v_f:  0.6084993052339046\n",
      "////////\n"
     ]
    },
    {
     "name": "stderr",
     "output_type": "stream",
     "text": [
      "\r",
      "Iterations:   3%|▉                                  | 8/300 [00:08<04:51,  1.00it/s]"
     ]
    },
    {
     "name": "stdout",
     "output_type": "stream",
     "text": [
      "Epoch  7 , loss 0.5843391272367215\n",
      "Epoch  8 , loss 0.5653581981565438\n"
     ]
    },
    {
     "name": "stderr",
     "output_type": "stream",
     "text": [
      "\r",
      "Iterations:   3%|█                                  | 9/300 [00:10<05:19,  1.10s/it]"
     ]
    },
    {
     "name": "stdout",
     "output_type": "stream",
     "text": [
      "Epoch:  8\n",
      "t_loss:  0.5653581981565438 , v_loss:  0.6315245032310486\n",
      "t_acc:  0.6728913787737317 , v_acc:  0.7267080745341615\n",
      "t_recall:  0.5233485678209193 , v_recall:  0.5709909909909909\n",
      "t_prec:  0.5510596916969474 , v_prec:  0.7609271523178809\n",
      "t_f:  0.5009345479476227 , v_f:  0.5493638676844783\n",
      "////////\n"
     ]
    },
    {
     "name": "stderr",
     "output_type": "stream",
     "text": [
      "\r",
      "Iterations:   3%|█▏                                | 10/300 [00:10<04:50,  1.00s/it]"
     ]
    },
    {
     "name": "stdout",
     "output_type": "stream",
     "text": [
      "Epoch  9 , loss 0.5539117303549075\n",
      "Epoch  10 , loss 0.5410025634017646\n"
     ]
    },
    {
     "name": "stderr",
     "output_type": "stream",
     "text": [
      "\r",
      "Iterations:   4%|█▏                                | 11/300 [00:12<05:18,  1.10s/it]"
     ]
    },
    {
     "name": "stdout",
     "output_type": "stream",
     "text": [
      "Epoch:  10\n",
      "t_loss:  0.5410025634017646 , v_loss:  0.6222745478153229\n",
      "t_acc:  0.6834733893557423 , v_acc:  0.7018633540372671\n",
      "t_recall:  0.5145654053608927 , v_recall:  0.5254954954954955\n",
      "t_prec:  0.5525881548433134 , v_prec:  0.7253184713375795\n",
      "t_f:  0.47178976863551253 , v_f:  0.4660033167495854\n",
      "////////\n"
     ]
    },
    {
     "name": "stderr",
     "output_type": "stream",
     "text": [
      "\r",
      "Iterations:   4%|█▎                                | 12/300 [00:12<04:49,  1.01s/it]"
     ]
    },
    {
     "name": "stdout",
     "output_type": "stream",
     "text": [
      "Epoch  11 , loss 0.527734659466089\n",
      "Epoch  12 , loss 0.5205557854736552\n"
     ]
    },
    {
     "name": "stderr",
     "output_type": "stream",
     "text": [
      "\r",
      "Iterations:   4%|█▍                                | 13/300 [00:14<05:11,  1.08s/it]"
     ]
    },
    {
     "name": "stdout",
     "output_type": "stream",
     "text": [
      "Epoch:  12\n",
      "t_loss:  0.5205557854736552 , v_loss:  0.6175274848937988\n",
      "t_acc:  0.6881419234360411 , v_acc:  0.7018633540372671\n",
      "t_recall:  0.5101576975336599 , v_recall:  0.5254954954954955\n",
      "t_prec:  0.554594140037178 , v_prec:  0.7253184713375795\n",
      "t_f:  0.4544048563235923 , v_f:  0.4660033167495854\n",
      "////////\n"
     ]
    },
    {
     "name": "stderr",
     "output_type": "stream",
     "text": [
      "\r",
      "Iterations:   5%|█▌                                | 14/300 [00:14<04:42,  1.01it/s]"
     ]
    },
    {
     "name": "stdout",
     "output_type": "stream",
     "text": [
      "Epoch  13 , loss 0.5090562835627911\n",
      "Epoch  14 , loss 0.4993336615609188\n"
     ]
    },
    {
     "name": "stderr",
     "output_type": "stream",
     "text": [
      "\r",
      "Iterations:   5%|█▋                                | 15/300 [00:16<05:14,  1.11s/it]"
     ]
    },
    {
     "name": "stdout",
     "output_type": "stream",
     "text": [
      "Epoch:  14\n",
      "t_loss:  0.4993336615609188 , v_loss:  0.6148425539334615\n",
      "t_acc:  0.6887643946467475 , v_acc:  0.7080745341614907\n",
      "t_recall:  0.503991847490427 , v_recall:  0.53\n",
      "t_prec:  0.5331975071907957 , v_prec:  0.8512658227848101\n",
      "t_f:  0.4359761877677929 , v_f:  0.4692431787893666\n",
      "////////\n"
     ]
    },
    {
     "name": "stderr",
     "output_type": "stream",
     "text": [
      "\r",
      "Iterations:   5%|█▊                                | 16/300 [00:17<04:49,  1.02s/it]"
     ]
    },
    {
     "name": "stdout",
     "output_type": "stream",
     "text": [
      "Epoch  15 , loss 0.48873810616194036\n",
      "Epoch  16 , loss 0.47960536328016545\n"
     ]
    },
    {
     "name": "stderr",
     "output_type": "stream",
     "text": [
      "\r",
      "Iterations:   6%|█▉                                | 17/300 [00:18<05:10,  1.10s/it]"
     ]
    },
    {
     "name": "stdout",
     "output_type": "stream",
     "text": [
      "Epoch:  16\n",
      "t_loss:  0.47960536328016545 , v_loss:  0.6136613090833029\n",
      "t_acc:  0.6977902272019919 , v_acc:  0.7018633540372671\n",
      "t_recall:  0.5078917390647946 , v_recall:  0.52\n",
      "t_prec:  0.6467935189597658 , v_prec:  0.8490566037735849\n",
      "t_f:  0.43195024184451847 , v_f:  0.44957264957264953\n",
      "////////\n"
     ]
    },
    {
     "name": "stderr",
     "output_type": "stream",
     "text": [
      "\r",
      "Iterations:   6%|██                                | 18/300 [00:19<04:40,  1.00it/s]"
     ]
    },
    {
     "name": "stdout",
     "output_type": "stream",
     "text": [
      "Epoch  17 , loss 0.4810873573901607\n",
      "Epoch  18 , loss 0.4713788406521666\n"
     ]
    },
    {
     "name": "stderr",
     "output_type": "stream",
     "text": [
      "\r",
      "Iterations:   6%|██▏                               | 19/300 [00:20<05:08,  1.10s/it]"
     ]
    },
    {
     "name": "stdout",
     "output_type": "stream",
     "text": [
      "Epoch:  18\n",
      "t_loss:  0.4713788406521666 , v_loss:  0.6142550408840179\n",
      "t_acc:  0.6962340491752257 , v_acc:  0.7018633540372671\n",
      "t_recall:  0.5059105694404413 , v_recall:  0.52\n",
      "t_prec:  0.6129603399433428 , v_prec:  0.8490566037735849\n",
      "t_f:  0.4285676799748094 , v_f:  0.44957264957264953\n",
      "////////\n"
     ]
    },
    {
     "name": "stderr",
     "output_type": "stream",
     "text": [
      "\r",
      "Iterations:   7%|██▎                               | 20/300 [00:21<04:42,  1.01s/it]"
     ]
    },
    {
     "name": "stdout",
     "output_type": "stream",
     "text": [
      "Epoch  19 , loss 0.47658727975452647\n",
      "Epoch  20 , loss 0.4630153091514812\n"
     ]
    },
    {
     "name": "stderr",
     "output_type": "stream",
     "text": [
      "\r",
      "Iterations:   7%|██▍                               | 21/300 [00:22<05:10,  1.11s/it]"
     ]
    },
    {
     "name": "stdout",
     "output_type": "stream",
     "text": [
      "Epoch:  20\n",
      "t_loss:  0.4630153091514812 , v_loss:  0.6152823567390442\n",
      "t_acc:  0.6940553999377529 , v_acc:  0.7018633540372671\n",
      "t_recall:  0.5014692359424109 , v_recall:  0.52\n",
      "t_prec:  0.5437712961700968 , v_prec:  0.8490566037735849\n",
      "t_f:  0.41839193064999514 , v_f:  0.44957264957264953\n",
      "////////\n"
     ]
    },
    {
     "name": "stderr",
     "output_type": "stream",
     "text": [
      "\r",
      "Iterations:   7%|██▍                               | 22/300 [00:23<04:41,  1.01s/it]"
     ]
    },
    {
     "name": "stdout",
     "output_type": "stream",
     "text": [
      "Epoch  21 , loss 0.45874982896973104\n",
      "Epoch  22 , loss 0.4577232675225127\n"
     ]
    },
    {
     "name": "stderr",
     "output_type": "stream",
     "text": [
      "\r",
      "Iterations:   8%|██▌                               | 23/300 [00:24<05:03,  1.10s/it]"
     ]
    },
    {
     "name": "stdout",
     "output_type": "stream",
     "text": [
      "Epoch:  22\n",
      "t_loss:  0.4577232675225127 , v_loss:  0.6162187457084656\n",
      "t_acc:  0.6949891067538126 , v_acc:  0.6894409937888198\n",
      "t_recall:  0.5015653092875475 , v_recall:  0.5\n",
      "t_prec:  0.5668888802001877 , v_prec:  0.3447204968944099\n",
      "t_f:  0.41683606795411643 , v_f:  0.4080882352941176\n",
      "////////\n"
     ]
    },
    {
     "name": "stderr",
     "output_type": "stream",
     "text": [
      "\r",
      "Iterations:   8%|██▋                               | 24/300 [00:25<04:40,  1.01s/it]"
     ]
    },
    {
     "name": "stdout",
     "output_type": "stream",
     "text": [
      "Epoch  23 , loss 0.46153216502245736\n",
      "Epoch  24 , loss 0.4491976482026717\n"
     ]
    },
    {
     "name": "stderr",
     "output_type": "stream",
     "text": [
      "\r",
      "Iterations:   8%|██▊                               | 25/300 [00:26<04:56,  1.08s/it]"
     ]
    },
    {
     "name": "stdout",
     "output_type": "stream",
     "text": [
      "Epoch:  24\n",
      "t_loss:  0.4491976482026717 , v_loss:  0.6171568433443705\n",
      "t_acc:  0.6971677559912854 , v_acc:  0.6894409937888198\n",
      "t_recall:  0.5031313048132746 , v_recall:  0.5\n",
      "t_prec:  0.7373595505617978 , v_prec:  0.3447204968944099\n",
      "t_f:  0.41764560913497084 , v_f:  0.4080882352941176\n",
      "////////\n"
     ]
    },
    {
     "name": "stderr",
     "output_type": "stream",
     "text": [
      "\r",
      "Iterations:   9%|██▉                               | 26/300 [00:27<04:31,  1.01it/s]"
     ]
    },
    {
     "name": "stdout",
     "output_type": "stream",
     "text": [
      "Epoch  25 , loss 0.44541018616919426\n",
      "Epoch  26 , loss 0.45534155999912934\n"
     ]
    },
    {
     "name": "stderr",
     "output_type": "stream",
     "text": [
      "\r",
      "Iterations:   9%|███                               | 27/300 [00:28<04:54,  1.08s/it]"
     ]
    },
    {
     "name": "stdout",
     "output_type": "stream",
     "text": [
      "Epoch:  26\n",
      "t_loss:  0.45534155999912934 , v_loss:  0.6182516018549601\n",
      "t_acc:  0.6962340491752257 , v_acc:  0.6894409937888198\n",
      "t_recall:  0.5024601638736773 , v_recall:  0.5\n",
      "t_prec:  0.6399953139643861 , v_prec:  0.3447204968944099\n",
      "t_f:  0.4172988159743127 , v_f:  0.4080882352941176\n",
      "////////\n"
     ]
    },
    {
     "name": "stderr",
     "output_type": "stream",
     "text": [
      "\r",
      "Iterations:   9%|███▏                              | 28/300 [00:29<04:36,  1.02s/it]"
     ]
    },
    {
     "name": "stdout",
     "output_type": "stream",
     "text": [
      "Epoch  27 , loss 0.44229792496737314\n",
      "Epoch  28 , loss 0.452491913356033\n"
     ]
    },
    {
     "name": "stderr",
     "output_type": "stream",
     "text": [
      "\r",
      "Iterations:  10%|███▎                              | 29/300 [00:31<04:57,  1.10s/it]"
     ]
    },
    {
     "name": "stdout",
     "output_type": "stream",
     "text": [
      "Epoch:  28\n",
      "t_loss:  0.452491913356033 , v_loss:  0.6182934542497\n",
      "t_acc:  0.6959228135698724 , v_acc:  0.6894409937888198\n",
      "t_recall:  0.5013738488354538 , v_recall:  0.5\n",
      "t_prec:  0.6338116032439176 , v_prec:  0.3447204968944099\n",
      "t_f:  0.4142796235015772 , v_f:  0.4080882352941176\n",
      "////////\n"
     ]
    },
    {
     "name": "stderr",
     "output_type": "stream",
     "text": [
      "\r",
      "Iterations:  10%|███▍                              | 30/300 [00:31<04:39,  1.04s/it]"
     ]
    },
    {
     "name": "stdout",
     "output_type": "stream",
     "text": [
      "Epoch  29 , loss 0.446802207067901\n",
      "Epoch  30 , loss 0.44052381725872264\n"
     ]
    }
   ],
   "source": [
    "from utilities.userfold_framework import *\n",
    "from utilities.EEG_func import *\n",
    "import Models.model_func as Model_Func\n",
    "import numpy as np\n",
    "import pandas as pd\n",
    "import matplotlib.pyplot as plt\n",
    "import seaborn as sns\n",
    "from typing import List\n",
    "from torcheeg.models import EEGNet\n",
    "# import Models.model_func as Model_Func\n",
    "from torch import nn\n",
    "from Models.multi_models import *\n",
    "\n",
    "DEVICE= torch.device(\"cuda\") if torch.cuda.is_available() else torch.device(\"cpu\")\n",
    "\n",
    "learning_rate = 0.00005\n",
    "batch_size = 64\n",
    "n_epochs = 300\n",
    "transpose_channels=True\n",
    "participants_dictionary=[]\n",
    "# participants_online_dictionary=[]\n",
    "participants_grads_dictionary={}\n",
    "b_acc_list=[]\n",
    "c0_acc_list=[]\n",
    "c1_acc_list=[]\n",
    "\n",
    "# EPOCH=[\n",
    "    \n",
    "# ]\n",
    "\n",
    "for i in range(len(participants)):\n",
    "\n",
    "    train_dataloader, val_dataloader, classes, input_dim, class_ratio= user_fold_load(i,\n",
    "                                                                                      raw_user_fold,\n",
    "                                                                                      participants,\n",
    "                                                                                      batch_size=batch_size,\n",
    "                                                                                      transpose_channels=transpose_channels)\n",
    "\n",
    "    classifier= EEGNet(\n",
    "        chunk_size=input_dim[1],\n",
    "        num_electrodes=input_dim[0],\n",
    "        num_classes=classes,\n",
    "        kernel_1= 32,\n",
    "        kernel_2=32,\n",
    "        F1=8,\n",
    "        F2=16,\n",
    "        dropout=0.5\n",
    "    ).to(DEVICE)\n",
    "    \n",
    "#     resnet = ResNetPlus(input_dim[0], classes, bn_1st=False)\n",
    "#     softmax_activation = nn.LogSoftmax(dim=1)\n",
    "#     classifier = nn.Sequential(resnet, softmax_activation).to(DEVICE)\n",
    "\n",
    "    \n",
    "#     classifier = DataGliderBasic_Model(DEVICE, input_dim, classes)\n",
    "#     classifier.to(DEVICE)\n",
    "    \n",
    "#     optimizer= torch.optim.RMSprop(classifier.parameters(), lr=learning_rate)\n",
    "    \n",
    "    \n",
    "    criterion= torch.nn.CrossEntropyLoss(weight=torch.tensor(class_ratio, dtype=torch.float).to(DEVICE))\n",
    "#     criterion = nn.NLLLoss(weight=torch.tensor(class_ratio, dtype=torch.float).to(DEVICE))\n",
    "        \n",
    "    saved_dir= \"./EEG/saved_models/Userfold/run0\"\n",
    "    model = EEGNet_IE_Wrapper(DEVICE, classifier, input_dim).to(DEVICE)\n",
    "    optimizer = torch.optim.Adam(model.parameters(), lr = learning_rate)\n",
    "    scheduler= torch.optim.lr_scheduler.ReduceLROnPlateau(optimizer, patience=2)\n",
    "\n",
    "    \n",
    "    train_func= eeg_train\n",
    "    model.training_procedure(iteration=n_epochs,\n",
    "                                    train_dataloader=train_dataloader,\n",
    "                                     val_dataloader=val_dataloader,\n",
    "                                     print_cycle=2,\n",
    "                                     path=f\"./dictionary/intermdiate_dicts\",\n",
    "                                     loss_func=criterion,\n",
    "                                     optimiser=optimizer, #scheduler=scheduler,\n",
    "                                     train_func=train_func\n",
    "                                    )\n",
    "    if model.epoch == n_epochs+1:\n",
    "        EPOCH= n_epochs\n",
    "    else:\n",
    "        EPOCH= model.epoch\n",
    "    \n",
    "    torch.save(model.state_dict(), \n",
    "           os.path.join(\n",
    "               saved_dir, f\"Userfold-{participants[i]}-EEGNet-Weight_Multivariate-e{EPOCH}.pt\"\n",
    "           )\n",
    "    )\n",
    "\n",
    "    pickle.dump( model.return_IE_weights(), \n",
    "                open(f\"{saved_dir}/Userfold-{participants[i]}-EEGNet-Weight_Multivariate-w-e{EPOCH}.pkl\", \"wb\") \n",
    "               )    \n",
    "\n",
    "# OR\n",
    "#     model.load_state_dict(\n",
    "#     torch.load(\n",
    "#         open(\n",
    "#             os.path.join(\n",
    "#                 saved_dir, f\"Userfold-{participants[i]}-EEGNet-Weight_Multivariate-e{n_epochs}.pt\"\n",
    "#             ), \"rb\"\n",
    "#         )\n",
    "#               )\n",
    "#     )\n",
    "#     pickle.load( \n",
    "#                 open(f\"{saved_dir}/Userfold-{participants[i]}-EEGNet-Weight_Multivariate-w-e{EPOCH}.pkl\", \"rb\") \n",
    "#                )  \n",
    "    \n",
    "    prediction, dictionary= model.prediction_procedure(val_dataloader, dict_flag=True)\n",
    "    \n",
    "    ys= np.concatenate([y.detach().cpu().numpy() for x, y in val_dataloader])\n",
    "    \n",
    "    c0_acc, c1_acc, b_acc= calculate_accuracy(ys, prediction)\n",
    "    print(\"c0_acc\", c0_acc, \", c1_acc\", c1_acc, \", b_acc\", b_acc)\n",
    "    b_acc_list.append(b_acc)\n",
    "    c0_acc_list.append(c0_acc)\n",
    "    c1_acc_list.append(c1_acc)\n",
    "    participants_dictionary.append(dictionary)\n",
    "    \n",
    "\n",
    "tmp=[]\n",
    "for i, dictionary in enumerate(participants_dictionary):\n",
    "    print(f\"User {participants[i]} f1: {dictionary['weighted avg']['f1-score']} acc: {dictionary['accuracy']}\")\n",
    "    print(f\" c0: {c0_acc_list[i]} c1: {c1_acc_list[i]} bacc: {b_acc_list[i]}\")\n",
    "    tmp.append(dictionary['weighted avg']['f1-score'])\n",
    "\n",
    "print(f\"average {np.mean(tmp)}\")\n",
    "print()\n",
    "print(np.array(b_acc_list).mean())\n",
    "print(np.array(c1_acc_list).mean())\n",
    "print(np.array(c0_acc_list).mean())\n"
   ]
  },
  {
   "cell_type": "code",
   "execution_count": null,
   "id": "eb9de653",
   "metadata": {},
   "outputs": [],
   "source": [
    "userfold_results_summary(participants_dictionary, participants)\n",
    "userfold_classwise_results_summary(participants_dictionary, participants)\n"
   ]
  },
  {
   "cell_type": "code",
   "execution_count": null,
   "id": "e59fac16",
   "metadata": {},
   "outputs": [],
   "source": [
    "model.return_IE_weights()"
   ]
  }
 ],
 "metadata": {
  "kernelspec": {
   "display_name": "Python [conda env:pytorch]",
   "language": "python",
   "name": "conda-env-pytorch-py"
  },
  "language_info": {
   "codemirror_mode": {
    "name": "ipython",
    "version": 3
   },
   "file_extension": ".py",
   "mimetype": "text/x-python",
   "name": "python",
   "nbconvert_exporter": "python",
   "pygments_lexer": "ipython3",
   "version": "3.7.10"
  }
 },
 "nbformat": 4,
 "nbformat_minor": 5
}
