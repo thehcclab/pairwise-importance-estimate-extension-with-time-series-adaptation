{
 "cells": [
  {
   "cell_type": "code",
   "execution_count": 2,
   "id": "4c9e593e",
   "metadata": {},
   "outputs": [],
   "source": [
    "import numpy as np\n",
    "import pickle\n",
    "import sys\n",
    "from typing import List\n",
    "import torch\n",
    "import os"
   ]
  },
  {
   "cell_type": "code",
   "execution_count": 3,
   "id": "eb96ce98",
   "metadata": {},
   "outputs": [],
   "source": [
    "participant_data_path = './EEG/number'\n",
    "processed_data_path = './EEG/processed_data'\n",
    "split_data_path = './EEG/split_data'"
   ]
  },
  {
   "cell_type": "code",
   "execution_count": 4,
   "id": "62c74d3a",
   "metadata": {},
   "outputs": [],
   "source": [
    "ps = os.listdir(participant_data_path)\n",
    "participants=[]\n",
    "for p in ps:\n",
    "    p= p[:3]\n",
    "    if p not in participants:\n",
    "        participants.append(p)\n",
    "        \n",
    "participants= sorted(participants)\n",
    "# participants, len(participants)"
   ]
  },
  {
   "cell_type": "code",
   "execution_count": 5,
   "id": "28f3009e",
   "metadata": {
    "scrolled": true
   },
   "outputs": [],
   "source": [
    "load_name=f\"userfold_data_scaled_p_dictionary-number\"\n",
    "data_dir = \"./EEG/split_data/standard_scaled\"\n",
    "try:\n",
    "    raw_user_fold= pickle.load(open(os.path.join(data_dir, f\"{load_name}.pkl\"), \"rb\"))\n",
    "except:\n",
    "    print(f\"pickle file does not exist. Use EEG-Preprocess.ipynb and EEG-Split.ipynb to save data setting.\")\n",
    "    sys.exit()"
   ]
  },
  {
   "cell_type": "code",
   "execution_count": null,
   "id": "082a80ac",
   "metadata": {
    "scrolled": true
   },
   "outputs": [
    {
     "name": "stderr",
     "output_type": "stream",
     "text": [
      "\r",
      "Iterations:   0%|                                           | 0/300 [00:00<?, ?it/s]"
     ]
    },
    {
     "name": "stdout",
     "output_type": "stream",
     "text": [
      "Epoch  0 , loss 0.7187887932740006\n"
     ]
    },
    {
     "name": "stderr",
     "output_type": "stream",
     "text": [
      "\r",
      "Iterations:   0%|                                   | 1/300 [00:03<16:30,  3.31s/it]"
     ]
    },
    {
     "name": "stdout",
     "output_type": "stream",
     "text": [
      "Epoch:  0\n",
      "t_loss:  0.7187887932740006 , v_loss:  0.6870031356811523\n",
      "t_acc:  0.5026455026455027 , v_acc:  0.6583850931677019\n",
      "t_recall:  0.5139779854792002 , v_recall:  0.5159459459459459\n",
      "t_prec:  0.5118647826022797 , v_prec:  0.5328020756115641\n",
      "t_f:  0.48746261564692406 , v_f:  0.4927536231884058\n",
      "////////\n"
     ]
    },
    {
     "name": "stderr",
     "output_type": "stream",
     "text": [
      "\r",
      "Iterations:   1%|▏                                  | 2/300 [00:04<09:00,  1.81s/it]"
     ]
    },
    {
     "name": "stdout",
     "output_type": "stream",
     "text": [
      "Epoch  1 , loss 0.678608986676908\n",
      "Epoch  2 , loss 0.655304818761115\n"
     ]
    },
    {
     "name": "stderr",
     "output_type": "stream",
     "text": [
      "\r",
      "Iterations:   1%|▎                                  | 3/300 [00:05<07:45,  1.57s/it]"
     ]
    },
    {
     "name": "stdout",
     "output_type": "stream",
     "text": [
      "Epoch:  2\n",
      "t_loss:  0.655304818761115 , v_loss:  0.6756054560343424\n",
      "t_acc:  0.578275754746343 , v_acc:  0.6770186335403726\n",
      "t_recall:  0.5254978657992616 , v_recall:  0.501981981981982\n",
      "t_prec:  0.5235746263353626 , v_prec:  0.5118279569892473\n",
      "t_f:  0.5229716476125162 , v_f:  0.43796992481203006\n",
      "////////\n"
     ]
    },
    {
     "name": "stderr",
     "output_type": "stream",
     "text": [
      "\r",
      "Iterations:   1%|▍                                  | 4/300 [00:06<06:05,  1.24s/it]"
     ]
    },
    {
     "name": "stdout",
     "output_type": "stream",
     "text": [
      "Epoch  3 , loss 0.6327469629399917\n",
      "Epoch  4 , loss 0.6051731693978403\n"
     ]
    },
    {
     "name": "stderr",
     "output_type": "stream",
     "text": [
      "\r",
      "Iterations:   2%|▌                                  | 5/300 [00:07<06:06,  1.24s/it]"
     ]
    },
    {
     "name": "stdout",
     "output_type": "stream",
     "text": [
      "Epoch:  4\n",
      "t_loss:  0.6051731693978403 , v_loss:  0.6649429400761923\n",
      "t_acc:  0.6258948023653906 , v_acc:  0.6770186335403726\n",
      "t_recall:  0.5157333827424823 , v_recall:  0.501981981981982\n",
      "t_prec:  0.5199233319159142 , v_prec:  0.5118279569892473\n",
      "t_f:  0.5118502545642073 , v_f:  0.43796992481203006\n",
      "////////\n"
     ]
    },
    {
     "name": "stderr",
     "output_type": "stream",
     "text": [
      "\r",
      "Iterations:   2%|▋                                  | 6/300 [00:08<05:14,  1.07s/it]"
     ]
    },
    {
     "name": "stdout",
     "output_type": "stream",
     "text": [
      "Epoch  5 , loss 0.5913067191254859\n",
      "Epoch  6 , loss 0.5699857052634744\n"
     ]
    },
    {
     "name": "stderr",
     "output_type": "stream",
     "text": [
      "\r",
      "Iterations:   2%|▊                                  | 7/300 [00:09<05:32,  1.13s/it]"
     ]
    },
    {
     "name": "stdout",
     "output_type": "stream",
     "text": [
      "Epoch:  6\n",
      "t_loss:  0.5699857052634744 , v_loss:  0.6553887724876404\n",
      "t_acc:  0.6623093681917211 , v_acc:  0.6894409937888198\n",
      "t_recall:  0.513729567258204 , v_recall:  0.510990990990991\n",
      "t_prec:  0.5285967891324482 , v_prec:  0.5971337579617835\n",
      "t_f:  0.4904407905209056 , v_f:  0.4437534549474848\n",
      "////////\n"
     ]
    },
    {
     "name": "stderr",
     "output_type": "stream",
     "text": [
      "\r",
      "Iterations:   3%|▉                                  | 8/300 [00:10<04:56,  1.02s/it]"
     ]
    },
    {
     "name": "stdout",
     "output_type": "stream",
     "text": [
      "Epoch  7 , loss 0.5545885843389174\n",
      "Epoch  8 , loss 0.5386586370421391\n"
     ]
    },
    {
     "name": "stderr",
     "output_type": "stream",
     "text": [
      "\r",
      "Iterations:   3%|█                                  | 9/300 [00:11<05:18,  1.09s/it]"
     ]
    },
    {
     "name": "stdout",
     "output_type": "stream",
     "text": [
      "Epoch:  8\n",
      "t_loss:  0.5386586370421391 , v_loss:  0.6496353546778361\n",
      "t_acc:  0.6862745098039216 , v_acc:  0.6832298136645962\n",
      "t_recall:  0.518591564760297 , v_recall:  0.4954954954954955\n",
      "t_prec:  0.56560420507489 , v_prec:  0.34375\n",
      "t_f:  0.47817781535828086 , v_f:  0.40590405904059035\n",
      "////////\n"
     ]
    },
    {
     "name": "stderr",
     "output_type": "stream",
     "text": [
      "\r",
      "Iterations:   3%|█▏                                | 10/300 [00:12<04:45,  1.01it/s]"
     ]
    },
    {
     "name": "stdout",
     "output_type": "stream",
     "text": [
      "Epoch  9 , loss 0.5275582864004023\n",
      "Epoch  10 , loss 0.5128797795258316\n"
     ]
    },
    {
     "name": "stderr",
     "output_type": "stream",
     "text": [
      "\r",
      "Iterations:   4%|█▏                                | 11/300 [00:13<05:10,  1.08s/it]"
     ]
    },
    {
     "name": "stdout",
     "output_type": "stream",
     "text": [
      "Epoch:  10\n",
      "t_loss:  0.5128797795258316 , v_loss:  0.647763709227244\n",
      "t_acc:  0.6862745098039216 , v_acc:  0.6894409937888198\n",
      "t_recall:  0.509390483248926 , v_recall:  0.5\n",
      "t_prec:  0.5470691292004715 , v_prec:  0.3447204968944099\n",
      "t_f:  0.45501319261213713 , v_f:  0.4080882352941176\n",
      "////////\n"
     ]
    },
    {
     "name": "stderr",
     "output_type": "stream",
     "text": [
      "\r",
      "Iterations:   4%|█▎                                | 12/300 [00:14<04:39,  1.03it/s]"
     ]
    },
    {
     "name": "stdout",
     "output_type": "stream",
     "text": [
      "Epoch  11 , loss 0.5014692907239876\n",
      "Epoch  12 , loss 0.4962338092280369\n"
     ]
    },
    {
     "name": "stderr",
     "output_type": "stream",
     "text": [
      "\r",
      "Iterations:   4%|█▍                                | 13/300 [00:15<05:02,  1.06s/it]"
     ]
    },
    {
     "name": "stdout",
     "output_type": "stream",
     "text": [
      "Epoch:  12\n",
      "t_loss:  0.4962338092280369 , v_loss:  0.6479450563589731\n",
      "t_acc:  0.6937441643323996 , v_acc:  0.6894409937888198\n",
      "t_recall:  0.5072837320377156 , v_recall:  0.5\n",
      "t_prec:  0.576653089522489 , v_prec:  0.3447204968944099\n",
      "t_f:  0.4373198016376427 , v_f:  0.4080882352941176\n",
      "////////\n"
     ]
    },
    {
     "name": "stderr",
     "output_type": "stream",
     "text": [
      "\r",
      "Iterations:   5%|█▌                                | 14/300 [00:16<04:32,  1.05it/s]"
     ]
    },
    {
     "name": "stdout",
     "output_type": "stream",
     "text": [
      "Epoch  13 , loss 0.48887454353126825\n",
      "Epoch  14 , loss 0.4812183269098693\n"
     ]
    },
    {
     "name": "stderr",
     "output_type": "stream",
     "text": [
      "\r",
      "Iterations:   5%|█▋                                | 15/300 [00:17<04:55,  1.04s/it]"
     ]
    },
    {
     "name": "stdout",
     "output_type": "stream",
     "text": [
      "Epoch:  14\n",
      "t_loss:  0.4812183269098693 , v_loss:  0.649589349826177\n",
      "t_acc:  0.6956115779645191 , v_acc:  0.6894409937888198\n",
      "t_recall:  0.5063257435390676 , v_recall:  0.5\n",
      "t_prec:  0.5991637740612181 , v_prec:  0.3447204968944099\n",
      "t_f:  0.43103789176966834 , v_f:  0.4080882352941176\n",
      "////////\n"
     ]
    },
    {
     "name": "stderr",
     "output_type": "stream",
     "text": [
      "\r",
      "Iterations:   5%|█▊                                | 16/300 [00:18<04:27,  1.06it/s]"
     ]
    },
    {
     "name": "stdout",
     "output_type": "stream",
     "text": [
      "Epoch  15 , loss 0.4771970779288049\n",
      "Epoch  16 , loss 0.4776691765177484\n"
     ]
    },
    {
     "name": "stderr",
     "output_type": "stream",
     "text": [
      "\r",
      "Iterations:   6%|█▉                                | 17/300 [00:19<04:50,  1.02s/it]"
     ]
    },
    {
     "name": "stdout",
     "output_type": "stream",
     "text": [
      "Epoch:  16\n",
      "t_loss:  0.4776691765177484 , v_loss:  0.6512853105862936\n",
      "t_acc:  0.6959228135698724 , v_acc:  0.6894409937888198\n",
      "t_recall:  0.5028115178216055 , v_recall:  0.5\n",
      "t_prec:  0.6131101376720901 , v_prec:  0.3447204968944099\n",
      "t_f:  0.4190986232950797 , v_f:  0.4080882352941176\n",
      "////////\n"
     ]
    },
    {
     "name": "stderr",
     "output_type": "stream",
     "text": [
      "\r",
      "Iterations:   6%|██                                | 18/300 [00:20<04:25,  1.06it/s]"
     ]
    },
    {
     "name": "stdout",
     "output_type": "stream",
     "text": [
      "Epoch  17 , loss 0.47273390959290895\n",
      "Epoch  18 , loss 0.46826701655107383\n"
     ]
    },
    {
     "name": "stderr",
     "output_type": "stream",
     "text": [
      "\r",
      "Iterations:   6%|██▏                               | 19/300 [00:21<04:52,  1.04s/it]"
     ]
    },
    {
     "name": "stdout",
     "output_type": "stream",
     "text": [
      "Epoch:  18\n",
      "t_loss:  0.46826701655107383 , v_loss:  0.6546951333681742\n",
      "t_acc:  0.6934329287270464 , v_acc:  0.6894409937888198\n",
      "t_recall:  0.5007342748521156 , v_recall:  0.5\n",
      "t_prec:  0.521875425923402 , v_prec:  0.3447204968944099\n",
      "t_f:  0.41720859785375913 , v_f:  0.4080882352941176\n",
      "////////\n"
     ]
    },
    {
     "name": "stderr",
     "output_type": "stream",
     "text": [
      "\r",
      "Iterations:   7%|██▎                               | 20/300 [00:21<04:24,  1.06it/s]"
     ]
    },
    {
     "name": "stdout",
     "output_type": "stream",
     "text": [
      "Epoch  19 , loss 0.46033605231958274\n",
      "Epoch  20 , loss 0.4572233312270221\n"
     ]
    },
    {
     "name": "stderr",
     "output_type": "stream",
     "text": [
      "\r",
      "Iterations:   7%|██▍                               | 21/300 [00:23<04:52,  1.05s/it]"
     ]
    },
    {
     "name": "stdout",
     "output_type": "stream",
     "text": [
      "Epoch:  20\n",
      "t_loss:  0.4572233312270221 , v_loss:  0.6567367811997732\n",
      "t_acc:  0.6959228135698724 , v_acc:  0.6894409937888198\n",
      "t_recall:  0.5022364502271449 , v_recall:  0.5\n",
      "t_prec:  0.6175120192307693 , v_prec:  0.3447204968944099\n",
      "t_f:  0.41718316736553546 , v_f:  0.4080882352941176\n",
      "////////\n"
     ]
    },
    {
     "name": "stderr",
     "output_type": "stream",
     "text": [
      "\r",
      "Iterations:   7%|██▍                               | 22/300 [00:24<04:23,  1.05it/s]"
     ]
    },
    {
     "name": "stdout",
     "output_type": "stream",
     "text": [
      "Epoch  21 , loss 0.45801454256562624\n",
      "Epoch  22 , loss 0.4553716936532189\n"
     ]
    },
    {
     "name": "stderr",
     "output_type": "stream",
     "text": [
      "\r",
      "Iterations:   8%|██▌                               | 23/300 [00:25<04:44,  1.03s/it]"
     ]
    },
    {
     "name": "stdout",
     "output_type": "stream",
     "text": [
      "Epoch:  22\n",
      "t_loss:  0.4553716936532189 , v_loss:  0.6582648654778799\n",
      "t_acc:  0.6946778711484594 , v_acc:  0.6894409937888198\n",
      "t_recall:  0.5001914604520937 , v_recall:  0.5\n",
      "t_prec:  0.5145131086142322 , v_prec:  0.3447204968944099\n",
      "t_f:  0.4128574949243642 , v_f:  0.4080882352941176\n",
      "////////\n"
     ]
    },
    {
     "name": "stderr",
     "output_type": "stream",
     "text": [
      "\r",
      "Iterations:   8%|██▋                               | 24/300 [00:25<04:18,  1.07it/s]"
     ]
    },
    {
     "name": "stdout",
     "output_type": "stream",
     "text": [
      "Epoch  23 , loss 0.4552052599542281\n",
      "Epoch  24 , loss 0.45013584225785497\n"
     ]
    },
    {
     "name": "stderr",
     "output_type": "stream",
     "text": [
      "\r",
      "Iterations:   8%|██▊                               | 25/300 [00:27<04:40,  1.02s/it]"
     ]
    },
    {
     "name": "stdout",
     "output_type": "stream",
     "text": [
      "Epoch:  24\n",
      "t_loss:  0.45013584225785497 , v_loss:  0.6600398818651835\n",
      "t_acc:  0.6953003423591659 , v_acc:  0.6894409937888198\n",
      "t_recall:  0.5006388877451586 , v_recall:  0.5\n",
      "t_prec:  0.5622270742358079 , v_prec:  0.3447204968944099\n",
      "t_f:  0.41308060533064894 , v_f:  0.4080882352941176\n",
      "////////\n"
     ]
    },
    {
     "name": "stderr",
     "output_type": "stream",
     "text": [
      "\r",
      "Iterations:   9%|██▉                               | 26/300 [00:27<04:17,  1.07it/s]"
     ]
    },
    {
     "name": "stdout",
     "output_type": "stream",
     "text": [
      "Epoch  25 , loss 0.45093394669831965\n",
      "Epoch  26 , loss 0.4498046636581421\n"
     ]
    },
    {
     "name": "stderr",
     "output_type": "stream",
     "text": [
      "\r",
      "Iterations:   9%|███                               | 27/300 [00:29<04:39,  1.02s/it]"
     ]
    },
    {
     "name": "stdout",
     "output_type": "stream",
     "text": [
      "Epoch:  26\n",
      "t_loss:  0.4498046636581421 , v_loss:  0.6613551576932272\n",
      "t_acc:  0.6949891067538126 , v_acc:  0.6894409937888198\n",
      "t_recall:  0.5004151740986261 , v_recall:  0.5\n",
      "t_prec:  0.5353939157566303 , v_prec:  0.3447204968944099\n",
      "t_f:  0.41296906693711966 , v_f:  0.4080882352941176\n",
      "////////\n"
     ]
    },
    {
     "name": "stderr",
     "output_type": "stream",
     "text": [
      "\r",
      "Iterations:   9%|███▏                              | 28/300 [00:29<04:14,  1.07it/s]"
     ]
    },
    {
     "name": "stdout",
     "output_type": "stream",
     "text": [
      "Epoch  27 , loss 0.45508838517993105\n",
      "Epoch  28 , loss 0.4489855503334719\n"
     ]
    },
    {
     "name": "stderr",
     "output_type": "stream",
     "text": [
      "\r",
      "Iterations:  10%|███▎                              | 29/300 [00:31<04:41,  1.04s/it]"
     ]
    },
    {
     "name": "stdout",
     "output_type": "stream",
     "text": [
      "Epoch:  28\n",
      "t_loss:  0.4489855503334719 , v_loss:  0.6624882519245148\n",
      "t_acc:  0.6962340491752257 , v_acc:  0.6894409937888198\n",
      "t_recall:  0.5013100286847559 , v_recall:  0.5\n",
      "t_prec:  0.7230835151137426 , v_prec:  0.3447204968944099\n",
      "t_f:  0.4134150192068549 , v_f:  0.4080882352941176\n",
      "////////\n"
     ]
    },
    {
     "name": "stderr",
     "output_type": "stream",
     "text": [
      "\r",
      "Iterations:  10%|███▍                              | 30/300 [00:31<04:15,  1.06it/s]"
     ]
    },
    {
     "name": "stdout",
     "output_type": "stream",
     "text": [
      "Epoch  29 , loss 0.4510025405416302\n",
      "Epoch  30 , loss 0.4452814979880464\n"
     ]
    },
    {
     "name": "stderr",
     "output_type": "stream",
     "text": [
      "\r",
      "Iterations:  10%|███▌                              | 31/300 [00:33<04:37,  1.03s/it]"
     ]
    },
    {
     "name": "stdout",
     "output_type": "stream",
     "text": [
      "Epoch:  30\n",
      "t_loss:  0.4452814979880464 , v_loss:  0.6595554600159327\n",
      "t_acc:  0.6971677559912854 , v_acc:  0.6894409937888198\n",
      "t_recall:  0.5028437710160443 , v_recall:  0.5\n",
      "t_prec:  0.7769806612601372 , v_prec:  0.3447204968944099\n",
      "t_f:  0.41667765984343347 , v_f:  0.4080882352941176\n",
      "////////\n"
     ]
    },
    {
     "name": "stderr",
     "output_type": "stream",
     "text": [
      "\r",
      "Iterations:  11%|███▋                              | 32/300 [00:33<04:11,  1.07it/s]"
     ]
    },
    {
     "name": "stdout",
     "output_type": "stream",
     "text": [
      "Epoch  31 , loss 0.4455600328305188\n",
      "Epoch  32 , loss 0.44860297850534026\n"
     ]
    },
    {
     "name": "stderr",
     "output_type": "stream",
     "text": [
      "\r",
      "Iterations:  11%|███▋                              | 33/300 [00:35<04:33,  1.02s/it]"
     ]
    },
    {
     "name": "stdout",
     "output_type": "stream",
     "text": [
      "Epoch:  32\n",
      "t_loss:  0.44860297850534026 , v_loss:  0.6579234848419825\n",
      "t_acc:  0.6956115779645191 , v_acc:  0.6894409937888198\n",
      "t_recall:  0.500862601391691 , v_recall:  0.5\n",
      "t_prec:  0.5979887745556596 , v_prec:  0.3447204968944099\n",
      "t_f:  0.4131921101460188 , v_f:  0.4080882352941176\n",
      "////////\n"
     ]
    },
    {
     "name": "stderr",
     "output_type": "stream",
     "text": [
      "\r",
      "Iterations:  11%|███▊                              | 34/300 [00:35<04:08,  1.07it/s]"
     ]
    },
    {
     "name": "stdout",
     "output_type": "stream",
     "text": [
      "Epoch  33 , loss 0.44736403752775755\n",
      "Epoch  34 , loss 0.4500657214837916\n"
     ]
    },
    {
     "name": "stderr",
     "output_type": "stream",
     "text": [
      "\r",
      "Iterations:  12%|███▉                              | 35/300 [00:36<04:30,  1.02s/it]"
     ]
    },
    {
     "name": "stdout",
     "output_type": "stream",
     "text": [
      "Epoch:  34\n",
      "t_loss:  0.4500657214837916 , v_loss:  0.6521440098683039\n",
      "t_acc:  0.6959228135698724 , v_acc:  0.6894409937888198\n",
      "t_recall:  0.5010863150382235 , v_recall:  0.5\n",
      "t_prec:  0.6480361596009975 , v_prec:  0.3447204968944099\n",
      "t_f:  0.41330358142435736 , v_f:  0.4080882352941176\n",
      "////////\n"
     ]
    },
    {
     "name": "stderr",
     "output_type": "stream",
     "text": [
      "\r",
      "Iterations:  12%|████                              | 36/300 [00:37<04:06,  1.07it/s]"
     ]
    },
    {
     "name": "stdout",
     "output_type": "stream",
     "text": [
      "Epoch  35 , loss 0.44176697263530657\n",
      "Epoch  36 , loss 0.437293375824012\n"
     ]
    },
    {
     "name": "stderr",
     "output_type": "stream",
     "text": [
      "\r",
      "Iterations:  12%|████▏                             | 37/300 [00:38<04:33,  1.04s/it]"
     ]
    },
    {
     "name": "stdout",
     "output_type": "stream",
     "text": [
      "Epoch:  36\n",
      "t_loss:  0.437293375824012 , v_loss:  0.6463366250197092\n",
      "t_acc:  0.6965452847805789 , v_acc:  0.6894409937888198\n",
      "t_recall:  0.5018212761285187 , v_recall:  0.5\n",
      "t_prec:  0.7481920199501246 , v_prec:  0.3447204968944099\n",
      "t_f:  0.4145045976343382 , v_f:  0.4080882352941176\n",
      "////////\n"
     ]
    },
    {
     "name": "stderr",
     "output_type": "stream",
     "text": [
      "\r",
      "Iterations:  13%|████▎                             | 38/300 [00:39<04:08,  1.05it/s]"
     ]
    },
    {
     "name": "stdout",
     "output_type": "stream",
     "text": [
      "Epoch  37 , loss 0.4419449164586909\n",
      "Epoch  38 , loss 0.4398832718531291\n"
     ]
    },
    {
     "name": "stderr",
     "output_type": "stream",
     "text": [
      "\r",
      "Iterations:  13%|████▍                             | 39/300 [00:40<04:29,  1.03s/it]"
     ]
    },
    {
     "name": "stdout",
     "output_type": "stream",
     "text": [
      "Epoch:  38\n",
      "t_loss:  0.4398832718531291 , v_loss:  0.6418314526478449\n",
      "t_acc:  0.6943666355431062 , v_acc:  0.6894409937888198\n",
      "t_recall:  0.4999677468055613 , v_recall:  0.5\n",
      "t_prec:  0.49779893849516077 , v_prec:  0.3447204968944099\n",
      "t_f:  0.41274588925137695 , v_f:  0.4080882352941176\n",
      "////////\n"
     ]
    },
    {
     "name": "stderr",
     "output_type": "stream",
     "text": [
      "\r",
      "Iterations:  13%|████▌                             | 40/300 [00:41<04:04,  1.06it/s]"
     ]
    },
    {
     "name": "stdout",
     "output_type": "stream",
     "text": [
      "Epoch  39 , loss 0.44519320773143395\n",
      "Epoch  40 , loss 0.4395623779764362\n"
     ]
    },
    {
     "name": "stderr",
     "output_type": "stream",
     "text": [
      "\r",
      "Iterations:  14%|████▋                             | 41/300 [00:42<04:28,  1.04s/it]"
     ]
    },
    {
     "name": "stdout",
     "output_type": "stream",
     "text": [
      "Epoch:  40\n",
      "t_loss:  0.4395623779764362 , v_loss:  0.6388934900363287\n",
      "t_acc:  0.6965452847805789 , v_acc:  0.6894409937888198\n",
      "t_recall:  0.502108809925749 , v_recall:  0.5\n",
      "t_prec:  0.7053961322520275 , v_prec:  0.3447204968944099\n",
      "t_f:  0.41547864167250537 , v_f:  0.4080882352941176\n",
      "////////\n"
     ]
    },
    {
     "name": "stderr",
     "output_type": "stream",
     "text": [
      "\r",
      "Iterations:  14%|████▊                             | 42/300 [00:43<04:04,  1.05it/s]"
     ]
    },
    {
     "name": "stdout",
     "output_type": "stream",
     "text": [
      "Epoch  41 , loss 0.4410070449698205\n",
      "Epoch  42 , loss 0.4338778917695962\n"
     ]
    },
    {
     "name": "stderr",
     "output_type": "stream",
     "text": [
      "\r",
      "Iterations:  14%|████▊                             | 43/300 [00:44<04:27,  1.04s/it]"
     ]
    },
    {
     "name": "stdout",
     "output_type": "stream",
     "text": [
      "Epoch:  42\n",
      "t_loss:  0.4338778917695962 , v_loss:  0.6361087312301\n",
      "t_acc:  0.6984126984126984 , v_acc:  0.6894409937888198\n",
      "t_recall:  0.5057513621827864 , v_recall:  0.5\n",
      "t_prec:  0.7313829787234043 , v_prec:  0.3447204968944099\n",
      "t_f:  0.42385523641037076 , v_f:  0.4080882352941176\n",
      "////////\n"
     ]
    },
    {
     "name": "stderr",
     "output_type": "stream",
     "text": [
      "\r",
      "Iterations:  15%|████▉                             | 44/300 [00:45<04:03,  1.05it/s]"
     ]
    },
    {
     "name": "stdout",
     "output_type": "stream",
     "text": [
      "Epoch  43 , loss 0.443358134989645\n",
      "Epoch  44 , loss 0.43404533933190736\n"
     ]
    },
    {
     "name": "stderr",
     "output_type": "stream",
     "text": [
      "\r",
      "Iterations:  15%|█████                             | 45/300 [00:46<04:26,  1.04s/it]"
     ]
    },
    {
     "name": "stdout",
     "output_type": "stream",
     "text": [
      "Epoch:  44\n",
      "t_loss:  0.43404533933190736 , v_loss:  0.6303441574176153\n",
      "t_acc:  0.6974789915966386 , v_acc:  0.6894409937888198\n",
      "t_recall:  0.504217619851498 , v_recall:  0.5\n",
      "t_prec:  0.7058455767427321 , v_prec:  0.3447204968944099\n",
      "t_f:  0.4206437662507272 , v_f:  0.4080882352941176\n",
      "////////\n"
     ]
    },
    {
     "name": "stderr",
     "output_type": "stream",
     "text": [
      "\r",
      "Iterations:  15%|█████▏                            | 46/300 [00:47<04:03,  1.05it/s]"
     ]
    },
    {
     "name": "stdout",
     "output_type": "stream",
     "text": [
      "Epoch  45 , loss 0.43201823766325037\n",
      "Epoch  46 , loss 0.44093876843358953\n"
     ]
    },
    {
     "name": "stderr",
     "output_type": "stream",
     "text": [
      "\r",
      "Iterations:  16%|█████▎                            | 47/300 [00:48<04:21,  1.03s/it]"
     ]
    },
    {
     "name": "stdout",
     "output_type": "stream",
     "text": [
      "Epoch:  46\n",
      "t_loss:  0.44093876843358953 , v_loss:  0.62403604388237\n",
      "t_acc:  0.6965452847805789 , v_acc:  0.6894409937888198\n",
      "t_recall:  0.5041215465063614 , v_recall:  0.5\n",
      "t_prec:  0.6343984962406015 , v_prec:  0.3447204968944099\n",
      "t_f:  0.422183377407258 , v_f:  0.4080882352941176\n",
      "////////\n"
     ]
    },
    {
     "name": "stderr",
     "output_type": "stream",
     "text": [
      "\r",
      "Iterations:  16%|█████▍                            | 48/300 [00:49<03:58,  1.06it/s]"
     ]
    },
    {
     "name": "stdout",
     "output_type": "stream",
     "text": [
      "Epoch  47 , loss 0.4369782431452882\n",
      "Epoch  48 , loss 0.4360525941147524\n"
     ]
    },
    {
     "name": "stderr",
     "output_type": "stream",
     "text": [
      "\r",
      "Iterations:  16%|█████▌                            | 49/300 [00:50<04:20,  1.04s/it]"
     ]
    },
    {
     "name": "stdout",
     "output_type": "stream",
     "text": [
      "Epoch:  48\n",
      "t_loss:  0.4360525941147524 , v_loss:  0.6205630153417587\n",
      "t_acc:  0.6993464052287581 , v_acc:  0.6894409937888198\n",
      "t_recall:  0.5078601721085354 , v_recall:  0.5\n",
      "t_prec:  0.7244825964252117 , v_prec:  0.3447204968944099\n",
      "t_f:  0.42891539928991573 , v_f:  0.4080882352941176\n",
      "////////\n"
     ]
    },
    {
     "name": "stderr",
     "output_type": "stream",
     "text": [
      "\r",
      "Iterations:  17%|█████▋                            | 50/300 [00:51<03:56,  1.06it/s]"
     ]
    },
    {
     "name": "stdout",
     "output_type": "stream",
     "text": [
      "Epoch  49 , loss 0.4382374835949318\n",
      "Epoch  50 , loss 0.4312356494221033\n"
     ]
    },
    {
     "name": "stderr",
     "output_type": "stream",
     "text": [
      "\r",
      "Iterations:  17%|█████▊                            | 51/300 [00:52<04:18,  1.04s/it]"
     ]
    },
    {
     "name": "stdout",
     "output_type": "stream",
     "text": [
      "Epoch:  50\n",
      "t_loss:  0.4312356494221033 , v_loss:  0.6171118418375651\n",
      "t_acc:  0.6974789915966386 , v_acc:  0.6894409937888198\n",
      "t_recall:  0.5047926874459587 , v_recall:  0.5\n",
      "t_prec:  0.6821596244131456 , v_prec:  0.3447204968944099\n",
      "t_f:  0.4225454303401451 , v_f:  0.4080882352941176\n",
      "////////\n"
     ]
    },
    {
     "name": "stderr",
     "output_type": "stream",
     "text": [
      "\r",
      "Iterations:  17%|█████▉                            | 52/300 [00:53<03:56,  1.05it/s]"
     ]
    },
    {
     "name": "stdout",
     "output_type": "stream",
     "text": [
      "Epoch  51 , loss 0.43048229755139816\n",
      "Epoch  52 , loss 0.4353741477517521\n"
     ]
    },
    {
     "name": "stderr",
     "output_type": "stream",
     "text": [
      "\r",
      "Iterations:  18%|██████                            | 53/300 [00:54<04:21,  1.06s/it]"
     ]
    },
    {
     "name": "stdout",
     "output_type": "stream",
     "text": [
      "Epoch:  52\n",
      "t_loss:  0.4353741477517521 , v_loss:  0.6116882860660553\n",
      "t_acc:  0.6962340491752257 , v_acc:  0.6956521739130435\n",
      "t_recall:  0.5041853666570594 , v_recall:  0.51\n",
      "t_prec:  0.6195319849482597 , v_prec:  0.846875\n",
      "t_f:  0.42300355042128135 , v_f:  0.42920193907821425\n",
      "////////\n"
     ]
    },
    {
     "name": "stderr",
     "output_type": "stream",
     "text": [
      "\r",
      "Iterations:  18%|██████                            | 54/300 [00:55<04:01,  1.02it/s]"
     ]
    },
    {
     "name": "stdout",
     "output_type": "stream",
     "text": [
      "Epoch  53 , loss 0.43338504316760046\n",
      "Epoch  54 , loss 0.4389555226354038\n"
     ]
    },
    {
     "name": "stderr",
     "output_type": "stream",
     "text": [
      "\r",
      "Iterations:  18%|██████▏                           | 55/300 [00:57<04:23,  1.08s/it]"
     ]
    },
    {
     "name": "stdout",
     "output_type": "stream",
     "text": [
      "Epoch:  54\n",
      "t_loss:  0.4389555226354038 , v_loss:  0.6104191392660141\n",
      "t_acc:  0.6953003423591659 , v_acc:  0.6956521739130435\n",
      "t_recall:  0.5020765567313102 , v_recall:  0.51\n",
      "t_prec:  0.5835419274092616 , v_prec:  0.846875\n",
      "t_f:  0.41790947001625695 , v_f:  0.42920193907821425\n",
      "////////\n"
     ]
    },
    {
     "name": "stderr",
     "output_type": "stream",
     "text": [
      "\r",
      "Iterations:  19%|██████▎                           | 56/300 [00:57<04:01,  1.01it/s]"
     ]
    },
    {
     "name": "stdout",
     "output_type": "stream",
     "text": [
      "Epoch  55 , loss 0.4322132468223572\n",
      "Epoch  56 , loss 0.43312818221017424\n"
     ]
    },
    {
     "name": "stderr",
     "output_type": "stream",
     "text": [
      "\r",
      "Iterations:  19%|██████▍                           | 57/300 [00:59<04:26,  1.10s/it]"
     ]
    },
    {
     "name": "stdout",
     "output_type": "stream",
     "text": [
      "Epoch:  56\n",
      "t_loss:  0.43312818221017424 , v_loss:  0.6070808072884878\n",
      "t_acc:  0.6949891067538126 , v_acc:  0.7018633540372671\n",
      "t_recall:  0.5030029782736992 , v_recall:  0.52\n",
      "t_prec:  0.5792160459559268 , v_prec:  0.8490566037735849\n",
      "t_f:  0.4215796349827543 , v_f:  0.44957264957264953\n",
      "////////\n"
     ]
    },
    {
     "name": "stderr",
     "output_type": "stream",
     "text": [
      "\r",
      "Iterations:  19%|██████▌                           | 58/300 [00:59<04:03,  1.01s/it]"
     ]
    },
    {
     "name": "stdout",
     "output_type": "stream",
     "text": [
      "Epoch  57 , loss 0.43352921219433055\n",
      "Epoch  58 , loss 0.428450158998078\n"
     ]
    },
    {
     "name": "stderr",
     "output_type": "stream",
     "text": [
      "\r",
      "Iterations:  20%|██████▋                           | 59/300 [01:01<04:20,  1.08s/it]"
     ]
    },
    {
     "name": "stdout",
     "output_type": "stream",
     "text": [
      "Epoch:  58\n",
      "t_loss:  0.428450158998078 , v_loss:  0.6045434723297755\n",
      "t_acc:  0.6968565203859322 , v_acc:  0.6956521739130435\n",
      "t_recall:  0.5054953953418152 , v_recall:  0.51\n",
      "t_prec:  0.6346938775510205 , v_prec:  0.846875\n",
      "t_f:  0.42605217404062706 , v_f:  0.42920193907821425\n",
      "////////\n"
     ]
    },
    {
     "name": "stderr",
     "output_type": "stream",
     "text": [
      "\r",
      "Iterations:  20%|██████▊                           | 60/300 [01:02<04:03,  1.01s/it]"
     ]
    },
    {
     "name": "stdout",
     "output_type": "stream",
     "text": [
      "Epoch  59 , loss 0.4316759430894665\n",
      "Epoch  60 , loss 0.43614979234396245\n"
     ]
    },
    {
     "name": "stderr",
     "output_type": "stream",
     "text": [
      "\r",
      "Iterations:  20%|██████▉                           | 61/300 [01:03<04:21,  1.10s/it]"
     ]
    },
    {
     "name": "stdout",
     "output_type": "stream",
     "text": [
      "Epoch:  60\n",
      "t_loss:  0.43614979234396245 , v_loss:  0.6036847283442816\n",
      "t_acc:  0.6959228135698724 , v_acc:  0.6956521739130435\n",
      "t_recall:  0.5033865854160662 , v_recall:  0.51\n",
      "t_prec:  0.6104323308270676 , v_prec:  0.846875\n",
      "t_f:  0.4209981125404011 , v_f:  0.42920193907821425\n",
      "////////\n"
     ]
    },
    {
     "name": "stderr",
     "output_type": "stream",
     "text": [
      "\r",
      "Iterations:  21%|███████                           | 62/300 [01:04<04:13,  1.07s/it]"
     ]
    },
    {
     "name": "stdout",
     "output_type": "stream",
     "text": [
      "Epoch  61 , loss 0.42505799263131383\n",
      "Epoch  62 , loss 0.42641136926763196\n"
     ]
    },
    {
     "name": "stderr",
     "output_type": "stream",
     "text": [
      "\r",
      "Iterations:  21%|███████▏                          | 63/300 [01:05<04:26,  1.13s/it]"
     ]
    },
    {
     "name": "stdout",
     "output_type": "stream",
     "text": [
      "Epoch:  62\n",
      "t_loss:  0.42641136926763196 , v_loss:  0.6009594450394312\n",
      "t_acc:  0.6977902272019919 , v_acc:  0.7018633540372671\n",
      "t_recall:  0.506454070078643 , v_recall:  0.52\n",
      "t_prec:  0.6639987445072191 , v_prec:  0.8490566037735849\n",
      "t_f:  0.42735630095234944 , v_f:  0.44957264957264953\n",
      "////////\n"
     ]
    },
    {
     "name": "stderr",
     "output_type": "stream",
     "text": [
      "\r",
      "Iterations:  21%|███████▎                          | 64/300 [01:06<04:09,  1.06s/it]"
     ]
    },
    {
     "name": "stdout",
     "output_type": "stream",
     "text": [
      "Epoch  63 , loss 0.4293757934196323\n",
      "Epoch  64 , loss 0.43381088037116855\n"
     ]
    },
    {
     "name": "stderr",
     "output_type": "stream",
     "text": [
      "\r",
      "Iterations:  22%|███████▎                          | 65/300 [01:07<04:24,  1.13s/it]"
     ]
    },
    {
     "name": "stdout",
     "output_type": "stream",
     "text": [
      "Epoch:  64\n",
      "t_loss:  0.43381088037116855 , v_loss:  0.5971375753482183\n",
      "t_acc:  0.6971677559912854 , v_acc:  0.7018633540372671\n",
      "t_recall:  0.5062941765828083 , v_recall:  0.52\n",
      "t_prec:  0.6394740577036151 , v_prec:  0.8490566037735849\n",
      "t_f:  0.42802958714014333 , v_f:  0.44957264957264953\n",
      "////////\n"
     ]
    },
    {
     "name": "stderr",
     "output_type": "stream",
     "text": [
      "\r",
      "Iterations:  22%|███████▍                          | 66/300 [01:08<04:08,  1.06s/it]"
     ]
    },
    {
     "name": "stdout",
     "output_type": "stream",
     "text": [
      "Epoch  65 , loss 0.42706102074361313\n",
      "Epoch  66 , loss 0.4340996777310091\n"
     ]
    },
    {
     "name": "stderr",
     "output_type": "stream",
     "text": [
      "\r",
      "Iterations:  22%|███████▌                          | 67/300 [01:09<04:20,  1.12s/it]"
     ]
    },
    {
     "name": "stdout",
     "output_type": "stream",
     "text": [
      "Epoch:  66\n",
      "t_loss:  0.4340996777310091 , v_loss:  0.5959881693124771\n",
      "t_acc:  0.699035169623405 , v_acc:  0.7080745341614907\n",
      "t_recall:  0.5087865936509244 , v_recall:  0.53\n",
      "t_prec:  0.6830188679245283 , v_prec:  0.8512658227848101\n",
      "t_f:  0.432471621032904 , v_f:  0.4692431787893666\n",
      "////////\n"
     ]
    },
    {
     "name": "stderr",
     "output_type": "stream",
     "text": [
      "\r",
      "Iterations:  23%|███████▋                          | 68/300 [01:10<03:57,  1.02s/it]"
     ]
    },
    {
     "name": "stdout",
     "output_type": "stream",
     "text": [
      "Epoch  67 , loss 0.42584453201761435\n",
      "Epoch  68 , loss 0.42486729224522907\n"
     ]
    },
    {
     "name": "stderr",
     "output_type": "stream",
     "text": [
      "\r",
      "Iterations:  23%|███████▊                          | 69/300 [01:12<04:12,  1.09s/it]"
     ]
    },
    {
     "name": "stdout",
     "output_type": "stream",
     "text": [
      "Epoch:  68\n",
      "t_loss:  0.42486729224522907 , v_loss:  0.5945433924595515\n",
      "t_acc:  0.7018362900715842 , v_acc:  0.7080745341614907\n",
      "t_recall:  0.5125252192530984 , v_recall:  0.53\n",
      "t_prec:  0.7393767705382437 , v_prec:  0.8512658227848101\n",
      "t_f:  0.4391063907949462 , v_f:  0.4692431787893666\n",
      "////////\n"
     ]
    },
    {
     "name": "stderr",
     "output_type": "stream",
     "text": [
      "\r",
      "Iterations:  23%|███████▉                          | 70/300 [01:12<03:48,  1.01it/s]"
     ]
    },
    {
     "name": "stdout",
     "output_type": "stream",
     "text": [
      "Epoch  69 , loss 0.4273547872024424\n",
      "Epoch  70 , loss 0.43720481617777956\n"
     ]
    },
    {
     "name": "stderr",
     "output_type": "stream",
     "text": [
      "\r",
      "Iterations:  24%|████████                          | 71/300 [01:14<04:07,  1.08s/it]"
     ]
    },
    {
     "name": "stdout",
     "output_type": "stream",
     "text": [
      "Epoch:  70\n",
      "t_loss:  0.43720481617777956 , v_loss:  0.5953057010968527\n",
      "t_acc:  0.6974789915966386 , v_acc:  0.6956521739130435\n",
      "t_recall:  0.5065178902293408 , v_recall:  0.51\n",
      "t_prec:  0.6491988689915174 , v_prec:  0.846875\n",
      "t_f:  0.428156146179402 , v_f:  0.42920193907821425\n",
      "////////\n"
     ]
    },
    {
     "name": "stderr",
     "output_type": "stream",
     "text": [
      "\r",
      "Iterations:  24%|████████▏                         | 72/300 [01:14<03:47,  1.00it/s]"
     ]
    },
    {
     "name": "stdout",
     "output_type": "stream",
     "text": [
      "Epoch  71 , loss 0.4260518013262281\n",
      "Epoch  72 , loss 0.4260376948936313\n"
     ]
    },
    {
     "name": "stderr",
     "output_type": "stream",
     "text": [
      "\r",
      "Iterations:  24%|████████▎                         | 73/300 [01:16<04:12,  1.11s/it]"
     ]
    },
    {
     "name": "stdout",
     "output_type": "stream",
     "text": [
      "Epoch:  72\n",
      "t_loss:  0.4260376948936313 , v_loss:  0.5922330617904663\n",
      "t_acc:  0.6974789915966386 , v_acc:  0.7018633540372671\n",
      "t_recall:  0.5079555592154925 , v_recall:  0.52\n",
      "t_prec:  0.6370115033091711 , v_prec:  0.8490566037735849\n",
      "t_f:  0.43272645633043094 , v_f:  0.44957264957264953\n",
      "////////\n"
     ]
    },
    {
     "name": "stderr",
     "output_type": "stream",
     "text": [
      "\r",
      "Iterations:  25%|████████▍                         | 74/300 [01:17<03:51,  1.03s/it]"
     ]
    },
    {
     "name": "stdout",
     "output_type": "stream",
     "text": [
      "Epoch  73 , loss 0.42634224015123706\n",
      "Epoch  74 , loss 0.4232084242736592\n"
     ]
    },
    {
     "name": "stderr",
     "output_type": "stream",
     "text": [
      "\r",
      "Iterations:  25%|████████▌                         | 75/300 [01:18<04:14,  1.13s/it]"
     ]
    },
    {
     "name": "stdout",
     "output_type": "stream",
     "text": [
      "Epoch:  74\n",
      "t_loss:  0.4232084242736592 , v_loss:  0.5912150243918101\n",
      "t_acc:  0.7012138188608776 , v_acc:  0.7080745341614907\n",
      "t_recall:  0.5123653257572638 , v_recall:  0.53\n",
      "t_prec:  0.7129569807752916 , v_prec:  0.8512658227848101\n",
      "t_f:  0.4397298334127713 , v_f:  0.4692431787893666\n",
      "////////\n"
     ]
    },
    {
     "name": "stderr",
     "output_type": "stream",
     "text": [
      "\r",
      "Iterations:  25%|████████▌                         | 76/300 [01:19<03:58,  1.06s/it]"
     ]
    },
    {
     "name": "stdout",
     "output_type": "stream",
     "text": [
      "Epoch  75 , loss 0.4271867316143185\n",
      "Epoch  76 , loss 0.4190290877047707\n"
     ]
    },
    {
     "name": "stderr",
     "output_type": "stream",
     "text": [
      "\r",
      "Iterations:  26%|████████▋                         | 77/300 [01:20<04:26,  1.19s/it]"
     ]
    },
    {
     "name": "stdout",
     "output_type": "stream",
     "text": [
      "Epoch:  76\n",
      "t_loss:  0.4190290877047707 , v_loss:  0.587140291929245\n",
      "t_acc:  0.6984126984126984 , v_acc:  0.7204968944099379\n",
      "t_recall:  0.5094893015467808 , v_recall:  0.55\n",
      "t_prec:  0.6521678526887242 , v_prec:  0.8557692307692308\n",
      "t_f:  0.4358260072247829 , v_f:  0.5066394279877425\n",
      "////////\n"
     ]
    },
    {
     "name": "stderr",
     "output_type": "stream",
     "text": [
      "\r",
      "Iterations:  26%|████████▊                         | 78/300 [01:21<04:10,  1.13s/it]"
     ]
    },
    {
     "name": "stdout",
     "output_type": "stream",
     "text": [
      "Epoch  77 , loss 0.4272329859873828\n",
      "Epoch  78 , loss 0.42649835289693344\n"
     ]
    },
    {
     "name": "stderr",
     "output_type": "stream",
     "text": [
      "\r",
      "Iterations:  26%|████████▉                         | 79/300 [01:23<04:31,  1.23s/it]"
     ]
    },
    {
     "name": "stdout",
     "output_type": "stream",
     "text": [
      "Epoch:  78\n",
      "t_loss:  0.42649835289693344 , v_loss:  0.5849880774815878\n",
      "t_acc:  0.7015250544662309 , v_acc:  0.7204968944099379\n",
      "t_recall:  0.5128765732010266 , v_recall:  0.55\n",
      "t_prec:  0.716421123858149 , v_prec:  0.8557692307692308\n",
      "t_f:  0.44075928906173856 , v_f:  0.5066394279877425\n",
      "////////\n"
     ]
    },
    {
     "name": "stderr",
     "output_type": "stream",
     "text": [
      "\r",
      "Iterations:  27%|█████████                         | 80/300 [01:24<04:16,  1.16s/it]"
     ]
    },
    {
     "name": "stdout",
     "output_type": "stream",
     "text": [
      "Epoch  79 , loss 0.42700520683737364\n",
      "Epoch  80 , loss 0.42189473030613917\n"
     ]
    },
    {
     "name": "stderr",
     "output_type": "stream",
     "text": [
      "\r",
      "Iterations:  27%|█████████▏                        | 81/300 [01:25<04:31,  1.24s/it]"
     ]
    },
    {
     "name": "stdout",
     "output_type": "stream",
     "text": [
      "Epoch:  80\n",
      "t_loss:  0.42189473030613917 , v_loss:  0.5835675845543543\n",
      "t_acc:  0.7005913476501712 , v_acc:  0.7204968944099379\n",
      "t_recall:  0.5136431012475811 , v_recall:  0.55\n",
      "t_prec:  0.6748179803735359 , v_prec:  0.8557692307692308\n",
      "t_f:  0.4447415733243656 , v_f:  0.5066394279877425\n",
      "////////\n"
     ]
    },
    {
     "name": "stderr",
     "output_type": "stream",
     "text": [
      "\r",
      "Iterations:  27%|█████████▎                        | 82/300 [01:26<04:07,  1.13s/it]"
     ]
    },
    {
     "name": "stdout",
     "output_type": "stream",
     "text": [
      "Epoch  81 , loss 0.4243274851172578\n",
      "Epoch  82 , loss 0.418639121686711\n"
     ]
    },
    {
     "name": "stderr",
     "output_type": "stream",
     "text": [
      "\r",
      "Iterations:  28%|█████████▍                        | 83/300 [01:27<04:20,  1.20s/it]"
     ]
    },
    {
     "name": "stdout",
     "output_type": "stream",
     "text": [
      "Epoch:  82\n",
      "t_loss:  0.418639121686711 , v_loss:  0.5799657106399536\n",
      "t_acc:  0.7015250544662309 , v_acc:  0.7204968944099379\n",
      "t_recall:  0.5151768435788694 , v_recall:  0.55\n",
      "t_prec:  0.6844106463878327 , v_prec:  0.8557692307692308\n",
      "t_f:  0.44777043865379496 , v_f:  0.5066394279877425\n",
      "////////\n"
     ]
    },
    {
     "name": "stderr",
     "output_type": "stream",
     "text": [
      "\r",
      "Iterations:  28%|█████████▌                        | 84/300 [01:28<03:53,  1.08s/it]"
     ]
    },
    {
     "name": "stdout",
     "output_type": "stream",
     "text": [
      "Epoch  83 , loss 0.4224657387125726\n",
      "Epoch  84 , loss 0.4202461961437674\n"
     ]
    },
    {
     "name": "stderr",
     "output_type": "stream",
     "text": [
      "\r",
      "Iterations:  28%|█████████▋                        | 85/300 [01:30<04:03,  1.13s/it]"
     ]
    },
    {
     "name": "stdout",
     "output_type": "stream",
     "text": [
      "Epoch:  84\n",
      "t_loss:  0.4202461961437674 , v_loss:  0.5799121459325155\n",
      "t_acc:  0.7037037037037037 , v_acc:  0.7204968944099379\n",
      "t_recall:  0.5176054404962874 , v_recall:  0.55\n",
      "t_prec:  0.7176710484637314 , v_prec:  0.8557692307692308\n",
      "t_f:  0.4513729057734361 , v_f:  0.5066394279877425\n",
      "////////\n"
     ]
    },
    {
     "name": "stderr",
     "output_type": "stream",
     "text": [
      "\r",
      "Iterations:  29%|█████████▋                        | 86/300 [01:30<03:36,  1.01s/it]"
     ]
    },
    {
     "name": "stdout",
     "output_type": "stream",
     "text": [
      "Epoch  85 , loss 0.43287794204319224\n",
      "Epoch  86 , loss 0.4238993204107471\n"
     ]
    },
    {
     "name": "stderr",
     "output_type": "stream",
     "text": [
      "\r",
      "Iterations:  29%|█████████▊                        | 87/300 [01:32<04:01,  1.13s/it]"
     ]
    },
    {
     "name": "stdout",
     "output_type": "stream",
     "text": [
      "Epoch:  86\n",
      "t_loss:  0.4238993204107471 , v_loss:  0.5779557277758917\n",
      "t_acc:  0.6999688764394647 , v_acc:  0.7267080745341615\n",
      "t_recall:  0.5129081401572858 , v_recall:  0.56\n",
      "t_prec:  0.665400443178221 , v_prec:  0.8580645161290323\n",
      "t_f:  0.44358718990092355 , v_f:  0.5244360902255639\n",
      "////////\n"
     ]
    },
    {
     "name": "stderr",
     "output_type": "stream",
     "text": [
      "\r",
      "Iterations:  29%|█████████▉                        | 88/300 [01:32<03:39,  1.04s/it]"
     ]
    },
    {
     "name": "stdout",
     "output_type": "stream",
     "text": [
      "Epoch  87 , loss 0.42333157389771703\n",
      "Epoch  88 , loss 0.4258541663487752\n"
     ]
    },
    {
     "name": "stderr",
     "output_type": "stream",
     "text": [
      "\r",
      "Iterations:  30%|██████████                        | 89/300 [01:34<04:03,  1.16s/it]"
     ]
    },
    {
     "name": "stdout",
     "output_type": "stream",
     "text": [
      "Epoch:  88\n",
      "t_loss:  0.4258541663487752 , v_loss:  0.5767150372266769\n",
      "t_acc:  0.7015250544662309 , v_acc:  0.7391304347826086\n",
      "t_recall:  0.5169020463622515 , v_recall:  0.58\n",
      "t_prec:  0.6703036840358447 , v_prec:  0.8627450980392157\n",
      "t_f:  0.45288186947968617 , v_f:  0.5583855799373041\n",
      "////////\n"
     ]
    },
    {
     "name": "stderr",
     "output_type": "stream",
     "text": [
      "\r",
      "Iterations:  30%|██████████▏                       | 90/300 [01:35<03:35,  1.03s/it]"
     ]
    },
    {
     "name": "stdout",
     "output_type": "stream",
     "text": [
      "Epoch  89 , loss 0.4253376400938221\n",
      "Epoch  90 , loss 0.42376508198532403\n"
     ]
    },
    {
     "name": "stderr",
     "output_type": "stream",
     "text": [
      "\r",
      "Iterations:  30%|██████████▎                       | 91/300 [01:36<03:59,  1.14s/it]"
     ]
    },
    {
     "name": "stdout",
     "output_type": "stream",
     "text": [
      "Epoch:  90\n",
      "t_loss:  0.42376508198532403 , v_loss:  0.5750081390142441\n",
      "t_acc:  0.7052598817304699 , v_acc:  0.7329192546583851\n",
      "t_recall:  0.5187240087289496 , v_recall:  0.5754954954954955\n",
      "t_prec:  0.7537950664136622 , v_prec:  0.8062865497076024\n",
      "t_f:  0.4521105829769373 , v_f:  0.5538441709093253\n",
      "////////\n"
     ]
    },
    {
     "name": "stderr",
     "output_type": "stream",
     "text": [
      "\r",
      "Iterations:  31%|██████████▍                       | 92/300 [01:37<03:35,  1.04s/it]"
     ]
    },
    {
     "name": "stdout",
     "output_type": "stream",
     "text": [
      "Epoch  91 , loss 0.42317474122140925\n",
      "Epoch  92 , loss 0.42523753233984407\n"
     ]
    },
    {
     "name": "stderr",
     "output_type": "stream",
     "text": [
      "\r",
      "Iterations:  31%|██████████▌                       | 93/300 [01:38<03:49,  1.11s/it]"
     ]
    },
    {
     "name": "stdout",
     "output_type": "stream",
     "text": [
      "Epoch:  92\n",
      "t_loss:  0.42523753233984407 , v_loss:  0.5728190690279007\n",
      "t_acc:  0.7037037037037037 , v_acc:  0.7391304347826086\n",
      "t_recall:  0.5184680418879785 , v_recall:  0.5854954954954955\n",
      "t_prec:  0.7066317912388285 , v_prec:  0.8142384105960265\n",
      "t_f:  0.45393041789254196 , v_f:  0.5698473282442748\n",
      "////////\n"
     ]
    },
    {
     "name": "stderr",
     "output_type": "stream",
     "text": [
      "\r",
      "Iterations:  31%|██████████▋                       | 94/300 [01:39<03:35,  1.05s/it]"
     ]
    },
    {
     "name": "stdout",
     "output_type": "stream",
     "text": [
      "Epoch  93 , loss 0.4210168660855761\n",
      "Epoch  94 , loss 0.41995834719900993\n"
     ]
    },
    {
     "name": "stderr",
     "output_type": "stream",
     "text": [
      "\r",
      "Iterations:  32%|██████████▊                       | 95/300 [01:40<03:51,  1.13s/it]"
     ]
    },
    {
     "name": "stdout",
     "output_type": "stream",
     "text": [
      "Epoch:  94\n",
      "t_loss:  0.41995834719900993 , v_loss:  0.5730272829532623\n",
      "t_acc:  0.7046374105197635 , v_acc:  0.7391304347826086\n",
      "t_recall:  0.5194267166248061 , v_recall:  0.5854954954954955\n",
      "t_prec:  0.7208511899808605 , v_prec:  0.8142384105960265\n",
      "t_f:  0.45522845519986893 , v_f:  0.5698473282442748\n",
      "////////\n"
     ]
    },
    {
     "name": "stderr",
     "output_type": "stream",
     "text": [
      "\r",
      "Iterations:  32%|██████████▉                       | 96/300 [01:41<03:42,  1.09s/it]"
     ]
    },
    {
     "name": "stdout",
     "output_type": "stream",
     "text": [
      "Epoch  95 , loss 0.427788353433796\n",
      "Epoch  96 , loss 0.4195734396869061\n"
     ]
    },
    {
     "name": "stderr",
     "output_type": "stream",
     "text": [
      "\r",
      "Iterations:  32%|██████████▉                       | 97/300 [01:43<03:51,  1.14s/it]"
     ]
    },
    {
     "name": "stdout",
     "output_type": "stream",
     "text": [
      "Epoch:  96\n",
      "t_loss:  0.4195734396869061 , v_loss:  0.5739401678244272\n",
      "t_acc:  0.7030812324929971 , v_acc:  0.7453416149068323\n",
      "t_recall:  0.516582945608762 , v_recall:  0.5954954954954955\n",
      "t_prec:  0.7124881291547958 , v_prec:  0.8212121212121212\n",
      "t_f:  0.4493591070181338 , v_f:  0.5853903649268262\n",
      "////////\n"
     ]
    },
    {
     "name": "stderr",
     "output_type": "stream",
     "text": [
      "\r",
      "Iterations:  33%|███████████                       | 98/300 [01:44<03:35,  1.07s/it]"
     ]
    },
    {
     "name": "stdout",
     "output_type": "stream",
     "text": [
      "Epoch  97 , loss 0.41917478921366674\n",
      "Epoch  98 , loss 0.41748643213627384\n"
     ]
    },
    {
     "name": "stderr",
     "output_type": "stream",
     "text": [
      "\r",
      "Iterations:  33%|███████████▏                      | 99/300 [01:45<03:48,  1.14s/it]"
     ]
    },
    {
     "name": "stdout",
     "output_type": "stream",
     "text": [
      "Epoch:  98\n",
      "t_loss:  0.41748643213627384 , v_loss:  0.571019783616066\n",
      "t_acc:  0.7049486461251168 , v_acc:  0.7453416149068323\n",
      "t_recall:  0.5185002950824172 , v_recall:  0.5954954954954955\n",
      "t_prec:  0.7460181782785389 , v_prec:  0.8212121212121212\n",
      "t_f:  0.45196297868971613 , v_f:  0.5853903649268262\n",
      "////////\n"
     ]
    },
    {
     "name": "stderr",
     "output_type": "stream",
     "text": [
      "\r",
      "Iterations:  33%|███████████                      | 100/300 [01:46<03:33,  1.07s/it]"
     ]
    },
    {
     "name": "stdout",
     "output_type": "stream",
     "text": [
      "Epoch  99 , loss 0.4194688598314921\n",
      "Epoch  100 , loss 0.4182594149720435\n"
     ]
    },
    {
     "name": "stderr",
     "output_type": "stream",
     "text": [
      "\r",
      "Iterations:  34%|███████████                      | 101/300 [01:47<03:44,  1.13s/it]"
     ]
    },
    {
     "name": "stdout",
     "output_type": "stream",
     "text": [
      "Epoch:  100\n",
      "t_loss:  0.4182594149720435 , v_loss:  0.5712258964776993\n",
      "t_acc:  0.708994708994709 , v_acc:  0.7453416149068323\n",
      "t_recall:  0.5268717146347154 , v_recall:  0.5954954954954955\n",
      "t_prec:  0.7432455936920223 , v_prec:  0.8212121212121212\n",
      "t_f:  0.4698305186445374 , v_f:  0.5853903649268262\n",
      "////////\n"
     ]
    },
    {
     "name": "stderr",
     "output_type": "stream",
     "text": [
      "\r",
      "Iterations:  34%|███████████▏                     | 102/300 [01:48<03:25,  1.04s/it]"
     ]
    },
    {
     "name": "stdout",
     "output_type": "stream",
     "text": [
      "Epoch  101 , loss 0.41944953098016624\n",
      "Epoch  102 , loss 0.41928589694640217\n"
     ]
    },
    {
     "name": "stderr",
     "output_type": "stream",
     "text": [
      "\r",
      "Iterations:  34%|███████████▎                     | 103/300 [01:49<03:38,  1.11s/it]"
     ]
    },
    {
     "name": "stdout",
     "output_type": "stream",
     "text": [
      "Epoch:  102\n",
      "t_loss:  0.41928589694640217 , v_loss:  0.5715807676315308\n",
      "t_acc:  0.7024587612822907 , v_acc:  0.7329192546583851\n",
      "t_recall:  0.5172856535046183 , v_recall:  0.5809909909909909\n",
      "t_prec:  0.6874776714830104 , v_prec:  0.7724242424242425\n",
      "t_f:  0.4524852195885727 , v_f:  0.5651655046793542\n",
      "////////\n"
     ]
    },
    {
     "name": "stderr",
     "output_type": "stream",
     "text": [
      "\r",
      "Iterations:  35%|███████████▍                     | 104/300 [01:50<03:19,  1.02s/it]"
     ]
    },
    {
     "name": "stdout",
     "output_type": "stream",
     "text": [
      "Epoch  103 , loss 0.4157625594559838\n",
      "Epoch  104 , loss 0.42122387652303656\n"
     ]
    },
    {
     "name": "stderr",
     "output_type": "stream",
     "text": [
      "\r",
      "Iterations:  35%|███████████▌                     | 105/300 [01:51<03:35,  1.10s/it]"
     ]
    },
    {
     "name": "stdout",
     "output_type": "stream",
     "text": [
      "Epoch:  104\n",
      "t_loss:  0.42122387652303656 , v_loss:  0.5713197340567907\n",
      "t_acc:  0.7052598817304699 , v_acc:  0.7329192546583851\n",
      "t_recall:  0.5201616777151014 , v_recall:  0.5809909909909909\n",
      "t_prec:  0.7292065407339602 , v_prec:  0.7724242424242425\n",
      "t_f:  0.4563765511846953 , v_f:  0.5651655046793542\n",
      "////////\n"
     ]
    },
    {
     "name": "stderr",
     "output_type": "stream",
     "text": [
      "\r",
      "Iterations:  35%|███████████▋                     | 106/300 [01:52<03:13,  1.01it/s]"
     ]
    },
    {
     "name": "stdout",
     "output_type": "stream",
     "text": [
      "Epoch  105 , loss 0.41630619705892075\n",
      "Epoch  106 , loss 0.41657571465361354\n"
     ]
    },
    {
     "name": "stderr",
     "output_type": "stream",
     "text": [
      "\r",
      "Iterations:  36%|███████████▊                     | 107/300 [01:53<03:29,  1.09s/it]"
     ]
    },
    {
     "name": "stdout",
     "output_type": "stream",
     "text": [
      "Epoch:  106\n",
      "t_loss:  0.41657571465361354 , v_loss:  0.5696563820044199\n",
      "t_acc:  0.7049486461251168 , v_acc:  0.7391304347826086\n",
      "t_recall:  0.5213756330547206 , v_recall:  0.590990990990991\n",
      "t_prec:  0.7066021967526266 , v_prec:  0.7824384787472036\n",
      "t_f:  0.4604017857142857 , v_f:  0.5805210918114144\n",
      "////////\n"
     ]
    },
    {
     "name": "stderr",
     "output_type": "stream",
     "text": [
      "\r",
      "Iterations:  36%|███████████▉                     | 108/300 [01:54<03:11,  1.00it/s]"
     ]
    },
    {
     "name": "stdout",
     "output_type": "stream",
     "text": [
      "Epoch  107 , loss 0.421138021291471\n",
      "Epoch  108 , loss 0.4219270792661929\n"
     ]
    },
    {
     "name": "stderr",
     "output_type": "stream",
     "text": [
      "\r",
      "Iterations:  36%|███████████▉                     | 109/300 [01:55<03:27,  1.09s/it]"
     ]
    },
    {
     "name": "stdout",
     "output_type": "stream",
     "text": [
      "Epoch:  108\n",
      "t_loss:  0.4219270792661929 , v_loss:  0.5695656538009644\n",
      "t_acc:  0.7018362900715842 , v_acc:  0.7391304347826086\n",
      "t_recall:  0.5142504220364804 , v_recall:  0.590990990990991\n",
      "t_prec:  0.7050355450236967 , v_prec:  0.7824384787472036\n",
      "t_f:  0.44443469785575046 , v_f:  0.5805210918114144\n",
      "////////\n"
     ]
    },
    {
     "name": "stderr",
     "output_type": "stream",
     "text": [
      "\r",
      "Iterations:  37%|████████████                     | 110/300 [01:56<03:14,  1.02s/it]"
     ]
    },
    {
     "name": "stdout",
     "output_type": "stream",
     "text": [
      "Epoch  109 , loss 0.4236162386688532\n",
      "Epoch  110 , loss 0.42387468908347337\n"
     ]
    }
   ],
   "source": [
    "from utilities.userfold_framework import *\n",
    "from utilities.EEG_func import *\n",
    "import Models.model_func as Model_Func\n",
    "import numpy as np\n",
    "import pandas as pd\n",
    "import matplotlib.pyplot as plt\n",
    "import seaborn as sns\n",
    "from typing import List\n",
    "from torcheeg.models import EEGNet\n",
    "# import Models.model_func as Model_Func\n",
    "from torch import nn\n",
    "from Models.multi_models import *\n",
    "\n",
    "DEVICE= torch.device(\"cuda\") if torch.cuda.is_available() else torch.device(\"cpu\")\n",
    "\n",
    "learning_rate = 0.00005\n",
    "batch_size = 64\n",
    "n_epochs = 300\n",
    "transpose_channels=True\n",
    "participants_dictionary=[]\n",
    "# participants_online_dictionary=[]\n",
    "participants_grads_dictionary={}\n",
    "b_acc_list=[]\n",
    "c0_acc_list=[]\n",
    "c1_acc_list=[]\n",
    "\n",
    "# EPOCH=[\n",
    "    \n",
    "# ]\n",
    "\n",
    "for i in range(len(participants)):\n",
    "\n",
    "    train_dataloader, val_dataloader, classes, input_dim, class_ratio= user_fold_load(i,\n",
    "                                                                                      raw_user_fold,\n",
    "                                                                                      participants,\n",
    "                                                                                      batch_size=batch_size,\n",
    "                                                                                      transpose_channels=transpose_channels)\n",
    "\n",
    "    classifier= EEGNet(\n",
    "        chunk_size=input_dim[1],\n",
    "        num_electrodes=input_dim[0],\n",
    "        num_classes=classes,\n",
    "        kernel_1= 32,\n",
    "        kernel_2=32,\n",
    "        F1=8,\n",
    "        F2=16,\n",
    "        dropout=0.5\n",
    "    ).to(DEVICE)\n",
    "    \n",
    "#     resnet = ResNetPlus(input_dim[0], classes, bn_1st=False)\n",
    "#     softmax_activation = nn.LogSoftmax(dim=1)\n",
    "#     classifier = nn.Sequential(resnet, softmax_activation).to(DEVICE)\n",
    "\n",
    "    \n",
    "#     classifier = DataGliderBasic_Model(DEVICE, input_dim, classes)\n",
    "#     classifier.to(DEVICE)\n",
    "    \n",
    "#     optimizer= torch.optim.RMSprop(classifier.parameters(), lr=learning_rate)\n",
    "    \n",
    "    \n",
    "    criterion= torch.nn.CrossEntropyLoss(weight=torch.tensor(class_ratio, dtype=torch.float).to(DEVICE))\n",
    "#     criterion = nn.NLLLoss(weight=torch.tensor(class_ratio, dtype=torch.float).to(DEVICE))\n",
    "        \n",
    "    saved_dir= \"./EEG/saved_models/Userfold/run2\"\n",
    "    model = EEGNet_IE_HP_Wrapper(DEVICE, classifier, input_dim).to(DEVICE)\n",
    "    optimizer = torch.optim.Adam(model.parameters(), lr = learning_rate)\n",
    "    scheduler= torch.optim.lr_scheduler.ReduceLROnPlateau(optimizer, patience=2)\n",
    "\n",
    "    \n",
    "    train_func= eeg_train\n",
    "    model.training_procedure(iteration=n_epochs,\n",
    "                                    train_dataloader=train_dataloader,\n",
    "                                     val_dataloader=val_dataloader,\n",
    "                                     print_cycle=2,\n",
    "                                     path=f\"./dictionary/intermdiate_dicts\",\n",
    "                                     loss_func=criterion,\n",
    "                                     optimiser=optimizer, #scheduler=scheduler,\n",
    "                                     train_func=train_func\n",
    "                                    )\n",
    "    if model.epoch == n_epochs+1:\n",
    "        EPOCH= n_epochs\n",
    "    else:\n",
    "        EPOCH= model.epoch\n",
    "    \n",
    "    torch.save(model.state_dict(), \n",
    "           os.path.join(\n",
    "               saved_dir, f\"Userfold-{participants[i]}-EEGNet-Weight_Multivariate-e{EPOCH}.pt\"\n",
    "           )\n",
    "    )\n",
    "\n",
    "    pickle.dump( model.return_IE_weights(), \n",
    "                open(f\"{saved_dir}/Userfold-{participants[i]}-EEGNet-Weight_Multivariate-w-e{EPOCH}.pkl\", \"wb\") \n",
    "               )    \n",
    "\n",
    "# OR\n",
    "#     model.load_state_dict(\n",
    "#     torch.load(\n",
    "#         open(\n",
    "#             os.path.join(\n",
    "#                 saved_dir, f\"Userfold-{participants[i]}-EEGNet-Weight_Multivariate-e{n_epochs}.pt\"\n",
    "#             ), \"rb\"\n",
    "#         )\n",
    "#               )\n",
    "#     )\n",
    "    \n",
    "    prediction, dictionary= model.prediction_procedure(val_dataloader, dict_flag=True)\n",
    "    \n",
    "    ys= np.concatenate([y.detach().cpu().numpy() for x, y in val_dataloader])\n",
    "    \n",
    "    c0_acc, c1_acc, b_acc= calculate_accuracy(ys, prediction)\n",
    "    print(\"c0_acc\", c0_acc, \", c1_acc\", c1_acc, \", b_acc\", b_acc)\n",
    "    b_acc_list.append(b_acc)\n",
    "    c0_acc_list.append(c0_acc)\n",
    "    c1_acc_list.append(c1_acc)\n",
    "    participants_dictionary.append(dictionary)\n",
    "    \n",
    "\n",
    "tmp=[]\n",
    "for i, dictionary in enumerate(participants_dictionary):\n",
    "    print(f\"User {participants[i]} f1: {dictionary['weighted avg']['f1-score']} acc: {dictionary['accuracy']}\")\n",
    "    print(f\" c0: {c0_acc_list[i]} c1: {c1_acc_list[i]} bacc: {b_acc_list[i]}\")\n",
    "    tmp.append(dictionary['weighted avg']['f1-score'])\n",
    "\n",
    "print(f\"average {np.mean(tmp)}\")\n",
    "print()\n",
    "print(np.array(b_acc_list).mean())\n",
    "print(np.array(c1_acc_list).mean())\n",
    "print(np.array(c0_acc_list).mean())\n"
   ]
  },
  {
   "cell_type": "code",
   "execution_count": 6,
   "id": "eb9de653",
   "metadata": {},
   "outputs": [
    {
     "name": "stdout",
     "output_type": "stream",
     "text": [
      "     accuracy  f1-score\n",
      "S01  0.782609  0.754192\n",
      "S02  0.720238  0.646796\n",
      "S03  0.676136  0.610475\n",
      "S04  0.711230  0.632162\n",
      "S05  0.698795  0.624454\n",
      "S06  0.742857  0.683922\n",
      "S07  0.696133  0.662681\n",
      "S08  0.686486  0.581886\n",
      "S09  0.728723  0.671562\n",
      "S10  0.739362  0.673176\n",
      "S11  0.730539  0.686856\n",
      "S12  0.795455  0.772875\n",
      "S13  0.737430  0.685257\n",
      "S14  0.685083  0.610065\n",
      "S15  0.699454  0.606876\n",
      "S16  0.710383  0.600574\n",
      "S17  0.710843  0.674615\n",
      "S19  0.684783  0.591476\n",
      "S20  0.738889  0.668420\n"
     ]
    },
    {
     "data": {
      "image/png": "[encoded data removed]",
      "text/plain": [
       "<Figure size 432x288 with 2 Axes>"
      ]
     },
     "metadata": {
      "needs_background": "light"
     },
     "output_type": "display_data"
    },
    {
     "name": "stdout",
     "output_type": "stream",
     "text": [
      "     class0 f1-score  class1 f1-score\n",
      "S01         0.859438         0.520548\n",
      "S02         0.827839         0.253968\n",
      "S03         0.798587         0.173913\n",
      "S04         0.824675         0.181818\n",
      "S05         0.816176         0.166667\n",
      "S06         0.843206         0.285714\n",
      "S07         0.801444         0.352941\n",
      "S08         0.810458         0.093750\n",
      "S09         0.832787         0.281690\n",
      "S10         0.839344         0.309859\n",
      "S11         0.831461         0.328358\n",
      "S12         0.866667         0.560976\n",
      "S13         0.835088         0.356164\n",
      "S14         0.805461         0.173913\n",
      "S15         0.818482         0.126984\n",
      "S16         0.828479         0.070175\n",
      "S17         0.813953         0.351351\n",
      "S19         0.807947         0.121212\n",
      "S20         0.840678         0.276923\n"
     ]
    },
    {
     "data": {
      "image/png": "[encoded data removed]",
      "text/plain": [
       "<Figure size 432x288 with 2 Axes>"
      ]
     },
     "metadata": {
      "needs_background": "light"
     },
     "output_type": "display_data"
    }
   ],
   "source": [
    "userfold_results_summary(participants_dictionary, participants)\n",
    "userfold_classwise_results_summary(participants_dictionary, participants)\n"
   ]
  },
  {
   "cell_type": "code",
   "execution_count": 7,
   "id": "4526b930",
   "metadata": {},
   "outputs": [],
   "source": [
    "start=-0.5\n",
    "step=1.5/(188-1)\n",
    "timestep_labels=[]\n",
    "for i in range(input_dim[1]):\n",
    "    timestep_labels.append(round(start+step*i,3))\n",
    "    \n",
    "# timestep_labels"
   ]
  },
  {
   "cell_type": "code",
   "execution_count": 8,
   "id": "336eed10",
   "metadata": {},
   "outputs": [],
   "source": [
    "# channel_names=[i for i in range(input_dim[0])]\n",
    "channel_names=[\"AFz\",\"F3\",\"F1\",\"Fz\",\"F2\",\"F4\",\"FC5\",\"FC3\",\"FC1\",\"FCz\",\"FC2\",\n",
    "               \"FC4\",\"FC6\",\"C5\",\"C3\",\"C1\",\"Cz\",\"C2\",\"C4\",\"C6\",\"CP5\",\"CP3\",\n",
    "               \"CP1\",\"CPz\",\"CP2\",\"CP4\",\"CP6\",\"P3\",\"P1\",\"Pz\",\"P2\",\"P4\"]"
   ]
  },
  {
   "cell_type": "code",
   "execution_count": 9,
   "id": "814b153b",
   "metadata": {},
   "outputs": [],
   "source": [
    "from sklearn.preprocessing import MinMaxScaler\n",
    "\n",
    "participants_w_list=[]\n",
    "\n",
    "for i in range(len(participants)):\n",
    "\n",
    "    w= pickle.load(\n",
    "        open(f\"{saved_dir}/Userfold-{participants[i]}-EEGNet-Weight_Multivariate-w-e{EPOCH}.pkl\", \"rb\") \n",
    "                    )  \n",
    "    participants_w_list.append(w)\n",
    "    \n",
    "avg_w= np.array(participants_w_list).mean(axis=0)\n",
    "# scaler= MinMaxScaler()\n",
    "# scaled_avg_w= scaler.fit_transform(avg_w)"
   ]
  },
  {
   "cell_type": "code",
   "execution_count": 17,
   "id": "7f39484f",
   "metadata": {},
   "outputs": [
    {
     "data": {
      "image/png": "[encoded data removed]",
      "text/plain": [
       "<Figure size 2880x1440 with 2 Axes>"
      ]
     },
     "metadata": {
      "needs_background": "light"
     },
     "output_type": "display_data"
    }
   ],
   "source": [
    "# fig, ax= plt.subplots(3,1)\n",
    "fig =plt.figure()\n",
    "sns.heatmap(pd.DataFrame(avg_w), \n",
    "            xticklabels=timestep_labels,\n",
    "            yticklabels=channel_names, \n",
    "            annot=False, cbar_kws={\"pad\":0.02})\n",
    "\n",
    "# ax[0].set_title(\"AUC\")\n",
    "\n",
    "# sns.heatmap(pd.DataFrame(avg_grad[\"ROC\"]), \n",
    "#             xticklabels=timestep_labels,\n",
    "#             yticklabels=channel_names, ax=ax[1],\n",
    "#             annot=False, cbar_kws={\"pad\":0.02})\n",
    "# ax[1].set_title(\"ROC\")\n",
    "\n",
    "# sns.heatmap(pd.DataFrame(avg_grad[\"STD\"]), \n",
    "#             xticklabels=timestep_labels,\n",
    "#             yticklabels=channel_names, ax=ax[2],\n",
    "#             annot=False, cbar_kws={\"pad\":0.02})\n",
    "# ax[2].set_title(\"STD\")\n",
    "\n",
    "# plt.suptitle(\"Relative Importance Estimate of Time Series\")\n",
    "fig.set_figwidth(40)\n",
    "fig.set_figheight(20)\n",
    "plt.tight_layout()"
   ]
  },
  {
   "cell_type": "code",
   "execution_count": 10,
   "id": "f982b688",
   "metadata": {},
   "outputs": [
    {
     "data": {
      "image/png": "[encoded data removed]",
      "text/plain": [
       "<Figure size 576x432 with 1 Axes>"
      ]
     },
     "metadata": {
      "needs_background": "light"
     },
     "output_type": "display_data"
    }
   ],
   "source": [
    "import matplotlib.pyplot as plt\n",
    "import matplotlib\n",
    "from sklearn.preprocessing import MinMaxScaler\n",
    "\n",
    "plt.figure(figsize=(8,6))\n",
    "\n",
    "\n",
    "scaler= MinMaxScaler()\n",
    "scaled_avg_w= scaler.fit_transform(avg_w.sum(0).reshape(-1,1))\n",
    "df= pd.DataFrame(scaled_avg_w)\n",
    "# df.index= channel_names\n",
    "# df.columns=timestep_labels\n",
    "\n",
    "\n",
    "plt.plot(df)\n",
    "# plt.legend(methods)\n",
    "plt.xlabel(\"Timesteps\")\n",
    "plt.axvspan(107,121, color=\"green\", alpha=0.2)\n",
    "plt.axvspan(112,128, color=\"red\", alpha=0.2)\n",
    "plt.axvspan(142,150, color=\"red\", alpha=0.2)\n",
    "plt.axvspan(157,159, color=\"red\", alpha=0.2)\n",
    "plt.xticks([0,31,62,93,124,155,187],[-0.5, -0.25, 0, 0.25, 0.5, 0.75, 1.0])\n",
    "plt.ylabel(\"Normalised Importance\")\n",
    "plt.margins(x=0)\n",
    "matplotlib.rcParams.update({\"font.size\":18})\n",
    "plt.tight_layout()\n",
    "#     sns.heatmap(df.sum().to_numpy().reshape(-1,1),annot=True, \n",
    "#                 yticklabels=timestep_labels, ax=ax[i][1],\n",
    "#                 xticklabels=False, cbar_kws={\"pad\":0.02})"
   ]
  },
  {
   "cell_type": "code",
   "execution_count": 11,
   "id": "3db82d36",
   "metadata": {},
   "outputs": [
    {
     "data": {
      "image/png": "[encoded data removed]",
      "text/plain": [
       "<Figure size 432x288 with 2 Axes>"
      ]
     },
     "metadata": {
      "needs_background": "light"
     },
     "output_type": "display_data"
    }
   ],
   "source": [
    "from sklearn.preprocessing import MinMaxScaler\n",
    "import mne\n",
    "info= mne.create_info(channel_names, sfreq=500, ch_types=32*[\"eeg\"])\n",
    "info.set_montage(\"standard_1020\")\n",
    "\n",
    "fig= plt.figure()\n",
    "ax= plt.axes((0,0,1.5,1.5))\n",
    "\n",
    "scaler= MinMaxScaler()\n",
    "scaled_avg_w= scaler.fit_transform(avg_w.sum(1).reshape(-1,1))\n",
    "# df= pd.DataFrame(scaled_avg_w.reshape(-1))\n",
    "\n",
    "im, _= mne.viz.plot_topomap(\n",
    "    scaled_avg_w.reshape(-1),\n",
    "    info,\n",
    "    ch_type= \"eeg\",\n",
    "    sensors=True,\n",
    "    names=channel_names,\n",
    "    cmap=\"Blues\",\n",
    "    axes=ax,\n",
    "    show=False,\n",
    "    extrapolate=\"local\"\n",
    "#     sphere=\"eeglab\"\n",
    ")\n",
    "fig.add_axes(ax)\n",
    "cbar_ax= fig.add_axes([1.3,0.2, 0.1,1])\n",
    "clb= fig.colorbar(im, cax=cbar_ax)\n",
    "clb.set_label(\"Importance Estimate\", rotation=270,labelpad=20)\n",
    "\n",
    "for tt in plt.findobj(fig, matplotlib.text.Text):\n",
    "    if tt.get_text() in channel_names:\n",
    "        tt.set_fontsize(14)"
   ]
  }
 ],
 "metadata": {
  "kernelspec": {
   "display_name": "Python [conda env:pytorch]",
   "language": "python",
   "name": "conda-env-pytorch-py"
  },
  "language_info": {
   "codemirror_mode": {
    "name": "ipython",
    "version": 3
   },
   "file_extension": ".py",
   "mimetype": "text/x-python",
   "name": "python",
   "nbconvert_exporter": "python",
   "pygments_lexer": "ipython3",
   "version": "3.7.10"
  }
 },
 "nbformat": 4,
 "nbformat_minor": 5
}
